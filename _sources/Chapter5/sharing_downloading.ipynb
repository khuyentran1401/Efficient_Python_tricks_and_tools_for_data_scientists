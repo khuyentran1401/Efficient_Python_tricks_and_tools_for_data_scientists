{
 "cells": [
  {
   "cell_type": "markdown",
   "id": "e9eb325c",
   "metadata": {},
   "source": [
    "## Sharing and Downloading"
   ]
  },
  {
   "cell_type": "markdown",
   "id": "7b328604",
   "metadata": {},
   "source": [
    "This section covers some tools to share and download your data."
   ]
  },
  {
   "cell_type": "markdown",
   "id": "a576034d",
   "metadata": {},
   "source": [
    "### gdown: Download a File from Google Drive in Python"
   ]
  },
  {
   "cell_type": "code",
   "execution_count": null,
   "id": "d8fe219a",
   "metadata": {
    "tags": [
     "hide-cell"
    ]
   },
   "outputs": [],
   "source": [
    "!pip install gdown "
   ]
  },
  {
   "cell_type": "markdown",
   "id": "b22258a9",
   "metadata": {},
   "source": [
    "If you want to download a file from Google Drive in Python, use gdown. All you need to specify is the URL link."
   ]
  },
  {
   "cell_type": "code",
   "execution_count": null,
   "id": "74db5343",
   "metadata": {
    "tags": [
     "hide-output"
    ]
   },
   "outputs": [],
   "source": [
    "import gdown\n",
    "\n",
    "# Format of url: https://drive.google.com/uc?id=YOURFILEID\n",
    "url = \"https://drive.google.com/uc?id=1jI1cmxqnwsmC-vbl8dNY6b4aNBtBbKy3\"\n",
    "output = \"Twitter.zip\"\n",
    "\n",
    "gdown.download(url, output, quiet=False)"
   ]
  },
  {
   "cell_type": "markdown",
   "id": "9e9acaf9",
   "metadata": {},
   "source": [
    "[Link to gdown](https://pypi.org/project/gdown/)."
   ]
  },
  {
   "cell_type": "markdown",
   "id": "7dbb6c09",
   "metadata": {},
   "source": [
    "### pyserde: Effortless Serialization and Deserialization of Dataclass Objects"
   ]
  },
  {
   "cell_type": "code",
   "execution_count": null,
   "id": "bbea6a7f",
   "metadata": {
    "tags": [
     "hide-cell"
    ]
   },
   "outputs": [],
   "source": [
    "!pip install pyserde"
   ]
  },
  {
   "cell_type": "markdown",
   "id": "9a06f7dc",
   "metadata": {},
   "source": [
    "Dataclasses provide a concise syntax for defining data-holding classes. Paired with pyserde, you can easily serialize and deserialize dataclass objects. \n",
    "\n",
    "Serialization converts dataclass data into a serialized format (e.g., JSON, YAML) for easy storage and transmission. Deserialization reconstructs the dataclass object from serialized data."
   ]
  },
  {
   "cell_type": "code",
   "execution_count": null,
   "id": "46384fd9",
   "metadata": {},
   "outputs": [],
   "source": [
    "from dataclasses import dataclass\n",
    "from serde import serde\n",
    "from serde.json import from_json, to_json\n",
    "from serde.yaml import from_yaml, to_yaml\n",
    "\n",
    "\n",
    "@serde\n",
    "@dataclass\n",
    "class User:\n",
    "    name: str\n",
    "    age: int\n",
    "\n",
    "\n",
    "user1 = User(name=\"user1\", age=20)"
   ]
  },
  {
   "cell_type": "code",
   "execution_count": null,
   "id": "81406ab9",
   "metadata": {},
   "outputs": [],
   "source": [
    "print(to_json(user1))"
   ]
  },
  {
   "cell_type": "code",
   "execution_count": null,
   "id": "076d83f8",
   "metadata": {},
   "outputs": [],
   "source": [
    "from_json(User, '{\"name\":\"user1\",\"age\":20}')"
   ]
  },
  {
   "cell_type": "code",
   "execution_count": null,
   "id": "4dc49dfc",
   "metadata": {},
   "outputs": [],
   "source": [
    "print(to_yaml(user1))"
   ]
  },
  {
   "cell_type": "code",
   "execution_count": null,
   "id": "49f5032d",
   "metadata": {},
   "outputs": [],
   "source": [
    "from_yaml(User, \"age: 20\\nname: user1\\n\")"
   ]
  },
  {
   "cell_type": "markdown",
   "id": "62ed6b85",
   "metadata": {},
   "source": [
    "[Link to pyserde](https://github.com/yukinarit/pyserde)."
   ]
  },
  {
   "cell_type": "markdown",
   "id": "e201005c",
   "metadata": {},
   "source": [
    "### ItsDangerous: Safely Pass Trusted Data to Untrusted Environments and Back"
   ]
  },
  {
   "cell_type": "code",
   "execution_count": null,
   "id": "9deded45",
   "metadata": {
    "tags": [
     "hide-cell"
    ]
   },
   "outputs": [],
   "source": [
    "!pip install -U itsdangerous"
   ]
  },
  {
   "cell_type": "markdown",
   "id": "131df744",
   "metadata": {},
   "source": [
    "When passing data between different web requests, there is a risk of malicious code injection.\n",
    "\n",
    "To ensure the safety of passing data to untrusted environments, use ItsDangerous. ItsDangerous adds a unique signature to the data to verify that the data has not been tampered with during transmission."
   ]
  },
  {
   "cell_type": "code",
   "execution_count": null,
   "id": "a80e93b8",
   "metadata": {},
   "outputs": [],
   "source": [
    "from itsdangerous import URLSafeSerializer\n",
    "\n",
    "auth_s = URLSafeSerializer(\"some key\")\n",
    "token = auth_s.dumps({\"id\": 5, \"name\": \"khuyentran\"})\n",
    "token"
   ]
  },
  {
   "cell_type": "code",
   "execution_count": null,
   "id": "801e71fb",
   "metadata": {},
   "outputs": [],
   "source": [
    "# Get the data back from the token using the secret key\n",
    "data = auth_s.loads(token)\n",
    "data[\"name\"]"
   ]
  },
  {
   "cell_type": "markdown",
   "id": "5cce4a5f",
   "metadata": {},
   "source": [
    "[Link to ItsDangerous](https://github.com/pallets/itsdangerous/)."
   ]
  }
 ],
 "metadata": {
  "jupytext": {
   "text_representation": {
    "extension": ".md",
    "format_name": "myst",
    "format_version": 0.13,
    "jupytext_version": "1.16.7"
   }
  },
  "kernelspec": {
   "display_name": "Python 3 (ipykernel)",
   "language": "python",
   "name": "python3"
  },
  "source_map": [
   12,
   16,
   20,
   24,
   28,
   32,
   42,
   46,
   50,
   54,
   60,
   77,
   81,
   85,
   89,
   91,
   95,
   99,
   103,
   109,
   117,
   121
  ]
 },
 "nbformat": 4,
 "nbformat_minor": 5
}