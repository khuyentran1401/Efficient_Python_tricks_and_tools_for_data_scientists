{
 "cells": [
  {
   "cell_type": "markdown",
   "id": "61fbaad4",
   "metadata": {},
   "source": [
    "## Sharing and Downloading"
   ]
  },
  {
   "cell_type": "markdown",
   "id": "c83da569",
   "metadata": {},
   "source": [
    "This section covers some tools to share and download your data."
   ]
  },
  {
   "cell_type": "markdown",
   "id": "f33a63ba",
   "metadata": {},
   "source": [
    "### gdown: Download a File from Google Drive in Python"
   ]
  },
  {
   "cell_type": "code",
   "execution_count": null,
   "id": "8d0de3e0",
   "metadata": {
    "tags": [
     "hide-cell"
    ]
   },
   "outputs": [],
   "source": [
    "!pip install gdown "
   ]
  },
  {
   "cell_type": "markdown",
   "id": "95bb20e8",
   "metadata": {},
   "source": [
    "If you want to download a file from Google Drive in Python, use gdown. All you need to specify is the URL link."
   ]
  },
  {
   "cell_type": "code",
   "execution_count": null,
   "id": "664db6da",
   "metadata": {
    "tags": [
     "hide-output"
    ]
   },
   "outputs": [],
   "source": [
    "import gdown\n",
    "\n",
    "# Format of url: https://drive.google.com/uc?id=YOURFILEID\n",
    "url = \"https://drive.google.com/uc?id=1jI1cmxqnwsmC-vbl8dNY6b4aNBtBbKy3\"\n",
    "output = \"Twitter.zip\"\n",
    "\n",
    "gdown.download(url, output, quiet=False)"
   ]
  },
  {
   "cell_type": "markdown",
   "id": "2da219b4",
   "metadata": {},
   "source": [
    "[Link to gdown](https://pypi.org/project/gdown/)."
   ]
  },
  {
   "cell_type": "markdown",
   "id": "5a69e680",
   "metadata": {},
   "source": [
    "### pyserde: Effortless Serialization and Deserialization of Dataclass Objects"
   ]
  },
  {
   "cell_type": "code",
   "execution_count": null,
   "id": "2c7fe296",
   "metadata": {
    "tags": [
     "hide-cell"
    ]
   },
   "outputs": [],
   "source": [
    "!pip install pyserde"
   ]
  },
  {
   "cell_type": "markdown",
   "id": "41d11100",
   "metadata": {},
   "source": [
    "Dataclasses provide a concise syntax for defining data-holding classes. Paired with pyserde, you can easily serialize and deserialize dataclass objects. \n",
    "\n",
    "Serialization converts dataclass data into a serialized format (e.g., JSON, YAML) for easy storage and transmission. Deserialization reconstructs the dataclass object from serialized data."
   ]
  },
  {
   "cell_type": "code",
   "execution_count": null,
   "id": "df404de4",
   "metadata": {},
   "outputs": [],
   "source": [
    "from dataclasses import dataclass\n",
    "from serde import serde\n",
    "from serde.json import from_json, to_json\n",
    "from serde.yaml import from_yaml, to_yaml\n",
    "\n",
    "\n",
    "@serde\n",
    "@dataclass\n",
    "class User:\n",
    "    name: str\n",
    "    age: int\n",
    "\n",
    "\n",
    "user1 = User(name=\"user1\", age=20)"
   ]
  },
  {
   "cell_type": "code",
   "execution_count": null,
   "id": "0e2b5bf3",
   "metadata": {},
   "outputs": [],
   "source": [
    "print(to_json(user1))"
   ]
  },
  {
   "cell_type": "code",
   "execution_count": null,
   "id": "0e9e9aee",
   "metadata": {},
   "outputs": [],
   "source": [
    "from_json(User, '{\"name\":\"user1\",\"age\":20}')"
   ]
  },
  {
   "cell_type": "code",
   "execution_count": null,
   "id": "e19ce0b1",
   "metadata": {},
   "outputs": [],
   "source": [
    "print(to_yaml(user1))"
   ]
  },
  {
   "cell_type": "code",
   "execution_count": null,
   "id": "43129f0c",
   "metadata": {},
   "outputs": [],
   "source": [
    "from_yaml(User, \"age: 20\\nname: user1\\n\")"
   ]
  },
  {
   "cell_type": "markdown",
   "id": "1aaabcb9",
   "metadata": {},
   "source": [
    "[Link to pyserde](https://github.com/yukinarit/pyserde)."
   ]
  },
  {
   "cell_type": "markdown",
   "id": "6e09a57b",
   "metadata": {},
   "source": [
    "### ItsDangerous: Safely Pass Trusted Data to Untrusted Environments and Back"
   ]
  },
  {
   "cell_type": "code",
   "execution_count": null,
   "id": "ed071bf0",
   "metadata": {
    "tags": [
     "hide-cell"
    ]
   },
   "outputs": [],
   "source": [
    "!pip install -U itsdangerous"
   ]
  },
  {
   "cell_type": "markdown",
   "id": "271cbb2d",
   "metadata": {},
   "source": [
    "When passing data between different web requests, there is a risk of malicious code injection.\n",
    "\n",
    "To ensure the safety of passing data to untrusted environments, use ItsDangerous. ItsDangerous adds a unique signature to the data to verify that the data has not been tampered with during transmission."
   ]
  },
  {
   "cell_type": "code",
   "execution_count": null,
   "id": "73eb30a8",
   "metadata": {},
   "outputs": [],
   "source": [
    "from itsdangerous import URLSafeSerializer\n",
    "\n",
    "auth_s = URLSafeSerializer(\"some key\")\n",
    "token = auth_s.dumps({\"id\": 5, \"name\": \"khuyentran\"})\n",
    "token"
   ]
  },
  {
   "cell_type": "code",
   "execution_count": null,
   "id": "b55fc6ae",
   "metadata": {},
   "outputs": [],
   "source": [
    "# Get the data back from the token using the secret key\n",
    "data = auth_s.loads(token)\n",
    "data[\"name\"]"
   ]
  },
  {
   "cell_type": "markdown",
   "id": "79ef1ada",
   "metadata": {},
   "source": [
    "[Link to ItsDangerous](https://github.com/pallets/itsdangerous/)."
   ]
  }
 ],
 "metadata": {
  "jupytext": {
   "formats": "ipynb,qmd"
  },
  "kernelspec": {
   "display_name": "Python 3 (ipykernel)",
   "language": "python",
   "name": "python3"
  },
  "language_info": {
   "codemirror_mode": {
    "name": "ipython",
    "version": 3
   },
   "file_extension": ".py",
   "mimetype": "text/x-python",
   "name": "python",
   "nbconvert_exporter": "python",
   "pygments_lexer": "ipython3",
   "version": "3.9.6"
  },
  "source_map": [
   12,
   16,
   20,
   24,
   28,
   32,
   42,
   46,
   50,
   54,
   60,
   77,
   81,
   85,
   89,
   91,
   95,
   99,
   103,
   109,
   117,
   121
  ]
 },
 "nbformat": 4,
 "nbformat_minor": 5
}
