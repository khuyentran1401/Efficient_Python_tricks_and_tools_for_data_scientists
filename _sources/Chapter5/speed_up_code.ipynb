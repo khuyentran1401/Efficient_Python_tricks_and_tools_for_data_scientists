{
 "cells": [
  {
   "cell_type": "markdown",
   "id": "f3d51ac1",
   "metadata": {},
   "source": [
    "## Tools to Speed Up Code"
   ]
  },
  {
   "cell_type": "markdown",
   "id": "cc3a9089",
   "metadata": {},
   "source": [
    "This section covers some tools to speed up your code."
   ]
  },
  {
   "cell_type": "markdown",
   "id": "fe6b8133",
   "metadata": {},
   "source": [
    "### Fastai's df_shrink: Shrink DataFrame's Memory Usage in One Line of Code"
   ]
  },
  {
   "cell_type": "code",
   "execution_count": null,
   "id": "7c29bef2",
   "metadata": {
    "tags": [
     "hide-cell"
    ]
   },
   "outputs": [],
   "source": [
    "!pip install fastai"
   ]
  },
  {
   "cell_type": "markdown",
   "id": "4a68fe8a",
   "metadata": {},
   "source": [
    "Data analysts often struggle with large datasets that consume excessive memory, making it challenging to work efficiently, especially on machines with limited resources.\n",
    "\n",
    "The `df_shrink` method in `fastai` helps address this issue by:\n",
    "- Automatically reducing the memory usage of a pandas DataFrame\n",
    "- Downcasting numeric columns to the smallest possible dtype without losing information\n",
    "\n",
    "Here's a short code example to demonstrate the utility of `df_shrink`:"
   ]
  },
  {
   "cell_type": "code",
   "execution_count": null,
   "id": "0c5f1218",
   "metadata": {},
   "outputs": [],
   "source": [
    "from fastai.tabular.core import df_shrink\n",
    "import pandas as pd\n",
    "\n",
    "df = pd.DataFrame({\"col1\": [1, 2, 3], \"col2\": [1.0, 2.0, 3.0]})\n",
    "print(df.info())"
   ]
  },
  {
   "cell_type": "code",
   "execution_count": null,
   "id": "b109fbb8",
   "metadata": {},
   "outputs": [],
   "source": [
    "new_df = df_shrink(df)\n",
    "print(new_df.info())"
   ]
  },
  {
   "cell_type": "markdown",
   "id": "dd4de1e5",
   "metadata": {},
   "source": [
    "In this example, the memory usage of the DataFrame decreases from 200 bytes to 146 bytes."
   ]
  },
  {
   "cell_type": "markdown",
   "id": "ed89b923",
   "metadata": {},
   "source": [
    "[Link to Fastai](https://docs.fast.ai/)."
   ]
  },
  {
   "cell_type": "markdown",
   "id": "ece548ad",
   "metadata": {},
   "source": [
    "### Swifter: Add One Word to Make Your Pandas Apply 23 Times Faster"
   ]
  },
  {
   "cell_type": "code",
   "execution_count": null,
   "id": "cddc6b91",
   "metadata": {
    "tags": [
     "hide-cell"
    ]
   },
   "outputs": [],
   "source": [
    "!pip install swifter"
   ]
  },
  {
   "cell_type": "markdown",
   "id": "1a55a20e",
   "metadata": {},
   "source": [
    "To have faster pandas apply when working with large data, use swifter. To use swifter, simply add `.swifter` before `.apply`. Everything else is the same."
   ]
  },
  {
   "cell_type": "markdown",
   "id": "58644cc2",
   "metadata": {},
   "source": [
    "In the code below, I compared the speed of Pandas' `apply` and the speed of swifter's `apply` using the California housing dataset of 20640 rows."
   ]
  },
  {
   "cell_type": "code",
   "execution_count": null,
   "id": "905b113d",
   "metadata": {},
   "outputs": [],
   "source": [
    "from time import time\n",
    "from sklearn.datasets import fetch_california_housing\n",
    "from scipy.special import boxcox1p\n",
    "import swifter\n",
    "import timeit\n",
    "\n",
    "X, y = fetch_california_housing(return_X_y=True, as_frame=True)\n",
    "\n",
    "\n",
    "def pandas_apply():\n",
    "    X[\"AveRooms\"].apply(lambda x: boxcox1p(x, 0.25))\n",
    "\n",
    "\n",
    "def swifter_apply():\n",
    "    X[\"AveRooms\"].swifter.apply(lambda x: boxcox1p(x, 0.25))\n",
    "\n",
    "\n",
    "num_experiments = 100\n",
    "pandas_time = timeit.timeit(pandas_apply, number=num_experiments)\n",
    "swifter_time = timeit.timeit(swifter_apply, number=num_experiments)\n",
    "\n",
    "pandas_vs_swifter = round(pandas_time / swifter_time, 2)\n",
    "print(f\"Swifter apply is {pandas_vs_swifter} times faster than Pandas apply\")"
   ]
  },
  {
   "cell_type": "markdown",
   "id": "56d2a6df",
   "metadata": {},
   "source": [
    "Using swifter apply is 23.56 times faster than Pandas apply! This ratio is calculated by taking the average run time of each method after 100 experiments."
   ]
  },
  {
   "cell_type": "markdown",
   "id": "d31f3e00",
   "metadata": {},
   "source": [
    "[Link to swifter](https://github.com/jmcarpenter2/swifter)."
   ]
  },
  {
   "cell_type": "markdown",
   "id": "806c6ca5",
   "metadata": {},
   "source": [
    "### pyinstrument: Readable Python Profiler"
   ]
  },
  {
   "cell_type": "code",
   "execution_count": null,
   "id": "17dd9899",
   "metadata": {
    "tags": [
     "hide-cell"
    ]
   },
   "outputs": [],
   "source": [
    "!pip install pyinstrument "
   ]
  },
  {
   "cell_type": "markdown",
   "id": "b5e440df",
   "metadata": {},
   "source": [
    "Identifying performance bottlenecks in Python code can be challenging, especially with complex applications or time-consuming processes. While cProfile and profile are useful, their outputs can be lengthy and difficult to interpret, particularly when using high-level libraries like pandas."
   ]
  },
  {
   "cell_type": "markdown",
   "id": "6fe3a0bb",
   "metadata": {},
   "source": [
    "`pyinstrument` helps solve this problem by:\n",
    "\n",
    "- Providing a low-overhead profiler that shows where time is being spent in Python programs\n",
    "- Generating easy-to-read, hierarchical output that highlights the most time-consuming parts of the code\n",
    "\n",
    "Here's a short code example to demonstrate the utility of `pyinstrument`:"
   ]
  },
  {
   "cell_type": "code",
   "execution_count": null,
   "id": "27570c60",
   "metadata": {},
   "outputs": [],
   "source": [
    "%%writefile pyinstrument_example.py\n",
    "from pyinstrument import Profiler\n",
    "import pandas as pd\n",
    "import numpy as np\n",
    "\n",
    "df = pd.DataFrame({'nums': np.random.randint(0, 100, 10000)})\n",
    "def is_even(num: int) -> int:\n",
    "    return num % 2 == 0\n",
    "\n",
    "profiler = Profiler()\n",
    "profiler.start()\n",
    "\n",
    "df = df.assign(is_even=lambda df_: is_even(df_.nums))\n",
    "\n",
    "profiler.stop()\n",
    "profiler.print()"
   ]
  },
  {
   "cell_type": "markdown",
   "id": "0c9b57a8",
   "metadata": {},
   "source": [
    "On your terminal, type:\n",
    "```bash\n",
    "$ pyinstrument pyinstrument_example.py\n",
    "```\n",
    "... and you should see an output like below:"
   ]
  },
  {
   "cell_type": "code",
   "execution_count": null,
   "id": "ab040c8d",
   "metadata": {
    "tags": [
     "hide-input"
    ]
   },
   "outputs": [],
   "source": [
    "!pyinstrument pyinstrument_example.py"
   ]
  },
  {
   "cell_type": "markdown",
   "id": "5e8c78e6",
   "metadata": {},
   "source": [
    "[Link to pyinstrument](https://github.com/joerick/pyinstrument)"
   ]
  }
 ],
 "metadata": {
  "jupytext": {
   "text_representation": {
    "extension": ".md",
    "format_name": "myst",
    "format_version": 0.13,
    "jupytext_version": "1.16.7"
   }
  },
  "kernelspec": {
   "display_name": "Python 3 (ipykernel)",
   "language": "python",
   "name": "python3"
  },
  "source_map": [
   12,
   16,
   20,
   24,
   28,
   38,
   46,
   49,
   53,
   57,
   61,
   65,
   69,
   73,
   97,
   101,
   105,
   109,
   113,
   117,
   126,
   143,
   151,
   155
  ]
 },
 "nbformat": 4,
 "nbformat_minor": 5
}