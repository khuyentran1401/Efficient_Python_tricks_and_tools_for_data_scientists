{
 "cells": [
  {
   "cell_type": "code",
   "execution_count": null,
   "id": "ec5d5625",
   "metadata": {
    "tags": [
     "remove-cell"
    ]
   },
   "outputs": [],
   "source": [
    "import warnings\n",
    "warnings.filterwarnings(\"ignore\")"
   ]
  },
  {
   "cell_type": "markdown",
   "id": "adaa1f5f",
   "metadata": {},
   "source": [
    "## Feature Extraction"
   ]
  },
  {
   "cell_type": "markdown",
   "id": "825c1907",
   "metadata": {},
   "source": [
    "### distfit: Find The Best Theoretical Distribution For Your Data"
   ]
  },
  {
   "cell_type": "code",
   "execution_count": null,
   "id": "d3dea551",
   "metadata": {
    "tags": [
     "hide-cell"
    ]
   },
   "outputs": [],
   "source": [
    "!pip install distfit"
   ]
  },
  {
   "cell_type": "markdown",
   "id": "90e16511",
   "metadata": {},
   "source": [
    "If you're looking to identify the best theoretical distribution for your data in Python, try distfit. It allows you to fit and compare multiple distributions, identifying the best match for your dataset."
   ]
  },
  {
   "cell_type": "code",
   "execution_count": null,
   "id": "2bf94793",
   "metadata": {},
   "outputs": [],
   "source": [
    "import numpy as np\n",
    "from distfit import distfit\n",
    "\n",
    "X = np.random.normal(0, 3, 1000)\n",
    "\n",
    "# Initialize model\n",
    "dist = distfit()\n",
    "\n",
    "# Find best theoretical distribution for empirical data X\n",
    "distribution = dist.fit_transform(X)\n",
    "dist.plot()"
   ]
  },
  {
   "cell_type": "markdown",
   "id": "324111fc",
   "metadata": {},
   "source": [
    "Beyond finding the optimal distribution, `distfit` can also help identify outliers based on deviation from the fitted distribution."
   ]
  },
  {
   "cell_type": "markdown",
   "id": "27d7a6ac",
   "metadata": {},
   "source": [
    "[Link to distfit](https://erdogant.github.io/distfit/pages/html/index.html)."
   ]
  },
  {
   "cell_type": "markdown",
   "id": "bc73d91e",
   "metadata": {},
   "source": [
    "### Geopy: Extract Location Based on Python String"
   ]
  },
  {
   "cell_type": "code",
   "execution_count": null,
   "id": "4aee794f",
   "metadata": {
    "tags": [
     "hide-cell"
    ]
   },
   "outputs": [],
   "source": [
    "!pip install geopy"
   ]
  },
  {
   "cell_type": "markdown",
   "id": "5ea79618",
   "metadata": {},
   "source": [
    "`Geopy` simplifies the process of extracting geospatial information from location strings. With just a few lines of code, you can obtain the coordinates of addresses globally."
   ]
  },
  {
   "cell_type": "code",
   "execution_count": null,
   "id": "96506c2f",
   "metadata": {},
   "outputs": [],
   "source": [
    "from geopy.geocoders import Nominatim\n",
    "\n",
    "geolocator = Nominatim(user_agent=\"find_location\")\n",
    "location = geolocator.geocode(\"30 North Circle Drive\")"
   ]
  },
  {
   "cell_type": "markdown",
   "id": "8b229080",
   "metadata": {},
   "source": [
    "To get detailed information about the location:"
   ]
  },
  {
   "cell_type": "code",
   "execution_count": null,
   "id": "211a67be",
   "metadata": {},
   "outputs": [],
   "source": [
    "location.address"
   ]
  },
  {
   "cell_type": "markdown",
   "id": "c4621755",
   "metadata": {},
   "source": [
    "You can also extract latitude and longitude:"
   ]
  },
  {
   "cell_type": "code",
   "execution_count": null,
   "id": "fe991e18",
   "metadata": {},
   "outputs": [],
   "source": [
    "location.latitude, location.longitude"
   ]
  },
  {
   "cell_type": "markdown",
   "id": "e55d9633",
   "metadata": {},
   "source": [
    "[Link to Geopy](https://geopy.readthedocs.io/en/stable/)"
   ]
  },
  {
   "cell_type": "markdown",
   "id": "6a95b2ca",
   "metadata": {},
   "source": [
    "### fastai’s cont_cat_split: Separate Continuous and Categorical Variables"
   ]
  },
  {
   "cell_type": "code",
   "execution_count": null,
   "id": "818df375",
   "metadata": {
    "tags": [
     "hide-cell"
    ]
   },
   "outputs": [],
   "source": [
    "!pip install fastai"
   ]
  },
  {
   "cell_type": "markdown",
   "id": "f388433b",
   "metadata": {},
   "source": [
    "Fastai's `cont_cat_split` method helps you automatically separate continuous and categorical columns in a DataFrame based on their cardinality."
   ]
  },
  {
   "cell_type": "code",
   "execution_count": null,
   "id": "4bc26ef4",
   "metadata": {},
   "outputs": [],
   "source": [
    "import pandas as pd\n",
    "from fastai.tabular.core import cont_cat_split\n",
    "\n",
    "df = pd.DataFrame(\n",
    "    {\n",
    "        \"col1\": [1, 2, 3, 4, 5],\n",
    "        \"col2\": [\"a\", \"b\", \"c\", \"d\", \"e\"],\n",
    "        \"col3\": [1.0, 2.0, 3.0, 4.0, 5.0],\n",
    "    }\n",
    ")\n",
    "\n",
    "cont_names, cat_names = cont_cat_split(df)\n",
    "print(\"Continuous columns:\", cont_names)\n",
    "print(\"Categorical columns:\", cat_names)"
   ]
  },
  {
   "cell_type": "code",
   "execution_count": null,
   "id": "fb1443bf",
   "metadata": {},
   "outputs": [],
   "source": [
    "cont_names, cat_names = cont_cat_split(df, max_card=3)\n",
    "print(\"Continuous columns:\", cont_names)\n",
    "print(\"Categorical columns:\", cat_names)"
   ]
  },
  {
   "cell_type": "markdown",
   "id": "f2b3e738",
   "metadata": {},
   "source": [
    "[Link to the documentation](https://docs.fast.ai/tabular.core.html)."
   ]
  },
  {
   "cell_type": "markdown",
   "id": "6baf8b5b",
   "metadata": {},
   "source": [
    "### Patsy: Build Features with Arbitrary Python Code"
   ]
  },
  {
   "cell_type": "code",
   "execution_count": null,
   "id": "e0e53afa",
   "metadata": {
    "tags": [
     "hide-cell"
    ]
   },
   "outputs": [],
   "source": [
    "!pip install patsy"
   ]
  },
  {
   "cell_type": "markdown",
   "id": "002167e9",
   "metadata": {},
   "source": [
    "Patsy lets you quickly create features for your model using an intuitive syntax, ideal for experimentation."
   ]
  },
  {
   "cell_type": "code",
   "execution_count": null,
   "id": "bbddca31",
   "metadata": {},
   "outputs": [],
   "source": [
    "from sklearn.datasets import load_wine\n",
    "import pandas as pd "
   ]
  },
  {
   "cell_type": "code",
   "execution_count": null,
   "id": "97b095f9",
   "metadata": {},
   "outputs": [],
   "source": [
    "df = load_wine(as_frame=True)\n",
    "data = pd.concat([df['data'], df['target']], axis=1)\n",
    "data.head(10)"
   ]
  },
  {
   "cell_type": "code",
   "execution_count": null,
   "id": "cf7fe311",
   "metadata": {},
   "outputs": [],
   "source": [
    "from patsy import dmatrices\n",
    "\n",
    "y, X = dmatrices('target ~ alcohol + flavanoids + proline', data=data)"
   ]
  },
  {
   "cell_type": "code",
   "execution_count": null,
   "id": "19c7542b",
   "metadata": {},
   "outputs": [],
   "source": [
    "X"
   ]
  },
  {
   "cell_type": "markdown",
   "id": "3cee853c",
   "metadata": {},
   "source": [
    "These features can be directly used with machine learning models:"
   ]
  },
  {
   "cell_type": "code",
   "execution_count": null,
   "id": "80f0c278",
   "metadata": {},
   "outputs": [],
   "source": [
    "from sklearn.linear_model import LinearRegression\n",
    "\n",
    "model = LinearRegression().fit(X, y)"
   ]
  },
  {
   "cell_type": "markdown",
   "id": "1d8ad98b",
   "metadata": {},
   "source": [
    "[Link to Patsy](https://patsy.readthedocs.io/en/latest/overview.html)."
   ]
  },
  {
   "cell_type": "markdown",
   "id": "aeeefe28",
   "metadata": {},
   "source": [
    "### yarl: Create and Extract Elements from a URL Using Python"
   ]
  },
  {
   "cell_type": "code",
   "execution_count": null,
   "id": "d3965e2d",
   "metadata": {
    "tags": [
     "hide-cell"
    ]
   },
   "outputs": [],
   "source": [
    "!pip install yarl"
   ]
  },
  {
   "cell_type": "markdown",
   "id": "6eb06bce",
   "metadata": {},
   "source": [
    "`yarl` makes URL parsing and creation easy. You can extract elements like host, path, and query from a URL or construct new URLs."
   ]
  },
  {
   "cell_type": "code",
   "execution_count": null,
   "id": "849b469c",
   "metadata": {},
   "outputs": [],
   "source": [
    "from yarl import URL \n",
    "\n",
    "url = URL('https://github.com/search?q=data+science')\n",
    "url "
   ]
  },
  {
   "cell_type": "code",
   "execution_count": null,
   "id": "353ced9f",
   "metadata": {},
   "outputs": [],
   "source": [
    "print(url.host) "
   ]
  },
  {
   "cell_type": "code",
   "execution_count": null,
   "id": "9d493d0e",
   "metadata": {},
   "outputs": [],
   "source": [
    "print(url.path) "
   ]
  },
  {
   "cell_type": "code",
   "execution_count": null,
   "id": "0d8a9d3d",
   "metadata": {},
   "outputs": [],
   "source": [
    "print(url.query_string) "
   ]
  },
  {
   "cell_type": "markdown",
   "id": "18727aa4",
   "metadata": {},
   "source": [
    "You can also build new URLs:"
   ]
  },
  {
   "cell_type": "code",
   "execution_count": null,
   "id": "9c2a43c6",
   "metadata": {},
   "outputs": [],
   "source": [
    "# Create a URL\n",
    "\n",
    "url = URL.build(\n",
    "    scheme=\"https\",\n",
    "    host=\"github.com\",\n",
    "    path=\"/search\",\n",
    "    query={\"p\": 2, \"q\": \"data science\"},\n",
    ")\n",
    "\n",
    "print(url)"
   ]
  },
  {
   "cell_type": "code",
   "execution_count": null,
   "id": "63dff9bf",
   "metadata": {},
   "outputs": [],
   "source": [
    "# Replace the query\n",
    "\n",
    "print(url.with_query({\"q\": \"python\"}))"
   ]
  },
  {
   "cell_type": "code",
   "execution_count": null,
   "id": "7dac9cb3",
   "metadata": {},
   "outputs": [],
   "source": [
    "# Replace the path\n",
    "\n",
    "new_path = url.with_path(\"khuyentran1401/Data-science\")\n",
    "print(new_path)"
   ]
  },
  {
   "cell_type": "code",
   "execution_count": null,
   "id": "474721ed",
   "metadata": {},
   "outputs": [],
   "source": [
    "# Update the fragment\n",
    "\n",
    "print(new_path.with_fragment(\"contents\"))"
   ]
  },
  {
   "cell_type": "markdown",
   "id": "9bd465df",
   "metadata": {},
   "source": [
    "[Link to yarl](https://github.com/aio-libs/yarl)."
   ]
  },
  {
   "cell_type": "markdown",
   "id": "4d03ac81",
   "metadata": {},
   "source": [
    "### Pigeon: Quickly Annotate Your Data on Jupyter Notebook"
   ]
  },
  {
   "cell_type": "code",
   "execution_count": null,
   "id": "53c03eda",
   "metadata": {
    "tags": [
     "hide-cell"
    ]
   },
   "outputs": [],
   "source": [
    "!pip install pigeon-jupyter"
   ]
  },
  {
   "cell_type": "markdown",
   "id": "b2e591cb",
   "metadata": {},
   "source": [
    "For fast data annotation within Jupyter Notebooks, use `Pigeon`. This tool allows you to label data interactively by selecting from predefined options."
   ]
  },
  {
   "cell_type": "code",
   "execution_count": null,
   "id": "f34b6909",
   "metadata": {},
   "outputs": [],
   "source": [
    "from pigeon import annotate\n",
    "\n",
    "\n",
    "annotations = annotate(\n",
    "    [\"The service is terrible\", \"I will definitely come here again\"],\n",
    "    options=[\"positive\", \"negative\"],\n",
    ")"
   ]
  },
  {
   "cell_type": "code",
   "execution_count": null,
   "id": "9d488a9a",
   "metadata": {},
   "outputs": [],
   "source": [
    "annotations"
   ]
  },
  {
   "cell_type": "markdown",
   "id": "a9e85ce2",
   "metadata": {},
   "source": [
    "![](../img/pigeon_demo.gif)"
   ]
  },
  {
   "cell_type": "markdown",
   "id": "c68ac165",
   "metadata": {},
   "source": [
    "After labeling all your data, you can get the examples along with their labels by calling `annotations`."
   ]
  },
  {
   "cell_type": "markdown",
   "id": "59fdcb44",
   "metadata": {},
   "source": [
    "[Link to Pigeon](https://github.com/agermanidis/pigeon)"
   ]
  },
  {
   "cell_type": "markdown",
   "id": "8a17de04",
   "metadata": {},
   "source": [
    "### probablepeople: Parse Unstructured Names Into Structured Components"
   ]
  },
  {
   "cell_type": "code",
   "execution_count": null,
   "id": "47733baa",
   "metadata": {
    "tags": [
     "hide-cell"
    ]
   },
   "outputs": [],
   "source": [
    "!pip install probablepeople  "
   ]
  },
  {
   "cell_type": "markdown",
   "id": "186f82ab",
   "metadata": {},
   "source": [
    "`probablepeople` helps you parse unstructured names into structured components like first names, surnames, and company names."
   ]
  },
  {
   "cell_type": "code",
   "execution_count": null,
   "id": "e12d9199",
   "metadata": {},
   "outputs": [],
   "source": [
    "import probablepeople as pp\n",
    "\n",
    "pp.parse(\"Mr. Owen Harris II\")"
   ]
  },
  {
   "cell_type": "code",
   "execution_count": null,
   "id": "2e607107",
   "metadata": {},
   "outputs": [],
   "source": [
    "pp.parse(\"Kate & John Cumings\")"
   ]
  },
  {
   "cell_type": "code",
   "execution_count": null,
   "id": "6219d78d",
   "metadata": {},
   "outputs": [],
   "source": [
    "pp.parse(\"Prefect Technologies, Inc\")"
   ]
  },
  {
   "cell_type": "markdown",
   "id": "200b1a83",
   "metadata": {},
   "source": [
    "[Link to probablepeople](https://github.com/datamade/probablepeople)."
   ]
  },
  {
   "cell_type": "markdown",
   "id": "cbe9f411",
   "metadata": {},
   "source": [
    "### Supercharge PDF Text Extraction in Python with pypdf"
   ]
  },
  {
   "cell_type": "code",
   "execution_count": null,
   "id": "9428e777",
   "metadata": {
    "tags": [
     "hide-cell"
    ]
   },
   "outputs": [],
   "source": [
    "!pip install -U pypdf"
   ]
  },
  {
   "cell_type": "markdown",
   "id": "9459b8b9",
   "metadata": {},
   "source": [
    "PDF text is designed for beautiful on-screen display rather than optimized structured data extraction, making text extraction from PDFs challenging. \n",
    "\n",
    "Besides simple text extraction, pypdf also knows about fonts, encodings, and typical character distance, which enhances the accuracy of text extraction from PDFs."
   ]
  },
  {
   "cell_type": "code",
   "execution_count": null,
   "id": "55b6bb52",
   "metadata": {},
   "outputs": [],
   "source": [
    "from pypdf import PdfReader\n",
    "\n",
    "reader = PdfReader(\"example.pdf\")\n",
    "page = reader.pages[0]\n",
    "text = page.extract_text()"
   ]
  },
  {
   "cell_type": "markdown",
   "id": "2d631882",
   "metadata": {},
   "source": [
    "[Link to pypdf](https://github.com/py-pdf/pypdf)."
   ]
  }
 ],
 "metadata": {
  "jupytext": {
   "text_representation": {
    "extension": ".md",
    "format_name": "myst",
    "format_version": 0.13,
    "jupytext_version": "1.16.7"
   }
  },
  "kernelspec": {
   "display_name": "Python 3 (ipykernel)",
   "language": "python",
   "name": "python3"
  },
  "source_map": [
   14,
   19,
   23,
   27,
   31,
   35,
   47,
   51,
   55,
   59,
   63,
   67,
   72,
   76,
   78,
   82,
   84,
   88,
   92,
   96,
   100,
   117,
   121,
   125,
   129,
   133,
   137,
   142,
   148,
   154,
   156,
   160,
   164,
   168,
   172,
   176,
   180,
   187,
   191,
   195,
   197,
   201,
   214,
   220,
   227,
   231,
   235,
   239,
   243,
   247,
   257,
   259,
   263,
   267,
   271,
   275,
   279,
   283,
   289,
   293,
   295,
   299,
   303,
   307,
   313,
   319
  ]
 },
 "nbformat": 4,
 "nbformat_minor": 5
}