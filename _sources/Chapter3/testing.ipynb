{
 "cells": [
  {
   "cell_type": "markdown",
   "id": "2c65510f",
   "metadata": {},
   "source": [
    "## Test"
   ]
  },
  {
   "cell_type": "markdown",
   "id": "511777f8",
   "metadata": {},
   "source": [
    "This section shows how to compare between 2 Pandas DataFrame or between 2 Pandas Series"
   ]
  },
  {
   "cell_type": "markdown",
   "id": "73c622ab",
   "metadata": {},
   "source": [
    "### assert_frame equal: Test Whether Two DataFrames are Similar"
   ]
  },
  {
   "cell_type": "markdown",
   "id": "c6d7ba7c",
   "metadata": {},
   "source": [
    "If you want to test whether two DataFrames are similar or how much they are different from each other, try `pandas.testing.assert_frame_equal`."
   ]
  },
  {
   "cell_type": "code",
   "execution_count": null,
   "id": "71e007bd",
   "metadata": {},
   "outputs": [],
   "source": [
    "from pandas.testing import assert_frame_equal\n",
    "import pandas as pd\n",
    "\n",
    "\n",
    "df1 = pd.DataFrame({\"coll\": [1, 2, 3], \"col2\": [4, 5, 6]})\n",
    "df2 = pd.DataFrame({\"coll\": [1, 3, 4], \"col2\": [4, 5, 6]})\n",
    "assert_frame_equal(df1, df2)"
   ]
  },
  {
   "cell_type": "markdown",
   "id": "013eea60",
   "metadata": {},
   "source": [
    "### Ignore the Order of Index When Comparing Two DataFrames"
   ]
  },
  {
   "cell_type": "markdown",
   "id": "cedf093d",
   "metadata": {},
   "source": [
    "If you want to ignore the order of index & columns when comparing two DataFrames , use `assert_frame_equal(df1, df2, check_like=True)`."
   ]
  },
  {
   "cell_type": "code",
   "execution_count": null,
   "id": "3b0b4d7b",
   "metadata": {},
   "outputs": [],
   "source": [
    "from pandas.testing import assert_frame_equal\n",
    "import pandas as pd\n",
    "\n",
    "\n",
    "df1 = pd.DataFrame({\"coll\": [1, 2, 3], \"col2\": [4, 5, 6]})\n",
    "df2 = pd.DataFrame({\"col2\": [4, 5, 6], \"coll\": [1, 2, 3]})\n",
    "assert_frame_equal(df1, df2, check_like=True)"
   ]
  },
  {
   "cell_type": "code",
   "execution_count": null,
   "id": "fff7092d",
   "metadata": {},
   "outputs": [],
   "source": [
    "df1 = pd.DataFrame({\"coll\": [1, 2, 3], \"col2\": [4, 5, 6]})\n",
    "df2 = pd.DataFrame({\"col2\": [4, 5, 6], \"coll\": [1, 2, 3]})\n",
    "assert_frame_equal(df1, df2)"
   ]
  },
  {
   "cell_type": "markdown",
   "id": "a663766b",
   "metadata": {},
   "source": [
    "### Compare the Difference Between Two DataFrames"
   ]
  },
  {
   "cell_type": "markdown",
   "id": "ddcc9229",
   "metadata": {},
   "source": [
    "If you want to show and align the differences between two DataFrames, use `df.compare`."
   ]
  },
  {
   "cell_type": "code",
   "execution_count": null,
   "id": "d56cc617",
   "metadata": {},
   "outputs": [],
   "source": [
    "import pandas as pd\n",
    "\n",
    "df1 = pd.DataFrame({\"col1\": [1, 2, 3], \"col2\": [4, 5, 6]})\n",
    "df2 = pd.DataFrame({\"col1\": [1, 3, 4], \"col2\": [4, 5, 6]})\n",
    "\n",
    "df1.compare(df2)"
   ]
  }
 ],
 "metadata": {
  "jupytext": {
   "text_representation": {
    "extension": ".md",
    "format_name": "myst",
    "format_version": 0.13,
    "jupytext_version": "1.16.7"
   }
  },
  "kernelspec": {
   "display_name": "venv",
   "language": "python",
   "name": "python3"
  },
  "source_map": [
   12,
   16,
   20,
   24,
   28,
   36,
   40,
   44,
   54,
   58,
   62,
   66
  ]
 },
 "nbformat": 4,
 "nbformat_minor": 5
}