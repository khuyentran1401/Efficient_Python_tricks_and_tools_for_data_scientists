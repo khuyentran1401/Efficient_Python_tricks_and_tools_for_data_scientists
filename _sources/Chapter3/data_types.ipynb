{
 "cells": [
  {
   "cell_type": "markdown",
   "id": "acbf304f",
   "metadata": {},
   "source": [
    "## Manipulate a DataFrame Using Data Types"
   ]
  },
  {
   "cell_type": "markdown",
   "id": "cd32514f",
   "metadata": {},
   "source": [
    "### select_dtypes: Return a Subset of a DataFrame Including/Excluding Columns Based on Their dtype"
   ]
  },
  {
   "cell_type": "markdown",
   "id": "279145e4",
   "metadata": {},
   "source": [
    "You might want to apply different kinds of processing to categorical and numerical features. Instead of manually choosing categorical features or numerical features, you can automatically get them by using `df.select_dtypes('data_type')`.\n",
    "\n",
    "In the example below, you can either include or exclude certain data types using `exclude`."
   ]
  },
  {
   "cell_type": "code",
   "execution_count": null,
   "id": "cbf1908f",
   "metadata": {},
   "outputs": [],
   "source": [
    "import pandas as pd "
   ]
  },
  {
   "cell_type": "code",
   "execution_count": null,
   "id": "299ad832",
   "metadata": {},
   "outputs": [],
   "source": [
    "df = pd.DataFrame({\"col1\": [\"a\", \"b\", \"c\"], \"col2\": [1, 2, 3], \"col3\": [0.1, 0.2, 0.3]})\n",
    "\n",
    "df.info()"
   ]
  },
  {
   "cell_type": "code",
   "execution_count": null,
   "id": "c537262a",
   "metadata": {},
   "outputs": [],
   "source": [
    "df.select_dtypes(include=[\"int64\", \"float64\"])"
   ]
  },
  {
   "cell_type": "markdown",
   "id": "e321e3f6",
   "metadata": {},
   "source": [
    "### Smart Data Type Selection for Memory-Efficient Pandas"
   ]
  },
  {
   "cell_type": "markdown",
   "id": "43c91c28",
   "metadata": {},
   "source": [
    "To reduce the memory usage of a Pandas DataFrame, you can start by changing the data type of a column."
   ]
  },
  {
   "cell_type": "code",
   "execution_count": null,
   "id": "19f4b30e",
   "metadata": {},
   "outputs": [],
   "source": [
    "from sklearn.datasets import load_iris\n",
    "import pandas as pd \n",
    "\n",
    "X, y = load_iris(as_frame=True, return_X_y=True)\n",
    "df = pd.concat([X, pd.DataFrame(y, columns=[\"target\"])], axis=1)\n",
    "df.info()"
   ]
  },
  {
   "cell_type": "markdown",
   "id": "381d62bf",
   "metadata": {},
   "source": [
    "By default, Pandas uses `float64` for floating-point numbers, which can be oversized for columns with smaller value ranges. Here are some alternatives:\n",
    "\n",
    "- **float16**: Suitable for values between -32768 and 32767.\n",
    "- **float32**: Suitable for integers between -2147483648 and 2147483647.\n",
    "- **float64**: The default, suitable for a wide range of values.\n",
    "\n",
    "For example, if you know that the values in the \"sepal length (cm)\" column will never exceed 32767, you can use `float16` to reduce memory usage."
   ]
  },
  {
   "cell_type": "code",
   "execution_count": null,
   "id": "4a3900b2",
   "metadata": {},
   "outputs": [],
   "source": [
    "df['sepal length (cm)'].max()"
   ]
  },
  {
   "cell_type": "code",
   "execution_count": null,
   "id": "f5ece9d9",
   "metadata": {},
   "outputs": [],
   "source": [
    "df['sepal length (cm)'].memory_usage()"
   ]
  },
  {
   "cell_type": "code",
   "execution_count": null,
   "id": "10ef2166",
   "metadata": {},
   "outputs": [],
   "source": [
    "df[\"sepal length (cm)\"] = df[\"sepal length (cm)\"].astype(\"float16\")\n",
    "df['sepal length (cm)'].memory_usage()"
   ]
  },
  {
   "cell_type": "markdown",
   "id": "d9787306",
   "metadata": {},
   "source": [
    "Here, the memory usage of the \"sepal length (cm)\" column decreased from 1332 bytes to 432 bytes, a reduction of approximately 67.6%."
   ]
  },
  {
   "cell_type": "markdown",
   "id": "142c3a14",
   "metadata": {},
   "source": [
    "If you have a categorical variable with low cardinality, you can change its data type to `category` to reduce memory usage.\n",
    "\n",
    "The \"target\" column has only 3 unique values, making it a good candidate for the category data type to save memory."
   ]
  },
  {
   "cell_type": "code",
   "execution_count": null,
   "id": "e76314e4",
   "metadata": {},
   "outputs": [],
   "source": [
    "# View category\n",
    "df['target'].nunique()"
   ]
  },
  {
   "cell_type": "code",
   "execution_count": null,
   "id": "7b1f15c3",
   "metadata": {},
   "outputs": [],
   "source": [
    "df['target'].memory_usage()"
   ]
  },
  {
   "cell_type": "code",
   "execution_count": null,
   "id": "053f2baf",
   "metadata": {},
   "outputs": [],
   "source": [
    "df[\"target\"] = df[\"target\"].astype(\"category\")\n",
    "df['target'].memory_usage()"
   ]
  },
  {
   "cell_type": "markdown",
   "id": "d46d363d",
   "metadata": {},
   "source": [
    "Here, the memory usage of the \"target\" column decreased from 1332 bytes to 414 bytes, a reduction of approximately 68.9%."
   ]
  },
  {
   "cell_type": "markdown",
   "id": "a614e412",
   "metadata": {},
   "source": [
    "If we apply this reduction to the rest of the columns, the memory usage of the DataFrame decreased from 6.0 KB to 1.6 KB, a reduction of approximately 73.3%."
   ]
  },
  {
   "cell_type": "code",
   "execution_count": null,
   "id": "0fce5ead",
   "metadata": {},
   "outputs": [],
   "source": [
    "float_cols = df.select_dtypes(include=['float64']).columns\n",
    "df[float_cols] = df[float_cols].apply(lambda x: x.astype('float16'))\n",
    "df.info()"
   ]
  },
  {
   "cell_type": "markdown",
   "id": "e8d2394e",
   "metadata": {},
   "source": [
    "### pandas.Categorical: Turn a List of Strings into a Categorical Variable"
   ]
  },
  {
   "cell_type": "markdown",
   "id": "0f98eb4f",
   "metadata": {},
   "source": [
    "If you want to create a categorical variable, use `pandas.Categorical`. This variable takes on a limited number of possible values and can be ordered. In the code below, I use `pd.Categorical` to create a list of ordered categories."
   ]
  },
  {
   "cell_type": "code",
   "execution_count": null,
   "id": "efb9eab1",
   "metadata": {},
   "outputs": [],
   "source": [
    "import pandas as pd \n",
    "\n",
    "size = pd.Categorical(['M', 'S', 'M', 'L'], ordered=True, categories=['S', 'M', 'L'])\n",
    "size"
   ]
  },
  {
   "cell_type": "markdown",
   "id": "37057751",
   "metadata": {},
   "source": [
    "Note that the parameters `categories = ['S', 'M', 'L']` and `ordered=True` tell pandas that `'S' < 'M' < 'L'`. This means we can get the smallest value in the list:"
   ]
  },
  {
   "cell_type": "code",
   "execution_count": null,
   "id": "fb0bfd27",
   "metadata": {},
   "outputs": [],
   "source": [
    "size.min()"
   ]
  },
  {
   "cell_type": "markdown",
   "id": "d2e965c7",
   "metadata": {},
   "source": [
    "Or sort the DataFrame by the column that contains categorical variables:"
   ]
  },
  {
   "cell_type": "code",
   "execution_count": null,
   "id": "87fed5af",
   "metadata": {},
   "outputs": [],
   "source": [
    "df = pd.DataFrame({'size': size, 'val': [5, 4, 3, 6]})\n",
    "\n",
    "df.sort_values(by='size')"
   ]
  },
  {
   "cell_type": "markdown",
   "id": "cffc5b8b",
   "metadata": {},
   "source": [
    "### Optimizing Memory Usage in a pandas DataFrame with infer_objects"
   ]
  },
  {
   "cell_type": "markdown",
   "id": "07d521f2",
   "metadata": {},
   "source": [
    "pandas DataFrames that contain columns of mixed data types are stored in a more general format (such as \"object\"), resulting in inefficient memory usage and slower computation times.\n",
    "\n",
    "`df.infer_objects()` can infer the true data types of columns in a DataFrame, which can help optimize memory usage in your code.\n",
    "\n",
    "In the following code, the column \"col1\" still has an \"object\" data type even though it contains integer values after removing the first row. \n",
    "\n",
    "By using the `df.infer_objects()` method, \"col1\" is converted to an \"int64\" data type which saves approximately 27 MB of memory."
   ]
  },
  {
   "cell_type": "code",
   "execution_count": null,
   "id": "64f2c107",
   "metadata": {},
   "outputs": [],
   "source": [
    "import pandas as pd\n",
    "from random import randint \n",
    "\n",
    "random_numbers = [randint(0, 100) for _ in range(1000000)]\n",
    "df = pd.DataFrame({\"col1\": ['a', *random_numbers]})\n",
    "\n",
    "# Remove the first row\n",
    "df = df.iloc[1:]\n",
    "\n",
    "print(df.dtypes)\n",
    "print(df.memory_usage(deep=True))"
   ]
  },
  {
   "cell_type": "code",
   "execution_count": null,
   "id": "f32868db",
   "metadata": {},
   "outputs": [],
   "source": [
    "inferred_df = df.infer_objects()\n",
    "print(inferred_df.dtypes)\n",
    "print(inferred_df.memory_usage(deep=True))"
   ]
  },
  {
   "cell_type": "markdown",
   "id": "1f64f8d9",
   "metadata": {},
   "source": [
    "### Say Goodbye to Data Type Conversion in pandas 2.0"
   ]
  },
  {
   "cell_type": "code",
   "execution_count": null,
   "id": "cd882500",
   "metadata": {},
   "outputs": [],
   "source": [
    "!pip install pandas==2.0.0"
   ]
  },
  {
   "cell_type": "markdown",
   "id": "165cb37a",
   "metadata": {},
   "source": [
    "Previously in pandas, if a Series had missing values, its data type would be converted to float, resulting in a potential loss of precision for the original data."
   ]
  },
  {
   "cell_type": "code",
   "execution_count": null,
   "id": "60b58fb4",
   "metadata": {},
   "outputs": [],
   "source": [
    "import pandas as pd\n",
    "\n",
    "s1 = pd.Series([0, 1, 2, 3])\n",
    "print(f\"Data type without None: {s1.dtypes}\")\n",
    "\n",
    "s1.iloc[0] = None\n",
    "print(f\"Data type with None: {s1.dtypes}\")"
   ]
  },
  {
   "cell_type": "markdown",
   "id": "a2252fa8",
   "metadata": {},
   "source": [
    "With the integration of Apache Arrow in pandas 2.0, this issue is solved."
   ]
  },
  {
   "cell_type": "code",
   "execution_count": null,
   "id": "74a05779",
   "metadata": {},
   "outputs": [],
   "source": [
    "s2 = pd.Series([0, 1, 2, 3], dtype='int64[pyarrow]')\n",
    "print(f\"Data type without None: {s2.dtypes}\")\n",
    "\n",
    "s2.iloc[0] = None\n",
    "print(f\"Data type with None: {s2.dtypes}\")"
   ]
  },
  {
   "cell_type": "markdown",
   "id": "bbe0c9fc",
   "metadata": {},
   "source": [
    "### Efficient String Data Handling in pandas 2.0 with PyArrow Arrays"
   ]
  },
  {
   "cell_type": "code",
   "execution_count": null,
   "id": "f998505b",
   "metadata": {
    "tags": [
     "hide-cell"
    ]
   },
   "outputs": [],
   "source": [
    "!pip install 'pandas==2.2' pyarrow"
   ]
  },
  {
   "cell_type": "markdown",
   "id": "c323af68",
   "metadata": {},
   "source": [
    "As of pandas 2.0, data in pandas can be stored in PyArrow arrays in addition to NumPy arrays. PyArrow arrays provide a wide range of data types compared to NumPy.\n",
    "\n",
    "One significant advantage of PyArrow arrays is their string datatype, which offers superior speed and memory efficiency than storing strings using object dtypes."
   ]
  },
  {
   "cell_type": "code",
   "execution_count": null,
   "id": "70f7c972",
   "metadata": {},
   "outputs": [],
   "source": [
    "import pandas as pd\n",
    "import numpy as np\n",
    "\n",
    "data_size = 1_000_000\n",
    "np.random.seed(42)\n",
    "data = np.random.choice([\"John\", \"Alice\", \"Michael\"], size=data_size)\n",
    "s_numpy = pd.Series(data)\n",
    "s_pyarrow = pd.Series(data, dtype=\"string[pyarrow]\")"
   ]
  },
  {
   "cell_type": "code",
   "execution_count": null,
   "id": "31968c8b",
   "metadata": {},
   "outputs": [],
   "source": [
    "print(f\"Datatype of Series with Numpy backend: {s_numpy.dtype}\")\n",
    "print(f\"Datatype of Series with PyArrow backend: {s_pyarrow.dtype}\")"
   ]
  },
  {
   "cell_type": "code",
   "execution_count": null,
   "id": "b67eaa25",
   "metadata": {},
   "outputs": [],
   "source": [
    "numpy_memory = s_numpy.memory_usage(deep=True)\n",
    "pyarrow_memory = s_pyarrow.memory_usage(deep=True)\n",
    "\n",
    "print(f\"Memory usage for Numpy backend: {numpy_memory / (1024 ** 2):.2f} MB.\")\n",
    "print(f\"Memory usage for PyArrow backend: {pyarrow_memory / (1024 ** 2):.2f} MB.\")\n",
    "print(f\"PyArrow backend consumes approximately {numpy_memory / pyarrow_memory:.2f} times less memory than Numpy backend.\")"
   ]
  }
 ],
 "metadata": {
  "jupytext": {
   "text_representation": {
    "extension": ".md",
    "format_name": "myst",
    "format_version": 0.13,
    "jupytext_version": "1.16.7"
   }
  },
  "kernelspec": {
   "display_name": "Python 3 (ipykernel)",
   "language": "python",
   "name": "python3"
  },
  "source_map": [
   12,
   16,
   20,
   27,
   31,
   37,
   39,
   43,
   47,
   54,
   64,
   68,
   72,
   75,
   79,
   85,
   90,
   94,
   97,
   101,
   105,
   109,
   113,
   117,
   122,
   126,
   128,
   132,
   136,
   140,
   150,
   164,
   168,
   172,
   174,
   178,
   186,
   190,
   196,
   200,
   204,
   210,
   221,
   226
  ]
 },
 "nbformat": 4,
 "nbformat_minor": 5
}