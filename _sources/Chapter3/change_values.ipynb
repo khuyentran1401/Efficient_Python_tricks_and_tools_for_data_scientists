{
 "cells": [
  {
   "cell_type": "code",
   "execution_count": null,
   "id": "96afddad",
   "metadata": {
    "tags": [
     "remove-cell"
    ]
   },
   "outputs": [],
   "source": [
    "import warnings\n",
    "\n",
    "warnings.simplefilter(action=\"ignore\", category=FutureWarning)"
   ]
  },
  {
   "cell_type": "markdown",
   "id": "4fe5b0f8",
   "metadata": {},
   "source": [
    "![](../img/change_values.png)"
   ]
  },
  {
   "cell_type": "markdown",
   "id": "f8cafb88",
   "metadata": {},
   "source": [
    "## Change Values"
   ]
  },
  {
   "cell_type": "markdown",
   "id": "4330f9cd",
   "metadata": {},
   "source": [
    "### Apply Multiple Functions to a DataFrame with Pipe"
   ]
  },
  {
   "cell_type": "code",
   "execution_count": null,
   "id": "d5df65ce",
   "metadata": {
    "tags": [
     "hide-cell"
    ]
   },
   "outputs": [],
   "source": [
    "!pip install textblob"
   ]
  },
  {
   "cell_type": "markdown",
   "id": "f50ca9b6",
   "metadata": {},
   "source": [
    "To increase code readability when applying multiple functions to a DataFrame, use the `pandas.DataFrame.pipe` method."
   ]
  },
  {
   "cell_type": "code",
   "execution_count": null,
   "id": "d0b5cea6",
   "metadata": {},
   "outputs": [],
   "source": [
    "import pandas as pd\n",
    "\n",
    "\n",
    "def get_sum(df):\n",
    "    df[\"sum\"] = df.a + df.b\n",
    "    return df\n",
    "\n",
    "\n",
    "def drop_column(df, col_name):\n",
    "    return df.drop(col_name, axis=1)\n",
    "\n",
    "\n",
    "df = pd.DataFrame({\"a\": [1, 2, 3], \"b\": [4, 5, 6]})\n",
    "\n",
    "df.pipe(get_sum).pipe(drop_column, \"a\")"
   ]
  },
  {
   "cell_type": "markdown",
   "id": "d667b02a",
   "metadata": {},
   "source": [
    "### Apply a Function to a Column of a DataFrame"
   ]
  },
  {
   "cell_type": "markdown",
   "id": "0013d674",
   "metadata": {},
   "source": [
    "If you want to apply only one function to a column of a DataFrame, use `apply`."
   ]
  },
  {
   "cell_type": "code",
   "execution_count": null,
   "id": "d5b480c7",
   "metadata": {},
   "outputs": [],
   "source": [
    "import pandas as pd\n",
    "\n",
    "df = pd.DataFrame({\"col1\": [1, 2], \"col2\": [3, 4]})\n",
    "df"
   ]
  },
  {
   "cell_type": "code",
   "execution_count": null,
   "id": "0ee4b311",
   "metadata": {},
   "outputs": [],
   "source": [
    "df[\"col1\"] = df[\"col1\"].apply(lambda row: row * 2)\n",
    "df"
   ]
  },
  {
   "cell_type": "markdown",
   "id": "a4821467",
   "metadata": {},
   "source": [
    "### Apply a Function to a DataFrame Elementwise"
   ]
  },
  {
   "cell_type": "markdown",
   "id": "8419e715",
   "metadata": {},
   "source": [
    "The `apply` method applies a function along an axis of a DataFrame. If you want to apply a function to a DataFrame elementwise, use `applymap`."
   ]
  },
  {
   "cell_type": "code",
   "execution_count": null,
   "id": "27831e1f",
   "metadata": {},
   "outputs": [],
   "source": [
    "import pandas as pd\n",
    "\n",
    "df = pd.DataFrame({\"col1\": [2, 9], \"col2\": [3, 7]})\n",
    "df"
   ]
  },
  {
   "cell_type": "code",
   "execution_count": null,
   "id": "2aec6e0c",
   "metadata": {},
   "outputs": [],
   "source": [
    "df.applymap(lambda val: \"failed\" if val < 5 else \"passed\")"
   ]
  },
  {
   "cell_type": "markdown",
   "id": "76009789",
   "metadata": {},
   "source": [
    "### Assign Values to Multiple New Columns"
   ]
  },
  {
   "cell_type": "markdown",
   "id": "cde79b23",
   "metadata": {},
   "source": [
    "If you want to assign values to multiple new columns, instead of assigning them separately, you can do everything in one line of code with `df.assign`.\n",
    "\n",
    "In the code below, I first created `col3` then use `col3` to create `col4`. Everything is in one line of code."
   ]
  },
  {
   "cell_type": "code",
   "execution_count": null,
   "id": "f7b17331",
   "metadata": {},
   "outputs": [],
   "source": [
    "import pandas as pd\n",
    "\n",
    "df = pd.DataFrame({\"col1\": [1, 2], \"col2\": [3, 4]})\n",
    "\n",
    "df = df.assign(col3=lambda x: x.col1 * 100 + x.col2).assign(\n",
    "    col4=lambda x: x.col2 * x.col3\n",
    ")\n",
    "df"
   ]
  },
  {
   "cell_type": "markdown",
   "id": "dc4d670c",
   "metadata": {},
   "source": [
    "### pandas.Series.map: Change Values of a Pandas Series Using a Dictionary"
   ]
  },
  {
   "cell_type": "markdown",
   "id": "673da10e",
   "metadata": {},
   "source": [
    "If you want to change values of a pandas Series using a dictionary, use `pd.Series.map`."
   ]
  },
  {
   "cell_type": "code",
   "execution_count": null,
   "id": "37201b2b",
   "metadata": {},
   "outputs": [],
   "source": [
    "import pandas as pd\n",
    "\n",
    "s = pd.Series([\"a\", \"b\", \"c\"])\n",
    "\n",
    "s.map({\"a\": 1, \"b\": 2, \"c\": 3})"
   ]
  },
  {
   "cell_type": "markdown",
   "id": "dc6caf30",
   "metadata": {},
   "source": [
    "`map` also allows you to insert a string to a pandas Series using `format`."
   ]
  },
  {
   "cell_type": "code",
   "execution_count": null,
   "id": "932af399",
   "metadata": {},
   "outputs": [],
   "source": [
    "import pandas as pd\n",
    "\n",
    "s = pd.Series([\"berries\", \"apples\", \"cherries\"])\n",
    "s.map(\"Today I got some {} from my garden.\".format)"
   ]
  },
  {
   "cell_type": "markdown",
   "id": "21176d2f",
   "metadata": {},
   "source": [
    "### pandas.DataFrame.explode: Transform Each Element in an Iterable to a Row"
   ]
  },
  {
   "cell_type": "markdown",
   "id": "97e11f07",
   "metadata": {},
   "source": [
    "When working with `pandas DataFrame`, if you want to transform each element in an iterable to a row, use `explode`."
   ]
  },
  {
   "cell_type": "code",
   "execution_count": null,
   "id": "c7ed3b99",
   "metadata": {},
   "outputs": [],
   "source": [
    "import pandas as pd\n",
    "\n",
    "df = pd.DataFrame({\"a\": [[1, 2], [4, 5]], \"b\": [11, 13]})\n",
    "df"
   ]
  },
  {
   "cell_type": "code",
   "execution_count": null,
   "id": "f28a3e5e",
   "metadata": {},
   "outputs": [],
   "source": [
    "df.explode(\"a\")"
   ]
  },
  {
   "cell_type": "markdown",
   "id": "aacc72e5",
   "metadata": {},
   "source": [
    "### Split a String into Multiple Rows"
   ]
  },
  {
   "cell_type": "markdown",
   "id": "08154345",
   "metadata": {},
   "source": [
    "Sometimes, you might have a column whose values are strings representing different items such as `\"1, 2\"`."
   ]
  },
  {
   "cell_type": "code",
   "execution_count": null,
   "id": "f60825ae",
   "metadata": {},
   "outputs": [],
   "source": [
    "import pandas as pd\n",
    "\n",
    "df = pd.DataFrame({\"a\": [\"1,2\", \"4,5\"], \"b\": [11, 13]})\n",
    "df"
   ]
  },
  {
   "cell_type": "markdown",
   "id": "d9647d3d",
   "metadata": {},
   "source": [
    "To turn each string into a list, use `Series.str.split()`:"
   ]
  },
  {
   "cell_type": "code",
   "execution_count": null,
   "id": "1cf31e30",
   "metadata": {},
   "outputs": [],
   "source": [
    "# Split by comma\n",
    "df.a = df.a.str.split(\",\")\n",
    "df"
   ]
  },
  {
   "cell_type": "markdown",
   "id": "56627608",
   "metadata": {},
   "source": [
    "Now you can split elements in the list into multiple rows using `explode`."
   ]
  },
  {
   "cell_type": "code",
   "execution_count": null,
   "id": "ef309a9e",
   "metadata": {},
   "outputs": [],
   "source": [
    "df.explode(\"a\")"
   ]
  },
  {
   "cell_type": "markdown",
   "id": "6a441e15",
   "metadata": {},
   "source": [
    "### Forward Fill in pandas: Use the Previous Value to Fill the Current Missing Value"
   ]
  },
  {
   "cell_type": "markdown",
   "id": "ab1b6d86",
   "metadata": {},
   "source": [
    "If you want to use the previous value in a column or a row to fill the current missing value in a pandas DataFrame, use `df.fillna(method=’ffill’)`. `ffill` stands for forward fill."
   ]
  },
  {
   "cell_type": "code",
   "execution_count": null,
   "id": "38b86180",
   "metadata": {},
   "outputs": [],
   "source": [
    "import numpy as np\n",
    "import pandas as pd\n",
    "\n",
    "df = pd.DataFrame({\"a\": [1, np.nan, 3], \"b\": [4, 5, np.nan], \"c\": [1, 2, 3]})\n",
    "df"
   ]
  },
  {
   "cell_type": "code",
   "execution_count": null,
   "id": "71e35e5f",
   "metadata": {},
   "outputs": [],
   "source": [
    "df = df.fillna(method=\"ffill\")\n",
    "df"
   ]
  },
  {
   "cell_type": "markdown",
   "id": "5177501a",
   "metadata": {},
   "source": [
    "### Replace the Missing Values with the Most Frequent Categories in a Column"
   ]
  },
  {
   "cell_type": "markdown",
   "id": "acc0d6e1",
   "metadata": {},
   "source": [
    "If you want to replace missing values with the most frequent categories in a column, find the mode of your DataFrame and use it to fill the missing values."
   ]
  },
  {
   "cell_type": "code",
   "execution_count": null,
   "id": "af6abe5d",
   "metadata": {},
   "outputs": [],
   "source": [
    "import numpy as np\n",
    "import pandas as pd\n",
    "\n",
    "df = pd.DataFrame({\"a\": [1, 3, np.nan, 3], \"b\": [4, 5, 4, np.nan]})\n",
    "df"
   ]
  },
  {
   "cell_type": "code",
   "execution_count": null,
   "id": "ef39191c",
   "metadata": {},
   "outputs": [],
   "source": [
    "df.fillna(df.mode().iloc[0])"
   ]
  },
  {
   "cell_type": "markdown",
   "id": "e0bbf9fb",
   "metadata": {},
   "source": [
    "### Encode Categorical Values in a Pandas DataFrame"
   ]
  },
  {
   "cell_type": "markdown",
   "id": "ee9b7938",
   "metadata": {},
   "source": [
    "There are multiple ways for you to encode a categorical column in a pandas DataFrame. If you simply want to convert each value in a column to a number, use `cat.codes`."
   ]
  },
  {
   "cell_type": "code",
   "execution_count": null,
   "id": "a20acb3f",
   "metadata": {},
   "outputs": [],
   "source": [
    "import pandas as pd\n",
    "\n",
    "df = pd.DataFrame({\"col1\": [\"a\", \"b\", \"b\", \"c\"]})\n",
    "\n",
    "# Convert col1 to a category\n",
    "df[\"col1\"] = df[\"col1\"].astype(\"category\")\n",
    "\n",
    "# Encode col1\n",
    "df[\"encoded_col1\"] = df[\"col1\"].cat.codes\n",
    "print(df)"
   ]
  },
  {
   "cell_type": "markdown",
   "id": "2de7de0b",
   "metadata": {},
   "source": [
    "### Optimize Your Pandas Code with Vectorized Operations"
   ]
  },
  {
   "cell_type": "markdown",
   "id": "150e62a7",
   "metadata": {},
   "source": [
    "Use pandas' vectorized operations instead of performing operations on each column individually. This leverages pandas' optimized C implementation for better performance, especially with large datasets.\n",
    "\n",
    "In the following example, the first approach iterates over each column individually, while the second approach uses a vectorized operation to fill the missing values in one go."
   ]
  },
  {
   "cell_type": "code",
   "execution_count": null,
   "id": "0f24106d",
   "metadata": {},
   "outputs": [],
   "source": [
    "import pandas as pd\n",
    "import numpy as np\n",
    "\n",
    "# Create a sample DataFrame with missing values\n",
    "data = pd.DataFrame(\n",
    "    {\n",
    "        \"A\": [1, 2, np.nan, 4, 5],\n",
    "        \"B\": [np.nan, 2, 3, np.nan, 5],\n",
    "    }\n",
    ")\n",
    "\n",
    "fill_dict = {\"A\": 3, \"B\": 1}\n",
    "\n",
    "# Iterate over each column and fill missing values with 0\n",
    "df = data.copy()\n",
    "for col, value in fill_dict.items():\n",
    "    df[col] = df[col].fillna(value)\n",
    "print(df)\n",
    "\n",
    "# Use vectorized operations to fill missing values\n",
    "df = data.copy()\n",
    "df = df.fillna(fill_dict)\n",
    "print(df)"
   ]
  },
  {
   "cell_type": "markdown",
   "id": "d1a0e6a3",
   "metadata": {},
   "source": [
    "### Raise an Exception for a Chained Assignment in pandas"
   ]
  },
  {
   "cell_type": "markdown",
   "id": "d9f6f65d",
   "metadata": {},
   "source": [
    "Pandas allows chained assignments, which involve performing multiple indexing operations in a single statement, but they can lead to unexpected results or errors.\n",
    "\n",
    "The statement below fails to modify the values in `df` as intended, but it doesn't throw an error."
   ]
  },
  {
   "cell_type": "code",
   "execution_count": null,
   "id": "48f73ada",
   "metadata": {},
   "outputs": [],
   "source": [
    "import pandas as pd\n",
    "\n",
    "df = pd.DataFrame({\"col1\": [-2, 2], \"col2\": [0, 0]})\n",
    "\n",
    "# Create a new copy of the selected rows\n",
    "# Sets the value of `col2` to 1 in the new copy\n",
    "df[df[\"col1\"] > 0][\"col2\"] = 1\n",
    "df"
   ]
  },
  {
   "cell_type": "markdown",
   "id": "4ef5afce",
   "metadata": {},
   "source": [
    "Setting `pd.options.mode.chained_assignment` to `'raise'` will cause pandas to raise an exception if a chained assignment occurs."
   ]
  },
  {
   "cell_type": "code",
   "execution_count": null,
   "id": "a60045d3",
   "metadata": {},
   "outputs": [],
   "source": [
    "pd.options.mode.chained_assignment = \"raise\"\n",
    "df = pd.DataFrame({\"col1\": [-2, 2], \"col2\": [0, 0]})\n",
    "df[df[\"col1\"] > 0][\"col2\"] = 1"
   ]
  },
  {
   "cell_type": "markdown",
   "id": "bf18c6e8",
   "metadata": {},
   "source": [
    "```bash\n",
    "SettingWithCopyError: \n",
    "A value is trying to be set on a copy of a slice from a DataFrame.\n",
    "Try using .loc[row_indexer,col_indexer] = value instead\n",
    "\n",
    "See the caveats in the documentation: https://pandas.pydata.org/pandas-docs/stable/user_guide/indexing.html#returning-a-view-versus-a-copy\n",
    "```"
   ]
  }
 ],
 "metadata": {
  "jupytext": {
   "text_representation": {
    "extension": ".md",
    "format_name": "myst",
    "format_version": 0.13,
    "jupytext_version": "1.16.7"
   }
  },
  "kernelspec": {
   "display_name": "Python 3.8.9 ('venv': venv)",
   "language": "python",
   "name": "python3"
  },
  "source_map": [
   14,
   20,
   24,
   28,
   32,
   36,
   40,
   56,
   60,
   64,
   71,
   74,
   78,
   82,
   89,
   91,
   95,
   101,
   110,
   114,
   118,
   124,
   128,
   133,
   137,
   141,
   148,
   150,
   154,
   158,
   163,
   167,
   171,
   175,
   177,
   181,
   185,
   193,
   196,
   200,
   204,
   212,
   214,
   218,
   222,
   233,
   237,
   243,
   267,
   271,
   277,
   286,
   290,
   294
  ]
 },
 "nbformat": 4,
 "nbformat_minor": 5
}