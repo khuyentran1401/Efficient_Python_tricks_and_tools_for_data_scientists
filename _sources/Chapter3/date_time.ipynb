{
 "cells": [
  {
   "cell_type": "markdown",
   "id": "978c3ede",
   "metadata": {},
   "source": [
    "## Work with Datetime"
   ]
  },
  {
   "cell_type": "markdown",
   "id": "ea3c490a",
   "metadata": {},
   "source": [
    "![](../img/datetime_pandas.png)"
   ]
  },
  {
   "cell_type": "markdown",
   "id": "56859966",
   "metadata": {},
   "source": [
    "### parse_dates: Convert Columns into Datetime When Using pandas to Read CSV Files"
   ]
  },
  {
   "cell_type": "markdown",
   "id": "68153586",
   "metadata": {},
   "source": [
    "If there are datetime columns in your CSV file, use the `parse_dates` parameter when reading CSV file with pandas. This reduces one extra step to convert these columns from string to datetime after reading the file."
   ]
  },
  {
   "cell_type": "code",
   "execution_count": null,
   "id": "4dad912e",
   "metadata": {},
   "outputs": [],
   "source": [
    "# Create data files\n",
    "import pandas as pd\n",
    "\n",
    "data = pd.DataFrame(\n",
    "    {\n",
    "        \"date_column_1\": [\"2021/02/10\", \"2021/02/12\"],\n",
    "        \"date_column_2\": [\"2021/02/11\", \"2021/02/13\"],\n",
    "        \"value\": [3, 3],\n",
    "    }\n",
    ")\n",
    "data.to_csv(\"data.csv\", index=False)"
   ]
  },
  {
   "cell_type": "code",
   "execution_count": null,
   "id": "7e6558ba",
   "metadata": {},
   "outputs": [],
   "source": [
    "import pandas as pd \n",
    "\n",
    "df = pd.read_csv(\"data.csv\", parse_dates=[\"date_column_1\", \"date_column_2\"])"
   ]
  },
  {
   "cell_type": "code",
   "execution_count": null,
   "id": "3319eb19",
   "metadata": {},
   "outputs": [],
   "source": [
    "df"
   ]
  },
  {
   "cell_type": "code",
   "execution_count": null,
   "id": "d6e4cc6d",
   "metadata": {},
   "outputs": [],
   "source": [
    "df.info()"
   ]
  },
  {
   "cell_type": "markdown",
   "id": "b28ac5ea",
   "metadata": {},
   "source": [
    "### pandas' DateOffset: Add a Time Interval to a pandas Timestamp"
   ]
  },
  {
   "cell_type": "markdown",
   "id": "f256aaae",
   "metadata": {},
   "source": [
    "If you want to add days, months, or other time intervals to a pandas `Timestamp`,  use `pd.DateOffset`."
   ]
  },
  {
   "cell_type": "code",
   "execution_count": null,
   "id": "6f0a66ce",
   "metadata": {},
   "outputs": [],
   "source": [
    "import pandas as pd \n",
    "from pandas.tseries.offsets import DateOffset, BDay\n",
    "\n",
    "ts = pd.Timestamp('2021-10-10 9:00:00')\n",
    "\n",
    "# Increase the timestamp by 3 months\n",
    "ts + DateOffset(months=3)"
   ]
  },
  {
   "cell_type": "code",
   "execution_count": null,
   "id": "065bf83b",
   "metadata": {},
   "outputs": [],
   "source": [
    "# Increase the timestamp by 3 years and 3 hours\n",
    "ts + DateOffset(years=3, hours=3)"
   ]
  },
  {
   "cell_type": "markdown",
   "id": "eb4d87fc",
   "metadata": {},
   "source": [
    "You can also increase the timestamp by `n` business days using `BDay`."
   ]
  },
  {
   "cell_type": "code",
   "execution_count": null,
   "id": "1760fabe",
   "metadata": {},
   "outputs": [],
   "source": [
    "# Increase the timestamp by 6 business days\n",
    "ts + BDay(n=6)"
   ]
  },
  {
   "cell_type": "markdown",
   "id": "f4d0d994",
   "metadata": {},
   "source": [
    "[Link to pandas DateOffset](https://pandas.pydata.org/docs/reference/api/pandas.tseries.offsets.DateOffset.html)."
   ]
  },
  {
   "cell_type": "markdown",
   "id": "8e4ce631",
   "metadata": {},
   "source": [
    "### DataFrame rolling: Find The Average of The Previous n Datapoints Using pandas"
   ]
  },
  {
   "cell_type": "markdown",
   "id": "f88b3a90",
   "metadata": {},
   "source": [
    "If you want to find the average of the previous n data points (simple moving average) with pandas, use `df.rolling(time_period).mean()`.\n",
    "\n",
    "The code below shows how to find the simple moving average of the previous 3 data-points."
   ]
  },
  {
   "cell_type": "code",
   "execution_count": null,
   "id": "df380411",
   "metadata": {},
   "outputs": [],
   "source": [
    "from datetime import date\n",
    "import pandas as pd \n",
    "\n",
    "df = pd.DataFrame(\n",
    "    {\n",
    "        \"date\": [\n",
    "            date(2021, 1, 20),\n",
    "            date(2021, 1, 21),\n",
    "            date(2021, 1, 22),\n",
    "            date(2021, 1, 23),\n",
    "            date(2021, 1, 24),\n",
    "        ],\n",
    "        \"value\": [1, 2, 3, 4, 5],\n",
    "    }\n",
    ").set_index(\"date\")\n",
    "\n",
    "df"
   ]
  },
  {
   "cell_type": "code",
   "execution_count": null,
   "id": "2ceb61fc",
   "metadata": {},
   "outputs": [],
   "source": [
    "df.rolling(3).mean()"
   ]
  },
  {
   "cell_type": "markdown",
   "id": "0f9c8e1a",
   "metadata": {},
   "source": [
    "### pandas Grouper: Group Values Based on a Specific Frequency"
   ]
  },
  {
   "cell_type": "markdown",
   "id": "de171284",
   "metadata": {},
   "source": [
    "Imagine you are given a DataFrame with a date column. If you want to group your DataFrame by a specific frequency, use `pd.Grouper`. A `Grouper` allows you to customize your groupby instruction.\n",
    "\n",
    "In the code below, I set `freq=1W` to group my DataFrame by weeks."
   ]
  },
  {
   "cell_type": "code",
   "execution_count": null,
   "id": "6ea816d7",
   "metadata": {},
   "outputs": [],
   "source": [
    "import pandas as pd\n",
    "\n",
    "df = pd.DataFrame(\n",
    "    {\"date\": [\"3-15-22\", \"3-16-22\", \"3-22-22\"], \"price\": [2, 3, 4]}\n",
    ")\n",
    "df[\"date\"] = pd.to_datetime(df[\"date\"])\n",
    "df"
   ]
  },
  {
   "cell_type": "code",
   "execution_count": null,
   "id": "5b194454",
   "metadata": {},
   "outputs": [],
   "source": [
    "df.groupby(pd.Grouper(key=\"date\", freq=\"1W\")).mean()"
   ]
  },
  {
   "cell_type": "markdown",
   "id": "9b399dd6",
   "metadata": {},
   "source": [
    "### pandas.Series.dt: Access Datetime Properties of a pandas Series"
   ]
  },
  {
   "cell_type": "markdown",
   "id": "9c7332f5",
   "metadata": {},
   "source": [
    "The easiest way to access datetime properties of pandas Series values is to use `pandas.Series.dt`."
   ]
  },
  {
   "cell_type": "code",
   "execution_count": null,
   "id": "bc3acfd3",
   "metadata": {},
   "outputs": [],
   "source": [
    "import pandas as pd \n",
    "\n",
    "df = pd.DataFrame({\"date\": [\"2021/05/13 15:00\", \"2022-6-20 14:00\"], \"values\": [1, 3]})\n",
    "\n",
    "df[\"date\"] = pd.to_datetime(df[\"date\"])\n",
    "\n",
    "df[\"date\"].dt.year"
   ]
  },
  {
   "cell_type": "code",
   "execution_count": null,
   "id": "ba27daac",
   "metadata": {},
   "outputs": [],
   "source": [
    "df[\"date\"].dt.time"
   ]
  },
  {
   "cell_type": "markdown",
   "id": "3c78faec",
   "metadata": {},
   "source": [
    "### Get Rows within a Year Range"
   ]
  },
  {
   "cell_type": "markdown",
   "id": "ab0f4745",
   "metadata": {},
   "source": [
    "If you want to get all data starting in a particular year and exclude the previous years, simply use `df.loc['year':]` like below. This works when the index of your `pd.Dataframe` is `DatetimeIndex`."
   ]
  },
  {
   "cell_type": "code",
   "execution_count": null,
   "id": "46071cb7",
   "metadata": {},
   "outputs": [],
   "source": [
    "from datetime import datetime\n",
    "import pandas as pd \n",
    "\n",
    "df = pd.DataFrame(\n",
    "    {\n",
    "        \"date\": [datetime(2018, 10, 1), datetime(2019, 10, 1), datetime(2020, 10, 1)],\n",
    "        \"val\": [1, 2, 3],\n",
    "    }\n",
    ").set_index(\"date\")\n",
    "\n",
    "df"
   ]
  },
  {
   "cell_type": "code",
   "execution_count": null,
   "id": "0c137ef0",
   "metadata": {},
   "outputs": [],
   "source": [
    "df.loc[\"2019\":]"
   ]
  },
  {
   "cell_type": "markdown",
   "id": "b1b5d7d5",
   "metadata": {},
   "source": [
    "### pandas.reindex: Replace the Values of the Missing Dates with 0"
   ]
  },
  {
   "cell_type": "markdown",
   "id": "12d28940",
   "metadata": {},
   "source": [
    "Have you ever got a time series with missing dates? This can cause a problem since many time series methods require a fixed frequency index.\n",
    "\n",
    "To fix this issue, you can replace the values of the missing dates with 0 using `pd.date_range` and `pd.reindex`."
   ]
  },
  {
   "cell_type": "code",
   "execution_count": null,
   "id": "6c7e3d98",
   "metadata": {},
   "outputs": [],
   "source": [
    "import pandas as pd \n",
    "\n",
    "s = pd.Series([1, 2, 3], index=[\"2021-07-20\", \"2021-07-23\", \"2021-07-25\"])\n",
    "s.index = pd.to_datetime(s.index)\n",
    "s"
   ]
  },
  {
   "cell_type": "code",
   "execution_count": null,
   "id": "80aa08b3",
   "metadata": {},
   "outputs": [],
   "source": [
    "# Get dates ranging from 2021/7/20 to 2021/7/25\n",
    "new_index = pd.date_range(\"2021-07-20\", \"2021-07-25\")\n",
    "\n",
    "# Conform Series to new index\n",
    "new_s = s.reindex(new_index, fill_value=0)\n",
    "new_s"
   ]
  },
  {
   "cell_type": "markdown",
   "id": "b9c0c12a",
   "metadata": {},
   "source": [
    "### Select DataFrame Rows Before or After a Specific Date"
   ]
  },
  {
   "cell_type": "markdown",
   "id": "7b9ce0d6",
   "metadata": {},
   "source": [
    "If you want to get the rows whose dates are before or after a specific date, use the comparison operator and a date string."
   ]
  },
  {
   "cell_type": "code",
   "execution_count": null,
   "id": "cc264bed",
   "metadata": {},
   "outputs": [],
   "source": [
    "import pandas as pd \n",
    "\n",
    "df = pd.DataFrame(\n",
    "    {\"date\": pd.date_range(start=\"2021-7-19\", end=\"2021-7-23\"), \"value\": list(range(5))}\n",
    ")\n",
    "df"
   ]
  },
  {
   "cell_type": "code",
   "execution_count": null,
   "id": "3ae8c7fb",
   "metadata": {},
   "outputs": [],
   "source": [
    "filtered_df = df[df.date <= \"2021-07-21\"]\n",
    "filtered_df"
   ]
  },
  {
   "cell_type": "markdown",
   "id": "54a04135",
   "metadata": {},
   "source": [
    "### resample: Resample Time-Series Data"
   ]
  },
  {
   "cell_type": "markdown",
   "id": "22bca5ad",
   "metadata": {},
   "source": [
    "If you want to change the frequency of time-series data,  use `resample`. In the code below, I use `resample` to show the records every two days instead of every day."
   ]
  },
  {
   "cell_type": "code",
   "execution_count": null,
   "id": "540b08e8",
   "metadata": {},
   "outputs": [],
   "source": [
    "import pandas as pd  \n",
    "from numpy.random import randint\n",
    "\n",
    "index = pd.date_range(\"2022-02-01\", \"2022-02-6\")\n",
    "s = pd.Series(index=index, data=randint(0, 10, 6))\n",
    "s "
   ]
  },
  {
   "cell_type": "code",
   "execution_count": null,
   "id": "4dbbcaa0",
   "metadata": {},
   "outputs": [],
   "source": [
    "s.resample('2D').sum()"
   ]
  },
  {
   "cell_type": "markdown",
   "id": "10070947",
   "metadata": {},
   "source": [
    "### Shift the Index of a DataFrame by a Specific Number of Periods"
   ]
  },
  {
   "cell_type": "markdown",
   "id": "6539138a",
   "metadata": {},
   "source": [
    "If you want to shift the index of a DataFrame by a specific number of periods, use `pandas.DataFrame.shift`."
   ]
  },
  {
   "cell_type": "code",
   "execution_count": null,
   "id": "34df7d32",
   "metadata": {},
   "outputs": [],
   "source": [
    "import pandas as pd\n",
    "\n",
    "df = pd.DataFrame(\n",
    "    {\"a\": [1, 2, 3], \"b\": [4, 5, 6]}, index=pd.date_range(\"2022-01-01\", \"2022-01-03\")\n",
    ")\n",
    "df "
   ]
  },
  {
   "cell_type": "code",
   "execution_count": null,
   "id": "614153ac",
   "metadata": {},
   "outputs": [],
   "source": [
    "shifted = df.shift(periods=1)\n",
    "shifted"
   ]
  },
  {
   "cell_type": "code",
   "execution_count": null,
   "id": "82fd98da",
   "metadata": {},
   "outputs": [],
   "source": [
    "shifted.dropna()"
   ]
  }
 ],
 "metadata": {
  "jupytext": {
   "text_representation": {
    "extension": ".md",
    "format_name": "myst",
    "format_version": 0.13,
    "jupytext_version": "1.16.7"
   }
  },
  "kernelspec": {
   "display_name": "Python 3.8.9 ('venv': venv)",
   "language": "python",
   "name": "python3"
  },
  "source_map": [
   12,
   16,
   20,
   24,
   28,
   42,
   48,
   52,
   54,
   58,
   62,
   72,
   75,
   79,
   82,
   86,
   90,
   96,
   116,
   118,
   122,
   128,
   138,
   140,
   144,
   148,
   158,
   160,
   164,
   168,
   182,
   184,
   188,
   194,
   202,
   209,
   213,
   217,
   226,
   229,
   233,
   237,
   246,
   248,
   252,
   256,
   265,
   270
  ]
 },
 "nbformat": 4,
 "nbformat_minor": 5
}