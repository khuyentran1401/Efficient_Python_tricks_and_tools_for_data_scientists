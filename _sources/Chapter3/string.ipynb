{
 "cells": [
  {
   "cell_type": "markdown",
   "id": "a867b317",
   "metadata": {},
   "source": [
    "## Work with String"
   ]
  },
  {
   "cell_type": "markdown",
   "id": "d32c585c",
   "metadata": {},
   "source": [
    "### pandas.Series.str: Manipulate Text Data in a Pandas Series"
   ]
  },
  {
   "cell_type": "markdown",
   "id": "1d7c97fc",
   "metadata": {},
   "source": [
    "If you are working the text data in a pandas Series, instead of creating your own functions, use `pandas.Series.str` to access common methods to process string.\n",
    "\n",
    "The code below shows how to convert text to lower case then replace “e” with “a”."
   ]
  },
  {
   "cell_type": "code",
   "execution_count": null,
   "id": "809b6bd1",
   "metadata": {},
   "outputs": [],
   "source": [
    "import pandas as pd \n",
    "\n",
    "fruits = pd.Series(['Orange', 'Apple', 'Grape'])\n",
    "fruits"
   ]
  },
  {
   "cell_type": "code",
   "execution_count": null,
   "id": "f228a830",
   "metadata": {},
   "outputs": [],
   "source": [
    "fruits.str.lower()"
   ]
  },
  {
   "cell_type": "code",
   "execution_count": null,
   "id": "e36b626a",
   "metadata": {},
   "outputs": [],
   "source": [
    "fruits.str.lower().str.replace(\"e\", \"a\")"
   ]
  },
  {
   "cell_type": "markdown",
   "id": "071f2696",
   "metadata": {},
   "source": [
    "Find other useful string methods [here](https://pandas.pydata.org/pandas-docs/stable/user_guide/text.html#string-methods)."
   ]
  },
  {
   "cell_type": "markdown",
   "id": "76765d30",
   "metadata": {},
   "source": [
    "### DataFrame.columns.str.startswith: Find DataFrame’s Columns that Start With a Pattern"
   ]
  },
  {
   "cell_type": "markdown",
   "id": "b8ee9149",
   "metadata": {},
   "source": [
    "To find pandas DataFrame whose columns start with a pattern, use `df.columns.str.startswith`."
   ]
  },
  {
   "cell_type": "code",
   "execution_count": null,
   "id": "ebea33ca",
   "metadata": {},
   "outputs": [],
   "source": [
    "import pandas as pd \n",
    "\n",
    "df = pd.DataFrame({'pricel': [1, 2, 3],\n",
    "                    'price2': [2, 3, 4],\n",
    "                    'year': [2020, 2021, 2021]})\n",
    "\n",
    "mask = df.columns.str.startswith('price')\n",
    "df.loc[:, mask]"
   ]
  },
  {
   "cell_type": "markdown",
   "id": "af38d71f",
   "metadata": {},
   "source": [
    "### Find Rows Containing One of the Substrings in a List"
   ]
  },
  {
   "cell_type": "markdown",
   "id": "fc00c41c",
   "metadata": {},
   "source": [
    "If you want to find rows that contain one of the substrings in a list, join that list using `|`:"
   ]
  },
  {
   "cell_type": "code",
   "execution_count": null,
   "id": "03b00a8c",
   "metadata": {},
   "outputs": [],
   "source": [
    "import pandas as pd  \n",
    "\n",
    "s = pd.Series(['bunny', 'monkey', 'funny', 'flower'])\n",
    "\n",
    "sub_str = ['ny', 'ey']\n",
    "join_str = '|'.join(sub_str)\n",
    "join_str"
   ]
  },
  {
   "cell_type": "markdown",
   "id": "a91efca4",
   "metadata": {},
   "source": [
    "... then use `str.contains`. Now you only get the strings that end with \"ny\" or \"ey\":"
   ]
  },
  {
   "cell_type": "code",
   "execution_count": null,
   "id": "7851d743",
   "metadata": {},
   "outputs": [],
   "source": [
    "s[s.str.contains(join_str)]"
   ]
  }
 ],
 "metadata": {
  "jupytext": {
   "text_representation": {
    "extension": ".md",
    "format_name": "myst",
    "format_version": 0.13,
    "jupytext_version": "1.16.7"
   }
  },
  "kernelspec": {
   "display_name": "Python 3 (ipykernel)",
   "language": "python",
   "name": "python3"
  },
  "source_map": [
   12,
   16,
   20,
   26,
   33,
   37,
   39,
   43,
   47,
   51,
   60,
   64,
   68,
   76,
   80
  ]
 },
 "nbformat": 4,
 "nbformat_minor": 5
}