{
 "cells": [
  {
   "cell_type": "markdown",
   "id": "8c92883c",
   "metadata": {},
   "source": [
    "## Transform a DataFrame"
   ]
  },
  {
   "cell_type": "markdown",
   "id": "100a6937",
   "metadata": {},
   "source": [
    "This section covers some pandas methods to transform a DataFrame into another form using methods such as aggregation and groupby."
   ]
  },
  {
   "cell_type": "markdown",
   "id": "af92b72e",
   "metadata": {},
   "source": [
    "### pandas.DataFrame.agg: Aggregate over Columns or Rows Using Multiple Operations"
   ]
  },
  {
   "cell_type": "markdown",
   "id": "6975ccbd",
   "metadata": {},
   "source": [
    "If you want to aggregate over columns or rows using one or more operations, try `pd.DataFrame.agg`."
   ]
  },
  {
   "cell_type": "code",
   "execution_count": null,
   "id": "ef3d8090",
   "metadata": {},
   "outputs": [],
   "source": [
    "from collections import Counter\n",
    "import pandas as pd\n",
    "\n",
    "\n",
    "def count_two(nums: list):\n",
    "    return Counter(nums)[2]\n",
    "\n",
    "\n",
    "df = pd.DataFrame({\"coll\": [1, 3, 5], \"col2\": [2, 4, 6]})\n",
    "df.agg([\"sum\", count_two])"
   ]
  },
  {
   "cell_type": "markdown",
   "id": "d8f6f39f",
   "metadata": {},
   "source": [
    "### pandas.DataFrame.agg: Apply Different Aggregations to Different Columns"
   ]
  },
  {
   "cell_type": "markdown",
   "id": "7f28b40d",
   "metadata": {},
   "source": [
    "If you want to apply different aggregations to different columns, insert a dictionary of column and aggregation methods to the `pd.DataFrame.agg` method."
   ]
  },
  {
   "cell_type": "code",
   "execution_count": null,
   "id": "33525460",
   "metadata": {},
   "outputs": [],
   "source": [
    "import pandas as pd \n",
    "\n",
    "df = pd.DataFrame({\"a\": [1, 2, 3, 4], \"b\": [2, 3, 4, 5]})\n",
    "\n",
    "df.agg({\"a\": [\"sum\", \"mean\"], \"b\": [\"min\", \"max\"]})"
   ]
  },
  {
   "cell_type": "markdown",
   "id": "a0819a87",
   "metadata": {},
   "source": [
    "### Group DataFrame's Rows into a List Using groupby"
   ]
  },
  {
   "cell_type": "markdown",
   "id": "dc0285bf",
   "metadata": {},
   "source": [
    "It is common to use `groupby` to get the statistics of rows in the same group such as count, mean, median, etc. If you want to group rows into a list instead, use `lambda x: list(x)`."
   ]
  },
  {
   "cell_type": "code",
   "execution_count": null,
   "id": "ea1d5efa",
   "metadata": {},
   "outputs": [],
   "source": [
    "import pandas as pd\n",
    "\n",
    "df = pd.DataFrame(\n",
    "    {\n",
    "        \"col1\": [1, 2, 3, 4, 3],\n",
    "        \"col2\": [\"a\", \"a\", \"b\", \"b\", \"c\"],\n",
    "        \"col3\": [\"d\", \"e\", \"f\", \"g\", \"h\"],\n",
    "    }\n",
    ")\n",
    "\n",
    "df.groupby([\"col2\"]).agg({\"col1\": \"mean\", \"col3\": lambda x: list(x)})"
   ]
  },
  {
   "cell_type": "markdown",
   "id": "1b453875",
   "metadata": {},
   "source": [
    "### Get the N Largest Values for Each Category in a DataFrame"
   ]
  },
  {
   "cell_type": "markdown",
   "id": "add84b0b",
   "metadata": {},
   "source": [
    "If you want to get the `n` largest values for each category in a pandas DataFrame, use the combination of `groupby` and `nlargest`."
   ]
  },
  {
   "cell_type": "code",
   "execution_count": null,
   "id": "b6d560bd",
   "metadata": {},
   "outputs": [],
   "source": [
    "import pandas as pd\n",
    "\n",
    "df = pd.DataFrame({\"type\": [\"a\", \"a\", \"a\", \"b\", \"b\"], \"value\": [1, 2, 3, 1, 2]})\n",
    "\n",
    "# Get n largest values for each type\n",
    "(\n",
    "    df.groupby(\"type\")\n",
    "    .apply(lambda df_: df_.nlargest(2, \"value\"))\n",
    "    .reset_index(drop=True)\n",
    ")"
   ]
  },
  {
   "cell_type": "markdown",
   "id": "a08ff30e",
   "metadata": {},
   "source": [
    "### Assign Name to a Pandas Aggregation"
   ]
  },
  {
   "cell_type": "markdown",
   "id": "4853b276",
   "metadata": {},
   "source": [
    "By default, aggregating a column returns the name of that column."
   ]
  },
  {
   "cell_type": "code",
   "execution_count": null,
   "id": "3f05af53",
   "metadata": {},
   "outputs": [],
   "source": [
    "import pandas as pd \n",
    "\n",
    "df = pd.DataFrame({\"size\": [\"S\", \"S\", \"M\", \"L\"], \"price\": [2, 3, 4, 5]})\n",
    "\n",
    "df.groupby('size').agg({'price': 'mean'})"
   ]
  },
  {
   "cell_type": "markdown",
   "id": "14e2df54",
   "metadata": {},
   "source": [
    "If you want to assign a new name to an aggregation, add `name = (column, agg_method)` to `agg`."
   ]
  },
  {
   "cell_type": "code",
   "execution_count": null,
   "id": "0c02a60a",
   "metadata": {},
   "outputs": [],
   "source": [
    "df.groupby('size').agg(mean_price=('price', 'mean'))"
   ]
  },
  {
   "cell_type": "markdown",
   "id": "f1519066",
   "metadata": {},
   "source": [
    "### pandas.pivot_table: Turn Your DataFrame Into a Pivot Table"
   ]
  },
  {
   "cell_type": "markdown",
   "id": "1a54a0fd",
   "metadata": {},
   "source": [
    "A pivot table is useful to summarize and analyze the patterns in your data. If you want to turn your DataFrame into a pivot table, use `pandas.pivot_table`."
   ]
  },
  {
   "cell_type": "code",
   "execution_count": null,
   "id": "0d8a5f71",
   "metadata": {},
   "outputs": [],
   "source": [
    "import pandas as pd \n",
    "\n",
    "df = pd.DataFrame(\n",
    "    {\n",
    "        \"item\": [\"apple\", \"apple\", \"apple\", \"apple\", \"apple\"],\n",
    "        \"size\": [\"small\", \"small\", \"large\", \"large\", \"large\"],\n",
    "        \"location\": [\"Walmart\", \"Aldi\", \"Walmart\", \"Aldi\", \"Aldi\"],\n",
    "        \"price\": [3, 2, 4, 3, 2.5],\n",
    "    }\n",
    ")\n",
    "\n",
    "df"
   ]
  },
  {
   "cell_type": "code",
   "execution_count": null,
   "id": "cb08cb68",
   "metadata": {},
   "outputs": [],
   "source": [
    "pivot = pd.pivot_table(\n",
    "    df, values=\"price\", index=[\"item\", \"size\"], columns=[\"location\"], aggfunc=\"mean\"\n",
    ")\n",
    "pivot"
   ]
  },
  {
   "cell_type": "markdown",
   "id": "ba95b4b1",
   "metadata": {},
   "source": [
    "### DataFrame.groupby.sample: Get a Random Sample of Items from Each Category in a Column"
   ]
  },
  {
   "cell_type": "markdown",
   "id": "f54768f8",
   "metadata": {},
   "source": [
    "If you want to get a random sample of items from each category in a column, use `pandas.DataFrame.groupby.sample`.This method is useful when you want to get a subset of a DataFrame while keeping all categories in a column."
   ]
  },
  {
   "cell_type": "code",
   "execution_count": null,
   "id": "13248ed8",
   "metadata": {},
   "outputs": [],
   "source": [
    "import pandas as pd \n",
    "\n",
    "df = pd.DataFrame({\"col1\": [\"a\", \"a\", \"b\", \"c\", \"c\", \"d\"], \"col2\": [4, 5, 6, 7, 8, 9]})\n",
    "df.groupby(\"col1\").sample(n=1)"
   ]
  },
  {
   "cell_type": "markdown",
   "id": "53da291e",
   "metadata": {},
   "source": [
    "To get 2 items from each category, use `n=2`."
   ]
  },
  {
   "cell_type": "code",
   "execution_count": null,
   "id": "58ec50ac",
   "metadata": {},
   "outputs": [],
   "source": [
    "df = pd.DataFrame(\n",
    "    {\n",
    "        \"col1\": [\"a\", \"a\", \"b\", \"b\", \"b\", \"c\", \"c\", \"d\", \"d\"],\n",
    "        \"col2\": [4, 5, 6, 7, 8, 9, 10, 11, 12],\n",
    "    }\n",
    ")\n",
    "df.groupby(\"col1\").sample(n=2)"
   ]
  },
  {
   "cell_type": "markdown",
   "id": "c0ca255f",
   "metadata": {},
   "source": [
    "### size: Compute the Size of Each Group"
   ]
  },
  {
   "cell_type": "markdown",
   "id": "7cc0f944",
   "metadata": {},
   "source": [
    "If you want to get the count of elements in one column, use `groupby` and `count`."
   ]
  },
  {
   "cell_type": "code",
   "execution_count": null,
   "id": "c11e52a9",
   "metadata": {},
   "outputs": [],
   "source": [
    "import pandas as pd\n",
    "\n",
    "df = pd.DataFrame(\n",
    "    {\"col1\": [\"a\", \"b\", \"b\", \"c\", \"c\", \"d\"], \"col2\": [\"S\", \"S\", \"M\", \"L\", \"L\", \"L\"]}\n",
    ")\n",
    "\n",
    "df.groupby(['col1']).count()"
   ]
  },
  {
   "cell_type": "markdown",
   "id": "a6b96b46",
   "metadata": {},
   "source": [
    "If you want to get the size of groups composed of 2 or more columns, use `groupby` and `size` instead."
   ]
  },
  {
   "cell_type": "code",
   "execution_count": null,
   "id": "374018e9",
   "metadata": {},
   "outputs": [],
   "source": [
    "df.groupby(['col1', 'col2']).size()"
   ]
  },
  {
   "cell_type": "markdown",
   "id": "20ea4b21",
   "metadata": {},
   "source": [
    "### pandas.melt: Unpivot a DataFrame"
   ]
  },
  {
   "cell_type": "markdown",
   "id": "d7169eae",
   "metadata": {},
   "source": [
    "If you want to unpivot a DataFrame from wide to long format, use pandas.melt."
   ]
  },
  {
   "cell_type": "markdown",
   "id": "3d5a16ff",
   "metadata": {},
   "source": [
    "For example, you can use pandas.melt to turn multiple columns (`Aldi`, `Walmart`, `Costco`) into values of one column (`store`)."
   ]
  },
  {
   "cell_type": "code",
   "execution_count": null,
   "id": "b409b772",
   "metadata": {},
   "outputs": [],
   "source": [
    "import pandas as pd\n",
    "\n",
    "df = pd.DataFrame(\n",
    "    {\"fruit\": [\"apple\", \"orange\"], \"Aldi\": [1, 2], \"Walmart\": [3, 4], \"Costco\": [5, 6]}\n",
    ")\n",
    "df"
   ]
  },
  {
   "cell_type": "code",
   "execution_count": null,
   "id": "843e45e8",
   "metadata": {},
   "outputs": [],
   "source": [
    "df.melt(id_vars=[\"fruit\"], value_vars=[\"Aldi\", \"Walmart\", \"Costco\"], var_name='store')"
   ]
  },
  {
   "cell_type": "markdown",
   "id": "b0985512",
   "metadata": {},
   "source": [
    "### pandas.crosstab: Create a Cross Tabulation"
   ]
  },
  {
   "cell_type": "markdown",
   "id": "c07ec4aa",
   "metadata": {},
   "source": [
    "Cross tabulation allows you to analyze the relationship between multiple variables. To turn a pandas DataFrame into a cross tabulation, use `pandas.crosstab`."
   ]
  },
  {
   "cell_type": "code",
   "execution_count": null,
   "id": "fba2001f",
   "metadata": {},
   "outputs": [],
   "source": [
    "import pandas as pd  \n",
    "\n",
    "network = [\n",
    "    (\"Ben\", \"Khuyen\"),\n",
    "    (\"Ben\", \"Josh\"),\n",
    "    (\"Lauren\", \"Thinh\"),\n",
    "    (\"Lauren\", \"Khuyen\"),\n",
    "    (\"Khuyen\", \"Josh\"),\n",
    "]\n",
    "\n",
    "# Create a dataframe of the network\n",
    "friends1 = pd.DataFrame(network, columns=[\"person1\", \"person2\"])\n",
    "\n",
    "# Reverse the order of the columns\n",
    "friends2 = pd.DataFrame(network, columns=[\"person2\", \"person1\"])\n",
    "\n",
    "# Create a symmetric dataframe\n",
    "friends = pd.concat([friends1, friends2])\n",
    "\n",
    "# Create a cross tabulation \n",
    "pd.crosstab(friends.person1, friends.person2)"
   ]
  },
  {
   "cell_type": "markdown",
   "id": "ff02eaaf",
   "metadata": {},
   "source": [
    "### Stack Columns into Rows in Pandas"
   ]
  },
  {
   "cell_type": "markdown",
   "id": "98843740",
   "metadata": {},
   "source": [
    "If you want to stack the columns into rows, use `DataFrame.stack()`."
   ]
  },
  {
   "cell_type": "code",
   "execution_count": null,
   "id": "62e60591",
   "metadata": {},
   "outputs": [],
   "source": [
    "import pandas as pd\n",
    "\n",
    "# Create a DataFrame with two columns and a MultiIndex\n",
    "df = pd.DataFrame(\n",
    "    {\"A\": [1, 2, 3], \"B\": [4, 5, 6]}, index=[\"x\", \"y\", \"z\"]\n",
    ")\n",
    "\n",
    "# Original DataFrame\n",
    "print(\"Original DataFrame:\")\n",
    "print(df)"
   ]
  },
  {
   "cell_type": "code",
   "execution_count": null,
   "id": "e47dc14d",
   "metadata": {},
   "outputs": [],
   "source": [
    "# Stacked DataFrame\n",
    "stacked_df = df.stack()\n",
    "\n",
    "print(\"\\nStacked DataFrame:\")\n",
    "print(stacked_df)"
   ]
  },
  {
   "cell_type": "markdown",
   "id": "59c95655",
   "metadata": {},
   "source": [
    "### Turn a pandas Series into a pandas DataFrame"
   ]
  },
  {
   "cell_type": "markdown",
   "id": "e8ac9366",
   "metadata": {},
   "source": [
    "If you want to turn a pandas Series into a pandas DataFrame, use `str.get_dummies()`."
   ]
  },
  {
   "cell_type": "code",
   "execution_count": null,
   "id": "4f6399a3",
   "metadata": {},
   "outputs": [],
   "source": [
    "import pandas as pd\n",
    "\n",
    "s = pd.Series([\"a\", \"b\", \"a,b\", \"a,c\"])\n",
    "s "
   ]
  },
  {
   "cell_type": "code",
   "execution_count": null,
   "id": "dfc6b82b",
   "metadata": {},
   "outputs": [],
   "source": [
    "# Split the string by \",\"\n",
    "s.str.get_dummies(sep=\",\")"
   ]
  },
  {
   "cell_type": "markdown",
   "id": "32a34d5e",
   "metadata": {},
   "source": [
    "### Align Pandas Objects for Effective Data Manipulation"
   ]
  },
  {
   "cell_type": "markdown",
   "id": "0c5c3702",
   "metadata": {},
   "source": [
    "To perform operations between two pandas objects, it's often necessary to ensure that two pandas objects have the same row or column labels. The `df.align` method allows you to align two pandas objects along specified axes."
   ]
  },
  {
   "cell_type": "code",
   "execution_count": null,
   "id": "1cbaf89e",
   "metadata": {},
   "outputs": [],
   "source": [
    "import pandas as pd\n",
    "\n",
    "df1 = pd.DataFrame([[1, 2], [4, 5]], columns=[\"b\", \"a\"])\n",
    "df2 = pd.DataFrame([[4, 3, 2], [6, 5, 4]], columns=[\"a\", \"b\", \"c\"])\n",
    "\n",
    "print(\"df1:\\n\", df1, \"\\n\")\n",
    "print(\"df2:\\n\", df2)"
   ]
  },
  {
   "cell_type": "code",
   "execution_count": null,
   "id": "e80e3070",
   "metadata": {},
   "outputs": [],
   "source": [
    "# ensure df1 and df2 have the same column labels\n",
    "# by including all unique column labels from both objects\n",
    "left, right = df1.align(df2, join='outer', axis=1)"
   ]
  },
  {
   "cell_type": "code",
   "execution_count": null,
   "id": "13f3ae90",
   "metadata": {},
   "outputs": [],
   "source": [
    "print(\"df1:\\n\", left, \"\\n\")\n",
    "print(\"df2:\\n\", right)"
   ]
  }
 ],
 "metadata": {
  "jupytext": {
   "text_representation": {
    "extension": ".md",
    "format_name": "myst",
    "format_version": 0.13,
    "jupytext_version": "1.16.7"
   }
  },
  "kernelspec": {
   "display_name": "Python 3 (ipykernel)",
   "language": "python",
   "name": "python3"
  },
  "source_map": [
   12,
   16,
   20,
   24,
   28,
   39,
   43,
   47,
   53,
   57,
   61,
   73,
   77,
   81,
   92,
   96,
   100,
   106,
   110,
   112,
   116,
   120,
   135,
   140,
   144,
   148,
   153,
   157,
   165,
   169,
   173,
   181,
   185,
   187,
   191,
   195,
   199,
   208,
   210,
   214,
   218,
   240,
   244,
   248,
   261,
   267,
   271,
   275,
   282,
   285,
   289,
   293,
   303,
   309
  ]
 },
 "nbformat": 4,
 "nbformat_minor": 5
}