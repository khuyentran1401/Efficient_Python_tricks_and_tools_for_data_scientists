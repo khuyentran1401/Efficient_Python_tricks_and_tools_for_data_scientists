{
 "cells": [
  {
   "cell_type": "markdown",
   "id": "1566c3d9",
   "metadata": {},
   "source": [
    "## Sort Rows or Columns of a DataFrame"
   ]
  },
  {
   "cell_type": "markdown",
   "id": "bcc1a2e6",
   "metadata": {},
   "source": [
    "### set_categories in Pandas: Sort Categorical Column by a Specific Ordering"
   ]
  },
  {
   "cell_type": "markdown",
   "id": "c5d19e16",
   "metadata": {},
   "source": [
    "If you want to sort pandas DataFrame’s categorical column by a specific ordering such as small, medium, large, use `df.col.cat.set_categories()` method."
   ]
  },
  {
   "cell_type": "code",
   "execution_count": null,
   "id": "fb054ed8",
   "metadata": {},
   "outputs": [],
   "source": [
    "import pandas as pd \n",
    "\n",
    "df = pd.DataFrame(\n",
    "    {\"col1\": [\"large\", \"small\", \"mini\", \"medium\", \"mini\"], \"col2\": [1, 2, 3, 4, 5]}\n",
    ")\n",
    "ordered_sizes = \"large\", \"medium\", \"small\", \"mini\"\n",
    "\n",
    "df.col1 = df.col1.astype(\"category\")\n",
    "df.col1.cat.set_categories(ordered_sizes, ordered=True, inplace=True)\n",
    "df.sort_values(by=\"col1\")"
   ]
  }
 ],
 "metadata": {
  "jupytext": {
   "text_representation": {
    "extension": ".md",
    "format_name": "myst",
    "format_version": 0.13,
    "jupytext_version": "1.16.7"
   }
  },
  "kernelspec": {
   "display_name": "venv",
   "language": "python",
   "name": "python3"
  },
  "source_map": [
   12,
   16,
   20,
   24
  ]
 },
 "nbformat": 4,
 "nbformat_minor": 5
}