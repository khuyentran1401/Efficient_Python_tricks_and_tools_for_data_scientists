{
 "cells": [
  {
   "cell_type": "markdown",
   "id": "73b04efb",
   "metadata": {},
   "source": [
    "## Join Iterables"
   ]
  },
  {
   "cell_type": "markdown",
   "id": "dd79e706",
   "metadata": {},
   "source": [
    "![](../../img/join_iterable.png)"
   ]
  },
  {
   "cell_type": "markdown",
   "id": "4a2b27a6",
   "metadata": {},
   "source": [
    "### join method: Turn an Iterable into a Python String"
   ]
  },
  {
   "cell_type": "markdown",
   "id": "1db58e0e",
   "metadata": {},
   "source": [
    "If you want to turn an iterable into a string, use `join()`.\n",
    "\n",
    "In the code below, I join elements in the list `fruits` using “, “."
   ]
  },
  {
   "cell_type": "code",
   "execution_count": 3,
   "id": "07621ccf",
   "metadata": {
    "ExecuteTime": {
     "end_time": "2021-08-29T21:21:42.794002Z",
     "start_time": "2021-08-29T21:21:42.786264Z"
    }
   },
   "outputs": [
    {
     "name": "stdout",
     "output_type": "stream",
     "text": [
      "Today, I need to get some apples, oranges, grapes in the grocery store\n"
     ]
    }
   ],
   "source": [
    "fruits = ['apples', 'oranges', 'grapes']\n",
    "\n",
    "fruits_str = ', '.join(fruits)\n",
    "\n",
    "print(f\"Today, I need to get some {fruits_str} in the grocery store\")"
   ]
  },
  {
   "cell_type": "markdown",
   "id": "4917fe91",
   "metadata": {},
   "source": [
    "### Zip: Associate Elements from Two Iterators based on the Order"
   ]
  },
  {
   "cell_type": "markdown",
   "id": "69b0a96d",
   "metadata": {},
   "source": [
    "If you want to associate elements from two iterators based on the order, combine `list` and `zip`. "
   ]
  },
  {
   "cell_type": "code",
   "execution_count": 1,
   "id": "81f7ad15",
   "metadata": {
    "ExecuteTime": {
     "end_time": "2021-09-11T14:56:38.902282Z",
     "start_time": "2021-09-11T14:56:38.872285Z"
    }
   },
   "outputs": [
    {
     "data": {
      "text/plain": [
       "[(1, 'a'), (2, 'b'), (3, 'c'), (4, 'd')]"
      ]
     },
     "execution_count": 1,
     "metadata": {},
     "output_type": "execute_result"
    }
   ],
   "source": [
    "nums = [1, 2, 3, 4]\n",
    "string = \"abcd\"\n",
    "combinations = list(zip(nums, string))\n",
    "combinations"
   ]
  },
  {
   "cell_type": "markdown",
   "id": "f37d5404",
   "metadata": {},
   "source": [
    "### Python 3.10's strict=True: Preventing Data Loss in zip Operations"
   ]
  },
  {
   "cell_type": "markdown",
   "id": "b83ae9aa",
   "metadata": {},
   "source": [
    "`zip` allows you to aggregate elements from each of the iterables. However, if the iterables are not the same length, the remaining elements of the longer iterables are not paired, potentially leading to unnoticed bugs."
   ]
  },
  {
   "cell_type": "code",
   "execution_count": 1,
   "id": "0bcdfaad",
   "metadata": {},
   "outputs": [
    {
     "data": {
      "text/plain": [
       "[('apple', 1), ('orange', 2)]"
      ]
     },
     "execution_count": 1,
     "metadata": {},
     "output_type": "execute_result"
    }
   ],
   "source": [
    "fruits = [\"apple\", \"orange\", \"grape\"]\n",
    "prices = [1, 2]\n",
    "\n",
    "list(zip(fruits, prices))"
   ]
  },
  {
   "cell_type": "markdown",
   "id": "fbf15e24",
   "metadata": {},
   "source": [
    "Starting with Python 3.10, using the strict keyword argument with `zip` raises a `ValueError` if the lengths of the iterables are unequal."
   ]
  },
  {
   "cell_type": "code",
   "execution_count": 2,
   "id": "6f915862",
   "metadata": {},
   "outputs": [
    {
     "ename": "ValueError",
     "evalue": "zip() argument 2 is shorter than argument 1",
     "output_type": "error",
     "traceback": [
      "\u001b[0;31m---------------------------------------------------------------------------\u001b[0m",
      "\u001b[0;31mValueError\u001b[0m                                Traceback (most recent call last)",
      "Cell \u001b[0;32mIn[2], line 4\u001b[0m\n\u001b[1;32m      1\u001b[0m fruits \u001b[38;5;241m=\u001b[39m [\u001b[38;5;124m\"\u001b[39m\u001b[38;5;124mapple\u001b[39m\u001b[38;5;124m\"\u001b[39m, \u001b[38;5;124m\"\u001b[39m\u001b[38;5;124morange\u001b[39m\u001b[38;5;124m\"\u001b[39m, \u001b[38;5;124m\"\u001b[39m\u001b[38;5;124mgrape\u001b[39m\u001b[38;5;124m\"\u001b[39m]\n\u001b[1;32m      2\u001b[0m prices \u001b[38;5;241m=\u001b[39m [\u001b[38;5;241m1\u001b[39m, \u001b[38;5;241m2\u001b[39m]\n\u001b[0;32m----> 4\u001b[0m \u001b[38;5;28;43mlist\u001b[39;49m\u001b[43m(\u001b[49m\u001b[38;5;28;43mzip\u001b[39;49m\u001b[43m(\u001b[49m\u001b[43mfruits\u001b[49m\u001b[43m,\u001b[49m\u001b[43m \u001b[49m\u001b[43mprices\u001b[49m\u001b[43m,\u001b[49m\u001b[43m \u001b[49m\u001b[43mstrict\u001b[49m\u001b[38;5;241;43m=\u001b[39;49m\u001b[38;5;28;43;01mTrue\u001b[39;49;00m\u001b[43m)\u001b[49m\u001b[43m)\u001b[49m\n",
      "\u001b[0;31mValueError\u001b[0m: zip() argument 2 is shorter than argument 1"
     ]
    }
   ],
   "source": [
    "list(zip(fruits, prices, strict=True))"
   ]
  },
  {
   "cell_type": "markdown",
   "id": "f430f3cf",
   "metadata": {},
   "source": [
    "### Unzip a List of Iterables"
   ]
  },
  {
   "cell_type": "markdown",
   "id": "589eac17",
   "metadata": {},
   "source": [
    "You can turn a list of iterables into 2 separate iterables using `zip(*list)`.\n"
   ]
  },
  {
   "cell_type": "code",
   "execution_count": 1,
   "id": "09a8d7e5",
   "metadata": {
    "ExecuteTime": {
     "end_time": "2022-03-26T13:35:40.104986Z",
     "start_time": "2022-03-26T13:35:40.090566Z"
    }
   },
   "outputs": [],
   "source": [
    "comb = [(1, 'a'), (2, 'b'), (3, 'c'), (4, 'd')]"
   ]
  },
  {
   "cell_type": "code",
   "execution_count": 3,
   "id": "193fb239",
   "metadata": {
    "ExecuteTime": {
     "end_time": "2022-03-26T13:35:52.281614Z",
     "start_time": "2022-03-26T13:35:52.273189Z"
    }
   },
   "outputs": [
    {
     "data": {
      "text/plain": [
       "(1, 2, 3, 4)"
      ]
     },
     "execution_count": 3,
     "metadata": {},
     "output_type": "execute_result"
    }
   ],
   "source": [
    "nums_2, chars_2 = zip(*comb)\n",
    "nums_2"
   ]
  },
  {
   "cell_type": "markdown",
   "id": "eb3af17d",
   "metadata": {},
   "source": [
    "### Difference between list append and list extend"
   ]
  },
  {
   "cell_type": "markdown",
   "id": "3124f295",
   "metadata": {},
   "source": [
    "If you want to add a list to another list, use the `append` method. To add elements of a list to another list, use the `extend` method."
   ]
  },
  {
   "cell_type": "code",
   "execution_count": 19,
   "id": "dbc34797",
   "metadata": {
    "ExecuteTime": {
     "end_time": "2021-08-29T21:51:52.491706Z",
     "start_time": "2021-08-29T21:51:52.483087Z"
    }
   },
   "outputs": [
    {
     "data": {
      "text/plain": [
       "[1, 2, 3, 4, [5, 6]]"
      ]
     },
     "execution_count": 19,
     "metadata": {},
     "output_type": "execute_result"
    }
   ],
   "source": [
    "# Add a list to a list\n",
    "a = [1, 2, 3, 4]\n",
    "a.append([5, 6])\n",
    "a"
   ]
  },
  {
   "cell_type": "code",
   "execution_count": 20,
   "id": "fd376870",
   "metadata": {
    "ExecuteTime": {
     "end_time": "2021-08-29T21:51:59.395984Z",
     "start_time": "2021-08-29T21:51:59.386833Z"
    }
   },
   "outputs": [
    {
     "data": {
      "text/plain": [
       "[1, 2, 3, 4, 5, 6]"
      ]
     },
     "execution_count": 20,
     "metadata": {},
     "output_type": "execute_result"
    }
   ],
   "source": [
    "a = [1, 2, 3, 4]\n",
    "a.extend([5, 6])\n",
    "\n",
    "a"
   ]
  }
 ],
 "metadata": {
  "hide_input": false,
  "kernelspec": {
   "display_name": "Python 3.8.9 ('venv': venv)",
   "language": "python",
   "name": "python3"
  },
  "language_info": {
   "codemirror_mode": {
    "name": "ipython",
    "version": 3
   },
   "file_extension": ".py",
   "mimetype": "text/x-python",
   "name": "python",
   "nbconvert_exporter": "python",
   "pygments_lexer": "ipython3",
   "version": "3.11.6"
  },
  "toc": {
   "base_numbering": 1,
   "nav_menu": {},
   "number_sections": true,
   "sideBar": true,
   "skip_h1_title": false,
   "title_cell": "Table of Contents",
   "title_sidebar": "Contents",
   "toc_cell": false,
   "toc_position": {},
   "toc_section_display": true,
   "toc_window_display": false
  },
  "vscode": {
   "interpreter": {
    "hash": "484329849bb907480cd798e750759bc6f1d66c93f9e78e7055aa0a2c2de6b47b"
   }
  }
 },
 "nbformat": 4,
 "nbformat_minor": 5
}
