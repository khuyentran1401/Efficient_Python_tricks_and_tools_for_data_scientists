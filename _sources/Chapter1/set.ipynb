{
 "cells": [
  {
   "cell_type": "markdown",
   "id": "a46d418c",
   "metadata": {},
   "source": [
    "## Set"
   ]
  },
  {
   "cell_type": "markdown",
   "id": "bde8195a",
   "metadata": {},
   "source": [
    "### Python Set Manipulation: Adding, Removing, and Checking Subsets"
   ]
  },
  {
   "cell_type": "markdown",
   "id": "7313cc4e",
   "metadata": {},
   "source": [
    "Sets in Python offer efficient ways to handle unique elements. Here are three essential operations:"
   ]
  },
  {
   "cell_type": "markdown",
   "id": "d18ce972",
   "metadata": {},
   "source": [
    "Adding an element:"
   ]
  },
  {
   "cell_type": "code",
   "execution_count": null,
   "id": "8edeacf6",
   "metadata": {},
   "outputs": [],
   "source": [
    "# Creating a set\n",
    "fruits = {\"apple\", \"banana\", \"cherry\"}\n",
    "\n",
    "# Add a single element\n",
    "fruits.add(\"orange\")\n",
    "fruits"
   ]
  },
  {
   "cell_type": "markdown",
   "id": "233c1aab",
   "metadata": {},
   "source": [
    "Removing an element:"
   ]
  },
  {
   "cell_type": "code",
   "execution_count": null,
   "id": "f5d9957a",
   "metadata": {},
   "outputs": [],
   "source": [
    "fruits.remove(\"banana\")\n",
    "fruits"
   ]
  },
  {
   "cell_type": "markdown",
   "id": "6b0fa8e2",
   "metadata": {},
   "source": [
    "Checking for subsets:"
   ]
  },
  {
   "cell_type": "code",
   "execution_count": null,
   "id": "b21bc353",
   "metadata": {},
   "outputs": [],
   "source": [
    "# Check if a set is a subset\n",
    "is_subset = {\"apple\", \"cherry\"}.issubset(fruits)\n",
    "is_subset"
   ]
  },
  {
   "cell_type": "markdown",
   "id": "fa49a425",
   "metadata": {},
   "source": [
    "### Mastering Set Operations in Python: Union and Intersection"
   ]
  },
  {
   "cell_type": "markdown",
   "id": "f552a06e",
   "metadata": {},
   "source": [
    "Python sets are powerful tools for handling unique collections. Let's explore two key operations:\n",
    "\n",
    "Union: Combine sets to get all unique elements"
   ]
  },
  {
   "cell_type": "code",
   "execution_count": null,
   "id": "77bd4831",
   "metadata": {},
   "outputs": [],
   "source": [
    "# Creating a set\n",
    "fruits = {\"apple\", \"banana\", \"cherry\"}\n",
    "\n",
    "more_fruits = {\"mango\", \"grape\"}\n",
    "all_fruits = fruits.union(more_fruits)\n",
    "all_fruits"
   ]
  },
  {
   "cell_type": "markdown",
   "id": "61448446",
   "metadata": {},
   "source": [
    "Intersection: Find common elements between sets"
   ]
  },
  {
   "cell_type": "code",
   "execution_count": null,
   "id": "372b4d24",
   "metadata": {},
   "outputs": [],
   "source": [
    "tropical_fruits = {\"banana\", \"mango\", \"pineapple\"}\n",
    "common_fruits = all_fruits.intersection(tropical_fruits)\n",
    "common_fruits"
   ]
  },
  {
   "cell_type": "code",
   "execution_count": null,
   "id": "da7223f9",
   "metadata": {},
   "outputs": [],
   "source": [
    "# Difference with another set\n",
    "non_tropical_fruits = all_fruits.difference(tropical_fruits)\n",
    "non_tropical_fruits"
   ]
  }
 ],
 "metadata": {
  "jupytext": {
   "text_representation": {
    "extension": ".md",
    "format_name": "myst",
    "format_version": 0.13,
    "jupytext_version": "1.16.7"
   }
  },
  "kernelspec": {
   "display_name": "Python 3 (ipykernel)",
   "language": "python",
   "name": "python3"
  },
  "source_map": [
   12,
   16,
   20,
   24,
   28,
   35,
   39,
   42,
   46,
   50,
   54,
   60,
   67,
   71,
   77
  ]
 },
 "nbformat": 4,
 "nbformat_minor": 5
}