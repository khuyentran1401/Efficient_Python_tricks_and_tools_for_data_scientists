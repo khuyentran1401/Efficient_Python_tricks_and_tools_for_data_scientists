{
 "cells": [
  {
   "cell_type": "markdown",
   "id": "56445373",
   "metadata": {},
   "source": [
    "## Dictionary"
   ]
  },
  {
   "cell_type": "markdown",
   "id": "5412d431",
   "metadata": {},
   "source": [
    "![](../img/dictionary.png)"
   ]
  },
  {
   "cell_type": "markdown",
   "id": "024fb145",
   "metadata": {},
   "source": [
    "### Update a Dictionary With Items From Another Dictionary"
   ]
  },
  {
   "cell_type": "markdown",
   "id": "629eb261",
   "metadata": {},
   "source": [
    "To update a dictionary with items from another dictionary, use the `update` method."
   ]
  },
  {
   "cell_type": "code",
   "execution_count": null,
   "id": "47c401d0",
   "metadata": {},
   "outputs": [],
   "source": [
    "birth_year = {\"Ben\": 1997}\n",
    "new_birth_year = {\"Michael\": 1993, 'Lauren': 1999}\n",
    "birth_year.update(new_birth_year)"
   ]
  },
  {
   "cell_type": "code",
   "execution_count": null,
   "id": "623eb3ba",
   "metadata": {},
   "outputs": [],
   "source": [
    "birth_year.update(Josh=1990, Olivia=1991)"
   ]
  },
  {
   "cell_type": "code",
   "execution_count": null,
   "id": "c78d69e3",
   "metadata": {},
   "outputs": [],
   "source": [
    "birth_year "
   ]
  },
  {
   "cell_type": "markdown",
   "id": "d7efb81d",
   "metadata": {},
   "source": [
    "### Key Parameter in Max(): Find the Key with the Largest Value"
   ]
  },
  {
   "cell_type": "markdown",
   "id": "784a8f69",
   "metadata": {},
   "source": [
    "Applying the `max` method on a Python dictionary will return the max key."
   ]
  },
  {
   "cell_type": "code",
   "execution_count": null,
   "id": "eb7ed7a0",
   "metadata": {},
   "outputs": [],
   "source": [
    "birth_year = {\"Ben\": 1997, \"Alex\": 2000, \"Oliver\": 1995}\n",
    "\n",
    "max(birth_year)"
   ]
  },
  {
   "cell_type": "markdown",
   "id": "6a443f34",
   "metadata": {},
   "source": [
    "To find the key with the max value instead, add `key=dictionary.get` to the `max` method."
   ]
  },
  {
   "cell_type": "code",
   "execution_count": null,
   "id": "9eb31487",
   "metadata": {},
   "outputs": [],
   "source": [
    "max_val = max(birth_year, key=birth_year.get)\n",
    "max_val"
   ]
  },
  {
   "cell_type": "markdown",
   "id": "fb108c47",
   "metadata": {},
   "source": [
    "### Stop Writing Nested if-else: Use Python's .get() Instead"
   ]
  },
  {
   "cell_type": "markdown",
   "id": "9b1b8ffd",
   "metadata": {},
   "source": [
    "When working with dictionaries in Python, it's common to encounter situations where you need to access values that may or may not exist. The traditional approach of using multiple nested if-else statements can result in verbose, repetitive code that's harder to maintain and more prone to errors.\n",
    "\n",
    "Let's consider an example where we have a dictionary `user_data` with keys \"name\", \"age\", and possibly \"email\". We want to assign default values to these keys if they don't exist."
   ]
  },
  {
   "cell_type": "code",
   "execution_count": null,
   "id": "f598409c",
   "metadata": {},
   "outputs": [],
   "source": [
    "# Checking dictionary values with multiple if-else\n",
    "user_data = {\"name\": \"Alice\", \"age\": 30}\n",
    "\n",
    "# Repetitive code with multiple default values\n",
    "if \"name\" in user_data:\n",
    "    name = user_data[\"name\"]\n",
    "else:\n",
    "    name = \"Unknown\"\n",
    "    \n",
    "if \"age\" in user_data:\n",
    "    age = user_data[\"age\"]\n",
    "else:\n",
    "    age = 0\n",
    "    \n",
    "if \"email\" in user_data:\n",
    "    email = user_data[\"email\"]\n",
    "else:\n",
    "    email = \"no-email@example.com\"\n",
    "\n",
    "\n",
    "print(f\"{name=}\")\n",
    "print(f\"{age=}\")\n",
    "print(f\"{email=}\")"
   ]
  },
  {
   "cell_type": "markdown",
   "id": "c13dd51f",
   "metadata": {},
   "source": [
    "As you can see, this approach is tedious and prone to errors."
   ]
  },
  {
   "cell_type": "markdown",
   "id": "b3f6366b",
   "metadata": {},
   "source": [
    "With the `.get()` method, we can access dictionary values with default values in a single line of code. This approach is not only more concise but also more readable and maintainable."
   ]
  },
  {
   "cell_type": "code",
   "execution_count": null,
   "id": "16009eb4",
   "metadata": {},
   "outputs": [],
   "source": [
    "# Using .get() method for cleaner code\n",
    "user_data = {\"name\": \"Alice\", \"age\": 30}\n",
    "\n",
    "name = user_data.get(\"name\", \"Unknown\")\n",
    "age = user_data.get(\"age\", 0)\n",
    "email = user_data.get(\"email\", \"no-email@example.com\")\n",
    "\n",
    "print(f\"{name=}\")\n",
    "print(f\"{age=}\")\n",
    "print(f\"{email=}\")"
   ]
  },
  {
   "cell_type": "markdown",
   "id": "69b519ea",
   "metadata": {},
   "source": [
    "If you want to get the default value when a key doesn't exist in a dictionary, use `dict.get`. In the code below, since there is no key `meeting3`, the default value `online` is returned."
   ]
  },
  {
   "cell_type": "markdown",
   "id": "ccdf418b",
   "metadata": {},
   "source": [
    "### Double dict.get: Get Values in a Nested Dictionary with Missing Keys"
   ]
  },
  {
   "cell_type": "markdown",
   "id": "4a554bb6",
   "metadata": {},
   "source": [
    "Assume you have a dictionary of fruits with missing keys, and you want to extract the colors from it."
   ]
  },
  {
   "cell_type": "code",
   "execution_count": null,
   "id": "8a96f14b",
   "metadata": {},
   "outputs": [],
   "source": [
    "fruits = [\n",
    "    {\"name\": \"apple\", \"attr\": {\"color\": \"red\", \"taste\": \"sweet\"}},\n",
    "    {\"name\": \"orange\", \"attr\": {\"taste\": \"sour\"}},\n",
    "    {\"name\": \"grape\", \"attr\": {\"color\": \"purple\"}},\n",
    "    {\"name\": \"banana\"},\n",
    "]"
   ]
  },
  {
   "cell_type": "markdown",
   "id": "d29ddc54",
   "metadata": {},
   "source": [
    "Using an if-else statement to handle missing keys can make the code lengthy and less readable."
   ]
  },
  {
   "cell_type": "code",
   "execution_count": null,
   "id": "0d865b6b",
   "metadata": {},
   "outputs": [],
   "source": [
    "colors = [\n",
    "    fruit[\"attr\"][\"color\"]\n",
    "    if \"attr\" in fruit and \"color\" in fruit[\"attr\"]\n",
    "    else \"unknown\"\n",
    "    for fruit in fruits\n",
    "]\n",
    "colors"
   ]
  },
  {
   "cell_type": "markdown",
   "id": "1baf3cdb",
   "metadata": {},
   "source": [
    "A better alternative is to use the `get` method twice."
   ]
  },
  {
   "cell_type": "code",
   "execution_count": null,
   "id": "6d3f6302",
   "metadata": {},
   "outputs": [],
   "source": [
    "colors = [fruit.get(\"attr\", {}).get(\"color\", \"unknown\") for fruit in fruits]\n",
    "colors"
   ]
  },
  {
   "cell_type": "markdown",
   "id": "c76020fa",
   "metadata": {},
   "source": [
    "In the code above:\n",
    "- The first `get` method will return an empty dictionary if the \"attr\" key is missing\n",
    "- The second `get` method will return `unknown` if either the \"attr\" key or the \"color\" key is missing."
   ]
  },
  {
   "cell_type": "markdown",
   "id": "25892e95",
   "metadata": {},
   "source": [
    "### dict.fromkeys: Get a Dictionary From a List and a Value"
   ]
  },
  {
   "cell_type": "markdown",
   "id": "6330bb4a",
   "metadata": {},
   "source": [
    "To get a dictionary from a list and a value, use `dict.fromkeys.`"
   ]
  },
  {
   "cell_type": "code",
   "execution_count": null,
   "id": "0623b702",
   "metadata": {},
   "outputs": [],
   "source": [
    "furnitures = ['bed', 'table', 'chair']\n",
    "loc1 = 'IKEA'\n",
    "\n",
    "furniture_loc = dict.fromkeys(furnitures, loc1)\n",
    "furniture_loc"
   ]
  },
  {
   "cell_type": "markdown",
   "id": "f74d061d",
   "metadata": {},
   "source": [
    "### Reverse a Dictionary with Dictionary Comprehension"
   ]
  },
  {
   "cell_type": "markdown",
   "id": "7baf6797",
   "metadata": {},
   "source": [
    "If you want to reverse a dictionary (turn keys into values and vice versa), use the combination of `items` and dictionary comprehension."
   ]
  },
  {
   "cell_type": "code",
   "execution_count": null,
   "id": "44c53af2",
   "metadata": {},
   "outputs": [],
   "source": [
    "colors = {\"apple\": \"red\", \"pepper\": \"green\", \"onion\": \"yellow\"}\n",
    "\n",
    "# Get a list of key and value pairs\n",
    "colors.items()"
   ]
  },
  {
   "cell_type": "code",
   "execution_count": null,
   "id": "a42eb62a",
   "metadata": {},
   "outputs": [],
   "source": [
    "# Switch keys and values by looping the list of key-value pairs\n",
    "{v: k for k, v in colors.items()}"
   ]
  },
  {
   "cell_type": "markdown",
   "id": "05c1ce71",
   "metadata": {},
   "source": [
    "### Merge Two Dictionaries Using the Union Operator in Python 3.9"
   ]
  },
  {
   "cell_type": "markdown",
   "id": "c681d495",
   "metadata": {},
   "source": [
    "Before Python 3.9, there are two common ways to merge two dictionaries. The first way is to use the `update` method, but this approach modifies the original dictionary, which can lead to unexpected behavior."
   ]
  },
  {
   "cell_type": "code",
   "execution_count": null,
   "id": "af2015ef",
   "metadata": {},
   "outputs": [],
   "source": [
    "birth_year = {\"Ben\": 1997}\n",
    "new_birth_year = {\"Michael\": 1993, 'Lauren': 1999}\n",
    "\n",
    "birth_year.update(new_birth_year)\n",
    "birth_year"
   ]
  },
  {
   "cell_type": "markdown",
   "id": "b5dfa4c3",
   "metadata": {},
   "source": [
    "The second approach is to use `**`, but this approach makes the code less readable."
   ]
  },
  {
   "cell_type": "code",
   "execution_count": null,
   "id": "54f62380",
   "metadata": {},
   "outputs": [],
   "source": [
    "birth_year = {\"Ben\": 1997}\n",
    "new_birth_year = {\"Michael\": 1993, 'Lauren': 1999}\n",
    "{**birth_year, **new_birth_year}"
   ]
  },
  {
   "cell_type": "markdown",
   "id": "ac4a4517",
   "metadata": {},
   "source": [
    "In Python 3.9 and above, you can use the `|` operator to merge two dictionaries."
   ]
  },
  {
   "cell_type": "code",
   "execution_count": null,
   "id": "45478d5f",
   "metadata": {},
   "outputs": [],
   "source": [
    "birth_year | new_birth_year"
   ]
  },
  {
   "cell_type": "markdown",
   "id": "9955b28e",
   "metadata": {},
   "source": [
    "To update a dictionary in place, use the `|=` operator."
   ]
  },
  {
   "cell_type": "code",
   "execution_count": null,
   "id": "a976c7de",
   "metadata": {},
   "outputs": [],
   "source": [
    "birth_year |= new_birth_year\n",
    "birth_year"
   ]
  },
  {
   "cell_type": "markdown",
   "id": "168ee352",
   "metadata": {},
   "source": [
    "### Iterable as a Key of a Dictionary"
   ]
  },
  {
   "cell_type": "markdown",
   "id": "99fa365a",
   "metadata": {},
   "source": [
    "Python dictionaries only accept hashable data types as a key in a dictionary. Using a list as a key will give a `TypeError` because it is not hashable."
   ]
  },
  {
   "cell_type": "code",
   "execution_count": null,
   "id": "e2ebf98b",
   "metadata": {},
   "outputs": [],
   "source": [
    "price = {['apple', 'orange']: 2, 'banana': 1}"
   ]
  },
  {
   "cell_type": "markdown",
   "id": "c416ed85",
   "metadata": {},
   "source": [
    "If you want to use an iterable as a key of the dictionary, use a tuple instead. This works because tuples are immutable."
   ]
  },
  {
   "cell_type": "code",
   "execution_count": null,
   "id": "06ded8ac",
   "metadata": {},
   "outputs": [],
   "source": [
    "price = {('apple', 'orange'): 2, 'banana': 1}"
   ]
  }
 ],
 "metadata": {
  "jupytext": {
   "text_representation": {
    "extension": ".md",
    "format_name": "myst",
    "format_version": 0.13,
    "jupytext_version": "1.16.7"
   }
  },
  "kernelspec": {
   "display_name": "Python 3 (ipykernel)",
   "language": "python",
   "name": "python3"
  },
  "source_map": [
   12,
   16,
   20,
   24,
   28,
   34,
   38,
   40,
   44,
   48,
   52,
   56,
   59,
   63,
   69,
   93,
   97,
   101,
   112,
   116,
   120,
   124,
   131,
   135,
   143,
   147,
   150,
   156,
   160,
   164,
   170,
   174,
   178,
   185,
   188,
   192,
   196,
   202,
   206,
   210,
   214,
   216,
   220,
   223,
   227,
   231,
   233,
   237
  ]
 },
 "nbformat": 4,
 "nbformat_minor": 5
}