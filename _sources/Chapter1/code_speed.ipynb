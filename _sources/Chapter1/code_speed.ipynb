{
 "cells": [
  {
   "cell_type": "markdown",
   "id": "c70f9cda",
   "metadata": {},
   "source": [
    "## Code Speed"
   ]
  },
  {
   "cell_type": "markdown",
   "id": "0ddc7763",
   "metadata": {},
   "source": [
    "This section will show you some ways to speed up or track the performance of your Python code."
   ]
  },
  {
   "cell_type": "markdown",
   "id": "0b37a031",
   "metadata": {},
   "source": [
    "### Concurrently Execute Tasks on Separate CPUs"
   ]
  },
  {
   "cell_type": "markdown",
   "id": "d90aae95",
   "metadata": {},
   "source": [
    "If you want to concurrently execute tasks on separate CPUs to run faster, consider using `joblib.Parallel`. It allows you to easily execute several tasks at once, with each task using its own processor."
   ]
  },
  {
   "cell_type": "code",
   "execution_count": null,
   "id": "39f6c87a",
   "metadata": {},
   "outputs": [],
   "source": [
    "from joblib import Parallel, delayed\n",
    "import multiprocessing\n",
    "\n",
    "def add_three(num: int):\n",
    "    return num + 3\n",
    "\n",
    "num_cores = multiprocessing.cpu_count()\n",
    "results = Parallel(n_jobs=num_cores)(delayed(add_three)(i) for i in range(10))\n",
    "results "
   ]
  },
  {
   "cell_type": "markdown",
   "id": "149a398c",
   "metadata": {},
   "source": [
    "### Compare The Execution Time Between 2 Functions"
   ]
  },
  {
   "cell_type": "markdown",
   "id": "7a0ed1b5",
   "metadata": {},
   "source": [
    "If you want to compare the execution time between 2 functions, try `timeit.timeit`. You can also specify the number of times you want to rerun your function to get a better estimation of the time."
   ]
  },
  {
   "cell_type": "code",
   "execution_count": null,
   "id": "4948e86c",
   "metadata": {},
   "outputs": [],
   "source": [
    "import time \n",
    "import timeit \n",
    "\n",
    "def func():\n",
    "    \"\"\"comprehension\"\"\"\n",
    "    l = [i for i in range(10_000)]\n",
    "\n",
    "def func2():\n",
    "    \"\"\"list range\"\"\"\n",
    "    l = list(range(10_000))\n",
    "\n",
    "expSize = 1000\n",
    "time1 = timeit.timeit(func, number=expSize)\n",
    "time2 = timeit.timeit(func2, number=expSize)\n",
    "\n",
    "print(time1/time2)"
   ]
  },
  {
   "cell_type": "markdown",
   "id": "af1ee576",
   "metadata": {},
   "source": [
    "From the result, we can see that it is faster to use list range than to use list comprehension on average."
   ]
  },
  {
   "cell_type": "markdown",
   "id": "adbec070",
   "metadata": {},
   "source": [
    "### Save Disk Space on Large Datasets with Parquet"
   ]
  },
  {
   "cell_type": "code",
   "execution_count": null,
   "id": "a31dac36",
   "metadata": {
    "tags": [
     "hide-cell"
    ]
   },
   "outputs": [],
   "source": [
    "!pip install pyarrow"
   ]
  },
  {
   "cell_type": "markdown",
   "id": "0e59070d",
   "metadata": {},
   "source": [
    "To save disk space on large datasets, use Parquet files instead of CSV.  Because Parquet files are compressed, they take up less space on disk and in memory than uncompressed CSV files. \n",
    "\n",
    "For a 1 million row, 10 column dataset, storing it as CSV takes about 189.59 MB, while storing it as Parquet takes around 78.96 MB, saving approximately 110.63 MB of storage."
   ]
  },
  {
   "cell_type": "code",
   "execution_count": null,
   "id": "5fd6c016",
   "metadata": {},
   "outputs": [],
   "source": [
    "import numpy as np\n",
    "import pandas as pd\n",
    "\n",
    "# Create a dataset with 1 million rows and 10 columns \n",
    "np.random.seed(123)\n",
    "data = np.random.randint(0, 2**63, size=(1000000, 10))\n",
    "df = pd.DataFrame(data, columns=[f'col{str(i)}' for i in range(10)])"
   ]
  },
  {
   "cell_type": "code",
   "execution_count": null,
   "id": "46c37ada",
   "metadata": {},
   "outputs": [],
   "source": [
    "# Write data to Parquet file\n",
    "df.to_parquet('example.parquet')\n",
    "\n",
    "# Write data to CSV file\n",
    "df.to_csv('example.csv', index=False)"
   ]
  },
  {
   "cell_type": "code",
   "execution_count": null,
   "id": "3881fd9f",
   "metadata": {},
   "outputs": [],
   "source": [
    "import os\n",
    "print(\"Parquet file size:\", os.path.getsize('example.parquet'))\n",
    "print(\"CSV file size:\", os.path.getsize('example.csv')) "
   ]
  }
 ],
 "metadata": {
  "jupytext": {
   "text_representation": {
    "extension": ".md",
    "format_name": "myst",
    "format_version": 0.13,
    "jupytext_version": "1.16.7"
   }
  },
  "kernelspec": {
   "display_name": "venv",
   "language": "python",
   "name": "python3"
  },
  "source_map": [
   12,
   16,
   20,
   24,
   28,
   38,
   42,
   46,
   63,
   67,
   71,
   75,
   81,
   91,
   99
  ]
 },
 "nbformat": 4,
 "nbformat_minor": 5
}