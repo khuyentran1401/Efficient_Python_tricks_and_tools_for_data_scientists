{
 "cells": [
  {
   "cell_type": "markdown",
   "id": "c43e3e3a",
   "metadata": {},
   "source": [
    "## Datetime"
   ]
  },
  {
   "cell_type": "markdown",
   "id": "77f82364",
   "metadata": {},
   "source": [
    "![](../img/datetime.png)"
   ]
  },
  {
   "cell_type": "markdown",
   "id": "e8b67e3b",
   "metadata": {},
   "source": [
    "### datetime + timedelta: Calculate End DateTime Based on Start DateTime and Duration"
   ]
  },
  {
   "cell_type": "markdown",
   "id": "49902a95",
   "metadata": {},
   "source": [
    "Provided an event starts at a certain time and takes a certain number of minutes to finish, how do you determine when it ends?\n",
    "\n",
    "Taking the sum of `datetime` and `timedelta(minutes)` will do the trick."
   ]
  },
  {
   "cell_type": "code",
   "execution_count": null,
   "id": "8d6c5196",
   "metadata": {},
   "outputs": [],
   "source": [
    "from datetime import date, datetime, timedelta\n",
    "\n",
    "beginning = '2020/01/03 23:59:00'\n",
    "duration_in_minutes = 2500\n",
    "\n",
    "# Find the beginning time\n",
    "beginning = datetime.strptime(beginning, '%Y/%m/%d %H:%M:%S')\n",
    "\n",
    "# Find duration in days\n",
    "days = timedelta(minutes=duration_in_minutes)\n",
    "\n",
    "# Find end time\n",
    "end = beginning + days \n",
    "end"
   ]
  },
  {
   "cell_type": "markdown",
   "id": "553daefa",
   "metadata": {},
   "source": [
    "### Use Dates in a Month as the Feature"
   ]
  },
  {
   "cell_type": "markdown",
   "id": "dca184f3",
   "metadata": {},
   "source": [
    "Have you ever wanted to use dates in a month as the feature in your time series data? You can find the days in a month by using `calendar.monthrange(year, month)[1]` like below."
   ]
  },
  {
   "cell_type": "code",
   "execution_count": null,
   "id": "40240600",
   "metadata": {},
   "outputs": [],
   "source": [
    "import calendar \n",
    "\n",
    "calendar.monthrange(2020, 11)[1]"
   ]
  },
  {
   "cell_type": "markdown",
   "id": "946f8aa7",
   "metadata": {},
   "source": [
    "### Use Comparison and Arithmetic Operators on Dates in Python"
   ]
  },
  {
   "cell_type": "markdown",
   "id": "8140734e",
   "metadata": {},
   "source": [
    "In Python, you can compare and subtract dates using operators."
   ]
  },
  {
   "cell_type": "code",
   "execution_count": null,
   "id": "8fb78266",
   "metadata": {},
   "outputs": [],
   "source": [
    "from datetime import date \n",
    "\n",
    "date1 = date(2022, 1, 1)\n",
    "date2 = date(2022, 11, 1)\n",
    "\n",
    "if date1 < date2:\n",
    "    diff = date2 - date1 \n",
    "else:\n",
    "    diff = date1 - date2 \n",
    "\n",
    "print(f\"{date1} and {date2} is {diff} apart.\")"
   ]
  }
 ],
 "metadata": {
  "jupytext": {
   "text_representation": {
    "extension": ".md",
    "format_name": "myst",
    "format_version": 0.13,
    "jupytext_version": "1.16.7"
   }
  },
  "kernelspec": {
   "display_name": "Python 3.10.8 64-bit",
   "language": "python",
   "name": "python3"
  },
  "source_map": [
   12,
   16,
   20,
   24,
   30,
   45,
   49,
   53,
   57,
   61,
   66
  ]
 },
 "nbformat": 4,
 "nbformat_minor": 5
}