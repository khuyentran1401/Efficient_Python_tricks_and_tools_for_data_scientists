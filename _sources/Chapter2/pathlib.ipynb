{
 "cells": [
  {
   "cell_type": "markdown",
   "id": "bc00eece",
   "metadata": {},
   "source": [
    "## pathlib"
   ]
  },
  {
   "cell_type": "markdown",
   "id": "2dbe5f2c",
   "metadata": {},
   "source": [
    "pathlib is a Python library that makes it easy to handle file in Python."
   ]
  },
  {
   "cell_type": "markdown",
   "id": "9b09801c",
   "metadata": {},
   "source": [
    "### Create a New Directory and File"
   ]
  },
  {
   "cell_type": "markdown",
   "id": "e7d462f6",
   "metadata": {},
   "source": [
    "You can use either os or pathlib to create new directories and files in Python. pathlib is my preferred choice because it is simpler to use and easier to understand."
   ]
  },
  {
   "cell_type": "code",
   "execution_count": null,
   "id": "fcc5c88f",
   "metadata": {},
   "outputs": [],
   "source": [
    "import os\n",
    "\n",
    "# Create a new directory\n",
    "if not os.path.exists(\"new\"):\n",
    "    os.makedirs(\"new\")\n",
    "\n",
    "# Create a new file inside new directory\n",
    "file = os.path.join(\"new\", \"new_file.txt\")\n",
    "\n",
    "# Write text to the file\n",
    "with open(file, \"w\") as f:\n",
    "    f.write(\"Hello World!\")\n",
    "\n",
    "# Read the file\n",
    "with open(file, \"r\") as f:\n",
    "    print(f.read())"
   ]
  },
  {
   "cell_type": "code",
   "execution_count": null,
   "id": "58097ef3",
   "metadata": {},
   "outputs": [],
   "source": [
    "from pathlib import Path\n",
    "\n",
    "# Create a new directory\n",
    "folder = Path(\"new\")\n",
    "folder.mkdir(exist_ok=True)\n",
    "\n",
    "# Create new file inside new directory\n",
    "file = folder / \"new_file.txt\"\n",
    "\n",
    "# Write text\n",
    "file.write_text(\"Hello World!\")\n",
    "\n",
    "# Read text\n",
    "file.read_text()"
   ]
  },
  {
   "cell_type": "markdown",
   "id": "3fd58c5f",
   "metadata": {},
   "source": [
    "The following is the structure of the `new` folder:\n",
    "\n",
    "```bash\n",
    ".\n",
    "└── new/\n",
    "    └── new_file.txt\n",
    "```"
   ]
  },
  {
   "cell_type": "markdown",
   "id": "34b08044",
   "metadata": {},
   "source": [
    "### Get Access to Files from Home Directory"
   ]
  },
  {
   "cell_type": "markdown",
   "id": "95d67c69",
   "metadata": {},
   "source": [
    "If you want to get the path to folders/files from the home directory, use `Path.home()`"
   ]
  },
  {
   "cell_type": "code",
   "execution_count": null,
   "id": "e39b3af5",
   "metadata": {},
   "outputs": [],
   "source": [
    "from pathlib import Path\n",
    "\n",
    "path = Path.home()\n",
    "\n",
    "docs = path / 'Documents'\n",
    "pictures = path / 'Pictures'\n",
    "\n",
    "print(docs)\n",
    "print(pictures)"
   ]
  },
  {
   "cell_type": "markdown",
   "id": "5be59167",
   "metadata": {},
   "source": [
    "Now you can use pathlib's methods to manipulate the folders/files in the obtained path."
   ]
  },
  {
   "cell_type": "code",
   "execution_count": null,
   "id": "ec2df9ce",
   "metadata": {},
   "outputs": [],
   "source": [
    "# Create a new file inside Documents\n",
    "file = docs / 'new_file.txt'\n",
    "file.touch()"
   ]
  },
  {
   "cell_type": "code",
   "execution_count": null,
   "id": "70442217",
   "metadata": {},
   "outputs": [],
   "source": [
    "!tree /Users/khuyen/Documents | grep new_file.txt "
   ]
  },
  {
   "cell_type": "markdown",
   "id": "fb68d618",
   "metadata": {},
   "source": [
    "### Get the Parent of the Current Path with pathlib"
   ]
  },
  {
   "cell_type": "markdown",
   "id": "4566e130",
   "metadata": {},
   "source": [
    "If you want to get the parent path or the grandparent path easily, use pathlib's `.parent`."
   ]
  },
  {
   "cell_type": "code",
   "execution_count": null,
   "id": "2f018387",
   "metadata": {},
   "outputs": [],
   "source": [
    "from pathlib import Path\n",
    "\n",
    "path = Path.cwd()\n",
    "\n",
    "print(f'Current path: {path}')\n",
    "print(f'Parent of the current path: {path.parent}')\n",
    "print(f'Grandparent of the current path: {path.parent.parent}')"
   ]
  },
  {
   "cell_type": "markdown",
   "id": "c572f836",
   "metadata": {},
   "source": [
    "### Get the Path Relative to Another Path"
   ]
  },
  {
   "cell_type": "markdown",
   "id": "ec4a27ee",
   "metadata": {},
   "source": [
    "If you want to get the path relative to another path, use `pathlib.Path.relative_to`."
   ]
  },
  {
   "cell_type": "code",
   "execution_count": null,
   "id": "ef8369c5",
   "metadata": {},
   "outputs": [],
   "source": [
    "from pathlib import Path\n",
    "\n",
    "nlp = Path('/Users/khuyen/Data-science/nlp/')\n",
    "root = '/Users/khuyen/'\n",
    "nlp.relative_to(root)"
   ]
  },
  {
   "cell_type": "markdown",
   "id": "b87b238a",
   "metadata": {},
   "source": [
    "### Check if Two File Paths Are the Same"
   ]
  },
  {
   "cell_type": "markdown",
   "id": "a5cad411",
   "metadata": {},
   "source": [
    "If you want to check whether two file paths are the same, use `Path.samefile()`."
   ]
  },
  {
   "cell_type": "code",
   "execution_count": null,
   "id": "d7b0d132",
   "metadata": {},
   "outputs": [],
   "source": [
    "from pathlib import Path \n",
    "\n",
    "home = Path.home()\n",
    "absolute = home / \"book/book/Chapter2/pathlib.ipynb\"\n",
    "relative = Path(\"pathlib.ipynb\")\n",
    "\n",
    "absolute.samefile(relative)"
   ]
  }
 ],
 "metadata": {
  "jupytext": {
   "text_representation": {
    "extension": ".md",
    "format_name": "myst",
    "format_version": 0.13,
    "jupytext_version": "1.16.7"
   }
  },
  "kernelspec": {
   "display_name": "Python 3.8.9 ('venv': venv)",
   "language": "python",
   "name": "python3"
  },
  "source_map": [
   12,
   16,
   20,
   24,
   28,
   47,
   62,
   72,
   76,
   80,
   90,
   94,
   100,
   102,
   106,
   110,
   118,
   122,
   126,
   132,
   136,
   140
  ]
 },
 "nbformat": 4,
 "nbformat_minor": 5
}