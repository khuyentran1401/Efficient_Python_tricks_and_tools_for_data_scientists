{
 "cells": [
  {
   "cell_type": "markdown",
   "id": "23155ddb",
   "metadata": {},
   "source": [
    "## Pydash"
   ]
  },
  {
   "cell_type": "markdown",
   "id": "6abed65c",
   "metadata": {},
   "source": [
    "[Pydash](https://pydash.readthedocs.io/en/latest/) is the kitchen sink of Python utility libraries for doing “stuff” in a functional way."
   ]
  },
  {
   "cell_type": "code",
   "execution_count": null,
   "id": "f9f17fde",
   "metadata": {
    "tags": [
     "hide-cell"
    ]
   },
   "outputs": [],
   "source": [
    "!pip install pydash "
   ]
  },
  {
   "cell_type": "markdown",
   "id": "eccc422d",
   "metadata": {},
   "source": [
    "### Work with List"
   ]
  },
  {
   "cell_type": "markdown",
   "id": "8014f1c1",
   "metadata": {},
   "source": [
    "#### pydash.flatten: Flatten a Nested Python List"
   ]
  },
  {
   "cell_type": "markdown",
   "id": "8154eb86",
   "metadata": {},
   "source": [
    "If you want to flatten a nested Python list, use the `flatten` method:"
   ]
  },
  {
   "cell_type": "code",
   "execution_count": null,
   "id": "3556365e",
   "metadata": {},
   "outputs": [],
   "source": [
    "from pydash import py_\n",
    "\n",
    "a = [[1, 2], [3, 4, 5]]\n",
    "py_.flatten(a)"
   ]
  },
  {
   "cell_type": "markdown",
   "id": "67090704",
   "metadata": {},
   "source": [
    "####  pydash.flatten_deep: Flatten a Deeply Nested Python List"
   ]
  },
  {
   "cell_type": "markdown",
   "id": "5ab4ecde",
   "metadata": {},
   "source": [
    "If your list is deeply nested, use `flatten_deep` instead:"
   ]
  },
  {
   "cell_type": "code",
   "execution_count": null,
   "id": "13190644",
   "metadata": {},
   "outputs": [],
   "source": [
    "b = [[1, 2, [4, 5]], [6, 7]]\n",
    "py_.flatten_deep(b)"
   ]
  },
  {
   "cell_type": "markdown",
   "id": "f3ab0224",
   "metadata": {},
   "source": [
    "#### pydash.chunk: Split Elements into Groups"
   ]
  },
  {
   "cell_type": "markdown",
   "id": "3d36a47c",
   "metadata": {},
   "source": [
    "If you can flatten a list, can you also turn a flattened list into a nested one? Yes, that could be done with the `chunk` method:"
   ]
  },
  {
   "cell_type": "code",
   "execution_count": null,
   "id": "b5690e09",
   "metadata": {},
   "outputs": [],
   "source": [
    "a = [1, 2, 3, 4, 5]\n",
    "py_.chunk(a, 2)"
   ]
  },
  {
   "cell_type": "markdown",
   "id": "c484dc05",
   "metadata": {},
   "source": [
    "### Work with Dictionary"
   ]
  },
  {
   "cell_type": "markdown",
   "id": "c5c9215d",
   "metadata": {},
   "source": [
    "#### Omit Dictionary’s Attribute"
   ]
  },
  {
   "cell_type": "markdown",
   "id": "37c36a07",
   "metadata": {},
   "source": [
    "To omit an attribute from the dictionary, we can use the `omit` method:"
   ]
  },
  {
   "cell_type": "code",
   "execution_count": null,
   "id": "3412135a",
   "metadata": {},
   "outputs": [],
   "source": [
    "fruits = {\"name\": \"apple\", \"color\": \"red\", \"taste\": \"sweet\"}\n",
    "py_.omit(fruits, \"name\")"
   ]
  },
  {
   "cell_type": "markdown",
   "id": "631d242c",
   "metadata": {},
   "source": [
    "#### Get Nested Dictionary’s Attribute"
   ]
  },
  {
   "cell_type": "markdown",
   "id": "ab45d206",
   "metadata": {},
   "source": [
    "How do you get the price of an apple from Walmart that is in season in a nested dictionary like below?"
   ]
  },
  {
   "cell_type": "code",
   "execution_count": null,
   "id": "a5665e1b",
   "metadata": {},
   "outputs": [],
   "source": [
    "apple = {\n",
    "    \"price\": {\n",
    "        \"in_season\": {\"store\": {\"Walmart\": [2, 4], \"Aldi\": 1}},\n",
    "        \"out_of_season\": {\"store\": {\"Walmart\": [3, 5], \"Aldi\": 2}},\n",
    "    }\n",
    "}"
   ]
  },
  {
   "cell_type": "markdown",
   "id": "fda3ef67",
   "metadata": {},
   "source": [
    "Normally, you need to use a lot of brackets to get that information:"
   ]
  },
  {
   "cell_type": "code",
   "execution_count": null,
   "id": "7c06fcd7",
   "metadata": {},
   "outputs": [],
   "source": [
    "apple[\"price\"][\"in_season\"][\"store\"][\"Walmart\"]"
   ]
  },
  {
   "cell_type": "markdown",
   "id": "823f0c75",
   "metadata": {},
   "source": [
    "Wouldn’t it be nice if you could use the dot notation instead of brackets? That could be done with the `get` method:"
   ]
  },
  {
   "cell_type": "code",
   "execution_count": null,
   "id": "d986a751",
   "metadata": {},
   "outputs": [],
   "source": [
    "py_.get(apple, \"price.in_season.store.Walmart\")"
   ]
  },
  {
   "cell_type": "markdown",
   "id": "5bb28ced",
   "metadata": {},
   "source": [
    "Cool! You can also get the element in an array using `[index]` :"
   ]
  },
  {
   "cell_type": "code",
   "execution_count": null,
   "id": "333cef29",
   "metadata": {},
   "outputs": [],
   "source": [
    "py_.get(apple, \"price.in_season.store.Walmart[0]\")"
   ]
  },
  {
   "cell_type": "markdown",
   "id": "585fb1ce",
   "metadata": {},
   "source": [
    "### Work with List of Dictionaries"
   ]
  },
  {
   "cell_type": "markdown",
   "id": "8fbe7c96",
   "metadata": {},
   "source": [
    "#### Find Item Index Using a Function"
   ]
  },
  {
   "cell_type": "markdown",
   "id": "041adced",
   "metadata": {},
   "source": [
    "`list.index(element)` allows you to get the index of the specified element in a list. However, you cannot get the index using a function."
   ]
  },
  {
   "cell_type": "code",
   "execution_count": null,
   "id": "5fdc7aa1",
   "metadata": {},
   "outputs": [],
   "source": [
    "fruits = [\n",
    "    {\"name\": \"apple\", \"price\": 2},\n",
    "    {\"name\": \"orange\", \"price\": 2},\n",
    "    {\"name\": \"grapes\", \"price\": 4},\n",
    "]"
   ]
  },
  {
   "cell_type": "code",
   "execution_count": null,
   "id": "243b4508",
   "metadata": {},
   "outputs": [],
   "source": [
    "fruits.index({\"name\": \"apple\", \"price\": 2})"
   ]
  },
  {
   "cell_type": "code",
   "execution_count": null,
   "id": "d6b9e1ff",
   "metadata": {},
   "outputs": [],
   "source": [
    "filter_fruits = lambda fruit: fruit[\"name\"] == \"apple\"\n",
    "\n",
    "fruits.index(filter_fruits)"
   ]
  },
  {
   "cell_type": "markdown",
   "id": "c03306dc",
   "metadata": {},
   "source": [
    "To get the index of an element in a list using a function, use the `find_index` method instead:"
   ]
  },
  {
   "cell_type": "code",
   "execution_count": null,
   "id": "752613cb",
   "metadata": {},
   "outputs": [],
   "source": [
    "py_.find_index(fruits, filter_fruits)"
   ]
  },
  {
   "cell_type": "markdown",
   "id": "f342063a",
   "metadata": {},
   "source": [
    "#### Find Objects With Matching Style"
   ]
  },
  {
   "cell_type": "markdown",
   "id": "09b57e92",
   "metadata": {},
   "source": [
    "The `find_index` method allows you to get the index of the object that matches a certain pattern. But what if you want to get the items in a list instead of the index?\n",
    "That could be done with the `filter` method:"
   ]
  },
  {
   "cell_type": "code",
   "execution_count": null,
   "id": "edba0ff7",
   "metadata": {},
   "outputs": [],
   "source": [
    "from pydash import py_"
   ]
  },
  {
   "cell_type": "code",
   "execution_count": null,
   "id": "7a61b3fe",
   "metadata": {},
   "outputs": [],
   "source": [
    "fruits = [\n",
    "    {\"name\": \"apple\", \"price\": 2},\n",
    "    {\"name\": \"orange\", \"price\": 2},\n",
    "    {\"name\": \"grapes\", \"price\": 4},\n",
    "]"
   ]
  },
  {
   "cell_type": "code",
   "execution_count": null,
   "id": "8d2043f6",
   "metadata": {},
   "outputs": [],
   "source": [
    "py_.filter_(fruits, {\"name\": \"apple\"})"
   ]
  },
  {
   "cell_type": "markdown",
   "id": "0eb960fc",
   "metadata": {},
   "source": [
    "#### Get Nested Object Value"
   ]
  },
  {
   "cell_type": "markdown",
   "id": "010a0c52",
   "metadata": {},
   "source": [
    "Sometimes your list of dictionaries can be nested like below. How can you get the second price of each `apple`?"
   ]
  },
  {
   "cell_type": "code",
   "execution_count": null,
   "id": "49c2dc9f",
   "metadata": {},
   "outputs": [],
   "source": [
    "l = [\n",
    "    {\"apple\": {\"price\": [0, 1], \"color\": \"red\"}},\n",
    "    {\"apple\": {\"price\": [2, 3], \"color\": \"green\"}},\n",
    "]"
   ]
  },
  {
   "cell_type": "markdown",
   "id": "a5295cc4",
   "metadata": {},
   "source": [
    "That is when the `map_` method comes in handy."
   ]
  },
  {
   "cell_type": "code",
   "execution_count": null,
   "id": "0bf2a4fd",
   "metadata": {},
   "outputs": [],
   "source": [
    "py_.map_(l, \"apple.price[1]\")"
   ]
  },
  {
   "cell_type": "markdown",
   "id": "925017f5",
   "metadata": {},
   "source": [
    "### Work with Functions"
   ]
  },
  {
   "cell_type": "markdown",
   "id": "0abf54ea",
   "metadata": {},
   "source": [
    "#### Execute a Function n Times"
   ]
  },
  {
   "cell_type": "markdown",
   "id": "f0873186",
   "metadata": {},
   "source": [
    "You can execute a function n times using the `times` method. This method is a good alternative to a for loop."
   ]
  },
  {
   "cell_type": "code",
   "execution_count": null,
   "id": "0c3a4a5f",
   "metadata": {},
   "outputs": [],
   "source": [
    "py_.times(4, lambda: \"I have just bought some apple\")"
   ]
  },
  {
   "cell_type": "code",
   "execution_count": null,
   "id": "8182715f",
   "metadata": {},
   "outputs": [],
   "source": [
    "py_.times(4, lambda i: f\"I have just bought {i} apple\")"
   ]
  },
  {
   "cell_type": "markdown",
   "id": "d97b4ce5",
   "metadata": {},
   "source": [
    "### Chaining"
   ]
  },
  {
   "cell_type": "markdown",
   "id": "24eb0c2d",
   "metadata": {},
   "source": [
    "#### Pydash’s Methods"
   ]
  },
  {
   "cell_type": "markdown",
   "id": "621cea01",
   "metadata": {},
   "source": [
    "Sometimes you might want to apply several methods to an object. Instead of writing several lines of code, can you apply all methods at once?\n",
    "\n",
    "That is when method chaining comes in handy. To apply method chaining in an object, use the `chain` method:"
   ]
  },
  {
   "cell_type": "code",
   "execution_count": null,
   "id": "27b8a148",
   "metadata": {},
   "outputs": [],
   "source": [
    "fruits = [\"apple\", \"orange\", \"grapes\"]"
   ]
  },
  {
   "cell_type": "code",
   "execution_count": null,
   "id": "cd3b01ec",
   "metadata": {},
   "outputs": [],
   "source": [
    "(py_.chain(fruits).without(\"grapes\").reject(lambda fruit: fruit.startswith(\"a\")))"
   ]
  },
  {
   "cell_type": "markdown",
   "id": "fe718b9a",
   "metadata": {},
   "source": [
    "Note that running the code above will not give us the value."
   ]
  },
  {
   "cell_type": "markdown",
   "id": "fd6c0276",
   "metadata": {},
   "source": [
    "Only when we add .value() to the end of the chain, the final value is computed:"
   ]
  },
  {
   "cell_type": "code",
   "execution_count": null,
   "id": "0fa82679",
   "metadata": {},
   "outputs": [],
   "source": [
    "(\n",
    "    py_.chain(fruits)\n",
    "    .without(\"grapes\")\n",
    "    .reject(lambda fruit: fruit.startswith(\"a\"))\n",
    "    .value()\n",
    ")"
   ]
  },
  {
   "cell_type": "markdown",
   "id": "e0563706",
   "metadata": {},
   "source": [
    "This is called [lazy evaluation](https://www.tutorialspoint.com/functional_programming/functional_programming_lazy_evaluation.htm). Lazy evaluation holds the evaluation of an expression until its value is needed, which avoids repeated evaluation."
   ]
  },
  {
   "cell_type": "markdown",
   "id": "f7fbdaa9",
   "metadata": {},
   "source": [
    "#### Customized Methods"
   ]
  },
  {
   "cell_type": "markdown",
   "id": "64419bda",
   "metadata": {},
   "source": [
    "If you want to use your own methods instead of pydash’s methods, use the `map` method:"
   ]
  },
  {
   "cell_type": "code",
   "execution_count": null,
   "id": "1890ab5e",
   "metadata": {},
   "outputs": [],
   "source": [
    "def get_price(fruit):\n",
    "    prices = {\"apple\": 2, \"orange\": 2, \"grapes\": 4}\n",
    "    return prices[fruit]"
   ]
  },
  {
   "cell_type": "code",
   "execution_count": null,
   "id": "7317e3ae",
   "metadata": {},
   "outputs": [],
   "source": [
    "total_price = py_.chain(fruits).map(get_price).sum()\n",
    "total_price.value()"
   ]
  },
  {
   "cell_type": "markdown",
   "id": "4dc3059b",
   "metadata": {},
   "source": [
    "#### Planting a Value"
   ]
  },
  {
   "cell_type": "markdown",
   "id": "58852118",
   "metadata": {},
   "source": [
    "To replace the initial value of a chain with another value, use the `plant` method:"
   ]
  },
  {
   "cell_type": "code",
   "execution_count": null,
   "id": "780a228b",
   "metadata": {},
   "outputs": [],
   "source": [
    "total_price.plant([\"apple\", \"orange\"]).value()"
   ]
  },
  {
   "cell_type": "markdown",
   "id": "2c58d6af",
   "metadata": {},
   "source": [
    "Cool! We replace `['apple', 'orange', 'grapes']` with `['apple', 'orange']` while using the same chain!"
   ]
  }
 ],
 "metadata": {
  "jupytext": {
   "text_representation": {
    "extension": ".md",
    "format_name": "myst",
    "format_version": 0.13,
    "jupytext_version": "1.16.7"
   }
  },
  "kernelspec": {
   "display_name": "Python 3 (ipykernel)",
   "language": "python",
   "name": "python3"
  },
  "source_map": [
   12,
   16,
   20,
   24,
   28,
   32,
   36,
   41,
   45,
   49,
   52,
   56,
   60,
   63,
   67,
   71,
   75,
   78,
   82,
   86,
   93,
   97,
   99,
   103,
   105,
   109,
   111,
   115,
   119,
   123,
   131,
   135,
   139,
   143,
   145,
   149,
   154,
   158,
   166,
   168,
   172,
   176,
   181,
   185,
   187,
   191,
   195,
   199,
   203,
   205,
   209,
   213,
   219,
   223,
   225,
   229,
   233,
   240,
   244,
   248,
   252,
   258,
   261,
   265,
   269,
   271
  ]
 },
 "nbformat": 4,
 "nbformat_minor": 5
}