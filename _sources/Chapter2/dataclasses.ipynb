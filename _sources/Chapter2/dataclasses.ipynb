{
 "cells": [
  {
   "cell_type": "markdown",
   "id": "1bbc4194",
   "metadata": {},
   "source": [
    "## Data Classes"
   ]
  },
  {
   "cell_type": "markdown",
   "id": "a4021565",
   "metadata": {},
   "source": [
    "### Data Classes vs Normal Classes"
   ]
  },
  {
   "cell_type": "markdown",
   "id": "af61dad2",
   "metadata": {},
   "source": [
    "If you want to use classes to store data, use the dataclass module. This module is available in Python 3.7+."
   ]
  },
  {
   "cell_type": "markdown",
   "id": "1f657279",
   "metadata": {},
   "source": [
    "With dataclass, you can create a class with attributes, type hints, and a nice representation of the data in a few lines of code. To use dataclass, simply add the `@dataclass` decorator on top of a class."
   ]
  },
  {
   "cell_type": "code",
   "execution_count": null,
   "id": "b30aa021",
   "metadata": {},
   "outputs": [],
   "source": [
    "from dataclasses import dataclass\n",
    "\n",
    "\n",
    "@dataclass\n",
    "class DataClassDog:\n",
    "    color: str\n",
    "    age: int"
   ]
  },
  {
   "cell_type": "code",
   "execution_count": null,
   "id": "70fd58d1",
   "metadata": {},
   "outputs": [],
   "source": [
    "DataClassDog(color=\"black\", age=9)"
   ]
  },
  {
   "cell_type": "markdown",
   "id": "ee8a6d30",
   "metadata": {},
   "source": [
    "Without dataclass, you need to use `__init__` to assign values to appropriate variables and use `__repr__` to create a nice presentation of the data, which can be very cumbersome."
   ]
  },
  {
   "cell_type": "code",
   "execution_count": null,
   "id": "f09eebf1",
   "metadata": {},
   "outputs": [],
   "source": [
    "class Dog:\n",
    "    def __init__(self, color, age):\n",
    "        self.color = color\n",
    "        self.age = age\n",
    "\n",
    "    def __repr__(self):\n",
    "        return f\"Dog(color={self.color} age={self.age})\""
   ]
  },
  {
   "cell_type": "code",
   "execution_count": null,
   "id": "7d49c0e5",
   "metadata": {},
   "outputs": [],
   "source": [
    "Dog(color=\"black\", age=9)"
   ]
  },
  {
   "cell_type": "markdown",
   "id": "6b5c99d8",
   "metadata": {},
   "source": [
    "### frozen=True: Make Your Data Classes Read-Only"
   ]
  },
  {
   "cell_type": "markdown",
   "id": "ae385de3",
   "metadata": {},
   "source": [
    "If you don't want anybody to adjust the attributes of a class, use `@dataclass(frozen=True)`."
   ]
  },
  {
   "cell_type": "code",
   "execution_count": null,
   "id": "8bd52349",
   "metadata": {},
   "outputs": [],
   "source": [
    "from dataclasses import dataclass\n",
    "\n",
    "\n",
    "@dataclass(frozen=True)\n",
    "class DataClassDog:\n",
    "    color: str\n",
    "    age: int"
   ]
  },
  {
   "cell_type": "markdown",
   "id": "2289d4cb",
   "metadata": {},
   "source": [
    "Now changing the attribute `color` of  the `DataClassDog`'s instance will throw an error."
   ]
  },
  {
   "cell_type": "code",
   "execution_count": null,
   "id": "010a6d04",
   "metadata": {},
   "outputs": [],
   "source": [
    "pepper = DataClassDog(color=\"black\", age=9)\n",
    "pepper.color = 'golden'"
   ]
  },
  {
   "cell_type": "markdown",
   "id": "92c6701c",
   "metadata": {},
   "source": [
    "### Compare Between Two Data Classes"
   ]
  },
  {
   "cell_type": "markdown",
   "id": "4fb58518",
   "metadata": {},
   "source": [
    "Normally, you need to implement the `__eq__` method so that you can compare between two classes."
   ]
  },
  {
   "cell_type": "code",
   "execution_count": null,
   "id": "c2d2ff82",
   "metadata": {},
   "outputs": [],
   "source": [
    "class Dog:\n",
    "    def __init__(self, type, age):\n",
    "        self.type = type\n",
    "        self.age = age\n",
    "    \n",
    "    def __eq__(self, other):\n",
    "        return (self.type == other.type \n",
    "        and self.age == other.age)\n",
    "\n",
    "pepper = Dog(type=\"Dachshund\", age=7)\n",
    "bim = Dog(type=\"Dachshund\", age=7)\n",
    "pepper == bim"
   ]
  },
  {
   "cell_type": "markdown",
   "id": "33d8cb29",
   "metadata": {},
   "source": [
    "dataclasses automatically implements the `__eq__` method for you. With dataclasses, you can compare between 2 classes by only specifying their attributes."
   ]
  },
  {
   "cell_type": "code",
   "execution_count": null,
   "id": "d37fdc1c",
   "metadata": {},
   "outputs": [],
   "source": [
    "from dataclasses import dataclass\n",
    "\n",
    "@dataclass\n",
    "class DataClassDog:\n",
    "    type: str\n",
    "    age: int"
   ]
  },
  {
   "cell_type": "code",
   "execution_count": null,
   "id": "a36f19e0",
   "metadata": {},
   "outputs": [],
   "source": [
    "pepper = DataClassDog(type=\"Dachshund\", age=7)\n",
    "bim = DataClassDog(type=\"Dachshund\", age=7)\n",
    "pepper == bim "
   ]
  },
  {
   "cell_type": "markdown",
   "id": "e7273ac5",
   "metadata": {},
   "source": [
    "### Post-init: Add Init Method to a Data Class"
   ]
  },
  {
   "cell_type": "markdown",
   "id": "04a6163d",
   "metadata": {},
   "source": [
    "With a data class, you don't need an `__init__` method to assign values to its attributes. However, sometimes you might want to use an `___init__` method to initialize certain attributes. That is when data class's `__post_init__` comes in handy."
   ]
  },
  {
   "cell_type": "markdown",
   "id": "ca8fe504",
   "metadata": {},
   "source": [
    "In the code below, I use `__post_init__` to initialize the attribute `info` using the attributes `names` and `ages`."
   ]
  },
  {
   "cell_type": "code",
   "execution_count": null,
   "id": "17ef6fe9",
   "metadata": {},
   "outputs": [],
   "source": [
    "from dataclasses import dataclass\n",
    "from typing import List\n",
    "\n",
    "\n",
    "@dataclass\n",
    "class Dog:\n",
    "    names: str\n",
    "    age: int\n",
    "\n",
    "\n",
    "@dataclass\n",
    "class Dogs:\n",
    "    names: List[str]\n",
    "    ages: List[int]\n",
    "\n",
    "    def __post_init__(self):\n",
    "        self.info = [Dog(name, age) for name, age in zip(self.names, self.ages)]"
   ]
  },
  {
   "cell_type": "code",
   "execution_count": null,
   "id": "417abd11",
   "metadata": {},
   "outputs": [],
   "source": [
    "names = ['Bim', 'Pepper']\n",
    "ages = [5, 6]\n",
    "dogs = Dogs(names, ages)\n",
    "dogs.info "
   ]
  },
  {
   "cell_type": "code",
   "execution_count": null,
   "id": "3332fe76",
   "metadata": {},
   "outputs": [],
   "source": [
    "from dataclasses import dataclass\n",
    "\n",
    "\n",
    "@dataclass\n",
    "class Dog:\n",
    "    names: str\n",
    "    age: int\n",
    "\n",
    "\n",
    "dog = Dog(names=\"Bim\", age=\"ten\")\n",
    "if not isinstance(dog.age, int):\n",
    "    raise ValueError(\"Dog's age must be an integer.\")"
   ]
  },
  {
   "cell_type": "markdown",
   "id": "31e4707f",
   "metadata": {},
   "source": [
    "### Python Best Practices: Using default_factory for Mutable Defaults"
   ]
  },
  {
   "cell_type": "markdown",
   "id": "dfcd2087",
   "metadata": {},
   "source": [
    "When defining classes in Python, using mutable default values for instance variables can lead to unexpected behavior."
   ]
  },
  {
   "cell_type": "markdown",
   "id": "04e7bdeb",
   "metadata": {},
   "source": [
    "For example, if you use a list as a default value in a class's `__init__` method, all instances of the class will share the same list object:"
   ]
  },
  {
   "cell_type": "code",
   "execution_count": null,
   "id": "4fa7b2c8",
   "metadata": {},
   "outputs": [],
   "source": [
    "class Book:\n",
    "    def __init__(self, title, authors=[]):\n",
    "        self.title = title\n",
    "        self.authors = authors\n",
    "\n",
    "\n",
    "book1 = Book(\"Book 1\")\n",
    "book1.authors.append(\"Author 1\")\n",
    "\n",
    "book2 = Book(\"Book 2\")\n",
    "print(book2.authors)"
   ]
  },
  {
   "cell_type": "markdown",
   "id": "ebfc7fef",
   "metadata": {},
   "source": [
    "In this example, `book1` and `book2` share the same list object, which is why modifying the list in `book1` affects `book2`.\n",
    "\n",
    "To avoid this issue, you can use the `default_factory` parameter in dataclasses, which creates a new object for each instance:"
   ]
  },
  {
   "cell_type": "code",
   "execution_count": null,
   "id": "afd2e7d0",
   "metadata": {},
   "outputs": [],
   "source": [
    "from dataclasses import dataclass, field\n",
    "\n",
    "\n",
    "@dataclass\n",
    "class Book:\n",
    "    title: str\n",
    "    authors: list = field(default_factory=list)\n",
    "\n",
    "\n",
    "book1 = Book(\"Book 1\")\n",
    "book1.authors.append(\"Author 1\")\n",
    "\n",
    "book2 = Book(\"Book 2\")\n",
    "print(book2.authors)"
   ]
  },
  {
   "cell_type": "markdown",
   "id": "df49a18a",
   "metadata": {},
   "source": [
    "Now, each instance has its own separate list object, and modifying one instance's list does not affect others."
   ]
  }
 ],
 "metadata": {
  "jupytext": {
   "formats": "ipynb,qmd"
  },
  "kernelspec": {
   "display_name": "Python 3 (ipykernel)",
   "language": "python",
   "name": "python3"
  },
  "language_info": {
   "codemirror_mode": {
    "name": "ipython",
    "version": 3
   },
   "file_extension": ".py",
   "mimetype": "text/x-python",
   "name": "python",
   "nbconvert_exporter": "python",
   "pygments_lexer": "ipython3",
   "version": "3.9.6"
  },
  "source_map": [
   12,
   16,
   20,
   24,
   28,
   38,
   40,
   44,
   54,
   56,
   60,
   64,
   72,
   76,
   79,
   83,
   87,
   100,
   104,
   113,
   117,
   121,
   125,
   129,
   149,
   156,
   169,
   173,
   177,
   181,
   193,
   199,
   214
  ]
 },
 "nbformat": 4,
 "nbformat_minor": 5
}
