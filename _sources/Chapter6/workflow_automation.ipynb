{
 "cells": [
  {
   "cell_type": "markdown",
   "id": "6e7e134d",
   "metadata": {},
   "source": [
    "## Workflow Automation"
   ]
  },
  {
   "cell_type": "markdown",
   "id": "492b1c01",
   "metadata": {},
   "source": [
    "This section covers some tools to automate the workflow of your Python project such as scheduling a time to run your code, sending notifications when your program finishes, etc."
   ]
  },
  {
   "cell_type": "markdown",
   "id": "e9a34684",
   "metadata": {},
   "source": [
    "### Schedule: Schedule your Python Functions to Run At a Specific Time"
   ]
  },
  {
   "cell_type": "markdown",
   "id": "b4ec90ec",
   "metadata": {},
   "source": [
    "If you want to schedule Python functions to run periodically at a certain day or time of the week, use schedule.\n",
    "\n",
    "In the code snippet below, I use schedule to get incoming data at 10:30 every day and train the model at 8:00 every Wednesday.\n",
    "\n",
    "```python\n",
    "import schedule \n",
    "import time \n",
    "\n",
    "def get_incoming_data():\n",
    "    print(\"Get incoming data\")\n",
    "\n",
    "def train_model():\n",
    "    print(\"Retraining model\")\n",
    "\n",
    "schedule.every().day.at(\"10:30\").do(get_incoming_data)\n",
    "schedule.every().wednesday.at(\"08:00\").do(train_model)\n",
    "\n",
    "while True:\n",
    "    schedule.run_pending()\n",
    "    time.sleep(1)\n",
    "```"
   ]
  },
  {
   "cell_type": "markdown",
   "id": "baec69f0",
   "metadata": {},
   "source": [
    "[Link to schedule](https://github.com/dbader/schedule)"
   ]
  },
  {
   "cell_type": "markdown",
   "id": "f773d1b1",
   "metadata": {},
   "source": [
    "### Rocketry: Modern Scheduling Library for Python"
   ]
  },
  {
   "cell_type": "markdown",
   "id": "2b72e8cd",
   "metadata": {},
   "source": [
    "If you want to schedule Python functions using expressive and customized scheduling statements, use Rocketry. \n",
    "\n",
    "Unlike other tools, Rocketry doesn't make any assumptions about your project structure, making it perfect for fast and efficient automation projects."
   ]
  },
  {
   "cell_type": "markdown",
   "id": "ebfc5d80",
   "metadata": {},
   "source": [
    "```python\n",
    "from rocketry.conds import daily, time_of_week\n",
    "from pathlib import Path\n",
    "\n",
    "@app.cond()\n",
    "def file_exists(file):\n",
    "    return Path(file).exists()\n",
    "\n",
    "@app.task(daily.after(\"08:00\") & file_exists(\"myfile.csv\"))\n",
    "def do_work():\n",
    "    ...\n",
    "\n",
    "@app.task(hourly & time_of_day.between(\"22:00\", \"06:00\"))\n",
    "def do_hourly_at_night():\n",
    "    ...\n",
    "\n",
    "@app.task((weekly.on(\"Mon\") | weekly.on(\"Sat\")))\n",
    "def do_twice_a_week():\n",
    "    ...\n",
    "```"
   ]
  },
  {
   "cell_type": "markdown",
   "id": "28411b86",
   "metadata": {},
   "source": [
    "[Link to Rocketry](https://github.com/Miksus/rocketry)."
   ]
  },
  {
   "cell_type": "markdown",
   "id": "6b4142f6",
   "metadata": {},
   "source": [
    "### notify-send: Send a Desktop Notification after Finishing Executing a File"
   ]
  },
  {
   "cell_type": "markdown",
   "id": "cfec2988",
   "metadata": {},
   "source": [
    "If you want to receive a desktop notification after finishing executing a file in Linux, use notify-send.\n",
    "\n",
    "In the code below, after finishing executing `file_to_run.py`, you will receive a notification on the top of your screen to inform you that the process is terminated.\n",
    "\n",
    "```bash\n",
    "python file_to_run.py ; notify-send \"Process terminated\"\n",
    "```"
   ]
  },
  {
   "cell_type": "markdown",
   "id": "d2b75e70",
   "metadata": {},
   "source": [
    "### Create Sound Notifications in Python in One Line of Code"
   ]
  },
  {
   "cell_type": "code",
   "execution_count": null,
   "id": "a6274bef",
   "metadata": {
    "tags": [
     "hide-cell"
    ]
   },
   "outputs": [],
   "source": [
    "!pip install chime"
   ]
  },
  {
   "cell_type": "markdown",
   "id": "b7b2b452",
   "metadata": {},
   "source": [
    "To have your computer make a sound  when your Python code reaches a certain state, use chime."
   ]
  },
  {
   "cell_type": "markdown",
   "id": "7ba9c91d",
   "metadata": {},
   "source": [
    "Try to run the following code and listen to the sound."
   ]
  },
  {
   "cell_type": "code",
   "execution_count": null,
   "id": "7c8081ff",
   "metadata": {},
   "outputs": [],
   "source": [
    "import chime"
   ]
  },
  {
   "cell_type": "code",
   "execution_count": null,
   "id": "5e7a5a75",
   "metadata": {},
   "outputs": [],
   "source": [
    "chime.success() "
   ]
  },
  {
   "cell_type": "code",
   "execution_count": null,
   "id": "15e1997f",
   "metadata": {},
   "outputs": [],
   "source": [
    "chime.warning()"
   ]
  },
  {
   "cell_type": "code",
   "execution_count": null,
   "id": "8d032dd3",
   "metadata": {},
   "outputs": [],
   "source": [
    "chime.error()"
   ]
  },
  {
   "cell_type": "code",
   "execution_count": null,
   "id": "c378de44",
   "metadata": {},
   "outputs": [],
   "source": [
    "chime.info()"
   ]
  },
  {
   "cell_type": "markdown",
   "id": "149969a7",
   "metadata": {},
   "source": [
    "One application of using chime is to make a sound when there is an error in your code."
   ]
  },
  {
   "cell_type": "code",
   "execution_count": null,
   "id": "8e72be54",
   "metadata": {},
   "outputs": [],
   "source": [
    "a = 0\n",
    "try:\n",
    "    b = 2/a  \n",
    "except ZeroDivisionError:\n",
    "    print(\"You can't divide a number by 0!\")\n",
    "    chime.error()"
   ]
  },
  {
   "cell_type": "markdown",
   "id": "ad97c38a",
   "metadata": {},
   "source": [
    "[Link to chime](https://github.com/MaxHalford/chime)."
   ]
  },
  {
   "cell_type": "markdown",
   "id": "4fc834dc",
   "metadata": {},
   "source": [
    "### knockknock: Receive an Email When Your Code Finishes Executing"
   ]
  },
  {
   "cell_type": "markdown",
   "id": "f197c7c6",
   "metadata": {},
   "source": [
    "It can take hours or days to train a model and you can be away from the computer when your model finishes training. Wouldn’t it be nice to receive an email when your code finishes executing? There is an app for that knock-knock.\n",
    "\n",
    "All it takes is one line of code specifying your email address."
   ]
  },
  {
   "cell_type": "markdown",
   "id": "95018735",
   "metadata": {},
   "source": [
    "```python\n",
    "from knockknock import email_sender \n",
    "\n",
    "@email_sender(recipient_emails=['<your_email@address.com>', '<your_second_email@adress.com>'],\n",
    "sender_email=\"<grandma's_email@gmail.com>\")\n",
    "def train_your_nicest_model(your_nicest_parameters):\n",
    "    import time \n",
    "    time.sleep(10_000)\n",
    "    return {'loss': 0.9}\n",
    "```"
   ]
  },
  {
   "cell_type": "markdown",
   "id": "a9ac08e0",
   "metadata": {},
   "source": [
    "You can even have it send to your slack channel so everybody in your team can see. See the docs of this library [here](https://github.com/huggingface/knockknock)."
   ]
  },
  {
   "cell_type": "markdown",
   "id": "be326468",
   "metadata": {},
   "source": [
    "### Makefile: Organize Your Command Line"
   ]
  },
  {
   "cell_type": "markdown",
   "id": "76915f59",
   "metadata": {},
   "source": [
    "Do you use often use a sequence of commands to do a repetitive task? Wouldn't it be nice if you can call a sequence of commands using only one short command? That is when Makefile comes in handy.\n",
    "\n",
    "In the code below, I use Makefile to automate the workflow to set up an environment."
   ]
  },
  {
   "cell_type": "markdown",
   "id": "078d6ce6",
   "metadata": {},
   "source": [
    "```yaml\n",
    "# Makefile\n",
    "\n",
    "activate:\n",
    "  @echo \"Activating virtual env\"\n",
    "  poetry shell\n",
    "  \n",
    "install: \n",
    "  @echo \"Installing...\"\n",
    "  poetry install\n",
    "\n",
    "pull_data:\n",
    "  @echo \"Pulling data...\"\n",
    "  dvc pull\n",
    "```"
   ]
  },
  {
   "cell_type": "markdown",
   "id": "255fe7b9",
   "metadata": {},
   "source": [
    "If you run: \n",
    "```bash\n",
    "$ make activate\n",
    "```\n",
    "you should see something like below:\n",
    "```bash\n",
    "Activating virtual env\n",
    "poetry shell\n",
    "```"
   ]
  },
  {
   "cell_type": "markdown",
   "id": "736b6ee6",
   "metadata": {},
   "source": [
    "You can run `activate`, `install`, and `pull_data` at the same time by putting all of those commands under `install_all`:\n",
    "```yaml\n",
    "# Makefile\n",
    "\n",
    "activate:\n",
    "  @echo \"Activating virtual env\"\n",
    "  poetry shell\n",
    "  \n",
    "install: \n",
    "  @echo \"Installing...\"\n",
    "  poetry install\n",
    "\n",
    "pull_data:\n",
    "  @echo \"Pulling data...\"\n",
    "  dvc pull\n",
    "\n",
    "install_all: \n",
    "  install activate pull_data\n",
    "```\n",
    "Now you can run the entire setup workflow by running only one command:\n",
    "\n",
    "```bash\n",
    "$ make install_all\n",
    "```\n",
    "Output:\n",
    "```bash\n",
    "Installing...\n",
    "poetry shell\n",
    "Activating environment\n",
    "poetry install\n",
    "Pulling data...\n",
    "dvc pull\n",
    "```"
   ]
  },
  {
   "cell_type": "markdown",
   "id": "d9eba80e",
   "metadata": {},
   "source": [
    "I used Makefile to simplify the setup of my [customer_segmentation project](https://github.com/khuyentran1401/customer_segmentation).\n",
    "\n",
    "You can learn more about Makefile [here](https://opensource.com/article/18/8/what-how-makefile)."
   ]
  },
  {
   "cell_type": "markdown",
   "id": "a33ac889",
   "metadata": {},
   "source": [
    "### notedown: Create IPython Notebooks from Markdown and Vice Versa"
   ]
  },
  {
   "cell_type": "code",
   "execution_count": null,
   "id": "e87b4769",
   "metadata": {
    "tags": [
     "hide-cell"
    ]
   },
   "outputs": [],
   "source": [
    "!pip install notedown"
   ]
  },
  {
   "cell_type": "markdown",
   "id": "1941c6fe",
   "metadata": {},
   "source": [
    "Sometimes you might want to convert your markdown file to a Jupyter Notebook for execution. If so, try notedown. notedown allows you to convert your markdown file to a Jupyter Notebook and vice versa."
   ]
  },
  {
   "cell_type": "markdown",
   "id": "a80e1b8e",
   "metadata": {},
   "source": [
    "To convert markdown file to a Jupyter Notebook with notedown, type:"
   ]
  },
  {
   "cell_type": "markdown",
   "id": "28d9856f",
   "metadata": {},
   "source": [
    "```bash\n",
    "$ notedown input.md >> output.ipynb \n",
    "```"
   ]
  },
  {
   "cell_type": "markdown",
   "id": "ec58603c",
   "metadata": {},
   "source": [
    "To convert a Jupyter Notebook to a markdown file, type:"
   ]
  },
  {
   "cell_type": "markdown",
   "id": "f0f8ef79",
   "metadata": {},
   "source": [
    "```bash\n",
    "$ notedown input.ipynb --to markdown >> output.md \n",
    "```"
   ]
  },
  {
   "cell_type": "markdown",
   "id": "f0d75188",
   "metadata": {},
   "source": [
    "[Link to notedown](https://github.com/aaren/notedown)."
   ]
  },
  {
   "cell_type": "markdown",
   "id": "adde00d9",
   "metadata": {},
   "source": [
    "### Open a Website Using Python"
   ]
  },
  {
   "cell_type": "markdown",
   "id": "c7e4e2dd",
   "metadata": {},
   "source": [
    "If you want to open a website using Python, use webbrowser.\n",
    "\n",
    "For example, running the code below will open my website in your browser."
   ]
  },
  {
   "cell_type": "code",
   "execution_count": null,
   "id": "672bcb5b",
   "metadata": {},
   "outputs": [],
   "source": [
    "import webbrowser\n",
    "\n",
    "webbrowser.open_new(\"https://mathdatasimplified.com/\")"
   ]
  },
  {
   "cell_type": "markdown",
   "id": "649e1a58",
   "metadata": {},
   "source": [
    "[Link to webbrowser](https://docs.python.org/3/library/webbrowser.html)."
   ]
  },
  {
   "cell_type": "markdown",
   "id": "3d9125c3",
   "metadata": {},
   "source": [
    "### removestar: Automate Replacing Start Imports with Explicit Imports"
   ]
  },
  {
   "cell_type": "code",
   "execution_count": null,
   "id": "720fee05",
   "metadata": {
    "tags": [
     "hide-cell"
    ]
   },
   "outputs": [],
   "source": [
    "!pip install removestar"
   ]
  },
  {
   "cell_type": "markdown",
   "id": "1cbef57a",
   "metadata": {},
   "source": [
    "It is a bad practice to use `import *` in Python because it is harder to track down the origin of variables and debug your code. However, writing numerous imports explicitly from a single module can be tedious.\n",
    "\n",
    "removestar allows you to automate replacing star imports with explicit imports."
   ]
  },
  {
   "cell_type": "code",
   "execution_count": null,
   "id": "ed7e16d0",
   "metadata": {},
   "outputs": [],
   "source": [
    "%%writefile star_script.py  \n",
    "\n",
    "from math import *\n",
    "\n",
    "def square_root(num):\n",
    "    return sqrt(num)\n",
    "\n",
    "def deg_to_rad(degrees):\n",
    "    return radians(degrees)"
   ]
  },
  {
   "cell_type": "markdown",
   "id": "8f5b00bc",
   "metadata": {},
   "source": [
    "```bash\n",
    "# Shows diff but does not edit star_script.py\n",
    "$ removestar star_script.py \n",
    "```"
   ]
  },
  {
   "cell_type": "code",
   "execution_count": null,
   "id": "469a7d1d",
   "metadata": {
    "tags": [
     "remove-input"
    ]
   },
   "outputs": [],
   "source": [
    "!removestar star_script.py "
   ]
  },
  {
   "cell_type": "markdown",
   "id": "f52d1cdd",
   "metadata": {},
   "source": [
    "```bash\n",
    "# Edits star_script.py in-place\n",
    "$ removestar star_script.py -i\n",
    "```"
   ]
  },
  {
   "cell_type": "code",
   "execution_count": null,
   "id": "f9dbaaee",
   "metadata": {
    "tags": [
     "remove-cell"
    ]
   },
   "outputs": [],
   "source": [
    "!removestar star_script.py -i"
   ]
  },
  {
   "cell_type": "code",
   "execution_count": null,
   "id": "c3ec74ec",
   "metadata": {},
   "outputs": [],
   "source": [
    "# %load star_script.py\n",
    "\n",
    "from math import radians, sqrt\n",
    "\n",
    "def square_root(num):\n",
    "    return sqrt(num)\n",
    "\n",
    "def deg_to_rad(degrees):\n",
    "    return radians(degrees)"
   ]
  },
  {
   "cell_type": "markdown",
   "id": "76477d02",
   "metadata": {},
   "source": [
    "[Link to removestar](https://github.com/asmeurer/removestar)."
   ]
  },
  {
   "cell_type": "markdown",
   "id": "37a3dac8",
   "metadata": {},
   "source": [
    "### MonkeyType: Automatically Generate Static Type Annotations Based on Runtime Types"
   ]
  },
  {
   "cell_type": "code",
   "execution_count": null,
   "id": "914e7308",
   "metadata": {},
   "outputs": [],
   "source": [
    "!pip install MonkeyType"
   ]
  },
  {
   "cell_type": "markdown",
   "id": "ac7f53b8",
   "metadata": {},
   "source": [
    "Writing type annotations manually for existing Python code is time-consuming, which results in developers often skipping this important step. This reduces code readability and makes it harder to catch type-related bugs through static analysis."
   ]
  },
  {
   "cell_type": "markdown",
   "id": "90390367",
   "metadata": {},
   "source": [
    "MonkeyType simplifies adding type annotations by automatically generating draft annotations based on the types collected at runtime, saving time and effort compared to manual annotation."
   ]
  },
  {
   "cell_type": "markdown",
   "id": "80aa5f90",
   "metadata": {},
   "source": [
    "Let's say we have two files inside the folder monkey_example. The `utils.py` file contains the `get_mean` function and the `main.py` file calls the `get_mean` function."
   ]
  },
  {
   "cell_type": "code",
   "execution_count": null,
   "id": "2ba650e9",
   "metadata": {},
   "outputs": [],
   "source": [
    "%mkdir monkey_example\n",
    "%cd monkey_example"
   ]
  },
  {
   "cell_type": "code",
   "execution_count": null,
   "id": "2e18d340",
   "metadata": {},
   "outputs": [],
   "source": [
    "%%writefile utils.py \n",
    "def get_mean(num1, num2):\n",
    "    return (num1+num2)/2  "
   ]
  },
  {
   "cell_type": "code",
   "execution_count": null,
   "id": "538ddb8b",
   "metadata": {},
   "outputs": [],
   "source": [
    "%%writefile main.py \n",
    "from utils import get_mean  \n",
    "\n",
    "get_mean(1, 3)"
   ]
  },
  {
   "cell_type": "markdown",
   "id": "83b6152a",
   "metadata": {},
   "source": [
    "We can infer the type annotation of `get_mean` in `utils.py` by running `main.py` with MonkeyType.\n",
    "\n",
    "```bash\n",
    "$ monkeytype run main.py \n",
    "```"
   ]
  },
  {
   "cell_type": "code",
   "execution_count": null,
   "id": "4bfcda6a",
   "metadata": {
    "tags": [
     "remove-input"
    ]
   },
   "outputs": [],
   "source": [
    "!monkeytype run main.py"
   ]
  },
  {
   "cell_type": "code",
   "execution_count": null,
   "id": "57cd12a3",
   "metadata": {},
   "outputs": [],
   "source": [
    "!monkeytype stub utils"
   ]
  },
  {
   "cell_type": "markdown",
   "id": "36e00174",
   "metadata": {},
   "source": [
    "Then generate a stub file for a module:\n",
    "\n",
    "```bash\n",
    "$ monkeytype stub utils\n",
    "```"
   ]
  },
  {
   "cell_type": "code",
   "execution_count": null,
   "id": "5cbe2bdc",
   "metadata": {
    "tags": [
     "remove-input"
    ]
   },
   "outputs": [],
   "source": [
    "!monkeytype stub utils  "
   ]
  },
  {
   "cell_type": "markdown",
   "id": "29a51afa",
   "metadata": {},
   "source": [
    "or apply the type annotations directly to the code. \n",
    "\n",
    "```bash\n",
    "$ monkeytype apply utils \n",
    "```"
   ]
  },
  {
   "cell_type": "code",
   "execution_count": null,
   "id": "cc5d316f",
   "metadata": {
    "tags": [
     "remove-input"
    ]
   },
   "outputs": [],
   "source": [
    "!monkeytype apply utils "
   ]
  },
  {
   "cell_type": "markdown",
   "id": "68675c68",
   "metadata": {},
   "source": [
    "While MonkeyType makes it very easy to add annotations, those annotations may not always match the full intended capability of the functions. For example, `get_mean` is capable of handling many more types than just integers. MonkeyType's annotations are an informative first draft that are meant to be checked and corrected by a developer."
   ]
  },
  {
   "cell_type": "markdown",
   "id": "e547db7a",
   "metadata": {},
   "source": [
    "[Link to MonkeyType](https://github.com/Instagram/MonkeyType)."
   ]
  },
  {
   "cell_type": "markdown",
   "id": "18028759",
   "metadata": {},
   "source": [
    "### whereami: Use Machine Learning to Predict Where You Are"
   ]
  },
  {
   "cell_type": "markdown",
   "id": "2296cd79",
   "metadata": {},
   "source": [
    "If you want to predict where you are with machine learning and WiFi signals, use whereami. One application of whereami is to turn on Hue light bulbs in specific locations through your laptop. \n",
    "\n",
    "To predict your current location, start by collecting some samples by running `whereami learn -l location` in different locations. Once collecting at least 10 data points, run `whereami predict` to predict your current location."
   ]
  },
  {
   "cell_type": "markdown",
   "id": "c6f33b83",
   "metadata": {},
   "source": [
    "```bash\n",
    "# Take a sample in the kitchen\n",
    "$ whereami learn -l kitchen\n",
    "\n",
    "# Take a sample in the bedroom\n",
    "$ whereami learn -l bedroom\n",
    "\n",
    "# Get learned locations\n",
    "$ whereami locations\n",
    "bedroom: 2\n",
    "office: 2\n",
    "kitchen: 3\n",
    "bathroom: 1\n",
    "livingroom: 2\n",
    "\n",
    "# Run prediction in the kitchen\n",
    "$ whereami predict\n",
    "kitchen\n",
    "```"
   ]
  },
  {
   "cell_type": "markdown",
   "id": "ce650236",
   "metadata": {},
   "source": [
    "[Link to whereami](https://github.com/kootenpv/whereami)."
   ]
  },
  {
   "cell_type": "markdown",
   "id": "fb4f360e",
   "metadata": {},
   "source": [
    "### watchfiles: Rerun Code When a File Changes"
   ]
  },
  {
   "cell_type": "markdown",
   "id": "2258d1d3",
   "metadata": {},
   "source": [
    "If you want to automatically rerun a process when a file changes, use watchfiles.\n",
    "\n",
    "In the code below, the function `train` will run when the file `process_data.py` changes."
   ]
  },
  {
   "cell_type": "markdown",
   "id": "246b940d",
   "metadata": {},
   "source": [
    "```python\n",
    "from watchfiles import run_process\n",
    "\n",
    "def train():\n",
    "    print(\"Detect changes in process_data.py. \" \n",
    "          \"Train the model again\")\n",
    "\n",
    "if __name__ == \"__main__\":\n",
    "    run_process(\"process_data.py\", target=train)\n",
    "```"
   ]
  },
  {
   "cell_type": "markdown",
   "id": "7aa5c25e",
   "metadata": {},
   "source": [
    "[Link to watchfiles](https://github.com/samuelcolvin/watchfiles)."
   ]
  },
  {
   "cell_type": "markdown",
   "id": "f6f1b616",
   "metadata": {},
   "source": [
    "### PyTube: A Lightweight Python Library for Downloading YouTube Videos"
   ]
  },
  {
   "cell_type": "code",
   "execution_count": null,
   "id": "9b9a5da9",
   "metadata": {
    "tags": [
     "hide-cell"
    ]
   },
   "outputs": [],
   "source": [
    "!pip install pytube"
   ]
  },
  {
   "cell_type": "markdown",
   "id": "8661d370",
   "metadata": {},
   "source": [
    "pytube is a lightweight Python library that enables you to download YouTube videos and playlists in specific formats and resolutions."
   ]
  },
  {
   "cell_type": "code",
   "execution_count": null,
   "id": "e15a5ea5",
   "metadata": {},
   "outputs": [],
   "source": [
    "# Get the video\n",
    "from pytube import YouTube\n",
    "\n",
    "yt = YouTube(\"https://youtu.be/UKCTvrJSoL0\")"
   ]
  },
  {
   "cell_type": "code",
   "execution_count": null,
   "id": "af06da19",
   "metadata": {},
   "outputs": [],
   "source": [
    "yt.title"
   ]
  },
  {
   "cell_type": "code",
   "execution_count": null,
   "id": "63e0bbff",
   "metadata": {},
   "outputs": [],
   "source": [
    "yt.thumbnail_url"
   ]
  },
  {
   "cell_type": "code",
   "execution_count": null,
   "id": "e6f9ccf6",
   "metadata": {},
   "outputs": [],
   "source": [
    "# list all streams\n",
    "yt.streams"
   ]
  },
  {
   "cell_type": "code",
   "execution_count": null,
   "id": "7b4e8059",
   "metadata": {},
   "outputs": [],
   "source": [
    "# Filter by MIME type and resolution\n",
    "yt.streams.filter(mime_type=\"video/mp4\", res='720p').first().download()"
   ]
  },
  {
   "cell_type": "code",
   "execution_count": null,
   "id": "a864cc72",
   "metadata": {},
   "outputs": [],
   "source": [
    "# Get a playlist\n",
    "from pytube import Playlist\n",
    "\n",
    "p = Playlist('https://youtube.com/playlist?list=PLnK6m_JBRVNoPnqnVrWaYtZ2G4nFTnGze&si=BK4o05iHmgqsyNK2')"
   ]
  },
  {
   "cell_type": "code",
   "execution_count": null,
   "id": "ba239b30",
   "metadata": {},
   "outputs": [],
   "source": [
    "# Download all videos in the playlist\n",
    "print(f'Downloading: {p.title} ')\n",
    "for video in p.videos:\n",
    "    video.streams.first(mime_type=\"video/mp4\").download()"
   ]
  },
  {
   "cell_type": "markdown",
   "id": "99b2b4e7",
   "metadata": {},
   "source": [
    "[Link to pytube](https://github.com/pytube/pytube)."
   ]
  },
  {
   "cell_type": "markdown",
   "id": "8b3e24b6",
   "metadata": {},
   "source": [
    "### Magika: Detect File Content Types with Deep Learning"
   ]
  },
  {
   "cell_type": "code",
   "execution_count": null,
   "id": "b51fbac5",
   "metadata": {
    "tags": [
     "hide-cell"
    ]
   },
   "outputs": [],
   "source": [
    "!pip install magika"
   ]
  },
  {
   "cell_type": "markdown",
   "id": "b5e0c39a",
   "metadata": {},
   "source": [
    "Detecting file types helps identify malicious files disguised with false extensions, such as a .jpg that is actually malware.\n",
    "\n",
    "Magika, Google's AI-powered file type detection tool, uses deep learning for precise detection. In the following code, files have misleading extensions, but Magika still accurately detects their correct types."
   ]
  },
  {
   "cell_type": "code",
   "execution_count": null,
   "id": "7acd0f13",
   "metadata": {},
   "outputs": [],
   "source": [
    "from pathlib import Path\n",
    "import shutil\n",
    "\n",
    "# Define the directory where files will be created\n",
    "directory = Path(\"examples\")\n",
    "\n",
    "# Ensure the directory exists\n",
    "directory.mkdir(exist_ok=True)\n",
    "\n",
    "# Empty the directory if it is not empty\n",
    "for item in directory.iterdir():\n",
    "    if item.is_dir():\n",
    "        shutil.rmtree(item)\n",
    "    else:\n",
    "        item.unlink()\n",
    "\n",
    "# Define the filenames and their respective content\n",
    "files = [\n",
    "    (\"plain_text.csv\", \"This is a plain text file.\"),\n",
    "    (\"csv.json\", \"id,name,age\\n1,John Doe,30\"),\n",
    "    (\"json.xml\", '{\"name\": \"John\", \"age\": 30}'),\n",
    "    (\"markdown.js\", \"# Heading 1\\nSome text.\"),\n",
    "    (\"python.ini\", 'print(\"Hello, World!\")'),\n",
    "    (\"js.yml\", 'console.log(\"Hello, World!\");'),\n",
    "    (\"yml.js\", \"name: John\\nage: 30\"),\n",
    "]\n",
    "\n",
    "# Create each file with the specified content\n",
    "for filename, content in files:\n",
    "    (directory / filename).write_text(content)\n",
    "\n",
    "print(f\"Created {len(files)} files in the '{directory}' directory.\")"
   ]
  },
  {
   "cell_type": "markdown",
   "id": "2a610577",
   "metadata": {},
   "source": [
    "```bash\n",
    "$ magika -r examples\n",
    "```"
   ]
  },
  {
   "cell_type": "code",
   "execution_count": null,
   "id": "e5961d7c",
   "metadata": {
    "tags": [
     "remove-input"
    ]
   },
   "outputs": [],
   "source": [
    "!magika -r examples"
   ]
  },
  {
   "cell_type": "markdown",
   "id": "cd7a8614",
   "metadata": {},
   "source": [
    "[Link to Magika](https://bit.ly/45tdw5O)."
   ]
  },
  {
   "cell_type": "markdown",
   "id": "1028e90a",
   "metadata": {},
   "source": [
    "### From Selenium to Helium: Writing Cleaner Browser Automation Code"
   ]
  },
  {
   "cell_type": "markdown",
   "id": "0175effa",
   "metadata": {},
   "source": [
    "Writing browser automation scripts with traditional Selenium requires verbose code with explicit element locators (like XPaths, CSS selectors) and explicit waits, which is time-consuming to write and hard-to-maintain.\n",
    "\n",
    "\n",
    "```python\n",
    "from selenium import webdriver\n",
    "from selenium.webdriver.common.by import By\n",
    "from selenium.webdriver.support.ui import WebDriverWait\n",
    "from selenium.webdriver.support import expected_conditions as EC\n",
    "\n",
    "# Start Chrome\n",
    "\n",
    "with webdriver.Chrome() as driver:\n",
    "    # Navigate to GitHub login page\n",
    "    driver.get('https://github.com/login')\n",
    "\n",
    "    # Login\n",
    "    username_field = driver.find_element(By.ID, 'login_field')\n",
    "    password_field = driver.find_element(By.ID, 'password')\n",
    "    \n",
    "    username_field.send_keys('1mh')\n",
    "    password_field.send_keys('1Secretpw')\n",
    "    \n",
    "    login_button = driver.find_element(By.NAME, 'commit')\n",
    "    login_button.click()\n",
    "\n",
    "    # Navigate to repository\n",
    "    driver.get('https://github.com/mherrmann/helium')\n",
    "\n",
    "    # Wait for and click Star button\n",
    "    wait = WebDriverWait(driver, 10)\n",
    "    star_button = wait.until(EC.element_to_be_clickable((By.XPATH, \"//button[contains(text(), 'Star')]\")))\n",
    "    star_button.click()\n",
    "\n",
    "    # Wait for and click Unstar button\n",
    "    unstar_button = wait.until(EC.element_to_be_clickable((By.XPATH, \"//button[contains(text(), 'Unstar')]\")))\n",
    "    unstar_button.click()\n",
    "```"
   ]
  },
  {
   "cell_type": "markdown",
   "id": "a3efccd6",
   "metadata": {},
   "source": [
    "Helium provides high-level APIs that work with user-visible elements and handles waits automatically. With Helium, you can write more intuitive and maintainable browser automation code. \n",
    "\n",
    "\n",
    "\n",
    "```python\n",
    "from helium import *\n",
    "\n",
    "# Start Chrome and navigate to GitHub login page\n",
    "start_chrome('github.com/login')\n",
    "\n",
    "# Enter username and password\n",
    "write('1mh', into='Username')\n",
    "write('1Secretpw', into='Password')\n",
    "\n",
    "# Click the Sign in button\n",
    "click('Sign in')\n",
    "\n",
    "# Navigate to the Helium repository\n",
    "go_to('github.com/mherrmann/helium')\n",
    "\n",
    "# Star and then unstar the repository\n",
    "click(Button('Star'))\n",
    "click(Button('Unstar'))\n",
    "\n",
    "# Close the browser\n",
    "kill_browser()\n",
    "```"
   ]
  },
  {
   "cell_type": "markdown",
   "id": "1e70ee32",
   "metadata": {},
   "source": [
    "[Link to Helium](https://github.com/mherrmann/helium)."
   ]
  }
 ],
 "metadata": {
  "jupytext": {
   "text_representation": {
    "extension": ".md",
    "format_name": "myst",
    "format_version": 0.13,
    "jupytext_version": "1.16.7"
   }
  },
  "kernelspec": {
   "display_name": "Python 3 (ipykernel)",
   "language": "python",
   "name": "python3"
  },
  "source_map": [
   12,
   16,
   20,
   24,
   48,
   52,
   56,
   62,
   85,
   89,
   93,
   103,
   107,
   111,
   115,
   119,
   123,
   127,
   131,
   135,
   137,
   141,
   148,
   152,
   156,
   162,
   175,
   179,
   183,
   189,
   207,
   219,
   255,
   261,
   265,
   269,
   273,
   277,
   283,
   287,
   293,
   297,
   301,
   307,
   311,
   315,
   319,
   323,
   329,
   339,
   346,
   350,
   357,
   363,
   373,
   377,
   381,
   383,
   387,
   391,
   395,
   400,
   406,
   411,
   419,
   425,
   427,
   435,
   439,
   447,
   451,
   455,
   459,
   463,
   469,
   491,
   495,
   499,
   505,
   518,
   522,
   526,
   530,
   534,
   541,
   545,
   549,
   554,
   559,
   566,
   571,
   575,
   579,
   583,
   589,
   622,
   628,
   632,
   636,
   640,
   680,
   710
  ]
 },
 "nbformat": 4,
 "nbformat_minor": 5
}