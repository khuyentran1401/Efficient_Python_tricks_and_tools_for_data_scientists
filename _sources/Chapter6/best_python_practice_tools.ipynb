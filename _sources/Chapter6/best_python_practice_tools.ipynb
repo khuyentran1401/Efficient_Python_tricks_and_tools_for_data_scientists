{
 "cells": [
  {
   "cell_type": "markdown",
   "id": "41b4d397",
   "metadata": {},
   "source": [
    "---\n",
    "title: Tools for Best Python Practices\n",
    "jupyter:\n",
    "  jupytext:\n",
    "    formats: ipynb,qmd\n",
    "    text_representation:\n",
    "      extension: .qmd\n",
    "      format_name: quarto\n",
    "      format_version: '1.0'\n",
    "      jupytext_version: 1.16.7\n",
    "  kernelspec:\n",
    "    display_name: Python 3 (ipykernel)\n",
    "    language: python\n",
    "    name: python3\n",
    "---"
   ]
  },
  {
   "cell_type": "code",
   "execution_count": null,
   "id": "2906779d",
   "metadata": {
    "tags": [
     "hide-cell"
    ]
   },
   "outputs": [],
   "source": [
    "!pip install hydra-core"
   ]
  },
  {
   "cell_type": "markdown",
   "id": "ede83c3f",
   "metadata": {},
   "source": [
    "When writing code, it is a good practice to put the values that you might change in a separate file from your original script.\n",
    "\n",
    "This practice not only saves you from wasting time searching for a specific variable in your scripts but also makes your scripts more reproducible.\n",
    "\n",
    "My favorite tool to handle config files is Hydra. The code below shows how to get values from a config file using Hydra.\n",
    "\n",
    "All parameters are specified in a configuration file named `config.yaml`: \n",
    "\n",
    "```yaml\n",
    "# config.yaml\n",
    "data: data1 \n",
    "variables: \n",
    "  drop_features: ['iid', 'id', 'idg', 'wave']\n",
    "  categorical_vars: ['undergra', 'zipcode']\n",
    " ```\n",
    "\n",
    "In seperate file named `main.py`, the parameters in the `config.yaml` file are called using Hydra:\n",
    "```python\n",
    "# main.py\n",
    "import hydra \n",
    "\n",
    "@hydra.main(config_name='config.yaml')\n",
    "def main(config):\n",
    "    print(f'Process {config.data}')\n",
    "    print(f'Drop features: {config.variables.drop_features}')\n",
    "\n",
    "if __name__ == '__main__':\n",
    "    main()\n",
    "```\n",
    "\n",
    "On your terminal, type:\n",
    "```bash\n",
    "$ python main.py\n",
    "```\n",
    "Output:"
   ]
  },
  {
   "cell_type": "code",
   "execution_count": 14,
   "id": "93350362",
   "metadata": {
    "ExecuteTime": {
     "end_time": "2021-09-12T01:32:32.778790Z",
     "start_time": "2021-09-12T01:32:32.334371Z"
    },
    "tags": [
     "hide-output"
    ]
   },
   "outputs": [
    {
     "name": "stdout",
     "output_type": "stream",
     "text": [
      "hydra_examples/main.py:3: UserWarning: \n",
      "config_path is not specified in @hydra.main().\n",
      "See https://hydra.cc/docs/next/upgrades/1.0_to_1.1/changes_to_hydra_main_config_path for more information.\n",
      "  @hydra.main(config_name='config.yaml')\n",
      "Process data1\n",
      "Drop features: ['iid', 'id', 'idg', 'wave']\n"
     ]
    }
   ],
   "source": [
    "!python hydra_examples/main.py"
   ]
  },
  {
   "cell_type": "markdown",
   "id": "05d7ef4e",
   "metadata": {},
   "source": [
    "[Link to my article about Hydra](https://towardsdatascience.com/introduction-to-hydra-cc-a-powerful-framework-to-configure-your-data-science-projects-ed65713a53c6?sk=eb08126922cc54a40c2fdfaea54c708d).\n",
    "\n",
    "[Link to Hydra](https://hydra.cc/). \n",
    "\n",
    "\n",
    "### Store Sensitive Information Securely in Python with .env Files"
   ]
  },
  {
   "cell_type": "code",
   "execution_count": null,
   "id": "7bc104a3",
   "metadata": {
    "tags": [
     "hide-cell"
    ]
   },
   "outputs": [],
   "source": [
    "!pip install python-dotenv"
   ]
  },
  {
   "cell_type": "markdown",
   "id": "e9e3668b-40d9-49d5-9f8c-e3a873a7600d",
   "metadata": {},
   "source": [
    "Managing configuration and sensitive data in code results in security risks and deployment challenges as values are hard-coded or need to be manually set in different environments. This causes maintenance overhead and potential security breaches."
   ]
  },
  {
   "cell_type": "code",
   "execution_count": null,
   "id": "467bfebb-9847-4040-9e96-4f902e1f51d9",
   "metadata": {},
   "outputs": [],
   "source": [
    "PASSWORD=123\n",
    "USERNAME=myusername"
   ]
  },
  {
   "cell_type": "markdown",
   "id": "6c16293c",
   "metadata": {},
   "source": [
    "Python-dotenv lets you separate configuration from code by loading environment variables from a `.env` file. You can:\n",
    "\n",
    "- Keep sensitive data out of code\n",
    "- Use different configurations per environment\n",
    "\n",
    "Here is an example:"
   ]
  },
  {
   "cell_type": "code",
   "execution_count": 1,
   "id": "63aff258",
   "metadata": {
    "ExecuteTime": {
     "end_time": "2021-09-12T01:35:00.224104Z",
     "start_time": "2021-09-12T01:35:00.216068Z"
    }
   },
   "outputs": [
    {
     "name": "stdout",
     "output_type": "stream",
     "text": [
      "Overwriting .env\n"
     ]
    }
   ],
   "source": [
    "%%writefile .env\n",
    "PASSWORD=123\n",
    "USERNAME=myusername"
   ]
  },
  {
   "cell_type": "code",
   "execution_count": 3,
   "id": "17da1dcc",
   "metadata": {
    "ExecuteTime": {
     "end_time": "2021-09-12T01:35:42.425869Z",
     "start_time": "2021-09-12T01:35:42.405605Z"
    }
   },
   "outputs": [
    {
     "name": "stdout",
     "output_type": "stream",
     "text": [
      "123\n",
      "myusername\n"
     ]
    }
   ],
   "source": [
    "from dotenv import load_dotenv\n",
    "import os \n",
    "\n",
    "load_dotenv()\n",
    "PASSWORD = os.getenv('PASSWORD')\n",
    "USERNAME = os.getenv('USERNAME')\n",
    "print(PASSWORD)\n",
    "print(USERNAME)"
   ]
  },
  {
   "cell_type": "markdown",
   "id": "da82c75c",
   "metadata": {},
   "source": [
    "[Link to python-dotenv](https://github.com/theskumar/python-dotenv)\n",
    "\n",
    "### Type-Safe Configuration Management with pydantic-settings"
   ]
  },
  {
   "cell_type": "code",
   "execution_count": null,
   "id": "d926fa08-cfa2-498a-a7ad-66418104c2fd",
   "metadata": {
    "tags": [
     "hide-cell"
    ]
   },
   "outputs": [],
   "source": [
    "!pip install \"pydantic-settings\""
   ]
  },
  {
   "cell_type": "markdown",
   "id": "c3fb4113-a658-4cc5-b910-c291a95ebd3c",
   "metadata": {},
   "source": [
    "Managing configuration settings without proper validation can lead to runtime errors and type-related issues. Consider this problematic approach:"
   ]
  },
  {
   "cell_type": "code",
   "execution_count": 10,
   "id": "90b45007-cf52-4e41-bd7e-6eb1a55f9044",
   "metadata": {},
   "outputs": [
    {
     "name": "stdout",
     "output_type": "stream",
     "text": [
      "env: DATABASE_URL=postgresql://localhost:5432/db\n",
      "env: MAX_CONNECTIONS=10\n",
      "env: DEBUG=False\n"
     ]
    }
   ],
   "source": [
    "%env DATABASE_URL=postgresql://localhost:5432/db\n",
    "%env MAX_CONNECTIONS=10\n",
    "%env DEBUG=False"
   ]
  },
  {
   "cell_type": "code",
   "execution_count": 11,
   "id": "fe8bcb39-7b45-4d71-adf4-c7aae3cf337c",
   "metadata": {},
   "outputs": [
    {
     "name": "stdout",
     "output_type": "stream",
     "text": [
      "Database URL: postgresql://localhost:5432/db\n",
      "Max Connections: 10\n",
      "Debug Mode: True\n"
     ]
    }
   ],
   "source": [
    "import os\n",
    "\n",
    "DATABASE_URL = os.getenv('DATABASE_URL', 'postgresql://localhost:5432/db')\n",
    "MAX_CONNECTIONS = os.getenv('MAX_CONNECTIONS', '10')  # Need manual conversion to string\n",
    "DEBUG = bool(os.getenv('DEBUG', 'False'))  # Need manual conversion to boolean\n",
    "\n",
    "print(f\"Database URL: {DATABASE_URL}\")\n",
    "print(f\"Max Connections: {MAX_CONNECTIONS}\")\n",
    "print(f\"Debug Mode: {DEBUG}\")"
   ]
  },
  {
   "cell_type": "markdown",
   "id": "db4e5763",
   "metadata": {},
   "source": [
    "Pydantic-settings provides type-safe configuration management with automatic validation. Here's how to use it:\n",
    "\n",
    "Define your settings with type hints:"
   ]
  },
  {
   "cell_type": "code",
   "execution_count": 5,
   "id": "5d10bbf7-3c7b-4f75-965f-cd406ac96f82",
   "metadata": {},
   "outputs": [],
   "source": [
    "from pydantic_settings import BaseSettings, SettingsConfigDict\n",
    "from pydantic import PostgresDsn\n",
    "from typing import Optional\n",
    "\n",
    "class DatabaseSettings(BaseSettings):\n",
    "    model_config = SettingsConfigDict(env_prefix='DB_')\n",
    "    \n",
    "    url: PostgresDsn = PostgresDsn('postgresql://localhost:5432/db')\n",
    "    max_connections: int = 10\n",
    "    debug: bool = False"
   ]
  },
  {
   "cell_type": "markdown",
   "id": "f0e8afd6-5133-4a60-b4c1-61b2880844fc",
   "metadata": {},
   "source": [
    "Set environement variables:"
   ]
  },
  {
   "cell_type": "code",
   "execution_count": 8,
   "id": "3c55ae13-7aa9-49fc-bca8-f7dc72387759",
   "metadata": {},
   "outputs": [
    {
     "name": "stdout",
     "output_type": "stream",
     "text": [
      "env: DB_URL=postgresql://localhost:5432/production\n",
      "env: DB_MAX_CONNECTIONS=20\n",
      "env: DB_DEBUG=True\n"
     ]
    }
   ],
   "source": [
    "%env DB_URL=postgresql://localhost:5432/production\n",
    "%env DB_MAX_CONNECTIONS=20\n",
    "%env DB_DEBUG=True"
   ]
  },
  {
   "cell_type": "markdown",
   "id": "e6fdc420-94ef-4369-b3da-a165d17491f8",
   "metadata": {},
   "source": [
    "Load settings from environment variables:"
   ]
  },
  {
   "cell_type": "code",
   "execution_count": 12,
   "id": "9c987851-3c64-43a6-90e3-62ce68a7ba77",
   "metadata": {},
   "outputs": [
    {
     "name": "stdout",
     "output_type": "stream",
     "text": [
      "Database URL: postgresql://localhost:5432/production\n",
      "Max Connections: 20\n",
      "Debug Mode: True\n"
     ]
    }
   ],
   "source": [
    "settings = DatabaseSettings()\n",
    "\n",
    "# Access validated settings\n",
    "print(f\"Database URL: {settings.url}\")\n",
    "print(f\"Max Connections: {settings.max_connections}\")\n",
    "print(f\"Debug Mode: {settings.debug}\")"
   ]
  },
  {
   "cell_type": "markdown",
   "id": "8b828e82-a12b-4688-bd23-87edde732f59",
   "metadata": {},
   "source": [
    "Compare with Python-dotenv:"
   ]
  },
  {
   "cell_type": "code",
   "execution_count": 16,
   "id": "e34574a1-03b5-4c61-930f-52008f4ab7f4",
   "metadata": {},
   "outputs": [],
   "source": [
    "from dotenv import load_dotenv\n",
    "import os\n",
    "\n",
    "load_dotenv()\n",
    "database_url = os.getenv('DATABASE_URL')  # No type validation\n",
    "debug = bool(os.getenv('DEBUG'))  # Returns string, manual conversion needed"
   ]
  },
  {
   "cell_type": "markdown",
   "id": "a3885101-e6c4-4dd0-812c-7bfd0a953ecd",
   "metadata": {},
   "source": [
    "[Link to pydantic-settings](https://github.com/pydantic/pydantic-settings)\n",
    "\n",
    "### docopt: Create Beautiful Command-line Interfaces for Documentation in Python"
   ]
  },
  {
   "cell_type": "code",
   "execution_count": null,
   "id": "b8b50bae",
   "metadata": {
    "ExecuteTime": {
     "end_time": "2021-09-12T21:44:15.543618Z",
     "start_time": "2021-09-12T21:44:13.867036Z"
    },
    "tags": [
     "hide-cell"
    ]
   },
   "outputs": [],
   "source": [
    "!pip install docopt "
   ]
  },
  {
   "cell_type": "markdown",
   "id": "6d6db757",
   "metadata": {},
   "source": [
    "Writing documentation for your Python script helps others understand how to use your script. However, instead of making them spend some time to find the documentation in your script, wouldn’t it be nice if they can view the documentation in the terminal?\n",
    "\n",
    "That is when docopt comes in handy. docopt allows you to create beautiful command-line interfaces by passing a Python string. \n",
    "\n",
    "To understand how docopt works, we can add a docstring at the beginning of the file named `docopt_example.py`. "
   ]
  },
  {
   "cell_type": "code",
   "execution_count": null,
   "id": "0fd440c0",
   "metadata": {},
   "outputs": [],
   "source": [
    "%%writefile docopt_example.py\n",
    "\"\"\"Extract keywords of an input file\n",
    "Usage:\n",
    "    docopt_example.py --data-dir=<data-directory> [--input-path=<path>]\n",
    "Options:\n",
    "    --data-dir=<path>    Directory of the data\n",
    "    --input-path=<path>  Name of the input file [default: input_text.txt]\n",
    "\"\"\"\n",
    "\n",
    "from docopt import docopt \n",
    "\n",
    "if __name__ == '__main__':\n",
    "    args = docopt(__doc__, argv=None, help=True)\n",
    "    data_dir = args['--data-dir']\n",
    "    input_path = args['--input-path']\n",
    "\n",
    "    if data_dir:\n",
    "        print(f\"Extracting keywords from {data_dir}/{input_path}\")"
   ]
  },
  {
   "cell_type": "markdown",
   "id": "0b40987b",
   "metadata": {},
   "source": [
    "Running the file `docopt_example.py` should give us the output like below:\n",
    "\n",
    "```bash\n",
    "$ python docopt_example.py\n",
    "```"
   ]
  },
  {
   "cell_type": "code",
   "execution_count": 23,
   "id": "021078d9",
   "metadata": {
    "ExecuteTime": {
     "end_time": "2021-09-12T01:42:12.014010Z",
     "start_time": "2021-09-12T01:42:11.816447Z"
    },
    "tags": [
     "hide-input"
    ]
   },
   "outputs": [
    {
     "name": "stdout",
     "output_type": "stream",
     "text": [
      "Usage:\r\n",
      "    docopt_example.py --data-dir=<data-directory> [--input-path=<path>]\r\n",
      "Options:\r\n",
      "    --data-dir=<path>    Directory of the data\r\n",
      "    --input-path=<path>  Name of the input file [default: input_text.txt]\r\n"
     ]
    }
   ],
   "source": [
    "!python docopt_example.py"
   ]
  },
  {
   "cell_type": "markdown",
   "id": "c56ed359",
   "metadata": {},
   "source": [
    "[Link to docopt](http://docopt.org/)."
   ]
  }
 ],
 "metadata": {
  "celltoolbar": "Tags",
  "hide_input": false,
  "interpreter": {
   "hash": "484329849bb907480cd798e750759bc6f1d66c93f9e78e7055aa0a2c2de6b47b"
  },
  "jupytext": {
   "formats": "ipynb,qmd"
  },
  "kernelspec": {
   "display_name": "Python 3 (ipykernel)",
   "language": "python",
   "name": "python3"
  },
  "language_info": {
   "codemirror_mode": {
    "name": "ipython",
    "version": 3
   },
   "file_extension": ".py",
   "mimetype": "text/x-python",
   "name": "python",
   "nbconvert_exporter": "python",
   "pygments_lexer": "ipython3",
   "version": "3.11.6"
  },
  "toc": {
   "base_numbering": 1,
   "nav_menu": {},
   "number_sections": true,
   "sideBar": true,
   "skip_h1_title": false,
   "title_cell": "Table of Contents",
   "title_sidebar": "Contents",
   "toc_cell": false,
   "toc_position": {},
   "toc_section_display": true,
   "toc_window_display": false
  }
 },
 "nbformat": 4,
 "nbformat_minor": 5
}
