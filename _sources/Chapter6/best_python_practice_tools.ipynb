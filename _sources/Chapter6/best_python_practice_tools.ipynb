{
 "cells": [
  {
   "cell_type": "markdown",
   "id": "3e12f46e",
   "metadata": {},
   "source": [
    "## Tools for Best Python Practices"
   ]
  },
  {
   "cell_type": "markdown",
   "id": "63584f27",
   "metadata": {},
   "source": [
    "This section cover tools that encourage best Python practices."
   ]
  },
  {
   "cell_type": "markdown",
   "id": "920521ec",
   "metadata": {},
   "source": [
    "### Managing Default Configurations with Hydra"
   ]
  },
  {
   "cell_type": "code",
   "execution_count": null,
   "id": "305bd7d6",
   "metadata": {
    "tags": [
     "hide-cell"
    ]
   },
   "outputs": [],
   "source": [
    "!pip install hydra-core --upgrade"
   ]
  },
  {
   "cell_type": "markdown",
   "id": "5f17afc7",
   "metadata": {},
   "source": [
    "Managing default configurations across different environments or experiments is cumbersome, often requiring explicit specification of config options every time you run your application. Data scientists frequently need to switch between different database connections or model parameters, leading to repetitive command-line arguments."
   ]
  },
  {
   "cell_type": "markdown",
   "id": "d32d2886",
   "metadata": {},
   "source": [
    "Hydra solves this by allowing you to set and override default configurations easily. Here's how to use it:\n",
    "\n",
    "First, create the configuration files:"
   ]
  },
  {
   "cell_type": "code",
   "execution_count": null,
   "id": "7a9eafb6",
   "metadata": {},
   "outputs": [],
   "source": [
    "%mkdir conf\n",
    "%mkdir conf/db"
   ]
  },
  {
   "cell_type": "code",
   "execution_count": null,
   "id": "223bd274",
   "metadata": {},
   "outputs": [],
   "source": [
    "%%writefile conf/config.yaml\n",
    "defaults:\n",
    "  - db: mysql  # Set mysql as default database"
   ]
  },
  {
   "cell_type": "code",
   "execution_count": null,
   "id": "10c1f23a",
   "metadata": {},
   "outputs": [],
   "source": [
    "%%writefile conf/db/mysql.yaml\n",
    "driver: mysql\n",
    "user: omry\n",
    "pass: secret"
   ]
  },
  {
   "cell_type": "code",
   "execution_count": null,
   "id": "d2543f5d",
   "metadata": {},
   "outputs": [],
   "source": [
    "%%writefile conf/db/postgresql.yaml\n",
    "driver: postgresql\n",
    "user: postgres_user\n",
    "pass: drowssap"
   ]
  },
  {
   "cell_type": "markdown",
   "id": "1312f3d4",
   "metadata": {},
   "source": [
    "Create the Python application:"
   ]
  },
  {
   "cell_type": "code",
   "execution_count": null,
   "id": "bb0a3484",
   "metadata": {},
   "outputs": [],
   "source": [
    "%%writefile main.py\n",
    "import hydra\n",
    "from omegaconf import DictConfig, OmegaConf\n",
    "\n",
    "@hydra.main(version_base=None, config_path=\"conf\", config_name=\"config\")\n",
    "def my_app(cfg: DictConfig) -> None:\n",
    "    print(OmegaConf.to_yaml(cfg))\n",
    "\n",
    "if __name__ == \"__main__\":\n",
    "    my_app()"
   ]
  },
  {
   "cell_type": "markdown",
   "id": "b68089ab",
   "metadata": {},
   "source": [
    "You can run with default config (mysql) or override to use postgresql:"
   ]
  },
  {
   "cell_type": "code",
   "execution_count": null,
   "id": "5383c00c",
   "metadata": {},
   "outputs": [],
   "source": [
    "!python main.py # Uses mysql by default"
   ]
  },
  {
   "cell_type": "code",
   "execution_count": null,
   "id": "9cda39e2",
   "metadata": {},
   "outputs": [],
   "source": [
    "!python main.py db=postgresql  # Override to use postgresql"
   ]
  },
  {
   "cell_type": "markdown",
   "id": "f512084a",
   "metadata": {},
   "source": [
    "[Link to Hydra](https://github.com/facebookresearch/hydra)"
   ]
  },
  {
   "cell_type": "markdown",
   "id": "c2391903",
   "metadata": {},
   "source": [
    "### Store Sensitive Information Securely in Python with .env Files"
   ]
  },
  {
   "cell_type": "code",
   "execution_count": null,
   "id": "125fd8bd",
   "metadata": {
    "tags": [
     "hide-cell"
    ]
   },
   "outputs": [],
   "source": [
    "!pip install python-dotenv"
   ]
  },
  {
   "cell_type": "markdown",
   "id": "c3526e84",
   "metadata": {},
   "source": [
    "Managing configuration and sensitive data in code results in security risks and deployment challenges as values are hard-coded or need to be manually set in different environments. This causes maintenance overhead and potential security breaches."
   ]
  },
  {
   "cell_type": "code",
   "execution_count": null,
   "id": "4728e4b5",
   "metadata": {},
   "outputs": [],
   "source": [
    "PASSWORD=123\n",
    "USERNAME=myusername"
   ]
  },
  {
   "cell_type": "markdown",
   "id": "c0743c51",
   "metadata": {},
   "source": [
    "Python-dotenv lets you separate configuration from code by loading environment variables from a `.env` file. You can:\n",
    "\n",
    "- Keep sensitive data out of code\n",
    "- Use different configurations per environment\n",
    "\n",
    "Here is an example:"
   ]
  },
  {
   "cell_type": "code",
   "execution_count": null,
   "id": "5e711934",
   "metadata": {},
   "outputs": [],
   "source": [
    "%%writefile .env\n",
    "PASSWORD=123\n",
    "USERNAME=myusername"
   ]
  },
  {
   "cell_type": "code",
   "execution_count": null,
   "id": "317afea8",
   "metadata": {},
   "outputs": [],
   "source": [
    "from dotenv import load_dotenv\n",
    "import os \n",
    "\n",
    "load_dotenv()\n",
    "PASSWORD = os.getenv('PASSWORD')\n",
    "USERNAME = os.getenv('USERNAME')\n",
    "print(PASSWORD)\n",
    "print(USERNAME)"
   ]
  },
  {
   "cell_type": "markdown",
   "id": "dc576c3d",
   "metadata": {},
   "source": [
    "[Link to python-dotenv](https://github.com/theskumar/python-dotenv)"
   ]
  },
  {
   "cell_type": "markdown",
   "id": "3011ef9d",
   "metadata": {},
   "source": [
    "### docopt: Create Beautiful Command-line Interfaces for Documentation in Python"
   ]
  },
  {
   "cell_type": "code",
   "execution_count": null,
   "id": "d572e7fa",
   "metadata": {
    "tags": [
     "hide-cell"
    ]
   },
   "outputs": [],
   "source": [
    "!pip install docopt "
   ]
  },
  {
   "cell_type": "markdown",
   "id": "4b73903b",
   "metadata": {},
   "source": [
    "Writing documentation for your Python script helps others understand how to use your script. However, instead of making them spend some time to find the documentation in your script, wouldn’t it be nice if they can view the documentation in the terminal?\n",
    "\n",
    "That is when docopt comes in handy. docopt allows you to create beautiful command-line interfaces by passing a Python string."
   ]
  },
  {
   "cell_type": "markdown",
   "id": "bda9ab08",
   "metadata": {},
   "source": [
    "To understand how docopt works, we can add a docstring at the beginning of the file named `docopt_example.py`."
   ]
  },
  {
   "cell_type": "code",
   "execution_count": null,
   "id": "14fe305c",
   "metadata": {},
   "outputs": [],
   "source": [
    "%%writefile docopt_example.py\n",
    "\"\"\"Extract keywords of an input file\n",
    "Usage:\n",
    "    docopt_example.py --data-dir=<data-directory> [--input-path=<path>]\n",
    "Options:\n",
    "    --data-dir=<path>    Directory of the data\n",
    "    --input-path=<path>  Name of the input file [default: input_text.txt]\n",
    "\"\"\"\n",
    "\n",
    "from docopt import docopt \n",
    "\n",
    "if __name__ == '__main__':\n",
    "    args = docopt(__doc__, argv=None, help=True)\n",
    "    data_dir = args['--data-dir']\n",
    "    input_path = args['--input-path']\n",
    "\n",
    "    if data_dir:\n",
    "        print(f\"Extracting keywords from {data_dir}/{input_path}\")"
   ]
  },
  {
   "cell_type": "markdown",
   "id": "47f9ea68",
   "metadata": {},
   "source": [
    "Running the file `docopt_example.py` should give us the output like below:\n",
    "\n",
    "```bash\n",
    "$ python docopt_example.py\n",
    "```"
   ]
  },
  {
   "cell_type": "code",
   "execution_count": null,
   "id": "7c74be41",
   "metadata": {
    "tags": [
     "hide-input"
    ]
   },
   "outputs": [],
   "source": [
    "!python docopt_example.py"
   ]
  },
  {
   "cell_type": "markdown",
   "id": "68dbc28e",
   "metadata": {},
   "source": [
    "[Link to docopt](http://docopt.org/)."
   ]
  }
 ],
 "metadata": {
  "jupytext": {
   "text_representation": {
    "extension": ".md",
    "format_name": "myst",
    "format_version": 0.13,
    "jupytext_version": "1.16.7"
   }
  },
  "kernelspec": {
   "display_name": "Python 3 (ipykernel)",
   "language": "python",
   "name": "python3"
  },
  "source_map": [
   12,
   16,
   20,
   24,
   28,
   32,
   38,
   43,
   49,
   56,
   61,
   65,
   76,
   80,
   84,
   86,
   90,
   94,
   98,
   102,
   105,
   114,
   120,
   129,
   133,
   137,
   141,
   147,
   151,
   170,
   178,
   182
  ]
 },
 "nbformat": 4,
 "nbformat_minor": 5
}