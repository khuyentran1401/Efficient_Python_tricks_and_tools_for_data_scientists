{
 "cells": [
  {
   "cell_type": "markdown",
   "id": "30133721",
   "metadata": {},
   "source": [
    "## Better Outputs"
   ]
  },
  {
   "cell_type": "markdown",
   "id": "a18110c0",
   "metadata": {},
   "source": [
    "### How to Strip Outputs and Execute Interactive Code in a Python Script"
   ]
  },
  {
   "cell_type": "code",
   "execution_count": null,
   "id": "17d9e6a2",
   "metadata": {
    "tags": [
     "hide-cell"
    ]
   },
   "outputs": [],
   "source": [
    "!pip install strip-interactive"
   ]
  },
  {
   "cell_type": "markdown",
   "id": "db56038e",
   "metadata": {},
   "source": [
    "Have you ever seen a tutorial with an interactive Python code and wished to execute it in a Python script like above?\n",
    "\n",
    "It might be time-consuming to delete all `>>>` symbols and remove all outputs, especially when the code is long. That is why I created strip-interactive."
   ]
  },
  {
   "cell_type": "code",
   "execution_count": null,
   "id": "bae29f33",
   "metadata": {},
   "outputs": [],
   "source": [
    "from strip_interactive import run_interactive\n",
    "\n",
    "code = \"\"\"\n",
    ">>> import numpy as np\n",
    ">>> print(np.array([1,2,3]))\n",
    "[1 2 3]\n",
    ">>> print(np.array([4,5,6]))\n",
    "[4 5 6]\n",
    "\"\"\"\n",
    "\n",
    "clean_code = run_interactive(code)"
   ]
  },
  {
   "cell_type": "markdown",
   "id": "63132764",
   "metadata": {},
   "source": [
    "[Link to the article about strip-interactive](https://towardsdatascience.com/how-to-strip-outputs-and-execute-interactive-code-in-a-python-script-6d4c5da3beb0?sk=1db3d887884ad2429b9c78e1c72a2a4d).\n",
    "\n",
    "[Link to strip-interactive](https://github.com/khuyentran1401/strip_interactive)."
   ]
  },
  {
   "cell_type": "markdown",
   "id": "78b36dab",
   "metadata": {},
   "source": [
    "### Pyfiglet: Make Large and Unique Letters Out of Ordinary Text in Python"
   ]
  },
  {
   "cell_type": "code",
   "execution_count": null,
   "id": "93d000c3",
   "metadata": {
    "tags": [
     "hide-cell"
    ]
   },
   "outputs": [],
   "source": [
    "!pip install pyfiglet"
   ]
  },
  {
   "cell_type": "markdown",
   "id": "60488751",
   "metadata": {},
   "source": [
    "If you want to make large and unique letters out of ordinary text using Python, try pyfiglet. Below are some outputs of pyfiglet:"
   ]
  },
  {
   "cell_type": "code",
   "execution_count": null,
   "id": "3175aa05",
   "metadata": {},
   "outputs": [],
   "source": [
    "import pyfiglet\n",
    "from termcolor import colored, cprint\n",
    "\n",
    "out = pyfiglet.figlet_format(\"Hello\")\n",
    "print(out)"
   ]
  },
  {
   "cell_type": "code",
   "execution_count": null,
   "id": "e9a3c1b7",
   "metadata": {},
   "outputs": [],
   "source": [
    "out = pyfiglet.figlet_format(\"Hello\", font='slant')\n",
    "print(out)"
   ]
  },
  {
   "cell_type": "code",
   "execution_count": null,
   "id": "cd98c4a3",
   "metadata": {},
   "outputs": [],
   "source": [
    "cprint(pyfiglet.figlet_format('Hello', font='bell'), 'blue')"
   ]
  },
  {
   "cell_type": "markdown",
   "id": "271cb9ad",
   "metadata": {},
   "source": [
    "This could be used as the welcome message for your Python package 🙂"
   ]
  },
  {
   "cell_type": "markdown",
   "id": "6a81f600",
   "metadata": {},
   "source": [
    "[Link to pyfiglet](https://github.com/pwaller/pyfiglet).\n",
    "\n",
    "[Link to termcolor](https://pypi.org/project/termcolor/)."
   ]
  },
  {
   "cell_type": "markdown",
   "id": "b256d203",
   "metadata": {},
   "source": [
    "### Python Fire: Generate a CLI for Any Python Objects in Two Lines of Code"
   ]
  },
  {
   "cell_type": "code",
   "execution_count": null,
   "id": "ee6e25e9",
   "metadata": {
    "tags": [
     "hide-cell"
    ]
   },
   "outputs": [],
   "source": [
    "!pip install fire"
   ]
  },
  {
   "cell_type": "markdown",
   "id": "bbb153f0",
   "metadata": {},
   "source": [
    "Have you ever wanted to adjust the values of Python objects from the command line, but found it inconvenient to do so?  With Python Fire, you can easily generate a command-line interface for any Python object in just two lines of code."
   ]
  },
  {
   "cell_type": "markdown",
   "id": "5083f223",
   "metadata": {},
   "source": [
    "To see how Python Fire works, let's look at an example. Start with creating file named `fire_example.py`:"
   ]
  },
  {
   "cell_type": "code",
   "execution_count": null,
   "id": "89ecfafc",
   "metadata": {},
   "outputs": [],
   "source": [
    "%%writefile fire_example.py\n",
    "import fire\n",
    "\n",
    "\n",
    "def get_mean(numbers: list):\n",
    "    return sum(numbers) / len(numbers)\n",
    "\n",
    "\n",
    "def get_modulo(num1: int, num2: int):\n",
    "    return num1 % num2\n",
    "\n",
    "\n",
    "if __name__ == \"__main__\":\n",
    "    fire.Fire()"
   ]
  },
  {
   "cell_type": "markdown",
   "id": "6f46fc86",
   "metadata": {},
   "source": [
    "Then run the following command on your terminal:\n",
    "\n",
    "```bash\n",
    "$ python fire_example.py get_mean \"[1, 2, 3]\"\n",
    "```"
   ]
  },
  {
   "cell_type": "code",
   "execution_count": null,
   "id": "7554a55e",
   "metadata": {
    "tags": [
     "remove-input"
    ]
   },
   "outputs": [],
   "source": [
    "!python fire_example.py get_mean \"[1, 2, 3]\""
   ]
  },
  {
   "cell_type": "markdown",
   "id": "19d82e9c",
   "metadata": {},
   "source": [
    "```bash\n",
    "$ python fire_example.py get_modulo --num1=3 --num2=2\n",
    "```"
   ]
  },
  {
   "cell_type": "code",
   "execution_count": null,
   "id": "19800cfe",
   "metadata": {
    "tags": [
     "remove-input"
    ]
   },
   "outputs": [],
   "source": [
    "!python fire_example.py get_modulo --num1=3 --num2=2"
   ]
  },
  {
   "cell_type": "markdown",
   "id": "561430f0",
   "metadata": {},
   "source": [
    "[Link to Python Fire](https://github.com/google/python-fire)."
   ]
  },
  {
   "cell_type": "markdown",
   "id": "0229867e",
   "metadata": {},
   "source": [
    "### Typer: Build a Command-Line Interface in a Few Lines of Code"
   ]
  },
  {
   "cell_type": "code",
   "execution_count": null,
   "id": "256aa9d1",
   "metadata": {
    "tags": [
     "hide-cell"
    ]
   },
   "outputs": [],
   "source": [
    "!pip install typer "
   ]
  },
  {
   "cell_type": "markdown",
   "id": "965087ce",
   "metadata": {},
   "source": [
    "While Python Fire is easy to use, it doesn't provide much flexibility in terms of customization. Typer offers tools for building CLI applications in Python with a more explicit syntax. Typer also uses type annotations to validate user input."
   ]
  },
  {
   "cell_type": "markdown",
   "id": "c5f7c295",
   "metadata": {},
   "source": [
    "To see how Typer works, let's look at an example. Start with creating file named `typer_example.py`:"
   ]
  },
  {
   "cell_type": "code",
   "execution_count": null,
   "id": "7f120ff4",
   "metadata": {},
   "outputs": [],
   "source": [
    "%%writefile typer_example.py\n",
    "import typer\n",
    "\n",
    "app = typer.Typer()\n",
    "\n",
    "@app.command()\n",
    "def add_numbers(x: float, y: float):\n",
    "    \"\"\"Adds two numbers and prints the result.\"\"\"\n",
    "    result = x + y\n",
    "    print(f\"The sum of {x} and {y} is {result}.\")\n",
    "\n",
    "if __name__ == \"__main__\":\n",
    "    app()"
   ]
  },
  {
   "cell_type": "markdown",
   "id": "68bfb1bd",
   "metadata": {},
   "source": [
    "Then run the following command on your terminal:\n",
    "```bash\n",
    "$ python typer_example.py hello world\n",
    "```\n",
    "And you should see an output like below:"
   ]
  },
  {
   "cell_type": "code",
   "execution_count": null,
   "id": "e8d62cdd",
   "metadata": {
    "tags": [
     "hide-input"
    ]
   },
   "outputs": [],
   "source": [
    "!python typer_example.py hello world"
   ]
  },
  {
   "cell_type": "markdown",
   "id": "d88e512f",
   "metadata": {},
   "source": [
    "You can see that when the input is not a valid float, Typer raised a `TypeError` with a helpful error message."
   ]
  },
  {
   "cell_type": "markdown",
   "id": "443cb60e",
   "metadata": {},
   "source": [
    "Providing the valid inputs will give the following output:\n",
    "```bash\n",
    "$ python typer_example.py 3 2\n",
    "```"
   ]
  },
  {
   "cell_type": "code",
   "execution_count": null,
   "id": "d5fe6b25",
   "metadata": {
    "tags": [
     "remove-input"
    ]
   },
   "outputs": [],
   "source": [
    "!python typer_example.py 3 2"
   ]
  },
  {
   "cell_type": "markdown",
   "id": "9e1143e5",
   "metadata": {},
   "source": [
    "[Link to Typer](https://typer.tiangolo.com/).\n",
    "\n",
    "[My full article about Typer](https://towardsdatascience.com/typer-build-powerful-clis-in-one-line-of-code-using-python-321d9aef3be8)."
   ]
  },
  {
   "cell_type": "markdown",
   "id": "8253acac",
   "metadata": {},
   "source": [
    "### Generate a Tree View with rich"
   ]
  },
  {
   "cell_type": "code",
   "execution_count": null,
   "id": "8b380814",
   "metadata": {
    "tags": [
     "hide-cell"
    ]
   },
   "outputs": [],
   "source": [
    "!pip install rich "
   ]
  },
  {
   "cell_type": "markdown",
   "id": "68a72ce5",
   "metadata": {},
   "source": [
    "If you want to generate a tree view of a specific structure such as files in a directory, use rich.tree. rich also allows you to add color to each branch using brackets."
   ]
  },
  {
   "cell_type": "code",
   "execution_count": null,
   "id": "0fa7e7af",
   "metadata": {},
   "outputs": [],
   "source": [
    "from rich.tree import Tree\n",
    "from rich import print\n",
    "\n",
    "tree = Tree(\"[cyan]My Project\")\n",
    "tree.add(\"[green]data\")\n",
    "tree.add(\"[blue]model\")\n",
    "src = tree.add(\"[red]src\")\n",
    "src.add(\"[red]process_data.py\")\n",
    "print(tree)"
   ]
  },
  {
   "cell_type": "markdown",
   "id": "68f77644",
   "metadata": {},
   "source": [
    "[Link to rich](https://github.com/Textualize/rich/tree/aa7926c1431eebfb2ccaab9f3b63a4ac6cd8dfe6)."
   ]
  },
  {
   "cell_type": "markdown",
   "id": "e15bbd8e",
   "metadata": {},
   "source": [
    "### latexify_py: Generates a LaTex Math Description From a Python Function"
   ]
  },
  {
   "cell_type": "code",
   "execution_count": null,
   "id": "0e3af840",
   "metadata": {
    "tags": [
     "hide-cell"
    ]
   },
   "outputs": [],
   "source": [
    "!pip install latexify-py"
   ]
  },
  {
   "cell_type": "markdown",
   "id": "84d5cb89",
   "metadata": {},
   "source": [
    "Have you ever wanted to add math description for your Python function but found it time-consuming to do so? latexify_py allows you to add LaTex math description with only one decorator."
   ]
  },
  {
   "cell_type": "code",
   "execution_count": null,
   "id": "e61082d7",
   "metadata": {},
   "outputs": [],
   "source": [
    "import math\n",
    "import latexify\n",
    "\n",
    "@latexify.with_latex\n",
    "def solve(a, b, c):\n",
    "    return (-b + math.sqrt(b**2 - 4*a*c)) / (2*a)\n",
    "\n",
    "solve"
   ]
  },
  {
   "cell_type": "code",
   "execution_count": null,
   "id": "0a3afb54",
   "metadata": {},
   "outputs": [],
   "source": [
    "@latexify.with_latex\n",
    "def sinc(x):\n",
    "    if x == 0:\n",
    "        return 1\n",
    "    else:\n",
    "        return math.sin(x) / x\n",
    "\n",
    "sinc"
   ]
  },
  {
   "cell_type": "markdown",
   "id": "c94a540c",
   "metadata": {},
   "source": [
    "[Link to latexify_py](https://github.com/google/latexify_py)."
   ]
  },
  {
   "cell_type": "markdown",
   "id": "f26f5f83",
   "metadata": {},
   "source": [
    "### From Python to Paper: Visualizing Calculations with Handcalcs"
   ]
  },
  {
   "cell_type": "code",
   "execution_count": null,
   "id": "80388f66",
   "metadata": {
    "tags": [
     "hide-cell"
    ]
   },
   "outputs": [],
   "source": [
    "!pip install handcalcs"
   ]
  },
  {
   "cell_type": "markdown",
   "id": "26c4deb9",
   "metadata": {},
   "source": [
    "Python calculations often lack transparency when only showing final results. \n",
    "\n",
    "Handcalcs addresses this by generating LaTeX output that mimics handwritten calculations. It displays symbolic formulas, numeric substitutions, and results, providing a clear step-by-step breakdown. \n",
    "\n",
    "This approach makes calculations more intuitive, readable, and easier to verify manually.\n",
    "\n",
    "Handcalcs can be used in two main ways:\n",
    "\n",
    "1. As a cell magic in Jupyter notebooks using `%%render`:"
   ]
  },
  {
   "cell_type": "code",
   "execution_count": null,
   "id": "70b0391c",
   "metadata": {},
   "outputs": [],
   "source": [
    "import handcalcs.render\n",
    "from handcalcs.decorator import handcalc"
   ]
  },
  {
   "cell_type": "code",
   "execution_count": null,
   "id": "c6505a7c",
   "metadata": {},
   "outputs": [],
   "source": [
    "%%render\n",
    "a = 2\n",
    "b = 3\n",
    "c = 2*a + b/3"
   ]
  },
  {
   "cell_type": "markdown",
   "id": "1397ad92",
   "metadata": {},
   "source": [
    "2. As a decorator for functions:"
   ]
  },
  {
   "cell_type": "code",
   "execution_count": null,
   "id": "620f47ff",
   "metadata": {},
   "outputs": [],
   "source": [
    "from math import sqrt\n",
    "\n",
    "@handcalc(jupyter_display=True)\n",
    "def my_calc(x: float, y: float, z: float):\n",
    "    a = 2*x\n",
    "    b = 3*a/z + sqrt(a+y/2)\n",
    "    c = a + b\n",
    "    return c"
   ]
  },
  {
   "cell_type": "code",
   "execution_count": null,
   "id": "18df3c8d",
   "metadata": {},
   "outputs": [],
   "source": [
    "result = my_calc(2.3, 3.2, 1.2)"
   ]
  },
  {
   "cell_type": "code",
   "execution_count": null,
   "id": "d430f10a",
   "metadata": {},
   "outputs": [],
   "source": [
    "result"
   ]
  },
  {
   "cell_type": "markdown",
   "id": "8df43254",
   "metadata": {},
   "source": [
    "[Link to handcalcs](https://github.com/connorferster/handcalcs)."
   ]
  },
  {
   "cell_type": "markdown",
   "id": "f3182b71",
   "metadata": {},
   "source": [
    "### Great Tables: Create Scientific-Looking Tables in Python"
   ]
  },
  {
   "cell_type": "code",
   "execution_count": null,
   "id": "fb36ba89",
   "metadata": {
    "tags": [
     "hide-cell"
    ]
   },
   "outputs": [],
   "source": [
    "!pip install great_tables "
   ]
  },
  {
   "cell_type": "markdown",
   "id": "ed5f2189",
   "metadata": {},
   "source": [
    "If you want to create visually appealing and scientific-looking tables in Python, use Great Tables. With Great Tables, you can customize your table by mixing and matching various elements such as headers, footers, and cell value formats."
   ]
  },
  {
   "cell_type": "code",
   "execution_count": null,
   "id": "8676d6c3",
   "metadata": {},
   "outputs": [],
   "source": [
    "from great_tables import GT, md\n",
    "from great_tables.data import islands\n",
    "\n",
    "islands_mini = islands.head(10).sort_values(by=\"size\", ascending=False) # pandas DataFrame\n",
    "\n",
    "(\n",
    "    GT(islands_mini, rowname_col=\"name\")\n",
    "    .tab_header(\n",
    "        title=\"Large Landmasses of the World\",\n",
    "        subtitle=\"The top ten largest are presented\",\n",
    "    )\n",
    "    .tab_source_note(\n",
    "        source_note=\"Source: The World Almanac and Book of Facts, 1975, page 406.\"\n",
    "    )\n",
    "    .tab_source_note(\n",
    "        source_note=md(\n",
    "            \"Reference: McNeil, D. R. (1977) *Interactive Data Analysis*. Wiley.\"\n",
    "        )\n",
    "    )\n",
    "    .tab_stubhead(label=\"landmass\")\n",
    "    .fmt_number(columns=\"size\", sep_mark=\",\", decimals=0)\n",
    ")"
   ]
  },
  {
   "cell_type": "markdown",
   "id": "3a16bc34",
   "metadata": {},
   "source": [
    "[Link to Great Tables](https://bit.ly/3U58fvP)."
   ]
  },
  {
   "cell_type": "markdown",
   "id": "c25ca017",
   "metadata": {},
   "source": [
    "### Camelot: PDF Table Extraction for Humans"
   ]
  },
  {
   "cell_type": "code",
   "execution_count": null,
   "id": "beebcb22",
   "metadata": {
    "tags": [
     "hide-cell"
    ]
   },
   "outputs": [],
   "source": [
    "!pip install \"camelot-py[base]\" \"opencv-python\" \"pypdf2<3\""
   ]
  },
  {
   "cell_type": "markdown",
   "id": "5de84200",
   "metadata": {},
   "source": [
    "With Camelot, you can extract tables from PDFs using Python and convert the data into a more structured format, such as a pandas DataFrame or a CSV file for efficient analysis, manipulation, and integration."
   ]
  },
  {
   "cell_type": "markdown",
   "id": "768a6194",
   "metadata": {},
   "source": [
    "To see how Camelot works, start by reading the PDF file named 'foo.pdf' and extracts all the tables present in the file."
   ]
  },
  {
   "cell_type": "code",
   "execution_count": null,
   "id": "b854ee98",
   "metadata": {},
   "outputs": [],
   "source": [
    "import camelot\n",
    "tables = camelot.read_pdf('foo.pdf')\n",
    "tables"
   ]
  },
  {
   "cell_type": "markdown",
   "id": "8d12a24c",
   "metadata": {},
   "source": [
    "The output shows that there is one table extracted from the PDF file."
   ]
  },
  {
   "cell_type": "markdown",
   "id": "18f22ce2",
   "metadata": {},
   "source": [
    "Export the extracted tables to a CSV file named 'foo.csv'. Camelot also supports exporting tables to other formats like JSON, Excel, HTML, Markdown, and SQLite databases."
   ]
  },
  {
   "cell_type": "code",
   "execution_count": null,
   "id": "d8bb67c2",
   "metadata": {},
   "outputs": [],
   "source": [
    "tables[0].parsing_report\n",
    "{\n",
    "    'accuracy': 99.02,\n",
    "    'whitespace': 12.24,\n",
    "    'order': 1,\n",
    "    'page': 1\n",
    "}\n",
    "tables[0].to_csv('foo.csv') # to_json, to_excel, to_html, to_markdown, to_sqlite\n",
    "tables[0].df # get a pandas DataFrame!"
   ]
  },
  {
   "cell_type": "markdown",
   "id": "5199a6ae",
   "metadata": {},
   "source": [
    "[Link to Camelot](https://bit.ly/3xPBw6L)."
   ]
  },
  {
   "cell_type": "code",
   "execution_count": null,
   "id": "91881935",
   "metadata": {},
   "outputs": [],
   "source": [
    "!pip install pdf2image transformers txtmarker"
   ]
  },
  {
   "cell_type": "code",
   "execution_count": null,
   "id": "04706c5a",
   "metadata": {},
   "outputs": [],
   "source": [
    "# Install pdf2image - embeds pdf as image in notebook\n",
    "# !apt-get update\n",
    "# !apt-get install poppler-utils\n",
    "!brew install poppler"
   ]
  },
  {
   "cell_type": "markdown",
   "id": "a3c08b19",
   "metadata": {},
   "source": [
    "To highlight text in PDFs using Python, use txtmarker. Here is an example of how to use it:"
   ]
  },
  {
   "cell_type": "code",
   "execution_count": null,
   "id": "506f0f47",
   "metadata": {},
   "outputs": [],
   "source": [
    "from txtmarker.factory import Factory\n",
    "from pdf2image import convert_from_path\n",
    "from IPython.display import display\n",
    "\n",
    "highlighter = Factory.create(\"pdf\")\n",
    "highlighter.highlight(\n",
    "    \"The Fascinating World of Penguins.pdf\",\n",
    "    \"output.pdf\",\n",
    "    [(\"Walking challenge\", \"Penguins have to deal with flippers instead of feet\")],\n",
    ")\n",
    "\n",
    "images = convert_from_path(\"output.pdf\", size=(800, None), single_file=True)\n",
    "display(images[0])"
   ]
  },
  {
   "cell_type": "markdown",
   "id": "7447e7e0",
   "metadata": {},
   "source": [
    "This code highlights the text \"Penguins have to deal with flippers instead of feet\" in the PDF file \"The Fascinating World of Penguins.pdf\" and save the output to a new PDF file called \"output.pdf\"."
   ]
  },
  {
   "cell_type": "markdown",
   "id": "6b1376c1",
   "metadata": {},
   "source": [
    "But what if you want to highlight text in a PDF based on a question? You can use extractive QA to achieve this. Here is an example of how to use it:"
   ]
  },
  {
   "cell_type": "code",
   "execution_count": null,
   "id": "44970811",
   "metadata": {},
   "outputs": [],
   "source": [
    "import re\n",
    "\n",
    "from pdf2image import convert_from_path\n",
    "from pdfminer.high_level import extract_text\n",
    "from transformers import pipeline\n",
    "\n",
    "from IPython.display import display\n",
    "\n",
    "from txtmarker.factory import Factory\n",
    "\n",
    "# Create pipeline\n",
    "nlp = pipeline(\"question-answering\")\n",
    "\n",
    "# Create highlighter\n",
    "highlighter = Factory.create(\"pdf\")\n",
    "\n",
    "# Extracts text from pdf\n",
    "def extract(path):\n",
    "  text = extract_text(path)\n",
    "\n",
    "  # Clean data\n",
    "  text = re.sub(r\"\\n+\", \" \", text)\n",
    "  return re.sub(r\"[^\\x20-\\x7F]+\", \"\", text)\n",
    "\n",
    "# Renders first page of pdf file as image\n",
    "def highlight(path, highlights):\n",
    "  # Get PDF text\n",
    "  context = extract(path)\n",
    "\n",
    "  # Run extractive qa\n",
    "  highlights = [(name, qa(context, question)) for name, question in highlights]\n",
    "\n",
    "  # Create annotated file\n",
    "  highlighter.highlight(path, \"out.pdf\", highlights)\n",
    "\n",
    "  # Render pdf as image\n",
    "  images = convert_from_path(\"out.pdf\", size=(800, None), single_file=True)\n",
    "  display(images[0])\n",
    "\n",
    "# Runs extractive qa\n",
    "def qa(context, question):\n",
    "  return nlp(context=context, question=question)[\"answer\"]"
   ]
  },
  {
   "cell_type": "code",
   "execution_count": null,
   "id": "b03b6bcb",
   "metadata": {},
   "outputs": [],
   "source": [
    "highlight(\"The Fascinating World of Penguins.pdf\", [\n",
    "  (\"Walking problem\", \"What is the main challenge penguins face when trying to walk?\"),\n",
    "  (\"Known for\", \"What is penguin known for?\"),\n",
    "  (\"Flying problem\", \"What is the main challenge penguins face when trying to fly?\"),\n",
    "])"
   ]
  },
  {
   "cell_type": "markdown",
   "id": "9d7e3a82",
   "metadata": {},
   "source": [
    "This code highlights the answers to the questions in the PDF file \"The Fascinating World of Penguins.pdf\" and display the output as an image."
   ]
  },
  {
   "cell_type": "markdown",
   "id": "89dd57d4",
   "metadata": {},
   "source": [
    "[Link to txtmarker](https://github.com/neuml/txtmarker)."
   ]
  },
  {
   "cell_type": "markdown",
   "id": "e26fe837",
   "metadata": {},
   "source": [
    "### Comparing Python Command Line Interface Tools: Argparse, Click, and Typer"
   ]
  },
  {
   "cell_type": "code",
   "execution_count": null,
   "id": "da7fd851",
   "metadata": {
    "tags": [
     "remove-cell"
    ]
   },
   "outputs": [],
   "source": [
    "%mkdir command_line_tools\n",
    "%cd command_line_tools"
   ]
  },
  {
   "cell_type": "markdown",
   "id": "79a11d59",
   "metadata": {},
   "source": [
    "Python has several tools for creating CLIs, each with its own approach and syntax. Three popular choices for parsing command-line arguments and options are argparse, click, and typer.\n",
    "\n",
    "- **argparse**: Requires manual argument parsing setup with verbose syntax.\n",
    "- **click**: Offers a more concise and declarative way to define commands with decorators.\n",
    "- **typer**: Utilizes Python type hints to create a clean and modern CLI interface with minimal boilerplate.\n",
    "\n",
    "Here's a comparison of how to create a simple CLI application with a single command that accepts a string argument using argparse, click, and typer."
   ]
  },
  {
   "cell_type": "markdown",
   "id": "94644930",
   "metadata": {},
   "source": [
    "argparse:"
   ]
  },
  {
   "cell_type": "code",
   "execution_count": null,
   "id": "2f7d11d6",
   "metadata": {},
   "outputs": [],
   "source": [
    "%%writefile argparse_example.py\n",
    "import argparse\n",
    "\n",
    "def main(message):\n",
    "    print(f\"Message: {message}\")\n",
    "\n",
    "if __name__ == \"__main__\":\n",
    "    parser = argparse.ArgumentParser(description=\"A simple CLI with argparse\")\n",
    "    parser.add_argument(\"message\", type=str, help=\"The message to print\")\n",
    "    args = parser.parse_args()\n",
    "    main(args.message)"
   ]
  },
  {
   "cell_type": "markdown",
   "id": "4bdd98f9",
   "metadata": {},
   "source": [
    "```bash\n",
    "python argparse_example.py \"Hello, World!\"\n",
    "```"
   ]
  },
  {
   "cell_type": "code",
   "execution_count": null,
   "id": "216b7aa2",
   "metadata": {
    "tags": [
     "remove-input"
    ]
   },
   "outputs": [],
   "source": [
    "!python argparse_example.py \"Hello, World!\""
   ]
  },
  {
   "cell_type": "markdown",
   "id": "a873ca3e",
   "metadata": {},
   "source": [
    "click:"
   ]
  },
  {
   "cell_type": "code",
   "execution_count": null,
   "id": "9f8646e0",
   "metadata": {},
   "outputs": [],
   "source": [
    "%%writefile click_example.py\n",
    "import click\n",
    "\n",
    "@click.command()\n",
    "@click.argument(\"message\")\n",
    "def main(message):\n",
    "    print(f\"Message: {message}\")\n",
    "\n",
    "if __name__ == \"__main__\":\n",
    "    main()"
   ]
  },
  {
   "cell_type": "markdown",
   "id": "8cf64582",
   "metadata": {},
   "source": [
    "```bash\n",
    "python click_example.py \"Hello, World!\"\n",
    "```"
   ]
  },
  {
   "cell_type": "code",
   "execution_count": null,
   "id": "ed5c5318",
   "metadata": {
    "tags": [
     "remove-input"
    ]
   },
   "outputs": [],
   "source": [
    "!python click_example.py \"Hello, World!\""
   ]
  },
  {
   "cell_type": "markdown",
   "id": "57e04854",
   "metadata": {},
   "source": [
    "typer:"
   ]
  },
  {
   "cell_type": "code",
   "execution_count": null,
   "id": "98137044",
   "metadata": {},
   "outputs": [],
   "source": [
    "%%writefile typer_example.py\n",
    "import typer\n",
    "\n",
    "def main(message: str):\n",
    "    print(f\"Message: {message}\")\n",
    "\n",
    "if __name__ == \"__main__\":\n",
    "    typer.run(main)"
   ]
  },
  {
   "cell_type": "markdown",
   "id": "270900ab",
   "metadata": {},
   "source": [
    "```bash\n",
    "python typer_example.py \"Hello, World!\"\n",
    "```"
   ]
  },
  {
   "cell_type": "code",
   "execution_count": null,
   "id": "99405fd5",
   "metadata": {
    "tags": [
     "remove-input"
    ]
   },
   "outputs": [],
   "source": [
    "!python typer_example.py \"Hello, World!\""
   ]
  },
  {
   "cell_type": "code",
   "execution_count": null,
   "id": "e421eba9",
   "metadata": {
    "editable": true,
    "slideshow": {
     "slide_type": ""
    }
   },
   "outputs": [],
   "source": [
    "!pip install snoop"
   ]
  },
  {
   "cell_type": "code",
   "execution_count": null,
   "id": "f710dbeb",
   "metadata": {},
   "outputs": [],
   "source": [
    "%load_ext snoop"
   ]
  },
  {
   "cell_type": "code",
   "execution_count": null,
   "id": "651867b8",
   "metadata": {},
   "outputs": [],
   "source": [
    "%%snoop\n",
    "import snoop\n",
    "\n",
    "\n",
    "@snoop\n",
    "def factorial(x: int):\n",
    "    if x == 1:\n",
    "        return 1\n",
    "    else:\n",
    "        return x * factorial(x - 1)\n",
    "\n",
    "\n",
    "if __name__ == \"__main__\":\n",
    "    num = 2\n",
    "    print(f\"The factorial of {num} is {factorial(num)}\")"
   ]
  },
  {
   "cell_type": "markdown",
   "id": "f232c581",
   "metadata": {},
   "source": [
    "### Dynamic Report Generation with Jinja Templates"
   ]
  },
  {
   "cell_type": "markdown",
   "id": "01a36761",
   "metadata": {},
   "source": [
    "F-strings are convenient for simple string interpolation, but they are tightly coupled with the surrounding Python code. They are typically used for a single, specific task."
   ]
  },
  {
   "cell_type": "code",
   "execution_count": null,
   "id": "0cc00015",
   "metadata": {},
   "outputs": [],
   "source": [
    "metrics = {\n",
    "    'accuracy': 0.95,\n",
    "    'precision': 0.88,\n",
    "    'recall': 0.92,\n",
    "    'f1_score': 0.89,\n",
    "    'auc_roc': 0.93,\n",
    "    'specificity': 0.87\n",
    "}\n",
    "\n",
    "metrics_str = \"\"\n",
    "for metric, value in metrics.items():\n",
    "    if value > 0.9:\n",
    "        metrics_str += f\"{metric}: {value:.3f} (Excellent)\\n\"\n",
    "    else:\n",
    "        metrics_str += f\"{metric}: {value:.3f} (Needs Improvement)\\n\"\n",
    "\n",
    "print(metrics_str)"
   ]
  },
  {
   "cell_type": "markdown",
   "id": "69f04658",
   "metadata": {},
   "source": [
    "Jinja's templating engine is more versatile and powerful. It allows you to define templates with placeholders for dynamic data and supports conditionals, loops, and reuse across multiple contexts.\n",
    "\n",
    "Use Jinja to perform complex templating tasks or generate dynamic reports."
   ]
  },
  {
   "cell_type": "code",
   "execution_count": null,
   "id": "d1ff43a8",
   "metadata": {},
   "outputs": [],
   "source": [
    "# Jinja template version\n",
    "from jinja2 import Template\n",
    "template = Template(\"\"\"\n",
    "{% for metric, value in metrics.items() %}\n",
    "    {% if value > 0.9 %}\n",
    "    {{ metric }}: {{ value | round(3) }} (Excellent)\n",
    "    {% else %}\n",
    "    {{ metric }}: {{ value | round(3) }} (Needs Improvement)\n",
    "    {% endif %}\n",
    "{% endfor %}\n",
    "\"\"\")\n",
    "\n",
    "result = template.render(metrics=metrics)\n",
    "print(result)"
   ]
  },
  {
   "cell_type": "markdown",
   "id": "c856024e",
   "metadata": {},
   "source": [
    "[Link to Jinja](https://github.com/pallets/jinja)"
   ]
  }
 ],
 "metadata": {
  "jupytext": {
   "text_representation": {
    "extension": ".md",
    "format_name": "myst",
    "format_version": 0.13,
    "jupytext_version": "1.16.7"
   }
  },
  "kernelspec": {
   "display_name": "Python 3 (ipykernel)",
   "language": "python",
   "name": "python3"
  },
  "source_map": [
   12,
   16,
   20,
   24,
   30,
   42,
   48,
   52,
   56,
   60,
   68,
   73,
   75,
   79,
   85,
   89,
   93,
   97,
   101,
   116,
   124,
   128,
   134,
   138,
   142,
   146,
   150,
   154,
   158,
   172,
   180,
   184,
   188,
   195,
   199,
   205,
   209,
   213,
   217,
   227,
   231,
   235,
   239,
   243,
   254,
   263,
   267,
   271,
   275,
   287,
   292,
   297,
   301,
   312,
   316,
   318,
   322,
   326,
   330,
   334,
   357,
   361,
   365,
   369,
   373,
   377,
   381,
   385,
   389,
   399,
   403,
   407,
   412,
   417,
   431,
   436,
   440,
   485,
   491,
   495,
   499,
   503,
   508,
   518,
   522,
   534,
   540,
   544,
   548,
   559,
   565,
   569,
   573,
   582,
   588,
   594,
   603,
   607,
   623,
   627,
   632,
   650,
   656,
   671
  ]
 },
 "nbformat": 4,
 "nbformat_minor": 5
}