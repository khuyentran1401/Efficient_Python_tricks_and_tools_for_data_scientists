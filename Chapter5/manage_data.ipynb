{
 "cells": [
  {
   "cell_type": "markdown",
   "id": "7e92f4d8",
   "metadata": {},
   "source": [
    "# Manage Data"
   ]
  },
  {
   "cell_type": "markdown",
   "id": "133a2ecc",
   "metadata": {},
   "source": [
    "This section covers some tools to work with your data. "
   ]
  },
  {
   "cell_type": "markdown",
   "id": "1a53c35b",
   "metadata": {},
   "source": [
    "## DVC: A Data Version Control Tool for Your Data Science Projects"
   ]
  },
  {
   "cell_type": "code",
   "execution_count": null,
   "id": "5d7f1880",
   "metadata": {
    "tags": [
     "hide-cell"
    ]
   },
   "outputs": [],
   "source": [
    "!pip install dvc"
   ]
  },
  {
   "cell_type": "markdown",
   "id": "fa32f45b",
   "metadata": {},
   "source": [
    "While Git excels at versioning code, managing data versions can be tricky. DVC (Data Version Control) bridges this gap by allowing you to track data changes alongside your code, while keeping the actual data separate. It's like Git for data.\n",
    "\n",
    "Here’s a quick start guide for DVC:"
   ]
  },
  {
   "cell_type": "markdown",
   "id": "27115bbc",
   "metadata": {},
   "source": [
    "```bash\n",
    "# Initialize\n",
    "$ dvc init\n",
    "\n",
    "# Track data directory\n",
    "$ dvc add data # Create data.dvc\n",
    "$ git add data.dvc\n",
    "$ git commit -m \"add data\"\n",
    "\n",
    "# Store the data remotely\n",
    "$ dvc remote add -d remote gdrive://lynNBbT-4J0ida0eKYQqZZbC93juUUUbVH\n",
    "\n",
    "## Push the data to remote storage\n",
    "$ dvc push \n",
    "\n",
    "## Get the data\n",
    "$ dvc pull \n",
    "\n",
    "## Switch between different version\n",
    "$ git checkout HEAD^1 data.dvc\n",
    "$ dvc checkout\n",
    "```"
   ]
  },
  {
   "cell_type": "markdown",
   "id": "b81b3b5f",
   "metadata": {},
   "source": [
    "[Link to DVC](https://dvc.org/)"
   ]
  },
  {
   "cell_type": "markdown",
   "id": "63d4528f",
   "metadata": {},
   "source": [
    "## sweetviz: Compare the similar features between 2 different datasets"
   ]
  },
  {
   "cell_type": "code",
   "execution_count": null,
   "id": "f7f0b9ba",
   "metadata": {
    "tags": [
     "hide-cell"
    ]
   },
   "outputs": [],
   "source": [
    "!pip install sweetviz "
   ]
  },
  {
   "cell_type": "markdown",
   "id": "97010aaf",
   "metadata": {},
   "source": [
    "When comparing datasets, such as training and testing sets, sweetviz helps visualize similarities and differences with ease.\n",
    "\n",
    "Here’s how to use it:"
   ]
  },
  {
   "cell_type": "code",
   "execution_count": null,
   "id": "59b0ef71",
   "metadata": {},
   "outputs": [],
   "source": [
    "from sklearn.datasets import load_iris\n",
    "from sklearn.model_selection import train_test_split\n",
    "import sweetviz as sv\n",
    "\n",
    "X, y = load_iris(return_X_y=True, as_frame=True)\n",
    "X_train, X_test, y_train, y_test = train_test_split(X, y)\n",
    "\n",
    "report = sv.compare([X_train, \"train data\"], [X_test, \"test data\"])\n",
    "report.show_html()"
   ]
  },
  {
   "cell_type": "markdown",
   "id": "6398cb2d",
   "metadata": {},
   "source": [
    "![image](../img/sweetviz_output.png)"
   ]
  },
  {
   "cell_type": "markdown",
   "id": "5af9b625",
   "metadata": {},
   "source": [
    "[Link to sweetviz](https://github.com/fbdesignpro/sweetviz)"
   ]
  },
  {
   "cell_type": "markdown",
   "id": "06ea3663",
   "metadata": {},
   "source": [
    "## quadratic: Data Science Speadsheet with Python and SQL\n",
    "\n",
    "If you want to use Python or SQL in an Excel sheet, use quadratic."
   ]
  },
  {
   "cell_type": "markdown",
   "id": "4ac83ddb",
   "metadata": {},
   "source": [
    "[Link to quadratic](https://github.com/quadratichq/quadratic).\n"
   ]
  },
  {
   "cell_type": "markdown",
   "id": "8fcc2c13",
   "metadata": {},
   "source": [
    "## whylogs: Data Logging Made Easy"
   ]
  },
  {
   "cell_type": "code",
   "execution_count": null,
   "id": "356206ea",
   "metadata": {
    "tags": [
     "hide-cell"
    ]
   },
   "outputs": [],
   "source": [
    "!pip install whylogs"
   ]
  },
  {
   "cell_type": "markdown",
   "id": "e895ed0e",
   "metadata": {},
   "source": [
    "Keeping track of dataset statistics is crucial for data quality and monitoring. whylogs makes logging dataset summaries straightforward.\n",
    "\n",
    "Example usage:"
   ]
  },
  {
   "cell_type": "code",
   "execution_count": null,
   "id": "7c3549c3",
   "metadata": {},
   "outputs": [],
   "source": [
    "import pandas as pd\n",
    "import whylogs as why\n",
    "\n",
    "data = {\n",
    "    \"Fruit\": [\"Apple\", \"Banana\", \"Orange\"],\n",
    "    \"Color\": [\"Red\", \"Yellow\", \"Orange\",],\n",
    "    \"Quantity\": [5, 8, 3],\n",
    "}\n",
    "\n",
    "df = pd.DataFrame(data)\n",
    "\n",
    "## Log the DataFrame using whylogs and create a profile\n",
    "profile = why.log(df).profile()\n",
    "\n",
    "## View the profile and convert it to a pandas DataFrame\n",
    "prof_view = profile.view()\n",
    "prof_df = prof_view.to_pandas()\n",
    "prof_df"
   ]
  },
  {
   "cell_type": "code",
   "execution_count": null,
   "id": "63f802ef",
   "metadata": {},
   "outputs": [],
   "source": [
    "prof_df.iloc[:, :5]"
   ]
  },
  {
   "cell_type": "code",
   "execution_count": null,
   "id": "3326fea7",
   "metadata": {},
   "outputs": [],
   "source": [
    "prof_df.columns"
   ]
  },
  {
   "cell_type": "markdown",
   "id": "70670b98",
   "metadata": {},
   "source": [
    "[Link to whylogs](https://github.com/whylabs/whylogs)."
   ]
  },
  {
   "cell_type": "markdown",
   "id": "f5ea606b",
   "metadata": {},
   "source": [
    "## Fluke: The Easiest Way to Move Data Around"
   ]
  },
  {
   "cell_type": "markdown",
   "id": "99021213",
   "metadata": {},
   "source": [
    "Transferring data between locations—such as from a remote server to cloud storage—can be cumbersome, especially with Python libraries that involve complex HTTP/SSH connections and directory handling. \n",
    "\n",
    "Fluke simplifies this process with a user-friendly API, making it easy to manage remote data transfers with just a few lines of code.\n",
    "\n",
    "Example usage:\n"
   ]
  },
  {
   "cell_type": "markdown",
   "id": "0cb07069",
   "metadata": {},
   "source": [
    "```python\n",
    "from fluke.auth import RemoteAuth, AWSAuth\n",
    "\n",
    "## This object will be used to authenticate\n",
    "# with the remote machine.\n",
    "rmt_auth = RemoteAuth.from_password(\n",
    "    hostname=\"host\",\n",
    "    username=\"user\",\n",
    "    password=\"password\")\n",
    "\n",
    "## This object will be used to authenticate\n",
    "# with AWS.\n",
    "aws_auth = AWSAuth(\n",
    "    aws_access_key_id=\"aws_access_key\",\n",
    "    aws_secret_access_key=\"aws_secret_key\")\n",
    "```"
   ]
  },
  {
   "cell_type": "markdown",
   "id": "0c626f54",
   "metadata": {},
   "source": [
    "```python\n",
    "from fluke.storage import RemoteDir, AWSS3Dir\n",
    "\n",
    "with (\n",
    "    RemoteDir(auth=rmt_auth, path='/home/user/dir') as rmt_dir,\n",
    "    AWSS3Dir(auth=aws_auth, bucket=\"bucket\", path='dir', create_if_missing=True) as aws_dir\n",
    "):\n",
    "    rmt_dir.transfer_to(dst=aws_dir, recursively=True)\n",
    "```"
   ]
  },
  {
   "cell_type": "markdown",
   "id": "1f39e370",
   "metadata": {},
   "source": [
    "[Link to Fluke](https://github.com/manoss96/fluke)."
   ]
  },
  {
   "cell_type": "markdown",
   "id": "b592fc91",
   "metadata": {},
   "source": [
    "## safetensors: A Simple and Safe Way to Store and Distribute Tensors"
   ]
  },
  {
   "cell_type": "code",
   "execution_count": null,
   "id": "dece00b6",
   "metadata": {
    "tags": [
     "hide-cell"
    ]
   },
   "outputs": [],
   "source": [
    "!pip install torch safetensors"
   ]
  },
  {
   "cell_type": "markdown",
   "id": "5f6fab67",
   "metadata": {},
   "source": [
    "PyTorch defaults to using Pickle for tensor storage, which poses security risks as malicious pickle files can execute arbitrary code upon unpickling. In contrast, safetensors specialize in securely storing tensors, guaranteeing data integrity during storage and retrieval. \n",
    "\n",
    "safetensors also uses zero-copy operations, eliminating the need to copy data into new memory locations, thereby enabling fast and efficient data handling."
   ]
  },
  {
   "cell_type": "code",
   "execution_count": null,
   "id": "4c07cbdd",
   "metadata": {
    "editable": true,
    "slideshow": {
     "slide_type": ""
    }
   },
   "outputs": [],
   "source": [
    "import torch\n",
    "from safetensors import safe_open\n",
    "from safetensors.torch import save_file\n",
    "\n",
    "tensors = {\n",
    "   \"weight1\": torch.zeros((1024, 1024)),\n",
    "   \"weight2\": torch.zeros((1024, 1024))\n",
    "}\n",
    "save_file(tensors, \"model.safetensors\")\n",
    "\n",
    "tensors = {}\n",
    "with safe_open(\"model.safetensors\", framework=\"pt\", device=\"cpu\") as f:\n",
    "   for key in f.keys():\n",
    "       tensors[key] = f.get_tensor(key)"
   ]
  },
  {
   "cell_type": "markdown",
   "id": "69297948",
   "metadata": {},
   "source": [
    "[Link to safetensors](https://bit.ly/3vqzbhl)."
   ]
  },
  {
   "cell_type": "markdown",
   "id": "12ffd381",
   "metadata": {},
   "source": [
    "## datacompy: Smart Data Comparison Made Simple"
   ]
  },
  {
   "cell_type": "code",
   "execution_count": null,
   "id": "1e7438d6",
   "metadata": {
    "editable": true,
    "slideshow": {
     "slide_type": ""
    },
    "tags": [
     "hide-cell"
    ]
   },
   "outputs": [],
   "source": [
    "!pip install datacompy"
   ]
  },
  {
   "cell_type": "markdown",
   "id": "845b84ed",
   "metadata": {},
   "source": [
    "Data analysts and data engineers often struggle with comparing two datasets. This results in writing complex code to compare values, identify mismatches, and generate comparison reports."
   ]
  },
  {
   "cell_type": "code",
   "execution_count": null,
   "id": "4a5fbd7b",
   "metadata": {},
   "outputs": [],
   "source": [
    "from io import StringIO\n",
    "import pandas as pd\n",
    "\n",
    "data1 = \"\"\"acct_id,dollar_amt,name,float_fld,date_fld\n",
    "10000001234,123.45,George Maharis,14530.1555,2017-01-01\n",
    "10000001235,0.45,Michael Bluth,1,2017-01-01\n",
    "10000001236,1345,George Bluth,,2017-01-01\n",
    "10000001237,123456,Bob Loblaw,345.12,2017-01-01\n",
    "10000001238,1.05,Lucille Bluth,,2017-01-01\n",
    "10000001238,1.05,Loose Seal Bluth,,2017-01-01\n",
    "\"\"\"\n",
    "\n",
    "df1 = pd.read_csv(StringIO(data1))\n",
    "df1"
   ]
  },
  {
   "cell_type": "code",
   "execution_count": null,
   "id": "8292c547",
   "metadata": {},
   "outputs": [],
   "source": [
    "data2 = \"\"\"acct_id,dollar_amt,name,float_fld\n",
    "10000001234,123.4,George Michael Bluth,14530.155\n",
    "10000001235,0.45,Michael Bluth,\n",
    "10000001236,1345,George Bluth,1\n",
    "10000001237,123456,Robert Loblaw,345.12\n",
    "10000001238,1.05,Loose Seal Bluth,111\n",
    "\"\"\"\n",
    "\n",
    "df2 = pd.read_csv(StringIO(data2))\n",
    "df2"
   ]
  },
  {
   "cell_type": "code",
   "execution_count": null,
   "id": "9f7ae8c7",
   "metadata": {},
   "outputs": [],
   "source": [
    "## Check if shapes match\n",
    "shape_match = df1.shape == df2.shape\n",
    "\n",
    "## Compare values\n",
    "merged = df1.merge(df2, on=['acct_id', 'name'], how='outer', suffixes=('_1', '_2'))\n",
    "mismatches = merged[merged['dollar_amt_1'] != merged['dollar_amt_2']]\n",
    "missing = merged[merged['dollar_amt_1'].isna() | merged['dollar_amt_2'].isna()]\n",
    "\n",
    "## Manual reporting\n",
    "print(f\"Shapes match: {shape_match}\")\n",
    "print(\"\\nMismatches:\")\n",
    "print(mismatches)\n",
    "print(\"\\nMissing records:\")\n",
    "print(missing)"
   ]
  },
  {
   "cell_type": "markdown",
   "id": "b44318c0",
   "metadata": {},
   "source": [
    "With datacompy, you can easily compare datasets and get detailed reports about differences, including matching percentage, column-level comparison, and sample mismatches. You can use it with various data frameworks like Pandas, Spark, Polars, and Snowflake."
   ]
  },
  {
   "cell_type": "code",
   "execution_count": null,
   "id": "1552e574",
   "metadata": {},
   "outputs": [],
   "source": [
    "import datacompy\n",
    "\n",
    "compare = datacompy.Compare(df1, df2, join_columns=['acct_id', 'name'])"
   ]
  },
  {
   "cell_type": "code",
   "execution_count": null,
   "id": "5ea100e2",
   "metadata": {},
   "outputs": [],
   "source": [
    "print(compare.report())"
   ]
  },
  {
   "cell_type": "markdown",
   "id": "053a1e4f",
   "metadata": {},
   "source": [
    "[Link to datacompy](https://github.com/capitalone/datacompy)."
   ]
  }
 ],
 "metadata": {
  "jupytext": {
   "formats": "ipynb,Rmd"
  },
  "kernelspec": {
   "display_name": "Python 3 (ipykernel)",
   "language": "python",
   "name": "python3"
  }
 },
 "nbformat": 4,
 "nbformat_minor": 5
}
