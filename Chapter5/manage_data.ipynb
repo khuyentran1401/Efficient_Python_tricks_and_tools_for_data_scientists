{
 "cells": [
  {
   "cell_type": "markdown",
   "id": "cbc22c85",
   "metadata": {},
   "source": [
    "## Manage Data"
   ]
  },
  {
   "cell_type": "markdown",
   "id": "b53e056d",
   "metadata": {},
   "source": [
    "This section covers some tools to work with your data. "
   ]
  },
  {
   "cell_type": "markdown",
   "id": "9051997b",
   "metadata": {},
   "source": [
    "### DVC: A Data Version Control Tool for Your Data Science Projects"
   ]
  },
  {
   "cell_type": "code",
   "execution_count": null,
   "id": "bf178f7c",
   "metadata": {
    "tags": [
     "hide-cell"
    ]
   },
   "outputs": [],
   "source": [
    "!pip install dvc"
   ]
  },
  {
   "cell_type": "markdown",
   "id": "3b08836d",
   "metadata": {},
   "source": [
    "Git is a powerful tool to go back and forth different versions of your code. Is there a way that you can also control different versions of your data?\n",
    "\n",
    "That is when DVC comes in handy. With DVC, you can keep the information about different versions of your data in Git while storing your original data somewhere else.\n",
    "\n",
    "It is essentially like Git but is used for data. The code below shows how to use DVC."
   ]
  },
  {
   "cell_type": "markdown",
   "id": "dfb6b5cf",
   "metadata": {},
   "source": [
    "```bash\n",
    "# Initialize\n",
    "$ dvc init\n",
    "\n",
    "# Track data directory\n",
    "$ dvc add data # Create data.dvc\n",
    "$ git add data.dvc\n",
    "$ git commit -m \"add data\"\n",
    "\n",
    "# Store the data remotely\n",
    "$ dvc remote add -d remote gdrive://lynNBbT-4J0ida0eKYQqZZbC93juUUUbVH\n",
    "\n",
    "# Push the data to remote storage\n",
    "$ dvc push \n",
    "\n",
    "# Get the data\n",
    "$ dvc pull \n",
    "\n",
    "# Switch between different version\n",
    "$ git checkout HEAD^1 data.dvc\n",
    "$ dvc checkout\n",
    "```"
   ]
  },
  {
   "cell_type": "markdown",
   "id": "84ead3ce",
   "metadata": {},
   "source": [
    "[Link to DVC](https://dvc.org/)\n",
    "\n",
    "Find step-by-step instructions on how to use DVC in [my article](https://towardsdatascience.com/introduction-to-dvc-data-version-control-tool-for-machine-learning-projects-7cb49c229fe0?sk=842f755cdf21a5db60aada1168c55447)."
   ]
  },
  {
   "cell_type": "markdown",
   "id": "7b0a3099",
   "metadata": {},
   "source": [
    "### sweetviz: Compare the similar features between 2 different datasets"
   ]
  },
  {
   "cell_type": "code",
   "execution_count": null,
   "id": "3f728a43",
   "metadata": {
    "tags": [
     "hide-cell"
    ]
   },
   "outputs": [],
   "source": [
    "!pip install sweetviz "
   ]
  },
  {
   "cell_type": "markdown",
   "id": "39c23e08",
   "metadata": {},
   "source": [
    "Sometimes it is important to compare the similar features between 2 different datasets side by side such as comparing train and test sets. If you want to quickly compare 2 datasets through graphs, check out sweetviz."
   ]
  },
  {
   "cell_type": "code",
   "execution_count": 17,
   "id": "93a6e248",
   "metadata": {
    "ExecuteTime": {
     "end_time": "2021-09-11T19:08:20.830420Z",
     "start_time": "2021-09-11T19:08:18.515134Z"
    },
    "scrolled": true
   },
   "outputs": [
    {
     "data": {
      "application/vnd.jupyter.widget-view+json": {
       "model_id": "8373d1bacc894532a51f7ca635d47127",
       "version_major": 2,
       "version_minor": 0
      },
      "text/plain": [
       "                                             |                                                                …"
      ]
     },
     "metadata": {},
     "output_type": "display_data"
    },
    {
     "name": "stdout",
     "output_type": "stream",
     "text": [
      "Report SWEETVIZ_REPORT.html was generated! NOTEBOOK/COLAB USERS: the web browser MAY not pop up, regardless, the report IS saved in your notebook/colab files.\n"
     ]
    },
    {
     "data": {
      "application/javascript": [
       "\n",
       "            setTimeout(function() {\n",
       "                var nbb_cell_id = 17;\n",
       "                var nbb_unformatted_code = \"from sklearn.datasets import load_iris\\nfrom sklearn.model_selection import train_test_split\\nimport sweetviz as sv \\n\\nX, y = load_iris(return_X_y=True, as_frame=True)\\nX_train, X_test, y_train, y_test = train_test_split(X, y)\\n\\nreport = sv.compare([X_train, 'train data'], [X_test, 'test data'])\\nreport.show_html()\";\n",
       "                var nbb_formatted_code = \"from sklearn.datasets import load_iris\\nfrom sklearn.model_selection import train_test_split\\nimport sweetviz as sv\\n\\nX, y = load_iris(return_X_y=True, as_frame=True)\\nX_train, X_test, y_train, y_test = train_test_split(X, y)\\n\\nreport = sv.compare([X_train, \\\"train data\\\"], [X_test, \\\"test data\\\"])\\nreport.show_html()\";\n",
       "                var nbb_cells = Jupyter.notebook.get_cells();\n",
       "                for (var i = 0; i < nbb_cells.length; ++i) {\n",
       "                    if (nbb_cells[i].input_prompt_number == nbb_cell_id) {\n",
       "                        if (nbb_cells[i].get_text() == nbb_unformatted_code) {\n",
       "                             nbb_cells[i].set_text(nbb_formatted_code);\n",
       "                        }\n",
       "                        break;\n",
       "                    }\n",
       "                }\n",
       "            }, 500);\n",
       "            "
      ],
      "text/plain": [
       "<IPython.core.display.Javascript object>"
      ]
     },
     "metadata": {},
     "output_type": "display_data"
    },
    {
     "name": "stdout",
     "output_type": "stream",
     "text": [
      "Opening in existing browser session.\n"
     ]
    }
   ],
   "source": [
    "from sklearn.datasets import load_iris\n",
    "from sklearn.model_selection import train_test_split\n",
    "import sweetviz as sv\n",
    "\n",
    "X, y = load_iris(return_X_y=True, as_frame=True)\n",
    "X_train, X_test, y_train, y_test = train_test_split(X, y)\n",
    "\n",
    "report = sv.compare([X_train, \"train data\"], [X_test, \"test data\"])\n",
    "report.show_html()"
   ]
  },
  {
   "cell_type": "markdown",
   "id": "c1882d1b",
   "metadata": {},
   "source": [
    "Run the code above and you will generate a report similar to this:"
   ]
  },
  {
   "cell_type": "markdown",
   "id": "55c80d06",
   "metadata": {},
   "source": [
    "![image](sweetviz_output.png)"
   ]
  },
  {
   "cell_type": "markdown",
   "id": "71e6fe87",
   "metadata": {},
   "source": [
    "[Link to sweetviz](https://github.com/fbdesignpro/sweetviz)"
   ]
  },
  {
   "cell_type": "code",
   "execution_count": null,
   "id": "8e82c163",
   "metadata": {
    "ExecuteTime": {
     "end_time": "2022-03-21T12:43:31.813547Z",
     "start_time": "2022-03-21T12:42:57.174158Z"
    },
    "tags": [
     "hide-cell"
    ]
   },
   "outputs": [],
   "source": [
    "!pip install dtale sklearn"
   ]
  },
  {
   "cell_type": "code",
   "execution_count": 1,
   "id": "352138b6",
   "metadata": {
    "ExecuteTime": {
     "end_time": "2022-03-21T12:45:09.255247Z",
     "start_time": "2022-03-21T12:45:07.638190Z"
    }
   },
   "outputs": [],
   "source": [
    "from sklearn.datasets import load_iris\n",
    "import dtale"
   ]
  },
  {
   "cell_type": "code",
   "execution_count": 6,
   "id": "e5174292",
   "metadata": {
    "ExecuteTime": {
     "end_time": "2022-03-21T13:00:36.978013Z",
     "start_time": "2022-03-21T13:00:36.872127Z"
    }
   },
   "outputs": [
    {
     "data": {
      "text/html": [
       "\n",
       "        <iframe\n",
       "            width=\"100%\"\n",
       "            height=\"475\"\n",
       "            src=\"http://khuyen-Precision-7740:40001/dtale/iframe/3\"\n",
       "            frameborder=\"0\"\n",
       "            allowfullscreen\n",
       "        ></iframe>\n",
       "        "
      ],
      "text/plain": [
       "<IPython.lib.display.IFrame at 0x7f2bc3544160>"
      ]
     },
     "metadata": {},
     "output_type": "display_data"
    },
    {
     "data": {
      "text/plain": []
     },
     "execution_count": 6,
     "metadata": {},
     "output_type": "execute_result"
    },
    {
     "name": "stdout",
     "output_type": "stream",
     "text": [
      "Executing shutdown due to inactivity...\n"
     ]
    },
    {
     "name": "stderr",
     "output_type": "stream",
     "text": [
      "2022-03-21 10:04:49,654 - INFO     - Executing shutdown due to inactivity...\n"
     ]
    },
    {
     "name": "stdout",
     "output_type": "stream",
     "text": [
      "Executing shutdown...\n"
     ]
    },
    {
     "name": "stderr",
     "output_type": "stream",
     "text": [
      "2022-03-21 10:04:49,675 - INFO     - Executing shutdown...\n"
     ]
    }
   ],
   "source": [
    "df = load_iris(as_frame=True)[\"frame\"]\n",
    "dtale.show(df)"
   ]
  },
  {
   "cell_type": "code",
   "execution_count": null,
   "id": "7b436d6e",
   "metadata": {},
   "outputs": [],
   "source": []
  }
 ],
 "metadata": {
  "celltoolbar": "Tags",
  "kernelspec": {
   "display_name": "Python 3.8.10 64-bit ('venv': venv)",
   "language": "python",
   "name": "python3810jvsc74a57bd081fd2c32c01ae2ba49907a34c36447a670709039fbd002790bd1125f246cf4a2"
  },
  "language_info": {
   "codemirror_mode": {
    "name": "ipython",
    "version": 3
   },
   "file_extension": ".py",
   "mimetype": "text/x-python",
   "name": "python",
   "nbconvert_exporter": "python",
   "pygments_lexer": "ipython3",
   "version": "3.8.10"
  },
  "toc": {
   "base_numbering": 1,
   "nav_menu": {},
   "number_sections": true,
   "sideBar": true,
   "skip_h1_title": false,
   "title_cell": "Table of Contents",
   "title_sidebar": "Contents",
   "toc_cell": false,
   "toc_position": {},
   "toc_section_display": true,
   "toc_window_display": false
  }
 },
 "nbformat": 4,
 "nbformat_minor": 5
}
