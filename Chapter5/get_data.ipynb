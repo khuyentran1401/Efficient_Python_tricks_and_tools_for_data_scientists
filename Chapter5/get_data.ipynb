{
 "cells": [
  {
   "attachments": {},
   "cell_type": "markdown",
   "id": "f019dd04",
   "metadata": {},
   "source": [
    "## Get Data"
   ]
  },
  {
   "attachments": {},
   "cell_type": "markdown",
   "id": "55d18d31",
   "metadata": {},
   "source": [
    "This section covers tools to get some data for your projects."
   ]
  },
  {
   "attachments": {},
   "cell_type": "markdown",
   "id": "4d7e066d",
   "metadata": {},
   "source": [
    "### faker: Create Fake Data in One Line of Code"
   ]
  },
  {
   "cell_type": "code",
   "execution_count": null,
   "id": "eee97dba",
   "metadata": {
    "tags": [
     "hide-cell"
    ]
   },
   "outputs": [],
   "source": [
    "!pip install Faker"
   ]
  },
  {
   "attachments": {},
   "cell_type": "markdown",
   "id": "a5101bf4",
   "metadata": {},
   "source": [
    "To quickly create fake data for testing, use faker."
   ]
  },
  {
   "cell_type": "code",
   "execution_count": 5,
   "id": "5ea1f553",
   "metadata": {
    "ExecuteTime": {
     "end_time": "2021-09-11T18:57:14.961159Z",
     "start_time": "2021-09-11T18:57:14.902598Z"
    }
   },
   "outputs": [
    {
     "data": {
      "text/plain": [
       "'CornflowerBlue'"
      ]
     },
     "execution_count": 5,
     "metadata": {},
     "output_type": "execute_result"
    },
    {
     "data": {
      "application/javascript": "\n            setTimeout(function() {\n                var nbb_cell_id = 5;\n                var nbb_unformatted_code = \"from faker import Faker\\n\\nfake = Faker()\\n\\nfake.color_name()\";\n                var nbb_formatted_code = \"from faker import Faker\\n\\nfake = Faker()\\n\\nfake.color_name()\";\n                var nbb_cells = Jupyter.notebook.get_cells();\n                for (var i = 0; i < nbb_cells.length; ++i) {\n                    if (nbb_cells[i].input_prompt_number == nbb_cell_id) {\n                        if (nbb_cells[i].get_text() == nbb_unformatted_code) {\n                             nbb_cells[i].set_text(nbb_formatted_code);\n                        }\n                        break;\n                    }\n                }\n            }, 500);\n            ",
      "text/plain": [
       "<IPython.core.display.Javascript object>"
      ]
     },
     "metadata": {},
     "output_type": "display_data"
    }
   ],
   "source": [
    "from faker import Faker\n",
    "\n",
    "fake = Faker()\n",
    "\n",
    "fake.color_name()"
   ]
  },
  {
   "cell_type": "code",
   "execution_count": 6,
   "id": "bcb64c52",
   "metadata": {
    "ExecuteTime": {
     "end_time": "2021-09-11T18:57:21.998581Z",
     "start_time": "2021-09-11T18:57:21.983199Z"
    }
   },
   "outputs": [
    {
     "data": {
      "text/plain": [
       "'Michael Scott'"
      ]
     },
     "execution_count": 6,
     "metadata": {},
     "output_type": "execute_result"
    },
    {
     "data": {
      "application/javascript": "\n            setTimeout(function() {\n                var nbb_cell_id = 6;\n                var nbb_unformatted_code = \"fake.name()\";\n                var nbb_formatted_code = \"fake.name()\";\n                var nbb_cells = Jupyter.notebook.get_cells();\n                for (var i = 0; i < nbb_cells.length; ++i) {\n                    if (nbb_cells[i].input_prompt_number == nbb_cell_id) {\n                        if (nbb_cells[i].get_text() == nbb_unformatted_code) {\n                             nbb_cells[i].set_text(nbb_formatted_code);\n                        }\n                        break;\n                    }\n                }\n            }, 500);\n            ",
      "text/plain": [
       "<IPython.core.display.Javascript object>"
      ]
     },
     "metadata": {},
     "output_type": "display_data"
    }
   ],
   "source": [
    "fake.name()"
   ]
  },
  {
   "cell_type": "code",
   "execution_count": 7,
   "id": "9f8ed3e3",
   "metadata": {
    "ExecuteTime": {
     "end_time": "2021-09-11T18:57:29.849353Z",
     "start_time": "2021-09-11T18:57:29.834479Z"
    }
   },
   "outputs": [
    {
     "data": {
      "text/plain": [
       "'881 Patricia Crossing\\nSouth Jeremy, AR 06087'"
      ]
     },
     "execution_count": 7,
     "metadata": {},
     "output_type": "execute_result"
    },
    {
     "data": {
      "application/javascript": "\n            setTimeout(function() {\n                var nbb_cell_id = 7;\n                var nbb_unformatted_code = \"fake.address()\";\n                var nbb_formatted_code = \"fake.address()\";\n                var nbb_cells = Jupyter.notebook.get_cells();\n                for (var i = 0; i < nbb_cells.length; ++i) {\n                    if (nbb_cells[i].input_prompt_number == nbb_cell_id) {\n                        if (nbb_cells[i].get_text() == nbb_unformatted_code) {\n                             nbb_cells[i].set_text(nbb_formatted_code);\n                        }\n                        break;\n                    }\n                }\n            }, 500);\n            ",
      "text/plain": [
       "<IPython.core.display.Javascript object>"
      ]
     },
     "metadata": {},
     "output_type": "display_data"
    }
   ],
   "source": [
    "fake.address()"
   ]
  },
  {
   "cell_type": "code",
   "execution_count": 8,
   "id": "19857d3c",
   "metadata": {
    "ExecuteTime": {
     "end_time": "2021-09-11T18:57:38.546365Z",
     "start_time": "2021-09-11T18:57:38.527029Z"
    }
   },
   "outputs": [
    {
     "data": {
      "text/plain": [
       "datetime.date(1927, 11, 5)"
      ]
     },
     "execution_count": 8,
     "metadata": {},
     "output_type": "execute_result"
    },
    {
     "data": {
      "application/javascript": "\n            setTimeout(function() {\n                var nbb_cell_id = 8;\n                var nbb_unformatted_code = \"fake.date_of_birth(minimum_age=22)\";\n                var nbb_formatted_code = \"fake.date_of_birth(minimum_age=22)\";\n                var nbb_cells = Jupyter.notebook.get_cells();\n                for (var i = 0; i < nbb_cells.length; ++i) {\n                    if (nbb_cells[i].input_prompt_number == nbb_cell_id) {\n                        if (nbb_cells[i].get_text() == nbb_unformatted_code) {\n                             nbb_cells[i].set_text(nbb_formatted_code);\n                        }\n                        break;\n                    }\n                }\n            }, 500);\n            ",
      "text/plain": [
       "<IPython.core.display.Javascript object>"
      ]
     },
     "metadata": {},
     "output_type": "display_data"
    }
   ],
   "source": [
    "fake.date_of_birth(minimum_age=22)"
   ]
  },
  {
   "cell_type": "code",
   "execution_count": 9,
   "id": "d50dd0eb",
   "metadata": {
    "ExecuteTime": {
     "end_time": "2021-09-11T18:57:46.946804Z",
     "start_time": "2021-09-11T18:57:46.930392Z"
    }
   },
   "outputs": [
    {
     "data": {
      "text/plain": [
       "'North Donald'"
      ]
     },
     "execution_count": 9,
     "metadata": {},
     "output_type": "execute_result"
    },
    {
     "data": {
      "application/javascript": "\n            setTimeout(function() {\n                var nbb_cell_id = 9;\n                var nbb_unformatted_code = \"fake.city()\";\n                var nbb_formatted_code = \"fake.city()\";\n                var nbb_cells = Jupyter.notebook.get_cells();\n                for (var i = 0; i < nbb_cells.length; ++i) {\n                    if (nbb_cells[i].input_prompt_number == nbb_cell_id) {\n                        if (nbb_cells[i].get_text() == nbb_unformatted_code) {\n                             nbb_cells[i].set_text(nbb_formatted_code);\n                        }\n                        break;\n                    }\n                }\n            }, 500);\n            ",
      "text/plain": [
       "<IPython.core.display.Javascript object>"
      ]
     },
     "metadata": {},
     "output_type": "display_data"
    }
   ],
   "source": [
    "fake.city()"
   ]
  },
  {
   "cell_type": "code",
   "execution_count": 10,
   "id": "adf375ce",
   "metadata": {
    "ExecuteTime": {
     "end_time": "2021-09-11T18:57:51.426720Z",
     "start_time": "2021-09-11T18:57:51.411878Z"
    }
   },
   "outputs": [
    {
     "data": {
      "text/plain": [
       "'Teacher, secondary school'"
      ]
     },
     "execution_count": 10,
     "metadata": {},
     "output_type": "execute_result"
    },
    {
     "data": {
      "application/javascript": "\n            setTimeout(function() {\n                var nbb_cell_id = 10;\n                var nbb_unformatted_code = \"fake.job()\";\n                var nbb_formatted_code = \"fake.job()\";\n                var nbb_cells = Jupyter.notebook.get_cells();\n                for (var i = 0; i < nbb_cells.length; ++i) {\n                    if (nbb_cells[i].input_prompt_number == nbb_cell_id) {\n                        if (nbb_cells[i].get_text() == nbb_unformatted_code) {\n                             nbb_cells[i].set_text(nbb_formatted_code);\n                        }\n                        break;\n                    }\n                }\n            }, 500);\n            ",
      "text/plain": [
       "<IPython.core.display.Javascript object>"
      ]
     },
     "metadata": {},
     "output_type": "display_data"
    }
   ],
   "source": [
    "fake.job()"
   ]
  },
  {
   "attachments": {},
   "cell_type": "markdown",
   "id": "afe83d9b",
   "metadata": {},
   "source": [
    "[Link to faker](https://faker.readthedocs.io/en/master/)\n",
    "\n",
    "[Link to my full article on faker](https://towardsdatascience.com/how-to-create-fake-data-with-faker-a835e5b7a9d9?sk=de199d5fdf7af9a8fd304d468e303a80)."
   ]
  },
  {
   "attachments": {},
   "cell_type": "markdown",
   "id": "48748b4e",
   "metadata": {},
   "source": [
    "### Silly: Produce Silly Test Data"
   ]
  },
  {
   "cell_type": "code",
   "execution_count": null,
   "id": "1872148b",
   "metadata": {
    "ExecuteTime": {
     "end_time": "2022-08-19T13:50:26.990001Z",
     "start_time": "2022-08-19T13:50:24.813819Z"
    },
    "tags": [
     "hide-cell"
    ]
   },
   "outputs": [],
   "source": [
    "!pip install silly"
   ]
  },
  {
   "attachments": {},
   "cell_type": "markdown",
   "id": "5ce82ac9",
   "metadata": {},
   "source": [
    "If you want to produce some sill test data, try the library silly."
   ]
  },
  {
   "cell_type": "code",
   "execution_count": 11,
   "id": "962728e5",
   "metadata": {
    "ExecuteTime": {
     "end_time": "2022-08-19T13:58:17.372663Z",
     "start_time": "2022-08-19T13:58:17.365171Z"
    }
   },
   "outputs": [
    {
     "name": "stdout",
     "output_type": "stream",
     "text": [
      "Her name is olivia ringslap.Her email is boatbench@thirty-three-mighty-horses.link\n"
     ]
    }
   ],
   "source": [
    "import silly \n",
    "\n",
    "name = silly.name()\n",
    "email = silly.email()\n",
    "print(f\"Her name is {name}. Her email is {email}\")"
   ]
  },
  {
   "cell_type": "code",
   "execution_count": 6,
   "id": "b57ee952",
   "metadata": {
    "ExecuteTime": {
     "end_time": "2022-08-19T13:52:31.940531Z",
     "start_time": "2022-08-19T13:52:31.935369Z"
    }
   },
   "outputs": [
    {
     "data": {
      "text/plain": [
       "'five cherry onions'"
      ]
     },
     "execution_count": 6,
     "metadata": {},
     "output_type": "execute_result"
    }
   ],
   "source": [
    "silly.a_thing()"
   ]
  },
  {
   "cell_type": "code",
   "execution_count": 5,
   "id": "f6ff64c1",
   "metadata": {
    "ExecuteTime": {
     "end_time": "2022-08-19T13:52:20.164684Z",
     "start_time": "2022-08-19T13:52:20.157490Z"
    }
   },
   "outputs": [
    {
     "data": {
      "text/plain": [
       "'container of khaki wads'"
      ]
     },
     "execution_count": 5,
     "metadata": {},
     "output_type": "execute_result"
    }
   ],
   "source": [
    "silly.thing()"
   ]
  },
  {
   "cell_type": "code",
   "execution_count": 7,
   "id": "59c476c8",
   "metadata": {
    "ExecuteTime": {
     "end_time": "2022-08-19T13:52:53.598015Z",
     "start_time": "2022-08-19T13:52:53.591499Z"
    }
   },
   "outputs": [
    {
     "data": {
      "text/plain": [
       "'a tote of plans, twenty-four eyes, and eighteen garlic arms'"
      ]
     },
     "execution_count": 7,
     "metadata": {},
     "output_type": "execute_result"
    }
   ],
   "source": [
    "silly.things()"
   ]
  },
  {
   "cell_type": "code",
   "execution_count": 8,
   "id": "063f794b",
   "metadata": {
    "ExecuteTime": {
     "end_time": "2022-08-19T13:53:06.026500Z",
     "start_time": "2022-08-19T13:53:06.016823Z"
    },
    "scrolled": true
   },
   "outputs": [
    {
     "data": {
      "text/plain": [
       "\"God himself can't wait to move a hat in Birmingpoop.\""
      ]
     },
     "execution_count": 8,
     "metadata": {},
     "output_type": "execute_result"
    }
   ],
   "source": [
    "silly.sentence()"
   ]
  },
  {
   "cell_type": "code",
   "execution_count": 10,
   "id": "f6c45262",
   "metadata": {
    "ExecuteTime": {
     "end_time": "2022-08-19T13:57:02.403209Z",
     "start_time": "2022-08-19T13:57:02.386649Z"
    },
    "scrolled": true
   },
   "outputs": [
    {
     "data": {
      "text/plain": [
       "\"Agustin Neutral-Jerk needs a group of concerns, badly. Agnes Basil can't wait to taste a box of slate chairs in Assesford. To get to Testasia, you need to go to Fantasticheartsound, then drive east. The band 'Queen' will hurl a dance. To get to Arztotzka, you need to go to Cape City Central, then drive north. The world will head to Integrated Eye And Onion to buy a tub of boots. Assemble jean! Seth Violetbag will assemble a laudable ring. Lampton is in South Yemen. Birmingobject is in West Cybertron.\""
      ]
     },
     "execution_count": 10,
     "metadata": {},
     "output_type": "execute_result"
    }
   ],
   "source": [
    "silly.paragraph()"
   ]
  },
  {
   "attachments": {},
   "cell_type": "markdown",
   "id": "23a4d361",
   "metadata": {},
   "source": [
    "[Link to silly](https://github.com/cube-drone/silly)."
   ]
  },
  {
   "attachments": {},
   "cell_type": "markdown",
   "id": "c25e6922",
   "metadata": {},
   "source": [
    "### Random User: Generate Random User Data in One Line of Code"
   ]
  },
  {
   "attachments": {},
   "cell_type": "markdown",
   "id": "c9feef64",
   "metadata": {},
   "source": [
    "Have you ever wanted to create fake user data for testing? Random User Generator is a free API that generates random user data. Below is how to download and use this data in your code. \n"
   ]
  },
  {
   "cell_type": "code",
   "execution_count": 8,
   "id": "30712794",
   "metadata": {
    "ExecuteTime": {
     "end_time": "2021-09-24T13:39:45.539418Z",
     "start_time": "2021-09-24T13:39:45.401022Z"
    }
   },
   "outputs": [
    {
     "data": {
      "text/plain": [
       "[{'gender': 'female',\n",
       "  'name': {'title': 'Miss', 'first': 'Ava', 'last': 'Hansen'},\n",
       "  'location': {'street': {'number': 3526, 'name': 'George Street'},\n",
       "   'city': 'Worcester',\n",
       "   'state': 'Merseyside',\n",
       "   'country': 'United Kingdom',\n",
       "   'postcode': 'K7Z 3WB',\n",
       "   'coordinates': {'latitude': '11.9627', 'longitude': '17.6871'},\n",
       "   'timezone': {'offset': '+9:00',\n",
       "    'description': 'Tokyo, Seoul, Osaka, Sapporo, Yakutsk'}},\n",
       "  'email': 'ava.hansen@example.com',\n",
       "  'login': {'uuid': '253e53f9-9553-4345-9047-fb18aec51cfe',\n",
       "   'username': 'heavywolf743',\n",
       "   'password': 'cristina',\n",
       "   'salt': 'xwnpqwtd',\n",
       "   'md5': '2b5037da7d78258f167d5a3f8dc24edb',\n",
       "   'sha1': 'fabbede0577b3fed686afd319d5ab794f1b35b02',\n",
       "   'sha256': 'd42e2061f9c283c4548af6c617727215c79ecafc74b9f3a294e6cf09afc5906f'},\n",
       "  'dob': {'date': '1948-01-21T10:26:00.053Z', 'age': 73},\n",
       "  'registered': {'date': '2011-11-19T03:28:46.830Z', 'age': 10},\n",
       "  'phone': '015242 07811',\n",
       "  'cell': '0700-326-155',\n",
       "  'id': {'name': 'NINO', 'value': 'HT 97 25 71 Y'},\n",
       "  'picture': {'large': 'https://randomuser.me/api/portraits/women/60.jpg',\n",
       "   'medium': 'https://randomuser.me/api/portraits/med/women/60.jpg',\n",
       "   'thumbnail': 'https://randomuser.me/api/portraits/thumb/women/60.jpg'},\n",
       "  'nat': 'GB'},\n",
       " {'gender': 'male',\n",
       "  'name': {'title': 'Mr', 'first': 'Aubin', 'last': 'Martin'},\n",
       "  'location': {'street': {'number': 8496, 'name': \"Rue du Bât-D'Argent\"},\n",
       "   'city': 'Strasbourg',\n",
       "   'state': 'Meurthe-et-Moselle',\n",
       "   'country': 'France',\n",
       "   'postcode': 83374,\n",
       "   'coordinates': {'latitude': '-1.3192', 'longitude': '24.0062'},\n",
       "   'timezone': {'offset': '+10:00',\n",
       "    'description': 'Eastern Australia, Guam, Vladivostok'}},\n",
       "  'email': 'aubin.martin@example.com',\n",
       "  'login': {'uuid': '54b9bfa9-5e86-4335-8ae3-164d85df98e7',\n",
       "   'username': 'heavyladybug837',\n",
       "   'password': 'kendra',\n",
       "   'salt': 'LcEMyR5s',\n",
       "   'md5': '2fbd9e05d992eb74f7afcccec02581fc',\n",
       "   'sha1': '530a1bc71a986415176606ea377961d2ce381e5d',\n",
       "   'sha256': 'f5ee7bc47f5615e89f1729dcb49632c6b76a90ba50eb42d782e2790398ebc539'},\n",
       "  'dob': {'date': '1949-04-12T05:01:31.463Z', 'age': 72},\n",
       "  'registered': {'date': '2006-05-28T03:54:36.433Z', 'age': 15},\n",
       "  'phone': '01-88-32-00-30',\n",
       "  'cell': '06-09-79-55-81',\n",
       "  'id': {'name': 'INSEE', 'value': '1NNaN48231023 75'},\n",
       "  'picture': {'large': 'https://randomuser.me/api/portraits/men/65.jpg',\n",
       "   'medium': 'https://randomuser.me/api/portraits/med/men/65.jpg',\n",
       "   'thumbnail': 'https://randomuser.me/api/portraits/thumb/men/65.jpg'},\n",
       "  'nat': 'FR'}]"
      ]
     },
     "execution_count": 8,
     "metadata": {},
     "output_type": "execute_result"
    }
   ],
   "source": [
    "import json\n",
    "from urllib.request import urlopen\n",
    "\n",
    "# Show 2 random users\n",
    "data = urlopen(\"https://randomuser.me/api?results=2\").read()\n",
    "users = json.loads(data)[\"results\"]\n",
    "users"
   ]
  },
  {
   "attachments": {},
   "cell_type": "markdown",
   "id": "3583be1b",
   "metadata": {},
   "source": [
    "[Link to Random User Generator](https://randomuser.me/)."
   ]
  },
  {
   "attachments": {},
   "cell_type": "markdown",
   "id": "28889200",
   "metadata": {},
   "source": [
    "### fetch_openml: Get OpenML’s Dataset in One Line of Code"
   ]
  },
  {
   "attachments": {},
   "cell_type": "markdown",
   "id": "4b609b04",
   "metadata": {},
   "source": [
    "OpenML has many interesting datasets. The easiest way to get OpenML’s data in Python is to use the `sklearn.datasets.fetch_openml` method.\n",
    "\n",
    "In one line of code, you get the OpenML’s dataset to play with!"
   ]
  },
  {
   "cell_type": "code",
   "execution_count": 11,
   "id": "d9dd97d9",
   "metadata": {
    "ExecuteTime": {
     "end_time": "2021-09-11T19:02:35.156525Z",
     "start_time": "2021-09-11T19:02:27.841053Z"
    }
   },
   "outputs": [
    {
     "name": "stdout",
     "output_type": "stream",
     "text": [
      "  attr1 attr2 attr3 attr4 attr5 attr6\n",
      "0     1     1     1     1     2     2\n",
      "1     1     1     1     1     4     1\n",
      "2     1     1     1     2     1     1\n",
      "3     1     1     1     2     1     2\n",
      "4     1     1     1     2     2     1\n",
      "5     1     1     1     2     3     1\n",
      "6     1     1     1     2     4     1\n",
      "7     1     1     1     3     2     1\n",
      "8     1     1     1     3     4     1\n",
      "9     1     1     2     1     1     1\n"
     ]
    },
    {
     "data": {
      "application/javascript": "\n            setTimeout(function() {\n                var nbb_cell_id = 11;\n                var nbb_unformatted_code = \"from sklearn.datasets import fetch_openml\\n\\nmonk = fetch_openml(name='monks-problems-2', as_frame=True)\\nprint(monk['data'].head(10))\";\n                var nbb_formatted_code = \"from sklearn.datasets import fetch_openml\\n\\nmonk = fetch_openml(name=\\\"monks-problems-2\\\", as_frame=True)\\nprint(monk[\\\"data\\\"].head(10))\";\n                var nbb_cells = Jupyter.notebook.get_cells();\n                for (var i = 0; i < nbb_cells.length; ++i) {\n                    if (nbb_cells[i].input_prompt_number == nbb_cell_id) {\n                        if (nbb_cells[i].get_text() == nbb_unformatted_code) {\n                             nbb_cells[i].set_text(nbb_formatted_code);\n                        }\n                        break;\n                    }\n                }\n            }, 500);\n            ",
      "text/plain": [
       "<IPython.core.display.Javascript object>"
      ]
     },
     "metadata": {},
     "output_type": "display_data"
    }
   ],
   "source": [
    "from sklearn.datasets import fetch_openml\n",
    "\n",
    "monk = fetch_openml(name=\"monks-problems-2\", as_frame=True)\n",
    "print(monk[\"data\"].head(10))"
   ]
  },
  {
   "attachments": {},
   "cell_type": "markdown",
   "id": "e96685ae",
   "metadata": {},
   "source": [
    "### Autoscraper: Automate Web Scraping in Python"
   ]
  },
  {
   "cell_type": "code",
   "execution_count": null,
   "id": "d11a3445",
   "metadata": {
    "tags": [
     "hide-cell"
    ]
   },
   "outputs": [],
   "source": [
    "!pip install autoscraper"
   ]
  },
  {
   "attachments": {},
   "cell_type": "markdown",
   "id": "c8f50aaa",
   "metadata": {},
   "source": [
    "If you want to automatically scrape a website in a few lines of Python code, try autoscraper.\n",
    "\n",
    "With autoscraper, you can extract elements with certain patterns by simply providing the text with that pattern.\n",
    "\n",
    "For a more precise selection of elements to extract, use Beautiful Soup."
   ]
  },
  {
   "cell_type": "code",
   "execution_count": 13,
   "id": "54b5e6ae",
   "metadata": {
    "ExecuteTime": {
     "end_time": "2021-09-11T19:03:59.941812Z",
     "start_time": "2021-09-11T19:03:59.181085Z"
    }
   },
   "outputs": [
    {
     "name": "stdout",
     "output_type": "stream",
     "text": [
      "How to execute a program or call a system command?\n",
      "What are metaclasses in Python?\n",
      "Does Python have a ternary conditional operator?\n",
      "Convert bytes to a string\n",
      "Does Python have a string 'contains' substring method?\n",
      "How to check version of python modules?\n"
     ]
    },
    {
     "data": {
      "application/javascript": "\n            setTimeout(function() {\n                var nbb_cell_id = 13;\n                var nbb_unformatted_code = \"from autoscraper import AutoScraper\\n\\nurl = 'https://stackoverflow.com/questions/2081586/web-scraping-with-python'\\n\\nwanted_list = ['How to check version of python modules?']\\n\\nscraper = AutoScraper()\\nresult = scraper.build(url, wanted_list)\\n\\nfor res in result:\\n    print(res)\";\n                var nbb_formatted_code = \"from autoscraper import AutoScraper\\n\\nurl = \\\"https://stackoverflow.com/questions/2081586/web-scraping-with-python\\\"\\n\\nwanted_list = [\\\"How to check version of python modules?\\\"]\\n\\nscraper = AutoScraper()\\nresult = scraper.build(url, wanted_list)\\n\\nfor res in result:\\n    print(res)\";\n                var nbb_cells = Jupyter.notebook.get_cells();\n                for (var i = 0; i < nbb_cells.length; ++i) {\n                    if (nbb_cells[i].input_prompt_number == nbb_cell_id) {\n                        if (nbb_cells[i].get_text() == nbb_unformatted_code) {\n                             nbb_cells[i].set_text(nbb_formatted_code);\n                        }\n                        break;\n                    }\n                }\n            }, 500);\n            ",
      "text/plain": [
       "<IPython.core.display.Javascript object>"
      ]
     },
     "metadata": {},
     "output_type": "display_data"
    }
   ],
   "source": [
    "from autoscraper import AutoScraper\n",
    "\n",
    "url = \"https://stackoverflow.com/questions/2081586/web-scraping-with-python\"\n",
    "\n",
    "wanted_list = [\"How to check version of python modules?\"]\n",
    "\n",
    "scraper = AutoScraper()\n",
    "result = scraper.build(url, wanted_list)\n",
    "\n",
    "for res in result:\n",
    "    print(res)"
   ]
  },
  {
   "attachments": {},
   "cell_type": "markdown",
   "id": "a5c7606a",
   "metadata": {},
   "source": [
    "[Link to autoscraper](https://github.com/alirezamika/autoscraper)."
   ]
  },
  {
   "attachments": {},
   "cell_type": "markdown",
   "id": "da9f25cb",
   "metadata": {},
   "source": [
    "### pandas-reader: Extract Data from Various Internet Sources Directly into a Pandas DataFrame"
   ]
  },
  {
   "cell_type": "code",
   "execution_count": null,
   "id": "600867ba",
   "metadata": {
    "tags": [
     "hide-cell"
    ]
   },
   "outputs": [],
   "source": [
    "!pip install pandas-datareader"
   ]
  },
  {
   "attachments": {},
   "cell_type": "markdown",
   "id": "009c4fc8",
   "metadata": {},
   "source": [
    "Have you wanted to extract series data from various Internet sources directly into a pandas DataFrame? That is when pandas_reader comes in handy.\n",
    "\n",
    "Below is the snippet to extract daily data of AD indicator from 2008 to 2018. "
   ]
  },
  {
   "cell_type": "code",
   "execution_count": null,
   "id": "375d7426",
   "metadata": {
    "ExecuteTime": {
     "end_time": "2021-09-11T19:05:11.618369Z",
     "start_time": "2021-09-11T19:05:11.419824Z"
    },
    "tags": [
     "hide-output"
    ]
   },
   "outputs": [],
   "source": [
    "import os\n",
    "from datetime import datetime\n",
    "import pandas_datareader.data as web\n",
    "\n",
    "df = web.DataReader(\n",
    "    \"AD\",\n",
    "    \"av-daily\",\n",
    "    start=datetime(2008, 1, 1),\n",
    "    end=datetime(2018, 2, 28),\n",
    "    api_key=os.gehide-outputtenv(\"ALPHAVANTAGE_API_KEY\"),\n",
    ")"
   ]
  },
  {
   "attachments": {},
   "cell_type": "markdown",
   "id": "6c408356",
   "metadata": {},
   "source": [
    "[Link to pandas_reader](https://pandas-datareader.readthedocs.io/en/latest/)."
   ]
  },
  {
   "attachments": {},
   "cell_type": "markdown",
   "id": "5db35482",
   "metadata": {},
   "source": [
    "### pytrends: Get the Trend of a Keyword on Google Search Over Time"
   ]
  },
  {
   "cell_type": "code",
   "execution_count": null,
   "id": "6cc9e231",
   "metadata": {
    "tags": [
     "hide-cell"
    ]
   },
   "outputs": [],
   "source": [
    "!pip install pytrends"
   ]
  },
  {
   "attachments": {},
   "cell_type": "markdown",
   "id": "d027e809",
   "metadata": {},
   "source": [
    "If you want to get the trend of a keyword on Google Search over time, try pytrends.\n",
    "\n",
    "In the code below, I use pytrends to get the interest of the keyword “data science” on Google Search from 2016 to 2021."
   ]
  },
  {
   "cell_type": "code",
   "execution_count": 13,
   "id": "03b1f978",
   "metadata": {
    "ExecuteTime": {
     "end_time": "2021-09-12T12:40:22.870347Z",
     "start_time": "2021-09-12T12:40:22.854503Z"
    }
   },
   "outputs": [
    {
     "data": {
      "application/javascript": "\n            setTimeout(function() {\n                var nbb_cell_id = 13;\n                var nbb_unformatted_code = \"from pytrends.request import TrendReq\\nimport seaborn as sns \";\n                var nbb_formatted_code = \"from pytrends.request import TrendReq\\nimport seaborn as sns\";\n                var nbb_cells = Jupyter.notebook.get_cells();\n                for (var i = 0; i < nbb_cells.length; ++i) {\n                    if (nbb_cells[i].input_prompt_number == nbb_cell_id) {\n                        if (nbb_cells[i].get_text() == nbb_unformatted_code) {\n                             nbb_cells[i].set_text(nbb_formatted_code);\n                        }\n                        break;\n                    }\n                }\n            }, 500);\n            ",
      "text/plain": [
       "<IPython.core.display.Javascript object>"
      ]
     },
     "metadata": {},
     "output_type": "display_data"
    }
   ],
   "source": [
    "from pytrends.request import TrendReq"
   ]
  },
  {
   "cell_type": "code",
   "execution_count": 20,
   "id": "6dbd0312",
   "metadata": {
    "ExecuteTime": {
     "end_time": "2021-09-12T12:42:42.298569Z",
     "start_time": "2021-09-12T12:42:40.502954Z"
    }
   },
   "outputs": [
    {
     "data": {
      "text/plain": [
       "<AxesSubplot:xlabel='date'>"
      ]
     },
     "execution_count": 20,
     "metadata": {},
     "output_type": "execute_result"
    },
    {
     "data": {
      "image/png": "[encoded data removed]",
      "text/plain": [
       "<Figure size 1440x504 with 1 Axes>"
      ]
     },
     "metadata": {
      "needs_background": "light"
     },
     "output_type": "display_data"
    },
    {
     "data": {
      "application/javascript": "\n            setTimeout(function() {\n                var nbb_cell_id = 20;\n                var nbb_unformatted_code = \"pytrends = TrendReq(hl=\\\"en-US\\\", tz=360)\\npytrends.build_payload(kw_list=[\\\"data science\\\"])\\n\\ndf = pytrends.interest_over_time()\\ndf[\\\"data science\\\"].plot(figsize=(20, 7))\";\n                var nbb_formatted_code = \"pytrends = TrendReq(hl=\\\"en-US\\\", tz=360)\\npytrends.build_payload(kw_list=[\\\"data science\\\"])\\n\\ndf = pytrends.interest_over_time()\\ndf[\\\"data science\\\"].plot(figsize=(20, 7))\";\n                var nbb_cells = Jupyter.notebook.get_cells();\n                for (var i = 0; i < nbb_cells.length; ++i) {\n                    if (nbb_cells[i].input_prompt_number == nbb_cell_id) {\n                        if (nbb_cells[i].get_text() == nbb_unformatted_code) {\n                             nbb_cells[i].set_text(nbb_formatted_code);\n                        }\n                        break;\n                    }\n                }\n            }, 500);\n            ",
      "text/plain": [
       "<IPython.core.display.Javascript object>"
      ]
     },
     "metadata": {},
     "output_type": "display_data"
    }
   ],
   "source": [
    "pytrends = TrendReq(hl=\"en-US\", tz=360)\n",
    "pytrends.build_payload(kw_list=[\"data science\"])\n",
    "\n",
    "df = pytrends.interest_over_time()\n",
    "df[\"data science\"].plot(figsize=(20, 7))"
   ]
  },
  {
   "attachments": {},
   "cell_type": "markdown",
   "id": "ac62281f",
   "metadata": {},
   "source": [
    "[Link to pytrends](https://github.com/GeneralMills/pytrends)"
   ]
  },
  {
   "attachments": {},
   "cell_type": "markdown",
   "id": "b7118b4a",
   "metadata": {},
   "source": [
    "### snscrape: Scrape Social Networking Services in Python"
   ]
  },
  {
   "attachments": {},
   "cell_type": "markdown",
   "id": "ef96587c",
   "metadata": {},
   "source": [
    "If you want to scrape social networking services such as Twitter, Facebook, Reddit, etc, try snscrape.\n",
    "\n",
    "For example, you can use snsscrape to scrape all tweets from a user or get the latest 100 tweets with the hashtag #python."
   ]
  },
  {
   "attachments": {},
   "cell_type": "markdown",
   "id": "1e3ab962",
   "metadata": {},
   "source": [
    "```bash\n",
    "# Scrape all tweets from @KhuyenTran16\n",
    "snscrape twitter-user KhuyenTran16\n",
    "\n",
    "# Save outputs\n",
    "snscrape twitter-user KhuyenTran16 >> khuyen_tweets \n",
    "\n",
    "# Scrape 100 tweets with hashtag python\n",
    "snscrape --max-results 100 twitter-hashtag python\n",
    "```"
   ]
  },
  {
   "attachments": {},
   "cell_type": "markdown",
   "id": "cdc5edfd",
   "metadata": {},
   "source": [
    "[Link to snscrape](https://github.com/JustAnotherArchivist/snscrape)."
   ]
  },
  {
   "attachments": {},
   "cell_type": "markdown",
   "id": "32236ab7",
   "metadata": {},
   "source": [
    "### Datacommons: Get Statistics about a Location in One Line of Code"
   ]
  },
  {
   "cell_type": "code",
   "execution_count": null,
   "id": "b2424ce9",
   "metadata": {
    "ExecuteTime": {
     "end_time": "2021-10-27T13:23:17.828604Z",
     "start_time": "2021-10-27T13:23:15.420554Z"
    },
    "tags": [
     "hide-cell"
    ]
   },
   "outputs": [],
   "source": [
    "!pip install datacommons"
   ]
  },
  {
   "attachments": {},
   "cell_type": "markdown",
   "id": "caed3d1a",
   "metadata": {},
   "source": [
    "If you want to get some interesting statistics about a location in one line of code, try Datacommons. Datacommons is a publicly available data from open sources (census.gov, cdc.gov, data.gov, etc.). Below are some statistics extracted from Datacommons."
   ]
  },
  {
   "cell_type": "code",
   "execution_count": 14,
   "id": "820f44d0",
   "metadata": {
    "ExecuteTime": {
     "end_time": "2021-10-27T13:28:23.283053Z",
     "start_time": "2021-10-27T13:28:23.280239Z"
    }
   },
   "outputs": [],
   "source": [
    "import datacommons_pandas\n",
    "import plotly.express as px \n",
    "import pandas as pd "
   ]
  },
  {
   "attachments": {},
   "cell_type": "markdown",
   "id": "e98d0ae2",
   "metadata": {},
   "source": [
    "#### Find the Median Income in California Over Time"
   ]
  },
  {
   "cell_type": "code",
   "execution_count": 71,
   "id": "5cb84555",
   "metadata": {
    "ExecuteTime": {
     "end_time": "2021-10-27T14:07:13.617020Z",
     "start_time": "2021-10-27T14:07:13.313111Z"
    }
   },
   "outputs": [
    {
     "data": {
      "text/plain": [
       "<AxesSubplot:title={'center':'Median Income in California Overtime'}>"
      ]
     },
     "execution_count": 71,
     "metadata": {},
     "output_type": "execute_result"
    },
    {
     "data": {
      "image/png": "[encoded data removed]",
      "text/plain": [
       "<Figure size 1440x720 with 1 Axes>"
      ]
     },
     "metadata": {
      "needs_background": "light"
     },
     "output_type": "display_data"
    },
    {
     "data": {
      "application/javascript": "\n            setTimeout(function() {\n                var nbb_cell_id = 71;\n                var nbb_unformatted_code = \"median_income = datacommons_pandas.build_time_series(\\\"geoId/06\\\", \\\"Median_Income_Person\\\")\\nmedian_income.index = pd.to_datetime(median_income.index)\\nmedian_income.plot(\\n    figsize=(20, 10),\\n    x=\\\"Income\\\",\\n    y=\\\"Year\\\",\\n    title=\\\"Median Income in California Overtime\\\",\\n)\";\n                var nbb_formatted_code = \"median_income = datacommons_pandas.build_time_series(\\\"geoId/06\\\", \\\"Median_Income_Person\\\")\\nmedian_income.index = pd.to_datetime(median_income.index)\\nmedian_income.plot(\\n    figsize=(20, 10),\\n    x=\\\"Income\\\",\\n    y=\\\"Year\\\",\\n    title=\\\"Median Income in California Overtime\\\",\\n)\";\n                var nbb_cells = Jupyter.notebook.get_cells();\n                for (var i = 0; i < nbb_cells.length; ++i) {\n                    if (nbb_cells[i].input_prompt_number == nbb_cell_id) {\n                        if (nbb_cells[i].get_text() == nbb_unformatted_code) {\n                             nbb_cells[i].set_text(nbb_formatted_code);\n                        }\n                        break;\n                    }\n                }\n            }, 500);\n            ",
      "text/plain": [
       "<IPython.core.display.Javascript object>"
      ]
     },
     "metadata": {},
     "output_type": "display_data"
    }
   ],
   "source": [
    "median_income = datacommons_pandas.build_time_series(\"geoId/06\", \"Median_Income_Person\")\n",
    "median_income.index = pd.to_datetime(median_income.index)\n",
    "median_income.plot(\n",
    "    figsize=(20, 10),\n",
    "    x=\"Income\",\n",
    "    y=\"Year\",\n",
    "    title=\"Median Income in California Over Time\",\n",
    ")"
   ]
  },
  {
   "attachments": {},
   "cell_type": "markdown",
   "id": "7a9be81f",
   "metadata": {},
   "source": [
    "#### Number of People in the U.S Over Time"
   ]
  },
  {
   "cell_type": "code",
   "execution_count": 45,
   "id": "fdbedbd8",
   "metadata": {
    "ExecuteTime": {
     "end_time": "2021-10-27T13:42:12.895810Z",
     "start_time": "2021-10-27T13:42:12.893349Z"
    }
   },
   "outputs": [],
   "source": [
    "def process_ts(statistics: str):\n",
    "    count_person = datacommons_pandas.build_time_series('country/USA', statistics)\n",
    "    count_person.index = pd.to_datetime(count_person.index)\n",
    "    count_person.name = statistics\n",
    "    return count_person "
   ]
  },
  {
   "cell_type": "code",
   "execution_count": 46,
   "id": "f177c772",
   "metadata": {
    "ExecuteTime": {
     "end_time": "2021-10-27T13:42:13.770954Z",
     "start_time": "2021-10-27T13:42:13.257910Z"
    }
   },
   "outputs": [],
   "source": [
    "count_person_male = process_ts('Count_Person_Male')\n",
    "count_person_female = process_ts('Count_Person_Female')"
   ]
  },
  {
   "cell_type": "code",
   "execution_count": 69,
   "id": "73bcf6a4",
   "metadata": {
    "ExecuteTime": {
     "end_time": "2021-10-27T14:05:49.015640Z",
     "start_time": "2021-10-27T14:05:48.874647Z"
    }
   },
   "outputs": [
    {
     "data": {
      "text/plain": [
       "<AxesSubplot:title={'center':'Number of People in the U.S Overtime'}>"
      ]
     },
     "execution_count": 69,
     "metadata": {},
     "output_type": "execute_result"
    },
    {
     "data": {
      "image/png": "[encoded data removed]",
      "text/plain": [
       "<Figure size 1440x720 with 1 Axes>"
      ]
     },
     "metadata": {
      "needs_background": "light"
     },
     "output_type": "display_data"
    },
    {
     "data": {
      "application/javascript": "\n            setTimeout(function() {\n                var nbb_cell_id = 69;\n                var nbb_unformatted_code = \"count_person = pd.concat([count_person_female, count_person_male], axis=1)\\n\\ncount_person.plot(\\n    figsize=(20, 10),\\n    title=\\\"Number of People in the U.S Overtime\\\",\\n)\";\n                var nbb_formatted_code = \"count_person = pd.concat([count_person_female, count_person_male], axis=1)\\n\\ncount_person.plot(\\n    figsize=(20, 10),\\n    title=\\\"Number of People in the U.S Overtime\\\",\\n)\";\n                var nbb_cells = Jupyter.notebook.get_cells();\n                for (var i = 0; i < nbb_cells.length; ++i) {\n                    if (nbb_cells[i].input_prompt_number == nbb_cell_id) {\n                        if (nbb_cells[i].get_text() == nbb_unformatted_code) {\n                             nbb_cells[i].set_text(nbb_formatted_code);\n                        }\n                        break;\n                    }\n                }\n            }, 500);\n            ",
      "text/plain": [
       "<IPython.core.display.Javascript object>"
      ]
     },
     "metadata": {},
     "output_type": "display_data"
    }
   ],
   "source": [
    "count_person = pd.concat([count_person_female, count_person_male], axis=1)\n",
    "\n",
    "count_person.plot(\n",
    "    figsize=(20, 10),\n",
    "    title=\"Number of People in the U.S Over Time\",\n",
    ")"
   ]
  },
  {
   "attachments": {},
   "cell_type": "markdown",
   "id": "d525ac6f",
   "metadata": {},
   "source": [
    "#### Number of Robberies in the US Over Time"
   ]
  },
  {
   "cell_type": "code",
   "execution_count": 70,
   "id": "eb5d83f6",
   "metadata": {
    "ExecuteTime": {
     "end_time": "2021-10-27T14:06:40.844638Z",
     "start_time": "2021-10-27T14:06:39.948960Z"
    }
   },
   "outputs": [
    {
     "data": {
      "text/plain": [
       "<AxesSubplot:title={'center':'Number of Robberies in the US Overtime'}>"
      ]
     },
     "execution_count": 70,
     "metadata": {},
     "output_type": "execute_result"
    },
    {
     "data": {
      "image/png": "[encoded data removed]",
      "text/plain": [
       "<Figure size 1440x720 with 1 Axes>"
      ]
     },
     "metadata": {
      "needs_background": "light"
     },
     "output_type": "display_data"
    },
    {
     "data": {
      "application/javascript": "\n            setTimeout(function() {\n                var nbb_cell_id = 70;\n                var nbb_unformatted_code = \"count_robbery = datacommons_pandas.build_time_series(\\n    \\\"country/USA\\\", \\\"Count_CriminalActivities_Robbery\\\"\\n)\\ncount_robbery.index = pd.to_datetime(count_robbery.index)\\ncount_robbery.plot(\\n    figsize=(20, 10),\\n    title=\\\"Number of Robberies in the US Overtime\\\",\\n)\";\n                var nbb_formatted_code = \"count_robbery = datacommons_pandas.build_time_series(\\n    \\\"country/USA\\\", \\\"Count_CriminalActivities_Robbery\\\"\\n)\\ncount_robbery.index = pd.to_datetime(count_robbery.index)\\ncount_robbery.plot(\\n    figsize=(20, 10),\\n    title=\\\"Number of Robberies in the US Overtime\\\",\\n)\";\n                var nbb_cells = Jupyter.notebook.get_cells();\n                for (var i = 0; i < nbb_cells.length; ++i) {\n                    if (nbb_cells[i].input_prompt_number == nbb_cell_id) {\n                        if (nbb_cells[i].get_text() == nbb_unformatted_code) {\n                             nbb_cells[i].set_text(nbb_formatted_code);\n                        }\n                        break;\n                    }\n                }\n            }, 500);\n            ",
      "text/plain": [
       "<IPython.core.display.Javascript object>"
      ]
     },
     "metadata": {},
     "output_type": "display_data"
    }
   ],
   "source": [
    "count_robbery = datacommons_pandas.build_time_series(\n",
    "    \"country/USA\", \"Count_CriminalActivities_Robbery\"\n",
    ")\n",
    "count_robbery.index = pd.to_datetime(count_robbery.index)\n",
    "count_robbery.plot(\n",
    "    figsize=(20, 10),\n",
    "    title=\"Number of Robberies in the US Over Time\",\n",
    ")"
   ]
  },
  {
   "attachments": {},
   "cell_type": "markdown",
   "id": "8a27907d",
   "metadata": {},
   "source": [
    "[Link to Datacommons](https://datacommons.org/)."
   ]
  },
  {
   "attachments": {},
   "cell_type": "markdown",
   "id": "6c6d462c",
   "metadata": {},
   "source": [
    "### Get Google News Using Python"
   ]
  },
  {
   "cell_type": "code",
   "execution_count": null,
   "id": "b17f5f9c",
   "metadata": {
    "ExecuteTime": {
     "end_time": "2022-05-25T13:47:06.478501Z",
     "start_time": "2022-05-25T13:46:57.060430Z"
    },
    "tags": [
     "hide-cell"
    ]
   },
   "outputs": [],
   "source": [
    "!pip install GoogleNews"
   ]
  },
  {
   "attachments": {},
   "cell_type": "markdown",
   "id": "d55252be",
   "metadata": {},
   "source": [
    "If you want to get Google news in Python, use GoogleNews. GoogleNews allows you to get search results for a keyword in a specific time interval."
   ]
  },
  {
   "cell_type": "code",
   "execution_count": 1,
   "id": "892f9df1",
   "metadata": {
    "ExecuteTime": {
     "end_time": "2022-05-25T13:49:50.484006Z",
     "start_time": "2022-05-25T13:49:49.020662Z"
    }
   },
   "outputs": [],
   "source": [
    "from GoogleNews import GoogleNews\n",
    "googlenews = GoogleNews()"
   ]
  },
  {
   "cell_type": "code",
   "execution_count": 2,
   "id": "e76caaad",
   "metadata": {
    "ExecuteTime": {
     "end_time": "2022-05-25T13:49:50.730462Z",
     "start_time": "2022-05-25T13:49:50.667689Z"
    }
   },
   "outputs": [],
   "source": [
    "googlenews.set_time_range('02/01/2022','03/25/2022')"
   ]
  },
  {
   "cell_type": "code",
   "execution_count": 3,
   "id": "b9dff112",
   "metadata": {
    "ExecuteTime": {
     "end_time": "2022-05-25T13:50:07.078796Z",
     "start_time": "2022-05-25T13:50:04.357151Z"
    }
   },
   "outputs": [],
   "source": [
    "googlenews.search('funny')"
   ]
  },
  {
   "cell_type": "code",
   "execution_count": 4,
   "id": "52219322",
   "metadata": {
    "ExecuteTime": {
     "end_time": "2022-05-25T13:50:09.006752Z",
     "start_time": "2022-05-25T13:50:08.916850Z"
    }
   },
   "outputs": [
    {
     "data": {
      "text/plain": [
       "[{'title': 'Hagan has fastest NHRA Funny Car run in 4 years',\n",
       "  'media': 'ESPN',\n",
       "  'date': 'Feb 26, 2022',\n",
       "  'datetime': datetime.datetime(2022, 2, 26, 0, 0),\n",
       "  'desc': '-- Matt Hagan made the quickest Funny Car run in four years Saturday, \\ngiving the new Tony Stewart Racing NHRA team its first No. 1 qualifier and \\nsetting the...',\n",
       "  'link': 'https://www.espn.com/racing/story/_/id/33381149/matt-hagan-fastest-nhra-funny-car-pass-4-years',\n",
       "  'img': 'data:image/gif;base64,R0lGODlhAQABAIAAAP///////yH5BAEKAAEALAAAAAABAAEAAAICTAEAOw=='},\n",
       " {'title': 'Full fields in Top Fuel, Funny Car, and Pro Stock promise fast ...',\n",
       "  'media': 'NHRA',\n",
       "  'date': 'Feb 10, 2022',\n",
       "  'datetime': datetime.datetime(2022, 2, 10, 0, 0),\n",
       "  'desc': 'The pits at Auto Club Raceway at Pomona will be packed with NHRA Camping \\nWorld Drag Racing Series teams for the 2022 season-opening Lucas Oil NHRA...',\n",
       "  'link': 'https://www.nhra.com/news/2022/full-fields-top-fuel-funny-car-and-pro-stock-promise-fast-start-winternationals',\n",
       "  'img': 'data:image/gif;base64,R0lGODlhAQABAIAAAP///////yH5BAEKAAEALAAAAAABAAEAAAICTAEAOw=='},\n",
       " {'title': 'Full Cast Set for Broadway Revival of Funny Girl, Starring ...',\n",
       "  'media': 'Playbill',\n",
       "  'date': 'Feb 7, 2022',\n",
       "  'datetime': datetime.datetime(2022, 2, 7, 0, 0),\n",
       "  'desc': 'Among those newly added to the company are Peter Francis James, Ephie \\nAardema, Martin Moran, and Julie Benko. By Margaret Hall. February 07, 2022.',\n",
       "  'link': 'https://playbill.com/article/full-cast-set-for-broadway-revival-of-funny-girl-starring-beanie-feldstein-and-ramin-karimloo',\n",
       "  'img': 'data:image/gif;base64,R0lGODlhAQABAIAAAP///////yH5BAEKAAEALAAAAAABAAEAAAICTAEAOw=='},\n",
       " {'title': 'Robert Hight tops Funny Car qualifying at season-opening Lucas Oil NHRA Winternationals',\n",
       "  'media': 'ESPN',\n",
       "  'date': 'Feb 18, 2022',\n",
       "  'datetime': datetime.datetime(2022, 2, 18, 0, 0),\n",
       "  'desc': \"-- Robert Hight topped Funny Car qualifying Friday night in the NHRA \\nCamping World Drag Racing Series' season-opening Lucas Oil NHRA \\nWinternationals. Hight, a...\",\n",
       "  'link': 'https://www.espn.com/racing/story/_/id/33324340/robert-hight-tops-funny-car-qualifying-season-opening-lucas-oil-nhra-winternationals',\n",
       "  'img': 'data:image/gif;base64,R0lGODlhAQABAIAAAP///////yH5BAEKAAEALAAAAAABAAEAAAICTAEAOw=='},\n",
       " {'title': 'New NHRA Funny Car Team Owner Ron Capps Throws ...',\n",
       "  'media': 'Autoweek',\n",
       "  'date': 'Feb 21, 2022',\n",
       "  'datetime': datetime.datetime(2022, 2, 21, 0, 0),\n",
       "  'desc': 'Defending Funny Car champion enters season without automaker deal after \\nlong-time partner turns him down. By Susan Wade. Feb 21, 2022.',\n",
       "  'link': 'https://www.autoweek.com/racing/nhra/a39160639/ron-capps-throws-dodgemopar-under-bus/',\n",
       "  'img': 'data:image/gif;base64,R0lGODlhAQABAIAAAP///////yH5BAEKAAEALAAAAAABAAEAAAICTAEAOw=='},\n",
       " {'title': 'VIDEO: Beanie Feldstein, Ramin Karimloo, and More in ...',\n",
       "  'media': 'Broadway World',\n",
       "  'date': 'ar 9, 2022',\n",
       "  'datetime': None,\n",
       "  'desc': 'The highly anticipated Broadway revival of Funny Girl is beginning \\nperformances this month! The musical will have its first preview at the \\nAugust Wilson on...',\n",
       "  'link': 'https://www.broadwayworld.com/article/VIDEO-Beanie-Feldstein-Ramin-Karimloo-and-More-in-Rehearsal-For-FUNNY-GIRL-20220309',\n",
       "  'img': 'data:image/gif;base64,R0lGODlhAQABAIAAAP///////yH5BAEKAAEALAAAAAABAAEAAAICTAEAOw=='},\n",
       " {'title': 'Watch: The Funny Girl Sitzprobe, With Beanie Feldstein and ...',\n",
       "  'media': 'TheaterMania',\n",
       "  'date': 'ar 24, 2022',\n",
       "  'datetime': None,\n",
       "  'desc': \"Funny Girl is headed back to Broadway. Here is a first look at the cast's \\nfirst orchestra rehearsal, with snippets of stars Beanie Feldstein, Ramin \\nKarimloo...\",\n",
       "  'link': 'https://www.theatermania.com/broadway/news/first-look-the-funny-girl-sitzprobe-with-beanie-fe_93550.html',\n",
       "  'img': 'data:image/gif;base64,R0lGODlhAQABAIAAAP///////yH5BAEKAAEALAAAAAABAAEAAAICTAEAOw=='},\n",
       " {'title': 'Stephen Colbert, Funny or Die Prep Primetime Pickleball Special for CBS',\n",
       "  'media': 'The Hollywood Reporter',\n",
       "  'date': 'ar 15, 2022',\n",
       "  'datetime': None,\n",
       "  'desc': 'Stephen Colbert, Funny or Die Prep Primetime Pickleball Special for CBS. \\nThe special, \\'Pickled,\\' will see celebrity competitors vie for the \"Golden \\nGherkin.\".',\n",
       "  'link': 'https://www.hollywoodreporter.com/tv/tv-news/stephen-colbert-funny-or-die-primetime-pickleball-cbs-1235111617/',\n",
       "  'img': 'data:image/gif;base64,R0lGODlhAQABAIAAAP///////yH5BAEKAAEALAAAAAABAAEAAAICTAEAOw=='},\n",
       " {'title': 'Randy Meyer Racing to debut injected nitro Funny Car at ...',\n",
       "  'media': 'NHRA',\n",
       "  'date': 'ar 22, 2022',\n",
       "  'datetime': None,\n",
       "  'desc': \"The Funny Car Chaos deal is becoming more popular here in the Midwest, so \\nit's an opportunity for us to go race close to home, have some fun, and \\ntake on a new...\",\n",
       "  'link': 'https://www.nhra.com/news/2022/randy-meyer-racing-debut-injected-nitro-funny-car-funny-car-chaos-event',\n",
       "  'img': 'data:image/gif;base64,R0lGODlhAQABAIAAAP///////yH5BAEKAAEALAAAAAABAAEAAAICTAEAOw=='},\n",
       " {'title': 'Laurie Zaleski talks about her book “Funny Farm”',\n",
       "  'media': 'The Washington Post',\n",
       "  'date': 'Feb 25, 2022',\n",
       "  'datetime': datetime.datetime(2022, 2, 25, 0, 0),\n",
       "  'desc': \"This is the Funny Farm, double-entendre intended: “Because it's full of \\nanimals, and fit for lunatics,” Zaleski jokes of the sanctuary that she \\nbuilt here,...\",\n",
       "  'link': 'https://www.washingtonpost.com/books/2022/02/25/funny-farm-rescue-animals/',\n",
       "  'img': 'data:image/gif;base64,R0lGODlhAQABAIAAAP///////yH5BAEKAAEALAAAAAABAAEAAAICTAEAOw=='}]"
      ]
     },
     "execution_count": 4,
     "metadata": {},
     "output_type": "execute_result"
    }
   ],
   "source": [
    "googlenews.results()"
   ]
  },
  {
   "attachments": {},
   "cell_type": "markdown",
   "id": "bc91a4ff",
   "metadata": {},
   "source": [
    "[Link to GoogleNews](https://pypi.org/project/GoogleNews/)."
   ]
  },
  {
   "attachments": {},
   "cell_type": "markdown",
   "id": "e6a873db",
   "metadata": {},
   "source": [
    "### people_also_ask: Python Wrapper for Google People Also Ask"
   ]
  },
  {
   "cell_type": "code",
   "execution_count": null,
   "id": "beed6403",
   "metadata": {
    "tags": [
     "hide-cell"
    ]
   },
   "outputs": [],
   "source": [
    "!pip install people_also_ask "
   ]
  },
  {
   "attachments": {},
   "cell_type": "markdown",
   "id": "60d6724c",
   "metadata": {},
   "source": [
    "If you want to use Google People Also Ask in Python, try the `people_also_ask` library. "
   ]
  },
  {
   "cell_type": "code",
   "execution_count": 5,
   "id": "40c89827",
   "metadata": {},
   "outputs": [
    {
     "data": {
      "text/plain": [
       "['What exactly data science do?',\n",
       " 'Is data science a good career?',\n",
       " 'What are the 3 main concepts of data science?',\n",
       " 'Is data science a easy career?']"
      ]
     },
     "execution_count": 5,
     "metadata": {},
     "output_type": "execute_result"
    }
   ],
   "source": [
    "import people_also_ask as ask\n",
    "\n",
    "ask.get_related_questions('data science')"
   ]
  },
  {
   "cell_type": "code",
   "execution_count": 6,
   "id": "fc05d60b",
   "metadata": {},
   "outputs": [
    {
     "data": {
      "text/plain": [
       "{'has_answer': True,\n",
       " 'question': 'Is data science a easy career?',\n",
       " 'related_questions': ['Is becoming a data scientist easy?',\n",
       "  'Is data science a stressful career?',\n",
       "  'Is Python for data science hard?',\n",
       "  'Do data scientists code a lot?'],\n",
       " 'response': 'The short answer to the above question is a big NO! Data Science is hard to learn is primarily a misconception that beginners have during their initial days. As they discover the unique domain of data science more, they realise that data science is just another field of study that can be learned by working hard.Oct 4, 2022',\n",
       " 'heading': 'The short answer to the above question is a big NO! Data Science is hard to learn is primarily a misconception that beginners have during their initial days. As they discover the unique domain of data science more, they realise that data science is just another field of study that can be learned by working hard.Oct 4, 2022',\n",
       " 'title': 'Is Data Science Hard to Learn? (Answer: NO!) - ProjectPro',\n",
       " 'link': 'https://www.projectpro.io/article/is-data-science-hard-to-learn/522#:~:text=The%20short%20answer%20to%20the,be%20learned%20by%20working%20hard.',\n",
       " 'displayed_link': 'https://www.projectpro.io › article › is-data-science-hard-t...',\n",
       " 'snippet_str': 'The short answer to the above question is a big NO! Data Science is hard to learn is primarily a misconception that beginners have during their initial days. As they discover the unique domain of data science more, they realise that data science is just another field of study that can be learned by working hard.Oct 4, 2022\\nhttps://www.projectpro.io › article › is-data-science-hard-t...\\nhttps://www.projectpro.io/article/is-data-science-hard-to-learn/522#:~:text=The%20short%20answer%20to%20the,be%20learned%20by%20working%20hard.\\nIs Data Science Hard to Learn? (Answer: NO!) - ProjectPro',\n",
       " 'snippet_data': None,\n",
       " 'date': None,\n",
       " 'snippet_type': 'Definition Featured Snippet',\n",
       " 'snippet_str_body': '',\n",
       " 'raw_text': 'Featured snippet from the web\\nThe short answer to the above question is a big NO! \\nData Science is hard to learn\\n is primarily a misconception that beginners have during their initial days. As they discover the unique domain of data science more, they realise that data science is just another field of study that can be learned by working hard.\\nOct 4, 2022\\nIs Data Science Hard to Learn? (Answer: NO!) - ProjectPro\\nhttps://www.projectpro.io\\n › article › is-data-science-hard-t...'}"
      ]
     },
     "execution_count": 6,
     "metadata": {},
     "output_type": "execute_result"
    }
   ],
   "source": [
    "ask.get_answer('Is data science a easy career?')"
   ]
  },
  {
   "attachments": {},
   "cell_type": "markdown",
   "id": "0aa5a096",
   "metadata": {},
   "source": [
    "[Link to people-also-ask](https://github.com/lagranges/people_also_ask)."
   ]
  },
  {
   "attachments": {},
   "cell_type": "markdown",
   "id": "e4b3eb7e",
   "metadata": {},
   "source": [
    "### Scrape Facebook Public Pages Without an API Key"
   ]
  },
  {
   "cell_type": "code",
   "execution_count": null,
   "id": "6c204afb",
   "metadata": {
    "tags": [
     "hide-cell"
    ]
   },
   "outputs": [],
   "source": [
    "pip install facebook-scraper"
   ]
  },
  {
   "attachments": {},
   "cell_type": "markdown",
   "id": "351abb37",
   "metadata": {},
   "source": [
    "If you want to scrape Facebook public pages without an API key, try facebook-scraper.\n",
    "\n",
    "With facebook-scraper, you can scrape posts by a user and the profile of a user or a group  "
   ]
  },
  {
   "cell_type": "code",
   "execution_count": 9,
   "id": "268821da",
   "metadata": {},
   "outputs": [
    {
     "data": {
      "text/plain": [
       "{'id': '2685753618191566',\n",
       " 'name': 'Dachshund Owners',\n",
       " 'type': 'Public group',\n",
       " 'members': 128635,\n",
       " 'about': \"Hello, Welcome to the Dachshund Owners group.\\nPost pictures/videos, share stories, ask advise from other Dachshund lovers.\\nYou can post YOUR videos / pics of your Dachshund if they’ve got that viral element, your dog will be seen by millions of people around the globe.\\n\\n* RULES AND POSTING GUIDELINES\\n✅ Post original contents that you created ONLY\\n✅ Post with a short description/story about the content\\n✅ Include if you want to be credited or not\\n✅ Be nice to other members\\n❌ No aggressive behavior\\n❌ No backyard breeding\\n❌ No spam\\n❌ No unrelated content or video\\n\\n🐾 Selling dogs are PROHIBITED. Any transactions made with our group from this point forward will be at your own risk.\\n🐾No Promotions - include(s) SELLING/PROMOTING ITEM(s) Fishing potential buyers. We are just protecting each and everyone from scams!\\n\\n🛍️ Hello, Sir or Lady.\\nThe Dachshund Owners group administrator is speaking.\\nWe appreciate you being here. We want to let you know that managing spam and other related tasks is difficult with so many posts to approve. It's a very time-consuming task, and that's why we need your support. Please buy a T-shirt from us so we can keep the group running and providing awesome value! You can get a T-shirt, mug, Canvas, and other items from us that can be customized for Dog lovers. On our Store, you may check out our customized campaigns. Thank You! 😊\\n🛒 Store Link: https://www.pawowners.com/collectio...\"}"
      ]
     },
     "execution_count": 9,
     "metadata": {},
     "output_type": "execute_result"
    }
   ],
   "source": [
    "from facebook_scraper import get_profile, get_group_info\n",
    "\n",
    "get_group_info(\"thedachshundowners\")"
   ]
  },
  {
   "cell_type": "code",
   "execution_count": 10,
   "id": "d2f57108",
   "metadata": {},
   "outputs": [
    {
     "data": {
      "text/plain": [
       "{'Friend_count': None,\n",
       " 'Follower_count': None,\n",
       " 'Following_count': None,\n",
       " 'cover_photo': 'https://scontent-ord5-1.xx.fbcdn.net/v/t31.18172-8/19575079_10103832396388711_8894816584589808440_o.jpg?stp=cp0_dst-jpg_e15_fr_q65&_nc_cat=1&ccb=1-7&_nc_sid=ed5ff1&_nc_ohc=Z5jCEAhNv3AAX9ihcdv&_nc_ht=scontent-ord5-1.xx&oh=00_AfCTBrP26zWK0onpRfKbpJLRlFDwWLmlv1_XlkeVLkE_yw&oe=63CA953D',\n",
       " 'profile_picture': 'https://scontent-ord5-1.xx.fbcdn.net/v/t39.30808-1/312257846_10114737758665291_6588360857015169674_n.jpg?stp=cp0_dst-jpg_e15_q65_s120x120&_nc_cat=1&ccb=1-7&_nc_sid=dbb9e7&_nc_ohc=x2_MUzaxC2cAX9w6LZ6&_nc_ht=scontent-ord5-1.xx&oh=00_AfDiKcBBDdzCymHXd-yjp2stit_VGPQRm9oeibSyDFG8BA&oe=63A81F9E',\n",
       " 'id': '4',\n",
       " 'Name': 'Mark Zuckerberg',\n",
       " 'Work': 'Chan Zuckerberg Initiative\\nDecember 1, 2015 - Present\\nMeta\\nFounder and CEO\\nFebruary 4, 2004 - Present\\nPalo Alto, California\\nBringing the world closer together.',\n",
       " 'Education': 'Harvard University\\nComputer Science and Psychology\\nAugust 30, 2002 - April 30, 2004\\nPhillips Exeter Academy\\nClassics\\nClass of 2002\\nArdsley High School\\nHigh school\\nAugust 1998 - May 2000',\n",
       " 'Places lived': [{'link': '/profile.php?id=104022926303756&refid=17',\n",
       "   'text': 'Palo Alto, California',\n",
       "   'type': 'Current city'},\n",
       "  {'link': '/profile.php?id=105506396148790&refid=17',\n",
       "   'text': 'Dobbs Ferry, New York',\n",
       "   'type': 'Hometown'}],\n",
       " 'About': \"I'm trying to make the world a more open place.\",\n",
       " 'Favorite quotes': '\"Fortune favors the bold.\"\\n- Virgil, Aeneid X.284\\n\\n\"All children are artists. The problem is how to remain an artist once you grow up.\"\\n- Pablo Picasso\\n\\n\"Make things as simple as possible but no simpler.\"\\n- Albert Einstein'}"
      ]
     },
     "execution_count": 10,
     "metadata": {},
     "output_type": "execute_result"
    }
   ],
   "source": [
    "get_profile(\"zuck\")"
   ]
  },
  {
   "attachments": {},
   "cell_type": "markdown",
   "id": "f74389b3",
   "metadata": {},
   "source": [
    "[Link to facebook-scraper](https://github.com/kevinzg/facebook-scraper)."
   ]
  }
 ],
 "metadata": {
  "celltoolbar": "Tags",
  "hide_input": false,
  "kernelspec": {
   "display_name": "Python 3.9.15 ('venv': venv)",
   "language": "python",
   "name": "python3"
  },
  "language_info": {
   "codemirror_mode": {
    "name": "ipython",
    "version": 3
   },
   "file_extension": ".py",
   "mimetype": "text/x-python",
   "name": "python",
   "nbconvert_exporter": "python",
   "pygments_lexer": "ipython3",
   "version": "3.9.6"
  },
  "toc": {
   "base_numbering": 1,
   "nav_menu": {},
   "number_sections": true,
   "sideBar": true,
   "skip_h1_title": false,
   "title_cell": "Table of Contents",
   "title_sidebar": "Contents",
   "toc_cell": false,
   "toc_position": {},
   "toc_section_display": true,
   "toc_window_display": false
  },
  "vscode": {
   "interpreter": {
    "hash": "478cc5ef0f338997730d9103983e193fe6c3c8e58abb3c8c0481de8a2f51bddc"
   }
  }
 },
 "nbformat": 4,
 "nbformat_minor": 5
}
