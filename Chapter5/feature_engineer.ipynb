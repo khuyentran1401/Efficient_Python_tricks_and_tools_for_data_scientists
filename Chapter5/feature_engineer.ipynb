{
 "cells": [
  {
   "attachments": {},
   "cell_type": "markdown",
   "metadata": {},
   "source": [
    "## Feature Engineer"
   ]
  },
  {
   "attachments": {},
   "cell_type": "markdown",
   "metadata": {},
   "source": [
    "![](../img/feature_engineer.png)"
   ]
  },
  {
   "attachments": {},
   "cell_type": "markdown",
   "metadata": {},
   "source": [
    "This section covers some libraries for feature engineering. "
   ]
  },
  {
   "attachments": {},
   "cell_type": "markdown",
   "metadata": {},
   "source": [
    "### Split Data in a Stratified Fashion in scikit-learn"
   ]
  },
  {
   "attachments": {},
   "cell_type": "markdown",
   "metadata": {},
   "source": [
    "Normally, after using scikit-learn's `train_test_split`, the proportion of values in the sample will be different from the proportion of values in the entire dataset. "
   ]
  },
  {
   "cell_type": "code",
   "execution_count": 30,
   "metadata": {},
   "outputs": [
    {
     "data": {
      "text/plain": [
       "array([50, 50, 50])"
      ]
     },
     "execution_count": 30,
     "metadata": {},
     "output_type": "execute_result"
    }
   ],
   "source": [
    "from sklearn.datasets import load_iris\n",
    "from sklearn.model_selection import train_test_split\n",
    "import numpy as np\n",
    "\n",
    "X, y = load_iris(return_X_y=True)\n",
    "np.bincount(y)"
   ]
  },
  {
   "cell_type": "code",
   "execution_count": 40,
   "metadata": {},
   "outputs": [],
   "source": [
    "X_train, X_test, y_train, y_test = train_test_split(X, y, random_state=0)"
   ]
  },
  {
   "cell_type": "code",
   "execution_count": 41,
   "metadata": {},
   "outputs": [
    {
     "data": {
      "text/plain": [
       "array([37, 34, 41])"
      ]
     },
     "execution_count": 41,
     "metadata": {},
     "output_type": "execute_result"
    }
   ],
   "source": [
    "# Get count of each class in the train set\n",
    "\n",
    "np.bincount(y_train)"
   ]
  },
  {
   "cell_type": "code",
   "execution_count": 42,
   "metadata": {},
   "outputs": [
    {
     "data": {
      "text/plain": [
       "array([13, 16,  9])"
      ]
     },
     "execution_count": 42,
     "metadata": {},
     "output_type": "execute_result"
    }
   ],
   "source": [
    "# Get count of each class in the test set\n",
    "\n",
    "np.bincount(y_test)"
   ]
  },
  {
   "attachments": {},
   "cell_type": "markdown",
   "metadata": {},
   "source": [
    "If you want to keep the proportion of classes in the sample the same as the proportion of classes in the entire dataset, add `stratify=y`. "
   ]
  },
  {
   "cell_type": "code",
   "execution_count": 37,
   "metadata": {},
   "outputs": [],
   "source": [
    "X_train, X_test, y_train, y_test = train_test_split(X, y, random_state=0, stratify=y)"
   ]
  },
  {
   "cell_type": "code",
   "execution_count": 38,
   "metadata": {},
   "outputs": [
    {
     "data": {
      "text/plain": [
       "array([37, 37, 38])"
      ]
     },
     "execution_count": 38,
     "metadata": {},
     "output_type": "execute_result"
    }
   ],
   "source": [
    "np.bincount(y_train)"
   ]
  },
  {
   "cell_type": "code",
   "execution_count": 39,
   "metadata": {},
   "outputs": [
    {
     "data": {
      "text/plain": [
       "array([13, 13, 12])"
      ]
     },
     "execution_count": 39,
     "metadata": {},
     "output_type": "execute_result"
    }
   ],
   "source": [
    "np.bincount(y_test)"
   ]
  },
  {
   "attachments": {},
   "cell_type": "markdown",
   "metadata": {},
   "source": [
    "### Strategy to Prevent Data Leakage in Time-correlated Datasets"
   ]
  },
  {
   "attachments": {},
   "cell_type": "markdown",
   "metadata": {},
   "source": [
    "If you randomly split time-correlated datasets for machine learning models, your training set may contain future transactions, leading to biased predictions.\n",
    "\n",
    "To avoid data leakage in time-correlated datasets, split the data by time."
   ]
  },
  {
   "cell_type": "code",
   "execution_count": 14,
   "metadata": {},
   "outputs": [],
   "source": [
    "import pandas as pd\n",
    "from datetime import datetime \n",
    "\n",
    "# Create the example dataset\n",
    "data = {'customer_id': [1, 2, 3, 4, 5],\n",
    "        'amount': [10.00, 20.00, 15.00, 25.00, 30.00],\n",
    "        'date': ['2021-01-01', '2021-01-02', '2021-01-03', '2021-01-04', '2021-01-05']}\n",
    "df = pd.DataFrame(data)\n",
    "\n",
    "# Convert the date column to datetime format\n",
    "df['date'] = pd.to_datetime(df['date'])"
   ]
  },
  {
   "cell_type": "code",
   "execution_count": 17,
   "metadata": {},
   "outputs": [
    {
     "name": "stdout",
     "output_type": "stream",
     "text": [
      "Train data:\n",
      "   customer_id  amount       date\n",
      "2            3    15.0 2021-01-03\n",
      "0            1    10.0 2021-01-01\n",
      "3            4    25.0 2021-01-04\n",
      "Test data:\n",
      "   customer_id  amount       date\n",
      "1            2    20.0 2021-01-02\n",
      "4            5    30.0 2021-01-05\n"
     ]
    }
   ],
   "source": [
    "from sklearn.model_selection import train_test_split\n",
    "\n",
    "# Split the data randomly into training and test sets\n",
    "train_data, test_data = train_test_split(df, test_size=0.3, random_state=42)\n",
    "\n",
    "print(f'Train data:\\n{train_data}')\n",
    "print(f'Test data:\\n{test_data}')"
   ]
  },
  {
   "cell_type": "code",
   "execution_count": 16,
   "metadata": {},
   "outputs": [
    {
     "name": "stdout",
     "output_type": "stream",
     "text": [
      "Train data:\n",
      "   customer_id  amount       date\n",
      "0            1    10.0 2021-01-01\n",
      "1            2    20.0 2021-01-02\n",
      "2            3    15.0 2021-01-03\n",
      "Test data:\n",
      "   customer_id  amount       date\n",
      "3            4    25.0 2021-01-04\n",
      "4            5    30.0 2021-01-05\n"
     ]
    }
   ],
   "source": [
    "# Set the cutoff date\n",
    "cutoff_date = datetime(2021, 1, 4)\n",
    "\n",
    "# Split the data into training and test sets by time\n",
    "train_data = df[df['date'] < cutoff_date]\n",
    "test_data = df[df['date'] >= cutoff_date]\n",
    "\n",
    "print(f'Train data:\\n{train_data}')\n",
    "print(f'Test data:\\n{test_data}')"
   ]
  },
  {
   "attachments": {},
   "cell_type": "markdown",
   "metadata": {},
   "source": [
    "### Enhancing Data Handling with scikit-learn's DataFrame Support"
   ]
  },
  {
   "attachments": {},
   "cell_type": "markdown",
   "metadata": {},
   "source": [
    "By default, scikit-learn transformers return a NumPy array. This can pose a challenge if you require the data in a pandas DataFrame for subsequent data processing steps.\n",
    "\n",
    "Luckily, as of scikit-learn version 1.3.2, you can use the `set_output` method to obtain the results as a pandas DataFrame."
   ]
  },
  {
   "cell_type": "code",
   "execution_count": 65,
   "metadata": {},
   "outputs": [],
   "source": [
    "from sklearn.preprocessing import StandardScaler\n",
    "from sklearn.impute import SimpleImputer\n",
    "from sklearn.pipeline import Pipeline\n",
    "import pandas as pd\n",
    "\n",
    "# Create a small pandas DataFrame\n",
    "data = {\n",
    "    \"age\": [25, 30, None, 35],\n",
    "    \"income\": [50000, 60000, 70000, None],\n",
    "}\n",
    "df = pd.DataFrame(data)\n"
   ]
  },
  {
   "cell_type": "code",
   "execution_count": 66,
   "metadata": {},
   "outputs": [
    {
     "data": {
      "text/plain": [
       "array([[-1.22474487, -1.22474487],\n",
       "       [ 0.        ,  0.        ],\n",
       "       [        nan,  1.22474487],\n",
       "       [ 1.22474487,         nan]])"
      ]
     },
     "execution_count": 66,
     "metadata": {},
     "output_type": "execute_result"
    }
   ],
   "source": [
    "scaler = StandardScaler()\n",
    "scaler.fit_transform(df)"
   ]
  },
  {
   "cell_type": "code",
   "execution_count": 69,
   "metadata": {},
   "outputs": [
    {
     "name": "stdout",
     "output_type": "stream",
     "text": [
      "        age    income\n",
      "0 -1.224745 -1.224745\n",
      "1  0.000000  0.000000\n",
      "2       NaN  1.224745\n",
      "3  1.224745       NaN\n"
     ]
    }
   ],
   "source": [
    "scaler = StandardScaler().set_output(transform='pandas')\n",
    "print(scaler.fit_transform(df))"
   ]
  },
  {
   "attachments": {},
   "cell_type": "markdown",
   "metadata": {},
   "source": [
    "This method is not limited to individual transformers but can also be applied within a scikit-learn pipeline."
   ]
  },
  {
   "cell_type": "code",
   "execution_count": 74,
   "metadata": {},
   "outputs": [
    {
     "name": "stdout",
     "output_type": "stream",
     "text": [
      "        age    income\n",
      "0 -1.414214 -1.414214\n",
      "1  0.000000  0.000000\n",
      "2  0.000000  1.414214\n",
      "3  1.414214  0.000000\n"
     ]
    }
   ],
   "source": [
    "# Create a pipeline with two transformers\n",
    "pipeline = Pipeline(\n",
    "    [(\"imputer\", SimpleImputer(strategy=\"mean\")), (\"scaler\", StandardScaler())]\n",
    ").set_output(transform=\"pandas\")\n",
    "\n",
    "# Fit and transform the DataFrame using the pipeline\n",
    "print(pipeline.fit_transform(df))\n"
   ]
  },
  {
   "attachments": {},
   "cell_type": "markdown",
   "metadata": {},
   "source": [
    "### Drop Correlated Features"
   ]
  },
  {
   "cell_type": "code",
   "execution_count": null,
   "metadata": {
    "ExecuteTime": {
     "end_time": "2021-11-26T14:01:38.560511Z",
     "start_time": "2021-11-26T14:01:33.638327Z"
    },
    "tags": [
     "hide-cell"
    ]
   },
   "outputs": [],
   "source": [
    "!pip install feature_engine "
   ]
  },
  {
   "attachments": {},
   "cell_type": "markdown",
   "metadata": {},
   "source": [
    "If you want to remove the correlated variables from a dataframe, use `feature_engine.DropCorrelatedFeatures`. "
   ]
  },
  {
   "cell_type": "code",
   "execution_count": 22,
   "metadata": {
    "ExecuteTime": {
     "end_time": "2021-11-26T14:39:16.566622Z",
     "start_time": "2021-11-26T14:39:16.525385Z"
    }
   },
   "outputs": [
    {
     "data": {
      "application/javascript": "\n            setTimeout(function() {\n                var nbb_cell_id = 22;\n                var nbb_unformatted_code = \"import pandas as pd\\nfrom sklearn.datasets import make_classification\\nfrom feature_engine.selection import DropCorrelatedFeatures\\n\\n# make dataframe with some correlated variables\\ndef make_data():\\n    X, y = make_classification(n_samples=1000,\\n                           n_features=6,\\n                           n_redundant=3,\\n                           n_clusters_per_class=1,\\n                           class_sep=2,\\n                           random_state=0)\\n\\n    # trasform arrays into pandas df and series\\n    colnames = ['var_'+str(i) for i in range(6)]\\n    X = pd.DataFrame(X, columns =colnames)\\n    return X\\n\\nX = make_data()\";\n                var nbb_formatted_code = \"import pandas as pd\\nfrom sklearn.datasets import make_classification\\nfrom feature_engine.selection import DropCorrelatedFeatures\\n\\n# make dataframe with some correlated variables\\ndef make_data():\\n    X, y = make_classification(\\n        n_samples=1000,\\n        n_features=6,\\n        n_redundant=3,\\n        n_clusters_per_class=1,\\n        class_sep=2,\\n        random_state=0,\\n    )\\n\\n    # trasform arrays into pandas df and series\\n    colnames = [\\\"var_\\\" + str(i) for i in range(6)]\\n    X = pd.DataFrame(X, columns=colnames)\\n    return X\\n\\n\\nX = make_data()\";\n                var nbb_cells = Jupyter.notebook.get_cells();\n                for (var i = 0; i < nbb_cells.length; ++i) {\n                    if (nbb_cells[i].input_prompt_number == nbb_cell_id) {\n                        if (nbb_cells[i].get_text() == nbb_unformatted_code) {\n                             nbb_cells[i].set_text(nbb_formatted_code);\n                        }\n                        break;\n                    }\n                }\n            }, 500);\n            ",
      "text/plain": [
       "<IPython.core.display.Javascript object>"
      ]
     },
     "metadata": {},
     "output_type": "display_data"
    }
   ],
   "source": [
    "import pandas as pd\n",
    "from sklearn.datasets import make_classification\n",
    "from feature_engine.selection import DropCorrelatedFeatures\n",
    "\n",
    "# make dataframe with some correlated variables\n",
    "X, y = make_classification(\n",
    "        n_samples=1000,\n",
    "        n_features=6,\n",
    "        n_redundant=3,\n",
    "        n_clusters_per_class=1,\n",
    "        class_sep=2,\n",
    "        random_state=0,\n",
    "    )\n",
    "\n",
    "# trabsform arrays into pandas df and series\n",
    "colnames = [\"var_\" + str(i) for i in range(6)]\n",
    "X = pd.DataFrame(X, columns=colnames)"
   ]
  },
  {
   "cell_type": "code",
   "execution_count": 23,
   "metadata": {
    "ExecuteTime": {
     "end_time": "2021-11-26T14:39:18.295218Z",
     "start_time": "2021-11-26T14:39:18.279783Z"
    }
   },
   "outputs": [
    {
     "data": {
      "text/plain": [
       "Index(['var_0', 'var_1', 'var_2', 'var_3', 'var_4', 'var_5'], dtype='object')"
      ]
     },
     "execution_count": 23,
     "metadata": {},
     "output_type": "execute_result"
    },
    {
     "data": {
      "application/javascript": "\n            setTimeout(function() {\n                var nbb_cell_id = 23;\n                var nbb_unformatted_code = \"X.columns\";\n                var nbb_formatted_code = \"X.columns\";\n                var nbb_cells = Jupyter.notebook.get_cells();\n                for (var i = 0; i < nbb_cells.length; ++i) {\n                    if (nbb_cells[i].input_prompt_number == nbb_cell_id) {\n                        if (nbb_cells[i].get_text() == nbb_unformatted_code) {\n                             nbb_cells[i].set_text(nbb_formatted_code);\n                        }\n                        break;\n                    }\n                }\n            }, 500);\n            ",
      "text/plain": [
       "<IPython.core.display.Javascript object>"
      ]
     },
     "metadata": {},
     "output_type": "display_data"
    }
   ],
   "source": [
    "X.columns"
   ]
  },
  {
   "cell_type": "code",
   "execution_count": 28,
   "metadata": {
    "ExecuteTime": {
     "end_time": "2021-11-26T14:46:16.976588Z",
     "start_time": "2021-11-26T14:46:16.944568Z"
    }
   },
   "outputs": [
    {
     "data": {
      "text/html": [
       "<div>\n",
       "<style scoped>\n",
       "    .dataframe tbody tr th:only-of-type {\n",
       "        vertical-align: middle;\n",
       "    }\n",
       "\n",
       "    .dataframe tbody tr th {\n",
       "        vertical-align: top;\n",
       "    }\n",
       "\n",
       "    .dataframe thead th {\n",
       "        text-align: right;\n",
       "    }\n",
       "</style>\n",
       "<table border=\"1\" class=\"dataframe\">\n",
       "  <thead>\n",
       "    <tr style=\"text-align: right;\">\n",
       "      <th></th>\n",
       "      <th>var_0</th>\n",
       "      <th>var_1</th>\n",
       "      <th>var_2</th>\n",
       "    </tr>\n",
       "  </thead>\n",
       "  <tbody>\n",
       "    <tr>\n",
       "      <th>var_0</th>\n",
       "      <td>1.000000</td>\n",
       "      <td>0.938936</td>\n",
       "      <td>0.874845</td>\n",
       "    </tr>\n",
       "    <tr>\n",
       "      <th>var_1</th>\n",
       "      <td>0.938936</td>\n",
       "      <td>1.000000</td>\n",
       "      <td>0.654745</td>\n",
       "    </tr>\n",
       "    <tr>\n",
       "      <th>var_2</th>\n",
       "      <td>0.874845</td>\n",
       "      <td>0.654745</td>\n",
       "      <td>1.000000</td>\n",
       "    </tr>\n",
       "  </tbody>\n",
       "</table>\n",
       "</div>"
      ],
      "text/plain": [
       "          var_0     var_1     var_2\n",
       "var_0  1.000000  0.938936  0.874845\n",
       "var_1  0.938936  1.000000  0.654745\n",
       "var_2  0.874845  0.654745  1.000000"
      ]
     },
     "execution_count": 28,
     "metadata": {},
     "output_type": "execute_result"
    },
    {
     "data": {
      "application/javascript": "\n            setTimeout(function() {\n                var nbb_cell_id = 28;\n                var nbb_unformatted_code = \"X[[\\\"var_0\\\", \\\"var_1\\\", \\\"var_2\\\"]].corr()\";\n                var nbb_formatted_code = \"X[[\\\"var_0\\\", \\\"var_1\\\", \\\"var_2\\\"]].corr()\";\n                var nbb_cells = Jupyter.notebook.get_cells();\n                for (var i = 0; i < nbb_cells.length; ++i) {\n                    if (nbb_cells[i].input_prompt_number == nbb_cell_id) {\n                        if (nbb_cells[i].get_text() == nbb_unformatted_code) {\n                             nbb_cells[i].set_text(nbb_formatted_code);\n                        }\n                        break;\n                    }\n                }\n            }, 500);\n            ",
      "text/plain": [
       "<IPython.core.display.Javascript object>"
      ]
     },
     "metadata": {},
     "output_type": "display_data"
    }
   ],
   "source": [
    "X[[\"var_0\", \"var_1\", \"var_2\"]].corr()"
   ]
  },
  {
   "attachments": {},
   "cell_type": "markdown",
   "metadata": {},
   "source": [
    "Drop the variables with a correlation above 0.8. "
   ]
  },
  {
   "cell_type": "code",
   "execution_count": 25,
   "metadata": {
    "ExecuteTime": {
     "end_time": "2021-11-26T14:39:20.375369Z",
     "start_time": "2021-11-26T14:39:20.350873Z"
    }
   },
   "outputs": [
    {
     "data": {
      "text/plain": [
       "[{'var_0', 'var_1', 'var_2'}]"
      ]
     },
     "execution_count": 25,
     "metadata": {},
     "output_type": "execute_result"
    },
    {
     "data": {
      "application/javascript": "\n            setTimeout(function() {\n                var nbb_cell_id = 25;\n                var nbb_unformatted_code = \"tr = DropCorrelatedFeatures(variables=None, method='pearson', threshold=0.8)\\n\\nXt = tr.fit_transform(X)\\n\\ntr.correlated_feature_sets_\";\n                var nbb_formatted_code = \"tr = DropCorrelatedFeatures(variables=None, method=\\\"pearson\\\", threshold=0.8)\\n\\nXt = tr.fit_transform(X)\\n\\ntr.correlated_feature_sets_\";\n                var nbb_cells = Jupyter.notebook.get_cells();\n                for (var i = 0; i < nbb_cells.length; ++i) {\n                    if (nbb_cells[i].input_prompt_number == nbb_cell_id) {\n                        if (nbb_cells[i].get_text() == nbb_unformatted_code) {\n                             nbb_cells[i].set_text(nbb_formatted_code);\n                        }\n                        break;\n                    }\n                }\n            }, 500);\n            ",
      "text/plain": [
       "<IPython.core.display.Javascript object>"
      ]
     },
     "metadata": {},
     "output_type": "display_data"
    }
   ],
   "source": [
    "tr = DropCorrelatedFeatures(variables=None, method=\"pearson\", threshold=0.8)\n",
    "\n",
    "Xt = tr.fit_transform(X)\n",
    "\n",
    "tr.correlated_feature_sets_"
   ]
  },
  {
   "cell_type": "code",
   "execution_count": 26,
   "metadata": {
    "ExecuteTime": {
     "end_time": "2021-11-26T14:39:21.274540Z",
     "start_time": "2021-11-26T14:39:21.259715Z"
    }
   },
   "outputs": [
    {
     "data": {
      "text/plain": [
       "Index(['var_0', 'var_3', 'var_4', 'var_5'], dtype='object')"
      ]
     },
     "execution_count": 26,
     "metadata": {},
     "output_type": "execute_result"
    },
    {
     "data": {
      "application/javascript": "\n            setTimeout(function() {\n                var nbb_cell_id = 26;\n                var nbb_unformatted_code = \"Xt.columns\";\n                var nbb_formatted_code = \"Xt.columns\";\n                var nbb_cells = Jupyter.notebook.get_cells();\n                for (var i = 0; i < nbb_cells.length; ++i) {\n                    if (nbb_cells[i].input_prompt_number == nbb_cell_id) {\n                        if (nbb_cells[i].get_text() == nbb_unformatted_code) {\n                             nbb_cells[i].set_text(nbb_formatted_code);\n                        }\n                        break;\n                    }\n                }\n            }, 500);\n            ",
      "text/plain": [
       "<IPython.core.display.Javascript object>"
      ]
     },
     "metadata": {},
     "output_type": "display_data"
    }
   ],
   "source": [
    "Xt.columns"
   ]
  },
  {
   "attachments": {},
   "cell_type": "markdown",
   "metadata": {},
   "source": [
    "[Link to feature-engine](https://feature-engine.readthedocs.io/en/1.1.x/)."
   ]
  },
  {
   "attachments": {},
   "cell_type": "markdown",
   "metadata": {},
   "source": [
    "### Encode Rare Labels with Feature-engine"
   ]
  },
  {
   "attachments": {},
   "cell_type": "markdown",
   "metadata": {},
   "source": [
    "When dealing with features with high cardinality, you might want to mark the rare categories as \"Other\". Feature-engine's `RareLabelEncoder` makes it easy for you to do so."
   ]
  },
  {
   "cell_type": "code",
   "execution_count": 15,
   "metadata": {},
   "outputs": [
    {
     "data": {
      "text/html": [
       "<div>\n",
       "<style scoped>\n",
       "    .dataframe tbody tr th:only-of-type {\n",
       "        vertical-align: middle;\n",
       "    }\n",
       "\n",
       "    .dataframe tbody tr th {\n",
       "        vertical-align: top;\n",
       "    }\n",
       "\n",
       "    .dataframe thead th {\n",
       "        text-align: right;\n",
       "    }\n",
       "</style>\n",
       "<table border=\"1\" class=\"dataframe\">\n",
       "  <thead>\n",
       "    <tr style=\"text-align: right;\">\n",
       "      <th></th>\n",
       "      <th>body_type</th>\n",
       "      <th>diet</th>\n",
       "      <th>drinks</th>\n",
       "      <th>drugs</th>\n",
       "      <th>education</th>\n",
       "      <th>essay0</th>\n",
       "      <th>essay1</th>\n",
       "      <th>essay2</th>\n",
       "      <th>essay3</th>\n",
       "      <th>essay4</th>\n",
       "      <th>...</th>\n",
       "      <th>location</th>\n",
       "      <th>offspring</th>\n",
       "      <th>orientation</th>\n",
       "      <th>pets</th>\n",
       "      <th>religion</th>\n",
       "      <th>sex</th>\n",
       "      <th>sign</th>\n",
       "      <th>smokes</th>\n",
       "      <th>speaks</th>\n",
       "      <th>status</th>\n",
       "    </tr>\n",
       "  </thead>\n",
       "  <tbody>\n",
       "    <tr>\n",
       "      <th>0</th>\n",
       "      <td>a little extra</td>\n",
       "      <td>strictly anything</td>\n",
       "      <td>socially</td>\n",
       "      <td>never</td>\n",
       "      <td>working on college/university</td>\n",
       "      <td>about me:&lt;br /&gt;\\n&lt;br /&gt;\\ni would love to think...</td>\n",
       "      <td>currently working as an international agent fo...</td>\n",
       "      <td>making people laugh.&lt;br /&gt;\\nranting about a go...</td>\n",
       "      <td>the way i look. i am a six foot half asian, ha...</td>\n",
       "      <td>books:&lt;br /&gt;\\nabsurdistan, the republic, of mi...</td>\n",
       "      <td>...</td>\n",
       "      <td>south san francisco, california</td>\n",
       "      <td>doesn&amp;rsquo;t have kids, but might want them</td>\n",
       "      <td>straight</td>\n",
       "      <td>likes dogs and likes cats</td>\n",
       "      <td>agnosticism and very serious about it</td>\n",
       "      <td>m</td>\n",
       "      <td>gemini</td>\n",
       "      <td>sometimes</td>\n",
       "      <td>english</td>\n",
       "      <td>single</td>\n",
       "    </tr>\n",
       "    <tr>\n",
       "      <th>1</th>\n",
       "      <td>average</td>\n",
       "      <td>mostly other</td>\n",
       "      <td>often</td>\n",
       "      <td>sometimes</td>\n",
       "      <td>working on space camp</td>\n",
       "      <td>i am a chef: this is what that means.&lt;br /&gt;\\n1...</td>\n",
       "      <td>dedicating everyday to being an unbelievable b...</td>\n",
       "      <td>being silly. having ridiculous amonts of fun w...</td>\n",
       "      <td>None</td>\n",
       "      <td>i am die hard christopher moore fan. i don't r...</td>\n",
       "      <td>...</td>\n",
       "      <td>oakland, california</td>\n",
       "      <td>doesn&amp;rsquo;t have kids, but might want them</td>\n",
       "      <td>straight</td>\n",
       "      <td>likes dogs and likes cats</td>\n",
       "      <td>agnosticism but not too serious about it</td>\n",
       "      <td>m</td>\n",
       "      <td>cancer</td>\n",
       "      <td>no</td>\n",
       "      <td>english (fluently), spanish (poorly), french (...</td>\n",
       "      <td>single</td>\n",
       "    </tr>\n",
       "    <tr>\n",
       "      <th>2</th>\n",
       "      <td>thin</td>\n",
       "      <td>anything</td>\n",
       "      <td>socially</td>\n",
       "      <td>None</td>\n",
       "      <td>graduated from masters program</td>\n",
       "      <td>i'm not ashamed of much, but writing public te...</td>\n",
       "      <td>i make nerdy software for musicians, artists, ...</td>\n",
       "      <td>improvising in different contexts. alternating...</td>\n",
       "      <td>my large jaw and large glasses are the physica...</td>\n",
       "      <td>okay this is where the cultural matrix gets so...</td>\n",
       "      <td>...</td>\n",
       "      <td>san francisco, california</td>\n",
       "      <td>None</td>\n",
       "      <td>straight</td>\n",
       "      <td>has cats</td>\n",
       "      <td>None</td>\n",
       "      <td>m</td>\n",
       "      <td>pisces but it doesn&amp;rsquo;t matter</td>\n",
       "      <td>no</td>\n",
       "      <td>english, french, c++</td>\n",
       "      <td>available</td>\n",
       "    </tr>\n",
       "    <tr>\n",
       "      <th>3</th>\n",
       "      <td>thin</td>\n",
       "      <td>vegetarian</td>\n",
       "      <td>socially</td>\n",
       "      <td>None</td>\n",
       "      <td>working on college/university</td>\n",
       "      <td>i work in a library and go to school. . .</td>\n",
       "      <td>reading things written by old dead people</td>\n",
       "      <td>playing synthesizers and organizing books acco...</td>\n",
       "      <td>socially awkward but i do my best</td>\n",
       "      <td>bataille, celine, beckett. . .&lt;br /&gt;\\nlynch, j...</td>\n",
       "      <td>...</td>\n",
       "      <td>berkeley, california</td>\n",
       "      <td>doesn&amp;rsquo;t want kids</td>\n",
       "      <td>straight</td>\n",
       "      <td>likes cats</td>\n",
       "      <td>None</td>\n",
       "      <td>m</td>\n",
       "      <td>pisces</td>\n",
       "      <td>no</td>\n",
       "      <td>english, german (poorly)</td>\n",
       "      <td>single</td>\n",
       "    </tr>\n",
       "    <tr>\n",
       "      <th>4</th>\n",
       "      <td>athletic</td>\n",
       "      <td>None</td>\n",
       "      <td>socially</td>\n",
       "      <td>never</td>\n",
       "      <td>graduated from college/university</td>\n",
       "      <td>hey how's it going? currently vague on the pro...</td>\n",
       "      <td>work work work work + play</td>\n",
       "      <td>creating imagery to look at:&lt;br /&gt;\\nhttp://bag...</td>\n",
       "      <td>i smile a lot and my inquisitive nature</td>\n",
       "      <td>music: bands, rappers, musicians&lt;br /&gt;\\nat the...</td>\n",
       "      <td>...</td>\n",
       "      <td>san francisco, california</td>\n",
       "      <td>None</td>\n",
       "      <td>straight</td>\n",
       "      <td>likes dogs and likes cats</td>\n",
       "      <td>None</td>\n",
       "      <td>m</td>\n",
       "      <td>aquarius</td>\n",
       "      <td>no</td>\n",
       "      <td>english</td>\n",
       "      <td>single</td>\n",
       "    </tr>\n",
       "    <tr>\n",
       "      <th>5</th>\n",
       "      <td>average</td>\n",
       "      <td>mostly anything</td>\n",
       "      <td>socially</td>\n",
       "      <td>None</td>\n",
       "      <td>graduated from college/university</td>\n",
       "      <td>i'm an australian living in san francisco, but...</td>\n",
       "      <td>building awesome stuff. figuring out what's im...</td>\n",
       "      <td>imagining random shit. laughing at aforementio...</td>\n",
       "      <td>i have a big smile. i also get asked if i'm we...</td>\n",
       "      <td>books: to kill a mockingbird, lord of the ring...</td>\n",
       "      <td>...</td>\n",
       "      <td>san francisco, california</td>\n",
       "      <td>doesn&amp;rsquo;t have kids, but might want them</td>\n",
       "      <td>straight</td>\n",
       "      <td>likes cats</td>\n",
       "      <td>atheism</td>\n",
       "      <td>m</td>\n",
       "      <td>taurus</td>\n",
       "      <td>no</td>\n",
       "      <td>english (fluently), chinese (okay)</td>\n",
       "      <td>single</td>\n",
       "    </tr>\n",
       "    <tr>\n",
       "      <th>6</th>\n",
       "      <td>fit</td>\n",
       "      <td>strictly anything</td>\n",
       "      <td>socially</td>\n",
       "      <td>never</td>\n",
       "      <td>graduated from college/university</td>\n",
       "      <td>life is about the little things. i love to lau...</td>\n",
       "      <td>digging up buried treasure</td>\n",
       "      <td>frolicking&lt;br /&gt;\\nwitty banter&lt;br /&gt;\\nusing my...</td>\n",
       "      <td>i am the last unicorn</td>\n",
       "      <td>i like books. ones with pictures. reading them...</td>\n",
       "      <td>...</td>\n",
       "      <td>san francisco, california</td>\n",
       "      <td>None</td>\n",
       "      <td>straight</td>\n",
       "      <td>likes dogs and likes cats</td>\n",
       "      <td>None</td>\n",
       "      <td>f</td>\n",
       "      <td>virgo</td>\n",
       "      <td>None</td>\n",
       "      <td>english</td>\n",
       "      <td>single</td>\n",
       "    </tr>\n",
       "    <tr>\n",
       "      <th>7</th>\n",
       "      <td>average</td>\n",
       "      <td>mostly anything</td>\n",
       "      <td>socially</td>\n",
       "      <td>never</td>\n",
       "      <td>graduated from college/university</td>\n",
       "      <td>None</td>\n",
       "      <td>writing. meeting new people, spending time wit...</td>\n",
       "      <td>remembering people's birthdays, sending cards,...</td>\n",
       "      <td>i'm rather approachable (a byproduct of being ...</td>\n",
       "      <td>i like: alphabetized lists, aquariums, autobio...</td>\n",
       "      <td>...</td>\n",
       "      <td>san francisco, california</td>\n",
       "      <td>doesn&amp;rsquo;t have kids, but wants them</td>\n",
       "      <td>straight</td>\n",
       "      <td>likes dogs and likes cats</td>\n",
       "      <td>christianity</td>\n",
       "      <td>f</td>\n",
       "      <td>sagittarius</td>\n",
       "      <td>no</td>\n",
       "      <td>english, spanish (okay)</td>\n",
       "      <td>single</td>\n",
       "    </tr>\n",
       "    <tr>\n",
       "      <th>8</th>\n",
       "      <td>None</td>\n",
       "      <td>strictly anything</td>\n",
       "      <td>socially</td>\n",
       "      <td>None</td>\n",
       "      <td>graduated from college/university</td>\n",
       "      <td>None</td>\n",
       "      <td>oh goodness. at the moment i have 4 jobs, so i...</td>\n",
       "      <td>None</td>\n",
       "      <td>i'm freakishly blonde and have the same name a...</td>\n",
       "      <td>i am always willing to try new foods and am no...</td>\n",
       "      <td>...</td>\n",
       "      <td>belvedere tiburon, california</td>\n",
       "      <td>doesn&amp;rsquo;t have kids</td>\n",
       "      <td>straight</td>\n",
       "      <td>likes dogs and likes cats</td>\n",
       "      <td>christianity but not too serious about it</td>\n",
       "      <td>f</td>\n",
       "      <td>gemini but it doesn&amp;rsquo;t matter</td>\n",
       "      <td>when drinking</td>\n",
       "      <td>english</td>\n",
       "      <td>single</td>\n",
       "    </tr>\n",
       "    <tr>\n",
       "      <th>9</th>\n",
       "      <td>athletic</td>\n",
       "      <td>mostly anything</td>\n",
       "      <td>not at all</td>\n",
       "      <td>never</td>\n",
       "      <td>working on two-year college</td>\n",
       "      <td>my names jake.&lt;br /&gt;\\ni'm a creative guy and i...</td>\n",
       "      <td>i have an apartment. i like to explore and che...</td>\n",
       "      <td>i'm good at finding creative solutions to prob...</td>\n",
       "      <td>i'm short</td>\n",
       "      <td>i like some tv. i love summer heights high and...</td>\n",
       "      <td>...</td>\n",
       "      <td>san mateo, california</td>\n",
       "      <td>None</td>\n",
       "      <td>straight</td>\n",
       "      <td>likes dogs and likes cats</td>\n",
       "      <td>atheism and laughing about it</td>\n",
       "      <td>m</td>\n",
       "      <td>cancer but it doesn&amp;rsquo;t matter</td>\n",
       "      <td>no</td>\n",
       "      <td>english (fluently)</td>\n",
       "      <td>single</td>\n",
       "    </tr>\n",
       "  </tbody>\n",
       "</table>\n",
       "<p>10 rows × 30 columns</p>\n",
       "</div>"
      ],
      "text/plain": [
       "        body_type               diet      drinks      drugs  \\\n",
       "0  a little extra  strictly anything    socially      never   \n",
       "1         average       mostly other       often  sometimes   \n",
       "2            thin           anything    socially       None   \n",
       "3            thin         vegetarian    socially       None   \n",
       "4        athletic               None    socially      never   \n",
       "5         average    mostly anything    socially       None   \n",
       "6             fit  strictly anything    socially      never   \n",
       "7         average    mostly anything    socially      never   \n",
       "8            None  strictly anything    socially       None   \n",
       "9        athletic    mostly anything  not at all      never   \n",
       "\n",
       "                           education  \\\n",
       "0      working on college/university   \n",
       "1              working on space camp   \n",
       "2     graduated from masters program   \n",
       "3      working on college/university   \n",
       "4  graduated from college/university   \n",
       "5  graduated from college/university   \n",
       "6  graduated from college/university   \n",
       "7  graduated from college/university   \n",
       "8  graduated from college/university   \n",
       "9        working on two-year college   \n",
       "\n",
       "                                              essay0  \\\n",
       "0  about me:<br />\\n<br />\\ni would love to think...   \n",
       "1  i am a chef: this is what that means.<br />\\n1...   \n",
       "2  i'm not ashamed of much, but writing public te...   \n",
       "3          i work in a library and go to school. . .   \n",
       "4  hey how's it going? currently vague on the pro...   \n",
       "5  i'm an australian living in san francisco, but...   \n",
       "6  life is about the little things. i love to lau...   \n",
       "7                                               None   \n",
       "8                                               None   \n",
       "9  my names jake.<br />\\ni'm a creative guy and i...   \n",
       "\n",
       "                                              essay1  \\\n",
       "0  currently working as an international agent fo...   \n",
       "1  dedicating everyday to being an unbelievable b...   \n",
       "2  i make nerdy software for musicians, artists, ...   \n",
       "3          reading things written by old dead people   \n",
       "4                         work work work work + play   \n",
       "5  building awesome stuff. figuring out what's im...   \n",
       "6                         digging up buried treasure   \n",
       "7  writing. meeting new people, spending time wit...   \n",
       "8  oh goodness. at the moment i have 4 jobs, so i...   \n",
       "9  i have an apartment. i like to explore and che...   \n",
       "\n",
       "                                              essay2  \\\n",
       "0  making people laugh.<br />\\nranting about a go...   \n",
       "1  being silly. having ridiculous amonts of fun w...   \n",
       "2  improvising in different contexts. alternating...   \n",
       "3  playing synthesizers and organizing books acco...   \n",
       "4  creating imagery to look at:<br />\\nhttp://bag...   \n",
       "5  imagining random shit. laughing at aforementio...   \n",
       "6  frolicking<br />\\nwitty banter<br />\\nusing my...   \n",
       "7  remembering people's birthdays, sending cards,...   \n",
       "8                                               None   \n",
       "9  i'm good at finding creative solutions to prob...   \n",
       "\n",
       "                                              essay3  \\\n",
       "0  the way i look. i am a six foot half asian, ha...   \n",
       "1                                               None   \n",
       "2  my large jaw and large glasses are the physica...   \n",
       "3                  socially awkward but i do my best   \n",
       "4            i smile a lot and my inquisitive nature   \n",
       "5  i have a big smile. i also get asked if i'm we...   \n",
       "6                              i am the last unicorn   \n",
       "7  i'm rather approachable (a byproduct of being ...   \n",
       "8  i'm freakishly blonde and have the same name a...   \n",
       "9                                          i'm short   \n",
       "\n",
       "                                              essay4  ...  \\\n",
       "0  books:<br />\\nabsurdistan, the republic, of mi...  ...   \n",
       "1  i am die hard christopher moore fan. i don't r...  ...   \n",
       "2  okay this is where the cultural matrix gets so...  ...   \n",
       "3  bataille, celine, beckett. . .<br />\\nlynch, j...  ...   \n",
       "4  music: bands, rappers, musicians<br />\\nat the...  ...   \n",
       "5  books: to kill a mockingbird, lord of the ring...  ...   \n",
       "6  i like books. ones with pictures. reading them...  ...   \n",
       "7  i like: alphabetized lists, aquariums, autobio...  ...   \n",
       "8  i am always willing to try new foods and am no...  ...   \n",
       "9  i like some tv. i love summer heights high and...  ...   \n",
       "\n",
       "                          location  \\\n",
       "0  south san francisco, california   \n",
       "1              oakland, california   \n",
       "2        san francisco, california   \n",
       "3             berkeley, california   \n",
       "4        san francisco, california   \n",
       "5        san francisco, california   \n",
       "6        san francisco, california   \n",
       "7        san francisco, california   \n",
       "8    belvedere tiburon, california   \n",
       "9            san mateo, california   \n",
       "\n",
       "                                      offspring orientation  \\\n",
       "0  doesn&rsquo;t have kids, but might want them    straight   \n",
       "1  doesn&rsquo;t have kids, but might want them    straight   \n",
       "2                                          None    straight   \n",
       "3                       doesn&rsquo;t want kids    straight   \n",
       "4                                          None    straight   \n",
       "5  doesn&rsquo;t have kids, but might want them    straight   \n",
       "6                                          None    straight   \n",
       "7       doesn&rsquo;t have kids, but wants them    straight   \n",
       "8                       doesn&rsquo;t have kids    straight   \n",
       "9                                          None    straight   \n",
       "\n",
       "                        pets                                   religion sex  \\\n",
       "0  likes dogs and likes cats      agnosticism and very serious about it   m   \n",
       "1  likes dogs and likes cats   agnosticism but not too serious about it   m   \n",
       "2                   has cats                                       None   m   \n",
       "3                 likes cats                                       None   m   \n",
       "4  likes dogs and likes cats                                       None   m   \n",
       "5                 likes cats                                    atheism   m   \n",
       "6  likes dogs and likes cats                                       None   f   \n",
       "7  likes dogs and likes cats                               christianity   f   \n",
       "8  likes dogs and likes cats  christianity but not too serious about it   f   \n",
       "9  likes dogs and likes cats              atheism and laughing about it   m   \n",
       "\n",
       "                                 sign         smokes  \\\n",
       "0                              gemini      sometimes   \n",
       "1                              cancer             no   \n",
       "2  pisces but it doesn&rsquo;t matter             no   \n",
       "3                              pisces             no   \n",
       "4                            aquarius             no   \n",
       "5                              taurus             no   \n",
       "6                               virgo           None   \n",
       "7                         sagittarius             no   \n",
       "8  gemini but it doesn&rsquo;t matter  when drinking   \n",
       "9  cancer but it doesn&rsquo;t matter             no   \n",
       "\n",
       "                                              speaks     status  \n",
       "0                                            english     single  \n",
       "1  english (fluently), spanish (poorly), french (...     single  \n",
       "2                               english, french, c++  available  \n",
       "3                           english, german (poorly)     single  \n",
       "4                                            english     single  \n",
       "5                 english (fluently), chinese (okay)     single  \n",
       "6                                            english     single  \n",
       "7                            english, spanish (okay)     single  \n",
       "8                                            english     single  \n",
       "9                                 english (fluently)     single  \n",
       "\n",
       "[10 rows x 30 columns]"
      ]
     },
     "execution_count": 15,
     "metadata": {},
     "output_type": "execute_result"
    }
   ],
   "source": [
    "from sklearn.datasets import fetch_openml\n",
    "from feature_engine.encoding import RareLabelEncoder\n",
    "\n",
    "data = fetch_openml('dating_profile')['data']\n",
    "data.head(10)"
   ]
  },
  {
   "cell_type": "code",
   "execution_count": 20,
   "metadata": {},
   "outputs": [],
   "source": [
    "processed = data.dropna(subset=['education'])"
   ]
  },
  {
   "attachments": {},
   "cell_type": "markdown",
   "metadata": {},
   "source": [
    "In the code below, \n",
    "- `tol` species the minimum frequency below which a category is considered rare. \n",
    "- `replace_with` species the value to be used to replace rare categories.\n",
    "- `variables` specify the list of categorical variables that will be encoded."
   ]
  },
  {
   "cell_type": "code",
   "execution_count": 23,
   "metadata": {},
   "outputs": [],
   "source": [
    "encoder = RareLabelEncoder(tol=0.05, variables=[\"education\"], replace_with=\"Other\")\n",
    "encoded = encoder.fit_transform(processed)\n"
   ]
  },
  {
   "attachments": {},
   "cell_type": "markdown",
   "metadata": {},
   "source": [
    "Now the rare categories in the column `education` are replaced with \"Other\"."
   ]
  },
  {
   "cell_type": "code",
   "execution_count": 25,
   "metadata": {},
   "outputs": [
    {
     "data": {
      "text/plain": [
       "46107                                Other\n",
       "45677       graduated from masters program\n",
       "57928    graduated from college/university\n",
       "53127        working on college/university\n",
       "33300                                Other\n",
       "33648       graduated from masters program\n",
       "59701                                Other\n",
       "57013       graduated from masters program\n",
       "46428    graduated from college/university\n",
       "57123    graduated from college/university\n",
       "Name: education, dtype: object"
      ]
     },
     "execution_count": 25,
     "metadata": {},
     "output_type": "execute_result"
    }
   ],
   "source": [
    "encoded['education'].sample(10)"
   ]
  },
  {
   "attachments": {},
   "cell_type": "markdown",
   "metadata": {},
   "source": [
    "[Link to feature-engine](https://feature-engine.readthedocs.io/en/1.1.x/)."
   ]
  },
  {
   "attachments": {},
   "cell_type": "markdown",
   "metadata": {},
   "source": [
    "### Encode Categorical Data Using Frequency"
   ]
  },
  {
   "cell_type": "code",
   "execution_count": null,
   "metadata": {
    "ExecuteTime": {
     "end_time": "2022-06-03T13:49:31.177228Z",
     "start_time": "2022-06-03T13:49:28.342740Z"
    },
    "tags": [
     "hide-cell"
    ]
   },
   "outputs": [],
   "source": [
    "!pip install feature-engine"
   ]
  },
  {
   "attachments": {},
   "cell_type": "markdown",
   "metadata": {},
   "source": [
    "Sometimes, count or frequency can be useful features for your model. If you want to replace categories by either the count or the percentage of observations per category, use feature_engine's `CountFrequencyEncoder`."
   ]
  },
  {
   "cell_type": "code",
   "execution_count": 35,
   "metadata": {
    "ExecuteTime": {
     "end_time": "2022-06-03T14:06:26.301980Z",
     "start_time": "2022-06-03T14:06:26.174654Z"
    }
   },
   "outputs": [
    {
     "data": {
      "text/html": [
       "<div>\n",
       "<style scoped>\n",
       "    .dataframe tbody tr th:only-of-type {\n",
       "        vertical-align: middle;\n",
       "    }\n",
       "\n",
       "    .dataframe tbody tr th {\n",
       "        vertical-align: top;\n",
       "    }\n",
       "\n",
       "    .dataframe thead th {\n",
       "        text-align: right;\n",
       "    }\n",
       "</style>\n",
       "<table border=\"1\" class=\"dataframe\">\n",
       "  <thead>\n",
       "    <tr style=\"text-align: right;\">\n",
       "      <th></th>\n",
       "      <th>carat</th>\n",
       "      <th>cut</th>\n",
       "      <th>color</th>\n",
       "      <th>clarity</th>\n",
       "      <th>depth</th>\n",
       "      <th>table</th>\n",
       "      <th>price</th>\n",
       "      <th>x</th>\n",
       "      <th>y</th>\n",
       "      <th>z</th>\n",
       "    </tr>\n",
       "  </thead>\n",
       "  <tbody>\n",
       "    <tr>\n",
       "      <th>441</th>\n",
       "      <td>0.89</td>\n",
       "      <td>Premium</td>\n",
       "      <td>H</td>\n",
       "      <td>SI2</td>\n",
       "      <td>60.2</td>\n",
       "      <td>59.0</td>\n",
       "      <td>2815</td>\n",
       "      <td>6.26</td>\n",
       "      <td>6.23</td>\n",
       "      <td>3.76</td>\n",
       "    </tr>\n",
       "    <tr>\n",
       "      <th>50332</th>\n",
       "      <td>0.70</td>\n",
       "      <td>Very Good</td>\n",
       "      <td>D</td>\n",
       "      <td>SI1</td>\n",
       "      <td>64.0</td>\n",
       "      <td>53.0</td>\n",
       "      <td>2242</td>\n",
       "      <td>5.57</td>\n",
       "      <td>5.61</td>\n",
       "      <td>3.58</td>\n",
       "    </tr>\n",
       "    <tr>\n",
       "      <th>35652</th>\n",
       "      <td>0.31</td>\n",
       "      <td>Ideal</td>\n",
       "      <td>G</td>\n",
       "      <td>VVS2</td>\n",
       "      <td>62.7</td>\n",
       "      <td>57.0</td>\n",
       "      <td>907</td>\n",
       "      <td>4.33</td>\n",
       "      <td>4.31</td>\n",
       "      <td>2.71</td>\n",
       "    </tr>\n",
       "    <tr>\n",
       "      <th>9439</th>\n",
       "      <td>0.90</td>\n",
       "      <td>Very Good</td>\n",
       "      <td>H</td>\n",
       "      <td>VS1</td>\n",
       "      <td>62.3</td>\n",
       "      <td>59.0</td>\n",
       "      <td>4592</td>\n",
       "      <td>6.12</td>\n",
       "      <td>6.17</td>\n",
       "      <td>3.83</td>\n",
       "    </tr>\n",
       "    <tr>\n",
       "      <th>15824</th>\n",
       "      <td>1.01</td>\n",
       "      <td>Good</td>\n",
       "      <td>F</td>\n",
       "      <td>VS2</td>\n",
       "      <td>60.6</td>\n",
       "      <td>62.0</td>\n",
       "      <td>6332</td>\n",
       "      <td>6.52</td>\n",
       "      <td>6.49</td>\n",
       "      <td>3.94</td>\n",
       "    </tr>\n",
       "    <tr>\n",
       "      <th>...</th>\n",
       "      <td>...</td>\n",
       "      <td>...</td>\n",
       "      <td>...</td>\n",
       "      <td>...</td>\n",
       "      <td>...</td>\n",
       "      <td>...</td>\n",
       "      <td>...</td>\n",
       "      <td>...</td>\n",
       "      <td>...</td>\n",
       "      <td>...</td>\n",
       "    </tr>\n",
       "    <tr>\n",
       "      <th>45891</th>\n",
       "      <td>0.52</td>\n",
       "      <td>Premium</td>\n",
       "      <td>F</td>\n",
       "      <td>VS2</td>\n",
       "      <td>60.7</td>\n",
       "      <td>59.0</td>\n",
       "      <td>1720</td>\n",
       "      <td>5.18</td>\n",
       "      <td>5.14</td>\n",
       "      <td>3.13</td>\n",
       "    </tr>\n",
       "    <tr>\n",
       "      <th>52416</th>\n",
       "      <td>0.70</td>\n",
       "      <td>Good</td>\n",
       "      <td>D</td>\n",
       "      <td>SI1</td>\n",
       "      <td>63.6</td>\n",
       "      <td>60.0</td>\n",
       "      <td>2512</td>\n",
       "      <td>5.59</td>\n",
       "      <td>5.51</td>\n",
       "      <td>3.51</td>\n",
       "    </tr>\n",
       "    <tr>\n",
       "      <th>42613</th>\n",
       "      <td>0.32</td>\n",
       "      <td>Premium</td>\n",
       "      <td>I</td>\n",
       "      <td>VS1</td>\n",
       "      <td>61.3</td>\n",
       "      <td>58.0</td>\n",
       "      <td>505</td>\n",
       "      <td>4.35</td>\n",
       "      <td>4.39</td>\n",
       "      <td>2.68</td>\n",
       "    </tr>\n",
       "    <tr>\n",
       "      <th>43567</th>\n",
       "      <td>0.41</td>\n",
       "      <td>Ideal</td>\n",
       "      <td>G</td>\n",
       "      <td>IF</td>\n",
       "      <td>61.0</td>\n",
       "      <td>57.0</td>\n",
       "      <td>1431</td>\n",
       "      <td>4.81</td>\n",
       "      <td>4.79</td>\n",
       "      <td>2.93</td>\n",
       "    </tr>\n",
       "    <tr>\n",
       "      <th>2732</th>\n",
       "      <td>0.91</td>\n",
       "      <td>Ideal</td>\n",
       "      <td>F</td>\n",
       "      <td>SI2</td>\n",
       "      <td>61.1</td>\n",
       "      <td>55.0</td>\n",
       "      <td>3246</td>\n",
       "      <td>6.24</td>\n",
       "      <td>6.19</td>\n",
       "      <td>3.80</td>\n",
       "    </tr>\n",
       "  </tbody>\n",
       "</table>\n",
       "<p>40455 rows × 10 columns</p>\n",
       "</div>"
      ],
      "text/plain": [
       "       carat        cut color clarity  depth  table  price     x     y     z\n",
       "441     0.89    Premium     H     SI2   60.2   59.0   2815  6.26  6.23  3.76\n",
       "50332   0.70  Very Good     D     SI1   64.0   53.0   2242  5.57  5.61  3.58\n",
       "35652   0.31      Ideal     G    VVS2   62.7   57.0    907  4.33  4.31  2.71\n",
       "9439    0.90  Very Good     H     VS1   62.3   59.0   4592  6.12  6.17  3.83\n",
       "15824   1.01       Good     F     VS2   60.6   62.0   6332  6.52  6.49  3.94\n",
       "...      ...        ...   ...     ...    ...    ...    ...   ...   ...   ...\n",
       "45891   0.52    Premium     F     VS2   60.7   59.0   1720  5.18  5.14  3.13\n",
       "52416   0.70       Good     D     SI1   63.6   60.0   2512  5.59  5.51  3.51\n",
       "42613   0.32    Premium     I     VS1   61.3   58.0    505  4.35  4.39  2.68\n",
       "43567   0.41      Ideal     G      IF   61.0   57.0   1431  4.81  4.79  2.93\n",
       "2732    0.91      Ideal     F     SI2   61.1   55.0   3246  6.24  6.19  3.80\n",
       "\n",
       "[40455 rows x 10 columns]"
      ]
     },
     "execution_count": 35,
     "metadata": {},
     "output_type": "execute_result"
    },
    {
     "data": {
      "application/javascript": "\n            setTimeout(function() {\n                var nbb_cell_id = 35;\n                var nbb_unformatted_code = \"import seaborn as sns\\nfrom feature_engine.encoding import CountFrequencyEncoder\\nfrom sklearn.model_selection import train_test_split\\n\\ndata = sns.load_dataset(\\\"diamonds\\\")\\n\\nX_train, X_test, y_train, y_test = train_test_split(data, data[\\\"price\\\"], random_state=0)\\nX_train\";\n                var nbb_formatted_code = \"import seaborn as sns\\nfrom feature_engine.encoding import CountFrequencyEncoder\\nfrom sklearn.model_selection import train_test_split\\n\\ndata = sns.load_dataset(\\\"diamonds\\\")\\n\\nX_train, X_test, y_train, y_test = train_test_split(data, data[\\\"price\\\"], random_state=0)\\nX_train\";\n                var nbb_cells = Jupyter.notebook.get_cells();\n                for (var i = 0; i < nbb_cells.length; ++i) {\n                    if (nbb_cells[i].input_prompt_number == nbb_cell_id) {\n                        if (nbb_cells[i].get_text() == nbb_unformatted_code) {\n                             nbb_cells[i].set_text(nbb_formatted_code);\n                        }\n                        break;\n                    }\n                }\n            }, 500);\n            ",
      "text/plain": [
       "<IPython.core.display.Javascript object>"
      ]
     },
     "metadata": {},
     "output_type": "display_data"
    }
   ],
   "source": [
    "import seaborn as sns\n",
    "from feature_engine.encoding import CountFrequencyEncoder\n",
    "from sklearn.model_selection import train_test_split\n",
    "\n",
    "data = sns.load_dataset(\"diamonds\")\n",
    "\n",
    "X_train, X_test, y_train, y_test = train_test_split(data, data[\"price\"], random_state=0)\n",
    "X_train"
   ]
  },
  {
   "attachments": {},
   "cell_type": "markdown",
   "metadata": {},
   "source": [
    "In the code below, I encode `color` and `clarity`. "
   ]
  },
  {
   "cell_type": "code",
   "execution_count": 36,
   "metadata": {
    "ExecuteTime": {
     "end_time": "2022-06-03T14:06:28.940601Z",
     "start_time": "2022-06-03T14:06:28.902323Z"
    }
   },
   "outputs": [
    {
     "data": {
      "application/javascript": "\n            setTimeout(function() {\n                var nbb_cell_id = 36;\n                var nbb_unformatted_code = \"# initiate an encoder\\nencoder = CountFrequencyEncoder(\\n    encoding_method=\\\"frequency\\\", variables=[\\\"color\\\", \\\"clarity\\\"]\\n)\\n\\n# fit the encoder\\nencoder.fit(X_train)\\n\\n# process the data\\np_train = encoder.transform(X_train)\\np_test = encoder.transform(X_test)\";\n                var nbb_formatted_code = \"# initiate an encoder\\nencoder = CountFrequencyEncoder(\\n    encoding_method=\\\"frequency\\\", variables=[\\\"color\\\", \\\"clarity\\\"]\\n)\\n\\n# fit the encoder\\nencoder.fit(X_train)\\n\\n# process the data\\np_train = encoder.transform(X_train)\\np_test = encoder.transform(X_test)\";\n                var nbb_cells = Jupyter.notebook.get_cells();\n                for (var i = 0; i < nbb_cells.length; ++i) {\n                    if (nbb_cells[i].input_prompt_number == nbb_cell_id) {\n                        if (nbb_cells[i].get_text() == nbb_unformatted_code) {\n                             nbb_cells[i].set_text(nbb_formatted_code);\n                        }\n                        break;\n                    }\n                }\n            }, 500);\n            ",
      "text/plain": [
       "<IPython.core.display.Javascript object>"
      ]
     },
     "metadata": {},
     "output_type": "display_data"
    }
   ],
   "source": [
    "# initiate an encoder\n",
    "encoder = CountFrequencyEncoder(\n",
    "    encoding_method=\"frequency\", variables=[\"color\", \"clarity\"]\n",
    ")\n",
    "\n",
    "# fit the encoder\n",
    "encoder.fit(X_train)\n",
    "\n",
    "# process the data\n",
    "p_train = encoder.transform(X_train)\n",
    "p_test = encoder.transform(X_test)"
   ]
  },
  {
   "cell_type": "code",
   "execution_count": 37,
   "metadata": {
    "ExecuteTime": {
     "end_time": "2022-06-03T14:06:33.457049Z",
     "start_time": "2022-06-03T14:06:33.416923Z"
    }
   },
   "outputs": [
    {
     "data": {
      "text/html": [
       "<div>\n",
       "<style scoped>\n",
       "    .dataframe tbody tr th:only-of-type {\n",
       "        vertical-align: middle;\n",
       "    }\n",
       "\n",
       "    .dataframe tbody tr th {\n",
       "        vertical-align: top;\n",
       "    }\n",
       "\n",
       "    .dataframe thead th {\n",
       "        text-align: right;\n",
       "    }\n",
       "</style>\n",
       "<table border=\"1\" class=\"dataframe\">\n",
       "  <thead>\n",
       "    <tr style=\"text-align: right;\">\n",
       "      <th></th>\n",
       "      <th>carat</th>\n",
       "      <th>cut</th>\n",
       "      <th>color</th>\n",
       "      <th>clarity</th>\n",
       "      <th>depth</th>\n",
       "      <th>table</th>\n",
       "      <th>price</th>\n",
       "      <th>x</th>\n",
       "      <th>y</th>\n",
       "      <th>z</th>\n",
       "    </tr>\n",
       "  </thead>\n",
       "  <tbody>\n",
       "    <tr>\n",
       "      <th>10176</th>\n",
       "      <td>1.10</td>\n",
       "      <td>Ideal</td>\n",
       "      <td>0.152762</td>\n",
       "      <td>0.170436</td>\n",
       "      <td>62.0</td>\n",
       "      <td>55.0</td>\n",
       "      <td>4733</td>\n",
       "      <td>6.61</td>\n",
       "      <td>6.65</td>\n",
       "      <td>4.11</td>\n",
       "    </tr>\n",
       "    <tr>\n",
       "      <th>16083</th>\n",
       "      <td>1.29</td>\n",
       "      <td>Ideal</td>\n",
       "      <td>0.152762</td>\n",
       "      <td>0.242022</td>\n",
       "      <td>62.6</td>\n",
       "      <td>56.0</td>\n",
       "      <td>6424</td>\n",
       "      <td>6.96</td>\n",
       "      <td>6.93</td>\n",
       "      <td>4.35</td>\n",
       "    </tr>\n",
       "    <tr>\n",
       "      <th>13420</th>\n",
       "      <td>1.20</td>\n",
       "      <td>Premium</td>\n",
       "      <td>0.100531</td>\n",
       "      <td>0.242022</td>\n",
       "      <td>61.1</td>\n",
       "      <td>58.0</td>\n",
       "      <td>5510</td>\n",
       "      <td>6.88</td>\n",
       "      <td>6.80</td>\n",
       "      <td>4.18</td>\n",
       "    </tr>\n",
       "    <tr>\n",
       "      <th>20407</th>\n",
       "      <td>1.50</td>\n",
       "      <td>Ideal</td>\n",
       "      <td>0.179409</td>\n",
       "      <td>0.242022</td>\n",
       "      <td>60.9</td>\n",
       "      <td>56.0</td>\n",
       "      <td>8770</td>\n",
       "      <td>7.43</td>\n",
       "      <td>7.36</td>\n",
       "      <td>4.50</td>\n",
       "    </tr>\n",
       "    <tr>\n",
       "      <th>8909</th>\n",
       "      <td>0.90</td>\n",
       "      <td>Very Good</td>\n",
       "      <td>0.179409</td>\n",
       "      <td>0.227314</td>\n",
       "      <td>61.7</td>\n",
       "      <td>57.0</td>\n",
       "      <td>4493</td>\n",
       "      <td>6.17</td>\n",
       "      <td>6.21</td>\n",
       "      <td>3.82</td>\n",
       "    </tr>\n",
       "    <tr>\n",
       "      <th>...</th>\n",
       "      <td>...</td>\n",
       "      <td>...</td>\n",
       "      <td>...</td>\n",
       "      <td>...</td>\n",
       "      <td>...</td>\n",
       "      <td>...</td>\n",
       "      <td>...</td>\n",
       "      <td>...</td>\n",
       "      <td>...</td>\n",
       "      <td>...</td>\n",
       "    </tr>\n",
       "    <tr>\n",
       "      <th>52283</th>\n",
       "      <td>0.59</td>\n",
       "      <td>Very Good</td>\n",
       "      <td>0.182005</td>\n",
       "      <td>0.094401</td>\n",
       "      <td>61.7</td>\n",
       "      <td>59.0</td>\n",
       "      <td>2494</td>\n",
       "      <td>5.37</td>\n",
       "      <td>5.36</td>\n",
       "      <td>3.31</td>\n",
       "    </tr>\n",
       "    <tr>\n",
       "      <th>10789</th>\n",
       "      <td>1.00</td>\n",
       "      <td>Fair</td>\n",
       "      <td>0.152762</td>\n",
       "      <td>0.227314</td>\n",
       "      <td>64.8</td>\n",
       "      <td>62.0</td>\n",
       "      <td>4861</td>\n",
       "      <td>6.22</td>\n",
       "      <td>6.13</td>\n",
       "      <td>4.00</td>\n",
       "    </tr>\n",
       "    <tr>\n",
       "      <th>1190</th>\n",
       "      <td>0.70</td>\n",
       "      <td>Very Good</td>\n",
       "      <td>0.179409</td>\n",
       "      <td>0.094401</td>\n",
       "      <td>63.2</td>\n",
       "      <td>58.0</td>\n",
       "      <td>2932</td>\n",
       "      <td>5.66</td>\n",
       "      <td>5.60</td>\n",
       "      <td>3.56</td>\n",
       "    </tr>\n",
       "    <tr>\n",
       "      <th>3583</th>\n",
       "      <td>0.59</td>\n",
       "      <td>Ideal</td>\n",
       "      <td>0.182005</td>\n",
       "      <td>0.067384</td>\n",
       "      <td>60.7</td>\n",
       "      <td>57.0</td>\n",
       "      <td>3422</td>\n",
       "      <td>5.41</td>\n",
       "      <td>5.45</td>\n",
       "      <td>3.29</td>\n",
       "    </tr>\n",
       "    <tr>\n",
       "      <th>40845</th>\n",
       "      <td>0.46</td>\n",
       "      <td>Premium</td>\n",
       "      <td>0.182005</td>\n",
       "      <td>0.227314</td>\n",
       "      <td>61.5</td>\n",
       "      <td>60.0</td>\n",
       "      <td>1173</td>\n",
       "      <td>4.95</td>\n",
       "      <td>4.91</td>\n",
       "      <td>3.03</td>\n",
       "    </tr>\n",
       "  </tbody>\n",
       "</table>\n",
       "<p>13485 rows × 10 columns</p>\n",
       "</div>"
      ],
      "text/plain": [
       "       carat        cut     color   clarity  depth  table  price     x     y  \\\n",
       "10176   1.10      Ideal  0.152762  0.170436   62.0   55.0   4733  6.61  6.65   \n",
       "16083   1.29      Ideal  0.152762  0.242022   62.6   56.0   6424  6.96  6.93   \n",
       "13420   1.20    Premium  0.100531  0.242022   61.1   58.0   5510  6.88  6.80   \n",
       "20407   1.50      Ideal  0.179409  0.242022   60.9   56.0   8770  7.43  7.36   \n",
       "8909    0.90  Very Good  0.179409  0.227314   61.7   57.0   4493  6.17  6.21   \n",
       "...      ...        ...       ...       ...    ...    ...    ...   ...   ...   \n",
       "52283   0.59  Very Good  0.182005  0.094401   61.7   59.0   2494  5.37  5.36   \n",
       "10789   1.00       Fair  0.152762  0.227314   64.8   62.0   4861  6.22  6.13   \n",
       "1190    0.70  Very Good  0.179409  0.094401   63.2   58.0   2932  5.66  5.60   \n",
       "3583    0.59      Ideal  0.182005  0.067384   60.7   57.0   3422  5.41  5.45   \n",
       "40845   0.46    Premium  0.182005  0.227314   61.5   60.0   1173  4.95  4.91   \n",
       "\n",
       "          z  \n",
       "10176  4.11  \n",
       "16083  4.35  \n",
       "13420  4.18  \n",
       "20407  4.50  \n",
       "8909   3.82  \n",
       "...     ...  \n",
       "52283  3.31  \n",
       "10789  4.00  \n",
       "1190   3.56  \n",
       "3583   3.29  \n",
       "40845  3.03  \n",
       "\n",
       "[13485 rows x 10 columns]"
      ]
     },
     "execution_count": 37,
     "metadata": {},
     "output_type": "execute_result"
    },
    {
     "data": {
      "application/javascript": "\n            setTimeout(function() {\n                var nbb_cell_id = 37;\n                var nbb_unformatted_code = \"p_test\";\n                var nbb_formatted_code = \"p_test\";\n                var nbb_cells = Jupyter.notebook.get_cells();\n                for (var i = 0; i < nbb_cells.length; ++i) {\n                    if (nbb_cells[i].input_prompt_number == nbb_cell_id) {\n                        if (nbb_cells[i].get_text() == nbb_unformatted_code) {\n                             nbb_cells[i].set_text(nbb_formatted_code);\n                        }\n                        break;\n                    }\n                }\n            }, 500);\n            ",
      "text/plain": [
       "<IPython.core.display.Javascript object>"
      ]
     },
     "metadata": {},
     "output_type": "display_data"
    }
   ],
   "source": [
    "p_test"
   ]
  },
  {
   "attachments": {},
   "cell_type": "markdown",
   "metadata": {},
   "source": [
    "[Link to feature-engine](https://feature-engine.readthedocs.io/en/1.1.x/)."
   ]
  },
  {
   "attachments": {},
   "cell_type": "markdown",
   "metadata": {},
   "source": [
    "### Return a DataFrame When Using a scikit-learn's Transformer"
   ]
  },
  {
   "cell_type": "code",
   "execution_count": null,
   "metadata": {
    "ExecuteTime": {
     "end_time": "2021-11-26T14:01:38.560511Z",
     "start_time": "2021-11-26T14:01:33.638327Z"
    },
    "tags": [
     "hide-cell"
    ]
   },
   "outputs": [],
   "source": [
    "!pip install feature_engine "
   ]
  },
  {
   "attachments": {},
   "cell_type": "markdown",
   "metadata": {},
   "source": [
    "Applying a scikit-learn's transformer on your DataFrame will return a NumPy array. "
   ]
  },
  {
   "cell_type": "code",
   "execution_count": 3,
   "metadata": {
    "ExecuteTime": {
     "end_time": "2022-02-14T15:07:54.269148Z",
     "start_time": "2022-02-14T15:07:54.261783Z"
    }
   },
   "outputs": [],
   "source": [
    "import pandas as pd \n",
    "from sklearn.preprocessing import StandardScaler\n",
    "from feature_engine.wrappers import SklearnTransformerWrapper"
   ]
  },
  {
   "cell_type": "code",
   "execution_count": 5,
   "metadata": {
    "ExecuteTime": {
     "end_time": "2022-02-14T15:08:37.558864Z",
     "start_time": "2022-02-14T15:08:37.512305Z"
    }
   },
   "outputs": [
    {
     "data": {
      "text/plain": [
       "array([[-1.22474487, -1.22474487],\n",
       "       [ 0.        ,  0.        ],\n",
       "       [ 1.22474487,  1.22474487]])"
      ]
     },
     "execution_count": 5,
     "metadata": {},
     "output_type": "execute_result"
    }
   ],
   "source": [
    "df = pd.DataFrame({'a': [1, 2, 3], 'b': [4, 5, 6]})\n",
    "StandardScaler().fit_transform(df)"
   ]
  },
  {
   "attachments": {},
   "cell_type": "markdown",
   "metadata": {},
   "source": [
    "If you want to return a pandas DataFrame instead, use feature-engine's `SklearnTransformerWrapper` along with your scikit-learn's tranformer."
   ]
  },
  {
   "cell_type": "code",
   "execution_count": 8,
   "metadata": {
    "ExecuteTime": {
     "end_time": "2022-02-14T15:16:55.548188Z",
     "start_time": "2022-02-14T15:16:55.494583Z"
    },
    "scrolled": true
   },
   "outputs": [
    {
     "data": {
      "text/html": [
       "<div>\n",
       "<style scoped>\n",
       "    .dataframe tbody tr th:only-of-type {\n",
       "        vertical-align: middle;\n",
       "    }\n",
       "\n",
       "    .dataframe tbody tr th {\n",
       "        vertical-align: top;\n",
       "    }\n",
       "\n",
       "    .dataframe thead th {\n",
       "        text-align: right;\n",
       "    }\n",
       "</style>\n",
       "<table border=\"1\" class=\"dataframe\">\n",
       "  <thead>\n",
       "    <tr style=\"text-align: right;\">\n",
       "      <th></th>\n",
       "      <th>a</th>\n",
       "      <th>b</th>\n",
       "    </tr>\n",
       "  </thead>\n",
       "  <tbody>\n",
       "    <tr>\n",
       "      <th>0</th>\n",
       "      <td>-1.224745</td>\n",
       "      <td>-1.224745</td>\n",
       "    </tr>\n",
       "    <tr>\n",
       "      <th>1</th>\n",
       "      <td>0.000000</td>\n",
       "      <td>0.000000</td>\n",
       "    </tr>\n",
       "    <tr>\n",
       "      <th>2</th>\n",
       "      <td>1.224745</td>\n",
       "      <td>1.224745</td>\n",
       "    </tr>\n",
       "  </tbody>\n",
       "</table>\n",
       "</div>"
      ],
      "text/plain": [
       "          a         b\n",
       "0 -1.224745 -1.224745\n",
       "1  0.000000  0.000000\n",
       "2  1.224745  1.224745"
      ]
     },
     "execution_count": 8,
     "metadata": {},
     "output_type": "execute_result"
    }
   ],
   "source": [
    "scaler = SklearnTransformerWrapper(transformer=StandardScaler())\n",
    "scaler.fit_transform(df)"
   ]
  },
  {
   "attachments": {},
   "cell_type": "markdown",
   "metadata": {},
   "source": [
    "[Link to feature-engine](https://feature-engine.readthedocs.io/en/1.1.x/)."
   ]
  },
  {
   "attachments": {},
   "cell_type": "markdown",
   "metadata": {},
   "source": [
    "### Similarity Encoding for Dirty Categories Using dirty_cat"
   ]
  },
  {
   "cell_type": "code",
   "execution_count": null,
   "metadata": {
    "ExecuteTime": {
     "end_time": "2021-12-01T14:25:00.174790Z",
     "start_time": "2021-12-01T14:24:54.478018Z"
    },
    "tags": [
     "hide-cell"
    ]
   },
   "outputs": [],
   "source": [
    "!pip install dirty-cat"
   ]
  },
  {
   "attachments": {},
   "cell_type": "markdown",
   "metadata": {},
   "source": [
    "To capture the similarities among dirty categories when encoding categorical variables, use dirty_cat’s `SimilarityEncoder` . \n",
    "\n",
    "To understand how `SimilarityEncoder` works, let's start with the employee_salaries dataset."
   ]
  },
  {
   "cell_type": "code",
   "execution_count": 9,
   "metadata": {
    "ExecuteTime": {
     "end_time": "2021-12-01T14:28:52.846093Z",
     "start_time": "2021-12-01T14:28:52.753694Z"
    }
   },
   "outputs": [
    {
     "data": {
      "text/html": [
       "<div>\n",
       "<style scoped>\n",
       "    .dataframe tbody tr th:only-of-type {\n",
       "        vertical-align: middle;\n",
       "    }\n",
       "\n",
       "    .dataframe tbody tr th {\n",
       "        vertical-align: top;\n",
       "    }\n",
       "\n",
       "    .dataframe thead th {\n",
       "        text-align: right;\n",
       "    }\n",
       "</style>\n",
       "<table border=\"1\" class=\"dataframe\">\n",
       "  <thead>\n",
       "    <tr style=\"text-align: right;\">\n",
       "      <th></th>\n",
       "      <th>gender</th>\n",
       "      <th>department</th>\n",
       "      <th>department_name</th>\n",
       "      <th>division</th>\n",
       "      <th>assignment_category</th>\n",
       "      <th>employee_position_title</th>\n",
       "      <th>underfilled_job_title</th>\n",
       "      <th>date_first_hired</th>\n",
       "      <th>year_first_hired</th>\n",
       "    </tr>\n",
       "  </thead>\n",
       "  <tbody>\n",
       "    <tr>\n",
       "      <th>0</th>\n",
       "      <td>F</td>\n",
       "      <td>POL</td>\n",
       "      <td>Department of Police</td>\n",
       "      <td>MSB Information Mgmt and Tech Division Records...</td>\n",
       "      <td>Fulltime-Regular</td>\n",
       "      <td>Office Services Coordinator</td>\n",
       "      <td>NaN</td>\n",
       "      <td>09/22/1986</td>\n",
       "      <td>1986</td>\n",
       "    </tr>\n",
       "    <tr>\n",
       "      <th>1</th>\n",
       "      <td>M</td>\n",
       "      <td>POL</td>\n",
       "      <td>Department of Police</td>\n",
       "      <td>ISB Major Crimes Division Fugitive Section</td>\n",
       "      <td>Fulltime-Regular</td>\n",
       "      <td>Master Police Officer</td>\n",
       "      <td>NaN</td>\n",
       "      <td>09/12/1988</td>\n",
       "      <td>1988</td>\n",
       "    </tr>\n",
       "    <tr>\n",
       "      <th>2</th>\n",
       "      <td>F</td>\n",
       "      <td>HHS</td>\n",
       "      <td>Department of Health and Human Services</td>\n",
       "      <td>Adult Protective and Case Management Services</td>\n",
       "      <td>Fulltime-Regular</td>\n",
       "      <td>Social Worker IV</td>\n",
       "      <td>NaN</td>\n",
       "      <td>11/19/1989</td>\n",
       "      <td>1989</td>\n",
       "    </tr>\n",
       "    <tr>\n",
       "      <th>3</th>\n",
       "      <td>M</td>\n",
       "      <td>COR</td>\n",
       "      <td>Correction and Rehabilitation</td>\n",
       "      <td>PRRS Facility and Security</td>\n",
       "      <td>Fulltime-Regular</td>\n",
       "      <td>Resident Supervisor II</td>\n",
       "      <td>NaN</td>\n",
       "      <td>05/05/2014</td>\n",
       "      <td>2014</td>\n",
       "    </tr>\n",
       "    <tr>\n",
       "      <th>4</th>\n",
       "      <td>M</td>\n",
       "      <td>HCA</td>\n",
       "      <td>Department of Housing and Community Affairs</td>\n",
       "      <td>Affordable Housing Programs</td>\n",
       "      <td>Fulltime-Regular</td>\n",
       "      <td>Planning Specialist III</td>\n",
       "      <td>NaN</td>\n",
       "      <td>03/05/2007</td>\n",
       "      <td>2007</td>\n",
       "    </tr>\n",
       "    <tr>\n",
       "      <th>5</th>\n",
       "      <td>M</td>\n",
       "      <td>POL</td>\n",
       "      <td>Department of Police</td>\n",
       "      <td>PSB 6th District Special Assignment Team</td>\n",
       "      <td>Fulltime-Regular</td>\n",
       "      <td>Police Officer III</td>\n",
       "      <td>NaN</td>\n",
       "      <td>07/16/2007</td>\n",
       "      <td>2007</td>\n",
       "    </tr>\n",
       "    <tr>\n",
       "      <th>6</th>\n",
       "      <td>F</td>\n",
       "      <td>FRS</td>\n",
       "      <td>Fire and Rescue Services</td>\n",
       "      <td>EMS Billing</td>\n",
       "      <td>Fulltime-Regular</td>\n",
       "      <td>Accountant/Auditor II</td>\n",
       "      <td>NaN</td>\n",
       "      <td>06/27/2016</td>\n",
       "      <td>2016</td>\n",
       "    </tr>\n",
       "    <tr>\n",
       "      <th>7</th>\n",
       "      <td>M</td>\n",
       "      <td>HHS</td>\n",
       "      <td>Department of Health and Human Services</td>\n",
       "      <td>Head Start</td>\n",
       "      <td>Fulltime-Regular</td>\n",
       "      <td>Administrative Specialist II</td>\n",
       "      <td>NaN</td>\n",
       "      <td>11/17/2014</td>\n",
       "      <td>2014</td>\n",
       "    </tr>\n",
       "    <tr>\n",
       "      <th>8</th>\n",
       "      <td>M</td>\n",
       "      <td>FRS</td>\n",
       "      <td>Fire and Rescue Services</td>\n",
       "      <td>Recruit Training</td>\n",
       "      <td>Fulltime-Regular</td>\n",
       "      <td>Firefighter/Rescuer III</td>\n",
       "      <td>Firefighter/Rescuer I (Recruit)</td>\n",
       "      <td>12/12/2016</td>\n",
       "      <td>2016</td>\n",
       "    </tr>\n",
       "    <tr>\n",
       "      <th>9</th>\n",
       "      <td>F</td>\n",
       "      <td>POL</td>\n",
       "      <td>Department of Police</td>\n",
       "      <td>FSB Traffic Division Automated Traffic Enforce...</td>\n",
       "      <td>Fulltime-Regular</td>\n",
       "      <td>Police Aide</td>\n",
       "      <td>NaN</td>\n",
       "      <td>02/05/2007</td>\n",
       "      <td>2007</td>\n",
       "    </tr>\n",
       "  </tbody>\n",
       "</table>\n",
       "</div>"
      ],
      "text/plain": [
       "  gender department                              department_name  \\\n",
       "0      F        POL                         Department of Police   \n",
       "1      M        POL                         Department of Police   \n",
       "2      F        HHS      Department of Health and Human Services   \n",
       "3      M        COR                Correction and Rehabilitation   \n",
       "4      M        HCA  Department of Housing and Community Affairs   \n",
       "5      M        POL                         Department of Police   \n",
       "6      F        FRS                     Fire and Rescue Services   \n",
       "7      M        HHS      Department of Health and Human Services   \n",
       "8      M        FRS                     Fire and Rescue Services   \n",
       "9      F        POL                         Department of Police   \n",
       "\n",
       "                                            division assignment_category  \\\n",
       "0  MSB Information Mgmt and Tech Division Records...    Fulltime-Regular   \n",
       "1         ISB Major Crimes Division Fugitive Section    Fulltime-Regular   \n",
       "2      Adult Protective and Case Management Services    Fulltime-Regular   \n",
       "3                         PRRS Facility and Security    Fulltime-Regular   \n",
       "4                        Affordable Housing Programs    Fulltime-Regular   \n",
       "5           PSB 6th District Special Assignment Team    Fulltime-Regular   \n",
       "6                                        EMS Billing    Fulltime-Regular   \n",
       "7                                         Head Start    Fulltime-Regular   \n",
       "8                                   Recruit Training    Fulltime-Regular   \n",
       "9  FSB Traffic Division Automated Traffic Enforce...    Fulltime-Regular   \n",
       "\n",
       "        employee_position_title            underfilled_job_title  \\\n",
       "0   Office Services Coordinator                              NaN   \n",
       "1         Master Police Officer                              NaN   \n",
       "2              Social Worker IV                              NaN   \n",
       "3        Resident Supervisor II                              NaN   \n",
       "4       Planning Specialist III                              NaN   \n",
       "5            Police Officer III                              NaN   \n",
       "6         Accountant/Auditor II                              NaN   \n",
       "7  Administrative Specialist II                              NaN   \n",
       "8       Firefighter/Rescuer III  Firefighter/Rescuer I (Recruit)   \n",
       "9                   Police Aide                              NaN   \n",
       "\n",
       "  date_first_hired  year_first_hired  \n",
       "0       09/22/1986              1986  \n",
       "1       09/12/1988              1988  \n",
       "2       11/19/1989              1989  \n",
       "3       05/05/2014              2014  \n",
       "4       03/05/2007              2007  \n",
       "5       07/16/2007              2007  \n",
       "6       06/27/2016              2016  \n",
       "7       11/17/2014              2014  \n",
       "8       12/12/2016              2016  \n",
       "9       02/05/2007              2007  "
      ]
     },
     "execution_count": 9,
     "metadata": {},
     "output_type": "execute_result"
    }
   ],
   "source": [
    "from dirty_cat.datasets import fetch_employee_salaries\n",
    "from dirty_cat import SimilarityEncoder\n",
    "\n",
    "X = fetch_employee_salaries().X\n",
    "X.head(10)"
   ]
  },
  {
   "cell_type": "code",
   "execution_count": 21,
   "metadata": {
    "ExecuteTime": {
     "end_time": "2021-12-01T14:44:56.498071Z",
     "start_time": "2021-12-01T14:44:56.489775Z"
    }
   },
   "outputs": [
    {
     "data": {
      "text/plain": [
       "array(['Office Services Coordinator', 'Master Police Officer',\n",
       "       'Social Worker IV', 'Resident Supervisor II',\n",
       "       'Planning Specialist III', 'Police Officer III',\n",
       "       'Accountant/Auditor II'], dtype=object)"
      ]
     },
     "execution_count": 21,
     "metadata": {},
     "output_type": "execute_result"
    }
   ],
   "source": [
    "dirty_column = \"employee_position_title\"\n",
    "X_dirty = df[dirty_column].values\n",
    "X_dirty[:7]"
   ]
  },
  {
   "attachments": {},
   "cell_type": "markdown",
   "metadata": {},
   "source": [
    "We can see that titles such as 'Master Police Officer' and 'Police Officer III' are similar. We can use `SimilaryEncoder` to encode these categories while capturing their similarities. "
   ]
  },
  {
   "cell_type": "code",
   "execution_count": 19,
   "metadata": {
    "ExecuteTime": {
     "end_time": "2021-12-01T14:38:40.668937Z",
     "start_time": "2021-12-01T14:38:40.635484Z"
    }
   },
   "outputs": [
    {
     "data": {
      "text/plain": [
       "array([[0.05882353, 0.03125   , 0.02739726, 0.19008264, 1.        ,\n",
       "        0.01351351, 0.05555556, 0.20535714, 0.08088235, 0.032     ],\n",
       "       [0.008     , 0.02083333, 0.056     , 1.        , 0.19008264,\n",
       "        0.02325581, 0.23076923, 0.56      , 0.01574803, 0.02777778],\n",
       "       [0.03738318, 0.07317073, 0.05405405, 0.02777778, 0.032     ,\n",
       "        0.0733945 , 0.        , 0.0625    , 0.06542056, 1.        ],\n",
       "       [0.11206897, 0.07142857, 0.09756098, 0.01574803, 0.08088235,\n",
       "        0.07142857, 0.03125   , 0.08108108, 1.        , 0.06542056],\n",
       "       [0.04761905, 0.3539823 , 0.06976744, 0.02325581, 0.01351351,\n",
       "        1.        , 0.02      , 0.09821429, 0.07142857, 0.0733945 ],\n",
       "       [0.0733945 , 0.05343511, 0.14953271, 0.56      , 0.20535714,\n",
       "        0.09821429, 0.26086957, 1.        , 0.08108108, 0.0625    ],\n",
       "       [1.        , 0.05      , 0.06451613, 0.008     , 0.05882353,\n",
       "        0.04761905, 0.01052632, 0.0733945 , 0.11206897, 0.03738318],\n",
       "       [0.05      , 1.        , 0.03378378, 0.02083333, 0.03125   ,\n",
       "        0.3539823 , 0.02631579, 0.05343511, 0.07142857, 0.07317073],\n",
       "       [0.06451613, 0.03378378, 1.        , 0.056     , 0.02739726,\n",
       "        0.06976744, 0.        , 0.14953271, 0.09756098, 0.05405405],\n",
       "       [0.01052632, 0.02631579, 0.        , 0.23076923, 0.05555556,\n",
       "        0.02      , 1.        , 0.26086957, 0.03125   , 0.        ]])"
      ]
     },
     "execution_count": 19,
     "metadata": {},
     "output_type": "execute_result"
    }
   ],
   "source": [
    "enc = SimilarityEncoder(similarity=\"ngram\")\n",
    "X_enc = enc.fit_transform(X_dirty[:10].reshape(-1, 1))\n",
    "X_enc"
   ]
  },
  {
   "attachments": {},
   "cell_type": "markdown",
   "metadata": {},
   "source": [
    "Cool! Let's create a heatmap to understand the correlation between the encoded features."
   ]
  },
  {
   "cell_type": "code",
   "execution_count": 23,
   "metadata": {
    "ExecuteTime": {
     "end_time": "2021-12-01T14:46:56.997543Z",
     "start_time": "2021-12-01T14:46:56.985760Z"
    }
   },
   "outputs": [],
   "source": [
    "import seaborn as sns\n",
    "import numpy as np\n",
    "from sklearn.preprocessing import normalize\n",
    "from IPython.core.pylabtools import figsize\n",
    "\n",
    "def plot_similarity(labels, features):\n",
    "  \n",
    "    normalized_features = normalize(features)\n",
    "    \n",
    "    # Create correction matrix\n",
    "    corr = np.inner(normalized_features, normalized_features)\n",
    "    \n",
    "    # Plot\n",
    "    figsize(10, 10)\n",
    "    sns.set(font_scale=1.2)\n",
    "    g = sns.heatmap(corr, xticklabels=labels, yticklabels=labels, vmin=0,\n",
    "        vmax=1, cmap=\"YlOrRd\", annot=True, annot_kws={\"size\": 10})\n",
    "        \n",
    "    g.set_xticklabels(labels, rotation=90)\n",
    "    g.set_title(\"Similarity\")\n",
    "\n",
    "\n",
    "def encode_and_plot(labels):\n",
    "  \n",
    "    enc = SimilarityEncoder(similarity=\"ngram\") # Encode\n",
    "    X_enc = enc.fit_transform(labels.reshape(-1, 1))\n",
    "    \n",
    "    plot_similarity(labels, X_enc) # Plot"
   ]
  },
  {
   "cell_type": "code",
   "execution_count": 25,
   "metadata": {
    "ExecuteTime": {
     "end_time": "2021-12-01T14:46:58.531298Z",
     "start_time": "2021-12-01T14:46:57.838439Z"
    }
   },
   "outputs": [
    {
     "data": {
      "image/png": "[encoded data removed]",
      "text/plain": [
       "<Figure size 720x720 with 2 Axes>"
      ]
     },
     "metadata": {},
     "output_type": "display_data"
    }
   ],
   "source": [
    "encode_and_plot(X_dirty[:10])"
   ]
  },
  {
   "attachments": {},
   "cell_type": "markdown",
   "metadata": {},
   "source": [
    "As we can see from the matrix above,\n",
    "- The similarity between the same strings such as 'Office Services Coordinator' and 'Office Services Coordinator' is 1\n",
    "- The similarity between somewhat similar strings such as 'Office Services Coordinator' and 'Master Police Officer' is 0.41\n",
    "- The similarity between two very different strings such as 'Social Worker IV' and 'Polic Aide' is 0.028\n"
   ]
  },
  {
   "attachments": {},
   "cell_type": "markdown",
   "metadata": {},
   "source": [
    "[Link to dirty-cat](https://dirty-cat.github.io/).\n",
    "\n",
    "[Link to my full article about dirty-cat](https://towardsdatascience.com/similarity-encoding-for-dirty-categories-using-dirty-cat-d9f0b581a552)."
   ]
  },
  {
   "attachments": {},
   "cell_type": "markdown",
   "metadata": {},
   "source": [
    "### Solving Data Mismatches: Joining Tables with Fuzzy Matching"
   ]
  },
  {
   "cell_type": "code",
   "execution_count": null,
   "metadata": {
    "tags": [
     "hide-cell"
    ]
   },
   "outputs": [],
   "source": [
    "!pip install git+https://github.com/skrub-data/skrub.git"
   ]
  },
  {
   "cell_type": "code",
   "execution_count": 10,
   "metadata": {
    "tags": [
     "remove-cell"
    ]
   },
   "outputs": [],
   "source": [
    "# We will ignore the warnings:\n",
    "import warnings\n",
    "\n",
    "warnings.filterwarnings(\"ignore\")"
   ]
  },
  {
   "attachments": {},
   "cell_type": "markdown",
   "metadata": {},
   "source": [
    "Frequently, entries in one table may not have an exact match in another table. For instance, one table might have \"Yemen*\" while the other has \"Yemen, Rep.\"\n",
    "\n",
    "The `fuzzy_join()` function in skrub enables joining tables without the need for extensive data cleaning by accounting for the label variations."
   ]
  },
  {
   "cell_type": "code",
   "execution_count": 13,
   "metadata": {},
   "outputs": [],
   "source": [
    "import pandas as pd\n",
    "\n",
    "df = pd.read_csv(\n",
    "    \"https://raw.githubusercontent.com/skrub-data/datasets/master/data/Happiness_report_2022.csv\",\n",
    "    thousands=\",\",\n",
    ")\n",
    "df = df[[\"Country\", \"Happiness score\"]]"
   ]
  },
  {
   "cell_type": "code",
   "execution_count": 14,
   "metadata": {},
   "outputs": [],
   "source": [
    "from skrub.datasets import fetch_world_bank_indicator\n",
    "gdppc = fetch_world_bank_indicator(indicator_id=\"NY.GDP.PCAP.CD\").X"
   ]
  },
  {
   "cell_type": "code",
   "execution_count": 30,
   "metadata": {},
   "outputs": [
    {
     "name": "stdout",
     "output_type": "stream",
     "text": [
      "       Country  Happiness score\n",
      "107  Venezuela           4925.0\n",
      "76     Vietnam           5485.0\n",
      "131     Yemen*           4197.0\n",
      "136     Zambia           3760.0\n",
      "143   Zimbabwe           2995.0\n",
      "146         xx              NaN\n"
     ]
    }
   ],
   "source": [
    "print(df.sort_values(by=\"Country\").tail(6))"
   ]
  },
  {
   "cell_type": "code",
   "execution_count": 19,
   "metadata": {},
   "outputs": [
    {
     "name": "stdout",
     "output_type": "stream",
     "text": [
      "           Country Name  GDP per capita (current US$)\n",
      "193  West Bank and Gaza                   3789.327966\n",
      "255               World                  12647.480789\n",
      "258         Yemen, Rep.                    701.714878\n",
      "260              Zambia                   1487.907764\n",
      "261            Zimbabwe                   1266.996031\n"
     ]
    }
   ],
   "source": [
    "print(gdppc.sort_values(by=\"Country Name\").tail(5))"
   ]
  },
  {
   "cell_type": "code",
   "execution_count": 33,
   "metadata": {},
   "outputs": [
    {
     "name": "stdout",
     "output_type": "stream",
     "text": [
      "          Country                                 Country Name  matching_score\n",
      "127   Madagascar*                                   Madagascar        0.795045\n",
      "128         Egypt                             Egypt, Arab Rep.        0.654033\n",
      "129         Chad*                                         Chad        0.683373\n",
      "130      Ethiopia                                     Ethiopia        1.000000\n",
      "131        Yemen*                                  Yemen, Rep.        0.653668\n",
      "132   Mauritania*                                   Mauritania        0.810736\n",
      "133        Jordan                                       Jordan        1.000000\n",
      "134          Togo                                         Togo        1.000000\n",
      "135         India                                        India        1.000000\n",
      "136        Zambia                                       Zambia        1.000000\n",
      "137        Malawi                                       Malawi        1.000000\n",
      "138      Tanzania                                     Tanzania        1.000000\n",
      "139  Sierra Leone                                 Sierra Leone        1.000000\n",
      "140      Lesotho*                                      Lesotho        0.755238\n",
      "141     Botswana*                                     Botswana        0.795825\n",
      "142       Rwanda*                                       Rwanda        0.754604\n",
      "143      Zimbabwe                                     Zimbabwe        1.000000\n",
      "144       Lebanon                                      Lebanon        1.000000\n",
      "145   Afghanistan                                  Afghanistan        1.000000\n",
      "146            xx  East Asia & Pacific (excluding high income)        0.500000\n"
     ]
    }
   ],
   "source": [
    "from skrub import fuzzy_join\n",
    "\n",
    "df1 = fuzzy_join(\n",
    "    df,  # our table to join\n",
    "    gdppc,  # the table to join with\n",
    "    left_on=\"Country\",  # the first join key column\n",
    "    right_on=\"Country Name\",  # the second join key column\n",
    "    return_score=True,\n",
    ")\n",
    "\n",
    "print(df1[['Country', 'Country Name', \"matching_score\"]].tail(20))\n",
    "# We merged the first WB table to our initial one."
   ]
  },
  {
   "attachments": {},
   "cell_type": "markdown",
   "metadata": {},
   "source": [
    "[Link to skrub](https://github.com/skrub-data/skrub/)."
   ]
  },
  {
   "attachments": {},
   "cell_type": "markdown",
   "metadata": {},
   "source": [
    "### Snorkel — Programmatically Build Training Data in Python"
   ]
  },
  {
   "cell_type": "code",
   "execution_count": null,
   "metadata": {
    "ExecuteTime": {
     "end_time": "2022-02-25T14:39:23.498178Z",
     "start_time": "2022-02-25T14:39:06.427037Z"
    },
    "tags": [
     "hide-cell"
    ]
   },
   "outputs": [],
   "source": [
    "!pip install snorkel"
   ]
  },
  {
   "attachments": {},
   "cell_type": "markdown",
   "metadata": {},
   "source": [
    "Imagine you try to determine whether a job posting is fake or not. You come up with some assumptions about a fake job posting, such as:\n",
    "* If a job posting has few to no descriptions about the requirements, it is likely to be fake.\n",
    "* If a job posting does not include any company profile or logo, it is likely to be fake.\n",
    "* If the job posting requires some sort of education or experience, it is likely to be real."
   ]
  },
  {
   "cell_type": "code",
   "execution_count": 22,
   "metadata": {
    "ExecuteTime": {
     "end_time": "2022-02-25T14:56:21.318677Z",
     "start_time": "2022-02-25T14:56:19.057187Z"
    }
   },
   "outputs": [
    {
     "data": {
      "text/html": [
       "<div>\n",
       "<style scoped>\n",
       "    .dataframe tbody tr th:only-of-type {\n",
       "        vertical-align: middle;\n",
       "    }\n",
       "\n",
       "    .dataframe tbody tr th {\n",
       "        vertical-align: top;\n",
       "    }\n",
       "\n",
       "    .dataframe thead th {\n",
       "        text-align: right;\n",
       "    }\n",
       "</style>\n",
       "<table border=\"1\" class=\"dataframe\">\n",
       "  <thead>\n",
       "    <tr style=\"text-align: right;\">\n",
       "      <th></th>\n",
       "      <th>job_id</th>\n",
       "      <th>title</th>\n",
       "      <th>location</th>\n",
       "      <th>department</th>\n",
       "      <th>salary_range</th>\n",
       "      <th>company_profile</th>\n",
       "      <th>description</th>\n",
       "      <th>requirements</th>\n",
       "      <th>benefits</th>\n",
       "      <th>telecommuting</th>\n",
       "      <th>has_company_logo</th>\n",
       "      <th>has_questions</th>\n",
       "      <th>employment_type</th>\n",
       "      <th>required_experience</th>\n",
       "      <th>required_education</th>\n",
       "      <th>industry</th>\n",
       "      <th>function</th>\n",
       "      <th>fraudulent</th>\n",
       "    </tr>\n",
       "  </thead>\n",
       "  <tbody>\n",
       "    <tr>\n",
       "      <th>12276</th>\n",
       "      <td>12277</td>\n",
       "      <td>Big Data Analyst</td>\n",
       "      <td>GB, WSM, London</td>\n",
       "      <td>Product Ops</td>\n",
       "      <td>NaN</td>\n",
       "      <td>Founded in 2010 by a team from Google’s London...</td>\n",
       "      <td>Qubit: Cutting Edge Big Data EngineeringQubit ...</td>\n",
       "      <td>What you'll need: A background in consulting, ...</td>\n",
       "      <td>Plenty of perks:As well as the opportunity to ...</td>\n",
       "      <td>0</td>\n",
       "      <td>1</td>\n",
       "      <td>1</td>\n",
       "      <td>Full-time</td>\n",
       "      <td>Associate</td>\n",
       "      <td>Bachelor's Degree</td>\n",
       "      <td>Internet</td>\n",
       "      <td>Product Management</td>\n",
       "      <td>0</td>\n",
       "    </tr>\n",
       "    <tr>\n",
       "      <th>14680</th>\n",
       "      <td>14681</td>\n",
       "      <td>Instructional Advocate</td>\n",
       "      <td>US, GA, Savannah</td>\n",
       "      <td>NaN</td>\n",
       "      <td>NaN</td>\n",
       "      <td>We are an after-school program committed to as...</td>\n",
       "      <td>21st Century Community Learning Centers is an ...</td>\n",
       "      <td>Bachelor's Degree or an Associate's Degree; or...</td>\n",
       "      <td>NaN</td>\n",
       "      <td>0</td>\n",
       "      <td>1</td>\n",
       "      <td>0</td>\n",
       "      <td>Part-time</td>\n",
       "      <td>NaN</td>\n",
       "      <td>NaN</td>\n",
       "      <td>NaN</td>\n",
       "      <td>Education</td>\n",
       "      <td>0</td>\n",
       "    </tr>\n",
       "    <tr>\n",
       "      <th>16518</th>\n",
       "      <td>16519</td>\n",
       "      <td>Software Developer</td>\n",
       "      <td>US, FL, Gainesville</td>\n",
       "      <td>NaN</td>\n",
       "      <td>NaN</td>\n",
       "      <td>352 Inc. is a full-service digital agency crea...</td>\n",
       "      <td>We partner with great clients to build smart s...</td>\n",
       "      <td>3-5 years of great c# work Experience in mvc o...</td>\n",
       "      <td>What You’ll GetFreedom: We trust you to do you...</td>\n",
       "      <td>0</td>\n",
       "      <td>1</td>\n",
       "      <td>0</td>\n",
       "      <td>Full-time</td>\n",
       "      <td>Mid-Senior level</td>\n",
       "      <td>NaN</td>\n",
       "      <td>Computer Software</td>\n",
       "      <td>Information Technology</td>\n",
       "      <td>0</td>\n",
       "    </tr>\n",
       "    <tr>\n",
       "      <th>15478</th>\n",
       "      <td>15479</td>\n",
       "      <td>Internship in India</td>\n",
       "      <td>IN, , Bangalore</td>\n",
       "      <td>NaN</td>\n",
       "      <td>NaN</td>\n",
       "      <td></td>\n",
       "      <td>London is a fast paced city of culture, divers...</td>\n",
       "      <td></td>\n",
       "      <td>As specialists in delivering high quality and ...</td>\n",
       "      <td>0</td>\n",
       "      <td>1</td>\n",
       "      <td>0</td>\n",
       "      <td>NaN</td>\n",
       "      <td>NaN</td>\n",
       "      <td>NaN</td>\n",
       "      <td>NaN</td>\n",
       "      <td>NaN</td>\n",
       "      <td>0</td>\n",
       "    </tr>\n",
       "    <tr>\n",
       "      <th>16348</th>\n",
       "      <td>16349</td>\n",
       "      <td>Web Developer Backend Microservices (m/f)</td>\n",
       "      <td>DE, BE, 10969</td>\n",
       "      <td>Engineering</td>\n",
       "      <td>NaN</td>\n",
       "      <td>airfy prägt sicheres und einfach zu bedienende...</td>\n",
       "      <td>Design and develop a microservice platform for...</td>\n",
       "      <td>Senior level experience with web backends, esp...</td>\n",
       "      <td>Flat hierarchies and a productive work environ...</td>\n",
       "      <td>0</td>\n",
       "      <td>1</td>\n",
       "      <td>0</td>\n",
       "      <td>Full-time</td>\n",
       "      <td>Associate</td>\n",
       "      <td>Bachelor's Degree</td>\n",
       "      <td>Internet</td>\n",
       "      <td>Engineering</td>\n",
       "      <td>0</td>\n",
       "    </tr>\n",
       "  </tbody>\n",
       "</table>\n",
       "</div>"
      ],
      "text/plain": [
       "       job_id                                      title             location  \\\n",
       "12276   12277                           Big Data Analyst      GB, WSM, London   \n",
       "14680   14681                    Instructional Advocate      US, GA, Savannah   \n",
       "16518   16519                         Software Developer  US, FL, Gainesville   \n",
       "15478   15479                        Internship in India      IN, , Bangalore   \n",
       "16348   16349  Web Developer Backend Microservices (m/f)        DE, BE, 10969   \n",
       "\n",
       "        department salary_range  \\\n",
       "12276  Product Ops          NaN   \n",
       "14680          NaN          NaN   \n",
       "16518          NaN          NaN   \n",
       "15478          NaN          NaN   \n",
       "16348  Engineering          NaN   \n",
       "\n",
       "                                         company_profile  \\\n",
       "12276  Founded in 2010 by a team from Google’s London...   \n",
       "14680  We are an after-school program committed to as...   \n",
       "16518  352 Inc. is a full-service digital agency crea...   \n",
       "15478                                                      \n",
       "16348  airfy prägt sicheres und einfach zu bedienende...   \n",
       "\n",
       "                                             description  \\\n",
       "12276  Qubit: Cutting Edge Big Data EngineeringQubit ...   \n",
       "14680  21st Century Community Learning Centers is an ...   \n",
       "16518  We partner with great clients to build smart s...   \n",
       "15478  London is a fast paced city of culture, divers...   \n",
       "16348  Design and develop a microservice platform for...   \n",
       "\n",
       "                                            requirements  \\\n",
       "12276  What you'll need: A background in consulting, ...   \n",
       "14680  Bachelor's Degree or an Associate's Degree; or...   \n",
       "16518  3-5 years of great c# work Experience in mvc o...   \n",
       "15478                                                      \n",
       "16348  Senior level experience with web backends, esp...   \n",
       "\n",
       "                                                benefits  telecommuting  \\\n",
       "12276  Plenty of perks:As well as the opportunity to ...              0   \n",
       "14680                                                NaN              0   \n",
       "16518  What You’ll GetFreedom: We trust you to do you...              0   \n",
       "15478  As specialists in delivering high quality and ...              0   \n",
       "16348  Flat hierarchies and a productive work environ...              0   \n",
       "\n",
       "       has_company_logo  has_questions employment_type required_experience  \\\n",
       "12276                 1              1       Full-time           Associate   \n",
       "14680                 1              0       Part-time                 NaN   \n",
       "16518                 1              0       Full-time    Mid-Senior level   \n",
       "15478                 1              0             NaN                 NaN   \n",
       "16348                 1              0       Full-time           Associate   \n",
       "\n",
       "      required_education           industry                function  \\\n",
       "12276  Bachelor's Degree           Internet      Product Management   \n",
       "14680                NaN                NaN               Education   \n",
       "16518                NaN  Computer Software  Information Technology   \n",
       "15478                NaN                NaN                     NaN   \n",
       "16348  Bachelor's Degree           Internet             Engineering   \n",
       "\n",
       "       fraudulent  \n",
       "12276           0  \n",
       "14680           0  \n",
       "16518           0  \n",
       "15478           0  \n",
       "16348           0  "
      ]
     },
     "execution_count": 22,
     "metadata": {},
     "output_type": "execute_result"
    },
    {
     "data": {
      "application/javascript": "\n            setTimeout(function() {\n                var nbb_cell_id = 22;\n                var nbb_unformatted_code = \"import pandas as pd \\nimport warnings\\nwarnings.simplefilter(action='ignore', category=FutureWarning)\\n\\n\\ntrain_df = pd.read_pickle(\\n    \\\"https://github.com/khuyentran1401/Data-science/blob/master/feature_engineering/snorkel_example/train_fake_jobs.pkl?raw=true\\\"\\n)\\ntrain_df.head(5)\";\n                var nbb_formatted_code = \"import pandas as pd\\nimport warnings\\n\\nwarnings.simplefilter(action=\\\"ignore\\\", category=FutureWarning)\\n\\n\\ntrain_df = pd.read_pickle(\\n    \\\"https://github.com/khuyentran1401/Data-science/blob/master/feature_engineering/snorkel_example/train_fake_jobs.pkl?raw=true\\\"\\n)\\ntrain_df.head(5)\";\n                var nbb_cells = Jupyter.notebook.get_cells();\n                for (var i = 0; i < nbb_cells.length; ++i) {\n                    if (nbb_cells[i].input_prompt_number == nbb_cell_id) {\n                        if (nbb_cells[i].get_text() == nbb_unformatted_code) {\n                             nbb_cells[i].set_text(nbb_formatted_code);\n                        }\n                        break;\n                    }\n                }\n            }, 500);\n            ",
      "text/plain": [
       "<IPython.core.display.Javascript object>"
      ]
     },
     "metadata": {},
     "output_type": "display_data"
    }
   ],
   "source": [
    "import pandas as pd \n",
    "import warnings\n",
    "warnings.simplefilter(action='ignore', category=FutureWarning)\n",
    "\n",
    "\n",
    "train_df = pd.read_pickle(\n",
    "    \"https://github.com/khuyentran1401/Data-science/blob/master/feature_engineering/snorkel_example/train_fake_jobs.pkl?raw=true\"\n",
    ")\n",
    "train_df.head(5)"
   ]
  },
  {
   "attachments": {},
   "cell_type": "markdown",
   "metadata": {},
   "source": [
    "\n",
    "How do you test which of these features are the most accurate in predicting fraud?\n",
    "\n",
    "That is when Snorkel comes in handy. Snorkel is an open-source Python library for programmatically building training datasets without manual labeling. \n",
    "\n",
    "To learn how Snorkel works, start with giving a meaningful name to each value:"
   ]
  },
  {
   "cell_type": "code",
   "execution_count": 15,
   "metadata": {
    "ExecuteTime": {
     "end_time": "2022-02-25T14:47:33.879404Z",
     "start_time": "2022-02-25T14:47:33.858590Z"
    }
   },
   "outputs": [
    {
     "data": {
      "application/javascript": "\n            setTimeout(function() {\n                var nbb_cell_id = 15;\n                var nbb_unformatted_code = \"from snorkel.labeling import labeling_function, PandasLFApplier, LFAnalysis\\n\\nFAKE = 1\\nREAL = 0\\nABSTAIN = -1\";\n                var nbb_formatted_code = \"from snorkel.labeling import labeling_function, PandasLFApplier, LFAnalysis\\n\\nFAKE = 1\\nREAL = 0\\nABSTAIN = -1\";\n                var nbb_cells = Jupyter.notebook.get_cells();\n                for (var i = 0; i < nbb_cells.length; ++i) {\n                    if (nbb_cells[i].input_prompt_number == nbb_cell_id) {\n                        if (nbb_cells[i].get_text() == nbb_unformatted_code) {\n                             nbb_cells[i].set_text(nbb_formatted_code);\n                        }\n                        break;\n                    }\n                }\n            }, 500);\n            ",
      "text/plain": [
       "<IPython.core.display.Javascript object>"
      ]
     },
     "metadata": {},
     "output_type": "display_data"
    }
   ],
   "source": [
    "from snorkel.labeling import labeling_function, PandasLFApplier, LFAnalysis\n",
    "\n",
    "FAKE = 1\n",
    "REAL = 0\n",
    "ABSTAIN = -1"
   ]
  },
  {
   "attachments": {},
   "cell_type": "markdown",
   "metadata": {},
   "source": [
    "We assume that:\n",
    "- Fake companies don’t have company profiles or logos\n",
    "- Fake companies are found in a lot of fake job postings\n",
    "- Real job postings often requires a certain level of experience and education \n",
    "\n",
    "Let’s test those assumptions using Snorkel’s `labeling_function` decorator. The `labeling_function` decorator allows us to quickly label instances in a dataset using functions."
   ]
  },
  {
   "cell_type": "code",
   "execution_count": 29,
   "metadata": {
    "ExecuteTime": {
     "end_time": "2022-02-25T15:14:38.573702Z",
     "start_time": "2022-02-25T15:14:38.530583Z"
    }
   },
   "outputs": [
    {
     "data": {
      "application/javascript": "\n            setTimeout(function() {\n                var nbb_cell_id = 29;\n                var nbb_unformatted_code = \"@labeling_function()\\ndef no_company_profile(x: pd.Series):\\n    return FAKE if x.company_profile == \\\"\\\" else ABSTAIN\\n\\n\\n@labeling_function()\\ndef no_company_logo(x: pd.Series):\\n    return FAKE if x.has_company_logo == 0 else ABSTAIN\\n\\n@labeling_function()\\ndef required_experience(x: pd.Series):\\n    return REAL if x.required_experience else ABSTAIN\\n\\n\\n@labeling_function()\\ndef required_education(x: pd.Series):\\n    return REAL if x.required_education else ABSTAIN\";\n                var nbb_formatted_code = \"@labeling_function()\\ndef no_company_profile(x: pd.Series):\\n    return FAKE if x.company_profile == \\\"\\\" else ABSTAIN\\n\\n\\n@labeling_function()\\ndef no_company_logo(x: pd.Series):\\n    return FAKE if x.has_company_logo == 0 else ABSTAIN\\n\\n\\n@labeling_function()\\ndef required_experience(x: pd.Series):\\n    return REAL if x.required_experience else ABSTAIN\\n\\n\\n@labeling_function()\\ndef required_education(x: pd.Series):\\n    return REAL if x.required_education else ABSTAIN\";\n                var nbb_cells = Jupyter.notebook.get_cells();\n                for (var i = 0; i < nbb_cells.length; ++i) {\n                    if (nbb_cells[i].input_prompt_number == nbb_cell_id) {\n                        if (nbb_cells[i].get_text() == nbb_unformatted_code) {\n                             nbb_cells[i].set_text(nbb_formatted_code);\n                        }\n                        break;\n                    }\n                }\n            }, 500);\n            ",
      "text/plain": [
       "<IPython.core.display.Javascript object>"
      ]
     },
     "metadata": {},
     "output_type": "display_data"
    }
   ],
   "source": [
    "@labeling_function()\n",
    "def no_company_profile(x: pd.Series):\n",
    "    return FAKE if x.company_profile == \"\" else ABSTAIN\n",
    "\n",
    "\n",
    "@labeling_function()\n",
    "def no_company_logo(x: pd.Series):\n",
    "    return FAKE if x.has_company_logo == 0 else ABSTAIN\n",
    "\n",
    "\n",
    "@labeling_function()\n",
    "def required_experience(x: pd.Series):\n",
    "    return REAL if x.required_experience else ABSTAIN\n",
    "\n",
    "\n",
    "@labeling_function()\n",
    "def required_education(x: pd.Series):\n",
    "    return REAL if x.required_education else ABSTAIN"
   ]
  },
  {
   "attachments": {},
   "cell_type": "markdown",
   "metadata": {},
   "source": [
    "`ABSTAIN` or `-1` tells Snorkel not to make any conclusion about the instance that doesn’t satisfy the condition."
   ]
  },
  {
   "attachments": {},
   "cell_type": "markdown",
   "metadata": {},
   "source": [
    "Next, we will use each of these labeling functions to label our training dataset:"
   ]
  },
  {
   "cell_type": "code",
   "execution_count": 30,
   "metadata": {
    "ExecuteTime": {
     "end_time": "2022-02-25T15:14:52.178397Z",
     "start_time": "2022-02-25T15:14:49.753200Z"
    }
   },
   "outputs": [
    {
     "name": "stderr",
     "output_type": "stream",
     "text": [
      "100%|██████████████████████████████████████████████| 13410/13410 [00:02<00:00, 5849.25it/s]\n"
     ]
    },
    {
     "data": {
      "application/javascript": "\n            setTimeout(function() {\n                var nbb_cell_id = 30;\n                var nbb_unformatted_code = \"lfs = [\\n    no_company_profile,\\n    no_company_logo,\\n    required_experience,\\n    required_education,\\n]\\n\\napplier = PandasLFApplier(lfs=lfs)\\nL_train = applier.apply(df=train_df)\";\n                var nbb_formatted_code = \"lfs = [\\n    no_company_profile,\\n    no_company_logo,\\n    required_experience,\\n    required_education,\\n]\\n\\napplier = PandasLFApplier(lfs=lfs)\\nL_train = applier.apply(df=train_df)\";\n                var nbb_cells = Jupyter.notebook.get_cells();\n                for (var i = 0; i < nbb_cells.length; ++i) {\n                    if (nbb_cells[i].input_prompt_number == nbb_cell_id) {\n                        if (nbb_cells[i].get_text() == nbb_unformatted_code) {\n                             nbb_cells[i].set_text(nbb_formatted_code);\n                        }\n                        break;\n                    }\n                }\n            }, 500);\n            ",
      "text/plain": [
       "<IPython.core.display.Javascript object>"
      ]
     },
     "metadata": {},
     "output_type": "display_data"
    }
   ],
   "source": [
    "lfs = [\n",
    "    no_company_profile,\n",
    "    no_company_logo,\n",
    "    required_experience,\n",
    "    required_education,\n",
    "]\n",
    "\n",
    "applier = PandasLFApplier(lfs=lfs)\n",
    "L_train = applier.apply(df=train_df)"
   ]
  },
  {
   "attachments": {},
   "cell_type": "markdown",
   "metadata": {},
   "source": [
    "Now that we have created the labels using each labeling function, we can use `LFAnalysis` to determine the accuracy of these labels."
   ]
  },
  {
   "cell_type": "code",
   "execution_count": 31,
   "metadata": {
    "ExecuteTime": {
     "end_time": "2022-02-25T15:14:52.888783Z",
     "start_time": "2022-02-25T15:14:52.655406Z"
    }
   },
   "outputs": [
    {
     "data": {
      "text/html": [
       "<div>\n",
       "<style scoped>\n",
       "    .dataframe tbody tr th:only-of-type {\n",
       "        vertical-align: middle;\n",
       "    }\n",
       "\n",
       "    .dataframe tbody tr th {\n",
       "        vertical-align: top;\n",
       "    }\n",
       "\n",
       "    .dataframe thead th {\n",
       "        text-align: right;\n",
       "    }\n",
       "</style>\n",
       "<table border=\"1\" class=\"dataframe\">\n",
       "  <thead>\n",
       "    <tr style=\"text-align: right;\">\n",
       "      <th></th>\n",
       "      <th>j</th>\n",
       "      <th>Polarity</th>\n",
       "      <th>Coverage</th>\n",
       "      <th>Overlaps</th>\n",
       "      <th>Conflicts</th>\n",
       "      <th>Correct</th>\n",
       "      <th>Incorrect</th>\n",
       "      <th>Emp. Acc.</th>\n",
       "    </tr>\n",
       "  </thead>\n",
       "  <tbody>\n",
       "    <tr>\n",
       "      <th>no_company_profile</th>\n",
       "      <td>0</td>\n",
       "      <td>[1]</td>\n",
       "      <td>0.186204</td>\n",
       "      <td>0.186204</td>\n",
       "      <td>0.186204</td>\n",
       "      <td>459</td>\n",
       "      <td>2038</td>\n",
       "      <td>0.183821</td>\n",
       "    </tr>\n",
       "    <tr>\n",
       "      <th>no_company_logo</th>\n",
       "      <td>1</td>\n",
       "      <td>[1]</td>\n",
       "      <td>0.205742</td>\n",
       "      <td>0.205742</td>\n",
       "      <td>0.205742</td>\n",
       "      <td>459</td>\n",
       "      <td>2300</td>\n",
       "      <td>0.166365</td>\n",
       "    </tr>\n",
       "    <tr>\n",
       "      <th>required_experience</th>\n",
       "      <td>2</td>\n",
       "      <td>[0]</td>\n",
       "      <td>1.000000</td>\n",
       "      <td>1.000000</td>\n",
       "      <td>0.244295</td>\n",
       "      <td>12741</td>\n",
       "      <td>669</td>\n",
       "      <td>0.950112</td>\n",
       "    </tr>\n",
       "    <tr>\n",
       "      <th>required_education</th>\n",
       "      <td>3</td>\n",
       "      <td>[0]</td>\n",
       "      <td>1.000000</td>\n",
       "      <td>1.000000</td>\n",
       "      <td>0.244295</td>\n",
       "      <td>12741</td>\n",
       "      <td>669</td>\n",
       "      <td>0.950112</td>\n",
       "    </tr>\n",
       "  </tbody>\n",
       "</table>\n",
       "</div>"
      ],
      "text/plain": [
       "                     j Polarity  Coverage  Overlaps  Conflicts  Correct  \\\n",
       "no_company_profile   0      [1]  0.186204  0.186204   0.186204      459   \n",
       "no_company_logo      1      [1]  0.205742  0.205742   0.205742      459   \n",
       "required_experience  2      [0]  1.000000  1.000000   0.244295    12741   \n",
       "required_education   3      [0]  1.000000  1.000000   0.244295    12741   \n",
       "\n",
       "                     Incorrect  Emp. Acc.  \n",
       "no_company_profile        2038   0.183821  \n",
       "no_company_logo           2300   0.166365  \n",
       "required_experience        669   0.950112  \n",
       "required_education         669   0.950112  "
      ]
     },
     "execution_count": 31,
     "metadata": {},
     "output_type": "execute_result"
    },
    {
     "data": {
      "application/javascript": "\n            setTimeout(function() {\n                var nbb_cell_id = 31;\n                var nbb_unformatted_code = \"LFAnalysis(L=L_train, lfs=lfs).lf_summary(Y=train_df.fraudulent.values)\";\n                var nbb_formatted_code = \"LFAnalysis(L=L_train, lfs=lfs).lf_summary(Y=train_df.fraudulent.values)\";\n                var nbb_cells = Jupyter.notebook.get_cells();\n                for (var i = 0; i < nbb_cells.length; ++i) {\n                    if (nbb_cells[i].input_prompt_number == nbb_cell_id) {\n                        if (nbb_cells[i].get_text() == nbb_unformatted_code) {\n                             nbb_cells[i].set_text(nbb_formatted_code);\n                        }\n                        break;\n                    }\n                }\n            }, 500);\n            ",
      "text/plain": [
       "<IPython.core.display.Javascript object>"
      ]
     },
     "metadata": {},
     "output_type": "display_data"
    }
   ],
   "source": [
    "LFAnalysis(L=L_train, lfs=lfs).lf_summary(Y=train_df.fraudulent.values)"
   ]
  },
  {
   "attachments": {},
   "cell_type": "markdown",
   "metadata": {},
   "source": [
    "Details of the statistics in the table above:\n",
    "* **Polarity**: The set of unique labels this LF outputs (excluding abstains)\n",
    "* **Coverage**: The fraction of the dataset that is labeled\n",
    "* **Overlaps**: The fraction of the dataset where this LF and at least one other LF agree\n",
    "* **Conflicts**: The fraction of the dataset where this LF and at least one other LF disagree\n",
    "* **Correct**: The number of data points this LF labels correctly\n",
    "* **Incorrect**: The number of data points this LF labels incorrectly\n",
    "* **Empirical** Accuracy: The empirical accuracy of this LF"
   ]
  },
  {
   "attachments": {},
   "cell_type": "markdown",
   "metadata": {},
   "source": [
    "[Link to Snorkel](https://www.snorkel.org/).\n",
    "\n",
    "[My full article about Snorkel](https://towardsdatascience.com/snorkel-programmatically-build-training-data-in-python-712fc39649fe)."
   ]
  },
  {
   "attachments": {},
   "cell_type": "markdown",
   "metadata": {},
   "source": [
    "### sketch: AI Code-Writing Assistant That Understands Data Content"
   ]
  },
  {
   "attachments": {},
   "cell_type": "markdown",
   "metadata": {},
   "source": [
    "Wouldn't it be nice if you could get insights into your data by simply asking a question? Sketch allows you to do exactly that.\n",
    "\n",
    "Sketch is an AI code-writing assistant for pandas users that understands the context of your data."
   ]
  },
  {
   "cell_type": "code",
   "execution_count": null,
   "metadata": {
    "tags": [
     "hide-cell"
    ]
   },
   "outputs": [],
   "source": [
    "!pip install sketch"
   ]
  },
  {
   "cell_type": "code",
   "execution_count": 3,
   "metadata": {},
   "outputs": [],
   "source": [
    "import pandas as pd  \n",
    "import seaborn as sns \n",
    "import sketch"
   ]
  },
  {
   "cell_type": "code",
   "execution_count": 18,
   "metadata": {},
   "outputs": [
    {
     "data": {
      "text/html": [
       "<div>\n",
       "<style scoped>\n",
       "    .dataframe tbody tr th:only-of-type {\n",
       "        vertical-align: middle;\n",
       "    }\n",
       "\n",
       "    .dataframe tbody tr th {\n",
       "        vertical-align: top;\n",
       "    }\n",
       "\n",
       "    .dataframe thead th {\n",
       "        text-align: right;\n",
       "    }\n",
       "</style>\n",
       "<table border=\"1\" class=\"dataframe\">\n",
       "  <thead>\n",
       "    <tr style=\"text-align: right;\">\n",
       "      <th></th>\n",
       "      <th>pickup</th>\n",
       "      <th>dropoff</th>\n",
       "      <th>passengers</th>\n",
       "      <th>distance</th>\n",
       "      <th>fare</th>\n",
       "      <th>tip</th>\n",
       "      <th>tolls</th>\n",
       "      <th>total</th>\n",
       "      <th>color</th>\n",
       "      <th>payment</th>\n",
       "      <th>pickup_zone</th>\n",
       "      <th>dropoff_zone</th>\n",
       "      <th>pickup_borough</th>\n",
       "      <th>dropoff_borough</th>\n",
       "    </tr>\n",
       "  </thead>\n",
       "  <tbody>\n",
       "    <tr>\n",
       "      <th>0</th>\n",
       "      <td>2019-03-23 20:21:09</td>\n",
       "      <td>2019-03-23 20:27:24</td>\n",
       "      <td>1</td>\n",
       "      <td>1.60</td>\n",
       "      <td>7.0</td>\n",
       "      <td>2.15</td>\n",
       "      <td>0.0</td>\n",
       "      <td>12.95</td>\n",
       "      <td>yellow</td>\n",
       "      <td>credit card</td>\n",
       "      <td>Lenox Hill West</td>\n",
       "      <td>UN/Turtle Bay South</td>\n",
       "      <td>Manhattan</td>\n",
       "      <td>Manhattan</td>\n",
       "    </tr>\n",
       "    <tr>\n",
       "      <th>1</th>\n",
       "      <td>2019-03-04 16:11:55</td>\n",
       "      <td>2019-03-04 16:19:00</td>\n",
       "      <td>1</td>\n",
       "      <td>0.79</td>\n",
       "      <td>5.0</td>\n",
       "      <td>0.00</td>\n",
       "      <td>0.0</td>\n",
       "      <td>9.30</td>\n",
       "      <td>yellow</td>\n",
       "      <td>cash</td>\n",
       "      <td>Upper West Side South</td>\n",
       "      <td>Upper West Side South</td>\n",
       "      <td>Manhattan</td>\n",
       "      <td>Manhattan</td>\n",
       "    </tr>\n",
       "    <tr>\n",
       "      <th>2</th>\n",
       "      <td>2019-03-27 17:53:01</td>\n",
       "      <td>2019-03-27 18:00:25</td>\n",
       "      <td>1</td>\n",
       "      <td>1.37</td>\n",
       "      <td>7.5</td>\n",
       "      <td>2.36</td>\n",
       "      <td>0.0</td>\n",
       "      <td>14.16</td>\n",
       "      <td>yellow</td>\n",
       "      <td>credit card</td>\n",
       "      <td>Alphabet City</td>\n",
       "      <td>West Village</td>\n",
       "      <td>Manhattan</td>\n",
       "      <td>Manhattan</td>\n",
       "    </tr>\n",
       "    <tr>\n",
       "      <th>3</th>\n",
       "      <td>2019-03-10 01:23:59</td>\n",
       "      <td>2019-03-10 01:49:51</td>\n",
       "      <td>1</td>\n",
       "      <td>7.70</td>\n",
       "      <td>27.0</td>\n",
       "      <td>6.15</td>\n",
       "      <td>0.0</td>\n",
       "      <td>36.95</td>\n",
       "      <td>yellow</td>\n",
       "      <td>credit card</td>\n",
       "      <td>Hudson Sq</td>\n",
       "      <td>Yorkville West</td>\n",
       "      <td>Manhattan</td>\n",
       "      <td>Manhattan</td>\n",
       "    </tr>\n",
       "    <tr>\n",
       "      <th>4</th>\n",
       "      <td>2019-03-30 13:27:42</td>\n",
       "      <td>2019-03-30 13:37:14</td>\n",
       "      <td>3</td>\n",
       "      <td>2.16</td>\n",
       "      <td>9.0</td>\n",
       "      <td>1.10</td>\n",
       "      <td>0.0</td>\n",
       "      <td>13.40</td>\n",
       "      <td>yellow</td>\n",
       "      <td>credit card</td>\n",
       "      <td>Midtown East</td>\n",
       "      <td>Yorkville West</td>\n",
       "      <td>Manhattan</td>\n",
       "      <td>Manhattan</td>\n",
       "    </tr>\n",
       "    <tr>\n",
       "      <th>5</th>\n",
       "      <td>2019-03-11 10:37:23</td>\n",
       "      <td>2019-03-11 10:47:31</td>\n",
       "      <td>1</td>\n",
       "      <td>0.49</td>\n",
       "      <td>7.5</td>\n",
       "      <td>2.16</td>\n",
       "      <td>0.0</td>\n",
       "      <td>12.96</td>\n",
       "      <td>yellow</td>\n",
       "      <td>credit card</td>\n",
       "      <td>Times Sq/Theatre District</td>\n",
       "      <td>Midtown East</td>\n",
       "      <td>Manhattan</td>\n",
       "      <td>Manhattan</td>\n",
       "    </tr>\n",
       "    <tr>\n",
       "      <th>6</th>\n",
       "      <td>2019-03-26 21:07:31</td>\n",
       "      <td>2019-03-26 21:17:29</td>\n",
       "      <td>1</td>\n",
       "      <td>3.65</td>\n",
       "      <td>13.0</td>\n",
       "      <td>2.00</td>\n",
       "      <td>0.0</td>\n",
       "      <td>18.80</td>\n",
       "      <td>yellow</td>\n",
       "      <td>credit card</td>\n",
       "      <td>Battery Park City</td>\n",
       "      <td>Two Bridges/Seward Park</td>\n",
       "      <td>Manhattan</td>\n",
       "      <td>Manhattan</td>\n",
       "    </tr>\n",
       "    <tr>\n",
       "      <th>7</th>\n",
       "      <td>2019-03-22 12:47:13</td>\n",
       "      <td>2019-03-22 12:58:17</td>\n",
       "      <td>0</td>\n",
       "      <td>1.40</td>\n",
       "      <td>8.5</td>\n",
       "      <td>0.00</td>\n",
       "      <td>0.0</td>\n",
       "      <td>11.80</td>\n",
       "      <td>yellow</td>\n",
       "      <td>NaN</td>\n",
       "      <td>Murray Hill</td>\n",
       "      <td>Flatiron</td>\n",
       "      <td>Manhattan</td>\n",
       "      <td>Manhattan</td>\n",
       "    </tr>\n",
       "    <tr>\n",
       "      <th>8</th>\n",
       "      <td>2019-03-23 11:48:50</td>\n",
       "      <td>2019-03-23 12:06:14</td>\n",
       "      <td>1</td>\n",
       "      <td>3.63</td>\n",
       "      <td>15.0</td>\n",
       "      <td>1.00</td>\n",
       "      <td>0.0</td>\n",
       "      <td>19.30</td>\n",
       "      <td>yellow</td>\n",
       "      <td>credit card</td>\n",
       "      <td>East Harlem South</td>\n",
       "      <td>Midtown Center</td>\n",
       "      <td>Manhattan</td>\n",
       "      <td>Manhattan</td>\n",
       "    </tr>\n",
       "    <tr>\n",
       "      <th>9</th>\n",
       "      <td>2019-03-08 16:18:37</td>\n",
       "      <td>2019-03-08 16:26:57</td>\n",
       "      <td>1</td>\n",
       "      <td>1.52</td>\n",
       "      <td>8.0</td>\n",
       "      <td>1.00</td>\n",
       "      <td>0.0</td>\n",
       "      <td>13.30</td>\n",
       "      <td>yellow</td>\n",
       "      <td>credit card</td>\n",
       "      <td>Lincoln Square East</td>\n",
       "      <td>Central Park</td>\n",
       "      <td>Manhattan</td>\n",
       "      <td>Manhattan</td>\n",
       "    </tr>\n",
       "  </tbody>\n",
       "</table>\n",
       "</div>"
      ],
      "text/plain": [
       "               pickup             dropoff  passengers  distance  fare   tip  \\\n",
       "0 2019-03-23 20:21:09 2019-03-23 20:27:24           1      1.60   7.0  2.15   \n",
       "1 2019-03-04 16:11:55 2019-03-04 16:19:00           1      0.79   5.0  0.00   \n",
       "2 2019-03-27 17:53:01 2019-03-27 18:00:25           1      1.37   7.5  2.36   \n",
       "3 2019-03-10 01:23:59 2019-03-10 01:49:51           1      7.70  27.0  6.15   \n",
       "4 2019-03-30 13:27:42 2019-03-30 13:37:14           3      2.16   9.0  1.10   \n",
       "5 2019-03-11 10:37:23 2019-03-11 10:47:31           1      0.49   7.5  2.16   \n",
       "6 2019-03-26 21:07:31 2019-03-26 21:17:29           1      3.65  13.0  2.00   \n",
       "7 2019-03-22 12:47:13 2019-03-22 12:58:17           0      1.40   8.5  0.00   \n",
       "8 2019-03-23 11:48:50 2019-03-23 12:06:14           1      3.63  15.0  1.00   \n",
       "9 2019-03-08 16:18:37 2019-03-08 16:26:57           1      1.52   8.0  1.00   \n",
       "\n",
       "   tolls  total   color      payment                pickup_zone  \\\n",
       "0    0.0  12.95  yellow  credit card            Lenox Hill West   \n",
       "1    0.0   9.30  yellow         cash      Upper West Side South   \n",
       "2    0.0  14.16  yellow  credit card              Alphabet City   \n",
       "3    0.0  36.95  yellow  credit card                  Hudson Sq   \n",
       "4    0.0  13.40  yellow  credit card               Midtown East   \n",
       "5    0.0  12.96  yellow  credit card  Times Sq/Theatre District   \n",
       "6    0.0  18.80  yellow  credit card          Battery Park City   \n",
       "7    0.0  11.80  yellow          NaN                Murray Hill   \n",
       "8    0.0  19.30  yellow  credit card          East Harlem South   \n",
       "9    0.0  13.30  yellow  credit card        Lincoln Square East   \n",
       "\n",
       "              dropoff_zone pickup_borough dropoff_borough  \n",
       "0      UN/Turtle Bay South      Manhattan       Manhattan  \n",
       "1    Upper West Side South      Manhattan       Manhattan  \n",
       "2             West Village      Manhattan       Manhattan  \n",
       "3           Yorkville West      Manhattan       Manhattan  \n",
       "4           Yorkville West      Manhattan       Manhattan  \n",
       "5             Midtown East      Manhattan       Manhattan  \n",
       "6  Two Bridges/Seward Park      Manhattan       Manhattan  \n",
       "7                 Flatiron      Manhattan       Manhattan  \n",
       "8           Midtown Center      Manhattan       Manhattan  \n",
       "9             Central Park      Manhattan       Manhattan  "
      ]
     },
     "execution_count": 18,
     "metadata": {},
     "output_type": "execute_result"
    }
   ],
   "source": [
    "data = sns.load_dataset('taxis')\n",
    "data.head(10)"
   ]
  },
  {
   "cell_type": "code",
   "execution_count": 20,
   "metadata": {},
   "outputs": [
    {
     "data": {
      "text/html": [
       "\n",
       "<ul>\n",
       "  <li>Index: Row Number</li>\n",
       "  <li>Pickup: Pickup Time</li>\n",
       "  <li>Dropoff: Dropoff Time</li>\n",
       "  <li>Passengers: Number of Passengers</li>\n",
       "  <li>Distance: Distance Travelled</li>\n",
       "  <li>Fare: Fare Amount</li>\n",
       "  <li>Tip: Tip Amount</li>\n",
       "  <li>Tolls: Tolls Amount</li>\n",
       "  <li>Total: Total Amount</li>\n",
       "  <li>Color: Vehicle Color</li>\n",
       "  <li>Payment: Payment Method</li>\n",
       "  <li>Pickup Zone: Pickup Zone Name</li>\n",
       "  <li>Dropoff Zone: Dropoff Zone Name</li>\n",
       "  <li>Pickup Borough: Pickup Borough Name</li>\n",
       "  <li>Dropoff Borough: Dropoff Borough Name</li>\n",
       "</ul>\n"
      ],
      "text/plain": [
       "<IPython.core.display.HTML object>"
      ]
     },
     "metadata": {},
     "output_type": "display_data"
    }
   ],
   "source": [
    "data.sketch.ask(\n",
    "    \"Can you give me friendly names for each column?\" \n",
    "    \"(Output as an HTML list)\"\n",
    ")"
   ]
  },
  {
   "cell_type": "code",
   "execution_count": 21,
   "metadata": {},
   "outputs": [
    {
     "data": {
      "text/html": [
       "\n",
       "The most popular payment is credit card.\n"
      ],
      "text/plain": [
       "<IPython.core.display.HTML object>"
      ]
     },
     "metadata": {},
     "output_type": "display_data"
    }
   ],
   "source": [
    "data.sketch.ask(\n",
    "    \"Which payment is the most popular payment?\"\n",
    ")"
   ]
  },
  {
   "cell_type": "code",
   "execution_count": 22,
   "metadata": {},
   "outputs": [
    {
     "data": {
      "text/html": [
       "<div style=\"display:flex;flex-direction:row;justify-content:space-between;\">\n",
       "                <pre style=\"width: 100%; white-space: pre-wrap;\" id=\"f5a08689-3fd6-4318-9962-135fc2011ca6\">\n",
       "# Create a new column for the hour of the pickup\n",
       "data['pickup_hour'] = data['pickup'].dt.hour\n",
       "\n",
       "# Create a new column for the day of the week of the pickup\n",
       "data['pickup_day'] = data['pickup'].dt.weekday_name\n",
       "\n",
       "# Create a new column for the month of the pickup\n",
       "data['pickup_month'] = data['pickup'].dt.month_name()\n",
       "</pre>\n",
       "                <button style=\"height: fit-content;\" onclick=\"navigator.clipboard.writeText(JSON.parse(atob(`IlxuIyBDcmVhdGUgYSBuZXcgY29sdW1uIGZvciB0aGUgaG91ciBvZiB0aGUgcGlja3VwXG5kYXRhWydwaWNrdXBfaG91ciddID0gZGF0YVsncGlja3VwJ10uZHQuaG91clxuXG4jIENyZWF0ZSBhIG5ldyBjb2x1bW4gZm9yIHRoZSBkYXkgb2YgdGhlIHdlZWsgb2YgdGhlIHBpY2t1cFxuZGF0YVsncGlja3VwX2RheSddID0gZGF0YVsncGlja3VwJ10uZHQud2Vla2RheV9uYW1lXG5cbiMgQ3JlYXRlIGEgbmV3IGNvbHVtbiBmb3IgdGhlIG1vbnRoIG9mIHRoZSBwaWNrdXBcbmRhdGFbJ3BpY2t1cF9tb250aCddID0gZGF0YVsncGlja3VwJ10uZHQubW9udGhfbmFtZSgpXG4i`)))\">Copy</button>\n",
       "                </div>"
      ],
      "text/plain": [
       "<IPython.core.display.HTML object>"
      ]
     },
     "metadata": {},
     "output_type": "display_data"
    }
   ],
   "source": [
    "data.sketch.howto(\"Create some features from the pickup column\")"
   ]
  },
  {
   "cell_type": "code",
   "execution_count": 23,
   "metadata": {},
   "outputs": [],
   "source": [
    "\n",
    "# Create a new column for the hour of the pickup\n",
    "data['pickup_hour'] = data['pickup'].dt.hour\n",
    "\n",
    "# Create a new column for the day of the week of the pickup\n",
    "data['pickup_day'] = data['pickup'].dt.weekday\n",
    "\n",
    "# Create a new column for the month of the pickup\n",
    "data['pickup_month'] = data['pickup'].dt.month_name()\n"
   ]
  },
  {
   "cell_type": "code",
   "execution_count": 24,
   "metadata": {},
   "outputs": [
    {
     "data": {
      "text/html": [
       "<div style=\"display:flex;flex-direction:row;justify-content:space-between;\">\n",
       "                <pre style=\"width: 100%; white-space: pre-wrap;\" id=\"9374da28-314b-4ca8-be63-01f2f5779c91\">\n",
       "# Create a new column called 'pickup_zone_count'\n",
       "data['pickup_zone_count'] = data.groupby('pickup_zone')['pickup_zone'].transform('count')\n",
       "\n",
       "# Create a new column called 'pickup_zone_fare'\n",
       "data['pickup_zone_fare'] = data.groupby('pickup_zone')['fare'].transform('mean')\n",
       "\n",
       "# Create a new column called 'pickup_zone_distance'\n",
       "data['pickup_zone_distance'] = data.groupby('pickup_zone')['distance'].transform('mean')\n",
       "</pre>\n",
       "                <button style=\"height: fit-content;\" onclick=\"navigator.clipboard.writeText(JSON.parse(atob(`IlxuIyBDcmVhdGUgYSBuZXcgY29sdW1uIGNhbGxlZCAncGlja3VwX3pvbmVfY291bnQnXG5kYXRhWydwaWNrdXBfem9uZV9jb3VudCddID0gZGF0YS5ncm91cGJ5KCdwaWNrdXBfem9uZScpWydwaWNrdXBfem9uZSddLnRyYW5zZm9ybSgnY291bnQnKVxuXG4jIENyZWF0ZSBhIG5ldyBjb2x1bW4gY2FsbGVkICdwaWNrdXBfem9uZV9mYXJlJ1xuZGF0YVsncGlja3VwX3pvbmVfZmFyZSddID0gZGF0YS5ncm91cGJ5KCdwaWNrdXBfem9uZScpWydmYXJlJ10udHJhbnNmb3JtKCdtZWFuJylcblxuIyBDcmVhdGUgYSBuZXcgY29sdW1uIGNhbGxlZCAncGlja3VwX3pvbmVfZGlzdGFuY2UnXG5kYXRhWydwaWNrdXBfem9uZV9kaXN0YW5jZSddID0gZGF0YS5ncm91cGJ5KCdwaWNrdXBfem9uZScpWydkaXN0YW5jZSddLnRyYW5zZm9ybSgnbWVhbicpXG4i`)))\">Copy</button>\n",
       "                </div>"
      ],
      "text/plain": [
       "<IPython.core.display.HTML object>"
      ]
     },
     "metadata": {},
     "output_type": "display_data"
    }
   ],
   "source": [
    "data.sketch.howto(\n",
    "    \"Create some features from the pickup_zone column\"\n",
    ")"
   ]
  },
  {
   "cell_type": "code",
   "execution_count": 25,
   "metadata": {},
   "outputs": [],
   "source": [
    "\n",
    "# Create a new column called 'pickup_zone_count'\n",
    "data['pickup_zone_count'] = data.groupby('pickup_zone')['pickup_zone'].transform('count')\n",
    "\n",
    "# Create a new column called 'pickup_zone_fare'\n",
    "data['pickup_zone_fare'] = data.groupby('pickup_zone')['fare'].transform('mean')\n",
    "\n",
    "# Create a new column called 'pickup_zone_distance'\n",
    "data['pickup_zone_distance'] = data.groupby('pickup_zone')['distance'].transform('mean')\n"
   ]
  },
  {
   "cell_type": "code",
   "execution_count": 26,
   "metadata": {},
   "outputs": [
    {
     "data": {
      "text/html": [
       "<div>\n",
       "<style scoped>\n",
       "    .dataframe tbody tr th:only-of-type {\n",
       "        vertical-align: middle;\n",
       "    }\n",
       "\n",
       "    .dataframe tbody tr th {\n",
       "        vertical-align: top;\n",
       "    }\n",
       "\n",
       "    .dataframe thead th {\n",
       "        text-align: right;\n",
       "    }\n",
       "</style>\n",
       "<table border=\"1\" class=\"dataframe\">\n",
       "  <thead>\n",
       "    <tr style=\"text-align: right;\">\n",
       "      <th></th>\n",
       "      <th>pickup</th>\n",
       "      <th>dropoff</th>\n",
       "      <th>passengers</th>\n",
       "      <th>distance</th>\n",
       "      <th>fare</th>\n",
       "      <th>tip</th>\n",
       "      <th>tolls</th>\n",
       "      <th>total</th>\n",
       "      <th>color</th>\n",
       "      <th>payment</th>\n",
       "      <th>pickup_zone</th>\n",
       "      <th>dropoff_zone</th>\n",
       "      <th>pickup_borough</th>\n",
       "      <th>dropoff_borough</th>\n",
       "      <th>pickup_hour</th>\n",
       "      <th>pickup_day</th>\n",
       "      <th>pickup_month</th>\n",
       "      <th>pickup_zone_count</th>\n",
       "      <th>pickup_zone_fare</th>\n",
       "      <th>pickup_zone_distance</th>\n",
       "    </tr>\n",
       "  </thead>\n",
       "  <tbody>\n",
       "    <tr>\n",
       "      <th>0</th>\n",
       "      <td>2019-03-23 20:21:09</td>\n",
       "      <td>2019-03-23 20:27:24</td>\n",
       "      <td>1</td>\n",
       "      <td>1.60</td>\n",
       "      <td>7.0</td>\n",
       "      <td>2.15</td>\n",
       "      <td>0.0</td>\n",
       "      <td>12.95</td>\n",
       "      <td>yellow</td>\n",
       "      <td>credit card</td>\n",
       "      <td>Lenox Hill West</td>\n",
       "      <td>UN/Turtle Bay South</td>\n",
       "      <td>Manhattan</td>\n",
       "      <td>Manhattan</td>\n",
       "      <td>20</td>\n",
       "      <td>5</td>\n",
       "      <td>March</td>\n",
       "      <td>120.0</td>\n",
       "      <td>9.016667</td>\n",
       "      <td>1.857083</td>\n",
       "    </tr>\n",
       "    <tr>\n",
       "      <th>1</th>\n",
       "      <td>2019-03-04 16:11:55</td>\n",
       "      <td>2019-03-04 16:19:00</td>\n",
       "      <td>1</td>\n",
       "      <td>0.79</td>\n",
       "      <td>5.0</td>\n",
       "      <td>0.00</td>\n",
       "      <td>0.0</td>\n",
       "      <td>9.30</td>\n",
       "      <td>yellow</td>\n",
       "      <td>cash</td>\n",
       "      <td>Upper West Side South</td>\n",
       "      <td>Upper West Side South</td>\n",
       "      <td>Manhattan</td>\n",
       "      <td>Manhattan</td>\n",
       "      <td>16</td>\n",
       "      <td>0</td>\n",
       "      <td>March</td>\n",
       "      <td>144.0</td>\n",
       "      <td>9.987778</td>\n",
       "      <td>2.031597</td>\n",
       "    </tr>\n",
       "    <tr>\n",
       "      <th>2</th>\n",
       "      <td>2019-03-27 17:53:01</td>\n",
       "      <td>2019-03-27 18:00:25</td>\n",
       "      <td>1</td>\n",
       "      <td>1.37</td>\n",
       "      <td>7.5</td>\n",
       "      <td>2.36</td>\n",
       "      <td>0.0</td>\n",
       "      <td>14.16</td>\n",
       "      <td>yellow</td>\n",
       "      <td>credit card</td>\n",
       "      <td>Alphabet City</td>\n",
       "      <td>West Village</td>\n",
       "      <td>Manhattan</td>\n",
       "      <td>Manhattan</td>\n",
       "      <td>17</td>\n",
       "      <td>2</td>\n",
       "      <td>March</td>\n",
       "      <td>9.0</td>\n",
       "      <td>11.944444</td>\n",
       "      <td>2.796667</td>\n",
       "    </tr>\n",
       "    <tr>\n",
       "      <th>3</th>\n",
       "      <td>2019-03-10 01:23:59</td>\n",
       "      <td>2019-03-10 01:49:51</td>\n",
       "      <td>1</td>\n",
       "      <td>7.70</td>\n",
       "      <td>27.0</td>\n",
       "      <td>6.15</td>\n",
       "      <td>0.0</td>\n",
       "      <td>36.95</td>\n",
       "      <td>yellow</td>\n",
       "      <td>credit card</td>\n",
       "      <td>Hudson Sq</td>\n",
       "      <td>Yorkville West</td>\n",
       "      <td>Manhattan</td>\n",
       "      <td>Manhattan</td>\n",
       "      <td>1</td>\n",
       "      <td>6</td>\n",
       "      <td>March</td>\n",
       "      <td>47.0</td>\n",
       "      <td>11.000000</td>\n",
       "      <td>2.243830</td>\n",
       "    </tr>\n",
       "    <tr>\n",
       "      <th>4</th>\n",
       "      <td>2019-03-30 13:27:42</td>\n",
       "      <td>2019-03-30 13:37:14</td>\n",
       "      <td>3</td>\n",
       "      <td>2.16</td>\n",
       "      <td>9.0</td>\n",
       "      <td>1.10</td>\n",
       "      <td>0.0</td>\n",
       "      <td>13.40</td>\n",
       "      <td>yellow</td>\n",
       "      <td>credit card</td>\n",
       "      <td>Midtown East</td>\n",
       "      <td>Yorkville West</td>\n",
       "      <td>Manhattan</td>\n",
       "      <td>Manhattan</td>\n",
       "      <td>13</td>\n",
       "      <td>5</td>\n",
       "      <td>March</td>\n",
       "      <td>198.0</td>\n",
       "      <td>10.994949</td>\n",
       "      <td>2.239798</td>\n",
       "    </tr>\n",
       "    <tr>\n",
       "      <th>...</th>\n",
       "      <td>...</td>\n",
       "      <td>...</td>\n",
       "      <td>...</td>\n",
       "      <td>...</td>\n",
       "      <td>...</td>\n",
       "      <td>...</td>\n",
       "      <td>...</td>\n",
       "      <td>...</td>\n",
       "      <td>...</td>\n",
       "      <td>...</td>\n",
       "      <td>...</td>\n",
       "      <td>...</td>\n",
       "      <td>...</td>\n",
       "      <td>...</td>\n",
       "      <td>...</td>\n",
       "      <td>...</td>\n",
       "      <td>...</td>\n",
       "      <td>...</td>\n",
       "      <td>...</td>\n",
       "      <td>...</td>\n",
       "    </tr>\n",
       "    <tr>\n",
       "      <th>6428</th>\n",
       "      <td>2019-03-31 09:51:53</td>\n",
       "      <td>2019-03-31 09:55:27</td>\n",
       "      <td>1</td>\n",
       "      <td>0.75</td>\n",
       "      <td>4.5</td>\n",
       "      <td>1.06</td>\n",
       "      <td>0.0</td>\n",
       "      <td>6.36</td>\n",
       "      <td>green</td>\n",
       "      <td>credit card</td>\n",
       "      <td>East Harlem North</td>\n",
       "      <td>Central Harlem North</td>\n",
       "      <td>Manhattan</td>\n",
       "      <td>Manhattan</td>\n",
       "      <td>9</td>\n",
       "      <td>6</td>\n",
       "      <td>March</td>\n",
       "      <td>72.0</td>\n",
       "      <td>12.550000</td>\n",
       "      <td>2.854306</td>\n",
       "    </tr>\n",
       "    <tr>\n",
       "      <th>6429</th>\n",
       "      <td>2019-03-31 17:38:00</td>\n",
       "      <td>2019-03-31 18:34:23</td>\n",
       "      <td>1</td>\n",
       "      <td>18.74</td>\n",
       "      <td>58.0</td>\n",
       "      <td>0.00</td>\n",
       "      <td>0.0</td>\n",
       "      <td>58.80</td>\n",
       "      <td>green</td>\n",
       "      <td>credit card</td>\n",
       "      <td>Jamaica</td>\n",
       "      <td>East Concourse/Concourse Village</td>\n",
       "      <td>Queens</td>\n",
       "      <td>Bronx</td>\n",
       "      <td>17</td>\n",
       "      <td>6</td>\n",
       "      <td>March</td>\n",
       "      <td>12.0</td>\n",
       "      <td>25.597500</td>\n",
       "      <td>7.261667</td>\n",
       "    </tr>\n",
       "    <tr>\n",
       "      <th>6430</th>\n",
       "      <td>2019-03-23 22:55:18</td>\n",
       "      <td>2019-03-23 23:14:25</td>\n",
       "      <td>1</td>\n",
       "      <td>4.14</td>\n",
       "      <td>16.0</td>\n",
       "      <td>0.00</td>\n",
       "      <td>0.0</td>\n",
       "      <td>17.30</td>\n",
       "      <td>green</td>\n",
       "      <td>cash</td>\n",
       "      <td>Crown Heights North</td>\n",
       "      <td>Bushwick North</td>\n",
       "      <td>Brooklyn</td>\n",
       "      <td>Brooklyn</td>\n",
       "      <td>22</td>\n",
       "      <td>5</td>\n",
       "      <td>March</td>\n",
       "      <td>12.0</td>\n",
       "      <td>14.549167</td>\n",
       "      <td>3.665000</td>\n",
       "    </tr>\n",
       "    <tr>\n",
       "      <th>6431</th>\n",
       "      <td>2019-03-04 10:09:25</td>\n",
       "      <td>2019-03-04 10:14:29</td>\n",
       "      <td>1</td>\n",
       "      <td>1.12</td>\n",
       "      <td>6.0</td>\n",
       "      <td>0.00</td>\n",
       "      <td>0.0</td>\n",
       "      <td>6.80</td>\n",
       "      <td>green</td>\n",
       "      <td>credit card</td>\n",
       "      <td>East New York</td>\n",
       "      <td>East Flatbush/Remsen Village</td>\n",
       "      <td>Brooklyn</td>\n",
       "      <td>Brooklyn</td>\n",
       "      <td>10</td>\n",
       "      <td>0</td>\n",
       "      <td>March</td>\n",
       "      <td>10.0</td>\n",
       "      <td>32.409000</td>\n",
       "      <td>7.086000</td>\n",
       "    </tr>\n",
       "    <tr>\n",
       "      <th>6432</th>\n",
       "      <td>2019-03-13 19:31:22</td>\n",
       "      <td>2019-03-13 19:48:02</td>\n",
       "      <td>1</td>\n",
       "      <td>3.85</td>\n",
       "      <td>15.0</td>\n",
       "      <td>3.36</td>\n",
       "      <td>0.0</td>\n",
       "      <td>20.16</td>\n",
       "      <td>green</td>\n",
       "      <td>credit card</td>\n",
       "      <td>Boerum Hill</td>\n",
       "      <td>Windsor Terrace</td>\n",
       "      <td>Brooklyn</td>\n",
       "      <td>Brooklyn</td>\n",
       "      <td>19</td>\n",
       "      <td>2</td>\n",
       "      <td>March</td>\n",
       "      <td>21.0</td>\n",
       "      <td>11.761905</td>\n",
       "      <td>2.812857</td>\n",
       "    </tr>\n",
       "  </tbody>\n",
       "</table>\n",
       "<p>6433 rows × 20 columns</p>\n",
       "</div>"
      ],
      "text/plain": [
       "                  pickup             dropoff  passengers  distance  fare  \\\n",
       "0    2019-03-23 20:21:09 2019-03-23 20:27:24           1      1.60   7.0   \n",
       "1    2019-03-04 16:11:55 2019-03-04 16:19:00           1      0.79   5.0   \n",
       "2    2019-03-27 17:53:01 2019-03-27 18:00:25           1      1.37   7.5   \n",
       "3    2019-03-10 01:23:59 2019-03-10 01:49:51           1      7.70  27.0   \n",
       "4    2019-03-30 13:27:42 2019-03-30 13:37:14           3      2.16   9.0   \n",
       "...                  ...                 ...         ...       ...   ...   \n",
       "6428 2019-03-31 09:51:53 2019-03-31 09:55:27           1      0.75   4.5   \n",
       "6429 2019-03-31 17:38:00 2019-03-31 18:34:23           1     18.74  58.0   \n",
       "6430 2019-03-23 22:55:18 2019-03-23 23:14:25           1      4.14  16.0   \n",
       "6431 2019-03-04 10:09:25 2019-03-04 10:14:29           1      1.12   6.0   \n",
       "6432 2019-03-13 19:31:22 2019-03-13 19:48:02           1      3.85  15.0   \n",
       "\n",
       "       tip  tolls  total   color      payment            pickup_zone  \\\n",
       "0     2.15    0.0  12.95  yellow  credit card        Lenox Hill West   \n",
       "1     0.00    0.0   9.30  yellow         cash  Upper West Side South   \n",
       "2     2.36    0.0  14.16  yellow  credit card          Alphabet City   \n",
       "3     6.15    0.0  36.95  yellow  credit card              Hudson Sq   \n",
       "4     1.10    0.0  13.40  yellow  credit card           Midtown East   \n",
       "...    ...    ...    ...     ...          ...                    ...   \n",
       "6428  1.06    0.0   6.36   green  credit card      East Harlem North   \n",
       "6429  0.00    0.0  58.80   green  credit card                Jamaica   \n",
       "6430  0.00    0.0  17.30   green         cash    Crown Heights North   \n",
       "6431  0.00    0.0   6.80   green  credit card          East New York   \n",
       "6432  3.36    0.0  20.16   green  credit card            Boerum Hill   \n",
       "\n",
       "                          dropoff_zone pickup_borough dropoff_borough  \\\n",
       "0                  UN/Turtle Bay South      Manhattan       Manhattan   \n",
       "1                Upper West Side South      Manhattan       Manhattan   \n",
       "2                         West Village      Manhattan       Manhattan   \n",
       "3                       Yorkville West      Manhattan       Manhattan   \n",
       "4                       Yorkville West      Manhattan       Manhattan   \n",
       "...                                ...            ...             ...   \n",
       "6428              Central Harlem North      Manhattan       Manhattan   \n",
       "6429  East Concourse/Concourse Village         Queens           Bronx   \n",
       "6430                    Bushwick North       Brooklyn        Brooklyn   \n",
       "6431      East Flatbush/Remsen Village       Brooklyn        Brooklyn   \n",
       "6432                   Windsor Terrace       Brooklyn        Brooklyn   \n",
       "\n",
       "      pickup_hour  pickup_day pickup_month  pickup_zone_count  \\\n",
       "0              20           5        March              120.0   \n",
       "1              16           0        March              144.0   \n",
       "2              17           2        March                9.0   \n",
       "3               1           6        March               47.0   \n",
       "4              13           5        March              198.0   \n",
       "...           ...         ...          ...                ...   \n",
       "6428            9           6        March               72.0   \n",
       "6429           17           6        March               12.0   \n",
       "6430           22           5        March               12.0   \n",
       "6431           10           0        March               10.0   \n",
       "6432           19           2        March               21.0   \n",
       "\n",
       "      pickup_zone_fare  pickup_zone_distance  \n",
       "0             9.016667              1.857083  \n",
       "1             9.987778              2.031597  \n",
       "2            11.944444              2.796667  \n",
       "3            11.000000              2.243830  \n",
       "4            10.994949              2.239798  \n",
       "...                ...                   ...  \n",
       "6428         12.550000              2.854306  \n",
       "6429         25.597500              7.261667  \n",
       "6430         14.549167              3.665000  \n",
       "6431         32.409000              7.086000  \n",
       "6432         11.761905              2.812857  \n",
       "\n",
       "[6433 rows x 20 columns]"
      ]
     },
     "execution_count": 26,
     "metadata": {},
     "output_type": "execute_result"
    }
   ],
   "source": [
    "data "
   ]
  },
  {
   "attachments": {},
   "cell_type": "markdown",
   "metadata": {},
   "source": [
    "[Link to sketch](https://github.com/approximatelabs/sketch)."
   ]
  }
 ],
 "metadata": {
  "celltoolbar": "Tags",
  "hide_input": false,
  "kernelspec": {
   "display_name": "venv",
   "language": "python",
   "name": "python3"
  },
  "language_info": {
   "codemirror_mode": {
    "name": "ipython",
    "version": 3
   },
   "file_extension": ".py",
   "mimetype": "text/x-python",
   "name": "python",
   "nbconvert_exporter": "python",
   "pygments_lexer": "ipython3",
   "version": "3.11.4"
  },
  "toc": {
   "base_numbering": 1,
   "nav_menu": {},
   "number_sections": true,
   "sideBar": true,
   "skip_h1_title": false,
   "title_cell": "Table of Contents",
   "title_sidebar": "Contents",
   "toc_cell": false,
   "toc_position": {},
   "toc_section_display": true,
   "toc_window_display": false
  },
  "vscode": {
   "interpreter": {
    "hash": "c3bc044b9863ed6dec4c55e7ad5af27f030f7d27aed3f39d7a4886a926c4e2c1"
   }
  }
 },
 "nbformat": 4,
 "nbformat_minor": 4
}
