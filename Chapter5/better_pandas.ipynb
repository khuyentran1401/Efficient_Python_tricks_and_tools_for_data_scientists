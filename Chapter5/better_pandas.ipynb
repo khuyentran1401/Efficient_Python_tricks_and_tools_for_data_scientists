{
 "cells": [
  {
   "cell_type": "markdown",
   "id": "dd824a41",
   "metadata": {},
   "source": [
    "## Better Pandas"
   ]
  },
  {
   "cell_type": "markdown",
   "id": "f92f2be7",
   "metadata": {},
   "source": [
    "This section cover tools to make your experience with Pandas a litte bit better."
   ]
  },
  {
   "cell_type": "markdown",
   "id": "f6e22f0c",
   "metadata": {},
   "source": [
    "### tqdm: Add Progress Bar to Your Pandas Apply"
   ]
  },
  {
   "cell_type": "code",
   "execution_count": null,
   "id": "303d7c3d",
   "metadata": {
    "tags": [
     "hide-cell"
    ]
   },
   "outputs": [],
   "source": [
    "!pip install tqdm "
   ]
  },
  {
   "cell_type": "markdown",
   "id": "13882815",
   "metadata": {},
   "source": [
    "If you want to have a progress bar to get updated about the progress of your pandas apply, try tqdm."
   ]
  },
  {
   "cell_type": "code",
   "execution_count": 1,
   "id": "23534f5d",
   "metadata": {
    "ExecuteTime": {
     "end_time": "2021-09-12T11:49:38.035431Z",
     "start_time": "2021-09-12T11:49:32.613494Z"
    }
   },
   "outputs": [
    {
     "name": "stderr",
     "output_type": "stream",
     "text": [
      "100%|████████████████████████████████████████████████████████████████████████████████████████████████████████████████████| 5/5 [00:05<00:00,  1.00s/it]\n"
     ]
    },
    {
     "data": {
      "text/plain": [
       "0    2\n",
       "1    3\n",
       "2    4\n",
       "3    5\n",
       "4    6\n",
       "Name: a, dtype: int64"
      ]
     },
     "execution_count": 1,
     "metadata": {},
     "output_type": "execute_result"
    }
   ],
   "source": [
    "import pandas as pd \n",
    "from tqdm import tqdm \n",
    "import time \n",
    "\n",
    "df = pd.DataFrame({'a': [1, 2, 3, 4, 5], 'b': [2, 3, 4, 5, 6]})\n",
    "\n",
    "tqdm.pandas()\n",
    "def func(row):\n",
    "    time.sleep(1)\n",
    "    return row + 1\n",
    "\n",
    "df['a'].progress_apply(func)"
   ]
  },
  {
   "cell_type": "markdown",
   "id": "8f4174eb",
   "metadata": {},
   "source": [
    "[Link to tqdm](https://github.com/tqdm/tqdm)."
   ]
  },
  {
   "attachments": {},
   "cell_type": "markdown",
   "id": "ee84a8c3",
   "metadata": {},
   "source": [
    "### pandarallel: A Simple Tool to Parallelize Pandas Operations "
   ]
  },
  {
   "cell_type": "code",
   "execution_count": null,
   "id": "c48dc6c5",
   "metadata": {
    "tags": [
     "hide-cell"
    ]
   },
   "outputs": [],
   "source": [
    "!pip install pandarallel"
   ]
  },
  {
   "attachments": {},
   "cell_type": "markdown",
   "id": "ed5cba3e",
   "metadata": {},
   "source": [
    "If you want to parallelize your Pandas operations on all available CPUs by adding only one line of code, try pandarallel. "
   ]
  },
  {
   "cell_type": "code",
   "execution_count": 13,
   "id": "5ee4af7f",
   "metadata": {},
   "outputs": [
    {
     "name": "stdout",
     "output_type": "stream",
     "text": [
      "INFO: Pandarallel will run on 8 workers.\n",
      "INFO: Pandarallel will use standard multiprocessing data transfer (pipe) to transfer data between the main process and workers.\n"
     ]
    },
    {
     "data": {
      "application/vnd.jupyter.widget-view+json": {
       "model_id": "4190ffc86ce94fd880ae30280c3a3a8d",
       "version_major": 2,
       "version_minor": 0
      },
      "text/plain": [
       "VBox(children=(HBox(children=(IntProgress(value=0, description='0.00%', max=10000), Label(value='0 / 10000')))…"
      ]
     },
     "metadata": {},
     "output_type": "display_data"
    },
    {
     "data": {
      "text/html": [
       "<div>\n",
       "<style scoped>\n",
       "    .dataframe tbody tr th:only-of-type {\n",
       "        vertical-align: middle;\n",
       "    }\n",
       "\n",
       "    .dataframe tbody tr th {\n",
       "        vertical-align: top;\n",
       "    }\n",
       "\n",
       "    .dataframe thead th {\n",
       "        text-align: right;\n",
       "    }\n",
       "</style>\n",
       "<table border=\"1\" class=\"dataframe\">\n",
       "  <thead>\n",
       "    <tr style=\"text-align: right;\">\n",
       "      <th></th>\n",
       "      <th>a</th>\n",
       "      <th>b</th>\n",
       "      <th>c</th>\n",
       "    </tr>\n",
       "  </thead>\n",
       "  <tbody>\n",
       "    <tr>\n",
       "      <th>0</th>\n",
       "      <td>3025</td>\n",
       "      <td>324</td>\n",
       "      <td>441</td>\n",
       "    </tr>\n",
       "    <tr>\n",
       "      <th>1</th>\n",
       "      <td>1</td>\n",
       "      <td>6561</td>\n",
       "      <td>5329</td>\n",
       "    </tr>\n",
       "    <tr>\n",
       "      <th>2</th>\n",
       "      <td>2025</td>\n",
       "      <td>4900</td>\n",
       "      <td>1024</td>\n",
       "    </tr>\n",
       "    <tr>\n",
       "      <th>3</th>\n",
       "      <td>25</td>\n",
       "      <td>5776</td>\n",
       "      <td>25</td>\n",
       "    </tr>\n",
       "    <tr>\n",
       "      <th>4</th>\n",
       "      <td>16</td>\n",
       "      <td>8100</td>\n",
       "      <td>3364</td>\n",
       "    </tr>\n",
       "    <tr>\n",
       "      <th>...</th>\n",
       "      <td>...</td>\n",
       "      <td>...</td>\n",
       "      <td>...</td>\n",
       "    </tr>\n",
       "    <tr>\n",
       "      <th>9995</th>\n",
       "      <td>49</td>\n",
       "      <td>676</td>\n",
       "      <td>4761</td>\n",
       "    </tr>\n",
       "    <tr>\n",
       "      <th>9996</th>\n",
       "      <td>3721</td>\n",
       "      <td>6889</td>\n",
       "      <td>4</td>\n",
       "    </tr>\n",
       "    <tr>\n",
       "      <th>9997</th>\n",
       "      <td>4225</td>\n",
       "      <td>9025</td>\n",
       "      <td>1156</td>\n",
       "    </tr>\n",
       "    <tr>\n",
       "      <th>9998</th>\n",
       "      <td>361</td>\n",
       "      <td>9</td>\n",
       "      <td>529</td>\n",
       "    </tr>\n",
       "    <tr>\n",
       "      <th>9999</th>\n",
       "      <td>5041</td>\n",
       "      <td>25</td>\n",
       "      <td>81</td>\n",
       "    </tr>\n",
       "  </tbody>\n",
       "</table>\n",
       "<p>10000 rows × 3 columns</p>\n",
       "</div>"
      ],
      "text/plain": [
       "         a     b     c\n",
       "0     3025   324   441\n",
       "1        1  6561  5329\n",
       "2     2025  4900  1024\n",
       "3       25  5776    25\n",
       "4       16  8100  3364\n",
       "...    ...   ...   ...\n",
       "9995    49   676  4761\n",
       "9996  3721  6889     4\n",
       "9997  4225  9025  1156\n",
       "9998   361     9   529\n",
       "9999  5041    25    81\n",
       "\n",
       "[10000 rows x 3 columns]"
      ]
     },
     "execution_count": 13,
     "metadata": {},
     "output_type": "execute_result"
    }
   ],
   "source": [
    "from pandarallel import pandarallel\n",
    "import pandas as pd\n",
    "from numpy.random import randint\n",
    "\n",
    "df = pd.DataFrame(\n",
    "    {\n",
    "        \"a\": randint(0, 100, size=10000),\n",
    "        \"b\": randint(0, 100, size=10000),\n",
    "        \"c\": randint(0, 100, size=10000),\n",
    "    }\n",
    ")\n",
    "\n",
    "pandarallel.initialize(progress_bar=True)\n",
    "df.parallel_apply(lambda x: x**2)\n"
   ]
  },
  {
   "attachments": {},
   "cell_type": "markdown",
   "id": "3e9cc3bd",
   "metadata": {},
   "source": [
    "[Link to pandarallel](https://github.com/nalepae/pandarallel)."
   ]
  },
  {
   "cell_type": "markdown",
   "id": "e6afbf20",
   "metadata": {},
   "source": [
    "### fugue: Use pandas Functions on the Spark and Dask Engines. "
   ]
  },
  {
   "cell_type": "code",
   "execution_count": null,
   "id": "1ac0178b",
   "metadata": {
    "ExecuteTime": {
     "end_time": "2021-10-01T13:33:03.398564Z",
     "start_time": "2021-10-01T13:31:42.009471Z"
    },
    "tags": [
     "hide-cell"
    ]
   },
   "outputs": [],
   "source": [
    "!pip install fugue pyspark"
   ]
  },
  {
   "cell_type": "markdown",
   "id": "d0036791",
   "metadata": {},
   "source": [
    "Wouldn't it be nice if you can leverage Spark or Dask to parallelize data science workloads using pandas syntax? Fugue allows you to do exactly that.\n",
    "\n",
    "Fugue provides the `transform` function allowing users to use pandas functions on the Spark and Dask engines. "
   ]
  },
  {
   "cell_type": "code",
   "execution_count": 1,
   "id": "a2a0f058",
   "metadata": {
    "ExecuteTime": {
     "end_time": "2021-10-01T16:17:11.766526Z",
     "start_time": "2021-10-01T16:17:03.778875Z"
    }
   },
   "outputs": [
    {
     "name": "stderr",
     "output_type": "stream",
     "text": [
      "21/10/01 11:17:05 WARN Utils: Your hostname, khuyen-Precision-7740 resolves to a loopback address: 127.0.1.1; using 192.168.1.90 instead (on interface wlp111s0)\n",
      "21/10/01 11:17:05 WARN Utils: Set SPARK_LOCAL_IP if you need to bind to another address\n",
      "WARNING: An illegal reflective access operation has occurred\n",
      "WARNING: Illegal reflective access by org.apache.spark.unsafe.Platform (file:/home/khuyen/book/venv/lib/python3.8/site-packages/pyspark/jars/spark-unsafe_2.12-3.1.2.jar) to constructor java.nio.DirectByteBuffer(long,int)\n",
      "WARNING: Please consider reporting this to the maintainers of org.apache.spark.unsafe.Platform\n",
      "WARNING: Use --illegal-access=warn to enable warnings of further illegal reflective access operations\n",
      "WARNING: All illegal access operations will be denied in a future release\n",
      "21/10/01 11:17:05 WARN NativeCodeLoader: Unable to load native-hadoop library for your platform... using builtin-java classes where applicable\n",
      "Using Spark's default log4j profile: org/apache/spark/log4j-defaults.properties\n",
      "Setting default log level to \"WARN\".\n",
      "To adjust logging level use sc.setLogLevel(newLevel). For SparkR, use setLogLevel(newLevel).\n",
      "21/10/01 11:17:06 WARN Utils: Service 'SparkUI' could not bind on port 4040. Attempting port 4041.\n",
      "[Stage 2:===============>                                          (3 + 8) / 11]\r"
     ]
    },
    {
     "name": "stdout",
     "output_type": "stream",
     "text": [
      "+---+------+-----+\n",
      "| id| fruit|price|\n",
      "+---+------+-----+\n",
      "|  0| apple|    2|\n",
      "|  1|banana|    1|\n",
      "|  2|orange|    3|\n",
      "+---+------+-----+\n",
      "\n"
     ]
    },
    {
     "name": "stderr",
     "output_type": "stream",
     "text": [
      "\r\n",
      "[Stage 2:==========================================>               (8 + 3) / 11]\r\n",
      "\r\n",
      "                                                                                \r"
     ]
    }
   ],
   "source": [
    "import pandas as pd\n",
    "from typing import Dict\n",
    "from fugue import transform\n",
    "from fugue_spark import SparkExecutionEngine\n",
    "\n",
    "input_df = pd.DataFrame({\"id\": [0, 1, 2], \"fruit\": ([\"apple\", \"banana\", \"orange\"])})\n",
    "map_price = {\"apple\": 2, \"banana\": 1, \"orange\": 3}\n",
    "\n",
    "\n",
    "def map_price_to_fruit(df: pd.DataFrame, mapping: dict) -> pd.DataFrame:\n",
    "    df[\"price\"] = df[\"fruit\"].map(mapping)\n",
    "    return df\n",
    "\n",
    "\n",
    "df = transform(\n",
    "    input_df,\n",
    "    map_price_to_fruit,\n",
    "    schema=\"*, price:int\",\n",
    "    params=dict(mapping=map_price),\n",
    "    engine=SparkExecutionEngine,\n",
    ")\n",
    "df.show()"
   ]
  },
  {
   "cell_type": "markdown",
   "id": "cefe4cf5",
   "metadata": {},
   "source": [
    "[Link to fugue](https://github.com/fugue-project/fugue)."
   ]
  },
  {
   "cell_type": "markdown",
   "id": "986cb4f5",
   "metadata": {},
   "source": [
    "### FugueSQL: Use SQL to Work with Pandas, Spark, and Dask DataFrames"
   ]
  },
  {
   "cell_type": "code",
   "execution_count": null,
   "id": "5cf7550f",
   "metadata": {
    "tags": [
     "hide-cell"
    ]
   },
   "outputs": [],
   "source": [
    "!pip install fugue "
   ]
  },
  {
   "cell_type": "markdown",
   "id": "755288dc",
   "metadata": {},
   "source": [
    "Do you like to use both Python and SQL to manipulate data? FugueSQL is an interface that allows users to use SQL to work with Pandas, Spark, and Dask DataFrames."
   ]
  },
  {
   "cell_type": "code",
   "execution_count": 8,
   "id": "99c94083",
   "metadata": {
    "ExecuteTime": {
     "end_time": "2021-10-06T12:52:21.022934Z",
     "start_time": "2021-10-06T12:52:20.732342Z"
    }
   },
   "outputs": [
    {
     "name": "stdout",
     "output_type": "stream",
     "text": [
      "PandasDataFrame\n",
      "price:long|fruit:str\n",
      "----------+---------\n",
      "2         |apple    \n",
      "3         |orange   \n",
      "Total count: 2\n",
      "\n"
     ]
    },
    {
     "data": {
      "text/plain": [
       "DataFrames()"
      ]
     },
     "execution_count": 8,
     "metadata": {},
     "output_type": "execute_result"
    }
   ],
   "source": [
    "import pandas as pd\n",
    "from fugue_sql import fsql\n",
    "\n",
    "input_df = pd.DataFrame({\"price\": [2, 1, 3], \"fruit\": ([\"apple\", \"banana\", \"orange\"])})\n",
    "\n",
    "query = \"\"\"\n",
    "SELECT price, fruit FROM input_df\n",
    "WHERE price > 1\n",
    "PRINT\n",
    "\"\"\"\n",
    "\n",
    "fsql(query).run()"
   ]
  },
  {
   "cell_type": "markdown",
   "id": "6e5e34ff",
   "metadata": {},
   "source": [
    "[Link to fugue](https://github.com/fugue-project/fugue)."
   ]
  }
 ],
 "metadata": {
  "celltoolbar": "Tags",
  "kernelspec": {
   "display_name": "venv",
   "language": "python",
   "name": "python3"
  },
  "language_info": {
   "codemirror_mode": {
    "name": "ipython",
    "version": 3
   },
   "file_extension": ".py",
   "mimetype": "text/x-python",
   "name": "python",
   "nbconvert_exporter": "python",
   "pygments_lexer": "ipython3",
   "version": "3.9.6"
  },
  "toc": {
   "base_numbering": 1,
   "nav_menu": {},
   "number_sections": true,
   "sideBar": true,
   "skip_h1_title": false,
   "title_cell": "Table of Contents",
   "title_sidebar": "Contents",
   "toc_cell": false,
   "toc_position": {},
   "toc_section_display": true,
   "toc_window_display": false
  },
  "vscode": {
   "interpreter": {
    "hash": "484329849bb907480cd798e750759bc6f1d66c93f9e78e7055aa0a2c2de6b47b"
   }
  }
 },
 "nbformat": 4,
 "nbformat_minor": 5
}
