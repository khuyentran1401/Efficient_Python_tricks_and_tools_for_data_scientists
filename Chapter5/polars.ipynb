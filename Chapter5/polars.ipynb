{
 "cells": [
  {
   "attachments": {},
   "cell_type": "markdown",
   "id": "dd824a41",
   "metadata": {},
   "source": [
    "## Polars"
   ]
  },
  {
   "attachments": {},
   "cell_type": "markdown",
   "id": "60855274",
   "metadata": {},
   "source": [
    "### Polars: Blazing Fast DataFrame Library"
   ]
  },
  {
   "cell_type": "code",
   "execution_count": null,
   "id": "dc613e71",
   "metadata": {
    "tags": [
     "hide-cell"
    ]
   },
   "outputs": [],
   "source": [
    "!pip install polars"
   ]
  },
  {
   "attachments": {},
   "cell_type": "markdown",
   "id": "e55b316d",
   "metadata": {},
   "source": [
    "If you want data manipulation library that's both fast and memory-efficient, try Polars. Polars provides a high-level API similar to Pandas but with better performance for large datasets.\n",
    "\n",
    "The code below compares the performance of Polars and pandas. "
   ]
  },
  {
   "cell_type": "code",
   "execution_count": 6,
   "id": "16f76eb0",
   "metadata": {},
   "outputs": [
    {
     "name": "stdout",
     "output_type": "stream",
     "text": [
      "Pandas time: 127.604390 seconds\n",
      "Polars time: 41.079080 seconds\n"
     ]
    }
   ],
   "source": [
    "import pandas as pd\n",
    "import polars as pl\n",
    "import numpy as np\n",
    "import time\n",
    "\n",
    "# Create two Pandas DataFrames with 1 million rows each\n",
    "pandas_df1 = pd.DataFrame({\n",
    "    'key': np.random.randint(0, 1000, size=1_000_000),\n",
    "    'value1': np.random.rand(1_000_000)\n",
    "})\n",
    "\n",
    "pandas_df2 = pd.DataFrame({\n",
    "    'key': np.random.randint(0, 1000, size=1_000_000),\n",
    "    'value2': np.random.rand(1000000)\n",
    "})\n",
    "\n",
    "# Create two Polars DataFrames from the Pandas DataFrames\n",
    "polars_df1 = pl.from_pandas(pandas_df1)\n",
    "polars_df2 = pl.from_pandas(pandas_df2)\n",
    "\n",
    "# Merge the two DataFrames on the 'key' column\n",
    "start_time = time.time()\n",
    "pandas_merged = pd.merge(pandas_df1, pandas_df2, on='key')\n",
    "pandas_time = time.time() - start_time\n",
    "\n",
    "start_time = time.time()\n",
    "polars_merged = polars_df1.join(polars_df2, on='key')\n",
    "polars_time = time.time() - start_time\n",
    "\n",
    "print(f\"Pandas time: {pandas_time:.6f} seconds\")\n",
    "print(f\"Polars time: {polars_time:.6f} seconds\")\n"
   ]
  },
  {
   "cell_type": "code",
   "execution_count": 9,
   "id": "dd47ec81",
   "metadata": {},
   "outputs": [
    {
     "name": "stdout",
     "output_type": "stream",
     "text": [
      "Polars is 3.11 times faster than Pandas\n"
     ]
    }
   ],
   "source": [
    "print(f\"Polars is {pandas_time/polars_time:.2f} times faster than Pandas\")"
   ]
  },
  {
   "attachments": {},
   "cell_type": "markdown",
   "id": "6e76dfaf",
   "metadata": {},
   "source": [
    "[Link to polars](https://github.com/pola-rs/polars)"
   ]
  },
  {
   "attachments": {},
   "cell_type": "markdown",
   "id": "aa6df031",
   "metadata": {},
   "source": [
    "### Polars: Speed Up Data Processing 12x with Lazy Execution"
   ]
  },
  {
   "cell_type": "code",
   "execution_count": null,
   "id": "46604015",
   "metadata": {
    "tags": [
     "hide-cell"
    ]
   },
   "outputs": [],
   "source": [
    "!pip install polars"
   ]
  },
  {
   "attachments": {},
   "cell_type": "markdown",
   "id": "eb990130",
   "metadata": {},
   "source": [
    "Polars is a lightning-fast DataFrame library that utilizes all available cores on your machine. \n",
    "\n",
    "Polars has two APIs: an eager API and a lazy API.\n",
    "\n",
    "The eager execution is similar to Pandas, which executes code immediately. \n",
    "\n",
    "In contrast, the lazy execution defers computations until the `collect()` method is called. This approach avoids unnecessary computations, making lazy execution potentially more efficient than eager execution.\n",
    "\n",
    "The code following code shows filter operations on a DataFrame containing 10 million rows. Running polars with lazy execution is 12 times faster than using pandas. "
   ]
  },
  {
   "cell_type": "code",
   "execution_count": null,
   "id": "2157e993",
   "metadata": {
    "tags": [
     "hide-cell"
    ]
   },
   "outputs": [],
   "source": [
    "import numpy as np\n",
    "\n",
    "# Create a random seed for reproducibility\n",
    "np.random.seed(42)\n",
    "\n",
    "# Number of rows in the dataset\n",
    "num_rows = 10_000_000\n",
    "\n",
    "# Sample data for categorical columns\n",
    "categories = [\"a\", \"b\", \"c\", \"d\"]\n",
    "\n",
    "# Generate random data for the dataset\n",
    "data = {\n",
    "    \"Cat1\": np.random.choice(categories, size=num_rows),\n",
    "    \"Cat2\": np.random.choice(categories, size=num_rows),\n",
    "    \"Num1\": np.random.randint(1, 100, size=num_rows),\n",
    "    \"Num2\": np.random.randint(1000, 10000, size=num_rows),\n",
    "}"
   ]
  },
  {
   "attachments": {},
   "cell_type": "markdown",
   "id": "6d6e5787",
   "metadata": {},
   "source": [
    "Create a pandas DataFrame and filter the DataFrame. "
   ]
  },
  {
   "cell_type": "code",
   "execution_count": 16,
   "id": "96119b24",
   "metadata": {},
   "outputs": [
    {
     "data": {
      "text/html": [
       "<div>\n",
       "<style scoped>\n",
       "    .dataframe tbody tr th:only-of-type {\n",
       "        vertical-align: middle;\n",
       "    }\n",
       "\n",
       "    .dataframe tbody tr th {\n",
       "        vertical-align: top;\n",
       "    }\n",
       "\n",
       "    .dataframe thead th {\n",
       "        text-align: right;\n",
       "    }\n",
       "</style>\n",
       "<table border=\"1\" class=\"dataframe\">\n",
       "  <thead>\n",
       "    <tr style=\"text-align: right;\">\n",
       "      <th></th>\n",
       "      <th>Cat1</th>\n",
       "      <th>Cat2</th>\n",
       "      <th>Num1</th>\n",
       "      <th>Num2</th>\n",
       "    </tr>\n",
       "  </thead>\n",
       "  <tbody>\n",
       "    <tr>\n",
       "      <th>0</th>\n",
       "      <td>c</td>\n",
       "      <td>a</td>\n",
       "      <td>40</td>\n",
       "      <td>7292</td>\n",
       "    </tr>\n",
       "    <tr>\n",
       "      <th>1</th>\n",
       "      <td>d</td>\n",
       "      <td>b</td>\n",
       "      <td>45</td>\n",
       "      <td>7849</td>\n",
       "    </tr>\n",
       "    <tr>\n",
       "      <th>2</th>\n",
       "      <td>a</td>\n",
       "      <td>a</td>\n",
       "      <td>93</td>\n",
       "      <td>6940</td>\n",
       "    </tr>\n",
       "    <tr>\n",
       "      <th>3</th>\n",
       "      <td>c</td>\n",
       "      <td>a</td>\n",
       "      <td>46</td>\n",
       "      <td>1265</td>\n",
       "    </tr>\n",
       "    <tr>\n",
       "      <th>4</th>\n",
       "      <td>c</td>\n",
       "      <td>a</td>\n",
       "      <td>98</td>\n",
       "      <td>2509</td>\n",
       "    </tr>\n",
       "  </tbody>\n",
       "</table>\n",
       "</div>"
      ],
      "text/plain": [
       "  Cat1 Cat2  Num1  Num2\n",
       "0    c    a    40  7292\n",
       "1    d    b    45  7849\n",
       "2    a    a    93  6940\n",
       "3    c    a    46  1265\n",
       "4    c    a    98  2509"
      ]
     },
     "execution_count": 16,
     "metadata": {},
     "output_type": "execute_result"
    }
   ],
   "source": [
    "import pandas as pd\n",
    "\n",
    "\n",
    "df = pd.DataFrame(data)\n",
    "df.head()\n"
   ]
  },
  {
   "cell_type": "code",
   "execution_count": 22,
   "id": "a50528c2",
   "metadata": {},
   "outputs": [
    {
     "name": "stdout",
     "output_type": "stream",
     "text": [
      "706 ms ± 75.4 ms per loop (mean ± std. dev. of 7 runs, 1 loop each)\n"
     ]
    }
   ],
   "source": [
    "%timeit df[(df['Cat1'] == 'a') & (df['Cat2'] == 'b') & (df['Num1'] >= 70)]"
   ]
  },
  {
   "attachments": {},
   "cell_type": "markdown",
   "id": "e00cbb96",
   "metadata": {},
   "source": [
    "Create a polars DataFrame and filter the DataFrame. "
   ]
  },
  {
   "cell_type": "code",
   "execution_count": 23,
   "id": "2e12d2f9",
   "metadata": {},
   "outputs": [],
   "source": [
    "import polars as pl\n",
    "\n",
    "pl_df = pl.DataFrame(data)\n"
   ]
  },
  {
   "cell_type": "code",
   "execution_count": 28,
   "id": "a24c4e9d",
   "metadata": {},
   "outputs": [
    {
     "name": "stdout",
     "output_type": "stream",
     "text": [
      "58.1 ms ± 428 µs per loop (mean ± std. dev. of 7 runs, 10 loops each)\n"
     ]
    }
   ],
   "source": [
    "%timeit pl_df.lazy().filter((pl.col('Cat1') == 'a') & (pl.col('Cat2') == 'b') & (pl.col('Num1') >= 70)).collect()"
   ]
  },
  {
   "attachments": {},
   "cell_type": "markdown",
   "id": "2a9ea73c",
   "metadata": {},
   "source": [
    "[Link to polars](https://github.com/pola-rs/polars)"
   ]
  },
  {
   "attachments": {},
   "cell_type": "markdown",
   "id": "13377ff0",
   "metadata": {},
   "source": [
    "### Polars vs. Pandas for CSV Loading and Filtering"
   ]
  },
  {
   "cell_type": "code",
   "execution_count": null,
   "id": "86af982d",
   "metadata": {
    "tags": [
     "hide-cell"
    ]
   },
   "outputs": [],
   "source": [
    "!pip install polars"
   ]
  },
  {
   "cell_type": "code",
   "execution_count": null,
   "id": "b18df43a",
   "metadata": {
    "tags": [
     "hide-cell"
    ]
   },
   "outputs": [],
   "source": [
    "!wget -O airport-codes.csv \"https://datahub.io/core/airport-codes/r/0.csv\""
   ]
  },
  {
   "attachments": {},
   "cell_type": "markdown",
   "id": "2082edfc",
   "metadata": {},
   "source": [
    "The `read_csv` method in Pandas loads all rows of the dataset into the DataFrame before filtering to remove all unwanted rows.\n",
    "\n",
    "On the other hand, the `scan_csv` method in Polars delays execution and optimizes the operation until the `collect` method is called. This approach accelerates code execution, particularly when handling large datasets.\n",
    "\n",
    "In the code below, it is 25.5 times faster to use Polars instead of Pandas to read a subset of CSV file containing 57k rows. "
   ]
  },
  {
   "cell_type": "code",
   "execution_count": 8,
   "id": "3305a9bc",
   "metadata": {},
   "outputs": [],
   "source": [
    "import pandas as pd\n",
    "import polars as pl "
   ]
  },
  {
   "cell_type": "code",
   "execution_count": 43,
   "id": "7b3a4f01",
   "metadata": {},
   "outputs": [
    {
     "name": "stdout",
     "output_type": "stream",
     "text": [
      "143 ms ± 8.3 ms per loop (mean ± std. dev. of 7 runs, 10 loops each)\n"
     ]
    }
   ],
   "source": [
    "%%timeit\n",
    "df = pd.read_csv(\"airport-codes.csv\")\n",
    "df[(df[\"type\"] == \"heliport\") & (df[\"continent\"] == \"EU\")]"
   ]
  },
  {
   "cell_type": "code",
   "execution_count": 41,
   "id": "678e7636",
   "metadata": {},
   "outputs": [
    {
     "name": "stdout",
     "output_type": "stream",
     "text": [
      "5.6 ms ± 594 µs per loop (mean ± std. dev. of 7 runs, 100 loops each)\n"
     ]
    }
   ],
   "source": [
    "%%timeit\n",
    "pl.scan_csv(\"airport-codes.csv\").filter(\n",
    "    (pl.col(\"type\") == \"heliport\") & (pl.col(\"continent\") == \"EU\")\n",
    ").collect()\n"
   ]
  },
  {
   "cell_type": "markdown",
   "id": "9c8a143e",
   "metadata": {},
   "source": [
    "### Pandas vs Polars: Harnessing Parallelism for Faster Data Processing"
   ]
  },
  {
   "cell_type": "code",
   "execution_count": null,
   "id": "bccc50c3",
   "metadata": {
    "tags": [
     "hide-cell"
    ]
   },
   "outputs": [],
   "source": [
    "!pip install polars"
   ]
  },
  {
   "cell_type": "markdown",
   "id": "35b7b8c6",
   "metadata": {},
   "source": [
    "Pandas is a single-threaded library, utilizing only a single CPU core. To achieve parallelism with Pandas, you would need to use additional libraries like Dask."
   ]
  },
  {
   "cell_type": "code",
   "execution_count": 1,
   "id": "7ff191eb",
   "metadata": {},
   "outputs": [],
   "source": [
    "import pandas as pd\n",
    "import multiprocessing as mp\n",
    "import dask.dataframe as dd\n",
    "\n",
    "\n",
    "df = pd.DataFrame({\"A\": range(1_000_000), \"B\": range(1_000_000)})\n",
    "\n",
    "# Perform the groupby and sum operation in parallel \n",
    "ddf = dd.from_pandas(df, npartitions=mp.cpu_count())\n",
    "result = ddf.groupby(\"A\").sum().compute()"
   ]
  },
  {
   "cell_type": "markdown",
   "id": "d1bd6806",
   "metadata": {},
   "source": [
    "Polars, on the other hand, automatically leverages the available CPU cores without any additional configuration."
   ]
  },
  {
   "cell_type": "code",
   "execution_count": 3,
   "id": "b26f5d69",
   "metadata": {},
   "outputs": [],
   "source": [
    "import polars as pl\n",
    "\n",
    "df = pl.DataFrame({\"A\": range(1_000_000), \"B\": range(1_000_000)})\n",
    "\n",
    "# Perform the groupby and sum operation in parallel \n",
    "result = df.group_by(\"A\").sum()"
   ]
  },
  {
   "cell_type": "markdown",
   "id": "b050b3c8",
   "metadata": {},
   "source": [
    "[Link to Polars](https://bit.ly/3v9dmCT)."
   ]
  },
  {
   "cell_type": "markdown",
   "id": "a819b1e3",
   "metadata": {},
   "source": [
    "### Simple and Expressive Data Transformation with Polars"
   ]
  },
  {
   "cell_type": "markdown",
   "id": "6c469e37",
   "metadata": {},
   "source": [
    "Extract features and select only relevant features for each time series."
   ]
  },
  {
   "cell_type": "code",
   "execution_count": null,
   "id": "e3a2a1df",
   "metadata": {
    "tags": [
     "hide-cell"
    ]
   },
   "outputs": [],
   "source": [
    "!pip install polars"
   ]
  },
  {
   "cell_type": "markdown",
   "id": "91ea4b80",
   "metadata": {},
   "source": [
    "Compared to pandas, Polars provides a more expressive syntax for creating complex data transformation pipelines. Every expression in Polars produces a new expression, and these expressions can be piped together. "
   ]
  },
  {
   "cell_type": "code",
   "execution_count": 26,
   "id": "15cd576e",
   "metadata": {},
   "outputs": [
    {
     "data": {
      "text/html": [
       "<div>\n",
       "<style scoped>\n",
       "    .dataframe tbody tr th:only-of-type {\n",
       "        vertical-align: middle;\n",
       "    }\n",
       "\n",
       "    .dataframe tbody tr th {\n",
       "        vertical-align: top;\n",
       "    }\n",
       "\n",
       "    .dataframe thead th {\n",
       "        text-align: right;\n",
       "    }\n",
       "</style>\n",
       "<table border=\"1\" class=\"dataframe\">\n",
       "  <thead>\n",
       "    <tr style=\"text-align: right;\">\n",
       "      <th></th>\n",
       "      <th>A</th>\n",
       "      <th>B</th>\n",
       "    </tr>\n",
       "  </thead>\n",
       "  <tbody>\n",
       "    <tr>\n",
       "      <th>0</th>\n",
       "      <td>1</td>\n",
       "      <td>a</td>\n",
       "    </tr>\n",
       "    <tr>\n",
       "      <th>1</th>\n",
       "      <td>2</td>\n",
       "      <td>b</td>\n",
       "    </tr>\n",
       "    <tr>\n",
       "      <th>2</th>\n",
       "      <td>6</td>\n",
       "      <td>c</td>\n",
       "    </tr>\n",
       "  </tbody>\n",
       "</table>\n",
       "</div>"
      ],
      "text/plain": [
       "   A  B\n",
       "0  1  a\n",
       "1  2  b\n",
       "2  6  c"
      ]
     },
     "execution_count": 26,
     "metadata": {},
     "output_type": "execute_result"
    }
   ],
   "source": [
    "import pandas as pd\n",
    "\n",
    "df = pd.DataFrame(\n",
    "    {\"A\": [1, 2, 6], \"B\": [\"a\", \"b\", \"c\"], \"C\": [True, False, True]}\n",
    ")\n",
    "integer_columns = df.select_dtypes(\"int64\")\n",
    "other_columns = df[[\"B\"]]\n",
    "pd.concat([integer_columns, other_columns], axis=1)"
   ]
  },
  {
   "cell_type": "code",
   "execution_count": 25,
   "id": "6243b002",
   "metadata": {},
   "outputs": [
    {
     "data": {
      "text/html": [
       "<div><style>\n",
       ".dataframe > thead > tr > th,\n",
       ".dataframe > tbody > tr > td {\n",
       "  text-align: right;\n",
       "  white-space: pre-wrap;\n",
       "}\n",
       "</style>\n",
       "<small>shape: (3, 2)</small><table border=\"1\" class=\"dataframe\"><thead><tr><th>A</th><th>B</th></tr><tr><td>i64</td><td>str</td></tr></thead><tbody><tr><td>1</td><td>&quot;a&quot;</td></tr><tr><td>2</td><td>&quot;b&quot;</td></tr><tr><td>6</td><td>&quot;c&quot;</td></tr></tbody></table></div>"
      ],
      "text/plain": [
       "shape: (3, 2)\n",
       "┌─────┬─────┐\n",
       "│ A   ┆ B   │\n",
       "│ --- ┆ --- │\n",
       "│ i64 ┆ str │\n",
       "╞═════╪═════╡\n",
       "│ 1   ┆ a   │\n",
       "│ 2   ┆ b   │\n",
       "│ 6   ┆ c   │\n",
       "└─────┴─────┘"
      ]
     },
     "execution_count": 25,
     "metadata": {},
     "output_type": "execute_result"
    }
   ],
   "source": [
    "import polars as pl\n",
    "\n",
    "pl_df = pl.DataFrame(\n",
    "    {\"A\": [1, 2, 6], \"B\": [\"a\", \"b\", \"c\"], \"C\": [True, False, True]}\n",
    ")\n",
    "pl_df.select([pl.col(pl.Int64), \"B\"])"
   ]
  },
  {
   "attachments": {},
   "cell_type": "markdown",
   "id": "8b400690",
   "metadata": {},
   "source": [
    "### Harness Polars and Delta Lake for Blazing Fast Performance "
   ]
  },
  {
   "cell_type": "code",
   "execution_count": null,
   "id": "64f021d8",
   "metadata": {
    "tags": [
     "hide-cell"
    ]
   },
   "outputs": [],
   "source": [
    "!pip install polars deltalake"
   ]
  },
  {
   "attachments": {},
   "cell_type": "markdown",
   "id": "a042f2a7",
   "metadata": {},
   "source": [
    "Polars is a Rust-based DataFrame library that is designed for high-performance data manipulation and analysis. Delta Lake is a storage format that offers a range of benefits, including ACID transactions, time travel, schema enforcement, and more. It's designed to work seamlessly with big data processing engines like Apache Spark and can handle large amounts of data with ease.\n",
    "\n",
    "\n",
    "When you combine Polars and Delta Lake, you get a powerful data processing system. Polars does the heavy lifting of processing your data, while Delta Lake keeps everything organized and up-to-date.\n",
    "\n",
    "Imagine you have a huge dataset with millions of rows. You want to group the data by category and calculate the sum of a certain column. With Polars and Delta Lake, you can do this quickly and easily.\n",
    "\n",
    "First, you create a sample dataset:"
   ]
  },
  {
   "cell_type": "code",
   "execution_count": 8,
   "id": "b7b03150",
   "metadata": {},
   "outputs": [
    {
     "data": {
      "text/html": [
       "<div>\n",
       "<style scoped>\n",
       "    .dataframe tbody tr th:only-of-type {\n",
       "        vertical-align: middle;\n",
       "    }\n",
       "\n",
       "    .dataframe tbody tr th {\n",
       "        vertical-align: top;\n",
       "    }\n",
       "\n",
       "    .dataframe thead th {\n",
       "        text-align: right;\n",
       "    }\n",
       "</style>\n",
       "<table border=\"1\" class=\"dataframe\">\n",
       "  <thead>\n",
       "    <tr style=\"text-align: right;\">\n",
       "      <th></th>\n",
       "      <th>Cat1</th>\n",
       "      <th>Num1</th>\n",
       "    </tr>\n",
       "  </thead>\n",
       "  <tbody>\n",
       "    <tr>\n",
       "      <th>0</th>\n",
       "      <td>A</td>\n",
       "      <td>84</td>\n",
       "    </tr>\n",
       "    <tr>\n",
       "      <th>1</th>\n",
       "      <td>C</td>\n",
       "      <td>63</td>\n",
       "    </tr>\n",
       "    <tr>\n",
       "      <th>2</th>\n",
       "      <td>B</td>\n",
       "      <td>11</td>\n",
       "    </tr>\n",
       "    <tr>\n",
       "      <th>3</th>\n",
       "      <td>A</td>\n",
       "      <td>73</td>\n",
       "    </tr>\n",
       "    <tr>\n",
       "      <th>4</th>\n",
       "      <td>B</td>\n",
       "      <td>57</td>\n",
       "    </tr>\n",
       "  </tbody>\n",
       "</table>\n",
       "</div>"
      ],
      "text/plain": [
       "  Cat1  Num1\n",
       "0    A    84\n",
       "1    C    63\n",
       "2    B    11\n",
       "3    A    73\n",
       "4    B    57"
      ]
     },
     "execution_count": 8,
     "metadata": {},
     "output_type": "execute_result"
    }
   ],
   "source": [
    "import pandas as pd\n",
    "import numpy as np\n",
    "\n",
    "# Create a sample dataset\n",
    "num_rows = 10_000_000\n",
    "data = {\n",
    "    \"Cat1\": np.random.choice(['A', 'B', 'C'], size=num_rows),\n",
    "    'Num1': np.random.randint(low=1, high=100, size=num_rows)\n",
    "}\n",
    "\n",
    "df = pd.DataFrame(data)\n",
    "df.head()"
   ]
  },
  {
   "cell_type": "markdown",
   "id": "525aec7f-02bd-436b-9dd4-39daf71b9530",
   "metadata": {},
   "source": [
    "Next, you save the dataset to Delta Lake:"
   ]
  },
  {
   "cell_type": "code",
   "execution_count": 9,
   "id": "fbfebaf0-231b-4f9d-9597-b3ebbeb1bd73",
   "metadata": {},
   "outputs": [],
   "source": [
    "from deltalake.writer import write_deltalake\n",
    "\n",
    "save_path = \"tmp/data\"\n",
    "\n",
    "write_deltalake(save_path, df)"
   ]
  },
  {
   "cell_type": "markdown",
   "id": "bddacfc8-1f39-4dec-8850-3a47cb56b3b5",
   "metadata": {},
   "source": [
    "Then, you can use Polars to read the data from Delta Lake and perform the grouping operation:"
   ]
  },
  {
   "cell_type": "code",
   "execution_count": 15,
   "id": "f82382a6",
   "metadata": {},
   "outputs": [
    {
     "name": "stdout",
     "output_type": "stream",
     "text": [
      "shape: (3, 2)\n",
      "┌──────┬───────────┐\n",
      "│ Cat1 ┆ Num1      │\n",
      "│ ---  ┆ ---       │\n",
      "│ str  ┆ i64       │\n",
      "╞══════╪═══════════╡\n",
      "│ B    ┆ 166653474 │\n",
      "│ C    ┆ 166660653 │\n",
      "│ A    ┆ 166597835 │\n",
      "└──────┴───────────┘\n"
     ]
    }
   ],
   "source": [
    "import polars as pl \n",
    "\n",
    "pl_df = pl.read_delta(save_path)\n",
    "\n",
    "print(pl_df.group_by(\"Cat1\").sum())"
   ]
  },
  {
   "attachments": {},
   "cell_type": "markdown",
   "id": "083b3857",
   "metadata": {},
   "source": [
    "Let's say you want to append some new data to the existing dataset:"
   ]
  },
  {
   "cell_type": "code",
   "execution_count": 12,
   "id": "4ce40336",
   "metadata": {},
   "outputs": [],
   "source": [
    "new_data = pd.DataFrame({\"Cat1\": [\"B\", \"C\"], \"Num1\": [2, 3]})\n",
    "\n",
    "write_deltalake(save_path, new_data, mode=\"append\")"
   ]
  },
  {
   "cell_type": "markdown",
   "id": "19340af4-b73e-467f-b817-63e1e5c82749",
   "metadata": {},
   "source": [
    "Now, you can use Polars to read the updated data from Delta Lake:"
   ]
  },
  {
   "cell_type": "code",
   "execution_count": 13,
   "id": "02208435",
   "metadata": {},
   "outputs": [
    {
     "name": "stdout",
     "output_type": "stream",
     "text": [
      "shape: (5, 2)\n",
      "┌──────┬──────┐\n",
      "│ Cat1 ┆ Num1 │\n",
      "│ ---  ┆ ---  │\n",
      "│ str  ┆ i64  │\n",
      "╞══════╪══════╡\n",
      "│ A    ┆ 29   │\n",
      "│ A    ┆ 41   │\n",
      "│ A    ┆ 49   │\n",
      "│ B    ┆ 2    │\n",
      "│ C    ┆ 3    │\n",
      "└──────┴──────┘\n"
     ]
    }
   ],
   "source": [
    "updated_pl_df = pl.read_delta(save_path)\n",
    "print(updated_pl_df.tail())"
   ]
  },
  {
   "attachments": {},
   "cell_type": "markdown",
   "id": "b1bd0013",
   "metadata": {},
   "source": [
    "But what if you want to go back to the previous version of the data? With Delta Lake, you can easily do that by specifying the version number:"
   ]
  },
  {
   "cell_type": "code",
   "execution_count": 14,
   "id": "798afd75",
   "metadata": {},
   "outputs": [
    {
     "name": "stdout",
     "output_type": "stream",
     "text": [
      "shape: (5, 2)\n",
      "┌──────┬──────┐\n",
      "│ Cat1 ┆ Num1 │\n",
      "│ ---  ┆ ---  │\n",
      "│ str  ┆ i64  │\n",
      "╞══════╪══════╡\n",
      "│ A    ┆ 90   │\n",
      "│ C    ┆ 83   │\n",
      "│ A    ┆ 29   │\n",
      "│ A    ┆ 41   │\n",
      "│ A    ┆ 49   │\n",
      "└──────┴──────┘\n"
     ]
    }
   ],
   "source": [
    "previous_pl_df = pl.read_delta(save_path, version=0)\n",
    "print(previous_pl_df.tail())"
   ]
  },
  {
   "attachments": {},
   "cell_type": "markdown",
   "id": "7a73f941",
   "metadata": {},
   "source": [
    "[Link to polars](https://github.com/pola-rs/polars)\n",
    "\n",
    "[Link to Delta Lake](https://github.com/delta-io/delta-rs)."
   ]
  },
  {
   "cell_type": "markdown",
   "id": "d0fec43c",
   "metadata": {},
   "source": [
    "### Parallel Execution of Multiple Files with Polars"
   ]
  },
  {
   "cell_type": "code",
   "execution_count": null,
   "id": "4a3430c7",
   "metadata": {
    "tags": [
     "hide-cell"
    ]
   },
   "outputs": [],
   "source": [
    "!pip install polars"
   ]
  },
  {
   "cell_type": "code",
   "execution_count": 10,
   "id": "e17b4d52",
   "metadata": {
    "tags": [
     "remove-cell"
    ]
   },
   "outputs": [],
   "source": [
    "import polars as pl\n",
    "from pathlib import Path\n",
    "\n",
    "Path(\"test_data\").mkdir(parents=True, exist_ok=True)\n",
    "\n",
    "df1 = pl.DataFrame(\n",
    "    {\"Cat\": [\"A\", \"A\", \"B\", \"B\", \"C\", \"C\"], \"Num\": [1, 1, 2, 2, 3, 3]}\n",
    ")\n",
    "\n",
    "df2 = pl.DataFrame(\n",
    "    {\"Cat\": [\"C\", \"B\", \"A\", \"A\", \"C\"], \"Num\": [1, 1, 2, 2, 3]}\n",
    ")\n",
    "\n",
    "df3 = pl.DataFrame(\n",
    "    {\"Cat\": [\"A\", \"C\", \"B\", \"B\"], \"Num\": [1, 1, 3, 2]}\n",
    ")\n",
    "\n",
    "# Save the dataframes as CSV files\n",
    "df1.write_csv(\"test_data/df1.csv\")\n",
    "df2.write_csv(\"test_data/df2.csv\")\n",
    "df3.write_csv(\"test_data/df3.csv\")"
   ]
  },
  {
   "cell_type": "markdown",
   "id": "740e5565",
   "metadata": {},
   "source": [
    "If you have multiple files to process, Polars enables you to construct a query plan for each file beforehand. This allows for the efficient execution of multiple files concurrently, maximizing processing speed."
   ]
  },
  {
   "cell_type": "code",
   "execution_count": 14,
   "id": "7f8c378b",
   "metadata": {},
   "outputs": [
    {
     "data": {
      "text/plain": [
       "[shape: (3, 2)\n",
       " ┌─────┬─────┐\n",
       " │ Cat ┆ Num │\n",
       " │ --- ┆ --- │\n",
       " │ str ┆ i64 │\n",
       " ╞═════╪═════╡\n",
       " │ A   ┆ 2   │\n",
       " │ C   ┆ 6   │\n",
       " │ B   ┆ 4   │\n",
       " └─────┴─────┘,\n",
       " shape: (3, 2)\n",
       " ┌─────┬─────┐\n",
       " │ Cat ┆ Num │\n",
       " │ --- ┆ --- │\n",
       " │ str ┆ i64 │\n",
       " ╞═════╪═════╡\n",
       " │ B   ┆ 5   │\n",
       " │ A   ┆ 1   │\n",
       " │ C   ┆ 1   │\n",
       " └─────┴─────┘,\n",
       " shape: (3, 2)\n",
       " ┌─────┬─────┐\n",
       " │ Cat ┆ Num │\n",
       " │ --- ┆ --- │\n",
       " │ str ┆ i64 │\n",
       " ╞═════╪═════╡\n",
       " │ C   ┆ 4   │\n",
       " │ A   ┆ 4   │\n",
       " │ B   ┆ 1   │\n",
       " └─────┴─────┘]"
      ]
     },
     "execution_count": 14,
     "metadata": {},
     "output_type": "execute_result"
    }
   ],
   "source": [
    "import glob\n",
    "\n",
    "import polars as pl\n",
    "\n",
    "# Construct a query plan for each file\n",
    "queries = []\n",
    "for file in glob.glob(\"test_data/*.csv\"):\n",
    "    q = pl.scan_csv(file).group_by(\"Cat\").agg(pl.sum(\"Num\"))\n",
    "    queries.append(q)\n",
    "\n",
    "# Execute files in parallel\n",
    "dataframes = pl.collect_all(queries)\n",
    "dataframes"
   ]
  },
  {
   "cell_type": "markdown",
   "id": "76a08aa7",
   "metadata": {},
   "source": [
    "[Link to polars](https://github.com/pola-rs/polars)"
   ]
  },
  {
   "cell_type": "markdown",
   "id": "08d428a1",
   "metadata": {},
   "source": [
    "### Polars' Streaming Mode: A Solution for Large Data Sets"
   ]
  },
  {
   "cell_type": "code",
   "execution_count": null,
   "id": "84f445b0",
   "metadata": {
    "tags": [
     "hide-cell"
    ]
   },
   "outputs": [],
   "source": [
    "!pip install polars"
   ]
  },
  {
   "cell_type": "code",
   "execution_count": null,
   "id": "db64cab3",
   "metadata": {
    "tags": [
     "remove-cell"
    ]
   },
   "outputs": [],
   "source": [
    "!wget https://raw.githubusercontent.com/pola-rs/polars/main/docs/data/reddit.csv "
   ]
  },
  {
   "cell_type": "markdown",
   "id": "d0ba1f75",
   "metadata": {},
   "source": [
    "The default collect method in Polars processes your data as a single batch, which means that all the data must fit into your available memory.\n",
    "\n",
    "If your data requires more memory than you have available, Polars can process it in batches using streaming mode. To use streaming mode, simply pass the `streaming=True` argument to the `collect` method."
   ]
  },
  {
   "cell_type": "code",
   "execution_count": 4,
   "id": "a9eb07c8",
   "metadata": {},
   "outputs": [],
   "source": [
    "import polars as pl\n",
    "\n",
    "df = (\n",
    "    pl.scan_csv(\"reddit.csv\")\n",
    "    .with_columns(pl.col(\"name\").str.to_uppercase())\n",
    "    .filter(pl.col(\"comment_karma\") > 0)\n",
    "    .collect(streaming=True)\n",
    ")"
   ]
  },
  {
   "cell_type": "markdown",
   "id": "7ddfa843",
   "metadata": {},
   "source": [
    "[Learn more about Streaming API in Polars](https://bit.ly/3wlTZXR)."
   ]
  },
  {
   "cell_type": "markdown",
   "id": "457fd6d9",
   "metadata": {},
   "source": [
    "### Pandas vs Polars: Syntax Comparison for Data Scientists"
   ]
  },
  {
   "cell_type": "markdown",
   "id": "4c63c045",
   "metadata": {},
   "source": [
    "As a data scientist, you're likely familiar with the popular data analysis libraries Pandas and Polars. Both provide powerful tools for working with tabular data, but how do their syntaxes compare?\n",
    "\n",
    "To begin, we'll create equivalent dataframes in both Pandas and Polars:"
   ]
  },
  {
   "cell_type": "code",
   "execution_count": 10,
   "id": "73eca8cf",
   "metadata": {},
   "outputs": [],
   "source": [
    "import pandas as pd\n",
    "import polars as pl\n",
    "\n",
    "# Create a Pandas DataFrame\n",
    "data = {\n",
    "    \"Category\": [\"Electronics\", \"Clothing\", \"Electronics\", \"Clothing\", \"Electronics\"],\n",
    "    \"Quantity\": [5, 2, 3, 10, 4],\n",
    "    \"Price\": [200, 30, 150, 20, 300],\n",
    "}\n",
    "pandas_df = pd.DataFrame(data)\n",
    "polars_df = pl.DataFrame(data)"
   ]
  },
  {
   "cell_type": "markdown",
   "id": "366b4552",
   "metadata": {},
   "source": [
    "Key Operations Comparison:"
   ]
  },
  {
   "cell_type": "code",
   "execution_count": 11,
   "id": "b1ab9da1",
   "metadata": {},
   "outputs": [
    {
     "data": {
      "text/html": [
       "<div>\n",
       "<style scoped>\n",
       "    .dataframe tbody tr th:only-of-type {\n",
       "        vertical-align: middle;\n",
       "    }\n",
       "\n",
       "    .dataframe tbody tr th {\n",
       "        vertical-align: top;\n",
       "    }\n",
       "\n",
       "    .dataframe thead th {\n",
       "        text-align: right;\n",
       "    }\n",
       "</style>\n",
       "<table border=\"1\" class=\"dataframe\">\n",
       "  <thead>\n",
       "    <tr style=\"text-align: right;\">\n",
       "      <th></th>\n",
       "      <th>Category</th>\n",
       "      <th>Price</th>\n",
       "    </tr>\n",
       "  </thead>\n",
       "  <tbody>\n",
       "    <tr>\n",
       "      <th>0</th>\n",
       "      <td>Electronics</td>\n",
       "      <td>200</td>\n",
       "    </tr>\n",
       "    <tr>\n",
       "      <th>1</th>\n",
       "      <td>Clothing</td>\n",
       "      <td>30</td>\n",
       "    </tr>\n",
       "    <tr>\n",
       "      <th>2</th>\n",
       "      <td>Electronics</td>\n",
       "      <td>150</td>\n",
       "    </tr>\n",
       "    <tr>\n",
       "      <th>3</th>\n",
       "      <td>Clothing</td>\n",
       "      <td>20</td>\n",
       "    </tr>\n",
       "    <tr>\n",
       "      <th>4</th>\n",
       "      <td>Electronics</td>\n",
       "      <td>300</td>\n",
       "    </tr>\n",
       "  </tbody>\n",
       "</table>\n",
       "</div>"
      ],
      "text/plain": [
       "      Category  Price\n",
       "0  Electronics    200\n",
       "1     Clothing     30\n",
       "2  Electronics    150\n",
       "3     Clothing     20\n",
       "4  Electronics    300"
      ]
     },
     "execution_count": 11,
     "metadata": {},
     "output_type": "execute_result"
    }
   ],
   "source": [
    "pandas_df[[\"Category\", \"Price\"]]"
   ]
  },
  {
   "cell_type": "code",
   "execution_count": 12,
   "id": "c40b3c44",
   "metadata": {},
   "outputs": [
    {
     "data": {
      "text/html": [
       "<div><style>\n",
       ".dataframe > thead > tr > th,\n",
       ".dataframe > tbody > tr > td {\n",
       "  text-align: right;\n",
       "  white-space: pre-wrap;\n",
       "}\n",
       "</style>\n",
       "<small>shape: (5, 2)</small><table border=\"1\" class=\"dataframe\"><thead><tr><th>Category</th><th>Price</th></tr><tr><td>str</td><td>i64</td></tr></thead><tbody><tr><td>&quot;Electronics&quot;</td><td>200</td></tr><tr><td>&quot;Clothing&quot;</td><td>30</td></tr><tr><td>&quot;Electronics&quot;</td><td>150</td></tr><tr><td>&quot;Clothing&quot;</td><td>20</td></tr><tr><td>&quot;Electronics&quot;</td><td>300</td></tr></tbody></table></div>"
      ],
      "text/plain": [
       "shape: (5, 2)\n",
       "┌─────────────┬───────┐\n",
       "│ Category    ┆ Price │\n",
       "│ ---         ┆ ---   │\n",
       "│ str         ┆ i64   │\n",
       "╞═════════════╪═══════╡\n",
       "│ Electronics ┆ 200   │\n",
       "│ Clothing    ┆ 30    │\n",
       "│ Electronics ┆ 150   │\n",
       "│ Clothing    ┆ 20    │\n",
       "│ Electronics ┆ 300   │\n",
       "└─────────────┴───────┘"
      ]
     },
     "execution_count": 12,
     "metadata": {},
     "output_type": "execute_result"
    }
   ],
   "source": [
    "polars_df.select([\"Category\", \"Price\"])"
   ]
  },
  {
   "cell_type": "code",
   "execution_count": 13,
   "id": "9b2c6467",
   "metadata": {},
   "outputs": [
    {
     "data": {
      "text/html": [
       "<div>\n",
       "<style scoped>\n",
       "    .dataframe tbody tr th:only-of-type {\n",
       "        vertical-align: middle;\n",
       "    }\n",
       "\n",
       "    .dataframe tbody tr th {\n",
       "        vertical-align: top;\n",
       "    }\n",
       "\n",
       "    .dataframe thead th {\n",
       "        text-align: right;\n",
       "    }\n",
       "</style>\n",
       "<table border=\"1\" class=\"dataframe\">\n",
       "  <thead>\n",
       "    <tr style=\"text-align: right;\">\n",
       "      <th></th>\n",
       "      <th>Category</th>\n",
       "      <th>Quantity</th>\n",
       "      <th>Price</th>\n",
       "    </tr>\n",
       "  </thead>\n",
       "  <tbody>\n",
       "    <tr>\n",
       "      <th>0</th>\n",
       "      <td>Electronics</td>\n",
       "      <td>5</td>\n",
       "      <td>200</td>\n",
       "    </tr>\n",
       "    <tr>\n",
       "      <th>3</th>\n",
       "      <td>Clothing</td>\n",
       "      <td>10</td>\n",
       "      <td>20</td>\n",
       "    </tr>\n",
       "    <tr>\n",
       "      <th>4</th>\n",
       "      <td>Electronics</td>\n",
       "      <td>4</td>\n",
       "      <td>300</td>\n",
       "    </tr>\n",
       "  </tbody>\n",
       "</table>\n",
       "</div>"
      ],
      "text/plain": [
       "      Category  Quantity  Price\n",
       "0  Electronics         5    200\n",
       "3     Clothing        10     20\n",
       "4  Electronics         4    300"
      ]
     },
     "execution_count": 13,
     "metadata": {},
     "output_type": "execute_result"
    }
   ],
   "source": [
    "# Filtering rows where Quantity > 3\n",
    "pandas_df[pandas_df[\"Quantity\"] > 3]"
   ]
  },
  {
   "cell_type": "code",
   "execution_count": 14,
   "id": "66bde18c",
   "metadata": {},
   "outputs": [
    {
     "data": {
      "text/html": [
       "<div><style>\n",
       ".dataframe > thead > tr > th,\n",
       ".dataframe > tbody > tr > td {\n",
       "  text-align: right;\n",
       "  white-space: pre-wrap;\n",
       "}\n",
       "</style>\n",
       "<small>shape: (3, 3)</small><table border=\"1\" class=\"dataframe\"><thead><tr><th>Category</th><th>Quantity</th><th>Price</th></tr><tr><td>str</td><td>i64</td><td>i64</td></tr></thead><tbody><tr><td>&quot;Electronics&quot;</td><td>5</td><td>200</td></tr><tr><td>&quot;Clothing&quot;</td><td>10</td><td>20</td></tr><tr><td>&quot;Electronics&quot;</td><td>4</td><td>300</td></tr></tbody></table></div>"
      ],
      "text/plain": [
       "shape: (3, 3)\n",
       "┌─────────────┬──────────┬───────┐\n",
       "│ Category    ┆ Quantity ┆ Price │\n",
       "│ ---         ┆ ---      ┆ ---   │\n",
       "│ str         ┆ i64      ┆ i64   │\n",
       "╞═════════════╪══════════╪═══════╡\n",
       "│ Electronics ┆ 5        ┆ 200   │\n",
       "│ Clothing    ┆ 10       ┆ 20    │\n",
       "│ Electronics ┆ 4        ┆ 300   │\n",
       "└─────────────┴──────────┴───────┘"
      ]
     },
     "execution_count": 14,
     "metadata": {},
     "output_type": "execute_result"
    }
   ],
   "source": [
    "polars_df.filter(pl.col(\"Quantity\") > 3)"
   ]
  },
  {
   "cell_type": "code",
   "execution_count": 16,
   "id": "525216a0",
   "metadata": {},
   "outputs": [
    {
     "data": {
      "text/html": [
       "<div>\n",
       "<style scoped>\n",
       "    .dataframe tbody tr th:only-of-type {\n",
       "        vertical-align: middle;\n",
       "    }\n",
       "\n",
       "    .dataframe tbody tr th {\n",
       "        vertical-align: top;\n",
       "    }\n",
       "\n",
       "    .dataframe thead th {\n",
       "        text-align: right;\n",
       "    }\n",
       "</style>\n",
       "<table border=\"1\" class=\"dataframe\">\n",
       "  <thead>\n",
       "    <tr style=\"text-align: right;\">\n",
       "      <th></th>\n",
       "      <th>Quantity</th>\n",
       "      <th>Price</th>\n",
       "    </tr>\n",
       "    <tr>\n",
       "      <th>Category</th>\n",
       "      <th></th>\n",
       "      <th></th>\n",
       "    </tr>\n",
       "  </thead>\n",
       "  <tbody>\n",
       "    <tr>\n",
       "      <th>Clothing</th>\n",
       "      <td>12</td>\n",
       "      <td>25.000000</td>\n",
       "    </tr>\n",
       "    <tr>\n",
       "      <th>Electronics</th>\n",
       "      <td>12</td>\n",
       "      <td>216.666667</td>\n",
       "    </tr>\n",
       "  </tbody>\n",
       "</table>\n",
       "</div>"
      ],
      "text/plain": [
       "             Quantity       Price\n",
       "Category                         \n",
       "Clothing           12   25.000000\n",
       "Electronics        12  216.666667"
      ]
     },
     "execution_count": 16,
     "metadata": {},
     "output_type": "execute_result"
    }
   ],
   "source": [
    "pandas_df.groupby(\"Category\").agg(\n",
    "    {\n",
    "        \"Quantity\": \"sum\", \n",
    "        \"Price\": \"mean\", \n",
    "    }\n",
    ")"
   ]
  },
  {
   "cell_type": "code",
   "execution_count": 17,
   "id": "3052cd11",
   "metadata": {},
   "outputs": [
    {
     "data": {
      "text/html": [
       "<div><style>\n",
       ".dataframe > thead > tr > th,\n",
       ".dataframe > tbody > tr > td {\n",
       "  text-align: right;\n",
       "  white-space: pre-wrap;\n",
       "}\n",
       "</style>\n",
       "<small>shape: (2, 3)</small><table border=\"1\" class=\"dataframe\"><thead><tr><th>Category</th><th>Quantity</th><th>Price</th></tr><tr><td>str</td><td>i64</td><td>f64</td></tr></thead><tbody><tr><td>&quot;Clothing&quot;</td><td>12</td><td>25.0</td></tr><tr><td>&quot;Electronics&quot;</td><td>12</td><td>216.666667</td></tr></tbody></table></div>"
      ],
      "text/plain": [
       "shape: (2, 3)\n",
       "┌─────────────┬──────────┬────────────┐\n",
       "│ Category    ┆ Quantity ┆ Price      │\n",
       "│ ---         ┆ ---      ┆ ---        │\n",
       "│ str         ┆ i64      ┆ f64        │\n",
       "╞═════════════╪══════════╪════════════╡\n",
       "│ Clothing    ┆ 12       ┆ 25.0       │\n",
       "│ Electronics ┆ 12       ┆ 216.666667 │\n",
       "└─────────────┴──────────┴────────────┘"
      ]
     },
     "execution_count": 17,
     "metadata": {},
     "output_type": "execute_result"
    }
   ],
   "source": [
    "polars_df.group_by(\"Category\").agg(\n",
    "    [\n",
    "        pl.col(\"Quantity\").sum(),\n",
    "        pl.col(\"Price\").mean(),\n",
    "    ]\n",
    ")"
   ]
  }
 ],
 "metadata": {
  "celltoolbar": "Tags",
  "kernelspec": {
   "display_name": "Python 3 (ipykernel)",
   "language": "python",
   "name": "python3"
  },
  "language_info": {
   "codemirror_mode": {
    "name": "ipython",
    "version": 3
   },
   "file_extension": ".py",
   "mimetype": "text/x-python",
   "name": "python",
   "nbconvert_exporter": "python",
   "pygments_lexer": "ipython3",
   "version": "3.11.6"
  },
  "toc": {
   "base_numbering": 1,
   "nav_menu": {},
   "number_sections": true,
   "sideBar": true,
   "skip_h1_title": false,
   "title_cell": "Table of Contents",
   "title_sidebar": "Contents",
   "toc_cell": false,
   "toc_position": {},
   "toc_section_display": true,
   "toc_window_display": false
  }
 },
 "nbformat": 4,
 "nbformat_minor": 5
}
