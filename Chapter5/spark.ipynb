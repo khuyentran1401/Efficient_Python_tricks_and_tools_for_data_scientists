{
 "cells": [
  {
   "cell_type": "markdown",
   "id": "af6530d4-d251-4240-90f6-eed4704a0a1a",
   "metadata": {},
   "source": [
    "## PySpark"
   ]
  },
  {
   "cell_type": "markdown",
   "id": "06ae6e73-bfad-45fb-b338-048da0c0c789",
   "metadata": {},
   "source": [
    "### 3 Powerful Ways to Create PySpark DataFrames"
   ]
  },
  {
   "cell_type": "code",
   "execution_count": 21,
   "id": "66e1b5d0",
   "metadata": {},
   "outputs": [],
   "source": [
    "from pyspark.sql import SparkSession\n",
    "\n",
    "spark = SparkSession.builder.getOrCreate()"
   ]
  },
  {
   "cell_type": "markdown",
   "id": "08648f09-21cd-42d0-8b0f-be04fa7e2002",
   "metadata": {},
   "source": [
    "Here are the three powerful methods to create DataFrames in PySpark, each with its own advantages:"
   ]
  },
  {
   "cell_type": "markdown",
   "id": "b35944a8-7824-4971-9cc5-cf847c5269fb",
   "metadata": {},
   "source": [
    "1. Using StructType and StructField:"
   ]
  },
  {
   "cell_type": "code",
   "execution_count": 22,
   "id": "a16e73a8",
   "metadata": {},
   "outputs": [
    {
     "name": "stdout",
     "output_type": "stream",
     "text": [
      "+-------+---+\n",
      "|   name|age|\n",
      "+-------+---+\n",
      "|  Alice| 25|\n",
      "|    Bob| 30|\n",
      "|Charlie| 35|\n",
      "+-------+---+\n",
      "\n"
     ]
    }
   ],
   "source": [
    "from pyspark.sql.types import StructType, StructField, StringType, IntegerType\n",
    "\n",
    "\n",
    "data = [(\"Alice\", 25), (\"Bob\", 30), (\"Charlie\", 35)]\n",
    "schema = StructType(\n",
    "    [StructField(\"name\", StringType(), True), StructField(\"age\", IntegerType(), True)]\n",
    ")\n",
    "\n",
    "df = spark.createDataFrame(data, schema)\n",
    "df.show()"
   ]
  },
  {
   "cell_type": "markdown",
   "id": "d6db8d65-4aa9-4f2a-bbf1-2a85e62b987a",
   "metadata": {},
   "source": [
    "Pros:\n",
    "- Explicit schema definition, giving you full control over data types\n",
    "- Helps catch data type mismatches early\n",
    "- Ideal when you need to ensure data consistency and type safety\n",
    "- Can improve performance by avoiding schema inference"
   ]
  },
  {
   "cell_type": "markdown",
   "id": "9ee5ab77-dd71-4e83-bf66-f7b5704ead09",
   "metadata": {},
   "source": [
    "2. Using Row objects:"
   ]
  },
  {
   "cell_type": "code",
   "execution_count": 23,
   "id": "bfca4bd7",
   "metadata": {},
   "outputs": [
    {
     "name": "stdout",
     "output_type": "stream",
     "text": [
      "+-------+---+\n",
      "|   name|age|\n",
      "+-------+---+\n",
      "|  Alice| 25|\n",
      "|    Bob| 30|\n",
      "|Charlie| 35|\n",
      "+-------+---+\n",
      "\n"
     ]
    }
   ],
   "source": [
    "from pyspark.sql import Row\n",
    "\n",
    "data = [Row(name=\"Alice\", age=25), Row(name=\"Bob\", age=30), Row(name=\"Charlie\", age=35)]\n",
    "df = spark.createDataFrame(data)\n",
    "df.show()"
   ]
  },
  {
   "cell_type": "markdown",
   "id": "8812e9a0-c54d-44f4-8300-5ec0bdf53061",
   "metadata": {},
   "source": [
    "Pros:\n",
    "- More Pythonic approach, leveraging named tuples\n",
    "- Good for scenarios where data structure might evolve"
   ]
  },
  {
   "cell_type": "markdown",
   "id": "ef78d9a3-cd5a-44bb-a1d9-155e67c3743f",
   "metadata": {},
   "source": [
    "3. From Pandas DataFrame:"
   ]
  },
  {
   "cell_type": "code",
   "execution_count": 24,
   "id": "9f8050dc",
   "metadata": {},
   "outputs": [
    {
     "name": "stdout",
     "output_type": "stream",
     "text": [
      "+-------+---+\n",
      "|   name|age|\n",
      "+-------+---+\n",
      "|  Alice| 25|\n",
      "|    Bob| 30|\n",
      "|Charlie| 35|\n",
      "+-------+---+\n",
      "\n"
     ]
    },
    {
     "name": "stderr",
     "output_type": "stream",
     "text": [
      "                                                                                \r"
     ]
    }
   ],
   "source": [
    "import pandas as pd\n",
    "\n",
    "pandas_df = pd.DataFrame({\"name\": [\"Alice\", \"Bob\", \"Charlie\"], \"age\": [25, 30, 35]})\n",
    "df = spark.createDataFrame(pandas_df)\n",
    "df.show()"
   ]
  },
  {
   "cell_type": "markdown",
   "id": "aaf54d83-69a5-47ec-b0c7-bf435e08fc5d",
   "metadata": {},
   "source": [
    "Pros:\n",
    "- Familiar to data scientists who frequently use Pandas"
   ]
  },
  {
   "cell_type": "markdown",
   "id": "8edc16c3",
   "metadata": {},
   "source": [
    "### Distributed Data Joining with Shuffle Joins in PySpark"
   ]
  },
  {
   "cell_type": "code",
   "execution_count": null,
   "id": "eb120452",
   "metadata": {
    "tags": [
     "hide-cell"
    ]
   },
   "outputs": [],
   "source": [
    "!pip install 'pyspark[sql]'"
   ]
  },
  {
   "cell_type": "markdown",
   "id": "81ef45c6",
   "metadata": {},
   "source": [
    "Shuffle joins in PySpark distribute data across worker nodes, enabling parallel processing and improving performance compared to single-node joins. By dividing data into partitions and joining each partition simultaneously, shuffle joins can handle large datasets efficiently.\n",
    "\n",
    "![](../img/shuffle_join_4.png)"
   ]
  },
  {
   "cell_type": "markdown",
   "id": "4b7a95df",
   "metadata": {},
   "source": [
    "Here's an example of performing a shuffle join in PySpark:"
   ]
  },
  {
   "cell_type": "code",
   "execution_count": 26,
   "id": "62748cc8",
   "metadata": {},
   "outputs": [],
   "source": [
    "from pyspark.sql import SparkSession\n",
    "\n",
    "spark = SparkSession.builder.getOrCreate()"
   ]
  },
  {
   "cell_type": "code",
   "execution_count": 27,
   "id": "d9ad00bd",
   "metadata": {},
   "outputs": [
    {
     "name": "stderr",
     "output_type": "stream",
     "text": [
      "[Stage 93:>                                                         (0 + 8) / 8]\r"
     ]
    },
    {
     "name": "stdout",
     "output_type": "stream",
     "text": [
      "+---+----+----------+------+\n",
      "| id|name|department|salary|\n",
      "+---+----+----------+------+\n",
      "|  1|John|     Sales|  5000|\n",
      "|  2|Jane| Marketing|  6000|\n",
      "+---+----+----------+------+\n",
      "\n"
     ]
    },
    {
     "name": "stderr",
     "output_type": "stream",
     "text": [
      "                                                                                \r"
     ]
    }
   ],
   "source": [
    "employees = spark.createDataFrame(\n",
    "    [(1, \"John\", \"Sales\"), (2, \"Jane\", \"Marketing\"), (3, \"Bob\", \"Engineering\")],\n",
    "    [\"id\", \"name\", \"department\"],\n",
    ")\n",
    "\n",
    "salaries = spark.createDataFrame([(1, 5000), (2, 6000), (4, 7000)], [\"id\", \"salary\"])\n",
    "\n",
    "# Perform an inner join using the join key \"id\"\n",
    "joined_df = employees.join(salaries, \"id\", \"inner\")\n",
    "\n",
    "joined_df.show()"
   ]
  },
  {
   "cell_type": "markdown",
   "id": "024e48ef",
   "metadata": {},
   "source": [
    "In this example, PySpark performs a shuffle join behind the scenes to combine the two DataFrames. The process involves partitioning the data based on the join key (\"id\"), shuffling the partitions across the worker nodes, performing local joins on each worker node, and finally merging the results."
   ]
  },
  {
   "cell_type": "markdown",
   "id": "549e0e0a",
   "metadata": {},
   "source": [
    "### PySpark DataFrame Transformations: select vs withColumn"
   ]
  },
  {
   "cell_type": "code",
   "execution_count": 28,
   "id": "322859d8",
   "metadata": {
    "tags": [
     "hide-cell"
    ]
   },
   "outputs": [
    {
     "name": "stdout",
     "output_type": "stream",
     "text": [
      "Requirement already satisfied: pyspark[sql] in /Users/khuyentran/book/venv/lib/python3.11/site-packages (3.5.3)\n",
      "Requirement already satisfied: py4j==0.10.9.7 in /Users/khuyentran/book/venv/lib/python3.11/site-packages (from pyspark[sql]) (0.10.9.7)\n",
      "Requirement already satisfied: pandas>=1.0.5 in /Users/khuyentran/book/venv/lib/python3.11/site-packages (from pyspark[sql]) (1.5.3)\n",
      "Requirement already satisfied: pyarrow>=4.0.0 in /Users/khuyentran/book/venv/lib/python3.11/site-packages (from pyspark[sql]) (18.0.0)\n",
      "Requirement already satisfied: numpy<2,>=1.15 in /Users/khuyentran/book/venv/lib/python3.11/site-packages (from pyspark[sql]) (1.24.4)\n",
      "Requirement already satisfied: python-dateutil>=2.8.1 in /Users/khuyentran/book/venv/lib/python3.11/site-packages (from pandas>=1.0.5->pyspark[sql]) (2.8.2)\n",
      "Requirement already satisfied: pytz>=2020.1 in /Users/khuyentran/book/venv/lib/python3.11/site-packages (from pandas>=1.0.5->pyspark[sql]) (2023.3.post1)\n",
      "Requirement already satisfied: six>=1.5 in /Users/khuyentran/book/venv/lib/python3.11/site-packages (from python-dateutil>=2.8.1->pandas>=1.0.5->pyspark[sql]) (1.16.0)\n"
     ]
    }
   ],
   "source": [
    "!pip install 'pyspark[sql]'"
   ]
  },
  {
   "cell_type": "code",
   "execution_count": 29,
   "id": "edbf287e",
   "metadata": {
    "tags": [
     "hide-cell"
    ]
   },
   "outputs": [],
   "source": [
    "from pyspark.sql import SparkSession\n",
    "\n",
    "spark = SparkSession.builder.getOrCreate()"
   ]
  },
  {
   "cell_type": "markdown",
   "id": "0b1dbabe",
   "metadata": {},
   "source": [
    "PySpark's `select` and `withColumn` both can be used to add or modify existing columns. However, their behavior are different.\n",
    "\n",
    "To demonstrate this, let's start with creating a sample DataFrame:"
   ]
  },
  {
   "cell_type": "code",
   "execution_count": 30,
   "id": "9561afc6",
   "metadata": {},
   "outputs": [
    {
     "name": "stdout",
     "output_type": "stream",
     "text": [
      "+-----+---+-------------+\n",
      "| name|age|         city|\n",
      "+-----+---+-------------+\n",
      "|Alice| 28|     New York|\n",
      "|  Bob| 35|San Francisco|\n",
      "+-----+---+-------------+\n",
      "\n"
     ]
    }
   ],
   "source": [
    "from pyspark.sql.functions import col, upper\n",
    "\n",
    "\n",
    "data = [\n",
    "    (\"Alice\", 28, \"New York\"),\n",
    "    (\"Bob\", 35, \"San Francisco\"),\n",
    "]\n",
    "df = spark.createDataFrame(data, [\"name\", \"age\", \"city\"])\n",
    "df.show()"
   ]
  },
  {
   "cell_type": "markdown",
   "id": "07eba50a",
   "metadata": {},
   "source": [
    "\n",
    "`select` only keeps specified columns."
   ]
  },
  {
   "cell_type": "code",
   "execution_count": 31,
   "id": "278dac0c",
   "metadata": {},
   "outputs": [
    {
     "name": "stdout",
     "output_type": "stream",
     "text": [
      "+-------------+\n",
      "|   upper_city|\n",
      "+-------------+\n",
      "|     NEW YORK|\n",
      "|SAN FRANCISCO|\n",
      "+-------------+\n",
      "\n"
     ]
    }
   ],
   "source": [
    "df_select = df.select(upper(col(\"city\")).alias(\"upper_city\"))\n",
    "df_select.show()"
   ]
  },
  {
   "cell_type": "markdown",
   "id": "3f1dec31",
   "metadata": {},
   "source": [
    "`withColumn` retains all original columns plus the new/modified one."
   ]
  },
  {
   "cell_type": "code",
   "execution_count": 32,
   "id": "3b0a9103",
   "metadata": {},
   "outputs": [
    {
     "name": "stdout",
     "output_type": "stream",
     "text": [
      "+-----+---+-------------+-------------+\n",
      "| name|age|         city|   upper_city|\n",
      "+-----+---+-------------+-------------+\n",
      "|Alice| 28|     New York|     NEW YORK|\n",
      "|  Bob| 35|San Francisco|SAN FRANCISCO|\n",
      "+-----+---+-------------+-------------+\n",
      "\n"
     ]
    }
   ],
   "source": [
    "df_withColumn = df.withColumn(\"upper_city\", upper(col(\"city\")))\n",
    "df_withColumn.show()"
   ]
  },
  {
   "cell_type": "markdown",
   "id": "d8dc8623",
   "metadata": {},
   "source": [
    "### Spark DataFrame: Avoid Out-of-Memory Errors with Lazy Evaluation"
   ]
  },
  {
   "cell_type": "code",
   "execution_count": 33,
   "id": "6809b440",
   "metadata": {
    "tags": [
     "hide-cell"
    ]
   },
   "outputs": [
    {
     "name": "stdout",
     "output_type": "stream",
     "text": [
      "Requirement already satisfied: pyspark[sql] in /Users/khuyentran/book/venv/lib/python3.11/site-packages (3.5.3)\n",
      "Requirement already satisfied: py4j==0.10.9.7 in /Users/khuyentran/book/venv/lib/python3.11/site-packages (from pyspark[sql]) (0.10.9.7)\n",
      "Requirement already satisfied: pandas>=1.0.5 in /Users/khuyentran/book/venv/lib/python3.11/site-packages (from pyspark[sql]) (1.5.3)\n",
      "Requirement already satisfied: pyarrow>=4.0.0 in /Users/khuyentran/book/venv/lib/python3.11/site-packages (from pyspark[sql]) (18.0.0)\n",
      "Requirement already satisfied: numpy<2,>=1.15 in /Users/khuyentran/book/venv/lib/python3.11/site-packages (from pyspark[sql]) (1.24.4)\n",
      "Requirement already satisfied: python-dateutil>=2.8.1 in /Users/khuyentran/book/venv/lib/python3.11/site-packages (from pandas>=1.0.5->pyspark[sql]) (2.8.2)\n",
      "Requirement already satisfied: pytz>=2020.1 in /Users/khuyentran/book/venv/lib/python3.11/site-packages (from pandas>=1.0.5->pyspark[sql]) (2023.3.post1)\n",
      "Requirement already satisfied: six>=1.5 in /Users/khuyentran/book/venv/lib/python3.11/site-packages (from python-dateutil>=2.8.1->pandas>=1.0.5->pyspark[sql]) (1.16.0)\n"
     ]
    }
   ],
   "source": [
    "!pip install 'pyspark[sql]'"
   ]
  },
  {
   "cell_type": "code",
   "execution_count": 34,
   "id": "c7e8e068",
   "metadata": {
    "tags": [
     "remove-cell"
    ]
   },
   "outputs": [],
   "source": [
    "# Create a parquet file for testing\n",
    "\n",
    "import pandas as pd\n",
    "import numpy as np\n",
    "\n",
    "# Set the number of rows\n",
    "num_rows = 1_000_000\n",
    "\n",
    "# Create a categorical column with three categories as strings\n",
    "category_column = np.random.choice([\"a\", \"b\", \"c\"], size=num_rows)\n",
    "\n",
    "# Create two numerical columns\n",
    "num_col1 = np.random.randint(0, 100, num_rows)\n",
    "num_col2 = np.random.randint(0, 100, num_rows)\n",
    "\n",
    "# Create the DataFrame\n",
    "df = pd.DataFrame({\"cat\": category_column, \"val1\": num_col1, \"val2\": num_col2})\n",
    "\n",
    "df.to_parquet(\"test_data.parquet\")"
   ]
  },
  {
   "cell_type": "markdown",
   "id": "a0bfb86b",
   "metadata": {},
   "source": [
    "Retrieving all rows from a large dataset into memory can cause out-of-memory errors. When creating a Spark DataFrame, computations are not executed until the `collect()` method is invoked. This allows you to reduce the size of the DataFrame through operations such as filtering or aggregating before bringing them into memory. \n",
    "\n",
    "As a result, you can manage memory usage more efficiently and avoid unnecessary computations."
   ]
  },
  {
   "cell_type": "code",
   "execution_count": 35,
   "id": "be8b69c8",
   "metadata": {},
   "outputs": [],
   "source": [
    "from pyspark.sql import SparkSession\n",
    "\n",
    "spark = SparkSession.builder.getOrCreate()"
   ]
  },
  {
   "cell_type": "code",
   "execution_count": 36,
   "id": "58d04cb6",
   "metadata": {},
   "outputs": [
    {
     "name": "stderr",
     "output_type": "stream",
     "text": [
      "[Stage 107:>                                                        (0 + 1) / 1]\r"
     ]
    },
    {
     "name": "stdout",
     "output_type": "stream",
     "text": [
      "+---+----+----+\n",
      "|cat|val1|val2|\n",
      "+---+----+----+\n",
      "|  a|  83|  85|\n",
      "|  b|  22|  42|\n",
      "|  c|  63|  47|\n",
      "|  b|  48|  43|\n",
      "|  b|   8|  88|\n",
      "+---+----+----+\n",
      "only showing top 5 rows\n",
      "\n"
     ]
    },
    {
     "name": "stderr",
     "output_type": "stream",
     "text": [
      "                                                                                \r"
     ]
    }
   ],
   "source": [
    "df = spark.read.parquet(\"test_data.parquet\")\n",
    "df.show(5)"
   ]
  },
  {
   "cell_type": "code",
   "execution_count": 37,
   "id": "01181341",
   "metadata": {},
   "outputs": [],
   "source": [
    "processed_df = df.filter(df[\"val1\"] >= 50).groupBy(\"cat\").agg({\"val2\": \"mean\"})"
   ]
  },
  {
   "cell_type": "code",
   "execution_count": 38,
   "id": "305ddc35",
   "metadata": {},
   "outputs": [
    {
     "name": "stderr",
     "output_type": "stream",
     "text": [
      "                                                                                \r"
     ]
    },
    {
     "data": {
      "text/plain": [
       "[Row(cat='c', avg(val2)=49.47834174060653),\n",
       " Row(cat='b', avg(val2)=49.48673081656052),\n",
       " Row(cat='a', avg(val2)=49.31581918867947)]"
      ]
     },
     "execution_count": 38,
     "metadata": {},
     "output_type": "execute_result"
    }
   ],
   "source": [
    "processed_df.collect()"
   ]
  },
  {
   "cell_type": "markdown",
   "id": "c115794a",
   "metadata": {},
   "source": [
    "### Pandas-Friendly Big Data Processing with Spark"
   ]
  },
  {
   "cell_type": "code",
   "execution_count": null,
   "id": "b1917668",
   "metadata": {},
   "outputs": [],
   "source": [
    "!pip install \"pyspark[pandas_on_spark]\""
   ]
  },
  {
   "cell_type": "markdown",
   "id": "d0190c8e",
   "metadata": {},
   "source": [
    "Spark enables scaling of your pandas workloads across multiple nodes. However, learning PySpark syntax can be daunting for pandas users. \n",
    "\n",
    "Pandas API on Spark enables leveraging Spark's capabilities for big data while retaining a familiar pandas-like syntax.\n",
    "\n",
    "The following code compares the syntax between PySpark and the Pandas API on Spark."
   ]
  },
  {
   "cell_type": "code",
   "execution_count": 40,
   "id": "631d204d",
   "metadata": {},
   "outputs": [],
   "source": [
    "import warnings\n",
    "\n",
    "warnings.simplefilter(action=\"ignore\", category=FutureWarning)"
   ]
  },
  {
   "cell_type": "markdown",
   "id": "0a19b336",
   "metadata": {},
   "source": [
    "Pandas API on Spark:"
   ]
  },
  {
   "cell_type": "code",
   "execution_count": 41,
   "id": "b903aa18",
   "metadata": {},
   "outputs": [
    {
     "name": "stderr",
     "output_type": "stream",
     "text": [
      "/Users/khuyentran/book/venv/lib/python3.11/site-packages/pyspark/pandas/__init__.py:50: UserWarning: 'PYARROW_IGNORE_TIMEZONE' environment variable was not set. It is required to set this environment variable to '1' in both driver and executor sides if you use pyarrow>=2.0.0. pandas-on-Spark will set it for you but it does not work if there is a Spark context already launched.\n",
      "  warnings.warn(\n"
     ]
    }
   ],
   "source": [
    "import numpy as np\n",
    "import pyspark.pandas as ps"
   ]
  },
  {
   "cell_type": "code",
   "execution_count": 42,
   "id": "3136c2a0",
   "metadata": {},
   "outputs": [],
   "source": [
    "psdf = ps.DataFrame(\n",
    "    {\n",
    "        \"A\": [\"foo\", \"bar\", \"foo\"],\n",
    "        \"B\": [\"one\", \"one\", \"two\"],\n",
    "        \"C\": [0.1, 0.3, 0.5],\n",
    "        \"D\": [0.2, 0.4, 0.6],\n",
    "    }\n",
    ")"
   ]
  },
  {
   "cell_type": "code",
   "execution_count": 43,
   "id": "313537cf",
   "metadata": {},
   "outputs": [
    {
     "data": {
      "text/html": [
       "<div>\n",
       "<style scoped>\n",
       "    .dataframe tbody tr th:only-of-type {\n",
       "        vertical-align: middle;\n",
       "    }\n",
       "\n",
       "    .dataframe tbody tr th {\n",
       "        vertical-align: top;\n",
       "    }\n",
       "\n",
       "    .dataframe thead th {\n",
       "        text-align: right;\n",
       "    }\n",
       "</style>\n",
       "<table border=\"1\" class=\"dataframe\">\n",
       "  <thead>\n",
       "    <tr style=\"text-align: right;\">\n",
       "      <th></th>\n",
       "      <th>A</th>\n",
       "      <th>B</th>\n",
       "      <th>C</th>\n",
       "      <th>D</th>\n",
       "    </tr>\n",
       "  </thead>\n",
       "  <tbody>\n",
       "    <tr>\n",
       "      <th>0</th>\n",
       "      <td>foo</td>\n",
       "      <td>one</td>\n",
       "      <td>0.1</td>\n",
       "      <td>0.2</td>\n",
       "    </tr>\n",
       "    <tr>\n",
       "      <th>1</th>\n",
       "      <td>bar</td>\n",
       "      <td>one</td>\n",
       "      <td>0.3</td>\n",
       "      <td>0.4</td>\n",
       "    </tr>\n",
       "    <tr>\n",
       "      <th>2</th>\n",
       "      <td>foo</td>\n",
       "      <td>two</td>\n",
       "      <td>0.5</td>\n",
       "      <td>0.6</td>\n",
       "    </tr>\n",
       "  </tbody>\n",
       "</table>\n",
       "</div>"
      ],
      "text/plain": [
       "     A    B    C    D\n",
       "0  foo  one  0.1  0.2\n",
       "1  bar  one  0.3  0.4\n",
       "2  foo  two  0.5  0.6"
      ]
     },
     "execution_count": 43,
     "metadata": {},
     "output_type": "execute_result"
    }
   ],
   "source": [
    "psdf.sort_values(by=\"B\")"
   ]
  },
  {
   "cell_type": "code",
   "execution_count": 44,
   "id": "4e9e6506",
   "metadata": {},
   "outputs": [
    {
     "name": "stderr",
     "output_type": "stream",
     "text": [
      "                                                                                \r"
     ]
    },
    {
     "data": {
      "text/html": [
       "<div>\n",
       "<style scoped>\n",
       "    .dataframe tbody tr th:only-of-type {\n",
       "        vertical-align: middle;\n",
       "    }\n",
       "\n",
       "    .dataframe tbody tr th {\n",
       "        vertical-align: top;\n",
       "    }\n",
       "\n",
       "    .dataframe thead th {\n",
       "        text-align: right;\n",
       "    }\n",
       "</style>\n",
       "<table border=\"1\" class=\"dataframe\">\n",
       "  <thead>\n",
       "    <tr style=\"text-align: right;\">\n",
       "      <th></th>\n",
       "      <th>C</th>\n",
       "      <th>D</th>\n",
       "    </tr>\n",
       "    <tr>\n",
       "      <th>A</th>\n",
       "      <th></th>\n",
       "      <th></th>\n",
       "    </tr>\n",
       "  </thead>\n",
       "  <tbody>\n",
       "    <tr>\n",
       "      <th>foo</th>\n",
       "      <td>0.6</td>\n",
       "      <td>0.8</td>\n",
       "    </tr>\n",
       "    <tr>\n",
       "      <th>bar</th>\n",
       "      <td>0.3</td>\n",
       "      <td>0.4</td>\n",
       "    </tr>\n",
       "  </tbody>\n",
       "</table>\n",
       "</div>"
      ],
      "text/plain": [
       "       C    D\n",
       "A            \n",
       "foo  0.6  0.8\n",
       "bar  0.3  0.4"
      ]
     },
     "execution_count": 44,
     "metadata": {},
     "output_type": "execute_result"
    }
   ],
   "source": [
    "psdf.groupby(\"A\").sum()"
   ]
  },
  {
   "cell_type": "code",
   "execution_count": 45,
   "id": "4ba075e5",
   "metadata": {},
   "outputs": [
    {
     "data": {
      "text/html": [
       "<div>\n",
       "<style scoped>\n",
       "    .dataframe tbody tr th:only-of-type {\n",
       "        vertical-align: middle;\n",
       "    }\n",
       "\n",
       "    .dataframe tbody tr th {\n",
       "        vertical-align: top;\n",
       "    }\n",
       "\n",
       "    .dataframe thead th {\n",
       "        text-align: right;\n",
       "    }\n",
       "</style>\n",
       "<table border=\"1\" class=\"dataframe\">\n",
       "  <thead>\n",
       "    <tr style=\"text-align: right;\">\n",
       "      <th></th>\n",
       "      <th>A</th>\n",
       "      <th>B</th>\n",
       "      <th>C</th>\n",
       "      <th>D</th>\n",
       "    </tr>\n",
       "  </thead>\n",
       "  <tbody>\n",
       "    <tr>\n",
       "      <th>2</th>\n",
       "      <td>foo</td>\n",
       "      <td>two</td>\n",
       "      <td>0.5</td>\n",
       "      <td>0.6</td>\n",
       "    </tr>\n",
       "  </tbody>\n",
       "</table>\n",
       "</div>"
      ],
      "text/plain": [
       "     A    B    C    D\n",
       "2  foo  two  0.5  0.6"
      ]
     },
     "execution_count": 45,
     "metadata": {},
     "output_type": "execute_result"
    }
   ],
   "source": [
    "psdf.query(\"C > 0.4\")"
   ]
  },
  {
   "cell_type": "code",
   "execution_count": 46,
   "id": "ef83be61",
   "metadata": {},
   "outputs": [
    {
     "data": {
      "text/html": [
       "<div>\n",
       "<style scoped>\n",
       "    .dataframe tbody tr th:only-of-type {\n",
       "        vertical-align: middle;\n",
       "    }\n",
       "\n",
       "    .dataframe tbody tr th {\n",
       "        vertical-align: top;\n",
       "    }\n",
       "\n",
       "    .dataframe thead th {\n",
       "        text-align: right;\n",
       "    }\n",
       "</style>\n",
       "<table border=\"1\" class=\"dataframe\">\n",
       "  <thead>\n",
       "    <tr style=\"text-align: right;\">\n",
       "      <th></th>\n",
       "      <th>C</th>\n",
       "      <th>D</th>\n",
       "    </tr>\n",
       "  </thead>\n",
       "  <tbody>\n",
       "    <tr>\n",
       "      <th>0</th>\n",
       "      <td>0.1</td>\n",
       "      <td>0.2</td>\n",
       "    </tr>\n",
       "    <tr>\n",
       "      <th>1</th>\n",
       "      <td>0.3</td>\n",
       "      <td>0.4</td>\n",
       "    </tr>\n",
       "    <tr>\n",
       "      <th>2</th>\n",
       "      <td>0.5</td>\n",
       "      <td>0.6</td>\n",
       "    </tr>\n",
       "  </tbody>\n",
       "</table>\n",
       "</div>"
      ],
      "text/plain": [
       "     C    D\n",
       "0  0.1  0.2\n",
       "1  0.3  0.4\n",
       "2  0.5  0.6"
      ]
     },
     "execution_count": 46,
     "metadata": {},
     "output_type": "execute_result"
    }
   ],
   "source": [
    "psdf[[\"C\", \"D\"]].abs()"
   ]
  },
  {
   "cell_type": "markdown",
   "id": "fa28ac06",
   "metadata": {},
   "source": [
    "PySpark:"
   ]
  },
  {
   "cell_type": "code",
   "execution_count": 47,
   "id": "52727ee5",
   "metadata": {},
   "outputs": [],
   "source": [
    "from pyspark.sql.functions import col\n",
    "from pyspark.sql.functions import abs\n",
    "from pyspark.sql import SparkSession"
   ]
  },
  {
   "cell_type": "code",
   "execution_count": 48,
   "id": "aa20263c",
   "metadata": {},
   "outputs": [],
   "source": [
    "spark = SparkSession.builder.getOrCreate()"
   ]
  },
  {
   "cell_type": "code",
   "execution_count": 49,
   "id": "7bd65b38",
   "metadata": {},
   "outputs": [],
   "source": [
    "spark_data = spark.createDataFrame(\n",
    "    [\n",
    "        (\"foo\", \"one\", 0.1, 0.2),\n",
    "        (\"bar\", \"one\", 0.3, 0.4),\n",
    "        (\"foo\", \"two\", 0.5, 0.6),\n",
    "    ],\n",
    "    [\"A\", \"B\", \"C\", \"D\"],\n",
    ")"
   ]
  },
  {
   "cell_type": "code",
   "execution_count": 50,
   "id": "bc31133e",
   "metadata": {},
   "outputs": [
    {
     "name": "stdout",
     "output_type": "stream",
     "text": [
      "+---+---+---+---+\n",
      "|  A|  B|  C|  D|\n",
      "+---+---+---+---+\n",
      "|foo|one|0.1|0.2|\n",
      "|bar|one|0.3|0.4|\n",
      "|foo|two|0.5|0.6|\n",
      "+---+---+---+---+\n",
      "\n"
     ]
    }
   ],
   "source": [
    "spark_data.sort(col(\"B\")).show()"
   ]
  },
  {
   "cell_type": "code",
   "execution_count": 51,
   "id": "e78b6c57",
   "metadata": {},
   "outputs": [
    {
     "name": "stdout",
     "output_type": "stream",
     "text": [
      "+---+------+------+\n",
      "|  A|sum(C)|sum(D)|\n",
      "+---+------+------+\n",
      "|foo|   0.6|   0.8|\n",
      "|bar|   0.3|   0.4|\n",
      "+---+------+------+\n",
      "\n"
     ]
    }
   ],
   "source": [
    "spark_data.groupBy(\"A\").sum().show()"
   ]
  },
  {
   "cell_type": "code",
   "execution_count": 52,
   "id": "bfa63abc",
   "metadata": {},
   "outputs": [
    {
     "name": "stdout",
     "output_type": "stream",
     "text": [
      "+---+---+---+---+\n",
      "|  A|  B|  C|  D|\n",
      "+---+---+---+---+\n",
      "|foo|two|0.5|0.6|\n",
      "+---+---+---+---+\n",
      "\n"
     ]
    }
   ],
   "source": [
    "spark_data.filter(col(\"C\") > 0.4).show()"
   ]
  },
  {
   "cell_type": "code",
   "execution_count": 53,
   "id": "f340ef77",
   "metadata": {},
   "outputs": [
    {
     "data": {
      "text/plain": [
       "DataFrame[C: double, D: double]"
      ]
     },
     "execution_count": 53,
     "metadata": {},
     "output_type": "execute_result"
    }
   ],
   "source": [
    "spark_data.select(abs(spark_data[\"C\"]).alias(\"C\"), abs(spark_data[\"D\"]).alias(\"D\"))"
   ]
  },
  {
   "cell_type": "markdown",
   "id": "a2d96783",
   "metadata": {},
   "source": [
    "### Writing Safer and Cleaner Spark SQL with PySpark's Parameterized Queries"
   ]
  },
  {
   "cell_type": "code",
   "execution_count": 54,
   "id": "d296b294",
   "metadata": {
    "tags": [
     "hide-cell"
    ]
   },
   "outputs": [
    {
     "name": "stdout",
     "output_type": "stream",
     "text": [
      "Requirement already satisfied: pyspark[sql] in /Users/khuyentran/book/venv/lib/python3.11/site-packages (3.5.3)\n",
      "Requirement already satisfied: py4j==0.10.9.7 in /Users/khuyentran/book/venv/lib/python3.11/site-packages (from pyspark[sql]) (0.10.9.7)\n",
      "Requirement already satisfied: pandas>=1.0.5 in /Users/khuyentran/book/venv/lib/python3.11/site-packages (from pyspark[sql]) (1.5.3)\n",
      "Requirement already satisfied: pyarrow>=4.0.0 in /Users/khuyentran/book/venv/lib/python3.11/site-packages (from pyspark[sql]) (18.0.0)\n",
      "Requirement already satisfied: numpy<2,>=1.15 in /Users/khuyentran/book/venv/lib/python3.11/site-packages (from pyspark[sql]) (1.24.4)\n",
      "Requirement already satisfied: python-dateutil>=2.8.1 in /Users/khuyentran/book/venv/lib/python3.11/site-packages (from pandas>=1.0.5->pyspark[sql]) (2.8.2)\n",
      "Requirement already satisfied: pytz>=2020.1 in /Users/khuyentran/book/venv/lib/python3.11/site-packages (from pandas>=1.0.5->pyspark[sql]) (2023.3.post1)\n",
      "Requirement already satisfied: six>=1.5 in /Users/khuyentran/book/venv/lib/python3.11/site-packages (from python-dateutil>=2.8.1->pandas>=1.0.5->pyspark[sql]) (1.16.0)\n"
     ]
    }
   ],
   "source": [
    "!pip install \"pyspark[sql]\""
   ]
  },
  {
   "cell_type": "code",
   "execution_count": 55,
   "id": "8056b8af",
   "metadata": {},
   "outputs": [],
   "source": [
    "from pyspark.sql import SparkSession\n",
    "import pandas as pd\n",
    "from datetime import date, timedelta\n",
    "\n",
    "spark = SparkSession.builder.getOrCreate()"
   ]
  },
  {
   "cell_type": "markdown",
   "id": "0ddc2bc2",
   "metadata": {},
   "source": [
    "When working with Spark SQL queries, using regular Python string interpolation can lead to security vulnerabilities and require extra steps like creating temporary views. PySpark offers a better solution with parameterized queries, which:\n",
    "\n",
    "- Protect against SQL injection\n",
    "- Allow using DataFrame objects directly in queries\n",
    "- Automatically handle date formatting\n",
    "- Provide a more expressive way to write SQL queries\n",
    "\n",
    "Let's compare the traditional approach with parameterized queries:"
   ]
  },
  {
   "cell_type": "code",
   "execution_count": 56,
   "id": "cc5f3c19",
   "metadata": {},
   "outputs": [
    {
     "name": "stdout",
     "output_type": "stream",
     "text": [
      "+-------+-----+----------------+\n",
      "|item_id|price|transaction_date|\n",
      "+-------+-----+----------------+\n",
      "|      1|    4|      2023-01-15|\n",
      "|      2|    2|      2023-02-01|\n",
      "|      3|    5|      2023-03-10|\n",
      "|      4|    1|      2023-04-22|\n",
      "+-------+-----+----------------+\n",
      "\n"
     ]
    }
   ],
   "source": [
    "# Create a Spark DataFrame\n",
    "item_price_pandas = pd.DataFrame(\n",
    "    {\n",
    "        \"item_id\": [1, 2, 3, 4],\n",
    "        \"price\": [4, 2, 5, 1],\n",
    "        \"transaction_date\": [\n",
    "            date(2023, 1, 15),\n",
    "            date(2023, 2, 1),\n",
    "            date(2023, 3, 10),\n",
    "            date(2023, 4, 22),\n",
    "        ],\n",
    "    }\n",
    ")\n",
    "\n",
    "item_price = spark.createDataFrame(item_price_pandas)\n",
    "item_price.show()"
   ]
  },
  {
   "cell_type": "markdown",
   "id": "fcfcc76a-5b3e-41b3-819f-14adf8576061",
   "metadata": {},
   "source": [
    "Traditional approach (less secure, requires temp view and wrapping the date in quotes):"
   ]
  },
  {
   "cell_type": "code",
   "execution_count": 57,
   "id": "451c6d69-8f0d-4b5f-a030-873ed6c5295e",
   "metadata": {},
   "outputs": [
    {
     "name": "stdout",
     "output_type": "stream",
     "text": [
      "+-------+-----+----------------+\n",
      "|item_id|price|transaction_date|\n",
      "+-------+-----+----------------+\n",
      "|      3|    5|      2023-03-10|\n",
      "|      4|    1|      2023-04-22|\n",
      "+-------+-----+----------------+\n",
      "\n"
     ]
    }
   ],
   "source": [
    "item_price.createOrReplaceTempView(\"item_price_view\")\n",
    "transaction_date = \"2023-02-15\"\n",
    "\n",
    "query = f\"\"\"SELECT *\n",
    "FROM item_price_view \n",
    "WHERE transaction_date > '{transaction_date}'\n",
    "\"\"\"\n",
    "\n",
    "spark.sql(query).show()"
   ]
  },
  {
   "cell_type": "markdown",
   "id": "d92eecf2-e753-4d4c-8122-713aa160fd98",
   "metadata": {},
   "source": [
    "PySpark's parameterized query approach (secure, no temp view and quotes needed):"
   ]
  },
  {
   "cell_type": "code",
   "execution_count": 58,
   "id": "90976e5b",
   "metadata": {},
   "outputs": [
    {
     "name": "stdout",
     "output_type": "stream",
     "text": [
      "+-------+-----+----------------+\n",
      "|item_id|price|transaction_date|\n",
      "+-------+-----+----------------+\n",
      "|      3|    5|      2023-03-10|\n",
      "|      4|    1|      2023-04-22|\n",
      "+-------+-----+----------------+\n",
      "\n"
     ]
    }
   ],
   "source": [
    "query = \"\"\"SELECT *\n",
    "FROM {item_price} \n",
    "WHERE transaction_date > {transaction_date}\n",
    "\"\"\"\n",
    "\n",
    "spark.sql(query, item_price=item_price, transaction_date=transaction_date).show()"
   ]
  },
  {
   "cell_type": "markdown",
   "id": "86a79ac8-70d0-458d-a4ac-4d32e897d5d2",
   "metadata": {},
   "source": [
    "This method allows for easy parameter substitution and direct use of DataFrames, making your Spark SQL queries both safer and more convenient to write and maintain."
   ]
  },
  {
   "cell_type": "markdown",
   "id": "ab5a4e7a",
   "metadata": {},
   "source": [
    "### Working with Arrays Made Easier in Spark 3.5"
   ]
  },
  {
   "cell_type": "code",
   "execution_count": 59,
   "id": "1cebbb84",
   "metadata": {
    "tags": [
     "hide-cell"
    ]
   },
   "outputs": [
    {
     "name": "stdout",
     "output_type": "stream",
     "text": [
      "Requirement already satisfied: pyspark[sql] in /Users/khuyentran/book/venv/lib/python3.11/site-packages (3.5.3)\n",
      "Requirement already satisfied: py4j==0.10.9.7 in /Users/khuyentran/book/venv/lib/python3.11/site-packages (from pyspark[sql]) (0.10.9.7)\n",
      "Requirement already satisfied: pandas>=1.0.5 in /Users/khuyentran/book/venv/lib/python3.11/site-packages (from pyspark[sql]) (1.5.3)\n",
      "Requirement already satisfied: pyarrow>=4.0.0 in /Users/khuyentran/book/venv/lib/python3.11/site-packages (from pyspark[sql]) (18.0.0)\n",
      "Requirement already satisfied: numpy<2,>=1.15 in /Users/khuyentran/book/venv/lib/python3.11/site-packages (from pyspark[sql]) (1.24.4)\n",
      "Requirement already satisfied: python-dateutil>=2.8.1 in /Users/khuyentran/book/venv/lib/python3.11/site-packages (from pandas>=1.0.5->pyspark[sql]) (2.8.2)\n",
      "Requirement already satisfied: pytz>=2020.1 in /Users/khuyentran/book/venv/lib/python3.11/site-packages (from pandas>=1.0.5->pyspark[sql]) (2023.3.post1)\n",
      "Requirement already satisfied: six>=1.5 in /Users/khuyentran/book/venv/lib/python3.11/site-packages (from python-dateutil>=2.8.1->pandas>=1.0.5->pyspark[sql]) (1.16.0)\n"
     ]
    }
   ],
   "source": [
    "!pip install \"pyspark[sql]\""
   ]
  },
  {
   "cell_type": "markdown",
   "id": "31c70dd9",
   "metadata": {},
   "source": [
    "Spark 3.5 added new array helper functions that simplify the process of working with array data. Below are a few examples showcasing these new array functions."
   ]
  },
  {
   "cell_type": "code",
   "execution_count": 60,
   "id": "803bd642",
   "metadata": {
    "tags": [
     "hide-cell"
    ]
   },
   "outputs": [],
   "source": [
    "from pyspark.sql import SparkSession\n",
    "\n",
    "spark = SparkSession.builder.getOrCreate()"
   ]
  },
  {
   "cell_type": "code",
   "execution_count": 61,
   "id": "103201f9",
   "metadata": {
    "tags": [
     "hide-input"
    ]
   },
   "outputs": [
    {
     "name": "stdout",
     "output_type": "stream",
     "text": [
      "+--------+--------+\n",
      "|customer|  orders|\n",
      "+--------+--------+\n",
      "|    Alex|[🍋, 🍋]|\n",
      "|     Bob|    [🍊]|\n",
      "+--------+--------+\n",
      "\n"
     ]
    }
   ],
   "source": [
    "from pyspark.sql import Row\n",
    "\n",
    "df = spark.createDataFrame(\n",
    "    [\n",
    "        Row(customer=\"Alex\", orders=[\"🍋\", \"🍋\"]),\n",
    "        Row(customer=\"Bob\", orders=[\"🍊\"]),\n",
    "    ]\n",
    ")\n",
    "\n",
    "df.show()"
   ]
  },
  {
   "cell_type": "code",
   "execution_count": 62,
   "id": "c32d3913",
   "metadata": {},
   "outputs": [
    {
     "name": "stdout",
     "output_type": "stream",
     "text": [
      "+--------+------------+\n",
      "|customer|      orders|\n",
      "+--------+------------+\n",
      "|    Alex|[🍋, 🍋, 🍇]|\n",
      "|     Bob|    [🍊, 🍇]|\n",
      "+--------+------------+\n",
      "\n"
     ]
    }
   ],
   "source": [
    "from pyspark.sql.functions import (\n",
    "    col,\n",
    "    array_append,\n",
    "    array_prepend,\n",
    "    array_contains,\n",
    "    array_distinct,\n",
    ")\n",
    "\n",
    "df.withColumn(\"orders\", array_append(col(\"orders\"), \"🍇\")).show()"
   ]
  },
  {
   "cell_type": "code",
   "execution_count": 63,
   "id": "7cbac4dd",
   "metadata": {},
   "outputs": [
    {
     "name": "stderr",
     "output_type": "stream",
     "text": [
      "                                                                                \r"
     ]
    },
    {
     "name": "stdout",
     "output_type": "stream",
     "text": [
      "+--------+------------+\n",
      "|customer|      orders|\n",
      "+--------+------------+\n",
      "|    Alex|[🍇, 🍋, 🍋]|\n",
      "|     Bob|    [🍇, 🍊]|\n",
      "+--------+------------+\n",
      "\n"
     ]
    }
   ],
   "source": [
    "df.withColumn(\"orders\", array_prepend(col(\"orders\"), \"🍇\")).show()"
   ]
  },
  {
   "cell_type": "code",
   "execution_count": 64,
   "id": "ac9780aa",
   "metadata": {},
   "outputs": [
    {
     "name": "stdout",
     "output_type": "stream",
     "text": [
      "+--------+------+\n",
      "|customer|orders|\n",
      "+--------+------+\n",
      "|    Alex|  [🍋]|\n",
      "|     Bob|  [🍊]|\n",
      "+--------+------+\n",
      "\n"
     ]
    }
   ],
   "source": [
    "df.withColumn(\"orders\", array_distinct(col(\"orders\"))).show()"
   ]
  },
  {
   "cell_type": "code",
   "execution_count": null,
   "id": "74db4e63",
   "metadata": {},
   "outputs": [],
   "source": [
    "df.withColumn(\"has_🍋\", array_contains(col(\"orders\"), \"🍋\")).show()"
   ]
  },
  {
   "cell_type": "markdown",
   "id": "397c95a1",
   "metadata": {},
   "source": [
    "[View other array functions](https://bit.ly/4c0txD1)."
   ]
  },
  {
   "cell_type": "markdown",
   "id": "278c6d76",
   "metadata": {},
   "source": [
    "### Simplify Complex SQL Queries with PySpark UDFs"
   ]
  },
  {
   "cell_type": "code",
   "execution_count": null,
   "id": "f75b6174",
   "metadata": {
    "tags": [
     "hide-cell"
    ]
   },
   "outputs": [],
   "source": [
    "!pip install \"pyspark[sql]\""
   ]
  },
  {
   "cell_type": "code",
   "execution_count": 66,
   "id": "0f909f3d",
   "metadata": {
    "tags": [
     "hide-cell"
    ]
   },
   "outputs": [],
   "source": [
    "from pyspark.sql import SparkSession\n",
    "\n",
    "spark = SparkSession.builder.getOrCreate()"
   ]
  },
  {
   "cell_type": "markdown",
   "id": "08b4e6b5",
   "metadata": {},
   "source": [
    "SQL queries can often become complex and challenging to comprehend."
   ]
  },
  {
   "cell_type": "code",
   "execution_count": 67,
   "id": "4b733f5f",
   "metadata": {},
   "outputs": [
    {
     "name": "stdout",
     "output_type": "stream",
     "text": [
      "+---+-------------+\n",
      "| id|modified_name|\n",
      "+---+-------------+\n",
      "|  1|     John doe|\n",
      "|  2|   Jane smith|\n",
      "|  3|  Bob johnson|\n",
      "+---+-------------+\n",
      "\n"
     ]
    }
   ],
   "source": [
    "df = spark.createDataFrame(\n",
    "    [(1, \"John Doe\"), (2, \"Jane Smith\"), (3, \"Bob Johnson\")], [\"id\", \"name\"]\n",
    ")\n",
    "\n",
    "# Register the DataFrame as a temporary table or view\n",
    "df.createOrReplaceTempView(\"df\")\n",
    "\n",
    "# Complex SQL query\n",
    "spark.sql(\n",
    "    \"\"\"\n",
    "    SELECT id, CONCAT(UPPER(SUBSTRING(name, 1, 1)), LOWER(SUBSTRING(name, 2))) AS modified_name\n",
    "    FROM df\n",
    "\"\"\"\n",
    ").show()"
   ]
  },
  {
   "cell_type": "markdown",
   "id": "8056521a",
   "metadata": {},
   "source": [
    "Using PySpark UDFs simplifies complex SQL queries by encapsulating complex operations into a single function call, resulting in cleaner queries. UDFs also allow for the reuse of complex logic across different queries. \n",
    "\n",
    "In the code example below, we define a UDF called `modify_name` that converts the name to uppercase."
   ]
  },
  {
   "cell_type": "code",
   "execution_count": 13,
   "id": "59804345",
   "metadata": {},
   "outputs": [
    {
     "name": "stderr",
     "output_type": "stream",
     "text": [
      "24/03/30 14:36:24 WARN SimpleFunctionRegistry: The function modify_name replaced a previously registered function.\n",
      "                                                                                \r"
     ]
    },
    {
     "name": "stdout",
     "output_type": "stream",
     "text": [
      "+---+-------------+\n",
      "| id|modified_name|\n",
      "+---+-------------+\n",
      "|  1|     John doe|\n",
      "|  2|   Jane smith|\n",
      "|  3|  Bob johnson|\n",
      "+---+-------------+\n",
      "\n"
     ]
    }
   ],
   "source": [
    "from pyspark.sql.functions import udf\n",
    "from pyspark.sql.types import StringType\n",
    "\n",
    "\n",
    "# Define a UDF to modify the name\n",
    "@udf(returnType=StringType())\n",
    "def modify_name(name):\n",
    "    return name[0].upper() + name[1:].lower()\n",
    "\n",
    "\n",
    "spark.udf.register(\"modify_name\", modify_name)\n",
    "\n",
    "# Apply the UDF in the spark.sql query\n",
    "df.createOrReplaceTempView(\"df\")\n",
    "\n",
    "spark.sql(\n",
    "    \"\"\"\n",
    "    SELECT id, modify_name(name) AS modified_name\n",
    "    FROM df\n",
    "\"\"\"\n",
    ").show()"
   ]
  },
  {
   "cell_type": "markdown",
   "id": "963cf67f",
   "metadata": {},
   "source": [
    "[Learn more about PySPark UDFs](https://bit.ly/3TEYPHh)."
   ]
  },
  {
   "cell_type": "markdown",
   "id": "e85b6d13",
   "metadata": {},
   "source": [
    "### Leverage Spark UDFs for Reusable Complex Logic in SQL Queries"
   ]
  },
  {
   "cell_type": "code",
   "execution_count": null,
   "id": "2ef1fce5",
   "metadata": {
    "tags": [
     "hide-cell"
    ]
   },
   "outputs": [],
   "source": [
    "!pip install \"pyspark[sql]\""
   ]
  },
  {
   "cell_type": "code",
   "execution_count": 6,
   "id": "0230a6da",
   "metadata": {
    "tags": [
     "hide-cell"
    ]
   },
   "outputs": [],
   "source": [
    "from pyspark.sql import SparkSession\n",
    "from pyspark.sql.functions import udf, col\n",
    "from pyspark.sql.types import StringType\n",
    "\n",
    "# Create SparkSession\n",
    "spark = SparkSession.builder.getOrCreate()"
   ]
  },
  {
   "cell_type": "markdown",
   "id": "c71ec91f",
   "metadata": {},
   "source": [
    "Duplicated code in SQL queries can lead to inconsistencies if changes are made to one instance of the duplicated code but not to others."
   ]
  },
  {
   "cell_type": "code",
   "execution_count": 7,
   "id": "0f892003",
   "metadata": {},
   "outputs": [
    {
     "name": "stdout",
     "output_type": "stream",
     "text": [
      "+---------+-----+--------+--------+\n",
      "|     name|price|quantity|category|\n",
      "+---------+-----+--------+--------+\n",
      "|Product 1| 10.0|       5|  Medium|\n",
      "|Product 2| 15.0|       3|    High|\n",
      "|Product 3|  8.0|       2|     Low|\n",
      "+---------+-----+--------+--------+\n",
      "\n",
      "+---------+--------+\n",
      "|     name|category|\n",
      "+---------+--------+\n",
      "|Product 1|  Medium|\n",
      "+---------+--------+\n",
      "\n"
     ]
    }
   ],
   "source": [
    "# Sample DataFrame\n",
    "df = spark.createDataFrame(\n",
    "    [(\"Product 1\", 10.0, 5), (\"Product 2\", 15.0, 3), (\"Product 3\", 8.0, 2)],\n",
    "    [\"name\", \"price\", \"quantity\"],\n",
    ")\n",
    "\n",
    "# Use df within Spark SQL queries\n",
    "df.createOrReplaceTempView(\"products\")\n",
    "\n",
    "# Select Statement 1\n",
    "result1 = spark.sql(\n",
    "    \"\"\"\n",
    "    SELECT name, price, quantity,\n",
    "        CASE\n",
    "            WHEN price < 10.0 THEN 'Low'\n",
    "            WHEN price >= 10.0 AND price < 15.0 THEN 'Medium'\n",
    "            ELSE 'High'\n",
    "        END AS category\n",
    "    FROM products\n",
    "\"\"\"\n",
    ")\n",
    "\n",
    "# Select Statement 2\n",
    "result2 = spark.sql(\n",
    "    \"\"\"\n",
    "    SELECT name,\n",
    "        CASE\n",
    "            WHEN price < 10.0 THEN 'Low'\n",
    "            WHEN price >= 10.0 AND price < 15.0 THEN 'Medium'\n",
    "            ELSE 'High'\n",
    "        END AS category\n",
    "    FROM products\n",
    "    WHERE quantity > 3\n",
    "\"\"\"\n",
    ")\n",
    "\n",
    "# Display the results\n",
    "result1.show()\n",
    "result2.show()"
   ]
  },
  {
   "cell_type": "markdown",
   "id": "f3ba0e79",
   "metadata": {},
   "source": [
    "Spark UDFs (User-Defined Functions) can help address these issues by encapsulating complex logic that is reused across multiple SQL queries. \n",
    "\n",
    "In the code example above, we define a UDF `assign_category_label` that assigns category labels based on price. This UDF is then reused in two different SQL statements."
   ]
  },
  {
   "cell_type": "code",
   "execution_count": 10,
   "id": "37f4d9c4",
   "metadata": {},
   "outputs": [
    {
     "name": "stderr",
     "output_type": "stream",
     "text": [
      "24/04/15 09:28:11 WARN SimpleFunctionRegistry: The function assign_category_label replaced a previously registered function.\n"
     ]
    },
    {
     "name": "stdout",
     "output_type": "stream",
     "text": [
      "+---------+-----+--------+--------+\n",
      "|     name|price|quantity|category|\n",
      "+---------+-----+--------+--------+\n",
      "|Product 1| 10.0|       5|  Medium|\n",
      "|Product 2| 15.0|       3|    High|\n",
      "|Product 3|  8.0|       2|     Low|\n",
      "+---------+-----+--------+--------+\n",
      "\n",
      "+---------+--------+\n",
      "|     name|category|\n",
      "+---------+--------+\n",
      "|Product 1|  Medium|\n",
      "+---------+--------+\n",
      "\n"
     ]
    }
   ],
   "source": [
    "# Define UDF to assign category label based on price\n",
    "@udf(returnType=StringType())\n",
    "def assign_category_label(price):\n",
    "    if price < 10.0:\n",
    "        return \"Low\"\n",
    "    elif price >= 10.0 and price < 15.0:\n",
    "        return \"Medium\"\n",
    "    else:\n",
    "        return \"High\"\n",
    "\n",
    "\n",
    "# Register UDF\n",
    "spark.udf.register(\"assign_category_label\", assign_category_label)\n",
    "\n",
    "# Select Statement 1\n",
    "result1 = spark.sql(\n",
    "    \"\"\"\n",
    "    SELECT name, price, quantity, assign_category_label(price) AS category\n",
    "    FROM products\n",
    "\"\"\"\n",
    ")\n",
    "\n",
    "# Select Statement 2\n",
    "result2 = spark.sql(\n",
    "    \"\"\"\n",
    "    SELECT name, assign_category_label(price) AS category\n",
    "    FROM products\n",
    "    WHERE quantity > 3\n",
    "\"\"\"\n",
    ")\n",
    "\n",
    "# Display the results\n",
    "result1.show()\n",
    "result2.show()"
   ]
  },
  {
   "cell_type": "markdown",
   "id": "5f657263-1e2a-415d-8d65-234ce86c01a2",
   "metadata": {},
   "source": [
    "### Transform Single Inputs into Tables Using PySpark UDTFs"
   ]
  },
  {
   "cell_type": "code",
   "execution_count": null,
   "id": "4954b988-20b4-40ee-a67e-a23f5603072b",
   "metadata": {
    "editable": true,
    "slideshow": {
     "slide_type": ""
    },
    "tags": [
     "hide-cell"
    ]
   },
   "outputs": [],
   "source": [
    "!pip install \"pyspark[sql]\""
   ]
  },
  {
   "cell_type": "code",
   "execution_count": 3,
   "id": "1fe02e47-bc76-4d42-934a-4bca1830af3e",
   "metadata": {
    "editable": true,
    "slideshow": {
     "slide_type": ""
    },
    "tags": [
     "hide-cell"
    ]
   },
   "outputs": [
    {
     "name": "stderr",
     "output_type": "stream",
     "text": [
      "Setting default log level to \"WARN\".\n",
      "To adjust logging level use sc.setLogLevel(newLevel). For SparkR, use setLogLevel(newLevel).\n",
      "24/11/24 20:07:53 WARN NativeCodeLoader: Unable to load native-hadoop library for your platform... using builtin-java classes where applicable\n"
     ]
    }
   ],
   "source": [
    "from pyspark.sql import SparkSession\n",
    "\n",
    "# Create SparkSession\n",
    "spark = SparkSession.builder.getOrCreate()"
   ]
  },
  {
   "cell_type": "markdown",
   "id": "080c11e0-95c1-4542-a1f5-a916ec7ad9c2",
   "metadata": {},
   "source": [
    "In PySpark, User-Defined Functions (UDFs) and User-Defined Table Functions (UDTFs) are custom functions that perform complex data transformations.\n",
    "\n",
    "UDFs take input columns and return a single value. However, they are cumbersome when returning multiple rows and columns, resulting in complex and inefficient code."
   ]
  },
  {
   "cell_type": "code",
   "execution_count": 8,
   "id": "d3f5331c-655e-440f-956c-56298dc0695f",
   "metadata": {},
   "outputs": [
    {
     "name": "stdout",
     "output_type": "stream",
     "text": [
      "+---+-------+\n",
      "|num|squared|\n",
      "+---+-------+\n",
      "|  1|      1|\n",
      "|  2|      4|\n",
      "|  3|      9|\n",
      "+---+-------+\n",
      "\n"
     ]
    }
   ],
   "source": [
    "from pyspark.sql.functions import udf, explode\n",
    "from pyspark.sql.types import ArrayType, StructType, StructField, IntegerType\n",
    "\n",
    "# Define the schema of the output\n",
    "schema = ArrayType(\n",
    "    StructType(\n",
    "        [\n",
    "            StructField(\"num\", IntegerType(), False),\n",
    "            StructField(\"squared\", IntegerType(), False),\n",
    "        ]\n",
    "    )\n",
    ")\n",
    "\n",
    "\n",
    "# Define the UDF\n",
    "@udf(returnType=schema)\n",
    "def square_numbers_udf(start: int, end: int):\n",
    "    return [(num, num * num) for num in range(start, end + 1)]\n",
    "\n",
    "\n",
    "# Use in Python\n",
    "df = spark.createDataFrame([(1, 3)], [\"start\", \"end\"])\n",
    "result_df = df.select(explode(square_numbers_udf(df.start, df.end)).alias(\"result\"))\n",
    "result_df.select(\"result.num\", \"result.squared\").show()"
   ]
  },
  {
   "cell_type": "markdown",
   "id": "b9be88d9-768e-480e-85e1-7a82c311e952",
   "metadata": {},
   "source": [
    "With UDTFs, you can create functions that return entire tables from a single input, making it easier to work with multiple rows and columns."
   ]
  },
  {
   "cell_type": "code",
   "execution_count": 11,
   "id": "7994bcfd-bc46-402c-84f3-1510e1dcaf9a",
   "metadata": {
    "editable": true,
    "slideshow": {
     "slide_type": ""
    },
    "tags": []
   },
   "outputs": [
    {
     "name": "stdout",
     "output_type": "stream",
     "text": [
      "+---+-------+\n",
      "|num|squared|\n",
      "+---+-------+\n",
      "|  1|      1|\n",
      "|  2|      4|\n",
      "|  3|      9|\n",
      "+---+-------+\n",
      "\n"
     ]
    }
   ],
   "source": [
    "from pyspark.sql.functions import udtf, lit\n",
    "from pyspark.sql.types import StringType\n",
    "\n",
    "\n",
    "@udtf(returnType=\"num: int, squared: int\")\n",
    "class SquareNumbers:\n",
    "    def eval(self, start: int, end: int):\n",
    "        for num in range(start, end + 1):\n",
    "            yield (num, num * num)\n",
    "\n",
    "\n",
    "SquareNumbers(lit(1), lit(3)).show()"
   ]
  },
  {
   "cell_type": "markdown",
   "id": "216e9fc0-12a9-4f45-85b1-8e791755b1d3",
   "metadata": {},
   "source": [
    "### Best Practices for PySpark DataFrame Comparison Testing"
   ]
  },
  {
   "cell_type": "code",
   "execution_count": null,
   "id": "9badb0ee-16ec-4291-9477-8a38ebd7e876",
   "metadata": {
    "editable": true,
    "slideshow": {
     "slide_type": ""
    },
    "tags": [
     "hide-cell"
    ]
   },
   "outputs": [],
   "source": [
    "!pip install \"pyspark[sql]\""
   ]
  },
  {
   "cell_type": "code",
   "execution_count": 19,
   "id": "d2adcd65-5197-404f-88d6-c368a863cf75",
   "metadata": {
    "editable": true,
    "slideshow": {
     "slide_type": ""
    },
    "tags": [
     "hide-cell"
    ]
   },
   "outputs": [],
   "source": [
    "from pyspark.sql import SparkSession\n",
    "\n",
    "# Create SparkSession\n",
    "spark = SparkSession.builder.getOrCreate()"
   ]
  },
  {
   "cell_type": "markdown",
   "id": "1002536a",
   "metadata": {},
   "source": [
    "Manually comparing PySpark DataFrame outputs using `collect()` and equality comparison leads to brittle tests due to ordering issues and unclear error messages when data doesn't match expectations.\n",
    "\n",
    "For example, the following test will fail due to ordering issues, resulting in an unclear error message.\n"
   ]
  },
  {
   "cell_type": "code",
   "execution_count": 31,
   "id": "e4299f30",
   "metadata": {},
   "outputs": [
    {
     "name": "stderr",
     "output_type": "stream",
     "text": [
      "                                                                                \r"
     ]
    },
    {
     "name": "stdout",
     "output_type": "stream",
     "text": [
      "assert [Row(id=1, name='Alice', value=100), Row(id=2, name='Bob', value=200)] == [Row(id=2, name='Bob', value=200), Row(id=1, name='Alice', value=100)]\n",
      " +  where [Row(id=1, name='Alice', value=100), Row(id=2, name='Bob', value=200)] = <bound method DataFrame.collect of DataFrame[id: bigint, name: string, value: bigint]>()\n",
      " +    where <bound method DataFrame.collect of DataFrame[id: bigint, name: string, value: bigint]> = DataFrame[id: bigint, name: string, value: bigint].collect\n",
      " +  and   [Row(id=2, name='Bob', value=200), Row(id=1, name='Alice', value=100)] = <bound method DataFrame.collect of DataFrame[id: bigint, name: string, value: bigint]>()\n",
      " +    where <bound method DataFrame.collect of DataFrame[id: bigint, name: string, value: bigint]> = DataFrame[id: bigint, name: string, value: bigint].collect\n"
     ]
    }
   ],
   "source": [
    "# Manual DataFrame comparison\n",
    "result_df = spark.createDataFrame(\n",
    "    [(1, \"Alice\", 100), (2, \"Bob\", 200)], [\"id\", \"name\", \"value\"]\n",
    ")\n",
    "\n",
    "expected_df = spark.createDataFrame(\n",
    "    [(2, \"Bob\", 200), (1, \"Alice\", 100)], [\"id\", \"name\", \"value\"]\n",
    ")\n",
    "\n",
    "try:\n",
    "    assert result_df.collect() == expected_df.collect()\n",
    "except AssertionError as e:\n",
    "    print(e)"
   ]
  },
  {
   "cell_type": "markdown",
   "id": "7c4f8fd8-c2c2-4804-8e42-6fd3eb6aec27",
   "metadata": {},
   "source": [
    "`assertDataFrameEqual` provides a robust way to compare DataFrames, allowing for order-independent comparison.\n"
   ]
  },
  {
   "cell_type": "code",
   "execution_count": null,
   "id": "73b0d483-8b00-44ab-9279-4c7765ca1ff6",
   "metadata": {},
   "outputs": [],
   "source": [
    "# Testing with DataFrame equality\n",
    "from pyspark.testing.utils import assertDataFrameEqual"
   ]
  },
  {
   "cell_type": "code",
   "execution_count": 7,
   "id": "7c46ae8a",
   "metadata": {},
   "outputs": [],
   "source": [
    "assertDataFrameEqual(result_df, expected_df)"
   ]
  },
  {
   "cell_type": "markdown",
   "id": "085f150d-20ff-4b0a-a4ab-1ee452598e9e",
   "metadata": {},
   "source": [
    "Using `collect()` for comparison cannot detect type mismatch, whereas `assertDataFrameEqual` can.\n",
    "\n",
    "For example, the following test will pass, even though there is a type mismatch.\n"
   ]
  },
  {
   "cell_type": "code",
   "execution_count": 27,
   "id": "da7494c0-c05f-4a2f-a411-805c8f2f73ba",
   "metadata": {},
   "outputs": [],
   "source": [
    "# Manual DataFrame comparison\n",
    "result_df = spark.createDataFrame(\n",
    "    [(1, \"Alice\", 100), (2, \"Bob\", 200)], [\"id\", \"name\", \"value\"]\n",
    ")\n",
    "\n",
    "expected_df = spark.createDataFrame(\n",
    "    [(1, \"Alice\", 100.0), (2, \"Bob\", 200.0)], [\"id\", \"name\", \"value\"]\n",
    ")\n",
    "\n",
    "assert result_df.collect() == expected_df.collect()"
   ]
  },
  {
   "cell_type": "markdown",
   "id": "82914b3b-69c0-4c68-9d72-d2ce31417397",
   "metadata": {},
   "source": [
    "The error message produced by `assertDataFrameEqual` is clear and informative, highlighting the difference in schemas."
   ]
  },
  {
   "cell_type": "code",
   "execution_count": 30,
   "id": "3faa1dbc-887a-4c36-ace8-c621411c3fb7",
   "metadata": {},
   "outputs": [
    {
     "name": "stdout",
     "output_type": "stream",
     "text": [
      "[DIFFERENT_SCHEMA] Schemas do not match.\n",
      "--- actual\n",
      "+++ expected\n",
      "- StructType([StructField('id', LongType(), True), StructField('name', StringType(), True), StructField('value', LongType(), True)])\n",
      "?                                                                                                                ^ ^^\n",
      "\n",
      "+ StructType([StructField('id', LongType(), True), StructField('name', StringType(), True), StructField('value', DoubleType(), True)])\n",
      "?                                                                                                                ^ ^^^^\n",
      "\n"
     ]
    }
   ],
   "source": [
    "try:\n",
    "    assertDataFrameEqual(result_df, expected_df)\n",
    "except AssertionError as e:\n",
    "    print(e)"
   ]
  },
  {
   "cell_type": "markdown",
   "id": "9da7e800",
   "metadata": {
    "editable": true,
    "slideshow": {
     "slide_type": ""
    },
    "tags": []
   },
   "source": [
    "### Simplify Unit Testing of SQL Queries with PySpark"
   ]
  },
  {
   "cell_type": "code",
   "execution_count": null,
   "id": "1a1f400b",
   "metadata": {
    "tags": [
     "hide-cell"
    ]
   },
   "outputs": [],
   "source": [
    "!pip install ipytest \"pyspark[sql]\"\n"
   ]
  },
  {
   "cell_type": "code",
   "execution_count": 51,
   "id": "e1bcfd44",
   "metadata": {
    "tags": [
     "remove-cell"
    ]
   },
   "outputs": [],
   "source": [
    "import ipytest\n",
    "\n",
    "ipytest.autoconfig()"
   ]
  },
  {
   "cell_type": "markdown",
   "id": "954ea695",
   "metadata": {},
   "source": [
    "Testing your SQL queries helps to ensure that they are correct and functioning as intended.\n",
    "\n",
    "PySpark enables users to parameterize queries, which simplifies unit testing of SQL queries. In this example, the `df` and `amount` variables are parameterized to verify whether the `actual_df` matches the `expected_df`."
   ]
  },
  {
   "cell_type": "code",
   "execution_count": 54,
   "id": "14d313f8",
   "metadata": {},
   "outputs": [
    {
     "name": "stderr",
     "output_type": "stream",
     "text": [
      "                                                                                \r"
     ]
    },
    {
     "name": "stdout",
     "output_type": "stream",
     "text": [
      "\u001b[32m.\u001b[0m\u001b[32m                                                                                            [100%]\u001b[0m\n"
     ]
    }
   ],
   "source": [
    "%%ipytest -qq\n",
    "import pytest\n",
    "from pyspark.testing import assertDataFrameEqual\n",
    "\n",
    "\n",
    "@pytest.fixture\n",
    "def query():\n",
    "    return \"SELECT * from {df} where price > {amount} AND name LIKE '%Product%';\"\n",
    "\n",
    "\n",
    "def test_query_return_correct_number_of_rows(query):\n",
    "\n",
    "    spark = SparkSession.builder.getOrCreate()\n",
    "\n",
    "    # Create a sample DataFrame\n",
    "    df = spark.createDataFrame(\n",
    "        [\n",
    "            (\"Product 1\", 10.0, 5),\n",
    "            (\"Product 2\", 15.0, 3),\n",
    "            (\"Product 3\", 8.0, 2),\n",
    "        ],\n",
    "        [\"name\", \"price\", \"quantity\"],\n",
    "    )\n",
    "\n",
    "    # Execute the query\n",
    "    actual_df = spark.sql(query, df=df, amount=10)\n",
    "\n",
    "    # Assert the result\n",
    "    expected_df = spark.createDataFrame(\n",
    "        [\n",
    "            (\"Product 2\", 15.0, 3),\n",
    "        ],\n",
    "        [\"name\", \"price\", \"quantity\"],\n",
    "    )\n",
    "    assertDataFrameEqual(actual_df, expected_df)"
   ]
  },
  {
   "cell_type": "markdown",
   "id": "f102a2ba",
   "metadata": {},
   "source": [
    "### Update Multiple Columns in Spark 3.3 and Later"
   ]
  },
  {
   "cell_type": "code",
   "execution_count": null,
   "id": "70283a1f",
   "metadata": {
    "tags": [
     "hide-cell"
    ]
   },
   "outputs": [],
   "source": [
    "!pip install -U \"pyspark[sql]\""
   ]
  },
  {
   "cell_type": "code",
   "execution_count": null,
   "id": "fa6b1afd",
   "metadata": {
    "tags": [
     "hide-cell"
    ]
   },
   "outputs": [],
   "source": [
    "from pyspark.sql import SparkSession\n",
    "\n",
    "# Create SparkSession\n",
    "spark = SparkSession.builder.getOrCreate()"
   ]
  },
  {
   "cell_type": "code",
   "execution_count": 4,
   "id": "327cc772",
   "metadata": {},
   "outputs": [
    {
     "name": "stdout",
     "output_type": "stream",
     "text": [
      "+----------+---+\n",
      "|first_name|age|\n",
      "+----------+---+\n",
      "|   John   | 35|\n",
      "|      Jane| 28|\n",
      "+----------+---+\n",
      "\n"
     ]
    }
   ],
   "source": [
    "from pyspark.sql.functions import col, trim\n",
    "\n",
    "# Create a sample DataFrame\n",
    "data = [(\"   John   \", 35), (\"Jane\", 28)]\n",
    "columns = [\"first_name\", \"age\"]\n",
    "df = spark.createDataFrame(data, columns)\n",
    "df.show()"
   ]
  },
  {
   "cell_type": "markdown",
   "id": "95b37c9a",
   "metadata": {},
   "source": [
    "Prior to PySpark 3.3, appending multiple columns to a Spark DataFrame required chaining multiple `withColumn` calls."
   ]
  },
  {
   "cell_type": "code",
   "execution_count": 12,
   "id": "9e38d06c",
   "metadata": {},
   "outputs": [
    {
     "name": "stdout",
     "output_type": "stream",
     "text": [
      "+----------+---+------------------+\n",
      "|first_name|age|age_after_10_years|\n",
      "+----------+---+------------------+\n",
      "|      John| 35|                45|\n",
      "|      Jane| 28|                38|\n",
      "+----------+---+------------------+\n",
      "\n"
     ]
    }
   ],
   "source": [
    "# Before Spark 3.3\n",
    "new_df = df.withColumn(\"first_name\", trim(col(\"first_name\"))).withColumn(\n",
    "    \"age_after_10_years\", col(\"age\") + 10\n",
    ")\n",
    "\n",
    "new_df.show()"
   ]
  },
  {
   "cell_type": "markdown",
   "id": "dc42fddd",
   "metadata": {},
   "source": [
    "In PySpark 3.3 and later, you can use the withColumns method in a dictionary style to append multiple columns to a DataFrame. This syntax is more user-friendly for pandas users."
   ]
  },
  {
   "cell_type": "code",
   "execution_count": 3,
   "id": "ae122634",
   "metadata": {},
   "outputs": [
    {
     "name": "stderr",
     "output_type": "stream",
     "text": [
      "                                                                                \r"
     ]
    },
    {
     "name": "stdout",
     "output_type": "stream",
     "text": [
      "+----------+---+------------------+\n",
      "|first_name|age|age_after_10_years|\n",
      "+----------+---+------------------+\n",
      "|      John| 35|                45|\n",
      "|      Jane| 28|                38|\n",
      "+----------+---+------------------+\n",
      "\n"
     ]
    }
   ],
   "source": [
    "new_df = df.withColumns(\n",
    "    {\n",
    "        \"first_name\": trim(col(\"first_name\")),\n",
    "        \"age_after_10_years\": col(\"age\") + 10,\n",
    "    }\n",
    ")\n",
    "\n",
    "new_df.show()"
   ]
  },
  {
   "cell_type": "markdown",
   "id": "afb930f8",
   "metadata": {},
   "source": [
    "### Vectorized Operations in PySpark: pandas_udf vs Standard UDF"
   ]
  },
  {
   "cell_type": "code",
   "execution_count": null,
   "id": "619e824b",
   "metadata": {
    "tags": [
     "hide-cell"
    ]
   },
   "outputs": [],
   "source": [
    "!pip install -U pyspark"
   ]
  },
  {
   "cell_type": "code",
   "execution_count": 1,
   "id": "40c80193",
   "metadata": {},
   "outputs": [
    {
     "name": "stderr",
     "output_type": "stream",
     "text": [
      "Setting default log level to \"WARN\".\n",
      "To adjust logging level use sc.setLogLevel(newLevel). For SparkR, use setLogLevel(newLevel).\n",
      "24/06/23 10:51:54 WARN NativeCodeLoader: Unable to load native-hadoop library for your platform... using builtin-java classes where applicable\n"
     ]
    }
   ],
   "source": [
    "from pyspark.sql import SparkSession\n",
    "\n",
    "# Create SparkSession\n",
    "spark = SparkSession.builder.getOrCreate()"
   ]
  },
  {
   "cell_type": "markdown",
   "id": "94329cf7",
   "metadata": {},
   "source": [
    "Standard UDF functions process data row-by-row, resulting in Python function call overhead. \n",
    "\n",
    "In contrast, pandas_udf uses Pandas' vectorized operations to process entire columns in a single operation, significantly improving performance."
   ]
  },
  {
   "cell_type": "code",
   "execution_count": 2,
   "id": "a4633f44",
   "metadata": {},
   "outputs": [
    {
     "name": "stderr",
     "output_type": "stream",
     "text": [
      "                                                                                \r"
     ]
    },
    {
     "name": "stdout",
     "output_type": "stream",
     "text": [
      "+----+\n",
      "|val1|\n",
      "+----+\n",
      "| 1.0|\n",
      "| 2.0|\n",
      "| 3.0|\n",
      "| 4.0|\n",
      "+----+\n",
      "\n"
     ]
    }
   ],
   "source": [
    "# Sample DataFrame\n",
    "data = [(1.0,), (2.0,), (3.0,), (4.0,)]\n",
    "df = spark.createDataFrame(data, [\"val1\"])\n",
    "\n",
    "df.show()"
   ]
  },
  {
   "cell_type": "code",
   "execution_count": 3,
   "id": "fcf0cdf9",
   "metadata": {},
   "outputs": [
    {
     "name": "stderr",
     "output_type": "stream",
     "text": [
      "                                                                                \r"
     ]
    },
    {
     "name": "stdout",
     "output_type": "stream",
     "text": [
      "+----+----+\n",
      "|val1|val2|\n",
      "+----+----+\n",
      "| 1.0| 2.0|\n",
      "| 2.0| 3.0|\n",
      "| 3.0| 4.0|\n",
      "| 4.0| 5.0|\n",
      "+----+----+\n",
      "\n"
     ]
    }
   ],
   "source": [
    "from pyspark.sql.functions import udf\n",
    "\n",
    "\n",
    "# Standard UDF\n",
    "@udf(\"double\")\n",
    "def plus_one(val):\n",
    "    return val + 1\n",
    "\n",
    "\n",
    "# Apply the Standard UDF\n",
    "df.withColumn(\"val2\", plus_one(df.val1)).show()"
   ]
  },
  {
   "cell_type": "code",
   "execution_count": 4,
   "id": "e1ec8b2b",
   "metadata": {},
   "outputs": [
    {
     "name": "stderr",
     "output_type": "stream",
     "text": [
      "                                                                                \r"
     ]
    },
    {
     "name": "stdout",
     "output_type": "stream",
     "text": [
      "+----+----+\n",
      "|val1|val2|\n",
      "+----+----+\n",
      "| 1.0| 2.0|\n",
      "| 2.0| 3.0|\n",
      "| 3.0| 4.0|\n",
      "| 4.0| 5.0|\n",
      "+----+----+\n",
      "\n"
     ]
    }
   ],
   "source": [
    "from pyspark.sql.functions import pandas_udf\n",
    "import pandas as pd\n",
    "\n",
    "\n",
    "# Pandas UDF\n",
    "@pandas_udf(\"double\")\n",
    "def pandas_plus_one(val: pd.Series) -> pd.Series:\n",
    "    return val + 1\n",
    "\n",
    "\n",
    "# Apply the Pandas UDF\n",
    "df.withColumn(\"val2\", pandas_plus_one(df.val1)).show()"
   ]
  },
  {
   "cell_type": "markdown",
   "id": "1ab94b5b",
   "metadata": {},
   "source": [
    "[Learn more about pandas_udf](https://bit.ly/4aRBNTX)."
   ]
  },
  {
   "cell_type": "markdown",
   "id": "8acbf836",
   "metadata": {},
   "source": [
    "### Optimizing PySpark Queries: DataFrame API or SQL?"
   ]
  },
  {
   "cell_type": "code",
   "execution_count": null,
   "id": "514d9516",
   "metadata": {
    "tags": [
     "hide-cell"
    ]
   },
   "outputs": [],
   "source": [
    "!pip install \"pyspark[sql]\""
   ]
  },
  {
   "cell_type": "code",
   "execution_count": 12,
   "id": "910e70e1",
   "metadata": {
    "tags": [
     "hide-cell"
    ]
   },
   "outputs": [],
   "source": [
    "from pyspark.sql import SparkSession\n",
    "\n",
    "spark = SparkSession.builder.getOrCreate()"
   ]
  },
  {
   "cell_type": "markdown",
   "id": "b4046833",
   "metadata": {},
   "source": [
    "PySpark queries with different syntax (DataFrame API or parameterized SQL) can have the same performance, as the physical plan is identical. Here is an example:\n"
   ]
  },
  {
   "cell_type": "code",
   "execution_count": 13,
   "id": "5c4c030c",
   "metadata": {},
   "outputs": [
    {
     "name": "stdout",
     "output_type": "stream",
     "text": [
      "+------+-----+\n",
      "|  item|price|\n",
      "+------+-----+\n",
      "| apple|    4|\n",
      "|orange|    3|\n",
      "|banana|    2|\n",
      "+------+-----+\n",
      "\n"
     ]
    }
   ],
   "source": [
    "from pyspark.sql.functions import col\n",
    "\n",
    "fruits = spark.createDataFrame(\n",
    "    [(\"apple\", 4), (\"orange\", 3), (\"banana\", 2)], [\"item\", \"price\"]\n",
    ")\n",
    "fruits.show()"
   ]
  },
  {
   "cell_type": "markdown",
   "id": "2f82fd1e",
   "metadata": {},
   "source": [
    "Use the DataFrame API to filter rows where the price is greater than 3."
   ]
  },
  {
   "cell_type": "code",
   "execution_count": 14,
   "id": "b693607b",
   "metadata": {},
   "outputs": [
    {
     "name": "stdout",
     "output_type": "stream",
     "text": [
      "== Physical Plan ==\n",
      "*(1) Filter (isnotnull(price#80L) AND (price#80L > 3))\n",
      "+- *(1) Scan ExistingRDD[item#79,price#80L]\n",
      "\n",
      "\n"
     ]
    }
   ],
   "source": [
    "fruits.where(col(\"price\") > 3).explain()"
   ]
  },
  {
   "cell_type": "markdown",
   "id": "af8d5dc7",
   "metadata": {},
   "source": [
    "Use the spark.sql() method to execute an equivalent SQL query."
   ]
  },
  {
   "cell_type": "code",
   "execution_count": 15,
   "id": "0b5500a3",
   "metadata": {},
   "outputs": [
    {
     "name": "stdout",
     "output_type": "stream",
     "text": [
      "== Physical Plan ==\n",
      "*(1) Filter (isnotnull(price#80L) AND (price#80L > 3))\n",
      "+- *(1) Scan ExistingRDD[item#79,price#80L]\n",
      "\n",
      "\n"
     ]
    }
   ],
   "source": [
    "spark.sql(\"select * from {df} where price > 3\", df=fruits).explain()"
   ]
  },
  {
   "cell_type": "markdown",
   "id": "af0b2068",
   "metadata": {},
   "source": [
    "The physical plan for both queries is the same, indicating identical performance."
   ]
  },
  {
   "cell_type": "markdown",
   "id": "2b065a14",
   "metadata": {},
   "source": [
    "Thus, the choice between DataFrame API and spark.sql() depends on the following:\n",
    "- **Familiarity**: Use spark.sql() if your team prefers SQL syntax. Use the DataFrame API if chained method calls are more intuitive for your team.\n",
    "- **Complexity of Transformations**: The DataFrame API is more flexible for complex manipulations, while SQL is more concise for simpler queries."
   ]
  },
  {
   "cell_type": "markdown",
   "id": "f7bb85d6",
   "metadata": {},
   "source": [
    "### Enhance Code Modularity and Reusability with Temporary Views in PySpark"
   ]
  },
  {
   "cell_type": "code",
   "execution_count": null,
   "id": "511c6792",
   "metadata": {
    "tags": [
     "hide-cell"
    ]
   },
   "outputs": [],
   "source": [
    "!pip install -U 'pyspark[sql]'\n"
   ]
  },
  {
   "cell_type": "code",
   "execution_count": 1,
   "id": "9ab976de",
   "metadata": {
    "tags": [
     "hide-cell"
    ]
   },
   "outputs": [
    {
     "name": "stderr",
     "output_type": "stream",
     "text": [
      "Setting default log level to \"WARN\".\n",
      "To adjust logging level use sc.setLogLevel(newLevel). For SparkR, use setLogLevel(newLevel).\n",
      "24/07/14 09:13:37 WARN NativeCodeLoader: Unable to load native-hadoop library for your platform... using builtin-java classes where applicable\n"
     ]
    }
   ],
   "source": [
    "from pyspark.sql import SparkSession\n",
    "\n",
    "# Create SparkSession\n",
    "spark = SparkSession.builder.getOrCreate()"
   ]
  },
  {
   "cell_type": "markdown",
   "id": "2ac1a0a7",
   "metadata": {},
   "source": [
    "In PySpark, temporary views are virtual tables that can be queried using SQL, enabling code reusability and modularity.\n",
    "\n",
    "To demonstrate this, let's create a PySpark DataFrame called `orders_df`."
   ]
  },
  {
   "cell_type": "code",
   "execution_count": 2,
   "id": "e4cf261e",
   "metadata": {},
   "outputs": [],
   "source": [
    "# Create a sample DataFrame\n",
    "data = [\n",
    "    (1001, \"John Doe\", 500.0),\n",
    "    (1002, \"Jane Smith\", 750.0),\n",
    "    (1003, \"Bob Johnson\", 300.0),\n",
    "    (1004, \"Sarah Lee\", 400.0),\n",
    "    (1005, \"Tom Wilson\", 600.0),\n",
    "]\n",
    "\n",
    "columns = [\"customer_id\", \"customer_name\", \"revenue\"]\n",
    "orders_df = spark.createDataFrame(data, columns)"
   ]
  },
  {
   "cell_type": "markdown",
   "id": "cf288495",
   "metadata": {},
   "source": [
    "Next, create a temporary view called `orders` from the `orders_df` DataFrame using the `createOrReplaceTempView` method. "
   ]
  },
  {
   "cell_type": "code",
   "execution_count": 3,
   "id": "019a8451",
   "metadata": {},
   "outputs": [],
   "source": [
    "# Create a temporary view\n",
    "orders_df.createOrReplaceTempView(\"orders\")"
   ]
  },
  {
   "cell_type": "markdown",
   "id": "43a2a924",
   "metadata": {},
   "source": [
    "With the temporary view created, we can perform various operations on it using SQL queries. "
   ]
  },
  {
   "cell_type": "code",
   "execution_count": 4,
   "id": "f88486c5",
   "metadata": {},
   "outputs": [
    {
     "name": "stdout",
     "output_type": "stream",
     "text": [
      "Total Revenue:\n"
     ]
    },
    {
     "name": "stderr",
     "output_type": "stream",
     "text": [
      "                                                                                \r"
     ]
    },
    {
     "name": "stdout",
     "output_type": "stream",
     "text": [
      "+-------------+\n",
      "|total_revenue|\n",
      "+-------------+\n",
      "|       2550.0|\n",
      "+-------------+\n",
      "\n",
      "\n",
      "Number of Orders:\n",
      "+-----------+\n",
      "|order_count|\n",
      "+-----------+\n",
      "|          5|\n",
      "+-----------+\n",
      "\n"
     ]
    }
   ],
   "source": [
    "# Perform operations on the temporary view\n",
    "total_revenue = spark.sql(\"SELECT SUM(revenue) AS total_revenue FROM orders\")\n",
    "order_count = spark.sql(\"SELECT COUNT(*) AS order_count FROM orders\")\n",
    "\n",
    "# Display the results\n",
    "print(\"Total Revenue:\")\n",
    "total_revenue.show()\n",
    "\n",
    "print(\"\\nNumber of Orders:\")\n",
    "order_count.show()"
   ]
  },
  {
   "cell_type": "markdown",
   "id": "4faa375d-6618-4184-8fc2-d049a159d0ec",
   "metadata": {
    "editable": true,
    "slideshow": {
     "slide_type": ""
    },
    "tags": []
   },
   "source": [
    "### PySpark Best Practices: Simplifying Logical Chain Conditions"
   ]
  },
  {
   "cell_type": "code",
   "execution_count": null,
   "id": "eff0005e",
   "metadata": {
    "editable": true,
    "slideshow": {
     "slide_type": ""
    },
    "tags": [
     "hide-cell"
    ]
   },
   "outputs": [],
   "source": [
    "!pip install -U 'pyspark[sql]'"
   ]
  },
  {
   "cell_type": "code",
   "execution_count": null,
   "id": "4a796546",
   "metadata": {
    "editable": true,
    "slideshow": {
     "slide_type": ""
    },
    "tags": [
     "hide-cell"
    ]
   },
   "outputs": [],
   "source": [
    "from pyspark.sql import SparkSession\n",
    "\n",
    "spark = SparkSession.builder.getOrCreate()"
   ]
  },
  {
   "cell_type": "markdown",
   "id": "837a6ef2",
   "metadata": {},
   "source": [
    "Long chains of logical conditions in PySpark can make code difficult to understand and modify. "
   ]
  },
  {
   "cell_type": "code",
   "execution_count": 7,
   "id": "3a954773",
   "metadata": {},
   "outputs": [],
   "source": [
    "data = [(1200, 3, 1), (2000, 2, 0), (1500, 3, 2), (1100, 2, 1)]\n",
    "\n",
    "df = spark.createDataFrame(data, [\"total_purchases\", \"loyalty_years\", \"returns\"])"
   ]
  },
  {
   "cell_type": "code",
   "execution_count": 8,
   "id": "b45321d5",
   "metadata": {},
   "outputs": [
    {
     "name": "stdout",
     "output_type": "stream",
     "text": [
      "+---------------+-------------+-------+-----------------+\n",
      "|total_purchases|loyalty_years|returns|discount_eligible|\n",
      "+---------------+-------------+-------+-----------------+\n",
      "|           1200|            3|      1|             true|\n",
      "|           2000|            2|      0|             true|\n",
      "|           1500|            3|      2|             true|\n",
      "|           1100|            2|      1|             true|\n",
      "+---------------+-------------+-------+-----------------+\n",
      "\n"
     ]
    }
   ],
   "source": [
    "from pyspark.sql import functions as F\n",
    "\n",
    "\n",
    "df.withColumn(\n",
    "    \"discount_eligible\",\n",
    "    F.when(\n",
    "        (F.col(\"total_purchases\") > 1000)\n",
    "        & (F.col(\"loyalty_years\") >= 2)\n",
    "        & (F.col(\"returns\") < 3),\n",
    "        True,\n",
    "    ).otherwise(False),\n",
    ").show()"
   ]
  },
  {
   "cell_type": "markdown",
   "id": "b569b945",
   "metadata": {},
   "source": [
    "To improve readability and maintainability, break down complex logic into meaningful variables:"
   ]
  },
  {
   "cell_type": "code",
   "execution_count": 9,
   "id": "db3a7f93",
   "metadata": {},
   "outputs": [
    {
     "name": "stdout",
     "output_type": "stream",
     "text": [
      "+---------------+-------------+-------+-----------------+\n",
      "|total_purchases|loyalty_years|returns|discount_eligible|\n",
      "+---------------+-------------+-------+-----------------+\n",
      "|           1200|            3|      1|             true|\n",
      "|           2000|            2|      0|             true|\n",
      "|           1500|            3|      2|             true|\n",
      "|           1100|            2|      1|             true|\n",
      "+---------------+-------------+-------+-----------------+\n",
      "\n"
     ]
    }
   ],
   "source": [
    "# Define loyal customer conditions\n",
    "has_high_spend = F.col(\"total_purchases\") > 1000\n",
    "is_long_term = F.col(\"loyalty_years\") >= 2\n",
    "has_few_returns = F.col(\"returns\") < 3\n",
    "\n",
    "# Combine conditions for discount eligibility\n",
    "loyal_customer_condition = has_high_spend & is_long_term & has_few_returns\n",
    "\n",
    "(\n",
    "    df.withColumn(\n",
    "        \"discount_eligible\", F.when(loyal_customer_condition, True).otherwise(False)\n",
    "    )\n",
    ").show()"
   ]
  },
  {
   "cell_type": "markdown",
   "id": "ba9b8802",
   "metadata": {},
   "source": [
    "Benefits of this approach:\n",
    "\n",
    "- Business logic is clearly documented through function names.\n",
    "- Easier to add new conditions without cluttering main logic."
   ]
  },
  {
   "cell_type": "markdown",
   "id": "8b56e8c6-4f07-46f5-bc7a-44d903ac1c02",
   "metadata": {},
   "source": [
    "### Optimizing PySpark Queries with Nested Data Structures"
   ]
  },
  {
   "cell_type": "code",
   "execution_count": null,
   "id": "b381eb13",
   "metadata": {
    "tags": [
     "hide-cell"
    ]
   },
   "outputs": [],
   "source": [
    "!pip install -U 'pyspark[sql]'"
   ]
  },
  {
   "cell_type": "markdown",
   "id": "00f62466",
   "metadata": {},
   "source": [
    "Using multiple tables and joins to represent hierarchical relationships results in:\n",
    "\n",
    "- Increased query complexity and reduced readability\n",
    "- Performance overhead from multiple join operations\n",
    "- Complex maintenance when schema changes are needed\n",
    "\n",
    "In the following example, we need to have three separate DataFrames and join them later with multiple joins."
   ]
  },
  {
   "cell_type": "code",
   "execution_count": null,
   "id": "a8177b1e-ef19-4e0f-9053-388800f49732",
   "metadata": {},
   "outputs": [],
   "source": [
    "from pyspark.sql import SparkSession\n",
    "from pyspark.sql.types import (\n",
    "    StructType,\n",
    "    StructField, \n",
    "    StringType,\n",
    "    IntegerType,\n",
    "    FloatType\n",
    ")\n",
    "\n",
    "spark = SparkSession.builder.getOrCreate()"
   ]
  },
  {
   "cell_type": "code",
   "execution_count": 3,
   "id": "94bed1c4",
   "metadata": {},
   "outputs": [
    {
     "name": "stderr",
     "output_type": "stream",
     "text": [
      "                                                                                \r"
     ]
    },
    {
     "name": "stdout",
     "output_type": "stream",
     "text": [
      "+-----------+----------+---------+--------+----------+-----+\n",
      "|customer_id|first_name|last_name|order_id|order_date|total|\n",
      "+-----------+----------+---------+--------+----------+-----+\n",
      "|          1|      John|      Doe|       1|2023-01-01|100.0|\n",
      "|          2|      Emma|   Wilson|       2|2023-01-02|150.0|\n",
      "|          3|   Michael|    Brown|       3|2023-01-03|200.0|\n",
      "+-----------+----------+---------+--------+----------+-----+\n",
      "\n"
     ]
    }
   ],
   "source": [
    "# Traditional way with separate DataFrames\n",
    "# Define schemas\n",
    "customer_schema = StructType([\n",
    "    StructField(\"customer_id\", IntegerType()),\n",
    "    StructField(\"first_name\", StringType()),\n",
    "    StructField(\"last_name\", StringType())\n",
    "])\n",
    "\n",
    "order_schema = StructType([\n",
    "    StructField(\"order_id\", IntegerType()),\n",
    "    StructField(\"customer_id\", IntegerType()),\n",
    "    StructField(\"order_date\", StringType()),\n",
    "    StructField(\"total\", FloatType())\n",
    "])\n",
    "\n",
    "# Create DataFrames with schemas\n",
    "customer_df = spark.createDataFrame(\n",
    "    [(1, \"John\", \"Doe\"), \n",
    "     (2, \"Emma\", \"Wilson\"), \n",
    "     (3, \"Michael\", \"Brown\")],\n",
    "    [\"customer_id\", \"first_name\", \"last_name\"]\n",
    ")\n",
    "\n",
    "order_df = spark.createDataFrame(\n",
    "    [(1, 1, \"2023-01-01\", 100.0),\n",
    "     (2, 2, \"2023-01-02\", 150.0),\n",
    "     (3, 3, \"2023-01-03\", 200.0)],\n",
    "    [\"order_id\", \"customer_id\", \"order_date\", \"total\"]\n",
    ")\n",
    "\n",
    "# Join customer and order data\n",
    "result_df = customer_df.join(order_df, \"customer_id\")\n",
    "result_df.show()"
   ]
  },
  {
   "cell_type": "markdown",
   "id": "397910a3",
   "metadata": {},
   "source": [
    "With nested StructType in PySpark, you can:\n",
    "\n",
    "- Maintain data hierarchy in a single DataFrame\n",
    "- Reduce join operations\n",
    "- Simplify queries and aggregations\n",
    "- Make schema changes more manageable\n",
    "\n",
    "In the following example, we combine three DataFrames into one nested DataFrame with StructType."
   ]
  },
  {
   "cell_type": "code",
   "execution_count": 69,
   "id": "851a649e",
   "metadata": {},
   "outputs": [
    {
     "name": "stdout",
     "output_type": "stream",
     "text": [
      "+--------+-------------------+-------------------+\n",
      "|order_id|customer           |order_info         |\n",
      "+--------+-------------------+-------------------+\n",
      "|1       |{1, John, Doe}     |{2023-01-01, 100.0}|\n",
      "|2       |{2, Emma, Wilson}  |{2023-01-02, 150.0}|\n",
      "|3       |{3, Michael, Brown}|{2023-01-03, 200.0}|\n",
      "+--------+-------------------+-------------------+\n",
      "\n"
     ]
    }
   ],
   "source": [
    "# Define nested schema\n",
    "order_schema = StructType(\n",
    "    [\n",
    "        StructField(\"order_id\", IntegerType()),\n",
    "        StructField(\n",
    "            \"customer\",\n",
    "            StructType(\n",
    "                [\n",
    "                    StructField(\"customer_id\", IntegerType()),\n",
    "                    StructField(\"first_name\", StringType()),\n",
    "                    StructField(\"last_name\", StringType()),\n",
    "                ]\n",
    "            ),\n",
    "        ),\n",
    "        StructField(\n",
    "            \"order_info\",\n",
    "            StructType(\n",
    "                [\n",
    "                    StructField(\"order_date\", StringType()),\n",
    "                    StructField(\"total\", FloatType()),\n",
    "                ]\n",
    "            ),\n",
    "        ),\n",
    "    ]\n",
    ")\n",
    "\n",
    "# Sample data with nested structure\n",
    "data = [\n",
    "    (1, (1, \"John\", \"Doe\"), (\"2023-01-01\", 100.0)),\n",
    "    (2, (2, \"Emma\", \"Wilson\"), (\"2023-01-02\", 150.0)),\n",
    "    (3, (3, \"Michael\", \"Brown\"), (\"2023-01-03\", 200.0)),\n",
    "]\n",
    "\n",
    "df = spark.createDataFrame(data, order_schema)\n",
    "df.show(truncate=False)"
   ]
  },
  {
   "cell_type": "markdown",
   "id": "ab4cfb67",
   "metadata": {},
   "source": [
    "With this, you can access all related data in one place using intuitive dot notation.\n"
   ]
  },
  {
   "cell_type": "code",
   "execution_count": 70,
   "id": "8ee771ad",
   "metadata": {},
   "outputs": [
    {
     "name": "stdout",
     "output_type": "stream",
     "text": [
      "+----------+---------+-----+\n",
      "|first_name|last_name|total|\n",
      "+----------+---------+-----+\n",
      "|      John|      Doe|100.0|\n",
      "|      Emma|   Wilson|150.0|\n",
      "|   Michael|    Brown|200.0|\n",
      "+----------+---------+-----+\n",
      "\n"
     ]
    }
   ],
   "source": [
    "# Select specific nested fields\n",
    "df.select(\"customer.first_name\", \"customer.last_name\", \"order_info.total\").show()"
   ]
  },
  {
   "cell_type": "code",
   "execution_count": 72,
   "id": "02ed1622",
   "metadata": {},
   "outputs": [
    {
     "name": "stdout",
     "output_type": "stream",
     "text": [
      "+--------+-------------------+-------------------+\n",
      "|order_id|           customer|         order_info|\n",
      "+--------+-------------------+-------------------+\n",
      "|       2|  {2, Emma, Wilson}|{2023-01-02, 150.0}|\n",
      "|       3|{3, Michael, Brown}|{2023-01-03, 200.0}|\n",
      "+--------+-------------------+-------------------+\n",
      "\n"
     ]
    }
   ],
   "source": [
    "# Filter orders above $150\n",
    "df.where(\"order_info.total >= 150\").show()\n"
   ]
  },
  {
   "cell_type": "markdown",
   "id": "baff8dfe-83f0-477c-bbe2-40c76de3fdd0",
   "metadata": {},
   "source": [
    "### Tempo: Simplified Time Series Analysis in PySpark"
   ]
  },
  {
   "cell_type": "code",
   "execution_count": null,
   "id": "ed3ded0b-fc84-4774-974d-23536c463317",
   "metadata": {
    "editable": true,
    "slideshow": {
     "slide_type": ""
    },
    "tags": [
     "hide-cell"
    ]
   },
   "outputs": [],
   "source": [
    "!pip install -U 'pyspark[sql]' 'dbl-tempo'"
   ]
  },
  {
   "cell_type": "code",
   "execution_count": 1,
   "id": "c236b8d8-5b76-4b8f-a22c-ba2fe450ee9f",
   "metadata": {
    "editable": true,
    "slideshow": {
     "slide_type": ""
    },
    "tags": [
     "hide-cell"
    ]
   },
   "outputs": [
    {
     "name": "stderr",
     "output_type": "stream",
     "text": [
      "Setting default log level to \"WARN\".\n",
      "To adjust logging level use sc.setLogLevel(newLevel). For SparkR, use setLogLevel(newLevel).\n",
      "24/12/05 13:57:04 WARN NativeCodeLoader: Unable to load native-hadoop library for your platform... using builtin-java classes where applicable\n",
      "24/12/05 13:57:06 WARN Utils: Service 'SparkUI' could not bind on port 4040. Attempting port 4041.\n"
     ]
    }
   ],
   "source": [
    "from pyspark.sql import SparkSession, Window\n",
    "import pyspark.sql.functions as F\n",
    "from pyspark.sql.types import *\n",
    "\n",
    "spark = SparkSession.builder.getOrCreate()"
   ]
  },
  {
   "cell_type": "markdown",
   "id": "8db5fcd9-c045-4b6b-b773-2509beae33ac",
   "metadata": {},
   "source": [
    "Tempo is a high-level API built on top of Apache Spark that simplifies the process of working with time-series data. While PySpark provides a robust foundation for data processing, Tempo provides a more intuitive API for working with time-series data, making it easier to perform common tasks like resampling and aggregating time-series data\n",
    "\n",
    "Here are some examples that compare PySpark and Tempo:"
   ]
  },
  {
   "cell_type": "code",
   "execution_count": 2,
   "id": "840f6ba7-b152-4a03-8c4c-465bed54918e",
   "metadata": {},
   "outputs": [],
   "source": [
    "from pyspark.sql import functions as F\n",
    "from pyspark.sql import Window\n",
    "\n",
    "# Create sample market data\n",
    "market_data = [\n",
    "    (\"AAPL\", \"2024-01-01 09:30:00\", 180.50, 1000, 180.45, 180.55),\n",
    "    (\"AAPL\", \"2024-01-01 09:30:05\", 180.52, 1200, 180.48, 180.58),\n",
    "    (\"AAPL\", \"2024-01-01 09:30:10\", 180.48, 800, 180.45, 180.52),\n",
    "    (\"AAPL\", \"2024-01-01 09:30:15\", 180.55, 1500, 180.50, 180.60),\n",
    "    (\"GOOGL\", \"2024-01-01 09:30:00\", 140.25, 500, 140.20, 140.30),\n",
    "    (\"GOOGL\", \"2024-01-01 09:30:05\", 140.30, 600, 140.25, 140.35),\n",
    "    (\"GOOGL\", \"2024-01-01 09:30:10\", 140.28, 450, 140.25, 140.32),\n",
    "    (\"GOOGL\", \"2024-01-01 09:30:15\", 140.32, 700, 140.28, 140.38),\n",
    "]\n",
    "\n",
    "# Create DataFrame\n",
    "market_df = spark.createDataFrame(\n",
    "    market_data, [\"symbol\", \"event_ts\", \"price\", \"volume\", \"bid\", \"ask\"]\n",
    ")\n",
    "\n",
    "# Convert timestamp string to timestamp type\n",
    "market_df = market_df.withColumn(\"event_ts\", F.to_timestamp(\"event_ts\"))"
   ]
  },
  {
   "cell_type": "code",
   "execution_count": 13,
   "id": "0215fc1e",
   "metadata": {},
   "outputs": [],
   "source": [
    "from tempo import *\n",
    "\n",
    "# Create Tempo TSDF\n",
    "market_tsdf = TSDF(market_df, ts_col=\"event_ts\", partition_cols=[\"symbol\"])"
   ]
  },
  {
   "cell_type": "markdown",
   "id": "878f67bf-0884-45c0-b5ae-a39743d8c9aa",
   "metadata": {},
   "source": [
    "Get data at specific time:"
   ]
  },
  {
   "cell_type": "code",
   "execution_count": 14,
   "id": "3437261d",
   "metadata": {},
   "outputs": [
    {
     "name": "stdout",
     "output_type": "stream",
     "text": [
      "+------+-------------------+------+------+------+------+\n",
      "|symbol|           event_ts| price|volume|   bid|   ask|\n",
      "+------+-------------------+------+------+------+------+\n",
      "|  AAPL|2024-01-01 09:30:10|180.48|   800|180.45|180.52|\n",
      "| GOOGL|2024-01-01 09:30:10|140.28|   450|140.25|140.32|\n",
      "+------+-------------------+------+------+------+------+\n",
      "\n"
     ]
    },
    {
     "data": {
      "text/html": [
       "<style>pre { white-space: pre !important; }</style>"
      ],
      "text/plain": [
       "<IPython.core.display.HTML object>"
      ]
     },
     "metadata": {},
     "output_type": "display_data"
    },
    {
     "name": "stdout",
     "output_type": "stream",
     "text": [
      "+------+-------------------+------+------+------+------+\n",
      "|symbol|           event_ts| price|volume|   bid|   ask|\n",
      "+------+-------------------+------+------+------+------+\n",
      "|  AAPL|2024-01-01 09:30:10|180.48|   800|180.45|180.52|\n",
      "| GOOGL|2024-01-01 09:30:10|140.28|   450|140.25|140.32|\n",
      "+------+-------------------+------+------+------+------+\n",
      "\n"
     ]
    }
   ],
   "source": [
    "# PySpark Version\n",
    "target_time = \"2024-01-01 09:30:10\"\n",
    "pyspark_at_target = market_df.filter(F.col(\"event_ts\") == target_time)\n",
    "pyspark_at_target.show()\n",
    "\n",
    "# Tempo Version\n",
    "tempo_at_target = market_tsdf.at(target_time)\n",
    "tempo_at_target.show()"
   ]
  },
  {
   "cell_type": "markdown",
   "id": "f4cf8521-75c6-43c5-9a8f-49fa9c235373",
   "metadata": {},
   "source": [
    "Get data between time interval:\n"
   ]
  },
  {
   "cell_type": "code",
   "execution_count": 15,
   "id": "65a8781f",
   "metadata": {},
   "outputs": [
    {
     "name": "stdout",
     "output_type": "stream",
     "text": [
      "+------+-------------------+------+------+------+------+\n",
      "|symbol|           event_ts| price|volume|   bid|   ask|\n",
      "+------+-------------------+------+------+------+------+\n",
      "|  AAPL|2024-01-01 09:30:05|180.52|  1200|180.48|180.58|\n",
      "|  AAPL|2024-01-01 09:30:10|180.48|   800|180.45|180.52|\n",
      "|  AAPL|2024-01-01 09:30:15|180.55|  1500| 180.5| 180.6|\n",
      "| GOOGL|2024-01-01 09:30:05| 140.3|   600|140.25|140.35|\n",
      "| GOOGL|2024-01-01 09:30:10|140.28|   450|140.25|140.32|\n",
      "| GOOGL|2024-01-01 09:30:15|140.32|   700|140.28|140.38|\n",
      "+------+-------------------+------+------+------+------+\n",
      "\n"
     ]
    },
    {
     "data": {
      "text/html": [
       "<style>pre { white-space: pre !important; }</style>"
      ],
      "text/plain": [
       "<IPython.core.display.HTML object>"
      ]
     },
     "metadata": {},
     "output_type": "display_data"
    },
    {
     "name": "stdout",
     "output_type": "stream",
     "text": [
      "+------+-------------------+------+------+------+------+\n",
      "|symbol|           event_ts| price|volume|   bid|   ask|\n",
      "+------+-------------------+------+------+------+------+\n",
      "|  AAPL|2024-01-01 09:30:05|180.52|  1200|180.48|180.58|\n",
      "|  AAPL|2024-01-01 09:30:10|180.48|   800|180.45|180.52|\n",
      "|  AAPL|2024-01-01 09:30:15|180.55|  1500| 180.5| 180.6|\n",
      "| GOOGL|2024-01-01 09:30:05| 140.3|   600|140.25|140.35|\n",
      "| GOOGL|2024-01-01 09:30:10|140.28|   450|140.25|140.32|\n",
      "| GOOGL|2024-01-01 09:30:15|140.32|   700|140.28|140.38|\n",
      "+------+-------------------+------+------+------+------+\n",
      "\n"
     ]
    }
   ],
   "source": [
    "# PySpark Version\n",
    "start_ts = \"2024-01-01 09:30:05\"\n",
    "end_ts = \"2024-01-01 09:30:15\"\n",
    "pyspark_interval = market_df.filter(\n",
    "    (F.col(\"event_ts\") >= start_ts) & (F.col(\"event_ts\") <= end_ts)\n",
    ")\n",
    "pyspark_interval.show()\n",
    "\n",
    "# Tempo Version\n",
    "tempo_interval = market_tsdf.between(start_ts, end_ts)\n",
    "tempo_interval.show()"
   ]
  },
  {
   "cell_type": "markdown",
   "id": "4c0105fa-85ea-4d24-9afb-beff4b54252b",
   "metadata": {},
   "source": [
    "Get oldest n records per symbol:\n"
   ]
  },
  {
   "cell_type": "code",
   "execution_count": 16,
   "id": "99a01c6d",
   "metadata": {},
   "outputs": [
    {
     "name": "stdout",
     "output_type": "stream",
     "text": [
      "+------+-------------------+------+------+------+------+\n",
      "|symbol|           event_ts| price|volume|   bid|   ask|\n",
      "+------+-------------------+------+------+------+------+\n",
      "|  AAPL|2024-01-01 09:30:00| 180.5|  1000|180.45|180.55|\n",
      "|  AAPL|2024-01-01 09:30:05|180.52|  1200|180.48|180.58|\n",
      "| GOOGL|2024-01-01 09:30:00|140.25|   500| 140.2| 140.3|\n",
      "| GOOGL|2024-01-01 09:30:05| 140.3|   600|140.25|140.35|\n",
      "+------+-------------------+------+------+------+------+\n",
      "\n"
     ]
    },
    {
     "data": {
      "text/html": [
       "<style>pre { white-space: pre !important; }</style>"
      ],
      "text/plain": [
       "<IPython.core.display.HTML object>"
      ]
     },
     "metadata": {},
     "output_type": "display_data"
    },
    {
     "name": "stdout",
     "output_type": "stream",
     "text": [
      "+------+-------------------+------+------+------+------+\n",
      "|symbol|           event_ts| price|volume|   bid|   ask|\n",
      "+------+-------------------+------+------+------+------+\n",
      "|  AAPL|2024-01-01 09:30:00| 180.5|  1000|180.45|180.55|\n",
      "|  AAPL|2024-01-01 09:30:05|180.52|  1200|180.48|180.58|\n",
      "| GOOGL|2024-01-01 09:30:00|140.25|   500| 140.2| 140.3|\n",
      "| GOOGL|2024-01-01 09:30:05| 140.3|   600|140.25|140.35|\n",
      "+------+-------------------+------+------+------+------+\n",
      "\n"
     ]
    }
   ],
   "source": [
    "# PySpark Version\n",
    "n = 2\n",
    "windowSpec = Window.partitionBy(\"symbol\").orderBy(\"event_ts\")\n",
    "pyspark_oldest = (\n",
    "    market_df.withColumn(\"row_num\", F.row_number().over(windowSpec))\n",
    "    .filter(F.col(\"row_num\") <= n)\n",
    "    .drop(\"row_num\")\n",
    ")\n",
    "pyspark_oldest.show()\n",
    "\n",
    "# Tempo Version\n",
    "tempo_oldest = market_tsdf.earliest(n)\n",
    "tempo_oldest.show()"
   ]
  },
  {
   "cell_type": "markdown",
   "id": "de9a8c13-9bb1-4f10-bd55-dd71d0f62120",
   "metadata": {},
   "source": [
    "Moving averages (10-second window):\n"
   ]
  },
  {
   "cell_type": "code",
   "execution_count": 29,
   "id": "905511ec",
   "metadata": {},
   "outputs": [
    {
     "name": "stdout",
     "output_type": "stream",
     "text": [
      "+------+-------------------+------+------------------+\n",
      "|symbol|           event_ts| price|        mean_price|\n",
      "+------+-------------------+------+------------------+\n",
      "|  AAPL|2024-01-01 09:30:00| 180.5|             180.5|\n",
      "|  AAPL|2024-01-01 09:30:05|180.52|            180.51|\n",
      "|  AAPL|2024-01-01 09:30:10|180.48|             180.5|\n",
      "|  AAPL|2024-01-01 09:30:15|180.55|180.51666666666665|\n",
      "| GOOGL|2024-01-01 09:30:00|140.25|            140.25|\n",
      "| GOOGL|2024-01-01 09:30:05| 140.3|           140.275|\n",
      "| GOOGL|2024-01-01 09:30:10|140.28|140.27666666666667|\n",
      "| GOOGL|2024-01-01 09:30:15|140.32|             140.3|\n",
      "+------+-------------------+------+------------------+\n",
      "\n"
     ]
    },
    {
     "data": {
      "text/html": [
       "<style>pre { white-space: pre !important; }</style>"
      ],
      "text/plain": [
       "<IPython.core.display.HTML object>"
      ]
     },
     "metadata": {},
     "output_type": "display_data"
    },
    {
     "name": "stdout",
     "output_type": "stream",
     "text": [
      "+------+-------------------+------+------------------+\n",
      "|symbol|           event_ts| price|        mean_price|\n",
      "+------+-------------------+------+------------------+\n",
      "|  AAPL|2024-01-01 09:30:00| 180.5|             180.5|\n",
      "|  AAPL|2024-01-01 09:30:05|180.52|            180.51|\n",
      "|  AAPL|2024-01-01 09:30:10|180.48|             180.5|\n",
      "|  AAPL|2024-01-01 09:30:15|180.55|180.51666666666665|\n",
      "| GOOGL|2024-01-01 09:30:00|140.25|            140.25|\n",
      "| GOOGL|2024-01-01 09:30:05| 140.3|           140.275|\n",
      "| GOOGL|2024-01-01 09:30:10|140.28|140.27666666666667|\n",
      "| GOOGL|2024-01-01 09:30:15|140.32|             140.3|\n",
      "+------+-------------------+------+------------------+\n",
      "\n"
     ]
    }
   ],
   "source": [
    "# PySpark Version\n",
    "market_df = market_df.withColumn(\"event_ts_seconds\", F.unix_timestamp(\"event_ts\"))\n",
    "movingWindowSpec = (\n",
    "    Window.partitionBy(\"symbol\").orderBy(\"event_ts_seconds\").rangeBetween(-10, 0)\n",
    ")\n",
    "\n",
    "pyspark_moving_stats = market_df.withColumn(\n",
    "    \"mean_price\", F.avg(\"price\").over(movingWindowSpec)\n",
    ")\n",
    "\n",
    "pyspark_moving_stats.select(\"symbol\", \"event_ts\", \"price\", \"mean_price\").show()\n",
    "\n",
    "# Tempo Version\n",
    "tempo_moving_stats = market_tsdf.withRangeStats(\"price\", rangeBackWindowSecs=10)\n",
    "tempo_moving_stats.select(\"symbol\", \"event_ts\", \"price\", \"mean_price\").show()"
   ]
  },
  {
   "cell_type": "markdown",
   "id": "be57a2ee-4f4b-4bb4-8b6b-1d29ab50cb89",
   "metadata": {},
   "source": [
    "Grouped statistics:\n"
   ]
  },
  {
   "cell_type": "code",
   "execution_count": 22,
   "id": "f2b6ffb9",
   "metadata": {},
   "outputs": [
    {
     "name": "stdout",
     "output_type": "stream",
     "text": [
      "+------+--------------------+----------+---------+---------+\n",
      "|symbol|              window|mean_price|min_price|max_price|\n",
      "+------+--------------------+----------+---------+---------+\n",
      "|  AAPL|{2024-01-01 09:30...|     180.5|    180.5|    180.5|\n",
      "|  AAPL|{2024-01-01 09:30...|    180.52|   180.52|   180.52|\n",
      "|  AAPL|{2024-01-01 09:30...|    180.48|   180.48|   180.48|\n",
      "|  AAPL|{2024-01-01 09:30...|    180.55|   180.55|   180.55|\n",
      "| GOOGL|{2024-01-01 09:30...|    140.25|   140.25|   140.25|\n",
      "| GOOGL|{2024-01-01 09:30...|     140.3|    140.3|    140.3|\n",
      "| GOOGL|{2024-01-01 09:30...|    140.28|   140.28|   140.28|\n",
      "| GOOGL|{2024-01-01 09:30...|    140.32|   140.32|   140.32|\n",
      "+------+--------------------+----------+---------+---------+\n",
      "\n"
     ]
    },
    {
     "data": {
      "text/html": [
       "<style>pre { white-space: pre !important; }</style>"
      ],
      "text/plain": [
       "<IPython.core.display.HTML object>"
      ]
     },
     "metadata": {},
     "output_type": "display_data"
    },
    {
     "name": "stdout",
     "output_type": "stream",
     "text": [
      "+------+-------------------+----------+---------+---------+\n",
      "|symbol|           event_ts|mean_price|min_price|max_price|\n",
      "+------+-------------------+----------+---------+---------+\n",
      "|  AAPL|2024-01-01 09:30:00|     180.5|    180.5|    180.5|\n",
      "|  AAPL|2024-01-01 09:30:05|    180.52|   180.52|   180.52|\n",
      "|  AAPL|2024-01-01 09:30:10|    180.48|   180.48|   180.48|\n",
      "|  AAPL|2024-01-01 09:30:15|    180.55|   180.55|   180.55|\n",
      "| GOOGL|2024-01-01 09:30:00|    140.25|   140.25|   140.25|\n",
      "| GOOGL|2024-01-01 09:30:05|     140.3|    140.3|    140.3|\n",
      "| GOOGL|2024-01-01 09:30:10|    140.28|   140.28|   140.28|\n",
      "| GOOGL|2024-01-01 09:30:15|    140.32|   140.32|   140.32|\n",
      "+------+-------------------+----------+---------+---------+\n",
      "\n"
     ]
    }
   ],
   "source": [
    "# PySpark Version\n",
    "pyspark_grouped = market_df.groupBy(\"symbol\", F.window(\"event_ts\", \"5 seconds\")).agg(\n",
    "    F.avg(\"price\").alias(\"mean_price\"),\n",
    "    F.min(\"price\").alias(\"min_price\"),\n",
    "    F.max(\"price\").alias(\"max_price\"),\n",
    ")\n",
    "pyspark_grouped.show()\n",
    "\n",
    "# Tempo Version\n",
    "tempo_grouped = market_tsdf.withGroupedStats(\n",
    "    metricCols=[\"price\"], freq=\"5 seconds\"\n",
    ")\n",
    "tempo_grouped.select('symbol', 'event_ts', 'mean_price', 'min_price', 'max_price').show()"
   ]
  },
  {
   "cell_type": "markdown",
   "id": "a978f79e-8566-4be9-ae50-cbcf377d66a2",
   "metadata": {},
   "source": [
    "[Link to Tempo](https://github.com/databrickslabs/tempo)."
   ]
  }
 ],
 "metadata": {
  "kernelspec": {
   "display_name": "Python 3 (ipykernel)",
   "language": "python",
   "name": "python3"
  },
  "language_info": {
   "codemirror_mode": {
    "name": "ipython",
    "version": 3
   },
   "file_extension": ".py",
   "mimetype": "text/x-python",
   "name": "python",
   "nbconvert_exporter": "python",
   "pygments_lexer": "ipython3",
   "version": "3.11.6"
  }
 },
 "nbformat": 4,
 "nbformat_minor": 5
}
