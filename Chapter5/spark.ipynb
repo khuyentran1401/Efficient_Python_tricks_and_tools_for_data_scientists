{
 "cells": [
  {
   "cell_type": "markdown",
   "id": "b25228f0",
   "metadata": {},
   "source": [
    "## PySpark"
   ]
  },
  {
   "cell_type": "markdown",
   "id": "c115794a",
   "metadata": {},
   "source": [
    "### Pandas-Friendly Big Data Processing with Spark"
   ]
  },
  {
   "cell_type": "code",
   "execution_count": null,
   "id": "b1917668",
   "metadata": {},
   "outputs": [],
   "source": [
    "!pip install \"pyspark[pandas_on_spark]\""
   ]
  },
  {
   "cell_type": "markdown",
   "id": "d0190c8e",
   "metadata": {},
   "source": [
    "Spark enables scaling of your pandas workloads across multiple nodes. However, learning PySpark syntax can be daunting for pandas users. \n",
    "\n",
    "Pandas API on Spark enables leveraging Spark's capabilities for big data while retaining a familiar pandas-like syntax.\n",
    "\n",
    "The following code compares the syntax between PySpark and the Pandas API on Spark."
   ]
  },
  {
   "cell_type": "code",
   "execution_count": null,
   "id": "631d204d",
   "metadata": {},
   "outputs": [],
   "source": [
    "import warnings\n",
    "\n",
    "warnings.simplefilter(action=\"ignore\", category=FutureWarning)\n"
   ]
  },
  {
   "cell_type": "markdown",
   "id": "0a19b336",
   "metadata": {},
   "source": [
    "Pandas API on Spark:"
   ]
  },
  {
   "cell_type": "code",
   "execution_count": null,
   "id": "b903aa18",
   "metadata": {},
   "outputs": [],
   "source": [
    "import numpy as np\n",
    "import pyspark.pandas as ps\n"
   ]
  },
  {
   "cell_type": "code",
   "execution_count": null,
   "id": "3136c2a0",
   "metadata": {},
   "outputs": [],
   "source": [
    "psdf = ps.DataFrame(\n",
    "    {\n",
    "        \"A\": [\"foo\", \"bar\", \"foo\"],\n",
    "        \"B\": [\"one\", \"one\", \"two\"],\n",
    "        \"C\": [0.1, 0.3, 0.5],\n",
    "        \"D\": [0.2, 0.4, 0.6],\n",
    "    }\n",
    ")\n"
   ]
  },
  {
   "cell_type": "code",
   "execution_count": null,
   "id": "313537cf",
   "metadata": {},
   "outputs": [
    {
     "data": {
      "text/html": [
       "<div>\n",
       "<style scoped>\n",
       "    .dataframe tbody tr th:only-of-type {\n",
       "        vertical-align: middle;\n",
       "    }\n",
       "\n",
       "    .dataframe tbody tr th {\n",
       "        vertical-align: top;\n",
       "    }\n",
       "\n",
       "    .dataframe thead th {\n",
       "        text-align: right;\n",
       "    }\n",
       "</style>\n",
       "<table border=\"1\" class=\"dataframe\">\n",
       "  <thead>\n",
       "    <tr style=\"text-align: right;\">\n",
       "      <th></th>\n",
       "      <th>A</th>\n",
       "      <th>B</th>\n",
       "      <th>C</th>\n",
       "      <th>D</th>\n",
       "    </tr>\n",
       "  </thead>\n",
       "  <tbody>\n",
       "    <tr>\n",
       "      <th>0</th>\n",
       "      <td>foo</td>\n",
       "      <td>one</td>\n",
       "      <td>0.1</td>\n",
       "      <td>0.2</td>\n",
       "    </tr>\n",
       "    <tr>\n",
       "      <th>1</th>\n",
       "      <td>bar</td>\n",
       "      <td>one</td>\n",
       "      <td>0.3</td>\n",
       "      <td>0.4</td>\n",
       "    </tr>\n",
       "    <tr>\n",
       "      <th>2</th>\n",
       "      <td>foo</td>\n",
       "      <td>two</td>\n",
       "      <td>0.5</td>\n",
       "      <td>0.6</td>\n",
       "    </tr>\n",
       "  </tbody>\n",
       "</table>\n",
       "</div>"
      ],
      "text/plain": [
       "     A    B    C    D\n",
       "0  foo  one  0.1  0.2\n",
       "1  bar  one  0.3  0.4\n",
       "2  foo  two  0.5  0.6"
      ]
     },
     "metadata": {},
     "output_type": "display_data"
    }
   ],
   "source": [
    "psdf.sort_values(by='B')\n"
   ]
  },
  {
   "cell_type": "code",
   "execution_count": null,
   "id": "4e9e6506",
   "metadata": {},
   "outputs": [
    {
     "data": {
      "text/html": [
       "<div>\n",
       "<style scoped>\n",
       "    .dataframe tbody tr th:only-of-type {\n",
       "        vertical-align: middle;\n",
       "    }\n",
       "\n",
       "    .dataframe tbody tr th {\n",
       "        vertical-align: top;\n",
       "    }\n",
       "\n",
       "    .dataframe thead th {\n",
       "        text-align: right;\n",
       "    }\n",
       "</style>\n",
       "<table border=\"1\" class=\"dataframe\">\n",
       "  <thead>\n",
       "    <tr style=\"text-align: right;\">\n",
       "      <th></th>\n",
       "      <th>C</th>\n",
       "      <th>D</th>\n",
       "    </tr>\n",
       "    <tr>\n",
       "      <th>A</th>\n",
       "      <th></th>\n",
       "      <th></th>\n",
       "    </tr>\n",
       "  </thead>\n",
       "  <tbody>\n",
       "    <tr>\n",
       "      <th>foo</th>\n",
       "      <td>0.6</td>\n",
       "      <td>0.8</td>\n",
       "    </tr>\n",
       "    <tr>\n",
       "      <th>bar</th>\n",
       "      <td>0.3</td>\n",
       "      <td>0.4</td>\n",
       "    </tr>\n",
       "  </tbody>\n",
       "</table>\n",
       "</div>"
      ],
      "text/plain": [
       "       C    D\n",
       "A            \n",
       "foo  0.6  0.8\n",
       "bar  0.3  0.4"
      ]
     },
     "metadata": {},
     "output_type": "display_data"
    }
   ],
   "source": [
    "psdf.groupby('A').sum()\n"
   ]
  },
  {
   "cell_type": "code",
   "execution_count": null,
   "id": "4ba075e5",
   "metadata": {},
   "outputs": [
    {
     "data": {
      "text/html": [
       "<div>\n",
       "<style scoped>\n",
       "    .dataframe tbody tr th:only-of-type {\n",
       "        vertical-align: middle;\n",
       "    }\n",
       "\n",
       "    .dataframe tbody tr th {\n",
       "        vertical-align: top;\n",
       "    }\n",
       "\n",
       "    .dataframe thead th {\n",
       "        text-align: right;\n",
       "    }\n",
       "</style>\n",
       "<table border=\"1\" class=\"dataframe\">\n",
       "  <thead>\n",
       "    <tr style=\"text-align: right;\">\n",
       "      <th></th>\n",
       "      <th>A</th>\n",
       "      <th>B</th>\n",
       "      <th>C</th>\n",
       "      <th>D</th>\n",
       "    </tr>\n",
       "  </thead>\n",
       "  <tbody>\n",
       "    <tr>\n",
       "      <th>2</th>\n",
       "      <td>foo</td>\n",
       "      <td>two</td>\n",
       "      <td>0.5</td>\n",
       "      <td>0.6</td>\n",
       "    </tr>\n",
       "  </tbody>\n",
       "</table>\n",
       "</div>"
      ],
      "text/plain": [
       "     A    B    C    D\n",
       "2  foo  two  0.5  0.6"
      ]
     },
     "metadata": {},
     "output_type": "display_data"
    }
   ],
   "source": [
    "psdf.query(\"C > 0.4\")"
   ]
  },
  {
   "cell_type": "code",
   "execution_count": null,
   "id": "ef83be61",
   "metadata": {},
   "outputs": [
    {
     "data": {
      "text/html": [
       "<div>\n",
       "<style scoped>\n",
       "    .dataframe tbody tr th:only-of-type {\n",
       "        vertical-align: middle;\n",
       "    }\n",
       "\n",
       "    .dataframe tbody tr th {\n",
       "        vertical-align: top;\n",
       "    }\n",
       "\n",
       "    .dataframe thead th {\n",
       "        text-align: right;\n",
       "    }\n",
       "</style>\n",
       "<table border=\"1\" class=\"dataframe\">\n",
       "  <thead>\n",
       "    <tr style=\"text-align: right;\">\n",
       "      <th></th>\n",
       "      <th>C</th>\n",
       "      <th>D</th>\n",
       "    </tr>\n",
       "  </thead>\n",
       "  <tbody>\n",
       "    <tr>\n",
       "      <th>0</th>\n",
       "      <td>0.1</td>\n",
       "      <td>0.2</td>\n",
       "    </tr>\n",
       "    <tr>\n",
       "      <th>1</th>\n",
       "      <td>0.3</td>\n",
       "      <td>0.4</td>\n",
       "    </tr>\n",
       "    <tr>\n",
       "      <th>2</th>\n",
       "      <td>0.5</td>\n",
       "      <td>0.6</td>\n",
       "    </tr>\n",
       "  </tbody>\n",
       "</table>\n",
       "</div>"
      ],
      "text/plain": [
       "     C    D\n",
       "0  0.1  0.2\n",
       "1  0.3  0.4\n",
       "2  0.5  0.6"
      ]
     },
     "metadata": {},
     "output_type": "display_data"
    }
   ],
   "source": [
    "psdf[[\"C\", \"D\"]].abs()"
   ]
  },
  {
   "cell_type": "markdown",
   "id": "fa28ac06",
   "metadata": {},
   "source": [
    "PySpark:"
   ]
  },
  {
   "cell_type": "code",
   "execution_count": null,
   "id": "52727ee5",
   "metadata": {},
   "outputs": [],
   "source": [
    "from pyspark.sql.functions import col\n",
    "from pyspark.sql.functions import abs\n",
    "from pyspark.sql import SparkSession"
   ]
  },
  {
   "cell_type": "code",
   "execution_count": null,
   "id": "aa20263c",
   "metadata": {},
   "outputs": [],
   "source": [
    "spark = SparkSession.builder.getOrCreate()"
   ]
  },
  {
   "cell_type": "code",
   "execution_count": null,
   "id": "7bd65b38",
   "metadata": {},
   "outputs": [],
   "source": [
    "spark_data = spark.createDataFrame([\n",
    "    (\"foo\", \"one\", 0.1, 0.2),\n",
    "    (\"bar\", \"one\", 0.3, 0.4),\n",
    "    (\"foo\", \"two\", 0.5, 0.6),\n",
    "], [\"A\", \"B\", \"C\", \"D\"])"
   ]
  },
  {
   "cell_type": "code",
   "execution_count": null,
   "id": "bc31133e",
   "metadata": {},
   "outputs": [
    {
     "name": "stdout",
     "output_type": "stream",
     "text": [
      "+---+---+---+---+\n",
      "|  A|  B|  C|  D|\n",
      "+---+---+---+---+\n",
      "|foo|one|0.1|0.2|\n",
      "|bar|one|0.3|0.4|\n",
      "|foo|two|0.5|0.6|\n",
      "+---+---+---+---+\n",
      "\n"
     ]
    }
   ],
   "source": [
    "spark_data.sort(col('B')).show()"
   ]
  },
  {
   "cell_type": "code",
   "execution_count": null,
   "id": "e78b6c57",
   "metadata": {},
   "outputs": [
    {
     "name": "stderr",
     "output_type": "stream",
     "text": [
      "[Stage 25:>                                                         (0 + 8) / 8]\r"
     ]
    },
    {
     "name": "stdout",
     "output_type": "stream",
     "text": [
      "+---+------+------+\n",
      "|  A|sum(C)|sum(D)|\n",
      "+---+------+------+\n",
      "|foo|   0.6|   0.8|\n",
      "|bar|   0.3|   0.4|\n",
      "+---+------+------+\n",
      "\n"
     ]
    },
    {
     "name": "stderr",
     "output_type": "stream",
     "text": [
      "                                                                                \r"
     ]
    }
   ],
   "source": [
    "spark_data.groupBy('A').sum().show()"
   ]
  },
  {
   "cell_type": "code",
   "execution_count": null,
   "id": "bfa63abc",
   "metadata": {},
   "outputs": [
    {
     "name": "stdout",
     "output_type": "stream",
     "text": [
      "+---+---+---+---+\n",
      "|  A|  B|  C|  D|\n",
      "+---+---+---+---+\n",
      "|foo|two|0.5|0.6|\n",
      "+---+---+---+---+\n",
      "\n"
     ]
    }
   ],
   "source": [
    "spark_data.filter(col('C') > 0.4).show()"
   ]
  },
  {
   "cell_type": "code",
   "execution_count": null,
   "id": "f340ef77",
   "metadata": {},
   "outputs": [
    {
     "data": {
      "text/plain": [
       "DataFrame[C: double, D: double]"
      ]
     },
     "metadata": {},
     "output_type": "display_data"
    }
   ],
   "source": [
    "spark_data.select(abs(spark_data[\"C\"]).alias(\"C\"), abs(spark_data[\"D\"]).alias(\"D\"))\n"
   ]
  },
  {
   "cell_type": "markdown",
   "id": "a2d96783",
   "metadata": {},
   "source": [
    "### PySpark SQL: Enhancing Reusability with Parameterized Queries"
   ]
  },
  {
   "cell_type": "code",
   "execution_count": null,
   "id": "d296b294",
   "metadata": {
    "tags": [
     "hide-cell"
    ]
   },
   "outputs": [],
   "source": [
    "!pip install \"pyspark[sql]\""
   ]
  },
  {
   "cell_type": "markdown",
   "id": "0ddc2bc2",
   "metadata": {},
   "source": [
    "In PySpark, parametrized queries enable the same query structure to be reused with different inputs, without rewriting the SQL.\n",
    "\n",
    "Additionally, they safeguard against SQL injection attacks by treating input data as parameters rather than as executable code."
   ]
  },
  {
   "cell_type": "code",
   "execution_count": 2,
   "id": "8056b8af",
   "metadata": {},
   "outputs": [],
   "source": [
    "from pyspark.sql import SparkSession\n",
    "import pandas as pd \n",
    "\n",
    "spark = SparkSession.builder.getOrCreate()"
   ]
  },
  {
   "cell_type": "code",
   "execution_count": 4,
   "id": "cc5f3c19",
   "metadata": {},
   "outputs": [
    {
     "name": "stderr",
     "output_type": "stream",
     "text": [
      "                                                                                \r"
     ]
    },
    {
     "name": "stdout",
     "output_type": "stream",
     "text": [
      "+-------+-----+\n",
      "|item_id|price|\n",
      "+-------+-----+\n",
      "|      1|    4|\n",
      "|      2|    2|\n",
      "|      3|    5|\n",
      "|      4|    1|\n",
      "+-------+-----+\n",
      "\n"
     ]
    }
   ],
   "source": [
    "# Create a Spark DataFrame\n",
    "item_price_pandas = pd.DataFrame({\"item_id\": [1, 2, 3, 4], \"price\": [4, 2, 5, 1]})\n",
    "item_price = spark.createDataFrame(item_price_pandas)\n",
    "item_price.show()"
   ]
  },
  {
   "cell_type": "code",
   "execution_count": 16,
   "id": "90976e5b",
   "metadata": {},
   "outputs": [
    {
     "name": "stderr",
     "output_type": "stream",
     "text": [
      "                                                                                \r"
     ]
    },
    {
     "name": "stdout",
     "output_type": "stream",
     "text": [
      "+-------+-----+\n",
      "|item_id|price|\n",
      "+-------+-----+\n",
      "|      1|    4|\n",
      "+-------+-----+\n",
      "\n"
     ]
    }
   ],
   "source": [
    "query = \"\"\"SELECT item_id, price \n",
    "FROM {item_price} \n",
    "WHERE item_id = {id_val} \n",
    "\"\"\"\n",
    "\n",
    "spark.sql(query, id_val=1, item_price=item_price).show()"
   ]
  },
  {
   "cell_type": "code",
   "execution_count": 17,
   "id": "44634ce8",
   "metadata": {},
   "outputs": [
    {
     "name": "stdout",
     "output_type": "stream",
     "text": [
      "+-------+-----+\n",
      "|item_id|price|\n",
      "+-------+-----+\n",
      "|      2|    2|\n",
      "+-------+-----+\n",
      "\n"
     ]
    }
   ],
   "source": [
    "spark.sql(query, id_val=2, item_price=item_price).show()"
   ]
  }
 ],
 "metadata": {
  "kernelspec": {
   "display_name": "venv",
   "language": "python",
   "name": "python3"
  },
  "language_info": {
   "codemirror_mode": {
    "name": "ipython",
    "version": 3
   },
   "file_extension": ".py",
   "mimetype": "text/x-python",
   "name": "python",
   "nbconvert_exporter": "python",
   "pygments_lexer": "ipython3",
   "version": "3.11.6"
  }
 },
 "nbformat": 4,
 "nbformat_minor": 5
}
