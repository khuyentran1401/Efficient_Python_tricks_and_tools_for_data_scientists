{
 "cells": [
  {
   "cell_type": "markdown",
   "id": "2bcd82f7",
   "metadata": {},
   "source": [
    "## Jupyter Notebook"
   ]
  },
  {
   "cell_type": "markdown",
   "id": "59db1e43",
   "metadata": {},
   "source": [
    "This section covers some tools to work with Jupyter Notebook."
   ]
  },
  {
   "cell_type": "markdown",
   "id": "d28637fe",
   "metadata": {},
   "source": [
    "### nbdime: Better Version Control for Jupyter Notebook"
   ]
  },
  {
   "cell_type": "markdown",
   "id": "be792e84",
   "metadata": {},
   "source": [
    "If you want to compare the previous version and the current version of a notebook, use nbdime. The image below shows how 2 versions of a notebook are compared with nbdime.\n",
    "\n",
    "![image](nbdime.png)\n",
    "\n",
    "To install nbdime, type:\n",
    "\n",
    "```bash\n",
    "pip install nbdime\n",
    "```\n",
    "After installing, click the little icon in the top right corner to use nbdime.\n",
    "\n",
    "![image](nbdime_icon.png)\n",
    "\n"
   ]
  },
  {
   "cell_type": "markdown",
   "id": "ec95bab0",
   "metadata": {},
   "source": [
    "[Link to nbdime](https://github.com/jupyter/nbdime/blob/master/docs/source/index.rst)."
   ]
  },
  {
   "cell_type": "markdown",
   "id": "779533ff",
   "metadata": {},
   "source": [
    "### display in IPython: Display Math Equations in Jupyter Notebook"
   ]
  },
  {
   "cell_type": "markdown",
   "id": "d7d4c47b",
   "metadata": {},
   "source": [
    "If you want to use latex to display math equations in Jupyter Notebook, use the display module in the IPython library."
   ]
  },
  {
   "cell_type": "code",
   "execution_count": 1,
   "id": "3d36c2fe",
   "metadata": {
    "ExecuteTime": {
     "end_time": "2021-09-12T14:50:06.424045Z",
     "start_time": "2021-09-12T14:50:06.386155Z"
    }
   },
   "outputs": [
    {
     "name": "stdout",
     "output_type": "stream",
     "text": [
      "The equation is:\n"
     ]
    },
    {
     "data": {
      "text/latex": [
       "$\\displaystyle y= 3x+5$"
      ],
      "text/plain": [
       "<IPython.core.display.Math object>"
      ]
     },
     "metadata": {},
     "output_type": "display_data"
    }
   ],
   "source": [
    "from IPython.display import display, Math, Latex\n",
    "\n",
    "a = 3\n",
    "b = 5\n",
    "print(\"The equation is:\")\n",
    "display(Math(f'y= {a}x+{b}'))"
   ]
  },
  {
   "cell_type": "markdown",
   "id": "c6a9565d",
   "metadata": {},
   "source": [
    "### Reuse The Notebook to Run The Same Code Across Different Data"
   ]
  },
  {
   "cell_type": "markdown",
   "id": "481a7d4c",
   "metadata": {},
   "source": [
    "Have you ever wanted to reuse the notebook to run the same code across different data? This could be helpful to visualize different data without changing the code in the notebook itself.\n",
    "\n",
    "Papermill provides the tool for this. [Insert the tag `parameters` in a notebook cell that contains the variable you want to parameterize](https://papermill.readthedocs.io/en/latest/usage-parameterize.html).\n",
    "\n",
    "Then run the code below in the terminal. "
   ]
  },
  {
   "cell_type": "markdown",
   "id": "64995018",
   "metadata": {},
   "source": [
    "```bash\n",
    "$ papermill input.ipynb output.ipynb -p data=data1\n",
    "```"
   ]
  },
  {
   "cell_type": "markdown",
   "id": "36d59bc7",
   "metadata": {},
   "source": [
    "`-p` stands for parameters. In this case, I specify the data I want to run with `-p data=<name-data>`"
   ]
  },
  {
   "cell_type": "markdown",
   "id": "8d79719a",
   "metadata": {},
   "source": [
    "[Link to papermill](https://papermill.readthedocs.io/en/latest/usage-workflow.html)"
   ]
  },
  {
   "cell_type": "markdown",
   "id": "d4bfe7ae",
   "metadata": {},
   "source": [
    "### watermark: Get Information About Your Hardware and the Packages Being Used within Your Notebook"
   ]
  },
  {
   "cell_type": "code",
   "execution_count": null,
   "id": "1bda134c",
   "metadata": {
    "tags": [
     "hide-cell"
    ]
   },
   "outputs": [],
   "source": [
    "!pip install watermark "
   ]
  },
  {
   "cell_type": "markdown",
   "id": "be38a53d",
   "metadata": {
    "ExecuteTime": {
     "end_time": "2021-09-12T14:57:13.672482Z",
     "start_time": "2021-09-12T14:57:11.909865Z"
    }
   },
   "source": [
    "If you want to get information about your hardware and the Python packages being used within your notebook, use the magic extension watermark.\n",
    "\n",
    "The code below shows the outputs of the watermark in my notebook."
   ]
  },
  {
   "cell_type": "code",
   "execution_count": 4,
   "id": "b177fab1",
   "metadata": {
    "ExecuteTime": {
     "end_time": "2021-09-12T14:58:16.366584Z",
     "start_time": "2021-09-12T14:58:16.325978Z"
    }
   },
   "outputs": [],
   "source": [
    "%load_ext watermark"
   ]
  },
  {
   "cell_type": "code",
   "execution_count": 5,
   "id": "2de346f9",
   "metadata": {
    "ExecuteTime": {
     "end_time": "2021-09-12T14:58:22.462880Z",
     "start_time": "2021-09-12T14:58:22.435807Z"
    }
   },
   "outputs": [
    {
     "name": "stdout",
     "output_type": "stream",
     "text": [
      "Last updated: 2021-09-12T09:58:22.438535-05:00\n",
      "\n",
      "Python implementation: CPython\n",
      "Python version       : 3.8.10\n",
      "IPython version      : 7.27.0\n",
      "\n",
      "Compiler    : GCC 9.4.0\n",
      "OS          : Linux\n",
      "Release     : 5.4.0-81-generic\n",
      "Machine     : x86_64\n",
      "Processor   : x86_64\n",
      "CPU cores   : 16\n",
      "Architecture: 64bit\n",
      "\n"
     ]
    }
   ],
   "source": [
    "%watermark"
   ]
  },
  {
   "cell_type": "markdown",
   "id": "fdb8043a",
   "metadata": {},
   "source": [
    "We can also use watermark to show the versions of the libraries being used:"
   ]
  },
  {
   "cell_type": "code",
   "execution_count": 10,
   "id": "a170d444",
   "metadata": {
    "ExecuteTime": {
     "end_time": "2021-09-12T14:59:07.713952Z",
     "start_time": "2021-09-12T14:59:07.707600Z"
    }
   },
   "outputs": [],
   "source": [
    "import numpy as np \n",
    "import pandas as pd \n",
    "import sklearn"
   ]
  },
  {
   "cell_type": "code",
   "execution_count": 11,
   "id": "3c57f5cc",
   "metadata": {
    "ExecuteTime": {
     "end_time": "2021-09-12T14:59:18.949483Z",
     "start_time": "2021-09-12T14:59:18.931144Z"
    }
   },
   "outputs": [
    {
     "name": "stdout",
     "output_type": "stream",
     "text": [
      "sklearn: 0.0\n",
      "pandas : 1.3.2\n",
      "numpy  : 1.19.5\n",
      "\n"
     ]
    }
   ],
   "source": [
    "%watermark --iversions "
   ]
  },
  {
   "cell_type": "markdown",
   "id": "5c1f88cd",
   "metadata": {},
   "source": [
    "[Link to watermark](https://github.com/rasbt/watermark#installation-and-updating)."
   ]
  },
  {
   "cell_type": "markdown",
   "id": "ffaaed40",
   "metadata": {},
   "source": [
    "### Generate requirements.txt File for Jupyter Notebooks Based on Imports"
   ]
  },
  {
   "cell_type": "code",
   "execution_count": null,
   "id": "79c27a6a",
   "metadata": {
    "tags": [
     "hide-cell"
    ]
   },
   "outputs": [],
   "source": [
    "!pip install pipreqsnb"
   ]
  },
  {
   "cell_type": "markdown",
   "id": "282aa4c7",
   "metadata": {},
   "source": [
    "`pip freeze` saves all packages in the environment, including ones that you don't use in your current project. To generate a `requirements.txt` based on imports in  your Jupyter Notebooks, use pipreqsnb. \n",
    "\n",
    "For example, to save all packages in your current project to a `requirements.txt` file, run:\n",
    "```bash\n",
    "$ pipreqsnb . \n",
    "```"
   ]
  },
  {
   "cell_type": "code",
   "execution_count": 2,
   "id": "c09bbd04",
   "metadata": {
    "tags": [
     "hide-input"
    ]
   },
   "outputs": [
    {
     "name": "stdout",
     "output_type": "stream",
     "text": [
      "pipreqs  .\n",
      "INFO: Successfully saved requirements file in ./requirements.txt\n"
     ]
    }
   ],
   "source": [
    "!pipreqsnb . "
   ]
  },
  {
   "cell_type": "markdown",
   "id": "8ca1cf82",
   "metadata": {},
   "source": [
    "Your `requirements.txt` should look like below:\n",
    "```txt\n",
    "pandas==1.3.4\n",
    "numpy==1.20.3\n",
    "ipython==7.30.1\n",
    "scikit_learn==1.0.2\n",
    "```"
   ]
  },
  {
   "cell_type": "markdown",
   "id": "0bebfb3a",
   "metadata": {},
   "source": [
    "Usage of pipreqsnb:\n",
    "```bash\n",
    "Usage:\n",
    "    pipreqsnb [options] <path> \n",
    "\n",
    "Options:\n",
    "    --use-local           Use ONLY local package info instead of querying PyPI\n",
    "    --pypi-server <url>   Use custom PyPi server\n",
    "    --proxy <url>         Use Proxy, parameter will be passed to requests library. You can also just set the\n",
    "                          environments parameter in your terminal:\n",
    "                          $ export HTTP_PROXY=\"http://10.10.1.10:3128\"\n",
    "                          $ export HTTPS_PROXY=\"https://10.10.1.10:1080\"\n",
    "    --debug               Print debug information\n",
    "    --ignore <dirs>...    Ignore extra directories (sepparated by comma no space)\n",
    "    --encoding <charset>  Use encoding parameter for file open\n",
    "    --savepath <file>     Save the list of requirements in the given file\n",
    "    --print               Output the list of requirements in the standard output\n",
    "    --force               Overwrite existing requirements.txt\n",
    "    --diff <file>         Compare modules in requirements.txt to project imports.\n",
    "    --clean <file>        Clean up requirements.txt by removing modules that are not imported in project.\n",
    "    --no-pin              Omit version of output packages.\n",
    "```"
   ]
  },
  {
   "cell_type": "markdown",
   "id": "eb67f837",
   "metadata": {},
   "source": [
    "[Link to pipreqsnb](https://github.com/ivanlen/pipreqsnb)\n",
    "\n",
    "To generate requirements.txt for Python scripts, use [pipreqs](https://khuyentran1401.github.io/Efficient_Python_tricks_and_tools_for_data_scientists/Chapter6/env_management.html#pipreqs-generate-requirements-txt-file-for-any-project-based-on-imports) instead."
   ]
  }
 ],
 "metadata": {
  "celltoolbar": "Tags",
  "kernelspec": {
   "display_name": "Python 3",
   "language": "python",
   "name": "python3"
  },
  "language_info": {
   "codemirror_mode": {
    "name": "ipython",
    "version": 3
   },
   "file_extension": ".py",
   "mimetype": "text/x-python",
   "name": "python",
   "nbconvert_exporter": "python",
   "pygments_lexer": "ipython3",
   "version": "3.8.10"
  },
  "toc": {
   "base_numbering": 1,
   "nav_menu": {},
   "number_sections": true,
   "sideBar": true,
   "skip_h1_title": false,
   "title_cell": "Table of Contents",
   "title_sidebar": "Contents",
   "toc_cell": false,
   "toc_position": {},
   "toc_section_display": true,
   "toc_window_display": false
  }
 },
 "nbformat": 4,
 "nbformat_minor": 5
}
