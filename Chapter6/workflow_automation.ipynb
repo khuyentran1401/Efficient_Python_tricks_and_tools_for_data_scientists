{
 "cells": [
  {
   "attachments": {},
   "cell_type": "markdown",
   "id": "eab3d1c1",
   "metadata": {},
   "source": [
    "## Workflow Automation"
   ]
  },
  {
   "attachments": {},
   "cell_type": "markdown",
   "id": "38b43f4a",
   "metadata": {},
   "source": [
    "This section covers some tools to automate the workflow of your Python project such as scheduling a time to run your code, sending notifications when your program finishes, etc. "
   ]
  },
  {
   "attachments": {},
   "cell_type": "markdown",
   "id": "6964f392",
   "metadata": {},
   "source": [
    "### Schedule: Schedule your Python Functions to Run At a Specific Time"
   ]
  },
  {
   "attachments": {},
   "cell_type": "markdown",
   "id": "679307f5",
   "metadata": {},
   "source": [
    "If you want to schedule Python functions to run periodically at a certain day or time of the week, use schedule.\n",
    "\n",
    "In the code snippet below, I use schedule to get incoming data at 10:30 every day and train the model at 8:00 every Wednesday.\n",
    "\n",
    "```python\n",
    "import schedule \n",
    "import time \n",
    "\n",
    "def get_incoming_data():\n",
    "    print(\"Get incoming data\")\n",
    "\n",
    "def train_model():\n",
    "    print(\"Retraining model\")\n",
    "\n",
    "schedule.every().day.at(\"10:30\").do(get_incoming_data)\n",
    "schedule.every().wednesday.at(\"08:00\").do(train_model)\n",
    "\n",
    "while True:\n",
    "    schedule.run_pending()\n",
    "    time.sleep(1)\n",
    "```"
   ]
  },
  {
   "attachments": {},
   "cell_type": "markdown",
   "id": "734bae13",
   "metadata": {},
   "source": [
    "[Link to schedule](https://github.com/dbader/schedule)"
   ]
  },
  {
   "cell_type": "markdown",
   "id": "f6c7a2d0",
   "metadata": {},
   "source": [
    "### Rocketry: Modern Scheduling Library for Python"
   ]
  },
  {
   "cell_type": "markdown",
   "id": "e3299103",
   "metadata": {},
   "source": [
    "If you want to schedule Python functions using expressive and customized scheduling statements, use Rocketry. \n",
    "\n",
    "Unlike other tools, Rocketry doesn't make any assumptions about your project structure, making it perfect for fast and efficient automation projects."
   ]
  },
  {
   "cell_type": "markdown",
   "id": "e46b4c0d",
   "metadata": {},
   "source": [
    "```python\n",
    "from rocketry.conds import daily, time_of_week\n",
    "from pathlib import Path\n",
    "\n",
    "@app.cond()\n",
    "def file_exists(file):\n",
    "    return Path(file).exists()\n",
    "\n",
    "@app.task(daily.after(\"08:00\") & file_exists(\"myfile.csv\"))\n",
    "def do_work():\n",
    "    ...\n",
    "\n",
    "@app.task(hourly & time_of_day.between(\"22:00\", \"06:00\"))\n",
    "def do_hourly_at_night():\n",
    "    ...\n",
    "\n",
    "@app.task((weekly.on(\"Mon\") | weekly.on(\"Sat\")))\n",
    "def do_twice_a_week():\n",
    "    ...\n",
    "```"
   ]
  },
  {
   "cell_type": "markdown",
   "id": "7f7fe88b",
   "metadata": {},
   "source": [
    "[Link to Rocketry](https://github.com/Miksus/rocketry)."
   ]
  },
  {
   "attachments": {},
   "cell_type": "markdown",
   "id": "6b6d21f8",
   "metadata": {},
   "source": [
    "### notify-send: Send a Desktop Notification after Finishing Executing a File"
   ]
  },
  {
   "attachments": {},
   "cell_type": "markdown",
   "id": "bc5f69c3",
   "metadata": {},
   "source": [
    "If you want to receive a desktop notification after finishing executing a file in Linux, use notify-send.\n",
    "\n",
    "In the code below, after finishing executing `file_to_run.py`, you will receive a notification on the top of your screen to inform you that the process is terminated.\n",
    "\n",
    "```bash\n",
    "python file_to_run.py ; notify-send \"Process terminated\"\n",
    "```"
   ]
  },
  {
   "attachments": {},
   "cell_type": "markdown",
   "id": "dcb269fa",
   "metadata": {},
   "source": [
    "### Create Sound Notifications in Python in One Line of Code"
   ]
  },
  {
   "cell_type": "code",
   "execution_count": null,
   "id": "4c1b6ed6",
   "metadata": {
    "tags": [
     "hide-cell"
    ]
   },
   "outputs": [],
   "source": [
    "!pip install chime"
   ]
  },
  {
   "attachments": {},
   "cell_type": "markdown",
   "id": "21117897",
   "metadata": {},
   "source": [
    "To have your computer make a sound  when your Python code reaches a certain state, use chime. "
   ]
  },
  {
   "attachments": {},
   "cell_type": "markdown",
   "id": "af761e30",
   "metadata": {},
   "source": [
    "Try to run the following code and listen to the sound."
   ]
  },
  {
   "cell_type": "code",
   "execution_count": 17,
   "id": "b99f0e64",
   "metadata": {
    "ExecuteTime": {
     "end_time": "2022-07-20T14:10:01.415686Z",
     "start_time": "2022-07-20T14:10:01.409120Z"
    }
   },
   "outputs": [],
   "source": [
    "import chime"
   ]
  },
  {
   "cell_type": "code",
   "execution_count": 18,
   "id": "f28d625e",
   "metadata": {
    "ExecuteTime": {
     "end_time": "2022-07-20T14:12:04.108891Z",
     "start_time": "2022-07-20T14:12:04.092397Z"
    }
   },
   "outputs": [],
   "source": [
    "chime.success() "
   ]
  },
  {
   "cell_type": "code",
   "execution_count": 19,
   "id": "93efca6e",
   "metadata": {
    "ExecuteTime": {
     "end_time": "2022-07-20T14:10:07.967281Z",
     "start_time": "2022-07-20T14:10:07.953054Z"
    }
   },
   "outputs": [],
   "source": [
    "chime.warning()"
   ]
  },
  {
   "cell_type": "code",
   "execution_count": 20,
   "id": "9ea2e226",
   "metadata": {
    "ExecuteTime": {
     "end_time": "2022-07-20T14:10:09.359471Z",
     "start_time": "2022-07-20T14:10:09.344198Z"
    }
   },
   "outputs": [],
   "source": [
    "chime.error()"
   ]
  },
  {
   "cell_type": "code",
   "execution_count": 21,
   "id": "2c5ab235",
   "metadata": {
    "ExecuteTime": {
     "end_time": "2022-07-20T14:10:11.451082Z",
     "start_time": "2022-07-20T14:10:11.436931Z"
    }
   },
   "outputs": [],
   "source": [
    "chime.info()"
   ]
  },
  {
   "attachments": {},
   "cell_type": "markdown",
   "id": "d7cf3365",
   "metadata": {},
   "source": [
    "One application of using chime is to make a sound when there is an error in your code. "
   ]
  },
  {
   "cell_type": "code",
   "execution_count": 13,
   "id": "58741fd4",
   "metadata": {
    "ExecuteTime": {
     "end_time": "2022-07-20T14:28:43.262158Z",
     "start_time": "2022-07-20T14:28:43.243905Z"
    }
   },
   "outputs": [
    {
     "name": "stdout",
     "output_type": "stream",
     "text": [
      "You can't divide a number by 0!\n"
     ]
    }
   ],
   "source": [
    "a = 0\n",
    "try:\n",
    "    b = 2/a  \n",
    "except ZeroDivisionError:\n",
    "    print(\"You can't divide a number by 0!\")\n",
    "    chime.error()"
   ]
  },
  {
   "attachments": {},
   "cell_type": "markdown",
   "id": "86d4ef2d",
   "metadata": {},
   "source": [
    "[Link to chime](https://github.com/MaxHalford/chime)."
   ]
  },
  {
   "attachments": {},
   "cell_type": "markdown",
   "id": "b9d59c71",
   "metadata": {},
   "source": [
    "### knockknock: Receive an Email When Your Code Finishes Executing"
   ]
  },
  {
   "attachments": {},
   "cell_type": "markdown",
   "id": "392f46a9",
   "metadata": {},
   "source": [
    "It can take hours or days to train a model and you can be away from the computer when your model finishes training. Wouldn’t it be nice to receive an email when your code finishes executing? There is an app for that knock-knock.\n",
    "\n",
    "All it takes is one line of code specifying your email address."
   ]
  },
  {
   "attachments": {},
   "cell_type": "markdown",
   "id": "ea04ba5d",
   "metadata": {},
   "source": [
    "```python\n",
    "from knockknock import email_sender \n",
    "\n",
    "@email_sender(recipient_emails=['<your_email@address.com>', '<your_second_email@adress.com>'],\n",
    "sender_email=\"<grandma's_email@gmail.com>\")\n",
    "def train_your_nicest_model(your_nicest_parameters):\n",
    "    import time \n",
    "    time.sleep(10_000)\n",
    "    return {'loss': 0.9}\n",
    "```"
   ]
  },
  {
   "attachments": {},
   "cell_type": "markdown",
   "id": "49b16e21",
   "metadata": {},
   "source": [
    "You can even have it send to your slack channel so everybody in your team can see. See the docs of this library [here](https://github.com/huggingface/knockknock)."
   ]
  },
  {
   "attachments": {},
   "cell_type": "markdown",
   "id": "81aee63c",
   "metadata": {},
   "source": [
    "### Makefile: Organize Your Command Line"
   ]
  },
  {
   "attachments": {},
   "cell_type": "markdown",
   "id": "173af782",
   "metadata": {},
   "source": [
    "Do you use often use a sequence of commands to do a repetitive task? Wouldn't it be nice if you can call a sequence of commands using only one short command? That is when Makefile comes in handy.\n",
    "\n",
    "In the code below, I use Makefile to automate the workflow to set up an environment.  "
   ]
  },
  {
   "attachments": {},
   "cell_type": "markdown",
   "id": "3a33d45c",
   "metadata": {},
   "source": [
    "```yaml\n",
    "# Makefile\n",
    "\n",
    "activate:\n",
    "  @echo \"Activating virtual env\"\n",
    "  poetry shell\n",
    "  \n",
    "install: \n",
    "  @echo \"Installing...\"\n",
    "  poetry install\n",
    "\n",
    "pull_data:\n",
    "  @echo \"Pulling data...\"\n",
    "  dvc pull\n",
    "```"
   ]
  },
  {
   "attachments": {},
   "cell_type": "markdown",
   "id": "d271175c",
   "metadata": {},
   "source": [
    "If you run: \n",
    "```bash\n",
    "$ make activate\n",
    "```\n",
    "you should see something like below:\n",
    "```bash\n",
    "Activating virtual env\n",
    "poetry shell\n",
    "```"
   ]
  },
  {
   "attachments": {},
   "cell_type": "markdown",
   "id": "0061d230",
   "metadata": {},
   "source": [
    "You can run `activate`, `install`, and `pull_data` at the same time by putting all of those commands under `install_all`:\n",
    "```yaml\n",
    "# Makefile\n",
    "\n",
    "activate:\n",
    "  @echo \"Activating virtual env\"\n",
    "  poetry shell\n",
    "  \n",
    "install: \n",
    "  @echo \"Installing...\"\n",
    "  poetry install\n",
    "\n",
    "pull_data:\n",
    "  @echo \"Pulling data...\"\n",
    "  dvc pull\n",
    "\n",
    "install_all: \n",
    "  install activate pull_data\n",
    "```\n",
    "Now you can run the entire setup workflow by running only one command:\n",
    "\n",
    "```bash\n",
    "$ make install_all\n",
    "```\n",
    "Output:\n",
    "```bash\n",
    "Installing...\n",
    "poetry shell\n",
    "Activating environment\n",
    "poetry install\n",
    "Pulling data...\n",
    "dvc pull\n",
    "``` "
   ]
  },
  {
   "attachments": {},
   "cell_type": "markdown",
   "id": "f0cb19c1",
   "metadata": {},
   "source": [
    "I used Makefile to simplify the setup of my [customer_segmentation project](https://github.com/khuyentran1401/customer_segmentation).\n",
    "\n",
    "You can learn more about Makefile [here](https://opensource.com/article/18/8/what-how-makefile)."
   ]
  },
  {
   "attachments": {},
   "cell_type": "markdown",
   "id": "224627ac",
   "metadata": {},
   "source": [
    "### notedown: Create IPython Notebooks from Markdown and Vice Versa"
   ]
  },
  {
   "cell_type": "code",
   "execution_count": null,
   "id": "7f8fde10",
   "metadata": {
    "ExecuteTime": {
     "end_time": "2022-04-13T12:53:10.576133Z",
     "start_time": "2022-04-13T12:53:06.022315Z"
    },
    "tags": [
     "hide-cell"
    ]
   },
   "outputs": [],
   "source": [
    "!pip install notedown"
   ]
  },
  {
   "attachments": {},
   "cell_type": "markdown",
   "id": "8de89cb2",
   "metadata": {},
   "source": [
    "Sometimes you might want to convert your markdown file to a Jupyter Notebook for execution. If so, try notedown. notedown allows you to convert your markdown file to a Jupyter Notebook and vice versa."
   ]
  },
  {
   "attachments": {},
   "cell_type": "markdown",
   "id": "ed362656",
   "metadata": {},
   "source": [
    "To convert markdown file to a Jupyter Notebook with notedown, type:"
   ]
  },
  {
   "attachments": {},
   "cell_type": "markdown",
   "id": "9bd3699a",
   "metadata": {},
   "source": [
    "```bash\n",
    "$ notedown input.md >> output.ipynb \n",
    "```"
   ]
  },
  {
   "attachments": {},
   "cell_type": "markdown",
   "id": "ed30d320",
   "metadata": {},
   "source": [
    "To convert a Jupyter Notebook to a markdown file, type:"
   ]
  },
  {
   "attachments": {},
   "cell_type": "markdown",
   "id": "42c31ad5",
   "metadata": {
    "ExecuteTime": {
     "end_time": "2022-04-13T12:56:02.188428Z",
     "start_time": "2022-04-13T12:56:02.180450Z"
    }
   },
   "source": [
    "```bash\n",
    "$ notedown input.ipynb --to markdown >> output.md \n",
    "```"
   ]
  },
  {
   "attachments": {},
   "cell_type": "markdown",
   "id": "23f41a1d",
   "metadata": {},
   "source": [
    "[Link to notedown](https://github.com/aaren/notedown)."
   ]
  },
  {
   "attachments": {},
   "cell_type": "markdown",
   "id": "464d89fa",
   "metadata": {},
   "source": [
    "### Open a Website Using Python"
   ]
  },
  {
   "attachments": {},
   "cell_type": "markdown",
   "id": "5cbb40a5",
   "metadata": {},
   "source": [
    "If you want to open a website using Python, use webbrowser.\n",
    "\n",
    "For example, running the code below will open my website in your browser."
   ]
  },
  {
   "cell_type": "code",
   "execution_count": 1,
   "id": "dc674ce9",
   "metadata": {},
   "outputs": [
    {
     "data": {
      "text/plain": [
       "True"
      ]
     },
     "execution_count": 1,
     "metadata": {},
     "output_type": "execute_result"
    }
   ],
   "source": [
    "import webbrowser\n",
    "\n",
    "webbrowser.open_new(\"https://mathdatasimplified.com/\")"
   ]
  },
  {
   "attachments": {},
   "cell_type": "markdown",
   "id": "82e617df",
   "metadata": {},
   "source": [
    "[Link to webbrowser](https://docs.python.org/3/library/webbrowser.html)."
   ]
  },
  {
   "attachments": {},
   "cell_type": "markdown",
   "id": "4770eed0",
   "metadata": {},
   "source": [
    "### removestar: Automate Replacing Start Imports with Explicit Imports"
   ]
  },
  {
   "cell_type": "code",
   "execution_count": null,
   "id": "e367abe9",
   "metadata": {
    "tags": [
     "hide-cell"
    ]
   },
   "outputs": [],
   "source": [
    "!pip install removestar"
   ]
  },
  {
   "attachments": {},
   "cell_type": "markdown",
   "id": "c9d00f4a",
   "metadata": {},
   "source": [
    "It is a bad practice to use `import *` in Python because it is harder to track down the origin of variables and debug your code. However, writing numerous imports explicitly from a single module can be tedious.\n",
    "\n",
    "removestar allows you to automate replacing star imports with explicit imports."
   ]
  },
  {
   "cell_type": "code",
   "execution_count": null,
   "id": "88996d37",
   "metadata": {},
   "outputs": [],
   "source": [
    "%%writefile star_script.py  \n",
    "\n",
    "from math import *\n",
    "\n",
    "def square_root(num):\n",
    "    return sqrt(num)\n",
    "\n",
    "def deg_to_rad(degrees):\n",
    "    return radians(degrees)"
   ]
  },
  {
   "attachments": {},
   "cell_type": "markdown",
   "id": "b6fcd391",
   "metadata": {},
   "source": [
    "```bash\n",
    "# Shows diff but does not edit star_script.py\n",
    "$ removestar star_script.py \n",
    "```"
   ]
  },
  {
   "cell_type": "code",
   "execution_count": 2,
   "id": "349f5843",
   "metadata": {
    "tags": [
     "remove-input"
    ]
   },
   "outputs": [
    {
     "name": "stdout",
     "output_type": "stream",
     "text": [
      "--- original/star_script.py\n",
      "+++ fixed/star_script.py\n",
      "@@ -1,5 +1,5 @@\n",
      " \n",
      "-from math import *\n",
      "+from math import radians, sqrt\n",
      " \n",
      " def square_root(num):\n",
      "     return sqrt(num)\n",
      "\n"
     ]
    }
   ],
   "source": [
    "!removestar star_script.py "
   ]
  },
  {
   "attachments": {},
   "cell_type": "markdown",
   "id": "79326bf9",
   "metadata": {},
   "source": [
    "```bash\n",
    "# Edits star_script.py in-place\n",
    "$ removestar star_script.py -i\n",
    "```"
   ]
  },
  {
   "cell_type": "code",
   "execution_count": 3,
   "id": "e7556e61",
   "metadata": {
    "tags": [
     "remove-cell"
    ]
   },
   "outputs": [],
   "source": [
    "!removestar star_script.py -i"
   ]
  },
  {
   "cell_type": "code",
   "execution_count": null,
   "id": "ed2071ac",
   "metadata": {},
   "outputs": [],
   "source": [
    "# %load star_script.py\n",
    "\n",
    "from math import radians, sqrt\n",
    "\n",
    "def square_root(num):\n",
    "    return sqrt(num)\n",
    "\n",
    "def deg_to_rad(degrees):\n",
    "    return radians(degrees)"
   ]
  },
  {
   "attachments": {},
   "cell_type": "markdown",
   "id": "a34011c6",
   "metadata": {},
   "source": [
    "[Link to removestar](https://github.com/asmeurer/removestar)."
   ]
  },
  {
   "attachments": {},
   "cell_type": "markdown",
   "id": "f8ca7c60",
   "metadata": {},
   "source": [
    "### MonkeyType: Automatically Generate Static Type Annotations Based on Runtime Types"
   ]
  },
  {
   "cell_type": "code",
   "execution_count": null,
   "id": "2962fe05-4a9a-4036-9787-433f536416e9",
   "metadata": {},
   "outputs": [],
   "source": [
    "!pip install MonkeyType"
   ]
  },
  {
   "cell_type": "markdown",
   "id": "5ecfea4b-ed5d-46cc-bb1f-16d0296fb0f8",
   "metadata": {},
   "source": [
    "Writing type annotations manually for existing Python code is time-consuming, which results in developers often skipping this important step. This reduces code readability and makes it harder to catch type-related bugs through static analysis."
   ]
  },
  {
   "attachments": {},
   "cell_type": "markdown",
   "id": "0129b548",
   "metadata": {},
   "source": [
    "MonkeyType simplifies adding type annotations by automatically generating draft annotations based on the types collected at runtime, saving time and effort compared to manual annotation."
   ]
  },
  {
   "attachments": {},
   "cell_type": "markdown",
   "id": "6506d284",
   "metadata": {},
   "source": [
    "Let's say we have two files inside the folder monkey_example. The `utils.py` file contains the `get_mean` function and the `main.py` file calls the `get_mean` function. "
   ]
  },
  {
   "cell_type": "code",
   "execution_count": null,
   "id": "3d7be5d8",
   "metadata": {},
   "outputs": [],
   "source": [
    "%mkdir monkey_example\n",
    "%cd monkey_example"
   ]
  },
  {
   "cell_type": "code",
   "execution_count": 10,
   "id": "9c50d7d0",
   "metadata": {},
   "outputs": [
    {
     "name": "stdout",
     "output_type": "stream",
     "text": [
      "Writing utils.py\n"
     ]
    }
   ],
   "source": [
    "%%writefile utils.py \n",
    "def get_mean(num1, num2):\n",
    "    return (num1+num2)/2  "
   ]
  },
  {
   "cell_type": "code",
   "execution_count": 11,
   "id": "7a129521",
   "metadata": {},
   "outputs": [
    {
     "name": "stdout",
     "output_type": "stream",
     "text": [
      "Overwriting main.py\n"
     ]
    }
   ],
   "source": [
    "%%writefile main.py \n",
    "from utils import get_mean  \n",
    "\n",
    "get_mean(1, 3)"
   ]
  },
  {
   "attachments": {},
   "cell_type": "markdown",
   "id": "db39f0bd",
   "metadata": {},
   "source": [
    "We can infer the type annotation of `get_mean` in `utils.py` by running `main.py` with MonkeyType.\n",
    "\n",
    "```bash\n",
    "$ monkeytype run main.py \n",
    "```"
   ]
  },
  {
   "cell_type": "code",
   "execution_count": 12,
   "id": "fe268090",
   "metadata": {
    "tags": [
     "remove-input"
    ]
   },
   "outputs": [],
   "source": [
    "!monkeytype run main.py"
   ]
  },
  {
   "cell_type": "code",
   "execution_count": 13,
   "id": "d3f5115b-707c-458e-b149-647c9b0c68ba",
   "metadata": {},
   "outputs": [
    {
     "name": "stdout",
     "output_type": "stream",
     "text": [
      "def get_mean(num1: int, num2: int) -> float: ...\n"
     ]
    }
   ],
   "source": [
    "!monkeytype stub utils"
   ]
  },
  {
   "attachments": {},
   "cell_type": "markdown",
   "id": "ff7b7348",
   "metadata": {},
   "source": [
    "Then generate a stub file for a module:\n",
    "\n",
    "```bash\n",
    "$ monkeytype stub utils\n",
    "```"
   ]
  },
  {
   "cell_type": "code",
   "execution_count": 14,
   "id": "7764766a",
   "metadata": {
    "tags": [
     "remove-input"
    ]
   },
   "outputs": [
    {
     "name": "stdout",
     "output_type": "stream",
     "text": [
      "def get_mean(num1: int, num2: int) -> float: ...\n"
     ]
    }
   ],
   "source": [
    "!monkeytype stub utils  "
   ]
  },
  {
   "attachments": {},
   "cell_type": "markdown",
   "id": "c6679bee",
   "metadata": {},
   "source": [
    "or apply the type annotations directly to the code. \n",
    "\n",
    "```bash\n",
    "$ monkeytype apply utils \n",
    "```"
   ]
  },
  {
   "cell_type": "code",
   "execution_count": 15,
   "id": "5c8caae2",
   "metadata": {
    "tags": [
     "remove-input"
    ]
   },
   "outputs": [
    {
     "name": "stdout",
     "output_type": "stream",
     "text": [
      "def get_mean(num1: int, num2: int) -> float:\n",
      "    return (num1+num2)/2  \n",
      "\n"
     ]
    }
   ],
   "source": [
    "!monkeytype apply utils "
   ]
  },
  {
   "attachments": {},
   "cell_type": "markdown",
   "id": "f83c57de",
   "metadata": {},
   "source": [
    "While MonkeyType makes it very easy to add annotations, those annotations may not always match the full intended capability of the functions. For example, `get_mean` is capable of handling many more types than just integers. MonkeyType's annotations are an informative first draft that are meant to be checked and corrected by a developer. "
   ]
  },
  {
   "attachments": {},
   "cell_type": "markdown",
   "id": "e9dc3ea7",
   "metadata": {},
   "source": [
    "[Link to MonkeyType](https://github.com/Instagram/MonkeyType)."
   ]
  },
  {
   "attachments": {},
   "cell_type": "markdown",
   "id": "27654eeb",
   "metadata": {},
   "source": [
    "### whereami: Use Machine Learning to Predict Where You Are"
   ]
  },
  {
   "attachments": {},
   "cell_type": "markdown",
   "id": "963df8bd",
   "metadata": {},
   "source": [
    "If you want to predict where you are with machine learning and WiFi signals, use whereami. One application of whereami is to turn on Hue light bulbs in specific locations through your laptop. \n",
    "\n",
    "To predict your current location, start by collecting some samples by running `whereami learn -l location` in different locations. Once collecting at least 10 data points, run `whereami predict` to predict your current location."
   ]
  },
  {
   "attachments": {},
   "cell_type": "markdown",
   "id": "704532ee",
   "metadata": {},
   "source": [
    "```bash\n",
    "# Take a sample in the kitchen\n",
    "$ whereami learn -l kitchen\n",
    "\n",
    "# Take a sample in the bedroom\n",
    "$ whereami learn -l bedroom\n",
    "\n",
    "# Get learned locations\n",
    "$ whereami locations\n",
    "bedroom: 2\n",
    "office: 2\n",
    "kitchen: 3\n",
    "bathroom: 1\n",
    "livingroom: 2\n",
    "\n",
    "# Run prediction in the kitchen\n",
    "$ whereami predict\n",
    "kitchen\n",
    "```"
   ]
  },
  {
   "attachments": {},
   "cell_type": "markdown",
   "id": "5dda50a0",
   "metadata": {},
   "source": [
    "[Link to whereami](https://github.com/kootenpv/whereami)."
   ]
  },
  {
   "attachments": {},
   "cell_type": "markdown",
   "id": "5bcf1e26",
   "metadata": {},
   "source": [
    "### watchfiles: Rerun Code When a File Changes"
   ]
  },
  {
   "attachments": {},
   "cell_type": "markdown",
   "id": "89a459e2",
   "metadata": {},
   "source": [
    "If you want to automatically rerun a process when a file changes, use watchfiles.\n",
    "\n",
    "In the code below, the function `train` will run when the file `process_data.py` changes."
   ]
  },
  {
   "attachments": {},
   "cell_type": "markdown",
   "id": "0533edea",
   "metadata": {},
   "source": [
    "```python\n",
    "from watchfiles import run_process\n",
    "\n",
    "def train():\n",
    "    print(\"Detect changes in process_data.py. \" \n",
    "          \"Train the model again\")\n",
    "\n",
    "if __name__ == \"__main__\":\n",
    "    run_process(\"process_data.py\", target=train)\n",
    "```"
   ]
  },
  {
   "attachments": {},
   "cell_type": "markdown",
   "id": "7a8a459a",
   "metadata": {},
   "source": [
    "[Link to watchfiles](https://github.com/samuelcolvin/watchfiles)."
   ]
  },
  {
   "cell_type": "markdown",
   "id": "c8290de1",
   "metadata": {},
   "source": [
    "### PyTube: A Lightweight Python Library for Downloading YouTube Videos"
   ]
  },
  {
   "cell_type": "code",
   "execution_count": null,
   "id": "76002e70",
   "metadata": {
    "tags": [
     "hide-cell"
    ]
   },
   "outputs": [],
   "source": [
    "!pip install pytube"
   ]
  },
  {
   "cell_type": "markdown",
   "id": "0aebd3e3",
   "metadata": {},
   "source": [
    "pytube is a lightweight Python library that enables you to download YouTube videos and playlists in specific formats and resolutions."
   ]
  },
  {
   "cell_type": "code",
   "execution_count": 10,
   "id": "95e026d3",
   "metadata": {},
   "outputs": [],
   "source": [
    "# Get the video\n",
    "from pytube import YouTube\n",
    "\n",
    "yt = YouTube(\"https://youtu.be/UKCTvrJSoL0\")"
   ]
  },
  {
   "cell_type": "code",
   "execution_count": 11,
   "id": "4310d7e6",
   "metadata": {},
   "outputs": [
    {
     "data": {
      "text/plain": [
       "'Git for Data Scientists: Learn Git through Examples'"
      ]
     },
     "execution_count": 11,
     "metadata": {},
     "output_type": "execute_result"
    }
   ],
   "source": [
    "yt.title"
   ]
  },
  {
   "cell_type": "code",
   "execution_count": 12,
   "id": "ae83f93f",
   "metadata": {},
   "outputs": [
    {
     "data": {
      "text/plain": [
       "'https://i.ytimg.com/vi/UKCTvrJSoL0/hq720.jpg'"
      ]
     },
     "execution_count": 12,
     "metadata": {},
     "output_type": "execute_result"
    }
   ],
   "source": [
    "yt.thumbnail_url"
   ]
  },
  {
   "cell_type": "code",
   "execution_count": 20,
   "id": "39b2173f",
   "metadata": {},
   "outputs": [
    {
     "data": {
      "text/plain": [
       "[<Stream: itag=\"17\" mime_type=\"video/3gpp\" res=\"144p\" fps=\"8fps\" vcodec=\"mp4v.20.3\" acodec=\"mp4a.40.2\" progressive=\"True\" type=\"video\">, <Stream: itag=\"18\" mime_type=\"video/mp4\" res=\"360p\" fps=\"30fps\" vcodec=\"avc1.42001E\" acodec=\"mp4a.40.2\" progressive=\"True\" type=\"video\">, <Stream: itag=\"22\" mime_type=\"video/mp4\" res=\"720p\" fps=\"30fps\" vcodec=\"avc1.64001F\" acodec=\"mp4a.40.2\" progressive=\"True\" type=\"video\">, <Stream: itag=\"136\" mime_type=\"video/mp4\" res=\"720p\" fps=\"30fps\" vcodec=\"avc1.64001f\" progressive=\"False\" type=\"video\">, <Stream: itag=\"247\" mime_type=\"video/webm\" res=\"720p\" fps=\"30fps\" vcodec=\"vp9\" progressive=\"False\" type=\"video\">, <Stream: itag=\"135\" mime_type=\"video/mp4\" res=\"480p\" fps=\"30fps\" vcodec=\"avc1.4d401f\" progressive=\"False\" type=\"video\">, <Stream: itag=\"244\" mime_type=\"video/webm\" res=\"480p\" fps=\"30fps\" vcodec=\"vp9\" progressive=\"False\" type=\"video\">, <Stream: itag=\"134\" mime_type=\"video/mp4\" res=\"360p\" fps=\"30fps\" vcodec=\"avc1.4d401e\" progressive=\"False\" type=\"video\">, <Stream: itag=\"243\" mime_type=\"video/webm\" res=\"360p\" fps=\"30fps\" vcodec=\"vp9\" progressive=\"False\" type=\"video\">, <Stream: itag=\"133\" mime_type=\"video/mp4\" res=\"240p\" fps=\"30fps\" vcodec=\"avc1.4d4015\" progressive=\"False\" type=\"video\">, <Stream: itag=\"242\" mime_type=\"video/webm\" res=\"240p\" fps=\"30fps\" vcodec=\"vp9\" progressive=\"False\" type=\"video\">, <Stream: itag=\"160\" mime_type=\"video/mp4\" res=\"144p\" fps=\"30fps\" vcodec=\"avc1.4d400c\" progressive=\"False\" type=\"video\">, <Stream: itag=\"278\" mime_type=\"video/webm\" res=\"144p\" fps=\"30fps\" vcodec=\"vp9\" progressive=\"False\" type=\"video\">, <Stream: itag=\"139\" mime_type=\"audio/mp4\" abr=\"48kbps\" acodec=\"mp4a.40.5\" progressive=\"False\" type=\"audio\">, <Stream: itag=\"140\" mime_type=\"audio/mp4\" abr=\"128kbps\" acodec=\"mp4a.40.2\" progressive=\"False\" type=\"audio\">, <Stream: itag=\"249\" mime_type=\"audio/webm\" abr=\"50kbps\" acodec=\"opus\" progressive=\"False\" type=\"audio\">, <Stream: itag=\"250\" mime_type=\"audio/webm\" abr=\"70kbps\" acodec=\"opus\" progressive=\"False\" type=\"audio\">, <Stream: itag=\"251\" mime_type=\"audio/webm\" abr=\"160kbps\" acodec=\"opus\" progressive=\"False\" type=\"audio\">]"
      ]
     },
     "execution_count": 20,
     "metadata": {},
     "output_type": "execute_result"
    }
   ],
   "source": [
    "# list all streams\n",
    "yt.streams"
   ]
  },
  {
   "cell_type": "code",
   "execution_count": null,
   "id": "f5e2ade7",
   "metadata": {},
   "outputs": [],
   "source": [
    "# Filter by MIME type and resolution\n",
    "yt.streams.filter(mime_type=\"video/mp4\", res='720p').first().download()"
   ]
  },
  {
   "cell_type": "code",
   "execution_count": 14,
   "id": "f78b8551",
   "metadata": {},
   "outputs": [],
   "source": [
    "# Get a playlist\n",
    "from pytube import Playlist\n",
    "\n",
    "p = Playlist('https://youtube.com/playlist?list=PLnK6m_JBRVNoPnqnVrWaYtZ2G4nFTnGze&si=BK4o05iHmgqsyNK2')"
   ]
  },
  {
   "cell_type": "code",
   "execution_count": 15,
   "id": "65a573c5",
   "metadata": {},
   "outputs": [
    {
     "name": "stdout",
     "output_type": "stream",
     "text": [
      "Downloading: Fundamental\n"
     ]
    }
   ],
   "source": [
    "# Download all videos in the playlist\n",
    "print(f'Downloading: {p.title} ')\n",
    "for video in p.videos:\n",
    "    video.streams.first(mime_type=\"video/mp4\").download()"
   ]
  },
  {
   "cell_type": "markdown",
   "id": "b8b84026",
   "metadata": {},
   "source": [
    "[Link to pytube](https://github.com/pytube/pytube)."
   ]
  },
  {
   "cell_type": "markdown",
   "id": "cadcd0c5",
   "metadata": {},
   "source": [
    "### Magika: Detect File Content Types with Deep Learning"
   ]
  },
  {
   "cell_type": "code",
   "execution_count": null,
   "id": "fd791a58",
   "metadata": {
    "tags": [
     "hide-cell"
    ]
   },
   "outputs": [],
   "source": [
    "!pip install magika"
   ]
  },
  {
   "cell_type": "markdown",
   "id": "a4382593",
   "metadata": {},
   "source": [
    "Detecting file types helps identify malicious files disguised with false extensions, such as a .jpg that is actually malware.\n",
    "\n",
    "Magika, Google's AI-powered file type detection tool, uses deep learning for precise detection. In the following code, files have misleading extensions, but Magika still accurately detects their correct types."
   ]
  },
  {
   "cell_type": "code",
   "execution_count": 36,
   "id": "a9fed27a",
   "metadata": {},
   "outputs": [
    {
     "name": "stdout",
     "output_type": "stream",
     "text": [
      "Created 7 files in the 'examples' directory.\n"
     ]
    }
   ],
   "source": [
    "from pathlib import Path\n",
    "import shutil\n",
    "\n",
    "# Define the directory where files will be created\n",
    "directory = Path(\"examples\")\n",
    "\n",
    "# Ensure the directory exists\n",
    "directory.mkdir(exist_ok=True)\n",
    "\n",
    "# Empty the directory if it is not empty\n",
    "for item in directory.iterdir():\n",
    "    if item.is_dir():\n",
    "        shutil.rmtree(item)\n",
    "    else:\n",
    "        item.unlink()\n",
    "\n",
    "# Define the filenames and their respective content\n",
    "files = [\n",
    "    (\"plain_text.csv\", \"This is a plain text file.\"),\n",
    "    (\"csv.json\", \"id,name,age\\n1,John Doe,30\"),\n",
    "    (\"json.xml\", '{\"name\": \"John\", \"age\": 30}'),\n",
    "    (\"markdown.js\", \"# Heading 1\\nSome text.\"),\n",
    "    (\"python.ini\", 'print(\"Hello, World!\")'),\n",
    "    (\"js.yml\", 'console.log(\"Hello, World!\");'),\n",
    "    (\"yml.js\", \"name: John\\nage: 30\"),\n",
    "]\n",
    "\n",
    "# Create each file with the specified content\n",
    "for filename, content in files:\n",
    "    (directory / filename).write_text(content)\n",
    "\n",
    "print(f\"Created {len(files)} files in the '{directory}' directory.\")"
   ]
  },
  {
   "cell_type": "markdown",
   "id": "cacd7497",
   "metadata": {},
   "source": [
    "```bash\n",
    "$ magika -r examples\n",
    "```"
   ]
  },
  {
   "cell_type": "code",
   "execution_count": 37,
   "id": "de0d10ab",
   "metadata": {
    "tags": [
     "remove-input"
    ]
   },
   "outputs": [
    {
     "name": "stdout",
     "output_type": "stream",
     "text": [
      "\u001b[1;34mexamples/csv.json: CSV document (code)\u001b[0;39m\n",
      "\u001b[1;34mexamples/js.yml: JavaScript source (code)\u001b[0;39m\n",
      "\u001b[1;34mexamples/json.xml: JSON document (code)\u001b[0;39m\n",
      "\u001b[1;37mexamples/markdown.js: Markdown document (text)\u001b[0;39m\n",
      "\u001b[1;37mexamples/plain_text.csv: Generic text document (text)\u001b[0;39m\n",
      "\u001b[1;34mexamples/python.ini: Python source (code)\u001b[0;39m\n",
      "\u001b[1;34mexamples/yml.js: YAML source (code)\u001b[0;39m\n"
     ]
    }
   ],
   "source": [
    "!magika -r examples"
   ]
  },
  {
   "cell_type": "markdown",
   "id": "badeabd1",
   "metadata": {},
   "source": [
    "[Link to Magika](https://bit.ly/45tdw5O)."
   ]
  },
  {
   "cell_type": "markdown",
   "id": "fa50320a-3aba-4307-aaf4-e838d1ef43a5",
   "metadata": {},
   "source": [
    "### From Selenium to Helium: Writing Cleaner Browser Automation Code"
   ]
  },
  {
   "cell_type": "markdown",
   "id": "f49c1d93-e1b4-49f8-8b87-476e49fd0c5e",
   "metadata": {},
   "source": [
    "Writing browser automation scripts with traditional Selenium requires verbose code with explicit element locators (like XPaths, CSS selectors) and explicit waits, which is time-consuming to write and hard-to-maintain.\n",
    "\n",
    "\n",
    "```python\n",
    "from selenium import webdriver\n",
    "from selenium.webdriver.common.by import By\n",
    "from selenium.webdriver.support.ui import WebDriverWait\n",
    "from selenium.webdriver.support import expected_conditions as EC\n",
    "\n",
    "# Start Chrome\n",
    "\n",
    "with webdriver.Chrome() as driver:\n",
    "    # Navigate to GitHub login page\n",
    "    driver.get('https://github.com/login')\n",
    "\n",
    "    # Login\n",
    "    username_field = driver.find_element(By.ID, 'login_field')\n",
    "    password_field = driver.find_element(By.ID, 'password')\n",
    "    \n",
    "    username_field.send_keys('1mh')\n",
    "    password_field.send_keys('1Secretpw')\n",
    "    \n",
    "    login_button = driver.find_element(By.NAME, 'commit')\n",
    "    login_button.click()\n",
    "\n",
    "    # Navigate to repository\n",
    "    driver.get('https://github.com/mherrmann/helium')\n",
    "\n",
    "    # Wait for and click Star button\n",
    "    wait = WebDriverWait(driver, 10)\n",
    "    star_button = wait.until(EC.element_to_be_clickable((By.XPATH, \"//button[contains(text(), 'Star')]\")))\n",
    "    star_button.click()\n",
    "\n",
    "    # Wait for and click Unstar button\n",
    "    unstar_button = wait.until(EC.element_to_be_clickable((By.XPATH, \"//button[contains(text(), 'Unstar')]\")))\n",
    "    unstar_button.click()\n",
    "```"
   ]
  },
  {
   "cell_type": "markdown",
   "id": "7d875bb1-f637-4e06-9848-63b447786267",
   "metadata": {},
   "source": [
    "Helium provides high-level APIs that work with user-visible elements and handles waits automatically. With Helium, you can write more intuitive and maintainable browser automation code. \n",
    "\n",
    "\n",
    "\n",
    "```python\n",
    "from helium import *\n",
    "\n",
    "# Start Chrome and navigate to GitHub login page\n",
    "start_chrome('github.com/login')\n",
    "\n",
    "# Enter username and password\n",
    "write('1mh', into='Username')\n",
    "write('1Secretpw', into='Password')\n",
    "\n",
    "# Click the Sign in button\n",
    "click('Sign in')\n",
    "\n",
    "# Navigate to the Helium repository\n",
    "go_to('github.com/mherrmann/helium')\n",
    "\n",
    "# Star and then unstar the repository\n",
    "click(Button('Star'))\n",
    "click(Button('Unstar'))\n",
    "\n",
    "# Close the browser\n",
    "kill_browser()\n",
    "```"
   ]
  },
  {
   "cell_type": "markdown",
   "id": "504feba1-b4a5-4549-a027-f4fb259d54fa",
   "metadata": {},
   "source": [
    "[Link to Helium](https://github.com/mherrmann/helium)."
   ]
  }
 ],
 "metadata": {
  "celltoolbar": "Tags",
  "kernelspec": {
   "display_name": "Python 3 (ipykernel)",
   "language": "python",
   "name": "python3"
  },
  "language_info": {
   "codemirror_mode": {
    "name": "ipython",
    "version": 3
   },
   "file_extension": ".py",
   "mimetype": "text/x-python",
   "name": "python",
   "nbconvert_exporter": "python",
   "pygments_lexer": "ipython3",
   "version": "3.11.6"
  },
  "toc": {
   "base_numbering": 1,
   "nav_menu": {},
   "number_sections": true,
   "sideBar": true,
   "skip_h1_title": false,
   "title_cell": "Table of Contents",
   "title_sidebar": "Contents",
   "toc_cell": false,
   "toc_position": {},
   "toc_section_display": true,
   "toc_window_display": false
  }
 },
 "nbformat": 4,
 "nbformat_minor": 5
}
