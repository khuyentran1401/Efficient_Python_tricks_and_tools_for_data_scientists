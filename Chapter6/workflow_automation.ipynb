{
 "cells": [
  {
   "cell_type": "markdown",
   "id": "eab3d1c1",
   "metadata": {},
   "source": [
    "## Workflow Automation"
   ]
  },
  {
   "cell_type": "markdown",
   "id": "38b43f4a",
   "metadata": {},
   "source": [
    "This section covers some tools to automate the workflow of your Python project such as scheduling a time to run your code, sending notifications when your program finishes, etc. "
   ]
  },
  {
   "cell_type": "markdown",
   "id": "6964f392",
   "metadata": {},
   "source": [
    "### Schedule: Schedule your Python Functions to Run At a Specific Time"
   ]
  },
  {
   "cell_type": "markdown",
   "id": "679307f5",
   "metadata": {},
   "source": [
    "If you want to schedule Python functions to run periodically at a certain day or time of the week, use schedule.\n",
    "\n",
    "In the code snippet below, I use schedule to get incoming data at 10:30 every day and train the model at 8:00 every Wednesday.\n",
    "\n",
    "```python\n",
    "import schedule \n",
    "import time \n",
    "\n",
    "def get_incoming_data():\n",
    "    print(\"Get incoming data\")\n",
    "\n",
    "def train_model():\n",
    "    print(\"Retraining model\")\n",
    "\n",
    "schedule.every().day.at(\"10:30\").do(get_incoming_data)\n",
    "schedule.every().wednesday.at(\"08:00\").do(train_model)\n",
    "\n",
    "while True:\n",
    "    schedule.run_pending()\n",
    "    time.sleep(1)\n",
    "```"
   ]
  },
  {
   "cell_type": "markdown",
   "id": "734bae13",
   "metadata": {},
   "source": [
    "[Link to schedule](https://github.com/dbader/schedule)"
   ]
  },
  {
   "cell_type": "markdown",
   "id": "6b6d21f8",
   "metadata": {},
   "source": [
    "### notify-send: Send a Desktop Notification after Finishing Executing a File"
   ]
  },
  {
   "cell_type": "markdown",
   "id": "bc5f69c3",
   "metadata": {},
   "source": [
    "If you want to receive a desktop notification after finishing executing a file in Linux, use notify-send.\n",
    "\n",
    "In the code below, after finishing executing `file_to_run.py`, you will receive a notification on the top of your screen to inform you that the process is terminated.\n",
    "\n",
    "```bash\n",
    "python file_to_run.py ; notify-send \"Process terminated\"\n",
    "```"
   ]
  },
  {
   "cell_type": "markdown",
   "id": "b9d59c71",
   "metadata": {},
   "source": [
    "### knockknock: Receive an Email When Your Code Finishes Executing"
   ]
  },
  {
   "cell_type": "markdown",
   "id": "392f46a9",
   "metadata": {},
   "source": [
    "It can take hours or days to train a model and you can be away from the computer when your model finishes training. Wouldn’t it be nice to receive an email when your code finishes executing? There is an app for that knock-knock.\n",
    "\n",
    "All it takes is one line of code specifying your email address."
   ]
  },
  {
   "cell_type": "markdown",
   "id": "ea04ba5d",
   "metadata": {},
   "source": [
    "```python\n",
    "from knockknock import email_sender \n",
    "\n",
    "@email_sender(recipient_emails=['<your_email@address.com>', '<your_second_email@adress.com>'],\n",
    "sender_email=\"<grandma's_email@gmail.com>\")\n",
    "def train_your_nicest_model(your_nicest_parameters):\n",
    "    import time \n",
    "    time.sleep(10_000)\n",
    "    return {'loss': 0.9}\n",
    "```"
   ]
  },
  {
   "cell_type": "markdown",
   "id": "49b16e21",
   "metadata": {},
   "source": [
    "You can even have it send to your slack channel so everybody in your team can see. See the docs of this library [here](https://github.com/huggingface/knockknock)."
   ]
  },
  {
   "cell_type": "markdown",
   "id": "81aee63c",
   "metadata": {},
   "source": [
    "### Makefile: Organize Your Command Line"
   ]
  },
  {
   "cell_type": "markdown",
   "id": "173af782",
   "metadata": {},
   "source": [
    "Do you use often use a sequence of commands to do a repetitive task? Wouldn't it be nice if you can call a sequence of commands using only one short command? That is when Makefile comes in handy.\n",
    "\n",
    "In the code below, I use Makefile to automate the workflow to set up an environment.  "
   ]
  },
  {
   "cell_type": "markdown",
   "id": "3a33d45c",
   "metadata": {},
   "source": [
    "```yaml\n",
    "# Makefile\n",
    "\n",
    "activate:\n",
    "  @echo \"Activating virtual env\"\n",
    "  poetry shell\n",
    "  \n",
    "install: \n",
    "  @echo \"Installing...\"\n",
    "  poetry install\n",
    "\n",
    "pull_data:\n",
    "  @echo \"Pulling data...\"\n",
    "  dvc pull\n",
    "```"
   ]
  },
  {
   "cell_type": "markdown",
   "id": "d271175c",
   "metadata": {},
   "source": [
    "If you run: \n",
    "```bash\n",
    "$ make activate\n",
    "```\n",
    "you should see something like below:\n",
    "```bash\n",
    "Activating virtual env\n",
    "poetry shell\n",
    "```"
   ]
  },
  {
   "cell_type": "markdown",
   "id": "0061d230",
   "metadata": {},
   "source": [
    "You can run `activate`, `install`, and `pull_data` at the same time by putting all of those commands under `install_all`:\n",
    "```yaml\n",
    "# Makefile\n",
    "\n",
    "activate:\n",
    "  @echo \"Activating virtual env\"\n",
    "  poetry shell\n",
    "  \n",
    "install: \n",
    "  @echo \"Installing...\"\n",
    "  poetry install\n",
    "\n",
    "pull_data:\n",
    "  @echo \"Pulling data...\"\n",
    "  dvc pull\n",
    "\n",
    "install_all: \n",
    "  install activate pull_data\n",
    "```\n",
    "Now you can run the entire setup workflow by running only one command:\n",
    "\n",
    "```bash\n",
    "$ make install_all\n",
    "```\n",
    "Output:\n",
    "```bash\n",
    "Installing...\n",
    "poetry shell\n",
    "Activating environment\n",
    "poetry install\n",
    "Pulling data...\n",
    "dvc pull\n",
    "``` "
   ]
  },
  {
   "cell_type": "markdown",
   "id": "f0cb19c1",
   "metadata": {},
   "source": [
    "I used Makefile to simplify the setup of my [customer_segmentation project](https://github.com/khuyentran1401/customer_segmentation).\n",
    "\n",
    "You can learn more about Makefile [here](https://opensource.com/article/18/8/what-how-makefile)."
   ]
  },
  {
   "cell_type": "markdown",
   "id": "224627ac",
   "metadata": {},
   "source": [
    "### notedown: Create IPython Notebooks from Markdown and Vice Versa"
   ]
  },
  {
   "cell_type": "code",
   "execution_count": null,
   "id": "7f8fde10",
   "metadata": {
    "ExecuteTime": {
     "end_time": "2022-04-13T12:53:10.576133Z",
     "start_time": "2022-04-13T12:53:06.022315Z"
    },
    "tags": [
     "hide-cell"
    ]
   },
   "outputs": [],
   "source": [
    "!pip install notedown"
   ]
  },
  {
   "cell_type": "markdown",
   "id": "8de89cb2",
   "metadata": {},
   "source": [
    "Sometimes you might want to convert your markdown file to a Jupyter Notebook for execution. If so, try notedown. notedown allows you to convert your markdown file to a Jupyter Notebook and vice versa."
   ]
  },
  {
   "cell_type": "markdown",
   "id": "ed362656",
   "metadata": {},
   "source": [
    "To convert markdown file to a Jupyter Notebook with notedown, type:"
   ]
  },
  {
   "cell_type": "markdown",
   "id": "9bd3699a",
   "metadata": {},
   "source": [
    "```bash\n",
    "$ notedown input.md >> output.ipynb \n",
    "```"
   ]
  },
  {
   "cell_type": "markdown",
   "id": "ed30d320",
   "metadata": {},
   "source": [
    "To convert a Jupyter Notebook to a markdown file, type:"
   ]
  },
  {
   "cell_type": "markdown",
   "id": "42c31ad5",
   "metadata": {
    "ExecuteTime": {
     "end_time": "2022-04-13T12:56:02.188428Z",
     "start_time": "2022-04-13T12:56:02.180450Z"
    }
   },
   "source": [
    "```bash\n",
    "$ notedown input.ipynb --to markdown >> output.md \n",
    "```"
   ]
  },
  {
   "cell_type": "markdown",
   "id": "23f41a1d",
   "metadata": {},
   "source": [
    "[Link to notedown](https://github.com/aaren/notedown)."
   ]
  }
 ],
 "metadata": {
  "celltoolbar": "Tags",
  "kernelspec": {
   "display_name": "Data-science",
   "language": "python",
   "name": "data-science"
  },
  "language_info": {
   "codemirror_mode": {
    "name": "ipython",
    "version": 3
   },
   "file_extension": ".py",
   "mimetype": "text/x-python",
   "name": "python",
   "nbconvert_exporter": "python",
   "pygments_lexer": "ipython3",
   "version": "3.8.10"
  },
  "toc": {
   "base_numbering": 1,
   "nav_menu": {},
   "number_sections": true,
   "sideBar": true,
   "skip_h1_title": false,
   "title_cell": "Table of Contents",
   "title_sidebar": "Contents",
   "toc_cell": false,
   "toc_position": {},
   "toc_section_display": true,
   "toc_window_display": false
  }
 },
 "nbformat": 4,
 "nbformat_minor": 5
}
