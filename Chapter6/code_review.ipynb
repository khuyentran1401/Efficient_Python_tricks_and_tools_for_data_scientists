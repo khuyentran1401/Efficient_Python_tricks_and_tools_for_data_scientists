{
 "cells": [
  {
   "cell_type": "markdown",
   "id": "39d99ae8",
   "metadata": {},
   "source": [
    "## Code Review"
   ]
  },
  {
   "cell_type": "markdown",
   "id": "939fb1bf",
   "metadata": {},
   "source": [
    "This section covers some tools to automatically review and improve your code such as sorting imports, check for missing docstrings, etc. "
   ]
  },
  {
   "cell_type": "markdown",
   "id": "3bbec868",
   "metadata": {},
   "source": [
    "### isort: Automatically Sort your Python Imports in 1 Line of Code"
   ]
  },
  {
   "cell_type": "markdown",
   "id": "5445f4a3",
   "metadata": {},
   "source": [
    "When your code grows bigger, you might need to import a lot of libraries, and it can be confusing to look at. Instead of manually organing your imports, use isort.\n",
    "\n",
    "isort is a Python library to sort imports alphabetically and automatically separated into sections and by type. You just need to use `isort name_of_your_file.py` to sort your imports.\n",
    "\n",
    "Below is how the imports look like before sorting.\n",
    "\n"
   ]
  },
  {
   "cell_type": "markdown",
   "id": "5b626941",
   "metadata": {},
   "source": [
    "```python\n",
    "from sklearn.metrics import confusion_matrix, fl_score, classification_report, roc_curve\n",
    "from sklearn.model_selection import train_test_split\n",
    "from sklearn.model_selection import GridSearchCV, StratifiedKFold\n",
    "from sklearn import svm\n",
    "from sklearn.naive_bayes import GaussianNB, MultinomialNB\n",
    "from sklearn.neighbors import KNeighborsClassifier\n",
    "from sklearn.tree import DecisionTreeClassifier\n",
    "from sklearn.model_selection import TimeSeriesSplit\n",
    "```\n",
    "\n",
    "On your terminal, type:\n",
    "```bash\n",
    "isort name_of_your_file.py\n",
    "```\n",
    "\n",
    "Now the imports are much more organized!\n",
    "```python\n",
    "from sklearn import svm\n",
    "from sklearn.metrics import (classification_report, confusion_matrix, fl_score,\n",
    "                             roc_curve)\n",
    "from sklearn.model_selection import (GridSearchCV, StratifiedKFold,\n",
    "                                     TimeSeriesSplit, train_test_split)\n",
    "from sklearn.naive_bayes import GaussianNB, MultinomialNB\n",
    "from sklearn.neighbors import KNeighborsClassifier\n",
    "from sklearn.tree import DecisionTreeClassifier\n",
    "```"
   ]
  },
  {
   "cell_type": "markdown",
   "id": "880ee7ff",
   "metadata": {},
   "source": [
    "[Link to isort](https://github.com/pycqa/isort)."
   ]
  },
  {
   "cell_type": "markdown",
   "id": "e5a74256",
   "metadata": {},
   "source": [
    "### interrogate: Check your Python Code for Missing Docstrings"
   ]
  },
  {
   "cell_type": "code",
   "execution_count": null,
   "id": "6a9ea660",
   "metadata": {
    "tags": [
     "hide-cell"
    ]
   },
   "outputs": [],
   "source": [
    "!pip install interrogate  "
   ]
  },
  {
   "cell_type": "markdown",
   "id": "451fbb78",
   "metadata": {},
   "source": [
    "Sometimes, you might forget to write docstrings for classes and functions. Instead of manually looking at all your functions and classes for missing docstrings, use interrogate instead.\n",
    "\n",
    "In the code below, I use interrogate to check for missing docstrings in the file `interrogate_example.py`."
   ]
  },
  {
   "cell_type": "markdown",
   "id": "9c7eeca5",
   "metadata": {},
   "source": [
    "```python\n",
    "# interrogate_example.py\n",
    "class Math:\n",
    "    def __init__(self, num) -> None:\n",
    "        self.num = num\n",
    "\n",
    "    def plus_two(self):\n",
    "        \"\"\"Add 2\"\"\"\n",
    "        return self.num + 2\n",
    "\n",
    "    def multiply_three(self):\n",
    "        return self.num * 3\n",
    "```"
   ]
  },
  {
   "cell_type": "markdown",
   "id": "98452d8c",
   "metadata": {},
   "source": [
    "On your terminal, type:\n",
    "```bash\n",
    "interrogate interrogate_example.py\n",
    "```\n",
    "Output:"
   ]
  },
  {
   "cell_type": "code",
   "execution_count": 29,
   "id": "431def18",
   "metadata": {
    "ExecuteTime": {
     "end_time": "2021-09-12T13:52:14.673077Z",
     "start_time": "2021-09-12T13:52:14.294768Z"
    },
    "tags": [
     "hide-input"
    ]
   },
   "outputs": [
    {
     "name": "stdout",
     "output_type": "stream",
     "text": [
      "RESULT: FAILED (minimum: 80.0%, actual: 20.0%)\r\n",
      "\u001b[0m"
     ]
    }
   ],
   "source": [
    "!interrogate interrogate_example.py"
   ]
  },
  {
   "cell_type": "markdown",
   "id": "47a9290b",
   "metadata": {},
   "source": [
    "To automatically check for missing docstrings whenever you commit new files, add interrogate to your pre-commit hooks. [Here](https://towardsdatascience.com/4-pre-commit-plugins-to-automate-code-reviewing-and-formatting-in-python-c80c6d2e9f5#1bec) is how to do that."
   ]
  },
  {
   "cell_type": "markdown",
   "id": "4fe515d8",
   "metadata": {},
   "source": [
    "[Link to interrogate](https://interrogate.readthedocs.io/en/latest/)."
   ]
  },
  {
   "cell_type": "markdown",
   "id": "d70db553",
   "metadata": {},
   "source": [
    "### mypy: Static Type Checker for Python\n"
   ]
  },
  {
   "cell_type": "code",
   "execution_count": null,
   "id": "65ede34e",
   "metadata": {
    "tags": [
     "hide-cell"
    ]
   },
   "outputs": [],
   "source": [
    "!pip install mypy "
   ]
  },
  {
   "cell_type": "markdown",
   "id": "da94aed2",
   "metadata": {},
   "source": [
    "Type hinting in Python is useful for other developers to understand which data types to insert into your function. To automatically type check your code, use mypy. \n",
    "\n",
    "To see how mypy works, start with writing a normal code that uses type hinting. We name this file `mypy_example.py`"
   ]
  },
  {
   "cell_type": "markdown",
   "id": "0d19ec26",
   "metadata": {},
   "source": [
    "```python\n",
    "# mypy_example.py\n",
    "from typing import List, Union\n",
    "\n",
    "def get_name_price(fruits: list) -> Union[list, tuple]:\n",
    "    return zip(*fruits)\n",
    "\n",
    "fruits = [('apple', 2), ('orange', 3), ('grape', 2)]\n",
    "names, prices = get_name_price(fruits)\n",
    "print(names)  # ('apple', 'orange', 'grape')\n",
    "print(prices)  # (2, 3, 2)\n",
    "```"
   ]
  },
  {
   "cell_type": "markdown",
   "id": "bb0e047a",
   "metadata": {},
   "source": [
    "On your terminal, type:\n",
    "```bash\n",
    "mypy mypy_example.py\n",
    "```\n",
    "And you should see something like below:"
   ]
  },
  {
   "cell_type": "code",
   "execution_count": 31,
   "id": "4734152f",
   "metadata": {
    "ExecuteTime": {
     "end_time": "2021-09-12T13:57:57.497228Z",
     "start_time": "2021-09-12T13:57:57.131001Z"
    },
    "tags": [
     "hide-input"
    ]
   },
   "outputs": [
    {
     "name": "stdout",
     "output_type": "stream",
     "text": [
      "mypy_example.py:4: \u001b[1m\u001b[31merror:\u001b[m Incompatible return value type (got \u001b[m\u001b[1m\"zip[Any]\"\u001b[m, expected \u001b[m\u001b[1m\"Union[List[Any], Tuple[Any, ...]]\"\u001b[m)\u001b[m\r\n",
      "\u001b[1m\u001b[31mFound 1 error in 1 file (checked 1 source file)\u001b[m\r\n"
     ]
    }
   ],
   "source": [
    "!mypy mypy_example.py"
   ]
  },
  {
   "cell_type": "markdown",
   "id": "04abb07f",
   "metadata": {},
   "source": [
    "[Link to mypy](https://mypy.readthedocs.io/en/latest/introduction.html)."
   ]
  },
  {
   "cell_type": "code",
   "execution_count": null,
   "id": "314373e0",
   "metadata": {},
   "outputs": [],
   "source": []
  }
 ],
 "metadata": {
  "kernelspec": {
   "display_name": "Python 3 (ipykernel)",
   "language": "python",
   "name": "python3"
  },
  "language_info": {
   "codemirror_mode": {
    "name": "ipython",
    "version": 3
   },
   "file_extension": ".py",
   "mimetype": "text/x-python",
   "name": "python",
   "nbconvert_exporter": "python",
   "pygments_lexer": "ipython3",
   "version": "3.8.10"
  },
  "toc": {
   "base_numbering": 1,
   "nav_menu": {},
   "number_sections": true,
   "sideBar": true,
   "skip_h1_title": false,
   "title_cell": "Table of Contents",
   "title_sidebar": "Contents",
   "toc_cell": false,
   "toc_position": {},
   "toc_section_display": true,
   "toc_window_display": false
  }
 },
 "nbformat": 4,
 "nbformat_minor": 5
}
