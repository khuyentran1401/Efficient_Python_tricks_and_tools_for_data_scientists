{
 "cells": [
  {
   "cell_type": "markdown",
   "id": "eca1af78",
   "metadata": {},
   "source": [
    "## Better Outputs"
   ]
  },
  {
   "cell_type": "markdown",
   "id": "228febf0",
   "metadata": {},
   "source": [
    "### How to Strip Outputs and Execute Interactive Code in a Python Script\n"
   ]
  },
  {
   "cell_type": "code",
   "execution_count": null,
   "id": "fd47bc73",
   "metadata": {
    "tags": [
     "hide-cell"
    ]
   },
   "outputs": [],
   "source": [
    "!pip install strip-interactive"
   ]
  },
  {
   "cell_type": "markdown",
   "id": "2f883d72",
   "metadata": {},
   "source": [
    "Have you ever seen a tutorial with an interactive Python code and wished to execute it in a Python script like above?\n",
    "\n",
    "It might be time-consuming to delete all `>>>` symbols and remove all outputs, especially when the code is long. That is why I created strip-interactive."
   ]
  },
  {
   "cell_type": "code",
   "execution_count": 3,
   "id": "76d79595",
   "metadata": {
    "ExecuteTime": {
     "end_time": "2021-09-12T13:09:01.220320Z",
     "start_time": "2021-09-12T13:09:01.210675Z"
    }
   },
   "outputs": [
    {
     "name": "stdout",
     "output_type": "stream",
     "text": [
      "[1 2 3]\n",
      "[4 5 6]\n",
      "\n"
     ]
    }
   ],
   "source": [
    "from strip_interactive import run_interactive\n",
    "\n",
    "code = \"\"\"\n",
    ">>> import numpy as np\n",
    ">>> print(np.array([1,2,3]))\n",
    "[1 2 3]\n",
    ">>> print(np.array([4,5,6]))\n",
    "[4 5 6]\n",
    "\"\"\"\n",
    "\n",
    "clean_code = run_interactive(code)"
   ]
  },
  {
   "cell_type": "markdown",
   "id": "47b33c26",
   "metadata": {},
   "source": [
    "[Link to the article about strip-interactive](https://towardsdatascience.com/how-to-strip-outputs-and-execute-interactive-code-in-a-python-script-6d4c5da3beb0?sk=1db3d887884ad2429b9c78e1c72a2a4d).\n",
    "\n",
    "[Link to strip-interactive](https://github.com/khuyentran1401/strip_interactive)."
   ]
  },
  {
   "cell_type": "markdown",
   "id": "1655b404",
   "metadata": {},
   "source": [
    "### Pyfiglet: Make Large and Unique Letters Out of Ordinary Text in Python"
   ]
  },
  {
   "cell_type": "code",
   "execution_count": null,
   "id": "f01020ea",
   "metadata": {
    "tags": [
     "hide-cell"
    ]
   },
   "outputs": [],
   "source": [
    "!pip install pyfiglet"
   ]
  },
  {
   "cell_type": "markdown",
   "id": "8cb69dc6",
   "metadata": {},
   "source": [
    "If you want to make large and unique letters out of ordinary text using Python, try pyfiglet. Below are some outputs of pyfiglet:"
   ]
  },
  {
   "cell_type": "code",
   "execution_count": 18,
   "id": "4c6dbae6",
   "metadata": {
    "ExecuteTime": {
     "end_time": "2021-09-12T13:19:05.495028Z",
     "start_time": "2021-09-12T13:19:05.472121Z"
    }
   },
   "outputs": [
    {
     "name": "stdout",
     "output_type": "stream",
     "text": [
      " _   _      _ _       \n",
      "| | | | ___| | | ___  \n",
      "| |_| |/ _ \\ | |/ _ \\ \n",
      "|  _  |  __/ | | (_) |\n",
      "|_| |_|\\___|_|_|\\___/ \n",
      "                      \n",
      "\n"
     ]
    }
   ],
   "source": [
    "import pyfiglet\n",
    "from termcolor import colored, cprint\n",
    "\n",
    "out = pyfiglet.figlet_format(\"Hello\")\n",
    "print(out)"
   ]
  },
  {
   "cell_type": "code",
   "execution_count": 20,
   "id": "d3ba14e3",
   "metadata": {
    "ExecuteTime": {
     "end_time": "2021-09-12T13:19:21.005995Z",
     "start_time": "2021-09-12T13:19:20.991323Z"
    }
   },
   "outputs": [
    {
     "name": "stdout",
     "output_type": "stream",
     "text": [
      "    __  __     ____    \n",
      "   / / / /__  / / /___ \n",
      "  / /_/ / _ \\/ / / __ \\\n",
      " / __  /  __/ / / /_/ /\n",
      "/_/ /_/\\___/_/_/\\____/ \n",
      "                       \n",
      "\n"
     ]
    }
   ],
   "source": [
    "out = pyfiglet.figlet_format(\"Hello\", font='slant')\n",
    "print(out)"
   ]
  },
  {
   "cell_type": "code",
   "execution_count": 21,
   "id": "80fc7dd4",
   "metadata": {
    "ExecuteTime": {
     "end_time": "2021-09-12T13:19:23.008693Z",
     "start_time": "2021-09-12T13:19:22.998546Z"
    }
   },
   "outputs": [
    {
     "name": "stdout",
     "output_type": "stream",
     "text": [
      "\u001b[34m __  __         .    .         \n",
      " |   |    ___   |    |     __. \n",
      " |___|  .'   `  |    |   .'   \\\n",
      " |   |  |----'  |    |   |    |\n",
      " /   /  `.___, /\\__ /\\__  `._.'\n",
      "                               \n",
      "\u001b[0m\n"
     ]
    }
   ],
   "source": [
    "cprint(pyfiglet.figlet_format('Hello', font='bell'), 'blue')"
   ]
  },
  {
   "cell_type": "markdown",
   "id": "0a489579",
   "metadata": {},
   "source": [
    "This could be used as the welcome message for your Python package 🙂"
   ]
  },
  {
   "cell_type": "markdown",
   "id": "a0362878",
   "metadata": {},
   "source": [
    "[Link to pyfiglet](https://github.com/pwaller/pyfiglet).\n",
    "\n",
    "[Link to termcolor](https://pypi.org/project/termcolor/)."
   ]
  },
  {
   "attachments": {},
   "cell_type": "markdown",
   "id": "70ccae85",
   "metadata": {},
   "source": [
    "### Python Fire: Generate a CLI for Any Python Objects in Two Lines of Code"
   ]
  },
  {
   "cell_type": "code",
   "execution_count": null,
   "id": "67ab2de3",
   "metadata": {
    "tags": [
     "hide-cell"
    ]
   },
   "outputs": [],
   "source": [
    "!pip install fire"
   ]
  },
  {
   "attachments": {},
   "cell_type": "markdown",
   "id": "d4cd017b",
   "metadata": {},
   "source": [
    "Have you ever wanted to adjust the values of Python objects from the command line, but found it inconvenient to do so?  With Python Fire, you can easily generate a command-line interface for any Python object in just two lines of code."
   ]
  },
  {
   "attachments": {},
   "cell_type": "markdown",
   "id": "85b919ae",
   "metadata": {},
   "source": [
    "To see how Python Fire works, let's look at an example. Start with creating file named `fire_example.py`:"
   ]
  },
  {
   "cell_type": "code",
   "execution_count": 2,
   "id": "b678a83b",
   "metadata": {},
   "outputs": [
    {
     "name": "stdout",
     "output_type": "stream",
     "text": [
      "Writing fire_example.py\n"
     ]
    }
   ],
   "source": [
    "%%writefile fire_example.py\n",
    "import fire\n",
    "\n",
    "\n",
    "def get_mean(numbers: list):\n",
    "    return sum(numbers) / len(numbers)\n",
    "\n",
    "\n",
    "def get_modulo(num1: int, num2: int):\n",
    "    return num1 % num2\n",
    "\n",
    "\n",
    "if __name__ == \"__main__\":\n",
    "    fire.Fire()"
   ]
  },
  {
   "attachments": {},
   "cell_type": "markdown",
   "id": "1a7a1599",
   "metadata": {},
   "source": [
    "Then run the following command on your terminal:\n",
    "\n",
    "```bash\n",
    "$ python fire_example.py get_mean \"[1, 2, 3]\"\n",
    "```"
   ]
  },
  {
   "cell_type": "code",
   "execution_count": 3,
   "id": "17f23aae",
   "metadata": {
    "tags": [
     "remove-input"
    ]
   },
   "outputs": [
    {
     "name": "stdout",
     "output_type": "stream",
     "text": [
      "2.0\n"
     ]
    }
   ],
   "source": [
    "!python fire_example.py get_mean \"[1, 2, 3]\""
   ]
  },
  {
   "attachments": {},
   "cell_type": "markdown",
   "id": "78cccf6d",
   "metadata": {},
   "source": [
    "```bash\n",
    "$ python fire_example.py get_modulo --num1=3 --num2=2\n",
    "```"
   ]
  },
  {
   "cell_type": "code",
   "execution_count": 4,
   "id": "a33bdc68",
   "metadata": {
    "tags": [
     "remove-input"
    ]
   },
   "outputs": [
    {
     "name": "stdout",
     "output_type": "stream",
     "text": [
      "1\n"
     ]
    }
   ],
   "source": [
    "!python fire_example.py get_modulo --num1=3 --num2=2"
   ]
  },
  {
   "attachments": {},
   "cell_type": "markdown",
   "id": "38526646",
   "metadata": {},
   "source": [
    "[Link to Python Fire](https://github.com/google/python-fire)."
   ]
  },
  {
   "cell_type": "markdown",
   "id": "8f4c1524",
   "metadata": {},
   "source": [
    "### Typer: Build a Command-Line Interface in a Few Lines of Code"
   ]
  },
  {
   "cell_type": "code",
   "execution_count": null,
   "id": "03b116e5",
   "metadata": {
    "tags": [
     "hide-cell"
    ]
   },
   "outputs": [],
   "source": [
    "!pip install typer "
   ]
  },
  {
   "attachments": {},
   "cell_type": "markdown",
   "id": "1d929e78",
   "metadata": {},
   "source": [
    "While Python Fire is easy to use, it doesn't provide much flexibility in terms of customization. Typer offers tools for building CLI applications in Python with a more explicit syntax. Typer also uses type annotations to validate user input."
   ]
  },
  {
   "attachments": {},
   "cell_type": "markdown",
   "id": "0db31d75",
   "metadata": {},
   "source": [
    "To see how Typer works, let's look at an example. Start with creating file named `typer_example.py`:"
   ]
  },
  {
   "cell_type": "code",
   "execution_count": 3,
   "id": "0376d21d",
   "metadata": {},
   "outputs": [
    {
     "name": "stdout",
     "output_type": "stream",
     "text": [
      "Writing typer_example.py\n"
     ]
    }
   ],
   "source": [
    "%%writefile typer_example.py\n",
    "import typer\n",
    "\n",
    "app = typer.Typer()\n",
    "\n",
    "@app.command()\n",
    "def add_numbers(x: float, y: float):\n",
    "    \"\"\"Adds two numbers and prints the result.\"\"\"\n",
    "    result = x + y\n",
    "    print(f\"The sum of {x} and {y} is {result}.\")\n",
    "\n",
    "if __name__ == \"__main__\":\n",
    "    app()\n"
   ]
  },
  {
   "attachments": {},
   "cell_type": "markdown",
   "id": "7b1b2b69",
   "metadata": {},
   "source": [
    "Then run the following command on your terminal:\n",
    "```bash\n",
    "$ python typer_example.py hello world\n",
    "```\n",
    "And you should see an output like below:"
   ]
  },
  {
   "cell_type": "code",
   "execution_count": 9,
   "id": "031e8f17",
   "metadata": {
    "ExecuteTime": {
     "end_time": "2021-09-12T13:44:17.024849Z",
     "start_time": "2021-09-12T13:44:16.765577Z"
    },
    "tags": [
     "hide-input"
    ]
   },
   "outputs": [
    {
     "name": "stdout",
     "output_type": "stream",
     "text": [
      "Usage: typer_example.py [OPTIONS] X Y\n",
      "Try 'typer_example.py --help' for help.\n",
      "\n",
      "Error: Invalid value for 'X': 'hello' is not a valid float.\n"
     ]
    }
   ],
   "source": [
    "!python typer_example.py hello world"
   ]
  },
  {
   "attachments": {},
   "cell_type": "markdown",
   "id": "7d0a50ee",
   "metadata": {},
   "source": [
    "You can see that when the input is not a valid float, Typer raised a `TypeError` with a helpful error message. "
   ]
  },
  {
   "attachments": {},
   "cell_type": "markdown",
   "id": "c9fdad41",
   "metadata": {},
   "source": [
    "Providing the valid inputs will give the following output:\n",
    "```bash\n",
    "$ python typer_example.py 3 2\n",
    "```"
   ]
  },
  {
   "cell_type": "code",
   "execution_count": 10,
   "id": "cae61566",
   "metadata": {
    "tags": [
     "remove-input"
    ]
   },
   "outputs": [
    {
     "name": "stdout",
     "output_type": "stream",
     "text": [
      "The sum of 3.0 and 2.0 is 5.0.\n"
     ]
    }
   ],
   "source": [
    "!python typer_example.py 3 2"
   ]
  },
  {
   "cell_type": "markdown",
   "id": "c21d09e1",
   "metadata": {},
   "source": [
    "[Link to Typer](https://typer.tiangolo.com/).\n",
    "\n",
    "[My full article about Typer](https://towardsdatascience.com/typer-build-powerful-clis-in-one-line-of-code-using-python-321d9aef3be8)."
   ]
  },
  {
   "cell_type": "markdown",
   "id": "31db25c6",
   "metadata": {},
   "source": [
    "### Generate a Tree View with rich"
   ]
  },
  {
   "cell_type": "code",
   "execution_count": null,
   "id": "299d6417",
   "metadata": {
    "tags": [
     "hide-cell"
    ]
   },
   "outputs": [],
   "source": [
    "!pip install rich "
   ]
  },
  {
   "cell_type": "markdown",
   "id": "ff0f0621",
   "metadata": {},
   "source": [
    "If you want to generate a tree view of a specific structure such as files in a directory, use rich.tree. rich also allows you to add color to each branch using brackets."
   ]
  },
  {
   "cell_type": "code",
   "execution_count": 2,
   "id": "bd5ca43d",
   "metadata": {
    "ExecuteTime": {
     "end_time": "2022-06-13T14:20:23.760038Z",
     "start_time": "2022-06-13T14:20:23.743387Z"
    }
   },
   "outputs": [
    {
     "data": {
      "text/html": [
       "<pre style=\"white-space:pre;overflow-x:auto;line-height:normal;font-family:Menlo,'DejaVu Sans Mono',consolas,'Courier New',monospace\"><span style=\"color: #008080; text-decoration-color: #008080\">My Project</span>\n",
       "├── <span style=\"color: #008000; text-decoration-color: #008000\">data</span>\n",
       "├── <span style=\"color: #000080; text-decoration-color: #000080\">model</span>\n",
       "└── <span style=\"color: #800000; text-decoration-color: #800000\">src</span>\n",
       "    └── <span style=\"color: #800000; text-decoration-color: #800000\">process_data.py</span>\n",
       "</pre>\n"
      ],
      "text/plain": [
       "\u001b[36mMy Project\u001b[0m\n",
       "├── \u001b[32mdata\u001b[0m\n",
       "├── \u001b[34mmodel\u001b[0m\n",
       "└── \u001b[31msrc\u001b[0m\n",
       "    └── \u001b[31mprocess_data.py\u001b[0m\n"
      ]
     },
     "metadata": {},
     "output_type": "display_data"
    }
   ],
   "source": [
    "from rich.tree import Tree\n",
    "from rich import print\n",
    "\n",
    "tree = Tree(\"[cyan]My Project\")\n",
    "tree.add(\"[green]data\")\n",
    "tree.add(\"[blue]model\")\n",
    "src = tree.add(\"[red]src\")\n",
    "src.add(\"[red]process_data.py\")\n",
    "print(tree)"
   ]
  },
  {
   "cell_type": "markdown",
   "id": "c97e3779",
   "metadata": {
    "ExecuteTime": {
     "end_time": "2022-06-13T14:20:56.065633Z",
     "start_time": "2022-06-13T14:20:56.060162Z"
    }
   },
   "source": [
    "[Link to rich](https://github.com/Textualize/rich/tree/aa7926c1431eebfb2ccaab9f3b63a4ac6cd8dfe6)."
   ]
  },
  {
   "cell_type": "markdown",
   "id": "3f132d1e",
   "metadata": {},
   "source": [
    "### latexify_py: Generates a LaTex Math Description From a Python Function"
   ]
  },
  {
   "cell_type": "code",
   "execution_count": null,
   "id": "5cf40b9b",
   "metadata": {
    "ExecuteTime": {
     "end_time": "2022-09-28T14:45:14.696449Z",
     "start_time": "2022-09-28T14:45:12.451295Z"
    },
    "tags": [
     "hide-cell"
    ]
   },
   "outputs": [],
   "source": [
    "!pip install latexify-py"
   ]
  },
  {
   "cell_type": "markdown",
   "id": "dc8f05c5",
   "metadata": {},
   "source": [
    "Have you ever wanted to add math description for your Python function but found it time-consuming to do so? latexify_py allows you to add LaTex math description with only one decorator."
   ]
  },
  {
   "cell_type": "code",
   "execution_count": 4,
   "id": "0b727db0",
   "metadata": {
    "ExecuteTime": {
     "end_time": "2022-09-28T14:45:57.557549Z",
     "start_time": "2022-09-28T14:45:57.549855Z"
    }
   },
   "outputs": [
    {
     "data": {
      "text/latex": [
       "$$ \\displaystyle \\mathrm{solve}(a, b, c)\\triangleq \\frac{-b + \\sqrt{b^{2} - 4ac}}{2a} $$"
      ],
      "text/plain": [
       "<latexify.core.with_latex.<locals>._LatexifiedFunction at 0x108520f70>"
      ]
     },
     "execution_count": 4,
     "metadata": {},
     "output_type": "execute_result"
    }
   ],
   "source": [
    "import math\n",
    "import latexify\n",
    "\n",
    "@latexify.with_latex\n",
    "def solve(a, b, c):\n",
    "    return (-b + math.sqrt(b**2 - 4*a*c)) / (2*a)\n",
    "\n",
    "solve"
   ]
  },
  {
   "cell_type": "code",
   "execution_count": 7,
   "id": "569f9ba9",
   "metadata": {
    "ExecuteTime": {
     "end_time": "2022-09-28T14:46:29.571456Z",
     "start_time": "2022-09-28T14:46:29.565307Z"
    }
   },
   "outputs": [
    {
     "data": {
      "text/latex": [
       "$$ \\displaystyle \\mathrm{sinc}(x)\\triangleq \\left\\{ \\begin{array}{ll} 1, & \\mathrm{if} \\ x=0 \\\\ \\frac{\\sin{\\left({x}\\right)}}{x}, & \\mathrm{otherwise} \\end{array} \\right. $$"
      ],
      "text/plain": [
       "<latexify.core.with_latex.<locals>._LatexifiedFunction at 0x1089b8040>"
      ]
     },
     "execution_count": 7,
     "metadata": {},
     "output_type": "execute_result"
    }
   ],
   "source": [
    "@latexify.with_latex\n",
    "def sinc(x):\n",
    "    if x == 0:\n",
    "        return 1\n",
    "    else:\n",
    "        return math.sin(x) / x\n",
    "\n",
    "sinc"
   ]
  },
  {
   "cell_type": "markdown",
   "id": "298aa172",
   "metadata": {},
   "source": [
    "[Link to latexify_py](https://github.com/google/latexify_py)."
   ]
  },
  {
   "attachments": {},
   "cell_type": "markdown",
   "id": "7676c963",
   "metadata": {},
   "source": [
    "### ManimML: Create Animations of Common ML Concepts in Python"
   ]
  },
  {
   "attachments": {},
   "cell_type": "markdown",
   "id": "aacd7dcd",
   "metadata": {},
   "source": [
    "If you want to create animations and visualizations for common ML concepts in Python, try ManimML.\n",
    "\n",
    "The GIF below is the visualization of Variational Autoencoder made by ManimML."
   ]
  },
  {
   "attachments": {},
   "cell_type": "markdown",
   "id": "8fd173df",
   "metadata": {},
   "source": [
    "![](../img/VAEScene.gif)"
   ]
  },
  {
   "attachments": {},
   "cell_type": "markdown",
   "id": "bdf8b697",
   "metadata": {},
   "source": [
    "[Link to ManimML](https://github.com/helblazer811/ManimML).\n",
    "\n",
    "ManimML is built on top of [Manim](https://towardsdatascience.com/how-to-create-mathematical-animations-like-3blue1brown-using-python-f571fb9da3d1?sk=67f831edb7de3560020c2ea0296447cf)."
   ]
  }
 ],
 "metadata": {
  "celltoolbar": "Tags",
  "hide_input": false,
  "kernelspec": {
   "display_name": "venv",
   "language": "python",
   "name": "python3"
  },
  "language_info": {
   "codemirror_mode": {
    "name": "ipython",
    "version": 3
   },
   "file_extension": ".py",
   "mimetype": "text/x-python",
   "name": "python",
   "nbconvert_exporter": "python",
   "pygments_lexer": "ipython3",
   "version": "3.9.6"
  },
  "toc": {
   "base_numbering": 1,
   "nav_menu": {},
   "number_sections": true,
   "sideBar": true,
   "skip_h1_title": false,
   "title_cell": "Table of Contents",
   "title_sidebar": "Contents",
   "toc_cell": false,
   "toc_position": {},
   "toc_section_display": true,
   "toc_window_display": false
  },
  "vscode": {
   "interpreter": {
    "hash": "c3bc044b9863ed6dec4c55e7ad5af27f030f7d27aed3f39d7a4886a926c4e2c1"
   }
  }
 },
 "nbformat": 4,
 "nbformat_minor": 5
}
