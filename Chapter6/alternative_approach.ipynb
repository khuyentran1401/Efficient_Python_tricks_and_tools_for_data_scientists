{
 "cells": [
  {
   "cell_type": "markdown",
   "id": "943ce400",
   "metadata": {},
   "source": [
    "## Alternative Approach"
   ]
  },
  {
   "cell_type": "markdown",
   "id": "c3c236a1",
   "metadata": {},
   "source": [
    "This section covers some alternatives approaches to work with Python. "
   ]
  },
  {
   "cell_type": "markdown",
   "id": "d4a8b5a3",
   "metadata": {},
   "source": [
    "### Box: Using Dot Notation to Access Keys in a Python Dictionary\n"
   ]
  },
  {
   "cell_type": "code",
   "execution_count": null,
   "id": "dd0f3b91",
   "metadata": {
    "tags": [
     "hide-cell"
    ]
   },
   "outputs": [],
   "source": [
    "!pip install python-box[all]"
   ]
  },
  {
   "cell_type": "markdown",
   "id": "a33293ea",
   "metadata": {},
   "source": [
    "Do you wish to use `dict.key` instead of `dict['key']` to access the values inside a Python dictionary? If so, try Box.\n",
    "\n",
    "Box is like a Python dictionary except that it allows you to access keys using dot notation. This makes the code cleaner when you want to access a key inside a nested dictionary like below."
   ]
  },
  {
   "cell_type": "code",
   "execution_count": 12,
   "id": "26cc9609",
   "metadata": {
    "ExecuteTime": {
     "end_time": "2021-09-12T14:36:23.816665Z",
     "start_time": "2021-09-12T14:36:23.790113Z"
    }
   },
   "outputs": [
    {
     "name": "stdout",
     "output_type": "stream",
     "text": [
      "{'food': {'fruit': {'name': 'apple', 'flavor': 'sweet'}}}\n"
     ]
    },
    {
     "data": {
      "application/javascript": [
       "\n",
       "            setTimeout(function() {\n",
       "                var nbb_cell_id = 12;\n",
       "                var nbb_unformatted_code = \"from box import Box\\n\\nfood_box = Box({\\\"food\\\": {\\\"fruit\\\": {\\\"name\\\": \\\"apple\\\", \\\"flavor\\\": \\\"sweet\\\"}}})\\nprint(food_box)\";\n",
       "                var nbb_formatted_code = \"from box import Box\\n\\nfood_box = Box({\\\"food\\\": {\\\"fruit\\\": {\\\"name\\\": \\\"apple\\\", \\\"flavor\\\": \\\"sweet\\\"}}})\\nprint(food_box)\";\n",
       "                var nbb_cells = Jupyter.notebook.get_cells();\n",
       "                for (var i = 0; i < nbb_cells.length; ++i) {\n",
       "                    if (nbb_cells[i].input_prompt_number == nbb_cell_id) {\n",
       "                        if (nbb_cells[i].get_text() == nbb_unformatted_code) {\n",
       "                             nbb_cells[i].set_text(nbb_formatted_code);\n",
       "                        }\n",
       "                        break;\n",
       "                    }\n",
       "                }\n",
       "            }, 500);\n",
       "            "
      ],
      "text/plain": [
       "<IPython.core.display.Javascript object>"
      ]
     },
     "metadata": {},
     "output_type": "display_data"
    }
   ],
   "source": [
    "from box import Box\n",
    "\n",
    "food_box = Box({\"food\": {\"fruit\": {\"name\": \"apple\", \"flavor\": \"sweet\"}}})\n",
    "print(food_box)"
   ]
  },
  {
   "cell_type": "code",
   "execution_count": 13,
   "id": "c684506c",
   "metadata": {
    "ExecuteTime": {
     "end_time": "2021-09-12T14:36:24.337190Z",
     "start_time": "2021-09-12T14:36:24.323997Z"
    }
   },
   "outputs": [
    {
     "name": "stdout",
     "output_type": "stream",
     "text": [
      "apple\n"
     ]
    },
    {
     "data": {
      "application/javascript": [
       "\n",
       "            setTimeout(function() {\n",
       "                var nbb_cell_id = 13;\n",
       "                var nbb_unformatted_code = \"print(food_box.food.fruit.name)\";\n",
       "                var nbb_formatted_code = \"print(food_box.food.fruit.name)\";\n",
       "                var nbb_cells = Jupyter.notebook.get_cells();\n",
       "                for (var i = 0; i < nbb_cells.length; ++i) {\n",
       "                    if (nbb_cells[i].input_prompt_number == nbb_cell_id) {\n",
       "                        if (nbb_cells[i].get_text() == nbb_unformatted_code) {\n",
       "                             nbb_cells[i].set_text(nbb_formatted_code);\n",
       "                        }\n",
       "                        break;\n",
       "                    }\n",
       "                }\n",
       "            }, 500);\n",
       "            "
      ],
      "text/plain": [
       "<IPython.core.display.Javascript object>"
      ]
     },
     "metadata": {},
     "output_type": "display_data"
    }
   ],
   "source": [
    "print(food_box.food.fruit.name)"
   ]
  },
  {
   "cell_type": "markdown",
   "id": "ce9cde5d",
   "metadata": {},
   "source": [
    "[Link to Box](https://github.com/cdgriffith/Box)."
   ]
  },
  {
   "cell_type": "markdown",
   "id": "663c82ce",
   "metadata": {},
   "source": [
    "### decorator module: Write Shorter Python Decorators without Nested Functions"
   ]
  },
  {
   "cell_type": "code",
   "execution_count": null,
   "id": "cebff9f6",
   "metadata": {
    "tags": [
     "hide-cell"
    ]
   },
   "outputs": [],
   "source": [
    "!pip install decorator"
   ]
  },
  {
   "cell_type": "markdown",
   "id": "4276ece6",
   "metadata": {},
   "source": [
    "Have you ever wished to write a Python decorator with only one function instead of nested functions like below?\n"
   ]
  },
  {
   "cell_type": "code",
   "execution_count": 15,
   "id": "7448cd86",
   "metadata": {
    "ExecuteTime": {
     "end_time": "2021-09-12T14:36:45.435318Z",
     "start_time": "2021-09-12T14:36:44.412274Z"
    }
   },
   "outputs": [
    {
     "name": "stdout",
     "output_type": "stream",
     "text": [
      "It takes 1.001 seconds to execute the function\n"
     ]
    },
    {
     "data": {
      "application/javascript": [
       "\n",
       "            setTimeout(function() {\n",
       "                var nbb_cell_id = 15;\n",
       "                var nbb_unformatted_code = \"from time import time, sleep\\n\\n\\ndef time_func_complex(func):\\n    def wrapper(*args, **kwargs):\\n        start_time = time()\\n        func(*args, **kwargs)\\n        end_time = time()\\n        print(\\n            f\\\"\\\"\\\"It takes {round(end_time - start_time, 3)} seconds to execute the function\\\"\\\"\\\"\\n        )\\n\\n    return wrapper\\n\\n\\n@time_func_complex\\ndef test_func_complex():\\n    sleep(1)\\n\\n\\ntest_func_complex()\";\n",
       "                var nbb_formatted_code = \"from time import time, sleep\\n\\n\\ndef time_func_complex(func):\\n    def wrapper(*args, **kwargs):\\n        start_time = time()\\n        func(*args, **kwargs)\\n        end_time = time()\\n        print(\\n            f\\\"\\\"\\\"It takes {round(end_time - start_time, 3)} seconds to execute the function\\\"\\\"\\\"\\n        )\\n\\n    return wrapper\\n\\n\\n@time_func_complex\\ndef test_func_complex():\\n    sleep(1)\\n\\n\\ntest_func_complex()\";\n",
       "                var nbb_cells = Jupyter.notebook.get_cells();\n",
       "                for (var i = 0; i < nbb_cells.length; ++i) {\n",
       "                    if (nbb_cells[i].input_prompt_number == nbb_cell_id) {\n",
       "                        if (nbb_cells[i].get_text() == nbb_unformatted_code) {\n",
       "                             nbb_cells[i].set_text(nbb_formatted_code);\n",
       "                        }\n",
       "                        break;\n",
       "                    }\n",
       "                }\n",
       "            }, 500);\n",
       "            "
      ],
      "text/plain": [
       "<IPython.core.display.Javascript object>"
      ]
     },
     "metadata": {},
     "output_type": "display_data"
    }
   ],
   "source": [
    "from time import time, sleep\n",
    "\n",
    "\n",
    "def time_func_complex(func):\n",
    "    def wrapper(*args, **kwargs):\n",
    "        start_time = time()\n",
    "        func(*args, **kwargs)\n",
    "        end_time = time()\n",
    "        print(\n",
    "            f\"\"\"It takes {round(end_time - start_time, 3)} seconds to execute the function\"\"\"\n",
    "        )\n",
    "\n",
    "    return wrapper\n",
    "\n",
    "\n",
    "@time_func_complex\n",
    "def test_func_complex():\n",
    "    sleep(1)\n",
    "\n",
    "\n",
    "test_func_complex()"
   ]
  },
  {
   "cell_type": "markdown",
   "id": "5741e053",
   "metadata": {},
   "source": [
    "If so, try decorator. In the code below, `time_func_simple` produces the exact same results as `time_func_complex`, but `time_func_simple` is easier and short to write.\n"
   ]
  },
  {
   "cell_type": "code",
   "execution_count": 17,
   "id": "76ca58b3",
   "metadata": {
    "ExecuteTime": {
     "end_time": "2021-09-12T14:36:56.943831Z",
     "start_time": "2021-09-12T14:36:55.917239Z"
    }
   },
   "outputs": [
    {
     "name": "stdout",
     "output_type": "stream",
     "text": [
      "It takes 1.001 seconds to execute the function\n"
     ]
    },
    {
     "data": {
      "application/javascript": [
       "\n",
       "            setTimeout(function() {\n",
       "                var nbb_cell_id = 17;\n",
       "                var nbb_unformatted_code = \"from decorator import decorator\\n\\n@decorator\\ndef time_func_simple(func, *args, **kwargs):\\n    start_time = time()\\n    func(*args, **kwargs)\\n    end_time = time()\\n    print(\\n            f\\\"\\\"\\\"It takes {round(end_time - start_time, 3)} seconds to execute the function\\\"\\\"\\\"\\n    )\\n    \\n@time_func_simple  \\ndef test_func_simple():\\n    sleep(1)\\n\\ntest_func()\";\n",
       "                var nbb_formatted_code = \"from decorator import decorator\\n\\n\\n@decorator\\ndef time_func_simple(func, *args, **kwargs):\\n    start_time = time()\\n    func(*args, **kwargs)\\n    end_time = time()\\n    print(\\n        f\\\"\\\"\\\"It takes {round(end_time - start_time, 3)} seconds to execute the function\\\"\\\"\\\"\\n    )\\n\\n\\n@time_func_simple\\ndef test_func_simple():\\n    sleep(1)\\n\\n\\ntest_func()\";\n",
       "                var nbb_cells = Jupyter.notebook.get_cells();\n",
       "                for (var i = 0; i < nbb_cells.length; ++i) {\n",
       "                    if (nbb_cells[i].input_prompt_number == nbb_cell_id) {\n",
       "                        if (nbb_cells[i].get_text() == nbb_unformatted_code) {\n",
       "                             nbb_cells[i].set_text(nbb_formatted_code);\n",
       "                        }\n",
       "                        break;\n",
       "                    }\n",
       "                }\n",
       "            }, 500);\n",
       "            "
      ],
      "text/plain": [
       "<IPython.core.display.Javascript object>"
      ]
     },
     "metadata": {},
     "output_type": "display_data"
    }
   ],
   "source": [
    "from decorator import decorator\n",
    "\n",
    "\n",
    "@decorator\n",
    "def time_func_simple(func, *args, **kwargs):\n",
    "    start_time = time()\n",
    "    func(*args, **kwargs)\n",
    "    end_time = time()\n",
    "    print(\n",
    "        f\"\"\"It takes {round(end_time - start_time, 3)} seconds to execute the function\"\"\"\n",
    "    )\n",
    "\n",
    "\n",
    "@time_func_simple\n",
    "def test_func_simple():\n",
    "    sleep(1)\n",
    "\n",
    "\n",
    "test_func_simple()"
   ]
  },
  {
   "cell_type": "markdown",
   "id": "1211a876",
   "metadata": {},
   "source": [
    "[Check out other things the decorator library can do](https://github.com/micheles/decorator)."
   ]
  },
  {
   "cell_type": "markdown",
   "id": "91e94111",
   "metadata": {},
   "source": [
    "### pydash.chunk: Split Elements in a List into Groups of n Items"
   ]
  },
  {
   "cell_type": "code",
   "execution_count": 2,
   "id": "67025a68",
   "metadata": {
    "ExecuteTime": {
     "end_time": "2021-09-15T13:31:38.866713Z",
     "start_time": "2021-09-15T13:31:36.585138Z"
    },
    "tags": [
     "hide-cell"
    ]
   },
   "outputs": [
    {
     "name": "stdout",
     "output_type": "stream",
     "text": [
      "Collecting pydash\n",
      "  Using cached pydash-5.0.2-py3-none-any.whl (84 kB)\n",
      "Installing collected packages: pydash\n",
      "Successfully installed pydash-5.0.2\n"
     ]
    }
   ],
   "source": [
    "!pip install pydash "
   ]
  },
  {
   "cell_type": "markdown",
   "id": "bef5c362",
   "metadata": {},
   "source": [
    "If you want to split elements in a list into groups of n items, use `pydash.chunk`."
   ]
  },
  {
   "cell_type": "code",
   "execution_count": 3,
   "id": "9c037da0",
   "metadata": {
    "ExecuteTime": {
     "end_time": "2021-09-15T13:31:42.680554Z",
     "start_time": "2021-09-15T13:31:42.593802Z"
    }
   },
   "outputs": [
    {
     "name": "stdout",
     "output_type": "stream",
     "text": [
      "[[1, 2], [3, 4], [5]]\n"
     ]
    }
   ],
   "source": [
    "from pydash import py_\n",
    "\n",
    "a = [1, 2, 3, 4, 5]\n",
    "print(py_.chunk(a, 2))  # [[1, 2], [3, 4], [5]]"
   ]
  },
  {
   "cell_type": "markdown",
   "id": "05e36009",
   "metadata": {},
   "source": [
    "[Link to pydash](https://pydash.readthedocs.io/en/latest/)\n",
    "\n",
    "[Link to my article about pydash](https://towardsdatascience.com/pydash-a-bucket-of-missing-python-utilities-5d10365be4fc)"
   ]
  },
  {
   "cell_type": "markdown",
   "id": "dba1f40e",
   "metadata": {},
   "source": [
    "### Pipe: Use Inflix Notation in Python"
   ]
  },
  {
   "cell_type": "code",
   "execution_count": null,
   "id": "cd192a58",
   "metadata": {
    "ExecuteTime": {
     "end_time": "2021-10-15T13:22:53.016416Z",
     "start_time": "2021-10-15T13:22:49.737061Z"
    },
    "tags": [
     "hide-cell"
    ]
   },
   "outputs": [],
   "source": [
    "!pip install pipe"
   ]
  },
  {
   "cell_type": "markdown",
   "id": "d23f3a80",
   "metadata": {},
   "source": [
    "Normally, you might use nested parentheses like below to combine multiple functions. "
   ]
  },
  {
   "cell_type": "code",
   "execution_count": 16,
   "id": "e3bcf8c1",
   "metadata": {
    "ExecuteTime": {
     "end_time": "2021-10-15T13:35:39.261323Z",
     "start_time": "2021-10-15T13:35:39.236544Z"
    }
   },
   "outputs": [
    {
     "data": {
      "text/plain": [
       "[4, 16, 36]"
      ]
     },
     "execution_count": 16,
     "metadata": {},
     "output_type": "execute_result"
    },
    {
     "data": {
      "application/javascript": [
       "\n",
       "            setTimeout(function() {\n",
       "                var nbb_cell_id = 16;\n",
       "                var nbb_unformatted_code = \"nums = [1, 2, 3, 4, 5, 6]\\nlist(\\n    filter(lambda x: x % 2 == 0, \\n            map(lambda x: x ** 2, nums)\\n          )\\n)\";\n",
       "                var nbb_formatted_code = \"nums = [1, 2, 3, 4, 5, 6]\\nlist(filter(lambda x: x % 2 == 0, map(lambda x: x ** 2, nums)))\";\n",
       "                var nbb_cells = Jupyter.notebook.get_cells();\n",
       "                for (var i = 0; i < nbb_cells.length; ++i) {\n",
       "                    if (nbb_cells[i].input_prompt_number == nbb_cell_id) {\n",
       "                        if (nbb_cells[i].get_text() == nbb_unformatted_code) {\n",
       "                             nbb_cells[i].set_text(nbb_formatted_code);\n",
       "                        }\n",
       "                        break;\n",
       "                    }\n",
       "                }\n",
       "            }, 500);\n",
       "            "
      ],
      "text/plain": [
       "<IPython.core.display.Javascript object>"
      ]
     },
     "metadata": {},
     "output_type": "display_data"
    }
   ],
   "source": [
    "nums = [1, 2, 3, 4, 5, 6]\n",
    "list(\n",
    "    filter(lambda x: x % 2 == 0, \n",
    "            map(lambda x: x ** 2, nums)\n",
    "          )\n",
    ")"
   ]
  },
  {
   "cell_type": "markdown",
   "id": "f2183c8f",
   "metadata": {},
   "source": [
    "If you want to increase the readability of your code by using pipes, try the library pipe. Below is an example using this library. "
   ]
  },
  {
   "cell_type": "code",
   "execution_count": 1,
   "id": "100c6a98",
   "metadata": {
    "ExecuteTime": {
     "end_time": "2021-10-15T13:27:14.009183Z",
     "start_time": "2021-10-15T13:27:13.991954Z"
    }
   },
   "outputs": [],
   "source": [
    "from pipe import select, where"
   ]
  },
  {
   "cell_type": "code",
   "execution_count": 15,
   "id": "87225efd",
   "metadata": {
    "ExecuteTime": {
     "end_time": "2021-10-15T13:35:18.480770Z",
     "start_time": "2021-10-15T13:35:18.463033Z"
    }
   },
   "outputs": [
    {
     "data": {
      "text/plain": [
       "[4, 16, 36]"
      ]
     },
     "execution_count": 15,
     "metadata": {},
     "output_type": "execute_result"
    },
    {
     "data": {
      "application/javascript": [
       "\n",
       "            setTimeout(function() {\n",
       "                var nbb_cell_id = 15;\n",
       "                var nbb_unformatted_code = \"list(\\n    nums\\n    | select(lambda x: x ** 2)\\n    | where(lambda x: x % 2 == 0)\\n)\";\n",
       "                var nbb_formatted_code = \"list(nums | select(lambda x: x ** 2) | where(lambda x: x % 2 == 0))\";\n",
       "                var nbb_cells = Jupyter.notebook.get_cells();\n",
       "                for (var i = 0; i < nbb_cells.length; ++i) {\n",
       "                    if (nbb_cells[i].input_prompt_number == nbb_cell_id) {\n",
       "                        if (nbb_cells[i].get_text() == nbb_unformatted_code) {\n",
       "                             nbb_cells[i].set_text(nbb_formatted_code);\n",
       "                        }\n",
       "                        break;\n",
       "                    }\n",
       "                }\n",
       "            }, 500);\n",
       "            "
      ],
      "text/plain": [
       "<IPython.core.display.Javascript object>"
      ]
     },
     "metadata": {},
     "output_type": "display_data"
    }
   ],
   "source": [
    "list(\n",
    "    nums\n",
    "    | select(lambda x: x ** 2)\n",
    "    | where(lambda x: x % 2 == 0)\n",
    ")"
   ]
  },
  {
   "cell_type": "markdown",
   "id": "3289e1d2",
   "metadata": {},
   "source": [
    "[Link to my article on pipe](https://towardsdatascience.com/write-clean-python-code-using-pipes-1239a0f3abf5).\n",
    "\n",
    "[Link to pipe](https://github.com/JulienPalard/Pipe)."
   ]
  }
 ],
 "metadata": {
  "celltoolbar": "Tags",
  "kernelspec": {
   "display_name": "Python 3 (ipykernel)",
   "language": "python",
   "name": "python3"
  },
  "language_info": {
   "codemirror_mode": {
    "name": "ipython",
    "version": 3
   },
   "file_extension": ".py",
   "mimetype": "text/x-python",
   "name": "python",
   "nbconvert_exporter": "python",
   "pygments_lexer": "ipython3",
   "version": "3.8.10"
  },
  "toc": {
   "base_numbering": 1,
   "nav_menu": {},
   "number_sections": true,
   "sideBar": true,
   "skip_h1_title": false,
   "title_cell": "Table of Contents",
   "title_sidebar": "Contents",
   "toc_cell": false,
   "toc_position": {},
   "toc_section_display": true,
   "toc_window_display": false
  }
 },
 "nbformat": 4,
 "nbformat_minor": 5
}
