{
 "cells": [
  {
   "cell_type": "markdown",
   "id": "943ce400",
   "metadata": {},
   "source": [
    "## Alternative Approach"
   ]
  },
  {
   "cell_type": "markdown",
   "id": "c3c236a1",
   "metadata": {},
   "source": [
    "This section covers some alternatives approaches to work with Python. "
   ]
  },
  {
   "cell_type": "markdown",
   "id": "d4a8b5a3",
   "metadata": {},
   "source": [
    "### Box: Using Dot Notation to Access Keys in a Python Dictionary\n"
   ]
  },
  {
   "cell_type": "code",
   "execution_count": null,
   "id": "dd0f3b91",
   "metadata": {
    "tags": [
     "hide-cell"
    ]
   },
   "outputs": [],
   "source": [
    "!pip install python-box[all]"
   ]
  },
  {
   "cell_type": "markdown",
   "id": "a33293ea",
   "metadata": {},
   "source": [
    "Do you wish to use `dict.key` instead of `dict['key']` to access the values inside a Python dictionary? If so, try Box.\n",
    "\n",
    "Box is like a Python dictionary except that it allows you to access keys using dot notation. This makes the code cleaner when you want to access a key inside a nested dictionary like below."
   ]
  },
  {
   "cell_type": "code",
   "execution_count": 12,
   "id": "26cc9609",
   "metadata": {
    "ExecuteTime": {
     "end_time": "2021-09-12T14:36:23.816665Z",
     "start_time": "2021-09-12T14:36:23.790113Z"
    }
   },
   "outputs": [
    {
     "name": "stdout",
     "output_type": "stream",
     "text": [
      "{'food': {'fruit': {'name': 'apple', 'flavor': 'sweet'}}}\n"
     ]
    },
    {
     "data": {
      "application/javascript": "\n            setTimeout(function() {\n                var nbb_cell_id = 12;\n                var nbb_unformatted_code = \"from box import Box\\n\\nfood_box = Box({\\\"food\\\": {\\\"fruit\\\": {\\\"name\\\": \\\"apple\\\", \\\"flavor\\\": \\\"sweet\\\"}}})\\nprint(food_box)\";\n                var nbb_formatted_code = \"from box import Box\\n\\nfood_box = Box({\\\"food\\\": {\\\"fruit\\\": {\\\"name\\\": \\\"apple\\\", \\\"flavor\\\": \\\"sweet\\\"}}})\\nprint(food_box)\";\n                var nbb_cells = Jupyter.notebook.get_cells();\n                for (var i = 0; i < nbb_cells.length; ++i) {\n                    if (nbb_cells[i].input_prompt_number == nbb_cell_id) {\n                        if (nbb_cells[i].get_text() == nbb_unformatted_code) {\n                             nbb_cells[i].set_text(nbb_formatted_code);\n                        }\n                        break;\n                    }\n                }\n            }, 500);\n            ",
      "text/plain": [
       "<IPython.core.display.Javascript object>"
      ]
     },
     "metadata": {},
     "output_type": "display_data"
    }
   ],
   "source": [
    "from box import Box\n",
    "\n",
    "food_box = Box({\"food\": {\"fruit\": {\"name\": \"apple\", \"flavor\": \"sweet\"}}})\n",
    "print(food_box)"
   ]
  },
  {
   "cell_type": "code",
   "execution_count": 13,
   "id": "c684506c",
   "metadata": {
    "ExecuteTime": {
     "end_time": "2021-09-12T14:36:24.337190Z",
     "start_time": "2021-09-12T14:36:24.323997Z"
    }
   },
   "outputs": [
    {
     "name": "stdout",
     "output_type": "stream",
     "text": [
      "apple\n"
     ]
    },
    {
     "data": {
      "application/javascript": "\n            setTimeout(function() {\n                var nbb_cell_id = 13;\n                var nbb_unformatted_code = \"print(food_box.food.fruit.name)\";\n                var nbb_formatted_code = \"print(food_box.food.fruit.name)\";\n                var nbb_cells = Jupyter.notebook.get_cells();\n                for (var i = 0; i < nbb_cells.length; ++i) {\n                    if (nbb_cells[i].input_prompt_number == nbb_cell_id) {\n                        if (nbb_cells[i].get_text() == nbb_unformatted_code) {\n                             nbb_cells[i].set_text(nbb_formatted_code);\n                        }\n                        break;\n                    }\n                }\n            }, 500);\n            ",
      "text/plain": [
       "<IPython.core.display.Javascript object>"
      ]
     },
     "metadata": {},
     "output_type": "display_data"
    }
   ],
   "source": [
    "print(food_box.food.fruit.name)"
   ]
  },
  {
   "cell_type": "markdown",
   "id": "ce9cde5d",
   "metadata": {},
   "source": [
    "[Link to Box](https://github.com/cdgriffith/Box)."
   ]
  },
  {
   "cell_type": "markdown",
   "id": "663c82ce",
   "metadata": {},
   "source": [
    "### decorator module: Write Shorter Python Decorators without Nested Functions"
   ]
  },
  {
   "cell_type": "code",
   "execution_count": null,
   "id": "cebff9f6",
   "metadata": {
    "tags": [
     "hide-cell"
    ]
   },
   "outputs": [],
   "source": [
    "!pip install decorator"
   ]
  },
  {
   "cell_type": "markdown",
   "id": "4276ece6",
   "metadata": {},
   "source": [
    "Have you ever wished to write a Python decorator with only one function instead of nested functions like below?\n"
   ]
  },
  {
   "cell_type": "code",
   "execution_count": 15,
   "id": "7448cd86",
   "metadata": {
    "ExecuteTime": {
     "end_time": "2021-09-12T14:36:45.435318Z",
     "start_time": "2021-09-12T14:36:44.412274Z"
    }
   },
   "outputs": [
    {
     "name": "stdout",
     "output_type": "stream",
     "text": [
      "It takes 1.001 seconds to execute the function\n"
     ]
    },
    {
     "data": {
      "application/javascript": "\n            setTimeout(function() {\n                var nbb_cell_id = 15;\n                var nbb_unformatted_code = \"from time import time, sleep\\n\\n\\ndef time_func_complex(func):\\n    def wrapper(*args, **kwargs):\\n        start_time = time()\\n        func(*args, **kwargs)\\n        end_time = time()\\n        print(\\n            f\\\"\\\"\\\"It takes {round(end_time - start_time, 3)} seconds to execute the function\\\"\\\"\\\"\\n        )\\n\\n    return wrapper\\n\\n\\n@time_func_complex\\ndef test_func_complex():\\n    sleep(1)\\n\\n\\ntest_func_complex()\";\n                var nbb_formatted_code = \"from time import time, sleep\\n\\n\\ndef time_func_complex(func):\\n    def wrapper(*args, **kwargs):\\n        start_time = time()\\n        func(*args, **kwargs)\\n        end_time = time()\\n        print(\\n            f\\\"\\\"\\\"It takes {round(end_time - start_time, 3)} seconds to execute the function\\\"\\\"\\\"\\n        )\\n\\n    return wrapper\\n\\n\\n@time_func_complex\\ndef test_func_complex():\\n    sleep(1)\\n\\n\\ntest_func_complex()\";\n                var nbb_cells = Jupyter.notebook.get_cells();\n                for (var i = 0; i < nbb_cells.length; ++i) {\n                    if (nbb_cells[i].input_prompt_number == nbb_cell_id) {\n                        if (nbb_cells[i].get_text() == nbb_unformatted_code) {\n                             nbb_cells[i].set_text(nbb_formatted_code);\n                        }\n                        break;\n                    }\n                }\n            }, 500);\n            ",
      "text/plain": [
       "<IPython.core.display.Javascript object>"
      ]
     },
     "metadata": {},
     "output_type": "display_data"
    }
   ],
   "source": [
    "from time import time, sleep\n",
    "\n",
    "\n",
    "def time_func_complex(func):\n",
    "    def wrapper(*args, **kwargs):\n",
    "        start_time = time()\n",
    "        func(*args, **kwargs)\n",
    "        end_time = time()\n",
    "        print(\n",
    "            f\"\"\"It takes {round(end_time - start_time, 3)} seconds to execute the function\"\"\"\n",
    "        )\n",
    "\n",
    "    return wrapper\n",
    "\n",
    "\n",
    "@time_func_complex\n",
    "def test_func_complex():\n",
    "    sleep(1)\n",
    "\n",
    "\n",
    "test_func_complex()"
   ]
  },
  {
   "cell_type": "markdown",
   "id": "5741e053",
   "metadata": {},
   "source": [
    "If so, try decorator. In the code below, `time_func_simple` produces the exact same results as `time_func_complex`, but `time_func_simple` is easier and short to write.\n"
   ]
  },
  {
   "cell_type": "code",
   "execution_count": 17,
   "id": "76ca58b3",
   "metadata": {
    "ExecuteTime": {
     "end_time": "2021-09-12T14:36:56.943831Z",
     "start_time": "2021-09-12T14:36:55.917239Z"
    }
   },
   "outputs": [
    {
     "name": "stdout",
     "output_type": "stream",
     "text": [
      "It takes 1.001 seconds to execute the function\n"
     ]
    },
    {
     "data": {
      "application/javascript": "\n            setTimeout(function() {\n                var nbb_cell_id = 17;\n                var nbb_unformatted_code = \"from decorator import decorator\\n\\n@decorator\\ndef time_func_simple(func, *args, **kwargs):\\n    start_time = time()\\n    func(*args, **kwargs)\\n    end_time = time()\\n    print(\\n            f\\\"\\\"\\\"It takes {round(end_time - start_time, 3)} seconds to execute the function\\\"\\\"\\\"\\n    )\\n    \\n@time_func_simple  \\ndef test_func_simple():\\n    sleep(1)\\n\\ntest_func()\";\n                var nbb_formatted_code = \"from decorator import decorator\\n\\n\\n@decorator\\ndef time_func_simple(func, *args, **kwargs):\\n    start_time = time()\\n    func(*args, **kwargs)\\n    end_time = time()\\n    print(\\n        f\\\"\\\"\\\"It takes {round(end_time - start_time, 3)} seconds to execute the function\\\"\\\"\\\"\\n    )\\n\\n\\n@time_func_simple\\ndef test_func_simple():\\n    sleep(1)\\n\\n\\ntest_func()\";\n                var nbb_cells = Jupyter.notebook.get_cells();\n                for (var i = 0; i < nbb_cells.length; ++i) {\n                    if (nbb_cells[i].input_prompt_number == nbb_cell_id) {\n                        if (nbb_cells[i].get_text() == nbb_unformatted_code) {\n                             nbb_cells[i].set_text(nbb_formatted_code);\n                        }\n                        break;\n                    }\n                }\n            }, 500);\n            ",
      "text/plain": [
       "<IPython.core.display.Javascript object>"
      ]
     },
     "metadata": {},
     "output_type": "display_data"
    }
   ],
   "source": [
    "from decorator import decorator\n",
    "\n",
    "\n",
    "@decorator\n",
    "def time_func_simple(func, *args, **kwargs):\n",
    "    start_time = time()\n",
    "    func(*args, **kwargs)\n",
    "    end_time = time()\n",
    "    print(\n",
    "        f\"\"\"It takes {round(end_time - start_time, 3)} seconds to execute the function\"\"\"\n",
    "    )\n",
    "\n",
    "\n",
    "@time_func_simple\n",
    "def test_func_simple():\n",
    "    sleep(1)\n",
    "\n",
    "\n",
    "test_func_simple()"
   ]
  },
  {
   "cell_type": "markdown",
   "id": "1211a876",
   "metadata": {},
   "source": [
    "[Check out other things the decorator library can do](https://github.com/micheles/decorator)."
   ]
  },
  {
   "cell_type": "markdown",
   "id": "dba1f40e",
   "metadata": {},
   "source": [
    "### Pipe: Use Inflix Notation in Python"
   ]
  },
  {
   "cell_type": "code",
   "execution_count": null,
   "id": "cd192a58",
   "metadata": {
    "ExecuteTime": {
     "end_time": "2021-10-15T13:22:53.016416Z",
     "start_time": "2021-10-15T13:22:49.737061Z"
    },
    "tags": [
     "hide-cell"
    ]
   },
   "outputs": [],
   "source": [
    "!pip install pipe"
   ]
  },
  {
   "cell_type": "markdown",
   "id": "d23f3a80",
   "metadata": {},
   "source": [
    "Normally, you might use nested parentheses like below to combine multiple functions. "
   ]
  },
  {
   "cell_type": "code",
   "execution_count": 16,
   "id": "e3bcf8c1",
   "metadata": {
    "ExecuteTime": {
     "end_time": "2021-10-15T13:35:39.261323Z",
     "start_time": "2021-10-15T13:35:39.236544Z"
    }
   },
   "outputs": [
    {
     "data": {
      "text/plain": [
       "[4, 16, 36]"
      ]
     },
     "execution_count": 16,
     "metadata": {},
     "output_type": "execute_result"
    },
    {
     "data": {
      "application/javascript": "\n            setTimeout(function() {\n                var nbb_cell_id = 16;\n                var nbb_unformatted_code = \"nums = [1, 2, 3, 4, 5, 6]\\nlist(\\n    filter(lambda x: x % 2 == 0, \\n            map(lambda x: x ** 2, nums)\\n          )\\n)\";\n                var nbb_formatted_code = \"nums = [1, 2, 3, 4, 5, 6]\\nlist(filter(lambda x: x % 2 == 0, map(lambda x: x ** 2, nums)))\";\n                var nbb_cells = Jupyter.notebook.get_cells();\n                for (var i = 0; i < nbb_cells.length; ++i) {\n                    if (nbb_cells[i].input_prompt_number == nbb_cell_id) {\n                        if (nbb_cells[i].get_text() == nbb_unformatted_code) {\n                             nbb_cells[i].set_text(nbb_formatted_code);\n                        }\n                        break;\n                    }\n                }\n            }, 500);\n            ",
      "text/plain": [
       "<IPython.core.display.Javascript object>"
      ]
     },
     "metadata": {},
     "output_type": "display_data"
    }
   ],
   "source": [
    "nums = [1, 2, 3, 4, 5, 6]\n",
    "list(\n",
    "    filter(lambda x: x % 2 == 0, \n",
    "            map(lambda x: x ** 2, nums)\n",
    "          )\n",
    ")"
   ]
  },
  {
   "cell_type": "markdown",
   "id": "f2183c8f",
   "metadata": {},
   "source": [
    "If you want to increase the readability of your code by using pipes, try the library pipe. Below is an example using this library. "
   ]
  },
  {
   "cell_type": "code",
   "execution_count": 1,
   "id": "100c6a98",
   "metadata": {
    "ExecuteTime": {
     "end_time": "2021-10-15T13:27:14.009183Z",
     "start_time": "2021-10-15T13:27:13.991954Z"
    }
   },
   "outputs": [],
   "source": [
    "from pipe import select, where"
   ]
  },
  {
   "cell_type": "code",
   "execution_count": 15,
   "id": "87225efd",
   "metadata": {
    "ExecuteTime": {
     "end_time": "2021-10-15T13:35:18.480770Z",
     "start_time": "2021-10-15T13:35:18.463033Z"
    }
   },
   "outputs": [
    {
     "data": {
      "text/plain": [
       "[4, 16, 36]"
      ]
     },
     "execution_count": 15,
     "metadata": {},
     "output_type": "execute_result"
    },
    {
     "data": {
      "application/javascript": "\n            setTimeout(function() {\n                var nbb_cell_id = 15;\n                var nbb_unformatted_code = \"list(\\n    nums\\n    | select(lambda x: x ** 2)\\n    | where(lambda x: x % 2 == 0)\\n)\";\n                var nbb_formatted_code = \"list(nums | select(lambda x: x ** 2) | where(lambda x: x % 2 == 0))\";\n                var nbb_cells = Jupyter.notebook.get_cells();\n                for (var i = 0; i < nbb_cells.length; ++i) {\n                    if (nbb_cells[i].input_prompt_number == nbb_cell_id) {\n                        if (nbb_cells[i].get_text() == nbb_unformatted_code) {\n                             nbb_cells[i].set_text(nbb_formatted_code);\n                        }\n                        break;\n                    }\n                }\n            }, 500);\n            ",
      "text/plain": [
       "<IPython.core.display.Javascript object>"
      ]
     },
     "metadata": {},
     "output_type": "display_data"
    }
   ],
   "source": [
    "list(\n",
    "    nums\n",
    "    | select(lambda x: x ** 2)\n",
    "    | where(lambda x: x % 2 == 0)\n",
    ")"
   ]
  },
  {
   "cell_type": "markdown",
   "id": "3289e1d2",
   "metadata": {},
   "source": [
    "[Link to my article on pipe](https://towardsdatascience.com/write-clean-python-code-using-pipes-1239a0f3abf5).\n",
    "\n",
    "[Link to pipe](https://github.com/JulienPalard/Pipe)."
   ]
  },
  {
   "cell_type": "markdown",
   "id": "15ac29cd",
   "metadata": {},
   "source": [
    "### PRegEx: Write Human-Readable Regular Expressions"
   ]
  },
  {
   "cell_type": "code",
   "execution_count": null,
   "id": "10c996aa",
   "metadata": {
    "tags": [
     "hide-cell"
    ]
   },
   "outputs": [],
   "source": [
    "!pip install pregex"
   ]
  },
  {
   "cell_type": "markdown",
   "id": "0a3118be",
   "metadata": {},
   "source": [
    "RegEx is useful for extracting words with matching patterns. However, it can be difficult to read and create. PregEx allows you to write a more human-readable RegEx. \n",
    "\n",
    "In the code below, I use PregEx to extract URLs from text. "
   ]
  },
  {
   "cell_type": "code",
   "execution_count": 26,
   "id": "5c7f1f2b",
   "metadata": {},
   "outputs": [
    {
     "data": {
      "text/plain": [
       "'(?:https:\\\\/\\\\/)?\\\\S+(?:\\\\.com|\\\\.org)\\\\S+'"
      ]
     },
     "execution_count": 26,
     "metadata": {},
     "output_type": "execute_result"
    }
   ],
   "source": [
    "from pregex.core.classes import AnyButWhitespace\n",
    "from pregex.core.quantifiers import OneOrMore, Optional\n",
    "from pregex.core.operators import Either\n",
    "\n",
    "\n",
    "text = \"You can find me through my website mathdatasimplified.com/ or GitHub https://github.com/khuyentran1401\"\n",
    "\n",
    "any_but_space = OneOrMore(AnyButWhitespace())\n",
    "optional_scheme = Optional(\"https://\")\n",
    "domain = Either(\".com\", \".org\")\n",
    "\n",
    "pre = (\n",
    "    optional_scheme\n",
    "    + any_but_space\n",
    "    + domain\n",
    "    + any_but_space\n",
    ")\n",
    "\n",
    "pre.get_pattern()\n"
   ]
  },
  {
   "cell_type": "code",
   "execution_count": 27,
   "id": "06d2cb2c",
   "metadata": {},
   "outputs": [
    {
     "data": {
      "text/plain": [
       "['mathdatasimplified.com/', 'https://github.com/khuyentran1401']"
      ]
     },
     "execution_count": 27,
     "metadata": {},
     "output_type": "execute_result"
    }
   ],
   "source": [
    "pre.get_matches(text)  "
   ]
  },
  {
   "cell_type": "markdown",
   "id": "1a1a6591",
   "metadata": {},
   "source": [
    "[Full article about PregEx](https://towardsdatascience.com/pregex-write-human-readable-regular-expressions-in-python-9c87d1b1335).\n",
    "\n",
    "[Link to PregEx](https://github.com/manoss96/pregex)."
   ]
  },
  {
   "cell_type": "markdown",
   "id": "5e19711b",
   "metadata": {},
   "source": [
    "### parse: Extract Strings Using Brackets"
   ]
  },
  {
   "cell_type": "code",
   "execution_count": null,
   "id": "9dc36aff",
   "metadata": {
    "tags": [
     "hide-cell"
    ]
   },
   "outputs": [],
   "source": [
    "!pip install parse"
   ]
  },
  {
   "cell_type": "markdown",
   "id": "9e6f2061",
   "metadata": {},
   "source": [
    "If you want to extract substrings from a string, but find it challenging to do so with RegEx, try parse. parse makes it easy to extract strings that are inside brackets. "
   ]
  },
  {
   "cell_type": "code",
   "execution_count": 1,
   "id": "7d17b8aa",
   "metadata": {},
   "outputs": [
    {
     "data": {
      "text/plain": [
       "<Result ('apples', 'Aldi') {}>"
      ]
     },
     "execution_count": 1,
     "metadata": {},
     "output_type": "execute_result"
    }
   ],
   "source": [
    "from parse import parse \n",
    "\n",
    "# Get strings in the brackets\n",
    "parse(\"I'll get some {} from {}\", \"I'll get some apples from Aldi\")"
   ]
  },
  {
   "cell_type": "markdown",
   "id": "e01c3f9c",
   "metadata": {},
   "source": [
    "You can also make the brackets more readable by adding the field name to them."
   ]
  },
  {
   "cell_type": "code",
   "execution_count": 2,
   "id": "5f308b8f",
   "metadata": {},
   "outputs": [
    {
     "data": {
      "text/plain": [
       "<Result () {'items': 'shirts', 'store': 'Walmart'}>"
      ]
     },
     "execution_count": 2,
     "metadata": {},
     "output_type": "execute_result"
    }
   ],
   "source": [
    "# Specify the field names for the brackets\n",
    "parse(\"I'll get some {items} from {store}\", \"I'll get some shirts from Walmart\")"
   ]
  },
  {
   "cell_type": "markdown",
   "id": "7e85973c",
   "metadata": {},
   "source": [
    "parse also allows you to get the string with a certain format."
   ]
  },
  {
   "cell_type": "code",
   "execution_count": 3,
   "id": "c4494e1c",
   "metadata": {},
   "outputs": [
    {
     "data": {
      "text/plain": [
       "<Result () {'number': 3, 'animal': 'deer'}>"
      ]
     },
     "execution_count": 3,
     "metadata": {},
     "output_type": "execute_result"
    }
   ],
   "source": [
    "# Get a digit and a word\n",
    "r = parse(\"I saw {number:d} {animal:w}s\", \"I saw 3 deers\")\n",
    "r"
   ]
  },
  {
   "cell_type": "code",
   "execution_count": 4,
   "id": "0a9fde39",
   "metadata": {},
   "outputs": [
    {
     "data": {
      "text/plain": [
       "3"
      ]
     },
     "execution_count": 4,
     "metadata": {},
     "output_type": "execute_result"
    }
   ],
   "source": [
    "r['number']"
   ]
  },
  {
   "cell_type": "markdown",
   "id": "cbaef5a6",
   "metadata": {},
   "source": [
    "[Link to parse](https://github.com/r1chardj0n3s/parse)."
   ]
  },
  {
   "cell_type": "markdown",
   "id": "678be51c",
   "metadata": {},
   "source": [
    "### Dictdiffer: Find the Differences Between Two Dictionaries"
   ]
  },
  {
   "cell_type": "code",
   "execution_count": null,
   "id": "e7f0c482",
   "metadata": {
    "ExecuteTime": {
     "end_time": "2022-09-09T14:07:05.488769Z",
     "start_time": "2022-09-09T14:07:03.397893Z"
    },
    "tags": [
     "hide-cell"
    ]
   },
   "outputs": [],
   "source": [
    "!pip install dictdiffer"
   ]
  },
  {
   "cell_type": "markdown",
   "id": "10e182e3",
   "metadata": {},
   "source": [
    "When comparing two complicated dictionaries, it is useful to have a tool that finds the differences between the two. Dictdiffer allows you to do exactly that. "
   ]
  },
  {
   "cell_type": "code",
   "execution_count": 32,
   "id": "3f72f6ed",
   "metadata": {
    "ExecuteTime": {
     "end_time": "2022-09-09T14:29:02.957141Z",
     "start_time": "2022-09-09T14:29:02.928259Z"
    }
   },
   "outputs": [
    {
     "data": {
      "application/javascript": "\n            setTimeout(function() {\n                var nbb_cell_id = 32;\n                var nbb_unformatted_code = \"from dictdiffer import diff, swap\\n\\nuser1 = {\\n    \\\"name\\\": \\\"Ben\\\", \\n    \\\"age\\\": 25, \\n    \\\"fav_foods\\\": [\\\"ice cream\\\"],\\n}\\n\\nuser2 = {\\n    \\\"name\\\": \\\"Josh\\\",\\n    \\\"age\\\": 25,\\n    \\\"fav_foods\\\": [\\\"ice cream\\\", \\\"chicken\\\"],\\n}\";\n                var nbb_formatted_code = \"from dictdiffer import diff, swap\\n\\nuser1 = {\\n    \\\"name\\\": \\\"Ben\\\",\\n    \\\"age\\\": 25,\\n    \\\"fav_foods\\\": [\\\"ice cream\\\"],\\n}\\n\\nuser2 = {\\n    \\\"name\\\": \\\"Josh\\\",\\n    \\\"age\\\": 25,\\n    \\\"fav_foods\\\": [\\\"ice cream\\\", \\\"chicken\\\"],\\n}\";\n                var nbb_cells = Jupyter.notebook.get_cells();\n                for (var i = 0; i < nbb_cells.length; ++i) {\n                    if (nbb_cells[i].input_prompt_number == nbb_cell_id) {\n                        if (nbb_cells[i].get_text() == nbb_unformatted_code) {\n                             nbb_cells[i].set_text(nbb_formatted_code);\n                        }\n                        break;\n                    }\n                }\n            }, 500);\n            ",
      "text/plain": [
       "<IPython.core.display.Javascript object>"
      ]
     },
     "metadata": {},
     "output_type": "display_data"
    }
   ],
   "source": [
    "from dictdiffer import diff, swap\n",
    "\n",
    "user1 = {\n",
    "    \"name\": \"Ben\", \n",
    "    \"age\": 25, \n",
    "    \"fav_foods\": [\"ice cream\"],\n",
    "}\n",
    "\n",
    "user2 = {\n",
    "    \"name\": \"Josh\",\n",
    "    \"age\": 25,\n",
    "    \"fav_foods\": [\"ice cream\", \"chicken\"],\n",
    "}\n"
   ]
  },
  {
   "cell_type": "code",
   "execution_count": 33,
   "id": "bc8552c0",
   "metadata": {
    "ExecuteTime": {
     "end_time": "2022-09-09T14:29:03.410284Z",
     "start_time": "2022-09-09T14:29:03.400030Z"
    }
   },
   "outputs": [
    {
     "data": {
      "text/plain": [
       "[('change', 'name', ('Ben', 'Josh')), ('add', 'fav_foods', [(1, 'chicken')])]"
      ]
     },
     "execution_count": 33,
     "metadata": {},
     "output_type": "execute_result"
    },
    {
     "data": {
      "application/javascript": "\n            setTimeout(function() {\n                var nbb_cell_id = 33;\n                var nbb_unformatted_code = \"# find the difference between two dictionaries\\nresult = diff(user1, user2)\\nlist(result)\";\n                var nbb_formatted_code = \"# find the difference between two dictionaries\\nresult = diff(user1, user2)\\nlist(result)\";\n                var nbb_cells = Jupyter.notebook.get_cells();\n                for (var i = 0; i < nbb_cells.length; ++i) {\n                    if (nbb_cells[i].input_prompt_number == nbb_cell_id) {\n                        if (nbb_cells[i].get_text() == nbb_unformatted_code) {\n                             nbb_cells[i].set_text(nbb_formatted_code);\n                        }\n                        break;\n                    }\n                }\n            }, 500);\n            ",
      "text/plain": [
       "<IPython.core.display.Javascript object>"
      ]
     },
     "metadata": {},
     "output_type": "display_data"
    }
   ],
   "source": [
    "# find the difference between two dictionaries\n",
    "result = diff(user1, user2)\n",
    "list(result)"
   ]
  },
  {
   "cell_type": "code",
   "execution_count": 34,
   "id": "d40fdb43",
   "metadata": {
    "ExecuteTime": {
     "end_time": "2022-09-09T14:29:03.978259Z",
     "start_time": "2022-09-09T14:29:03.965616Z"
    }
   },
   "outputs": [
    {
     "data": {
      "text/plain": [
       "[('change', 'name', ('Josh', 'Ben')),\n",
       " ('remove', 'fav_foods', [(1, 'chicken')])]"
      ]
     },
     "execution_count": 34,
     "metadata": {},
     "output_type": "execute_result"
    },
    {
     "data": {
      "application/javascript": "\n            setTimeout(function() {\n                var nbb_cell_id = 34;\n                var nbb_unformatted_code = \"# swap the diff result\\nresult = diff(user1, user2)\\nswapped = swap(result)\\nlist(swapped)\";\n                var nbb_formatted_code = \"# swap the diff result\\nresult = diff(user1, user2)\\nswapped = swap(result)\\nlist(swapped)\";\n                var nbb_cells = Jupyter.notebook.get_cells();\n                for (var i = 0; i < nbb_cells.length; ++i) {\n                    if (nbb_cells[i].input_prompt_number == nbb_cell_id) {\n                        if (nbb_cells[i].get_text() == nbb_unformatted_code) {\n                             nbb_cells[i].set_text(nbb_formatted_code);\n                        }\n                        break;\n                    }\n                }\n            }, 500);\n            ",
      "text/plain": [
       "<IPython.core.display.Javascript object>"
      ]
     },
     "metadata": {},
     "output_type": "display_data"
    }
   ],
   "source": [
    "# swap the diff result\n",
    "result = diff(user1, user2)\n",
    "swapped = swap(result)\n",
    "list(swapped)"
   ]
  },
  {
   "cell_type": "markdown",
   "id": "cf78f883",
   "metadata": {},
   "source": [
    "[Link to Dictdiffer](https://github.com/inveniosoftware/dictdiffer)."
   ]
  }
 ],
 "metadata": {
  "celltoolbar": "Tags",
  "hide_input": false,
  "kernelspec": {
   "display_name": "Python 3 (ipykernel)",
   "language": "python",
   "name": "python3"
  },
  "language_info": {
   "codemirror_mode": {
    "name": "ipython",
    "version": 3
   },
   "file_extension": ".py",
   "mimetype": "text/x-python",
   "name": "python",
   "nbconvert_exporter": "python",
   "pygments_lexer": "ipython3",
   "version": "3.9.12 (main, Apr  5 2022, 01:52:34) \n[Clang 12.0.0 ]"
  },
  "toc": {
   "base_numbering": 1,
   "nav_menu": {},
   "number_sections": true,
   "sideBar": true,
   "skip_h1_title": false,
   "title_cell": "Table of Contents",
   "title_sidebar": "Contents",
   "toc_cell": false,
   "toc_position": {},
   "toc_section_display": true,
   "toc_window_display": false
  },
  "vscode": {
   "interpreter": {
    "hash": "4ebe0da03f36e8fb6eea28439654156492851611a28dbf0ee97fdcf16033a09d"
   }
  }
 },
 "nbformat": 4,
 "nbformat_minor": 5
}
