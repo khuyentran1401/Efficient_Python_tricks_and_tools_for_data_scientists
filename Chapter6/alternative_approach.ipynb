{
 "cells": [
  {
   "attachments": {},
   "cell_type": "markdown",
   "id": "943ce400",
   "metadata": {},
   "source": [
    "## Alternative Approach"
   ]
  },
  {
   "attachments": {},
   "cell_type": "markdown",
   "id": "c3c236a1",
   "metadata": {},
   "source": [
    "This section covers some alternatives approaches to work with Python. "
   ]
  },
  {
   "cell_type": "markdown",
   "id": "1dee40ba",
   "metadata": {},
   "source": [
    "### Simplify Null Checks in Python with the Maybe Container"
   ]
  },
  {
   "cell_type": "code",
   "execution_count": null,
   "id": "af9f1cbd",
   "metadata": {
    "tags": [
     "hide-cell"
    ]
   },
   "outputs": [],
   "source": [
    "!pip install returns"
   ]
  },
  {
   "cell_type": "code",
   "execution_count": 22,
   "id": "aa128125",
   "metadata": {
    "tags": [
     "hide-cell"
    ]
   },
   "outputs": [],
   "source": [
    "from typing import Optional\n",
    "\n",
    "\n",
    "class Event:\n",
    "    def __init__(self, ticket: Ticket) -> None:\n",
    "        self._ticket = ticket\n",
    "\n",
    "    def get_ticket(self) -> Ticket:\n",
    "        return self._ticket\n",
    "\n",
    "\n",
    "class Ticket:\n",
    "    def __init__(self, price: float) -> None:\n",
    "        self._price = price\n",
    "\n",
    "    def get_price(self) -> float:\n",
    "        return self._price\n",
    "\n",
    "\n",
    "class Discount:\n",
    "    def __init__(self, discount_amount: float):\n",
    "        self.discount_amount = discount_amount\n",
    "\n",
    "    def apply_discount(self, price: float) -> float:\n",
    "        return price - self.discount_amount"
   ]
  },
  {
   "cell_type": "markdown",
   "id": "aa29b7d4",
   "metadata": {},
   "source": [
    "Having multiple `if x is not None:` conditions can make the code deeply nested and unreadable."
   ]
  },
  {
   "cell_type": "code",
   "execution_count": 27,
   "id": "4c44ecd2",
   "metadata": {},
   "outputs": [
    {
     "data": {
      "text/plain": [
       "80"
      ]
     },
     "execution_count": 27,
     "metadata": {},
     "output_type": "execute_result"
    }
   ],
   "source": [
    "def calculate_discounted_price(\n",
    "    event: Optional[Event] = None, discount: Optional[Discount] = None\n",
    ") -> Optional[float]:\n",
    "    if event is not None:\n",
    "        ticket = event.get_ticket()\n",
    "        if ticket is not None:\n",
    "            price = ticket.get_price()\n",
    "            if discount is not None:\n",
    "                return discount.apply_discount(price)\n",
    "    return None\n",
    "\n",
    "\n",
    "ticket = Ticket(100)\n",
    "concert = Event(ticket)\n",
    "discount = Discount(20)\n",
    "calculate_discounted_price(concert, discount)"
   ]
  },
  {
   "cell_type": "code",
   "execution_count": 28,
   "id": "848551c3",
   "metadata": {},
   "outputs": [],
   "source": [
    "calculate_discounted_price()"
   ]
  },
  {
   "cell_type": "markdown",
   "id": "787b39d8",
   "metadata": {},
   "source": [
    "The `Maybe` container from the `returns` library enhances code clarity through the `bind_optional` method, which applies a function to the result of the previous step only when that result is not None."
   ]
  },
  {
   "cell_type": "code",
   "execution_count": 24,
   "id": "fd7e9f07",
   "metadata": {},
   "outputs": [
    {
     "data": {
      "text/plain": [
       "<Some: 80>"
      ]
     },
     "execution_count": 24,
     "metadata": {},
     "output_type": "execute_result"
    }
   ],
   "source": [
    "from returns.maybe import Maybe\n",
    "\n",
    "\n",
    "def calculate_discounted_price(\n",
    "    event: Optional[Event] = None, discount: Optional[Discount] = None\n",
    ") -> Maybe[float]:\n",
    "    return (\n",
    "        Maybe.from_optional(event)\n",
    "        .bind_optional(lambda event: event.get_ticket()) # called only when event exists\n",
    "        .bind_optional(lambda ticket: ticket.get_price()) # called only when ticket exists\n",
    "        .bind_optional(lambda price: discount.apply_discount(price)) # called only when price exists\n",
    "    )\n",
    "\n",
    "ticket = Ticket(100)\n",
    "concert = Event(ticket)\n",
    "discount = Discount(20)\n",
    "calculate_discounted_price(concert, discount)"
   ]
  },
  {
   "cell_type": "code",
   "execution_count": 25,
   "id": "6208e566",
   "metadata": {},
   "outputs": [
    {
     "data": {
      "text/plain": [
       "<Nothing>"
      ]
     },
     "execution_count": 25,
     "metadata": {},
     "output_type": "execute_result"
    }
   ],
   "source": [
    "calculate_discounted_price()"
   ]
  },
  {
   "cell_type": "markdown",
   "id": "4aa5826f",
   "metadata": {},
   "source": [
    "[Link to returns](https://bit.ly/3vUFdGW)."
   ]
  },
  {
   "attachments": {},
   "cell_type": "markdown",
   "id": "d4a8b5a3",
   "metadata": {},
   "source": [
    "### Box: Using Dot Notation to Access Keys in a Python Dictionary\n"
   ]
  },
  {
   "cell_type": "code",
   "execution_count": null,
   "id": "dd0f3b91",
   "metadata": {
    "tags": [
     "hide-cell"
    ]
   },
   "outputs": [],
   "source": [
    "!pip install python-box[all]"
   ]
  },
  {
   "attachments": {},
   "cell_type": "markdown",
   "id": "a33293ea",
   "metadata": {},
   "source": [
    "Do you wish to use `dict.key` instead of `dict['key']` to access the values inside a Python dictionary? If so, try Box.\n",
    "\n",
    "Box is like a Python dictionary except that it allows you to access keys using dot notation. This makes the code cleaner when you want to access a key inside a nested dictionary like below."
   ]
  },
  {
   "cell_type": "code",
   "execution_count": 12,
   "id": "26cc9609",
   "metadata": {
    "ExecuteTime": {
     "end_time": "2021-09-12T14:36:23.816665Z",
     "start_time": "2021-09-12T14:36:23.790113Z"
    }
   },
   "outputs": [
    {
     "name": "stdout",
     "output_type": "stream",
     "text": [
      "{'food': {'fruit': {'name': 'apple', 'flavor': 'sweet'}}}\n"
     ]
    },
    {
     "data": {
      "application/javascript": [
       "\n",
       "            setTimeout(function() {\n",
       "                var nbb_cell_id = 12;\n",
       "                var nbb_unformatted_code = \"from box import Box\\n\\nfood_box = Box({\\\"food\\\": {\\\"fruit\\\": {\\\"name\\\": \\\"apple\\\", \\\"flavor\\\": \\\"sweet\\\"}}})\\nprint(food_box)\";\n",
       "                var nbb_formatted_code = \"from box import Box\\n\\nfood_box = Box({\\\"food\\\": {\\\"fruit\\\": {\\\"name\\\": \\\"apple\\\", \\\"flavor\\\": \\\"sweet\\\"}}})\\nprint(food_box)\";\n",
       "                var nbb_cells = Jupyter.notebook.get_cells();\n",
       "                for (var i = 0; i < nbb_cells.length; ++i) {\n",
       "                    if (nbb_cells[i].input_prompt_number == nbb_cell_id) {\n",
       "                        if (nbb_cells[i].get_text() == nbb_unformatted_code) {\n",
       "                             nbb_cells[i].set_text(nbb_formatted_code);\n",
       "                        }\n",
       "                        break;\n",
       "                    }\n",
       "                }\n",
       "            }, 500);\n",
       "            "
      ],
      "text/plain": [
       "<IPython.core.display.Javascript object>"
      ]
     },
     "metadata": {},
     "output_type": "display_data"
    }
   ],
   "source": [
    "from box import Box\n",
    "\n",
    "food_box = Box({\"food\": {\"fruit\": {\"name\": \"apple\", \"flavor\": \"sweet\"}}})\n",
    "print(food_box)"
   ]
  },
  {
   "cell_type": "code",
   "execution_count": 13,
   "id": "c684506c",
   "metadata": {
    "ExecuteTime": {
     "end_time": "2021-09-12T14:36:24.337190Z",
     "start_time": "2021-09-12T14:36:24.323997Z"
    }
   },
   "outputs": [
    {
     "name": "stdout",
     "output_type": "stream",
     "text": [
      "apple\n"
     ]
    },
    {
     "data": {
      "application/javascript": [
       "\n",
       "            setTimeout(function() {\n",
       "                var nbb_cell_id = 13;\n",
       "                var nbb_unformatted_code = \"print(food_box.food.fruit.name)\";\n",
       "                var nbb_formatted_code = \"print(food_box.food.fruit.name)\";\n",
       "                var nbb_cells = Jupyter.notebook.get_cells();\n",
       "                for (var i = 0; i < nbb_cells.length; ++i) {\n",
       "                    if (nbb_cells[i].input_prompt_number == nbb_cell_id) {\n",
       "                        if (nbb_cells[i].get_text() == nbb_unformatted_code) {\n",
       "                             nbb_cells[i].set_text(nbb_formatted_code);\n",
       "                        }\n",
       "                        break;\n",
       "                    }\n",
       "                }\n",
       "            }, 500);\n",
       "            "
      ],
      "text/plain": [
       "<IPython.core.display.Javascript object>"
      ]
     },
     "metadata": {},
     "output_type": "display_data"
    }
   ],
   "source": [
    "print(food_box.food.fruit.name)"
   ]
  },
  {
   "attachments": {},
   "cell_type": "markdown",
   "id": "ce9cde5d",
   "metadata": {},
   "source": [
    "[Link to Box](https://github.com/cdgriffith/Box)."
   ]
  },
  {
   "attachments": {},
   "cell_type": "markdown",
   "id": "663c82ce",
   "metadata": {},
   "source": [
    "### decorator module: Write Shorter Python Decorators without Nested Functions"
   ]
  },
  {
   "cell_type": "code",
   "execution_count": null,
   "id": "cebff9f6",
   "metadata": {
    "tags": [
     "hide-cell"
    ]
   },
   "outputs": [],
   "source": [
    "!pip install decorator"
   ]
  },
  {
   "attachments": {},
   "cell_type": "markdown",
   "id": "4276ece6",
   "metadata": {},
   "source": [
    "Have you ever wished to write a Python decorator with only one function instead of nested functions like below?\n"
   ]
  },
  {
   "cell_type": "code",
   "execution_count": 15,
   "id": "7448cd86",
   "metadata": {
    "ExecuteTime": {
     "end_time": "2021-09-12T14:36:45.435318Z",
     "start_time": "2021-09-12T14:36:44.412274Z"
    }
   },
   "outputs": [
    {
     "name": "stdout",
     "output_type": "stream",
     "text": [
      "It takes 1.001 seconds to execute the function\n"
     ]
    },
    {
     "data": {
      "application/javascript": [
       "\n",
       "            setTimeout(function() {\n",
       "                var nbb_cell_id = 15;\n",
       "                var nbb_unformatted_code = \"from time import time, sleep\\n\\n\\ndef time_func_complex(func):\\n    def wrapper(*args, **kwargs):\\n        start_time = time()\\n        func(*args, **kwargs)\\n        end_time = time()\\n        print(\\n            f\\\"\\\"\\\"It takes {round(end_time - start_time, 3)} seconds to execute the function\\\"\\\"\\\"\\n        )\\n\\n    return wrapper\\n\\n\\n@time_func_complex\\ndef test_func_complex():\\n    sleep(1)\\n\\n\\ntest_func_complex()\";\n",
       "                var nbb_formatted_code = \"from time import time, sleep\\n\\n\\ndef time_func_complex(func):\\n    def wrapper(*args, **kwargs):\\n        start_time = time()\\n        func(*args, **kwargs)\\n        end_time = time()\\n        print(\\n            f\\\"\\\"\\\"It takes {round(end_time - start_time, 3)} seconds to execute the function\\\"\\\"\\\"\\n        )\\n\\n    return wrapper\\n\\n\\n@time_func_complex\\ndef test_func_complex():\\n    sleep(1)\\n\\n\\ntest_func_complex()\";\n",
       "                var nbb_cells = Jupyter.notebook.get_cells();\n",
       "                for (var i = 0; i < nbb_cells.length; ++i) {\n",
       "                    if (nbb_cells[i].input_prompt_number == nbb_cell_id) {\n",
       "                        if (nbb_cells[i].get_text() == nbb_unformatted_code) {\n",
       "                             nbb_cells[i].set_text(nbb_formatted_code);\n",
       "                        }\n",
       "                        break;\n",
       "                    }\n",
       "                }\n",
       "            }, 500);\n",
       "            "
      ],
      "text/plain": [
       "<IPython.core.display.Javascript object>"
      ]
     },
     "metadata": {},
     "output_type": "display_data"
    }
   ],
   "source": [
    "from time import time, sleep\n",
    "\n",
    "\n",
    "def time_func_complex(func):\n",
    "    def wrapper(*args, **kwargs):\n",
    "        start_time = time()\n",
    "        func(*args, **kwargs)\n",
    "        end_time = time()\n",
    "        print(\n",
    "            f\"\"\"It takes {round(end_time - start_time, 3)} seconds to execute the function\"\"\"\n",
    "        )\n",
    "\n",
    "    return wrapper\n",
    "\n",
    "\n",
    "@time_func_complex\n",
    "def test_func_complex():\n",
    "    sleep(1)\n",
    "\n",
    "\n",
    "test_func_complex()"
   ]
  },
  {
   "attachments": {},
   "cell_type": "markdown",
   "id": "5741e053",
   "metadata": {},
   "source": [
    "If so, try decorator. In the code below, `time_func_simple` produces the exact same results as `time_func_complex`, but `time_func_simple` is easier and short to write.\n"
   ]
  },
  {
   "cell_type": "code",
   "execution_count": 17,
   "id": "76ca58b3",
   "metadata": {
    "ExecuteTime": {
     "end_time": "2021-09-12T14:36:56.943831Z",
     "start_time": "2021-09-12T14:36:55.917239Z"
    }
   },
   "outputs": [
    {
     "name": "stdout",
     "output_type": "stream",
     "text": [
      "It takes 1.001 seconds to execute the function\n"
     ]
    },
    {
     "data": {
      "application/javascript": [
       "\n",
       "            setTimeout(function() {\n",
       "                var nbb_cell_id = 17;\n",
       "                var nbb_unformatted_code = \"from decorator import decorator\\n\\n@decorator\\ndef time_func_simple(func, *args, **kwargs):\\n    start_time = time()\\n    func(*args, **kwargs)\\n    end_time = time()\\n    print(\\n            f\\\"\\\"\\\"It takes {round(end_time - start_time, 3)} seconds to execute the function\\\"\\\"\\\"\\n    )\\n    \\n@time_func_simple  \\ndef test_func_simple():\\n    sleep(1)\\n\\ntest_func()\";\n",
       "                var nbb_formatted_code = \"from decorator import decorator\\n\\n\\n@decorator\\ndef time_func_simple(func, *args, **kwargs):\\n    start_time = time()\\n    func(*args, **kwargs)\\n    end_time = time()\\n    print(\\n        f\\\"\\\"\\\"It takes {round(end_time - start_time, 3)} seconds to execute the function\\\"\\\"\\\"\\n    )\\n\\n\\n@time_func_simple\\ndef test_func_simple():\\n    sleep(1)\\n\\n\\ntest_func()\";\n",
       "                var nbb_cells = Jupyter.notebook.get_cells();\n",
       "                for (var i = 0; i < nbb_cells.length; ++i) {\n",
       "                    if (nbb_cells[i].input_prompt_number == nbb_cell_id) {\n",
       "                        if (nbb_cells[i].get_text() == nbb_unformatted_code) {\n",
       "                             nbb_cells[i].set_text(nbb_formatted_code);\n",
       "                        }\n",
       "                        break;\n",
       "                    }\n",
       "                }\n",
       "            }, 500);\n",
       "            "
      ],
      "text/plain": [
       "<IPython.core.display.Javascript object>"
      ]
     },
     "metadata": {},
     "output_type": "display_data"
    }
   ],
   "source": [
    "from decorator import decorator\n",
    "\n",
    "\n",
    "@decorator\n",
    "def time_func_simple(func, *args, **kwargs):\n",
    "    start_time = time()\n",
    "    func(*args, **kwargs)\n",
    "    end_time = time()\n",
    "    print(\n",
    "        f\"\"\"It takes {round(end_time - start_time, 3)} seconds to execute the function\"\"\"\n",
    "    )\n",
    "\n",
    "\n",
    "@time_func_simple\n",
    "def test_func_simple():\n",
    "    sleep(1)\n",
    "\n",
    "\n",
    "test_func_simple()"
   ]
  },
  {
   "attachments": {},
   "cell_type": "markdown",
   "id": "1211a876",
   "metadata": {},
   "source": [
    "[Check out other things the decorator library can do](https://github.com/micheles/decorator)."
   ]
  },
  {
   "attachments": {},
   "cell_type": "markdown",
   "id": "dba1f40e",
   "metadata": {},
   "source": [
    "### Pipe: A Elegant Alternative to Nested map and filter Calls in Python"
   ]
  },
  {
   "cell_type": "code",
   "execution_count": null,
   "id": "cd192a58",
   "metadata": {
    "ExecuteTime": {
     "end_time": "2021-10-15T13:22:53.016416Z",
     "start_time": "2021-10-15T13:22:49.737061Z"
    },
    "tags": [
     "hide-cell"
    ]
   },
   "outputs": [],
   "source": [
    "!pip install pipe"
   ]
  },
  {
   "cell_type": "markdown",
   "id": "568929e4",
   "metadata": {},
   "source": [
    "Pipe is a Python library that enables infix notation (pipes), offering a cleaner alternative to nested function calls. Here are some of the most useful methods from the Pipe library:\n",
    "\n",
    "1. `select` and `where` (aliases for `map` and `filter`):\n",
    "\n",
    "Python's built-in `map` and `filter` functions are powerful tools for working with iterables, allowing for efficient data transformation and filtering. However, when used together, they can lead to code that's difficult to read due to nested function calls. For example:"
   ]
  },
  {
   "cell_type": "code",
   "execution_count": 20,
   "id": "f3a26660",
   "metadata": {},
   "outputs": [
    {
     "data": {
      "text/plain": [
       "[4, 16, 36]"
      ]
     },
     "execution_count": 20,
     "metadata": {},
     "output_type": "execute_result"
    }
   ],
   "source": [
    "nums = [1, 2, 3, 4, 5, 6]\n",
    "\n",
    "list(\n",
    "    filter(lambda x: x % 2 == 0, \n",
    "           map(lambda x: x ** 2, nums)\n",
    "    )\n",
    ")"
   ]
  },
  {
   "cell_type": "markdown",
   "id": "2a5fd571",
   "metadata": {},
   "source": [
    "Pipe allows for a more intuitive and readable way of chaining operations:"
   ]
  },
  {
   "cell_type": "code",
   "execution_count": 21,
   "id": "e3bcf8c1",
   "metadata": {
    "ExecuteTime": {
     "end_time": "2021-10-15T13:35:39.261323Z",
     "start_time": "2021-10-15T13:35:39.236544Z"
    }
   },
   "outputs": [
    {
     "data": {
      "text/plain": [
       "[4, 16, 36]"
      ]
     },
     "execution_count": 21,
     "metadata": {},
     "output_type": "execute_result"
    }
   ],
   "source": [
    "from pipe import select, where\n",
    "\n",
    "list(\n",
    "    nums\n",
    "    | select(lambda x: x ** 2)\n",
    "    | where(lambda x: x % 2 == 0)\n",
    ")"
   ]
  },
  {
   "cell_type": "markdown",
   "id": "93caacc6",
   "metadata": {},
   "source": [
    "In this version, the operations are read from left to right, mirroring the order in which they're applied. The `select` method corresponds to `map`, while `where` corresponds to `filter`. This syntax not only improves readability but also makes it easier to add, remove, or reorder operations in your data processing pipeline."
   ]
  },
  {
   "cell_type": "markdown",
   "id": "f86d3565",
   "metadata": {},
   "source": [
    "2. `traverse`:\n",
    "\n",
    "The `traverse` method recursively unfolds nested iterables, which is useful for flattening deeply nested lists:"
   ]
  },
  {
   "cell_type": "code",
   "execution_count": 8,
   "id": "04039ee7",
   "metadata": {},
   "outputs": [],
   "source": [
    "from pipe import traverse\n"
   ]
  },
  {
   "cell_type": "code",
   "execution_count": 14,
   "id": "48e0e73d",
   "metadata": {},
   "outputs": [
    {
     "name": "stdout",
     "output_type": "stream",
     "text": [
      "[1, 2, 3, 4, 5]\n"
     ]
    }
   ],
   "source": [
    "from pipe import traverse\n",
    "\n",
    "nested = [[1, 2, [3]], [4, 5]]\n",
    "flattened = list(nested | traverse)\n",
    "print(flattened) "
   ]
  },
  {
   "cell_type": "markdown",
   "id": "71884dd2",
   "metadata": {},
   "source": [
    "3. `chain`:\n",
    "\n",
    "The `chain` method combines multiple iterables:"
   ]
  },
  {
   "cell_type": "code",
   "execution_count": 15,
   "id": "40c1768d",
   "metadata": {},
   "outputs": [
    {
     "name": "stdout",
     "output_type": "stream",
     "text": [
      "[1, 2, 3, 4, 5]\n"
     ]
    }
   ],
   "source": [
    "from pipe import chain\n",
    "\n",
    "result = list([[1, 2], [3, 4], [5]] | chain)\n",
    "print(result)"
   ]
  },
  {
   "cell_type": "markdown",
   "id": "5272cc8f",
   "metadata": {},
   "source": [
    "4. `take` and `skip`:\n",
    "\n",
    "These methods allow you to select or skip a specific number of elements from an iterable:"
   ]
  },
  {
   "cell_type": "code",
   "execution_count": 17,
   "id": "e6673e40",
   "metadata": {},
   "outputs": [
    {
     "name": "stdout",
     "output_type": "stream",
     "text": [
      "[0, 1, 2, 3, 4]\n"
     ]
    }
   ],
   "source": [
    "from pipe import take, skip\n",
    "from itertools import count\n",
    "\n",
    "first_five = list(count() | take(5))\n",
    "print(first_five) "
   ]
  },
  {
   "cell_type": "code",
   "execution_count": 18,
   "id": "7af10b89",
   "metadata": {},
   "outputs": [
    {
     "name": "stdout",
     "output_type": "stream",
     "text": [
      "[3, 4, 5]\n"
     ]
    }
   ],
   "source": [
    "skip_first_two = list([1, 2, 3, 4, 5] | skip(2))\n",
    "print(skip_first_two) "
   ]
  },
  {
   "attachments": {},
   "cell_type": "markdown",
   "id": "3289e1d2",
   "metadata": {},
   "source": [
    "[Link to pipe](https://github.com/JulienPalard/Pipe)."
   ]
  },
  {
   "attachments": {},
   "cell_type": "markdown",
   "id": "15ac29cd",
   "metadata": {},
   "source": [
    "### PRegEx: Write Human-Readable Regular Expressions"
   ]
  },
  {
   "cell_type": "code",
   "execution_count": null,
   "id": "10c996aa",
   "metadata": {
    "tags": [
     "hide-cell"
    ]
   },
   "outputs": [],
   "source": [
    "!pip install pregex"
   ]
  },
  {
   "attachments": {},
   "cell_type": "markdown",
   "id": "0a3118be",
   "metadata": {},
   "source": [
    "RegEx is useful for extracting words with matching patterns. However, it can be difficult to read and create. PregEx allows you to write a more human-readable RegEx. \n",
    "\n",
    "In the code below, I use PregEx to extract URLs from text. "
   ]
  },
  {
   "cell_type": "code",
   "execution_count": 26,
   "id": "5c7f1f2b",
   "metadata": {},
   "outputs": [
    {
     "data": {
      "text/plain": [
       "'(?:https:\\\\/\\\\/)?\\\\S+(?:\\\\.com|\\\\.org)\\\\S+'"
      ]
     },
     "execution_count": 26,
     "metadata": {},
     "output_type": "execute_result"
    }
   ],
   "source": [
    "from pregex.core.classes import AnyButWhitespace\n",
    "from pregex.core.quantifiers import OneOrMore, Optional\n",
    "from pregex.core.operators import Either\n",
    "\n",
    "\n",
    "text = \"You can find me through my website mathdatasimplified.com/ or GitHub https://github.com/khuyentran1401\"\n",
    "\n",
    "any_but_space = OneOrMore(AnyButWhitespace())\n",
    "optional_scheme = Optional(\"https://\")\n",
    "domain = Either(\".com\", \".org\")\n",
    "\n",
    "pre = (\n",
    "    optional_scheme\n",
    "    + any_but_space\n",
    "    + domain\n",
    "    + any_but_space\n",
    ")\n",
    "\n",
    "pre.get_pattern()\n"
   ]
  },
  {
   "cell_type": "code",
   "execution_count": 27,
   "id": "06d2cb2c",
   "metadata": {},
   "outputs": [
    {
     "data": {
      "text/plain": [
       "['mathdatasimplified.com/', 'https://github.com/khuyentran1401']"
      ]
     },
     "execution_count": 27,
     "metadata": {},
     "output_type": "execute_result"
    }
   ],
   "source": [
    "pre.get_matches(text)  "
   ]
  },
  {
   "attachments": {},
   "cell_type": "markdown",
   "id": "1a1a6591",
   "metadata": {},
   "source": [
    "[Full article about PregEx](https://towardsdatascience.com/pregex-write-human-readable-regular-expressions-in-python-9c87d1b1335).\n",
    "\n",
    "[Link to PregEx](https://github.com/manoss96/pregex)."
   ]
  },
  {
   "attachments": {},
   "cell_type": "markdown",
   "id": "5e19711b",
   "metadata": {},
   "source": [
    "### parse: Extract Strings Using Brackets"
   ]
  },
  {
   "cell_type": "code",
   "execution_count": null,
   "id": "9dc36aff",
   "metadata": {
    "tags": [
     "hide-cell"
    ]
   },
   "outputs": [],
   "source": [
    "!pip install parse"
   ]
  },
  {
   "attachments": {},
   "cell_type": "markdown",
   "id": "9e6f2061",
   "metadata": {},
   "source": [
    "If you want to extract substrings from a string, but find it challenging to do so with RegEx, try parse. parse makes it easy to extract strings that are inside brackets. "
   ]
  },
  {
   "cell_type": "code",
   "execution_count": 1,
   "id": "7d17b8aa",
   "metadata": {},
   "outputs": [
    {
     "data": {
      "text/plain": [
       "<Result ('apples', 'Aldi') {}>"
      ]
     },
     "execution_count": 1,
     "metadata": {},
     "output_type": "execute_result"
    }
   ],
   "source": [
    "from parse import parse \n",
    "\n",
    "# Get strings in the brackets\n",
    "parse(\"I'll get some {} from {}\", \"I'll get some apples from Aldi\")"
   ]
  },
  {
   "attachments": {},
   "cell_type": "markdown",
   "id": "e01c3f9c",
   "metadata": {},
   "source": [
    "You can also make the brackets more readable by adding the field name to them."
   ]
  },
  {
   "cell_type": "code",
   "execution_count": 2,
   "id": "5f308b8f",
   "metadata": {},
   "outputs": [
    {
     "data": {
      "text/plain": [
       "<Result () {'items': 'shirts', 'store': 'Walmart'}>"
      ]
     },
     "execution_count": 2,
     "metadata": {},
     "output_type": "execute_result"
    }
   ],
   "source": [
    "# Specify the field names for the brackets\n",
    "parse(\"I'll get some {items} from {store}\", \"I'll get some shirts from Walmart\")"
   ]
  },
  {
   "attachments": {},
   "cell_type": "markdown",
   "id": "7e85973c",
   "metadata": {},
   "source": [
    "parse also allows you to get the string with a certain format."
   ]
  },
  {
   "cell_type": "code",
   "execution_count": 3,
   "id": "c4494e1c",
   "metadata": {},
   "outputs": [
    {
     "data": {
      "text/plain": [
       "<Result () {'number': 3, 'animal': 'deer'}>"
      ]
     },
     "execution_count": 3,
     "metadata": {},
     "output_type": "execute_result"
    }
   ],
   "source": [
    "# Get a digit and a word\n",
    "r = parse(\"I saw {number:d} {animal:w}s\", \"I saw 3 deers\")\n",
    "r"
   ]
  },
  {
   "cell_type": "code",
   "execution_count": 4,
   "id": "0a9fde39",
   "metadata": {},
   "outputs": [
    {
     "data": {
      "text/plain": [
       "3"
      ]
     },
     "execution_count": 4,
     "metadata": {},
     "output_type": "execute_result"
    }
   ],
   "source": [
    "r['number']"
   ]
  },
  {
   "attachments": {},
   "cell_type": "markdown",
   "id": "cbaef5a6",
   "metadata": {},
   "source": [
    "[Link to parse](https://github.com/r1chardj0n3s/parse)."
   ]
  },
  {
   "attachments": {},
   "cell_type": "markdown",
   "id": "b06292aa",
   "metadata": {},
   "source": [
    "### Simplify Pattern Matching and Transformation in Python with Pampy"
   ]
  },
  {
   "cell_type": "code",
   "execution_count": null,
   "id": "b20c1264",
   "metadata": {
    "tags": [
     "hide-cell"
    ]
   },
   "outputs": [],
   "source": [
    "!pip install pampy"
   ]
  },
  {
   "attachments": {},
   "cell_type": "markdown",
   "id": "91d0aea3",
   "metadata": {},
   "source": [
    "To simplify extracting and modifying complex Python objects, use Pampy. Pampy enables pattern matching across a variety of Python objects, including lists, dictionaries, tuples, and classes."
   ]
  },
  {
   "cell_type": "code",
   "execution_count": 29,
   "id": "7c87ca0b",
   "metadata": {},
   "outputs": [
    {
     "data": {
      "text/plain": [
       "\"It's 3\""
      ]
     },
     "execution_count": 29,
     "metadata": {},
     "output_type": "execute_result"
    }
   ],
   "source": [
    "from pampy import match, HEAD, TAIL, _\n",
    "\n",
    "nums = [1, 2, 3]\n",
    "match(nums, [1, 2, _], lambda num: f\"It's {num}\")\n"
   ]
  },
  {
   "cell_type": "code",
   "execution_count": 30,
   "id": "1743d6a3",
   "metadata": {},
   "outputs": [
    {
     "data": {
      "text/plain": [
       "[2, 3]"
      ]
     },
     "execution_count": 30,
     "metadata": {},
     "output_type": "execute_result"
    }
   ],
   "source": [
    "match(nums, [1, TAIL], lambda t: t)\n"
   ]
  },
  {
   "cell_type": "code",
   "execution_count": 27,
   "id": "382c386c",
   "metadata": {},
   "outputs": [
    {
     "data": {
      "text/plain": [
       "[1, 2, 3, 4]"
      ]
     },
     "execution_count": 27,
     "metadata": {},
     "output_type": "execute_result"
    }
   ],
   "source": [
    "nums = [1, [2, 3], 4]\n",
    "\n",
    "match(nums, [1, [_, 3], _], lambda a, b: [1, a, 3, b])\n"
   ]
  },
  {
   "cell_type": "code",
   "execution_count": 28,
   "id": "0ba47c66",
   "metadata": {},
   "outputs": [
    {
     "data": {
      "text/plain": [
       "3"
      ]
     },
     "execution_count": 28,
     "metadata": {},
     "output_type": "execute_result"
    }
   ],
   "source": [
    "pet = {\"type\": \"dog\", \"details\": {\"age\": 3}}\n",
    "\n",
    "match(pet, {\"details\": {\"age\": _}}, lambda age: age)\n"
   ]
  },
  {
   "attachments": {},
   "cell_type": "markdown",
   "id": "c9f2d974",
   "metadata": {},
   "source": [
    "[Link to Pampy](https://github.com/santinic/pampy)."
   ]
  },
  {
   "attachments": {},
   "cell_type": "markdown",
   "id": "678be51c",
   "metadata": {},
   "source": [
    "### Dictdiffer: Find the Differences Between Two Dictionaries"
   ]
  },
  {
   "cell_type": "code",
   "execution_count": null,
   "id": "e7f0c482",
   "metadata": {
    "ExecuteTime": {
     "end_time": "2022-09-09T14:07:05.488769Z",
     "start_time": "2022-09-09T14:07:03.397893Z"
    },
    "tags": [
     "hide-cell"
    ]
   },
   "outputs": [],
   "source": [
    "!pip install dictdiffer"
   ]
  },
  {
   "attachments": {},
   "cell_type": "markdown",
   "id": "10e182e3",
   "metadata": {},
   "source": [
    "When comparing two complicated dictionaries, it is useful to have a tool that finds the differences between the two. Dictdiffer allows you to do exactly that. "
   ]
  },
  {
   "cell_type": "code",
   "execution_count": 13,
   "id": "3f72f6ed",
   "metadata": {
    "ExecuteTime": {
     "end_time": "2022-09-09T14:29:02.957141Z",
     "start_time": "2022-09-09T14:29:02.928259Z"
    }
   },
   "outputs": [],
   "source": [
    "from dictdiffer import diff, swap\n",
    "\n",
    "user1 = {\n",
    "    \"name\": \"Ben\", \n",
    "    \"age\": 25, \n",
    "    \"fav_foods\": [\"ice cream\"],\n",
    "}\n",
    "\n",
    "user2 = {\n",
    "    \"name\": \"Josh\",\n",
    "    \"age\": 25,\n",
    "    \"fav_foods\": [\"ice cream\", \"chicken\"],\n",
    "}\n"
   ]
  },
  {
   "cell_type": "code",
   "execution_count": 33,
   "id": "bc8552c0",
   "metadata": {
    "ExecuteTime": {
     "end_time": "2022-09-09T14:29:03.410284Z",
     "start_time": "2022-09-09T14:29:03.400030Z"
    }
   },
   "outputs": [
    {
     "data": {
      "text/plain": [
       "[('change', 'name', ('Ben', 'Josh')), ('add', 'fav_foods', [(1, 'chicken')])]"
      ]
     },
     "execution_count": 33,
     "metadata": {},
     "output_type": "execute_result"
    },
    {
     "data": {
      "application/javascript": [
       "\n",
       "            setTimeout(function() {\n",
       "                var nbb_cell_id = 33;\n",
       "                var nbb_unformatted_code = \"# find the difference between two dictionaries\\nresult = diff(user1, user2)\\nlist(result)\";\n",
       "                var nbb_formatted_code = \"# find the difference between two dictionaries\\nresult = diff(user1, user2)\\nlist(result)\";\n",
       "                var nbb_cells = Jupyter.notebook.get_cells();\n",
       "                for (var i = 0; i < nbb_cells.length; ++i) {\n",
       "                    if (nbb_cells[i].input_prompt_number == nbb_cell_id) {\n",
       "                        if (nbb_cells[i].get_text() == nbb_unformatted_code) {\n",
       "                             nbb_cells[i].set_text(nbb_formatted_code);\n",
       "                        }\n",
       "                        break;\n",
       "                    }\n",
       "                }\n",
       "            }, 500);\n",
       "            "
      ],
      "text/plain": [
       "<IPython.core.display.Javascript object>"
      ]
     },
     "metadata": {},
     "output_type": "display_data"
    }
   ],
   "source": [
    "# find the difference between two dictionaries\n",
    "result = diff(user1, user2)\n",
    "list(result)"
   ]
  },
  {
   "cell_type": "code",
   "execution_count": 34,
   "id": "d40fdb43",
   "metadata": {
    "ExecuteTime": {
     "end_time": "2022-09-09T14:29:03.978259Z",
     "start_time": "2022-09-09T14:29:03.965616Z"
    }
   },
   "outputs": [
    {
     "data": {
      "text/plain": [
       "[('change', 'name', ('Josh', 'Ben')),\n",
       " ('remove', 'fav_foods', [(1, 'chicken')])]"
      ]
     },
     "execution_count": 34,
     "metadata": {},
     "output_type": "execute_result"
    },
    {
     "data": {
      "application/javascript": [
       "\n",
       "            setTimeout(function() {\n",
       "                var nbb_cell_id = 34;\n",
       "                var nbb_unformatted_code = \"# swap the diff result\\nresult = diff(user1, user2)\\nswapped = swap(result)\\nlist(swapped)\";\n",
       "                var nbb_formatted_code = \"# swap the diff result\\nresult = diff(user1, user2)\\nswapped = swap(result)\\nlist(swapped)\";\n",
       "                var nbb_cells = Jupyter.notebook.get_cells();\n",
       "                for (var i = 0; i < nbb_cells.length; ++i) {\n",
       "                    if (nbb_cells[i].input_prompt_number == nbb_cell_id) {\n",
       "                        if (nbb_cells[i].get_text() == nbb_unformatted_code) {\n",
       "                             nbb_cells[i].set_text(nbb_formatted_code);\n",
       "                        }\n",
       "                        break;\n",
       "                    }\n",
       "                }\n",
       "            }, 500);\n",
       "            "
      ],
      "text/plain": [
       "<IPython.core.display.Javascript object>"
      ]
     },
     "metadata": {},
     "output_type": "display_data"
    }
   ],
   "source": [
    "# swap the diff result\n",
    "result = diff(user1, user2)\n",
    "swapped = swap(result)\n",
    "list(swapped)"
   ]
  },
  {
   "attachments": {},
   "cell_type": "markdown",
   "id": "cf78f883",
   "metadata": {},
   "source": [
    "[Link to Dictdiffer](https://github.com/inveniosoftware/dictdiffer)."
   ]
  },
  {
   "attachments": {},
   "cell_type": "markdown",
   "id": "d93fab2c",
   "metadata": {},
   "source": [
    "### unyt: Manipulate and Convert Units in NumPy Arrays"
   ]
  },
  {
   "cell_type": "code",
   "execution_count": null,
   "id": "365c9de3",
   "metadata": {
    "tags": [
     "hide-cell"
    ]
   },
   "outputs": [],
   "source": [
    "!pip install unyt "
   ]
  },
  {
   "attachments": {},
   "cell_type": "markdown",
   "id": "20fb3666",
   "metadata": {},
   "source": [
    "Working with NumPy arrays that have units can be difficult, as it is not immediately clear what the units are, which can lead to errors. \n",
    "\n",
    "The unyt package solves this by providing a subclass of NumPy's ndarray class that knows units."
   ]
  },
  {
   "cell_type": "code",
   "execution_count": 18,
   "id": "255c0193",
   "metadata": {},
   "outputs": [
    {
     "name": "stdout",
     "output_type": "stream",
     "text": [
      "[ 77.  86.  95. 104.]\n"
     ]
    }
   ],
   "source": [
    "import numpy as np\n",
    "\n",
    "temps = np.array([25, 30, 35, 40])\n",
    "\n",
    "temps_f = (temps * 9/5) + 32\n",
    "print(temps_f)"
   ]
  },
  {
   "cell_type": "code",
   "execution_count": 19,
   "id": "1833dfa2",
   "metadata": {},
   "outputs": [
    {
     "name": "stdout",
     "output_type": "stream",
     "text": [
      "[ 77.  86.  95. 104.] °F\n"
     ]
    }
   ],
   "source": [
    "from unyt import degC, degF\n",
    "\n",
    "# Create an array of temperatures in Celsius\n",
    "temps = np.array([25, 30, 35, 40]) * degC\n",
    "\n",
    "# Convert the temperatures to Fahrenheit\n",
    "temps_f = temps.to(degF)\n",
    "print(temps_f)"
   ]
  },
  {
   "attachments": {},
   "cell_type": "markdown",
   "id": "4b631f0c",
   "metadata": {},
   "source": [
    "unyt arrays support standard NumPy array operations and functions while also preserving the units associated with the data."
   ]
  },
  {
   "cell_type": "code",
   "execution_count": 17,
   "id": "f060dc3b",
   "metadata": {},
   "outputs": [
    {
     "data": {
      "text/plain": [
       "unyt_array([[ 77., 572.],\n",
       "            [ 95., 104.]], 'degF')"
      ]
     },
     "execution_count": 17,
     "metadata": {},
     "output_type": "execute_result"
    }
   ],
   "source": [
    "temps_f.reshape(2, 2)"
   ]
  },
  {
   "attachments": {},
   "cell_type": "markdown",
   "id": "9a380175",
   "metadata": {},
   "source": [
    "[Link to unyt](https://github.com/yt-project/unyt)."
   ]
  },
  {
   "cell_type": "markdown",
   "id": "92e258d0-76e3-4012-b82f-20697d597ad0",
   "metadata": {
    "editable": true,
    "slideshow": {
     "slide_type": ""
    },
    "tags": []
   },
   "source": [
    "### Using natsort for Intuitive Alphanumeric Sorting in Python"
   ]
  },
  {
   "cell_type": "code",
   "execution_count": null,
   "id": "f284fb92-78a7-4d64-a846-d790b85c3c29",
   "metadata": {
    "editable": true,
    "slideshow": {
     "slide_type": ""
    },
    "tags": [
     "hide-cell"
    ]
   },
   "outputs": [],
   "source": [
    "!pip install 'natsort[fast]'"
   ]
  },
  {
   "cell_type": "markdown",
   "id": "a95beb67-fb97-4194-b00f-4b626233426a",
   "metadata": {},
   "source": [
    "When sorting a list of strings containing numbers, Python's default sorting algorithm operates lexicographically. This can lead to unexpected results, especially when dealing with measurements or alphanumeric data:"
   ]
  },
  {
   "cell_type": "code",
   "execution_count": 5,
   "id": "4c262242-c667-4c60-be41-2a73236377e7",
   "metadata": {},
   "outputs": [
    {
     "data": {
      "text/plain": [
       "['1 ft 5 in', '10 ft 2 in', '2 ft 11 in', '2 ft 7 in', '7 ft 6 in']"
      ]
     },
     "execution_count": 5,
     "metadata": {},
     "output_type": "execute_result"
    }
   ],
   "source": [
    "a = ['2 ft 7 in', '1 ft 5 in', '10 ft 2 in', '2 ft 11 in', '7 ft 6 in']\n",
    "sorted(a)"
   ]
  },
  {
   "cell_type": "markdown",
   "id": "f91b4d57-7a89-4446-a014-0cbd32c39242",
   "metadata": {},
   "source": [
    "As you can see, the default `sorted()` function produces a result that doesn't align with our intuitive understanding of numerical order. It places '10 ft 2 in' before '2 ft 11 in' because it compares the strings character by character.\n",
    "\n",
    "The natsort library solves this problem by providing natural sorting functionality that handles numbers within strings intelligently."
   ]
  },
  {
   "cell_type": "code",
   "execution_count": 3,
   "id": "66cb23ba-4fd2-484a-a18a-410aa830352c",
   "metadata": {},
   "outputs": [
    {
     "data": {
      "text/plain": [
       "['1 ft 5 in', '2 ft 7 in', '2 ft 11 in', '7 ft 6 in', '10 ft 2 in']"
      ]
     },
     "execution_count": 3,
     "metadata": {},
     "output_type": "execute_result"
    }
   ],
   "source": [
    "from natsort import natsorted\n",
    "\n",
    "a = ['2 ft 7 in', '1 ft 5 in', '10 ft 2 in', '2 ft 11 in', '7 ft 6 in']\n",
    "natsorted(a)"
   ]
  },
  {
   "cell_type": "markdown",
   "id": "d76363c3-b698-4f36-9bc4-091b810a955a",
   "metadata": {
    "editable": true,
    "slideshow": {
     "slide_type": ""
    },
    "tags": []
   },
   "source": [
    "This makes natsort particularly useful when dealing with alphanumeric data, such as filenames, version numbers, or measurements."
   ]
  },
  {
   "cell_type": "markdown",
   "id": "4f8428b2-b500-4927-89af-4b4ef1d62cc3",
   "metadata": {
    "editable": true,
    "slideshow": {
     "slide_type": ""
    },
    "tags": []
   },
   "source": [
    "[Link to natsort](https://github.com/SethMMorton/natsort)."
   ]
  },
  {
   "cell_type": "markdown",
   "id": "4779f413-cfa7-4a23-a535-ec4977ef3a09",
   "metadata": {},
   "source": [
    "### smart_open: The Python Library That Makes Cloud Storage Feel Local"
   ]
  },
  {
   "cell_type": "code",
   "execution_count": null,
   "id": "1ae55ff7-b1f0-4722-8bef-82639db6ea27",
   "metadata": {
    "editable": true,
    "slideshow": {
     "slide_type": ""
    },
    "tags": [
     "hide-cell"
    ]
   },
   "outputs": [],
   "source": [
    "pip install \"smart_open[s3]\""
   ]
  },
  {
   "cell_type": "markdown",
   "id": "45a5ea8b-6e54-4e2b-b330-fa1e7e5a530a",
   "metadata": {},
   "source": [
    "Working with large remote files in cloud storage services such as S3 often involves complex boilerplate code and careful management of file-like objects, which can lead to subtle bugs.\n",
    "\n",
    "Let's first look at how we typically interact with S3 using boto3, the AWS SDK for Python:"
   ]
  },
  {
   "cell_type": "code",
   "execution_count": 32,
   "id": "34cf0187-bc10-4ba4-ba9a-3885096f91a3",
   "metadata": {},
   "outputs": [
    {
     "name": "stdout",
     "output_type": "stream",
     "text": [
      "Hello, world!\n"
     ]
    }
   ],
   "source": [
    "import boto3\n",
    "\n",
    "# Initialize S3 client\n",
    "s3_client = boto3.client('s3')\n",
    "\n",
    "with open('example_file.txt', 'w') as local_file:\n",
    "    local_file.write(\"Hello, world!\")\n",
    "\n",
    "s3_client.upload_file('example_file.txt', 'khuyen-bucket', 'remote_file.txt')\n",
    "s3_client.download_file('khuyen-bucket', 'remote_file.txt', 'example_file2.txt')\n",
    "\n",
    "with open('example_file2.txt', 'r') as local_file:\n",
    "    content = local_file.read()\n",
    "    print(content)"
   ]
  },
  {
   "cell_type": "markdown",
   "id": "7bb3f6f9-2610-4d35-9de9-fc0f1c909602",
   "metadata": {},
   "source": [
    "As you can see, this approach requires initializing an S3 client, managing file-like objects, and using separate methods for uploading and downloading. It's not particularly intuitive, especially for developers who are used to working with local files."
   ]
  },
  {
   "cell_type": "markdown",
   "id": "dafd1806-4cc5-42df-8d93-46509935702f",
   "metadata": {
    "editable": true,
    "slideshow": {
     "slide_type": ""
    },
    "tags": []
   },
   "source": [
    "smart_open addresses these issues by providing a single `open()` function that works across different storage systems and file formats. Let's see how it simplifies our S3 operations:"
   ]
  },
  {
   "cell_type": "code",
   "execution_count": 33,
   "id": "a29762d4-bf4a-4aa1-9011-7ec83f98399e",
   "metadata": {
    "editable": true,
    "slideshow": {
     "slide_type": ""
    },
    "tags": []
   },
   "outputs": [
    {
     "name": "stdout",
     "output_type": "stream",
     "text": [
      "Hello, world!\n"
     ]
    }
   ],
   "source": [
    "from smart_open import open\n",
    "\n",
    "with open('s3://khuyen-bucket/example_file.txt', 'w') as s3_file:\n",
    "    s3_file.write(\"Hello, world!\")\n",
    "\n",
    "\n",
    "with open('s3://khuyen-bucket/example_file.txt', 'r') as s3_file:\n",
    "    print(s3_file.read())"
   ]
  },
  {
   "cell_type": "markdown",
   "id": "cc03ec11-a855-4216-b747-f35ba847bdd6",
   "metadata": {
    "editable": true,
    "slideshow": {
     "slide_type": ""
    },
    "tags": []
   },
   "source": [
    "Another great feature of smart_open is its ability to handle compressed files transparently. Let's say we have a gzipped file that we want to upload to S3 and then read from:"
   ]
  },
  {
   "cell_type": "code",
   "execution_count": 36,
   "id": "7d5733b6-945b-4313-92c1-85bc0353750f",
   "metadata": {
    "editable": true,
    "slideshow": {
     "slide_type": ""
    },
    "tags": [
     "remove-cell"
    ]
   },
   "outputs": [],
   "source": [
    "!gzip example_file.txt"
   ]
  },
  {
   "cell_type": "code",
   "execution_count": 37,
   "id": "630af8f8-5ed8-422d-9f3f-2d536538419f",
   "metadata": {
    "editable": true,
    "slideshow": {
     "slide_type": ""
    },
    "tags": []
   },
   "outputs": [
    {
     "name": "stdout",
     "output_type": "stream",
     "text": [
      "Hello, world!\n"
     ]
    }
   ],
   "source": [
    "# Uploading a gzipped file\n",
    "with open('example_file.txt.gz', 'r') as local_file:\n",
    "    with open('s3://khuyen-bucket/example_file.txt.gz', 'w') as s3_file:\n",
    "        s3_file.write(local_file.read())\n",
    "        \n",
    "# Reading a gzipped file from S3\n",
    "with open('s3://khuyen-bucket/example_file.txt.gz', 'r') as s3_file:\n",
    "    content = s3_file.read()\n",
    "    print(content)"
   ]
  },
  {
   "cell_type": "markdown",
   "id": "79c4f51f-1b31-4df8-95c6-16feef6e4118",
   "metadata": {},
   "source": [
    "[Link to smart_open](https://github.com/piskvorky/smart_open)."
   ]
  }
 ],
 "metadata": {
  "celltoolbar": "Tags",
  "hide_input": false,
  "kernelspec": {
   "display_name": "Python 3 (ipykernel)",
   "language": "python",
   "name": "python3"
  },
  "language_info": {
   "codemirror_mode": {
    "name": "ipython",
    "version": 3
   },
   "file_extension": ".py",
   "mimetype": "text/x-python",
   "name": "python",
   "nbconvert_exporter": "python",
   "pygments_lexer": "ipython3",
   "version": "3.11.6"
  },
  "toc": {
   "base_numbering": 1,
   "nav_menu": {},
   "number_sections": true,
   "sideBar": true,
   "skip_h1_title": false,
   "title_cell": "Table of Contents",
   "title_sidebar": "Contents",
   "toc_cell": false,
   "toc_position": {},
   "toc_section_display": true,
   "toc_window_display": false
  },
  "vscode": {
   "interpreter": {
    "hash": "c3bc044b9863ed6dec4c55e7ad5af27f030f7d27aed3f39d7a4886a926c4e2c1"
   }
  }
 },
 "nbformat": 4,
 "nbformat_minor": 5
}
