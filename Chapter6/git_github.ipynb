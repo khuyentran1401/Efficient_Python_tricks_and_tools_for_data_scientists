{
 "cells": [
  {
   "cell_type": "markdown",
   "id": "258bb97c",
   "metadata": {},
   "source": [
    "## Git and GitHub"
   ]
  },
  {
   "cell_type": "markdown",
   "id": "e682ad79",
   "metadata": {},
   "source": [
    "![](../img/github.png)"
   ]
  },
  {
   "cell_type": "markdown",
   "id": "a5aa65e6",
   "metadata": {},
   "source": [
    "This section shows some tricks and tools to work with Git and GitHub"
   ]
  },
  {
   "cell_type": "markdown",
   "id": "b57d198a",
   "metadata": {},
   "source": [
    "### GitHub CLI: Brings GitHub to Your Terminal\t"
   ]
  },
  {
   "cell_type": "markdown",
   "id": "cd7a60cc",
   "metadata": {},
   "source": [
    "If you create a local folder before creating a GitHub repository for it, you might need to go to the GitHub website then create a new repository, then add a remote to your current folder. Is there any way that all of these steps could be done in the terminal in 1 line of code?\n",
    "\n",
    "That is when GitHub CLI  comes in handy. The code snippet below shows how to create a new Github repository in your local folder."
   ]
  },
  {
   "cell_type": "markdown",
   "id": "32cfe427",
   "metadata": {},
   "source": [
    "```bash\n",
    "$ cd your_local_folder\n",
    "\n",
    "# Create an empty local git repo\n",
    "$ git init\n",
    "\n",
    "# Create a new GitHub repo\n",
    "$ gh repo create\n",
    "```"
   ]
  },
  {
   "cell_type": "markdown",
   "id": "5bf06e9c",
   "metadata": {},
   "source": [
    "With GitHub CLI, you can also manage your pull requests, issues, repositories, gists, and so much more! Check out GitHub CLI [here](https://cli.github.com/)."
   ]
  },
  {
   "cell_type": "markdown",
   "id": "d5b8ec19",
   "metadata": {},
   "source": [
    "### Pull One File from Another Branch Using Git\n"
   ]
  },
  {
   "cell_type": "markdown",
   "id": "cf272477",
   "metadata": {},
   "source": [
    "Pull the files from another branch into your branch can be messy. What if you just want to pull one file from another branch? You can easily to like that with the code snippet below:\n"
   ]
  },
  {
   "cell_type": "markdown",
   "id": "c240dbd8",
   "metadata": {},
   "source": [
    "```bash\n",
    "# downloads contents from remote repository\n",
    "$ git fetch\n",
    "\n",
    "# navigate to another branch\n",
    "$ git checkout\n",
    "\n",
    "# adds a change in the working directory to the staging area\n",
    "$ git add \n",
    "\n",
    "# captures the state of a project at that point in time\n",
    "$ git commit\n",
    "```"
   ]
  },
  {
   "cell_type": "markdown",
   "id": "cc1fba05",
   "metadata": {},
   "source": [
    "Now you just update one file in your branch without messing with the rest!\n"
   ]
  },
  {
   "cell_type": "markdown",
   "id": "0130a665",
   "metadata": {},
   "source": [
    "### Download a File on GitHub Using wget\n"
   ]
  },
  {
   "cell_type": "markdown",
   "id": "05c3dc24",
   "metadata": {},
   "source": [
    "If you want to download a file on Github such as a csv file, instead of cloning the repo, simply use the code snippet above. For example, if the website the file you want to extract is https://github.com/khuyentran1401/Data-science/blob/master/visualization/dropdown/population.csv, type:\n",
    "\n",
    "```bash\n",
    "$ wget https://raw.githubusercontent.com/khuyentran1401/Data-science/master/visualization/dropdown/population.csv\n",
    "```\n",
    "\n",
    "Now the data is in your directory!\n",
    "\n"
   ]
  },
  {
   "cell_type": "markdown",
   "id": "377cf487",
   "metadata": {},
   "source": [
    "### github1s: Read GitHub Code with VS Code on your Browser in One Second\n"
   ]
  },
  {
   "cell_type": "markdown",
   "id": "476b720c",
   "metadata": {},
   "source": [
    "Syntax highlighting in VS Code makes it easy for you to understand the source code. Is there a way that you can read GitHub code with VS Code in 1s?\n",
    "\n",
    "Yes, there is. Simply replace `github.com/yourname/repository` with `github1s.com/yourname/repository` to view Github with VS Code. It should show up like below.\n",
    "\n",
    "[Here](https://github1s.com/khuyentran1401/Data-science) is an example."
   ]
  },
  {
   "attachments": {},
   "cell_type": "markdown",
   "id": "a003a34f",
   "metadata": {},
   "source": [
    "![image](../img/github1s.png)"
   ]
  },
  {
   "cell_type": "markdown",
   "id": "ebb7f6f5",
   "metadata": {},
   "source": [
    "### Astral: Organize Your Github Stars with Ease"
   ]
  },
  {
   "cell_type": "markdown",
   "id": "7f37c786",
   "metadata": {},
   "source": [
    "I have been sharing many tools and you might not be able to keep up with them. To save and organize the tools you discovered on Github, you can use Astral.\n",
    "\n",
    "With Astral, you can organize my starred Github repositories like below.\n",
    "\n",
    "I have been using this for months, and it is super quick when I want to find the right tool for my project."
   ]
  },
  {
   "attachments": {},
   "cell_type": "markdown",
   "id": "a6099967",
   "metadata": {},
   "source": [
    "![image](../img/astral.png)"
   ]
  },
  {
   "cell_type": "markdown",
   "id": "0648e16a",
   "metadata": {},
   "source": [
    "[Link to Astral](http://astralapp.com/)."
   ]
  },
  {
   "cell_type": "markdown",
   "id": "a1419d4d",
   "metadata": {},
   "source": [
    "### pip install -e: Install Forked GitHub Repository Using Pip"
   ]
  },
  {
   "cell_type": "markdown",
   "id": "b5079744",
   "metadata": {},
   "source": [
    "Sometimes, you might fork and make some changes to the original GitHub repository. If you want others to install your forked repo, use `pip install -e git+https://github.com/username/package.git#egg=package`.\n",
    "\n",
    "The code below shows how to install the forked repo of NumPy.\n",
    "\n",
    "```bash\n",
    "$ pip install -e git+https://github.com/khuyentran1401/numpy.git#egg=numpy \n",
    "```"
   ]
  },
  {
   "cell_type": "markdown",
   "id": "97416870",
   "metadata": {},
   "source": [
    "### git-open: Open a GitHub Page for a Local Repository"
   ]
  },
  {
   "cell_type": "markdown",
   "id": "d94e370a",
   "metadata": {},
   "source": [
    "It can be a hassle to find a GitHub page for your local repository. \n",
    "\n",
    "git-open makes it easy to open a GitHub page for a repository with one command.\n",
    "\n",
    "![](../img/gitopen.gif)"
   ]
  },
  {
   "cell_type": "markdown",
   "id": "7d2ff50e",
   "metadata": {},
   "source": [
    "[Link to git-open](https://github.com/paulirish/git-open)."
   ]
  },
  {
   "attachments": {},
   "cell_type": "markdown",
   "id": "ae89f89f",
   "metadata": {},
   "source": [
    "### gpt-commit-summarizer: Automate Pull Request Summarization"
   ]
  },
  {
   "attachments": {},
   "cell_type": "markdown",
   "id": "8704ec05",
   "metadata": {},
   "source": [
    "gpt-commit-summarizer is a GitHub Action that leverages the power of GPT to summarize the changes made in a pull request.\n",
    "\n",
    "This eliminates the need for manual summarization, saving you valuable time, especially when dealing with numerous changes within a commit.\n",
    "\n",
    "![](../img/gpt-commit.gif)"
   ]
  },
  {
   "attachments": {},
   "cell_type": "markdown",
   "id": "1478415d",
   "metadata": {},
   "source": [
    "\n",
    "To use gpt-commit-summarizer, simply add the the following workflow file to your repository:\n",
    "\n",
    "```yaml\n",
    "name: GPT Commits summarizer\n",
    "# Summary: This action will write a comment about every commit in a pull request, as well as generate a summary for every file that was modified and add it to the review page, compile a PR summary from all commit summaries and file diff summaries, and delete outdated code review comments\n",
    "\n",
    "on:\n",
    "  pull_request:\n",
    "    types: [opened, synchronize]\n",
    "\n",
    "jobs:\n",
    "  summarize:\n",
    "    runs-on: ubuntu-latest\n",
    "    permissions: write-all  # Some repositories need this line\n",
    "\n",
    "    steps:\n",
    "      - uses: KanHarI/gpt-commit-summarizer@master\n",
    "        env:\n",
    "          GITHUB_TOKEN: ${{ secrets.GITHUB_TOKEN }}\n",
    "          OPENAI_API_KEY: ${{ secrets.OPENAI_API_KEY }}\n",
    "```"
   ]
  },
  {
   "attachments": {},
   "cell_type": "markdown",
   "id": "b1d71947",
   "metadata": {},
   "source": [
    "[Link to gpt-commit-summarizer](https://github.com/KanHarI/gpt-commit-summarizer/)."
   ]
  }
 ],
 "metadata": {
  "kernelspec": {
   "display_name": "Python 3",
   "language": "python",
   "name": "python3"
  },
  "language_info": {
   "codemirror_mode": {
    "name": "ipython",
    "version": 3
   },
   "file_extension": ".py",
   "mimetype": "text/x-python",
   "name": "python",
   "nbconvert_exporter": "python",
   "pygments_lexer": "ipython3",
   "version": "3.8.10"
  },
  "toc": {
   "base_numbering": 1,
   "nav_menu": {},
   "number_sections": true,
   "sideBar": true,
   "skip_h1_title": false,
   "title_cell": "Table of Contents",
   "title_sidebar": "Contents",
   "toc_cell": false,
   "toc_position": {},
   "toc_section_display": true,
   "toc_window_display": false
  }
 },
 "nbformat": 4,
 "nbformat_minor": 5
}
