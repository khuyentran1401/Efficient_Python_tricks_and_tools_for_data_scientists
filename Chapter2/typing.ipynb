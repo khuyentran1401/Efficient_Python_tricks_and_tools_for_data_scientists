{
 "cells": [
  {
   "cell_type": "markdown",
   "id": "88ef998b",
   "metadata": {},
   "source": [
    "## Typing"
   ]
  },
  {
   "cell_type": "markdown",
   "id": "41ffbc4e",
   "metadata": {},
   "source": [
    "typing is a Python module that allows developers to specify the types of inputs to make sure the input types are correct."
   ]
  },
  {
   "cell_type": "markdown",
   "id": "24aa6c9a",
   "metadata": {},
   "source": [
    "### Callable"
   ]
  },
  {
   "cell_type": "code",
   "execution_count": null,
   "id": "6171ee41",
   "metadata": {
    "ExecuteTime": {
     "end_time": "2021-11-11T14:56:41.179887Z",
     "start_time": "2021-11-11T14:56:38.859989Z"
    },
    "tags": [
     "hide-cell"
    ]
   },
   "outputs": [],
   "source": [
    "!pip install mypy"
   ]
  },
  {
   "cell_type": "markdown",
   "id": "fdb35fd7",
   "metadata": {},
   "source": [
    "If you want to specify an input is of type function, use `typing.Callable`.  "
   ]
  },
  {
   "cell_type": "code",
   "execution_count": null,
   "id": "90da3ba2",
   "metadata": {
    "ExecuteTime": {
     "end_time": "2021-11-11T15:05:00.256612Z",
     "start_time": "2021-11-11T15:05:00.248112Z"
    }
   },
   "outputs": [],
   "source": [
    "%%writefile callable_example.py \n",
    "\n",
    "# callable_example.py \n",
    "\n",
    "from typing import Callable\n",
    "\n",
    "def multiply(x: float, y: float) -> float:\n",
    "    return x * y\n",
    "\n",
    "def multiply_then_divide_by_two(multiply_func: Callable[[float, float], float], x: float, y: float) -> float:\n",
    "    return multiply_func(x, y) / 2\n",
    "\n",
    "res = multiply_then_divide_by_two(multiply, 2, 3)"
   ]
  },
  {
   "cell_type": "markdown",
   "id": "c2bef897",
   "metadata": {},
   "source": [
    "```bash\n",
    "$ mypy callable_example.py\n",
    "```"
   ]
  },
  {
   "cell_type": "markdown",
   "id": "e761acbc",
   "metadata": {},
   "source": [
    "`Callable` can now be used static type checker such as mypy to check if the input is indeed a function. "
   ]
  },
  {
   "cell_type": "code",
   "execution_count": 9,
   "id": "0a5c34cc",
   "metadata": {
    "ExecuteTime": {
     "end_time": "2021-11-11T15:05:01.479098Z",
     "start_time": "2021-11-11T15:05:01.109253Z"
    },
    "tags": [
     "hide-cell"
    ]
   },
   "outputs": [
    {
     "name": "stdout",
     "output_type": "stream",
     "text": [
      "\u001b[1m\u001b[32mSuccess: no issues found in 1 source file\u001b[m\r\n"
     ]
    }
   ],
   "source": [
    "!mypy callable_example.py"
   ]
  }
 ],
 "metadata": {
  "celltoolbar": "Tags",
  "kernelspec": {
   "display_name": "Python 3 (ipykernel)",
   "language": "python",
   "name": "python3"
  },
  "language_info": {
   "codemirror_mode": {
    "name": "ipython",
    "version": 3
   },
   "file_extension": ".py",
   "mimetype": "text/x-python",
   "name": "python",
   "nbconvert_exporter": "python",
   "pygments_lexer": "ipython3",
   "version": "3.8.10"
  },
  "toc": {
   "base_numbering": 1,
   "nav_menu": {},
   "number_sections": true,
   "sideBar": true,
   "skip_h1_title": false,
   "title_cell": "Table of Contents",
   "title_sidebar": "Contents",
   "toc_cell": false,
   "toc_position": {},
   "toc_section_display": true,
   "toc_window_display": false
  }
 },
 "nbformat": 4,
 "nbformat_minor": 5
}
