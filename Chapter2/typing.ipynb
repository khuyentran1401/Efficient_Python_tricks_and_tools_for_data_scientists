{
 "cells": [
  {
   "cell_type": "markdown",
   "id": "c3e152f0",
   "metadata": {},
   "source": [
    "## Typing"
   ]
  },
  {
   "cell_type": "markdown",
   "id": "253c5653",
   "metadata": {},
   "source": [
    "typing is a Python module that allows developers to specify the types of inputs to make sure the input types are correct."
   ]
  },
  {
   "cell_type": "markdown",
   "id": "304e3a01",
   "metadata": {},
   "source": [
    "### typing.Callable: Specify an Input is of Type Function"
   ]
  },
  {
   "cell_type": "code",
   "execution_count": null,
   "id": "22987b22",
   "metadata": {
    "ExecuteTime": {
     "end_time": "2021-11-11T14:56:41.179887Z",
     "start_time": "2021-11-11T14:56:38.859989Z"
    },
    "tags": [
     "hide-cell"
    ]
   },
   "outputs": [],
   "source": [
    "!pip install mypy"
   ]
  },
  {
   "cell_type": "markdown",
   "id": "c3968e19",
   "metadata": {},
   "source": [
    "If you want to specify an input is of type function, use `typing.Callable`.  "
   ]
  },
  {
   "cell_type": "code",
   "execution_count": 5,
   "id": "cf8b555b",
   "metadata": {
    "ExecuteTime": {
     "end_time": "2021-11-11T15:05:00.256612Z",
     "start_time": "2021-11-11T15:05:00.248112Z"
    }
   },
   "outputs": [
    {
     "name": "stdout",
     "output_type": "stream",
     "text": [
      "Writing callable_example.py\n"
     ]
    }
   ],
   "source": [
    "%%writefile callable_example.py \n",
    "from typing import Callable\n",
    "\n",
    "def multiply(x: float, y: float) -> float:\n",
    "    return x * y\n",
    "\n",
    "def multiply_then_divide_by_two(multiply_func: Callable[[float, float], float], x: float, y: float) -> float:\n",
    "    return multiply_func(x, y) / 2\n",
    "\n",
    "res = multiply_then_divide_by_two(multiply, 2, 3)"
   ]
  },
  {
   "cell_type": "markdown",
   "id": "0385278d",
   "metadata": {},
   "source": [
    "```bash\n",
    "$ mypy callable_example.py\n",
    "```"
   ]
  },
  {
   "cell_type": "markdown",
   "id": "40683be2",
   "metadata": {},
   "source": [
    "`Callable` can now be used static type checker such as mypy to check if the input is indeed a function. "
   ]
  },
  {
   "cell_type": "code",
   "execution_count": 6,
   "id": "d833767c",
   "metadata": {
    "ExecuteTime": {
     "end_time": "2021-11-11T15:05:01.479098Z",
     "start_time": "2021-11-11T15:05:01.109253Z"
    },
    "tags": [
     "hide-input"
    ]
   },
   "outputs": [
    {
     "name": "stdout",
     "output_type": "stream",
     "text": [
      "\u001b[1m\u001b[32mSuccess: no issues found in 1 source file\u001b[m\n"
     ]
    }
   ],
   "source": [
    "!mypy callable_example.py"
   ]
  },
  {
   "cell_type": "markdown",
   "id": "eec714a3",
   "metadata": {},
   "source": [
    "### Use Python Class as a Type Hint"
   ]
  },
  {
   "cell_type": "markdown",
   "id": "7fd980d0",
   "metadata": {},
   "source": [
    "In the code below, `Orange` and `Apple` are subclasses of `Fruit`. How do we use type hint to specify that `fruit_type` in `make_fruit` should be a subclass of `Fruit`? \n",
    "\n",
    "Using a parent class as a type hint will give you a type error when using mypy. "
   ]
  },
  {
   "cell_type": "code",
   "execution_count": 7,
   "id": "68fd7855",
   "metadata": {},
   "outputs": [
    {
     "name": "stdout",
     "output_type": "stream",
     "text": [
      "Writing type_example_wrong.py\n"
     ]
    }
   ],
   "source": [
    "%%writefile type_example_wrong.py\n",
    "class Fruit:\n",
    "    def __init__(self, taste: str) -> None:\n",
    "        self.taste = taste \n",
    "\n",
    "class Orange(Fruit):\n",
    "    ... \n",
    "\n",
    "class Apple(Fruit):\n",
    "    ... \n",
    "\n",
    "def make_fruit(fruit_type: Fruit, taste: str):\n",
    "    return fruit_type(taste=taste)\n",
    "\n",
    "orange = make_fruit(Orange, \"sour\")"
   ]
  },
  {
   "cell_type": "markdown",
   "id": "22e2ec6c",
   "metadata": {},
   "source": [
    "```bash\n",
    "$ mypy type_example_wrong.py\n",
    "```"
   ]
  },
  {
   "cell_type": "code",
   "execution_count": 8,
   "id": "4a114235",
   "metadata": {
    "tags": [
     "remove-input"
    ]
   },
   "outputs": [
    {
     "name": "stdout",
     "output_type": "stream",
     "text": [
      "type_example_wrong.py:12: \u001b[1m\u001b[31merror:\u001b[m \u001b[m\u001b[1m\"Fruit\"\u001b[m not callable  \u001b[m\u001b[33m[operator]\u001b[m\n",
      "type_example_wrong.py:14: \u001b[1m\u001b[31merror:\u001b[m Argument 1 to \u001b[m\u001b[1m\"make_fruit\"\u001b[m has incompatible type \u001b[m\u001b[1m\"Type[Orange]\"\u001b[m; expected \u001b[m\u001b[1m\"Fruit\"\u001b[m  \u001b[m\u001b[33m[arg-type]\u001b[m\n",
      "\u001b[1m\u001b[31mFound 2 errors in 1 file (checked 1 source file)\u001b[m\n"
     ]
    }
   ],
   "source": [
    "!mypy type_example_wrong.py"
   ]
  },
  {
   "cell_type": "markdown",
   "id": "dadbb1b8",
   "metadata": {},
   "source": [
    "Use `typing.Type` instead."
   ]
  },
  {
   "cell_type": "code",
   "execution_count": 12,
   "id": "a6741c60",
   "metadata": {},
   "outputs": [
    {
     "name": "stdout",
     "output_type": "stream",
     "text": [
      "Writing type_example_right.py\n"
     ]
    }
   ],
   "source": [
    "%%writefile type_example_right.py\n",
    "from typing import Type \n",
    "\n",
    "class Fruit:\n",
    "    def __init__(self, taste: str) -> None:\n",
    "        self.taste = taste \n",
    "\n",
    "class Orange(Fruit):\n",
    "    ... \n",
    "\n",
    "class Apple(Fruit):\n",
    "    ... \n",
    "\n",
    "def make_fruit(fruit_type: Type[Fruit], taste: str):\n",
    "    return fruit_type(taste=taste)\n",
    "\n",
    "orange = make_fruit(Orange, \"sour\")"
   ]
  },
  {
   "cell_type": "markdown",
   "id": "78a98c20",
   "metadata": {},
   "source": [
    "```bash\n",
    "$ mypy type_example_right.py\n",
    "```"
   ]
  },
  {
   "cell_type": "code",
   "execution_count": 13,
   "id": "1290f4bc",
   "metadata": {
    "tags": [
     "remove-input"
    ]
   },
   "outputs": [
    {
     "name": "stdout",
     "output_type": "stream",
     "text": [
      "\u001b[1m\u001b[32mSuccess: no issues found in 1 source file\u001b[m\n"
     ]
    }
   ],
   "source": [
    "!mypy type_example_right.py"
   ]
  },
  {
   "cell_type": "markdown",
   "id": "51ca6bba",
   "metadata": {},
   "source": [
    "### typing.Annotated: Add Metadata to Your Typehint"
   ]
  },
  {
   "cell_type": "markdown",
   "id": "4b8b77d6",
   "metadata": {},
   "source": [
    "If you want to add metadata to your typehint such as units of measurement, use `typing.Annotated`."
   ]
  },
  {
   "cell_type": "code",
   "execution_count": 14,
   "id": "48cc4e59",
   "metadata": {},
   "outputs": [
    {
     "name": "stdout",
     "output_type": "stream",
     "text": [
      "Writing typing_annotated.py\n"
     ]
    }
   ],
   "source": [
    "%%writefile typing_annotated.py \n",
    "from typing import Annotated\n",
    "\n",
    "\n",
    "def get_height_in_feet(height: Annotated[float, \"meters\"]):\n",
    "    return height * 3.28084\n",
    "\n",
    "\n",
    "print(get_height_in_feet(height=1.6))"
   ]
  },
  {
   "cell_type": "markdown",
   "id": "58b0cc48",
   "metadata": {},
   "source": [
    "`Annotated[T, x]` allows static typechecking such as mypy to check `T` while safely ignoring `x`. "
   ]
  },
  {
   "cell_type": "code",
   "execution_count": 15,
   "id": "2d19c68d",
   "metadata": {},
   "outputs": [
    {
     "name": "stdout",
     "output_type": "stream",
     "text": [
      "\u001b[1m\u001b[32mSuccess: no issues found in 1 source file\u001b[m\n"
     ]
    }
   ],
   "source": [
    "!mypy typing_annotated.py "
   ]
  },
  {
   "cell_type": "markdown",
   "id": "1565f39f",
   "metadata": {},
   "source": [
    "This method is available for Python 3.9 and above. "
   ]
  },
  {
   "cell_type": "markdown",
   "id": "64c988f5",
   "metadata": {},
   "source": [
    "### typing.final: Declare That a Method Should Not Be Overridden"
   ]
  },
  {
   "cell_type": "markdown",
   "id": "173db493",
   "metadata": {},
   "source": [
    "If you want to declare that some methods shouldn't be overridden by subclasses, use the decorator `typing.final`.  "
   ]
  },
  {
   "cell_type": "code",
   "execution_count": 17,
   "id": "d744071d",
   "metadata": {},
   "outputs": [
    {
     "name": "stdout",
     "output_type": "stream",
     "text": [
      "Writing typing_final.py\n"
     ]
    }
   ],
   "source": [
    "%%writefile typing_final.py\n",
    "from typing import final \n",
    "\n",
    "class Dog:\n",
    "    @final \n",
    "    def bark(self) -> None:\n",
    "        print(\"Woof\")\n",
    "\n",
    "class Dachshund(Dog):\n",
    "    def bark(self) -> None:\n",
    "        print(\"Ruff\")\n",
    "\n",
    "bim = Dachshund()\n",
    "bim.bark()"
   ]
  },
  {
   "cell_type": "markdown",
   "id": "bb446299",
   "metadata": {},
   "source": [
    "```bash\n",
    "$ mypy typing_final.py\n",
    "```"
   ]
  },
  {
   "cell_type": "code",
   "execution_count": 18,
   "id": "2e6a9ddd",
   "metadata": {
    "tags": [
     "remove-input"
    ]
   },
   "outputs": [
    {
     "name": "stdout",
     "output_type": "stream",
     "text": [
      "typing_final.py:9: \u001b[1m\u001b[31merror:\u001b[m Cannot override final attribute \u001b[m\u001b[1m\"bark\"\u001b[m (previously declared in base class \u001b[m\u001b[1m\"Dog\"\u001b[m)  \u001b[m\u001b[33m[misc]\u001b[m\n",
      "\u001b[1m\u001b[31mFound 1 error in 1 file (checked 1 source file)\u001b[m\n"
     ]
    }
   ],
   "source": [
    "!mypy typing_final.py"
   ]
  },
  {
   "cell_type": "markdown",
   "id": "3804bb1c",
   "metadata": {},
   "source": [
    "This method is available for Python 3.8 and above. "
   ]
  },
  {
   "cell_type": "markdown",
   "id": "912e9268",
   "metadata": {},
   "source": [
    "### typing.Literal: Specify the Possible Values for a Function Parameter "
   ]
  },
  {
   "cell_type": "markdown",
   "id": "d14a9f41",
   "metadata": {},
   "source": [
    "If you want to use type hints to check that a variable or a function parameter is in a set of literal values, use `typing.Literal`. \n",
    "\n",
    "In the example below, since `grape` is not in the set of literal values, mypy raises an error. "
   ]
  },
  {
   "cell_type": "code",
   "execution_count": 20,
   "id": "c481ae1f",
   "metadata": {},
   "outputs": [
    {
     "name": "stdout",
     "output_type": "stream",
     "text": [
      "Writing typing_literal.py\n"
     ]
    }
   ],
   "source": [
    "%%writefile typing_literal.py\n",
    "from typing import Literal\n",
    "\n",
    "\n",
    "def get_price(fruit: Literal[\"apple\", \"orange\"]):\n",
    "    if fruit == \"apple\":\n",
    "        return 1\n",
    "    else:  # if it is orange\n",
    "        return 2\n",
    "\n",
    "\n",
    "get_price(\"grape\")"
   ]
  },
  {
   "cell_type": "markdown",
   "id": "b54c096a",
   "metadata": {},
   "source": [
    "```bash\n",
    "$ mypy typing_literal.py\n",
    "```"
   ]
  },
  {
   "cell_type": "code",
   "execution_count": 21,
   "id": "bfcf44d9",
   "metadata": {
    "tags": [
     "remove-input"
    ]
   },
   "outputs": [
    {
     "name": "stdout",
     "output_type": "stream",
     "text": [
      "typing_literal.py:11: \u001b[1m\u001b[31merror:\u001b[m Argument 1 to \u001b[m\u001b[1m\"get_price\"\u001b[m has incompatible type \u001b[m\u001b[1m\"Literal['grape']\"\u001b[m; expected \u001b[m\u001b[1m\"Literal['apple', 'orange']\"\u001b[m  \u001b[m\u001b[33m[arg-type]\u001b[m\n",
      "\u001b[1m\u001b[31mFound 1 error in 1 file (checked 1 source file)\u001b[m\n"
     ]
    }
   ],
   "source": [
    "!mypy typing_literal.py "
   ]
  },
  {
   "cell_type": "markdown",
   "id": "3f95fb27",
   "metadata": {},
   "source": [
    "This method is available in Python 3.8 and above. "
   ]
  },
  {
   "attachments": {},
   "cell_type": "markdown",
   "id": "3f93c066",
   "metadata": {},
   "source": [
    "### typing.TypeVar: Flexible Typing for Context-Dependent Types"
   ]
  },
  {
   "attachments": {},
   "cell_type": "markdown",
   "id": "914983d5",
   "metadata": {},
   "source": [
    "If you have multiple functions with a shared purpose but differing only in element types, group them into one function to improve code readability and scalability. "
   ]
  },
  {
   "cell_type": "code",
   "execution_count": 27,
   "id": "e36b4516",
   "metadata": {},
   "outputs": [],
   "source": [
    "def last_int(l: list[int]) -> int:\n",
    "    return l[-1]\n",
    "\n",
    "def last_str(l: list[str]) -> str:\n",
    "    return l[-1]"
   ]
  },
  {
   "attachments": {},
   "cell_type": "markdown",
   "id": "27782fb8",
   "metadata": {},
   "source": [
    "Type variables allow you to create generic code that can adapt to various types based on the context in which it is invoked.\n",
    "\n",
    "In the first call, the list `list(range(10))` contains integers, so the type of `T` is inferred to be `int`. In the second example call, the list `list(\"abc\")` contains strings, so the type of `T` is inferred to be `str`."
   ]
  },
  {
   "cell_type": "code",
   "execution_count": 33,
   "id": "e5e0c11a",
   "metadata": {},
   "outputs": [
    {
     "name": "stdout",
     "output_type": "stream",
     "text": [
      "Writing typevar_example.py\n"
     ]
    }
   ],
   "source": [
    "%%writefile typevar_example.py \n",
    "from typing import TypeVar\n",
    "\n",
    "\n",
    "T = TypeVar(\"T\")\n",
    "\n",
    "\n",
    "def last(l: list[T]) -> T:\n",
    "    return l[-1]\n",
    "\n",
    "\n",
    "if __name__ == \"__main__\":\n",
    "    last(list(range(10)))\n",
    "    last(list(\"abc\"))"
   ]
  },
  {
   "attachments": {},
   "cell_type": "markdown",
   "id": "9eb24449",
   "metadata": {},
   "source": [
    "```bash\n",
    "$ mypy typevar_example.py\n",
    "```"
   ]
  },
  {
   "cell_type": "code",
   "execution_count": 34,
   "id": "8ff1a954",
   "metadata": {
    "tags": [
     "remove-input"
    ]
   },
   "outputs": [
    {
     "name": "stdout",
     "output_type": "stream",
     "text": [
      "\u001b[1m\u001b[32mSuccess: no issues found in 1 source file\u001b[m\n"
     ]
    }
   ],
   "source": [
    "!mypy typevar_example.py"
   ]
  },
  {
   "attachments": {},
   "cell_type": "markdown",
   "id": "c754ba52",
   "metadata": {},
   "source": [
    "### Write Union Types with X|Y"
   ]
  },
  {
   "attachments": {},
   "cell_type": "markdown",
   "id": "6ed77f61",
   "metadata": {},
   "source": [
    "`typing.Union[X, Y]` is used to declare that a variable can be either `X` or `Y`. In Python 3.10 and above, you can replace `Union[X, Y]` with `X|Y`. "
   ]
  },
  {
   "cell_type": "code",
   "execution_count": 3,
   "id": "f75439f9",
   "metadata": {},
   "outputs": [
    {
     "data": {
      "text/plain": [
       "dict_values([3, 2.5])"
      ]
     },
     "execution_count": 3,
     "metadata": {},
     "output_type": "execute_result"
    }
   ],
   "source": [
    "# Before Python 3.10\n",
    "from typing import Dict, Union\n",
    "\n",
    "\n",
    "def get_price(grocery: Dict[str, Union[int, float]]):\n",
    "    return grocery.values()\n",
    "\n",
    "\n",
    "grocery = {\"apple\": 3, \"orange\": 2.5}\n",
    "get_price(grocery)\n",
    " "
   ]
  },
  {
   "cell_type": "code",
   "execution_count": 4,
   "id": "1cf6ab4e",
   "metadata": {},
   "outputs": [
    {
     "data": {
      "text/plain": [
       "dict_values([3, 2.5])"
      ]
     },
     "execution_count": 4,
     "metadata": {},
     "output_type": "execute_result"
    }
   ],
   "source": [
    "# In Python 3.10\n",
    "def get_price(grocery: dict[str, int | float]):\n",
    "    return grocery.values()\n",
    "\n",
    "\n",
    "grocery = {\"apple\": 3, \"orange\": 2.5}\n",
    "get_price(grocery)\n"
   ]
  }
 ],
 "metadata": {
  "celltoolbar": "Tags",
  "hide_input": false,
  "kernelspec": {
   "display_name": "Python 3",
   "language": "python",
   "name": "python3"
  },
  "language_info": {
   "codemirror_mode": {
    "name": "ipython",
    "version": 3
   },
   "file_extension": ".py",
   "mimetype": "text/x-python",
   "name": "python",
   "nbconvert_exporter": "python",
   "pygments_lexer": "ipython3",
   "version": "3.9.6"
  },
  "toc": {
   "base_numbering": 1,
   "nav_menu": {},
   "number_sections": true,
   "sideBar": true,
   "skip_h1_title": false,
   "title_cell": "Table of Contents",
   "title_sidebar": "Contents",
   "toc_cell": false,
   "toc_position": {},
   "toc_section_display": true,
   "toc_window_display": false
  },
  "vscode": {
   "interpreter": {
    "hash": "b0fa6594d8f4cbf19f97940f81e996739fb7646882a419484c72d19e05852a7e"
   }
  }
 },
 "nbformat": 4,
 "nbformat_minor": 5
}
