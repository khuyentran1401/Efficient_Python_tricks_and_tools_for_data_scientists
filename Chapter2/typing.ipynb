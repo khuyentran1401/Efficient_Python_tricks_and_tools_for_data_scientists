{
 "cells": [
  {
   "cell_type": "markdown",
   "id": "c3e152f0",
   "metadata": {},
   "source": [
    "## Typing"
   ]
  },
  {
   "cell_type": "markdown",
   "id": "253c5653",
   "metadata": {},
   "source": [
    "typing is a Python module that allows developers to specify the types of inputs to make sure the input types are correct."
   ]
  },
  {
   "cell_type": "markdown",
   "id": "304e3a01",
   "metadata": {},
   "source": [
    "### typing.Callable: Specify an Input is of Type Function"
   ]
  },
  {
   "cell_type": "code",
   "execution_count": null,
   "id": "22987b22",
   "metadata": {
    "ExecuteTime": {
     "end_time": "2021-11-11T14:56:41.179887Z",
     "start_time": "2021-11-11T14:56:38.859989Z"
    },
    "tags": [
     "hide-cell"
    ]
   },
   "outputs": [],
   "source": [
    "!pip install mypy"
   ]
  },
  {
   "cell_type": "markdown",
   "id": "c3968e19",
   "metadata": {},
   "source": [
    "If you want to specify an input is of type function, use `typing.Callable`.  "
   ]
  },
  {
   "cell_type": "code",
   "execution_count": null,
   "id": "cf8b555b",
   "metadata": {
    "ExecuteTime": {
     "end_time": "2021-11-11T15:05:00.256612Z",
     "start_time": "2021-11-11T15:05:00.248112Z"
    }
   },
   "outputs": [],
   "source": [
    "%%writefile callable_example.py \n",
    "\n",
    "# callable_example.py \n",
    "\n",
    "from typing import Callable\n",
    "\n",
    "def multiply(x: float, y: float) -> float:\n",
    "    return x * y\n",
    "\n",
    "def multiply_then_divide_by_two(multiply_func: Callable[[float, float], float], x: float, y: float) -> float:\n",
    "    return multiply_func(x, y) / 2\n",
    "\n",
    "res = multiply_then_divide_by_two(multiply, 2, 3)"
   ]
  },
  {
   "cell_type": "markdown",
   "id": "0385278d",
   "metadata": {},
   "source": [
    "```bash\n",
    "$ mypy callable_example.py\n",
    "```"
   ]
  },
  {
   "cell_type": "markdown",
   "id": "40683be2",
   "metadata": {},
   "source": [
    "`Callable` can now be used static type checker such as mypy to check if the input is indeed a function. "
   ]
  },
  {
   "cell_type": "code",
   "execution_count": 9,
   "id": "d833767c",
   "metadata": {
    "ExecuteTime": {
     "end_time": "2021-11-11T15:05:01.479098Z",
     "start_time": "2021-11-11T15:05:01.109253Z"
    },
    "tags": [
     "hide-input"
    ]
   },
   "outputs": [
    {
     "name": "stdout",
     "output_type": "stream",
     "text": [
      "\u001b[1m\u001b[32mSuccess: no issues found in 1 source file\u001b[m\r\n"
     ]
    }
   ],
   "source": [
    "!mypy callable_example.py"
   ]
  },
  {
   "cell_type": "markdown",
   "id": "eec714a3",
   "metadata": {},
   "source": [
    "### Use Python Class as a Type Hint"
   ]
  },
  {
   "cell_type": "markdown",
   "id": "7fd980d0",
   "metadata": {},
   "source": [
    "In the code below, `Orange` and `Apple` are subclasses of `Fruit`. How do we use type hint to specify that `fruit_type` in `make_fruit` should be a subclass of `Fruit`? \n",
    "\n",
    "Using a parent class as a type hint will give you a type error when using mypy. "
   ]
  },
  {
   "cell_type": "markdown",
   "id": "68fd7855",
   "metadata": {},
   "source": [
    "```python\n",
    "# type_example_wrong.py\n",
    "class Fruit:\n",
    "    def __init__(self, taste: str) -> None:\n",
    "        self.taste = taste \n",
    "\n",
    "class Orange(Fruit):\n",
    "    ... \n",
    "\n",
    "class Apple(Fruit):\n",
    "    ... \n",
    "\n",
    "def make_fruit(fruit_type: Fruit, taste: str):\n",
    "    return fruit_type(taste=taste)\n",
    "\n",
    "orange = make_fruit(Orange, \"sour\")\n",
    "```"
   ]
  },
  {
   "cell_type": "markdown",
   "id": "22e2ec6c",
   "metadata": {},
   "source": [
    "```bash\n",
    "$ mypy type_example_wrong.py\n",
    "```"
   ]
  },
  {
   "cell_type": "code",
   "execution_count": 11,
   "id": "4a114235",
   "metadata": {
    "tags": [
     "remove-input"
    ]
   },
   "outputs": [
    {
     "name": "stdout",
     "output_type": "stream",
     "text": [
      "type_example_wrong.py:12: \u001b[1m\u001b[31merror:\u001b[m \u001b[m\u001b[1m\"Fruit\"\u001b[m not callable\u001b[m\n",
      "type_example_wrong.py:14: \u001b[1m\u001b[31merror:\u001b[m Argument 1 to \u001b[m\u001b[1m\"make_fruit\"\u001b[m has incompatible type \u001b[m\u001b[1m\"Type[Orange]\"\u001b[m; expected \u001b[m\u001b[1m\"Fruit\"\u001b[m\u001b[m\n",
      "\u001b[1m\u001b[31mFound 2 errors in 1 file (checked 1 source file)\u001b[m\n"
     ]
    }
   ],
   "source": [
    "!mypy type_example_wrong.py"
   ]
  },
  {
   "cell_type": "markdown",
   "id": "dadbb1b8",
   "metadata": {},
   "source": [
    "Use `typing.Type` instead."
   ]
  },
  {
   "cell_type": "markdown",
   "id": "a6741c60",
   "metadata": {},
   "source": [
    "```python\n",
    "from typing import Type \n",
    "\n",
    "class Fruit:\n",
    "    def __init__(self, taste: str) -> None:\n",
    "        self.taste = taste \n",
    "\n",
    "class Orange(Fruit):\n",
    "    ... \n",
    "\n",
    "class Apple(Fruit):\n",
    "    ... \n",
    "\n",
    "def make_fruit(fruit_type: Type[Fruit], taste: str):\n",
    "    return fruit_type(taste=taste)\n",
    "\n",
    "orange = make_fruit(Orange, \"sour\")\n",
    "```"
   ]
  },
  {
   "cell_type": "markdown",
   "id": "78a98c20",
   "metadata": {},
   "source": [
    "```bash\n",
    "$ mypy type_example_right.py\n",
    "```"
   ]
  },
  {
   "cell_type": "code",
   "execution_count": 12,
   "id": "1290f4bc",
   "metadata": {
    "tags": [
     "remove-input"
    ]
   },
   "outputs": [
    {
     "name": "stdout",
     "output_type": "stream",
     "text": [
      "\u001b[1m\u001b[32mSuccess: no issues found in 1 source file\u001b[m\n"
     ]
    }
   ],
   "source": [
    "!mypy type_example_right.py"
   ]
  }
 ],
 "metadata": {
  "celltoolbar": "Tags",
  "hide_input": false,
  "interpreter": {
   "hash": "484329849bb907480cd798e750759bc6f1d66c93f9e78e7055aa0a2c2de6b47b"
  },
  "kernelspec": {
   "display_name": "Python 3 (ipykernel)",
   "language": "python",
   "name": "python3"
  },
  "language_info": {
   "codemirror_mode": {
    "name": "ipython",
    "version": 3
   },
   "file_extension": ".py",
   "mimetype": "text/x-python",
   "name": "python",
   "nbconvert_exporter": "python",
   "pygments_lexer": "ipython3",
   "version": "3.8.9"
  },
  "toc": {
   "base_numbering": 1,
   "nav_menu": {},
   "number_sections": true,
   "sideBar": true,
   "skip_h1_title": false,
   "title_cell": "Table of Contents",
   "title_sidebar": "Contents",
   "toc_cell": false,
   "toc_position": {},
   "toc_section_display": true,
   "toc_window_display": false
  }
 },
 "nbformat": 4,
 "nbformat_minor": 5
}
