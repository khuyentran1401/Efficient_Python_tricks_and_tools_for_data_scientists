{
 "cells": [
  {
   "cell_type": "markdown",
   "id": "3569bdc8",
   "metadata": {},
   "source": [
    "## Pydantic"
   ]
  },
  {
   "cell_type": "markdown",
   "id": "ada65a73",
   "metadata": {},
   "source": [
    "### Simplify Data Validation with Pydantic"
   ]
  },
  {
   "cell_type": "markdown",
   "id": "0f82baff",
   "metadata": {},
   "source": [
    "Dataclasses require manual implementation of validation."
   ]
  },
  {
   "cell_type": "code",
   "execution_count": 11,
   "id": "5b663960-6035-414d-87de-c3b61194ce1f",
   "metadata": {},
   "outputs": [
    {
     "name": "stdout",
     "output_type": "stream",
     "text": [
      "Validation error: Age must be a valid integer, unable to parse string as an integer\n"
     ]
    }
   ],
   "source": [
    "from dataclasses import dataclass\n",
    "\n",
    "@dataclass\n",
    "class Dog:\n",
    "    name: str\n",
    "    age: int\n",
    "\n",
    "    def __post_init__(self):\n",
    "        if not isinstance(self.name, str):\n",
    "            raise ValueError(\"Name must be a string\")\n",
    "            \n",
    "        try:\n",
    "            self.age = int(self.age)\n",
    "        except (ValueError, TypeError):\n",
    "            raise ValueError(\"Age must be a valid integer, unable to parse string as an integer\")\n",
    "\n",
    "# Usage\n",
    "try:\n",
    "    dog = Dog(name=\"Bim\", age=\"ten\")\n",
    "except ValueError as e:\n",
    "    print(f\"Validation error: {e}\")"
   ]
  },
  {
   "cell_type": "markdown",
   "id": "719ee8e6-1035-457f-a04a-72117521f8e9",
   "metadata": {},
   "source": [
    "On the other hand, Pydantic offers built-in validation that automatically validates data and provides informative error messages. This makes Pydantic particularly useful when working with data from external sources."
   ]
  },
  {
   "cell_type": "code",
   "execution_count": 7,
   "id": "9bc629b5",
   "metadata": {},
   "outputs": [
    {
     "name": "stdout",
     "output_type": "stream",
     "text": [
      "Validation error: 1 validation error for Dog\n",
      "age\n",
      "  Input should be a valid integer, unable to parse string as an integer [type=int_parsing, input_value='ten', input_type=str]\n",
      "    For further information visit https://errors.pydantic.dev/2.5/v/int_parsing\n"
     ]
    }
   ],
   "source": [
    "from pydantic import BaseModel\n",
    "\n",
    "\n",
    "class Dog(BaseModel):\n",
    "    name: str\n",
    "    age: int\n",
    "\n",
    "try:\n",
    "    dog = Dog(name=\"Bim\", age=\"ten\")\n",
    "except ValueError as e:\n",
    "    print(f\"Validation error: {e}\")"
   ]
  },
  {
   "cell_type": "markdown",
   "id": "15dd5037",
   "metadata": {},
   "source": [
    "### Use Pydantic's Field Class to Validate Numbers and Dates"
   ]
  },
  {
   "cell_type": "code",
   "execution_count": null,
   "id": "eb27ed75",
   "metadata": {
    "tags": [
     "hide-cell"
    ]
   },
   "outputs": [],
   "source": [
    "!pip install pydantic"
   ]
  },
  {
   "cell_type": "markdown",
   "id": "082a6675",
   "metadata": {},
   "source": [
    "In addition to checking the type, you may also want to check if numbers and dates match specific constraints. Pydantic's Field class provides keyword arguments that make this easy."
   ]
  },
  {
   "cell_type": "code",
   "execution_count": null,
   "id": "49c502e7",
   "metadata": {},
   "outputs": [],
   "source": [
    "from pydantic import BaseModel, Field\n",
    "from datetime import date\n",
    "\n",
    "\n",
    "class Song(BaseModel):\n",
    "    title: str\n",
    "    artist: str\n",
    "    duration: float = Field(gt=0.0)  # greater than 0\n",
    "    release_date: date = Field(lt=date.today())  # before today\n",
    "    beats_per_minute: int = Field(multiple_of=5)  # multiple of 5\n",
    "\n",
    "\n",
    "song1 = Song(\n",
    "    title=\"Believer\",\n",
    "    artist=\"Imagine Dragons\",\n",
    "    duration=0,\n",
    "    release_date=date(2024, 6, 1),\n",
    "    beats_per_minute=125,\n",
    ")"
   ]
  },
  {
   "cell_type": "markdown",
   "id": "e406a6af",
   "metadata": {},
   "source": [
    "```bash\n",
    "ValidationError: 2 validation errors for Song\n",
    "duration\n",
    "  Input should be greater than 0 [type=greater_than, input_value=0, input_type=int]\n",
    "    For further information visit https://errors.pydantic.dev/2.5/v/greater_than\n",
    "release_date\n",
    "  Input should be less than 2024-05-10 [type=less_than, input_value=datetime.date(2024, 6, 1), input_type=date]\n",
    "    For further information visit https://errors.pydantic.dev/2.5/v/less_than\n",
    "```"
   ]
  },
  {
   "cell_type": "markdown",
   "id": "60b73d45",
   "metadata": {},
   "source": [
    "[Learn more about Pydantic's numeric constraints](https://bit.ly/4bbhthb)."
   ]
  }
 ],
 "metadata": {
  "kernelspec": {
   "display_name": "Python 3 (ipykernel)",
   "language": "python",
   "name": "python3"
  },
  "language_info": {
   "codemirror_mode": {
    "name": "ipython",
    "version": 3
   },
   "file_extension": ".py",
   "mimetype": "text/x-python",
   "name": "python",
   "nbconvert_exporter": "python",
   "pygments_lexer": "ipython3",
   "version": "3.11.6"
  }
 },
 "nbformat": 4,
 "nbformat_minor": 5
}
