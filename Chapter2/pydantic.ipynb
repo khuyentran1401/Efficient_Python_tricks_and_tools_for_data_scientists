{
 "cells": [
  {
   "cell_type": "markdown",
   "id": "3569bdc8",
   "metadata": {},
   "source": [
    "## Pydantic"
   ]
  },
  {
   "cell_type": "markdown",
   "id": "ada65a73",
   "metadata": {},
   "source": [
    "### Simplify Data Validation with Pydantic"
   ]
  },
  {
   "cell_type": "markdown",
   "id": "0f82baff",
   "metadata": {},
   "source": [
    "Dataclasses require manual implementation of validation.\n",
    "\n",
    "On the other hand, Pydantic offers built-in validation that automatically validates data and provides informative error messages. This makes Pydantic particularly useful when working with data from external sources.\n"
   ]
  },
  {
   "cell_type": "code",
   "execution_count": null,
   "id": "9bc629b5",
   "metadata": {},
   "outputs": [
    {
     "ename": "ValidationError",
     "evalue": "1 validation error for Dog\nage\n  Input should be a valid integer, unable to parse string as an integer [type=int_parsing, input_value='ten', input_type=str]\n    For further information visit https://errors.pydantic.dev/2.5/v/int_parsing",
     "output_type": "error",
     "traceback": [
      "\u001b[0;31m---------------------------------------------------------------------------\u001b[0m\n",
      "\u001b[0;31mValidationError\u001b[0m                           Traceback (most recent call last)\n",
      "Cell \u001b[0;32mIn[3], line 9\u001b[0m\n",
      "\u001b[1;32m      5\u001b[0m     names: \u001b[38;5;28mstr\u001b[39m\n",
      "\u001b[1;32m      6\u001b[0m     age: \u001b[38;5;28mint\u001b[39m\n",
      "\u001b[0;32m----> 9\u001b[0m dog \u001b[38;5;241m=\u001b[39m \u001b[43mDog\u001b[49m\u001b[43m(\u001b[49m\u001b[43mnames\u001b[49m\u001b[38;5;241;43m=\u001b[39;49m\u001b[38;5;124;43m\"\u001b[39;49m\u001b[38;5;124;43mBim\u001b[39;49m\u001b[38;5;124;43m\"\u001b[39;49m\u001b[43m,\u001b[49m\u001b[43m \u001b[49m\u001b[43mage\u001b[49m\u001b[38;5;241;43m=\u001b[39;49m\u001b[38;5;124;43m\"\u001b[39;49m\u001b[38;5;124;43mten\u001b[39;49m\u001b[38;5;124;43m\"\u001b[39;49m\u001b[43m)\u001b[49m\n",
      "\n",
      "File \u001b[0;32m~/book/venv/lib/python3.11/site-packages/pydantic/main.py:164\u001b[0m, in \u001b[0;36mBaseModel.__init__\u001b[0;34m(__pydantic_self__, **data)\u001b[0m\n",
      "\u001b[1;32m    162\u001b[0m \u001b[38;5;66;03m# `__tracebackhide__` tells pytest and some other tools to omit this function from tracebacks\u001b[39;00m\n",
      "\u001b[1;32m    163\u001b[0m __tracebackhide__ \u001b[38;5;241m=\u001b[39m \u001b[38;5;28;01mTrue\u001b[39;00m\n",
      "\u001b[0;32m--> 164\u001b[0m \u001b[43m__pydantic_self__\u001b[49m\u001b[38;5;241;43m.\u001b[39;49m\u001b[43m__pydantic_validator__\u001b[49m\u001b[38;5;241;43m.\u001b[39;49m\u001b[43mvalidate_python\u001b[49m\u001b[43m(\u001b[49m\u001b[43mdata\u001b[49m\u001b[43m,\u001b[49m\u001b[43m \u001b[49m\u001b[43mself_instance\u001b[49m\u001b[38;5;241;43m=\u001b[39;49m\u001b[43m__pydantic_self__\u001b[49m\u001b[43m)\u001b[49m\n",
      "\n",
      "\u001b[0;31mValidationError\u001b[0m: 1 validation error for Dog\n",
      "age\n",
      "  Input should be a valid integer, unable to parse string as an integer [type=int_parsing, input_value='ten', input_type=str]\n",
      "    For further information visit https://errors.pydantic.dev/2.5/v/int_parsing"
     ]
    }
   ],
   "source": [
    "from pydantic import BaseModel\n",
    "\n",
    "\n",
    "class Dog(BaseModel):\n",
    "    names: str\n",
    "    age: int\n",
    "\n",
    "\n",
    "dog = Dog(names=\"Bim\", age=\"ten\")"
   ]
  },
  {
   "cell_type": "markdown",
   "id": "15dd5037",
   "metadata": {},
   "source": [
    "### Use Pydantic's Field Class to Validate Numbers and Dates"
   ]
  },
  {
   "cell_type": "code",
   "execution_count": null,
   "id": "eb27ed75",
   "metadata": {
    "tags": [
     "hide-cell"
    ]
   },
   "outputs": [],
   "source": [
    "!pip install pydantic"
   ]
  },
  {
   "cell_type": "markdown",
   "id": "082a6675",
   "metadata": {},
   "source": [
    "In addition to checking the type, you may also want to check if numbers and dates match specific constraints. Pydantic's Field class provides keyword arguments that make this easy."
   ]
  },
  {
   "cell_type": "code",
   "execution_count": null,
   "id": "49c502e7",
   "metadata": {},
   "outputs": [],
   "source": [
    "from pydantic import BaseModel, Field\n",
    "from datetime import date\n",
    "\n",
    "\n",
    "class Song(BaseModel):\n",
    "    title: str\n",
    "    artist: str\n",
    "    duration: float = Field(gt=0.0)  # greater than 0\n",
    "    release_date: date = Field(lt=date.today())  # before today\n",
    "    beats_per_minute: int = Field(multiple_of=5)  # multiple of 5\n",
    "\n",
    "\n",
    "song1 = Song(\n",
    "    title=\"Believer\",\n",
    "    artist=\"Imagine Dragons\",\n",
    "    duration=0,\n",
    "    release_date=date(2024, 6, 1),\n",
    "    beats_per_minute=125,\n",
    ")"
   ]
  },
  {
   "cell_type": "markdown",
   "id": "e406a6af",
   "metadata": {},
   "source": [
    "```bash\n",
    "ValidationError: 2 validation errors for Song\n",
    "duration\n",
    "  Input should be greater than 0 [type=greater_than, input_value=0, input_type=int]\n",
    "    For further information visit https://errors.pydantic.dev/2.5/v/greater_than\n",
    "release_date\n",
    "  Input should be less than 2024-05-10 [type=less_than, input_value=datetime.date(2024, 6, 1), input_type=date]\n",
    "    For further information visit https://errors.pydantic.dev/2.5/v/less_than\n",
    "```"
   ]
  },
  {
   "cell_type": "markdown",
   "id": "60b73d45",
   "metadata": {},
   "source": [
    "[Learn more about Pydantic's numeric constraints](https://bit.ly/4bbhthb)."
   ]
  }
 ],
 "metadata": {
  "kernelspec": {
   "display_name": "venv",
   "language": "python",
   "name": "python3"
  },
  "language_info": {
   "codemirror_mode": {
    "name": "ipython",
    "version": 3
   },
   "file_extension": ".py",
   "mimetype": "text/x-python",
   "name": "python",
   "nbconvert_exporter": "python",
   "pygments_lexer": "ipython3",
   "version": "3.11.6"
  }
 },
 "nbformat": 4,
 "nbformat_minor": 5
}
