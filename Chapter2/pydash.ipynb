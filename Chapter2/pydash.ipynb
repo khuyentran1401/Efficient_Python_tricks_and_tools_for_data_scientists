{
 "cells": [
  {
   "cell_type": "markdown",
   "id": "91861c49",
   "metadata": {},
   "source": [
    "## Pydash"
   ]
  },
  {
   "cell_type": "markdown",
   "id": "90717e58",
   "metadata": {},
   "source": [
    "[Pydash](https://pydash.readthedocs.io/en/latest/) is the kitchen sink of Python utility libraries for doing “stuff” in a functional way."
   ]
  },
  {
   "cell_type": "code",
   "execution_count": null,
   "id": "67025a68",
   "metadata": {
    "ExecuteTime": {
     "end_time": "2021-09-15T13:31:38.866713Z",
     "start_time": "2021-09-15T13:31:36.585138Z"
    },
    "tags": [
     "hide-cell"
    ]
   },
   "outputs": [],
   "source": [
    "!pip install pydash "
   ]
  },
  {
   "cell_type": "markdown",
   "id": "5dd69b8a",
   "metadata": {},
   "source": [
    "### Work with List"
   ]
  },
  {
   "cell_type": "markdown",
   "id": "3368b85a",
   "metadata": {},
   "source": [
    "#### pydash.flatten: Flatten a Nested Python List"
   ]
  },
  {
   "cell_type": "markdown",
   "id": "d57522cb",
   "metadata": {},
   "source": [
    "If you want to flatten a nested Python list, use the `flatten` method:"
   ]
  },
  {
   "cell_type": "code",
   "execution_count": 1,
   "id": "e6b4f4d0",
   "metadata": {
    "ExecuteTime": {
     "end_time": "2021-12-07T13:51:20.744767Z",
     "start_time": "2021-12-07T13:51:20.666086Z"
    }
   },
   "outputs": [
    {
     "data": {
      "text/plain": [
       "[1, 2, 3, 4, 5]"
      ]
     },
     "execution_count": 1,
     "metadata": {},
     "output_type": "execute_result"
    }
   ],
   "source": [
    "from pydash import py_\n",
    "\n",
    "a = [[1, 2], [3, 4, 5]]\n",
    "py_.flatten(a)"
   ]
  },
  {
   "cell_type": "markdown",
   "id": "a3a661fd",
   "metadata": {},
   "source": [
    "####  pydash.flatten_deep: Flatten a Deeply Nested Python List"
   ]
  },
  {
   "cell_type": "markdown",
   "id": "f6323b51",
   "metadata": {},
   "source": [
    "If your list is deeply nested, use `flatten_deep` instead:"
   ]
  },
  {
   "cell_type": "code",
   "execution_count": 9,
   "id": "b0cab37c",
   "metadata": {
    "ExecuteTime": {
     "end_time": "2021-11-15T13:30:22.525355Z",
     "start_time": "2021-11-15T13:30:22.506591Z"
    }
   },
   "outputs": [
    {
     "data": {
      "text/plain": [
       "[1, 2, 4, 5, 6, 7]"
      ]
     },
     "execution_count": 9,
     "metadata": {},
     "output_type": "execute_result"
    },
    {
     "data": {
      "application/javascript": "\n            setTimeout(function() {\n                var nbb_cell_id = 9;\n                var nbb_unformatted_code = \"b = [[1, 2, [4, 5]], [6, 7]]\\npy_.flatten_deep(b)\";\n                var nbb_formatted_code = \"b = [[1, 2, [4, 5]], [6, 7]]\\npy_.flatten_deep(b)\";\n                var nbb_cells = Jupyter.notebook.get_cells();\n                for (var i = 0; i < nbb_cells.length; ++i) {\n                    if (nbb_cells[i].input_prompt_number == nbb_cell_id) {\n                        if (nbb_cells[i].get_text() == nbb_unformatted_code) {\n                             nbb_cells[i].set_text(nbb_formatted_code);\n                        }\n                        break;\n                    }\n                }\n            }, 500);\n            ",
      "text/plain": [
       "<IPython.core.display.Javascript object>"
      ]
     },
     "metadata": {},
     "output_type": "display_data"
    }
   ],
   "source": [
    "b = [[1, 2, [4, 5]], [6, 7]]\n",
    "py_.flatten_deep(b)"
   ]
  },
  {
   "cell_type": "markdown",
   "id": "2c060ca3",
   "metadata": {},
   "source": [
    "#### pydash.chunk: Split Elements into Groups"
   ]
  },
  {
   "cell_type": "markdown",
   "id": "f13530ab",
   "metadata": {},
   "source": [
    "If you can flatten a list, can you also turn a flattened list into a nested one? Yes, that could be done with the `chunk` method:"
   ]
  },
  {
   "cell_type": "code",
   "execution_count": 10,
   "id": "13cc8065",
   "metadata": {
    "ExecuteTime": {
     "end_time": "2021-11-15T13:30:23.219641Z",
     "start_time": "2021-11-15T13:30:23.202222Z"
    }
   },
   "outputs": [
    {
     "data": {
      "text/plain": [
       "[[1, 2], [3, 4], [5]]"
      ]
     },
     "execution_count": 10,
     "metadata": {},
     "output_type": "execute_result"
    },
    {
     "data": {
      "application/javascript": "\n            setTimeout(function() {\n                var nbb_cell_id = 10;\n                var nbb_unformatted_code = \"a = [1, 2, 3, 4, 5]\\npy_.chunk(a, 2)\";\n                var nbb_formatted_code = \"a = [1, 2, 3, 4, 5]\\npy_.chunk(a, 2)\";\n                var nbb_cells = Jupyter.notebook.get_cells();\n                for (var i = 0; i < nbb_cells.length; ++i) {\n                    if (nbb_cells[i].input_prompt_number == nbb_cell_id) {\n                        if (nbb_cells[i].get_text() == nbb_unformatted_code) {\n                             nbb_cells[i].set_text(nbb_formatted_code);\n                        }\n                        break;\n                    }\n                }\n            }, 500);\n            ",
      "text/plain": [
       "<IPython.core.display.Javascript object>"
      ]
     },
     "metadata": {},
     "output_type": "display_data"
    }
   ],
   "source": [
    "a = [1, 2, 3, 4, 5]\n",
    "py_.chunk(a, 2)"
   ]
  },
  {
   "cell_type": "markdown",
   "id": "eaf5de51",
   "metadata": {},
   "source": [
    "### Work with Dictionary"
   ]
  },
  {
   "cell_type": "markdown",
   "id": "7eaa5303",
   "metadata": {},
   "source": [
    "#### Omit Dictionary’s Attribute"
   ]
  },
  {
   "cell_type": "markdown",
   "id": "685735d0",
   "metadata": {},
   "source": [
    "To omit an attribute from the dictionary, we can use the `omit` method:"
   ]
  },
  {
   "cell_type": "code",
   "execution_count": 11,
   "id": "d5e78254",
   "metadata": {
    "ExecuteTime": {
     "end_time": "2021-11-15T13:30:24.275417Z",
     "start_time": "2021-11-15T13:30:24.243714Z"
    }
   },
   "outputs": [
    {
     "data": {
      "text/plain": [
       "{'color': 'red', 'taste': 'sweet'}"
      ]
     },
     "execution_count": 11,
     "metadata": {},
     "output_type": "execute_result"
    },
    {
     "data": {
      "application/javascript": "\n            setTimeout(function() {\n                var nbb_cell_id = 11;\n                var nbb_unformatted_code = \"fruits = {\\\"name\\\": \\\"apple\\\", \\\"color\\\": \\\"red\\\", \\\"taste\\\": \\\"sweet\\\"}\\npy_.omit(fruits, \\\"name\\\")\";\n                var nbb_formatted_code = \"fruits = {\\\"name\\\": \\\"apple\\\", \\\"color\\\": \\\"red\\\", \\\"taste\\\": \\\"sweet\\\"}\\npy_.omit(fruits, \\\"name\\\")\";\n                var nbb_cells = Jupyter.notebook.get_cells();\n                for (var i = 0; i < nbb_cells.length; ++i) {\n                    if (nbb_cells[i].input_prompt_number == nbb_cell_id) {\n                        if (nbb_cells[i].get_text() == nbb_unformatted_code) {\n                             nbb_cells[i].set_text(nbb_formatted_code);\n                        }\n                        break;\n                    }\n                }\n            }, 500);\n            ",
      "text/plain": [
       "<IPython.core.display.Javascript object>"
      ]
     },
     "metadata": {},
     "output_type": "display_data"
    }
   ],
   "source": [
    "fruits = {\"name\": \"apple\", \"color\": \"red\", \"taste\": \"sweet\"}\n",
    "py_.omit(fruits, \"name\")"
   ]
  },
  {
   "cell_type": "markdown",
   "id": "c86a5ab9",
   "metadata": {},
   "source": [
    "#### Get Nested Dictionary’s Attribute"
   ]
  },
  {
   "cell_type": "markdown",
   "id": "0462b260",
   "metadata": {},
   "source": [
    "How do you get the price of an apple from Walmart that is in season in a nested dictionary like below?"
   ]
  },
  {
   "cell_type": "code",
   "execution_count": 12,
   "id": "5676c02b",
   "metadata": {
    "ExecuteTime": {
     "end_time": "2021-11-15T13:30:25.826894Z",
     "start_time": "2021-11-15T13:30:25.801962Z"
    }
   },
   "outputs": [
    {
     "data": {
      "application/javascript": "\n            setTimeout(function() {\n                var nbb_cell_id = 12;\n                var nbb_unformatted_code = \"apple = {\\n    \\\"price\\\": {\\n        \\\"in_season\\\": {\\\"store\\\": {\\\"Walmart\\\": [2, 4], \\\"Aldi\\\": 1}},\\n        \\\"out_of_season\\\": {\\\"store\\\": {\\\"Walmart\\\": [3, 5], \\\"Aldi\\\": 2}},\\n    }\\n}\";\n                var nbb_formatted_code = \"apple = {\\n    \\\"price\\\": {\\n        \\\"in_season\\\": {\\\"store\\\": {\\\"Walmart\\\": [2, 4], \\\"Aldi\\\": 1}},\\n        \\\"out_of_season\\\": {\\\"store\\\": {\\\"Walmart\\\": [3, 5], \\\"Aldi\\\": 2}},\\n    }\\n}\";\n                var nbb_cells = Jupyter.notebook.get_cells();\n                for (var i = 0; i < nbb_cells.length; ++i) {\n                    if (nbb_cells[i].input_prompt_number == nbb_cell_id) {\n                        if (nbb_cells[i].get_text() == nbb_unformatted_code) {\n                             nbb_cells[i].set_text(nbb_formatted_code);\n                        }\n                        break;\n                    }\n                }\n            }, 500);\n            ",
      "text/plain": [
       "<IPython.core.display.Javascript object>"
      ]
     },
     "metadata": {},
     "output_type": "display_data"
    }
   ],
   "source": [
    "apple = {\n",
    "    \"price\": {\n",
    "        \"in_season\": {\"store\": {\"Walmart\": [2, 4], \"Aldi\": 1}},\n",
    "        \"out_of_season\": {\"store\": {\"Walmart\": [3, 5], \"Aldi\": 2}},\n",
    "    }\n",
    "}"
   ]
  },
  {
   "cell_type": "markdown",
   "id": "cdbe8de3",
   "metadata": {},
   "source": [
    "Normally, you need to use a lot of brackets to get that information:"
   ]
  },
  {
   "cell_type": "code",
   "execution_count": 13,
   "id": "28a88fff",
   "metadata": {
    "ExecuteTime": {
     "end_time": "2021-11-15T13:30:26.675384Z",
     "start_time": "2021-11-15T13:30:26.658412Z"
    }
   },
   "outputs": [
    {
     "data": {
      "text/plain": [
       "[2, 4]"
      ]
     },
     "execution_count": 13,
     "metadata": {},
     "output_type": "execute_result"
    },
    {
     "data": {
      "application/javascript": "\n            setTimeout(function() {\n                var nbb_cell_id = 13;\n                var nbb_unformatted_code = \"apple[\\\"price\\\"][\\\"in_season\\\"][\\\"store\\\"][\\\"Walmart\\\"]\";\n                var nbb_formatted_code = \"apple[\\\"price\\\"][\\\"in_season\\\"][\\\"store\\\"][\\\"Walmart\\\"]\";\n                var nbb_cells = Jupyter.notebook.get_cells();\n                for (var i = 0; i < nbb_cells.length; ++i) {\n                    if (nbb_cells[i].input_prompt_number == nbb_cell_id) {\n                        if (nbb_cells[i].get_text() == nbb_unformatted_code) {\n                             nbb_cells[i].set_text(nbb_formatted_code);\n                        }\n                        break;\n                    }\n                }\n            }, 500);\n            ",
      "text/plain": [
       "<IPython.core.display.Javascript object>"
      ]
     },
     "metadata": {},
     "output_type": "display_data"
    }
   ],
   "source": [
    "apple[\"price\"][\"in_season\"][\"store\"][\"Walmart\"]"
   ]
  },
  {
   "cell_type": "markdown",
   "id": "0fb54a11",
   "metadata": {},
   "source": [
    "Wouldn’t it be nice if you could use the dot notation instead of brackets? That could be done with the `get` method:"
   ]
  },
  {
   "cell_type": "code",
   "execution_count": 14,
   "id": "c26b38ae",
   "metadata": {
    "ExecuteTime": {
     "end_time": "2021-11-15T13:31:03.019784Z",
     "start_time": "2021-11-15T13:31:03.004498Z"
    }
   },
   "outputs": [
    {
     "data": {
      "text/plain": [
       "[2, 4]"
      ]
     },
     "execution_count": 14,
     "metadata": {},
     "output_type": "execute_result"
    },
    {
     "data": {
      "application/javascript": "\n            setTimeout(function() {\n                var nbb_cell_id = 14;\n                var nbb_unformatted_code = \"py_.get(apple, \\\"price.in_season.store.Walmart\\\")\";\n                var nbb_formatted_code = \"py_.get(apple, \\\"price.in_season.store.Walmart\\\")\";\n                var nbb_cells = Jupyter.notebook.get_cells();\n                for (var i = 0; i < nbb_cells.length; ++i) {\n                    if (nbb_cells[i].input_prompt_number == nbb_cell_id) {\n                        if (nbb_cells[i].get_text() == nbb_unformatted_code) {\n                             nbb_cells[i].set_text(nbb_formatted_code);\n                        }\n                        break;\n                    }\n                }\n            }, 500);\n            ",
      "text/plain": [
       "<IPython.core.display.Javascript object>"
      ]
     },
     "metadata": {},
     "output_type": "display_data"
    }
   ],
   "source": [
    "py_.get(apple, \"price.in_season.store.Walmart\")"
   ]
  },
  {
   "cell_type": "markdown",
   "id": "f6a8d1f9",
   "metadata": {},
   "source": [
    "Cool! You can also get the element in an array using `[index]` :"
   ]
  },
  {
   "cell_type": "code",
   "execution_count": 15,
   "id": "60e52993",
   "metadata": {
    "ExecuteTime": {
     "end_time": "2021-11-15T13:31:12.217991Z",
     "start_time": "2021-11-15T13:31:12.202974Z"
    }
   },
   "outputs": [
    {
     "data": {
      "text/plain": [
       "2"
      ]
     },
     "execution_count": 15,
     "metadata": {},
     "output_type": "execute_result"
    },
    {
     "data": {
      "application/javascript": "\n            setTimeout(function() {\n                var nbb_cell_id = 15;\n                var nbb_unformatted_code = \"py_.get(apple, \\\"price.in_season.store.Walmart[0]\\\")\";\n                var nbb_formatted_code = \"py_.get(apple, \\\"price.in_season.store.Walmart[0]\\\")\";\n                var nbb_cells = Jupyter.notebook.get_cells();\n                for (var i = 0; i < nbb_cells.length; ++i) {\n                    if (nbb_cells[i].input_prompt_number == nbb_cell_id) {\n                        if (nbb_cells[i].get_text() == nbb_unformatted_code) {\n                             nbb_cells[i].set_text(nbb_formatted_code);\n                        }\n                        break;\n                    }\n                }\n            }, 500);\n            ",
      "text/plain": [
       "<IPython.core.display.Javascript object>"
      ]
     },
     "metadata": {},
     "output_type": "display_data"
    }
   ],
   "source": [
    "py_.get(apple, \"price.in_season.store.Walmart[0]\")"
   ]
  },
  {
   "cell_type": "markdown",
   "id": "388b06e4",
   "metadata": {},
   "source": [
    "### Work with List of Dictionaries"
   ]
  },
  {
   "cell_type": "markdown",
   "id": "02f5cb3c",
   "metadata": {},
   "source": [
    "#### Find Item Index Using a Function"
   ]
  },
  {
   "cell_type": "markdown",
   "id": "2036e518",
   "metadata": {},
   "source": [
    "`list.index(element)` allows you to get the index of the specified element in a list. However, you cannot get the index using a function.   "
   ]
  },
  {
   "cell_type": "code",
   "execution_count": 2,
   "id": "2a1aa066",
   "metadata": {
    "ExecuteTime": {
     "end_time": "2021-11-15T13:32:20.031688Z",
     "start_time": "2021-11-15T13:32:20.013646Z"
    }
   },
   "outputs": [],
   "source": [
    "fruits = [\n",
    "    {\"name\": \"apple\", \"price\": 2},\n",
    "    {\"name\": \"orange\", \"price\": 2},\n",
    "    {\"name\": \"grapes\", \"price\": 4},\n",
    "]"
   ]
  },
  {
   "cell_type": "code",
   "execution_count": 6,
   "id": "4046812b",
   "metadata": {},
   "outputs": [
    {
     "data": {
      "text/plain": [
       "0"
      ]
     },
     "execution_count": 6,
     "metadata": {},
     "output_type": "execute_result"
    }
   ],
   "source": [
    "fruits.index({\"name\": \"apple\", \"price\": 2})"
   ]
  },
  {
   "cell_type": "code",
   "execution_count": 8,
   "id": "6247dd8a",
   "metadata": {},
   "outputs": [
    {
     "ename": "ValueError",
     "evalue": "<function <lambda> at 0x7f9880491310> is not in list",
     "output_type": "error",
     "traceback": [
      "\u001b[0;31m---------------------------------------------------------------------------\u001b[0m",
      "\u001b[0;31mValueError\u001b[0m                                Traceback (most recent call last)",
      "\u001b[0;32m<ipython-input-8-b01bf8b7ae1a>\u001b[0m in \u001b[0;36m<module>\u001b[0;34m\u001b[0m\n\u001b[1;32m      1\u001b[0m \u001b[0mfilter_fruits\u001b[0m \u001b[0;34m=\u001b[0m \u001b[0;32mlambda\u001b[0m \u001b[0mfruit\u001b[0m\u001b[0;34m:\u001b[0m \u001b[0mfruit\u001b[0m\u001b[0;34m[\u001b[0m\u001b[0;34m\"name\"\u001b[0m\u001b[0;34m]\u001b[0m \u001b[0;34m==\u001b[0m \u001b[0;34m\"apple\"\u001b[0m\u001b[0;34m\u001b[0m\u001b[0;34m\u001b[0m\u001b[0m\n\u001b[1;32m      2\u001b[0m \u001b[0;34m\u001b[0m\u001b[0m\n\u001b[0;32m----> 3\u001b[0;31m \u001b[0mfruits\u001b[0m\u001b[0;34m.\u001b[0m\u001b[0mindex\u001b[0m\u001b[0;34m(\u001b[0m\u001b[0mfilter_fruits\u001b[0m\u001b[0;34m)\u001b[0m\u001b[0;34m\u001b[0m\u001b[0;34m\u001b[0m\u001b[0m\n\u001b[0m",
      "\u001b[0;31mValueError\u001b[0m: <function <lambda> at 0x7f9880491310> is not in list"
     ]
    }
   ],
   "source": [
    "filter_fruits = lambda fruit: fruit[\"name\"] == \"apple\"\n",
    "\n",
    "fruits.index(filter_fruits)"
   ]
  },
  {
   "cell_type": "markdown",
   "id": "0fc7cf58",
   "metadata": {},
   "source": [
    "To get the index of an element in a list using a function, use the `find_index` method instead:"
   ]
  },
  {
   "cell_type": "code",
   "execution_count": 9,
   "id": "e7480d08",
   "metadata": {
    "ExecuteTime": {
     "end_time": "2021-11-15T13:32:24.478801Z",
     "start_time": "2021-11-15T13:32:24.459122Z"
    }
   },
   "outputs": [
    {
     "data": {
      "text/plain": [
       "0"
      ]
     },
     "execution_count": 9,
     "metadata": {},
     "output_type": "execute_result"
    }
   ],
   "source": [
    "py_.find_index(fruits, filter_fruits)"
   ]
  },
  {
   "cell_type": "markdown",
   "id": "89eb3538",
   "metadata": {},
   "source": [
    "#### Find Objects With Matching Style"
   ]
  },
  {
   "cell_type": "markdown",
   "id": "f2b43664",
   "metadata": {},
   "source": [
    "The `find_index` method allows you to get the index of the object that matches a certain pattern. But what if you want to get the items in a list instead of the index?\n",
    "That could be done with the `filter` method:"
   ]
  },
  {
   "cell_type": "code",
   "execution_count": 2,
   "id": "916c9f3d",
   "metadata": {},
   "outputs": [],
   "source": [
    "from pydash import py_"
   ]
  },
  {
   "cell_type": "code",
   "execution_count": 3,
   "id": "ebb49a45",
   "metadata": {
    "ExecuteTime": {
     "end_time": "2021-11-15T13:33:26.245129Z",
     "start_time": "2021-11-15T13:33:26.222411Z"
    }
   },
   "outputs": [],
   "source": [
    "fruits = [\n",
    "    {\"name\": \"apple\", \"price\": 2},\n",
    "    {\"name\": \"orange\", \"price\": 2},\n",
    "    {\"name\": \"grapes\", \"price\": 4},\n",
    "]"
   ]
  },
  {
   "cell_type": "code",
   "execution_count": 4,
   "id": "0863af07",
   "metadata": {
    "ExecuteTime": {
     "end_time": "2021-11-15T13:34:06.005481Z",
     "start_time": "2021-11-15T13:34:05.988417Z"
    }
   },
   "outputs": [
    {
     "data": {
      "text/plain": [
       "[{'name': 'apple', 'price': 2}]"
      ]
     },
     "execution_count": 4,
     "metadata": {},
     "output_type": "execute_result"
    }
   ],
   "source": [
    "py_.filter_(fruits, {\"name\": \"apple\"})"
   ]
  },
  {
   "cell_type": "markdown",
   "id": "beeeb74e",
   "metadata": {},
   "source": [
    "#### Get Nested Object Value"
   ]
  },
  {
   "cell_type": "markdown",
   "id": "6e97b57a",
   "metadata": {},
   "source": [
    "Sometimes your list of dictionaries can be nested like below. How can you get the second price of each `apple`?"
   ]
  },
  {
   "cell_type": "code",
   "execution_count": 5,
   "id": "6ef3111f",
   "metadata": {
    "ExecuteTime": {
     "end_time": "2021-12-07T13:51:34.093041Z",
     "start_time": "2021-12-07T13:51:34.085900Z"
    }
   },
   "outputs": [],
   "source": [
    "l = [\n",
    "    {\"apple\": {\"price\": [0, 1], \"color\": \"red\"}},\n",
    "    {\"apple\": {\"price\": [2, 3], \"color\": \"green\"}},\n",
    "]"
   ]
  },
  {
   "cell_type": "markdown",
   "id": "fcaeba0d",
   "metadata": {},
   "source": [
    "That is when the `map_` method comes in handy."
   ]
  },
  {
   "cell_type": "code",
   "execution_count": 8,
   "id": "e84a616c",
   "metadata": {
    "ExecuteTime": {
     "end_time": "2021-12-07T13:51:35.241383Z",
     "start_time": "2021-12-07T13:51:35.231798Z"
    }
   },
   "outputs": [
    {
     "data": {
      "text/plain": [
       "[1, 3]"
      ]
     },
     "execution_count": 8,
     "metadata": {},
     "output_type": "execute_result"
    }
   ],
   "source": [
    "py_.map_(l, \"apple.price[1]\")"
   ]
  },
  {
   "cell_type": "markdown",
   "id": "3c3e2d99",
   "metadata": {},
   "source": [
    "### Work with Functions"
   ]
  },
  {
   "cell_type": "markdown",
   "id": "d6193a9b",
   "metadata": {},
   "source": [
    "#### Execute a Function n Times"
   ]
  },
  {
   "cell_type": "markdown",
   "id": "d92104ef",
   "metadata": {},
   "source": [
    "You can execute a function n times using the `times` method. This method is a good alternative to a for loop."
   ]
  },
  {
   "cell_type": "code",
   "execution_count": 25,
   "id": "64c8e0c5",
   "metadata": {
    "ExecuteTime": {
     "end_time": "2021-11-15T13:36:11.330932Z",
     "start_time": "2021-11-15T13:36:11.315814Z"
    }
   },
   "outputs": [
    {
     "data": {
      "text/plain": [
       "['I have just bought some apple',\n",
       " 'I have just bought some apple',\n",
       " 'I have just bought some apple',\n",
       " 'I have just bought some apple']"
      ]
     },
     "execution_count": 25,
     "metadata": {},
     "output_type": "execute_result"
    },
    {
     "data": {
      "application/javascript": "\n            setTimeout(function() {\n                var nbb_cell_id = 25;\n                var nbb_unformatted_code = \"py_.times(4, lambda: \\\"I have just bought some apple\\\")\";\n                var nbb_formatted_code = \"py_.times(4, lambda: \\\"I have just bought some apple\\\")\";\n                var nbb_cells = Jupyter.notebook.get_cells();\n                for (var i = 0; i < nbb_cells.length; ++i) {\n                    if (nbb_cells[i].input_prompt_number == nbb_cell_id) {\n                        if (nbb_cells[i].get_text() == nbb_unformatted_code) {\n                             nbb_cells[i].set_text(nbb_formatted_code);\n                        }\n                        break;\n                    }\n                }\n            }, 500);\n            ",
      "text/plain": [
       "<IPython.core.display.Javascript object>"
      ]
     },
     "metadata": {},
     "output_type": "display_data"
    }
   ],
   "source": [
    "py_.times(4, lambda: \"I have just bought some apple\")"
   ]
  },
  {
   "cell_type": "code",
   "execution_count": 26,
   "id": "222df84c",
   "metadata": {
    "ExecuteTime": {
     "end_time": "2021-11-15T13:36:16.493189Z",
     "start_time": "2021-11-15T13:36:16.473411Z"
    }
   },
   "outputs": [
    {
     "data": {
      "text/plain": [
       "['I have just bought 0 apple',\n",
       " 'I have just bought 1 apple',\n",
       " 'I have just bought 2 apple',\n",
       " 'I have just bought 3 apple']"
      ]
     },
     "execution_count": 26,
     "metadata": {},
     "output_type": "execute_result"
    },
    {
     "data": {
      "application/javascript": "\n            setTimeout(function() {\n                var nbb_cell_id = 26;\n                var nbb_unformatted_code = \"py_.times(4, lambda i: f\\\"I have just bought {i} apple\\\")\";\n                var nbb_formatted_code = \"py_.times(4, lambda i: f\\\"I have just bought {i} apple\\\")\";\n                var nbb_cells = Jupyter.notebook.get_cells();\n                for (var i = 0; i < nbb_cells.length; ++i) {\n                    if (nbb_cells[i].input_prompt_number == nbb_cell_id) {\n                        if (nbb_cells[i].get_text() == nbb_unformatted_code) {\n                             nbb_cells[i].set_text(nbb_formatted_code);\n                        }\n                        break;\n                    }\n                }\n            }, 500);\n            ",
      "text/plain": [
       "<IPython.core.display.Javascript object>"
      ]
     },
     "metadata": {},
     "output_type": "display_data"
    }
   ],
   "source": [
    "py_.times(4, lambda i: f\"I have just bought {i} apple\")"
   ]
  },
  {
   "cell_type": "markdown",
   "id": "ffca0051",
   "metadata": {},
   "source": [
    "### Chaining"
   ]
  },
  {
   "cell_type": "markdown",
   "id": "d6d53378",
   "metadata": {},
   "source": [
    "#### Pydash’s Methods"
   ]
  },
  {
   "cell_type": "markdown",
   "id": "ffb1a945",
   "metadata": {},
   "source": [
    "Sometimes you might want to apply several methods to an object. Instead of writing several lines of code, can you apply all methods at once?\n",
    "\n",
    "That is when method chaining comes in handy. To apply method chaining in an object, use the `chain` method:"
   ]
  },
  {
   "cell_type": "code",
   "execution_count": 27,
   "id": "c5d5603d",
   "metadata": {
    "ExecuteTime": {
     "end_time": "2021-11-15T13:37:09.580928Z",
     "start_time": "2021-11-15T13:37:09.566262Z"
    }
   },
   "outputs": [
    {
     "data": {
      "application/javascript": "\n            setTimeout(function() {\n                var nbb_cell_id = 27;\n                var nbb_unformatted_code = \"fruits = [\\\"apple\\\", \\\"orange\\\", \\\"grapes\\\"]\";\n                var nbb_formatted_code = \"fruits = [\\\"apple\\\", \\\"orange\\\", \\\"grapes\\\"]\";\n                var nbb_cells = Jupyter.notebook.get_cells();\n                for (var i = 0; i < nbb_cells.length; ++i) {\n                    if (nbb_cells[i].input_prompt_number == nbb_cell_id) {\n                        if (nbb_cells[i].get_text() == nbb_unformatted_code) {\n                             nbb_cells[i].set_text(nbb_formatted_code);\n                        }\n                        break;\n                    }\n                }\n            }, 500);\n            ",
      "text/plain": [
       "<IPython.core.display.Javascript object>"
      ]
     },
     "metadata": {},
     "output_type": "display_data"
    }
   ],
   "source": [
    "fruits = [\"apple\", \"orange\", \"grapes\"]"
   ]
  },
  {
   "cell_type": "code",
   "execution_count": 32,
   "id": "2a07cafd",
   "metadata": {
    "ExecuteTime": {
     "end_time": "2021-11-15T13:37:59.927516Z",
     "start_time": "2021-11-15T13:37:59.907080Z"
    }
   },
   "outputs": [
    {
     "data": {
      "text/plain": [
       "<pydash.chaining.Chain at 0x7f027895d1f0>"
      ]
     },
     "execution_count": 32,
     "metadata": {},
     "output_type": "execute_result"
    },
    {
     "data": {
      "application/javascript": "\n            setTimeout(function() {\n                var nbb_cell_id = 32;\n                var nbb_unformatted_code = \"(\\n    py_.chain(fruits)\\n    .without(\\\"grapes\\\")\\n    .reject(lambda fruit: fruit.startswith(\\\"a\\\"))\\n)\";\n                var nbb_formatted_code = \"(py_.chain(fruits).without(\\\"grapes\\\").reject(lambda fruit: fruit.startswith(\\\"a\\\")))\";\n                var nbb_cells = Jupyter.notebook.get_cells();\n                for (var i = 0; i < nbb_cells.length; ++i) {\n                    if (nbb_cells[i].input_prompt_number == nbb_cell_id) {\n                        if (nbb_cells[i].get_text() == nbb_unformatted_code) {\n                             nbb_cells[i].set_text(nbb_formatted_code);\n                        }\n                        break;\n                    }\n                }\n            }, 500);\n            ",
      "text/plain": [
       "<IPython.core.display.Javascript object>"
      ]
     },
     "metadata": {},
     "output_type": "display_data"
    }
   ],
   "source": [
    "(py_.chain(fruits).without(\"grapes\").reject(lambda fruit: fruit.startswith(\"a\")))"
   ]
  },
  {
   "cell_type": "markdown",
   "id": "3f1210b9",
   "metadata": {},
   "source": [
    "Note that running the code above will not give us the value."
   ]
  },
  {
   "cell_type": "markdown",
   "id": "273ba7d2",
   "metadata": {},
   "source": [
    "Only when we add .value() to the end of the chain, the final value is computed:"
   ]
  },
  {
   "cell_type": "code",
   "execution_count": 33,
   "id": "8ca37d0f",
   "metadata": {
    "ExecuteTime": {
     "end_time": "2021-11-15T13:38:36.513645Z",
     "start_time": "2021-11-15T13:38:36.492644Z"
    }
   },
   "outputs": [
    {
     "data": {
      "text/plain": [
       "['orange']"
      ]
     },
     "execution_count": 33,
     "metadata": {},
     "output_type": "execute_result"
    },
    {
     "data": {
      "application/javascript": "\n            setTimeout(function() {\n                var nbb_cell_id = 33;\n                var nbb_unformatted_code = \"(py_.chain(fruits).without(\\\"grapes\\\").reject(lambda fruit: fruit.startswith(\\\"a\\\")).value())\";\n                var nbb_formatted_code = \"(\\n    py_.chain(fruits)\\n    .without(\\\"grapes\\\")\\n    .reject(lambda fruit: fruit.startswith(\\\"a\\\"))\\n    .value()\\n)\";\n                var nbb_cells = Jupyter.notebook.get_cells();\n                for (var i = 0; i < nbb_cells.length; ++i) {\n                    if (nbb_cells[i].input_prompt_number == nbb_cell_id) {\n                        if (nbb_cells[i].get_text() == nbb_unformatted_code) {\n                             nbb_cells[i].set_text(nbb_formatted_code);\n                        }\n                        break;\n                    }\n                }\n            }, 500);\n            ",
      "text/plain": [
       "<IPython.core.display.Javascript object>"
      ]
     },
     "metadata": {},
     "output_type": "display_data"
    }
   ],
   "source": [
    "(\n",
    "    py_.chain(fruits)\n",
    "    .without(\"grapes\")\n",
    "    .reject(lambda fruit: fruit.startswith(\"a\"))\n",
    "    .value()\n",
    ")"
   ]
  },
  {
   "cell_type": "markdown",
   "id": "b981afa0",
   "metadata": {},
   "source": [
    "This is called [lazy evaluation](https://www.tutorialspoint.com/functional_programming/functional_programming_lazy_evaluation.htm). Lazy evaluation holds the evaluation of an expression until its value is needed, which avoids repeated evaluation."
   ]
  },
  {
   "cell_type": "markdown",
   "id": "8a5b985c",
   "metadata": {},
   "source": [
    "#### Customized Methods"
   ]
  },
  {
   "cell_type": "markdown",
   "id": "8de1da20",
   "metadata": {},
   "source": [
    "If you want to use your own methods instead of pydash’s methods, use the `map` method:"
   ]
  },
  {
   "cell_type": "code",
   "execution_count": 29,
   "id": "563d80a3",
   "metadata": {
    "ExecuteTime": {
     "end_time": "2021-11-15T13:37:20.122596Z",
     "start_time": "2021-11-15T13:37:20.113523Z"
    }
   },
   "outputs": [
    {
     "data": {
      "application/javascript": "\n            setTimeout(function() {\n                var nbb_cell_id = 29;\n                var nbb_unformatted_code = \"def get_price(fruit):\\n    prices = {\\\"apple\\\": 2, \\\"orange\\\": 2, \\\"grapes\\\": 4}\\n    return prices[fruit]\";\n                var nbb_formatted_code = \"def get_price(fruit):\\n    prices = {\\\"apple\\\": 2, \\\"orange\\\": 2, \\\"grapes\\\": 4}\\n    return prices[fruit]\";\n                var nbb_cells = Jupyter.notebook.get_cells();\n                for (var i = 0; i < nbb_cells.length; ++i) {\n                    if (nbb_cells[i].input_prompt_number == nbb_cell_id) {\n                        if (nbb_cells[i].get_text() == nbb_unformatted_code) {\n                             nbb_cells[i].set_text(nbb_formatted_code);\n                        }\n                        break;\n                    }\n                }\n            }, 500);\n            ",
      "text/plain": [
       "<IPython.core.display.Javascript object>"
      ]
     },
     "metadata": {},
     "output_type": "display_data"
    }
   ],
   "source": [
    "def get_price(fruit):\n",
    "    prices = {\"apple\": 2, \"orange\": 2, \"grapes\": 4}\n",
    "    return prices[fruit]"
   ]
  },
  {
   "cell_type": "code",
   "execution_count": 30,
   "id": "69095a24",
   "metadata": {
    "ExecuteTime": {
     "end_time": "2021-11-15T13:37:27.985523Z",
     "start_time": "2021-11-15T13:37:27.967715Z"
    }
   },
   "outputs": [
    {
     "data": {
      "text/plain": [
       "8"
      ]
     },
     "execution_count": 30,
     "metadata": {},
     "output_type": "execute_result"
    },
    {
     "data": {
      "application/javascript": "\n            setTimeout(function() {\n                var nbb_cell_id = 30;\n                var nbb_unformatted_code = \"total_price = py_.chain(fruits).map(get_price).sum()\\ntotal_price.value()\";\n                var nbb_formatted_code = \"total_price = py_.chain(fruits).map(get_price).sum()\\ntotal_price.value()\";\n                var nbb_cells = Jupyter.notebook.get_cells();\n                for (var i = 0; i < nbb_cells.length; ++i) {\n                    if (nbb_cells[i].input_prompt_number == nbb_cell_id) {\n                        if (nbb_cells[i].get_text() == nbb_unformatted_code) {\n                             nbb_cells[i].set_text(nbb_formatted_code);\n                        }\n                        break;\n                    }\n                }\n            }, 500);\n            ",
      "text/plain": [
       "<IPython.core.display.Javascript object>"
      ]
     },
     "metadata": {},
     "output_type": "display_data"
    }
   ],
   "source": [
    "total_price = py_.chain(fruits).map(get_price).sum()\n",
    "total_price.value()"
   ]
  },
  {
   "cell_type": "markdown",
   "id": "e7d7c20f",
   "metadata": {},
   "source": [
    "#### Planting a Value"
   ]
  },
  {
   "cell_type": "markdown",
   "id": "ebd43617",
   "metadata": {},
   "source": [
    "To replace the initial value of a chain with another value, use the `plant` method:"
   ]
  },
  {
   "cell_type": "code",
   "execution_count": 31,
   "id": "3de62ebc",
   "metadata": {
    "ExecuteTime": {
     "end_time": "2021-11-15T13:37:31.630578Z",
     "start_time": "2021-11-15T13:37:31.615602Z"
    }
   },
   "outputs": [
    {
     "data": {
      "text/plain": [
       "4"
      ]
     },
     "execution_count": 31,
     "metadata": {},
     "output_type": "execute_result"
    },
    {
     "data": {
      "application/javascript": "\n            setTimeout(function() {\n                var nbb_cell_id = 31;\n                var nbb_unformatted_code = \"total_price.plant([\\\"apple\\\", \\\"orange\\\"]).value()\";\n                var nbb_formatted_code = \"total_price.plant([\\\"apple\\\", \\\"orange\\\"]).value()\";\n                var nbb_cells = Jupyter.notebook.get_cells();\n                for (var i = 0; i < nbb_cells.length; ++i) {\n                    if (nbb_cells[i].input_prompt_number == nbb_cell_id) {\n                        if (nbb_cells[i].get_text() == nbb_unformatted_code) {\n                             nbb_cells[i].set_text(nbb_formatted_code);\n                        }\n                        break;\n                    }\n                }\n            }, 500);\n            ",
      "text/plain": [
       "<IPython.core.display.Javascript object>"
      ]
     },
     "metadata": {},
     "output_type": "display_data"
    }
   ],
   "source": [
    "total_price.plant([\"apple\", \"orange\"]).value()"
   ]
  },
  {
   "cell_type": "markdown",
   "id": "48a7376f",
   "metadata": {},
   "source": [
    "Cool! We replace `['apple', 'orange', 'grapes']` with `['apple', 'orange']` while using the same chain!"
   ]
  }
 ],
 "metadata": {
  "celltoolbar": "Tags",
  "kernelspec": {
   "display_name": "Python 3.8.9 ('venv': venv)",
   "language": "python",
   "name": "python3"
  },
  "language_info": {
   "codemirror_mode": {
    "name": "ipython",
    "version": 3
   },
   "file_extension": ".py",
   "mimetype": "text/x-python",
   "name": "python",
   "nbconvert_exporter": "python",
   "pygments_lexer": "ipython3",
   "version": "3.8.9"
  },
  "toc": {
   "base_numbering": 1,
   "nav_menu": {},
   "number_sections": true,
   "sideBar": true,
   "skip_h1_title": false,
   "title_cell": "Table of Contents",
   "title_sidebar": "Contents",
   "toc_cell": false,
   "toc_position": {},
   "toc_section_display": true,
   "toc_window_display": false
  },
  "vscode": {
   "interpreter": {
    "hash": "484329849bb907480cd798e750759bc6f1d66c93f9e78e7055aa0a2c2de6b47b"
   }
  }
 },
 "nbformat": 4,
 "nbformat_minor": 5
}
