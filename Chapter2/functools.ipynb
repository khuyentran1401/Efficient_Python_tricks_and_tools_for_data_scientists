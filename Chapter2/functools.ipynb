{
 "cells": [
  {
   "cell_type": "markdown",
   "source": [
    "## Functools"
   ],
   "metadata": {}
  },
  {
   "cell_type": "markdown",
   "source": [
    "[functools](https://docs.python.org/3/library/functools.html) is a built-in Python library to work with functions efficiently. This section will show you some useful methods of functools. "
   ],
   "metadata": {}
  },
  {
   "cell_type": "markdown",
   "source": [
    "### functools.partial: Generate a New Function with Fewer Arguments"
   ],
   "metadata": {}
  },
  {
   "cell_type": "markdown",
   "source": [
    "If you want to fix some arguments of a function and generate a new function with fewer arguments, use `functools.partial`.\n",
    "\n",
    "In the code below, I use `partial` to create a new function with only `x` as the argument."
   ],
   "metadata": {}
  },
  {
   "cell_type": "code",
   "execution_count": 1,
   "source": [
    "from functools import partial\n",
    "\n",
    "\n",
    "def linear_func(x, a, b):\n",
    "    return a * x + b\n",
    "\n",
    "\n",
    "linear_func_partial = partial(linear_func, a=2, b=3)\n",
    "print(linear_func_partial(2))\n",
    "print(linear_func_partial(4))"
   ],
   "outputs": [
    {
     "output_type": "stream",
     "name": "stdout",
     "text": [
      "7\n",
      "11\n"
     ]
    }
   ],
   "metadata": {
    "ExecuteTime": {
     "end_time": "2021-08-30T00:52:29.416607Z",
     "start_time": "2021-08-30T00:52:29.395897Z"
    }
   }
  },
  {
   "cell_type": "markdown",
   "source": [
    "### functools.singledispatch: Call Another Function Based on the Type of the Current Function’s Argument"
   ],
   "metadata": {}
  },
  {
   "cell_type": "markdown",
   "source": [
    "Normally, to call another function based on the type of the current function’s argument, we use an if-else statement:"
   ],
   "metadata": {}
  },
  {
   "cell_type": "code",
   "execution_count": 11,
   "source": [
    "data = {\"a\": [1, 2, 3], \"b\": [4, 5, 6]}\n",
    "data2 = [{\"a\": [1, 2, 3]}, {\"b\": [4, 5, 6]}]"
   ],
   "outputs": [],
   "metadata": {
    "ExecuteTime": {
     "end_time": "2021-09-11T14:48:02.760305Z",
     "start_time": "2021-09-11T14:48:02.754004Z"
    }
   }
  },
  {
   "cell_type": "code",
   "execution_count": 12,
   "source": [
    "def process_data(data):\n",
    "    if isinstance(data, dict):\n",
    "        process_dict(data)\n",
    "\n",
    "    else:\n",
    "        process_list(data)\n",
    "\n",
    "\n",
    "def process_dict(data: dict):\n",
    "    print(\"Dict is processed\")\n",
    "\n",
    "\n",
    "def process_list(data: list):\n",
    "    print(\"List is processed\")"
   ],
   "outputs": [],
   "metadata": {
    "ExecuteTime": {
     "end_time": "2021-09-11T14:48:03.225075Z",
     "start_time": "2021-09-11T14:48:03.217939Z"
    }
   }
  },
  {
   "cell_type": "code",
   "execution_count": 13,
   "source": [
    "process_data(data)"
   ],
   "outputs": [
    {
     "output_type": "stream",
     "name": "stdout",
     "text": [
      "Dict is processed\n"
     ]
    }
   ],
   "metadata": {
    "ExecuteTime": {
     "end_time": "2021-09-11T14:48:03.566377Z",
     "start_time": "2021-09-11T14:48:03.559906Z"
    }
   }
  },
  {
   "cell_type": "code",
   "execution_count": 14,
   "source": [
    "process_data(data2)"
   ],
   "outputs": [
    {
     "output_type": "stream",
     "name": "stdout",
     "text": [
      "List is processed\n"
     ]
    }
   ],
   "metadata": {
    "ExecuteTime": {
     "end_time": "2021-09-11T14:48:04.207837Z",
     "start_time": "2021-09-11T14:48:04.200372Z"
    }
   }
  },
  {
   "cell_type": "markdown",
   "source": [
    "With `singledispatch`, you don’t need to use an if-else statement to call an appropriate function. `singledispatch` will choose the right function based on the type of current function’s first argument."
   ],
   "metadata": {}
  },
  {
   "cell_type": "code",
   "execution_count": 15,
   "source": [
    "from functools import singledispatch\n",
    "\n",
    "@singledispatch\n",
    "def process_data2(data):\n",
    "    raise NotImplementedError(\"Please implement process_data2\")\n",
    "\n",
    "\n",
    "@process_data2.register\n",
    "def process_dict2(data: dict):\n",
    "    print(\"Dict is processed\")\n",
    "\n",
    "\n",
    "@process_data2.register\n",
    "def process_list2(data: list):\n",
    "    print(\"List is processed\")"
   ],
   "outputs": [],
   "metadata": {
    "ExecuteTime": {
     "end_time": "2021-09-11T14:48:12.506840Z",
     "start_time": "2021-09-11T14:48:12.498632Z"
    }
   }
  },
  {
   "cell_type": "code",
   "execution_count": 16,
   "source": [
    "process_data2(data)"
   ],
   "outputs": [
    {
     "output_type": "stream",
     "name": "stdout",
     "text": [
      "Dict is processed\n"
     ]
    }
   ],
   "metadata": {
    "ExecuteTime": {
     "end_time": "2021-09-11T14:48:22.888333Z",
     "start_time": "2021-09-11T14:48:22.881642Z"
    }
   }
  },
  {
   "cell_type": "code",
   "execution_count": 17,
   "source": [
    "process_data2(data2)"
   ],
   "outputs": [
    {
     "output_type": "stream",
     "name": "stdout",
     "text": [
      "List is processed\n"
     ]
    }
   ],
   "metadata": {
    "ExecuteTime": {
     "end_time": "2021-09-11T14:48:23.342964Z",
     "start_time": "2021-09-11T14:48:23.336844Z"
    }
   }
  }
 ],
 "metadata": {
  "celltoolbar": "Tags",
  "kernelspec": {
   "display_name": "Python 3 (ipykernel)",
   "language": "python",
   "name": "python3"
  },
  "language_info": {
   "codemirror_mode": {
    "name": "ipython",
    "version": 3
   },
   "file_extension": ".py",
   "mimetype": "text/x-python",
   "name": "python",
   "nbconvert_exporter": "python",
   "pygments_lexer": "ipython3",
   "version": "3.8.10"
  },
  "toc": {
   "base_numbering": 1,
   "nav_menu": {},
   "number_sections": true,
   "sideBar": true,
   "skip_h1_title": false,
   "title_cell": "Table of Contents",
   "title_sidebar": "Contents",
   "toc_cell": false,
   "toc_position": {},
   "toc_section_display": true,
   "toc_window_display": false
  }
 },
 "nbformat": 4,
 "nbformat_minor": 5
}