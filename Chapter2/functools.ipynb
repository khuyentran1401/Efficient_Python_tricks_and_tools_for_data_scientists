{
 "cells": [
  {
   "cell_type": "markdown",
   "metadata": {},
   "source": [
    "## Functools"
   ]
  },
  {
   "cell_type": "markdown",
   "metadata": {},
   "source": [
    "[functools](https://docs.python.org/3/library/functools.html) is a built-in Python library to work with functions efficiently. This section will show you some useful methods of functools. "
   ]
  },
  {
   "cell_type": "markdown",
   "metadata": {},
   "source": [
    "### functools.partial: Generate a New Function with Fewer Arguments"
   ]
  },
  {
   "cell_type": "markdown",
   "metadata": {},
   "source": [
    "If you want to fix some arguments of a function and generate a new function with fewer arguments, use `functools.partial`.\n",
    "\n",
    "In the code below, I use `partial` to create a new function with only `x` as the argument."
   ]
  },
  {
   "cell_type": "code",
   "execution_count": 1,
   "metadata": {
    "ExecuteTime": {
     "end_time": "2021-08-30T00:52:29.416607Z",
     "start_time": "2021-08-30T00:52:29.395897Z"
    }
   },
   "outputs": [
    {
     "name": "stdout",
     "output_type": "stream",
     "text": [
      "7\n",
      "11\n"
     ]
    }
   ],
   "source": [
    "from functools import partial\n",
    "\n",
    "\n",
    "def linear_func(x, a, b):\n",
    "    return a * x + b\n",
    "\n",
    "\n",
    "linear_func_partial = partial(linear_func, a=2, b=3)\n",
    "print(linear_func_partial(2))\n",
    "print(linear_func_partial(4))"
   ]
  },
  {
   "cell_type": "markdown",
   "metadata": {},
   "source": [
    "### functools.singledispatch: Call Another Function Based on the Type of the Current Function’s Argument"
   ]
  },
  {
   "cell_type": "markdown",
   "metadata": {},
   "source": [
    "Normally, to call another function based on the type of the current function’s argument, we use an if-else statement:"
   ]
  },
  {
   "cell_type": "code",
   "execution_count": 11,
   "metadata": {
    "ExecuteTime": {
     "end_time": "2021-09-11T14:48:02.760305Z",
     "start_time": "2021-09-11T14:48:02.754004Z"
    }
   },
   "outputs": [],
   "source": [
    "data = {\"a\": [1, 2, 3], \"b\": [4, 5, 6]}\n",
    "data2 = [{\"a\": [1, 2, 3]}, {\"b\": [4, 5, 6]}]"
   ]
  },
  {
   "cell_type": "code",
   "execution_count": 12,
   "metadata": {
    "ExecuteTime": {
     "end_time": "2021-09-11T14:48:03.225075Z",
     "start_time": "2021-09-11T14:48:03.217939Z"
    }
   },
   "outputs": [],
   "source": [
    "def process_data(data):\n",
    "    if isinstance(data, dict):\n",
    "        process_dict(data)\n",
    "\n",
    "    else:\n",
    "        process_list(data)\n",
    "\n",
    "\n",
    "def process_dict(data: dict):\n",
    "    print(\"Dict is processed\")\n",
    "\n",
    "\n",
    "def process_list(data: list):\n",
    "    print(\"List is processed\")"
   ]
  },
  {
   "cell_type": "code",
   "execution_count": 13,
   "metadata": {
    "ExecuteTime": {
     "end_time": "2021-09-11T14:48:03.566377Z",
     "start_time": "2021-09-11T14:48:03.559906Z"
    }
   },
   "outputs": [
    {
     "name": "stdout",
     "output_type": "stream",
     "text": [
      "Dict is processed\n"
     ]
    }
   ],
   "source": [
    "process_data(data)"
   ]
  },
  {
   "cell_type": "code",
   "execution_count": 14,
   "metadata": {
    "ExecuteTime": {
     "end_time": "2021-09-11T14:48:04.207837Z",
     "start_time": "2021-09-11T14:48:04.200372Z"
    }
   },
   "outputs": [
    {
     "name": "stdout",
     "output_type": "stream",
     "text": [
      "List is processed\n"
     ]
    }
   ],
   "source": [
    "process_data(data2)"
   ]
  },
  {
   "cell_type": "markdown",
   "metadata": {},
   "source": [
    "With `singledispatch`, you don’t need to use an if-else statement to call an appropriate function. `singledispatch` will choose the right function based on the type of current function’s first argument."
   ]
  },
  {
   "cell_type": "code",
   "execution_count": 15,
   "metadata": {
    "ExecuteTime": {
     "end_time": "2021-09-11T14:48:12.506840Z",
     "start_time": "2021-09-11T14:48:12.498632Z"
    }
   },
   "outputs": [],
   "source": [
    "from functools import singledispatch\n",
    "\n",
    "\n",
    "@singledispatch\n",
    "def process_data2(data):\n",
    "    raise NotImplementedError(\"Please implement process_data2\")\n",
    "\n",
    "\n",
    "@process_data2.register\n",
    "def process_dict2(data: dict):\n",
    "    print(\"Dict is processed\")\n",
    "\n",
    "\n",
    "@process_data2.register\n",
    "def process_list2(data: list):\n",
    "    print(\"List is processed\")"
   ]
  },
  {
   "cell_type": "code",
   "execution_count": 16,
   "metadata": {
    "ExecuteTime": {
     "end_time": "2021-09-11T14:48:22.888333Z",
     "start_time": "2021-09-11T14:48:22.881642Z"
    }
   },
   "outputs": [
    {
     "name": "stdout",
     "output_type": "stream",
     "text": [
      "Dict is processed\n"
     ]
    }
   ],
   "source": [
    "process_data2(data)"
   ]
  },
  {
   "cell_type": "code",
   "execution_count": 17,
   "metadata": {
    "ExecuteTime": {
     "end_time": "2021-09-11T14:48:23.342964Z",
     "start_time": "2021-09-11T14:48:23.336844Z"
    }
   },
   "outputs": [
    {
     "name": "stdout",
     "output_type": "stream",
     "text": [
      "List is processed\n"
     ]
    }
   ],
   "source": [
    "process_data2(data2)"
   ]
  },
  {
   "cell_type": "markdown",
   "id": "7feee6ae",
   "metadata": {},
   "source": [
    "### functools.reduce: Apply Function Cumulatively to the Items of Iterable"
   ]
  },
  {
   "cell_type": "markdown",
   "id": "fbb6ff4f",
   "metadata": {},
   "source": [
    "If you want to apply a function of two arguments cumulatively to the items of iterable from left to right, use functools's reduce. This method reduces the iterable to a single value.\n",
    "\n",
    "In the code below, `3` is the result of the function `add_nums(2, 1)`. `3` is then used as the first argument of the function `add_nums(3, 2)`. "
   ]
  },
  {
   "cell_type": "code",
   "execution_count": 3,
   "id": "b06ed244",
   "metadata": {},
   "outputs": [
    {
     "name": "stdout",
     "output_type": "stream",
     "text": [
      "2 + 1 = 3\n",
      "3 + 2 = 5\n",
      "5 + 3 = 8\n",
      "8\n"
     ]
    }
   ],
   "source": [
    "from functools import reduce\n",
    "\n",
    "\n",
    "def add_nums(num1, num2):\n",
    "    res = num1 + num2\n",
    "    print(f\"{num1} + {num2} = {res}\")\n",
    "    return res\n",
    "\n",
    "\n",
    "print(reduce(add_nums, [1, 2, 3], 2))\n"
   ]
  },
  {
   "attachments": {},
   "cell_type": "markdown",
   "id": "dd61e8c5",
   "metadata": {},
   "source": [
    "### Combine Reduce and Operator Methods"
   ]
  },
  {
   "attachments": {},
   "cell_type": "markdown",
   "id": "0ee057b3",
   "metadata": {},
   "source": [
    "You can combine `functools.reduce` with a method from operator to achieve the similar functionality and make the code more readable. "
   ]
  },
  {
   "cell_type": "code",
   "execution_count": 7,
   "id": "e765fe3f",
   "metadata": {},
   "outputs": [
    {
     "data": {
      "text/plain": [
       "8"
      ]
     },
     "execution_count": 7,
     "metadata": {},
     "output_type": "execute_result"
    }
   ],
   "source": [
    "import functools\n",
    "import operator\n",
    "\n",
    "# 2+1=3, 3+2=5, 5+3=8\n",
    "functools.reduce(operator.add, [1, 2, 3], 2)"
   ]
  }
 ],
 "metadata": {
  "celltoolbar": "Tags",
  "kernelspec": {
   "display_name": "Python 3.8.9 ('venv': venv)",
   "language": "python",
   "name": "python3"
  },
  "language_info": {
   "codemirror_mode": {
    "name": "ipython",
    "version": 3
   },
   "file_extension": ".py",
   "mimetype": "text/x-python",
   "name": "python",
   "nbconvert_exporter": "python",
   "pygments_lexer": "ipython3",
   "version": "3.9.6"
  },
  "toc": {
   "base_numbering": 1,
   "nav_menu": {},
   "number_sections": true,
   "sideBar": true,
   "skip_h1_title": false,
   "title_cell": "Table of Contents",
   "title_sidebar": "Contents",
   "toc_cell": false,
   "toc_position": {},
   "toc_section_display": true,
   "toc_window_display": false
  },
  "vscode": {
   "interpreter": {
    "hash": "484329849bb907480cd798e750759bc6f1d66c93f9e78e7055aa0a2c2de6b47b"
   }
  }
 },
 "nbformat": 4,
 "nbformat_minor": 5
}
