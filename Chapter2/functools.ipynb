{
 "cells": [
  {
   "cell_type": "markdown",
   "id": "64f17e00",
   "metadata": {},
   "source": [
    "## Functools"
   ]
  },
  {
   "cell_type": "markdown",
   "id": "b86f7f1a",
   "metadata": {},
   "source": [
    "[functools](https://docs.python.org/3/library/functools.html) is a built-in Python library to work with functions efficiently. This section will show you some useful methods of functools. "
   ]
  },
  {
   "cell_type": "markdown",
   "id": "bcc192f4",
   "metadata": {},
   "source": [
    "### Simplifying Repetitive Function Calls with partial in Python"
   ]
  },
  {
   "cell_type": "markdown",
   "id": "689ee6ad",
   "metadata": {},
   "source": [
    "Repeatedly calling functions with some fixed arguments results in redundant code and reduced readability, causing unnecessary repetition throughout your codebase."
   ]
  },
  {
   "cell_type": "code",
   "execution_count": 14,
   "id": "ac91f1e4-f3d9-4d17-be88-cc2a4fcb50c4",
   "metadata": {},
   "outputs": [
    {
     "data": {
      "text/html": [
       "<div>\n",
       "<style scoped>\n",
       "    .dataframe tbody tr th:only-of-type {\n",
       "        vertical-align: middle;\n",
       "    }\n",
       "\n",
       "    .dataframe tbody tr th {\n",
       "        vertical-align: top;\n",
       "    }\n",
       "\n",
       "    .dataframe thead th {\n",
       "        text-align: right;\n",
       "    }\n",
       "</style>\n",
       "<table border=\"1\" class=\"dataframe\">\n",
       "  <thead>\n",
       "    <tr style=\"text-align: right;\">\n",
       "      <th></th>\n",
       "      <th>salary</th>\n",
       "      <th>bonus</th>\n",
       "      <th>revenue</th>\n",
       "      <th>salary_level</th>\n",
       "      <th>bonus_level</th>\n",
       "      <th>revenue_level</th>\n",
       "    </tr>\n",
       "  </thead>\n",
       "  <tbody>\n",
       "    <tr>\n",
       "      <th>0</th>\n",
       "      <td>45000</td>\n",
       "      <td>5000</td>\n",
       "      <td>150000</td>\n",
       "      <td>Q1</td>\n",
       "      <td>Q1</td>\n",
       "      <td>Q1</td>\n",
       "    </tr>\n",
       "    <tr>\n",
       "      <th>1</th>\n",
       "      <td>75000</td>\n",
       "      <td>15000</td>\n",
       "      <td>280000</td>\n",
       "      <td>Q2</td>\n",
       "      <td>Q3</td>\n",
       "      <td>Q2</td>\n",
       "    </tr>\n",
       "    <tr>\n",
       "      <th>2</th>\n",
       "      <td>125000</td>\n",
       "      <td>25000</td>\n",
       "      <td>420000</td>\n",
       "      <td>Q4</td>\n",
       "      <td>Q4</td>\n",
       "      <td>Q4</td>\n",
       "    </tr>\n",
       "    <tr>\n",
       "      <th>3</th>\n",
       "      <td>85000</td>\n",
       "      <td>10000</td>\n",
       "      <td>310000</td>\n",
       "      <td>Q3</td>\n",
       "      <td>Q2</td>\n",
       "      <td>Q3</td>\n",
       "    </tr>\n",
       "  </tbody>\n",
       "</table>\n",
       "</div>"
      ],
      "text/plain": [
       "   salary  bonus  revenue salary_level bonus_level revenue_level\n",
       "0   45000   5000   150000           Q1          Q1            Q1\n",
       "1   75000  15000   280000           Q2          Q3            Q2\n",
       "2  125000  25000   420000           Q4          Q4            Q4\n",
       "3   85000  10000   310000           Q3          Q2            Q3"
      ]
     },
     "execution_count": 14,
     "metadata": {},
     "output_type": "execute_result"
    }
   ],
   "source": [
    "# Without partial, you repeat the binning parameters for each column\n",
    "import pandas as pd\n",
    "\n",
    "df = pd.DataFrame({\n",
    "    'salary': [45000, 75000, 125000, 85000],\n",
    "    'bonus': [5000, 15000, 25000, 10000],\n",
    "    'revenue': [150000, 280000, 420000, 310000]\n",
    "})\n",
    "\n",
    "processed_df = df.copy()\n",
    "\n",
    "# Repetitive binning operations\n",
    "processed_df['salary_level'] = pd.qcut(processed_df['salary'], q=4, labels=['Q1', 'Q2', 'Q3', 'Q4'])\n",
    "processed_df['bonus_level'] = pd.qcut(processed_df['bonus'], q=4, labels=['Q1', 'Q2', 'Q3', 'Q4'])\n",
    "processed_df['revenue_level'] = pd.qcut(processed_df['revenue'], q=4, labels=['Q1', 'Q2', 'Q3', 'Q4'])\n",
    "processed_df"
   ]
  },
  {
   "cell_type": "markdown",
   "id": "51a9b9ba-9366-45b5-a6ce-4cf276075561",
   "metadata": {},
   "source": [
    "With functools.partial, you can create new function variations with pre-set arguments, making your code more concise and maintainable."
   ]
  },
  {
   "cell_type": "code",
   "execution_count": 15,
   "id": "8f8ae30c-a48b-44a9-ad3a-e09eefadc1c0",
   "metadata": {},
   "outputs": [
    {
     "data": {
      "text/html": [
       "<div>\n",
       "<style scoped>\n",
       "    .dataframe tbody tr th:only-of-type {\n",
       "        vertical-align: middle;\n",
       "    }\n",
       "\n",
       "    .dataframe tbody tr th {\n",
       "        vertical-align: top;\n",
       "    }\n",
       "\n",
       "    .dataframe thead th {\n",
       "        text-align: right;\n",
       "    }\n",
       "</style>\n",
       "<table border=\"1\" class=\"dataframe\">\n",
       "  <thead>\n",
       "    <tr style=\"text-align: right;\">\n",
       "      <th></th>\n",
       "      <th>salary</th>\n",
       "      <th>bonus</th>\n",
       "      <th>revenue</th>\n",
       "      <th>salary_level</th>\n",
       "      <th>bonus_level</th>\n",
       "      <th>revenue_level</th>\n",
       "    </tr>\n",
       "  </thead>\n",
       "  <tbody>\n",
       "    <tr>\n",
       "      <th>0</th>\n",
       "      <td>45000</td>\n",
       "      <td>5000</td>\n",
       "      <td>150000</td>\n",
       "      <td>Q1</td>\n",
       "      <td>Q1</td>\n",
       "      <td>Q1</td>\n",
       "    </tr>\n",
       "    <tr>\n",
       "      <th>1</th>\n",
       "      <td>75000</td>\n",
       "      <td>15000</td>\n",
       "      <td>280000</td>\n",
       "      <td>Q2</td>\n",
       "      <td>Q3</td>\n",
       "      <td>Q2</td>\n",
       "    </tr>\n",
       "    <tr>\n",
       "      <th>2</th>\n",
       "      <td>125000</td>\n",
       "      <td>25000</td>\n",
       "      <td>420000</td>\n",
       "      <td>Q4</td>\n",
       "      <td>Q4</td>\n",
       "      <td>Q4</td>\n",
       "    </tr>\n",
       "    <tr>\n",
       "      <th>3</th>\n",
       "      <td>85000</td>\n",
       "      <td>10000</td>\n",
       "      <td>310000</td>\n",
       "      <td>Q3</td>\n",
       "      <td>Q2</td>\n",
       "      <td>Q3</td>\n",
       "    </tr>\n",
       "  </tbody>\n",
       "</table>\n",
       "</div>"
      ],
      "text/plain": [
       "   salary  bonus  revenue salary_level bonus_level revenue_level\n",
       "0   45000   5000   150000           Q1          Q1            Q1\n",
       "1   75000  15000   280000           Q2          Q3            Q2\n",
       "2  125000  25000   420000           Q4          Q4            Q4\n",
       "3   85000  10000   310000           Q3          Q2            Q3"
      ]
     },
     "execution_count": 15,
     "metadata": {},
     "output_type": "execute_result"
    }
   ],
   "source": [
    "from functools import partial\n",
    "\n",
    "processed_df = df.copy()\n",
    "\n",
    "# Create a standardized quartile binning function\n",
    "quartile_bin = partial(pd.qcut, q=4, labels=[\"Q1\", \"Q2\", \"Q3\", \"Q4\"])\n",
    "\n",
    "# Apply the binning function consistently\n",
    "processed_df[\"salary_level\"] = quartile_bin(processed_df[\"salary\"])\n",
    "processed_df[\"bonus_level\"] = quartile_bin(processed_df[\"bonus\"])\n",
    "processed_df[\"revenue_level\"] = quartile_bin(processed_df[\"revenue\"])\n",
    "processed_df"
   ]
  },
  {
   "cell_type": "markdown",
   "id": "c55389ac-5afd-4d3f-beea-e5a567ac57c7",
   "metadata": {},
   "source": [
    "In this example, partial creates a standardized binning function with pre-set parameters for the number of quantiles and their labels. This ensures consistent binning across different columns.\n",
    "\n",
    "If you need to change the binning strategy, you only need to modify it in one place:"
   ]
  },
  {
   "cell_type": "code",
   "execution_count": 16,
   "id": "73417f0b-9e8f-40b2-8968-cfffbcbbcefa",
   "metadata": {},
   "outputs": [
    {
     "data": {
      "text/html": [
       "<div>\n",
       "<style scoped>\n",
       "    .dataframe tbody tr th:only-of-type {\n",
       "        vertical-align: middle;\n",
       "    }\n",
       "\n",
       "    .dataframe tbody tr th {\n",
       "        vertical-align: top;\n",
       "    }\n",
       "\n",
       "    .dataframe thead th {\n",
       "        text-align: right;\n",
       "    }\n",
       "</style>\n",
       "<table border=\"1\" class=\"dataframe\">\n",
       "  <thead>\n",
       "    <tr style=\"text-align: right;\">\n",
       "      <th></th>\n",
       "      <th>salary</th>\n",
       "      <th>bonus</th>\n",
       "      <th>revenue</th>\n",
       "      <th>salary_level</th>\n",
       "      <th>bonus_level</th>\n",
       "      <th>revenue_level</th>\n",
       "    </tr>\n",
       "  </thead>\n",
       "  <tbody>\n",
       "    <tr>\n",
       "      <th>0</th>\n",
       "      <td>45000</td>\n",
       "      <td>5000</td>\n",
       "      <td>150000</td>\n",
       "      <td>Bottom</td>\n",
       "      <td>Bottom</td>\n",
       "      <td>Bottom</td>\n",
       "    </tr>\n",
       "    <tr>\n",
       "      <th>1</th>\n",
       "      <td>75000</td>\n",
       "      <td>15000</td>\n",
       "      <td>280000</td>\n",
       "      <td>Low</td>\n",
       "      <td>High</td>\n",
       "      <td>Low</td>\n",
       "    </tr>\n",
       "    <tr>\n",
       "      <th>2</th>\n",
       "      <td>125000</td>\n",
       "      <td>25000</td>\n",
       "      <td>420000</td>\n",
       "      <td>Top</td>\n",
       "      <td>Top</td>\n",
       "      <td>Top</td>\n",
       "    </tr>\n",
       "    <tr>\n",
       "      <th>3</th>\n",
       "      <td>85000</td>\n",
       "      <td>10000</td>\n",
       "      <td>310000</td>\n",
       "      <td>High</td>\n",
       "      <td>Low</td>\n",
       "      <td>High</td>\n",
       "    </tr>\n",
       "  </tbody>\n",
       "</table>\n",
       "</div>"
      ],
      "text/plain": [
       "   salary  bonus  revenue salary_level bonus_level revenue_level\n",
       "0   45000   5000   150000       Bottom      Bottom        Bottom\n",
       "1   75000  15000   280000          Low        High           Low\n",
       "2  125000  25000   420000          Top         Top           Top\n",
       "3   85000  10000   310000         High         Low          High"
      ]
     },
     "execution_count": 16,
     "metadata": {},
     "output_type": "execute_result"
    }
   ],
   "source": [
    "processed_df = df.copy()\n",
    "\n",
    "# Easy to create different binning strategies\n",
    "quintile_bin = partial(pd.qcut, q=5, labels=[\"Bottom\", \"Low\", \"Mid\", \"High\", \"Top\"])\n",
    "\n",
    "processed_df[\"salary_level\"] = quintile_bin(processed_df[\"salary\"])\n",
    "processed_df[\"bonus_level\"] = quintile_bin(processed_df[\"bonus\"])\n",
    "processed_df[\"revenue_level\"] = quintile_bin(processed_df[\"revenue\"])\n",
    "processed_df"
   ]
  },
  {
   "cell_type": "markdown",
   "id": "85a67e8d",
   "metadata": {},
   "source": [
    "### functools.singledispatch: Call Another Function Based on the Type of the Current Function’s Argument"
   ]
  },
  {
   "cell_type": "markdown",
   "id": "7c93be30",
   "metadata": {},
   "source": [
    "Normally, to call another function based on the type of the current function’s argument, we use an if-else statement:"
   ]
  },
  {
   "cell_type": "code",
   "execution_count": 11,
   "id": "0df04515",
   "metadata": {
    "ExecuteTime": {
     "end_time": "2021-09-11T14:48:02.760305Z",
     "start_time": "2021-09-11T14:48:02.754004Z"
    }
   },
   "outputs": [],
   "source": [
    "data = {\"a\": [1, 2, 3], \"b\": [4, 5, 6]}\n",
    "data2 = [{\"a\": [1, 2, 3]}, {\"b\": [4, 5, 6]}]"
   ]
  },
  {
   "cell_type": "code",
   "execution_count": 12,
   "id": "d6236728",
   "metadata": {
    "ExecuteTime": {
     "end_time": "2021-09-11T14:48:03.225075Z",
     "start_time": "2021-09-11T14:48:03.217939Z"
    }
   },
   "outputs": [],
   "source": [
    "def process_data(data):\n",
    "    if isinstance(data, dict):\n",
    "        process_dict(data)\n",
    "\n",
    "    else:\n",
    "        process_list(data)\n",
    "\n",
    "\n",
    "def process_dict(data: dict):\n",
    "    print(\"Dict is processed\")\n",
    "\n",
    "\n",
    "def process_list(data: list):\n",
    "    print(\"List is processed\")"
   ]
  },
  {
   "cell_type": "code",
   "execution_count": 13,
   "id": "a676e34d",
   "metadata": {
    "ExecuteTime": {
     "end_time": "2021-09-11T14:48:03.566377Z",
     "start_time": "2021-09-11T14:48:03.559906Z"
    }
   },
   "outputs": [
    {
     "name": "stdout",
     "output_type": "stream",
     "text": [
      "Dict is processed\n"
     ]
    }
   ],
   "source": [
    "process_data(data)"
   ]
  },
  {
   "cell_type": "code",
   "execution_count": 14,
   "id": "4a6ad994",
   "metadata": {
    "ExecuteTime": {
     "end_time": "2021-09-11T14:48:04.207837Z",
     "start_time": "2021-09-11T14:48:04.200372Z"
    }
   },
   "outputs": [
    {
     "name": "stdout",
     "output_type": "stream",
     "text": [
      "List is processed\n"
     ]
    }
   ],
   "source": [
    "process_data(data2)"
   ]
  },
  {
   "cell_type": "markdown",
   "id": "f5df48f7",
   "metadata": {},
   "source": [
    "With `singledispatch`, you don’t need to use an if-else statement to call an appropriate function. `singledispatch` will choose the right function based on the type of current function’s first argument."
   ]
  },
  {
   "cell_type": "code",
   "execution_count": 15,
   "id": "c5cca429",
   "metadata": {
    "ExecuteTime": {
     "end_time": "2021-09-11T14:48:12.506840Z",
     "start_time": "2021-09-11T14:48:12.498632Z"
    }
   },
   "outputs": [],
   "source": [
    "from functools import singledispatch\n",
    "\n",
    "\n",
    "@singledispatch\n",
    "def process_data2(data):\n",
    "    raise NotImplementedError(\"Please implement process_data2\")\n",
    "\n",
    "\n",
    "@process_data2.register\n",
    "def process_dict2(data: dict):\n",
    "    print(\"Dict is processed\")\n",
    "\n",
    "\n",
    "@process_data2.register\n",
    "def process_list2(data: list):\n",
    "    print(\"List is processed\")"
   ]
  },
  {
   "cell_type": "code",
   "execution_count": 16,
   "id": "0fffd44e",
   "metadata": {
    "ExecuteTime": {
     "end_time": "2021-09-11T14:48:22.888333Z",
     "start_time": "2021-09-11T14:48:22.881642Z"
    }
   },
   "outputs": [
    {
     "name": "stdout",
     "output_type": "stream",
     "text": [
      "Dict is processed\n"
     ]
    }
   ],
   "source": [
    "process_data2(data)"
   ]
  },
  {
   "cell_type": "code",
   "execution_count": 17,
   "id": "f61cb719",
   "metadata": {
    "ExecuteTime": {
     "end_time": "2021-09-11T14:48:23.342964Z",
     "start_time": "2021-09-11T14:48:23.336844Z"
    }
   },
   "outputs": [
    {
     "name": "stdout",
     "output_type": "stream",
     "text": [
      "List is processed\n"
     ]
    }
   ],
   "source": [
    "process_data2(data2)"
   ]
  },
  {
   "cell_type": "markdown",
   "id": "7feee6ae",
   "metadata": {},
   "source": [
    "### functools.reduce: Apply Function Cumulatively to the Items of Iterable"
   ]
  },
  {
   "cell_type": "markdown",
   "id": "fbb6ff4f",
   "metadata": {},
   "source": [
    "If you want to apply a function of two arguments cumulatively to the items of iterable from left to right, use functools's reduce. This method reduces the iterable to a single value.\n",
    "\n",
    "In the code below, `3` is the result of the function `add_nums(2, 1)`. `3` is then used as the first argument of the function `add_nums(3, 2)`. "
   ]
  },
  {
   "cell_type": "code",
   "execution_count": 3,
   "id": "b06ed244",
   "metadata": {},
   "outputs": [
    {
     "name": "stdout",
     "output_type": "stream",
     "text": [
      "2 + 1 = 3\n",
      "3 + 2 = 5\n",
      "5 + 3 = 8\n",
      "8\n"
     ]
    }
   ],
   "source": [
    "from functools import reduce\n",
    "\n",
    "\n",
    "def add_nums(num1, num2):\n",
    "    res = num1 + num2\n",
    "    print(f\"{num1} + {num2} = {res}\")\n",
    "    return res\n",
    "\n",
    "\n",
    "print(reduce(add_nums, [1, 2, 3], 2))\n"
   ]
  },
  {
   "attachments": {},
   "cell_type": "markdown",
   "id": "dd61e8c5",
   "metadata": {},
   "source": [
    "### Combine Reduce and Operator Methods"
   ]
  },
  {
   "attachments": {},
   "cell_type": "markdown",
   "id": "0ee057b3",
   "metadata": {},
   "source": [
    "You can combine `functools.reduce` with a method from operator to achieve the similar functionality and make the code more readable. "
   ]
  },
  {
   "cell_type": "code",
   "execution_count": 7,
   "id": "e765fe3f",
   "metadata": {},
   "outputs": [
    {
     "data": {
      "text/plain": [
       "8"
      ]
     },
     "execution_count": 7,
     "metadata": {},
     "output_type": "execute_result"
    }
   ],
   "source": [
    "import functools\n",
    "import operator\n",
    "\n",
    "# 2+1=3, 3+2=5, 5+3=8\n",
    "functools.reduce(operator.add, [1, 2, 3], 2)"
   ]
  }
 ],
 "metadata": {
  "celltoolbar": "Tags",
  "kernelspec": {
   "display_name": "Python 3 (ipykernel)",
   "language": "python",
   "name": "python3"
  },
  "language_info": {
   "codemirror_mode": {
    "name": "ipython",
    "version": 3
   },
   "file_extension": ".py",
   "mimetype": "text/x-python",
   "name": "python",
   "nbconvert_exporter": "python",
   "pygments_lexer": "ipython3",
   "version": "3.11.6"
  },
  "toc": {
   "base_numbering": 1,
   "nav_menu": {},
   "number_sections": true,
   "sideBar": true,
   "skip_h1_title": false,
   "title_cell": "Table of Contents",
   "title_sidebar": "Contents",
   "toc_cell": false,
   "toc_position": {},
   "toc_section_display": true,
   "toc_window_display": false
  },
  "vscode": {
   "interpreter": {
    "hash": "484329849bb907480cd798e750759bc6f1d66c93f9e78e7055aa0a2c2de6b47b"
   }
  }
 },
 "nbformat": 4,
 "nbformat_minor": 5
}
