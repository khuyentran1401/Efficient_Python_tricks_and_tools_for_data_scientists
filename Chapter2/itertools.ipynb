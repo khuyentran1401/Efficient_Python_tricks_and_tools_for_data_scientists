{
 "cells": [
  {
   "cell_type": "markdown",
   "id": "416eb583",
   "metadata": {},
   "source": [
    "## Itertools"
   ]
  },
  {
   "cell_type": "markdown",
   "id": "e07a0487",
   "metadata": {},
   "source": [
    "![](../img/itertools.png)"
   ]
  },
  {
   "cell_type": "markdown",
   "id": "76de4491",
   "metadata": {},
   "source": [
    "[itertools](https://docs.python.org/3/library/itertools.html) is a built-in Python library that creates iterators for efficient looping. This section will show you some useful methods of itertools."
   ]
  },
  {
   "cell_type": "markdown",
   "id": "41eb9120",
   "metadata": {},
   "source": [
    "### itertools.combinations: A Better Way to Iterate Through a Pair of Values in a Python List"
   ]
  },
  {
   "cell_type": "markdown",
   "id": "351aa114",
   "metadata": {},
   "source": [
    "If you want to iterate through a pair of values in a list and the order does not matter (`(a,b)` is the same as `(b, a)`), a naive approach is to use two for-loops."
   ]
  },
  {
   "cell_type": "code",
   "execution_count": 3,
   "id": "a593675d",
   "metadata": {
    "ExecuteTime": {
     "end_time": "2021-08-29T21:38:23.366274Z",
     "start_time": "2021-08-29T21:38:23.360506Z"
    }
   },
   "outputs": [],
   "source": [
    "num_list = [1, 2, 3]"
   ]
  },
  {
   "cell_type": "code",
   "execution_count": null,
   "id": "3e0b8179",
   "metadata": {},
   "outputs": [],
   "source": [
    "(1, 2)\n",
    "(1, 3)\n",
    "(2, 3)"
   ]
  },
  {
   "cell_type": "code",
   "execution_count": 6,
   "id": "fc292dee",
   "metadata": {
    "ExecuteTime": {
     "end_time": "2021-08-29T21:42:22.222730Z",
     "start_time": "2021-08-29T21:42:22.215146Z"
    }
   },
   "outputs": [
    {
     "name": "stdout",
     "output_type": "stream",
     "text": [
      "(1, 2)\n",
      "(1, 3)\n",
      "(2, 3)\n"
     ]
    }
   ],
   "source": [
    "for i in num_list:\n",
    "    for j in num_list:\n",
    "        if i < j:\n",
    "            print((i, j))"
   ]
  },
  {
   "cell_type": "markdown",
   "id": "e88e9ee3",
   "metadata": {},
   "source": [
    "However, using two for-loops is lengthy and inefficient. Use `itertools.combinations` instead:"
   ]
  },
  {
   "cell_type": "code",
   "execution_count": 7,
   "id": "74beca76",
   "metadata": {
    "ExecuteTime": {
     "end_time": "2021-08-29T21:42:23.917612Z",
     "start_time": "2021-08-29T21:42:23.909612Z"
    }
   },
   "outputs": [
    {
     "name": "stdout",
     "output_type": "stream",
     "text": [
      "(1, 2)\n",
      "(1, 3)\n",
      "(2, 3)\n"
     ]
    }
   ],
   "source": [
    "from itertools import combinations\n",
    "\n",
    "comb = combinations(num_list, 2)  # use this\n",
    "for pair in list(comb):\n",
    "    print(pair)"
   ]
  },
  {
   "cell_type": "markdown",
   "id": "33f052f8",
   "metadata": {},
   "source": [
    "### itertools.product: Nested For-Loops in a Generator Expression "
   ]
  },
  {
   "cell_type": "markdown",
   "id": "1cdb7f8b",
   "metadata": {},
   "source": [
    "Are you using nested for-loops to experiment with different combinations of parameters? "
   ]
  },
  {
   "cell_type": "code",
   "execution_count": 11,
   "id": "d9d53660",
   "metadata": {},
   "outputs": [
    {
     "name": "stdout",
     "output_type": "stream",
     "text": [
      "(0.1, 16)\n",
      "(0.1, 32)\n",
      "(0.1, 64)\n",
      "(0.01, 16)\n",
      "(0.01, 32)\n",
      "(0.01, 64)\n",
      "(0.001, 16)\n",
      "(0.001, 32)\n",
      "(0.001, 64)\n"
     ]
    }
   ],
   "source": [
    "params = {\n",
    "    \"learning_rate\": [1e-1, 1e-2, 1e-3],\n",
    "    \"batch_size\": [16, 32, 64],\n",
    "}\n",
    "for learning_rate in params[\"learning_rate\"]:\n",
    "    for batch_size in params[\"batch_size\"]:\n",
    "        combination = (learning_rate, batch_size)\n",
    "        print(combination)\n"
   ]
  },
  {
   "cell_type": "markdown",
   "id": "d632574d",
   "metadata": {},
   "source": [
    "If so, use `itertools.product` instead.\n",
    "\n",
    "`itertools.product` is more efficient than nested loop because `product(A, B)` returns the same as `((x,y) for x in A for y in B)`."
   ]
  },
  {
   "cell_type": "code",
   "execution_count": 21,
   "id": "84a8bda4",
   "metadata": {
    "ExecuteTime": {
     "end_time": "2021-08-29T21:44:02.299620Z",
     "start_time": "2021-08-29T21:44:02.288949Z"
    }
   },
   "outputs": [
    {
     "name": "stdout",
     "output_type": "stream",
     "text": [
      "(0.1, 16)\n",
      "(0.1, 32)\n",
      "(0.1, 64)\n",
      "(0.01, 16)\n",
      "(0.01, 32)\n",
      "(0.01, 64)\n",
      "(0.001, 16)\n",
      "(0.001, 32)\n",
      "(0.001, 64)\n"
     ]
    }
   ],
   "source": [
    "from itertools import product\n",
    "\n",
    "params = {\n",
    "    \"learning_rate\": [1e-1, 1e-2, 1e-3],\n",
    "    \"batch_size\": [16, 32, 64],\n",
    "}\n",
    "\n",
    "for combination in product(*params.values()):\n",
    "    print(combination)"
   ]
  },
  {
   "cell_type": "markdown",
   "id": "6b245270",
   "metadata": {},
   "source": [
    "### itertools.starmap: Apply a Function With More Than 2 Arguments to Elements in a List"
   ]
  },
  {
   "cell_type": "markdown",
   "id": "5613cf8e",
   "metadata": {},
   "source": [
    "`map` is a useful method that allows you to apply a function to elements in a list. However, it can't apply a function with more than one argument to a list."
   ]
  },
  {
   "cell_type": "code",
   "execution_count": 7,
   "id": "e3d9f0fd",
   "metadata": {
    "ExecuteTime": {
     "end_time": "2021-09-16T13:51:10.629920Z",
     "start_time": "2021-09-16T13:51:10.615264Z"
    }
   },
   "outputs": [
    {
     "data": {
      "application/javascript": "\n            setTimeout(function() {\n                var nbb_cell_id = 7;\n                var nbb_unformatted_code = \"def multiply(x: float, y: float):\\n    return x * y\";\n                var nbb_formatted_code = \"def multiply(x: float, y: float):\\n    return x * y\";\n                var nbb_cells = Jupyter.notebook.get_cells();\n                for (var i = 0; i < nbb_cells.length; ++i) {\n                    if (nbb_cells[i].input_prompt_number == nbb_cell_id) {\n                        if (nbb_cells[i].get_text() == nbb_unformatted_code) {\n                             nbb_cells[i].set_text(nbb_formatted_code);\n                        }\n                        break;\n                    }\n                }\n            }, 500);\n            ",
      "text/plain": [
       "<IPython.core.display.Javascript object>"
      ]
     },
     "metadata": {},
     "output_type": "display_data"
    }
   ],
   "source": [
    "def multiply(x: float, y: float):\n",
    "    return x * y"
   ]
  },
  {
   "cell_type": "code",
   "execution_count": 14,
   "id": "02cedf9e",
   "metadata": {
    "ExecuteTime": {
     "end_time": "2021-09-16T13:52:55.405638Z",
     "start_time": "2021-09-16T13:52:55.380512Z"
    }
   },
   "outputs": [
    {
     "ename": "TypeError",
     "evalue": "multiply() missing 1 required positional argument: 'y'",
     "output_type": "error",
     "traceback": [
      "\u001b[0;31m---------------------------------------------------------------------------\u001b[0m",
      "\u001b[0;31mTypeError\u001b[0m                                 Traceback (most recent call last)",
      "\u001b[0;32m/tmp/ipykernel_38110/240000324.py\u001b[0m in \u001b[0;36m<module>\u001b[0;34m\u001b[0m\n\u001b[1;32m      1\u001b[0m \u001b[0mnums\u001b[0m \u001b[0;34m=\u001b[0m \u001b[0;34m[\u001b[0m\u001b[0;34m(\u001b[0m\u001b[0;36m1\u001b[0m\u001b[0;34m,\u001b[0m \u001b[0;36m2\u001b[0m\u001b[0;34m)\u001b[0m\u001b[0;34m,\u001b[0m \u001b[0;34m(\u001b[0m\u001b[0;36m4\u001b[0m\u001b[0;34m,\u001b[0m \u001b[0;36m2\u001b[0m\u001b[0;34m)\u001b[0m\u001b[0;34m,\u001b[0m \u001b[0;34m(\u001b[0m\u001b[0;36m2\u001b[0m\u001b[0;34m,\u001b[0m \u001b[0;36m5\u001b[0m\u001b[0;34m)\u001b[0m\u001b[0;34m]\u001b[0m\u001b[0;34m\u001b[0m\u001b[0;34m\u001b[0m\u001b[0m\n\u001b[0;32m----> 2\u001b[0;31m \u001b[0mlist\u001b[0m\u001b[0;34m(\u001b[0m\u001b[0mmap\u001b[0m\u001b[0;34m(\u001b[0m\u001b[0mmultiply\u001b[0m\u001b[0;34m,\u001b[0m \u001b[0mnums\u001b[0m\u001b[0;34m)\u001b[0m\u001b[0;34m)\u001b[0m\u001b[0;34m\u001b[0m\u001b[0;34m\u001b[0m\u001b[0m\n\u001b[0m",
      "\u001b[0;31mTypeError\u001b[0m: multiply() missing 1 required positional argument: 'y'"
     ]
    },
    {
     "data": {
      "application/javascript": "\n            setTimeout(function() {\n                var nbb_cell_id = 14;\n                var nbb_unformatted_code = \"nums = [(1, 2), (4, 2), (2, 5)]\\nlist(map(multiply, nums))\";\n                var nbb_formatted_code = \"nums = [(1, 2), (4, 2), (2, 5)]\\nlist(map(multiply, nums))\";\n                var nbb_cells = Jupyter.notebook.get_cells();\n                for (var i = 0; i < nbb_cells.length; ++i) {\n                    if (nbb_cells[i].input_prompt_number == nbb_cell_id) {\n                        if (nbb_cells[i].get_text() == nbb_unformatted_code) {\n                             nbb_cells[i].set_text(nbb_formatted_code);\n                        }\n                        break;\n                    }\n                }\n            }, 500);\n            ",
      "text/plain": [
       "<IPython.core.display.Javascript object>"
      ]
     },
     "metadata": {},
     "output_type": "display_data"
    }
   ],
   "source": [
    "nums = [(1, 2), (4, 2), (2, 5)]\n",
    "list(map(multiply, nums))"
   ]
  },
  {
   "cell_type": "markdown",
   "id": "e927dd08",
   "metadata": {},
   "source": [
    "To apply a function with more than 2 arguments to elements in a list, use `itertools.starmap`. With `starmap`, elements in each tuple of the list `nums` are used as arguments for the function `multiply`."
   ]
  },
  {
   "cell_type": "code",
   "execution_count": 15,
   "id": "b6c26a6d",
   "metadata": {
    "ExecuteTime": {
     "end_time": "2021-09-16T13:53:01.773919Z",
     "start_time": "2021-09-16T13:53:01.757466Z"
    }
   },
   "outputs": [
    {
     "data": {
      "text/plain": [
       "[2, 8, 10]"
      ]
     },
     "execution_count": 15,
     "metadata": {},
     "output_type": "execute_result"
    },
    {
     "data": {
      "application/javascript": "\n            setTimeout(function() {\n                var nbb_cell_id = 15;\n                var nbb_unformatted_code = \"from itertools import starmap\\n\\nlist(starmap(multiply, nums))\";\n                var nbb_formatted_code = \"from itertools import starmap\\n\\nlist(starmap(multiply, nums))\";\n                var nbb_cells = Jupyter.notebook.get_cells();\n                for (var i = 0; i < nbb_cells.length; ++i) {\n                    if (nbb_cells[i].input_prompt_number == nbb_cell_id) {\n                        if (nbb_cells[i].get_text() == nbb_unformatted_code) {\n                             nbb_cells[i].set_text(nbb_formatted_code);\n                        }\n                        break;\n                    }\n                }\n            }, 500);\n            ",
      "text/plain": [
       "<IPython.core.display.Javascript object>"
      ]
     },
     "metadata": {},
     "output_type": "display_data"
    }
   ],
   "source": [
    "from itertools import starmap\n",
    "\n",
    "list(starmap(multiply, nums))"
   ]
  },
  {
   "cell_type": "markdown",
   "id": "376cd07e",
   "metadata": {},
   "source": [
    "### itertools.compress: Filter a List Using Booleans"
   ]
  },
  {
   "cell_type": "markdown",
   "id": "ef05107d",
   "metadata": {},
   "source": [
    "Normally, you cannot filter a list using a list."
   ]
  },
  {
   "cell_type": "code",
   "execution_count": 9,
   "id": "41a64675",
   "metadata": {
    "ExecuteTime": {
     "end_time": "2021-10-05T13:34:25.996708Z",
     "start_time": "2021-10-05T13:34:25.980899Z"
    }
   },
   "outputs": [
    {
     "ename": "TypeError",
     "evalue": "list indices must be integers or slices, not list",
     "output_type": "error",
     "traceback": [
      "\u001b[0;31m---------------------------------------------------------------------------\u001b[0m",
      "\u001b[0;31mTypeError\u001b[0m                                 Traceback (most recent call last)",
      "\u001b[0;32m/tmp/ipykernel_40588/2755098589.py\u001b[0m in \u001b[0;36m<module>\u001b[0;34m\u001b[0m\n\u001b[1;32m      1\u001b[0m \u001b[0mfruits\u001b[0m \u001b[0;34m=\u001b[0m \u001b[0;34m[\u001b[0m\u001b[0;34m'apple'\u001b[0m\u001b[0;34m,\u001b[0m \u001b[0;34m'orange'\u001b[0m\u001b[0;34m,\u001b[0m \u001b[0;34m'banana'\u001b[0m\u001b[0;34m,\u001b[0m \u001b[0;34m'grape'\u001b[0m\u001b[0;34m,\u001b[0m \u001b[0;34m'lemon'\u001b[0m\u001b[0;34m]\u001b[0m\u001b[0;34m\u001b[0m\u001b[0;34m\u001b[0m\u001b[0m\n\u001b[1;32m      2\u001b[0m \u001b[0mchosen\u001b[0m \u001b[0;34m=\u001b[0m \u001b[0;34m[\u001b[0m\u001b[0;36m1\u001b[0m\u001b[0;34m,\u001b[0m \u001b[0;36m0\u001b[0m\u001b[0;34m,\u001b[0m \u001b[0;36m0\u001b[0m\u001b[0;34m,\u001b[0m \u001b[0;36m1\u001b[0m\u001b[0;34m,\u001b[0m \u001b[0;36m1\u001b[0m\u001b[0;34m]\u001b[0m\u001b[0;34m\u001b[0m\u001b[0;34m\u001b[0m\u001b[0m\n\u001b[0;32m----> 3\u001b[0;31m \u001b[0mfruits\u001b[0m\u001b[0;34m[\u001b[0m\u001b[0mchosen\u001b[0m\u001b[0;34m]\u001b[0m\u001b[0;34m\u001b[0m\u001b[0;34m\u001b[0m\u001b[0m\n\u001b[0m",
      "\u001b[0;31mTypeError\u001b[0m: list indices must be integers or slices, not list"
     ]
    }
   ],
   "source": [
    "fruits = [\"apple\", \"orange\", \"banana\", \"grape\", \"lemon\"]\n",
    "chosen = [1, 0, 0, 1, 1]\n",
    "fruits[chosen]"
   ]
  },
  {
   "cell_type": "markdown",
   "id": "9ba69197",
   "metadata": {},
   "source": [
    "To filter a list using a list of booleans, use `itertools.compress` instead "
   ]
  },
  {
   "cell_type": "code",
   "execution_count": 8,
   "id": "8b8a0c3a",
   "metadata": {
    "ExecuteTime": {
     "end_time": "2021-10-05T13:33:37.032495Z",
     "start_time": "2021-10-05T13:33:37.022392Z"
    }
   },
   "outputs": [
    {
     "data": {
      "text/plain": [
       "['apple', 'grape', 'lemon']"
      ]
     },
     "execution_count": 8,
     "metadata": {},
     "output_type": "execute_result"
    }
   ],
   "source": [
    "from itertools import compress\n",
    "\n",
    "list(compress(fruits, chosen))"
   ]
  },
  {
   "cell_type": "markdown",
   "id": "4126f940",
   "metadata": {},
   "source": [
    "### itertools.groupby: Group Elements in an Iterable by a Key"
   ]
  },
  {
   "cell_type": "markdown",
   "id": "6f0ce3e0",
   "metadata": {},
   "source": [
    "If you want to group elements in a list by a key, use `itertools.groupby`. In the example below, I grouped elements in the list by the first element in each tuple. "
   ]
  },
  {
   "cell_type": "code",
   "execution_count": 1,
   "id": "ec5268a8",
   "metadata": {
    "ExecuteTime": {
     "end_time": "2021-10-26T13:01:47.864097Z",
     "start_time": "2021-10-26T13:01:47.835722Z"
    }
   },
   "outputs": [
    {
     "name": "stdout",
     "output_type": "stream",
     "text": [
      "apple : [('apple', 3), ('apple', 4)]\n",
      "grape : [('grape', 3)]\n",
      "orange : [('orange', 2), ('orange', 1)]\n"
     ]
    }
   ],
   "source": [
    "from itertools import groupby\n",
    "\n",
    "prices = [(\"apple\", 3), (\"orange\", 2), (\"apple\", 4), (\"orange\", 1), (\"grape\", 3)]\n",
    "\n",
    "key_func = lambda x: x[0]\n",
    "\n",
    "# Sort the elements in the list by the key\n",
    "prices.sort(key=key_func)\n",
    "\n",
    "# Group elements in the list by the key\n",
    "for key, group in groupby(prices, key_func):\n",
    "    print(key, \":\", list(group))"
   ]
  },
  {
   "cell_type": "markdown",
   "id": "44ac9071",
   "metadata": {},
   "source": [
    "### itertools.zip_longest: Zip Iterables of Different Lengths"
   ]
  },
  {
   "cell_type": "markdown",
   "id": "73ba44ec",
   "metadata": {},
   "source": [
    "`zip` allows you to aggregate elements from each of the iterables. However, `zip` doesn't show all pairs of elements when iterables have different lengths. "
   ]
  },
  {
   "cell_type": "code",
   "execution_count": 14,
   "id": "d08df62a",
   "metadata": {
    "ExecuteTime": {
     "end_time": "2021-11-02T14:25:42.055843Z",
     "start_time": "2021-11-02T14:25:42.050186Z"
    }
   },
   "outputs": [],
   "source": [
    "fruits = [\"apple\", \"orange\", \"grape\"]\n",
    "prices = [1, 2]"
   ]
  },
  {
   "cell_type": "code",
   "execution_count": 15,
   "id": "ad0020b4",
   "metadata": {
    "ExecuteTime": {
     "end_time": "2021-11-02T14:25:42.571982Z",
     "start_time": "2021-11-02T14:25:42.562884Z"
    }
   },
   "outputs": [
    {
     "data": {
      "text/plain": [
       "[('apple', 1), ('orange', 2)]"
      ]
     },
     "execution_count": 15,
     "metadata": {},
     "output_type": "execute_result"
    }
   ],
   "source": [
    "list(zip(fruits, prices))"
   ]
  },
  {
   "cell_type": "markdown",
   "id": "90f8d70c",
   "metadata": {},
   "source": [
    "To aggregate iterables of different lengths, use `itertools.zip_longest`. This method will fill missing values with `fillvalue`."
   ]
  },
  {
   "cell_type": "code",
   "execution_count": 16,
   "id": "187487fb",
   "metadata": {
    "ExecuteTime": {
     "end_time": "2021-11-02T14:25:44.162915Z",
     "start_time": "2021-11-02T14:25:44.157575Z"
    }
   },
   "outputs": [],
   "source": [
    "from itertools import zip_longest"
   ]
  },
  {
   "cell_type": "code",
   "execution_count": 17,
   "id": "9bac036b",
   "metadata": {
    "ExecuteTime": {
     "end_time": "2021-11-02T14:25:44.709077Z",
     "start_time": "2021-11-02T14:25:44.699674Z"
    }
   },
   "outputs": [
    {
     "data": {
      "text/plain": [
       "[('apple', 1), ('orange', 2), ('grape', '-')]"
      ]
     },
     "execution_count": 17,
     "metadata": {},
     "output_type": "execute_result"
    }
   ],
   "source": [
    "list(zip_longest(fruits, prices, fillvalue=\"-\"))"
   ]
  },
  {
   "attachments": {},
   "cell_type": "markdown",
   "id": "16243084",
   "metadata": {},
   "source": [
    "### itertools.dropwhile: Drop Elements in an Iterable Until a Condition Is False"
   ]
  },
  {
   "attachments": {},
   "cell_type": "markdown",
   "id": "b5d8c554",
   "metadata": {},
   "source": [
    "If you want to drop elements from an iterable until a condition is false, use `itertools.dropwhile`."
   ]
  },
  {
   "cell_type": "code",
   "execution_count": 12,
   "id": "cd9d5db3",
   "metadata": {},
   "outputs": [
    {
     "data": {
      "text/plain": [
       "[5, 2, 4]"
      ]
     },
     "execution_count": 12,
     "metadata": {},
     "output_type": "execute_result"
    }
   ],
   "source": [
    "from itertools import dropwhile\n",
    "\n",
    "nums = [1, 2, 5, 2, 4]\n",
    "\n",
    "# Drop every number until a number >= 5\n",
    "list(dropwhile(lambda n: n < 5, nums))"
   ]
  },
  {
   "cell_type": "code",
   "execution_count": 13,
   "id": "e29b4c7f",
   "metadata": {},
   "outputs": [
    {
     "data": {
      "text/plain": [
       "'Nice!'"
      ]
     },
     "execution_count": 13,
     "metadata": {},
     "output_type": "execute_result"
    }
   ],
   "source": [
    "word = 'abcNice!'\n",
    "\n",
    "# Drop every char until a char is in upper case\n",
    "chars  = dropwhile(lambda char: char.islower(), word)\n",
    "''.join(chars)"
   ]
  }
 ],
 "metadata": {
  "hide_input": false,
  "kernelspec": {
   "display_name": "venv",
   "language": "python",
   "name": "python3"
  },
  "language_info": {
   "codemirror_mode": {
    "name": "ipython",
    "version": 3
   },
   "file_extension": ".py",
   "mimetype": "text/x-python",
   "name": "python",
   "nbconvert_exporter": "python",
   "pygments_lexer": "ipython3",
   "version": "3.9.6"
  },
  "toc": {
   "base_numbering": 1,
   "nav_menu": {},
   "number_sections": true,
   "sideBar": true,
   "skip_h1_title": false,
   "title_cell": "Table of Contents",
   "title_sidebar": "Contents",
   "toc_cell": false,
   "toc_position": {},
   "toc_section_display": true,
   "toc_window_display": false
  },
  "vscode": {
   "interpreter": {
    "hash": "484329849bb907480cd798e750759bc6f1d66c93f9e78e7055aa0a2c2de6b47b"
   }
  }
 },
 "nbformat": 4,
 "nbformat_minor": 5
}
