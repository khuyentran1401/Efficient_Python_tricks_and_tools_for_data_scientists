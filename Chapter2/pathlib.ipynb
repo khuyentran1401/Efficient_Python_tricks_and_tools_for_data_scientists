{
 "cells": [
  {
   "attachments": {},
   "cell_type": "markdown",
   "id": "6d8e0110",
   "metadata": {},
   "source": [
    "## pathlib"
   ]
  },
  {
   "attachments": {},
   "cell_type": "markdown",
   "id": "4319e1ef",
   "metadata": {},
   "source": [
    "pathlib is a Python library that makes it easy to handle file in Python. "
   ]
  },
  {
   "attachments": {},
   "cell_type": "markdown",
   "id": "ebf6ea9e",
   "metadata": {},
   "source": [
    "### Create a New Directory and File"
   ]
  },
  {
   "attachments": {},
   "cell_type": "markdown",
   "id": "854e895d",
   "metadata": {},
   "source": [
    "You can use either os or pathlib to create new directories and files in Python. pathlib is my preferred choice because it is simpler to use and easier to understand."
   ]
  },
  {
   "cell_type": "code",
   "execution_count": 9,
   "id": "2d1cdb6a",
   "metadata": {
    "ExecuteTime": {
     "end_time": "2022-03-10T15:36:21.599330Z",
     "start_time": "2022-03-10T15:36:21.588838Z"
    }
   },
   "outputs": [
    {
     "name": "stdout",
     "output_type": "stream",
     "text": [
      "Hello World!\n"
     ]
    }
   ],
   "source": [
    "import os\n",
    "\n",
    "# Create a new directory\n",
    "if not os.path.exists(\"new\"):\n",
    "    os.makedirs(\"new\")\n",
    "\n",
    "# Create a new file inside new directory\n",
    "file = os.path.join(\"new\", \"new_file.txt\")\n",
    "\n",
    "# Write text to the file\n",
    "with open(file, \"w\") as f:\n",
    "    f.write(\"Hello World!\")\n",
    "\n",
    "# Read the file\n",
    "with open(file, \"r\") as f:\n",
    "    print(f.read())\n"
   ]
  },
  {
   "cell_type": "code",
   "execution_count": 1,
   "id": "b2251937",
   "metadata": {
    "ExecuteTime": {
     "end_time": "2022-03-10T15:28:32.447187Z",
     "start_time": "2022-03-10T15:28:32.438004Z"
    }
   },
   "outputs": [
    {
     "data": {
      "text/plain": [
       "12"
      ]
     },
     "execution_count": 1,
     "metadata": {},
     "output_type": "execute_result"
    }
   ],
   "source": [
    "from pathlib import Path\n",
    "\n",
    "# Create a new directory\n",
    "folder = Path(\"new\")\n",
    "folder.mkdir(exist_ok=True)\n",
    "\n",
    "# Create new file inside new directory\n",
    "file = folder / \"new_file.txt\"\n",
    "\n",
    "# Write text\n",
    "file.write_text(\"Hello World!\")\n",
    "\n",
    "# Read text\n",
    "file.read_text()\n"
   ]
  },
  {
   "attachments": {},
   "cell_type": "markdown",
   "id": "88a5fb84",
   "metadata": {},
   "source": [
    "The following is the structure of the `new` folder:\n",
    "\n",
    "```bash\n",
    ".\n",
    "└── new/\n",
    "    └── new_file.txt\n",
    "```"
   ]
  },
  {
   "attachments": {},
   "cell_type": "markdown",
   "id": "d09164f6",
   "metadata": {},
   "source": [
    "### Get Access to Files from Home Directory"
   ]
  },
  {
   "attachments": {},
   "cell_type": "markdown",
   "id": "401c4c9a",
   "metadata": {},
   "source": [
    "If you want to get the path to folders/files from the home directory, use `Path.home()`"
   ]
  },
  {
   "cell_type": "code",
   "execution_count": 1,
   "id": "0bcf6444",
   "metadata": {},
   "outputs": [
    {
     "name": "stdout",
     "output_type": "stream",
     "text": [
      "/Users/khuyen/Documents\n",
      "/Users/khuyen/Pictures\n"
     ]
    }
   ],
   "source": [
    "from pathlib import Path\n",
    "\n",
    "path = Path.home()\n",
    "\n",
    "docs = path / 'Documents'\n",
    "pictures = path / 'Pictures'\n",
    "\n",
    "print(docs)\n",
    "print(pictures)"
   ]
  },
  {
   "attachments": {},
   "cell_type": "markdown",
   "id": "2e9688c5",
   "metadata": {},
   "source": [
    "Now you can use pathlib's methods to manipulate the folders/files in the obtained path."
   ]
  },
  {
   "cell_type": "code",
   "execution_count": 6,
   "id": "1d3e1f81",
   "metadata": {},
   "outputs": [],
   "source": [
    "# Create a new file inside Documents\n",
    "file = docs / 'new_file.txt'\n",
    "file.touch()"
   ]
  },
  {
   "cell_type": "code",
   "execution_count": 16,
   "id": "2bf01ee2",
   "metadata": {},
   "outputs": [
    {
     "name": "stdout",
     "output_type": "stream",
     "text": [
      "├── new_file.txt\n"
     ]
    }
   ],
   "source": [
    "!tree /Users/khuyen/Documents | grep new_file.txt "
   ]
  },
  {
   "attachments": {},
   "cell_type": "markdown",
   "id": "9259d1f3",
   "metadata": {},
   "source": [
    "### Get the Parent of the Current Path with pathlib"
   ]
  },
  {
   "attachments": {},
   "cell_type": "markdown",
   "id": "f17c49b8",
   "metadata": {},
   "source": [
    "If you want to get the parent path or the grandparent path easily, use pathlib's `.parent`."
   ]
  },
  {
   "cell_type": "code",
   "execution_count": 7,
   "id": "a9ca8442",
   "metadata": {},
   "outputs": [
    {
     "name": "stdout",
     "output_type": "stream",
     "text": [
      "Current path: /Users/khuyen/book/Efficient_Python_tricks_and_tools_for_data_scientists/Chapter2\n",
      "Parent of the current path: /Users/khuyen/book/Efficient_Python_tricks_and_tools_for_data_scientists\n",
      "Grandparent of the current path: /Users/khuyen/book\n"
     ]
    }
   ],
   "source": [
    "from pathlib import Path\n",
    "\n",
    "path = Path.cwd()\n",
    "\n",
    "print(f'Current path: {path}')\n",
    "print(f'Parent of the current path: {path.parent}')\n",
    "print(f'Grandparent of the current path: {path.parent.parent}')"
   ]
  },
  {
   "attachments": {},
   "cell_type": "markdown",
   "id": "a41e5910",
   "metadata": {},
   "source": [
    "### Get the Path Relative to Another Path"
   ]
  },
  {
   "attachments": {},
   "cell_type": "markdown",
   "id": "43e86389",
   "metadata": {},
   "source": [
    "If you want to get the path relative to another path, use `pathlib.Path.relative_to`."
   ]
  },
  {
   "cell_type": "code",
   "execution_count": 9,
   "id": "c0950c3b",
   "metadata": {},
   "outputs": [
    {
     "data": {
      "text/plain": [
       "PosixPath('Data-science/nlp')"
      ]
     },
     "execution_count": 9,
     "metadata": {},
     "output_type": "execute_result"
    }
   ],
   "source": [
    "from pathlib import Path\n",
    "\n",
    "nlp = Path('/Users/khuyen/Data-science/nlp/')\n",
    "root = '/Users/khuyen/'\n",
    "nlp.relative_to(root)"
   ]
  },
  {
   "attachments": {},
   "cell_type": "markdown",
   "id": "90b3e719",
   "metadata": {},
   "source": [
    "### Check if Two File Paths Are the Same"
   ]
  },
  {
   "attachments": {},
   "cell_type": "markdown",
   "id": "923a89b4",
   "metadata": {},
   "source": [
    "If you want to check whether two file paths are the same, use `Path.samefile()`."
   ]
  },
  {
   "cell_type": "code",
   "execution_count": 13,
   "id": "91ec212b",
   "metadata": {},
   "outputs": [
    {
     "data": {
      "text/plain": [
       "True"
      ]
     },
     "execution_count": 13,
     "metadata": {},
     "output_type": "execute_result"
    }
   ],
   "source": [
    "from pathlib import Path \n",
    "\n",
    "home = Path.home()\n",
    "absolute = home / \"book/book/Chapter2/pathlib.ipynb\"\n",
    "relative = Path(\"pathlib.ipynb\")\n",
    "\n",
    "absolute.samefile(relative)\n"
   ]
  }
 ],
 "metadata": {
  "kernelspec": {
   "display_name": "Python 3.8.9 ('venv': venv)",
   "language": "python",
   "name": "python3"
  },
  "language_info": {
   "codemirror_mode": {
    "name": "ipython",
    "version": 3
   },
   "file_extension": ".py",
   "mimetype": "text/x-python",
   "name": "python",
   "nbconvert_exporter": "python",
   "pygments_lexer": "ipython3",
   "version": "3.9.6"
  },
  "toc": {
   "base_numbering": 1,
   "nav_menu": {},
   "number_sections": true,
   "sideBar": true,
   "skip_h1_title": false,
   "title_cell": "Table of Contents",
   "title_sidebar": "Contents",
   "toc_cell": false,
   "toc_position": {},
   "toc_section_display": true,
   "toc_window_display": false
  },
  "vscode": {
   "interpreter": {
    "hash": "484329849bb907480cd798e750759bc6f1d66c93f9e78e7055aa0a2c2de6b47b"
   }
  }
 },
 "nbformat": 4,
 "nbformat_minor": 5
}
