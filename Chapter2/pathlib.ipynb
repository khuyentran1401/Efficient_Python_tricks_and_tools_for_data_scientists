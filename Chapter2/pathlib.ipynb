{
 "cells": [
  {
   "cell_type": "markdown",
   "id": "6d8e0110",
   "metadata": {},
   "source": [
    "## pathlib"
   ]
  },
  {
   "cell_type": "markdown",
   "id": "4319e1ef",
   "metadata": {},
   "source": [
    "pathlib is a Python library that makes it easy to handle file in Python. "
   ]
  },
  {
   "cell_type": "markdown",
   "id": "ebf6ea9e",
   "metadata": {},
   "source": [
    "### Create a New Directory and File"
   ]
  },
  {
   "cell_type": "markdown",
   "id": "854e895d",
   "metadata": {},
   "source": [
    "If you want to create new directories and files, you can either use os or pathlib. However, pathlib's syntax is more straightforward and easier to understand than os's syntax. "
   ]
  },
  {
   "cell_type": "code",
   "execution_count": 26,
   "id": "2d1cdb6a",
   "metadata": {
    "ExecuteTime": {
     "end_time": "2022-03-10T15:36:21.599330Z",
     "start_time": "2022-03-10T15:36:21.588838Z"
    }
   },
   "outputs": [],
   "source": [
    "import os\n",
    "\n",
    "path = 'new'\n",
    "file = 'new_file.txt'\n",
    "\n",
    "# Create a new directory\n",
    "if not os.path.exists(path):\n",
    "    os.makedirs(path)\n",
    "\n",
    "# Create new file inside new directory\n",
    "with open(os.path.join(path, file), 'wb'):\n",
    "    pass"
   ]
  },
  {
   "cell_type": "code",
   "execution_count": 20,
   "id": "b2251937",
   "metadata": {
    "ExecuteTime": {
     "end_time": "2022-03-10T15:28:32.447187Z",
     "start_time": "2022-03-10T15:28:32.438004Z"
    }
   },
   "outputs": [],
   "source": [
    "from pathlib import Path\n",
    "\n",
    "# Create a new directory\n",
    "folder = Path('new')\n",
    "folder.mkdir(exist_ok=True)\n",
    "\n",
    "# Create new file inside new directory\n",
    "file = folder / 'new_file.txt'\n",
    "file.touch()"
   ]
  },
  {
   "cell_type": "code",
   "execution_count": 13,
   "id": "55983fda",
   "metadata": {
    "ExecuteTime": {
     "end_time": "2022-03-10T15:19:14.564426Z",
     "start_time": "2022-03-10T15:19:14.427062Z"
    }
   },
   "outputs": [
    {
     "name": "stdout",
     "output_type": "stream",
     "text": [
      "\u001b[01;34mnew\u001b[00m\r\n",
      "└── new_file.txt\r\n",
      "\r\n",
      "0 directories, 1 file\r\n"
     ]
    }
   ],
   "source": [
    "!tree new "
   ]
  },
  {
   "cell_type": "markdown",
   "id": "d09164f6",
   "metadata": {},
   "source": [
    "### Get Access to Files from Home Directory"
   ]
  },
  {
   "cell_type": "markdown",
   "id": "401c4c9a",
   "metadata": {},
   "source": [
    "If you want to get the path to folders/files from the home directory, use `Path.home()`"
   ]
  },
  {
   "cell_type": "code",
   "execution_count": 1,
   "id": "0bcf6444",
   "metadata": {},
   "outputs": [
    {
     "name": "stdout",
     "output_type": "stream",
     "text": [
      "/Users/khuyen/Documents\n",
      "/Users/khuyen/Pictures\n"
     ]
    }
   ],
   "source": [
    "from pathlib import Path\n",
    "\n",
    "path = Path.home()\n",
    "\n",
    "docs = path / 'Documents'\n",
    "pictures = path / 'Pictures'\n",
    "\n",
    "print(docs)\n",
    "print(pictures)"
   ]
  },
  {
   "cell_type": "markdown",
   "id": "2e9688c5",
   "metadata": {},
   "source": [
    "Now you can use pathlib's methods to manipulate the folders/files in the obtained path."
   ]
  },
  {
   "cell_type": "code",
   "execution_count": 6,
   "id": "1d3e1f81",
   "metadata": {},
   "outputs": [],
   "source": [
    "# Create a new file inside Documents\n",
    "file = docs / 'new_file.txt'\n",
    "file.touch()"
   ]
  },
  {
   "cell_type": "code",
   "execution_count": 16,
   "id": "2bf01ee2",
   "metadata": {},
   "outputs": [
    {
     "name": "stdout",
     "output_type": "stream",
     "text": [
      "├── new_file.txt\n"
     ]
    }
   ],
   "source": [
    "!tree /Users/khuyen/Documents | grep new_file.txt "
   ]
  }
 ],
 "metadata": {
  "kernelspec": {
   "display_name": "Python 3.8.9 ('venv': venv)",
   "language": "python",
   "name": "python3"
  },
  "language_info": {
   "codemirror_mode": {
    "name": "ipython",
    "version": 3
   },
   "file_extension": ".py",
   "mimetype": "text/x-python",
   "name": "python",
   "nbconvert_exporter": "python",
   "pygments_lexer": "ipython3",
   "version": "3.8.9"
  },
  "toc": {
   "base_numbering": 1,
   "nav_menu": {},
   "number_sections": true,
   "sideBar": true,
   "skip_h1_title": false,
   "title_cell": "Table of Contents",
   "title_sidebar": "Contents",
   "toc_cell": false,
   "toc_position": {},
   "toc_section_display": true,
   "toc_window_display": false
  },
  "vscode": {
   "interpreter": {
    "hash": "484329849bb907480cd798e750759bc6f1d66c93f9e78e7055aa0a2c2de6b47b"
   }
  }
 },
 "nbformat": 4,
 "nbformat_minor": 5
}
