{
 "cells": [
  {
   "cell_type": "markdown",
   "id": "7dcc4888",
   "metadata": {},
   "source": [
    "## Data Classes"
   ]
  },
  {
   "cell_type": "markdown",
   "id": "7927ba68",
   "metadata": {},
   "source": [
    "### Data Classes vs Normal Classes"
   ]
  },
  {
   "cell_type": "markdown",
   "id": "9daebbc6",
   "metadata": {},
   "source": [
    "If you want to use classes to store data, use the dataclass module. This module is available in Python 3.7+. "
   ]
  },
  {
   "cell_type": "markdown",
   "id": "a434057f",
   "metadata": {},
   "source": [
    "With dataclass, you can create a class with attributes, type hints, and a nice representation of the data in a few lines of code. To use dataclass, simply add the `@dataclass` decorator on top of a class."
   ]
  },
  {
   "cell_type": "code",
   "execution_count": 28,
   "id": "67d5350d",
   "metadata": {
    "ExecuteTime": {
     "end_time": "2022-02-17T15:34:13.318039Z",
     "start_time": "2022-02-17T15:34:13.307709Z"
    }
   },
   "outputs": [],
   "source": [
    "from dataclasses import dataclass\n",
    "\n",
    "\n",
    "@dataclass\n",
    "class DataClassDog:\n",
    "    color: str\n",
    "    age: int"
   ]
  },
  {
   "cell_type": "code",
   "execution_count": 29,
   "id": "a17e7b89",
   "metadata": {
    "ExecuteTime": {
     "end_time": "2022-02-17T15:34:24.566505Z",
     "start_time": "2022-02-17T15:34:24.556064Z"
    }
   },
   "outputs": [
    {
     "data": {
      "text/plain": [
       "DataClassDog(color='black', age=9)"
      ]
     },
     "execution_count": 29,
     "metadata": {},
     "output_type": "execute_result"
    }
   ],
   "source": [
    "DataClassDog(color=\"black\", age=9)"
   ]
  },
  {
   "cell_type": "markdown",
   "id": "f2d3c79c",
   "metadata": {},
   "source": [
    "Without dataclass, you need to use `__init__` to assign values to appropriate variables and use `__repr__` to create a nice presentation of the data, which can be very cumbersome. "
   ]
  },
  {
   "cell_type": "code",
   "execution_count": 46,
   "id": "891cc922",
   "metadata": {
    "ExecuteTime": {
     "end_time": "2022-02-17T15:50:18.348235Z",
     "start_time": "2022-02-17T15:50:18.338179Z"
    }
   },
   "outputs": [],
   "source": [
    "class Dog:\n",
    "    def __init__(self, color, age):\n",
    "        self.color = color\n",
    "        self.age = age\n",
    "\n",
    "    def __repr__(self):\n",
    "        return f\"Dog(color={self.color} age={self.age})\""
   ]
  },
  {
   "cell_type": "code",
   "execution_count": 47,
   "id": "eabce54d",
   "metadata": {
    "ExecuteTime": {
     "end_time": "2022-02-17T15:50:18.723902Z",
     "start_time": "2022-02-17T15:50:18.710139Z"
    }
   },
   "outputs": [
    {
     "data": {
      "text/plain": [
       "Dog(color=black age=9)"
      ]
     },
     "execution_count": 47,
     "metadata": {},
     "output_type": "execute_result"
    }
   ],
   "source": [
    "Dog(color=\"black\", age=9)"
   ]
  },
  {
   "cell_type": "markdown",
   "id": "edfeb8af",
   "metadata": {},
   "source": [
    "### frozen=True: Make Your Data Classes Read-Only"
   ]
  },
  {
   "cell_type": "markdown",
   "id": "ec963fd5",
   "metadata": {},
   "source": [
    "If you don't want anybody to adjust the attributes of a class, use `@dataclass(frozen=True)`."
   ]
  },
  {
   "cell_type": "code",
   "execution_count": 1,
   "id": "0bf3d54b",
   "metadata": {},
   "outputs": [],
   "source": [
    "from dataclasses import dataclass\n",
    "\n",
    "\n",
    "@dataclass(frozen=True)\n",
    "class DataClassDog:\n",
    "    color: str\n",
    "    age: int"
   ]
  },
  {
   "cell_type": "markdown",
   "id": "96eca141",
   "metadata": {},
   "source": [
    "Now changing the attribute `color` of  the `DataClassDog`'s instance will throw an error."
   ]
  },
  {
   "cell_type": "code",
   "execution_count": 2,
   "id": "47474735",
   "metadata": {},
   "outputs": [
    {
     "ename": "FrozenInstanceError",
     "evalue": "cannot assign to field 'color'",
     "output_type": "error",
     "traceback": [
      "\u001b[0;31m---------------------------------------------------------------------------\u001b[0m",
      "\u001b[0;31mFrozenInstanceError\u001b[0m                       Traceback (most recent call last)",
      "\u001b[0;32m<ipython-input-2-0d6f339835b8>\u001b[0m in \u001b[0;36m<module>\u001b[0;34m\u001b[0m\n\u001b[1;32m      1\u001b[0m \u001b[0mpepper\u001b[0m \u001b[0;34m=\u001b[0m \u001b[0mDataClassDog\u001b[0m\u001b[0;34m(\u001b[0m\u001b[0mcolor\u001b[0m\u001b[0;34m=\u001b[0m\u001b[0;34m\"black\"\u001b[0m\u001b[0;34m,\u001b[0m \u001b[0mage\u001b[0m\u001b[0;34m=\u001b[0m\u001b[0;36m9\u001b[0m\u001b[0;34m)\u001b[0m\u001b[0;34m\u001b[0m\u001b[0;34m\u001b[0m\u001b[0m\n\u001b[0;32m----> 2\u001b[0;31m \u001b[0mpepper\u001b[0m\u001b[0;34m.\u001b[0m\u001b[0mcolor\u001b[0m \u001b[0;34m=\u001b[0m \u001b[0;34m'golden'\u001b[0m\u001b[0;34m\u001b[0m\u001b[0;34m\u001b[0m\u001b[0m\n\u001b[0m",
      "\u001b[0;32m<string>\u001b[0m in \u001b[0;36m__setattr__\u001b[0;34m(self, name, value)\u001b[0m\n",
      "\u001b[0;31mFrozenInstanceError\u001b[0m: cannot assign to field 'color'"
     ]
    }
   ],
   "source": [
    "pepper = DataClassDog(color=\"black\", age=9)\n",
    "pepper.color = 'golden'"
   ]
  },
  {
   "cell_type": "markdown",
   "id": "7c8f3ba6",
   "metadata": {},
   "source": [
    "### Compare Between Two Data Classes"
   ]
  },
  {
   "cell_type": "markdown",
   "id": "0459aa94",
   "metadata": {},
   "source": [
    "Normally, you need to implement the `__eq__` method so that you can compare between two classes. "
   ]
  },
  {
   "cell_type": "code",
   "execution_count": 13,
   "id": "2f57fa1b",
   "metadata": {},
   "outputs": [
    {
     "data": {
      "text/plain": [
       "True"
      ]
     },
     "execution_count": 13,
     "metadata": {},
     "output_type": "execute_result"
    }
   ],
   "source": [
    "class Dog:\n",
    "    def __init__(self, type, age):\n",
    "        self.type = type\n",
    "        self.age = age\n",
    "    \n",
    "    def __eq__(self, other):\n",
    "        return (self.type == other.type \n",
    "        and self.age == other.age)\n",
    "\n",
    "pepper = Dog(type=\"Dachshund\", age=7)\n",
    "bim = Dog(type=\"Dachshund\", age=7)\n",
    "pepper == bim"
   ]
  },
  {
   "cell_type": "markdown",
   "id": "3529d9ac",
   "metadata": {},
   "source": [
    "dataclasses automatically implements the `__eq__` method for you. With dataclasses, you can compare between 2 classes by only specifying their attributes. "
   ]
  },
  {
   "cell_type": "code",
   "execution_count": 5,
   "id": "80791c92",
   "metadata": {},
   "outputs": [],
   "source": [
    "from dataclasses import dataclass\n",
    "\n",
    "@dataclass\n",
    "class DataClassDog:\n",
    "    type: str\n",
    "    age: int"
   ]
  },
  {
   "cell_type": "code",
   "execution_count": 10,
   "id": "a87a0cca",
   "metadata": {},
   "outputs": [
    {
     "data": {
      "text/plain": [
       "True"
      ]
     },
     "execution_count": 10,
     "metadata": {},
     "output_type": "execute_result"
    }
   ],
   "source": [
    "pepper = DataClassDog(type=\"Dachshund\", age=7)\n",
    "bim = DataClassDog(type=\"Dachshund\", age=7)\n",
    "pepper == bim "
   ]
  },
  {
   "cell_type": "markdown",
   "id": "ab820b01",
   "metadata": {},
   "source": [
    "### Post-init: Add Init Method to a Data Class "
   ]
  },
  {
   "cell_type": "markdown",
   "id": "96e26cb5",
   "metadata": {},
   "source": [
    "With a data class, you don't need an `__init__` method to assign values to its attributes. However, sometimes you might want to use an `___init__` method to initialize certain attributes. That is when data class's `__post_init__` comes in handy.   "
   ]
  },
  {
   "cell_type": "markdown",
   "id": "f5841617",
   "metadata": {},
   "source": [
    "In the code below, I use `__post_init__` to initialize the attribute `info` using the attributes `names` and `ages`."
   ]
  },
  {
   "cell_type": "code",
   "execution_count": 12,
   "id": "17a18fb7",
   "metadata": {},
   "outputs": [],
   "source": [
    "from dataclasses import dataclass\n",
    "from typing import List\n",
    "\n",
    "\n",
    "@dataclass\n",
    "class Dog:\n",
    "    names: str\n",
    "    age: int\n",
    "\n",
    "\n",
    "@dataclass\n",
    "class Dogs:\n",
    "    names: List[str]\n",
    "    ages: List[int]\n",
    "\n",
    "    def __post_init__(self):\n",
    "        self.info = [Dog(name, age) for name, age in zip(self.names, self.ages)]\n"
   ]
  },
  {
   "cell_type": "code",
   "execution_count": 13,
   "id": "add1c7d3",
   "metadata": {},
   "outputs": [
    {
     "data": {
      "text/plain": [
       "[Dog(names='Bim', age=5), Dog(names='Pepper', age=6)]"
      ]
     },
     "execution_count": 13,
     "metadata": {},
     "output_type": "execute_result"
    }
   ],
   "source": [
    "names = ['Bim', 'Pepper']\n",
    "ages = [5, 6]\n",
    "dogs = Dogs(names, ages)\n",
    "dogs.info "
   ]
  }
 ],
 "metadata": {
  "kernelspec": {
   "display_name": "Python 3.8.9 ('venv': venv)",
   "language": "python",
   "name": "python3"
  },
  "language_info": {
   "codemirror_mode": {
    "name": "ipython",
    "version": 3
   },
   "file_extension": ".py",
   "mimetype": "text/x-python",
   "name": "python",
   "nbconvert_exporter": "python",
   "pygments_lexer": "ipython3",
   "version": "3.8.9"
  },
  "toc": {
   "base_numbering": 1,
   "nav_menu": {},
   "number_sections": true,
   "sideBar": true,
   "skip_h1_title": false,
   "title_cell": "Table of Contents",
   "title_sidebar": "Contents",
   "toc_cell": false,
   "toc_position": {},
   "toc_section_display": true,
   "toc_window_display": false
  },
  "vscode": {
   "interpreter": {
    "hash": "484329849bb907480cd798e750759bc6f1d66c93f9e78e7055aa0a2c2de6b47b"
   }
  }
 },
 "nbformat": 4,
 "nbformat_minor": 5
}
