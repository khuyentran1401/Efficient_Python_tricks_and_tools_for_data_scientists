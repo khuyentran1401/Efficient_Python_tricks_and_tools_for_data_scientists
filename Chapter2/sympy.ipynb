{
 "cells": [
  {
   "cell_type": "markdown",
   "id": "8811912f",
   "metadata": {},
   "source": [
    "## SymPy\n",
    "\n",
    "![](https://miro.medium.com/max/563/1*DVd8MRxm1kYxwgucciLiXw.png)\n",
    "\n",
    "### Motivation\n",
    "\n",
    "Have you ever wished to solve a math equation in Python? Wouldn’t it be nice if we could solve an algebraic equation like below in one line of code"
   ]
  },
  {
   "cell_type": "markdown",
   "id": "33f80903",
   "metadata": {},
   "source": [
    "```python\n",
    "eq = (2*x+1)*3*x\n",
    "solve(eq, x)\n",
    "```\n",
    "Output:\n",
    "```bash\n",
    "[-1/2, 0]\n",
    "```"
   ]
  },
  {
   "cell_type": "markdown",
   "id": "4134ad8a",
   "metadata": {},
   "source": [
    "…or simply work with math symbols instead of boring Python code?\n",
    "\n",
    "![](https://miro.medium.com/max/618/1*SDz-F1q1k58FbO1naG64vg.png)\n",
    "\n",
    "That is when SymPy comes in handy.\n",
    "\n",
    "### What is SymPy?\n",
    "\n",
    "[SymPy](https://docs.sympy.org/latest/tutorial/index.html) is a Python library that allows you to compute mathematical objects symbolically.\n",
    "\n",
    "To install SymPy, type:"
   ]
  },
  {
   "cell_type": "code",
   "execution_count": null,
   "id": "8c79af54",
   "metadata": {},
   "outputs": [],
   "source": [
    "pip install sympy"
   ]
  },
  {
   "cell_type": "markdown",
   "id": "072ef5e3",
   "metadata": {},
   "source": [
    "Now let’s go over some of the amazing things that SymPy can do!\n",
    "\n",
    "Start with importing all methods provided by SymPy"
   ]
  },
  {
   "cell_type": "code",
   "execution_count": 3,
   "id": "1a81e21d",
   "metadata": {},
   "outputs": [],
   "source": [
    "from sympy import *"
   ]
  },
  {
   "cell_type": "markdown",
   "id": "a2425c30",
   "metadata": {
    "lines_to_next_cell": 0
   },
   "source": [
    "### Basic Operations\n",
    "\n",
    "Normally, when computing a square root, we get a decimal:"
   ]
  },
  {
   "cell_type": "code",
   "execution_count": 4,
   "id": "c578b4cd",
   "metadata": {},
   "outputs": [
    {
     "data": {
      "text/plain": [
       "4.242640687119285"
      ]
     },
     "execution_count": 4,
     "metadata": {},
     "output_type": "execute_result"
    }
   ],
   "source": [
    "18 ** (1 / 2)"
   ]
  },
  {
   "cell_type": "markdown",
   "id": "b49aa1aa",
   "metadata": {
    "lines_to_next_cell": 0
   },
   "source": [
    "But with SymPy, we can get a simplified version of the square root instead:"
   ]
  },
  {
   "cell_type": "code",
   "execution_count": 5,
   "id": "b18190d0",
   "metadata": {},
   "outputs": [
    {
     "data": {
      "text/latex": [
       "$\\displaystyle 3 \\sqrt{2}$"
      ],
      "text/plain": [
       "3*sqrt(2)"
      ]
     },
     "execution_count": 5,
     "metadata": {},
     "output_type": "execute_result"
    }
   ],
   "source": [
    "sqrt(18)"
   ]
  },
  {
   "cell_type": "markdown",
   "id": "2ed2dbfd",
   "metadata": {
    "lines_to_next_cell": 0
   },
   "source": [
    "It is because SymPy tries to represent mathematical objects exactly instead of approximately.\n",
    "\n",
    "Thus, we will get a fraction instead of a decimal when dividing 2 numbers using SymPy."
   ]
  },
  {
   "cell_type": "code",
   "execution_count": 6,
   "id": "cdd375ff",
   "metadata": {
    "lines_to_next_cell": 0
   },
   "outputs": [
    {
     "data": {
      "text/plain": [
       "1.6666666666666667"
      ]
     },
     "execution_count": 6,
     "metadata": {},
     "output_type": "execute_result"
    }
   ],
   "source": [
    "25 / 15"
   ]
  },
  {
   "cell_type": "code",
   "execution_count": 7,
   "id": "a86e29c4",
   "metadata": {},
   "outputs": [
    {
     "data": {
      "text/latex": [
       "$\\displaystyle \\frac{5}{3}$"
      ],
      "text/plain": [
       "5/3"
      ]
     },
     "execution_count": 7,
     "metadata": {},
     "output_type": "execute_result"
    }
   ],
   "source": [
    "frac = Rational(25, 15)\n",
    "frac"
   ]
  },
  {
   "cell_type": "markdown",
   "id": "37b223c4",
   "metadata": {
    "lines_to_next_cell": 0
   },
   "source": [
    "### Symbols\n",
    "\n",
    "The real power of SymPy is its ability to work with symbols. To create symbols, use the method `symbols()` :"
   ]
  },
  {
   "cell_type": "code",
   "execution_count": 8,
   "id": "48b80753",
   "metadata": {},
   "outputs": [
    {
     "data": {
      "text/latex": [
       "$\\displaystyle 3 x + y$"
      ],
      "text/plain": [
       "3*x + y"
      ]
     },
     "execution_count": 8,
     "metadata": {},
     "output_type": "execute_result"
    }
   ],
   "source": [
    "x, y = symbols(\"x y\")\n",
    "expr = 3 * x + y\n",
    "expr"
   ]
  },
  {
   "cell_type": "markdown",
   "id": "14d55e79",
   "metadata": {},
   "source": [
    "Cool! We can create an expression in terms of x and y. What happens if we add a number to this expression?"
   ]
  },
  {
   "cell_type": "code",
   "execution_count": 9,
   "id": "9ad10e6d",
   "metadata": {
    "lines_to_next_cell": 0
   },
   "outputs": [
    {
     "data": {
      "text/latex": [
       "$\\displaystyle 3 x + y + 2$"
      ],
      "text/plain": [
       "3*x + y + 2"
      ]
     },
     "execution_count": 9,
     "metadata": {},
     "output_type": "execute_result"
    }
   ],
   "source": [
    "expr + 2"
   ]
  },
  {
   "cell_type": "markdown",
   "id": "4f7f5784",
   "metadata": {},
   "source": [
    "Aha! + 2 is added to the expression and the expression remains unevaluated.\n",
    "\n",
    "Why would working with symbols be useful? Because we can now use all kinds of math tricks we learn in school such as expanding, factoring and simplifying an equation to make our life easier.\n",
    "\n",
    "### Equations\n",
    "\n",
    "#### Expand, Factor, and Simplify\n",
    "\n",
    "We know that the expansion of the expression on the left is equal to the expression on the right.\n",
    "\n",
    "![](https://miro.medium.com/max/193/1*WnZBw4FdJLMWBYPHKXAC3Q.png)\n",
    "\n",
    "Can this be done with SymPy? Yes! SymPy allows us to expand an equation using `expand` :"
   ]
  },
  {
   "cell_type": "code",
   "execution_count": 31,
   "id": "03014b78",
   "metadata": {},
   "outputs": [],
   "source": [
    "expr = x * (3 * x + y)"
   ]
  },
  {
   "cell_type": "code",
   "execution_count": 32,
   "id": "c79731af",
   "metadata": {
    "lines_to_next_cell": 0
   },
   "outputs": [
    {
     "data": {
      "text/latex": [
       "$\\displaystyle 3 x^{2} + x y$"
      ],
      "text/plain": [
       "3*x**2 + x*y"
      ]
     },
     "execution_count": 32,
     "metadata": {},
     "output_type": "execute_result"
    }
   ],
   "source": [
    "expansion = expand(expr)\n",
    "expansion"
   ]
  },
  {
   "cell_type": "markdown",
   "id": "f7511752",
   "metadata": {},
   "source": [
    "Cool! We can also factor our expression by using `factor` :"
   ]
  },
  {
   "cell_type": "code",
   "execution_count": 11,
   "id": "0f2d25ad",
   "metadata": {
    "lines_to_next_cell": 0
   },
   "outputs": [
    {
     "data": {
      "text/latex": [
       "$\\displaystyle x \\left(3 x + y\\right)$"
      ],
      "text/plain": [
       "x*(3*x + y)"
      ]
     },
     "execution_count": 11,
     "metadata": {},
     "output_type": "execute_result"
    }
   ],
   "source": [
    "factor(expansion)"
   ]
  },
  {
   "cell_type": "markdown",
   "id": "f05b95d7",
   "metadata": {},
   "source": [
    "Another cool thing we can do with SymPy is to simplify an equation using `simplify` :"
   ]
  },
  {
   "cell_type": "code",
   "execution_count": 12,
   "id": "d3535ea9",
   "metadata": {
    "lines_to_next_cell": 0
   },
   "outputs": [
    {
     "data": {
      "text/latex": [
       "$\\displaystyle \\frac{6 x^{2} + 3 x}{3 x}$"
      ],
      "text/plain": [
       "(6*x**2 + 3*x)/(3*x)"
      ]
     },
     "execution_count": 12,
     "metadata": {},
     "output_type": "execute_result"
    }
   ],
   "source": [
    "expr = (6 * x ** 2 + 3 * x) / (3 * x)\n",
    "expr"
   ]
  },
  {
   "cell_type": "markdown",
   "id": "9d66c57e",
   "metadata": {
    "lines_to_next_cell": 0
   },
   "source": [
    "Pretty nice, isn’t it?\n",
    "\n",
    "#### Solve an Equation\n",
    "\n",
    "One of the most common questions we see when dealing with mathematical symbols is to solve an equation. Luckily, this can also be done with SymPy.\n",
    "\n",
    "To solve an equation, use `solve` :"
   ]
  },
  {
   "cell_type": "code",
   "execution_count": 13,
   "id": "2b8660da",
   "metadata": {
    "lines_to_next_cell": 0
   },
   "outputs": [
    {
     "data": {
      "text/latex": [
       "$\\displaystyle x \\left(6 x + 3\\right)$"
      ],
      "text/plain": [
       "x*(6*x + 3)"
      ]
     },
     "execution_count": 13,
     "metadata": {},
     "output_type": "execute_result"
    }
   ],
   "source": [
    "eq = (2 * x + 1) * 3 * x\n",
    "eq"
   ]
  },
  {
   "cell_type": "code",
   "execution_count": 14,
   "id": "840d998d",
   "metadata": {},
   "outputs": [
    {
     "data": {
      "text/plain": [
       "[-1/2, 0]"
      ]
     },
     "execution_count": 14,
     "metadata": {},
     "output_type": "execute_result"
    }
   ],
   "source": [
    "solve(eq, x)"
   ]
  },
  {
   "cell_type": "markdown",
   "id": "82868cc6",
   "metadata": {},
   "source": [
    "#### Substitution\n",
    "\n",
    "If we substitute the equation below by 2, what do we get?\n",
    "\n",
    "$x(6x+3)$\n",
    "\n",
    "We can figure that out using `eq.subs(x, 2)` :"
   ]
  },
  {
   "cell_type": "code",
   "execution_count": 15,
   "id": "b17064bd",
   "metadata": {
    "lines_to_next_cell": 0
   },
   "outputs": [
    {
     "data": {
      "text/latex": [
       "$\\displaystyle 30$"
      ],
      "text/plain": [
       "30"
      ]
     },
     "execution_count": 15,
     "metadata": {},
     "output_type": "execute_result"
    }
   ],
   "source": [
    "eq.subs(x, 2)"
   ]
  },
  {
   "cell_type": "markdown",
   "id": "78f50d3a",
   "metadata": {},
   "source": [
    "We can also substitute x with another variable to get an expression like below:"
   ]
  },
  {
   "cell_type": "code",
   "execution_count": 17,
   "id": "5fc66be3",
   "metadata": {},
   "outputs": [
    {
     "data": {
      "text/latex": [
       "$\\displaystyle x \\left(6 x + 3\\right)$"
      ],
      "text/plain": [
       "x*(6*x + 3)"
      ]
     },
     "execution_count": 17,
     "metadata": {},
     "output_type": "execute_result"
    }
   ],
   "source": [
    "eq.subs(x ** 2, 2)"
   ]
  },
  {
   "cell_type": "markdown",
   "id": "a19b6816",
   "metadata": {
    "lines_to_next_cell": 0
   },
   "source": [
    "### Trigonometric\n",
    "\n",
    "Remember all the fun trigonometric identities we learn in high school?\n",
    "\n",
    "![](https://miro.medium.com/max/181/1*o9rdVwYFG6Us2uLgfZNClQ.png)\n",
    "\n",
    "Instead of looking up these identities, wouldn’t it be nice if we can use SymPy to figure this out for us?\n",
    "\n",
    "To simplify expressions using trigonometric identities, use `trigsimp()`"
   ]
  },
  {
   "cell_type": "code",
   "execution_count": 18,
   "id": "384a2ae5",
   "metadata": {
    "lines_to_next_cell": 0
   },
   "outputs": [
    {
     "data": {
      "text/latex": [
       "$\\displaystyle \\cos{\\left(x \\right)}$"
      ],
      "text/plain": [
       "cos(x)"
      ]
     },
     "execution_count": 18,
     "metadata": {},
     "output_type": "execute_result"
    }
   ],
   "source": [
    "trigsimp(1 / sec(x))"
   ]
  },
  {
   "cell_type": "code",
   "execution_count": 19,
   "id": "16c0874c",
   "metadata": {
    "lines_to_next_cell": 0
   },
   "outputs": [
    {
     "data": {
      "text/latex": [
       "$\\displaystyle \\tan{\\left(x \\right)}$"
      ],
      "text/plain": [
       "tan(x)"
      ]
     },
     "execution_count": 19,
     "metadata": {},
     "output_type": "execute_result"
    }
   ],
   "source": [
    "trigsimp(sin(x) / cos(x))"
   ]
  },
  {
   "cell_type": "code",
   "execution_count": 20,
   "id": "e904d4f6",
   "metadata": {
    "lines_to_next_cell": 0
   },
   "outputs": [
    {
     "data": {
      "text/latex": [
       "$\\displaystyle 1$"
      ],
      "text/plain": [
       "1"
      ]
     },
     "execution_count": 20,
     "metadata": {},
     "output_type": "execute_result"
    }
   ],
   "source": [
    "trigsimp(sin(x) ** 2 + cos(x) ** 2)"
   ]
  },
  {
   "cell_type": "code",
   "execution_count": 21,
   "id": "03e23751",
   "metadata": {},
   "outputs": [
    {
     "data": {
      "text/latex": [
       "$\\displaystyle \\frac{1}{\\sin^{2}{\\left(x \\right)}}$"
      ],
      "text/plain": [
       "sin(x)**(-2)"
      ]
     },
     "execution_count": 21,
     "metadata": {},
     "output_type": "execute_result"
    }
   ],
   "source": [
    "trigsimp(1 + cot(x) ** 2)"
   ]
  },
  {
   "cell_type": "markdown",
   "id": "26a9b306",
   "metadata": {},
   "source": [
    "### Derivatives, Integrals, and Limit\n",
    "\n",
    "With SymPy, you can also do calculus! What is the derivative of the expression below?"
   ]
  },
  {
   "cell_type": "code",
   "execution_count": 22,
   "id": "cc28dca4",
   "metadata": {
    "lines_to_next_cell": 0
   },
   "outputs": [
    {
     "data": {
      "text/latex": [
       "$\\displaystyle 2 x + \\sin^{2}{\\left(x \\right)}$"
      ],
      "text/plain": [
       "2*x + sin(x)**2"
      ]
     },
     "execution_count": 22,
     "metadata": {},
     "output_type": "execute_result"
    }
   ],
   "source": [
    "expr = sin(x) ** 2 + 2 * x\n",
    "expr"
   ]
  },
  {
   "cell_type": "markdown",
   "id": "94b74732",
   "metadata": {},
   "source": [
    "If you cannot figure it out, don’t worry. We can use SymPy to figure it out."
   ]
  },
  {
   "cell_type": "code",
   "execution_count": 23,
   "id": "767ff197",
   "metadata": {
    "lines_to_next_cell": 0
   },
   "outputs": [
    {
     "data": {
      "text/latex": [
       "$\\displaystyle 2 \\sin{\\left(x \\right)} \\cos{\\left(x \\right)} + 2$"
      ],
      "text/plain": [
       "2*sin(x)*cos(x) + 2"
      ]
     },
     "execution_count": 23,
     "metadata": {},
     "output_type": "execute_result"
    }
   ],
   "source": [
    "res = diff(expr)\n",
    "res"
   ]
  },
  {
   "cell_type": "markdown",
   "id": "b6d0bbfa",
   "metadata": {},
   "source": [
    "Now let’s try to get back to the original expression by taking the integral of the derivate."
   ]
  },
  {
   "cell_type": "code",
   "execution_count": 24,
   "id": "0072ce86",
   "metadata": {
    "lines_to_next_cell": 0
   },
   "outputs": [
    {
     "data": {
      "text/latex": [
       "$\\displaystyle 2 x + \\sin^{2}{\\left(x \\right)}$"
      ],
      "text/plain": [
       "2*x + sin(x)**2"
      ]
     },
     "execution_count": 24,
     "metadata": {},
     "output_type": "execute_result"
    }
   ],
   "source": [
    "integrate(res)"
   ]
  },
  {
   "cell_type": "markdown",
   "id": "69f12bd0",
   "metadata": {},
   "source": [
    "We can also take the limit as x approaches infinity.\n",
    "\n",
    "![](https://miro.medium.com/max/91/1*4OpAkBUoL8N5_ymFPHBivw.png)"
   ]
  },
  {
   "cell_type": "code",
   "execution_count": 25,
   "id": "9804ce4f",
   "metadata": {
    "lines_to_next_cell": 0
   },
   "outputs": [
    {
     "data": {
      "text/latex": [
       "$\\displaystyle 0$"
      ],
      "text/plain": [
       "0"
      ]
     },
     "execution_count": 25,
     "metadata": {},
     "output_type": "execute_result"
    }
   ],
   "source": [
    "limit(\n",
    "    1 / (x ** 2),\n",
    "    x,\n",
    "    oo,\n",
    ")"
   ]
  },
  {
   "cell_type": "markdown",
   "id": "65860dfe",
   "metadata": {},
   "source": [
    "or 2:"
   ]
  },
  {
   "cell_type": "code",
   "execution_count": 26,
   "id": "ecab2be4",
   "metadata": {
    "lines_to_next_cell": 0
   },
   "outputs": [
    {
     "data": {
      "text/latex": [
       "$\\displaystyle \\frac{1}{4}$"
      ],
      "text/plain": [
       "1/4"
      ]
     },
     "execution_count": 26,
     "metadata": {},
     "output_type": "execute_result"
    }
   ],
   "source": [
    "limit(\n",
    "    1 / (x ** 2),\n",
    "    x,\n",
    "    2,\n",
    ")"
   ]
  },
  {
   "cell_type": "markdown",
   "id": "34ce191a",
   "metadata": {
    "lines_to_next_cell": 0
   },
   "source": [
    "### Special Functions\n",
    "\n",
    "SymPy also provides special functions to:\n",
    "\n",
    "-   Find the factorial of a number"
   ]
  },
  {
   "cell_type": "code",
   "execution_count": 27,
   "id": "6a4ac95f",
   "metadata": {
    "lines_to_next_cell": 0
   },
   "outputs": [
    {
     "data": {
      "text/latex": [
       "$\\displaystyle x!$"
      ],
      "text/plain": [
       "factorial(x)"
      ]
     },
     "execution_count": 27,
     "metadata": {},
     "output_type": "execute_result"
    }
   ],
   "source": [
    "factorial(x)"
   ]
  },
  {
   "cell_type": "code",
   "execution_count": 28,
   "id": "9d9975a5",
   "metadata": {
    "lines_to_next_cell": 0
   },
   "outputs": [
    {
     "data": {
      "text/latex": [
       "$\\displaystyle 6$"
      ],
      "text/plain": [
       "6"
      ]
     },
     "execution_count": 28,
     "metadata": {},
     "output_type": "execute_result"
    }
   ],
   "source": [
    "factorial(3)"
   ]
  },
  {
   "cell_type": "markdown",
   "id": "32a729dc",
   "metadata": {},
   "source": [
    "-   Rewrite the expression in terms of another"
   ]
  },
  {
   "cell_type": "code",
   "execution_count": 29,
   "id": "b23ff7c6",
   "metadata": {
    "lines_to_next_cell": 0
   },
   "outputs": [
    {
     "data": {
      "text/latex": [
       "$\\displaystyle \\frac{\\cos{\\left(x - \\frac{\\pi}{2} \\right)}}{\\cos{\\left(x \\right)}}$"
      ],
      "text/plain": [
       "cos(x - pi/2)/cos(x)"
      ]
     },
     "execution_count": 29,
     "metadata": {},
     "output_type": "execute_result"
    }
   ],
   "source": [
    "tan(x).rewrite(cos)"
   ]
  },
  {
   "cell_type": "markdown",
   "id": "e99a369c",
   "metadata": {},
   "source": [
    "### Print Latex\n",
    "\n",
    "If you like the output and want to get the LaTex form of an expression, use `latex` :"
   ]
  },
  {
   "cell_type": "code",
   "execution_count": 30,
   "id": "1856ed1c",
   "metadata": {
    "lines_to_next_cell": 0
   },
   "outputs": [
    {
     "name": "stdout",
     "output_type": "stream",
     "text": [
      "2 x + \\sin^{2}{\\left(x \\right)}\n"
     ]
    }
   ],
   "source": [
    "print(latex(integrate(res)))"
   ]
  },
  {
   "cell_type": "markdown",
   "id": "048a3783",
   "metadata": {},
   "source": [
    "You could paste this LaTex form to your notebook’s markdown and get a nice mathematical expression like below!\n",
    "\n",
    "$2 x + \\sin^{2}{\\left(x \\right)}$"
   ]
  }
 ],
 "metadata": {
  "jupytext": {
   "cell_metadata_filter": "-all",
   "main_language": "python",
   "notebook_metadata_filter": "-all"
  },
  "kernelspec": {
   "display_name": "Data-science",
   "language": "python",
   "name": "data-science"
  },
  "language_info": {
   "codemirror_mode": {
    "name": "ipython",
    "version": 3
   },
   "file_extension": ".py",
   "mimetype": "text/x-python",
   "name": "python",
   "nbconvert_exporter": "python",
   "pygments_lexer": "ipython3",
   "version": "3.8.10"
  }
 },
 "nbformat": 4,
 "nbformat_minor": 5
}
