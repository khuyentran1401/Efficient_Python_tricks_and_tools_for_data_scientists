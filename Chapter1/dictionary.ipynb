{
 "cells": [
  {
   "cell_type": "markdown",
   "id": "95c266c1",
   "metadata": {},
   "source": [
    "## Dictionary"
   ]
  },
  {
   "cell_type": "markdown",
   "id": "fc20f490",
   "metadata": {},
   "source": [
    "![](../img/dictionary.png)"
   ]
  },
  {
   "cell_type": "markdown",
   "id": "73d2dd40",
   "metadata": {},
   "source": [
    "### Update: Update a Dictionary With Items From Another Dictionary"
   ]
  },
  {
   "cell_type": "markdown",
   "id": "65b36f96",
   "metadata": {},
   "source": [
    "If you want to update a dictionary with items from another dictionary or from an iterable of key/value pairs, use the `update` method."
   ]
  },
  {
   "cell_type": "code",
   "execution_count": 20,
   "id": "20f0ee93",
   "metadata": {
    "ExecuteTime": {
     "end_time": "2021-10-28T13:24:30.938584Z",
     "start_time": "2021-10-28T13:24:30.931389Z"
    }
   },
   "outputs": [],
   "source": [
    "birth_year = {\"Ben\": 1997}\n",
    "new_birth_year = {\"Michael\": 1993, 'Lauren': 1999}\n",
    "birth_year.update(new_birth_year)"
   ]
  },
  {
   "cell_type": "code",
   "execution_count": 21,
   "id": "b4198da1",
   "metadata": {
    "ExecuteTime": {
     "end_time": "2021-10-28T13:24:31.726424Z",
     "start_time": "2021-10-28T13:24:31.720888Z"
    }
   },
   "outputs": [],
   "source": [
    "birth_year.update(Josh=1990, Olivia=1991)"
   ]
  },
  {
   "cell_type": "code",
   "execution_count": 22,
   "id": "be1cfb6f",
   "metadata": {
    "ExecuteTime": {
     "end_time": "2021-10-28T13:24:32.425688Z",
     "start_time": "2021-10-28T13:24:32.422848Z"
    }
   },
   "outputs": [
    {
     "data": {
      "text/plain": [
       "{'Ben': 1997, 'Michael': 1993, 'Lauren': 1999, 'Josh': 1990, 'Olivia': 1991}"
      ]
     },
     "execution_count": 22,
     "metadata": {},
     "output_type": "execute_result"
    }
   ],
   "source": [
    "birth_year "
   ]
  },
  {
   "cell_type": "markdown",
   "id": "0a547324",
   "metadata": {},
   "source": [
    "### Key Parameter in Max(): Find the Key with the Largest Value"
   ]
  },
  {
   "cell_type": "markdown",
   "id": "e1d8987b",
   "metadata": {},
   "source": [
    "Apply max on a Python dictionary will give you the largest key, not the key with the largest value. If you want to find the key with the largest value, specify that using the `key` parameter in the `max` method."
   ]
  },
  {
   "cell_type": "code",
   "execution_count": 1,
   "id": "f945ab42",
   "metadata": {
    "ExecuteTime": {
     "end_time": "2021-09-12T15:20:27.105287Z",
     "start_time": "2021-09-12T15:20:27.069136Z"
    }
   },
   "outputs": [
    {
     "data": {
      "text/plain": [
       "'Oliver'"
      ]
     },
     "execution_count": 1,
     "metadata": {},
     "output_type": "execute_result"
    }
   ],
   "source": [
    "birth_year = {\"Ben\": 1997, \"Alex\": 2000, \"Oliver\": 1995}\n",
    "\n",
    "max(birth_year)"
   ]
  },
  {
   "cell_type": "code",
   "execution_count": 2,
   "id": "f34f50ab",
   "metadata": {
    "ExecuteTime": {
     "end_time": "2021-09-12T15:20:27.603741Z",
     "start_time": "2021-09-12T15:20:27.594347Z"
    },
    "scrolled": true
   },
   "outputs": [
    {
     "data": {
      "text/plain": [
       "'Alex'"
      ]
     },
     "execution_count": 2,
     "metadata": {},
     "output_type": "execute_result"
    }
   ],
   "source": [
    "max_val = max(birth_year, key=lambda k: birth_year[k])\n",
    "max_val"
   ]
  },
  {
   "cell_type": "markdown",
   "id": "5caf1b3f",
   "metadata": {},
   "source": [
    "### dict.get: Get the Default Value of a Dictionary if a Key Doesn't Exist"
   ]
  },
  {
   "cell_type": "markdown",
   "id": "c2dd1725",
   "metadata": {},
   "source": [
    "If you want to get the default value when a key doesn't exist in a dictionary, use `dict.get`. In the code below, since there is no key `meeting3`, the default value `online` is returned. "
   ]
  },
  {
   "cell_type": "code",
   "execution_count": 5,
   "id": "e066cd73",
   "metadata": {
    "ExecuteTime": {
     "end_time": "2021-09-30T12:49:56.062960Z",
     "start_time": "2021-09-30T12:49:56.056983Z"
    }
   },
   "outputs": [],
   "source": [
    "locations = {'meeting1': 'room1', 'meeting2': 'room2'}"
   ]
  },
  {
   "cell_type": "code",
   "execution_count": 6,
   "id": "d07fcf3e",
   "metadata": {
    "ExecuteTime": {
     "end_time": "2021-09-30T12:49:59.099210Z",
     "start_time": "2021-09-30T12:49:59.090362Z"
    },
    "scrolled": true
   },
   "outputs": [
    {
     "data": {
      "text/plain": [
       "'room1'"
      ]
     },
     "execution_count": 6,
     "metadata": {},
     "output_type": "execute_result"
    }
   ],
   "source": [
    "locations.get('meeting1', 'online')"
   ]
  },
  {
   "cell_type": "code",
   "execution_count": 3,
   "id": "6de353f4",
   "metadata": {
    "ExecuteTime": {
     "end_time": "2021-09-30T12:49:46.738598Z",
     "start_time": "2021-09-30T12:49:46.729582Z"
    }
   },
   "outputs": [
    {
     "data": {
      "text/plain": [
       "'online'"
      ]
     },
     "execution_count": 3,
     "metadata": {},
     "output_type": "execute_result"
    }
   ],
   "source": [
    "locations.get('meeting3', 'online')"
   ]
  },
  {
   "cell_type": "markdown",
   "id": "c500037a",
   "metadata": {},
   "source": [
    "### Double dict.get: Get Values in a Nested Dictionary with Missing Keys"
   ]
  },
  {
   "cell_type": "markdown",
   "id": "7838c213",
   "metadata": {
    "ExecuteTime": {
     "end_time": "2021-10-14T13:10:57.149250Z",
     "start_time": "2021-10-14T13:10:57.132853Z"
    }
   },
   "source": [
    "It can be challenging to get values in a nested dictionary with missing keys. "
   ]
  },
  {
   "cell_type": "code",
   "execution_count": 23,
   "id": "0d974df2",
   "metadata": {
    "ExecuteTime": {
     "end_time": "2021-10-14T13:19:58.125108Z",
     "start_time": "2021-10-14T13:19:58.098374Z"
    }
   },
   "outputs": [
    {
     "data": {
      "application/javascript": "\n            setTimeout(function() {\n                var nbb_cell_id = 23;\n                var nbb_unformatted_code = \"fruits = [\\n    {\\\"name\\\": \\\"apple\\\", \\\"attr\\\": {\\\"color\\\": \\\"red\\\", \\\"taste\\\": \\\"sweet\\\"}},\\n    {\\\"name\\\": \\\"orange\\\", \\\"attr\\\": {\\\"taste\\\": \\\"sour\\\"}},\\n    {\\\"name\\\": \\\"grape\\\", \\\"attr\\\": {\\\"color\\\": \\\"purple\\\"}},\\n    {\\\"name\\\": \\\"banana\\\"},\\n]\";\n                var nbb_formatted_code = \"fruits = [\\n    {\\\"name\\\": \\\"apple\\\", \\\"attr\\\": {\\\"color\\\": \\\"red\\\", \\\"taste\\\": \\\"sweet\\\"}},\\n    {\\\"name\\\": \\\"orange\\\", \\\"attr\\\": {\\\"taste\\\": \\\"sour\\\"}},\\n    {\\\"name\\\": \\\"grape\\\", \\\"attr\\\": {\\\"color\\\": \\\"purple\\\"}},\\n    {\\\"name\\\": \\\"banana\\\"},\\n]\";\n                var nbb_cells = Jupyter.notebook.get_cells();\n                for (var i = 0; i < nbb_cells.length; ++i) {\n                    if (nbb_cells[i].input_prompt_number == nbb_cell_id) {\n                        if (nbb_cells[i].get_text() == nbb_unformatted_code) {\n                             nbb_cells[i].set_text(nbb_formatted_code);\n                        }\n                        break;\n                    }\n                }\n            }, 500);\n            ",
      "text/plain": [
       "<IPython.core.display.Javascript object>"
      ]
     },
     "metadata": {},
     "output_type": "display_data"
    }
   ],
   "source": [
    "fruits = [\n",
    "    {\"name\": \"apple\", \"attr\": {\"color\": \"red\", \"taste\": \"sweet\"}},\n",
    "    {\"name\": \"orange\", \"attr\": {\"taste\": \"sour\"}},\n",
    "    {\"name\": \"grape\", \"attr\": {\"color\": \"purple\"}},\n",
    "    {\"name\": \"banana\"},\n",
    "]"
   ]
  },
  {
   "cell_type": "markdown",
   "id": "276f40da",
   "metadata": {},
   "source": [
    "You can use an if-else statement but it is long and hard to read. "
   ]
  },
  {
   "cell_type": "code",
   "execution_count": 29,
   "id": "abe69573",
   "metadata": {
    "ExecuteTime": {
     "end_time": "2021-10-14T14:32:09.841469Z",
     "start_time": "2021-10-14T14:32:09.813291Z"
    }
   },
   "outputs": [
    {
     "data": {
      "text/plain": [
       "['red', 'unknown', 'purple', 'unknown']"
      ]
     },
     "execution_count": 29,
     "metadata": {},
     "output_type": "execute_result"
    },
    {
     "data": {
      "application/javascript": "\n            setTimeout(function() {\n                var nbb_cell_id = 29;\n                var nbb_unformatted_code = \"colors = [\\n    fruit[\\\"attr\\\"][\\\"color\\\"]\\n    if \\\"attr\\\" in fruit and \\\"color\\\" in fruit[\\\"attr\\\"]\\n    else \\\"unknown\\\"\\n    for fruit in fruits\\n]\\ncolors\";\n                var nbb_formatted_code = \"colors = [\\n    fruit[\\\"attr\\\"][\\\"color\\\"]\\n    if \\\"attr\\\" in fruit and \\\"color\\\" in fruit[\\\"attr\\\"]\\n    else \\\"unknown\\\"\\n    for fruit in fruits\\n]\\ncolors\";\n                var nbb_cells = Jupyter.notebook.get_cells();\n                for (var i = 0; i < nbb_cells.length; ++i) {\n                    if (nbb_cells[i].input_prompt_number == nbb_cell_id) {\n                        if (nbb_cells[i].get_text() == nbb_unformatted_code) {\n                             nbb_cells[i].set_text(nbb_formatted_code);\n                        }\n                        break;\n                    }\n                }\n            }, 500);\n            ",
      "text/plain": [
       "<IPython.core.display.Javascript object>"
      ]
     },
     "metadata": {},
     "output_type": "display_data"
    }
   ],
   "source": [
    "colors = [\n",
    "    fruit[\"attr\"][\"color\"]\n",
    "    if \"attr\" in fruit and \"color\" in fruit[\"attr\"]\n",
    "    else \"unknown\"\n",
    "    for fruit in fruits\n",
    "]\n",
    "colors"
   ]
  },
  {
   "cell_type": "markdown",
   "id": "578c4f72",
   "metadata": {},
   "source": [
    "A better way is to use the `get` method twice like below. The first `get` method will return an empty dictionary if the key `attr` doesn't exist. The second `get` method will return `unknown` if the key `color` doesn't exist"
   ]
  },
  {
   "cell_type": "code",
   "execution_count": 30,
   "id": "64299cbd",
   "metadata": {
    "ExecuteTime": {
     "end_time": "2021-10-14T14:32:15.211058Z",
     "start_time": "2021-10-14T14:32:15.187018Z"
    }
   },
   "outputs": [
    {
     "data": {
      "text/plain": [
       "['red', 'unknown', 'purple', 'unknown']"
      ]
     },
     "execution_count": 30,
     "metadata": {},
     "output_type": "execute_result"
    },
    {
     "data": {
      "application/javascript": "\n            setTimeout(function() {\n                var nbb_cell_id = 30;\n                var nbb_unformatted_code = \"colors = [fruit.get(\\\"attr\\\", {}).get(\\\"color\\\", \\\"unknown\\\") for fruit in fruits]\\ncolors\";\n                var nbb_formatted_code = \"colors = [fruit.get(\\\"attr\\\", {}).get(\\\"color\\\", \\\"unknown\\\") for fruit in fruits]\\ncolors\";\n                var nbb_cells = Jupyter.notebook.get_cells();\n                for (var i = 0; i < nbb_cells.length; ++i) {\n                    if (nbb_cells[i].input_prompt_number == nbb_cell_id) {\n                        if (nbb_cells[i].get_text() == nbb_unformatted_code) {\n                             nbb_cells[i].set_text(nbb_formatted_code);\n                        }\n                        break;\n                    }\n                }\n            }, 500);\n            ",
      "text/plain": [
       "<IPython.core.display.Javascript object>"
      ]
     },
     "metadata": {},
     "output_type": "display_data"
    }
   ],
   "source": [
    "colors = [fruit.get(\"attr\", {}).get(\"color\", \"unknown\") for fruit in fruits]\n",
    "colors"
   ]
  },
  {
   "cell_type": "markdown",
   "id": "bd259fe9",
   "metadata": {},
   "source": [
    "### Pop an Inexistent Element From a Dictionary"
   ]
  },
  {
   "cell_type": "markdown",
   "id": "32057074",
   "metadata": {},
   "source": [
    "`dict.pop` allows you to remove and return an item with the matching key from a dictionary. If a key doesn't exist, you will get a `KeyError`. "
   ]
  },
  {
   "cell_type": "code",
   "execution_count": 3,
   "id": "fcfb1968",
   "metadata": {},
   "outputs": [
    {
     "ename": "KeyError",
     "evalue": "'grape'",
     "output_type": "error",
     "traceback": [
      "\u001b[0;31m---------------------------------------------------------------------------\u001b[0m",
      "\u001b[0;31mKeyError\u001b[0m                                  Traceback (most recent call last)",
      "\u001b[1;32m/Users/khuyen/book/book/Chapter1/dictionary.ipynb Cell 24\u001b[0m in \u001b[0;36m<cell line: 2>\u001b[0;34m()\u001b[0m\n\u001b[1;32m      <a href='vscode-notebook-cell:/Users/khuyen/book/book/Chapter1/dictionary.ipynb#Y105sZmlsZQ%3D%3D?line=0'>1</a>\u001b[0m price \u001b[39m=\u001b[39m {\u001b[39m'\u001b[39m\u001b[39mapple\u001b[39m\u001b[39m'\u001b[39m: \u001b[39m1\u001b[39m, \u001b[39m'\u001b[39m\u001b[39morange\u001b[39m\u001b[39m'\u001b[39m: \u001b[39m2\u001b[39m}\n\u001b[0;32m----> <a href='vscode-notebook-cell:/Users/khuyen/book/book/Chapter1/dictionary.ipynb#Y105sZmlsZQ%3D%3D?line=1'>2</a>\u001b[0m grape \u001b[39m=\u001b[39m price\u001b[39m.\u001b[39;49mpop(\u001b[39m'\u001b[39;49m\u001b[39mgrape\u001b[39;49m\u001b[39m'\u001b[39;49m)\n",
      "\u001b[0;31mKeyError\u001b[0m: 'grape'"
     ]
    }
   ],
   "source": [
    "price = {'apple': 1, 'orange': 2}\n",
    "grape = price.pop('grape')"
   ]
  },
  {
   "cell_type": "markdown",
   "id": "26748842",
   "metadata": {},
   "source": [
    "To avoid this error, add a default value to the second argument of `dict.pop`."
   ]
  },
  {
   "cell_type": "code",
   "execution_count": 4,
   "id": "b17bd9d4",
   "metadata": {},
   "outputs": [
    {
     "name": "stdout",
     "output_type": "stream",
     "text": [
      "The price of grape is not available.\n"
     ]
    }
   ],
   "source": [
    "grape_price = price.pop('grape', \"not available\")\n",
    "\n",
    "print(f\"The price of grape is {grape_price}.\")"
   ]
  },
  {
   "cell_type": "markdown",
   "id": "b06efb04",
   "metadata": {},
   "source": [
    "### Dictionary as an Alternative to If-Else"
   ]
  },
  {
   "cell_type": "markdown",
   "id": "6080c99d",
   "metadata": {},
   "source": [
    "It is common to use the else statement to cover the cases that the if statement doesn't cover. For example, in the code below, we use the else statement when the item is not on the price list. "
   ]
  },
  {
   "cell_type": "code",
   "execution_count": 8,
   "id": "aca2ac11",
   "metadata": {},
   "outputs": [
    {
     "data": {
      "text/plain": [
       "'The price for fishis 8'"
      ]
     },
     "execution_count": 8,
     "metadata": {},
     "output_type": "execute_result"
    }
   ],
   "source": [
    "price_list = {\n",
    "    \"fish\": 8,\n",
    "    \"beef\": 7,\n",
    "    \"broccoli\": 3,\n",
    "}\n",
    "\n",
    "def find_price(item):\n",
    "    if item in price_list:\n",
    "        return ('The price for {}' \n",
    "        'is {}'.format(item, price_list[item]))\n",
    "    else:\n",
    "        return 'The price for {} is not available'.format(item)\n",
    "\n",
    "find_price('fish') \n"
   ]
  },
  {
   "cell_type": "code",
   "execution_count": 4,
   "id": "2d42730b",
   "metadata": {},
   "outputs": [
    {
     "data": {
      "text/plain": [
       "'The price for cauliflower is not available'"
      ]
     },
     "execution_count": 4,
     "metadata": {},
     "output_type": "execute_result"
    }
   ],
   "source": [
    "find_price('cauliflower')"
   ]
  },
  {
   "cell_type": "markdown",
   "id": "e7fc1151",
   "metadata": {},
   "source": [
    "This method works, but we query the dictionary twice and use two statements just to return almost the same thing.  Is there a way that if the item is not in the list, a default value will be returned? We can utilize the `get` method we learn previously to do exactly that. "
   ]
  },
  {
   "cell_type": "code",
   "execution_count": 5,
   "id": "592ea3ad",
   "metadata": {},
   "outputs": [],
   "source": [
    "def find_price(item):\n",
    "    price_status = price_list.get(item, \"not available\")\n",
    "    return \"The price for {} is {}\".format(item, price_status)"
   ]
  },
  {
   "cell_type": "code",
   "execution_count": 7,
   "id": "15f8f013",
   "metadata": {},
   "outputs": [
    {
     "data": {
      "text/plain": [
       "'The price for fish is 8'"
      ]
     },
     "execution_count": 7,
     "metadata": {},
     "output_type": "execute_result"
    }
   ],
   "source": [
    "find_price('fish') "
   ]
  },
  {
   "cell_type": "code",
   "execution_count": 6,
   "id": "eb1c4ca8",
   "metadata": {},
   "outputs": [
    {
     "data": {
      "text/plain": [
       "'The price for cauliflower is not available'"
      ]
     },
     "execution_count": 6,
     "metadata": {},
     "output_type": "execute_result"
    }
   ],
   "source": [
    "find_price('cauliflower')"
   ]
  },
  {
   "cell_type": "markdown",
   "id": "364cf365",
   "metadata": {},
   "source": [
    "The code does exactly what we want and looks much cleaner!"
   ]
  },
  {
   "cell_type": "markdown",
   "id": "80c62cf2",
   "metadata": {},
   "source": [
    "### dict.fromkeys: Get a Dictionary From a List and a Value"
   ]
  },
  {
   "cell_type": "markdown",
   "id": "f212be67",
   "metadata": {},
   "source": [
    "If you want to get a dictionary from a list and a value, try `dict.fromkeys.` "
   ]
  },
  {
   "cell_type": "code",
   "execution_count": 16,
   "id": "2041e23e",
   "metadata": {
    "ExecuteTime": {
     "end_time": "2021-09-21T13:10:03.386464Z",
     "start_time": "2021-09-21T13:10:03.379333Z"
    }
   },
   "outputs": [],
   "source": [
    "furnitures = ['bed', 'table', 'chair']\n",
    "food = ['apple', 'pepper', 'onion']\n",
    "loc1 = 'IKEA'\n",
    "loc2 = 'ALDI'"
   ]
  },
  {
   "cell_type": "markdown",
   "id": "4cd4c6bb",
   "metadata": {},
   "source": [
    "For example, we can use `dict.fromkeys` to create a dictionary of furnitures' locations:"
   ]
  },
  {
   "cell_type": "code",
   "execution_count": 20,
   "id": "daee57cc",
   "metadata": {
    "ExecuteTime": {
     "end_time": "2021-09-21T13:15:25.825963Z",
     "start_time": "2021-09-21T13:15:25.818634Z"
    },
    "scrolled": true
   },
   "outputs": [
    {
     "data": {
      "text/plain": [
       "{'bed': 'IKEA', 'table': 'IKEA', 'chair': 'IKEA'}"
      ]
     },
     "execution_count": 20,
     "metadata": {},
     "output_type": "execute_result"
    }
   ],
   "source": [
    "furniture_loc = dict.fromkeys(furnitures, loc1)\n",
    "furniture_loc"
   ]
  },
  {
   "cell_type": "markdown",
   "id": "24f9cb97",
   "metadata": {},
   "source": [
    "... or create a dictionary of food's locations:"
   ]
  },
  {
   "cell_type": "code",
   "execution_count": 18,
   "id": "be4ef185",
   "metadata": {
    "ExecuteTime": {
     "end_time": "2021-09-21T13:10:03.874224Z",
     "start_time": "2021-09-21T13:10:03.864185Z"
    }
   },
   "outputs": [
    {
     "data": {
      "text/plain": [
       "{'apple': 'ALDI', 'pepper': 'ALDI', 'onion': 'ALDI'}"
      ]
     },
     "execution_count": 18,
     "metadata": {},
     "output_type": "execute_result"
    }
   ],
   "source": [
    "food_loc = dict.fromkeys(food, loc2)\n",
    "food_loc"
   ]
  },
  {
   "cell_type": "markdown",
   "id": "8ced474e",
   "metadata": {},
   "source": [
    "These 2 results can be combined into a location dictionary like below:"
   ]
  },
  {
   "cell_type": "code",
   "execution_count": 21,
   "id": "4e19d2e0",
   "metadata": {
    "ExecuteTime": {
     "end_time": "2021-09-21T13:15:31.942695Z",
     "start_time": "2021-09-21T13:15:31.934286Z"
    }
   },
   "outputs": [
    {
     "data": {
      "text/plain": [
       "{'apple': 'ALDI',\n",
       " 'pepper': 'ALDI',\n",
       " 'onion': 'ALDI',\n",
       " 'bed': 'IKEA',\n",
       " 'table': 'IKEA',\n",
       " 'chair': 'IKEA'}"
      ]
     },
     "execution_count": 21,
     "metadata": {},
     "output_type": "execute_result"
    }
   ],
   "source": [
    "locations = {**food_loc, **furniture_loc}\n",
    "locations"
   ]
  },
  {
   "cell_type": "markdown",
   "id": "57dbc8b5",
   "metadata": {},
   "source": [
    "### Reverse a Dictionary with Dictionary Comprehension "
   ]
  },
  {
   "cell_type": "markdown",
   "id": "2ccf3d97",
   "metadata": {},
   "source": [
    "If you want to reverse a dictionary (turn keys into values and vice versa), use the combination of `items` and dictionary comprehension. "
   ]
  },
  {
   "cell_type": "code",
   "execution_count": 7,
   "id": "00641aa1",
   "metadata": {},
   "outputs": [
    {
     "data": {
      "text/plain": [
       "dict_items([('apple', 'red'), ('pepper', 'green'), ('onion', 'yellow')])"
      ]
     },
     "execution_count": 7,
     "metadata": {},
     "output_type": "execute_result"
    }
   ],
   "source": [
    "colors = {\"apple\": \"red\", \"pepper\": \"green\", \"onion\": \"yellow\"}\n",
    "\n",
    "# Get a list of key and value pairs\n",
    "colors.items()"
   ]
  },
  {
   "cell_type": "code",
   "execution_count": 8,
   "id": "a0f006e7",
   "metadata": {},
   "outputs": [
    {
     "data": {
      "text/plain": [
       "{'red': 'apple', 'green': 'pepper', 'yellow': 'onion'}"
      ]
     },
     "execution_count": 8,
     "metadata": {},
     "output_type": "execute_result"
    }
   ],
   "source": [
    "# Switch keys and values by looping the list of key-value pairs\n",
    "{v: k for k, v in colors.items()}"
   ]
  },
  {
   "cell_type": "markdown",
   "id": "6e66a3a4",
   "metadata": {},
   "source": [
    "### Merge Two Dictionaries Using the Union Operator in Python 3.9"
   ]
  },
  {
   "cell_type": "markdown",
   "id": "6388d5f5",
   "metadata": {},
   "source": [
    "Before Python 3.9, there are two common ways to merge two dictionaries. The first way is to use `update`. This approach works but the original dictionary will be changed.  "
   ]
  },
  {
   "cell_type": "code",
   "execution_count": 1,
   "id": "d6e8a2c9",
   "metadata": {},
   "outputs": [
    {
     "data": {
      "text/plain": [
       "{'Ben': 1997, 'Michael': 1993, 'Lauren': 1999}"
      ]
     },
     "execution_count": 1,
     "metadata": {},
     "output_type": "execute_result"
    }
   ],
   "source": [
    "birth_year = {\"Ben\": 1997}\n",
    "new_birth_year = {\"Michael\": 1993, 'Lauren': 1999}\n",
    "\n",
    "birth_year.update(new_birth_year)\n",
    "birth_year"
   ]
  },
  {
   "cell_type": "markdown",
   "id": "15f2dc9c",
   "metadata": {},
   "source": [
    "The second approach is to use `**`, but this approach looks a little bit cumbersome. "
   ]
  },
  {
   "cell_type": "code",
   "execution_count": 2,
   "id": "663e52c2",
   "metadata": {},
   "outputs": [
    {
     "data": {
      "text/plain": [
       "{'Ben': 1997, 'Michael': 1993, 'Lauren': 1999}"
      ]
     },
     "execution_count": 2,
     "metadata": {},
     "output_type": "execute_result"
    }
   ],
   "source": [
    "birth_year = {\"Ben\": 1997}\n",
    "new_birth_year = {\"Michael\": 1993, 'Lauren': 1999}\n",
    "{**birth_year, **new_birth_year}"
   ]
  },
  {
   "cell_type": "markdown",
   "id": "91e3c444",
   "metadata": {},
   "source": [
    "In Python 3.9 and above, you can use the operator `|` to merge two dictionaries"
   ]
  },
  {
   "cell_type": "code",
   "execution_count": 3,
   "id": "6e48c837",
   "metadata": {},
   "outputs": [
    {
     "data": {
      "text/plain": [
       "{'Ben': 1997, 'Michael': 1993, 'Lauren': 1999}"
      ]
     },
     "execution_count": 3,
     "metadata": {},
     "output_type": "execute_result"
    }
   ],
   "source": [
    "birth_year | new_birth_year"
   ]
  },
  {
   "cell_type": "markdown",
   "id": "1e76a3dc",
   "metadata": {},
   "source": [
    "To update a dictionary in place, use `|=`"
   ]
  },
  {
   "cell_type": "code",
   "execution_count": 4,
   "id": "de5f3e4e",
   "metadata": {},
   "outputs": [
    {
     "data": {
      "text/plain": [
       "{'Ben': 1997, 'Michael': 1993, 'Lauren': 1999}"
      ]
     },
     "execution_count": 4,
     "metadata": {},
     "output_type": "execute_result"
    }
   ],
   "source": [
    "birth_year |= new_birth_year\n",
    "birth_year"
   ]
  },
  {
   "attachments": {},
   "cell_type": "markdown",
   "id": "ae872e1b",
   "metadata": {},
   "source": [
    "### Iterable as a Key of a Dictionary"
   ]
  },
  {
   "attachments": {},
   "cell_type": "markdown",
   "id": "6cb401d8",
   "metadata": {},
   "source": [
    "Python dictionaries only accept hashable data types as a key in a dictionary. Using a list as a key will give a `TypeError` because it is not hashable. "
   ]
  },
  {
   "cell_type": "code",
   "execution_count": 1,
   "id": "fe64bef6",
   "metadata": {},
   "outputs": [
    {
     "ename": "TypeError",
     "evalue": "unhashable type: 'list'",
     "output_type": "error",
     "traceback": [
      "\u001b[0;31m---------------------------------------------------------------------------\u001b[0m",
      "\u001b[0;31mTypeError\u001b[0m                                 Traceback (most recent call last)",
      "Cell \u001b[0;32mIn [1], line 1\u001b[0m\n\u001b[0;32m----> 1\u001b[0m price \u001b[39m=\u001b[39m {[\u001b[39m'\u001b[39m\u001b[39mapple\u001b[39m\u001b[39m'\u001b[39m, \u001b[39m'\u001b[39m\u001b[39morange\u001b[39m\u001b[39m'\u001b[39m]: \u001b[39m2\u001b[39m, \u001b[39m'\u001b[39m\u001b[39mbanana\u001b[39m\u001b[39m'\u001b[39m: \u001b[39m1\u001b[39m}\n",
      "\u001b[0;31mTypeError\u001b[0m: unhashable type: 'list'"
     ]
    }
   ],
   "source": [
    "price = {['apple', 'orange']: 2, 'banana': 1}"
   ]
  },
  {
   "attachments": {},
   "cell_type": "markdown",
   "id": "385283f7",
   "metadata": {},
   "source": [
    "If you want to use an iterable as a key of the dictionary, use a tuple instead. This works because tuples are immutable."
   ]
  },
  {
   "cell_type": "code",
   "execution_count": 2,
   "id": "c69d824d",
   "metadata": {},
   "outputs": [],
   "source": [
    "price = {('apple', 'orange'): 2, 'banana': 1}"
   ]
  }
 ],
 "metadata": {
  "hide_input": false,
  "kernelspec": {
   "display_name": "Python 3 (ipykernel)",
   "language": "python",
   "name": "python3"
  },
  "language_info": {
   "codemirror_mode": {
    "name": "ipython",
    "version": 3
   },
   "file_extension": ".py",
   "mimetype": "text/x-python",
   "name": "python",
   "nbconvert_exporter": "python",
   "pygments_lexer": "ipython3",
   "version": "3.10.8 (main, Oct 13 2022, 09:48:40) [Clang 14.0.0 (clang-1400.0.29.102)]"
  },
  "toc": {
   "base_numbering": 1,
   "nav_menu": {},
   "number_sections": true,
   "sideBar": true,
   "skip_h1_title": false,
   "title_cell": "Table of Contents",
   "title_sidebar": "Contents",
   "toc_cell": false,
   "toc_position": {},
   "toc_section_display": true,
   "toc_window_display": false
  },
  "vscode": {
   "interpreter": {
    "hash": "b0fa6594d8f4cbf19f97940f81e996739fb7646882a419484c72d19e05852a7e"
   }
  }
 },
 "nbformat": 4,
 "nbformat_minor": 5
}
