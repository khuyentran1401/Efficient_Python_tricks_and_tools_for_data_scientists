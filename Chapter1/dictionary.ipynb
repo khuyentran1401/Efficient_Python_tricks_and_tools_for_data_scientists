{
 "cells": [
  {
   "cell_type": "markdown",
   "id": "95c266c1",
   "metadata": {},
   "source": [
    "## Dictionary"
   ]
  },
  {
   "cell_type": "markdown",
   "id": "fc20f490",
   "metadata": {},
   "source": [
    "![](../img/dictionary.png)"
   ]
  },
  {
   "cell_type": "markdown",
   "id": "73d2dd40",
   "metadata": {},
   "source": [
    "### Update a Dictionary With Items From Another Dictionary"
   ]
  },
  {
   "cell_type": "markdown",
   "id": "65b36f96",
   "metadata": {},
   "source": [
    "To update a dictionary with items from another dictionary, use the `update` method."
   ]
  },
  {
   "cell_type": "code",
   "execution_count": 20,
   "id": "20f0ee93",
   "metadata": {
    "ExecuteTime": {
     "end_time": "2021-10-28T13:24:30.938584Z",
     "start_time": "2021-10-28T13:24:30.931389Z"
    }
   },
   "outputs": [],
   "source": [
    "birth_year = {\"Ben\": 1997}\n",
    "new_birth_year = {\"Michael\": 1993, 'Lauren': 1999}\n",
    "birth_year.update(new_birth_year)"
   ]
  },
  {
   "cell_type": "code",
   "execution_count": 21,
   "id": "b4198da1",
   "metadata": {
    "ExecuteTime": {
     "end_time": "2021-10-28T13:24:31.726424Z",
     "start_time": "2021-10-28T13:24:31.720888Z"
    }
   },
   "outputs": [],
   "source": [
    "birth_year.update(Josh=1990, Olivia=1991)"
   ]
  },
  {
   "cell_type": "code",
   "execution_count": 22,
   "id": "be1cfb6f",
   "metadata": {
    "ExecuteTime": {
     "end_time": "2021-10-28T13:24:32.425688Z",
     "start_time": "2021-10-28T13:24:32.422848Z"
    }
   },
   "outputs": [
    {
     "data": {
      "text/plain": [
       "{'Ben': 1997, 'Michael': 1993, 'Lauren': 1999, 'Josh': 1990, 'Olivia': 1991}"
      ]
     },
     "execution_count": 22,
     "metadata": {},
     "output_type": "execute_result"
    }
   ],
   "source": [
    "birth_year "
   ]
  },
  {
   "cell_type": "markdown",
   "id": "0a547324",
   "metadata": {},
   "source": [
    "### Key Parameter in Max(): Find the Key with the Largest Value"
   ]
  },
  {
   "cell_type": "markdown",
   "id": "e1d8987b",
   "metadata": {},
   "source": [
    "Applying the `max` method on a Python dictionary will return the max key."
   ]
  },
  {
   "cell_type": "code",
   "execution_count": 1,
   "id": "f945ab42",
   "metadata": {
    "ExecuteTime": {
     "end_time": "2021-09-12T15:20:27.105287Z",
     "start_time": "2021-09-12T15:20:27.069136Z"
    }
   },
   "outputs": [
    {
     "data": {
      "text/plain": [
       "'Oliver'"
      ]
     },
     "execution_count": 1,
     "metadata": {},
     "output_type": "execute_result"
    }
   ],
   "source": [
    "birth_year = {\"Ben\": 1997, \"Alex\": 2000, \"Oliver\": 1995}\n",
    "\n",
    "max(birth_year)"
   ]
  },
  {
   "cell_type": "markdown",
   "id": "e0eb8e1e",
   "metadata": {},
   "source": [
    "To find the key with the max value instead, add `key=dictionary.get` to the `max` method."
   ]
  },
  {
   "cell_type": "code",
   "execution_count": 2,
   "id": "f34f50ab",
   "metadata": {
    "ExecuteTime": {
     "end_time": "2021-09-12T15:20:27.603741Z",
     "start_time": "2021-09-12T15:20:27.594347Z"
    },
    "scrolled": true
   },
   "outputs": [
    {
     "data": {
      "text/plain": [
       "'Alex'"
      ]
     },
     "execution_count": 2,
     "metadata": {},
     "output_type": "execute_result"
    }
   ],
   "source": [
    "max_val = max(birth_year, key=birth_year.get)\n",
    "max_val"
   ]
  },
  {
   "cell_type": "markdown",
   "id": "5caf1b3f",
   "metadata": {},
   "source": [
    "### dict.get: Get the Default Value of a Dictionary if a Key Doesn't Exist"
   ]
  },
  {
   "cell_type": "markdown",
   "id": "c2dd1725",
   "metadata": {},
   "source": [
    "If you want to get the default value when a key doesn't exist in a dictionary, use `dict.get`. In the code below, since there is no key `meeting3`, the default value `online` is returned. "
   ]
  },
  {
   "cell_type": "code",
   "execution_count": 5,
   "id": "e066cd73",
   "metadata": {
    "ExecuteTime": {
     "end_time": "2021-09-30T12:49:56.062960Z",
     "start_time": "2021-09-30T12:49:56.056983Z"
    }
   },
   "outputs": [],
   "source": [
    "locations = {'meeting1': 'room1', 'meeting2': 'room2'}"
   ]
  },
  {
   "cell_type": "code",
   "execution_count": 6,
   "id": "d07fcf3e",
   "metadata": {
    "ExecuteTime": {
     "end_time": "2021-09-30T12:49:59.099210Z",
     "start_time": "2021-09-30T12:49:59.090362Z"
    },
    "scrolled": true
   },
   "outputs": [
    {
     "data": {
      "text/plain": [
       "'room1'"
      ]
     },
     "execution_count": 6,
     "metadata": {},
     "output_type": "execute_result"
    }
   ],
   "source": [
    "locations.get('meeting1', 'online')"
   ]
  },
  {
   "cell_type": "code",
   "execution_count": 3,
   "id": "6de353f4",
   "metadata": {
    "ExecuteTime": {
     "end_time": "2021-09-30T12:49:46.738598Z",
     "start_time": "2021-09-30T12:49:46.729582Z"
    }
   },
   "outputs": [
    {
     "data": {
      "text/plain": [
       "'online'"
      ]
     },
     "execution_count": 3,
     "metadata": {},
     "output_type": "execute_result"
    }
   ],
   "source": [
    "locations.get('meeting3', 'online')"
   ]
  },
  {
   "cell_type": "markdown",
   "id": "c500037a",
   "metadata": {},
   "source": [
    "### Double dict.get: Get Values in a Nested Dictionary with Missing Keys"
   ]
  },
  {
   "cell_type": "markdown",
   "id": "7838c213",
   "metadata": {
    "ExecuteTime": {
     "end_time": "2021-10-14T13:10:57.149250Z",
     "start_time": "2021-10-14T13:10:57.132853Z"
    }
   },
   "source": [
    "Assume you have a dictionary of fruits with missing keys, and you want to extract the colors from it."
   ]
  },
  {
   "cell_type": "code",
   "execution_count": 3,
   "id": "0d974df2",
   "metadata": {
    "ExecuteTime": {
     "end_time": "2021-10-14T13:19:58.125108Z",
     "start_time": "2021-10-14T13:19:58.098374Z"
    }
   },
   "outputs": [],
   "source": [
    "fruits = [\n",
    "    {\"name\": \"apple\", \"attr\": {\"color\": \"red\", \"taste\": \"sweet\"}},\n",
    "    {\"name\": \"orange\", \"attr\": {\"taste\": \"sour\"}},\n",
    "    {\"name\": \"grape\", \"attr\": {\"color\": \"purple\"}},\n",
    "    {\"name\": \"banana\"},\n",
    "]"
   ]
  },
  {
   "cell_type": "markdown",
   "id": "276f40da",
   "metadata": {},
   "source": [
    "Using an if-else statement to handle missing keys can make the code lengthy and less readable. "
   ]
  },
  {
   "cell_type": "code",
   "execution_count": 4,
   "id": "abe69573",
   "metadata": {
    "ExecuteTime": {
     "end_time": "2021-10-14T14:32:09.841469Z",
     "start_time": "2021-10-14T14:32:09.813291Z"
    }
   },
   "outputs": [
    {
     "data": {
      "text/plain": [
       "['red', 'unknown', 'purple', 'unknown']"
      ]
     },
     "execution_count": 4,
     "metadata": {},
     "output_type": "execute_result"
    }
   ],
   "source": [
    "colors = [\n",
    "    fruit[\"attr\"][\"color\"]\n",
    "    if \"attr\" in fruit and \"color\" in fruit[\"attr\"]\n",
    "    else \"unknown\"\n",
    "    for fruit in fruits\n",
    "]\n",
    "colors"
   ]
  },
  {
   "cell_type": "markdown",
   "id": "578c4f72",
   "metadata": {},
   "source": [
    "A better alternative is to use the `get` method twice. "
   ]
  },
  {
   "cell_type": "code",
   "execution_count": 5,
   "id": "64299cbd",
   "metadata": {
    "ExecuteTime": {
     "end_time": "2021-10-14T14:32:15.211058Z",
     "start_time": "2021-10-14T14:32:15.187018Z"
    }
   },
   "outputs": [
    {
     "data": {
      "text/plain": [
       "['red', 'unknown', 'purple', 'unknown']"
      ]
     },
     "execution_count": 5,
     "metadata": {},
     "output_type": "execute_result"
    }
   ],
   "source": [
    "colors = [fruit.get(\"attr\", {}).get(\"color\", \"unknown\") for fruit in fruits]\n",
    "colors"
   ]
  },
  {
   "cell_type": "markdown",
   "id": "093971e8",
   "metadata": {},
   "source": [
    "In the code above:\n",
    "- The first `get` method will return an empty dictionary if the \"attr\" key is missing\n",
    "- The second `get` method will return `unknown` if either the \"attr\" key or the \"color\" key is missing."
   ]
  },
  {
   "cell_type": "markdown",
   "id": "80c62cf2",
   "metadata": {},
   "source": [
    "### dict.fromkeys: Get a Dictionary From a List and a Value"
   ]
  },
  {
   "cell_type": "markdown",
   "id": "f212be67",
   "metadata": {},
   "source": [
    "To get a dictionary from a list and a value, use `dict.fromkeys.` "
   ]
  },
  {
   "cell_type": "code",
   "execution_count": 20,
   "id": "daee57cc",
   "metadata": {
    "ExecuteTime": {
     "end_time": "2021-09-21T13:15:25.825963Z",
     "start_time": "2021-09-21T13:15:25.818634Z"
    },
    "scrolled": true
   },
   "outputs": [
    {
     "data": {
      "text/plain": [
       "{'bed': 'IKEA', 'table': 'IKEA', 'chair': 'IKEA'}"
      ]
     },
     "execution_count": 20,
     "metadata": {},
     "output_type": "execute_result"
    }
   ],
   "source": [
    "furnitures = ['bed', 'table', 'chair']\n",
    "loc1 = 'IKEA'\n",
    "\n",
    "furniture_loc = dict.fromkeys(furnitures, loc1)\n",
    "furniture_loc"
   ]
  },
  {
   "cell_type": "markdown",
   "id": "57dbc8b5",
   "metadata": {},
   "source": [
    "### Reverse a Dictionary with Dictionary Comprehension "
   ]
  },
  {
   "cell_type": "markdown",
   "id": "2ccf3d97",
   "metadata": {},
   "source": [
    "If you want to reverse a dictionary (turn keys into values and vice versa), use the combination of `items` and dictionary comprehension. "
   ]
  },
  {
   "cell_type": "code",
   "execution_count": 7,
   "id": "00641aa1",
   "metadata": {},
   "outputs": [
    {
     "data": {
      "text/plain": [
       "dict_items([('apple', 'red'), ('pepper', 'green'), ('onion', 'yellow')])"
      ]
     },
     "execution_count": 7,
     "metadata": {},
     "output_type": "execute_result"
    }
   ],
   "source": [
    "colors = {\"apple\": \"red\", \"pepper\": \"green\", \"onion\": \"yellow\"}\n",
    "\n",
    "# Get a list of key and value pairs\n",
    "colors.items()"
   ]
  },
  {
   "cell_type": "code",
   "execution_count": 8,
   "id": "a0f006e7",
   "metadata": {},
   "outputs": [
    {
     "data": {
      "text/plain": [
       "{'red': 'apple', 'green': 'pepper', 'yellow': 'onion'}"
      ]
     },
     "execution_count": 8,
     "metadata": {},
     "output_type": "execute_result"
    }
   ],
   "source": [
    "# Switch keys and values by looping the list of key-value pairs\n",
    "{v: k for k, v in colors.items()}"
   ]
  },
  {
   "cell_type": "markdown",
   "id": "6e66a3a4",
   "metadata": {},
   "source": [
    "### Merge Two Dictionaries Using the Union Operator in Python 3.9"
   ]
  },
  {
   "cell_type": "markdown",
   "id": "6388d5f5",
   "metadata": {},
   "source": [
    "Before Python 3.9, there are two common ways to merge two dictionaries. The first way is to use the `update` method, but this approach modifies the original dictionary, which can lead to unexpected behavior. "
   ]
  },
  {
   "cell_type": "code",
   "execution_count": 1,
   "id": "d6e8a2c9",
   "metadata": {},
   "outputs": [
    {
     "data": {
      "text/plain": [
       "{'Ben': 1997, 'Michael': 1993, 'Lauren': 1999}"
      ]
     },
     "execution_count": 1,
     "metadata": {},
     "output_type": "execute_result"
    }
   ],
   "source": [
    "birth_year = {\"Ben\": 1997}\n",
    "new_birth_year = {\"Michael\": 1993, 'Lauren': 1999}\n",
    "\n",
    "birth_year.update(new_birth_year)\n",
    "birth_year"
   ]
  },
  {
   "cell_type": "markdown",
   "id": "15f2dc9c",
   "metadata": {},
   "source": [
    "The second approach is to use `**`, but this approach makes the code less readable."
   ]
  },
  {
   "cell_type": "code",
   "execution_count": 2,
   "id": "663e52c2",
   "metadata": {},
   "outputs": [
    {
     "data": {
      "text/plain": [
       "{'Ben': 1997, 'Michael': 1993, 'Lauren': 1999}"
      ]
     },
     "execution_count": 2,
     "metadata": {},
     "output_type": "execute_result"
    }
   ],
   "source": [
    "birth_year = {\"Ben\": 1997}\n",
    "new_birth_year = {\"Michael\": 1993, 'Lauren': 1999}\n",
    "{**birth_year, **new_birth_year}"
   ]
  },
  {
   "cell_type": "markdown",
   "id": "91e3c444",
   "metadata": {},
   "source": [
    "In Python 3.9 and above, you can use the `|` operator to merge two dictionaries."
   ]
  },
  {
   "cell_type": "code",
   "execution_count": 3,
   "id": "6e48c837",
   "metadata": {},
   "outputs": [
    {
     "data": {
      "text/plain": [
       "{'Ben': 1997, 'Michael': 1993, 'Lauren': 1999}"
      ]
     },
     "execution_count": 3,
     "metadata": {},
     "output_type": "execute_result"
    }
   ],
   "source": [
    "birth_year | new_birth_year"
   ]
  },
  {
   "cell_type": "markdown",
   "id": "1e76a3dc",
   "metadata": {},
   "source": [
    "To update a dictionary in place, use the `|=` operator."
   ]
  },
  {
   "cell_type": "code",
   "execution_count": 4,
   "id": "de5f3e4e",
   "metadata": {},
   "outputs": [
    {
     "data": {
      "text/plain": [
       "{'Ben': 1997, 'Michael': 1993, 'Lauren': 1999}"
      ]
     },
     "execution_count": 4,
     "metadata": {},
     "output_type": "execute_result"
    }
   ],
   "source": [
    "birth_year |= new_birth_year\n",
    "birth_year"
   ]
  },
  {
   "cell_type": "markdown",
   "id": "ae872e1b",
   "metadata": {},
   "source": [
    "### Iterable as a Key of a Dictionary"
   ]
  },
  {
   "cell_type": "markdown",
   "id": "6cb401d8",
   "metadata": {},
   "source": [
    "Python dictionaries only accept hashable data types as a key in a dictionary. Using a list as a key will give a `TypeError` because it is not hashable. "
   ]
  },
  {
   "cell_type": "code",
   "execution_count": 1,
   "id": "fe64bef6",
   "metadata": {},
   "outputs": [
    {
     "ename": "TypeError",
     "evalue": "unhashable type: 'list'",
     "output_type": "error",
     "traceback": [
      "\u001b[0;31m---------------------------------------------------------------------------\u001b[0m",
      "\u001b[0;31mTypeError\u001b[0m                                 Traceback (most recent call last)",
      "Cell \u001b[0;32mIn [1], line 1\u001b[0m\n\u001b[0;32m----> 1\u001b[0m price \u001b[39m=\u001b[39m {[\u001b[39m'\u001b[39m\u001b[39mapple\u001b[39m\u001b[39m'\u001b[39m, \u001b[39m'\u001b[39m\u001b[39morange\u001b[39m\u001b[39m'\u001b[39m]: \u001b[39m2\u001b[39m, \u001b[39m'\u001b[39m\u001b[39mbanana\u001b[39m\u001b[39m'\u001b[39m: \u001b[39m1\u001b[39m}\n",
      "\u001b[0;31mTypeError\u001b[0m: unhashable type: 'list'"
     ]
    }
   ],
   "source": [
    "price = {['apple', 'orange']: 2, 'banana': 1}"
   ]
  },
  {
   "cell_type": "markdown",
   "id": "385283f7",
   "metadata": {},
   "source": [
    "If you want to use an iterable as a key of the dictionary, use a tuple instead. This works because tuples are immutable."
   ]
  },
  {
   "cell_type": "code",
   "execution_count": 2,
   "id": "c69d824d",
   "metadata": {},
   "outputs": [],
   "source": [
    "price = {('apple', 'orange'): 2, 'banana': 1}"
   ]
  }
 ],
 "metadata": {
  "hide_input": false,
  "kernelspec": {
   "display_name": "Python 3 (ipykernel)",
   "language": "python",
   "name": "python3"
  },
  "language_info": {
   "codemirror_mode": {
    "name": "ipython",
    "version": 3
   },
   "file_extension": ".py",
   "mimetype": "text/x-python",
   "name": "python",
   "nbconvert_exporter": "python",
   "pygments_lexer": "ipython3",
   "version": "3.9.6"
  },
  "toc": {
   "base_numbering": 1,
   "nav_menu": {},
   "number_sections": true,
   "sideBar": true,
   "skip_h1_title": false,
   "title_cell": "Table of Contents",
   "title_sidebar": "Contents",
   "toc_cell": false,
   "toc_position": {},
   "toc_section_display": true,
   "toc_window_display": false
  },
  "vscode": {
   "interpreter": {
    "hash": "b0fa6594d8f4cbf19f97940f81e996739fb7646882a419484c72d19e05852a7e"
   }
  }
 },
 "nbformat": 4,
 "nbformat_minor": 5
}
