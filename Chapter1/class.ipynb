{
 "cells": [
  {
   "cell_type": "markdown",
   "id": "1fccc8a5",
   "metadata": {},
   "source": [
    "## Classes"
   ]
  },
  {
   "cell_type": "markdown",
   "id": "45c8847f",
   "metadata": {},
   "source": [
    "### Abstract Classes: Declare Methods without Implementation"
   ]
  },
  {
   "cell_type": "markdown",
   "id": "58649bd2",
   "metadata": {},
   "source": [
    "Sometimes you might want different classes to use the same attributes and methods. But the implementation of those methods can be slightly different in each class.\n",
    "\n",
    "A good way to implement this is to use abstract classes. An abstract class contains one or more abstract methods.\n",
    "\n",
    "An abstract method is a method that is declared but contains no implementation. The abstract method requires subclasses to provide implementations."
   ]
  },
  {
   "cell_type": "code",
   "execution_count": 1,
   "id": "3d560ac4",
   "metadata": {
    "ExecuteTime": {
     "end_time": "2021-08-30T00:53:57.751754Z",
     "start_time": "2021-08-30T00:53:57.725292Z"
    }
   },
   "outputs": [
    {
     "name": "stdout",
     "output_type": "stream",
     "text": [
      "Pepper says: Woof\n",
      "Bella says: Meows\n"
     ]
    }
   ],
   "source": [
    "from abc import ABC, abstractmethod \n",
    "\n",
    "class Animal(ABC):\n",
    "\n",
    "    def __init__(self, name: str):\n",
    "        self.name = name \n",
    "        super().__init__()\n",
    "\n",
    "    @abstractmethod \n",
    "    def make_sound(self):\n",
    "        pass \n",
    "\n",
    "class Dog(Animal):\n",
    "    def make_sound(self):\n",
    "        print(f'{self.name} says: Woof')\n",
    "\n",
    "class Cat(Animal):\n",
    "    def make_sound(self):\n",
    "        print(f'{self.name} says: Meows')\n",
    "\n",
    "Dog('Pepper').make_sound()\n",
    "Cat('Bella').make_sound()"
   ]
  },
  {
   "cell_type": "markdown",
   "id": "f2426fc4",
   "metadata": {},
   "source": [
    "### classmethod: What is it and When to Use it\n"
   ]
  },
  {
   "cell_type": "markdown",
   "id": "0fd4cc9e",
   "metadata": {},
   "source": [
    "When working with a Python class, if you want to create a method that returns that class with new attributes, use `classmethod`.\n",
    "\n",
    "Classmethod doesn’t depend on the creation of a class instance. In the code below, I use `classmethod` to instantiate a new object whose attribute is a list of even numbers."
   ]
  },
  {
   "cell_type": "code",
   "execution_count": 2,
   "id": "53c1614d",
   "metadata": {
    "ExecuteTime": {
     "end_time": "2021-08-30T00:54:55.629438Z",
     "start_time": "2021-08-30T00:54:55.618862Z"
    }
   },
   "outputs": [
    {
     "name": "stdout",
     "output_type": "stream",
     "text": [
      "Result: [1, 2, 3, 4, 5, 6, 7]\n"
     ]
    }
   ],
   "source": [
    "class Solver:\n",
    "    def __init__(self, nums: list):\n",
    "        self.nums = nums\n",
    "    \n",
    "    @classmethod\n",
    "    def get_even(cls, nums: list):\n",
    "        return cls([num for num in nums if num % 2 == 0])\n",
    "    \n",
    "    def print_output(self):\n",
    "        print(\"Result:\", self.nums)\n",
    "\n",
    "# Not using class method       \n",
    "nums = [1, 2, 3, 4, 5, 6, 7]\n",
    "solver = Solver(nums).print_output()"
   ]
  },
  {
   "cell_type": "code",
   "execution_count": 3,
   "id": "0afa6c77",
   "metadata": {
    "ExecuteTime": {
     "end_time": "2021-08-30T00:55:16.233030Z",
     "start_time": "2021-08-30T00:55:16.226939Z"
    }
   },
   "outputs": [
    {
     "name": "stdout",
     "output_type": "stream",
     "text": [
      "Result: [2, 4, 6]\n"
     ]
    }
   ],
   "source": [
    "solver2 = Solver.get_even(nums)\n",
    "solver2.print_output()"
   ]
  },
  {
   "cell_type": "markdown",
   "id": "6abd916d",
   "metadata": {},
   "source": [
    "### getattr: a Better Way to Get the Attribute of a Class"
   ]
  },
  {
   "cell_type": "markdown",
   "id": "5ab19f8e",
   "metadata": {},
   "source": [
    "If you want to get a default value when calling an attribute that is not in a class, use `getattr()` method.\n",
    "\n",
    "The `getattr(class, attribute_name)` method simply gets the value of an attribute of a class. However, if the attribute is not found in a class, it returns the default value provided to the function."
   ]
  },
  {
   "cell_type": "code",
   "execution_count": 8,
   "id": "a8a0aee1",
   "metadata": {
    "ExecuteTime": {
     "end_time": "2021-08-30T00:59:12.972426Z",
     "start_time": "2021-08-30T00:59:12.942780Z"
    }
   },
   "outputs": [
    {
     "name": "stdout",
     "output_type": "stream",
     "text": [
      "The color of apple is red\n"
     ]
    },
    {
     "data": {
      "application/javascript": [
       "\n",
       "            setTimeout(function() {\n",
       "                var nbb_cell_id = 8;\n",
       "                var nbb_unformatted_code = \"\\nclass Food:\\n    def __init__(self, name: str, color: str):\\n        self.name = name \\n        self.color = color \\n\\napple = Food('apple', 'red')\\n\\nprint(\\\"The color of apple is\\\", getattr(apple, 'color', 'yellow'))\";\n",
       "                var nbb_formatted_code = \"class Food:\\n    def __init__(self, name: str, color: str):\\n        self.name = name\\n        self.color = color\\n\\n\\napple = Food(\\\"apple\\\", \\\"red\\\")\\n\\nprint(\\\"The color of apple is\\\", getattr(apple, \\\"color\\\", \\\"yellow\\\"))\";\n",
       "                var nbb_cells = Jupyter.notebook.get_cells();\n",
       "                for (var i = 0; i < nbb_cells.length; ++i) {\n",
       "                    if (nbb_cells[i].input_prompt_number == nbb_cell_id) {\n",
       "                        if (nbb_cells[i].get_text() == nbb_unformatted_code) {\n",
       "                             nbb_cells[i].set_text(nbb_formatted_code);\n",
       "                        }\n",
       "                        break;\n",
       "                    }\n",
       "                }\n",
       "            }, 500);\n",
       "            "
      ],
      "text/plain": [
       "<IPython.core.display.Javascript object>"
      ]
     },
     "metadata": {},
     "output_type": "display_data"
    }
   ],
   "source": [
    "class Food:\n",
    "    def __init__(self, name: str, color: str):\n",
    "        self.name = name\n",
    "        self.color = color\n",
    "\n",
    "\n",
    "apple = Food(\"apple\", \"red\")\n",
    "\n",
    "print(\"The color of apple is\", getattr(apple, \"color\", \"yellow\"))"
   ]
  },
  {
   "cell_type": "code",
   "execution_count": 9,
   "id": "82d0b0d2",
   "metadata": {
    "ExecuteTime": {
     "end_time": "2021-08-30T00:59:13.606580Z",
     "start_time": "2021-08-30T00:59:13.591580Z"
    }
   },
   "outputs": [
    {
     "name": "stdout",
     "output_type": "stream",
     "text": [
      "The flavor of apple is sweet\n"
     ]
    },
    {
     "data": {
      "application/javascript": [
       "\n",
       "            setTimeout(function() {\n",
       "                var nbb_cell_id = 9;\n",
       "                var nbb_unformatted_code = \"print(\\\"The flavor of apple is\\\", getattr(apple, 'flavor', 'sweet'))\";\n",
       "                var nbb_formatted_code = \"print(\\\"The flavor of apple is\\\", getattr(apple, \\\"flavor\\\", \\\"sweet\\\"))\";\n",
       "                var nbb_cells = Jupyter.notebook.get_cells();\n",
       "                for (var i = 0; i < nbb_cells.length; ++i) {\n",
       "                    if (nbb_cells[i].input_prompt_number == nbb_cell_id) {\n",
       "                        if (nbb_cells[i].get_text() == nbb_unformatted_code) {\n",
       "                             nbb_cells[i].set_text(nbb_formatted_code);\n",
       "                        }\n",
       "                        break;\n",
       "                    }\n",
       "                }\n",
       "            }, 500);\n",
       "            "
      ],
      "text/plain": [
       "<IPython.core.display.Javascript object>"
      ]
     },
     "metadata": {},
     "output_type": "display_data"
    }
   ],
   "source": [
    "print(\"The flavor of apple is\", getattr(apple, \"flavor\", \"sweet\"))"
   ]
  },
  {
   "cell_type": "code",
   "execution_count": 10,
   "id": "8efa56b6",
   "metadata": {
    "ExecuteTime": {
     "end_time": "2021-08-30T00:59:14.290269Z",
     "start_time": "2021-08-30T00:59:14.258917Z"
    }
   },
   "outputs": [
    {
     "ename": "AttributeError",
     "evalue": "'Food' object has no attribute 'sweet'",
     "output_type": "error",
     "traceback": [
      "\u001b[0;31m---------------------------------------------------------------------------\u001b[0m",
      "\u001b[0;31mAttributeError\u001b[0m                            Traceback (most recent call last)",
      "\u001b[0;32m/tmp/ipykernel_337430/3178150741.py\u001b[0m in \u001b[0;36m<module>\u001b[0;34m\u001b[0m\n\u001b[0;32m----> 1\u001b[0;31m \u001b[0mprint\u001b[0m\u001b[0;34m(\u001b[0m\u001b[0;34m\"The flavor of apple is\"\u001b[0m\u001b[0;34m,\u001b[0m \u001b[0mapple\u001b[0m\u001b[0;34m.\u001b[0m\u001b[0msweet\u001b[0m\u001b[0;34m)\u001b[0m\u001b[0;34m\u001b[0m\u001b[0;34m\u001b[0m\u001b[0m\n\u001b[0m",
      "\u001b[0;31mAttributeError\u001b[0m: 'Food' object has no attribute 'sweet'"
     ]
    },
    {
     "data": {
      "application/javascript": [
       "\n",
       "            setTimeout(function() {\n",
       "                var nbb_cell_id = 10;\n",
       "                var nbb_unformatted_code = \"print(\\\"The flavor of apple is\\\", apple.sweet)\";\n",
       "                var nbb_formatted_code = \"print(\\\"The flavor of apple is\\\", apple.sweet)\";\n",
       "                var nbb_cells = Jupyter.notebook.get_cells();\n",
       "                for (var i = 0; i < nbb_cells.length; ++i) {\n",
       "                    if (nbb_cells[i].input_prompt_number == nbb_cell_id) {\n",
       "                        if (nbb_cells[i].get_text() == nbb_unformatted_code) {\n",
       "                             nbb_cells[i].set_text(nbb_formatted_code);\n",
       "                        }\n",
       "                        break;\n",
       "                    }\n",
       "                }\n",
       "            }, 500);\n",
       "            "
      ],
      "text/plain": [
       "<IPython.core.display.Javascript object>"
      ]
     },
     "metadata": {},
     "output_type": "display_data"
    }
   ],
   "source": [
    "print(\"The flavor of apple is\", apple.sweet)"
   ]
  },
  {
   "cell_type": "markdown",
   "id": "4cb1dbb8",
   "metadata": {},
   "source": [
    "### `__call__`: Call your Class Instance like a Function"
   ]
  },
  {
   "cell_type": "markdown",
   "id": "8df94fed",
   "metadata": {},
   "source": [
    "If you want to call your class instance like a function, add `__call__` method to your class."
   ]
  },
  {
   "cell_type": "code",
   "execution_count": 11,
   "id": "0f79c0b1",
   "metadata": {
    "ExecuteTime": {
     "end_time": "2021-08-30T00:59:18.557329Z",
     "start_time": "2021-08-30T00:59:18.532123Z"
    }
   },
   "outputs": [
    {
     "name": "stdout",
     "output_type": "stream",
     "text": [
      "Instance is created\n",
      "Instance is called\n"
     ]
    },
    {
     "data": {
      "application/javascript": [
       "\n",
       "            setTimeout(function() {\n",
       "                var nbb_cell_id = 11;\n",
       "                var nbb_unformatted_code = \"class DataLoader:\\n\\n\\tdef __init__(self, data_dir: str):\\n\\t\\tself.data_dir = data_dir\\n\\t\\tprint(\\\"Instance is created\\\")\\n\\n\\tdef __call__(self):\\n\\t\\tprint(\\\"Instance is called\\\")\\n\\ndata_loader = DataLoader('my_data_dir')\\n# Instance is created\\n\\ndata_loader()\\n# Instance is called\";\n",
       "                var nbb_formatted_code = \"class DataLoader:\\n    def __init__(self, data_dir: str):\\n        self.data_dir = data_dir\\n        print(\\\"Instance is created\\\")\\n\\n    def __call__(self):\\n        print(\\\"Instance is called\\\")\\n\\n\\ndata_loader = DataLoader(\\\"my_data_dir\\\")\\n# Instance is created\\n\\ndata_loader()\\n# Instance is called\";\n",
       "                var nbb_cells = Jupyter.notebook.get_cells();\n",
       "                for (var i = 0; i < nbb_cells.length; ++i) {\n",
       "                    if (nbb_cells[i].input_prompt_number == nbb_cell_id) {\n",
       "                        if (nbb_cells[i].get_text() == nbb_unformatted_code) {\n",
       "                             nbb_cells[i].set_text(nbb_formatted_code);\n",
       "                        }\n",
       "                        break;\n",
       "                    }\n",
       "                }\n",
       "            }, 500);\n",
       "            "
      ],
      "text/plain": [
       "<IPython.core.display.Javascript object>"
      ]
     },
     "metadata": {},
     "output_type": "display_data"
    }
   ],
   "source": [
    "class DataLoader:\n",
    "    def __init__(self, data_dir: str):\n",
    "        self.data_dir = data_dir\n",
    "        print(\"Instance is created\")\n",
    "\n",
    "    def __call__(self):\n",
    "        print(\"Instance is called\")\n",
    "\n",
    "\n",
    "data_loader = DataLoader(\"my_data_dir\")\n",
    "# Instance is created\n",
    "\n",
    "data_loader()\n",
    "# Instance is called"
   ]
  },
  {
   "cell_type": "markdown",
   "id": "7c083eeb",
   "metadata": {},
   "source": [
    "### Static method: use the function without adding the attributes required for a new instance"
   ]
  },
  {
   "cell_type": "markdown",
   "id": "6218e4de",
   "metadata": {},
   "source": [
    "Have you ever had a function in your class that doesn’t access any properties of a class but fits well in a class? You might find it redundant to instantiate the class to use that function. That is when you can turn your function into a static method.\n",
    "\n",
    "All you need to turn your function into a static method is the decorator `@staticmethod`. Now you can use the function without adding the attributes required for a new instance.\n",
    "\n"
   ]
  },
  {
   "cell_type": "code",
   "execution_count": 12,
   "id": "3b7208d6",
   "metadata": {
    "ExecuteTime": {
     "end_time": "2021-08-30T01:00:17.808040Z",
     "start_time": "2021-08-30T01:00:17.775913Z"
    }
   },
   "outputs": [
    {
     "name": "stdout",
     "output_type": "stream",
     "text": [
      "My favorite page is \n"
     ]
    },
    {
     "data": {
      "application/javascript": [
       "\n",
       "            setTimeout(function() {\n",
       "                var nbb_cell_id = 12;\n",
       "                var nbb_unformatted_code = \"import re \\n\\nclass ProcessText:\\n    def __init__(self, text_column: str):\\n        self.text_column = text_column\\n\\n    @staticmethod\\n    def remove_URL(sample: str) -> str:\\n        \\\"\\\"\\\"Replace url with empty space\\\"\\\"\\\"\\n        return re.sub(r'http\\\\S+', \\\"\\\", sample)\\n\\ntext = ProcessText.remove_URL('My favorite page is https://www.google.com')\\nprint(text)\";\n",
       "                var nbb_formatted_code = \"import re\\n\\n\\nclass ProcessText:\\n    def __init__(self, text_column: str):\\n        self.text_column = text_column\\n\\n    @staticmethod\\n    def remove_URL(sample: str) -> str:\\n        \\\"\\\"\\\"Replace url with empty space\\\"\\\"\\\"\\n        return re.sub(r\\\"http\\\\S+\\\", \\\"\\\", sample)\\n\\n\\ntext = ProcessText.remove_URL(\\\"My favorite page is https://www.google.com\\\")\\nprint(text)\";\n",
       "                var nbb_cells = Jupyter.notebook.get_cells();\n",
       "                for (var i = 0; i < nbb_cells.length; ++i) {\n",
       "                    if (nbb_cells[i].input_prompt_number == nbb_cell_id) {\n",
       "                        if (nbb_cells[i].get_text() == nbb_unformatted_code) {\n",
       "                             nbb_cells[i].set_text(nbb_formatted_code);\n",
       "                        }\n",
       "                        break;\n",
       "                    }\n",
       "                }\n",
       "            }, 500);\n",
       "            "
      ],
      "text/plain": [
       "<IPython.core.display.Javascript object>"
      ]
     },
     "metadata": {},
     "output_type": "display_data"
    }
   ],
   "source": [
    "import re\n",
    "\n",
    "\n",
    "class ProcessText:\n",
    "    def __init__(self, text_column: str):\n",
    "        self.text_column = text_column\n",
    "\n",
    "    @staticmethod\n",
    "    def remove_URL(sample: str) -> str:\n",
    "        \"\"\"Replace url with empty space\"\"\"\n",
    "        return re.sub(r\"http\\S+\", \"\", sample)\n",
    "\n",
    "\n",
    "text = ProcessText.remove_URL(\"My favorite page is https://www.google.com\")\n",
    "print(text)"
   ]
  },
  {
   "cell_type": "markdown",
   "id": "2b37956a",
   "metadata": {},
   "source": [
    "### Property Decorator: A Pythonic Way to Use Getters and Setters"
   ]
  },
  {
   "cell_type": "markdown",
   "id": "1188b89a",
   "metadata": {},
   "source": [
    "If you want users to use the right data type for a class attribute or prevent them from changing that attribute, use the `property` decorator.\n",
    "\n",
    "In the code below, the first `color` method is used to get the attribute `color` and the second `color` method is used to set the value for the attribute `color`."
   ]
  },
  {
   "cell_type": "code",
   "execution_count": 15,
   "id": "c83e352f",
   "metadata": {
    "ExecuteTime": {
     "end_time": "2021-08-30T01:08:59.507066Z",
     "start_time": "2021-08-30T01:08:59.461065Z"
    }
   },
   "outputs": [
    {
     "name": "stdout",
     "output_type": "stream",
     "text": [
      "The color of the fruit is:\n"
     ]
    },
    {
     "data": {
      "text/plain": [
       "'red'"
      ]
     },
     "execution_count": 15,
     "metadata": {},
     "output_type": "execute_result"
    },
    {
     "data": {
      "application/javascript": [
       "\n",
       "            setTimeout(function() {\n",
       "                var nbb_cell_id = 15;\n",
       "                var nbb_unformatted_code = \"class Fruit:\\n    def __init__(self, name: str, color: str):\\n        self._name = name\\n        self._color = color\\n\\n    @property\\n    def color(self):\\n        print(\\\"The color of the fruit is:\\\")\\n        return self._color\\n\\n    @color.setter\\n    def color(self, value):\\n        print(\\\"Setting value of color...\\\")\\n        if self._color is None:\\n            if not isinstance(value, str):\\n                raise ValueError(\\\"color must be of type string\\\")\\n            self.color = value\\n        else:\\n            raise AttributeError(\\\"Sorry, you cannot change a fruit's color!\\\")\\n\\n\\nfruit = Fruit(\\\"apple\\\", \\\"red\\\")\\nfruit.color\";\n",
       "                var nbb_formatted_code = \"class Fruit:\\n    def __init__(self, name: str, color: str):\\n        self._name = name\\n        self._color = color\\n\\n    @property\\n    def color(self):\\n        print(\\\"The color of the fruit is:\\\")\\n        return self._color\\n\\n    @color.setter\\n    def color(self, value):\\n        print(\\\"Setting value of color...\\\")\\n        if self._color is None:\\n            if not isinstance(value, str):\\n                raise ValueError(\\\"color must be of type string\\\")\\n            self.color = value\\n        else:\\n            raise AttributeError(\\\"Sorry, you cannot change a fruit's color!\\\")\\n\\n\\nfruit = Fruit(\\\"apple\\\", \\\"red\\\")\\nfruit.color\";\n",
       "                var nbb_cells = Jupyter.notebook.get_cells();\n",
       "                for (var i = 0; i < nbb_cells.length; ++i) {\n",
       "                    if (nbb_cells[i].input_prompt_number == nbb_cell_id) {\n",
       "                        if (nbb_cells[i].get_text() == nbb_unformatted_code) {\n",
       "                             nbb_cells[i].set_text(nbb_formatted_code);\n",
       "                        }\n",
       "                        break;\n",
       "                    }\n",
       "                }\n",
       "            }, 500);\n",
       "            "
      ],
      "text/plain": [
       "<IPython.core.display.Javascript object>"
      ]
     },
     "metadata": {},
     "output_type": "display_data"
    }
   ],
   "source": [
    "class Fruit:\n",
    "    def __init__(self, name: str, color: str):\n",
    "        self._name = name\n",
    "        self._color = color\n",
    "\n",
    "    @property\n",
    "    def color(self):\n",
    "        print(\"The color of the fruit is:\")\n",
    "        return self._color\n",
    "\n",
    "    @color.setter\n",
    "    def color(self, value):\n",
    "        print(\"Setting value of color...\")\n",
    "        if self._color is None:\n",
    "            if not isinstance(value, str):\n",
    "                raise ValueError(\"color must be of type string\")\n",
    "            self.color = value\n",
    "        else:\n",
    "            raise AttributeError(\"Sorry, you cannot change a fruit's color!\")\n",
    "\n",
    "\n",
    "fruit = Fruit(\"apple\", \"red\")\n",
    "fruit.color"
   ]
  },
  {
   "cell_type": "code",
   "execution_count": 16,
   "id": "9fa947aa",
   "metadata": {
    "ExecuteTime": {
     "end_time": "2021-08-30T01:09:03.327029Z",
     "start_time": "2021-08-30T01:09:03.301356Z"
    }
   },
   "outputs": [
    {
     "name": "stdout",
     "output_type": "stream",
     "text": [
      "Setting value of color...\n"
     ]
    },
    {
     "ename": "AttributeError",
     "evalue": "Sorry, you cannot change a fruit's color!",
     "output_type": "error",
     "traceback": [
      "\u001b[0;31m---------------------------------------------------------------------------\u001b[0m",
      "\u001b[0;31mAttributeError\u001b[0m                            Traceback (most recent call last)",
      "\u001b[0;32m/tmp/ipykernel_337430/2513783301.py\u001b[0m in \u001b[0;36m<module>\u001b[0;34m\u001b[0m\n\u001b[0;32m----> 1\u001b[0;31m \u001b[0mfruit\u001b[0m\u001b[0;34m.\u001b[0m\u001b[0mcolor\u001b[0m \u001b[0;34m=\u001b[0m \u001b[0;34m\"yellow\"\u001b[0m\u001b[0;34m\u001b[0m\u001b[0;34m\u001b[0m\u001b[0m\n\u001b[0m",
      "\u001b[0;32m/tmp/ipykernel_337430/2891187161.py\u001b[0m in \u001b[0;36mcolor\u001b[0;34m(self, value)\u001b[0m\n\u001b[1;32m     17\u001b[0m             \u001b[0mself\u001b[0m\u001b[0;34m.\u001b[0m\u001b[0mcolor\u001b[0m \u001b[0;34m=\u001b[0m \u001b[0mvalue\u001b[0m\u001b[0;34m\u001b[0m\u001b[0;34m\u001b[0m\u001b[0m\n\u001b[1;32m     18\u001b[0m         \u001b[0;32melse\u001b[0m\u001b[0;34m:\u001b[0m\u001b[0;34m\u001b[0m\u001b[0;34m\u001b[0m\u001b[0m\n\u001b[0;32m---> 19\u001b[0;31m             \u001b[0;32mraise\u001b[0m \u001b[0mAttributeError\u001b[0m\u001b[0;34m(\u001b[0m\u001b[0;34m\"Sorry, you cannot change a fruit's color!\"\u001b[0m\u001b[0;34m)\u001b[0m\u001b[0;34m\u001b[0m\u001b[0;34m\u001b[0m\u001b[0m\n\u001b[0m\u001b[1;32m     20\u001b[0m \u001b[0;34m\u001b[0m\u001b[0m\n\u001b[1;32m     21\u001b[0m \u001b[0;34m\u001b[0m\u001b[0m\n",
      "\u001b[0;31mAttributeError\u001b[0m: Sorry, you cannot change a fruit's color!"
     ]
    },
    {
     "data": {
      "application/javascript": [
       "\n",
       "            setTimeout(function() {\n",
       "                var nbb_cell_id = 16;\n",
       "                var nbb_unformatted_code = \"fruit.color = \\\"yellow\\\"\";\n",
       "                var nbb_formatted_code = \"fruit.color = \\\"yellow\\\"\";\n",
       "                var nbb_cells = Jupyter.notebook.get_cells();\n",
       "                for (var i = 0; i < nbb_cells.length; ++i) {\n",
       "                    if (nbb_cells[i].input_prompt_number == nbb_cell_id) {\n",
       "                        if (nbb_cells[i].get_text() == nbb_unformatted_code) {\n",
       "                             nbb_cells[i].set_text(nbb_formatted_code);\n",
       "                        }\n",
       "                        break;\n",
       "                    }\n",
       "                }\n",
       "            }, 500);\n",
       "            "
      ],
      "text/plain": [
       "<IPython.core.display.Javascript object>"
      ]
     },
     "metadata": {},
     "output_type": "display_data"
    }
   ],
   "source": [
    "fruit.color = \"yellow\""
   ]
  },
  {
   "cell_type": "markdown",
   "id": "c510dd76",
   "metadata": {},
   "source": [
    "### `__str__` and `__repr__`: Create a String Representation of a Python Object\n"
   ]
  },
  {
   "cell_type": "markdown",
   "id": "82e6f70e",
   "metadata": {},
   "source": [
    "If you want to create a string representation of an object, add `__str__` and `__repr__`.\n",
    "\n",
    "`__str__` shows readable outputs when printing the object. `__repr__` shows outputs that are useful for displaying and debugging the object."
   ]
  },
  {
   "cell_type": "code",
   "execution_count": 17,
   "id": "71450d29",
   "metadata": {
    "ExecuteTime": {
     "end_time": "2021-08-30T01:45:12.288927Z",
     "start_time": "2021-08-30T01:45:12.261626Z"
    }
   },
   "outputs": [
    {
     "name": "stdout",
     "output_type": "stream",
     "text": [
      "red apple\n"
     ]
    },
    {
     "data": {
      "application/javascript": [
       "\n",
       "            setTimeout(function() {\n",
       "                var nbb_cell_id = 17;\n",
       "                var nbb_unformatted_code = \"class Food:\\n    def __init__(self, name: str, color: str):\\n        self.name = name\\n        self.color = color\\n\\n    def __str__(self):\\n        return f\\\"{self.color} {self.name}\\\"\\n\\n    def __repr__(self):\\n        return f\\\"Food({self.color}, {self.name})\\\"\\n\\n\\nfood = Food(\\\"apple\\\", \\\"red\\\")\\n\\nprint(food)  #  str__\";\n",
       "                var nbb_formatted_code = \"class Food:\\n    def __init__(self, name: str, color: str):\\n        self.name = name\\n        self.color = color\\n\\n    def __str__(self):\\n        return f\\\"{self.color} {self.name}\\\"\\n\\n    def __repr__(self):\\n        return f\\\"Food({self.color}, {self.name})\\\"\\n\\n\\nfood = Food(\\\"apple\\\", \\\"red\\\")\\n\\nprint(food)  #  str__\";\n",
       "                var nbb_cells = Jupyter.notebook.get_cells();\n",
       "                for (var i = 0; i < nbb_cells.length; ++i) {\n",
       "                    if (nbb_cells[i].input_prompt_number == nbb_cell_id) {\n",
       "                        if (nbb_cells[i].get_text() == nbb_unformatted_code) {\n",
       "                             nbb_cells[i].set_text(nbb_formatted_code);\n",
       "                        }\n",
       "                        break;\n",
       "                    }\n",
       "                }\n",
       "            }, 500);\n",
       "            "
      ],
      "text/plain": [
       "<IPython.core.display.Javascript object>"
      ]
     },
     "metadata": {},
     "output_type": "display_data"
    }
   ],
   "source": [
    "class Food:\n",
    "    def __init__(self, name: str, color: str):\n",
    "        self.name = name\n",
    "        self.color = color\n",
    "\n",
    "    def __str__(self):\n",
    "        return f\"{self.color} {self.name}\"\n",
    "\n",
    "    def __repr__(self):\n",
    "        return f\"Food({self.color}, {self.name})\"\n",
    "\n",
    "\n",
    "food = Food(\"apple\", \"red\")\n",
    "\n",
    "print(food)  #  str__"
   ]
  },
  {
   "cell_type": "code",
   "execution_count": 18,
   "id": "e6cd59a2",
   "metadata": {
    "ExecuteTime": {
     "end_time": "2021-08-30T01:45:12.705910Z",
     "start_time": "2021-08-30T01:45:12.692056Z"
    }
   },
   "outputs": [
    {
     "data": {
      "text/plain": [
       "Food(red, apple)"
      ]
     },
     "execution_count": 18,
     "metadata": {},
     "output_type": "execute_result"
    },
    {
     "data": {
      "application/javascript": [
       "\n",
       "            setTimeout(function() {\n",
       "                var nbb_cell_id = 18;\n",
       "                var nbb_unformatted_code = \"food  # __repr__\";\n",
       "                var nbb_formatted_code = \"food  # __repr__\";\n",
       "                var nbb_cells = Jupyter.notebook.get_cells();\n",
       "                for (var i = 0; i < nbb_cells.length; ++i) {\n",
       "                    if (nbb_cells[i].input_prompt_number == nbb_cell_id) {\n",
       "                        if (nbb_cells[i].get_text() == nbb_unformatted_code) {\n",
       "                             nbb_cells[i].set_text(nbb_formatted_code);\n",
       "                        }\n",
       "                        break;\n",
       "                    }\n",
       "                }\n",
       "            }, 500);\n",
       "            "
      ],
      "text/plain": [
       "<IPython.core.display.Javascript object>"
      ]
     },
     "metadata": {},
     "output_type": "display_data"
    }
   ],
   "source": [
    "food  # __repr__"
   ]
  },
  {
   "cell_type": "markdown",
   "id": "b6a398ba",
   "metadata": {},
   "source": [
    "### attrs: Bring Back the Joy of Writing Classes"
   ]
  },
  {
   "cell_type": "code",
   "execution_count": null,
   "id": "20917060",
   "metadata": {
    "tags": [
     "hide-cell"
    ]
   },
   "outputs": [],
   "source": [
    "!python -m pip install attrs"
   ]
  },
  {
   "cell_type": "markdown",
   "id": "85eb3183",
   "metadata": {},
   "source": [
    "Do you find it annoying to write an `__init__` method every time you want to create a class in Python?"
   ]
  },
  {
   "cell_type": "code",
   "execution_count": 35,
   "id": "f2e7cbc0",
   "metadata": {
    "ExecuteTime": {
     "end_time": "2021-11-10T13:56:14.614244Z",
     "start_time": "2021-11-10T13:56:14.606184Z"
    }
   },
   "outputs": [],
   "source": [
    "class Dog:\n",
    "    def __init__(self, color: str, type_: str, name: str):\n",
    "        self.color = color \n",
    "        self.type_ = type_\n",
    "        self.name = name\n",
    "        \n",
    "    def describe(self):\n",
    "        print(f\"{self.name} is a {self.color} {self.type_}.\")"
   ]
  },
  {
   "cell_type": "markdown",
   "id": "34d0e714",
   "metadata": {},
   "source": [
    "If so, try `attrs`. With `attrs`, you can declaratively define the attributes of a class."
   ]
  },
  {
   "cell_type": "code",
   "execution_count": 1,
   "id": "56072254",
   "metadata": {
    "ExecuteTime": {
     "end_time": "2021-11-10T13:46:19.174826Z",
     "start_time": "2021-11-10T13:46:19.138100Z"
    }
   },
   "outputs": [],
   "source": [
    "import attr "
   ]
  },
  {
   "cell_type": "code",
   "execution_count": 77,
   "id": "31c14d43",
   "metadata": {
    "ExecuteTime": {
     "end_time": "2021-11-10T14:18:44.031125Z",
     "start_time": "2021-11-10T14:18:44.022181Z"
    }
   },
   "outputs": [],
   "source": [
    "@attr.s(auto_attribs=True)\n",
    "class Dog:\n",
    "    age: int\n",
    "    name: str\n",
    "    type_: str = 'Labrador Retriever'\n",
    "        \n",
    "    def describe(self):\n",
    "        print(f\"{self.name} is a {self.type_}.\")"
   ]
  },
  {
   "cell_type": "code",
   "execution_count": 78,
   "id": "c3ab72de",
   "metadata": {
    "ExecuteTime": {
     "end_time": "2021-11-10T14:19:06.539620Z",
     "start_time": "2021-11-10T14:19:06.534130Z"
    }
   },
   "outputs": [],
   "source": [
    "pepper = Dog(7, 'Pepper', 'Labrador Retriever')"
   ]
  },
  {
   "cell_type": "markdown",
   "id": "525bcdfa",
   "metadata": {},
   "source": [
    "The instance created using `attrs` has a nice human-readable `__repr__`."
   ]
  },
  {
   "cell_type": "code",
   "execution_count": 79,
   "id": "88ec16ed",
   "metadata": {
    "ExecuteTime": {
     "end_time": "2021-11-10T14:19:07.554242Z",
     "start_time": "2021-11-10T14:19:07.546437Z"
    }
   },
   "outputs": [
    {
     "data": {
      "text/plain": [
       "Dog(age=7, name='Pepper', type_='Labrador Retriever')"
      ]
     },
     "execution_count": 79,
     "metadata": {},
     "output_type": "execute_result"
    }
   ],
   "source": [
    "pepper"
   ]
  },
  {
   "cell_type": "code",
   "execution_count": 80,
   "id": "538c3130",
   "metadata": {
    "ExecuteTime": {
     "end_time": "2021-11-10T14:19:08.280299Z",
     "start_time": "2021-11-10T14:19:08.274090Z"
    },
    "scrolled": true
   },
   "outputs": [
    {
     "name": "stdout",
     "output_type": "stream",
     "text": [
      "Pepper is a Labrador Retriever.\n"
     ]
    }
   ],
   "source": [
    "pepper.describe()"
   ]
  },
  {
   "cell_type": "markdown",
   "id": "cd05961b",
   "metadata": {},
   "source": [
    "You can also turn the attributes of that instance into a dictionary. "
   ]
  },
  {
   "cell_type": "code",
   "execution_count": 81,
   "id": "9983ca9e",
   "metadata": {
    "ExecuteTime": {
     "end_time": "2021-11-10T14:19:12.044906Z",
     "start_time": "2021-11-10T14:19:12.036499Z"
    }
   },
   "outputs": [
    {
     "data": {
      "text/plain": [
       "{'age': 7, 'name': 'Pepper', 'type_': 'Labrador Retriever'}"
      ]
     },
     "execution_count": 81,
     "metadata": {},
     "output_type": "execute_result"
    }
   ],
   "source": [
    "attr.asdict(pepper)"
   ]
  },
  {
   "cell_type": "markdown",
   "id": "11470cef",
   "metadata": {},
   "source": [
    "You can also compare 2 instances of the same class using the first attribute of that class. "
   ]
  },
  {
   "cell_type": "code",
   "execution_count": 82,
   "id": "ec829aae",
   "metadata": {
    "ExecuteTime": {
     "end_time": "2021-11-10T14:19:30.359084Z",
     "start_time": "2021-11-10T14:19:30.350157Z"
    }
   },
   "outputs": [
    {
     "data": {
      "text/plain": [
       "True"
      ]
     },
     "execution_count": 82,
     "metadata": {},
     "output_type": "execute_result"
    }
   ],
   "source": [
    "bim = Dog(8, 'Bim Bim', 'Dachshund')\n",
    "\n",
    "pepper < bim "
   ]
  },
  {
   "cell_type": "markdown",
   "id": "c3ccfac7",
   "metadata": {},
   "source": [
    "Find other benefits of `attrs` [here](https://www.attrs.org/en/stable/overview.html)."
   ]
  }
 ],
 "metadata": {
  "celltoolbar": "Tags",
  "kernelspec": {
   "display_name": "Python 3 (ipykernel)",
   "language": "python",
   "name": "python3"
  },
  "language_info": {
   "codemirror_mode": {
    "name": "ipython",
    "version": 3
   },
   "file_extension": ".py",
   "mimetype": "text/x-python",
   "name": "python",
   "nbconvert_exporter": "python",
   "pygments_lexer": "ipython3",
   "version": "3.8.10"
  },
  "toc": {
   "base_numbering": 1,
   "nav_menu": {},
   "number_sections": true,
   "sideBar": true,
   "skip_h1_title": false,
   "title_cell": "Table of Contents",
   "title_sidebar": "Contents",
   "toc_cell": false,
   "toc_position": {},
   "toc_section_display": true,
   "toc_window_display": false
  }
 },
 "nbformat": 4,
 "nbformat_minor": 5
}
