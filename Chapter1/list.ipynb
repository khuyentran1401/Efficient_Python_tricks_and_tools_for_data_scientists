{
 "cells": [
  {
   "cell_type": "markdown",
   "id": "18236a3c",
   "metadata": {},
   "source": [
    "# List\n",
    "\n",
    "## any: Check if Any Element of an Iterable is True\n",
    "\n",
    "If you want to check if any element of an iterable is True, use any. In the code below, I use any to find if any element in the text is in uppercase."
   ]
  },
  {
   "cell_type": "code",
   "execution_count": 1,
   "id": "72ad8669",
   "metadata": {},
   "outputs": [
    {
     "data": {
      "text/plain": [
       "True"
      ]
     },
     "execution_count": 1,
     "metadata": {},
     "output_type": "execute_result"
    }
   ],
   "source": [
    "text = \"abcdE\"\n",
    "any(c.isupper() for c in text)"
   ]
  },
  {
   "cell_type": "markdown",
   "id": "28bd288b",
   "metadata": {},
   "source": [
    "## all: Check if All Elements of an Interable Are Strings\n",
    "\n",
    "If you want to check if all elements of an iterable are strings, use `all` and `isinstance`."
   ]
  },
  {
   "cell_type": "code",
   "execution_count": 2,
   "id": "9b5f14a4",
   "metadata": {},
   "outputs": [
    {
     "data": {
      "text/plain": [
       "False"
      ]
     },
     "execution_count": 2,
     "metadata": {},
     "output_type": "execute_result"
    }
   ],
   "source": [
    "l = ['a', 'b', 1, 2]\n",
    "\n",
    "all(isinstance(item, str) for item in l)"
   ]
  },
  {
   "cell_type": "markdown",
   "id": "d82f3a9e",
   "metadata": {},
   "source": [
    "## filter: Get the Elements of an Iterable that a Function Evaluates True\n",
    "\n",
    "If you want to get only the elements of an iterable that satisfy the given condition, use filter."
   ]
  },
  {
   "cell_type": "code",
   "execution_count": 3,
   "id": "c8009dfd",
   "metadata": {},
   "outputs": [
    {
     "data": {
      "text/plain": [
       "[2, 4]"
      ]
     },
     "execution_count": 3,
     "metadata": {},
     "output_type": "execute_result"
    }
   ],
   "source": [
    "nums = [1, 2, 3, 4, 5]\n",
    "\n",
    "# Get even numbers\n",
    "list(filter(lambda num: num % 2 == 0, nums))"
   ]
  },
  {
   "cell_type": "markdown",
   "id": "9357a149",
   "metadata": {},
   "source": [
    "## map method: Apply a Function to Each Item of an Iterable\n",
    "\n",
    "If you want to apply a function to each element of an iterable, use `map`."
   ]
  },
  {
   "cell_type": "code",
   "execution_count": 4,
   "id": "4101c326",
   "metadata": {},
   "outputs": [
    {
     "data": {
      "text/plain": [
       "[2, 4, 6, 8, 10]"
      ]
     },
     "execution_count": 4,
     "metadata": {},
     "output_type": "execute_result"
    }
   ],
   "source": [
    "nums = [1, 2, 3, 4, 5]\n",
    "\n",
    "# Multiply every number by 2\n",
    "list(map(lambda num: num * 2, nums))"
   ]
  },
  {
   "cell_type": "markdown",
   "id": "ea15115c",
   "metadata": {},
   "source": [
    "## sort: Sort a List of Tuples by the First or Second Item\n",
    "\n",
    "To sort a list of tuples, use the `sort()` method and pass in the key parameter to indicate which item to sort by."
   ]
  },
  {
   "cell_type": "code",
   "execution_count": 5,
   "id": "f3deb8bc",
   "metadata": {},
   "outputs": [
    {
     "data": {
      "text/plain": [
       "[('banana', 2), ('grape', 3), ('orange', 1)]"
      ]
     },
     "execution_count": 5,
     "metadata": {},
     "output_type": "execute_result"
    }
   ],
   "source": [
    "prices = [('orange', 1), ('grape', 3), ('banana', 2)]\n",
    "\n",
    "# Sort by the first item\n",
    "by_letter = lambda x: x[0]\n",
    "prices.sort(key=by_letter)\n",
    "prices"
   ]
  },
  {
   "cell_type": "code",
   "execution_count": 6,
   "id": "20fcdd4b",
   "metadata": {},
   "outputs": [
    {
     "data": {
      "text/plain": [
       "[('orange', 1), ('banana', 2), ('grape', 3)]"
      ]
     },
     "execution_count": 6,
     "metadata": {},
     "output_type": "execute_result"
    }
   ],
   "source": [
    "# Sort by the second item\n",
    "by_price = lambda x: x[1]\n",
    "prices.sort(key=by_price)\n",
    "prices"
   ]
  },
  {
   "cell_type": "markdown",
   "id": "e18a4c0d",
   "metadata": {},
   "source": [
    "## Simplify List Condition Evaluation with any and List Comprehensions\n",
    "\n",
    "When checking if a condition is true for any list element in Python, use any with a list comprehension instead of a for loop and if-else statements for more readable code."
   ]
  },
  {
   "cell_type": "code",
   "execution_count": 7,
   "id": "b47a5ec7",
   "metadata": {},
   "outputs": [
    {
     "data": {
      "text/plain": [
       "True"
      ]
     },
     "execution_count": 7,
     "metadata": {},
     "output_type": "execute_result"
    }
   ],
   "source": [
    "FRUITS = ['apple', 'orange', 'grape']\n",
    "\n",
    "def check_mention_fruit_1(text: str):\n",
    "    for fruit in FRUITS:\n",
    "        if fruit in text:\n",
    "            return True \n",
    "\n",
    "check_mention_fruit_1('I got an apple.')"
   ]
  },
  {
   "cell_type": "code",
   "execution_count": 8,
   "id": "90e81465",
   "metadata": {},
   "outputs": [
    {
     "data": {
      "text/plain": [
       "True"
      ]
     },
     "execution_count": 8,
     "metadata": {},
     "output_type": "execute_result"
    }
   ],
   "source": [
    "def check_mention_fruit_2(text: str):\n",
    "\n",
    "    return any(fruit in text for fruit in FRUITS)\n",
    "\n",
    "\n",
    "check_mention_fruit_2(\"I got an apple.\")"
   ]
  },
  {
   "cell_type": "code",
   "execution_count": 9,
   "id": "a2cbb193",
   "metadata": {},
   "outputs": [
    {
     "data": {
      "text/plain": [
       "16"
      ]
     },
     "execution_count": 9,
     "metadata": {},
     "output_type": "execute_result"
    }
   ],
   "source": [
    "sum([1, 2, 3], start=10)"
   ]
  },
  {
   "cell_type": "markdown",
   "id": "7672400c",
   "metadata": {},
   "source": [
    "## random.choice: Get a Randomly Selected Element From a Python List\n",
    "\n",
    "Besides getting a random number, you can also get a random element from a Python list using random. In the code below, \"stay at home\" was picked randomly from a list of options."
   ]
  },
  {
   "cell_type": "code",
   "execution_count": 10,
   "id": "97340736",
   "metadata": {},
   "outputs": [
    {
     "data": {
      "text/plain": [
       "'stay at home'"
      ]
     },
     "execution_count": 10,
     "metadata": {},
     "output_type": "execute_result"
    }
   ],
   "source": [
    "import random\n",
    "\n",
    "to_do_tonight = [\"stay at home\", \"attend party\", \"do exercise\"]\n",
    "\n",
    "random.choice(to_do_tonight)"
   ]
  },
  {
   "cell_type": "code",
   "execution_count": 11,
   "id": "512ccd8a",
   "metadata": {},
   "outputs": [
    {
     "data": {
      "text/plain": [
       "3"
      ]
     },
     "execution_count": 11,
     "metadata": {},
     "output_type": "execute_result"
    }
   ],
   "source": [
    "l = [1, 2, 3]\n",
    "l.pop()"
   ]
  },
  {
   "cell_type": "markdown",
   "id": "ebaa75b7",
   "metadata": {},
   "source": [
    "## random.choices: Get Weighted Random Choices From a Python List\n",
    "\n",
    "If you want to get a list of random elements from a specific list, use `random.choices`. This method also allows you to weigh the possibility for each value with the `weights` parameter.\n",
    "\n",
    "In the code below, I use `random.choices` to get a list of 10 random values. 0 is two times more likely to be selected than 1 and is ten times more likely to be selected than 2. "
   ]
  },
  {
   "cell_type": "code",
   "execution_count": 12,
   "id": "1e85047e",
   "metadata": {},
   "outputs": [
    {
     "data": {
      "text/plain": [
       "[0, 1, 0, 0, 1, 0, 0, 0, 1, 0]"
      ]
     },
     "execution_count": 12,
     "metadata": {},
     "output_type": "execute_result"
    }
   ],
   "source": [
    "import random\n",
    "\n",
    "random.choices([0, 1, 2], weights=[10, 5, 1], k=10)"
   ]
  },
  {
   "cell_type": "markdown",
   "id": "422a197d",
   "metadata": {},
   "source": [
    "## random.sample: Get Multiple Random Elements from a Python List\n",
    "\n",
    "If you want to get n random elements from a list, use `random.sample`."
   ]
  },
  {
   "cell_type": "code",
   "execution_count": 13,
   "id": "84832ae8",
   "metadata": {},
   "outputs": [
    {
     "data": {
      "text/plain": [
       "[2, 1]"
      ]
     },
     "execution_count": 13,
     "metadata": {},
     "output_type": "execute_result"
    }
   ],
   "source": [
    "import random\n",
    "\n",
    "random.seed(1)\n",
    "nums = [1, 2, 3, 4, 5]\n",
    "random_nums = random.sample(nums, 2)\n",
    "random_nums"
   ]
  },
  {
   "cell_type": "markdown",
   "id": "150ffc65",
   "metadata": {},
   "source": [
    "## heapq: Find n Max Values of a Python List\n",
    "\n",
    "If you want to extract n max values from a large Python list, using `heapq` will speed up the code.\n",
    "\n",
    "In the code below, using heapq is more than 2 times faster than using sorting and indexing. Both methods try to find the max values of a list of 10000 items."
   ]
  },
  {
   "cell_type": "code",
   "execution_count": 14,
   "id": "633c8b0e",
   "metadata": {},
   "outputs": [],
   "source": [
    "import heapq\n",
    "import random\n",
    "from timeit import timeit\n",
    "\n",
    "random.seed(0)\n",
    "l = random.sample(range(0, 10000), 10000)\n",
    "\n",
    "def get_n_max_sorting(l: list, n: int):\n",
    "    l = sorted(l, reverse=True)\n",
    "    return l[:n]\n",
    "\n",
    "def get_n_max_heapq(l: list, n: int):\n",
    "    return heapq.nlargest(n, l)"
   ]
  },
  {
   "cell_type": "code",
   "execution_count": 15,
   "id": "3f3d3112",
   "metadata": {},
   "outputs": [
    {
     "name": "stdout",
     "output_type": "stream",
     "text": [
      "Run 1000 experiments. Using heapq is 3.69 times faster than using sorting\n"
     ]
    }
   ],
   "source": [
    "expSize = 1000\n",
    "n = 100\n",
    "time_sorting = timeit(\"get_n_max_sorting(l, n)\", number=expSize,\n",
    "                        globals=globals())\n",
    "time_heapq = timeit('get_n_max_heapq(l, n)', number=expSize,\n",
    "                    globals=globals())\n",
    "\n",
    "ratio = round(time_sorting/time_heapq, 3)\n",
    "print(f'Run {expSize} experiments. Using heapq is {ratio} times'\n",
    "' faster than using sorting')"
   ]
  },
  {
   "cell_type": "markdown",
   "id": "4496d3f4",
   "metadata": {},
   "source": [
    "## join method: Turn an Iterable into a Python String\n",
    "\n",
    "If you want to turn an iterable into a string, use `join()`.\n",
    "\n",
    "In the code below, I join elements in the list `fruits` using \", \"."
   ]
  },
  {
   "cell_type": "code",
   "execution_count": 16,
   "id": "2da23ab0",
   "metadata": {},
   "outputs": [
    {
     "name": "stdout",
     "output_type": "stream",
     "text": [
      "Today, I need to get some apples, oranges, grapes in the grocery store\n"
     ]
    }
   ],
   "source": [
    "fruits = ['apples', 'oranges', 'grapes']\n",
    "\n",
    "fruits_str = ', '.join(fruits)\n",
    "\n",
    "print(f\"Today, I need to get some {fruits_str} in the grocery store\")"
   ]
  },
  {
   "cell_type": "markdown",
   "id": "99c95167",
   "metadata": {},
   "source": [
    "## Zip: Associate Elements from Two Iterators based on the Order\n",
    "\n",
    "If you want to associate elements from two iterators based on the order, combine `list` and `zip`. "
   ]
  },
  {
   "cell_type": "code",
   "execution_count": 17,
   "id": "aad38c83",
   "metadata": {},
   "outputs": [
    {
     "data": {
      "text/plain": [
       "[(1, 'a'), (2, 'b'), (3, 'c'), (4, 'd')]"
      ]
     },
     "execution_count": 17,
     "metadata": {},
     "output_type": "execute_result"
    }
   ],
   "source": [
    "nums = [1, 2, 3, 4]\n",
    "string = \"abcd\"\n",
    "combinations = list(zip(nums, string))\n",
    "combinations"
   ]
  },
  {
   "cell_type": "markdown",
   "id": "3b6f3fcd",
   "metadata": {},
   "source": [
    "## Python 3.10's strict=True: Preventing Data Loss in zip Operations\n",
    "\n",
    "`zip` allows you to aggregate elements from each of the iterables. However, if the iterables are not the same length, the remaining elements of the longer iterables are not paired, potentially leading to unnoticed bugs."
   ]
  },
  {
   "cell_type": "code",
   "execution_count": 18,
   "id": "6d30e955",
   "metadata": {},
   "outputs": [
    {
     "data": {
      "text/plain": [
       "[('apple', 1), ('orange', 2)]"
      ]
     },
     "execution_count": 18,
     "metadata": {},
     "output_type": "execute_result"
    }
   ],
   "source": [
    "fruits = [\"apple\", \"orange\", \"grape\"]\n",
    "prices = [1, 2]\n",
    "\n",
    "list(zip(fruits, prices))"
   ]
  },
  {
   "cell_type": "markdown",
   "id": "c90cc3c4",
   "metadata": {},
   "source": [
    "Starting with Python 3.10, using the strict keyword argument with `zip` raises a `ValueError` if the lengths of the iterables are unequal."
   ]
  },
  {
   "cell_type": "code",
   "execution_count": 19,
   "id": "c549acdd",
   "metadata": {},
   "outputs": [
    {
     "name": "stdout",
     "output_type": "stream",
     "text": [
      "Error: zip() argument 2 is shorter than argument 1\n"
     ]
    }
   ],
   "source": [
    "try:\n",
    "    list(zip(fruits, prices, strict=True))\n",
    "except ValueError as e:\n",
    "    print(f\"Error: {e}\")"
   ]
  },
  {
   "cell_type": "markdown",
   "id": "7077790e",
   "metadata": {},
   "source": [
    "## Unzip a List of Iterables\n",
    "\n",
    "You can turn a list of iterables into 2 separate iterables using `zip(*list)`."
   ]
  },
  {
   "cell_type": "code",
   "execution_count": 20,
   "id": "a9a82a86",
   "metadata": {},
   "outputs": [],
   "source": [
    "comb = [(1, 'a'), (2, 'b'), (3, 'c'), (4, 'd')]"
   ]
  },
  {
   "cell_type": "code",
   "execution_count": 21,
   "id": "b88bb661",
   "metadata": {},
   "outputs": [
    {
     "data": {
      "text/plain": [
       "(1, 2, 3, 4)"
      ]
     },
     "execution_count": 21,
     "metadata": {},
     "output_type": "execute_result"
    }
   ],
   "source": [
    "nums_2, chars_2 = zip(*comb)\n",
    "nums_2"
   ]
  },
  {
   "cell_type": "markdown",
   "id": "8e17a406",
   "metadata": {},
   "source": [
    "## Difference between list append and list extend\n",
    "\n",
    "If you want to add a list to another list, use the `append` method. To add elements of a list to another list, use the `extend` method."
   ]
  },
  {
   "cell_type": "code",
   "execution_count": 22,
   "id": "b2614ef9",
   "metadata": {},
   "outputs": [
    {
     "data": {
      "text/plain": [
       "[1, 2, 3, 4, [5, 6]]"
      ]
     },
     "execution_count": 22,
     "metadata": {},
     "output_type": "execute_result"
    }
   ],
   "source": [
    "# Add a list to a list\n",
    "a = [1, 2, 3, 4]\n",
    "a.append([5, 6])\n",
    "a"
   ]
  },
  {
   "cell_type": "code",
   "execution_count": 23,
   "id": "b76a2926",
   "metadata": {
    "lines_to_next_cell": 2
   },
   "outputs": [
    {
     "data": {
      "text/plain": [
       "[1, 2, 3, 4, 5, 6]"
      ]
     },
     "execution_count": 23,
     "metadata": {},
     "output_type": "execute_result"
    }
   ],
   "source": [
    "a = [1, 2, 3, 4]\n",
    "a.extend([5, 6])\n",
    "\n",
    "a"
   ]
  },
  {
   "cell_type": "markdown",
   "id": "823dbe96",
   "metadata": {},
   "source": [
    "## Clean Iterables Unpacking in Python\t\n",
    "\n",
    "Are you extracting items from an iterable using indexing?"
   ]
  },
  {
   "cell_type": "code",
   "execution_count": 24,
   "id": "2f659993",
   "metadata": {},
   "outputs": [],
   "source": [
    "l = [1, 2, 3]\n",
    "\n",
    "a = l[0]\n",
    "b = l[1]\n",
    "c = l[2]"
   ]
  },
  {
   "cell_type": "markdown",
   "id": "ed832b94",
   "metadata": {},
   "source": [
    "A more efficient way to achieve the same result is to assign the iterable to multiple variables simultaneously."
   ]
  },
  {
   "cell_type": "code",
   "execution_count": 25,
   "id": "afa224d5",
   "metadata": {},
   "outputs": [],
   "source": [
    "l = [1, 2, 3]\n",
    "a, b, c = l"
   ]
  },
  {
   "cell_type": "code",
   "execution_count": 26,
   "id": "0a4c2b9d",
   "metadata": {},
   "outputs": [
    {
     "name": "stdout",
     "output_type": "stream",
     "text": [
      "a = 1\n",
      "b = 2\n",
      "c = 3\n"
     ]
    }
   ],
   "source": [
    "print(\"a =\", a)\n",
    "print(\"b =\", b)\n",
    "print(\"c =\", c)"
   ]
  },
  {
   "cell_type": "markdown",
   "id": "9ba3110f",
   "metadata": {},
   "source": [
    "This can make our code easier to read and understand, and is a common practice in Python.\n",
    "\n",
    "## Extended Iterable Unpacking: Ignore Multiple Values when Unpacking a Python Iterable\n",
    "\n",
    "If we have a longer iterable but we only want to extract the subset of the iterable, we can use the \"splat\" operator (*) to represent the elements that we don't care about:"
   ]
  },
  {
   "cell_type": "code",
   "execution_count": 27,
   "id": "445f7c31",
   "metadata": {},
   "outputs": [],
   "source": [
    "a, *_, b = [1, 2, 3, 4]"
   ]
  },
  {
   "cell_type": "code",
   "execution_count": 28,
   "id": "b5b116f8",
   "metadata": {
    "lines_to_next_cell": 0
   },
   "outputs": [
    {
     "name": "stdout",
     "output_type": "stream",
     "text": [
      "a = 1\n",
      "b = 4\n",
      "_ = [2, 3]\n"
     ]
    }
   ],
   "source": [
    "print(\"a =\", a)\n",
    "print(\"b =\", b)\n",
    "print(\"_ =\", _)"
   ]
  },
  {
   "cell_type": "markdown",
   "id": "9d537f5f",
   "metadata": {},
   "source": []
  }
 ],
 "metadata": {
  "kernelspec": {
   "display_name": "venv",
   "language": "python",
   "name": "python3"
  },
  "language_info": {
   "codemirror_mode": {
    "name": "ipython",
    "version": 3
   },
   "file_extension": ".py",
   "mimetype": "text/x-python",
   "name": "python",
   "nbconvert_exporter": "python",
   "pygments_lexer": "ipython3",
   "version": "3.11.6"
  }
 },
 "nbformat": 4,
 "nbformat_minor": 5
}
