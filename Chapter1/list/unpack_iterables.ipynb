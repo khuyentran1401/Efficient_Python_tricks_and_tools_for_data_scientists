{
 "cells": [
  {
   "cell_type": "markdown",
   "id": "186ae474",
   "metadata": {},
   "source": [
    "## Unpack Iterables"
   ]
  },
  {
   "cell_type": "markdown",
   "id": "9a2df4c9",
   "metadata": {},
   "source": [
    "### How to Unpack Iterables in Python\t"
   ]
  },
  {
   "cell_type": "markdown",
   "id": "c2ee9ad8",
   "metadata": {},
   "source": [
    "To assign items of a Python iterables (such as list, tuple, string) to different variables, you can unpack the iterable like below."
   ]
  },
  {
   "cell_type": "code",
   "execution_count": 5,
   "id": "ea0e2588",
   "metadata": {
    "ExecuteTime": {
     "end_time": "2021-08-29T20:30:15.811626Z",
     "start_time": "2021-08-29T20:30:15.805278Z"
    }
   },
   "outputs": [],
   "source": [
    "nested_arr = [[1, 2, 3], [\"a\", \"b\"], 4]\n",
    "num_arr, char_arr, num = nested_arr"
   ]
  },
  {
   "cell_type": "code",
   "execution_count": 6,
   "id": "af4b2987",
   "metadata": {
    "ExecuteTime": {
     "end_time": "2021-08-29T20:30:16.113669Z",
     "start_time": "2021-08-29T20:30:16.106288Z"
    }
   },
   "outputs": [
    {
     "data": {
      "text/plain": [
       "[1, 2, 3]"
      ]
     },
     "execution_count": 6,
     "metadata": {},
     "output_type": "execute_result"
    }
   ],
   "source": [
    "num_arr"
   ]
  },
  {
   "cell_type": "code",
   "execution_count": 7,
   "id": "e504e07a",
   "metadata": {
    "ExecuteTime": {
     "end_time": "2021-08-29T20:30:16.504443Z",
     "start_time": "2021-08-29T20:30:16.496372Z"
    }
   },
   "outputs": [
    {
     "data": {
      "text/plain": [
       "['a', 'b']"
      ]
     },
     "execution_count": 7,
     "metadata": {},
     "output_type": "execute_result"
    }
   ],
   "source": [
    "char_arr"
   ]
  },
  {
   "cell_type": "markdown",
   "id": "105663dd",
   "metadata": {},
   "source": [
    "### Extended Iterable Unpacking: Ignore Multiple Values when Unpacking a Python Iterable"
   ]
  },
  {
   "cell_type": "markdown",
   "id": "d43ad717",
   "metadata": {},
   "source": [
    "If you want to ignore multiple values when unpacking a Python iterable, add `*` to `_` as shown below.\n",
    "\n",
    "This is called “Extended Iterable Unpacking” and is available in Python 3.x."
   ]
  },
  {
   "cell_type": "code",
   "execution_count": 2,
   "id": "aed62cec",
   "metadata": {
    "ExecuteTime": {
     "end_time": "2021-08-29T20:29:32.162236Z",
     "start_time": "2021-08-29T20:29:32.154672Z"
    }
   },
   "outputs": [
    {
     "name": "stdout",
     "output_type": "stream",
     "text": [
      "1\n"
     ]
    }
   ],
   "source": [
    "a, *_, b = [1, 2, 3, 4]\n",
    "print(a)"
   ]
  },
  {
   "cell_type": "code",
   "execution_count": 3,
   "id": "318f8e96",
   "metadata": {
    "ExecuteTime": {
     "end_time": "2021-08-29T20:29:32.477959Z",
     "start_time": "2021-08-29T20:29:32.468989Z"
    }
   },
   "outputs": [
    {
     "data": {
      "text/plain": [
       "4"
      ]
     },
     "execution_count": 3,
     "metadata": {},
     "output_type": "execute_result"
    }
   ],
   "source": [
    "b"
   ]
  },
  {
   "cell_type": "code",
   "execution_count": 4,
   "id": "b0d9737d",
   "metadata": {
    "ExecuteTime": {
     "end_time": "2021-08-29T20:29:33.085409Z",
     "start_time": "2021-08-29T20:29:33.077424Z"
    }
   },
   "outputs": [
    {
     "data": {
      "text/plain": [
       "[2, 3]"
      ]
     },
     "execution_count": 4,
     "metadata": {},
     "output_type": "execute_result"
    }
   ],
   "source": [
    "_"
   ]
  }
 ],
 "metadata": {
  "kernelspec": {
   "display_name": "Python 3",
   "language": "python",
   "name": "python3"
  },
  "language_info": {
   "codemirror_mode": {
    "name": "ipython",
    "version": 3
   },
   "file_extension": ".py",
   "mimetype": "text/x-python",
   "name": "python",
   "nbconvert_exporter": "python",
   "pygments_lexer": "ipython3",
   "version": "3.8.10"
  },
  "toc": {
   "base_numbering": 1,
   "nav_menu": {},
   "number_sections": true,
   "sideBar": true,
   "skip_h1_title": false,
   "title_cell": "Table of Contents",
   "title_sidebar": "Contents",
   "toc_cell": false,
   "toc_position": {},
   "toc_section_display": true,
   "toc_window_display": false
  }
 },
 "nbformat": 4,
 "nbformat_minor": 5
}
