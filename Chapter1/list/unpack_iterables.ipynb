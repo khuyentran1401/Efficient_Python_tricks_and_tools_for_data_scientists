{
 "cells": [
  {
   "attachments": {},
   "cell_type": "markdown",
   "id": "186ae474",
   "metadata": {},
   "source": [
    "## Unpack Iterables"
   ]
  },
  {
   "attachments": {},
   "cell_type": "markdown",
   "id": "4fd3fc18",
   "metadata": {},
   "source": [
    "![](../../img/unpack_iterable.png)"
   ]
  },
  {
   "attachments": {},
   "cell_type": "markdown",
   "id": "9a2df4c9",
   "metadata": {},
   "source": [
    "### Clean Iterables Unpacking in Python\t"
   ]
  },
  {
   "attachments": {},
   "cell_type": "markdown",
   "id": "3f8f77d8",
   "metadata": {},
   "source": [
    "Are you extracting items from an iterable using indexing?"
   ]
  },
  {
   "cell_type": "code",
   "execution_count": 7,
   "id": "9040306b",
   "metadata": {},
   "outputs": [],
   "source": [
    "l = [1, 2, 3]\n",
    "\n",
    "a = l[0]\n",
    "b = l[1]\n",
    "c = l[2]"
   ]
  },
  {
   "attachments": {},
   "cell_type": "markdown",
   "id": "b4eec524",
   "metadata": {},
   "source": [
    "A more efficient way to achieve the same result is to assign the iterable to multiple variables simultaneously."
   ]
  },
  {
   "cell_type": "code",
   "execution_count": 1,
   "id": "ea0e2588",
   "metadata": {
    "ExecuteTime": {
     "end_time": "2021-08-29T20:30:15.811626Z",
     "start_time": "2021-08-29T20:30:15.805278Z"
    }
   },
   "outputs": [],
   "source": [
    "l = [1, 2, 3]\n",
    "a, b, c = l"
   ]
  },
  {
   "cell_type": "code",
   "execution_count": 6,
   "id": "af4b2987",
   "metadata": {
    "ExecuteTime": {
     "end_time": "2021-08-29T20:30:16.113669Z",
     "start_time": "2021-08-29T20:30:16.106288Z"
    }
   },
   "outputs": [
    {
     "name": "stdout",
     "output_type": "stream",
     "text": [
      "a = 1\n",
      "b = 2\n",
      "c = 3\n"
     ]
    }
   ],
   "source": [
    "print(\"a =\", a)\n",
    "print(\"b =\", b)\n",
    "print(\"c =\", c)"
   ]
  },
  {
   "attachments": {},
   "cell_type": "markdown",
   "id": "d29bb9e9",
   "metadata": {},
   "source": [
    "This can make our code easier to read and understand, and is a common practice in Python."
   ]
  },
  {
   "attachments": {},
   "cell_type": "markdown",
   "id": "105663dd",
   "metadata": {},
   "source": [
    "### Extended Iterable Unpacking: Ignore Multiple Values when Unpacking a Python Iterable"
   ]
  },
  {
   "attachments": {},
   "cell_type": "markdown",
   "id": "d43ad717",
   "metadata": {},
   "source": [
    "If we have a longer iterable but we only want to extract the subset of the iterable, we can use the \"splat\" operator (*) to represent the elements that we don't care about:"
   ]
  },
  {
   "cell_type": "code",
   "execution_count": 11,
   "id": "aed62cec",
   "metadata": {
    "ExecuteTime": {
     "end_time": "2021-08-29T20:29:32.162236Z",
     "start_time": "2021-08-29T20:29:32.154672Z"
    }
   },
   "outputs": [],
   "source": [
    "a, *_, b = [1, 2, 3, 4]"
   ]
  },
  {
   "cell_type": "code",
   "execution_count": 13,
   "id": "091c5d41",
   "metadata": {},
   "outputs": [
    {
     "name": "stdout",
     "output_type": "stream",
     "text": [
      "a = 1\n",
      "b = 4\n",
      "_ = [2, 3]\n"
     ]
    }
   ],
   "source": [
    "print(\"a =\", a)\n",
    "print(\"b =\", b)\n",
    "print(\"_ =\", _)"
   ]
  }
 ],
 "metadata": {
  "kernelspec": {
   "display_name": "venv",
   "language": "python",
   "name": "python3"
  },
  "language_info": {
   "codemirror_mode": {
    "name": "ipython",
    "version": 3
   },
   "file_extension": ".py",
   "mimetype": "text/x-python",
   "name": "python",
   "nbconvert_exporter": "python",
   "pygments_lexer": "ipython3",
   "version": "3.9.6"
  },
  "toc": {
   "base_numbering": 1,
   "nav_menu": {},
   "number_sections": true,
   "sideBar": true,
   "skip_h1_title": false,
   "title_cell": "Table of Contents",
   "title_sidebar": "Contents",
   "toc_cell": false,
   "toc_position": {},
   "toc_section_display": true,
   "toc_window_display": false
  },
  "vscode": {
   "interpreter": {
    "hash": "c3bc044b9863ed6dec4c55e7ad5af27f030f7d27aed3f39d7a4886a926c4e2c1"
   }
  }
 },
 "nbformat": 4,
 "nbformat_minor": 5
}
