{
 "cells": [
  {
   "cell_type": "markdown",
   "id": "a017c797",
   "metadata": {},
   "source": [
    "## Good Practices"
   ]
  },
  {
   "cell_type": "markdown",
   "id": "277cc52f",
   "metadata": {},
   "source": [
    "### Stop using = operator to create a copy of a Python list. Use copy method instead"
   ]
  },
  {
   "cell_type": "markdown",
   "id": "f611329b",
   "metadata": {},
   "source": [
    "When you create a copy of a Python list using the `=` operator, a change in the new list will lead to the change in the old list. It is because both lists point to the same object."
   ]
  },
  {
   "cell_type": "code",
   "execution_count": 7,
   "id": "ea715534",
   "metadata": {
    "ExecuteTime": {
     "end_time": "2021-08-29T21:35:28.438832Z",
     "start_time": "2021-08-29T21:35:28.431700Z"
    }
   },
   "outputs": [],
   "source": [
    "l1 = [1, 2, 3]\n",
    "l2 = l1 \n",
    "l2.append(4)"
   ]
  },
  {
   "cell_type": "code",
   "execution_count": 8,
   "id": "93514799",
   "metadata": {
    "ExecuteTime": {
     "end_time": "2021-08-29T21:35:34.251541Z",
     "start_time": "2021-08-29T21:35:34.242374Z"
    }
   },
   "outputs": [
    {
     "data": {
      "text/plain": [
       "[1, 2, 3, 4]"
      ]
     },
     "execution_count": 8,
     "metadata": {},
     "output_type": "execute_result"
    }
   ],
   "source": [
    "l2 "
   ]
  },
  {
   "cell_type": "code",
   "execution_count": 9,
   "id": "66cd0eba",
   "metadata": {
    "ExecuteTime": {
     "end_time": "2021-08-29T21:35:38.361689Z",
     "start_time": "2021-08-29T21:35:38.353163Z"
    }
   },
   "outputs": [
    {
     "data": {
      "text/plain": [
       "[1, 2, 3, 4]"
      ]
     },
     "execution_count": 9,
     "metadata": {},
     "output_type": "execute_result"
    }
   ],
   "source": [
    "l1 "
   ]
  },
  {
   "cell_type": "markdown",
   "id": "ebbde94f",
   "metadata": {},
   "source": [
    "Instead of using `=` operator, use `copy()` method. Now your old list will not change when you change your new list. "
   ]
  },
  {
   "cell_type": "code",
   "execution_count": 10,
   "id": "11c5badf",
   "metadata": {
    "ExecuteTime": {
     "end_time": "2021-08-29T21:35:53.291033Z",
     "start_time": "2021-08-29T21:35:53.285624Z"
    }
   },
   "outputs": [],
   "source": [
    "l1 = [1, 2, 3]\n",
    "l2 = l1.copy()\n",
    "l2.append(4)"
   ]
  },
  {
   "cell_type": "code",
   "execution_count": 11,
   "id": "17717e73",
   "metadata": {
    "ExecuteTime": {
     "end_time": "2021-08-29T21:35:55.258140Z",
     "start_time": "2021-08-29T21:35:55.249394Z"
    }
   },
   "outputs": [
    {
     "data": {
      "text/plain": [
       "[1, 2, 3, 4]"
      ]
     },
     "execution_count": 11,
     "metadata": {},
     "output_type": "execute_result"
    }
   ],
   "source": [
    "l2 "
   ]
  },
  {
   "cell_type": "code",
   "execution_count": 12,
   "id": "70138939",
   "metadata": {
    "ExecuteTime": {
     "end_time": "2021-08-29T21:35:57.099547Z",
     "start_time": "2021-08-29T21:35:57.090172Z"
    }
   },
   "outputs": [
    {
     "data": {
      "text/plain": [
       "[1, 2, 3]"
      ]
     },
     "execution_count": 12,
     "metadata": {},
     "output_type": "execute_result"
    }
   ],
   "source": [
    "l1"
   ]
  },
  {
   "cell_type": "markdown",
   "id": "a39ab917",
   "metadata": {},
   "source": [
    "### deepcopy: Copy a Nested Object"
   ]
  },
  {
   "cell_type": "markdown",
   "id": "bba77363",
   "metadata": {},
   "source": [
    "If you want to create a copy of a nested object, use `deepcopy`. While `copy` creates a shallow copy of the original object, `deepcopy` creates a deep copy of the original object. This means that if you change the nested children of a shallow copy, the original object will also change. However, if you change the nested children of a deep copy, the original object will not change."
   ]
  },
  {
   "cell_type": "code",
   "execution_count": 13,
   "id": "a63c3eff",
   "metadata": {},
   "outputs": [],
   "source": [
    "from copy import deepcopy\n",
    "\n",
    "l1 = [1, 2, [3, 4]]\n",
    "l2 = l1.copy() # Create a shallow copy"
   ]
  },
  {
   "cell_type": "code",
   "execution_count": 14,
   "id": "b5ecaf18",
   "metadata": {},
   "outputs": [
    {
     "data": {
      "text/plain": [
       "[6, 2, [3, 4, 5]]"
      ]
     },
     "execution_count": 14,
     "metadata": {},
     "output_type": "execute_result"
    }
   ],
   "source": [
    "l2[0] = 6\n",
    "l2[2].append(5)\n",
    "l2 "
   ]
  },
  {
   "cell_type": "code",
   "execution_count": 15,
   "id": "835f5291",
   "metadata": {},
   "outputs": [
    {
     "data": {
      "text/plain": [
       "[1, 2, [3, 4, 5]]"
      ]
     },
     "execution_count": 15,
     "metadata": {},
     "output_type": "execute_result"
    }
   ],
   "source": [
    "# [3, 4] becomes [3, 4, 5]\n",
    "l1 "
   ]
  },
  {
   "cell_type": "code",
   "execution_count": 4,
   "id": "fe90a91c",
   "metadata": {},
   "outputs": [],
   "source": [
    "l1 = [1, 2, [3, 4]]\n",
    "l3 = deepcopy(l1) # Create a deep copy"
   ]
  },
  {
   "cell_type": "code",
   "execution_count": 5,
   "id": "13e88650",
   "metadata": {},
   "outputs": [
    {
     "data": {
      "text/plain": [
       "[1, 2, [3, 4, 5]]"
      ]
     },
     "execution_count": 5,
     "metadata": {},
     "output_type": "execute_result"
    }
   ],
   "source": [
    "l3[2].append(5)\n",
    "l3  "
   ]
  },
  {
   "cell_type": "code",
   "execution_count": 6,
   "id": "2dfdfde8",
   "metadata": {},
   "outputs": [
    {
     "data": {
      "text/plain": [
       "[1, 2, [3, 4]]"
      ]
     },
     "execution_count": 6,
     "metadata": {},
     "output_type": "execute_result"
    }
   ],
   "source": [
    "# l1 stays the same\n",
    "l1 "
   ]
  },
  {
   "cell_type": "markdown",
   "id": "8ddebcb2",
   "metadata": {},
   "source": [
    "### Enumerate: Get Counter and Value While Looping\n"
   ]
  },
  {
   "cell_type": "markdown",
   "id": "96c91e29",
   "metadata": {},
   "source": [
    "Are you using `for i in range(len(array))` to access both the index and the value of the array? If so, use `enumerate` instead. It produces the same result but it is much cleaner. "
   ]
  },
  {
   "cell_type": "code",
   "execution_count": 13,
   "id": "44ee4a4a",
   "metadata": {
    "ExecuteTime": {
     "end_time": "2021-08-29T21:47:17.142382Z",
     "start_time": "2021-08-29T21:47:17.131265Z"
    }
   },
   "outputs": [
    {
     "name": "stdout",
     "output_type": "stream",
     "text": [
      "0 a\n",
      "1 b\n",
      "2 c\n",
      "3 d\n",
      "4 e\n"
     ]
    }
   ],
   "source": [
    "arr = ['a', 'b', 'c', 'd', 'e']\n",
    "\n",
    "# Instead of this\n",
    "for i in range(len(arr)):\n",
    "    print(i, arr[i])"
   ]
  },
  {
   "cell_type": "code",
   "execution_count": 14,
   "id": "326acdd8",
   "metadata": {
    "ExecuteTime": {
     "end_time": "2021-08-29T21:47:19.212704Z",
     "start_time": "2021-08-29T21:47:19.204724Z"
    }
   },
   "outputs": [
    {
     "name": "stdout",
     "output_type": "stream",
     "text": [
      "0 a\n",
      "1 b\n",
      "2 c\n",
      "3 d\n",
      "4 e\n"
     ]
    }
   ],
   "source": [
    "# Use this\n",
    "for i, val in enumerate(arr):\n",
    "    print(i, val)"
   ]
  },
  {
   "cell_type": "markdown",
   "id": "eb3af17d",
   "metadata": {},
   "source": [
    "### Difference between list append and list extend"
   ]
  },
  {
   "cell_type": "markdown",
   "id": "3124f295",
   "metadata": {},
   "source": [
    "If you want to add a list to another list, use the `append` method. To add elements of a list to another list, use the `extend` method."
   ]
  },
  {
   "cell_type": "code",
   "execution_count": 19,
   "id": "dbc34797",
   "metadata": {
    "ExecuteTime": {
     "end_time": "2021-08-29T21:51:52.491706Z",
     "start_time": "2021-08-29T21:51:52.483087Z"
    }
   },
   "outputs": [
    {
     "data": {
      "text/plain": [
       "[1, 2, 3, 4, [5, 6]]"
      ]
     },
     "execution_count": 19,
     "metadata": {},
     "output_type": "execute_result"
    }
   ],
   "source": [
    "# Add a list to a list\n",
    "a = [1, 2, 3, 4]\n",
    "a.append([5, 6])\n",
    "a"
   ]
  },
  {
   "cell_type": "code",
   "execution_count": 20,
   "id": "fd376870",
   "metadata": {
    "ExecuteTime": {
     "end_time": "2021-08-29T21:51:59.395984Z",
     "start_time": "2021-08-29T21:51:59.386833Z"
    }
   },
   "outputs": [
    {
     "data": {
      "text/plain": [
       "[1, 2, 3, 4, 5, 6]"
      ]
     },
     "execution_count": 20,
     "metadata": {},
     "output_type": "execute_result"
    }
   ],
   "source": [
    "a = [1, 2, 3, 4]\n",
    "a.extend([5, 6])\n",
    "\n",
    "a"
   ]
  }
 ],
 "metadata": {
  "kernelspec": {
   "display_name": "Python 3 (ipykernel)",
   "language": "python",
   "name": "python3"
  },
  "language_info": {
   "codemirror_mode": {
    "name": "ipython",
    "version": 3
   },
   "file_extension": ".py",
   "mimetype": "text/x-python",
   "name": "python",
   "nbconvert_exporter": "python",
   "pygments_lexer": "ipython3",
   "version": "3.8.10"
  },
  "toc": {
   "base_numbering": 1,
   "nav_menu": {},
   "number_sections": true,
   "sideBar": true,
   "skip_h1_title": false,
   "title_cell": "Table of Contents",
   "title_sidebar": "Contents",
   "toc_cell": false,
   "toc_position": {},
   "toc_section_display": true,
   "toc_window_display": false
  }
 },
 "nbformat": 4,
 "nbformat_minor": 5
}
