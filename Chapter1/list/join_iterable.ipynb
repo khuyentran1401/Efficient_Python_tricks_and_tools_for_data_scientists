{
 "cells": [
  {
   "cell_type": "markdown",
   "id": "73b04efb",
   "metadata": {},
   "source": [
    "## Join Iterables"
   ]
  },
  {
   "cell_type": "markdown",
   "id": "4a2b27a6",
   "metadata": {},
   "source": [
    "### join method: Turn an Iterable into a Python String"
   ]
  },
  {
   "cell_type": "markdown",
   "id": "1db58e0e",
   "metadata": {},
   "source": [
    "If you want to turn an iterable into a string, use `join()`.\n",
    "\n",
    "In the code below, I join elements in the list `fruits` using “, “."
   ]
  },
  {
   "cell_type": "code",
   "execution_count": 3,
   "id": "07621ccf",
   "metadata": {
    "ExecuteTime": {
     "end_time": "2021-08-29T21:21:42.794002Z",
     "start_time": "2021-08-29T21:21:42.786264Z"
    }
   },
   "outputs": [
    {
     "name": "stdout",
     "output_type": "stream",
     "text": [
      "Today, I need to get some apples, oranges, grapes in the grocery store\n"
     ]
    }
   ],
   "source": [
    "fruits = ['apples', 'oranges', 'grapes']\n",
    "\n",
    "fruits_str = ', '.join(fruits)\n",
    "\n",
    "print(f\"Today, I need to get some {fruits_str} in the grocery store\")"
   ]
  },
  {
   "cell_type": "markdown",
   "id": "4917fe91",
   "metadata": {},
   "source": [
    "### Zip: Associate Elements from Two Iterators based on the Order"
   ]
  },
  {
   "cell_type": "markdown",
   "id": "69b0a96d",
   "metadata": {},
   "source": [
    "If you want to associate elements from two iterators based on the order, combine `list` and `zip`. "
   ]
  },
  {
   "cell_type": "code",
   "execution_count": 1,
   "id": "81f7ad15",
   "metadata": {
    "ExecuteTime": {
     "end_time": "2021-09-11T14:56:38.902282Z",
     "start_time": "2021-09-11T14:56:38.872285Z"
    }
   },
   "outputs": [
    {
     "data": {
      "text/plain": [
       "[(1, 'a'), (2, 'b'), (3, 'c'), (4, 'd')]"
      ]
     },
     "execution_count": 1,
     "metadata": {},
     "output_type": "execute_result"
    }
   ],
   "source": [
    "nums = [1, 2, 3, 4]\n",
    "string = \"abcd\"\n",
    "combinations = list(zip(nums, string))\n",
    "combinations"
   ]
  },
  {
   "cell_type": "markdown",
   "id": "f430f3cf",
   "metadata": {},
   "source": [
    "### Unzip a List of Iterables"
   ]
  },
  {
   "cell_type": "markdown",
   "id": "589eac17",
   "metadata": {},
   "source": [
    "You can turn a list of iterables into 2 separate iterables using `zip(*list)`.\n"
   ]
  },
  {
   "cell_type": "code",
   "execution_count": 1,
   "id": "09a8d7e5",
   "metadata": {
    "ExecuteTime": {
     "end_time": "2022-03-26T13:35:40.104986Z",
     "start_time": "2022-03-26T13:35:40.090566Z"
    }
   },
   "outputs": [],
   "source": [
    "comb = [(1, 'a'), (2, 'b'), (3, 'c'), (4, 'd')]"
   ]
  },
  {
   "cell_type": "code",
   "execution_count": 3,
   "id": "193fb239",
   "metadata": {
    "ExecuteTime": {
     "end_time": "2022-03-26T13:35:52.281614Z",
     "start_time": "2022-03-26T13:35:52.273189Z"
    }
   },
   "outputs": [
    {
     "data": {
      "text/plain": [
       "(1, 2, 3, 4)"
      ]
     },
     "execution_count": 3,
     "metadata": {},
     "output_type": "execute_result"
    }
   ],
   "source": [
    "nums_2, chars_2 = zip(*comb)\n",
    "nums_2"
   ]
  },
  {
   "cell_type": "code",
   "execution_count": 4,
   "id": "0bd94e6c",
   "metadata": {
    "ExecuteTime": {
     "end_time": "2022-03-26T13:35:55.822472Z",
     "start_time": "2022-03-26T13:35:55.813216Z"
    }
   },
   "outputs": [
    {
     "data": {
      "text/plain": [
       "('a', 'b', 'c', 'd')"
      ]
     },
     "execution_count": 4,
     "metadata": {},
     "output_type": "execute_result"
    }
   ],
   "source": [
    "chars_2"
   ]
  }
 ],
 "metadata": {
  "kernelspec": {
   "display_name": "Python 3",
   "language": "python",
   "name": "python3"
  },
  "language_info": {
   "codemirror_mode": {
    "name": "ipython",
    "version": 3
   },
   "file_extension": ".py",
   "mimetype": "text/x-python",
   "name": "python",
   "nbconvert_exporter": "python",
   "pygments_lexer": "ipython3",
   "version": "3.8.10"
  },
  "toc": {
   "base_numbering": 1,
   "nav_menu": {},
   "number_sections": true,
   "sideBar": true,
   "skip_h1_title": false,
   "title_cell": "Table of Contents",
   "title_sidebar": "Contents",
   "toc_cell": false,
   "toc_position": {},
   "toc_section_display": true,
   "toc_window_display": false
  }
 },
 "nbformat": 4,
 "nbformat_minor": 5
}
