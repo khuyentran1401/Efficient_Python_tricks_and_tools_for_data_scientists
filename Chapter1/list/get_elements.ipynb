{
 "cells": [
  {
   "cell_type": "markdown",
   "id": "be738a2f",
   "metadata": {},
   "source": [
    "## Get Elements"
   ]
  },
  {
   "cell_type": "markdown",
   "id": "4d5c8f66",
   "metadata": {},
   "source": [
    "### random.choice: Get a Randomly Selected Element From a Python List"
   ]
  },
  {
   "cell_type": "markdown",
   "id": "cc923ff2",
   "metadata": {},
   "source": [
    "Besides getting a random number, you can also get a random element from a Python list using random. In the code below, “stay at home” was picked randomly from a list of options."
   ]
  },
  {
   "cell_type": "code",
   "execution_count": 3,
   "id": "79af4e1f",
   "metadata": {
    "ExecuteTime": {
     "end_time": "2021-08-29T21:00:55.223288Z",
     "start_time": "2021-08-29T21:00:55.219430Z"
    }
   },
   "outputs": [
    {
     "data": {
      "text/plain": [
       "'attend party'"
      ]
     },
     "execution_count": 3,
     "metadata": {},
     "output_type": "execute_result"
    }
   ],
   "source": [
    "import random \n",
    "\n",
    "to_do_tonight = ['stay at home', 'attend party', 'do exercise']\n",
    "\n",
    "random.choice(to_do_tonight)"
   ]
  },
  {
   "cell_type": "markdown",
   "id": "dc955503",
   "metadata": {},
   "source": [
    "### random.choices: Get Weighted Random Choices From a Python List"
   ]
  },
  {
   "cell_type": "markdown",
   "id": "a4f67942",
   "metadata": {},
   "source": [
    "If you want to get a list of random elements from a specific list, use `random.choices`. This method also allows you to weigh the possibility for each value with the `weights` parameter."
   ]
  },
  {
   "cell_type": "markdown",
   "id": "80bfb908",
   "metadata": {},
   "source": [
    "In the code below, I use `random.choices` to get a list of 10 random values. 0 is two times more likely to be selected than 1 and is ten times more likely to be selected than 2. "
   ]
  },
  {
   "cell_type": "code",
   "execution_count": 9,
   "id": "178858d3",
   "metadata": {},
   "outputs": [
    {
     "data": {
      "text/plain": [
       "[0, 0, 1, 0, 0, 1, 1, 0, 0, 0]"
      ]
     },
     "execution_count": 9,
     "metadata": {},
     "output_type": "execute_result"
    }
   ],
   "source": [
    "import random \n",
    "\n",
    "random.choices([0, 1, 2], weights=[10, 5, 1], k=10)"
   ]
  },
  {
   "cell_type": "markdown",
   "id": "c9c4b164",
   "metadata": {},
   "source": [
    "### random.sample: Get Multiple Random Elements from a Python List"
   ]
  },
  {
   "cell_type": "markdown",
   "id": "e7cfbefe",
   "metadata": {
    "ExecuteTime": {
     "end_time": "2021-08-29T21:00:55.233840Z",
     "start_time": "2021-08-29T21:00:55.231526Z"
    }
   },
   "source": [
    "If you want to get n random elements from a list, use `random.sample`."
   ]
  },
  {
   "cell_type": "code",
   "execution_count": 1,
   "id": "68fc12fd",
   "metadata": {
    "ExecuteTime": {
     "end_time": "2021-09-11T14:41:52.347307Z",
     "start_time": "2021-09-11T14:41:52.314500Z"
    }
   },
   "outputs": [
    {
     "data": {
      "text/plain": [
       "[2, 1]"
      ]
     },
     "execution_count": 1,
     "metadata": {},
     "output_type": "execute_result"
    }
   ],
   "source": [
    "import random\n",
    "\n",
    "random.seed(1)\n",
    "nums = [1, 2, 3, 4, 5]\n",
    "random_nums = random.sample(nums, 2)\n",
    "random_nums"
   ]
  },
  {
   "cell_type": "markdown",
   "id": "4310eaf6",
   "metadata": {},
   "source": [
    "### heapq: Find n Max Values of a Python List"
   ]
  },
  {
   "cell_type": "markdown",
   "id": "25efcffd",
   "metadata": {},
   "source": [
    "If you want to extract n max values from a large Python list, using `heapq` will speed up the code.\n",
    "\n",
    "In the code below, using heapq is more than 2 times faster than using sorting and indexing. Both methods try to find the max values of a list of 10000 items.\n"
   ]
  },
  {
   "cell_type": "code",
   "execution_count": 1,
   "id": "4c011275",
   "metadata": {
    "ExecuteTime": {
     "end_time": "2021-10-16T13:53:09.579545Z",
     "start_time": "2021-10-16T13:53:09.546946Z"
    }
   },
   "outputs": [],
   "source": [
    "import heapq\n",
    "import random\n",
    "from timeit import timeit\n",
    "\n",
    "random.seed(0)\n",
    "l = random.sample(range(0, 10000), 10000)\n",
    "\n",
    "def get_n_max_sorting(l: list, n: int):\n",
    "    l = sorted(l, reverse=True)\n",
    "    return l[:n]\n",
    "\n",
    "def get_n_max_heapq(l: list, n: int):\n",
    "    return heapq.nlargest(n, l)"
   ]
  },
  {
   "cell_type": "code",
   "execution_count": 2,
   "id": "547e1441",
   "metadata": {
    "ExecuteTime": {
     "end_time": "2021-10-16T13:53:12.283830Z",
     "start_time": "2021-10-16T13:53:10.844308Z"
    }
   },
   "outputs": [
    {
     "name": "stdout",
     "output_type": "stream",
     "text": [
      "Run 1000 experiments. Using heapq is 2.827 times faster than using sorting\n"
     ]
    }
   ],
   "source": [
    "expSize = 1000\n",
    "n = 100\n",
    "time_sorting = timeit(\"get_n_max_sorting(l, n)\", number=expSize,\n",
    "                        globals=globals())\n",
    "time_heapq = timeit('get_n_max_heapq(l, n)', number=expSize,\n",
    "                    globals=globals())\n",
    "\n",
    "ratio = round(time_sorting/time_heapq, 3)\n",
    "print(f'Run {expSize} experiments. Using heapq is {ratio} times'\n",
    "' faster than using sorting')"
   ]
  }
 ],
 "metadata": {
  "celltoolbar": "Tags",
  "kernelspec": {
   "display_name": "Python 3.8.9 ('venv': venv)",
   "language": "python",
   "name": "python3"
  },
  "language_info": {
   "codemirror_mode": {
    "name": "ipython",
    "version": 3
   },
   "file_extension": ".py",
   "mimetype": "text/x-python",
   "name": "python",
   "nbconvert_exporter": "python",
   "pygments_lexer": "ipython3",
   "version": "3.8.9"
  },
  "toc": {
   "base_numbering": 1,
   "nav_menu": {},
   "number_sections": true,
   "sideBar": true,
   "skip_h1_title": false,
   "title_cell": "Table of Contents",
   "title_sidebar": "Contents",
   "toc_cell": false,
   "toc_position": {},
   "toc_section_display": true,
   "toc_window_display": false
  },
  "vscode": {
   "interpreter": {
    "hash": "484329849bb907480cd798e750759bc6f1d66c93f9e78e7055aa0a2c2de6b47b"
   }
  }
 },
 "nbformat": 4,
 "nbformat_minor": 5
}
