{
 "cells": [
  {
   "attachments": {},
   "cell_type": "markdown",
   "id": "8bf67c54",
   "metadata": {},
   "source": [
    "## Apply Functions to Elements in a List"
   ]
  },
  {
   "attachments": {},
   "cell_type": "markdown",
   "id": "5871334f",
   "metadata": {},
   "source": [
    "### any: Check if Any Element of an Iterable is True"
   ]
  },
  {
   "attachments": {},
   "cell_type": "markdown",
   "id": "f6e71d5b",
   "metadata": {},
   "source": [
    "If you want to check if any element of an iterable is True, use any. In the code below, I use any to find if any element in the text is in uppercase."
   ]
  },
  {
   "cell_type": "code",
   "execution_count": 1,
   "id": "02642496",
   "metadata": {
    "ExecuteTime": {
     "end_time": "2021-10-19T14:45:33.264781Z",
     "start_time": "2021-10-19T14:45:33.232056Z"
    }
   },
   "outputs": [
    {
     "data": {
      "text/plain": [
       "True"
      ]
     },
     "execution_count": 1,
     "metadata": {},
     "output_type": "execute_result"
    }
   ],
   "source": [
    "text = \"abcdE\"\n",
    "any(c.isupper() for c in text)"
   ]
  },
  {
   "attachments": {},
   "cell_type": "markdown",
   "id": "43d9eb9f",
   "metadata": {},
   "source": [
    "### all: Check if All Elements of an Interable Are Strings"
   ]
  },
  {
   "attachments": {},
   "cell_type": "markdown",
   "id": "c412cdcc",
   "metadata": {},
   "source": [
    "If you want to check if all elements of an iterable are strings, use `all` and `isinstance`."
   ]
  },
  {
   "cell_type": "code",
   "execution_count": 3,
   "id": "a4e86b08",
   "metadata": {
    "ExecuteTime": {
     "end_time": "2021-09-28T13:55:51.290759Z",
     "start_time": "2021-09-28T13:55:51.280498Z"
    }
   },
   "outputs": [
    {
     "data": {
      "text/plain": [
       "False"
      ]
     },
     "execution_count": 3,
     "metadata": {},
     "output_type": "execute_result"
    }
   ],
   "source": [
    "l = ['a', 'b', 1, 2]\n",
    "\n",
    "all(isinstance(item, str) for item in l)"
   ]
  },
  {
   "attachments": {},
   "cell_type": "markdown",
   "id": "c7369dc1",
   "metadata": {},
   "source": [
    "### filter: Get the Elements of an Iterable that a Function Evaluates True"
   ]
  },
  {
   "attachments": {},
   "cell_type": "markdown",
   "id": "4a247fbd",
   "metadata": {},
   "source": [
    "If you want to get only the elements of an iterable that satisfy the given condition, use filter."
   ]
  },
  {
   "cell_type": "code",
   "execution_count": 2,
   "id": "eeae5ee0",
   "metadata": {},
   "outputs": [
    {
     "data": {
      "text/plain": [
       "[2, 4]"
      ]
     },
     "execution_count": 2,
     "metadata": {},
     "output_type": "execute_result"
    }
   ],
   "source": [
    "nums = [1, 2, 3, 4, 5]\n",
    "\n",
    "# Get even numbers\n",
    "list(filter(lambda num: num % 2 == 0, nums))"
   ]
  },
  {
   "attachments": {},
   "cell_type": "markdown",
   "id": "16fc6d0c",
   "metadata": {},
   "source": [
    "### map method: Apply a Function to Each Item of an Iterable"
   ]
  },
  {
   "attachments": {},
   "cell_type": "markdown",
   "id": "27081162",
   "metadata": {},
   "source": [
    "If you want to apply a function to each element of an iterable, use `map`."
   ]
  },
  {
   "cell_type": "code",
   "execution_count": 3,
   "id": "25bbf250",
   "metadata": {
    "ExecuteTime": {
     "end_time": "2021-10-19T14:48:23.028401Z",
     "start_time": "2021-10-19T14:48:23.018515Z"
    }
   },
   "outputs": [
    {
     "data": {
      "text/plain": [
       "[2, 4, 6, 8, 10]"
      ]
     },
     "execution_count": 3,
     "metadata": {},
     "output_type": "execute_result"
    }
   ],
   "source": [
    "nums = [1, 2, 3, 4, 5]\n",
    "\n",
    "# Multiply every number by 2\n",
    "list(map(lambda num: num * 2, nums))"
   ]
  },
  {
   "attachments": {},
   "cell_type": "markdown",
   "id": "ac487597",
   "metadata": {},
   "source": [
    "### sort: Sort a List of Tuples by the First or Second Item"
   ]
  },
  {
   "attachments": {},
   "cell_type": "markdown",
   "id": "c45f86ed",
   "metadata": {},
   "source": [
    "If you want to sort a list of tuples by the first or second item in a tuple, use the `sort` method. To specify which item to sort by, use the `key` parameter."
   ]
  },
  {
   "cell_type": "code",
   "execution_count": 8,
   "id": "a8553089",
   "metadata": {
    "ExecuteTime": {
     "end_time": "2021-10-21T13:13:57.980047Z",
     "start_time": "2021-10-21T13:13:57.965473Z"
    }
   },
   "outputs": [
    {
     "data": {
      "text/plain": [
       "[('apple', 3), ('banana', 2), ('grape', 3), ('orange', 1)]"
      ]
     },
     "execution_count": 8,
     "metadata": {},
     "output_type": "execute_result"
    }
   ],
   "source": [
    "prices = [('apple', 3), ('orange', 1), ('grape', 3), ('banana', 2)]\n",
    "\n",
    "# Sort by the first item\n",
    "by_letter = lambda x: x[0]\n",
    "prices.sort(key=by_letter)\n",
    "prices"
   ]
  },
  {
   "cell_type": "code",
   "execution_count": 9,
   "id": "f9cb2e79",
   "metadata": {
    "ExecuteTime": {
     "end_time": "2021-10-21T13:13:59.084887Z",
     "start_time": "2021-10-21T13:13:59.072254Z"
    }
   },
   "outputs": [
    {
     "data": {
      "text/plain": [
       "[('apple', 3), ('grape', 3), ('banana', 2), ('orange', 1)]"
      ]
     },
     "execution_count": 9,
     "metadata": {},
     "output_type": "execute_result"
    }
   ],
   "source": [
    "# Sort by the second item in reversed order\n",
    "by_price = lambda x: x[1]\n",
    "prices.sort(key=by_price, reverse=True)\n",
    "prices"
   ]
  },
  {
   "attachments": {},
   "cell_type": "markdown",
   "id": "76e8e609",
   "metadata": {},
   "source": [
    "### Use any and List Comprehension Instead of an If-Else Statement "
   ]
  },
  {
   "attachments": {},
   "cell_type": "markdown",
   "id": "2376b557",
   "metadata": {},
   "source": [
    "If you want to check whether a statement is `True` for one or more items in a list, using `any` and list comprehension is simpler than using a for-loop and an if-else statement. "
   ]
  },
  {
   "cell_type": "code",
   "execution_count": 1,
   "id": "511dd4b4",
   "metadata": {},
   "outputs": [
    {
     "data": {
      "text/plain": [
       "True"
      ]
     },
     "execution_count": 1,
     "metadata": {},
     "output_type": "execute_result"
    }
   ],
   "source": [
    "FRUITS = ['apple', 'orange', 'grape']\n",
    "\n",
    "def check_mention_fruit_1(text: str):\n",
    "    for fruit in FRUITS:\n",
    "        if fruit in text:\n",
    "            return True \n",
    "\n",
    "check_mention_fruit_1('I got an apple.')"
   ]
  },
  {
   "cell_type": "code",
   "execution_count": 2,
   "id": "5b9e5de0",
   "metadata": {},
   "outputs": [
    {
     "data": {
      "text/plain": [
       "True"
      ]
     },
     "execution_count": 2,
     "metadata": {},
     "output_type": "execute_result"
    }
   ],
   "source": [
    "def check_mention_fruit_2(text: str):\n",
    "    \n",
    "    return any(fruit in text for fruit in FRUITS)\n",
    "\n",
    "check_mention_fruit_2('I got an apple.')"
   ]
  },
  {
   "cell_type": "code",
   "execution_count": 2,
   "id": "83c6ed89",
   "metadata": {},
   "outputs": [
    {
     "data": {
      "text/plain": [
       "16"
      ]
     },
     "execution_count": 2,
     "metadata": {},
     "output_type": "execute_result"
    }
   ],
   "source": [
    "sum([1, 2, 3], start=10)"
   ]
  }
 ],
 "metadata": {
  "kernelspec": {
   "display_name": "venv10",
   "language": "python",
   "name": "python3"
  },
  "language_info": {
   "codemirror_mode": {
    "name": "ipython",
    "version": 3
   },
   "file_extension": ".py",
   "mimetype": "text/x-python",
   "name": "python",
   "nbconvert_exporter": "python",
   "pygments_lexer": "ipython3",
   "version": "3.9.6"
  },
  "toc": {
   "base_numbering": 1,
   "nav_menu": {},
   "number_sections": true,
   "sideBar": true,
   "skip_h1_title": false,
   "title_cell": "Table of Contents",
   "title_sidebar": "Contents",
   "toc_cell": false,
   "toc_position": {},
   "toc_section_display": true,
   "toc_window_display": false
  },
  "vscode": {
   "interpreter": {
    "hash": "d6a96ce68c970cae990647c45cc45d64b784e86f5f9a92793bf4f0dc9212a740"
   }
  }
 },
 "nbformat": 4,
 "nbformat_minor": 5
}
