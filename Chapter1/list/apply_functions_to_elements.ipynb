{
 "cells": [
  {
   "cell_type": "markdown",
   "id": "8bf67c54",
   "metadata": {},
   "source": [
    "## Apply Functions to Elements in a List"
   ]
  },
  {
   "cell_type": "markdown",
   "id": "5871334f",
   "metadata": {},
   "source": [
    "### any: Check if Any Element of an Iterable is True"
   ]
  },
  {
   "cell_type": "markdown",
   "id": "f6e71d5b",
   "metadata": {},
   "source": [
    "If you want to check if any element of an iterable is True, use any. In the code below, I use any to find if any element in the text is in uppercase."
   ]
  },
  {
   "cell_type": "code",
   "execution_count": 9,
   "id": "02642496",
   "metadata": {
    "ExecuteTime": {
     "end_time": "2021-10-18T14:32:02.815137Z",
     "start_time": "2021-10-18T14:32:02.804700Z"
    }
   },
   "outputs": [
    {
     "data": {
      "text/plain": [
       "True"
      ]
     },
     "execution_count": 9,
     "metadata": {},
     "output_type": "execute_result"
    }
   ],
   "source": [
    "text = \"abcdE\"\n",
    "any(c for c in text if c.isupper())"
   ]
  },
  {
   "cell_type": "markdown",
   "id": "43d9eb9f",
   "metadata": {},
   "source": [
    "### all: Check if All Elements of an Interable Are Strings"
   ]
  },
  {
   "cell_type": "markdown",
   "id": "c412cdcc",
   "metadata": {},
   "source": [
    "If you want to check if all elements of an iterable are strings, use `all` and `isinstance`."
   ]
  },
  {
   "cell_type": "code",
   "execution_count": 3,
   "id": "a4e86b08",
   "metadata": {
    "ExecuteTime": {
     "end_time": "2021-09-28T13:55:51.290759Z",
     "start_time": "2021-09-28T13:55:51.280498Z"
    }
   },
   "outputs": [
    {
     "data": {
      "text/plain": [
       "False"
      ]
     },
     "execution_count": 3,
     "metadata": {},
     "output_type": "execute_result"
    }
   ],
   "source": [
    "l = ['a', 'b', 1, 2]\n",
    "\n",
    "all(isinstance(item, str) for item in l)"
   ]
  },
  {
   "cell_type": "markdown",
   "id": "c7369dc1",
   "metadata": {},
   "source": [
    "### filter: Get the Elements of an Iterable that a Function Returns True"
   ]
  },
  {
   "cell_type": "markdown",
   "id": "4a247fbd",
   "metadata": {},
   "source": [
    "If you want to get the elements of an iterable that a function returns true, use filter.\n",
    "\n",
    "In the code below, I use the filter method to get items that are fruits."
   ]
  },
  {
   "cell_type": "code",
   "execution_count": 2,
   "id": "64c6e6ac",
   "metadata": {
    "ExecuteTime": {
     "end_time": "2021-08-29T21:00:55.192853Z",
     "start_time": "2021-08-29T21:00:55.186031Z"
    }
   },
   "outputs": [
    {
     "name": "stdout",
     "output_type": "stream",
     "text": [
      "['apple', 'orange']\n"
     ]
    }
   ],
   "source": [
    "def get_fruit(val: str):\n",
    "    fruits = ['apple', 'orange', 'grape']\n",
    "    if val in fruits:\n",
    "        return True \n",
    "    else:\n",
    "        return False \n",
    "\n",
    "items = ['chair', 'apple', 'water', 'table', 'orange']\n",
    "fruits = filter(get_fruit, items)\n",
    "print(list(fruits))"
   ]
  },
  {
   "cell_type": "markdown",
   "id": "16fc6d0c",
   "metadata": {},
   "source": [
    "### map method: Apply a Function to Each Item of an Iterable"
   ]
  },
  {
   "cell_type": "markdown",
   "id": "27081162",
   "metadata": {},
   "source": [
    "If you want to apply the given function to each item of a given iterable, use `map`."
   ]
  },
  {
   "cell_type": "code",
   "execution_count": 7,
   "id": "25bbf250",
   "metadata": {
    "ExecuteTime": {
     "end_time": "2021-08-29T21:53:18.512946Z",
     "start_time": "2021-08-29T21:53:18.504735Z"
    }
   },
   "outputs": [
    {
     "data": {
      "text/plain": [
       "['1', '2', '3']"
      ]
     },
     "execution_count": 7,
     "metadata": {},
     "output_type": "execute_result"
    }
   ],
   "source": [
    "nums = [1, 2, 3]\n",
    "list(map(str, nums))"
   ]
  },
  {
   "cell_type": "code",
   "execution_count": 8,
   "id": "50127d36",
   "metadata": {
    "ExecuteTime": {
     "end_time": "2021-08-29T21:53:30.926429Z",
     "start_time": "2021-08-29T21:53:30.917643Z"
    }
   },
   "outputs": [
    {
     "data": {
      "text/plain": [
       "[2, 4, 6]"
      ]
     },
     "execution_count": 8,
     "metadata": {},
     "output_type": "execute_result"
    }
   ],
   "source": [
    "def multiply_by_two(num: float):\n",
    "    return num * 2\n",
    "\n",
    "\n",
    "list(map(multiply_by_two, nums))"
   ]
  }
 ],
 "metadata": {
  "kernelspec": {
   "display_name": "Python 3 (ipykernel)",
   "language": "python",
   "name": "python3"
  },
  "language_info": {
   "codemirror_mode": {
    "name": "ipython",
    "version": 3
   },
   "file_extension": ".py",
   "mimetype": "text/x-python",
   "name": "python",
   "nbconvert_exporter": "python",
   "pygments_lexer": "ipython3",
   "version": "3.8.10"
  },
  "toc": {
   "base_numbering": 1,
   "nav_menu": {},
   "number_sections": true,
   "sideBar": true,
   "skip_h1_title": false,
   "title_cell": "Table of Contents",
   "title_sidebar": "Contents",
   "toc_cell": false,
   "toc_position": {},
   "toc_section_display": true,
   "toc_window_display": false
  }
 },
 "nbformat": 4,
 "nbformat_minor": 5
}
