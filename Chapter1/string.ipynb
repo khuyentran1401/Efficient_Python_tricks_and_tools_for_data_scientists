{
 "cells": [
  {
   "attachments": {},
   "cell_type": "markdown",
   "id": "4ce57a62",
   "metadata": {},
   "source": [
    "## String"
   ]
  },
  {
   "attachments": {},
   "cell_type": "markdown",
   "id": "f61fb52b",
   "metadata": {},
   "source": [
    "![](../img/string.png)"
   ]
  },
  {
   "attachments": {},
   "cell_type": "markdown",
   "id": "e2a22bf4",
   "metadata": {},
   "source": [
    "### Control the Number of Printed Decimals with f-Strings"
   ]
  },
  {
   "attachments": {},
   "cell_type": "markdown",
   "id": "154e218b",
   "metadata": {},
   "source": [
    "If you want to limit the number of decimals being printed, use the f-string as shown below. "
   ]
  },
  {
   "cell_type": "code",
   "execution_count": 1,
   "id": "a554483a",
   "metadata": {},
   "outputs": [
    {
     "name": "stdout",
     "output_type": "stream",
     "text": [
      "2.3\n",
      "2.31\n"
     ]
    }
   ],
   "source": [
    "num = 2.3123\n",
    "print(f'{num:.1f}') # Limit to 1 decimal\n",
    "print(f'{num:.2f}') # Limit to 2 decimals"
   ]
  },
  {
   "attachments": {},
   "cell_type": "markdown",
   "id": "f70ed50c",
   "metadata": {},
   "source": [
    "### Format Dates in Python f-Strings"
   ]
  },
  {
   "attachments": {},
   "cell_type": "markdown",
   "id": "1a434398",
   "metadata": {},
   "source": [
    "When printing a Python string, f-strings allow you to format datetime easily with a curly bracket and its formats.\n",
    "\n",
    "Find all formats [here](https://docs.python.org/2/library/datetime.html#strftime-and-strptime-behavior)."
   ]
  },
  {
   "cell_type": "code",
   "execution_count": 6,
   "id": "1db4e94d",
   "metadata": {},
   "outputs": [
    {
     "name": "stdout",
     "output_type": "stream",
     "text": [
      "You need to be here at 03:30 PM on Saturday\n"
     ]
    }
   ],
   "source": [
    "from datetime import datetime\n",
    "\n",
    "date = datetime(2022, 1, 1, 15, 30, 45)\n",
    "print(f'You need to be here at'\n",
    "f' {date:%I:%M %p} on {date:%A}')"
   ]
  },
  {
   "attachments": {},
   "cell_type": "markdown",
   "id": "5dfaa739",
   "metadata": {},
   "source": [
    "### Pad a String With Zero Using f-String"
   ]
  },
  {
   "attachments": {},
   "cell_type": "markdown",
   "id": "b1276a12",
   "metadata": {},
   "source": [
    "To display a number as a two-digit with leading zeros if needed, use f'{num:02}'."
   ]
  },
  {
   "cell_type": "code",
   "execution_count": 7,
   "id": "06d3a829",
   "metadata": {},
   "outputs": [
    {
     "name": "stdout",
     "output_type": "stream",
     "text": [
      "It is 08 AM! Wake up!\n",
      "It is 09 AM! Wake up!\n",
      "It is 10 AM! Wake up!\n",
      "It is 11 AM! Wake up!\n"
     ]
    }
   ],
   "source": [
    "for hour in range(8, 12):\n",
    "    print(f'It is {hour:02} AM! Wake up!')"
   ]
  },
  {
   "attachments": {},
   "cell_type": "markdown",
   "id": "de8199eb",
   "metadata": {},
   "source": [
    "### Enhance Number Readability with f-Strings and Comma Formatting "
   ]
  },
  {
   "attachments": {},
   "cell_type": "markdown",
   "id": "d2261538",
   "metadata": {},
   "source": [
    "To increase the readability of a number with a large number of digits, you can use f-strings to display an integer with comma formatting for thousands."
   ]
  },
  {
   "cell_type": "code",
   "execution_count": 5,
   "id": "f152fc2c",
   "metadata": {},
   "outputs": [
    {
     "name": "stdout",
     "output_type": "stream",
     "text": [
      "100000000\n",
      "100,000,000\n"
     ]
    }
   ],
   "source": [
    "num = 100**4\n",
    "print(num)\n",
    "print(f\"{num:,}\")"
   ]
  },
  {
   "attachments": {},
   "cell_type": "markdown",
   "id": "531d5bd7",
   "metadata": {},
   "source": [
    "### Use Calculations in Python f-String"
   ]
  },
  {
   "attachments": {},
   "cell_type": "markdown",
   "id": "f8dce1b7",
   "metadata": {},
   "source": [
    "If you want to do calculations inside a Python string, use f-string."
   ]
  },
  {
   "cell_type": "code",
   "execution_count": 4,
   "id": "9ac34a53",
   "metadata": {},
   "outputs": [
    {
     "name": "stdout",
     "output_type": "stream",
     "text": [
      "The total price is 5.\n"
     ]
    }
   ],
   "source": [
    "apple = 3\n",
    "banana = 2\n",
    "print(f'The total price is {apple + banana}.')"
   ]
  },
  {
   "attachments": {},
   "cell_type": "markdown",
   "id": "5182e480",
   "metadata": {},
   "source": [
    "### Debug Your Python Code with an Equal Sign in an f-String"
   ]
  },
  {
   "attachments": {},
   "cell_type": "markdown",
   "id": "b6a707b5",
   "metadata": {},
   "source": [
    "It is common to use `f\"var={var}\"` to see which values are being printed."
   ]
  },
  {
   "cell_type": "code",
   "execution_count": 1,
   "id": "c277fd9e",
   "metadata": {},
   "outputs": [
    {
     "name": "stdout",
     "output_type": "stream",
     "text": [
      "i=1, j=2\n",
      "i=1, j=3\n",
      "i=2, j=1\n",
      "i=2, j=3\n",
      "i=3, j=1\n",
      "i=3, j=2\n"
     ]
    }
   ],
   "source": [
    "from itertools import permutations\n",
    "\n",
    "nums = [1, 2, 3]\n",
    "\n",
    "for i, j in permutations(nums, 2):\n",
    "    print(f\"i={i}, j={j}\")"
   ]
  },
  {
   "attachments": {},
   "cell_type": "markdown",
   "id": "05e464ae",
   "metadata": {},
   "source": [
    "In Python 3.8 and above, you can get the same outputs using `f\"{var=}\"`."
   ]
  },
  {
   "cell_type": "code",
   "execution_count": 2,
   "id": "789aa2d9",
   "metadata": {},
   "outputs": [
    {
     "name": "stdout",
     "output_type": "stream",
     "text": [
      "i=1, j=2\n",
      "i=1, j=3\n",
      "i=2, j=1\n",
      "i=2, j=3\n",
      "i=3, j=1\n",
      "i=3, j=2\n"
     ]
    }
   ],
   "source": [
    "for i, j in permutations(nums, 2):\n",
    "    print(f\"{i=}, {j=}\")"
   ]
  },
  {
   "cell_type": "code",
   "execution_count": 4,
   "id": "f888993c",
   "metadata": {},
   "outputs": [
    {
     "name": "stdout",
     "output_type": "stream",
     "text": [
      "i=0\n",
      "i=1\n",
      "i=2\n"
     ]
    }
   ],
   "source": [
    "for i in range(3):\n",
    "    print(f\"{i=}\")\n"
   ]
  },
  {
   "attachments": {},
   "cell_type": "markdown",
   "id": "e0d23e6b",
   "metadata": {},
   "source": [
    "### String find: Find The Index of a Substring in a Python String"
   ]
  },
  {
   "attachments": {},
   "cell_type": "markdown",
   "id": "c79d4896",
   "metadata": {},
   "source": [
    "If you want to find the index of a substring in a string, use `find()` method. This method will return the index of the first occurrence of the substring if found and return `-1` otherwise."
   ]
  },
  {
   "cell_type": "code",
   "execution_count": 17,
   "id": "27cde259",
   "metadata": {
    "ExecuteTime": {
     "end_time": "2021-08-29T17:27:48.012042Z",
     "start_time": "2021-08-29T17:27:48.005899Z"
    }
   },
   "outputs": [
    {
     "data": {
      "text/plain": [
       "2"
      ]
     },
     "execution_count": 17,
     "metadata": {},
     "output_type": "execute_result"
    },
    {
     "data": {
      "application/javascript": "\n            setTimeout(function() {\n                var nbb_cell_id = 17;\n                var nbb_unformatted_code = \"sentence = \\\"Today is Saturaday\\\"\\n\\n# Find the index of first occurrence of the substring\\nsentence.find(\\\"day\\\")\";\n                var nbb_formatted_code = \"sentence = \\\"Today is Saturaday\\\"\\n\\n# Find the index of first occurrence of the substring\\nsentence.find(\\\"day\\\")\";\n                var nbb_cells = Jupyter.notebook.get_cells();\n                for (var i = 0; i < nbb_cells.length; ++i) {\n                    if (nbb_cells[i].input_prompt_number == nbb_cell_id) {\n                        if (nbb_cells[i].get_text() == nbb_unformatted_code) {\n                             nbb_cells[i].set_text(nbb_formatted_code);\n                        }\n                        break;\n                    }\n                }\n            }, 500);\n            ",
      "text/plain": [
       "<IPython.core.display.Javascript object>"
      ]
     },
     "metadata": {},
     "output_type": "display_data"
    }
   ],
   "source": [
    "sentence = \"Today is Saturday\"\n",
    "\n",
    "# Find the index of first occurrence of the substring\n",
    "sentence.find(\"day\")"
   ]
  },
  {
   "cell_type": "code",
   "execution_count": 19,
   "id": "ecc0ce8a",
   "metadata": {
    "ExecuteTime": {
     "end_time": "2021-08-29T17:27:48.479178Z",
     "start_time": "2021-08-29T17:27:48.464515Z"
    }
   },
   "outputs": [
    {
     "data": {
      "text/plain": [
       "-1"
      ]
     },
     "execution_count": 19,
     "metadata": {},
     "output_type": "execute_result"
    },
    {
     "data": {
      "application/javascript": "\n            setTimeout(function() {\n                var nbb_cell_id = 19;\n                var nbb_unformatted_code = \"sentence.find(\\\"nice\\\")\\n# No substring is found\";\n                var nbb_formatted_code = \"sentence.find(\\\"nice\\\")\\n# No substring is found\";\n                var nbb_cells = Jupyter.notebook.get_cells();\n                for (var i = 0; i < nbb_cells.length; ++i) {\n                    if (nbb_cells[i].input_prompt_number == nbb_cell_id) {\n                        if (nbb_cells[i].get_text() == nbb_unformatted_code) {\n                             nbb_cells[i].set_text(nbb_formatted_code);\n                        }\n                        break;\n                    }\n                }\n            }, 500);\n            ",
      "text/plain": [
       "<IPython.core.display.Javascript object>"
      ]
     },
     "metadata": {},
     "output_type": "display_data"
    }
   ],
   "source": [
    "sentence.find(\"nice\")\n",
    "# No substring is found"
   ]
  },
  {
   "attachments": {},
   "cell_type": "markdown",
   "id": "d1ceb331",
   "metadata": {},
   "source": [
    "You can also provide the starting and stopping position of the search:"
   ]
  },
  {
   "cell_type": "code",
   "execution_count": 18,
   "id": "2b216ebb",
   "metadata": {
    "ExecuteTime": {
     "end_time": "2021-08-29T17:27:48.255682Z",
     "start_time": "2021-08-29T17:27:48.240474Z"
    }
   },
   "outputs": [
    {
     "data": {
      "text/plain": [
       "15"
      ]
     },
     "execution_count": 18,
     "metadata": {},
     "output_type": "execute_result"
    },
    {
     "data": {
      "application/javascript": "\n            setTimeout(function() {\n                var nbb_cell_id = 18;\n                var nbb_unformatted_code = \"# Start searching for the substring at index 3\\nsentence.find(\\\"day\\\", 3)\";\n                var nbb_formatted_code = \"# Start searching for the substring at index 3\\nsentence.find(\\\"day\\\", 3)\";\n                var nbb_cells = Jupyter.notebook.get_cells();\n                for (var i = 0; i < nbb_cells.length; ++i) {\n                    if (nbb_cells[i].input_prompt_number == nbb_cell_id) {\n                        if (nbb_cells[i].get_text() == nbb_unformatted_code) {\n                             nbb_cells[i].set_text(nbb_formatted_code);\n                        }\n                        break;\n                    }\n                }\n            }, 500);\n            ",
      "text/plain": [
       "<IPython.core.display.Javascript object>"
      ]
     },
     "metadata": {},
     "output_type": "display_data"
    }
   ],
   "source": [
    "# Start searching for the substring at index 3\n",
    "sentence.find(\"day\", 3)"
   ]
  },
  {
   "attachments": {},
   "cell_type": "markdown",
   "id": "0ac7c28e",
   "metadata": {},
   "source": [
    "### re.sub: Replace One String with Another String Using Regular Expression\t"
   ]
  },
  {
   "attachments": {},
   "cell_type": "markdown",
   "id": "0f12d832",
   "metadata": {},
   "source": [
    "If you want to either replace one string with another string or to change the order of characters in a string, use `re.sub`.\n",
    "\n",
    "`re.sub` allows you to use a regular expression to specify the pattern of the string you want to swap.\n",
    "\n",
    "In the code below, I replace `3/7/2021` with `Sunday` and replace `3/7/2021` with `2021/3/7`."
   ]
  },
  {
   "cell_type": "code",
   "execution_count": 1,
   "id": "188f9beb",
   "metadata": {
    "ExecuteTime": {
     "end_time": "2021-08-29T20:22:42.720336Z",
     "start_time": "2021-08-29T20:22:42.683315Z"
    }
   },
   "outputs": [
    {
     "data": {
      "text/plain": [
       "'Today is Sunday'"
      ]
     },
     "execution_count": 1,
     "metadata": {},
     "output_type": "execute_result"
    }
   ],
   "source": [
    "import re\n",
    "\n",
    "text = \"Today is 3/7/2021\"\n",
    "match_pattern = r\"(\\d+)/(\\d+)/(\\d+)\"\n",
    "\n",
    "re.sub(match_pattern, \"Sunday\", text)"
   ]
  },
  {
   "cell_type": "code",
   "execution_count": 2,
   "id": "3f8735fc",
   "metadata": {
    "ExecuteTime": {
     "end_time": "2021-08-29T20:22:43.817977Z",
     "start_time": "2021-08-29T20:22:43.808490Z"
    },
    "scrolled": false
   },
   "outputs": [
    {
     "data": {
      "text/plain": [
       "'Today is 2021-3-7'"
      ]
     },
     "execution_count": 2,
     "metadata": {},
     "output_type": "execute_result"
    }
   ],
   "source": [
    "re.sub(match_pattern, r\"\\3-\\1-\\2\", text)"
   ]
  },
  {
   "attachments": {},
   "cell_type": "markdown",
   "id": "53854cb4",
   "metadata": {},
   "source": [
    "### Split a String by Multiple Characters"
   ]
  },
  {
   "attachments": {},
   "cell_type": "markdown",
   "id": "b7f03f9a",
   "metadata": {},
   "source": [
    "Using `str.split` only allows you to split a string by one character."
   ]
  },
  {
   "cell_type": "code",
   "execution_count": 1,
   "id": "348a60cc",
   "metadata": {},
   "outputs": [
    {
     "data": {
      "text/plain": [
       "['Today', 'is a nice_day']"
      ]
     },
     "execution_count": 1,
     "metadata": {},
     "output_type": "execute_result"
    }
   ],
   "source": [
    "sent = \"Today-is a nice_day\"\n",
    "\n",
    "sent.split('-')"
   ]
  },
  {
   "attachments": {},
   "cell_type": "markdown",
   "id": "da589ebc",
   "metadata": {},
   "source": [
    "If you want to split a string by multiple characters, use `re.split()`. re uses regrex to split the string."
   ]
  },
  {
   "cell_type": "code",
   "execution_count": 9,
   "id": "2d25e532",
   "metadata": {},
   "outputs": [
    {
     "data": {
      "text/plain": [
       "['Today', 'is', 'a', 'nice', 'day']"
      ]
     },
     "execution_count": 9,
     "metadata": {},
     "output_type": "execute_result"
    }
   ],
   "source": [
    "import re\n",
    "\n",
    "# split by space, -, or _\n",
    "re.split(\" |-|_\", sent)\n"
   ]
  },
  {
   "attachments": {},
   "cell_type": "markdown",
   "id": "850233d3",
   "metadata": {},
   "source": [
    "### Multiline Strings "
   ]
  },
  {
   "attachments": {},
   "cell_type": "markdown",
   "id": "2442ac08",
   "metadata": {},
   "source": [
    "If your Python string gets very long, you can break it up using parentheses or a backslash."
   ]
  },
  {
   "cell_type": "code",
   "execution_count": 16,
   "id": "8c21e6b7",
   "metadata": {},
   "outputs": [
    {
     "data": {
      "text/plain": [
       "'This is a very long sentence that is made up.'"
      ]
     },
     "execution_count": 16,
     "metadata": {},
     "output_type": "execute_result"
    }
   ],
   "source": [
    "text = (\n",
    "    \"This is a very \"\n",
    "    \"long sentence \"\n",
    "    \"that is made up.\"\n",
    ")\n",
    "\n",
    "text"
   ]
  },
  {
   "cell_type": "code",
   "execution_count": 17,
   "id": "2b6b3c4c",
   "metadata": {},
   "outputs": [
    {
     "data": {
      "text/plain": [
       "'This is a very long sentence that is made up.'"
      ]
     },
     "execution_count": 17,
     "metadata": {},
     "output_type": "execute_result"
    }
   ],
   "source": [
    "text = \"This is a very \"\\\n",
    "    \"long sentence \"\\\n",
    "    \"that is made up.\"\n",
    "\n",
    "text"
   ]
  },
  {
   "attachments": {},
   "cell_type": "markdown",
   "id": "848c6d68",
   "metadata": {},
   "source": [
    "### difflib.SequenceMatcher: Detect The “Almost Similar” Articles"
   ]
  },
  {
   "attachments": {},
   "cell_type": "markdown",
   "id": "f164d9c8",
   "metadata": {},
   "source": [
    "When analyzing articles, different articles can be almost similar but not 100% identical, maybe because of the grammar, or because of the change in two or three words (such as cross-posting). How can we detect the “almost similar” articles and drop one of them? That is when `difflib.SequenceMatcher` comes in handy. "
   ]
  },
  {
   "cell_type": "code",
   "execution_count": 19,
   "id": "815c7e1e",
   "metadata": {
    "ExecuteTime": {
     "end_time": "2021-09-12T01:15:08.678941Z",
     "start_time": "2021-09-12T01:15:08.670108Z"
    }
   },
   "outputs": [
    {
     "name": "stdout",
     "output_type": "stream",
     "text": [
      "0.9523809523809523\n"
     ]
    }
   ],
   "source": [
    "from difflib import SequenceMatcher\n",
    "\n",
    "text1 = 'I am Khuyen'\n",
    "text2 = 'I am Khuen'\n",
    "print(SequenceMatcher(a=text1, b=text2).ratio())"
   ]
  },
  {
   "attachments": {},
   "cell_type": "markdown",
   "id": "cd1d5ec1",
   "metadata": {},
   "source": [
    "### difflib.get_close_matches:  Get a List of the Best Matches for a Certain Word"
   ]
  },
  {
   "attachments": {},
   "cell_type": "markdown",
   "id": "0cdf76a5",
   "metadata": {},
   "source": [
    "If you want to get a list of the best matches for a certain word, use `difflib.get_close_matches`.  "
   ]
  },
  {
   "cell_type": "code",
   "execution_count": 9,
   "id": "2948e2dc",
   "metadata": {
    "ExecuteTime": {
     "end_time": "2021-09-14T13:38:12.459953Z",
     "start_time": "2021-09-14T13:38:12.451000Z"
    }
   },
   "outputs": [
    {
     "data": {
      "text/plain": [
       "['pencil', 'pen']"
      ]
     },
     "execution_count": 9,
     "metadata": {},
     "output_type": "execute_result"
    }
   ],
   "source": [
    "from difflib import get_close_matches\n",
    "\n",
    "tools = ['pencil', 'pen', 'erasor', 'ink']\n",
    "get_close_matches('pencel', tools)"
   ]
  },
  {
   "attachments": {},
   "cell_type": "markdown",
   "id": "fb3f74a5",
   "metadata": {},
   "source": [
    "To get closer matches, increase the value of the argument `cutoff` (default 0.6). "
   ]
  },
  {
   "cell_type": "code",
   "execution_count": 10,
   "id": "4392d667",
   "metadata": {
    "ExecuteTime": {
     "end_time": "2021-09-14T13:38:12.811319Z",
     "start_time": "2021-09-14T13:38:12.802768Z"
    }
   },
   "outputs": [
    {
     "data": {
      "text/plain": [
       "['pencil']"
      ]
     },
     "execution_count": 10,
     "metadata": {},
     "output_type": "execute_result"
    }
   ],
   "source": [
    "get_close_matches('pencel', tools, cutoff=0.8)"
   ]
  }
 ],
 "metadata": {
  "celltoolbar": "Tags",
  "hide_input": false,
  "interpreter": {
   "hash": "484329849bb907480cd798e750759bc6f1d66c93f9e78e7055aa0a2c2de6b47b"
  },
  "kernelspec": {
   "display_name": "Python 3 (ipykernel)",
   "language": "python",
   "name": "python3"
  },
  "language_info": {
   "codemirror_mode": {
    "name": "ipython",
    "version": 3
   },
   "file_extension": ".py",
   "mimetype": "text/x-python",
   "name": "python",
   "nbconvert_exporter": "python",
   "pygments_lexer": "ipython3",
   "version": "3.9.6"
  },
  "toc": {
   "base_numbering": 1,
   "nav_menu": {},
   "number_sections": true,
   "sideBar": true,
   "skip_h1_title": false,
   "title_cell": "Table of Contents",
   "title_sidebar": "Contents",
   "toc_cell": false,
   "toc_position": {},
   "toc_section_display": true,
   "toc_window_display": false
  }
 },
 "nbformat": 4,
 "nbformat_minor": 5
}
