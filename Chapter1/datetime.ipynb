{
 "cells": [
  {
   "cell_type": "markdown",
   "id": "f73c9cd9",
   "metadata": {},
   "source": [
    "## Datetime"
   ]
  },
  {
   "cell_type": "markdown",
   "id": "d6744dd2",
   "metadata": {},
   "source": [
    "![](../img/datetime.png)"
   ]
  },
  {
   "cell_type": "markdown",
   "id": "b3b99b41",
   "metadata": {},
   "source": [
    "### datetime + timedelta: Calculate End DateTime Based on Start DateTime and Duration"
   ]
  },
  {
   "cell_type": "markdown",
   "id": "ee892ad9",
   "metadata": {},
   "source": [
    "Provided an event starts at a certain time and takes a certain number of minutes to finish, how do you determine when it ends?\n",
    "\n",
    "Taking the sum of `datetime` and `timedelta(minutes)` will do the trick.\n"
   ]
  },
  {
   "cell_type": "code",
   "execution_count": 4,
   "id": "1b730920",
   "metadata": {
    "ExecuteTime": {
     "end_time": "2021-08-30T00:45:18.903651Z",
     "start_time": "2021-08-30T00:45:18.890457Z"
    }
   },
   "outputs": [
    {
     "data": {
      "text/plain": [
       "datetime.datetime(2020, 1, 5, 17, 39)"
      ]
     },
     "execution_count": 4,
     "metadata": {},
     "output_type": "execute_result"
    }
   ],
   "source": [
    "from datetime import date, datetime, timedelta\n",
    "\n",
    "beginning = '2020/01/03 23:59:00'\n",
    "duration_in_minutes = 2500\n",
    "\n",
    "# Find the beginning time\n",
    "beginning = datetime.strptime(beginning, '%Y/%m/%d %H:%M:%S')\n",
    "\n",
    "# Find duration in days\n",
    "days = timedelta(minutes=duration_in_minutes)\n",
    "\n",
    "# Find end time\n",
    "end = beginning + days \n",
    "end"
   ]
  },
  {
   "cell_type": "markdown",
   "id": "5c1bd394",
   "metadata": {},
   "source": [
    "### Use Dates in a Month as the Feature\n"
   ]
  },
  {
   "cell_type": "markdown",
   "id": "6128976c",
   "metadata": {},
   "source": [
    "Have you ever wanted to use dates in a month as the feature in your time series data? You can find the days in a month by using `calendar.monthrange(year, month)[1]` like below."
   ]
  },
  {
   "cell_type": "code",
   "execution_count": 3,
   "id": "40266f0f",
   "metadata": {
    "ExecuteTime": {
     "end_time": "2021-08-30T00:45:12.881916Z",
     "start_time": "2021-08-30T00:45:12.858846Z"
    }
   },
   "outputs": [
    {
     "data": {
      "text/plain": [
       "30"
      ]
     },
     "execution_count": 3,
     "metadata": {},
     "output_type": "execute_result"
    }
   ],
   "source": [
    "import calendar \n",
    "\n",
    "calendar.monthrange(2020, 11)[1]"
   ]
  }
 ],
 "metadata": {
  "kernelspec": {
   "display_name": "Python 3 (ipykernel)",
   "language": "python",
   "name": "python3"
  },
  "language_info": {
   "codemirror_mode": {
    "name": "ipython",
    "version": 3
   },
   "file_extension": ".py",
   "mimetype": "text/x-python",
   "name": "python",
   "nbconvert_exporter": "python",
   "pygments_lexer": "ipython3",
   "version": "3.8.10"
  },
  "toc": {
   "base_numbering": 1,
   "nav_menu": {},
   "number_sections": true,
   "sideBar": true,
   "skip_h1_title": false,
   "title_cell": "Table of Contents",
   "title_sidebar": "Contents",
   "toc_cell": false,
   "toc_position": {},
   "toc_section_display": true,
   "toc_window_display": false
  }
 },
 "nbformat": 4,
 "nbformat_minor": 5
}
