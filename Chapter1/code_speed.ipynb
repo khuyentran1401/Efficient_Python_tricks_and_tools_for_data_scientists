{
 "cells": [
  {
   "attachments": {},
   "cell_type": "markdown",
   "id": "07582ce6",
   "metadata": {},
   "source": [
    "## Code Speed"
   ]
  },
  {
   "attachments": {},
   "cell_type": "markdown",
   "id": "f3b36485",
   "metadata": {},
   "source": [
    "This section will show you some ways to speed up or track the performance of your Python code. "
   ]
  },
  {
   "attachments": {},
   "cell_type": "markdown",
   "id": "d3640278",
   "metadata": {},
   "source": [
    "### Concurrently Execute Tasks on Separate CPUs\t"
   ]
  },
  {
   "attachments": {},
   "cell_type": "markdown",
   "id": "d487d241",
   "metadata": {},
   "source": [
    "If you want to concurrently execute tasks on separate CPUs to run faster, consider using `joblib.Parallel`. It allows you to easily execute several tasks at once, with each task using its own processor."
   ]
  },
  {
   "cell_type": "code",
   "execution_count": 3,
   "id": "1ceda15b",
   "metadata": {
    "ExecuteTime": {
     "end_time": "2021-09-11T15:12:37.700623Z",
     "start_time": "2021-09-11T15:12:37.208422Z"
    }
   },
   "outputs": [
    {
     "data": {
      "text/plain": [
       "[3, 4, 5, 6, 7, 8, 9, 10, 11, 12]"
      ]
     },
     "execution_count": 3,
     "metadata": {},
     "output_type": "execute_result"
    }
   ],
   "source": [
    "from joblib import Parallel, delayed\n",
    "import multiprocessing\n",
    "\n",
    "def add_three(num: int):\n",
    "    return num + 3\n",
    "\n",
    "num_cores = multiprocessing.cpu_count()\n",
    "results = Parallel(n_jobs=num_cores)(delayed(add_three)(i) for i in range(10))\n",
    "results "
   ]
  },
  {
   "attachments": {},
   "cell_type": "markdown",
   "id": "241562d6",
   "metadata": {},
   "source": [
    "### Compare The Execution Time Between 2 Functions"
   ]
  },
  {
   "attachments": {},
   "cell_type": "markdown",
   "id": "bae22255",
   "metadata": {},
   "source": [
    "If you want to compare the execution time between 2 functions, try `timeit.timeit`. You can also specify the number of times you want to rerun your function to get a better estimation of the time."
   ]
  },
  {
   "cell_type": "code",
   "execution_count": 4,
   "id": "c3e7c34f",
   "metadata": {
    "ExecuteTime": {
     "end_time": "2021-09-11T15:13:27.421230Z",
     "start_time": "2021-09-11T15:13:26.945661Z"
    }
   },
   "outputs": [
    {
     "name": "stdout",
     "output_type": "stream",
     "text": [
      "2.6299518653018685\n"
     ]
    }
   ],
   "source": [
    "import time \n",
    "import timeit \n",
    "\n",
    "def func():\n",
    "    \"\"\"comprehension\"\"\"\n",
    "    l = [i for i in range(10_000)]\n",
    "\n",
    "def func2():\n",
    "    \"\"\"list range\"\"\"\n",
    "    l = list(range(10_000))\n",
    "\n",
    "expSize = 1000\n",
    "time1 = timeit.timeit(func, number=expSize)\n",
    "time2 = timeit.timeit(func2, number=expSize)\n",
    "\n",
    "print(time1/time2)"
   ]
  },
  {
   "attachments": {},
   "cell_type": "markdown",
   "id": "a3d3fb46",
   "metadata": {},
   "source": [
    "From the result, we can see that it is faster to use list range than to use list comprehension on average."
   ]
  },
  {
   "attachments": {},
   "cell_type": "markdown",
   "id": "a09a8d62",
   "metadata": {},
   "source": [
    "### Save Disk Space on Large Datasets with Parquet "
   ]
  },
  {
   "cell_type": "code",
   "execution_count": null,
   "id": "bfcd3c96",
   "metadata": {
    "tags": [
     "hide-cell"
    ]
   },
   "outputs": [],
   "source": [
    "!pip install pyarrow"
   ]
  },
  {
   "attachments": {},
   "cell_type": "markdown",
   "id": "2d2fb96f",
   "metadata": {},
   "source": [
    "To save disk space on large datasets, use Parquet files instead of CSV.  Because Parquet files are compressed, they take up less space on disk and in memory than uncompressed CSV files. \n",
    "\n",
    "For a 1 million row, 10 column dataset, storing it as CSV takes about 189.59 MB, while storing it as Parquet takes around 78.96 MB, saving approximately 110.63 MB of storage."
   ]
  },
  {
   "cell_type": "code",
   "execution_count": 22,
   "id": "b31ff0dc",
   "metadata": {},
   "outputs": [],
   "source": [
    "import numpy as np\n",
    "import pandas as pd\n",
    "\n",
    "# Create a dataset with 1 million rows and 10 columns \n",
    "np.random.seed(123)\n",
    "data = np.random.randint(0, 2**63, size=(1000000, 10))\n",
    "df = pd.DataFrame(data, columns=[f'col{str(i)}' for i in range(10)])"
   ]
  },
  {
   "cell_type": "code",
   "execution_count": 26,
   "id": "a8bc7fcd",
   "metadata": {},
   "outputs": [],
   "source": [
    "# Write data to Parquet file\n",
    "df.to_parquet('example.parquet')\n",
    "\n",
    "# Write data to CSV file\n",
    "df.to_csv('example.csv', index=False)"
   ]
  },
  {
   "cell_type": "code",
   "execution_count": 21,
   "id": "a86ef107",
   "metadata": {},
   "outputs": [
    {
     "name": "stdout",
     "output_type": "stream",
     "text": [
      "Parquet file size: 82805080\n",
      "CSV file size: 198796161\n"
     ]
    }
   ],
   "source": [
    "import os\n",
    "print(\"Parquet file size:\", os.path.getsize('example.parquet'))\n",
    "print(\"CSV file size:\", os.path.getsize('example.csv')) "
   ]
  }
 ],
 "metadata": {
  "kernelspec": {
   "display_name": "venv",
   "language": "python",
   "name": "python3"
  },
  "language_info": {
   "codemirror_mode": {
    "name": "ipython",
    "version": 3
   },
   "file_extension": ".py",
   "mimetype": "text/x-python",
   "name": "python",
   "nbconvert_exporter": "python",
   "pygments_lexer": "ipython3",
   "version": "3.9.6"
  },
  "toc": {
   "base_numbering": 1,
   "nav_menu": {},
   "number_sections": true,
   "sideBar": true,
   "skip_h1_title": false,
   "title_cell": "Table of Contents",
   "title_sidebar": "Contents",
   "toc_cell": false,
   "toc_position": {},
   "toc_section_display": true,
   "toc_window_display": false
  },
  "vscode": {
   "interpreter": {
    "hash": "c3bc044b9863ed6dec4c55e7ad5af27f030f7d27aed3f39d7a4886a926c4e2c1"
   }
  }
 },
 "nbformat": 4,
 "nbformat_minor": 5
}
