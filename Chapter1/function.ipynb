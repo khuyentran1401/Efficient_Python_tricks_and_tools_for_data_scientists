{
 "cells": [
  {
   "cell_type": "markdown",
   "id": "406dda9e",
   "metadata": {},
   "source": [
    "## Function"
   ]
  },
  {
   "cell_type": "markdown",
   "id": "c5d60fd5",
   "metadata": {},
   "source": [
    "### **kwargs: Pass Multiple Arguments to a Function in Python"
   ]
  },
  {
   "cell_type": "markdown",
   "id": "8a0ece63",
   "metadata": {},
   "source": [
    "Sometimes you might not know the arguments you will pass to a function. If so, use `**kwargs`.\n",
    "\n",
    "`**kwargs` allow you to pass multiple arguments to a function using a dictionary. In the example below, passing `**{'a':1, 'b':2}` to the function is similar to passing `a=1`, `b=1` to the function.\n",
    "\n",
    "Once `**kwargs` argument is passed, you can treat it like a Python dictionary."
   ]
  },
  {
   "cell_type": "code",
   "execution_count": 1,
   "id": "a7d7e831",
   "metadata": {
    "ExecuteTime": {
     "end_time": "2021-08-30T00:47:19.177893Z",
     "start_time": "2021-08-30T00:47:19.155087Z"
    }
   },
   "outputs": [
    {
     "name": "stdout",
     "output_type": "stream",
     "text": [
      "{'a': 1, 'b': 2}\n",
      "4\n",
      "5\n"
     ]
    }
   ],
   "source": [
    "parameters = {'a': 1, 'b': 2}\n",
    "\n",
    "def example(c, **kwargs):\n",
    "    print(kwargs)\n",
    "    for val in kwargs.values():\n",
    "        print(c + val)\n",
    "\n",
    "example(c=3, **parameters)"
   ]
  },
  {
   "cell_type": "markdown",
   "id": "24ef5dc5",
   "metadata": {},
   "source": [
    "### Decorator in Python"
   ]
  },
  {
   "cell_type": "markdown",
   "id": "459bffb1",
   "metadata": {},
   "source": [
    "Do you want to add the same block of code to different functions in Python? If so, try decorator.\n",
    "\n",
    "In the code below, I created the decorator to track the time of the function `say_hello`."
   ]
  },
  {
   "cell_type": "code",
   "execution_count": 2,
   "id": "712e1fcd",
   "metadata": {
    "ExecuteTime": {
     "end_time": "2021-08-30T00:49:30.920515Z",
     "start_time": "2021-08-30T00:49:30.913093Z"
    }
   },
   "outputs": [],
   "source": [
    "import time \n",
    "\n",
    "def time_func(func):\n",
    "    def wrapper():\n",
    "        print(\"This happens before the function is called\")\n",
    "        start = time.time()\n",
    "        func()\n",
    "        print('This happens after the funciton is called')\n",
    "        end = time.time()\n",
    "        print('The duration is', end - start, 's')\n",
    "\n",
    "    return wrapper"
   ]
  },
  {
   "cell_type": "markdown",
   "id": "16ec46b2",
   "metadata": {},
   "source": [
    "Now all I need to do is to add `@time_func` before the function `say_hello`.\n"
   ]
  },
  {
   "cell_type": "code",
   "execution_count": 3,
   "id": "1226ad8f",
   "metadata": {
    "ExecuteTime": {
     "end_time": "2021-08-30T00:49:39.814766Z",
     "start_time": "2021-08-30T00:49:39.804463Z"
    }
   },
   "outputs": [
    {
     "name": "stdout",
     "output_type": "stream",
     "text": [
      "This happens before the function is called\n",
      "hello\n",
      "This happens after the funciton is called\n",
      "The duration is 0.0002987384796142578 s\n"
     ]
    }
   ],
   "source": [
    "@time_func\n",
    "def say_hello():\n",
    "    print(\"hello\")\n",
    "\n",
    "say_hello()"
   ]
  },
  {
   "cell_type": "markdown",
   "id": "e360f258",
   "metadata": {},
   "source": [
    "Decorator makes the code clean and shortens repetitive code. If I want to track the time of another function, for example, `func2()`, I can just use:"
   ]
  },
  {
   "cell_type": "code",
   "execution_count": 4,
   "id": "a4c14613",
   "metadata": {
    "ExecuteTime": {
     "end_time": "2021-08-30T00:50:36.063562Z",
     "start_time": "2021-08-30T00:50:36.054358Z"
    }
   },
   "outputs": [
    {
     "name": "stdout",
     "output_type": "stream",
     "text": [
      "This happens before the function is called\n",
      "This happens after the funciton is called\n",
      "The duration is 4.38690185546875e-05 s\n"
     ]
    }
   ],
   "source": [
    "@time_func\n",
    "def func2():\n",
    "    pass\n",
    "func2()"
   ]
  }
 ],
 "metadata": {
  "kernelspec": {
   "display_name": "Python 3 (ipykernel)",
   "language": "python",
   "name": "python3"
  },
  "language_info": {
   "codemirror_mode": {
    "name": "ipython",
    "version": 3
   },
   "file_extension": ".py",
   "mimetype": "text/x-python",
   "name": "python",
   "nbconvert_exporter": "python",
   "pygments_lexer": "ipython3",
   "version": "3.8.10"
  },
  "toc": {
   "base_numbering": 1,
   "nav_menu": {},
   "number_sections": true,
   "sideBar": true,
   "skip_h1_title": false,
   "title_cell": "Table of Contents",
   "title_sidebar": "Contents",
   "toc_cell": false,
   "toc_position": {},
   "toc_section_display": true,
   "toc_window_display": false
  }
 },
 "nbformat": 4,
 "nbformat_minor": 5
}
