{
 "cells": [
  {
   "cell_type": "markdown",
   "id": "933e6dff",
   "metadata": {},
   "source": [
    "## Good Python Practices"
   ]
  },
  {
   "cell_type": "markdown",
   "id": "4d4af5ff",
   "metadata": {},
   "source": [
    "This section includes some best practices to write Python code. "
   ]
  },
  {
   "cell_type": "markdown",
   "id": "3c9f0d5a",
   "metadata": {},
   "source": [
    "### Write Meaningful Names"
   ]
  },
  {
   "cell_type": "markdown",
   "id": "36b850cc",
   "metadata": {},
   "source": [
    "It is a bad practice to use vague names such as `x`, `y`, `z` in your Python code since they don't give you any information about their roles in the code. "
   ]
  },
  {
   "cell_type": "code",
   "execution_count": 1,
   "id": "6402216c",
   "metadata": {
    "ExecuteTime": {
     "end_time": "2022-03-15T14:05:37.625403Z",
     "start_time": "2022-03-15T14:05:37.612839Z"
    }
   },
   "outputs": [],
   "source": [
    "x = 10 \n",
    "y = 5 \n",
    "z = x + y  "
   ]
  },
  {
   "cell_type": "markdown",
   "id": "1b7154fd",
   "metadata": {},
   "source": [
    "Write declarative variables names instead. You can also add type hints to make the types of these variables more obvious.  "
   ]
  },
  {
   "cell_type": "code",
   "execution_count": 3,
   "id": "0b624901",
   "metadata": {
    "ExecuteTime": {
     "end_time": "2022-03-15T14:08:41.841894Z",
     "start_time": "2022-03-15T14:08:41.836364Z"
    }
   },
   "outputs": [],
   "source": [
    "num_members: int = 10\n",
    "num_guests: int = 5\n",
    "sum_: int = num_members + num_guests  "
   ]
  },
  {
   "cell_type": "markdown",
   "id": "5cd21750",
   "metadata": {},
   "source": [
    "### Assign Names to Values"
   ]
  },
  {
   "cell_type": "markdown",
   "id": "67793126",
   "metadata": {},
   "source": [
    "It can be confusing for others to understand the roles of  some values in your code."
   ]
  },
  {
   "cell_type": "code",
   "execution_count": 4,
   "id": "d9408454",
   "metadata": {},
   "outputs": [],
   "source": [
    "circle_area = 3.14 * 5**2"
   ]
  },
  {
   "cell_type": "markdown",
   "id": "7e0804dc",
   "metadata": {},
   "source": [
    "Thus, it is a good practice to assign names to your variables to make them readable to others. "
   ]
  },
  {
   "cell_type": "code",
   "execution_count": 5,
   "id": "f9a9d8d3",
   "metadata": {},
   "outputs": [],
   "source": [
    "PI = 3.14\n",
    "RADIUS = 5\n",
    "\n",
    "circle_area = PI * RADIUS**2"
   ]
  },
  {
   "attachments": {},
   "cell_type": "markdown",
   "id": "004067f4",
   "metadata": {},
   "source": [
    "### Name Complex Conditions to Make Your Code More Readable"
   ]
  },
  {
   "attachments": {},
   "cell_type": "markdown",
   "id": "34c1c7a8",
   "metadata": {},
   "source": [
    "Consider naming your conditions if your if-else statement is too complex. Doing so will improve the readability of your code."
   ]
  },
  {
   "cell_type": "code",
   "execution_count": 21,
   "id": "0876205d",
   "metadata": {},
   "outputs": [
    {
     "name": "stdout",
     "output_type": "stream",
     "text": [
      "Both conditions are true!\n"
     ]
    }
   ],
   "source": [
    "# Confusing\n",
    "\n",
    "x = -10\n",
    "y = 5\n",
    "\n",
    "if (x % 2 == 0 and x < 0) and (y % 2 != 0 and y > 0):\n",
    "    print(\"Both conditions are true!\")\n",
    "else:\n",
    "    print(\"At least one condition is false.\")\n"
   ]
  },
  {
   "cell_type": "code",
   "execution_count": 22,
   "id": "bd94ba40",
   "metadata": {},
   "outputs": [
    {
     "name": "stdout",
     "output_type": "stream",
     "text": [
      "Both conditions are true!\n"
     ]
    }
   ],
   "source": [
    "# Clearer\n",
    "\n",
    "x = -10\n",
    "y = 5\n",
    "\n",
    "# Assign names to conditions\n",
    "x_is_even_and_negative = x % 2 == 0 and x < 0\n",
    "y_is_odd_and_positive = y % 2 != 0 and y > 0\n",
    "\n",
    "if (x_is_even_and_negative) and (y_is_odd_and_positive):\n",
    "    print(\"Both conditions are true!\")\n",
    "else:\n",
    "    print(\"At least one condition is false.\")\n"
   ]
  },
  {
   "cell_type": "markdown",
   "id": "eb89fff1",
   "metadata": {},
   "source": [
    "### Avoid Duplication in Your Code"
   ]
  },
  {
   "cell_type": "markdown",
   "id": "d65ab818",
   "metadata": {},
   "source": [
    "While writing code, we should avoid duplication because:\n",
    "- It is redundant\n",
    "- If we make a change to one piece of code, we need to remember to make the same change to another piece of code. Otherwise, we will introduce bugs into our code.\n",
    "\n",
    "In the code below, we use the filter `X['date'] > date(2021, 2, 8)` twice. To avoid duplication, we can assign the filter to a variable, then use that variable to filter other arrays."
   ]
  },
  {
   "cell_type": "code",
   "execution_count": null,
   "id": "4a3c0a68",
   "metadata": {},
   "outputs": [],
   "source": [
    "import pandas as pd \n",
    "from datetime import date\n",
    "\n",
    "df = pd.DataFrame({'date': [date(2021, 2, 8), date(2021, 2, 9), date(2021, 2, 10)],\n",
    "\t\t\t\t\t\t\t\t\t'val1': [1,2,3], 'val2': [0,1,0]})\n",
    "X, y = df.iloc[:, :1], df.iloc[:, 2]\n",
    "\n",
    "# Instead of this\n",
    "subset_X = X[X['date'] > date(2021, 2, 8)]\n",
    "subset_y = y[X['date'] > date(2021, 2, 8)]\n",
    "\n",
    "# Do this\n",
    "filt = df['date'] > date(2021, 2, 8)\n",
    "subset_X = X[filt]\n",
    "subset_y = y[filt]"
   ]
  },
  {
   "cell_type": "markdown",
   "id": "cd4106c0",
   "metadata": {},
   "source": [
    "### Underscore(_): Ignore Values That Will Not Be Used"
   ]
  },
  {
   "cell_type": "markdown",
   "id": "b897c471",
   "metadata": {},
   "source": [
    "When assigning the values returned from a function, you might want to ignore some values that are not used in future code. If so, assign those values to underscores `_`."
   ]
  },
  {
   "cell_type": "code",
   "execution_count": 1,
   "id": "8bb44947",
   "metadata": {
    "ExecuteTime": {
     "end_time": "2021-08-30T01:27:15.184272Z",
     "start_time": "2021-08-30T01:27:15.145631Z"
    }
   },
   "outputs": [
    {
     "data": {
      "text/plain": [
       "2"
      ]
     },
     "execution_count": 1,
     "metadata": {},
     "output_type": "execute_result"
    }
   ],
   "source": [
    "def return_two():\n",
    "    return 1, 2\n",
    "\n",
    "_, var = return_two()\n",
    "var"
   ]
  },
  {
   "cell_type": "markdown",
   "id": "48e9e3b5",
   "metadata": {},
   "source": [
    "### Underscore “_”: Ignore The Index in Python For Loops"
   ]
  },
  {
   "cell_type": "markdown",
   "id": "cc62268c",
   "metadata": {},
   "source": [
    "If you want to repeat a loop a specific number of times but don’t care about the index, you can use `_`. "
   ]
  },
  {
   "cell_type": "code",
   "execution_count": 2,
   "id": "e45c91aa",
   "metadata": {
    "ExecuteTime": {
     "end_time": "2021-08-30T01:30:49.136906Z",
     "start_time": "2021-08-30T01:30:49.128051Z"
    }
   },
   "outputs": [
    {
     "name": "stdout",
     "output_type": "stream",
     "text": [
      "Hello\n",
      "Hello\n",
      "Hello\n",
      "Hello\n",
      "Hello\n"
     ]
    }
   ],
   "source": [
    "for _ in range(5):\n",
    "    print('Hello')"
   ]
  },
  {
   "cell_type": "markdown",
   "id": "0380f977",
   "metadata": {},
   "source": [
    "### Python Pass Statement"
   ]
  },
  {
   "cell_type": "markdown",
   "id": "2f058f68",
   "metadata": {},
   "source": [
    "If you want to create code that does a particular thing but don’t know how to write that code yet, put that code in a function then use `pass`.\n",
    "\n",
    "Once you have finished writing the code in a high level, start to go back to the functions and replace `pass` with the code for that function. This will prevent your thoughts from being disrupted. "
   ]
  },
  {
   "cell_type": "code",
   "execution_count": null,
   "id": "bebd9e13",
   "metadata": {},
   "outputs": [],
   "source": [
    "def say_hello():\n",
    "    pass \n",
    "\n",
    "def ask_to_sign_in():\n",
    "    pass \n",
    "\n",
    "def main(is_user: bool):\n",
    "    if is_user:\n",
    "        say_hello()\n",
    "    else:\n",
    "        ask_to_sign_in()\n",
    "\n",
    "main(is_user=True)"
   ]
  },
  {
   "cell_type": "markdown",
   "id": "277cc52f",
   "metadata": {},
   "source": [
    "### Stop using = operator to create a copy of a Python list. Use copy method instead"
   ]
  },
  {
   "cell_type": "markdown",
   "id": "f611329b",
   "metadata": {},
   "source": [
    "When you create a copy of a Python list using the `=` operator, a change in the new list will lead to the change in the old list. It is because both lists point to the same object."
   ]
  },
  {
   "cell_type": "code",
   "execution_count": 7,
   "id": "ea715534",
   "metadata": {
    "ExecuteTime": {
     "end_time": "2021-08-29T21:35:28.438832Z",
     "start_time": "2021-08-29T21:35:28.431700Z"
    }
   },
   "outputs": [],
   "source": [
    "l1 = [1, 2, 3]\n",
    "l2 = l1 \n",
    "l2.append(4)"
   ]
  },
  {
   "cell_type": "code",
   "execution_count": 8,
   "id": "93514799",
   "metadata": {
    "ExecuteTime": {
     "end_time": "2021-08-29T21:35:34.251541Z",
     "start_time": "2021-08-29T21:35:34.242374Z"
    }
   },
   "outputs": [
    {
     "data": {
      "text/plain": [
       "[1, 2, 3, 4]"
      ]
     },
     "execution_count": 8,
     "metadata": {},
     "output_type": "execute_result"
    }
   ],
   "source": [
    "l2 "
   ]
  },
  {
   "cell_type": "code",
   "execution_count": 9,
   "id": "66cd0eba",
   "metadata": {
    "ExecuteTime": {
     "end_time": "2021-08-29T21:35:38.361689Z",
     "start_time": "2021-08-29T21:35:38.353163Z"
    }
   },
   "outputs": [
    {
     "data": {
      "text/plain": [
       "[1, 2, 3, 4]"
      ]
     },
     "execution_count": 9,
     "metadata": {},
     "output_type": "execute_result"
    }
   ],
   "source": [
    "l1 "
   ]
  },
  {
   "cell_type": "markdown",
   "id": "ebbde94f",
   "metadata": {},
   "source": [
    "Instead of using `=` operator, use `copy()` method. Now your old list will not change when you change your new list. "
   ]
  },
  {
   "cell_type": "code",
   "execution_count": 10,
   "id": "11c5badf",
   "metadata": {
    "ExecuteTime": {
     "end_time": "2021-08-29T21:35:53.291033Z",
     "start_time": "2021-08-29T21:35:53.285624Z"
    }
   },
   "outputs": [],
   "source": [
    "l1 = [1, 2, 3]\n",
    "l2 = l1.copy()\n",
    "l2.append(4)"
   ]
  },
  {
   "cell_type": "code",
   "execution_count": 11,
   "id": "17717e73",
   "metadata": {
    "ExecuteTime": {
     "end_time": "2021-08-29T21:35:55.258140Z",
     "start_time": "2021-08-29T21:35:55.249394Z"
    }
   },
   "outputs": [
    {
     "data": {
      "text/plain": [
       "[1, 2, 3, 4]"
      ]
     },
     "execution_count": 11,
     "metadata": {},
     "output_type": "execute_result"
    }
   ],
   "source": [
    "l2 "
   ]
  },
  {
   "cell_type": "code",
   "execution_count": 12,
   "id": "70138939",
   "metadata": {
    "ExecuteTime": {
     "end_time": "2021-08-29T21:35:57.099547Z",
     "start_time": "2021-08-29T21:35:57.090172Z"
    }
   },
   "outputs": [
    {
     "data": {
      "text/plain": [
       "[1, 2, 3]"
      ]
     },
     "execution_count": 12,
     "metadata": {},
     "output_type": "execute_result"
    }
   ],
   "source": [
    "l1"
   ]
  },
  {
   "cell_type": "markdown",
   "id": "a39ab917",
   "metadata": {},
   "source": [
    "### deepcopy: Copy a Nested Object"
   ]
  },
  {
   "cell_type": "markdown",
   "id": "bba77363",
   "metadata": {},
   "source": [
    "If you want to create a copy of a nested object, use `deepcopy`. While `copy` creates a shallow copy of the original object, `deepcopy` creates a deep copy of the original object. This means that if you change the nested children of a shallow copy, the original object will also change. However, if you change the nested children of a deep copy, the original object will not change."
   ]
  },
  {
   "cell_type": "code",
   "execution_count": 13,
   "id": "a63c3eff",
   "metadata": {},
   "outputs": [],
   "source": [
    "from copy import deepcopy\n",
    "\n",
    "l1 = [1, 2, [3, 4]]\n",
    "l2 = l1.copy() # Create a shallow copy"
   ]
  },
  {
   "cell_type": "code",
   "execution_count": 14,
   "id": "b5ecaf18",
   "metadata": {},
   "outputs": [
    {
     "data": {
      "text/plain": [
       "[6, 2, [3, 4, 5]]"
      ]
     },
     "execution_count": 14,
     "metadata": {},
     "output_type": "execute_result"
    }
   ],
   "source": [
    "l2[0] = 6\n",
    "l2[2].append(5)\n",
    "l2 "
   ]
  },
  {
   "cell_type": "code",
   "execution_count": 15,
   "id": "835f5291",
   "metadata": {},
   "outputs": [
    {
     "data": {
      "text/plain": [
       "[1, 2, [3, 4, 5]]"
      ]
     },
     "execution_count": 15,
     "metadata": {},
     "output_type": "execute_result"
    }
   ],
   "source": [
    "# [3, 4] becomes [3, 4, 5]\n",
    "l1 "
   ]
  },
  {
   "cell_type": "code",
   "execution_count": 4,
   "id": "fe90a91c",
   "metadata": {},
   "outputs": [],
   "source": [
    "l1 = [1, 2, [3, 4]]\n",
    "l3 = deepcopy(l1) # Create a deep copy"
   ]
  },
  {
   "cell_type": "code",
   "execution_count": 5,
   "id": "13e88650",
   "metadata": {},
   "outputs": [
    {
     "data": {
      "text/plain": [
       "[1, 2, [3, 4, 5]]"
      ]
     },
     "execution_count": 5,
     "metadata": {},
     "output_type": "execute_result"
    }
   ],
   "source": [
    "l3[2].append(5)\n",
    "l3  "
   ]
  },
  {
   "cell_type": "code",
   "execution_count": 6,
   "id": "2dfdfde8",
   "metadata": {},
   "outputs": [
    {
     "data": {
      "text/plain": [
       "[1, 2, [3, 4]]"
      ]
     },
     "execution_count": 6,
     "metadata": {},
     "output_type": "execute_result"
    }
   ],
   "source": [
    "# l1 stays the same\n",
    "l1 "
   ]
  },
  {
   "cell_type": "markdown",
   "id": "1dbad4db",
   "metadata": {},
   "source": [
    "### Avoid Side Effects When Using List in a Function"
   ]
  },
  {
   "cell_type": "markdown",
   "id": "2d8f83c4",
   "metadata": {},
   "source": [
    "When using a Python list as an argument in a function, you might inadvertently change its value. \n",
    "\n",
    "For example, in the code below, using the `append` method ends up changing the values of the original list. "
   ]
  },
  {
   "cell_type": "code",
   "execution_count": 1,
   "id": "fb9b85fe",
   "metadata": {},
   "outputs": [],
   "source": [
    "def append_four(nums: list):\n",
    "    nums.append(4)\n",
    "    return nums "
   ]
  },
  {
   "cell_type": "code",
   "execution_count": 2,
   "id": "3439d642",
   "metadata": {},
   "outputs": [],
   "source": [
    "a = [1, 2, 3]\n",
    "b = append_four(a)"
   ]
  },
  {
   "cell_type": "code",
   "execution_count": 3,
   "id": "7067edef",
   "metadata": {},
   "outputs": [
    {
     "data": {
      "text/plain": [
       "[1, 2, 3, 4]"
      ]
     },
     "execution_count": 3,
     "metadata": {},
     "output_type": "execute_result"
    }
   ],
   "source": [
    "a "
   ]
  },
  {
   "cell_type": "markdown",
   "id": "f871574a",
   "metadata": {},
   "source": [
    "If you want to avoid this side effect, use `copy` with a list or `deepcopy` with a nested list in a function. "
   ]
  },
  {
   "cell_type": "code",
   "execution_count": 12,
   "id": "f3c9797d",
   "metadata": {},
   "outputs": [],
   "source": [
    "def append_four(nums: list):\n",
    "    nums1 = nums.copy()\n",
    "    nums1.append(4)\n",
    "    return nums1 "
   ]
  },
  {
   "cell_type": "code",
   "execution_count": 13,
   "id": "62586ebc",
   "metadata": {},
   "outputs": [
    {
     "data": {
      "text/plain": [
       "[1, 2, 3]"
      ]
     },
     "execution_count": 13,
     "metadata": {},
     "output_type": "execute_result"
    }
   ],
   "source": [
    "a = [1, 2, 3]\n",
    "b = append_four(a)\n",
    "a "
   ]
  },
  {
   "cell_type": "markdown",
   "id": "8ddebcb2",
   "metadata": {},
   "source": [
    "### Enumerate: Get Counter and Value While Looping\n"
   ]
  },
  {
   "cell_type": "markdown",
   "id": "96c91e29",
   "metadata": {},
   "source": [
    "Are you using `for i in range(len(array))` to access both the index and the value of the array? If so, use `enumerate` instead. It produces the same result but it is much cleaner. "
   ]
  },
  {
   "cell_type": "code",
   "execution_count": 13,
   "id": "44ee4a4a",
   "metadata": {
    "ExecuteTime": {
     "end_time": "2021-08-29T21:47:17.142382Z",
     "start_time": "2021-08-29T21:47:17.131265Z"
    }
   },
   "outputs": [
    {
     "name": "stdout",
     "output_type": "stream",
     "text": [
      "0 a\n",
      "1 b\n",
      "2 c\n",
      "3 d\n",
      "4 e\n"
     ]
    }
   ],
   "source": [
    "arr = ['a', 'b', 'c', 'd', 'e']\n",
    "\n",
    "# Instead of this\n",
    "for i in range(len(arr)):\n",
    "    print(i, arr[i])"
   ]
  },
  {
   "cell_type": "code",
   "execution_count": 14,
   "id": "326acdd8",
   "metadata": {
    "ExecuteTime": {
     "end_time": "2021-08-29T21:47:19.212704Z",
     "start_time": "2021-08-29T21:47:19.204724Z"
    }
   },
   "outputs": [
    {
     "name": "stdout",
     "output_type": "stream",
     "text": [
      "0 a\n",
      "1 b\n",
      "2 c\n",
      "3 d\n",
      "4 e\n"
     ]
    }
   ],
   "source": [
    "# Use this\n",
    "for i, val in enumerate(arr):\n",
    "    print(i, val)"
   ]
  },
  {
   "cell_type": "markdown",
   "id": "f2ec263f",
   "metadata": {},
   "source": [
    "### Don't Use Multiple OR Operators. Use in Instead"
   ]
  },
  {
   "cell_type": "markdown",
   "id": "fdb1d396",
   "metadata": {},
   "source": [
    "It is lengthy to write multiple OR operators. You can shorten your conditional statement by using `in` instead. "
   ]
  },
  {
   "cell_type": "code",
   "execution_count": 1,
   "id": "8ded9e47",
   "metadata": {},
   "outputs": [
    {
     "name": "stdout",
     "output_type": "stream",
     "text": [
      "Found one!\n"
     ]
    }
   ],
   "source": [
    "a = 1 \n",
    "\n",
    "if a == 1 or a == 2 or a == 3:\n",
    "    print(\"Found one!\")"
   ]
  },
  {
   "cell_type": "code",
   "execution_count": 2,
   "id": "10bee78a",
   "metadata": {},
   "outputs": [
    {
     "name": "stdout",
     "output_type": "stream",
     "text": [
      "Found one!\n"
     ]
    }
   ],
   "source": [
    "if a in [1, 2, 3]:\n",
    "    print(\"Found one!\")"
   ]
  },
  {
   "attachments": {},
   "cell_type": "markdown",
   "id": "b4b1ffcb",
   "metadata": {},
   "source": [
    "### Stop Using `+` to Concatenate Strings. Use Join Instead "
   ]
  },
  {
   "attachments": {},
   "cell_type": "markdown",
   "id": "e2d557ac",
   "metadata": {},
   "source": [
    "It is more efficient to concatenate strings using the `join` method than the `+` operator.\n",
    "\n",
    "The code below shows the difference in performance between the two approaches."
   ]
  },
  {
   "cell_type": "code",
   "execution_count": 7,
   "id": "ff6fc84b",
   "metadata": {},
   "outputs": [],
   "source": [
    "from random import randint\n",
    "chars = [str(randint(0, 1000)) for _ in range(10000)]"
   ]
  },
  {
   "cell_type": "code",
   "execution_count": 8,
   "id": "a4b7e975",
   "metadata": {},
   "outputs": [
    {
     "name": "stdout",
     "output_type": "stream",
     "text": [
      "411 µs ± 2.98 µs per loop (mean ± std. dev. of 7 runs, 1,000 loops each)\n"
     ]
    }
   ],
   "source": [
    "%%timeit\n",
    "\n",
    "text = \"\"\n",
    "for char in chars:\n",
    "    text += char"
   ]
  },
  {
   "cell_type": "code",
   "execution_count": 9,
   "id": "16992ad6",
   "metadata": {},
   "outputs": [
    {
     "name": "stdout",
     "output_type": "stream",
     "text": [
      "60.5 µs ± 1.01 µs per loop (mean ± std. dev. of 7 runs, 10,000 loops each)\n"
     ]
    }
   ],
   "source": [
    "%%timeit\n",
    "\n",
    "text = \"\".join(chars)"
   ]
  },
  {
   "cell_type": "markdown",
   "id": "dbd62cab",
   "metadata": {},
   "source": [
    "### A Function Should Only Do One Task"
   ]
  },
  {
   "cell_type": "markdown",
   "id": "e727e348",
   "metadata": {},
   "source": [
    "A function should do only one task, not multiple tasks. The function `process_data` tries to do multiple tasks such as adding new features, adding one, and taking a sum of all columns. Using comments helps explain each block of code, but it takes a lot of work to keep the comments up-to-date. It is also difficult to test each unit of code inside a function."
   ]
  },
  {
   "cell_type": "code",
   "execution_count": 11,
   "id": "d9beb114",
   "metadata": {},
   "outputs": [],
   "source": [
    "import pandas as pd\n",
    "\n",
    "data = pd.DataFrame({\"a\": [1, 2, 3], \"b\": [4, 5, 6]})\n"
   ]
  },
  {
   "cell_type": "code",
   "execution_count": 12,
   "id": "0a7512a6",
   "metadata": {},
   "outputs": [],
   "source": [
    "def process_data(df: pd.DataFrame):\n",
    "    # Create a copy\n",
    "    data = df.copy()\n",
    "\n",
    "    # Add new features\n",
    "    data[\"c\"] = [1, 1, 1]\n",
    "\n",
    "    # Add 1\n",
    "    data[\"a\"] = data[\"a\"] + 1\n",
    "\n",
    "    # Sum all columns\n",
    "    data[\"sum\"] = data.sum(axis=1)\n",
    "    return data\n"
   ]
  },
  {
   "cell_type": "code",
   "execution_count": 13,
   "id": "138ff50f",
   "metadata": {},
   "outputs": [
    {
     "data": {
      "text/html": [
       "<div>\n",
       "<style scoped>\n",
       "    .dataframe tbody tr th:only-of-type {\n",
       "        vertical-align: middle;\n",
       "    }\n",
       "\n",
       "    .dataframe tbody tr th {\n",
       "        vertical-align: top;\n",
       "    }\n",
       "\n",
       "    .dataframe thead th {\n",
       "        text-align: right;\n",
       "    }\n",
       "</style>\n",
       "<table border=\"1\" class=\"dataframe\">\n",
       "  <thead>\n",
       "    <tr style=\"text-align: right;\">\n",
       "      <th></th>\n",
       "      <th>a</th>\n",
       "      <th>b</th>\n",
       "      <th>c</th>\n",
       "      <th>sum</th>\n",
       "    </tr>\n",
       "  </thead>\n",
       "  <tbody>\n",
       "    <tr>\n",
       "      <th>0</th>\n",
       "      <td>2</td>\n",
       "      <td>4</td>\n",
       "      <td>1</td>\n",
       "      <td>7</td>\n",
       "    </tr>\n",
       "    <tr>\n",
       "      <th>1</th>\n",
       "      <td>3</td>\n",
       "      <td>5</td>\n",
       "      <td>1</td>\n",
       "      <td>9</td>\n",
       "    </tr>\n",
       "    <tr>\n",
       "      <th>2</th>\n",
       "      <td>4</td>\n",
       "      <td>6</td>\n",
       "      <td>1</td>\n",
       "      <td>11</td>\n",
       "    </tr>\n",
       "  </tbody>\n",
       "</table>\n",
       "</div>"
      ],
      "text/plain": [
       "   a  b  c  sum\n",
       "0  2  4  1    7\n",
       "1  3  5  1    9\n",
       "2  4  6  1   11"
      ]
     },
     "execution_count": 13,
     "metadata": {},
     "output_type": "execute_result"
    }
   ],
   "source": [
    "process_data(data)"
   ]
  },
  {
   "cell_type": "markdown",
   "id": "c1f7b02b",
   "metadata": {},
   "source": [
    "A better practice is to split the function `process_data` into smaller functions that do only one thing.  In the code below, I split the function `process_data` into 4 different functions and apply these functions to a pandas DataFrame in order using `pipe`."
   ]
  },
  {
   "cell_type": "code",
   "execution_count": 17,
   "id": "ee2d1f02",
   "metadata": {},
   "outputs": [
    {
     "data": {
      "text/html": [
       "<div>\n",
       "<style scoped>\n",
       "    .dataframe tbody tr th:only-of-type {\n",
       "        vertical-align: middle;\n",
       "    }\n",
       "\n",
       "    .dataframe tbody tr th {\n",
       "        vertical-align: top;\n",
       "    }\n",
       "\n",
       "    .dataframe thead th {\n",
       "        text-align: right;\n",
       "    }\n",
       "</style>\n",
       "<table border=\"1\" class=\"dataframe\">\n",
       "  <thead>\n",
       "    <tr style=\"text-align: right;\">\n",
       "      <th></th>\n",
       "      <th>a</th>\n",
       "      <th>b</th>\n",
       "      <th>c</th>\n",
       "      <th>sum</th>\n",
       "    </tr>\n",
       "  </thead>\n",
       "  <tbody>\n",
       "    <tr>\n",
       "      <th>0</th>\n",
       "      <td>2</td>\n",
       "      <td>4</td>\n",
       "      <td>1</td>\n",
       "      <td>7</td>\n",
       "    </tr>\n",
       "    <tr>\n",
       "      <th>1</th>\n",
       "      <td>3</td>\n",
       "      <td>5</td>\n",
       "      <td>1</td>\n",
       "      <td>9</td>\n",
       "    </tr>\n",
       "    <tr>\n",
       "      <th>2</th>\n",
       "      <td>4</td>\n",
       "      <td>6</td>\n",
       "      <td>1</td>\n",
       "      <td>11</td>\n",
       "    </tr>\n",
       "  </tbody>\n",
       "</table>\n",
       "</div>"
      ],
      "text/plain": [
       "   a  b  c  sum\n",
       "0  2  4  1    7\n",
       "1  3  5  1    9\n",
       "2  4  6  1   11"
      ]
     },
     "execution_count": 17,
     "metadata": {},
     "output_type": "execute_result"
    }
   ],
   "source": [
    "def create_a_copy(df: pd.DataFrame):\n",
    "    return df.copy()\n",
    "\n",
    "\n",
    "def add_new_features(df: pd.DataFrame):\n",
    "    df[\"c\"] = [1, 1, 1]\n",
    "    return df\n",
    "\n",
    "\n",
    "def add_one(df: pd.DataFrame):\n",
    "    df[\"a\"] = df[\"a\"] + 1\n",
    "    return df\n",
    "\n",
    "\n",
    "def sum_all_columns(df: pd.DataFrame):\n",
    "    df[\"sum\"] = df.sum(axis=1)\n",
    "    return df\n",
    "\n",
    "\n",
    "(data\n",
    "    .pipe(create_a_copy)\n",
    "    .pipe(add_new_features)\n",
    "    .pipe(add_one)\n",
    "    .pipe(sum_all_columns)\n",
    ")\n"
   ]
  },
  {
   "attachments": {},
   "cell_type": "markdown",
   "id": "1e4d777e",
   "metadata": {},
   "source": [
    "### A Function Should Have Fewer Than Four Arguments"
   ]
  },
  {
   "attachments": {},
   "cell_type": "markdown",
   "id": "15ae4fc3",
   "metadata": {},
   "source": [
    "A function should only do one thing and have fewer than four arguments to make testing easier. \n",
    "\n",
    "\n",
    "\n",
    "If a function only does one task but has more than three arguments, consider grouping the arguments using higher-level objects such as a dataclass. "
   ]
  },
  {
   "cell_type": "code",
   "execution_count": 1,
   "id": "89baaacb",
   "metadata": {},
   "outputs": [],
   "source": [
    "def process(\n",
    "    drop_columns: list,\n",
    "    target: str,\n",
    "    test_size: float,\n",
    "    random_state: int,\n",
    "    shuffle: bool = True\n",
    "):\n",
    "    ...\n"
   ]
  },
  {
   "cell_type": "code",
   "execution_count": 3,
   "id": "9d003169",
   "metadata": {},
   "outputs": [],
   "source": [
    "from dataclasses import dataclass\n",
    "\n",
    "@dataclass\n",
    "class ProcessConfig:\n",
    "    drop_columns: list \n",
    "    target: str \n",
    "    test_size: float \n",
    "    random_state: int\n",
    "    shuffle: bool = True"
   ]
  },
  {
   "cell_type": "code",
   "execution_count": null,
   "id": "7b229c2b",
   "metadata": {},
   "outputs": [],
   "source": [
    "def process(config: ProcessConfig):\n",
    "    target = config.target \n",
    "    test_size = config.test_size\n",
    "    ...\n"
   ]
  },
  {
   "cell_type": "markdown",
   "id": "0d4273fd",
   "metadata": {},
   "source": [
    "### Avoid Using Flags as a Function's Parameters"
   ]
  },
  {
   "cell_type": "markdown",
   "id": "e6ad28c8",
   "metadata": {},
   "source": [
    "A function should only do one thing. If flags are used as a function's parameters, the function is doing more than one thing."
   ]
  },
  {
   "cell_type": "code",
   "execution_count": 2,
   "id": "43e0d6fd",
   "metadata": {},
   "outputs": [],
   "source": [
    "def get_data(is_csv: bool, name: str):\n",
    "    if is_csv:\n",
    "        df = pd.read_csv(name + '.csv')\n",
    "    else:\n",
    "        df = pd.read_pickle(name + '.pkl')\n",
    "    return df  "
   ]
  },
  {
   "cell_type": "markdown",
   "id": "00d5a03d",
   "metadata": {},
   "source": [
    "When you find yourself using flags as a way to run different code, consider splitting your function into different functions."
   ]
  },
  {
   "cell_type": "code",
   "execution_count": null,
   "id": "7ea7aeef",
   "metadata": {},
   "outputs": [],
   "source": [
    "def get_csv_data(name: str):\n",
    "    return pd.read_csv(name + '.csv')\n",
    "\n",
    "def get_pickle_data(name: str):\n",
    "    return pd.read_pickle(name + '.pkl')"
   ]
  },
  {
   "cell_type": "markdown",
   "id": "24e59e1e",
   "metadata": {},
   "source": [
    "### Condense an If-Else Statement into One Line"
   ]
  },
  {
   "cell_type": "markdown",
   "id": "e54f8d7e",
   "metadata": {},
   "source": [
    "If your if-else statement is short, you can condense it into one line for readability. "
   ]
  },
  {
   "cell_type": "code",
   "execution_count": 2,
   "id": "1d7929fe",
   "metadata": {},
   "outputs": [
    {
     "data": {
      "text/plain": [
       "5"
      ]
     },
     "execution_count": 2,
     "metadata": {},
     "output_type": "execute_result"
    }
   ],
   "source": [
    "purchase = 20\n",
    "\n",
    "# if-else statement in several lines\n",
    "if purchase > 100:\n",
    "    shipping_fee = 0\n",
    "else: \n",
    "    shipping_fee = 5\n",
    "shipping_fee"
   ]
  },
  {
   "cell_type": "code",
   "execution_count": 3,
   "id": "b3e1d68f",
   "metadata": {},
   "outputs": [
    {
     "data": {
      "text/plain": [
       "5"
      ]
     },
     "execution_count": 3,
     "metadata": {},
     "output_type": "execute_result"
    }
   ],
   "source": [
    "# if-else statement in one line\n",
    "\n",
    "shipping_fee = 0 if purchase > 100 else 5 \n",
    "shipping_fee"
   ]
  },
  {
   "attachments": {},
   "cell_type": "markdown",
   "id": "12761fed",
   "metadata": {},
   "source": [
    "### Exception Handling vs. If-Else Statements: Which is Better for Error Handling?"
   ]
  },
  {
   "attachments": {},
   "cell_type": "markdown",
   "id": "d71fe223",
   "metadata": {},
   "source": [
    "Exception handling is more efficient and concise than if-else statements for error handling. When an exception is raised, the interpreter jumps directly to the appropriate exception handler, avoiding unnecessary comparisons and branching.\n",
    "\n",
    "It also improves code readability by separating error-handling logic from the main program flow. "
   ]
  },
  {
   "cell_type": "code",
   "execution_count": 2,
   "id": "6a07af92",
   "metadata": {},
   "outputs": [],
   "source": [
    "# Okay \n",
    "import os\n",
    "\n",
    "\n",
    "def read_file(filename: str):\n",
    "    if os.path.exists(filename):\n",
    "        with open(filename, \"r\") as f:\n",
    "            contents = f.read()\n",
    "    else:\n",
    "        contents = \"\"\n",
    "    return contents\n"
   ]
  },
  {
   "cell_type": "code",
   "execution_count": 1,
   "id": "aa32d169",
   "metadata": {},
   "outputs": [],
   "source": [
    "# Better \n",
    "def read_file(filename: str):\n",
    "    try:\n",
    "        with open(filename, \"r\") as f:\n",
    "            contents = f.read()\n",
    "    except FileNotFoundError:\n",
    "        contents = \"\"\n",
    "    return contents\n"
   ]
  },
  {
   "cell_type": "markdown",
   "id": "5c58f683",
   "metadata": {},
   "source": [
    "### Python Switch Statement"
   ]
  },
  {
   "cell_type": "markdown",
   "id": "4be3b59c",
   "metadata": {},
   "source": [
    "It is common to use the if-else statements to execute multiple conditional statements."
   ]
  },
  {
   "cell_type": "code",
   "execution_count": 1,
   "id": "d00ac47a",
   "metadata": {},
   "outputs": [
    {
     "data": {
      "text/plain": [
       "4"
      ]
     },
     "execution_count": 1,
     "metadata": {},
     "output_type": "execute_result"
    }
   ],
   "source": [
    "def get_price(food: str):\n",
    "    if food == \"apple\":\n",
    "        return 4\n",
    "    elif food == \"orange\":\n",
    "        return 3\n",
    "    elif food == \"grape\":\n",
    "        return 5\n",
    "    else:\n",
    "        return \"Unknown\"\n",
    "\n",
    "\n",
    "get_price(\"apple\")\n"
   ]
  },
  {
   "cell_type": "markdown",
   "id": "af75f2a9",
   "metadata": {},
   "source": [
    "In Python 3.10 and above, you can use the switch statement to do the same thing. \n",
    "\n",
    "With the switch statement, you don't need to repeat the same statements multiple times (`food==x`), which makes the code cleaner than using multiple if-else statements. "
   ]
  },
  {
   "cell_type": "code",
   "execution_count": 2,
   "id": "f530a766",
   "metadata": {},
   "outputs": [
    {
     "data": {
      "text/plain": [
       "4"
      ]
     },
     "execution_count": 2,
     "metadata": {},
     "output_type": "execute_result"
    }
   ],
   "source": [
    "def get_price(food: str):\n",
    "    match food:\n",
    "        case \"apple\": # if food == \"apple\"\n",
    "            return 4\n",
    "        case \"orange\":\n",
    "            return 3\n",
    "        case \"grape\":\n",
    "            return 5\n",
    "        case _:        # else\n",
    "            return \"Unknown\"\n",
    "\n",
    "get_price(\"apple\")\n"
   ]
  },
  {
   "attachments": {},
   "cell_type": "markdown",
   "id": "01226127",
   "metadata": {},
   "source": [
    "### Structural Pattern Matching in Python 3.10"
   ]
  },
  {
   "attachments": {},
   "cell_type": "markdown",
   "id": "cd412efa",
   "metadata": {},
   "source": [
    "Have you ever wanted to match complex data types and extract their information? \n",
    "\n",
    "Python 3.10 allows you to do exactly that with the `match` statement and the `case` statements. "
   ]
  },
  {
   "attachments": {},
   "cell_type": "markdown",
   "id": "5ae843ef",
   "metadata": {},
   "source": [
    "The code below uses structural pattern matching to extract ages from the matching data structure.  "
   ]
  },
  {
   "cell_type": "code",
   "execution_count": 32,
   "id": "0fb1f2e9",
   "metadata": {},
   "outputs": [],
   "source": [
    "def get_youngest_pet(pet_info):\n",
    "    match pet_info:\n",
    "        case [{\"age\": age1}, {\"age\": age2}]:\n",
    "            print(\"Age is extracted from a list\")\n",
    "            return min(age1, age2)\n",
    "\n",
    "        case {'age': {}}:\n",
    "            print(\"Age is extracted from a dict\")\n",
    "            ages = pet_info['age'].values()\n",
    "            return min(ages)\n"
   ]
  },
  {
   "cell_type": "code",
   "execution_count": 33,
   "id": "539dbe26",
   "metadata": {},
   "outputs": [
    {
     "name": "stdout",
     "output_type": "stream",
     "text": [
      "Age is extracted from a list\n"
     ]
    },
    {
     "data": {
      "text/plain": [
       "1"
      ]
     },
     "execution_count": 33,
     "metadata": {},
     "output_type": "execute_result"
    }
   ],
   "source": [
    "pet_info1 = [{\"name\": \"bim\", \"age\": 1}, {\"name\": \"pepper\", \"age\": 9}]\n",
    "get_youngest_pet(pet_info1)"
   ]
  },
  {
   "cell_type": "code",
   "execution_count": 34,
   "id": "92a3cf03",
   "metadata": {},
   "outputs": [
    {
     "name": "stdout",
     "output_type": "stream",
     "text": [
      "Age is extracted from a dict\n"
     ]
    },
    {
     "data": {
      "text/plain": [
       "1"
      ]
     },
     "execution_count": 34,
     "metadata": {},
     "output_type": "execute_result"
    }
   ],
   "source": [
    "pet_info2 = {'age': {\"bim\": 1, \"pepper\": 9}}\n",
    "get_youngest_pet(pet_info2)"
   ]
  },
  {
   "attachments": {},
   "cell_type": "markdown",
   "id": "17ee688e",
   "metadata": {},
   "source": [
    "### Write Union Types as X|Y in Python 3.10"
   ]
  },
  {
   "attachments": {},
   "cell_type": "markdown",
   "id": "5e9433ba",
   "metadata": {},
   "source": [
    "Before Python 3.10, you need to use `typing.Union` to declare that a variable can have one of several different types.  "
   ]
  },
  {
   "cell_type": "code",
   "execution_count": 4,
   "id": "6eda637d",
   "metadata": {},
   "outputs": [
    {
     "data": {
      "text/plain": [
       "True"
      ]
     },
     "execution_count": 4,
     "metadata": {},
     "output_type": "execute_result"
    }
   ],
   "source": [
    "from typing import Union\n",
    "\n",
    "num = 2.3\n",
    "isinstance(num, Union[int, float])"
   ]
  },
  {
   "attachments": {},
   "cell_type": "markdown",
   "id": "52db28dd",
   "metadata": {},
   "source": [
    "In Python 3.10, you can replace `Union[X, Y]` with `X | Y` to simplify the expression. "
   ]
  },
  {
   "cell_type": "code",
   "execution_count": 5,
   "id": "0280ed44",
   "metadata": {},
   "outputs": [
    {
     "data": {
      "text/plain": [
       "True"
      ]
     },
     "execution_count": 5,
     "metadata": {},
     "output_type": "execute_result"
    }
   ],
   "source": [
    "isinstance(num, int | float)"
   ]
  },
  {
   "cell_type": "markdown",
   "id": "6b7ebb5d",
   "metadata": {},
   "source": [
    "### Walrus Operator: Assign a Variable in an Expression"
   ]
  },
  {
   "cell_type": "markdown",
   "id": "5910a691",
   "metadata": {},
   "source": [
    "The walrus operator (`:=`) in Python 3.8 and above allows you to assign a variable in an expression. The walrus operator is useful when you want to:\n",
    "- debug the components in an expression\n",
    "- avoid repeated computations\n",
    "\n",
    "In the code below, I use the walrus operator to assign a value to `r` when getting the circumference of a circle, which is then used to find the area of the circle. "
   ]
  },
  {
   "cell_type": "code",
   "execution_count": 1,
   "id": "9e84874e",
   "metadata": {},
   "outputs": [],
   "source": [
    "from math import pi\n",
    "\n",
    "d = 4"
   ]
  },
  {
   "cell_type": "code",
   "execution_count": 2,
   "id": "c578099b",
   "metadata": {},
   "outputs": [],
   "source": [
    "# without Walrus operator\n",
    "circumference = (d / 2) * 2 * pi\n",
    "area = (d / 2) * pi**2  # d/2 is computed twice\n"
   ]
  },
  {
   "cell_type": "code",
   "execution_count": 3,
   "id": "8d779cfe",
   "metadata": {},
   "outputs": [],
   "source": [
    "# with Walrus operator\n",
    "circumference = (r := d / 2) * 2 * pi\n",
    "area = r * pi**2  # d/2 is computed twice\n"
   ]
  }
 ],
 "metadata": {
  "hide_input": false,
  "kernelspec": {
   "display_name": "venv",
   "language": "python",
   "name": "python3"
  },
  "language_info": {
   "codemirror_mode": {
    "name": "ipython",
    "version": 3
   },
   "file_extension": ".py",
   "mimetype": "text/x-python",
   "name": "python",
   "nbconvert_exporter": "python",
   "pygments_lexer": "ipython3",
   "version": "3.9.6"
  },
  "toc": {
   "base_numbering": 1,
   "nav_menu": {},
   "number_sections": true,
   "sideBar": true,
   "skip_h1_title": false,
   "title_cell": "Table of Contents",
   "title_sidebar": "Contents",
   "toc_cell": false,
   "toc_position": {},
   "toc_section_display": true,
   "toc_window_display": false
  },
  "vscode": {
   "interpreter": {
    "hash": "c3bc044b9863ed6dec4c55e7ad5af27f030f7d27aed3f39d7a4886a926c4e2c1"
   }
  }
 },
 "nbformat": 4,
 "nbformat_minor": 5
}
