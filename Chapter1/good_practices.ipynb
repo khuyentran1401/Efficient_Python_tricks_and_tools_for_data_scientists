{
 "cells": [
  {
   "cell_type": "markdown",
   "id": "933e6dff",
   "metadata": {},
   "source": [
    "## Good Python Practices"
   ]
  },
  {
   "cell_type": "markdown",
   "id": "3c9f0d5a",
   "metadata": {},
   "source": [
    "### Write Meaningful Names"
   ]
  },
  {
   "cell_type": "markdown",
   "id": "36b850cc",
   "metadata": {},
   "source": [
    "It is a bad practice to use vague names such as `x`, `y`, `z` in your Python code since they don't give you any information about their roles in the code. "
   ]
  },
  {
   "cell_type": "code",
   "execution_count": 1,
   "id": "6402216c",
   "metadata": {
    "ExecuteTime": {
     "end_time": "2022-03-15T14:05:37.625403Z",
     "start_time": "2022-03-15T14:05:37.612839Z"
    }
   },
   "outputs": [],
   "source": [
    "x = 10 \n",
    "y = 5 \n",
    "z = x + y  "
   ]
  },
  {
   "cell_type": "markdown",
   "id": "1b7154fd",
   "metadata": {},
   "source": [
    "Write declarative variables names instead. You can also add type hints to make the types of these variables more obvious.  "
   ]
  },
  {
   "cell_type": "code",
   "execution_count": 3,
   "id": "0b624901",
   "metadata": {
    "ExecuteTime": {
     "end_time": "2022-03-15T14:08:41.841894Z",
     "start_time": "2022-03-15T14:08:41.836364Z"
    }
   },
   "outputs": [],
   "source": [
    "num_members: int = 10\n",
    "num_guests: int = 5\n",
    "sum_: int = num_members + num_guests  "
   ]
  }
 ],
 "metadata": {
  "kernelspec": {
   "display_name": "Python 3",
   "language": "python",
   "name": "python3"
  },
  "language_info": {
   "codemirror_mode": {
    "name": "ipython",
    "version": 3
   },
   "file_extension": ".py",
   "mimetype": "text/x-python",
   "name": "python",
   "nbconvert_exporter": "python",
   "pygments_lexer": "ipython3",
   "version": "3.8.10"
  },
  "toc": {
   "base_numbering": 1,
   "nav_menu": {},
   "number_sections": true,
   "sideBar": true,
   "skip_h1_title": false,
   "title_cell": "Table of Contents",
   "title_sidebar": "Contents",
   "toc_cell": false,
   "toc_position": {},
   "toc_section_display": true,
   "toc_window_display": false
  }
 },
 "nbformat": 4,
 "nbformat_minor": 5
}
