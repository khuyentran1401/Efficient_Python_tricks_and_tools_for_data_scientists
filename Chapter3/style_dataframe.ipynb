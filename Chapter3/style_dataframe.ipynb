{
 "cells": [
  {
   "attachments": {},
   "cell_type": "markdown",
   "id": "3a3a6efd",
   "metadata": {},
   "source": [
    "## Style a DataFrame"
   ]
  },
  {
   "attachments": {},
   "cell_type": "markdown",
   "id": "3f9ba7a1",
   "metadata": {},
   "source": [
    "### Highlight Your pandas DataFrame for Easier Analysis"
   ]
  },
  {
   "attachments": {},
   "cell_type": "markdown",
   "id": "176a9e9b",
   "metadata": {},
   "source": [
    "Have you ever wanted to highlight your pandas DataFrame for easier analysis? For example, you might want positive values in green and negative ones in red.\n",
    "\n",
    "That could be done with `df.style.apply`. "
   ]
  },
  {
   "cell_type": "code",
   "execution_count": 1,
   "id": "d710e3f6",
   "metadata": {
    "ExecuteTime": {
     "end_time": "2021-11-18T14:30:33.805492Z",
     "start_time": "2021-11-18T14:30:33.376948Z"
    }
   },
   "outputs": [],
   "source": [
    "import pandas as pd \n",
    "\n",
    "df = pd.DataFrame({\"col1\": [-5, -2, 1, 4], \"col2\": [2, 3, -1, 4]})"
   ]
  },
  {
   "cell_type": "code",
   "execution_count": 33,
   "id": "4f96e163",
   "metadata": {
    "ExecuteTime": {
     "end_time": "2021-09-11T15:39:38.809890Z",
     "start_time": "2021-09-11T15:39:38.791564Z"
    }
   },
   "outputs": [
    {
     "data": {
      "application/javascript": "\n            setTimeout(function() {\n                var nbb_cell_id = 33;\n                var nbb_unformatted_code = \"def highlight_number(row):\\n    return [\\n        'background-color: red; color: white' if cell <= 0\\n        else 'background-color: green; color: white'\\n        for cell in row\\n    ]\";\n                var nbb_formatted_code = \"def highlight_number(row):\\n    return [\\n        \\\"background-color: red; color: white\\\"\\n        if cell <= 0\\n        else \\\"background-color: green; color: white\\\"\\n        for cell in row\\n    ]\";\n                var nbb_cells = Jupyter.notebook.get_cells();\n                for (var i = 0; i < nbb_cells.length; ++i) {\n                    if (nbb_cells[i].input_prompt_number == nbb_cell_id) {\n                        if (nbb_cells[i].get_text() == nbb_unformatted_code) {\n                             nbb_cells[i].set_text(nbb_formatted_code);\n                        }\n                        break;\n                    }\n                }\n            }, 500);\n            ",
      "text/plain": [
       "<IPython.core.display.Javascript object>"
      ]
     },
     "metadata": {},
     "output_type": "display_data"
    }
   ],
   "source": [
    "def highlight_number(row):\n",
    "    return [\n",
    "        \"background-color: red; color: white\"\n",
    "        if cell <= 0\n",
    "        else \"background-color: green; color: white\"\n",
    "        for cell in row\n",
    "    ]"
   ]
  },
  {
   "cell_type": "code",
   "execution_count": null,
   "id": "6dbee122",
   "metadata": {
    "ExecuteTime": {
     "end_time": "2021-09-11T15:39:45.391720Z",
     "start_time": "2021-09-11T15:39:45.069976Z"
    }
   },
   "outputs": [
    {
     "data": {
      "text/html": [
       "<style type=\"text/css\">\n",
       "#T_26a2a_row0_col0, #T_26a2a_row1_col0, #T_26a2a_row2_col1 {\n",
       "  background-color: red;\n",
       "  color: white;\n",
       "}\n",
       "#T_26a2a_row0_col1, #T_26a2a_row1_col1, #T_26a2a_row2_col0, #T_26a2a_row3_col0, #T_26a2a_row3_col1 {\n",
       "  background-color: green;\n",
       "  color: white;\n",
       "}\n",
       "</style>\n",
       "<table id=\"T_26a2a_\">\n",
       "  <thead>\n",
       "    <tr>\n",
       "      <th class=\"blank level0\" >&nbsp;</th>\n",
       "      <th class=\"col_heading level0 col0\" >col1</th>\n",
       "      <th class=\"col_heading level0 col1\" >col2</th>\n",
       "    </tr>\n",
       "  </thead>\n",
       "  <tbody>\n",
       "    <tr>\n",
       "      <th id=\"T_26a2a_level0_row0\" class=\"row_heading level0 row0\" >0</th>\n",
       "      <td id=\"T_26a2a_row0_col0\" class=\"data row0 col0\" >-5</td>\n",
       "      <td id=\"T_26a2a_row0_col1\" class=\"data row0 col1\" >2</td>\n",
       "    </tr>\n",
       "    <tr>\n",
       "      <th id=\"T_26a2a_level0_row1\" class=\"row_heading level0 row1\" >1</th>\n",
       "      <td id=\"T_26a2a_row1_col0\" class=\"data row1 col0\" >-2</td>\n",
       "      <td id=\"T_26a2a_row1_col1\" class=\"data row1 col1\" >3</td>\n",
       "    </tr>\n",
       "    <tr>\n",
       "      <th id=\"T_26a2a_level0_row2\" class=\"row_heading level0 row2\" >2</th>\n",
       "      <td id=\"T_26a2a_row2_col0\" class=\"data row2 col0\" >1</td>\n",
       "      <td id=\"T_26a2a_row2_col1\" class=\"data row2 col1\" >-1</td>\n",
       "    </tr>\n",
       "    <tr>\n",
       "      <th id=\"T_26a2a_level0_row3\" class=\"row_heading level0 row3\" >3</th>\n",
       "      <td id=\"T_26a2a_row3_col0\" class=\"data row3 col0\" >4</td>\n",
       "      <td id=\"T_26a2a_row3_col1\" class=\"data row3 col1\" >4</td>\n",
       "    </tr>\n",
       "  </tbody>\n",
       "</table>\n"
      ],
      "text/plain": [
       "<pandas.io.formats.style.Styler at 0x7f5eb8a64460>"
      ]
     },
     "metadata": {},
     "output_type": "display_data"
    },
    {
     "data": {
      "application/javascript": "\n            setTimeout(function() {\n                var nbb_cell_id = 34;\n                var nbb_unformatted_code = \"df.style.apply(highlight_number)\";\n                var nbb_formatted_code = \"df.style.apply(highlight_number)\";\n                var nbb_cells = Jupyter.notebook.get_cells();\n                for (var i = 0; i < nbb_cells.length; ++i) {\n                    if (nbb_cells[i].input_prompt_number == nbb_cell_id) {\n                        if (nbb_cells[i].get_text() == nbb_unformatted_code) {\n                             nbb_cells[i].set_text(nbb_formatted_code);\n                        }\n                        break;\n                    }\n                }\n            }, 500);\n            ",
      "text/plain": [
       "<IPython.core.display.Javascript object>"
      ]
     },
     "metadata": {},
     "output_type": "display_data"
    }
   ],
   "source": [
    "df.style.apply(highlight_number)"
   ]
  },
  {
   "attachments": {},
   "cell_type": "markdown",
   "id": "196e71c7",
   "metadata": {},
   "source": [
    "One use case of highlighting is to compare the predictions of two or more models."
   ]
  },
  {
   "cell_type": "code",
   "execution_count": 6,
   "id": "5eedc803",
   "metadata": {},
   "outputs": [
    {
     "data": {
      "text/html": [
       "<style type=\"text/css\">\n",
       "#T_e17fd_row0_col0, #T_e17fd_row1_col0, #T_e17fd_row1_col1, #T_e17fd_row1_col2, #T_e17fd_row2_col0, #T_e17fd_row4_col0, #T_e17fd_row4_col2 {\n",
       "  background-color: green;\n",
       "  color: white;\n",
       "}\n",
       "#T_e17fd_row0_col1, #T_e17fd_row0_col2, #T_e17fd_row2_col1, #T_e17fd_row2_col2, #T_e17fd_row3_col0, #T_e17fd_row3_col1, #T_e17fd_row3_col2, #T_e17fd_row4_col1 {\n",
       "  background-color: red;\n",
       "  color: white;\n",
       "}\n",
       "</style>\n",
       "<table id=\"T_e17fd\">\n",
       "  <thead>\n",
       "    <tr>\n",
       "      <th class=\"blank level0\" >&nbsp;</th>\n",
       "      <th id=\"T_e17fd_level0_col0\" class=\"col_heading level0 col0\" >predictions_1</th>\n",
       "      <th id=\"T_e17fd_level0_col1\" class=\"col_heading level0 col1\" >predictions_2</th>\n",
       "      <th id=\"T_e17fd_level0_col2\" class=\"col_heading level0 col2\" >real_labels</th>\n",
       "    </tr>\n",
       "  </thead>\n",
       "  <tbody>\n",
       "    <tr>\n",
       "      <th id=\"T_e17fd_level0_row0\" class=\"row_heading level0 row0\" >0</th>\n",
       "      <td id=\"T_e17fd_row0_col0\" class=\"data row0 col0\" >1</td>\n",
       "      <td id=\"T_e17fd_row0_col1\" class=\"data row0 col1\" >0</td>\n",
       "      <td id=\"T_e17fd_row0_col2\" class=\"data row0 col2\" >0</td>\n",
       "    </tr>\n",
       "    <tr>\n",
       "      <th id=\"T_e17fd_level0_row1\" class=\"row_heading level0 row1\" >1</th>\n",
       "      <td id=\"T_e17fd_row1_col0\" class=\"data row1 col0\" >1</td>\n",
       "      <td id=\"T_e17fd_row1_col1\" class=\"data row1 col1\" >1</td>\n",
       "      <td id=\"T_e17fd_row1_col2\" class=\"data row1 col2\" >1</td>\n",
       "    </tr>\n",
       "    <tr>\n",
       "      <th id=\"T_e17fd_level0_row2\" class=\"row_heading level0 row2\" >2</th>\n",
       "      <td id=\"T_e17fd_row2_col0\" class=\"data row2 col0\" >1</td>\n",
       "      <td id=\"T_e17fd_row2_col1\" class=\"data row2 col1\" >0</td>\n",
       "      <td id=\"T_e17fd_row2_col2\" class=\"data row2 col2\" >0</td>\n",
       "    </tr>\n",
       "    <tr>\n",
       "      <th id=\"T_e17fd_level0_row3\" class=\"row_heading level0 row3\" >3</th>\n",
       "      <td id=\"T_e17fd_row3_col0\" class=\"data row3 col0\" >0</td>\n",
       "      <td id=\"T_e17fd_row3_col1\" class=\"data row3 col1\" >0</td>\n",
       "      <td id=\"T_e17fd_row3_col2\" class=\"data row3 col2\" >0</td>\n",
       "    </tr>\n",
       "    <tr>\n",
       "      <th id=\"T_e17fd_level0_row4\" class=\"row_heading level0 row4\" >4</th>\n",
       "      <td id=\"T_e17fd_row4_col0\" class=\"data row4 col0\" >1</td>\n",
       "      <td id=\"T_e17fd_row4_col1\" class=\"data row4 col1\" >0</td>\n",
       "      <td id=\"T_e17fd_row4_col2\" class=\"data row4 col2\" >1</td>\n",
       "    </tr>\n",
       "  </tbody>\n",
       "</table>\n"
      ],
      "text/plain": [
       "<pandas.io.formats.style.Styler at 0x107385940>"
      ]
     },
     "execution_count": 6,
     "metadata": {},
     "output_type": "execute_result"
    }
   ],
   "source": [
    "import pandas as pd\n",
    "\n",
    "comparisons = pd.DataFrame(\n",
    "    {\n",
    "        \"predictions_1\": [1, 1, 1, 0, 1],\n",
    "        \"predictions_2\": [0, 1, 0, 0, 0],\n",
    "        \"real_labels\": [0, 1, 0, 0, 1],\n",
    "    }\n",
    ")\n",
    "\n",
    "\n",
    "def highlight_cell(row):\n",
    "    return [\n",
    "        \"background-color: red; color: white\"\n",
    "        if cell == 0\n",
    "        else \"background-color: green; color: white\"\n",
    "        for cell in row\n",
    "    ]\n",
    "\n",
    "\n",
    "comparisons.style.apply(highlight_cell)\n"
   ]
  },
  {
   "attachments": {},
   "cell_type": "markdown",
   "id": "7d2fa667",
   "metadata": {},
   "source": [
    "### Color the Background of a pandas DataFrame in a Gradient Style"
   ]
  },
  {
   "attachments": {},
   "cell_type": "markdown",
   "id": "a22cc81e",
   "metadata": {},
   "source": [
    "If you want to color the background of a pandas DataFrame in a gradient style, use `df.style.background_gradient`. The color of the cell will change based on its value. "
   ]
  },
  {
   "cell_type": "code",
   "execution_count": 1,
   "id": "43e08223",
   "metadata": {},
   "outputs": [],
   "source": [
    "import pandas as pd \n",
    "\n",
    "df = pd.DataFrame({\"col1\": [-5, -2, 1, 4], \"col2\": [2, 3, -1, 4]})\n"
   ]
  },
  {
   "cell_type": "code",
   "execution_count": 4,
   "id": "8356353b",
   "metadata": {},
   "outputs": [
    {
     "data": {
      "text/html": [
       "<style type=\"text/css\">\n",
       "#T_cc82a_row0_col0, #T_cc82a_row2_col1 {\n",
       "  background-color: #fff7fb;\n",
       "  color: #000000;\n",
       "}\n",
       "#T_cc82a_row0_col1 {\n",
       "  background-color: #4295c3;\n",
       "  color: #f1f1f1;\n",
       "}\n",
       "#T_cc82a_row1_col0 {\n",
       "  background-color: #b4c4df;\n",
       "  color: #000000;\n",
       "}\n",
       "#T_cc82a_row1_col1 {\n",
       "  background-color: #0567a2;\n",
       "  color: #f1f1f1;\n",
       "}\n",
       "#T_cc82a_row2_col0 {\n",
       "  background-color: #2685bb;\n",
       "  color: #f1f1f1;\n",
       "}\n",
       "#T_cc82a_row3_col0, #T_cc82a_row3_col1 {\n",
       "  background-color: #023858;\n",
       "  color: #f1f1f1;\n",
       "}\n",
       "</style>\n",
       "<table id=\"T_cc82a\">\n",
       "  <thead>\n",
       "    <tr>\n",
       "      <th class=\"blank level0\" >&nbsp;</th>\n",
       "      <th id=\"T_cc82a_level0_col0\" class=\"col_heading level0 col0\" >col1</th>\n",
       "      <th id=\"T_cc82a_level0_col1\" class=\"col_heading level0 col1\" >col2</th>\n",
       "    </tr>\n",
       "  </thead>\n",
       "  <tbody>\n",
       "    <tr>\n",
       "      <th id=\"T_cc82a_level0_row0\" class=\"row_heading level0 row0\" >0</th>\n",
       "      <td id=\"T_cc82a_row0_col0\" class=\"data row0 col0\" >-5</td>\n",
       "      <td id=\"T_cc82a_row0_col1\" class=\"data row0 col1\" >2</td>\n",
       "    </tr>\n",
       "    <tr>\n",
       "      <th id=\"T_cc82a_level0_row1\" class=\"row_heading level0 row1\" >1</th>\n",
       "      <td id=\"T_cc82a_row1_col0\" class=\"data row1 col0\" >-2</td>\n",
       "      <td id=\"T_cc82a_row1_col1\" class=\"data row1 col1\" >3</td>\n",
       "    </tr>\n",
       "    <tr>\n",
       "      <th id=\"T_cc82a_level0_row2\" class=\"row_heading level0 row2\" >2</th>\n",
       "      <td id=\"T_cc82a_row2_col0\" class=\"data row2 col0\" >1</td>\n",
       "      <td id=\"T_cc82a_row2_col1\" class=\"data row2 col1\" >-1</td>\n",
       "    </tr>\n",
       "    <tr>\n",
       "      <th id=\"T_cc82a_level0_row3\" class=\"row_heading level0 row3\" >3</th>\n",
       "      <td id=\"T_cc82a_row3_col0\" class=\"data row3 col0\" >4</td>\n",
       "      <td id=\"T_cc82a_row3_col1\" class=\"data row3 col1\" >4</td>\n",
       "    </tr>\n",
       "  </tbody>\n",
       "</table>\n"
      ],
      "text/plain": [
       "<pandas.io.formats.style.Styler at 0x10f405460>"
      ]
     },
     "execution_count": 4,
     "metadata": {},
     "output_type": "execute_result"
    }
   ],
   "source": [
    "df.style.background_gradient()  "
   ]
  },
  {
   "cell_type": "code",
   "execution_count": 5,
   "id": "4cd37cf4",
   "metadata": {},
   "outputs": [
    {
     "data": {
      "text/html": [
       "<style type=\"text/css\">\n",
       "#T_1d6f8_row0_col0, #T_1d6f8_row2_col1 {\n",
       "  background-color: #0d0887;\n",
       "  color: #f1f1f1;\n",
       "}\n",
       "#T_1d6f8_row0_col1 {\n",
       "  background-color: #e16462;\n",
       "  color: #f1f1f1;\n",
       "}\n",
       "#T_1d6f8_row1_col0 {\n",
       "  background-color: #9c179e;\n",
       "  color: #f1f1f1;\n",
       "}\n",
       "#T_1d6f8_row1_col1 {\n",
       "  background-color: #fca636;\n",
       "  color: #000000;\n",
       "}\n",
       "#T_1d6f8_row2_col0 {\n",
       "  background-color: #ed7953;\n",
       "  color: #f1f1f1;\n",
       "}\n",
       "#T_1d6f8_row3_col0, #T_1d6f8_row3_col1 {\n",
       "  background-color: #f0f921;\n",
       "  color: #000000;\n",
       "}\n",
       "</style>\n",
       "<table id=\"T_1d6f8\">\n",
       "  <thead>\n",
       "    <tr>\n",
       "      <th class=\"blank level0\" >&nbsp;</th>\n",
       "      <th id=\"T_1d6f8_level0_col0\" class=\"col_heading level0 col0\" >col1</th>\n",
       "      <th id=\"T_1d6f8_level0_col1\" class=\"col_heading level0 col1\" >col2</th>\n",
       "    </tr>\n",
       "  </thead>\n",
       "  <tbody>\n",
       "    <tr>\n",
       "      <th id=\"T_1d6f8_level0_row0\" class=\"row_heading level0 row0\" >0</th>\n",
       "      <td id=\"T_1d6f8_row0_col0\" class=\"data row0 col0\" >-5</td>\n",
       "      <td id=\"T_1d6f8_row0_col1\" class=\"data row0 col1\" >2</td>\n",
       "    </tr>\n",
       "    <tr>\n",
       "      <th id=\"T_1d6f8_level0_row1\" class=\"row_heading level0 row1\" >1</th>\n",
       "      <td id=\"T_1d6f8_row1_col0\" class=\"data row1 col0\" >-2</td>\n",
       "      <td id=\"T_1d6f8_row1_col1\" class=\"data row1 col1\" >3</td>\n",
       "    </tr>\n",
       "    <tr>\n",
       "      <th id=\"T_1d6f8_level0_row2\" class=\"row_heading level0 row2\" >2</th>\n",
       "      <td id=\"T_1d6f8_row2_col0\" class=\"data row2 col0\" >1</td>\n",
       "      <td id=\"T_1d6f8_row2_col1\" class=\"data row2 col1\" >-1</td>\n",
       "    </tr>\n",
       "    <tr>\n",
       "      <th id=\"T_1d6f8_level0_row3\" class=\"row_heading level0 row3\" >3</th>\n",
       "      <td id=\"T_1d6f8_row3_col0\" class=\"data row3 col0\" >4</td>\n",
       "      <td id=\"T_1d6f8_row3_col1\" class=\"data row3 col1\" >4</td>\n",
       "    </tr>\n",
       "  </tbody>\n",
       "</table>\n"
      ],
      "text/plain": [
       "<pandas.io.formats.style.Styler at 0x10f486340>"
      ]
     },
     "execution_count": 5,
     "metadata": {},
     "output_type": "execute_result"
    }
   ],
   "source": [
    "df.style.background_gradient(cmap='plasma')  "
   ]
  },
  {
   "attachments": {},
   "cell_type": "markdown",
   "id": "acec4e48",
   "metadata": {},
   "source": [
    "### Format the Text Display Value of Cells"
   ]
  },
  {
   "attachments": {},
   "cell_type": "markdown",
   "id": "726bb1c7",
   "metadata": {},
   "source": [
    "Sometimes, you might want to format your DataFrame before writing it to a file such as an Excel sheet. `df.style.format` allows you to do that."
   ]
  },
  {
   "cell_type": "code",
   "execution_count": 37,
   "id": "5bc41dc4",
   "metadata": {},
   "outputs": [
    {
     "data": {
      "text/html": [
       "<style type=\"text/css\">\n",
       "</style>\n",
       "<table id=\"T_2ca8d\">\n",
       "  <thead>\n",
       "    <tr>\n",
       "      <th class=\"blank level0\" >&nbsp;</th>\n",
       "      <th id=\"T_2ca8d_level0_col0\" class=\"col_heading level0 col0\" >item</th>\n",
       "      <th id=\"T_2ca8d_level0_col1\" class=\"col_heading level0 col1\" >price</th>\n",
       "    </tr>\n",
       "  </thead>\n",
       "  <tbody>\n",
       "    <tr>\n",
       "      <th id=\"T_2ca8d_level0_row0\" class=\"row_heading level0 row0\" >0</th>\n",
       "      <td id=\"T_2ca8d_row0_col0\" class=\"data row0 col0\" >A</td>\n",
       "      <td id=\"T_2ca8d_row0_col1\" class=\"data row0 col1\" >MISSING</td>\n",
       "    </tr>\n",
       "    <tr>\n",
       "      <th id=\"T_2ca8d_level0_row1\" class=\"row_heading level0 row1\" >1</th>\n",
       "      <td id=\"T_2ca8d_row1_col0\" class=\"data row1 col0\" >B</td>\n",
       "      <td id=\"T_2ca8d_row1_col1\" class=\"data row1 col1\" >$2.3</td>\n",
       "    </tr>\n",
       "  </tbody>\n",
       "</table>\n"
      ],
      "text/plain": [
       "<pandas.io.formats.style.Styler at 0x169f14a00>"
      ]
     },
     "execution_count": 37,
     "metadata": {},
     "output_type": "execute_result"
    }
   ],
   "source": [
    "import pandas as pd  \n",
    "import numpy as np \n",
    "\n",
    "df = pd.DataFrame({'item': ['a', 'b'], 'price': [np.nan, 2.34]})\n",
    "s = df.style.format({'item': str.title,'price': '${:.1f}'}, na_rep='MISSING')\n",
    "s "
   ]
  },
  {
   "cell_type": "code",
   "execution_count": 34,
   "id": "f50d846f",
   "metadata": {},
   "outputs": [],
   "source": [
    "s.to_excel(\"formatted_file.xlsx\")"
   ]
  },
  {
   "attachments": {},
   "cell_type": "markdown",
   "id": "b5e8f35f",
   "metadata": {},
   "source": [
    "### to_markdown: Print a DataFrame in Markdown Format"
   ]
  },
  {
   "cell_type": "code",
   "execution_count": null,
   "id": "f2d48b0e",
   "metadata": {
    "tags": [
     "hide-cell"
    ]
   },
   "outputs": [],
   "source": [
    "!pip install tabulate "
   ]
  },
  {
   "attachments": {},
   "cell_type": "markdown",
   "id": "8138b74a",
   "metadata": {},
   "source": [
    "Sometimes, you might want to include a table in a markdown, such as GitHub README. If you want to print a DataFrame in markdown format, use `to_markdown()`."
   ]
  },
  {
   "cell_type": "code",
   "execution_count": 6,
   "id": "5ce11ee4",
   "metadata": {
    "ExecuteTime": {
     "end_time": "2022-01-13T15:16:07.120045Z",
     "start_time": "2022-01-13T15:16:07.106593Z"
    }
   },
   "outputs": [
    {
     "name": "stdout",
     "output_type": "stream",
     "text": [
      "|    |   a |   b |\n",
      "|---:|----:|----:|\n",
      "|  0 |   1 |   5 |\n",
      "|  1 |   2 |   6 |\n",
      "|  2 |   3 |   7 |\n",
      "|  3 |   4 |   8 |\n"
     ]
    }
   ],
   "source": [
    "import pandas as pd  \n",
    "\n",
    "df = pd.DataFrame({'a': [1, 2, 3, 4], 'b': [5, 6, 7, 8]})\n",
    "print(df.to_markdown())"
   ]
  },
  {
   "attachments": {},
   "cell_type": "markdown",
   "id": "1f203d07",
   "metadata": {},
   "source": [
    "Copy and paste the output above in Jupyter Notebook's markdown cell will give you an output like below:"
   ]
  },
  {
   "attachments": {},
   "cell_type": "markdown",
   "id": "3732ee90",
   "metadata": {},
   "source": [
    "|    |   a |   b |\n",
    "|---:|----:|----:|\n",
    "|  0 |   1 |   5 |\n",
    "|  1 |   2 |   6 |\n",
    "|  2 |   3 |   7 |\n",
    "|  3 |   4 |   8 |"
   ]
  },
  {
   "attachments": {},
   "cell_type": "markdown",
   "id": "cead1104",
   "metadata": {},
   "source": [
    "You can also output markdown with a tabulate option:"
   ]
  },
  {
   "cell_type": "code",
   "execution_count": 6,
   "id": "3c866897",
   "metadata": {
    "ExecuteTime": {
     "end_time": "2022-01-13T15:16:17.453777Z",
     "start_time": "2022-01-13T15:16:17.445698Z"
    },
    "scrolled": false
   },
   "outputs": [
    {
     "name": "stdout",
     "output_type": "stream",
     "text": [
      "+----+-----+-----+\n",
      "|    |   a |   b |\n",
      "+====+=====+=====+\n",
      "|  0 |   1 |   5 |\n",
      "+----+-----+-----+\n",
      "|  1 |   2 |   6 |\n",
      "+----+-----+-----+\n",
      "|  2 |   3 |   7 |\n",
      "+----+-----+-----+\n",
      "|  3 |   4 |   8 |\n",
      "+----+-----+-----+\n"
     ]
    }
   ],
   "source": [
    "print(df.to_markdown(tablefmt=\"grid\"))"
   ]
  },
  {
   "attachments": {},
   "cell_type": "markdown",
   "id": "73ed4d85",
   "metadata": {},
   "source": [
    "### Print a DataFrame in Latex Format"
   ]
  },
  {
   "attachments": {},
   "cell_type": "markdown",
   "id": "d306323a",
   "metadata": {},
   "source": [
    "If you want to print a DataFrame in LaTeX format, use `df.style.to_latex()`. This is useful when you want to include your DataFrame in a LaTeX editor."
   ]
  },
  {
   "cell_type": "code",
   "execution_count": 3,
   "id": "c3062575",
   "metadata": {},
   "outputs": [
    {
     "name": "stdout",
     "output_type": "stream",
     "text": [
      "\\begin{tabular}{lrr}\n",
      " & a & b \\\\\n",
      "0 & 1 & 5 \\\\\n",
      "1 & 2 & 6 \\\\\n",
      "2 & 3 & 7 \\\\\n",
      "3 & 4 & 8 \\\\\n",
      "\\end{tabular}\n",
      "\n"
     ]
    }
   ],
   "source": [
    "import pandas as pd \n",
    "\n",
    "df = pd.DataFrame({'a': [1, 2, 3, 4], 'b': [5, 6, 7, 8]})\n",
    "print(df.style.to_latex())"
   ]
  },
  {
   "attachments": {},
   "cell_type": "markdown",
   "id": "4f39d33d",
   "metadata": {},
   "source": [
    "![](../img/equation4.png)"
   ]
  },
  {
   "attachments": {},
   "cell_type": "markdown",
   "id": "59f48e77",
   "metadata": {},
   "source": [
    "You can also specify the style of the table before turning it to LaTeX"
   ]
  },
  {
   "cell_type": "code",
   "execution_count": 30,
   "id": "ca8bbc41",
   "metadata": {},
   "outputs": [
    {
     "name": "stdout",
     "output_type": "stream",
     "text": [
      "\\begin{tabular}{|l|l|l|}\n",
      "\\hline\n",
      " & a & b \\\\\n",
      "\\hline\n",
      "0 & 1 & 5 \\\\\n",
      "1 & 2 & 6 \\\\\n",
      "2 & 3 & 7 \\\\\n",
      "3 & 4 & 8 \\\\\n",
      "\\hline\n",
      "\\end{tabular}\n",
      "\n"
     ]
    }
   ],
   "source": [
    "latex = df.style.set_table_styles(\n",
    "    [\n",
    "        {\"selector\": \"toprule\", \"props\": \":hline;\"},\n",
    "        {\"selector\": \"midrule\", \"props\": \":hline;\"},\n",
    "        {\"selector\": \"bottomrule\", \"props\": \":hline;\"},\n",
    "    ]\n",
    ").to_latex(column_format=\"|l|l|l|\")\n",
    "print(latex)\n"
   ]
  },
  {
   "attachments": {},
   "cell_type": "markdown",
   "id": "d90b8d8f",
   "metadata": {},
   "source": [
    "![](../img/equation5.png)"
   ]
  }
 ],
 "metadata": {
  "hide_input": false,
  "kernelspec": {
   "display_name": "Python 3 (ipykernel)",
   "language": "python",
   "name": "python3"
  },
  "language_info": {
   "codemirror_mode": {
    "name": "ipython",
    "version": 3
   },
   "file_extension": ".py",
   "mimetype": "text/x-python",
   "name": "python",
   "nbconvert_exporter": "python",
   "pygments_lexer": "ipython3",
   "version": "3.9.6"
  },
  "toc": {
   "base_numbering": 1,
   "nav_menu": {},
   "number_sections": true,
   "sideBar": true,
   "skip_h1_title": false,
   "title_cell": "Table of Contents",
   "title_sidebar": "Contents",
   "toc_cell": false,
   "toc_position": {},
   "toc_section_display": true,
   "toc_window_display": false
  },
  "vscode": {
   "interpreter": {
    "hash": "484329849bb907480cd798e750759bc6f1d66c93f9e78e7055aa0a2c2de6b47b"
   }
  }
 },
 "nbformat": 4,
 "nbformat_minor": 5
}
