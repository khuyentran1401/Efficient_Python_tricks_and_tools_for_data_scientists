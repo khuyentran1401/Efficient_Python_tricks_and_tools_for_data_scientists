{
 "cells": [
  {
   "cell_type": "markdown",
   "id": "f42068f7",
   "metadata": {},
   "source": [
    "## Work with Datetime "
   ]
  },
  {
   "cell_type": "markdown",
   "id": "9dcb026e",
   "metadata": {},
   "source": [
    "### parse_dates: Convert Columns into Datetime When Using Pandas to Read CSV Files"
   ]
  },
  {
   "cell_type": "markdown",
   "id": "35858eaa",
   "metadata": {},
   "source": [
    "If there are datetime columns in your csv file, use the `parse_dates` parameter when reading csv file with pandas. This reduces one extra step to convert these columns from string to datetime after reading the file."
   ]
  },
  {
   "cell_type": "code",
   "execution_count": 5,
   "id": "903007f9",
   "metadata": {
    "ExecuteTime": {
     "end_time": "2021-11-18T14:31:59.555866Z",
     "start_time": "2021-11-18T14:31:59.541403Z"
    }
   },
   "outputs": [],
   "source": [
    "import pandas as pd \n",
    "\n",
    "df = pd.read_csv(\"data1.csv\", parse_dates=[\"date_column_1\", \"date_column_2\"])"
   ]
  },
  {
   "cell_type": "code",
   "execution_count": 53,
   "id": "5691ba4b",
   "metadata": {
    "ExecuteTime": {
     "end_time": "2021-09-11T15:58:03.770504Z",
     "start_time": "2021-09-11T15:58:03.750524Z"
    }
   },
   "outputs": [
    {
     "data": {
      "text/html": [
       "<div>\n",
       "<style scoped>\n",
       "    .dataframe tbody tr th:only-of-type {\n",
       "        vertical-align: middle;\n",
       "    }\n",
       "\n",
       "    .dataframe tbody tr th {\n",
       "        vertical-align: top;\n",
       "    }\n",
       "\n",
       "    .dataframe thead th {\n",
       "        text-align: right;\n",
       "    }\n",
       "</style>\n",
       "<table border=\"1\" class=\"dataframe\">\n",
       "  <thead>\n",
       "    <tr style=\"text-align: right;\">\n",
       "      <th></th>\n",
       "      <th>date_column_1</th>\n",
       "      <th>date_column_2</th>\n",
       "      <th>value</th>\n",
       "    </tr>\n",
       "  </thead>\n",
       "  <tbody>\n",
       "    <tr>\n",
       "      <th>0</th>\n",
       "      <td>2021-02-10</td>\n",
       "      <td>2021-02-11</td>\n",
       "      <td>3</td>\n",
       "    </tr>\n",
       "    <tr>\n",
       "      <th>1</th>\n",
       "      <td>2021-02-12</td>\n",
       "      <td>2021-02-13</td>\n",
       "      <td>3</td>\n",
       "    </tr>\n",
       "  </tbody>\n",
       "</table>\n",
       "</div>"
      ],
      "text/plain": [
       "  date_column_1 date_column_2  value\n",
       "0    2021-02-10    2021-02-11      3\n",
       "1    2021-02-12    2021-02-13      3"
      ]
     },
     "execution_count": 53,
     "metadata": {},
     "output_type": "execute_result"
    },
    {
     "data": {
      "application/javascript": [
       "\n",
       "            setTimeout(function() {\n",
       "                var nbb_cell_id = 53;\n",
       "                var nbb_unformatted_code = \"df\";\n",
       "                var nbb_formatted_code = \"df\";\n",
       "                var nbb_cells = Jupyter.notebook.get_cells();\n",
       "                for (var i = 0; i < nbb_cells.length; ++i) {\n",
       "                    if (nbb_cells[i].input_prompt_number == nbb_cell_id) {\n",
       "                        if (nbb_cells[i].get_text() == nbb_unformatted_code) {\n",
       "                             nbb_cells[i].set_text(nbb_formatted_code);\n",
       "                        }\n",
       "                        break;\n",
       "                    }\n",
       "                }\n",
       "            }, 500);\n",
       "            "
      ],
      "text/plain": [
       "<IPython.core.display.Javascript object>"
      ]
     },
     "metadata": {},
     "output_type": "display_data"
    }
   ],
   "source": [
    "df"
   ]
  },
  {
   "cell_type": "code",
   "execution_count": 54,
   "id": "e982e0df",
   "metadata": {
    "ExecuteTime": {
     "end_time": "2021-09-11T15:58:15.140787Z",
     "start_time": "2021-09-11T15:58:15.113561Z"
    }
   },
   "outputs": [
    {
     "name": "stdout",
     "output_type": "stream",
     "text": [
      "<class 'pandas.core.frame.DataFrame'>\n",
      "RangeIndex: 2 entries, 0 to 1\n",
      "Data columns (total 3 columns):\n",
      " #   Column         Non-Null Count  Dtype         \n",
      "---  ------         --------------  -----         \n",
      " 0   date_column_1  2 non-null      datetime64[ns]\n",
      " 1   date_column_2  2 non-null      datetime64[ns]\n",
      " 2   value          2 non-null      int64         \n",
      "dtypes: datetime64[ns](2), int64(1)\n",
      "memory usage: 176.0 bytes\n"
     ]
    },
    {
     "data": {
      "application/javascript": [
       "\n",
       "            setTimeout(function() {\n",
       "                var nbb_cell_id = 54;\n",
       "                var nbb_unformatted_code = \"df.info()\";\n",
       "                var nbb_formatted_code = \"df.info()\";\n",
       "                var nbb_cells = Jupyter.notebook.get_cells();\n",
       "                for (var i = 0; i < nbb_cells.length; ++i) {\n",
       "                    if (nbb_cells[i].input_prompt_number == nbb_cell_id) {\n",
       "                        if (nbb_cells[i].get_text() == nbb_unformatted_code) {\n",
       "                             nbb_cells[i].set_text(nbb_formatted_code);\n",
       "                        }\n",
       "                        break;\n",
       "                    }\n",
       "                }\n",
       "            }, 500);\n",
       "            "
      ],
      "text/plain": [
       "<IPython.core.display.Javascript object>"
      ]
     },
     "metadata": {},
     "output_type": "display_data"
    }
   ],
   "source": [
    "df.info()"
   ]
  },
  {
   "cell_type": "markdown",
   "id": "b3128673",
   "metadata": {},
   "source": [
    "### pandas' DateOffset: Add a Time Interval to a pandas Timestamp"
   ]
  },
  {
   "cell_type": "markdown",
   "id": "f77d313d",
   "metadata": {},
   "source": [
    "If you want to add days, months, or other time intervals to a pandas `Timestamp`,  use `pd.DateOffset`."
   ]
  },
  {
   "cell_type": "code",
   "execution_count": 28,
   "id": "5ddd4923",
   "metadata": {
    "ExecuteTime": {
     "end_time": "2021-10-19T14:16:12.290474Z",
     "start_time": "2021-10-19T14:16:12.285731Z"
    }
   },
   "outputs": [
    {
     "data": {
      "text/plain": [
       "Timestamp('2022-01-10 09:00:00')"
      ]
     },
     "execution_count": 28,
     "metadata": {},
     "output_type": "execute_result"
    }
   ],
   "source": [
    "import pandas as pd \n",
    "from pandas.tseries.offsets import DateOffset, BDay\n",
    "\n",
    "ts = pd.Timestamp('2021-10-10 9:00:00')\n",
    "\n",
    "# Increase the timestamp by 3 months\n",
    "ts + DateOffset(months=3)"
   ]
  },
  {
   "cell_type": "code",
   "execution_count": 30,
   "id": "9408ee19",
   "metadata": {
    "ExecuteTime": {
     "end_time": "2021-10-19T14:16:14.546422Z",
     "start_time": "2021-10-19T14:16:14.537185Z"
    }
   },
   "outputs": [
    {
     "data": {
      "text/plain": [
       "Timestamp('2024-10-10 12:00:00')"
      ]
     },
     "execution_count": 30,
     "metadata": {},
     "output_type": "execute_result"
    }
   ],
   "source": [
    "# Increase the timestamp by 3 years and 3 hours\n",
    "ts + DateOffset(years=3, hours=3)"
   ]
  },
  {
   "cell_type": "markdown",
   "id": "1cc3c724",
   "metadata": {},
   "source": [
    "You can also increase the timestamp by `n` business days using `BDay`. "
   ]
  },
  {
   "cell_type": "code",
   "execution_count": 31,
   "id": "3eccde72",
   "metadata": {
    "ExecuteTime": {
     "end_time": "2021-10-19T14:16:15.970132Z",
     "start_time": "2021-10-19T14:16:15.961328Z"
    },
    "scrolled": true
   },
   "outputs": [
    {
     "data": {
      "text/plain": [
       "Timestamp('2021-10-18 09:00:00')"
      ]
     },
     "execution_count": 31,
     "metadata": {},
     "output_type": "execute_result"
    }
   ],
   "source": [
    "# Increase the timestamp by 6 business days\n",
    "ts + BDay(n=6)"
   ]
  },
  {
   "cell_type": "markdown",
   "id": "be8b8475",
   "metadata": {},
   "source": [
    "[Link to pandas DateOffset](https://pandas.pydata.org/docs/reference/api/pandas.tseries.offsets.DateOffset.html)."
   ]
  },
  {
   "cell_type": "markdown",
   "id": "8243ff9a",
   "metadata": {},
   "source": [
    "### pandas.Series.dt: Access Datetime Properties of a pandas Series"
   ]
  },
  {
   "cell_type": "markdown",
   "id": "651b6228",
   "metadata": {},
   "source": [
    "The easiest way to access datetime properties of pandas Series values is to use `pandas.Series.dt`."
   ]
  },
  {
   "cell_type": "code",
   "execution_count": 4,
   "id": "e2e7f04c",
   "metadata": {
    "ExecuteTime": {
     "end_time": "2021-11-18T14:31:53.183581Z",
     "start_time": "2021-11-18T14:31:53.165489Z"
    }
   },
   "outputs": [
    {
     "data": {
      "text/plain": [
       "0    2021\n",
       "1    2022\n",
       "Name: date, dtype: int64"
      ]
     },
     "execution_count": 4,
     "metadata": {},
     "output_type": "execute_result"
    }
   ],
   "source": [
    "import pandas as pd \n",
    "\n",
    "df = pd.DataFrame({\"date\": [\"2021/05/13 15:00\", \"2022-6-20 14:00\"], \"values\": [1, 3]})\n",
    "\n",
    "df[\"date\"] = pd.to_datetime(df[\"date\"])\n",
    "\n",
    "df[\"date\"].dt.year"
   ]
  },
  {
   "cell_type": "code",
   "execution_count": 6,
   "id": "97bee9ba",
   "metadata": {
    "ExecuteTime": {
     "end_time": "2021-09-11T16:02:45.320812Z",
     "start_time": "2021-09-11T16:02:45.301590Z"
    },
    "scrolled": true
   },
   "outputs": [
    {
     "data": {
      "text/plain": [
       "0    15:00:00\n",
       "1    14:00:00\n",
       "Name: date, dtype: object"
      ]
     },
     "execution_count": 6,
     "metadata": {},
     "output_type": "execute_result"
    },
    {
     "data": {
      "application/javascript": [
       "\n",
       "            setTimeout(function() {\n",
       "                var nbb_cell_id = 6;\n",
       "                var nbb_unformatted_code = \"df['date'].dt.time\";\n",
       "                var nbb_formatted_code = \"df[\\\"date\\\"].dt.time\";\n",
       "                var nbb_cells = Jupyter.notebook.get_cells();\n",
       "                for (var i = 0; i < nbb_cells.length; ++i) {\n",
       "                    if (nbb_cells[i].input_prompt_number == nbb_cell_id) {\n",
       "                        if (nbb_cells[i].get_text() == nbb_unformatted_code) {\n",
       "                             nbb_cells[i].set_text(nbb_formatted_code);\n",
       "                        }\n",
       "                        break;\n",
       "                    }\n",
       "                }\n",
       "            }, 500);\n",
       "            "
      ],
      "text/plain": [
       "<IPython.core.display.Javascript object>"
      ]
     },
     "metadata": {},
     "output_type": "display_data"
    }
   ],
   "source": [
    "df[\"date\"].dt.time"
   ]
  },
  {
   "cell_type": "markdown",
   "id": "79a1fbfb",
   "metadata": {},
   "source": [
    "### Get Rows within a Year Range"
   ]
  },
  {
   "cell_type": "markdown",
   "id": "82bcbe1b",
   "metadata": {},
   "source": [
    "If you want to get all data starting in a particular year and exclude the previous years, simply use `df.loc['year':]` like below. This works when the index of your `pd.Dataframe` is `DatetimeIndex`."
   ]
  },
  {
   "cell_type": "code",
   "execution_count": 3,
   "id": "cc43be7e",
   "metadata": {
    "ExecuteTime": {
     "end_time": "2021-11-18T14:31:48.491432Z",
     "start_time": "2021-11-18T14:31:48.468653Z"
    }
   },
   "outputs": [
    {
     "data": {
      "text/html": [
       "<div>\n",
       "<style scoped>\n",
       "    .dataframe tbody tr th:only-of-type {\n",
       "        vertical-align: middle;\n",
       "    }\n",
       "\n",
       "    .dataframe tbody tr th {\n",
       "        vertical-align: top;\n",
       "    }\n",
       "\n",
       "    .dataframe thead th {\n",
       "        text-align: right;\n",
       "    }\n",
       "</style>\n",
       "<table border=\"1\" class=\"dataframe\">\n",
       "  <thead>\n",
       "    <tr style=\"text-align: right;\">\n",
       "      <th></th>\n",
       "      <th>val</th>\n",
       "    </tr>\n",
       "    <tr>\n",
       "      <th>date</th>\n",
       "      <th></th>\n",
       "    </tr>\n",
       "  </thead>\n",
       "  <tbody>\n",
       "    <tr>\n",
       "      <th>2018-10-01</th>\n",
       "      <td>1</td>\n",
       "    </tr>\n",
       "    <tr>\n",
       "      <th>2019-10-01</th>\n",
       "      <td>2</td>\n",
       "    </tr>\n",
       "    <tr>\n",
       "      <th>2020-10-01</th>\n",
       "      <td>3</td>\n",
       "    </tr>\n",
       "  </tbody>\n",
       "</table>\n",
       "</div>"
      ],
      "text/plain": [
       "            val\n",
       "date           \n",
       "2018-10-01    1\n",
       "2019-10-01    2\n",
       "2020-10-01    3"
      ]
     },
     "execution_count": 3,
     "metadata": {},
     "output_type": "execute_result"
    }
   ],
   "source": [
    "from datetime import datetime\n",
    "import pandas as pd \n",
    "\n",
    "df = pd.DataFrame(\n",
    "    {\n",
    "        \"date\": [datetime(2018, 10, 1), datetime(2019, 10, 1), datetime(2020, 10, 1)],\n",
    "        \"val\": [1, 2, 3],\n",
    "    }\n",
    ").set_index(\"date\")\n",
    "\n",
    "df"
   ]
  },
  {
   "cell_type": "code",
   "execution_count": 28,
   "id": "8921eb94",
   "metadata": {
    "ExecuteTime": {
     "end_time": "2021-09-11T16:14:18.311168Z",
     "start_time": "2021-09-11T16:14:18.285712Z"
    }
   },
   "outputs": [
    {
     "data": {
      "text/html": [
       "<div>\n",
       "<style scoped>\n",
       "    .dataframe tbody tr th:only-of-type {\n",
       "        vertical-align: middle;\n",
       "    }\n",
       "\n",
       "    .dataframe tbody tr th {\n",
       "        vertical-align: top;\n",
       "    }\n",
       "\n",
       "    .dataframe thead th {\n",
       "        text-align: right;\n",
       "    }\n",
       "</style>\n",
       "<table border=\"1\" class=\"dataframe\">\n",
       "  <thead>\n",
       "    <tr style=\"text-align: right;\">\n",
       "      <th></th>\n",
       "      <th>val</th>\n",
       "    </tr>\n",
       "    <tr>\n",
       "      <th>date</th>\n",
       "      <th></th>\n",
       "    </tr>\n",
       "  </thead>\n",
       "  <tbody>\n",
       "    <tr>\n",
       "      <th>2019-10-01</th>\n",
       "      <td>2</td>\n",
       "    </tr>\n",
       "    <tr>\n",
       "      <th>2020-10-01</th>\n",
       "      <td>3</td>\n",
       "    </tr>\n",
       "  </tbody>\n",
       "</table>\n",
       "</div>"
      ],
      "text/plain": [
       "            val\n",
       "date           \n",
       "2019-10-01    2\n",
       "2020-10-01    3"
      ]
     },
     "execution_count": 28,
     "metadata": {},
     "output_type": "execute_result"
    },
    {
     "data": {
      "application/javascript": [
       "\n",
       "            setTimeout(function() {\n",
       "                var nbb_cell_id = 28;\n",
       "                var nbb_unformatted_code = \"df.loc['2019':]\";\n",
       "                var nbb_formatted_code = \"df.loc[\\\"2019\\\":]\";\n",
       "                var nbb_cells = Jupyter.notebook.get_cells();\n",
       "                for (var i = 0; i < nbb_cells.length; ++i) {\n",
       "                    if (nbb_cells[i].input_prompt_number == nbb_cell_id) {\n",
       "                        if (nbb_cells[i].get_text() == nbb_unformatted_code) {\n",
       "                             nbb_cells[i].set_text(nbb_formatted_code);\n",
       "                        }\n",
       "                        break;\n",
       "                    }\n",
       "                }\n",
       "            }, 500);\n",
       "            "
      ],
      "text/plain": [
       "<IPython.core.display.Javascript object>"
      ]
     },
     "metadata": {},
     "output_type": "display_data"
    }
   ],
   "source": [
    "df.loc[\"2019\":]"
   ]
  },
  {
   "cell_type": "markdown",
   "id": "33be3263",
   "metadata": {},
   "source": [
    "### pandas.reindex: Replace the Values of the Missing Dates with 0"
   ]
  },
  {
   "cell_type": "markdown",
   "id": "a1f985ca",
   "metadata": {},
   "source": [
    "Have you ever got a time series with missing dates? This can cause a problem since many time series methods require a fixed frequency index.\n",
    "\n",
    "To fix this issue, you can replace the values of the missing dates with 0 using `pd.date_range` and `pd.reindex`."
   ]
  },
  {
   "cell_type": "code",
   "execution_count": 2,
   "id": "2c642e5e",
   "metadata": {
    "ExecuteTime": {
     "end_time": "2021-11-18T14:31:44.743429Z",
     "start_time": "2021-11-18T14:31:44.729125Z"
    }
   },
   "outputs": [
    {
     "data": {
      "text/plain": [
       "2021-07-20    1\n",
       "2021-07-23    2\n",
       "2021-07-25    3\n",
       "dtype: int64"
      ]
     },
     "execution_count": 2,
     "metadata": {},
     "output_type": "execute_result"
    }
   ],
   "source": [
    "import pandas as pd \n",
    "\n",
    "s = pd.Series([1, 2, 3], index=[\"2021-07-20\", \"2021-07-23\", \"2021-07-25\"])\n",
    "s.index = pd.to_datetime(s.index)\n",
    "s"
   ]
  },
  {
   "cell_type": "code",
   "execution_count": 31,
   "id": "6dcb944b",
   "metadata": {
    "ExecuteTime": {
     "end_time": "2021-09-11T16:15:59.448717Z",
     "start_time": "2021-09-11T16:15:59.421737Z"
    }
   },
   "outputs": [
    {
     "data": {
      "text/plain": [
       "2021-07-20    1\n",
       "2021-07-21    0\n",
       "2021-07-22    0\n",
       "2021-07-23    2\n",
       "2021-07-24    0\n",
       "2021-07-25    3\n",
       "Freq: D, dtype: int64"
      ]
     },
     "execution_count": 31,
     "metadata": {},
     "output_type": "execute_result"
    },
    {
     "data": {
      "application/javascript": [
       "\n",
       "            setTimeout(function() {\n",
       "                var nbb_cell_id = 31;\n",
       "                var nbb_unformatted_code = \"# Get dates ranging from 2021/7/20 to 2021/7/25\\nnew_index = pd.date_range('2021-07-20', '2021-07-25')\\n\\n# Conform Series to new index\\nnew_s = s.reindex(new_index, fill_value=0)\\nnew_s \";\n",
       "                var nbb_formatted_code = \"# Get dates ranging from 2021/7/20 to 2021/7/25\\nnew_index = pd.date_range(\\\"2021-07-20\\\", \\\"2021-07-25\\\")\\n\\n# Conform Series to new index\\nnew_s = s.reindex(new_index, fill_value=0)\\nnew_s\";\n",
       "                var nbb_cells = Jupyter.notebook.get_cells();\n",
       "                for (var i = 0; i < nbb_cells.length; ++i) {\n",
       "                    if (nbb_cells[i].input_prompt_number == nbb_cell_id) {\n",
       "                        if (nbb_cells[i].get_text() == nbb_unformatted_code) {\n",
       "                             nbb_cells[i].set_text(nbb_formatted_code);\n",
       "                        }\n",
       "                        break;\n",
       "                    }\n",
       "                }\n",
       "            }, 500);\n",
       "            "
      ],
      "text/plain": [
       "<IPython.core.display.Javascript object>"
      ]
     },
     "metadata": {},
     "output_type": "display_data"
    }
   ],
   "source": [
    "# Get dates ranging from 2021/7/20 to 2021/7/25\n",
    "new_index = pd.date_range(\"2021-07-20\", \"2021-07-25\")\n",
    "\n",
    "# Conform Series to new index\n",
    "new_s = s.reindex(new_index, fill_value=0)\n",
    "new_s"
   ]
  },
  {
   "cell_type": "markdown",
   "id": "a8694f82",
   "metadata": {},
   "source": [
    "### Select DataFrame Rows Before or After a Specific Date"
   ]
  },
  {
   "cell_type": "markdown",
   "id": "06580c98",
   "metadata": {},
   "source": [
    "If you want to get the rows whose dates are before or after a specific date, use the comparison operator and a date string."
   ]
  },
  {
   "cell_type": "code",
   "execution_count": 1,
   "id": "b0515ffe",
   "metadata": {
    "ExecuteTime": {
     "end_time": "2021-11-18T14:31:40.619751Z",
     "start_time": "2021-11-18T14:31:40.282249Z"
    }
   },
   "outputs": [
    {
     "data": {
      "text/html": [
       "<div>\n",
       "<style scoped>\n",
       "    .dataframe tbody tr th:only-of-type {\n",
       "        vertical-align: middle;\n",
       "    }\n",
       "\n",
       "    .dataframe tbody tr th {\n",
       "        vertical-align: top;\n",
       "    }\n",
       "\n",
       "    .dataframe thead th {\n",
       "        text-align: right;\n",
       "    }\n",
       "</style>\n",
       "<table border=\"1\" class=\"dataframe\">\n",
       "  <thead>\n",
       "    <tr style=\"text-align: right;\">\n",
       "      <th></th>\n",
       "      <th>date</th>\n",
       "      <th>value</th>\n",
       "    </tr>\n",
       "  </thead>\n",
       "  <tbody>\n",
       "    <tr>\n",
       "      <th>0</th>\n",
       "      <td>2021-07-19</td>\n",
       "      <td>0</td>\n",
       "    </tr>\n",
       "    <tr>\n",
       "      <th>1</th>\n",
       "      <td>2021-07-20</td>\n",
       "      <td>1</td>\n",
       "    </tr>\n",
       "    <tr>\n",
       "      <th>2</th>\n",
       "      <td>2021-07-21</td>\n",
       "      <td>2</td>\n",
       "    </tr>\n",
       "    <tr>\n",
       "      <th>3</th>\n",
       "      <td>2021-07-22</td>\n",
       "      <td>3</td>\n",
       "    </tr>\n",
       "    <tr>\n",
       "      <th>4</th>\n",
       "      <td>2021-07-23</td>\n",
       "      <td>4</td>\n",
       "    </tr>\n",
       "  </tbody>\n",
       "</table>\n",
       "</div>"
      ],
      "text/plain": [
       "        date  value\n",
       "0 2021-07-19      0\n",
       "1 2021-07-20      1\n",
       "2 2021-07-21      2\n",
       "3 2021-07-22      3\n",
       "4 2021-07-23      4"
      ]
     },
     "execution_count": 1,
     "metadata": {},
     "output_type": "execute_result"
    }
   ],
   "source": [
    "import pandas as pd \n",
    "\n",
    "df = pd.DataFrame(\n",
    "    {\"date\": pd.date_range(start=\"2021-7-19\", end=\"2021-7-23\"), \"value\": list(range(5))}\n",
    ")\n",
    "df"
   ]
  },
  {
   "cell_type": "code",
   "execution_count": 33,
   "id": "7b48d720",
   "metadata": {
    "ExecuteTime": {
     "end_time": "2021-09-11T16:16:49.253074Z",
     "start_time": "2021-09-11T16:16:49.228919Z"
    }
   },
   "outputs": [
    {
     "data": {
      "text/html": [
       "<div>\n",
       "<style scoped>\n",
       "    .dataframe tbody tr th:only-of-type {\n",
       "        vertical-align: middle;\n",
       "    }\n",
       "\n",
       "    .dataframe tbody tr th {\n",
       "        vertical-align: top;\n",
       "    }\n",
       "\n",
       "    .dataframe thead th {\n",
       "        text-align: right;\n",
       "    }\n",
       "</style>\n",
       "<table border=\"1\" class=\"dataframe\">\n",
       "  <thead>\n",
       "    <tr style=\"text-align: right;\">\n",
       "      <th></th>\n",
       "      <th>date</th>\n",
       "      <th>value</th>\n",
       "    </tr>\n",
       "  </thead>\n",
       "  <tbody>\n",
       "    <tr>\n",
       "      <th>0</th>\n",
       "      <td>2021-07-19</td>\n",
       "      <td>0</td>\n",
       "    </tr>\n",
       "    <tr>\n",
       "      <th>1</th>\n",
       "      <td>2021-07-20</td>\n",
       "      <td>1</td>\n",
       "    </tr>\n",
       "    <tr>\n",
       "      <th>2</th>\n",
       "      <td>2021-07-21</td>\n",
       "      <td>2</td>\n",
       "    </tr>\n",
       "  </tbody>\n",
       "</table>\n",
       "</div>"
      ],
      "text/plain": [
       "        date  value\n",
       "0 2021-07-19      0\n",
       "1 2021-07-20      1\n",
       "2 2021-07-21      2"
      ]
     },
     "execution_count": 33,
     "metadata": {},
     "output_type": "execute_result"
    },
    {
     "data": {
      "application/javascript": [
       "\n",
       "            setTimeout(function() {\n",
       "                var nbb_cell_id = 33;\n",
       "                var nbb_unformatted_code = \"filtered_df = df[df.date <= \\\"2021-07-21\\\"]\\nfiltered_df\";\n",
       "                var nbb_formatted_code = \"filtered_df = df[df.date <= \\\"2021-07-21\\\"]\\nfiltered_df\";\n",
       "                var nbb_cells = Jupyter.notebook.get_cells();\n",
       "                for (var i = 0; i < nbb_cells.length; ++i) {\n",
       "                    if (nbb_cells[i].input_prompt_number == nbb_cell_id) {\n",
       "                        if (nbb_cells[i].get_text() == nbb_unformatted_code) {\n",
       "                             nbb_cells[i].set_text(nbb_formatted_code);\n",
       "                        }\n",
       "                        break;\n",
       "                    }\n",
       "                }\n",
       "            }, 500);\n",
       "            "
      ],
      "text/plain": [
       "<IPython.core.display.Javascript object>"
      ]
     },
     "metadata": {},
     "output_type": "display_data"
    }
   ],
   "source": [
    "filtered_df = df[df.date <= \"2021-07-21\"]\n",
    "filtered_df"
   ]
  }
 ],
 "metadata": {
  "kernelspec": {
   "display_name": "Python 3 (ipykernel)",
   "language": "python",
   "name": "python3"
  },
  "language_info": {
   "codemirror_mode": {
    "name": "ipython",
    "version": 3
   },
   "file_extension": ".py",
   "mimetype": "text/x-python",
   "name": "python",
   "nbconvert_exporter": "python",
   "pygments_lexer": "ipython3",
   "version": "3.8.10"
  },
  "toc": {
   "base_numbering": 1,
   "nav_menu": {},
   "number_sections": true,
   "sideBar": true,
   "skip_h1_title": false,
   "title_cell": "Table of Contents",
   "title_sidebar": "Contents",
   "toc_cell": false,
   "toc_position": {},
   "toc_section_display": true,
   "toc_window_display": false
  }
 },
 "nbformat": 4,
 "nbformat_minor": 5
}
