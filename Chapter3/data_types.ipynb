{
 "cells": [
  {
   "cell_type": "markdown",
   "id": "3e50d9e7",
   "metadata": {},
   "source": [
    "## Manipulate a DataFrame Using Data Types"
   ]
  },
  {
   "cell_type": "markdown",
   "id": "6ce13942",
   "metadata": {},
   "source": [
    "### select_dtypes: Return a Subset of a DataFrame Including/Excluding Columns Based on Their dtype"
   ]
  },
  {
   "cell_type": "markdown",
   "id": "b74aa2ed",
   "metadata": {},
   "source": [
    "You might want to apply different kinds of processing to categorical and numerical features. Instead of manually choosing categorical features or numerical features, you can automatically get them by using `df.select_dtypes('data_type')`.\n",
    "\n",
    "In the example below, you can either include or exclude certain data types using `exclude`.\n",
    "\n"
   ]
  },
  {
   "cell_type": "code",
   "execution_count": 1,
   "id": "8011e121",
   "metadata": {
    "ExecuteTime": {
     "end_time": "2021-11-18T14:28:35.199140Z",
     "start_time": "2021-11-18T14:28:34.688980Z"
    }
   },
   "outputs": [],
   "source": [
    "import pandas as pd "
   ]
  },
  {
   "cell_type": "code",
   "execution_count": 2,
   "id": "4229b9a1",
   "metadata": {
    "ExecuteTime": {
     "end_time": "2021-11-18T14:28:35.588515Z",
     "start_time": "2021-11-18T14:28:35.555180Z"
    }
   },
   "outputs": [
    {
     "name": "stdout",
     "output_type": "stream",
     "text": [
      "<class 'pandas.core.frame.DataFrame'>\n",
      "RangeIndex: 3 entries, 0 to 2\n",
      "Data columns (total 3 columns):\n",
      " #   Column  Non-Null Count  Dtype  \n",
      "---  ------  --------------  -----  \n",
      " 0   col1    3 non-null      object \n",
      " 1   col2    3 non-null      int64  \n",
      " 2   col3    3 non-null      float64\n",
      "dtypes: float64(1), int64(1), object(1)\n",
      "memory usage: 200.0+ bytes\n"
     ]
    }
   ],
   "source": [
    "df = pd.DataFrame({\"col1\": [\"a\", \"b\", \"c\"], \"col2\": [1, 2, 3], \"col3\": [0.1, 0.2, 0.3]})\n",
    "\n",
    "df.info()"
   ]
  },
  {
   "cell_type": "code",
   "execution_count": 3,
   "id": "9bc43009",
   "metadata": {
    "ExecuteTime": {
     "end_time": "2021-11-18T14:28:36.048911Z",
     "start_time": "2021-11-18T14:28:36.012307Z"
    }
   },
   "outputs": [
    {
     "data": {
      "text/html": [
       "<div>\n",
       "<style scoped>\n",
       "    .dataframe tbody tr th:only-of-type {\n",
       "        vertical-align: middle;\n",
       "    }\n",
       "\n",
       "    .dataframe tbody tr th {\n",
       "        vertical-align: top;\n",
       "    }\n",
       "\n",
       "    .dataframe thead th {\n",
       "        text-align: right;\n",
       "    }\n",
       "</style>\n",
       "<table border=\"1\" class=\"dataframe\">\n",
       "  <thead>\n",
       "    <tr style=\"text-align: right;\">\n",
       "      <th></th>\n",
       "      <th>col2</th>\n",
       "      <th>col3</th>\n",
       "    </tr>\n",
       "  </thead>\n",
       "  <tbody>\n",
       "    <tr>\n",
       "      <th>0</th>\n",
       "      <td>1</td>\n",
       "      <td>0.1</td>\n",
       "    </tr>\n",
       "    <tr>\n",
       "      <th>1</th>\n",
       "      <td>2</td>\n",
       "      <td>0.2</td>\n",
       "    </tr>\n",
       "    <tr>\n",
       "      <th>2</th>\n",
       "      <td>3</td>\n",
       "      <td>0.3</td>\n",
       "    </tr>\n",
       "  </tbody>\n",
       "</table>\n",
       "</div>"
      ],
      "text/plain": [
       "   col2  col3\n",
       "0     1   0.1\n",
       "1     2   0.2\n",
       "2     3   0.3"
      ]
     },
     "execution_count": 3,
     "metadata": {},
     "output_type": "execute_result"
    }
   ],
   "source": [
    "df.select_dtypes(include=[\"int64\", \"float64\"])"
   ]
  },
  {
   "cell_type": "markdown",
   "id": "3f6afdfd",
   "metadata": {},
   "source": [
    "### Reduce pandas.DataFrame’s Memory"
   ]
  },
  {
   "cell_type": "markdown",
   "id": "a71e2b90",
   "metadata": {},
   "source": [
    "If you want to reduce the memory of your pandas DataFrame, start with changing the data type of a column. If your categorical variable has low cardinality, change the data type to category like below."
   ]
  },
  {
   "cell_type": "code",
   "execution_count": 7,
   "id": "bb5a60a6",
   "metadata": {
    "ExecuteTime": {
     "end_time": "2021-11-18T14:28:51.041729Z",
     "start_time": "2021-11-18T14:28:51.013221Z"
    }
   },
   "outputs": [
    {
     "data": {
      "text/plain": [
       "Index                 128\n",
       "sepal length (cm)    1200\n",
       "sepal width (cm)     1200\n",
       "petal length (cm)    1200\n",
       "petal width (cm)     1200\n",
       "target               1200\n",
       "dtype: int64"
      ]
     },
     "execution_count": 7,
     "metadata": {},
     "output_type": "execute_result"
    }
   ],
   "source": [
    "from sklearn.datasets import load_iris\n",
    "import pandas as pd \n",
    "\n",
    "X, y = load_iris(as_frame=True, return_X_y=True)\n",
    "df = pd.concat([X, pd.DataFrame(y, columns=[\"target\"])], axis=1)\n",
    "df.memory_usage()"
   ]
  },
  {
   "cell_type": "code",
   "execution_count": 5,
   "id": "a770da2a",
   "metadata": {
    "ExecuteTime": {
     "end_time": "2021-11-18T14:28:39.816844Z",
     "start_time": "2021-11-18T14:28:39.812592Z"
    }
   },
   "outputs": [
    {
     "data": {
      "text/plain": [
       "Index                 128\n",
       "sepal length (cm)    1200\n",
       "sepal width (cm)     1200\n",
       "petal length (cm)    1200\n",
       "petal width (cm)     1200\n",
       "target                282\n",
       "dtype: int64"
      ]
     },
     "execution_count": 5,
     "metadata": {},
     "output_type": "execute_result"
    }
   ],
   "source": [
    "df[\"target\"] = df[\"target\"].astype(\"category\")\n",
    "df.memory_usage()"
   ]
  },
  {
   "cell_type": "markdown",
   "id": "2f78876c",
   "metadata": {},
   "source": [
    "The memory is now is reduced to almost a fifth of what it was!"
   ]
  },
  {
   "cell_type": "markdown",
   "id": "3bd7661c",
   "metadata": {},
   "source": [
    "### pandas.Categorical: Turn a List of Strings into a Categorical Variable"
   ]
  },
  {
   "cell_type": "markdown",
   "id": "9517c8c7",
   "metadata": {},
   "source": [
    "If you want to create a categorical variable, use `pandas.Categorical`. This variable takes on a limited number of possible values and can be ordered. In the code below, I use `pd.Categorical` to create a list of ordered categories."
   ]
  },
  {
   "cell_type": "code",
   "execution_count": 9,
   "id": "f8d937b0",
   "metadata": {
    "ExecuteTime": {
     "end_time": "2021-11-18T14:28:56.672740Z",
     "start_time": "2021-11-18T14:28:56.658793Z"
    }
   },
   "outputs": [
    {
     "data": {
      "text/plain": [
       "['M', 'S', 'M', 'L']\n",
       "Categories (3, object): ['S' < 'M' < 'L']"
      ]
     },
     "execution_count": 9,
     "metadata": {},
     "output_type": "execute_result"
    }
   ],
   "source": [
    "import pandas as pd \n",
    "\n",
    "size = pd.Categorical(['M', 'S', 'M', 'L'], ordered=True, categories=['S', 'M', 'L'])\n",
    "size"
   ]
  },
  {
   "cell_type": "markdown",
   "id": "179c539a",
   "metadata": {},
   "source": [
    "Note that the parameters `categories = ['S', 'M', 'L']` and `ordered=True` tell pandas that `'S' < 'M' < 'L'`. This means we can get the smallest value in the list:"
   ]
  },
  {
   "cell_type": "code",
   "execution_count": 10,
   "id": "4ee6dd73",
   "metadata": {
    "ExecuteTime": {
     "end_time": "2021-11-18T14:28:57.465272Z",
     "start_time": "2021-11-18T14:28:57.456348Z"
    }
   },
   "outputs": [
    {
     "data": {
      "text/plain": [
       "'S'"
      ]
     },
     "execution_count": 10,
     "metadata": {},
     "output_type": "execute_result"
    }
   ],
   "source": [
    "size.min()"
   ]
  },
  {
   "cell_type": "markdown",
   "id": "3b632378",
   "metadata": {},
   "source": [
    "Or sort the DataFrame by the column that contains categorical variables:"
   ]
  },
  {
   "cell_type": "code",
   "execution_count": 11,
   "id": "2e40fc1c",
   "metadata": {
    "ExecuteTime": {
     "end_time": "2021-11-18T14:28:58.995203Z",
     "start_time": "2021-11-18T14:28:58.976048Z"
    }
   },
   "outputs": [
    {
     "data": {
      "text/html": [
       "<div>\n",
       "<style scoped>\n",
       "    .dataframe tbody tr th:only-of-type {\n",
       "        vertical-align: middle;\n",
       "    }\n",
       "\n",
       "    .dataframe tbody tr th {\n",
       "        vertical-align: top;\n",
       "    }\n",
       "\n",
       "    .dataframe thead th {\n",
       "        text-align: right;\n",
       "    }\n",
       "</style>\n",
       "<table border=\"1\" class=\"dataframe\">\n",
       "  <thead>\n",
       "    <tr style=\"text-align: right;\">\n",
       "      <th></th>\n",
       "      <th>size</th>\n",
       "      <th>val</th>\n",
       "    </tr>\n",
       "  </thead>\n",
       "  <tbody>\n",
       "    <tr>\n",
       "      <th>1</th>\n",
       "      <td>S</td>\n",
       "      <td>4</td>\n",
       "    </tr>\n",
       "    <tr>\n",
       "      <th>0</th>\n",
       "      <td>M</td>\n",
       "      <td>5</td>\n",
       "    </tr>\n",
       "    <tr>\n",
       "      <th>2</th>\n",
       "      <td>M</td>\n",
       "      <td>3</td>\n",
       "    </tr>\n",
       "    <tr>\n",
       "      <th>3</th>\n",
       "      <td>L</td>\n",
       "      <td>6</td>\n",
       "    </tr>\n",
       "  </tbody>\n",
       "</table>\n",
       "</div>"
      ],
      "text/plain": [
       "  size  val\n",
       "1    S    4\n",
       "0    M    5\n",
       "2    M    3\n",
       "3    L    6"
      ]
     },
     "execution_count": 11,
     "metadata": {},
     "output_type": "execute_result"
    }
   ],
   "source": [
    "df = pd.DataFrame({'size': size, 'val': [5, 4, 3, 6]})\n",
    "\n",
    "df.sort_values(by='size')"
   ]
  }
 ],
 "metadata": {
  "kernelspec": {
   "display_name": "Python 3 (ipykernel)",
   "language": "python",
   "name": "python3"
  },
  "language_info": {
   "codemirror_mode": {
    "name": "ipython",
    "version": 3
   },
   "file_extension": ".py",
   "mimetype": "text/x-python",
   "name": "python",
   "nbconvert_exporter": "python",
   "pygments_lexer": "ipython3",
   "version": "3.8.10"
  },
  "toc": {
   "base_numbering": 1,
   "nav_menu": {},
   "number_sections": true,
   "sideBar": true,
   "skip_h1_title": false,
   "title_cell": "Table of Contents",
   "title_sidebar": "Contents",
   "toc_cell": false,
   "toc_position": {},
   "toc_section_display": true,
   "toc_window_display": false
  }
 },
 "nbformat": 4,
 "nbformat_minor": 5
}
