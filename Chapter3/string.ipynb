{
 "cells": [
  {
   "cell_type": "markdown",
   "id": "6959c45b",
   "metadata": {},
   "source": [
    "## Work with String"
   ]
  },
  {
   "cell_type": "markdown",
   "id": "8a52dafe",
   "metadata": {
    "ExecuteTime": {
     "end_time": "2021-09-11T15:28:54.622500Z",
     "start_time": "2021-09-11T15:28:54.616962Z"
    }
   },
   "source": [
    "### pandas.Series.str: Manipulate Text Data in a Pandas Series\t"
   ]
  },
  {
   "cell_type": "markdown",
   "id": "c0510d31",
   "metadata": {},
   "source": [
    "If you are working the text data in a pandas Series, instead of creating your own functions, use `pandas.Series.str` to access common methods to process string.\n",
    "\n",
    "The code below shows how to convert text to lower case then replace “e” with “a”."
   ]
  },
  {
   "cell_type": "code",
   "execution_count": 1,
   "id": "4bb00a61",
   "metadata": {
    "ExecuteTime": {
     "end_time": "2021-11-18T14:31:34.680146Z",
     "start_time": "2021-11-18T14:31:34.331510Z"
    }
   },
   "outputs": [
    {
     "data": {
      "text/plain": [
       "0    Orange\n",
       "1     Apple\n",
       "2     Grape\n",
       "dtype: object"
      ]
     },
     "execution_count": 1,
     "metadata": {},
     "output_type": "execute_result"
    }
   ],
   "source": [
    "import pandas as pd \n",
    "\n",
    "fruits = pd.Series(['Orange', 'Apple', 'Grape'])\n",
    "fruits"
   ]
  },
  {
   "cell_type": "code",
   "execution_count": 11,
   "id": "7e489c68",
   "metadata": {
    "ExecuteTime": {
     "end_time": "2021-09-11T15:27:39.464629Z",
     "start_time": "2021-09-11T15:27:39.453638Z"
    }
   },
   "outputs": [
    {
     "data": {
      "text/plain": [
       "0    orange\n",
       "1     apple\n",
       "2     grape\n",
       "dtype: object"
      ]
     },
     "execution_count": 11,
     "metadata": {},
     "output_type": "execute_result"
    }
   ],
   "source": [
    "fruits.str.lower()"
   ]
  },
  {
   "cell_type": "code",
   "execution_count": 14,
   "id": "baca4466",
   "metadata": {
    "ExecuteTime": {
     "end_time": "2021-09-11T15:28:27.511706Z",
     "start_time": "2021-09-11T15:28:27.499034Z"
    }
   },
   "outputs": [
    {
     "data": {
      "text/plain": [
       "0    oranga\n",
       "1     appla\n",
       "2     grapa\n",
       "dtype: object"
      ]
     },
     "execution_count": 14,
     "metadata": {},
     "output_type": "execute_result"
    }
   ],
   "source": [
    "fruits.str.lower().str.replace(\"e\", \"a\")"
   ]
  },
  {
   "cell_type": "markdown",
   "id": "d71f8bc6",
   "metadata": {},
   "source": [
    "Find other useful string methods [here](https://pandas.pydata.org/pandas-docs/stable/user_guide/text.html#string-methods)."
   ]
  },
  {
   "cell_type": "markdown",
   "id": "6db9df6b",
   "metadata": {},
   "source": [
    "### DataFrame.columns.str.startswith: Find DataFrame’s Columns that Start With a Pattern"
   ]
  },
  {
   "cell_type": "markdown",
   "id": "e1eb067b",
   "metadata": {},
   "source": [
    "To find pandas DataFrame whose columns start with a pattern, use `df.columns.str.startswith`. "
   ]
  },
  {
   "cell_type": "code",
   "execution_count": 2,
   "id": "054d6018",
   "metadata": {
    "ExecuteTime": {
     "end_time": "2021-09-11T16:00:34.169342Z",
     "start_time": "2021-09-11T16:00:33.837309Z"
    }
   },
   "outputs": [
    {
     "data": {
      "text/html": [
       "<div>\n",
       "<style scoped>\n",
       "    .dataframe tbody tr th:only-of-type {\n",
       "        vertical-align: middle;\n",
       "    }\n",
       "\n",
       "    .dataframe tbody tr th {\n",
       "        vertical-align: top;\n",
       "    }\n",
       "\n",
       "    .dataframe thead th {\n",
       "        text-align: right;\n",
       "    }\n",
       "</style>\n",
       "<table border=\"1\" class=\"dataframe\">\n",
       "  <thead>\n",
       "    <tr style=\"text-align: right;\">\n",
       "      <th></th>\n",
       "      <th>pricel</th>\n",
       "      <th>price2</th>\n",
       "    </tr>\n",
       "  </thead>\n",
       "  <tbody>\n",
       "    <tr>\n",
       "      <th>0</th>\n",
       "      <td>1</td>\n",
       "      <td>2</td>\n",
       "    </tr>\n",
       "    <tr>\n",
       "      <th>1</th>\n",
       "      <td>2</td>\n",
       "      <td>3</td>\n",
       "    </tr>\n",
       "    <tr>\n",
       "      <th>2</th>\n",
       "      <td>3</td>\n",
       "      <td>4</td>\n",
       "    </tr>\n",
       "  </tbody>\n",
       "</table>\n",
       "</div>"
      ],
      "text/plain": [
       "   pricel  price2\n",
       "0       1       2\n",
       "1       2       3\n",
       "2       3       4"
      ]
     },
     "execution_count": 2,
     "metadata": {},
     "output_type": "execute_result"
    }
   ],
   "source": [
    "import pandas as pd \n",
    "\n",
    "df = pd.DataFrame({'pricel': [1, 2, 3],\n",
    "                    'price2': [2, 3, 4],\n",
    "                    'year': [2020, 2021, 2021]})\n",
    "\n",
    "mask = df.columns.str.startswith('price')\n",
    "df.loc[:, mask]"
   ]
  },
  {
   "cell_type": "markdown",
   "id": "eaf645c6",
   "metadata": {},
   "source": [
    "### Find Rows Containing One of the Substrings in a List"
   ]
  },
  {
   "cell_type": "markdown",
   "id": "3ce95fa0",
   "metadata": {},
   "source": [
    "If you want to find rows that contain one of the substrings in a list, join that list using `|`:"
   ]
  },
  {
   "cell_type": "code",
   "execution_count": 6,
   "id": "644906f3",
   "metadata": {},
   "outputs": [
    {
     "data": {
      "text/plain": [
       "'ny|ey'"
      ]
     },
     "execution_count": 6,
     "metadata": {},
     "output_type": "execute_result"
    }
   ],
   "source": [
    "import pandas as pd  \n",
    "\n",
    "s = pd.Series(['bunny', 'monkey', 'funny', 'flower'])\n",
    "\n",
    "sub_str = ['ny', 'ey']\n",
    "join_str = '|'.join(sub_str)\n",
    "join_str"
   ]
  },
  {
   "cell_type": "markdown",
   "id": "f71f4297",
   "metadata": {},
   "source": [
    "... then use `str.contains`. Now you only get the strings that end with \"ny\" or \"ey\":"
   ]
  },
  {
   "cell_type": "code",
   "execution_count": 8,
   "id": "d42e441f",
   "metadata": {},
   "outputs": [
    {
     "data": {
      "text/plain": [
       "0     bunny\n",
       "1    monkey\n",
       "2     funny\n",
       "dtype: object"
      ]
     },
     "execution_count": 8,
     "metadata": {},
     "output_type": "execute_result"
    }
   ],
   "source": [
    "s[s.str.contains(join_str)]"
   ]
  }
 ],
 "metadata": {
  "kernelspec": {
   "display_name": "Python 3 (ipykernel)",
   "language": "python",
   "name": "python3"
  },
  "language_info": {
   "codemirror_mode": {
    "name": "ipython",
    "version": 3
   },
   "file_extension": ".py",
   "mimetype": "text/x-python",
   "name": "python",
   "nbconvert_exporter": "python",
   "pygments_lexer": "ipython3",
   "version": "3.8.10"
  },
  "toc": {
   "base_numbering": 1,
   "nav_menu": {},
   "number_sections": true,
   "sideBar": true,
   "skip_h1_title": false,
   "title_cell": "Table of Contents",
   "title_sidebar": "Contents",
   "toc_cell": false,
   "toc_position": {},
   "toc_section_display": true,
   "toc_window_display": false
  }
 },
 "nbformat": 4,
 "nbformat_minor": 5
}
