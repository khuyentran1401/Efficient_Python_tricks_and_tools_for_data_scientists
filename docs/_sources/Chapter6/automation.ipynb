{
 "cells": [
  {
   "cell_type": "markdown",
   "id": "eab3d1c1",
   "metadata": {},
   "source": [
    "## Automation"
   ]
  },
  {
   "cell_type": "markdown",
   "id": "38b43f4a",
   "metadata": {},
   "source": [
    "This section covers some tools to automate your Python code."
   ]
  },
  {
   "cell_type": "markdown",
   "id": "6964f392",
   "metadata": {},
   "source": [
    "### Schedule: Schedule your Python Functions to Run At a Specific Time"
   ]
  },
  {
   "cell_type": "markdown",
   "id": "679307f5",
   "metadata": {},
   "source": [
    "If you want to schedule Python functions to run periodically at a certain day or time of the week, use schedule.\n",
    "\n",
    "In the code snippet below, I use schedule to get incoming data at 10:30 every day and train the model at 8:00 every Wednesday.\n",
    "\n",
    "```python\n",
    "import schedule \n",
    "import time \n",
    "\n",
    "def get_incoming_data():\n",
    "    print(\"Get incoming data\")\n",
    "\n",
    "def train_model():\n",
    "    print(\"Retraining model\")\n",
    "\n",
    "schedule.every().day.at(\"10:30\").do(get_incoming_data)\n",
    "schedule.every().wednesday.at(\"08:00\").do(train_model)\n",
    "\n",
    "while True:\n",
    "    schedule.run_pending()\n",
    "    time.sleep(1)\n",
    "```"
   ]
  },
  {
   "cell_type": "markdown",
   "id": "734bae13",
   "metadata": {},
   "source": [
    "[Link to schedule](https://github.com/dbader/schedule)"
   ]
  },
  {
   "cell_type": "markdown",
   "id": "6b6d21f8",
   "metadata": {},
   "source": [
    "### notify-send: Send a Desktop Notification after Finishing Executing a File"
   ]
  },
  {
   "cell_type": "markdown",
   "id": "bc5f69c3",
   "metadata": {},
   "source": [
    "If you want to receive a desktop notification after finishing executing a file in Linux, use notify-send.\n",
    "\n",
    "In the code below, after finishing executing `file_to_run.py`, you will receive a notification on the top of your screen to inform you that the process is terminated.\n",
    "\n",
    "```bash\n",
    "python file_to_run.py ; notify-send \"Process terminated\"\n",
    "```"
   ]
  },
  {
   "cell_type": "markdown",
   "id": "3bbec868",
   "metadata": {},
   "source": [
    "### isort: Automatically Sort your Python Imports in 1 Line of Code"
   ]
  },
  {
   "cell_type": "markdown",
   "id": "5445f4a3",
   "metadata": {},
   "source": [
    "When your code grows bigger, you might need to import a lot of libraries, and it can be confusing to look at. Instead of manually organing your imports, use isort.\n",
    "\n",
    "isort is a Python library to sort imports alphabetically and automatically separated into sections and by type. You just need to use `isort name_of_your_file.py` to sort your imports.\n",
    "\n",
    "Below is how the imports look like before sorting.\n",
    "\n"
   ]
  },
  {
   "cell_type": "markdown",
   "id": "5b626941",
   "metadata": {},
   "source": [
    "```python\n",
    "from sklearn.metrics import confusion_matrix, fl_score, classification_report, roc_curve\n",
    "from sklearn.model_selection import train_test_split\n",
    "from sklearn.model_selection import GridSearchCV, StratifiedKFold\n",
    "from sklearn import svm\n",
    "from sklearn.naive_bayes import GaussianNB, MultinomialNB\n",
    "from sklearn.neighbors import KNeighborsClassifier\n",
    "from sklearn.tree import DecisionTreeClassifier\n",
    "from sklearn.model_selection import TimeSeriesSplit\n",
    "```\n",
    "\n",
    "On your terminal, type:\n",
    "```bash\n",
    "isort name_of_your_file.py\n",
    "```\n",
    "\n",
    "Now the imports are much more organized!\n",
    "```python\n",
    "from sklearn import svm\n",
    "from sklearn.metrics import (classification_report, confusion_matrix, fl_score,\n",
    "                             roc_curve)\n",
    "from sklearn.model_selection import (GridSearchCV, StratifiedKFold,\n",
    "                                     TimeSeriesSplit, train_test_split)\n",
    "from sklearn.naive_bayes import GaussianNB, MultinomialNB\n",
    "from sklearn.neighbors import KNeighborsClassifier\n",
    "from sklearn.tree import DecisionTreeClassifier\n",
    "```"
   ]
  },
  {
   "cell_type": "markdown",
   "id": "880ee7ff",
   "metadata": {},
   "source": [
    "[Link to isort](https://github.com/pycqa/isort)."
   ]
  },
  {
   "cell_type": "markdown",
   "id": "b9d59c71",
   "metadata": {},
   "source": [
    "### knockknock: Receive an Email When Your Code Finishes Executing"
   ]
  },
  {
   "cell_type": "markdown",
   "id": "392f46a9",
   "metadata": {},
   "source": [
    "It can take hours or days to train a model and you can be away from the computer when your model finishes training. Wouldn’t it be nice to receive an email when your code finishes executing? There is an app for that knock-knock.\n",
    "\n",
    "All it takes is one line of code specifying your email address."
   ]
  },
  {
   "cell_type": "markdown",
   "id": "ea04ba5d",
   "metadata": {},
   "source": [
    "```python\n",
    "from knockknock import email_sender \n",
    "\n",
    "@email_sender(recipient_emails=['<your_email@address.com>', '<your_second_email@adress.com>'],\n",
    "sender_email=\"<grandma's_email@gmail.com>\")\n",
    "def train_your_nicest_model(your_nicest_parameters):\n",
    "    import time \n",
    "    time.sleep(10_000)\n",
    "    return {'loss': 0.9}\n",
    "```"
   ]
  },
  {
   "cell_type": "markdown",
   "id": "49b16e21",
   "metadata": {},
   "source": [
    "You can even have it send to your slack channel so everybody in your team can see. See the docs of this library [here](https://github.com/huggingface/knockknock)."
   ]
  },
  {
   "cell_type": "markdown",
   "id": "93802bdb",
   "metadata": {},
   "source": [
    "### Typer: Build a Command-Line Interface in a Few Lines of Code\n"
   ]
  },
  {
   "cell_type": "code",
   "execution_count": null,
   "id": "03b116e5",
   "metadata": {
    "tags": [
     "hide-cell"
    ]
   },
   "outputs": [],
   "source": [
    "!pip install typer "
   ]
  },
  {
   "cell_type": "markdown",
   "id": "1d929e78",
   "metadata": {},
   "source": [
    "The last thing you want to happen is to have users dig into your code to run it. Is there a way that users can insert arguments into your code on the command line?\n",
    "\n",
    "That is when Typer comes in handy. Typer allows you to build a command-line interface in a few lines of code based on Python-type hints."
   ]
  },
  {
   "cell_type": "markdown",
   "id": "0db31d75",
   "metadata": {},
   "source": [
    "For example, in a file named `typer_example`, write:"
   ]
  },
  {
   "cell_type": "markdown",
   "id": "0376d21d",
   "metadata": {},
   "source": [
    "```python\n",
    "import typer \n",
    "\n",
    "def process_data(data: str, version: int):\n",
    "    print(f'Processing {data},' \n",
    "          f'version {version}')\n",
    "\n",
    "if __name__ == '__main__':\n",
    "    typer.run(process_data)\n",
    "```"
   ]
  },
  {
   "cell_type": "markdown",
   "id": "7b1b2b69",
   "metadata": {},
   "source": [
    "On your terminal, type:\n",
    "```bash\n",
    "python typer_example.py data 1\n",
    "```\n",
    "And you should see an output like below:"
   ]
  },
  {
   "cell_type": "code",
   "execution_count": 20,
   "id": "031e8f17",
   "metadata": {
    "ExecuteTime": {
     "end_time": "2021-09-12T13:44:17.024849Z",
     "start_time": "2021-09-12T13:44:16.765577Z"
    },
    "tags": [
     "hide-input"
    ]
   },
   "outputs": [
    {
     "name": "stdout",
     "output_type": "stream",
     "text": [
      "Processing data,version 1\r\n"
     ]
    }
   ],
   "source": [
    "!python typer_example.py data 1"
   ]
  },
  {
   "cell_type": "markdown",
   "id": "c21d09e1",
   "metadata": {},
   "source": [
    "[Link to Typer](https://typer.tiangolo.com/).\n",
    "\n",
    "[My full article about Typer](https://towardsdatascience.com/typer-build-powerful-clis-in-one-line-of-code-using-python-321d9aef3be8)."
   ]
  },
  {
   "cell_type": "markdown",
   "id": "73d4dbf5",
   "metadata": {},
   "source": [
    "### yarl: Create and Extract Elements from a URL Using Python"
   ]
  },
  {
   "cell_type": "code",
   "execution_count": null,
   "id": "b2231441",
   "metadata": {
    "tags": [
     "hide-cell"
    ]
   },
   "outputs": [],
   "source": [
    "!pip install yarl"
   ]
  },
  {
   "cell_type": "markdown",
   "id": "9695ff10",
   "metadata": {},
   "source": [
    "If you want to easily create and extract elements from a URL using Python, try yarl. In the code below, I use yarl to extract different elements of the URL https://github.com/search?q=data+science."
   ]
  },
  {
   "cell_type": "code",
   "execution_count": 23,
   "id": "3732755b",
   "metadata": {
    "ExecuteTime": {
     "end_time": "2021-09-12T13:48:32.551766Z",
     "start_time": "2021-09-12T13:48:32.542244Z"
    }
   },
   "outputs": [
    {
     "name": "stdout",
     "output_type": "stream",
     "text": [
      "https://github.com/search?q=data+science\n"
     ]
    }
   ],
   "source": [
    "from yarl import URL \n",
    "\n",
    "url = URL('https://github.com')\n",
    "new_url = url/ \"search\" % 'q=data+science'\n",
    "print(new_url) "
   ]
  },
  {
   "cell_type": "code",
   "execution_count": 24,
   "id": "3de6fddd",
   "metadata": {
    "ExecuteTime": {
     "end_time": "2021-09-12T13:48:42.942054Z",
     "start_time": "2021-09-12T13:48:42.939241Z"
    }
   },
   "outputs": [
    {
     "name": "stdout",
     "output_type": "stream",
     "text": [
      "github.com\n"
     ]
    }
   ],
   "source": [
    "print(new_url.host) "
   ]
  },
  {
   "cell_type": "code",
   "execution_count": 25,
   "id": "533e84a8",
   "metadata": {
    "ExecuteTime": {
     "end_time": "2021-09-12T13:48:50.813130Z",
     "start_time": "2021-09-12T13:48:50.806606Z"
    }
   },
   "outputs": [
    {
     "name": "stdout",
     "output_type": "stream",
     "text": [
      "/search\n"
     ]
    }
   ],
   "source": [
    "print(new_url.path) "
   ]
  },
  {
   "cell_type": "code",
   "execution_count": 26,
   "id": "47a65e20",
   "metadata": {
    "ExecuteTime": {
     "end_time": "2021-09-12T13:48:53.358378Z",
     "start_time": "2021-09-12T13:48:53.351024Z"
    }
   },
   "outputs": [
    {
     "name": "stdout",
     "output_type": "stream",
     "text": [
      "q=data science\n"
     ]
    }
   ],
   "source": [
    "print(new_url.query_string) "
   ]
  },
  {
   "cell_type": "markdown",
   "id": "1f8adf7b",
   "metadata": {},
   "source": [
    "[Link to yarl](https://github.com/aio-libs/yarl)."
   ]
  },
  {
   "cell_type": "markdown",
   "id": "e5a74256",
   "metadata": {},
   "source": [
    "### interrogate: Check your Python Code for Missing Docstrings"
   ]
  },
  {
   "cell_type": "code",
   "execution_count": null,
   "id": "6a9ea660",
   "metadata": {
    "tags": [
     "hide-cell"
    ]
   },
   "outputs": [],
   "source": [
    "!pip install interrogate  "
   ]
  },
  {
   "cell_type": "markdown",
   "id": "451fbb78",
   "metadata": {},
   "source": [
    "Sometimes, you might forget to write docstrings for classes and functions. Instead of manually looking at all your functions and classes for missing docstrings, use interrogate instead.\n",
    "\n",
    "In the code below, I use interrogate to check for missing docstrings in the file `interrogate_example.py`."
   ]
  },
  {
   "cell_type": "markdown",
   "id": "9c7eeca5",
   "metadata": {},
   "source": [
    "```python\n",
    "# interrogate_example.py\n",
    "class Math:\n",
    "    def __init__(self, num) -> None:\n",
    "        self.num = num\n",
    "\n",
    "    def plus_two(self):\n",
    "        \"\"\"Add 2\"\"\"\n",
    "        return self.num + 2\n",
    "\n",
    "    def multiply_three(self):\n",
    "        return self.num * 3\n",
    "```"
   ]
  },
  {
   "cell_type": "markdown",
   "id": "98452d8c",
   "metadata": {},
   "source": [
    "On your terminal, type:\n",
    "```bash\n",
    "interrogate interrogate_example.py\n",
    "```\n",
    "Output:"
   ]
  },
  {
   "cell_type": "code",
   "execution_count": 29,
   "id": "431def18",
   "metadata": {
    "ExecuteTime": {
     "end_time": "2021-09-12T13:52:14.673077Z",
     "start_time": "2021-09-12T13:52:14.294768Z"
    },
    "tags": [
     "hide-input"
    ]
   },
   "outputs": [
    {
     "name": "stdout",
     "output_type": "stream",
     "text": [
      "RESULT: FAILED (minimum: 80.0%, actual: 20.0%)\r\n",
      "\u001b[0m"
     ]
    }
   ],
   "source": [
    "!interrogate interrogate_example.py"
   ]
  },
  {
   "cell_type": "markdown",
   "id": "47a9290b",
   "metadata": {},
   "source": [
    "To automatically check for missing docstrings whenever you commit new files, add interrogate to your pre-commit hooks. [Here](https://towardsdatascience.com/4-pre-commit-plugins-to-automate-code-reviewing-and-formatting-in-python-c80c6d2e9f5#1bec) is how to do that."
   ]
  },
  {
   "cell_type": "markdown",
   "id": "4fe515d8",
   "metadata": {},
   "source": [
    "[Link to interrogate](https://interrogate.readthedocs.io/en/latest/)."
   ]
  },
  {
   "cell_type": "markdown",
   "id": "d70db553",
   "metadata": {},
   "source": [
    "### mypy: Static Type Checker for Python\n"
   ]
  },
  {
   "cell_type": "code",
   "execution_count": null,
   "id": "65ede34e",
   "metadata": {
    "tags": [
     "hide-cell"
    ]
   },
   "outputs": [],
   "source": [
    "!pip install mypy "
   ]
  },
  {
   "cell_type": "markdown",
   "id": "da94aed2",
   "metadata": {},
   "source": [
    "Type hinting in Python is useful for other developers to understand which data types to insert into your function. To automatically type check your code, use mypy. \n",
    "\n",
    "To see how mypy works, start with writing a normal code that uses type hinting. We name this file `mypy_example.py`"
   ]
  },
  {
   "cell_type": "markdown",
   "id": "0d19ec26",
   "metadata": {},
   "source": [
    "```python\n",
    "# mypy_example.py\n",
    "from typing import List, Union\n",
    "\n",
    "def get_name_price(fruits: list) -> Union[list, tuple]:\n",
    "    return zip(*fruits)\n",
    "\n",
    "fruits = [('apple', 2), ('orange', 3), ('grape', 2)]\n",
    "names, prices = get_name_price(fruits)\n",
    "print(names)  # ('apple', 'orange', 'grape')\n",
    "print(prices)  # (2, 3, 2)\n",
    "```"
   ]
  },
  {
   "cell_type": "markdown",
   "id": "bb0e047a",
   "metadata": {},
   "source": [
    "On your terminal, type:\n",
    "```bash\n",
    "mypy mypy_example.py\n",
    "```\n",
    "And you should see something like below:"
   ]
  },
  {
   "cell_type": "code",
   "execution_count": 31,
   "id": "4734152f",
   "metadata": {
    "ExecuteTime": {
     "end_time": "2021-09-12T13:57:57.497228Z",
     "start_time": "2021-09-12T13:57:57.131001Z"
    },
    "tags": [
     "hide-input"
    ]
   },
   "outputs": [
    {
     "name": "stdout",
     "output_type": "stream",
     "text": [
      "mypy_example.py:4: \u001b[1m\u001b[31merror:\u001b[m Incompatible return value type (got \u001b[m\u001b[1m\"zip[Any]\"\u001b[m, expected \u001b[m\u001b[1m\"Union[List[Any], Tuple[Any, ...]]\"\u001b[m)\u001b[m\r\n",
      "\u001b[1m\u001b[31mFound 1 error in 1 file (checked 1 source file)\u001b[m\r\n"
     ]
    }
   ],
   "source": [
    "!mypy mypy_example.py"
   ]
  },
  {
   "cell_type": "markdown",
   "id": "04abb07f",
   "metadata": {},
   "source": [
    "[Link to mypy](https://mypy.readthedocs.io/en/latest/introduction.html)."
   ]
  }
 ],
 "metadata": {
  "celltoolbar": "Tags",
  "kernelspec": {
   "display_name": "Python 3 (ipykernel)",
   "language": "python",
   "name": "python3"
  },
  "language_info": {
   "codemirror_mode": {
    "name": "ipython",
    "version": 3
   },
   "file_extension": ".py",
   "mimetype": "text/x-python",
   "name": "python",
   "nbconvert_exporter": "python",
   "pygments_lexer": "ipython3",
   "version": "3.8.10"
  },
  "toc": {
   "base_numbering": 1,
   "nav_menu": {},
   "number_sections": true,
   "sideBar": true,
   "skip_h1_title": false,
   "title_cell": "Table of Contents",
   "title_sidebar": "Contents",
   "toc_cell": false,
   "toc_position": {},
   "toc_section_display": true,
   "toc_window_display": false
  }
 },
 "nbformat": 4,
 "nbformat_minor": 5
}
