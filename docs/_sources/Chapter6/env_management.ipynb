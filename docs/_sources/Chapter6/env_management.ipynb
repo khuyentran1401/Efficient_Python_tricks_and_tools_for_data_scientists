{
 "cells": [
  {
   "cell_type": "markdown",
   "id": "f85a6b65",
   "metadata": {},
   "source": [
    "## Environment Management"
   ]
  },
  {
   "cell_type": "markdown",
   "id": "a6c46416",
   "metadata": {},
   "source": [
    "![](../img/env_image.png)"
   ]
  },
  {
   "cell_type": "markdown",
   "id": "dfb76833",
   "metadata": {},
   "source": [
    "### virtualenv-clone: Create a Copy of a Virtual Environment"
   ]
  },
  {
   "cell_type": "markdown",
   "id": "2ad41200",
   "metadata": {},
   "source": [
    "Sometimes you might want to use the same virtual environment for 2 different directories. If you want to create a copy of a virtual environment, use virtualenv-clone. \n",
    "\n",
    "The code below shows how to use virtualenv-clone."
   ]
  },
  {
   "cell_type": "markdown",
   "id": "926acdb6",
   "metadata": {},
   "source": [
    "```bash\n",
    "$ pip install virtualenv-clone\n",
    "$ virtualenv-clone old_venv/ new_venv/\n",
    "\n",
    "$ source new_venv/bin/activate\n",
    "```"
   ]
  },
  {
   "cell_type": "markdown",
   "id": "0eba6abf",
   "metadata": {},
   "source": [
    "[Link to virtualenv-clone](https://github.com/edwardgeorge/virtualenv-clone)."
   ]
  },
  {
   "cell_type": "markdown",
   "id": "b7235f54",
   "metadata": {},
   "source": [
    "### pip-autoremove: Remove a Package and Its Unused Dependencies"
   ]
  },
  {
   "cell_type": "markdown",
   "id": "6a253e73",
   "metadata": {},
   "source": [
    "When using `pip uninstall`, you only remove a specific package."
   ]
  },
  {
   "cell_type": "code",
   "execution_count": null,
   "id": "7bf86646",
   "metadata": {
    "tags": [
     "hide-cell"
    ]
   },
   "outputs": [],
   "source": [
    "!pip install -U pandas-profiling[notebook]"
   ]
  },
  {
   "cell_type": "markdown",
   "id": "edd11704",
   "metadata": {},
   "source": [
    "```bash\n",
    "$ pip uninstall pandas-profiling[notebook] -y\n",
    "```"
   ]
  },
  {
   "cell_type": "code",
   "execution_count": null,
   "id": "2f12260d",
   "metadata": {
    "tags": [
     "remove-cell"
    ]
   },
   "outputs": [],
   "source": [
    "!pip uninstall pandas-profiling[notebook] -y"
   ]
  },
  {
   "cell_type": "markdown",
   "id": "eb04a68a",
   "metadata": {},
   "source": [
    "Wouldn't it be nice if you can uninstall that package and its unused dependencies? That is when `pip-autoremove` comes in handy."
   ]
  },
  {
   "cell_type": "code",
   "execution_count": null,
   "id": "5e264e38",
   "metadata": {
    "tags": [
     "hide-cell"
    ]
   },
   "outputs": [],
   "source": [
    "!pip install pip-autoremove"
   ]
  },
  {
   "cell_type": "code",
   "execution_count": null,
   "id": "7572139d",
   "metadata": {
    "tags": [
     "hide-cell"
    ]
   },
   "outputs": [],
   "source": [
    "!pip install -U pandas-profiling[notebook]"
   ]
  },
  {
   "cell_type": "markdown",
   "id": "669ea5cc",
   "metadata": {},
   "source": [
    "```bash\n",
    "$ pip-autoremove pandas-profiling[notebook] -y\n",
    "```"
   ]
  },
  {
   "cell_type": "code",
   "execution_count": null,
   "id": "03e79e61",
   "metadata": {
    "tags": [
     "remove-input"
    ]
   },
   "outputs": [],
   "source": [
    "!pip-autoremove pandas-profiling[notebook] -y"
   ]
  },
  {
   "cell_type": "markdown",
   "id": "0ec7dd24",
   "metadata": {},
   "source": [
    "By using pip-autoremove, pandas-profiling and its unused dependencies are removed!"
   ]
  },
  {
   "cell_type": "markdown",
   "id": "664a7a11",
   "metadata": {},
   "source": [
    "[Link to pip-autoremove](https://github.com/invl/pip-autoremove)."
   ]
  },
  {
   "cell_type": "markdown",
   "id": "6a1df69a",
   "metadata": {},
   "source": [
    "### pipreqs: Generate requirements.txt File for Any Project Based on Imports"
   ]
  },
  {
   "cell_type": "code",
   "execution_count": null,
   "id": "aeb4d4aa",
   "metadata": {
    "tags": [
     "hide-cell"
    ]
   },
   "outputs": [],
   "source": [
    "!pip install pipreqs"
   ]
  },
  {
   "cell_type": "markdown",
   "id": "d5c816a9",
   "metadata": {},
   "source": [
    "`pip freeze` saves all packages in the environment, including ones that you don't use in your current project. To generate a `requirements.txt` based on imports, use pipreqs. \n",
    "\n",
    "For example, to save all packages in your current project to a `requirements.txt` file, run:\n",
    "```bash\n",
    "$ pipreqs . \n",
    "```"
   ]
  },
  {
   "cell_type": "code",
   "execution_count": null,
   "id": "da080f61",
   "metadata": {
    "tags": [
     "remove-input"
    ]
   },
   "outputs": [],
   "source": [
    "!pipreqs . "
   ]
  },
  {
   "cell_type": "markdown",
   "id": "890901ef",
   "metadata": {},
   "source": [
    "Your `requirements.txt` should look like below:\n",
    "```txt\n",
    "numpy==1.21.4\n",
    "pandas==1.3.4\n",
    "pyinstrument==4.0.3\n",
    "typer==0.4.0\n",
    "```"
   ]
  },
  {
   "cell_type": "markdown",
   "id": "832a9786",
   "metadata": {},
   "source": [
    "Usage of pipreqs:\n",
    "\n",
    "```bash\n",
    "Usage:\n",
    "    pipreqs [options] [<path>]\n",
    "\n",
    "Arguments:\n",
    "    <path>                The path to the directory containing the application files for which a requirements file\n",
    "                          should be generated (defaults to the current working directory)\n",
    "\n",
    "Options:\n",
    "    --use-local           Use ONLY local package info instead of querying PyPI\n",
    "    --pypi-server <url>   Use custom PyPi server\n",
    "    --proxy <url>         Use Proxy, parameter will be passed to requests library. You can also just set the\n",
    "                          environments parameter in your terminal:\n",
    "                          $ export HTTP_PROXY=\"http://10.10.1.10:3128\"\n",
    "                          $ export HTTPS_PROXY=\"https://10.10.1.10:1080\"\n",
    "    --debug               Print debug information\n",
    "    --ignore <dirs>...    Ignore extra directories, each separated by a comma\n",
    "    --no-follow-links     Do not follow symbolic links in the project\n",
    "    --encoding <charset>  Use encoding parameter for file open\n",
    "    --savepath <file>     Save the list of requirements in the given file\n",
    "    --print               Output the list of requirements in the standard output\n",
    "    --force               Overwrite existing requirements.txt\n",
    "    --diff <file>         Compare modules in requirements.txt to project imports\n",
    "    --clean <file>        Clean up requirements.txt by removing modules that are not imported in project\n",
    "    --mode <scheme>       Enables dynamic versioning with <compat>, <gt> or <non-pin> schemes\n",
    "                          <compat> | e.g. Flask~=1.1.2\n",
    "                          <gt>     | e.g. Flask>=1.1.2\n",
    "                          <no-pin> | e.g. Flask\n",
    "```"
   ]
  },
  {
   "cell_type": "markdown",
   "id": "159aa1c0",
   "metadata": {},
   "source": [
    "[Link to pipreqs](https://github.com/bndr/pipreqs/)."
   ]
  },
  {
   "cell_type": "markdown",
   "id": "3ea58115",
   "metadata": {},
   "source": [
    "### pydeps: Python Module Dependency Visualization"
   ]
  },
  {
   "cell_type": "markdown",
   "id": "f575953f",
   "metadata": {},
   "source": [
    "If you want to generate the graph showing the dependencies of your Python modules, try pydeps. \n",
    "\n",
    "For example, to generate the dependency graph for files in the folder [top_github_scraper](https://github.com/khuyentran1401/top-github-scraper/tree/master/top_github_scraper), I type:\n",
    "\n",
    "```bash\n",
    "$ pydeps top_github_scraper\n",
    "```\n",
    "The image below is the output of the command:"
   ]
  },
  {
   "cell_type": "markdown",
   "id": "22ae68c4",
   "metadata": {},
   "source": [
    "![image](../img/top_github_scraper.png)"
   ]
  },
  {
   "cell_type": "markdown",
   "id": "83ec0400",
   "metadata": {},
   "source": [
    "The folder structure of top_github_scraper looks like the below:"
   ]
  },
  {
   "cell_type": "markdown",
   "id": "98cad661",
   "metadata": {},
   "source": [
    "```bash\n",
    "top_github_scraper\n",
    "├── __init__.py\n",
    "├── scrape_repo.py\n",
    "├── scrape_user.py\n",
    "└── utils.py\n",
    "```"
   ]
  },
  {
   "cell_type": "markdown",
   "id": "e4d5b4c9",
   "metadata": {},
   "source": [
    "[Link to pydeps](https://github.com/thebjorn/pydeps)."
   ]
  },
  {
   "cell_type": "markdown",
   "id": "2cb9f6f3",
   "metadata": {},
   "source": [
    "### Compare Dependencies of Two Requirements Files"
   ]
  },
  {
   "cell_type": "code",
   "execution_count": null,
   "id": "6ecf5cf9",
   "metadata": {
    "tags": [
     "hide-cell"
    ]
   },
   "outputs": [],
   "source": [
    "!pip install compare-requirements"
   ]
  },
  {
   "cell_type": "markdown",
   "id": "7196f172",
   "metadata": {},
   "source": [
    "It can be cumbersome to compare the dependencies between two requirements files. Especially when there are a lot of dependencies in each file. To automate the comparison, use `compare-requirements`."
   ]
  },
  {
   "cell_type": "markdown",
   "id": "49f47bc9",
   "metadata": {},
   "source": [
    "For example, if your reqs1.txt looks like this:"
   ]
  },
  {
   "cell_type": "code",
   "execution_count": null,
   "id": "53414542",
   "metadata": {},
   "outputs": [],
   "source": [
    "%%writefile reqs1.txt\n",
    "numpy==1.19.5\n",
    "datacommons-pandas==0.0.3\n",
    "pandas==1.3.3"
   ]
  },
  {
   "cell_type": "markdown",
   "id": "bcb74526",
   "metadata": {},
   "source": [
    "and your reqs2.txt looks like this:"
   ]
  },
  {
   "cell_type": "code",
   "execution_count": null,
   "id": "58099f0e",
   "metadata": {},
   "outputs": [],
   "source": [
    "%%writefile reqs2.txt\n",
    "numpy==1.19.5\n",
    "datacommons-pandas==0.0.3\n",
    "pandas==1.3.4\n",
    "pandas-datareader==0.10.0"
   ]
  },
  {
   "cell_type": "markdown",
   "id": "33ef9988",
   "metadata": {},
   "source": [
    "Running \n",
    "```bash\n",
    "$ cmpreqs reqs1.txt reqs2.txt\n",
    "```\n",
    "will output:"
   ]
  },
  {
   "cell_type": "code",
   "execution_count": null,
   "id": "ac159aca",
   "metadata": {
    "tags": [
     "remove-input"
    ]
   },
   "outputs": [],
   "source": [
    "!cmpreqs reqs1.txt reqs2.txt "
   ]
  },
  {
   "cell_type": "markdown",
   "id": "b7738ba1",
   "metadata": {},
   "source": [
    "[Link to compare-requirements](https://github.com/alsur/compare-requirements)."
   ]
  },
  {
   "cell_type": "markdown",
   "id": "a16b2362",
   "metadata": {},
   "source": [
    "### Poetry: Python Tool for Dependency Management and Packaging"
   ]
  },
  {
   "cell_type": "markdown",
   "id": "ead4b6f1",
   "metadata": {},
   "source": [
    "Have you ever updated a dependency of your project to a new version, and your code suddenly broke? That could be due to the incompatibility of the current dependencies and the new dependency. Wouldn't it be nice if you can check the compatibility between dependencies before installing new ones? That is when Poetry comes in handy."
   ]
  },
  {
   "cell_type": "markdown",
   "id": "6bc63047",
   "metadata": {},
   "source": [
    "To understand how Poetry works, start with initializing Poetry:\n",
    "\n",
    "```bash\n",
    "$ poetry init\n",
    "```"
   ]
  },
  {
   "cell_type": "code",
   "execution_count": null,
   "id": "7fd3e29f",
   "metadata": {
    "tags": [
     "remove-cell"
    ]
   },
   "outputs": [],
   "source": [
    "!poetry init"
   ]
  },
  {
   "cell_type": "markdown",
   "id": "97c2eb5f",
   "metadata": {},
   "source": [
    "Next, install the latest versions of pandas and NumPy using:\n",
    "```bash\n",
    "$ poetry add pandas numpy\n",
    "```"
   ]
  },
  {
   "cell_type": "code",
   "execution_count": null,
   "id": "e577e718",
   "metadata": {
    "tags": [
     "remove-input"
    ]
   },
   "outputs": [],
   "source": [
    "!poetry add pandas numpy"
   ]
  },
  {
   "cell_type": "markdown",
   "id": "40622895",
   "metadata": {},
   "source": [
    "Now your `pyproject.toml` file should look like this:"
   ]
  },
  {
   "cell_type": "markdown",
   "id": "6af99226",
   "metadata": {},
   "source": [
    "```yaml\n",
    "# pyproject.toml\n",
    "[tool.poetry.dependencies]\n",
    "python = \"^3.8\"\n",
    "pandas = \"^1.4.1\"\n",
    "numpy = \"^1.22.2\"\n",
    "```"
   ]
  },
  {
   "cell_type": "markdown",
   "id": "3d9f8006",
   "metadata": {},
   "source": [
    "You decide to use the earlier version of NumPy so you run:\n",
    "\n",
    "```bash\n",
    "$ poetry add 'numpy<1.18'\n",
    "```\n",
    "\n",
    "Since pandas==1.4.1 requires numpy>=1.18.5, numpy<1.18 is not installed. Thus, you avoid installing dependencies that are not compatible with the current dependencies."
   ]
  },
  {
   "cell_type": "code",
   "execution_count": null,
   "id": "61fd4cb8",
   "metadata": {
    "tags": [
     "remove-input"
    ]
   },
   "outputs": [],
   "source": [
    "!poetry add 'numpy<1.18'"
   ]
  },
  {
   "cell_type": "markdown",
   "id": "40dd784d",
   "metadata": {},
   "source": [
    "To view what sub-dependencies of a dependency, type:\n",
    "\n",
    "```bash\n",
    "$ poetry show pandas  \n",
    "```"
   ]
  },
  {
   "cell_type": "code",
   "execution_count": null,
   "id": "bb1eec17",
   "metadata": {
    "tags": [
     "remove-input"
    ]
   },
   "outputs": [],
   "source": [
    "!poetry show pandas  "
   ]
  },
  {
   "cell_type": "markdown",
   "id": "b6b40595",
   "metadata": {},
   "source": [
    "Another cool thing about Poetry is that when you remove a dependency, it also removes sub-dependencies that are no longer needed in your project.\n",
    "\n",
    "```bash\n",
    "$ poetry remove pandas \n",
    "```"
   ]
  },
  {
   "cell_type": "code",
   "execution_count": null,
   "id": "7708b60c",
   "metadata": {
    "tags": [
     "remove-input"
    ]
   },
   "outputs": [],
   "source": [
    "!poetry remove pandas "
   ]
  },
  {
   "cell_type": "markdown",
   "id": "ee47d7ad",
   "metadata": {},
   "source": [
    "[Link to Poetry](https://python-poetry.org/docs).\n",
    "\n",
    "[My full article on how to publish your Python package to PyPI using Poetry](https://towardsdatascience.com/how-to-effortlessly-publish-your-python-package-to-pypi-using-poetry-44b305362f9f?gi=f5490e76b74)"
   ]
  },
  {
   "cell_type": "markdown",
   "id": "8feaacdf",
   "metadata": {},
   "source": [
    "### PyInstaller: Bundle a Python Application Into a Single Executable"
   ]
  },
  {
   "cell_type": "code",
   "execution_count": null,
   "id": "196a076b",
   "metadata": {
    "tags": [
     "hide-cell"
    ]
   },
   "outputs": [],
   "source": [
    "!pip install pyinstaller"
   ]
  },
  {
   "cell_type": "markdown",
   "id": "7a51c6c5",
   "metadata": {},
   "source": [
    "To package a Python application along with its dependencies into a single executable, use PyInstaller. With PyInstaller, users can run the packaged app without installing a Python interpreter or any modules."
   ]
  },
  {
   "cell_type": "markdown",
   "id": "520d27f5",
   "metadata": {},
   "source": [
    "To see how PyInstaller works, let's start with creating a `main.py` script that depends on another Python script and various Python modules."
   ]
  },
  {
   "cell_type": "code",
   "execution_count": null,
   "id": "65e2e52c",
   "metadata": {},
   "outputs": [],
   "source": [
    "%%writefile get_data.py\n",
    "import pandas as pd  \n",
    "import numpy as np  \n",
    "\n",
    "def get_data():\n",
    "    return pd.DataFrame(np.random.randn(10, 2), columns=['A', 'B'])"
   ]
  },
  {
   "cell_type": "code",
   "execution_count": null,
   "id": "1f25bb68",
   "metadata": {},
   "outputs": [],
   "source": [
    "%%writefile main.py\n",
    "from get_data import get_data\n",
    "\n",
    "df = get_data()\n",
    "print(f'Dataframe:\\n{df}')"
   ]
  },
  {
   "cell_type": "markdown",
   "id": "ced13e92",
   "metadata": {},
   "source": [
    "Next, execute PyInstaller against the `main.py` script, specifying the `onefile` option to bundle the application into a single file."
   ]
  },
  {
   "cell_type": "markdown",
   "id": "b833ae78",
   "metadata": {},
   "source": [
    "```bash\n",
    "$ pyinstaller main.py --onefile\n",
    "```"
   ]
  },
  {
   "cell_type": "code",
   "execution_count": null,
   "id": "666f8dda",
   "metadata": {
    "tags": [
     "remove-cell"
    ]
   },
   "outputs": [],
   "source": [
    "!pyinstaller main.py --onefile"
   ]
  },
  {
   "cell_type": "markdown",
   "id": "36233655",
   "metadata": {},
   "source": [
    "After the command completes, your directory structure will look like this:\n",
    "```bash\n",
    ".\n",
    "├── build/\n",
    "├── dist/\n",
    "│   └── main\n",
    "├── main.spec\n",
    "├── main.py\n",
    "└── get_data.py\n",
    "```\n",
    "\n",
    "The \"dist/main\" file contains all dependencies and executable for your application.\n",
    "\n",
    "Now, running the \"dist/main\" file will execute the application."
   ]
  },
  {
   "cell_type": "markdown",
   "id": "ade9230b",
   "metadata": {},
   "source": [
    "```bash\n",
    "$ ./dist/main\n",
    "```"
   ]
  },
  {
   "cell_type": "code",
   "execution_count": null,
   "id": "75097589",
   "metadata": {
    "tags": [
     "remove-input"
    ]
   },
   "outputs": [],
   "source": [
    "!./dist/main"
   ]
  },
  {
   "cell_type": "markdown",
   "id": "5faa2ac9",
   "metadata": {},
   "source": [
    "You can conveniently share this file with your colleagues, allowing them to run the application without any additional setup or installations."
   ]
  },
  {
   "cell_type": "markdown",
   "id": "bf3b0012",
   "metadata": {},
   "source": [
    "[Link to PyInstaller](https://github.com/pyinstaller/pyinstaller)"
   ]
  }
 ],
 "metadata": {
  "jupytext": {
   "text_representation": {
    "extension": ".md",
    "format_name": "myst",
    "format_version": 0.13,
    "jupytext_version": "1.16.7"
   }
  },
  "kernelspec": {
   "display_name": "Python 3",
   "language": "python",
   "name": "python3"
  },
  "source_map": [
   12,
   16,
   20,
   24,
   30,
   39,
   43,
   47,
   51,
   55,
   61,
   65,
   69,
   75,
   79,
   85,
   89,
   93,
   97,
   101,
   105,
   114,
   118,
   128,
   162,
   166,
   170,
   181,
   185,
   189,
   199,
   203,
   207,
   211,
   215,
   219,
   224,
   228,
   234,
   242,
   246,
   250,
   254,
   258,
   266,
   270,
   277,
   281,
   285,
   295,
   305,
   309,
   317,
   321,
   329,
   333,
   339,
   343,
   347,
   351,
   355,
   364,
   370,
   374,
   380,
   384,
   401,
   407,
   411,
   415
  ]
 },
 "nbformat": 4,
 "nbformat_minor": 5
}