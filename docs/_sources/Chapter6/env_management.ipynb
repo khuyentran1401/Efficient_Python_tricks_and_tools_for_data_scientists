{
 "cells": [
  {
   "attachments": {},
   "cell_type": "markdown",
   "id": "982f74ec",
   "metadata": {},
   "source": [
    "## Environment Management"
   ]
  },
  {
   "attachments": {},
   "cell_type": "markdown",
   "id": "9e21f149",
   "metadata": {},
   "source": [
    "![](../img/env_image.png)"
   ]
  },
  {
   "attachments": {},
   "cell_type": "markdown",
   "id": "34391612",
   "metadata": {},
   "source": [
    "### virtualenv-clone: Create a Copy of a Virtual Environment"
   ]
  },
  {
   "attachments": {},
   "cell_type": "markdown",
   "id": "83c3698a",
   "metadata": {},
   "source": [
    "Sometimes you might want to use the same virtual environment for 2 different directories. If you want to create a copy of a virtual environment, use virtualenv-clone. \n",
    "\n",
    "The code below shows how to use virtualenv-clone."
   ]
  },
  {
   "attachments": {},
   "cell_type": "markdown",
   "id": "660ab2f7",
   "metadata": {},
   "source": [
    "```bash\n",
    "$ pip install virtualenv-clone\n",
    "$ virtualenv-clone old_venv/ new_venv/\n",
    "\n",
    "$ source new_venv/bin/activate\n",
    "```"
   ]
  },
  {
   "attachments": {},
   "cell_type": "markdown",
   "id": "a8d9d08b",
   "metadata": {},
   "source": [
    "[Link to virtualenv-clone](https://github.com/edwardgeorge/virtualenv-clone)."
   ]
  },
  {
   "attachments": {},
   "cell_type": "markdown",
   "id": "ec1cbd82",
   "metadata": {},
   "source": [
    "### pip-autoremove: Remove a Package and Its Unused Dependencies"
   ]
  },
  {
   "attachments": {},
   "cell_type": "markdown",
   "id": "0e1ba820",
   "metadata": {},
   "source": [
    "When using `pip uninstall`, you only remove a specific package. "
   ]
  },
  {
   "cell_type": "code",
   "execution_count": null,
   "id": "faee7e30",
   "metadata": {
    "ExecuteTime": {
     "end_time": "2021-09-29T13:25:51.357088Z",
     "start_time": "2021-09-29T13:25:45.714472Z"
    },
    "tags": [
     "hide-cell"
    ]
   },
   "outputs": [],
   "source": [
    "!pip install -U pandas-profiling[notebook]"
   ]
  },
  {
   "attachments": {},
   "cell_type": "markdown",
   "id": "176f3fe6",
   "metadata": {},
   "source": [
    "```bash\n",
    "$ pip uninstall pandas-profiling[notebook] -y\n",
    "```"
   ]
  },
  {
   "cell_type": "code",
   "execution_count": null,
   "id": "1f491e9b",
   "metadata": {
    "ExecuteTime": {
     "end_time": "2021-09-29T13:26:06.566707Z",
     "start_time": "2021-09-29T13:26:05.971713Z"
    },
    "tags": [
     "remove-cell"
    ]
   },
   "outputs": [],
   "source": [
    "!pip uninstall pandas-profiling[notebook] -y"
   ]
  },
  {
   "attachments": {},
   "cell_type": "markdown",
   "id": "e3a5f293",
   "metadata": {},
   "source": [
    "Wouldn't it be nice if you can uninstall that package and its unused dependencies? That is when `pip-autoremove` comes in handy. "
   ]
  },
  {
   "cell_type": "code",
   "execution_count": null,
   "id": "5f224c50",
   "metadata": {
    "ExecuteTime": {
     "end_time": "2021-09-29T13:24:39.694366Z",
     "start_time": "2021-09-29T13:24:37.292811Z"
    },
    "tags": [
     "hide-cell"
    ]
   },
   "outputs": [],
   "source": [
    "!pip install pip-autoremove"
   ]
  },
  {
   "cell_type": "code",
   "execution_count": null,
   "id": "ca74ad8a",
   "metadata": {
    "tags": [
     "hide-cell"
    ]
   },
   "outputs": [],
   "source": [
    "!pip install -U pandas-profiling[notebook]"
   ]
  },
  {
   "attachments": {},
   "cell_type": "markdown",
   "id": "e72a5d69",
   "metadata": {},
   "source": [
    "```bash\n",
    "$ pip-autoremove pandas-profiling[notebook] -y\n",
    "```"
   ]
  },
  {
   "cell_type": "code",
   "execution_count": 5,
   "id": "30a4cb4a",
   "metadata": {
    "ExecuteTime": {
     "end_time": "2021-09-29T13:25:33.658214Z",
     "start_time": "2021-09-29T13:25:31.569786Z"
    },
    "tags": [
     "remove-input"
    ]
   },
   "outputs": [
    {
     "name": "stdout",
     "output_type": "stream",
     "text": [
      "Jinja2 3.0.1 is installed but jinja2~=2.11.2 is required\n",
      "Redoing requirement with just package name...\n",
      "spacy 3.1.2 is installed but spacy<3.0.0 is required\n",
      "Redoing requirement with just package name...\n",
      "markdown-it-py 0.6.2 is installed but markdown-it-py~=1.0 is required\n",
      "Redoing requirement with just package name...\n",
      "attrs 21.2.0 is installed but attrs<21,>=19 is required\n",
      "Redoing requirement with just package name...\n",
      "typer 0.3.2 is installed but typer[all]>=0.4 is required\n",
      "Redoing requirement with just package name...\n",
      "fsspec 0.8.7 is installed but fsspec[http]>=2021.8.1 is required\n",
      "Redoing requirement with just package name...\n",
      "pandas-profiling 3.1.0 (/home/khuyen/book/venv/lib/python3.8/site-packages)\n",
      "    seaborn 0.11.2 (/home/khuyen/book/venv/lib/python3.8/site-packages)\n",
      "    htmlmin 0.1.12 (/home/khuyen/book/venv/lib/python3.8/site-packages)\n",
      "    phik 0.12.0 (/home/khuyen/book/venv/lib/python3.8/site-packages)\n",
      "    multimethod 1.6 (/home/khuyen/book/venv/lib/python3.8/site-packages)\n",
      "    tangled-up-in-unicode 0.1.0 (/home/khuyen/book/venv/lib/python3.8/site-packages)\n",
      "    visions 0.7.4 (/home/khuyen/book/venv/lib/python3.8/site-packages)\n",
      "    missingno 0.5.0 (/home/khuyen/book/venv/lib/python3.8/site-packages)\n",
      "Found existing installation: phik 0.12.0\n",
      "Uninstalling phik-0.12.0:\n",
      "  Successfully uninstalled phik-0.12.0\n",
      "Found existing installation: multimethod 1.6\n",
      "Uninstalling multimethod-1.6:\n",
      "  Successfully uninstalled multimethod-1.6\n",
      "Found existing installation: pandas-profiling 3.1.0\n",
      "Uninstalling pandas-profiling-3.1.0:\n",
      "  Successfully uninstalled pandas-profiling-3.1.0\n",
      "Found existing installation: seaborn 0.11.2\n",
      "Uninstalling seaborn-0.11.2:\n",
      "  Successfully uninstalled seaborn-0.11.2\n",
      "Found existing installation: tangled-up-in-unicode 0.1.0\n",
      "Uninstalling tangled-up-in-unicode-0.1.0:\n",
      "  Successfully uninstalled tangled-up-in-unicode-0.1.0\n",
      "Found existing installation: visions 0.7.4\n",
      "Uninstalling visions-0.7.4:\n",
      "  Successfully uninstalled visions-0.7.4\n",
      "Found existing installation: htmlmin 0.1.12\n",
      "Uninstalling htmlmin-0.1.12:\n",
      "  Successfully uninstalled htmlmin-0.1.12\n",
      "Found existing installation: missingno 0.5.0\n",
      "Uninstalling missingno-0.5.0:\n",
      "  Successfully uninstalled missingno-0.5.0\n"
     ]
    }
   ],
   "source": [
    "!pip-autoremove pandas-profiling[notebook] -y"
   ]
  },
  {
   "attachments": {},
   "cell_type": "markdown",
   "id": "591f01dc",
   "metadata": {},
   "source": [
    "By using pip-autoremove, pandas-profiling and its unused dependencies are removed!"
   ]
  },
  {
   "attachments": {},
   "cell_type": "markdown",
   "id": "93b5ba34",
   "metadata": {},
   "source": [
    "[Link to pip-autoremove](https://github.com/invl/pip-autoremove)."
   ]
  },
  {
   "attachments": {},
   "cell_type": "markdown",
   "id": "a1c49710",
   "metadata": {},
   "source": [
    "### pipreqs: Generate requirements.txt File for Any Project Based on Imports"
   ]
  },
  {
   "cell_type": "code",
   "execution_count": null,
   "id": "4ff403fc",
   "metadata": {
    "ExecuteTime": {
     "end_time": "2021-12-03T13:10:12.153567Z",
     "start_time": "2021-12-03T13:10:09.747575Z"
    },
    "tags": [
     "hide-cell"
    ]
   },
   "outputs": [],
   "source": [
    "!pip install pipreqs"
   ]
  },
  {
   "attachments": {},
   "cell_type": "markdown",
   "id": "a6c22ee8",
   "metadata": {
    "ExecuteTime": {
     "end_time": "2021-12-03T13:11:26.151643Z",
     "start_time": "2021-12-03T13:11:24.908779Z"
    }
   },
   "source": [
    "`pip freeze` saves all packages in the environment, including ones that you don't use in your current project. To generate a `requirements.txt` based on imports, use pipreqs. \n",
    "\n",
    "For example, to save all packages in your current project to a `requirements.txt` file, run:\n",
    "```bash\n",
    "$ pipreqs . \n",
    "```"
   ]
  },
  {
   "cell_type": "code",
   "execution_count": 2,
   "id": "5344952c",
   "metadata": {
    "ExecuteTime": {
     "end_time": "2021-12-03T13:10:47.411600Z",
     "start_time": "2021-12-03T13:10:46.118626Z"
    },
    "scrolled": true,
    "tags": [
     "remove-input"
    ]
   },
   "outputs": [
    {
     "name": "stdout",
     "output_type": "stream",
     "text": [
      "INFO: Successfully saved requirements file in ./requirements.txt\r\n"
     ]
    }
   ],
   "source": [
    "!pipreqs . "
   ]
  },
  {
   "attachments": {},
   "cell_type": "markdown",
   "id": "11c37e96",
   "metadata": {},
   "source": [
    "Your `requirements.txt` should look like below:\n",
    "```txt\n",
    "numpy==1.21.4\n",
    "pandas==1.3.4\n",
    "pyinstrument==4.0.3\n",
    "typer==0.4.0\n",
    "```"
   ]
  },
  {
   "attachments": {},
   "cell_type": "markdown",
   "id": "5a508c2d",
   "metadata": {},
   "source": [
    "Usage of pipreqs:\n",
    "\n",
    "```bash\n",
    "Usage:\n",
    "    pipreqs [options] [<path>]\n",
    "\n",
    "Arguments:\n",
    "    <path>                The path to the directory containing the application files for which a requirements file\n",
    "                          should be generated (defaults to the current working directory)\n",
    "\n",
    "Options:\n",
    "    --use-local           Use ONLY local package info instead of querying PyPI\n",
    "    --pypi-server <url>   Use custom PyPi server\n",
    "    --proxy <url>         Use Proxy, parameter will be passed to requests library. You can also just set the\n",
    "                          environments parameter in your terminal:\n",
    "                          $ export HTTP_PROXY=\"http://10.10.1.10:3128\"\n",
    "                          $ export HTTPS_PROXY=\"https://10.10.1.10:1080\"\n",
    "    --debug               Print debug information\n",
    "    --ignore <dirs>...    Ignore extra directories, each separated by a comma\n",
    "    --no-follow-links     Do not follow symbolic links in the project\n",
    "    --encoding <charset>  Use encoding parameter for file open\n",
    "    --savepath <file>     Save the list of requirements in the given file\n",
    "    --print               Output the list of requirements in the standard output\n",
    "    --force               Overwrite existing requirements.txt\n",
    "    --diff <file>         Compare modules in requirements.txt to project imports\n",
    "    --clean <file>        Clean up requirements.txt by removing modules that are not imported in project\n",
    "    --mode <scheme>       Enables dynamic versioning with <compat>, <gt> or <non-pin> schemes\n",
    "                          <compat> | e.g. Flask~=1.1.2\n",
    "                          <gt>     | e.g. Flask>=1.1.2\n",
    "                          <no-pin> | e.g. Flask\n",
    "```"
   ]
  },
  {
   "attachments": {},
   "cell_type": "markdown",
   "id": "edf2de31",
   "metadata": {},
   "source": [
    "[Link to pipreqs](https://github.com/bndr/pipreqs/)."
   ]
  },
  {
   "attachments": {},
   "cell_type": "markdown",
   "id": "ad0c9b74",
   "metadata": {},
   "source": [
    "### pydeps: Python Module Dependency Visualization"
   ]
  },
  {
   "attachments": {},
   "cell_type": "markdown",
   "id": "afd2dd6f",
   "metadata": {},
   "source": [
    "If you want to generate the graph showing the dependencies of your Python modules, try pydeps. \n",
    "\n",
    "For example, to generate the dependency graph for files in the folder [top_github_scraper](https://github.com/khuyentran1401/top-github-scraper/tree/master/top_github_scraper), I type:\n",
    "\n",
    "```bash\n",
    "$ pydeps top_github_scraper\n",
    "```\n",
    "The image below is the output of the command:"
   ]
  },
  {
   "attachments": {},
   "cell_type": "markdown",
   "id": "e40a5f7b",
   "metadata": {},
   "source": [
    "![image](../img/top_github_scraper.png)"
   ]
  },
  {
   "attachments": {},
   "cell_type": "markdown",
   "id": "51f25a6f",
   "metadata": {},
   "source": [
    "The folder structure of top_github_scraper looks like the below:"
   ]
  },
  {
   "attachments": {},
   "cell_type": "markdown",
   "id": "0d6a04a5",
   "metadata": {},
   "source": [
    "```bash\n",
    "top_github_scraper\n",
    "├── __init__.py\n",
    "├── scrape_repo.py\n",
    "├── scrape_user.py\n",
    "└── utils.py\n",
    "```"
   ]
  },
  {
   "attachments": {},
   "cell_type": "markdown",
   "id": "30e31dd7",
   "metadata": {},
   "source": [
    "[Link to pydeps](https://github.com/thebjorn/pydeps)."
   ]
  },
  {
   "attachments": {},
   "cell_type": "markdown",
   "id": "b2ba064e",
   "metadata": {},
   "source": [
    "### Compare Dependencies of Two Requirements Files"
   ]
  },
  {
   "cell_type": "code",
   "execution_count": null,
   "id": "6de5642c",
   "metadata": {
    "tags": [
     "hide-cell"
    ]
   },
   "outputs": [],
   "source": [
    "!pip install compare-requirements"
   ]
  },
  {
   "attachments": {},
   "cell_type": "markdown",
   "id": "ddbd4c18",
   "metadata": {},
   "source": [
    "It can be cumbersome to compare the dependencies between two requirements files. Especially when there are a lot of dependencies in each file. To automate the comparison, use `compare-requirements`. "
   ]
  },
  {
   "attachments": {},
   "cell_type": "markdown",
   "id": "1175dae4",
   "metadata": {},
   "source": [
    "For example, if your reqs1.txt looks like this:"
   ]
  },
  {
   "cell_type": "code",
   "execution_count": 1,
   "id": "829ef1a2",
   "metadata": {},
   "outputs": [
    {
     "name": "stdout",
     "output_type": "stream",
     "text": [
      "Writing reqs1.txt\n"
     ]
    }
   ],
   "source": [
    "%%writefile reqs1.txt\n",
    "numpy==1.19.5\n",
    "datacommons-pandas==0.0.3\n",
    "pandas==1.3.3"
   ]
  },
  {
   "attachments": {},
   "cell_type": "markdown",
   "id": "198f737a",
   "metadata": {},
   "source": [
    "and your reqs2.txt looks like this:"
   ]
  },
  {
   "cell_type": "code",
   "execution_count": 2,
   "id": "7039a2c9",
   "metadata": {},
   "outputs": [
    {
     "name": "stdout",
     "output_type": "stream",
     "text": [
      "Writing reqs2.txt\n"
     ]
    }
   ],
   "source": [
    "%%writefile reqs2.txt\n",
    "numpy==1.19.5\n",
    "datacommons-pandas==0.0.3\n",
    "pandas==1.3.4\n",
    "pandas-datareader==0.10.0"
   ]
  },
  {
   "attachments": {},
   "cell_type": "markdown",
   "id": "7410490e",
   "metadata": {},
   "source": [
    "Running \n",
    "```bash\n",
    "$ cmpreqs reqs1.txt reqs2.txt\n",
    "```\n",
    "will output:"
   ]
  },
  {
   "cell_type": "code",
   "execution_count": 2,
   "id": "1e1a52b2",
   "metadata": {
    "ExecuteTime": {
     "end_time": "2022-02-02T15:20:57.705290Z",
     "start_time": "2022-02-02T15:20:57.507396Z"
    },
    "tags": [
     "remove-input"
    ]
   },
   "outputs": [
    {
     "name": "stdout",
     "output_type": "stream",
     "text": [
      "\r\n",
      "Different dependencies\r\n",
      "======================\r\n",
      "Name    reqs1.txt  reqs2.txt\r\n",
      "------  ---------  ---------\r\n",
      "pandas  1.3.3      1.3.4    \r\n",
      "\r\n",
      "Equal dependencies\r\n",
      "==================\r\n",
      "Name                Version\r\n",
      "------------------  -------\r\n",
      "numpy               1.19.5 \r\n",
      "datacommons-pandas  0.0.3  \r\n",
      "\r\n",
      "Only available on reqs2.txt\r\n",
      "===========================\r\n",
      "Name               Version\r\n",
      "-----------------  -------\r\n",
      "pandas-datareader  0.10.0 \r\n",
      "\r\n",
      "Only available on reqs1.txt\r\n",
      "===========================\r\n",
      "Name  Version\r\n",
      "----  -------\r\n"
     ]
    }
   ],
   "source": [
    "!cmpreqs reqs1.txt reqs2.txt "
   ]
  },
  {
   "attachments": {},
   "cell_type": "markdown",
   "id": "67b5b090",
   "metadata": {},
   "source": [
    "[Link to compare-requirements](https://github.com/alsur/compare-requirements)."
   ]
  },
  {
   "attachments": {},
   "cell_type": "markdown",
   "id": "b4d2b8ac",
   "metadata": {},
   "source": [
    "### Poetry: Python Tool for Dependency Management and Packaging "
   ]
  },
  {
   "attachments": {},
   "cell_type": "markdown",
   "id": "9e050053",
   "metadata": {},
   "source": [
    "Have you ever updated a dependency of your project to a new version, and your code suddenly broke? That could be due to the incompatibility of the current dependencies and the new dependency. Wouldn't it be nice if you can check the compatibility between dependencies before installing new ones? That is when Poetry comes in handy."
   ]
  },
  {
   "attachments": {},
   "cell_type": "markdown",
   "id": "fb79831a",
   "metadata": {},
   "source": [
    "To understand how Poetry works, start with initializing Poetry:\n",
    "\n",
    "```bash\n",
    "$ poetry init\n",
    "```"
   ]
  },
  {
   "cell_type": "code",
   "execution_count": null,
   "id": "8a9ab8d9",
   "metadata": {
    "tags": [
     "remove-cell"
    ]
   },
   "outputs": [],
   "source": [
    "!poetry init"
   ]
  },
  {
   "attachments": {},
   "cell_type": "markdown",
   "id": "22eafd9b",
   "metadata": {},
   "source": [
    "Next, install the latest versions of pandas and NumPy using:\n",
    "```bash\n",
    "$ poetry add pandas numpy\n",
    "```"
   ]
  },
  {
   "cell_type": "code",
   "execution_count": 7,
   "id": "e33d291d",
   "metadata": {
    "ExecuteTime": {
     "end_time": "2022-02-18T14:37:12.072200Z",
     "start_time": "2022-02-18T14:36:39.868637Z"
    },
    "tags": [
     "remove-input"
    ]
   },
   "outputs": [
    {
     "name": "stdout",
     "output_type": "stream",
     "text": [
      "Using version \u001b[1m^1.4.1\u001b[0m for \u001b[36mpandas\u001b[0m\n",
      "Using version \u001b[1m^1.22.2\u001b[0m for \u001b[36mnumpy\u001b[0m\n",
      "\n",
      "\u001b[34mUpdating dependencies\u001b[0m\n",
      "\u001b[2K\u001b[34mResolving dependencies...\u001b[0m \u001b[39;2m(0.3s)\u001b[0m\n",
      "\n",
      "\u001b[34mWriting lock file\u001b[0m\n",
      "\n",
      "\u001b[1mPackage operations\u001b[0m: \u001b[34m5\u001b[0m installs, \u001b[34m0\u001b[0m updates, \u001b[34m0\u001b[0m removals\n",
      "\n",
      "  \u001b[34;1m•\u001b[0m \u001b[39mInstalling \u001b[0m\u001b[36msix\u001b[0m\u001b[39m (\u001b[0m\u001b[39;1m1.16.0\u001b[0m\u001b[39m)\u001b[0m: \u001b[34mPending...\u001b[0m\n",
      "\u001b[1A\u001b[0J  \u001b[34;1m•\u001b[0m \u001b[39mInstalling \u001b[0m\u001b[36msix\u001b[0m\u001b[39m (\u001b[0m\u001b[39;1m1.16.0\u001b[0m\u001b[39m)\u001b[0m: \u001b[34mInstalling...\u001b[0m\n",
      "\u001b[1A\u001b[0J  \u001b[32;1m•\u001b[0m \u001b[39mInstalling \u001b[0m\u001b[36msix\u001b[0m\u001b[39m (\u001b[0m\u001b[32m1.16.0\u001b[0m\u001b[39m)\u001b[0m\n",
      "  \u001b[34;1m•\u001b[0m \u001b[39mInstalling \u001b[0m\u001b[36mnumpy\u001b[0m\u001b[39m (\u001b[0m\u001b[39;1m1.22.2\u001b[0m\u001b[39m)\u001b[0m: \u001b[34mPending...\u001b[0m\n",
      "  \u001b[34;1m•\u001b[0m \u001b[39mInstalling \u001b[0m\u001b[36mpython-dateutil\u001b[0m\u001b[39m (\u001b[0m\u001b[39;1m2.8.2\u001b[0m\u001b[39m)\u001b[0m: \u001b[34mPending...\u001b[0m\n",
      "  \u001b[34;1m•\u001b[0m \u001b[39mInstalling \u001b[0m\u001b[36mpytz\u001b[0m\u001b[39m (\u001b[0m\u001b[39;1m2021.3\u001b[0m\u001b[39m)\u001b[0m: \u001b[34mPending...\u001b[0m\n",
      "\u001b[2A\u001b[0J  \u001b[34;1m•\u001b[0m \u001b[39mInstalling \u001b[0m\u001b[36mpytz\u001b[0m\u001b[39m (\u001b[0m\u001b[39;1m2021.3\u001b[0m\u001b[39m)\u001b[0m: \u001b[34mPending...\u001b[0m\n",
      "\u001b[1A\u001b[0J  \u001b[34;1m•\u001b[0m \u001b[39mInstalling \u001b[0m\u001b[36mpython-dateutil\u001b[0m\u001b[39m (\u001b[0m\u001b[39;1m2.8.2\u001b[0m\u001b[39m)\u001b[0m: \u001b[34mInstalling...\u001b[0m\n",
      "  \u001b[34;1m•\u001b[0m \u001b[39mInstalling \u001b[0m\u001b[36mpytz\u001b[0m\u001b[39m (\u001b[0m\u001b[39;1m2021.3\u001b[0m\u001b[39m)\u001b[0m: \u001b[34mPending...\u001b[0m\n",
      "\u001b[1A\u001b[0J  \u001b[34;1m•\u001b[0m \u001b[39mInstalling \u001b[0m\u001b[36mpytz\u001b[0m\u001b[39m (\u001b[0m\u001b[39;1m2021.3\u001b[0m\u001b[39m)\u001b[0m: \u001b[34mInstalling...\u001b[0m\n",
      "\u001b[3A\u001b[0J  \u001b[34;1m•\u001b[0m \u001b[39mInstalling \u001b[0m\u001b[36mpython-dateutil\u001b[0m\u001b[39m (\u001b[0m\u001b[39;1m2.8.2\u001b[0m\u001b[39m)\u001b[0m: \u001b[34mInstalling...\u001b[0m\n",
      "  \u001b[34;1m•\u001b[0m \u001b[39mInstalling \u001b[0m\u001b[36mpytz\u001b[0m\u001b[39m (\u001b[0m\u001b[39;1m2021.3\u001b[0m\u001b[39m)\u001b[0m: \u001b[34mInstalling...\u001b[0m\n",
      "\u001b[2A\u001b[0J  \u001b[34;1m•\u001b[0m \u001b[39mInstalling \u001b[0m\u001b[36mnumpy\u001b[0m\u001b[39m (\u001b[0m\u001b[39;1m1.22.2\u001b[0m\u001b[39m)\u001b[0m: \u001b[34mInstalling...\u001b[0m\n",
      "  \u001b[34;1m•\u001b[0m \u001b[39mInstalling \u001b[0m\u001b[36mpython-dateutil\u001b[0m\u001b[39m (\u001b[0m\u001b[39;1m2.8.2\u001b[0m\u001b[39m)\u001b[0m: \u001b[34mInstalling...\u001b[0m\n",
      "  \u001b[34;1m•\u001b[0m \u001b[39mInstalling \u001b[0m\u001b[36mpytz\u001b[0m\u001b[39m (\u001b[0m\u001b[39;1m2021.3\u001b[0m\u001b[39m)\u001b[0m: \u001b[34mInstalling...\u001b[0m\n",
      "\u001b[2A\u001b[0J  \u001b[34;1m•\u001b[0m \u001b[39mInstalling \u001b[0m\u001b[36mpytz\u001b[0m\u001b[39m (\u001b[0m\u001b[39;1m2021.3\u001b[0m\u001b[39m)\u001b[0m: \u001b[34mInstalling...\u001b[0m\n",
      "\u001b[1A\u001b[0J  \u001b[32;1m•\u001b[0m \u001b[39mInstalling \u001b[0m\u001b[36mpython-dateutil\u001b[0m\u001b[39m (\u001b[0m\u001b[32m2.8.2\u001b[0m\u001b[39m)\u001b[0m\n",
      "  \u001b[34;1m•\u001b[0m \u001b[39mInstalling \u001b[0m\u001b[36mpytz\u001b[0m\u001b[39m (\u001b[0m\u001b[39;1m2021.3\u001b[0m\u001b[39m)\u001b[0m: \u001b[34mInstalling...\u001b[0m\n",
      "\u001b[1A\u001b[0J  \u001b[32;1m•\u001b[0m \u001b[39mInstalling \u001b[0m\u001b[36mpytz\u001b[0m\u001b[39m (\u001b[0m\u001b[32m2021.3\u001b[0m\u001b[39m)\u001b[0m\n",
      "\u001b[3A\u001b[0J  \u001b[32;1m•\u001b[0m \u001b[39mInstalling \u001b[0m\u001b[36mpython-dateutil\u001b[0m\u001b[39m (\u001b[0m\u001b[32m2.8.2\u001b[0m\u001b[39m)\u001b[0m\n",
      "  \u001b[32;1m•\u001b[0m \u001b[39mInstalling \u001b[0m\u001b[36mpytz\u001b[0m\u001b[39m (\u001b[0m\u001b[32m2021.3\u001b[0m\u001b[39m)\u001b[0m\n",
      "\u001b[2A\u001b[0J  \u001b[32;1m•\u001b[0m \u001b[39mInstalling \u001b[0m\u001b[36mnumpy\u001b[0m\u001b[39m (\u001b[0m\u001b[32m1.22.2\u001b[0m\u001b[39m)\u001b[0m\n",
      "  \u001b[32;1m•\u001b[0m \u001b[39mInstalling \u001b[0m\u001b[36mpython-dateutil\u001b[0m\u001b[39m (\u001b[0m\u001b[32m2.8.2\u001b[0m\u001b[39m)\u001b[0m\n",
      "  \u001b[32;1m•\u001b[0m \u001b[39mInstalling \u001b[0m\u001b[36mpytz\u001b[0m\u001b[39m (\u001b[0m\u001b[32m2021.3\u001b[0m\u001b[39m)\u001b[0m\n",
      "  \u001b[34;1m•\u001b[0m \u001b[39mInstalling \u001b[0m\u001b[36mpandas\u001b[0m\u001b[39m (\u001b[0m\u001b[39;1m1.4.1\u001b[0m\u001b[39m)\u001b[0m: \u001b[34mPending...\u001b[0m\n",
      "\u001b[1A\u001b[0J  \u001b[34;1m•\u001b[0m \u001b[39mInstalling \u001b[0m\u001b[36mpandas\u001b[0m\u001b[39m (\u001b[0m\u001b[39;1m1.4.1\u001b[0m\u001b[39m)\u001b[0m: \u001b[34mInstalling...\u001b[0m\n",
      "\u001b[1A\u001b[0J  \u001b[32;1m•\u001b[0m \u001b[39mInstalling \u001b[0m\u001b[36mpandas\u001b[0m\u001b[39m (\u001b[0m\u001b[32m1.4.1\u001b[0m\u001b[39m)\u001b[0m\n"
     ]
    }
   ],
   "source": [
    "!poetry add pandas numpy"
   ]
  },
  {
   "attachments": {},
   "cell_type": "markdown",
   "id": "d573b402",
   "metadata": {},
   "source": [
    "Now your `pyproject.toml` file should look like this:"
   ]
  },
  {
   "attachments": {},
   "cell_type": "markdown",
   "id": "ab7ba8af",
   "metadata": {},
   "source": [
    "```yaml\n",
    "# pyproject.toml\n",
    "[tool.poetry.dependencies]\n",
    "python = \"^3.8\"\n",
    "pandas = \"^1.4.1\"\n",
    "numpy = \"^1.22.2\"\n",
    "```"
   ]
  },
  {
   "attachments": {},
   "cell_type": "markdown",
   "id": "b30722d5",
   "metadata": {},
   "source": [
    "You decide to use the earlier version of NumPy so you run:\n",
    "\n",
    "```bash\n",
    "$ poetry add 'numpy<1.18'\n",
    "```\n",
    "\n",
    "Since pandas==1.4.1 requires numpy>=1.18.5, numpy<1.18 is not installed. Thus, you avoid installing dependencies that are not compatible with the current dependencies."
   ]
  },
  {
   "cell_type": "code",
   "execution_count": 9,
   "id": "6f92395a",
   "metadata": {
    "ExecuteTime": {
     "end_time": "2022-02-18T14:38:11.794122Z",
     "start_time": "2022-02-18T14:38:06.524658Z"
    },
    "tags": [
     "remove-input"
    ]
   },
   "outputs": [
    {
     "name": "stdout",
     "output_type": "stream",
     "text": [
      "\n",
      "\u001b[34mUpdating dependencies\u001b[0m\n",
      "\u001b[2K\u001b[34mResolving dependencies...\u001b[0m \u001b[39;2m(0.1s)\u001b[0m\n",
      "\n",
      "  \u001b[31;1mSolverProblemError\u001b[0m\n",
      "\n",
      "  \u001b[1mBecause pandas (1.4.1) depends on numpy (>=1.18.5)\n",
      "   and no versions of pandas match >1.4.1,<2.0.0, pandas (>=1.4.1,<2.0.0) requires numpy (>=1.18.5).\n",
      "  So, because chapter6 depends on both pandas (^1.4.1) and numpy (<1.18), version solving failed.\u001b[0m\n",
      "\n",
      "  at \u001b[32m~/.poetry/lib/poetry/puzzle/solver.py\u001b[0m:\u001b[1m241\u001b[0m in \u001b[36m_solve\u001b[0m\n",
      "      \u001b[39;2m237\u001b[0m\u001b[39;2m│\u001b[0m \u001b[39m            packages \u001b[0m\u001b[39;2m= \u001b[0m\u001b[39mresult\u001b[0m\u001b[39;2m.\u001b[0m\u001b[39mpackages\u001b[0m\n",
      "      \u001b[39;2m238\u001b[0m\u001b[39;2m│\u001b[0m \u001b[39m        \u001b[0m\u001b[35;1mexcept \u001b[0m\u001b[39mOverrideNeeded \u001b[0m\u001b[35;1mas \u001b[0m\u001b[39me\u001b[0m\u001b[39;2m:\u001b[0m\n",
      "      \u001b[39;2m239\u001b[0m\u001b[39;2m│\u001b[0m \u001b[39m            \u001b[0m\u001b[35;1mreturn \u001b[0m\u001b[39;1mself\u001b[0m\u001b[39;2m.\u001b[0m\u001b[39msolve_in_compatibility_mode\u001b[0m\u001b[39;2m(\u001b[0m\u001b[39me\u001b[0m\u001b[39;2m.\u001b[0m\u001b[39moverrides\u001b[0m\u001b[39;2m, \u001b[0m\u001b[39muse_latest\u001b[0m\u001b[39;2m=\u001b[0m\u001b[39muse_latest\u001b[0m\u001b[39;2m)\u001b[0m\n",
      "      \u001b[39;2m240\u001b[0m\u001b[39;2m│\u001b[0m \u001b[39;2m        \u001b[0m\u001b[35;1mexcept \u001b[0m\u001b[39mSolveFailure \u001b[0m\u001b[35;1mas \u001b[0m\u001b[39me\u001b[0m\u001b[39;2m:\u001b[0m\n",
      "    \u001b[31;1m→\u001b[0m \u001b[39;1m241\u001b[0m\u001b[39;2m│\u001b[0m \u001b[39m            \u001b[0m\u001b[35;1mraise \u001b[0m\u001b[39mSolverProblemError\u001b[0m\u001b[39;2m(\u001b[0m\u001b[39me\u001b[0m\u001b[39;2m)\u001b[0m\n",
      "      \u001b[39;2m242\u001b[0m\u001b[39;2m│\u001b[0m \n",
      "      \u001b[39;2m243\u001b[0m\u001b[39;2m│\u001b[0m \u001b[39m        results \u001b[0m\u001b[39;2m= \u001b[0m\u001b[39;1mdict\u001b[0m\u001b[39;2m(\u001b[0m\n",
      "      \u001b[39;2m244\u001b[0m\u001b[39;2m│\u001b[0m \u001b[39m            depth_first_search\u001b[0m\u001b[39;2m(\u001b[0m\n",
      "      \u001b[39;2m245\u001b[0m\u001b[39;2m│\u001b[0m \u001b[39m                PackageNode\u001b[0m\u001b[39;2m(\u001b[0m\u001b[39;1mself\u001b[0m\u001b[39;2m.\u001b[0m\u001b[39m_package\u001b[0m\u001b[39;2m, \u001b[0m\u001b[39mpackages\u001b[0m\u001b[39;2m), \u001b[0m\u001b[39maggregate_package_nodes\u001b[0m\n"
     ]
    }
   ],
   "source": [
    "!poetry add 'numpy<1.18'"
   ]
  },
  {
   "attachments": {},
   "cell_type": "markdown",
   "id": "0ab246e6",
   "metadata": {},
   "source": [
    "To view what sub-dependencies of a dependency, type:\n",
    "\n",
    "```bash\n",
    "$ poetry show pandas  \n",
    "```"
   ]
  },
  {
   "cell_type": "code",
   "execution_count": 11,
   "id": "66eb650c",
   "metadata": {
    "ExecuteTime": {
     "end_time": "2022-02-18T14:38:45.090175Z",
     "start_time": "2022-02-18T14:38:42.756118Z"
    },
    "tags": [
     "remove-input"
    ]
   },
   "outputs": [
    {
     "name": "stdout",
     "output_type": "stream",
     "text": [
      "\u001b[34mname\u001b[0m         : \u001b[36mpandas\u001b[0m\r\n",
      "\u001b[34mversion\u001b[0m      : \u001b[1m1.4.1\u001b[0m\r\n",
      "\u001b[34mdescription\u001b[0m  : Powerful data structures for data analysis, time series, and\r\n",
      "            statistics\r\n",
      "\r\n",
      "\u001b[34mdependencies\u001b[0m\r\n",
      " - \u001b[36mnumpy\u001b[0m \u001b[1m>=1.18.5\u001b[0m\r\n",
      " - \u001b[36mnumpy\u001b[0m \u001b[1m>=1.19.2\u001b[0m\r\n",
      " - \u001b[36mnumpy\u001b[0m \u001b[1m>=1.20.0\u001b[0m\r\n",
      " - \u001b[36mnumpy\u001b[0m \u001b[1m>=1.21.0\u001b[0m\r\n",
      " - \u001b[36mpython-dateutil\u001b[0m \u001b[1m>=2.8.1\u001b[0m\r\n",
      " - \u001b[36mpytz\u001b[0m \u001b[1m>=2020.1\u001b[0m\r\n"
     ]
    }
   ],
   "source": [
    "!poetry show pandas  "
   ]
  },
  {
   "attachments": {},
   "cell_type": "markdown",
   "id": "d989f184",
   "metadata": {},
   "source": [
    "Another cool thing about Poetry is that when you remove a dependency, it also removes sub-dependencies that are no longer needed in your project.\n",
    "\n",
    "```bash\n",
    "$ poetry remove pandas \n",
    "```"
   ]
  },
  {
   "cell_type": "code",
   "execution_count": 13,
   "id": "93a9a2a8",
   "metadata": {
    "ExecuteTime": {
     "end_time": "2022-02-18T14:39:13.707894Z",
     "start_time": "2022-02-18T14:38:55.933651Z"
    },
    "tags": [
     "remove-input"
    ]
   },
   "outputs": [
    {
     "name": "stdout",
     "output_type": "stream",
     "text": [
      "\u001b[34mUpdating dependencies\u001b[0m\n",
      "\u001b[2K\u001b[34mResolving dependencies...\u001b[0m \u001b[39;2m(0.1s)\u001b[0m\n",
      "\n",
      "\u001b[34mWriting lock file\u001b[0m\n",
      "\n",
      "\u001b[1mPackage operations\u001b[0m: \u001b[34m0\u001b[0m installs, \u001b[34m0\u001b[0m updates, \u001b[34m4\u001b[0m removals\n",
      "\n",
      "  \u001b[34;1m•\u001b[0m \u001b[39mRemoving \u001b[0m\u001b[36mpandas\u001b[0m\u001b[39m (\u001b[0m\u001b[39;1m1.4.1\u001b[0m\u001b[39m)\u001b[0m: \u001b[34mPending...\u001b[0m\n",
      "\u001b[1A\u001b[0J  \u001b[34;1m•\u001b[0m \u001b[39mRemoving \u001b[0m\u001b[36mpandas\u001b[0m\u001b[39m (\u001b[0m\u001b[39;1m1.4.1\u001b[0m\u001b[39m)\u001b[0m: \u001b[34mRemoving...\u001b[0m\n",
      "\u001b[1A\u001b[0J  \u001b[32;1m•\u001b[0m \u001b[39mRemoving \u001b[0m\u001b[36mpandas\u001b[0m\u001b[39m (\u001b[0m\u001b[32m1.4.1\u001b[0m\u001b[39m)\u001b[0m\n",
      "  \u001b[34;1m•\u001b[0m \u001b[39mRemoving \u001b[0m\u001b[36mpython-dateutil\u001b[0m\u001b[39m (\u001b[0m\u001b[39;1m2.8.2\u001b[0m\u001b[39m)\u001b[0m: \u001b[34mPending...\u001b[0m\n",
      "\u001b[1A\u001b[0J  \u001b[34;1m•\u001b[0m \u001b[39mRemoving \u001b[0m\u001b[36mpython-dateutil\u001b[0m\u001b[39m (\u001b[0m\u001b[39;1m2.8.2\u001b[0m\u001b[39m)\u001b[0m: \u001b[34mRemoving...\u001b[0m\n",
      "\u001b[1A\u001b[0J  \u001b[32;1m•\u001b[0m \u001b[39mRemoving \u001b[0m\u001b[36mpython-dateutil\u001b[0m\u001b[39m (\u001b[0m\u001b[32m2.8.2\u001b[0m\u001b[39m)\u001b[0m\n",
      "  \u001b[34;1m•\u001b[0m \u001b[39mRemoving \u001b[0m\u001b[36mpytz\u001b[0m\u001b[39m (\u001b[0m\u001b[39;1m2021.3\u001b[0m\u001b[39m)\u001b[0m: \u001b[34mPending...\u001b[0m\n",
      "\u001b[1A\u001b[0J  \u001b[34;1m•\u001b[0m \u001b[39mRemoving \u001b[0m\u001b[36mpytz\u001b[0m\u001b[39m (\u001b[0m\u001b[39;1m2021.3\u001b[0m\u001b[39m)\u001b[0m: \u001b[34mRemoving...\u001b[0m\n",
      "\u001b[1A\u001b[0J  \u001b[32;1m•\u001b[0m \u001b[39mRemoving \u001b[0m\u001b[36mpytz\u001b[0m\u001b[39m (\u001b[0m\u001b[32m2021.3\u001b[0m\u001b[39m)\u001b[0m\n",
      "  \u001b[34;1m•\u001b[0m \u001b[39mRemoving \u001b[0m\u001b[36msix\u001b[0m\u001b[39m (\u001b[0m\u001b[39;1m1.16.0\u001b[0m\u001b[39m)\u001b[0m: \u001b[34mPending...\u001b[0m\n",
      "\u001b[1A\u001b[0J  \u001b[34;1m•\u001b[0m \u001b[39mRemoving \u001b[0m\u001b[36msix\u001b[0m\u001b[39m (\u001b[0m\u001b[39;1m1.16.0\u001b[0m\u001b[39m)\u001b[0m: \u001b[34mRemoving...\u001b[0m\n",
      "\u001b[1A\u001b[0J  \u001b[32;1m•\u001b[0m \u001b[39mRemoving \u001b[0m\u001b[36msix\u001b[0m\u001b[39m (\u001b[0m\u001b[32m1.16.0\u001b[0m\u001b[39m)\u001b[0m\n"
     ]
    }
   ],
   "source": [
    "!poetry remove pandas "
   ]
  },
  {
   "attachments": {},
   "cell_type": "markdown",
   "id": "6195946f",
   "metadata": {},
   "source": [
    "[Link to Poetry](https://python-poetry.org/docs).\n",
    "\n",
    "[My full article on how to publish your Python package to PyPI using Poetry](https://towardsdatascience.com/how-to-effortlessly-publish-your-python-package-to-pypi-using-poetry-44b305362f9f?gi=f5490e76b74)"
   ]
  },
  {
   "attachments": {},
   "cell_type": "markdown",
   "id": "df5243e4",
   "metadata": {},
   "source": [
    "### PyInstaller: Bundle a Python Application Into a Single Executable"
   ]
  },
  {
   "cell_type": "code",
   "execution_count": null,
   "id": "2f54302a",
   "metadata": {
    "tags": [
     "hide-cell"
    ]
   },
   "outputs": [],
   "source": [
    "!pip install pyinstaller"
   ]
  },
  {
   "attachments": {},
   "cell_type": "markdown",
   "id": "d2256ce8",
   "metadata": {},
   "source": [
    "To package a Python application along with its dependencies into a single executable, use PyInstaller. With PyInstaller, users can run the packaged app without installing a Python interpreter or any modules.  "
   ]
  },
  {
   "attachments": {},
   "cell_type": "markdown",
   "id": "6eb73214",
   "metadata": {},
   "source": [
    "To see how PyInstaller works, let's start with creating a `main.py` script that depends on another Python script and various Python modules."
   ]
  },
  {
   "cell_type": "code",
   "execution_count": 5,
   "id": "0b782fa9",
   "metadata": {},
   "outputs": [
    {
     "name": "stdout",
     "output_type": "stream",
     "text": [
      "Writing get_data.py\n"
     ]
    }
   ],
   "source": [
    "%%writefile get_data.py\n",
    "import pandas as pd  \n",
    "import numpy as np  \n",
    "\n",
    "def get_data():\n",
    "    return pd.DataFrame(np.random.randn(10, 2), columns=['A', 'B'])"
   ]
  },
  {
   "cell_type": "code",
   "execution_count": 10,
   "id": "4edf2dc1",
   "metadata": {},
   "outputs": [
    {
     "name": "stdout",
     "output_type": "stream",
     "text": [
      "Overwriting main.py\n"
     ]
    }
   ],
   "source": [
    "%%writefile main.py\n",
    "from get_data import get_data\n",
    "\n",
    "df = get_data()\n",
    "print(f'Dataframe:\\n{df}')"
   ]
  },
  {
   "attachments": {},
   "cell_type": "markdown",
   "id": "9e9fac54",
   "metadata": {},
   "source": [
    "Next, execute PyInstaller against the `main.py` script, specifying the `onefile` option to bundle the application into a single file."
   ]
  },
  {
   "attachments": {},
   "cell_type": "markdown",
   "id": "71410525",
   "metadata": {},
   "source": [
    "```bash\n",
    "$ pyinstaller main.py --onefile\n",
    "```"
   ]
  },
  {
   "cell_type": "code",
   "execution_count": null,
   "id": "762be107",
   "metadata": {
    "tags": [
     "remove-cell"
    ]
   },
   "outputs": [],
   "source": [
    "!pyinstaller main.py --onefile"
   ]
  },
  {
   "attachments": {},
   "cell_type": "markdown",
   "id": "3d09338c",
   "metadata": {},
   "source": [
    "After the command completes, your directory structure will look like this:\n",
    "```bash\n",
    ".\n",
    "├── build/\n",
    "├── dist/\n",
    "│   └── main\n",
    "├── main.spec\n",
    "├── main.py\n",
    "└── get_data.py\n",
    "```\n",
    "\n",
    "The \"dist/main\" file contains all dependencies and executable for your application.\n",
    "\n",
    "Now, running the \"dist/main\" file will execute the application."
   ]
  },
  {
   "attachments": {},
   "cell_type": "markdown",
   "id": "e8c92043",
   "metadata": {},
   "source": [
    "```bash\n",
    "$ ./dist/main\n",
    "```"
   ]
  },
  {
   "cell_type": "code",
   "execution_count": 18,
   "id": "c5f8fa5f",
   "metadata": {
    "tags": [
     "remove-input"
    ]
   },
   "outputs": [
    {
     "name": "stdout",
     "output_type": "stream",
     "text": [
      "Dataframe:\n",
      "          A         B\n",
      "0  0.255826 -1.038615\n",
      "1 -0.850358  0.318558\n",
      "2  1.255311  0.618789\n",
      "3  1.434642  0.474813\n",
      "4  0.676099  1.662942\n",
      "5  2.314174 -0.142569\n",
      "6 -0.704812 -0.095609\n",
      "7 -0.156275 -0.999871\n",
      "8  0.839902  0.366550\n",
      "9 -1.818387 -1.512015\n"
     ]
    }
   ],
   "source": [
    "!./dist/main"
   ]
  },
  {
   "attachments": {},
   "cell_type": "markdown",
   "id": "cd4ab650",
   "metadata": {},
   "source": [
    "You can conveniently share this file with your colleagues, allowing them to run the application without any additional setup or installations."
   ]
  },
  {
   "attachments": {},
   "cell_type": "markdown",
   "id": "5eeb6e1c",
   "metadata": {},
   "source": [
    "[Link to PyInstaller](https://github.com/pyinstaller/pyinstaller)"
   ]
  }
 ],
 "metadata": {
  "celltoolbar": "Tags",
  "kernelspec": {
   "display_name": "Python 3",
   "language": "python",
   "name": "python3"
  },
  "language_info": {
   "codemirror_mode": {
    "name": "ipython",
    "version": 3
   },
   "file_extension": ".py",
   "mimetype": "text/x-python",
   "name": "python",
   "nbconvert_exporter": "python",
   "pygments_lexer": "ipython3",
   "version": "3.9.6"
  },
  "toc": {
   "base_numbering": 1,
   "nav_menu": {},
   "number_sections": true,
   "sideBar": true,
   "skip_h1_title": false,
   "title_cell": "Table of Contents",
   "title_sidebar": "Contents",
   "toc_cell": false,
   "toc_position": {},
   "toc_section_display": true,
   "toc_window_display": false
  }
 },
 "nbformat": 4,
 "nbformat_minor": 5
}
