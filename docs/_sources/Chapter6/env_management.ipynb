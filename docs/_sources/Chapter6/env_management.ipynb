{
 "cells": [
  {
   "cell_type": "markdown",
   "id": "982f74ec",
   "metadata": {},
   "source": [
    "## Environment Management"
   ]
  },
  {
   "cell_type": "markdown",
   "id": "34391612",
   "metadata": {},
   "source": [
    "### virtualenv-clone: Create a Copy of a Virtual Environment"
   ]
  },
  {
   "cell_type": "markdown",
   "id": "83c3698a",
   "metadata": {},
   "source": [
    "Sometimes you might want to use the same virtual environment for 2 different directories. If you want to create a copy of a virtual environment, use virtualenv-clone. \n",
    "\n",
    "The code below shows how to use virtualenv-clone."
   ]
  },
  {
   "cell_type": "markdown",
   "id": "660ab2f7",
   "metadata": {},
   "source": [
    "```bash\n",
    "$ pip install virtualenv-clone\n",
    "$ virtualenv-clone old_venv/ new_venv/\n",
    "\n",
    "$ source new_venv/bin/activate\n",
    "```"
   ]
  },
  {
   "cell_type": "markdown",
   "id": "a8d9d08b",
   "metadata": {},
   "source": [
    "[Link to virtualenv-clone](https://github.com/edwardgeorge/virtualenv-clone)."
   ]
  },
  {
   "cell_type": "markdown",
   "id": "ec1cbd82",
   "metadata": {},
   "source": [
    "### pip-autoremove: Remove a Package and Its Unused Dependencies"
   ]
  },
  {
   "cell_type": "markdown",
   "id": "0e1ba820",
   "metadata": {},
   "source": [
    "When using `pip uninstall`, you only remove a specific package. "
   ]
  },
  {
   "cell_type": "code",
   "execution_count": null,
   "id": "faee7e30",
   "metadata": {
    "ExecuteTime": {
     "end_time": "2021-09-29T13:25:51.357088Z",
     "start_time": "2021-09-29T13:25:45.714472Z"
    },
    "tags": [
     "hide-cell"
    ]
   },
   "outputs": [],
   "source": [
    "!pip install -U pandas-profiling[notebook]"
   ]
  },
  {
   "cell_type": "markdown",
   "id": "176f3fe6",
   "metadata": {},
   "source": [
    "```bash\n",
    "$ pip uninstall pandas-profiling[notebook] -y\n",
    "```"
   ]
  },
  {
   "cell_type": "code",
   "execution_count": 8,
   "id": "1f491e9b",
   "metadata": {
    "ExecuteTime": {
     "end_time": "2021-09-29T13:26:06.566707Z",
     "start_time": "2021-09-29T13:26:05.971713Z"
    },
    "tags": [
     "hide-input"
    ]
   },
   "outputs": [
    {
     "name": "stdout",
     "output_type": "stream",
     "text": [
      "Found existing installation: pandas-profiling 3.1.0\r\n",
      "Uninstalling pandas-profiling-3.1.0:\r\n",
      "  Successfully uninstalled pandas-profiling-3.1.0\r\n"
     ]
    }
   ],
   "source": [
    "!pip uninstall pandas-profiling[notebook] -y"
   ]
  },
  {
   "cell_type": "markdown",
   "id": "e3a5f293",
   "metadata": {},
   "source": [
    "Wouldn't it be nice if you can uninstall that package and its unused dependencies? That is when `pip-autoremove` comes in handy. "
   ]
  },
  {
   "cell_type": "code",
   "execution_count": 2,
   "id": "5f224c50",
   "metadata": {
    "ExecuteTime": {
     "end_time": "2021-09-29T13:24:39.694366Z",
     "start_time": "2021-09-29T13:24:37.292811Z"
    },
    "tags": [
     "hide-cell"
    ]
   },
   "outputs": [
    {
     "name": "stdout",
     "output_type": "stream",
     "text": [
      "Collecting pip-autoremove\n",
      "  Downloading pip_autoremove-0.10.0-py2.py3-none-any.whl (5.0 kB)\n",
      "Requirement already satisfied: setuptools in /home/khuyen/book/venv/lib/python3.8/site-packages (from pip-autoremove) (44.0.0)\n",
      "Requirement already satisfied: pip in /home/khuyen/book/venv/lib/python3.8/site-packages (from pip-autoremove) (21.2.4)\n",
      "Installing collected packages: pip-autoremove\n",
      "Successfully installed pip-autoremove-0.10.0\n"
     ]
    }
   ],
   "source": [
    "!pip install pip-autoremove"
   ]
  },
  {
   "cell_type": "code",
   "execution_count": null,
   "id": "ca74ad8a",
   "metadata": {
    "tags": [
     "hide-cell"
    ]
   },
   "outputs": [],
   "source": [
    "!pip install -U pandas-profiling[notebook]"
   ]
  },
  {
   "cell_type": "markdown",
   "id": "e72a5d69",
   "metadata": {},
   "source": [
    "```bash\n",
    "$ pip-autoremove pandas-profiling[notebook] -y\n",
    "```"
   ]
  },
  {
   "cell_type": "code",
   "execution_count": 5,
   "id": "30a4cb4a",
   "metadata": {
    "ExecuteTime": {
     "end_time": "2021-09-29T13:25:33.658214Z",
     "start_time": "2021-09-29T13:25:31.569786Z"
    },
    "tags": [
     "hide-input"
    ]
   },
   "outputs": [
    {
     "name": "stdout",
     "output_type": "stream",
     "text": [
      "Jinja2 3.0.1 is installed but jinja2~=2.11.2 is required\n",
      "Redoing requirement with just package name...\n",
      "spacy 3.1.2 is installed but spacy<3.0.0 is required\n",
      "Redoing requirement with just package name...\n",
      "markdown-it-py 0.6.2 is installed but markdown-it-py~=1.0 is required\n",
      "Redoing requirement with just package name...\n",
      "attrs 21.2.0 is installed but attrs<21,>=19 is required\n",
      "Redoing requirement with just package name...\n",
      "typer 0.3.2 is installed but typer[all]>=0.4 is required\n",
      "Redoing requirement with just package name...\n",
      "fsspec 0.8.7 is installed but fsspec[http]>=2021.8.1 is required\n",
      "Redoing requirement with just package name...\n",
      "pandas-profiling 3.1.0 (/home/khuyen/book/venv/lib/python3.8/site-packages)\n",
      "    seaborn 0.11.2 (/home/khuyen/book/venv/lib/python3.8/site-packages)\n",
      "    htmlmin 0.1.12 (/home/khuyen/book/venv/lib/python3.8/site-packages)\n",
      "    phik 0.12.0 (/home/khuyen/book/venv/lib/python3.8/site-packages)\n",
      "    multimethod 1.6 (/home/khuyen/book/venv/lib/python3.8/site-packages)\n",
      "    tangled-up-in-unicode 0.1.0 (/home/khuyen/book/venv/lib/python3.8/site-packages)\n",
      "    visions 0.7.4 (/home/khuyen/book/venv/lib/python3.8/site-packages)\n",
      "    missingno 0.5.0 (/home/khuyen/book/venv/lib/python3.8/site-packages)\n",
      "Found existing installation: phik 0.12.0\n",
      "Uninstalling phik-0.12.0:\n",
      "  Successfully uninstalled phik-0.12.0\n",
      "Found existing installation: multimethod 1.6\n",
      "Uninstalling multimethod-1.6:\n",
      "  Successfully uninstalled multimethod-1.6\n",
      "Found existing installation: pandas-profiling 3.1.0\n",
      "Uninstalling pandas-profiling-3.1.0:\n",
      "  Successfully uninstalled pandas-profiling-3.1.0\n",
      "Found existing installation: seaborn 0.11.2\n",
      "Uninstalling seaborn-0.11.2:\n",
      "  Successfully uninstalled seaborn-0.11.2\n",
      "Found existing installation: tangled-up-in-unicode 0.1.0\n",
      "Uninstalling tangled-up-in-unicode-0.1.0:\n",
      "  Successfully uninstalled tangled-up-in-unicode-0.1.0\n",
      "Found existing installation: visions 0.7.4\n",
      "Uninstalling visions-0.7.4:\n",
      "  Successfully uninstalled visions-0.7.4\n",
      "Found existing installation: htmlmin 0.1.12\n",
      "Uninstalling htmlmin-0.1.12:\n",
      "  Successfully uninstalled htmlmin-0.1.12\n",
      "Found existing installation: missingno 0.5.0\n",
      "Uninstalling missingno-0.5.0:\n",
      "  Successfully uninstalled missingno-0.5.0\n"
     ]
    }
   ],
   "source": [
    "!pip-autoremove pandas-profiling[notebook] -y"
   ]
  },
  {
   "cell_type": "markdown",
   "id": "591f01dc",
   "metadata": {},
   "source": [
    "By using pip-autoremove, pandas-profiling and its unused dependencies are removed!"
   ]
  },
  {
   "cell_type": "markdown",
   "id": "93b5ba34",
   "metadata": {},
   "source": [
    "[Link to pip-autoremove](https://github.com/invl/pip-autoremove)."
   ]
  },
  {
   "cell_type": "markdown",
   "id": "a1c49710",
   "metadata": {},
   "source": [
    "### pipreqs: Generate requirements.txt File for Any Project Based on Imports"
   ]
  },
  {
   "cell_type": "code",
   "execution_count": null,
   "id": "4ff403fc",
   "metadata": {
    "ExecuteTime": {
     "end_time": "2021-12-03T13:10:12.153567Z",
     "start_time": "2021-12-03T13:10:09.747575Z"
    },
    "tags": [
     "hide-cell"
    ]
   },
   "outputs": [],
   "source": [
    "!pip install pipreqs"
   ]
  },
  {
   "cell_type": "markdown",
   "id": "a6c22ee8",
   "metadata": {
    "ExecuteTime": {
     "end_time": "2021-12-03T13:11:26.151643Z",
     "start_time": "2021-12-03T13:11:24.908779Z"
    }
   },
   "source": [
    "`pip freeze` saves all packages in the environment, including ones that you don't use in your current project. To generate a `requirements.txt` based on imports, use pipreqs. \n",
    "\n",
    "For example, to save all packages in your current project to a `requirements.txt` file, run:\n",
    "```bash\n",
    "$ pipreqs . \n",
    "```"
   ]
  },
  {
   "cell_type": "code",
   "execution_count": 2,
   "id": "5344952c",
   "metadata": {
    "ExecuteTime": {
     "end_time": "2021-12-03T13:10:47.411600Z",
     "start_time": "2021-12-03T13:10:46.118626Z"
    },
    "scrolled": true,
    "tags": [
     "hide-input"
    ]
   },
   "outputs": [
    {
     "name": "stdout",
     "output_type": "stream",
     "text": [
      "INFO: Successfully saved requirements file in ./requirements.txt\r\n"
     ]
    }
   ],
   "source": [
    "!pipreqs . "
   ]
  },
  {
   "cell_type": "markdown",
   "id": "11c37e96",
   "metadata": {},
   "source": [
    "Your `requirements.txt` should look like below:\n",
    "```txt\n",
    "numpy==1.21.4\n",
    "pandas==1.3.4\n",
    "pyinstrument==4.0.3\n",
    "typer==0.4.0\n",
    "```"
   ]
  },
  {
   "cell_type": "markdown",
   "id": "5a508c2d",
   "metadata": {},
   "source": [
    "Usage of pipreqs:\n",
    "\n",
    "```bash\n",
    "Usage:\n",
    "    pipreqs [options] [<path>]\n",
    "\n",
    "Arguments:\n",
    "    <path>                The path to the directory containing the application files for which a requirements file\n",
    "                          should be generated (defaults to the current working directory)\n",
    "\n",
    "Options:\n",
    "    --use-local           Use ONLY local package info instead of querying PyPI\n",
    "    --pypi-server <url>   Use custom PyPi server\n",
    "    --proxy <url>         Use Proxy, parameter will be passed to requests library. You can also just set the\n",
    "                          environments parameter in your terminal:\n",
    "                          $ export HTTP_PROXY=\"http://10.10.1.10:3128\"\n",
    "                          $ export HTTPS_PROXY=\"https://10.10.1.10:1080\"\n",
    "    --debug               Print debug information\n",
    "    --ignore <dirs>...    Ignore extra directories, each separated by a comma\n",
    "    --no-follow-links     Do not follow symbolic links in the project\n",
    "    --encoding <charset>  Use encoding parameter for file open\n",
    "    --savepath <file>     Save the list of requirements in the given file\n",
    "    --print               Output the list of requirements in the standard output\n",
    "    --force               Overwrite existing requirements.txt\n",
    "    --diff <file>         Compare modules in requirements.txt to project imports\n",
    "    --clean <file>        Clean up requirements.txt by removing modules that are not imported in project\n",
    "    --mode <scheme>       Enables dynamic versioning with <compat>, <gt> or <non-pin> schemes\n",
    "                          <compat> | e.g. Flask~=1.1.2\n",
    "                          <gt>     | e.g. Flask>=1.1.2\n",
    "                          <no-pin> | e.g. Flask\n",
    "```"
   ]
  },
  {
   "cell_type": "markdown",
   "id": "edf2de31",
   "metadata": {},
   "source": [
    "[Link to pipreqs](https://github.com/bndr/pipreqs/)."
   ]
  },
  {
   "cell_type": "markdown",
   "id": "ad0c9b74",
   "metadata": {},
   "source": [
    "### pydeps: Python Module Dependency Visualization"
   ]
  },
  {
   "cell_type": "markdown",
   "id": "afd2dd6f",
   "metadata": {},
   "source": [
    "If you want to generate the graph showing the dependencies of your Python modules, try pydeps. \n",
    "\n",
    "For example, to generate the dependency graph for files in the folder [top_github_scraper](https://github.com/khuyentran1401/top-github-scraper/tree/master/top_github_scraper), I type:\n",
    "\n",
    "```bash\n",
    "$ pydeps top_github_scraper\n",
    "```\n",
    "The image below is the output of the command:"
   ]
  },
  {
   "cell_type": "markdown",
   "id": "e40a5f7b",
   "metadata": {},
   "source": [
    "![image](../img/top_github_scraper.png)"
   ]
  },
  {
   "cell_type": "markdown",
   "id": "51f25a6f",
   "metadata": {},
   "source": [
    "The folder structure of top_github_scraper looks like the below:"
   ]
  },
  {
   "cell_type": "markdown",
   "id": "0d6a04a5",
   "metadata": {},
   "source": [
    "```bash\n",
    "top_github_scraper\n",
    "├── __init__.py\n",
    "├── scrape_repo.py\n",
    "├── scrape_user.py\n",
    "└── utils.py\n",
    "```"
   ]
  },
  {
   "cell_type": "markdown",
   "id": "30e31dd7",
   "metadata": {},
   "source": [
    "[Link to pydeps](https://github.com/thebjorn/pydeps)."
   ]
  },
  {
   "cell_type": "markdown",
   "id": "b2ba064e",
   "metadata": {},
   "source": [
    "### Compare Dependencies of Two Requirements Files"
   ]
  },
  {
   "cell_type": "code",
   "execution_count": null,
   "id": "6de5642c",
   "metadata": {
    "tags": [
     "hide-cell"
    ]
   },
   "outputs": [],
   "source": [
    "!pip install compare-requirements"
   ]
  },
  {
   "cell_type": "markdown",
   "id": "ddbd4c18",
   "metadata": {},
   "source": [
    "It can be cumbersome to compare the dependencies between two requirements files. Especially when there are a lot of dependencies in each file. To automate the comparison, use `compare-requirements`. "
   ]
  },
  {
   "cell_type": "markdown",
   "id": "1175dae4",
   "metadata": {},
   "source": [
    "For example, if your reqs1.txt looks like this:\n",
    "```bash\n",
    "numpy==1.19.5\n",
    "datacommons-pandas==0.0.3\n",
    "pandas==1.3.3\n",
    "```\n",
    "and your reqs2.txt looks like this:\n",
    "```bash\n",
    "numpy==1.19.5\n",
    "datacommons-pandas==0.0.3\n",
    "pandas==1.3.4\n",
    "pandas-datareader==0.10.0\n",
    "```\n",
    "Running \n",
    "```bash\n",
    "$ cmpreqs reqs1.txt reqs2.txt\n",
    "```\n",
    "will output:"
   ]
  },
  {
   "cell_type": "code",
   "execution_count": 2,
   "id": "1e1a52b2",
   "metadata": {
    "ExecuteTime": {
     "end_time": "2022-02-02T15:20:57.705290Z",
     "start_time": "2022-02-02T15:20:57.507396Z"
    },
    "tags": [
     "hide-input"
    ]
   },
   "outputs": [
    {
     "name": "stdout",
     "output_type": "stream",
     "text": [
      "\r\n",
      "Different dependencies\r\n",
      "======================\r\n",
      "Name    reqs1.txt  reqs2.txt\r\n",
      "------  ---------  ---------\r\n",
      "pandas  1.3.3      1.3.4    \r\n",
      "\r\n",
      "Equal dependencies\r\n",
      "==================\r\n",
      "Name                Version\r\n",
      "------------------  -------\r\n",
      "numpy               1.19.5 \r\n",
      "datacommons-pandas  0.0.3  \r\n",
      "\r\n",
      "Only available on reqs2.txt\r\n",
      "===========================\r\n",
      "Name               Version\r\n",
      "-----------------  -------\r\n",
      "pandas-datareader  0.10.0 \r\n",
      "\r\n",
      "Only available on reqs1.txt\r\n",
      "===========================\r\n",
      "Name  Version\r\n",
      "----  -------\r\n"
     ]
    }
   ],
   "source": [
    "!cmpreqs reqs1.txt reqs2.txt "
   ]
  },
  {
   "cell_type": "markdown",
   "id": "67b5b090",
   "metadata": {},
   "source": [
    "[Link to compare-requirements](https://github.com/alsur/compare-requirements)."
   ]
  }
 ],
 "metadata": {
  "celltoolbar": "Tags",
  "kernelspec": {
   "display_name": "Python 3",
   "language": "python",
   "name": "python3"
  },
  "language_info": {
   "codemirror_mode": {
    "name": "ipython",
    "version": 3
   },
   "file_extension": ".py",
   "mimetype": "text/x-python",
   "name": "python",
   "nbconvert_exporter": "python",
   "pygments_lexer": "ipython3",
   "version": "3.8.10"
  },
  "toc": {
   "base_numbering": 1,
   "nav_menu": {},
   "number_sections": true,
   "sideBar": true,
   "skip_h1_title": false,
   "title_cell": "Table of Contents",
   "title_sidebar": "Contents",
   "toc_cell": false,
   "toc_position": {},
   "toc_section_display": true,
   "toc_window_display": false
  }
 },
 "nbformat": 4,
 "nbformat_minor": 5
}
