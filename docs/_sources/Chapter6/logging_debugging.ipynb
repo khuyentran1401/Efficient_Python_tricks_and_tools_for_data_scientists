{
 "cells": [
  {
   "cell_type": "markdown",
   "id": "8f790f1b",
   "metadata": {},
   "source": [
    "## Logging and Debugging"
   ]
  },
  {
   "cell_type": "markdown",
   "id": "ca42a915",
   "metadata": {},
   "source": [
    "![](../img/logging_debugging.png)"
   ]
  },
  {
   "cell_type": "markdown",
   "id": "80a081f9",
   "metadata": {},
   "source": [
    "Collections of tools for logging and debugging Python code."
   ]
  },
  {
   "cell_type": "markdown",
   "id": "5d769f8e",
   "metadata": {},
   "source": [
    "### rich.inspect: Produce a Beautiful Report on any Python Object"
   ]
  },
  {
   "cell_type": "code",
   "execution_count": null,
   "id": "0dd5b0b9",
   "metadata": {
    "tags": [
     "hide-cell"
    ]
   },
   "outputs": [],
   "source": [
    "!pip install rich "
   ]
  },
  {
   "cell_type": "markdown",
   "id": "6a59526f",
   "metadata": {},
   "source": [
    "If you want to quickly see which attributes and methods of a Python object are available, use rich’s `inspect` method.\n",
    "\n",
    "rich’s `inspect` method allows you to create a beautiful report for any Python object, including a string."
   ]
  },
  {
   "cell_type": "code",
   "execution_count": null,
   "id": "768e3419",
   "metadata": {},
   "outputs": [],
   "source": [
    "from rich import inspect\n",
    "\n",
    "print(inspect('hello', methods=True))"
   ]
  },
  {
   "cell_type": "markdown",
   "id": "98b658e8",
   "metadata": {},
   "source": [
    "### Rich’s Console: Debug your Python Function in One Line of Code"
   ]
  },
  {
   "cell_type": "code",
   "execution_count": null,
   "id": "6b1f565d",
   "metadata": {
    "tags": [
     "hide-cell"
    ]
   },
   "outputs": [],
   "source": [
    "!pip install rich "
   ]
  },
  {
   "cell_type": "markdown",
   "id": "15a4a5b1",
   "metadata": {},
   "source": [
    "Sometimes, you might want to know which elements in the function created a certain output. Instead of printing every variable in the function, you can simply use Rich’s `Console` object to print both the output and all the variables in the function."
   ]
  },
  {
   "cell_type": "code",
   "execution_count": null,
   "id": "eb6e77fc",
   "metadata": {},
   "outputs": [],
   "source": [
    "from rich import console\n",
    "from rich.console import Console \n",
    "import pandas as pd \n",
    "\n",
    "console = Console()\n",
    "\n",
    "data = pd.DataFrame({'a': [1, 2, 3], 'b': [4, 5, 6]})\n",
    "\n",
    "def edit_data(data):\n",
    "    var_1 = 45\n",
    "    var_2 = 30\n",
    "    var_3 = var_1 + var_2\n",
    "    data['a'] = [var_1, var_2, var_3]\n",
    "    console.log(data, log_locals=True)\n",
    "\n",
    "edit_data(data)"
   ]
  },
  {
   "cell_type": "markdown",
   "id": "7576efd5",
   "metadata": {},
   "source": [
    "[Link to my article about rich](https://towardsdatascience.com/rich-generate-rich-and-beautiful-text-in-the-terminal-with-python-541f39abf32e).\n",
    "\n",
    "[Link to rich](https://github.com/willmcgugan/rich)."
   ]
  },
  {
   "cell_type": "markdown",
   "id": "696f8e7e",
   "metadata": {},
   "source": [
    "### Simplify Python Logging with Loguru"
   ]
  },
  {
   "cell_type": "markdown",
   "id": "3b7b939e",
   "metadata": {},
   "source": [
    "Have you ever found yourself using print() instead of a proper logger due to the hassle of setup?\n",
    "\n",
    "With Loguru, you can get started with logging right away. A single import is all you need to begin logging with pre-configured color and format settings."
   ]
  },
  {
   "cell_type": "markdown",
   "id": "c9526773",
   "metadata": {},
   "source": [
    "Here is the comparison between the standard Python logging library and Loguru:"
   ]
  },
  {
   "cell_type": "markdown",
   "id": "d9764246",
   "metadata": {},
   "source": [
    "Standard Python logging library:"
   ]
  },
  {
   "cell_type": "markdown",
   "id": "eec8a7bc",
   "metadata": {},
   "source": [
    "```python\n",
    "# loguru_vs_logging/logging_example.py\n",
    "\n",
    "import logging\n",
    "\n",
    "logging.basicConfig(format='%(asctime)s | %(levelname)s | %(module)s:%(funcName)s:%(lineno)d | %(message)s', level=logging.DEBUG)\n",
    "\n",
    "def main():\n",
    "    logging.debug('This is a debug message')\n",
    "    logging.info('This is an info message')\n",
    "    logging.warning('This is a warning message')\n",
    "    logging.error('This is an error message')\n",
    "    logging.critical('This is a critical message')\n",
    "\n",
    "if __name__ == '__main__':\n",
    "    main()\n",
    "```"
   ]
  },
  {
   "cell_type": "markdown",
   "id": "01fb77e9",
   "metadata": {},
   "source": [
    "```bash\n",
    "$ python loguru_vs_logging/logging_example.py\n",
    "\n",
    "2023-03-13 08:46:30,802 | DEBUG | logging_example:main:6 | This is a debug message\n",
    "2023-03-13 08:46:30,802 | INFO | logging_example:main:7 | This is an info message\n",
    "2023-03-13 08:46:30,802 | WARNING | logging_example:main:8 | This is a warning message\n",
    "2023-03-13 08:46:30,802 | ERROR | logging_example:main:9 | This is an error message\n",
    "2023-03-13 08:46:30,802 | CRITICAL | logging_example:main:10 | This is a critical message\n",
    "```"
   ]
  },
  {
   "cell_type": "markdown",
   "id": "e5aa9e93",
   "metadata": {},
   "source": [
    "Loguru:"
   ]
  },
  {
   "cell_type": "markdown",
   "id": "2608b305",
   "metadata": {},
   "source": [
    "```python\n",
    "# loguru_vs_logging/loguru_example.py\n",
    "from loguru import logger\n",
    "\n",
    "def main():\n",
    "    logger.debug(\"This is a debug message\")\n",
    "    logger.info(\"This is an info message\")\n",
    "    logger.warning(\"This is a warning message\")\n",
    "    logger.error(\"This is an error message\")\n",
    "    logger.critical(\"This is a critical message\")\n",
    "\n",
    "\n",
    "if __name__ == '__main__':\n",
    "    main()\n",
    "```"
   ]
  },
  {
   "cell_type": "markdown",
   "id": "67709eef",
   "metadata": {},
   "source": [
    "```bash\n",
    "$ python loguru_vs_logging/loguru_example.py\n",
    "```\n",
    "![](../img/loguru_output.png)"
   ]
  },
  {
   "cell_type": "markdown",
   "id": "c6348dbf",
   "metadata": {},
   "source": [
    "[Link to loguru](https://github.com/Delgan/loguru)."
   ]
  },
  {
   "cell_type": "markdown",
   "id": "48492072",
   "metadata": {},
   "source": [
    "### loguru: Print Readable Traceback in Python"
   ]
  },
  {
   "cell_type": "code",
   "execution_count": null,
   "id": "d9a48663",
   "metadata": {
    "tags": [
     "hide-cell"
    ]
   },
   "outputs": [],
   "source": [
    "!pip install loguru "
   ]
  },
  {
   "cell_type": "markdown",
   "id": "55d450ab",
   "metadata": {},
   "source": [
    "Loguru also allows you to print a readable traceback by adding decorator `logger.catch` to a function."
   ]
  },
  {
   "cell_type": "code",
   "execution_count": null,
   "id": "4f681010",
   "metadata": {
    "tags": [
     "hide-output"
    ]
   },
   "outputs": [],
   "source": [
    "from sklearn.metrics import mean_squared_error\n",
    "import numpy as np\n",
    "from loguru import logger\n",
    "\n",
    "logger.add(\"file_{time}.log\", format=\"{time} {level} {message}\")\n",
    "\n",
    "@logger.catch\n",
    "def evaluate_result(y_true: np.array, y_pred: np.array):\n",
    "    mean_square_err = mean_squared_error(y_true, y_pred)\n",
    "    root_mean_square_err = mean_square_err ** 0.5\n",
    "\n",
    "y_true = np.array([1, 2, 3])\n",
    "y_pred = np.array([1.5, 2.2])\n",
    "evaluate_result(y_true, y_pred)"
   ]
  },
  {
   "cell_type": "markdown",
   "id": "2fac36ed",
   "metadata": {},
   "source": [
    "```bash\n",
    "> File \"/tmp/ipykernel_174022/1865479429.py\", line 14, in <module>\n",
    "    evaluate_result(y_true, y_pred)\n",
    "    │               │       └ array([1.5, 2.2])\n",
    "    │               └ array([1, 2, 3])\n",
    "    └ <function evaluate_result at 0x7f279588f430>\n",
    "\n",
    "  File \"/tmp/ipykernel_174022/1865479429.py\", line 9, in evaluate_result\n",
    "    mean_square_err = mean_squared_error(y_true, y_pred)\n",
    "                      │                  │       └ array([1.5, 2.2])\n",
    "                      │                  └ array([1, 2, 3])\n",
    "                      └ <function mean_squared_error at 0x7f27958bfca0>\n",
    "\n",
    "  File \"/home/khuyen/book/venv/lib/python3.8/site-packages/sklearn/utils/validation.py\", line 63, in inner_f\n",
    "    return f(*args, **kwargs)\n",
    "           │  │       └ {}\n",
    "           │  └ (array([1, 2, 3]), array([1.5, 2.2]))\n",
    "           └ <function mean_squared_error at 0x7f27958bfb80>\n",
    "  File \"/home/khuyen/book/venv/lib/python3.8/site-packages/sklearn/metrics/_regression.py\", line 335, in mean_squared_error\n",
    "    y_type, y_true, y_pred, multioutput = _check_reg_targets(\n",
    "            │       │                     └ <function _check_reg_targets at 0x7f27958b7af0>\n",
    "            │       └ array([1.5, 2.2])\n",
    "            └ array([1, 2, 3])\n",
    "  File \"/home/khuyen/book/venv/lib/python3.8/site-packages/sklearn/metrics/_regression.py\", line 88, in _check_reg_targets\n",
    "    check_consistent_length(y_true, y_pred)\n",
    "    │                       │       └ array([1.5, 2.2])\n",
    "    │                       └ array([1, 2, 3])\n",
    "    └ <function check_consistent_length at 0x7f279676e040>\n",
    "  File \"/home/khuyen/book/venv/lib/python3.8/site-packages/sklearn/utils/validation.py\", line 319, in check_consistent_length\n",
    "    raise ValueError(\"Found input variables with inconsistent numbers of\"\n",
    "\n",
    "ValueError: Found input variables with inconsistent numbers of samples: [3, 2]\n",
    "```"
   ]
  },
  {
   "cell_type": "markdown",
   "id": "51f4285b",
   "metadata": {},
   "source": [
    "[Link to loguru](https://github.com/Delgan/loguru)."
   ]
  },
  {
   "cell_type": "markdown",
   "id": "7b799165",
   "metadata": {},
   "source": [
    "### File Logging with Loguru"
   ]
  },
  {
   "cell_type": "code",
   "execution_count": null,
   "id": "fb423d4f",
   "metadata": {
    "tags": [
     "hide-cell"
    ]
   },
   "outputs": [],
   "source": [
    "!pip install loguru"
   ]
  },
  {
   "cell_type": "markdown",
   "id": "5ccf7837",
   "metadata": {},
   "source": [
    "Managing log files in production environments can be challenging - files can grow too large, consume too much disk space, or become difficult to manage over time. \n",
    "\n",
    "Standard logging requires multiple imports and complex configurations for basic log rotation. The `RotatingFileHandler` has limited flexibility, rotating logs based on file size and number of backups only."
   ]
  },
  {
   "cell_type": "code",
   "execution_count": null,
   "id": "d044a9e7",
   "metadata": {},
   "outputs": [],
   "source": [
    "import logging\n",
    "from logging.handlers import RotatingFileHandler\n",
    "import gzip\n",
    "import os\n",
    "\n",
    "# Complex setup for rotation\n",
    "logger = logging.getLogger(__name__)\n",
    "handler = RotatingFileHandler('app.log', maxBytes=1024*1024, backupCount=5)\n",
    "logger.addHandler(handler)"
   ]
  },
  {
   "cell_type": "markdown",
   "id": "a59da52d",
   "metadata": {},
   "source": [
    "For time-based rotation, compression, or specific log retention, you need custom code, making logging setup more complex and harder to maintain."
   ]
  },
  {
   "cell_type": "markdown",
   "id": "99da297d",
   "metadata": {},
   "source": [
    "Loguru makes file logging management simple with built-in support for rotation, retention, and compression:\n",
    "\n",
    "Basic file logging with rotation based on size:"
   ]
  },
  {
   "cell_type": "code",
   "execution_count": null,
   "id": "2ff88d96",
   "metadata": {},
   "outputs": [],
   "source": [
    "from loguru import logger\n",
    "\n",
    "# Rotate when file reaches 500 MB\n",
    "logger.add(\"app.log\", rotation=\"500 MB\")\n",
    "\n",
    "for i in range(5):  # Reduced iterations for demo\n",
    "    logger.info(f\"Logging message {i}\")"
   ]
  },
  {
   "cell_type": "markdown",
   "id": "470dc943",
   "metadata": {},
   "source": [
    "Time-based rotation and retention:"
   ]
  },
  {
   "cell_type": "code",
   "execution_count": null,
   "id": "494f109d",
   "metadata": {},
   "outputs": [],
   "source": [
    "# Create new file every day and keep logs for a week\n",
    "logger.add(\"app.log\", rotation=\"12:00\", retention=\"1 week\")"
   ]
  },
  {
   "cell_type": "markdown",
   "id": "1a49d279",
   "metadata": {},
   "source": [
    "Automatic compression of rotated files:"
   ]
  },
  {
   "cell_type": "code",
   "execution_count": null,
   "id": "2712b1ac",
   "metadata": {},
   "outputs": [],
   "source": [
    "# Compress rotated files automatically \n",
    "logger.add(\"app.log\", rotation=\"100 MB\", compression=\"zip\")"
   ]
  },
  {
   "cell_type": "markdown",
   "id": "dac6a2fa",
   "metadata": {},
   "source": [
    "[Link to Loguru](https://github.com/Delgan/loguru)\n",
    "\n",
    "\n",
    "### Icecream: Never use print() to debug again"
   ]
  },
  {
   "cell_type": "code",
   "execution_count": null,
   "id": "30ee5819",
   "metadata": {
    "tags": [
     "hide-cell"
    ]
   },
   "outputs": [],
   "source": [
    "!pip install icecream"
   ]
  },
  {
   "cell_type": "markdown",
   "id": "dec2e2db",
   "metadata": {},
   "source": [
    "If you use print or log to debug your code, you might be confused about which line of code creates the output, especially when there are many outputs.\n",
    "\n",
    "You might insert text to make it less confusing, but it is time-consuming."
   ]
  },
  {
   "cell_type": "code",
   "execution_count": null,
   "id": "51342efe",
   "metadata": {},
   "outputs": [],
   "source": [
    "from icecream import ic\n",
    "\n",
    "def plus_one(num):\n",
    "    return num + 1\n",
    "\n",
    "print('output of plus_on with num = 1:', plus_one(1))\n",
    "print('output of plus_on with num = 2:', plus_one(2))"
   ]
  },
  {
   "cell_type": "markdown",
   "id": "f024c4f9",
   "metadata": {},
   "source": [
    "Try icecream instead. Icrecream inspects itself and prints both its own arguments and the values of those arguments like below."
   ]
  },
  {
   "cell_type": "code",
   "execution_count": null,
   "id": "a85c4bd1",
   "metadata": {
    "tags": [
     "hide-output"
    ]
   },
   "outputs": [],
   "source": [
    "ic(plus_one(1))\n",
    "ic(plus_one(2))"
   ]
  },
  {
   "cell_type": "markdown",
   "id": "acd3091e",
   "metadata": {},
   "source": [
    "Output:\n",
    "```bash  \n",
    "ic| plus_one(1): 2\n",
    "ic| plus_one(2): 3\n",
    "```"
   ]
  },
  {
   "cell_type": "markdown",
   "id": "b75b3f05",
   "metadata": {},
   "source": [
    "[Link to icecream](https://github.com/gruns/icecream)\n",
    "\n",
    "[Link to my article about icecream](https://towardsdatascience.com/stop-using-print-to-debug-in-python-use-icecream-instead-79e17b963fcc)"
   ]
  },
  {
   "cell_type": "markdown",
   "id": "8cfe47e7",
   "metadata": {},
   "source": [
    "### heartrate — Visualize the Execution of a Python Program in Real-Time"
   ]
  },
  {
   "cell_type": "code",
   "execution_count": null,
   "id": "eb73f66c",
   "metadata": {
    "tags": [
     "hide-cell"
    ]
   },
   "outputs": [],
   "source": [
    "!pip install heartrate "
   ]
  },
  {
   "cell_type": "markdown",
   "id": "10eb7772",
   "metadata": {},
   "source": [
    "Understanding how your Python code executes in real-time and identifying performance bottlenecks or execution patterns results in a lot of manual debugging and print statements. This often leads to cluttered code and incomplete understanding of program flow."
   ]
  },
  {
   "cell_type": "code",
   "execution_count": null,
   "id": "125edce4",
   "metadata": {},
   "outputs": [],
   "source": [
    "def factorial(x, depth=0):\n",
    "    print(f\"Calculating factorial({x})\")\n",
    "    \n",
    "    if x == 1:\n",
    "        print(f\"Base case: factorial(1) = 1\")\n",
    "        return 1\n",
    "    else:\n",
    "        result = x * factorial(x-1, depth + 1)\n",
    "        print(f\"factorial({x}) = {x} * factorial({x-1}) = {result}\")\n",
    "        return result\n",
    "\n",
    "\n",
    "if __name__ == \"__main__\":\n",
    "    num = 5\n",
    "    result = factorial(num)\n",
    "    print(f\"The factorial of {num} is {factorial(num)}\")"
   ]
  },
  {
   "cell_type": "markdown",
   "id": "9cdcb1c8",
   "metadata": {},
   "source": [
    "You can use heartrate to visualize your code execution in real-time through a browser interface. It shows line execution counts, recent activity with color-coded bars, and a live stacktrace without modifying your source code.\n",
    "\n",
    "You only need to add two lines of code to use heartrate."
   ]
  },
  {
   "cell_type": "code",
   "execution_count": null,
   "id": "a9ce030a",
   "metadata": {},
   "outputs": [],
   "source": [
    "from time import sleep"
   ]
  },
  {
   "cell_type": "code",
   "execution_count": null,
   "id": "4b02a1eb",
   "metadata": {
    "tags": [
     "hide-output"
    ]
   },
   "outputs": [],
   "source": [
    "import heartrate \n",
    "heartrate.trace(browser=True)\n",
    "\n",
    "def factorial(x):\n",
    "    if x == 1:\n",
    "        sleep(1)\n",
    "        return 1\n",
    "    else:\n",
    "        sleep(1)\n",
    "        return (x * factorial(x-1))\n",
    "\n",
    "\n",
    "if __name__ == \"__main__\":\n",
    "    num = 5\n",
    "    print(f\"The factorial of {num} is {factorial(num)}\")"
   ]
  },
  {
   "cell_type": "markdown",
   "id": "1d01c64f",
   "metadata": {},
   "source": [
    "You should see something similar to the below when opening the browser:\n",
    "\n",
    "![image](../img/heartrate.png)"
   ]
  },
  {
   "cell_type": "markdown",
   "id": "56b7e7e5",
   "metadata": {},
   "source": [
    "Explanation of the visualization:\n",
    "\n",
    "- Line hit counts on the left side\n",
    "- Visual bars showing recent line executions (longer = more hits, lighter = more recent)\n",
    "- Currently executing lines highlighted"
   ]
  },
  {
   "cell_type": "markdown",
   "id": "58aef1f4",
   "metadata": {},
   "source": [
    "[Link to heartrate](https://github.com/alexmojaki/heartrate)."
   ]
  },
  {
   "cell_type": "markdown",
   "id": "ca149d37",
   "metadata": {},
   "source": [
    "### pyheat: Simplify Code Profiling with Heatmap Visualization"
   ]
  },
  {
   "cell_type": "code",
   "execution_count": null,
   "id": "cadd38bd",
   "metadata": {
    "tags": [
     "hide-cell"
    ]
   },
   "outputs": [],
   "source": [
    "!pip install py-heat "
   ]
  },
  {
   "cell_type": "markdown",
   "id": "e95d8620",
   "metadata": {},
   "source": [
    "Profiling your code is helpful, but looking at data in a table can be a real headache. Wouldn't it be nice if you could see your code's time distribution as a heatmap? That is when pyheat comes in handy."
   ]
  },
  {
   "cell_type": "code",
   "execution_count": null,
   "id": "cc1c981e",
   "metadata": {
    "tags": [
     "remove-cell"
    ]
   },
   "outputs": [],
   "source": [
    "import warnings\n",
    "\n",
    "warnings.simplefilter(\"ignore\", UserWarning)"
   ]
  },
  {
   "cell_type": "code",
   "execution_count": null,
   "id": "42feb83e",
   "metadata": {},
   "outputs": [],
   "source": [
    "%%writefile pyheat_example.py\n",
    "def factorial(x):\n",
    "    if x == 1:\n",
    "        return 1\n",
    "    else:\n",
    "        return (x * factorial(x-1))\n",
    "\n",
    "\n",
    "if __name__ == \"__main__\":\n",
    "    num = 5\n",
    "    factorial(num)"
   ]
  },
  {
   "cell_type": "code",
   "execution_count": null,
   "id": "fceccce1",
   "metadata": {},
   "outputs": [],
   "source": [
    "from pyheat import PyHeat\n",
    "\n",
    "ph = PyHeat(\"pyheat_example.py\") # file you want to profile\n",
    "ph.create_heatmap()\n",
    "ph.show_heatmap()"
   ]
  },
  {
   "cell_type": "markdown",
   "id": "9937f7fe",
   "metadata": {},
   "source": [
    "[Link to pyheat](https://github.com/csurfer/pyheat)."
   ]
  },
  {
   "cell_type": "markdown",
   "id": "0fa34988",
   "metadata": {},
   "source": [
    "### snoop : Smart Print to Debug your Python Function"
   ]
  },
  {
   "cell_type": "code",
   "execution_count": null,
   "id": "bbfcb4ed",
   "metadata": {
    "tags": [
     "hide-cell"
    ]
   },
   "outputs": [],
   "source": [
    "!pip install snoop"
   ]
  },
  {
   "cell_type": "markdown",
   "id": "27cfb3a6",
   "metadata": {},
   "source": [
    "If you want to figure out what is happening in your code without adding many print statements, try snoop.\n",
    "\n",
    "To use snoop, simply add the `@snoop` decorator to a function you want to understand."
   ]
  },
  {
   "cell_type": "code",
   "execution_count": null,
   "id": "b911ac5b",
   "metadata": {},
   "outputs": [],
   "source": [
    "import snoop \n",
    "\n",
    "@snoop\n",
    "def factorial(x):\n",
    "    if x == 1:\n",
    "        return 1\n",
    "    else:\n",
    "        return (x * factorial(x-1))\n",
    "\n",
    "\n",
    "if __name__ == \"__main__\":\n",
    "    num = 5\n",
    "    print(f\"The factorial of {num} is {factorial(num)}\")"
   ]
  },
  {
   "cell_type": "markdown",
   "id": "4b431d48",
   "metadata": {},
   "source": [
    "### Logging in Pandas Pipelines"
   ]
  },
  {
   "cell_type": "code",
   "execution_count": null,
   "id": "f75ab75f",
   "metadata": {
    "tags": [
     "hide-cell"
    ]
   },
   "outputs": [],
   "source": [
    "!pip install scikit-lego"
   ]
  },
  {
   "cell_type": "markdown",
   "id": "fd6d611b",
   "metadata": {},
   "source": [
    "When using pandas pipe, you might want to check whether each pipeline transforms your pandas DataFrame correctly. To automatically log the information of a pandas DataFrame after each pipeline, use the decorator `sklego.pandas_utils.log_step`."
   ]
  },
  {
   "cell_type": "code",
   "execution_count": null,
   "id": "47218e6b",
   "metadata": {},
   "outputs": [],
   "source": [
    "import pandas as pd \n",
    "from sklego.pandas_utils import log_step \n",
    "import logging "
   ]
  },
  {
   "cell_type": "code",
   "execution_count": null,
   "id": "c6ef0d9d",
   "metadata": {},
   "outputs": [],
   "source": [
    "df = pd.DataFrame({\"col1\": [1, 2, 3], \"col2\": [\"a\", \"b\", \"c\"]})"
   ]
  },
  {
   "cell_type": "markdown",
   "id": "99e1bbc1",
   "metadata": {},
   "source": [
    "To use `log_step`, simply use it as a decorator for functions being applied to your DataFrame."
   ]
  },
  {
   "cell_type": "code",
   "execution_count": null,
   "id": "985c3c47",
   "metadata": {},
   "outputs": [],
   "source": [
    "@log_step(print_fn=logging.info)\n",
    "def make_copy(df: pd.DataFrame):\n",
    "    return df.copy()\n",
    "\n",
    "\n",
    "@log_step(print_fn=logging.info)\n",
    "def drop_column(df: pd.DataFrame):\n",
    "    return df[[\"col2\"]]\n",
    "\n",
    "\n",
    "@log_step(print_fn=logging.info)\n",
    "def encode_cat_variables(df: pd.DataFrame):\n",
    "    df[\"col2\"] = df[\"col2\"].map({\"a\": 1, \"b\": 2, \"c\": 3})\n",
    "    return df"
   ]
  },
  {
   "cell_type": "code",
   "execution_count": null,
   "id": "0a1f594d",
   "metadata": {},
   "outputs": [],
   "source": [
    "df = df.pipe(make_copy).pipe(drop_column).pipe(encode_cat_variables)"
   ]
  },
  {
   "cell_type": "markdown",
   "id": "11ba1986",
   "metadata": {},
   "source": [
    "Find more ways to customize your logging [here](https://scikit-lego.netlify.app/pandas_pipeline.html#Logging-in-method-chaining)"
   ]
  },
  {
   "cell_type": "markdown",
   "id": "f8278aa3",
   "metadata": {},
   "source": [
    "### Add Progress Bar to Your List Comprehension"
   ]
  },
  {
   "cell_type": "code",
   "execution_count": null,
   "id": "d9120342",
   "metadata": {
    "tags": [
     "hide-cell"
    ]
   },
   "outputs": [],
   "source": [
    "!pip install tqdm"
   ]
  },
  {
   "cell_type": "markdown",
   "id": "d92cdb91",
   "metadata": {},
   "source": [
    "If your for loop or list comprehension takes a long time to run, you might want to know which element is being processed. You can add clarity to your for-loop by using tqdm. Using tqdm with an iterable will show a progress bar."
   ]
  },
  {
   "cell_type": "code",
   "execution_count": null,
   "id": "0116b53a",
   "metadata": {},
   "outputs": [],
   "source": [
    "from tqdm.notebook import tqdm\n",
    "from time import sleep\n",
    "\n",
    "\n",
    "def lower(word):\n",
    "    sleep(1)\n",
    "    print(f\"Processing {word}\")\n",
    "    return word.lower()\n",
    "\n",
    "\n",
    "words = tqdm([\"Duck\", \"dog\", \"Flower\", \"fan\"])\n",
    "\n",
    "[lower(word) for word in words]"
   ]
  },
  {
   "cell_type": "markdown",
   "id": "756bcf3e",
   "metadata": {},
   "source": [
    "[Link to tqdm](https://github.com/tqdm/tqdm)."
   ]
  },
  {
   "cell_type": "markdown",
   "id": "a3b993b0",
   "metadata": {},
   "source": [
    "### Hyperfine: Compare the Speed of Two Commands"
   ]
  },
  {
   "cell_type": "markdown",
   "id": "b687f7b5",
   "metadata": {},
   "source": [
    "If you want to compare the speed of two arbitrary commands, use hyperfine. hyperfine creates a statistical analysis across multiple runs and detects outliers.  \n",
    "\n",
    "In the code below, I use hyperfine to compare the execution speed of two Python files."
   ]
  },
  {
   "cell_type": "markdown",
   "id": "a4c9816e",
   "metadata": {},
   "source": [
    "```bash\n",
    "$ hyperfine 'python example1.py' 'python example2.py'\n",
    "```"
   ]
  },
  {
   "cell_type": "markdown",
   "id": "6e3fd72d",
   "metadata": {},
   "source": [
    "![](../img/hyperfine.png)"
   ]
  },
  {
   "cell_type": "markdown",
   "id": "a89062cf",
   "metadata": {},
   "source": [
    "[Link to hyperfine](https://github.com/sharkdp/hyperfine)."
   ]
  },
  {
   "cell_type": "markdown",
   "id": "691f99af",
   "metadata": {},
   "source": [
    "### Timeline View of the Execution of Your Python Functions"
   ]
  },
  {
   "cell_type": "markdown",
   "id": "fd234131",
   "metadata": {},
   "source": [
    "Have you ever wanted to see a timeline graph showing how the execution of your functions takes place in time? Prefect now allows you to do exactly that. \n",
    "\n",
    "To use Prefect, simply add `@task` and `@flow` to your Python functions.\n",
    "\n",
    "```python\n",
    "from prefect import task, flow\n",
    "from time import sleep\n",
    "\n",
    "@task\n",
    "def task1(secs):\n",
    "    sleep(secs)\n",
    "\n",
    "@task \n",
    "def task2(secs):\n",
    "    sleep(secs)\n",
    "\n",
    "@flow\n",
    "def my_flow():\n",
    "    task1(2)\n",
    "    task2.submit(10)\n",
    "    task2.submit(2)\n",
    "\n",
    "my_flow()\n",
    "```\n",
    "\n",
    "When running this code, you should see the following on your [Prefect UI](https://docs.prefect.io/ui/overview/).\n",
    "\n",
    "![](../img/real_time_graph.gif)"
   ]
  },
  {
   "cell_type": "markdown",
   "id": "b9c8f35c",
   "metadata": {},
   "source": [
    "Check out the [getting started tutorials](https://docs.prefect.io/tutorials/first-steps/) for basic concepts of Prefect."
   ]
  },
  {
   "cell_type": "markdown",
   "id": "0a77657d",
   "metadata": {},
   "source": [
    "### WAT: Your One-Stop Tool for Python Object Exploration"
   ]
  },
  {
   "cell_type": "code",
   "execution_count": null,
   "id": "4cfb447a",
   "metadata": {
    "tags": [
     "hide-cell"
    ]
   },
   "outputs": [],
   "source": [
    "!pip install wat-inspector"
   ]
  },
  {
   "cell_type": "markdown",
   "id": "74b95d44",
   "metadata": {},
   "source": [
    "Inspecting object states and understanding their properties often requires tedious setup of print statements or frequent context switching between code and documentation. \n",
    "\n",
    "With WAT, you can quickly examine an object's type, formatted value, variables, methods, parent types, signature, and documentation - all in one view. \n",
    "\n",
    "To use WAT, simply prepend `wat/` to any object you wish to inspect."
   ]
  },
  {
   "cell_type": "code",
   "execution_count": null,
   "id": "81ecb846",
   "metadata": {},
   "outputs": [],
   "source": [
    "import wat\n",
    "import datetime\n",
    "\n",
    "wat/datetime.datetime.now()"
   ]
  },
  {
   "cell_type": "markdown",
   "id": "05ce74b5",
   "metadata": {},
   "source": [
    "[Link to WAT](https://bit.ly/3YIEkgJ)."
   ]
  }
 ],
 "metadata": {
  "jupytext": {
   "text_representation": {
    "extension": ".md",
    "format_name": "myst",
    "format_version": 0.13,
    "jupytext_version": "1.16.7"
   }
  },
  "kernelspec": {
   "display_name": "Python 3 (ipykernel)",
   "language": "python",
   "name": "python3"
  },
  "source_map": [
   12,
   16,
   20,
   24,
   28,
   32,
   38,
   42,
   46,
   50,
   54,
   71,
   77,
   81,
   87,
   91,
   95,
   115,
   127,
   131,
   149,
   156,
   160,
   164,
   168,
   172,
   189,
   225,
   229,
   233,
   237,
   243,
   253,
   257,
   263,
   271,
   275,
   278,
   282,
   285,
   292,
   296,
   302,
   310,
   314,
   319,
   327,
   333,
   337,
   341,
   345,
   362,
   368,
   372,
   390,
   396,
   404,
   408,
   412,
   416,
   420,
   428,
   442,
   448,
   452,
   456,
   460,
   466,
   480,
   484,
   488,
   492,
   498,
   500,
   504,
   521,
   523,
   527,
   531,
   535,
   539,
   553,
   557,
   561,
   567,
   573,
   577,
   581,
   585,
   616,
   620,
   624,
   628,
   636,
   641
  ]
 },
 "nbformat": 4,
 "nbformat_minor": 5
}