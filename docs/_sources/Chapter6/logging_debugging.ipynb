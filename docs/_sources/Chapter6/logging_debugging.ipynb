{
 "cells": [
  {
   "cell_type": "markdown",
   "id": "eca1af78",
   "metadata": {},
   "source": [
    "## Logging and Debugging"
   ]
  },
  {
   "cell_type": "markdown",
   "id": "21db435c",
   "metadata": {},
   "source": [
    "![](../img/logging_debugging.png)"
   ]
  },
  {
   "cell_type": "markdown",
   "id": "64753789",
   "metadata": {},
   "source": [
    "Collections of tools for logging and debugging Python code. "
   ]
  },
  {
   "cell_type": "markdown",
   "id": "9cb6752d",
   "metadata": {},
   "source": [
    "### rich.inspect: Produce a Beautiful Report on any Python Object"
   ]
  },
  {
   "cell_type": "code",
   "execution_count": null,
   "id": "286f6971",
   "metadata": {
    "tags": [
     "hide-cell"
    ]
   },
   "outputs": [],
   "source": [
    "!pip install rich "
   ]
  },
  {
   "cell_type": "markdown",
   "id": "5e56b4ff",
   "metadata": {},
   "source": [
    "If you want to quickly see which attributes and methods of a Python object are available, use rich’s `inspect` method.\n",
    "\n",
    "rich’s `inspect` method allows you to create a beautiful report for any Python object, including a string."
   ]
  },
  {
   "cell_type": "code",
   "execution_count": 6,
   "id": "0d7bdef7",
   "metadata": {
    "ExecuteTime": {
     "end_time": "2021-09-12T13:11:02.968719Z",
     "start_time": "2021-09-12T13:11:02.784658Z"
    }
   },
   "outputs": [
    {
     "data": {
      "text/html": [
       "<pre style=\"white-space:pre;overflow-x:auto;line-height:normal;font-family:Menlo,'DejaVu Sans Mono',consolas,'Courier New',monospace\"><span style=\"color: #000080; text-decoration-color: #000080\">╭────────────────────────────────────── </span><span style=\"color: #000080; text-decoration-color: #000080; font-weight: bold\">&lt;</span><span style=\"color: #ff00ff; text-decoration-color: #ff00ff; font-weight: bold\">class</span><span style=\"color: #000000; text-decoration-color: #000000\"> </span><span style=\"color: #008000; text-decoration-color: #008000\">'str'</span><span style=\"color: #000080; text-decoration-color: #000080; font-weight: bold\">&gt;</span><span style=\"color: #000080; text-decoration-color: #000080\"> ──────────────────────────────────────╮</span>\n",
       "<span style=\"color: #000080; text-decoration-color: #000080\">│</span> <span style=\"color: #800080; text-decoration-color: #800080; font-weight: bold\">str</span><span style=\"color: #008080; text-decoration-color: #008080; font-weight: bold\">(</span><span style=\"color: #808000; text-decoration-color: #808000\">object</span><span style=\"color: #008080; text-decoration-color: #008080\">=</span><span style=\"color: #008000; text-decoration-color: #008000\">''</span><span style=\"color: #008080; text-decoration-color: #008080; font-weight: bold\">)</span><span style=\"color: #008080; text-decoration-color: #008080\"> -&gt; str</span>                                                                     <span style=\"color: #000080; text-decoration-color: #000080\">│</span>\n",
       "<span style=\"color: #000080; text-decoration-color: #000080\">│</span> <span style=\"color: #800080; text-decoration-color: #800080; font-weight: bold\">str</span><span style=\"color: #008080; text-decoration-color: #008080; font-weight: bold\">(</span><span style=\"color: #008080; text-decoration-color: #008080\">bytes_or_buffer</span><span style=\"color: #008080; text-decoration-color: #008080; font-weight: bold\">[</span><span style=\"color: #008080; text-decoration-color: #008080\">, encoding</span><span style=\"color: #008080; text-decoration-color: #008080; font-weight: bold\">[</span><span style=\"color: #008080; text-decoration-color: #008080\">, errors</span><span style=\"color: #008080; text-decoration-color: #008080; font-weight: bold\">]])</span><span style=\"color: #008080; text-decoration-color: #008080\"> -&gt; str</span>                                         <span style=\"color: #000080; text-decoration-color: #000080\">│</span>\n",
       "<span style=\"color: #000080; text-decoration-color: #000080\">│</span>                                                                                           <span style=\"color: #000080; text-decoration-color: #000080\">│</span>\n",
       "<span style=\"color: #000080; text-decoration-color: #000080\">│</span> <span style=\"color: #008000; text-decoration-color: #008000\">╭───────────────────────────────────────────────────────────────────────────────────────╮</span> <span style=\"color: #000080; text-decoration-color: #000080\">│</span>\n",
       "<span style=\"color: #000080; text-decoration-color: #000080\">│</span> <span style=\"color: #008000; text-decoration-color: #008000\">│</span> <span style=\"color: #008000; text-decoration-color: #008000\">'hello'</span>                                                                               <span style=\"color: #008000; text-decoration-color: #008000\">│</span> <span style=\"color: #000080; text-decoration-color: #000080\">│</span>\n",
       "<span style=\"color: #000080; text-decoration-color: #000080\">│</span> <span style=\"color: #008000; text-decoration-color: #008000\">╰───────────────────────────────────────────────────────────────────────────────────────╯</span> <span style=\"color: #000080; text-decoration-color: #000080\">│</span>\n",
       "<span style=\"color: #000080; text-decoration-color: #000080\">│</span>                                                                                           <span style=\"color: #000080; text-decoration-color: #000080\">│</span>\n",
       "<span style=\"color: #000080; text-decoration-color: #000080\">│</span>   <span style=\"color: #808000; text-decoration-color: #808000; font-style: italic\">capitalize</span> = <span style=\"color: #00ffff; text-decoration-color: #00ffff; font-style: italic\">def </span><span style=\"color: #800000; text-decoration-color: #800000; font-weight: bold\">capitalize</span><span style=\"font-weight: bold\">()</span>: <span style=\"color: #7f7f7f; text-decoration-color: #7f7f7f\">Return a capitalized version of the string.</span>              <span style=\"color: #000080; text-decoration-color: #000080\">│</span>\n",
       "<span style=\"color: #000080; text-decoration-color: #000080\">│</span>     <span style=\"color: #808000; text-decoration-color: #808000; font-style: italic\">casefold</span> = <span style=\"color: #00ffff; text-decoration-color: #00ffff; font-style: italic\">def </span><span style=\"color: #800000; text-decoration-color: #800000; font-weight: bold\">casefold</span><span style=\"font-weight: bold\">()</span>: <span style=\"color: #7f7f7f; text-decoration-color: #7f7f7f\">Return a version of the string suitable for caseless </span>      <span style=\"color: #000080; text-decoration-color: #000080\">│</span>\n",
       "<span style=\"color: #000080; text-decoration-color: #000080\">│</span>                <span style=\"color: #7f7f7f; text-decoration-color: #7f7f7f\">comparisons.</span>                                                               <span style=\"color: #000080; text-decoration-color: #000080\">│</span>\n",
       "<span style=\"color: #000080; text-decoration-color: #000080\">│</span>       <span style=\"color: #808000; text-decoration-color: #808000; font-style: italic\">center</span> = <span style=\"color: #00ffff; text-decoration-color: #00ffff; font-style: italic\">def </span><span style=\"color: #800000; text-decoration-color: #800000; font-weight: bold\">center</span><span style=\"font-weight: bold\">(</span>width, <span style=\"color: #808000; text-decoration-color: #808000\">fillchar</span>=<span style=\"color: #008000; text-decoration-color: #008000\">' '</span>, <span style=\"color: #800080; text-decoration-color: #800080\">/</span><span style=\"font-weight: bold\">)</span>: <span style=\"color: #7f7f7f; text-decoration-color: #7f7f7f\">Return a centered string of length </span>    <span style=\"color: #000080; text-decoration-color: #000080\">│</span>\n",
       "<span style=\"color: #000080; text-decoration-color: #000080\">│</span>                <span style=\"color: #7f7f7f; text-decoration-color: #7f7f7f\">width.</span>                                                                     <span style=\"color: #000080; text-decoration-color: #000080\">│</span>\n",
       "<span style=\"color: #000080; text-decoration-color: #000080\">│</span>        <span style=\"color: #808000; text-decoration-color: #808000; font-style: italic\">count</span> = <span style=\"color: #00ffff; text-decoration-color: #00ffff; font-style: italic\">def </span><span style=\"color: #800000; text-decoration-color: #800000; font-weight: bold\">count</span><span style=\"font-weight: bold\">(</span><span style=\"color: #808000; text-decoration-color: #808000\">...</span><span style=\"font-weight: bold\">)</span> <span style=\"color: #bf7fbf; text-decoration-color: #bf7fbf; font-weight: bold\">S.count</span><span style=\"color: #7f7f7f; text-decoration-color: #7f7f7f; font-weight: bold\">(</span><span style=\"color: #7f7f7f; text-decoration-color: #7f7f7f\">sub</span><span style=\"color: #7f7f7f; text-decoration-color: #7f7f7f; font-weight: bold\">[</span><span style=\"color: #7f7f7f; text-decoration-color: #7f7f7f\">, start</span><span style=\"color: #7f7f7f; text-decoration-color: #7f7f7f; font-weight: bold\">[</span><span style=\"color: #7f7f7f; text-decoration-color: #7f7f7f\">, end</span><span style=\"color: #7f7f7f; text-decoration-color: #7f7f7f; font-weight: bold\">]])</span><span style=\"color: #7f7f7f; text-decoration-color: #7f7f7f\"> -&gt; int</span>                         <span style=\"color: #000080; text-decoration-color: #000080\">│</span>\n",
       "<span style=\"color: #000080; text-decoration-color: #000080\">│</span>       <span style=\"color: #808000; text-decoration-color: #808000; font-style: italic\">encode</span> = <span style=\"color: #00ffff; text-decoration-color: #00ffff; font-style: italic\">def </span><span style=\"color: #800000; text-decoration-color: #800000; font-weight: bold\">encode</span><span style=\"font-weight: bold\">(</span><span style=\"color: #808000; text-decoration-color: #808000\">encoding</span>=<span style=\"color: #008000; text-decoration-color: #008000\">'utf-8'</span>, <span style=\"color: #808000; text-decoration-color: #808000\">errors</span>=<span style=\"color: #008000; text-decoration-color: #008000\">'strict'</span><span style=\"font-weight: bold\">)</span>: <span style=\"color: #7f7f7f; text-decoration-color: #7f7f7f\">Encode the string using the</span> <span style=\"color: #000080; text-decoration-color: #000080\">│</span>\n",
       "<span style=\"color: #000080; text-decoration-color: #000080\">│</span>                <span style=\"color: #7f7f7f; text-decoration-color: #7f7f7f\">codec registered for encoding.</span>                                             <span style=\"color: #000080; text-decoration-color: #000080\">│</span>\n",
       "<span style=\"color: #000080; text-decoration-color: #000080\">│</span>     <span style=\"color: #808000; text-decoration-color: #808000; font-style: italic\">endswith</span> = <span style=\"color: #00ffff; text-decoration-color: #00ffff; font-style: italic\">def </span><span style=\"color: #800000; text-decoration-color: #800000; font-weight: bold\">endswith</span><span style=\"font-weight: bold\">(</span><span style=\"color: #808000; text-decoration-color: #808000\">...</span><span style=\"font-weight: bold\">)</span> <span style=\"color: #bf7fbf; text-decoration-color: #bf7fbf; font-weight: bold\">S.endswith</span><span style=\"color: #7f7f7f; text-decoration-color: #7f7f7f; font-weight: bold\">(</span><span style=\"color: #7f7f7f; text-decoration-color: #7f7f7f\">suffix</span><span style=\"color: #7f7f7f; text-decoration-color: #7f7f7f; font-weight: bold\">[</span><span style=\"color: #7f7f7f; text-decoration-color: #7f7f7f\">, start</span><span style=\"color: #7f7f7f; text-decoration-color: #7f7f7f; font-weight: bold\">[</span><span style=\"color: #7f7f7f; text-decoration-color: #7f7f7f\">, end</span><span style=\"color: #7f7f7f; text-decoration-color: #7f7f7f; font-weight: bold\">]])</span><span style=\"color: #7f7f7f; text-decoration-color: #7f7f7f\"> -&gt; bool</span>               <span style=\"color: #000080; text-decoration-color: #000080\">│</span>\n",
       "<span style=\"color: #000080; text-decoration-color: #000080\">│</span>   <span style=\"color: #808000; text-decoration-color: #808000; font-style: italic\">expandtabs</span> = <span style=\"color: #00ffff; text-decoration-color: #00ffff; font-style: italic\">def </span><span style=\"color: #800000; text-decoration-color: #800000; font-weight: bold\">expandtabs</span><span style=\"font-weight: bold\">(</span><span style=\"color: #808000; text-decoration-color: #808000\">tabsize</span>=<span style=\"color: #008080; text-decoration-color: #008080; font-weight: bold\">8</span><span style=\"font-weight: bold\">)</span>: <span style=\"color: #7f7f7f; text-decoration-color: #7f7f7f\">Return a copy where all tab characters are </span>     <span style=\"color: #000080; text-decoration-color: #000080\">│</span>\n",
       "<span style=\"color: #000080; text-decoration-color: #000080\">│</span>                <span style=\"color: #7f7f7f; text-decoration-color: #7f7f7f\">expanded using spaces.</span>                                                     <span style=\"color: #000080; text-decoration-color: #000080\">│</span>\n",
       "<span style=\"color: #000080; text-decoration-color: #000080\">│</span>         <span style=\"color: #808000; text-decoration-color: #808000; font-style: italic\">find</span> = <span style=\"color: #00ffff; text-decoration-color: #00ffff; font-style: italic\">def </span><span style=\"color: #800000; text-decoration-color: #800000; font-weight: bold\">find</span><span style=\"font-weight: bold\">(</span><span style=\"color: #808000; text-decoration-color: #808000\">...</span><span style=\"font-weight: bold\">)</span> <span style=\"color: #bf7fbf; text-decoration-color: #bf7fbf; font-weight: bold\">S.find</span><span style=\"color: #7f7f7f; text-decoration-color: #7f7f7f; font-weight: bold\">(</span><span style=\"color: #7f7f7f; text-decoration-color: #7f7f7f\">sub</span><span style=\"color: #7f7f7f; text-decoration-color: #7f7f7f; font-weight: bold\">[</span><span style=\"color: #7f7f7f; text-decoration-color: #7f7f7f\">, start</span><span style=\"color: #7f7f7f; text-decoration-color: #7f7f7f; font-weight: bold\">[</span><span style=\"color: #7f7f7f; text-decoration-color: #7f7f7f\">, end</span><span style=\"color: #7f7f7f; text-decoration-color: #7f7f7f; font-weight: bold\">]])</span><span style=\"color: #7f7f7f; text-decoration-color: #7f7f7f\"> -&gt; int</span>                           <span style=\"color: #000080; text-decoration-color: #000080\">│</span>\n",
       "<span style=\"color: #000080; text-decoration-color: #000080\">│</span>       <span style=\"color: #808000; text-decoration-color: #808000; font-style: italic\">format</span> = <span style=\"color: #00ffff; text-decoration-color: #00ffff; font-style: italic\">def </span><span style=\"color: #800000; text-decoration-color: #800000; font-weight: bold\">format</span><span style=\"font-weight: bold\">(</span><span style=\"color: #808000; text-decoration-color: #808000\">...</span><span style=\"font-weight: bold\">)</span> <span style=\"color: #bf7fbf; text-decoration-color: #bf7fbf; font-weight: bold\">S.format</span><span style=\"color: #7f7f7f; text-decoration-color: #7f7f7f; font-weight: bold\">(</span><span style=\"color: #7f7f7f; text-decoration-color: #7f7f7f\">*args, **kwargs</span><span style=\"color: #7f7f7f; text-decoration-color: #7f7f7f; font-weight: bold\">)</span><span style=\"color: #7f7f7f; text-decoration-color: #7f7f7f\"> -&gt; str</span>                           <span style=\"color: #000080; text-decoration-color: #000080\">│</span>\n",
       "<span style=\"color: #000080; text-decoration-color: #000080\">│</span>   <span style=\"color: #808000; text-decoration-color: #808000; font-style: italic\">format_map</span> = <span style=\"color: #00ffff; text-decoration-color: #00ffff; font-style: italic\">def </span><span style=\"color: #800000; text-decoration-color: #800000; font-weight: bold\">format_map</span><span style=\"font-weight: bold\">(</span><span style=\"color: #808000; text-decoration-color: #808000\">...</span><span style=\"font-weight: bold\">)</span> <span style=\"color: #bf7fbf; text-decoration-color: #bf7fbf; font-weight: bold\">S.format_map</span><span style=\"color: #7f7f7f; text-decoration-color: #7f7f7f; font-weight: bold\">(</span><span style=\"color: #7f7f7f; text-decoration-color: #7f7f7f\">mapping</span><span style=\"color: #7f7f7f; text-decoration-color: #7f7f7f; font-weight: bold\">)</span><span style=\"color: #7f7f7f; text-decoration-color: #7f7f7f\"> -&gt; str</span>                           <span style=\"color: #000080; text-decoration-color: #000080\">│</span>\n",
       "<span style=\"color: #000080; text-decoration-color: #000080\">│</span>        <span style=\"color: #808000; text-decoration-color: #808000; font-style: italic\">index</span> = <span style=\"color: #00ffff; text-decoration-color: #00ffff; font-style: italic\">def </span><span style=\"color: #800000; text-decoration-color: #800000; font-weight: bold\">index</span><span style=\"font-weight: bold\">(</span><span style=\"color: #808000; text-decoration-color: #808000\">...</span><span style=\"font-weight: bold\">)</span> <span style=\"color: #bf7fbf; text-decoration-color: #bf7fbf; font-weight: bold\">S.index</span><span style=\"color: #7f7f7f; text-decoration-color: #7f7f7f; font-weight: bold\">(</span><span style=\"color: #7f7f7f; text-decoration-color: #7f7f7f\">sub</span><span style=\"color: #7f7f7f; text-decoration-color: #7f7f7f; font-weight: bold\">[</span><span style=\"color: #7f7f7f; text-decoration-color: #7f7f7f\">, start</span><span style=\"color: #7f7f7f; text-decoration-color: #7f7f7f; font-weight: bold\">[</span><span style=\"color: #7f7f7f; text-decoration-color: #7f7f7f\">, end</span><span style=\"color: #7f7f7f; text-decoration-color: #7f7f7f; font-weight: bold\">]])</span><span style=\"color: #7f7f7f; text-decoration-color: #7f7f7f\"> -&gt; int</span>                         <span style=\"color: #000080; text-decoration-color: #000080\">│</span>\n",
       "<span style=\"color: #000080; text-decoration-color: #000080\">│</span>      <span style=\"color: #808000; text-decoration-color: #808000; font-style: italic\">isalnum</span> = <span style=\"color: #00ffff; text-decoration-color: #00ffff; font-style: italic\">def </span><span style=\"color: #800000; text-decoration-color: #800000; font-weight: bold\">isalnum</span><span style=\"font-weight: bold\">()</span>: <span style=\"color: #7f7f7f; text-decoration-color: #7f7f7f\">Return </span><span style=\"color: #7fff7f; text-decoration-color: #7fff7f; font-style: italic\">True</span><span style=\"color: #7f7f7f; text-decoration-color: #7f7f7f\"> if the string is an alpha-numeric string, </span><span style=\"color: #ff7f7f; text-decoration-color: #ff7f7f; font-style: italic\">False</span> <span style=\"color: #000080; text-decoration-color: #000080\">│</span>\n",
       "<span style=\"color: #000080; text-decoration-color: #000080\">│</span>                <span style=\"color: #7f7f7f; text-decoration-color: #7f7f7f\">otherwise.</span>                                                                 <span style=\"color: #000080; text-decoration-color: #000080\">│</span>\n",
       "<span style=\"color: #000080; text-decoration-color: #000080\">│</span>      <span style=\"color: #808000; text-decoration-color: #808000; font-style: italic\">isalpha</span> = <span style=\"color: #00ffff; text-decoration-color: #00ffff; font-style: italic\">def </span><span style=\"color: #800000; text-decoration-color: #800000; font-weight: bold\">isalpha</span><span style=\"font-weight: bold\">()</span>: <span style=\"color: #7f7f7f; text-decoration-color: #7f7f7f\">Return </span><span style=\"color: #7fff7f; text-decoration-color: #7fff7f; font-style: italic\">True</span><span style=\"color: #7f7f7f; text-decoration-color: #7f7f7f\"> if the string is an alphabetic string, </span><span style=\"color: #ff7f7f; text-decoration-color: #ff7f7f; font-style: italic\">False</span><span style=\"color: #7f7f7f; text-decoration-color: #7f7f7f\"> </span>   <span style=\"color: #000080; text-decoration-color: #000080\">│</span>\n",
       "<span style=\"color: #000080; text-decoration-color: #000080\">│</span>                <span style=\"color: #7f7f7f; text-decoration-color: #7f7f7f\">otherwise.</span>                                                                 <span style=\"color: #000080; text-decoration-color: #000080\">│</span>\n",
       "<span style=\"color: #000080; text-decoration-color: #000080\">│</span>      <span style=\"color: #808000; text-decoration-color: #808000; font-style: italic\">isascii</span> = <span style=\"color: #00ffff; text-decoration-color: #00ffff; font-style: italic\">def </span><span style=\"color: #800000; text-decoration-color: #800000; font-weight: bold\">isascii</span><span style=\"font-weight: bold\">()</span>: <span style=\"color: #7f7f7f; text-decoration-color: #7f7f7f\">Return </span><span style=\"color: #7fff7f; text-decoration-color: #7fff7f; font-style: italic\">True</span><span style=\"color: #7f7f7f; text-decoration-color: #7f7f7f\"> if all characters in the string are ASCII, </span>     <span style=\"color: #000080; text-decoration-color: #000080\">│</span>\n",
       "<span style=\"color: #000080; text-decoration-color: #000080\">│</span>                <span style=\"color: #ff7f7f; text-decoration-color: #ff7f7f; font-style: italic\">False</span><span style=\"color: #7f7f7f; text-decoration-color: #7f7f7f\"> otherwise.</span>                                                           <span style=\"color: #000080; text-decoration-color: #000080\">│</span>\n",
       "<span style=\"color: #000080; text-decoration-color: #000080\">│</span>    <span style=\"color: #808000; text-decoration-color: #808000; font-style: italic\">isdecimal</span> = <span style=\"color: #00ffff; text-decoration-color: #00ffff; font-style: italic\">def </span><span style=\"color: #800000; text-decoration-color: #800000; font-weight: bold\">isdecimal</span><span style=\"font-weight: bold\">()</span>: <span style=\"color: #7f7f7f; text-decoration-color: #7f7f7f\">Return </span><span style=\"color: #7fff7f; text-decoration-color: #7fff7f; font-style: italic\">True</span><span style=\"color: #7f7f7f; text-decoration-color: #7f7f7f\"> if the string is a decimal string, </span><span style=\"color: #ff7f7f; text-decoration-color: #ff7f7f; font-style: italic\">False</span><span style=\"color: #7f7f7f; text-decoration-color: #7f7f7f\"> </span>     <span style=\"color: #000080; text-decoration-color: #000080\">│</span>\n",
       "<span style=\"color: #000080; text-decoration-color: #000080\">│</span>                <span style=\"color: #7f7f7f; text-decoration-color: #7f7f7f\">otherwise.</span>                                                                 <span style=\"color: #000080; text-decoration-color: #000080\">│</span>\n",
       "<span style=\"color: #000080; text-decoration-color: #000080\">│</span>      <span style=\"color: #808000; text-decoration-color: #808000; font-style: italic\">isdigit</span> = <span style=\"color: #00ffff; text-decoration-color: #00ffff; font-style: italic\">def </span><span style=\"color: #800000; text-decoration-color: #800000; font-weight: bold\">isdigit</span><span style=\"font-weight: bold\">()</span>: <span style=\"color: #7f7f7f; text-decoration-color: #7f7f7f\">Return </span><span style=\"color: #7fff7f; text-decoration-color: #7fff7f; font-style: italic\">True</span><span style=\"color: #7f7f7f; text-decoration-color: #7f7f7f\"> if the string is a digit string, </span><span style=\"color: #ff7f7f; text-decoration-color: #ff7f7f; font-style: italic\">False</span><span style=\"color: #7f7f7f; text-decoration-color: #7f7f7f\"> </span>         <span style=\"color: #000080; text-decoration-color: #000080\">│</span>\n",
       "<span style=\"color: #000080; text-decoration-color: #000080\">│</span>                <span style=\"color: #7f7f7f; text-decoration-color: #7f7f7f\">otherwise.</span>                                                                 <span style=\"color: #000080; text-decoration-color: #000080\">│</span>\n",
       "<span style=\"color: #000080; text-decoration-color: #000080\">│</span> <span style=\"color: #808000; text-decoration-color: #808000; font-style: italic\">isidentifier</span> = <span style=\"color: #00ffff; text-decoration-color: #00ffff; font-style: italic\">def </span><span style=\"color: #800000; text-decoration-color: #800000; font-weight: bold\">isidentifier</span><span style=\"font-weight: bold\">()</span>: <span style=\"color: #7f7f7f; text-decoration-color: #7f7f7f\">Return </span><span style=\"color: #7fff7f; text-decoration-color: #7fff7f; font-style: italic\">True</span><span style=\"color: #7f7f7f; text-decoration-color: #7f7f7f\"> if the string is a valid Python </span>           <span style=\"color: #000080; text-decoration-color: #000080\">│</span>\n",
       "<span style=\"color: #000080; text-decoration-color: #000080\">│</span>                <span style=\"color: #7f7f7f; text-decoration-color: #7f7f7f\">identifier, </span><span style=\"color: #ff7f7f; text-decoration-color: #ff7f7f; font-style: italic\">False</span><span style=\"color: #7f7f7f; text-decoration-color: #7f7f7f\"> otherwise.</span>                                               <span style=\"color: #000080; text-decoration-color: #000080\">│</span>\n",
       "<span style=\"color: #000080; text-decoration-color: #000080\">│</span>      <span style=\"color: #808000; text-decoration-color: #808000; font-style: italic\">islower</span> = <span style=\"color: #00ffff; text-decoration-color: #00ffff; font-style: italic\">def </span><span style=\"color: #800000; text-decoration-color: #800000; font-weight: bold\">islower</span><span style=\"font-weight: bold\">()</span>: <span style=\"color: #7f7f7f; text-decoration-color: #7f7f7f\">Return </span><span style=\"color: #7fff7f; text-decoration-color: #7fff7f; font-style: italic\">True</span><span style=\"color: #7f7f7f; text-decoration-color: #7f7f7f\"> if the string is a lowercase string, </span><span style=\"color: #ff7f7f; text-decoration-color: #ff7f7f; font-style: italic\">False</span><span style=\"color: #7f7f7f; text-decoration-color: #7f7f7f\"> </span>     <span style=\"color: #000080; text-decoration-color: #000080\">│</span>\n",
       "<span style=\"color: #000080; text-decoration-color: #000080\">│</span>                <span style=\"color: #7f7f7f; text-decoration-color: #7f7f7f\">otherwise.</span>                                                                 <span style=\"color: #000080; text-decoration-color: #000080\">│</span>\n",
       "<span style=\"color: #000080; text-decoration-color: #000080\">│</span>    <span style=\"color: #808000; text-decoration-color: #808000; font-style: italic\">isnumeric</span> = <span style=\"color: #00ffff; text-decoration-color: #00ffff; font-style: italic\">def </span><span style=\"color: #800000; text-decoration-color: #800000; font-weight: bold\">isnumeric</span><span style=\"font-weight: bold\">()</span>: <span style=\"color: #7f7f7f; text-decoration-color: #7f7f7f\">Return </span><span style=\"color: #7fff7f; text-decoration-color: #7fff7f; font-style: italic\">True</span><span style=\"color: #7f7f7f; text-decoration-color: #7f7f7f\"> if the string is a numeric string, </span><span style=\"color: #ff7f7f; text-decoration-color: #ff7f7f; font-style: italic\">False</span><span style=\"color: #7f7f7f; text-decoration-color: #7f7f7f\"> </span>     <span style=\"color: #000080; text-decoration-color: #000080\">│</span>\n",
       "<span style=\"color: #000080; text-decoration-color: #000080\">│</span>                <span style=\"color: #7f7f7f; text-decoration-color: #7f7f7f\">otherwise.</span>                                                                 <span style=\"color: #000080; text-decoration-color: #000080\">│</span>\n",
       "<span style=\"color: #000080; text-decoration-color: #000080\">│</span>  <span style=\"color: #808000; text-decoration-color: #808000; font-style: italic\">isprintable</span> = <span style=\"color: #00ffff; text-decoration-color: #00ffff; font-style: italic\">def </span><span style=\"color: #800000; text-decoration-color: #800000; font-weight: bold\">isprintable</span><span style=\"font-weight: bold\">()</span>: <span style=\"color: #7f7f7f; text-decoration-color: #7f7f7f\">Return </span><span style=\"color: #7fff7f; text-decoration-color: #7fff7f; font-style: italic\">True</span><span style=\"color: #7f7f7f; text-decoration-color: #7f7f7f\"> if the string is printable, </span><span style=\"color: #ff7f7f; text-decoration-color: #ff7f7f; font-style: italic\">False</span><span style=\"color: #7f7f7f; text-decoration-color: #7f7f7f\"> </span>          <span style=\"color: #000080; text-decoration-color: #000080\">│</span>\n",
       "<span style=\"color: #000080; text-decoration-color: #000080\">│</span>                <span style=\"color: #7f7f7f; text-decoration-color: #7f7f7f\">otherwise.</span>                                                                 <span style=\"color: #000080; text-decoration-color: #000080\">│</span>\n",
       "<span style=\"color: #000080; text-decoration-color: #000080\">│</span>      <span style=\"color: #808000; text-decoration-color: #808000; font-style: italic\">isspace</span> = <span style=\"color: #00ffff; text-decoration-color: #00ffff; font-style: italic\">def </span><span style=\"color: #800000; text-decoration-color: #800000; font-weight: bold\">isspace</span><span style=\"font-weight: bold\">()</span>: <span style=\"color: #7f7f7f; text-decoration-color: #7f7f7f\">Return </span><span style=\"color: #7fff7f; text-decoration-color: #7fff7f; font-style: italic\">True</span><span style=\"color: #7f7f7f; text-decoration-color: #7f7f7f\"> if the string is a whitespace string, </span><span style=\"color: #ff7f7f; text-decoration-color: #ff7f7f; font-style: italic\">False</span><span style=\"color: #7f7f7f; text-decoration-color: #7f7f7f\"> </span>    <span style=\"color: #000080; text-decoration-color: #000080\">│</span>\n",
       "<span style=\"color: #000080; text-decoration-color: #000080\">│</span>                <span style=\"color: #7f7f7f; text-decoration-color: #7f7f7f\">otherwise.</span>                                                                 <span style=\"color: #000080; text-decoration-color: #000080\">│</span>\n",
       "<span style=\"color: #000080; text-decoration-color: #000080\">│</span>      <span style=\"color: #808000; text-decoration-color: #808000; font-style: italic\">istitle</span> = <span style=\"color: #00ffff; text-decoration-color: #00ffff; font-style: italic\">def </span><span style=\"color: #800000; text-decoration-color: #800000; font-weight: bold\">istitle</span><span style=\"font-weight: bold\">()</span>: <span style=\"color: #7f7f7f; text-decoration-color: #7f7f7f\">Return </span><span style=\"color: #7fff7f; text-decoration-color: #7fff7f; font-style: italic\">True</span><span style=\"color: #7f7f7f; text-decoration-color: #7f7f7f\"> if the string is a title-cased string, </span><span style=\"color: #ff7f7f; text-decoration-color: #ff7f7f; font-style: italic\">False</span><span style=\"color: #7f7f7f; text-decoration-color: #7f7f7f\"> </span>   <span style=\"color: #000080; text-decoration-color: #000080\">│</span>\n",
       "<span style=\"color: #000080; text-decoration-color: #000080\">│</span>                <span style=\"color: #7f7f7f; text-decoration-color: #7f7f7f\">otherwise.</span>                                                                 <span style=\"color: #000080; text-decoration-color: #000080\">│</span>\n",
       "<span style=\"color: #000080; text-decoration-color: #000080\">│</span>      <span style=\"color: #808000; text-decoration-color: #808000; font-style: italic\">isupper</span> = <span style=\"color: #00ffff; text-decoration-color: #00ffff; font-style: italic\">def </span><span style=\"color: #800000; text-decoration-color: #800000; font-weight: bold\">isupper</span><span style=\"font-weight: bold\">()</span>: <span style=\"color: #7f7f7f; text-decoration-color: #7f7f7f\">Return </span><span style=\"color: #7fff7f; text-decoration-color: #7fff7f; font-style: italic\">True</span><span style=\"color: #7f7f7f; text-decoration-color: #7f7f7f\"> if the string is an uppercase string, </span><span style=\"color: #ff7f7f; text-decoration-color: #ff7f7f; font-style: italic\">False</span><span style=\"color: #7f7f7f; text-decoration-color: #7f7f7f\"> </span>    <span style=\"color: #000080; text-decoration-color: #000080\">│</span>\n",
       "<span style=\"color: #000080; text-decoration-color: #000080\">│</span>                <span style=\"color: #7f7f7f; text-decoration-color: #7f7f7f\">otherwise.</span>                                                                 <span style=\"color: #000080; text-decoration-color: #000080\">│</span>\n",
       "<span style=\"color: #000080; text-decoration-color: #000080\">│</span>         <span style=\"color: #808000; text-decoration-color: #808000; font-style: italic\">join</span> = <span style=\"color: #00ffff; text-decoration-color: #00ffff; font-style: italic\">def </span><span style=\"color: #800000; text-decoration-color: #800000; font-weight: bold\">join</span><span style=\"font-weight: bold\">(</span>iterable, <span style=\"color: #800080; text-decoration-color: #800080\">/</span><span style=\"font-weight: bold\">)</span>: <span style=\"color: #7f7f7f; text-decoration-color: #7f7f7f\">Concatenate any number of strings.</span>                  <span style=\"color: #000080; text-decoration-color: #000080\">│</span>\n",
       "<span style=\"color: #000080; text-decoration-color: #000080\">│</span>        <span style=\"color: #808000; text-decoration-color: #808000; font-style: italic\">ljust</span> = <span style=\"color: #00ffff; text-decoration-color: #00ffff; font-style: italic\">def </span><span style=\"color: #800000; text-decoration-color: #800000; font-weight: bold\">ljust</span><span style=\"font-weight: bold\">(</span>width, <span style=\"color: #808000; text-decoration-color: #808000\">fillchar</span>=<span style=\"color: #008000; text-decoration-color: #008000\">' '</span>, <span style=\"color: #800080; text-decoration-color: #800080\">/</span><span style=\"font-weight: bold\">)</span>: <span style=\"color: #7f7f7f; text-decoration-color: #7f7f7f\">Return a left-justified string of </span>      <span style=\"color: #000080; text-decoration-color: #000080\">│</span>\n",
       "<span style=\"color: #000080; text-decoration-color: #000080\">│</span>                <span style=\"color: #7f7f7f; text-decoration-color: #7f7f7f\">length width.</span>                                                              <span style=\"color: #000080; text-decoration-color: #000080\">│</span>\n",
       "<span style=\"color: #000080; text-decoration-color: #000080\">│</span>        <span style=\"color: #808000; text-decoration-color: #808000; font-style: italic\">lower</span> = <span style=\"color: #00ffff; text-decoration-color: #00ffff; font-style: italic\">def </span><span style=\"color: #800000; text-decoration-color: #800000; font-weight: bold\">lower</span><span style=\"font-weight: bold\">()</span>: <span style=\"color: #7f7f7f; text-decoration-color: #7f7f7f\">Return a copy of the string converted to lowercase.</span>           <span style=\"color: #000080; text-decoration-color: #000080\">│</span>\n",
       "<span style=\"color: #000080; text-decoration-color: #000080\">│</span>       <span style=\"color: #808000; text-decoration-color: #808000; font-style: italic\">lstrip</span> = <span style=\"color: #00ffff; text-decoration-color: #00ffff; font-style: italic\">def </span><span style=\"color: #800000; text-decoration-color: #800000; font-weight: bold\">lstrip</span><span style=\"font-weight: bold\">(</span><span style=\"color: #808000; text-decoration-color: #808000\">chars</span>=<span style=\"color: #800080; text-decoration-color: #800080; font-style: italic\">None</span>, <span style=\"color: #800080; text-decoration-color: #800080\">/</span><span style=\"font-weight: bold\">)</span>: <span style=\"color: #7f7f7f; text-decoration-color: #7f7f7f\">Return a copy of the string with leading </span>       <span style=\"color: #000080; text-decoration-color: #000080\">│</span>\n",
       "<span style=\"color: #000080; text-decoration-color: #000080\">│</span>                <span style=\"color: #7f7f7f; text-decoration-color: #7f7f7f\">whitespace removed.</span>                                                        <span style=\"color: #000080; text-decoration-color: #000080\">│</span>\n",
       "<span style=\"color: #000080; text-decoration-color: #000080\">│</span>    <span style=\"color: #808000; text-decoration-color: #808000; font-style: italic\">maketrans</span> = <span style=\"color: #00ffff; text-decoration-color: #00ffff; font-style: italic\">def </span><span style=\"color: #800000; text-decoration-color: #800000; font-weight: bold\">maketrans</span><span style=\"font-weight: bold\">(</span><span style=\"color: #808000; text-decoration-color: #808000\">...</span><span style=\"font-weight: bold\">)</span> <span style=\"color: #7f7f7f; text-decoration-color: #7f7f7f\">Return a translation table usable for </span><span style=\"color: #bf7fbf; text-decoration-color: #bf7fbf; font-weight: bold\">str.translate</span><span style=\"color: #7f7f7f; text-decoration-color: #7f7f7f; font-weight: bold\">()</span><span style=\"color: #7f7f7f; text-decoration-color: #7f7f7f\">.</span>  <span style=\"color: #000080; text-decoration-color: #000080\">│</span>\n",
       "<span style=\"color: #000080; text-decoration-color: #000080\">│</span>    <span style=\"color: #808000; text-decoration-color: #808000; font-style: italic\">partition</span> = <span style=\"color: #00ffff; text-decoration-color: #00ffff; font-style: italic\">def </span><span style=\"color: #800000; text-decoration-color: #800000; font-weight: bold\">partition</span><span style=\"font-weight: bold\">(</span>sep, <span style=\"color: #800080; text-decoration-color: #800080\">/</span><span style=\"font-weight: bold\">)</span>: <span style=\"color: #7f7f7f; text-decoration-color: #7f7f7f\">Partition the string into three parts using the </span>    <span style=\"color: #000080; text-decoration-color: #000080\">│</span>\n",
       "<span style=\"color: #000080; text-decoration-color: #000080\">│</span>                <span style=\"color: #7f7f7f; text-decoration-color: #7f7f7f\">given separator.</span>                                                           <span style=\"color: #000080; text-decoration-color: #000080\">│</span>\n",
       "<span style=\"color: #000080; text-decoration-color: #000080\">│</span>      <span style=\"color: #808000; text-decoration-color: #808000; font-style: italic\">replace</span> = <span style=\"color: #00ffff; text-decoration-color: #00ffff; font-style: italic\">def </span><span style=\"color: #800000; text-decoration-color: #800000; font-weight: bold\">replace</span><span style=\"font-weight: bold\">(</span>old, new, <span style=\"color: #808000; text-decoration-color: #808000\">count</span>=<span style=\"color: #008080; text-decoration-color: #008080; font-weight: bold\">-1</span>, <span style=\"color: #800080; text-decoration-color: #800080\">/</span><span style=\"font-weight: bold\">)</span>: <span style=\"color: #7f7f7f; text-decoration-color: #7f7f7f\">Return a copy with all occurrences of </span> <span style=\"color: #000080; text-decoration-color: #000080\">│</span>\n",
       "<span style=\"color: #000080; text-decoration-color: #000080\">│</span>                <span style=\"color: #7f7f7f; text-decoration-color: #7f7f7f\">substring old replaced by new.</span>                                             <span style=\"color: #000080; text-decoration-color: #000080\">│</span>\n",
       "<span style=\"color: #000080; text-decoration-color: #000080\">│</span>        <span style=\"color: #808000; text-decoration-color: #808000; font-style: italic\">rfind</span> = <span style=\"color: #00ffff; text-decoration-color: #00ffff; font-style: italic\">def </span><span style=\"color: #800000; text-decoration-color: #800000; font-weight: bold\">rfind</span><span style=\"font-weight: bold\">(</span><span style=\"color: #808000; text-decoration-color: #808000\">...</span><span style=\"font-weight: bold\">)</span> <span style=\"color: #bf7fbf; text-decoration-color: #bf7fbf; font-weight: bold\">S.rfind</span><span style=\"color: #7f7f7f; text-decoration-color: #7f7f7f; font-weight: bold\">(</span><span style=\"color: #7f7f7f; text-decoration-color: #7f7f7f\">sub</span><span style=\"color: #7f7f7f; text-decoration-color: #7f7f7f; font-weight: bold\">[</span><span style=\"color: #7f7f7f; text-decoration-color: #7f7f7f\">, start</span><span style=\"color: #7f7f7f; text-decoration-color: #7f7f7f; font-weight: bold\">[</span><span style=\"color: #7f7f7f; text-decoration-color: #7f7f7f\">, end</span><span style=\"color: #7f7f7f; text-decoration-color: #7f7f7f; font-weight: bold\">]])</span><span style=\"color: #7f7f7f; text-decoration-color: #7f7f7f\"> -&gt; int</span>                         <span style=\"color: #000080; text-decoration-color: #000080\">│</span>\n",
       "<span style=\"color: #000080; text-decoration-color: #000080\">│</span>       <span style=\"color: #808000; text-decoration-color: #808000; font-style: italic\">rindex</span> = <span style=\"color: #00ffff; text-decoration-color: #00ffff; font-style: italic\">def </span><span style=\"color: #800000; text-decoration-color: #800000; font-weight: bold\">rindex</span><span style=\"font-weight: bold\">(</span><span style=\"color: #808000; text-decoration-color: #808000\">...</span><span style=\"font-weight: bold\">)</span> <span style=\"color: #bf7fbf; text-decoration-color: #bf7fbf; font-weight: bold\">S.rindex</span><span style=\"color: #7f7f7f; text-decoration-color: #7f7f7f; font-weight: bold\">(</span><span style=\"color: #7f7f7f; text-decoration-color: #7f7f7f\">sub</span><span style=\"color: #7f7f7f; text-decoration-color: #7f7f7f; font-weight: bold\">[</span><span style=\"color: #7f7f7f; text-decoration-color: #7f7f7f\">, start</span><span style=\"color: #7f7f7f; text-decoration-color: #7f7f7f; font-weight: bold\">[</span><span style=\"color: #7f7f7f; text-decoration-color: #7f7f7f\">, end</span><span style=\"color: #7f7f7f; text-decoration-color: #7f7f7f; font-weight: bold\">]])</span><span style=\"color: #7f7f7f; text-decoration-color: #7f7f7f\"> -&gt; int</span>                       <span style=\"color: #000080; text-decoration-color: #000080\">│</span>\n",
       "<span style=\"color: #000080; text-decoration-color: #000080\">│</span>        <span style=\"color: #808000; text-decoration-color: #808000; font-style: italic\">rjust</span> = <span style=\"color: #00ffff; text-decoration-color: #00ffff; font-style: italic\">def </span><span style=\"color: #800000; text-decoration-color: #800000; font-weight: bold\">rjust</span><span style=\"font-weight: bold\">(</span>width, <span style=\"color: #808000; text-decoration-color: #808000\">fillchar</span>=<span style=\"color: #008000; text-decoration-color: #008000\">' '</span>, <span style=\"color: #800080; text-decoration-color: #800080\">/</span><span style=\"font-weight: bold\">)</span>: <span style=\"color: #7f7f7f; text-decoration-color: #7f7f7f\">Return a right-justified string of </span>     <span style=\"color: #000080; text-decoration-color: #000080\">│</span>\n",
       "<span style=\"color: #000080; text-decoration-color: #000080\">│</span>                <span style=\"color: #7f7f7f; text-decoration-color: #7f7f7f\">length width.</span>                                                              <span style=\"color: #000080; text-decoration-color: #000080\">│</span>\n",
       "<span style=\"color: #000080; text-decoration-color: #000080\">│</span>   <span style=\"color: #808000; text-decoration-color: #808000; font-style: italic\">rpartition</span> = <span style=\"color: #00ffff; text-decoration-color: #00ffff; font-style: italic\">def </span><span style=\"color: #800000; text-decoration-color: #800000; font-weight: bold\">rpartition</span><span style=\"font-weight: bold\">(</span>sep, <span style=\"color: #800080; text-decoration-color: #800080\">/</span><span style=\"font-weight: bold\">)</span>: <span style=\"color: #7f7f7f; text-decoration-color: #7f7f7f\">Partition the string into three parts using the </span>   <span style=\"color: #000080; text-decoration-color: #000080\">│</span>\n",
       "<span style=\"color: #000080; text-decoration-color: #000080\">│</span>                <span style=\"color: #7f7f7f; text-decoration-color: #7f7f7f\">given separator.</span>                                                           <span style=\"color: #000080; text-decoration-color: #000080\">│</span>\n",
       "<span style=\"color: #000080; text-decoration-color: #000080\">│</span>       <span style=\"color: #808000; text-decoration-color: #808000; font-style: italic\">rsplit</span> = <span style=\"color: #00ffff; text-decoration-color: #00ffff; font-style: italic\">def </span><span style=\"color: #800000; text-decoration-color: #800000; font-weight: bold\">rsplit</span><span style=\"font-weight: bold\">(</span><span style=\"color: #808000; text-decoration-color: #808000\">sep</span>=<span style=\"color: #800080; text-decoration-color: #800080; font-style: italic\">None</span>, <span style=\"color: #808000; text-decoration-color: #808000\">maxsplit</span>=<span style=\"color: #008080; text-decoration-color: #008080; font-weight: bold\">-1</span><span style=\"font-weight: bold\">)</span>: <span style=\"color: #7f7f7f; text-decoration-color: #7f7f7f\">Return a list of the words in the </span>      <span style=\"color: #000080; text-decoration-color: #000080\">│</span>\n",
       "<span style=\"color: #000080; text-decoration-color: #000080\">│</span>                <span style=\"color: #7f7f7f; text-decoration-color: #7f7f7f\">string, using sep as the delimiter string.</span>                                 <span style=\"color: #000080; text-decoration-color: #000080\">│</span>\n",
       "<span style=\"color: #000080; text-decoration-color: #000080\">│</span>       <span style=\"color: #808000; text-decoration-color: #808000; font-style: italic\">rstrip</span> = <span style=\"color: #00ffff; text-decoration-color: #00ffff; font-style: italic\">def </span><span style=\"color: #800000; text-decoration-color: #800000; font-weight: bold\">rstrip</span><span style=\"font-weight: bold\">(</span><span style=\"color: #808000; text-decoration-color: #808000\">chars</span>=<span style=\"color: #800080; text-decoration-color: #800080; font-style: italic\">None</span>, <span style=\"color: #800080; text-decoration-color: #800080\">/</span><span style=\"font-weight: bold\">)</span>: <span style=\"color: #7f7f7f; text-decoration-color: #7f7f7f\">Return a copy of the string with trailing </span>      <span style=\"color: #000080; text-decoration-color: #000080\">│</span>\n",
       "<span style=\"color: #000080; text-decoration-color: #000080\">│</span>                <span style=\"color: #7f7f7f; text-decoration-color: #7f7f7f\">whitespace removed.</span>                                                        <span style=\"color: #000080; text-decoration-color: #000080\">│</span>\n",
       "<span style=\"color: #000080; text-decoration-color: #000080\">│</span>        <span style=\"color: #808000; text-decoration-color: #808000; font-style: italic\">split</span> = <span style=\"color: #00ffff; text-decoration-color: #00ffff; font-style: italic\">def </span><span style=\"color: #800000; text-decoration-color: #800000; font-weight: bold\">split</span><span style=\"font-weight: bold\">(</span><span style=\"color: #808000; text-decoration-color: #808000\">sep</span>=<span style=\"color: #800080; text-decoration-color: #800080; font-style: italic\">None</span>, <span style=\"color: #808000; text-decoration-color: #808000\">maxsplit</span>=<span style=\"color: #008080; text-decoration-color: #008080; font-weight: bold\">-1</span><span style=\"font-weight: bold\">)</span>: <span style=\"color: #7f7f7f; text-decoration-color: #7f7f7f\">Return a list of the words in the </span>       <span style=\"color: #000080; text-decoration-color: #000080\">│</span>\n",
       "<span style=\"color: #000080; text-decoration-color: #000080\">│</span>                <span style=\"color: #7f7f7f; text-decoration-color: #7f7f7f\">string, using sep as the delimiter string.</span>                                 <span style=\"color: #000080; text-decoration-color: #000080\">│</span>\n",
       "<span style=\"color: #000080; text-decoration-color: #000080\">│</span>   <span style=\"color: #808000; text-decoration-color: #808000; font-style: italic\">splitlines</span> = <span style=\"color: #00ffff; text-decoration-color: #00ffff; font-style: italic\">def </span><span style=\"color: #800000; text-decoration-color: #800000; font-weight: bold\">splitlines</span><span style=\"font-weight: bold\">(</span><span style=\"color: #808000; text-decoration-color: #808000\">keepends</span>=<span style=\"color: #ff0000; text-decoration-color: #ff0000; font-style: italic\">False</span><span style=\"font-weight: bold\">)</span>: <span style=\"color: #7f7f7f; text-decoration-color: #7f7f7f\">Return a list of the lines in the string, </span> <span style=\"color: #000080; text-decoration-color: #000080\">│</span>\n",
       "<span style=\"color: #000080; text-decoration-color: #000080\">│</span>                <span style=\"color: #7f7f7f; text-decoration-color: #7f7f7f\">breaking at line boundaries.</span>                                               <span style=\"color: #000080; text-decoration-color: #000080\">│</span>\n",
       "<span style=\"color: #000080; text-decoration-color: #000080\">│</span>   <span style=\"color: #808000; text-decoration-color: #808000; font-style: italic\">startswith</span> = <span style=\"color: #00ffff; text-decoration-color: #00ffff; font-style: italic\">def </span><span style=\"color: #800000; text-decoration-color: #800000; font-weight: bold\">startswith</span><span style=\"font-weight: bold\">(</span><span style=\"color: #808000; text-decoration-color: #808000\">...</span><span style=\"font-weight: bold\">)</span> <span style=\"color: #bf7fbf; text-decoration-color: #bf7fbf; font-weight: bold\">S.startswith</span><span style=\"color: #7f7f7f; text-decoration-color: #7f7f7f; font-weight: bold\">(</span><span style=\"color: #7f7f7f; text-decoration-color: #7f7f7f\">prefix</span><span style=\"color: #7f7f7f; text-decoration-color: #7f7f7f; font-weight: bold\">[</span><span style=\"color: #7f7f7f; text-decoration-color: #7f7f7f\">, start</span><span style=\"color: #7f7f7f; text-decoration-color: #7f7f7f; font-weight: bold\">[</span><span style=\"color: #7f7f7f; text-decoration-color: #7f7f7f\">, end</span><span style=\"color: #7f7f7f; text-decoration-color: #7f7f7f; font-weight: bold\">]])</span><span style=\"color: #7f7f7f; text-decoration-color: #7f7f7f\"> -&gt; bool</span>           <span style=\"color: #000080; text-decoration-color: #000080\">│</span>\n",
       "<span style=\"color: #000080; text-decoration-color: #000080\">│</span>        <span style=\"color: #808000; text-decoration-color: #808000; font-style: italic\">strip</span> = <span style=\"color: #00ffff; text-decoration-color: #00ffff; font-style: italic\">def </span><span style=\"color: #800000; text-decoration-color: #800000; font-weight: bold\">strip</span><span style=\"font-weight: bold\">(</span><span style=\"color: #808000; text-decoration-color: #808000\">chars</span>=<span style=\"color: #800080; text-decoration-color: #800080; font-style: italic\">None</span>, <span style=\"color: #800080; text-decoration-color: #800080\">/</span><span style=\"font-weight: bold\">)</span>: <span style=\"color: #7f7f7f; text-decoration-color: #7f7f7f\">Return a copy of the string with leading and </span>    <span style=\"color: #000080; text-decoration-color: #000080\">│</span>\n",
       "<span style=\"color: #000080; text-decoration-color: #000080\">│</span>                <span style=\"color: #7f7f7f; text-decoration-color: #7f7f7f\">trailing whitespace removed.</span>                                               <span style=\"color: #000080; text-decoration-color: #000080\">│</span>\n",
       "<span style=\"color: #000080; text-decoration-color: #000080\">│</span>     <span style=\"color: #808000; text-decoration-color: #808000; font-style: italic\">swapcase</span> = <span style=\"color: #00ffff; text-decoration-color: #00ffff; font-style: italic\">def </span><span style=\"color: #800000; text-decoration-color: #800000; font-weight: bold\">swapcase</span><span style=\"font-weight: bold\">()</span>: <span style=\"color: #7f7f7f; text-decoration-color: #7f7f7f\">Convert uppercase characters to lowercase and lowercase </span>   <span style=\"color: #000080; text-decoration-color: #000080\">│</span>\n",
       "<span style=\"color: #000080; text-decoration-color: #000080\">│</span>                <span style=\"color: #7f7f7f; text-decoration-color: #7f7f7f\">characters to uppercase.</span>                                                   <span style=\"color: #000080; text-decoration-color: #000080\">│</span>\n",
       "<span style=\"color: #000080; text-decoration-color: #000080\">│</span>        <span style=\"color: #808000; text-decoration-color: #808000; font-style: italic\">title</span> = <span style=\"color: #00ffff; text-decoration-color: #00ffff; font-style: italic\">def </span><span style=\"color: #800000; text-decoration-color: #800000; font-weight: bold\">title</span><span style=\"font-weight: bold\">()</span>: <span style=\"color: #7f7f7f; text-decoration-color: #7f7f7f\">Return a version of the string where each word is titlecased.</span> <span style=\"color: #000080; text-decoration-color: #000080\">│</span>\n",
       "<span style=\"color: #000080; text-decoration-color: #000080\">│</span>    <span style=\"color: #808000; text-decoration-color: #808000; font-style: italic\">translate</span> = <span style=\"color: #00ffff; text-decoration-color: #00ffff; font-style: italic\">def </span><span style=\"color: #800000; text-decoration-color: #800000; font-weight: bold\">translate</span><span style=\"font-weight: bold\">(</span>table, <span style=\"color: #800080; text-decoration-color: #800080\">/</span><span style=\"font-weight: bold\">)</span>: <span style=\"color: #7f7f7f; text-decoration-color: #7f7f7f\">Replace each character in the string using the </span>   <span style=\"color: #000080; text-decoration-color: #000080\">│</span>\n",
       "<span style=\"color: #000080; text-decoration-color: #000080\">│</span>                <span style=\"color: #7f7f7f; text-decoration-color: #7f7f7f\">given translation table.</span>                                                   <span style=\"color: #000080; text-decoration-color: #000080\">│</span>\n",
       "<span style=\"color: #000080; text-decoration-color: #000080\">│</span>        <span style=\"color: #808000; text-decoration-color: #808000; font-style: italic\">upper</span> = <span style=\"color: #00ffff; text-decoration-color: #00ffff; font-style: italic\">def </span><span style=\"color: #800000; text-decoration-color: #800000; font-weight: bold\">upper</span><span style=\"font-weight: bold\">()</span>: <span style=\"color: #7f7f7f; text-decoration-color: #7f7f7f\">Return a copy of the string converted to uppercase.</span>           <span style=\"color: #000080; text-decoration-color: #000080\">│</span>\n",
       "<span style=\"color: #000080; text-decoration-color: #000080\">│</span>        <span style=\"color: #808000; text-decoration-color: #808000; font-style: italic\">zfill</span> = <span style=\"color: #00ffff; text-decoration-color: #00ffff; font-style: italic\">def </span><span style=\"color: #800000; text-decoration-color: #800000; font-weight: bold\">zfill</span><span style=\"font-weight: bold\">(</span>width, <span style=\"color: #800080; text-decoration-color: #800080\">/</span><span style=\"font-weight: bold\">)</span>: <span style=\"color: #7f7f7f; text-decoration-color: #7f7f7f\">Pad a numeric string with zeros on the left, to fill </span> <span style=\"color: #000080; text-decoration-color: #000080\">│</span>\n",
       "<span style=\"color: #000080; text-decoration-color: #000080\">│</span>                <span style=\"color: #7f7f7f; text-decoration-color: #7f7f7f\">a field of the given width.</span>                                                <span style=\"color: #000080; text-decoration-color: #000080\">│</span>\n",
       "<span style=\"color: #000080; text-decoration-color: #000080\">╰───────────────────────────────────────────────────────────────────────────────────────────╯</span>\n",
       "</pre>\n"
      ],
      "text/plain": [
       "\u001b[34m╭─\u001b[0m\u001b[34m───────────────────────────────────── \u001b[0m\u001b[1;34m<\u001b[0m\u001b[1;95mclass\u001b[0m\u001b[39m \u001b[0m\u001b[32m'str'\u001b[0m\u001b[1;34m>\u001b[0m\u001b[34m ─────────────────────────────────────\u001b[0m\u001b[34m─╮\u001b[0m\n",
       "\u001b[34m│\u001b[0m \u001b[1;35mstr\u001b[0m\u001b[1;36m(\u001b[0m\u001b[33mobject\u001b[0m\u001b[36m=\u001b[0m\u001b[32m''\u001b[0m\u001b[1;36m)\u001b[0m\u001b[36m -> str\u001b[0m                                                                     \u001b[34m│\u001b[0m\n",
       "\u001b[34m│\u001b[0m \u001b[1;35mstr\u001b[0m\u001b[1;36m(\u001b[0m\u001b[36mbytes_or_buffer\u001b[0m\u001b[1;36m[\u001b[0m\u001b[36m, encoding\u001b[0m\u001b[1;36m[\u001b[0m\u001b[36m, errors\u001b[0m\u001b[1;36m]\u001b[0m\u001b[1;36m]\u001b[0m\u001b[1;36m)\u001b[0m\u001b[36m -> str\u001b[0m                                         \u001b[34m│\u001b[0m\n",
       "\u001b[34m│\u001b[0m                                                                                           \u001b[34m│\u001b[0m\n",
       "\u001b[34m│\u001b[0m \u001b[32m╭───────────────────────────────────────────────────────────────────────────────────────╮\u001b[0m \u001b[34m│\u001b[0m\n",
       "\u001b[34m│\u001b[0m \u001b[32m│\u001b[0m \u001b[32m'hello'\u001b[0m                                                                               \u001b[32m│\u001b[0m \u001b[34m│\u001b[0m\n",
       "\u001b[34m│\u001b[0m \u001b[32m╰───────────────────────────────────────────────────────────────────────────────────────╯\u001b[0m \u001b[34m│\u001b[0m\n",
       "\u001b[34m│\u001b[0m                                                                                           \u001b[34m│\u001b[0m\n",
       "\u001b[34m│\u001b[0m   \u001b[3;33mcapitalize\u001b[0m = \u001b[3;96mdef \u001b[0m\u001b[1;31mcapitalize\u001b[0m\u001b[1m(\u001b[0m\u001b[1m)\u001b[0m: \u001b[2mReturn a capitalized version of the string.\u001b[0m              \u001b[34m│\u001b[0m\n",
       "\u001b[34m│\u001b[0m     \u001b[3;33mcasefold\u001b[0m = \u001b[3;96mdef \u001b[0m\u001b[1;31mcasefold\u001b[0m\u001b[1m(\u001b[0m\u001b[1m)\u001b[0m: \u001b[2mReturn a version of the string suitable for caseless \u001b[0m      \u001b[34m│\u001b[0m\n",
       "\u001b[34m│\u001b[0m                \u001b[2mcomparisons.\u001b[0m                                                               \u001b[34m│\u001b[0m\n",
       "\u001b[34m│\u001b[0m       \u001b[3;33mcenter\u001b[0m = \u001b[3;96mdef \u001b[0m\u001b[1;31mcenter\u001b[0m\u001b[1m(\u001b[0mwidth, \u001b[33mfillchar\u001b[0m=\u001b[32m' '\u001b[0m, \u001b[35m/\u001b[0m\u001b[1m)\u001b[0m: \u001b[2mReturn a centered string of length \u001b[0m    \u001b[34m│\u001b[0m\n",
       "\u001b[34m│\u001b[0m                \u001b[2mwidth.\u001b[0m                                                                     \u001b[34m│\u001b[0m\n",
       "\u001b[34m│\u001b[0m        \u001b[3;33mcount\u001b[0m = \u001b[3;96mdef \u001b[0m\u001b[1;31mcount\u001b[0m\u001b[1m(\u001b[0m\u001b[33m...\u001b[0m\u001b[1m)\u001b[0m \u001b[1;2;35mS.count\u001b[0m\u001b[1;2m(\u001b[0m\u001b[2msub\u001b[0m\u001b[1;2m[\u001b[0m\u001b[2m, start\u001b[0m\u001b[1;2m[\u001b[0m\u001b[2m, end\u001b[0m\u001b[1;2m]\u001b[0m\u001b[1;2m]\u001b[0m\u001b[1;2m)\u001b[0m\u001b[2m -> int\u001b[0m                         \u001b[34m│\u001b[0m\n",
       "\u001b[34m│\u001b[0m       \u001b[3;33mencode\u001b[0m = \u001b[3;96mdef \u001b[0m\u001b[1;31mencode\u001b[0m\u001b[1m(\u001b[0m\u001b[33mencoding\u001b[0m=\u001b[32m'utf-8'\u001b[0m, \u001b[33merrors\u001b[0m=\u001b[32m'strict'\u001b[0m\u001b[1m)\u001b[0m: \u001b[2mEncode the string using the\u001b[0m \u001b[34m│\u001b[0m\n",
       "\u001b[34m│\u001b[0m                \u001b[2mcodec registered for encoding.\u001b[0m                                             \u001b[34m│\u001b[0m\n",
       "\u001b[34m│\u001b[0m     \u001b[3;33mendswith\u001b[0m = \u001b[3;96mdef \u001b[0m\u001b[1;31mendswith\u001b[0m\u001b[1m(\u001b[0m\u001b[33m...\u001b[0m\u001b[1m)\u001b[0m \u001b[1;2;35mS.endswith\u001b[0m\u001b[1;2m(\u001b[0m\u001b[2msuffix\u001b[0m\u001b[1;2m[\u001b[0m\u001b[2m, start\u001b[0m\u001b[1;2m[\u001b[0m\u001b[2m, end\u001b[0m\u001b[1;2m]\u001b[0m\u001b[1;2m]\u001b[0m\u001b[1;2m)\u001b[0m\u001b[2m -> bool\u001b[0m               \u001b[34m│\u001b[0m\n",
       "\u001b[34m│\u001b[0m   \u001b[3;33mexpandtabs\u001b[0m = \u001b[3;96mdef \u001b[0m\u001b[1;31mexpandtabs\u001b[0m\u001b[1m(\u001b[0m\u001b[33mtabsize\u001b[0m=\u001b[1;36m8\u001b[0m\u001b[1m)\u001b[0m: \u001b[2mReturn a copy where all tab characters are \u001b[0m     \u001b[34m│\u001b[0m\n",
       "\u001b[34m│\u001b[0m                \u001b[2mexpanded using spaces.\u001b[0m                                                     \u001b[34m│\u001b[0m\n",
       "\u001b[34m│\u001b[0m         \u001b[3;33mfind\u001b[0m = \u001b[3;96mdef \u001b[0m\u001b[1;31mfind\u001b[0m\u001b[1m(\u001b[0m\u001b[33m...\u001b[0m\u001b[1m)\u001b[0m \u001b[1;2;35mS.find\u001b[0m\u001b[1;2m(\u001b[0m\u001b[2msub\u001b[0m\u001b[1;2m[\u001b[0m\u001b[2m, start\u001b[0m\u001b[1;2m[\u001b[0m\u001b[2m, end\u001b[0m\u001b[1;2m]\u001b[0m\u001b[1;2m]\u001b[0m\u001b[1;2m)\u001b[0m\u001b[2m -> int\u001b[0m                           \u001b[34m│\u001b[0m\n",
       "\u001b[34m│\u001b[0m       \u001b[3;33mformat\u001b[0m = \u001b[3;96mdef \u001b[0m\u001b[1;31mformat\u001b[0m\u001b[1m(\u001b[0m\u001b[33m...\u001b[0m\u001b[1m)\u001b[0m \u001b[1;2;35mS.format\u001b[0m\u001b[1;2m(\u001b[0m\u001b[2m*args, **kwargs\u001b[0m\u001b[1;2m)\u001b[0m\u001b[2m -> str\u001b[0m                           \u001b[34m│\u001b[0m\n",
       "\u001b[34m│\u001b[0m   \u001b[3;33mformat_map\u001b[0m = \u001b[3;96mdef \u001b[0m\u001b[1;31mformat_map\u001b[0m\u001b[1m(\u001b[0m\u001b[33m...\u001b[0m\u001b[1m)\u001b[0m \u001b[1;2;35mS.format_map\u001b[0m\u001b[1;2m(\u001b[0m\u001b[2mmapping\u001b[0m\u001b[1;2m)\u001b[0m\u001b[2m -> str\u001b[0m                           \u001b[34m│\u001b[0m\n",
       "\u001b[34m│\u001b[0m        \u001b[3;33mindex\u001b[0m = \u001b[3;96mdef \u001b[0m\u001b[1;31mindex\u001b[0m\u001b[1m(\u001b[0m\u001b[33m...\u001b[0m\u001b[1m)\u001b[0m \u001b[1;2;35mS.index\u001b[0m\u001b[1;2m(\u001b[0m\u001b[2msub\u001b[0m\u001b[1;2m[\u001b[0m\u001b[2m, start\u001b[0m\u001b[1;2m[\u001b[0m\u001b[2m, end\u001b[0m\u001b[1;2m]\u001b[0m\u001b[1;2m]\u001b[0m\u001b[1;2m)\u001b[0m\u001b[2m -> int\u001b[0m                         \u001b[34m│\u001b[0m\n",
       "\u001b[34m│\u001b[0m      \u001b[3;33misalnum\u001b[0m = \u001b[3;96mdef \u001b[0m\u001b[1;31misalnum\u001b[0m\u001b[1m(\u001b[0m\u001b[1m)\u001b[0m: \u001b[2mReturn \u001b[0m\u001b[2;3;92mTrue\u001b[0m\u001b[2m if the string is an alpha-numeric string, \u001b[0m\u001b[2;3;91mFalse\u001b[0m \u001b[34m│\u001b[0m\n",
       "\u001b[34m│\u001b[0m                \u001b[2motherwise.\u001b[0m                                                                 \u001b[34m│\u001b[0m\n",
       "\u001b[34m│\u001b[0m      \u001b[3;33misalpha\u001b[0m = \u001b[3;96mdef \u001b[0m\u001b[1;31misalpha\u001b[0m\u001b[1m(\u001b[0m\u001b[1m)\u001b[0m: \u001b[2mReturn \u001b[0m\u001b[2;3;92mTrue\u001b[0m\u001b[2m if the string is an alphabetic string, \u001b[0m\u001b[2;3;91mFalse\u001b[0m\u001b[2m \u001b[0m   \u001b[34m│\u001b[0m\n",
       "\u001b[34m│\u001b[0m                \u001b[2motherwise.\u001b[0m                                                                 \u001b[34m│\u001b[0m\n",
       "\u001b[34m│\u001b[0m      \u001b[3;33misascii\u001b[0m = \u001b[3;96mdef \u001b[0m\u001b[1;31misascii\u001b[0m\u001b[1m(\u001b[0m\u001b[1m)\u001b[0m: \u001b[2mReturn \u001b[0m\u001b[2;3;92mTrue\u001b[0m\u001b[2m if all characters in the string are ASCII, \u001b[0m     \u001b[34m│\u001b[0m\n",
       "\u001b[34m│\u001b[0m                \u001b[2;3;91mFalse\u001b[0m\u001b[2m otherwise.\u001b[0m                                                           \u001b[34m│\u001b[0m\n",
       "\u001b[34m│\u001b[0m    \u001b[3;33misdecimal\u001b[0m = \u001b[3;96mdef \u001b[0m\u001b[1;31misdecimal\u001b[0m\u001b[1m(\u001b[0m\u001b[1m)\u001b[0m: \u001b[2mReturn \u001b[0m\u001b[2;3;92mTrue\u001b[0m\u001b[2m if the string is a decimal string, \u001b[0m\u001b[2;3;91mFalse\u001b[0m\u001b[2m \u001b[0m     \u001b[34m│\u001b[0m\n",
       "\u001b[34m│\u001b[0m                \u001b[2motherwise.\u001b[0m                                                                 \u001b[34m│\u001b[0m\n",
       "\u001b[34m│\u001b[0m      \u001b[3;33misdigit\u001b[0m = \u001b[3;96mdef \u001b[0m\u001b[1;31misdigit\u001b[0m\u001b[1m(\u001b[0m\u001b[1m)\u001b[0m: \u001b[2mReturn \u001b[0m\u001b[2;3;92mTrue\u001b[0m\u001b[2m if the string is a digit string, \u001b[0m\u001b[2;3;91mFalse\u001b[0m\u001b[2m \u001b[0m         \u001b[34m│\u001b[0m\n",
       "\u001b[34m│\u001b[0m                \u001b[2motherwise.\u001b[0m                                                                 \u001b[34m│\u001b[0m\n",
       "\u001b[34m│\u001b[0m \u001b[3;33misidentifier\u001b[0m = \u001b[3;96mdef \u001b[0m\u001b[1;31misidentifier\u001b[0m\u001b[1m(\u001b[0m\u001b[1m)\u001b[0m: \u001b[2mReturn \u001b[0m\u001b[2;3;92mTrue\u001b[0m\u001b[2m if the string is a valid Python \u001b[0m           \u001b[34m│\u001b[0m\n",
       "\u001b[34m│\u001b[0m                \u001b[2midentifier, \u001b[0m\u001b[2;3;91mFalse\u001b[0m\u001b[2m otherwise.\u001b[0m                                               \u001b[34m│\u001b[0m\n",
       "\u001b[34m│\u001b[0m      \u001b[3;33mislower\u001b[0m = \u001b[3;96mdef \u001b[0m\u001b[1;31mislower\u001b[0m\u001b[1m(\u001b[0m\u001b[1m)\u001b[0m: \u001b[2mReturn \u001b[0m\u001b[2;3;92mTrue\u001b[0m\u001b[2m if the string is a lowercase string, \u001b[0m\u001b[2;3;91mFalse\u001b[0m\u001b[2m \u001b[0m     \u001b[34m│\u001b[0m\n",
       "\u001b[34m│\u001b[0m                \u001b[2motherwise.\u001b[0m                                                                 \u001b[34m│\u001b[0m\n",
       "\u001b[34m│\u001b[0m    \u001b[3;33misnumeric\u001b[0m = \u001b[3;96mdef \u001b[0m\u001b[1;31misnumeric\u001b[0m\u001b[1m(\u001b[0m\u001b[1m)\u001b[0m: \u001b[2mReturn \u001b[0m\u001b[2;3;92mTrue\u001b[0m\u001b[2m if the string is a numeric string, \u001b[0m\u001b[2;3;91mFalse\u001b[0m\u001b[2m \u001b[0m     \u001b[34m│\u001b[0m\n",
       "\u001b[34m│\u001b[0m                \u001b[2motherwise.\u001b[0m                                                                 \u001b[34m│\u001b[0m\n",
       "\u001b[34m│\u001b[0m  \u001b[3;33misprintable\u001b[0m = \u001b[3;96mdef \u001b[0m\u001b[1;31misprintable\u001b[0m\u001b[1m(\u001b[0m\u001b[1m)\u001b[0m: \u001b[2mReturn \u001b[0m\u001b[2;3;92mTrue\u001b[0m\u001b[2m if the string is printable, \u001b[0m\u001b[2;3;91mFalse\u001b[0m\u001b[2m \u001b[0m          \u001b[34m│\u001b[0m\n",
       "\u001b[34m│\u001b[0m                \u001b[2motherwise.\u001b[0m                                                                 \u001b[34m│\u001b[0m\n",
       "\u001b[34m│\u001b[0m      \u001b[3;33misspace\u001b[0m = \u001b[3;96mdef \u001b[0m\u001b[1;31misspace\u001b[0m\u001b[1m(\u001b[0m\u001b[1m)\u001b[0m: \u001b[2mReturn \u001b[0m\u001b[2;3;92mTrue\u001b[0m\u001b[2m if the string is a whitespace string, \u001b[0m\u001b[2;3;91mFalse\u001b[0m\u001b[2m \u001b[0m    \u001b[34m│\u001b[0m\n",
       "\u001b[34m│\u001b[0m                \u001b[2motherwise.\u001b[0m                                                                 \u001b[34m│\u001b[0m\n",
       "\u001b[34m│\u001b[0m      \u001b[3;33mistitle\u001b[0m = \u001b[3;96mdef \u001b[0m\u001b[1;31mistitle\u001b[0m\u001b[1m(\u001b[0m\u001b[1m)\u001b[0m: \u001b[2mReturn \u001b[0m\u001b[2;3;92mTrue\u001b[0m\u001b[2m if the string is a title-cased string, \u001b[0m\u001b[2;3;91mFalse\u001b[0m\u001b[2m \u001b[0m   \u001b[34m│\u001b[0m\n",
       "\u001b[34m│\u001b[0m                \u001b[2motherwise.\u001b[0m                                                                 \u001b[34m│\u001b[0m\n",
       "\u001b[34m│\u001b[0m      \u001b[3;33misupper\u001b[0m = \u001b[3;96mdef \u001b[0m\u001b[1;31misupper\u001b[0m\u001b[1m(\u001b[0m\u001b[1m)\u001b[0m: \u001b[2mReturn \u001b[0m\u001b[2;3;92mTrue\u001b[0m\u001b[2m if the string is an uppercase string, \u001b[0m\u001b[2;3;91mFalse\u001b[0m\u001b[2m \u001b[0m    \u001b[34m│\u001b[0m\n",
       "\u001b[34m│\u001b[0m                \u001b[2motherwise.\u001b[0m                                                                 \u001b[34m│\u001b[0m\n",
       "\u001b[34m│\u001b[0m         \u001b[3;33mjoin\u001b[0m = \u001b[3;96mdef \u001b[0m\u001b[1;31mjoin\u001b[0m\u001b[1m(\u001b[0miterable, \u001b[35m/\u001b[0m\u001b[1m)\u001b[0m: \u001b[2mConcatenate any number of strings.\u001b[0m                  \u001b[34m│\u001b[0m\n",
       "\u001b[34m│\u001b[0m        \u001b[3;33mljust\u001b[0m = \u001b[3;96mdef \u001b[0m\u001b[1;31mljust\u001b[0m\u001b[1m(\u001b[0mwidth, \u001b[33mfillchar\u001b[0m=\u001b[32m' '\u001b[0m, \u001b[35m/\u001b[0m\u001b[1m)\u001b[0m: \u001b[2mReturn a left-justified string of \u001b[0m      \u001b[34m│\u001b[0m\n",
       "\u001b[34m│\u001b[0m                \u001b[2mlength width.\u001b[0m                                                              \u001b[34m│\u001b[0m\n",
       "\u001b[34m│\u001b[0m        \u001b[3;33mlower\u001b[0m = \u001b[3;96mdef \u001b[0m\u001b[1;31mlower\u001b[0m\u001b[1m(\u001b[0m\u001b[1m)\u001b[0m: \u001b[2mReturn a copy of the string converted to lowercase.\u001b[0m           \u001b[34m│\u001b[0m\n",
       "\u001b[34m│\u001b[0m       \u001b[3;33mlstrip\u001b[0m = \u001b[3;96mdef \u001b[0m\u001b[1;31mlstrip\u001b[0m\u001b[1m(\u001b[0m\u001b[33mchars\u001b[0m=\u001b[3;35mNone\u001b[0m, \u001b[35m/\u001b[0m\u001b[1m)\u001b[0m: \u001b[2mReturn a copy of the string with leading \u001b[0m       \u001b[34m│\u001b[0m\n",
       "\u001b[34m│\u001b[0m                \u001b[2mwhitespace removed.\u001b[0m                                                        \u001b[34m│\u001b[0m\n",
       "\u001b[34m│\u001b[0m    \u001b[3;33mmaketrans\u001b[0m = \u001b[3;96mdef \u001b[0m\u001b[1;31mmaketrans\u001b[0m\u001b[1m(\u001b[0m\u001b[33m...\u001b[0m\u001b[1m)\u001b[0m \u001b[2mReturn a translation table usable for \u001b[0m\u001b[1;2;35mstr.translate\u001b[0m\u001b[1;2m(\u001b[0m\u001b[1;2m)\u001b[0m\u001b[2m.\u001b[0m  \u001b[34m│\u001b[0m\n",
       "\u001b[34m│\u001b[0m    \u001b[3;33mpartition\u001b[0m = \u001b[3;96mdef \u001b[0m\u001b[1;31mpartition\u001b[0m\u001b[1m(\u001b[0msep, \u001b[35m/\u001b[0m\u001b[1m)\u001b[0m: \u001b[2mPartition the string into three parts using the \u001b[0m    \u001b[34m│\u001b[0m\n",
       "\u001b[34m│\u001b[0m                \u001b[2mgiven separator.\u001b[0m                                                           \u001b[34m│\u001b[0m\n",
       "\u001b[34m│\u001b[0m      \u001b[3;33mreplace\u001b[0m = \u001b[3;96mdef \u001b[0m\u001b[1;31mreplace\u001b[0m\u001b[1m(\u001b[0mold, new, \u001b[33mcount\u001b[0m=\u001b[1;36m-1\u001b[0m, \u001b[35m/\u001b[0m\u001b[1m)\u001b[0m: \u001b[2mReturn a copy with all occurrences of \u001b[0m \u001b[34m│\u001b[0m\n",
       "\u001b[34m│\u001b[0m                \u001b[2msubstring old replaced by new.\u001b[0m                                             \u001b[34m│\u001b[0m\n",
       "\u001b[34m│\u001b[0m        \u001b[3;33mrfind\u001b[0m = \u001b[3;96mdef \u001b[0m\u001b[1;31mrfind\u001b[0m\u001b[1m(\u001b[0m\u001b[33m...\u001b[0m\u001b[1m)\u001b[0m \u001b[1;2;35mS.rfind\u001b[0m\u001b[1;2m(\u001b[0m\u001b[2msub\u001b[0m\u001b[1;2m[\u001b[0m\u001b[2m, start\u001b[0m\u001b[1;2m[\u001b[0m\u001b[2m, end\u001b[0m\u001b[1;2m]\u001b[0m\u001b[1;2m]\u001b[0m\u001b[1;2m)\u001b[0m\u001b[2m -> int\u001b[0m                         \u001b[34m│\u001b[0m\n",
       "\u001b[34m│\u001b[0m       \u001b[3;33mrindex\u001b[0m = \u001b[3;96mdef \u001b[0m\u001b[1;31mrindex\u001b[0m\u001b[1m(\u001b[0m\u001b[33m...\u001b[0m\u001b[1m)\u001b[0m \u001b[1;2;35mS.rindex\u001b[0m\u001b[1;2m(\u001b[0m\u001b[2msub\u001b[0m\u001b[1;2m[\u001b[0m\u001b[2m, start\u001b[0m\u001b[1;2m[\u001b[0m\u001b[2m, end\u001b[0m\u001b[1;2m]\u001b[0m\u001b[1;2m]\u001b[0m\u001b[1;2m)\u001b[0m\u001b[2m -> int\u001b[0m                       \u001b[34m│\u001b[0m\n",
       "\u001b[34m│\u001b[0m        \u001b[3;33mrjust\u001b[0m = \u001b[3;96mdef \u001b[0m\u001b[1;31mrjust\u001b[0m\u001b[1m(\u001b[0mwidth, \u001b[33mfillchar\u001b[0m=\u001b[32m' '\u001b[0m, \u001b[35m/\u001b[0m\u001b[1m)\u001b[0m: \u001b[2mReturn a right-justified string of \u001b[0m     \u001b[34m│\u001b[0m\n",
       "\u001b[34m│\u001b[0m                \u001b[2mlength width.\u001b[0m                                                              \u001b[34m│\u001b[0m\n",
       "\u001b[34m│\u001b[0m   \u001b[3;33mrpartition\u001b[0m = \u001b[3;96mdef \u001b[0m\u001b[1;31mrpartition\u001b[0m\u001b[1m(\u001b[0msep, \u001b[35m/\u001b[0m\u001b[1m)\u001b[0m: \u001b[2mPartition the string into three parts using the \u001b[0m   \u001b[34m│\u001b[0m\n",
       "\u001b[34m│\u001b[0m                \u001b[2mgiven separator.\u001b[0m                                                           \u001b[34m│\u001b[0m\n",
       "\u001b[34m│\u001b[0m       \u001b[3;33mrsplit\u001b[0m = \u001b[3;96mdef \u001b[0m\u001b[1;31mrsplit\u001b[0m\u001b[1m(\u001b[0m\u001b[33msep\u001b[0m=\u001b[3;35mNone\u001b[0m, \u001b[33mmaxsplit\u001b[0m=\u001b[1;36m-1\u001b[0m\u001b[1m)\u001b[0m: \u001b[2mReturn a list of the words in the \u001b[0m      \u001b[34m│\u001b[0m\n",
       "\u001b[34m│\u001b[0m                \u001b[2mstring, using sep as the delimiter string.\u001b[0m                                 \u001b[34m│\u001b[0m\n",
       "\u001b[34m│\u001b[0m       \u001b[3;33mrstrip\u001b[0m = \u001b[3;96mdef \u001b[0m\u001b[1;31mrstrip\u001b[0m\u001b[1m(\u001b[0m\u001b[33mchars\u001b[0m=\u001b[3;35mNone\u001b[0m, \u001b[35m/\u001b[0m\u001b[1m)\u001b[0m: \u001b[2mReturn a copy of the string with trailing \u001b[0m      \u001b[34m│\u001b[0m\n",
       "\u001b[34m│\u001b[0m                \u001b[2mwhitespace removed.\u001b[0m                                                        \u001b[34m│\u001b[0m\n",
       "\u001b[34m│\u001b[0m        \u001b[3;33msplit\u001b[0m = \u001b[3;96mdef \u001b[0m\u001b[1;31msplit\u001b[0m\u001b[1m(\u001b[0m\u001b[33msep\u001b[0m=\u001b[3;35mNone\u001b[0m, \u001b[33mmaxsplit\u001b[0m=\u001b[1;36m-1\u001b[0m\u001b[1m)\u001b[0m: \u001b[2mReturn a list of the words in the \u001b[0m       \u001b[34m│\u001b[0m\n",
       "\u001b[34m│\u001b[0m                \u001b[2mstring, using sep as the delimiter string.\u001b[0m                                 \u001b[34m│\u001b[0m\n",
       "\u001b[34m│\u001b[0m   \u001b[3;33msplitlines\u001b[0m = \u001b[3;96mdef \u001b[0m\u001b[1;31msplitlines\u001b[0m\u001b[1m(\u001b[0m\u001b[33mkeepends\u001b[0m=\u001b[3;91mFalse\u001b[0m\u001b[1m)\u001b[0m: \u001b[2mReturn a list of the lines in the string, \u001b[0m \u001b[34m│\u001b[0m\n",
       "\u001b[34m│\u001b[0m                \u001b[2mbreaking at line boundaries.\u001b[0m                                               \u001b[34m│\u001b[0m\n",
       "\u001b[34m│\u001b[0m   \u001b[3;33mstartswith\u001b[0m = \u001b[3;96mdef \u001b[0m\u001b[1;31mstartswith\u001b[0m\u001b[1m(\u001b[0m\u001b[33m...\u001b[0m\u001b[1m)\u001b[0m \u001b[1;2;35mS.startswith\u001b[0m\u001b[1;2m(\u001b[0m\u001b[2mprefix\u001b[0m\u001b[1;2m[\u001b[0m\u001b[2m, start\u001b[0m\u001b[1;2m[\u001b[0m\u001b[2m, end\u001b[0m\u001b[1;2m]\u001b[0m\u001b[1;2m]\u001b[0m\u001b[1;2m)\u001b[0m\u001b[2m -> bool\u001b[0m           \u001b[34m│\u001b[0m\n",
       "\u001b[34m│\u001b[0m        \u001b[3;33mstrip\u001b[0m = \u001b[3;96mdef \u001b[0m\u001b[1;31mstrip\u001b[0m\u001b[1m(\u001b[0m\u001b[33mchars\u001b[0m=\u001b[3;35mNone\u001b[0m, \u001b[35m/\u001b[0m\u001b[1m)\u001b[0m: \u001b[2mReturn a copy of the string with leading and \u001b[0m    \u001b[34m│\u001b[0m\n",
       "\u001b[34m│\u001b[0m                \u001b[2mtrailing whitespace removed.\u001b[0m                                               \u001b[34m│\u001b[0m\n",
       "\u001b[34m│\u001b[0m     \u001b[3;33mswapcase\u001b[0m = \u001b[3;96mdef \u001b[0m\u001b[1;31mswapcase\u001b[0m\u001b[1m(\u001b[0m\u001b[1m)\u001b[0m: \u001b[2mConvert uppercase characters to lowercase and lowercase \u001b[0m   \u001b[34m│\u001b[0m\n",
       "\u001b[34m│\u001b[0m                \u001b[2mcharacters to uppercase.\u001b[0m                                                   \u001b[34m│\u001b[0m\n",
       "\u001b[34m│\u001b[0m        \u001b[3;33mtitle\u001b[0m = \u001b[3;96mdef \u001b[0m\u001b[1;31mtitle\u001b[0m\u001b[1m(\u001b[0m\u001b[1m)\u001b[0m: \u001b[2mReturn a version of the string where each word is titlecased.\u001b[0m \u001b[34m│\u001b[0m\n",
       "\u001b[34m│\u001b[0m    \u001b[3;33mtranslate\u001b[0m = \u001b[3;96mdef \u001b[0m\u001b[1;31mtranslate\u001b[0m\u001b[1m(\u001b[0mtable, \u001b[35m/\u001b[0m\u001b[1m)\u001b[0m: \u001b[2mReplace each character in the string using the \u001b[0m   \u001b[34m│\u001b[0m\n",
       "\u001b[34m│\u001b[0m                \u001b[2mgiven translation table.\u001b[0m                                                   \u001b[34m│\u001b[0m\n",
       "\u001b[34m│\u001b[0m        \u001b[3;33mupper\u001b[0m = \u001b[3;96mdef \u001b[0m\u001b[1;31mupper\u001b[0m\u001b[1m(\u001b[0m\u001b[1m)\u001b[0m: \u001b[2mReturn a copy of the string converted to uppercase.\u001b[0m           \u001b[34m│\u001b[0m\n",
       "\u001b[34m│\u001b[0m        \u001b[3;33mzfill\u001b[0m = \u001b[3;96mdef \u001b[0m\u001b[1;31mzfill\u001b[0m\u001b[1m(\u001b[0mwidth, \u001b[35m/\u001b[0m\u001b[1m)\u001b[0m: \u001b[2mPad a numeric string with zeros on the left, to fill \u001b[0m \u001b[34m│\u001b[0m\n",
       "\u001b[34m│\u001b[0m                \u001b[2ma field of the given width.\u001b[0m                                                \u001b[34m│\u001b[0m\n",
       "\u001b[34m╰───────────────────────────────────────────────────────────────────────────────────────────╯\u001b[0m\n"
      ]
     },
     "metadata": {},
     "output_type": "display_data"
    },
    {
     "name": "stdout",
     "output_type": "stream",
     "text": [
      "None\n"
     ]
    }
   ],
   "source": [
    "from rich import inspect\n",
    "\n",
    "print(inspect('hello', methods=True))"
   ]
  },
  {
   "cell_type": "markdown",
   "id": "1413fae1",
   "metadata": {},
   "source": [
    "### Rich’s Console: Debug your Python Function in One Line of Code"
   ]
  },
  {
   "cell_type": "code",
   "execution_count": null,
   "id": "39316dda",
   "metadata": {
    "tags": [
     "hide-cell"
    ]
   },
   "outputs": [],
   "source": [
    "!pip install rich "
   ]
  },
  {
   "cell_type": "markdown",
   "id": "e591d55a",
   "metadata": {},
   "source": [
    "Sometimes, you might want to know which elements in the function created a certain output. Instead of printing every variable in the function, you can simply use Rich’s `Console` object to print both the output and all the variables in the function."
   ]
  },
  {
   "cell_type": "code",
   "execution_count": 7,
   "id": "e728aac5",
   "metadata": {
    "ExecuteTime": {
     "end_time": "2021-09-12T13:12:24.610176Z",
     "start_time": "2021-09-12T13:12:24.341535Z"
    }
   },
   "outputs": [
    {
     "data": {
      "text/html": [
       "<pre style=\"white-space:pre;overflow-x:auto;line-height:normal;font-family:Menlo,'DejaVu Sans Mono',consolas,'Courier New',monospace\"><span style=\"color: #7fbfbf; text-decoration-color: #7fbfbf\">[08:12:24] </span>    a  b                                                          <a href=\"file:///tmp/ipykernel_174022/1165738010.py\"><span style=\"color: #7f7f7f; text-decoration-color: #7f7f7f\">1165738010.py</span></a><span style=\"color: #7f7f7f; text-decoration-color: #7f7f7f\">:14</span>\n",
       "           <span style=\"color: #008080; text-decoration-color: #008080; font-weight: bold\">0</span>  <span style=\"color: #008080; text-decoration-color: #008080; font-weight: bold\">45</span>  <span style=\"color: #008080; text-decoration-color: #008080; font-weight: bold\">4</span>                                                                          \n",
       "           <span style=\"color: #008080; text-decoration-color: #008080; font-weight: bold\">1</span>  <span style=\"color: #008080; text-decoration-color: #008080; font-weight: bold\">30</span>  <span style=\"color: #008080; text-decoration-color: #008080; font-weight: bold\">5</span>                                                                          \n",
       "           <span style=\"color: #008080; text-decoration-color: #008080; font-weight: bold\">2</span>  <span style=\"color: #008080; text-decoration-color: #008080; font-weight: bold\">75</span>  <span style=\"color: #008080; text-decoration-color: #008080; font-weight: bold\">6</span>                                                                          \n",
       "           <span style=\"color: #000080; text-decoration-color: #000080\">╭───── </span><span style=\"color: #000080; text-decoration-color: #000080; font-style: italic\">locals</span><span style=\"color: #000080; text-decoration-color: #000080\"> ─────╮</span>                                                              \n",
       "           <span style=\"color: #000080; text-decoration-color: #000080\">│</span>  <span style=\"color: #808000; text-decoration-color: #808000; font-style: italic\">data</span><span style=\"color: #800000; text-decoration-color: #800000\"> =</span>     a  b <span style=\"color: #000080; text-decoration-color: #000080\">│</span>                                                              \n",
       "           <span style=\"color: #000080; text-decoration-color: #000080\">│</span>         <span style=\"color: #008080; text-decoration-color: #008080; font-weight: bold\">0</span>  <span style=\"color: #008080; text-decoration-color: #008080; font-weight: bold\">45</span>  <span style=\"color: #008080; text-decoration-color: #008080; font-weight: bold\">4</span> <span style=\"color: #000080; text-decoration-color: #000080\">│</span>                                                              \n",
       "           <span style=\"color: #000080; text-decoration-color: #000080\">│</span>         <span style=\"color: #008080; text-decoration-color: #008080; font-weight: bold\">1</span>  <span style=\"color: #008080; text-decoration-color: #008080; font-weight: bold\">30</span>  <span style=\"color: #008080; text-decoration-color: #008080; font-weight: bold\">5</span> <span style=\"color: #000080; text-decoration-color: #000080\">│</span>                                                              \n",
       "           <span style=\"color: #000080; text-decoration-color: #000080\">│</span>         <span style=\"color: #008080; text-decoration-color: #008080; font-weight: bold\">2</span>  <span style=\"color: #008080; text-decoration-color: #008080; font-weight: bold\">75</span>  <span style=\"color: #008080; text-decoration-color: #008080; font-weight: bold\">6</span> <span style=\"color: #000080; text-decoration-color: #000080\">│</span>                                                              \n",
       "           <span style=\"color: #000080; text-decoration-color: #000080\">│</span> <span style=\"color: #808000; text-decoration-color: #808000; font-style: italic\">var_1</span><span style=\"color: #800000; text-decoration-color: #800000\"> =</span> <span style=\"color: #008080; text-decoration-color: #008080; font-weight: bold\">45</span>       <span style=\"color: #000080; text-decoration-color: #000080\">│</span>                                                              \n",
       "           <span style=\"color: #000080; text-decoration-color: #000080\">│</span> <span style=\"color: #808000; text-decoration-color: #808000; font-style: italic\">var_2</span><span style=\"color: #800000; text-decoration-color: #800000\"> =</span> <span style=\"color: #008080; text-decoration-color: #008080; font-weight: bold\">30</span>       <span style=\"color: #000080; text-decoration-color: #000080\">│</span>                                                              \n",
       "           <span style=\"color: #000080; text-decoration-color: #000080\">│</span> <span style=\"color: #808000; text-decoration-color: #808000; font-style: italic\">var_3</span><span style=\"color: #800000; text-decoration-color: #800000\"> =</span> <span style=\"color: #008080; text-decoration-color: #008080; font-weight: bold\">75</span>       <span style=\"color: #000080; text-decoration-color: #000080\">│</span>                                                              \n",
       "           <span style=\"color: #000080; text-decoration-color: #000080\">╰──────────────────╯</span>                                                              \n",
       "</pre>\n"
      ],
      "text/plain": [
       "\u001b[2;36m[08:12:24]\u001b[0m\u001b[2;36m \u001b[0m    a  b                                                          \u001b]8;id=137856;file:///tmp/ipykernel_174022/1165738010.py\u001b\\\u001b[2m1165738010.py\u001b[0m\u001b]8;;\u001b\\\u001b[2m:14\u001b[0m\n",
       "           \u001b[1;36m0\u001b[0m  \u001b[1;36m45\u001b[0m  \u001b[1;36m4\u001b[0m                                                                          \n",
       "           \u001b[1;36m1\u001b[0m  \u001b[1;36m30\u001b[0m  \u001b[1;36m5\u001b[0m                                                                          \n",
       "           \u001b[1;36m2\u001b[0m  \u001b[1;36m75\u001b[0m  \u001b[1;36m6\u001b[0m                                                                          \n",
       "           \u001b[34m╭─\u001b[0m\u001b[34m──── \u001b[0m\u001b[3;34mlocals\u001b[0m\u001b[34m ────\u001b[0m\u001b[34m─╮\u001b[0m                                                              \n",
       "           \u001b[34m│\u001b[0m  \u001b[3;33mdata\u001b[0m\u001b[31m =\u001b[0m     a  b \u001b[34m│\u001b[0m                                                              \n",
       "           \u001b[34m│\u001b[0m         \u001b[1;36m0\u001b[0m  \u001b[1;36m45\u001b[0m  \u001b[1;36m4\u001b[0m \u001b[34m│\u001b[0m                                                              \n",
       "           \u001b[34m│\u001b[0m         \u001b[1;36m1\u001b[0m  \u001b[1;36m30\u001b[0m  \u001b[1;36m5\u001b[0m \u001b[34m│\u001b[0m                                                              \n",
       "           \u001b[34m│\u001b[0m         \u001b[1;36m2\u001b[0m  \u001b[1;36m75\u001b[0m  \u001b[1;36m6\u001b[0m \u001b[34m│\u001b[0m                                                              \n",
       "           \u001b[34m│\u001b[0m \u001b[3;33mvar_1\u001b[0m\u001b[31m =\u001b[0m \u001b[1;36m45\u001b[0m       \u001b[34m│\u001b[0m                                                              \n",
       "           \u001b[34m│\u001b[0m \u001b[3;33mvar_2\u001b[0m\u001b[31m =\u001b[0m \u001b[1;36m30\u001b[0m       \u001b[34m│\u001b[0m                                                              \n",
       "           \u001b[34m│\u001b[0m \u001b[3;33mvar_3\u001b[0m\u001b[31m =\u001b[0m \u001b[1;36m75\u001b[0m       \u001b[34m│\u001b[0m                                                              \n",
       "           \u001b[34m╰──────────────────╯\u001b[0m                                                              \n"
      ]
     },
     "metadata": {},
     "output_type": "display_data"
    }
   ],
   "source": [
    "from rich import console\n",
    "from rich.console import Console \n",
    "import pandas as pd \n",
    "\n",
    "console = Console()\n",
    "\n",
    "data = pd.DataFrame({'a': [1, 2, 3], 'b': [4, 5, 6]})\n",
    "\n",
    "def edit_data(data):\n",
    "    var_1 = 45\n",
    "    var_2 = 30\n",
    "    var_3 = var_1 + var_2\n",
    "    data['a'] = [var_1, var_2, var_3]\n",
    "    console.log(data, log_locals=True)\n",
    "\n",
    "edit_data(data)"
   ]
  },
  {
   "cell_type": "markdown",
   "id": "62ffcf85",
   "metadata": {},
   "source": [
    "[Link to my article about rich](https://towardsdatascience.com/rich-generate-rich-and-beautiful-text-in-the-terminal-with-python-541f39abf32e).\n",
    "\n",
    "[Link to rich](https://github.com/willmcgugan/rich)."
   ]
  },
  {
   "attachments": {},
   "cell_type": "markdown",
   "id": "db50094b",
   "metadata": {},
   "source": [
    "### Simplify Python Logging with Loguru"
   ]
  },
  {
   "attachments": {},
   "cell_type": "markdown",
   "id": "6f30417a",
   "metadata": {},
   "source": [
    "Are you struggling with the complexity of configuring a logger object before logging in Python? With Loguru, you can skip this step and use the logger object directly with pre-built color and format settings.\n",
    "\n",
    "Here is the comparison between the standard Python logging library and Loguru:"
   ]
  },
  {
   "attachments": {},
   "cell_type": "markdown",
   "id": "1658416e",
   "metadata": {},
   "source": [
    "Standard Python logging library:"
   ]
  },
  {
   "attachments": {},
   "cell_type": "markdown",
   "id": "5b665c1e",
   "metadata": {},
   "source": [
    "```python\n",
    "# loguru_vs_logging/logging_example.py\n",
    "\n",
    "import logging\n",
    "\n",
    "logging.basicConfig(format='%(asctime)s | %(levelname)s | %(module)s:%(funcName)s:%(lineno)d | %(message)s', level=logging.DEBUG)\n",
    "\n",
    "def main():\n",
    "    logging.debug('This is a debug message')\n",
    "    logging.info('This is an info message')\n",
    "    logging.warning('This is a warning message')\n",
    "    logging.error('This is an error message')\n",
    "    logging.critical('This is a critical message')\n",
    "\n",
    "if __name__ == '__main__':\n",
    "    main()\n",
    "```"
   ]
  },
  {
   "attachments": {},
   "cell_type": "markdown",
   "id": "2b17bb17",
   "metadata": {},
   "source": [
    "```bash\n",
    "$ python loguru_vs_logging/logging_example.py\n",
    "\n",
    "2023-03-13 08:46:30,802 | DEBUG | logging_example:main:6 | This is a debug message\n",
    "2023-03-13 08:46:30,802 | INFO | logging_example:main:7 | This is an info message\n",
    "2023-03-13 08:46:30,802 | WARNING | logging_example:main:8 | This is a warning message\n",
    "2023-03-13 08:46:30,802 | ERROR | logging_example:main:9 | This is an error message\n",
    "2023-03-13 08:46:30,802 | CRITICAL | logging_example:main:10 | This is a critical message\n",
    "```"
   ]
  },
  {
   "attachments": {},
   "cell_type": "markdown",
   "id": "65997789",
   "metadata": {},
   "source": [
    "Loguru:"
   ]
  },
  {
   "attachments": {},
   "cell_type": "markdown",
   "id": "7b9de68d",
   "metadata": {},
   "source": [
    "```python\n",
    "# loguru_vs_logging/loguru_example.py\n",
    "from loguru import logger\n",
    "\n",
    "def main():\n",
    "    logger.debug(\"This is a debug message\")\n",
    "    logger.info(\"This is an info message\")\n",
    "    logger.warning(\"This is a warning message\")\n",
    "    logger.error(\"This is an error message\")\n",
    "    logger.critical(\"This is a critical message\")\n",
    "\n",
    "\n",
    "if __name__ == '__main__':\n",
    "    main()\n",
    "```\n"
   ]
  },
  {
   "attachments": {},
   "cell_type": "markdown",
   "id": "b6306bbc",
   "metadata": {},
   "source": [
    "```bash\n",
    "$ python loguru_vs_logging/loguru_example.py\n",
    "```\n",
    "![](../img/loguru_output.png)"
   ]
  },
  {
   "attachments": {},
   "cell_type": "markdown",
   "id": "3a00f431",
   "metadata": {},
   "source": [
    "[Link to loguru](https://github.com/Delgan/loguru). "
   ]
  },
  {
   "cell_type": "markdown",
   "id": "b8e85d9e",
   "metadata": {},
   "source": [
    "### loguru: Print Readable Traceback in Python\n"
   ]
  },
  {
   "cell_type": "code",
   "execution_count": null,
   "id": "b7e73e8b",
   "metadata": {
    "tags": [
     "hide-cell"
    ]
   },
   "outputs": [],
   "source": [
    "!pip install loguru "
   ]
  },
  {
   "attachments": {},
   "cell_type": "markdown",
   "id": "232a4763",
   "metadata": {},
   "source": [
    "Loguru also allows you to print a readable traceback by adding decorator `logger.catch` to a function. "
   ]
  },
  {
   "cell_type": "code",
   "execution_count": null,
   "id": "9f6a8fc2",
   "metadata": {
    "ExecuteTime": {
     "end_time": "2021-09-12T13:13:20.721670Z",
     "start_time": "2021-09-12T13:13:20.283582Z"
    },
    "tags": [
     "hide-output"
    ]
   },
   "outputs": [],
   "source": [
    "from sklearn.metrics import mean_squared_error\n",
    "import numpy as np\n",
    "from loguru import logger\n",
    "\n",
    "logger.add(\"file_{time}.log\", format=\"{time} {level} {message}\")\n",
    "\n",
    "@logger.catch\n",
    "def evaluate_result(y_true: np.array, y_pred: np.array):\n",
    "    mean_square_err = mean_squared_error(y_true, y_pred)\n",
    "    root_mean_square_err = mean_square_err ** 0.5\n",
    "\n",
    "y_true = np.array([1, 2, 3])\n",
    "y_pred = np.array([1.5, 2.2])\n",
    "evaluate_result(y_true, y_pred)"
   ]
  },
  {
   "cell_type": "markdown",
   "id": "41e013ab",
   "metadata": {},
   "source": [
    "```bash\n",
    "> File \"/tmp/ipykernel_174022/1865479429.py\", line 14, in <module>\n",
    "    evaluate_result(y_true, y_pred)\n",
    "    │               │       └ array([1.5, 2.2])\n",
    "    │               └ array([1, 2, 3])\n",
    "    └ <function evaluate_result at 0x7f279588f430>\n",
    "\n",
    "  File \"/tmp/ipykernel_174022/1865479429.py\", line 9, in evaluate_result\n",
    "    mean_square_err = mean_squared_error(y_true, y_pred)\n",
    "                      │                  │       └ array([1.5, 2.2])\n",
    "                      │                  └ array([1, 2, 3])\n",
    "                      └ <function mean_squared_error at 0x7f27958bfca0>\n",
    "\n",
    "  File \"/home/khuyen/book/venv/lib/python3.8/site-packages/sklearn/utils/validation.py\", line 63, in inner_f\n",
    "    return f(*args, **kwargs)\n",
    "           │  │       └ {}\n",
    "           │  └ (array([1, 2, 3]), array([1.5, 2.2]))\n",
    "           └ <function mean_squared_error at 0x7f27958bfb80>\n",
    "  File \"/home/khuyen/book/venv/lib/python3.8/site-packages/sklearn/metrics/_regression.py\", line 335, in mean_squared_error\n",
    "    y_type, y_true, y_pred, multioutput = _check_reg_targets(\n",
    "            │       │                     └ <function _check_reg_targets at 0x7f27958b7af0>\n",
    "            │       └ array([1.5, 2.2])\n",
    "            └ array([1, 2, 3])\n",
    "  File \"/home/khuyen/book/venv/lib/python3.8/site-packages/sklearn/metrics/_regression.py\", line 88, in _check_reg_targets\n",
    "    check_consistent_length(y_true, y_pred)\n",
    "    │                       │       └ array([1.5, 2.2])\n",
    "    │                       └ array([1, 2, 3])\n",
    "    └ <function check_consistent_length at 0x7f279676e040>\n",
    "  File \"/home/khuyen/book/venv/lib/python3.8/site-packages/sklearn/utils/validation.py\", line 319, in check_consistent_length\n",
    "    raise ValueError(\"Found input variables with inconsistent numbers of\"\n",
    "\n",
    "ValueError: Found input variables with inconsistent numbers of samples: [3, 2]\n",
    "```"
   ]
  },
  {
   "cell_type": "markdown",
   "id": "7dc20183",
   "metadata": {},
   "source": [
    "[Link to loguru](https://github.com/Delgan/loguru). "
   ]
  },
  {
   "cell_type": "markdown",
   "id": "fbca6ebe",
   "metadata": {},
   "source": [
    "### Icecream: Never use print() to debug again"
   ]
  },
  {
   "cell_type": "code",
   "execution_count": null,
   "id": "76068fe7",
   "metadata": {
    "tags": [
     "hide-cell"
    ]
   },
   "outputs": [],
   "source": [
    "!pip install icecream"
   ]
  },
  {
   "cell_type": "markdown",
   "id": "8ecb687c",
   "metadata": {},
   "source": [
    "If you use print or log to debug your code, you might be confused about which line of code creates the output, especially when there are many outputs.\n",
    "\n",
    "You might insert text to make it less confusing, but it is time-consuming."
   ]
  },
  {
   "cell_type": "code",
   "execution_count": 1,
   "id": "afda73d8",
   "metadata": {
    "ExecuteTime": {
     "end_time": "2021-09-13T00:46:48.804579Z",
     "start_time": "2021-09-13T00:46:48.698532Z"
    }
   },
   "outputs": [
    {
     "name": "stdout",
     "output_type": "stream",
     "text": [
      "output of plus_on with num = 1: 2\n",
      "output of plus_on with num = 2: 3\n"
     ]
    }
   ],
   "source": [
    "from icecream import ic\n",
    "\n",
    "def plus_one(num):\n",
    "    return num + 1\n",
    "\n",
    "print('output of plus_on with num = 1:', plus_one(1))\n",
    "print('output of plus_on with num = 2:', plus_one(2))"
   ]
  },
  {
   "cell_type": "markdown",
   "id": "9631d040",
   "metadata": {},
   "source": [
    "Try icecream instead. Icrecream inspects itself and prints both its own arguments and the values of those arguments like below."
   ]
  },
  {
   "cell_type": "code",
   "execution_count": 2,
   "id": "b405e597",
   "metadata": {
    "ExecuteTime": {
     "end_time": "2021-09-13T00:47:24.357292Z",
     "start_time": "2021-09-13T00:47:24.224399Z"
    },
    "tags": [
     "hide-output"
    ]
   },
   "outputs": [
    {
     "name": "stderr",
     "output_type": "stream",
     "text": [
      "ic| plus_one(1): 2\n",
      "ic| plus_one(2): 3\n"
     ]
    },
    {
     "data": {
      "text/plain": [
       "3"
      ]
     },
     "execution_count": 2,
     "metadata": {},
     "output_type": "execute_result"
    }
   ],
   "source": [
    "ic(plus_one(1))\n",
    "ic(plus_one(2))"
   ]
  },
  {
   "cell_type": "markdown",
   "id": "1949e455",
   "metadata": {},
   "source": [
    "Output:\n",
    "```bash  \n",
    "ic| plus_one(1): 2\n",
    "ic| plus_one(2): 3\n",
    "```"
   ]
  },
  {
   "cell_type": "markdown",
   "id": "6a460c8d",
   "metadata": {},
   "source": [
    "[Link to icecream](https://github.com/gruns/icecream)\n",
    "\n",
    "[Link to my article about icecream](https://towardsdatascience.com/stop-using-print-to-debug-in-python-use-icecream-instead-79e17b963fcc)"
   ]
  },
  {
   "cell_type": "markdown",
   "id": "a7a76765",
   "metadata": {},
   "source": [
    "### heartrate — Visualize the Execution of a Python Program in Real-Time"
   ]
  },
  {
   "cell_type": "code",
   "execution_count": null,
   "id": "dcf71fe3",
   "metadata": {
    "tags": [
     "hide-cell"
    ]
   },
   "outputs": [],
   "source": [
    "!pip install heartrate "
   ]
  },
  {
   "cell_type": "markdown",
   "id": "edbb4e18",
   "metadata": {},
   "source": [
    "If you want to visualize which lines are executed and how many times they are executed, try heartrate.\n",
    "\n",
    "You only need to add two lines of code to use heartrate."
   ]
  },
  {
   "cell_type": "code",
   "execution_count": 3,
   "id": "62682ff4",
   "metadata": {
    "ExecuteTime": {
     "end_time": "2021-09-12T13:21:14.106919Z",
     "start_time": "2021-09-12T13:21:13.849102Z"
    },
    "tags": [
     "hide-output"
    ]
   },
   "outputs": [
    {
     "name": "stdout",
     "output_type": "stream",
     "text": [
      " * Serving Flask app 'heartrate.core'\n",
      " * Debug mode: off\n"
     ]
    },
    {
     "name": "stderr",
     "output_type": "stream",
     "text": [
      "Address already in use\n",
      "Port 9999 is in use by another program. Either identify and stop that program, or start the server with a different port.\n"
     ]
    },
    {
     "name": "stdout",
     "output_type": "stream",
     "text": [
      "The factorial of 5 is 120\n"
     ]
    }
   ],
   "source": [
    "import heartrate \n",
    "heartrate.trace(browser=True)\n",
    "\n",
    "def factorial(x):\n",
    "    if x == 1:\n",
    "        return 1\n",
    "    else:\n",
    "        return (x * factorial(x-1))\n",
    "\n",
    "\n",
    "if __name__ == \"__main__\":\n",
    "    num = 5\n",
    "    print(f\"The factorial of {num} is {factorial(num)}\")"
   ]
  },
  {
   "attachments": {},
   "cell_type": "markdown",
   "id": "c3e2a319",
   "metadata": {},
   "source": [
    "You should see something similar to the below when opening the browser:\n",
    "\n",
    "![image](../img/heartrate.png)"
   ]
  },
  {
   "cell_type": "markdown",
   "id": "ee7355d4",
   "metadata": {},
   "source": [
    "[Link to heartrate](https://github.com/alexmojaki/heartrate)."
   ]
  },
  {
   "attachments": {},
   "cell_type": "markdown",
   "id": "e24466de",
   "metadata": {},
   "source": [
    "### pyheat: Simplify Code Profiling with Heatmap Visualization "
   ]
  },
  {
   "cell_type": "code",
   "execution_count": null,
   "id": "a92f33b6",
   "metadata": {
    "tags": [
     "hide-cell"
    ]
   },
   "outputs": [],
   "source": [
    "!pip install py-heat "
   ]
  },
  {
   "attachments": {},
   "cell_type": "markdown",
   "id": "d6209f82",
   "metadata": {},
   "source": [
    "Profiling your code is helpful, but looking at data in a table can be a real headache. Wouldn't it be nice if you could see your code's time distribution as a heatmap? That is when pyheat comes in handy. "
   ]
  },
  {
   "cell_type": "code",
   "execution_count": 2,
   "id": "b9b90dde",
   "metadata": {
    "tags": [
     "remove-cell"
    ]
   },
   "outputs": [],
   "source": [
    "import warnings\n",
    "\n",
    "warnings.simplefilter(\"ignore\", UserWarning)"
   ]
  },
  {
   "cell_type": "code",
   "execution_count": 1,
   "id": "83c09096",
   "metadata": {},
   "outputs": [
    {
     "name": "stdout",
     "output_type": "stream",
     "text": [
      "Writing pyheat_example.py\n"
     ]
    }
   ],
   "source": [
    "%%writefile pyheat_example.py\n",
    "def factorial(x):\n",
    "    if x == 1:\n",
    "        return 1\n",
    "    else:\n",
    "        return (x * factorial(x-1))\n",
    "\n",
    "\n",
    "if __name__ == \"__main__\":\n",
    "    num = 5\n",
    "    factorial(num)"
   ]
  },
  {
   "cell_type": "code",
   "execution_count": 4,
   "id": "66f6fa7d",
   "metadata": {},
   "outputs": [
    {
     "data": {
      "image/png": "[encoded data removed]",
      "text/plain": [
       "<Figure size 462.5x333.333 with 2 Axes>"
      ]
     },
     "metadata": {},
     "output_type": "display_data"
    }
   ],
   "source": [
    "from pyheat import PyHeat\n",
    "\n",
    "ph = PyHeat(\"pyheat_example.py\") # file you want to profile\n",
    "ph.create_heatmap()\n",
    "ph.show_heatmap()\n"
   ]
  },
  {
   "attachments": {},
   "cell_type": "markdown",
   "id": "18ce7d49",
   "metadata": {},
   "source": [
    "[Link to pyheat](https://github.com/csurfer/pyheat)."
   ]
  },
  {
   "cell_type": "markdown",
   "id": "aa65fdd1",
   "metadata": {},
   "source": [
    "### snoop : Smart Print to Debug your Python Function"
   ]
  },
  {
   "cell_type": "code",
   "execution_count": 1,
   "id": "9645aa71",
   "metadata": {
    "ExecuteTime": {
     "end_time": "2022-02-12T16:18:52.602398Z",
     "start_time": "2022-02-12T16:18:37.259042Z"
    },
    "tags": [
     "hide-cell"
    ]
   },
   "outputs": [],
   "source": [
    "!pip install snoop"
   ]
  },
  {
   "cell_type": "markdown",
   "id": "52749ad6",
   "metadata": {},
   "source": [
    "If you want to figure out what is happening in your code without adding many print statements, try snoop.\n",
    "\n",
    "To use snoop, simply add the `@snoop` decorator to a function you want to understand."
   ]
  },
  {
   "cell_type": "code",
   "execution_count": 2,
   "id": "8a5de2a3",
   "metadata": {
    "ExecuteTime": {
     "end_time": "2022-02-12T16:19:00.792100Z",
     "start_time": "2022-02-12T16:18:59.345358Z"
    }
   },
   "outputs": [
    {
     "name": "stderr",
     "output_type": "stream",
     "text": [
      "10:19:00.73 >>> Call to factorial in File \"<ipython-input-2-57aff36d5f6d>\", line 4\n",
      "10:19:00.73 ...... x = 5\n",
      "10:19:00.73    4 | def factorial(x):\n",
      "10:19:00.73    5 |     if x == 1:\n",
      "10:19:00.73    8 |         return (x * factorial(x-1))\n",
      "    10:19:00.74 >>> Call to factorial in File \"<ipython-input-2-57aff36d5f6d>\", line 4\n",
      "    10:19:00.74 ...... x = 4\n",
      "    10:19:00.74    4 | def factorial(x):\n",
      "    10:19:00.74    5 |     if x == 1:\n",
      "    10:19:00.74    8 |         return (x * factorial(x-1))\n",
      "        10:19:00.74 >>> Call to factorial in File \"<ipython-input-2-57aff36d5f6d>\", line 4\n",
      "        10:19:00.74 ...... x = 3\n",
      "        10:19:00.74    4 | def factorial(x):\n",
      "        10:19:00.74    5 |     if x == 1:\n",
      "        10:19:00.75    8 |         return (x * factorial(x-1))\n",
      "            10:19:00.75 >>> Call to factorial in File \"<ipython-input-2-57aff36d5f6d>\", line 4\n",
      "            10:19:00.75 ...... x = 2\n",
      "            10:19:00.75    4 | def factorial(x):\n",
      "            10:19:00.75    5 |     if x == 1:\n",
      "            10:19:00.75    8 |         return (x * factorial(x-1))\n",
      "                10:19:00.75 >>> Call to factorial in File \"<ipython-input-2-57aff36d5f6d>\", line 4\n",
      "                10:19:00.75 ...... x = 1\n",
      "                10:19:00.75    4 | def factorial(x):\n",
      "                10:19:00.76    5 |     if x == 1:\n",
      "                10:19:00.76    6 |         return 1\n",
      "                10:19:00.76 <<< Return value from factorial: 1\n",
      "            10:19:00.76    8 |         return (x * factorial(x-1))\n",
      "            10:19:00.77 <<< Return value from factorial: 2\n",
      "        10:19:00.77    8 |         return (x * factorial(x-1))\n",
      "        10:19:00.77 <<< Return value from factorial: 6\n",
      "    10:19:00.77    8 |         return (x * factorial(x-1))\n",
      "    10:19:00.77 <<< Return value from factorial: 24\n",
      "10:19:00.78    8 |         return (x * factorial(x-1))\n",
      "10:19:00.78 <<< Return value from factorial: 120\n"
     ]
    },
    {
     "name": "stdout",
     "output_type": "stream",
     "text": [
      "The factorial of 5 is 120\n"
     ]
    }
   ],
   "source": [
    "import snoop \n",
    "\n",
    "@snoop\n",
    "def factorial(x):\n",
    "    if x == 1:\n",
    "        return 1\n",
    "    else:\n",
    "        return (x * factorial(x-1))\n",
    "\n",
    "\n",
    "if __name__ == \"__main__\":\n",
    "    num = 5\n",
    "    print(f\"The factorial of {num} is {factorial(num)}\")"
   ]
  },
  {
   "cell_type": "markdown",
   "id": "80aa8756",
   "metadata": {},
   "source": [
    "### Logging in Pandas Pipelines"
   ]
  },
  {
   "cell_type": "code",
   "execution_count": null,
   "id": "21ee27e9",
   "metadata": {
    "tags": [
     "hide-cell"
    ]
   },
   "outputs": [],
   "source": [
    "!pip install scikit-lego"
   ]
  },
  {
   "cell_type": "markdown",
   "id": "076f9a48",
   "metadata": {},
   "source": [
    "When using pandas pipe, you might want to check whether each pipeline transforms your pandas DataFrame correctly. To automatically log the information of a pandas DataFrame after each pipeline, use the decorator `sklego.pandas_utils.log_step`."
   ]
  },
  {
   "cell_type": "code",
   "execution_count": 16,
   "id": "8b2f6584",
   "metadata": {},
   "outputs": [],
   "source": [
    "import pandas as pd \n",
    "from sklego.pandas_utils import log_step \n",
    "import logging "
   ]
  },
  {
   "cell_type": "code",
   "execution_count": 18,
   "id": "e2853b7f",
   "metadata": {},
   "outputs": [],
   "source": [
    "df = pd.DataFrame({\"col1\": [1, 2, 3], \"col2\": [\"a\", \"b\", \"c\"]})\n"
   ]
  },
  {
   "cell_type": "markdown",
   "id": "630be56e",
   "metadata": {},
   "source": [
    "To use `log_step`, simply use it as a decorator for functions being applied to your DataFrame. "
   ]
  },
  {
   "cell_type": "code",
   "execution_count": 30,
   "id": "fda131b0",
   "metadata": {},
   "outputs": [],
   "source": [
    "@log_step(print_fn=logging.info)\n",
    "def make_copy(df: pd.DataFrame):\n",
    "    return df.copy()\n",
    "\n",
    "\n",
    "@log_step(print_fn=logging.info)\n",
    "def drop_column(df: pd.DataFrame):\n",
    "    return df[[\"col2\"]]\n",
    "\n",
    "\n",
    "@log_step(print_fn=logging.info)\n",
    "def encode_cat_variables(df: pd.DataFrame):\n",
    "    df[\"col2\"] = df[\"col2\"].map({\"a\": 1, \"b\": 2, \"c\": 3})\n",
    "    return df\n"
   ]
  },
  {
   "cell_type": "code",
   "execution_count": 31,
   "id": "06148f26",
   "metadata": {},
   "outputs": [
    {
     "name": "stderr",
     "output_type": "stream",
     "text": [
      "INFO:root:[make_copy(df)] time=0:00:00.000239 n_obs=3, n_col=2\n",
      "INFO:root:[drop_column(df)] time=0:00:00.002117 n_obs=3, n_col=1\n",
      "INFO:root:[encode_cat_variables(df)] time=0:00:00.003217 n_obs=3, n_col=1\n"
     ]
    }
   ],
   "source": [
    "df = df.pipe(make_copy).pipe(drop_column).pipe(encode_cat_variables)\n"
   ]
  },
  {
   "cell_type": "markdown",
   "id": "2c3cc45a",
   "metadata": {},
   "source": [
    "Find more ways to customize your logging [here](https://scikit-lego.netlify.app/pandas_pipeline.html#Logging-in-method-chaining)"
   ]
  },
  {
   "cell_type": "markdown",
   "id": "ed6188d8",
   "metadata": {},
   "source": [
    "### Add Progress Bar to Your List Comprehension"
   ]
  },
  {
   "cell_type": "code",
   "execution_count": null,
   "id": "60ea530b",
   "metadata": {
    "ExecuteTime": {
     "end_time": "2022-03-02T14:45:09.140213Z",
     "start_time": "2022-03-02T14:44:53.209213Z"
    },
    "tags": [
     "hide-cell"
    ]
   },
   "outputs": [],
   "source": [
    "!pip install tqdm"
   ]
  },
  {
   "cell_type": "markdown",
   "id": "7d0f0573",
   "metadata": {},
   "source": [
    "If your for loop or list comprehension takes a long time to run, you might want to know which element is being processed. You can add clarity to your for-loop by using tqdm. Using tqdm with an iterable will show a progress bar. "
   ]
  },
  {
   "cell_type": "code",
   "execution_count": 17,
   "id": "ec72e964",
   "metadata": {
    "ExecuteTime": {
     "end_time": "2022-03-02T15:03:12.122211Z",
     "start_time": "2022-03-02T15:03:07.980707Z"
    }
   },
   "outputs": [
    {
     "data": {
      "application/vnd.jupyter.widget-view+json": {
       "model_id": "78436b84b937422894a28a9e2e75cc0e",
       "version_major": 2,
       "version_minor": 0
      },
      "text/plain": [
       "  0%|          | 0/4 [00:00<?, ?it/s]"
      ]
     },
     "metadata": {},
     "output_type": "display_data"
    },
    {
     "name": "stdout",
     "output_type": "stream",
     "text": [
      "Processing Duck\n",
      "Processing dog\n",
      "Processing Flower\n",
      "Processing fan\n"
     ]
    },
    {
     "data": {
      "text/plain": [
       "['duck', 'dog', 'flower', 'fan']"
      ]
     },
     "execution_count": 17,
     "metadata": {},
     "output_type": "execute_result"
    },
    {
     "data": {
      "application/javascript": "\n            setTimeout(function() {\n                var nbb_cell_id = 17;\n                var nbb_unformatted_code = \"from tqdm.notebook import tqdm\\nfrom time import sleep\\n\\n\\ndef lower(word):\\n    sleep(1)\\n    print(f\\\"Processing {word}\\\")\\n    return word.lower()\\n\\n\\nwords = tqdm([\\\"Duck\\\", \\\"dog\\\", \\\"Flower\\\", \\\"fan\\\"])\\n\\n[lower(word) for word in words]\";\n                var nbb_formatted_code = \"from tqdm.notebook import tqdm\\nfrom time import sleep\\n\\n\\ndef lower(word):\\n    sleep(1)\\n    print(f\\\"Processing {word}\\\")\\n    return word.lower()\\n\\n\\nwords = tqdm([\\\"Duck\\\", \\\"dog\\\", \\\"Flower\\\", \\\"fan\\\"])\\n\\n[lower(word) for word in words]\";\n                var nbb_cells = Jupyter.notebook.get_cells();\n                for (var i = 0; i < nbb_cells.length; ++i) {\n                    if (nbb_cells[i].input_prompt_number == nbb_cell_id) {\n                        if (nbb_cells[i].get_text() == nbb_unformatted_code) {\n                             nbb_cells[i].set_text(nbb_formatted_code);\n                        }\n                        break;\n                    }\n                }\n            }, 500);\n            ",
      "text/plain": [
       "<IPython.core.display.Javascript object>"
      ]
     },
     "metadata": {},
     "output_type": "display_data"
    }
   ],
   "source": [
    "from tqdm.notebook import tqdm\n",
    "from time import sleep\n",
    "\n",
    "\n",
    "def lower(word):\n",
    "    sleep(1)\n",
    "    print(f\"Processing {word}\")\n",
    "    return word.lower()\n",
    "\n",
    "\n",
    "words = tqdm([\"Duck\", \"dog\", \"Flower\", \"fan\"])\n",
    "\n",
    "[lower(word) for word in words]"
   ]
  },
  {
   "cell_type": "markdown",
   "id": "85860ac0",
   "metadata": {},
   "source": [
    "[Link to tqdm](https://github.com/tqdm/tqdm)."
   ]
  },
  {
   "cell_type": "markdown",
   "id": "c679feff",
   "metadata": {},
   "source": [
    "### Hyperfine: Compare the Speed of Two Commands"
   ]
  },
  {
   "cell_type": "markdown",
   "id": "1379cc56",
   "metadata": {},
   "source": [
    "If you want to compare the speed of two arbitrary commands, use hyperfine. hyperfine creates a statistical analysis across multiple runs and detects outliers.  \n",
    "\n",
    "In the code below, I use hyperfine to compare the execution speed of two Python files. "
   ]
  },
  {
   "cell_type": "markdown",
   "id": "fbf2163c",
   "metadata": {
    "ExecuteTime": {
     "end_time": "2022-06-20T15:13:10.024980Z",
     "start_time": "2022-06-20T15:12:38.410442Z"
    }
   },
   "source": [
    "```bash\n",
    "$ hyperfine 'python example1.py' 'python example2.py'\n",
    "```"
   ]
  },
  {
   "cell_type": "markdown",
   "id": "6cf0740a",
   "metadata": {},
   "source": [
    "![](../img/hyperfine.png)"
   ]
  },
  {
   "cell_type": "markdown",
   "id": "cc26ccc0",
   "metadata": {},
   "source": [
    "[Link to hyperfine](https://github.com/sharkdp/hyperfine)."
   ]
  },
  {
   "attachments": {},
   "cell_type": "markdown",
   "id": "e5057118",
   "metadata": {},
   "source": [
    "### Timeline View of the Execution of Your Python Functions"
   ]
  },
  {
   "attachments": {},
   "cell_type": "markdown",
   "id": "90f3bc28",
   "metadata": {},
   "source": [
    "Have you ever wanted to see a timeline graph showing how the execution of your functions takes place in time? Prefect now allows you to do exactly that. \n",
    "\n",
    "To use Prefect, simply add `@task` and `@flow` to your Python functions.\n",
    "\n",
    "```python\n",
    "from prefect import task, flow\n",
    "from time import sleep\n",
    "\n",
    "@task\n",
    "def task1(secs):\n",
    "    sleep(secs)\n",
    "\n",
    "@task \n",
    "def task2(secs):\n",
    "    sleep(secs)\n",
    "\n",
    "@flow\n",
    "def my_flow():\n",
    "    task1(2)\n",
    "    task2.submit(10)\n",
    "    task2.submit(2)\n",
    "\n",
    "my_flow()\n",
    "```\n",
    "\n",
    "When running this code, you should see the following on your [Prefect UI](https://docs.prefect.io/ui/overview/).\n",
    "\n",
    "![](../img/real_time_graph.gif)"
   ]
  },
  {
   "attachments": {},
   "cell_type": "markdown",
   "id": "af20e690",
   "metadata": {},
   "source": [
    "Check out the [getting started tutorials](https://docs.prefect.io/tutorials/first-steps/) for basic concepts of Prefect. "
   ]
  }
 ],
 "metadata": {
  "celltoolbar": "Tags",
  "hide_input": false,
  "kernelspec": {
   "display_name": "venv",
   "language": "python",
   "name": "python3"
  },
  "language_info": {
   "codemirror_mode": {
    "name": "ipython",
    "version": 3
   },
   "file_extension": ".py",
   "mimetype": "text/x-python",
   "name": "python",
   "nbconvert_exporter": "python",
   "pygments_lexer": "ipython3",
   "version": "3.9.6"
  },
  "toc": {
   "base_numbering": 1,
   "nav_menu": {},
   "number_sections": true,
   "sideBar": true,
   "skip_h1_title": false,
   "title_cell": "Table of Contents",
   "title_sidebar": "Contents",
   "toc_cell": false,
   "toc_position": {},
   "toc_section_display": true,
   "toc_window_display": false
  },
  "vscode": {
   "interpreter": {
    "hash": "c3bc044b9863ed6dec4c55e7ad5af27f030f7d27aed3f39d7a4886a926c4e2c1"
   }
  }
 },
 "nbformat": 4,
 "nbformat_minor": 5
}
