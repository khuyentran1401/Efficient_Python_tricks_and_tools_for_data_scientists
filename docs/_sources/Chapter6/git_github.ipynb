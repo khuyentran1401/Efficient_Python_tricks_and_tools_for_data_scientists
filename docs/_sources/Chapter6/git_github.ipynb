{
 "cells": [
  {
   "cell_type": "markdown",
   "id": "a7294fad",
   "metadata": {},
   "source": [
    "## Git and GitHub"
   ]
  },
  {
   "cell_type": "markdown",
   "id": "a6cc9819",
   "metadata": {},
   "source": [
    "![](../img/github.png)"
   ]
  },
  {
   "cell_type": "markdown",
   "id": "a4800286",
   "metadata": {},
   "source": [
    "This section shows some tricks and tools to work with Git and GitHub"
   ]
  },
  {
   "cell_type": "markdown",
   "id": "d9486f01",
   "metadata": {},
   "source": [
    "### GitHub CLI: Brings GitHub to Your Terminal"
   ]
  },
  {
   "cell_type": "markdown",
   "id": "39fb46e9",
   "metadata": {},
   "source": [
    "If you create a local folder before creating a GitHub repository for it, you might need to go to the GitHub website then create a new repository, then add a remote to your current folder. Is there any way that all of these steps could be done in the terminal in 1 line of code?\n",
    "\n",
    "That is when GitHub CLI  comes in handy. The code snippet below shows how to create a new Github repository in your local folder."
   ]
  },
  {
   "cell_type": "markdown",
   "id": "5518a80c",
   "metadata": {},
   "source": [
    "```bash\n",
    "$ cd your_local_folder\n",
    "\n",
    "# Create an empty local git repo\n",
    "$ git init\n",
    "\n",
    "# Create a new GitHub repo\n",
    "$ gh repo create\n",
    "```"
   ]
  },
  {
   "cell_type": "markdown",
   "id": "b2f37149",
   "metadata": {},
   "source": [
    "With GitHub CLI, you can also manage your pull requests, issues, repositories, gists, and so much more! Check out GitHub CLI [here](https://cli.github.com/)."
   ]
  },
  {
   "cell_type": "markdown",
   "id": "0cecaf4e",
   "metadata": {},
   "source": [
    "### Pull One File from Another Branch Using Git"
   ]
  },
  {
   "cell_type": "markdown",
   "id": "20b9b10e",
   "metadata": {},
   "source": [
    "Pull the files from another branch into your branch can be messy. What if you just want to pull one file from another branch? You can easily to like that with the code snippet below:"
   ]
  },
  {
   "cell_type": "markdown",
   "id": "8fca3aed",
   "metadata": {},
   "source": [
    "```bash\n",
    "# downloads contents from remote repository\n",
    "$ git fetch\n",
    "\n",
    "# navigate to another branch\n",
    "$ git checkout\n",
    "\n",
    "# adds a change in the working directory to the staging area\n",
    "$ git add \n",
    "\n",
    "# captures the state of a project at that point in time\n",
    "$ git commit\n",
    "```"
   ]
  },
  {
   "cell_type": "markdown",
   "id": "a72bbe99",
   "metadata": {},
   "source": [
    "Now you just update one file in your branch without messing with the rest!"
   ]
  },
  {
   "cell_type": "markdown",
   "id": "26850750",
   "metadata": {},
   "source": [
    "### Download a File on GitHub Using wget"
   ]
  },
  {
   "cell_type": "markdown",
   "id": "d5522a8b",
   "metadata": {},
   "source": [
    "If you want to download a file on Github such as a csv file, instead of cloning the repo, simply use the code snippet above. For example, if the website the file you want to extract is https://github.com/khuyentran1401/Data-science/blob/master/visualization/dropdown/population.csv, type:\n",
    "\n",
    "```bash\n",
    "$ wget https://raw.githubusercontent.com/khuyentran1401/Data-science/master/visualization/dropdown/population.csv\n",
    "```\n",
    "\n",
    "Now the data is in your directory!"
   ]
  },
  {
   "cell_type": "markdown",
   "id": "e7a1c347",
   "metadata": {},
   "source": [
    "### github1s: Read GitHub Code with VS Code on your Browser in One Second"
   ]
  },
  {
   "cell_type": "markdown",
   "id": "e4ffcd5f",
   "metadata": {},
   "source": [
    "Syntax highlighting in VS Code makes it easy for you to understand the source code. Is there a way that you can read GitHub code with VS Code in 1s?\n",
    "\n",
    "Yes, there is. Simply replace `github.com/yourname/repository` with `github1s.com/yourname/repository` to view Github with VS Code. It should show up like below.\n",
    "\n",
    "[Here](https://github1s.com/khuyentran1401/Data-science) is an example."
   ]
  },
  {
   "cell_type": "markdown",
   "id": "58d1fa23",
   "metadata": {},
   "source": [
    "![image](../img/github1s.png)"
   ]
  },
  {
   "cell_type": "markdown",
   "id": "af5b1003",
   "metadata": {},
   "source": [
    "### Astral: Organize Your Github Stars with Ease"
   ]
  },
  {
   "cell_type": "markdown",
   "id": "b040bcea",
   "metadata": {},
   "source": [
    "I have been sharing many tools and you might not be able to keep up with them. To save and organize the tools you discovered on Github, you can use Astral.\n",
    "\n",
    "With Astral, you can organize my starred Github repositories like below.\n",
    "\n",
    "I have been using this for months, and it is super quick when I want to find the right tool for my project."
   ]
  },
  {
   "cell_type": "markdown",
   "id": "c6a8880a",
   "metadata": {},
   "source": [
    "![image](../img/astral.png)"
   ]
  },
  {
   "cell_type": "markdown",
   "id": "f3898065",
   "metadata": {},
   "source": [
    "[Link to Astral](http://astralapp.com/)."
   ]
  },
  {
   "cell_type": "markdown",
   "id": "f9ed2468",
   "metadata": {},
   "source": [
    "### pip install -e: Install Forked GitHub Repository Using Pip"
   ]
  },
  {
   "cell_type": "markdown",
   "id": "36b36655",
   "metadata": {},
   "source": [
    "Sometimes, you might fork and make some changes to the original GitHub repository. If you want others to install your forked repo, use `pip install -e git+https://github.com/username/package.git#egg=package`.\n",
    "\n",
    "The code below shows how to install the forked repo of NumPy.\n",
    "\n",
    "```bash\n",
    "$ pip install -e git+https://github.com/khuyentran1401/numpy.git#egg=numpy \n",
    "```"
   ]
  },
  {
   "cell_type": "markdown",
   "id": "c0de9d6b",
   "metadata": {},
   "source": [
    "### git-open: Open a GitHub Page for a Local Repository"
   ]
  },
  {
   "cell_type": "markdown",
   "id": "d4745ec6",
   "metadata": {},
   "source": [
    "It can be a hassle to find a GitHub page for your local repository. \n",
    "\n",
    "git-open makes it easy to open a GitHub page for a repository with one command.\n",
    "\n",
    "![](../img/gitopen.gif)"
   ]
  },
  {
   "cell_type": "markdown",
   "id": "8ec00f66",
   "metadata": {},
   "source": [
    "[Link to git-open](https://github.com/paulirish/git-open)."
   ]
  },
  {
   "cell_type": "markdown",
   "id": "1b1bb820",
   "metadata": {},
   "source": [
    "### gpt-commit-summarizer: Automate Pull Request Summarization"
   ]
  },
  {
   "cell_type": "markdown",
   "id": "53e50b2c",
   "metadata": {},
   "source": [
    "gpt-commit-summarizer is a GitHub Action that leverages the power of GPT to summarize the changes made in a pull request.\n",
    "\n",
    "This eliminates the need for manual summarization, saving you valuable time, especially when dealing with numerous changes within a commit.\n",
    "\n",
    "![](../img/gpt-commit.gif)"
   ]
  },
  {
   "cell_type": "markdown",
   "id": "a76f4e89",
   "metadata": {},
   "source": [
    "To use gpt-commit-summarizer, simply add the the following workflow file to your repository:\n",
    "\n",
    "```yaml\n",
    "name: GPT Commits summarizer\n",
    "# Summary: This action will write a comment about every commit in a pull request, as well as generate a summary for every file that was modified and add it to the review page, compile a PR summary from all commit summaries and file diff summaries, and delete outdated code review comments\n",
    "\n",
    "on:\n",
    "  pull_request:\n",
    "    types: [opened, synchronize]\n",
    "\n",
    "jobs:\n",
    "  summarize:\n",
    "    runs-on: ubuntu-latest\n",
    "    permissions: write-all  # Some repositories need this line\n",
    "\n",
    "    steps:\n",
    "      - uses: KanHarI/gpt-commit-summarizer@master\n",
    "        env:\n",
    "          GITHUB_TOKEN: ${{ secrets.GITHUB_TOKEN }}\n",
    "          OPENAI_API_KEY: ${{ secrets.OPENAI_API_KEY }}\n",
    "```"
   ]
  },
  {
   "cell_type": "markdown",
   "id": "19671360",
   "metadata": {},
   "source": [
    "[Link to gpt-commit-summarizer](https://github.com/KanHarI/gpt-commit-summarizer/)."
   ]
  },
  {
   "cell_type": "markdown",
   "id": "562c5094",
   "metadata": {},
   "source": [
    "### Simplifying GitHub API Interactions with githubkit"
   ]
  },
  {
   "cell_type": "code",
   "execution_count": null,
   "id": "565b9620",
   "metadata": {
    "tags": [
     "hide-cell"
    ]
   },
   "outputs": [],
   "source": [
    "!pip install githubkit"
   ]
  },
  {
   "cell_type": "markdown",
   "id": "84e7ada7",
   "metadata": {},
   "source": [
    "Making API calls to GitHub and handling different response types and authentication methods often results in complex, hard-to-maintain code. Writing raw HTTP requests, managing tokens, and parsing JSON responses manually leads to verbose implementations and potential errors."
   ]
  },
  {
   "cell_type": "code",
   "execution_count": null,
   "id": "35c9ad04",
   "metadata": {},
   "outputs": [],
   "source": [
    "TOKEN = \"your_github_token\""
   ]
  },
  {
   "cell_type": "code",
   "execution_count": null,
   "id": "cb28c57e",
   "metadata": {},
   "outputs": [],
   "source": [
    "owner = \"khuyentran1401\"\n",
    "repo_name = \"Efficient_Python_tricks_and_tools_for_data_scientists\""
   ]
  },
  {
   "cell_type": "code",
   "execution_count": null,
   "id": "d87e271a",
   "metadata": {},
   "outputs": [],
   "source": [
    "import requests\n",
    "\n",
    "# Get repository info\n",
    "url = f\"https://api.github.com/repos/{owner}/{repo_name}\"\n",
    "\n",
    "headers = {\n",
    "    \"Authorization\": f\"Bearer {TOKEN}\",\n",
    "    \"Accept\": \"application/vnd.github.v3+json\",\n",
    "}\n",
    "response = requests.get(url, headers=headers)\n",
    "repo = response.json()"
   ]
  },
  {
   "cell_type": "code",
   "execution_count": null,
   "id": "9521dc1b",
   "metadata": {},
   "outputs": [],
   "source": [
    "print(f\"Name: {repo['name']}\")\n",
    "print(f\"Full Name: {repo['full_name']}\")\n",
    "print(f\"Description: {repo['description']}\")\n",
    "print(f\"Stars: {repo['stargazers_count']}\")\n",
    "print(f\"Forks: {repo['forks_count']}\")\n",
    "print(f\"Language: {repo['language']}\")\n",
    "print(f\"URL: {repo['html_url']}\")"
   ]
  },
  {
   "cell_type": "markdown",
   "id": "73dfd7a5",
   "metadata": {},
   "source": [
    "With githubkit, you can interact with GitHub's API using a clean, typed interface that supports both synchronous and asynchronous operations. You get automatic response parsing, built-in authentication handling, and comprehensive type hints."
   ]
  },
  {
   "cell_type": "code",
   "execution_count": null,
   "id": "b7dd6f12",
   "metadata": {},
   "outputs": [],
   "source": [
    "from githubkit import Response\n",
    "from githubkit.versions.latest.models import FullRepository\n",
    "from githubkit import GitHub\n",
    "\n",
    "github = GitHub(TOKEN)\n",
    "resp: Response[FullRepository] = github.rest.repos.get(owner, repo_name)\n",
    "repo: FullRepository = resp.parsed_data"
   ]
  },
  {
   "cell_type": "code",
   "execution_count": null,
   "id": "10756a4d",
   "metadata": {},
   "outputs": [],
   "source": [
    "print(f\"Name: {repo.name}\")\n",
    "print(f\"Full Name: {repo.full_name}\")\n",
    "print(f\"Description: {repo.description}\")\n",
    "print(f\"Stars: {repo.stargazers_count}\")\n",
    "print(f\"Forks: {repo.forks_count}\")\n",
    "print(f\"Language: {repo.language}\")\n",
    "print(f\"URL: {repo.html_url}\")"
   ]
  },
  {
   "cell_type": "markdown",
   "id": "6d8abf73",
   "metadata": {},
   "source": [
    "In this example, githubkit handles the authentication header, makes the API request, and automatically parses the response into a strongly-typed `FullRepository` object. The type hints provide IDE support and catch potential errors before runtime."
   ]
  },
  {
   "cell_type": "markdown",
   "id": "a249679a",
   "metadata": {},
   "source": [
    "[Link to githubkit](https://github.com/yanyongyu/githubkit)."
   ]
  }
 ],
 "metadata": {
  "jupytext": {
   "text_representation": {
    "extension": ".md",
    "format_name": "myst",
    "format_version": 0.13,
    "jupytext_version": "1.16.7"
   }
  },
  "kernelspec": {
   "display_name": "Python 3 (ipykernel)",
   "language": "python",
   "name": "python3"
  },
  "source_map": [
   12,
   16,
   20,
   24,
   28,
   34,
   46,
   50,
   54,
   58,
   74,
   78,
   82,
   93,
   97,
   105,
   109,
   113,
   121,
   125,
   129,
   133,
   143,
   147,
   155,
   159,
   163,
   171,
   196,
   200,
   204,
   208,
   213,
   217,
   222,
   236,
   244,
   248,
   258,
   266,
   270
  ]
 },
 "nbformat": 4,
 "nbformat_minor": 5
}