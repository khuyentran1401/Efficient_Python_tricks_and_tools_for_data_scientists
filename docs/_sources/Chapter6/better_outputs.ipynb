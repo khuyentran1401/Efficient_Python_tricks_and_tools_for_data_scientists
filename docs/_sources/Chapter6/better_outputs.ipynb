{
 "cells": [
  {
   "cell_type": "markdown",
   "id": "71a3f2cb",
   "metadata": {},
   "source": [
    "## Better Outputs"
   ]
  },
  {
   "cell_type": "markdown",
   "id": "da676f97",
   "metadata": {},
   "source": [
    "### How to Strip Outputs and Execute Interactive Code in a Python Script"
   ]
  },
  {
   "cell_type": "code",
   "execution_count": null,
   "id": "dac555ef",
   "metadata": {
    "tags": [
     "hide-cell"
    ]
   },
   "outputs": [],
   "source": [
    "!pip install strip-interactive"
   ]
  },
  {
   "cell_type": "markdown",
   "id": "114155c7",
   "metadata": {},
   "source": [
    "Have you ever seen a tutorial with an interactive Python code and wished to execute it in a Python script like above?\n",
    "\n",
    "It might be time-consuming to delete all `>>>` symbols and remove all outputs, especially when the code is long. That is why I created strip-interactive."
   ]
  },
  {
   "cell_type": "code",
   "execution_count": null,
   "id": "1bcb64a9",
   "metadata": {},
   "outputs": [],
   "source": [
    "from strip_interactive import run_interactive\n",
    "\n",
    "code = \"\"\"\n",
    ">>> import numpy as np\n",
    ">>> print(np.array([1,2,3]))\n",
    "[1 2 3]\n",
    ">>> print(np.array([4,5,6]))\n",
    "[4 5 6]\n",
    "\"\"\"\n",
    "\n",
    "clean_code = run_interactive(code)"
   ]
  },
  {
   "cell_type": "markdown",
   "id": "beab9929",
   "metadata": {},
   "source": [
    "[Link to the article about strip-interactive](https://towardsdatascience.com/how-to-strip-outputs-and-execute-interactive-code-in-a-python-script-6d4c5da3beb0?sk=1db3d887884ad2429b9c78e1c72a2a4d).\n",
    "\n",
    "[Link to strip-interactive](https://github.com/khuyentran1401/strip_interactive)."
   ]
  },
  {
   "cell_type": "markdown",
   "id": "f74e72bd",
   "metadata": {},
   "source": [
    "### Pyfiglet: Make Large and Unique Letters Out of Ordinary Text in Python"
   ]
  },
  {
   "cell_type": "code",
   "execution_count": null,
   "id": "307728f2",
   "metadata": {
    "tags": [
     "hide-cell"
    ]
   },
   "outputs": [],
   "source": [
    "!pip install pyfiglet"
   ]
  },
  {
   "cell_type": "markdown",
   "id": "3650d785",
   "metadata": {},
   "source": [
    "If you want to make large and unique letters out of ordinary text using Python, try pyfiglet. Below are some outputs of pyfiglet:"
   ]
  },
  {
   "cell_type": "code",
   "execution_count": null,
   "id": "57377659",
   "metadata": {},
   "outputs": [],
   "source": [
    "import pyfiglet\n",
    "from termcolor import colored, cprint\n",
    "\n",
    "out = pyfiglet.figlet_format(\"Hello\")\n",
    "print(out)"
   ]
  },
  {
   "cell_type": "code",
   "execution_count": null,
   "id": "2963d660",
   "metadata": {},
   "outputs": [],
   "source": [
    "out = pyfiglet.figlet_format(\"Hello\", font='slant')\n",
    "print(out)"
   ]
  },
  {
   "cell_type": "code",
   "execution_count": null,
   "id": "dcb0eb25",
   "metadata": {},
   "outputs": [],
   "source": [
    "cprint(pyfiglet.figlet_format('Hello', font='bell'), 'blue')"
   ]
  },
  {
   "cell_type": "markdown",
   "id": "579c7256",
   "metadata": {},
   "source": [
    "This could be used as the welcome message for your Python package 🙂"
   ]
  },
  {
   "cell_type": "markdown",
   "id": "f5ed7f89",
   "metadata": {},
   "source": [
    "[Link to pyfiglet](https://github.com/pwaller/pyfiglet).\n",
    "\n",
    "[Link to termcolor](https://pypi.org/project/termcolor/)."
   ]
  },
  {
   "cell_type": "markdown",
   "id": "cf13ca63",
   "metadata": {},
   "source": [
    "### Python Fire: Generate a CLI for Any Python Objects in Two Lines of Code"
   ]
  },
  {
   "cell_type": "code",
   "execution_count": null,
   "id": "688b81d3",
   "metadata": {
    "tags": [
     "hide-cell"
    ]
   },
   "outputs": [],
   "source": [
    "!pip install fire"
   ]
  },
  {
   "cell_type": "markdown",
   "id": "ec9c9b58",
   "metadata": {},
   "source": [
    "Have you ever wanted to adjust the values of Python objects from the command line, but found it inconvenient to do so?  With Python Fire, you can easily generate a command-line interface for any Python object in just two lines of code."
   ]
  },
  {
   "cell_type": "markdown",
   "id": "ed30a84d",
   "metadata": {},
   "source": [
    "To see how Python Fire works, let's look at an example. Start with creating file named `fire_example.py`:"
   ]
  },
  {
   "cell_type": "code",
   "execution_count": null,
   "id": "c1639e4a",
   "metadata": {},
   "outputs": [],
   "source": [
    "%%writefile fire_example.py\n",
    "import fire\n",
    "\n",
    "\n",
    "def get_mean(numbers: list):\n",
    "    return sum(numbers) / len(numbers)\n",
    "\n",
    "\n",
    "def get_modulo(num1: int, num2: int):\n",
    "    return num1 % num2\n",
    "\n",
    "\n",
    "if __name__ == \"__main__\":\n",
    "    fire.Fire()"
   ]
  },
  {
   "cell_type": "markdown",
   "id": "42d54dbf",
   "metadata": {},
   "source": [
    "Then run the following command on your terminal:\n",
    "\n",
    "```bash\n",
    "$ python fire_example.py get_mean \"[1, 2, 3]\"\n",
    "```"
   ]
  },
  {
   "cell_type": "code",
   "execution_count": null,
   "id": "effbf73d",
   "metadata": {
    "tags": [
     "remove-input"
    ]
   },
   "outputs": [],
   "source": [
    "!python fire_example.py get_mean \"[1, 2, 3]\""
   ]
  },
  {
   "cell_type": "markdown",
   "id": "d52bbb3e",
   "metadata": {},
   "source": [
    "```bash\n",
    "$ python fire_example.py get_modulo --num1=3 --num2=2\n",
    "```"
   ]
  },
  {
   "cell_type": "code",
   "execution_count": null,
   "id": "166e8841",
   "metadata": {
    "tags": [
     "remove-input"
    ]
   },
   "outputs": [],
   "source": [
    "!python fire_example.py get_modulo --num1=3 --num2=2"
   ]
  },
  {
   "cell_type": "markdown",
   "id": "fdc755a7",
   "metadata": {},
   "source": [
    "[Link to Python Fire](https://github.com/google/python-fire)."
   ]
  },
  {
   "cell_type": "markdown",
   "id": "1a476a6f",
   "metadata": {},
   "source": [
    "### Typer: Build a Command-Line Interface in a Few Lines of Code"
   ]
  },
  {
   "cell_type": "code",
   "execution_count": null,
   "id": "a219e335",
   "metadata": {
    "tags": [
     "hide-cell"
    ]
   },
   "outputs": [],
   "source": [
    "!pip install typer "
   ]
  },
  {
   "cell_type": "markdown",
   "id": "bd112516",
   "metadata": {},
   "source": [
    "While Python Fire is easy to use, it doesn't provide much flexibility in terms of customization. Typer offers tools for building CLI applications in Python with a more explicit syntax. Typer also uses type annotations to validate user input."
   ]
  },
  {
   "cell_type": "markdown",
   "id": "813e2c36",
   "metadata": {},
   "source": [
    "To see how Typer works, let's look at an example. Start with creating file named `typer_example.py`:"
   ]
  },
  {
   "cell_type": "code",
   "execution_count": null,
   "id": "08e48a17",
   "metadata": {},
   "outputs": [],
   "source": [
    "%%writefile typer_example.py\n",
    "import typer\n",
    "\n",
    "app = typer.Typer()\n",
    "\n",
    "@app.command()\n",
    "def add_numbers(x: float, y: float):\n",
    "    \"\"\"Adds two numbers and prints the result.\"\"\"\n",
    "    result = x + y\n",
    "    print(f\"The sum of {x} and {y} is {result}.\")\n",
    "\n",
    "if __name__ == \"__main__\":\n",
    "    app()"
   ]
  },
  {
   "cell_type": "markdown",
   "id": "f4063054",
   "metadata": {},
   "source": [
    "Then run the following command on your terminal:\n",
    "```bash\n",
    "$ python typer_example.py hello world\n",
    "```\n",
    "And you should see an output like below:"
   ]
  },
  {
   "cell_type": "code",
   "execution_count": null,
   "id": "286d656d",
   "metadata": {
    "tags": [
     "hide-input"
    ]
   },
   "outputs": [],
   "source": [
    "!python typer_example.py hello world"
   ]
  },
  {
   "cell_type": "markdown",
   "id": "782297a6",
   "metadata": {},
   "source": [
    "You can see that when the input is not a valid float, Typer raised a `TypeError` with a helpful error message."
   ]
  },
  {
   "cell_type": "markdown",
   "id": "af96fb85",
   "metadata": {},
   "source": [
    "Providing the valid inputs will give the following output:\n",
    "```bash\n",
    "$ python typer_example.py 3 2\n",
    "```"
   ]
  },
  {
   "cell_type": "code",
   "execution_count": null,
   "id": "2cd25a5d",
   "metadata": {
    "tags": [
     "remove-input"
    ]
   },
   "outputs": [],
   "source": [
    "!python typer_example.py 3 2"
   ]
  },
  {
   "cell_type": "markdown",
   "id": "2c55e9b7",
   "metadata": {},
   "source": [
    "[Link to Typer](https://typer.tiangolo.com/).\n",
    "\n",
    "[My full article about Typer](https://towardsdatascience.com/typer-build-powerful-clis-in-one-line-of-code-using-python-321d9aef3be8)."
   ]
  },
  {
   "cell_type": "markdown",
   "id": "d86573cb",
   "metadata": {},
   "source": [
    "### Generate a Tree View with rich"
   ]
  },
  {
   "cell_type": "code",
   "execution_count": null,
   "id": "af42d3ee",
   "metadata": {
    "tags": [
     "hide-cell"
    ]
   },
   "outputs": [],
   "source": [
    "!pip install rich "
   ]
  },
  {
   "cell_type": "markdown",
   "id": "0775399b",
   "metadata": {},
   "source": [
    "If you want to generate a tree view of a specific structure such as files in a directory, use rich.tree. rich also allows you to add color to each branch using brackets."
   ]
  },
  {
   "cell_type": "code",
   "execution_count": null,
   "id": "da49a519",
   "metadata": {},
   "outputs": [],
   "source": [
    "from rich.tree import Tree\n",
    "from rich import print\n",
    "\n",
    "tree = Tree(\"[cyan]My Project\")\n",
    "tree.add(\"[green]data\")\n",
    "tree.add(\"[blue]model\")\n",
    "src = tree.add(\"[red]src\")\n",
    "src.add(\"[red]process_data.py\")\n",
    "print(tree)"
   ]
  },
  {
   "cell_type": "markdown",
   "id": "0317f702",
   "metadata": {},
   "source": [
    "[Link to rich](https://github.com/Textualize/rich/tree/aa7926c1431eebfb2ccaab9f3b63a4ac6cd8dfe6)."
   ]
  },
  {
   "cell_type": "markdown",
   "id": "9258b86f",
   "metadata": {},
   "source": [
    "### latexify_py: Generates a LaTex Math Description From a Python Function"
   ]
  },
  {
   "cell_type": "code",
   "execution_count": null,
   "id": "418c537c",
   "metadata": {
    "tags": [
     "hide-cell"
    ]
   },
   "outputs": [],
   "source": [
    "!pip install latexify-py"
   ]
  },
  {
   "cell_type": "markdown",
   "id": "2db3545e",
   "metadata": {},
   "source": [
    "Have you ever wanted to add math description for your Python function but found it time-consuming to do so? latexify_py allows you to add LaTex math description with only one decorator."
   ]
  },
  {
   "cell_type": "code",
   "execution_count": null,
   "id": "aeddcbdf",
   "metadata": {},
   "outputs": [],
   "source": [
    "import math\n",
    "import latexify\n",
    "\n",
    "@latexify.with_latex\n",
    "def solve(a, b, c):\n",
    "    return (-b + math.sqrt(b**2 - 4*a*c)) / (2*a)\n",
    "\n",
    "solve"
   ]
  },
  {
   "cell_type": "code",
   "execution_count": null,
   "id": "d31d15d4",
   "metadata": {},
   "outputs": [],
   "source": [
    "@latexify.with_latex\n",
    "def sinc(x):\n",
    "    if x == 0:\n",
    "        return 1\n",
    "    else:\n",
    "        return math.sin(x) / x\n",
    "\n",
    "sinc"
   ]
  },
  {
   "cell_type": "markdown",
   "id": "9f5d0a67",
   "metadata": {},
   "source": [
    "[Link to latexify_py](https://github.com/google/latexify_py)."
   ]
  },
  {
   "cell_type": "markdown",
   "id": "e3df4d5d",
   "metadata": {},
   "source": [
    "### From Python to Paper: Visualizing Calculations with Handcalcs"
   ]
  },
  {
   "cell_type": "code",
   "execution_count": null,
   "id": "bf635fef",
   "metadata": {
    "tags": [
     "hide-cell"
    ]
   },
   "outputs": [],
   "source": [
    "!pip install handcalcs"
   ]
  },
  {
   "cell_type": "markdown",
   "id": "6ea641f0",
   "metadata": {},
   "source": [
    "Python calculations often lack transparency when only showing final results. \n",
    "\n",
    "Handcalcs addresses this by generating LaTeX output that mimics handwritten calculations. It displays symbolic formulas, numeric substitutions, and results, providing a clear step-by-step breakdown. \n",
    "\n",
    "This approach makes calculations more intuitive, readable, and easier to verify manually.\n",
    "\n",
    "Handcalcs can be used in two main ways:\n",
    "\n",
    "1. As a cell magic in Jupyter notebooks using `%%render`:"
   ]
  },
  {
   "cell_type": "code",
   "execution_count": null,
   "id": "3960c902",
   "metadata": {},
   "outputs": [],
   "source": [
    "import handcalcs.render\n",
    "from handcalcs.decorator import handcalc"
   ]
  },
  {
   "cell_type": "code",
   "execution_count": null,
   "id": "88196443",
   "metadata": {},
   "outputs": [],
   "source": [
    "%%render\n",
    "a = 2\n",
    "b = 3\n",
    "c = 2*a + b/3"
   ]
  },
  {
   "cell_type": "markdown",
   "id": "c5cd22b4",
   "metadata": {},
   "source": [
    "2. As a decorator for functions:"
   ]
  },
  {
   "cell_type": "code",
   "execution_count": null,
   "id": "6db17630",
   "metadata": {},
   "outputs": [],
   "source": [
    "from math import sqrt\n",
    "\n",
    "@handcalc(jupyter_display=True)\n",
    "def my_calc(x: float, y: float, z: float):\n",
    "    a = 2*x\n",
    "    b = 3*a/z + sqrt(a+y/2)\n",
    "    c = a + b\n",
    "    return c"
   ]
  },
  {
   "cell_type": "code",
   "execution_count": null,
   "id": "bf5c6c78",
   "metadata": {},
   "outputs": [],
   "source": [
    "result = my_calc(2.3, 3.2, 1.2)"
   ]
  },
  {
   "cell_type": "code",
   "execution_count": null,
   "id": "400c11d3",
   "metadata": {},
   "outputs": [],
   "source": [
    "result"
   ]
  },
  {
   "cell_type": "markdown",
   "id": "07b276e0",
   "metadata": {},
   "source": [
    "[Link to handcalcs](https://github.com/connorferster/handcalcs)."
   ]
  },
  {
   "cell_type": "markdown",
   "id": "2099b283",
   "metadata": {},
   "source": [
    "### ManimML: Create Animations of Common ML Concepts in Python"
   ]
  },
  {
   "cell_type": "markdown",
   "id": "a729f4b5",
   "metadata": {},
   "source": [
    "If you want to create animations and visualizations for common ML concepts in Python, try ManimML.\n",
    "\n",
    "The GIF below is the visualization of Variational Autoencoder made by ManimML."
   ]
  },
  {
   "cell_type": "markdown",
   "id": "b6c2dee2",
   "metadata": {},
   "source": [
    "![](../img/VAEScene.gif)"
   ]
  },
  {
   "cell_type": "markdown",
   "id": "1ce82318",
   "metadata": {},
   "source": [
    "[Link to ManimML](https://github.com/helblazer811/ManimML).\n",
    "\n",
    "ManimML is built on top of [Manim](https://towardsdatascience.com/how-to-create-mathematical-animations-like-3blue1brown-using-python-f571fb9da3d1?sk=67f831edb7de3560020c2ea0296447cf)."
   ]
  },
  {
   "cell_type": "markdown",
   "id": "7fdfec2c",
   "metadata": {},
   "source": [
    "### Great Tables: Create Scientific-Looking Tables in Python"
   ]
  },
  {
   "cell_type": "code",
   "execution_count": null,
   "id": "137b994f",
   "metadata": {
    "tags": [
     "hide-cell"
    ]
   },
   "outputs": [],
   "source": [
    "!pip install great_tables "
   ]
  },
  {
   "cell_type": "markdown",
   "id": "73c1a4ae",
   "metadata": {},
   "source": [
    "If you want to create visually appealing and scientific-looking tables in Python, use Great Tables. With Great Tables, you can customize your table by mixing and matching various elements such as headers, footers, and cell value formats."
   ]
  },
  {
   "cell_type": "code",
   "execution_count": null,
   "id": "20d76bf5",
   "metadata": {},
   "outputs": [],
   "source": [
    "from great_tables import GT, md\n",
    "from great_tables.data import islands\n",
    "\n",
    "islands_mini = islands.head(10).sort_values(by=\"size\", ascending=False) # pandas DataFrame\n",
    "\n",
    "(\n",
    "    GT(islands_mini, rowname_col=\"name\")\n",
    "    .tab_header(\n",
    "        title=\"Large Landmasses of the World\",\n",
    "        subtitle=\"The top ten largest are presented\",\n",
    "    )\n",
    "    .tab_source_note(\n",
    "        source_note=\"Source: The World Almanac and Book of Facts, 1975, page 406.\"\n",
    "    )\n",
    "    .tab_source_note(\n",
    "        source_note=md(\n",
    "            \"Reference: McNeil, D. R. (1977) *Interactive Data Analysis*. Wiley.\"\n",
    "        )\n",
    "    )\n",
    "    .tab_stubhead(label=\"landmass\")\n",
    "    .fmt_number(columns=\"size\", sep_mark=\",\", decimals=0)\n",
    ")"
   ]
  },
  {
   "cell_type": "markdown",
   "id": "385dd746",
   "metadata": {},
   "source": [
    "[Link to Great Tables](https://bit.ly/3U58fvP)."
   ]
  },
  {
   "cell_type": "markdown",
   "id": "b5d96975",
   "metadata": {},
   "source": [
    "### Camelot: PDF Table Extraction for Humans"
   ]
  },
  {
   "cell_type": "code",
   "execution_count": null,
   "id": "43487db1",
   "metadata": {
    "tags": [
     "hide-cell"
    ]
   },
   "outputs": [],
   "source": [
    "!pip install \"camelot-py[base]\" \"opencv-python\" \"pypdf2<3\""
   ]
  },
  {
   "cell_type": "markdown",
   "id": "b64184d0",
   "metadata": {},
   "source": [
    "With Camelot, you can extract tables from PDFs using Python and convert the data into a more structured format, such as a pandas DataFrame or a CSV file for efficient analysis, manipulation, and integration."
   ]
  },
  {
   "cell_type": "markdown",
   "id": "309e5634",
   "metadata": {},
   "source": [
    "To see how Camelot works, start by reading the PDF file named 'foo.pdf' and extracts all the tables present in the file."
   ]
  },
  {
   "cell_type": "code",
   "execution_count": null,
   "id": "4b337018",
   "metadata": {},
   "outputs": [],
   "source": [
    "import camelot\n",
    "tables = camelot.read_pdf('foo.pdf')\n",
    "tables"
   ]
  },
  {
   "cell_type": "markdown",
   "id": "7003bdee",
   "metadata": {},
   "source": [
    "The output shows that there is one table extracted from the PDF file."
   ]
  },
  {
   "cell_type": "markdown",
   "id": "f4418c2b",
   "metadata": {},
   "source": [
    "Export the extracted tables to a CSV file named 'foo.csv'. Camelot also supports exporting tables to other formats like JSON, Excel, HTML, Markdown, and SQLite databases."
   ]
  },
  {
   "cell_type": "code",
   "execution_count": null,
   "id": "718c4714",
   "metadata": {},
   "outputs": [],
   "source": [
    "tables[0].parsing_report\n",
    "{\n",
    "    'accuracy': 99.02,\n",
    "    'whitespace': 12.24,\n",
    "    'order': 1,\n",
    "    'page': 1\n",
    "}\n",
    "tables[0].to_csv('foo.csv') # to_json, to_excel, to_html, to_markdown, to_sqlite\n",
    "tables[0].df # get a pandas DataFrame!"
   ]
  },
  {
   "cell_type": "markdown",
   "id": "122deb4c",
   "metadata": {},
   "source": [
    "[Link to Camelot](https://bit.ly/3xPBw6L)."
   ]
  },
  {
   "cell_type": "code",
   "execution_count": null,
   "id": "0e72bd89",
   "metadata": {},
   "outputs": [],
   "source": [
    "!pip install pdf2image transformers txtmarker"
   ]
  },
  {
   "cell_type": "code",
   "execution_count": null,
   "id": "3ef57fab",
   "metadata": {},
   "outputs": [],
   "source": [
    "# Install pdf2image - embeds pdf as image in notebook\n",
    "# !apt-get update\n",
    "# !apt-get install poppler-utils\n",
    "!brew install poppler"
   ]
  },
  {
   "cell_type": "markdown",
   "id": "1de148da",
   "metadata": {},
   "source": [
    "To highlight text in PDFs using Python, use txtmarker. Here is an example of how to use it:"
   ]
  },
  {
   "cell_type": "code",
   "execution_count": null,
   "id": "8a4b1a42",
   "metadata": {},
   "outputs": [],
   "source": [
    "from txtmarker.factory import Factory\n",
    "from pdf2image import convert_from_path\n",
    "from IPython.display import display\n",
    "\n",
    "highlighter = Factory.create(\"pdf\")\n",
    "highlighter.highlight(\n",
    "    \"The Fascinating World of Penguins.pdf\",\n",
    "    \"output.pdf\",\n",
    "    [(\"Walking challenge\", \"Penguins have to deal with flippers instead of feet\")],\n",
    ")\n",
    "\n",
    "images = convert_from_path(\"output.pdf\", size=(800, None), single_file=True)\n",
    "display(images[0])"
   ]
  },
  {
   "cell_type": "markdown",
   "id": "b26c7c4c",
   "metadata": {},
   "source": [
    "This code highlights the text \"Penguins have to deal with flippers instead of feet\" in the PDF file \"The Fascinating World of Penguins.pdf\" and save the output to a new PDF file called \"output.pdf\"."
   ]
  },
  {
   "cell_type": "markdown",
   "id": "816da41b",
   "metadata": {},
   "source": [
    "But what if you want to highlight text in a PDF based on a question? You can use extractive QA to achieve this. Here is an example of how to use it:"
   ]
  },
  {
   "cell_type": "code",
   "execution_count": null,
   "id": "a0e2679f",
   "metadata": {},
   "outputs": [],
   "source": [
    "import re\n",
    "\n",
    "from pdf2image import convert_from_path\n",
    "from pdfminer.high_level import extract_text\n",
    "from transformers import pipeline\n",
    "\n",
    "from IPython.display import display\n",
    "\n",
    "from txtmarker.factory import Factory\n",
    "\n",
    "# Create pipeline\n",
    "nlp = pipeline(\"question-answering\")\n",
    "\n",
    "# Create highlighter\n",
    "highlighter = Factory.create(\"pdf\")\n",
    "\n",
    "# Extracts text from pdf\n",
    "def extract(path):\n",
    "  text = extract_text(path)\n",
    "\n",
    "  # Clean data\n",
    "  text = re.sub(r\"\\n+\", \" \", text)\n",
    "  return re.sub(r\"[^\\x20-\\x7F]+\", \"\", text)\n",
    "\n",
    "# Renders first page of pdf file as image\n",
    "def highlight(path, highlights):\n",
    "  # Get PDF text\n",
    "  context = extract(path)\n",
    "\n",
    "  # Run extractive qa\n",
    "  highlights = [(name, qa(context, question)) for name, question in highlights]\n",
    "\n",
    "  # Create annotated file\n",
    "  highlighter.highlight(path, \"out.pdf\", highlights)\n",
    "\n",
    "  # Render pdf as image\n",
    "  images = convert_from_path(\"out.pdf\", size=(800, None), single_file=True)\n",
    "  display(images[0])\n",
    "\n",
    "# Runs extractive qa\n",
    "def qa(context, question):\n",
    "  return nlp(context=context, question=question)[\"answer\"]"
   ]
  },
  {
   "cell_type": "code",
   "execution_count": null,
   "id": "6183b450",
   "metadata": {},
   "outputs": [],
   "source": [
    "highlight(\"The Fascinating World of Penguins.pdf\", [\n",
    "  (\"Walking problem\", \"What is the main challenge penguins face when trying to walk?\"),\n",
    "  (\"Known for\", \"What is penguin known for?\"),\n",
    "  (\"Flying problem\", \"What is the main challenge penguins face when trying to fly?\"),\n",
    "])"
   ]
  },
  {
   "cell_type": "markdown",
   "id": "4ba348d8",
   "metadata": {},
   "source": [
    "This code highlights the answers to the questions in the PDF file \"The Fascinating World of Penguins.pdf\" and display the output as an image."
   ]
  },
  {
   "cell_type": "markdown",
   "id": "50887dc9",
   "metadata": {},
   "source": [
    "[Link to txtmarker](https://github.com/neuml/txtmarker)."
   ]
  },
  {
   "cell_type": "markdown",
   "id": "fa3eb333",
   "metadata": {},
   "source": [
    "### Comparing Python Command Line Interface Tools: Argparse, Click, and Typer"
   ]
  },
  {
   "cell_type": "code",
   "execution_count": null,
   "id": "21af21d6",
   "metadata": {
    "tags": [
     "remove-cell"
    ]
   },
   "outputs": [],
   "source": [
    "%mkdir command_line_tools\n",
    "%cd command_line_tools"
   ]
  },
  {
   "cell_type": "markdown",
   "id": "6bc1e2cd",
   "metadata": {},
   "source": [
    "Python has several tools for creating CLIs, each with its own approach and syntax. Three popular choices for parsing command-line arguments and options are argparse, click, and typer.\n",
    "\n",
    "- **argparse**: Requires manual argument parsing setup with verbose syntax.\n",
    "- **click**: Offers a more concise and declarative way to define commands with decorators.\n",
    "- **typer**: Utilizes Python type hints to create a clean and modern CLI interface with minimal boilerplate.\n",
    "\n",
    "Here's a comparison of how to create a simple CLI application with a single command that accepts a string argument using argparse, click, and typer."
   ]
  },
  {
   "cell_type": "markdown",
   "id": "5c993f76",
   "metadata": {},
   "source": [
    "argparse:"
   ]
  },
  {
   "cell_type": "code",
   "execution_count": null,
   "id": "055b9c26",
   "metadata": {},
   "outputs": [],
   "source": [
    "%%writefile argparse_example.py\n",
    "import argparse\n",
    "\n",
    "def main(message):\n",
    "    print(f\"Message: {message}\")\n",
    "\n",
    "if __name__ == \"__main__\":\n",
    "    parser = argparse.ArgumentParser(description=\"A simple CLI with argparse\")\n",
    "    parser.add_argument(\"message\", type=str, help=\"The message to print\")\n",
    "    args = parser.parse_args()\n",
    "    main(args.message)"
   ]
  },
  {
   "cell_type": "markdown",
   "id": "92aa8ba5",
   "metadata": {},
   "source": [
    "```bash\n",
    "python argparse_example.py \"Hello, World!\"\n",
    "```"
   ]
  },
  {
   "cell_type": "code",
   "execution_count": null,
   "id": "660d74c9",
   "metadata": {
    "tags": [
     "remove-input"
    ]
   },
   "outputs": [],
   "source": [
    "!python argparse_example.py \"Hello, World!\""
   ]
  },
  {
   "cell_type": "markdown",
   "id": "be8a987a",
   "metadata": {},
   "source": [
    "click:"
   ]
  },
  {
   "cell_type": "code",
   "execution_count": null,
   "id": "65fb7d5b",
   "metadata": {},
   "outputs": [],
   "source": [
    "%%writefile click_example.py\n",
    "import click\n",
    "\n",
    "@click.command()\n",
    "@click.argument(\"message\")\n",
    "def main(message):\n",
    "    print(f\"Message: {message}\")\n",
    "\n",
    "if __name__ == \"__main__\":\n",
    "    main()"
   ]
  },
  {
   "cell_type": "markdown",
   "id": "fbe2c246",
   "metadata": {},
   "source": [
    "```bash\n",
    "python click_example.py \"Hello, World!\"\n",
    "```"
   ]
  },
  {
   "cell_type": "code",
   "execution_count": null,
   "id": "d8034581",
   "metadata": {
    "tags": [
     "remove-input"
    ]
   },
   "outputs": [],
   "source": [
    "!python click_example.py \"Hello, World!\""
   ]
  },
  {
   "cell_type": "markdown",
   "id": "e5378468",
   "metadata": {},
   "source": [
    "typer:"
   ]
  },
  {
   "cell_type": "code",
   "execution_count": null,
   "id": "7092c120",
   "metadata": {},
   "outputs": [],
   "source": [
    "%%writefile typer_example.py\n",
    "import typer\n",
    "\n",
    "def main(message: str):\n",
    "    print(f\"Message: {message}\")\n",
    "\n",
    "if __name__ == \"__main__\":\n",
    "    typer.run(main)"
   ]
  },
  {
   "cell_type": "markdown",
   "id": "98b56301",
   "metadata": {},
   "source": [
    "```bash\n",
    "python typer_example.py \"Hello, World!\"\n",
    "```"
   ]
  },
  {
   "cell_type": "code",
   "execution_count": null,
   "id": "32e8db17",
   "metadata": {
    "tags": [
     "remove-input"
    ]
   },
   "outputs": [],
   "source": [
    "!python typer_example.py \"Hello, World!\""
   ]
  },
  {
   "cell_type": "code",
   "execution_count": null,
   "id": "db69ceba",
   "metadata": {
    "editable": true,
    "slideshow": {
     "slide_type": ""
    }
   },
   "outputs": [],
   "source": [
    "!pip install snoop"
   ]
  },
  {
   "cell_type": "code",
   "execution_count": null,
   "id": "f4655760",
   "metadata": {},
   "outputs": [],
   "source": [
    "%load_ext snoop"
   ]
  },
  {
   "cell_type": "code",
   "execution_count": null,
   "id": "021f0118",
   "metadata": {},
   "outputs": [],
   "source": [
    "%%snoop\n",
    "import snoop\n",
    "\n",
    "\n",
    "@snoop\n",
    "def factorial(x: int):\n",
    "    if x == 1:\n",
    "        return 1\n",
    "    else:\n",
    "        return x * factorial(x - 1)\n",
    "\n",
    "\n",
    "if __name__ == \"__main__\":\n",
    "    num = 2\n",
    "    print(f\"The factorial of {num} is {factorial(num)}\")"
   ]
  },
  {
   "cell_type": "markdown",
   "id": "2561a395",
   "metadata": {},
   "source": [
    "### Dynamic Report Generation with Jinja Templates"
   ]
  },
  {
   "cell_type": "markdown",
   "id": "d0c3bdcc",
   "metadata": {},
   "source": [
    "F-strings are convenient for simple string interpolation, but they are tightly coupled with the surrounding Python code. They are typically used for a single, specific task."
   ]
  },
  {
   "cell_type": "code",
   "execution_count": null,
   "id": "0d6e9950",
   "metadata": {},
   "outputs": [],
   "source": [
    "metrics = {\n",
    "    'accuracy': 0.95,\n",
    "    'precision': 0.88,\n",
    "    'recall': 0.92,\n",
    "    'f1_score': 0.89,\n",
    "    'auc_roc': 0.93,\n",
    "    'specificity': 0.87\n",
    "}\n",
    "\n",
    "metrics_str = \"\"\n",
    "for metric, value in metrics.items():\n",
    "    if value > 0.9:\n",
    "        metrics_str += f\"{metric}: {value:.3f} (Excellent)\\n\"\n",
    "    else:\n",
    "        metrics_str += f\"{metric}: {value:.3f} (Needs Improvement)\\n\"\n",
    "\n",
    "print(metrics_str)"
   ]
  },
  {
   "cell_type": "markdown",
   "id": "78a72f54",
   "metadata": {},
   "source": [
    "Jinja's templating engine is more versatile and powerful. It allows you to define templates with placeholders for dynamic data and supports conditionals, loops, and reuse across multiple contexts.\n",
    "\n",
    "Use Jinja to perform complex templating tasks or generate dynamic reports."
   ]
  },
  {
   "cell_type": "code",
   "execution_count": null,
   "id": "95630962",
   "metadata": {},
   "outputs": [],
   "source": [
    "# Jinja template version\n",
    "from jinja2 import Template\n",
    "template = Template(\"\"\"\n",
    "{% for metric, value in metrics.items() %}\n",
    "    {% if value > 0.9 %}\n",
    "    {{ metric }}: {{ value | round(3) }} (Excellent)\n",
    "    {% else %}\n",
    "    {{ metric }}: {{ value | round(3) }} (Needs Improvement)\n",
    "    {% endif %}\n",
    "{% endfor %}\n",
    "\"\"\")\n",
    "\n",
    "result = template.render(metrics=metrics)\n",
    "print(result)"
   ]
  },
  {
   "cell_type": "markdown",
   "id": "acf8af57",
   "metadata": {},
   "source": [
    "[Link to Jinja](https://github.com/pallets/jinja)"
   ]
  }
 ],
 "metadata": {
  "jupytext": {
   "text_representation": {
    "extension": ".md",
    "format_name": "myst",
    "format_version": 0.13,
    "jupytext_version": "1.16.7"
   }
  },
  "kernelspec": {
   "display_name": "Python 3 (ipykernel)",
   "language": "python",
   "name": "python3"
  },
  "source_map": [
   12,
   16,
   20,
   24,
   30,
   42,
   48,
   52,
   56,
   60,
   68,
   73,
   75,
   79,
   85,
   89,
   93,
   97,
   101,
   116,
   124,
   128,
   134,
   138,
   142,
   146,
   150,
   154,
   158,
   172,
   180,
   184,
   188,
   195,
   199,
   205,
   209,
   213,
   217,
   227,
   231,
   235,
   239,
   243,
   254,
   263,
   267,
   271,
   275,
   287,
   292,
   297,
   301,
   312,
   316,
   318,
   322,
   326,
   332,
   336,
   342,
   346,
   350,
   354,
   377,
   381,
   385,
   389,
   393,
   397,
   401,
   405,
   409,
   419,
   423,
   427,
   432,
   437,
   451,
   456,
   460,
   505,
   511,
   515,
   519,
   523,
   528,
   538,
   542,
   554,
   560,
   564,
   568,
   579,
   585,
   589,
   593,
   602,
   608,
   614,
   623,
   627,
   643,
   647,
   652,
   670,
   676,
   691
  ]
 },
 "nbformat": 4,
 "nbformat_minor": 5
}