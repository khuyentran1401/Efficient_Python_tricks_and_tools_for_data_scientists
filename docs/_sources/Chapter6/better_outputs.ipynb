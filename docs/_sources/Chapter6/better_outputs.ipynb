{
 "cells": [
  {
   "cell_type": "markdown",
   "id": "eca1af78",
   "metadata": {},
   "source": [
    "## Better Outputs"
   ]
  },
  {
   "cell_type": "markdown",
   "id": "228febf0",
   "metadata": {},
   "source": [
    "### How to Strip Outputs and Execute Interactive Code in a Python Script\n"
   ]
  },
  {
   "cell_type": "code",
   "execution_count": null,
   "id": "fd47bc73",
   "metadata": {
    "tags": [
     "hide-cell"
    ]
   },
   "outputs": [],
   "source": [
    "!pip install strip-interactive"
   ]
  },
  {
   "cell_type": "markdown",
   "id": "2f883d72",
   "metadata": {},
   "source": [
    "Have you ever seen a tutorial with an interactive Python code and wished to execute it in a Python script like above?\n",
    "\n",
    "It might be time-consuming to delete all `>>>` symbols and remove all outputs, especially when the code is long. That is why I created strip-interactive."
   ]
  },
  {
   "cell_type": "code",
   "execution_count": 3,
   "id": "76d79595",
   "metadata": {
    "ExecuteTime": {
     "end_time": "2021-09-12T13:09:01.220320Z",
     "start_time": "2021-09-12T13:09:01.210675Z"
    }
   },
   "outputs": [
    {
     "name": "stdout",
     "output_type": "stream",
     "text": [
      "[1 2 3]\n",
      "[4 5 6]\n",
      "\n"
     ]
    }
   ],
   "source": [
    "from strip_interactive import run_interactive\n",
    "\n",
    "code = \"\"\"\n",
    ">>> import numpy as np\n",
    ">>> print(np.array([1,2,3]))\n",
    "[1 2 3]\n",
    ">>> print(np.array([4,5,6]))\n",
    "[4 5 6]\n",
    "\"\"\"\n",
    "\n",
    "clean_code = run_interactive(code)"
   ]
  },
  {
   "cell_type": "markdown",
   "id": "47b33c26",
   "metadata": {},
   "source": [
    "[Link to the article about strip-interactive](https://towardsdatascience.com/how-to-strip-outputs-and-execute-interactive-code-in-a-python-script-6d4c5da3beb0?sk=1db3d887884ad2429b9c78e1c72a2a4d).\n",
    "\n",
    "[Link to strip-interactive](https://github.com/khuyentran1401/strip_interactive)."
   ]
  },
  {
   "cell_type": "markdown",
   "id": "1655b404",
   "metadata": {},
   "source": [
    "### Pyfiglet: Make Large and Unique Letters Out of Ordinary Text in Python"
   ]
  },
  {
   "cell_type": "code",
   "execution_count": null,
   "id": "f01020ea",
   "metadata": {
    "tags": [
     "hide-cell"
    ]
   },
   "outputs": [],
   "source": [
    "!pip install pyfiglet"
   ]
  },
  {
   "cell_type": "markdown",
   "id": "8cb69dc6",
   "metadata": {},
   "source": [
    "If you want to make large and unique letters out of ordinary text using Python, try pyfiglet. Below are some outputs of pyfiglet:"
   ]
  },
  {
   "cell_type": "code",
   "execution_count": 18,
   "id": "4c6dbae6",
   "metadata": {
    "ExecuteTime": {
     "end_time": "2021-09-12T13:19:05.495028Z",
     "start_time": "2021-09-12T13:19:05.472121Z"
    }
   },
   "outputs": [
    {
     "name": "stdout",
     "output_type": "stream",
     "text": [
      " _   _      _ _       \n",
      "| | | | ___| | | ___  \n",
      "| |_| |/ _ \\ | |/ _ \\ \n",
      "|  _  |  __/ | | (_) |\n",
      "|_| |_|\\___|_|_|\\___/ \n",
      "                      \n",
      "\n"
     ]
    }
   ],
   "source": [
    "import pyfiglet\n",
    "from termcolor import colored, cprint\n",
    "\n",
    "out = pyfiglet.figlet_format(\"Hello\")\n",
    "print(out)"
   ]
  },
  {
   "cell_type": "code",
   "execution_count": 20,
   "id": "d3ba14e3",
   "metadata": {
    "ExecuteTime": {
     "end_time": "2021-09-12T13:19:21.005995Z",
     "start_time": "2021-09-12T13:19:20.991323Z"
    }
   },
   "outputs": [
    {
     "name": "stdout",
     "output_type": "stream",
     "text": [
      "    __  __     ____    \n",
      "   / / / /__  / / /___ \n",
      "  / /_/ / _ \\/ / / __ \\\n",
      " / __  /  __/ / / /_/ /\n",
      "/_/ /_/\\___/_/_/\\____/ \n",
      "                       \n",
      "\n"
     ]
    }
   ],
   "source": [
    "out = pyfiglet.figlet_format(\"Hello\", font='slant')\n",
    "print(out)"
   ]
  },
  {
   "cell_type": "code",
   "execution_count": 21,
   "id": "80fc7dd4",
   "metadata": {
    "ExecuteTime": {
     "end_time": "2021-09-12T13:19:23.008693Z",
     "start_time": "2021-09-12T13:19:22.998546Z"
    }
   },
   "outputs": [
    {
     "name": "stdout",
     "output_type": "stream",
     "text": [
      "\u001b[34m __  __         .    .         \n",
      " |   |    ___   |    |     __. \n",
      " |___|  .'   `  |    |   .'   \\\n",
      " |   |  |----'  |    |   |    |\n",
      " /   /  `.___, /\\__ /\\__  `._.'\n",
      "                               \n",
      "\u001b[0m\n"
     ]
    }
   ],
   "source": [
    "cprint(pyfiglet.figlet_format('Hello', font='bell'), 'blue')"
   ]
  },
  {
   "cell_type": "markdown",
   "id": "0a489579",
   "metadata": {},
   "source": [
    "This could be used as the welcome message for your Python package 🙂"
   ]
  },
  {
   "cell_type": "markdown",
   "id": "a0362878",
   "metadata": {},
   "source": [
    "[Link to pyfiglet](https://github.com/pwaller/pyfiglet).\n",
    "\n",
    "[Link to termcolor](https://pypi.org/project/termcolor/)."
   ]
  },
  {
   "attachments": {},
   "cell_type": "markdown",
   "id": "70ccae85",
   "metadata": {},
   "source": [
    "### Python Fire: Generate a CLI for Any Python Objects in Two Lines of Code"
   ]
  },
  {
   "cell_type": "code",
   "execution_count": null,
   "id": "67ab2de3",
   "metadata": {
    "tags": [
     "hide-cell"
    ]
   },
   "outputs": [],
   "source": [
    "!pip install fire"
   ]
  },
  {
   "attachments": {},
   "cell_type": "markdown",
   "id": "d4cd017b",
   "metadata": {},
   "source": [
    "Have you ever wanted to adjust the values of Python objects from the command line, but found it inconvenient to do so?  With Python Fire, you can easily generate a command-line interface for any Python object in just two lines of code."
   ]
  },
  {
   "attachments": {},
   "cell_type": "markdown",
   "id": "85b919ae",
   "metadata": {},
   "source": [
    "To see how Python Fire works, let's look at an example. Start with creating file named `fire_example.py`:"
   ]
  },
  {
   "cell_type": "code",
   "execution_count": 2,
   "id": "b678a83b",
   "metadata": {},
   "outputs": [
    {
     "name": "stdout",
     "output_type": "stream",
     "text": [
      "Writing fire_example.py\n"
     ]
    }
   ],
   "source": [
    "%%writefile fire_example.py\n",
    "import fire\n",
    "\n",
    "\n",
    "def get_mean(numbers: list):\n",
    "    return sum(numbers) / len(numbers)\n",
    "\n",
    "\n",
    "def get_modulo(num1: int, num2: int):\n",
    "    return num1 % num2\n",
    "\n",
    "\n",
    "if __name__ == \"__main__\":\n",
    "    fire.Fire()"
   ]
  },
  {
   "attachments": {},
   "cell_type": "markdown",
   "id": "1a7a1599",
   "metadata": {},
   "source": [
    "Then run the following command on your terminal:\n",
    "\n",
    "```bash\n",
    "$ python fire_example.py get_mean \"[1, 2, 3]\"\n",
    "```"
   ]
  },
  {
   "cell_type": "code",
   "execution_count": 3,
   "id": "17f23aae",
   "metadata": {
    "tags": [
     "remove-input"
    ]
   },
   "outputs": [
    {
     "name": "stdout",
     "output_type": "stream",
     "text": [
      "2.0\n"
     ]
    }
   ],
   "source": [
    "!python fire_example.py get_mean \"[1, 2, 3]\""
   ]
  },
  {
   "attachments": {},
   "cell_type": "markdown",
   "id": "78cccf6d",
   "metadata": {},
   "source": [
    "```bash\n",
    "$ python fire_example.py get_modulo --num1=3 --num2=2\n",
    "```"
   ]
  },
  {
   "cell_type": "code",
   "execution_count": 4,
   "id": "a33bdc68",
   "metadata": {
    "tags": [
     "remove-input"
    ]
   },
   "outputs": [
    {
     "name": "stdout",
     "output_type": "stream",
     "text": [
      "1\n"
     ]
    }
   ],
   "source": [
    "!python fire_example.py get_modulo --num1=3 --num2=2"
   ]
  },
  {
   "attachments": {},
   "cell_type": "markdown",
   "id": "38526646",
   "metadata": {},
   "source": [
    "[Link to Python Fire](https://github.com/google/python-fire)."
   ]
  },
  {
   "cell_type": "markdown",
   "id": "8f4c1524",
   "metadata": {},
   "source": [
    "### Typer: Build a Command-Line Interface in a Few Lines of Code"
   ]
  },
  {
   "cell_type": "code",
   "execution_count": null,
   "id": "03b116e5",
   "metadata": {
    "tags": [
     "hide-cell"
    ]
   },
   "outputs": [],
   "source": [
    "!pip install typer "
   ]
  },
  {
   "attachments": {},
   "cell_type": "markdown",
   "id": "1d929e78",
   "metadata": {},
   "source": [
    "While Python Fire is easy to use, it doesn't provide much flexibility in terms of customization. Typer offers tools for building CLI applications in Python with a more explicit syntax. Typer also uses type annotations to validate user input."
   ]
  },
  {
   "attachments": {},
   "cell_type": "markdown",
   "id": "0db31d75",
   "metadata": {},
   "source": [
    "To see how Typer works, let's look at an example. Start with creating file named `typer_example.py`:"
   ]
  },
  {
   "cell_type": "code",
   "execution_count": 3,
   "id": "0376d21d",
   "metadata": {},
   "outputs": [
    {
     "name": "stdout",
     "output_type": "stream",
     "text": [
      "Writing typer_example.py\n"
     ]
    }
   ],
   "source": [
    "%%writefile typer_example.py\n",
    "import typer\n",
    "\n",
    "app = typer.Typer()\n",
    "\n",
    "@app.command()\n",
    "def add_numbers(x: float, y: float):\n",
    "    \"\"\"Adds two numbers and prints the result.\"\"\"\n",
    "    result = x + y\n",
    "    print(f\"The sum of {x} and {y} is {result}.\")\n",
    "\n",
    "if __name__ == \"__main__\":\n",
    "    app()\n"
   ]
  },
  {
   "attachments": {},
   "cell_type": "markdown",
   "id": "7b1b2b69",
   "metadata": {},
   "source": [
    "Then run the following command on your terminal:\n",
    "```bash\n",
    "$ python typer_example.py hello world\n",
    "```\n",
    "And you should see an output like below:"
   ]
  },
  {
   "cell_type": "code",
   "execution_count": 9,
   "id": "031e8f17",
   "metadata": {
    "ExecuteTime": {
     "end_time": "2021-09-12T13:44:17.024849Z",
     "start_time": "2021-09-12T13:44:16.765577Z"
    },
    "tags": [
     "hide-input"
    ]
   },
   "outputs": [
    {
     "name": "stdout",
     "output_type": "stream",
     "text": [
      "Usage: typer_example.py [OPTIONS] X Y\n",
      "Try 'typer_example.py --help' for help.\n",
      "\n",
      "Error: Invalid value for 'X': 'hello' is not a valid float.\n"
     ]
    }
   ],
   "source": [
    "!python typer_example.py hello world"
   ]
  },
  {
   "attachments": {},
   "cell_type": "markdown",
   "id": "7d0a50ee",
   "metadata": {},
   "source": [
    "You can see that when the input is not a valid float, Typer raised a `TypeError` with a helpful error message. "
   ]
  },
  {
   "attachments": {},
   "cell_type": "markdown",
   "id": "c9fdad41",
   "metadata": {},
   "source": [
    "Providing the valid inputs will give the following output:\n",
    "```bash\n",
    "$ python typer_example.py 3 2\n",
    "```"
   ]
  },
  {
   "cell_type": "code",
   "execution_count": 10,
   "id": "cae61566",
   "metadata": {
    "tags": [
     "remove-input"
    ]
   },
   "outputs": [
    {
     "name": "stdout",
     "output_type": "stream",
     "text": [
      "The sum of 3.0 and 2.0 is 5.0.\n"
     ]
    }
   ],
   "source": [
    "!python typer_example.py 3 2"
   ]
  },
  {
   "cell_type": "markdown",
   "id": "c21d09e1",
   "metadata": {},
   "source": [
    "[Link to Typer](https://typer.tiangolo.com/).\n",
    "\n",
    "[My full article about Typer](https://towardsdatascience.com/typer-build-powerful-clis-in-one-line-of-code-using-python-321d9aef3be8)."
   ]
  },
  {
   "cell_type": "markdown",
   "id": "31db25c6",
   "metadata": {},
   "source": [
    "### Generate a Tree View with rich"
   ]
  },
  {
   "cell_type": "code",
   "execution_count": null,
   "id": "299d6417",
   "metadata": {
    "tags": [
     "hide-cell"
    ]
   },
   "outputs": [],
   "source": [
    "!pip install rich "
   ]
  },
  {
   "cell_type": "markdown",
   "id": "ff0f0621",
   "metadata": {},
   "source": [
    "If you want to generate a tree view of a specific structure such as files in a directory, use rich.tree. rich also allows you to add color to each branch using brackets."
   ]
  },
  {
   "cell_type": "code",
   "execution_count": 2,
   "id": "bd5ca43d",
   "metadata": {
    "ExecuteTime": {
     "end_time": "2022-06-13T14:20:23.760038Z",
     "start_time": "2022-06-13T14:20:23.743387Z"
    }
   },
   "outputs": [
    {
     "data": {
      "text/html": [
       "<pre style=\"white-space:pre;overflow-x:auto;line-height:normal;font-family:Menlo,'DejaVu Sans Mono',consolas,'Courier New',monospace\"><span style=\"color: #008080; text-decoration-color: #008080\">My Project</span>\n",
       "├── <span style=\"color: #008000; text-decoration-color: #008000\">data</span>\n",
       "├── <span style=\"color: #000080; text-decoration-color: #000080\">model</span>\n",
       "└── <span style=\"color: #800000; text-decoration-color: #800000\">src</span>\n",
       "    └── <span style=\"color: #800000; text-decoration-color: #800000\">process_data.py</span>\n",
       "</pre>\n"
      ],
      "text/plain": [
       "\u001b[36mMy Project\u001b[0m\n",
       "├── \u001b[32mdata\u001b[0m\n",
       "├── \u001b[34mmodel\u001b[0m\n",
       "└── \u001b[31msrc\u001b[0m\n",
       "    └── \u001b[31mprocess_data.py\u001b[0m\n"
      ]
     },
     "metadata": {},
     "output_type": "display_data"
    }
   ],
   "source": [
    "from rich.tree import Tree\n",
    "from rich import print\n",
    "\n",
    "tree = Tree(\"[cyan]My Project\")\n",
    "tree.add(\"[green]data\")\n",
    "tree.add(\"[blue]model\")\n",
    "src = tree.add(\"[red]src\")\n",
    "src.add(\"[red]process_data.py\")\n",
    "print(tree)"
   ]
  },
  {
   "cell_type": "markdown",
   "id": "c97e3779",
   "metadata": {
    "ExecuteTime": {
     "end_time": "2022-06-13T14:20:56.065633Z",
     "start_time": "2022-06-13T14:20:56.060162Z"
    }
   },
   "source": [
    "[Link to rich](https://github.com/Textualize/rich/tree/aa7926c1431eebfb2ccaab9f3b63a4ac6cd8dfe6)."
   ]
  },
  {
   "cell_type": "markdown",
   "id": "3f132d1e",
   "metadata": {},
   "source": [
    "### latexify_py: Generates a LaTex Math Description From a Python Function"
   ]
  },
  {
   "cell_type": "code",
   "execution_count": null,
   "id": "5cf40b9b",
   "metadata": {
    "ExecuteTime": {
     "end_time": "2022-09-28T14:45:14.696449Z",
     "start_time": "2022-09-28T14:45:12.451295Z"
    },
    "tags": [
     "hide-cell"
    ]
   },
   "outputs": [],
   "source": [
    "!pip install latexify-py"
   ]
  },
  {
   "cell_type": "markdown",
   "id": "dc8f05c5",
   "metadata": {},
   "source": [
    "Have you ever wanted to add math description for your Python function but found it time-consuming to do so? latexify_py allows you to add LaTex math description with only one decorator."
   ]
  },
  {
   "cell_type": "code",
   "execution_count": 4,
   "id": "0b727db0",
   "metadata": {
    "ExecuteTime": {
     "end_time": "2022-09-28T14:45:57.557549Z",
     "start_time": "2022-09-28T14:45:57.549855Z"
    }
   },
   "outputs": [
    {
     "data": {
      "text/latex": [
       "$$ \\displaystyle \\mathrm{solve}(a, b, c)\\triangleq \\frac{-b + \\sqrt{b^{2} - 4ac}}{2a} $$"
      ],
      "text/plain": [
       "<latexify.core.with_latex.<locals>._LatexifiedFunction at 0x108520f70>"
      ]
     },
     "execution_count": 4,
     "metadata": {},
     "output_type": "execute_result"
    }
   ],
   "source": [
    "import math\n",
    "import latexify\n",
    "\n",
    "@latexify.with_latex\n",
    "def solve(a, b, c):\n",
    "    return (-b + math.sqrt(b**2 - 4*a*c)) / (2*a)\n",
    "\n",
    "solve"
   ]
  },
  {
   "cell_type": "code",
   "execution_count": 7,
   "id": "569f9ba9",
   "metadata": {
    "ExecuteTime": {
     "end_time": "2022-09-28T14:46:29.571456Z",
     "start_time": "2022-09-28T14:46:29.565307Z"
    }
   },
   "outputs": [
    {
     "data": {
      "text/latex": [
       "$$ \\displaystyle \\mathrm{sinc}(x)\\triangleq \\left\\{ \\begin{array}{ll} 1, & \\mathrm{if} \\ x=0 \\\\ \\frac{\\sin{\\left({x}\\right)}}{x}, & \\mathrm{otherwise} \\end{array} \\right. $$"
      ],
      "text/plain": [
       "<latexify.core.with_latex.<locals>._LatexifiedFunction at 0x1089b8040>"
      ]
     },
     "execution_count": 7,
     "metadata": {},
     "output_type": "execute_result"
    }
   ],
   "source": [
    "@latexify.with_latex\n",
    "def sinc(x):\n",
    "    if x == 0:\n",
    "        return 1\n",
    "    else:\n",
    "        return math.sin(x) / x\n",
    "\n",
    "sinc"
   ]
  },
  {
   "cell_type": "markdown",
   "id": "298aa172",
   "metadata": {},
   "source": [
    "[Link to latexify_py](https://github.com/google/latexify_py)."
   ]
  },
  {
   "attachments": {},
   "cell_type": "markdown",
   "id": "7676c963",
   "metadata": {},
   "source": [
    "### ManimML: Create Animations of Common ML Concepts in Python"
   ]
  },
  {
   "attachments": {},
   "cell_type": "markdown",
   "id": "aacd7dcd",
   "metadata": {},
   "source": [
    "If you want to create animations and visualizations for common ML concepts in Python, try ManimML.\n",
    "\n",
    "The GIF below is the visualization of Variational Autoencoder made by ManimML."
   ]
  },
  {
   "attachments": {},
   "cell_type": "markdown",
   "id": "8fd173df",
   "metadata": {},
   "source": [
    "![](../img/VAEScene.gif)"
   ]
  },
  {
   "attachments": {},
   "cell_type": "markdown",
   "id": "bdf8b697",
   "metadata": {},
   "source": [
    "[Link to ManimML](https://github.com/helblazer811/ManimML).\n",
    "\n",
    "ManimML is built on top of [Manim](https://towardsdatascience.com/how-to-create-mathematical-animations-like-3blue1brown-using-python-f571fb9da3d1?sk=67f831edb7de3560020c2ea0296447cf)."
   ]
  },
  {
   "cell_type": "markdown",
   "id": "cd16d22a",
   "metadata": {},
   "source": [
    "### Great Tables: Create Scientific-Looking Tables in Python"
   ]
  },
  {
   "cell_type": "code",
   "execution_count": null,
   "id": "f110d6e1",
   "metadata": {
    "tags": [
     "hide-cell"
    ]
   },
   "outputs": [],
   "source": [
    "!pip install great_tables "
   ]
  },
  {
   "cell_type": "markdown",
   "id": "6593193f",
   "metadata": {},
   "source": [
    "If you want to create visually appealing and scientific-looking tables in Python, use Great Tables. With Great Tables, you can customize your table by mixing and matching various elements such as headers, footers, and cell value formats.\n"
   ]
  },
  {
   "cell_type": "code",
   "execution_count": 14,
   "id": "119a54e3",
   "metadata": {},
   "outputs": [
    {
     "data": {
      "text/html": [
       "<div id=\"vcnaphavxa\" style=\"padding-left:0px;padding-right:0px;padding-top:10px;padding-bottom:10px;overflow-x:auto;overflow-y:auto;width:auto;height:auto;\">\n",
       "<style>\n",
       "#vcnaphavxa table {\n",
       "          font-family: -apple-system, BlinkMacSystemFont, 'Segoe UI', Roboto, Oxygen, Ubuntu, Cantarell, 'Helvetica Neue', 'Fira Sans', 'Droid Sans', Arial, sans-serif;\n",
       "          -webkit-font-smoothing: antialiased;\n",
       "          -moz-osx-font-smoothing: grayscale;\n",
       "        }\n",
       "\n",
       "#vcnaphavxa thead, tbody, tfoot, tr, td, th { border-style: none !important; }\n",
       " tr { background-color: transparent !important; }\n",
       "#vcnaphavxa p { margin: 0 !important; padding: 0 !important; }\n",
       " #vcnaphavxa .gt_table { display: table !important; border-collapse: collapse !important; line-height: normal !important; margin-left: auto !important; margin-right: auto !important; color: #333333 !important; font-size: 16px !important; font-weight: normal !important; font-style: normal !important; background-color: #FFFFFF !important; width: auto !important; border-top-style: solid !important; border-top-width: 2px !important; border-top-color: #A8A8A8 !important; border-right-style: none !important; border-right-width: 2px !important; border-right-color: #D3D3D3 !important; border-bottom-style: solid !important; border-bottom-width: 2px !important; border-bottom-color: #A8A8A8 !important; border-left-style: none !important; border-left-width: 2px !important; border-left-color: #D3D3D3 !important; }\n",
       " #vcnaphavxa .gt_caption { padding-top: 4px !important; padding-bottom: 4px !important; }\n",
       " #vcnaphavxa .gt_title { color: #333333 !important; font-size: 125% !important; font-weight: initial !important; padding-top: 4px !important; padding-bottom: 4px !important; padding-left: 5px !important; padding-right: 5px !important; border-bottom-color: #FFFFFF !important; border-bottom-width: 0 !important; }\n",
       " #vcnaphavxa .gt_subtitle { color: #333333 !important; font-size: 85% !important; font-weight: initial !important; padding-top: 3px !important; padding-bottom: 5px !important; padding-left: 5px !important; padding-right: 5px !important; border-top-color: #FFFFFF !important; border-top-width: 0 !important; }\n",
       " #vcnaphavxa .gt_heading { background-color: #FFFFFF !important; text-align: center !important; border-bottom-color: #FFFFFF !important; border-left-style: none !important; border-left-width: 1px !important; border-left-color: #D3D3D3 !important; border-right-style: none !important; border-right-width: 1px !important; border-right-color: #D3D3D3 !important; }\n",
       " #vcnaphavxa .gt_bottom_border { border-bottom-style: solid !important; border-bottom-width: 2px !important; border-bottom-color: #D3D3D3 !important; }\n",
       " #vcnaphavxa .gt_col_headings { border-top-style: solid !important; border-top-width: 2px !important; border-top-color: #D3D3D3 !important; border-bottom-style: solid !important; border-bottom-width: 2px !important; border-bottom-color: #D3D3D3 !important; border-left-style: none !important; border-left-width: 1px !important; border-left-color: #D3D3D3 !important; border-right-style: none !important; border-right-width: 1px !important; border-right-color: #D3D3D3 !important; }\n",
       " #vcnaphavxa .gt_col_heading { color: #333333 !important; background-color: #FFFFFF !important; font-size: 100% !important; font-weight: normal !important; text-transform: inherit !important; border-left-style: none !important; border-left-width: 1px !important; border-left-color: #D3D3D3 !important; border-right-style: none !important; border-right-width: 1px !important; border-right-color: #D3D3D3 !important; vertical-align: bottom !important; padding-top: 5px !important; padding-bottom: 5px !important; padding-left: 5px !important; padding-right: 5px !important; overflow-x: hidden !important; }\n",
       " #vcnaphavxa .gt_column_spanner_outer { color: #333333 !important; background-color: #FFFFFF !important; font-size: 100% !important; font-weight: normal !important; text-transform: inherit !important; padding-top: 0 !important; padding-bottom: 0 !important; padding-left: 4px !important; padding-right: 4px !important; }\n",
       " #vcnaphavxa .gt_column_spanner_outer:first-child { padding-left: 0 !important; }\n",
       " #vcnaphavxa .gt_column_spanner_outer:last-child { padding-right: 0 !important; }\n",
       " #vcnaphavxa .gt_column_spanner { border-bottom-style: solid !important; border-bottom-width: 2px !important; border-bottom-color: #D3D3D3 !important; vertical-align: bottom !important; padding-top: 5px !important; padding-bottom: 5px !important; overflow-x: hidden !important; display: inline-block !important; width: 100% !important; }\n",
       " #vcnaphavxa .gt_spanner_row { border-bottom-style: hidden !important; }\n",
       " #vcnaphavxa .gt_group_heading { padding-top: 8px !important; padding-bottom: 8px !important; padding-left: 5px !important; padding-right: 5px !important; color: #333333 !important; background-color: #FFFFFF !important; font-size: 100% !important; font-weight: initial !important; text-transform: inherit !important; border-top-style: solid !important; border-top-width: 2px !important; border-top-color: #D3D3D3 !important; border-bottom-style: solid !important; border-bottom-width: 2px !important; border-bottom-color: #D3D3D3 !important; border-left-style: none !important; border-left-width: 1px !important; border-left-color: #D3D3D3 !important; border-right-style: none !important; border-right-width: 1px !important; border-right-color: #D3D3D3 !important; vertical-align: middle !important; text-align: left !important; }\n",
       " #vcnaphavxa .gt_empty_group_heading { padding: 0.5px !important; color: #333333 !important; background-color: #FFFFFF !important; font-size: 100% !important; font-weight: initial !important; border-top-style: solid !important; border-top-width: 2px !important; border-top-color: #D3D3D3 !important; border-bottom-style: solid !important; border-bottom-width: 2px !important; border-bottom-color: #D3D3D3 !important; vertical-align: middle !important; }\n",
       " #vcnaphavxa .gt_from_md> :first-child { margin-top: 0 !important; }\n",
       " #vcnaphavxa .gt_from_md> :last-child { margin-bottom: 0 !important; }\n",
       " #vcnaphavxa .gt_row { padding-top: 8px !important; padding-bottom: 8px !important; padding-left: 5px !important; padding-right: 5px !important; margin: 10px !important; border-top-style: solid !important; border-top-width: 1px !important; border-top-color: #D3D3D3 !important; border-left-style: none !important; border-left-width: 1px !important; border-left-color: #D3D3D3 !important; border-right-style: none !important; border-right-width: 1px !important; border-right-color: #D3D3D3 !important; vertical-align: middle !important; overflow-x: hidden !important; }\n",
       " #vcnaphavxa .gt_stub { color: #333333 !important; background-color: #FFFFFF !important; font-size: 100% !important; font-weight: initial !important; text-transform: inherit !important; border-right-style: solid !important; border-right-width: 2px !important; border-right-color: #D3D3D3 !important; padding-left: 5px !important; padding-right: 5px !important; }\n",
       " #vcnaphavxa .gt_stub_row_group { color: #333333 !important; background-color: #FFFFFF !important; font-size: 100% !important; font-weight: initial !important; text-transform: inherit !important; border-right-style: solid !important; border-right-width: 2px !important; border-right-color: #D3D3D3 !important; padding-left: 5px !important; padding-right: 5px !important; vertical-align: top !important; }\n",
       " #vcnaphavxa .gt_row_group_first td { border-top-width: 2px !important; }\n",
       " #vcnaphavxa .gt_row_group_first th { border-top-width: 2px !important; }\n",
       " #vcnaphavxa .gt_table_body { border-top-style: solid !important; border-top-width: 2px !important; border-top-color: #D3D3D3 !important; border-bottom-style: solid !important; border-bottom-width: 2px !important; border-bottom-color: #D3D3D3 !important; }\n",
       " #vcnaphavxa .gt_sourcenotes { color: #333333 !important; background-color: #FFFFFF !important; border-bottom-style: none !important; border-bottom-width: 2px !important; border-bottom-color: #D3D3D3 !important; border-left-style: none !important; border-left-width: 2px !important; border-left-color: #D3D3D3 !important; border-right-style: none !important; border-right-width: 2px !important; border-right-color: #D3D3D3 !important; }\n",
       " #vcnaphavxa .gt_sourcenote { font-size: 90% !important; padding-top: 4px !important; padding-bottom: 4px !important; padding-left: 5px !important; padding-right: 5px !important; text-align: left !important; }\n",
       " #vcnaphavxa .gt_left { text-align: left !important; }\n",
       " #vcnaphavxa .gt_center { text-align: center !important; }\n",
       " #vcnaphavxa .gt_right { text-align: right !important; font-variant-numeric: tabular-nums !important; }\n",
       " #vcnaphavxa .gt_font_normal { font-weight: normal !important; }\n",
       " #vcnaphavxa .gt_font_bold { font-weight: bold !important; }\n",
       " #vcnaphavxa .gt_font_italic { font-style: italic !important; }\n",
       " #vcnaphavxa .gt_super { font-size: 65% !important; }\n",
       " #vcnaphavxa .gt_footnote_marks { font-size: 75% !important; vertical-align: 0.4em !important; position: initial !important; }\n",
       " #vcnaphavxa .gt_asterisk { font-size: 100% !important; vertical-align: 0 !important; }\n",
       " \n",
       "</style>\n",
       "<table class=\"gt_table\" data-quarto-disable-processing=\"false\" data-quarto-bootstrap=\"false\">\n",
       "<thead class=\"gt_header\">\n",
       "  <tr>\n",
       "    <th colspan=\"2\" class=\"gt_heading gt_title gt_font_normal\">Large Landmasses of the World</th>\n",
       "  </tr>\n",
       "  <tr>\n",
       "    <th colspan=\"2\" class=\"gt_heading gt_subtitle gt_font_normal gt_bottom_border\">The top ten largest are presented</th>\n",
       "  </tr>\n",
       "</thead>\n",
       "<tr class=\"gt_col_headings\">\n",
       "  <th class=\"gt_col_heading gt_columns_bottom_border gt_left\" rowspan=\"1\" colspan=\"1\" scope=\"col\" id=\"landmass\">landmass</th>\n",
       "  <th class=\"gt_col_heading gt_columns_bottom_border gt_right\" rowspan=\"1\" colspan=\"1\" scope=\"col\" id=\"size\">size</th>\n",
       "</tr>\n",
       "<tbody class=\"gt_table_body\">\n",
       "<tr>\n",
       "  <th class=\"gt_row gt_left gt_stub\">Asia</th>\n",
       "  <td class=\"gt_row gt_right\">16,988</td>\n",
       "</tr>\n",
       "<tr>\n",
       "  <th class=\"gt_row gt_left gt_stub\">Africa</th>\n",
       "  <td class=\"gt_row gt_right\">11,506</td>\n",
       "</tr>\n",
       "<tr>\n",
       "  <th class=\"gt_row gt_left gt_stub\">Antarctica</th>\n",
       "  <td class=\"gt_row gt_right\">5,500</td>\n",
       "</tr>\n",
       "<tr>\n",
       "  <th class=\"gt_row gt_left gt_stub\">Australia</th>\n",
       "  <td class=\"gt_row gt_right\">2,968</td>\n",
       "</tr>\n",
       "<tr>\n",
       "  <th class=\"gt_row gt_left gt_stub\">Borneo</th>\n",
       "  <td class=\"gt_row gt_right\">280</td>\n",
       "</tr>\n",
       "<tr>\n",
       "  <th class=\"gt_row gt_left gt_stub\">Baffin</th>\n",
       "  <td class=\"gt_row gt_right\">184</td>\n",
       "</tr>\n",
       "<tr>\n",
       "  <th class=\"gt_row gt_left gt_stub\">Britain</th>\n",
       "  <td class=\"gt_row gt_right\">84</td>\n",
       "</tr>\n",
       "<tr>\n",
       "  <th class=\"gt_row gt_left gt_stub\">Celebes</th>\n",
       "  <td class=\"gt_row gt_right\">73</td>\n",
       "</tr>\n",
       "<tr>\n",
       "  <th class=\"gt_row gt_left gt_stub\">Banks</th>\n",
       "  <td class=\"gt_row gt_right\">23</td>\n",
       "</tr>\n",
       "<tr>\n",
       "  <th class=\"gt_row gt_left gt_stub\">Axel Heiberg</th>\n",
       "  <td class=\"gt_row gt_right\">16</td>\n",
       "</tr>\n",
       "</tbody>\n",
       "  <tfoot class=\"gt_sourcenotes\">\n",
       "  \n",
       "  <tr>\n",
       "    <td class=\"gt_sourcenote\" colspan=\"2\">Source: The World Almanac and Book of Facts, 1975, page 406.</td>\n",
       "  </tr>\n",
       "\n",
       "\n",
       "  <tr>\n",
       "    <td class=\"gt_sourcenote\" colspan=\"2\">Reference: McNeil, D. R. (1977) <em>Interactive Data Analysis</em>. Wiley.</td>\n",
       "  </tr>\n",
       "\n",
       "</tfoot>\n",
       "\n",
       "</table>\n",
       "\n",
       "</div>\n",
       "        "
      ],
      "text/plain": [
       "GT(_tbl_data=           name   size\n",
       "2          Asia  16988\n",
       "0        Africa  11506\n",
       "1    Antarctica   5500\n",
       "3     Australia   2968\n",
       "7        Borneo    280\n",
       "5        Baffin    184\n",
       "8       Britain     84\n",
       "9       Celebes     73\n",
       "6         Banks     23\n",
       "4  Axel Heiberg     16, _body=<great_tables._gt_data.Body object at 0x127de23d0>, _boxhead=Boxhead([ColInfo(var='name', type=<ColInfoTypeEnum.stub: 2>, column_label='name', column_align='left', column_width=None), ColInfo(var='size', type=<ColInfoTypeEnum.default: 1>, column_label='size', column_align='right', column_width=None)]), _stub=Stub([RowInfo(rownum_i=0, group_id=None, rowname='Asia', group_label=None, built=False), RowInfo(rownum_i=1, group_id=None, rowname='Africa', group_label=None, built=False), RowInfo(rownum_i=2, group_id=None, rowname='Antarctica', group_label=None, built=False), RowInfo(rownum_i=3, group_id=None, rowname='Australia', group_label=None, built=False), RowInfo(rownum_i=4, group_id=None, rowname='Borneo', group_label=None, built=False), RowInfo(rownum_i=5, group_id=None, rowname='Baffin', group_label=None, built=False), RowInfo(rownum_i=6, group_id=None, rowname='Britain', group_label=None, built=False), RowInfo(rownum_i=7, group_id=None, rowname='Celebes', group_label=None, built=False), RowInfo(rownum_i=8, group_id=None, rowname='Banks', group_label=None, built=False), RowInfo(rownum_i=9, group_id=None, rowname='Axel Heiberg', group_label=None, built=False)]), _row_groups=[], _group_rows=GroupRows([]), _spanners=Spanners([]), _heading=Heading(title='Large Landmasses of the World', subtitle='The top ten largest are presented', preheader=None), _stubhead='landmass', _source_notes=['Source: The World Almanac and Book of Facts, 1975, page 406.', Text(text='Reference: McNeil, D. R. (1977) *Interactive Data Analysis*. Wiley.', type='from_markdown')], _footnotes=[], _styles=[], _locale=<great_tables._gt_data.Locale object at 0x127de3290>, _formats=[<great_tables._gt_data.FormatInfo object at 0x127de38d0>], _substitutions=[], _options=Options(table_id=OptionsInfo(scss=False, category='table', type='value', value=None), table_caption=OptionsInfo(scss=False, category='table', type='value', value=None), table_width=OptionsInfo(scss=True, category='table', type='px', value='auto'), table_layout=OptionsInfo(scss=True, category='table', type='value', value='fixed'), table_margin_left=OptionsInfo(scss=True, category='table', type='px', value='auto'), table_margin_right=OptionsInfo(scss=True, category='table', type='px', value='auto'), table_background_color=OptionsInfo(scss=True, category='table', type='value', value='#FFFFFF'), table_font_names=OptionsInfo(scss=False, category='table', type='values', value=['-apple-system', 'BlinkMacSystemFont', 'Segoe UI', 'Roboto', 'Oxygen', 'Ubuntu', 'Cantarell', 'Helvetica Neue', 'Fira Sans', 'Droid Sans', 'Arial', 'sans-serif']), table_font_size=OptionsInfo(scss=True, category='table', type='px', value='16px'), table_font_weight=OptionsInfo(scss=True, category='table', type='value', value='normal'), table_font_style=OptionsInfo(scss=True, category='table', type='value', value='normal'), table_font_color=OptionsInfo(scss=True, category='table', type='value', value='#333333'), table_font_color_light=OptionsInfo(scss=True, category='table', type='value', value='#FFFFFF'), table_border_top_include=OptionsInfo(scss=False, category='table', type='boolean', value=True), table_border_top_style=OptionsInfo(scss=True, category='table', type='value', value='solid'), table_border_top_width=OptionsInfo(scss=True, category='table', type='px', value='2px'), table_border_top_color=OptionsInfo(scss=True, category='table', type='value', value='#A8A8A8'), table_border_right_style=OptionsInfo(scss=True, category='table', type='value', value='none'), table_border_right_width=OptionsInfo(scss=True, category='table', type='px', value='2px'), table_border_right_color=OptionsInfo(scss=True, category='table', type='value', value='#D3D3D3'), table_border_bottom_include=OptionsInfo(scss=False, category='table', type='boolean', value=True), table_border_bottom_style=OptionsInfo(scss=True, category='table', type='value', value='solid'), table_border_bottom_width=OptionsInfo(scss=True, category='table', type='px', value='2px'), table_border_bottom_color=OptionsInfo(scss=True, category='table', type='value', value='#A8A8A8'), table_border_left_style=OptionsInfo(scss=True, category='table', type='value', value='none'), table_border_left_width=OptionsInfo(scss=True, category='table', type='px', value='2px'), table_border_left_color=OptionsInfo(scss=True, category='table', type='value', value='#D3D3D3'), heading_background_color=OptionsInfo(scss=True, category='heading', type='value', value=None), heading_align=OptionsInfo(scss=True, category='heading', type='value', value='center'), heading_title_font_size=OptionsInfo(scss=True, category='heading', type='px', value='125%'), heading_title_font_weight=OptionsInfo(scss=True, category='heading', type='value', value='initial'), heading_subtitle_font_size=OptionsInfo(scss=True, category='heading', type='px', value='85%'), heading_subtitle_font_weight=OptionsInfo(scss=True, category='heading', type='value', value='initial'), heading_padding=OptionsInfo(scss=True, category='heading', type='px', value='4px'), heading_padding_horizontal=OptionsInfo(scss=True, category='heading', type='px', value='5px'), heading_border_bottom_style=OptionsInfo(scss=True, category='heading', type='value', value='solid'), heading_border_bottom_width=OptionsInfo(scss=True, category='heading', type='px', value='2px'), heading_border_bottom_color=OptionsInfo(scss=True, category='heading', type='value', value='#D3D3D3'), heading_border_lr_style=OptionsInfo(scss=True, category='heading', type='value', value='none'), heading_border_lr_width=OptionsInfo(scss=True, category='heading', type='px', value='1px'), heading_border_lr_color=OptionsInfo(scss=True, category='heading', type='value', value='#D3D3D3'), column_labels_background_color=OptionsInfo(scss=True, category='column_labels', type='value', value=None), column_labels_font_size=OptionsInfo(scss=True, category='column_labels', type='px', value='100%'), column_labels_font_weight=OptionsInfo(scss=True, category='column_labels', type='value', value='normal'), column_labels_text_transform=OptionsInfo(scss=True, category='column_labels', type='value', value='inherit'), column_labels_padding=OptionsInfo(scss=True, category='column_labels', type='px', value='5px'), column_labels_padding_horizontal=OptionsInfo(scss=True, category='column_labels', type='px', value='5px'), column_labels_vlines_style=OptionsInfo(scss=True, category='table_body', type='value', value='none'), column_labels_vlines_width=OptionsInfo(scss=True, category='table_body', type='px', value='1px'), column_labels_vlines_color=OptionsInfo(scss=True, category='table_body', type='value', value='#D3D3D3'), column_labels_border_top_style=OptionsInfo(scss=True, category='column_labels', type='value', value='solid'), column_labels_border_top_width=OptionsInfo(scss=True, category='column_labels', type='px', value='2px'), column_labels_border_top_color=OptionsInfo(scss=True, category='column_labels', type='value', value='#D3D3D3'), column_labels_border_bottom_style=OptionsInfo(scss=True, category='column_labels', type='value', value='solid'), column_labels_border_bottom_width=OptionsInfo(scss=True, category='column_labels', type='px', value='2px'), column_labels_border_bottom_color=OptionsInfo(scss=True, category='column_labels', type='value', value='#D3D3D3'), column_labels_border_lr_style=OptionsInfo(scss=True, category='column_labels', type='value', value='none'), column_labels_border_lr_width=OptionsInfo(scss=True, category='column_labels', type='px', value='1px'), column_labels_border_lr_color=OptionsInfo(scss=True, category='column_labels', type='value', value='#D3D3D3'), column_labels_hidden=OptionsInfo(scss=False, category='column_labels', type='boolean', value=False), row_group_background_color=OptionsInfo(scss=True, category='row_group', type='value', value=None), row_group_font_size=OptionsInfo(scss=True, category='row_group', type='px', value='100%'), row_group_font_weight=OptionsInfo(scss=True, category='row_group', type='value', value='initial'), row_group_text_transform=OptionsInfo(scss=True, category='row_group', type='value', value='inherit'), row_group_padding=OptionsInfo(scss=True, category='row_group', type='px', value='8px'), row_group_padding_horizontal=OptionsInfo(scss=True, category='row_group', type='px', value='5px'), row_group_border_top_style=OptionsInfo(scss=True, category='row_group', type='value', value='solid'), row_group_border_top_width=OptionsInfo(scss=True, category='row_group', type='px', value='2px'), row_group_border_top_color=OptionsInfo(scss=True, category='row_group', type='value', value='#D3D3D3'), row_group_border_right_style=OptionsInfo(scss=True, category='row_group', type='value', value='none'), row_group_border_right_width=OptionsInfo(scss=True, category='row_group', type='px', value='1px'), row_group_border_right_color=OptionsInfo(scss=True, category='row_group', type='value', value='#D3D3D3'), row_group_border_bottom_style=OptionsInfo(scss=True, category='row_group', type='value', value='solid'), row_group_border_bottom_width=OptionsInfo(scss=True, category='row_group', type='px', value='2px'), row_group_border_bottom_color=OptionsInfo(scss=True, category='row_group', type='value', value='#D3D3D3'), row_group_border_left_style=OptionsInfo(scss=True, category='row_group', type='value', value='none'), row_group_border_left_width=OptionsInfo(scss=True, category='row_group', type='px', value='1px'), row_group_border_left_color=OptionsInfo(scss=True, category='row_group', type='value', value='#D3D3D3'), row_group_as_column=OptionsInfo(scss=False, category='row_group', type='boolean', value=False), table_body_hlines_style=OptionsInfo(scss=True, category='table_body', type='value', value='solid'), table_body_hlines_width=OptionsInfo(scss=True, category='table_body', type='px', value='1px'), table_body_hlines_color=OptionsInfo(scss=True, category='table_body', type='value', value='#D3D3D3'), table_body_vlines_style=OptionsInfo(scss=True, category='table_body', type='value', value='none'), table_body_vlines_width=OptionsInfo(scss=True, category='table_body', type='px', value='1px'), table_body_vlines_color=OptionsInfo(scss=True, category='table_body', type='value', value='#D3D3D3'), table_body_border_top_style=OptionsInfo(scss=True, category='table_body', type='value', value='solid'), table_body_border_top_width=OptionsInfo(scss=True, category='table_body', type='px', value='2px'), table_body_border_top_color=OptionsInfo(scss=True, category='table_body', type='value', value='#D3D3D3'), table_body_border_bottom_style=OptionsInfo(scss=True, category='table_body', type='value', value='solid'), table_body_border_bottom_width=OptionsInfo(scss=True, category='table_body', type='px', value='2px'), table_body_border_bottom_color=OptionsInfo(scss=True, category='table_body', type='value', value='#D3D3D3'), data_row_padding=OptionsInfo(scss=True, category='data_row', type='px', value='8px'), data_row_padding_horizontal=OptionsInfo(scss=True, category='data_row', type='px', value='5px'), stub_background_color=OptionsInfo(scss=True, category='stub', type='value', value=None), stub_font_size=OptionsInfo(scss=True, category='stub', type='px', value='100%'), stub_font_weight=OptionsInfo(scss=True, category='stub', type='value', value='initial'), stub_text_transform=OptionsInfo(scss=True, category='stub', type='value', value='inherit'), stub_border_style=OptionsInfo(scss=True, category='stub', type='value', value='solid'), stub_border_width=OptionsInfo(scss=True, category='stub', type='px', value='2px'), stub_border_color=OptionsInfo(scss=True, category='stub', type='value', value='#D3D3D3'), stub_row_group_background_color=OptionsInfo(scss=True, category='stub', type='value', value=None), stub_row_group_font_size=OptionsInfo(scss=True, category='stub', type='px', value='100%'), stub_row_group_font_weight=OptionsInfo(scss=True, category='stub', type='value', value='initial'), stub_row_group_text_transform=OptionsInfo(scss=True, category='stub', type='value', value='inherit'), stub_row_group_border_style=OptionsInfo(scss=True, category='stub', type='value', value='solid'), stub_row_group_border_width=OptionsInfo(scss=True, category='stub', type='px', value='2px'), stub_row_group_border_color=OptionsInfo(scss=True, category='stub', type='value', value='#D3D3D3'), source_notes_padding=OptionsInfo(scss=True, category='source_notes', type='px', value='4px'), source_notes_padding_horizontal=OptionsInfo(scss=True, category='source_notes', type='px', value='5px'), source_notes_background_color=OptionsInfo(scss=True, category='source_notes', type='value', value=None), source_notes_font_size=OptionsInfo(scss=True, category='source_notes', type='px', value='90%'), source_notes_border_bottom_style=OptionsInfo(scss=True, category='source_notes', type='value', value='none'), source_notes_border_bottom_width=OptionsInfo(scss=True, category='source_notes', type='px', value='2px'), source_notes_border_bottom_color=OptionsInfo(scss=True, category='source_notes', type='value', value='#D3D3D3'), source_notes_border_lr_style=OptionsInfo(scss=True, category='source_notes', type='value', value='none'), source_notes_border_lr_width=OptionsInfo(scss=True, category='source_notes', type='px', value='2px'), source_notes_border_lr_color=OptionsInfo(scss=True, category='source_notes', type='value', value='#D3D3D3'), source_notes_multiline=OptionsInfo(scss=False, category='source_notes', type='boolean', value=True), source_notes_sep=OptionsInfo(scss=False, category='source_notes', type='value', value=' '), container_width=OptionsInfo(scss=False, category='container', type='px', value='auto'), container_height=OptionsInfo(scss=False, category='container', type='px', value='auto'), container_padding_x=OptionsInfo(scss=False, category='container', type='px', value='0px'), container_padding_y=OptionsInfo(scss=False, category='container', type='px', value='10px'), container_overflow_x=OptionsInfo(scss=False, category='container', type='overflow', value='auto'), container_overflow_y=OptionsInfo(scss=False, category='container', type='overflow', value='auto'), quarto_disable_processing=OptionsInfo(scss=False, category='quarto', type='logical', value=False), quarto_use_bootstrap=OptionsInfo(scss=False, category='quarto', type='logical', value=False)), _has_built=False)"
      ]
     },
     "execution_count": 14,
     "metadata": {},
     "output_type": "execute_result"
    }
   ],
   "source": [
    "from great_tables import GT, md\n",
    "from great_tables.data import islands\n",
    "\n",
    "islands_mini = islands.head(10).sort_values(by=\"size\", ascending=False) # pandas DataFrame\n",
    "\n",
    "(\n",
    "    GT(islands_mini, rowname_col=\"name\")\n",
    "    .tab_header(\n",
    "        title=\"Large Landmasses of the World\",\n",
    "        subtitle=\"The top ten largest are presented\",\n",
    "    )\n",
    "    .tab_source_note(\n",
    "        source_note=\"Source: The World Almanac and Book of Facts, 1975, page 406.\"\n",
    "    )\n",
    "    .tab_source_note(\n",
    "        source_note=md(\n",
    "            \"Reference: McNeil, D. R. (1977) *Interactive Data Analysis*. Wiley.\"\n",
    "        )\n",
    "    )\n",
    "    .tab_stubhead(label=\"landmass\")\n",
    "    .fmt_number(columns=\"size\", sep_mark=\",\", decimals=0)\n",
    ")"
   ]
  },
  {
   "cell_type": "markdown",
   "id": "f2559ba3",
   "metadata": {},
   "source": [
    "[Link to Great Tables](https://bit.ly/3U58fvP)."
   ]
  }
 ],
 "metadata": {
  "celltoolbar": "Tags",
  "hide_input": false,
  "kernelspec": {
   "display_name": "venv",
   "language": "python",
   "name": "python3"
  },
  "language_info": {
   "codemirror_mode": {
    "name": "ipython",
    "version": 3
   },
   "file_extension": ".py",
   "mimetype": "text/x-python",
   "name": "python",
   "nbconvert_exporter": "python",
   "pygments_lexer": "ipython3",
   "version": "3.11.6"
  },
  "toc": {
   "base_numbering": 1,
   "nav_menu": {},
   "number_sections": true,
   "sideBar": true,
   "skip_h1_title": false,
   "title_cell": "Table of Contents",
   "title_sidebar": "Contents",
   "toc_cell": false,
   "toc_position": {},
   "toc_section_display": true,
   "toc_window_display": false
  },
  "vscode": {
   "interpreter": {
    "hash": "c3bc044b9863ed6dec4c55e7ad5af27f030f7d27aed3f39d7a4886a926c4e2c1"
   }
  }
 },
 "nbformat": 4,
 "nbformat_minor": 5
}
