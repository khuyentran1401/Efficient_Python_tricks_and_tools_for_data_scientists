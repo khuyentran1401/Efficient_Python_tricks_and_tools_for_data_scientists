{
 "cells": [
  {
   "cell_type": "markdown",
   "id": "eca1af78",
   "metadata": {},
   "source": [
    "## Better Outputs"
   ]
  },
  {
   "cell_type": "markdown",
   "id": "228febf0",
   "metadata": {},
   "source": [
    "### How to Strip Outputs and Execute Interactive Code in a Python Script\n"
   ]
  },
  {
   "cell_type": "code",
   "execution_count": null,
   "id": "fd47bc73",
   "metadata": {
    "tags": [
     "hide-cell"
    ]
   },
   "outputs": [],
   "source": [
    "!pip install strip-interactive"
   ]
  },
  {
   "cell_type": "markdown",
   "id": "2f883d72",
   "metadata": {},
   "source": [
    "Have you ever seen a tutorial with an interactive Python code and wished to execute it in a Python script like above?\n",
    "\n",
    "It might be time-consuming to delete all `>>>` symbols and remove all outputs, especially when the code is long. That is why I created strip-interactive."
   ]
  },
  {
   "cell_type": "code",
   "execution_count": 3,
   "id": "76d79595",
   "metadata": {
    "ExecuteTime": {
     "end_time": "2021-09-12T13:09:01.220320Z",
     "start_time": "2021-09-12T13:09:01.210675Z"
    }
   },
   "outputs": [
    {
     "name": "stdout",
     "output_type": "stream",
     "text": [
      "[1 2 3]\n",
      "[4 5 6]\n",
      "\n"
     ]
    }
   ],
   "source": [
    "from strip_interactive import run_interactive\n",
    "\n",
    "code = \"\"\"\n",
    ">>> import numpy as np\n",
    ">>> print(np.array([1,2,3]))\n",
    "[1 2 3]\n",
    ">>> print(np.array([4,5,6]))\n",
    "[4 5 6]\n",
    "\"\"\"\n",
    "\n",
    "clean_code = run_interactive(code)"
   ]
  },
  {
   "cell_type": "markdown",
   "id": "47b33c26",
   "metadata": {},
   "source": [
    "[Link to the article about strip-interactive](https://towardsdatascience.com/how-to-strip-outputs-and-execute-interactive-code-in-a-python-script-6d4c5da3beb0?sk=1db3d887884ad2429b9c78e1c72a2a4d).\n",
    "\n",
    "[Link to strip-interactive](https://github.com/khuyentran1401/strip_interactive)."
   ]
  },
  {
   "cell_type": "markdown",
   "id": "1655b404",
   "metadata": {},
   "source": [
    "### Pyfiglet: Make Large and Unique Letters Out of Ordinary Text in Python"
   ]
  },
  {
   "cell_type": "code",
   "execution_count": null,
   "id": "f01020ea",
   "metadata": {
    "tags": [
     "hide-cell"
    ]
   },
   "outputs": [],
   "source": [
    "!pip install pyfiglet"
   ]
  },
  {
   "cell_type": "markdown",
   "id": "8cb69dc6",
   "metadata": {},
   "source": [
    "If you want to make large and unique letters out of ordinary text using Python, try pyfiglet. Below are some outputs of pyfiglet:"
   ]
  },
  {
   "cell_type": "code",
   "execution_count": 18,
   "id": "4c6dbae6",
   "metadata": {
    "ExecuteTime": {
     "end_time": "2021-09-12T13:19:05.495028Z",
     "start_time": "2021-09-12T13:19:05.472121Z"
    }
   },
   "outputs": [
    {
     "name": "stdout",
     "output_type": "stream",
     "text": [
      " _   _      _ _       \n",
      "| | | | ___| | | ___  \n",
      "| |_| |/ _ \\ | |/ _ \\ \n",
      "|  _  |  __/ | | (_) |\n",
      "|_| |_|\\___|_|_|\\___/ \n",
      "                      \n",
      "\n"
     ]
    }
   ],
   "source": [
    "import pyfiglet\n",
    "from termcolor import colored, cprint\n",
    "\n",
    "out = pyfiglet.figlet_format(\"Hello\")\n",
    "print(out)"
   ]
  },
  {
   "cell_type": "code",
   "execution_count": 20,
   "id": "d3ba14e3",
   "metadata": {
    "ExecuteTime": {
     "end_time": "2021-09-12T13:19:21.005995Z",
     "start_time": "2021-09-12T13:19:20.991323Z"
    }
   },
   "outputs": [
    {
     "name": "stdout",
     "output_type": "stream",
     "text": [
      "    __  __     ____    \n",
      "   / / / /__  / / /___ \n",
      "  / /_/ / _ \\/ / / __ \\\n",
      " / __  /  __/ / / /_/ /\n",
      "/_/ /_/\\___/_/_/\\____/ \n",
      "                       \n",
      "\n"
     ]
    }
   ],
   "source": [
    "out = pyfiglet.figlet_format(\"Hello\", font='slant')\n",
    "print(out)"
   ]
  },
  {
   "cell_type": "code",
   "execution_count": 21,
   "id": "80fc7dd4",
   "metadata": {
    "ExecuteTime": {
     "end_time": "2021-09-12T13:19:23.008693Z",
     "start_time": "2021-09-12T13:19:22.998546Z"
    }
   },
   "outputs": [
    {
     "name": "stdout",
     "output_type": "stream",
     "text": [
      "\u001b[34m __  __         .    .         \n",
      " |   |    ___   |    |     __. \n",
      " |___|  .'   `  |    |   .'   \\\n",
      " |   |  |----'  |    |   |    |\n",
      " /   /  `.___, /\\__ /\\__  `._.'\n",
      "                               \n",
      "\u001b[0m\n"
     ]
    }
   ],
   "source": [
    "cprint(pyfiglet.figlet_format('Hello', font='bell'), 'blue')"
   ]
  },
  {
   "cell_type": "markdown",
   "id": "0a489579",
   "metadata": {},
   "source": [
    "This could be used as the welcome message for your Python package 🙂"
   ]
  },
  {
   "cell_type": "markdown",
   "id": "a0362878",
   "metadata": {},
   "source": [
    "[Link to pyfiglet](https://github.com/pwaller/pyfiglet).\n",
    "\n",
    "[Link to termcolor](https://pypi.org/project/termcolor/)."
   ]
  },
  {
   "cell_type": "markdown",
   "id": "8f4c1524",
   "metadata": {},
   "source": [
    "### Typer: Build a Command-Line Interface in a Few Lines of Code"
   ]
  },
  {
   "cell_type": "code",
   "execution_count": null,
   "id": "03b116e5",
   "metadata": {
    "tags": [
     "hide-cell"
    ]
   },
   "outputs": [],
   "source": [
    "!pip install typer "
   ]
  },
  {
   "cell_type": "markdown",
   "id": "1d929e78",
   "metadata": {},
   "source": [
    "The last thing you want to happen is to have users dig into your code to run it. Is there a way that users can insert arguments into your code on the command line?\n",
    "\n",
    "That is when Typer comes in handy. Typer allows you to build a command-line interface in a few lines of code based on Python-type hints."
   ]
  },
  {
   "cell_type": "markdown",
   "id": "0db31d75",
   "metadata": {},
   "source": [
    "For example, in a file named `typer_example`, write:"
   ]
  },
  {
   "cell_type": "markdown",
   "id": "0376d21d",
   "metadata": {},
   "source": [
    "```python\n",
    "import typer \n",
    "\n",
    "def process_data(data: str, version: int):\n",
    "    print(f'Processing {data},' \n",
    "          f'version {version}')\n",
    "\n",
    "if __name__ == '__main__':\n",
    "    typer.run(process_data)\n",
    "```"
   ]
  },
  {
   "cell_type": "markdown",
   "id": "7b1b2b69",
   "metadata": {},
   "source": [
    "On your terminal, type:\n",
    "```bash\n",
    "python typer_example.py data 1\n",
    "```\n",
    "And you should see an output like below:"
   ]
  },
  {
   "cell_type": "code",
   "execution_count": 20,
   "id": "031e8f17",
   "metadata": {
    "ExecuteTime": {
     "end_time": "2021-09-12T13:44:17.024849Z",
     "start_time": "2021-09-12T13:44:16.765577Z"
    },
    "tags": [
     "hide-input"
    ]
   },
   "outputs": [
    {
     "name": "stdout",
     "output_type": "stream",
     "text": [
      "Processing data,version 1\r\n"
     ]
    }
   ],
   "source": [
    "!python typer_example.py data 1"
   ]
  },
  {
   "cell_type": "markdown",
   "id": "c21d09e1",
   "metadata": {},
   "source": [
    "[Link to Typer](https://typer.tiangolo.com/).\n",
    "\n",
    "[My full article about Typer](https://towardsdatascience.com/typer-build-powerful-clis-in-one-line-of-code-using-python-321d9aef3be8)."
   ]
  }
 ],
 "metadata": {
  "celltoolbar": "Tags",
  "kernelspec": {
   "display_name": "Python 3 (ipykernel)",
   "language": "python",
   "name": "python3"
  },
  "language_info": {
   "codemirror_mode": {
    "name": "ipython",
    "version": 3
   },
   "file_extension": ".py",
   "mimetype": "text/x-python",
   "name": "python",
   "nbconvert_exporter": "python",
   "pygments_lexer": "ipython3",
   "version": "3.8.10"
  },
  "toc": {
   "base_numbering": 1,
   "nav_menu": {},
   "number_sections": true,
   "sideBar": true,
   "skip_h1_title": false,
   "title_cell": "Table of Contents",
   "title_sidebar": "Contents",
   "toc_cell": false,
   "toc_position": {},
   "toc_section_display": true,
   "toc_window_display": false
  }
 },
 "nbformat": 4,
 "nbformat_minor": 5
}
