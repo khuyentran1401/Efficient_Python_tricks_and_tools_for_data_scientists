{
 "cells": [
  {
   "cell_type": "markdown",
   "id": "42049e2d",
   "metadata": {},
   "source": [
    "## Better Outputs"
   ]
  },
  {
   "cell_type": "markdown",
   "id": "bfed1e1f",
   "metadata": {},
   "source": [
    "### How to Strip Outputs and Execute Interactive Code in a Python Script"
   ]
  },
  {
   "cell_type": "code",
   "execution_count": null,
   "id": "16c0073a",
   "metadata": {
    "tags": [
     "hide-cell"
    ]
   },
   "outputs": [],
   "source": [
    "!pip install strip-interactive"
   ]
  },
  {
   "cell_type": "markdown",
   "id": "d1151266",
   "metadata": {},
   "source": [
    "Have you ever seen a tutorial with an interactive Python code and wished to execute it in a Python script like above?\n",
    "\n",
    "It might be time-consuming to delete all `>>>` symbols and remove all outputs, especially when the code is long. That is why I created strip-interactive."
   ]
  },
  {
   "cell_type": "code",
   "execution_count": null,
   "id": "b124bb2b",
   "metadata": {},
   "outputs": [],
   "source": [
    "from strip_interactive import run_interactive\n",
    "\n",
    "code = \"\"\"\n",
    ">>> import numpy as np\n",
    ">>> print(np.array([1,2,3]))\n",
    "[1 2 3]\n",
    ">>> print(np.array([4,5,6]))\n",
    "[4 5 6]\n",
    "\"\"\"\n",
    "\n",
    "clean_code = run_interactive(code)"
   ]
  },
  {
   "cell_type": "markdown",
   "id": "c7509998",
   "metadata": {},
   "source": [
    "[Link to the article about strip-interactive](https://towardsdatascience.com/how-to-strip-outputs-and-execute-interactive-code-in-a-python-script-6d4c5da3beb0?sk=1db3d887884ad2429b9c78e1c72a2a4d).\n",
    "\n",
    "[Link to strip-interactive](https://github.com/khuyentran1401/strip_interactive)."
   ]
  },
  {
   "cell_type": "markdown",
   "id": "9e4dab6f",
   "metadata": {},
   "source": [
    "### Pyfiglet: Make Large and Unique Letters Out of Ordinary Text in Python"
   ]
  },
  {
   "cell_type": "code",
   "execution_count": null,
   "id": "a2344b2c",
   "metadata": {
    "tags": [
     "hide-cell"
    ]
   },
   "outputs": [],
   "source": [
    "!pip install pyfiglet"
   ]
  },
  {
   "cell_type": "markdown",
   "id": "6ea34799",
   "metadata": {},
   "source": [
    "If you want to make large and unique letters out of ordinary text using Python, try pyfiglet. Below are some outputs of pyfiglet:"
   ]
  },
  {
   "cell_type": "code",
   "execution_count": null,
   "id": "8c5ec076",
   "metadata": {},
   "outputs": [],
   "source": [
    "import pyfiglet\n",
    "from termcolor import colored, cprint\n",
    "\n",
    "out = pyfiglet.figlet_format(\"Hello\")\n",
    "print(out)"
   ]
  },
  {
   "cell_type": "code",
   "execution_count": null,
   "id": "1bf9a295",
   "metadata": {},
   "outputs": [],
   "source": [
    "out = pyfiglet.figlet_format(\"Hello\", font='slant')\n",
    "print(out)"
   ]
  },
  {
   "cell_type": "code",
   "execution_count": null,
   "id": "74b4593e",
   "metadata": {},
   "outputs": [],
   "source": [
    "cprint(pyfiglet.figlet_format('Hello', font='bell'), 'blue')"
   ]
  },
  {
   "cell_type": "markdown",
   "id": "95c007fd",
   "metadata": {},
   "source": [
    "This could be used as the welcome message for your Python package 🙂"
   ]
  },
  {
   "cell_type": "markdown",
   "id": "5ec1756f",
   "metadata": {},
   "source": [
    "[Link to pyfiglet](https://github.com/pwaller/pyfiglet).\n",
    "\n",
    "[Link to termcolor](https://pypi.org/project/termcolor/)."
   ]
  },
  {
   "cell_type": "markdown",
   "id": "7b687b2e",
   "metadata": {},
   "source": [
    "### Python Fire: Generate a CLI for Any Python Objects in Two Lines of Code"
   ]
  },
  {
   "cell_type": "code",
   "execution_count": null,
   "id": "fe273b00",
   "metadata": {
    "tags": [
     "hide-cell"
    ]
   },
   "outputs": [],
   "source": [
    "!pip install fire"
   ]
  },
  {
   "cell_type": "markdown",
   "id": "8282c29b",
   "metadata": {},
   "source": [
    "Have you ever wanted to adjust the values of Python objects from the command line, but found it inconvenient to do so?  With Python Fire, you can easily generate a command-line interface for any Python object in just two lines of code."
   ]
  },
  {
   "cell_type": "markdown",
   "id": "4955af37",
   "metadata": {},
   "source": [
    "To see how Python Fire works, let's look at an example. Start with creating file named `fire_example.py`:"
   ]
  },
  {
   "cell_type": "code",
   "execution_count": null,
   "id": "98344e9e",
   "metadata": {},
   "outputs": [],
   "source": [
    "%%writefile fire_example.py\n",
    "import fire\n",
    "\n",
    "\n",
    "def get_mean(numbers: list):\n",
    "    return sum(numbers) / len(numbers)\n",
    "\n",
    "\n",
    "def get_modulo(num1: int, num2: int):\n",
    "    return num1 % num2\n",
    "\n",
    "\n",
    "if __name__ == \"__main__\":\n",
    "    fire.Fire()"
   ]
  },
  {
   "cell_type": "markdown",
   "id": "23991eef",
   "metadata": {},
   "source": [
    "Then run the following command on your terminal:\n",
    "\n",
    "```bash\n",
    "$ python fire_example.py get_mean \"[1, 2, 3]\"\n",
    "```"
   ]
  },
  {
   "cell_type": "code",
   "execution_count": null,
   "id": "0747041b",
   "metadata": {
    "tags": [
     "remove-input"
    ]
   },
   "outputs": [],
   "source": [
    "!python fire_example.py get_mean \"[1, 2, 3]\""
   ]
  },
  {
   "cell_type": "markdown",
   "id": "b33cb19d",
   "metadata": {},
   "source": [
    "```bash\n",
    "$ python fire_example.py get_modulo --num1=3 --num2=2\n",
    "```"
   ]
  },
  {
   "cell_type": "code",
   "execution_count": null,
   "id": "186cc1ab",
   "metadata": {
    "tags": [
     "remove-input"
    ]
   },
   "outputs": [],
   "source": [
    "!python fire_example.py get_modulo --num1=3 --num2=2"
   ]
  },
  {
   "cell_type": "markdown",
   "id": "7ccfe09d",
   "metadata": {},
   "source": [
    "[Link to Python Fire](https://github.com/google/python-fire)."
   ]
  },
  {
   "cell_type": "markdown",
   "id": "c6550fee",
   "metadata": {},
   "source": [
    "### Typer: Build a Command-Line Interface in a Few Lines of Code"
   ]
  },
  {
   "cell_type": "code",
   "execution_count": null,
   "id": "c0cd51d1",
   "metadata": {
    "tags": [
     "hide-cell"
    ]
   },
   "outputs": [],
   "source": [
    "!pip install typer "
   ]
  },
  {
   "cell_type": "markdown",
   "id": "b6f1d34b",
   "metadata": {},
   "source": [
    "While Python Fire is easy to use, it doesn't provide much flexibility in terms of customization. Typer offers tools for building CLI applications in Python with a more explicit syntax. Typer also uses type annotations to validate user input."
   ]
  },
  {
   "cell_type": "markdown",
   "id": "a117150a",
   "metadata": {},
   "source": [
    "To see how Typer works, let's look at an example. Start with creating file named `typer_example.py`:"
   ]
  },
  {
   "cell_type": "code",
   "execution_count": null,
   "id": "3ef79018",
   "metadata": {},
   "outputs": [],
   "source": [
    "%%writefile typer_example.py\n",
    "import typer\n",
    "\n",
    "app = typer.Typer()\n",
    "\n",
    "@app.command()\n",
    "def add_numbers(x: float, y: float):\n",
    "    \"\"\"Adds two numbers and prints the result.\"\"\"\n",
    "    result = x + y\n",
    "    print(f\"The sum of {x} and {y} is {result}.\")\n",
    "\n",
    "if __name__ == \"__main__\":\n",
    "    app()"
   ]
  },
  {
   "cell_type": "markdown",
   "id": "299aad16",
   "metadata": {},
   "source": [
    "Then run the following command on your terminal:\n",
    "```bash\n",
    "$ python typer_example.py hello world\n",
    "```\n",
    "And you should see an output like below:"
   ]
  },
  {
   "cell_type": "code",
   "execution_count": null,
   "id": "a375632a",
   "metadata": {
    "tags": [
     "hide-input"
    ]
   },
   "outputs": [],
   "source": [
    "!python typer_example.py hello world"
   ]
  },
  {
   "cell_type": "markdown",
   "id": "c7fe2ebf",
   "metadata": {},
   "source": [
    "You can see that when the input is not a valid float, Typer raised a `TypeError` with a helpful error message."
   ]
  },
  {
   "cell_type": "markdown",
   "id": "da34a688",
   "metadata": {},
   "source": [
    "Providing the valid inputs will give the following output:\n",
    "```bash\n",
    "$ python typer_example.py 3 2\n",
    "```"
   ]
  },
  {
   "cell_type": "code",
   "execution_count": null,
   "id": "254fec60",
   "metadata": {
    "tags": [
     "remove-input"
    ]
   },
   "outputs": [],
   "source": [
    "!python typer_example.py 3 2"
   ]
  },
  {
   "cell_type": "markdown",
   "id": "a7f26862",
   "metadata": {},
   "source": [
    "[Link to Typer](https://typer.tiangolo.com/).\n",
    "\n",
    "[My full article about Typer](https://towardsdatascience.com/typer-build-powerful-clis-in-one-line-of-code-using-python-321d9aef3be8)."
   ]
  },
  {
   "cell_type": "markdown",
   "id": "abfbfbee",
   "metadata": {},
   "source": [
    "### Generate a Tree View with rich"
   ]
  },
  {
   "cell_type": "code",
   "execution_count": null,
   "id": "21b32bfa",
   "metadata": {
    "tags": [
     "hide-cell"
    ]
   },
   "outputs": [],
   "source": [
    "!pip install rich "
   ]
  },
  {
   "cell_type": "markdown",
   "id": "bc4d2ed5",
   "metadata": {},
   "source": [
    "If you want to generate a tree view of a specific structure such as files in a directory, use rich.tree. rich also allows you to add color to each branch using brackets."
   ]
  },
  {
   "cell_type": "code",
   "execution_count": null,
   "id": "0ab352d1",
   "metadata": {},
   "outputs": [],
   "source": [
    "from rich.tree import Tree\n",
    "from rich import print\n",
    "\n",
    "tree = Tree(\"[cyan]My Project\")\n",
    "tree.add(\"[green]data\")\n",
    "tree.add(\"[blue]model\")\n",
    "src = tree.add(\"[red]src\")\n",
    "src.add(\"[red]process_data.py\")\n",
    "print(tree)"
   ]
  },
  {
   "cell_type": "markdown",
   "id": "84ab76f3",
   "metadata": {},
   "source": [
    "[Link to rich](https://github.com/Textualize/rich/tree/aa7926c1431eebfb2ccaab9f3b63a4ac6cd8dfe6)."
   ]
  },
  {
   "cell_type": "markdown",
   "id": "6a2d0b89",
   "metadata": {},
   "source": [
    "### latexify_py: Generates a LaTex Math Description From a Python Function"
   ]
  },
  {
   "cell_type": "code",
   "execution_count": null,
   "id": "b1f4de1b",
   "metadata": {
    "tags": [
     "hide-cell"
    ]
   },
   "outputs": [],
   "source": [
    "!pip install latexify-py"
   ]
  },
  {
   "cell_type": "markdown",
   "id": "67b2ceaa",
   "metadata": {},
   "source": [
    "Have you ever wanted to add math description for your Python function but found it time-consuming to do so? latexify_py allows you to add LaTex math description with only one decorator."
   ]
  },
  {
   "cell_type": "code",
   "execution_count": null,
   "id": "9a983c08",
   "metadata": {},
   "outputs": [],
   "source": [
    "import math\n",
    "import latexify\n",
    "\n",
    "@latexify.with_latex\n",
    "def solve(a, b, c):\n",
    "    return (-b + math.sqrt(b**2 - 4*a*c)) / (2*a)\n",
    "\n",
    "solve"
   ]
  },
  {
   "cell_type": "code",
   "execution_count": null,
   "id": "6ee11600",
   "metadata": {},
   "outputs": [],
   "source": [
    "@latexify.with_latex\n",
    "def sinc(x):\n",
    "    if x == 0:\n",
    "        return 1\n",
    "    else:\n",
    "        return math.sin(x) / x\n",
    "\n",
    "sinc"
   ]
  },
  {
   "cell_type": "markdown",
   "id": "e348dec9",
   "metadata": {},
   "source": [
    "[Link to latexify_py](https://github.com/google/latexify_py)."
   ]
  },
  {
   "cell_type": "markdown",
   "id": "0e02c498",
   "metadata": {},
   "source": [
    "### From Python to Paper: Visualizing Calculations with Handcalcs"
   ]
  },
  {
   "cell_type": "code",
   "execution_count": null,
   "id": "c98e5114",
   "metadata": {
    "tags": [
     "hide-cell"
    ]
   },
   "outputs": [],
   "source": [
    "!pip install handcalcs"
   ]
  },
  {
   "cell_type": "markdown",
   "id": "dac0bd5d",
   "metadata": {},
   "source": [
    "Python calculations often lack transparency when only showing final results. \n",
    "\n",
    "Handcalcs addresses this by generating LaTeX output that mimics handwritten calculations. It displays symbolic formulas, numeric substitutions, and results, providing a clear step-by-step breakdown. \n",
    "\n",
    "This approach makes calculations more intuitive, readable, and easier to verify manually.\n",
    "\n",
    "Handcalcs can be used in two main ways:\n",
    "\n",
    "1. As a cell magic in Jupyter notebooks using `%%render`:"
   ]
  },
  {
   "cell_type": "code",
   "execution_count": null,
   "id": "38a8edbe",
   "metadata": {},
   "outputs": [],
   "source": [
    "import handcalcs.render\n",
    "from handcalcs.decorator import handcalc"
   ]
  },
  {
   "cell_type": "code",
   "execution_count": null,
   "id": "0bea671b",
   "metadata": {},
   "outputs": [],
   "source": [
    "%%render\n",
    "a = 2\n",
    "b = 3\n",
    "c = 2*a + b/3"
   ]
  },
  {
   "cell_type": "markdown",
   "id": "4d50be28",
   "metadata": {},
   "source": [
    "2. As a decorator for functions:"
   ]
  },
  {
   "cell_type": "code",
   "execution_count": null,
   "id": "e71d65ee",
   "metadata": {},
   "outputs": [],
   "source": [
    "from math import sqrt\n",
    "\n",
    "@handcalc(jupyter_display=True)\n",
    "def my_calc(x: float, y: float, z: float):\n",
    "    a = 2*x\n",
    "    b = 3*a/z + sqrt(a+y/2)\n",
    "    c = a + b\n",
    "    return c"
   ]
  },
  {
   "cell_type": "code",
   "execution_count": null,
   "id": "f548adf0",
   "metadata": {},
   "outputs": [],
   "source": [
    "result = my_calc(2.3, 3.2, 1.2)"
   ]
  },
  {
   "cell_type": "code",
   "execution_count": null,
   "id": "e57ce2fe",
   "metadata": {},
   "outputs": [],
   "source": [
    "result"
   ]
  },
  {
   "cell_type": "markdown",
   "id": "05cfc6d6",
   "metadata": {},
   "source": [
    "[Link to handcalcs](https://github.com/connorferster/handcalcs)."
   ]
  },
  {
   "cell_type": "markdown",
   "id": "f41dca4a",
   "metadata": {},
   "source": [
    "### Great Tables: Create Scientific-Looking Tables in Python"
   ]
  },
  {
   "cell_type": "code",
   "execution_count": null,
   "id": "979f69df",
   "metadata": {
    "tags": [
     "hide-cell"
    ]
   },
   "outputs": [],
   "source": [
    "!pip install great_tables "
   ]
  },
  {
   "cell_type": "markdown",
   "id": "0117177b",
   "metadata": {},
   "source": [
    "If you want to create visually appealing and scientific-looking tables in Python, use Great Tables. With Great Tables, you can customize your table by mixing and matching various elements such as headers, footers, and cell value formats."
   ]
  },
  {
   "cell_type": "code",
   "execution_count": null,
   "id": "b4500ffc",
   "metadata": {},
   "outputs": [],
   "source": [
    "from great_tables import GT, md\n",
    "from great_tables.data import islands\n",
    "\n",
    "islands_mini = islands.head(10).sort_values(by=\"size\", ascending=False) # pandas DataFrame\n",
    "\n",
    "(\n",
    "    GT(islands_mini, rowname_col=\"name\")\n",
    "    .tab_header(\n",
    "        title=\"Large Landmasses of the World\",\n",
    "        subtitle=\"The top ten largest are presented\",\n",
    "    )\n",
    "    .tab_source_note(\n",
    "        source_note=\"Source: The World Almanac and Book of Facts, 1975, page 406.\"\n",
    "    )\n",
    "    .tab_source_note(\n",
    "        source_note=md(\n",
    "            \"Reference: McNeil, D. R. (1977) *Interactive Data Analysis*. Wiley.\"\n",
    "        )\n",
    "    )\n",
    "    .tab_stubhead(label=\"landmass\")\n",
    "    .fmt_number(columns=\"size\", sep_mark=\",\", decimals=0)\n",
    ")"
   ]
  },
  {
   "cell_type": "markdown",
   "id": "772441ff",
   "metadata": {},
   "source": [
    "[Link to Great Tables](https://bit.ly/3U58fvP)."
   ]
  },
  {
   "cell_type": "markdown",
   "id": "1c5adefd",
   "metadata": {},
   "source": [
    "### Camelot: PDF Table Extraction for Humans"
   ]
  },
  {
   "cell_type": "code",
   "execution_count": null,
   "id": "3b068e1f",
   "metadata": {
    "tags": [
     "hide-cell"
    ]
   },
   "outputs": [],
   "source": [
    "!pip install \"camelot-py[base]\" \"opencv-python\" \"pypdf2<3\""
   ]
  },
  {
   "cell_type": "markdown",
   "id": "0e82f96b",
   "metadata": {},
   "source": [
    "With Camelot, you can extract tables from PDFs using Python and convert the data into a more structured format, such as a pandas DataFrame or a CSV file for efficient analysis, manipulation, and integration."
   ]
  },
  {
   "cell_type": "markdown",
   "id": "7f4f0d5d",
   "metadata": {},
   "source": [
    "To see how Camelot works, start by reading the PDF file named 'foo.pdf' and extracts all the tables present in the file."
   ]
  },
  {
   "cell_type": "code",
   "execution_count": null,
   "id": "1ffe164a",
   "metadata": {},
   "outputs": [],
   "source": [
    "import camelot\n",
    "tables = camelot.read_pdf('foo.pdf')\n",
    "tables"
   ]
  },
  {
   "cell_type": "markdown",
   "id": "18f8f758",
   "metadata": {},
   "source": [
    "The output shows that there is one table extracted from the PDF file."
   ]
  },
  {
   "cell_type": "markdown",
   "id": "86e0942d",
   "metadata": {},
   "source": [
    "Export the extracted tables to a CSV file named 'foo.csv'. Camelot also supports exporting tables to other formats like JSON, Excel, HTML, Markdown, and SQLite databases."
   ]
  },
  {
   "cell_type": "code",
   "execution_count": null,
   "id": "1810e55f",
   "metadata": {},
   "outputs": [],
   "source": [
    "tables[0].parsing_report\n",
    "{\n",
    "    'accuracy': 99.02,\n",
    "    'whitespace': 12.24,\n",
    "    'order': 1,\n",
    "    'page': 1\n",
    "}\n",
    "tables[0].to_csv('foo.csv') # to_json, to_excel, to_html, to_markdown, to_sqlite\n",
    "tables[0].df # get a pandas DataFrame!"
   ]
  },
  {
   "cell_type": "markdown",
   "id": "234903ae",
   "metadata": {},
   "source": [
    "[Link to Camelot](https://bit.ly/3xPBw6L)."
   ]
  },
  {
   "cell_type": "code",
   "execution_count": null,
   "id": "23edcbde",
   "metadata": {},
   "outputs": [],
   "source": [
    "!pip install pdf2image transformers txtmarker"
   ]
  },
  {
   "cell_type": "code",
   "execution_count": null,
   "id": "eb811e6c",
   "metadata": {},
   "outputs": [],
   "source": [
    "# Install pdf2image - embeds pdf as image in notebook\n",
    "# !apt-get update\n",
    "# !apt-get install poppler-utils\n",
    "!brew install poppler"
   ]
  },
  {
   "cell_type": "markdown",
   "id": "b276a548",
   "metadata": {},
   "source": [
    "To highlight text in PDFs using Python, use txtmarker. Here is an example of how to use it:"
   ]
  },
  {
   "cell_type": "code",
   "execution_count": null,
   "id": "ba44738a",
   "metadata": {},
   "outputs": [],
   "source": [
    "from txtmarker.factory import Factory\n",
    "from pdf2image import convert_from_path\n",
    "from IPython.display import display\n",
    "\n",
    "highlighter = Factory.create(\"pdf\")\n",
    "highlighter.highlight(\n",
    "    \"The Fascinating World of Penguins.pdf\",\n",
    "    \"output.pdf\",\n",
    "    [(\"Walking challenge\", \"Penguins have to deal with flippers instead of feet\")],\n",
    ")\n",
    "\n",
    "images = convert_from_path(\"output.pdf\", size=(800, None), single_file=True)\n",
    "display(images[0])"
   ]
  },
  {
   "cell_type": "markdown",
   "id": "4dd59329",
   "metadata": {},
   "source": [
    "This code highlights the text \"Penguins have to deal with flippers instead of feet\" in the PDF file \"The Fascinating World of Penguins.pdf\" and save the output to a new PDF file called \"output.pdf\"."
   ]
  },
  {
   "cell_type": "markdown",
   "id": "92d11f58",
   "metadata": {},
   "source": [
    "But what if you want to highlight text in a PDF based on a question? You can use extractive QA to achieve this. Here is an example of how to use it:"
   ]
  },
  {
   "cell_type": "code",
   "execution_count": null,
   "id": "6e40c072",
   "metadata": {},
   "outputs": [],
   "source": [
    "import re\n",
    "\n",
    "from pdf2image import convert_from_path\n",
    "from pdfminer.high_level import extract_text\n",
    "from transformers import pipeline\n",
    "\n",
    "from IPython.display import display\n",
    "\n",
    "from txtmarker.factory import Factory\n",
    "\n",
    "# Create pipeline\n",
    "nlp = pipeline(\"question-answering\")\n",
    "\n",
    "# Create highlighter\n",
    "highlighter = Factory.create(\"pdf\")\n",
    "\n",
    "# Extracts text from pdf\n",
    "def extract(path):\n",
    "  text = extract_text(path)\n",
    "\n",
    "  # Clean data\n",
    "  text = re.sub(r\"\\n+\", \" \", text)\n",
    "  return re.sub(r\"[^\\x20-\\x7F]+\", \"\", text)\n",
    "\n",
    "# Renders first page of pdf file as image\n",
    "def highlight(path, highlights):\n",
    "  # Get PDF text\n",
    "  context = extract(path)\n",
    "\n",
    "  # Run extractive qa\n",
    "  highlights = [(name, qa(context, question)) for name, question in highlights]\n",
    "\n",
    "  # Create annotated file\n",
    "  highlighter.highlight(path, \"out.pdf\", highlights)\n",
    "\n",
    "  # Render pdf as image\n",
    "  images = convert_from_path(\"out.pdf\", size=(800, None), single_file=True)\n",
    "  display(images[0])\n",
    "\n",
    "# Runs extractive qa\n",
    "def qa(context, question):\n",
    "  return nlp(context=context, question=question)[\"answer\"]"
   ]
  },
  {
   "cell_type": "code",
   "execution_count": null,
   "id": "42073114",
   "metadata": {},
   "outputs": [],
   "source": [
    "highlight(\"The Fascinating World of Penguins.pdf\", [\n",
    "  (\"Walking problem\", \"What is the main challenge penguins face when trying to walk?\"),\n",
    "  (\"Known for\", \"What is penguin known for?\"),\n",
    "  (\"Flying problem\", \"What is the main challenge penguins face when trying to fly?\"),\n",
    "])"
   ]
  },
  {
   "cell_type": "markdown",
   "id": "24df284f",
   "metadata": {},
   "source": [
    "This code highlights the answers to the questions in the PDF file \"The Fascinating World of Penguins.pdf\" and display the output as an image."
   ]
  },
  {
   "cell_type": "markdown",
   "id": "26bb96db",
   "metadata": {},
   "source": [
    "[Link to txtmarker](https://github.com/neuml/txtmarker)."
   ]
  },
  {
   "cell_type": "markdown",
   "id": "99b3db99",
   "metadata": {},
   "source": [
    "### Comparing Python Command Line Interface Tools: Argparse, Click, and Typer"
   ]
  },
  {
   "cell_type": "code",
   "execution_count": null,
   "id": "3e87b97e",
   "metadata": {
    "tags": [
     "remove-cell"
    ]
   },
   "outputs": [],
   "source": [
    "%mkdir command_line_tools\n",
    "%cd command_line_tools"
   ]
  },
  {
   "cell_type": "markdown",
   "id": "63bbe294",
   "metadata": {},
   "source": [
    "Python has several tools for creating CLIs, each with its own approach and syntax. Three popular choices for parsing command-line arguments and options are argparse, click, and typer.\n",
    "\n",
    "- **argparse**: Requires manual argument parsing setup with verbose syntax.\n",
    "- **click**: Offers a more concise and declarative way to define commands with decorators.\n",
    "- **typer**: Utilizes Python type hints to create a clean and modern CLI interface with minimal boilerplate.\n",
    "\n",
    "Here's a comparison of how to create a simple CLI application with a single command that accepts a string argument using argparse, click, and typer."
   ]
  },
  {
   "cell_type": "markdown",
   "id": "c9086721",
   "metadata": {},
   "source": [
    "argparse:"
   ]
  },
  {
   "cell_type": "code",
   "execution_count": null,
   "id": "ecf6e8e1",
   "metadata": {},
   "outputs": [],
   "source": [
    "%%writefile argparse_example.py\n",
    "import argparse\n",
    "\n",
    "def main(message):\n",
    "    print(f\"Message: {message}\")\n",
    "\n",
    "if __name__ == \"__main__\":\n",
    "    parser = argparse.ArgumentParser(description=\"A simple CLI with argparse\")\n",
    "    parser.add_argument(\"message\", type=str, help=\"The message to print\")\n",
    "    args = parser.parse_args()\n",
    "    main(args.message)"
   ]
  },
  {
   "cell_type": "markdown",
   "id": "6e68c168",
   "metadata": {},
   "source": [
    "```bash\n",
    "python argparse_example.py \"Hello, World!\"\n",
    "```"
   ]
  },
  {
   "cell_type": "code",
   "execution_count": null,
   "id": "41233bad",
   "metadata": {
    "tags": [
     "remove-input"
    ]
   },
   "outputs": [],
   "source": [
    "!python argparse_example.py \"Hello, World!\""
   ]
  },
  {
   "cell_type": "markdown",
   "id": "1bcb4ba5",
   "metadata": {},
   "source": [
    "click:"
   ]
  },
  {
   "cell_type": "code",
   "execution_count": null,
   "id": "9c833b48",
   "metadata": {},
   "outputs": [],
   "source": [
    "%%writefile click_example.py\n",
    "import click\n",
    "\n",
    "@click.command()\n",
    "@click.argument(\"message\")\n",
    "def main(message):\n",
    "    print(f\"Message: {message}\")\n",
    "\n",
    "if __name__ == \"__main__\":\n",
    "    main()"
   ]
  },
  {
   "cell_type": "markdown",
   "id": "40ccd6d8",
   "metadata": {},
   "source": [
    "```bash\n",
    "python click_example.py \"Hello, World!\"\n",
    "```"
   ]
  },
  {
   "cell_type": "code",
   "execution_count": null,
   "id": "f8ec298b",
   "metadata": {
    "tags": [
     "remove-input"
    ]
   },
   "outputs": [],
   "source": [
    "!python click_example.py \"Hello, World!\""
   ]
  },
  {
   "cell_type": "markdown",
   "id": "6c7d23dd",
   "metadata": {},
   "source": [
    "typer:"
   ]
  },
  {
   "cell_type": "code",
   "execution_count": null,
   "id": "99652656",
   "metadata": {},
   "outputs": [],
   "source": [
    "%%writefile typer_example.py\n",
    "import typer\n",
    "\n",
    "def main(message: str):\n",
    "    print(f\"Message: {message}\")\n",
    "\n",
    "if __name__ == \"__main__\":\n",
    "    typer.run(main)"
   ]
  },
  {
   "cell_type": "markdown",
   "id": "76bb1d33",
   "metadata": {},
   "source": [
    "```bash\n",
    "python typer_example.py \"Hello, World!\"\n",
    "```"
   ]
  },
  {
   "cell_type": "code",
   "execution_count": null,
   "id": "64aa1af9",
   "metadata": {
    "tags": [
     "remove-input"
    ]
   },
   "outputs": [],
   "source": [
    "!python typer_example.py \"Hello, World!\""
   ]
  },
  {
   "cell_type": "code",
   "execution_count": null,
   "id": "e0a09bea",
   "metadata": {
    "editable": true,
    "slideshow": {
     "slide_type": ""
    }
   },
   "outputs": [],
   "source": [
    "!pip install snoop"
   ]
  },
  {
   "cell_type": "code",
   "execution_count": null,
   "id": "d86d360e",
   "metadata": {},
   "outputs": [],
   "source": [
    "%load_ext snoop"
   ]
  },
  {
   "cell_type": "code",
   "execution_count": null,
   "id": "694134b7",
   "metadata": {},
   "outputs": [],
   "source": [
    "%%snoop\n",
    "import snoop\n",
    "\n",
    "\n",
    "@snoop\n",
    "def factorial(x: int):\n",
    "    if x == 1:\n",
    "        return 1\n",
    "    else:\n",
    "        return x * factorial(x - 1)\n",
    "\n",
    "\n",
    "if __name__ == \"__main__\":\n",
    "    num = 2\n",
    "    print(f\"The factorial of {num} is {factorial(num)}\")"
   ]
  },
  {
   "cell_type": "markdown",
   "id": "39b4840d",
   "metadata": {},
   "source": [
    "### Dynamic Report Generation with Jinja Templates"
   ]
  },
  {
   "cell_type": "markdown",
   "id": "1f70f685",
   "metadata": {},
   "source": [
    "F-strings are convenient for simple string interpolation, but they are tightly coupled with the surrounding Python code. They are typically used for a single, specific task."
   ]
  },
  {
   "cell_type": "code",
   "execution_count": null,
   "id": "0ad3900e",
   "metadata": {},
   "outputs": [],
   "source": [
    "metrics = {\n",
    "    'accuracy': 0.95,\n",
    "    'precision': 0.88,\n",
    "    'recall': 0.92,\n",
    "    'f1_score': 0.89,\n",
    "    'auc_roc': 0.93,\n",
    "    'specificity': 0.87\n",
    "}\n",
    "\n",
    "metrics_str = \"\"\n",
    "for metric, value in metrics.items():\n",
    "    if value > 0.9:\n",
    "        metrics_str += f\"{metric}: {value:.3f} (Excellent)\\n\"\n",
    "    else:\n",
    "        metrics_str += f\"{metric}: {value:.3f} (Needs Improvement)\\n\"\n",
    "\n",
    "print(metrics_str)"
   ]
  },
  {
   "cell_type": "markdown",
   "id": "2d563433",
   "metadata": {},
   "source": [
    "Jinja's templating engine is more versatile and powerful. It allows you to define templates with placeholders for dynamic data and supports conditionals, loops, and reuse across multiple contexts.\n",
    "\n",
    "Use Jinja to perform complex templating tasks or generate dynamic reports."
   ]
  },
  {
   "cell_type": "code",
   "execution_count": null,
   "id": "b32ead16",
   "metadata": {},
   "outputs": [],
   "source": [
    "# Jinja template version\n",
    "from jinja2 import Template\n",
    "template = Template(\"\"\"\n",
    "{% for metric, value in metrics.items() %}\n",
    "    {% if value > 0.9 %}\n",
    "    {{ metric }}: {{ value | round(3) }} (Excellent)\n",
    "    {% else %}\n",
    "    {{ metric }}: {{ value | round(3) }} (Needs Improvement)\n",
    "    {% endif %}\n",
    "{% endfor %}\n",
    "\"\"\")\n",
    "\n",
    "result = template.render(metrics=metrics)\n",
    "print(result)"
   ]
  },
  {
   "cell_type": "markdown",
   "id": "f489c466",
   "metadata": {},
   "source": [
    "[Link to Jinja](https://github.com/pallets/jinja)"
   ]
  }
 ],
 "metadata": {
  "jupytext": {
   "text_representation": {
    "extension": ".md",
    "format_name": "myst",
    "format_version": 0.13,
    "jupytext_version": "1.16.7"
   }
  },
  "kernelspec": {
   "display_name": "Python 3 (ipykernel)",
   "language": "python",
   "name": "python3"
  },
  "source_map": [
   12,
   16,
   20,
   24,
   30,
   42,
   48,
   52,
   56,
   60,
   68,
   73,
   75,
   79,
   85,
   89,
   93,
   97,
   101,
   116,
   124,
   128,
   134,
   138,
   142,
   146,
   150,
   154,
   158,
   172,
   180,
   184,
   188,
   195,
   199,
   205,
   209,
   213,
   217,
   227,
   231,
   235,
   239,
   243,
   254,
   263,
   267,
   271,
   275,
   287,
   292,
   297,
   301,
   312,
   316,
   318,
   322,
   326,
   330,
   334,
   357,
   361,
   365,
   369,
   373,
   377,
   381,
   385,
   389,
   399,
   403,
   407,
   412,
   417,
   431,
   436,
   440,
   485,
   491,
   495,
   499,
   503,
   508,
   518,
   522,
   534,
   540,
   544,
   548,
   559,
   565,
   569,
   573,
   582,
   588,
   594,
   603,
   607,
   623,
   627,
   632,
   650,
   656,
   671
  ]
 },
 "nbformat": 4,
 "nbformat_minor": 5
}