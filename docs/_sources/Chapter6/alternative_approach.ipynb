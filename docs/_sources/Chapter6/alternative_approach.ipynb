{
 "cells": [
  {
   "attachments": {},
   "cell_type": "markdown",
   "id": "943ce400",
   "metadata": {},
   "source": [
    "## Alternative Approach"
   ]
  },
  {
   "attachments": {},
   "cell_type": "markdown",
   "id": "c3c236a1",
   "metadata": {},
   "source": [
    "This section covers some alternatives approaches to work with Python. "
   ]
  },
  {
   "attachments": {},
   "cell_type": "markdown",
   "id": "d4a8b5a3",
   "metadata": {},
   "source": [
    "### Box: Using Dot Notation to Access Keys in a Python Dictionary\n"
   ]
  },
  {
   "cell_type": "code",
   "execution_count": null,
   "id": "dd0f3b91",
   "metadata": {
    "tags": [
     "hide-cell"
    ]
   },
   "outputs": [],
   "source": [
    "!pip install python-box[all]"
   ]
  },
  {
   "attachments": {},
   "cell_type": "markdown",
   "id": "a33293ea",
   "metadata": {},
   "source": [
    "Do you wish to use `dict.key` instead of `dict['key']` to access the values inside a Python dictionary? If so, try Box.\n",
    "\n",
    "Box is like a Python dictionary except that it allows you to access keys using dot notation. This makes the code cleaner when you want to access a key inside a nested dictionary like below."
   ]
  },
  {
   "cell_type": "code",
   "execution_count": 12,
   "id": "26cc9609",
   "metadata": {
    "ExecuteTime": {
     "end_time": "2021-09-12T14:36:23.816665Z",
     "start_time": "2021-09-12T14:36:23.790113Z"
    }
   },
   "outputs": [
    {
     "name": "stdout",
     "output_type": "stream",
     "text": [
      "{'food': {'fruit': {'name': 'apple', 'flavor': 'sweet'}}}\n"
     ]
    },
    {
     "data": {
      "application/javascript": "\n            setTimeout(function() {\n                var nbb_cell_id = 12;\n                var nbb_unformatted_code = \"from box import Box\\n\\nfood_box = Box({\\\"food\\\": {\\\"fruit\\\": {\\\"name\\\": \\\"apple\\\", \\\"flavor\\\": \\\"sweet\\\"}}})\\nprint(food_box)\";\n                var nbb_formatted_code = \"from box import Box\\n\\nfood_box = Box({\\\"food\\\": {\\\"fruit\\\": {\\\"name\\\": \\\"apple\\\", \\\"flavor\\\": \\\"sweet\\\"}}})\\nprint(food_box)\";\n                var nbb_cells = Jupyter.notebook.get_cells();\n                for (var i = 0; i < nbb_cells.length; ++i) {\n                    if (nbb_cells[i].input_prompt_number == nbb_cell_id) {\n                        if (nbb_cells[i].get_text() == nbb_unformatted_code) {\n                             nbb_cells[i].set_text(nbb_formatted_code);\n                        }\n                        break;\n                    }\n                }\n            }, 500);\n            ",
      "text/plain": [
       "<IPython.core.display.Javascript object>"
      ]
     },
     "metadata": {},
     "output_type": "display_data"
    }
   ],
   "source": [
    "from box import Box\n",
    "\n",
    "food_box = Box({\"food\": {\"fruit\": {\"name\": \"apple\", \"flavor\": \"sweet\"}}})\n",
    "print(food_box)"
   ]
  },
  {
   "cell_type": "code",
   "execution_count": 13,
   "id": "c684506c",
   "metadata": {
    "ExecuteTime": {
     "end_time": "2021-09-12T14:36:24.337190Z",
     "start_time": "2021-09-12T14:36:24.323997Z"
    }
   },
   "outputs": [
    {
     "name": "stdout",
     "output_type": "stream",
     "text": [
      "apple\n"
     ]
    },
    {
     "data": {
      "application/javascript": "\n            setTimeout(function() {\n                var nbb_cell_id = 13;\n                var nbb_unformatted_code = \"print(food_box.food.fruit.name)\";\n                var nbb_formatted_code = \"print(food_box.food.fruit.name)\";\n                var nbb_cells = Jupyter.notebook.get_cells();\n                for (var i = 0; i < nbb_cells.length; ++i) {\n                    if (nbb_cells[i].input_prompt_number == nbb_cell_id) {\n                        if (nbb_cells[i].get_text() == nbb_unformatted_code) {\n                             nbb_cells[i].set_text(nbb_formatted_code);\n                        }\n                        break;\n                    }\n                }\n            }, 500);\n            ",
      "text/plain": [
       "<IPython.core.display.Javascript object>"
      ]
     },
     "metadata": {},
     "output_type": "display_data"
    }
   ],
   "source": [
    "print(food_box.food.fruit.name)"
   ]
  },
  {
   "attachments": {},
   "cell_type": "markdown",
   "id": "ce9cde5d",
   "metadata": {},
   "source": [
    "[Link to Box](https://github.com/cdgriffith/Box)."
   ]
  },
  {
   "attachments": {},
   "cell_type": "markdown",
   "id": "663c82ce",
   "metadata": {},
   "source": [
    "### decorator module: Write Shorter Python Decorators without Nested Functions"
   ]
  },
  {
   "cell_type": "code",
   "execution_count": null,
   "id": "cebff9f6",
   "metadata": {
    "tags": [
     "hide-cell"
    ]
   },
   "outputs": [],
   "source": [
    "!pip install decorator"
   ]
  },
  {
   "attachments": {},
   "cell_type": "markdown",
   "id": "4276ece6",
   "metadata": {},
   "source": [
    "Have you ever wished to write a Python decorator with only one function instead of nested functions like below?\n"
   ]
  },
  {
   "cell_type": "code",
   "execution_count": 15,
   "id": "7448cd86",
   "metadata": {
    "ExecuteTime": {
     "end_time": "2021-09-12T14:36:45.435318Z",
     "start_time": "2021-09-12T14:36:44.412274Z"
    }
   },
   "outputs": [
    {
     "name": "stdout",
     "output_type": "stream",
     "text": [
      "It takes 1.001 seconds to execute the function\n"
     ]
    },
    {
     "data": {
      "application/javascript": "\n            setTimeout(function() {\n                var nbb_cell_id = 15;\n                var nbb_unformatted_code = \"from time import time, sleep\\n\\n\\ndef time_func_complex(func):\\n    def wrapper(*args, **kwargs):\\n        start_time = time()\\n        func(*args, **kwargs)\\n        end_time = time()\\n        print(\\n            f\\\"\\\"\\\"It takes {round(end_time - start_time, 3)} seconds to execute the function\\\"\\\"\\\"\\n        )\\n\\n    return wrapper\\n\\n\\n@time_func_complex\\ndef test_func_complex():\\n    sleep(1)\\n\\n\\ntest_func_complex()\";\n                var nbb_formatted_code = \"from time import time, sleep\\n\\n\\ndef time_func_complex(func):\\n    def wrapper(*args, **kwargs):\\n        start_time = time()\\n        func(*args, **kwargs)\\n        end_time = time()\\n        print(\\n            f\\\"\\\"\\\"It takes {round(end_time - start_time, 3)} seconds to execute the function\\\"\\\"\\\"\\n        )\\n\\n    return wrapper\\n\\n\\n@time_func_complex\\ndef test_func_complex():\\n    sleep(1)\\n\\n\\ntest_func_complex()\";\n                var nbb_cells = Jupyter.notebook.get_cells();\n                for (var i = 0; i < nbb_cells.length; ++i) {\n                    if (nbb_cells[i].input_prompt_number == nbb_cell_id) {\n                        if (nbb_cells[i].get_text() == nbb_unformatted_code) {\n                             nbb_cells[i].set_text(nbb_formatted_code);\n                        }\n                        break;\n                    }\n                }\n            }, 500);\n            ",
      "text/plain": [
       "<IPython.core.display.Javascript object>"
      ]
     },
     "metadata": {},
     "output_type": "display_data"
    }
   ],
   "source": [
    "from time import time, sleep\n",
    "\n",
    "\n",
    "def time_func_complex(func):\n",
    "    def wrapper(*args, **kwargs):\n",
    "        start_time = time()\n",
    "        func(*args, **kwargs)\n",
    "        end_time = time()\n",
    "        print(\n",
    "            f\"\"\"It takes {round(end_time - start_time, 3)} seconds to execute the function\"\"\"\n",
    "        )\n",
    "\n",
    "    return wrapper\n",
    "\n",
    "\n",
    "@time_func_complex\n",
    "def test_func_complex():\n",
    "    sleep(1)\n",
    "\n",
    "\n",
    "test_func_complex()"
   ]
  },
  {
   "attachments": {},
   "cell_type": "markdown",
   "id": "5741e053",
   "metadata": {},
   "source": [
    "If so, try decorator. In the code below, `time_func_simple` produces the exact same results as `time_func_complex`, but `time_func_simple` is easier and short to write.\n"
   ]
  },
  {
   "cell_type": "code",
   "execution_count": 17,
   "id": "76ca58b3",
   "metadata": {
    "ExecuteTime": {
     "end_time": "2021-09-12T14:36:56.943831Z",
     "start_time": "2021-09-12T14:36:55.917239Z"
    }
   },
   "outputs": [
    {
     "name": "stdout",
     "output_type": "stream",
     "text": [
      "It takes 1.001 seconds to execute the function\n"
     ]
    },
    {
     "data": {
      "application/javascript": "\n            setTimeout(function() {\n                var nbb_cell_id = 17;\n                var nbb_unformatted_code = \"from decorator import decorator\\n\\n@decorator\\ndef time_func_simple(func, *args, **kwargs):\\n    start_time = time()\\n    func(*args, **kwargs)\\n    end_time = time()\\n    print(\\n            f\\\"\\\"\\\"It takes {round(end_time - start_time, 3)} seconds to execute the function\\\"\\\"\\\"\\n    )\\n    \\n@time_func_simple  \\ndef test_func_simple():\\n    sleep(1)\\n\\ntest_func()\";\n                var nbb_formatted_code = \"from decorator import decorator\\n\\n\\n@decorator\\ndef time_func_simple(func, *args, **kwargs):\\n    start_time = time()\\n    func(*args, **kwargs)\\n    end_time = time()\\n    print(\\n        f\\\"\\\"\\\"It takes {round(end_time - start_time, 3)} seconds to execute the function\\\"\\\"\\\"\\n    )\\n\\n\\n@time_func_simple\\ndef test_func_simple():\\n    sleep(1)\\n\\n\\ntest_func()\";\n                var nbb_cells = Jupyter.notebook.get_cells();\n                for (var i = 0; i < nbb_cells.length; ++i) {\n                    if (nbb_cells[i].input_prompt_number == nbb_cell_id) {\n                        if (nbb_cells[i].get_text() == nbb_unformatted_code) {\n                             nbb_cells[i].set_text(nbb_formatted_code);\n                        }\n                        break;\n                    }\n                }\n            }, 500);\n            ",
      "text/plain": [
       "<IPython.core.display.Javascript object>"
      ]
     },
     "metadata": {},
     "output_type": "display_data"
    }
   ],
   "source": [
    "from decorator import decorator\n",
    "\n",
    "\n",
    "@decorator\n",
    "def time_func_simple(func, *args, **kwargs):\n",
    "    start_time = time()\n",
    "    func(*args, **kwargs)\n",
    "    end_time = time()\n",
    "    print(\n",
    "        f\"\"\"It takes {round(end_time - start_time, 3)} seconds to execute the function\"\"\"\n",
    "    )\n",
    "\n",
    "\n",
    "@time_func_simple\n",
    "def test_func_simple():\n",
    "    sleep(1)\n",
    "\n",
    "\n",
    "test_func_simple()"
   ]
  },
  {
   "attachments": {},
   "cell_type": "markdown",
   "id": "1211a876",
   "metadata": {},
   "source": [
    "[Check out other things the decorator library can do](https://github.com/micheles/decorator)."
   ]
  },
  {
   "attachments": {},
   "cell_type": "markdown",
   "id": "dba1f40e",
   "metadata": {},
   "source": [
    "### Pipe: Use Inflix Notation in Python"
   ]
  },
  {
   "cell_type": "code",
   "execution_count": null,
   "id": "cd192a58",
   "metadata": {
    "ExecuteTime": {
     "end_time": "2021-10-15T13:22:53.016416Z",
     "start_time": "2021-10-15T13:22:49.737061Z"
    },
    "tags": [
     "hide-cell"
    ]
   },
   "outputs": [],
   "source": [
    "!pip install pipe"
   ]
  },
  {
   "attachments": {},
   "cell_type": "markdown",
   "id": "d23f3a80",
   "metadata": {},
   "source": [
    "Normally, you might use nested parentheses like below to combine multiple functions. "
   ]
  },
  {
   "cell_type": "code",
   "execution_count": 16,
   "id": "e3bcf8c1",
   "metadata": {
    "ExecuteTime": {
     "end_time": "2021-10-15T13:35:39.261323Z",
     "start_time": "2021-10-15T13:35:39.236544Z"
    }
   },
   "outputs": [
    {
     "data": {
      "text/plain": [
       "[4, 16, 36]"
      ]
     },
     "execution_count": 16,
     "metadata": {},
     "output_type": "execute_result"
    },
    {
     "data": {
      "application/javascript": "\n            setTimeout(function() {\n                var nbb_cell_id = 16;\n                var nbb_unformatted_code = \"nums = [1, 2, 3, 4, 5, 6]\\nlist(\\n    filter(lambda x: x % 2 == 0, \\n            map(lambda x: x ** 2, nums)\\n          )\\n)\";\n                var nbb_formatted_code = \"nums = [1, 2, 3, 4, 5, 6]\\nlist(filter(lambda x: x % 2 == 0, map(lambda x: x ** 2, nums)))\";\n                var nbb_cells = Jupyter.notebook.get_cells();\n                for (var i = 0; i < nbb_cells.length; ++i) {\n                    if (nbb_cells[i].input_prompt_number == nbb_cell_id) {\n                        if (nbb_cells[i].get_text() == nbb_unformatted_code) {\n                             nbb_cells[i].set_text(nbb_formatted_code);\n                        }\n                        break;\n                    }\n                }\n            }, 500);\n            ",
      "text/plain": [
       "<IPython.core.display.Javascript object>"
      ]
     },
     "metadata": {},
     "output_type": "display_data"
    }
   ],
   "source": [
    "nums = [1, 2, 3, 4, 5, 6]\n",
    "list(\n",
    "    filter(lambda x: x % 2 == 0, \n",
    "            map(lambda x: x ** 2, nums)\n",
    "          )\n",
    ")"
   ]
  },
  {
   "attachments": {},
   "cell_type": "markdown",
   "id": "f2183c8f",
   "metadata": {},
   "source": [
    "If you want to increase the readability of your code by using pipes, try the library pipe. Below is an example using this library. "
   ]
  },
  {
   "cell_type": "code",
   "execution_count": 1,
   "id": "100c6a98",
   "metadata": {
    "ExecuteTime": {
     "end_time": "2021-10-15T13:27:14.009183Z",
     "start_time": "2021-10-15T13:27:13.991954Z"
    }
   },
   "outputs": [],
   "source": [
    "from pipe import select, where"
   ]
  },
  {
   "cell_type": "code",
   "execution_count": 15,
   "id": "87225efd",
   "metadata": {
    "ExecuteTime": {
     "end_time": "2021-10-15T13:35:18.480770Z",
     "start_time": "2021-10-15T13:35:18.463033Z"
    }
   },
   "outputs": [
    {
     "data": {
      "text/plain": [
       "[4, 16, 36]"
      ]
     },
     "execution_count": 15,
     "metadata": {},
     "output_type": "execute_result"
    },
    {
     "data": {
      "application/javascript": "\n            setTimeout(function() {\n                var nbb_cell_id = 15;\n                var nbb_unformatted_code = \"list(\\n    nums\\n    | select(lambda x: x ** 2)\\n    | where(lambda x: x % 2 == 0)\\n)\";\n                var nbb_formatted_code = \"list(nums | select(lambda x: x ** 2) | where(lambda x: x % 2 == 0))\";\n                var nbb_cells = Jupyter.notebook.get_cells();\n                for (var i = 0; i < nbb_cells.length; ++i) {\n                    if (nbb_cells[i].input_prompt_number == nbb_cell_id) {\n                        if (nbb_cells[i].get_text() == nbb_unformatted_code) {\n                             nbb_cells[i].set_text(nbb_formatted_code);\n                        }\n                        break;\n                    }\n                }\n            }, 500);\n            ",
      "text/plain": [
       "<IPython.core.display.Javascript object>"
      ]
     },
     "metadata": {},
     "output_type": "display_data"
    }
   ],
   "source": [
    "list(\n",
    "    nums\n",
    "    | select(lambda x: x ** 2)\n",
    "    | where(lambda x: x % 2 == 0)\n",
    ")"
   ]
  },
  {
   "attachments": {},
   "cell_type": "markdown",
   "id": "3289e1d2",
   "metadata": {},
   "source": [
    "[Link to my article on pipe](https://towardsdatascience.com/write-clean-python-code-using-pipes-1239a0f3abf5).\n",
    "\n",
    "[Link to pipe](https://github.com/JulienPalard/Pipe)."
   ]
  },
  {
   "attachments": {},
   "cell_type": "markdown",
   "id": "15ac29cd",
   "metadata": {},
   "source": [
    "### PRegEx: Write Human-Readable Regular Expressions"
   ]
  },
  {
   "cell_type": "code",
   "execution_count": null,
   "id": "10c996aa",
   "metadata": {
    "tags": [
     "hide-cell"
    ]
   },
   "outputs": [],
   "source": [
    "!pip install pregex"
   ]
  },
  {
   "attachments": {},
   "cell_type": "markdown",
   "id": "0a3118be",
   "metadata": {},
   "source": [
    "RegEx is useful for extracting words with matching patterns. However, it can be difficult to read and create. PregEx allows you to write a more human-readable RegEx. \n",
    "\n",
    "In the code below, I use PregEx to extract URLs from text. "
   ]
  },
  {
   "cell_type": "code",
   "execution_count": 26,
   "id": "5c7f1f2b",
   "metadata": {},
   "outputs": [
    {
     "data": {
      "text/plain": [
       "'(?:https:\\\\/\\\\/)?\\\\S+(?:\\\\.com|\\\\.org)\\\\S+'"
      ]
     },
     "execution_count": 26,
     "metadata": {},
     "output_type": "execute_result"
    }
   ],
   "source": [
    "from pregex.core.classes import AnyButWhitespace\n",
    "from pregex.core.quantifiers import OneOrMore, Optional\n",
    "from pregex.core.operators import Either\n",
    "\n",
    "\n",
    "text = \"You can find me through my website mathdatasimplified.com/ or GitHub https://github.com/khuyentran1401\"\n",
    "\n",
    "any_but_space = OneOrMore(AnyButWhitespace())\n",
    "optional_scheme = Optional(\"https://\")\n",
    "domain = Either(\".com\", \".org\")\n",
    "\n",
    "pre = (\n",
    "    optional_scheme\n",
    "    + any_but_space\n",
    "    + domain\n",
    "    + any_but_space\n",
    ")\n",
    "\n",
    "pre.get_pattern()\n"
   ]
  },
  {
   "cell_type": "code",
   "execution_count": 27,
   "id": "06d2cb2c",
   "metadata": {},
   "outputs": [
    {
     "data": {
      "text/plain": [
       "['mathdatasimplified.com/', 'https://github.com/khuyentran1401']"
      ]
     },
     "execution_count": 27,
     "metadata": {},
     "output_type": "execute_result"
    }
   ],
   "source": [
    "pre.get_matches(text)  "
   ]
  },
  {
   "attachments": {},
   "cell_type": "markdown",
   "id": "1a1a6591",
   "metadata": {},
   "source": [
    "[Full article about PregEx](https://towardsdatascience.com/pregex-write-human-readable-regular-expressions-in-python-9c87d1b1335).\n",
    "\n",
    "[Link to PregEx](https://github.com/manoss96/pregex)."
   ]
  },
  {
   "attachments": {},
   "cell_type": "markdown",
   "id": "5e19711b",
   "metadata": {},
   "source": [
    "### parse: Extract Strings Using Brackets"
   ]
  },
  {
   "cell_type": "code",
   "execution_count": null,
   "id": "9dc36aff",
   "metadata": {
    "tags": [
     "hide-cell"
    ]
   },
   "outputs": [],
   "source": [
    "!pip install parse"
   ]
  },
  {
   "attachments": {},
   "cell_type": "markdown",
   "id": "9e6f2061",
   "metadata": {},
   "source": [
    "If you want to extract substrings from a string, but find it challenging to do so with RegEx, try parse. parse makes it easy to extract strings that are inside brackets. "
   ]
  },
  {
   "cell_type": "code",
   "execution_count": 1,
   "id": "7d17b8aa",
   "metadata": {},
   "outputs": [
    {
     "data": {
      "text/plain": [
       "<Result ('apples', 'Aldi') {}>"
      ]
     },
     "execution_count": 1,
     "metadata": {},
     "output_type": "execute_result"
    }
   ],
   "source": [
    "from parse import parse \n",
    "\n",
    "# Get strings in the brackets\n",
    "parse(\"I'll get some {} from {}\", \"I'll get some apples from Aldi\")"
   ]
  },
  {
   "attachments": {},
   "cell_type": "markdown",
   "id": "e01c3f9c",
   "metadata": {},
   "source": [
    "You can also make the brackets more readable by adding the field name to them."
   ]
  },
  {
   "cell_type": "code",
   "execution_count": 2,
   "id": "5f308b8f",
   "metadata": {},
   "outputs": [
    {
     "data": {
      "text/plain": [
       "<Result () {'items': 'shirts', 'store': 'Walmart'}>"
      ]
     },
     "execution_count": 2,
     "metadata": {},
     "output_type": "execute_result"
    }
   ],
   "source": [
    "# Specify the field names for the brackets\n",
    "parse(\"I'll get some {items} from {store}\", \"I'll get some shirts from Walmart\")"
   ]
  },
  {
   "attachments": {},
   "cell_type": "markdown",
   "id": "7e85973c",
   "metadata": {},
   "source": [
    "parse also allows you to get the string with a certain format."
   ]
  },
  {
   "cell_type": "code",
   "execution_count": 3,
   "id": "c4494e1c",
   "metadata": {},
   "outputs": [
    {
     "data": {
      "text/plain": [
       "<Result () {'number': 3, 'animal': 'deer'}>"
      ]
     },
     "execution_count": 3,
     "metadata": {},
     "output_type": "execute_result"
    }
   ],
   "source": [
    "# Get a digit and a word\n",
    "r = parse(\"I saw {number:d} {animal:w}s\", \"I saw 3 deers\")\n",
    "r"
   ]
  },
  {
   "cell_type": "code",
   "execution_count": 4,
   "id": "0a9fde39",
   "metadata": {},
   "outputs": [
    {
     "data": {
      "text/plain": [
       "3"
      ]
     },
     "execution_count": 4,
     "metadata": {},
     "output_type": "execute_result"
    }
   ],
   "source": [
    "r['number']"
   ]
  },
  {
   "attachments": {},
   "cell_type": "markdown",
   "id": "cbaef5a6",
   "metadata": {},
   "source": [
    "[Link to parse](https://github.com/r1chardj0n3s/parse)."
   ]
  },
  {
   "attachments": {},
   "cell_type": "markdown",
   "id": "b06292aa",
   "metadata": {},
   "source": [
    "### Simplify Pattern Matching and Transformation in Python with Pampy"
   ]
  },
  {
   "cell_type": "code",
   "execution_count": null,
   "id": "b20c1264",
   "metadata": {
    "tags": [
     "hide-cell"
    ]
   },
   "outputs": [],
   "source": [
    "!pip install pampy"
   ]
  },
  {
   "attachments": {},
   "cell_type": "markdown",
   "id": "91d0aea3",
   "metadata": {},
   "source": [
    "To simplify extracting and modifying complex Python objects, use Pampy. Pampy enables pattern matching across a variety of Python objects, including lists, dictionaries, tuples, and classes."
   ]
  },
  {
   "cell_type": "code",
   "execution_count": 29,
   "id": "7c87ca0b",
   "metadata": {},
   "outputs": [
    {
     "data": {
      "text/plain": [
       "\"It's 3\""
      ]
     },
     "execution_count": 29,
     "metadata": {},
     "output_type": "execute_result"
    }
   ],
   "source": [
    "from pampy import match, HEAD, TAIL, _\n",
    "\n",
    "nums = [1, 2, 3]\n",
    "match(nums, [1, 2, _], lambda num: f\"It's {num}\")\n"
   ]
  },
  {
   "cell_type": "code",
   "execution_count": 30,
   "id": "1743d6a3",
   "metadata": {},
   "outputs": [
    {
     "data": {
      "text/plain": [
       "[2, 3]"
      ]
     },
     "execution_count": 30,
     "metadata": {},
     "output_type": "execute_result"
    }
   ],
   "source": [
    "match(nums, [1, TAIL], lambda t: t)\n"
   ]
  },
  {
   "cell_type": "code",
   "execution_count": 27,
   "id": "382c386c",
   "metadata": {},
   "outputs": [
    {
     "data": {
      "text/plain": [
       "[1, 2, 3, 4]"
      ]
     },
     "execution_count": 27,
     "metadata": {},
     "output_type": "execute_result"
    }
   ],
   "source": [
    "nums = [1, [2, 3], 4]\n",
    "\n",
    "match(nums, [1, [_, 3], _], lambda a, b: [1, a, 3, b])\n"
   ]
  },
  {
   "cell_type": "code",
   "execution_count": 28,
   "id": "0ba47c66",
   "metadata": {},
   "outputs": [
    {
     "data": {
      "text/plain": [
       "3"
      ]
     },
     "execution_count": 28,
     "metadata": {},
     "output_type": "execute_result"
    }
   ],
   "source": [
    "pet = {\"type\": \"dog\", \"details\": {\"age\": 3}}\n",
    "\n",
    "match(pet, {\"details\": {\"age\": _}}, lambda age: age)\n"
   ]
  },
  {
   "attachments": {},
   "cell_type": "markdown",
   "id": "c9f2d974",
   "metadata": {},
   "source": [
    "[Link to Pampy](https://github.com/santinic/pampy)."
   ]
  },
  {
   "attachments": {},
   "cell_type": "markdown",
   "id": "678be51c",
   "metadata": {},
   "source": [
    "### Dictdiffer: Find the Differences Between Two Dictionaries"
   ]
  },
  {
   "cell_type": "code",
   "execution_count": null,
   "id": "e7f0c482",
   "metadata": {
    "ExecuteTime": {
     "end_time": "2022-09-09T14:07:05.488769Z",
     "start_time": "2022-09-09T14:07:03.397893Z"
    },
    "tags": [
     "hide-cell"
    ]
   },
   "outputs": [],
   "source": [
    "!pip install dictdiffer"
   ]
  },
  {
   "attachments": {},
   "cell_type": "markdown",
   "id": "10e182e3",
   "metadata": {},
   "source": [
    "When comparing two complicated dictionaries, it is useful to have a tool that finds the differences between the two. Dictdiffer allows you to do exactly that. "
   ]
  },
  {
   "cell_type": "code",
   "execution_count": 13,
   "id": "3f72f6ed",
   "metadata": {
    "ExecuteTime": {
     "end_time": "2022-09-09T14:29:02.957141Z",
     "start_time": "2022-09-09T14:29:02.928259Z"
    }
   },
   "outputs": [],
   "source": [
    "from dictdiffer import diff, swap\n",
    "\n",
    "user1 = {\n",
    "    \"name\": \"Ben\", \n",
    "    \"age\": 25, \n",
    "    \"fav_foods\": [\"ice cream\"],\n",
    "}\n",
    "\n",
    "user2 = {\n",
    "    \"name\": \"Josh\",\n",
    "    \"age\": 25,\n",
    "    \"fav_foods\": [\"ice cream\", \"chicken\"],\n",
    "}\n"
   ]
  },
  {
   "cell_type": "code",
   "execution_count": 33,
   "id": "bc8552c0",
   "metadata": {
    "ExecuteTime": {
     "end_time": "2022-09-09T14:29:03.410284Z",
     "start_time": "2022-09-09T14:29:03.400030Z"
    }
   },
   "outputs": [
    {
     "data": {
      "text/plain": [
       "[('change', 'name', ('Ben', 'Josh')), ('add', 'fav_foods', [(1, 'chicken')])]"
      ]
     },
     "execution_count": 33,
     "metadata": {},
     "output_type": "execute_result"
    },
    {
     "data": {
      "application/javascript": "\n            setTimeout(function() {\n                var nbb_cell_id = 33;\n                var nbb_unformatted_code = \"# find the difference between two dictionaries\\nresult = diff(user1, user2)\\nlist(result)\";\n                var nbb_formatted_code = \"# find the difference between two dictionaries\\nresult = diff(user1, user2)\\nlist(result)\";\n                var nbb_cells = Jupyter.notebook.get_cells();\n                for (var i = 0; i < nbb_cells.length; ++i) {\n                    if (nbb_cells[i].input_prompt_number == nbb_cell_id) {\n                        if (nbb_cells[i].get_text() == nbb_unformatted_code) {\n                             nbb_cells[i].set_text(nbb_formatted_code);\n                        }\n                        break;\n                    }\n                }\n            }, 500);\n            ",
      "text/plain": [
       "<IPython.core.display.Javascript object>"
      ]
     },
     "metadata": {},
     "output_type": "display_data"
    }
   ],
   "source": [
    "# find the difference between two dictionaries\n",
    "result = diff(user1, user2)\n",
    "list(result)"
   ]
  },
  {
   "cell_type": "code",
   "execution_count": 34,
   "id": "d40fdb43",
   "metadata": {
    "ExecuteTime": {
     "end_time": "2022-09-09T14:29:03.978259Z",
     "start_time": "2022-09-09T14:29:03.965616Z"
    }
   },
   "outputs": [
    {
     "data": {
      "text/plain": [
       "[('change', 'name', ('Josh', 'Ben')),\n",
       " ('remove', 'fav_foods', [(1, 'chicken')])]"
      ]
     },
     "execution_count": 34,
     "metadata": {},
     "output_type": "execute_result"
    },
    {
     "data": {
      "application/javascript": "\n            setTimeout(function() {\n                var nbb_cell_id = 34;\n                var nbb_unformatted_code = \"# swap the diff result\\nresult = diff(user1, user2)\\nswapped = swap(result)\\nlist(swapped)\";\n                var nbb_formatted_code = \"# swap the diff result\\nresult = diff(user1, user2)\\nswapped = swap(result)\\nlist(swapped)\";\n                var nbb_cells = Jupyter.notebook.get_cells();\n                for (var i = 0; i < nbb_cells.length; ++i) {\n                    if (nbb_cells[i].input_prompt_number == nbb_cell_id) {\n                        if (nbb_cells[i].get_text() == nbb_unformatted_code) {\n                             nbb_cells[i].set_text(nbb_formatted_code);\n                        }\n                        break;\n                    }\n                }\n            }, 500);\n            ",
      "text/plain": [
       "<IPython.core.display.Javascript object>"
      ]
     },
     "metadata": {},
     "output_type": "display_data"
    }
   ],
   "source": [
    "# swap the diff result\n",
    "result = diff(user1, user2)\n",
    "swapped = swap(result)\n",
    "list(swapped)"
   ]
  },
  {
   "attachments": {},
   "cell_type": "markdown",
   "id": "cf78f883",
   "metadata": {},
   "source": [
    "[Link to Dictdiffer](https://github.com/inveniosoftware/dictdiffer)."
   ]
  },
  {
   "attachments": {},
   "cell_type": "markdown",
   "id": "d93fab2c",
   "metadata": {},
   "source": [
    "### unyt: Manipulate and Convert Units in NumPy Arrays"
   ]
  },
  {
   "cell_type": "code",
   "execution_count": null,
   "id": "365c9de3",
   "metadata": {
    "tags": [
     "hide-cell"
    ]
   },
   "outputs": [],
   "source": [
    "!pip install unyt "
   ]
  },
  {
   "attachments": {},
   "cell_type": "markdown",
   "id": "20fb3666",
   "metadata": {},
   "source": [
    "Working with NumPy arrays that have units can be difficult, as it is not immediately clear what the units are, which can lead to errors. \n",
    "\n",
    "The unyt package solves this by providing a subclass of NumPy's ndarray class that knows units."
   ]
  },
  {
   "cell_type": "code",
   "execution_count": 18,
   "id": "255c0193",
   "metadata": {},
   "outputs": [
    {
     "name": "stdout",
     "output_type": "stream",
     "text": [
      "[ 77.  86.  95. 104.]\n"
     ]
    }
   ],
   "source": [
    "import numpy as np\n",
    "\n",
    "temps = np.array([25, 30, 35, 40])\n",
    "\n",
    "temps_f = (temps * 9/5) + 32\n",
    "print(temps_f)"
   ]
  },
  {
   "cell_type": "code",
   "execution_count": 19,
   "id": "1833dfa2",
   "metadata": {},
   "outputs": [
    {
     "name": "stdout",
     "output_type": "stream",
     "text": [
      "[ 77.  86.  95. 104.] °F\n"
     ]
    }
   ],
   "source": [
    "from unyt import degC, degF\n",
    "\n",
    "# Create an array of temperatures in Celsius\n",
    "temps = np.array([25, 30, 35, 40]) * degC\n",
    "\n",
    "# Convert the temperatures to Fahrenheit\n",
    "temps_f = temps.to(degF)\n",
    "print(temps_f)"
   ]
  },
  {
   "attachments": {},
   "cell_type": "markdown",
   "id": "4b631f0c",
   "metadata": {},
   "source": [
    "unyt arrays support standard NumPy array operations and functions while also preserving the units associated with the data."
   ]
  },
  {
   "cell_type": "code",
   "execution_count": 17,
   "id": "f060dc3b",
   "metadata": {},
   "outputs": [
    {
     "data": {
      "text/plain": [
       "unyt_array([[ 77., 572.],\n",
       "            [ 95., 104.]], 'degF')"
      ]
     },
     "execution_count": 17,
     "metadata": {},
     "output_type": "execute_result"
    }
   ],
   "source": [
    "temps_f.reshape(2, 2)"
   ]
  },
  {
   "attachments": {},
   "cell_type": "markdown",
   "id": "9a380175",
   "metadata": {},
   "source": [
    "[Link to unyt](https://github.com/yt-project/unyt)."
   ]
  },
  {
   "attachments": {},
   "cell_type": "markdown",
   "id": "aa758598",
   "metadata": {},
   "source": [
    "### Map a Function Asynchronously with Prefect"
   ]
  },
  {
   "cell_type": "code",
   "execution_count": null,
   "id": "6a9cc5b0",
   "metadata": {
    "tags": [
     "hide-cell"
    ]
   },
   "outputs": [],
   "source": [
    "!pip install -U prefect "
   ]
  },
  {
   "attachments": {},
   "cell_type": "markdown",
   "id": "5b5b7d62",
   "metadata": {},
   "source": [
    "`map` runs a function for each item in an iterable synchronously."
   ]
  },
  {
   "cell_type": "code",
   "execution_count": null,
   "id": "df266857",
   "metadata": {
    "tags": [
     "hide-output"
    ]
   },
   "outputs": [],
   "source": [
    "def add_one(x):\n",
    "    sleep(2)\n",
    "    return x + 1\n",
    "\n",
    "def sync_map():\n",
    "    b = [add_one(item) for item in [1, 2, 3]]\n",
    "\n",
    "sync_map()"
   ]
  },
  {
   "attachments": {},
   "cell_type": "markdown",
   "id": "121dd780",
   "metadata": {},
   "source": [
    "![](../img/sync_map.png)"
   ]
  },
  {
   "attachments": {},
   "cell_type": "markdown",
   "id": "a8625445",
   "metadata": {},
   "source": [
    "To speed up the execution, map a function asynchronously with Prefect. "
   ]
  },
  {
   "cell_type": "code",
   "execution_count": null,
   "id": "2f52dc88",
   "metadata": {
    "tags": [
     "hide-output"
    ]
   },
   "outputs": [
    {
     "data": {
      "text/html": [
       "<pre style=\"white-space:pre;overflow-x:auto;line-height:normal;font-family:Menlo,'DejaVu Sans Mono',consolas,'Courier New',monospace\">09:04:49.018 | <span style=\"color: #008080; text-decoration-color: #008080\">INFO</span>    | prefect.engine - Created flow run<span style=\"color: #800080; text-decoration-color: #800080\"> 'copper-sponge'</span> for flow<span style=\"color: #800080; text-decoration-color: #800080; font-weight: bold\"> 'async-map'</span>\n",
       "</pre>\n"
      ],
      "text/plain": [
       "09:04:49.018 | \u001b[36mINFO\u001b[0m    | prefect.engine - Created flow run\u001b[35m 'copper-sponge'\u001b[0m for flow\u001b[1;35m 'async-map'\u001b[0m\n"
      ]
     },
     "metadata": {},
     "output_type": "display_data"
    },
    {
     "data": {
      "text/html": [
       "<pre style=\"white-space:pre;overflow-x:auto;line-height:normal;font-family:Menlo,'DejaVu Sans Mono',consolas,'Courier New',monospace\">09:04:51.144 | <span style=\"color: #008080; text-decoration-color: #008080\">INFO</span>    | Flow run<span style=\"color: #800080; text-decoration-color: #800080\"> 'copper-sponge'</span> - Created task run 'add_one-3c3112ef-1' for task 'add_one'\n",
       "</pre>\n"
      ],
      "text/plain": [
       "09:04:51.144 | \u001b[36mINFO\u001b[0m    | Flow run\u001b[35m 'copper-sponge'\u001b[0m - Created task run 'add_one-3c3112ef-1' for task 'add_one'\n"
      ]
     },
     "metadata": {},
     "output_type": "display_data"
    },
    {
     "data": {
      "text/html": [
       "<pre style=\"white-space:pre;overflow-x:auto;line-height:normal;font-family:Menlo,'DejaVu Sans Mono',consolas,'Courier New',monospace\">09:04:51.148 | <span style=\"color: #008080; text-decoration-color: #008080\">INFO</span>    | Flow run<span style=\"color: #800080; text-decoration-color: #800080\"> 'copper-sponge'</span> - Submitted task run 'add_one-3c3112ef-1' for execution.\n",
       "</pre>\n"
      ],
      "text/plain": [
       "09:04:51.148 | \u001b[36mINFO\u001b[0m    | Flow run\u001b[35m 'copper-sponge'\u001b[0m - Submitted task run 'add_one-3c3112ef-1' for execution.\n"
      ]
     },
     "metadata": {},
     "output_type": "display_data"
    },
    {
     "data": {
      "text/html": [
       "<pre style=\"white-space:pre;overflow-x:auto;line-height:normal;font-family:Menlo,'DejaVu Sans Mono',consolas,'Courier New',monospace\">09:04:51.191 | <span style=\"color: #008080; text-decoration-color: #008080\">INFO</span>    | Flow run<span style=\"color: #800080; text-decoration-color: #800080\"> 'copper-sponge'</span> - Created task run 'add_one-3c3112ef-0' for task 'add_one'\n",
       "</pre>\n"
      ],
      "text/plain": [
       "09:04:51.191 | \u001b[36mINFO\u001b[0m    | Flow run\u001b[35m 'copper-sponge'\u001b[0m - Created task run 'add_one-3c3112ef-0' for task 'add_one'\n"
      ]
     },
     "metadata": {},
     "output_type": "display_data"
    },
    {
     "data": {
      "text/html": [
       "<pre style=\"white-space:pre;overflow-x:auto;line-height:normal;font-family:Menlo,'DejaVu Sans Mono',consolas,'Courier New',monospace\">09:04:51.192 | <span style=\"color: #008080; text-decoration-color: #008080\">INFO</span>    | Flow run<span style=\"color: #800080; text-decoration-color: #800080\"> 'copper-sponge'</span> - Submitted task run 'add_one-3c3112ef-0' for execution.\n",
       "</pre>\n"
      ],
      "text/plain": [
       "09:04:51.192 | \u001b[36mINFO\u001b[0m    | Flow run\u001b[35m 'copper-sponge'\u001b[0m - Submitted task run 'add_one-3c3112ef-0' for execution.\n"
      ]
     },
     "metadata": {},
     "output_type": "display_data"
    },
    {
     "data": {
      "text/html": [
       "<pre style=\"white-space:pre;overflow-x:auto;line-height:normal;font-family:Menlo,'DejaVu Sans Mono',consolas,'Courier New',monospace\">09:04:51.208 | <span style=\"color: #008080; text-decoration-color: #008080\">INFO</span>    | Flow run<span style=\"color: #800080; text-decoration-color: #800080\"> 'copper-sponge'</span> - Created task run 'add_one-3c3112ef-2' for task 'add_one'\n",
       "</pre>\n"
      ],
      "text/plain": [
       "09:04:51.208 | \u001b[36mINFO\u001b[0m    | Flow run\u001b[35m 'copper-sponge'\u001b[0m - Created task run 'add_one-3c3112ef-2' for task 'add_one'\n"
      ]
     },
     "metadata": {},
     "output_type": "display_data"
    },
    {
     "data": {
      "text/html": [
       "<pre style=\"white-space:pre;overflow-x:auto;line-height:normal;font-family:Menlo,'DejaVu Sans Mono',consolas,'Courier New',monospace\">09:04:51.210 | <span style=\"color: #008080; text-decoration-color: #008080\">INFO</span>    | Flow run<span style=\"color: #800080; text-decoration-color: #800080\"> 'copper-sponge'</span> - Submitted task run 'add_one-3c3112ef-2' for execution.\n",
       "</pre>\n"
      ],
      "text/plain": [
       "09:04:51.210 | \u001b[36mINFO\u001b[0m    | Flow run\u001b[35m 'copper-sponge'\u001b[0m - Submitted task run 'add_one-3c3112ef-2' for execution.\n"
      ]
     },
     "metadata": {},
     "output_type": "display_data"
    },
    {
     "data": {
      "text/html": [
       "<pre style=\"white-space:pre;overflow-x:auto;line-height:normal;font-family:Menlo,'DejaVu Sans Mono',consolas,'Courier New',monospace\">09:04:54.321 | <span style=\"color: #008080; text-decoration-color: #008080\">INFO</span>    | Task run 'add_one-3c3112ef-0' - Finished in state <span style=\"color: #008000; text-decoration-color: #008000\">Completed</span>()\n",
       "</pre>\n"
      ],
      "text/plain": [
       "09:04:54.321 | \u001b[36mINFO\u001b[0m    | Task run 'add_one-3c3112ef-0' - Finished in state \u001b[32mCompleted\u001b[0m()\n"
      ]
     },
     "metadata": {},
     "output_type": "display_data"
    },
    {
     "data": {
      "text/html": [
       "<pre style=\"white-space:pre;overflow-x:auto;line-height:normal;font-family:Menlo,'DejaVu Sans Mono',consolas,'Courier New',monospace\">09:04:54.362 | <span style=\"color: #008080; text-decoration-color: #008080\">INFO</span>    | Task run 'add_one-3c3112ef-2' - Finished in state <span style=\"color: #008000; text-decoration-color: #008000\">Completed</span>()\n",
       "</pre>\n"
      ],
      "text/plain": [
       "09:04:54.362 | \u001b[36mINFO\u001b[0m    | Task run 'add_one-3c3112ef-2' - Finished in state \u001b[32mCompleted\u001b[0m()\n"
      ]
     },
     "metadata": {},
     "output_type": "display_data"
    },
    {
     "data": {
      "text/html": [
       "<pre style=\"white-space:pre;overflow-x:auto;line-height:normal;font-family:Menlo,'DejaVu Sans Mono',consolas,'Courier New',monospace\">09:04:54.380 | <span style=\"color: #008080; text-decoration-color: #008080\">INFO</span>    | Task run 'add_one-3c3112ef-1' - Finished in state <span style=\"color: #008000; text-decoration-color: #008000\">Completed</span>()\n",
       "</pre>\n"
      ],
      "text/plain": [
       "09:04:54.380 | \u001b[36mINFO\u001b[0m    | Task run 'add_one-3c3112ef-1' - Finished in state \u001b[32mCompleted\u001b[0m()\n"
      ]
     },
     "metadata": {},
     "output_type": "display_data"
    },
    {
     "data": {
      "text/html": [
       "<pre style=\"white-space:pre;overflow-x:auto;line-height:normal;font-family:Menlo,'DejaVu Sans Mono',consolas,'Courier New',monospace\">09:04:54.685 | <span style=\"color: #008080; text-decoration-color: #008080\">INFO</span>    | Flow run<span style=\"color: #800080; text-decoration-color: #800080\"> 'copper-sponge'</span> - Finished in state <span style=\"color: #008000; text-decoration-color: #008000\">Completed</span>('All states completed.')\n",
       "</pre>\n"
      ],
      "text/plain": [
       "09:04:54.685 | \u001b[36mINFO\u001b[0m    | Flow run\u001b[35m 'copper-sponge'\u001b[0m - Finished in state \u001b[32mCompleted\u001b[0m('All states completed.')\n"
      ]
     },
     "metadata": {},
     "output_type": "display_data"
    },
    {
     "data": {
      "text/plain": [
       "[Completed(message=None, type=COMPLETED, result=PersistedResult(type='reference', serializer_type='pickle', storage_block_id=UUID('45e1a1fc-bdc8-4f8d-8945-287d12b46d33'), storage_key='ad7912161ab44a6d8359f8089a16202d')),\n",
       " Completed(message=None, type=COMPLETED, result=PersistedResult(type='reference', serializer_type='pickle', storage_block_id=UUID('45e1a1fc-bdc8-4f8d-8945-287d12b46d33'), storage_key='fe83574cd0df4fc5838ef902beb34f6b')),\n",
       " Completed(message=None, type=COMPLETED, result=PersistedResult(type='reference', serializer_type='pickle', storage_block_id=UUID('45e1a1fc-bdc8-4f8d-8945-287d12b46d33'), storage_key='ba18fe9c568845ecbad03c25df353655'))]"
      ]
     },
     "metadata": {},
     "output_type": "display_data"
    }
   ],
   "source": [
    "from prefect import flow, task\n",
    "from time import sleep\n",
    "import warnings\n",
    "\n",
    "warnings.simplefilter(\"ignore\", UserWarning)\n",
    "\n",
    "# Create a task\n",
    "@task\n",
    "def add_one(x):\n",
    "    sleep(2)\n",
    "    return x + 1\n",
    "\n",
    "# Create a flow\n",
    "@flow\n",
    "def async_map():\n",
    "    # Run a task for each element in the iterable\n",
    "    b = add_one.map([1, 2, 3])\n",
    "\n",
    "\n",
    "async_map()\n"
   ]
  },
  {
   "attachments": {},
   "cell_type": "markdown",
   "id": "4149e917",
   "metadata": {},
   "source": [
    "![](../img/async_map.png)"
   ]
  },
  {
   "attachments": {},
   "cell_type": "markdown",
   "id": "52e7a5ac",
   "metadata": {},
   "source": [
    "Prefect is an open-source library that allows you to orchestrate and observe your data pipelines defined in Python. Check out the [getting started tutorials](https://docs.prefect.io/tutorials/first-steps/) for basic concepts of Prefect. "
   ]
  }
 ],
 "metadata": {
  "celltoolbar": "Tags",
  "hide_input": false,
  "kernelspec": {
   "display_name": "venv",
   "language": "python",
   "name": "python3"
  },
  "language_info": {
   "codemirror_mode": {
    "name": "ipython",
    "version": 3
   },
   "file_extension": ".py",
   "mimetype": "text/x-python",
   "name": "python",
   "nbconvert_exporter": "python",
   "pygments_lexer": "ipython3",
   "version": "3.9.6"
  },
  "toc": {
   "base_numbering": 1,
   "nav_menu": {},
   "number_sections": true,
   "sideBar": true,
   "skip_h1_title": false,
   "title_cell": "Table of Contents",
   "title_sidebar": "Contents",
   "toc_cell": false,
   "toc_position": {},
   "toc_section_display": true,
   "toc_window_display": false
  },
  "vscode": {
   "interpreter": {
    "hash": "c3bc044b9863ed6dec4c55e7ad5af27f030f7d27aed3f39d7a4886a926c4e2c1"
   }
  }
 },
 "nbformat": 4,
 "nbformat_minor": 5
}
