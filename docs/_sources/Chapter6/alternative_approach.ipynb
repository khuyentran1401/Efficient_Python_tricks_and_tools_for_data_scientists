{
 "cells": [
  {
   "cell_type": "markdown",
   "id": "943ce400",
   "metadata": {},
   "source": [
    "## Alternative Approach"
   ]
  },
  {
   "cell_type": "markdown",
   "id": "c3c236a1",
   "metadata": {},
   "source": [
    "This section covers some alternatives approaches to work with Python. "
   ]
  },
  {
   "cell_type": "markdown",
   "id": "d4a8b5a3",
   "metadata": {},
   "source": [
    "### Box: Using Dot Notation to Access Keys in a Python Dictionary\n"
   ]
  },
  {
   "cell_type": "code",
   "execution_count": null,
   "id": "dd0f3b91",
   "metadata": {
    "tags": [
     "hide-cell"
    ]
   },
   "outputs": [],
   "source": [
    "!pip install python-box[all]"
   ]
  },
  {
   "cell_type": "markdown",
   "id": "a33293ea",
   "metadata": {},
   "source": [
    "Do you wish to use `dict.key` instead of `dict['key']` to access the values inside a Python dictionary? If so, try Box.\n",
    "\n",
    "Box is like a Python dictionary except that it allows you to access keys using dot notation. This makes the code cleaner when you want to access a key inside a nested dictionary like below."
   ]
  },
  {
   "cell_type": "code",
   "execution_count": 12,
   "id": "26cc9609",
   "metadata": {
    "ExecuteTime": {
     "end_time": "2021-09-12T14:36:23.816665Z",
     "start_time": "2021-09-12T14:36:23.790113Z"
    }
   },
   "outputs": [
    {
     "name": "stdout",
     "output_type": "stream",
     "text": [
      "{'food': {'fruit': {'name': 'apple', 'flavor': 'sweet'}}}\n"
     ]
    },
    {
     "data": {
      "application/javascript": [
       "\n",
       "            setTimeout(function() {\n",
       "                var nbb_cell_id = 12;\n",
       "                var nbb_unformatted_code = \"from box import Box\\n\\nfood_box = Box({\\\"food\\\": {\\\"fruit\\\": {\\\"name\\\": \\\"apple\\\", \\\"flavor\\\": \\\"sweet\\\"}}})\\nprint(food_box)\";\n",
       "                var nbb_formatted_code = \"from box import Box\\n\\nfood_box = Box({\\\"food\\\": {\\\"fruit\\\": {\\\"name\\\": \\\"apple\\\", \\\"flavor\\\": \\\"sweet\\\"}}})\\nprint(food_box)\";\n",
       "                var nbb_cells = Jupyter.notebook.get_cells();\n",
       "                for (var i = 0; i < nbb_cells.length; ++i) {\n",
       "                    if (nbb_cells[i].input_prompt_number == nbb_cell_id) {\n",
       "                        if (nbb_cells[i].get_text() == nbb_unformatted_code) {\n",
       "                             nbb_cells[i].set_text(nbb_formatted_code);\n",
       "                        }\n",
       "                        break;\n",
       "                    }\n",
       "                }\n",
       "            }, 500);\n",
       "            "
      ],
      "text/plain": [
       "<IPython.core.display.Javascript object>"
      ]
     },
     "metadata": {},
     "output_type": "display_data"
    }
   ],
   "source": [
    "from box import Box\n",
    "\n",
    "food_box = Box({\"food\": {\"fruit\": {\"name\": \"apple\", \"flavor\": \"sweet\"}}})\n",
    "print(food_box)"
   ]
  },
  {
   "cell_type": "code",
   "execution_count": 13,
   "id": "c684506c",
   "metadata": {
    "ExecuteTime": {
     "end_time": "2021-09-12T14:36:24.337190Z",
     "start_time": "2021-09-12T14:36:24.323997Z"
    }
   },
   "outputs": [
    {
     "name": "stdout",
     "output_type": "stream",
     "text": [
      "apple\n"
     ]
    },
    {
     "data": {
      "application/javascript": [
       "\n",
       "            setTimeout(function() {\n",
       "                var nbb_cell_id = 13;\n",
       "                var nbb_unformatted_code = \"print(food_box.food.fruit.name)\";\n",
       "                var nbb_formatted_code = \"print(food_box.food.fruit.name)\";\n",
       "                var nbb_cells = Jupyter.notebook.get_cells();\n",
       "                for (var i = 0; i < nbb_cells.length; ++i) {\n",
       "                    if (nbb_cells[i].input_prompt_number == nbb_cell_id) {\n",
       "                        if (nbb_cells[i].get_text() == nbb_unformatted_code) {\n",
       "                             nbb_cells[i].set_text(nbb_formatted_code);\n",
       "                        }\n",
       "                        break;\n",
       "                    }\n",
       "                }\n",
       "            }, 500);\n",
       "            "
      ],
      "text/plain": [
       "<IPython.core.display.Javascript object>"
      ]
     },
     "metadata": {},
     "output_type": "display_data"
    }
   ],
   "source": [
    "print(food_box.food.fruit.name)"
   ]
  },
  {
   "cell_type": "markdown",
   "id": "ce9cde5d",
   "metadata": {},
   "source": [
    "[Link to Box](https://github.com/cdgriffith/Box)."
   ]
  },
  {
   "cell_type": "markdown",
   "id": "663c82ce",
   "metadata": {},
   "source": [
    "### decorator module: Write Shorter Python Decorators without Nested Functions"
   ]
  },
  {
   "cell_type": "code",
   "execution_count": null,
   "id": "cebff9f6",
   "metadata": {
    "tags": [
     "hide-cell"
    ]
   },
   "outputs": [],
   "source": [
    "!pip install decorator"
   ]
  },
  {
   "cell_type": "markdown",
   "id": "4276ece6",
   "metadata": {},
   "source": [
    "Have you ever wished to write a Python decorator with only one function instead of nested functions like below?\n"
   ]
  },
  {
   "cell_type": "code",
   "execution_count": 15,
   "id": "7448cd86",
   "metadata": {
    "ExecuteTime": {
     "end_time": "2021-09-12T14:36:45.435318Z",
     "start_time": "2021-09-12T14:36:44.412274Z"
    }
   },
   "outputs": [
    {
     "name": "stdout",
     "output_type": "stream",
     "text": [
      "It takes 1.001 seconds to execute the function\n"
     ]
    },
    {
     "data": {
      "application/javascript": [
       "\n",
       "            setTimeout(function() {\n",
       "                var nbb_cell_id = 15;\n",
       "                var nbb_unformatted_code = \"from time import time, sleep\\n\\n\\ndef time_func_complex(func):\\n    def wrapper(*args, **kwargs):\\n        start_time = time()\\n        func(*args, **kwargs)\\n        end_time = time()\\n        print(\\n            f\\\"\\\"\\\"It takes {round(end_time - start_time, 3)} seconds to execute the function\\\"\\\"\\\"\\n        )\\n\\n    return wrapper\\n\\n\\n@time_func_complex\\ndef test_func_complex():\\n    sleep(1)\\n\\n\\ntest_func_complex()\";\n",
       "                var nbb_formatted_code = \"from time import time, sleep\\n\\n\\ndef time_func_complex(func):\\n    def wrapper(*args, **kwargs):\\n        start_time = time()\\n        func(*args, **kwargs)\\n        end_time = time()\\n        print(\\n            f\\\"\\\"\\\"It takes {round(end_time - start_time, 3)} seconds to execute the function\\\"\\\"\\\"\\n        )\\n\\n    return wrapper\\n\\n\\n@time_func_complex\\ndef test_func_complex():\\n    sleep(1)\\n\\n\\ntest_func_complex()\";\n",
       "                var nbb_cells = Jupyter.notebook.get_cells();\n",
       "                for (var i = 0; i < nbb_cells.length; ++i) {\n",
       "                    if (nbb_cells[i].input_prompt_number == nbb_cell_id) {\n",
       "                        if (nbb_cells[i].get_text() == nbb_unformatted_code) {\n",
       "                             nbb_cells[i].set_text(nbb_formatted_code);\n",
       "                        }\n",
       "                        break;\n",
       "                    }\n",
       "                }\n",
       "            }, 500);\n",
       "            "
      ],
      "text/plain": [
       "<IPython.core.display.Javascript object>"
      ]
     },
     "metadata": {},
     "output_type": "display_data"
    }
   ],
   "source": [
    "from time import time, sleep\n",
    "\n",
    "\n",
    "def time_func_complex(func):\n",
    "    def wrapper(*args, **kwargs):\n",
    "        start_time = time()\n",
    "        func(*args, **kwargs)\n",
    "        end_time = time()\n",
    "        print(\n",
    "            f\"\"\"It takes {round(end_time - start_time, 3)} seconds to execute the function\"\"\"\n",
    "        )\n",
    "\n",
    "    return wrapper\n",
    "\n",
    "\n",
    "@time_func_complex\n",
    "def test_func_complex():\n",
    "    sleep(1)\n",
    "\n",
    "\n",
    "test_func_complex()"
   ]
  },
  {
   "cell_type": "markdown",
   "id": "5741e053",
   "metadata": {},
   "source": [
    "If so, try decorator. In the code below, `time_func_simple` produces the exact same results as `time_func_complex`, but `time_func_simple` is easier and short to write.\n"
   ]
  },
  {
   "cell_type": "code",
   "execution_count": 17,
   "id": "76ca58b3",
   "metadata": {
    "ExecuteTime": {
     "end_time": "2021-09-12T14:36:56.943831Z",
     "start_time": "2021-09-12T14:36:55.917239Z"
    }
   },
   "outputs": [
    {
     "name": "stdout",
     "output_type": "stream",
     "text": [
      "It takes 1.001 seconds to execute the function\n"
     ]
    },
    {
     "data": {
      "application/javascript": [
       "\n",
       "            setTimeout(function() {\n",
       "                var nbb_cell_id = 17;\n",
       "                var nbb_unformatted_code = \"from decorator import decorator\\n\\n@decorator\\ndef time_func_simple(func, *args, **kwargs):\\n    start_time = time()\\n    func(*args, **kwargs)\\n    end_time = time()\\n    print(\\n            f\\\"\\\"\\\"It takes {round(end_time - start_time, 3)} seconds to execute the function\\\"\\\"\\\"\\n    )\\n    \\n@time_func_simple  \\ndef test_func_simple():\\n    sleep(1)\\n\\ntest_func()\";\n",
       "                var nbb_formatted_code = \"from decorator import decorator\\n\\n\\n@decorator\\ndef time_func_simple(func, *args, **kwargs):\\n    start_time = time()\\n    func(*args, **kwargs)\\n    end_time = time()\\n    print(\\n        f\\\"\\\"\\\"It takes {round(end_time - start_time, 3)} seconds to execute the function\\\"\\\"\\\"\\n    )\\n\\n\\n@time_func_simple\\ndef test_func_simple():\\n    sleep(1)\\n\\n\\ntest_func()\";\n",
       "                var nbb_cells = Jupyter.notebook.get_cells();\n",
       "                for (var i = 0; i < nbb_cells.length; ++i) {\n",
       "                    if (nbb_cells[i].input_prompt_number == nbb_cell_id) {\n",
       "                        if (nbb_cells[i].get_text() == nbb_unformatted_code) {\n",
       "                             nbb_cells[i].set_text(nbb_formatted_code);\n",
       "                        }\n",
       "                        break;\n",
       "                    }\n",
       "                }\n",
       "            }, 500);\n",
       "            "
      ],
      "text/plain": [
       "<IPython.core.display.Javascript object>"
      ]
     },
     "metadata": {},
     "output_type": "display_data"
    }
   ],
   "source": [
    "from decorator import decorator\n",
    "\n",
    "\n",
    "@decorator\n",
    "def time_func_simple(func, *args, **kwargs):\n",
    "    start_time = time()\n",
    "    func(*args, **kwargs)\n",
    "    end_time = time()\n",
    "    print(\n",
    "        f\"\"\"It takes {round(end_time - start_time, 3)} seconds to execute the function\"\"\"\n",
    "    )\n",
    "\n",
    "\n",
    "@time_func_simple\n",
    "def test_func_simple():\n",
    "    sleep(1)\n",
    "\n",
    "\n",
    "test_func_simple()"
   ]
  },
  {
   "cell_type": "markdown",
   "id": "1211a876",
   "metadata": {},
   "source": [
    "[Check out other things the decorator library can do](https://github.com/micheles/decorator)."
   ]
  },
  {
   "cell_type": "markdown",
   "id": "91e94111",
   "metadata": {},
   "source": [
    "### pydash.chunk: Split Elements in a List into Groups of n Items"
   ]
  },
  {
   "cell_type": "code",
   "execution_count": 2,
   "id": "67025a68",
   "metadata": {
    "ExecuteTime": {
     "end_time": "2021-09-15T13:31:38.866713Z",
     "start_time": "2021-09-15T13:31:36.585138Z"
    },
    "tags": [
     "hide-cell"
    ]
   },
   "outputs": [
    {
     "name": "stdout",
     "output_type": "stream",
     "text": [
      "Collecting pydash\n",
      "  Using cached pydash-5.0.2-py3-none-any.whl (84 kB)\n",
      "Installing collected packages: pydash\n",
      "Successfully installed pydash-5.0.2\n"
     ]
    }
   ],
   "source": [
    "!pip install pydash "
   ]
  },
  {
   "cell_type": "markdown",
   "id": "bef5c362",
   "metadata": {},
   "source": [
    "If you want to split elements in a list into groups of n items, use `pydash.chunk`."
   ]
  },
  {
   "cell_type": "code",
   "execution_count": 3,
   "id": "9c037da0",
   "metadata": {
    "ExecuteTime": {
     "end_time": "2021-09-15T13:31:42.680554Z",
     "start_time": "2021-09-15T13:31:42.593802Z"
    }
   },
   "outputs": [
    {
     "name": "stdout",
     "output_type": "stream",
     "text": [
      "[[1, 2], [3, 4], [5]]\n"
     ]
    }
   ],
   "source": [
    "from pydash import py_\n",
    "\n",
    "a = [1, 2, 3, 4, 5]\n",
    "print(py_.chunk(a, 2))  # [[1, 2], [3, 4], [5]]"
   ]
  },
  {
   "cell_type": "markdown",
   "id": "05e36009",
   "metadata": {},
   "source": [
    "[Link to pydash](https://pydash.readthedocs.io/en/latest/)\n",
    "\n",
    "[Link to my article about pydash](https://towardsdatascience.com/pydash-a-bucket-of-missing-python-utilities-5d10365be4fc)"
   ]
  },
  {
   "cell_type": "markdown",
   "id": "34391612",
   "metadata": {},
   "source": [
    "### virtualenv-clone: Create a Copy of a Virtual Environment"
   ]
  },
  {
   "cell_type": "markdown",
   "id": "83c3698a",
   "metadata": {},
   "source": [
    "Sometimes you might want to use the same virtual environment for 2 different directories. If you want to create a copy of a virtual environment, use virtualenv-clone. \n",
    "\n",
    "The code below shows how to use virtualenv-clone."
   ]
  },
  {
   "cell_type": "markdown",
   "id": "660ab2f7",
   "metadata": {},
   "source": [
    "```bash\n",
    "$ pip install virtualenv-clone\n",
    "$ virtualenv-clone old_venv/ new_venv/\n",
    "\n",
    "$ source new_venv/bin/activate\n",
    "```"
   ]
  },
  {
   "cell_type": "markdown",
   "id": "a8d9d08b",
   "metadata": {},
   "source": [
    "[Link to virtualenv-clone](https://github.com/edwardgeorge/virtualenv-clone)."
   ]
  },
  {
   "cell_type": "markdown",
   "id": "ec1cbd82",
   "metadata": {},
   "source": [
    "### pip-autoremove: Remove a Package and Its Unused Dependencies"
   ]
  },
  {
   "cell_type": "markdown",
   "id": "0e1ba820",
   "metadata": {},
   "source": [
    "When using `pip uninstall`, you only remove a specific package. "
   ]
  },
  {
   "cell_type": "code",
   "execution_count": null,
   "id": "faee7e30",
   "metadata": {
    "ExecuteTime": {
     "end_time": "2021-09-29T13:25:51.357088Z",
     "start_time": "2021-09-29T13:25:45.714472Z"
    },
    "tags": [
     "hide-cell"
    ]
   },
   "outputs": [],
   "source": [
    "!pip install -U pandas-profiling[notebook]"
   ]
  },
  {
   "cell_type": "markdown",
   "id": "176f3fe6",
   "metadata": {},
   "source": [
    "```bash\n",
    "$ pip uninstall pandas-profiling[notebook] -y\n",
    "```"
   ]
  },
  {
   "cell_type": "code",
   "execution_count": 8,
   "id": "1f491e9b",
   "metadata": {
    "ExecuteTime": {
     "end_time": "2021-09-29T13:26:06.566707Z",
     "start_time": "2021-09-29T13:26:05.971713Z"
    },
    "tags": [
     "hide-input"
    ]
   },
   "outputs": [
    {
     "name": "stdout",
     "output_type": "stream",
     "text": [
      "Found existing installation: pandas-profiling 3.1.0\r\n",
      "Uninstalling pandas-profiling-3.1.0:\r\n",
      "  Successfully uninstalled pandas-profiling-3.1.0\r\n"
     ]
    }
   ],
   "source": [
    "!pip uninstall pandas-profiling[notebook] -y"
   ]
  },
  {
   "cell_type": "markdown",
   "id": "e3a5f293",
   "metadata": {},
   "source": [
    "Wouldn't it be nice if you can install that package and its unused dependencies? That is when `pip-autoremove` comes in handy. "
   ]
  },
  {
   "cell_type": "code",
   "execution_count": 2,
   "id": "5f224c50",
   "metadata": {
    "ExecuteTime": {
     "end_time": "2021-09-29T13:24:39.694366Z",
     "start_time": "2021-09-29T13:24:37.292811Z"
    },
    "tags": [
     "hide-cell"
    ]
   },
   "outputs": [
    {
     "name": "stdout",
     "output_type": "stream",
     "text": [
      "Collecting pip-autoremove\n",
      "  Downloading pip_autoremove-0.10.0-py2.py3-none-any.whl (5.0 kB)\n",
      "Requirement already satisfied: setuptools in /home/khuyen/book/venv/lib/python3.8/site-packages (from pip-autoremove) (44.0.0)\n",
      "Requirement already satisfied: pip in /home/khuyen/book/venv/lib/python3.8/site-packages (from pip-autoremove) (21.2.4)\n",
      "Installing collected packages: pip-autoremove\n",
      "Successfully installed pip-autoremove-0.10.0\n"
     ]
    }
   ],
   "source": [
    "!pip install pip-autoremove"
   ]
  },
  {
   "cell_type": "code",
   "execution_count": null,
   "id": "ca74ad8a",
   "metadata": {
    "tags": [
     "hide-cell"
    ]
   },
   "outputs": [],
   "source": [
    "!pip install -U pandas-profiling[notebook]"
   ]
  },
  {
   "cell_type": "markdown",
   "id": "e72a5d69",
   "metadata": {},
   "source": [
    "```bash\n",
    "$ pip-autoremove pandas-profiling[notebook] -y\n",
    "```"
   ]
  },
  {
   "cell_type": "code",
   "execution_count": 5,
   "id": "30a4cb4a",
   "metadata": {
    "ExecuteTime": {
     "end_time": "2021-09-29T13:25:33.658214Z",
     "start_time": "2021-09-29T13:25:31.569786Z"
    },
    "tags": [
     "hide-input"
    ]
   },
   "outputs": [
    {
     "name": "stdout",
     "output_type": "stream",
     "text": [
      "Jinja2 3.0.1 is installed but jinja2~=2.11.2 is required\n",
      "Redoing requirement with just package name...\n",
      "spacy 3.1.2 is installed but spacy<3.0.0 is required\n",
      "Redoing requirement with just package name...\n",
      "markdown-it-py 0.6.2 is installed but markdown-it-py~=1.0 is required\n",
      "Redoing requirement with just package name...\n",
      "attrs 21.2.0 is installed but attrs<21,>=19 is required\n",
      "Redoing requirement with just package name...\n",
      "typer 0.3.2 is installed but typer[all]>=0.4 is required\n",
      "Redoing requirement with just package name...\n",
      "fsspec 0.8.7 is installed but fsspec[http]>=2021.8.1 is required\n",
      "Redoing requirement with just package name...\n",
      "pandas-profiling 3.1.0 (/home/khuyen/book/venv/lib/python3.8/site-packages)\n",
      "    seaborn 0.11.2 (/home/khuyen/book/venv/lib/python3.8/site-packages)\n",
      "    htmlmin 0.1.12 (/home/khuyen/book/venv/lib/python3.8/site-packages)\n",
      "    phik 0.12.0 (/home/khuyen/book/venv/lib/python3.8/site-packages)\n",
      "    multimethod 1.6 (/home/khuyen/book/venv/lib/python3.8/site-packages)\n",
      "    tangled-up-in-unicode 0.1.0 (/home/khuyen/book/venv/lib/python3.8/site-packages)\n",
      "    visions 0.7.4 (/home/khuyen/book/venv/lib/python3.8/site-packages)\n",
      "    missingno 0.5.0 (/home/khuyen/book/venv/lib/python3.8/site-packages)\n",
      "Found existing installation: phik 0.12.0\n",
      "Uninstalling phik-0.12.0:\n",
      "  Successfully uninstalled phik-0.12.0\n",
      "Found existing installation: multimethod 1.6\n",
      "Uninstalling multimethod-1.6:\n",
      "  Successfully uninstalled multimethod-1.6\n",
      "Found existing installation: pandas-profiling 3.1.0\n",
      "Uninstalling pandas-profiling-3.1.0:\n",
      "  Successfully uninstalled pandas-profiling-3.1.0\n",
      "Found existing installation: seaborn 0.11.2\n",
      "Uninstalling seaborn-0.11.2:\n",
      "  Successfully uninstalled seaborn-0.11.2\n",
      "Found existing installation: tangled-up-in-unicode 0.1.0\n",
      "Uninstalling tangled-up-in-unicode-0.1.0:\n",
      "  Successfully uninstalled tangled-up-in-unicode-0.1.0\n",
      "Found existing installation: visions 0.7.4\n",
      "Uninstalling visions-0.7.4:\n",
      "  Successfully uninstalled visions-0.7.4\n",
      "Found existing installation: htmlmin 0.1.12\n",
      "Uninstalling htmlmin-0.1.12:\n",
      "  Successfully uninstalled htmlmin-0.1.12\n",
      "Found existing installation: missingno 0.5.0\n",
      "Uninstalling missingno-0.5.0:\n",
      "  Successfully uninstalled missingno-0.5.0\n"
     ]
    }
   ],
   "source": [
    "!pip-autoremove pandas-profiling[notebook] -y"
   ]
  },
  {
   "cell_type": "markdown",
   "id": "591f01dc",
   "metadata": {},
   "source": [
    "By using pip-autoremove, pandas-profiling and its unused dependencies are removed!"
   ]
  },
  {
   "cell_type": "markdown",
   "id": "93b5ba34",
   "metadata": {},
   "source": [
    "[Link to pip-autoremove](https://github.com/invl/pip-autoremove)."
   ]
  }
 ],
 "metadata": {
  "celltoolbar": "Tags",
  "kernelspec": {
   "display_name": "Python 3 (ipykernel)",
   "language": "python",
   "name": "python3"
  },
  "language_info": {
   "codemirror_mode": {
    "name": "ipython",
    "version": 3
   },
   "file_extension": ".py",
   "mimetype": "text/x-python",
   "name": "python",
   "nbconvert_exporter": "python",
   "pygments_lexer": "ipython3",
   "version": "3.8.10"
  },
  "toc": {
   "base_numbering": 1,
   "nav_menu": {},
   "number_sections": true,
   "sideBar": true,
   "skip_h1_title": false,
   "title_cell": "Table of Contents",
   "title_sidebar": "Contents",
   "toc_cell": false,
   "toc_position": {},
   "toc_section_display": true,
   "toc_window_display": false
  }
 },
 "nbformat": 4,
 "nbformat_minor": 5
}
