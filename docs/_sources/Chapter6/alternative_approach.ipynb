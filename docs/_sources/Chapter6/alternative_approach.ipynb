{
 "cells": [
  {
   "cell_type": "markdown",
   "id": "66ba6bea",
   "metadata": {},
   "source": [
    "## Alternative Approach"
   ]
  },
  {
   "cell_type": "markdown",
   "id": "1dd2f0bf",
   "metadata": {},
   "source": [
    "This section covers some alternatives approaches to work with Python."
   ]
  },
  {
   "cell_type": "markdown",
   "id": "9a2b3a1b",
   "metadata": {},
   "source": [
    "### Simplify Null Checks in Python with the Maybe Container"
   ]
  },
  {
   "cell_type": "code",
   "execution_count": null,
   "id": "27d44eda",
   "metadata": {
    "tags": [
     "hide-cell"
    ]
   },
   "outputs": [],
   "source": [
    "!pip install returns"
   ]
  },
  {
   "cell_type": "code",
   "execution_count": null,
   "id": "8a5402c0",
   "metadata": {
    "tags": [
     "hide-cell"
    ]
   },
   "outputs": [],
   "source": [
    "from typing import Optional\n",
    "\n",
    "\n",
    "class Event:\n",
    "    def __init__(self, ticket: Ticket) -> None:\n",
    "        self._ticket = ticket\n",
    "\n",
    "    def get_ticket(self) -> Ticket:\n",
    "        return self._ticket\n",
    "\n",
    "\n",
    "class Ticket:\n",
    "    def __init__(self, price: float) -> None:\n",
    "        self._price = price\n",
    "\n",
    "    def get_price(self) -> float:\n",
    "        return self._price\n",
    "\n",
    "\n",
    "class Discount:\n",
    "    def __init__(self, discount_amount: float):\n",
    "        self.discount_amount = discount_amount\n",
    "\n",
    "    def apply_discount(self, price: float) -> float:\n",
    "        return price - self.discount_amount"
   ]
  },
  {
   "cell_type": "markdown",
   "id": "7d75a5dd",
   "metadata": {},
   "source": [
    "Having multiple `if x is not None:` conditions can make the code deeply nested and unreadable."
   ]
  },
  {
   "cell_type": "code",
   "execution_count": null,
   "id": "3537af44",
   "metadata": {},
   "outputs": [],
   "source": [
    "def calculate_discounted_price(\n",
    "    event: Optional[Event] = None, discount: Optional[Discount] = None\n",
    ") -> Optional[float]:\n",
    "    if event is not None:\n",
    "        ticket = event.get_ticket()\n",
    "        if ticket is not None:\n",
    "            price = ticket.get_price()\n",
    "            if discount is not None:\n",
    "                return discount.apply_discount(price)\n",
    "    return None\n",
    "\n",
    "\n",
    "ticket = Ticket(100)\n",
    "concert = Event(ticket)\n",
    "discount = Discount(20)\n",
    "calculate_discounted_price(concert, discount)"
   ]
  },
  {
   "cell_type": "code",
   "execution_count": null,
   "id": "5059bbf7",
   "metadata": {},
   "outputs": [],
   "source": [
    "calculate_discounted_price()"
   ]
  },
  {
   "cell_type": "markdown",
   "id": "fb02a53a",
   "metadata": {},
   "source": [
    "The `Maybe` container from the `returns` library enhances code clarity through the `bind_optional` method, which applies a function to the result of the previous step only when that result is not None."
   ]
  },
  {
   "cell_type": "code",
   "execution_count": null,
   "id": "3f16fa21",
   "metadata": {},
   "outputs": [],
   "source": [
    "from returns.maybe import Maybe\n",
    "\n",
    "\n",
    "def calculate_discounted_price(\n",
    "    event: Optional[Event] = None, discount: Optional[Discount] = None\n",
    ") -> Maybe[float]:\n",
    "    return (\n",
    "        Maybe.from_optional(event)\n",
    "        .bind_optional(lambda event: event.get_ticket()) # called only when event exists\n",
    "        .bind_optional(lambda ticket: ticket.get_price()) # called only when ticket exists\n",
    "        .bind_optional(lambda price: discount.apply_discount(price)) # called only when price exists\n",
    "    )\n",
    "\n",
    "ticket = Ticket(100)\n",
    "concert = Event(ticket)\n",
    "discount = Discount(20)\n",
    "calculate_discounted_price(concert, discount)"
   ]
  },
  {
   "cell_type": "code",
   "execution_count": null,
   "id": "73633b8e",
   "metadata": {},
   "outputs": [],
   "source": [
    "calculate_discounted_price()"
   ]
  },
  {
   "cell_type": "markdown",
   "id": "11743c85",
   "metadata": {},
   "source": [
    "[Link to returns](https://bit.ly/3vUFdGW)."
   ]
  },
  {
   "cell_type": "markdown",
   "id": "b39edfd9",
   "metadata": {},
   "source": [
    "### Box: Using Dot Notation to Access Keys in a Python Dictionary"
   ]
  },
  {
   "cell_type": "code",
   "execution_count": null,
   "id": "4b0411f5",
   "metadata": {
    "tags": [
     "hide-cell"
    ]
   },
   "outputs": [],
   "source": [
    "!pip install python-box[all]"
   ]
  },
  {
   "cell_type": "markdown",
   "id": "53573803",
   "metadata": {},
   "source": [
    "Do you wish to use `dict.key` instead of `dict['key']` to access the values inside a Python dictionary? If so, try Box.\n",
    "\n",
    "Box is like a Python dictionary except that it allows you to access keys using dot notation. This makes the code cleaner when you want to access a key inside a nested dictionary like below."
   ]
  },
  {
   "cell_type": "code",
   "execution_count": null,
   "id": "be537c6d",
   "metadata": {},
   "outputs": [],
   "source": [
    "from box import Box\n",
    "\n",
    "food_box = Box({\"food\": {\"fruit\": {\"name\": \"apple\", \"flavor\": \"sweet\"}}})\n",
    "print(food_box)"
   ]
  },
  {
   "cell_type": "code",
   "execution_count": null,
   "id": "b3d4f92d",
   "metadata": {},
   "outputs": [],
   "source": [
    "print(food_box.food.fruit.name)"
   ]
  },
  {
   "cell_type": "markdown",
   "id": "8ac0b7ba",
   "metadata": {},
   "source": [
    "[Link to Box](https://github.com/cdgriffith/Box)."
   ]
  },
  {
   "cell_type": "markdown",
   "id": "3be34bac",
   "metadata": {},
   "source": [
    "### decorator module: Write Shorter Python Decorators without Nested Functions"
   ]
  },
  {
   "cell_type": "code",
   "execution_count": null,
   "id": "21030e20",
   "metadata": {
    "tags": [
     "hide-cell"
    ]
   },
   "outputs": [],
   "source": [
    "!pip install decorator"
   ]
  },
  {
   "cell_type": "markdown",
   "id": "7c28dcef",
   "metadata": {},
   "source": [
    "Have you ever wished to write a Python decorator with only one function instead of nested functions like below?"
   ]
  },
  {
   "cell_type": "code",
   "execution_count": null,
   "id": "0f875ff3",
   "metadata": {},
   "outputs": [],
   "source": [
    "from time import time, sleep\n",
    "\n",
    "\n",
    "def time_func_complex(func):\n",
    "    def wrapper(*args, **kwargs):\n",
    "        start_time = time()\n",
    "        func(*args, **kwargs)\n",
    "        end_time = time()\n",
    "        print(\n",
    "            f\"\"\"It takes {round(end_time - start_time, 3)} seconds to execute the function\"\"\"\n",
    "        )\n",
    "\n",
    "    return wrapper\n",
    "\n",
    "\n",
    "@time_func_complex\n",
    "def test_func_complex():\n",
    "    sleep(1)\n",
    "\n",
    "\n",
    "test_func_complex()"
   ]
  },
  {
   "cell_type": "markdown",
   "id": "6111c068",
   "metadata": {},
   "source": [
    "If so, try decorator. In the code below, `time_func_simple` produces the exact same results as `time_func_complex`, but `time_func_simple` is easier and short to write."
   ]
  },
  {
   "cell_type": "code",
   "execution_count": null,
   "id": "2f665957",
   "metadata": {},
   "outputs": [],
   "source": [
    "from decorator import decorator\n",
    "\n",
    "\n",
    "@decorator\n",
    "def time_func_simple(func, *args, **kwargs):\n",
    "    start_time = time()\n",
    "    func(*args, **kwargs)\n",
    "    end_time = time()\n",
    "    print(\n",
    "        f\"\"\"It takes {round(end_time - start_time, 3)} seconds to execute the function\"\"\"\n",
    "    )\n",
    "\n",
    "\n",
    "@time_func_simple\n",
    "def test_func_simple():\n",
    "    sleep(1)\n",
    "\n",
    "\n",
    "test_func_simple()"
   ]
  },
  {
   "cell_type": "markdown",
   "id": "ea243200",
   "metadata": {},
   "source": [
    "[Check out other things the decorator library can do](https://github.com/micheles/decorator)."
   ]
  },
  {
   "cell_type": "markdown",
   "id": "4b9b00bb",
   "metadata": {},
   "source": [
    "### Pipe: A Elegant Alternative to Nested map and filter Calls in Python"
   ]
  },
  {
   "cell_type": "code",
   "execution_count": null,
   "id": "940c150b",
   "metadata": {
    "tags": [
     "hide-cell"
    ]
   },
   "outputs": [],
   "source": [
    "!pip install pipe"
   ]
  },
  {
   "cell_type": "markdown",
   "id": "900faa01",
   "metadata": {},
   "source": [
    "Pipe is a Python library that enables infix notation (pipes), offering a cleaner alternative to nested function calls. Here are some of the most useful methods from the Pipe library:\n",
    "\n",
    "1. `select` and `where` (aliases for `map` and `filter`):\n",
    "\n",
    "Python's built-in `map` and `filter` functions are powerful tools for working with iterables, allowing for efficient data transformation and filtering. However, when used together, they can lead to code that's difficult to read due to nested function calls. For example:"
   ]
  },
  {
   "cell_type": "code",
   "execution_count": null,
   "id": "447a0f17",
   "metadata": {},
   "outputs": [],
   "source": [
    "nums = [1, 2, 3, 4, 5, 6]\n",
    "\n",
    "list(\n",
    "    filter(lambda x: x % 2 == 0, \n",
    "           map(lambda x: x ** 2, nums)\n",
    "    )\n",
    ")"
   ]
  },
  {
   "cell_type": "markdown",
   "id": "d646bfce",
   "metadata": {},
   "source": [
    "Pipe allows for a more intuitive and readable way of chaining operations:"
   ]
  },
  {
   "cell_type": "code",
   "execution_count": null,
   "id": "1d34158a",
   "metadata": {},
   "outputs": [],
   "source": [
    "from pipe import select, where\n",
    "\n",
    "list(\n",
    "    nums\n",
    "    | select(lambda x: x ** 2)\n",
    "    | where(lambda x: x % 2 == 0)\n",
    ")"
   ]
  },
  {
   "cell_type": "markdown",
   "id": "b10acbb2",
   "metadata": {},
   "source": [
    "In this version, the operations are read from left to right, mirroring the order in which they're applied. The `select` method corresponds to `map`, while `where` corresponds to `filter`. This syntax not only improves readability but also makes it easier to add, remove, or reorder operations in your data processing pipeline."
   ]
  },
  {
   "cell_type": "markdown",
   "id": "5bc7ce47",
   "metadata": {},
   "source": [
    "2. `traverse`:\n",
    "\n",
    "The `traverse` method recursively unfolds nested iterables, which is useful for flattening deeply nested lists:"
   ]
  },
  {
   "cell_type": "code",
   "execution_count": null,
   "id": "6333df01",
   "metadata": {},
   "outputs": [],
   "source": [
    "from pipe import traverse"
   ]
  },
  {
   "cell_type": "code",
   "execution_count": null,
   "id": "bf863b9e",
   "metadata": {},
   "outputs": [],
   "source": [
    "from pipe import traverse\n",
    "\n",
    "nested = [[1, 2, [3]], [4, 5]]\n",
    "flattened = list(nested | traverse)\n",
    "print(flattened) "
   ]
  },
  {
   "cell_type": "markdown",
   "id": "e0901db1",
   "metadata": {},
   "source": [
    "3. `chain`:\n",
    "\n",
    "The `chain` method combines multiple iterables:"
   ]
  },
  {
   "cell_type": "code",
   "execution_count": null,
   "id": "2e361ee1",
   "metadata": {},
   "outputs": [],
   "source": [
    "from pipe import chain\n",
    "\n",
    "result = list([[1, 2], [3, 4], [5]] | chain)\n",
    "print(result)"
   ]
  },
  {
   "cell_type": "markdown",
   "id": "f3c38ff6",
   "metadata": {},
   "source": [
    "4. `take` and `skip`:\n",
    "\n",
    "These methods allow you to select or skip a specific number of elements from an iterable:"
   ]
  },
  {
   "cell_type": "code",
   "execution_count": null,
   "id": "af224340",
   "metadata": {},
   "outputs": [],
   "source": [
    "from pipe import take, skip\n",
    "from itertools import count\n",
    "\n",
    "first_five = list(count() | take(5))\n",
    "print(first_five) "
   ]
  },
  {
   "cell_type": "code",
   "execution_count": null,
   "id": "84737eac",
   "metadata": {},
   "outputs": [],
   "source": [
    "skip_first_two = list([1, 2, 3, 4, 5] | skip(2))\n",
    "print(skip_first_two) "
   ]
  },
  {
   "cell_type": "markdown",
   "id": "e421c59c",
   "metadata": {},
   "source": [
    "[Link to pipe](https://github.com/JulienPalard/Pipe)."
   ]
  },
  {
   "cell_type": "markdown",
   "id": "e10d1662",
   "metadata": {},
   "source": [
    "### PRegEx: Write Human-Readable Regular Expressions"
   ]
  },
  {
   "cell_type": "code",
   "execution_count": null,
   "id": "0a83d270",
   "metadata": {
    "tags": [
     "hide-cell"
    ]
   },
   "outputs": [],
   "source": [
    "!pip install pregex"
   ]
  },
  {
   "cell_type": "markdown",
   "id": "e5b7825d",
   "metadata": {},
   "source": [
    "RegEx is useful for extracting words with matching patterns. However, it can be difficult to read and create. PregEx allows you to write a more human-readable RegEx. \n",
    "\n",
    "In the code below, I use PregEx to extract URLs from text."
   ]
  },
  {
   "cell_type": "code",
   "execution_count": null,
   "id": "650427d2",
   "metadata": {},
   "outputs": [],
   "source": [
    "from pregex.core.classes import AnyButWhitespace\n",
    "from pregex.core.quantifiers import OneOrMore, Optional\n",
    "from pregex.core.operators import Either\n",
    "\n",
    "\n",
    "text = \"You can find me through my website mathdatasimplified.com/ or GitHub https://github.com/khuyentran1401\"\n",
    "\n",
    "any_but_space = OneOrMore(AnyButWhitespace())\n",
    "optional_scheme = Optional(\"https://\")\n",
    "domain = Either(\".com\", \".org\")\n",
    "\n",
    "pre = (\n",
    "    optional_scheme\n",
    "    + any_but_space\n",
    "    + domain\n",
    "    + any_but_space\n",
    ")\n",
    "\n",
    "pre.get_pattern()"
   ]
  },
  {
   "cell_type": "code",
   "execution_count": null,
   "id": "fb12a387",
   "metadata": {},
   "outputs": [],
   "source": [
    "pre.get_matches(text)  "
   ]
  },
  {
   "cell_type": "markdown",
   "id": "c7cff92e",
   "metadata": {},
   "source": [
    "[Full article about PregEx](https://towardsdatascience.com/pregex-write-human-readable-regular-expressions-in-python-9c87d1b1335).\n",
    "\n",
    "[Link to PregEx](https://github.com/manoss96/pregex)."
   ]
  },
  {
   "cell_type": "markdown",
   "id": "503b7339",
   "metadata": {},
   "source": [
    "### parse: Extract Strings Using Brackets"
   ]
  },
  {
   "cell_type": "code",
   "execution_count": null,
   "id": "081fcef4",
   "metadata": {
    "tags": [
     "hide-cell"
    ]
   },
   "outputs": [],
   "source": [
    "!pip install parse"
   ]
  },
  {
   "cell_type": "markdown",
   "id": "67a6bf50",
   "metadata": {},
   "source": [
    "If you want to extract substrings from a string, but find it challenging to do so with RegEx, try parse. parse makes it easy to extract strings that are inside brackets."
   ]
  },
  {
   "cell_type": "code",
   "execution_count": null,
   "id": "cca644a0",
   "metadata": {},
   "outputs": [],
   "source": [
    "from parse import parse \n",
    "\n",
    "# Get strings in the brackets\n",
    "parse(\"I'll get some {} from {}\", \"I'll get some apples from Aldi\")"
   ]
  },
  {
   "cell_type": "markdown",
   "id": "c715107a",
   "metadata": {},
   "source": [
    "You can also make the brackets more readable by adding the field name to them."
   ]
  },
  {
   "cell_type": "code",
   "execution_count": null,
   "id": "79bb79e5",
   "metadata": {},
   "outputs": [],
   "source": [
    "# Specify the field names for the brackets\n",
    "parse(\"I'll get some {items} from {store}\", \"I'll get some shirts from Walmart\")"
   ]
  },
  {
   "cell_type": "markdown",
   "id": "3bc81415",
   "metadata": {},
   "source": [
    "parse also allows you to get the string with a certain format."
   ]
  },
  {
   "cell_type": "code",
   "execution_count": null,
   "id": "fd3cf591",
   "metadata": {},
   "outputs": [],
   "source": [
    "# Get a digit and a word\n",
    "r = parse(\"I saw {number:d} {animal:w}s\", \"I saw 3 deers\")\n",
    "r"
   ]
  },
  {
   "cell_type": "code",
   "execution_count": null,
   "id": "db32cd3f",
   "metadata": {},
   "outputs": [],
   "source": [
    "r['number']"
   ]
  },
  {
   "cell_type": "markdown",
   "id": "2d768a04",
   "metadata": {},
   "source": [
    "[Link to parse](https://github.com/r1chardj0n3s/parse)."
   ]
  },
  {
   "cell_type": "markdown",
   "id": "d8096e96",
   "metadata": {},
   "source": [
    "### Simplify Pattern Matching and Transformation in Python with Pampy"
   ]
  },
  {
   "cell_type": "code",
   "execution_count": null,
   "id": "95f4935a",
   "metadata": {
    "tags": [
     "hide-cell"
    ]
   },
   "outputs": [],
   "source": [
    "!pip install pampy"
   ]
  },
  {
   "cell_type": "markdown",
   "id": "045379d0",
   "metadata": {},
   "source": [
    "To simplify extracting and modifying complex Python objects, use Pampy. Pampy enables pattern matching across a variety of Python objects, including lists, dictionaries, tuples, and classes."
   ]
  },
  {
   "cell_type": "code",
   "execution_count": null,
   "id": "16ff4966",
   "metadata": {},
   "outputs": [],
   "source": [
    "from pampy import match, HEAD, TAIL, _\n",
    "\n",
    "nums = [1, 2, 3]\n",
    "match(nums, [1, 2, _], lambda num: f\"It's {num}\")"
   ]
  },
  {
   "cell_type": "code",
   "execution_count": null,
   "id": "b4c88613",
   "metadata": {},
   "outputs": [],
   "source": [
    "match(nums, [1, TAIL], lambda t: t)"
   ]
  },
  {
   "cell_type": "code",
   "execution_count": null,
   "id": "927067b7",
   "metadata": {},
   "outputs": [],
   "source": [
    "nums = [1, [2, 3], 4]\n",
    "\n",
    "match(nums, [1, [_, 3], _], lambda a, b: [1, a, 3, b])"
   ]
  },
  {
   "cell_type": "code",
   "execution_count": null,
   "id": "0769a357",
   "metadata": {},
   "outputs": [],
   "source": [
    "pet = {\"type\": \"dog\", \"details\": {\"age\": 3}}\n",
    "\n",
    "match(pet, {\"details\": {\"age\": _}}, lambda age: age)"
   ]
  },
  {
   "cell_type": "markdown",
   "id": "54e25e3f",
   "metadata": {},
   "source": [
    "[Link to Pampy](https://github.com/santinic/pampy)."
   ]
  },
  {
   "cell_type": "markdown",
   "id": "8bfeec19",
   "metadata": {},
   "source": [
    "### Dictdiffer: Find the Differences Between Two Dictionaries"
   ]
  },
  {
   "cell_type": "code",
   "execution_count": null,
   "id": "98aa2aba",
   "metadata": {
    "tags": [
     "hide-cell"
    ]
   },
   "outputs": [],
   "source": [
    "!pip install dictdiffer"
   ]
  },
  {
   "cell_type": "markdown",
   "id": "913998fb",
   "metadata": {},
   "source": [
    "When comparing two complicated dictionaries, it is useful to have a tool that finds the differences between the two. Dictdiffer allows you to do exactly that."
   ]
  },
  {
   "cell_type": "code",
   "execution_count": null,
   "id": "a5a8769b",
   "metadata": {},
   "outputs": [],
   "source": [
    "from dictdiffer import diff, swap\n",
    "\n",
    "user1 = {\n",
    "    \"name\": \"Ben\", \n",
    "    \"age\": 25, \n",
    "    \"fav_foods\": [\"ice cream\"],\n",
    "}\n",
    "\n",
    "user2 = {\n",
    "    \"name\": \"Josh\",\n",
    "    \"age\": 25,\n",
    "    \"fav_foods\": [\"ice cream\", \"chicken\"],\n",
    "}"
   ]
  },
  {
   "cell_type": "code",
   "execution_count": null,
   "id": "e5d79712",
   "metadata": {},
   "outputs": [],
   "source": [
    "# find the difference between two dictionaries\n",
    "result = diff(user1, user2)\n",
    "list(result)"
   ]
  },
  {
   "cell_type": "code",
   "execution_count": null,
   "id": "95097eea",
   "metadata": {},
   "outputs": [],
   "source": [
    "# swap the diff result\n",
    "result = diff(user1, user2)\n",
    "swapped = swap(result)\n",
    "list(swapped)"
   ]
  },
  {
   "cell_type": "markdown",
   "id": "d6f8debe",
   "metadata": {},
   "source": [
    "[Link to Dictdiffer](https://github.com/inveniosoftware/dictdiffer)."
   ]
  },
  {
   "cell_type": "markdown",
   "id": "a33eb9c2",
   "metadata": {},
   "source": [
    "### unyt: Manipulate and Convert Units in NumPy Arrays"
   ]
  },
  {
   "cell_type": "code",
   "execution_count": null,
   "id": "65ec9c96",
   "metadata": {
    "tags": [
     "hide-cell"
    ]
   },
   "outputs": [],
   "source": [
    "!pip install unyt "
   ]
  },
  {
   "cell_type": "markdown",
   "id": "9a3fa0e6",
   "metadata": {},
   "source": [
    "Working with NumPy arrays that have units can be difficult, as it is not immediately clear what the units are, which can lead to errors. \n",
    "\n",
    "The unyt package solves this by providing a subclass of NumPy's ndarray class that knows units."
   ]
  },
  {
   "cell_type": "code",
   "execution_count": null,
   "id": "b8340e28",
   "metadata": {},
   "outputs": [],
   "source": [
    "import numpy as np\n",
    "\n",
    "temps = np.array([25, 30, 35, 40])\n",
    "\n",
    "temps_f = (temps * 9/5) + 32\n",
    "print(temps_f)"
   ]
  },
  {
   "cell_type": "code",
   "execution_count": null,
   "id": "e3f144a0",
   "metadata": {},
   "outputs": [],
   "source": [
    "from unyt import degC, degF\n",
    "\n",
    "# Create an array of temperatures in Celsius\n",
    "temps = np.array([25, 30, 35, 40]) * degC\n",
    "\n",
    "# Convert the temperatures to Fahrenheit\n",
    "temps_f = temps.to(degF)\n",
    "print(temps_f)"
   ]
  },
  {
   "cell_type": "markdown",
   "id": "f74f3986",
   "metadata": {},
   "source": [
    "unyt arrays support standard NumPy array operations and functions while also preserving the units associated with the data."
   ]
  },
  {
   "cell_type": "code",
   "execution_count": null,
   "id": "f322ef0d",
   "metadata": {},
   "outputs": [],
   "source": [
    "temps_f.reshape(2, 2)"
   ]
  },
  {
   "cell_type": "markdown",
   "id": "369a525e",
   "metadata": {},
   "source": [
    "[Link to unyt](https://github.com/yt-project/unyt)."
   ]
  },
  {
   "cell_type": "markdown",
   "id": "f1fc8751",
   "metadata": {
    "editable": true,
    "slideshow": {
     "slide_type": ""
    }
   },
   "source": [
    "### Using natsort for Intuitive Alphanumeric Sorting in Python"
   ]
  },
  {
   "cell_type": "code",
   "execution_count": null,
   "id": "072d7a8d",
   "metadata": {
    "editable": true,
    "slideshow": {
     "slide_type": ""
    },
    "tags": [
     "hide-cell"
    ]
   },
   "outputs": [],
   "source": [
    "!pip install 'natsort[fast]'"
   ]
  },
  {
   "cell_type": "markdown",
   "id": "304c6324",
   "metadata": {},
   "source": [
    "When sorting a list of strings containing numbers, Python's default sorting algorithm operates lexicographically. This can lead to unexpected results, especially when dealing with measurements or alphanumeric data:"
   ]
  },
  {
   "cell_type": "code",
   "execution_count": null,
   "id": "77582a17",
   "metadata": {},
   "outputs": [],
   "source": [
    "a = ['2 ft 7 in', '1 ft 5 in', '10 ft 2 in', '2 ft 11 in', '7 ft 6 in']\n",
    "sorted(a)"
   ]
  },
  {
   "cell_type": "markdown",
   "id": "3b2e9d62",
   "metadata": {},
   "source": [
    "As you can see, the default `sorted()` function produces a result that doesn't align with our intuitive understanding of numerical order. It places '10 ft 2 in' before '2 ft 11 in' because it compares the strings character by character.\n",
    "\n",
    "The natsort library solves this problem by providing natural sorting functionality that handles numbers within strings intelligently."
   ]
  },
  {
   "cell_type": "code",
   "execution_count": null,
   "id": "4e4f3555",
   "metadata": {},
   "outputs": [],
   "source": [
    "from natsort import natsorted\n",
    "\n",
    "a = ['2 ft 7 in', '1 ft 5 in', '10 ft 2 in', '2 ft 11 in', '7 ft 6 in']\n",
    "natsorted(a)"
   ]
  },
  {
   "cell_type": "markdown",
   "id": "ecae084e",
   "metadata": {
    "editable": true,
    "slideshow": {
     "slide_type": ""
    }
   },
   "source": [
    "This makes natsort particularly useful when dealing with alphanumeric data, such as filenames, version numbers, or measurements."
   ]
  },
  {
   "cell_type": "markdown",
   "id": "381d029c",
   "metadata": {
    "editable": true,
    "slideshow": {
     "slide_type": ""
    }
   },
   "source": [
    "[Link to natsort](https://github.com/SethMMorton/natsort)."
   ]
  },
  {
   "cell_type": "markdown",
   "id": "cb6a0bd7",
   "metadata": {},
   "source": [
    "### smart_open: The Python Library That Makes Cloud Storage Feel Local"
   ]
  },
  {
   "cell_type": "code",
   "execution_count": null,
   "id": "3288e08e",
   "metadata": {
    "editable": true,
    "slideshow": {
     "slide_type": ""
    },
    "tags": [
     "hide-cell"
    ]
   },
   "outputs": [],
   "source": [
    "pip install \"smart_open[s3]\""
   ]
  },
  {
   "cell_type": "markdown",
   "id": "bc9453e4",
   "metadata": {},
   "source": [
    "Working with large remote files in cloud storage services such as S3 often involves complex boilerplate code and careful management of file-like objects, which can lead to subtle bugs.\n",
    "\n",
    "Let's first look at how we typically interact with S3 using boto3, the AWS SDK for Python:"
   ]
  },
  {
   "cell_type": "code",
   "execution_count": null,
   "id": "22c59c1d",
   "metadata": {},
   "outputs": [],
   "source": [
    "import boto3\n",
    "\n",
    "# Initialize S3 client\n",
    "s3_client = boto3.client('s3')\n",
    "\n",
    "with open('example_file.txt', 'w') as local_file:\n",
    "    local_file.write(\"Hello, world!\")\n",
    "\n",
    "s3_client.upload_file('example_file.txt', 'khuyen-bucket', 'remote_file.txt')\n",
    "s3_client.download_file('khuyen-bucket', 'remote_file.txt', 'example_file2.txt')\n",
    "\n",
    "with open('example_file2.txt', 'r') as local_file:\n",
    "    content = local_file.read()\n",
    "    print(content)"
   ]
  },
  {
   "cell_type": "markdown",
   "id": "4ad210d6",
   "metadata": {},
   "source": [
    "As you can see, this approach requires initializing an S3 client, managing file-like objects, and using separate methods for uploading and downloading. It's not particularly intuitive, especially for developers who are used to working with local files."
   ]
  },
  {
   "cell_type": "markdown",
   "id": "9a8959a5",
   "metadata": {
    "editable": true,
    "slideshow": {
     "slide_type": ""
    }
   },
   "source": [
    "smart_open addresses these issues by providing a single `open()` function that works across different storage systems and file formats. Let's see how it simplifies our S3 operations:"
   ]
  },
  {
   "cell_type": "code",
   "execution_count": null,
   "id": "8892f80a",
   "metadata": {
    "editable": true,
    "slideshow": {
     "slide_type": ""
    }
   },
   "outputs": [],
   "source": [
    "from smart_open import open\n",
    "\n",
    "with open('s3://khuyen-bucket/example_file.txt', 'w') as s3_file:\n",
    "    s3_file.write(\"Hello, world!\")\n",
    "\n",
    "\n",
    "with open('s3://khuyen-bucket/example_file.txt', 'r') as s3_file:\n",
    "    print(s3_file.read())"
   ]
  },
  {
   "cell_type": "markdown",
   "id": "55e2c72c",
   "metadata": {
    "editable": true,
    "slideshow": {
     "slide_type": ""
    }
   },
   "source": [
    "Another great feature of smart_open is its ability to handle compressed files transparently. Let's say we have a gzipped file that we want to upload to S3 and then read from:"
   ]
  },
  {
   "cell_type": "code",
   "execution_count": null,
   "id": "d31e5555",
   "metadata": {
    "editable": true,
    "slideshow": {
     "slide_type": ""
    },
    "tags": [
     "remove-cell"
    ]
   },
   "outputs": [],
   "source": [
    "!gzip example_file.txt"
   ]
  },
  {
   "cell_type": "code",
   "execution_count": null,
   "id": "84ec4ff1",
   "metadata": {
    "editable": true,
    "slideshow": {
     "slide_type": ""
    }
   },
   "outputs": [],
   "source": [
    "# Uploading a gzipped file\n",
    "with open('example_file.txt.gz', 'r') as local_file:\n",
    "    with open('s3://khuyen-bucket/example_file.txt.gz', 'w') as s3_file:\n",
    "        s3_file.write(local_file.read())\n",
    "        \n",
    "# Reading a gzipped file from S3\n",
    "with open('s3://khuyen-bucket/example_file.txt.gz', 'r') as s3_file:\n",
    "    content = s3_file.read()\n",
    "    print(content)"
   ]
  },
  {
   "cell_type": "markdown",
   "id": "1ae52c53",
   "metadata": {},
   "source": [
    "[Link to smart_open](https://github.com/piskvorky/smart_open)."
   ]
  },
  {
   "cell_type": "markdown",
   "id": "c96d88f8",
   "metadata": {},
   "source": [
    "### Flicking: Safe Model Deserialization in Python"
   ]
  },
  {
   "cell_type": "code",
   "execution_count": null,
   "id": "78f78972",
   "metadata": {},
   "outputs": [],
   "source": [
    "!pip install fickling"
   ]
  },
  {
   "cell_type": "markdown",
   "id": "b99d8e23",
   "metadata": {},
   "source": [
    "When working with machine learning models or serialized data in Python, it's common to use the pickle module to save and load data. However, loading pickle files directly without security checks can result in potential code execution vulnerabilities, especially when handling untrusted ML models or serialized data from external sources."
   ]
  },
  {
   "cell_type": "markdown",
   "id": "2324d1ab",
   "metadata": {},
   "source": [
    "Let's consider an example where we create a simple dummy model class, save it to a pickle file, and then load it without any safety checks."
   ]
  },
  {
   "cell_type": "code",
   "execution_count": null,
   "id": "e723c461",
   "metadata": {
    "editable": true,
    "slideshow": {
     "slide_type": ""
    }
   },
   "outputs": [],
   "source": [
    "import pickle\n",
    "import numpy as np\n",
    "\n",
    "\n",
    "# Create a simple dummy model class\n",
    "class DummyModel:\n",
    "    def __init__(self):\n",
    "        self.weights = np.random.rand(10)\n",
    "\n",
    "    def predict(self, X):\n",
    "        return np.dot(X, self.weights)\n",
    "\n",
    "\n",
    "# Create an instance of the dummy model\n",
    "model = DummyModel()\n",
    "\n",
    "# Save the model to a pickle file\n",
    "with open(\"model.pkl\", \"wb\") as f:\n",
    "    pickle.dump(model, f)"
   ]
  },
  {
   "cell_type": "code",
   "execution_count": null,
   "id": "55688a0c",
   "metadata": {},
   "outputs": [],
   "source": [
    "import pickle\n",
    "\n",
    "\n",
    "# No safety checks, potential for malicious code execution\n",
    "with open(\"model.pkl\", \"rb\") as f:\n",
    "    data = pickle.load(f)  # Could execute harmful code"
   ]
  },
  {
   "cell_type": "markdown",
   "id": "ff93c9fe",
   "metadata": {},
   "source": [
    "As you can see, loading the pickle file without any safety checks can potentially execute malicious code, which is a serious security risk."
   ]
  },
  {
   "cell_type": "markdown",
   "id": "c0595843",
   "metadata": {},
   "source": [
    "Fickling provides several ways to safely handle pickle files and ML models by detecting malicious content before execution. You can:\n",
    "\n",
    "- Add runtime safety checks for all pickle operations\n",
    "- Get detailed analysis of potential security issues\n",
    "\n",
    "Here's an example of how to use Fickling to safely load a pickle file:"
   ]
  },
  {
   "cell_type": "code",
   "execution_count": null,
   "id": "81069707",
   "metadata": {},
   "outputs": [],
   "source": [
    "import fickling\n",
    "\n",
    "fickling.always_check_safety()\n",
    "\n",
    "with open(\"model.pkl\", \"rb\") as f:\n",
    "    data = pickle.load(f)"
   ]
  },
  {
   "cell_type": "markdown",
   "id": "b6fa41cb",
   "metadata": {},
   "source": [
    "When we run this code, Fickling will raise an `UnsafeFileError` if it detects any potential security issues."
   ]
  },
  {
   "cell_type": "markdown",
   "id": "a51fe94d",
   "metadata": {},
   "source": [
    "[Link to Flicking](https://github.com/trailofbits/fickling)."
   ]
  },
  {
   "cell_type": "markdown",
   "id": "ea89eefa",
   "metadata": {},
   "source": [
    "### Safe Unit Conversions in Python Using Pint"
   ]
  },
  {
   "cell_type": "code",
   "execution_count": null,
   "id": "fa7013f7",
   "metadata": {
    "editable": true,
    "slideshow": {
     "slide_type": ""
    },
    "tags": [
     "hide-cell"
    ]
   },
   "outputs": [],
   "source": [
    "!pip install pint"
   ]
  },
  {
   "cell_type": "markdown",
   "id": "d6c816cd",
   "metadata": {},
   "source": [
    "Working with physical quantities and unit conversions in Python leads to error-prone calculations and confusing code, as units are often stored separately or ignored altogether, which results in hard-to-catch bugs and inconsistent results.\n",
    "\n",
    "Let's consider an example where we're calculating speed from distance and time. Without explicit unit definitions, it's unclear what units are being used, making it easy for developers to make incorrect assumptions."
   ]
  },
  {
   "cell_type": "code",
   "execution_count": null,
   "id": "d1c15dd5",
   "metadata": {},
   "outputs": [],
   "source": [
    "distance = 100  # meters? feet? kilometers?\n",
    "time = 9.58     # seconds? minutes?\n",
    "\n",
    "# Manual conversion needed\n",
    "# assumes distance was in kilometers while in fact it was in meters\n",
    "speed_kmh = (distance) / (time / 3600)"
   ]
  },
  {
   "cell_type": "markdown",
   "id": "aa339147",
   "metadata": {},
   "source": [
    "With Pint, you can define units explicitly, and it will handle unit tracking and conversions automatically."
   ]
  },
  {
   "cell_type": "code",
   "execution_count": null,
   "id": "3df85783",
   "metadata": {},
   "outputs": [],
   "source": [
    "import pint\n",
    "\n",
    "ureg = pint.UnitRegistry()\n",
    "\n",
    "# Clear unit definitions\n",
    "distance = 100 * ureg.meters\n",
    "time = 10 * ureg.seconds\n",
    "\n",
    "# Automatic unit conversion\n",
    "speed = distance / time\n",
    "speed"
   ]
  },
  {
   "cell_type": "code",
   "execution_count": null,
   "id": "8da46828",
   "metadata": {},
   "outputs": [],
   "source": [
    "speed.to(\"kilometers/hour\")"
   ]
  },
  {
   "cell_type": "markdown",
   "id": "aaa3e8e2",
   "metadata": {},
   "source": [
    "Pint also ensures dimensional consistency in calculations, raising an error if units don't match."
   ]
  },
  {
   "cell_type": "code",
   "execution_count": null,
   "id": "e247df4c",
   "metadata": {},
   "outputs": [],
   "source": [
    "# Will raise error if units don't match\n",
    "try:\n",
    "    wrong_calc = 3 * ureg.meters + 4 * ureg.seconds\n",
    "except pint.DimensionalityError as e:\n",
    "    print(\"DimensionalityError:\", e)"
   ]
  },
  {
   "cell_type": "markdown",
   "id": "93a850fd",
   "metadata": {},
   "source": [
    "[Link to Pint](https://github.com/hgrecco/pint)."
   ]
  }
 ],
 "metadata": {
  "jupytext": {
   "text_representation": {
    "extension": ".md",
    "format_name": "myst",
    "format_version": 0.13,
    "jupytext_version": "1.16.7"
   }
  },
  "kernelspec": {
   "display_name": "venv",
   "language": "python",
   "name": "python3"
  },
  "source_map": [
   12,
   16,
   20,
   24,
   30,
   58,
   62,
   81,
   83,
   87,
   107,
   109,
   113,
   117,
   121,
   127,
   134,
   136,
   140,
   144,
   148,
   152,
   174,
   178,
   198,
   202,
   206,
   210,
   218,
   226,
   230,
   238,
   242,
   248,
   252,
   258,
   264,
   269,
   275,
   283,
   286,
   290,
   294,
   298,
   304,
   326,
   328,
   334,
   338,
   342,
   346,
   351,
   355,
   358,
   362,
   368,
   370,
   374,
   378,
   382,
   386,
   393,
   397,
   403,
   407,
   411,
   415,
   419,
   423,
   439,
   445,
   450,
   454,
   458,
   462,
   468,
   477,
   486,
   490,
   492,
   496,
   500,
   508,
   512,
   515,
   521,
   528,
   532,
   536,
   540,
   548,
   554,
   569,
   573,
   577,
   593,
   597,
   607,
   622,
   626,
   630,
   632,
   636,
   640,
   667,
   674,
   678,
   687,
   694,
   698,
   702,
   706,
   714,
   720,
   727,
   732,
   746,
   748,
   752,
   758
  ]
 },
 "nbformat": 4,
 "nbformat_minor": 5
}