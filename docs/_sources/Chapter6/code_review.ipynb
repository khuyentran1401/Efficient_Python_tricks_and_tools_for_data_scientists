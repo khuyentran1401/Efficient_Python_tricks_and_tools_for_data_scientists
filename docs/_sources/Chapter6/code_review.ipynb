{
 "cells": [
  {
   "attachments": {},
   "cell_type": "markdown",
   "id": "39d99ae8",
   "metadata": {},
   "source": [
    "## Code Review"
   ]
  },
  {
   "attachments": {},
   "cell_type": "markdown",
   "id": "939fb1bf",
   "metadata": {},
   "source": [
    "This section covers some tools to automatically review and improve your code such as sorting imports, checking for missing docstrings, etc. "
   ]
  },
  {
   "attachments": {},
   "cell_type": "markdown",
   "id": "3bbec868",
   "metadata": {},
   "source": [
    "### isort: Automatically Sort your Python Imports in 1 Line of Code"
   ]
  },
  {
   "attachments": {},
   "cell_type": "markdown",
   "id": "5445f4a3",
   "metadata": {},
   "source": [
    "As your codebase expands, you may find yourself importing numerous libraries, which can become overwhelming to navigate. To avoid arranging your imports manually, use isort.\n",
    "\n",
    "isort is a Python library that automatically sorts imports alphabetically, grouping them by section and type. \n",
    "\n",
    "Consider the following example where your imports are unsorted:"
   ]
  },
  {
   "attachments": {},
   "cell_type": "markdown",
   "id": "5b626941",
   "metadata": {},
   "source": [
    "```python\n",
    "from sklearn.metrics import confusion_matrix, fl_score, classification_report, roc_curve\n",
    "from sklearn.model_selection import train_test_split\n",
    "from sklearn.model_selection import GridSearchCV, StratifiedKFold\n",
    "from sklearn import svm\n",
    "from sklearn.naive_bayes import GaussianNB, MultinomialNB\n",
    "from sklearn.neighbors import KNeighborsClassifier\n",
    "from sklearn.tree import DecisionTreeClassifier\n",
    "from sklearn.model_selection import TimeSeriesSplit\n",
    "```\n",
    "By running `isort name_of_your_file.py`, isort can sort your imports automatically into the following:\n",
    "\n",
    "```python\n",
    "from sklearn import svm\n",
    "from sklearn.metrics import (classification_report, confusion_matrix, fl_score,\n",
    "                             roc_curve)\n",
    "from sklearn.model_selection import (GridSearchCV, StratifiedKFold,\n",
    "                                     TimeSeriesSplit, train_test_split)\n",
    "from sklearn.naive_bayes import GaussianNB, MultinomialNB\n",
    "from sklearn.neighbors import KNeighborsClassifier\n",
    "from sklearn.tree import DecisionTreeClassifier\n",
    "```"
   ]
  },
  {
   "attachments": {},
   "cell_type": "markdown",
   "id": "9b838d2a",
   "metadata": {},
   "source": [
    "You can use isort with pre-commit by adding the following to your .pre-commit-config.yaml file:\n",
    "\n",
    "```yaml\n",
    "-   repo: https://github.com/timothycrosley/isort\n",
    "    rev: 5.12.0\n",
    "    hooks:\n",
    "    -   id: isort\n",
    "```"
   ]
  },
  {
   "attachments": {},
   "cell_type": "markdown",
   "id": "880ee7ff",
   "metadata": {},
   "source": [
    "[Link to isort](https://github.com/pycqa/isort)."
   ]
  },
  {
   "attachments": {},
   "cell_type": "markdown",
   "id": "e5a74256",
   "metadata": {},
   "source": [
    "### interrogate: Check your Python Code for Missing Docstrings"
   ]
  },
  {
   "cell_type": "code",
   "execution_count": null,
   "id": "6a9ea660",
   "metadata": {
    "tags": [
     "hide-cell"
    ]
   },
   "outputs": [],
   "source": [
    "!pip install interrogate  "
   ]
  },
  {
   "attachments": {},
   "cell_type": "markdown",
   "id": "451fbb78",
   "metadata": {},
   "source": [
    "Sometimes, you might forget to include docstrings for classes and functions. Instead of manually searching through all your functions and classes for missing docstrings, use interrogate.\n",
    "\n",
    "Consider the following example where there are missing docstrings:"
   ]
  },
  {
   "cell_type": "code",
   "execution_count": 2,
   "id": "9c7eeca5",
   "metadata": {},
   "outputs": [
    {
     "name": "stdout",
     "output_type": "stream",
     "text": [
      "Writing interrogate_example.py\n"
     ]
    }
   ],
   "source": [
    "%%writefile interrogate_example.py\n",
    "class Math:\n",
    "    def __init__(self, num) -> None:\n",
    "        self.num = num\n",
    "\n",
    "    def plus_two(self):\n",
    "        \"\"\"Add 2\"\"\"\n",
    "        return self.num + 2\n",
    "\n",
    "    def multiply_three(self):\n",
    "        return self.num * 3"
   ]
  },
  {
   "attachments": {},
   "cell_type": "markdown",
   "id": "98452d8c",
   "metadata": {},
   "source": [
    "You can use interrogate to identify missing docstrings:\n",
    "```bash\n",
    "interrogate interrogate_example.py\n",
    "```\n",
    "Output:"
   ]
  },
  {
   "cell_type": "code",
   "execution_count": 29,
   "id": "431def18",
   "metadata": {
    "ExecuteTime": {
     "end_time": "2021-09-12T13:52:14.673077Z",
     "start_time": "2021-09-12T13:52:14.294768Z"
    },
    "tags": [
     "hide-input"
    ]
   },
   "outputs": [
    {
     "name": "stdout",
     "output_type": "stream",
     "text": [
      "RESULT: FAILED (minimum: 80.0%, actual: 20.0%)\r\n",
      "\u001b[0m"
     ]
    }
   ],
   "source": [
    "!interrogate interrogate_example.py"
   ]
  },
  {
   "attachments": {},
   "cell_type": "markdown",
   "id": "273fea63",
   "metadata": {},
   "source": [
    "You can use interrogate with pre-commit by adding the following to your .pre-commit-config.yaml file:\n",
    "```yaml\n",
    "- repo: https://github.com/pre-commit/mirrors-interrogate\n",
    "  rev: v1.4.0\n",
    "  hooks:\n",
    "  - id: interrogate\n",
    "```"
   ]
  },
  {
   "attachments": {},
   "cell_type": "markdown",
   "id": "4fe515d8",
   "metadata": {},
   "source": [
    "[Link to interrogate](https://interrogate.readthedocs.io/en/latest/)."
   ]
  },
  {
   "attachments": {},
   "cell_type": "markdown",
   "id": "d70db553",
   "metadata": {},
   "source": [
    "### mypy: Static Type Checker for Python\n"
   ]
  },
  {
   "cell_type": "code",
   "execution_count": null,
   "id": "65ede34e",
   "metadata": {
    "tags": [
     "hide-cell"
    ]
   },
   "outputs": [],
   "source": [
    "!pip install mypy "
   ]
  },
  {
   "attachments": {},
   "cell_type": "markdown",
   "id": "da94aed2",
   "metadata": {},
   "source": [
    "Type hinting in Python is useful for other developers to understand the expected data types to be used in your functions. To automate type checking in your code, use mypy. \n",
    "\n",
    "Consider the following file that includes type hinting:"
   ]
  },
  {
   "cell_type": "code",
   "execution_count": 3,
   "id": "0d19ec26",
   "metadata": {},
   "outputs": [
    {
     "name": "stdout",
     "output_type": "stream",
     "text": [
      "Writing mypy_example.py\n"
     ]
    }
   ],
   "source": [
    "%%writefile mypy_example.py\n",
    "from typing import List, Union\n",
    "\n",
    "def get_name_price(fruits: list) -> Union[list, tuple]:\n",
    "    return zip(*fruits)\n",
    "\n",
    "fruits = [('apple', 2), ('orange', 3), ('grape', 2)]\n",
    "names, prices = get_name_price(fruits)\n",
    "print(names)  # ('apple', 'orange', 'grape')\n",
    "print(prices)  # (2, 3, 2)"
   ]
  },
  {
   "attachments": {},
   "cell_type": "markdown",
   "id": "bb0e047a",
   "metadata": {},
   "source": [
    "When typing the following command on your terminal:\n",
    "```bash\n",
    "mypy mypy_example.py\n",
    "```\n",
    "you will get the output similar to this:"
   ]
  },
  {
   "cell_type": "code",
   "execution_count": 31,
   "id": "4734152f",
   "metadata": {
    "ExecuteTime": {
     "end_time": "2021-09-12T13:57:57.497228Z",
     "start_time": "2021-09-12T13:57:57.131001Z"
    },
    "tags": [
     "remove-input"
    ]
   },
   "outputs": [
    {
     "name": "stdout",
     "output_type": "stream",
     "text": [
      "mypy_example.py:4: \u001b[1m\u001b[31merror:\u001b[m Incompatible return value type (got \u001b[m\u001b[1m\"zip[Any]\"\u001b[m, expected \u001b[m\u001b[1m\"Union[List[Any], Tuple[Any, ...]]\"\u001b[m)\u001b[m\r\n",
      "\u001b[1m\u001b[31mFound 1 error in 1 file (checked 1 source file)\u001b[m\r\n"
     ]
    }
   ],
   "source": [
    "!mypy mypy_example.py"
   ]
  },
  {
   "attachments": {},
   "cell_type": "markdown",
   "id": "83eac122",
   "metadata": {},
   "source": [
    "You can use mypy with pre-commit by adding the following to your .pre-commit-config.yaml file:\n",
    "\n",
    "```yaml\n",
    "repos:\n",
    "- repo: https://github.com/pre-commit/mirrors-mypy\n",
    "  rev: v0.910\n",
    "  hooks:\n",
    "  - id: mypy\n",
    "```"
   ]
  },
  {
   "attachments": {},
   "cell_type": "markdown",
   "id": "04abb07f",
   "metadata": {},
   "source": [
    "[Link to mypy](https://mypy.readthedocs.io/en/latest/introduction.html)."
   ]
  },
  {
   "attachments": {},
   "cell_type": "markdown",
   "id": "ed05e895",
   "metadata": {},
   "source": [
    "### Refurb: Refurbish and Modernize Python Codebases"
   ]
  },
  {
   "attachments": {},
   "cell_type": "markdown",
   "id": "69ec1b44",
   "metadata": {},
   "source": [
    "If you want to have some guidelines to improve and optimize your code, try Refurb.\n",
    "\n",
    "For example, if you have a file like this:"
   ]
  },
  {
   "cell_type": "code",
   "execution_count": 4,
   "id": "314373e0",
   "metadata": {},
   "outputs": [
    {
     "name": "stdout",
     "output_type": "stream",
     "text": [
      "Overwriting test_refurb.py\n"
     ]
    }
   ],
   "source": [
    "%%writefile test_refurb.py\n",
    "for n in [1, 2, 3, 4]:\n",
    "    if n == 2 or n == 4:\n",
    "        res = n/2 "
   ]
  },
  {
   "attachments": {},
   "cell_type": "markdown",
   "id": "1efa1e05",
   "metadata": {},
   "source": [
    "You can use Refurb to refurbish your code."
   ]
  },
  {
   "attachments": {},
   "cell_type": "markdown",
   "id": "6cb4ed23",
   "metadata": {},
   "source": [
    "```bash\n",
    "$ refurb test_refurb.py\n",
    "```"
   ]
  },
  {
   "cell_type": "code",
   "execution_count": 3,
   "id": "2f053e92",
   "metadata": {
    "tags": [
     "remove-input"
    ]
   },
   "outputs": [
    {
     "name": "stdout",
     "output_type": "stream",
     "text": [
      "test_refurb.py:1:10 [FURB109]: Replace `in [x, y, z]` with `in (x, y, z)`\n",
      "test_refurb.py:2:8 [FURB108]: Use `x in (y, z)` instead of `x == y or x == z`\n",
      "\n",
      "Run `refurb --explain ERR` to further explain an error. Use `--quiet` to silence this message\n"
     ]
    }
   ],
   "source": [
    "!refurb test_refurb.py"
   ]
  },
  {
   "attachments": {},
   "cell_type": "markdown",
   "id": "76b237f6",
   "metadata": {},
   "source": [
    "```bash\n",
    "$ refurb test_refurb.py --explain FURB109\n",
    "```"
   ]
  },
  {
   "cell_type": "code",
   "execution_count": 4,
   "id": "7a45acfc",
   "metadata": {
    "tags": [
     "remove-input"
    ]
   },
   "outputs": [
    {
     "data": {
      "text/plain": [
       "['Since tuple, list, and set literals can be used with the `in` operator, it',\n",
       " 'is best to pick one and stick with it.',\n",
       " '',\n",
       " 'Bad:',\n",
       " '',\n",
       " '```',\n",
       " 'for x in [1, 2, 3]:',\n",
       " '    pass',\n",
       " '',\n",
       " 'nums = [str(x) for x in [1, 2, 3]]',\n",
       " '```',\n",
       " '',\n",
       " 'Good:',\n",
       " '',\n",
       " '```',\n",
       " 'for x in (1, 2, 3):',\n",
       " '    pass',\n",
       " '',\n",
       " 'nums = [str(x) for x in (1, 2, 3)]',\n",
       " '```']"
      ]
     },
     "execution_count": 4,
     "metadata": {},
     "output_type": "execute_result"
    }
   ],
   "source": [
    "!refurb test_refurb.py --explain FURB109"
   ]
  },
  {
   "attachments": {},
   "cell_type": "markdown",
   "id": "52241346",
   "metadata": {},
   "source": [
    "Refurb only works with Python 3.10 and above.\n",
    "\n",
    "You can use Refurb with pre-commit by adding the following to your .pre-commit-config.yaml file:\n",
    "\n",
    "```yaml\n",
    "repos:\n",
    "  - repo: https://github.com/dosisod/refurb\n",
    "    rev: REVISION\n",
    "    hooks:\n",
    "      - id: refurb\n",
    "```"
   ]
  },
  {
   "attachments": {},
   "cell_type": "markdown",
   "id": "33d13e38",
   "metadata": {},
   "source": [
    "[Link to Refurb](https://github.com/dosisod/refurb)."
   ]
  },
  {
   "attachments": {},
   "cell_type": "markdown",
   "id": "43cedf7b",
   "metadata": {},
   "source": [
    "### eradicate: Remove Junk Comments from Python Files"
   ]
  },
  {
   "cell_type": "code",
   "execution_count": null,
   "id": "209ac9a6",
   "metadata": {
    "tags": [
     "hide-cell"
    ]
   },
   "outputs": [],
   "source": [
    "!pip install eradicate"
   ]
  },
  {
   "attachments": {},
   "cell_type": "markdown",
   "id": "688b2887",
   "metadata": {},
   "source": [
    "As your code base grows, the number of junk comments also increases. eradicate makes it easy to remove commented-out code from Python files.\n",
    "\n",
    "For example, if you have a file like this:"
   ]
  },
  {
   "cell_type": "code",
   "execution_count": 17,
   "id": "d1207fe9",
   "metadata": {},
   "outputs": [
    {
     "name": "stdout",
     "output_type": "stream",
     "text": [
      "Writing eradicate_test.py\n"
     ]
    }
   ],
   "source": [
    "%%writefile eradicate_test.py\n",
    "# from math import *\n",
    "\n",
    "def mean(nums: list):\n",
    "    # print(nums)\n",
    "    # TODO: check if nums is empty\n",
    "    # Return mean\n",
    "    return sum(nums) / len(nums)\n",
    "\n",
    "# nums = [0, 1]\n",
    "nums = [1, 2, 3]\n",
    "mean(nums)"
   ]
  },
  {
   "attachments": {},
   "cell_type": "markdown",
   "id": "b62ab3ab",
   "metadata": {},
   "source": [
    "You can use eradicate to remove junk comments:\n",
    "\n",
    "```bash\n",
    "# print diffs\n",
    "$ eradicate eradicate_test.py\n",
    "```"
   ]
  },
  {
   "cell_type": "code",
   "execution_count": 18,
   "id": "8b86aec7",
   "metadata": {
    "tags": [
     "remove-input"
    ]
   },
   "outputs": [
    {
     "name": "stdout",
     "output_type": "stream",
     "text": [
      "--- before/eradicate_test.py\n",
      "+++ after/eradicate_test.py\n",
      "@@ -1,11 +1,8 @@\n",
      "-# from math import *\n",
      " \n",
      " def mean(nums: list):\n",
      "-    # print(nums)\n",
      "     # TODO: check if nums is empty\n",
      "     # Return mean\n",
      "     return sum(nums) / len(nums)\n",
      " \n",
      "-# nums = [0, 1]\n",
      " nums = [1, 2, 3]\n",
      " mean(nums)\n"
     ]
    }
   ],
   "source": [
    "!eradicate eradicate_test.py"
   ]
  },
  {
   "attachments": {},
   "cell_type": "markdown",
   "id": "826909ce",
   "metadata": {},
   "source": [
    "```bash\n",
    "# make changes to files\n",
    "$ eradicate eradicate_test.py -i\n",
    "```"
   ]
  },
  {
   "cell_type": "code",
   "execution_count": 19,
   "id": "f167fde2",
   "metadata": {
    "tags": [
     "remove-input"
    ]
   },
   "outputs": [],
   "source": [
    "!eradicate eradicate_test.py -i"
   ]
  },
  {
   "cell_type": "code",
   "execution_count": 22,
   "id": "1d73d5d3",
   "metadata": {},
   "outputs": [
    {
     "name": "stdout",
     "output_type": "stream",
     "text": [
      "\n",
      "def mean(nums: list):\n",
      "    # TODO: check if nums is empty\n",
      "    # Return mean\n",
      "    return sum(nums) / len(nums)\n",
      "\n",
      "nums = [1, 2, 3]\n",
      "mean(nums)\n"
     ]
    }
   ],
   "source": [
    "# show file contents\n",
    "%cat eradicate_test.py"
   ]
  },
  {
   "attachments": {},
   "cell_type": "markdown",
   "id": "b4fe6af4",
   "metadata": {},
   "source": [
    "You can use Refurb with pre-commit by adding the following to your `.pre-commit-config.yaml` file:\n",
    "\n",
    "```yaml\n",
    "repos:\n",
    "- repo: https://github.com/wemake-services/eradicate/\n",
    "  rev: v2.2.0\n",
    "  hooks:\n",
    "  - id: eradicate\n",
    "```"
   ]
  },
  {
   "attachments": {},
   "cell_type": "markdown",
   "id": "d3c68a84",
   "metadata": {},
   "source": [
    "[Link to eradicate](https://github.com/wemake-services/eradicate/)."
   ]
  },
  {
   "attachments": {},
   "cell_type": "markdown",
   "id": "78f5be04",
   "metadata": {},
   "source": [
    "### Pydantic: Enforce Data Types on Your Function Parameters at Runtime"
   ]
  },
  {
   "cell_type": "code",
   "execution_count": null,
   "id": "f365b0a3",
   "metadata": {
    "tags": [
     "hide-cell"
    ]
   },
   "outputs": [],
   "source": [
    "!pip install pydantic"
   ]
  },
  {
   "attachments": {},
   "cell_type": "markdown",
   "id": "b0849f83",
   "metadata": {},
   "source": [
    "To enforce data types and validate function parameters at runtime, use Pydantic. \n",
    "\n",
    "Pydantic will attempt to convert values to the correct data type. If the conversion fails, it raises a ValidationError."
   ]
  },
  {
   "cell_type": "code",
   "execution_count": 9,
   "id": "9d003169",
   "metadata": {},
   "outputs": [],
   "source": [
    "from pydantic import BaseModel\n",
    "import pandas as pd\n",
    "\n",
    "class SplitConfig(BaseModel):\n",
    "    test_size: float = 0.3\n",
    "    random_state: int = 1"
   ]
  },
  {
   "cell_type": "code",
   "execution_count": 10,
   "id": "7b229c2b",
   "metadata": {},
   "outputs": [],
   "source": [
    "def split_data(data: pd.DataFrame, config: SplitConfig = SplitConfig()):\n",
    "    test_size = config.test_size\n",
    "    random_state = config.random_state\n",
    "    ...\n",
    "\n",
    "\n",
    "split_data(SplitConfig(random_state=1.0)) \n",
    "# --> 1 (int)\n"
   ]
  },
  {
   "cell_type": "code",
   "execution_count": 12,
   "id": "c7960997",
   "metadata": {},
   "outputs": [
    {
     "ename": "ValidationError",
     "evalue": "1 validation error for SplitConfig\nrandom_state\n  value is not a valid integer (type=type_error.integer)",
     "output_type": "error",
     "traceback": [
      "\u001b[0;31m---------------------------------------------------------------------------\u001b[0m",
      "\u001b[0;31mValidationError\u001b[0m                           Traceback (most recent call last)",
      "Cell \u001b[0;32mIn[12], line 1\u001b[0m\n\u001b[0;32m----> 1\u001b[0m split_data(SplitConfig(random_state\u001b[39m=\u001b[39;49m\u001b[39m\"\u001b[39;49m\u001b[39ma\u001b[39;49m\u001b[39m\"\u001b[39;49m))\n",
      "File \u001b[0;32m~/book/venv/lib/python3.9/site-packages/pydantic/main.py:341\u001b[0m, in \u001b[0;36mpydantic.main.BaseModel.__init__\u001b[0;34m()\u001b[0m\n",
      "\u001b[0;31mValidationError\u001b[0m: 1 validation error for SplitConfig\nrandom_state\n  value is not a valid integer (type=type_error.integer)"
     ]
    }
   ],
   "source": [
    "split_data(SplitConfig(random_state=\"a\"))"
   ]
  },
  {
   "attachments": {},
   "cell_type": "markdown",
   "id": "558a69bd",
   "metadata": {},
   "source": [
    "[Link to Pydantic](https://docs.pydantic.dev/).\n",
    "\n",
    "[Build a full-stack ML application with Pydantic and Prefect](https://towardsdatascience.com/build-a-full-stack-ml-application-with-pydantic-and-prefect-915f00fe0c62?sk=b1f8c5cb53a6a9d7f48d66fa778e9cf0)."
   ]
  },
  {
   "attachments": {},
   "cell_type": "markdown",
   "id": "e45c995b",
   "metadata": {},
   "source": [
    "### perfplot: Performance Analysis for Python Snippets"
   ]
  },
  {
   "cell_type": "code",
   "execution_count": null,
   "id": "4b32f9d4",
   "metadata": {
    "tags": [
     "hide-cell"
    ]
   },
   "outputs": [],
   "source": [
    "!pip install perfplot"
   ]
  },
  {
   "attachments": {},
   "cell_type": "markdown",
   "id": "866549ea",
   "metadata": {},
   "source": [
    "If you want to compare the performance between different snippets and plot the results, use perfplot. "
   ]
  },
  {
   "cell_type": "code",
   "execution_count": 14,
   "id": "6edab594",
   "metadata": {},
   "outputs": [
    {
     "data": {
      "application/vnd.jupyter.widget-view+json": {
       "model_id": "5cf5e047a0fe4068972c728224342a8a",
       "version_major": 2,
       "version_minor": 0
      },
      "text/plain": [
       "Output()"
      ]
     },
     "metadata": {},
     "output_type": "display_data"
    },
    {
     "data": {
      "text/html": [
       "<pre style=\"white-space:pre;overflow-x:auto;line-height:normal;font-family:Menlo,'DejaVu Sans Mono',consolas,'Courier New',monospace\"></pre>\n"
      ],
      "text/plain": []
     },
     "metadata": {},
     "output_type": "display_data"
    },
    {
     "data": {
      "text/html": [
       "<pre style=\"white-space:pre;overflow-x:auto;line-height:normal;font-family:Menlo,'DejaVu Sans Mono',consolas,'Courier New',monospace\">\n",
       "</pre>\n"
      ],
      "text/plain": [
       "\n"
      ]
     },
     "metadata": {},
     "output_type": "display_data"
    },
    {
     "data": {
      "image/png": "[encoded data removed]",
      "text/plain": [
       "<Figure size 640x480 with 1 Axes>"
      ]
     },
     "metadata": {},
     "output_type": "display_data"
    }
   ],
   "source": [
    "import perfplot\n",
    "\n",
    "\n",
    "def append(n):\n",
    "    l = []\n",
    "    for i in range(n):\n",
    "        l.append(i)\n",
    "    return l\n",
    "\n",
    "\n",
    "def comprehension(n):\n",
    "    return [i for i in range(n)]\n",
    "\n",
    "\n",
    "def list_range(n):\n",
    "    return list(range(n))\n",
    "\n",
    "\n",
    "perfplot.show(\n",
    "    setup=lambda n: n,\n",
    "    kernels=[\n",
    "        append,\n",
    "        comprehension,\n",
    "        list_range,\n",
    "    ],\n",
    "    n_range=[2**k for k in range(25)],\n",
    ")\n"
   ]
  },
  {
   "attachments": {},
   "cell_type": "markdown",
   "id": "32b2fa4c",
   "metadata": {},
   "source": [
    "[Link to perfplot](https://github.com/nschloe/perfplot)."
   ]
  },
  {
   "attachments": {},
   "cell_type": "markdown",
   "id": "00b5d584",
   "metadata": {},
   "source": [
    "### Analyze the Memory Usage of Your Python Code "
   ]
  },
  {
   "cell_type": "code",
   "execution_count": null,
   "id": "cc2eac88",
   "metadata": {
    "tags": [
     "hide-cell"
    ]
   },
   "outputs": [],
   "source": [
    "!pip install memory_profiler"
   ]
  },
  {
   "attachments": {},
   "cell_type": "markdown",
   "id": "e495148b",
   "metadata": {},
   "source": [
    "If you want to analyze the memory consumption of your Python code line-by-line, use memory_profiler. This package allows you to generate a full memory usage report of your executable and plot it."
   ]
  },
  {
   "cell_type": "code",
   "execution_count": 5,
   "id": "55ccb7f8",
   "metadata": {},
   "outputs": [
    {
     "name": "stdout",
     "output_type": "stream",
     "text": [
      "Writing memory_profiler_test.py\n"
     ]
    }
   ],
   "source": [
    "%%writefile memory_profiler_test.py \n",
    "from memory_profiler import profile\n",
    "\n",
    "\n",
    "@profile\n",
    "def func():\n",
    "    a = [1] * (10 ** 6)\n",
    "    b = [2] * (2 * 10 ** 7)\n",
    "    del b\n",
    "    return a\n",
    "\n",
    "\n",
    "if __name__ == \"__main__\":\n",
    "    func()\n"
   ]
  },
  {
   "attachments": {},
   "cell_type": "markdown",
   "id": "3ac9d8fb",
   "metadata": {},
   "source": [
    "```bash\n",
    "$ mprof run memory_profiler_test.py\n",
    "``` "
   ]
  },
  {
   "cell_type": "code",
   "execution_count": 1,
   "id": "6182a8af",
   "metadata": {
    "tags": [
     "remove-input"
    ]
   },
   "outputs": [
    {
     "name": "stdout",
     "output_type": "stream",
     "text": [
      "mprof: Sampling memory every 0.1s\n",
      "running new process\n",
      "running as a Python program...\n",
      "Filename: memory_profiler_test.py\n",
      "\n",
      "Line #    Mem usage    Increment  Occurrences   Line Contents\n",
      "=============================================================\n",
      "     4     41.9 MiB     41.9 MiB           1   @profile\n",
      "     5                                         def func():\n",
      "     6     49.5 MiB      7.6 MiB           1       a = [1] * (10 ** 6)\n",
      "     7    202.1 MiB    152.6 MiB           1       b = [2] * (2 * 10 ** 7)\n",
      "     8     49.5 MiB   -152.6 MiB           1       del b\n",
      "     9     49.5 MiB      0.0 MiB           1       return a\n",
      "\n",
      "\n"
     ]
    }
   ],
   "source": [
    "!mprof run memory_profiler_test.py"
   ]
  },
  {
   "attachments": {},
   "cell_type": "markdown",
   "id": "e121fe9e",
   "metadata": {},
   "source": [
    "Plot the memory usage:\n",
    "```bash\n",
    "$ mprof plot\n",
    "```\n",
    "![](../img/memory_profiler.png)"
   ]
  },
  {
   "attachments": {},
   "cell_type": "markdown",
   "id": "38fdc2ab",
   "metadata": {},
   "source": [
    "[Link to memory_profiler](https://github.com/pythonprofilers/memory_profiler)."
   ]
  }
 ],
 "metadata": {
  "kernelspec": {
   "display_name": "venv",
   "language": "python",
   "name": "python3"
  },
  "language_info": {
   "codemirror_mode": {
    "name": "ipython",
    "version": 3
   },
   "file_extension": ".py",
   "mimetype": "text/x-python",
   "name": "python",
   "nbconvert_exporter": "python",
   "pygments_lexer": "ipython3",
   "version": "3.9.6"
  },
  "toc": {
   "base_numbering": 1,
   "nav_menu": {},
   "number_sections": true,
   "sideBar": true,
   "skip_h1_title": false,
   "title_cell": "Table of Contents",
   "title_sidebar": "Contents",
   "toc_cell": false,
   "toc_position": {},
   "toc_section_display": true,
   "toc_window_display": false
  },
  "vscode": {
   "interpreter": {
    "hash": "c3bc044b9863ed6dec4c55e7ad5af27f030f7d27aed3f39d7a4886a926c4e2c1"
   }
  }
 },
 "nbformat": 4,
 "nbformat_minor": 5
}
