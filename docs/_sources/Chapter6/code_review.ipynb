{
 "cells": [
  {
   "cell_type": "markdown",
   "id": "854bc6c9",
   "metadata": {},
   "source": [
    "## Code Review"
   ]
  },
  {
   "cell_type": "markdown",
   "id": "5715449b",
   "metadata": {},
   "source": [
    "This section covers some tools to automatically review and improve your code such as sorting imports, checking for missing docstrings, etc."
   ]
  },
  {
   "cell_type": "markdown",
   "id": "d50b8abd",
   "metadata": {},
   "source": [
    "### isort: Automatically Sort your Python Imports in 1 Line of Code"
   ]
  },
  {
   "cell_type": "markdown",
   "id": "150fa823",
   "metadata": {},
   "source": [
    "As your codebase expands, you may find yourself importing numerous libraries, which can become overwhelming to navigate. To avoid arranging your imports manually, use isort.\n",
    "\n",
    "isort is a Python library that automatically sorts imports alphabetically, grouping them by section and type. \n",
    "\n",
    "Consider the following example where your imports are unsorted:"
   ]
  },
  {
   "cell_type": "markdown",
   "id": "9fe6f207",
   "metadata": {},
   "source": [
    "```python\n",
    "from sklearn.metrics import confusion_matrix, fl_score, classification_report, roc_curve\n",
    "from sklearn.model_selection import train_test_split\n",
    "from sklearn.model_selection import GridSearchCV, StratifiedKFold\n",
    "from sklearn import svm\n",
    "from sklearn.naive_bayes import GaussianNB, MultinomialNB\n",
    "from sklearn.neighbors import KNeighborsClassifier\n",
    "from sklearn.tree import DecisionTreeClassifier\n",
    "from sklearn.model_selection import TimeSeriesSplit\n",
    "```\n",
    "By running `isort name_of_your_file.py`, isort can sort your imports automatically into the following:\n",
    "\n",
    "```python\n",
    "from sklearn import svm\n",
    "from sklearn.metrics import (classification_report, confusion_matrix, fl_score,\n",
    "                             roc_curve)\n",
    "from sklearn.model_selection import (GridSearchCV, StratifiedKFold,\n",
    "                                     TimeSeriesSplit, train_test_split)\n",
    "from sklearn.naive_bayes import GaussianNB, MultinomialNB\n",
    "from sklearn.neighbors import KNeighborsClassifier\n",
    "from sklearn.tree import DecisionTreeClassifier\n",
    "```"
   ]
  },
  {
   "cell_type": "markdown",
   "id": "72de5612",
   "metadata": {},
   "source": [
    "You can use isort with pre-commit by adding the following to your .pre-commit-config.yaml file:\n",
    "\n",
    "```yaml\n",
    "-   repo: https://github.com/timothycrosley/isort\n",
    "    rev: 5.12.0\n",
    "    hooks:\n",
    "    -   id: isort\n",
    "```"
   ]
  },
  {
   "cell_type": "markdown",
   "id": "1521aac9",
   "metadata": {},
   "source": [
    "[Link to isort](https://github.com/pycqa/isort)."
   ]
  },
  {
   "cell_type": "markdown",
   "id": "f3bf8a5b",
   "metadata": {},
   "source": [
    "### interrogate: Check your Python Code for Missing Docstrings"
   ]
  },
  {
   "cell_type": "code",
   "execution_count": null,
   "id": "c340b580",
   "metadata": {
    "tags": [
     "hide-cell"
    ]
   },
   "outputs": [],
   "source": [
    "!pip install interrogate  "
   ]
  },
  {
   "cell_type": "markdown",
   "id": "bd34e228",
   "metadata": {},
   "source": [
    "Sometimes, you might forget to include docstrings for classes and functions. Instead of manually searching through all your functions and classes for missing docstrings, use interrogate.\n",
    "\n",
    "Consider the following example where there are missing docstrings:"
   ]
  },
  {
   "cell_type": "code",
   "execution_count": null,
   "id": "c9f6d75a",
   "metadata": {},
   "outputs": [],
   "source": [
    "%%writefile interrogate_example.py\n",
    "class Math:\n",
    "    def __init__(self, num) -> None:\n",
    "        self.num = num\n",
    "\n",
    "    def plus_two(self):\n",
    "        \"\"\"Add 2\"\"\"\n",
    "        return self.num + 2\n",
    "\n",
    "    def multiply_three(self):\n",
    "        return self.num * 3"
   ]
  },
  {
   "cell_type": "markdown",
   "id": "be593d20",
   "metadata": {},
   "source": [
    "You can use interrogate to identify missing docstrings:\n",
    "```bash\n",
    "interrogate interrogate_example.py\n",
    "```\n",
    "Output:"
   ]
  },
  {
   "cell_type": "code",
   "execution_count": null,
   "id": "22022cda",
   "metadata": {
    "tags": [
     "hide-input"
    ]
   },
   "outputs": [],
   "source": [
    "!interrogate interrogate_example.py"
   ]
  },
  {
   "cell_type": "markdown",
   "id": "2223988d",
   "metadata": {},
   "source": [
    "You can use interrogate with pre-commit by adding the following to your .pre-commit-config.yaml file:\n",
    "```yaml\n",
    "- repo: https://github.com/pre-commit/mirrors-interrogate\n",
    "  rev: v1.4.0\n",
    "  hooks:\n",
    "  - id: interrogate\n",
    "```"
   ]
  },
  {
   "cell_type": "markdown",
   "id": "b01cc7bf",
   "metadata": {},
   "source": [
    "[Link to interrogate](https://interrogate.readthedocs.io/en/latest/)."
   ]
  },
  {
   "cell_type": "markdown",
   "id": "c5618367",
   "metadata": {},
   "source": [
    "### mypy: Static Type Checker for Python"
   ]
  },
  {
   "cell_type": "code",
   "execution_count": null,
   "id": "f961ff29",
   "metadata": {
    "tags": [
     "hide-cell"
    ]
   },
   "outputs": [],
   "source": [
    "!pip install mypy "
   ]
  },
  {
   "cell_type": "markdown",
   "id": "4482d7ae",
   "metadata": {},
   "source": [
    "Type hinting in Python is useful for other developers to understand the expected data types to be used in your functions. To automate type checking in your code, use mypy. \n",
    "\n",
    "Consider the following file that includes type hinting:"
   ]
  },
  {
   "cell_type": "code",
   "execution_count": null,
   "id": "6f362685",
   "metadata": {},
   "outputs": [],
   "source": [
    "%%writefile mypy_example.py\n",
    "from typing import List, Union\n",
    "\n",
    "def get_name_price(fruits: list) -> Union[list, tuple]:\n",
    "    return zip(*fruits)\n",
    "\n",
    "fruits = [('apple', 2), ('orange', 3), ('grape', 2)]\n",
    "names, prices = get_name_price(fruits)\n",
    "print(names)  # ('apple', 'orange', 'grape')\n",
    "print(prices)  # (2, 3, 2)"
   ]
  },
  {
   "cell_type": "markdown",
   "id": "2c3a2b85",
   "metadata": {},
   "source": [
    "When typing the following command on your terminal:\n",
    "```bash\n",
    "mypy mypy_example.py\n",
    "```\n",
    "you will get the output similar to this:"
   ]
  },
  {
   "cell_type": "code",
   "execution_count": null,
   "id": "baae7243",
   "metadata": {
    "tags": [
     "remove-input"
    ]
   },
   "outputs": [],
   "source": [
    "!mypy mypy_example.py"
   ]
  },
  {
   "cell_type": "markdown",
   "id": "8e43acd5",
   "metadata": {},
   "source": [
    "You can use mypy with pre-commit by adding the following to your .pre-commit-config.yaml file:\n",
    "\n",
    "```yaml\n",
    "repos:\n",
    "- repo: https://github.com/pre-commit/mirrors-mypy\n",
    "  rev: v0.910\n",
    "  hooks:\n",
    "  - id: mypy\n",
    "```"
   ]
  },
  {
   "cell_type": "markdown",
   "id": "66ed0cc1",
   "metadata": {},
   "source": [
    "[Link to mypy](https://mypy.readthedocs.io/en/latest/introduction.html)."
   ]
  },
  {
   "cell_type": "markdown",
   "id": "b750249b",
   "metadata": {},
   "source": [
    "### Refurb: Refurbish and Modernize Python Codebases"
   ]
  },
  {
   "cell_type": "markdown",
   "id": "c9d2e22b",
   "metadata": {},
   "source": [
    "If you want to have some guidelines to improve and optimize your code, try Refurb.\n",
    "\n",
    "For example, if you have a file like this:"
   ]
  },
  {
   "cell_type": "code",
   "execution_count": null,
   "id": "f1529599",
   "metadata": {},
   "outputs": [],
   "source": [
    "%%writefile test_refurb.py\n",
    "for n in [1, 2, 3, 4]:\n",
    "    if n == 2 or n == 4:\n",
    "        res = n/2 "
   ]
  },
  {
   "cell_type": "markdown",
   "id": "8657a3de",
   "metadata": {},
   "source": [
    "You can use Refurb to refurbish your code."
   ]
  },
  {
   "cell_type": "markdown",
   "id": "844a6d69",
   "metadata": {},
   "source": [
    "```bash\n",
    "$ refurb test_refurb.py\n",
    "```"
   ]
  },
  {
   "cell_type": "code",
   "execution_count": null,
   "id": "0b979d4e",
   "metadata": {
    "tags": [
     "remove-input"
    ]
   },
   "outputs": [],
   "source": [
    "!refurb test_refurb.py"
   ]
  },
  {
   "cell_type": "markdown",
   "id": "409abf78",
   "metadata": {},
   "source": [
    "```bash\n",
    "$ refurb test_refurb.py --explain FURB109\n",
    "```"
   ]
  },
  {
   "cell_type": "code",
   "execution_count": null,
   "id": "3a192a17",
   "metadata": {
    "tags": [
     "remove-input"
    ]
   },
   "outputs": [],
   "source": [
    "!refurb test_refurb.py --explain FURB109"
   ]
  },
  {
   "cell_type": "markdown",
   "id": "aac9dc03",
   "metadata": {},
   "source": [
    "Refurb only works with Python 3.10 and above.\n",
    "\n",
    "You can use Refurb with pre-commit by adding the following to your .pre-commit-config.yaml file:\n",
    "\n",
    "```yaml\n",
    "repos:\n",
    "  - repo: https://github.com/dosisod/refurb\n",
    "    rev: REVISION\n",
    "    hooks:\n",
    "      - id: refurb\n",
    "```"
   ]
  },
  {
   "cell_type": "markdown",
   "id": "e962321a",
   "metadata": {},
   "source": [
    "[Link to Refurb](https://github.com/dosisod/refurb)."
   ]
  },
  {
   "cell_type": "markdown",
   "id": "e7db1319",
   "metadata": {},
   "source": [
    "### eradicate: Remove Junk Comments from Python Files"
   ]
  },
  {
   "cell_type": "code",
   "execution_count": null,
   "id": "31ed886a",
   "metadata": {
    "tags": [
     "hide-cell"
    ]
   },
   "outputs": [],
   "source": [
    "!pip install eradicate"
   ]
  },
  {
   "cell_type": "markdown",
   "id": "78cd710c",
   "metadata": {},
   "source": [
    "Outdated or unused code left as comments in Python files can clutter codebases, making them harder to read and maintain. \n",
    "\n",
    "Eradicate solves this by automatically identifying and removing commented-out code from Python files.\n",
    "\n",
    "Let's see eradicate in action:\n",
    "\n",
    "Example Python file:"
   ]
  },
  {
   "cell_type": "code",
   "execution_count": null,
   "id": "00ae9133",
   "metadata": {},
   "outputs": [],
   "source": [
    "%%writefile eradicate_test.py\n",
    "# from math import *\n",
    "\n",
    "def mean(nums: list):\n",
    "    # print(nums)\n",
    "    # TODO: check if nums is empty\n",
    "    # Return mean\n",
    "    return sum(nums) / len(nums)\n",
    "\n",
    "# nums = [0, 1]\n",
    "nums = [1, 2, 3]\n",
    "mean(nums)"
   ]
  },
  {
   "cell_type": "markdown",
   "id": "f2393e28",
   "metadata": {},
   "source": [
    "Preview changes:\n",
    "\n",
    "```bash\n",
    "$ eradicate eradicate_test.py\n",
    "```"
   ]
  },
  {
   "cell_type": "code",
   "execution_count": null,
   "id": "4a36171a",
   "metadata": {
    "tags": [
     "remove-input"
    ]
   },
   "outputs": [],
   "source": [
    "!eradicate eradicate_test.py"
   ]
  },
  {
   "cell_type": "markdown",
   "id": "a23a81e3",
   "metadata": {},
   "source": [
    "Apply changes:\n",
    "\n",
    "```bash\n",
    "$ eradicate eradicate_test.py -i\n",
    "```"
   ]
  },
  {
   "cell_type": "code",
   "execution_count": null,
   "id": "5cbf26e1",
   "metadata": {
    "tags": [
     "remove-input"
    ]
   },
   "outputs": [],
   "source": [
    "!eradicate eradicate_test.py -i"
   ]
  },
  {
   "cell_type": "markdown",
   "id": "215e2b2b",
   "metadata": {
    "editable": true,
    "slideshow": {
     "slide_type": ""
    }
   },
   "source": [
    "Results:"
   ]
  },
  {
   "cell_type": "code",
   "execution_count": null,
   "id": "9c3f0e0d",
   "metadata": {
    "editable": true,
    "slideshow": {
     "slide_type": ""
    },
    "tags": [
     "remove-input"
    ]
   },
   "outputs": [],
   "source": [
    "# show file contents\n",
    "%cat eradicate_test.py"
   ]
  },
  {
   "cell_type": "markdown",
   "id": "6e564f44",
   "metadata": {},
   "source": [
    "In this example, eradicate removes:\n",
    "\n",
    "1. The commented-out import statement `# from math import *`\n",
    "2. The commented-out debug print statement `# print(nums)`\n",
    "3. The commented-out variable assignment `# nums = [0, 1]`\n",
    "\n",
    "However, it preserves the meaningful comments:\n",
    "\n",
    "1. The TODO comment `# TODO: check if nums is empty`\n",
    "2. The descriptive comment `# Return mean`\n",
    "\n",
    "This cleanup improves the code's readability by removing distracting, unused code comments while keeping important notes for developers."
   ]
  },
  {
   "cell_type": "markdown",
   "id": "02a4e10c",
   "metadata": {
    "editable": true,
    "slideshow": {
     "slide_type": ""
    }
   },
   "source": [
    "You can use eradicate with pre-commit by adding the following to your `.pre-commit-config.yaml` file:\n",
    "\n",
    "```yaml\n",
    "repos:\n",
    "- repo: https://github.com/wemake-services/eradicate/\n",
    "  rev: v2.2.0\n",
    "  hooks:\n",
    "  - id: eradicate\n",
    "```"
   ]
  },
  {
   "cell_type": "markdown",
   "id": "daaa3d2a",
   "metadata": {},
   "source": [
    "[Link to eradicate](https://github.com/wemake-services/eradicate/)."
   ]
  },
  {
   "cell_type": "markdown",
   "id": "2653ef73",
   "metadata": {},
   "source": [
    "### Pydantic: Enforce Data Types on Your Function Parameters at Runtime"
   ]
  },
  {
   "cell_type": "code",
   "execution_count": null,
   "id": "94dc98b7",
   "metadata": {
    "tags": [
     "hide-cell"
    ]
   },
   "outputs": [],
   "source": [
    "!pip install pydantic"
   ]
  },
  {
   "cell_type": "markdown",
   "id": "6eadd204",
   "metadata": {},
   "source": [
    "To enforce data types and validate function parameters at runtime, use Pydantic. \n",
    "\n",
    "Pydantic will attempt to convert values to the correct data type. If the conversion fails, it raises a ValidationError."
   ]
  },
  {
   "cell_type": "code",
   "execution_count": null,
   "id": "669c29c3",
   "metadata": {},
   "outputs": [],
   "source": [
    "from pydantic import BaseModel\n",
    "import pandas as pd\n",
    "\n",
    "class SplitConfig(BaseModel):\n",
    "    test_size: float = 0.3\n",
    "    random_state: int = 1"
   ]
  },
  {
   "cell_type": "code",
   "execution_count": null,
   "id": "ea6e3a31",
   "metadata": {},
   "outputs": [],
   "source": [
    "def split_data(data: pd.DataFrame, config: SplitConfig = SplitConfig()):\n",
    "    test_size = config.test_size\n",
    "    random_state = config.random_state\n",
    "    ...\n",
    "\n",
    "\n",
    "split_data(SplitConfig(random_state=1.0)) \n",
    "# --> 1 (int)"
   ]
  },
  {
   "cell_type": "code",
   "execution_count": null,
   "id": "3ae2e354",
   "metadata": {},
   "outputs": [],
   "source": [
    "split_data(SplitConfig(random_state=\"a\"))"
   ]
  },
  {
   "cell_type": "markdown",
   "id": "688efb77",
   "metadata": {},
   "source": [
    "[Link to Pydantic](https://docs.pydantic.dev/).\n",
    "\n",
    "[Build a full-stack ML application with Pydantic and Prefect](https://towardsdatascience.com/build-a-full-stack-ml-application-with-pydantic-and-prefect-915f00fe0c62?sk=b1f8c5cb53a6a9d7f48d66fa778e9cf0)."
   ]
  },
  {
   "cell_type": "markdown",
   "id": "8851adef",
   "metadata": {},
   "source": [
    "### perfplot: Performance Analysis for Python Snippets"
   ]
  },
  {
   "cell_type": "code",
   "execution_count": null,
   "id": "3a2c50e1",
   "metadata": {
    "tags": [
     "hide-cell"
    ]
   },
   "outputs": [],
   "source": [
    "!pip install perfplot"
   ]
  },
  {
   "cell_type": "markdown",
   "id": "2795aa5b",
   "metadata": {},
   "source": [
    "If you want to compare the performance between different snippets and plot the results, use perfplot."
   ]
  },
  {
   "cell_type": "code",
   "execution_count": null,
   "id": "3e20b95d",
   "metadata": {},
   "outputs": [],
   "source": [
    "import perfplot\n",
    "\n",
    "\n",
    "def append(n):\n",
    "    l = []\n",
    "    for i in range(n):\n",
    "        l.append(i)\n",
    "    return l\n",
    "\n",
    "\n",
    "def comprehension(n):\n",
    "    return [i for i in range(n)]\n",
    "\n",
    "\n",
    "def list_range(n):\n",
    "    return list(range(n))\n",
    "\n",
    "\n",
    "perfplot.show(\n",
    "    setup=lambda n: n,\n",
    "    kernels=[\n",
    "        append,\n",
    "        comprehension,\n",
    "        list_range,\n",
    "    ],\n",
    "    n_range=[2**k for k in range(25)],\n",
    ")"
   ]
  },
  {
   "cell_type": "markdown",
   "id": "1f6f621a",
   "metadata": {},
   "source": [
    "[Link to perfplot](https://github.com/nschloe/perfplot)."
   ]
  },
  {
   "cell_type": "markdown",
   "id": "d474827c",
   "metadata": {},
   "source": [
    "### Analyze the Memory Usage of Your Python Code"
   ]
  },
  {
   "cell_type": "code",
   "execution_count": null,
   "id": "544f4946",
   "metadata": {
    "tags": [
     "hide-cell"
    ]
   },
   "outputs": [],
   "source": [
    "!pip install memory_profiler"
   ]
  },
  {
   "cell_type": "markdown",
   "id": "b77f02ca",
   "metadata": {},
   "source": [
    "If you want to analyze the memory consumption of your Python code line-by-line, use memory_profiler. This package allows you to generate a full memory usage report of your executable and plot it."
   ]
  },
  {
   "cell_type": "code",
   "execution_count": null,
   "id": "03ebede7",
   "metadata": {},
   "outputs": [],
   "source": [
    "%%writefile memory_profiler_test.py \n",
    "from memory_profiler import profile\n",
    "\n",
    "\n",
    "@profile\n",
    "def func():\n",
    "    a = [1] * (10 ** 6)\n",
    "    b = [2] * (2 * 10 ** 7)\n",
    "    del b\n",
    "    return a\n",
    "\n",
    "\n",
    "if __name__ == \"__main__\":\n",
    "    func()"
   ]
  },
  {
   "cell_type": "markdown",
   "id": "cb671a5f",
   "metadata": {},
   "source": [
    "```bash\n",
    "$ mprof run memory_profiler_test.py\n",
    "```"
   ]
  },
  {
   "cell_type": "code",
   "execution_count": null,
   "id": "0ba572d1",
   "metadata": {
    "tags": [
     "remove-input"
    ]
   },
   "outputs": [],
   "source": [
    "!mprof run memory_profiler_test.py"
   ]
  },
  {
   "cell_type": "markdown",
   "id": "9ff8328f",
   "metadata": {},
   "source": [
    "Plot the memory usage:\n",
    "```bash\n",
    "$ mprof plot\n",
    "```\n",
    "![](../img/memory_profiler.png)"
   ]
  },
  {
   "cell_type": "markdown",
   "id": "81c778d5",
   "metadata": {},
   "source": [
    "[Link to memory_profiler](https://github.com/pythonprofilers/memory_profiler)."
   ]
  },
  {
   "cell_type": "markdown",
   "id": "119c01f3",
   "metadata": {},
   "source": [
    "### Vulture: Automatically Find Dead Python Code"
   ]
  },
  {
   "cell_type": "code",
   "execution_count": null,
   "id": "6a613b07",
   "metadata": {
    "tags": [
     "hide-cell"
    ]
   },
   "outputs": [],
   "source": [
    "!pip install vulture"
   ]
  },
  {
   "cell_type": "markdown",
   "id": "02292938",
   "metadata": {},
   "source": [
    "Unused code poses multiple issues, including:\n",
    "\n",
    "- Increased difficulty in comprehending the code.\n",
    "- Challenges in debugging and testing.\n",
    "- Unnecessary consumption of memory and resources.\n",
    "\n",
    "To automatically remove unused Python code, use Vulture."
   ]
  },
  {
   "cell_type": "code",
   "execution_count": null,
   "id": "184d1d39",
   "metadata": {},
   "outputs": [],
   "source": [
    "%%writefile dead_code.py\n",
    "# Unused Imports\n",
    "import pandas as pd\n",
    "import numpy as np\n",
    "\n",
    "class DataProcessor:\n",
    "    def __init__(self, data):\n",
    "        self.data = data\n",
    "\n",
    "    def clean_data(self):\n",
    "        # Unused Variables\n",
    "        how = 'all'\n",
    "        inplace = True \n",
    "\n",
    "        # Data cleaning logic here\n",
    "        self.data = self.data.dropna(how='any', inplace=False)\n",
    "\n",
    "    def get_mean(self):\n",
    "        # This method is defined but not used in the class\n",
    "        return self.data.mean()\n",
    "\n",
    "if __name__ == \"__main__\":\n",
    "    data = pd.DataFrame({'A': [1, 2, None, 4]})\n",
    "    \n",
    "    processor = DataProcessor(data)\n",
    "    processor.clean_data()"
   ]
  },
  {
   "cell_type": "markdown",
   "id": "67148795",
   "metadata": {},
   "source": [
    "```bash\n",
    "$ vulture dead_code.py\n",
    "```"
   ]
  },
  {
   "cell_type": "code",
   "execution_count": null,
   "id": "a7bd093e",
   "metadata": {
    "tags": [
     "remove-input"
    ]
   },
   "outputs": [],
   "source": [
    "!vulture dead_code.py"
   ]
  },
  {
   "cell_type": "markdown",
   "id": "a4e9f370",
   "metadata": {},
   "source": [
    "You can use Vulture with pre-commit by adding the following to your .pre-commit-config.yaml file:"
   ]
  },
  {
   "cell_type": "markdown",
   "id": "8dd688bc",
   "metadata": {},
   "source": [
    "```yaml\n",
    "repos:\n",
    "  - repo: https://github.com/jendrikseipp/vulture\n",
    "    rev: 'v2.3'  # or any later Vulture version\n",
    "    hooks:\n",
    "      - id: vulture\n",
    "```"
   ]
  },
  {
   "cell_type": "markdown",
   "id": "b9850b35",
   "metadata": {},
   "source": [
    "[Link to Vulture](https://github.com/jendrikseipp/vulture)."
   ]
  },
  {
   "cell_type": "markdown",
   "id": "a2d46abb",
   "metadata": {
    "editable": true,
    "slideshow": {
     "slide_type": ""
    }
   },
   "source": [
    "### Beartype: Fast, Efficient Runtime Type Checking for Python"
   ]
  },
  {
   "cell_type": "code",
   "execution_count": null,
   "id": "98c086b1",
   "metadata": {
    "editable": true,
    "slideshow": {
     "slide_type": ""
    },
    "tags": [
     "hide-cell"
    ]
   },
   "outputs": [],
   "source": [
    "!pip install beartype"
   ]
  },
  {
   "cell_type": "markdown",
   "id": "09cdc970",
   "metadata": {},
   "source": [
    "Static type checkers like mypy perform type checking only during development/compile time. This means that type errors may not be caught until runtime, potentially causing issues."
   ]
  },
  {
   "cell_type": "markdown",
   "id": "6f2ab1d6",
   "metadata": {},
   "source": [
    "Let's consider the following example:"
   ]
  },
  {
   "cell_type": "code",
   "execution_count": null,
   "id": "1f9913d9",
   "metadata": {
    "editable": true,
    "slideshow": {
     "slide_type": ""
    }
   },
   "outputs": [],
   "source": [
    "%%writefile typehint.py\n",
    "def calculate_statistics(data: list[float]) -> dict[str, float]:\n",
    "    return {\n",
    "        \"mean\": sum(data) / len(data),\n",
    "        \"first\": data[0]\n",
    "    }\n",
    "\n",
    "numbers = [1, \"a\", 3]  # mypy error, but code will run\n",
    "result = calculate_statistics(numbers)  # Fails at runtime during sum()"
   ]
  },
  {
   "cell_type": "markdown",
   "id": "f8fa278b",
   "metadata": {},
   "source": [
    "Running mypy on this code will raise an error, but the code will still run."
   ]
  },
  {
   "cell_type": "code",
   "execution_count": null,
   "id": "5ee7fcf3",
   "metadata": {
    "editable": true,
    "slideshow": {
     "slide_type": ""
    }
   },
   "outputs": [],
   "source": [
    "!mypy typehint.py # mypy error, but code will run"
   ]
  },
  {
   "cell_type": "markdown",
   "id": "778be123",
   "metadata": {},
   "source": [
    "However, running the code will raise a TypeError at runtime."
   ]
  },
  {
   "cell_type": "code",
   "execution_count": null,
   "id": "71a49cac",
   "metadata": {
    "editable": true,
    "slideshow": {
     "slide_type": ""
    }
   },
   "outputs": [],
   "source": [
    "!python typehint.py # Fails at runtime during sum()"
   ]
  },
  {
   "cell_type": "markdown",
   "id": "cf4478d1",
   "metadata": {},
   "source": [
    "Beartype is a runtime type checker that enhances type safety by performing type verification at runtime. This catches issues that static analysis might overlook."
   ]
  },
  {
   "cell_type": "code",
   "execution_count": null,
   "id": "5c46f456",
   "metadata": {
    "editable": true,
    "slideshow": {
     "slide_type": ""
    }
   },
   "outputs": [],
   "source": [
    "from beartype import beartype\n",
    "\n",
    "@beartype\n",
    "def calculate_statistics(data: list[float]) -> dict[str, float]:\n",
    "    return {\n",
    "        \"mean\": sum(data) / len(data),\n",
    "        \"first\": data[0]\n",
    "    }\n",
    "\n",
    "# Fast runtime checking with clear errors\n",
    "numbers = [1, \"a\", 3]\n",
    "result = calculate_statistics(numbers)"
   ]
  },
  {
   "cell_type": "markdown",
   "id": "12c08b98",
   "metadata": {
    "editable": true,
    "slideshow": {
     "slide_type": ""
    }
   },
   "source": [
    "Pydantic is another popular library for runtime type checking. However, it adds overhead during model creation and validation."
   ]
  },
  {
   "cell_type": "code",
   "execution_count": null,
   "id": "17ae53c4",
   "metadata": {},
   "outputs": [],
   "source": [
    "from pydantic import BaseModel\n",
    "from typing import List\n",
    "\n",
    "class StatisticsInput(BaseModel):\n",
    "    data: List[float]\n",
    "\n",
    "class StatisticsOutput(BaseModel):\n",
    "    mean: float\n",
    "    first: float\n",
    "\n",
    "def calculate_statistics(input_data: StatisticsInput) -> StatisticsOutput:\n",
    "    return StatisticsOutput(\n",
    "        mean=sum(input_data.data) / len(input_data.data),\n",
    "        first=input_data.data[0]\n",
    "    )\n",
    "\n",
    "# Validates during model creation, but adds overhead\n",
    "numbers = [1, \"a\", 3]\n",
    "input_model = StatisticsInput(data=numbers)"
   ]
  },
  {
   "cell_type": "markdown",
   "id": "498c4e68",
   "metadata": {
    "editable": true,
    "slideshow": {
     "slide_type": ""
    }
   },
   "source": [
    "Beartype offers efficient runtime type checking with constant time complexity. Its dynamic wrappers around functions and methods enable flexible and efficient type-checking, making it a great choice for ensuring type safety in your code."
   ]
  },
  {
   "cell_type": "markdown",
   "id": "6b9631fc",
   "metadata": {
    "editable": true,
    "slideshow": {
     "slide_type": ""
    }
   },
   "source": [
    "[Link to Beartype](https://github.com/beartype/beartype)."
   ]
  }
 ],
 "metadata": {
  "jupytext": {
   "text_representation": {
    "extension": ".md",
    "format_name": "myst",
    "format_version": 0.13,
    "jupytext_version": "1.16.7"
   }
  },
  "kernelspec": {
   "display_name": "Python 3 (ipykernel)",
   "language": "python",
   "name": "python3"
  },
  "source_map": [
   12,
   16,
   20,
   24,
   32,
   57,
   68,
   72,
   76,
   80,
   86,
   98,
   106,
   110,
   120,
   124,
   128,
   132,
   138,
   149,
   157,
   161,
   173,
   177,
   181,
   187,
   192,
   196,
   202,
   206,
   212,
   216,
   230,
   234,
   238,
   242,
   252,
   265,
   273,
   277,
   285,
   291,
   295,
   304,
   319,
   331,
   335,
   339,
   343,
   349,
   358,
   369,
   371,
   377,
   381,
   385,
   389,
   417,
   421,
   425,
   429,
   433,
   448,
   454,
   458,
   466,
   470,
   474,
   478,
   488,
   515,
   521,
   525,
   529,
   539,
   543,
   547,
   555,
   559,
   563,
   578,
   582,
   589,
   594,
   601,
   605,
   625,
   629,
   651,
   655
  ]
 },
 "nbformat": 4,
 "nbformat_minor": 5
}