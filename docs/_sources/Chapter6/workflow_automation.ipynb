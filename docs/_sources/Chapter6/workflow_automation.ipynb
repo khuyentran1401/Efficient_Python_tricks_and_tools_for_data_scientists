{
 "cells": [
  {
   "cell_type": "markdown",
   "id": "575a0170",
   "metadata": {},
   "source": [
    "## Workflow Automation"
   ]
  },
  {
   "cell_type": "markdown",
   "id": "d4a3c1ac",
   "metadata": {},
   "source": [
    "This section covers some tools to automate the workflow of your Python project such as scheduling a time to run your code, sending notifications when your program finishes, etc."
   ]
  },
  {
   "cell_type": "markdown",
   "id": "fd825fe0",
   "metadata": {},
   "source": [
    "### Schedule: Schedule your Python Functions to Run At a Specific Time"
   ]
  },
  {
   "cell_type": "markdown",
   "id": "fe454dcc",
   "metadata": {},
   "source": [
    "If you want to schedule Python functions to run periodically at a certain day or time of the week, use schedule.\n",
    "\n",
    "In the code snippet below, I use schedule to get incoming data at 10:30 every day and train the model at 8:00 every Wednesday.\n",
    "\n",
    "```python\n",
    "import schedule \n",
    "import time \n",
    "\n",
    "def get_incoming_data():\n",
    "    print(\"Get incoming data\")\n",
    "\n",
    "def train_model():\n",
    "    print(\"Retraining model\")\n",
    "\n",
    "schedule.every().day.at(\"10:30\").do(get_incoming_data)\n",
    "schedule.every().wednesday.at(\"08:00\").do(train_model)\n",
    "\n",
    "while True:\n",
    "    schedule.run_pending()\n",
    "    time.sleep(1)\n",
    "```"
   ]
  },
  {
   "cell_type": "markdown",
   "id": "15702407",
   "metadata": {},
   "source": [
    "[Link to schedule](https://github.com/dbader/schedule)"
   ]
  },
  {
   "cell_type": "markdown",
   "id": "9a29d82f",
   "metadata": {},
   "source": [
    "### Rocketry: Modern Scheduling Library for Python"
   ]
  },
  {
   "cell_type": "markdown",
   "id": "30f1a23e",
   "metadata": {},
   "source": [
    "If you want to schedule Python functions using expressive and customized scheduling statements, use Rocketry. \n",
    "\n",
    "Unlike other tools, Rocketry doesn't make any assumptions about your project structure, making it perfect for fast and efficient automation projects."
   ]
  },
  {
   "cell_type": "markdown",
   "id": "545e099d",
   "metadata": {},
   "source": [
    "```python\n",
    "from rocketry.conds import daily, time_of_week\n",
    "from pathlib import Path\n",
    "\n",
    "@app.cond()\n",
    "def file_exists(file):\n",
    "    return Path(file).exists()\n",
    "\n",
    "@app.task(daily.after(\"08:00\") & file_exists(\"myfile.csv\"))\n",
    "def do_work():\n",
    "    ...\n",
    "\n",
    "@app.task(hourly & time_of_day.between(\"22:00\", \"06:00\"))\n",
    "def do_hourly_at_night():\n",
    "    ...\n",
    "\n",
    "@app.task((weekly.on(\"Mon\") | weekly.on(\"Sat\")))\n",
    "def do_twice_a_week():\n",
    "    ...\n",
    "```"
   ]
  },
  {
   "cell_type": "markdown",
   "id": "94053341",
   "metadata": {},
   "source": [
    "[Link to Rocketry](https://github.com/Miksus/rocketry)."
   ]
  },
  {
   "cell_type": "markdown",
   "id": "6f68901e",
   "metadata": {},
   "source": [
    "### notify-send: Send a Desktop Notification after Finishing Executing a File"
   ]
  },
  {
   "cell_type": "markdown",
   "id": "4edc6a75",
   "metadata": {},
   "source": [
    "If you want to receive a desktop notification after finishing executing a file in Linux, use notify-send.\n",
    "\n",
    "In the code below, after finishing executing `file_to_run.py`, you will receive a notification on the top of your screen to inform you that the process is terminated.\n",
    "\n",
    "```bash\n",
    "python file_to_run.py ; notify-send \"Process terminated\"\n",
    "```"
   ]
  },
  {
   "cell_type": "markdown",
   "id": "e450291f",
   "metadata": {},
   "source": [
    "### Create Sound Notifications in Python in One Line of Code"
   ]
  },
  {
   "cell_type": "code",
   "execution_count": null,
   "id": "8afd6440",
   "metadata": {
    "tags": [
     "hide-cell"
    ]
   },
   "outputs": [],
   "source": [
    "!pip install chime"
   ]
  },
  {
   "cell_type": "markdown",
   "id": "e2b19cc8",
   "metadata": {},
   "source": [
    "To have your computer make a sound  when your Python code reaches a certain state, use chime."
   ]
  },
  {
   "cell_type": "markdown",
   "id": "de638da7",
   "metadata": {},
   "source": [
    "Try to run the following code and listen to the sound."
   ]
  },
  {
   "cell_type": "code",
   "execution_count": null,
   "id": "0f27f7a7",
   "metadata": {},
   "outputs": [],
   "source": [
    "import chime"
   ]
  },
  {
   "cell_type": "code",
   "execution_count": null,
   "id": "895181bb",
   "metadata": {},
   "outputs": [],
   "source": [
    "chime.success() "
   ]
  },
  {
   "cell_type": "code",
   "execution_count": null,
   "id": "dbfeee31",
   "metadata": {},
   "outputs": [],
   "source": [
    "chime.warning()"
   ]
  },
  {
   "cell_type": "code",
   "execution_count": null,
   "id": "4f930d59",
   "metadata": {},
   "outputs": [],
   "source": [
    "chime.error()"
   ]
  },
  {
   "cell_type": "code",
   "execution_count": null,
   "id": "ab4068c8",
   "metadata": {},
   "outputs": [],
   "source": [
    "chime.info()"
   ]
  },
  {
   "cell_type": "markdown",
   "id": "9a96965f",
   "metadata": {},
   "source": [
    "One application of using chime is to make a sound when there is an error in your code."
   ]
  },
  {
   "cell_type": "code",
   "execution_count": null,
   "id": "a80f2d9b",
   "metadata": {},
   "outputs": [],
   "source": [
    "a = 0\n",
    "try:\n",
    "    b = 2/a  \n",
    "except ZeroDivisionError:\n",
    "    print(\"You can't divide a number by 0!\")\n",
    "    chime.error()"
   ]
  },
  {
   "cell_type": "markdown",
   "id": "7d48fe14",
   "metadata": {},
   "source": [
    "[Link to chime](https://github.com/MaxHalford/chime)."
   ]
  },
  {
   "cell_type": "markdown",
   "id": "88446aa2",
   "metadata": {},
   "source": [
    "### knockknock: Receive an Email When Your Code Finishes Executing"
   ]
  },
  {
   "cell_type": "markdown",
   "id": "89ae20ad",
   "metadata": {},
   "source": [
    "It can take hours or days to train a model and you can be away from the computer when your model finishes training. Wouldn’t it be nice to receive an email when your code finishes executing? There is an app for that knock-knock.\n",
    "\n",
    "All it takes is one line of code specifying your email address."
   ]
  },
  {
   "cell_type": "markdown",
   "id": "eac06372",
   "metadata": {},
   "source": [
    "```python\n",
    "from knockknock import email_sender \n",
    "\n",
    "@email_sender(recipient_emails=['<your_email@address.com>', '<your_second_email@adress.com>'],\n",
    "sender_email=\"<grandma's_email@gmail.com>\")\n",
    "def train_your_nicest_model(your_nicest_parameters):\n",
    "    import time \n",
    "    time.sleep(10_000)\n",
    "    return {'loss': 0.9}\n",
    "```"
   ]
  },
  {
   "cell_type": "markdown",
   "id": "6c69dd59",
   "metadata": {},
   "source": [
    "You can even have it send to your slack channel so everybody in your team can see. See the docs of this library [here](https://github.com/huggingface/knockknock)."
   ]
  },
  {
   "cell_type": "markdown",
   "id": "fcaae238",
   "metadata": {},
   "source": [
    "### Makefile: Organize Your Command Line"
   ]
  },
  {
   "cell_type": "markdown",
   "id": "0e753a15",
   "metadata": {},
   "source": [
    "Do you use often use a sequence of commands to do a repetitive task? Wouldn't it be nice if you can call a sequence of commands using only one short command? That is when Makefile comes in handy.\n",
    "\n",
    "In the code below, I use Makefile to automate the workflow to set up an environment."
   ]
  },
  {
   "cell_type": "markdown",
   "id": "73113d22",
   "metadata": {},
   "source": [
    "```yaml\n",
    "# Makefile\n",
    "\n",
    "activate:\n",
    "  @echo \"Activating virtual env\"\n",
    "  poetry shell\n",
    "  \n",
    "install: \n",
    "  @echo \"Installing...\"\n",
    "  poetry install\n",
    "\n",
    "pull_data:\n",
    "  @echo \"Pulling data...\"\n",
    "  dvc pull\n",
    "```"
   ]
  },
  {
   "cell_type": "markdown",
   "id": "6ebab212",
   "metadata": {},
   "source": [
    "If you run: \n",
    "```bash\n",
    "$ make activate\n",
    "```\n",
    "you should see something like below:\n",
    "```bash\n",
    "Activating virtual env\n",
    "poetry shell\n",
    "```"
   ]
  },
  {
   "cell_type": "markdown",
   "id": "8e64d04d",
   "metadata": {},
   "source": [
    "You can run `activate`, `install`, and `pull_data` at the same time by putting all of those commands under `install_all`:\n",
    "```yaml\n",
    "# Makefile\n",
    "\n",
    "activate:\n",
    "  @echo \"Activating virtual env\"\n",
    "  poetry shell\n",
    "  \n",
    "install: \n",
    "  @echo \"Installing...\"\n",
    "  poetry install\n",
    "\n",
    "pull_data:\n",
    "  @echo \"Pulling data...\"\n",
    "  dvc pull\n",
    "\n",
    "install_all: \n",
    "  install activate pull_data\n",
    "```\n",
    "Now you can run the entire setup workflow by running only one command:\n",
    "\n",
    "```bash\n",
    "$ make install_all\n",
    "```\n",
    "Output:\n",
    "```bash\n",
    "Installing...\n",
    "poetry shell\n",
    "Activating environment\n",
    "poetry install\n",
    "Pulling data...\n",
    "dvc pull\n",
    "```"
   ]
  },
  {
   "cell_type": "markdown",
   "id": "1b82fdc4",
   "metadata": {},
   "source": [
    "I used Makefile to simplify the setup of my [customer_segmentation project](https://github.com/khuyentran1401/customer_segmentation).\n",
    "\n",
    "You can learn more about Makefile [here](https://opensource.com/article/18/8/what-how-makefile)."
   ]
  },
  {
   "cell_type": "markdown",
   "id": "648e358a",
   "metadata": {},
   "source": [
    "### notedown: Create IPython Notebooks from Markdown and Vice Versa"
   ]
  },
  {
   "cell_type": "code",
   "execution_count": null,
   "id": "93066037",
   "metadata": {
    "tags": [
     "hide-cell"
    ]
   },
   "outputs": [],
   "source": [
    "!pip install notedown"
   ]
  },
  {
   "cell_type": "markdown",
   "id": "4f0bacb9",
   "metadata": {},
   "source": [
    "Sometimes you might want to convert your markdown file to a Jupyter Notebook for execution. If so, try notedown. notedown allows you to convert your markdown file to a Jupyter Notebook and vice versa."
   ]
  },
  {
   "cell_type": "markdown",
   "id": "bf485074",
   "metadata": {},
   "source": [
    "To convert markdown file to a Jupyter Notebook with notedown, type:"
   ]
  },
  {
   "cell_type": "markdown",
   "id": "13e9e2d9",
   "metadata": {},
   "source": [
    "```bash\n",
    "$ notedown input.md >> output.ipynb \n",
    "```"
   ]
  },
  {
   "cell_type": "markdown",
   "id": "c7eb5c70",
   "metadata": {},
   "source": [
    "To convert a Jupyter Notebook to a markdown file, type:"
   ]
  },
  {
   "cell_type": "markdown",
   "id": "f5419806",
   "metadata": {},
   "source": [
    "```bash\n",
    "$ notedown input.ipynb --to markdown >> output.md \n",
    "```"
   ]
  },
  {
   "cell_type": "markdown",
   "id": "ae0b7200",
   "metadata": {},
   "source": [
    "[Link to notedown](https://github.com/aaren/notedown)."
   ]
  },
  {
   "cell_type": "markdown",
   "id": "cdfaceb9",
   "metadata": {},
   "source": [
    "### Open a Website Using Python"
   ]
  },
  {
   "cell_type": "markdown",
   "id": "3a4c9064",
   "metadata": {},
   "source": [
    "If you want to open a website using Python, use webbrowser.\n",
    "\n",
    "For example, running the code below will open my website in your browser."
   ]
  },
  {
   "cell_type": "code",
   "execution_count": null,
   "id": "c0611d61",
   "metadata": {},
   "outputs": [],
   "source": [
    "import webbrowser\n",
    "\n",
    "webbrowser.open_new(\"https://mathdatasimplified.com/\")"
   ]
  },
  {
   "cell_type": "markdown",
   "id": "a82a9d08",
   "metadata": {},
   "source": [
    "[Link to webbrowser](https://docs.python.org/3/library/webbrowser.html)."
   ]
  },
  {
   "cell_type": "markdown",
   "id": "2cdca077",
   "metadata": {},
   "source": [
    "### removestar: Automate Replacing Start Imports with Explicit Imports"
   ]
  },
  {
   "cell_type": "code",
   "execution_count": null,
   "id": "4cae55f1",
   "metadata": {
    "tags": [
     "hide-cell"
    ]
   },
   "outputs": [],
   "source": [
    "!pip install removestar"
   ]
  },
  {
   "cell_type": "markdown",
   "id": "a698ac3a",
   "metadata": {},
   "source": [
    "It is a bad practice to use `import *` in Python because it is harder to track down the origin of variables and debug your code. However, writing numerous imports explicitly from a single module can be tedious.\n",
    "\n",
    "removestar allows you to automate replacing star imports with explicit imports."
   ]
  },
  {
   "cell_type": "code",
   "execution_count": null,
   "id": "c4d1dbb1",
   "metadata": {},
   "outputs": [],
   "source": [
    "%%writefile star_script.py  \n",
    "\n",
    "from math import *\n",
    "\n",
    "def square_root(num):\n",
    "    return sqrt(num)\n",
    "\n",
    "def deg_to_rad(degrees):\n",
    "    return radians(degrees)"
   ]
  },
  {
   "cell_type": "markdown",
   "id": "760c0cdb",
   "metadata": {},
   "source": [
    "```bash\n",
    "# Shows diff but does not edit star_script.py\n",
    "$ removestar star_script.py \n",
    "```"
   ]
  },
  {
   "cell_type": "code",
   "execution_count": null,
   "id": "940b4866",
   "metadata": {
    "tags": [
     "remove-input"
    ]
   },
   "outputs": [],
   "source": [
    "!removestar star_script.py "
   ]
  },
  {
   "cell_type": "markdown",
   "id": "c56a67b1",
   "metadata": {},
   "source": [
    "```bash\n",
    "# Edits star_script.py in-place\n",
    "$ removestar star_script.py -i\n",
    "```"
   ]
  },
  {
   "cell_type": "code",
   "execution_count": null,
   "id": "29aac490",
   "metadata": {
    "tags": [
     "remove-cell"
    ]
   },
   "outputs": [],
   "source": [
    "!removestar star_script.py -i"
   ]
  },
  {
   "cell_type": "code",
   "execution_count": null,
   "id": "56cf9c22",
   "metadata": {},
   "outputs": [],
   "source": [
    "# %load star_script.py\n",
    "\n",
    "from math import radians, sqrt\n",
    "\n",
    "def square_root(num):\n",
    "    return sqrt(num)\n",
    "\n",
    "def deg_to_rad(degrees):\n",
    "    return radians(degrees)"
   ]
  },
  {
   "cell_type": "markdown",
   "id": "7050c6f9",
   "metadata": {},
   "source": [
    "[Link to removestar](https://github.com/asmeurer/removestar)."
   ]
  },
  {
   "cell_type": "markdown",
   "id": "677ef560",
   "metadata": {},
   "source": [
    "### MonkeyType: Automatically Generate Static Type Annotations Based on Runtime Types"
   ]
  },
  {
   "cell_type": "code",
   "execution_count": null,
   "id": "70409c1d",
   "metadata": {},
   "outputs": [],
   "source": [
    "!pip install MonkeyType"
   ]
  },
  {
   "cell_type": "markdown",
   "id": "3fcfe6ab",
   "metadata": {},
   "source": [
    "Writing type annotations manually for existing Python code is time-consuming, which results in developers often skipping this important step. This reduces code readability and makes it harder to catch type-related bugs through static analysis."
   ]
  },
  {
   "cell_type": "markdown",
   "id": "61f86ac2",
   "metadata": {},
   "source": [
    "MonkeyType simplifies adding type annotations by automatically generating draft annotations based on the types collected at runtime, saving time and effort compared to manual annotation."
   ]
  },
  {
   "cell_type": "markdown",
   "id": "3ace50cc",
   "metadata": {},
   "source": [
    "Let's say we have two files inside the folder monkey_example. The `utils.py` file contains the `get_mean` function and the `main.py` file calls the `get_mean` function."
   ]
  },
  {
   "cell_type": "code",
   "execution_count": null,
   "id": "bcd9c50e",
   "metadata": {},
   "outputs": [],
   "source": [
    "%mkdir monkey_example\n",
    "%cd monkey_example"
   ]
  },
  {
   "cell_type": "code",
   "execution_count": null,
   "id": "81a0d7b9",
   "metadata": {},
   "outputs": [],
   "source": [
    "%%writefile utils.py \n",
    "def get_mean(num1, num2):\n",
    "    return (num1+num2)/2  "
   ]
  },
  {
   "cell_type": "code",
   "execution_count": null,
   "id": "8ba4efc9",
   "metadata": {},
   "outputs": [],
   "source": [
    "%%writefile main.py \n",
    "from utils import get_mean  \n",
    "\n",
    "get_mean(1, 3)"
   ]
  },
  {
   "cell_type": "markdown",
   "id": "808d2124",
   "metadata": {},
   "source": [
    "We can infer the type annotation of `get_mean` in `utils.py` by running `main.py` with MonkeyType.\n",
    "\n",
    "```bash\n",
    "$ monkeytype run main.py \n",
    "```"
   ]
  },
  {
   "cell_type": "code",
   "execution_count": null,
   "id": "7580a84b",
   "metadata": {
    "tags": [
     "remove-input"
    ]
   },
   "outputs": [],
   "source": [
    "!monkeytype run main.py"
   ]
  },
  {
   "cell_type": "code",
   "execution_count": null,
   "id": "04479228",
   "metadata": {},
   "outputs": [],
   "source": [
    "!monkeytype stub utils"
   ]
  },
  {
   "cell_type": "markdown",
   "id": "4c9c2480",
   "metadata": {},
   "source": [
    "Then generate a stub file for a module:\n",
    "\n",
    "```bash\n",
    "$ monkeytype stub utils\n",
    "```"
   ]
  },
  {
   "cell_type": "code",
   "execution_count": null,
   "id": "7637a5c5",
   "metadata": {
    "tags": [
     "remove-input"
    ]
   },
   "outputs": [],
   "source": [
    "!monkeytype stub utils  "
   ]
  },
  {
   "cell_type": "markdown",
   "id": "99ad7ce5",
   "metadata": {},
   "source": [
    "or apply the type annotations directly to the code. \n",
    "\n",
    "```bash\n",
    "$ monkeytype apply utils \n",
    "```"
   ]
  },
  {
   "cell_type": "code",
   "execution_count": null,
   "id": "fefe1493",
   "metadata": {
    "tags": [
     "remove-input"
    ]
   },
   "outputs": [],
   "source": [
    "!monkeytype apply utils "
   ]
  },
  {
   "cell_type": "markdown",
   "id": "8c0256fc",
   "metadata": {},
   "source": [
    "While MonkeyType makes it very easy to add annotations, those annotations may not always match the full intended capability of the functions. For example, `get_mean` is capable of handling many more types than just integers. MonkeyType's annotations are an informative first draft that are meant to be checked and corrected by a developer."
   ]
  },
  {
   "cell_type": "markdown",
   "id": "685d04b4",
   "metadata": {},
   "source": [
    "[Link to MonkeyType](https://github.com/Instagram/MonkeyType)."
   ]
  },
  {
   "cell_type": "markdown",
   "id": "dd26f473",
   "metadata": {},
   "source": [
    "### whereami: Use Machine Learning to Predict Where You Are"
   ]
  },
  {
   "cell_type": "markdown",
   "id": "45a86bc9",
   "metadata": {},
   "source": [
    "If you want to predict where you are with machine learning and WiFi signals, use whereami. One application of whereami is to turn on Hue light bulbs in specific locations through your laptop. \n",
    "\n",
    "To predict your current location, start by collecting some samples by running `whereami learn -l location` in different locations. Once collecting at least 10 data points, run `whereami predict` to predict your current location."
   ]
  },
  {
   "cell_type": "markdown",
   "id": "68f4788b",
   "metadata": {},
   "source": [
    "```bash\n",
    "# Take a sample in the kitchen\n",
    "$ whereami learn -l kitchen\n",
    "\n",
    "# Take a sample in the bedroom\n",
    "$ whereami learn -l bedroom\n",
    "\n",
    "# Get learned locations\n",
    "$ whereami locations\n",
    "bedroom: 2\n",
    "office: 2\n",
    "kitchen: 3\n",
    "bathroom: 1\n",
    "livingroom: 2\n",
    "\n",
    "# Run prediction in the kitchen\n",
    "$ whereami predict\n",
    "kitchen\n",
    "```"
   ]
  },
  {
   "cell_type": "markdown",
   "id": "45cae914",
   "metadata": {},
   "source": [
    "[Link to whereami](https://github.com/kootenpv/whereami)."
   ]
  },
  {
   "cell_type": "markdown",
   "id": "781403ad",
   "metadata": {},
   "source": [
    "### watchfiles: Rerun Code When a File Changes"
   ]
  },
  {
   "cell_type": "markdown",
   "id": "5d7b7c6f",
   "metadata": {},
   "source": [
    "If you want to automatically rerun a process when a file changes, use watchfiles.\n",
    "\n",
    "In the code below, the function `train` will run when the file `process_data.py` changes."
   ]
  },
  {
   "cell_type": "markdown",
   "id": "4826816b",
   "metadata": {},
   "source": [
    "```python\n",
    "from watchfiles import run_process\n",
    "\n",
    "def train():\n",
    "    print(\"Detect changes in process_data.py. \" \n",
    "          \"Train the model again\")\n",
    "\n",
    "if __name__ == \"__main__\":\n",
    "    run_process(\"process_data.py\", target=train)\n",
    "```"
   ]
  },
  {
   "cell_type": "markdown",
   "id": "5ed7d9ed",
   "metadata": {},
   "source": [
    "[Link to watchfiles](https://github.com/samuelcolvin/watchfiles)."
   ]
  },
  {
   "cell_type": "markdown",
   "id": "ab4c761e",
   "metadata": {},
   "source": [
    "### PyTube: A Lightweight Python Library for Downloading YouTube Videos"
   ]
  },
  {
   "cell_type": "code",
   "execution_count": null,
   "id": "1aa28c9b",
   "metadata": {
    "tags": [
     "hide-cell"
    ]
   },
   "outputs": [],
   "source": [
    "!pip install pytube"
   ]
  },
  {
   "cell_type": "markdown",
   "id": "4345c064",
   "metadata": {},
   "source": [
    "pytube is a lightweight Python library that enables you to download YouTube videos and playlists in specific formats and resolutions."
   ]
  },
  {
   "cell_type": "code",
   "execution_count": null,
   "id": "cdd4acb9",
   "metadata": {},
   "outputs": [],
   "source": [
    "# Get the video\n",
    "from pytube import YouTube\n",
    "\n",
    "yt = YouTube(\"https://youtu.be/UKCTvrJSoL0\")"
   ]
  },
  {
   "cell_type": "code",
   "execution_count": null,
   "id": "1611d451",
   "metadata": {},
   "outputs": [],
   "source": [
    "yt.title"
   ]
  },
  {
   "cell_type": "code",
   "execution_count": null,
   "id": "b8b0934d",
   "metadata": {},
   "outputs": [],
   "source": [
    "yt.thumbnail_url"
   ]
  },
  {
   "cell_type": "code",
   "execution_count": null,
   "id": "80efdc81",
   "metadata": {},
   "outputs": [],
   "source": [
    "# list all streams\n",
    "yt.streams"
   ]
  },
  {
   "cell_type": "code",
   "execution_count": null,
   "id": "95c97a2b",
   "metadata": {},
   "outputs": [],
   "source": [
    "# Filter by MIME type and resolution\n",
    "yt.streams.filter(mime_type=\"video/mp4\", res='720p').first().download()"
   ]
  },
  {
   "cell_type": "code",
   "execution_count": null,
   "id": "2bcb1598",
   "metadata": {},
   "outputs": [],
   "source": [
    "# Get a playlist\n",
    "from pytube import Playlist\n",
    "\n",
    "p = Playlist('https://youtube.com/playlist?list=PLnK6m_JBRVNoPnqnVrWaYtZ2G4nFTnGze&si=BK4o05iHmgqsyNK2')"
   ]
  },
  {
   "cell_type": "code",
   "execution_count": null,
   "id": "2d37a1c5",
   "metadata": {},
   "outputs": [],
   "source": [
    "# Download all videos in the playlist\n",
    "print(f'Downloading: {p.title} ')\n",
    "for video in p.videos:\n",
    "    video.streams.first(mime_type=\"video/mp4\").download()"
   ]
  },
  {
   "cell_type": "markdown",
   "id": "67a8bbca",
   "metadata": {},
   "source": [
    "[Link to pytube](https://github.com/pytube/pytube)."
   ]
  },
  {
   "cell_type": "markdown",
   "id": "9b1a4dae",
   "metadata": {},
   "source": [
    "### Magika: Detect File Content Types with Deep Learning"
   ]
  },
  {
   "cell_type": "code",
   "execution_count": null,
   "id": "72e130fb",
   "metadata": {
    "tags": [
     "hide-cell"
    ]
   },
   "outputs": [],
   "source": [
    "!pip install magika"
   ]
  },
  {
   "cell_type": "markdown",
   "id": "4d3e5f3b",
   "metadata": {},
   "source": [
    "Detecting file types helps identify malicious files disguised with false extensions, such as a .jpg that is actually malware.\n",
    "\n",
    "Magika, Google's AI-powered file type detection tool, uses deep learning for precise detection. In the following code, files have misleading extensions, but Magika still accurately detects their correct types."
   ]
  },
  {
   "cell_type": "code",
   "execution_count": null,
   "id": "aaf3efb6",
   "metadata": {},
   "outputs": [],
   "source": [
    "from pathlib import Path\n",
    "import shutil\n",
    "\n",
    "# Define the directory where files will be created\n",
    "directory = Path(\"examples\")\n",
    "\n",
    "# Ensure the directory exists\n",
    "directory.mkdir(exist_ok=True)\n",
    "\n",
    "# Empty the directory if it is not empty\n",
    "for item in directory.iterdir():\n",
    "    if item.is_dir():\n",
    "        shutil.rmtree(item)\n",
    "    else:\n",
    "        item.unlink()\n",
    "\n",
    "# Define the filenames and their respective content\n",
    "files = [\n",
    "    (\"plain_text.csv\", \"This is a plain text file.\"),\n",
    "    (\"csv.json\", \"id,name,age\\n1,John Doe,30\"),\n",
    "    (\"json.xml\", '{\"name\": \"John\", \"age\": 30}'),\n",
    "    (\"markdown.js\", \"# Heading 1\\nSome text.\"),\n",
    "    (\"python.ini\", 'print(\"Hello, World!\")'),\n",
    "    (\"js.yml\", 'console.log(\"Hello, World!\");'),\n",
    "    (\"yml.js\", \"name: John\\nage: 30\"),\n",
    "]\n",
    "\n",
    "# Create each file with the specified content\n",
    "for filename, content in files:\n",
    "    (directory / filename).write_text(content)\n",
    "\n",
    "print(f\"Created {len(files)} files in the '{directory}' directory.\")"
   ]
  },
  {
   "cell_type": "markdown",
   "id": "147eb841",
   "metadata": {},
   "source": [
    "```bash\n",
    "$ magika -r examples\n",
    "```"
   ]
  },
  {
   "cell_type": "code",
   "execution_count": null,
   "id": "b7e79d97",
   "metadata": {
    "tags": [
     "remove-input"
    ]
   },
   "outputs": [],
   "source": [
    "!magika -r examples"
   ]
  },
  {
   "cell_type": "markdown",
   "id": "594d0206",
   "metadata": {},
   "source": [
    "[Link to Magika](https://bit.ly/45tdw5O)."
   ]
  },
  {
   "cell_type": "markdown",
   "id": "8d589241",
   "metadata": {},
   "source": [
    "### From Selenium to Helium: Writing Cleaner Browser Automation Code"
   ]
  },
  {
   "cell_type": "markdown",
   "id": "7d43c129",
   "metadata": {},
   "source": [
    "Writing browser automation scripts with traditional Selenium requires verbose code with explicit element locators (like XPaths, CSS selectors) and explicit waits, which is time-consuming to write and hard-to-maintain.\n",
    "\n",
    "\n",
    "```python\n",
    "from selenium import webdriver\n",
    "from selenium.webdriver.common.by import By\n",
    "from selenium.webdriver.support.ui import WebDriverWait\n",
    "from selenium.webdriver.support import expected_conditions as EC\n",
    "\n",
    "# Start Chrome\n",
    "\n",
    "with webdriver.Chrome() as driver:\n",
    "    # Navigate to GitHub login page\n",
    "    driver.get('https://github.com/login')\n",
    "\n",
    "    # Login\n",
    "    username_field = driver.find_element(By.ID, 'login_field')\n",
    "    password_field = driver.find_element(By.ID, 'password')\n",
    "    \n",
    "    username_field.send_keys('1mh')\n",
    "    password_field.send_keys('1Secretpw')\n",
    "    \n",
    "    login_button = driver.find_element(By.NAME, 'commit')\n",
    "    login_button.click()\n",
    "\n",
    "    # Navigate to repository\n",
    "    driver.get('https://github.com/mherrmann/helium')\n",
    "\n",
    "    # Wait for and click Star button\n",
    "    wait = WebDriverWait(driver, 10)\n",
    "    star_button = wait.until(EC.element_to_be_clickable((By.XPATH, \"//button[contains(text(), 'Star')]\")))\n",
    "    star_button.click()\n",
    "\n",
    "    # Wait for and click Unstar button\n",
    "    unstar_button = wait.until(EC.element_to_be_clickable((By.XPATH, \"//button[contains(text(), 'Unstar')]\")))\n",
    "    unstar_button.click()\n",
    "```"
   ]
  },
  {
   "cell_type": "markdown",
   "id": "de908ffb",
   "metadata": {},
   "source": [
    "Helium provides high-level APIs that work with user-visible elements and handles waits automatically. With Helium, you can write more intuitive and maintainable browser automation code. \n",
    "\n",
    "\n",
    "\n",
    "```python\n",
    "from helium import *\n",
    "\n",
    "# Start Chrome and navigate to GitHub login page\n",
    "start_chrome('github.com/login')\n",
    "\n",
    "# Enter username and password\n",
    "write('1mh', into='Username')\n",
    "write('1Secretpw', into='Password')\n",
    "\n",
    "# Click the Sign in button\n",
    "click('Sign in')\n",
    "\n",
    "# Navigate to the Helium repository\n",
    "go_to('github.com/mherrmann/helium')\n",
    "\n",
    "# Star and then unstar the repository\n",
    "click(Button('Star'))\n",
    "click(Button('Unstar'))\n",
    "\n",
    "# Close the browser\n",
    "kill_browser()\n",
    "```"
   ]
  },
  {
   "cell_type": "markdown",
   "id": "5c93dd3e",
   "metadata": {},
   "source": [
    "[Link to Helium](https://github.com/mherrmann/helium)."
   ]
  }
 ],
 "metadata": {
  "jupytext": {
   "text_representation": {
    "extension": ".md",
    "format_name": "myst",
    "format_version": 0.13,
    "jupytext_version": "1.16.7"
   }
  },
  "kernelspec": {
   "display_name": "Python 3 (ipykernel)",
   "language": "python",
   "name": "python3"
  },
  "source_map": [
   12,
   16,
   20,
   24,
   48,
   52,
   56,
   62,
   85,
   89,
   93,
   103,
   107,
   111,
   115,
   119,
   123,
   127,
   131,
   135,
   137,
   141,
   148,
   152,
   156,
   162,
   175,
   179,
   183,
   189,
   207,
   219,
   255,
   261,
   265,
   269,
   273,
   277,
   283,
   287,
   293,
   297,
   301,
   307,
   311,
   315,
   319,
   323,
   329,
   339,
   346,
   350,
   357,
   363,
   373,
   377,
   381,
   383,
   387,
   391,
   395,
   400,
   406,
   411,
   419,
   425,
   427,
   435,
   439,
   447,
   451,
   455,
   459,
   463,
   469,
   491,
   495,
   499,
   505,
   518,
   522,
   526,
   530,
   534,
   541,
   545,
   549,
   554,
   559,
   566,
   571,
   575,
   579,
   583,
   589,
   622,
   628,
   632,
   636,
   640,
   680,
   710
  ]
 },
 "nbformat": 4,
 "nbformat_minor": 5
}