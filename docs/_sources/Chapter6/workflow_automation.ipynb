{
 "cells": [
  {
   "attachments": {},
   "cell_type": "markdown",
   "id": "eab3d1c1",
   "metadata": {},
   "source": [
    "## Workflow Automation"
   ]
  },
  {
   "attachments": {},
   "cell_type": "markdown",
   "id": "38b43f4a",
   "metadata": {},
   "source": [
    "This section covers some tools to automate the workflow of your Python project such as scheduling a time to run your code, sending notifications when your program finishes, etc. "
   ]
  },
  {
   "attachments": {},
   "cell_type": "markdown",
   "id": "6964f392",
   "metadata": {},
   "source": [
    "### Schedule: Schedule your Python Functions to Run At a Specific Time"
   ]
  },
  {
   "attachments": {},
   "cell_type": "markdown",
   "id": "679307f5",
   "metadata": {},
   "source": [
    "If you want to schedule Python functions to run periodically at a certain day or time of the week, use schedule.\n",
    "\n",
    "In the code snippet below, I use schedule to get incoming data at 10:30 every day and train the model at 8:00 every Wednesday.\n",
    "\n",
    "```python\n",
    "import schedule \n",
    "import time \n",
    "\n",
    "def get_incoming_data():\n",
    "    print(\"Get incoming data\")\n",
    "\n",
    "def train_model():\n",
    "    print(\"Retraining model\")\n",
    "\n",
    "schedule.every().day.at(\"10:30\").do(get_incoming_data)\n",
    "schedule.every().wednesday.at(\"08:00\").do(train_model)\n",
    "\n",
    "while True:\n",
    "    schedule.run_pending()\n",
    "    time.sleep(1)\n",
    "```"
   ]
  },
  {
   "attachments": {},
   "cell_type": "markdown",
   "id": "734bae13",
   "metadata": {},
   "source": [
    "[Link to schedule](https://github.com/dbader/schedule)"
   ]
  },
  {
   "attachments": {},
   "cell_type": "markdown",
   "id": "6b6d21f8",
   "metadata": {},
   "source": [
    "### notify-send: Send a Desktop Notification after Finishing Executing a File"
   ]
  },
  {
   "attachments": {},
   "cell_type": "markdown",
   "id": "bc5f69c3",
   "metadata": {},
   "source": [
    "If you want to receive a desktop notification after finishing executing a file in Linux, use notify-send.\n",
    "\n",
    "In the code below, after finishing executing `file_to_run.py`, you will receive a notification on the top of your screen to inform you that the process is terminated.\n",
    "\n",
    "```bash\n",
    "python file_to_run.py ; notify-send \"Process terminated\"\n",
    "```"
   ]
  },
  {
   "attachments": {},
   "cell_type": "markdown",
   "id": "dcb269fa",
   "metadata": {},
   "source": [
    "### Create Sound Notifications in Python in One Line of Code"
   ]
  },
  {
   "cell_type": "code",
   "execution_count": null,
   "id": "4c1b6ed6",
   "metadata": {
    "tags": [
     "hide-cell"
    ]
   },
   "outputs": [],
   "source": [
    "!pip install chime"
   ]
  },
  {
   "attachments": {},
   "cell_type": "markdown",
   "id": "21117897",
   "metadata": {},
   "source": [
    "To have your computer make a sound  when your Python code reaches a certain state, use chime. "
   ]
  },
  {
   "attachments": {},
   "cell_type": "markdown",
   "id": "af761e30",
   "metadata": {},
   "source": [
    "Try to run the following code and listen to the sound."
   ]
  },
  {
   "cell_type": "code",
   "execution_count": 2,
   "id": "b99f0e64",
   "metadata": {
    "ExecuteTime": {
     "end_time": "2022-07-20T14:10:01.415686Z",
     "start_time": "2022-07-20T14:10:01.409120Z"
    }
   },
   "outputs": [],
   "source": [
    "import chime"
   ]
  },
  {
   "cell_type": "code",
   "execution_count": 5,
   "id": "f28d625e",
   "metadata": {
    "ExecuteTime": {
     "end_time": "2022-07-20T14:12:04.108891Z",
     "start_time": "2022-07-20T14:12:04.092397Z"
    }
   },
   "outputs": [],
   "source": [
    "chime.success() "
   ]
  },
  {
   "cell_type": "code",
   "execution_count": 6,
   "id": "93efca6e",
   "metadata": {
    "ExecuteTime": {
     "end_time": "2022-07-20T14:10:07.967281Z",
     "start_time": "2022-07-20T14:10:07.953054Z"
    }
   },
   "outputs": [],
   "source": [
    "chime.warning()"
   ]
  },
  {
   "cell_type": "code",
   "execution_count": 7,
   "id": "9ea2e226",
   "metadata": {
    "ExecuteTime": {
     "end_time": "2022-07-20T14:10:09.359471Z",
     "start_time": "2022-07-20T14:10:09.344198Z"
    }
   },
   "outputs": [],
   "source": [
    "chime.error()"
   ]
  },
  {
   "cell_type": "code",
   "execution_count": 8,
   "id": "2c5ab235",
   "metadata": {
    "ExecuteTime": {
     "end_time": "2022-07-20T14:10:11.451082Z",
     "start_time": "2022-07-20T14:10:11.436931Z"
    }
   },
   "outputs": [],
   "source": [
    "chime.info()"
   ]
  },
  {
   "attachments": {},
   "cell_type": "markdown",
   "id": "d7cf3365",
   "metadata": {},
   "source": [
    "One application of using chime is to make a sound when there is an error in your code. "
   ]
  },
  {
   "cell_type": "code",
   "execution_count": 13,
   "id": "58741fd4",
   "metadata": {
    "ExecuteTime": {
     "end_time": "2022-07-20T14:28:43.262158Z",
     "start_time": "2022-07-20T14:28:43.243905Z"
    }
   },
   "outputs": [
    {
     "name": "stdout",
     "output_type": "stream",
     "text": [
      "You can't divide a number by 0!\n"
     ]
    }
   ],
   "source": [
    "a = 0\n",
    "try:\n",
    "    b = 2/a  \n",
    "except ZeroDivisionError:\n",
    "    print(\"You can't divide a number by 0!\")\n",
    "    chime.error()"
   ]
  },
  {
   "attachments": {},
   "cell_type": "markdown",
   "id": "86d4ef2d",
   "metadata": {},
   "source": [
    "[Link to chime](https://github.com/MaxHalford/chime)."
   ]
  },
  {
   "attachments": {},
   "cell_type": "markdown",
   "id": "b9d59c71",
   "metadata": {},
   "source": [
    "### knockknock: Receive an Email When Your Code Finishes Executing"
   ]
  },
  {
   "attachments": {},
   "cell_type": "markdown",
   "id": "392f46a9",
   "metadata": {},
   "source": [
    "It can take hours or days to train a model and you can be away from the computer when your model finishes training. Wouldn’t it be nice to receive an email when your code finishes executing? There is an app for that knock-knock.\n",
    "\n",
    "All it takes is one line of code specifying your email address."
   ]
  },
  {
   "attachments": {},
   "cell_type": "markdown",
   "id": "ea04ba5d",
   "metadata": {},
   "source": [
    "```python\n",
    "from knockknock import email_sender \n",
    "\n",
    "@email_sender(recipient_emails=['<your_email@address.com>', '<your_second_email@adress.com>'],\n",
    "sender_email=\"<grandma's_email@gmail.com>\")\n",
    "def train_your_nicest_model(your_nicest_parameters):\n",
    "    import time \n",
    "    time.sleep(10_000)\n",
    "    return {'loss': 0.9}\n",
    "```"
   ]
  },
  {
   "attachments": {},
   "cell_type": "markdown",
   "id": "49b16e21",
   "metadata": {},
   "source": [
    "You can even have it send to your slack channel so everybody in your team can see. See the docs of this library [here](https://github.com/huggingface/knockknock)."
   ]
  },
  {
   "attachments": {},
   "cell_type": "markdown",
   "id": "81aee63c",
   "metadata": {},
   "source": [
    "### Makefile: Organize Your Command Line"
   ]
  },
  {
   "attachments": {},
   "cell_type": "markdown",
   "id": "173af782",
   "metadata": {},
   "source": [
    "Do you use often use a sequence of commands to do a repetitive task? Wouldn't it be nice if you can call a sequence of commands using only one short command? That is when Makefile comes in handy.\n",
    "\n",
    "In the code below, I use Makefile to automate the workflow to set up an environment.  "
   ]
  },
  {
   "attachments": {},
   "cell_type": "markdown",
   "id": "3a33d45c",
   "metadata": {},
   "source": [
    "```yaml\n",
    "# Makefile\n",
    "\n",
    "activate:\n",
    "  @echo \"Activating virtual env\"\n",
    "  poetry shell\n",
    "  \n",
    "install: \n",
    "  @echo \"Installing...\"\n",
    "  poetry install\n",
    "\n",
    "pull_data:\n",
    "  @echo \"Pulling data...\"\n",
    "  dvc pull\n",
    "```"
   ]
  },
  {
   "attachments": {},
   "cell_type": "markdown",
   "id": "d271175c",
   "metadata": {},
   "source": [
    "If you run: \n",
    "```bash\n",
    "$ make activate\n",
    "```\n",
    "you should see something like below:\n",
    "```bash\n",
    "Activating virtual env\n",
    "poetry shell\n",
    "```"
   ]
  },
  {
   "attachments": {},
   "cell_type": "markdown",
   "id": "0061d230",
   "metadata": {},
   "source": [
    "You can run `activate`, `install`, and `pull_data` at the same time by putting all of those commands under `install_all`:\n",
    "```yaml\n",
    "# Makefile\n",
    "\n",
    "activate:\n",
    "  @echo \"Activating virtual env\"\n",
    "  poetry shell\n",
    "  \n",
    "install: \n",
    "  @echo \"Installing...\"\n",
    "  poetry install\n",
    "\n",
    "pull_data:\n",
    "  @echo \"Pulling data...\"\n",
    "  dvc pull\n",
    "\n",
    "install_all: \n",
    "  install activate pull_data\n",
    "```\n",
    "Now you can run the entire setup workflow by running only one command:\n",
    "\n",
    "```bash\n",
    "$ make install_all\n",
    "```\n",
    "Output:\n",
    "```bash\n",
    "Installing...\n",
    "poetry shell\n",
    "Activating environment\n",
    "poetry install\n",
    "Pulling data...\n",
    "dvc pull\n",
    "``` "
   ]
  },
  {
   "attachments": {},
   "cell_type": "markdown",
   "id": "f0cb19c1",
   "metadata": {},
   "source": [
    "I used Makefile to simplify the setup of my [customer_segmentation project](https://github.com/khuyentran1401/customer_segmentation).\n",
    "\n",
    "You can learn more about Makefile [here](https://opensource.com/article/18/8/what-how-makefile)."
   ]
  },
  {
   "attachments": {},
   "cell_type": "markdown",
   "id": "224627ac",
   "metadata": {},
   "source": [
    "### notedown: Create IPython Notebooks from Markdown and Vice Versa"
   ]
  },
  {
   "cell_type": "code",
   "execution_count": null,
   "id": "7f8fde10",
   "metadata": {
    "ExecuteTime": {
     "end_time": "2022-04-13T12:53:10.576133Z",
     "start_time": "2022-04-13T12:53:06.022315Z"
    },
    "tags": [
     "hide-cell"
    ]
   },
   "outputs": [],
   "source": [
    "!pip install notedown"
   ]
  },
  {
   "attachments": {},
   "cell_type": "markdown",
   "id": "8de89cb2",
   "metadata": {},
   "source": [
    "Sometimes you might want to convert your markdown file to a Jupyter Notebook for execution. If so, try notedown. notedown allows you to convert your markdown file to a Jupyter Notebook and vice versa."
   ]
  },
  {
   "attachments": {},
   "cell_type": "markdown",
   "id": "ed362656",
   "metadata": {},
   "source": [
    "To convert markdown file to a Jupyter Notebook with notedown, type:"
   ]
  },
  {
   "attachments": {},
   "cell_type": "markdown",
   "id": "9bd3699a",
   "metadata": {},
   "source": [
    "```bash\n",
    "$ notedown input.md >> output.ipynb \n",
    "```"
   ]
  },
  {
   "attachments": {},
   "cell_type": "markdown",
   "id": "ed30d320",
   "metadata": {},
   "source": [
    "To convert a Jupyter Notebook to a markdown file, type:"
   ]
  },
  {
   "attachments": {},
   "cell_type": "markdown",
   "id": "42c31ad5",
   "metadata": {
    "ExecuteTime": {
     "end_time": "2022-04-13T12:56:02.188428Z",
     "start_time": "2022-04-13T12:56:02.180450Z"
    }
   },
   "source": [
    "```bash\n",
    "$ notedown input.ipynb --to markdown >> output.md \n",
    "```"
   ]
  },
  {
   "attachments": {},
   "cell_type": "markdown",
   "id": "23f41a1d",
   "metadata": {},
   "source": [
    "[Link to notedown](https://github.com/aaren/notedown)."
   ]
  },
  {
   "attachments": {},
   "cell_type": "markdown",
   "id": "464d89fa",
   "metadata": {},
   "source": [
    "### Open a Website Using Python"
   ]
  },
  {
   "attachments": {},
   "cell_type": "markdown",
   "id": "5cbb40a5",
   "metadata": {},
   "source": [
    "If you want to open a website using Python, use webbrowser.\n",
    "\n",
    "For example, running the code below will open my website in your browser."
   ]
  },
  {
   "cell_type": "code",
   "execution_count": 1,
   "id": "dc674ce9",
   "metadata": {},
   "outputs": [
    {
     "data": {
      "text/plain": [
       "True"
      ]
     },
     "execution_count": 1,
     "metadata": {},
     "output_type": "execute_result"
    }
   ],
   "source": [
    "import webbrowser\n",
    "\n",
    "webbrowser.open_new(\"https://mathdatasimplified.com/\")"
   ]
  },
  {
   "attachments": {},
   "cell_type": "markdown",
   "id": "82e617df",
   "metadata": {},
   "source": [
    "[Link to webbrowser](https://docs.python.org/3/library/webbrowser.html)."
   ]
  },
  {
   "attachments": {},
   "cell_type": "markdown",
   "id": "4770eed0",
   "metadata": {},
   "source": [
    "### removestar: Automate Replacing Start Imports with Explicit Imports"
   ]
  },
  {
   "cell_type": "code",
   "execution_count": null,
   "id": "e367abe9",
   "metadata": {
    "tags": [
     "hide-cell"
    ]
   },
   "outputs": [],
   "source": [
    "!pip install removestar"
   ]
  },
  {
   "attachments": {},
   "cell_type": "markdown",
   "id": "c9d00f4a",
   "metadata": {},
   "source": [
    "It is a bad practice to use `import *` in Python because it is harder to track down the origin of variables and debug your code. However, writing numerous imports explicitly from a single module can be tedious.\n",
    "\n",
    "removestar allows you to automate replacing star imports with explicit imports."
   ]
  },
  {
   "cell_type": "code",
   "execution_count": null,
   "id": "88996d37",
   "metadata": {},
   "outputs": [],
   "source": [
    "%%writefile star_script.py  \n",
    "\n",
    "from math import *\n",
    "\n",
    "def square_root(num):\n",
    "    return sqrt(num)\n",
    "\n",
    "def deg_to_rad(degrees):\n",
    "    return radians(degrees)"
   ]
  },
  {
   "attachments": {},
   "cell_type": "markdown",
   "id": "b6fcd391",
   "metadata": {},
   "source": [
    "```bash\n",
    "# Shows diff but does not edit star_script.py\n",
    "$ removestar star_script.py \n",
    "```"
   ]
  },
  {
   "cell_type": "code",
   "execution_count": 2,
   "id": "349f5843",
   "metadata": {
    "tags": [
     "remove-input"
    ]
   },
   "outputs": [
    {
     "name": "stdout",
     "output_type": "stream",
     "text": [
      "--- original/star_script.py\n",
      "+++ fixed/star_script.py\n",
      "@@ -1,5 +1,5 @@\n",
      " \n",
      "-from math import *\n",
      "+from math import radians, sqrt\n",
      " \n",
      " def square_root(num):\n",
      "     return sqrt(num)\n",
      "\n"
     ]
    }
   ],
   "source": [
    "!removestar star_script.py "
   ]
  },
  {
   "attachments": {},
   "cell_type": "markdown",
   "id": "79326bf9",
   "metadata": {},
   "source": [
    "```bash\n",
    "# Edits star_script.py in-place\n",
    "$ removestar star_script.py -i\n",
    "```"
   ]
  },
  {
   "cell_type": "code",
   "execution_count": 3,
   "id": "e7556e61",
   "metadata": {
    "tags": [
     "remove-cell"
    ]
   },
   "outputs": [],
   "source": [
    "!removestar star_script.py -i"
   ]
  },
  {
   "cell_type": "code",
   "execution_count": null,
   "id": "ed2071ac",
   "metadata": {},
   "outputs": [],
   "source": [
    "# %load star_script.py\n",
    "\n",
    "from math import radians, sqrt\n",
    "\n",
    "def square_root(num):\n",
    "    return sqrt(num)\n",
    "\n",
    "def deg_to_rad(degrees):\n",
    "    return radians(degrees)"
   ]
  },
  {
   "attachments": {},
   "cell_type": "markdown",
   "id": "a34011c6",
   "metadata": {},
   "source": [
    "[Link to removestar](https://github.com/asmeurer/removestar)."
   ]
  },
  {
   "attachments": {},
   "cell_type": "markdown",
   "id": "f8ca7c60",
   "metadata": {},
   "source": [
    "### MonkeyType: Automatically Generate Static Type Annotations Based on Runtime Types"
   ]
  },
  {
   "attachments": {},
   "cell_type": "markdown",
   "id": "0129b548",
   "metadata": {},
   "source": [
    "Type annotations can improve code readability and catch type-related errors early in development.\n",
    "\n",
    "MonkeyType simplifies adding type annotations by automatically generating draft annotations based on the types collected at runtime, saving time and effort compared to manual annotation."
   ]
  },
  {
   "attachments": {},
   "cell_type": "markdown",
   "id": "6506d284",
   "metadata": {},
   "source": [
    "Let's say we have two files inside the folder monkey_example. The `utils.py` file contains the `get_mean` function and the `main.py` file calls the `get_mean` function. "
   ]
  },
  {
   "cell_type": "code",
   "execution_count": null,
   "id": "3d7be5d8",
   "metadata": {},
   "outputs": [],
   "source": [
    "%mkdir monkey_example\n",
    "%cd monkey_example"
   ]
  },
  {
   "cell_type": "code",
   "execution_count": null,
   "id": "9c50d7d0",
   "metadata": {},
   "outputs": [],
   "source": [
    "%%writefile utils.py \n",
    "def get_mean(num1, num2):\n",
    "    return (num1+num2)/2  "
   ]
  },
  {
   "cell_type": "code",
   "execution_count": null,
   "id": "7a129521",
   "metadata": {},
   "outputs": [],
   "source": [
    "%%writefile main.py \n",
    "from utils import get_mean  \n",
    "\n",
    "get_mean(1, 3)"
   ]
  },
  {
   "attachments": {},
   "cell_type": "markdown",
   "id": "db39f0bd",
   "metadata": {},
   "source": [
    "We can infer the type annotation of `get_mean` in `utils.py` by running `main.py` with MonkeyType.\n",
    "\n",
    "```bash\n",
    "$ monkeytype run main.py \n",
    "```"
   ]
  },
  {
   "cell_type": "code",
   "execution_count": 48,
   "id": "fe268090",
   "metadata": {
    "tags": [
     "remove-input"
    ]
   },
   "outputs": [],
   "source": [
    "!monkeytype run main.py "
   ]
  },
  {
   "attachments": {},
   "cell_type": "markdown",
   "id": "ff7b7348",
   "metadata": {},
   "source": [
    "Then generate a stub file for a module:\n",
    "\n",
    "```bash\n",
    "$ monkeytype stub utils\n",
    "```"
   ]
  },
  {
   "cell_type": "code",
   "execution_count": 49,
   "id": "7764766a",
   "metadata": {
    "tags": [
     "remove-input"
    ]
   },
   "outputs": [
    {
     "name": "stdout",
     "output_type": "stream",
     "text": [
      "def get_mean(num1: int, num2: int) -> float: ...\n"
     ]
    }
   ],
   "source": [
    "!monkeytype stub utils  "
   ]
  },
  {
   "attachments": {},
   "cell_type": "markdown",
   "id": "c6679bee",
   "metadata": {},
   "source": [
    "or apply the type annotations directly to the code. \n",
    "\n",
    "```bash\n",
    "$ monkeytype apply utils \n",
    "```"
   ]
  },
  {
   "cell_type": "code",
   "execution_count": 50,
   "id": "5c8caae2",
   "metadata": {
    "tags": [
     "remove-input"
    ]
   },
   "outputs": [
    {
     "name": "stdout",
     "output_type": "stream",
     "text": [
      "def get_mean(num1: int, num2: int) -> float:\n",
      "    return (num1+num2)/2  \n",
      "\n"
     ]
    }
   ],
   "source": [
    "!monkeytype apply utils "
   ]
  },
  {
   "attachments": {},
   "cell_type": "markdown",
   "id": "f83c57de",
   "metadata": {},
   "source": [
    "While MonkeyType makes it very easy to add annotations, those annotations may not always match the full intended capability of the functions. For example, `get_mean` is capable of handling many more types than just integers. MonkeyType's annotations are an informative first draft that are meant to be checked and corrected by a developer. "
   ]
  },
  {
   "attachments": {},
   "cell_type": "markdown",
   "id": "e9dc3ea7",
   "metadata": {},
   "source": [
    "[Link to MonkeyType](https://github.com/Instagram/MonkeyType)."
   ]
  },
  {
   "attachments": {},
   "cell_type": "markdown",
   "id": "27654eeb",
   "metadata": {},
   "source": [
    "### whereami: Use Machine Learning to Predict Where You Are"
   ]
  },
  {
   "attachments": {},
   "cell_type": "markdown",
   "id": "963df8bd",
   "metadata": {},
   "source": [
    "If you want to predict where you are with machine learning and WiFi signals, use whereami. One application of whereami is to turn on Hue light bulbs in specific locations through your laptop. \n",
    "\n",
    "To predict your current location, start by collecting some samples by running `whereami learn -l location` in different locations. Once collecting at least 10 data points, run `whereami predict` to predict your current location."
   ]
  },
  {
   "attachments": {},
   "cell_type": "markdown",
   "id": "704532ee",
   "metadata": {},
   "source": [
    "```bash\n",
    "# Take a sample in the kitchen\n",
    "$ whereami learn -l kitchen\n",
    "\n",
    "# Take a sample in the bedroom\n",
    "$ whereami learn -l bedroom\n",
    "\n",
    "# Get learned locations\n",
    "$ whereami locations\n",
    "bedroom: 2\n",
    "office: 2\n",
    "kitchen: 3\n",
    "bathroom: 1\n",
    "livingroom: 2\n",
    "\n",
    "# Run prediction in the kitchen\n",
    "$ whereami predict\n",
    "kitchen\n",
    "```"
   ]
  },
  {
   "attachments": {},
   "cell_type": "markdown",
   "id": "5dda50a0",
   "metadata": {},
   "source": [
    "[Link to whereami](https://github.com/kootenpv/whereami)."
   ]
  },
  {
   "attachments": {},
   "cell_type": "markdown",
   "id": "5bcf1e26",
   "metadata": {},
   "source": [
    "### watchfiles: Rerun Code When a File Changes"
   ]
  },
  {
   "attachments": {},
   "cell_type": "markdown",
   "id": "89a459e2",
   "metadata": {},
   "source": [
    "If you want to automatically rerun a process when a file changes, use watchfiles.\n",
    "\n",
    "In the code below, the function `train` will run when the file `process_data.py` changes."
   ]
  },
  {
   "attachments": {},
   "cell_type": "markdown",
   "id": "0533edea",
   "metadata": {},
   "source": [
    "```python\n",
    "from watchfiles import run_process\n",
    "\n",
    "def train():\n",
    "    print(\"Detect changes in process_data.py. \" \n",
    "          \"Train the model again\")\n",
    "\n",
    "if __name__ == \"__main__\":\n",
    "    run_process(\"process_data.py\", target=train)\n",
    "```"
   ]
  },
  {
   "attachments": {},
   "cell_type": "markdown",
   "id": "7a8a459a",
   "metadata": {},
   "source": [
    "[Link to watchfiles](https://github.com/samuelcolvin/watchfiles)."
   ]
  },
  {
   "attachments": {},
   "cell_type": "markdown",
   "id": "cc26bf6d",
   "metadata": {},
   "source": [
    "### Limit the Execution Time of a Function Call with Prefect"
   ]
  },
  {
   "cell_type": "code",
   "execution_count": null,
   "id": "f4c1b46a",
   "metadata": {
    "tags": [
     "hide-cell"
    ]
   },
   "outputs": [],
   "source": [
    "!pip install -U prefect "
   ]
  },
  {
   "attachments": {},
   "cell_type": "markdown",
   "id": "52e7a5ac",
   "metadata": {},
   "source": [
    "Prefect is an open-source library that allows you to orchestrate and observe your data pipelines defined in Python. Check out the [getting started tutorials](https://docs.prefect.io/tutorials/first-steps/) for basic concepts of Prefect. "
   ]
  },
  {
   "attachments": {},
   "cell_type": "markdown",
   "id": "07f1546b",
   "metadata": {},
   "source": [
    "Sometimes, it is useful to cancel a function call when the execution time is longer than expected. \n",
    "\n",
    "In Prefect, you can limit the execution time of a Python function call with the decorators `task(timeout_seconds=n)` or `flow(timeout_seconds=n)`. \n"
   ]
  },
  {
   "cell_type": "code",
   "execution_count": 2,
   "id": "873130c0",
   "metadata": {
    "tags": [
     "hide-output"
    ]
   },
   "outputs": [
    {
     "data": {
      "text/html": [
       "<pre style=\"white-space:pre;overflow-x:auto;line-height:normal;font-family:Menlo,'DejaVu Sans Mono',consolas,'Courier New',monospace\">09:33:22.687 | <span style=\"color: #008080; text-decoration-color: #008080\">INFO</span>    | prefect.engine - Created flow run<span style=\"color: #800080; text-decoration-color: #800080\"> 'arrogant-goshawk'</span> for flow<span style=\"color: #800080; text-decoration-color: #800080; font-weight: bold\"> 'main'</span>\n",
       "</pre>\n"
      ],
      "text/plain": [
       "09:33:22.687 | \u001b[36mINFO\u001b[0m    | prefect.engine - Created flow run\u001b[35m 'arrogant-goshawk'\u001b[0m for flow\u001b[1;35m 'main'\u001b[0m\n"
      ]
     },
     "metadata": {},
     "output_type": "display_data"
    },
    {
     "data": {
      "text/html": [
       "<pre style=\"white-space:pre;overflow-x:auto;line-height:normal;font-family:Menlo,'DejaVu Sans Mono',consolas,'Courier New',monospace\">09:33:23.979 | <span style=\"color: #008080; text-decoration-color: #008080\">INFO</span>    | Flow run 'arrogant-goshawk' - Created task run 'get_data-e6feb297-0' for task 'get_data'\n",
       "</pre>\n"
      ],
      "text/plain": [
       "09:33:23.979 | \u001b[36mINFO\u001b[0m    | Flow run 'arrogant-goshawk' - Created task run 'get_data-e6feb297-0' for task 'get_data'\n"
      ]
     },
     "metadata": {},
     "output_type": "display_data"
    },
    {
     "data": {
      "text/html": [
       "<pre style=\"white-space:pre;overflow-x:auto;line-height:normal;font-family:Menlo,'DejaVu Sans Mono',consolas,'Courier New',monospace\">09:33:23.982 | <span style=\"color: #008080; text-decoration-color: #008080\">INFO</span>    | Flow run 'arrogant-goshawk' - Executing 'get_data-e6feb297-0' immediately...\n",
       "</pre>\n"
      ],
      "text/plain": [
       "09:33:23.982 | \u001b[36mINFO\u001b[0m    | Flow run 'arrogant-goshawk' - Executing 'get_data-e6feb297-0' immediately...\n"
      ]
     },
     "metadata": {},
     "output_type": "display_data"
    },
    {
     "data": {
      "text/html": [
       "<pre style=\"white-space:pre;overflow-x:auto;line-height:normal;font-family:Menlo,'DejaVu Sans Mono',consolas,'Courier New',monospace\">09:33:25.561 | <span style=\"color: #d70000; text-decoration-color: #d70000\">ERROR</span>   | Task run 'get_data-e6feb297-0' - Task run exceeded timeout of 1.0 seconds\n",
       "Traceback (most recent call last):\n",
       "  File \"/Users/khuyen/book/venv/lib/python3.9/site-packages/prefect/engine.py\", line 1239, in orchestrate_task_run\n",
       "    result = await run_sync(task.fn, *args, **kwargs)\n",
       "  File \"/Users/khuyen/book/venv/lib/python3.9/site-packages/prefect/utilities/asyncutils.py\", line 128, in run_sync_in_interruptible_worker_thread\n",
       "    tg.start_soon(\n",
       "  File \"/Users/khuyen/book/venv/lib/python3.9/site-packages/anyio/_backends/_asyncio.py\", line 658, in __aexit__\n",
       "    raise <span style=\"color: #d7d700; text-decoration-color: #d7d700\">Cancelled</span>Error\n",
       "asyncio.exceptions.<span style=\"color: #d7d700; text-decoration-color: #d7d700\">Cancelled</span>Error\n",
       "\n",
       "During handling of the above exception, another exception occurred:\n",
       "\n",
       "Traceback (most recent call last):\n",
       "  File \"/Users/khuyen/book/venv/lib/python3.9/site-packages/prefect/engine.py\", line 1239, in orchestrate_task_run\n",
       "    result = await run_sync(task.fn, *args, **kwargs)\n",
       "  File \"/Users/khuyen/book/venv/lib/python3.9/site-packages/anyio/_core/_tasks.py\", line 118, in __exit__\n",
       "    raise TimeoutError\n",
       "TimeoutError\n",
       "</pre>\n"
      ],
      "text/plain": [
       "09:33:25.561 | \u001b[38;5;160mERROR\u001b[0m   | Task run 'get_data-e6feb297-0' - Task run exceeded timeout of 1.0 seconds\n",
       "Traceback (most recent call last):\n",
       "  File \"/Users/khuyen/book/venv/lib/python3.9/site-packages/prefect/engine.py\", line 1239, in orchestrate_task_run\n",
       "    result = await run_sync(task.fn, *args, **kwargs)\n",
       "  File \"/Users/khuyen/book/venv/lib/python3.9/site-packages/prefect/utilities/asyncutils.py\", line 128, in run_sync_in_interruptible_worker_thread\n",
       "    tg.start_soon(\n",
       "  File \"/Users/khuyen/book/venv/lib/python3.9/site-packages/anyio/_backends/_asyncio.py\", line 658, in __aexit__\n",
       "    raise \u001b[38;5;184mCancelled\u001b[0mError\n",
       "asyncio.exceptions.\u001b[38;5;184mCancelled\u001b[0mError\n",
       "\n",
       "During handling of the above exception, another exception occurred:\n",
       "\n",
       "Traceback (most recent call last):\n",
       "  File \"/Users/khuyen/book/venv/lib/python3.9/site-packages/prefect/engine.py\", line 1239, in orchestrate_task_run\n",
       "    result = await run_sync(task.fn, *args, **kwargs)\n",
       "  File \"/Users/khuyen/book/venv/lib/python3.9/site-packages/anyio/_core/_tasks.py\", line 118, in __exit__\n",
       "    raise TimeoutError\n",
       "TimeoutError\n"
      ]
     },
     "metadata": {},
     "output_type": "display_data"
    },
    {
     "data": {
      "text/html": [
       "<pre style=\"white-space:pre;overflow-x:auto;line-height:normal;font-family:Menlo,'DejaVu Sans Mono',consolas,'Courier New',monospace\">09:33:25.788 | <span style=\"color: #d70000; text-decoration-color: #d70000\">ERROR</span>   | Task run 'get_data-e6feb297-0' - Finished in state TimedOut('Task run exceeded timeout of 1.0 seconds Traceback (most recent call last):\\n  File \"/Users/khuyen/book/venv/lib/python3.9/site-packages/prefect/engine.py\", line 1239, in orchestrate_task_run\\n    result = await run_sync(task.fn, *args, **kwargs)\\n  File \"/Users/khuyen/book/venv/lib/python3.9/site-packages/prefect/utilities/asyncutils.py\", line 128, in run_sync_in_interruptible_worker_thread\\n    tg.start_soon(\\n  File \"/Users/khuyen/book/venv/lib/python3.9/site-packages/anyio/_backends/_asyncio.py\", line 658, in __aexit__\\n    raise <span style=\"color: #d7d700; text-decoration-color: #d7d700\">Cancelled</span>Error\\nasyncio.exceptions.<span style=\"color: #d7d700; text-decoration-color: #d7d700\">Cancelled</span>Error\\n\\nDuring handling of the above exception, another exception occurred:\\n\\nTimeoutError\\n', type=FAILED)\n",
       "</pre>\n"
      ],
      "text/plain": [
       "09:33:25.788 | \u001b[38;5;160mERROR\u001b[0m   | Task run 'get_data-e6feb297-0' - Finished in state TimedOut('Task run exceeded timeout of 1.0 seconds Traceback (most recent call last):\\n  File \"/Users/khuyen/book/venv/lib/python3.9/site-packages/prefect/engine.py\", line 1239, in orchestrate_task_run\\n    result = await run_sync(task.fn, *args, **kwargs)\\n  File \"/Users/khuyen/book/venv/lib/python3.9/site-packages/prefect/utilities/asyncutils.py\", line 128, in run_sync_in_interruptible_worker_thread\\n    tg.start_soon(\\n  File \"/Users/khuyen/book/venv/lib/python3.9/site-packages/anyio/_backends/_asyncio.py\", line 658, in __aexit__\\n    raise \u001b[38;5;184mCancelled\u001b[0mError\\nasyncio.exceptions.\u001b[38;5;184mCancelled\u001b[0mError\\n\\nDuring handling of the above exception, another exception occurred:\\n\\nTimeoutError\\n', type=FAILED)\n"
      ]
     },
     "metadata": {},
     "output_type": "display_data"
    },
    {
     "data": {
      "text/html": [
       "<pre style=\"white-space:pre;overflow-x:auto;line-height:normal;font-family:Menlo,'DejaVu Sans Mono',consolas,'Courier New',monospace\">09:33:25.790 | <span style=\"color: #d70000; text-decoration-color: #d70000\">ERROR</span>   | Flow run 'arrogant-goshawk' - Encountered exception during execution:\n",
       "Traceback (most recent call last):\n",
       "  File \"/Users/khuyen/book/venv/lib/python3.9/site-packages/prefect/engine.py\", line 1239, in orchestrate_task_run\n",
       "    result = await run_sync(task.fn, *args, **kwargs)\n",
       "  File \"/Users/khuyen/book/venv/lib/python3.9/site-packages/prefect/utilities/asyncutils.py\", line 128, in run_sync_in_interruptible_worker_thread\n",
       "    tg.start_soon(\n",
       "  File \"/Users/khuyen/book/venv/lib/python3.9/site-packages/anyio/_backends/_asyncio.py\", line 658, in __aexit__\n",
       "    raise <span style=\"color: #d7d700; text-decoration-color: #d7d700\">Cancelled</span>Error\n",
       "asyncio.exceptions.<span style=\"color: #d7d700; text-decoration-color: #d7d700\">Cancelled</span>Error\n",
       "\n",
       "During handling of the above exception, another exception occurred:\n",
       "\n",
       "Traceback (most recent call last):\n",
       "  File \"/Users/khuyen/book/venv/lib/python3.9/site-packages/prefect/engine.py\", line 610, in orchestrate_flow_run\n",
       "    result = await run_sync(flow_call)\n",
       "  File \"/Users/khuyen/book/venv/lib/python3.9/site-packages/prefect/utilities/asyncutils.py\", line 68, in run_sync_in_worker_thread\n",
       "    return await anyio.to_thread.run_sync(call, cancellable=True)\n",
       "  File \"/Users/khuyen/book/venv/lib/python3.9/site-packages/anyio/to_thread.py\", line 31, in run_sync\n",
       "    return await get_asynclib().run_sync_in_worker_thread(\n",
       "  File \"/Users/khuyen/book/venv/lib/python3.9/site-packages/anyio/_backends/_asyncio.py\", line 937, in run_sync_in_worker_thread\n",
       "    return await future\n",
       "  File \"/Users/khuyen/book/venv/lib/python3.9/site-packages/anyio/_backends/_asyncio.py\", line 867, in run\n",
       "    result = context.run(func, *args)\n",
       "  File \"/var/folders/3z/svlh9jv14ps3j6cc964tbjg40000gq/T/ipykernel_83306/3092424982.py\", line 15, in main\n",
       "    res = get_data()\n",
       "  File \"/Users/khuyen/book/venv/lib/python3.9/site-packages/prefect/tasks.py\", line 360, in __call__\n",
       "    return enter_task_run_engine(\n",
       "  File \"/Users/khuyen/book/venv/lib/python3.9/site-packages/prefect/engine.py\", line 733, in enter_task_run_engine\n",
       "    return run_async_from_worker_thread(begin_run)\n",
       "  File \"/Users/khuyen/book/venv/lib/python3.9/site-packages/prefect/utilities/asyncutils.py\", line 148, in run_async_from_worker_thread\n",
       "    return anyio.from_thread.run(call)\n",
       "  File \"/Users/khuyen/book/venv/lib/python3.9/site-packages/anyio/from_thread.py\", line 49, in run\n",
       "    return asynclib.run_async_from_thread(func, *args)\n",
       "  File \"/Users/khuyen/book/venv/lib/python3.9/site-packages/anyio/_backends/_asyncio.py\", line 970, in run_async_from_thread\n",
       "    return f.result()\n",
       "  File \"/Library/Developer/CommandLineTools/Library/Frameworks/Python3.framework/Versions/3.9/lib/python3.9/concurrent/futures/_base.py\", line 445, in result\n",
       "    return self.__get_result()\n",
       "  File \"/Library/Developer/CommandLineTools/Library/Frameworks/Python3.framework/Versions/3.9/lib/python3.9/concurrent/futures/_base.py\", line 390, in __get_result\n",
       "    raise self._exception\n",
       "  File \"/Users/khuyen/book/venv/lib/python3.9/site-packages/prefect/engine.py\", line 874, in get_task_call_return_value\n",
       "    return await future._result()\n",
       "  File \"/Users/khuyen/book/venv/lib/python3.9/site-packages/prefect/futures.py\", line 237, in _result\n",
       "    return await final_state.result(raise_on_failure=raise_on_failure, fetch=True)\n",
       "  File \"/Users/khuyen/book/venv/lib/python3.9/site-packages/prefect/states.py\", line 74, in _get_state_result\n",
       "    raise await get_state_exception(state)\n",
       "  File \"/Users/khuyen/book/venv/lib/python3.9/site-packages/prefect/engine.py\", line 1239, in orchestrate_task_run\n",
       "    result = await run_sync(task.fn, *args, **kwargs)\n",
       "  File \"/Users/khuyen/book/venv/lib/python3.9/site-packages/anyio/_core/_tasks.py\", line 118, in __exit__\n",
       "    raise TimeoutError\n",
       "TimeoutError\n",
       "</pre>\n"
      ],
      "text/plain": [
       "09:33:25.790 | \u001b[38;5;160mERROR\u001b[0m   | Flow run 'arrogant-goshawk' - Encountered exception during execution:\n",
       "Traceback (most recent call last):\n",
       "  File \"/Users/khuyen/book/venv/lib/python3.9/site-packages/prefect/engine.py\", line 1239, in orchestrate_task_run\n",
       "    result = await run_sync(task.fn, *args, **kwargs)\n",
       "  File \"/Users/khuyen/book/venv/lib/python3.9/site-packages/prefect/utilities/asyncutils.py\", line 128, in run_sync_in_interruptible_worker_thread\n",
       "    tg.start_soon(\n",
       "  File \"/Users/khuyen/book/venv/lib/python3.9/site-packages/anyio/_backends/_asyncio.py\", line 658, in __aexit__\n",
       "    raise \u001b[38;5;184mCancelled\u001b[0mError\n",
       "asyncio.exceptions.\u001b[38;5;184mCancelled\u001b[0mError\n",
       "\n",
       "During handling of the above exception, another exception occurred:\n",
       "\n",
       "Traceback (most recent call last):\n",
       "  File \"/Users/khuyen/book/venv/lib/python3.9/site-packages/prefect/engine.py\", line 610, in orchestrate_flow_run\n",
       "    result = await run_sync(flow_call)\n",
       "  File \"/Users/khuyen/book/venv/lib/python3.9/site-packages/prefect/utilities/asyncutils.py\", line 68, in run_sync_in_worker_thread\n",
       "    return await anyio.to_thread.run_sync(call, cancellable=True)\n",
       "  File \"/Users/khuyen/book/venv/lib/python3.9/site-packages/anyio/to_thread.py\", line 31, in run_sync\n",
       "    return await get_asynclib().run_sync_in_worker_thread(\n",
       "  File \"/Users/khuyen/book/venv/lib/python3.9/site-packages/anyio/_backends/_asyncio.py\", line 937, in run_sync_in_worker_thread\n",
       "    return await future\n",
       "  File \"/Users/khuyen/book/venv/lib/python3.9/site-packages/anyio/_backends/_asyncio.py\", line 867, in run\n",
       "    result = context.run(func, *args)\n",
       "  File \"/var/folders/3z/svlh9jv14ps3j6cc964tbjg40000gq/T/ipykernel_83306/3092424982.py\", line 15, in main\n",
       "    res = get_data()\n",
       "  File \"/Users/khuyen/book/venv/lib/python3.9/site-packages/prefect/tasks.py\", line 360, in __call__\n",
       "    return enter_task_run_engine(\n",
       "  File \"/Users/khuyen/book/venv/lib/python3.9/site-packages/prefect/engine.py\", line 733, in enter_task_run_engine\n",
       "    return run_async_from_worker_thread(begin_run)\n",
       "  File \"/Users/khuyen/book/venv/lib/python3.9/site-packages/prefect/utilities/asyncutils.py\", line 148, in run_async_from_worker_thread\n",
       "    return anyio.from_thread.run(call)\n",
       "  File \"/Users/khuyen/book/venv/lib/python3.9/site-packages/anyio/from_thread.py\", line 49, in run\n",
       "    return asynclib.run_async_from_thread(func, *args)\n",
       "  File \"/Users/khuyen/book/venv/lib/python3.9/site-packages/anyio/_backends/_asyncio.py\", line 970, in run_async_from_thread\n",
       "    return f.result()\n",
       "  File \"/Library/Developer/CommandLineTools/Library/Frameworks/Python3.framework/Versions/3.9/lib/python3.9/concurrent/futures/_base.py\", line 445, in result\n",
       "    return self.__get_result()\n",
       "  File \"/Library/Developer/CommandLineTools/Library/Frameworks/Python3.framework/Versions/3.9/lib/python3.9/concurrent/futures/_base.py\", line 390, in __get_result\n",
       "    raise self._exception\n",
       "  File \"/Users/khuyen/book/venv/lib/python3.9/site-packages/prefect/engine.py\", line 874, in get_task_call_return_value\n",
       "    return await future._result()\n",
       "  File \"/Users/khuyen/book/venv/lib/python3.9/site-packages/prefect/futures.py\", line 237, in _result\n",
       "    return await final_state.result(raise_on_failure=raise_on_failure, fetch=True)\n",
       "  File \"/Users/khuyen/book/venv/lib/python3.9/site-packages/prefect/states.py\", line 74, in _get_state_result\n",
       "    raise await get_state_exception(state)\n",
       "  File \"/Users/khuyen/book/venv/lib/python3.9/site-packages/prefect/engine.py\", line 1239, in orchestrate_task_run\n",
       "    result = await run_sync(task.fn, *args, **kwargs)\n",
       "  File \"/Users/khuyen/book/venv/lib/python3.9/site-packages/anyio/_core/_tasks.py\", line 118, in __exit__\n",
       "    raise TimeoutError\n",
       "TimeoutError\n"
      ]
     },
     "metadata": {},
     "output_type": "display_data"
    },
    {
     "data": {
      "text/html": [
       "<pre style=\"white-space:pre;overflow-x:auto;line-height:normal;font-family:Menlo,'DejaVu Sans Mono',consolas,'Courier New',monospace\">09:33:25.949 | <span style=\"color: #d70000; text-decoration-color: #d70000\">ERROR</span>   | Flow run 'arrogant-goshawk' - Finished in state <span style=\"color: #d70000; text-decoration-color: #d70000\">Failed</span>('Flow run encountered an exception. Traceback (most recent call last):\\n  File \"/Users/khuyen/book/venv/lib/python3.9/site-packages/prefect/engine.py\", line 1239, in orchestrate_task_run\\n    result = await run_sync(task.fn, *args, **kwargs)\\n  File \"/Users/khuyen/book/venv/lib/python3.9/site-packages/prefect/utilities/asyncutils.py\", line 128, in run_sync_in_interruptible_worker_thread\\n    tg.start_soon(\\n  File \"/Users/khuyen/book/venv/lib/python3.9/site-packages/anyio/_backends/_asyncio.py\", line 658, in __aexit__\\n    raise <span style=\"color: #d7d700; text-decoration-color: #d7d700\">Cancelled</span>Error\\nasyncio.exceptions.<span style=\"color: #d7d700; text-decoration-color: #d7d700\">Cancelled</span>Error\\n\\nDuring handling of the above exception, another exception occurred:\\n\\nTimeoutError\\n')\n",
       "</pre>\n"
      ],
      "text/plain": [
       "09:33:25.949 | \u001b[38;5;160mERROR\u001b[0m   | Flow run 'arrogant-goshawk' - Finished in state \u001b[38;5;160mFailed\u001b[0m('Flow run encountered an exception. Traceback (most recent call last):\\n  File \"/Users/khuyen/book/venv/lib/python3.9/site-packages/prefect/engine.py\", line 1239, in orchestrate_task_run\\n    result = await run_sync(task.fn, *args, **kwargs)\\n  File \"/Users/khuyen/book/venv/lib/python3.9/site-packages/prefect/utilities/asyncutils.py\", line 128, in run_sync_in_interruptible_worker_thread\\n    tg.start_soon(\\n  File \"/Users/khuyen/book/venv/lib/python3.9/site-packages/anyio/_backends/_asyncio.py\", line 658, in __aexit__\\n    raise \u001b[38;5;184mCancelled\u001b[0mError\\nasyncio.exceptions.\u001b[38;5;184mCancelled\u001b[0mError\\n\\nDuring handling of the above exception, another exception occurred:\\n\\nTimeoutError\\n')\n"
      ]
     },
     "metadata": {},
     "output_type": "display_data"
    },
    {
     "ename": "TimeoutError",
     "evalue": "",
     "output_type": "error",
     "traceback": [
      "\u001b[0;31m---------------------------------------------------------------------------\u001b[0m",
      "\u001b[0;31mCancelledError\u001b[0m                            Traceback (most recent call last)",
      "File \u001b[0;32m~/book/venv/lib/python3.9/site-packages/prefect/engine.py:1239\u001b[0m, in \u001b[0;36morchestrate_task_run\u001b[0;34m(task, task_run, parameters, wait_for, result_factory, interruptible, client)\u001b[0m\n\u001b[1;32m   1234\u001b[0m                 run_sync \u001b[39m=\u001b[39m (\n\u001b[1;32m   1235\u001b[0m                     run_sync_in_interruptible_worker_thread\n\u001b[1;32m   1236\u001b[0m                     \u001b[39mif\u001b[39;00m interruptible \u001b[39mor\u001b[39;00m timeout_scope\n\u001b[1;32m   1237\u001b[0m                     \u001b[39melse\u001b[39;00m run_sync_in_worker_thread\n\u001b[1;32m   1238\u001b[0m                 )\n\u001b[0;32m-> 1239\u001b[0m                 result \u001b[39m=\u001b[39m \u001b[39mawait\u001b[39;00m run_sync(task\u001b[39m.\u001b[39mfn, \u001b[39m*\u001b[39margs, \u001b[39m*\u001b[39m\u001b[39m*\u001b[39mkwargs)\n\u001b[1;32m   1241\u001b[0m \u001b[39mexcept\u001b[39;00m \u001b[39mException\u001b[39;00m \u001b[39mas\u001b[39;00m exc:\n",
      "File \u001b[0;32m~/book/venv/lib/python3.9/site-packages/prefect/utilities/asyncutils.py:128\u001b[0m, in \u001b[0;36mrun_sync_in_interruptible_worker_thread\u001b[0;34m(__fn, *args, **kwargs)\u001b[0m\n\u001b[1;32m    127\u001b[0m     tg\u001b[39m.\u001b[39mstart_soon(send_interrupt_to_thread)\n\u001b[0;32m--> 128\u001b[0m     tg\u001b[39m.\u001b[39mstart_soon(\n\u001b[1;32m    129\u001b[0m         partial(\n\u001b[1;32m    130\u001b[0m             anyio\u001b[39m.\u001b[39mto_thread\u001b[39m.\u001b[39mrun_sync,\n\u001b[1;32m    131\u001b[0m             capture_worker_thread_and_result,\n\u001b[1;32m    132\u001b[0m             cancellable\u001b[39m=\u001b[39m\u001b[39mTrue\u001b[39;00m,\n\u001b[1;32m    133\u001b[0m         )\n\u001b[1;32m    134\u001b[0m     )\n\u001b[1;32m    136\u001b[0m \u001b[39massert\u001b[39;00m result \u001b[39mis\u001b[39;00m \u001b[39mnot\u001b[39;00m NotSet\n",
      "File \u001b[0;32m~/book/venv/lib/python3.9/site-packages/anyio/_backends/_asyncio.py:658\u001b[0m, in \u001b[0;36mTaskGroup.__aexit__\u001b[0;34m(self, exc_type, exc_val, exc_tb)\u001b[0m\n\u001b[1;32m    654\u001b[0m \u001b[39mif\u001b[39;00m \u001b[39mall\u001b[39m(\n\u001b[1;32m    655\u001b[0m     \u001b[39misinstance\u001b[39m(e, CancelledError) \u001b[39mand\u001b[39;00m \u001b[39mnot\u001b[39;00m e\u001b[39m.\u001b[39margs \u001b[39mfor\u001b[39;00m e \u001b[39min\u001b[39;00m exceptions\n\u001b[1;32m    656\u001b[0m ):\n\u001b[1;32m    657\u001b[0m     \u001b[39m# Tasks were cancelled natively, without a cancellation message\u001b[39;00m\n\u001b[0;32m--> 658\u001b[0m     \u001b[39mraise\u001b[39;00m CancelledError\n\u001b[1;32m    659\u001b[0m \u001b[39melse\u001b[39;00m:\n",
      "\u001b[0;31mCancelledError\u001b[0m: ",
      "\nDuring handling of the above exception, another exception occurred:\n",
      "\u001b[0;31mTimeoutError\u001b[0m                              Traceback (most recent call last)",
      "Cell \u001b[0;32mIn [2], line 19\u001b[0m\n\u001b[1;32m     16\u001b[0m     \u001b[39mreturn\u001b[39;00m process_data(res)\n\u001b[1;32m     18\u001b[0m \u001b[39mif\u001b[39;00m \u001b[39m__name__\u001b[39m \u001b[39m==\u001b[39m \u001b[39m\"\u001b[39m\u001b[39m__main__\u001b[39m\u001b[39m\"\u001b[39m:\n\u001b[0;32m---> 19\u001b[0m     main()\n",
      "File \u001b[0;32m~/book/venv/lib/python3.9/site-packages/prefect/flows.py:442\u001b[0m, in \u001b[0;36mFlow.__call__\u001b[0;34m(self, return_state, wait_for, *args, **kwargs)\u001b[0m\n\u001b[1;32m    438\u001b[0m parameters \u001b[39m=\u001b[39m get_call_parameters(\u001b[39mself\u001b[39m\u001b[39m.\u001b[39mfn, args, kwargs)\n\u001b[1;32m    440\u001b[0m return_type \u001b[39m=\u001b[39m \u001b[39m\"\u001b[39m\u001b[39mstate\u001b[39m\u001b[39m\"\u001b[39m \u001b[39mif\u001b[39;00m return_state \u001b[39melse\u001b[39;00m \u001b[39m\"\u001b[39m\u001b[39mresult\u001b[39m\u001b[39m\"\u001b[39m\n\u001b[0;32m--> 442\u001b[0m \u001b[39mreturn\u001b[39;00m enter_flow_run_engine_from_flow_call(\n\u001b[1;32m    443\u001b[0m     \u001b[39mself\u001b[39;49m,\n\u001b[1;32m    444\u001b[0m     parameters,\n\u001b[1;32m    445\u001b[0m     wait_for\u001b[39m=\u001b[39;49mwait_for,\n\u001b[1;32m    446\u001b[0m     return_type\u001b[39m=\u001b[39;49mreturn_type,\n\u001b[1;32m    447\u001b[0m )\n",
      "File \u001b[0;32m~/book/venv/lib/python3.9/site-packages/prefect/engine.py:154\u001b[0m, in \u001b[0;36menter_flow_run_engine_from_flow_call\u001b[0;34m(flow, parameters, wait_for, return_type)\u001b[0m\n\u001b[1;32m    150\u001b[0m \u001b[39melif\u001b[39;00m in_async_main_thread():\n\u001b[1;32m    151\u001b[0m     \u001b[39m# An event loop is already running and we must create a blocking portal to\u001b[39;00m\n\u001b[1;32m    152\u001b[0m     \u001b[39m# run async code from this synchronous context\u001b[39;00m\n\u001b[1;32m    153\u001b[0m     \u001b[39mwith\u001b[39;00m start_blocking_portal() \u001b[39mas\u001b[39;00m portal:\n\u001b[0;32m--> 154\u001b[0m         \u001b[39mreturn\u001b[39;00m portal\u001b[39m.\u001b[39;49mcall(begin_run)\n\u001b[1;32m    155\u001b[0m \u001b[39melse\u001b[39;00m:\n\u001b[1;32m    156\u001b[0m     \u001b[39m# An event loop is not running so we will create one\u001b[39;00m\n\u001b[1;32m    157\u001b[0m     \u001b[39mreturn\u001b[39;00m anyio\u001b[39m.\u001b[39mrun(begin_run)\n",
      "File \u001b[0;32m~/book/venv/lib/python3.9/site-packages/anyio/from_thread.py:283\u001b[0m, in \u001b[0;36mBlockingPortal.call\u001b[0;34m(self, func, *args)\u001b[0m\n\u001b[1;32m    268\u001b[0m \u001b[39mdef\u001b[39;00m \u001b[39mcall\u001b[39m(\n\u001b[1;32m    269\u001b[0m     \u001b[39mself\u001b[39m,\n\u001b[1;32m    270\u001b[0m     func: Callable[\u001b[39m.\u001b[39m\u001b[39m.\u001b[39m\u001b[39m.\u001b[39m, Union[Coroutine[Any, Any, T_Retval], T_Retval]],\n\u001b[1;32m    271\u001b[0m     \u001b[39m*\u001b[39margs: \u001b[39mobject\u001b[39m\n\u001b[1;32m    272\u001b[0m ) \u001b[39m-\u001b[39m\u001b[39m>\u001b[39m T_Retval:\n\u001b[1;32m    273\u001b[0m     \u001b[39m\"\"\"\u001b[39;00m\n\u001b[1;32m    274\u001b[0m \u001b[39m    Call the given function in the event loop thread.\u001b[39;00m\n\u001b[1;32m    275\u001b[0m \n\u001b[0;32m   (...)\u001b[0m\n\u001b[1;32m    281\u001b[0m \n\u001b[1;32m    282\u001b[0m \u001b[39m    \"\"\"\u001b[39;00m\n\u001b[0;32m--> 283\u001b[0m     \u001b[39mreturn\u001b[39;00m cast(T_Retval, \u001b[39mself\u001b[39;49m\u001b[39m.\u001b[39;49mstart_task_soon(func, \u001b[39m*\u001b[39;49margs)\u001b[39m.\u001b[39;49mresult())\n",
      "File \u001b[0;32m/Library/Developer/CommandLineTools/Library/Frameworks/Python3.framework/Versions/3.9/lib/python3.9/concurrent/futures/_base.py:445\u001b[0m, in \u001b[0;36mFuture.result\u001b[0;34m(self, timeout)\u001b[0m\n\u001b[1;32m    443\u001b[0m     \u001b[39mraise\u001b[39;00m CancelledError()\n\u001b[1;32m    444\u001b[0m \u001b[39melif\u001b[39;00m \u001b[39mself\u001b[39m\u001b[39m.\u001b[39m_state \u001b[39m==\u001b[39m FINISHED:\n\u001b[0;32m--> 445\u001b[0m     \u001b[39mreturn\u001b[39;00m \u001b[39mself\u001b[39;49m\u001b[39m.\u001b[39;49m__get_result()\n\u001b[1;32m    446\u001b[0m \u001b[39melse\u001b[39;00m:\n\u001b[1;32m    447\u001b[0m     \u001b[39mraise\u001b[39;00m \u001b[39mTimeoutError\u001b[39;00m()\n",
      "File \u001b[0;32m/Library/Developer/CommandLineTools/Library/Frameworks/Python3.framework/Versions/3.9/lib/python3.9/concurrent/futures/_base.py:390\u001b[0m, in \u001b[0;36mFuture.__get_result\u001b[0;34m(self)\u001b[0m\n\u001b[1;32m    388\u001b[0m \u001b[39mif\u001b[39;00m \u001b[39mself\u001b[39m\u001b[39m.\u001b[39m_exception:\n\u001b[1;32m    389\u001b[0m     \u001b[39mtry\u001b[39;00m:\n\u001b[0;32m--> 390\u001b[0m         \u001b[39mraise\u001b[39;00m \u001b[39mself\u001b[39m\u001b[39m.\u001b[39m_exception\n\u001b[1;32m    391\u001b[0m     \u001b[39mfinally\u001b[39;00m:\n\u001b[1;32m    392\u001b[0m         \u001b[39m# Break a reference cycle with the exception in self._exception\u001b[39;00m\n\u001b[1;32m    393\u001b[0m         \u001b[39mself\u001b[39m \u001b[39m=\u001b[39m \u001b[39mNone\u001b[39;00m\n",
      "File \u001b[0;32m~/book/venv/lib/python3.9/site-packages/anyio/from_thread.py:219\u001b[0m, in \u001b[0;36mBlockingPortal._call_func\u001b[0;34m(self, func, args, kwargs, future)\u001b[0m\n\u001b[1;32m    216\u001b[0m             \u001b[39melse\u001b[39;00m:\n\u001b[1;32m    217\u001b[0m                 future\u001b[39m.\u001b[39madd_done_callback(callback)\n\u001b[0;32m--> 219\u001b[0m             retval \u001b[39m=\u001b[39m \u001b[39mawait\u001b[39;00m retval\n\u001b[1;32m    220\u001b[0m \u001b[39mexcept\u001b[39;00m \u001b[39mself\u001b[39m\u001b[39m.\u001b[39m_cancelled_exc_class:\n\u001b[1;32m    221\u001b[0m     future\u001b[39m.\u001b[39mcancel()\n",
      "File \u001b[0;32m~/book/venv/lib/python3.9/site-packages/prefect/client/utilities.py:47\u001b[0m, in \u001b[0;36minject_client.<locals>.with_injected_client\u001b[0;34m(*args, **kwargs)\u001b[0m\n\u001b[1;32m     45\u001b[0m \u001b[39masync\u001b[39;00m \u001b[39mwith\u001b[39;00m client_context \u001b[39mas\u001b[39;00m new_client:\n\u001b[1;32m     46\u001b[0m     kwargs\u001b[39m.\u001b[39msetdefault(\u001b[39m\"\u001b[39m\u001b[39mclient\u001b[39m\u001b[39m\"\u001b[39m, new_client \u001b[39mor\u001b[39;00m client)\n\u001b[0;32m---> 47\u001b[0m     \u001b[39mreturn\u001b[39;00m \u001b[39mawait\u001b[39;00m fn(\u001b[39m*\u001b[39margs, \u001b[39m*\u001b[39m\u001b[39m*\u001b[39mkwargs)\n",
      "File \u001b[0;32m~/book/venv/lib/python3.9/site-packages/prefect/engine.py:237\u001b[0m, in \u001b[0;36mcreate_then_begin_flow_run\u001b[0;34m(flow, parameters, wait_for, return_type, client)\u001b[0m\n\u001b[1;32m    235\u001b[0m     \u001b[39mreturn\u001b[39;00m state\n\u001b[1;32m    236\u001b[0m \u001b[39melif\u001b[39;00m return_type \u001b[39m==\u001b[39m \u001b[39m\"\u001b[39m\u001b[39mresult\u001b[39m\u001b[39m\"\u001b[39m:\n\u001b[0;32m--> 237\u001b[0m     \u001b[39mreturn\u001b[39;00m \u001b[39mawait\u001b[39;00m state\u001b[39m.\u001b[39mresult(fetch\u001b[39m=\u001b[39m\u001b[39mTrue\u001b[39;00m)\n\u001b[1;32m    238\u001b[0m \u001b[39melse\u001b[39;00m:\n\u001b[1;32m    239\u001b[0m     \u001b[39mraise\u001b[39;00m \u001b[39mValueError\u001b[39;00m(\u001b[39mf\u001b[39m\u001b[39m\"\u001b[39m\u001b[39mInvalid return type for flow engine \u001b[39m\u001b[39m{\u001b[39;00mreturn_type\u001b[39m!r}\u001b[39;00m\u001b[39m.\u001b[39m\u001b[39m\"\u001b[39m)\n",
      "File \u001b[0;32m~/book/venv/lib/python3.9/site-packages/prefect/states.py:74\u001b[0m, in \u001b[0;36m_get_state_result\u001b[0;34m(state, raise_on_failure)\u001b[0m\n\u001b[1;32m     70\u001b[0m \u001b[39m\"\"\"\u001b[39;00m\n\u001b[1;32m     71\u001b[0m \u001b[39mInternal implementation for `get_state_result` without async backwards compatibility\u001b[39;00m\n\u001b[1;32m     72\u001b[0m \u001b[39m\"\"\"\u001b[39;00m\n\u001b[1;32m     73\u001b[0m \u001b[39mif\u001b[39;00m raise_on_failure \u001b[39mand\u001b[39;00m (state\u001b[39m.\u001b[39mis_crashed() \u001b[39mor\u001b[39;00m state\u001b[39m.\u001b[39mis_failed()):\n\u001b[0;32m---> 74\u001b[0m     \u001b[39mraise\u001b[39;00m \u001b[39mawait\u001b[39;00m get_state_exception(state)\n\u001b[1;32m     76\u001b[0m \u001b[39mif\u001b[39;00m \u001b[39misinstance\u001b[39m(state\u001b[39m.\u001b[39mdata, DataDocument):\n\u001b[1;32m     77\u001b[0m     result \u001b[39m=\u001b[39m result_from_state_with_data_document(\n\u001b[1;32m     78\u001b[0m         state, raise_on_failure\u001b[39m=\u001b[39mraise_on_failure\n\u001b[1;32m     79\u001b[0m     )\n",
      "File \u001b[0;32m~/book/venv/lib/python3.9/site-packages/prefect/engine.py:610\u001b[0m, in \u001b[0;36morchestrate_flow_run\u001b[0;34m(flow, flow_run, parameters, wait_for, interruptible, client, partial_flow_run_context)\u001b[0m\n\u001b[1;32m    604\u001b[0m             \u001b[39melse\u001b[39;00m:\n\u001b[1;32m    605\u001b[0m                 run_sync \u001b[39m=\u001b[39m (\n\u001b[1;32m    606\u001b[0m                     run_sync_in_interruptible_worker_thread\n\u001b[1;32m    607\u001b[0m                     \u001b[39mif\u001b[39;00m interruptible \u001b[39mor\u001b[39;00m timeout_scope\n\u001b[1;32m    608\u001b[0m                     \u001b[39melse\u001b[39;00m run_sync_in_worker_thread\n\u001b[1;32m    609\u001b[0m                 )\n\u001b[0;32m--> 610\u001b[0m                 result \u001b[39m=\u001b[39m \u001b[39mawait\u001b[39;00m run_sync(flow_call)\n\u001b[1;32m    612\u001b[0m         waited_for_task_runs \u001b[39m=\u001b[39m \u001b[39mawait\u001b[39;00m wait_for_task_runs_and_report_crashes(\n\u001b[1;32m    613\u001b[0m             flow_run_context\u001b[39m.\u001b[39mtask_run_futures, client\u001b[39m=\u001b[39mclient\n\u001b[1;32m    614\u001b[0m         )\n\u001b[1;32m    616\u001b[0m \u001b[39mexcept\u001b[39;00m \u001b[39mException\u001b[39;00m \u001b[39mas\u001b[39;00m exc:\n",
      "File \u001b[0;32m~/book/venv/lib/python3.9/site-packages/prefect/utilities/asyncutils.py:68\u001b[0m, in \u001b[0;36mrun_sync_in_worker_thread\u001b[0;34m(__fn, *args, **kwargs)\u001b[0m\n\u001b[1;32m     57\u001b[0m \u001b[39m\"\"\"\u001b[39;00m\n\u001b[1;32m     58\u001b[0m \u001b[39mRuns a sync function in a new worker thread so that the main thread's event loop\u001b[39;00m\n\u001b[1;32m     59\u001b[0m \u001b[39mis not blocked\u001b[39;00m\n\u001b[0;32m   (...)\u001b[0m\n\u001b[1;32m     65\u001b[0m \u001b[39mthread may continue running — the outcome will just be ignored.\u001b[39;00m\n\u001b[1;32m     66\u001b[0m \u001b[39m\"\"\"\u001b[39;00m\n\u001b[1;32m     67\u001b[0m call \u001b[39m=\u001b[39m partial(__fn, \u001b[39m*\u001b[39margs, \u001b[39m*\u001b[39m\u001b[39m*\u001b[39mkwargs)\n\u001b[0;32m---> 68\u001b[0m \u001b[39mreturn\u001b[39;00m \u001b[39mawait\u001b[39;00m anyio\u001b[39m.\u001b[39mto_thread\u001b[39m.\u001b[39mrun_sync(call, cancellable\u001b[39m=\u001b[39m\u001b[39mTrue\u001b[39;00m)\n",
      "File \u001b[0;32m~/book/venv/lib/python3.9/site-packages/anyio/to_thread.py:31\u001b[0m, in \u001b[0;36mrun_sync\u001b[0;34m(func, cancellable, limiter, *args)\u001b[0m\n\u001b[1;32m     10\u001b[0m \u001b[39masync\u001b[39;00m \u001b[39mdef\u001b[39;00m \u001b[39mrun_sync\u001b[39m(\n\u001b[1;32m     11\u001b[0m     func: Callable[\u001b[39m.\u001b[39m\u001b[39m.\u001b[39m\u001b[39m.\u001b[39m, T_Retval],\n\u001b[1;32m     12\u001b[0m     \u001b[39m*\u001b[39margs: \u001b[39mobject\u001b[39m,\n\u001b[1;32m     13\u001b[0m     cancellable: \u001b[39mbool\u001b[39m \u001b[39m=\u001b[39m \u001b[39mFalse\u001b[39;00m,\n\u001b[1;32m     14\u001b[0m     limiter: Optional[CapacityLimiter] \u001b[39m=\u001b[39m \u001b[39mNone\u001b[39;00m\n\u001b[1;32m     15\u001b[0m ) \u001b[39m-\u001b[39m\u001b[39m>\u001b[39m T_Retval:\n\u001b[1;32m     16\u001b[0m     \u001b[39m\"\"\"\u001b[39;00m\n\u001b[1;32m     17\u001b[0m \u001b[39m    Call the given function with the given arguments in a worker thread.\u001b[39;00m\n\u001b[1;32m     18\u001b[0m \n\u001b[0;32m   (...)\u001b[0m\n\u001b[1;32m     29\u001b[0m \n\u001b[1;32m     30\u001b[0m \u001b[39m    \"\"\"\u001b[39;00m\n\u001b[0;32m---> 31\u001b[0m     \u001b[39mreturn\u001b[39;00m \u001b[39mawait\u001b[39;00m get_asynclib()\u001b[39m.\u001b[39mrun_sync_in_worker_thread(\n\u001b[1;32m     32\u001b[0m         func, \u001b[39m*\u001b[39margs, cancellable\u001b[39m=\u001b[39mcancellable, limiter\u001b[39m=\u001b[39mlimiter\n\u001b[1;32m     33\u001b[0m     )\n",
      "File \u001b[0;32m~/book/venv/lib/python3.9/site-packages/anyio/_backends/_asyncio.py:937\u001b[0m, in \u001b[0;36mrun_sync_in_worker_thread\u001b[0;34m(func, cancellable, limiter, *args)\u001b[0m\n\u001b[1;32m    935\u001b[0m context\u001b[39m.\u001b[39mrun(sniffio\u001b[39m.\u001b[39mcurrent_async_library_cvar\u001b[39m.\u001b[39mset, \u001b[39mNone\u001b[39;00m)\n\u001b[1;32m    936\u001b[0m worker\u001b[39m.\u001b[39mqueue\u001b[39m.\u001b[39mput_nowait((context, func, args, future))\n\u001b[0;32m--> 937\u001b[0m \u001b[39mreturn\u001b[39;00m \u001b[39mawait\u001b[39;00m future\n",
      "File \u001b[0;32m~/book/venv/lib/python3.9/site-packages/anyio/_backends/_asyncio.py:867\u001b[0m, in \u001b[0;36mWorkerThread.run\u001b[0;34m(self)\u001b[0m\n\u001b[1;32m    865\u001b[0m exception: Optional[\u001b[39mBaseException\u001b[39;00m] \u001b[39m=\u001b[39m \u001b[39mNone\u001b[39;00m\n\u001b[1;32m    866\u001b[0m \u001b[39mtry\u001b[39;00m:\n\u001b[0;32m--> 867\u001b[0m     result \u001b[39m=\u001b[39m context\u001b[39m.\u001b[39;49mrun(func, \u001b[39m*\u001b[39;49margs)\n\u001b[1;32m    868\u001b[0m \u001b[39mexcept\u001b[39;00m \u001b[39mBaseException\u001b[39;00m \u001b[39mas\u001b[39;00m exc:\n\u001b[1;32m    869\u001b[0m     exception \u001b[39m=\u001b[39m exc\n",
      "Cell \u001b[0;32mIn [2], line 15\u001b[0m, in \u001b[0;36mmain\u001b[0;34m()\u001b[0m\n\u001b[1;32m     13\u001b[0m \u001b[39m@flow\u001b[39m\n\u001b[1;32m     14\u001b[0m \u001b[39mdef\u001b[39;00m \u001b[39mmain\u001b[39m():\n\u001b[0;32m---> 15\u001b[0m     res \u001b[39m=\u001b[39m get_data()\n\u001b[1;32m     16\u001b[0m     \u001b[39mreturn\u001b[39;00m process_data(res)\n",
      "File \u001b[0;32m~/book/venv/lib/python3.9/site-packages/prefect/tasks.py:360\u001b[0m, in \u001b[0;36mTask.__call__\u001b[0;34m(self, return_state, wait_for, *args, **kwargs)\u001b[0m\n\u001b[1;32m    356\u001b[0m parameters \u001b[39m=\u001b[39m get_call_parameters(\u001b[39mself\u001b[39m\u001b[39m.\u001b[39mfn, args, kwargs)\n\u001b[1;32m    358\u001b[0m return_type \u001b[39m=\u001b[39m \u001b[39m\"\u001b[39m\u001b[39mstate\u001b[39m\u001b[39m\"\u001b[39m \u001b[39mif\u001b[39;00m return_state \u001b[39melse\u001b[39;00m \u001b[39m\"\u001b[39m\u001b[39mresult\u001b[39m\u001b[39m\"\u001b[39m\n\u001b[0;32m--> 360\u001b[0m \u001b[39mreturn\u001b[39;00m enter_task_run_engine(\n\u001b[1;32m    361\u001b[0m     \u001b[39mself\u001b[39;49m,\n\u001b[1;32m    362\u001b[0m     parameters\u001b[39m=\u001b[39;49mparameters,\n\u001b[1;32m    363\u001b[0m     wait_for\u001b[39m=\u001b[39;49mwait_for,\n\u001b[1;32m    364\u001b[0m     task_runner\u001b[39m=\u001b[39;49mSequentialTaskRunner(),\n\u001b[1;32m    365\u001b[0m     return_type\u001b[39m=\u001b[39;49mreturn_type,\n\u001b[1;32m    366\u001b[0m     mapped\u001b[39m=\u001b[39;49m\u001b[39mFalse\u001b[39;49;00m,\n\u001b[1;32m    367\u001b[0m )\n",
      "File \u001b[0;32m~/book/venv/lib/python3.9/site-packages/prefect/engine.py:733\u001b[0m, in \u001b[0;36menter_task_run_engine\u001b[0;34m(task, parameters, wait_for, return_type, task_runner, mapped)\u001b[0m\n\u001b[1;32m    731\u001b[0m \u001b[39m# Async or sync task run in sync flow run\u001b[39;00m\n\u001b[1;32m    732\u001b[0m \u001b[39melif\u001b[39;00m \u001b[39mnot\u001b[39;00m flow_run_context\u001b[39m.\u001b[39mflow\u001b[39m.\u001b[39misasync:\n\u001b[0;32m--> 733\u001b[0m     \u001b[39mreturn\u001b[39;00m run_async_from_worker_thread(begin_run)\n\u001b[1;32m    735\u001b[0m \u001b[39m# Sync task run in async flow run\u001b[39;00m\n\u001b[1;32m    736\u001b[0m \u001b[39melse\u001b[39;00m:\n\u001b[1;32m    737\u001b[0m     \u001b[39m# Call out to the sync portal since we are not in a worker thread\u001b[39;00m\n\u001b[1;32m    738\u001b[0m     \u001b[39mreturn\u001b[39;00m flow_run_context\u001b[39m.\u001b[39msync_portal\u001b[39m.\u001b[39mcall(begin_run)\n",
      "File \u001b[0;32m~/book/venv/lib/python3.9/site-packages/prefect/utilities/asyncutils.py:148\u001b[0m, in \u001b[0;36mrun_async_from_worker_thread\u001b[0;34m(__fn, *args, **kwargs)\u001b[0m\n\u001b[1;32m    143\u001b[0m \u001b[39m\"\"\"\u001b[39;00m\n\u001b[1;32m    144\u001b[0m \u001b[39mRuns an async function in the main thread's event loop, blocking the worker\u001b[39;00m\n\u001b[1;32m    145\u001b[0m \u001b[39mthread until completion\u001b[39;00m\n\u001b[1;32m    146\u001b[0m \u001b[39m\"\"\"\u001b[39;00m\n\u001b[1;32m    147\u001b[0m call \u001b[39m=\u001b[39m partial(__fn, \u001b[39m*\u001b[39margs, \u001b[39m*\u001b[39m\u001b[39m*\u001b[39mkwargs)\n\u001b[0;32m--> 148\u001b[0m \u001b[39mreturn\u001b[39;00m anyio\u001b[39m.\u001b[39;49mfrom_thread\u001b[39m.\u001b[39;49mrun(call)\n",
      "File \u001b[0;32m~/book/venv/lib/python3.9/site-packages/anyio/from_thread.py:49\u001b[0m, in \u001b[0;36mrun\u001b[0;34m(func, *args)\u001b[0m\n\u001b[1;32m     46\u001b[0m \u001b[39mexcept\u001b[39;00m \u001b[39mAttributeError\u001b[39;00m:\n\u001b[1;32m     47\u001b[0m     \u001b[39mraise\u001b[39;00m \u001b[39mRuntimeError\u001b[39;00m(\u001b[39m\"\u001b[39m\u001b[39mThis function can only be run from an AnyIO worker thread\u001b[39m\u001b[39m\"\u001b[39m)\n\u001b[0;32m---> 49\u001b[0m \u001b[39mreturn\u001b[39;00m asynclib\u001b[39m.\u001b[39;49mrun_async_from_thread(func, \u001b[39m*\u001b[39;49margs)\n",
      "File \u001b[0;32m~/book/venv/lib/python3.9/site-packages/anyio/_backends/_asyncio.py:970\u001b[0m, in \u001b[0;36mrun_async_from_thread\u001b[0;34m(func, *args)\u001b[0m\n\u001b[1;32m    964\u001b[0m \u001b[39mdef\u001b[39;00m \u001b[39mrun_async_from_thread\u001b[39m(\n\u001b[1;32m    965\u001b[0m     func: Callable[\u001b[39m.\u001b[39m\u001b[39m.\u001b[39m\u001b[39m.\u001b[39m, Coroutine[Any, Any, T_Retval]], \u001b[39m*\u001b[39margs: \u001b[39mobject\u001b[39m\n\u001b[1;32m    966\u001b[0m ) \u001b[39m-\u001b[39m\u001b[39m>\u001b[39m T_Retval:\n\u001b[1;32m    967\u001b[0m     f: concurrent\u001b[39m.\u001b[39mfutures\u001b[39m.\u001b[39mFuture[T_Retval] \u001b[39m=\u001b[39m asyncio\u001b[39m.\u001b[39mrun_coroutine_threadsafe(\n\u001b[1;32m    968\u001b[0m         func(\u001b[39m*\u001b[39margs), threadlocals\u001b[39m.\u001b[39mloop\n\u001b[1;32m    969\u001b[0m     )\n\u001b[0;32m--> 970\u001b[0m     \u001b[39mreturn\u001b[39;00m f\u001b[39m.\u001b[39;49mresult()\n",
      "File \u001b[0;32m/Library/Developer/CommandLineTools/Library/Frameworks/Python3.framework/Versions/3.9/lib/python3.9/concurrent/futures/_base.py:445\u001b[0m, in \u001b[0;36mFuture.result\u001b[0;34m(self, timeout)\u001b[0m\n\u001b[1;32m    443\u001b[0m     \u001b[39mraise\u001b[39;00m CancelledError()\n\u001b[1;32m    444\u001b[0m \u001b[39melif\u001b[39;00m \u001b[39mself\u001b[39m\u001b[39m.\u001b[39m_state \u001b[39m==\u001b[39m FINISHED:\n\u001b[0;32m--> 445\u001b[0m     \u001b[39mreturn\u001b[39;00m \u001b[39mself\u001b[39;49m\u001b[39m.\u001b[39;49m__get_result()\n\u001b[1;32m    446\u001b[0m \u001b[39melse\u001b[39;00m:\n\u001b[1;32m    447\u001b[0m     \u001b[39mraise\u001b[39;00m \u001b[39mTimeoutError\u001b[39;00m()\n",
      "File \u001b[0;32m/Library/Developer/CommandLineTools/Library/Frameworks/Python3.framework/Versions/3.9/lib/python3.9/concurrent/futures/_base.py:390\u001b[0m, in \u001b[0;36mFuture.__get_result\u001b[0;34m(self)\u001b[0m\n\u001b[1;32m    388\u001b[0m \u001b[39mif\u001b[39;00m \u001b[39mself\u001b[39m\u001b[39m.\u001b[39m_exception:\n\u001b[1;32m    389\u001b[0m     \u001b[39mtry\u001b[39;00m:\n\u001b[0;32m--> 390\u001b[0m         \u001b[39mraise\u001b[39;00m \u001b[39mself\u001b[39m\u001b[39m.\u001b[39m_exception\n\u001b[1;32m    391\u001b[0m     \u001b[39mfinally\u001b[39;00m:\n\u001b[1;32m    392\u001b[0m         \u001b[39m# Break a reference cycle with the exception in self._exception\u001b[39;00m\n\u001b[1;32m    393\u001b[0m         \u001b[39mself\u001b[39m \u001b[39m=\u001b[39m \u001b[39mNone\u001b[39;00m\n",
      "File \u001b[0;32m~/book/venv/lib/python3.9/site-packages/prefect/engine.py:874\u001b[0m, in \u001b[0;36mget_task_call_return_value\u001b[0;34m(task, flow_run_context, parameters, wait_for, return_type, task_runner, extra_task_inputs)\u001b[0m\n\u001b[1;32m    872\u001b[0m     \u001b[39mreturn\u001b[39;00m \u001b[39mawait\u001b[39;00m future\u001b[39m.\u001b[39m_wait()\n\u001b[1;32m    873\u001b[0m \u001b[39melif\u001b[39;00m return_type \u001b[39m==\u001b[39m \u001b[39m\"\u001b[39m\u001b[39mresult\u001b[39m\u001b[39m\"\u001b[39m:\n\u001b[0;32m--> 874\u001b[0m     \u001b[39mreturn\u001b[39;00m \u001b[39mawait\u001b[39;00m future\u001b[39m.\u001b[39m_result()\n\u001b[1;32m    875\u001b[0m \u001b[39melse\u001b[39;00m:\n\u001b[1;32m    876\u001b[0m     \u001b[39mraise\u001b[39;00m \u001b[39mValueError\u001b[39;00m(\u001b[39mf\u001b[39m\u001b[39m\"\u001b[39m\u001b[39mInvalid return type for task engine \u001b[39m\u001b[39m{\u001b[39;00mreturn_type\u001b[39m!r}\u001b[39;00m\u001b[39m.\u001b[39m\u001b[39m\"\u001b[39m)\n",
      "File \u001b[0;32m~/book/venv/lib/python3.9/site-packages/prefect/futures.py:237\u001b[0m, in \u001b[0;36mPrefectFuture._result\u001b[0;34m(self, timeout, raise_on_failure)\u001b[0m\n\u001b[1;32m    235\u001b[0m \u001b[39mif\u001b[39;00m \u001b[39mnot\u001b[39;00m final_state:\n\u001b[1;32m    236\u001b[0m     \u001b[39mraise\u001b[39;00m \u001b[39mTimeoutError\u001b[39;00m(\u001b[39m\"\u001b[39m\u001b[39mCall timed out before task finished.\u001b[39m\u001b[39m\"\u001b[39m)\n\u001b[0;32m--> 237\u001b[0m \u001b[39mreturn\u001b[39;00m \u001b[39mawait\u001b[39;00m final_state\u001b[39m.\u001b[39mresult(raise_on_failure\u001b[39m=\u001b[39mraise_on_failure, fetch\u001b[39m=\u001b[39m\u001b[39mTrue\u001b[39;00m)\n",
      "File \u001b[0;32m~/book/venv/lib/python3.9/site-packages/prefect/states.py:74\u001b[0m, in \u001b[0;36m_get_state_result\u001b[0;34m(state, raise_on_failure)\u001b[0m\n\u001b[1;32m     70\u001b[0m \u001b[39m\"\"\"\u001b[39;00m\n\u001b[1;32m     71\u001b[0m \u001b[39mInternal implementation for `get_state_result` without async backwards compatibility\u001b[39;00m\n\u001b[1;32m     72\u001b[0m \u001b[39m\"\"\"\u001b[39;00m\n\u001b[1;32m     73\u001b[0m \u001b[39mif\u001b[39;00m raise_on_failure \u001b[39mand\u001b[39;00m (state\u001b[39m.\u001b[39mis_crashed() \u001b[39mor\u001b[39;00m state\u001b[39m.\u001b[39mis_failed()):\n\u001b[0;32m---> 74\u001b[0m     \u001b[39mraise\u001b[39;00m \u001b[39mawait\u001b[39;00m get_state_exception(state)\n\u001b[1;32m     76\u001b[0m \u001b[39mif\u001b[39;00m \u001b[39misinstance\u001b[39m(state\u001b[39m.\u001b[39mdata, DataDocument):\n\u001b[1;32m     77\u001b[0m     result \u001b[39m=\u001b[39m result_from_state_with_data_document(\n\u001b[1;32m     78\u001b[0m         state, raise_on_failure\u001b[39m=\u001b[39mraise_on_failure\n\u001b[1;32m     79\u001b[0m     )\n",
      "File \u001b[0;32m~/book/venv/lib/python3.9/site-packages/prefect/engine.py:1239\u001b[0m, in \u001b[0;36morchestrate_task_run\u001b[0;34m(task, task_run, parameters, wait_for, result_factory, interruptible, client)\u001b[0m\n\u001b[1;32m   1233\u001b[0m             \u001b[39melse\u001b[39;00m:\n\u001b[1;32m   1234\u001b[0m                 run_sync \u001b[39m=\u001b[39m (\n\u001b[1;32m   1235\u001b[0m                     run_sync_in_interruptible_worker_thread\n\u001b[1;32m   1236\u001b[0m                     \u001b[39mif\u001b[39;00m interruptible \u001b[39mor\u001b[39;00m timeout_scope\n\u001b[1;32m   1237\u001b[0m                     \u001b[39melse\u001b[39;00m run_sync_in_worker_thread\n\u001b[1;32m   1238\u001b[0m                 )\n\u001b[0;32m-> 1239\u001b[0m                 result \u001b[39m=\u001b[39m \u001b[39mawait\u001b[39;00m run_sync(task\u001b[39m.\u001b[39mfn, \u001b[39m*\u001b[39margs, \u001b[39m*\u001b[39m\u001b[39m*\u001b[39mkwargs)\n\u001b[1;32m   1241\u001b[0m \u001b[39mexcept\u001b[39;00m \u001b[39mException\u001b[39;00m \u001b[39mas\u001b[39;00m exc:\n\u001b[1;32m   1242\u001b[0m     name \u001b[39m=\u001b[39m message \u001b[39m=\u001b[39m \u001b[39mNone\u001b[39;00m\n",
      "File \u001b[0;32m~/book/venv/lib/python3.9/site-packages/anyio/_core/_tasks.py:118\u001b[0m, in \u001b[0;36mFailAfterContextManager.__exit__\u001b[0;34m(self, exc_type, exc_val, exc_tb)\u001b[0m\n\u001b[1;32m    116\u001b[0m retval \u001b[39m=\u001b[39m \u001b[39mself\u001b[39m\u001b[39m.\u001b[39m_cancel_scope\u001b[39m.\u001b[39m\u001b[39m__exit__\u001b[39m(exc_type, exc_val, exc_tb)\n\u001b[1;32m    117\u001b[0m \u001b[39mif\u001b[39;00m \u001b[39mself\u001b[39m\u001b[39m.\u001b[39m_cancel_scope\u001b[39m.\u001b[39mcancel_called:\n\u001b[0;32m--> 118\u001b[0m     \u001b[39mraise\u001b[39;00m \u001b[39mTimeoutError\u001b[39;00m\n\u001b[1;32m    120\u001b[0m \u001b[39mreturn\u001b[39;00m retval\n",
      "\u001b[0;31mTimeoutError\u001b[0m: "
     ]
    }
   ],
   "source": [
    "from prefect import flow, task\n",
    "from time import sleep\n",
    "\n",
    "@task(timeout_seconds=1)\n",
    "def get_data():\n",
    "    sleep(2)  # takes 2 seconds to run\n",
    "    return 1\n",
    "\n",
    "@task\n",
    "def process_data(res: int):\n",
    "    return res + 1\n",
    "\n",
    "@flow\n",
    "def main():\n",
    "    res = get_data() # raises an error\n",
    "    return process_data(res) # never runs\n",
    "\n",
    "if __name__ == \"__main__\":\n",
    "    main()"
   ]
  },
  {
   "attachments": {},
   "cell_type": "markdown",
   "id": "4cd802f6",
   "metadata": {},
   "source": [
    "### Retry on Failure with Prefect"
   ]
  },
  {
   "cell_type": "code",
   "execution_count": null,
   "id": "9a642d58",
   "metadata": {},
   "outputs": [],
   "source": [
    "!pip install -U prefect"
   ]
  },
  {
   "attachments": {},
   "cell_type": "markdown",
   "id": "60ce4dae",
   "metadata": {},
   "source": [
    "If you are running a function that occasionally fails, such as calling an API, it is useful to rerun the function when it fails.\n",
    "\n",
    "Prefect allows you to automatically retry on failure up to a specified number of times. "
   ]
  },
  {
   "cell_type": "code",
   "execution_count": null,
   "id": "52eecb42",
   "metadata": {},
   "outputs": [],
   "source": [
    "from prefect import task, flow\n",
    "import random\n",
    "\n",
    "# Retry up to 3 times and wait 1 seconds between each retry\n",
    "@task(retries=3, retry_delay_seconds=1)\n",
    "def flaky_function():\n",
    "    if random.choice([True, False]):\n",
    "        raise RuntimeError(\"not this time!\")\n",
    "    return 42\n",
    "\n",
    "@flow \n",
    "def main():\n",
    "    flaky_function()"
   ]
  },
  {
   "cell_type": "code",
   "execution_count": 7,
   "id": "7be22c51",
   "metadata": {
    "tags": [
     "hide-output"
    ]
   },
   "outputs": [
    {
     "data": {
      "text/html": [
       "<pre style=\"white-space:pre;overflow-x:auto;line-height:normal;font-family:Menlo,'DejaVu Sans Mono',consolas,'Courier New',monospace\">08:34:12.022 | <span style=\"color: #008080; text-decoration-color: #008080\">INFO</span>    | prefect.engine - Created flow run<span style=\"color: #800080; text-decoration-color: #800080\"> 'bald-caiman'</span> for flow<span style=\"color: #800080; text-decoration-color: #800080; font-weight: bold\"> 'main'</span>\n",
       "</pre>\n"
      ],
      "text/plain": [
       "08:34:12.022 | \u001b[36mINFO\u001b[0m    | prefect.engine - Created flow run\u001b[35m 'bald-caiman'\u001b[0m for flow\u001b[1;35m 'main'\u001b[0m\n"
      ]
     },
     "metadata": {},
     "output_type": "display_data"
    },
    {
     "data": {
      "text/html": [
       "<pre style=\"white-space:pre;overflow-x:auto;line-height:normal;font-family:Menlo,'DejaVu Sans Mono',consolas,'Courier New',monospace\">08:34:12.906 | <span style=\"color: #008080; text-decoration-color: #008080\">INFO</span>    | Flow run<span style=\"color: #800080; text-decoration-color: #800080\"> 'bald-caiman'</span> - Created task run 'flaky_function-8095224b-0' for task 'flaky_function'\n",
       "</pre>\n"
      ],
      "text/plain": [
       "08:34:12.906 | \u001b[36mINFO\u001b[0m    | Flow run\u001b[35m 'bald-caiman'\u001b[0m - Created task run 'flaky_function-8095224b-0' for task 'flaky_function'\n"
      ]
     },
     "metadata": {},
     "output_type": "display_data"
    },
    {
     "data": {
      "text/html": [
       "<pre style=\"white-space:pre;overflow-x:auto;line-height:normal;font-family:Menlo,'DejaVu Sans Mono',consolas,'Courier New',monospace\">08:34:12.908 | <span style=\"color: #008080; text-decoration-color: #008080\">INFO</span>    | Flow run<span style=\"color: #800080; text-decoration-color: #800080\"> 'bald-caiman'</span> - Executing 'flaky_function-8095224b-0' immediately...\n",
       "</pre>\n"
      ],
      "text/plain": [
       "08:34:12.908 | \u001b[36mINFO\u001b[0m    | Flow run\u001b[35m 'bald-caiman'\u001b[0m - Executing 'flaky_function-8095224b-0' immediately...\n"
      ]
     },
     "metadata": {},
     "output_type": "display_data"
    },
    {
     "data": {
      "text/html": [
       "<pre style=\"white-space:pre;overflow-x:auto;line-height:normal;font-family:Menlo,'DejaVu Sans Mono',consolas,'Courier New',monospace\">08:34:13.178 | <span style=\"color: #d70000; text-decoration-color: #d70000\">ERROR</span>   | Task run 'flaky_function-8095224b-0' - Encountered exception during execution:\n",
       "Traceback (most recent call last):\n",
       "  File \"/Users/khuyen/book/venv/lib/python3.9/site-packages/prefect/engine.py\", line 1449, in orchestrate_task_run\n",
       "    result = await run_sync(task.fn, *args, **kwargs)\n",
       "  File \"/Users/khuyen/book/venv/lib/python3.9/site-packages/prefect/utilities/asyncutils.py\", line 91, in run_sync_in_worker_thread\n",
       "    return await anyio.to_thread.run_sync(\n",
       "  File \"/Users/khuyen/book/venv/lib/python3.9/site-packages/anyio/to_thread.py\", line 31, in run_sync\n",
       "    return await get_asynclib().run_sync_in_worker_thread(\n",
       "  File \"/Users/khuyen/book/venv/lib/python3.9/site-packages/anyio/_backends/_asyncio.py\", line 937, in run_sync_in_worker_thread\n",
       "    return await future\n",
       "  File \"/Users/khuyen/book/venv/lib/python3.9/site-packages/anyio/_backends/_asyncio.py\", line 867, in run\n",
       "    result = context.run(func, *args)\n",
       "  File \"/var/folders/3z/svlh9jv14ps3j6cc964tbjg40000gq/T/ipykernel_36167/3817304312.py\", line 7, in flaky_function\n",
       "    raise RuntimeError(\"not this time!\")\n",
       "RuntimeError: not this time!\n",
       "</pre>\n"
      ],
      "text/plain": [
       "08:34:13.178 | \u001b[38;5;160mERROR\u001b[0m   | Task run 'flaky_function-8095224b-0' - Encountered exception during execution:\n",
       "Traceback (most recent call last):\n",
       "  File \"/Users/khuyen/book/venv/lib/python3.9/site-packages/prefect/engine.py\", line 1449, in orchestrate_task_run\n",
       "    result = await run_sync(task.fn, *args, **kwargs)\n",
       "  File \"/Users/khuyen/book/venv/lib/python3.9/site-packages/prefect/utilities/asyncutils.py\", line 91, in run_sync_in_worker_thread\n",
       "    return await anyio.to_thread.run_sync(\n",
       "  File \"/Users/khuyen/book/venv/lib/python3.9/site-packages/anyio/to_thread.py\", line 31, in run_sync\n",
       "    return await get_asynclib().run_sync_in_worker_thread(\n",
       "  File \"/Users/khuyen/book/venv/lib/python3.9/site-packages/anyio/_backends/_asyncio.py\", line 937, in run_sync_in_worker_thread\n",
       "    return await future\n",
       "  File \"/Users/khuyen/book/venv/lib/python3.9/site-packages/anyio/_backends/_asyncio.py\", line 867, in run\n",
       "    result = context.run(func, *args)\n",
       "  File \"/var/folders/3z/svlh9jv14ps3j6cc964tbjg40000gq/T/ipykernel_36167/3817304312.py\", line 7, in flaky_function\n",
       "    raise RuntimeError(\"not this time!\")\n",
       "RuntimeError: not this time!\n"
      ]
     },
     "metadata": {},
     "output_type": "display_data"
    },
    {
     "data": {
      "text/html": [
       "<pre style=\"white-space:pre;overflow-x:auto;line-height:normal;font-family:Menlo,'DejaVu Sans Mono',consolas,'Courier New',monospace\">08:34:13.277 | <span style=\"color: #008080; text-decoration-color: #008080\">INFO</span>    | Task run 'flaky_function-8095224b-0' - Received non-final state 'AwaitingRetry' when proposing final state '<span style=\"color: #d70000; text-decoration-color: #d70000\">Failed</span>' and will attempt to run again...\n",
       "</pre>\n"
      ],
      "text/plain": [
       "08:34:13.277 | \u001b[36mINFO\u001b[0m    | Task run 'flaky_function-8095224b-0' - Received non-final state 'AwaitingRetry' when proposing final state '\u001b[38;5;160mFailed\u001b[0m' and will attempt to run again...\n"
      ]
     },
     "metadata": {},
     "output_type": "display_data"
    },
    {
     "data": {
      "text/html": [
       "<pre style=\"white-space:pre;overflow-x:auto;line-height:normal;font-family:Menlo,'DejaVu Sans Mono',consolas,'Courier New',monospace\">08:34:14.569 | <span style=\"color: #d70000; text-decoration-color: #d70000\">ERROR</span>   | Task run 'flaky_function-8095224b-0' - Encountered exception during execution:\n",
       "Traceback (most recent call last):\n",
       "  File \"/Users/khuyen/book/venv/lib/python3.9/site-packages/prefect/engine.py\", line 1449, in orchestrate_task_run\n",
       "    result = await run_sync(task.fn, *args, **kwargs)\n",
       "  File \"/Users/khuyen/book/venv/lib/python3.9/site-packages/prefect/utilities/asyncutils.py\", line 91, in run_sync_in_worker_thread\n",
       "    return await anyio.to_thread.run_sync(\n",
       "  File \"/Users/khuyen/book/venv/lib/python3.9/site-packages/anyio/to_thread.py\", line 31, in run_sync\n",
       "    return await get_asynclib().run_sync_in_worker_thread(\n",
       "  File \"/Users/khuyen/book/venv/lib/python3.9/site-packages/anyio/_backends/_asyncio.py\", line 937, in run_sync_in_worker_thread\n",
       "    return await future\n",
       "  File \"/Users/khuyen/book/venv/lib/python3.9/site-packages/anyio/_backends/_asyncio.py\", line 867, in run\n",
       "    result = context.run(func, *args)\n",
       "  File \"/var/folders/3z/svlh9jv14ps3j6cc964tbjg40000gq/T/ipykernel_36167/3817304312.py\", line 7, in flaky_function\n",
       "    raise RuntimeError(\"not this time!\")\n",
       "RuntimeError: not this time!\n",
       "</pre>\n"
      ],
      "text/plain": [
       "08:34:14.569 | \u001b[38;5;160mERROR\u001b[0m   | Task run 'flaky_function-8095224b-0' - Encountered exception during execution:\n",
       "Traceback (most recent call last):\n",
       "  File \"/Users/khuyen/book/venv/lib/python3.9/site-packages/prefect/engine.py\", line 1449, in orchestrate_task_run\n",
       "    result = await run_sync(task.fn, *args, **kwargs)\n",
       "  File \"/Users/khuyen/book/venv/lib/python3.9/site-packages/prefect/utilities/asyncutils.py\", line 91, in run_sync_in_worker_thread\n",
       "    return await anyio.to_thread.run_sync(\n",
       "  File \"/Users/khuyen/book/venv/lib/python3.9/site-packages/anyio/to_thread.py\", line 31, in run_sync\n",
       "    return await get_asynclib().run_sync_in_worker_thread(\n",
       "  File \"/Users/khuyen/book/venv/lib/python3.9/site-packages/anyio/_backends/_asyncio.py\", line 937, in run_sync_in_worker_thread\n",
       "    return await future\n",
       "  File \"/Users/khuyen/book/venv/lib/python3.9/site-packages/anyio/_backends/_asyncio.py\", line 867, in run\n",
       "    result = context.run(func, *args)\n",
       "  File \"/var/folders/3z/svlh9jv14ps3j6cc964tbjg40000gq/T/ipykernel_36167/3817304312.py\", line 7, in flaky_function\n",
       "    raise RuntimeError(\"not this time!\")\n",
       "RuntimeError: not this time!\n"
      ]
     },
     "metadata": {},
     "output_type": "display_data"
    },
    {
     "data": {
      "text/html": [
       "<pre style=\"white-space:pre;overflow-x:auto;line-height:normal;font-family:Menlo,'DejaVu Sans Mono',consolas,'Courier New',monospace\">08:34:15.013 | <span style=\"color: #008080; text-decoration-color: #008080\">INFO</span>    | Task run 'flaky_function-8095224b-0' - Received non-final state 'AwaitingRetry' when proposing final state '<span style=\"color: #d70000; text-decoration-color: #d70000\">Failed</span>' and will attempt to run again...\n",
       "</pre>\n"
      ],
      "text/plain": [
       "08:34:15.013 | \u001b[36mINFO\u001b[0m    | Task run 'flaky_function-8095224b-0' - Received non-final state 'AwaitingRetry' when proposing final state '\u001b[38;5;160mFailed\u001b[0m' and will attempt to run again...\n"
      ]
     },
     "metadata": {},
     "output_type": "display_data"
    },
    {
     "data": {
      "text/html": [
       "<pre style=\"white-space:pre;overflow-x:auto;line-height:normal;font-family:Menlo,'DejaVu Sans Mono',consolas,'Courier New',monospace\">08:34:16.390 | <span style=\"color: #008080; text-decoration-color: #008080\">INFO</span>    | Task run 'flaky_function-8095224b-0' - Finished in state <span style=\"color: #008000; text-decoration-color: #008000\">Completed</span>()\n",
       "</pre>\n"
      ],
      "text/plain": [
       "08:34:16.390 | \u001b[36mINFO\u001b[0m    | Task run 'flaky_function-8095224b-0' - Finished in state \u001b[32mCompleted\u001b[0m()\n"
      ]
     },
     "metadata": {},
     "output_type": "display_data"
    },
    {
     "data": {
      "text/html": [
       "<pre style=\"white-space:pre;overflow-x:auto;line-height:normal;font-family:Menlo,'DejaVu Sans Mono',consolas,'Courier New',monospace\">08:34:16.512 | <span style=\"color: #008080; text-decoration-color: #008080\">INFO</span>    | Flow run<span style=\"color: #800080; text-decoration-color: #800080\"> 'bald-caiman'</span> - Finished in state <span style=\"color: #008000; text-decoration-color: #008000\">Completed</span>('All states completed.')\n",
       "</pre>\n"
      ],
      "text/plain": [
       "08:34:16.512 | \u001b[36mINFO\u001b[0m    | Flow run\u001b[35m 'bald-caiman'\u001b[0m - Finished in state \u001b[32mCompleted\u001b[0m('All states completed.')\n"
      ]
     },
     "metadata": {},
     "output_type": "display_data"
    },
    {
     "data": {
      "text/plain": [
       "[Completed(message=None, type=COMPLETED, result=PersistedResult(type='reference', serializer_type='pickle', storage_block_id=UUID('2c195477-a9d1-4b59-9a9e-80b00f96c464'), storage_key='84ff6378ce894b6fb1823e60b1d201b4'))]"
      ]
     },
     "execution_count": 7,
     "metadata": {},
     "output_type": "execute_result"
    }
   ],
   "source": [
    "main()"
   ]
  }
 ],
 "metadata": {
  "celltoolbar": "Tags",
  "kernelspec": {
   "display_name": "Python 3.8.9 ('venv': venv)",
   "language": "python",
   "name": "python3"
  },
  "language_info": {
   "codemirror_mode": {
    "name": "ipython",
    "version": 3
   },
   "file_extension": ".py",
   "mimetype": "text/x-python",
   "name": "python",
   "nbconvert_exporter": "python",
   "pygments_lexer": "ipython3",
   "version": "3.9.6"
  },
  "toc": {
   "base_numbering": 1,
   "nav_menu": {},
   "number_sections": true,
   "sideBar": true,
   "skip_h1_title": false,
   "title_cell": "Table of Contents",
   "title_sidebar": "Contents",
   "toc_cell": false,
   "toc_position": {},
   "toc_section_display": true,
   "toc_window_display": false
  },
  "vscode": {
   "interpreter": {
    "hash": "484329849bb907480cd798e750759bc6f1d66c93f9e78e7055aa0a2c2de6b47b"
   }
  }
 },
 "nbformat": 4,
 "nbformat_minor": 5
}
