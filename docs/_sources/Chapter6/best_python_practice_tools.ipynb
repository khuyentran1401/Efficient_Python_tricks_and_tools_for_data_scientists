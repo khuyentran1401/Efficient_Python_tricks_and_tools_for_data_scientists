{
 "cells": [
  {
   "cell_type": "markdown",
   "id": "e938e069",
   "metadata": {},
   "source": [
    "## Tools for Best Python Practices"
   ]
  },
  {
   "cell_type": "markdown",
   "id": "c569f276",
   "metadata": {},
   "source": [
    "This section cover tools that encourage best Python practices."
   ]
  },
  {
   "cell_type": "markdown",
   "id": "968864c9",
   "metadata": {},
   "source": [
    "### Managing Default Configurations with Hydra"
   ]
  },
  {
   "cell_type": "code",
   "execution_count": null,
   "id": "10b3813f",
   "metadata": {
    "tags": [
     "hide-cell"
    ]
   },
   "outputs": [],
   "source": [
    "!pip install hydra-core --upgrade"
   ]
  },
  {
   "cell_type": "markdown",
   "id": "5b851a65",
   "metadata": {},
   "source": [
    "Managing default configurations across different environments or experiments is cumbersome, often requiring explicit specification of config options every time you run your application. Data scientists frequently need to switch between different database connections or model parameters, leading to repetitive command-line arguments."
   ]
  },
  {
   "cell_type": "markdown",
   "id": "4bbdd3bc",
   "metadata": {},
   "source": [
    "Hydra solves this by allowing you to set and override default configurations easily. Here's how to use it:\n",
    "\n",
    "First, create the configuration files:"
   ]
  },
  {
   "cell_type": "code",
   "execution_count": null,
   "id": "6482ece2",
   "metadata": {},
   "outputs": [],
   "source": [
    "%mkdir conf\n",
    "%mkdir conf/db"
   ]
  },
  {
   "cell_type": "code",
   "execution_count": null,
   "id": "eec2cf05",
   "metadata": {},
   "outputs": [],
   "source": [
    "%%writefile conf/config.yaml\n",
    "defaults:\n",
    "  - db: mysql  # Set mysql as default database"
   ]
  },
  {
   "cell_type": "code",
   "execution_count": null,
   "id": "7ba31ce5",
   "metadata": {},
   "outputs": [],
   "source": [
    "%%writefile conf/db/mysql.yaml\n",
    "driver: mysql\n",
    "user: omry\n",
    "pass: secret"
   ]
  },
  {
   "cell_type": "code",
   "execution_count": null,
   "id": "1b9e7c64",
   "metadata": {},
   "outputs": [],
   "source": [
    "%%writefile conf/db/postgresql.yaml\n",
    "driver: postgresql\n",
    "user: postgres_user\n",
    "pass: drowssap"
   ]
  },
  {
   "cell_type": "markdown",
   "id": "f47db8a2",
   "metadata": {},
   "source": [
    "Create the Python application:"
   ]
  },
  {
   "cell_type": "code",
   "execution_count": null,
   "id": "3776ab9a",
   "metadata": {},
   "outputs": [],
   "source": [
    "%%writefile main.py\n",
    "import hydra\n",
    "from omegaconf import DictConfig, OmegaConf\n",
    "\n",
    "@hydra.main(version_base=None, config_path=\"conf\", config_name=\"config\")\n",
    "def my_app(cfg: DictConfig) -> None:\n",
    "    print(OmegaConf.to_yaml(cfg))\n",
    "\n",
    "if __name__ == \"__main__\":\n",
    "    my_app()"
   ]
  },
  {
   "cell_type": "markdown",
   "id": "46ec1861",
   "metadata": {},
   "source": [
    "You can run with default config (mysql) or override to use postgresql:"
   ]
  },
  {
   "cell_type": "code",
   "execution_count": null,
   "id": "ceb2fc11",
   "metadata": {},
   "outputs": [],
   "source": [
    "!python main.py # Uses mysql by default"
   ]
  },
  {
   "cell_type": "code",
   "execution_count": null,
   "id": "7988562e",
   "metadata": {},
   "outputs": [],
   "source": [
    "!python main.py db=postgresql  # Override to use postgresql"
   ]
  },
  {
   "cell_type": "markdown",
   "id": "0f2752c0",
   "metadata": {},
   "source": [
    "[Link to Hydra](https://github.com/facebookresearch/hydra)"
   ]
  },
  {
   "cell_type": "markdown",
   "id": "074e2d17",
   "metadata": {},
   "source": [
    "### Store Sensitive Information Securely in Python with .env Files"
   ]
  },
  {
   "cell_type": "code",
   "execution_count": null,
   "id": "0da2d116",
   "metadata": {
    "tags": [
     "hide-cell"
    ]
   },
   "outputs": [],
   "source": [
    "!pip install python-dotenv"
   ]
  },
  {
   "cell_type": "markdown",
   "id": "0199c460",
   "metadata": {},
   "source": [
    "Managing configuration and sensitive data in code results in security risks and deployment challenges as values are hard-coded or need to be manually set in different environments. This causes maintenance overhead and potential security breaches."
   ]
  },
  {
   "cell_type": "code",
   "execution_count": null,
   "id": "3166b53a",
   "metadata": {},
   "outputs": [],
   "source": [
    "PASSWORD=123\n",
    "USERNAME=myusername"
   ]
  },
  {
   "cell_type": "markdown",
   "id": "503fe5b3",
   "metadata": {},
   "source": [
    "Python-dotenv lets you separate configuration from code by loading environment variables from a `.env` file. You can:\n",
    "\n",
    "- Keep sensitive data out of code\n",
    "- Use different configurations per environment\n",
    "\n",
    "Here is an example:"
   ]
  },
  {
   "cell_type": "code",
   "execution_count": null,
   "id": "505699d3",
   "metadata": {},
   "outputs": [],
   "source": [
    "%%writefile .env\n",
    "PASSWORD=123\n",
    "USERNAME=myusername"
   ]
  },
  {
   "cell_type": "code",
   "execution_count": null,
   "id": "96f77081",
   "metadata": {},
   "outputs": [],
   "source": [
    "from dotenv import load_dotenv\n",
    "import os \n",
    "\n",
    "load_dotenv()\n",
    "PASSWORD = os.getenv('PASSWORD')\n",
    "USERNAME = os.getenv('USERNAME')\n",
    "print(PASSWORD)\n",
    "print(USERNAME)"
   ]
  },
  {
   "cell_type": "markdown",
   "id": "436b98fa",
   "metadata": {},
   "source": [
    "[Link to python-dotenv](https://github.com/theskumar/python-dotenv)"
   ]
  },
  {
   "cell_type": "markdown",
   "id": "e589bf78",
   "metadata": {},
   "source": [
    "### docopt: Create Beautiful Command-line Interfaces for Documentation in Python"
   ]
  },
  {
   "cell_type": "code",
   "execution_count": null,
   "id": "0fde3f66",
   "metadata": {
    "tags": [
     "hide-cell"
    ]
   },
   "outputs": [],
   "source": [
    "!pip install docopt "
   ]
  },
  {
   "cell_type": "markdown",
   "id": "3ceb6811",
   "metadata": {},
   "source": [
    "Writing documentation for your Python script helps others understand how to use your script. However, instead of making them spend some time to find the documentation in your script, wouldn’t it be nice if they can view the documentation in the terminal?\n",
    "\n",
    "That is when docopt comes in handy. docopt allows you to create beautiful command-line interfaces by passing a Python string."
   ]
  },
  {
   "cell_type": "markdown",
   "id": "d1ed98bf",
   "metadata": {},
   "source": [
    "To understand how docopt works, we can add a docstring at the beginning of the file named `docopt_example.py`."
   ]
  },
  {
   "cell_type": "code",
   "execution_count": null,
   "id": "8ee389bb",
   "metadata": {},
   "outputs": [],
   "source": [
    "%%writefile docopt_example.py\n",
    "\"\"\"Extract keywords of an input file\n",
    "Usage:\n",
    "    docopt_example.py --data-dir=<data-directory> [--input-path=<path>]\n",
    "Options:\n",
    "    --data-dir=<path>    Directory of the data\n",
    "    --input-path=<path>  Name of the input file [default: input_text.txt]\n",
    "\"\"\"\n",
    "\n",
    "from docopt import docopt \n",
    "\n",
    "if __name__ == '__main__':\n",
    "    args = docopt(__doc__, argv=None, help=True)\n",
    "    data_dir = args['--data-dir']\n",
    "    input_path = args['--input-path']\n",
    "\n",
    "    if data_dir:\n",
    "        print(f\"Extracting keywords from {data_dir}/{input_path}\")"
   ]
  },
  {
   "cell_type": "markdown",
   "id": "408b8bc0",
   "metadata": {},
   "source": [
    "Running the file `docopt_example.py` should give us the output like below:\n",
    "\n",
    "```bash\n",
    "$ python docopt_example.py\n",
    "```"
   ]
  },
  {
   "cell_type": "code",
   "execution_count": null,
   "id": "b1b2f204",
   "metadata": {
    "tags": [
     "hide-input"
    ]
   },
   "outputs": [],
   "source": [
    "!python docopt_example.py"
   ]
  },
  {
   "cell_type": "markdown",
   "id": "ce0f496c",
   "metadata": {},
   "source": [
    "[Link to docopt](http://docopt.org/)."
   ]
  }
 ],
 "metadata": {
  "jupytext": {
   "text_representation": {
    "extension": ".md",
    "format_name": "myst",
    "format_version": 0.13,
    "jupytext_version": "1.16.7"
   }
  },
  "kernelspec": {
   "display_name": "Python 3 (ipykernel)",
   "language": "python",
   "name": "python3"
  },
  "source_map": [
   12,
   16,
   20,
   24,
   28,
   32,
   38,
   43,
   49,
   56,
   61,
   65,
   76,
   80,
   84,
   86,
   90,
   94,
   98,
   102,
   105,
   114,
   120,
   129,
   133,
   137,
   141,
   147,
   151,
   170,
   178,
   182
  ]
 },
 "nbformat": 4,
 "nbformat_minor": 5
}