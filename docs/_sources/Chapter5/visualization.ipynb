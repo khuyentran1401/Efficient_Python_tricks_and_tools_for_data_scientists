{
 "cells": [
  {
   "cell_type": "markdown",
   "id": "30ebc27a",
   "metadata": {},
   "source": [
    "## Visualization"
   ]
  },
  {
   "cell_type": "markdown",
   "id": "8225f425",
   "metadata": {},
   "source": [
    "This section covers some tools to visualize your data and model."
   ]
  },
  {
   "cell_type": "markdown",
   "id": "1b2a93e4",
   "metadata": {},
   "source": [
    "### Use Seaborn Style on Matplotlib Plots"
   ]
  },
  {
   "cell_type": "markdown",
   "id": "f465aa0a",
   "metadata": {},
   "source": [
    "Seaborn style looks nicer than the default style of matplotlib, but matplotlib is more customizable. If you want to apply seaborn style on matplotlib plots, use `seaborn.set_theme()`."
   ]
  },
  {
   "cell_type": "code",
   "execution_count": null,
   "id": "eb5d0d4e",
   "metadata": {},
   "outputs": [],
   "source": [
    "import matplotlib.pyplot as plt\n",
    "import numpy as np\n",
    "import seaborn as sns\n",
    "\n",
    "# Set seaborn style\n",
    "sns.set_theme()\n",
    "\n",
    "# Data for plotting\n",
    "t = np.arange(0.0, 2.0, 0.01)\n",
    "s = 1 + np.sin(2 * np.pi * t)\n",
    "\n",
    "# Plot the data\n",
    "plt.figure(figsize=(7, 5))\n",
    "plt.plot(t, s)\n",
    "\n",
    "plt.show()"
   ]
  },
  {
   "cell_type": "markdown",
   "id": "0eb635b3",
   "metadata": {},
   "source": [
    "### Graphviz: Create a Flowchart to Capture Your Ideas in Python"
   ]
  },
  {
   "cell_type": "code",
   "execution_count": null,
   "id": "65ba0e81",
   "metadata": {
    "tags": [
     "hide-cell"
    ]
   },
   "outputs": [],
   "source": [
    "!pip install graphviz"
   ]
  },
  {
   "cell_type": "markdown",
   "id": "ff6570bd",
   "metadata": {},
   "source": [
    "Visualizing complex data and systems is difficult. Creating diagrams by hand is slow and prone to mistakes, especially with large datasets.\n",
    "\n",
    "Graphviz offers an easy method to generate graphs using a declarative language.\n",
    "\n",
    "Here's a short code example to demonstrate the utility of Graphviz:"
   ]
  },
  {
   "cell_type": "code",
   "execution_count": null,
   "id": "d71b8c76",
   "metadata": {},
   "outputs": [],
   "source": [
    "from graphviz import Graph \n",
    "\n",
    "# Instantiate a new Graph object\n",
    "dot = Graph('Data Science Process', format='png')\n",
    "\n",
    "# Add nodes\n",
    "dot.node('A', 'Get Data')\n",
    "dot.node('B', 'Clean, Prepare, & Manipulate Data')\n",
    "dot.node('C', 'Train Model')\n",
    "dot.node('D', 'Test Data')\n",
    "dot.node('E', 'Improve')\n",
    "\n",
    "# Connect these nodes\n",
    "dot.edges(['AB', 'BC', 'CD', 'DE'])\n",
    "\n",
    "# Save chart\n",
    "dot.render('data_science_flowchart', view=True)"
   ]
  },
  {
   "cell_type": "code",
   "execution_count": null,
   "id": "07d0b5cc",
   "metadata": {},
   "outputs": [],
   "source": [
    "dot "
   ]
  },
  {
   "cell_type": "markdown",
   "id": "14a2bb07",
   "metadata": {},
   "source": [
    "[Link to graphviz](https://graphviz.readthedocs.io/en/stable/manual.html)"
   ]
  },
  {
   "cell_type": "markdown",
   "id": "6b849ae5",
   "metadata": {},
   "source": [
    "### folium: Create an Interactive Map in Python"
   ]
  },
  {
   "cell_type": "code",
   "execution_count": null,
   "id": "3b2484c7",
   "metadata": {
    "tags": [
     "hide-cell"
    ]
   },
   "outputs": [],
   "source": [
    "!pip install folium"
   ]
  },
  {
   "cell_type": "markdown",
   "id": "20e86041",
   "metadata": {},
   "source": [
    "If you want to create a map provided the location in a few lines of code, try folium. Folium is a Python library that allows you to create an interactive map."
   ]
  },
  {
   "cell_type": "code",
   "execution_count": null,
   "id": "495c0b2b",
   "metadata": {},
   "outputs": [],
   "source": [
    "import folium\n",
    "m = folium.Map(location=[45.5236, -122.6750])\n",
    "\n",
    "tooltip = 'Click me!'\n",
    "folium.Marker([45.3288, -121.6625], popup='<i>Mt. Hood Meadows</i>',\n",
    "              tooltip=tooltip).add_to(m)\n",
    "m "
   ]
  },
  {
   "cell_type": "markdown",
   "id": "ded96528",
   "metadata": {},
   "source": [
    "View the document of folium [here](https://python-visualization.github.io/folium/quickstart.html#Getting-Started)."
   ]
  },
  {
   "cell_type": "markdown",
   "id": "f9b97397",
   "metadata": {},
   "source": [
    "### dtreeviz: Visualize and Interpret a Decision Tree Model"
   ]
  },
  {
   "cell_type": "code",
   "execution_count": null,
   "id": "3a97bd60",
   "metadata": {
    "tags": [
     "hide-cell"
    ]
   },
   "outputs": [],
   "source": [
    "!pip install dtreeviz"
   ]
  },
  {
   "cell_type": "markdown",
   "id": "931d823d",
   "metadata": {},
   "source": [
    "If you want to find an easy way to visualize and interpret a decision tree model, use dtreeviz."
   ]
  },
  {
   "cell_type": "code",
   "execution_count": null,
   "id": "7e74d892",
   "metadata": {
    "tags": [
     "hide-output"
    ]
   },
   "outputs": [],
   "source": [
    "\n",
    "from dtreeviz.trees import dtreeviz\n",
    "from sklearn import tree\n",
    "from sklearn.datasets import load_wine\n",
    "\n",
    "wine = load_wine()\n",
    "classifier = tree.DecisionTreeClassifier(max_depth=2)\n",
    "classifier.fit(wine.data, wine.target)\n",
    "\n",
    "vis = dtreeviz(\n",
    "    classifier,\n",
    "    wine.data,\n",
    "    wine.target,\n",
    "    target_name=\"wine_type\",\n",
    "    feature_names=wine.feature_names,\n",
    ")\n",
    "\n",
    "vis.view()"
   ]
  },
  {
   "cell_type": "markdown",
   "id": "12542007",
   "metadata": {},
   "source": [
    "The image below shows the output of dtreeviz when applying it on DecisionTreeClassifier."
   ]
  },
  {
   "cell_type": "markdown",
   "id": "8426d4f6",
   "metadata": {},
   "source": [
    "![image](../img/DTreeViz.png)"
   ]
  },
  {
   "cell_type": "markdown",
   "id": "94669f4d",
   "metadata": {},
   "source": [
    "[Link to dtreeviz](https://github.com/parrt/dtreeviz)."
   ]
  },
  {
   "cell_type": "markdown",
   "id": "5a584930",
   "metadata": {
    "editable": true,
    "slideshow": {
     "slide_type": ""
    }
   },
   "source": [
    "### supertree: Interactive Decision Tree Visualization for Python"
   ]
  },
  {
   "cell_type": "code",
   "execution_count": null,
   "id": "a667ca8d",
   "metadata": {
    "editable": true,
    "slideshow": {
     "slide_type": ""
    },
    "tags": [
     "hide-cell"
    ]
   },
   "outputs": [],
   "source": [
    "!pip install supertree"
   ]
  },
  {
   "cell_type": "markdown",
   "id": "9c892e17",
   "metadata": {
    "editable": true,
    "slideshow": {
     "slide_type": ""
    }
   },
   "source": [
    "Visualizing complex decision trees with static plots can make it hard to analyze and explain model decisions.\n",
    "\n",
    "supertree is a Python package that addresses this by providing interactive and user-friendly decision tree visualizations within notebooks.\n",
    "\n",
    "Key features include:\n",
    "\n",
    "* Zooming and panning through large trees\n",
    "* Collapsing and expanding selected nodes"
   ]
  },
  {
   "cell_type": "code",
   "execution_count": null,
   "id": "622ea1ca",
   "metadata": {
    "editable": true,
    "slideshow": {
     "slide_type": ""
    }
   },
   "outputs": [],
   "source": [
    "from sklearn.tree import DecisionTreeClassifier\n",
    "from sklearn.datasets import load_iris\n",
    "from supertree import SuperTree # <- import supertree :)\n",
    "\n",
    "# Load the iris dataset\n",
    "iris = load_iris()\n",
    "X, y = iris.data, iris.target\n",
    "\n",
    "# Train model\n",
    "model = DecisionTreeClassifier()\n",
    "model.fit(X, y)\n",
    "\n",
    "# Initialize supertree\n",
    "super_tree = SuperTree(model, X, y, iris.feature_names, iris.target_names)\n",
    "\n",
    "# show tree in your notebook\n",
    "super_tree.show_tree()"
   ]
  },
  {
   "cell_type": "markdown",
   "id": "2eb6d312",
   "metadata": {
    "editable": true,
    "slideshow": {
     "slide_type": ""
    }
   },
   "source": [
    "![image](../img/decisiontree.png)"
   ]
  },
  {
   "cell_type": "markdown",
   "id": "b5c2a21e",
   "metadata": {
    "editable": true,
    "slideshow": {
     "slide_type": ""
    }
   },
   "source": [
    "[Link to supertree](https://github.com/mljar/supertree)."
   ]
  },
  {
   "cell_type": "markdown",
   "id": "cee5b596",
   "metadata": {
    "editable": true,
    "slideshow": {
     "slide_type": ""
    }
   },
   "source": [
    "### HiPlot - High Dimensional Interactive Plotting"
   ]
  },
  {
   "cell_type": "code",
   "execution_count": null,
   "id": "30ef39a3",
   "metadata": {
    "tags": [
     "hide-cell"
    ]
   },
   "outputs": [],
   "source": [
    "!pip install hiplot "
   ]
  },
  {
   "cell_type": "markdown",
   "id": "a8585e27",
   "metadata": {},
   "source": [
    "If you are tuning hyperparameters of your machine learning model, it can be difficult to understand the relationships between different combinations of hyperparameters and a specific metric. \n",
    "\n",
    "That is when HiPlot comes in handy. HiPlot allows you to discover patterns in high-dimensional data using parallel plots like below."
   ]
  },
  {
   "cell_type": "code",
   "execution_count": null,
   "id": "3e4f2d3a",
   "metadata": {},
   "outputs": [],
   "source": [
    "import hiplot as hip\n",
    "data = [{'lr': 0.001, 'loss': 10.0, 'r2': 0.8, 'optimizer': 'SGD'},\n",
    "        {'lr': 0.01, 'loss': 2.5, 'r2': 0.9, 'optimizer': 'Adam'},\n",
    "        {'lr': 0.1, 'loss': 4, 'r2': 0.86, 'optimizer': 'Adam'}]\n",
    "hip.Experiment.from_iterable(data).display()"
   ]
  },
  {
   "cell_type": "markdown",
   "id": "0a101f86",
   "metadata": {},
   "source": [
    "[Link to HiPlot.](https://github.com/facebookresearch/hiplot)"
   ]
  },
  {
   "cell_type": "markdown",
   "id": "17567343",
   "metadata": {},
   "source": [
    "### missingno.dendogram: Visualize Correlation Between Missing Data"
   ]
  },
  {
   "cell_type": "code",
   "execution_count": null,
   "id": "4b722130",
   "metadata": {
    "tags": [
     "hide-cell"
    ]
   },
   "outputs": [],
   "source": [
    "!pip install missingno sklearn"
   ]
  },
  {
   "cell_type": "markdown",
   "id": "7e929920",
   "metadata": {},
   "source": [
    "Missing values can sometimes tell you how strongly the presence or absence of one variable affects the presence of another. To visualize the correlation between different columns based on the missing values, use `missingno.dendogram`."
   ]
  },
  {
   "cell_type": "code",
   "execution_count": null,
   "id": "edfbd6aa",
   "metadata": {
    "tags": [
     "hide-output"
    ]
   },
   "outputs": [],
   "source": [
    "from sklearn.datasets import fetch_openml\n",
    "\n",
    "soybean = fetch_openml(name=\"soybean\", as_frame=True)['data']"
   ]
  },
  {
   "cell_type": "code",
   "execution_count": null,
   "id": "4b8cc218",
   "metadata": {},
   "outputs": [],
   "source": [
    "import missingno as msno\n",
    "\n",
    "msno.dendrogram(soybean)"
   ]
  },
  {
   "cell_type": "markdown",
   "id": "1bf68891",
   "metadata": {},
   "source": [
    "The dendrogram uses a hierarchical clustering algorithm to bin variables against one another by their nullity correlation. Cluster leaves which linked together at a distance of zero fully predict one another's presence. In the graph above, the nullity of `seed-discolor` fully predicts the `nullity` of `germination`."
   ]
  },
  {
   "cell_type": "markdown",
   "id": "bcf702d4",
   "metadata": {},
   "source": [
    "[Link to missingno](https://github.com/ResidentMario/missingno)."
   ]
  },
  {
   "cell_type": "markdown",
   "id": "7f11b38c",
   "metadata": {},
   "source": [
    "### matplotlib-venn: Create a Venn Diagram Using Python"
   ]
  },
  {
   "cell_type": "code",
   "execution_count": null,
   "id": "6b0b4347",
   "metadata": {
    "tags": [
     "hide-cell"
    ]
   },
   "outputs": [],
   "source": [
    "!pip install matplotlib-venn"
   ]
  },
  {
   "cell_type": "markdown",
   "id": "905f22b2",
   "metadata": {},
   "source": [
    "If you want to draw a venn diagram using Python, try matplotlib-venn. To create a venn diagram using matplotlib-venn, you can specify the size of each region:"
   ]
  },
  {
   "cell_type": "code",
   "execution_count": null,
   "id": "e3e31c0d",
   "metadata": {},
   "outputs": [],
   "source": [
    "import matplotlib.pyplot as plt\n",
    "from matplotlib_venn import venn2\n",
    "\n",
    "venn2(subsets = (8, 10, 5), set_labels = ('Are Healthy', 'Do Exercise'))\n",
    "plt.show()"
   ]
  },
  {
   "cell_type": "markdown",
   "id": "7954ee76",
   "metadata": {},
   "source": [
    "... or specify the elements in each set:"
   ]
  },
  {
   "cell_type": "code",
   "execution_count": null,
   "id": "4b1d2568",
   "metadata": {},
   "outputs": [],
   "source": [
    "venn2([set(['A', 'B', 'C', 'D']), set(['D', 'E', 'F'])], set_labels=['Group1', 'Group2'])\n",
    "plt.show()"
   ]
  },
  {
   "cell_type": "markdown",
   "id": "529791b7",
   "metadata": {},
   "source": [
    "You can also draw three cicles using `venn3`:"
   ]
  },
  {
   "cell_type": "code",
   "execution_count": null,
   "id": "79fd4558",
   "metadata": {},
   "outputs": [],
   "source": [
    "from matplotlib_venn import venn3\n",
    "venn3(subsets = (5, 5, 3, 5, 3, 3, 2), set_labels = ('Are Healthy', 'Do Exercise', 'Eat Well'))\n",
    "plt.show()"
   ]
  },
  {
   "cell_type": "markdown",
   "id": "1df1b8b0",
   "metadata": {},
   "source": [
    "[Link to matplotlib-venn](https://github.com/konstantint/matplotlib-venn)."
   ]
  },
  {
   "cell_type": "markdown",
   "id": "6abf6ce0",
   "metadata": {},
   "source": [
    "### squarify: Plot Treemap in Python"
   ]
  },
  {
   "cell_type": "code",
   "execution_count": null,
   "id": "7a5b949e",
   "metadata": {
    "tags": [
     "hide-cell"
    ]
   },
   "outputs": [],
   "source": [
    "!pip install squarify"
   ]
  },
  {
   "cell_type": "markdown",
   "id": "25e9c3bf",
   "metadata": {},
   "source": [
    "A treemap splits a rectangle into sub-rectangles, whose sizes are proportional to their values. To plot a treemap in Python, use squarify."
   ]
  },
  {
   "cell_type": "code",
   "execution_count": null,
   "id": "881dec8e",
   "metadata": {},
   "outputs": [],
   "source": [
    "import matplotlib.pyplot as plt\n",
    "import squarify   \n",
    "import pandas as pd\n",
    "\n",
    "df = pd.DataFrame({'count': [8, 4, 3], 'role': ['DS', 'DE', 'DA']})\n",
    "\n",
    "# Plot\n",
    "squarify.plot(sizes=df['count'], label=df['role'])\n",
    "plt.axis('off')\n",
    "plt.show()"
   ]
  },
  {
   "cell_type": "markdown",
   "id": "5a4396e2",
   "metadata": {},
   "source": [
    "[Link to squarify](https://github.com/laserson/squarify)."
   ]
  },
  {
   "cell_type": "markdown",
   "id": "818ab9c3",
   "metadata": {},
   "source": [
    "### UMAP: Dimension Reduction in Python"
   ]
  },
  {
   "cell_type": "code",
   "execution_count": null,
   "id": "a1165123",
   "metadata": {
    "tags": [
     "hide-cell"
    ]
   },
   "outputs": [],
   "source": [
    "!pip install 'umap-learn[plot]'"
   ]
  },
  {
   "cell_type": "markdown",
   "id": "7b34f487",
   "metadata": {},
   "source": [
    "It can be difficult to visualize a multi-dimensional dataset. Luckily, UMAP allows you to reduce the dimension of your dataset and create a 2D views of your data."
   ]
  },
  {
   "cell_type": "markdown",
   "id": "1fd5ea84",
   "metadata": {},
   "source": [
    "To understand how UMAP works, let's try with the [fruit dataset](https://raw.githubusercontent.com/susanli2016/Machine-Learning-with-Python/master/fruit_data_with_colors.txt). In this dataset, we have the features of different fruits, such as mass, width, height, and color score. Our task is to classify which fruit a sample belongs to based on its features."
   ]
  },
  {
   "cell_type": "code",
   "execution_count": null,
   "id": "eebb68bd",
   "metadata": {},
   "outputs": [],
   "source": [
    "import warnings\n",
    "warnings.simplefilter(action='ignore', category=FutureWarning)\n",
    "\n",
    "from sklearn.preprocessing import StandardScaler\n",
    "import matplotlib.pyplot as plt\n",
    "import seaborn as sns\n",
    "import pandas as pd\n",
    "\n",
    "%matplotlib inline"
   ]
  },
  {
   "cell_type": "markdown",
   "id": "0ea154d3",
   "metadata": {},
   "source": [
    "Let's start with loading and visualizing the data."
   ]
  },
  {
   "cell_type": "code",
   "execution_count": null,
   "id": "70969de6",
   "metadata": {},
   "outputs": [],
   "source": [
    "data = pd.read_table(\"https://raw.githubusercontent.com/susanli2016/Machine-Learning-with-Python/master/fruit_data_with_colors.txt\")\n",
    "data.head(10)"
   ]
  },
  {
   "cell_type": "code",
   "execution_count": null,
   "id": "832b4b68",
   "metadata": {},
   "outputs": [],
   "source": [
    "sns.pairplot(data.drop(columns=['fruit_label', 'fruit_subtype']), hue='fruit_name')\n",
    "plt.show()"
   ]
  },
  {
   "cell_type": "markdown",
   "id": "96f76999",
   "metadata": {},
   "source": [
    "We can see some distinctions between different fruits in the pairwise feature scatterplot matrix. Now to visualize all 4 features in a 2D plot, we start with creating a UMAP object."
   ]
  },
  {
   "cell_type": "code",
   "execution_count": null,
   "id": "c9534a01",
   "metadata": {},
   "outputs": [],
   "source": [
    "import umap\n",
    "\n",
    "reducer = umap.UMAP()"
   ]
  },
  {
   "cell_type": "markdown",
   "id": "5f22b081",
   "metadata": {},
   "source": [
    "Next, we scale the features so that they are all on the same scale."
   ]
  },
  {
   "cell_type": "code",
   "execution_count": null,
   "id": "cdc7f5b0",
   "metadata": {},
   "outputs": [],
   "source": [
    "features = data.iloc[:, 3:].values\n",
    "scaled_features = StandardScaler().fit_transform(features)"
   ]
  },
  {
   "cell_type": "markdown",
   "id": "cbafa6e1",
   "metadata": {},
   "source": [
    "Lastly, we use the UMAP object to reduce the dimension of the dataset and plot the features as a scatter plot."
   ]
  },
  {
   "cell_type": "code",
   "execution_count": null,
   "id": "7a7e965a",
   "metadata": {},
   "outputs": [],
   "source": [
    "embedding = reducer.fit_transform(scaled_features)\n",
    "embedding.shape"
   ]
  },
  {
   "cell_type": "code",
   "execution_count": null,
   "id": "1cc8b64b",
   "metadata": {},
   "outputs": [],
   "source": [
    "pd.DataFrame(embedding, columns=['Dimension 1', 'Dimension 2']).to_csv('~/Downloads/embedding.csv')"
   ]
  },
  {
   "cell_type": "code",
   "execution_count": null,
   "id": "5bc1501f",
   "metadata": {},
   "outputs": [],
   "source": [
    "plt.style.use('dark_background')\n",
    "\n",
    "colors = [\"#72BEFA\", \"#E583B6\", \"#72FCDB\", \"white\"]\n",
    "color_list = [colors[label - 1] for label in data.fruit_label]\n",
    "\n",
    "plt.scatter(\n",
    "    embedding[:, 0],\n",
    "    embedding[:, 1],\n",
    "    c=color_list,\n",
    "    s=80,\n",
    ")\n",
    "plt.show()"
   ]
  },
  {
   "cell_type": "markdown",
   "id": "8638572a",
   "metadata": {},
   "source": [
    "Now we can see some distinctions in features between 4 different fruits in a 2D plot."
   ]
  },
  {
   "cell_type": "markdown",
   "id": "d54bc5d1",
   "metadata": {},
   "source": [
    "[Link to UMAP](https://github.com/lmcinnes/umap)."
   ]
  },
  {
   "cell_type": "markdown",
   "id": "708444cc",
   "metadata": {},
   "source": [
    "### Evidently: Detect and Visualize Data Drift"
   ]
  },
  {
   "cell_type": "code",
   "execution_count": null,
   "id": "35959195",
   "metadata": {
    "tags": [
     "hide-cell"
    ]
   },
   "outputs": [],
   "source": [
    "!pip install evidently"
   ]
  },
  {
   "cell_type": "markdown",
   "id": "d783a251",
   "metadata": {},
   "source": [
    "Data drift is unexpected changes in model input data that can lead to model performance degradation. Since your code is built around the characteristics of your data, it is important to detect data drift when it occurs. Evidently allows you to do exactly in a few lines of code."
   ]
  },
  {
   "cell_type": "markdown",
   "id": "f59b57b2",
   "metadata": {},
   "source": [
    "In the code below, we use Evidently to detect changes in feature distribution."
   ]
  },
  {
   "cell_type": "code",
   "execution_count": null,
   "id": "3a967a4c",
   "metadata": {},
   "outputs": [],
   "source": [
    "import pandas as pd\n",
    "from sklearn import datasets\n",
    "\n",
    "from evidently.dashboard import Dashboard\n",
    "from evidently.tabs import DataDriftTab\n",
    "\n",
    "california = datasets.fetch_california_housing()\n",
    "california = pd.DataFrame(california.data, columns = california.feature_names)"
   ]
  },
  {
   "cell_type": "code",
   "execution_count": null,
   "id": "300faf4d",
   "metadata": {},
   "outputs": [],
   "source": [
    "california_data_drift_report = Dashboard(tabs=[DataDriftTab])\n",
    "california_data_drift_report.calculate(california[:1000], california[1000:], column_mapping = None)"
   ]
  },
  {
   "cell_type": "code",
   "execution_count": null,
   "id": "ee396a4a",
   "metadata": {
    "tags": [
     "remove-output"
    ]
   },
   "outputs": [],
   "source": [
    "california_data_drift_report.show()"
   ]
  },
  {
   "cell_type": "markdown",
   "id": "d0fef625",
   "metadata": {},
   "source": [
    "![gif](../img/evidently.gif)"
   ]
  },
  {
   "cell_type": "markdown",
   "id": "ac4c8999",
   "metadata": {},
   "source": [
    "Find other features of Evidently [here](https://github.com/evidentlyai/evidently)."
   ]
  },
  {
   "cell_type": "markdown",
   "id": "aecb4468",
   "metadata": {},
   "source": [
    "### Mermaid: Create Class Diagrams for Your Python Classes Using Text and Code"
   ]
  },
  {
   "cell_type": "markdown",
   "id": "2f6b3123",
   "metadata": {},
   "source": [
    "If you want to create class diagrams to explain your Python classes, use [Mermaid](https://mermaid-js.github.io/mermaid/#/). Mermaid lets you create diagrams and visualizations using text and code."
   ]
  },
  {
   "cell_type": "markdown",
   "id": "b56f62d7",
   "metadata": {},
   "source": [
    "For example, writing this piece of code on [Mermaid Live Editor](https://mermaid.live/):\n",
    "```javascript\n",
    " classDiagram\n",
    "      Animal <|-- Dog\n",
    "      Animal <|-- Cat\n",
    "      Animal <|-- Fish\n",
    "      Animal : int age\n",
    "      Animal : str gender\n",
    "      Animal: is_mammal()\n",
    "      Animal: is_pet()\n",
    "      class Dog{\n",
    "          str fur_color\n",
    "          bark()\n",
    "          run()\n",
    "      }\n",
    "      class Cat{\n",
    "          str fur_color\n",
    "          meow()\n",
    "          run()\n",
    "      }\n",
    "      class Fish{\n",
    "          str scale_color\n",
    "          swim()\n",
    "      }\n",
    "```\n",
    "... will create a diagram like below:"
   ]
  },
  {
   "cell_type": "markdown",
   "id": "62d18b0c",
   "metadata": {},
   "source": [
    "[![](https://mermaid.ink/img/eyJjb2RlIjoiIGNsYXNzRGlhZ3JhbVxuICAgICAgQW5pbWFsIDx8LS0gRG9nXG4gICAgICBBbmltYWwgPHwtLSBDYXRcbiAgICAgIEFuaW1hbCA8fC0tIEZpc2hcbiAgICAgIEFuaW1hbCA6IGludCBhZ2VcbiAgICAgIEFuaW1hbCA6IHN0ciBnZW5kZXJcbiAgICAgIEFuaW1hbDogaXNfbWFtbWFsKClcbiAgICAgIEFuaW1hbDogaXNfcGV0KClcbiAgICAgIGNsYXNzIERvZ3tcbiAgICAgICAgICBzdHIgZnVyX2NvbG9yXG4gICAgICAgICAgYmFyaygpXG4gICAgICAgICAgcnVuKClcbiAgICAgIH1cbiAgICAgIGNsYXNzIENhdHtcbiAgICAgICAgICBzdHIgZnVyX2NvbG9yXG4gICAgICAgICAgbWVvdygpXG4gICAgICAgICAgcnVuKClcbiAgICAgIH1cbiAgICAgIGNsYXNzIEZpc2h7XG4gICAgICAgICAgc3RyIHNjYWxlX2NvbG9yXG4gICAgICAgICAgc3dpbSgpXG4gICAgICB9IiwibWVybWFpZCI6eyJ0aGVtZSI6ImRlZmF1bHQifSwidXBkYXRlRWRpdG9yIjpmYWxzZSwiYXV0b1N5bmMiOnRydWUsInVwZGF0ZURpYWdyYW0iOmZhbHNlfQ)](https://mermaid.live/edit#eyJjb2RlIjoiIGNsYXNzRGlhZ3JhbVxuICAgICAgQW5pbWFsIDx8LS0gRG9nXG4gICAgICBBbmltYWwgPHwtLSBDYXRcbiAgICAgIEFuaW1hbCA8fC0tIEZpc2hcbiAgICAgIEFuaW1hbCA6IGludCBhZ2VcbiAgICAgIEFuaW1hbCA6IHN0ciBnZW5kZXJcbiAgICAgIEFuaW1hbDogaXNfbWFtbWFsKClcbiAgICAgIEFuaW1hbDogaXNfcGV0KClcbiAgICAgIGNsYXNzIERvZ3tcbiAgICAgICAgICBzdHIgZnVyX2NvbG9yXG4gICAgICAgICAgYmFyaygpXG4gICAgICAgICAgcnVuKClcbiAgICAgIH1cbiAgICAgIGNsYXNzIENhdHtcbiAgICAgICAgICBzdHIgZnVyX2NvbG9yXG4gICAgICAgICAgbWVvdygpXG4gICAgICAgICAgcnVuKClcbiAgICAgIH1cbiAgICAgIGNsYXNzIEZpc2h7XG4gICAgICAgICAgc3RyIHNjYWxlX2NvbG9yXG4gICAgICAgICAgc3dpbSgpXG4gICAgICB9IiwibWVybWFpZCI6IntcbiAgXCJ0aGVtZVwiOiBcImRlZmF1bHRcIlxufSIsInVwZGF0ZUVkaXRvciI6ZmFsc2UsImF1dG9TeW5jIjp0cnVlLCJ1cGRhdGVEaWFncmFtIjpmYWxzZX0)"
   ]
  },
  {
   "cell_type": "markdown",
   "id": "6a9f7400",
   "metadata": {},
   "source": [
    "### Mermaid: Create Flow Chart Using Code"
   ]
  },
  {
   "cell_type": "markdown",
   "id": "0fc35b5b",
   "metadata": {},
   "source": [
    "Mermaid also allows you to create a flow chart using simple code logic."
   ]
  },
  {
   "cell_type": "markdown",
   "id": "45a7ce94",
   "metadata": {},
   "source": [
    "For example, writing this piece of code on [Mermaid Live Editor](https://mermaid.live/):\n",
    "```javascript\n",
    "graph TD\n",
    "    A[Should you go to work today?] --> B(Do you like working?)\n",
    "    B --Yes--> C{Go to work}\n",
    "    B --No--> D(Are you feeling sick?)\n",
    "    D --Yes--> E{Go to the doctor}\n",
    "    D --No--> F(Do you have a lot of work to do?)\n",
    "    F --Yes--> H(And you don't want to go?)\n",
    "    F --No--> H  \n",
    "    H --Yes, I don't want to-->I(You signed up for this. Get dressed and go to work!) \n",
    "    \n",
    "```\n",
    "... will create a diagram like below:\n",
    "\n",
    "![](../img/flow_chart.png)"
   ]
  },
  {
   "cell_type": "markdown",
   "id": "e8fba2a7",
   "metadata": {},
   "source": [
    "Find other diagrams you can create with Mermaid [here](https://mermaid-js.github.io/mermaid/#/)."
   ]
  },
  {
   "cell_type": "markdown",
   "id": "0d62a00e",
   "metadata": {},
   "source": [
    "### pretty-confusion-matrix: Plot a Pretty and Comprehensible Confusion Matrix"
   ]
  },
  {
   "cell_type": "code",
   "execution_count": null,
   "id": "3ee55c4a",
   "metadata": {
    "tags": [
     "hide-cell"
    ]
   },
   "outputs": [],
   "source": [
    "!pip install -U pretty-confusion-matrix"
   ]
  },
  {
   "cell_type": "markdown",
   "id": "9e7a8d0e",
   "metadata": {},
   "source": [
    "It can be difficult to understand a confusion matrix, especially when there are many classes in the target."
   ]
  },
  {
   "cell_type": "code",
   "execution_count": null,
   "id": "5c19f3bc",
   "metadata": {},
   "outputs": [],
   "source": [
    "import numpy as np\n",
    "from sklearn.metrics import confusion_matrix\n",
    "\n",
    "y_test = np.array([1, 2, 3, 4, 5])\n",
    "prediction = np.array([3, 2, 4, 3, 5])\n",
    "\n",
    "confusion_matrix(y_test, prediction)"
   ]
  },
  {
   "cell_type": "markdown",
   "id": "6ea483f9",
   "metadata": {},
   "source": [
    "To make your confusion matrix prettier and easier to understand, use `pretty_confusion_matrix`."
   ]
  },
  {
   "cell_type": "code",
   "execution_count": null,
   "id": "46c8464d",
   "metadata": {},
   "outputs": [],
   "source": [
    "from pretty_confusion_matrix import pp_matrix_from_data\n",
    "\n",
    "\n",
    "cmap = 'PuRd'\n",
    "pp_matrix_from_data(y_test, prediction, cmap=cmap)"
   ]
  },
  {
   "cell_type": "markdown",
   "id": "8a5c42d5",
   "metadata": {},
   "source": [
    "[Link to pretty confusion matrix](https://github.com/khuyentran1401/pretty-print-confusion-matrix)."
   ]
  },
  {
   "cell_type": "markdown",
   "id": "dc6c4196",
   "metadata": {},
   "source": [
    "### matplotx: Useful Extensions for Matplotlib"
   ]
  },
  {
   "cell_type": "code",
   "execution_count": null,
   "id": "d759cf19",
   "metadata": {
    "tags": [
     "hide-cell"
    ]
   },
   "outputs": [],
   "source": [
    "!pip install matplotx[all]"
   ]
  },
  {
   "cell_type": "markdown",
   "id": "2f30b9fe",
   "metadata": {},
   "source": [
    "Have you ever wanted to create matplotlib plot in dark mode? If so, use matplotx.\n",
    "\n",
    "For example, to use Dracula style, add:\n",
    "```python\n",
    "plt.style.use(matplotx.styles.dracula)\n",
    "```\n",
    "to the code."
   ]
  },
  {
   "cell_type": "code",
   "execution_count": null,
   "id": "cf2eddf7",
   "metadata": {},
   "outputs": [],
   "source": [
    "import numpy as np\n",
    "import matplotlib.pyplot as plt\n",
    "import matplotx\n",
    "from IPython.core.pylabtools import figsize\n",
    "\n",
    "# Create data\n",
    "np.random.seed(2)\n",
    "N = 50\n",
    "x = np.random.rand(N)\n",
    "y = np.random.rand(N)\n",
    "colors = np.random.rand(N)\n",
    "area = (30 * np.random.rand(N))**2  # 0 to 15 point radii\n",
    "\n",
    "# Use dracula style\n",
    "plt.style.use(matplotx.styles.dracula)\n",
    "\n",
    "# Create a scatter plot\n",
    "plt.scatter(x, y, s=area, c=colors)\n",
    "figsize(10, 10)\n",
    "plt.show()"
   ]
  },
  {
   "cell_type": "markdown",
   "id": "f9a1fd7a",
   "metadata": {},
   "source": [
    "Other styles that matplotx provides are:\n",
    "- 'aura',\n",
    "- 'ayu',\n",
    "- 'challenger_deep',\n",
    "- 'dracula',\n",
    "- 'dufte',\n",
    "- 'dufte_bar',\n",
    "- 'duftify',\n",
    "- 'github',\n",
    "- 'gruvbox',\n",
    "- 'nord',\n",
    "- 'onedark',\n",
    "- 'pacoty',\n",
    "- 'pitaya_smoothie',\n",
    "- 'solarized',\n",
    "- 'tab10',\n",
    "- 'tab20',\n",
    "- 'tab20r',\n",
    "- 'tokyo_night'\n",
    "\n",
    "Each style might have dark and light mode. For example, to use the dark mode version of `aura` style, type:"
   ]
  },
  {
   "cell_type": "code",
   "execution_count": null,
   "id": "6667d1c7",
   "metadata": {},
   "outputs": [],
   "source": [
    "matplotx.styles.aura['dark']"
   ]
  },
  {
   "cell_type": "markdown",
   "id": "b19b1445",
   "metadata": {},
   "source": [
    "[Link to matplotx](https://github.com/nschloe/matplotx)."
   ]
  },
  {
   "cell_type": "markdown",
   "id": "0a9932c0",
   "metadata": {},
   "source": [
    "### ipysankeywidget: IPython Sankey Diagram Widget"
   ]
  },
  {
   "cell_type": "code",
   "execution_count": null,
   "id": "9e764981",
   "metadata": {
    "tags": [
     "hide-cell"
    ]
   },
   "outputs": [],
   "source": [
    "!pip install ipysankeywidget"
   ]
  },
  {
   "cell_type": "code",
   "execution_count": null,
   "id": "e609ec1e",
   "metadata": {
    "tags": [
     "hide-cell"
    ]
   },
   "outputs": [],
   "source": [
    "!jupyter nbextension enable --py --sys-prefix ipysankeywidget\n",
    "!jupyter nbextension enable --py --sys-prefix widgetsnbextension"
   ]
  },
  {
   "cell_type": "markdown",
   "id": "bc861cbd",
   "metadata": {},
   "source": [
    "Sankey diagram is a flow diagram that depicts flows, where the width of the lines is proportional to the flow rate. If you want to quickly create a Sankey diagram in  your Jupyter Notebook, use ipysankeywidget."
   ]
  },
  {
   "cell_type": "code",
   "execution_count": null,
   "id": "27db48e7",
   "metadata": {},
   "outputs": [],
   "source": [
    "import pandas as pd\n",
    "from ipysankeywidget import SankeyWidget\n",
    "\n",
    "df = pd.DataFrame(\n",
    "    {\n",
    "        \"source\": [\"Anna\", \"Josh\", \"Anna\", \"Ben\", \"Ben\"],\n",
    "        \"target\": [\"New York\", \"New York\", \"Chicago\", \"San Jose\", \"Milwaukee\"],\n",
    "        \"type\": [\n",
    "            \"bussiness trip\",\n",
    "            \"family visit\",\n",
    "            \"vacation\",\n",
    "            \"family visit\",\n",
    "            \"bussiness trip\",\n",
    "        ],\n",
    "        \"value\": [2, 3, 1, 3, 2],\n",
    "    }\n",
    ")\n",
    "\n",
    "flows = df.to_dict(\"records\")\n",
    "SankeyWidget(links=flows).auto_save_png(\"diagram.png\")"
   ]
  },
  {
   "cell_type": "markdown",
   "id": "cb5984b8",
   "metadata": {},
   "source": [
    "[Link to ipysankeywidget](https://github.com/ricklupton/ipysankeywidget)."
   ]
  },
  {
   "cell_type": "markdown",
   "id": "2bf0da2e",
   "metadata": {},
   "source": [
    "### ipyvizzu: Add Animation to Your Charts with Ease"
   ]
  },
  {
   "cell_type": "code",
   "execution_count": null,
   "id": "5df6ba8c",
   "metadata": {
    "tags": [
     "hide-cell"
    ]
   },
   "outputs": [],
   "source": [
    "!pip install ipyvizzu"
   ]
  },
  {
   "cell_type": "markdown",
   "id": "3ca2f1ea",
   "metadata": {},
   "source": [
    "Sometimes you might want to add animations to your chart to show your audience the transition between one plot to another plot. However, it can be complicated to do that with matplotlib or Javascript. \n",
    "\n",
    "With ipyvizzu, you can easily add animations to your plot in couples of lines of code inside your Jupyter Notebook.\n",
    "\n",
    "In the code below, I use ipyvizzu to visualize the relationship between animals that can lay eggs and animals that are airborne."
   ]
  },
  {
   "cell_type": "code",
   "execution_count": null,
   "id": "77c1c667",
   "metadata": {},
   "outputs": [],
   "source": [
    "from sklearn.datasets import fetch_openml\n",
    "\n",
    "zoo = fetch_openml(data_id=965)[\"frame\"]\n",
    "\n",
    "df = zoo[[\"eggs\", \"airborne\"]]\n",
    "df = df.astype(\"object\")\n",
    "df[\"eggs\"] = df[\"eggs\"].map({\"false\": \"no eggs\", \"true\": \"has eggs\"})\n",
    "df[\"airborne\"] = df[\"airborne\"].map({\"false\": \"not airborne\", \"true\": \"is airborne\"})\n",
    "df[\"Count\"] = 1"
   ]
  },
  {
   "cell_type": "code",
   "execution_count": null,
   "id": "0e2b939c",
   "metadata": {},
   "outputs": [],
   "source": [
    "df.head(10)"
   ]
  },
  {
   "cell_type": "code",
   "execution_count": null,
   "id": "1fc38f17",
   "metadata": {},
   "outputs": [],
   "source": [
    "from ipyvizzu import Chart, Data, Config, Style\n",
    "\n",
    "data = Data()\n",
    "data.add_data_frame(df)\n",
    "\n",
    "chart = Chart(width=\"640px\", height=\"360px\")\n",
    "\n",
    "chart.animate(data)\n",
    "\n",
    "chart.animate(\n",
    "    Config({\"x\": \"Count\", \"y\": \"eggs\", \"label\": \"Count\", \"title\": \"Animals in the zoo\"})\n",
    ")\n",
    "chart.animate(\n",
    "    Config(\n",
    "        {\n",
    "            \"x\": [\"Count\", \"airborne\"],\n",
    "            \"label\": [\"Count\", \"airborne\"],\n",
    "            \"color\": \"airborne\",\n",
    "        }\n",
    "    )\n",
    ")"
   ]
  },
  {
   "cell_type": "markdown",
   "id": "cabd0b04",
   "metadata": {},
   "source": [
    "![](../img/ipyvizzu_demo1.gif)"
   ]
  },
  {
   "cell_type": "code",
   "execution_count": null,
   "id": "dee9f565",
   "metadata": {},
   "outputs": [],
   "source": [
    "chart.animate(Config({\"x\": \"Count\", \"y\": [\"eggs\", \"airborne\"]}))"
   ]
  },
  {
   "cell_type": "markdown",
   "id": "0b87d5b9",
   "metadata": {},
   "source": [
    "![](../img/ipyvizzu_demo2.gif)"
   ]
  },
  {
   "cell_type": "markdown",
   "id": "d1a1e703",
   "metadata": {},
   "source": [
    "[Link to ipyvizzu](https://github.com/vizzuhq/ipyvizzu)."
   ]
  },
  {
   "cell_type": "markdown",
   "id": "c15d5a83",
   "metadata": {},
   "source": [
    "### ipyvizzu-story: Create an Interactive Presentation in Your Jupyter Notebook"
   ]
  },
  {
   "cell_type": "code",
   "execution_count": null,
   "id": "7f0e7b37",
   "metadata": {
    "tags": [
     "hide-cell"
    ]
   },
   "outputs": [],
   "source": [
    "!pip install ipyvizzu-story"
   ]
  },
  {
   "cell_type": "markdown",
   "id": "08bf540b",
   "metadata": {},
   "source": [
    "Creating interactive data presentations with multiple views requires complex code to manage transitions and state changes, making it difficult to present insights in a coherent narrative flow."
   ]
  },
  {
   "cell_type": "code",
   "execution_count": null,
   "id": "91f09887",
   "metadata": {},
   "outputs": [],
   "source": [
    "import seaborn as sns  \n",
    "\n",
    "df = sns.load_dataset(\"penguins\")\n",
    "df = df[['species', 'sex']].dropna()\n",
    "df = df.astype(\"object\")\n",
    "df[\"count\"] = 1"
   ]
  },
  {
   "cell_type": "code",
   "execution_count": null,
   "id": "96815ea4",
   "metadata": {},
   "outputs": [],
   "source": [
    "df.head(10)"
   ]
  },
  {
   "cell_type": "code",
   "execution_count": null,
   "id": "caef7d88",
   "metadata": {},
   "outputs": [],
   "source": [
    "# Traditional approach: Multiple separate visualizations\n",
    "import seaborn as sns\n",
    "import matplotlib.pyplot as plt\n",
    "\n",
    "# First view - grouped bar chart\n",
    "plt.figure(1)\n",
    "sns.barplot(data=df, x='sex', y='count')\n",
    "plt.show()\n",
    "\n",
    "# Second view - separate plot for stacked bars\n",
    "plt.figure(2)\n",
    "sns.barplot(data=df, x='count', y='species', hue='sex')\n",
    "plt.show()\n",
    "\n",
    "# No smooth transitions between views\n",
    "# Manual navigation between plots"
   ]
  },
  {
   "cell_type": "markdown",
   "id": "b5dbe589",
   "metadata": {},
   "source": [
    "ipyvizzu-story enables creation of fluid data stories with smooth transitions between insights:"
   ]
  },
  {
   "cell_type": "code",
   "execution_count": null,
   "id": "d7cd30ae",
   "metadata": {},
   "outputs": [],
   "source": [
    "from ipyvizzu import Data, Config\n",
    "from ipyvizzustory import Story, Slide, Step\n",
    "\n",
    "data = Data()\n",
    "data.add_df(df)"
   ]
  },
  {
   "cell_type": "code",
   "execution_count": null,
   "id": "a9eb3e6d",
   "metadata": {},
   "outputs": [],
   "source": [
    "story = Story(data=data)\n",
    "\n",
    "slide1 = Slide(\n",
    "    Step(Config({\"x\": [\"count\", \"sex\"], \"label\": [\"count\", \"sex\"], \"color\": \"sex\"}))\n",
    ")\n",
    "story.add_slide(slide1)\n",
    "\n",
    "slide2 = Slide(\n",
    "    Step(Config({\"x\": \"count\", \"y\": [\"species\", \"sex\"]}),)\n",
    ")\n",
    "story.add_slide(slide2)\n",
    "\n",
    "story.play()"
   ]
  },
  {
   "cell_type": "markdown",
   "id": "2510825e",
   "metadata": {},
   "source": [
    "The example shows how ipyvizzu-story simplifies creating interactive presentations by handling transitions automatically. You define different views as slides, and the library creates smooth animations between them, including keyboard navigation controls."
   ]
  },
  {
   "cell_type": "markdown",
   "id": "1dbc8371",
   "metadata": {},
   "source": [
    "[Link to ipyvizzu-store](https://github.com/vizzuhq/ipyvizzu-story)."
   ]
  },
  {
   "cell_type": "markdown",
   "id": "79dac80e",
   "metadata": {},
   "source": [
    "### Lux: A Python API for Intelligent Visual Discovery"
   ]
  },
  {
   "cell_type": "code",
   "execution_count": null,
   "id": "c2180789",
   "metadata": {
    "tags": [
     "hide-cell"
    ]
   },
   "outputs": [],
   "source": [
    "!pip install lux-api"
   ]
  },
  {
   "cell_type": "markdown",
   "id": "6dc5e504",
   "metadata": {},
   "source": [
    "Have you ever taken a while to come up with the visualizations for your data? With Lux, you can get some suggestions on what to visualize.\n",
    "\n",
    "To use Lux, simply import it."
   ]
  },
  {
   "cell_type": "code",
   "execution_count": null,
   "id": "6875c126",
   "metadata": {},
   "outputs": [],
   "source": [
    "from sklearn.datasets import load_wine\n",
    "import lux  \n",
    "\n",
    "wine = load_wine(as_frame=True)['frame'] "
   ]
  },
  {
   "cell_type": "code",
   "execution_count": null,
   "id": "1ecfcbca",
   "metadata": {},
   "outputs": [],
   "source": [
    "wine"
   ]
  },
  {
   "cell_type": "code",
   "execution_count": null,
   "id": "3f189757",
   "metadata": {},
   "outputs": [],
   "source": [
    "wine.exported['Correlation'][0]"
   ]
  },
  {
   "cell_type": "code",
   "execution_count": null,
   "id": "a917a832",
   "metadata": {},
   "outputs": [],
   "source": [
    "wine.exported['Occurrence'][0]"
   ]
  },
  {
   "cell_type": "markdown",
   "id": "e92015b8",
   "metadata": {},
   "source": [
    "![](../img/lux.gif)"
   ]
  },
  {
   "cell_type": "markdown",
   "id": "bc60750b",
   "metadata": {},
   "source": [
    "[Link to Lux](https://github.com/lux-org/lux)."
   ]
  },
  {
   "cell_type": "markdown",
   "id": "15d3f608",
   "metadata": {},
   "source": [
    "### Add Statistical Significance Annotations on Seaborn Plots"
   ]
  },
  {
   "cell_type": "code",
   "execution_count": null,
   "id": "990c4983",
   "metadata": {
    "tags": [
     "hide-cell"
    ]
   },
   "outputs": [],
   "source": [
    "!pip install seaborn statannotations"
   ]
  },
  {
   "cell_type": "markdown",
   "id": "c6c3bf3c",
   "metadata": {},
   "source": [
    "Have you ever looked at two box plots and wondered if there is a significant difference between the means of the two groups? statannotations makes it easy for you to add statistical significance annotations on seaborn plots."
   ]
  },
  {
   "cell_type": "code",
   "execution_count": null,
   "id": "78f3f562",
   "metadata": {},
   "outputs": [],
   "source": [
    "import seaborn as sns \n",
    "from statannotations.Annotator import Annotator\n",
    "import matplotlib.pyplot as plt "
   ]
  },
  {
   "cell_type": "code",
   "execution_count": null,
   "id": "5553d857",
   "metadata": {},
   "outputs": [],
   "source": [
    "df = sns.load_dataset('taxis')\n",
    "df.head(10)"
   ]
  },
  {
   "cell_type": "markdown",
   "id": "8eb108b0",
   "metadata": {},
   "source": [
    "In the code below, we use an independent t-test to compare the means of two independent groups."
   ]
  },
  {
   "cell_type": "code",
   "execution_count": null,
   "id": "e3f73ab0",
   "metadata": {},
   "outputs": [],
   "source": [
    "x = 'pickup_borough'\n",
    "y = 'total'\n",
    "order = ['Manhattan', 'Brooklyn', 'Bronx', 'Queens']\n",
    "ax = sns.boxplot(data=df, x=x, y=y, order=order)\n",
    "pairs = [('Manhattan', 'Queens'), ('Manhattan', 'Bronx'), ('Manhattan', 'Brooklyn')]\n",
    "\n",
    "annotator = Annotator(ax, pairs, data=df, x=x, y=y, order=order)\n",
    "annotator.configure(test='t-test_ind')\n",
    "annotator.apply_and_annotate()\n",
    "plt.show()"
   ]
  },
  {
   "cell_type": "markdown",
   "id": "4bdaa90a",
   "metadata": {},
   "source": [
    "From the plot above, we can see that there is statistical evidence that the mean taxi fare in Manhattan is significantly different from the mean taxi fare in Brooklyn or Bronx, or Queens."
   ]
  },
  {
   "cell_type": "markdown",
   "id": "1de6de96",
   "metadata": {},
   "source": [
    "[Link to statannotations](https://github.com/trevismd/statannotations)."
   ]
  },
  {
   "cell_type": "markdown",
   "id": "cf34322d",
   "metadata": {},
   "source": [
    "### Automatically Adjust Annotations in Matplotlib for Readability"
   ]
  },
  {
   "cell_type": "code",
   "execution_count": null,
   "id": "29c51a9a",
   "metadata": {
    "tags": [
     "hide-cell"
    ]
   },
   "outputs": [],
   "source": [
    "!pip install adjustText"
   ]
  },
  {
   "cell_type": "markdown",
   "id": "04af6b24",
   "metadata": {},
   "source": [
    "If you want to automatically adjust annotations in a matplotlib plot for readability, use the library adjustText."
   ]
  },
  {
   "cell_type": "code",
   "execution_count": null,
   "id": "10bd5abc",
   "metadata": {},
   "outputs": [],
   "source": [
    "import numpy as np"
   ]
  },
  {
   "cell_type": "code",
   "execution_count": null,
   "id": "b04c4686",
   "metadata": {},
   "outputs": [],
   "source": [
    "def plot_text(x, y):\n",
    "    fig, ax = plt.subplots()\n",
    "    plt.plot(x, y, 'bo')\n",
    "    texts = [plt.text(x[i], y[i], 'Text%s' %i, ha='center', va='center') for i in range(len(x))]\n",
    "    return texts"
   ]
  },
  {
   "cell_type": "code",
   "execution_count": null,
   "id": "8907ca25",
   "metadata": {},
   "outputs": [],
   "source": [
    "np.random.seed(1)\n",
    "x, y = np.random.random((2,40))\n",
    "plot_text(x, y)"
   ]
  },
  {
   "cell_type": "code",
   "execution_count": null,
   "id": "ea152e81",
   "metadata": {},
   "outputs": [],
   "source": [
    "from adjustText import adjust_text\n",
    "\n",
    "texts = plot_text(x, y)\n",
    "adjust_text(texts)"
   ]
  },
  {
   "cell_type": "markdown",
   "id": "d767fe11",
   "metadata": {},
   "source": [
    "[Link to adjustText](https://github.com/Phlya/adjustText)."
   ]
  },
  {
   "cell_type": "markdown",
   "id": "b826467c",
   "metadata": {},
   "source": [
    "### Bloxs: Create an Attractive Display in Your Jupyter Notebook"
   ]
  },
  {
   "cell_type": "code",
   "execution_count": null,
   "id": "cd5ac8b1",
   "metadata": {
    "tags": [
     "hide-cell"
    ]
   },
   "outputs": [],
   "source": [
    "pip install bloxs"
   ]
  },
  {
   "cell_type": "markdown",
   "id": "6bcdc091",
   "metadata": {},
   "source": [
    "If you want to create an attractive display for specific information in your notebook, try bloxs. bloxs is a Python library that is ideal for building dashboards, reports, and apps in the notebook."
   ]
  },
  {
   "cell_type": "code",
   "execution_count": null,
   "id": "6aa58673",
   "metadata": {},
   "outputs": [],
   "source": [
    "from bloxs import B\n",
    "B(22, \"Chickens 🐥 in the backyard.\")"
   ]
  },
  {
   "cell_type": "code",
   "execution_count": null,
   "id": "33d4f35f",
   "metadata": {},
   "outputs": [],
   "source": [
    "B(\"Growth\", \"on July\", points=[1,4,2,3,5,6])"
   ]
  },
  {
   "cell_type": "code",
   "execution_count": null,
   "id": "24c72c94",
   "metadata": {},
   "outputs": [],
   "source": [
    "B(\"Growth\", \"on July\", points=[1,4,2,3,5,6], chart_type=\"bar\")"
   ]
  },
  {
   "cell_type": "code",
   "execution_count": null,
   "id": "3684e7c2",
   "metadata": {},
   "outputs": [],
   "source": [
    "B(\"68%\", \"Loading progress\", progress=68)"
   ]
  },
  {
   "cell_type": "code",
   "execution_count": null,
   "id": "ba2a64e7",
   "metadata": {},
   "outputs": [],
   "source": [
    "B([\n",
    "    B(22, \"Chickens 🐥 in the backyard.\"),\n",
    "    B(\"68%\", \"Loading progress\", progress=68),\n",
    "    B(\"Growth\", \"on July\", points=[1,4,2,3,5,6])\n",
    "])"
   ]
  },
  {
   "cell_type": "markdown",
   "id": "58c972d4",
   "metadata": {},
   "source": [
    "[Link to bloxs](https://github.com/mljar/bloxs)."
   ]
  },
  {
   "cell_type": "markdown",
   "id": "2eded5b5",
   "metadata": {},
   "source": [
    "### LovelyPlots: Create Nice Matplotlib Figures for Presentations"
   ]
  },
  {
   "cell_type": "code",
   "execution_count": null,
   "id": "f68cf2df",
   "metadata": {
    "tags": [
     "hide-cell"
    ]
   },
   "outputs": [],
   "source": [
    "!pip install LovelyPlots"
   ]
  },
  {
   "cell_type": "markdown",
   "id": "783ca996",
   "metadata": {},
   "source": [
    "If you want to transform your matplotlib plots into nice figures for scientific papers or presentations, try LovelyPlots. To use LovelyPlots, simply add `plt.style.use(ipynb)` to your code."
   ]
  },
  {
   "cell_type": "markdown",
   "id": "2e268168",
   "metadata": {},
   "source": [
    "To see how a figure created by LovelyPlots looks like, let's generate a plotting function, which takes `style` as its argument"
   ]
  },
  {
   "cell_type": "code",
   "execution_count": null,
   "id": "9ca2b7d9",
   "metadata": {},
   "outputs": [],
   "source": [
    "import lovelyplots\n",
    "import matplotlib.pyplot as plt\n",
    "import numpy as np\n",
    "import pandas as pd\n",
    "\n",
    "\n",
    "def plot(style: list):\n",
    "    plt.style.use(style)\n",
    "\n",
    "    np.random.seed(1)\n",
    "    # Data\n",
    "    df = pd.DataFrame(\n",
    "        {\n",
    "            \"x_values\": range(1, 11),\n",
    "            \"y1_values\": np.random.randn(10),\n",
    "            \"y2_values\": np.random.randn(10) + range(1, 11),\n",
    "            \"y3_values\": np.random.randn(10) + range(11, 21),\n",
    "        }\n",
    "    )\n",
    "\n",
    "    plt.plot(\n",
    "        \"x_values\",\n",
    "        \"y1_values\",\n",
    "        data=df,\n",
    "    )\n",
    "    plt.plot(\n",
    "        \"x_values\",\n",
    "        \"y2_values\",\n",
    "        data=df,\n",
    "    )\n",
    "    plt.plot(\n",
    "        \"x_values\",\n",
    "        \"y3_values\",\n",
    "        data=df,\n",
    "    )\n",
    "\n",
    "    # show graph\n",
    "    plt.show()"
   ]
  },
  {
   "cell_type": "markdown",
   "id": "63b66beb",
   "metadata": {},
   "source": [
    "Create a figure using the default style of matplotlib."
   ]
  },
  {
   "cell_type": "code",
   "execution_count": null,
   "id": "a9564339",
   "metadata": {},
   "outputs": [],
   "source": [
    "plot([\"default\"])"
   ]
  },
  {
   "cell_type": "markdown",
   "id": "bc155830",
   "metadata": {},
   "source": [
    "Create the figures using styles from LovelyPlots."
   ]
  },
  {
   "cell_type": "code",
   "execution_count": null,
   "id": "c426765a",
   "metadata": {},
   "outputs": [],
   "source": [
    "plot([\"ipynb\", \"colors10-markers\"])"
   ]
  },
  {
   "cell_type": "code",
   "execution_count": null,
   "id": "cad4d800",
   "metadata": {},
   "outputs": [],
   "source": [
    "plot([\"ipynb\", \"colors5-light\"])"
   ]
  },
  {
   "cell_type": "code",
   "execution_count": null,
   "id": "b4c5f1cd",
   "metadata": {},
   "outputs": [],
   "source": [
    "plot([\"ipynb\", \"colors10-ls\"])"
   ]
  },
  {
   "cell_type": "markdown",
   "id": "caf366ed",
   "metadata": {},
   "source": [
    "[Link to LovelyPlots](https://github.com/killiansheriff/LovelyPlots)"
   ]
  },
  {
   "cell_type": "markdown",
   "id": "ee8e1619",
   "metadata": {},
   "source": [
    "### gif: The Easiest Way to Animate Your matplotlib Plot"
   ]
  },
  {
   "cell_type": "code",
   "execution_count": null,
   "id": "3f191340",
   "metadata": {
    "tags": [
     "hide-cell"
    ]
   },
   "outputs": [],
   "source": [
    "!pip install gif"
   ]
  },
  {
   "cell_type": "markdown",
   "id": "f073d8e3",
   "metadata": {},
   "source": [
    "If you want to effortlessly animate your matplotlib plot in Python, use gif."
   ]
  },
  {
   "cell_type": "code",
   "execution_count": null,
   "id": "b905049f",
   "metadata": {},
   "outputs": [],
   "source": [
    "import pandas as pd\n",
    "from matplotlib import pyplot as plt\n",
    "import random\n",
    "\n",
    "import gif\n",
    "\n",
    "\n",
    "START = pd.Timestamp(\"2019-04-20\")\n",
    "END = pd.Timestamp(\"2020-05-01\")\n",
    "\n",
    "\n",
    "data = [random.uniform(0.5, 10) for _ in range(378)]\n",
    "\n",
    "df = pd.DataFrame({\"date\": pd.date_range(start=START, end=END), \"time\": data})\n",
    "\n",
    "\n",
    "@gif.frame\n",
    "def plot(date):\n",
    "    d = df[df[\"date\"] <= date]\n",
    "    fig, ax = plt.subplots(figsize=(5, 3), dpi=100)\n",
    "    plt.plot(d[\"date\"], d[\"time\"])\n",
    "    ax.set_xlim([START, END])\n",
    "    ax.set_ylim([0, 10])\n",
    "    ax.set_xticks([date])\n",
    "    ax.set_yticks([0, 2, 4, 6, 8, 10])\n",
    "    ax.set_xticklabels([date.strftime(\"%b '%y\")])\n",
    "    ax.set_yticklabels([0, 2, 4, 6, 8, \"\\n10\\nhours\"])\n",
    "\n",
    "\n",
    "frames = []\n",
    "for date in df[\"date\"]:\n",
    "    frame = plot(date)\n",
    "    frames.append(frame)\n",
    "\n",
    "gif.save(frames, \"phone.gif\", duration=35)"
   ]
  },
  {
   "cell_type": "markdown",
   "id": "f6cf0ded",
   "metadata": {},
   "source": [
    "![](../img/matplotlib_gif.gif)"
   ]
  },
  {
   "cell_type": "markdown",
   "id": "bce587e5",
   "metadata": {},
   "source": [
    "[Link to gif](https://github.com/maxhumber/gif)."
   ]
  },
  {
   "cell_type": "markdown",
   "id": "13da6f27",
   "metadata": {},
   "source": [
    "### Visualize the Frequency Tokens in a Text Corpora"
   ]
  },
  {
   "cell_type": "code",
   "execution_count": null,
   "id": "e2f3201d",
   "metadata": {
    "tags": [
     "hide-cell"
    ]
   },
   "outputs": [],
   "source": [
    "!pip install yellowbrick"
   ]
  },
  {
   "cell_type": "markdown",
   "id": "754b5f56",
   "metadata": {},
   "source": [
    "If you want to quickly visualize the frequency of tokens in a collection of text documents, use the combination of scikit-learn's `CountVectorizer` and Yellowbrick's `FreqDistVisualizer`."
   ]
  },
  {
   "cell_type": "code",
   "execution_count": null,
   "id": "a36456c0",
   "metadata": {},
   "outputs": [],
   "source": [
    "from sklearn.datasets import fetch_20newsgroups\n",
    "\n",
    "newsgroups_train = fetch_20newsgroups(subset='train')"
   ]
  },
  {
   "cell_type": "code",
   "execution_count": null,
   "id": "ff0aa9c3",
   "metadata": {},
   "outputs": [],
   "source": [
    "from sklearn.feature_extraction.text import CountVectorizer\n",
    "from yellowbrick.text import FreqDistVisualizer\n",
    "\n",
    "\n",
    "import matplotlib.pyplot as plt\n",
    "\n",
    "plt.figure(figsize=(8,4))\n",
    "\n",
    "# Convert corpora to a matrix of token counts\n",
    "# and remove stop words\n",
    "vectorizer = CountVectorizer(stop_words='english') \n",
    "docs       = vectorizer.fit_transform(newsgroups_train['data'])\n",
    "features   = vectorizer.get_feature_names()\n",
    "\n",
    "# Plot a token frequency distribution \n",
    "visualizer = FreqDistVisualizer(features=features, n=10)\n",
    "visualizer.fit(docs)\n",
    "visualizer.show()"
   ]
  },
  {
   "cell_type": "markdown",
   "id": "306fd502",
   "metadata": {},
   "source": [
    "[Link to Yellowbrick](https://github.com/DistrictDataLabs/yellowbrick)"
   ]
  },
  {
   "cell_type": "markdown",
   "id": "fda686c3",
   "metadata": {},
   "source": [
    "### prettymaps: Generate Pretty Painting of a Location in Python"
   ]
  },
  {
   "cell_type": "code",
   "execution_count": null,
   "id": "8e65ce56",
   "metadata": {
    "tags": [
     "hide-cell"
    ]
   },
   "outputs": [],
   "source": [
    "pip install -U prettymaps \"osmnx>=1.9.3,<2.0\" \"git+https://github.com/abey79/vsketch@1.0.0\""
   ]
  },
  {
   "cell_type": "markdown",
   "id": "d8d24d89",
   "metadata": {},
   "source": [
    "If you want to generate a pretty painting of a location from OpenStreetMap in Python, use prettymaps."
   ]
  },
  {
   "cell_type": "markdown",
   "id": "37498480",
   "metadata": {},
   "source": [
    "You can start creating maps with just a few lines of code. Here's an example:"
   ]
  },
  {
   "cell_type": "code",
   "execution_count": null,
   "id": "e9512f3f",
   "metadata": {},
   "outputs": [],
   "source": [
    "import prettymaps\n",
    "\n",
    "plot = prettymaps.plot('Stad van de Zon, Heerhugowaard, Netherlands')"
   ]
  },
  {
   "cell_type": "markdown",
   "id": "a9ef8d6b",
   "metadata": {},
   "source": [
    "![](../img/pretty_map.png)"
   ]
  },
  {
   "cell_type": "markdown",
   "id": "c73152ef",
   "metadata": {},
   "source": [
    "[Link to prettymaps](https://github.com/marceloprates/prettymaps)."
   ]
  },
  {
   "cell_type": "markdown",
   "id": "85446fac",
   "metadata": {},
   "source": [
    "### Vizro: Create Modular Data Visualization Applications in Python"
   ]
  },
  {
   "cell_type": "code",
   "execution_count": null,
   "id": "7af4bdba",
   "metadata": {
    "tags": [
     "hide-cell"
    ]
   },
   "outputs": [],
   "source": [
    "!pip install -U plotly vizro 'typing-extensions==4.5.0'"
   ]
  },
  {
   "cell_type": "markdown",
   "id": "8a9b7e5c",
   "metadata": {},
   "source": [
    "If you want to use modular and simple Python code to create beautiful dashboards, try Vizro."
   ]
  },
  {
   "cell_type": "code",
   "execution_count": null,
   "id": "43dac41a",
   "metadata": {
    "tags": [
     "remove-output"
    ]
   },
   "outputs": [],
   "source": [
    "import vizro.plotly.express as px\n",
    "from vizro import Vizro\n",
    "import vizro.models as vm\n",
    "\n",
    "df = px.data.iris()\n",
    "\n",
    "page = vm.Page(\n",
    "    title=\"My first dashboard\",\n",
    "    components=[\n",
    "        vm.Graph(id=\"scatter_chart\", figure=px.scatter(df, x=\"sepal_length\", y=\"petal_width\", color=\"species\")),\n",
    "        vm.Graph(id=\"hist_chart\", figure=px.histogram(df, x=\"sepal_width\", color=\"species\")),\n",
    "    ],\n",
    "    controls=[\n",
    "        vm.Filter(column=\"species\", selector=vm.Dropdown(value=[\"ALL\"])),\n",
    "    ],\n",
    ")\n",
    "\n",
    "dashboard = vm.Dashboard(pages=[page])\n",
    "\n",
    "Vizro().build(dashboard).run()"
   ]
  },
  {
   "cell_type": "markdown",
   "id": "e7392e57",
   "metadata": {},
   "source": [
    "![](../img/vizro.png)"
   ]
  },
  {
   "cell_type": "markdown",
   "id": "e472224b",
   "metadata": {},
   "source": [
    "[Link to vizro](https://github.com/mckinsey/vizro)."
   ]
  },
  {
   "cell_type": "markdown",
   "id": "332cc542",
   "metadata": {},
   "source": [
    "### Drag-and-Drop Visualizations with PyGWalker"
   ]
  },
  {
   "cell_type": "code",
   "execution_count": null,
   "id": "b323912c",
   "metadata": {
    "tags": [
     "hide-cell"
    ]
   },
   "outputs": [],
   "source": [
    "!pip install pygwalker -q"
   ]
  },
  {
   "cell_type": "markdown",
   "id": "ce518f8b",
   "metadata": {},
   "source": [
    "EDA is a crucial step in any Data Science project. For large datasets, EDA can be time-consuming. \n",
    "\n",
    "PyGWalker simplifies the process of creating visualizations by allowing users to drag and drop variables to create charts without writing much code."
   ]
  },
  {
   "cell_type": "markdown",
   "id": "03e5b0b2",
   "metadata": {},
   "source": [
    "You can use PyGWalker without changing your existing workflow. For example, you can call up PyGWalker with the Dataframe loaded in this way:"
   ]
  },
  {
   "cell_type": "code",
   "execution_count": null,
   "id": "cc852d23",
   "metadata": {},
   "outputs": [],
   "source": [
    "import pygwalker as pyg\n",
    "import pandas as pd"
   ]
  },
  {
   "cell_type": "code",
   "execution_count": null,
   "id": "301c367c",
   "metadata": {},
   "outputs": [],
   "source": [
    "df = pd.read_csv(\"https://kanaries-app.s3.ap-northeast-1.amazonaws.com/public-datasets/bike_sharing_dc.csv\", parse_dates=['date'])\n",
    "df.head(10)"
   ]
  },
  {
   "cell_type": "markdown",
   "id": "e8207717",
   "metadata": {},
   "source": [
    "And then just walk around!"
   ]
  },
  {
   "cell_type": "code",
   "execution_count": null,
   "id": "ebaa41ac",
   "metadata": {},
   "outputs": [],
   "source": [
    "pyg.walk(df)"
   ]
  },
  {
   "cell_type": "markdown",
   "id": "f42d680c",
   "metadata": {},
   "source": [
    "[Link to PygWalker](https://bit.ly/3Li6KGp)."
   ]
  },
  {
   "cell_type": "markdown",
   "id": "5e8436fa",
   "metadata": {},
   "source": [
    "### hvPlot: One API for Multiple Plotting Libraries"
   ]
  },
  {
   "cell_type": "code",
   "execution_count": null,
   "id": "e0a7cf26",
   "metadata": {
    "editable": true,
    "slideshow": {
     "slide_type": ""
    },
    "tags": [
     "hide-cell"
    ]
   },
   "outputs": [],
   "source": [
    "!pip install hvplot"
   ]
  },
  {
   "cell_type": "markdown",
   "id": "dac7dea1",
   "metadata": {
    "editable": true,
    "slideshow": {
     "slide_type": ""
    }
   },
   "source": [
    "Switching between plotting libraries lets you leverage their unique strengths. However, learning multiple specific APIs can significantly increase your cognitive load.\n",
    "\n",
    "hvPlot provides a unified, high-level API that allows using the same syntax for Bokeh, Matplotlib, and Plotly. Here's an example of how hvPlot can be used with different backends:"
   ]
  },
  {
   "cell_type": "markdown",
   "id": "97cf8263",
   "metadata": {},
   "source": [
    "Default (Bokeh):"
   ]
  },
  {
   "cell_type": "code",
   "execution_count": null,
   "id": "c63bdeb5",
   "metadata": {
    "editable": true,
    "slideshow": {
     "slide_type": ""
    }
   },
   "outputs": [],
   "source": [
    "import hvplot.pandas\n",
    "from bokeh.sampledata.penguins import data as df\n",
    "\n",
    "hvplot.extension('plotly')\n",
    "\n",
    "df.hvplot.scatter(x='bill_length_mm', y='bill_depth_mm', by='species')"
   ]
  },
  {
   "cell_type": "markdown",
   "id": "1caec9e4",
   "metadata": {},
   "source": [
    "Matplotlib:"
   ]
  },
  {
   "cell_type": "code",
   "execution_count": null,
   "id": "aa3cb81d",
   "metadata": {},
   "outputs": [],
   "source": [
    "import hvplot.pandas\n",
    "\n",
    "hvplot.extension('matplotlib')\n",
    "\n",
    "df.hvplot.scatter(x='bill_length_mm', y='bill_depth_mm', by='species')"
   ]
  },
  {
   "cell_type": "markdown",
   "id": "845ff84f",
   "metadata": {},
   "source": [
    "Plotly:"
   ]
  },
  {
   "cell_type": "code",
   "execution_count": null,
   "id": "eb188cd5",
   "metadata": {},
   "outputs": [],
   "source": [
    "import hvplot.pandas\n",
    "from bokeh.sampledata.penguins import data as df\n",
    "\n",
    "hvplot.extension('plotly')\n",
    "\n",
    "df.hvplot.scatter(x='bill_length_mm', y='bill_depth_mm', by='species')"
   ]
  },
  {
   "cell_type": "markdown",
   "id": "11dd62c3",
   "metadata": {},
   "source": [
    "[Link to hvPlot](https://github.com/holoviz/hvplot)."
   ]
  },
  {
   "cell_type": "code",
   "execution_count": null,
   "id": "745cc1e2",
   "metadata": {},
   "outputs": [],
   "source": [
    "!pip install cutecharts"
   ]
  },
  {
   "cell_type": "markdown",
   "id": "c1ffb71f",
   "metadata": {},
   "source": [
    "If you want to make graphs for a technical presentation more interesting and memorable, use cute charts, a Python visualization library."
   ]
  },
  {
   "cell_type": "code",
   "execution_count": null,
   "id": "dd1a0f91",
   "metadata": {},
   "outputs": [],
   "source": [
    "from cutecharts.charts import Bar\n",
    "\n",
    "\n",
    "def bar_base() -> Bar:\n",
    "    chart = Bar(\"🍨 Most Popular Ice Cream Flavors\")\n",
    "    labels = [\"🍫 Chocolate\", \"🫐 Blueberry\", \"🍓 Strawberry\"]\n",
    "    colors = [\"#8B4513\", \"#4169E1\", \"#FF69B4\"]\n",
    "\n",
    "    chart.set_options(\n",
    "        labels=labels,\n",
    "        x_label=\"Flavor Type\",\n",
    "        y_label=\"Number of Scoops Sold\",\n",
    "        colors=colors,\n",
    "    )\n",
    "    chart.add_series(\"scoop sold\", [856, 423, 774])\n",
    "    return chart\n",
    "\n",
    "\n",
    "bar_base().render_notebook()"
   ]
  },
  {
   "cell_type": "markdown",
   "id": "48909aae",
   "metadata": {},
   "source": [
    "![](../img/cutecharts.png)"
   ]
  },
  {
   "cell_type": "markdown",
   "id": "c1504bb9",
   "metadata": {},
   "source": [
    "[Link to cute charts](https://github.com/cutecharts/cutecharts.py)."
   ]
  }
 ],
 "metadata": {
  "jupytext": {
   "text_representation": {
    "extension": ".md",
    "format_name": "myst",
    "format_version": 0.13,
    "jupytext_version": "1.16.7"
   }
  },
  "kernelspec": {
   "display_name": "Python 3 (ipykernel)",
   "language": "python",
   "name": "python3"
  },
  "source_map": [
   12,
   16,
   20,
   24,
   28,
   45,
   49,
   53,
   62,
   82,
   84,
   88,
   92,
   96,
   100,
   108,
   112,
   116,
   120,
   124,
   145,
   149,
   153,
   157,
   161,
   171,
   182,
   207,
   211,
   215,
   219,
   223,
   229,
   235,
   239,
   243,
   247,
   251,
   259,
   263,
   267,
   271,
   275,
   279,
   283,
   289,
   293,
   296,
   300,
   304,
   308,
   312,
   316,
   320,
   331,
   335,
   339,
   343,
   347,
   351,
   361,
   365,
   370,
   373,
   377,
   381,
   385,
   388,
   392,
   397,
   401,
   414,
   418,
   422,
   426,
   430,
   434,
   438,
   449,
   454,
   458,
   462,
   466,
   470,
   475,
   504,
   508,
   512,
   516,
   535,
   539,
   543,
   547,
   551,
   559,
   563,
   569,
   573,
   577,
   581,
   591,
   612,
   636,
   638,
   642,
   646,
   652,
   657,
   661,
   682,
   686,
   690,
   694,
   702,
   714,
   718,
   740,
   744,
   746,
   750,
   754,
   758,
   762,
   766,
   775,
   779,
   796,
   800,
   808,
   822,
   826,
   830,
   834,
   838,
   844,
   851,
   855,
   859,
   861,
   865,
   869,
   873,
   877,
   881,
   887,
   891,
   895,
   906,
   910,
   914,
   918,
   922,
   926,
   930,
   938,
   944,
   949,
   953,
   957,
   961,
   965,
   970,
   974,
   978,
   982,
   988,
   992,
   996,
   1000,
   1004,
   1008,
   1047,
   1051,
   1053,
   1057,
   1061,
   1065,
   1067,
   1071,
   1075,
   1079,
   1083,
   1119,
   1123,
   1127,
   1131,
   1135,
   1139,
   1145,
   1164,
   1168,
   1172,
   1176,
   1180,
   1185,
   1189,
   1193,
   1197,
   1201,
   1205,
   1209,
   1232,
   1236,
   1240,
   1244,
   1248,
   1254,
   1258,
   1263,
   1266,
   1270,
   1272,
   1276,
   1280,
   1290,
   1296,
   1300,
   1312,
   1316,
   1322,
   1326,
   1333,
   1337,
   1339,
   1343,
   1363,
   1367
  ]
 },
 "nbformat": 4,
 "nbformat_minor": 5
}