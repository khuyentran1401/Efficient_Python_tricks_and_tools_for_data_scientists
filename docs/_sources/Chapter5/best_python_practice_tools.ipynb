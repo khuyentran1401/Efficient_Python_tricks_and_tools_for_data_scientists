{
 "cells": [
  {
   "cell_type": "markdown",
   "id": "41b4d397",
   "metadata": {},
   "source": [
    "## Tools for Best Python Practices"
   ]
  },
  {
   "cell_type": "markdown",
   "id": "791e9263",
   "metadata": {},
   "source": [
    "This section cover tools that encourage best Python practices. "
   ]
  },
  {
   "cell_type": "markdown",
   "id": "2a8f4ffc",
   "metadata": {},
   "source": [
    "### Don’t Hard-Code. Use Hydra Instead"
   ]
  },
  {
   "cell_type": "code",
   "execution_count": null,
   "id": "2906779d",
   "metadata": {
    "tags": [
     "hide-cell"
    ]
   },
   "outputs": [],
   "source": [
    "!pip install hydra-core"
   ]
  },
  {
   "cell_type": "markdown",
   "id": "ede83c3f",
   "metadata": {},
   "source": [
    "When writing code, it is a good practice to put the values that you might change in a separate file from your original script.\n",
    "\n",
    "This practice not only saves you from wasting time searching for a specific variable in your scripts but also makes your scripts more reproducible.\n",
    "\n",
    "My favorite tool to handle config files is Hydra. The code below shows how to get values from a config file using Hydra."
   ]
  },
  {
   "cell_type": "markdown",
   "id": "e0118e47",
   "metadata": {},
   "source": [
    "All parameters are specified in a configuration file named `config.yaml`: \n",
    "\n",
    "```yaml\n",
    "# config.yaml\n",
    "data: data1 \n",
    "variables: \n",
    "  drop_features: ['iid', 'id', 'idg', 'wave']\n",
    "  categorical_vars: ['undergra', 'zipcode']\n",
    " ```"
   ]
  },
  {
   "cell_type": "markdown",
   "id": "567e26bf",
   "metadata": {
    "ExecuteTime": {
     "end_time": "2021-09-12T01:32:29.150867Z",
     "start_time": "2021-09-12T01:32:29.143024Z"
    }
   },
   "source": [
    "In seperate file named `main.py`, the parameters in the `config.yaml` file are called using Hydra:\n",
    "```python\n",
    "# main.py\n",
    "import hydra \n",
    "\n",
    "@hydra.main(config_name='config.yaml')\n",
    "def main(config):\n",
    "    print(f'Process {config.data}')\n",
    "    print(f'Drop features: {config.variables.drop_features}')\n",
    "\n",
    "if __name__ == '__main__':\n",
    "    main()\n",
    "```"
   ]
  },
  {
   "cell_type": "markdown",
   "id": "9066cd02",
   "metadata": {},
   "source": [
    "On your terminal, type:\n",
    "```bash\n",
    "$ python main.py\n",
    "```\n",
    "Output:"
   ]
  },
  {
   "cell_type": "code",
   "execution_count": 14,
   "id": "93350362",
   "metadata": {
    "ExecuteTime": {
     "end_time": "2021-09-12T01:32:32.778790Z",
     "start_time": "2021-09-12T01:32:32.334371Z"
    },
    "tags": [
     "hide-output"
    ]
   },
   "outputs": [
    {
     "name": "stdout",
     "output_type": "stream",
     "text": [
      "hydra_examples/main.py:3: UserWarning: \n",
      "config_path is not specified in @hydra.main().\n",
      "See https://hydra.cc/docs/next/upgrades/1.0_to_1.1/changes_to_hydra_main_config_path for more information.\n",
      "  @hydra.main(config_name='config.yaml')\n",
      "Process data1\n",
      "Drop features: ['iid', 'id', 'idg', 'wave']\n"
     ]
    }
   ],
   "source": [
    "!python hydra_examples/main.py"
   ]
  },
  {
   "cell_type": "markdown",
   "id": "05d7ef4e",
   "metadata": {},
   "source": [
    "[Link to my article about Hydra](https://towardsdatascience.com/introduction-to-hydra-cc-a-powerful-framework-to-configure-your-data-science-projects-ed65713a53c6?sk=eb08126922cc54a40c2fdfaea54c708d).\n",
    "\n",
    "[Link to Hydra](https://hydra.cc/). \n",
    "\n"
   ]
  },
  {
   "cell_type": "markdown",
   "id": "de6f478b",
   "metadata": {},
   "source": [
    "### python-dotenv: How to Load the Secret Information from .env File"
   ]
  },
  {
   "cell_type": "code",
   "execution_count": null,
   "id": "7bc104a3",
   "metadata": {
    "tags": [
     "hide-cell"
    ]
   },
   "outputs": [],
   "source": [
    "!pip install python-dotenv"
   ]
  },
  {
   "cell_type": "markdown",
   "id": "dc8f8858",
   "metadata": {},
   "source": [
    "An alternative to saving your secret information to the environment variable is to save it to `.env` file in the same path as the root of your project.  \n"
   ]
  },
  {
   "cell_type": "code",
   "execution_count": 1,
   "id": "63aff258",
   "metadata": {
    "ExecuteTime": {
     "end_time": "2021-09-12T01:35:00.224104Z",
     "start_time": "2021-09-12T01:35:00.216068Z"
    }
   },
   "outputs": [
    {
     "name": "stdout",
     "output_type": "stream",
     "text": [
      "Writing .env\n"
     ]
    }
   ],
   "source": [
    "%%writefile .env\n",
    "password=123\n",
    "username=root"
   ]
  },
  {
   "cell_type": "markdown",
   "id": "913c8bf6",
   "metadata": {},
   "source": [
    "The easiest way to load the environment variables from `.env` file is to use python-dotenv library."
   ]
  },
  {
   "cell_type": "code",
   "execution_count": 1,
   "id": "17da1dcc",
   "metadata": {
    "ExecuteTime": {
     "end_time": "2021-09-12T01:35:42.425869Z",
     "start_time": "2021-09-12T01:35:42.405605Z"
    }
   },
   "outputs": [
    {
     "name": "stdout",
     "output_type": "stream",
     "text": [
      "123\n"
     ]
    }
   ],
   "source": [
    "from dotenv import load_dotenv\n",
    "import os \n",
    "\n",
    "load_dotenv()\n",
    "PASSWORD = os.getenv('password')\n",
    "print(PASSWORD)"
   ]
  },
  {
   "cell_type": "markdown",
   "id": "da82c75c",
   "metadata": {},
   "source": [
    "[Link to python-dotenv](https://github.com/theskumar/python-dotenv)"
   ]
  },
  {
   "cell_type": "markdown",
   "id": "db4e5763",
   "metadata": {},
   "source": [
    "### docopt: Create Beautiful Command-line Interfaces for Documentation in Python"
   ]
  },
  {
   "cell_type": "code",
   "execution_count": null,
   "id": "b8b50bae",
   "metadata": {
    "ExecuteTime": {
     "end_time": "2021-09-12T21:44:15.543618Z",
     "start_time": "2021-09-12T21:44:13.867036Z"
    },
    "tags": [
     "hide-cell"
    ]
   },
   "outputs": [],
   "source": [
    "!pip install docopt "
   ]
  },
  {
   "cell_type": "markdown",
   "id": "6d6db757",
   "metadata": {},
   "source": [
    "Writing documentation for your Python script helps others understand how to use your script. However, instead of making them spend some time to find the documentation in your script, wouldn’t it be nice if they can view the documentation in the terminal?\n",
    "\n",
    "That is when docopt comes in handy. docopt allows you to create beautiful command-line interfaces by passing a Python string. "
   ]
  },
  {
   "attachments": {},
   "cell_type": "markdown",
   "id": "19802c6f",
   "metadata": {
    "ExecuteTime": {
     "end_time": "2021-09-12T01:42:23.367476Z",
     "start_time": "2021-09-12T01:42:23.359849Z"
    }
   },
   "source": [
    "To understand how docopt works, we can add a docstring at the beginning of the file named `docopt_example.py`. "
   ]
  },
  {
   "cell_type": "code",
   "execution_count": null,
   "id": "0fd440c0",
   "metadata": {},
   "outputs": [],
   "source": [
    "%%writefile docopt_example.py\n",
    "\"\"\"Extract keywords of an input file\n",
    "Usage:\n",
    "    docopt_example.py --data-dir=<data-directory> [--input-path=<path>]\n",
    "Options:\n",
    "    --data-dir=<path>    Directory of the data\n",
    "    --input-path=<path>  Name of the input file [default: input_text.txt]\n",
    "\"\"\"\n",
    "\n",
    "from docopt import docopt \n",
    "\n",
    "if __name__ == '__main__':\n",
    "    args = docopt(__doc__, argv=None, help=True)\n",
    "    data_dir = args['--data-dir']\n",
    "    input_path = args['--input-path']\n",
    "\n",
    "    if data_dir:\n",
    "        print(f\"Extracting keywords from {data_dir}/{input_path}\")"
   ]
  },
  {
   "cell_type": "markdown",
   "id": "0b40987b",
   "metadata": {},
   "source": [
    "Running the file `docopt_example.py` should give us the output like below:\n",
    "\n",
    "```bash\n",
    "$ python docopt_example.py\n",
    "```"
   ]
  },
  {
   "cell_type": "code",
   "execution_count": 23,
   "id": "021078d9",
   "metadata": {
    "ExecuteTime": {
     "end_time": "2021-09-12T01:42:12.014010Z",
     "start_time": "2021-09-12T01:42:11.816447Z"
    },
    "tags": [
     "hide-input"
    ]
   },
   "outputs": [
    {
     "name": "stdout",
     "output_type": "stream",
     "text": [
      "Usage:\r\n",
      "    docopt_example.py --data-dir=<data-directory> [--input-path=<path>]\r\n",
      "Options:\r\n",
      "    --data-dir=<path>    Directory of the data\r\n",
      "    --input-path=<path>  Name of the input file [default: input_text.txt]\r\n"
     ]
    }
   ],
   "source": [
    "!python docopt_example.py"
   ]
  },
  {
   "cell_type": "markdown",
   "id": "c56ed359",
   "metadata": {},
   "source": [
    "[Link to docopt](http://docopt.org/)."
   ]
  }
 ],
 "metadata": {
  "celltoolbar": "Tags",
  "hide_input": false,
  "interpreter": {
   "hash": "484329849bb907480cd798e750759bc6f1d66c93f9e78e7055aa0a2c2de6b47b"
  },
  "kernelspec": {
   "display_name": "Python 3.8.9 ('venv': venv)",
   "language": "python",
   "name": "python3"
  },
  "language_info": {
   "codemirror_mode": {
    "name": "ipython",
    "version": 3
   },
   "file_extension": ".py",
   "mimetype": "text/x-python",
   "name": "python",
   "nbconvert_exporter": "python",
   "pygments_lexer": "ipython3",
   "version": "3.9.6"
  },
  "toc": {
   "base_numbering": 1,
   "nav_menu": {},
   "number_sections": true,
   "sideBar": true,
   "skip_h1_title": false,
   "title_cell": "Table of Contents",
   "title_sidebar": "Contents",
   "toc_cell": false,
   "toc_position": {},
   "toc_section_display": true,
   "toc_window_display": false
  }
 },
 "nbformat": 4,
 "nbformat_minor": 5
}
