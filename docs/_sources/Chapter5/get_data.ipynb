{
 "cells": [
  {
   "cell_type": "markdown",
   "id": "f019dd04",
   "metadata": {},
   "source": [
    "## Get Data"
   ]
  },
  {
   "cell_type": "markdown",
   "id": "55d18d31",
   "metadata": {},
   "source": [
    "This section covers tools to get some data for your projects."
   ]
  },
  {
   "cell_type": "markdown",
   "id": "4d7e066d",
   "metadata": {},
   "source": [
    "### faker: Create Fake Data in One Line of Code"
   ]
  },
  {
   "cell_type": "code",
   "execution_count": null,
   "id": "eee97dba",
   "metadata": {
    "tags": [
     "hide-cell"
    ]
   },
   "outputs": [],
   "source": [
    "!pip install Faker"
   ]
  },
  {
   "cell_type": "markdown",
   "id": "a5101bf4",
   "metadata": {},
   "source": [
    "To quickly create fake data for testing, use faker."
   ]
  },
  {
   "cell_type": "code",
   "execution_count": 5,
   "id": "5ea1f553",
   "metadata": {
    "ExecuteTime": {
     "end_time": "2021-09-11T18:57:14.961159Z",
     "start_time": "2021-09-11T18:57:14.902598Z"
    }
   },
   "outputs": [
    {
     "data": {
      "text/plain": [
       "'CornflowerBlue'"
      ]
     },
     "execution_count": 5,
     "metadata": {},
     "output_type": "execute_result"
    },
    {
     "data": {
      "application/javascript": [
       "\n",
       "            setTimeout(function() {\n",
       "                var nbb_cell_id = 5;\n",
       "                var nbb_unformatted_code = \"from faker import Faker\\n\\nfake = Faker()\\n\\nfake.color_name()\";\n",
       "                var nbb_formatted_code = \"from faker import Faker\\n\\nfake = Faker()\\n\\nfake.color_name()\";\n",
       "                var nbb_cells = Jupyter.notebook.get_cells();\n",
       "                for (var i = 0; i < nbb_cells.length; ++i) {\n",
       "                    if (nbb_cells[i].input_prompt_number == nbb_cell_id) {\n",
       "                        if (nbb_cells[i].get_text() == nbb_unformatted_code) {\n",
       "                             nbb_cells[i].set_text(nbb_formatted_code);\n",
       "                        }\n",
       "                        break;\n",
       "                    }\n",
       "                }\n",
       "            }, 500);\n",
       "            "
      ],
      "text/plain": [
       "<IPython.core.display.Javascript object>"
      ]
     },
     "metadata": {},
     "output_type": "display_data"
    }
   ],
   "source": [
    "from faker import Faker\n",
    "\n",
    "fake = Faker()\n",
    "\n",
    "fake.color_name()"
   ]
  },
  {
   "cell_type": "code",
   "execution_count": 6,
   "id": "bcb64c52",
   "metadata": {
    "ExecuteTime": {
     "end_time": "2021-09-11T18:57:21.998581Z",
     "start_time": "2021-09-11T18:57:21.983199Z"
    }
   },
   "outputs": [
    {
     "data": {
      "text/plain": [
       "'Michael Scott'"
      ]
     },
     "execution_count": 6,
     "metadata": {},
     "output_type": "execute_result"
    },
    {
     "data": {
      "application/javascript": [
       "\n",
       "            setTimeout(function() {\n",
       "                var nbb_cell_id = 6;\n",
       "                var nbb_unformatted_code = \"fake.name()\";\n",
       "                var nbb_formatted_code = \"fake.name()\";\n",
       "                var nbb_cells = Jupyter.notebook.get_cells();\n",
       "                for (var i = 0; i < nbb_cells.length; ++i) {\n",
       "                    if (nbb_cells[i].input_prompt_number == nbb_cell_id) {\n",
       "                        if (nbb_cells[i].get_text() == nbb_unformatted_code) {\n",
       "                             nbb_cells[i].set_text(nbb_formatted_code);\n",
       "                        }\n",
       "                        break;\n",
       "                    }\n",
       "                }\n",
       "            }, 500);\n",
       "            "
      ],
      "text/plain": [
       "<IPython.core.display.Javascript object>"
      ]
     },
     "metadata": {},
     "output_type": "display_data"
    }
   ],
   "source": [
    "fake.name()"
   ]
  },
  {
   "cell_type": "code",
   "execution_count": 7,
   "id": "9f8ed3e3",
   "metadata": {
    "ExecuteTime": {
     "end_time": "2021-09-11T18:57:29.849353Z",
     "start_time": "2021-09-11T18:57:29.834479Z"
    }
   },
   "outputs": [
    {
     "data": {
      "text/plain": [
       "'881 Patricia Crossing\\nSouth Jeremy, AR 06087'"
      ]
     },
     "execution_count": 7,
     "metadata": {},
     "output_type": "execute_result"
    },
    {
     "data": {
      "application/javascript": [
       "\n",
       "            setTimeout(function() {\n",
       "                var nbb_cell_id = 7;\n",
       "                var nbb_unformatted_code = \"fake.address()\";\n",
       "                var nbb_formatted_code = \"fake.address()\";\n",
       "                var nbb_cells = Jupyter.notebook.get_cells();\n",
       "                for (var i = 0; i < nbb_cells.length; ++i) {\n",
       "                    if (nbb_cells[i].input_prompt_number == nbb_cell_id) {\n",
       "                        if (nbb_cells[i].get_text() == nbb_unformatted_code) {\n",
       "                             nbb_cells[i].set_text(nbb_formatted_code);\n",
       "                        }\n",
       "                        break;\n",
       "                    }\n",
       "                }\n",
       "            }, 500);\n",
       "            "
      ],
      "text/plain": [
       "<IPython.core.display.Javascript object>"
      ]
     },
     "metadata": {},
     "output_type": "display_data"
    }
   ],
   "source": [
    "fake.address()"
   ]
  },
  {
   "cell_type": "code",
   "execution_count": 8,
   "id": "19857d3c",
   "metadata": {
    "ExecuteTime": {
     "end_time": "2021-09-11T18:57:38.546365Z",
     "start_time": "2021-09-11T18:57:38.527029Z"
    }
   },
   "outputs": [
    {
     "data": {
      "text/plain": [
       "datetime.date(1927, 11, 5)"
      ]
     },
     "execution_count": 8,
     "metadata": {},
     "output_type": "execute_result"
    },
    {
     "data": {
      "application/javascript": [
       "\n",
       "            setTimeout(function() {\n",
       "                var nbb_cell_id = 8;\n",
       "                var nbb_unformatted_code = \"fake.date_of_birth(minimum_age=22)\";\n",
       "                var nbb_formatted_code = \"fake.date_of_birth(minimum_age=22)\";\n",
       "                var nbb_cells = Jupyter.notebook.get_cells();\n",
       "                for (var i = 0; i < nbb_cells.length; ++i) {\n",
       "                    if (nbb_cells[i].input_prompt_number == nbb_cell_id) {\n",
       "                        if (nbb_cells[i].get_text() == nbb_unformatted_code) {\n",
       "                             nbb_cells[i].set_text(nbb_formatted_code);\n",
       "                        }\n",
       "                        break;\n",
       "                    }\n",
       "                }\n",
       "            }, 500);\n",
       "            "
      ],
      "text/plain": [
       "<IPython.core.display.Javascript object>"
      ]
     },
     "metadata": {},
     "output_type": "display_data"
    }
   ],
   "source": [
    "fake.date_of_birth(minimum_age=22)"
   ]
  },
  {
   "cell_type": "code",
   "execution_count": 9,
   "id": "d50dd0eb",
   "metadata": {
    "ExecuteTime": {
     "end_time": "2021-09-11T18:57:46.946804Z",
     "start_time": "2021-09-11T18:57:46.930392Z"
    }
   },
   "outputs": [
    {
     "data": {
      "text/plain": [
       "'North Donald'"
      ]
     },
     "execution_count": 9,
     "metadata": {},
     "output_type": "execute_result"
    },
    {
     "data": {
      "application/javascript": [
       "\n",
       "            setTimeout(function() {\n",
       "                var nbb_cell_id = 9;\n",
       "                var nbb_unformatted_code = \"fake.city()\";\n",
       "                var nbb_formatted_code = \"fake.city()\";\n",
       "                var nbb_cells = Jupyter.notebook.get_cells();\n",
       "                for (var i = 0; i < nbb_cells.length; ++i) {\n",
       "                    if (nbb_cells[i].input_prompt_number == nbb_cell_id) {\n",
       "                        if (nbb_cells[i].get_text() == nbb_unformatted_code) {\n",
       "                             nbb_cells[i].set_text(nbb_formatted_code);\n",
       "                        }\n",
       "                        break;\n",
       "                    }\n",
       "                }\n",
       "            }, 500);\n",
       "            "
      ],
      "text/plain": [
       "<IPython.core.display.Javascript object>"
      ]
     },
     "metadata": {},
     "output_type": "display_data"
    }
   ],
   "source": [
    "fake.city()"
   ]
  },
  {
   "cell_type": "code",
   "execution_count": 10,
   "id": "adf375ce",
   "metadata": {
    "ExecuteTime": {
     "end_time": "2021-09-11T18:57:51.426720Z",
     "start_time": "2021-09-11T18:57:51.411878Z"
    }
   },
   "outputs": [
    {
     "data": {
      "text/plain": [
       "'Teacher, secondary school'"
      ]
     },
     "execution_count": 10,
     "metadata": {},
     "output_type": "execute_result"
    },
    {
     "data": {
      "application/javascript": [
       "\n",
       "            setTimeout(function() {\n",
       "                var nbb_cell_id = 10;\n",
       "                var nbb_unformatted_code = \"fake.job()\";\n",
       "                var nbb_formatted_code = \"fake.job()\";\n",
       "                var nbb_cells = Jupyter.notebook.get_cells();\n",
       "                for (var i = 0; i < nbb_cells.length; ++i) {\n",
       "                    if (nbb_cells[i].input_prompt_number == nbb_cell_id) {\n",
       "                        if (nbb_cells[i].get_text() == nbb_unformatted_code) {\n",
       "                             nbb_cells[i].set_text(nbb_formatted_code);\n",
       "                        }\n",
       "                        break;\n",
       "                    }\n",
       "                }\n",
       "            }, 500);\n",
       "            "
      ],
      "text/plain": [
       "<IPython.core.display.Javascript object>"
      ]
     },
     "metadata": {},
     "output_type": "display_data"
    }
   ],
   "source": [
    "fake.job()"
   ]
  },
  {
   "cell_type": "markdown",
   "id": "afe83d9b",
   "metadata": {},
   "source": [
    "[Link to faker](https://faker.readthedocs.io/en/master/)\n",
    "\n",
    "[Link to my full article on faker](https://towardsdatascience.com/how-to-create-fake-data-with-faker-a835e5b7a9d9?sk=de199d5fdf7af9a8fd304d468e303a80)."
   ]
  },
  {
   "cell_type": "markdown",
   "id": "c25e6922",
   "metadata": {},
   "source": [
    "### Random User: Generate Random User Data in One Line of Code"
   ]
  },
  {
   "cell_type": "markdown",
   "id": "c9feef64",
   "metadata": {},
   "source": [
    "Have you ever wanted to create fake user data for testing? Random User Generator is a free API that generates random user data. Below is how to download and use this data in your code. \n"
   ]
  },
  {
   "cell_type": "code",
   "execution_count": 8,
   "id": "30712794",
   "metadata": {
    "ExecuteTime": {
     "end_time": "2021-09-24T13:39:45.539418Z",
     "start_time": "2021-09-24T13:39:45.401022Z"
    }
   },
   "outputs": [
    {
     "data": {
      "text/plain": [
       "[{'gender': 'female',\n",
       "  'name': {'title': 'Miss', 'first': 'Ava', 'last': 'Hansen'},\n",
       "  'location': {'street': {'number': 3526, 'name': 'George Street'},\n",
       "   'city': 'Worcester',\n",
       "   'state': 'Merseyside',\n",
       "   'country': 'United Kingdom',\n",
       "   'postcode': 'K7Z 3WB',\n",
       "   'coordinates': {'latitude': '11.9627', 'longitude': '17.6871'},\n",
       "   'timezone': {'offset': '+9:00',\n",
       "    'description': 'Tokyo, Seoul, Osaka, Sapporo, Yakutsk'}},\n",
       "  'email': 'ava.hansen@example.com',\n",
       "  'login': {'uuid': '253e53f9-9553-4345-9047-fb18aec51cfe',\n",
       "   'username': 'heavywolf743',\n",
       "   'password': 'cristina',\n",
       "   'salt': 'xwnpqwtd',\n",
       "   'md5': '2b5037da7d78258f167d5a3f8dc24edb',\n",
       "   'sha1': 'fabbede0577b3fed686afd319d5ab794f1b35b02',\n",
       "   'sha256': 'd42e2061f9c283c4548af6c617727215c79ecafc74b9f3a294e6cf09afc5906f'},\n",
       "  'dob': {'date': '1948-01-21T10:26:00.053Z', 'age': 73},\n",
       "  'registered': {'date': '2011-11-19T03:28:46.830Z', 'age': 10},\n",
       "  'phone': '015242 07811',\n",
       "  'cell': '0700-326-155',\n",
       "  'id': {'name': 'NINO', 'value': 'HT 97 25 71 Y'},\n",
       "  'picture': {'large': 'https://randomuser.me/api/portraits/women/60.jpg',\n",
       "   'medium': 'https://randomuser.me/api/portraits/med/women/60.jpg',\n",
       "   'thumbnail': 'https://randomuser.me/api/portraits/thumb/women/60.jpg'},\n",
       "  'nat': 'GB'},\n",
       " {'gender': 'male',\n",
       "  'name': {'title': 'Mr', 'first': 'Aubin', 'last': 'Martin'},\n",
       "  'location': {'street': {'number': 8496, 'name': \"Rue du Bât-D'Argent\"},\n",
       "   'city': 'Strasbourg',\n",
       "   'state': 'Meurthe-et-Moselle',\n",
       "   'country': 'France',\n",
       "   'postcode': 83374,\n",
       "   'coordinates': {'latitude': '-1.3192', 'longitude': '24.0062'},\n",
       "   'timezone': {'offset': '+10:00',\n",
       "    'description': 'Eastern Australia, Guam, Vladivostok'}},\n",
       "  'email': 'aubin.martin@example.com',\n",
       "  'login': {'uuid': '54b9bfa9-5e86-4335-8ae3-164d85df98e7',\n",
       "   'username': 'heavyladybug837',\n",
       "   'password': 'kendra',\n",
       "   'salt': 'LcEMyR5s',\n",
       "   'md5': '2fbd9e05d992eb74f7afcccec02581fc',\n",
       "   'sha1': '530a1bc71a986415176606ea377961d2ce381e5d',\n",
       "   'sha256': 'f5ee7bc47f5615e89f1729dcb49632c6b76a90ba50eb42d782e2790398ebc539'},\n",
       "  'dob': {'date': '1949-04-12T05:01:31.463Z', 'age': 72},\n",
       "  'registered': {'date': '2006-05-28T03:54:36.433Z', 'age': 15},\n",
       "  'phone': '01-88-32-00-30',\n",
       "  'cell': '06-09-79-55-81',\n",
       "  'id': {'name': 'INSEE', 'value': '1NNaN48231023 75'},\n",
       "  'picture': {'large': 'https://randomuser.me/api/portraits/men/65.jpg',\n",
       "   'medium': 'https://randomuser.me/api/portraits/med/men/65.jpg',\n",
       "   'thumbnail': 'https://randomuser.me/api/portraits/thumb/men/65.jpg'},\n",
       "  'nat': 'FR'}]"
      ]
     },
     "execution_count": 8,
     "metadata": {},
     "output_type": "execute_result"
    }
   ],
   "source": [
    "import json\n",
    "from urllib.request import urlopen\n",
    "\n",
    "# Show 2 random users\n",
    "data = urlopen(\"https://randomuser.me/api?results=2\").read()\n",
    "users = json.loads(data)[\"results\"]\n",
    "users"
   ]
  },
  {
   "cell_type": "markdown",
   "id": "3583be1b",
   "metadata": {},
   "source": [
    "[Link to Random User Generator](https://randomuser.me/)."
   ]
  },
  {
   "cell_type": "markdown",
   "id": "28889200",
   "metadata": {},
   "source": [
    "### fetch_openml: Get OpenML’s Dataset in One Line of Code"
   ]
  },
  {
   "cell_type": "markdown",
   "id": "4b609b04",
   "metadata": {},
   "source": [
    "OpenML has many interesting datasets. The easiest way to get OpenML’s data in Python is to use the `sklearn.datasets.fetch_openml` method.\n",
    "\n",
    "In one line of code, you get the OpenML’s dataset to play with!"
   ]
  },
  {
   "cell_type": "code",
   "execution_count": 11,
   "id": "d9dd97d9",
   "metadata": {
    "ExecuteTime": {
     "end_time": "2021-09-11T19:02:35.156525Z",
     "start_time": "2021-09-11T19:02:27.841053Z"
    }
   },
   "outputs": [
    {
     "name": "stdout",
     "output_type": "stream",
     "text": [
      "  attr1 attr2 attr3 attr4 attr5 attr6\n",
      "0     1     1     1     1     2     2\n",
      "1     1     1     1     1     4     1\n",
      "2     1     1     1     2     1     1\n",
      "3     1     1     1     2     1     2\n",
      "4     1     1     1     2     2     1\n",
      "5     1     1     1     2     3     1\n",
      "6     1     1     1     2     4     1\n",
      "7     1     1     1     3     2     1\n",
      "8     1     1     1     3     4     1\n",
      "9     1     1     2     1     1     1\n"
     ]
    },
    {
     "data": {
      "application/javascript": [
       "\n",
       "            setTimeout(function() {\n",
       "                var nbb_cell_id = 11;\n",
       "                var nbb_unformatted_code = \"from sklearn.datasets import fetch_openml\\n\\nmonk = fetch_openml(name='monks-problems-2', as_frame=True)\\nprint(monk['data'].head(10))\";\n",
       "                var nbb_formatted_code = \"from sklearn.datasets import fetch_openml\\n\\nmonk = fetch_openml(name=\\\"monks-problems-2\\\", as_frame=True)\\nprint(monk[\\\"data\\\"].head(10))\";\n",
       "                var nbb_cells = Jupyter.notebook.get_cells();\n",
       "                for (var i = 0; i < nbb_cells.length; ++i) {\n",
       "                    if (nbb_cells[i].input_prompt_number == nbb_cell_id) {\n",
       "                        if (nbb_cells[i].get_text() == nbb_unformatted_code) {\n",
       "                             nbb_cells[i].set_text(nbb_formatted_code);\n",
       "                        }\n",
       "                        break;\n",
       "                    }\n",
       "                }\n",
       "            }, 500);\n",
       "            "
      ],
      "text/plain": [
       "<IPython.core.display.Javascript object>"
      ]
     },
     "metadata": {},
     "output_type": "display_data"
    }
   ],
   "source": [
    "from sklearn.datasets import fetch_openml\n",
    "\n",
    "monk = fetch_openml(name=\"monks-problems-2\", as_frame=True)\n",
    "print(monk[\"data\"].head(10))"
   ]
  },
  {
   "cell_type": "markdown",
   "id": "e96685ae",
   "metadata": {},
   "source": [
    "### Autoscraper"
   ]
  },
  {
   "cell_type": "code",
   "execution_count": null,
   "id": "d11a3445",
   "metadata": {
    "tags": [
     "hide-cell"
    ]
   },
   "outputs": [],
   "source": [
    "!pip install autoscraper"
   ]
  },
  {
   "cell_type": "markdown",
   "id": "c8f50aaa",
   "metadata": {},
   "source": [
    "If you want to get the data from some websites, Beautifulsoup makes it easy for you to do so. But can scraping be automated even more? If you are looking for a faster way to scrape some complicated websites such as Stackoverflow, Github in a few lines of codes, try [autoscraper](https://lnkd.in/erGHS4t).\n",
    "\n",
    "All you need is to give it some texts so it can recognize the rule, and it will take care of the rest for you!"
   ]
  },
  {
   "cell_type": "code",
   "execution_count": 13,
   "id": "54b5e6ae",
   "metadata": {
    "ExecuteTime": {
     "end_time": "2021-09-11T19:03:59.941812Z",
     "start_time": "2021-09-11T19:03:59.181085Z"
    }
   },
   "outputs": [
    {
     "name": "stdout",
     "output_type": "stream",
     "text": [
      "How to execute a program or call a system command?\n",
      "What are metaclasses in Python?\n",
      "Does Python have a ternary conditional operator?\n",
      "Convert bytes to a string\n",
      "Does Python have a string 'contains' substring method?\n",
      "How to check version of python modules?\n"
     ]
    },
    {
     "data": {
      "application/javascript": [
       "\n",
       "            setTimeout(function() {\n",
       "                var nbb_cell_id = 13;\n",
       "                var nbb_unformatted_code = \"from autoscraper import AutoScraper\\n\\nurl = 'https://stackoverflow.com/questions/2081586/web-scraping-with-python'\\n\\nwanted_list = ['How to check version of python modules?']\\n\\nscraper = AutoScraper()\\nresult = scraper.build(url, wanted_list)\\n\\nfor res in result:\\n    print(res)\";\n",
       "                var nbb_formatted_code = \"from autoscraper import AutoScraper\\n\\nurl = \\\"https://stackoverflow.com/questions/2081586/web-scraping-with-python\\\"\\n\\nwanted_list = [\\\"How to check version of python modules?\\\"]\\n\\nscraper = AutoScraper()\\nresult = scraper.build(url, wanted_list)\\n\\nfor res in result:\\n    print(res)\";\n",
       "                var nbb_cells = Jupyter.notebook.get_cells();\n",
       "                for (var i = 0; i < nbb_cells.length; ++i) {\n",
       "                    if (nbb_cells[i].input_prompt_number == nbb_cell_id) {\n",
       "                        if (nbb_cells[i].get_text() == nbb_unformatted_code) {\n",
       "                             nbb_cells[i].set_text(nbb_formatted_code);\n",
       "                        }\n",
       "                        break;\n",
       "                    }\n",
       "                }\n",
       "            }, 500);\n",
       "            "
      ],
      "text/plain": [
       "<IPython.core.display.Javascript object>"
      ]
     },
     "metadata": {},
     "output_type": "display_data"
    }
   ],
   "source": [
    "from autoscraper import AutoScraper\n",
    "\n",
    "url = \"https://stackoverflow.com/questions/2081586/web-scraping-with-python\"\n",
    "\n",
    "wanted_list = [\"How to check version of python modules?\"]\n",
    "\n",
    "scraper = AutoScraper()\n",
    "result = scraper.build(url, wanted_list)\n",
    "\n",
    "for res in result:\n",
    "    print(res)"
   ]
  },
  {
   "cell_type": "markdown",
   "id": "a5c7606a",
   "metadata": {},
   "source": [
    "[Link to autoscraper](https://github.com/alirezamika/autoscraper)."
   ]
  },
  {
   "cell_type": "markdown",
   "id": "da9f25cb",
   "metadata": {},
   "source": [
    "### pandas-reader: Extract Data from Various Internet Sources Directly into a Pandas DataFrame"
   ]
  },
  {
   "cell_type": "code",
   "execution_count": null,
   "id": "600867ba",
   "metadata": {
    "tags": [
     "hide-cell"
    ]
   },
   "outputs": [],
   "source": [
    "!pip install pandas-datareader"
   ]
  },
  {
   "cell_type": "markdown",
   "id": "009c4fc8",
   "metadata": {},
   "source": [
    "Have you wanted to extract series data from various Internet sources directly into a pandas DataFrame? That is when pandas_reader comes in handy.\n",
    "\n",
    "Below is the snippet to extract daily data of AD indicator from 2008 to 2018. "
   ]
  },
  {
   "cell_type": "code",
   "execution_count": null,
   "id": "375d7426",
   "metadata": {
    "ExecuteTime": {
     "end_time": "2021-09-11T19:05:11.618369Z",
     "start_time": "2021-09-11T19:05:11.419824Z"
    },
    "tags": [
     "hide-output"
    ]
   },
   "outputs": [],
   "source": [
    "import os\n",
    "from datetime import datetime\n",
    "import pandas_datareader.data as web\n",
    "\n",
    "df = web.DataReader(\n",
    "    \"AD\",\n",
    "    \"av-daily\",\n",
    "    start=datetime(2008, 1, 1),\n",
    "    end=datetime(2018, 2, 28),\n",
    "    api_key=os.gehide-outputtenv(\"ALPHAVANTAGE_API_KEY\"),\n",
    ")"
   ]
  },
  {
   "cell_type": "markdown",
   "id": "6c408356",
   "metadata": {},
   "source": [
    "[Link to pandas_reader](https://pandas-datareader.readthedocs.io/en/latest/)."
   ]
  }
 ],
 "metadata": {
  "celltoolbar": "Tags",
  "kernelspec": {
   "display_name": "Python 3 (ipykernel)",
   "language": "python",
   "name": "python3"
  },
  "language_info": {
   "codemirror_mode": {
    "name": "ipython",
    "version": 3
   },
   "file_extension": ".py",
   "mimetype": "text/x-python",
   "name": "python",
   "nbconvert_exporter": "python",
   "pygments_lexer": "ipython3",
   "version": "3.8.10"
  },
  "toc": {
   "base_numbering": 1,
   "nav_menu": {},
   "number_sections": true,
   "sideBar": true,
   "skip_h1_title": false,
   "title_cell": "Table of Contents",
   "title_sidebar": "Contents",
   "toc_cell": false,
   "toc_position": {},
   "toc_section_display": true,
   "toc_window_display": false
  }
 },
 "nbformat": 4,
 "nbformat_minor": 5
}
