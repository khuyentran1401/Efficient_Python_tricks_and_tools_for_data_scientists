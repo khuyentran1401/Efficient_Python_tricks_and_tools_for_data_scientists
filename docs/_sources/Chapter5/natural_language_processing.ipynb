{
 "cells": [
  {
   "cell_type": "markdown",
   "id": "5ebef801",
   "metadata": {},
   "source": [
    "## Natural Language Processing"
   ]
  },
  {
   "cell_type": "markdown",
   "id": "bd54ea0b",
   "metadata": {},
   "source": [
    "This section some tools to process and work with text."
   ]
  },
  {
   "cell_type": "markdown",
   "id": "949732cf",
   "metadata": {},
   "source": [
    "### TextBlob: Processing Text in One Line of Code"
   ]
  },
  {
   "cell_type": "markdown",
   "id": "955a5dec",
   "metadata": {},
   "source": [
    "Processing text doesn’t need to be hard. If you want to find the sentiment of the text, tokenize text, find noun phrase and word frequencies, correct spelling, etc in one line of code, try TextBlob.\n"
   ]
  },
  {
   "cell_type": "code",
   "execution_count": null,
   "id": "5afbc829",
   "metadata": {
    "tags": [
     "hide-cell"
    ]
   },
   "outputs": [],
   "source": [
    "!pip install textblob"
   ]
  },
  {
   "cell_type": "code",
   "execution_count": 3,
   "id": "cf3f17a9",
   "metadata": {
    "ExecuteTime": {
     "end_time": "2021-09-11T19:51:37.955589Z",
     "start_time": "2021-09-11T19:51:31.261340Z"
    },
    "tags": [
     "hide-cell"
    ]
   },
   "outputs": [
    {
     "name": "stdout",
     "output_type": "stream",
     "text": [
      "[nltk_data] Downloading package brown to /home/khuyen/nltk_data...\n",
      "[nltk_data]   Unzipping corpora/brown.zip.\n",
      "[nltk_data] Downloading package punkt to /home/khuyen/nltk_data...\n",
      "[nltk_data]   Package punkt is already up-to-date!\n",
      "[nltk_data] Downloading package wordnet to /home/khuyen/nltk_data...\n",
      "[nltk_data]   Unzipping corpora/wordnet.zip.\n",
      "[nltk_data] Downloading package averaged_perceptron_tagger to\n",
      "[nltk_data]     /home/khuyen/nltk_data...\n",
      "[nltk_data]   Unzipping taggers/averaged_perceptron_tagger.zip.\n",
      "[nltk_data] Downloading package conll2000 to /home/khuyen/nltk_data...\n",
      "[nltk_data]   Unzipping corpora/conll2000.zip.\n",
      "[nltk_data] Downloading package movie_reviews to\n",
      "[nltk_data]     /home/khuyen/nltk_data...\n",
      "[nltk_data]   Unzipping corpora/movie_reviews.zip.\n",
      "Finished.\n"
     ]
    }
   ],
   "source": [
    "!python -m textblob.download_corpora"
   ]
  },
  {
   "cell_type": "code",
   "execution_count": 4,
   "id": "d288b6e4",
   "metadata": {
    "ExecuteTime": {
     "end_time": "2021-09-11T19:52:20.151345Z",
     "start_time": "2021-09-11T19:52:19.550236Z"
    }
   },
   "outputs": [
    {
     "data": {
      "text/plain": [
       "WordList(['Today', 'is', 'a', 'beautiful', 'day'])"
      ]
     },
     "execution_count": 4,
     "metadata": {},
     "output_type": "execute_result"
    }
   ],
   "source": [
    "from textblob import TextBlob\n",
    "\n",
    "text = \"Today is a beautiful day\"\n",
    "blob = TextBlob(text)\n",
    "\n",
    "blob.words # Word tokenization"
   ]
  },
  {
   "cell_type": "code",
   "execution_count": 5,
   "id": "c46e3ebf",
   "metadata": {
    "ExecuteTime": {
     "end_time": "2021-09-11T20:00:36.202229Z",
     "start_time": "2021-09-11T20:00:34.486752Z"
    }
   },
   "outputs": [
    {
     "data": {
      "text/plain": [
       "WordList(['beautiful day'])"
      ]
     },
     "execution_count": 5,
     "metadata": {},
     "output_type": "execute_result"
    }
   ],
   "source": [
    "blob.noun_phrases # Noun phrase extraction"
   ]
  },
  {
   "cell_type": "code",
   "execution_count": 6,
   "id": "693f66ff",
   "metadata": {
    "ExecuteTime": {
     "end_time": "2021-09-11T20:00:50.304564Z",
     "start_time": "2021-09-11T20:00:50.214464Z"
    }
   },
   "outputs": [
    {
     "data": {
      "text/plain": [
       "Sentiment(polarity=0.85, subjectivity=1.0)"
      ]
     },
     "execution_count": 6,
     "metadata": {},
     "output_type": "execute_result"
    }
   ],
   "source": [
    "blob.sentiment # Sentiment analysis"
   ]
  },
  {
   "cell_type": "code",
   "execution_count": 7,
   "id": "95f29044",
   "metadata": {
    "ExecuteTime": {
     "end_time": "2021-09-11T20:01:06.103565Z",
     "start_time": "2021-09-11T20:01:06.094771Z"
    }
   },
   "outputs": [
    {
     "data": {
      "text/plain": [
       "defaultdict(int, {'today': 1, 'is': 1, 'a': 1, 'beautiful': 1, 'day': 1})"
      ]
     },
     "execution_count": 7,
     "metadata": {},
     "output_type": "execute_result"
    }
   ],
   "source": [
    "blob.word_counts # Word counts"
   ]
  },
  {
   "cell_type": "code",
   "execution_count": 8,
   "id": "8c1c04df",
   "metadata": {
    "ExecuteTime": {
     "end_time": "2021-09-11T20:01:19.435133Z",
     "start_time": "2021-09-11T20:01:19.335471Z"
    }
   },
   "outputs": [
    {
     "data": {
      "text/plain": [
       "TextBlob(\"Today is a beautiful day\")"
      ]
     },
     "execution_count": 8,
     "metadata": {},
     "output_type": "execute_result"
    }
   ],
   "source": [
    "# Spelling correction\n",
    "text = \"Today is a beutiful day\"\n",
    "blob = TextBlob(text)\n",
    "blob.correct()"
   ]
  },
  {
   "cell_type": "markdown",
   "id": "004126f8",
   "metadata": {},
   "source": [
    "[Link to TextBlob](https://textblob.readthedocs.io/en/dev/).\n",
    "\n",
    "[Link to my article about TextBlob](https://towardsdatascience.com/supercharge-your-python-string-with-textblob-2d9c08a8da05?sk=b9de5981cf74c0adf8d9f2a913e3ca05)."
   ]
  },
  {
   "cell_type": "markdown",
   "id": "2faf6cf6",
   "metadata": {},
   "source": [
    "### sumy: Summarize Text in One Line of Code"
   ]
  },
  {
   "cell_type": "code",
   "execution_count": null,
   "id": "f21b9a66",
   "metadata": {
    "tags": [
     "hide-cell"
    ]
   },
   "outputs": [],
   "source": [
    "!pip install sumy"
   ]
  },
  {
   "cell_type": "markdown",
   "id": "8559de18",
   "metadata": {},
   "source": [
    "If you want to summarize text using Python or command line, try sumy.\n",
    "\n",
    "The great things about sumy compared to other summarization tools are that it is easy to use and it allows you to use 7 different methods to summarize the text.\n",
    "\n",
    "Below is how sumy summarizes the article How to Learn Data Science (Step-By-Step) in 2020 at DataQuest."
   ]
  },
  {
   "cell_type": "markdown",
   "id": "3ca5c1a9",
   "metadata": {},
   "source": [
    "```bash\n",
    "$ sumy lex-rank --length=10 --url=https://www.dataquest.io/blog/learn-data-science/ \n",
    "```"
   ]
  },
  {
   "cell_type": "code",
   "execution_count": 10,
   "id": "087847c2",
   "metadata": {
    "ExecuteTime": {
     "end_time": "2021-09-11T20:04:14.779605Z",
     "start_time": "2021-09-11T20:04:13.400330Z"
    }
   },
   "outputs": [
    {
     "name": "stdout",
     "output_type": "stream",
     "text": [
      "So how do you start to learn data science?\r\n",
      "If I had started learning data science this way, I never would have kept going.\r\n",
      "I learn when I’m motivated, and when I know why I’m learning something.\r\n",
      "There’s some science behind this, too.\r\n",
      "If you want to learn data science or just pick up some data science skills, your first goal should be to learn to love data.\r\n",
      "But it’s important to find that thing that makes you want to learn.\r\n",
      "By working on projects, you gain skills that are immediately applicable and useful, because real-world data scientists have to see data science projects through from start to finish, and most of that work is in fundamentals like cleaning and managing the data.\r\n",
      "And so on, until the algorithm worked well.\r\n",
      "Find people to work with at meetups.\r\n",
      "For more information on these, you can take a look at our Data Scientist learning path , which is designed to teach all of the important data science skills for Python learners.\r\n"
     ]
    }
   ],
   "source": [
    "!sumy lex-rank --length=10 --url=https://www.dataquest.io/blog/learn-data-science/ "
   ]
  },
  {
   "cell_type": "markdown",
   "id": "381bd10d",
   "metadata": {},
   "source": [
    "[Link to Sumy](https://github.com/miso-belica/sumy)."
   ]
  },
  {
   "cell_type": "markdown",
   "id": "3bb41352",
   "metadata": {},
   "source": [
    "### Spacy_streamlit: Create a Web App to Visualize Your Text in 3 Lines of Code"
   ]
  },
  {
   "cell_type": "code",
   "execution_count": null,
   "id": "1a6a87d6",
   "metadata": {
    "tags": [
     "hide-cell"
    ]
   },
   "outputs": [],
   "source": [
    "!pip install spacy-streamlit"
   ]
  },
  {
   "cell_type": "markdown",
   "id": "83098e36",
   "metadata": {},
   "source": [
    "If you want to quickly create an app to visualize the structure of a text, try spacy_streamlit. "
   ]
  },
  {
   "cell_type": "markdown",
   "id": "1eb3d963",
   "metadata": {
    "ExecuteTime": {
     "end_time": "2021-09-12T12:22:00.516477Z",
     "start_time": "2021-09-12T12:22:00.343387Z"
    },
    "tags": [
     "hide-output"
    ]
   },
   "source": [
    "To understand how to use spacy_streamlit, we add the code below to a file called `streamlit_app.py`:\n",
    "```python\n",
    "# streamlit_app.py\n",
    "import spacy_streamlit \n",
    "\n",
    "models = ['en_core_web_sm']\n",
    "text = \"Today is a beautiful day\"\n",
    "spacy_streamlit.visualize(models, text)\n",
    "```"
   ]
  },
  {
   "cell_type": "markdown",
   "id": "c34524df",
   "metadata": {},
   "source": [
    "On your terminal, type:\n",
    "```bash\n",
    "$ streamlit run streamlit_app.py\n",
    "```\n",
    "Output:"
   ]
  },
  {
   "cell_type": "code",
   "execution_count": null,
   "id": "252f7039",
   "metadata": {
    "ExecuteTime": {
     "end_time": "2021-09-12T12:24:08.654005Z",
     "start_time": "2021-09-12T12:24:03.503893Z"
    },
    "tags": [
     "hide-cell"
    ]
   },
   "outputs": [],
   "source": [
    "!python -m spacy download en_core_web_sm"
   ]
  },
  {
   "cell_type": "code",
   "execution_count": 39,
   "id": "051d279f",
   "metadata": {
    "ExecuteTime": {
     "end_time": "2021-09-12T12:24:20.087688Z",
     "start_time": "2021-09-12T12:24:13.167505Z"
    },
    "tags": [
     "hide-input"
    ]
   },
   "outputs": [
    {
     "name": "stdout",
     "output_type": "stream",
     "text": [
      "\u001b[0m\n",
      "\u001b[34m\u001b[1m  You can now view your Streamlit app in your browser.\u001b[0m\n",
      "\u001b[0m\n",
      "\u001b[34m  Local URL: \u001b[0m\u001b[1mhttp://localhost:8501\u001b[0m\n",
      "\u001b[34m  Network URL: \u001b[0m\u001b[1mhttp://192.168.1.90:8501\u001b[0m\n",
      "\u001b[0m\n",
      "^C\n",
      "\u001b[34m  Stopping...\u001b[0m\n"
     ]
    }
   ],
   "source": [
    "!streamlit run streamlit_app.py"
   ]
  },
  {
   "cell_type": "markdown",
   "id": "fb7e47e0",
   "metadata": {},
   "source": [
    "Click the URL and you should see something like below:"
   ]
  },
  {
   "cell_type": "markdown",
   "id": "3514ae4f",
   "metadata": {},
   "source": [
    "![image](streamlit_app.png)"
   ]
  },
  {
   "cell_type": "markdown",
   "id": "bc55590d",
   "metadata": {},
   "source": [
    "[Link to spacy-streamlit](https://spacy.io/universe/project/spacy-streamlit)."
   ]
  },
  {
   "cell_type": "markdown",
   "id": "f80e80e7",
   "metadata": {},
   "source": [
    "### textacy: Extract a Contiguous Sequence of 2 Words"
   ]
  },
  {
   "cell_type": "code",
   "execution_count": null,
   "id": "ef39500c",
   "metadata": {
    "tags": [
     "hide-cell"
    ]
   },
   "outputs": [],
   "source": [
    "!pip install spacy textacy"
   ]
  },
  {
   "cell_type": "code",
   "execution_count": null,
   "id": "1b3ecc3f",
   "metadata": {
    "ExecuteTime": {
     "end_time": "2021-09-12T12:24:08.654005Z",
     "start_time": "2021-09-12T12:24:03.503893Z"
    },
    "tags": [
     "hide-cell"
    ]
   },
   "outputs": [],
   "source": [
    "!python -m spacy download en_core_web_sm"
   ]
  },
  {
   "cell_type": "markdown",
   "id": "cf4dbaa0",
   "metadata": {},
   "source": [
    "If you want to extract a contiguous sequence of 2 words, for example, 'data science', not 'data', what should you do? That is when the concept of extracting n-gram from text becomes useful.\n",
    "\n",
    "A really useful tool to easily extract n-gram with a specified number of words in the sequence is `textacy`. "
   ]
  },
  {
   "cell_type": "code",
   "execution_count": 17,
   "id": "682557d5",
   "metadata": {
    "ExecuteTime": {
     "end_time": "2021-09-12T01:12:52.794641Z",
     "start_time": "2021-09-12T01:12:51.502009Z"
    }
   },
   "outputs": [
    {
     "data": {
      "text/plain": [
       "Data science          1\n",
       "disciplinary field    1\n",
       "uses scientific       1\n",
       "scientific methods    1\n",
       "extract knowledge     1\n",
       "unstructured data     1\n",
       "dtype: int64"
      ]
     },
     "execution_count": 17,
     "metadata": {},
     "output_type": "execute_result"
    }
   ],
   "source": [
    "import pandas as pd \n",
    "import spacy \n",
    "from textacy.extract import ngrams\n",
    "\n",
    "nlp = spacy.load('en_core_web_sm')\n",
    "\n",
    "text = nlp('Data science is an inter-disciplinary field that uses'\n",
    "' scientific methods, processes, algorithms, and systme to extract'\n",
    "' knowledge and insights from many structural and unstructured data.')\n",
    "\n",
    "n_grams = 2 # contiguous sequence of a word\n",
    "min_freq = 1 # extract n -gram based on its frequency\n",
    "\n",
    "pd.Series([n.text for n in ngrams(text, n=n_grams, min_freq=1)]).value_counts()"
   ]
  },
  {
   "cell_type": "markdown",
   "id": "40a0bd44",
   "metadata": {},
   "source": [
    "[Link to textacy](https://textacy.readthedocs.io/en/stable/quickstart.html#working-with-text)"
   ]
  },
  {
   "cell_type": "markdown",
   "id": "040bd4b1",
   "metadata": {},
   "source": [
    "### Convert Number to Words\n"
   ]
  },
  {
   "cell_type": "code",
   "execution_count": null,
   "id": "fb172def",
   "metadata": {
    "tags": [
     "hide-cell"
    ]
   },
   "outputs": [],
   "source": [
    "!pip install num2words"
   ]
  },
  {
   "cell_type": "markdown",
   "id": "aef1c93b",
   "metadata": {},
   "source": [
    "If there are both number 105 and the words ‘one hundred and five’ in a text, they should deliver the same meaning. How can we map 105 to ‘one hundred and five’? There is a Python libary to convert number to words called `num2words`."
   ]
  },
  {
   "cell_type": "code",
   "execution_count": 21,
   "id": "d3ba4c1f",
   "metadata": {
    "ExecuteTime": {
     "end_time": "2021-09-12T01:17:44.525617Z",
     "start_time": "2021-09-12T01:17:44.463076Z"
    }
   },
   "outputs": [
    {
     "data": {
      "text/plain": [
       "'one hundred and five'"
      ]
     },
     "execution_count": 21,
     "metadata": {},
     "output_type": "execute_result"
    }
   ],
   "source": [
    "from num2words import num2words\n",
    "\n",
    "num2words(105)"
   ]
  },
  {
   "cell_type": "code",
   "execution_count": 22,
   "id": "7a379948",
   "metadata": {
    "ExecuteTime": {
     "end_time": "2021-09-12T01:17:53.134501Z",
     "start_time": "2021-09-12T01:17:53.126101Z"
    }
   },
   "outputs": [
    {
     "data": {
      "text/plain": [
       "'one hundred and fifth'"
      ]
     },
     "execution_count": 22,
     "metadata": {},
     "output_type": "execute_result"
    }
   ],
   "source": [
    "num2words(105, to='ordinal')"
   ]
  },
  {
   "cell_type": "markdown",
   "id": "81498145",
   "metadata": {},
   "source": [
    "The library can also generate ordinal numbers and support multiple languages! "
   ]
  },
  {
   "cell_type": "code",
   "execution_count": 23,
   "id": "4f79b0cc",
   "metadata": {
    "ExecuteTime": {
     "end_time": "2021-09-12T01:18:04.781863Z",
     "start_time": "2021-09-12T01:18:04.774405Z"
    }
   },
   "outputs": [
    {
     "name": "stdout",
     "output_type": "stream",
     "text": [
      "một trăm lẻ năm\n"
     ]
    }
   ],
   "source": [
    "num2words(105, lang='vi')"
   ]
  },
  {
   "cell_type": "code",
   "execution_count": 25,
   "id": "1e78e675",
   "metadata": {
    "ExecuteTime": {
     "end_time": "2021-09-12T01:18:29.030052Z",
     "start_time": "2021-09-12T01:18:29.022006Z"
    }
   },
   "outputs": [
    {
     "data": {
      "text/plain": [
       "'ciento cinco'"
      ]
     },
     "execution_count": 25,
     "metadata": {},
     "output_type": "execute_result"
    }
   ],
   "source": [
    "num2words(105, lang='es')"
   ]
  },
  {
   "cell_type": "markdown",
   "id": "56643f49",
   "metadata": {},
   "source": [
    "[Link to num2words](https://github.com/savoirfairelinux/num2words)."
   ]
  },
  {
   "cell_type": "markdown",
   "id": "60f4b297",
   "metadata": {},
   "source": [
    "### texthero.clean: Preprocess Text in One Line of Code"
   ]
  },
  {
   "cell_type": "code",
   "execution_count": null,
   "id": "d8694454",
   "metadata": {
    "tags": [
     "hide-cell"
    ]
   },
   "outputs": [],
   "source": [
    "!pip install texthero"
   ]
  },
  {
   "cell_type": "markdown",
   "id": "5587cf7f",
   "metadata": {},
   "source": [
    "If you want to preprocess text in one line of code, try texthero. The `texthero.clean` method will:\n",
    "\n",
    "- fill missing values\n",
    "- convert upper case to lower case\n",
    "- remove digits\n",
    "- remove punctuation\n",
    "- remove stopwords\n",
    "- remove whitespace\n",
    "\n",
    "The code below shows an example of `texthero.clean`."
   ]
  },
  {
   "cell_type": "code",
   "execution_count": 27,
   "id": "968c0243",
   "metadata": {
    "ExecuteTime": {
     "end_time": "2021-09-12T01:20:58.147789Z",
     "start_time": "2021-09-12T01:20:57.533270Z"
    }
   },
   "outputs": [
    {
     "data": {
      "text/plain": [
       "0    today beautiful day\n",
       "1             ducks pond\n",
       "2                   cool\n",
       "3                       \n",
       "Name: text, dtype: object"
      ]
     },
     "execution_count": 27,
     "metadata": {},
     "output_type": "execute_result"
    }
   ],
   "source": [
    "import numpy as np\n",
    "import pandas as pd\n",
    "import texthero as hero\n",
    "\n",
    "df = pd.DataFrame(\n",
    "    {\n",
    "        \"text\": [\n",
    "            \"Today is a    beautiful day\",\n",
    "            \"There are 3 ducks in this pond\",\n",
    "            \"This is. very cool.\",\n",
    "            np.nan,\n",
    "        ]\n",
    "    }\n",
    ")\n",
    "\n",
    "df.text.pipe(hero.clean)"
   ]
  },
  {
   "cell_type": "markdown",
   "id": "a87d741a",
   "metadata": {},
   "source": [
    "Texthero also provides other useful methods to process and visualize text.\n",
    "\n",
    "[Link to texthero](https://github.com/jbesomi/texthero)."
   ]
  },
  {
   "cell_type": "markdown",
   "id": "ac3289d9",
   "metadata": {},
   "source": [
    "### wordfreq: Estimate the Frequency of a Word in 36 Languages"
   ]
  },
  {
   "cell_type": "code",
   "execution_count": null,
   "id": "8953b1ef",
   "metadata": {
    "tags": [
     "hide-cell"
    ]
   },
   "outputs": [],
   "source": [
    "!pip install wordfreq"
   ]
  },
  {
   "cell_type": "markdown",
   "id": "52a50df1",
   "metadata": {},
   "source": [
    "If you want to look up the frequency of a certain word in your language, try wordfreq.\n",
    "\n",
    "wordfreq supports 36 languages. wordfreq even covers words that appear at least once per 10 million words."
   ]
  },
  {
   "cell_type": "code",
   "execution_count": 31,
   "id": "ae9d7283",
   "metadata": {
    "ExecuteTime": {
     "end_time": "2021-09-12T01:22:51.500416Z",
     "start_time": "2021-09-12T01:22:51.144681Z"
    }
   },
   "outputs": [
    {
     "data": {
      "text/plain": [
       "0.000135"
      ]
     },
     "execution_count": 31,
     "metadata": {},
     "output_type": "execute_result"
    }
   ],
   "source": [
    "import matplotlib.pyplot as plt\n",
    "import seaborn as sns\n",
    "from wordfreq import word_frequency\n",
    "\n",
    "word_frequency(\"eat\", \"en\")"
   ]
  },
  {
   "cell_type": "code",
   "execution_count": 32,
   "id": "aeb56cee",
   "metadata": {
    "ExecuteTime": {
     "end_time": "2021-09-12T01:22:59.897654Z",
     "start_time": "2021-09-12T01:22:59.889090Z"
    }
   },
   "outputs": [
    {
     "data": {
      "text/plain": [
       "0.0537"
      ]
     },
     "execution_count": 32,
     "metadata": {},
     "output_type": "execute_result"
    }
   ],
   "source": [
    "word_frequency(\"the\", \"en\")"
   ]
  },
  {
   "cell_type": "code",
   "execution_count": 33,
   "id": "b44c4d07",
   "metadata": {
    "ExecuteTime": {
     "end_time": "2021-09-12T01:23:03.673539Z",
     "start_time": "2021-09-12T01:23:03.436036Z"
    }
   },
   "outputs": [
    {
     "name": "stderr",
     "output_type": "stream",
     "text": [
      "/home/khuyen/book/venv/lib/python3.8/site-packages/seaborn/_decorators.py:36: FutureWarning: Pass the following variables as keyword args: x, y. From version 0.12, the only valid positional argument will be `data`, and passing other arguments without an explicit keyword will result in an error or misinterpretation.\n",
      "  warnings.warn(\n"
     ]
    },
    {
     "data": {
      "image/png": "[encoded data removed]",
      "text/plain": [
       "<Figure size 432x288 with 1 Axes>"
      ]
     },
     "metadata": {
      "needs_background": "light"
     },
     "output_type": "display_data"
    }
   ],
   "source": [
    "sentence = \"There is a dog running in a park\"\n",
    "words = sentence.split(\" \")\n",
    "word_frequencies = [word_frequency(word, \"en\") for word in words]\n",
    "\n",
    "sns.barplot(words, word_frequencies)\n",
    "plt.show()"
   ]
  },
  {
   "cell_type": "markdown",
   "id": "b3ed999d",
   "metadata": {},
   "source": [
    "[Link to wordfreq](https://github.com/khuyentran1401/Python-data-science-code-snippet/blob/master/code_snippets/data_science_tools/wordfreq_example.py)."
   ]
  },
  {
   "cell_type": "markdown",
   "id": "3eebf9b7",
   "metadata": {},
   "source": [
    "### newspaper3k: Extract Meaningful Information From an Articles in 2 Lines of Code"
   ]
  },
  {
   "cell_type": "code",
   "execution_count": null,
   "id": "1a6804ef",
   "metadata": {
    "ExecuteTime": {
     "end_time": "2021-09-12T21:56:27.223712Z",
     "start_time": "2021-09-12T21:56:25.491100Z"
    },
    "tags": [
     "hide-cell"
    ]
   },
   "outputs": [],
   "source": [
    "!pip install newspaper3k nltk"
   ]
  },
  {
   "cell_type": "markdown",
   "id": "fc9a749b",
   "metadata": {},
   "source": [
    "If you want to quickly extract meaningful information from an article in a few lines of code, try newspaper3k. "
   ]
  },
  {
   "cell_type": "code",
   "execution_count": 20,
   "id": "5508ed20",
   "metadata": {
    "ExecuteTime": {
     "end_time": "2021-09-11T19:12:24.743567Z",
     "start_time": "2021-09-11T19:12:24.724143Z"
    }
   },
   "outputs": [
    {
     "name": "stderr",
     "output_type": "stream",
     "text": [
      "[nltk_data] Downloading package punkt to /home/khuyen/nltk_data...\n",
      "[nltk_data]   Package punkt is already up-to-date!\n"
     ]
    },
    {
     "data": {
      "text/plain": [
       "True"
      ]
     },
     "execution_count": 20,
     "metadata": {},
     "output_type": "execute_result"
    },
    {
     "data": {
      "application/javascript": [
       "\n",
       "            setTimeout(function() {\n",
       "                var nbb_cell_id = 20;\n",
       "                var nbb_unformatted_code = \"from newspaper import Article\\nimport nltk\\nnltk.download('punkt')\";\n",
       "                var nbb_formatted_code = \"from newspaper import Article\\nimport nltk\\n\\nnltk.download(\\\"punkt\\\")\";\n",
       "                var nbb_cells = Jupyter.notebook.get_cells();\n",
       "                for (var i = 0; i < nbb_cells.length; ++i) {\n",
       "                    if (nbb_cells[i].input_prompt_number == nbb_cell_id) {\n",
       "                        if (nbb_cells[i].get_text() == nbb_unformatted_code) {\n",
       "                             nbb_cells[i].set_text(nbb_formatted_code);\n",
       "                        }\n",
       "                        break;\n",
       "                    }\n",
       "                }\n",
       "            }, 500);\n",
       "            "
      ],
      "text/plain": [
       "<IPython.core.display.Javascript object>"
      ]
     },
     "metadata": {},
     "output_type": "display_data"
    }
   ],
   "source": [
    "from newspaper import Article\n",
    "import nltk\n",
    "\n",
    "nltk.download(\"punkt\")"
   ]
  },
  {
   "cell_type": "code",
   "execution_count": 21,
   "id": "e4e566da",
   "metadata": {
    "ExecuteTime": {
     "end_time": "2021-09-11T19:12:33.703140Z",
     "start_time": "2021-09-11T19:12:32.623817Z"
    }
   },
   "outputs": [
    {
     "data": {
      "application/javascript": [
       "\n",
       "            setTimeout(function() {\n",
       "                var nbb_cell_id = 21;\n",
       "                var nbb_unformatted_code = \"url = \\\"https://www.dataquest.io/blog/learn-data-science/\\\"\\narticle = Article(url)\\narticle.download()\\narticle.parse()\";\n",
       "                var nbb_formatted_code = \"url = \\\"https://www.dataquest.io/blog/learn-data-science/\\\"\\narticle = Article(url)\\narticle.download()\\narticle.parse()\";\n",
       "                var nbb_cells = Jupyter.notebook.get_cells();\n",
       "                for (var i = 0; i < nbb_cells.length; ++i) {\n",
       "                    if (nbb_cells[i].input_prompt_number == nbb_cell_id) {\n",
       "                        if (nbb_cells[i].get_text() == nbb_unformatted_code) {\n",
       "                             nbb_cells[i].set_text(nbb_formatted_code);\n",
       "                        }\n",
       "                        break;\n",
       "                    }\n",
       "                }\n",
       "            }, 500);\n",
       "            "
      ],
      "text/plain": [
       "<IPython.core.display.Javascript object>"
      ]
     },
     "metadata": {},
     "output_type": "display_data"
    }
   ],
   "source": [
    "url = \"https://www.dataquest.io/blog/learn-data-science/\"\n",
    "article = Article(url)\n",
    "article.download()\n",
    "article.parse()"
   ]
  },
  {
   "cell_type": "code",
   "execution_count": 22,
   "id": "e50e2ff8",
   "metadata": {
    "ExecuteTime": {
     "end_time": "2021-09-11T19:12:39.679832Z",
     "start_time": "2021-09-11T19:12:39.663924Z"
    }
   },
   "outputs": [
    {
     "data": {
      "text/plain": [
       "'How to Learn Data Science (A step-by-step guide)'"
      ]
     },
     "execution_count": 22,
     "metadata": {},
     "output_type": "execute_result"
    },
    {
     "data": {
      "application/javascript": [
       "\n",
       "            setTimeout(function() {\n",
       "                var nbb_cell_id = 22;\n",
       "                var nbb_unformatted_code = \"article.title\";\n",
       "                var nbb_formatted_code = \"article.title\";\n",
       "                var nbb_cells = Jupyter.notebook.get_cells();\n",
       "                for (var i = 0; i < nbb_cells.length; ++i) {\n",
       "                    if (nbb_cells[i].input_prompt_number == nbb_cell_id) {\n",
       "                        if (nbb_cells[i].get_text() == nbb_unformatted_code) {\n",
       "                             nbb_cells[i].set_text(nbb_formatted_code);\n",
       "                        }\n",
       "                        break;\n",
       "                    }\n",
       "                }\n",
       "            }, 500);\n",
       "            "
      ],
      "text/plain": [
       "<IPython.core.display.Javascript object>"
      ]
     },
     "metadata": {},
     "output_type": "display_data"
    }
   ],
   "source": [
    "article.title"
   ]
  },
  {
   "cell_type": "code",
   "execution_count": 23,
   "id": "9367a144",
   "metadata": {
    "ExecuteTime": {
     "end_time": "2021-09-11T19:12:44.416486Z",
     "start_time": "2021-09-11T19:12:44.400053Z"
    }
   },
   "outputs": [
    {
     "data": {
      "text/plain": [
       "datetime.datetime(2020, 5, 4, 7, 1, tzinfo=tzutc())"
      ]
     },
     "execution_count": 23,
     "metadata": {},
     "output_type": "execute_result"
    },
    {
     "data": {
      "application/javascript": [
       "\n",
       "            setTimeout(function() {\n",
       "                var nbb_cell_id = 23;\n",
       "                var nbb_unformatted_code = \"article.publish_date\";\n",
       "                var nbb_formatted_code = \"article.publish_date\";\n",
       "                var nbb_cells = Jupyter.notebook.get_cells();\n",
       "                for (var i = 0; i < nbb_cells.length; ++i) {\n",
       "                    if (nbb_cells[i].input_prompt_number == nbb_cell_id) {\n",
       "                        if (nbb_cells[i].get_text() == nbb_unformatted_code) {\n",
       "                             nbb_cells[i].set_text(nbb_formatted_code);\n",
       "                        }\n",
       "                        break;\n",
       "                    }\n",
       "                }\n",
       "            }, 500);\n",
       "            "
      ],
      "text/plain": [
       "<IPython.core.display.Javascript object>"
      ]
     },
     "metadata": {},
     "output_type": "display_data"
    }
   ],
   "source": [
    "article.publish_date"
   ]
  },
  {
   "cell_type": "code",
   "execution_count": 24,
   "id": "ff421812",
   "metadata": {
    "ExecuteTime": {
     "end_time": "2021-09-11T19:12:49.319814Z",
     "start_time": "2021-09-11T19:12:49.304319Z"
    }
   },
   "outputs": [
    {
     "data": {
      "text/plain": [
       "'https://www.dataquest.io/wp-content/uploads/2020/05/learn-data-science.jpg'"
      ]
     },
     "execution_count": 24,
     "metadata": {},
     "output_type": "execute_result"
    },
    {
     "data": {
      "application/javascript": [
       "\n",
       "            setTimeout(function() {\n",
       "                var nbb_cell_id = 24;\n",
       "                var nbb_unformatted_code = \"article.top_image\";\n",
       "                var nbb_formatted_code = \"article.top_image\";\n",
       "                var nbb_cells = Jupyter.notebook.get_cells();\n",
       "                for (var i = 0; i < nbb_cells.length; ++i) {\n",
       "                    if (nbb_cells[i].input_prompt_number == nbb_cell_id) {\n",
       "                        if (nbb_cells[i].get_text() == nbb_unformatted_code) {\n",
       "                             nbb_cells[i].set_text(nbb_formatted_code);\n",
       "                        }\n",
       "                        break;\n",
       "                    }\n",
       "                }\n",
       "            }, 500);\n",
       "            "
      ],
      "text/plain": [
       "<IPython.core.display.Javascript object>"
      ]
     },
     "metadata": {},
     "output_type": "display_data"
    }
   ],
   "source": [
    "article.top_image"
   ]
  },
  {
   "cell_type": "code",
   "execution_count": 25,
   "id": "b93c066d",
   "metadata": {
    "ExecuteTime": {
     "end_time": "2021-09-11T19:12:56.330559Z",
     "start_time": "2021-09-11T19:12:56.271488Z"
    }
   },
   "outputs": [
    {
     "data": {
      "application/javascript": [
       "\n",
       "            setTimeout(function() {\n",
       "                var nbb_cell_id = 25;\n",
       "                var nbb_unformatted_code = \"article.nlp()\";\n",
       "                var nbb_formatted_code = \"article.nlp()\";\n",
       "                var nbb_cells = Jupyter.notebook.get_cells();\n",
       "                for (var i = 0; i < nbb_cells.length; ++i) {\n",
       "                    if (nbb_cells[i].input_prompt_number == nbb_cell_id) {\n",
       "                        if (nbb_cells[i].get_text() == nbb_unformatted_code) {\n",
       "                             nbb_cells[i].set_text(nbb_formatted_code);\n",
       "                        }\n",
       "                        break;\n",
       "                    }\n",
       "                }\n",
       "            }, 500);\n",
       "            "
      ],
      "text/plain": [
       "<IPython.core.display.Javascript object>"
      ]
     },
     "metadata": {},
     "output_type": "display_data"
    }
   ],
   "source": [
    "article.nlp()"
   ]
  },
  {
   "cell_type": "code",
   "execution_count": 26,
   "id": "182ef99e",
   "metadata": {
    "ExecuteTime": {
     "end_time": "2021-09-11T19:13:00.681926Z",
     "start_time": "2021-09-11T19:13:00.666440Z"
    }
   },
   "outputs": [
    {
     "data": {
      "text/plain": [
       "'How to Learn Data ScienceSo how do you start to learn data science?\\nIf you want to learn data science or just pick up some data science skills, your first goal should be to learn to love data.\\nRather, consider it as a rough set of guidelines to follow as you learn data science on your own path.\\nI personally believe that anyone can learn data science if they approach it with the right frame of mind.\\nI’m also the founder of Dataquest, a site that helps you learn data science in your browser.'"
      ]
     },
     "execution_count": 26,
     "metadata": {},
     "output_type": "execute_result"
    },
    {
     "data": {
      "application/javascript": [
       "\n",
       "            setTimeout(function() {\n",
       "                var nbb_cell_id = 26;\n",
       "                var nbb_unformatted_code = \"article.summary\";\n",
       "                var nbb_formatted_code = \"article.summary\";\n",
       "                var nbb_cells = Jupyter.notebook.get_cells();\n",
       "                for (var i = 0; i < nbb_cells.length; ++i) {\n",
       "                    if (nbb_cells[i].input_prompt_number == nbb_cell_id) {\n",
       "                        if (nbb_cells[i].get_text() == nbb_unformatted_code) {\n",
       "                             nbb_cells[i].set_text(nbb_formatted_code);\n",
       "                        }\n",
       "                        break;\n",
       "                    }\n",
       "                }\n",
       "            }, 500);\n",
       "            "
      ],
      "text/plain": [
       "<IPython.core.display.Javascript object>"
      ]
     },
     "metadata": {},
     "output_type": "display_data"
    }
   ],
   "source": [
    "article.summary"
   ]
  },
  {
   "cell_type": "code",
   "execution_count": 27,
   "id": "d2b3b04e",
   "metadata": {
    "ExecuteTime": {
     "end_time": "2021-09-11T19:13:05.338257Z",
     "start_time": "2021-09-11T19:13:05.322325Z"
    }
   },
   "outputs": [
    {
     "data": {
      "text/plain": [
       "['scientists',\n",
       " 'guide',\n",
       " 'learning',\n",
       " 'youre',\n",
       " 'science',\n",
       " 'work',\n",
       " 'skills',\n",
       " 'youll',\n",
       " 'data',\n",
       " 'learn',\n",
       " 'stepbystep',\n",
       " 'need']"
      ]
     },
     "execution_count": 27,
     "metadata": {},
     "output_type": "execute_result"
    },
    {
     "data": {
      "application/javascript": [
       "\n",
       "            setTimeout(function() {\n",
       "                var nbb_cell_id = 27;\n",
       "                var nbb_unformatted_code = \"article.keywords\";\n",
       "                var nbb_formatted_code = \"article.keywords\";\n",
       "                var nbb_cells = Jupyter.notebook.get_cells();\n",
       "                for (var i = 0; i < nbb_cells.length; ++i) {\n",
       "                    if (nbb_cells[i].input_prompt_number == nbb_cell_id) {\n",
       "                        if (nbb_cells[i].get_text() == nbb_unformatted_code) {\n",
       "                             nbb_cells[i].set_text(nbb_formatted_code);\n",
       "                        }\n",
       "                        break;\n",
       "                    }\n",
       "                }\n",
       "            }, 500);\n",
       "            "
      ],
      "text/plain": [
       "<IPython.core.display.Javascript object>"
      ]
     },
     "metadata": {},
     "output_type": "display_data"
    }
   ],
   "source": [
    "article.keywords"
   ]
  },
  {
   "cell_type": "markdown",
   "id": "db3efc37",
   "metadata": {},
   "source": [
    "[Link to newspaper3k](https://newspaper.readthedocs.io/en/latest/user_guide/quickstart.html?highlight=parse#performing-nlp-on-an-article).\n",
    "\n"
   ]
  },
  {
   "cell_type": "markdown",
   "id": "46dfb738",
   "metadata": {},
   "source": [
    "### Questgen.ai: Question Generator in Python"
   ]
  },
  {
   "cell_type": "code",
   "execution_count": null,
   "id": "64608453",
   "metadata": {
    "ExecuteTime": {
     "end_time": "2021-11-03T12:44:17.237243Z",
     "start_time": "2021-11-03T12:43:07.420999Z"
    },
    "tags": [
     "hide-cell"
    ]
   },
   "outputs": [],
   "source": [
    "!pip install git+https://github.com/ramsrigouthamg/Questgen.ai\n",
    "!pip install git+https://github.com/boudinfl/pke.git\n",
    "\n",
    "!python -m nltk.downloader universal_tagset\n",
    "!python -m spacy download en "
   ]
  },
  {
   "cell_type": "code",
   "execution_count": null,
   "id": "83bbacf2",
   "metadata": {
    "ExecuteTime": {
     "end_time": "2021-11-03T13:01:36.813376Z",
     "start_time": "2021-11-03T12:54:03.103240Z"
    },
    "tags": [
     "hide-cell"
    ]
   },
   "outputs": [],
   "source": [
    "!wget https://github.com/explosion/sense2vec/releases/download/v1.0.0/s2v_reddit_2015_md.tar.gz\n",
    "!tar -xvf  s2v_reddit_2015_md.tar.gz"
   ]
  },
  {
   "cell_type": "markdown",
   "id": "981d54e6",
   "metadata": {},
   "source": [
    "It can be time-consuming to generate questions for a document. Wouldn't it be nice if you can automatically generate questions using Python? That is when `Questgen.ai` comes in handy. \n",
    "\n",
    "With a few lines of code, the questions for your document are automatically generated."
   ]
  },
  {
   "cell_type": "code",
   "execution_count": null,
   "id": "967ef9b3",
   "metadata": {
    "ExecuteTime": {
     "end_time": "2021-11-03T12:48:11.011581Z",
     "start_time": "2021-11-03T12:44:37.367653Z"
    }
   },
   "outputs": [],
   "source": [
    "from pprint import pprint\n",
    "import nltk\n",
    "nltk.download('stopwords')\n",
    "from Questgen import main"
   ]
  },
  {
   "cell_type": "code",
   "execution_count": 21,
   "id": "2438e4b6",
   "metadata": {
    "ExecuteTime": {
     "end_time": "2021-11-03T13:11:36.483160Z",
     "start_time": "2021-11-03T13:11:36.467487Z"
    }
   },
   "outputs": [
    {
     "data": {
      "application/javascript": [
       "\n",
       "            setTimeout(function() {\n",
       "                var nbb_cell_id = 21;\n",
       "                var nbb_unformatted_code = \"payload = {\\n    \\\"input_text\\\": \\\"\\\"\\\"The weather today was nice so I went for a walk. I stopped for a quick chat with my neighbor.\\n    It turned out that my neighbor just got a dog named Pepper. It is a black Labrador Retriever.\\\"\\\"\\\"\\n}\";\n",
       "                var nbb_formatted_code = \"payload = {\\n    \\\"input_text\\\": \\\"\\\"\\\"The weather today was nice so I went for a walk. I stopped for a quick chat with my neighbor.\\n    It turned out that my neighbor just got a dog named Pepper. It is a black Labrador Retriever.\\\"\\\"\\\"\\n}\";\n",
       "                var nbb_cells = Jupyter.notebook.get_cells();\n",
       "                for (var i = 0; i < nbb_cells.length; ++i) {\n",
       "                    if (nbb_cells[i].input_prompt_number == nbb_cell_id) {\n",
       "                        if (nbb_cells[i].get_text() == nbb_unformatted_code) {\n",
       "                             nbb_cells[i].set_text(nbb_formatted_code);\n",
       "                        }\n",
       "                        break;\n",
       "                    }\n",
       "                }\n",
       "            }, 500);\n",
       "            "
      ],
      "text/plain": [
       "<IPython.core.display.Javascript object>"
      ]
     },
     "metadata": {},
     "output_type": "display_data"
    }
   ],
   "source": [
    "payload = {\n",
    "    \"input_text\": \"\"\"The weather today was nice so I went for a walk. I stopped for a quick chat with my neighbor.\n",
    "    It turned out that my neighbor just got a dog named Pepper. It is a black Labrador Retriever.\"\"\"\n",
    "}"
   ]
  },
  {
   "cell_type": "markdown",
   "id": "bdbcf960",
   "metadata": {},
   "source": [
    "With `Questgen.ai`, you can either generate boolean questions:"
   ]
  },
  {
   "cell_type": "code",
   "execution_count": 22,
   "id": "867f0c5d",
   "metadata": {
    "ExecuteTime": {
     "end_time": "2021-11-03T13:11:42.576050Z",
     "start_time": "2021-11-03T13:11:37.248535Z"
    }
   },
   "outputs": [
    {
     "name": "stdout",
     "output_type": "stream",
     "text": [
      "{'Boolean Questions': ['Is there a dog in my neighborhood?',\n",
      "                       \"Is pepper my neighbor's dog?\",\n",
      "                       'Is pepper the same as a labrador?'],\n",
      " 'Count': 4,\n",
      " 'Text': 'The weather today was nice so I went for a walk. I stopped for a '\n",
      "         'quick chat with my neighbor.\\n'\n",
      "         '    It turned out that my neighbor just got a dog named Pepper. It '\n",
      "         'is a black Labrador Retriever.'}\n"
     ]
    },
    {
     "data": {
      "application/javascript": [
       "\n",
       "            setTimeout(function() {\n",
       "                var nbb_cell_id = 22;\n",
       "                var nbb_unformatted_code = \"qe = main.BoolQGen()\\noutput = qe.predict_boolq(payload)\\npprint(output)\";\n",
       "                var nbb_formatted_code = \"qe = main.BoolQGen()\\noutput = qe.predict_boolq(payload)\\npprint(output)\";\n",
       "                var nbb_cells = Jupyter.notebook.get_cells();\n",
       "                for (var i = 0; i < nbb_cells.length; ++i) {\n",
       "                    if (nbb_cells[i].input_prompt_number == nbb_cell_id) {\n",
       "                        if (nbb_cells[i].get_text() == nbb_unformatted_code) {\n",
       "                             nbb_cells[i].set_text(nbb_formatted_code);\n",
       "                        }\n",
       "                        break;\n",
       "                    }\n",
       "                }\n",
       "            }, 500);\n",
       "            "
      ],
      "text/plain": [
       "<IPython.core.display.Javascript object>"
      ]
     },
     "metadata": {},
     "output_type": "display_data"
    }
   ],
   "source": [
    "qe = main.BoolQGen()\n",
    "output = qe.predict_boolq(payload)\n",
    "pprint(output)"
   ]
  },
  {
   "cell_type": "markdown",
   "id": "16448c3c",
   "metadata": {},
   "source": [
    "... or generate FAQ questions:"
   ]
  },
  {
   "cell_type": "code",
   "execution_count": 23,
   "id": "c44be100",
   "metadata": {
    "ExecuteTime": {
     "end_time": "2021-11-03T13:11:43.522500Z",
     "start_time": "2021-11-03T13:11:42.577676Z"
    }
   },
   "outputs": [
    {
     "name": "stdout",
     "output_type": "stream",
     "text": [
      "Running model for generation\n",
      "{'questions': [{'Question': 'What was the purpose of the stop?', 'Answer': 'chat', 'id': 1, 'context': 'I stopped for a quick chat with my neighbor.'}, {'Question': 'Who got a dog named Pepper?', 'Answer': 'neighbor', 'id': 2, 'context': 'It turned out that my neighbor just got a dog named Pepper. I stopped for a quick chat with my neighbor.'}]}\n",
      "{'questions': [{'Answer': 'chat',\n",
      "                'Question': 'What was the purpose of the stop?',\n",
      "                'context': 'I stopped for a quick chat with my neighbor.',\n",
      "                'id': 1},\n",
      "               {'Answer': 'neighbor',\n",
      "                'Question': 'Who got a dog named Pepper?',\n",
      "                'context': 'It turned out that my neighbor just got a dog '\n",
      "                           'named Pepper. I stopped for a quick chat with my '\n",
      "                           'neighbor.',\n",
      "                'id': 2}],\n",
      " 'statement': 'The weather today was nice so I went for a walk. I stopped for '\n",
      "              'a quick chat with my neighbor. It turned out that my neighbor '\n",
      "              'just got a dog named Pepper. It is a black Labrador Retriever.'}\n"
     ]
    },
    {
     "data": {
      "application/javascript": [
       "\n",
       "            setTimeout(function() {\n",
       "                var nbb_cell_id = 23;\n",
       "                var nbb_unformatted_code = \"output = qg.predict_shortq(payload)\\npprint(output)\";\n",
       "                var nbb_formatted_code = \"output = qg.predict_shortq(payload)\\npprint(output)\";\n",
       "                var nbb_cells = Jupyter.notebook.get_cells();\n",
       "                for (var i = 0; i < nbb_cells.length; ++i) {\n",
       "                    if (nbb_cells[i].input_prompt_number == nbb_cell_id) {\n",
       "                        if (nbb_cells[i].get_text() == nbb_unformatted_code) {\n",
       "                             nbb_cells[i].set_text(nbb_formatted_code);\n",
       "                        }\n",
       "                        break;\n",
       "                    }\n",
       "                }\n",
       "            }, 500);\n",
       "            "
      ],
      "text/plain": [
       "<IPython.core.display.Javascript object>"
      ]
     },
     "metadata": {},
     "output_type": "display_data"
    }
   ],
   "source": [
    "output = qg.predict_shortq(payload)\n",
    "pprint(output)"
   ]
  },
  {
   "cell_type": "markdown",
   "id": "cefda206",
   "metadata": {},
   "source": [
    "[Link to Questgen.ai](https://github.com/ramsrigouthamg/Questgen.ai)."
   ]
  }
 ],
 "metadata": {
  "celltoolbar": "Tags",
  "kernelspec": {
   "display_name": "Python 3 (ipykernel)",
   "language": "python",
   "name": "python3"
  },
  "language_info": {
   "codemirror_mode": {
    "name": "ipython",
    "version": 3
   },
   "file_extension": ".py",
   "mimetype": "text/x-python",
   "name": "python",
   "nbconvert_exporter": "python",
   "pygments_lexer": "ipython3",
   "version": "3.8.10"
  },
  "toc": {
   "base_numbering": 1,
   "nav_menu": {},
   "number_sections": true,
   "sideBar": true,
   "skip_h1_title": false,
   "title_cell": "Table of Contents",
   "title_sidebar": "Contents",
   "toc_cell": false,
   "toc_position": {},
   "toc_section_display": true,
   "toc_window_display": false
  }
 },
 "nbformat": 4,
 "nbformat_minor": 5
}
