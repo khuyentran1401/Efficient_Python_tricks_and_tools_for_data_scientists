{
 "cells": [
  {
   "cell_type": "markdown",
   "id": "dd824a41",
   "metadata": {},
   "source": [
    "## Better Pandas"
   ]
  },
  {
   "cell_type": "markdown",
   "id": "f92f2be7",
   "metadata": {},
   "source": [
    "This section cover tools to make your experience with Pandas a litte bit better."
   ]
  },
  {
   "cell_type": "markdown",
   "id": "f6e22f0c",
   "metadata": {},
   "source": [
    "### tqdm: Add Progress Bar to Your Pandas Apply"
   ]
  },
  {
   "cell_type": "code",
   "execution_count": null,
   "id": "303d7c3d",
   "metadata": {
    "tags": [
     "hide-cell"
    ]
   },
   "outputs": [],
   "source": [
    "!pip install tqdm "
   ]
  },
  {
   "cell_type": "markdown",
   "id": "13882815",
   "metadata": {},
   "source": [
    "If you want to have a progress bar to get updated about the progress of your pandas apply, try tqdm."
   ]
  },
  {
   "cell_type": "code",
   "execution_count": 1,
   "id": "23534f5d",
   "metadata": {
    "ExecuteTime": {
     "end_time": "2021-09-12T11:49:38.035431Z",
     "start_time": "2021-09-12T11:49:32.613494Z"
    }
   },
   "outputs": [
    {
     "name": "stderr",
     "output_type": "stream",
     "text": [
      "100%|████████████████████████████████████████████████████████████████████████████████████████████████████████████████████| 5/5 [00:05<00:00,  1.00s/it]\n"
     ]
    },
    {
     "data": {
      "text/plain": [
       "0    2\n",
       "1    3\n",
       "2    4\n",
       "3    5\n",
       "4    6\n",
       "Name: a, dtype: int64"
      ]
     },
     "execution_count": 1,
     "metadata": {},
     "output_type": "execute_result"
    }
   ],
   "source": [
    "import pandas as pd \n",
    "from tqdm import tqdm \n",
    "import time \n",
    "\n",
    "df = pd.DataFrame({'a': [1, 2, 3, 4, 5], 'b': [2, 3, 4, 5, 6]})\n",
    "\n",
    "tqdm.pandas()\n",
    "def func(row):\n",
    "    time.sleep(1)\n",
    "    return row + 1\n",
    "\n",
    "df['a'].progress_apply(func)"
   ]
  },
  {
   "cell_type": "markdown",
   "id": "8f4174eb",
   "metadata": {},
   "source": [
    "[Link to tqdm](https://github.com/tqdm/tqdm)."
   ]
  }
 ],
 "metadata": {
  "celltoolbar": "Tags",
  "kernelspec": {
   "display_name": "Python 3 (ipykernel)",
   "language": "python",
   "name": "python3"
  },
  "language_info": {
   "codemirror_mode": {
    "name": "ipython",
    "version": 3
   },
   "file_extension": ".py",
   "mimetype": "text/x-python",
   "name": "python",
   "nbconvert_exporter": "python",
   "pygments_lexer": "ipython3",
   "version": "3.8.10"
  },
  "toc": {
   "base_numbering": 1,
   "nav_menu": {},
   "number_sections": true,
   "sideBar": true,
   "skip_h1_title": false,
   "title_cell": "Table of Contents",
   "title_sidebar": "Contents",
   "toc_cell": false,
   "toc_position": {},
   "toc_section_display": true,
   "toc_window_display": false
  }
 },
 "nbformat": 4,
 "nbformat_minor": 5
}
