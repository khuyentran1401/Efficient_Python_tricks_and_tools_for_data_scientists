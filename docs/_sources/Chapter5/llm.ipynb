{
 "cells": [
  {
   "attachments": {},
   "cell_type": "markdown",
   "id": "63364389",
   "metadata": {},
   "source": [
    "## Large Language Model (LLM)"
   ]
  },
  {
   "attachments": {},
   "cell_type": "markdown",
   "id": "b49bfc32",
   "metadata": {},
   "source": [
    "### Unleash Language Model's Creativity By Tweaking One Parameter"
   ]
  },
  {
   "cell_type": "code",
   "execution_count": null,
   "id": "3fa67b80",
   "metadata": {
    "tags": [
     "hide-cell"
    ]
   },
   "outputs": [],
   "source": [
    "!pip install langchain pydotenv"
   ]
  },
  {
   "attachments": {},
   "cell_type": "markdown",
   "id": "cf14dd38",
   "metadata": {},
   "source": [
    "LangChain is an open-sourced Python library that allows you to effortlessly build applications with language models. \n",
    "\n",
    "To increase the randomness of the model's output, increase the value of the `temperature` parameter. "
   ]
  },
  {
   "cell_type": "code",
   "execution_count": 1,
   "id": "75e27f81",
   "metadata": {
    "tags": [
     "hide-cell"
    ]
   },
   "outputs": [
    {
     "data": {
      "text/plain": [
       "True"
      ]
     },
     "execution_count": 1,
     "metadata": {},
     "output_type": "execute_result"
    }
   ],
   "source": [
    "from dotenv import load_dotenv\n",
    "\n",
    "# Load OPEN_API_KEY from .env\n",
    "load_dotenv()"
   ]
  },
  {
   "cell_type": "code",
   "execution_count": 24,
   "id": "f70c72ca",
   "metadata": {},
   "outputs": [
    {
     "name": "stdout",
     "output_type": "stream",
     "text": [
      "\n",
      "\n",
      "DroneDrop Delivery.\n"
     ]
    }
   ],
   "source": [
    "from langchain.llms import OpenAI\n",
    "\n",
    "llm = OpenAI(temperature=0.1)\n",
    "text = \"What would be a good company name that uses drones to deliver everyday items?\"\n",
    "print(llm(text))"
   ]
  },
  {
   "cell_type": "code",
   "execution_count": 26,
   "id": "d9fab1a3",
   "metadata": {},
   "outputs": [
    {
     "name": "stdout",
     "output_type": "stream",
     "text": [
      "\n",
      "\n",
      "FlyByRefill.\n"
     ]
    }
   ],
   "source": [
    "# More random output\n",
    "llm = OpenAI(temperature=0.9)\n",
    "text = \"What would be a good company name that uses drones to deliver everyday items?\"\n",
    "print(llm(text))\n"
   ]
  },
  {
   "attachments": {},
   "cell_type": "markdown",
   "id": "cc06fee2",
   "metadata": {},
   "source": [
    "[Link to LangChain](https://github.com/hwchase17/langchain)."
   ]
  }
 ],
 "metadata": {
  "kernelspec": {
   "display_name": "venv",
   "language": "python",
   "name": "python3"
  },
  "language_info": {
   "codemirror_mode": {
    "name": "ipython",
    "version": 3
   },
   "file_extension": ".py",
   "mimetype": "text/x-python",
   "name": "python",
   "nbconvert_exporter": "python",
   "pygments_lexer": "ipython3",
   "version": "3.9.6"
  }
 },
 "nbformat": 4,
 "nbformat_minor": 5
}
