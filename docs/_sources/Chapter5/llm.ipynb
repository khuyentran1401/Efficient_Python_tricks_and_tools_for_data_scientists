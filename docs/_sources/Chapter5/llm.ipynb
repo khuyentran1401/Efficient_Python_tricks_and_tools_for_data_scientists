{
 "cells": [
  {
   "attachments": {},
   "cell_type": "markdown",
   "id": "63364389",
   "metadata": {},
   "source": [
    "## Large Language Model (LLM)"
   ]
  },
  {
   "attachments": {},
   "cell_type": "markdown",
   "id": "6ae67f3c",
   "metadata": {},
   "source": [
    "### Simplify LLM Integration with Magentic's @prompt Decorator"
   ]
  },
  {
   "cell_type": "code",
   "execution_count": null,
   "id": "082ccb1a",
   "metadata": {
    "tags": [
     "hide-cell"
    ]
   },
   "outputs": [],
   "source": [
    "!pip install magentic"
   ]
  },
  {
   "attachments": {},
   "cell_type": "markdown",
   "id": "cb377c57",
   "metadata": {},
   "source": [
    "To enhance your code's natural language skills with LLM effortlessly, try magentic. \n",
    "\n",
    "With magentic, you can use the `@prompt` decorator to create functions that return organized LLM results, keeping your code neat and easy to read."
   ]
  },
  {
   "cell_type": "code",
   "execution_count": 3,
   "id": "941b061c",
   "metadata": {},
   "outputs": [],
   "source": [
    "import openai\n",
    "\n",
    "openai.api_key = \"sk-...\"\n"
   ]
  },
  {
   "cell_type": "code",
   "execution_count": 6,
   "id": "23398199",
   "metadata": {},
   "outputs": [
    {
     "data": {
      "text/plain": [
       "\"Yo dude, how's it going?\""
      ]
     },
     "execution_count": 6,
     "metadata": {},
     "output_type": "execute_result"
    }
   ],
   "source": [
    "from magentic import prompt\n",
    "\n",
    "\n",
    "@prompt('Add more \"dude\"ness to: {phrase}')\n",
    "def dudeify(phrase: str) -> str:\n",
    "    ...  # No function body as this is never executed\n",
    "\n",
    "\n",
    "dudeify(\"Hello, how are you?\")\n",
    "# \"Hey, dude! What's up? How's it going, my man?\""
   ]
  },
  {
   "attachments": {},
   "cell_type": "markdown",
   "id": "5abd3e94",
   "metadata": {},
   "source": [
    "The `@prompt` decorator will consider the return type annotation, including those supported by pydantic."
   ]
  },
  {
   "cell_type": "code",
   "execution_count": 14,
   "id": "a7adc676",
   "metadata": {},
   "outputs": [
    {
     "data": {
      "text/plain": [
       "MilkTea(tea='green tea', sweetness_percentage=100.0, topping='boba')"
      ]
     },
     "execution_count": 14,
     "metadata": {},
     "output_type": "execute_result"
    }
   ],
   "source": [
    "from magentic import prompt, FunctionCall\n",
    "from pydantic import BaseModel\n",
    "from typing import Literal\n",
    "\n",
    "\n",
    "class MilkTea(BaseModel):\n",
    "    tea: str\n",
    "    sweetness_percentage: float\n",
    "    topping: str\n",
    "\n",
    "\n",
    "@prompt(\"Create a milk tea with the following tea {tea}.\")\n",
    "def create_milk_tea(tea: str) -> MilkTea:\n",
    "    ...\n",
    "\n",
    "\n",
    "create_milk_tea(\"green tea\")\n"
   ]
  },
  {
   "attachments": {},
   "cell_type": "markdown",
   "id": "ca84b0ed",
   "metadata": {},
   "source": [
    "The `@prompt` decorator also considers a function call."
   ]
  },
  {
   "cell_type": "code",
   "execution_count": 20,
   "id": "f205c95b",
   "metadata": {},
   "outputs": [
    {
     "data": {
      "text/plain": [
       "'Frothing milk to 60 F with texture foamy'"
      ]
     },
     "execution_count": 20,
     "metadata": {},
     "output_type": "execute_result"
    }
   ],
   "source": [
    "def froth_milk(temperature: int, texture: Literal[\"foamy\", \"hot\", \"cold\"]) -> str:\n",
    "    \"\"\"Froth the milk to the desired temperature and texture.\"\"\"\n",
    "    return f\"Frothing milk to {temperature} F with texture {texture}\"\n",
    "\n",
    "\n",
    "@prompt(\n",
    "    \"Prepare the milk for my {coffee_type}\",\n",
    "    functions=[froth_milk],\n",
    ")\n",
    "def configure_coffee(coffee_type: str) -> FunctionCall[str]:\n",
    "    ...\n",
    "\n",
    "\n",
    "output = configure_coffee(\"latte!\")\n",
    "output()"
   ]
  },
  {
   "attachments": {},
   "cell_type": "markdown",
   "id": "ded189dc",
   "metadata": {},
   "source": [
    "[Link to magentic](https://github.com/jackmpcollins/magentic)."
   ]
  }
 ],
 "metadata": {
  "kernelspec": {
   "display_name": "venv",
   "language": "python",
   "name": "python3"
  },
  "language_info": {
   "codemirror_mode": {
    "name": "ipython",
    "version": 3
   },
   "file_extension": ".py",
   "mimetype": "text/x-python",
   "name": "python",
   "nbconvert_exporter": "python",
   "pygments_lexer": "ipython3",
   "version": "3.11.4"
  }
 },
 "nbformat": 4,
 "nbformat_minor": 5
}
