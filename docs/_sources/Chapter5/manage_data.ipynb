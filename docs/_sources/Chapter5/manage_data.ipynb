{
 "cells": [
  {
   "cell_type": "markdown",
   "id": "3088db19",
   "metadata": {},
   "source": [
    "## Manage Data"
   ]
  },
  {
   "cell_type": "markdown",
   "id": "48cc86ed",
   "metadata": {},
   "source": [
    "This section covers some tools to work with your data."
   ]
  },
  {
   "cell_type": "markdown",
   "id": "5421fce7",
   "metadata": {},
   "source": [
    "### DVC: A Data Version Control Tool for Your Data Science Projects"
   ]
  },
  {
   "cell_type": "code",
   "execution_count": null,
   "id": "43fc9d3f",
   "metadata": {
    "tags": [
     "hide-cell"
    ]
   },
   "outputs": [],
   "source": [
    "!pip install dvc"
   ]
  },
  {
   "cell_type": "markdown",
   "id": "e816ad07",
   "metadata": {},
   "source": [
    "While Git excels at versioning code, managing data versions can be tricky. DVC (Data Version Control) bridges this gap by allowing you to track data changes alongside your code, while keeping the actual data separate. It's like Git for data.\n",
    "\n",
    "Here’s a quick start guide for DVC:"
   ]
  },
  {
   "cell_type": "markdown",
   "id": "ca75978a",
   "metadata": {},
   "source": [
    "```bash\n",
    "# Initialize\n",
    "$ dvc init\n",
    "\n",
    "# Track data directory\n",
    "$ dvc add data # Create data.dvc\n",
    "$ git add data.dvc\n",
    "$ git commit -m \"add data\"\n",
    "\n",
    "# Store the data remotely\n",
    "$ dvc remote add -d remote gdrive://lynNBbT-4J0ida0eKYQqZZbC93juUUUbVH\n",
    "\n",
    "# Push the data to remote storage\n",
    "$ dvc push \n",
    "\n",
    "# Get the data\n",
    "$ dvc pull \n",
    "\n",
    "# Switch between different version\n",
    "$ git checkout HEAD^1 data.dvc\n",
    "$ dvc checkout\n",
    "```"
   ]
  },
  {
   "cell_type": "markdown",
   "id": "4953d109",
   "metadata": {},
   "source": [
    "[Link to DVC](https://dvc.org/)"
   ]
  },
  {
   "cell_type": "markdown",
   "id": "e870e4fc",
   "metadata": {},
   "source": [
    "### sweetviz: Compare the similar features between 2 different datasets"
   ]
  },
  {
   "cell_type": "code",
   "execution_count": null,
   "id": "bfe3a5e0",
   "metadata": {
    "tags": [
     "hide-cell"
    ]
   },
   "outputs": [],
   "source": [
    "!pip install sweetviz "
   ]
  },
  {
   "cell_type": "markdown",
   "id": "93c71c6a",
   "metadata": {},
   "source": [
    "When comparing datasets, such as training and testing sets, sweetviz helps visualize similarities and differences with ease.\n",
    "\n",
    "Here’s how to use it:"
   ]
  },
  {
   "cell_type": "code",
   "execution_count": null,
   "id": "0e2bed92",
   "metadata": {},
   "outputs": [],
   "source": [
    "from sklearn.datasets import load_iris\n",
    "from sklearn.model_selection import train_test_split\n",
    "import sweetviz as sv\n",
    "\n",
    "X, y = load_iris(return_X_y=True, as_frame=True)\n",
    "X_train, X_test, y_train, y_test = train_test_split(X, y)\n",
    "\n",
    "report = sv.compare([X_train, \"train data\"], [X_test, \"test data\"])\n",
    "report.show_html()"
   ]
  },
  {
   "cell_type": "markdown",
   "id": "4f7509b4",
   "metadata": {},
   "source": [
    "![image](../img/sweetviz_output.png)"
   ]
  },
  {
   "cell_type": "markdown",
   "id": "8d6349c5",
   "metadata": {},
   "source": [
    "[Link to sweetviz](https://github.com/fbdesignpro/sweetviz)"
   ]
  },
  {
   "cell_type": "markdown",
   "id": "d26e8937",
   "metadata": {},
   "source": [
    "### quadratic: Data Science Speadsheet with Python and SQL\n",
    "\n",
    "If you want to use Python or SQL in an Excel sheet, use quadratic.\n",
    "\n",
    "![](../img/quadratic.gif)\n",
    "\n",
    "[Link to quadratic](https://github.com/quadratichq/quadratic)."
   ]
  },
  {
   "cell_type": "markdown",
   "id": "480a47c3",
   "metadata": {},
   "source": [
    "### whylogs: Data Logging Made Easy"
   ]
  },
  {
   "cell_type": "code",
   "execution_count": null,
   "id": "452d6456",
   "metadata": {
    "tags": [
     "hide-cell"
    ]
   },
   "outputs": [],
   "source": [
    "!pip install whylogs"
   ]
  },
  {
   "cell_type": "markdown",
   "id": "0fde1ada",
   "metadata": {},
   "source": [
    "Keeping track of dataset statistics is crucial for data quality and monitoring. whylogs makes logging dataset summaries straightforward.\n",
    "\n",
    "Example usage:"
   ]
  },
  {
   "cell_type": "code",
   "execution_count": null,
   "id": "24d17426",
   "metadata": {},
   "outputs": [],
   "source": [
    "import pandas as pd\n",
    "import whylogs as why\n",
    "\n",
    "data = {\n",
    "    \"Fruit\": [\"Apple\", \"Banana\", \"Orange\"],\n",
    "    \"Color\": [\"Red\", \"Yellow\", \"Orange\",],\n",
    "    \"Quantity\": [5, 8, 3],\n",
    "}\n",
    "\n",
    "df = pd.DataFrame(data)\n",
    "\n",
    "# Log the DataFrame using whylogs and create a profile\n",
    "profile = why.log(df).profile()\n",
    "\n",
    "# View the profile and convert it to a pandas DataFrame\n",
    "prof_view = profile.view()\n",
    "prof_df = prof_view.to_pandas()\n",
    "prof_df"
   ]
  },
  {
   "cell_type": "code",
   "execution_count": null,
   "id": "f67b5274",
   "metadata": {},
   "outputs": [],
   "source": [
    "prof_df.iloc[:, :5]"
   ]
  },
  {
   "cell_type": "code",
   "execution_count": null,
   "id": "12ae1fe6",
   "metadata": {},
   "outputs": [],
   "source": [
    "prof_df.columns"
   ]
  },
  {
   "cell_type": "markdown",
   "id": "3b2b87d4",
   "metadata": {},
   "source": [
    "[Link to whylogs](https://github.com/whylabs/whylogs)."
   ]
  },
  {
   "cell_type": "markdown",
   "id": "d1602a0d",
   "metadata": {},
   "source": [
    "### Fluke: The Easiest Way to Move Data Around"
   ]
  },
  {
   "cell_type": "markdown",
   "id": "594ef0c7",
   "metadata": {},
   "source": [
    "Transferring data between locations—such as from a remote server to cloud storage—can be cumbersome, especially with Python libraries that involve complex HTTP/SSH connections and directory handling. \n",
    "\n",
    "Fluke simplifies this process with a user-friendly API, making it easy to manage remote data transfers with just a few lines of code.\n",
    "\n",
    "Example usage:"
   ]
  },
  {
   "cell_type": "markdown",
   "id": "f0b226da",
   "metadata": {},
   "source": [
    "```python\n",
    "from fluke.auth import RemoteAuth, AWSAuth\n",
    "\n",
    "# This object will be used to authenticate\n",
    "# with the remote machine.\n",
    "rmt_auth = RemoteAuth.from_password(\n",
    "    hostname=\"host\",\n",
    "    username=\"user\",\n",
    "    password=\"password\")\n",
    "\n",
    "# This object will be used to authenticate\n",
    "# with AWS.\n",
    "aws_auth = AWSAuth(\n",
    "    aws_access_key_id=\"aws_access_key\",\n",
    "    aws_secret_access_key=\"aws_secret_key\")\n",
    "```"
   ]
  },
  {
   "cell_type": "markdown",
   "id": "99e2f8de",
   "metadata": {},
   "source": [
    "```python\n",
    "from fluke.storage import RemoteDir, AWSS3Dir\n",
    "\n",
    "with (\n",
    "    RemoteDir(auth=rmt_auth, path='/home/user/dir') as rmt_dir,\n",
    "    AWSS3Dir(auth=aws_auth, bucket=\"bucket\", path='dir', create_if_missing=True) as aws_dir\n",
    "):\n",
    "    rmt_dir.transfer_to(dst=aws_dir, recursively=True)\n",
    "```"
   ]
  },
  {
   "cell_type": "markdown",
   "id": "f772b73c",
   "metadata": {},
   "source": [
    "[Link to Fluke](https://github.com/manoss96/fluke)."
   ]
  },
  {
   "cell_type": "markdown",
   "id": "9b37f5f9",
   "metadata": {},
   "source": [
    "### safetensors: A Simple and Safe Way to Store and Distribute Tensors"
   ]
  },
  {
   "cell_type": "code",
   "execution_count": null,
   "id": "eef73c8a",
   "metadata": {
    "tags": [
     "hide-cell"
    ]
   },
   "outputs": [],
   "source": [
    "!pip install torch safetensors"
   ]
  },
  {
   "cell_type": "markdown",
   "id": "ac98dbaf",
   "metadata": {},
   "source": [
    "PyTorch defaults to using Pickle for tensor storage, which poses security risks as malicious pickle files can execute arbitrary code upon unpickling. In contrast, safetensors specialize in securely storing tensors, guaranteeing data integrity during storage and retrieval. \n",
    "\n",
    "safetensors also uses zero-copy operations, eliminating the need to copy data into new memory locations, thereby enabling fast and efficient data handling."
   ]
  },
  {
   "cell_type": "code",
   "execution_count": null,
   "id": "d5e078cf",
   "metadata": {
    "editable": true,
    "slideshow": {
     "slide_type": ""
    }
   },
   "outputs": [],
   "source": [
    "import torch\n",
    "from safetensors import safe_open\n",
    "from safetensors.torch import save_file\n",
    "\n",
    "tensors = {\n",
    "   \"weight1\": torch.zeros((1024, 1024)),\n",
    "   \"weight2\": torch.zeros((1024, 1024))\n",
    "}\n",
    "save_file(tensors, \"model.safetensors\")\n",
    "\n",
    "tensors = {}\n",
    "with safe_open(\"model.safetensors\", framework=\"pt\", device=\"cpu\") as f:\n",
    "   for key in f.keys():\n",
    "       tensors[key] = f.get_tensor(key)"
   ]
  },
  {
   "cell_type": "markdown",
   "id": "99c0ce63",
   "metadata": {},
   "source": [
    "[Link to safetensors](https://bit.ly/3vqzbhl)."
   ]
  },
  {
   "cell_type": "markdown",
   "id": "5eaee49c",
   "metadata": {},
   "source": [
    "### datacompy: Smart Data Comparison Made Simple"
   ]
  },
  {
   "cell_type": "code",
   "execution_count": null,
   "id": "386e582e",
   "metadata": {
    "editable": true,
    "slideshow": {
     "slide_type": ""
    },
    "tags": [
     "hide-cell"
    ]
   },
   "outputs": [],
   "source": [
    "!pip install datacompy"
   ]
  },
  {
   "cell_type": "markdown",
   "id": "2b853878",
   "metadata": {},
   "source": [
    "Data analysts and data engineers often struggle with comparing two datasets. This results in writing complex code to compare values, identify mismatches, and generate comparison reports."
   ]
  },
  {
   "cell_type": "code",
   "execution_count": null,
   "id": "19da6d28",
   "metadata": {},
   "outputs": [],
   "source": [
    "from io import StringIO\n",
    "import pandas as pd\n",
    "\n",
    "data1 = \"\"\"acct_id,dollar_amt,name,float_fld,date_fld\n",
    "10000001234,123.45,George Maharis,14530.1555,2017-01-01\n",
    "10000001235,0.45,Michael Bluth,1,2017-01-01\n",
    "10000001236,1345,George Bluth,,2017-01-01\n",
    "10000001237,123456,Bob Loblaw,345.12,2017-01-01\n",
    "10000001238,1.05,Lucille Bluth,,2017-01-01\n",
    "10000001238,1.05,Loose Seal Bluth,,2017-01-01\n",
    "\"\"\"\n",
    "\n",
    "df1 = pd.read_csv(StringIO(data1))\n",
    "df1"
   ]
  },
  {
   "cell_type": "code",
   "execution_count": null,
   "id": "39a19f13",
   "metadata": {},
   "outputs": [],
   "source": [
    "data2 = \"\"\"acct_id,dollar_amt,name,float_fld\n",
    "10000001234,123.4,George Michael Bluth,14530.155\n",
    "10000001235,0.45,Michael Bluth,\n",
    "10000001236,1345,George Bluth,1\n",
    "10000001237,123456,Robert Loblaw,345.12\n",
    "10000001238,1.05,Loose Seal Bluth,111\n",
    "\"\"\"\n",
    "\n",
    "df2 = pd.read_csv(StringIO(data2))\n",
    "df2"
   ]
  },
  {
   "cell_type": "code",
   "execution_count": null,
   "id": "447dc80c",
   "metadata": {},
   "outputs": [],
   "source": [
    "# Check if shapes match\n",
    "shape_match = df1.shape == df2.shape\n",
    "\n",
    "# Compare values\n",
    "merged = df1.merge(df2, on=['acct_id', 'name'], how='outer', suffixes=('_1', '_2'))\n",
    "mismatches = merged[merged['dollar_amt_1'] != merged['dollar_amt_2']]\n",
    "missing = merged[merged['dollar_amt_1'].isna() | merged['dollar_amt_2'].isna()]\n",
    "\n",
    "# Manual reporting\n",
    "print(f\"Shapes match: {shape_match}\")\n",
    "print(\"\\nMismatches:\")\n",
    "print(mismatches)\n",
    "print(\"\\nMissing records:\")\n",
    "print(missing)"
   ]
  },
  {
   "cell_type": "markdown",
   "id": "25bd8299",
   "metadata": {},
   "source": [
    "With datacompy, you can easily compare datasets and get detailed reports about differences, including matching percentage, column-level comparison, and sample mismatches. You can use it with various data frameworks like Pandas, Spark, Polars, and Snowflake."
   ]
  },
  {
   "cell_type": "code",
   "execution_count": null,
   "id": "a66874ba",
   "metadata": {},
   "outputs": [],
   "source": [
    "import datacompy\n",
    "\n",
    "compare = datacompy.Compare(df1, df2, join_columns=['acct_id', 'name'])"
   ]
  },
  {
   "cell_type": "code",
   "execution_count": null,
   "id": "95050cf7",
   "metadata": {},
   "outputs": [],
   "source": [
    "print(compare.report())"
   ]
  },
  {
   "cell_type": "markdown",
   "id": "9a071088",
   "metadata": {},
   "source": [
    "[Link to datacompy](https://github.com/capitalone/datacompy)."
   ]
  }
 ],
 "metadata": {
  "jupytext": {
   "text_representation": {
    "extension": ".md",
    "format_name": "myst",
    "format_version": 0.13,
    "jupytext_version": "1.16.7"
   }
  },
  "kernelspec": {
   "display_name": "venv",
   "language": "python",
   "name": "python3"
  },
  "source_map": [
   12,
   16,
   20,
   24,
   28,
   34,
   59,
   63,
   67,
   71,
   77,
   87,
   91,
   95,
   105,
   109,
   113,
   119,
   140,
   144,
   146,
   150,
   154,
   162,
   181,
   193,
   197,
   201,
   205,
   211,
   231,
   235,
   239,
   247,
   251,
   268,
   281,
   296,
   300,
   306,
   308
  ]
 },
 "nbformat": 4,
 "nbformat_minor": 5
}