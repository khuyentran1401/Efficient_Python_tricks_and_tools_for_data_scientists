{
 "cells": [
  {
   "attachments": {},
   "cell_type": "markdown",
   "id": "cbc22c85",
   "metadata": {},
   "source": [
    "## Manage Data"
   ]
  },
  {
   "attachments": {},
   "cell_type": "markdown",
   "id": "b53e056d",
   "metadata": {},
   "source": [
    "This section covers some tools to work with your data. "
   ]
  },
  {
   "attachments": {},
   "cell_type": "markdown",
   "id": "9051997b",
   "metadata": {},
   "source": [
    "### DVC: A Data Version Control Tool for Your Data Science Projects"
   ]
  },
  {
   "cell_type": "code",
   "execution_count": null,
   "id": "bf178f7c",
   "metadata": {
    "tags": [
     "hide-cell"
    ]
   },
   "outputs": [],
   "source": [
    "!pip install dvc"
   ]
  },
  {
   "attachments": {},
   "cell_type": "markdown",
   "id": "3b08836d",
   "metadata": {},
   "source": [
    "Git is great for managing code versions, but what about data? DVC solves this problem by allowing you to track data versions in Git while storing the actual data separately. Think of it as Git for data. \n",
    "\n",
    "Here's some example code for using DVC."
   ]
  },
  {
   "attachments": {},
   "cell_type": "markdown",
   "id": "dfb6b5cf",
   "metadata": {},
   "source": [
    "```bash\n",
    "# Initialize\n",
    "$ dvc init\n",
    "\n",
    "# Track data directory\n",
    "$ dvc add data # Create data.dvc\n",
    "$ git add data.dvc\n",
    "$ git commit -m \"add data\"\n",
    "\n",
    "# Store the data remotely\n",
    "$ dvc remote add -d remote gdrive://lynNBbT-4J0ida0eKYQqZZbC93juUUUbVH\n",
    "\n",
    "# Push the data to remote storage\n",
    "$ dvc push \n",
    "\n",
    "# Get the data\n",
    "$ dvc pull \n",
    "\n",
    "# Switch between different version\n",
    "$ git checkout HEAD^1 data.dvc\n",
    "$ dvc checkout\n",
    "```"
   ]
  },
  {
   "attachments": {},
   "cell_type": "markdown",
   "id": "84ead3ce",
   "metadata": {},
   "source": [
    "[Link to DVC](https://dvc.org/)\n",
    "\n",
    "Find step-by-step instructions on how to use DVC in [my article](https://towardsdatascience.com/introduction-to-dvc-data-version-control-tool-for-machine-learning-projects-7cb49c229fe0?sk=842f755cdf21a5db60aada1168c55447)."
   ]
  },
  {
   "attachments": {},
   "cell_type": "markdown",
   "id": "7b0a3099",
   "metadata": {},
   "source": [
    "### sweetviz: Compare the similar features between 2 different datasets"
   ]
  },
  {
   "cell_type": "code",
   "execution_count": null,
   "id": "3f728a43",
   "metadata": {
    "tags": [
     "hide-cell"
    ]
   },
   "outputs": [],
   "source": [
    "!pip install sweetviz "
   ]
  },
  {
   "attachments": {},
   "cell_type": "markdown",
   "id": "39c23e08",
   "metadata": {},
   "source": [
    "Comparing similar characteristics of two datasets, such as the training and testing sets, can be useful. sweetviz provides an easy way to compare 2 datasets through graphs."
   ]
  },
  {
   "cell_type": "code",
   "execution_count": null,
   "id": "93a6e248",
   "metadata": {
    "ExecuteTime": {
     "end_time": "2021-09-11T19:08:20.830420Z",
     "start_time": "2021-09-11T19:08:18.515134Z"
    },
    "scrolled": true
   },
   "outputs": [],
   "source": [
    "from sklearn.datasets import load_iris\n",
    "from sklearn.model_selection import train_test_split\n",
    "import sweetviz as sv\n",
    "\n",
    "X, y = load_iris(return_X_y=True, as_frame=True)\n",
    "X_train, X_test, y_train, y_test = train_test_split(X, y)\n",
    "\n",
    "report = sv.compare([X_train, \"train data\"], [X_test, \"test data\"])\n",
    "report.show_html()"
   ]
  },
  {
   "attachments": {},
   "cell_type": "markdown",
   "id": "55c80d06",
   "metadata": {},
   "source": [
    "![image](../img/sweetviz_output.png)"
   ]
  },
  {
   "attachments": {},
   "cell_type": "markdown",
   "id": "71e6fe87",
   "metadata": {},
   "source": [
    "[Link to sweetviz](https://github.com/fbdesignpro/sweetviz)"
   ]
  },
  {
   "attachments": {},
   "cell_type": "markdown",
   "id": "eea1ba01",
   "metadata": {},
   "source": [
    "### quadratic: Data Science Speadsheet with Python and SQL\n",
    "\n",
    "If you want to use Python or SQL in an Excel sheet, use quadratic.\n",
    "\n",
    "![](../img/quadratic.gif)\n",
    "\n",
    "[Link to quadratic](https://github.com/quadratichq/quadratic).\n"
   ]
  },
  {
   "attachments": {},
   "cell_type": "markdown",
   "id": "ce67f3bf",
   "metadata": {},
   "source": [
    "### whylogs: Data Logging Made Easy"
   ]
  },
  {
   "cell_type": "code",
   "execution_count": null,
   "id": "be8637b8",
   "metadata": {
    "tags": [
     "hide-cell"
    ]
   },
   "outputs": [],
   "source": [
    "!pip install whylogs"
   ]
  },
  {
   "attachments": {},
   "cell_type": "markdown",
   "id": "0c6852f9",
   "metadata": {},
   "source": [
    "Logging the summary statistics of a dataset is valuable for monitoring data changes and ensuring data quality. With whylogs, you can easily log your data in just a few lines of code."
   ]
  },
  {
   "cell_type": "code",
   "execution_count": 1,
   "id": "43cd22db",
   "metadata": {},
   "outputs": [
    {
     "data": {
      "text/html": [
       "<div>\n",
       "<style scoped>\n",
       "    .dataframe tbody tr th:only-of-type {\n",
       "        vertical-align: middle;\n",
       "    }\n",
       "\n",
       "    .dataframe tbody tr th {\n",
       "        vertical-align: top;\n",
       "    }\n",
       "\n",
       "    .dataframe thead th {\n",
       "        text-align: right;\n",
       "    }\n",
       "</style>\n",
       "<table border=\"1\" class=\"dataframe\">\n",
       "  <thead>\n",
       "    <tr style=\"text-align: right;\">\n",
       "      <th></th>\n",
       "      <th>cardinality/est</th>\n",
       "      <th>cardinality/lower_1</th>\n",
       "      <th>cardinality/upper_1</th>\n",
       "      <th>counts/inf</th>\n",
       "      <th>counts/n</th>\n",
       "      <th>counts/nan</th>\n",
       "      <th>counts/null</th>\n",
       "      <th>distribution/max</th>\n",
       "      <th>distribution/mean</th>\n",
       "      <th>distribution/median</th>\n",
       "      <th>...</th>\n",
       "      <th>frequent_items/frequent_strings</th>\n",
       "      <th>type</th>\n",
       "      <th>types/boolean</th>\n",
       "      <th>types/fractional</th>\n",
       "      <th>types/integral</th>\n",
       "      <th>types/object</th>\n",
       "      <th>types/string</th>\n",
       "      <th>types/tensor</th>\n",
       "      <th>ints/max</th>\n",
       "      <th>ints/min</th>\n",
       "    </tr>\n",
       "    <tr>\n",
       "      <th>column</th>\n",
       "      <th></th>\n",
       "      <th></th>\n",
       "      <th></th>\n",
       "      <th></th>\n",
       "      <th></th>\n",
       "      <th></th>\n",
       "      <th></th>\n",
       "      <th></th>\n",
       "      <th></th>\n",
       "      <th></th>\n",
       "      <th></th>\n",
       "      <th></th>\n",
       "      <th></th>\n",
       "      <th></th>\n",
       "      <th></th>\n",
       "      <th></th>\n",
       "      <th></th>\n",
       "      <th></th>\n",
       "      <th></th>\n",
       "      <th></th>\n",
       "      <th></th>\n",
       "    </tr>\n",
       "  </thead>\n",
       "  <tbody>\n",
       "    <tr>\n",
       "      <th>Color</th>\n",
       "      <td>3.0</td>\n",
       "      <td>3.0</td>\n",
       "      <td>3.00015</td>\n",
       "      <td>0</td>\n",
       "      <td>3</td>\n",
       "      <td>0</td>\n",
       "      <td>0</td>\n",
       "      <td>NaN</td>\n",
       "      <td>0.000000</td>\n",
       "      <td>NaN</td>\n",
       "      <td>...</td>\n",
       "      <td>[FrequentItem(value='Yellow', est=1, upper=1, ...</td>\n",
       "      <td>SummaryType.COLUMN</td>\n",
       "      <td>0</td>\n",
       "      <td>0</td>\n",
       "      <td>0</td>\n",
       "      <td>0</td>\n",
       "      <td>3</td>\n",
       "      <td>0</td>\n",
       "      <td>NaN</td>\n",
       "      <td>NaN</td>\n",
       "    </tr>\n",
       "    <tr>\n",
       "      <th>Fruit</th>\n",
       "      <td>3.0</td>\n",
       "      <td>3.0</td>\n",
       "      <td>3.00015</td>\n",
       "      <td>0</td>\n",
       "      <td>3</td>\n",
       "      <td>0</td>\n",
       "      <td>0</td>\n",
       "      <td>NaN</td>\n",
       "      <td>0.000000</td>\n",
       "      <td>NaN</td>\n",
       "      <td>...</td>\n",
       "      <td>[FrequentItem(value='Orange', est=1, upper=1, ...</td>\n",
       "      <td>SummaryType.COLUMN</td>\n",
       "      <td>0</td>\n",
       "      <td>0</td>\n",
       "      <td>0</td>\n",
       "      <td>0</td>\n",
       "      <td>3</td>\n",
       "      <td>0</td>\n",
       "      <td>NaN</td>\n",
       "      <td>NaN</td>\n",
       "    </tr>\n",
       "    <tr>\n",
       "      <th>Quantity</th>\n",
       "      <td>3.0</td>\n",
       "      <td>3.0</td>\n",
       "      <td>3.00015</td>\n",
       "      <td>0</td>\n",
       "      <td>3</td>\n",
       "      <td>0</td>\n",
       "      <td>0</td>\n",
       "      <td>8.0</td>\n",
       "      <td>5.333333</td>\n",
       "      <td>5.0</td>\n",
       "      <td>...</td>\n",
       "      <td>[FrequentItem(value='8', est=1, upper=1, lower...</td>\n",
       "      <td>SummaryType.COLUMN</td>\n",
       "      <td>0</td>\n",
       "      <td>0</td>\n",
       "      <td>3</td>\n",
       "      <td>0</td>\n",
       "      <td>0</td>\n",
       "      <td>0</td>\n",
       "      <td>8.0</td>\n",
       "      <td>3.0</td>\n",
       "    </tr>\n",
       "  </tbody>\n",
       "</table>\n",
       "<p>3 rows × 31 columns</p>\n",
       "</div>"
      ],
      "text/plain": [
       "          cardinality/est  cardinality/lower_1  cardinality/upper_1  \\\n",
       "column                                                                \n",
       "Color                 3.0                  3.0              3.00015   \n",
       "Fruit                 3.0                  3.0              3.00015   \n",
       "Quantity              3.0                  3.0              3.00015   \n",
       "\n",
       "          counts/inf  counts/n  counts/nan  counts/null  distribution/max  \\\n",
       "column                                                                      \n",
       "Color              0         3           0            0               NaN   \n",
       "Fruit              0         3           0            0               NaN   \n",
       "Quantity           0         3           0            0               8.0   \n",
       "\n",
       "          distribution/mean  distribution/median  ...  \\\n",
       "column                                            ...   \n",
       "Color              0.000000                  NaN  ...   \n",
       "Fruit              0.000000                  NaN  ...   \n",
       "Quantity           5.333333                  5.0  ...   \n",
       "\n",
       "                            frequent_items/frequent_strings  \\\n",
       "column                                                        \n",
       "Color     [FrequentItem(value='Yellow', est=1, upper=1, ...   \n",
       "Fruit     [FrequentItem(value='Orange', est=1, upper=1, ...   \n",
       "Quantity  [FrequentItem(value='8', est=1, upper=1, lower...   \n",
       "\n",
       "                        type  types/boolean  types/fractional  types/integral  \\\n",
       "column                                                                          \n",
       "Color     SummaryType.COLUMN              0                 0               0   \n",
       "Fruit     SummaryType.COLUMN              0                 0               0   \n",
       "Quantity  SummaryType.COLUMN              0                 0               3   \n",
       "\n",
       "          types/object  types/string  types/tensor  ints/max  ints/min  \n",
       "column                                                                  \n",
       "Color                0             3             0       NaN       NaN  \n",
       "Fruit                0             3             0       NaN       NaN  \n",
       "Quantity             0             0             0       8.0       3.0  \n",
       "\n",
       "[3 rows x 31 columns]"
      ]
     },
     "execution_count": 1,
     "metadata": {},
     "output_type": "execute_result"
    }
   ],
   "source": [
    "import pandas as pd\n",
    "import whylogs as why\n",
    "\n",
    "data = {\n",
    "    \"Fruit\": [\"Apple\", \"Banana\", \"Orange\"],\n",
    "    \"Color\": [\"Red\", \"Yellow\", \"Orange\",],\n",
    "    \"Quantity\": [5, 8, 3],\n",
    "}\n",
    "\n",
    "df = pd.DataFrame(data)\n",
    "\n",
    "# Log the DataFrame using whylogs and create a profile\n",
    "profile = why.log(df).profile()\n",
    "\n",
    "# View the profile and convert it to a pandas DataFrame\n",
    "prof_view = profile.view()\n",
    "prof_df = prof_view.to_pandas()\n",
    "prof_df"
   ]
  },
  {
   "cell_type": "code",
   "execution_count": 3,
   "id": "cc36efc7",
   "metadata": {},
   "outputs": [
    {
     "data": {
      "text/html": [
       "<div>\n",
       "<style scoped>\n",
       "    .dataframe tbody tr th:only-of-type {\n",
       "        vertical-align: middle;\n",
       "    }\n",
       "\n",
       "    .dataframe tbody tr th {\n",
       "        vertical-align: top;\n",
       "    }\n",
       "\n",
       "    .dataframe thead th {\n",
       "        text-align: right;\n",
       "    }\n",
       "</style>\n",
       "<table border=\"1\" class=\"dataframe\">\n",
       "  <thead>\n",
       "    <tr style=\"text-align: right;\">\n",
       "      <th></th>\n",
       "      <th>cardinality/est</th>\n",
       "      <th>cardinality/lower_1</th>\n",
       "      <th>cardinality/upper_1</th>\n",
       "      <th>counts/inf</th>\n",
       "      <th>counts/n</th>\n",
       "    </tr>\n",
       "    <tr>\n",
       "      <th>column</th>\n",
       "      <th></th>\n",
       "      <th></th>\n",
       "      <th></th>\n",
       "      <th></th>\n",
       "      <th></th>\n",
       "    </tr>\n",
       "  </thead>\n",
       "  <tbody>\n",
       "    <tr>\n",
       "      <th>Color</th>\n",
       "      <td>3.0</td>\n",
       "      <td>3.0</td>\n",
       "      <td>3.00015</td>\n",
       "      <td>0</td>\n",
       "      <td>3</td>\n",
       "    </tr>\n",
       "    <tr>\n",
       "      <th>Fruit</th>\n",
       "      <td>3.0</td>\n",
       "      <td>3.0</td>\n",
       "      <td>3.00015</td>\n",
       "      <td>0</td>\n",
       "      <td>3</td>\n",
       "    </tr>\n",
       "    <tr>\n",
       "      <th>Quantity</th>\n",
       "      <td>3.0</td>\n",
       "      <td>3.0</td>\n",
       "      <td>3.00015</td>\n",
       "      <td>0</td>\n",
       "      <td>3</td>\n",
       "    </tr>\n",
       "  </tbody>\n",
       "</table>\n",
       "</div>"
      ],
      "text/plain": [
       "          cardinality/est  cardinality/lower_1  cardinality/upper_1  \\\n",
       "column                                                                \n",
       "Color                 3.0                  3.0              3.00015   \n",
       "Fruit                 3.0                  3.0              3.00015   \n",
       "Quantity              3.0                  3.0              3.00015   \n",
       "\n",
       "          counts/inf  counts/n  \n",
       "column                          \n",
       "Color              0         3  \n",
       "Fruit              0         3  \n",
       "Quantity           0         3  "
      ]
     },
     "execution_count": 3,
     "metadata": {},
     "output_type": "execute_result"
    }
   ],
   "source": [
    "prof_df.iloc[:, :5]"
   ]
  },
  {
   "cell_type": "code",
   "execution_count": 16,
   "id": "b5e215f5",
   "metadata": {},
   "outputs": [
    {
     "data": {
      "text/plain": [
       "Index(['cardinality/est', 'cardinality/lower_1', 'cardinality/upper_1',\n",
       "       'counts/inf', 'counts/n', 'counts/nan', 'counts/null',\n",
       "       'distribution/max', 'distribution/mean', 'distribution/median',\n",
       "       'distribution/min', 'distribution/n', 'distribution/q_01',\n",
       "       'distribution/q_05', 'distribution/q_10', 'distribution/q_25',\n",
       "       'distribution/q_75', 'distribution/q_90', 'distribution/q_95',\n",
       "       'distribution/q_99', 'distribution/stddev',\n",
       "       'frequent_items/frequent_strings', 'type', 'types/boolean',\n",
       "       'types/fractional', 'types/integral', 'types/object', 'types/string',\n",
       "       'types/tensor', 'ints/max', 'ints/min'],\n",
       "      dtype='object')"
      ]
     },
     "execution_count": 16,
     "metadata": {},
     "output_type": "execute_result"
    }
   ],
   "source": [
    "prof_df.columns"
   ]
  },
  {
   "attachments": {},
   "cell_type": "markdown",
   "id": "01ca1052",
   "metadata": {},
   "source": [
    "[Link to whylogs](https://github.com/whylabs/whylogs)."
   ]
  },
  {
   "attachments": {},
   "cell_type": "markdown",
   "id": "13ee4558",
   "metadata": {},
   "source": [
    "### Fluke: The Easiest Way to Move Data Around"
   ]
  },
  {
   "attachments": {},
   "cell_type": "markdown",
   "id": "4fd676d8",
   "metadata": {},
   "source": [
    "Data scientists often need to transfer data between locations, such as a remote server to cloud storage. However, many Python libraries require a lot of boilerplate code to handle HTTP/SSH connections and iterate directories. \n",
    "\n",
    "This can be cumbersome for those who want to transfer files easily. Fluke offers a simple API that allows users to interact with remote data in a few lines of code. "
   ]
  },
  {
   "attachments": {},
   "cell_type": "markdown",
   "id": "7b436d6e",
   "metadata": {},
   "source": [
    "```python\n",
    "from fluke.auth import RemoteAuth, AWSAuth\n",
    "\n",
    "# This object will be used to authenticate\n",
    "# with the remote machine.\n",
    "rmt_auth = RemoteAuth.from_password(\n",
    "    hostname=\"host\",\n",
    "    username=\"user\",\n",
    "    password=\"password\")\n",
    "\n",
    "# This object will be used to authenticate\n",
    "# with AWS.\n",
    "aws_auth = AWSAuth(\n",
    "    aws_access_key_id=\"aws_access_key\",\n",
    "    aws_secret_access_key=\"aws_secret_key\")\n",
    "```"
   ]
  },
  {
   "attachments": {},
   "cell_type": "markdown",
   "id": "40a1d234",
   "metadata": {},
   "source": [
    "```python\n",
    "from fluke.storage import RemoteDir, AWSS3Dir\n",
    "\n",
    "with (\n",
    "    RemoteDir(auth=rmt_auth, path='/home/user/dir') as rmt_dir,\n",
    "    AWSS3Dir(auth=aws_auth, bucket=\"bucket\", path='dir', create_if_missing=True) as aws_dir\n",
    "):\n",
    "    rmt_dir.transfer_to(dst=aws_dir, recursively=True)\n",
    "```"
   ]
  },
  {
   "attachments": {},
   "cell_type": "markdown",
   "id": "e96430a1",
   "metadata": {},
   "source": [
    "[Link to Fluke](https://github.com/manoss96/fluke)."
   ]
  }
 ],
 "metadata": {
  "celltoolbar": "Tags",
  "kernelspec": {
   "display_name": "venv",
   "language": "python",
   "name": "python3"
  },
  "language_info": {
   "codemirror_mode": {
    "name": "ipython",
    "version": 3
   },
   "file_extension": ".py",
   "mimetype": "text/x-python",
   "name": "python",
   "nbconvert_exporter": "python",
   "pygments_lexer": "ipython3",
   "version": "3.9.6"
  },
  "toc": {
   "base_numbering": 1,
   "nav_menu": {},
   "number_sections": true,
   "sideBar": true,
   "skip_h1_title": false,
   "title_cell": "Table of Contents",
   "title_sidebar": "Contents",
   "toc_cell": false,
   "toc_position": {},
   "toc_section_display": true,
   "toc_window_display": false
  }
 },
 "nbformat": 4,
 "nbformat_minor": 5
}
