{
 "cells": [
  {
   "cell_type": "markdown",
   "id": "72c8394e",
   "metadata": {},
   "source": [
    "## PySpark"
   ]
  },
  {
   "cell_type": "markdown",
   "id": "62aced91",
   "metadata": {},
   "source": [
    "### 3 Powerful Ways to Create PySpark DataFrames"
   ]
  },
  {
   "cell_type": "code",
   "execution_count": null,
   "id": "1966a3c7",
   "metadata": {},
   "outputs": [],
   "source": [
    "from pyspark.sql import SparkSession\n",
    "\n",
    "spark = SparkSession.builder.getOrCreate()"
   ]
  },
  {
   "cell_type": "markdown",
   "id": "b4311d9e",
   "metadata": {},
   "source": [
    "Here are the three powerful methods to create DataFrames in PySpark, each with its own advantages:"
   ]
  },
  {
   "cell_type": "markdown",
   "id": "918915b7",
   "metadata": {},
   "source": [
    "1. Using StructType and StructField:"
   ]
  },
  {
   "cell_type": "code",
   "execution_count": null,
   "id": "a590b692",
   "metadata": {},
   "outputs": [],
   "source": [
    "from pyspark.sql.types import StructType, StructField, StringType, IntegerType\n",
    "\n",
    "\n",
    "data = [(\"Alice\", 25), (\"Bob\", 30), (\"Charlie\", 35)]\n",
    "schema = StructType(\n",
    "    [StructField(\"name\", StringType(), True), StructField(\"age\", IntegerType(), True)]\n",
    ")\n",
    "\n",
    "df = spark.createDataFrame(data, schema)\n",
    "df.show()"
   ]
  },
  {
   "cell_type": "markdown",
   "id": "921b6e5f",
   "metadata": {},
   "source": [
    "Pros:\n",
    "- Explicit schema definition, giving you full control over data types\n",
    "- Helps catch data type mismatches early\n",
    "- Ideal when you need to ensure data consistency and type safety\n",
    "- Can improve performance by avoiding schema inference"
   ]
  },
  {
   "cell_type": "markdown",
   "id": "72fc5a75",
   "metadata": {},
   "source": [
    "2. Using Row objects:"
   ]
  },
  {
   "cell_type": "code",
   "execution_count": null,
   "id": "199d049e",
   "metadata": {},
   "outputs": [],
   "source": [
    "from pyspark.sql import Row\n",
    "\n",
    "data = [Row(name=\"Alice\", age=25), Row(name=\"Bob\", age=30), Row(name=\"Charlie\", age=35)]\n",
    "df = spark.createDataFrame(data)\n",
    "df.show()"
   ]
  },
  {
   "cell_type": "markdown",
   "id": "8627bfb1",
   "metadata": {},
   "source": [
    "Pros:\n",
    "- More Pythonic approach, leveraging named tuples\n",
    "- Good for scenarios where data structure might evolve"
   ]
  },
  {
   "cell_type": "markdown",
   "id": "20dc1c42",
   "metadata": {},
   "source": [
    "3. From Pandas DataFrame:"
   ]
  },
  {
   "cell_type": "code",
   "execution_count": null,
   "id": "bb1c54ef",
   "metadata": {},
   "outputs": [],
   "source": [
    "import pandas as pd\n",
    "\n",
    "pandas_df = pd.DataFrame({\"name\": [\"Alice\", \"Bob\", \"Charlie\"], \"age\": [25, 30, 35]})\n",
    "df = spark.createDataFrame(pandas_df)\n",
    "df.show()"
   ]
  },
  {
   "cell_type": "markdown",
   "id": "9e5aee17",
   "metadata": {},
   "source": [
    "Pros:\n",
    "- Familiar to data scientists who frequently use Pandas"
   ]
  },
  {
   "cell_type": "markdown",
   "id": "f31008c9",
   "metadata": {},
   "source": [
    "### Distributed Data Joining with Shuffle Joins in PySpark"
   ]
  },
  {
   "cell_type": "code",
   "execution_count": null,
   "id": "08a12f08",
   "metadata": {
    "tags": [
     "hide-cell"
    ]
   },
   "outputs": [],
   "source": [
    "!pip install 'pyspark[sql]'"
   ]
  },
  {
   "cell_type": "markdown",
   "id": "a085a31c",
   "metadata": {},
   "source": [
    "Shuffle joins in PySpark distribute data across worker nodes, enabling parallel processing and improving performance compared to single-node joins. By dividing data into partitions and joining each partition simultaneously, shuffle joins can handle large datasets efficiently.\n",
    "\n",
    "![](../img/shuffle_join_4.png)"
   ]
  },
  {
   "cell_type": "markdown",
   "id": "9232509b",
   "metadata": {},
   "source": [
    "Here's an example of performing a shuffle join in PySpark:"
   ]
  },
  {
   "cell_type": "code",
   "execution_count": null,
   "id": "baa2e24b",
   "metadata": {},
   "outputs": [],
   "source": [
    "from pyspark.sql import SparkSession\n",
    "\n",
    "spark = SparkSession.builder.getOrCreate()"
   ]
  },
  {
   "cell_type": "code",
   "execution_count": null,
   "id": "13ce1a83",
   "metadata": {},
   "outputs": [],
   "source": [
    "employees = spark.createDataFrame(\n",
    "    [(1, \"John\", \"Sales\"), (2, \"Jane\", \"Marketing\"), (3, \"Bob\", \"Engineering\")],\n",
    "    [\"id\", \"name\", \"department\"],\n",
    ")\n",
    "\n",
    "salaries = spark.createDataFrame([(1, 5000), (2, 6000), (4, 7000)], [\"id\", \"salary\"])\n",
    "\n",
    "# Perform an inner join using the join key \"id\"\n",
    "joined_df = employees.join(salaries, \"id\", \"inner\")\n",
    "\n",
    "joined_df.show()"
   ]
  },
  {
   "cell_type": "markdown",
   "id": "b9184fd5",
   "metadata": {},
   "source": [
    "In this example, PySpark performs a shuffle join behind the scenes to combine the two DataFrames. The process involves partitioning the data based on the join key (\"id\"), shuffling the partitions across the worker nodes, performing local joins on each worker node, and finally merging the results."
   ]
  },
  {
   "cell_type": "markdown",
   "id": "31dd33fc",
   "metadata": {},
   "source": [
    "### PySpark DataFrame Transformations: select vs withColumn"
   ]
  },
  {
   "cell_type": "code",
   "execution_count": null,
   "id": "fd0da813",
   "metadata": {
    "tags": [
     "hide-cell"
    ]
   },
   "outputs": [],
   "source": [
    "!pip install 'pyspark[sql]'"
   ]
  },
  {
   "cell_type": "code",
   "execution_count": null,
   "id": "96cff11a",
   "metadata": {
    "tags": [
     "hide-cell"
    ]
   },
   "outputs": [],
   "source": [
    "from pyspark.sql import SparkSession\n",
    "\n",
    "spark = SparkSession.builder.getOrCreate()"
   ]
  },
  {
   "cell_type": "markdown",
   "id": "5e2de1cc",
   "metadata": {},
   "source": [
    "PySpark's `select` and `withColumn` both can be used to add or modify existing columns. However, their behavior are different.\n",
    "\n",
    "To demonstrate this, let's start with creating a sample DataFrame:"
   ]
  },
  {
   "cell_type": "code",
   "execution_count": null,
   "id": "fd986a5c",
   "metadata": {},
   "outputs": [],
   "source": [
    "from pyspark.sql.functions import col, upper\n",
    "\n",
    "\n",
    "data = [\n",
    "    (\"Alice\", 28, \"New York\"),\n",
    "    (\"Bob\", 35, \"San Francisco\"),\n",
    "]\n",
    "df = spark.createDataFrame(data, [\"name\", \"age\", \"city\"])\n",
    "df.show()"
   ]
  },
  {
   "cell_type": "markdown",
   "id": "befeb3e6",
   "metadata": {},
   "source": [
    "`select` only keeps specified columns."
   ]
  },
  {
   "cell_type": "code",
   "execution_count": null,
   "id": "2f632d88",
   "metadata": {},
   "outputs": [],
   "source": [
    "df_select = df.select(upper(col(\"city\")).alias(\"upper_city\"))\n",
    "df_select.show()"
   ]
  },
  {
   "cell_type": "markdown",
   "id": "becd04e7",
   "metadata": {},
   "source": [
    "`withColumn` retains all original columns plus the new/modified one."
   ]
  },
  {
   "cell_type": "code",
   "execution_count": null,
   "id": "15a62c35",
   "metadata": {},
   "outputs": [],
   "source": [
    "df_withColumn = df.withColumn(\"upper_city\", upper(col(\"city\")))\n",
    "df_withColumn.show()"
   ]
  },
  {
   "cell_type": "markdown",
   "id": "54eaf0b1",
   "metadata": {},
   "source": [
    "### Spark DataFrame: Avoid Out-of-Memory Errors with Lazy Evaluation"
   ]
  },
  {
   "cell_type": "code",
   "execution_count": null,
   "id": "88f05d2b",
   "metadata": {
    "tags": [
     "hide-cell"
    ]
   },
   "outputs": [],
   "source": [
    "!pip install 'pyspark[sql]'"
   ]
  },
  {
   "cell_type": "code",
   "execution_count": null,
   "id": "020892ca",
   "metadata": {
    "tags": [
     "remove-cell"
    ]
   },
   "outputs": [],
   "source": [
    "# Create a parquet file for testing\n",
    "\n",
    "import pandas as pd\n",
    "import numpy as np\n",
    "\n",
    "# Set the number of rows\n",
    "num_rows = 1_000_000\n",
    "\n",
    "# Create a categorical column with three categories as strings\n",
    "category_column = np.random.choice([\"a\", \"b\", \"c\"], size=num_rows)\n",
    "\n",
    "# Create two numerical columns\n",
    "num_col1 = np.random.randint(0, 100, num_rows)\n",
    "num_col2 = np.random.randint(0, 100, num_rows)\n",
    "\n",
    "# Create the DataFrame\n",
    "df = pd.DataFrame({\"cat\": category_column, \"val1\": num_col1, \"val2\": num_col2})\n",
    "\n",
    "df.to_parquet(\"test_data.parquet\")"
   ]
  },
  {
   "cell_type": "markdown",
   "id": "023e073d",
   "metadata": {},
   "source": [
    "Retrieving all rows from a large dataset into memory can cause out-of-memory errors. When creating a Spark DataFrame, computations are not executed until the `collect()` method is invoked. This allows you to reduce the size of the DataFrame through operations such as filtering or aggregating before bringing them into memory. \n",
    "\n",
    "As a result, you can manage memory usage more efficiently and avoid unnecessary computations."
   ]
  },
  {
   "cell_type": "code",
   "execution_count": null,
   "id": "e9c8e516",
   "metadata": {},
   "outputs": [],
   "source": [
    "from pyspark.sql import SparkSession\n",
    "\n",
    "spark = SparkSession.builder.getOrCreate()"
   ]
  },
  {
   "cell_type": "code",
   "execution_count": null,
   "id": "5083c2ec",
   "metadata": {},
   "outputs": [],
   "source": [
    "df = spark.read.parquet(\"test_data.parquet\")\n",
    "df.show(5)"
   ]
  },
  {
   "cell_type": "code",
   "execution_count": null,
   "id": "1451ce6c",
   "metadata": {},
   "outputs": [],
   "source": [
    "processed_df = df.filter(df[\"val1\"] >= 50).groupBy(\"cat\").agg({\"val2\": \"mean\"})"
   ]
  },
  {
   "cell_type": "code",
   "execution_count": null,
   "id": "3aa2d7b1",
   "metadata": {},
   "outputs": [],
   "source": [
    "processed_df.collect()"
   ]
  },
  {
   "cell_type": "markdown",
   "id": "107e4001",
   "metadata": {},
   "source": [
    "### Pandas-Friendly Big Data Processing with Spark"
   ]
  },
  {
   "cell_type": "code",
   "execution_count": null,
   "id": "65a8b772",
   "metadata": {},
   "outputs": [],
   "source": [
    "!pip install \"pyspark[pandas_on_spark]\""
   ]
  },
  {
   "cell_type": "markdown",
   "id": "f16a51e6",
   "metadata": {},
   "source": [
    "Spark enables scaling of your pandas workloads across multiple nodes. However, learning PySpark syntax can be daunting for pandas users. \n",
    "\n",
    "Pandas API on Spark enables leveraging Spark's capabilities for big data while retaining a familiar pandas-like syntax.\n",
    "\n",
    "The following code compares the syntax between PySpark and the Pandas API on Spark."
   ]
  },
  {
   "cell_type": "code",
   "execution_count": null,
   "id": "99e19f18",
   "metadata": {},
   "outputs": [],
   "source": [
    "import warnings\n",
    "\n",
    "warnings.simplefilter(action=\"ignore\", category=FutureWarning)"
   ]
  },
  {
   "cell_type": "markdown",
   "id": "eb5b7646",
   "metadata": {},
   "source": [
    "Pandas API on Spark:"
   ]
  },
  {
   "cell_type": "code",
   "execution_count": null,
   "id": "73ce3923",
   "metadata": {},
   "outputs": [],
   "source": [
    "import numpy as np\n",
    "import pyspark.pandas as ps"
   ]
  },
  {
   "cell_type": "code",
   "execution_count": null,
   "id": "c175505e",
   "metadata": {},
   "outputs": [],
   "source": [
    "psdf = ps.DataFrame(\n",
    "    {\n",
    "        \"A\": [\"foo\", \"bar\", \"foo\"],\n",
    "        \"B\": [\"one\", \"one\", \"two\"],\n",
    "        \"C\": [0.1, 0.3, 0.5],\n",
    "        \"D\": [0.2, 0.4, 0.6],\n",
    "    }\n",
    ")"
   ]
  },
  {
   "cell_type": "code",
   "execution_count": null,
   "id": "84437b07",
   "metadata": {},
   "outputs": [],
   "source": [
    "psdf.sort_values(by=\"B\")"
   ]
  },
  {
   "cell_type": "code",
   "execution_count": null,
   "id": "7e1f07ab",
   "metadata": {},
   "outputs": [],
   "source": [
    "psdf.groupby(\"A\").sum()"
   ]
  },
  {
   "cell_type": "code",
   "execution_count": null,
   "id": "32744ffa",
   "metadata": {},
   "outputs": [],
   "source": [
    "psdf.query(\"C > 0.4\")"
   ]
  },
  {
   "cell_type": "code",
   "execution_count": null,
   "id": "9d9bee73",
   "metadata": {},
   "outputs": [],
   "source": [
    "psdf[[\"C\", \"D\"]].abs()"
   ]
  },
  {
   "cell_type": "markdown",
   "id": "e190b952",
   "metadata": {},
   "source": [
    "PySpark:"
   ]
  },
  {
   "cell_type": "code",
   "execution_count": null,
   "id": "0a05b82a",
   "metadata": {},
   "outputs": [],
   "source": [
    "from pyspark.sql.functions import col\n",
    "from pyspark.sql.functions import abs\n",
    "from pyspark.sql import SparkSession"
   ]
  },
  {
   "cell_type": "code",
   "execution_count": null,
   "id": "b0492ac0",
   "metadata": {},
   "outputs": [],
   "source": [
    "spark = SparkSession.builder.getOrCreate()"
   ]
  },
  {
   "cell_type": "code",
   "execution_count": null,
   "id": "b50ff967",
   "metadata": {},
   "outputs": [],
   "source": [
    "spark_data = spark.createDataFrame(\n",
    "    [\n",
    "        (\"foo\", \"one\", 0.1, 0.2),\n",
    "        (\"bar\", \"one\", 0.3, 0.4),\n",
    "        (\"foo\", \"two\", 0.5, 0.6),\n",
    "    ],\n",
    "    [\"A\", \"B\", \"C\", \"D\"],\n",
    ")"
   ]
  },
  {
   "cell_type": "code",
   "execution_count": null,
   "id": "503dd0cd",
   "metadata": {},
   "outputs": [],
   "source": [
    "spark_data.sort(col(\"B\")).show()"
   ]
  },
  {
   "cell_type": "code",
   "execution_count": null,
   "id": "5806770c",
   "metadata": {},
   "outputs": [],
   "source": [
    "spark_data.groupBy(\"A\").sum().show()"
   ]
  },
  {
   "cell_type": "code",
   "execution_count": null,
   "id": "793679e8",
   "metadata": {},
   "outputs": [],
   "source": [
    "spark_data.filter(col(\"C\") > 0.4).show()"
   ]
  },
  {
   "cell_type": "code",
   "execution_count": null,
   "id": "e8d1cfcf",
   "metadata": {},
   "outputs": [],
   "source": [
    "spark_data.select(abs(spark_data[\"C\"]).alias(\"C\"), abs(spark_data[\"D\"]).alias(\"D\"))"
   ]
  },
  {
   "cell_type": "markdown",
   "id": "49821913",
   "metadata": {},
   "source": [
    "### Writing Safer and Cleaner Spark SQL with PySpark's Parameterized Queries"
   ]
  },
  {
   "cell_type": "code",
   "execution_count": null,
   "id": "f2805c02",
   "metadata": {
    "tags": [
     "hide-cell"
    ]
   },
   "outputs": [],
   "source": [
    "!pip install \"pyspark[sql]\""
   ]
  },
  {
   "cell_type": "code",
   "execution_count": null,
   "id": "4621c5d2",
   "metadata": {},
   "outputs": [],
   "source": [
    "from pyspark.sql import SparkSession\n",
    "import pandas as pd\n",
    "from datetime import date, timedelta\n",
    "\n",
    "spark = SparkSession.builder.getOrCreate()"
   ]
  },
  {
   "cell_type": "markdown",
   "id": "9ba61dca",
   "metadata": {},
   "source": [
    "When working with Spark SQL queries, using regular Python string interpolation can lead to security vulnerabilities and require extra steps like creating temporary views. PySpark offers a better solution with parameterized queries, which:\n",
    "\n",
    "- Protect against SQL injection\n",
    "- Allow using DataFrame objects directly in queries\n",
    "- Automatically handle date formatting\n",
    "- Provide a more expressive way to write SQL queries\n",
    "\n",
    "Let's compare the traditional approach with parameterized queries:"
   ]
  },
  {
   "cell_type": "code",
   "execution_count": null,
   "id": "49259c6c",
   "metadata": {},
   "outputs": [],
   "source": [
    "# Create a Spark DataFrame\n",
    "item_price_pandas = pd.DataFrame(\n",
    "    {\n",
    "        \"item_id\": [1, 2, 3, 4],\n",
    "        \"price\": [4, 2, 5, 1],\n",
    "        \"transaction_date\": [\n",
    "            date(2023, 1, 15),\n",
    "            date(2023, 2, 1),\n",
    "            date(2023, 3, 10),\n",
    "            date(2023, 4, 22),\n",
    "        ],\n",
    "    }\n",
    ")\n",
    "\n",
    "item_price = spark.createDataFrame(item_price_pandas)\n",
    "item_price.show()"
   ]
  },
  {
   "cell_type": "markdown",
   "id": "15fa3b0c",
   "metadata": {},
   "source": [
    "Traditional approach (less secure, requires temp view and wrapping the date in quotes):"
   ]
  },
  {
   "cell_type": "code",
   "execution_count": null,
   "id": "d7807250",
   "metadata": {},
   "outputs": [],
   "source": [
    "item_price.createOrReplaceTempView(\"item_price_view\")\n",
    "transaction_date = \"2023-02-15\"\n",
    "\n",
    "query = f\"\"\"SELECT *\n",
    "FROM item_price_view \n",
    "WHERE transaction_date > '{transaction_date}'\n",
    "\"\"\"\n",
    "\n",
    "spark.sql(query).show()"
   ]
  },
  {
   "cell_type": "markdown",
   "id": "bcc4df70",
   "metadata": {},
   "source": [
    "PySpark's parameterized query approach (secure, no temp view and quotes needed):"
   ]
  },
  {
   "cell_type": "code",
   "execution_count": null,
   "id": "ebbf672c",
   "metadata": {},
   "outputs": [],
   "source": [
    "query = \"\"\"SELECT *\n",
    "FROM {item_price} \n",
    "WHERE transaction_date > {transaction_date}\n",
    "\"\"\"\n",
    "\n",
    "spark.sql(query, item_price=item_price, transaction_date=transaction_date).show()"
   ]
  },
  {
   "cell_type": "markdown",
   "id": "ece85bcd",
   "metadata": {},
   "source": [
    "This method allows for easy parameter substitution and direct use of DataFrames, making your Spark SQL queries both safer and more convenient to write and maintain."
   ]
  },
  {
   "cell_type": "markdown",
   "id": "b0bb0b0d",
   "metadata": {},
   "source": [
    "### Working with Arrays Made Easier in Spark 3.5"
   ]
  },
  {
   "cell_type": "code",
   "execution_count": null,
   "id": "63f23812",
   "metadata": {
    "tags": [
     "hide-cell"
    ]
   },
   "outputs": [],
   "source": [
    "!pip install \"pyspark[sql]\""
   ]
  },
  {
   "cell_type": "markdown",
   "id": "e36e7ffa",
   "metadata": {},
   "source": [
    "Spark 3.5 added new array helper functions that simplify the process of working with array data. Below are a few examples showcasing these new array functions."
   ]
  },
  {
   "cell_type": "code",
   "execution_count": null,
   "id": "8d696ec0",
   "metadata": {
    "tags": [
     "hide-cell"
    ]
   },
   "outputs": [],
   "source": [
    "from pyspark.sql import SparkSession\n",
    "\n",
    "spark = SparkSession.builder.getOrCreate()"
   ]
  },
  {
   "cell_type": "code",
   "execution_count": null,
   "id": "8e734795",
   "metadata": {
    "tags": [
     "hide-input"
    ]
   },
   "outputs": [],
   "source": [
    "from pyspark.sql import Row\n",
    "\n",
    "df = spark.createDataFrame(\n",
    "    [\n",
    "        Row(customer=\"Alex\", orders=[\"🍋\", \"🍋\"]),\n",
    "        Row(customer=\"Bob\", orders=[\"🍊\"]),\n",
    "    ]\n",
    ")\n",
    "\n",
    "df.show()"
   ]
  },
  {
   "cell_type": "code",
   "execution_count": null,
   "id": "b2eef7f4",
   "metadata": {},
   "outputs": [],
   "source": [
    "from pyspark.sql.functions import (\n",
    "    col,\n",
    "    array_append,\n",
    "    array_prepend,\n",
    "    array_contains,\n",
    "    array_distinct,\n",
    ")\n",
    "\n",
    "df.withColumn(\"orders\", array_append(col(\"orders\"), \"🍇\")).show()"
   ]
  },
  {
   "cell_type": "code",
   "execution_count": null,
   "id": "b326e969",
   "metadata": {},
   "outputs": [],
   "source": [
    "df.withColumn(\"orders\", array_prepend(col(\"orders\"), \"🍇\")).show()"
   ]
  },
  {
   "cell_type": "code",
   "execution_count": null,
   "id": "41faa0e2",
   "metadata": {},
   "outputs": [],
   "source": [
    "df.withColumn(\"orders\", array_distinct(col(\"orders\"))).show()"
   ]
  },
  {
   "cell_type": "code",
   "execution_count": null,
   "id": "877379e3",
   "metadata": {},
   "outputs": [],
   "source": [
    "df.withColumn(\"has_🍋\", array_contains(col(\"orders\"), \"🍋\")).show()"
   ]
  },
  {
   "cell_type": "markdown",
   "id": "54b51211",
   "metadata": {},
   "source": [
    "[View other array functions](https://bit.ly/4c0txD1)."
   ]
  },
  {
   "cell_type": "markdown",
   "id": "4aa219e7",
   "metadata": {},
   "source": [
    "### Simplify Complex SQL Queries with PySpark UDFs"
   ]
  },
  {
   "cell_type": "code",
   "execution_count": null,
   "id": "88488e42",
   "metadata": {
    "tags": [
     "hide-cell"
    ]
   },
   "outputs": [],
   "source": [
    "!pip install \"pyspark[sql]\""
   ]
  },
  {
   "cell_type": "code",
   "execution_count": null,
   "id": "bc9de0b6",
   "metadata": {
    "tags": [
     "hide-cell"
    ]
   },
   "outputs": [],
   "source": [
    "from pyspark.sql import SparkSession\n",
    "\n",
    "spark = SparkSession.builder.getOrCreate()"
   ]
  },
  {
   "cell_type": "markdown",
   "id": "e776fdba",
   "metadata": {},
   "source": [
    "SQL queries can often become complex and challenging to comprehend."
   ]
  },
  {
   "cell_type": "code",
   "execution_count": null,
   "id": "25d268fa",
   "metadata": {},
   "outputs": [],
   "source": [
    "df = spark.createDataFrame(\n",
    "    [(1, \"John Doe\"), (2, \"Jane Smith\"), (3, \"Bob Johnson\")], [\"id\", \"name\"]\n",
    ")\n",
    "\n",
    "# Register the DataFrame as a temporary table or view\n",
    "df.createOrReplaceTempView(\"df\")\n",
    "\n",
    "# Complex SQL query\n",
    "spark.sql(\n",
    "    \"\"\"\n",
    "    SELECT id, CONCAT(UPPER(SUBSTRING(name, 1, 1)), LOWER(SUBSTRING(name, 2))) AS modified_name\n",
    "    FROM df\n",
    "\"\"\"\n",
    ").show()"
   ]
  },
  {
   "cell_type": "markdown",
   "id": "26b36e7a",
   "metadata": {},
   "source": [
    "Using PySpark UDFs simplifies complex SQL queries by encapsulating complex operations into a single function call, resulting in cleaner queries. UDFs also allow for the reuse of complex logic across different queries. \n",
    "\n",
    "In the code example below, we define a UDF called `modify_name` that converts the name to uppercase."
   ]
  },
  {
   "cell_type": "code",
   "execution_count": null,
   "id": "66591a1a",
   "metadata": {},
   "outputs": [],
   "source": [
    "from pyspark.sql.functions import udf\n",
    "from pyspark.sql.types import StringType\n",
    "\n",
    "\n",
    "# Define a UDF to modify the name\n",
    "@udf(returnType=StringType())\n",
    "def modify_name(name):\n",
    "    return name[0].upper() + name[1:].lower()\n",
    "\n",
    "\n",
    "spark.udf.register(\"modify_name\", modify_name)\n",
    "\n",
    "# Apply the UDF in the spark.sql query\n",
    "df.createOrReplaceTempView(\"df\")\n",
    "\n",
    "spark.sql(\n",
    "    \"\"\"\n",
    "    SELECT id, modify_name(name) AS modified_name\n",
    "    FROM df\n",
    "\"\"\"\n",
    ").show()"
   ]
  },
  {
   "cell_type": "markdown",
   "id": "b13165df",
   "metadata": {},
   "source": [
    "[Learn more about PySPark UDFs](https://bit.ly/3TEYPHh)."
   ]
  },
  {
   "cell_type": "markdown",
   "id": "3fa27693",
   "metadata": {},
   "source": [
    "### Leverage Spark UDFs for Reusable Complex Logic in SQL Queries"
   ]
  },
  {
   "cell_type": "code",
   "execution_count": null,
   "id": "8471c3f9",
   "metadata": {
    "tags": [
     "hide-cell"
    ]
   },
   "outputs": [],
   "source": [
    "!pip install \"pyspark[sql]\""
   ]
  },
  {
   "cell_type": "code",
   "execution_count": null,
   "id": "5d3c2564",
   "metadata": {
    "tags": [
     "hide-cell"
    ]
   },
   "outputs": [],
   "source": [
    "from pyspark.sql import SparkSession\n",
    "from pyspark.sql.functions import udf, col\n",
    "from pyspark.sql.types import StringType\n",
    "\n",
    "# Create SparkSession\n",
    "spark = SparkSession.builder.getOrCreate()"
   ]
  },
  {
   "cell_type": "markdown",
   "id": "a3700f9c",
   "metadata": {},
   "source": [
    "Duplicated code in SQL queries can lead to inconsistencies if changes are made to one instance of the duplicated code but not to others."
   ]
  },
  {
   "cell_type": "code",
   "execution_count": null,
   "id": "6859d844",
   "metadata": {},
   "outputs": [],
   "source": [
    "# Sample DataFrame\n",
    "df = spark.createDataFrame(\n",
    "    [(\"Product 1\", 10.0, 5), (\"Product 2\", 15.0, 3), (\"Product 3\", 8.0, 2)],\n",
    "    [\"name\", \"price\", \"quantity\"],\n",
    ")\n",
    "\n",
    "# Use df within Spark SQL queries\n",
    "df.createOrReplaceTempView(\"products\")\n",
    "\n",
    "# Select Statement 1\n",
    "result1 = spark.sql(\n",
    "    \"\"\"\n",
    "    SELECT name, price, quantity,\n",
    "        CASE\n",
    "            WHEN price < 10.0 THEN 'Low'\n",
    "            WHEN price >= 10.0 AND price < 15.0 THEN 'Medium'\n",
    "            ELSE 'High'\n",
    "        END AS category\n",
    "    FROM products\n",
    "\"\"\"\n",
    ")\n",
    "\n",
    "# Select Statement 2\n",
    "result2 = spark.sql(\n",
    "    \"\"\"\n",
    "    SELECT name,\n",
    "        CASE\n",
    "            WHEN price < 10.0 THEN 'Low'\n",
    "            WHEN price >= 10.0 AND price < 15.0 THEN 'Medium'\n",
    "            ELSE 'High'\n",
    "        END AS category\n",
    "    FROM products\n",
    "    WHERE quantity > 3\n",
    "\"\"\"\n",
    ")\n",
    "\n",
    "# Display the results\n",
    "result1.show()\n",
    "result2.show()"
   ]
  },
  {
   "cell_type": "markdown",
   "id": "89991d6a",
   "metadata": {},
   "source": [
    "Spark UDFs (User-Defined Functions) can help address these issues by encapsulating complex logic that is reused across multiple SQL queries. \n",
    "\n",
    "In the code example above, we define a UDF `assign_category_label` that assigns category labels based on price. This UDF is then reused in two different SQL statements."
   ]
  },
  {
   "cell_type": "code",
   "execution_count": null,
   "id": "3c3945db",
   "metadata": {},
   "outputs": [],
   "source": [
    "# Define UDF to assign category label based on price\n",
    "@udf(returnType=StringType())\n",
    "def assign_category_label(price):\n",
    "    if price < 10.0:\n",
    "        return \"Low\"\n",
    "    elif price >= 10.0 and price < 15.0:\n",
    "        return \"Medium\"\n",
    "    else:\n",
    "        return \"High\"\n",
    "\n",
    "\n",
    "# Register UDF\n",
    "spark.udf.register(\"assign_category_label\", assign_category_label)\n",
    "\n",
    "# Select Statement 1\n",
    "result1 = spark.sql(\n",
    "    \"\"\"\n",
    "    SELECT name, price, quantity, assign_category_label(price) AS category\n",
    "    FROM products\n",
    "\"\"\"\n",
    ")\n",
    "\n",
    "# Select Statement 2\n",
    "result2 = spark.sql(\n",
    "    \"\"\"\n",
    "    SELECT name, assign_category_label(price) AS category\n",
    "    FROM products\n",
    "    WHERE quantity > 3\n",
    "\"\"\"\n",
    ")\n",
    "\n",
    "# Display the results\n",
    "result1.show()\n",
    "result2.show()"
   ]
  },
  {
   "cell_type": "markdown",
   "id": "0bcc982f",
   "metadata": {},
   "source": [
    "### Transform Single Inputs into Tables Using PySpark UDTFs"
   ]
  },
  {
   "cell_type": "code",
   "execution_count": null,
   "id": "3660081b",
   "metadata": {
    "editable": true,
    "slideshow": {
     "slide_type": ""
    },
    "tags": [
     "hide-cell"
    ]
   },
   "outputs": [],
   "source": [
    "!pip install \"pyspark[sql]\""
   ]
  },
  {
   "cell_type": "code",
   "execution_count": null,
   "id": "328ed608",
   "metadata": {
    "editable": true,
    "slideshow": {
     "slide_type": ""
    },
    "tags": [
     "hide-cell"
    ]
   },
   "outputs": [],
   "source": [
    "from pyspark.sql import SparkSession\n",
    "\n",
    "# Create SparkSession\n",
    "spark = SparkSession.builder.getOrCreate()"
   ]
  },
  {
   "cell_type": "markdown",
   "id": "f7f2064e",
   "metadata": {},
   "source": [
    "In PySpark, User-Defined Functions (UDFs) and User-Defined Table Functions (UDTFs) are custom functions that perform complex data transformations.\n",
    "\n",
    "UDFs take input columns and return a single value. However, they are cumbersome when returning multiple rows and columns, resulting in complex and inefficient code."
   ]
  },
  {
   "cell_type": "code",
   "execution_count": null,
   "id": "5334138b",
   "metadata": {},
   "outputs": [],
   "source": [
    "from pyspark.sql.functions import udf, explode\n",
    "from pyspark.sql.types import ArrayType, StructType, StructField, IntegerType\n",
    "\n",
    "# Define the schema of the output\n",
    "schema = ArrayType(\n",
    "    StructType(\n",
    "        [\n",
    "            StructField(\"num\", IntegerType(), False),\n",
    "            StructField(\"squared\", IntegerType(), False),\n",
    "        ]\n",
    "    )\n",
    ")\n",
    "\n",
    "\n",
    "# Define the UDF\n",
    "@udf(returnType=schema)\n",
    "def square_numbers_udf(start: int, end: int):\n",
    "    return [(num, num * num) for num in range(start, end + 1)]\n",
    "\n",
    "\n",
    "# Use in Python\n",
    "df = spark.createDataFrame([(1, 3)], [\"start\", \"end\"])\n",
    "result_df = df.select(explode(square_numbers_udf(df.start, df.end)).alias(\"result\"))\n",
    "result_df.select(\"result.num\", \"result.squared\").show()"
   ]
  },
  {
   "cell_type": "markdown",
   "id": "0493eb0e",
   "metadata": {},
   "source": [
    "With UDTFs, you can create functions that return entire tables from a single input, making it easier to work with multiple rows and columns."
   ]
  },
  {
   "cell_type": "code",
   "execution_count": null,
   "id": "40bcf02a",
   "metadata": {
    "editable": true,
    "slideshow": {
     "slide_type": ""
    }
   },
   "outputs": [],
   "source": [
    "from pyspark.sql.functions import udtf, lit\n",
    "from pyspark.sql.types import StringType\n",
    "\n",
    "\n",
    "@udtf(returnType=\"num: int, squared: int\")\n",
    "class SquareNumbers:\n",
    "    def eval(self, start: int, end: int):\n",
    "        for num in range(start, end + 1):\n",
    "            yield (num, num * num)\n",
    "\n",
    "\n",
    "SquareNumbers(lit(1), lit(3)).show()"
   ]
  },
  {
   "cell_type": "markdown",
   "id": "691b2b4f",
   "metadata": {},
   "source": [
    "### Best Practices for PySpark DataFrame Comparison Testing"
   ]
  },
  {
   "cell_type": "code",
   "execution_count": null,
   "id": "f075866c",
   "metadata": {
    "editable": true,
    "slideshow": {
     "slide_type": ""
    },
    "tags": [
     "hide-cell"
    ]
   },
   "outputs": [],
   "source": [
    "!pip install \"pyspark[sql]\""
   ]
  },
  {
   "cell_type": "code",
   "execution_count": null,
   "id": "e56c27c4",
   "metadata": {
    "editable": true,
    "slideshow": {
     "slide_type": ""
    },
    "tags": [
     "hide-cell"
    ]
   },
   "outputs": [],
   "source": [
    "from pyspark.sql import SparkSession\n",
    "\n",
    "# Create SparkSession\n",
    "spark = SparkSession.builder.getOrCreate()"
   ]
  },
  {
   "cell_type": "markdown",
   "id": "2c332b3f",
   "metadata": {},
   "source": [
    "Manually comparing PySpark DataFrame outputs using `collect()` and equality comparison leads to brittle tests due to ordering issues and unclear error messages when data doesn't match expectations.\n",
    "\n",
    "For example, the following test will fail due to ordering issues, resulting in an unclear error message."
   ]
  },
  {
   "cell_type": "code",
   "execution_count": null,
   "id": "f57a5248",
   "metadata": {},
   "outputs": [],
   "source": [
    "# Manual DataFrame comparison\n",
    "result_df = spark.createDataFrame(\n",
    "    [(1, \"Alice\", 100), (2, \"Bob\", 200)], [\"id\", \"name\", \"value\"]\n",
    ")\n",
    "\n",
    "expected_df = spark.createDataFrame(\n",
    "    [(2, \"Bob\", 200), (1, \"Alice\", 100)], [\"id\", \"name\", \"value\"]\n",
    ")\n",
    "\n",
    "try:\n",
    "    assert result_df.collect() == expected_df.collect()\n",
    "except AssertionError as e:\n",
    "    print(e)"
   ]
  },
  {
   "cell_type": "markdown",
   "id": "c52b6242",
   "metadata": {},
   "source": [
    "`assertDataFrameEqual` provides a robust way to compare DataFrames, allowing for order-independent comparison."
   ]
  },
  {
   "cell_type": "code",
   "execution_count": null,
   "id": "760a802b",
   "metadata": {},
   "outputs": [],
   "source": [
    "# Testing with DataFrame equality\n",
    "from pyspark.testing.utils import assertDataFrameEqual"
   ]
  },
  {
   "cell_type": "code",
   "execution_count": null,
   "id": "f47c55b3",
   "metadata": {},
   "outputs": [],
   "source": [
    "assertDataFrameEqual(result_df, expected_df)"
   ]
  },
  {
   "cell_type": "markdown",
   "id": "9472f70f",
   "metadata": {},
   "source": [
    "Using `collect()` for comparison cannot detect type mismatch, whereas `assertDataFrameEqual` can.\n",
    "\n",
    "For example, the following test will pass, even though there is a type mismatch."
   ]
  },
  {
   "cell_type": "code",
   "execution_count": null,
   "id": "644fab90",
   "metadata": {},
   "outputs": [],
   "source": [
    "# Manual DataFrame comparison\n",
    "result_df = spark.createDataFrame(\n",
    "    [(1, \"Alice\", 100), (2, \"Bob\", 200)], [\"id\", \"name\", \"value\"]\n",
    ")\n",
    "\n",
    "expected_df = spark.createDataFrame(\n",
    "    [(1, \"Alice\", 100.0), (2, \"Bob\", 200.0)], [\"id\", \"name\", \"value\"]\n",
    ")\n",
    "\n",
    "assert result_df.collect() == expected_df.collect()"
   ]
  },
  {
   "cell_type": "markdown",
   "id": "2a9030e7",
   "metadata": {},
   "source": [
    "The error message produced by `assertDataFrameEqual` is clear and informative, highlighting the difference in schemas."
   ]
  },
  {
   "cell_type": "code",
   "execution_count": null,
   "id": "d7f8cefe",
   "metadata": {},
   "outputs": [],
   "source": [
    "try:\n",
    "    assertDataFrameEqual(result_df, expected_df)\n",
    "except AssertionError as e:\n",
    "    print(e)"
   ]
  },
  {
   "cell_type": "markdown",
   "id": "4fbfebd3",
   "metadata": {
    "editable": true,
    "slideshow": {
     "slide_type": ""
    }
   },
   "source": [
    "### Simplify Unit Testing of SQL Queries with PySpark"
   ]
  },
  {
   "cell_type": "code",
   "execution_count": null,
   "id": "01b248fe",
   "metadata": {
    "tags": [
     "hide-cell"
    ]
   },
   "outputs": [],
   "source": [
    "!pip install ipytest \"pyspark[sql]\""
   ]
  },
  {
   "cell_type": "code",
   "execution_count": null,
   "id": "bb47c42b",
   "metadata": {
    "tags": [
     "remove-cell"
    ]
   },
   "outputs": [],
   "source": [
    "import ipytest\n",
    "\n",
    "ipytest.autoconfig()"
   ]
  },
  {
   "cell_type": "markdown",
   "id": "24d6d806",
   "metadata": {},
   "source": [
    "Testing your SQL queries helps to ensure that they are correct and functioning as intended.\n",
    "\n",
    "PySpark enables users to parameterize queries, which simplifies unit testing of SQL queries. In this example, the `df` and `amount` variables are parameterized to verify whether the `actual_df` matches the `expected_df`."
   ]
  },
  {
   "cell_type": "code",
   "execution_count": null,
   "id": "c743b0b2",
   "metadata": {},
   "outputs": [],
   "source": [
    "%%ipytest -qq\n",
    "import pytest\n",
    "from pyspark.testing import assertDataFrameEqual\n",
    "\n",
    "\n",
    "@pytest.fixture\n",
    "def query():\n",
    "    return \"SELECT * from {df} where price > {amount} AND name LIKE '%Product%';\"\n",
    "\n",
    "\n",
    "def test_query_return_correct_number_of_rows(query):\n",
    "\n",
    "    spark = SparkSession.builder.getOrCreate()\n",
    "\n",
    "    # Create a sample DataFrame\n",
    "    df = spark.createDataFrame(\n",
    "        [\n",
    "            (\"Product 1\", 10.0, 5),\n",
    "            (\"Product 2\", 15.0, 3),\n",
    "            (\"Product 3\", 8.0, 2),\n",
    "        ],\n",
    "        [\"name\", \"price\", \"quantity\"],\n",
    "    )\n",
    "\n",
    "    # Execute the query\n",
    "    actual_df = spark.sql(query, df=df, amount=10)\n",
    "\n",
    "    # Assert the result\n",
    "    expected_df = spark.createDataFrame(\n",
    "        [\n",
    "            (\"Product 2\", 15.0, 3),\n",
    "        ],\n",
    "        [\"name\", \"price\", \"quantity\"],\n",
    "    )\n",
    "    assertDataFrameEqual(actual_df, expected_df)"
   ]
  },
  {
   "cell_type": "markdown",
   "id": "66be96ad",
   "metadata": {},
   "source": [
    "### Update Multiple Columns in Spark 3.3 and Later"
   ]
  },
  {
   "cell_type": "code",
   "execution_count": null,
   "id": "4f4f8371",
   "metadata": {
    "tags": [
     "hide-cell"
    ]
   },
   "outputs": [],
   "source": [
    "!pip install -U \"pyspark[sql]\""
   ]
  },
  {
   "cell_type": "code",
   "execution_count": null,
   "id": "93e0b4da",
   "metadata": {
    "tags": [
     "hide-cell"
    ]
   },
   "outputs": [],
   "source": [
    "from pyspark.sql import SparkSession\n",
    "\n",
    "# Create SparkSession\n",
    "spark = SparkSession.builder.getOrCreate()"
   ]
  },
  {
   "cell_type": "code",
   "execution_count": null,
   "id": "d05470d7",
   "metadata": {},
   "outputs": [],
   "source": [
    "from pyspark.sql.functions import col, trim\n",
    "\n",
    "# Create a sample DataFrame\n",
    "data = [(\"   John   \", 35), (\"Jane\", 28)]\n",
    "columns = [\"first_name\", \"age\"]\n",
    "df = spark.createDataFrame(data, columns)\n",
    "df.show()"
   ]
  },
  {
   "cell_type": "markdown",
   "id": "5b83e539",
   "metadata": {},
   "source": [
    "Prior to PySpark 3.3, appending multiple columns to a Spark DataFrame required chaining multiple `withColumn` calls."
   ]
  },
  {
   "cell_type": "code",
   "execution_count": null,
   "id": "af652872",
   "metadata": {},
   "outputs": [],
   "source": [
    "# Before Spark 3.3\n",
    "new_df = df.withColumn(\"first_name\", trim(col(\"first_name\"))).withColumn(\n",
    "    \"age_after_10_years\", col(\"age\") + 10\n",
    ")\n",
    "\n",
    "new_df.show()"
   ]
  },
  {
   "cell_type": "markdown",
   "id": "33713518",
   "metadata": {},
   "source": [
    "In PySpark 3.3 and later, you can use the withColumns method in a dictionary style to append multiple columns to a DataFrame. This syntax is more user-friendly for pandas users."
   ]
  },
  {
   "cell_type": "code",
   "execution_count": null,
   "id": "bf6137df",
   "metadata": {},
   "outputs": [],
   "source": [
    "new_df = df.withColumns(\n",
    "    {\n",
    "        \"first_name\": trim(col(\"first_name\")),\n",
    "        \"age_after_10_years\": col(\"age\") + 10,\n",
    "    }\n",
    ")\n",
    "\n",
    "new_df.show()"
   ]
  },
  {
   "cell_type": "markdown",
   "id": "c4d74a34",
   "metadata": {},
   "source": [
    "### Vectorized Operations in PySpark: pandas_udf vs Standard UDF"
   ]
  },
  {
   "cell_type": "code",
   "execution_count": null,
   "id": "d4b1f4b7",
   "metadata": {
    "tags": [
     "hide-cell"
    ]
   },
   "outputs": [],
   "source": [
    "!pip install -U pyspark"
   ]
  },
  {
   "cell_type": "code",
   "execution_count": null,
   "id": "26797875",
   "metadata": {},
   "outputs": [],
   "source": [
    "from pyspark.sql import SparkSession\n",
    "\n",
    "# Create SparkSession\n",
    "spark = SparkSession.builder.getOrCreate()"
   ]
  },
  {
   "cell_type": "markdown",
   "id": "635f55f0",
   "metadata": {},
   "source": [
    "Standard UDF functions process data row-by-row, resulting in Python function call overhead. \n",
    "\n",
    "In contrast, pandas_udf uses Pandas' vectorized operations to process entire columns in a single operation, significantly improving performance."
   ]
  },
  {
   "cell_type": "code",
   "execution_count": null,
   "id": "a2726a3e",
   "metadata": {},
   "outputs": [],
   "source": [
    "# Sample DataFrame\n",
    "data = [(1.0,), (2.0,), (3.0,), (4.0,)]\n",
    "df = spark.createDataFrame(data, [\"val1\"])\n",
    "\n",
    "df.show()"
   ]
  },
  {
   "cell_type": "code",
   "execution_count": null,
   "id": "32d6eac7",
   "metadata": {},
   "outputs": [],
   "source": [
    "from pyspark.sql.functions import udf\n",
    "\n",
    "\n",
    "# Standard UDF\n",
    "@udf(\"double\")\n",
    "def plus_one(val):\n",
    "    return val + 1\n",
    "\n",
    "\n",
    "# Apply the Standard UDF\n",
    "df.withColumn(\"val2\", plus_one(df.val1)).show()"
   ]
  },
  {
   "cell_type": "code",
   "execution_count": null,
   "id": "12f1aa56",
   "metadata": {},
   "outputs": [],
   "source": [
    "from pyspark.sql.functions import pandas_udf\n",
    "import pandas as pd\n",
    "\n",
    "\n",
    "# Pandas UDF\n",
    "@pandas_udf(\"double\")\n",
    "def pandas_plus_one(val: pd.Series) -> pd.Series:\n",
    "    return val + 1\n",
    "\n",
    "\n",
    "# Apply the Pandas UDF\n",
    "df.withColumn(\"val2\", pandas_plus_one(df.val1)).show()"
   ]
  },
  {
   "cell_type": "markdown",
   "id": "88d24370",
   "metadata": {},
   "source": [
    "[Learn more about pandas_udf](https://bit.ly/4aRBNTX)."
   ]
  },
  {
   "cell_type": "markdown",
   "id": "d93ce93e",
   "metadata": {},
   "source": [
    "### Optimizing PySpark Queries: DataFrame API or SQL?"
   ]
  },
  {
   "cell_type": "code",
   "execution_count": null,
   "id": "d8180d03",
   "metadata": {
    "tags": [
     "hide-cell"
    ]
   },
   "outputs": [],
   "source": [
    "!pip install \"pyspark[sql]\""
   ]
  },
  {
   "cell_type": "code",
   "execution_count": null,
   "id": "7c2d2122",
   "metadata": {
    "tags": [
     "hide-cell"
    ]
   },
   "outputs": [],
   "source": [
    "from pyspark.sql import SparkSession\n",
    "\n",
    "spark = SparkSession.builder.getOrCreate()"
   ]
  },
  {
   "cell_type": "markdown",
   "id": "dd172688",
   "metadata": {},
   "source": [
    "PySpark queries with different syntax (DataFrame API or parameterized SQL) can have the same performance, as the physical plan is identical. Here is an example:"
   ]
  },
  {
   "cell_type": "code",
   "execution_count": null,
   "id": "18aff3b1",
   "metadata": {},
   "outputs": [],
   "source": [
    "from pyspark.sql.functions import col\n",
    "\n",
    "fruits = spark.createDataFrame(\n",
    "    [(\"apple\", 4), (\"orange\", 3), (\"banana\", 2)], [\"item\", \"price\"]\n",
    ")\n",
    "fruits.show()"
   ]
  },
  {
   "cell_type": "markdown",
   "id": "260c7a64",
   "metadata": {},
   "source": [
    "Use the DataFrame API to filter rows where the price is greater than 3."
   ]
  },
  {
   "cell_type": "code",
   "execution_count": null,
   "id": "98df7065",
   "metadata": {},
   "outputs": [],
   "source": [
    "fruits.where(col(\"price\") > 3).explain()"
   ]
  },
  {
   "cell_type": "markdown",
   "id": "670bc034",
   "metadata": {},
   "source": [
    "Use the spark.sql() method to execute an equivalent SQL query."
   ]
  },
  {
   "cell_type": "code",
   "execution_count": null,
   "id": "dee111b0",
   "metadata": {},
   "outputs": [],
   "source": [
    "spark.sql(\"select * from {df} where price > 3\", df=fruits).explain()"
   ]
  },
  {
   "cell_type": "markdown",
   "id": "875ba576",
   "metadata": {},
   "source": [
    "The physical plan for both queries is the same, indicating identical performance."
   ]
  },
  {
   "cell_type": "markdown",
   "id": "a3e35296",
   "metadata": {},
   "source": [
    "Thus, the choice between DataFrame API and spark.sql() depends on the following:\n",
    "- **Familiarity**: Use spark.sql() if your team prefers SQL syntax. Use the DataFrame API if chained method calls are more intuitive for your team.\n",
    "- **Complexity of Transformations**: The DataFrame API is more flexible for complex manipulations, while SQL is more concise for simpler queries."
   ]
  },
  {
   "cell_type": "markdown",
   "id": "7b6d2eb3",
   "metadata": {},
   "source": [
    "### Enhance Code Modularity and Reusability with Temporary Views in PySpark"
   ]
  },
  {
   "cell_type": "code",
   "execution_count": null,
   "id": "3d63d336",
   "metadata": {
    "tags": [
     "hide-cell"
    ]
   },
   "outputs": [],
   "source": [
    "!pip install -U 'pyspark[sql]'"
   ]
  },
  {
   "cell_type": "code",
   "execution_count": null,
   "id": "3bf54a3a",
   "metadata": {
    "tags": [
     "hide-cell"
    ]
   },
   "outputs": [],
   "source": [
    "from pyspark.sql import SparkSession\n",
    "\n",
    "# Create SparkSession\n",
    "spark = SparkSession.builder.getOrCreate()"
   ]
  },
  {
   "cell_type": "markdown",
   "id": "56d8da52",
   "metadata": {},
   "source": [
    "In PySpark, temporary views are virtual tables that can be queried using SQL, enabling code reusability and modularity.\n",
    "\n",
    "To demonstrate this, let's create a PySpark DataFrame called `orders_df`."
   ]
  },
  {
   "cell_type": "code",
   "execution_count": null,
   "id": "33cd72d9",
   "metadata": {},
   "outputs": [],
   "source": [
    "# Create a sample DataFrame\n",
    "data = [\n",
    "    (1001, \"John Doe\", 500.0),\n",
    "    (1002, \"Jane Smith\", 750.0),\n",
    "    (1003, \"Bob Johnson\", 300.0),\n",
    "    (1004, \"Sarah Lee\", 400.0),\n",
    "    (1005, \"Tom Wilson\", 600.0),\n",
    "]\n",
    "\n",
    "columns = [\"customer_id\", \"customer_name\", \"revenue\"]\n",
    "orders_df = spark.createDataFrame(data, columns)"
   ]
  },
  {
   "cell_type": "markdown",
   "id": "ab7ca6d5",
   "metadata": {},
   "source": [
    "Next, create a temporary view called `orders` from the `orders_df` DataFrame using the `createOrReplaceTempView` method."
   ]
  },
  {
   "cell_type": "code",
   "execution_count": null,
   "id": "d5096e40",
   "metadata": {},
   "outputs": [],
   "source": [
    "# Create a temporary view\n",
    "orders_df.createOrReplaceTempView(\"orders\")"
   ]
  },
  {
   "cell_type": "markdown",
   "id": "756d36bf",
   "metadata": {},
   "source": [
    "With the temporary view created, we can perform various operations on it using SQL queries."
   ]
  },
  {
   "cell_type": "code",
   "execution_count": null,
   "id": "fc5d2bb6",
   "metadata": {},
   "outputs": [],
   "source": [
    "# Perform operations on the temporary view\n",
    "total_revenue = spark.sql(\"SELECT SUM(revenue) AS total_revenue FROM orders\")\n",
    "order_count = spark.sql(\"SELECT COUNT(*) AS order_count FROM orders\")\n",
    "\n",
    "# Display the results\n",
    "print(\"Total Revenue:\")\n",
    "total_revenue.show()\n",
    "\n",
    "print(\"\\nNumber of Orders:\")\n",
    "order_count.show()"
   ]
  },
  {
   "cell_type": "markdown",
   "id": "425859ea",
   "metadata": {
    "editable": true,
    "slideshow": {
     "slide_type": ""
    }
   },
   "source": [
    "### PySpark Best Practices: Simplifying Logical Chain Conditions"
   ]
  },
  {
   "cell_type": "code",
   "execution_count": null,
   "id": "b7526cba",
   "metadata": {
    "editable": true,
    "slideshow": {
     "slide_type": ""
    },
    "tags": [
     "hide-cell"
    ]
   },
   "outputs": [],
   "source": [
    "!pip install -U 'pyspark[sql]'"
   ]
  },
  {
   "cell_type": "code",
   "execution_count": null,
   "id": "6666565e",
   "metadata": {
    "editable": true,
    "slideshow": {
     "slide_type": ""
    },
    "tags": [
     "hide-cell"
    ]
   },
   "outputs": [],
   "source": [
    "from pyspark.sql import SparkSession\n",
    "\n",
    "spark = SparkSession.builder.getOrCreate()"
   ]
  },
  {
   "cell_type": "markdown",
   "id": "40f56a4c",
   "metadata": {},
   "source": [
    "Long chains of logical conditions in PySpark can make code difficult to understand and modify."
   ]
  },
  {
   "cell_type": "code",
   "execution_count": null,
   "id": "12497a3e",
   "metadata": {},
   "outputs": [],
   "source": [
    "data = [(1200, 3, 1), (2000, 2, 0), (1500, 3, 2), (1100, 2, 1)]\n",
    "\n",
    "df = spark.createDataFrame(data, [\"total_purchases\", \"loyalty_years\", \"returns\"])"
   ]
  },
  {
   "cell_type": "code",
   "execution_count": null,
   "id": "e62d428f",
   "metadata": {},
   "outputs": [],
   "source": [
    "from pyspark.sql import functions as F\n",
    "\n",
    "\n",
    "df.withColumn(\n",
    "    \"discount_eligible\",\n",
    "    F.when(\n",
    "        (F.col(\"total_purchases\") > 1000)\n",
    "        & (F.col(\"loyalty_years\") >= 2)\n",
    "        & (F.col(\"returns\") < 3),\n",
    "        True,\n",
    "    ).otherwise(False),\n",
    ").show()"
   ]
  },
  {
   "cell_type": "markdown",
   "id": "6770e53f",
   "metadata": {},
   "source": [
    "To improve readability and maintainability, break down complex logic into meaningful variables:"
   ]
  },
  {
   "cell_type": "code",
   "execution_count": null,
   "id": "3c990b0d",
   "metadata": {},
   "outputs": [],
   "source": [
    "# Define loyal customer conditions\n",
    "has_high_spend = F.col(\"total_purchases\") > 1000\n",
    "is_long_term = F.col(\"loyalty_years\") >= 2\n",
    "has_few_returns = F.col(\"returns\") < 3\n",
    "\n",
    "# Combine conditions for discount eligibility\n",
    "loyal_customer_condition = has_high_spend & is_long_term & has_few_returns\n",
    "\n",
    "(\n",
    "    df.withColumn(\n",
    "        \"discount_eligible\", F.when(loyal_customer_condition, True).otherwise(False)\n",
    "    )\n",
    ").show()"
   ]
  },
  {
   "cell_type": "markdown",
   "id": "9aa982b3",
   "metadata": {},
   "source": [
    "Benefits of this approach:\n",
    "\n",
    "- Business logic is clearly documented through function names.\n",
    "- Easier to add new conditions without cluttering main logic."
   ]
  },
  {
   "cell_type": "markdown",
   "id": "fe545286",
   "metadata": {},
   "source": [
    "### Optimizing PySpark Queries with Nested Data Structures"
   ]
  },
  {
   "cell_type": "code",
   "execution_count": null,
   "id": "39035550",
   "metadata": {
    "tags": [
     "hide-cell"
    ]
   },
   "outputs": [],
   "source": [
    "!pip install -U 'pyspark[sql]'"
   ]
  },
  {
   "cell_type": "markdown",
   "id": "0bf67d61",
   "metadata": {},
   "source": [
    "Using multiple tables and joins to represent hierarchical relationships results in:\n",
    "\n",
    "- Increased query complexity and reduced readability\n",
    "- Performance overhead from multiple join operations\n",
    "- Complex maintenance when schema changes are needed\n",
    "\n",
    "In the following example, we need to have three separate DataFrames and join them later with multiple joins."
   ]
  },
  {
   "cell_type": "code",
   "execution_count": null,
   "id": "211f6ab0",
   "metadata": {},
   "outputs": [],
   "source": [
    "from pyspark.sql import SparkSession\n",
    "from pyspark.sql.types import (\n",
    "    StructType,\n",
    "    StructField, \n",
    "    StringType,\n",
    "    IntegerType,\n",
    "    FloatType\n",
    ")\n",
    "\n",
    "spark = SparkSession.builder.getOrCreate()"
   ]
  },
  {
   "cell_type": "code",
   "execution_count": null,
   "id": "5c971960",
   "metadata": {},
   "outputs": [],
   "source": [
    "# Traditional way with separate DataFrames\n",
    "# Define schemas\n",
    "customer_schema = StructType([\n",
    "    StructField(\"customer_id\", IntegerType()),\n",
    "    StructField(\"first_name\", StringType()),\n",
    "    StructField(\"last_name\", StringType())\n",
    "])\n",
    "\n",
    "order_schema = StructType([\n",
    "    StructField(\"order_id\", IntegerType()),\n",
    "    StructField(\"customer_id\", IntegerType()),\n",
    "    StructField(\"order_date\", StringType()),\n",
    "    StructField(\"total\", FloatType())\n",
    "])\n",
    "\n",
    "# Create DataFrames with schemas\n",
    "customer_df = spark.createDataFrame(\n",
    "    [(1, \"John\", \"Doe\"), \n",
    "     (2, \"Emma\", \"Wilson\"), \n",
    "     (3, \"Michael\", \"Brown\")],\n",
    "    [\"customer_id\", \"first_name\", \"last_name\"]\n",
    ")\n",
    "\n",
    "order_df = spark.createDataFrame(\n",
    "    [(1, 1, \"2023-01-01\", 100.0),\n",
    "     (2, 2, \"2023-01-02\", 150.0),\n",
    "     (3, 3, \"2023-01-03\", 200.0)],\n",
    "    [\"order_id\", \"customer_id\", \"order_date\", \"total\"]\n",
    ")\n",
    "\n",
    "# Join customer and order data\n",
    "result_df = customer_df.join(order_df, \"customer_id\")\n",
    "result_df.show()"
   ]
  },
  {
   "cell_type": "markdown",
   "id": "c7b6a649",
   "metadata": {},
   "source": [
    "With nested StructType in PySpark, you can:\n",
    "\n",
    "- Maintain data hierarchy in a single DataFrame\n",
    "- Reduce join operations\n",
    "- Simplify queries and aggregations\n",
    "- Make schema changes more manageable\n",
    "\n",
    "In the following example, we combine three DataFrames into one nested DataFrame with StructType."
   ]
  },
  {
   "cell_type": "code",
   "execution_count": null,
   "id": "af9e4d00",
   "metadata": {},
   "outputs": [],
   "source": [
    "# Define nested schema\n",
    "order_schema = StructType(\n",
    "    [\n",
    "        StructField(\"order_id\", IntegerType()),\n",
    "        StructField(\n",
    "            \"customer\",\n",
    "            StructType(\n",
    "                [\n",
    "                    StructField(\"customer_id\", IntegerType()),\n",
    "                    StructField(\"first_name\", StringType()),\n",
    "                    StructField(\"last_name\", StringType()),\n",
    "                ]\n",
    "            ),\n",
    "        ),\n",
    "        StructField(\n",
    "            \"order_info\",\n",
    "            StructType(\n",
    "                [\n",
    "                    StructField(\"order_date\", StringType()),\n",
    "                    StructField(\"total\", FloatType()),\n",
    "                ]\n",
    "            ),\n",
    "        ),\n",
    "    ]\n",
    ")\n",
    "\n",
    "# Sample data with nested structure\n",
    "data = [\n",
    "    (1, (1, \"John\", \"Doe\"), (\"2023-01-01\", 100.0)),\n",
    "    (2, (2, \"Emma\", \"Wilson\"), (\"2023-01-02\", 150.0)),\n",
    "    (3, (3, \"Michael\", \"Brown\"), (\"2023-01-03\", 200.0)),\n",
    "]\n",
    "\n",
    "df = spark.createDataFrame(data, order_schema)\n",
    "df.show(truncate=False)"
   ]
  },
  {
   "cell_type": "markdown",
   "id": "2803b328",
   "metadata": {},
   "source": [
    "With this, you can access all related data in one place using intuitive dot notation."
   ]
  },
  {
   "cell_type": "code",
   "execution_count": null,
   "id": "c9e78fe5",
   "metadata": {},
   "outputs": [],
   "source": [
    "# Select specific nested fields\n",
    "df.select(\"customer.first_name\", \"customer.last_name\", \"order_info.total\").show()"
   ]
  },
  {
   "cell_type": "code",
   "execution_count": null,
   "id": "1acc65b1",
   "metadata": {},
   "outputs": [],
   "source": [
    "# Filter orders above $150\n",
    "df.where(\"order_info.total >= 150\").show()"
   ]
  },
  {
   "cell_type": "markdown",
   "id": "e1bbd3ac",
   "metadata": {},
   "source": [
    "### Tempo: Simplified Time Series Analysis in PySpark"
   ]
  },
  {
   "cell_type": "code",
   "execution_count": null,
   "id": "f4cb6512",
   "metadata": {
    "editable": true,
    "slideshow": {
     "slide_type": ""
    },
    "tags": [
     "hide-cell"
    ]
   },
   "outputs": [],
   "source": [
    "!pip install -U 'pyspark[sql]' 'dbl-tempo'"
   ]
  },
  {
   "cell_type": "code",
   "execution_count": null,
   "id": "238e309d",
   "metadata": {
    "editable": true,
    "slideshow": {
     "slide_type": ""
    },
    "tags": [
     "hide-cell"
    ]
   },
   "outputs": [],
   "source": [
    "from pyspark.sql import SparkSession, Window\n",
    "import pyspark.sql.functions as F\n",
    "from pyspark.sql.types import *\n",
    "\n",
    "spark = SparkSession.builder.getOrCreate()"
   ]
  },
  {
   "cell_type": "markdown",
   "id": "00ef5db5",
   "metadata": {},
   "source": [
    "Tempo is a high-level API built on top of Apache Spark that simplifies the process of working with time-series data. While PySpark provides a robust foundation for data processing, Tempo provides a more intuitive API for working with time-series data, making it easier to perform common tasks like resampling and aggregating time-series data\n",
    "\n",
    "Here are some examples that compare PySpark and Tempo:"
   ]
  },
  {
   "cell_type": "code",
   "execution_count": null,
   "id": "228c862a",
   "metadata": {},
   "outputs": [],
   "source": [
    "from pyspark.sql import functions as F\n",
    "from pyspark.sql import Window\n",
    "\n",
    "# Create sample market data\n",
    "market_data = [\n",
    "    (\"AAPL\", \"2024-01-01 09:30:00\", 180.50, 1000, 180.45, 180.55),\n",
    "    (\"AAPL\", \"2024-01-01 09:30:05\", 180.52, 1200, 180.48, 180.58),\n",
    "    (\"AAPL\", \"2024-01-01 09:30:10\", 180.48, 800, 180.45, 180.52),\n",
    "    (\"AAPL\", \"2024-01-01 09:30:15\", 180.55, 1500, 180.50, 180.60),\n",
    "    (\"GOOGL\", \"2024-01-01 09:30:00\", 140.25, 500, 140.20, 140.30),\n",
    "    (\"GOOGL\", \"2024-01-01 09:30:05\", 140.30, 600, 140.25, 140.35),\n",
    "    (\"GOOGL\", \"2024-01-01 09:30:10\", 140.28, 450, 140.25, 140.32),\n",
    "    (\"GOOGL\", \"2024-01-01 09:30:15\", 140.32, 700, 140.28, 140.38),\n",
    "]\n",
    "\n",
    "# Create DataFrame\n",
    "market_df = spark.createDataFrame(\n",
    "    market_data, [\"symbol\", \"event_ts\", \"price\", \"volume\", \"bid\", \"ask\"]\n",
    ")\n",
    "\n",
    "# Convert timestamp string to timestamp type\n",
    "market_df = market_df.withColumn(\"event_ts\", F.to_timestamp(\"event_ts\"))"
   ]
  },
  {
   "cell_type": "code",
   "execution_count": null,
   "id": "77214c19",
   "metadata": {},
   "outputs": [],
   "source": [
    "from tempo import *\n",
    "\n",
    "# Create Tempo TSDF\n",
    "market_tsdf = TSDF(market_df, ts_col=\"event_ts\", partition_cols=[\"symbol\"])"
   ]
  },
  {
   "cell_type": "markdown",
   "id": "7beb7e4d",
   "metadata": {},
   "source": [
    "Get data at specific time:"
   ]
  },
  {
   "cell_type": "code",
   "execution_count": null,
   "id": "1fae972c",
   "metadata": {},
   "outputs": [],
   "source": [
    "# PySpark Version\n",
    "target_time = \"2024-01-01 09:30:10\"\n",
    "pyspark_at_target = market_df.filter(F.col(\"event_ts\") == target_time)\n",
    "pyspark_at_target.show()\n",
    "\n",
    "# Tempo Version\n",
    "tempo_at_target = market_tsdf.at(target_time)\n",
    "tempo_at_target.show()"
   ]
  },
  {
   "cell_type": "markdown",
   "id": "3206a388",
   "metadata": {},
   "source": [
    "Get data between time interval:"
   ]
  },
  {
   "cell_type": "code",
   "execution_count": null,
   "id": "a531cc5a",
   "metadata": {},
   "outputs": [],
   "source": [
    "# PySpark Version\n",
    "start_ts = \"2024-01-01 09:30:05\"\n",
    "end_ts = \"2024-01-01 09:30:15\"\n",
    "pyspark_interval = market_df.filter(\n",
    "    (F.col(\"event_ts\") >= start_ts) & (F.col(\"event_ts\") <= end_ts)\n",
    ")\n",
    "pyspark_interval.show()\n",
    "\n",
    "# Tempo Version\n",
    "tempo_interval = market_tsdf.between(start_ts, end_ts)\n",
    "tempo_interval.show()"
   ]
  },
  {
   "cell_type": "markdown",
   "id": "9d5546db",
   "metadata": {},
   "source": [
    "Get oldest n records per symbol:"
   ]
  },
  {
   "cell_type": "code",
   "execution_count": null,
   "id": "b2116d5b",
   "metadata": {},
   "outputs": [],
   "source": [
    "# PySpark Version\n",
    "n = 2\n",
    "windowSpec = Window.partitionBy(\"symbol\").orderBy(\"event_ts\")\n",
    "pyspark_oldest = (\n",
    "    market_df.withColumn(\"row_num\", F.row_number().over(windowSpec))\n",
    "    .filter(F.col(\"row_num\") <= n)\n",
    "    .drop(\"row_num\")\n",
    ")\n",
    "pyspark_oldest.show()\n",
    "\n",
    "# Tempo Version\n",
    "tempo_oldest = market_tsdf.earliest(n)\n",
    "tempo_oldest.show()"
   ]
  },
  {
   "cell_type": "markdown",
   "id": "62067077",
   "metadata": {},
   "source": [
    "Moving averages (10-second window):"
   ]
  },
  {
   "cell_type": "code",
   "execution_count": null,
   "id": "decb2e21",
   "metadata": {},
   "outputs": [],
   "source": [
    "# PySpark Version\n",
    "market_df = market_df.withColumn(\"event_ts_seconds\", F.unix_timestamp(\"event_ts\"))\n",
    "movingWindowSpec = (\n",
    "    Window.partitionBy(\"symbol\").orderBy(\"event_ts_seconds\").rangeBetween(-10, 0)\n",
    ")\n",
    "\n",
    "pyspark_moving_stats = market_df.withColumn(\n",
    "    \"mean_price\", F.avg(\"price\").over(movingWindowSpec)\n",
    ")\n",
    "\n",
    "pyspark_moving_stats.select(\"symbol\", \"event_ts\", \"price\", \"mean_price\").show()\n",
    "\n",
    "# Tempo Version\n",
    "tempo_moving_stats = market_tsdf.withRangeStats(\"price\", rangeBackWindowSecs=10)\n",
    "tempo_moving_stats.select(\"symbol\", \"event_ts\", \"price\", \"mean_price\").show()"
   ]
  },
  {
   "cell_type": "markdown",
   "id": "731fc463",
   "metadata": {},
   "source": [
    "Grouped statistics:"
   ]
  },
  {
   "cell_type": "code",
   "execution_count": null,
   "id": "f14a67ed",
   "metadata": {},
   "outputs": [],
   "source": [
    "# PySpark Version\n",
    "pyspark_grouped = market_df.groupBy(\"symbol\", F.window(\"event_ts\", \"5 seconds\")).agg(\n",
    "    F.avg(\"price\").alias(\"mean_price\"),\n",
    "    F.min(\"price\").alias(\"min_price\"),\n",
    "    F.max(\"price\").alias(\"max_price\"),\n",
    ")\n",
    "pyspark_grouped.show()\n",
    "\n",
    "# Tempo Version\n",
    "tempo_grouped = market_tsdf.withGroupedStats(\n",
    "    metricCols=[\"price\"], freq=\"5 seconds\"\n",
    ")\n",
    "tempo_grouped.select('symbol', 'event_ts', 'mean_price', 'min_price', 'max_price').show()"
   ]
  },
  {
   "cell_type": "markdown",
   "id": "0dd81001",
   "metadata": {},
   "source": [
    "[Link to Tempo](https://github.com/databrickslabs/tempo)."
   ]
  }
 ],
 "metadata": {
  "jupytext": {
   "text_representation": {
    "extension": ".md",
    "format_name": "myst",
    "format_version": 0.13,
    "jupytext_version": "1.16.7"
   }
  },
  "kernelspec": {
   "display_name": "Python 3 (ipykernel)",
   "language": "python",
   "name": "python3"
  },
  "source_map": [
   12,
   16,
   20,
   24,
   28,
   32,
   43,
   51,
   55,
   61,
   67,
   71,
   77,
   82,
   86,
   90,
   96,
   100,
   106,
   118,
   122,
   126,
   132,
   138,
   144,
   154,
   159,
   162,
   166,
   169,
   173,
   179,
   201,
   207,
   213,
   218,
   222,
   224,
   228,
   230,
   238,
   242,
   246,
   251,
   262,
   266,
   270,
   274,
   276,
   280,
   286,
   290,
   301,
   305,
   309,
   313,
   315,
   319,
   325,
   331,
   342,
   359,
   363,
   373,
   377,
   384,
   388,
   392,
   396,
   400,
   408,
   423,
   435,
   439,
   443,
   445,
   449,
   453,
   459,
   465,
   469,
   484,
   490,
   512,
   516,
   520,
   526,
   535,
   539,
   579,
   585,
   620,
   624,
   634,
   645,
   651,
   676,
   680,
   698,
   702,
   712,
   723,
   729,
   743,
   747,
   752,
   754,
   760,
   771,
   775,
   782,
   786,
   792,
   798,
   804,
   840,
   844,
   850,
   859,
   867,
   871,
   878,
   882,
   891,
   895,
   901,
   906,
   912,
   920,
   934,
   947,
   951,
   955,
   961,
   967,
   971,
   978,
   982,
   984,
   988,
   990,
   994,
   1000,
   1004,
   1010,
   1017,
   1023,
   1035,
   1039,
   1042,
   1046,
   1059,
   1063,
   1073,
   1083,
   1087,
   1093,
   1106,
   1110,
   1124,
   1131,
   1135,
   1139,
   1149,
   1162,
   1196,
   1207,
   1243,
   1247,
   1252,
   1255,
   1259,
   1269,
   1281,
   1287,
   1312,
   1317,
   1321,
   1330,
   1334,
   1346,
   1350,
   1364,
   1368,
   1384,
   1388,
   1402
  ]
 },
 "nbformat": 4,
 "nbformat_minor": 5
}