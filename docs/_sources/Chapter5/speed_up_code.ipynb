{
 "cells": [
  {
   "cell_type": "markdown",
   "id": "0af67e19",
   "metadata": {},
   "source": [
    "## Tools to Speed Up Code"
   ]
  },
  {
   "cell_type": "markdown",
   "id": "35e5e33b",
   "metadata": {},
   "source": [
    "This section covers some tools to speed up your code."
   ]
  },
  {
   "cell_type": "markdown",
   "id": "52726661",
   "metadata": {},
   "source": [
    "### Fastai's df_shrink: Shrink DataFrame's Memory Usage in One Line of Code"
   ]
  },
  {
   "cell_type": "code",
   "execution_count": null,
   "id": "01981c69",
   "metadata": {
    "tags": [
     "hide-cell"
    ]
   },
   "outputs": [],
   "source": [
    "!pip install fastai"
   ]
  },
  {
   "cell_type": "markdown",
   "id": "775ba665-1c54-40d6-851d-0c002bf07dfd",
   "metadata": {},
   "source": [
    "Data analysts often struggle with large datasets that consume excessive memory, making it challenging to work efficiently, especially on machines with limited resources.\n",
    "\n",
    "The `df_shrink` method in `fastai` helps address this issue by:\n",
    "- Automatically reducing the memory usage of a pandas DataFrame\n",
    "- Downcasting numeric columns to the smallest possible dtype without losing information\n",
    "\n",
    "Here's a short code example to demonstrate the utility of `df_shrink`:"
   ]
  },
  {
   "cell_type": "code",
   "execution_count": 4,
   "id": "ac80ee09",
   "metadata": {
    "ExecuteTime": {
     "end_time": "2021-09-12T11:39:50.560775Z",
     "start_time": "2021-09-12T11:39:50.516924Z"
    }
   },
   "outputs": [
    {
     "name": "stdout",
     "output_type": "stream",
     "text": [
      "<class 'pandas.core.frame.DataFrame'>\n",
      "RangeIndex: 3 entries, 0 to 2\n",
      "Data columns (total 2 columns):\n",
      " #   Column  Non-Null Count  Dtype  \n",
      "---  ------  --------------  -----  \n",
      " 0   col1    3 non-null      int64  \n",
      " 1   col2    3 non-null      float64\n",
      "dtypes: float64(1), int64(1)\n",
      "memory usage: 176.0 bytes\n",
      "None\n"
     ]
    },
    {
     "data": {
      "application/javascript": [
       "\n",
       "            setTimeout(function() {\n",
       "                var nbb_cell_id = 4;\n",
       "                var nbb_unformatted_code = \"from fastai.tabular.core import df_shrink\\nimport pandas as pd \\n\\ndf = pd.DataFrame({\\\"col1\\\": [1, 2, 3], \\\"col2\\\": [1.0, 2.0, 3.0]})\\nprint(df.info())\";\n",
       "                var nbb_formatted_code = \"from fastai.tabular.core import df_shrink\\nimport pandas as pd\\n\\ndf = pd.DataFrame({\\\"col1\\\": [1, 2, 3], \\\"col2\\\": [1.0, 2.0, 3.0]})\\nprint(df.info())\";\n",
       "                var nbb_cells = Jupyter.notebook.get_cells();\n",
       "                for (var i = 0; i < nbb_cells.length; ++i) {\n",
       "                    if (nbb_cells[i].input_prompt_number == nbb_cell_id) {\n",
       "                        if (nbb_cells[i].get_text() == nbb_unformatted_code) {\n",
       "                             nbb_cells[i].set_text(nbb_formatted_code);\n",
       "                        }\n",
       "                        break;\n",
       "                    }\n",
       "                }\n",
       "            }, 500);\n",
       "            "
      ],
      "text/plain": [
       "<IPython.core.display.Javascript object>"
      ]
     },
     "metadata": {},
     "output_type": "display_data"
    }
   ],
   "source": [
    "from fastai.tabular.core import df_shrink\n",
    "import pandas as pd\n",
    "\n",
    "df = pd.DataFrame({\"col1\": [1, 2, 3], \"col2\": [1.0, 2.0, 3.0]})\n",
    "print(df.info())"
   ]
  },
  {
   "cell_type": "code",
   "execution_count": 5,
   "id": "8fd3b371",
   "metadata": {
    "ExecuteTime": {
     "end_time": "2021-09-12T11:39:51.272398Z",
     "start_time": "2021-09-12T11:39:51.239231Z"
    }
   },
   "outputs": [
    {
     "name": "stdout",
     "output_type": "stream",
     "text": [
      "<class 'pandas.core.frame.DataFrame'>\n",
      "RangeIndex: 3 entries, 0 to 2\n",
      "Data columns (total 2 columns):\n",
      " #   Column  Non-Null Count  Dtype  \n",
      "---  ------  --------------  -----  \n",
      " 0   col1    3 non-null      int8   \n",
      " 1   col2    3 non-null      float32\n",
      "dtypes: float32(1), int8(1)\n",
      "memory usage: 143.0 bytes\n",
      "None\n"
     ]
    },
    {
     "data": {
      "application/javascript": [
       "\n",
       "            setTimeout(function() {\n",
       "                var nbb_cell_id = 5;\n",
       "                var nbb_unformatted_code = \"new_df = df_shrink(df)\\nprint(new_df.info())\";\n",
       "                var nbb_formatted_code = \"new_df = df_shrink(df)\\nprint(new_df.info())\";\n",
       "                var nbb_cells = Jupyter.notebook.get_cells();\n",
       "                for (var i = 0; i < nbb_cells.length; ++i) {\n",
       "                    if (nbb_cells[i].input_prompt_number == nbb_cell_id) {\n",
       "                        if (nbb_cells[i].get_text() == nbb_unformatted_code) {\n",
       "                             nbb_cells[i].set_text(nbb_formatted_code);\n",
       "                        }\n",
       "                        break;\n",
       "                    }\n",
       "                }\n",
       "            }, 500);\n",
       "            "
      ],
      "text/plain": [
       "<IPython.core.display.Javascript object>"
      ]
     },
     "metadata": {},
     "output_type": "display_data"
    }
   ],
   "source": [
    "new_df = df_shrink(df)\n",
    "print(new_df.info())"
   ]
  },
  {
   "cell_type": "markdown",
   "id": "58adf4f7-5bf5-4228-9831-ca2e1d1a20b9",
   "metadata": {},
   "source": [
    "In this example, the memory usage of the DataFrame decreases from 200 bytes to 146 bytes."
   ]
  },
  {
   "cell_type": "markdown",
   "id": "81b7e11b",
   "metadata": {},
   "source": [
    "[Link to Fastai](https://docs.fast.ai/)."
   ]
  },
  {
   "cell_type": "markdown",
   "id": "66eb2ec3",
   "metadata": {},
   "source": [
    "### Swifter: Add One Word to Make Your Pandas Apply 23 Times Faster"
   ]
  },
  {
   "cell_type": "code",
   "execution_count": null,
   "id": "6d7575d3",
   "metadata": {
    "tags": [
     "hide-cell"
    ]
   },
   "outputs": [],
   "source": [
    "!pip install swifter"
   ]
  },
  {
   "cell_type": "markdown",
   "id": "456bbc73",
   "metadata": {},
   "source": [
    "To have faster pandas apply when working with large data, use swifter. To use swifter, simply add `.swifter` before `.apply`. Everything else is the same."
   ]
  },
  {
   "cell_type": "markdown",
   "id": "f6ffb6ab",
   "metadata": {},
   "source": [
    "In the code below, I compared the speed of Pandas' `apply` and the speed of swifter's `apply` using the California housing dataset of 20640 rows."
   ]
  },
  {
   "cell_type": "code",
   "execution_count": 7,
   "id": "c9ab2ad4",
   "metadata": {
    "ExecuteTime": {
     "end_time": "2021-09-12T11:41:25.820480Z",
     "start_time": "2021-09-12T11:41:17.670791Z"
    }
   },
   "outputs": [
    {
     "name": "stdout",
     "output_type": "stream",
     "text": [
      "Swifter apply is 16.82 times faster than Pandas apply\n"
     ]
    },
    {
     "data": {
      "application/javascript": [
       "\n",
       "            setTimeout(function() {\n",
       "                var nbb_cell_id = 7;\n",
       "                var nbb_unformatted_code = \"from time import time\\nfrom sklearn.datasets import fetch_california_housing\\nfrom scipy.special import boxcox1p\\nimport swifter\\nimport timeit\\n\\nX, y = fetch_california_housing(return_X_y=True, as_frame=True)\\n\\ndef pandas_apply():\\n    X[\\\"AveRooms\\\"].apply(lambda x: boxcox1p(x, 0.25))\\n\\n\\ndef swifter_apply():\\n    X[\\\"AveRooms\\\"].swifter.apply(lambda x: boxcox1p(x, 0.25))\\n\\nnum_experiments = 100\\npandas_time = timeit.timeit(pandas_apply, number=num_experiments)\\nswifter_time = timeit.timeit(swifter_apply, number=num_experiments)\\n\\npandas_vs_swifter = round(pandas_time/swifter_time, 2)\\nprint(f'Swifter apply is {pandas_vs_swifter} times faster than Pandas apply')\";\n",
       "                var nbb_formatted_code = \"from time import time\\nfrom sklearn.datasets import fetch_california_housing\\nfrom scipy.special import boxcox1p\\nimport swifter\\nimport timeit\\n\\nX, y = fetch_california_housing(return_X_y=True, as_frame=True)\\n\\n\\ndef pandas_apply():\\n    X[\\\"AveRooms\\\"].apply(lambda x: boxcox1p(x, 0.25))\\n\\n\\ndef swifter_apply():\\n    X[\\\"AveRooms\\\"].swifter.apply(lambda x: boxcox1p(x, 0.25))\\n\\n\\nnum_experiments = 100\\npandas_time = timeit.timeit(pandas_apply, number=num_experiments)\\nswifter_time = timeit.timeit(swifter_apply, number=num_experiments)\\n\\npandas_vs_swifter = round(pandas_time / swifter_time, 2)\\nprint(f\\\"Swifter apply is {pandas_vs_swifter} times faster than Pandas apply\\\")\";\n",
       "                var nbb_cells = Jupyter.notebook.get_cells();\n",
       "                for (var i = 0; i < nbb_cells.length; ++i) {\n",
       "                    if (nbb_cells[i].input_prompt_number == nbb_cell_id) {\n",
       "                        if (nbb_cells[i].get_text() == nbb_unformatted_code) {\n",
       "                             nbb_cells[i].set_text(nbb_formatted_code);\n",
       "                        }\n",
       "                        break;\n",
       "                    }\n",
       "                }\n",
       "            }, 500);\n",
       "            "
      ],
      "text/plain": [
       "<IPython.core.display.Javascript object>"
      ]
     },
     "metadata": {},
     "output_type": "display_data"
    }
   ],
   "source": [
    "from time import time\n",
    "from sklearn.datasets import fetch_california_housing\n",
    "from scipy.special import boxcox1p\n",
    "import swifter\n",
    "import timeit\n",
    "\n",
    "X, y = fetch_california_housing(return_X_y=True, as_frame=True)\n",
    "\n",
    "\n",
    "def pandas_apply():\n",
    "    X[\"AveRooms\"].apply(lambda x: boxcox1p(x, 0.25))\n",
    "\n",
    "\n",
    "def swifter_apply():\n",
    "    X[\"AveRooms\"].swifter.apply(lambda x: boxcox1p(x, 0.25))\n",
    "\n",
    "\n",
    "num_experiments = 100\n",
    "pandas_time = timeit.timeit(pandas_apply, number=num_experiments)\n",
    "swifter_time = timeit.timeit(swifter_apply, number=num_experiments)\n",
    "\n",
    "pandas_vs_swifter = round(pandas_time / swifter_time, 2)\n",
    "print(f\"Swifter apply is {pandas_vs_swifter} times faster than Pandas apply\")"
   ]
  },
  {
   "cell_type": "markdown",
   "id": "85dd3cd9",
   "metadata": {},
   "source": [
    "Using swifter apply is 23.56 times faster than Pandas apply! This ratio is calculated by taking the average run time of each method after 100 experiments."
   ]
  },
  {
   "cell_type": "markdown",
   "id": "5ad712a6",
   "metadata": {},
   "source": [
    "[Link to swifter](https://github.com/jmcarpenter2/swifter)."
   ]
  },
  {
   "cell_type": "markdown",
   "id": "89e73f11",
   "metadata": {},
   "source": [
    "### pyinstrument: Readable Python Profiler"
   ]
  },
  {
   "cell_type": "code",
   "execution_count": null,
   "id": "a45e7a75",
   "metadata": {
    "tags": [
     "hide-cell"
    ]
   },
   "outputs": [],
   "source": [
    "!pip install pyinstrument "
   ]
  },
  {
   "attachments": {},
   "cell_type": "markdown",
   "id": "61f77119",
   "metadata": {},
   "source": [
    "Identifying performance bottlenecks in Python code can be challenging, especially with complex applications or time-consuming processes. While cProfile and profile are useful, their outputs can be lengthy and difficult to interpret, particularly when using high-level libraries like pandas."
   ]
  },
  {
   "attachments": {},
   "cell_type": "markdown",
   "id": "5e45fb99",
   "metadata": {},
   "source": [
    "`pyinstrument` helps solve this problem by:\n",
    "\n",
    "- Providing a low-overhead profiler that shows where time is being spent in Python programs\n",
    "- Generating easy-to-read, hierarchical output that highlights the most time-consuming parts of the code\n",
    "\n",
    "Here's a short code example to demonstrate the utility of `pyinstrument`:"
   ]
  },
  {
   "cell_type": "code",
   "execution_count": 3,
   "id": "135d1d89",
   "metadata": {},
   "outputs": [
    {
     "name": "stdout",
     "output_type": "stream",
     "text": [
      "Writing pyinstrument_example.py\n"
     ]
    }
   ],
   "source": [
    "%%writefile pyinstrument_example.py\n",
    "from pyinstrument import Profiler\n",
    "import pandas as pd\n",
    "import numpy as np\n",
    "\n",
    "df = pd.DataFrame({'nums': np.random.randint(0, 100, 10000)})\n",
    "def is_even(num: int) -> int:\n",
    "    return num % 2 == 0\n",
    "\n",
    "profiler = Profiler()\n",
    "profiler.start()\n",
    "\n",
    "df = df.assign(is_even=lambda df_: is_even(df_.nums))\n",
    "\n",
    "profiler.stop()\n",
    "profiler.print()"
   ]
  },
  {
   "attachments": {},
   "cell_type": "markdown",
   "id": "07efa963",
   "metadata": {},
   "source": [
    "On your terminal, type:\n",
    "```bash\n",
    "$ pyinstrument pyinstrument_example.py\n",
    "```\n",
    "... and you should see an output like below: "
   ]
  },
  {
   "cell_type": "code",
   "execution_count": 2,
   "id": "1d05e187",
   "metadata": {
    "ExecuteTime": {
     "end_time": "2021-09-15T14:04:59.551271Z",
     "start_time": "2021-09-15T14:04:58.937663Z"
    },
    "tags": [
     "hide-input"
    ]
   },
   "outputs": [
    {
     "name": "stdout",
     "output_type": "stream",
     "text": [
      "\n",
      "  _     ._   __/__   _ _  _  _ _/_   Recorded: 09:04:59  Samples:  1\n",
      " /_//_/// /_\\ / //_// / //_'/ //     Duration: 0.001     CPU time: 0.001\n",
      "/   _/                      v4.0.3\n",
      "\n",
      "Program: pyinstrument_example.py\n",
      "\n",
      "\u001b[31m0.001\u001b[0m \u001b[48;5;24m\u001b[38;5;15m<module>\u001b[0m  \u001b[2mpyinstrument_example.py:1\u001b[0m\n",
      "└─ \u001b[31m0.001\u001b[0m assign\u001b[0m  \u001b[2mpandas/core/frame.py:4416\u001b[0m\n",
      "      [2 frames hidden]  \u001b[2mpandas\u001b[0m\n",
      "         \u001b[31m0.001\u001b[0m apply_if_callable\u001b[0m  \u001b[2mpandas/core/common.py:346\u001b[0m\n",
      "         └─ \u001b[31m0.001\u001b[0m \u001b[48;5;24m\u001b[38;5;15m<lambda>\u001b[0m  \u001b[2mpyinstrument_example.py:12\u001b[0m\n",
      "            └─ \u001b[31m0.001\u001b[0m \u001b[48;5;24m\u001b[38;5;15mis_even\u001b[0m  \u001b[2mpyinstrument_example.py:6\u001b[0m\n",
      "               └─ \u001b[31m0.001\u001b[0m new_method\u001b[0m  \u001b[2mpandas/core/ops/common.py:54\u001b[0m\n",
      "                     [9 frames hidden]  \u001b[2mpandas, <built-in>\u001b[0m\n",
      "                        \u001b[31m0.001\u001b[0m mod\u001b[0m  \u001b[2m<built-in>:0\u001b[0m\n",
      "\n",
      "\n",
      "\n",
      "  _     ._   __/__   _ _  _  _ _/_   Recorded: 09:04:59  Samples:  225\n",
      " /_//_/// /_\\ / //_// / //_'/ //     Duration: 0.265     CPU time: 1.897\n",
      "/   _/                      v4.0.3\n",
      "\n",
      "Program: pyinstrument_example.py\n",
      "\n",
      "\u001b[31m0.265\u001b[0m <module>\u001b[0m  \u001b[2m<string>:1\u001b[0m\n",
      "   [4 frames hidden]  \u001b[2m<string>, runpy\u001b[0m\n",
      "      \u001b[31m0.265\u001b[0m _run_code\u001b[0m  \u001b[2mrunpy.py:64\u001b[0m\n",
      "      └─ \u001b[31m0.265\u001b[0m \u001b[48;5;24m\u001b[38;5;15m<module>\u001b[0m  \u001b[2mpyinstrument_example.py:1\u001b[0m\n",
      "         └─ \u001b[31m0.261\u001b[0m <module>\u001b[0m  \u001b[2mpandas/__init__.py:3\u001b[0m\n",
      "               [650 frames hidden]  \u001b[2mpandas, pyarrow, <built-in>, textwrap...\u001b[0m\n",
      "\n",
      "To view this report with different options, run:\n",
      "    pyinstrument --load-prev 2021-09-15T09-04-59 [options]\n",
      "\n"
     ]
    }
   ],
   "source": [
    "!pyinstrument pyinstrument_example.py"
   ]
  },
  {
   "cell_type": "markdown",
   "id": "d4841b65",
   "metadata": {},
   "source": [
    "[Link to pyinstrument](https://github.com/joerick/pyinstrument)"
   ]
  }
 ],
 "metadata": {
  "celltoolbar": "Tags",
  "hide_input": false,
  "kernelspec": {
   "display_name": "Python 3 (ipykernel)",
   "language": "python",
   "name": "python3"
  },
  "language_info": {
   "codemirror_mode": {
    "name": "ipython",
    "version": 3
   },
   "file_extension": ".py",
   "mimetype": "text/x-python",
   "name": "python",
   "nbconvert_exporter": "python",
   "pygments_lexer": "ipython3",
   "version": "3.11.6"
  },
  "toc": {
   "base_numbering": 1,
   "nav_menu": {},
   "number_sections": true,
   "sideBar": true,
   "skip_h1_title": false,
   "title_cell": "Table of Contents",
   "title_sidebar": "Contents",
   "toc_cell": false,
   "toc_position": {},
   "toc_section_display": true,
   "toc_window_display": false
  },
  "vscode": {
   "interpreter": {
    "hash": "aee8b7b246df8f9039afb4144a1f6fd8d2ca17a180786b69acc140d282b71a49"
   }
  }
 },
 "nbformat": 4,
 "nbformat_minor": 5
}
