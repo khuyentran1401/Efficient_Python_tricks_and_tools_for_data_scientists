{
 "cells": [
  {
   "attachments": {},
   "cell_type": "markdown",
   "id": "83ef9414",
   "metadata": {},
   "source": [
    "## Sharing and Downloading"
   ]
  },
  {
   "attachments": {},
   "cell_type": "markdown",
   "id": "63f270a7",
   "metadata": {},
   "source": [
    "This section covers some tools to share and download your data."
   ]
  },
  {
   "attachments": {},
   "cell_type": "markdown",
   "id": "baeff8c5",
   "metadata": {},
   "source": [
    "### Datapane: Publish your Python Objects on the Web in 2 Lines of Code"
   ]
  },
  {
   "cell_type": "code",
   "execution_count": null,
   "id": "0bd9ea22",
   "metadata": {
    "tags": [
     "hide-cell"
    ]
   },
   "outputs": [],
   "source": [
    "!pip install datapane plotly"
   ]
  },
  {
   "attachments": {},
   "cell_type": "markdown",
   "id": "2913c7a2",
   "metadata": {
    "ExecuteTime": {
     "end_time": "2021-09-11T19:45:06.126539Z",
     "start_time": "2021-09-11T19:45:00.273341Z"
    }
   },
   "source": [
    "If you want to put together your pandas.DataFrame, interactive charts such as Plotly, Bokeh, Altair, or markdown into a nice report and publish it on the web, try Datapane. The code below shows how you can publish your Python objects using Datapane in a few lines of code."
   ]
  },
  {
   "cell_type": "code",
   "execution_count": 6,
   "id": "c2073feb",
   "metadata": {
    "ExecuteTime": {
     "end_time": "2021-09-11T19:46:12.919706Z",
     "start_time": "2021-09-11T19:46:11.630092Z"
    }
   },
   "outputs": [
    {
     "data": {
      "text/markdown": [
       "Uploading report and associated data - *please wait...*"
      ],
      "text/plain": [
       "<IPython.core.display.Markdown object>"
      ]
     },
     "metadata": {},
     "output_type": "display_data"
    },
    {
     "data": {
      "text/markdown": [
       "Report successfully uploaded, click [here](https://datapane.com/u/khuyentran1401/reports/P3XvvkQ/example/) to view and share your report"
      ],
      "text/plain": [
       "<IPython.core.display.Markdown object>"
      ]
     },
     "metadata": {},
     "output_type": "display_data"
    },
    {
     "data": {
      "application/javascript": "\n            setTimeout(function() {\n                var nbb_cell_id = 6;\n                var nbb_unformatted_code = \"import datapane as dp \\nimport pandas as pd \\nimport numpy as np \\nimport plotly.express as px\\n\\n# Scripts to create df and chart \\ndf = px.data.gapminder()\\n\\nchart = px.scatter(df.query(\\\"year==2007\\\"), x=\\\"gdpPercap\\\", y=\\\"lifeExp\\\",\\n\\t         size=\\\"pop\\\", color=\\\"continent\\\",\\n                 hover_name=\\\"country\\\", log_x=True, size_max=60)\\n\\n# Once you have the df and the chart, simply use\\nr = dp.Report(\\n    dp.Text(\\\"my simple report\\\"), # add description\\n    dp.DataTable(df), # create a table\\n    dp.Plot(chart) # create a chart\\n)\\n\\n# Publish your report\\nr.upload(name='example')\";\n                var nbb_formatted_code = \"import datapane as dp\\nimport pandas as pd\\nimport numpy as np\\nimport plotly.express as px\\n\\n# Scripts to create df and chart\\ndf = px.data.gapminder()\\n\\nchart = px.scatter(\\n    df.query(\\\"year==2007\\\"),\\n    x=\\\"gdpPercap\\\",\\n    y=\\\"lifeExp\\\",\\n    size=\\\"pop\\\",\\n    color=\\\"continent\\\",\\n    hover_name=\\\"country\\\",\\n    log_x=True,\\n    size_max=60,\\n)\\n\\n# Once you have the df and the chart, simply use\\nr = dp.Report(\\n    dp.Text(\\\"my simple report\\\"),  # add description\\n    dp.DataTable(df),  # create a table\\n    dp.Plot(chart),  # create a chart\\n)\\n\\n# Publish your report\\nr.upload(name=\\\"example\\\")\";\n                var nbb_cells = Jupyter.notebook.get_cells();\n                for (var i = 0; i < nbb_cells.length; ++i) {\n                    if (nbb_cells[i].input_prompt_number == nbb_cell_id) {\n                        if (nbb_cells[i].get_text() == nbb_unformatted_code) {\n                             nbb_cells[i].set_text(nbb_formatted_code);\n                        }\n                        break;\n                    }\n                }\n            }, 500);\n            ",
      "text/plain": [
       "<IPython.core.display.Javascript object>"
      ]
     },
     "metadata": {},
     "output_type": "display_data"
    }
   ],
   "source": [
    "import datapane as dp\n",
    "import pandas as pd\n",
    "import numpy as np\n",
    "import plotly.express as px\n",
    "\n",
    "# Scripts to create df and chart\n",
    "df = px.data.gapminder()\n",
    "\n",
    "chart = px.scatter(\n",
    "    df.query(\"year==2007\"),\n",
    "    x=\"gdpPercap\",\n",
    "    y=\"lifeExp\",\n",
    "    size=\"pop\",\n",
    "    color=\"continent\",\n",
    "    hover_name=\"country\",\n",
    "    log_x=True,\n",
    "    size_max=60,\n",
    ")\n",
    "\n",
    "# Once you have the df and the chart, simply use\n",
    "r = dp.Report(\n",
    "    dp.Text(\"my simple report\"),  # add description\n",
    "    dp.DataTable(df),  # create a table\n",
    "    dp.Plot(chart),  # create a chart\n",
    ")\n",
    "\n",
    "# Publish your report\n",
    "r.upload(name=\"example\")"
   ]
  },
  {
   "attachments": {},
   "cell_type": "markdown",
   "id": "42896fa0",
   "metadata": {},
   "source": [
    "[Link to Datapane](https://datapane.com/)\n",
    "\n",
    "[Link to my article about Datapane](https://towardsdatascience.com/introduction-to-datapane-a-python-library-to-build-interactive-reports-4593fd3cb9c8?sk=b8dd5203d1a37b0f08ed15ea65524d89)"
   ]
  },
  {
   "attachments": {},
   "cell_type": "markdown",
   "id": "c09e5026",
   "metadata": {},
   "source": [
    "### gdown: Download a File from Google Drive in Python"
   ]
  },
  {
   "cell_type": "code",
   "execution_count": null,
   "id": "1f5827ab",
   "metadata": {
    "tags": [
     "hide-cell"
    ]
   },
   "outputs": [],
   "source": [
    "!pip install gdown "
   ]
  },
  {
   "attachments": {},
   "cell_type": "markdown",
   "id": "9e54d964",
   "metadata": {},
   "source": [
    "If you want to download a file from Google Drive in Python, use gdown. All you need to specify is the URL link."
   ]
  },
  {
   "cell_type": "code",
   "execution_count": 10,
   "id": "eadd190d",
   "metadata": {
    "ExecuteTime": {
     "end_time": "2021-09-11T19:48:54.466723Z",
     "start_time": "2021-09-11T19:48:42.439796Z"
    },
    "tags": [
     "hide-output"
    ]
   },
   "outputs": [
    {
     "name": "stderr",
     "output_type": "stream",
     "text": [
      "Downloading...\n",
      "From: https://drive.google.com/uc?id=1jI1cmxqnwsmC-vbl8dNY6b4aNBtBbKy3\n",
      "To: /home/khuyen/book/book/Chapter4/Twitter.zip\n",
      "120MB [00:09, 12.1MB/s] \n"
     ]
    },
    {
     "data": {
      "text/plain": [
       "'Twitter.zip'"
      ]
     },
     "execution_count": 10,
     "metadata": {},
     "output_type": "execute_result"
    },
    {
     "data": {
      "application/javascript": "\n            setTimeout(function() {\n                var nbb_cell_id = 10;\n                var nbb_unformatted_code = \"import gdown\\n\\n# Format of url: https://drive.google.com/uc?id=YOURFILEID\\nurl = \\\"https://drive.google.com/uc?id=1jI1cmxqnwsmC-vbl8dNY6b4aNBtBbKy3\\\"\\noutput = \\\"Twitter.zip\\\"\\n\\ngdown.download(url, output, quiet=False)\";\n                var nbb_formatted_code = \"import gdown\\n\\n# Format of url: https://drive.google.com/uc?id=YOURFILEID\\nurl = \\\"https://drive.google.com/uc?id=1jI1cmxqnwsmC-vbl8dNY6b4aNBtBbKy3\\\"\\noutput = \\\"Twitter.zip\\\"\\n\\ngdown.download(url, output, quiet=False)\";\n                var nbb_cells = Jupyter.notebook.get_cells();\n                for (var i = 0; i < nbb_cells.length; ++i) {\n                    if (nbb_cells[i].input_prompt_number == nbb_cell_id) {\n                        if (nbb_cells[i].get_text() == nbb_unformatted_code) {\n                             nbb_cells[i].set_text(nbb_formatted_code);\n                        }\n                        break;\n                    }\n                }\n            }, 500);\n            ",
      "text/plain": [
       "<IPython.core.display.Javascript object>"
      ]
     },
     "metadata": {},
     "output_type": "display_data"
    }
   ],
   "source": [
    "import gdown\n",
    "\n",
    "# Format of url: https://drive.google.com/uc?id=YOURFILEID\n",
    "url = \"https://drive.google.com/uc?id=1jI1cmxqnwsmC-vbl8dNY6b4aNBtBbKy3\"\n",
    "output = \"Twitter.zip\"\n",
    "\n",
    "gdown.download(url, output, quiet=False)"
   ]
  },
  {
   "attachments": {},
   "cell_type": "markdown",
   "id": "8247ccf2",
   "metadata": {},
   "source": [
    "[Link to gdown](https://pypi.org/project/gdown/)."
   ]
  },
  {
   "attachments": {},
   "cell_type": "markdown",
   "id": "5f7a67b9",
   "metadata": {},
   "source": [
    "### pyserde: Effortless Serialization and Deserialization of Dataclass Objects "
   ]
  },
  {
   "cell_type": "code",
   "execution_count": null,
   "id": "31c8f1fc",
   "metadata": {
    "tags": [
     "hide-cell"
    ]
   },
   "outputs": [],
   "source": [
    "!pip install pyserde"
   ]
  },
  {
   "attachments": {},
   "cell_type": "markdown",
   "id": "90d60a74",
   "metadata": {},
   "source": [
    "Dataclasses provide a concise syntax for defining data-holding classes. Paired with pyserde, you can easily serialize and deserialize dataclass objects. \n",
    "\n",
    "Serialization converts dataclass data into a serialized format (e.g., JSON, YAML) for easy storage and transmission. Deserialization reconstructs the dataclass object from serialized data."
   ]
  },
  {
   "cell_type": "code",
   "execution_count": 25,
   "id": "8701e431",
   "metadata": {},
   "outputs": [],
   "source": [
    "from dataclasses import dataclass\n",
    "from serde import serde\n",
    "from serde.json import from_json, to_json\n",
    "from serde.yaml import from_yaml, to_yaml\n",
    "\n",
    "\n",
    "@serde\n",
    "@dataclass\n",
    "class User:\n",
    "    name: str\n",
    "    age: int\n",
    "\n",
    "\n",
    "user1 = User(name=\"user1\", age=20)\n"
   ]
  },
  {
   "cell_type": "code",
   "execution_count": 26,
   "id": "e1777f24",
   "metadata": {},
   "outputs": [
    {
     "name": "stdout",
     "output_type": "stream",
     "text": [
      "{\"name\":\"user1\",\"age\":20}\n"
     ]
    }
   ],
   "source": [
    "print(to_json(user1))\n"
   ]
  },
  {
   "cell_type": "code",
   "execution_count": 27,
   "id": "b0247b42",
   "metadata": {},
   "outputs": [
    {
     "data": {
      "text/plain": [
       "User(name='user1', age=20)"
      ]
     },
     "execution_count": 27,
     "metadata": {},
     "output_type": "execute_result"
    }
   ],
   "source": [
    "from_json(User, '{\"name\":\"user1\",\"age\":20}')\n"
   ]
  },
  {
   "cell_type": "code",
   "execution_count": 28,
   "id": "f46708dc",
   "metadata": {},
   "outputs": [
    {
     "name": "stdout",
     "output_type": "stream",
     "text": [
      "age: 20\n",
      "name: user1\n",
      "\n"
     ]
    }
   ],
   "source": [
    "print(to_yaml(user1))\n"
   ]
  },
  {
   "cell_type": "code",
   "execution_count": 29,
   "id": "d8b105eb",
   "metadata": {},
   "outputs": [
    {
     "data": {
      "text/plain": [
       "User(name='user1', age=20)"
      ]
     },
     "execution_count": 29,
     "metadata": {},
     "output_type": "execute_result"
    }
   ],
   "source": [
    "from_yaml(User, \"age: 20\\nname: user1\\n\")\n"
   ]
  },
  {
   "attachments": {},
   "cell_type": "markdown",
   "id": "1479b28c",
   "metadata": {},
   "source": [
    "[Link to pyserde](https://github.com/yukinarit/pyserde)."
   ]
  },
  {
   "attachments": {},
   "cell_type": "markdown",
   "id": "07f534d8",
   "metadata": {},
   "source": [
    "### ItsDangerous: Safely Pass Trusted Data to Untrusted Environments and Back"
   ]
  },
  {
   "cell_type": "code",
   "execution_count": null,
   "id": "dcb41d90",
   "metadata": {
    "tags": [
     "hide-cell"
    ]
   },
   "outputs": [],
   "source": [
    "!pip install -U itsdangerous"
   ]
  },
  {
   "attachments": {},
   "cell_type": "markdown",
   "id": "7f32e8c1",
   "metadata": {},
   "source": [
    "When passing data between different web requests, there is a risk of malicious code injection.\n",
    "\n",
    "To ensure the safety of passing data to untrusted environments, use ItsDangerous. ItsDangerous adds a unique signature to the data to verify that the data has not been tampered with during transmission."
   ]
  },
  {
   "cell_type": "code",
   "execution_count": 14,
   "id": "f5fc364d",
   "metadata": {},
   "outputs": [
    {
     "data": {
      "text/plain": [
       "'eyJpZCI6NSwibmFtZSI6ImtodXllbnRyYW4ifQ.3cQlkHP1MyeUS8jNQmGV_mbrxsQ'"
      ]
     },
     "execution_count": 14,
     "metadata": {},
     "output_type": "execute_result"
    }
   ],
   "source": [
    "from itsdangerous import URLSafeSerializer\n",
    "\n",
    "auth_s = URLSafeSerializer(\"some key\")\n",
    "token = auth_s.dumps({\"id\": 5, \"name\": \"khuyentran\"})\n",
    "token"
   ]
  },
  {
   "cell_type": "code",
   "execution_count": 15,
   "id": "dfe72289",
   "metadata": {},
   "outputs": [
    {
     "data": {
      "text/plain": [
       "'khuyentran'"
      ]
     },
     "execution_count": 15,
     "metadata": {},
     "output_type": "execute_result"
    }
   ],
   "source": [
    "# Get the data back from the token using the secret key\n",
    "data = auth_s.loads(token)\n",
    "data[\"name\"]"
   ]
  },
  {
   "attachments": {},
   "cell_type": "markdown",
   "id": "5e27b6a7",
   "metadata": {},
   "source": [
    "[Link to ItsDangerous](https://github.com/pallets/itsdangerous/)."
   ]
  }
 ],
 "metadata": {
  "celltoolbar": "Tags",
  "kernelspec": {
   "display_name": "Python 3 (ipykernel)",
   "language": "python",
   "name": "python3"
  },
  "language_info": {
   "codemirror_mode": {
    "name": "ipython",
    "version": 3
   },
   "file_extension": ".py",
   "mimetype": "text/x-python",
   "name": "python",
   "nbconvert_exporter": "python",
   "pygments_lexer": "ipython3",
   "version": "3.9.6"
  },
  "toc": {
   "base_numbering": 1,
   "nav_menu": {},
   "number_sections": true,
   "sideBar": true,
   "skip_h1_title": false,
   "title_cell": "Table of Contents",
   "title_sidebar": "Contents",
   "toc_cell": false,
   "toc_position": {},
   "toc_section_display": true,
   "toc_window_display": false
  }
 },
 "nbformat": 4,
 "nbformat_minor": 5
}
