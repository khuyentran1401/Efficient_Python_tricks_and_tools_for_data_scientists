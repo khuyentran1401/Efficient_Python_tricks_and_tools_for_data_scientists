{
 "cells": [
  {
   "cell_type": "markdown",
   "id": "060c12eb",
   "metadata": {},
   "source": [
    "## Sharing and Downloading"
   ]
  },
  {
   "cell_type": "markdown",
   "id": "56fe6635",
   "metadata": {},
   "source": [
    "This section covers some tools to share and download your data."
   ]
  },
  {
   "cell_type": "markdown",
   "id": "410e76a1",
   "metadata": {},
   "source": [
    "### gdown: Download a File from Google Drive in Python"
   ]
  },
  {
   "cell_type": "code",
   "execution_count": null,
   "id": "39be3ea6",
   "metadata": {
    "tags": [
     "hide-cell"
    ]
   },
   "outputs": [],
   "source": [
    "!pip install gdown "
   ]
  },
  {
   "cell_type": "markdown",
   "id": "f8deceab",
   "metadata": {},
   "source": [
    "If you want to download a file from Google Drive in Python, use gdown. All you need to specify is the URL link."
   ]
  },
  {
   "cell_type": "code",
   "execution_count": null,
   "id": "2dd78b32",
   "metadata": {
    "tags": [
     "hide-output"
    ]
   },
   "outputs": [],
   "source": [
    "import gdown\n",
    "\n",
    "# Format of url: https://drive.google.com/uc?id=YOURFILEID\n",
    "url = \"https://drive.google.com/uc?id=1jI1cmxqnwsmC-vbl8dNY6b4aNBtBbKy3\"\n",
    "output = \"Twitter.zip\"\n",
    "\n",
    "gdown.download(url, output, quiet=False)"
   ]
  },
  {
   "cell_type": "markdown",
   "id": "5f12659c",
   "metadata": {},
   "source": [
    "[Link to gdown](https://pypi.org/project/gdown/)."
   ]
  },
  {
   "cell_type": "markdown",
   "id": "35433384",
   "metadata": {},
   "source": [
    "### pyserde: Effortless Serialization and Deserialization of Dataclass Objects"
   ]
  },
  {
   "cell_type": "code",
   "execution_count": null,
   "id": "154accb5",
   "metadata": {
    "tags": [
     "hide-cell"
    ]
   },
   "outputs": [],
   "source": [
    "!pip install pyserde"
   ]
  },
  {
   "cell_type": "markdown",
   "id": "f41116c4",
   "metadata": {},
   "source": [
    "Dataclasses provide a concise syntax for defining data-holding classes. Paired with pyserde, you can easily serialize and deserialize dataclass objects. \n",
    "\n",
    "Serialization converts dataclass data into a serialized format (e.g., JSON, YAML) for easy storage and transmission. Deserialization reconstructs the dataclass object from serialized data."
   ]
  },
  {
   "cell_type": "code",
   "execution_count": null,
   "id": "d01a967d",
   "metadata": {},
   "outputs": [],
   "source": [
    "from dataclasses import dataclass\n",
    "from serde import serde\n",
    "from serde.json import from_json, to_json\n",
    "from serde.yaml import from_yaml, to_yaml\n",
    "\n",
    "\n",
    "@serde\n",
    "@dataclass\n",
    "class User:\n",
    "    name: str\n",
    "    age: int\n",
    "\n",
    "\n",
    "user1 = User(name=\"user1\", age=20)"
   ]
  },
  {
   "cell_type": "code",
   "execution_count": null,
   "id": "3d177110",
   "metadata": {},
   "outputs": [],
   "source": [
    "print(to_json(user1))"
   ]
  },
  {
   "cell_type": "code",
   "execution_count": null,
   "id": "d76c39dc",
   "metadata": {},
   "outputs": [],
   "source": [
    "from_json(User, '{\"name\":\"user1\",\"age\":20}')"
   ]
  },
  {
   "cell_type": "code",
   "execution_count": null,
   "id": "bdbbe921",
   "metadata": {},
   "outputs": [],
   "source": [
    "print(to_yaml(user1))"
   ]
  },
  {
   "cell_type": "code",
   "execution_count": null,
   "id": "68124258",
   "metadata": {},
   "outputs": [],
   "source": [
    "from_yaml(User, \"age: 20\\nname: user1\\n\")"
   ]
  },
  {
   "cell_type": "markdown",
   "id": "cdbfee33",
   "metadata": {},
   "source": [
    "[Link to pyserde](https://github.com/yukinarit/pyserde)."
   ]
  },
  {
   "cell_type": "markdown",
   "id": "c1701b02",
   "metadata": {},
   "source": [
    "### ItsDangerous: Safely Pass Trusted Data to Untrusted Environments and Back"
   ]
  },
  {
   "cell_type": "code",
   "execution_count": null,
   "id": "0eb8d535",
   "metadata": {
    "tags": [
     "hide-cell"
    ]
   },
   "outputs": [],
   "source": [
    "!pip install -U itsdangerous"
   ]
  },
  {
   "cell_type": "markdown",
   "id": "683f6767",
   "metadata": {},
   "source": [
    "When passing data between different web requests, there is a risk of malicious code injection.\n",
    "\n",
    "To ensure the safety of passing data to untrusted environments, use ItsDangerous. ItsDangerous adds a unique signature to the data to verify that the data has not been tampered with during transmission."
   ]
  },
  {
   "cell_type": "code",
   "execution_count": null,
   "id": "1bff4987",
   "metadata": {},
   "outputs": [],
   "source": [
    "from itsdangerous import URLSafeSerializer\n",
    "\n",
    "auth_s = URLSafeSerializer(\"some key\")\n",
    "token = auth_s.dumps({\"id\": 5, \"name\": \"khuyentran\"})\n",
    "token"
   ]
  },
  {
   "cell_type": "code",
   "execution_count": null,
   "id": "2f9f478a",
   "metadata": {},
   "outputs": [],
   "source": [
    "# Get the data back from the token using the secret key\n",
    "data = auth_s.loads(token)\n",
    "data[\"name\"]"
   ]
  },
  {
   "cell_type": "markdown",
   "id": "11580803",
   "metadata": {},
   "source": [
    "[Link to ItsDangerous](https://github.com/pallets/itsdangerous/)."
   ]
  }
 ],
 "metadata": {
  "jupytext": {
   "text_representation": {
    "extension": ".md",
    "format_name": "myst",
    "format_version": 0.13,
    "jupytext_version": "1.16.7"
   }
  },
  "kernelspec": {
   "display_name": "Python 3 (ipykernel)",
   "language": "python",
   "name": "python3"
  },
  "source_map": [
   12,
   16,
   20,
   24,
   28,
   32,
   42,
   46,
   50,
   54,
   60,
   77,
   81,
   85,
   89,
   91,
   95,
   99,
   103,
   109,
   117,
   121
  ]
 },
 "nbformat": 4,
 "nbformat_minor": 5
}