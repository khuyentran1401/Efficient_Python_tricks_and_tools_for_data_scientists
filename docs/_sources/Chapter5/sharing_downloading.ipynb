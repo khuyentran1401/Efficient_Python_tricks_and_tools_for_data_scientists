{
 "cells": [
  {
   "cell_type": "markdown",
   "id": "83ef9414",
   "metadata": {},
   "source": [
    "## Sharing and Downloading"
   ]
  },
  {
   "cell_type": "markdown",
   "id": "63f270a7",
   "metadata": {},
   "source": [
    "This section covers some tools to share and download your data."
   ]
  },
  {
   "cell_type": "markdown",
   "id": "baeff8c5",
   "metadata": {},
   "source": [
    "### Datapane: Publish your Python Objects on the Web in 2 Lines of Code"
   ]
  },
  {
   "cell_type": "code",
   "execution_count": null,
   "id": "0bd9ea22",
   "metadata": {
    "tags": [
     "hide-cell"
    ]
   },
   "outputs": [],
   "source": [
    "!pip install datapane plotly"
   ]
  },
  {
   "cell_type": "markdown",
   "id": "2913c7a2",
   "metadata": {
    "ExecuteTime": {
     "end_time": "2021-09-11T19:45:06.126539Z",
     "start_time": "2021-09-11T19:45:00.273341Z"
    }
   },
   "source": [
    "If you want to put together your pandas.DataFrame, interactive charts such as Plotly, Bokeh, Altair, or markdown into a nice report and publish it on the web, try Datapane. The code below shows how you can publish your Python objects using Datapane in a few lines of code."
   ]
  },
  {
   "cell_type": "code",
   "execution_count": 6,
   "id": "c2073feb",
   "metadata": {
    "ExecuteTime": {
     "end_time": "2021-09-11T19:46:12.919706Z",
     "start_time": "2021-09-11T19:46:11.630092Z"
    }
   },
   "outputs": [
    {
     "data": {
      "text/markdown": [
       "Uploading report and associated data - *please wait...*"
      ],
      "text/plain": [
       "<IPython.core.display.Markdown object>"
      ]
     },
     "metadata": {},
     "output_type": "display_data"
    },
    {
     "data": {
      "text/markdown": [
       "Report successfully uploaded, click [here](https://datapane.com/u/khuyentran1401/reports/P3XvvkQ/example/) to view and share your report"
      ],
      "text/plain": [
       "<IPython.core.display.Markdown object>"
      ]
     },
     "metadata": {},
     "output_type": "display_data"
    },
    {
     "data": {
      "application/javascript": [
       "\n",
       "            setTimeout(function() {\n",
       "                var nbb_cell_id = 6;\n",
       "                var nbb_unformatted_code = \"import datapane as dp \\nimport pandas as pd \\nimport numpy as np \\nimport plotly.express as px\\n\\n# Scripts to create df and chart \\ndf = px.data.gapminder()\\n\\nchart = px.scatter(df.query(\\\"year==2007\\\"), x=\\\"gdpPercap\\\", y=\\\"lifeExp\\\",\\n\\t         size=\\\"pop\\\", color=\\\"continent\\\",\\n                 hover_name=\\\"country\\\", log_x=True, size_max=60)\\n\\n# Once you have the df and the chart, simply use\\nr = dp.Report(\\n    dp.Text(\\\"my simple report\\\"), # add description\\n    dp.DataTable(df), # create a table\\n    dp.Plot(chart) # create a chart\\n)\\n\\n# Publish your report\\nr.upload(name='example')\";\n",
       "                var nbb_formatted_code = \"import datapane as dp\\nimport pandas as pd\\nimport numpy as np\\nimport plotly.express as px\\n\\n# Scripts to create df and chart\\ndf = px.data.gapminder()\\n\\nchart = px.scatter(\\n    df.query(\\\"year==2007\\\"),\\n    x=\\\"gdpPercap\\\",\\n    y=\\\"lifeExp\\\",\\n    size=\\\"pop\\\",\\n    color=\\\"continent\\\",\\n    hover_name=\\\"country\\\",\\n    log_x=True,\\n    size_max=60,\\n)\\n\\n# Once you have the df and the chart, simply use\\nr = dp.Report(\\n    dp.Text(\\\"my simple report\\\"),  # add description\\n    dp.DataTable(df),  # create a table\\n    dp.Plot(chart),  # create a chart\\n)\\n\\n# Publish your report\\nr.upload(name=\\\"example\\\")\";\n",
       "                var nbb_cells = Jupyter.notebook.get_cells();\n",
       "                for (var i = 0; i < nbb_cells.length; ++i) {\n",
       "                    if (nbb_cells[i].input_prompt_number == nbb_cell_id) {\n",
       "                        if (nbb_cells[i].get_text() == nbb_unformatted_code) {\n",
       "                             nbb_cells[i].set_text(nbb_formatted_code);\n",
       "                        }\n",
       "                        break;\n",
       "                    }\n",
       "                }\n",
       "            }, 500);\n",
       "            "
      ],
      "text/plain": [
       "<IPython.core.display.Javascript object>"
      ]
     },
     "metadata": {},
     "output_type": "display_data"
    }
   ],
   "source": [
    "import datapane as dp\n",
    "import pandas as pd\n",
    "import numpy as np\n",
    "import plotly.express as px\n",
    "\n",
    "# Scripts to create df and chart\n",
    "df = px.data.gapminder()\n",
    "\n",
    "chart = px.scatter(\n",
    "    df.query(\"year==2007\"),\n",
    "    x=\"gdpPercap\",\n",
    "    y=\"lifeExp\",\n",
    "    size=\"pop\",\n",
    "    color=\"continent\",\n",
    "    hover_name=\"country\",\n",
    "    log_x=True,\n",
    "    size_max=60,\n",
    ")\n",
    "\n",
    "# Once you have the df and the chart, simply use\n",
    "r = dp.Report(\n",
    "    dp.Text(\"my simple report\"),  # add description\n",
    "    dp.DataTable(df),  # create a table\n",
    "    dp.Plot(chart),  # create a chart\n",
    ")\n",
    "\n",
    "# Publish your report\n",
    "r.upload(name=\"example\")"
   ]
  },
  {
   "cell_type": "markdown",
   "id": "42896fa0",
   "metadata": {},
   "source": [
    "[Link to Datapane](https://datapane.com/)\n",
    "\n",
    "[Link to my article about Datapane](https://towardsdatascience.com/introduction-to-datapane-a-python-library-to-build-interactive-reports-4593fd3cb9c8?sk=b8dd5203d1a37b0f08ed15ea65524d89)"
   ]
  },
  {
   "cell_type": "markdown",
   "id": "c09e5026",
   "metadata": {},
   "source": [
    "### gdown: Download a File from Google Drive in Python"
   ]
  },
  {
   "cell_type": "code",
   "execution_count": null,
   "id": "1f5827ab",
   "metadata": {
    "tags": [
     "hide-cell"
    ]
   },
   "outputs": [],
   "source": [
    "!pip install gdown "
   ]
  },
  {
   "cell_type": "markdown",
   "id": "9e54d964",
   "metadata": {},
   "source": [
    "If you want to download a file from Google Drive in Python, use gdown. All you need to specify is the URL link."
   ]
  },
  {
   "cell_type": "code",
   "execution_count": 10,
   "id": "eadd190d",
   "metadata": {
    "ExecuteTime": {
     "end_time": "2021-09-11T19:48:54.466723Z",
     "start_time": "2021-09-11T19:48:42.439796Z"
    },
    "tags": [
     "hide-output"
    ]
   },
   "outputs": [
    {
     "name": "stderr",
     "output_type": "stream",
     "text": [
      "Downloading...\n",
      "From: https://drive.google.com/uc?id=1jI1cmxqnwsmC-vbl8dNY6b4aNBtBbKy3\n",
      "To: /home/khuyen/book/book/Chapter4/Twitter.zip\n",
      "120MB [00:09, 12.1MB/s] \n"
     ]
    },
    {
     "data": {
      "text/plain": [
       "'Twitter.zip'"
      ]
     },
     "execution_count": 10,
     "metadata": {},
     "output_type": "execute_result"
    },
    {
     "data": {
      "application/javascript": [
       "\n",
       "            setTimeout(function() {\n",
       "                var nbb_cell_id = 10;\n",
       "                var nbb_unformatted_code = \"import gdown\\n\\n# Format of url: https://drive.google.com/uc?id=YOURFILEID\\nurl = \\\"https://drive.google.com/uc?id=1jI1cmxqnwsmC-vbl8dNY6b4aNBtBbKy3\\\"\\noutput = \\\"Twitter.zip\\\"\\n\\ngdown.download(url, output, quiet=False)\";\n",
       "                var nbb_formatted_code = \"import gdown\\n\\n# Format of url: https://drive.google.com/uc?id=YOURFILEID\\nurl = \\\"https://drive.google.com/uc?id=1jI1cmxqnwsmC-vbl8dNY6b4aNBtBbKy3\\\"\\noutput = \\\"Twitter.zip\\\"\\n\\ngdown.download(url, output, quiet=False)\";\n",
       "                var nbb_cells = Jupyter.notebook.get_cells();\n",
       "                for (var i = 0; i < nbb_cells.length; ++i) {\n",
       "                    if (nbb_cells[i].input_prompt_number == nbb_cell_id) {\n",
       "                        if (nbb_cells[i].get_text() == nbb_unformatted_code) {\n",
       "                             nbb_cells[i].set_text(nbb_formatted_code);\n",
       "                        }\n",
       "                        break;\n",
       "                    }\n",
       "                }\n",
       "            }, 500);\n",
       "            "
      ],
      "text/plain": [
       "<IPython.core.display.Javascript object>"
      ]
     },
     "metadata": {},
     "output_type": "display_data"
    }
   ],
   "source": [
    "import gdown\n",
    "\n",
    "# Format of url: https://drive.google.com/uc?id=YOURFILEID\n",
    "url = \"https://drive.google.com/uc?id=1jI1cmxqnwsmC-vbl8dNY6b4aNBtBbKy3\"\n",
    "output = \"Twitter.zip\"\n",
    "\n",
    "gdown.download(url, output, quiet=False)"
   ]
  },
  {
   "cell_type": "markdown",
   "id": "8247ccf2",
   "metadata": {},
   "source": [
    "[Link to gdown](https://pypi.org/project/gdown/)."
   ]
  }
 ],
 "metadata": {
  "celltoolbar": "Tags",
  "kernelspec": {
   "display_name": "Python 3 (ipykernel)",
   "language": "python",
   "name": "python3"
  },
  "language_info": {
   "codemirror_mode": {
    "name": "ipython",
    "version": 3
   },
   "file_extension": ".py",
   "mimetype": "text/x-python",
   "name": "python",
   "nbconvert_exporter": "python",
   "pygments_lexer": "ipython3",
   "version": "3.8.10"
  },
  "toc": {
   "base_numbering": 1,
   "nav_menu": {},
   "number_sections": true,
   "sideBar": true,
   "skip_h1_title": false,
   "title_cell": "Table of Contents",
   "title_sidebar": "Contents",
   "toc_cell": false,
   "toc_position": {},
   "toc_section_display": true,
   "toc_window_display": false
  }
 },
 "nbformat": 4,
 "nbformat_minor": 5
}
