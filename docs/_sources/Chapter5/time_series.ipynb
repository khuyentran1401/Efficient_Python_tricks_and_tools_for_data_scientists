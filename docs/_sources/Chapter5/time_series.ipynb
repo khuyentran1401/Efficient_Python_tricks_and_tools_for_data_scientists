{
 "cells": [
  {
   "cell_type": "markdown",
   "id": "70aa2fd5",
   "metadata": {},
   "source": [
    "## Time Series"
   ]
  },
  {
   "cell_type": "markdown",
   "id": "33e2a7f1",
   "metadata": {},
   "source": [
    "### datefinder: Automatically Find Dates and Time in a Python String"
   ]
  },
  {
   "cell_type": "code",
   "execution_count": null,
   "id": "2dda8bb0",
   "metadata": {
    "tags": [
     "hide-cell"
    ]
   },
   "outputs": [],
   "source": [
    "!pip install datefinder"
   ]
  },
  {
   "cell_type": "markdown",
   "id": "7b450f8d",
   "metadata": {},
   "source": [
    "If you want to automatically find date and time with different formats in a Python string, try datefinder. "
   ]
  },
  {
   "cell_type": "code",
   "execution_count": 32,
   "id": "ae947d37",
   "metadata": {
    "ExecuteTime": {
     "end_time": "2021-09-11T19:16:01.118647Z",
     "start_time": "2021-09-11T19:16:00.954223Z"
    }
   },
   "outputs": [
    {
     "name": "stdout",
     "output_type": "stream",
     "text": [
      "Date and time: 2021-05-17 09:00:00\n",
      "Only day: 17\n",
      "Date and time: 2021-05-18 10:00:00\n",
      "Only day: 18\n"
     ]
    },
    {
     "data": {
      "application/javascript": [
       "\n",
       "            setTimeout(function() {\n",
       "                var nbb_cell_id = 32;\n",
       "                var nbb_unformatted_code = \"from datefinder import find_dates\\n\\ntext = \\\"\\\"\\\"\\\"We have one meeting on May 17th,\\n2021 at 9:00am and another meeting on 5/18/2021\\nat 10:00. I hope you can attend one of the\\nmeetings.\\\"\\\"\\\"\\n\\nmatches = find_dates(text)\\n\\nfor match in matches:\\n    print(\\\"Date and time:\\\", match)\\n    print(\\\"Only day:\\\", match.day)\";\n",
       "                var nbb_formatted_code = \"from datefinder import find_dates\\n\\ntext = \\\"\\\"\\\"\\\"We have one meeting on May 17th,\\n2021 at 9:00am and another meeting on 5/18/2021\\nat 10:00. I hope you can attend one of the\\nmeetings.\\\"\\\"\\\"\\n\\nmatches = find_dates(text)\\n\\nfor match in matches:\\n    print(\\\"Date and time:\\\", match)\\n    print(\\\"Only day:\\\", match.day)\";\n",
       "                var nbb_cells = Jupyter.notebook.get_cells();\n",
       "                for (var i = 0; i < nbb_cells.length; ++i) {\n",
       "                    if (nbb_cells[i].input_prompt_number == nbb_cell_id) {\n",
       "                        if (nbb_cells[i].get_text() == nbb_unformatted_code) {\n",
       "                             nbb_cells[i].set_text(nbb_formatted_code);\n",
       "                        }\n",
       "                        break;\n",
       "                    }\n",
       "                }\n",
       "            }, 500);\n",
       "            "
      ],
      "text/plain": [
       "<IPython.core.display.Javascript object>"
      ]
     },
     "metadata": {},
     "output_type": "display_data"
    }
   ],
   "source": [
    "from datefinder import find_dates\n",
    "\n",
    "text = \"\"\"\"We have one meeting on May 17th,\n",
    "2021 at 9:00am and another meeting on 5/18/2021\n",
    "at 10:00. I hope you can attend one of the\n",
    "meetings.\"\"\"\n",
    "\n",
    "matches = find_dates(text)\n",
    "\n",
    "for match in matches:\n",
    "    print(\"Date and time:\", match)\n",
    "    print(\"Only day:\", match.day)\n"
   ]
  },
  {
   "cell_type": "markdown",
   "id": "debe8efb",
   "metadata": {},
   "source": [
    "[Link to datefinder](https://github.com/akoumjian/datefinder).\n",
    "\n"
   ]
  },
  {
   "cell_type": "markdown",
   "id": "84b7cf4e",
   "metadata": {},
   "source": [
    "### Fastai's add_datepart: Add Relevant DateTime Features in One Line of Code"
   ]
  },
  {
   "cell_type": "code",
   "execution_count": null,
   "id": "e2d7c28b",
   "metadata": {
    "tags": [
     "hide-cell"
    ]
   },
   "outputs": [],
   "source": [
    "!pip install fastai"
   ]
  },
  {
   "cell_type": "markdown",
   "id": "dd07739d",
   "metadata": {},
   "source": [
    "When working with time series, other features such as year, month, week, day of the week, day of the year, whether it is the end of the year or not, can be really helpful to predict future events. Is there a way that you can get all of those features in one line of code?\n",
    "\n",
    "Fastai’s add_datepart method allows you to do exactly that. "
   ]
  },
  {
   "cell_type": "code",
   "execution_count": 41,
   "id": "06409ace",
   "metadata": {
    "ExecuteTime": {
     "end_time": "2021-09-11T19:21:16.707053Z",
     "start_time": "2021-09-11T19:21:16.262467Z"
    }
   },
   "outputs": [
    {
     "data": {
      "text/html": [
       "<div>\n",
       "<style scoped>\n",
       "    .dataframe tbody tr th:only-of-type {\n",
       "        vertical-align: middle;\n",
       "    }\n",
       "\n",
       "    .dataframe tbody tr th {\n",
       "        vertical-align: top;\n",
       "    }\n",
       "\n",
       "    .dataframe thead th {\n",
       "        text-align: right;\n",
       "    }\n",
       "</style>\n",
       "<table border=\"1\" class=\"dataframe\">\n",
       "  <thead>\n",
       "    <tr style=\"text-align: right;\">\n",
       "      <th></th>\n",
       "      <th>date</th>\n",
       "      <th>val</th>\n",
       "    </tr>\n",
       "  </thead>\n",
       "  <tbody>\n",
       "    <tr>\n",
       "      <th>0</th>\n",
       "      <td>2020-02-05</td>\n",
       "      <td>1</td>\n",
       "    </tr>\n",
       "    <tr>\n",
       "      <th>1</th>\n",
       "      <td>2020-02-06</td>\n",
       "      <td>2</td>\n",
       "    </tr>\n",
       "    <tr>\n",
       "      <th>2</th>\n",
       "      <td>2020-02-07</td>\n",
       "      <td>3</td>\n",
       "    </tr>\n",
       "    <tr>\n",
       "      <th>3</th>\n",
       "      <td>2020-02-08</td>\n",
       "      <td>4</td>\n",
       "    </tr>\n",
       "  </tbody>\n",
       "</table>\n",
       "</div>"
      ],
      "text/plain": [
       "        date  val\n",
       "0 2020-02-05    1\n",
       "1 2020-02-06    2\n",
       "2 2020-02-07    3\n",
       "3 2020-02-08    4"
      ]
     },
     "execution_count": 41,
     "metadata": {},
     "output_type": "execute_result"
    },
    {
     "data": {
      "application/javascript": [
       "\n",
       "            setTimeout(function() {\n",
       "                var nbb_cell_id = 41;\n",
       "                var nbb_unformatted_code = \"import pandas as pd\\nfrom fastai.tabular.core import add_datepart\\nfrom datetime import datetime\\n\\ndf = pd.DataFrame(\\n    {\\n        \\\"date\\\": [\\n            datetime(2020, 2, 5),\\n            datetime(2020, 2, 6),\\n            datetime(2020, 2, 7),\\n            datetime(2020, 2, 8),\\n        ],\\n        \\\"val\\\": [1, 2, 3, 4],\\n    }\\n)\\n\\ndf\";\n",
       "                var nbb_formatted_code = \"import pandas as pd\\nfrom fastai.tabular.core import add_datepart\\nfrom datetime import datetime\\n\\ndf = pd.DataFrame(\\n    {\\n        \\\"date\\\": [\\n            datetime(2020, 2, 5),\\n            datetime(2020, 2, 6),\\n            datetime(2020, 2, 7),\\n            datetime(2020, 2, 8),\\n        ],\\n        \\\"val\\\": [1, 2, 3, 4],\\n    }\\n)\\n\\ndf\";\n",
       "                var nbb_cells = Jupyter.notebook.get_cells();\n",
       "                for (var i = 0; i < nbb_cells.length; ++i) {\n",
       "                    if (nbb_cells[i].input_prompt_number == nbb_cell_id) {\n",
       "                        if (nbb_cells[i].get_text() == nbb_unformatted_code) {\n",
       "                             nbb_cells[i].set_text(nbb_formatted_code);\n",
       "                        }\n",
       "                        break;\n",
       "                    }\n",
       "                }\n",
       "            }, 500);\n",
       "            "
      ],
      "text/plain": [
       "<IPython.core.display.Javascript object>"
      ]
     },
     "metadata": {},
     "output_type": "display_data"
    }
   ],
   "source": [
    "import pandas as pd\n",
    "from fastai.tabular.core import add_datepart\n",
    "from datetime import datetime\n",
    "\n",
    "df = pd.DataFrame(\n",
    "    {\n",
    "        \"date\": [\n",
    "            datetime(2020, 2, 5),\n",
    "            datetime(2020, 2, 6),\n",
    "            datetime(2020, 2, 7),\n",
    "            datetime(2020, 2, 8),\n",
    "        ],\n",
    "        \"val\": [1, 2, 3, 4],\n",
    "    }\n",
    ")\n",
    "\n",
    "df"
   ]
  },
  {
   "cell_type": "code",
   "execution_count": 42,
   "id": "46834c6f",
   "metadata": {
    "ExecuteTime": {
     "end_time": "2021-09-11T19:21:20.909500Z",
     "start_time": "2021-09-11T19:21:20.891490Z"
    }
   },
   "outputs": [
    {
     "data": {
      "text/plain": [
       "Index(['val', 'Year', 'Month', 'Week', 'Day', 'Dayofweek', 'Dayofyear',\n",
       "       'Is_month_end', 'Is_month_start', 'Is_quarter_end', 'Is_quarter_start',\n",
       "       'Is_year_end', 'Is_year_start', 'Elapsed'],\n",
       "      dtype='object')"
      ]
     },
     "execution_count": 42,
     "metadata": {},
     "output_type": "execute_result"
    },
    {
     "data": {
      "application/javascript": [
       "\n",
       "            setTimeout(function() {\n",
       "                var nbb_cell_id = 42;\n",
       "                var nbb_unformatted_code = \"df = add_datepart(df, \\\"date\\\")\\ndf.columns\";\n",
       "                var nbb_formatted_code = \"df = add_datepart(df, \\\"date\\\")\\ndf.columns\";\n",
       "                var nbb_cells = Jupyter.notebook.get_cells();\n",
       "                for (var i = 0; i < nbb_cells.length; ++i) {\n",
       "                    if (nbb_cells[i].input_prompt_number == nbb_cell_id) {\n",
       "                        if (nbb_cells[i].get_text() == nbb_unformatted_code) {\n",
       "                             nbb_cells[i].set_text(nbb_formatted_code);\n",
       "                        }\n",
       "                        break;\n",
       "                    }\n",
       "                }\n",
       "            }, 500);\n",
       "            "
      ],
      "text/plain": [
       "<IPython.core.display.Javascript object>"
      ]
     },
     "metadata": {},
     "output_type": "display_data"
    }
   ],
   "source": [
    "df = add_datepart(df, \"date\")\n",
    "df.columns"
   ]
  },
  {
   "cell_type": "markdown",
   "id": "b53d2e18",
   "metadata": {},
   "source": [
    "[Link to Fastai's methods to work with tabular data](https://docs.fast.ai/tabular.core.html)"
   ]
  },
  {
   "cell_type": "markdown",
   "id": "4014366f",
   "metadata": {},
   "source": [
    "### Maya: Convert the string to datetime automatically"
   ]
  },
  {
   "cell_type": "code",
   "execution_count": null,
   "id": "4eceafaa",
   "metadata": {
    "tags": [
     "hide-cell"
    ]
   },
   "outputs": [],
   "source": [
    "!pip install maya"
   ]
  },
  {
   "cell_type": "markdown",
   "id": "415d0d87",
   "metadata": {},
   "source": [
    "If you want to convert a string type to a datetime type, the common way is to use strptime(date_string, format). But it is quite inconvenient to to specify the structure of your datetime string, such as ‘ %Y-%m-%d %H:%M:%S’.\n",
    "\n",
    "There is a tool that helps you convert the string to datetime automatically called maya. You just need to parse the string and maya will figure out the structure of your string."
   ]
  },
  {
   "cell_type": "code",
   "execution_count": 49,
   "id": "6054a34f",
   "metadata": {
    "ExecuteTime": {
     "end_time": "2021-09-11T19:25:59.078453Z",
     "start_time": "2021-09-11T19:25:58.796236Z"
    }
   },
   "outputs": [
    {
     "data": {
      "text/plain": [
       "datetime.datetime(2016, 12, 16, 18, 23, 45, 423992, tzinfo=<UTC>)"
      ]
     },
     "execution_count": 49,
     "metadata": {},
     "output_type": "execute_result"
    },
    {
     "data": {
      "application/javascript": [
       "\n",
       "            setTimeout(function() {\n",
       "                var nbb_cell_id = 49;\n",
       "                var nbb_unformatted_code = \"import maya\\n\\n# Automatically parse datetime string\\nstring = '2016-12-16 18:23:45.423992+00:00'\\nmaya.parse(string).datetime()\";\n",
       "                var nbb_formatted_code = \"import maya\\n\\n# Automatically parse datetime string\\nstring = \\\"2016-12-16 18:23:45.423992+00:00\\\"\\nmaya.parse(string).datetime()\";\n",
       "                var nbb_cells = Jupyter.notebook.get_cells();\n",
       "                for (var i = 0; i < nbb_cells.length; ++i) {\n",
       "                    if (nbb_cells[i].input_prompt_number == nbb_cell_id) {\n",
       "                        if (nbb_cells[i].get_text() == nbb_unformatted_code) {\n",
       "                             nbb_cells[i].set_text(nbb_formatted_code);\n",
       "                        }\n",
       "                        break;\n",
       "                    }\n",
       "                }\n",
       "            }, 500);\n",
       "            "
      ],
      "text/plain": [
       "<IPython.core.display.Javascript object>"
      ]
     },
     "metadata": {},
     "output_type": "display_data"
    }
   ],
   "source": [
    "import maya\n",
    "\n",
    "# Automatically parse datetime string\n",
    "string = \"2016-12-16 18:23:45.423992+00:00\"\n",
    "maya.parse(string).datetime()"
   ]
  },
  {
   "cell_type": "markdown",
   "id": "d59f7877",
   "metadata": {},
   "source": [
    "Better yet, if you want to convert the string to a different time zone (for example, CST), you can parse that into maya’s datetime function."
   ]
  },
  {
   "cell_type": "code",
   "execution_count": 50,
   "id": "aaebf53b",
   "metadata": {
    "ExecuteTime": {
     "end_time": "2021-09-11T19:26:06.960615Z",
     "start_time": "2021-09-11T19:26:06.906826Z"
    }
   },
   "outputs": [
    {
     "data": {
      "text/plain": [
       "datetime.datetime(2016, 12, 16, 12, 23, 45, 423992, tzinfo=<DstTzInfo 'US/Central' CST-1 day, 18:00:00 STD>)"
      ]
     },
     "execution_count": 50,
     "metadata": {},
     "output_type": "execute_result"
    },
    {
     "data": {
      "application/javascript": [
       "\n",
       "            setTimeout(function() {\n",
       "                var nbb_cell_id = 50;\n",
       "                var nbb_unformatted_code = \"maya.parse(string).datetime(to_timezone='US/Central')\";\n",
       "                var nbb_formatted_code = \"maya.parse(string).datetime(to_timezone=\\\"US/Central\\\")\";\n",
       "                var nbb_cells = Jupyter.notebook.get_cells();\n",
       "                for (var i = 0; i < nbb_cells.length; ++i) {\n",
       "                    if (nbb_cells[i].input_prompt_number == nbb_cell_id) {\n",
       "                        if (nbb_cells[i].get_text() == nbb_unformatted_code) {\n",
       "                             nbb_cells[i].set_text(nbb_formatted_code);\n",
       "                        }\n",
       "                        break;\n",
       "                    }\n",
       "                }\n",
       "            }, 500);\n",
       "            "
      ],
      "text/plain": [
       "<IPython.core.display.Javascript object>"
      ]
     },
     "metadata": {},
     "output_type": "display_data"
    }
   ],
   "source": [
    "maya.parse(string).datetime(to_timezone=\"US/Central\")"
   ]
  },
  {
   "cell_type": "markdown",
   "id": "8c9f856b",
   "metadata": {},
   "source": [
    "Check out the doc for more ways of manipulating your date string faster [here](https://github.com/timofurrer/maya)."
   ]
  },
  {
   "cell_type": "markdown",
   "id": "99dfbbf3",
   "metadata": {},
   "source": [
    "### Extract holiday from date column"
   ]
  },
  {
   "cell_type": "code",
   "execution_count": null,
   "id": "0189dab0",
   "metadata": {
    "tags": [
     "hide-cell"
    ]
   },
   "outputs": [],
   "source": [
    "!pip install holidays"
   ]
  },
  {
   "cell_type": "markdown",
   "id": "fc6a1026",
   "metadata": {},
   "source": [
    "You have a date column and you think the holidays might affect the target of your data. Is there an easy way to extract the holidays from the date? Yes, that is when holidays package comes in handy.\n",
    "\n",
    "Holidays package provides a dictionary of holidays for different countries. The code below is to confirm whether 2020-07-04 is a US holiday and extract the name of the holiday."
   ]
  },
  {
   "cell_type": "code",
   "execution_count": 52,
   "id": "28556a09",
   "metadata": {
    "ExecuteTime": {
     "end_time": "2021-09-11T19:28:31.584062Z",
     "start_time": "2021-09-11T19:28:31.489781Z"
    }
   },
   "outputs": [
    {
     "data": {
      "text/plain": [
       "True"
      ]
     },
     "execution_count": 52,
     "metadata": {},
     "output_type": "execute_result"
    },
    {
     "data": {
      "application/javascript": [
       "\n",
       "            setTimeout(function() {\n",
       "                var nbb_cell_id = 52;\n",
       "                var nbb_unformatted_code = \"from datetime import date \\nimport holidays\\n\\nus_holidays = holidays.UnitedStates()\\n\\n'2014-07-04' in us_holidays\";\n",
       "                var nbb_formatted_code = \"from datetime import date\\nimport holidays\\n\\nus_holidays = holidays.UnitedStates()\\n\\n\\\"2014-07-04\\\" in us_holidays\";\n",
       "                var nbb_cells = Jupyter.notebook.get_cells();\n",
       "                for (var i = 0; i < nbb_cells.length; ++i) {\n",
       "                    if (nbb_cells[i].input_prompt_number == nbb_cell_id) {\n",
       "                        if (nbb_cells[i].get_text() == nbb_unformatted_code) {\n",
       "                             nbb_cells[i].set_text(nbb_formatted_code);\n",
       "                        }\n",
       "                        break;\n",
       "                    }\n",
       "                }\n",
       "            }, 500);\n",
       "            "
      ],
      "text/plain": [
       "<IPython.core.display.Javascript object>"
      ]
     },
     "metadata": {},
     "output_type": "display_data"
    }
   ],
   "source": [
    "from datetime import date\n",
    "import holidays\n",
    "\n",
    "us_holidays = holidays.UnitedStates()\n",
    "\n",
    "\"2014-07-04\" in us_holidays"
   ]
  },
  {
   "cell_type": "markdown",
   "id": "be0dd9d6",
   "metadata": {},
   "source": [
    "The great thing about this package is that you can write the date in whatever way you want and the package is still able to detect which date you are talking about."
   ]
  },
  {
   "cell_type": "code",
   "execution_count": 53,
   "id": "64efdb91",
   "metadata": {
    "ExecuteTime": {
     "end_time": "2021-09-11T19:28:43.080559Z",
     "start_time": "2021-09-11T19:28:43.065354Z"
    }
   },
   "outputs": [
    {
     "data": {
      "text/plain": [
       "'Independence Day'"
      ]
     },
     "execution_count": 53,
     "metadata": {},
     "output_type": "execute_result"
    },
    {
     "data": {
      "application/javascript": [
       "\n",
       "            setTimeout(function() {\n",
       "                var nbb_cell_id = 53;\n",
       "                var nbb_unformatted_code = \"us_holidays.get('2014-7-4')\";\n",
       "                var nbb_formatted_code = \"us_holidays.get(\\\"2014-7-4\\\")\";\n",
       "                var nbb_cells = Jupyter.notebook.get_cells();\n",
       "                for (var i = 0; i < nbb_cells.length; ++i) {\n",
       "                    if (nbb_cells[i].input_prompt_number == nbb_cell_id) {\n",
       "                        if (nbb_cells[i].get_text() == nbb_unformatted_code) {\n",
       "                             nbb_cells[i].set_text(nbb_formatted_code);\n",
       "                        }\n",
       "                        break;\n",
       "                    }\n",
       "                }\n",
       "            }, 500);\n",
       "            "
      ],
      "text/plain": [
       "<IPython.core.display.Javascript object>"
      ]
     },
     "metadata": {},
     "output_type": "display_data"
    }
   ],
   "source": [
    "us_holidays.get(\"2014-7-4\")"
   ]
  },
  {
   "cell_type": "code",
   "execution_count": 54,
   "id": "83b80548",
   "metadata": {
    "ExecuteTime": {
     "end_time": "2021-09-11T19:28:50.088606Z",
     "start_time": "2021-09-11T19:28:50.074383Z"
    }
   },
   "outputs": [
    {
     "data": {
      "text/plain": [
       "'Independence Day'"
      ]
     },
     "execution_count": 54,
     "metadata": {},
     "output_type": "execute_result"
    },
    {
     "data": {
      "application/javascript": [
       "\n",
       "            setTimeout(function() {\n",
       "                var nbb_cell_id = 54;\n",
       "                var nbb_unformatted_code = \"us_holidays.get('2014/7/4')\";\n",
       "                var nbb_formatted_code = \"us_holidays.get(\\\"2014/7/4\\\")\";\n",
       "                var nbb_cells = Jupyter.notebook.get_cells();\n",
       "                for (var i = 0; i < nbb_cells.length; ++i) {\n",
       "                    if (nbb_cells[i].input_prompt_number == nbb_cell_id) {\n",
       "                        if (nbb_cells[i].get_text() == nbb_unformatted_code) {\n",
       "                             nbb_cells[i].set_text(nbb_formatted_code);\n",
       "                        }\n",
       "                        break;\n",
       "                    }\n",
       "                }\n",
       "            }, 500);\n",
       "            "
      ],
      "text/plain": [
       "<IPython.core.display.Javascript object>"
      ]
     },
     "metadata": {},
     "output_type": "display_data"
    }
   ],
   "source": [
    "us_holidays.get(\"2014/7/4\")"
   ]
  },
  {
   "cell_type": "markdown",
   "id": "e07c9353",
   "metadata": {},
   "source": [
    "You can also add more holidays if you think that the library is lacking some holidays. Try [this](https://pypi.org/project/holidays/) out if you are looking for something similar.\n",
    "\n"
   ]
  },
  {
   "cell_type": "markdown",
   "id": "ee1dc844",
   "metadata": {},
   "source": [
    "### traces: A Python Library for Unevenly-Spaced Time Series Analysis\n"
   ]
  },
  {
   "cell_type": "code",
   "execution_count": null,
   "id": "26f0fba6",
   "metadata": {
    "ExecuteTime": {
     "end_time": "2021-09-17T13:24:04.602712Z",
     "start_time": "2021-09-17T13:24:00.173281Z"
    },
    "tags": [
     "hide-cell"
    ]
   },
   "outputs": [],
   "source": [
    "!pip install traces"
   ]
  },
  {
   "cell_type": "markdown",
   "id": "b316e926",
   "metadata": {},
   "source": [
    "If you are working with unevenly-spaced time series, try traces. traces allows you to get the values of the datetimes not specified in your time series based on the values of other datetimes.  "
   ]
  },
  {
   "cell_type": "markdown",
   "id": "8908c90c",
   "metadata": {},
   "source": [
    "For example, while logging our working hours for each date, we forgot to log the working hours for some dates."
   ]
  },
  {
   "cell_type": "code",
   "execution_count": 21,
   "id": "043bef64",
   "metadata": {
    "ExecuteTime": {
     "end_time": "2021-09-17T13:40:03.959902Z",
     "start_time": "2021-09-17T13:40:03.951958Z"
    }
   },
   "outputs": [],
   "source": [
    "# Log working hours for each date\n",
    "import traces \n",
    "from datetime import datetime \n",
    "\n",
    "working_hours = traces.TimeSeries()\n",
    "working_hours[datetime(2021, 9, 10)] = 10\n",
    "working_hours[datetime(2021, 9, 12)] = 5\n",
    "working_hours[datetime(2021, 9, 13)] = 6\n",
    "working_hours[datetime(2021, 9, 16)] = 2"
   ]
  },
  {
   "cell_type": "markdown",
   "id": "6fd92f6b",
   "metadata": {},
   "source": [
    "We can get the working hours of dates we forgot to log using traces."
   ]
  },
  {
   "cell_type": "code",
   "execution_count": 22,
   "id": "8c5d0360",
   "metadata": {
    "ExecuteTime": {
     "end_time": "2021-09-17T13:40:04.324916Z",
     "start_time": "2021-09-17T13:40:04.316678Z"
    }
   },
   "outputs": [
    {
     "data": {
      "text/plain": [
       "10"
      ]
     },
     "execution_count": 22,
     "metadata": {},
     "output_type": "execute_result"
    }
   ],
   "source": [
    "# Get value on 2021/09/11\n",
    "working_hours[datetime(2021, 9, 11)]"
   ]
  },
  {
   "cell_type": "code",
   "execution_count": 23,
   "id": "da4fcf63",
   "metadata": {
    "ExecuteTime": {
     "end_time": "2021-09-17T13:40:04.738377Z",
     "start_time": "2021-09-17T13:40:04.728411Z"
    }
   },
   "outputs": [
    {
     "data": {
      "text/plain": [
       "6"
      ]
     },
     "execution_count": 23,
     "metadata": {},
     "output_type": "execute_result"
    }
   ],
   "source": [
    "# Get value on 2021/09/14\n",
    "working_hours[datetime(2021, 9, 14)]"
   ]
  },
  {
   "cell_type": "markdown",
   "id": "492e7d13",
   "metadata": {},
   "source": [
    "We can also get the distribution of our working hours from `2021-9-10` to `2021-9-16` using `distribution`:"
   ]
  },
  {
   "cell_type": "code",
   "execution_count": 24,
   "id": "655051dc",
   "metadata": {
    "ExecuteTime": {
     "end_time": "2021-09-17T13:40:05.130518Z",
     "start_time": "2021-09-17T13:40:05.119611Z"
    }
   },
   "outputs": [
    {
     "data": {
      "text/plain": [
       "Histogram({5: 0.16666666666666666, 6: 0.5, 10: 0.3333333333333333})"
      ]
     },
     "execution_count": 24,
     "metadata": {},
     "output_type": "execute_result"
    }
   ],
   "source": [
    "distribution = working_hours.distribution(\n",
    "    start=datetime(2021, 9, 10),\n",
    "    end=datetime(2021, 9, 16)\n",
    ")\n",
    "distribution"
   ]
  },
  {
   "cell_type": "markdown",
   "id": "b0b79eb6",
   "metadata": {},
   "source": [
    "From the output above, it seems like we work 6 hours per day 50% of the time."
   ]
  },
  {
   "cell_type": "markdown",
   "id": "17d5fa8e",
   "metadata": {
    "ExecuteTime": {
     "end_time": "2021-09-17T13:50:55.204624Z",
     "start_time": "2021-09-17T13:50:55.198327Z"
    }
   },
   "source": [
    "Get the median working hours:"
   ]
  },
  {
   "cell_type": "code",
   "execution_count": 25,
   "id": "f996c071",
   "metadata": {
    "ExecuteTime": {
     "end_time": "2021-09-17T13:40:05.774864Z",
     "start_time": "2021-09-17T13:40:05.766121Z"
    }
   },
   "outputs": [
    {
     "data": {
      "text/plain": [
       "6.0"
      ]
     },
     "execution_count": 25,
     "metadata": {},
     "output_type": "execute_result"
    }
   ],
   "source": [
    "distribution.median()"
   ]
  },
  {
   "cell_type": "markdown",
   "id": "7513fbc8",
   "metadata": {},
   "source": [
    "Get the mean working hours:"
   ]
  },
  {
   "cell_type": "code",
   "execution_count": 26,
   "id": "936f086b",
   "metadata": {
    "ExecuteTime": {
     "end_time": "2021-09-17T13:40:07.244166Z",
     "start_time": "2021-09-17T13:40:07.235732Z"
    }
   },
   "outputs": [
    {
     "data": {
      "text/plain": [
       "7.166666666666666"
      ]
     },
     "execution_count": 26,
     "metadata": {},
     "output_type": "execute_result"
    }
   ],
   "source": [
    "distribution.mean()"
   ]
  },
  {
   "cell_type": "markdown",
   "id": "62b955d6",
   "metadata": {},
   "source": [
    "[Link to traces](https://github.com/datascopeanalytics/traces)"
   ]
  },
  {
   "cell_type": "markdown",
   "id": "0296a05b",
   "metadata": {},
   "source": [
    "### Workalendar: Handle Working-Day Computation in Python  "
   ]
  },
  {
   "cell_type": "code",
   "execution_count": null,
   "id": "0a19882e",
   "metadata": {
    "ExecuteTime": {
     "end_time": "2022-01-19T13:54:31.064952Z",
     "start_time": "2022-01-19T13:54:27.385884Z"
    },
    "tags": [
     "hide-cell"
    ]
   },
   "outputs": [],
   "source": [
    "!pip install workalendar"
   ]
  },
  {
   "cell_type": "markdown",
   "id": "f5a3611e",
   "metadata": {},
   "source": [
    "If you want to handle calendars, holidays, and working-day-related computations, use Workalendar. Workalendar supports nearly 100 countries over the world. "
   ]
  },
  {
   "cell_type": "code",
   "execution_count": 9,
   "id": "688a0d9c",
   "metadata": {
    "ExecuteTime": {
     "end_time": "2022-01-19T13:58:58.174159Z",
     "start_time": "2022-01-19T13:58:58.168591Z"
    }
   },
   "outputs": [],
   "source": [
    "from datetime import date \n",
    "from workalendar.usa import UnitedStates\n",
    "from workalendar.asia import Japan"
   ]
  },
  {
   "cell_type": "code",
   "execution_count": 10,
   "id": "2ba2d6dd",
   "metadata": {
    "ExecuteTime": {
     "end_time": "2022-01-19T13:59:06.724467Z",
     "start_time": "2022-01-19T13:59:06.713606Z"
    }
   },
   "outputs": [
    {
     "data": {
      "text/plain": [
       "[(datetime.date(2021, 12, 31), 'New year (Observed)'),\n",
       " (datetime.date(2022, 1, 1), 'New year'),\n",
       " (datetime.date(2022, 1, 17), 'Birthday of Martin Luther King, Jr.'),\n",
       " (datetime.date(2022, 2, 21), \"Washington's Birthday\"),\n",
       " (datetime.date(2022, 5, 30), 'Memorial Day'),\n",
       " (datetime.date(2022, 7, 4), 'Independence Day'),\n",
       " (datetime.date(2022, 9, 5), 'Labor Day'),\n",
       " (datetime.date(2022, 10, 10), 'Columbus Day'),\n",
       " (datetime.date(2022, 11, 11), 'Veterans Day'),\n",
       " (datetime.date(2022, 11, 24), 'Thanksgiving Day'),\n",
       " (datetime.date(2022, 12, 25), 'Christmas Day'),\n",
       " (datetime.date(2022, 12, 26), 'Christmas Day (Observed)')]"
      ]
     },
     "execution_count": 10,
     "metadata": {},
     "output_type": "execute_result"
    }
   ],
   "source": [
    "# Get all holidays in the US\n",
    "\n",
    "US_cal = UnitedStates()\n",
    "US_cal.holidays(2022)"
   ]
  },
  {
   "cell_type": "code",
   "execution_count": 11,
   "id": "e3fa48a9",
   "metadata": {
    "ExecuteTime": {
     "end_time": "2022-01-19T13:59:13.583868Z",
     "start_time": "2022-01-19T13:59:13.574164Z"
    }
   },
   "outputs": [
    {
     "data": {
      "text/plain": [
       "False"
      ]
     },
     "execution_count": 11,
     "metadata": {},
     "output_type": "execute_result"
    }
   ],
   "source": [
    "US_cal.is_working_day(date(2022, 1, 22)) # Saturday"
   ]
  },
  {
   "cell_type": "code",
   "execution_count": 12,
   "id": "b9938755",
   "metadata": {
    "ExecuteTime": {
     "end_time": "2022-01-19T13:59:14.048097Z",
     "start_time": "2022-01-19T13:59:14.039498Z"
    }
   },
   "outputs": [
    {
     "data": {
      "text/plain": [
       "False"
      ]
     },
     "execution_count": 12,
     "metadata": {},
     "output_type": "execute_result"
    }
   ],
   "source": [
    "US_cal.is_working_day(date(2021, 12, 24)) # Thanksgiving Day"
   ]
  },
  {
   "cell_type": "code",
   "execution_count": 14,
   "id": "d076150b",
   "metadata": {
    "ExecuteTime": {
     "end_time": "2022-01-19T14:02:03.878723Z",
     "start_time": "2022-01-19T14:02:03.868988Z"
    }
   },
   "outputs": [
    {
     "data": {
      "text/plain": [
       "81"
      ]
     },
     "execution_count": 14,
     "metadata": {},
     "output_type": "execute_result"
    }
   ],
   "source": [
    "# Calculate working days between 2022/1/19 and 2022/5/15\n",
    "US_cal.get_working_days_delta(date(2022, 1, 19), date(2022, 5, 15))"
   ]
  },
  {
   "cell_type": "code",
   "execution_count": 13,
   "id": "6c57b7f3",
   "metadata": {
    "ExecuteTime": {
     "end_time": "2022-01-19T13:59:39.814367Z",
     "start_time": "2022-01-19T13:59:39.801981Z"
    }
   },
   "outputs": [
    {
     "data": {
      "text/plain": [
       "[(datetime.date(2022, 1, 1), 'New year'),\n",
       " (datetime.date(2022, 1, 10), 'Coming of Age Day'),\n",
       " (datetime.date(2022, 2, 11), 'Foundation Day'),\n",
       " (datetime.date(2022, 2, 23), \"The Emperor's Birthday\"),\n",
       " (datetime.date(2022, 3, 21), 'Vernal Equinox Day'),\n",
       " (datetime.date(2022, 4, 29), 'Showa Day'),\n",
       " (datetime.date(2022, 5, 3), 'Constitution Memorial Day'),\n",
       " (datetime.date(2022, 5, 4), 'Greenery Day'),\n",
       " (datetime.date(2022, 5, 5), \"Children's Day\"),\n",
       " (datetime.date(2022, 7, 18), 'Marine Day'),\n",
       " (datetime.date(2022, 8, 11), 'Mountain Day'),\n",
       " (datetime.date(2022, 9, 19), 'Respect-for-the-Aged Day'),\n",
       " (datetime.date(2022, 9, 23), 'Autumnal Equinox Day'),\n",
       " (datetime.date(2022, 10, 10), 'Sports Day'),\n",
       " (datetime.date(2022, 11, 3), 'Culture Day'),\n",
       " (datetime.date(2022, 11, 23), 'Labour Thanksgiving Day')]"
      ]
     },
     "execution_count": 13,
     "metadata": {},
     "output_type": "execute_result"
    }
   ],
   "source": [
    "# Get holidays in Japan\n",
    "JA_cal = Japan()\n",
    "JA_cal.holidays(2022)"
   ]
  },
  {
   "cell_type": "markdown",
   "id": "df5b0102",
   "metadata": {},
   "source": [
    "[Link to Workalendar](https://github.com/workalendar/workalendar)."
   ]
  }
 ],
 "metadata": {
  "celltoolbar": "Tags",
  "kernelspec": {
   "display_name": "Python 3.8.10 64-bit",
   "language": "python",
   "name": "python3810jvsc74a57bd0916dbcbb3f70747c44a77c7bcd40155683ae19c65e1c03b4aa3499c5328201f1"
  },
  "language_info": {
   "codemirror_mode": {
    "name": "ipython",
    "version": 3
   },
   "file_extension": ".py",
   "mimetype": "text/x-python",
   "name": "python",
   "nbconvert_exporter": "python",
   "pygments_lexer": "ipython3",
   "version": "3.8.10"
  },
  "toc": {
   "base_numbering": 1,
   "nav_menu": {},
   "number_sections": true,
   "sideBar": true,
   "skip_h1_title": false,
   "title_cell": "Table of Contents",
   "title_sidebar": "Contents",
   "toc_cell": false,
   "toc_position": {},
   "toc_section_display": true,
   "toc_window_display": false
  }
 },
 "nbformat": 4,
 "nbformat_minor": 5
}
