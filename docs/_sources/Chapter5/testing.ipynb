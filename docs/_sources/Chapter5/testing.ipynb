{
 "cells": [
  {
   "cell_type": "markdown",
   "id": "d6803dd0",
   "metadata": {},
   "source": [
    "## Testing"
   ]
  },
  {
   "cell_type": "markdown",
   "id": "2e6999ee",
   "metadata": {},
   "source": [
    "![](../img/test.png)"
   ]
  },
  {
   "cell_type": "markdown",
   "id": "d01255b5",
   "metadata": {},
   "source": [
    "### Efficiently Resume Work After Breaks with Failing Tests"
   ]
  },
  {
   "cell_type": "markdown",
   "id": "93ea0051",
   "metadata": {},
   "source": [
    "Do you forget what feature to implement when taking a break from work? \n",
    "\n",
    "To keep your train of thought, write a unit test that describes the desired behavior of the feature and makes it fail intentionally.\n",
    "\n",
    "This will give you a clear idea of what to work on when returning to the project, allowing you to get back on track faster."
   ]
  },
  {
   "cell_type": "markdown",
   "id": "c3a39c95",
   "metadata": {},
   "source": [
    "```python\n",
    "def calculate_average(nums: list):\n",
    "    return sum(nums)/len(nums) \n",
    "    # TODO: code to handle an empty list\n",
    "\n",
    "def test_calculate_average_two_nums():\n",
    "    # Will work\n",
    "    nums = [2, 3]\n",
    "    assert calculate_average(nums) == 2.5\n",
    "\n",
    "def test_calculate_average_empty_list():\n",
    "    # Will fail intentionally\n",
    "    nums = []\n",
    "    return calculate_average(nums) == 0 \n",
    "```"
   ]
  },
  {
   "cell_type": "markdown",
   "id": "49b09225",
   "metadata": {},
   "source": [
    "### Choose a Descriptive Name Over a Short One When Naming Your Function"
   ]
  },
  {
   "cell_type": "markdown",
   "id": "8929aa2b",
   "metadata": {},
   "source": [
    "Using a short and unclear name for a testing function may lead to confusion and misunderstandings. To make your tests more readable, use a descriptive name instead, even if it results in a longer name."
   ]
  },
  {
   "cell_type": "markdown",
   "id": "45433d0d",
   "metadata": {},
   "source": [
    "Instead of this:"
   ]
  },
  {
   "cell_type": "markdown",
   "id": "b5ae5106",
   "metadata": {},
   "source": [
    "```python\n",
    "def contain_word(word: str, text: str):\n",
    "    return word in text\n",
    "\n",
    "\n",
    "def test_contain_word_1():\n",
    "    assert contain_word(word=\"duck\", text=\"This is a duck\")\n",
    "\n",
    "\n",
    "def test_contain_word_2():\n",
    "    assert contain_word(word=\"duck\", text=\"This is my coworker, Mr. Duck\")\n",
    "```"
   ]
  },
  {
   "cell_type": "markdown",
   "id": "8344206a",
   "metadata": {},
   "source": [
    "Write this:"
   ]
  },
  {
   "cell_type": "markdown",
   "id": "1cdfbbd7",
   "metadata": {},
   "source": [
    "```python\n",
    "def contain_word(word: str, text: str):\n",
    "    return word in text\n",
    "\n",
    "\n",
    "def test_contain_word_exact():\n",
    "    assert contain_word(word=\"duck\", text=\"This is a duck\")\n",
    "\n",
    "\n",
    "def test_contain_word_different_case():\n",
    "    assert contain_word(word=\"duck\", text=\"This is my coworker, Mr. Duck\")\n",
    "```"
   ]
  },
  {
   "cell_type": "markdown",
   "id": "f19ae8ca",
   "metadata": {},
   "source": [
    "### pytest benchmark: A Pytest Fixture to Benchmark Your Code"
   ]
  },
  {
   "cell_type": "code",
   "execution_count": null,
   "id": "3b041432",
   "metadata": {
    "tags": [
     "hide-cell"
    ]
   },
   "outputs": [],
   "source": [
    "!pip install pytest-benchmark"
   ]
  },
  {
   "cell_type": "markdown",
   "id": "edaf1ee0",
   "metadata": {},
   "source": [
    "If you want to benchmark your code while testing with pytest, try pytest-benchmark."
   ]
  },
  {
   "cell_type": "markdown",
   "id": "be00f2a0",
   "metadata": {},
   "source": [
    "To use pytest-benchmark works, add `benchmark` to the test function that you want to benchmark."
   ]
  },
  {
   "cell_type": "code",
   "execution_count": null,
   "id": "5f1ec6b8",
   "metadata": {},
   "outputs": [],
   "source": [
    "%%writefile pytest_benchmark_example.py\n",
    "def list_comprehension(len_list=5):\n",
    "    return [i for i in range(len_list)]\n",
    "\n",
    "\n",
    "def test_concat(benchmark):\n",
    "    res = benchmark(list_comprehension)\n",
    "    assert res == [0, 1, 2, 3, 4]"
   ]
  },
  {
   "cell_type": "markdown",
   "id": "eb26f3b8",
   "metadata": {},
   "source": [
    "On your terminal, type:\n",
    "```bash\n",
    "$ pytest pytest_benchmark_example.py\n",
    "```\n",
    "Now you should see the statistics of the time it takes to execute the test functions on your terminal:"
   ]
  },
  {
   "cell_type": "code",
   "execution_count": null,
   "id": "5bfc9e66",
   "metadata": {
    "tags": [
     "remove-input"
    ]
   },
   "outputs": [],
   "source": [
    "!pytest pytest_benchmark_example.py"
   ]
  },
  {
   "cell_type": "markdown",
   "id": "6633914c",
   "metadata": {},
   "source": [
    "[Link to pytest-benchmark](https://github.com/ionelmc/pytest-benchmark)."
   ]
  },
  {
   "cell_type": "markdown",
   "id": "59909756",
   "metadata": {},
   "source": [
    "### pytest.mark.parametrize: Test Your Functions with Multiple Inputs"
   ]
  },
  {
   "cell_type": "code",
   "execution_count": null,
   "id": "6b153fdf",
   "metadata": {
    "tags": [
     "hide-cell"
    ]
   },
   "outputs": [],
   "source": [
    "!pip install pytest "
   ]
  },
  {
   "cell_type": "markdown",
   "id": "705ddebb",
   "metadata": {},
   "source": [
    "If you want to test your function with different examples, use `pytest.mark.parametrize` decorator.\n",
    "\n",
    "To use `pytest.mark.parametrize`, add `@pytest.mark.parametrize` to the test function that you want to experiment with."
   ]
  },
  {
   "cell_type": "code",
   "execution_count": null,
   "id": "6742abd6",
   "metadata": {},
   "outputs": [],
   "source": [
    "%%writefile pytest_parametrize.py\n",
    "import pytest\n",
    "\n",
    "def text_contain_word(word: str, text: str):\n",
    "    '''Find whether the text contains a particular word'''\n",
    "    \n",
    "    return word in text\n",
    "\n",
    "test = [\n",
    "    ('There is a duck in this text',True),\n",
    "    ('There is nothing here', False)\n",
    "    ]\n",
    "\n",
    "@pytest.mark.parametrize('sample, expected', test)\n",
    "def test_text_contain_word(sample, expected):\n",
    "\n",
    "    word = 'duck'\n",
    "\n",
    "    assert text_contain_word(word, sample) == expected"
   ]
  },
  {
   "cell_type": "markdown",
   "id": "a2225c4f",
   "metadata": {},
   "source": [
    "In the code above, I expect the first sentence to contain the word “duck” and expect the second sentence not to contain that word. Let's see if my expectations are correct by running:\n",
    "```bash\n",
    "$ pytest pytest_parametrize.py\n",
    "```"
   ]
  },
  {
   "cell_type": "code",
   "execution_count": null,
   "id": "39a9be73",
   "metadata": {
    "tags": [
     "remove-input"
    ]
   },
   "outputs": [],
   "source": [
    "!pytest -v pytest_parametrize.py"
   ]
  },
  {
   "cell_type": "markdown",
   "id": "07b78db2",
   "metadata": {},
   "source": [
    "Sweet! 2 tests passed when running pytest."
   ]
  },
  {
   "cell_type": "markdown",
   "id": "ee6970cb",
   "metadata": {},
   "source": [
    "[Link to my article about pytest](https://towardsdatascience.com/pytest-for-data-scientists-2990319e55e6?sk=2d3a81903b154db0c7ca832b9f29fee8)."
   ]
  },
  {
   "cell_type": "markdown",
   "id": "f50635f5",
   "metadata": {},
   "source": [
    "### pytest parametrize twice: Test All Possible Combinations of Two Sets of Parameters"
   ]
  },
  {
   "cell_type": "code",
   "execution_count": null,
   "id": "a631868e",
   "metadata": {
    "tags": [
     "hide-cell"
    ]
   },
   "outputs": [],
   "source": [
    "!pip install pytest "
   ]
  },
  {
   "cell_type": "markdown",
   "id": "1cde5efe",
   "metadata": {},
   "source": [
    "If you want to test the combinations of two sets of parameters, writing all possible combinations can be time-consuming and is difficult to read. \n",
    "\n",
    "```python\n",
    "import pytest\n",
    "\n",
    "def average(n1, n2):\n",
    "    return (n1 + n2) / 2\n",
    "\n",
    "def perc_difference(n1, n2):\n",
    "    return (n2 - n1)/n1 * 100\n",
    "\n",
    "# Test the combinations of operations and inputs\n",
    "@pytest.mark.parametrize(\"operation, n1, n2\", [(average, 1, 2), (average, 2, 3), (perc_difference, 1, 2), (perc_difference, 2, 3)])\n",
    "def test_is_float(operation, n1, n2):\n",
    "    assert isinstance(operation(n1, n2), float)\n",
    "```"
   ]
  },
  {
   "cell_type": "markdown",
   "id": "509f8d82",
   "metadata": {},
   "source": [
    "You can save your time by using `pytest.mark.parametrize` twice instead."
   ]
  },
  {
   "cell_type": "code",
   "execution_count": null,
   "id": "2d55eadc",
   "metadata": {},
   "outputs": [],
   "source": [
    "%%writefile pytest_combination.py\n",
    "import pytest\n",
    "\n",
    "def average(n1, n2):\n",
    "    return (n1 + n2) / 2\n",
    "\n",
    "def perc_difference(n1, n2):\n",
    "    return (n2 - n1)/n1 * 100\n",
    "\n",
    "# Test the combinations of operations and inputs\n",
    "@pytest.mark.parametrize(\"operation\", [average, perc_difference])\n",
    "@pytest.mark.parametrize(\"n1, n2\", [(1, 2), (2, 3)])\n",
    "def test_is_float(operation, n1, n2):\n",
    "    assert isinstance(operation(n1, n2), float)"
   ]
  },
  {
   "cell_type": "markdown",
   "id": "4617c3fc",
   "metadata": {},
   "source": [
    "On your terminal, run:\n",
    "```bash\n",
    "$ pytest -v pytest_combination.py\n",
    "```"
   ]
  },
  {
   "cell_type": "code",
   "execution_count": null,
   "id": "71a62b9c",
   "metadata": {
    "tags": [
     "remove-input"
    ]
   },
   "outputs": [],
   "source": [
    "!pytest -v pytest_combination.py"
   ]
  },
  {
   "cell_type": "markdown",
   "id": "4fc14d70",
   "metadata": {},
   "source": [
    "From the output above, we can see that all possible combinations of the given operations and inputs are tested."
   ]
  },
  {
   "cell_type": "markdown",
   "id": "5005c435",
   "metadata": {},
   "source": [
    "### Assign IDs to Test Cases"
   ]
  },
  {
   "cell_type": "markdown",
   "id": "726f8c68",
   "metadata": {},
   "source": [
    "When using pytest parametrize, it can be difficult to understand the role of each test case."
   ]
  },
  {
   "cell_type": "code",
   "execution_count": null,
   "id": "42d1f6db",
   "metadata": {},
   "outputs": [],
   "source": [
    "%%writefile pytest_without_ids.py\n",
    "from pytest import mark\n",
    "\n",
    "\n",
    "def average(n1, n2):\n",
    "    return (n1 + n2) / 2\n",
    "\n",
    "@mark.parametrize(\n",
    "    \"n1, n2\",\n",
    "    [(-1, -2), (2, 3), (0, 0)],\n",
    ")\n",
    "def test_is_float(n1, n2):\n",
    "    assert isinstance(average(n1, n2), float)"
   ]
  },
  {
   "cell_type": "markdown",
   "id": "1fc87c3f",
   "metadata": {},
   "source": [
    "```bash\n",
    "$ pytest -v pytest_without_ids.py \n",
    "```"
   ]
  },
  {
   "cell_type": "code",
   "execution_count": null,
   "id": "c973e402",
   "metadata": {
    "tags": [
     "remove-input"
    ]
   },
   "outputs": [],
   "source": [
    "!pytest -v pytest_without_ids.py "
   ]
  },
  {
   "cell_type": "markdown",
   "id": "191e1397",
   "metadata": {},
   "source": [
    "You can add `ids` to pytest parametrize to assign a name to each test case."
   ]
  },
  {
   "cell_type": "code",
   "execution_count": null,
   "id": "ea617cbf",
   "metadata": {},
   "outputs": [],
   "source": [
    "%%writefile pytest_ids.py\n",
    "from pytest import mark\n",
    "\n",
    "def average(n1, n2):\n",
    "    return (n1 + n2) / 2\n",
    "\n",
    "@mark.parametrize(\n",
    "    \"n1, n2\",\n",
    "    [(-1, -2), (2, 3), (0, 0)],\n",
    "    ids=[\"neg and neg\", \"pos and pos\", \"zero and zero\"],\n",
    ")\n",
    "def test_is_float(n1, n2):\n",
    "    assert isinstance(average(n1, n2), float)"
   ]
  },
  {
   "cell_type": "markdown",
   "id": "d10dfe91",
   "metadata": {},
   "source": [
    "```bash\n",
    "$ pytest -v pytest_ids.py \n",
    "```"
   ]
  },
  {
   "cell_type": "code",
   "execution_count": null,
   "id": "9c8e8f6c",
   "metadata": {
    "tags": [
     "remove-input"
    ]
   },
   "outputs": [],
   "source": [
    "!pytest -v pytest_ids.py "
   ]
  },
  {
   "cell_type": "markdown",
   "id": "ab7391c4",
   "metadata": {},
   "source": [
    "We can see that instead of `[-1--2]`, the first test case is shown as `neg and neg`. This makes it easier for others to understand the roles of your test cases."
   ]
  },
  {
   "cell_type": "markdown",
   "id": "d0801ab0",
   "metadata": {},
   "source": [
    "If you want to specify the test IDs together with the actual data, instead of listing them separately, use `pytest.param`."
   ]
  },
  {
   "cell_type": "code",
   "execution_count": null,
   "id": "9a1906a3",
   "metadata": {},
   "outputs": [],
   "source": [
    "%%writefile pytest_param.py\n",
    "import pytest\n",
    "\n",
    "\n",
    "def average(n1, n2):\n",
    "    return (n1 + n2) / 2\n",
    "\n",
    "\n",
    "examples = [\n",
    "    pytest.param(-1, -2, id=\"neg-neg\"),\n",
    "    pytest.param(2, 3, id=\"pos-pos\"),\n",
    "    pytest.param(0, 0, id=\"0-0\"),\n",
    "]\n",
    "\n",
    "\n",
    "@pytest.mark.parametrize(\"n1, n2\", examples)\n",
    "def test_is_float(n1, n2):\n",
    "    assert isinstance(average(n1, n2), float)"
   ]
  },
  {
   "cell_type": "markdown",
   "id": "a94207f0",
   "metadata": {},
   "source": [
    "```bash\n",
    "$ pytest -v pytest_param.py\n",
    "```"
   ]
  },
  {
   "cell_type": "code",
   "execution_count": null,
   "id": "c68dfd02",
   "metadata": {
    "tags": [
     "hide-inpy"
    ]
   },
   "outputs": [],
   "source": [
    "!pytest -v pytest_param.py"
   ]
  },
  {
   "cell_type": "markdown",
   "id": "46d3efad",
   "metadata": {},
   "source": [
    "### Pytest Fixtures: Use The Same Data for Different Tests"
   ]
  },
  {
   "cell_type": "code",
   "execution_count": null,
   "id": "8938b53a",
   "metadata": {
    "tags": [
     "hide-cell"
    ]
   },
   "outputs": [],
   "source": [
    "!pip install pytest textblob "
   ]
  },
  {
   "cell_type": "markdown",
   "id": "e7c2add8",
   "metadata": {},
   "source": [
    "If you want to use the same data to test different functions, use pytest fixtures."
   ]
  },
  {
   "cell_type": "markdown",
   "id": "b3f3f0fc",
   "metadata": {},
   "source": [
    "To use pytest fixtures,  add the decorator `@pytest.fixture` to the function that creates the data you want to reuse."
   ]
  },
  {
   "cell_type": "code",
   "execution_count": null,
   "id": "1b1f6fd1",
   "metadata": {},
   "outputs": [],
   "source": [
    "%%writefile pytest_fixture.py\n",
    "import pytest \n",
    "from textblob import TextBlob\n",
    "\n",
    "def extract_sentiment(text: str):\n",
    "    \"\"\"Extract sentimetn using textblob. Polarity is within range [-1, 1]\"\"\"\n",
    "    \n",
    "    text = TextBlob(text)\n",
    "    return text.sentiment.polarity\n",
    "\n",
    "@pytest.fixture \n",
    "def example_data():\n",
    "    return 'Today I found a duck and I am happy'\n",
    "\n",
    "def test_extract_sentiment(example_data):\n",
    "    sentiment = extract_sentiment(example_data)\n",
    "    assert sentiment > 0"
   ]
  },
  {
   "cell_type": "markdown",
   "id": "ca44e86c",
   "metadata": {},
   "source": [
    "On your terminal, type:\n",
    "```bash\n",
    "$ pytest pytest_fixture.py\n",
    "```\n",
    "Output:"
   ]
  },
  {
   "cell_type": "code",
   "execution_count": null,
   "id": "a757ce4e",
   "metadata": {
    "tags": [
     "remove-input"
    ]
   },
   "outputs": [],
   "source": [
    "!pytest pytest_fixture.py "
   ]
  },
  {
   "cell_type": "markdown",
   "id": "269b5220",
   "metadata": {},
   "source": [
    "### Execute a Fixture Only Once per Session"
   ]
  },
  {
   "cell_type": "markdown",
   "id": "a247441f",
   "metadata": {},
   "source": [
    "By default, every time you use a pytest fixture in a test, a fixture will be executed."
   ]
  },
  {
   "cell_type": "markdown",
   "id": "7fe1f6e5",
   "metadata": {},
   "source": [
    "```python\n",
    "# example.py\n",
    "import pytest \n",
    "\n",
    "@pytest.fixture\n",
    "def my_data():\n",
    "    print(\"Reading data...\")\n",
    "    return 1\n",
    "\n",
    "def test_division(my_data):\n",
    "    print(\"Test division...\")\n",
    "    assert my_data / 2 == 0.5\n",
    "\n",
    "def test_modulus(my_data):\n",
    "    print(\"Test modulus...\")\n",
    "    assert my_data % 2 == 1\n",
    "```\n",
    "From the output, we can see that the fixture `my_data` is executed twice.\n",
    "\n",
    "```bash\n",
    "$ pytest example.py -s\n",
    "Reading data...\n",
    "Test division...\n",
    "Reading data...\n",
    "Test modulus...\n",
    "```"
   ]
  },
  {
   "cell_type": "markdown",
   "id": "dd19371c",
   "metadata": {},
   "source": [
    "If a fixture is expensive to execute, you can make the fixture be executed only once per session using `scope=session`."
   ]
  },
  {
   "cell_type": "code",
   "execution_count": null,
   "id": "31b65cb8",
   "metadata": {},
   "outputs": [],
   "source": [
    "%%writefile pytest_scope.py\n",
    "import pytest \n",
    "\n",
    "@pytest.fixture(scope=\"session\")\n",
    "def my_data():\n",
    "    print(\"Reading data...\")\n",
    "    return 1\n",
    "\n",
    "def test_division(my_data):\n",
    "    print(\"Test division...\")\n",
    "    assert my_data / 2 == 0.5\n",
    "\n",
    "def test_modulus(my_data):\n",
    "    print(\"Test modulus...\")\n",
    "    assert my_data % 2 == 1"
   ]
  },
  {
   "cell_type": "markdown",
   "id": "2a3a8ff1",
   "metadata": {},
   "source": [
    "From the output, we can see that the fixture `my_data` is executed only once.\n",
    "```bash\n",
    "$ pytest pytest_scope.py -s\n",
    "Reading data...\n",
    "Test division...\n",
    "Test modulus...\n",
    "```"
   ]
  },
  {
   "cell_type": "markdown",
   "id": "5fb612d3",
   "metadata": {},
   "source": [
    "### Pytest skipif: Skip a Test When a Condition is Not Met"
   ]
  },
  {
   "cell_type": "markdown",
   "id": "f3e5c62e",
   "metadata": {},
   "source": [
    "If you want to skip a test when a condition is not met, use pytest `skipif`. For example, in the code below, I use `skipif` to skip a test if the python version is less than 3.9."
   ]
  },
  {
   "cell_type": "code",
   "execution_count": null,
   "id": "e1b937c6",
   "metadata": {},
   "outputs": [],
   "source": [
    "%%writefile pytest_skip.py\n",
    "import sys\n",
    "import pytest \n",
    "\n",
    "def add_two(num: int):\n",
    "    return num + 2 \n",
    "\n",
    "@pytest.mark.skipif(sys.version_info < (3, 9), reason=\"Eequires Python 3.9 or higher\")\n",
    "def test_add_two(): \n",
    "    assert add_two(3) == 5"
   ]
  },
  {
   "cell_type": "markdown",
   "id": "8f529021",
   "metadata": {},
   "source": [
    "On your terminal, type:\n",
    "```bash\n",
    "$ pytest pytest_skip.py -v \n",
    "```\n",
    "\n",
    "Output:"
   ]
  },
  {
   "cell_type": "code",
   "execution_count": null,
   "id": "d317c1f2",
   "metadata": {
    "tags": [
     "remove-input"
    ]
   },
   "outputs": [],
   "source": [
    "!pytest pytest_skip.py -v "
   ]
  },
  {
   "cell_type": "markdown",
   "id": "8004fcfb",
   "metadata": {},
   "source": [
    "### Pytest xfail: Mark a Test as Expected to Fail"
   ]
  },
  {
   "cell_type": "markdown",
   "id": "13edaa35",
   "metadata": {},
   "source": [
    "If you expect a test to fail, use pytest `xfail` marker. This will prevent pytest from marking a test as failed when there is an exception.\n",
    "\n",
    "To be more specific about what exception you expect to see, use the `raises` argument."
   ]
  },
  {
   "cell_type": "code",
   "execution_count": null,
   "id": "f2fc16c5",
   "metadata": {},
   "outputs": [],
   "source": [
    "import pandas as pd\n",
    "\n",
    "df = pd.DataFrame(\n",
    "    {\n",
    "        \"col1\": [1, 2, 3, 4, 3],\n",
    "        \"col2\": [\"a\", \"a\", \"b\", \"b\", \"c\"],\n",
    "    }\n",
    ")\n",
    "\n",
    "df.groupby([\"col2\"]).agg({\"col1\": \"mean\"})"
   ]
  },
  {
   "cell_type": "code",
   "execution_count": null,
   "id": "9101fd1b",
   "metadata": {},
   "outputs": [],
   "source": [
    "%%writefile pytest_mark_xfail.py\n",
    "import pytest\n",
    "import pandas as pd\n",
    "import numpy as np\n",
    "\n",
    "\n",
    "def get_mean(df, group_column, value_column):\n",
    "    if df[group_column].isna().any():\n",
    "        raise ValueError(\"Group column contains NaN values\")\n",
    "    return df.groupby(group_column)[value_column].mean()\n",
    "\n",
    "\n",
    "@pytest.mark.xfail(raises=ValueError)\n",
    "def test_cget_mean():\n",
    "    df = pd.DataFrame({\"group\": [\"a\", np.nan, \"b\", \"b\"], \"value\": [1, 2, 3, 0]})\n",
    "    get_mean(df, \"group\", \"value\")"
   ]
  },
  {
   "cell_type": "markdown",
   "id": "cea4a69f",
   "metadata": {},
   "source": [
    "On your terminal, type:\n",
    "\n",
    "```bash\n",
    "$ pytest pytest_mark_xfail.py\n",
    "```\n",
    "\n",
    "We can see that no test failed."
   ]
  },
  {
   "cell_type": "code",
   "execution_count": null,
   "id": "8311f7db",
   "metadata": {
    "tags": [
     "remove-input"
    ]
   },
   "outputs": [],
   "source": [
    "!pytest pytest_mark_xfail.py"
   ]
  },
  {
   "cell_type": "markdown",
   "id": "c3997bd1",
   "metadata": {},
   "source": [
    "### Stop Flaky Float Tests with pytest.approx()"
   ]
  },
  {
   "cell_type": "markdown",
   "id": "f9323026",
   "metadata": {},
   "source": [
    "When working with floating-point numbers in tests, comparing exact equality often fails due to inherent precision limitations, which results in flaky or unreliable tests.\n",
    "\n",
    "You can use `pytest.approx()` to compare floating-point numbers with a reasonable tolerance, making your tests more robust and readable.\n",
    "\n",
    "Here's a code example to show its usefulness:"
   ]
  },
  {
   "cell_type": "code",
   "execution_count": null,
   "id": "1c867f2f",
   "metadata": {},
   "outputs": [],
   "source": [
    "%%writefile test_approx.py\n",
    "import pytest\n",
    "\n",
    "\n",
    "# Without pytest.approx - test fails\n",
    "def test_calculation_without_approx():\n",
    "    result = 0.1 + 0.2\n",
    "    assert result == 0.3  # This fails!\n",
    "\n",
    "\n",
    "# With pytest.approx - test passes\n",
    "def test_calculation_with_approx():\n",
    "    result = 0.1 + 0.2\n",
    "    assert result == pytest.approx(0.3)  # This passes!\n",
    "\n",
    "\n",
    "# Works with sequences too\n",
    "def test_list_of_floats():\n",
    "    results = [0.1 + 0.2, 0.2 + 0.4]\n",
    "    expected = [0.3, 0.6]\n",
    "    assert results == pytest.approx(expected)"
   ]
  },
  {
   "cell_type": "code",
   "execution_count": null,
   "id": "5aaf2ca0",
   "metadata": {},
   "outputs": [],
   "source": [
    "!pytest test_approx.py -sv"
   ]
  },
  {
   "cell_type": "markdown",
   "id": "4c7e8a1a",
   "metadata": {},
   "source": [
    "In these examples:\n",
    "- The first test fails because 0.1 + 0.2 in floating-point arithmetic doesn't exactly equal 0.3.\n",
    "- The second test passes because `pytest.approx()` allows for a small tolerance in the comparison (by default, relative tolerance of 1e-6).\n",
    "- The third example shows how it works with lists of numbers, making it convenient for comparing multiple results at once."
   ]
  },
  {
   "cell_type": "markdown",
   "id": "4a6cacdc",
   "metadata": {},
   "source": [
    "### Test for Specific Exceptions in Unit Testing"
   ]
  },
  {
   "cell_type": "markdown",
   "id": "60b2ba1c",
   "metadata": {},
   "source": [
    "To test for a specific exception in unit testing, use `pytest.raises`.\n",
    "\n",
    "For example, you can use it to test if a ValueError is thrown when there are NaN values in the group column."
   ]
  },
  {
   "cell_type": "code",
   "execution_count": null,
   "id": "6006e7d7",
   "metadata": {},
   "outputs": [],
   "source": [
    "%%writefile pytest_to_fail.py\n",
    "import pytest\n",
    "import pandas as pd\n",
    "import numpy as np\n",
    "\n",
    "\n",
    "def get_mean(df, group_column, value_column):\n",
    "    if df[group_column].isna().any():\n",
    "        raise ValueError(\"Group column contains NaN values\")\n",
    "    return df.groupby(group_column)[value_column].mean()\n",
    "\n",
    "\n",
    "def test_get_mean():\n",
    "    with pytest.raises(ValueError):\n",
    "        df = pd.DataFrame({\"group\": [\"a\", np.nan, \"b\", \"b\"], \"value\": [1, 2, 3, 0]})\n",
    "        get_mean(df, \"group\", \"value\")"
   ]
  },
  {
   "cell_type": "markdown",
   "id": "c47ea35c",
   "metadata": {},
   "source": [
    "```bash\n",
    "$ pytest pytest_to_fail.py\n",
    "```"
   ]
  },
  {
   "cell_type": "code",
   "execution_count": null,
   "id": "6dfa0b5c",
   "metadata": {
    "tags": [
     "remove-input"
    ]
   },
   "outputs": [],
   "source": [
    "!pytest pytest_to_fail.py"
   ]
  },
  {
   "cell_type": "markdown",
   "id": "cfce0016",
   "metadata": {},
   "source": [
    "### Organize and Control Test Execution using pytest.mark"
   ]
  },
  {
   "cell_type": "markdown",
   "id": "e9d037ba",
   "metadata": {},
   "source": [
    "pytest.mark lets you label test functions for conditional or selective execution based on specific needs. \n",
    "\n",
    "For instance, you can mark slow tests or tests involving integration with external services to run them separately or exclude them from regular test runs. This helps you organize and execute your tests more effectively."
   ]
  },
  {
   "cell_type": "code",
   "execution_count": null,
   "id": "1ccb70e2",
   "metadata": {},
   "outputs": [],
   "source": [
    "%%writefile pytest_mark.py\n",
    "import pytest\n",
    "import time\n",
    "\n",
    "\n",
    "@pytest.mark.slow\n",
    "def test_long_running_function():\n",
    "    # Test that takes a long time to complete\n",
    "    time.sleep(5)\n",
    "\n",
    "\n",
    "@pytest.mark.db\n",
    "def test_database_interaction():\n",
    "    # Test that requires a database connection\n",
    "    pass\n",
    "\n",
    "\n",
    "def test_function_1():\n",
    "    pass\n",
    "\n",
    "\n",
    "def test_function_2():\n",
    "    pass"
   ]
  },
  {
   "cell_type": "markdown",
   "id": "c118388e",
   "metadata": {},
   "source": [
    "Run only slow tests:\n",
    "\n",
    "```bash\n",
    "$ pytest pytest_mark.py -m slow\n",
    "```"
   ]
  },
  {
   "cell_type": "code",
   "execution_count": null,
   "id": "d74a9838",
   "metadata": {
    "tags": [
     "remove-input"
    ]
   },
   "outputs": [],
   "source": [
    "!pytest pytest_mark.py -m slow --disable-pytest-warnings"
   ]
  },
  {
   "cell_type": "markdown",
   "id": "b57fc6d5",
   "metadata": {},
   "source": [
    "Skip slow tests:\n",
    "\n",
    "```bash\n",
    "$ pytest pytest_mark.py -m \"not slow\"\n",
    "```"
   ]
  },
  {
   "cell_type": "code",
   "execution_count": null,
   "id": "77cbb91a",
   "metadata": {
    "tags": [
     "remove-input"
    ]
   },
   "outputs": [],
   "source": [
    "!pytest pytest_mark.py -m \"not slow\" --disable-pytest-warnings"
   ]
  },
  {
   "cell_type": "markdown",
   "id": "fdf7688f",
   "metadata": {},
   "source": [
    "Skip database tests:\n",
    "\n",
    "```bash\n",
    "$ pytest pytest_mark.py -m \"not db\" \n",
    "```"
   ]
  },
  {
   "cell_type": "code",
   "execution_count": null,
   "id": "e592724f",
   "metadata": {
    "tags": [
     "remove-input"
    ]
   },
   "outputs": [],
   "source": [
    "!pytest pytest_mark.py -m \"not db\" --disable-pytest-warnings"
   ]
  },
  {
   "cell_type": "markdown",
   "id": "01954d34",
   "metadata": {},
   "source": [
    "### Verify Logging Error with pytest"
   ]
  },
  {
   "cell_type": "markdown",
   "id": "07709366",
   "metadata": {},
   "source": [
    "To ensure that your application logs an error under a specific condition, use the built-in fixture called `caplog` in pytest. \n",
    "\n",
    "This fixture allows you to capture log messages generated during the execution of your test."
   ]
  },
  {
   "cell_type": "code",
   "execution_count": null,
   "id": "9f663f01",
   "metadata": {},
   "outputs": [],
   "source": [
    "%%writefile test_logging.py\n",
    "from logging import getLogger\n",
    "\n",
    "logger = getLogger(__name__)\n",
    "\n",
    "def divide(num1: float, num2: float) -> float:\n",
    "    if num2 == 0:\n",
    "        logger.error(f\"Can't divide {num1} by 0\")\n",
    "    else:\n",
    "        logger.info(f\"Divide {num1} by {num2}\")\n",
    "        return num1 / num2\n",
    "\n",
    "def test_divide_by_0(caplog):\n",
    "    divide(1, 0)\n",
    "    assert \"Can't divide 1 by 0\" in caplog.text"
   ]
  },
  {
   "cell_type": "markdown",
   "id": "bcbca073",
   "metadata": {},
   "source": [
    "```bash\n",
    "$ pytest test_logging.py\n",
    "```"
   ]
  },
  {
   "cell_type": "code",
   "execution_count": null,
   "id": "e71fb448",
   "metadata": {
    "tags": [
     "remove-input"
    ]
   },
   "outputs": [],
   "source": [
    "!pytest test_logging.py "
   ]
  },
  {
   "cell_type": "markdown",
   "id": "b93082dc",
   "metadata": {},
   "source": [
    "### Pytest repeat"
   ]
  },
  {
   "cell_type": "code",
   "execution_count": null,
   "id": "a19516e0",
   "metadata": {
    "tags": [
     "hide-cell"
    ]
   },
   "outputs": [],
   "source": [
    "!pip install pytest-repeat"
   ]
  },
  {
   "cell_type": "markdown",
   "id": "5b69a788",
   "metadata": {},
   "source": [
    "It is a good practice to test your functions to make sure they work as expected, but sometimes you need to test 100 times until you found the rare cases when the test fails. That is when pytest-repeat comes in handy.\n",
    "\n",
    "To use pytest-repeat, add the decorator `@pytest.mark.repeat(N)` to the test function you want to repeat `N` times"
   ]
  },
  {
   "cell_type": "code",
   "execution_count": null,
   "id": "e1feafac",
   "metadata": {},
   "outputs": [],
   "source": [
    "%%writfile pytest_repeat_example.py\n",
    "import pytest \n",
    "import random \n",
    "\n",
    "def generate_numbers():\n",
    "    return random.randint(1, 100)\n",
    "\n",
    "@pytest.mark.repeat(100)\n",
    "def test_generate_numbers():\n",
    "    assert generate_numbers() > 1 and generate_numbers() < 100"
   ]
  },
  {
   "cell_type": "markdown",
   "id": "f7ff321d",
   "metadata": {},
   "source": [
    "On your terminal, type:\n",
    "```bash\n",
    "$ pytest pytest_repeat_example.py\n",
    "```\n",
    "We can see that 100 experiments are executed and passed:"
   ]
  },
  {
   "cell_type": "code",
   "execution_count": null,
   "id": "ecdac078",
   "metadata": {
    "tags": [
     "remove-input"
    ]
   },
   "outputs": [],
   "source": [
    "!pytest pytest_repeat_example.py"
   ]
  },
  {
   "cell_type": "markdown",
   "id": "1db97653",
   "metadata": {},
   "source": [
    "[Link to pytest-repeat](https://github.com/pytest-dev/pytest-repeat)"
   ]
  },
  {
   "cell_type": "markdown",
   "id": "065d0fa9",
   "metadata": {},
   "source": [
    "### pytest-sugar: Show the Failures and Errors Instantly With a Progress Bar"
   ]
  },
  {
   "cell_type": "code",
   "execution_count": null,
   "id": "aef0c00d",
   "metadata": {
    "tags": [
     "hide-cell"
    ]
   },
   "outputs": [],
   "source": [
    "!pip install pytest-sugar "
   ]
  },
  {
   "cell_type": "markdown",
   "id": "0c4e0c2d",
   "metadata": {},
   "source": [
    "It can be frustrating to wait for a lot of tests to run before knowing the status of the tests. If you want to see the failures and errors instantly with a progress bar, use pytest-sugar. \n",
    "\n",
    "pytest-sugar is a plugin for pytest. To see how pytest-sugar works, assume we have several test files in the `pytest_sugar_example` directory."
   ]
  },
  {
   "cell_type": "code",
   "execution_count": null,
   "id": "f6d55817",
   "metadata": {},
   "outputs": [],
   "source": [
    "%ls pytest_sugar_example"
   ]
  },
  {
   "cell_type": "markdown",
   "id": "ade06906",
   "metadata": {},
   "source": [
    "The code below shows how the outputs will look like when running pytest."
   ]
  },
  {
   "cell_type": "markdown",
   "id": "2dd4c566",
   "metadata": {},
   "source": [
    "```bash\n",
    "$ pytest pytest_sugar_example\n",
    "```"
   ]
  },
  {
   "cell_type": "code",
   "execution_count": null,
   "id": "35b2cca6",
   "metadata": {
    "tags": [
     "remove-input"
    ]
   },
   "outputs": [],
   "source": [
    "!pytest pytest_sugar_example"
   ]
  },
  {
   "cell_type": "markdown",
   "id": "1caf1151",
   "metadata": {},
   "source": [
    "[Link to pytest-sugar](https://github.com/Teemu/pytest-sugar)."
   ]
  },
  {
   "cell_type": "markdown",
   "id": "94a5e48d",
   "metadata": {},
   "source": [
    "### pytest-steps: Share Data Between Tests"
   ]
  },
  {
   "cell_type": "markdown",
   "id": "6f4825f3",
   "metadata": {},
   "source": [
    "Have you ever wanted to use the result of one test for another test? That is when pytest_steps comes in handy."
   ]
  },
  {
   "cell_type": "markdown",
   "id": "1d5ccfad",
   "metadata": {},
   "source": [
    "![](../img/pytest_steps.png)"
   ]
  },
  {
   "cell_type": "markdown",
   "id": "e5e878e5",
   "metadata": {},
   "source": [
    "In the code below, I use the result of `sum_test` as the input of `average_2_nums`. The argument `steps_data` allows me to share the data between 2 tests."
   ]
  },
  {
   "cell_type": "code",
   "execution_count": null,
   "id": "bce03ea4",
   "metadata": {},
   "outputs": [],
   "source": [
    "%%writefile test_steps.py\n",
    "from pytest_steps import test_steps\n",
    "\n",
    "\n",
    "def sum(n1, n2):\n",
    "    return n1 + n2\n",
    "\n",
    "\n",
    "def average_2_nums(sum):\n",
    "    return sum / 2\n",
    "\n",
    "\n",
    "def sum_test(steps_data):\n",
    "    res = sum(1, 3)\n",
    "    assert res == 4\n",
    "    steps_data.res = res\n",
    "\n",
    "\n",
    "def perc_difference_test(steps_data):\n",
    "    avg = average_2_nums(steps_data.res)\n",
    "    assert avg == 2\n",
    "\n",
    "\n",
    "@test_steps(sum_test, perc_difference_test)\n",
    "def test_calc_suite(test_step, steps_data):\n",
    "    if test_step == 'sum_test':\n",
    "        sum_test(steps_data)\n",
    "    elif test_step == 'perc_difference_test':\n",
    "        perc_difference_test(steps_data)"
   ]
  },
  {
   "cell_type": "markdown",
   "id": "44677a60",
   "metadata": {},
   "source": [
    "```bash\n",
    "$ pytest test_steps.py\n",
    "```"
   ]
  },
  {
   "cell_type": "code",
   "execution_count": null,
   "id": "f0f8317e",
   "metadata": {
    "tags": [
     "remove-input"
    ]
   },
   "outputs": [],
   "source": [
    "!pytest test_steps.py"
   ]
  },
  {
   "cell_type": "markdown",
   "id": "04efe572",
   "metadata": {},
   "source": [
    "[Link to pytest_steps](https://smarie.github.io/python-pytest-steps/)."
   ]
  },
  {
   "cell_type": "markdown",
   "id": "e8f4c162",
   "metadata": {},
   "source": [
    "### pytest-picked: Run the Tests Related to the Unstaged Files in Git"
   ]
  },
  {
   "cell_type": "markdown",
   "id": "9c32a0d0",
   "metadata": {},
   "source": [
    "It can be time-consuming to run all tests in your project. Wouldn't it be nice if you can run only the tests related to the unstaged files in Git? That is when pytest-picked comes in handy.\n",
    "\n",
    "In the code below, only tests in the file `test_picked.py` are executed because it is an unstaged file."
   ]
  },
  {
   "cell_type": "code",
   "execution_count": null,
   "id": "631da060",
   "metadata": {},
   "outputs": [],
   "source": [
    "%%writefile test_picked.py\n",
    "def plus_one(num: int):\n",
    "    return num + 1\n",
    "\n",
    "\n",
    "def test_plus_one():\n",
    "    assert plus_one(2) == 3"
   ]
  },
  {
   "cell_type": "markdown",
   "id": "5ef98cbb",
   "metadata": {},
   "source": [
    "```bash\n",
    "$ git status\n",
    "```"
   ]
  },
  {
   "cell_type": "code",
   "execution_count": null,
   "id": "ff8879bd",
   "metadata": {
    "tags": [
     "remove-input"
    ]
   },
   "outputs": [],
   "source": [
    "!git status"
   ]
  },
  {
   "cell_type": "markdown",
   "id": "51ec3275",
   "metadata": {},
   "source": [
    "```bash\n",
    "$ pytest --picked\n",
    "```"
   ]
  },
  {
   "cell_type": "code",
   "execution_count": null,
   "id": "33b8ad91",
   "metadata": {
    "tags": [
     "remove-input"
    ]
   },
   "outputs": [],
   "source": [
    "!pytest --picked"
   ]
  },
  {
   "cell_type": "markdown",
   "id": "e750541e",
   "metadata": {},
   "source": [
    "[Link to pytest-picked](https://github.com/anapaulagomes/pytest-picked)."
   ]
  },
  {
   "cell_type": "markdown",
   "id": "ccecf83f",
   "metadata": {},
   "source": [
    "### Efficient Testing of Python Class with setUp Method"
   ]
  },
  {
   "cell_type": "markdown",
   "id": "ed458e13",
   "metadata": {},
   "source": [
    "When testing a Python class, it can be repetitive and time-consuming to create multiple instances to test a large number of instance methods."
   ]
  },
  {
   "cell_type": "code",
   "execution_count": null,
   "id": "ebe14647",
   "metadata": {},
   "outputs": [],
   "source": [
    "%%writefile get_dog.py \n",
    "class Dog:\n",
    "    def __init__(self, name, age):\n",
    "        self.name = name\n",
    "        self.age = age\n",
    "\n",
    "    def walk(self):\n",
    "        return f\"{self.name} is walking\"\n",
    "\n",
    "    def bark(self):\n",
    "        return f\"{self.name} is barking\""
   ]
  },
  {
   "cell_type": "code",
   "execution_count": null,
   "id": "5a03bb74",
   "metadata": {},
   "outputs": [],
   "source": [
    "%%writefile test_get_dog.py\n",
    "import unittest\n",
    "from get_dog import Dog\n",
    "\n",
    "class TestDog(unittest.TestCase):\n",
    "    def test_walk(self):\n",
    "        dog = Dog(\"Max\", 3) \n",
    "        dog.walk() == \"Max is walking\"\n",
    "\n",
    "    def test_bark(self):\n",
    "        dog = Dog(\"Max\", 3) \n",
    "        dog.bark() == \"Max is barking\""
   ]
  },
  {
   "cell_type": "markdown",
   "id": "bfb02a16",
   "metadata": {},
   "source": [
    "A better approach is to use the `setUp` method to instantiate a class object before running each test."
   ]
  },
  {
   "cell_type": "code",
   "execution_count": null,
   "id": "44b0ce08",
   "metadata": {},
   "outputs": [],
   "source": [
    "%%writefile test_get_dog.py\n",
    "import unittest\n",
    "from get_dog import Dog\n",
    "\n",
    "class TestDog(unittest.TestCase):\n",
    "    def setUp(self):\n",
    "        self.dog = Dog(\"Max\", 3)\n",
    "\n",
    "    def test_walk(self):\n",
    "        self.dog.walk() == \"Max is walking\"\n",
    "\n",
    "    def test_bark(self):\n",
    "        self.dog.bark() == \"Max is barking\""
   ]
  },
  {
   "cell_type": "markdown",
   "id": "d071fe9b",
   "metadata": {},
   "source": [
    "### FreezeGun: Freezing Time for Reliable Python Testing"
   ]
  },
  {
   "cell_type": "code",
   "execution_count": null,
   "id": "f384c26d",
   "metadata": {
    "tags": [
     "hide-cell"
    ]
   },
   "outputs": [],
   "source": [
    "!pip install freezegun"
   ]
  },
  {
   "cell_type": "markdown",
   "id": "16016325",
   "metadata": {},
   "source": [
    "Testing time-dependent functions can be challenging and unreliable as the results may vary based on when the test is executed. This results in flaky tests that pass or fail inconsistently."
   ]
  },
  {
   "cell_type": "markdown",
   "id": "12279d3a",
   "metadata": {},
   "source": [
    "With FreezeGun, you can freeze time at a particular point, ensuring your tests always run with the same date context."
   ]
  },
  {
   "cell_type": "code",
   "execution_count": null,
   "id": "954fab12",
   "metadata": {},
   "outputs": [],
   "source": [
    "%%writefile test_freezegun.py\n",
    "from freezegun import freeze_time\n",
    "import datetime \n",
    "\n",
    "def get_day_of_week():\n",
    "    return datetime.datetime.now().weekday()\n",
    "\n",
    "@freeze_time(\"2024-10-13\")\n",
    "def test_get_day_of_week():\n",
    "    assert get_day_of_week() == 6"
   ]
  },
  {
   "cell_type": "markdown",
   "id": "c663a07b",
   "metadata": {},
   "source": [
    "```bash\n",
    "$ pytest test_freezegun.py\n",
    "```"
   ]
  },
  {
   "cell_type": "code",
   "execution_count": null,
   "id": "7853da79",
   "metadata": {
    "tags": [
     "remove-input"
    ]
   },
   "outputs": [],
   "source": [
    "!pytest test_freezegun.py"
   ]
  },
  {
   "cell_type": "markdown",
   "id": "b369bc3f",
   "metadata": {},
   "source": [
    "This code uses `get_day_of_week()` to return the current weekday (0-6). The `@freeze_time(\"2024-10-13\")` decorator sets a fixed date (Sunday, October 13, 2024).\n",
    "\n",
    "The test calls `get_day_of_week()` and checks if it returns 6 (Sunday). This test will consistently pass because FreezeGun ensures `datetime.datetime.now()` always returns the specified frozen date."
   ]
  },
  {
   "cell_type": "markdown",
   "id": "190411b0",
   "metadata": {},
   "source": [
    "[Link to FreezeGun](https://github.com/spulec/freezegun)."
   ]
  },
  {
   "cell_type": "markdown",
   "id": "5609ecd2",
   "metadata": {},
   "source": [
    "### Simulate External Services in Testing with Mock Objects"
   ]
  },
  {
   "cell_type": "markdown",
   "id": "03e9c01c",
   "metadata": {},
   "source": [
    "Testing code that relies on external services, like a database, can be difficult since the behaviors of these services can change. \n",
    "\n",
    "A mock object can control the behavior of a real object in a testing environment by simulating responses from external services.\n",
    "\n",
    "Here are two common use cases with examples:"
   ]
  },
  {
   "cell_type": "markdown",
   "id": "73829644",
   "metadata": {},
   "source": [
    "1. **Mocking Time-Dependent Functions**\n",
    "\n",
    "When testing functions that depend on the current time or date, you can mock the time to ensure consistent results.\n",
    "\n",
    "Example: Testing a function that returns data for the last week"
   ]
  },
  {
   "cell_type": "code",
   "execution_count": null,
   "id": "49c6b9c8",
   "metadata": {},
   "outputs": [],
   "source": [
    "%%writefile main.py\n",
    "from datetime import datetime, timedelta\n",
    "\n",
    "\n",
    "def get_data_for_last_week():\n",
    "    end_date = datetime.now().date()\n",
    "    start_date = end_date - timedelta(days=7)\n",
    "    return {\n",
    "        \"start_date\": start_date.strftime(\"%Y-%m-%d\"),\n",
    "        \"end_date\": end_date.strftime(\"%Y-%m-%d\"),\n",
    "    }"
   ]
  },
  {
   "cell_type": "markdown",
   "id": "354d38f0",
   "metadata": {},
   "source": [
    "Now, let's create a test for this function using mock:"
   ]
  },
  {
   "cell_type": "code",
   "execution_count": null,
   "id": "d1137090",
   "metadata": {},
   "outputs": [],
   "source": [
    "%%writefile test_main.py\n",
    "from datetime import datetime\n",
    "from unittest.mock import patch\n",
    "from main import get_data_for_last_week\n",
    "\n",
    "\n",
    "@patch(\"main.datetime\")\n",
    "def test_get_data_for_last_week(mock_datetime):\n",
    "    # Set a fixed date for the test\n",
    "    mock_datetime.now.return_value = datetime(2024, 8, 5)\n",
    "\n",
    "    # Call the function\n",
    "    result = get_data_for_last_week()\n",
    "\n",
    "    # Assert the results\n",
    "    assert result[\"start_date\"] == \"2024-07-29\"\n",
    "    assert result[\"end_date\"] == \"2024-08-05\"\n",
    "\n",
    "    # Verify that datetime.now() was called\n",
    "    mock_datetime.now.assert_called_once()"
   ]
  },
  {
   "cell_type": "markdown",
   "id": "72946e48",
   "metadata": {},
   "source": [
    "This test mocks the `datetime.now()` method to return a fixed date, allowing for predictable and consistent test results."
   ]
  },
  {
   "cell_type": "code",
   "execution_count": null,
   "id": "f600addb",
   "metadata": {
    "tags": [
     "hide-cell"
    ]
   },
   "outputs": [],
   "source": [
    "!pytest -sv test_main.py"
   ]
  },
  {
   "cell_type": "markdown",
   "id": "c79dd6cd",
   "metadata": {},
   "source": [
    "2. **Mocking API calls**\n",
    "\n",
    "When testing code that makes external API calls, mocking helps avoid actual network requests during testing.\n",
    "\n",
    "Example: Testing a function that makes an API call"
   ]
  },
  {
   "cell_type": "code",
   "execution_count": null,
   "id": "e6663ed2",
   "metadata": {},
   "outputs": [],
   "source": [
    "%%writefile main.py\n",
    "import requests\n",
    "from requests.exceptions import ConnectionError\n",
    "\n",
    "\n",
    "def get_data():\n",
    "    \"\"\"Make an API call to Postgres\"\"\"\n",
    "    try:\n",
    "        response = requests.get(\"http://localhost:5432\")\n",
    "        return response.json()\n",
    "    except ConnectionError:\n",
    "        return None"
   ]
  },
  {
   "cell_type": "code",
   "execution_count": null,
   "id": "a26fd318",
   "metadata": {},
   "outputs": [],
   "source": [
    "%%writefile test_main.py\n",
    "from unittest.mock import patch\n",
    "from requests.exceptions import ConnectionError\n",
    "from main import get_data\n",
    "\n",
    "\n",
    "@patch(\"main.requests.get\")\n",
    "def test_get_data_fails(mock_get):\n",
    "    \"\"\"Test the get_data function when the API call fails\"\"\"\n",
    "    # Define what happens when the function is called\n",
    "    mock_get.side_effect = ConnectionError\n",
    "    assert get_data() is None\n",
    "\n",
    "\n",
    "@patch(\"main.requests.get\")\n",
    "def test_get_data_succeeds(mock_get):\n",
    "    \"\"\"Test the get_data function when the API call succeeds\"\"\"\n",
    "    # Define the return value of the function\n",
    "    mock_get.return_value.json.return_value = {\"data\": \"test\"}\n",
    "    assert get_data() == {\"data\": \"test\"}"
   ]
  },
  {
   "cell_type": "markdown",
   "id": "f162a1a7",
   "metadata": {},
   "source": [
    "These tests mock the `requests.get()` function to simulate both successful and failed API calls, allowing us to test our function's behavior in different scenarios without making actual network requests."
   ]
  },
  {
   "cell_type": "code",
   "execution_count": null,
   "id": "4cb46347",
   "metadata": {
    "tags": [
     "hide-cell"
    ]
   },
   "outputs": [],
   "source": [
    "!pytest test_main.py"
   ]
  },
  {
   "cell_type": "markdown",
   "id": "0984ebd8",
   "metadata": {},
   "source": [
    "By using mocks in these ways, we can create more reliable and controlled unit tests for our data projects, ensuring that our code behaves correctly under various conditions."
   ]
  },
  {
   "cell_type": "markdown",
   "id": "633e67fa",
   "metadata": {},
   "source": [
    "### pytest-mock vs unittest.mock: Simplifying Mocking in Python Tests"
   ]
  },
  {
   "cell_type": "code",
   "execution_count": null,
   "id": "52237421",
   "metadata": {
    "tags": [
     "hide-cell"
    ]
   },
   "outputs": [],
   "source": [
    "!pip install pytest-mock"
   ]
  },
  {
   "cell_type": "markdown",
   "id": "cec4d372",
   "metadata": {},
   "source": [
    "Traditional mocking with unittest.mock often requires repetitive setup and teardown code, which can make test code harder to read and maintain. \n",
    "\n",
    "pytest-mock addresses this issue by leveraging pytest's fixture system, simplifying the mocking process and reducing boilerplate code.\n",
    "\n",
    "Consider the following example that demonstrates the difference between unittest.mock and pytest-mock.\n",
    "\n",
    "Using unittest.mock:"
   ]
  },
  {
   "cell_type": "code",
   "execution_count": null,
   "id": "172ab195",
   "metadata": {},
   "outputs": [],
   "source": [
    "%%writefile test_rm_file.py\n",
    "from unittest.mock import patch\n",
    "import os\n",
    "\n",
    "\n",
    "def rm_file(filename):\n",
    "    os.remove(filename)\n",
    "\n",
    "\n",
    "def test_with_unittest_mock():\n",
    "    with patch(\"os.remove\") as mock_remove:\n",
    "        rm_file(\"file\")\n",
    "        mock_remove.assert_called_once_with(\"file\")"
   ]
  },
  {
   "cell_type": "code",
   "execution_count": null,
   "id": "2d48dfd2",
   "metadata": {},
   "outputs": [],
   "source": [
    "!pytest test_rm_file.py"
   ]
  },
  {
   "cell_type": "markdown",
   "id": "3fb1efbb",
   "metadata": {},
   "source": [
    "Using pytest-mock:"
   ]
  },
  {
   "cell_type": "code",
   "execution_count": null,
   "id": "75262f42",
   "metadata": {},
   "outputs": [],
   "source": [
    "%%writefile test_rm_file.py\n",
    "import os\n",
    "\n",
    "\n",
    "def rm_file(filename):\n",
    "    os.remove(filename)\n",
    "\n",
    "\n",
    "def test_unix_fs(mocker):\n",
    "    mocker.patch(\"os.remove\")\n",
    "    rm_file(\"file\")\n",
    "    os.remove.assert_called_once_with(\"file\")"
   ]
  },
  {
   "cell_type": "code",
   "execution_count": null,
   "id": "ef180fc9",
   "metadata": {},
   "outputs": [],
   "source": [
    "!pytest test_rm_file.py"
   ]
  },
  {
   "cell_type": "markdown",
   "id": "46569452",
   "metadata": {},
   "source": [
    "Key differences:\n",
    "\n",
    "1. Setup: pytest-mock uses the `mocker` fixture, automatically provided by pytest, eliminating the need to import patching utilities.\n",
    "\n",
    "2. Patching: With pytest-mock, you simply call `mocker.patch('os.remove')`, whereas unittest.mock requires a context manager or decorator.\n",
    "\n",
    "3. Cleanup: pytest-mock automatically undoes mocking after the test, while unittest.mock relies on the context manager for cleanup.\n",
    "\n",
    "4. Accessing mocks: pytest-mock allows direct access to the patched function (e.g., `os.remove.assert_called_once_with()`), while unittest.mock requires accessing the mock through a variable (e.g., `mock_remove.assert_called_once_with()`)."
   ]
  },
  {
   "cell_type": "markdown",
   "id": "643e27ed",
   "metadata": {},
   "source": [
    "[Link to pytest-mock](https://bit.ly/4dBDAOE)."
   ]
  },
  {
   "cell_type": "markdown",
   "id": "e3dd3517",
   "metadata": {},
   "source": [
    "### tmp_path: Create a Temporary Directory for Testing"
   ]
  },
  {
   "cell_type": "markdown",
   "id": "c43a674a",
   "metadata": {},
   "source": [
    "Use the `tmp_path` fixture in pytest to create a temporary directory for testing the function that interacts with files. This will prevent any changes to the actual filesystem or production files."
   ]
  },
  {
   "cell_type": "code",
   "execution_count": null,
   "id": "e8cae129",
   "metadata": {},
   "outputs": [],
   "source": [
    "%%writefile test_tmp_path.py\n",
    "from pathlib import Path\n",
    "\n",
    "\n",
    "def save_result(folder: str, file_name: str, text: str):\n",
    "    # Create new file inside the folder\n",
    "    file = Path(folder) / file_name\n",
    "    file.touch()\n",
    "\n",
    "    # Write result to the new file\n",
    "    file.write_text(text)\n",
    "\n",
    "def test_save_result(tmp_path):\n",
    "    # Create a temporary folder\n",
    "    folder = tmp_path / \"new\"\n",
    "    folder.mkdir() \n",
    "\n",
    "    file_name = \"my_file.txt\"\n",
    "    text = \"Accuracy: 0.9\"\n",
    "\n",
    "    save_result(folder=folder, file_name=file_name, text=text)\n",
    "    res = Path(f\"{folder}/{file_name}\").read_text()\n",
    "    assert res == text"
   ]
  },
  {
   "cell_type": "markdown",
   "id": "54a731b4",
   "metadata": {},
   "source": [
    "```bash\n",
    "$ pytest test_tmp_path.py\n",
    "```"
   ]
  },
  {
   "cell_type": "code",
   "execution_count": null,
   "id": "a0e39221",
   "metadata": {
    "tags": [
     "remove-input"
    ]
   },
   "outputs": [],
   "source": [
    "!pytest test_tmp_path.py"
   ]
  },
  {
   "cell_type": "markdown",
   "id": "1cfa882a",
   "metadata": {},
   "source": [
    "### Pandera: a Python Library to Validate Your Pandas DataFrame"
   ]
  },
  {
   "cell_type": "code",
   "execution_count": null,
   "id": "7df48c17",
   "metadata": {
    "tags": [
     "hide-cell"
    ]
   },
   "outputs": [],
   "source": [
    "!pip install -U pandera"
   ]
  },
  {
   "cell_type": "markdown",
   "id": "342bd234",
   "metadata": {},
   "source": [
    "Poor data quality can have severe consequences, including incorrect conclusions and subpar model performance. Moreover, processing invalid or incorrect data is a waste of time and resources. Therefore, it is crucial to verify the consistency and reliability of data before using it.\n",
    "\n",
    "pandera makes it easy to perform data validation on dataframe-like objects."
   ]
  },
  {
   "cell_type": "code",
   "execution_count": null,
   "id": "b0ee6a80",
   "metadata": {},
   "outputs": [],
   "source": [
    "import pandas as pd\n",
    "import pandera as pa\n",
    "\n",
    "student_df = pd.DataFrame(\n",
    "    {\n",
    "        \"name\": [\"John\", \"Jane\", \"Bob\"],\n",
    "        \"age\": [25, 30, 35],\n",
    "        \"score\": [95.5, 88.3, 92.7],\n",
    "    }\n",
    ")\n",
    "\n",
    "student_schema = pa.DataFrameSchema(\n",
    "    {\n",
    "        \"name\": pa.Column(str),\n",
    "        \"age\": pa.Column(int, pa.Check.between(0, 120)),\n",
    "        \"score\": pa.Column(float, pa.Check.between(0, 100)),\n",
    "    }\n",
    ")\n",
    "\n",
    "student_schema.validate(student_df)"
   ]
  },
  {
   "cell_type": "markdown",
   "id": "b32b7bf9",
   "metadata": {},
   "source": [
    "This code defines a schema using `DataFrameSchema` with three columns:\n",
    "\n",
    "1. `name`: a string column\n",
    "2. `age`: an integer column that must be between 0 and 120\n",
    "3. `score`: a float column that must be between 0 and 100\n",
    "\n",
    "It then validates a DataFrame `student_df` against this schema, returning the validated DataFrame if all validations pass."
   ]
  },
  {
   "cell_type": "markdown",
   "id": "f9e82370",
   "metadata": {},
   "source": [
    "If the dataframe does not pass validation checks, pandera provides useful error messages."
   ]
  },
  {
   "cell_type": "code",
   "execution_count": null,
   "id": "c0ed1858",
   "metadata": {},
   "outputs": [],
   "source": [
    "invalid_student_df = pd.DataFrame(\n",
    "    {\n",
    "        \"name\": [\"John\", \"Jane\", \"Bob\"],\n",
    "        \"age\": [25, 30, 200],\n",
    "        \"score\": [95.5, 88.3, 92.7],\n",
    "    }\n",
    ")\n",
    "\n",
    "try:\n",
    "    student_schema.validate(invalid_student_df)\n",
    "except pa.errors.SchemaError as err:\n",
    "    print(\"SchemarError:\", err)"
   ]
  },
  {
   "cell_type": "markdown",
   "id": "ec9535f0",
   "metadata": {},
   "source": [
    "To validate the inputs of a function before calling that function, use the `check_input` decorator. In the code below, the decorator validates the value of the `data` argument against the `input_schema`:"
   ]
  },
  {
   "cell_type": "code",
   "execution_count": null,
   "id": "e75edd30",
   "metadata": {},
   "outputs": [],
   "source": [
    "from pandera import check_input\n",
    "\n",
    "\n",
    "@check_input(student_schema)\n",
    "def calculate_grade(data: pd.DataFrame):\n",
    "    data[\"grade\"] = pd.cut(\n",
    "        data[\"score\"],\n",
    "        bins=[0, 70, 80, 90, 100],\n",
    "        labels=[\"F\", \"C\", \"B\", \"A\"],\n",
    "        include_lowest=True,\n",
    "    )\n",
    "    return data\n",
    "\n",
    "\n",
    "student_df = pd.DataFrame(\n",
    "    {\n",
    "        \"name\": [\"John\", \"Jane\", \"Bob\"],\n",
    "        \"age\": [25, 30, 35],\n",
    "        \"score\": [95.5, 88.3, 92.7],\n",
    "    }\n",
    ")\n",
    "\n",
    "calculate_grade(student_df)"
   ]
  },
  {
   "cell_type": "markdown",
   "id": "f7eafd9a",
   "metadata": {},
   "source": [
    "If the input does not conform to the schema, an error will be raised, preventing the function from executing with invalid data."
   ]
  },
  {
   "cell_type": "code",
   "execution_count": null,
   "id": "40bf27d1",
   "metadata": {},
   "outputs": [],
   "source": [
    "invalid_student_df = pd.DataFrame(\n",
    "    {\n",
    "        \"name\": [\"John\", \"Jane\", \"Bob\"],\n",
    "        \"age\": [25, 30, 200],\n",
    "        \"score\": [95.5, 88.3, 92.7],\n",
    "    }\n",
    ")\n",
    "\n",
    "try:\n",
    "    result = calculate_grade(invalid_student_df)\n",
    "except pa.errors.SchemaError as err:\n",
    "    print(\"SchemaError:\", err)"
   ]
  },
  {
   "cell_type": "markdown",
   "id": "f68521e6",
   "metadata": {},
   "source": [
    "[Link to Pandera](https://github.com/unionai-oss/pandera)."
   ]
  },
  {
   "cell_type": "markdown",
   "id": "b9f2e82b",
   "metadata": {},
   "source": [
    "### Validating Polars DataFrames with Pandera"
   ]
  },
  {
   "cell_type": "code",
   "execution_count": null,
   "id": "d7a26252",
   "metadata": {},
   "outputs": [],
   "source": [
    "!pip install -U 'pandera[polars]'"
   ]
  },
  {
   "cell_type": "markdown",
   "id": "5bf4e9d7",
   "metadata": {},
   "source": [
    "Pandera is a Python library that makes it easy to validate pandas DataFrame. Now, Pandera also supports Polars, a blazingly fast DataFrame library written in Rust."
   ]
  },
  {
   "cell_type": "code",
   "execution_count": null,
   "id": "9792acf4",
   "metadata": {},
   "outputs": [],
   "source": [
    "import pandera.polars as pa\n",
    "import polars as pl\n",
    "\n",
    "\n",
    "class Schema(pa.DataFrameModel):\n",
    "    state: str = pa.Field(isin=[\"FL\", \"CA\"])\n",
    "    city: str\n",
    "    price: int = pa.Field(in_range={\"min_value\": 5, \"max_value\": 20})\n",
    "\n",
    "\n",
    "lf = pl.LazyFrame(\n",
    "    {\n",
    "        \"state\": [\"FL\", \"FL\", \"FL\", \"CA\", \"CA\", \"CA\"],\n",
    "        \"city\": [\n",
    "            \"Orlando\",\n",
    "            \"Miami\",\n",
    "            \"Tampa\",\n",
    "            \"San Francisco\",\n",
    "            \"Los Angeles\",\n",
    "            \"San Diego\",\n",
    "        ],\n",
    "        \"price\": [8, 12, 10, 16, 20, 18],\n",
    "    }\n",
    ")\n",
    "Schema.validate(lf).collect()"
   ]
  },
  {
   "cell_type": "markdown",
   "id": "5770f866",
   "metadata": {},
   "source": [
    "You can also use the `check_types()` decorator to validate polars LazyFrame function annotations at runtime:"
   ]
  },
  {
   "cell_type": "code",
   "execution_count": null,
   "id": "ecc6e836",
   "metadata": {},
   "outputs": [],
   "source": [
    "from pandera.typing.polars import LazyFrame\n",
    "\n",
    "@pa.check_types\n",
    "def filter_state(lf: LazyFrame[Schema], state: str) -> LazyFrame[Schema]:\n",
    "    return lf.filter(pl.col(\"state\").eq(state))\n",
    "\n",
    "filter_state(lf, \"CA\").collect()"
   ]
  },
  {
   "cell_type": "markdown",
   "id": "8d90f24d",
   "metadata": {},
   "source": [
    "[Link to Pandera](https://github.com/unionai-oss/pandera)."
   ]
  },
  {
   "cell_type": "markdown",
   "id": "9f904b8f",
   "metadata": {},
   "source": [
    "### Efficiently Generate Falsified Examples for Unit Tests with Pandera and Hypothesis"
   ]
  },
  {
   "cell_type": "code",
   "execution_count": null,
   "id": "9d5c8692",
   "metadata": {
    "tags": [
     "hide-cell"
    ]
   },
   "outputs": [],
   "source": [
    "!pip install hypothesis pandera pytest"
   ]
  },
  {
   "cell_type": "markdown",
   "id": "998ca3a7",
   "metadata": {},
   "source": [
    "Generating readable edge cases for unit tests can often be a challenging task. However, with the combined power of Pandera and Hypothesis, you can efficiently detect falsified examples and write cleaner tests.\n",
    "\n",
    "Pandera allows you to define constraints for inputs and outputs, while Hypothesis automatically identifies edge cases that match the specified schema. Hypothesis further simplifies complex examples until it finds a smaller example that still reproduces the issue."
   ]
  },
  {
   "cell_type": "code",
   "execution_count": null,
   "id": "5f3dc5dc",
   "metadata": {},
   "outputs": [],
   "source": [
    "%%writefile test_processing_fn.py\n",
    "import hypothesis\n",
    "import pandera as pa\n",
    "\n",
    "# Specify the schema of the df used for testing\n",
    "schema = pa.DataFrameSchema(\n",
    "    {\n",
    "        \"val1\": pa.Column(int, pa.Check.in_range(-2, 3)),\n",
    "        \"val2\": pa.Column(int, pa.Check.in_range(-2, 3)),\n",
    "    }\n",
    ")\n",
    "\n",
    "out_schema = schema.add_columns(\n",
    "    {\n",
    "        \"val3\": pa.Column(float, pa.Check.in_range(-2, 3)),\n",
    "    },\n",
    ")\n",
    "\n",
    "\n",
    "@pa.check_output(out_schema)\n",
    "def processing_fn(df):\n",
    "    processed = df.assign(val3=df.val1/df.val2)\n",
    "    return processed\n",
    "\n",
    "\n",
    "@hypothesis.given(schema.strategy(size=5)) # Generate 5 examples\n",
    "def test_processing_fn(dataframe):\n",
    "    processing_fn(dataframe)"
   ]
  },
  {
   "cell_type": "code",
   "execution_count": null,
   "id": "6feea6be",
   "metadata": {
    "tags": [
     "remove-cell"
    ]
   },
   "outputs": [],
   "source": [
    "!pytest test_processing_fn.py "
   ]
  },
  {
   "cell_type": "markdown",
   "id": "0b3c8cbb",
   "metadata": {},
   "source": [
    "```bash\n",
    "$ pytest test_processing_fn.py \n",
    "```"
   ]
  },
  {
   "cell_type": "markdown",
   "id": "8ea2c467",
   "metadata": {},
   "source": [
    "```bash\n",
    "test_processing_fn.py F                                                  [100%]\n",
    "\n",
    "=================================== FAILURES ===================================\n",
    "______________________________ test_processing_fn ______________________________\n",
    "pandera.errors.SchemaError: error in check_output decorator of function 'processing_fn': non-nullable series 'val3' contains null values:\n",
    "0   NaN\n",
    "1   NaN\n",
    "2   NaN\n",
    "3   NaN\n",
    "4   NaN\n",
    "Name: val3, dtype: float64\n",
    "Falsifying example: test_processing_fn(\n",
    "    dataframe=\n",
    "           val1  val2\n",
    "        0     0     0\n",
    "        1     0     0\n",
    "        2     0     0\n",
    "        3     0     0\n",
    "        4     0     0\n",
    ")\n",
    "```"
   ]
  },
  {
   "cell_type": "markdown",
   "id": "36046018",
   "metadata": {},
   "source": [
    "### DeepDiff Find Deep Differences of Python Objects"
   ]
  },
  {
   "cell_type": "code",
   "execution_count": null,
   "id": "0bd06666",
   "metadata": {
    "tags": [
     "hide-cell"
    ]
   },
   "outputs": [],
   "source": [
    "!pip install deepdiff"
   ]
  },
  {
   "cell_type": "markdown",
   "id": "adc550fb",
   "metadata": {},
   "source": [
    "When testing the outputs of your functions, it can be frustrated to see your tests fail because of something you don't care too much about such as: \n",
    "\n",
    "- order of items in a list\n",
    "\n",
    "- different ways to specify the same thing such as abbreviation\n",
    "\n",
    "- exact value up to the last decimal point, etc\n",
    "\n",
    "\n",
    "Is there a way that you can exclude certain parts of the object from the comparison? That is when DeepDiff comes in handy."
   ]
  },
  {
   "cell_type": "code",
   "execution_count": null,
   "id": "dc205fb5",
   "metadata": {},
   "outputs": [],
   "source": [
    "from deepdiff import DeepDiff "
   ]
  },
  {
   "cell_type": "markdown",
   "id": "bfd03f7c",
   "metadata": {},
   "source": [
    "DeepDiff can output a meaningful comparison like below:"
   ]
  },
  {
   "cell_type": "code",
   "execution_count": null,
   "id": "7189f67f",
   "metadata": {},
   "outputs": [],
   "source": [
    "price1 = {'apple': 2, 'orange': 3, 'banana': [3, 2]}\n",
    "price2 = {'apple': 2, 'orange': 3, 'banana': [2, 3]}\n",
    "\n",
    "DeepDiff(price1, price2)"
   ]
  },
  {
   "cell_type": "markdown",
   "id": "6c521caf",
   "metadata": {},
   "source": [
    "With DeepDiff, you also have full control of which characteristics of the Python object DeepDiff should ignore. In the example below, since the order is ignored `[3, 2]` is equivalent to `[2, 3]`."
   ]
  },
  {
   "cell_type": "code",
   "execution_count": null,
   "id": "3e5f9d9a",
   "metadata": {},
   "outputs": [],
   "source": [
    "# Ignore orders \n",
    "\n",
    "DeepDiff(price1, price2, ignore_order=True)"
   ]
  },
  {
   "cell_type": "markdown",
   "id": "a5ed6bc3",
   "metadata": {},
   "source": [
    "We can also exclude certain part of our object from the comparison. In the code below, we ignore `ml` and `machine learning` since `ml` is a abbreviation of `machine learning`."
   ]
  },
  {
   "cell_type": "code",
   "execution_count": null,
   "id": "677e47a2",
   "metadata": {},
   "outputs": [],
   "source": [
    "experience1 = {\"machine learning\": 2, \"python\": 3}\n",
    "experience2 = {\"ml\": 2, \"python\": 3}\n",
    "\n",
    "DeepDiff(\n",
    "    experience1,\n",
    "    experience2,\n",
    "    exclude_paths={\"root['ml']\", \"root['machine learning']\"},\n",
    ")"
   ]
  },
  {
   "cell_type": "markdown",
   "id": "b390df01",
   "metadata": {},
   "source": [
    "Cmpare 2 numbers up to a specific decimal point:"
   ]
  },
  {
   "cell_type": "code",
   "execution_count": null,
   "id": "379b3f5c",
   "metadata": {},
   "outputs": [],
   "source": [
    "num1 = 0.258\n",
    "num2 = 0.259\n",
    "\n",
    "DeepDiff(num1, num2, significant_digits=2)"
   ]
  },
  {
   "cell_type": "markdown",
   "id": "5bafbf32",
   "metadata": {},
   "source": [
    "[Link to DeepDiff](https://github.com/seperman/deepdiff)."
   ]
  },
  {
   "cell_type": "markdown",
   "id": "d6170ae5",
   "metadata": {},
   "source": [
    "### dirty-equals: Write Declarative Assertions in Your Unit Tests"
   ]
  },
  {
   "cell_type": "code",
   "execution_count": null,
   "id": "02137912",
   "metadata": {
    "tags": [
     "hide-cell"
    ]
   },
   "outputs": [],
   "source": [
    "!pip install dirty-equals"
   ]
  },
  {
   "cell_type": "markdown",
   "id": "ccce63a2",
   "metadata": {},
   "source": [
    "If you want to write declarative assertions and avoid boilerplate code in your unit tests, try dirty_equals."
   ]
  },
  {
   "cell_type": "code",
   "execution_count": null,
   "id": "07a8663a",
   "metadata": {},
   "outputs": [],
   "source": [
    "from dirty_equals import IsNow, IsPartialDict, IsList, IsStr, IsTrueLike"
   ]
  },
  {
   "cell_type": "code",
   "execution_count": null,
   "id": "efab247d",
   "metadata": {},
   "outputs": [],
   "source": [
    "from datetime import datetime\n",
    "from datetime import timedelta\n",
    "\n",
    "shopping = {\n",
    "    \"time\": datetime.today().now(),\n",
    "    \"quantity\": {\"apple\": 1, \"banana\": 2, \"orange\": 1},\n",
    "    \"locations\": [\"Walmart\", \"Aldi\"],\n",
    "    \"is_male\": 1 \n",
    "}"
   ]
  },
  {
   "cell_type": "code",
   "execution_count": null,
   "id": "f964de0c",
   "metadata": {},
   "outputs": [],
   "source": [
    "assert shopping == {\n",
    "    \"time\": IsNow(delta=timedelta(hours=1)),\n",
    "    \"quantity\": IsPartialDict(apple=1, orange=1),\n",
    "    \"locations\": IsList(\"Aldi\", \"Walmart\", check_order=False),\n",
    "    \"is_male\": IsTrueLike\n",
    "}"
   ]
  },
  {
   "cell_type": "markdown",
   "id": "a55c6930",
   "metadata": {},
   "source": [
    "[Link to dirty-equals](https://github.com/samuelcolvin/dirty-equals)."
   ]
  },
  {
   "cell_type": "markdown",
   "id": "fd7cf0df",
   "metadata": {},
   "source": [
    "### hypothesis: Property-based Testing in Python"
   ]
  },
  {
   "cell_type": "code",
   "execution_count": null,
   "id": "ea939bf3",
   "metadata": {
    "tags": [
     "hide-code"
    ]
   },
   "outputs": [],
   "source": [
    "!pip install hypothesis"
   ]
  },
  {
   "cell_type": "markdown",
   "id": "ffd5dfbd",
   "metadata": {},
   "source": [
    "If you want to test some properties or assumptions, it can be cumbersome to write a wide range of scenarios. To automatically run your tests against a wide range of scenarios and find edge cases in your code that you would otherwise have missed, use hypothesis."
   ]
  },
  {
   "cell_type": "markdown",
   "id": "8c7902e5",
   "metadata": {},
   "source": [
    "In the code below, I test if the addition of two floats is commutative. The test fails when either `x` or `y` is `NaN`."
   ]
  },
  {
   "cell_type": "code",
   "execution_count": null,
   "id": "8c25fb68",
   "metadata": {},
   "outputs": [],
   "source": [
    "%%writefile test_hypothesis.py \n",
    "from hypothesis import given\n",
    "from hypothesis.strategies import floats\n",
    "\n",
    "\n",
    "\n",
    "@given(floats(), floats())\n",
    "def test_floats_are_commutative(x, y):\n",
    "    assert x + y == y + x"
   ]
  },
  {
   "cell_type": "markdown",
   "id": "21457fc5",
   "metadata": {},
   "source": [
    "```bash\n",
    "$ pytest test_hypothesis.py\n",
    "```"
   ]
  },
  {
   "cell_type": "code",
   "execution_count": null,
   "id": "d1f055a1",
   "metadata": {
    "tags": [
     "remove-input"
    ]
   },
   "outputs": [],
   "source": [
    "!pytest test_hypothesis.py"
   ]
  },
  {
   "cell_type": "markdown",
   "id": "286649e7",
   "metadata": {},
   "source": [
    "Now I can rewrite my code to make it more robust against these edge cases."
   ]
  },
  {
   "cell_type": "markdown",
   "id": "2167738f",
   "metadata": {},
   "source": [
    "[Link to hypothesis](https://hypothesis.readthedocs.io/en/latest/quickstart.html)."
   ]
  },
  {
   "cell_type": "markdown",
   "id": "93e1f281",
   "metadata": {},
   "source": [
    "### Deepchecks: Check Category Mismatch Between Train and Test Set"
   ]
  },
  {
   "cell_type": "code",
   "execution_count": null,
   "id": "36ced86e",
   "metadata": {
    "tags": [
     "hide-cell"
    ]
   },
   "outputs": [],
   "source": [
    "!pip install deepchecks "
   ]
  },
  {
   "cell_type": "markdown",
   "id": "40b273d7",
   "metadata": {},
   "source": [
    "Sometimes, it is important to know if your test set contains the same categories in the train set. If you want to check the category mismatch between the train and test set, use Deepchecks's `CategoryMismatchTrainTest`."
   ]
  },
  {
   "cell_type": "markdown",
   "id": "7836c8fe",
   "metadata": {},
   "source": [
    "In the example below, the result shows that there are 2 new categories in the test set. They are 'd' and 'e'."
   ]
  },
  {
   "cell_type": "code",
   "execution_count": null,
   "id": "4a167a28",
   "metadata": {},
   "outputs": [],
   "source": [
    "from deepchecks.checks.integrity.new_category import CategoryMismatchTrainTest\n",
    "from deepchecks.base import Dataset\n",
    "import pandas as pd"
   ]
  },
  {
   "cell_type": "code",
   "execution_count": null,
   "id": "70817d92",
   "metadata": {},
   "outputs": [],
   "source": [
    "train = pd.DataFrame({\"col1\": [\"a\", \"b\", \"c\"]})\n",
    "test = pd.DataFrame({\"col1\": [\"c\", \"d\", \"e\"]})\n",
    "\n",
    "train_ds = Dataset(train, cat_features=[\"col1\"])\n",
    "test_ds = Dataset(test, cat_features=[\"col1\"])"
   ]
  },
  {
   "cell_type": "code",
   "execution_count": null,
   "id": "3a2c1bd3",
   "metadata": {},
   "outputs": [],
   "source": [
    "CategoryMismatchTrainTest().run(train_ds, test_ds)"
   ]
  },
  {
   "cell_type": "markdown",
   "id": "e7ae0ab5",
   "metadata": {},
   "source": [
    "[Link to Deepchecks](https://docs.deepchecks.com/en/stable/)"
   ]
  },
  {
   "cell_type": "markdown",
   "id": "dd56e08e",
   "metadata": {},
   "source": [
    "### leAB: AB Testing Analysis in Python"
   ]
  },
  {
   "cell_type": "code",
   "execution_count": null,
   "id": "149f48b8",
   "metadata": {
    "tags": [
     "hide-cell"
    ]
   },
   "outputs": [],
   "source": [
    "!pip install leab"
   ]
  },
  {
   "cell_type": "markdown",
   "id": "22d2c21a",
   "metadata": {},
   "source": [
    "AB testing is crucial for assessing the effectiveness of changes in a controlled environment. With the leAB library, you can compute the appropriate sample size before launching the test."
   ]
  },
  {
   "cell_type": "code",
   "execution_count": null,
   "id": "d27d51c1",
   "metadata": {},
   "outputs": [],
   "source": [
    "from leab import before\n",
    "\n",
    "# What is the number of sample needed per variation to detect a 1% result \n",
    "# difference in a population with a 15% conversion rate?\n",
    "ab_test = before.leSample(conversion_rate=15, min_detectable_effect=1)\n",
    "ab_test.get_size_per_variation()"
   ]
  },
  {
   "cell_type": "markdown",
   "id": "67e016ac",
   "metadata": {},
   "source": [
    "After reaching the sample size, you can compare the successes between group A and group B."
   ]
  },
  {
   "cell_type": "code",
   "execution_count": null,
   "id": "13c8e4ca",
   "metadata": {},
   "outputs": [],
   "source": [
    "from leab import after, leDataset\n",
    "\n",
    "# Import sample data for A and B\n",
    "data = leDataset.SampleLeSuccess()\n",
    "data.A.head()"
   ]
  },
  {
   "cell_type": "code",
   "execution_count": null,
   "id": "ecd54255",
   "metadata": {},
   "outputs": [],
   "source": [
    "ab_test = after.leSuccess(data.A, data.B, confidence_level=0.95)\n",
    "\n",
    "# Get the conclusion on the test \n",
    "ab_test.get_verdict()"
   ]
  },
  {
   "cell_type": "markdown",
   "id": "091d1836",
   "metadata": {},
   "source": [
    "[Link to leAB](https://github.com/tlentali/leab)."
   ]
  },
  {
   "cell_type": "markdown",
   "id": "95085e53",
   "metadata": {},
   "source": [
    "### pytest-postgresql: Incorporate Database Testing into Your pytest Test Suite"
   ]
  },
  {
   "cell_type": "code",
   "execution_count": null,
   "id": "162dfc20",
   "metadata": {
    "tags": [
     "hide-cell"
    ]
   },
   "outputs": [],
   "source": [
    "!pip install pytest-postgresql"
   ]
  },
  {
   "cell_type": "markdown",
   "id": "32602a1e",
   "metadata": {},
   "source": [
    "If you want to incorporate database testing seamlessly within your pytest test suite, use pytest-postgresql.\n",
    "\n",
    "pytest-postgres provides fixtures that manage the setup and cleanup of test databases, ensuring repeatable tests. Additionally, each test runs in isolation, preventing any impact on the production database from testing changes."
   ]
  },
  {
   "cell_type": "markdown",
   "id": "0a566678",
   "metadata": {},
   "source": [
    "To see how pytest-postgres works, let's create a test function that sets up a test table in a PostgreSQL database, inserts some test data, and then verifies that the query results match the expected data."
   ]
  },
  {
   "cell_type": "code",
   "execution_count": null,
   "id": "54b017ff",
   "metadata": {},
   "outputs": [],
   "source": [
    "%%writefile test_postgres.py \n",
    "def test_query_results(postgresql):\n",
    "    \"\"\"Check that the query results are as expected.\"\"\"\n",
    "    with postgresql.cursor() as cur:\n",
    "        cur.execute(\"CREATE TABLE test_table (id SERIAL PRIMARY KEY, name VARCHAR);\")\n",
    "        cur.execute(\"INSERT INTO test_table (name) VALUES ('John'), ('Jane'), ('Alice');\")\n",
    "\n",
    "        # Assert the results\n",
    "        cur.execute(\"SELECT * FROM test_table;\")\n",
    "        assert cur.fetchall() == [(1, 'John'), (2, 'Jane'), (3, 'Alice')]"
   ]
  },
  {
   "cell_type": "markdown",
   "id": "8b189552",
   "metadata": {},
   "source": [
    "```bash\n",
    "$ pytest test_postgres.py \n",
    "```"
   ]
  },
  {
   "cell_type": "code",
   "execution_count": null,
   "id": "a81ccceb",
   "metadata": {
    "tags": [
     "remove-input"
    ]
   },
   "outputs": [],
   "source": [
    "!pytest test_postgres.py "
   ]
  },
  {
   "cell_type": "markdown",
   "id": "2bc05d93",
   "metadata": {},
   "source": [
    "[Link to pytest-postgresql](https://github.com/ClearcodeHQ/pytest-postgresql)."
   ]
  },
  {
   "cell_type": "markdown",
   "id": "cffe1be3",
   "metadata": {},
   "source": [
    "### Maintain the Accuracy of Docstring Examples with Doctest"
   ]
  },
  {
   "cell_type": "markdown",
   "id": "8bf56e87",
   "metadata": {},
   "source": [
    "Including examples in a docstring is helpful. However, examples can become obsolete as the function evolves.\n",
    "\n",
    "To ensure that the examples remain accurate, use doctest."
   ]
  },
  {
   "cell_type": "code",
   "execution_count": null,
   "id": "b0399254",
   "metadata": {
    "tags": [
     "remove-output"
    ]
   },
   "outputs": [],
   "source": [
    "%%writefile example.py \n",
    "def perc_difference(n1, n2):\n",
    "    \"\"\"Return the percentage difference between two numbers, n1 and n2.\n",
    "\n",
    "    Formula: ((n2 - n1) / n1) * 100\n",
    "\n",
    "    Examples:\n",
    "    >>> perc_difference(50, 60)\n",
    "    20.0\n",
    "    >>> perc_difference(100, 100)\n",
    "    0.0\n",
    "\n",
    "    :param n1: The first number (the original value).\n",
    "    :param n2: The second number (the new value).\n",
    "    :return: The percentage difference between n1 and n2 as a float.\n",
    "    \"\"\"\n",
    "    return ((n2 - n1) / n1) * 100\n",
    "\n",
    "\n",
    "if __name__ == \"__main__\":\n",
    "    import doctest\n",
    "    doctest.testmod()"
   ]
  },
  {
   "cell_type": "markdown",
   "id": "3c6a07b3",
   "metadata": {},
   "source": [
    "```bash\n",
    "$ python example.py -v\n",
    "```"
   ]
  },
  {
   "cell_type": "code",
   "execution_count": null,
   "id": "6c960e00",
   "metadata": {
    "tags": [
     "remove-input"
    ]
   },
   "outputs": [],
   "source": [
    "!python example.py -v"
   ]
  },
  {
   "cell_type": "markdown",
   "id": "5598c68b",
   "metadata": {},
   "source": [
    "### DeepEval: Unit Testing for Your LLM Model"
   ]
  },
  {
   "cell_type": "code",
   "execution_count": null,
   "id": "d0fc77ab",
   "metadata": {
    "tags": [
     "hide-cell"
    ]
   },
   "outputs": [],
   "source": [
    "!pip install -U deepeval"
   ]
  },
  {
   "cell_type": "markdown",
   "id": "c93e560b",
   "metadata": {},
   "source": [
    "When deploying an LLM model to production, it's crucial that the model is accurate, relevant to the specific question, and free from biases.\n",
    "\n",
    "DeepEval simplifies unit testing of LLM outputs in Python using these criteria.\n",
    "\n",
    "In the following code, we use DeepEval to check if the LLM output is accurate and aligns with established facts."
   ]
  },
  {
   "cell_type": "code",
   "execution_count": null,
   "id": "a435f4c9",
   "metadata": {
    "tags": [
     "remove-output"
    ]
   },
   "outputs": [],
   "source": [
    "%%writefile test_chatbot.py\n",
    "import pytest\n",
    "from deepeval.metrics.factual_consistency import FactualConsistencyMetric\n",
    "from deepeval.test_case import LLMTestCase\n",
    "from deepeval.run_test import assert_test\n",
    "\n",
    "def test_case():\n",
    "    query = \"What if these shoes don't fit?\"\n",
    "    context = \"All customers are eligible for a 30 day full refund.\"\n",
    "\n",
    "    # Replace this with the actual output from your LLM application\n",
    "    actual_output = \"We offer a 30-day full refund.\"\n",
    "    factual_consistency_metric = FactualConsistencyMetric(minimum_score=0.7)\n",
    "    test_case = LLMTestCase(query=query, output=actual_output, context=context)\n",
    "    assert_test(test_case, [factual_consistency_metric])"
   ]
  },
  {
   "cell_type": "markdown",
   "id": "521a8b10",
   "metadata": {},
   "source": [
    "```bash\n",
    "$ deepeval test run test_chatbot.py\n",
    "```"
   ]
  },
  {
   "cell_type": "code",
   "execution_count": null,
   "id": "09297c5c",
   "metadata": {
    "tags": [
     "remove-input"
    ]
   },
   "outputs": [],
   "source": [
    "!deepeval test run test_chatbot.py"
   ]
  },
  {
   "cell_type": "markdown",
   "id": "6816a702",
   "metadata": {},
   "source": [
    "[Link to DeepEval](https://github.com/confident-ai/deepeval)."
   ]
  }
 ],
 "metadata": {
  "jupytext": {
   "text_representation": {
    "extension": ".md",
    "format_name": "myst",
    "format_version": 0.13,
    "jupytext_version": "1.16.7"
   }
  },
  "kernelspec": {
   "display_name": "Python 3 (ipykernel)",
   "language": "python",
   "name": "python3"
  },
  "source_map": [
   12,
   16,
   20,
   24,
   32,
   50,
   54,
   58,
   62,
   77,
   81,
   96,
   100,
   104,
   108,
   112,
   121,
   129,
   133,
   137,
   141,
   145,
   151,
   171,
   178,
   182,
   186,
   191,
   195,
   199,
   218,
   222,
   237,
   244,
   248,
   252,
   256,
   260,
   274,
   280,
   284,
   288,
   302,
   308,
   312,
   316,
   320,
   339,
   345,
   349,
   353,
   357,
   361,
   365,
   383,
   391,
   395,
   399,
   403,
   432,
   436,
   452,
   462,
   466,
   470,
   481,
   490,
   494,
   498,
   504,
   517,
   534,
   544,
   548,
   552,
   560,
   584,
   586,
   593,
   597,
   603,
   620,
   626,
   630,
   634,
   640,
   664,
   672,
   676,
   684,
   688,
   696,
   700,
   704,
   710,
   726,
   732,
   736,
   740,
   744,
   750,
   761,
   769,
   773,
   777,
   781,
   785,
   791,
   793,
   797,
   803,
   807,
   811,
   815,
   819,
   823,
   827,
   857,
   863,
   867,
   871,
   875,
   881,
   889,
   895,
   899,
   905,
   909,
   913,
   917,
   921,
   935,
   948,
   952,
   966,
   970,
   974,
   978,
   982,
   993,
   999,
   1003,
   1009,
   1013,
   1017,
   1025,
   1033,
   1045,
   1049,
   1070,
   1074,
   1078,
   1086,
   1101,
   1122,
   1126,
   1130,
   1134,
   1138,
   1142,
   1152,
   1168,
   1170,
   1174,
   1189,
   1191,
   1203,
   1207,
   1211,
   1215,
   1239,
   1245,
   1249,
   1253,
   1257,
   1263,
   1284,
   1294,
   1298,
   1311,
   1315,
   1339,
   1343,
   1356,
   1360,
   1364,
   1366,
   1370,
   1396,
   1400,
   1408,
   1412,
   1416,
   1420,
   1426,
   1457,
   1461,
   1467,
   1492,
   1496,
   1500,
   1513,
   1515,
   1519,
   1524,
   1528,
   1532,
   1536,
   1545,
   1549,
   1554,
   1558,
   1562,
   1566,
   1570,
   1574,
   1586,
   1593,
   1597,
   1601,
   1605,
   1609,
   1613,
   1623,
   1629,
   1633,
   1637,
   1641,
   1645,
   1649,
   1653,
   1657,
   1663,
   1671,
   1673,
   1677,
   1681,
   1685,
   1689,
   1696,
   1700,
   1708,
   1713,
   1717,
   1721,
   1725,
   1731,
   1735,
   1746,
   1752,
   1756,
   1760,
   1764,
   1770,
   1795,
   1801,
   1805,
   1809,
   1813,
   1821,
   1839,
   1845,
   1849
  ]
 },
 "nbformat": 4,
 "nbformat_minor": 5
}