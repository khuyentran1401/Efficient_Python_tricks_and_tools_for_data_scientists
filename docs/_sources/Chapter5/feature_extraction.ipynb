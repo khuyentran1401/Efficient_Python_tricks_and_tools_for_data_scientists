{
 "cells": [
  {
   "cell_type": "code",
   "execution_count": null,
   "id": "e9f7dbb5",
   "metadata": {
    "tags": [
     "remove-cell"
    ]
   },
   "outputs": [],
   "source": [
    "import warnings\n",
    "warnings.filterwarnings(\"ignore\")"
   ]
  },
  {
   "cell_type": "markdown",
   "id": "f69aa10f",
   "metadata": {},
   "source": [
    "## Feature Extraction"
   ]
  },
  {
   "cell_type": "markdown",
   "id": "15daf551",
   "metadata": {},
   "source": [
    "### distfit: Find The Best Theoretical Distribution For Your Data"
   ]
  },
  {
   "cell_type": "code",
   "execution_count": null,
   "id": "6ce065d6",
   "metadata": {
    "tags": [
     "hide-cell"
    ]
   },
   "outputs": [],
   "source": [
    "!pip install distfit"
   ]
  },
  {
   "cell_type": "markdown",
   "id": "a5985c1b",
   "metadata": {},
   "source": [
    "If you're looking to identify the best theoretical distribution for your data in Python, try distfit. It allows you to fit and compare multiple distributions, identifying the best match for your dataset."
   ]
  },
  {
   "cell_type": "code",
   "execution_count": null,
   "id": "57dff9d8",
   "metadata": {},
   "outputs": [],
   "source": [
    "import numpy as np\n",
    "from distfit import distfit\n",
    "\n",
    "X = np.random.normal(0, 3, 1000)\n",
    "\n",
    "# Initialize model\n",
    "dist = distfit()\n",
    "\n",
    "# Find best theoretical distribution for empirical data X\n",
    "distribution = dist.fit_transform(X)\n",
    "dist.plot()"
   ]
  },
  {
   "cell_type": "markdown",
   "id": "28d8b752",
   "metadata": {},
   "source": [
    "Beyond finding the optimal distribution, `distfit` can also help identify outliers based on deviation from the fitted distribution."
   ]
  },
  {
   "cell_type": "markdown",
   "id": "49715b80",
   "metadata": {},
   "source": [
    "[Link to distfit](https://erdogant.github.io/distfit/pages/html/index.html)."
   ]
  },
  {
   "cell_type": "markdown",
   "id": "50d04847",
   "metadata": {},
   "source": [
    "### Geopy: Extract Location Based on Python String"
   ]
  },
  {
   "cell_type": "code",
   "execution_count": null,
   "id": "77543972",
   "metadata": {
    "tags": [
     "hide-cell"
    ]
   },
   "outputs": [],
   "source": [
    "!pip install geopy"
   ]
  },
  {
   "cell_type": "markdown",
   "id": "cdd81509",
   "metadata": {},
   "source": [
    "`Geopy` simplifies the process of extracting geospatial information from location strings. With just a few lines of code, you can obtain the coordinates of addresses globally."
   ]
  },
  {
   "cell_type": "code",
   "execution_count": null,
   "id": "95f17bfb",
   "metadata": {},
   "outputs": [],
   "source": [
    "from geopy.geocoders import Nominatim\n",
    "\n",
    "geolocator = Nominatim(user_agent=\"find_location\")\n",
    "location = geolocator.geocode(\"30 North Circle Drive\")"
   ]
  },
  {
   "cell_type": "markdown",
   "id": "6b922df5",
   "metadata": {},
   "source": [
    "To get detailed information about the location:"
   ]
  },
  {
   "cell_type": "code",
   "execution_count": null,
   "id": "8dc3aa2e",
   "metadata": {},
   "outputs": [],
   "source": [
    "location.address"
   ]
  },
  {
   "cell_type": "markdown",
   "id": "0c1ed287",
   "metadata": {},
   "source": [
    "You can also extract latitude and longitude:"
   ]
  },
  {
   "cell_type": "code",
   "execution_count": null,
   "id": "18aca4dc",
   "metadata": {},
   "outputs": [],
   "source": [
    "location.latitude, location.longitude"
   ]
  },
  {
   "cell_type": "markdown",
   "id": "020298a3",
   "metadata": {},
   "source": [
    "[Link to Geopy](https://geopy.readthedocs.io/en/stable/)"
   ]
  },
  {
   "cell_type": "markdown",
   "id": "19324ba5",
   "metadata": {},
   "source": [
    "### fastai’s cont_cat_split: Separate Continuous and Categorical Variables"
   ]
  },
  {
   "cell_type": "code",
   "execution_count": null,
   "id": "19ba8606",
   "metadata": {
    "tags": [
     "hide-cell"
    ]
   },
   "outputs": [],
   "source": [
    "!pip install fastai"
   ]
  },
  {
   "cell_type": "markdown",
   "id": "037572e0",
   "metadata": {},
   "source": [
    "Fastai's `cont_cat_split` method helps you automatically separate continuous and categorical columns in a DataFrame based on their cardinality."
   ]
  },
  {
   "cell_type": "code",
   "execution_count": null,
   "id": "f4dd1557",
   "metadata": {},
   "outputs": [],
   "source": [
    "import pandas as pd\n",
    "from fastai.tabular.core import cont_cat_split\n",
    "\n",
    "df = pd.DataFrame(\n",
    "    {\n",
    "        \"col1\": [1, 2, 3, 4, 5],\n",
    "        \"col2\": [\"a\", \"b\", \"c\", \"d\", \"e\"],\n",
    "        \"col3\": [1.0, 2.0, 3.0, 4.0, 5.0],\n",
    "    }\n",
    ")\n",
    "\n",
    "cont_names, cat_names = cont_cat_split(df)\n",
    "print(\"Continuous columns:\", cont_names)\n",
    "print(\"Categorical columns:\", cat_names)"
   ]
  },
  {
   "cell_type": "code",
   "execution_count": null,
   "id": "8039f556",
   "metadata": {},
   "outputs": [],
   "source": [
    "cont_names, cat_names = cont_cat_split(df, max_card=3)\n",
    "print(\"Continuous columns:\", cont_names)\n",
    "print(\"Categorical columns:\", cat_names)"
   ]
  },
  {
   "cell_type": "markdown",
   "id": "1cd28ffa",
   "metadata": {},
   "source": [
    "[Link to the documentation](https://docs.fast.ai/tabular.core.html)."
   ]
  },
  {
   "cell_type": "markdown",
   "id": "46e0067c",
   "metadata": {},
   "source": [
    "### Patsy: Build Features with Arbitrary Python Code"
   ]
  },
  {
   "cell_type": "code",
   "execution_count": null,
   "id": "34be7cea",
   "metadata": {
    "tags": [
     "hide-cell"
    ]
   },
   "outputs": [],
   "source": [
    "!pip install patsy"
   ]
  },
  {
   "cell_type": "markdown",
   "id": "bb5db080",
   "metadata": {},
   "source": [
    "Patsy lets you quickly create features for your model using an intuitive syntax, ideal for experimentation."
   ]
  },
  {
   "cell_type": "code",
   "execution_count": null,
   "id": "73aafd54",
   "metadata": {},
   "outputs": [],
   "source": [
    "from sklearn.datasets import load_wine\n",
    "import pandas as pd "
   ]
  },
  {
   "cell_type": "code",
   "execution_count": null,
   "id": "e79ef8fd",
   "metadata": {},
   "outputs": [],
   "source": [
    "df = load_wine(as_frame=True)\n",
    "data = pd.concat([df['data'], df['target']], axis=1)\n",
    "data.head(10)"
   ]
  },
  {
   "cell_type": "code",
   "execution_count": null,
   "id": "383aa335",
   "metadata": {},
   "outputs": [],
   "source": [
    "from patsy import dmatrices\n",
    "\n",
    "y, X = dmatrices('target ~ alcohol + flavanoids + proline', data=data)"
   ]
  },
  {
   "cell_type": "code",
   "execution_count": null,
   "id": "0863f929",
   "metadata": {},
   "outputs": [],
   "source": [
    "X"
   ]
  },
  {
   "cell_type": "markdown",
   "id": "6cba05c2",
   "metadata": {},
   "source": [
    "These features can be directly used with machine learning models:"
   ]
  },
  {
   "cell_type": "code",
   "execution_count": null,
   "id": "9fc1eebb",
   "metadata": {},
   "outputs": [],
   "source": [
    "from sklearn.linear_model import LinearRegression\n",
    "\n",
    "model = LinearRegression().fit(X, y)"
   ]
  },
  {
   "cell_type": "markdown",
   "id": "c364389b",
   "metadata": {},
   "source": [
    "[Link to Patsy](https://patsy.readthedocs.io/en/latest/overview.html)."
   ]
  },
  {
   "cell_type": "markdown",
   "id": "1118aff4",
   "metadata": {},
   "source": [
    "### yarl: Create and Extract Elements from a URL Using Python"
   ]
  },
  {
   "cell_type": "code",
   "execution_count": null,
   "id": "2fa93cfc",
   "metadata": {
    "tags": [
     "hide-cell"
    ]
   },
   "outputs": [],
   "source": [
    "!pip install yarl"
   ]
  },
  {
   "cell_type": "markdown",
   "id": "a7a1f1d7",
   "metadata": {},
   "source": [
    "`yarl` makes URL parsing and creation easy. You can extract elements like host, path, and query from a URL or construct new URLs."
   ]
  },
  {
   "cell_type": "code",
   "execution_count": null,
   "id": "5fee227c",
   "metadata": {},
   "outputs": [],
   "source": [
    "from yarl import URL \n",
    "\n",
    "url = URL('https://github.com/search?q=data+science')\n",
    "url "
   ]
  },
  {
   "cell_type": "code",
   "execution_count": null,
   "id": "a7a794a5",
   "metadata": {},
   "outputs": [],
   "source": [
    "print(url.host) "
   ]
  },
  {
   "cell_type": "code",
   "execution_count": null,
   "id": "c9a3930b",
   "metadata": {},
   "outputs": [],
   "source": [
    "print(url.path) "
   ]
  },
  {
   "cell_type": "code",
   "execution_count": null,
   "id": "6f3bb783",
   "metadata": {},
   "outputs": [],
   "source": [
    "print(url.query_string) "
   ]
  },
  {
   "cell_type": "markdown",
   "id": "2fcae8a9",
   "metadata": {},
   "source": [
    "You can also build new URLs:"
   ]
  },
  {
   "cell_type": "code",
   "execution_count": null,
   "id": "5ed9a39d",
   "metadata": {},
   "outputs": [],
   "source": [
    "# Create a URL\n",
    "\n",
    "url = URL.build(\n",
    "    scheme=\"https\",\n",
    "    host=\"github.com\",\n",
    "    path=\"/search\",\n",
    "    query={\"p\": 2, \"q\": \"data science\"},\n",
    ")\n",
    "\n",
    "print(url)"
   ]
  },
  {
   "cell_type": "code",
   "execution_count": null,
   "id": "8561fecd",
   "metadata": {},
   "outputs": [],
   "source": [
    "# Replace the query\n",
    "\n",
    "print(url.with_query({\"q\": \"python\"}))"
   ]
  },
  {
   "cell_type": "code",
   "execution_count": null,
   "id": "35166320",
   "metadata": {},
   "outputs": [],
   "source": [
    "# Replace the path\n",
    "\n",
    "new_path = url.with_path(\"khuyentran1401/Data-science\")\n",
    "print(new_path)"
   ]
  },
  {
   "cell_type": "code",
   "execution_count": null,
   "id": "9e2d3fde",
   "metadata": {},
   "outputs": [],
   "source": [
    "# Update the fragment\n",
    "\n",
    "print(new_path.with_fragment(\"contents\"))"
   ]
  },
  {
   "cell_type": "markdown",
   "id": "39cfcb18",
   "metadata": {},
   "source": [
    "[Link to yarl](https://github.com/aio-libs/yarl)."
   ]
  },
  {
   "cell_type": "markdown",
   "id": "fbc00618",
   "metadata": {},
   "source": [
    "### Pigeon: Quickly Annotate Your Data on Jupyter Notebook"
   ]
  },
  {
   "cell_type": "code",
   "execution_count": null,
   "id": "f65422d2",
   "metadata": {
    "tags": [
     "hide-cell"
    ]
   },
   "outputs": [],
   "source": [
    "!pip install pigeon-jupyter"
   ]
  },
  {
   "cell_type": "markdown",
   "id": "968940f1",
   "metadata": {},
   "source": [
    "For fast data annotation within Jupyter Notebooks, use `Pigeon`. This tool allows you to label data interactively by selecting from predefined options."
   ]
  },
  {
   "cell_type": "code",
   "execution_count": null,
   "id": "82004312",
   "metadata": {},
   "outputs": [],
   "source": [
    "from pigeon import annotate\n",
    "\n",
    "\n",
    "annotations = annotate(\n",
    "    [\"The service is terrible\", \"I will definitely come here again\"],\n",
    "    options=[\"positive\", \"negative\"],\n",
    ")"
   ]
  },
  {
   "cell_type": "code",
   "execution_count": null,
   "id": "232eb9de",
   "metadata": {},
   "outputs": [],
   "source": [
    "annotations"
   ]
  },
  {
   "cell_type": "markdown",
   "id": "995ec6c5",
   "metadata": {},
   "source": [
    "![](../img/pigeon_demo.gif)"
   ]
  },
  {
   "cell_type": "markdown",
   "id": "5fc0bd1e",
   "metadata": {},
   "source": [
    "After labeling all your data, you can get the examples along with their labels by calling `annotations`."
   ]
  },
  {
   "cell_type": "markdown",
   "id": "8ff9651a",
   "metadata": {},
   "source": [
    "[Link to Pigeon](https://github.com/agermanidis/pigeon)"
   ]
  },
  {
   "cell_type": "markdown",
   "id": "a8530b00",
   "metadata": {},
   "source": [
    "### probablepeople: Parse Unstructured Names Into Structured Components"
   ]
  },
  {
   "cell_type": "code",
   "execution_count": null,
   "id": "fcd2c4df",
   "metadata": {
    "tags": [
     "hide-cell"
    ]
   },
   "outputs": [],
   "source": [
    "!pip install probablepeople  "
   ]
  },
  {
   "cell_type": "markdown",
   "id": "81cf148f",
   "metadata": {},
   "source": [
    "`probablepeople` helps you parse unstructured names into structured components like first names, surnames, and company names."
   ]
  },
  {
   "cell_type": "code",
   "execution_count": null,
   "id": "f84c49c9",
   "metadata": {},
   "outputs": [],
   "source": [
    "import probablepeople as pp\n",
    "\n",
    "pp.parse(\"Mr. Owen Harris II\")"
   ]
  },
  {
   "cell_type": "code",
   "execution_count": null,
   "id": "89af0b00",
   "metadata": {},
   "outputs": [],
   "source": [
    "pp.parse(\"Kate & John Cumings\")"
   ]
  },
  {
   "cell_type": "code",
   "execution_count": null,
   "id": "093da656",
   "metadata": {},
   "outputs": [],
   "source": [
    "pp.parse(\"Prefect Technologies, Inc\")"
   ]
  },
  {
   "cell_type": "markdown",
   "id": "aa9966aa",
   "metadata": {},
   "source": [
    "[Link to probablepeople](https://github.com/datamade/probablepeople)."
   ]
  },
  {
   "cell_type": "markdown",
   "id": "1e2521bb",
   "metadata": {},
   "source": [
    "### Supercharge PDF Text Extraction in Python with pypdf"
   ]
  },
  {
   "cell_type": "code",
   "execution_count": null,
   "id": "3e3d176a",
   "metadata": {
    "tags": [
     "hide-cell"
    ]
   },
   "outputs": [],
   "source": [
    "!pip install -U pypdf"
   ]
  },
  {
   "cell_type": "markdown",
   "id": "f6ae69cb",
   "metadata": {},
   "source": [
    "PDF text is designed for beautiful on-screen display rather than optimized structured data extraction, making text extraction from PDFs challenging. \n",
    "\n",
    "Besides simple text extraction, pypdf also knows about fonts, encodings, and typical character distance, which enhances the accuracy of text extraction from PDFs."
   ]
  },
  {
   "cell_type": "code",
   "execution_count": null,
   "id": "28fa3e1a",
   "metadata": {},
   "outputs": [],
   "source": [
    "from pypdf import PdfReader\n",
    "\n",
    "reader = PdfReader(\"example.pdf\")\n",
    "page = reader.pages[0]\n",
    "text = page.extract_text()"
   ]
  },
  {
   "cell_type": "markdown",
   "id": "f0ff2487",
   "metadata": {},
   "source": [
    "[Link to pypdf](https://github.com/py-pdf/pypdf)."
   ]
  }
 ],
 "metadata": {
  "jupytext": {
   "text_representation": {
    "extension": ".md",
    "format_name": "myst",
    "format_version": 0.13,
    "jupytext_version": "1.16.7"
   }
  },
  "kernelspec": {
   "display_name": "Python 3 (ipykernel)",
   "language": "python",
   "name": "python3"
  },
  "source_map": [
   14,
   19,
   23,
   27,
   31,
   35,
   47,
   51,
   55,
   59,
   63,
   67,
   72,
   76,
   78,
   82,
   84,
   88,
   92,
   96,
   100,
   117,
   121,
   125,
   129,
   133,
   137,
   142,
   148,
   154,
   156,
   160,
   164,
   168,
   172,
   176,
   180,
   187,
   191,
   195,
   197,
   201,
   214,
   220,
   227,
   231,
   235,
   239,
   243,
   247,
   257,
   259,
   263,
   267,
   271,
   275,
   279,
   283,
   289,
   293,
   295,
   299,
   303,
   307,
   313,
   319
  ]
 },
 "nbformat": 4,
 "nbformat_minor": 5
}