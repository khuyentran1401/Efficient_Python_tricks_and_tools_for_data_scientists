{
 "cells": [
  {
   "cell_type": "markdown",
   "id": "4398062c",
   "metadata": {},
   "source": [
    "## Test"
   ]
  },
  {
   "cell_type": "markdown",
   "id": "82c5887e",
   "metadata": {},
   "source": [
    "This section shows how to compare between 2 Pandas DataFrame or between 2 Pandas Series"
   ]
  },
  {
   "cell_type": "markdown",
   "id": "57b97176",
   "metadata": {},
   "source": [
    "### assert_frame equal: Test Whether Two DataFrames are Similar"
   ]
  },
  {
   "cell_type": "markdown",
   "id": "b119b2f7",
   "metadata": {},
   "source": [
    "If you want to test whether two DataFrames are similar or how much they are different from each other, try `pandas.testing.assert_frame_equal`."
   ]
  },
  {
   "cell_type": "code",
   "execution_count": 4,
   "id": "4a68e0c6",
   "metadata": {
    "ExecuteTime": {
     "end_time": "2021-09-11T16:20:05.774099Z",
     "start_time": "2021-09-11T16:20:05.451759Z"
    }
   },
   "outputs": [
    {
     "ename": "AssertionError",
     "evalue": "DataFrame.iloc[:, 0] (column name=\"coll\") are different\n\nDataFrame.iloc[:, 0] (column name=\"coll\") values are different (66.66667 %)\n[index]: [0, 1, 2]\n[left]:  [1, 2, 3]\n[right]: [1, 3, 4]",
     "output_type": "error",
     "traceback": [
      "\u001b[0;31m---------------------------------------------------------------------------\u001b[0m",
      "\u001b[0;31mAssertionError\u001b[0m                            Traceback (most recent call last)",
      "Cell \u001b[0;32mIn[4], line 7\u001b[0m\n\u001b[1;32m      5\u001b[0m df1 \u001b[39m=\u001b[39m pd\u001b[39m.\u001b[39mDataFrame({\u001b[39m'\u001b[39m\u001b[39mcoll\u001b[39m\u001b[39m'\u001b[39m: [\u001b[39m1\u001b[39m,\u001b[39m2\u001b[39m,\u001b[39m3\u001b[39m], \u001b[39m'\u001b[39m\u001b[39mcol2\u001b[39m\u001b[39m'\u001b[39m: [\u001b[39m4\u001b[39m,\u001b[39m5\u001b[39m,\u001b[39m6\u001b[39m]})\n\u001b[1;32m      6\u001b[0m df2 \u001b[39m=\u001b[39m pd\u001b[39m.\u001b[39mDataFrame({\u001b[39m'\u001b[39m\u001b[39mcoll\u001b[39m\u001b[39m'\u001b[39m: [\u001b[39m1\u001b[39m,\u001b[39m3\u001b[39m,\u001b[39m4\u001b[39m], \u001b[39m'\u001b[39m\u001b[39mcol2\u001b[39m\u001b[39m'\u001b[39m: [\u001b[39m4\u001b[39m,\u001b[39m5\u001b[39m,\u001b[39m6\u001b[39m]})\n\u001b[0;32m----> 7\u001b[0m assert_frame_equal(df1, df2)\n",
      "    \u001b[0;31m[... skipping hidden 2 frame]\u001b[0m\n",
      "File \u001b[0;32m~/book/venv/lib/python3.9/site-packages/pandas/_libs/testing.pyx:52\u001b[0m, in \u001b[0;36mpandas._libs.testing.assert_almost_equal\u001b[0;34m()\u001b[0m\n",
      "File \u001b[0;32m~/book/venv/lib/python3.9/site-packages/pandas/_libs/testing.pyx:167\u001b[0m, in \u001b[0;36mpandas._libs.testing.assert_almost_equal\u001b[0;34m()\u001b[0m\n",
      "File \u001b[0;32m~/book/venv/lib/python3.9/site-packages/pandas/_testing/asserters.py:679\u001b[0m, in \u001b[0;36mraise_assert_detail\u001b[0;34m(obj, message, left, right, diff, index_values)\u001b[0m\n\u001b[1;32m    676\u001b[0m \u001b[39mif\u001b[39;00m diff \u001b[39mis\u001b[39;00m \u001b[39mnot\u001b[39;00m \u001b[39mNone\u001b[39;00m:\n\u001b[1;32m    677\u001b[0m     msg \u001b[39m+\u001b[39m\u001b[39m=\u001b[39m \u001b[39mf\u001b[39m\u001b[39m\"\u001b[39m\u001b[39m\\n\u001b[39;00m\u001b[39m[diff]: \u001b[39m\u001b[39m{\u001b[39;00mdiff\u001b[39m}\u001b[39;00m\u001b[39m\"\u001b[39m\n\u001b[0;32m--> 679\u001b[0m \u001b[39mraise\u001b[39;00m \u001b[39mAssertionError\u001b[39;00m(msg)\n",
      "\u001b[0;31mAssertionError\u001b[0m: DataFrame.iloc[:, 0] (column name=\"coll\") are different\n\nDataFrame.iloc[:, 0] (column name=\"coll\") values are different (66.66667 %)\n[index]: [0, 1, 2]\n[left]:  [1, 2, 3]\n[right]: [1, 3, 4]"
     ]
    }
   ],
   "source": [
    "from pandas.testing import assert_frame_equal\n",
    "import pandas as pd\n",
    "\n",
    "\n",
    "df1 = pd.DataFrame({\"coll\": [1, 2, 3], \"col2\": [4, 5, 6]})\n",
    "df2 = pd.DataFrame({\"coll\": [1, 3, 4], \"col2\": [4, 5, 6]})\n",
    "assert_frame_equal(df1, df2)\n"
   ]
  },
  {
   "attachments": {},
   "cell_type": "markdown",
   "id": "02d345e4",
   "metadata": {},
   "source": [
    "### Ignore the Order of Index When Comparing Two DataFrames "
   ]
  },
  {
   "attachments": {},
   "cell_type": "markdown",
   "id": "b7e30221",
   "metadata": {},
   "source": [
    "If you want to ignore the order of index & columns when comparing two DataFrames , use `assert_frame_equal(df1, df2, check_like=True)`."
   ]
  },
  {
   "cell_type": "code",
   "execution_count": 9,
   "id": "641124a3",
   "metadata": {},
   "outputs": [],
   "source": [
    "from pandas.testing import assert_frame_equal\n",
    "import pandas as pd\n",
    "\n",
    "\n",
    "df1 = pd.DataFrame({\"coll\": [1, 2, 3], \"col2\": [4, 5, 6]})\n",
    "df2 = pd.DataFrame({\"col2\": [4, 5, 6], \"coll\": [1, 2, 3]})\n",
    "assert_frame_equal(df1, df2, check_like=True)\n"
   ]
  },
  {
   "cell_type": "code",
   "execution_count": 10,
   "id": "f94ebe71",
   "metadata": {},
   "outputs": [
    {
     "ename": "AssertionError",
     "evalue": "DataFrame.columns are different\n\nDataFrame.columns values are different (100.0 %)\n[left]:  Index(['coll', 'col2'], dtype='object')\n[right]: Index(['col2', 'coll'], dtype='object')",
     "output_type": "error",
     "traceback": [
      "\u001b[0;31m---------------------------------------------------------------------------\u001b[0m",
      "\u001b[0;31mAssertionError\u001b[0m                            Traceback (most recent call last)",
      "Cell \u001b[0;32mIn[10], line 3\u001b[0m\n\u001b[1;32m      1\u001b[0m df1 \u001b[39m=\u001b[39m pd\u001b[39m.\u001b[39mDataFrame({\u001b[39m\"\u001b[39m\u001b[39mcoll\u001b[39m\u001b[39m\"\u001b[39m: [\u001b[39m1\u001b[39m, \u001b[39m2\u001b[39m, \u001b[39m3\u001b[39m], \u001b[39m\"\u001b[39m\u001b[39mcol2\u001b[39m\u001b[39m\"\u001b[39m: [\u001b[39m4\u001b[39m, \u001b[39m5\u001b[39m, \u001b[39m6\u001b[39m]})\n\u001b[1;32m      2\u001b[0m df2 \u001b[39m=\u001b[39m pd\u001b[39m.\u001b[39mDataFrame({\u001b[39m\"\u001b[39m\u001b[39mcol2\u001b[39m\u001b[39m\"\u001b[39m: [\u001b[39m4\u001b[39m, \u001b[39m5\u001b[39m, \u001b[39m6\u001b[39m], \u001b[39m\"\u001b[39m\u001b[39mcoll\u001b[39m\u001b[39m\"\u001b[39m: [\u001b[39m1\u001b[39m, \u001b[39m2\u001b[39m, \u001b[39m3\u001b[39m]})\n\u001b[0;32m----> 3\u001b[0m assert_frame_equal(df1, df2)\n",
      "    \u001b[0;31m[... skipping hidden 2 frame]\u001b[0m\n",
      "File \u001b[0;32m~/book/venv/lib/python3.9/site-packages/pandas/_libs/testing.pyx:52\u001b[0m, in \u001b[0;36mpandas._libs.testing.assert_almost_equal\u001b[0;34m()\u001b[0m\n",
      "File \u001b[0;32m~/book/venv/lib/python3.9/site-packages/pandas/_libs/testing.pyx:167\u001b[0m, in \u001b[0;36mpandas._libs.testing.assert_almost_equal\u001b[0;34m()\u001b[0m\n",
      "File \u001b[0;32m~/book/venv/lib/python3.9/site-packages/pandas/_testing/asserters.py:679\u001b[0m, in \u001b[0;36mraise_assert_detail\u001b[0;34m(obj, message, left, right, diff, index_values)\u001b[0m\n\u001b[1;32m    676\u001b[0m \u001b[39mif\u001b[39;00m diff \u001b[39mis\u001b[39;00m \u001b[39mnot\u001b[39;00m \u001b[39mNone\u001b[39;00m:\n\u001b[1;32m    677\u001b[0m     msg \u001b[39m+\u001b[39m\u001b[39m=\u001b[39m \u001b[39mf\u001b[39m\u001b[39m\"\u001b[39m\u001b[39m\\n\u001b[39;00m\u001b[39m[diff]: \u001b[39m\u001b[39m{\u001b[39;00mdiff\u001b[39m}\u001b[39;00m\u001b[39m\"\u001b[39m\n\u001b[0;32m--> 679\u001b[0m \u001b[39mraise\u001b[39;00m \u001b[39mAssertionError\u001b[39;00m(msg)\n",
      "\u001b[0;31mAssertionError\u001b[0m: DataFrame.columns are different\n\nDataFrame.columns values are different (100.0 %)\n[left]:  Index(['coll', 'col2'], dtype='object')\n[right]: Index(['col2', 'coll'], dtype='object')"
     ]
    }
   ],
   "source": [
    "df1 = pd.DataFrame({\"coll\": [1, 2, 3], \"col2\": [4, 5, 6]})\n",
    "df2 = pd.DataFrame({\"col2\": [4, 5, 6], \"coll\": [1, 2, 3]})\n",
    "assert_frame_equal(df1, df2)"
   ]
  },
  {
   "cell_type": "markdown",
   "id": "10f7a125",
   "metadata": {},
   "source": [
    "### Compare the Difference Between Two DataFrames"
   ]
  },
  {
   "cell_type": "markdown",
   "id": "994c252d",
   "metadata": {},
   "source": [
    "If you want to show and align the differences between two DataFrames, use `df.compare`."
   ]
  },
  {
   "cell_type": "code",
   "execution_count": 4,
   "id": "504e40b7",
   "metadata": {},
   "outputs": [
    {
     "data": {
      "text/html": [
       "<div>\n",
       "<style scoped>\n",
       "    .dataframe tbody tr th:only-of-type {\n",
       "        vertical-align: middle;\n",
       "    }\n",
       "\n",
       "    .dataframe tbody tr th {\n",
       "        vertical-align: top;\n",
       "    }\n",
       "\n",
       "    .dataframe thead tr th {\n",
       "        text-align: left;\n",
       "    }\n",
       "</style>\n",
       "<table border=\"1\" class=\"dataframe\">\n",
       "  <thead>\n",
       "    <tr>\n",
       "      <th></th>\n",
       "      <th colspan=\"2\" halign=\"left\">col1</th>\n",
       "    </tr>\n",
       "    <tr>\n",
       "      <th></th>\n",
       "      <th>self</th>\n",
       "      <th>other</th>\n",
       "    </tr>\n",
       "  </thead>\n",
       "  <tbody>\n",
       "    <tr>\n",
       "      <th>1</th>\n",
       "      <td>2.0</td>\n",
       "      <td>3.0</td>\n",
       "    </tr>\n",
       "    <tr>\n",
       "      <th>2</th>\n",
       "      <td>3.0</td>\n",
       "      <td>4.0</td>\n",
       "    </tr>\n",
       "  </tbody>\n",
       "</table>\n",
       "</div>"
      ],
      "text/plain": [
       "  col1      \n",
       "  self other\n",
       "1  2.0   3.0\n",
       "2  3.0   4.0"
      ]
     },
     "execution_count": 4,
     "metadata": {},
     "output_type": "execute_result"
    }
   ],
   "source": [
    "import pandas as pd\n",
    "\n",
    "df1 = pd.DataFrame({\"col1\": [1, 2, 3], \"col2\": [4, 5, 6]})\n",
    "df2 = pd.DataFrame({\"col1\": [1, 3, 4], \"col2\": [4, 5, 6]})\n",
    "\n",
    "df1.compare(df2)"
   ]
  }
 ],
 "metadata": {
  "celltoolbar": "Tags",
  "kernelspec": {
   "display_name": "venv",
   "language": "python",
   "name": "python3"
  },
  "language_info": {
   "codemirror_mode": {
    "name": "ipython",
    "version": 3
   },
   "file_extension": ".py",
   "mimetype": "text/x-python",
   "name": "python",
   "nbconvert_exporter": "python",
   "pygments_lexer": "ipython3",
   "version": "3.9.6"
  },
  "toc": {
   "base_numbering": 1,
   "nav_menu": {},
   "number_sections": true,
   "sideBar": true,
   "skip_h1_title": false,
   "title_cell": "Table of Contents",
   "title_sidebar": "Contents",
   "toc_cell": false,
   "toc_position": {},
   "toc_section_display": true,
   "toc_window_display": false
  },
  "vscode": {
   "interpreter": {
    "hash": "c3bc044b9863ed6dec4c55e7ad5af27f030f7d27aed3f39d7a4886a926c4e2c1"
   }
  }
 },
 "nbformat": 4,
 "nbformat_minor": 5
}
