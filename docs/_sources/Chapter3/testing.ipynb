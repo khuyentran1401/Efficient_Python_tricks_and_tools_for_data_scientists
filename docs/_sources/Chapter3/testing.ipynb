{
 "cells": [
  {
   "cell_type": "markdown",
   "id": "82171dc0",
   "metadata": {},
   "source": [
    "## Test"
   ]
  },
  {
   "cell_type": "markdown",
   "id": "2e5a3dfb",
   "metadata": {},
   "source": [
    "This section shows how to compare between 2 Pandas DataFrame or between 2 Pandas Series"
   ]
  },
  {
   "cell_type": "markdown",
   "id": "5a59cf39",
   "metadata": {},
   "source": [
    "### assert_frame equal: Test Whether Two DataFrames are Similar"
   ]
  },
  {
   "cell_type": "markdown",
   "id": "9d06a11c",
   "metadata": {},
   "source": [
    "If you want to test whether two DataFrames are similar or how much they are different from each other, try `pandas.testing.assert_frame_equal`."
   ]
  },
  {
   "cell_type": "code",
   "execution_count": null,
   "id": "41f83af2",
   "metadata": {},
   "outputs": [],
   "source": [
    "from pandas.testing import assert_frame_equal\n",
    "import pandas as pd\n",
    "\n",
    "\n",
    "df1 = pd.DataFrame({\"coll\": [1, 2, 3], \"col2\": [4, 5, 6]})\n",
    "df2 = pd.DataFrame({\"coll\": [1, 3, 4], \"col2\": [4, 5, 6]})\n",
    "assert_frame_equal(df1, df2)"
   ]
  },
  {
   "cell_type": "markdown",
   "id": "bf86cea0",
   "metadata": {},
   "source": [
    "### Ignore the Order of Index When Comparing Two DataFrames"
   ]
  },
  {
   "cell_type": "markdown",
   "id": "eb27ce72",
   "metadata": {},
   "source": [
    "If you want to ignore the order of index & columns when comparing two DataFrames , use `assert_frame_equal(df1, df2, check_like=True)`."
   ]
  },
  {
   "cell_type": "code",
   "execution_count": null,
   "id": "27102d59",
   "metadata": {},
   "outputs": [],
   "source": [
    "from pandas.testing import assert_frame_equal\n",
    "import pandas as pd\n",
    "\n",
    "\n",
    "df1 = pd.DataFrame({\"coll\": [1, 2, 3], \"col2\": [4, 5, 6]})\n",
    "df2 = pd.DataFrame({\"col2\": [4, 5, 6], \"coll\": [1, 2, 3]})\n",
    "assert_frame_equal(df1, df2, check_like=True)"
   ]
  },
  {
   "cell_type": "code",
   "execution_count": null,
   "id": "e7cbb9c1",
   "metadata": {},
   "outputs": [],
   "source": [
    "df1 = pd.DataFrame({\"coll\": [1, 2, 3], \"col2\": [4, 5, 6]})\n",
    "df2 = pd.DataFrame({\"col2\": [4, 5, 6], \"coll\": [1, 2, 3]})\n",
    "assert_frame_equal(df1, df2)"
   ]
  },
  {
   "cell_type": "markdown",
   "id": "63903d5e",
   "metadata": {},
   "source": [
    "### Compare the Difference Between Two DataFrames"
   ]
  },
  {
   "cell_type": "markdown",
   "id": "85211143",
   "metadata": {},
   "source": [
    "If you want to show and align the differences between two DataFrames, use `df.compare`."
   ]
  },
  {
   "cell_type": "code",
   "execution_count": null,
   "id": "fc4bceb5",
   "metadata": {},
   "outputs": [],
   "source": [
    "import pandas as pd\n",
    "\n",
    "df1 = pd.DataFrame({\"col1\": [1, 2, 3], \"col2\": [4, 5, 6]})\n",
    "df2 = pd.DataFrame({\"col1\": [1, 3, 4], \"col2\": [4, 5, 6]})\n",
    "\n",
    "df1.compare(df2)"
   ]
  }
 ],
 "metadata": {
  "jupytext": {
   "text_representation": {
    "extension": ".md",
    "format_name": "myst",
    "format_version": 0.13,
    "jupytext_version": "1.16.7"
   }
  },
  "kernelspec": {
   "display_name": "venv",
   "language": "python",
   "name": "python3"
  },
  "source_map": [
   12,
   16,
   20,
   24,
   28,
   36,
   40,
   44,
   54,
   58,
   62,
   66
  ]
 },
 "nbformat": 4,
 "nbformat_minor": 5
}