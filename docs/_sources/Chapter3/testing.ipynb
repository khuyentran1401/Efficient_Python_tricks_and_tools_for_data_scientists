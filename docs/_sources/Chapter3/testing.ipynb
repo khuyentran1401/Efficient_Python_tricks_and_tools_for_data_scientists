{
 "cells": [
  {
   "cell_type": "markdown",
   "id": "8c03d874",
   "metadata": {},
   "source": [
    "## Test"
   ]
  },
  {
   "cell_type": "markdown",
   "id": "aa9532a1",
   "metadata": {},
   "source": [
    "This section shows how to compare between 2 Pandas DataFrame or between 2 Pandas Series"
   ]
  },
  {
   "cell_type": "markdown",
   "id": "8b7947ed",
   "metadata": {},
   "source": [
    "### assert_frame equal: Test Whether Two DataFrames are Similar"
   ]
  },
  {
   "cell_type": "markdown",
   "id": "c98f66a2",
   "metadata": {},
   "source": [
    "If you want to test whether two DataFrames are similar or how much they are different from each other, try `pandas.testing.assert_frame_equal`."
   ]
  },
  {
   "cell_type": "code",
   "execution_count": null,
   "id": "5b9c40bb",
   "metadata": {},
   "outputs": [],
   "source": [
    "from pandas.testing import assert_frame_equal\n",
    "import pandas as pd\n",
    "\n",
    "\n",
    "df1 = pd.DataFrame({\"coll\": [1, 2, 3], \"col2\": [4, 5, 6]})\n",
    "df2 = pd.DataFrame({\"coll\": [1, 3, 4], \"col2\": [4, 5, 6]})\n",
    "assert_frame_equal(df1, df2)"
   ]
  },
  {
   "cell_type": "markdown",
   "id": "c9277f72",
   "metadata": {},
   "source": [
    "### Ignore the Order of Index When Comparing Two DataFrames"
   ]
  },
  {
   "cell_type": "markdown",
   "id": "c3ff2e36",
   "metadata": {},
   "source": [
    "If you want to ignore the order of index & columns when comparing two DataFrames , use `assert_frame_equal(df1, df2, check_like=True)`."
   ]
  },
  {
   "cell_type": "code",
   "execution_count": null,
   "id": "5600af14",
   "metadata": {},
   "outputs": [],
   "source": [
    "from pandas.testing import assert_frame_equal\n",
    "import pandas as pd\n",
    "\n",
    "\n",
    "df1 = pd.DataFrame({\"coll\": [1, 2, 3], \"col2\": [4, 5, 6]})\n",
    "df2 = pd.DataFrame({\"col2\": [4, 5, 6], \"coll\": [1, 2, 3]})\n",
    "assert_frame_equal(df1, df2, check_like=True)"
   ]
  },
  {
   "cell_type": "code",
   "execution_count": null,
   "id": "66fa17a6",
   "metadata": {},
   "outputs": [],
   "source": [
    "df1 = pd.DataFrame({\"coll\": [1, 2, 3], \"col2\": [4, 5, 6]})\n",
    "df2 = pd.DataFrame({\"col2\": [4, 5, 6], \"coll\": [1, 2, 3]})\n",
    "assert_frame_equal(df1, df2)"
   ]
  },
  {
   "cell_type": "markdown",
   "id": "5842ee1a",
   "metadata": {},
   "source": [
    "### Compare the Difference Between Two DataFrames"
   ]
  },
  {
   "cell_type": "markdown",
   "id": "5853e6e5",
   "metadata": {},
   "source": [
    "If you want to show and align the differences between two DataFrames, use `df.compare`."
   ]
  },
  {
   "cell_type": "code",
   "execution_count": null,
   "id": "3dc57c08",
   "metadata": {},
   "outputs": [],
   "source": [
    "import pandas as pd\n",
    "\n",
    "df1 = pd.DataFrame({\"col1\": [1, 2, 3], \"col2\": [4, 5, 6]})\n",
    "df2 = pd.DataFrame({\"col1\": [1, 3, 4], \"col2\": [4, 5, 6]})\n",
    "\n",
    "df1.compare(df2)"
   ]
  }
 ],
 "metadata": {
  "jupytext": {
   "text_representation": {
    "extension": ".md",
    "format_name": "myst",
    "format_version": 0.13,
    "jupytext_version": "1.16.7"
   }
  },
  "kernelspec": {
   "display_name": "venv",
   "language": "python",
   "name": "python3"
  },
  "source_map": [
   12,
   16,
   20,
   24,
   28,
   36,
   40,
   44,
   54,
   58,
   62,
   66
  ]
 },
 "nbformat": 4,
 "nbformat_minor": 5
}