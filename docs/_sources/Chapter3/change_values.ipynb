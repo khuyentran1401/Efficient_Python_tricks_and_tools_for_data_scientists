{
 "cells": [
  {
   "cell_type": "code",
   "execution_count": 1,
   "id": "58e9ceba",
   "metadata": {
    "ExecuteTime": {
     "end_time": "2021-11-09T16:24:30.494823Z",
     "start_time": "2021-11-09T16:24:30.480490Z"
    },
    "tags": [
     "remove-cell"
    ]
   },
   "outputs": [],
   "source": [
    "import warnings\n",
    "\n",
    "warnings.simplefilter(action=\"ignore\", category=FutureWarning)"
   ]
  },
  {
   "attachments": {},
   "cell_type": "markdown",
   "id": "363f9518",
   "metadata": {},
   "source": [
    "![](../img/change_values.png)"
   ]
  },
  {
   "attachments": {},
   "cell_type": "markdown",
   "id": "91dc6560",
   "metadata": {},
   "source": [
    "## Change Values"
   ]
  },
  {
   "attachments": {},
   "cell_type": "markdown",
   "id": "20bcbd1e",
   "metadata": {},
   "source": [
    "### Apply Multiple Functions to a DataFrame with Pipe"
   ]
  },
  {
   "cell_type": "code",
   "execution_count": null,
   "id": "706e7e3c",
   "metadata": {
    "tags": [
     "hide-cell"
    ]
   },
   "outputs": [],
   "source": [
    "!pip install textblob"
   ]
  },
  {
   "attachments": {},
   "cell_type": "markdown",
   "id": "78ea8f84",
   "metadata": {},
   "source": [
    "To increase code readability when applying multiple functions to a DataFrame, use the `pandas.DataFrame.pipe` method."
   ]
  },
  {
   "cell_type": "code",
   "execution_count": 2,
   "id": "c09f16d6",
   "metadata": {
    "ExecuteTime": {
     "end_time": "2021-11-18T14:29:11.399981Z",
     "start_time": "2021-11-18T14:29:10.420517Z"
    }
   },
   "outputs": [
    {
     "name": "stdout",
     "output_type": "stream",
     "text": [
      "   a  b  sum  diff\n",
      "0  1  4    5     3\n",
      "1  2  5    7     3\n",
      "2  3  6    9     3\n"
     ]
    }
   ],
   "source": [
    "import pandas as pd\n",
    "\n",
    "\n",
    "def get_sum(df):\n",
    "    return df.assign(sum=df.a + df.b)\n",
    "\n",
    "\n",
    "def get_diff(df):\n",
    "    return df.assign(diff=df.b - df.a)\n",
    "\n",
    "\n",
    "df = pd.DataFrame({\"a\": [1, 2, 3], \"b\": [4, 5, 6]})\n",
    "\n",
    "df = df.pipe(get_sum).pipe(get_diff)\n",
    "\n",
    "print(df)\n"
   ]
  },
  {
   "attachments": {},
   "cell_type": "markdown",
   "id": "f360baac",
   "metadata": {},
   "source": [
    "### Apply a Function to a Column of a DataFrame"
   ]
  },
  {
   "attachments": {},
   "cell_type": "markdown",
   "id": "8e74bed6",
   "metadata": {},
   "source": [
    "If you want to apply only one function to a column of a DataFrame, use `apply`."
   ]
  },
  {
   "cell_type": "code",
   "execution_count": 3,
   "id": "fe315de5",
   "metadata": {
    "ExecuteTime": {
     "end_time": "2022-01-22T14:16:11.455226Z",
     "start_time": "2022-01-22T14:16:11.428956Z"
    }
   },
   "outputs": [
    {
     "data": {
      "text/html": [
       "<div>\n",
       "<style scoped>\n",
       "    .dataframe tbody tr th:only-of-type {\n",
       "        vertical-align: middle;\n",
       "    }\n",
       "\n",
       "    .dataframe tbody tr th {\n",
       "        vertical-align: top;\n",
       "    }\n",
       "\n",
       "    .dataframe thead th {\n",
       "        text-align: right;\n",
       "    }\n",
       "</style>\n",
       "<table border=\"1\" class=\"dataframe\">\n",
       "  <thead>\n",
       "    <tr style=\"text-align: right;\">\n",
       "      <th></th>\n",
       "      <th>col1</th>\n",
       "      <th>col2</th>\n",
       "    </tr>\n",
       "  </thead>\n",
       "  <tbody>\n",
       "    <tr>\n",
       "      <th>0</th>\n",
       "      <td>1</td>\n",
       "      <td>3</td>\n",
       "    </tr>\n",
       "    <tr>\n",
       "      <th>1</th>\n",
       "      <td>2</td>\n",
       "      <td>4</td>\n",
       "    </tr>\n",
       "  </tbody>\n",
       "</table>\n",
       "</div>"
      ],
      "text/plain": [
       "   col1  col2\n",
       "0     1     3\n",
       "1     2     4"
      ]
     },
     "execution_count": 3,
     "metadata": {},
     "output_type": "execute_result"
    },
    {
     "data": {
      "application/javascript": "\n            setTimeout(function() {\n                var nbb_cell_id = 3;\n                var nbb_unformatted_code = \"import pandas as pd \\n\\ndf = pd.DataFrame({\\\"col1\\\": [1, 2], \\\"col2\\\": [3, 4]})\\ndf \";\n                var nbb_formatted_code = \"import pandas as pd\\n\\ndf = pd.DataFrame({\\\"col1\\\": [1, 2], \\\"col2\\\": [3, 4]})\\ndf\";\n                var nbb_cells = Jupyter.notebook.get_cells();\n                for (var i = 0; i < nbb_cells.length; ++i) {\n                    if (nbb_cells[i].input_prompt_number == nbb_cell_id) {\n                        if (nbb_cells[i].get_text() == nbb_unformatted_code) {\n                             nbb_cells[i].set_text(nbb_formatted_code);\n                        }\n                        break;\n                    }\n                }\n            }, 500);\n            ",
      "text/plain": [
       "<IPython.core.display.Javascript object>"
      ]
     },
     "metadata": {},
     "output_type": "display_data"
    }
   ],
   "source": [
    "import pandas as pd \n",
    "\n",
    "df = pd.DataFrame({\"col1\": [1, 2], \"col2\": [3, 4]})\n",
    "df "
   ]
  },
  {
   "cell_type": "code",
   "execution_count": 4,
   "id": "9e9f1909",
   "metadata": {
    "ExecuteTime": {
     "end_time": "2022-01-22T14:16:15.464858Z",
     "start_time": "2022-01-22T14:16:15.430097Z"
    }
   },
   "outputs": [
    {
     "data": {
      "text/html": [
       "<div>\n",
       "<style scoped>\n",
       "    .dataframe tbody tr th:only-of-type {\n",
       "        vertical-align: middle;\n",
       "    }\n",
       "\n",
       "    .dataframe tbody tr th {\n",
       "        vertical-align: top;\n",
       "    }\n",
       "\n",
       "    .dataframe thead th {\n",
       "        text-align: right;\n",
       "    }\n",
       "</style>\n",
       "<table border=\"1\" class=\"dataframe\">\n",
       "  <thead>\n",
       "    <tr style=\"text-align: right;\">\n",
       "      <th></th>\n",
       "      <th>col1</th>\n",
       "      <th>col2</th>\n",
       "    </tr>\n",
       "  </thead>\n",
       "  <tbody>\n",
       "    <tr>\n",
       "      <th>0</th>\n",
       "      <td>2</td>\n",
       "      <td>3</td>\n",
       "    </tr>\n",
       "    <tr>\n",
       "      <th>1</th>\n",
       "      <td>4</td>\n",
       "      <td>4</td>\n",
       "    </tr>\n",
       "  </tbody>\n",
       "</table>\n",
       "</div>"
      ],
      "text/plain": [
       "   col1  col2\n",
       "0     2     3\n",
       "1     4     4"
      ]
     },
     "execution_count": 4,
     "metadata": {},
     "output_type": "execute_result"
    },
    {
     "data": {
      "application/javascript": "\n            setTimeout(function() {\n                var nbb_cell_id = 4;\n                var nbb_unformatted_code = \"df['col1'] = df['col1'].apply(lambda row: row * 2)\\ndf\";\n                var nbb_formatted_code = \"df[\\\"col1\\\"] = df[\\\"col1\\\"].apply(lambda row: row * 2)\\ndf\";\n                var nbb_cells = Jupyter.notebook.get_cells();\n                for (var i = 0; i < nbb_cells.length; ++i) {\n                    if (nbb_cells[i].input_prompt_number == nbb_cell_id) {\n                        if (nbb_cells[i].get_text() == nbb_unformatted_code) {\n                             nbb_cells[i].set_text(nbb_formatted_code);\n                        }\n                        break;\n                    }\n                }\n            }, 500);\n            ",
      "text/plain": [
       "<IPython.core.display.Javascript object>"
      ]
     },
     "metadata": {},
     "output_type": "display_data"
    }
   ],
   "source": [
    "df[\"col1\"] = df[\"col1\"].apply(lambda row: row * 2)\n",
    "df"
   ]
  },
  {
   "attachments": {},
   "cell_type": "markdown",
   "id": "cd0b4dc5",
   "metadata": {},
   "source": [
    "### Apply a Function to a DataFrame Elementwise"
   ]
  },
  {
   "attachments": {},
   "cell_type": "markdown",
   "id": "af6b63fb",
   "metadata": {},
   "source": [
    "The `apply` method applies a function along an axis of a DataFrame. If you want to apply a function to a DataFrame elementwise, use `applymap`."
   ]
  },
  {
   "cell_type": "code",
   "execution_count": 8,
   "id": "82e5286d",
   "metadata": {},
   "outputs": [
    {
     "name": "stdout",
     "output_type": "stream",
     "text": [
      "   col1  col2\n",
      "0     2     3\n",
      "1     9     7\n"
     ]
    }
   ],
   "source": [
    "import pandas as pd \n",
    "\n",
    "df = pd.DataFrame({\"col1\": [2, 9], \"col2\": [3, 7]})\n",
    "print(df )"
   ]
  },
  {
   "cell_type": "code",
   "execution_count": 9,
   "id": "f71e2405",
   "metadata": {},
   "outputs": [
    {
     "name": "stdout",
     "output_type": "stream",
     "text": [
      "     col1    col2\n",
      "0  failed  failed\n",
      "1  passed  passed\n"
     ]
    }
   ],
   "source": [
    "print(df.applymap(lambda val: 'failed' if val < 5 else 'passed'))"
   ]
  },
  {
   "attachments": {},
   "cell_type": "markdown",
   "id": "9c4ec079",
   "metadata": {},
   "source": [
    "### Assign Values to Multiple New Columns"
   ]
  },
  {
   "attachments": {},
   "cell_type": "markdown",
   "id": "7bc9cf10",
   "metadata": {},
   "source": [
    "If you want to assign values to multiple new columns, instead of assigning them separately, you can do everything in one line of code with `df.assign`.\n",
    "\n",
    "In the code below, I first created `col3` then use `col3` to create `col4`. Everything is in one line of code."
   ]
  },
  {
   "cell_type": "code",
   "execution_count": 3,
   "id": "da636c0f",
   "metadata": {
    "ExecuteTime": {
     "end_time": "2021-11-18T14:29:37.879478Z",
     "start_time": "2021-11-18T14:29:37.853809Z"
    }
   },
   "outputs": [
    {
     "data": {
      "text/html": [
       "<div>\n",
       "<style scoped>\n",
       "    .dataframe tbody tr th:only-of-type {\n",
       "        vertical-align: middle;\n",
       "    }\n",
       "\n",
       "    .dataframe tbody tr th {\n",
       "        vertical-align: top;\n",
       "    }\n",
       "\n",
       "    .dataframe thead th {\n",
       "        text-align: right;\n",
       "    }\n",
       "</style>\n",
       "<table border=\"1\" class=\"dataframe\">\n",
       "  <thead>\n",
       "    <tr style=\"text-align: right;\">\n",
       "      <th></th>\n",
       "      <th>col1</th>\n",
       "      <th>col2</th>\n",
       "      <th>col3</th>\n",
       "      <th>col4</th>\n",
       "    </tr>\n",
       "  </thead>\n",
       "  <tbody>\n",
       "    <tr>\n",
       "      <th>0</th>\n",
       "      <td>1</td>\n",
       "      <td>3</td>\n",
       "      <td>103</td>\n",
       "      <td>309</td>\n",
       "    </tr>\n",
       "    <tr>\n",
       "      <th>1</th>\n",
       "      <td>2</td>\n",
       "      <td>4</td>\n",
       "      <td>204</td>\n",
       "      <td>816</td>\n",
       "    </tr>\n",
       "  </tbody>\n",
       "</table>\n",
       "</div>"
      ],
      "text/plain": [
       "   col1  col2  col3  col4\n",
       "0     1     3   103   309\n",
       "1     2     4   204   816"
      ]
     },
     "execution_count": 3,
     "metadata": {},
     "output_type": "execute_result"
    }
   ],
   "source": [
    "import pandas as pd \n",
    "\n",
    "df = pd.DataFrame({\"col1\": [1, 2], \"col2\": [3, 4]})\n",
    "\n",
    "df = df.assign(col3=lambda x: x.col1 * 100 + x.col2).assign(\n",
    "    col4=lambda x: x.col2 * x.col3\n",
    ")\n",
    "df"
   ]
  },
  {
   "attachments": {},
   "cell_type": "markdown",
   "id": "251079ae",
   "metadata": {},
   "source": [
    "### pandas.Series.map: Change Values of a Pandas Series Using a Dictionary\t"
   ]
  },
  {
   "attachments": {},
   "cell_type": "markdown",
   "id": "57ee4074",
   "metadata": {},
   "source": [
    "If you want to change values of a pandas Series using a dictionary, use `pd.Series.map`."
   ]
  },
  {
   "cell_type": "code",
   "execution_count": 2,
   "id": "87555355",
   "metadata": {
    "ExecuteTime": {
     "end_time": "2021-11-18T14:29:33.454330Z",
     "start_time": "2021-11-18T14:29:33.438262Z"
    }
   },
   "outputs": [
    {
     "data": {
      "text/plain": [
       "0    1\n",
       "1    2\n",
       "2    3\n",
       "dtype: int64"
      ]
     },
     "execution_count": 2,
     "metadata": {},
     "output_type": "execute_result"
    }
   ],
   "source": [
    "import pandas as pd \n",
    "\n",
    "s = pd.Series([\"a\", \"b\", \"c\"])\n",
    "\n",
    "s.map({\"a\": 1, \"b\": 2, \"c\": 3})"
   ]
  },
  {
   "attachments": {},
   "cell_type": "markdown",
   "id": "3268007d",
   "metadata": {},
   "source": [
    "`map` also allows you to insert a string to a pandas Series using `format`. "
   ]
  },
  {
   "cell_type": "code",
   "execution_count": 3,
   "id": "1e52fac3",
   "metadata": {},
   "outputs": [
    {
     "data": {
      "text/plain": [
       "0     Today I got some berries from my garden.\n",
       "1      Today I got some apples from my garden.\n",
       "2    Today I got some cherries from my garden.\n",
       "dtype: object"
      ]
     },
     "execution_count": 3,
     "metadata": {},
     "output_type": "execute_result"
    }
   ],
   "source": [
    "import pandas as pd  \n",
    "\n",
    "s = pd.Series([\"berries\", \"apples\", \"cherries\"])\n",
    "s.map(\"Today I got some {} from my garden.\".format)"
   ]
  },
  {
   "attachments": {},
   "cell_type": "markdown",
   "id": "a88d7ca4",
   "metadata": {},
   "source": [
    "### pandas.DataFrame.explode: Transform Each Element in an Iterable to a Row"
   ]
  },
  {
   "attachments": {},
   "cell_type": "markdown",
   "id": "1617cece",
   "metadata": {},
   "source": [
    "When working with `pandas DataFrame`, if you want to transform each element in an iterable to a row, use `explode`."
   ]
  },
  {
   "cell_type": "code",
   "execution_count": 4,
   "id": "6a7d12e9",
   "metadata": {
    "ExecuteTime": {
     "end_time": "2021-11-18T14:29:42.103951Z",
     "start_time": "2021-11-18T14:29:42.083672Z"
    }
   },
   "outputs": [
    {
     "data": {
      "text/html": [
       "<div>\n",
       "<style scoped>\n",
       "    .dataframe tbody tr th:only-of-type {\n",
       "        vertical-align: middle;\n",
       "    }\n",
       "\n",
       "    .dataframe tbody tr th {\n",
       "        vertical-align: top;\n",
       "    }\n",
       "\n",
       "    .dataframe thead th {\n",
       "        text-align: right;\n",
       "    }\n",
       "</style>\n",
       "<table border=\"1\" class=\"dataframe\">\n",
       "  <thead>\n",
       "    <tr style=\"text-align: right;\">\n",
       "      <th></th>\n",
       "      <th>a</th>\n",
       "      <th>b</th>\n",
       "    </tr>\n",
       "  </thead>\n",
       "  <tbody>\n",
       "    <tr>\n",
       "      <th>0</th>\n",
       "      <td>[1, 2]</td>\n",
       "      <td>11</td>\n",
       "    </tr>\n",
       "    <tr>\n",
       "      <th>1</th>\n",
       "      <td>[4, 5]</td>\n",
       "      <td>13</td>\n",
       "    </tr>\n",
       "  </tbody>\n",
       "</table>\n",
       "</div>"
      ],
      "text/plain": [
       "        a   b\n",
       "0  [1, 2]  11\n",
       "1  [4, 5]  13"
      ]
     },
     "execution_count": 4,
     "metadata": {},
     "output_type": "execute_result"
    }
   ],
   "source": [
    "import pandas as pd \n",
    "\n",
    "df = pd.DataFrame({\"a\": [[1, 2], [4, 5]], \"b\": [11, 13]})\n",
    "df"
   ]
  },
  {
   "cell_type": "code",
   "execution_count": 46,
   "id": "c6c7c00b",
   "metadata": {
    "ExecuteTime": {
     "end_time": "2021-09-11T15:52:03.483690Z",
     "start_time": "2021-09-11T15:52:03.456158Z"
    }
   },
   "outputs": [
    {
     "data": {
      "text/html": [
       "<div>\n",
       "<style scoped>\n",
       "    .dataframe tbody tr th:only-of-type {\n",
       "        vertical-align: middle;\n",
       "    }\n",
       "\n",
       "    .dataframe tbody tr th {\n",
       "        vertical-align: top;\n",
       "    }\n",
       "\n",
       "    .dataframe thead th {\n",
       "        text-align: right;\n",
       "    }\n",
       "</style>\n",
       "<table border=\"1\" class=\"dataframe\">\n",
       "  <thead>\n",
       "    <tr style=\"text-align: right;\">\n",
       "      <th></th>\n",
       "      <th>a</th>\n",
       "      <th>b</th>\n",
       "    </tr>\n",
       "  </thead>\n",
       "  <tbody>\n",
       "    <tr>\n",
       "      <th>0</th>\n",
       "      <td>1</td>\n",
       "      <td>11</td>\n",
       "    </tr>\n",
       "    <tr>\n",
       "      <th>0</th>\n",
       "      <td>2</td>\n",
       "      <td>11</td>\n",
       "    </tr>\n",
       "    <tr>\n",
       "      <th>1</th>\n",
       "      <td>4</td>\n",
       "      <td>13</td>\n",
       "    </tr>\n",
       "    <tr>\n",
       "      <th>1</th>\n",
       "      <td>5</td>\n",
       "      <td>13</td>\n",
       "    </tr>\n",
       "  </tbody>\n",
       "</table>\n",
       "</div>"
      ],
      "text/plain": [
       "   a   b\n",
       "0  1  11\n",
       "0  2  11\n",
       "1  4  13\n",
       "1  5  13"
      ]
     },
     "execution_count": 46,
     "metadata": {},
     "output_type": "execute_result"
    },
    {
     "data": {
      "application/javascript": "\n            setTimeout(function() {\n                var nbb_cell_id = 46;\n                var nbb_unformatted_code = \"df.explode('a')\";\n                var nbb_formatted_code = \"df.explode(\\\"a\\\")\";\n                var nbb_cells = Jupyter.notebook.get_cells();\n                for (var i = 0; i < nbb_cells.length; ++i) {\n                    if (nbb_cells[i].input_prompt_number == nbb_cell_id) {\n                        if (nbb_cells[i].get_text() == nbb_unformatted_code) {\n                             nbb_cells[i].set_text(nbb_formatted_code);\n                        }\n                        break;\n                    }\n                }\n            }, 500);\n            ",
      "text/plain": [
       "<IPython.core.display.Javascript object>"
      ]
     },
     "metadata": {},
     "output_type": "display_data"
    }
   ],
   "source": [
    "df.explode(\"a\")"
   ]
  },
  {
   "attachments": {},
   "cell_type": "markdown",
   "id": "12fd02d4",
   "metadata": {},
   "source": [
    "### Split a String into Multiple Rows"
   ]
  },
  {
   "attachments": {},
   "cell_type": "markdown",
   "id": "d40e3ee7",
   "metadata": {},
   "source": [
    "Sometimes, you might have a column whose values are strings representing different items such as `\"1, 2\"`. "
   ]
  },
  {
   "cell_type": "code",
   "execution_count": 33,
   "id": "68e2e80c",
   "metadata": {},
   "outputs": [
    {
     "data": {
      "text/html": [
       "<div>\n",
       "<style scoped>\n",
       "    .dataframe tbody tr th:only-of-type {\n",
       "        vertical-align: middle;\n",
       "    }\n",
       "\n",
       "    .dataframe tbody tr th {\n",
       "        vertical-align: top;\n",
       "    }\n",
       "\n",
       "    .dataframe thead th {\n",
       "        text-align: right;\n",
       "    }\n",
       "</style>\n",
       "<table border=\"1\" class=\"dataframe\">\n",
       "  <thead>\n",
       "    <tr style=\"text-align: right;\">\n",
       "      <th></th>\n",
       "      <th>a</th>\n",
       "      <th>b</th>\n",
       "    </tr>\n",
       "  </thead>\n",
       "  <tbody>\n",
       "    <tr>\n",
       "      <th>0</th>\n",
       "      <td>1,2</td>\n",
       "      <td>11</td>\n",
       "    </tr>\n",
       "    <tr>\n",
       "      <th>1</th>\n",
       "      <td>4,5</td>\n",
       "      <td>13</td>\n",
       "    </tr>\n",
       "  </tbody>\n",
       "</table>\n",
       "</div>"
      ],
      "text/plain": [
       "     a   b\n",
       "0  1,2  11\n",
       "1  4,5  13"
      ]
     },
     "execution_count": 33,
     "metadata": {},
     "output_type": "execute_result"
    }
   ],
   "source": [
    "import pandas as pd\n",
    "\n",
    "df = pd.DataFrame({\"a\": [\"1,2\", \"4,5\"], \"b\": [11, 13]})\n",
    "df\n"
   ]
  },
  {
   "attachments": {},
   "cell_type": "markdown",
   "id": "bdb02fdf",
   "metadata": {},
   "source": [
    "To turn each string into a list, use `Series.str.split()`:"
   ]
  },
  {
   "cell_type": "code",
   "execution_count": 34,
   "id": "6ecdcf75",
   "metadata": {},
   "outputs": [
    {
     "data": {
      "text/html": [
       "<div>\n",
       "<style scoped>\n",
       "    .dataframe tbody tr th:only-of-type {\n",
       "        vertical-align: middle;\n",
       "    }\n",
       "\n",
       "    .dataframe tbody tr th {\n",
       "        vertical-align: top;\n",
       "    }\n",
       "\n",
       "    .dataframe thead th {\n",
       "        text-align: right;\n",
       "    }\n",
       "</style>\n",
       "<table border=\"1\" class=\"dataframe\">\n",
       "  <thead>\n",
       "    <tr style=\"text-align: right;\">\n",
       "      <th></th>\n",
       "      <th>a</th>\n",
       "      <th>b</th>\n",
       "    </tr>\n",
       "  </thead>\n",
       "  <tbody>\n",
       "    <tr>\n",
       "      <th>0</th>\n",
       "      <td>[1, 2]</td>\n",
       "      <td>11</td>\n",
       "    </tr>\n",
       "    <tr>\n",
       "      <th>1</th>\n",
       "      <td>[4, 5]</td>\n",
       "      <td>13</td>\n",
       "    </tr>\n",
       "  </tbody>\n",
       "</table>\n",
       "</div>"
      ],
      "text/plain": [
       "        a   b\n",
       "0  [1, 2]  11\n",
       "1  [4, 5]  13"
      ]
     },
     "execution_count": 34,
     "metadata": {},
     "output_type": "execute_result"
    }
   ],
   "source": [
    "# Split by comma\n",
    "df.a = df.a.str.split(\",\")\n",
    "df\n"
   ]
  },
  {
   "attachments": {},
   "cell_type": "markdown",
   "id": "c39ca450",
   "metadata": {},
   "source": [
    "Now you can split elements in the list into multiple rows using `explode`."
   ]
  },
  {
   "cell_type": "code",
   "execution_count": 35,
   "id": "4780ea50",
   "metadata": {},
   "outputs": [
    {
     "data": {
      "text/html": [
       "<div>\n",
       "<style scoped>\n",
       "    .dataframe tbody tr th:only-of-type {\n",
       "        vertical-align: middle;\n",
       "    }\n",
       "\n",
       "    .dataframe tbody tr th {\n",
       "        vertical-align: top;\n",
       "    }\n",
       "\n",
       "    .dataframe thead th {\n",
       "        text-align: right;\n",
       "    }\n",
       "</style>\n",
       "<table border=\"1\" class=\"dataframe\">\n",
       "  <thead>\n",
       "    <tr style=\"text-align: right;\">\n",
       "      <th></th>\n",
       "      <th>a</th>\n",
       "      <th>b</th>\n",
       "    </tr>\n",
       "  </thead>\n",
       "  <tbody>\n",
       "    <tr>\n",
       "      <th>0</th>\n",
       "      <td>1</td>\n",
       "      <td>11</td>\n",
       "    </tr>\n",
       "    <tr>\n",
       "      <th>0</th>\n",
       "      <td>2</td>\n",
       "      <td>11</td>\n",
       "    </tr>\n",
       "    <tr>\n",
       "      <th>1</th>\n",
       "      <td>4</td>\n",
       "      <td>13</td>\n",
       "    </tr>\n",
       "    <tr>\n",
       "      <th>1</th>\n",
       "      <td>5</td>\n",
       "      <td>13</td>\n",
       "    </tr>\n",
       "  </tbody>\n",
       "</table>\n",
       "</div>"
      ],
      "text/plain": [
       "   a   b\n",
       "0  1  11\n",
       "0  2  11\n",
       "1  4  13\n",
       "1  5  13"
      ]
     },
     "execution_count": 35,
     "metadata": {},
     "output_type": "execute_result"
    }
   ],
   "source": [
    "df.explode('a')"
   ]
  },
  {
   "attachments": {},
   "cell_type": "markdown",
   "id": "c023ead6",
   "metadata": {},
   "source": [
    "### Forward Fill in pandas: Use the Previous Value to Fill the Current Missing Value"
   ]
  },
  {
   "attachments": {},
   "cell_type": "markdown",
   "id": "f135e348",
   "metadata": {},
   "source": [
    "If you want to use the previous value in a column or a row to fill the current missing value in a pandas DataFrame, use `df.fillna(method=’ffill’)`. `ffill` stands for forward fill."
   ]
  },
  {
   "cell_type": "code",
   "execution_count": 6,
   "id": "44894877",
   "metadata": {
    "ExecuteTime": {
     "end_time": "2021-11-18T14:29:51.458163Z",
     "start_time": "2021-11-18T14:29:51.436841Z"
    }
   },
   "outputs": [
    {
     "data": {
      "text/html": [
       "<div>\n",
       "<style scoped>\n",
       "    .dataframe tbody tr th:only-of-type {\n",
       "        vertical-align: middle;\n",
       "    }\n",
       "\n",
       "    .dataframe tbody tr th {\n",
       "        vertical-align: top;\n",
       "    }\n",
       "\n",
       "    .dataframe thead th {\n",
       "        text-align: right;\n",
       "    }\n",
       "</style>\n",
       "<table border=\"1\" class=\"dataframe\">\n",
       "  <thead>\n",
       "    <tr style=\"text-align: right;\">\n",
       "      <th></th>\n",
       "      <th>a</th>\n",
       "      <th>b</th>\n",
       "      <th>c</th>\n",
       "    </tr>\n",
       "  </thead>\n",
       "  <tbody>\n",
       "    <tr>\n",
       "      <th>0</th>\n",
       "      <td>1.0</td>\n",
       "      <td>4.0</td>\n",
       "      <td>1</td>\n",
       "    </tr>\n",
       "    <tr>\n",
       "      <th>1</th>\n",
       "      <td>NaN</td>\n",
       "      <td>5.0</td>\n",
       "      <td>2</td>\n",
       "    </tr>\n",
       "    <tr>\n",
       "      <th>2</th>\n",
       "      <td>3.0</td>\n",
       "      <td>NaN</td>\n",
       "      <td>3</td>\n",
       "    </tr>\n",
       "  </tbody>\n",
       "</table>\n",
       "</div>"
      ],
      "text/plain": [
       "     a    b  c\n",
       "0  1.0  4.0  1\n",
       "1  NaN  5.0  2\n",
       "2  3.0  NaN  3"
      ]
     },
     "execution_count": 6,
     "metadata": {},
     "output_type": "execute_result"
    }
   ],
   "source": [
    "import numpy as np\n",
    "import pandas as pd \n",
    "\n",
    "df = pd.DataFrame({\"a\": [1, np.nan, 3], \"b\": [4, 5, np.nan], \"c\": [1, 2, 3]})\n",
    "df"
   ]
  },
  {
   "cell_type": "code",
   "execution_count": 49,
   "id": "9286d330",
   "metadata": {
    "ExecuteTime": {
     "end_time": "2021-09-11T15:54:48.214485Z",
     "start_time": "2021-09-11T15:54:48.187329Z"
    }
   },
   "outputs": [
    {
     "data": {
      "text/html": [
       "<div>\n",
       "<style scoped>\n",
       "    .dataframe tbody tr th:only-of-type {\n",
       "        vertical-align: middle;\n",
       "    }\n",
       "\n",
       "    .dataframe tbody tr th {\n",
       "        vertical-align: top;\n",
       "    }\n",
       "\n",
       "    .dataframe thead th {\n",
       "        text-align: right;\n",
       "    }\n",
       "</style>\n",
       "<table border=\"1\" class=\"dataframe\">\n",
       "  <thead>\n",
       "    <tr style=\"text-align: right;\">\n",
       "      <th></th>\n",
       "      <th>a</th>\n",
       "      <th>b</th>\n",
       "      <th>c</th>\n",
       "    </tr>\n",
       "  </thead>\n",
       "  <tbody>\n",
       "    <tr>\n",
       "      <th>0</th>\n",
       "      <td>1.0</td>\n",
       "      <td>4.0</td>\n",
       "      <td>1</td>\n",
       "    </tr>\n",
       "    <tr>\n",
       "      <th>1</th>\n",
       "      <td>1.0</td>\n",
       "      <td>5.0</td>\n",
       "      <td>2</td>\n",
       "    </tr>\n",
       "    <tr>\n",
       "      <th>2</th>\n",
       "      <td>3.0</td>\n",
       "      <td>5.0</td>\n",
       "      <td>3</td>\n",
       "    </tr>\n",
       "  </tbody>\n",
       "</table>\n",
       "</div>"
      ],
      "text/plain": [
       "     a    b  c\n",
       "0  1.0  4.0  1\n",
       "1  1.0  5.0  2\n",
       "2  3.0  5.0  3"
      ]
     },
     "execution_count": 49,
     "metadata": {},
     "output_type": "execute_result"
    },
    {
     "data": {
      "application/javascript": "\n            setTimeout(function() {\n                var nbb_cell_id = 49;\n                var nbb_unformatted_code = \"df = df.fillna(method=\\\"ffill\\\")\\ndf \";\n                var nbb_formatted_code = \"df = df.fillna(method=\\\"ffill\\\")\\ndf\";\n                var nbb_cells = Jupyter.notebook.get_cells();\n                for (var i = 0; i < nbb_cells.length; ++i) {\n                    if (nbb_cells[i].input_prompt_number == nbb_cell_id) {\n                        if (nbb_cells[i].get_text() == nbb_unformatted_code) {\n                             nbb_cells[i].set_text(nbb_formatted_code);\n                        }\n                        break;\n                    }\n                }\n            }, 500);\n            ",
      "text/plain": [
       "<IPython.core.display.Javascript object>"
      ]
     },
     "metadata": {},
     "output_type": "display_data"
    }
   ],
   "source": [
    "df = df.fillna(method=\"ffill\")\n",
    "df"
   ]
  },
  {
   "attachments": {},
   "cell_type": "markdown",
   "id": "857b0827",
   "metadata": {},
   "source": [
    "### Replace the Missing Values with the Most Frequent Categories in a Column"
   ]
  },
  {
   "attachments": {},
   "cell_type": "markdown",
   "id": "2e06c2e5",
   "metadata": {},
   "source": [
    "If you want to replace missing values with the most frequent categories in a column, find the mode of your DataFrame and use it to fill the missing values. "
   ]
  },
  {
   "cell_type": "code",
   "execution_count": 44,
   "id": "c98d8860",
   "metadata": {},
   "outputs": [
    {
     "data": {
      "text/html": [
       "<div>\n",
       "<style scoped>\n",
       "    .dataframe tbody tr th:only-of-type {\n",
       "        vertical-align: middle;\n",
       "    }\n",
       "\n",
       "    .dataframe tbody tr th {\n",
       "        vertical-align: top;\n",
       "    }\n",
       "\n",
       "    .dataframe thead th {\n",
       "        text-align: right;\n",
       "    }\n",
       "</style>\n",
       "<table border=\"1\" class=\"dataframe\">\n",
       "  <thead>\n",
       "    <tr style=\"text-align: right;\">\n",
       "      <th></th>\n",
       "      <th>a</th>\n",
       "      <th>b</th>\n",
       "    </tr>\n",
       "  </thead>\n",
       "  <tbody>\n",
       "    <tr>\n",
       "      <th>0</th>\n",
       "      <td>1.0</td>\n",
       "      <td>4.0</td>\n",
       "    </tr>\n",
       "    <tr>\n",
       "      <th>1</th>\n",
       "      <td>3.0</td>\n",
       "      <td>5.0</td>\n",
       "    </tr>\n",
       "    <tr>\n",
       "      <th>2</th>\n",
       "      <td>NaN</td>\n",
       "      <td>4.0</td>\n",
       "    </tr>\n",
       "    <tr>\n",
       "      <th>3</th>\n",
       "      <td>3.0</td>\n",
       "      <td>NaN</td>\n",
       "    </tr>\n",
       "  </tbody>\n",
       "</table>\n",
       "</div>"
      ],
      "text/plain": [
       "     a    b\n",
       "0  1.0  4.0\n",
       "1  3.0  5.0\n",
       "2  NaN  4.0\n",
       "3  3.0  NaN"
      ]
     },
     "execution_count": 44,
     "metadata": {},
     "output_type": "execute_result"
    }
   ],
   "source": [
    "import numpy as np\n",
    "import pandas as pd \n",
    "\n",
    "df = pd.DataFrame({\"a\": [1, 3, np.nan, 3], \"b\": [4, 5, 4, np.nan]})\n",
    "df"
   ]
  },
  {
   "cell_type": "code",
   "execution_count": 45,
   "id": "f0abb37e",
   "metadata": {},
   "outputs": [
    {
     "data": {
      "text/html": [
       "<div>\n",
       "<style scoped>\n",
       "    .dataframe tbody tr th:only-of-type {\n",
       "        vertical-align: middle;\n",
       "    }\n",
       "\n",
       "    .dataframe tbody tr th {\n",
       "        vertical-align: top;\n",
       "    }\n",
       "\n",
       "    .dataframe thead th {\n",
       "        text-align: right;\n",
       "    }\n",
       "</style>\n",
       "<table border=\"1\" class=\"dataframe\">\n",
       "  <thead>\n",
       "    <tr style=\"text-align: right;\">\n",
       "      <th></th>\n",
       "      <th>a</th>\n",
       "      <th>b</th>\n",
       "    </tr>\n",
       "  </thead>\n",
       "  <tbody>\n",
       "    <tr>\n",
       "      <th>0</th>\n",
       "      <td>1.0</td>\n",
       "      <td>4.0</td>\n",
       "    </tr>\n",
       "    <tr>\n",
       "      <th>1</th>\n",
       "      <td>3.0</td>\n",
       "      <td>5.0</td>\n",
       "    </tr>\n",
       "    <tr>\n",
       "      <th>2</th>\n",
       "      <td>3.0</td>\n",
       "      <td>4.0</td>\n",
       "    </tr>\n",
       "    <tr>\n",
       "      <th>3</th>\n",
       "      <td>3.0</td>\n",
       "      <td>4.0</td>\n",
       "    </tr>\n",
       "  </tbody>\n",
       "</table>\n",
       "</div>"
      ],
      "text/plain": [
       "     a    b\n",
       "0  1.0  4.0\n",
       "1  3.0  5.0\n",
       "2  3.0  4.0\n",
       "3  3.0  4.0"
      ]
     },
     "execution_count": 45,
     "metadata": {},
     "output_type": "execute_result"
    }
   ],
   "source": [
    "df.fillna(df.mode().iloc[0])"
   ]
  },
  {
   "attachments": {},
   "cell_type": "markdown",
   "id": "09b9e2bd",
   "metadata": {},
   "source": [
    "### Encode Categorical Values in a Pandas DataFrame"
   ]
  },
  {
   "attachments": {},
   "cell_type": "markdown",
   "id": "456f2ff7",
   "metadata": {},
   "source": [
    "There are multiple ways for you to encode a categorical column in a pandas DataFrame. If you simply want to convert each value in a column to a number, use `cat.codes`.  "
   ]
  },
  {
   "cell_type": "code",
   "execution_count": 9,
   "id": "e5fec9cb",
   "metadata": {},
   "outputs": [
    {
     "name": "stdout",
     "output_type": "stream",
     "text": [
      "  col1  encoded_col1\n",
      "0    a             0\n",
      "1    b             1\n",
      "2    b             1\n",
      "3    c             2\n"
     ]
    }
   ],
   "source": [
    "import pandas as pd\n",
    "\n",
    "df = pd.DataFrame({\"col1\": [\"a\", \"b\", \"b\", \"c\"]})\n",
    "\n",
    "# Convert col1 to a category\n",
    "df[\"col1\"] = df[\"col1\"].astype(\"category\")\n",
    "\n",
    "# Encode col1\n",
    "df[\"encoded_col1\"] = df[\"col1\"].cat.codes\n",
    "print(df)\n"
   ]
  },
  {
   "attachments": {},
   "cell_type": "markdown",
   "id": "83083e1d",
   "metadata": {},
   "source": [
    "### Raise an Exception for a Chained Assignment in pandas"
   ]
  },
  {
   "attachments": {},
   "cell_type": "markdown",
   "id": "57efd751",
   "metadata": {},
   "source": [
    "Pandas allows chained assignments, which involve performing multiple indexing operations in a single statement, but they can lead to unexpected results or errors.\n",
    "\n",
    "The statement below fails to modify the values in `df` as intended, but it doesn't throw an error."
   ]
  },
  {
   "cell_type": "code",
   "execution_count": 2,
   "id": "57e40125",
   "metadata": {},
   "outputs": [
    {
     "name": "stderr",
     "output_type": "stream",
     "text": [
      "/var/folders/5w/fg65_rp17lz39z89p0nkv8ch0000gn/T/ipykernel_77093/431778579.py:7: SettingWithCopyWarning: \n",
      "A value is trying to be set on a copy of a slice from a DataFrame.\n",
      "Try using .loc[row_indexer,col_indexer] = value instead\n",
      "\n",
      "See the caveats in the documentation: https://pandas.pydata.org/pandas-docs/stable/user_guide/indexing.html#returning-a-view-versus-a-copy\n",
      "  df[df[\"col1\"] > 0][\"col2\"] = 1\n"
     ]
    },
    {
     "data": {
      "text/html": [
       "<div>\n",
       "<style scoped>\n",
       "    .dataframe tbody tr th:only-of-type {\n",
       "        vertical-align: middle;\n",
       "    }\n",
       "\n",
       "    .dataframe tbody tr th {\n",
       "        vertical-align: top;\n",
       "    }\n",
       "\n",
       "    .dataframe thead th {\n",
       "        text-align: right;\n",
       "    }\n",
       "</style>\n",
       "<table border=\"1\" class=\"dataframe\">\n",
       "  <thead>\n",
       "    <tr style=\"text-align: right;\">\n",
       "      <th></th>\n",
       "      <th>col1</th>\n",
       "      <th>col2</th>\n",
       "    </tr>\n",
       "  </thead>\n",
       "  <tbody>\n",
       "    <tr>\n",
       "      <th>0</th>\n",
       "      <td>-2</td>\n",
       "      <td>0</td>\n",
       "    </tr>\n",
       "    <tr>\n",
       "      <th>1</th>\n",
       "      <td>2</td>\n",
       "      <td>0</td>\n",
       "    </tr>\n",
       "  </tbody>\n",
       "</table>\n",
       "</div>"
      ],
      "text/plain": [
       "   col1  col2\n",
       "0    -2     0\n",
       "1     2     0"
      ]
     },
     "execution_count": 2,
     "metadata": {},
     "output_type": "execute_result"
    }
   ],
   "source": [
    "import pandas as pd\n",
    "\n",
    "df = pd.DataFrame({\"col1\": [-2, 2], \"col2\": [0, 0]})\n",
    "\n",
    "# Create a new copy of the selected rows\n",
    "# Sets the value of `col2` to 1 in the new copy\n",
    "df[df[\"col1\"] > 0][\"col2\"] = 1\n",
    "df\n"
   ]
  },
  {
   "attachments": {},
   "cell_type": "markdown",
   "id": "78c993b3",
   "metadata": {},
   "source": [
    "Setting `pd.options.mode.chained_assignment` to `'raise'` will cause pandas to raise an exception if a chained assignment occurs."
   ]
  },
  {
   "cell_type": "code",
   "execution_count": null,
   "id": "19aae543",
   "metadata": {},
   "outputs": [],
   "source": [
    "pd.options.mode.chained_assignment = \"raise\"\n",
    "df = pd.DataFrame({\"col1\": [-2, 2], \"col2\": [0, 0]})\n",
    "df[df[\"col1\"] > 0][\"col2\"] = 1"
   ]
  },
  {
   "attachments": {},
   "cell_type": "markdown",
   "id": "b1c5ee64",
   "metadata": {},
   "source": [
    "```bash\n",
    "SettingWithCopyError: \n",
    "A value is trying to be set on a copy of a slice from a DataFrame.\n",
    "Try using .loc[row_indexer,col_indexer] = value instead\n",
    "\n",
    "See the caveats in the documentation: https://pandas.pydata.org/pandas-docs/stable/user_guide/indexing.html#returning-a-view-versus-a-copy\n",
    "```"
   ]
  }
 ],
 "metadata": {
  "celltoolbar": "Tags",
  "kernelspec": {
   "display_name": "Python 3.8.9 ('venv': venv)",
   "language": "python",
   "name": "python3"
  },
  "language_info": {
   "codemirror_mode": {
    "name": "ipython",
    "version": 3
   },
   "file_extension": ".py",
   "mimetype": "text/x-python",
   "name": "python",
   "nbconvert_exporter": "python",
   "pygments_lexer": "ipython3",
   "version": "3.9.6"
  },
  "toc": {
   "base_numbering": 1,
   "nav_menu": {},
   "number_sections": true,
   "sideBar": true,
   "skip_h1_title": false,
   "title_cell": "Table of Contents",
   "title_sidebar": "Contents",
   "toc_cell": false,
   "toc_position": {},
   "toc_section_display": true,
   "toc_window_display": false
  },
  "vscode": {
   "interpreter": {
    "hash": "484329849bb907480cd798e750759bc6f1d66c93f9e78e7055aa0a2c2de6b47b"
   }
  }
 },
 "nbformat": 4,
 "nbformat_minor": 5
}
