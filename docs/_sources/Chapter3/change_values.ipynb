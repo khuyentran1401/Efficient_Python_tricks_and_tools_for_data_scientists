{
 "cells": [
  {
   "cell_type": "code",
   "execution_count": null,
   "id": "6dfdde4b",
   "metadata": {
    "tags": [
     "remove-cell"
    ]
   },
   "outputs": [],
   "source": [
    "import warnings\n",
    "\n",
    "warnings.simplefilter(action=\"ignore\", category=FutureWarning)"
   ]
  },
  {
   "cell_type": "markdown",
   "id": "4757cc8c",
   "metadata": {},
   "source": [
    "![](../img/change_values.png)"
   ]
  },
  {
   "cell_type": "markdown",
   "id": "fe10c399",
   "metadata": {},
   "source": [
    "## Change Values"
   ]
  },
  {
   "cell_type": "markdown",
   "id": "f1bdd82d",
   "metadata": {},
   "source": [
    "### Apply Multiple Functions to a DataFrame with Pipe"
   ]
  },
  {
   "cell_type": "code",
   "execution_count": null,
   "id": "4fbab40d",
   "metadata": {
    "tags": [
     "hide-cell"
    ]
   },
   "outputs": [],
   "source": [
    "!pip install textblob"
   ]
  },
  {
   "cell_type": "markdown",
   "id": "a2068d03",
   "metadata": {},
   "source": [
    "To increase code readability when applying multiple functions to a DataFrame, use the `pandas.DataFrame.pipe` method."
   ]
  },
  {
   "cell_type": "code",
   "execution_count": null,
   "id": "12418bbd",
   "metadata": {},
   "outputs": [],
   "source": [
    "import pandas as pd\n",
    "\n",
    "\n",
    "def get_sum(df):\n",
    "    df[\"sum\"] = df.a + df.b\n",
    "    return df\n",
    "\n",
    "\n",
    "def drop_column(df, col_name):\n",
    "    return df.drop(col_name, axis=1)\n",
    "\n",
    "\n",
    "df = pd.DataFrame({\"a\": [1, 2, 3], \"b\": [4, 5, 6]})\n",
    "\n",
    "df.pipe(get_sum).pipe(drop_column, \"a\")"
   ]
  },
  {
   "cell_type": "markdown",
   "id": "4c0e2e88",
   "metadata": {},
   "source": [
    "### Apply a Function to a Column of a DataFrame"
   ]
  },
  {
   "cell_type": "markdown",
   "id": "bd2c1bd5",
   "metadata": {},
   "source": [
    "If you want to apply only one function to a column of a DataFrame, use `apply`."
   ]
  },
  {
   "cell_type": "code",
   "execution_count": null,
   "id": "b6bd57bd",
   "metadata": {},
   "outputs": [],
   "source": [
    "import pandas as pd\n",
    "\n",
    "df = pd.DataFrame({\"col1\": [1, 2], \"col2\": [3, 4]})\n",
    "df"
   ]
  },
  {
   "cell_type": "code",
   "execution_count": null,
   "id": "32610a91",
   "metadata": {},
   "outputs": [],
   "source": [
    "df[\"col1\"] = df[\"col1\"].apply(lambda row: row * 2)\n",
    "df"
   ]
  },
  {
   "cell_type": "markdown",
   "id": "11324261",
   "metadata": {},
   "source": [
    "### Apply a Function to a DataFrame Elementwise"
   ]
  },
  {
   "cell_type": "markdown",
   "id": "1d1ceb8c",
   "metadata": {},
   "source": [
    "The `apply` method applies a function along an axis of a DataFrame. If you want to apply a function to a DataFrame elementwise, use `applymap`."
   ]
  },
  {
   "cell_type": "code",
   "execution_count": null,
   "id": "346dd126",
   "metadata": {},
   "outputs": [],
   "source": [
    "import pandas as pd\n",
    "\n",
    "df = pd.DataFrame({\"col1\": [2, 9], \"col2\": [3, 7]})\n",
    "df"
   ]
  },
  {
   "cell_type": "code",
   "execution_count": null,
   "id": "d980032c",
   "metadata": {},
   "outputs": [],
   "source": [
    "df.applymap(lambda val: \"failed\" if val < 5 else \"passed\")"
   ]
  },
  {
   "cell_type": "markdown",
   "id": "58e6714c",
   "metadata": {},
   "source": [
    "### Assign Values to Multiple New Columns"
   ]
  },
  {
   "cell_type": "markdown",
   "id": "938d4d6c",
   "metadata": {},
   "source": [
    "If you want to assign values to multiple new columns, instead of assigning them separately, you can do everything in one line of code with `df.assign`.\n",
    "\n",
    "In the code below, I first created `col3` then use `col3` to create `col4`. Everything is in one line of code."
   ]
  },
  {
   "cell_type": "code",
   "execution_count": null,
   "id": "d41b838f",
   "metadata": {},
   "outputs": [],
   "source": [
    "import pandas as pd\n",
    "\n",
    "df = pd.DataFrame({\"col1\": [1, 2], \"col2\": [3, 4]})\n",
    "\n",
    "df = df.assign(col3=lambda x: x.col1 * 100 + x.col2).assign(\n",
    "    col4=lambda x: x.col2 * x.col3\n",
    ")\n",
    "df"
   ]
  },
  {
   "cell_type": "markdown",
   "id": "b8b1b36f",
   "metadata": {},
   "source": [
    "### pandas.Series.map: Change Values of a Pandas Series Using a Dictionary"
   ]
  },
  {
   "cell_type": "markdown",
   "id": "75b63556",
   "metadata": {},
   "source": [
    "If you want to change values of a pandas Series using a dictionary, use `pd.Series.map`."
   ]
  },
  {
   "cell_type": "code",
   "execution_count": null,
   "id": "2842973b",
   "metadata": {},
   "outputs": [],
   "source": [
    "import pandas as pd\n",
    "\n",
    "s = pd.Series([\"a\", \"b\", \"c\"])\n",
    "\n",
    "s.map({\"a\": 1, \"b\": 2, \"c\": 3})"
   ]
  },
  {
   "cell_type": "markdown",
   "id": "b23a6507",
   "metadata": {},
   "source": [
    "`map` also allows you to insert a string to a pandas Series using `format`."
   ]
  },
  {
   "cell_type": "code",
   "execution_count": null,
   "id": "7cd0aa6e",
   "metadata": {},
   "outputs": [],
   "source": [
    "import pandas as pd\n",
    "\n",
    "s = pd.Series([\"berries\", \"apples\", \"cherries\"])\n",
    "s.map(\"Today I got some {} from my garden.\".format)"
   ]
  },
  {
   "cell_type": "markdown",
   "id": "93bcc407",
   "metadata": {},
   "source": [
    "### pandas.DataFrame.explode: Transform Each Element in an Iterable to a Row"
   ]
  },
  {
   "cell_type": "markdown",
   "id": "999c5895",
   "metadata": {},
   "source": [
    "When working with `pandas DataFrame`, if you want to transform each element in an iterable to a row, use `explode`."
   ]
  },
  {
   "cell_type": "code",
   "execution_count": null,
   "id": "11d58c9c",
   "metadata": {},
   "outputs": [],
   "source": [
    "import pandas as pd\n",
    "\n",
    "df = pd.DataFrame({\"a\": [[1, 2], [4, 5]], \"b\": [11, 13]})\n",
    "df"
   ]
  },
  {
   "cell_type": "code",
   "execution_count": null,
   "id": "99b9adff",
   "metadata": {},
   "outputs": [],
   "source": [
    "df.explode(\"a\")"
   ]
  },
  {
   "cell_type": "markdown",
   "id": "4cb7cf4a",
   "metadata": {},
   "source": [
    "### Split a String into Multiple Rows"
   ]
  },
  {
   "cell_type": "markdown",
   "id": "c3b8ab5f",
   "metadata": {},
   "source": [
    "Sometimes, you might have a column whose values are strings representing different items such as `\"1, 2\"`."
   ]
  },
  {
   "cell_type": "code",
   "execution_count": null,
   "id": "e19a5503",
   "metadata": {},
   "outputs": [],
   "source": [
    "import pandas as pd\n",
    "\n",
    "df = pd.DataFrame({\"a\": [\"1,2\", \"4,5\"], \"b\": [11, 13]})\n",
    "df"
   ]
  },
  {
   "cell_type": "markdown",
   "id": "eb15a155",
   "metadata": {},
   "source": [
    "To turn each string into a list, use `Series.str.split()`:"
   ]
  },
  {
   "cell_type": "code",
   "execution_count": null,
   "id": "24dbc197",
   "metadata": {},
   "outputs": [],
   "source": [
    "# Split by comma\n",
    "df.a = df.a.str.split(\",\")\n",
    "df"
   ]
  },
  {
   "cell_type": "markdown",
   "id": "1b36d012",
   "metadata": {},
   "source": [
    "Now you can split elements in the list into multiple rows using `explode`."
   ]
  },
  {
   "cell_type": "code",
   "execution_count": null,
   "id": "9bb705db",
   "metadata": {},
   "outputs": [],
   "source": [
    "df.explode(\"a\")"
   ]
  },
  {
   "cell_type": "markdown",
   "id": "14a47270",
   "metadata": {},
   "source": [
    "### Forward Fill in pandas: Use the Previous Value to Fill the Current Missing Value"
   ]
  },
  {
   "cell_type": "markdown",
   "id": "b14d22cc",
   "metadata": {},
   "source": [
    "If you want to use the previous value in a column or a row to fill the current missing value in a pandas DataFrame, use `df.fillna(method=’ffill’)`. `ffill` stands for forward fill."
   ]
  },
  {
   "cell_type": "code",
   "execution_count": null,
   "id": "357dc00b",
   "metadata": {},
   "outputs": [],
   "source": [
    "import numpy as np\n",
    "import pandas as pd\n",
    "\n",
    "df = pd.DataFrame({\"a\": [1, np.nan, 3], \"b\": [4, 5, np.nan], \"c\": [1, 2, 3]})\n",
    "df"
   ]
  },
  {
   "cell_type": "code",
   "execution_count": null,
   "id": "0c65a843",
   "metadata": {},
   "outputs": [],
   "source": [
    "df = df.fillna(method=\"ffill\")\n",
    "df"
   ]
  },
  {
   "cell_type": "markdown",
   "id": "aec4b5f4",
   "metadata": {},
   "source": [
    "### Replace the Missing Values with the Most Frequent Categories in a Column"
   ]
  },
  {
   "cell_type": "markdown",
   "id": "936389f8",
   "metadata": {},
   "source": [
    "If you want to replace missing values with the most frequent categories in a column, find the mode of your DataFrame and use it to fill the missing values."
   ]
  },
  {
   "cell_type": "code",
   "execution_count": null,
   "id": "1ede8ec4",
   "metadata": {},
   "outputs": [],
   "source": [
    "import numpy as np\n",
    "import pandas as pd\n",
    "\n",
    "df = pd.DataFrame({\"a\": [1, 3, np.nan, 3], \"b\": [4, 5, 4, np.nan]})\n",
    "df"
   ]
  },
  {
   "cell_type": "code",
   "execution_count": null,
   "id": "0226ead4",
   "metadata": {},
   "outputs": [],
   "source": [
    "df.fillna(df.mode().iloc[0])"
   ]
  },
  {
   "cell_type": "markdown",
   "id": "27b6fcd5",
   "metadata": {},
   "source": [
    "### Encode Categorical Values in a Pandas DataFrame"
   ]
  },
  {
   "cell_type": "markdown",
   "id": "c9dcb6ca",
   "metadata": {},
   "source": [
    "There are multiple ways for you to encode a categorical column in a pandas DataFrame. If you simply want to convert each value in a column to a number, use `cat.codes`."
   ]
  },
  {
   "cell_type": "code",
   "execution_count": null,
   "id": "36da3d1a",
   "metadata": {},
   "outputs": [],
   "source": [
    "import pandas as pd\n",
    "\n",
    "df = pd.DataFrame({\"col1\": [\"a\", \"b\", \"b\", \"c\"]})\n",
    "\n",
    "# Convert col1 to a category\n",
    "df[\"col1\"] = df[\"col1\"].astype(\"category\")\n",
    "\n",
    "# Encode col1\n",
    "df[\"encoded_col1\"] = df[\"col1\"].cat.codes\n",
    "print(df)"
   ]
  },
  {
   "cell_type": "markdown",
   "id": "22729464",
   "metadata": {},
   "source": [
    "### Optimize Your Pandas Code with Vectorized Operations"
   ]
  },
  {
   "cell_type": "markdown",
   "id": "5f8bb020",
   "metadata": {},
   "source": [
    "Use pandas' vectorized operations instead of performing operations on each column individually. This leverages pandas' optimized C implementation for better performance, especially with large datasets.\n",
    "\n",
    "In the following example, the first approach iterates over each column individually, while the second approach uses a vectorized operation to fill the missing values in one go."
   ]
  },
  {
   "cell_type": "code",
   "execution_count": null,
   "id": "79283a99",
   "metadata": {},
   "outputs": [],
   "source": [
    "import pandas as pd\n",
    "import numpy as np\n",
    "\n",
    "# Create a sample DataFrame with missing values\n",
    "data = pd.DataFrame(\n",
    "    {\n",
    "        \"A\": [1, 2, np.nan, 4, 5],\n",
    "        \"B\": [np.nan, 2, 3, np.nan, 5],\n",
    "    }\n",
    ")\n",
    "\n",
    "fill_dict = {\"A\": 3, \"B\": 1}\n",
    "\n",
    "# Iterate over each column and fill missing values with 0\n",
    "df = data.copy()\n",
    "for col, value in fill_dict.items():\n",
    "    df[col] = df[col].fillna(value)\n",
    "print(df)\n",
    "\n",
    "# Use vectorized operations to fill missing values\n",
    "df = data.copy()\n",
    "df = df.fillna(fill_dict)\n",
    "print(df)"
   ]
  },
  {
   "cell_type": "markdown",
   "id": "deee2740",
   "metadata": {},
   "source": [
    "### Raise an Exception for a Chained Assignment in pandas"
   ]
  },
  {
   "cell_type": "markdown",
   "id": "7cc2dd25",
   "metadata": {},
   "source": [
    "Pandas allows chained assignments, which involve performing multiple indexing operations in a single statement, but they can lead to unexpected results or errors.\n",
    "\n",
    "The statement below fails to modify the values in `df` as intended, but it doesn't throw an error."
   ]
  },
  {
   "cell_type": "code",
   "execution_count": null,
   "id": "4845f5bb",
   "metadata": {},
   "outputs": [],
   "source": [
    "import pandas as pd\n",
    "\n",
    "df = pd.DataFrame({\"col1\": [-2, 2], \"col2\": [0, 0]})\n",
    "\n",
    "# Create a new copy of the selected rows\n",
    "# Sets the value of `col2` to 1 in the new copy\n",
    "df[df[\"col1\"] > 0][\"col2\"] = 1\n",
    "df"
   ]
  },
  {
   "cell_type": "markdown",
   "id": "ebc2e395",
   "metadata": {},
   "source": [
    "Setting `pd.options.mode.chained_assignment` to `'raise'` will cause pandas to raise an exception if a chained assignment occurs."
   ]
  },
  {
   "cell_type": "code",
   "execution_count": null,
   "id": "6bd11a56",
   "metadata": {},
   "outputs": [],
   "source": [
    "pd.options.mode.chained_assignment = \"raise\"\n",
    "df = pd.DataFrame({\"col1\": [-2, 2], \"col2\": [0, 0]})\n",
    "df[df[\"col1\"] > 0][\"col2\"] = 1"
   ]
  },
  {
   "cell_type": "markdown",
   "id": "3f791ae8",
   "metadata": {},
   "source": [
    "```bash\n",
    "SettingWithCopyError: \n",
    "A value is trying to be set on a copy of a slice from a DataFrame.\n",
    "Try using .loc[row_indexer,col_indexer] = value instead\n",
    "\n",
    "See the caveats in the documentation: https://pandas.pydata.org/pandas-docs/stable/user_guide/indexing.html#returning-a-view-versus-a-copy\n",
    "```"
   ]
  }
 ],
 "metadata": {
  "jupytext": {
   "text_representation": {
    "extension": ".md",
    "format_name": "myst",
    "format_version": 0.13,
    "jupytext_version": "1.16.7"
   }
  },
  "kernelspec": {
   "display_name": "Python 3.8.9 ('venv': venv)",
   "language": "python",
   "name": "python3"
  },
  "source_map": [
   14,
   20,
   24,
   28,
   32,
   36,
   40,
   56,
   60,
   64,
   71,
   74,
   78,
   82,
   89,
   91,
   95,
   101,
   110,
   114,
   118,
   124,
   128,
   133,
   137,
   141,
   148,
   150,
   154,
   158,
   163,
   167,
   171,
   175,
   177,
   181,
   185,
   193,
   196,
   200,
   204,
   212,
   214,
   218,
   222,
   233,
   237,
   243,
   267,
   271,
   277,
   286,
   290,
   294
  ]
 },
 "nbformat": 4,
 "nbformat_minor": 5
}