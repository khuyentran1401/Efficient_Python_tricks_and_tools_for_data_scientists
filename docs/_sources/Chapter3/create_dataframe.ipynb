{
 "cells": [
  {
   "attachments": {},
   "cell_type": "markdown",
   "id": "493576fb",
   "metadata": {},
   "source": [
    "## Create a DataFrame"
   ]
  },
  {
   "attachments": {},
   "cell_type": "markdown",
   "id": "815b60e8",
   "metadata": {},
   "source": [
    "This section shows some tips to read or create a DataFrame."
   ]
  },
  {
   "attachments": {},
   "cell_type": "markdown",
   "id": "53ef8835",
   "metadata": {},
   "source": [
    "### Leverage PyArrow for Efficient Parquet Data Filtering"
   ]
  },
  {
   "attachments": {},
   "cell_type": "markdown",
   "id": "8426d835",
   "metadata": {},
   "source": [
    "When dealing with Parquet files in pandas, it is common to first load the data into a pandas DataFrame and then apply filters.\n",
    "\n",
    "To improve query execution speed, push down the filers to the PyArrow engine to leverage PyArrow's processing optimizations.\n",
    "\n",
    "In the following code, filtering a dataset of 100 million rows using PyArrow is approximately 113 times faster than performing the same operation with pandas."
   ]
  },
  {
   "cell_type": "code",
   "execution_count": 15,
   "id": "7db52535",
   "metadata": {},
   "outputs": [],
   "source": [
    "import pandas as pd\n",
    "import numpy as np\n",
    "\n",
    "file_path = \"data.parquet\"\n",
    "\n",
    "# Define the number of rows\n",
    "num_rows = 100_000_000\n",
    "\n",
    "# Generate the DataFrame\n",
    "data = {\"id\": range(1, num_rows + 1), \"price\": np.random.rand(num_rows) * 100}\n",
    "df = pd.DataFrame(data)\n",
    "\n",
    "# Write the result to a Parquet file\n",
    "df.to_parquet(file_path, index=False, row_group_size=2_000_000)\n"
   ]
  },
  {
   "cell_type": "code",
   "execution_count": 16,
   "id": "9e3ecc24",
   "metadata": {},
   "outputs": [
    {
     "name": "stdout",
     "output_type": "stream",
     "text": [
      "2.2 s ± 106 ms per loop (mean ± std. dev. of 7 runs, 1 loop each)\n"
     ]
    }
   ],
   "source": [
    "%%timeit\n",
    "pd.read_parquet(file_path).query(\"id == 50000\")"
   ]
  },
  {
   "cell_type": "code",
   "execution_count": 17,
   "id": "782d51eb",
   "metadata": {},
   "outputs": [
    {
     "name": "stdout",
     "output_type": "stream",
     "text": [
      "19.5 ms ± 414 µs per loop (mean ± std. dev. of 7 runs, 100 loops each)\n"
     ]
    }
   ],
   "source": [
    "%%timeit\n",
    "pd.read_parquet(file_path, filters=[(\"id\", \"=\", 50000)])"
   ]
  },
  {
   "attachments": {},
   "cell_type": "markdown",
   "id": "11573c45",
   "metadata": {},
   "source": [
    "### Fix Unnamed:0 When Reading a CSV in pandas"
   ]
  },
  {
   "attachments": {},
   "cell_type": "markdown",
   "id": "a8d34f84",
   "metadata": {},
   "source": [
    "Sometimes, when reading a CSV in pandas, you will get an `Unnamed:0` column."
   ]
  },
  {
   "cell_type": "code",
   "execution_count": 2,
   "id": "1d485a74",
   "metadata": {},
   "outputs": [],
   "source": [
    "# Create data\n",
    "import pandas as pd  \n",
    "\n",
    "df = pd.DataFrame({'a': [1, 2, 3], 'b': [4, 5, 6]})\n",
    "df.to_csv('data.csv')"
   ]
  },
  {
   "cell_type": "code",
   "execution_count": 3,
   "id": "9ab24603",
   "metadata": {},
   "outputs": [
    {
     "name": "stdout",
     "output_type": "stream",
     "text": [
      "   Unnamed: 0  a  b\n",
      "0           0  1  4\n",
      "1           1  2  5\n",
      "2           2  3  6\n"
     ]
    }
   ],
   "source": [
    "import pandas as pd  \n",
    "\n",
    "df = pd.read_csv('data.csv')\n",
    "print(df)"
   ]
  },
  {
   "attachments": {},
   "cell_type": "markdown",
   "id": "4b063da9",
   "metadata": {},
   "source": [
    " To fix this, add `index_col=0` to `pandas.read_csv`."
   ]
  },
  {
   "cell_type": "code",
   "execution_count": 5,
   "id": "1c3be62e",
   "metadata": {},
   "outputs": [
    {
     "name": "stdout",
     "output_type": "stream",
     "text": [
      "   a  b\n",
      "0  1  4\n",
      "1  2  5\n",
      "2  3  6\n"
     ]
    }
   ],
   "source": [
    "df = pd.read_csv('data.csv', index_col=0)\n",
    "print(df)"
   ]
  },
  {
   "attachments": {},
   "cell_type": "markdown",
   "id": "9e67d1e8",
   "metadata": {},
   "source": [
    "### Read Data from a Website"
   ]
  },
  {
   "attachments": {},
   "cell_type": "markdown",
   "id": "07c836ce",
   "metadata": {},
   "source": [
    "pandas allows you to read data from a website without downloading the data. \n",
    "\n",
    "For example, to read a CSV from GitHub, click Raw then copy the link. \n",
    "\n",
    "![](../img/github_raw.png)"
   ]
  },
  {
   "cell_type": "code",
   "execution_count": 17,
   "id": "a64b1c5a",
   "metadata": {},
   "outputs": [],
   "source": [
    "import pandas as pd  \n",
    "\n",
    "df = pd.read_csv(\"https://raw.githubusercontent.com/mwaskom/seaborn-data/master/exercise.csv\", index_col=0)"
   ]
  },
  {
   "cell_type": "code",
   "execution_count": 20,
   "id": "ed5e38af",
   "metadata": {},
   "outputs": [
    {
     "data": {
      "text/html": [
       "<div>\n",
       "<style scoped>\n",
       "    .dataframe tbody tr th:only-of-type {\n",
       "        vertical-align: middle;\n",
       "    }\n",
       "\n",
       "    .dataframe tbody tr th {\n",
       "        vertical-align: top;\n",
       "    }\n",
       "\n",
       "    .dataframe thead th {\n",
       "        text-align: right;\n",
       "    }\n",
       "</style>\n",
       "<table border=\"1\" class=\"dataframe\">\n",
       "  <thead>\n",
       "    <tr style=\"text-align: right;\">\n",
       "      <th></th>\n",
       "      <th>id</th>\n",
       "      <th>diet</th>\n",
       "      <th>pulse</th>\n",
       "      <th>time</th>\n",
       "      <th>kind</th>\n",
       "    </tr>\n",
       "  </thead>\n",
       "  <tbody>\n",
       "    <tr>\n",
       "      <th>0</th>\n",
       "      <td>1</td>\n",
       "      <td>low fat</td>\n",
       "      <td>85</td>\n",
       "      <td>1 min</td>\n",
       "      <td>rest</td>\n",
       "    </tr>\n",
       "    <tr>\n",
       "      <th>1</th>\n",
       "      <td>1</td>\n",
       "      <td>low fat</td>\n",
       "      <td>85</td>\n",
       "      <td>15 min</td>\n",
       "      <td>rest</td>\n",
       "    </tr>\n",
       "    <tr>\n",
       "      <th>2</th>\n",
       "      <td>1</td>\n",
       "      <td>low fat</td>\n",
       "      <td>88</td>\n",
       "      <td>30 min</td>\n",
       "      <td>rest</td>\n",
       "    </tr>\n",
       "    <tr>\n",
       "      <th>3</th>\n",
       "      <td>2</td>\n",
       "      <td>low fat</td>\n",
       "      <td>90</td>\n",
       "      <td>1 min</td>\n",
       "      <td>rest</td>\n",
       "    </tr>\n",
       "    <tr>\n",
       "      <th>4</th>\n",
       "      <td>2</td>\n",
       "      <td>low fat</td>\n",
       "      <td>92</td>\n",
       "      <td>15 min</td>\n",
       "      <td>rest</td>\n",
       "    </tr>\n",
       "  </tbody>\n",
       "</table>\n",
       "</div>"
      ],
      "text/plain": [
       "   id     diet  pulse    time  kind\n",
       "0   1  low fat     85   1 min  rest\n",
       "1   1  low fat     85  15 min  rest\n",
       "2   1  low fat     88  30 min  rest\n",
       "3   2  low fat     90   1 min  rest\n",
       "4   2  low fat     92  15 min  rest"
      ]
     },
     "execution_count": 20,
     "metadata": {},
     "output_type": "execute_result"
    }
   ],
   "source": [
    "df.head(5)"
   ]
  },
  {
   "attachments": {},
   "cell_type": "markdown",
   "id": "84bddd5a",
   "metadata": {},
   "source": [
    "### Divide a Large pandas DataFrame into Chunks"
   ]
  },
  {
   "attachments": {},
   "cell_type": "markdown",
   "id": "2c1b5e77",
   "metadata": {},
   "source": [
    "Large dataframes can consume a significant amount of memory. By processing data in smaller chunks, you can avoid running out of memory and access data faster.\n",
    "\n",
    "In the code below, using `chunksize=100000` is approximately 5495 times faster than not using `chunksize`."
   ]
  },
  {
   "cell_type": "code",
   "execution_count": 21,
   "id": "3e0d3d63",
   "metadata": {},
   "outputs": [],
   "source": [
    "import pandas as pd  \n",
    "import warnings\n",
    "warnings.filterwarnings(\"ignore\")"
   ]
  },
  {
   "cell_type": "code",
   "execution_count": 17,
   "id": "ff021dec",
   "metadata": {},
   "outputs": [
    {
     "name": "stdout",
     "output_type": "stream",
     "text": [
      "2.33 s ± 58.3 ms per loop (mean ± std. dev. of 7 runs, 1 loop each)\n"
     ]
    }
   ],
   "source": [
    "%%timeit \n",
    "pd.read_csv('../data/flight_data_2018_to_2022.csv')"
   ]
  },
  {
   "cell_type": "code",
   "execution_count": 18,
   "id": "2cf59f72",
   "metadata": {},
   "outputs": [
    {
     "data": {
      "text/plain": [
       "(563737, 120)"
      ]
     },
     "execution_count": 18,
     "metadata": {},
     "output_type": "execute_result"
    }
   ],
   "source": [
    "df = pd.read_csv('../data/flight_data_2018_to_2022.csv')\n",
    "df.shape "
   ]
  },
  {
   "cell_type": "code",
   "execution_count": 19,
   "id": "ea0f0655",
   "metadata": {},
   "outputs": [
    {
     "name": "stdout",
     "output_type": "stream",
     "text": [
      "424 µs ± 30.9 µs per loop (mean ± std. dev. of 7 runs, 1000 loops each)\n"
     ]
    }
   ],
   "source": [
    "%%timeit  \n",
    "pd.read_csv('../data/flight_data_2018_to_2022.csv', chunksize=100000)"
   ]
  },
  {
   "attachments": {},
   "cell_type": "markdown",
   "id": "253007a1",
   "metadata": {},
   "source": [
    "We can see that using `chunksize=100000` divides the DataFrame into 6 portions, 5 of which have 100000 rows. "
   ]
  },
  {
   "cell_type": "code",
   "execution_count": 20,
   "id": "0db0a502",
   "metadata": {},
   "outputs": [
    {
     "name": "stdout",
     "output_type": "stream",
     "text": [
      "(100000, 120)\n",
      "(100000, 120)\n",
      "(100000, 120)\n",
      "(100000, 120)\n",
      "(100000, 120)\n",
      "(63737, 120)\n"
     ]
    }
   ],
   "source": [
    "df_chunks = pd.read_csv('../data/flight_data_2018_to_2022.csv', chunksize=100000)\n",
    "for df_ in df_chunks:\n",
    "    print(df_.shape)"
   ]
  },
  {
   "attachments": {},
   "cell_type": "markdown",
   "id": "c7c3af6e",
   "metadata": {},
   "source": [
    "### Read HTML Tables Using Pandas"
   ]
  },
  {
   "attachments": {},
   "cell_type": "markdown",
   "id": "60feeb61",
   "metadata": {},
   "source": [
    "If you want to quickly extract a table on a website and turn it into a Pandas DataFrame, use `pd.read_html`. In the code below, I extracted the table from a Wikipedia page in one line of code. "
   ]
  },
  {
   "cell_type": "code",
   "execution_count": 7,
   "id": "d7804c18",
   "metadata": {},
   "outputs": [
    {
     "data": {
      "text/html": [
       "<div>\n",
       "<style scoped>\n",
       "    .dataframe tbody tr th:only-of-type {\n",
       "        vertical-align: middle;\n",
       "    }\n",
       "\n",
       "    .dataframe tbody tr th {\n",
       "        vertical-align: top;\n",
       "    }\n",
       "\n",
       "    .dataframe thead tr th {\n",
       "        text-align: left;\n",
       "    }\n",
       "</style>\n",
       "<table border=\"1\" class=\"dataframe\">\n",
       "  <thead>\n",
       "    <tr>\n",
       "      <th></th>\n",
       "      <th>Region</th>\n",
       "      <th colspan=\"3\" halign=\"left\">$1 per day</th>\n",
       "      <th colspan=\"2\" halign=\"left\">$1.25 per day[94]</th>\n",
       "      <th colspan=\"6\" halign=\"left\">$1.90 per day[95]</th>\n",
       "    </tr>\n",
       "    <tr>\n",
       "      <th></th>\n",
       "      <th>Region</th>\n",
       "      <th>1990</th>\n",
       "      <th>2002</th>\n",
       "      <th>2004</th>\n",
       "      <th>1981</th>\n",
       "      <th>2008</th>\n",
       "      <th>1981</th>\n",
       "      <th>1990</th>\n",
       "      <th>2000</th>\n",
       "      <th>2010</th>\n",
       "      <th>2015</th>\n",
       "      <th>2018</th>\n",
       "    </tr>\n",
       "  </thead>\n",
       "  <tbody>\n",
       "    <tr>\n",
       "      <th>0</th>\n",
       "      <td>East Asia and Pacific</td>\n",
       "      <td>15.4%</td>\n",
       "      <td>12.3%</td>\n",
       "      <td>9.1%</td>\n",
       "      <td>77.2%</td>\n",
       "      <td>14.3%</td>\n",
       "      <td>80.2%</td>\n",
       "      <td>60.9%</td>\n",
       "      <td>34.8%</td>\n",
       "      <td>10.8%</td>\n",
       "      <td>2.1%</td>\n",
       "      <td>1.2%</td>\n",
       "    </tr>\n",
       "    <tr>\n",
       "      <th>1</th>\n",
       "      <td>Europe and Central Asia</td>\n",
       "      <td>3.6%</td>\n",
       "      <td>1.3%</td>\n",
       "      <td>1.0%</td>\n",
       "      <td>1.9%</td>\n",
       "      <td>0.5%</td>\n",
       "      <td>—</td>\n",
       "      <td>—</td>\n",
       "      <td>7.3%</td>\n",
       "      <td>2.4%</td>\n",
       "      <td>1.5%</td>\n",
       "      <td>1.1%</td>\n",
       "    </tr>\n",
       "    <tr>\n",
       "      <th>2</th>\n",
       "      <td>Latin America and the Caribbean</td>\n",
       "      <td>9.6%</td>\n",
       "      <td>9.1%</td>\n",
       "      <td>8.6%</td>\n",
       "      <td>11.9%</td>\n",
       "      <td>6.5%</td>\n",
       "      <td>13.7%</td>\n",
       "      <td>15.5%</td>\n",
       "      <td>12.7%</td>\n",
       "      <td>6%</td>\n",
       "      <td>3.7%</td>\n",
       "      <td>3.7%</td>\n",
       "    </tr>\n",
       "    <tr>\n",
       "      <th>3</th>\n",
       "      <td>Middle East and North Africa</td>\n",
       "      <td>2.1%</td>\n",
       "      <td>1.7%</td>\n",
       "      <td>1.5%</td>\n",
       "      <td>9.6%</td>\n",
       "      <td>2.7%</td>\n",
       "      <td>—</td>\n",
       "      <td>6.5%</td>\n",
       "      <td>3.5%</td>\n",
       "      <td>2%</td>\n",
       "      <td>4.3%</td>\n",
       "      <td>7%</td>\n",
       "    </tr>\n",
       "    <tr>\n",
       "      <th>4</th>\n",
       "      <td>South Asia</td>\n",
       "      <td>35.0%</td>\n",
       "      <td>33.4%</td>\n",
       "      <td>30.8%</td>\n",
       "      <td>61.1%</td>\n",
       "      <td>36%</td>\n",
       "      <td>58%</td>\n",
       "      <td>49.1%</td>\n",
       "      <td>—</td>\n",
       "      <td>26%</td>\n",
       "      <td>—</td>\n",
       "      <td>—</td>\n",
       "    </tr>\n",
       "    <tr>\n",
       "      <th>5</th>\n",
       "      <td>Sub-Saharan Africa</td>\n",
       "      <td>46.1%</td>\n",
       "      <td>42.6%</td>\n",
       "      <td>41.1%</td>\n",
       "      <td>51.5%</td>\n",
       "      <td>47.5%</td>\n",
       "      <td>—</td>\n",
       "      <td>54.9%</td>\n",
       "      <td>58.4%</td>\n",
       "      <td>46.6%</td>\n",
       "      <td>42.3%</td>\n",
       "      <td>40.4%</td>\n",
       "    </tr>\n",
       "    <tr>\n",
       "      <th>6</th>\n",
       "      <td>World</td>\n",
       "      <td>—</td>\n",
       "      <td>—</td>\n",
       "      <td>—</td>\n",
       "      <td>52.2%</td>\n",
       "      <td>22.4%</td>\n",
       "      <td>42.7%</td>\n",
       "      <td>36.2%</td>\n",
       "      <td>27.8%</td>\n",
       "      <td>16%</td>\n",
       "      <td>10.1%</td>\n",
       "      <td>—</td>\n",
       "    </tr>\n",
       "  </tbody>\n",
       "</table>\n",
       "</div>"
      ],
      "text/plain": [
       "                            Region $1 per day               $1.25 per day[94]  \\\n",
       "                            Region       1990   2002   2004              1981   \n",
       "0            East Asia and Pacific      15.4%  12.3%   9.1%             77.2%   \n",
       "1          Europe and Central Asia       3.6%   1.3%   1.0%              1.9%   \n",
       "2  Latin America and the Caribbean       9.6%   9.1%   8.6%             11.9%   \n",
       "3     Middle East and North Africa       2.1%   1.7%   1.5%              9.6%   \n",
       "4                       South Asia      35.0%  33.4%  30.8%             61.1%   \n",
       "5               Sub-Saharan Africa      46.1%  42.6%  41.1%             51.5%   \n",
       "6                            World          —      —      —             52.2%   \n",
       "\n",
       "         $1.90 per day[95]                                     \n",
       "    2008              1981   1990   2000   2010   2015   2018  \n",
       "0  14.3%             80.2%  60.9%  34.8%  10.8%   2.1%   1.2%  \n",
       "1   0.5%                 —      —   7.3%   2.4%   1.5%   1.1%  \n",
       "2   6.5%             13.7%  15.5%  12.7%     6%   3.7%   3.7%  \n",
       "3   2.7%                 —   6.5%   3.5%     2%   4.3%     7%  \n",
       "4    36%               58%  49.1%      —    26%      —      —  \n",
       "5  47.5%                 —  54.9%  58.4%  46.6%  42.3%  40.4%  \n",
       "6  22.4%             42.7%  36.2%  27.8%    16%  10.1%      —  "
      ]
     },
     "execution_count": 7,
     "metadata": {},
     "output_type": "execute_result"
    }
   ],
   "source": [
    "import pandas as pd  \n",
    "\n",
    "df = pd.read_html('https://en.wikipedia.org/wiki/Poverty')\n",
    "df[1]"
   ]
  },
  {
   "attachments": {},
   "cell_type": "markdown",
   "id": "70496f8d",
   "metadata": {},
   "source": [
    "### DataFrame.copy(): Make a Copy of a DataFrame"
   ]
  },
  {
   "attachments": {},
   "cell_type": "markdown",
   "id": "6b71e111",
   "metadata": {},
   "source": [
    "Have you ever tried to make a copy of a DataFrame using `=`? You will not get a copy but a reference to the original DataFrame. Thus, changing the new DataFrame will also change the original DataFrame.  "
   ]
  },
  {
   "cell_type": "code",
   "execution_count": 1,
   "id": "c245411b",
   "metadata": {},
   "outputs": [
    {
     "data": {
      "text/html": [
       "<div>\n",
       "<style scoped>\n",
       "    .dataframe tbody tr th:only-of-type {\n",
       "        vertical-align: middle;\n",
       "    }\n",
       "\n",
       "    .dataframe tbody tr th {\n",
       "        vertical-align: top;\n",
       "    }\n",
       "\n",
       "    .dataframe thead th {\n",
       "        text-align: right;\n",
       "    }\n",
       "</style>\n",
       "<table border=\"1\" class=\"dataframe\">\n",
       "  <thead>\n",
       "    <tr style=\"text-align: right;\">\n",
       "      <th></th>\n",
       "      <th>col1</th>\n",
       "      <th>col2</th>\n",
       "    </tr>\n",
       "  </thead>\n",
       "  <tbody>\n",
       "    <tr>\n",
       "      <th>0</th>\n",
       "      <td>1</td>\n",
       "      <td>4</td>\n",
       "    </tr>\n",
       "    <tr>\n",
       "      <th>1</th>\n",
       "      <td>2</td>\n",
       "      <td>5</td>\n",
       "    </tr>\n",
       "    <tr>\n",
       "      <th>2</th>\n",
       "      <td>3</td>\n",
       "      <td>6</td>\n",
       "    </tr>\n",
       "  </tbody>\n",
       "</table>\n",
       "</div>"
      ],
      "text/plain": [
       "   col1  col2\n",
       "0     1     4\n",
       "1     2     5\n",
       "2     3     6"
      ]
     },
     "execution_count": 1,
     "metadata": {},
     "output_type": "execute_result"
    }
   ],
   "source": [
    "import pandas as pd \n",
    "\n",
    "df = pd.DataFrame({'col1': [1, 2, 3], 'col2': [4, 5, 6]})\n",
    "df  "
   ]
  },
  {
   "cell_type": "code",
   "execution_count": 8,
   "id": "3b504463",
   "metadata": {},
   "outputs": [
    {
     "data": {
      "text/html": [
       "<div>\n",
       "<style scoped>\n",
       "    .dataframe tbody tr th:only-of-type {\n",
       "        vertical-align: middle;\n",
       "    }\n",
       "\n",
       "    .dataframe tbody tr th {\n",
       "        vertical-align: top;\n",
       "    }\n",
       "\n",
       "    .dataframe thead th {\n",
       "        text-align: right;\n",
       "    }\n",
       "</style>\n",
       "<table border=\"1\" class=\"dataframe\">\n",
       "  <thead>\n",
       "    <tr style=\"text-align: right;\">\n",
       "      <th></th>\n",
       "      <th>col1</th>\n",
       "      <th>col2</th>\n",
       "    </tr>\n",
       "  </thead>\n",
       "  <tbody>\n",
       "    <tr>\n",
       "      <th>0</th>\n",
       "      <td>7</td>\n",
       "      <td>4</td>\n",
       "    </tr>\n",
       "    <tr>\n",
       "      <th>1</th>\n",
       "      <td>8</td>\n",
       "      <td>5</td>\n",
       "    </tr>\n",
       "    <tr>\n",
       "      <th>2</th>\n",
       "      <td>9</td>\n",
       "      <td>6</td>\n",
       "    </tr>\n",
       "  </tbody>\n",
       "</table>\n",
       "</div>"
      ],
      "text/plain": [
       "   col1  col2\n",
       "0     7     4\n",
       "1     8     5\n",
       "2     9     6"
      ]
     },
     "execution_count": 8,
     "metadata": {},
     "output_type": "execute_result"
    }
   ],
   "source": [
    "df2 = df\n",
    "df2['col1'] = [7, 8, 9]\n",
    "df"
   ]
  },
  {
   "attachments": {},
   "cell_type": "markdown",
   "id": "6e1faf8a",
   "metadata": {},
   "source": [
    "A better way to make a copy is to use `df.copy()`. Now, changing the copy will not affect the original DataFrame."
   ]
  },
  {
   "cell_type": "code",
   "execution_count": 9,
   "id": "fc38f95c",
   "metadata": {},
   "outputs": [
    {
     "data": {
      "text/html": [
       "<div>\n",
       "<style scoped>\n",
       "    .dataframe tbody tr th:only-of-type {\n",
       "        vertical-align: middle;\n",
       "    }\n",
       "\n",
       "    .dataframe tbody tr th {\n",
       "        vertical-align: top;\n",
       "    }\n",
       "\n",
       "    .dataframe thead th {\n",
       "        text-align: right;\n",
       "    }\n",
       "</style>\n",
       "<table border=\"1\" class=\"dataframe\">\n",
       "  <thead>\n",
       "    <tr style=\"text-align: right;\">\n",
       "      <th></th>\n",
       "      <th>col1</th>\n",
       "      <th>col2</th>\n",
       "    </tr>\n",
       "  </thead>\n",
       "  <tbody>\n",
       "    <tr>\n",
       "      <th>0</th>\n",
       "      <td>1</td>\n",
       "      <td>4</td>\n",
       "    </tr>\n",
       "    <tr>\n",
       "      <th>1</th>\n",
       "      <td>2</td>\n",
       "      <td>5</td>\n",
       "    </tr>\n",
       "    <tr>\n",
       "      <th>2</th>\n",
       "      <td>3</td>\n",
       "      <td>6</td>\n",
       "    </tr>\n",
       "  </tbody>\n",
       "</table>\n",
       "</div>"
      ],
      "text/plain": [
       "   col1  col2\n",
       "0     1     4\n",
       "1     2     5\n",
       "2     3     6"
      ]
     },
     "execution_count": 9,
     "metadata": {},
     "output_type": "execute_result"
    }
   ],
   "source": [
    "df = pd.DataFrame({'col1': [1, 2, 3], 'col2': [4, 5, 6]})\n",
    "\n",
    "# Create a copy of the original DataFrame\n",
    "df3 = df.copy()\n",
    "\n",
    "# Change the value of the copy\n",
    "df3['col1'] = [7, 8, 9]\n",
    "\n",
    "# Check if the original DataFrame has been changed\n",
    "df"
   ]
  },
  {
   "attachments": {},
   "cell_type": "markdown",
   "id": "38a51054",
   "metadata": {},
   "source": [
    "### Copy on Write Mode in pandas 2.0"
   ]
  },
  {
   "cell_type": "code",
   "execution_count": null,
   "id": "d07de944",
   "metadata": {
    "tags": [
     "hide-cell"
    ]
   },
   "outputs": [],
   "source": [
    "!pip install pandas==2.0.0"
   ]
  },
  {
   "attachments": {},
   "cell_type": "markdown",
   "id": "ae2e1ab2",
   "metadata": {},
   "source": [
    "pandas DataFrame returns a view by default when selecting a subset, meaning changes to the view will change the original. "
   ]
  },
  {
   "cell_type": "code",
   "execution_count": 1,
   "id": "48077a3f",
   "metadata": {},
   "outputs": [
    {
     "data": {
      "text/html": [
       "<div>\n",
       "<style scoped>\n",
       "    .dataframe tbody tr th:only-of-type {\n",
       "        vertical-align: middle;\n",
       "    }\n",
       "\n",
       "    .dataframe tbody tr th {\n",
       "        vertical-align: top;\n",
       "    }\n",
       "\n",
       "    .dataframe thead th {\n",
       "        text-align: right;\n",
       "    }\n",
       "</style>\n",
       "<table border=\"1\" class=\"dataframe\">\n",
       "  <thead>\n",
       "    <tr style=\"text-align: right;\">\n",
       "      <th></th>\n",
       "      <th>col1</th>\n",
       "      <th>col2</th>\n",
       "    </tr>\n",
       "  </thead>\n",
       "  <tbody>\n",
       "    <tr>\n",
       "      <th>0</th>\n",
       "      <td>10</td>\n",
       "      <td>3</td>\n",
       "    </tr>\n",
       "    <tr>\n",
       "      <th>1</th>\n",
       "      <td>2</td>\n",
       "      <td>4</td>\n",
       "    </tr>\n",
       "  </tbody>\n",
       "</table>\n",
       "</div>"
      ],
      "text/plain": [
       "   col1  col2\n",
       "0    10     3\n",
       "1     2     4"
      ]
     },
     "execution_count": 1,
     "metadata": {},
     "output_type": "execute_result"
    }
   ],
   "source": [
    "import pandas as pd\n",
    "\n",
    "df1 = pd.DataFrame({\"col1\": [1, 2], \"col2\": [3, 4]})\n",
    "\n",
    "# Create a view of the original DataFrame\n",
    "df2 = df1[\"col1\"]\n",
    "\n",
    "# Change the value of the view\n",
    "df2.iloc[0] = 10\n",
    "\n",
    "# The original DataFrame has been changed\n",
    "df1\n"
   ]
  },
  {
   "attachments": {},
   "cell_type": "markdown",
   "id": "9880b0e3",
   "metadata": {},
   "source": [
    "pandas 2.0 offers the option to return a copy instead of a view by default, preventing changes to the copy from affecting the original."
   ]
  },
  {
   "cell_type": "code",
   "execution_count": 2,
   "id": "2a4e03d9",
   "metadata": {},
   "outputs": [
    {
     "data": {
      "text/html": [
       "<div>\n",
       "<style scoped>\n",
       "    .dataframe tbody tr th:only-of-type {\n",
       "        vertical-align: middle;\n",
       "    }\n",
       "\n",
       "    .dataframe tbody tr th {\n",
       "        vertical-align: top;\n",
       "    }\n",
       "\n",
       "    .dataframe thead th {\n",
       "        text-align: right;\n",
       "    }\n",
       "</style>\n",
       "<table border=\"1\" class=\"dataframe\">\n",
       "  <thead>\n",
       "    <tr style=\"text-align: right;\">\n",
       "      <th></th>\n",
       "      <th>col1</th>\n",
       "      <th>col2</th>\n",
       "    </tr>\n",
       "  </thead>\n",
       "  <tbody>\n",
       "    <tr>\n",
       "      <th>0</th>\n",
       "      <td>1</td>\n",
       "      <td>3</td>\n",
       "    </tr>\n",
       "    <tr>\n",
       "      <th>1</th>\n",
       "      <td>2</td>\n",
       "      <td>4</td>\n",
       "    </tr>\n",
       "  </tbody>\n",
       "</table>\n",
       "</div>"
      ],
      "text/plain": [
       "   col1  col2\n",
       "0     1     3\n",
       "1     2     4"
      ]
     },
     "execution_count": 2,
     "metadata": {},
     "output_type": "execute_result"
    }
   ],
   "source": [
    "pd.options.mode.copy_on_write = True\n",
    "\n",
    "df1 = pd.DataFrame({\"col1\": [1, 2], \"col2\": [3, 4]})\n",
    "\n",
    "# Create a copy of the original DataFrame\n",
    "df2 = df1[\"col1\"]\n",
    "\n",
    "# Change the value of the copy\n",
    "df2.iloc[0] = 10\n",
    "\n",
    "# The original DataFrame has not been changed\n",
    "df1\n"
   ]
  }
 ],
 "metadata": {
  "hide_input": false,
  "kernelspec": {
   "display_name": "Python 3.8.9 ('venv': venv)",
   "language": "python",
   "name": "python3"
  },
  "language_info": {
   "codemirror_mode": {
    "name": "ipython",
    "version": 3
   },
   "file_extension": ".py",
   "mimetype": "text/x-python",
   "name": "python",
   "nbconvert_exporter": "python",
   "pygments_lexer": "ipython3",
   "version": "3.9.6"
  },
  "toc": {
   "base_numbering": 1,
   "nav_menu": {},
   "number_sections": true,
   "sideBar": true,
   "skip_h1_title": false,
   "title_cell": "Table of Contents",
   "title_sidebar": "Contents",
   "toc_cell": false,
   "toc_position": {},
   "toc_section_display": true,
   "toc_window_display": false
  },
  "vscode": {
   "interpreter": {
    "hash": "484329849bb907480cd798e750759bc6f1d66c93f9e78e7055aa0a2c2de6b47b"
   }
  }
 },
 "nbformat": 4,
 "nbformat_minor": 5
}
