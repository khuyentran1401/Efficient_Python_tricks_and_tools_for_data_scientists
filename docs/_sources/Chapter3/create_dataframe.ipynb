{
 "cells": [
  {
   "cell_type": "markdown",
   "id": "35e0b76d",
   "metadata": {},
   "source": [
    "## Create a New DataFrame Using Existing DataFrame"
   ]
  },
  {
   "cell_type": "markdown",
   "id": "18322b2c",
   "metadata": {},
   "source": [
    "This section covers some pandas methods to use an existing DataFrame to create a new DataFrame with different functionalities. "
   ]
  },
  {
   "cell_type": "markdown",
   "id": "1d656b71",
   "metadata": {},
   "source": [
    "### pandas.DataFrame.agg: Aggregate over Columns or Rows Using Multiple Operations"
   ]
  },
  {
   "cell_type": "markdown",
   "id": "45077b51",
   "metadata": {},
   "source": [
    "If you want to aggregate over columns or rows using one or more operations, try `pd.DataFrame.agg`."
   ]
  },
  {
   "cell_type": "code",
   "execution_count": 5,
   "id": "502ce1e2",
   "metadata": {
    "ExecuteTime": {
     "end_time": "2021-09-11T15:21:40.635035Z",
     "start_time": "2021-09-11T15:21:40.595611Z"
    }
   },
   "outputs": [
    {
     "data": {
      "text/html": [
       "<div>\n",
       "<style scoped>\n",
       "    .dataframe tbody tr th:only-of-type {\n",
       "        vertical-align: middle;\n",
       "    }\n",
       "\n",
       "    .dataframe tbody tr th {\n",
       "        vertical-align: top;\n",
       "    }\n",
       "\n",
       "    .dataframe thead th {\n",
       "        text-align: right;\n",
       "    }\n",
       "</style>\n",
       "<table border=\"1\" class=\"dataframe\">\n",
       "  <thead>\n",
       "    <tr style=\"text-align: right;\">\n",
       "      <th></th>\n",
       "      <th>coll</th>\n",
       "      <th>col2</th>\n",
       "    </tr>\n",
       "  </thead>\n",
       "  <tbody>\n",
       "    <tr>\n",
       "      <th>sum</th>\n",
       "      <td>9</td>\n",
       "      <td>12</td>\n",
       "    </tr>\n",
       "    <tr>\n",
       "      <th>count_two</th>\n",
       "      <td>0</td>\n",
       "      <td>1</td>\n",
       "    </tr>\n",
       "  </tbody>\n",
       "</table>\n",
       "</div>"
      ],
      "text/plain": [
       "           coll  col2\n",
       "sum           9    12\n",
       "count_two     0     1"
      ]
     },
     "execution_count": 5,
     "metadata": {},
     "output_type": "execute_result"
    }
   ],
   "source": [
    "from collections import Counter\n",
    "import pandas as pd\n",
    "\n",
    "\n",
    "def count_two(nums: list):\n",
    "    return Counter(nums)[2]\n",
    "\n",
    "\n",
    "df = pd.DataFrame({\"coll\": [1, 3, 5], \"col2\": [2, 4, 6]})\n",
    "df.agg([\"sum\", count_two])"
   ]
  },
  {
   "cell_type": "markdown",
   "id": "adf7c712",
   "metadata": {},
   "source": [
    "### pandas.DataFrame.agg: Apply Different Aggregations to Different Columns"
   ]
  },
  {
   "cell_type": "markdown",
   "id": "b1104500",
   "metadata": {},
   "source": [
    "If you want to apply different aggregations to different columns, insert a dictionary of column and aggregation methods to the `pd.DataFrame.agg` method."
   ]
  },
  {
   "cell_type": "code",
   "execution_count": 3,
   "id": "f8ab39e9",
   "metadata": {
    "ExecuteTime": {
     "end_time": "2021-11-18T14:31:25.153410Z",
     "start_time": "2021-11-18T14:31:25.125430Z"
    }
   },
   "outputs": [
    {
     "data": {
      "text/html": [
       "<div>\n",
       "<style scoped>\n",
       "    .dataframe tbody tr th:only-of-type {\n",
       "        vertical-align: middle;\n",
       "    }\n",
       "\n",
       "    .dataframe tbody tr th {\n",
       "        vertical-align: top;\n",
       "    }\n",
       "\n",
       "    .dataframe thead th {\n",
       "        text-align: right;\n",
       "    }\n",
       "</style>\n",
       "<table border=\"1\" class=\"dataframe\">\n",
       "  <thead>\n",
       "    <tr style=\"text-align: right;\">\n",
       "      <th></th>\n",
       "      <th>a</th>\n",
       "      <th>b</th>\n",
       "    </tr>\n",
       "  </thead>\n",
       "  <tbody>\n",
       "    <tr>\n",
       "      <th>sum</th>\n",
       "      <td>10.0</td>\n",
       "      <td>NaN</td>\n",
       "    </tr>\n",
       "    <tr>\n",
       "      <th>mean</th>\n",
       "      <td>2.5</td>\n",
       "      <td>NaN</td>\n",
       "    </tr>\n",
       "    <tr>\n",
       "      <th>min</th>\n",
       "      <td>NaN</td>\n",
       "      <td>2.0</td>\n",
       "    </tr>\n",
       "    <tr>\n",
       "      <th>max</th>\n",
       "      <td>NaN</td>\n",
       "      <td>5.0</td>\n",
       "    </tr>\n",
       "  </tbody>\n",
       "</table>\n",
       "</div>"
      ],
      "text/plain": [
       "         a    b\n",
       "sum   10.0  NaN\n",
       "mean   2.5  NaN\n",
       "min    NaN  2.0\n",
       "max    NaN  5.0"
      ]
     },
     "execution_count": 3,
     "metadata": {},
     "output_type": "execute_result"
    }
   ],
   "source": [
    "import pandas as pd \n",
    "\n",
    "df = pd.DataFrame({\"a\": [1, 2, 3, 4], \"b\": [2, 3, 4, 5]})\n",
    "\n",
    "df.agg({\"a\": [\"sum\", \"mean\"], \"b\": [\"min\", \"max\"]})"
   ]
  },
  {
   "cell_type": "markdown",
   "id": "0fcf6236",
   "metadata": {},
   "source": [
    "### Assign Name to Pandas Aggregation"
   ]
  },
  {
   "cell_type": "markdown",
   "id": "4c9de023",
   "metadata": {},
   "source": [
    "By default, aggregating a column returns the name of that column."
   ]
  },
  {
   "cell_type": "code",
   "execution_count": 14,
   "id": "862df51f",
   "metadata": {
    "ExecuteTime": {
     "end_time": "2021-11-25T13:53:51.931036Z",
     "start_time": "2021-11-25T13:53:51.914241Z"
    }
   },
   "outputs": [
    {
     "name": "stdout",
     "output_type": "stream",
     "text": [
      "      price\n",
      "size       \n",
      "L       5.0\n",
      "M       4.0\n",
      "S       2.5\n"
     ]
    }
   ],
   "source": [
    "import pandas as pd \n",
    "\n",
    "df = pd.DataFrame({\"size\": [\"S\", \"S\", \"M\", \"L\"], \"price\": [2, 3, 4, 5]})\n",
    "\n",
    "print(df.groupby('size').agg({'price': 'mean'}))"
   ]
  },
  {
   "cell_type": "markdown",
   "id": "8b5d775d",
   "metadata": {},
   "source": [
    "If you want to assign a new name to an aggregation, add `name = (column, agg_method)` to `agg`."
   ]
  },
  {
   "cell_type": "code",
   "execution_count": 13,
   "id": "3e60d002",
   "metadata": {
    "ExecuteTime": {
     "end_time": "2021-11-25T13:50:35.839507Z",
     "start_time": "2021-11-25T13:50:35.810041Z"
    }
   },
   "outputs": [
    {
     "data": {
      "text/html": [
       "<div>\n",
       "<style scoped>\n",
       "    .dataframe tbody tr th:only-of-type {\n",
       "        vertical-align: middle;\n",
       "    }\n",
       "\n",
       "    .dataframe tbody tr th {\n",
       "        vertical-align: top;\n",
       "    }\n",
       "\n",
       "    .dataframe thead th {\n",
       "        text-align: right;\n",
       "    }\n",
       "</style>\n",
       "<table border=\"1\" class=\"dataframe\">\n",
       "  <thead>\n",
       "    <tr style=\"text-align: right;\">\n",
       "      <th></th>\n",
       "      <th>mean_price</th>\n",
       "    </tr>\n",
       "    <tr>\n",
       "      <th>size</th>\n",
       "      <th></th>\n",
       "    </tr>\n",
       "  </thead>\n",
       "  <tbody>\n",
       "    <tr>\n",
       "      <th>L</th>\n",
       "      <td>5.0</td>\n",
       "    </tr>\n",
       "    <tr>\n",
       "      <th>M</th>\n",
       "      <td>4.0</td>\n",
       "    </tr>\n",
       "    <tr>\n",
       "      <th>S</th>\n",
       "      <td>2.5</td>\n",
       "    </tr>\n",
       "  </tbody>\n",
       "</table>\n",
       "</div>"
      ],
      "text/plain": [
       "      mean_price\n",
       "size            \n",
       "L            5.0\n",
       "M            4.0\n",
       "S            2.5"
      ]
     },
     "execution_count": 13,
     "metadata": {},
     "output_type": "execute_result"
    }
   ],
   "source": [
    "df.groupby('size').agg(mean_price=('price', 'mean'))"
   ]
  },
  {
   "cell_type": "markdown",
   "id": "9b4bb39b",
   "metadata": {},
   "source": [
    "### pandas.pivot_table: Turn Your DataFrame Into a Pivot Table"
   ]
  },
  {
   "cell_type": "markdown",
   "id": "e53d804a",
   "metadata": {},
   "source": [
    "A pivot table is useful to summarize and analyze the patterns in your data. If you want to turn your DataFrame into a pivot table, use `pandas.pivot_table`."
   ]
  },
  {
   "cell_type": "code",
   "execution_count": 2,
   "id": "55ab2d62",
   "metadata": {
    "ExecuteTime": {
     "end_time": "2021-11-18T14:31:18.972681Z",
     "start_time": "2021-11-18T14:31:18.947196Z"
    }
   },
   "outputs": [
    {
     "data": {
      "text/html": [
       "<div>\n",
       "<style scoped>\n",
       "    .dataframe tbody tr th:only-of-type {\n",
       "        vertical-align: middle;\n",
       "    }\n",
       "\n",
       "    .dataframe tbody tr th {\n",
       "        vertical-align: top;\n",
       "    }\n",
       "\n",
       "    .dataframe thead th {\n",
       "        text-align: right;\n",
       "    }\n",
       "</style>\n",
       "<table border=\"1\" class=\"dataframe\">\n",
       "  <thead>\n",
       "    <tr style=\"text-align: right;\">\n",
       "      <th></th>\n",
       "      <th>item</th>\n",
       "      <th>size</th>\n",
       "      <th>location</th>\n",
       "      <th>price</th>\n",
       "    </tr>\n",
       "  </thead>\n",
       "  <tbody>\n",
       "    <tr>\n",
       "      <th>0</th>\n",
       "      <td>apple</td>\n",
       "      <td>small</td>\n",
       "      <td>Walmart</td>\n",
       "      <td>3.0</td>\n",
       "    </tr>\n",
       "    <tr>\n",
       "      <th>1</th>\n",
       "      <td>apple</td>\n",
       "      <td>small</td>\n",
       "      <td>Aldi</td>\n",
       "      <td>2.0</td>\n",
       "    </tr>\n",
       "    <tr>\n",
       "      <th>2</th>\n",
       "      <td>apple</td>\n",
       "      <td>large</td>\n",
       "      <td>Walmart</td>\n",
       "      <td>4.0</td>\n",
       "    </tr>\n",
       "    <tr>\n",
       "      <th>3</th>\n",
       "      <td>apple</td>\n",
       "      <td>large</td>\n",
       "      <td>Aldi</td>\n",
       "      <td>3.0</td>\n",
       "    </tr>\n",
       "    <tr>\n",
       "      <th>4</th>\n",
       "      <td>apple</td>\n",
       "      <td>large</td>\n",
       "      <td>Aldi</td>\n",
       "      <td>2.5</td>\n",
       "    </tr>\n",
       "  </tbody>\n",
       "</table>\n",
       "</div>"
      ],
      "text/plain": [
       "    item   size location  price\n",
       "0  apple  small  Walmart    3.0\n",
       "1  apple  small     Aldi    2.0\n",
       "2  apple  large  Walmart    4.0\n",
       "3  apple  large     Aldi    3.0\n",
       "4  apple  large     Aldi    2.5"
      ]
     },
     "execution_count": 2,
     "metadata": {},
     "output_type": "execute_result"
    }
   ],
   "source": [
    "import pandas as pd \n",
    "\n",
    "df = pd.DataFrame(\n",
    "    {\n",
    "        \"item\": [\"apple\", \"apple\", \"apple\", \"apple\", \"apple\"],\n",
    "        \"size\": [\"small\", \"small\", \"large\", \"large\", \"large\"],\n",
    "        \"location\": [\"Walmart\", \"Aldi\", \"Walmart\", \"Aldi\", \"Aldi\"],\n",
    "        \"price\": [3, 2, 4, 3, 2.5],\n",
    "    }\n",
    ")\n",
    "\n",
    "df"
   ]
  },
  {
   "cell_type": "code",
   "execution_count": 51,
   "id": "4fcb498b",
   "metadata": {
    "ExecuteTime": {
     "end_time": "2021-09-11T15:55:44.866288Z",
     "start_time": "2021-09-11T15:55:44.810075Z"
    }
   },
   "outputs": [
    {
     "data": {
      "text/html": [
       "<div>\n",
       "<style scoped>\n",
       "    .dataframe tbody tr th:only-of-type {\n",
       "        vertical-align: middle;\n",
       "    }\n",
       "\n",
       "    .dataframe tbody tr th {\n",
       "        vertical-align: top;\n",
       "    }\n",
       "\n",
       "    .dataframe thead th {\n",
       "        text-align: right;\n",
       "    }\n",
       "</style>\n",
       "<table border=\"1\" class=\"dataframe\">\n",
       "  <thead>\n",
       "    <tr style=\"text-align: right;\">\n",
       "      <th></th>\n",
       "      <th>location</th>\n",
       "      <th>Aldi</th>\n",
       "      <th>Walmart</th>\n",
       "    </tr>\n",
       "    <tr>\n",
       "      <th>item</th>\n",
       "      <th>size</th>\n",
       "      <th></th>\n",
       "      <th></th>\n",
       "    </tr>\n",
       "  </thead>\n",
       "  <tbody>\n",
       "    <tr>\n",
       "      <th rowspan=\"2\" valign=\"top\">apple</th>\n",
       "      <th>large</th>\n",
       "      <td>2.75</td>\n",
       "      <td>4.0</td>\n",
       "    </tr>\n",
       "    <tr>\n",
       "      <th>small</th>\n",
       "      <td>2.00</td>\n",
       "      <td>3.0</td>\n",
       "    </tr>\n",
       "  </tbody>\n",
       "</table>\n",
       "</div>"
      ],
      "text/plain": [
       "location     Aldi  Walmart\n",
       "item  size                \n",
       "apple large  2.75      4.0\n",
       "      small  2.00      3.0"
      ]
     },
     "execution_count": 51,
     "metadata": {},
     "output_type": "execute_result"
    },
    {
     "data": {
      "application/javascript": [
       "\n",
       "            setTimeout(function() {\n",
       "                var nbb_cell_id = 51;\n",
       "                var nbb_unformatted_code = \"pivot = pd.pivot_table(\\n    df, values=\\\"price\\\", index=[\\\"item\\\", \\\"size\\\"], columns=[\\\"location\\\"], aggfunc=\\\"mean\\\"\\n)\\npivot \";\n",
       "                var nbb_formatted_code = \"pivot = pd.pivot_table(\\n    df, values=\\\"price\\\", index=[\\\"item\\\", \\\"size\\\"], columns=[\\\"location\\\"], aggfunc=\\\"mean\\\"\\n)\\npivot\";\n",
       "                var nbb_cells = Jupyter.notebook.get_cells();\n",
       "                for (var i = 0; i < nbb_cells.length; ++i) {\n",
       "                    if (nbb_cells[i].input_prompt_number == nbb_cell_id) {\n",
       "                        if (nbb_cells[i].get_text() == nbb_unformatted_code) {\n",
       "                             nbb_cells[i].set_text(nbb_formatted_code);\n",
       "                        }\n",
       "                        break;\n",
       "                    }\n",
       "                }\n",
       "            }, 500);\n",
       "            "
      ],
      "text/plain": [
       "<IPython.core.display.Javascript object>"
      ]
     },
     "metadata": {},
     "output_type": "display_data"
    }
   ],
   "source": [
    "pivot = pd.pivot_table(\n",
    "    df, values=\"price\", index=[\"item\", \"size\"], columns=[\"location\"], aggfunc=\"mean\"\n",
    ")\n",
    "pivot"
   ]
  },
  {
   "cell_type": "markdown",
   "id": "ec81dac9",
   "metadata": {},
   "source": [
    "### DataFrame.groupby.sample: Get a Random Sample of Items from Each Category in a Column\t"
   ]
  },
  {
   "cell_type": "markdown",
   "id": "a3d347c5",
   "metadata": {},
   "source": [
    "If you want to get a random sample of items from each category in a column, use `pandas.DataFrame.groupby.sample`.This method is useful when you want to get a subset of a DataFrame while keeping all categories in a column."
   ]
  },
  {
   "cell_type": "code",
   "execution_count": 1,
   "id": "3181fa65",
   "metadata": {
    "ExecuteTime": {
     "end_time": "2021-11-18T14:31:13.800210Z",
     "start_time": "2021-11-18T14:31:13.450771Z"
    }
   },
   "outputs": [
    {
     "data": {
      "text/html": [
       "<div>\n",
       "<style scoped>\n",
       "    .dataframe tbody tr th:only-of-type {\n",
       "        vertical-align: middle;\n",
       "    }\n",
       "\n",
       "    .dataframe tbody tr th {\n",
       "        vertical-align: top;\n",
       "    }\n",
       "\n",
       "    .dataframe thead th {\n",
       "        text-align: right;\n",
       "    }\n",
       "</style>\n",
       "<table border=\"1\" class=\"dataframe\">\n",
       "  <thead>\n",
       "    <tr style=\"text-align: right;\">\n",
       "      <th></th>\n",
       "      <th>col1</th>\n",
       "      <th>col2</th>\n",
       "    </tr>\n",
       "  </thead>\n",
       "  <tbody>\n",
       "    <tr>\n",
       "      <th>0</th>\n",
       "      <td>a</td>\n",
       "      <td>4</td>\n",
       "    </tr>\n",
       "    <tr>\n",
       "      <th>2</th>\n",
       "      <td>b</td>\n",
       "      <td>6</td>\n",
       "    </tr>\n",
       "    <tr>\n",
       "      <th>4</th>\n",
       "      <td>c</td>\n",
       "      <td>8</td>\n",
       "    </tr>\n",
       "    <tr>\n",
       "      <th>5</th>\n",
       "      <td>d</td>\n",
       "      <td>9</td>\n",
       "    </tr>\n",
       "  </tbody>\n",
       "</table>\n",
       "</div>"
      ],
      "text/plain": [
       "  col1  col2\n",
       "0    a     4\n",
       "2    b     6\n",
       "4    c     8\n",
       "5    d     9"
      ]
     },
     "execution_count": 1,
     "metadata": {},
     "output_type": "execute_result"
    }
   ],
   "source": [
    "import pandas as pd \n",
    "\n",
    "df = pd.DataFrame({\"col1\": [\"a\", \"a\", \"b\", \"c\", \"c\", \"d\"], \"col2\": [4, 5, 6, 7, 8, 9]})\n",
    "df.groupby(\"col1\").sample(n=1)"
   ]
  },
  {
   "cell_type": "markdown",
   "id": "be68d598",
   "metadata": {},
   "source": [
    "To get 2 items from each category, use `n=2`."
   ]
  },
  {
   "cell_type": "code",
   "execution_count": 37,
   "id": "7d2d9319",
   "metadata": {
    "ExecuteTime": {
     "end_time": "2021-09-11T16:18:36.604036Z",
     "start_time": "2021-09-11T16:18:36.557369Z"
    },
    "scrolled": true
   },
   "outputs": [
    {
     "data": {
      "text/html": [
       "<div>\n",
       "<style scoped>\n",
       "    .dataframe tbody tr th:only-of-type {\n",
       "        vertical-align: middle;\n",
       "    }\n",
       "\n",
       "    .dataframe tbody tr th {\n",
       "        vertical-align: top;\n",
       "    }\n",
       "\n",
       "    .dataframe thead th {\n",
       "        text-align: right;\n",
       "    }\n",
       "</style>\n",
       "<table border=\"1\" class=\"dataframe\">\n",
       "  <thead>\n",
       "    <tr style=\"text-align: right;\">\n",
       "      <th></th>\n",
       "      <th>col1</th>\n",
       "      <th>col2</th>\n",
       "    </tr>\n",
       "  </thead>\n",
       "  <tbody>\n",
       "    <tr>\n",
       "      <th>0</th>\n",
       "      <td>a</td>\n",
       "      <td>4</td>\n",
       "    </tr>\n",
       "    <tr>\n",
       "      <th>1</th>\n",
       "      <td>a</td>\n",
       "      <td>5</td>\n",
       "    </tr>\n",
       "    <tr>\n",
       "      <th>4</th>\n",
       "      <td>b</td>\n",
       "      <td>8</td>\n",
       "    </tr>\n",
       "    <tr>\n",
       "      <th>2</th>\n",
       "      <td>b</td>\n",
       "      <td>6</td>\n",
       "    </tr>\n",
       "    <tr>\n",
       "      <th>5</th>\n",
       "      <td>c</td>\n",
       "      <td>9</td>\n",
       "    </tr>\n",
       "    <tr>\n",
       "      <th>6</th>\n",
       "      <td>c</td>\n",
       "      <td>10</td>\n",
       "    </tr>\n",
       "    <tr>\n",
       "      <th>8</th>\n",
       "      <td>d</td>\n",
       "      <td>12</td>\n",
       "    </tr>\n",
       "    <tr>\n",
       "      <th>7</th>\n",
       "      <td>d</td>\n",
       "      <td>11</td>\n",
       "    </tr>\n",
       "  </tbody>\n",
       "</table>\n",
       "</div>"
      ],
      "text/plain": [
       "  col1  col2\n",
       "0    a     4\n",
       "1    a     5\n",
       "4    b     8\n",
       "2    b     6\n",
       "5    c     9\n",
       "6    c    10\n",
       "8    d    12\n",
       "7    d    11"
      ]
     },
     "execution_count": 37,
     "metadata": {},
     "output_type": "execute_result"
    },
    {
     "data": {
      "application/javascript": [
       "\n",
       "            setTimeout(function() {\n",
       "                var nbb_cell_id = 37;\n",
       "                var nbb_unformatted_code = \"df = pd.DataFrame({\\\"col1\\\": [\\\"a\\\", \\\"a\\\", \\\"b\\\", \\\"b\\\", \\\"b\\\", \\\"c\\\", \\\"c\\\", \\\"d\\\", \\\"d\\\"], \\\"col2\\\": [4, 5, 6, 7, 8, 9, 10, 11, 12]})\\ndf.groupby(\\\"col1\\\").sample(n=2)\";\n",
       "                var nbb_formatted_code = \"df = pd.DataFrame(\\n    {\\n        \\\"col1\\\": [\\\"a\\\", \\\"a\\\", \\\"b\\\", \\\"b\\\", \\\"b\\\", \\\"c\\\", \\\"c\\\", \\\"d\\\", \\\"d\\\"],\\n        \\\"col2\\\": [4, 5, 6, 7, 8, 9, 10, 11, 12],\\n    }\\n)\\ndf.groupby(\\\"col1\\\").sample(n=2)\";\n",
       "                var nbb_cells = Jupyter.notebook.get_cells();\n",
       "                for (var i = 0; i < nbb_cells.length; ++i) {\n",
       "                    if (nbb_cells[i].input_prompt_number == nbb_cell_id) {\n",
       "                        if (nbb_cells[i].get_text() == nbb_unformatted_code) {\n",
       "                             nbb_cells[i].set_text(nbb_formatted_code);\n",
       "                        }\n",
       "                        break;\n",
       "                    }\n",
       "                }\n",
       "            }, 500);\n",
       "            "
      ],
      "text/plain": [
       "<IPython.core.display.Javascript object>"
      ]
     },
     "metadata": {},
     "output_type": "display_data"
    }
   ],
   "source": [
    "df = pd.DataFrame(\n",
    "    {\n",
    "        \"col1\": [\"a\", \"a\", \"b\", \"b\", \"b\", \"c\", \"c\", \"d\", \"d\"],\n",
    "        \"col2\": [4, 5, 6, 7, 8, 9, 10, 11, 12],\n",
    "    }\n",
    ")\n",
    "df.groupby(\"col1\").sample(n=2)"
   ]
  }
 ],
 "metadata": {
  "kernelspec": {
   "display_name": "Python 3 (ipykernel)",
   "language": "python",
   "name": "python3"
  },
  "language_info": {
   "codemirror_mode": {
    "name": "ipython",
    "version": 3
   },
   "file_extension": ".py",
   "mimetype": "text/x-python",
   "name": "python",
   "nbconvert_exporter": "python",
   "pygments_lexer": "ipython3",
   "version": "3.8.10"
  },
  "toc": {
   "base_numbering": 1,
   "nav_menu": {},
   "number_sections": true,
   "sideBar": true,
   "skip_h1_title": false,
   "title_cell": "Table of Contents",
   "title_sidebar": "Contents",
   "toc_cell": false,
   "toc_position": {},
   "toc_section_display": true,
   "toc_window_display": false
  }
 },
 "nbformat": 4,
 "nbformat_minor": 5
}
