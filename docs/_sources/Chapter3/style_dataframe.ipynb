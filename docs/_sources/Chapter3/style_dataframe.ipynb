{
 "cells": [
  {
   "cell_type": "markdown",
   "id": "3a3a6efd",
   "metadata": {},
   "source": [
    "## Style a DataFrame"
   ]
  },
  {
   "cell_type": "markdown",
   "id": "3f9ba7a1",
   "metadata": {},
   "source": [
    "### Highlight your pandas DataFrame"
   ]
  },
  {
   "cell_type": "markdown",
   "id": "176a9e9b",
   "metadata": {},
   "source": [
    "Have you ever wanted to highlight your pandas DataFrame to analyze it easier? For example, positive values will be highlighted as green and negative values will be highlighted as red.\n",
    "\n",
    "That could be done with `df.style.apply(highlight_condition_func)`. "
   ]
  },
  {
   "cell_type": "code",
   "execution_count": 1,
   "id": "d710e3f6",
   "metadata": {
    "ExecuteTime": {
     "end_time": "2021-11-18T14:30:33.805492Z",
     "start_time": "2021-11-18T14:30:33.376948Z"
    }
   },
   "outputs": [],
   "source": [
    "import pandas as pd \n",
    "\n",
    "df = pd.DataFrame({\"col1\": [-5, -2, 1, 4], \"col2\": [2, 3, -1, 4]})"
   ]
  },
  {
   "cell_type": "code",
   "execution_count": 33,
   "id": "4f96e163",
   "metadata": {
    "ExecuteTime": {
     "end_time": "2021-09-11T15:39:38.809890Z",
     "start_time": "2021-09-11T15:39:38.791564Z"
    }
   },
   "outputs": [
    {
     "data": {
      "application/javascript": "\n            setTimeout(function() {\n                var nbb_cell_id = 33;\n                var nbb_unformatted_code = \"def highlight_number(row):\\n    return [\\n        'background-color: red; color: white' if cell <= 0\\n        else 'background-color: green; color: white'\\n        for cell in row\\n    ]\";\n                var nbb_formatted_code = \"def highlight_number(row):\\n    return [\\n        \\\"background-color: red; color: white\\\"\\n        if cell <= 0\\n        else \\\"background-color: green; color: white\\\"\\n        for cell in row\\n    ]\";\n                var nbb_cells = Jupyter.notebook.get_cells();\n                for (var i = 0; i < nbb_cells.length; ++i) {\n                    if (nbb_cells[i].input_prompt_number == nbb_cell_id) {\n                        if (nbb_cells[i].get_text() == nbb_unformatted_code) {\n                             nbb_cells[i].set_text(nbb_formatted_code);\n                        }\n                        break;\n                    }\n                }\n            }, 500);\n            ",
      "text/plain": [
       "<IPython.core.display.Javascript object>"
      ]
     },
     "metadata": {},
     "output_type": "display_data"
    }
   ],
   "source": [
    "def highlight_number(row):\n",
    "    return [\n",
    "        \"background-color: red; color: white\"\n",
    "        if cell <= 0\n",
    "        else \"background-color: green; color: white\"\n",
    "        for cell in row\n",
    "    ]"
   ]
  },
  {
   "cell_type": "code",
   "execution_count": null,
   "id": "6dbee122",
   "metadata": {
    "ExecuteTime": {
     "end_time": "2021-09-11T15:39:45.391720Z",
     "start_time": "2021-09-11T15:39:45.069976Z"
    }
   },
   "outputs": [
    {
     "data": {
      "text/html": [
       "<style type=\"text/css\">\n",
       "#T_26a2a_row0_col0, #T_26a2a_row1_col0, #T_26a2a_row2_col1 {\n",
       "  background-color: red;\n",
       "  color: white;\n",
       "}\n",
       "#T_26a2a_row0_col1, #T_26a2a_row1_col1, #T_26a2a_row2_col0, #T_26a2a_row3_col0, #T_26a2a_row3_col1 {\n",
       "  background-color: green;\n",
       "  color: white;\n",
       "}\n",
       "</style>\n",
       "<table id=\"T_26a2a_\">\n",
       "  <thead>\n",
       "    <tr>\n",
       "      <th class=\"blank level0\" >&nbsp;</th>\n",
       "      <th class=\"col_heading level0 col0\" >col1</th>\n",
       "      <th class=\"col_heading level0 col1\" >col2</th>\n",
       "    </tr>\n",
       "  </thead>\n",
       "  <tbody>\n",
       "    <tr>\n",
       "      <th id=\"T_26a2a_level0_row0\" class=\"row_heading level0 row0\" >0</th>\n",
       "      <td id=\"T_26a2a_row0_col0\" class=\"data row0 col0\" >-5</td>\n",
       "      <td id=\"T_26a2a_row0_col1\" class=\"data row0 col1\" >2</td>\n",
       "    </tr>\n",
       "    <tr>\n",
       "      <th id=\"T_26a2a_level0_row1\" class=\"row_heading level0 row1\" >1</th>\n",
       "      <td id=\"T_26a2a_row1_col0\" class=\"data row1 col0\" >-2</td>\n",
       "      <td id=\"T_26a2a_row1_col1\" class=\"data row1 col1\" >3</td>\n",
       "    </tr>\n",
       "    <tr>\n",
       "      <th id=\"T_26a2a_level0_row2\" class=\"row_heading level0 row2\" >2</th>\n",
       "      <td id=\"T_26a2a_row2_col0\" class=\"data row2 col0\" >1</td>\n",
       "      <td id=\"T_26a2a_row2_col1\" class=\"data row2 col1\" >-1</td>\n",
       "    </tr>\n",
       "    <tr>\n",
       "      <th id=\"T_26a2a_level0_row3\" class=\"row_heading level0 row3\" >3</th>\n",
       "      <td id=\"T_26a2a_row3_col0\" class=\"data row3 col0\" >4</td>\n",
       "      <td id=\"T_26a2a_row3_col1\" class=\"data row3 col1\" >4</td>\n",
       "    </tr>\n",
       "  </tbody>\n",
       "</table>\n"
      ],
      "text/plain": [
       "<pandas.io.formats.style.Styler at 0x7f5eb8a64460>"
      ]
     },
     "metadata": {},
     "output_type": "display_data"
    },
    {
     "data": {
      "application/javascript": "\n            setTimeout(function() {\n                var nbb_cell_id = 34;\n                var nbb_unformatted_code = \"df.style.apply(highlight_number)\";\n                var nbb_formatted_code = \"df.style.apply(highlight_number)\";\n                var nbb_cells = Jupyter.notebook.get_cells();\n                for (var i = 0; i < nbb_cells.length; ++i) {\n                    if (nbb_cells[i].input_prompt_number == nbb_cell_id) {\n                        if (nbb_cells[i].get_text() == nbb_unformatted_code) {\n                             nbb_cells[i].set_text(nbb_formatted_code);\n                        }\n                        break;\n                    }\n                }\n            }, 500);\n            ",
      "text/plain": [
       "<IPython.core.display.Javascript object>"
      ]
     },
     "metadata": {},
     "output_type": "display_data"
    }
   ],
   "source": [
    "df.style.apply(highlight_number)"
   ]
  },
  {
   "cell_type": "markdown",
   "id": "b5e8f35f",
   "metadata": {},
   "source": [
    "### to_markdown: Print a DataFrame in Markdown Format"
   ]
  },
  {
   "cell_type": "markdown",
   "id": "8138b74a",
   "metadata": {},
   "source": [
    "Sometimes, you might want to include a table in a markdown, such as GitHub README. If you want to print a DataFrame in markdown format, use `to_markdown()`."
   ]
  },
  {
   "cell_type": "code",
   "execution_count": 5,
   "id": "5ce11ee4",
   "metadata": {
    "ExecuteTime": {
     "end_time": "2022-01-13T15:16:07.120045Z",
     "start_time": "2022-01-13T15:16:07.106593Z"
    }
   },
   "outputs": [
    {
     "name": "stdout",
     "output_type": "stream",
     "text": [
      "|    |   a |   b |\n",
      "|---:|----:|----:|\n",
      "|  0 |   1 |   5 |\n",
      "|  1 |   2 |   6 |\n",
      "|  2 |   3 |   7 |\n",
      "|  3 |   4 |   8 |\n"
     ]
    }
   ],
   "source": [
    "import pandas as pd  \n",
    "\n",
    "df = pd.DataFrame({'a': [1, 2, 3, 4], 'b': [5, 6, 7, 8]})\n",
    "print(df.to_markdown())"
   ]
  },
  {
   "cell_type": "markdown",
   "id": "1f203d07",
   "metadata": {},
   "source": [
    "Copy and paste the output above in Jupyter Notebook's markdown cell will give you an output like below:"
   ]
  },
  {
   "cell_type": "markdown",
   "id": "3732ee90",
   "metadata": {},
   "source": [
    "|    |   a |   b |\n",
    "|---:|----:|----:|\n",
    "|  0 |   1 |   5 |\n",
    "|  1 |   2 |   6 |\n",
    "|  2 |   3 |   7 |\n",
    "|  3 |   4 |   8 |"
   ]
  },
  {
   "cell_type": "markdown",
   "id": "cead1104",
   "metadata": {},
   "source": [
    "You can also output markdown with a tabulate option:"
   ]
  },
  {
   "cell_type": "code",
   "execution_count": 6,
   "id": "3c866897",
   "metadata": {
    "ExecuteTime": {
     "end_time": "2022-01-13T15:16:17.453777Z",
     "start_time": "2022-01-13T15:16:17.445698Z"
    },
    "scrolled": false
   },
   "outputs": [
    {
     "name": "stdout",
     "output_type": "stream",
     "text": [
      "+----+-----+-----+\n",
      "|    |   a |   b |\n",
      "+====+=====+=====+\n",
      "|  0 |   1 |   5 |\n",
      "+----+-----+-----+\n",
      "|  1 |   2 |   6 |\n",
      "+----+-----+-----+\n",
      "|  2 |   3 |   7 |\n",
      "+----+-----+-----+\n",
      "|  3 |   4 |   8 |\n",
      "+----+-----+-----+\n"
     ]
    }
   ],
   "source": [
    "print(df.to_markdown(tablefmt=\"grid\"))"
   ]
  }
 ],
 "metadata": {
  "kernelspec": {
   "display_name": "Python 3",
   "language": "python",
   "name": "python3"
  },
  "language_info": {
   "codemirror_mode": {
    "name": "ipython",
    "version": 3
   },
   "file_extension": ".py",
   "mimetype": "text/x-python",
   "name": "python",
   "nbconvert_exporter": "python",
   "pygments_lexer": "ipython3",
   "version": "3.8.10"
  },
  "toc": {
   "base_numbering": 1,
   "nav_menu": {},
   "number_sections": true,
   "sideBar": true,
   "skip_h1_title": false,
   "title_cell": "Table of Contents",
   "title_sidebar": "Contents",
   "toc_cell": false,
   "toc_position": {},
   "toc_section_display": true,
   "toc_window_display": false
  }
 },
 "nbformat": 4,
 "nbformat_minor": 5
}
