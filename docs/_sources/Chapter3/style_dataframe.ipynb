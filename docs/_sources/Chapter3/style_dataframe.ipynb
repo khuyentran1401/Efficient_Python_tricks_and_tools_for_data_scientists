{
 "cells": [
  {
   "cell_type": "markdown",
   "id": "2f87b5dd",
   "metadata": {},
   "source": [
    "## Style a DataFrame"
   ]
  },
  {
   "cell_type": "markdown",
   "id": "48004af6",
   "metadata": {},
   "source": [
    "### Highlight Your pandas DataFrame for Easier Analysis"
   ]
  },
  {
   "cell_type": "markdown",
   "id": "4ee1c5c8",
   "metadata": {},
   "source": [
    "Have you ever wanted to highlight your pandas DataFrame for easier analysis? For example, you might want positive values in green and negative ones in red.\n",
    "\n",
    "That could be done with `df.style.apply`."
   ]
  },
  {
   "cell_type": "code",
   "execution_count": null,
   "id": "31a08670",
   "metadata": {},
   "outputs": [],
   "source": [
    "import pandas as pd \n",
    "\n",
    "df = pd.DataFrame({\"col1\": [-5, -2, 1, 4], \"col2\": [2, 3, -1, 4]})"
   ]
  },
  {
   "cell_type": "code",
   "execution_count": null,
   "id": "6222eb52",
   "metadata": {},
   "outputs": [],
   "source": [
    "def highlight_number(row):\n",
    "    return [\n",
    "        \"background-color: red; color: white\"\n",
    "        if cell <= 0\n",
    "        else \"background-color: green; color: white\"\n",
    "        for cell in row\n",
    "    ]"
   ]
  },
  {
   "cell_type": "code",
   "execution_count": null,
   "id": "9bd0c74a",
   "metadata": {},
   "outputs": [],
   "source": [
    "df.style.apply(highlight_number)"
   ]
  },
  {
   "cell_type": "markdown",
   "id": "817633b2",
   "metadata": {},
   "source": [
    "One use case of highlighting is to compare the predictions of two or more models."
   ]
  },
  {
   "cell_type": "code",
   "execution_count": null,
   "id": "4c66496d",
   "metadata": {},
   "outputs": [],
   "source": [
    "import pandas as pd\n",
    "\n",
    "comparisons = pd.DataFrame(\n",
    "    {\n",
    "        \"predictions_1\": [1, 1, 1, 0, 1],\n",
    "        \"predictions_2\": [0, 1, 0, 0, 0],\n",
    "        \"real_labels\": [0, 1, 0, 0, 1],\n",
    "    }\n",
    ")\n",
    "\n",
    "\n",
    "def highlight_cell(row):\n",
    "    return [\n",
    "        \"background-color: red; color: white\"\n",
    "        if cell == 0\n",
    "        else \"background-color: green; color: white\"\n",
    "        for cell in row\n",
    "    ]\n",
    "\n",
    "\n",
    "comparisons.style.apply(highlight_cell)"
   ]
  },
  {
   "cell_type": "markdown",
   "id": "9006e9f8",
   "metadata": {},
   "source": [
    "### Color the Background of a pandas DataFrame in a Gradient Style"
   ]
  },
  {
   "cell_type": "markdown",
   "id": "e1899be2",
   "metadata": {},
   "source": [
    "If you want to color the background of a pandas DataFrame in a gradient style, use `df.style.background_gradient`. The color of the cell will change based on its value."
   ]
  },
  {
   "cell_type": "code",
   "execution_count": null,
   "id": "28209780",
   "metadata": {},
   "outputs": [],
   "source": [
    "import pandas as pd \n",
    "\n",
    "df = pd.DataFrame({\"col1\": [-5, -2, 1, 4], \"col2\": [2, 3, -1, 4]})"
   ]
  },
  {
   "cell_type": "code",
   "execution_count": null,
   "id": "2d986f04",
   "metadata": {},
   "outputs": [],
   "source": [
    "df.style.background_gradient()  "
   ]
  },
  {
   "cell_type": "code",
   "execution_count": null,
   "id": "e5eb640c",
   "metadata": {},
   "outputs": [],
   "source": [
    "df.style.background_gradient(cmap='plasma')  "
   ]
  },
  {
   "cell_type": "markdown",
   "id": "0576960e",
   "metadata": {},
   "source": [
    "### Format the Text Display Value of Cells"
   ]
  },
  {
   "cell_type": "markdown",
   "id": "a86c09e7",
   "metadata": {},
   "source": [
    "Sometimes, you might want to format your DataFrame before writing it to a file such as an Excel sheet. `df.style.format` allows you to do that."
   ]
  },
  {
   "cell_type": "code",
   "execution_count": null,
   "id": "c5bbb292",
   "metadata": {},
   "outputs": [],
   "source": [
    "import pandas as pd  \n",
    "import numpy as np \n",
    "\n",
    "df = pd.DataFrame({'item': ['a', 'b'], 'price': [np.nan, 2.34]})\n",
    "s = df.style.format({'item': str.title,'price': '${:.1f}'}, na_rep='MISSING')\n",
    "s "
   ]
  },
  {
   "cell_type": "code",
   "execution_count": null,
   "id": "e98169b7",
   "metadata": {},
   "outputs": [],
   "source": [
    "s.to_excel(\"formatted_file.xlsx\")"
   ]
  },
  {
   "cell_type": "markdown",
   "id": "67a9ada2",
   "metadata": {},
   "source": [
    "### to_markdown: Print a DataFrame in Markdown Format"
   ]
  },
  {
   "cell_type": "code",
   "execution_count": null,
   "id": "f056c2e8",
   "metadata": {
    "tags": [
     "hide-cell"
    ]
   },
   "outputs": [],
   "source": [
    "!pip install tabulate "
   ]
  },
  {
   "cell_type": "markdown",
   "id": "ef5022fe",
   "metadata": {},
   "source": [
    "Sometimes, you might want to include a table in a markdown, such as GitHub README. If you want to print a DataFrame in markdown format, use `to_markdown()`."
   ]
  },
  {
   "cell_type": "code",
   "execution_count": null,
   "id": "3b65ae3a",
   "metadata": {},
   "outputs": [],
   "source": [
    "import pandas as pd  \n",
    "\n",
    "df = pd.DataFrame({'a': [1, 2, 3, 4], 'b': [5, 6, 7, 8]})\n",
    "print(df.to_markdown())"
   ]
  },
  {
   "cell_type": "markdown",
   "id": "648511fa",
   "metadata": {},
   "source": [
    "Copy and paste the output above in Jupyter Notebook's markdown cell will give you an output like below:"
   ]
  },
  {
   "cell_type": "markdown",
   "id": "e19c0470",
   "metadata": {},
   "source": [
    "|    |   a |   b |\n",
    "|---:|----:|----:|\n",
    "|  0 |   1 |   5 |\n",
    "|  1 |   2 |   6 |\n",
    "|  2 |   3 |   7 |\n",
    "|  3 |   4 |   8 |"
   ]
  },
  {
   "cell_type": "markdown",
   "id": "53ca0177",
   "metadata": {},
   "source": [
    "You can also output markdown with a tabulate option:"
   ]
  },
  {
   "cell_type": "code",
   "execution_count": null,
   "id": "d9a43665",
   "metadata": {},
   "outputs": [],
   "source": [
    "print(df.to_markdown(tablefmt=\"grid\"))"
   ]
  },
  {
   "cell_type": "markdown",
   "id": "845afc0e",
   "metadata": {},
   "source": [
    "### Print a DataFrame in Latex Format"
   ]
  },
  {
   "cell_type": "markdown",
   "id": "f01da3d7",
   "metadata": {},
   "source": [
    "If you want to print a DataFrame in LaTeX format, use `df.style.to_latex()`. This is useful when you want to include your DataFrame in a LaTeX editor."
   ]
  },
  {
   "cell_type": "code",
   "execution_count": null,
   "id": "87809974",
   "metadata": {},
   "outputs": [],
   "source": [
    "import pandas as pd \n",
    "\n",
    "df = pd.DataFrame({'a': [1, 2, 3, 4], 'b': [5, 6, 7, 8]})\n",
    "print(df.style.to_latex())"
   ]
  },
  {
   "cell_type": "markdown",
   "id": "5fde7b32",
   "metadata": {},
   "source": [
    "![](../img/equation4.png)"
   ]
  },
  {
   "cell_type": "markdown",
   "id": "de7ff816",
   "metadata": {},
   "source": [
    "You can also specify the style of the table before turning it to LaTeX"
   ]
  },
  {
   "cell_type": "code",
   "execution_count": null,
   "id": "22f15917",
   "metadata": {},
   "outputs": [],
   "source": [
    "latex = df.style.set_table_styles(\n",
    "    [\n",
    "        {\"selector\": \"toprule\", \"props\": \":hline;\"},\n",
    "        {\"selector\": \"midrule\", \"props\": \":hline;\"},\n",
    "        {\"selector\": \"bottomrule\", \"props\": \":hline;\"},\n",
    "    ]\n",
    ").to_latex(column_format=\"|l|l|l|\")\n",
    "print(latex)"
   ]
  },
  {
   "cell_type": "markdown",
   "id": "a0bafa6b",
   "metadata": {},
   "source": [
    "![](../img/equation5.png)"
   ]
  }
 ],
 "metadata": {
  "jupytext": {
   "text_representation": {
    "extension": ".md",
    "format_name": "myst",
    "format_version": 0.13,
    "jupytext_version": "1.16.7"
   }
  },
  "kernelspec": {
   "display_name": "Python 3 (ipykernel)",
   "language": "python",
   "name": "python3"
  },
  "source_map": [
   12,
   16,
   20,
   26,
   32,
   42,
   44,
   48,
   70,
   74,
   78,
   84,
   88,
   90,
   94,
   98,
   107,
   109,
   113,
   117,
   121,
   126,
   130,
   139,
   143,
   145,
   149,
   153,
   158,
   162,
   166,
   175
  ]
 },
 "nbformat": 4,
 "nbformat_minor": 5
}