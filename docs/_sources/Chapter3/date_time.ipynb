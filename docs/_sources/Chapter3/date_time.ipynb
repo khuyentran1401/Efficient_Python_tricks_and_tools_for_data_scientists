{
 "cells": [
  {
   "cell_type": "markdown",
   "id": "86c2f242",
   "metadata": {},
   "source": [
    "## Work with Datetime"
   ]
  },
  {
   "cell_type": "markdown",
   "id": "a59893cf",
   "metadata": {},
   "source": [
    "![](../img/datetime_pandas.png)"
   ]
  },
  {
   "cell_type": "markdown",
   "id": "ffcfc327",
   "metadata": {},
   "source": [
    "### parse_dates: Convert Columns into Datetime When Using pandas to Read CSV Files"
   ]
  },
  {
   "cell_type": "markdown",
   "id": "ab62b834",
   "metadata": {},
   "source": [
    "If there are datetime columns in your CSV file, use the `parse_dates` parameter when reading CSV file with pandas. This reduces one extra step to convert these columns from string to datetime after reading the file."
   ]
  },
  {
   "cell_type": "code",
   "execution_count": null,
   "id": "6d1638ba",
   "metadata": {},
   "outputs": [],
   "source": [
    "# Create data files\n",
    "import pandas as pd\n",
    "\n",
    "data = pd.DataFrame(\n",
    "    {\n",
    "        \"date_column_1\": [\"2021/02/10\", \"2021/02/12\"],\n",
    "        \"date_column_2\": [\"2021/02/11\", \"2021/02/13\"],\n",
    "        \"value\": [3, 3],\n",
    "    }\n",
    ")\n",
    "data.to_csv(\"data.csv\", index=False)"
   ]
  },
  {
   "cell_type": "code",
   "execution_count": null,
   "id": "4bfe539f",
   "metadata": {},
   "outputs": [],
   "source": [
    "import pandas as pd \n",
    "\n",
    "df = pd.read_csv(\"data.csv\", parse_dates=[\"date_column_1\", \"date_column_2\"])"
   ]
  },
  {
   "cell_type": "code",
   "execution_count": null,
   "id": "ef9a918f",
   "metadata": {},
   "outputs": [],
   "source": [
    "df"
   ]
  },
  {
   "cell_type": "code",
   "execution_count": null,
   "id": "56c52b0a",
   "metadata": {},
   "outputs": [],
   "source": [
    "df.info()"
   ]
  },
  {
   "cell_type": "markdown",
   "id": "ea4d0410",
   "metadata": {},
   "source": [
    "### pandas' DateOffset: Add a Time Interval to a pandas Timestamp"
   ]
  },
  {
   "cell_type": "markdown",
   "id": "9676b911",
   "metadata": {},
   "source": [
    "If you want to add days, months, or other time intervals to a pandas `Timestamp`,  use `pd.DateOffset`."
   ]
  },
  {
   "cell_type": "code",
   "execution_count": null,
   "id": "157e5e8c",
   "metadata": {},
   "outputs": [],
   "source": [
    "import pandas as pd \n",
    "from pandas.tseries.offsets import DateOffset, BDay\n",
    "\n",
    "ts = pd.Timestamp('2021-10-10 9:00:00')\n",
    "\n",
    "# Increase the timestamp by 3 months\n",
    "ts + DateOffset(months=3)"
   ]
  },
  {
   "cell_type": "code",
   "execution_count": null,
   "id": "ca8947cb",
   "metadata": {},
   "outputs": [],
   "source": [
    "# Increase the timestamp by 3 years and 3 hours\n",
    "ts + DateOffset(years=3, hours=3)"
   ]
  },
  {
   "cell_type": "markdown",
   "id": "8358e6f9",
   "metadata": {},
   "source": [
    "You can also increase the timestamp by `n` business days using `BDay`."
   ]
  },
  {
   "cell_type": "code",
   "execution_count": null,
   "id": "bbc6d122",
   "metadata": {},
   "outputs": [],
   "source": [
    "# Increase the timestamp by 6 business days\n",
    "ts + BDay(n=6)"
   ]
  },
  {
   "cell_type": "markdown",
   "id": "cf5641ee",
   "metadata": {},
   "source": [
    "[Link to pandas DateOffset](https://pandas.pydata.org/docs/reference/api/pandas.tseries.offsets.DateOffset.html)."
   ]
  },
  {
   "cell_type": "markdown",
   "id": "69f7dd9e",
   "metadata": {},
   "source": [
    "### DataFrame rolling: Find The Average of The Previous n Datapoints Using pandas"
   ]
  },
  {
   "cell_type": "markdown",
   "id": "e00b954d",
   "metadata": {},
   "source": [
    "If you want to find the average of the previous n data points (simple moving average) with pandas, use `df.rolling(time_period).mean()`.\n",
    "\n",
    "The code below shows how to find the simple moving average of the previous 3 data-points."
   ]
  },
  {
   "cell_type": "code",
   "execution_count": null,
   "id": "ea26f0aa",
   "metadata": {},
   "outputs": [],
   "source": [
    "from datetime import date\n",
    "import pandas as pd \n",
    "\n",
    "df = pd.DataFrame(\n",
    "    {\n",
    "        \"date\": [\n",
    "            date(2021, 1, 20),\n",
    "            date(2021, 1, 21),\n",
    "            date(2021, 1, 22),\n",
    "            date(2021, 1, 23),\n",
    "            date(2021, 1, 24),\n",
    "        ],\n",
    "        \"value\": [1, 2, 3, 4, 5],\n",
    "    }\n",
    ").set_index(\"date\")\n",
    "\n",
    "df"
   ]
  },
  {
   "cell_type": "code",
   "execution_count": null,
   "id": "554ee9e0",
   "metadata": {},
   "outputs": [],
   "source": [
    "df.rolling(3).mean()"
   ]
  },
  {
   "cell_type": "markdown",
   "id": "3266ff11",
   "metadata": {},
   "source": [
    "### pandas Grouper: Group Values Based on a Specific Frequency"
   ]
  },
  {
   "cell_type": "markdown",
   "id": "a3550d08",
   "metadata": {},
   "source": [
    "Imagine you are given a DataFrame with a date column. If you want to group your DataFrame by a specific frequency, use `pd.Grouper`. A `Grouper` allows you to customize your groupby instruction.\n",
    "\n",
    "In the code below, I set `freq=1W` to group my DataFrame by weeks."
   ]
  },
  {
   "cell_type": "code",
   "execution_count": null,
   "id": "b00d523b",
   "metadata": {},
   "outputs": [],
   "source": [
    "import pandas as pd\n",
    "\n",
    "df = pd.DataFrame(\n",
    "    {\"date\": [\"3-15-22\", \"3-16-22\", \"3-22-22\"], \"price\": [2, 3, 4]}\n",
    ")\n",
    "df[\"date\"] = pd.to_datetime(df[\"date\"])\n",
    "df"
   ]
  },
  {
   "cell_type": "code",
   "execution_count": null,
   "id": "c143bb13",
   "metadata": {},
   "outputs": [],
   "source": [
    "df.groupby(pd.Grouper(key=\"date\", freq=\"1W\")).mean()"
   ]
  },
  {
   "cell_type": "markdown",
   "id": "122ed76c",
   "metadata": {},
   "source": [
    "### pandas.Series.dt: Access Datetime Properties of a pandas Series"
   ]
  },
  {
   "cell_type": "markdown",
   "id": "a71764f6",
   "metadata": {},
   "source": [
    "The easiest way to access datetime properties of pandas Series values is to use `pandas.Series.dt`."
   ]
  },
  {
   "cell_type": "code",
   "execution_count": null,
   "id": "4a3a68ef",
   "metadata": {},
   "outputs": [],
   "source": [
    "import pandas as pd \n",
    "\n",
    "df = pd.DataFrame({\"date\": [\"2021/05/13 15:00\", \"2022-6-20 14:00\"], \"values\": [1, 3]})\n",
    "\n",
    "df[\"date\"] = pd.to_datetime(df[\"date\"])\n",
    "\n",
    "df[\"date\"].dt.year"
   ]
  },
  {
   "cell_type": "code",
   "execution_count": null,
   "id": "972d130c",
   "metadata": {},
   "outputs": [],
   "source": [
    "df[\"date\"].dt.time"
   ]
  },
  {
   "cell_type": "markdown",
   "id": "f89d4855",
   "metadata": {},
   "source": [
    "### Get Rows within a Year Range"
   ]
  },
  {
   "cell_type": "markdown",
   "id": "c5e27f10",
   "metadata": {},
   "source": [
    "If you want to get all data starting in a particular year and exclude the previous years, simply use `df.loc['year':]` like below. This works when the index of your `pd.Dataframe` is `DatetimeIndex`."
   ]
  },
  {
   "cell_type": "code",
   "execution_count": null,
   "id": "535bfea6",
   "metadata": {},
   "outputs": [],
   "source": [
    "from datetime import datetime\n",
    "import pandas as pd \n",
    "\n",
    "df = pd.DataFrame(\n",
    "    {\n",
    "        \"date\": [datetime(2018, 10, 1), datetime(2019, 10, 1), datetime(2020, 10, 1)],\n",
    "        \"val\": [1, 2, 3],\n",
    "    }\n",
    ").set_index(\"date\")\n",
    "\n",
    "df"
   ]
  },
  {
   "cell_type": "code",
   "execution_count": null,
   "id": "524f09a5",
   "metadata": {},
   "outputs": [],
   "source": [
    "df.loc[\"2019\":]"
   ]
  },
  {
   "cell_type": "markdown",
   "id": "6410e26e",
   "metadata": {},
   "source": [
    "### pandas.reindex: Replace the Values of the Missing Dates with 0"
   ]
  },
  {
   "cell_type": "markdown",
   "id": "c2f40cd3",
   "metadata": {},
   "source": [
    "Have you ever got a time series with missing dates? This can cause a problem since many time series methods require a fixed frequency index.\n",
    "\n",
    "To fix this issue, you can replace the values of the missing dates with 0 using `pd.date_range` and `pd.reindex`."
   ]
  },
  {
   "cell_type": "code",
   "execution_count": null,
   "id": "6b4a3f01",
   "metadata": {},
   "outputs": [],
   "source": [
    "import pandas as pd \n",
    "\n",
    "s = pd.Series([1, 2, 3], index=[\"2021-07-20\", \"2021-07-23\", \"2021-07-25\"])\n",
    "s.index = pd.to_datetime(s.index)\n",
    "s"
   ]
  },
  {
   "cell_type": "code",
   "execution_count": null,
   "id": "308ecac6",
   "metadata": {},
   "outputs": [],
   "source": [
    "# Get dates ranging from 2021/7/20 to 2021/7/25\n",
    "new_index = pd.date_range(\"2021-07-20\", \"2021-07-25\")\n",
    "\n",
    "# Conform Series to new index\n",
    "new_s = s.reindex(new_index, fill_value=0)\n",
    "new_s"
   ]
  },
  {
   "cell_type": "markdown",
   "id": "b28b7a6e",
   "metadata": {},
   "source": [
    "### Select DataFrame Rows Before or After a Specific Date"
   ]
  },
  {
   "cell_type": "markdown",
   "id": "7658e667",
   "metadata": {},
   "source": [
    "If you want to get the rows whose dates are before or after a specific date, use the comparison operator and a date string."
   ]
  },
  {
   "cell_type": "code",
   "execution_count": null,
   "id": "6580fc92",
   "metadata": {},
   "outputs": [],
   "source": [
    "import pandas as pd \n",
    "\n",
    "df = pd.DataFrame(\n",
    "    {\"date\": pd.date_range(start=\"2021-7-19\", end=\"2021-7-23\"), \"value\": list(range(5))}\n",
    ")\n",
    "df"
   ]
  },
  {
   "cell_type": "code",
   "execution_count": null,
   "id": "a4fbce11",
   "metadata": {},
   "outputs": [],
   "source": [
    "filtered_df = df[df.date <= \"2021-07-21\"]\n",
    "filtered_df"
   ]
  },
  {
   "cell_type": "markdown",
   "id": "4af7eba8",
   "metadata": {},
   "source": [
    "### resample: Resample Time-Series Data"
   ]
  },
  {
   "cell_type": "markdown",
   "id": "ef4377dc",
   "metadata": {},
   "source": [
    "If you want to change the frequency of time-series data,  use `resample`. In the code below, I use `resample` to show the records every two days instead of every day."
   ]
  },
  {
   "cell_type": "code",
   "execution_count": null,
   "id": "7582eecb",
   "metadata": {},
   "outputs": [],
   "source": [
    "import pandas as pd  \n",
    "from numpy.random import randint\n",
    "\n",
    "index = pd.date_range(\"2022-02-01\", \"2022-02-6\")\n",
    "s = pd.Series(index=index, data=randint(0, 10, 6))\n",
    "s "
   ]
  },
  {
   "cell_type": "code",
   "execution_count": null,
   "id": "43b3da67",
   "metadata": {},
   "outputs": [],
   "source": [
    "s.resample('2D').sum()"
   ]
  },
  {
   "cell_type": "markdown",
   "id": "521c2ca7",
   "metadata": {},
   "source": [
    "### Shift the Index of a DataFrame by a Specific Number of Periods"
   ]
  },
  {
   "cell_type": "markdown",
   "id": "fcfba012",
   "metadata": {},
   "source": [
    "If you want to shift the index of a DataFrame by a specific number of periods, use `pandas.DataFrame.shift`."
   ]
  },
  {
   "cell_type": "code",
   "execution_count": null,
   "id": "9daf8e46",
   "metadata": {},
   "outputs": [],
   "source": [
    "import pandas as pd\n",
    "\n",
    "df = pd.DataFrame(\n",
    "    {\"a\": [1, 2, 3], \"b\": [4, 5, 6]}, index=pd.date_range(\"2022-01-01\", \"2022-01-03\")\n",
    ")\n",
    "df "
   ]
  },
  {
   "cell_type": "code",
   "execution_count": null,
   "id": "4e513e88",
   "metadata": {},
   "outputs": [],
   "source": [
    "shifted = df.shift(periods=1)\n",
    "shifted"
   ]
  },
  {
   "cell_type": "code",
   "execution_count": null,
   "id": "03d2f79a",
   "metadata": {},
   "outputs": [],
   "source": [
    "shifted.dropna()"
   ]
  }
 ],
 "metadata": {
  "jupytext": {
   "text_representation": {
    "extension": ".md",
    "format_name": "myst",
    "format_version": 0.13,
    "jupytext_version": "1.16.7"
   }
  },
  "kernelspec": {
   "display_name": "Python 3.8.9 ('venv': venv)",
   "language": "python",
   "name": "python3"
  },
  "source_map": [
   12,
   16,
   20,
   24,
   28,
   42,
   48,
   52,
   54,
   58,
   62,
   72,
   75,
   79,
   82,
   86,
   90,
   96,
   116,
   118,
   122,
   128,
   138,
   140,
   144,
   148,
   158,
   160,
   164,
   168,
   182,
   184,
   188,
   194,
   202,
   209,
   213,
   217,
   226,
   229,
   233,
   237,
   246,
   248,
   252,
   256,
   265,
   270
  ]
 },
 "nbformat": 4,
 "nbformat_minor": 5
}