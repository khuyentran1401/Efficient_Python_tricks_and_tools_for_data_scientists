{
 "cells": [
  {
   "cell_type": "markdown",
   "id": "338000cb",
   "metadata": {},
   "source": [
    "## Get Certain Values From a DataFrame"
   ]
  },
  {
   "cell_type": "markdown",
   "id": "fba78a78",
   "metadata": {},
   "source": [
    "![](../img/get_values.png)"
   ]
  },
  {
   "cell_type": "markdown",
   "id": "1b1f52d7",
   "metadata": {},
   "source": [
    "This section contains some methods to get specific values of a pandas DataFrame or a pandas Series."
   ]
  },
  {
   "cell_type": "markdown",
   "id": "2e7acb6d",
   "metadata": {},
   "source": [
    "### Access a Group of Rows with loc and iloc"
   ]
  },
  {
   "cell_type": "markdown",
   "id": "6612adef",
   "metadata": {},
   "source": [
    "You can access a group of rows by either using `loc` or `iloc`. \n",
    "\n",
    "`iloc` selects values based on positions while `loc` selects values based on labels."
   ]
  },
  {
   "cell_type": "code",
   "execution_count": null,
   "id": "2fe914ed",
   "metadata": {},
   "outputs": [],
   "source": [
    "import pandas as pd  \n",
    "\n",
    "s = pd.Series(['a', 'b', 'c', 'd'], index=[20, 21, 22, 23])\n",
    "s "
   ]
  },
  {
   "cell_type": "code",
   "execution_count": null,
   "id": "d23da18d",
   "metadata": {},
   "outputs": [],
   "source": [
    "# Get the value at the position 0\n",
    "s.iloc[0]"
   ]
  },
  {
   "cell_type": "code",
   "execution_count": null,
   "id": "d9b957ee",
   "metadata": {},
   "outputs": [],
   "source": [
    "# Get the value with the index of 20. \n",
    "s.loc[20]"
   ]
  },
  {
   "cell_type": "markdown",
   "id": "d3cb312f",
   "metadata": {},
   "source": [
    "### pd.Series.between: Select Rows in a Pandas Series Containing Values Between 2 Numbers"
   ]
  },
  {
   "cell_type": "markdown",
   "id": "82a96184",
   "metadata": {},
   "source": [
    "To get the values that are smaller than the upper bound and larger than the lower bound, use the `pandas.Series.between` method.\n",
    "\n",
    "In the code below, I obtained the values between 0 and 10 using `between`."
   ]
  },
  {
   "cell_type": "code",
   "execution_count": null,
   "id": "6a94e06c",
   "metadata": {},
   "outputs": [],
   "source": [
    "import pandas as pd \n",
    "\n",
    "s = pd.Series([5, 2, 15, 13, 6, 10])\n",
    "\n",
    "s[s.between(0, 10)]"
   ]
  },
  {
   "cell_type": "markdown",
   "id": "ce1b455b",
   "metadata": {},
   "source": [
    "### pandas.Series.pct_change: Find The Percentage Change Between The Current and a Prior Element in a pandas Series"
   ]
  },
  {
   "cell_type": "markdown",
   "id": "f21e9778",
   "metadata": {},
   "source": [
    "If you want to find the percentage change between the current and a prior element in a pandas Series, use the `pct_change` method.\n",
    "\n",
    "In the example below, 35 is 75% larger than 20, and 10 is 71.4% smaller than 35."
   ]
  },
  {
   "cell_type": "code",
   "execution_count": null,
   "id": "db535b13",
   "metadata": {},
   "outputs": [],
   "source": [
    "import pandas as pd \n",
    "\n",
    "df = pd.DataFrame({\"a\": [20, 35, 10], \"b\": [1, 2, 3]})\n",
    "df"
   ]
  },
  {
   "cell_type": "code",
   "execution_count": null,
   "id": "872d76a8",
   "metadata": {},
   "outputs": [],
   "source": [
    "df.a.pct_change()"
   ]
  },
  {
   "cell_type": "markdown",
   "id": "d59b51e0",
   "metadata": {},
   "source": [
    "### Calculate the Difference Between Rows of a pandas DataFrame"
   ]
  },
  {
   "cell_type": "markdown",
   "id": "2799d3b7",
   "metadata": {},
   "source": [
    "If you want to get the difference between rows of a pandas DataFrame, use `df.diff()`."
   ]
  },
  {
   "cell_type": "code",
   "execution_count": null,
   "id": "37a612ac",
   "metadata": {},
   "outputs": [],
   "source": [
    "import pandas as pd \n",
    "\n",
    "df = pd.DataFrame({\"a\": [1, 2, 3], \"b\": [2, 3, 4]})\n",
    "df"
   ]
  },
  {
   "cell_type": "code",
   "execution_count": null,
   "id": "0515c48d",
   "metadata": {},
   "outputs": [],
   "source": [
    "diff = df.diff()\n",
    "diff"
   ]
  },
  {
   "cell_type": "markdown",
   "id": "acfa35c9",
   "metadata": {},
   "source": [
    "Adjust the `periods` argument to shift more than one period for calculating the difference."
   ]
  },
  {
   "cell_type": "code",
   "execution_count": null,
   "id": "66ac2b18",
   "metadata": {},
   "outputs": [],
   "source": [
    "diff2 = df.diff(periods=2)\n",
    "diff2"
   ]
  },
  {
   "cell_type": "markdown",
   "id": "d6151bf6",
   "metadata": {},
   "source": [
    "### DataFrame.diff and DataFrame.shift: Take the Difference Between Rows Within a Column in pandas"
   ]
  },
  {
   "cell_type": "markdown",
   "id": "28beb7e3",
   "metadata": {},
   "source": [
    "If you want to get the difference between rows within a column, use `DataFrame.diff()`."
   ]
  },
  {
   "cell_type": "code",
   "execution_count": null,
   "id": "a3d9277d",
   "metadata": {},
   "outputs": [],
   "source": [
    "import pandas as pd \n",
    "\n",
    "df = pd.DataFrame({\"a\": [1, 2, 3, 4], \"b\": [2, 3, 4, 6]})\n",
    "diff = df.diff()\n",
    "diff"
   ]
  },
  {
   "cell_type": "markdown",
   "id": "1b0eafad",
   "metadata": {},
   "source": [
    "This will leave the first index null. You can shift the rows up to match the first difference with the first index using `DataFrame.shift(-1)`."
   ]
  },
  {
   "cell_type": "code",
   "execution_count": null,
   "id": "4d8a8f54",
   "metadata": {},
   "outputs": [],
   "source": [
    "shift = diff.shift(-1)\n",
    "shift"
   ]
  },
  {
   "cell_type": "code",
   "execution_count": null,
   "id": "b02d1c48",
   "metadata": {},
   "outputs": [],
   "source": [
    "processed_df = shift.dropna()\n",
    "processed_df"
   ]
  },
  {
   "cell_type": "markdown",
   "id": "80101b8e",
   "metadata": {},
   "source": [
    "### Turn a pandas Series into a NumPy Array"
   ]
  },
  {
   "cell_type": "markdown",
   "id": "9883e5a7",
   "metadata": {},
   "source": [
    "If you want to turn a pandas Series into a NumPy array, use Series.values."
   ]
  },
  {
   "cell_type": "code",
   "execution_count": null,
   "id": "d832e5a3",
   "metadata": {},
   "outputs": [],
   "source": [
    "import pandas as pd\n",
    "\n",
    "s = pd.Series([\"apple\", \"orange\", \"grape\"])\n",
    "s.values"
   ]
  },
  {
   "cell_type": "markdown",
   "id": "858a7c9d",
   "metadata": {},
   "source": [
    "### df.to_dict: Turn a DataFrame into a Dictionary"
   ]
  },
  {
   "cell_type": "markdown",
   "id": "087c0b9d",
   "metadata": {},
   "source": [
    "To turn a DataFrame into a Python dictionary, use `df.to_dict()`."
   ]
  },
  {
   "cell_type": "code",
   "execution_count": null,
   "id": "bdc85858",
   "metadata": {},
   "outputs": [],
   "source": [
    "import pandas as pd\n",
    "\n",
    "df = pd.DataFrame({\"fruits\": [\"apple\", \"orange\", \"grape\"], \"price\": [1, 2, 3]})\n",
    "print(df)"
   ]
  },
  {
   "cell_type": "markdown",
   "id": "b9b49758",
   "metadata": {},
   "source": [
    "This will return a dictionary whose keys are columns and values are rows."
   ]
  },
  {
   "cell_type": "code",
   "execution_count": null,
   "id": "329668e2",
   "metadata": {},
   "outputs": [],
   "source": [
    "df.to_dict()"
   ]
  },
  {
   "cell_type": "markdown",
   "id": "5fa534ba",
   "metadata": {},
   "source": [
    "However, if you prefer to get a list of dictionaries whose elements are rows, use `df.to_dict(orient='records')` instead."
   ]
  },
  {
   "cell_type": "code",
   "execution_count": null,
   "id": "912a1150",
   "metadata": {},
   "outputs": [],
   "source": [
    "df.to_dict(orient=\"records\")"
   ]
  },
  {
   "cell_type": "markdown",
   "id": "8b4eb5f9",
   "metadata": {},
   "source": [
    "### Get Count and Percentage of a Value in a Column"
   ]
  },
  {
   "cell_type": "markdown",
   "id": "888561fa",
   "metadata": {},
   "source": [
    "If you want to get the count of each value in a column, use `value_counts`."
   ]
  },
  {
   "cell_type": "code",
   "execution_count": null,
   "id": "726c4af7",
   "metadata": {},
   "outputs": [],
   "source": [
    "import pandas as pd \n",
    "\n",
    "size = pd.Series(['S', 'S', 'M', 'L', 'M', 'M'])"
   ]
  },
  {
   "cell_type": "code",
   "execution_count": null,
   "id": "ff0716c2",
   "metadata": {},
   "outputs": [],
   "source": [
    "size.value_counts()"
   ]
  },
  {
   "cell_type": "markdown",
   "id": "9f47066c",
   "metadata": {},
   "source": [
    "However, If you want to get the percentage of each value in a column, use `value_counts(normalize=True)`."
   ]
  },
  {
   "cell_type": "code",
   "execution_count": null,
   "id": "58f29927",
   "metadata": {},
   "outputs": [],
   "source": [
    "size.value_counts(normalize=True)"
   ]
  },
  {
   "cell_type": "markdown",
   "id": "5dc555a0",
   "metadata": {},
   "source": [
    "### pandas.DataFrame.corrwith: Compute Pairwise Correlation Between 2 DataFrame"
   ]
  },
  {
   "cell_type": "markdown",
   "id": "8dca16df",
   "metadata": {},
   "source": [
    "If you want to compute correlation between rows or columns of two DataFrame, use `corrwith`."
   ]
  },
  {
   "cell_type": "code",
   "execution_count": null,
   "id": "1591b5e9",
   "metadata": {},
   "outputs": [],
   "source": [
    "import pandas as pd \n",
    "\n",
    "df1 = pd.DataFrame({\"a\": [1, 2, 3, 4], \"b\": [2, 3, 4, 6]})\n",
    "df2 = pd.DataFrame({\"a\": [1, 2, 3, 3], \"b\": [2, 2, 4, 4]})\n",
    "\n",
    "df1.corrwith(df2)"
   ]
  },
  {
   "cell_type": "markdown",
   "id": "c0936659",
   "metadata": {},
   "source": [
    "### pandas.cut: Bin a DataFrame’s values into Discrete Intervals"
   ]
  },
  {
   "cell_type": "markdown",
   "id": "bdbad2f4",
   "metadata": {},
   "source": [
    "If you want to bin your Dataframe’s values into discrete intervals, use `pandas.cut`."
   ]
  },
  {
   "cell_type": "code",
   "execution_count": null,
   "id": "767a55bf",
   "metadata": {},
   "outputs": [],
   "source": [
    "import pandas as pd \n",
    "\n",
    "df = pd.DataFrame({\"a\": [1, 3, 7, 11, 14, 17]})\n",
    "\n",
    "bins = [0, 5, 10, 15, 20]\n",
    "df[\"binned\"] = pd.cut(df[\"a\"], bins=bins)\n",
    "\n",
    "print(df)"
   ]
  },
  {
   "cell_type": "markdown",
   "id": "a872846c",
   "metadata": {},
   "source": [
    "### pandas.qcut: Bin a DataFrame's Values into Equal-Sized Intervals"
   ]
  },
  {
   "cell_type": "markdown",
   "id": "b5c08614",
   "metadata": {},
   "source": [
    "If you want to bin a column's values into intervals that contain roughly the same number of elements, use `pandas.qcut`. \n",
    "\n",
    "In the example below, the values of `a` are separated into 3 intervals, each of which contains 2 elements."
   ]
  },
  {
   "cell_type": "code",
   "execution_count": null,
   "id": "a6bc1595",
   "metadata": {},
   "outputs": [],
   "source": [
    "import pandas as pd \n",
    "\n",
    "df = pd.DataFrame({\"a\": [1, 3, 7, 11, 14, 17]})\n",
    "\n",
    "df[\"binned\"] = pd.qcut(df[\"a\"], q=3)\n",
    "\n",
    "df"
   ]
  },
  {
   "cell_type": "code",
   "execution_count": null,
   "id": "c2080689",
   "metadata": {},
   "outputs": [],
   "source": [
    "df.binned.value_counts()"
   ]
  },
  {
   "cell_type": "markdown",
   "id": "169e3c28",
   "metadata": {},
   "source": [
    "### DataFrame.cumsum: Get Cumulative Sum Over Each Column"
   ]
  },
  {
   "cell_type": "markdown",
   "id": "d0b01b0f",
   "metadata": {},
   "source": [
    "If you want to get a cumulative sum over each column in a DataFrame,  use `cumsum`."
   ]
  },
  {
   "cell_type": "code",
   "execution_count": null,
   "id": "55e4d230",
   "metadata": {},
   "outputs": [],
   "source": [
    "import pandas as pd \n",
    "\n",
    "df = pd.DataFrame({\"a\": [1, 2, 3], \"b\": [4, 5, 6]})\n",
    "df  "
   ]
  },
  {
   "cell_type": "code",
   "execution_count": null,
   "id": "067459a4",
   "metadata": {},
   "outputs": [],
   "source": [
    "df.cumsum()"
   ]
  },
  {
   "cell_type": "markdown",
   "id": "dfea336a",
   "metadata": {},
   "source": [
    "### pandas.DataFrame.cummax: Get the Cumulative Maximum"
   ]
  },
  {
   "cell_type": "markdown",
   "id": "b14ff7db",
   "metadata": {},
   "source": [
    "The cumulative maximum is the maximum of the numbers starting from 0 to the current index. If you want to get the cumulative maximum of a pandas DataFrame/Series, use cummax. \n",
    "\n",
    "In the index `1` of the series below, since 4 > 2, the cumulative max at the index `1` is 4."
   ]
  },
  {
   "cell_type": "code",
   "execution_count": null,
   "id": "1210c9fc",
   "metadata": {},
   "outputs": [],
   "source": [
    "import pandas as pd  \n",
    "\n",
    "nums = pd.Series([4, 2, 5, 1, 6])\n",
    "nums.cummax()"
   ]
  },
  {
   "cell_type": "markdown",
   "id": "44585014",
   "metadata": {},
   "source": [
    "### Get the Sum of All Columns in a pandas DataFrame"
   ]
  },
  {
   "cell_type": "markdown",
   "id": "969b6394",
   "metadata": {},
   "source": [
    "If you want to take the sum of all columns, use `sum(axis=1)`."
   ]
  },
  {
   "cell_type": "code",
   "execution_count": null,
   "id": "93c0e251",
   "metadata": {},
   "outputs": [],
   "source": [
    "import pandas as pd\n",
    "\n",
    "df = pd.DataFrame({\"a\": [1, 2, 3], \"b\": [4, 5, 6]})\n",
    "df"
   ]
  },
  {
   "cell_type": "code",
   "execution_count": null,
   "id": "bbae045e",
   "metadata": {},
   "outputs": [],
   "source": [
    "df.sum(axis=1) "
   ]
  },
  {
   "cell_type": "markdown",
   "id": "d6b8c74b",
   "metadata": {},
   "source": [
    "If you want to take the sum of all rows, use `sum(axis=0)`."
   ]
  },
  {
   "cell_type": "code",
   "execution_count": null,
   "id": "db7c10ac",
   "metadata": {},
   "outputs": [],
   "source": [
    "df.sum(axis=0)"
   ]
  }
 ],
 "metadata": {
  "jupytext": {
   "text_representation": {
    "extension": ".md",
    "format_name": "myst",
    "format_version": 0.13,
    "jupytext_version": "1.16.7"
   }
  },
  "kernelspec": {
   "display_name": "Python 3.8.9 ('venv': venv)",
   "language": "python",
   "name": "python3"
  },
  "source_map": [
   12,
   16,
   20,
   24,
   28,
   34,
   41,
   46,
   49,
   53,
   59,
   65,
   69,
   75,
   82,
   84,
   88,
   92,
   99,
   102,
   106,
   109,
   113,
   117,
   123,
   127,
   132,
   135,
   139,
   143,
   148,
   152,
   156,
   161,
   165,
   167,
   171,
   173,
   177,
   181,
   187,
   189,
   193,
   195,
   199,
   203,
   210,
   214,
   218,
   227,
   231,
   237,
   247,
   249,
   253,
   257,
   264,
   266,
   270,
   276,
   281,
   285,
   289,
   296,
   298,
   302
  ]
 },
 "nbformat": 4,
 "nbformat_minor": 5
}