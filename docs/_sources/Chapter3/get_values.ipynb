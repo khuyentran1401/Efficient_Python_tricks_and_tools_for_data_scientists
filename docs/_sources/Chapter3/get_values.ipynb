{
 "cells": [
  {
   "cell_type": "markdown",
   "id": "9914ac57",
   "metadata": {},
   "source": [
    "## Get Certain Values From a DataFrame"
   ]
  },
  {
   "cell_type": "markdown",
   "id": "203c2813",
   "metadata": {},
   "source": [
    "![](../img/get_values.png)"
   ]
  },
  {
   "cell_type": "markdown",
   "id": "1fd5d069",
   "metadata": {},
   "source": [
    "This section contains some methods to get specific values of a pandas DataFrame or a pandas Series."
   ]
  },
  {
   "cell_type": "markdown",
   "id": "2bee133d",
   "metadata": {},
   "source": [
    "### Access a Group of Rows with loc and iloc"
   ]
  },
  {
   "cell_type": "markdown",
   "id": "cc099d38",
   "metadata": {},
   "source": [
    "You can access a group of rows by either using `loc` or `iloc`. \n",
    "\n",
    "`iloc` selects values based on positions while `loc` selects values based on labels."
   ]
  },
  {
   "cell_type": "code",
   "execution_count": null,
   "id": "dc67b68d",
   "metadata": {},
   "outputs": [],
   "source": [
    "import pandas as pd  \n",
    "\n",
    "s = pd.Series(['a', 'b', 'c', 'd'], index=[20, 21, 22, 23])\n",
    "s "
   ]
  },
  {
   "cell_type": "code",
   "execution_count": null,
   "id": "1afdccbb",
   "metadata": {},
   "outputs": [],
   "source": [
    "# Get the value at the position 0\n",
    "s.iloc[0]"
   ]
  },
  {
   "cell_type": "code",
   "execution_count": null,
   "id": "24a18e12",
   "metadata": {},
   "outputs": [],
   "source": [
    "# Get the value with the index of 20. \n",
    "s.loc[20]"
   ]
  },
  {
   "cell_type": "markdown",
   "id": "9bfdab5f",
   "metadata": {},
   "source": [
    "### pd.Series.between: Select Rows in a Pandas Series Containing Values Between 2 Numbers"
   ]
  },
  {
   "cell_type": "markdown",
   "id": "0d1e3f1b",
   "metadata": {},
   "source": [
    "To get the values that are smaller than the upper bound and larger than the lower bound, use the `pandas.Series.between` method.\n",
    "\n",
    "In the code below, I obtained the values between 0 and 10 using `between`."
   ]
  },
  {
   "cell_type": "code",
   "execution_count": null,
   "id": "7347fdc9",
   "metadata": {},
   "outputs": [],
   "source": [
    "import pandas as pd \n",
    "\n",
    "s = pd.Series([5, 2, 15, 13, 6, 10])\n",
    "\n",
    "s[s.between(0, 10)]"
   ]
  },
  {
   "cell_type": "markdown",
   "id": "ad7f91fb",
   "metadata": {},
   "source": [
    "### pandas.Series.pct_change: Find The Percentage Change Between The Current and a Prior Element in a pandas Series"
   ]
  },
  {
   "cell_type": "markdown",
   "id": "a28330bd",
   "metadata": {},
   "source": [
    "If you want to find the percentage change between the current and a prior element in a pandas Series, use the `pct_change` method.\n",
    "\n",
    "In the example below, 35 is 75% larger than 20, and 10 is 71.4% smaller than 35."
   ]
  },
  {
   "cell_type": "code",
   "execution_count": null,
   "id": "e5558efb",
   "metadata": {},
   "outputs": [],
   "source": [
    "import pandas as pd \n",
    "\n",
    "df = pd.DataFrame({\"a\": [20, 35, 10], \"b\": [1, 2, 3]})\n",
    "df"
   ]
  },
  {
   "cell_type": "code",
   "execution_count": null,
   "id": "a0eb78d0",
   "metadata": {},
   "outputs": [],
   "source": [
    "df.a.pct_change()"
   ]
  },
  {
   "cell_type": "markdown",
   "id": "ba1ebc09",
   "metadata": {},
   "source": [
    "### Calculate the Difference Between Rows of a pandas DataFrame"
   ]
  },
  {
   "cell_type": "markdown",
   "id": "c3bf86ac",
   "metadata": {},
   "source": [
    "If you want to get the difference between rows of a pandas DataFrame, use `df.diff()`."
   ]
  },
  {
   "cell_type": "code",
   "execution_count": null,
   "id": "79475d0f",
   "metadata": {},
   "outputs": [],
   "source": [
    "import pandas as pd \n",
    "\n",
    "df = pd.DataFrame({\"a\": [1, 2, 3], \"b\": [2, 3, 4]})\n",
    "df"
   ]
  },
  {
   "cell_type": "code",
   "execution_count": null,
   "id": "90631f45",
   "metadata": {},
   "outputs": [],
   "source": [
    "diff = df.diff()\n",
    "diff"
   ]
  },
  {
   "cell_type": "markdown",
   "id": "3931ddd8",
   "metadata": {},
   "source": [
    "Adjust the `periods` argument to shift more than one period for calculating the difference."
   ]
  },
  {
   "cell_type": "code",
   "execution_count": null,
   "id": "96ea3ced",
   "metadata": {},
   "outputs": [],
   "source": [
    "diff2 = df.diff(periods=2)\n",
    "diff2"
   ]
  },
  {
   "cell_type": "markdown",
   "id": "389a7f0a",
   "metadata": {},
   "source": [
    "### DataFrame.diff and DataFrame.shift: Take the Difference Between Rows Within a Column in pandas"
   ]
  },
  {
   "cell_type": "markdown",
   "id": "66d9955f",
   "metadata": {},
   "source": [
    "If you want to get the difference between rows within a column, use `DataFrame.diff()`."
   ]
  },
  {
   "cell_type": "code",
   "execution_count": null,
   "id": "3be6b006",
   "metadata": {},
   "outputs": [],
   "source": [
    "import pandas as pd \n",
    "\n",
    "df = pd.DataFrame({\"a\": [1, 2, 3, 4], \"b\": [2, 3, 4, 6]})\n",
    "diff = df.diff()\n",
    "diff"
   ]
  },
  {
   "cell_type": "markdown",
   "id": "028f4f09",
   "metadata": {},
   "source": [
    "This will leave the first index null. You can shift the rows up to match the first difference with the first index using `DataFrame.shift(-1)`."
   ]
  },
  {
   "cell_type": "code",
   "execution_count": null,
   "id": "6a5070e0",
   "metadata": {},
   "outputs": [],
   "source": [
    "shift = diff.shift(-1)\n",
    "shift"
   ]
  },
  {
   "cell_type": "code",
   "execution_count": null,
   "id": "e642e7be",
   "metadata": {},
   "outputs": [],
   "source": [
    "processed_df = shift.dropna()\n",
    "processed_df"
   ]
  },
  {
   "cell_type": "markdown",
   "id": "75f1979e",
   "metadata": {},
   "source": [
    "### Turn a pandas Series into a NumPy Array"
   ]
  },
  {
   "cell_type": "markdown",
   "id": "f1934217",
   "metadata": {},
   "source": [
    "If you want to turn a pandas Series into a NumPy array, use Series.values."
   ]
  },
  {
   "cell_type": "code",
   "execution_count": null,
   "id": "c7288ea4",
   "metadata": {},
   "outputs": [],
   "source": [
    "import pandas as pd\n",
    "\n",
    "s = pd.Series([\"apple\", \"orange\", \"grape\"])\n",
    "s.values"
   ]
  },
  {
   "cell_type": "markdown",
   "id": "c6a33334",
   "metadata": {},
   "source": [
    "### df.to_dict: Turn a DataFrame into a Dictionary"
   ]
  },
  {
   "cell_type": "markdown",
   "id": "69d1395d",
   "metadata": {},
   "source": [
    "To turn a DataFrame into a Python dictionary, use `df.to_dict()`."
   ]
  },
  {
   "cell_type": "code",
   "execution_count": null,
   "id": "f67a6dc8",
   "metadata": {},
   "outputs": [],
   "source": [
    "import pandas as pd\n",
    "\n",
    "df = pd.DataFrame({\"fruits\": [\"apple\", \"orange\", \"grape\"], \"price\": [1, 2, 3]})\n",
    "print(df)"
   ]
  },
  {
   "cell_type": "markdown",
   "id": "a4610c3d",
   "metadata": {},
   "source": [
    "This will return a dictionary whose keys are columns and values are rows."
   ]
  },
  {
   "cell_type": "code",
   "execution_count": null,
   "id": "dbc67ad9",
   "metadata": {},
   "outputs": [],
   "source": [
    "df.to_dict()"
   ]
  },
  {
   "cell_type": "markdown",
   "id": "971f91af",
   "metadata": {},
   "source": [
    "However, if you prefer to get a list of dictionaries whose elements are rows, use `df.to_dict(orient='records')` instead."
   ]
  },
  {
   "cell_type": "code",
   "execution_count": null,
   "id": "cb01ebdb",
   "metadata": {},
   "outputs": [],
   "source": [
    "df.to_dict(orient=\"records\")"
   ]
  },
  {
   "cell_type": "markdown",
   "id": "f352dff2",
   "metadata": {},
   "source": [
    "### Get Count and Percentage of a Value in a Column"
   ]
  },
  {
   "cell_type": "markdown",
   "id": "a6ec05cc",
   "metadata": {},
   "source": [
    "If you want to get the count of each value in a column, use `value_counts`."
   ]
  },
  {
   "cell_type": "code",
   "execution_count": null,
   "id": "c43df47b",
   "metadata": {},
   "outputs": [],
   "source": [
    "import pandas as pd \n",
    "\n",
    "size = pd.Series(['S', 'S', 'M', 'L', 'M', 'M'])"
   ]
  },
  {
   "cell_type": "code",
   "execution_count": null,
   "id": "5257759c",
   "metadata": {},
   "outputs": [],
   "source": [
    "size.value_counts()"
   ]
  },
  {
   "cell_type": "markdown",
   "id": "257c9dc4",
   "metadata": {},
   "source": [
    "However, If you want to get the percentage of each value in a column, use `value_counts(normalize=True)`."
   ]
  },
  {
   "cell_type": "code",
   "execution_count": null,
   "id": "4af0119e",
   "metadata": {},
   "outputs": [],
   "source": [
    "size.value_counts(normalize=True)"
   ]
  },
  {
   "cell_type": "markdown",
   "id": "b10a9572",
   "metadata": {},
   "source": [
    "### pandas.DataFrame.corrwith: Compute Pairwise Correlation Between 2 DataFrame"
   ]
  },
  {
   "cell_type": "markdown",
   "id": "ad3fad84",
   "metadata": {},
   "source": [
    "If you want to compute correlation between rows or columns of two DataFrame, use `corrwith`."
   ]
  },
  {
   "cell_type": "code",
   "execution_count": null,
   "id": "c4f1ef6b",
   "metadata": {},
   "outputs": [],
   "source": [
    "import pandas as pd \n",
    "\n",
    "df1 = pd.DataFrame({\"a\": [1, 2, 3, 4], \"b\": [2, 3, 4, 6]})\n",
    "df2 = pd.DataFrame({\"a\": [1, 2, 3, 3], \"b\": [2, 2, 4, 4]})\n",
    "\n",
    "df1.corrwith(df2)"
   ]
  },
  {
   "cell_type": "markdown",
   "id": "e71868d7",
   "metadata": {},
   "source": [
    "### pandas.cut: Bin a DataFrame’s values into Discrete Intervals"
   ]
  },
  {
   "cell_type": "markdown",
   "id": "272733e1",
   "metadata": {},
   "source": [
    "If you want to bin your Dataframe’s values into discrete intervals, use `pandas.cut`."
   ]
  },
  {
   "cell_type": "code",
   "execution_count": null,
   "id": "90458d71",
   "metadata": {},
   "outputs": [],
   "source": [
    "import pandas as pd \n",
    "\n",
    "df = pd.DataFrame({\"a\": [1, 3, 7, 11, 14, 17]})\n",
    "\n",
    "bins = [0, 5, 10, 15, 20]\n",
    "df[\"binned\"] = pd.cut(df[\"a\"], bins=bins)\n",
    "\n",
    "print(df)"
   ]
  },
  {
   "cell_type": "markdown",
   "id": "b546d9e1",
   "metadata": {},
   "source": [
    "### pandas.qcut: Bin a DataFrame's Values into Equal-Sized Intervals"
   ]
  },
  {
   "cell_type": "markdown",
   "id": "d8847da7",
   "metadata": {},
   "source": [
    "If you want to bin a column's values into intervals that contain roughly the same number of elements, use `pandas.qcut`. \n",
    "\n",
    "In the example below, the values of `a` are separated into 3 intervals, each of which contains 2 elements."
   ]
  },
  {
   "cell_type": "code",
   "execution_count": null,
   "id": "1cec63c4",
   "metadata": {},
   "outputs": [],
   "source": [
    "import pandas as pd \n",
    "\n",
    "df = pd.DataFrame({\"a\": [1, 3, 7, 11, 14, 17]})\n",
    "\n",
    "df[\"binned\"] = pd.qcut(df[\"a\"], q=3)\n",
    "\n",
    "df"
   ]
  },
  {
   "cell_type": "code",
   "execution_count": null,
   "id": "2880d36b",
   "metadata": {},
   "outputs": [],
   "source": [
    "df.binned.value_counts()"
   ]
  },
  {
   "cell_type": "markdown",
   "id": "0864ed58",
   "metadata": {},
   "source": [
    "### DataFrame.cumsum: Get Cumulative Sum Over Each Column"
   ]
  },
  {
   "cell_type": "markdown",
   "id": "6ef56c37",
   "metadata": {},
   "source": [
    "If you want to get a cumulative sum over each column in a DataFrame,  use `cumsum`."
   ]
  },
  {
   "cell_type": "code",
   "execution_count": null,
   "id": "95c5cd58",
   "metadata": {},
   "outputs": [],
   "source": [
    "import pandas as pd \n",
    "\n",
    "df = pd.DataFrame({\"a\": [1, 2, 3], \"b\": [4, 5, 6]})\n",
    "df  "
   ]
  },
  {
   "cell_type": "code",
   "execution_count": null,
   "id": "ec92f44f",
   "metadata": {},
   "outputs": [],
   "source": [
    "df.cumsum()"
   ]
  },
  {
   "cell_type": "markdown",
   "id": "b74c68cf",
   "metadata": {},
   "source": [
    "### pandas.DataFrame.cummax: Get the Cumulative Maximum"
   ]
  },
  {
   "cell_type": "markdown",
   "id": "e2a3b84e",
   "metadata": {},
   "source": [
    "The cumulative maximum is the maximum of the numbers starting from 0 to the current index. If you want to get the cumulative maximum of a pandas DataFrame/Series, use cummax. \n",
    "\n",
    "In the index `1` of the series below, since 4 > 2, the cumulative max at the index `1` is 4."
   ]
  },
  {
   "cell_type": "code",
   "execution_count": null,
   "id": "fe73e756",
   "metadata": {},
   "outputs": [],
   "source": [
    "import pandas as pd  \n",
    "\n",
    "nums = pd.Series([4, 2, 5, 1, 6])\n",
    "nums.cummax()"
   ]
  },
  {
   "cell_type": "markdown",
   "id": "077ae164",
   "metadata": {},
   "source": [
    "### Get the Sum of All Columns in a pandas DataFrame"
   ]
  },
  {
   "cell_type": "markdown",
   "id": "5d568f29",
   "metadata": {},
   "source": [
    "If you want to take the sum of all columns, use `sum(axis=1)`."
   ]
  },
  {
   "cell_type": "code",
   "execution_count": null,
   "id": "e44fca1d",
   "metadata": {},
   "outputs": [],
   "source": [
    "import pandas as pd\n",
    "\n",
    "df = pd.DataFrame({\"a\": [1, 2, 3], \"b\": [4, 5, 6]})\n",
    "df"
   ]
  },
  {
   "cell_type": "code",
   "execution_count": null,
   "id": "024a5a74",
   "metadata": {},
   "outputs": [],
   "source": [
    "df.sum(axis=1) "
   ]
  },
  {
   "cell_type": "markdown",
   "id": "ebfd9b64",
   "metadata": {},
   "source": [
    "If you want to take the sum of all rows, use `sum(axis=0)`."
   ]
  },
  {
   "cell_type": "code",
   "execution_count": null,
   "id": "27ff345c",
   "metadata": {},
   "outputs": [],
   "source": [
    "df.sum(axis=0)"
   ]
  }
 ],
 "metadata": {
  "jupytext": {
   "text_representation": {
    "extension": ".md",
    "format_name": "myst",
    "format_version": 0.13,
    "jupytext_version": "1.16.7"
   }
  },
  "kernelspec": {
   "display_name": "Python 3.8.9 ('venv': venv)",
   "language": "python",
   "name": "python3"
  },
  "source_map": [
   12,
   16,
   20,
   24,
   28,
   34,
   41,
   46,
   49,
   53,
   59,
   65,
   69,
   75,
   82,
   84,
   88,
   92,
   99,
   102,
   106,
   109,
   113,
   117,
   123,
   127,
   132,
   135,
   139,
   143,
   148,
   152,
   156,
   161,
   165,
   167,
   171,
   173,
   177,
   181,
   187,
   189,
   193,
   195,
   199,
   203,
   210,
   214,
   218,
   227,
   231,
   237,
   247,
   249,
   253,
   257,
   264,
   266,
   270,
   276,
   281,
   285,
   289,
   296,
   298,
   302
  ]
 },
 "nbformat": 4,
 "nbformat_minor": 5
}