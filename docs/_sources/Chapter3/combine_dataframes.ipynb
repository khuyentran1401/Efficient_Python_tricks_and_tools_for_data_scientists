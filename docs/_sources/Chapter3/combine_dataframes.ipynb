{
 "cells": [
  {
   "cell_type": "markdown",
   "id": "4470f884",
   "metadata": {},
   "source": [
    "## Combine Multiple DataFrames"
   ]
  },
  {
   "cell_type": "markdown",
   "id": "54db95c2",
   "metadata": {},
   "source": [
    "### pandas.DataFrame.combine_first: Update Null Elements Using Another DataFrame"
   ]
  },
  {
   "cell_type": "markdown",
   "id": "6307fb1e",
   "metadata": {},
   "source": [
    "If you want to fill null values in one DataFrame with non-null values at the same locations from another DataFrame, use `pandas.DataFrame.combine_first`."
   ]
  },
  {
   "cell_type": "code",
   "execution_count": null,
   "id": "e0e31a33",
   "metadata": {},
   "outputs": [],
   "source": [
    "import pandas as pd\n",
    "\n",
    "store1 = pd.DataFrame({\"orange\": [None, 5], \"apple\": [None, 1]})\n",
    "store2 = pd.DataFrame({\"orange\": [1, 3], \"apple\": [4, 2]})"
   ]
  },
  {
   "cell_type": "code",
   "execution_count": null,
   "id": "fa32e79c",
   "metadata": {},
   "outputs": [],
   "source": [
    "print(store1)"
   ]
  },
  {
   "cell_type": "code",
   "execution_count": null,
   "id": "9437a337",
   "metadata": {},
   "outputs": [],
   "source": [
    "print(store2)"
   ]
  },
  {
   "cell_type": "markdown",
   "id": "e62ec2ea",
   "metadata": {},
   "source": [
    "In the code below, the values at the first row of `store1` are updated with the values at the first row of `store2`."
   ]
  },
  {
   "cell_type": "code",
   "execution_count": null,
   "id": "e2c37b84",
   "metadata": {},
   "outputs": [],
   "source": [
    "print(store1.combine_first(store2))"
   ]
  },
  {
   "cell_type": "markdown",
   "id": "47afd608",
   "metadata": {},
   "source": [
    "### df.merge: Merge DataFrame Based on Columns"
   ]
  },
  {
   "cell_type": "markdown",
   "id": "310123af",
   "metadata": {},
   "source": [
    "If you want to merge on DataFrame with another DataFrame based on the similarity between 2 columns, use `df.merge`."
   ]
  },
  {
   "cell_type": "markdown",
   "id": "c87282d1",
   "metadata": {},
   "source": [
    "If you want to merge on DataFrame with another DataFrame based on the similarity between 2 columns, use `df.merge`."
   ]
  },
  {
   "cell_type": "markdown",
   "id": "202c9eec",
   "metadata": {},
   "source": [
    "If you want to merge on DataFrame with another DataFrame based on the similarity between 2 columns, use `df.merge`."
   ]
  },
  {
   "cell_type": "code",
   "execution_count": null,
   "id": "4864ae56",
   "metadata": {},
   "outputs": [],
   "source": [
    "import pandas as pd\n",
    "\n",
    "df1 = pd.DataFrame({\"key1\": [\"a\", \"a\", \"b\", \"b\", \"a\"], \"value\": [1, 2, 3, 4, 5]})\n",
    "df2 = pd.DataFrame({\"key2\": [\"a\", \"b\", \"c\"], \"value\": [6, 7, 8]})\n",
    "\n",
    "df1 "
   ]
  },
  {
   "cell_type": "code",
   "execution_count": null,
   "id": "2e59e6c6",
   "metadata": {},
   "outputs": [],
   "source": [
    "df2 "
   ]
  },
  {
   "cell_type": "code",
   "execution_count": null,
   "id": "04b1998f",
   "metadata": {},
   "outputs": [],
   "source": [
    "df1.merge(df2, left_on=\"key1\", right_on=\"key2\")"
   ]
  },
  {
   "cell_type": "markdown",
   "id": "307e3a6b",
   "metadata": {},
   "source": [
    "### Enhancing Readability in DataFrame Merging With Custom Suffixes"
   ]
  },
  {
   "cell_type": "markdown",
   "id": "92044637",
   "metadata": {},
   "source": [
    "When merging two DataFrames with overlapping columns, the default behavior is to add suffixes \"_x\" and \"_y\" to the column names."
   ]
  },
  {
   "cell_type": "code",
   "execution_count": null,
   "id": "66d59046",
   "metadata": {},
   "outputs": [],
   "source": [
    "import pandas as pd\n",
    "\n",
    "df1 = pd.DataFrame({\"id\": [1, 2, 3], \"val\": [\"A\", \"B\", \"C\"]})\n",
    "df2 = pd.DataFrame({\"id\": [2, 3, 4], \"val\": [\"X\", \"Y\", \"Z\"]})\n",
    "\n",
    "merged_df = pd.merge(df1, df2, on=\"id\")\n",
    "\n",
    "print(merged_df)"
   ]
  },
  {
   "cell_type": "markdown",
   "id": "f46e3320",
   "metadata": {},
   "source": [
    "To improve readability, you can specify custom suffixes."
   ]
  },
  {
   "cell_type": "code",
   "execution_count": null,
   "id": "a04fbd1a",
   "metadata": {},
   "outputs": [],
   "source": [
    "merged_df = pd.merge(df1, df2, on=\"id\", suffixes=(\"_df1\", \"_df2\"))\n",
    "print(merged_df)"
   ]
  },
  {
   "cell_type": "markdown",
   "id": "3e4d6b7b",
   "metadata": {},
   "source": [
    "### Include All Rows When Merging Two DataFrames"
   ]
  },
  {
   "cell_type": "markdown",
   "id": "49bab1f5",
   "metadata": {},
   "source": [
    "`df.merge` only includes rows with matching values in both DataFrames. If you want to include all rows from both DataFrames, use `how='outer'`."
   ]
  },
  {
   "cell_type": "code",
   "execution_count": null,
   "id": "eeffd76d",
   "metadata": {},
   "outputs": [],
   "source": [
    "import pandas as pd\n",
    "\n",
    "df1 = pd.DataFrame({'key': ['A', 'B'], 'v1': [1, 2]})\n",
    "df2 = pd.DataFrame({'key': ['B', 'C'], 'v2': [3, 4]})\n",
    "\n",
    "# Keep only rows with matching keys\n",
    "pd.merge(df1, df2, on='key')"
   ]
  },
  {
   "cell_type": "code",
   "execution_count": null,
   "id": "df46ae51",
   "metadata": {},
   "outputs": [],
   "source": [
    "# Keep all rows\n",
    "pd.merge(df1, df2, on='key', how='outer')"
   ]
  },
  {
   "cell_type": "markdown",
   "id": "e15e3ba3",
   "metadata": {},
   "source": [
    "### DataFrame.insert: Insert a Column Into a DataFrame at a Specified Location"
   ]
  },
  {
   "cell_type": "markdown",
   "id": "15298837",
   "metadata": {},
   "source": [
    "If you want to insert a column into a DataFrame at a specified location, use `df.insert`. In the code below, I insert column c at location 0."
   ]
  },
  {
   "cell_type": "code",
   "execution_count": null,
   "id": "06edf033",
   "metadata": {},
   "outputs": [],
   "source": [
    "import pandas as pd \n",
    "\n",
    "df = pd.DataFrame({'a': [1, 2], 'b': [3, 4]})\n",
    "df.insert(loc=0, column='c', value=[5, 6])"
   ]
  },
  {
   "cell_type": "code",
   "execution_count": null,
   "id": "28fd2fed",
   "metadata": {},
   "outputs": [],
   "source": [
    "df "
   ]
  }
 ],
 "metadata": {
  "jupytext": {
   "text_representation": {
    "extension": ".md",
    "format_name": "myst",
    "format_version": 0.13,
    "jupytext_version": "1.16.7"
   }
  },
  "kernelspec": {
   "display_name": "Python 3.8.9 ('venv': venv)",
   "language": "python",
   "name": "python3"
  },
  "source_map": [
   12,
   16,
   20,
   24,
   31,
   35,
   37,
   41,
   43,
   47,
   51,
   55,
   59,
   68,
   72,
   74,
   78,
   82,
   91,
   95,
   98,
   102,
   106,
   116,
   119,
   123,
   127,
   134
  ]
 },
 "nbformat": 4,
 "nbformat_minor": 5
}