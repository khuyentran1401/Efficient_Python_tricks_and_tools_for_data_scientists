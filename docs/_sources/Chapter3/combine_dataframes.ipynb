{
 "cells": [
  {
   "cell_type": "markdown",
   "id": "3363c4e3",
   "metadata": {},
   "source": [
    "## Combine Multiple DataFrames"
   ]
  },
  {
   "cell_type": "markdown",
   "id": "f01d9dcd",
   "metadata": {},
   "source": [
    "### pandas.DataFrame.combine_first: Update Null Elements Using Another DataFrame"
   ]
  },
  {
   "cell_type": "markdown",
   "id": "e658d386",
   "metadata": {},
   "source": [
    "If you want to fill null values in one DataFrame with non-null values at the same locations from another DataFrame, use `pandas.DataFrame.combine_first`."
   ]
  },
  {
   "cell_type": "code",
   "execution_count": null,
   "id": "1ccc1e26",
   "metadata": {},
   "outputs": [],
   "source": [
    "import pandas as pd\n",
    "\n",
    "store1 = pd.DataFrame({\"orange\": [None, 5], \"apple\": [None, 1]})\n",
    "store2 = pd.DataFrame({\"orange\": [1, 3], \"apple\": [4, 2]})"
   ]
  },
  {
   "cell_type": "code",
   "execution_count": null,
   "id": "6aab51c3",
   "metadata": {},
   "outputs": [],
   "source": [
    "print(store1)"
   ]
  },
  {
   "cell_type": "code",
   "execution_count": null,
   "id": "324de141",
   "metadata": {},
   "outputs": [],
   "source": [
    "print(store2)"
   ]
  },
  {
   "cell_type": "markdown",
   "id": "e7065e61",
   "metadata": {},
   "source": [
    "In the code below, the values at the first row of `store1` are updated with the values at the first row of `store2`."
   ]
  },
  {
   "cell_type": "code",
   "execution_count": null,
   "id": "76a0b02f",
   "metadata": {},
   "outputs": [],
   "source": [
    "print(store1.combine_first(store2))"
   ]
  },
  {
   "cell_type": "markdown",
   "id": "f727f6a4",
   "metadata": {},
   "source": [
    "### df.merge: Merge DataFrame Based on Columns"
   ]
  },
  {
   "cell_type": "markdown",
   "id": "727b9f72",
   "metadata": {},
   "source": [
    "If you want to merge on DataFrame with another DataFrame based on the similarity between 2 columns, use `df.merge`."
   ]
  },
  {
   "cell_type": "markdown",
   "id": "0d2c044b",
   "metadata": {},
   "source": [
    "If you want to merge on DataFrame with another DataFrame based on the similarity between 2 columns, use `df.merge`."
   ]
  },
  {
   "cell_type": "markdown",
   "id": "3ed58ed2",
   "metadata": {},
   "source": [
    "If you want to merge on DataFrame with another DataFrame based on the similarity between 2 columns, use `df.merge`."
   ]
  },
  {
   "cell_type": "code",
   "execution_count": null,
   "id": "abb130e3",
   "metadata": {},
   "outputs": [],
   "source": [
    "import pandas as pd\n",
    "\n",
    "df1 = pd.DataFrame({\"key1\": [\"a\", \"a\", \"b\", \"b\", \"a\"], \"value\": [1, 2, 3, 4, 5]})\n",
    "df2 = pd.DataFrame({\"key2\": [\"a\", \"b\", \"c\"], \"value\": [6, 7, 8]})\n",
    "\n",
    "df1 "
   ]
  },
  {
   "cell_type": "code",
   "execution_count": null,
   "id": "979fccd3",
   "metadata": {},
   "outputs": [],
   "source": [
    "df2 "
   ]
  },
  {
   "cell_type": "code",
   "execution_count": null,
   "id": "9b6d9c54",
   "metadata": {},
   "outputs": [],
   "source": [
    "df1.merge(df2, left_on=\"key1\", right_on=\"key2\")"
   ]
  },
  {
   "cell_type": "markdown",
   "id": "4fe18519",
   "metadata": {},
   "source": [
    "### Enhancing Readability in DataFrame Merging With Custom Suffixes"
   ]
  },
  {
   "cell_type": "markdown",
   "id": "ef27685f",
   "metadata": {},
   "source": [
    "When merging two DataFrames with overlapping columns, the default behavior is to add suffixes \"_x\" and \"_y\" to the column names."
   ]
  },
  {
   "cell_type": "code",
   "execution_count": null,
   "id": "0c8fb790",
   "metadata": {},
   "outputs": [],
   "source": [
    "import pandas as pd\n",
    "\n",
    "df1 = pd.DataFrame({\"id\": [1, 2, 3], \"val\": [\"A\", \"B\", \"C\"]})\n",
    "df2 = pd.DataFrame({\"id\": [2, 3, 4], \"val\": [\"X\", \"Y\", \"Z\"]})\n",
    "\n",
    "merged_df = pd.merge(df1, df2, on=\"id\")\n",
    "\n",
    "print(merged_df)"
   ]
  },
  {
   "cell_type": "markdown",
   "id": "44064272",
   "metadata": {},
   "source": [
    "To improve readability, you can specify custom suffixes."
   ]
  },
  {
   "cell_type": "code",
   "execution_count": null,
   "id": "2fd978c5",
   "metadata": {},
   "outputs": [],
   "source": [
    "merged_df = pd.merge(df1, df2, on=\"id\", suffixes=(\"_df1\", \"_df2\"))\n",
    "print(merged_df)"
   ]
  },
  {
   "cell_type": "markdown",
   "id": "ad50b3bf",
   "metadata": {},
   "source": [
    "### Include All Rows When Merging Two DataFrames"
   ]
  },
  {
   "cell_type": "markdown",
   "id": "71400a1c",
   "metadata": {},
   "source": [
    "`df.merge` only includes rows with matching values in both DataFrames. If you want to include all rows from both DataFrames, use `how='outer'`."
   ]
  },
  {
   "cell_type": "code",
   "execution_count": null,
   "id": "a0ee79f4",
   "metadata": {},
   "outputs": [],
   "source": [
    "import pandas as pd\n",
    "\n",
    "df1 = pd.DataFrame({'key': ['A', 'B'], 'v1': [1, 2]})\n",
    "df2 = pd.DataFrame({'key': ['B', 'C'], 'v2': [3, 4]})\n",
    "\n",
    "# Keep only rows with matching keys\n",
    "pd.merge(df1, df2, on='key')"
   ]
  },
  {
   "cell_type": "code",
   "execution_count": null,
   "id": "95074860",
   "metadata": {},
   "outputs": [],
   "source": [
    "# Keep all rows\n",
    "pd.merge(df1, df2, on='key', how='outer')"
   ]
  },
  {
   "cell_type": "markdown",
   "id": "da8cb467",
   "metadata": {},
   "source": [
    "### DataFrame.insert: Insert a Column Into a DataFrame at a Specified Location"
   ]
  },
  {
   "cell_type": "markdown",
   "id": "94419aed",
   "metadata": {},
   "source": [
    "If you want to insert a column into a DataFrame at a specified location, use `df.insert`. In the code below, I insert column c at location 0."
   ]
  },
  {
   "cell_type": "code",
   "execution_count": null,
   "id": "a7914cae",
   "metadata": {},
   "outputs": [],
   "source": [
    "import pandas as pd \n",
    "\n",
    "df = pd.DataFrame({'a': [1, 2], 'b': [3, 4]})\n",
    "df.insert(loc=0, column='c', value=[5, 6])"
   ]
  },
  {
   "cell_type": "code",
   "execution_count": null,
   "id": "e0d04c69",
   "metadata": {},
   "outputs": [],
   "source": [
    "df "
   ]
  }
 ],
 "metadata": {
  "jupytext": {
   "text_representation": {
    "extension": ".md",
    "format_name": "myst",
    "format_version": 0.13,
    "jupytext_version": "1.16.7"
   }
  },
  "kernelspec": {
   "display_name": "Python 3.8.9 ('venv': venv)",
   "language": "python",
   "name": "python3"
  },
  "source_map": [
   12,
   16,
   20,
   24,
   31,
   35,
   37,
   41,
   43,
   47,
   51,
   55,
   59,
   68,
   72,
   74,
   78,
   82,
   91,
   95,
   98,
   102,
   106,
   116,
   119,
   123,
   127,
   134
  ]
 },
 "nbformat": 4,
 "nbformat_minor": 5
}