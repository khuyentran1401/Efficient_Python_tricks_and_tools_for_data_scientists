{
 "cells": [
  {
   "cell_type": "markdown",
   "id": "59abda46",
   "metadata": {},
   "source": [
    "## Combine Multiple DataFrames"
   ]
  },
  {
   "cell_type": "markdown",
   "id": "b7ebe672",
   "metadata": {},
   "source": [
    "### pandas.DataFrame.combine_first: Update Null Elements Using Another DataFrame"
   ]
  },
  {
   "cell_type": "markdown",
   "id": "85ee5f1b",
   "metadata": {},
   "source": [
    "If you want to fill null values in one DataFrame with non-null values at the same locations from another DataFrame, use `pandas.DataFrame.combine_first`."
   ]
  },
  {
   "cell_type": "code",
   "execution_count": null,
   "id": "89808cc5",
   "metadata": {},
   "outputs": [],
   "source": [
    "import pandas as pd\n",
    "\n",
    "store1 = pd.DataFrame({\"orange\": [None, 5], \"apple\": [None, 1]})\n",
    "store2 = pd.DataFrame({\"orange\": [1, 3], \"apple\": [4, 2]})"
   ]
  },
  {
   "cell_type": "code",
   "execution_count": null,
   "id": "0d86597b",
   "metadata": {},
   "outputs": [],
   "source": [
    "print(store1)"
   ]
  },
  {
   "cell_type": "code",
   "execution_count": null,
   "id": "37f549fd",
   "metadata": {},
   "outputs": [],
   "source": [
    "print(store2)"
   ]
  },
  {
   "cell_type": "markdown",
   "id": "5c9c7828",
   "metadata": {},
   "source": [
    "In the code below, the values at the first row of `store1` are updated with the values at the first row of `store2`."
   ]
  },
  {
   "cell_type": "code",
   "execution_count": null,
   "id": "c69f53d2",
   "metadata": {},
   "outputs": [],
   "source": [
    "print(store1.combine_first(store2))"
   ]
  },
  {
   "cell_type": "markdown",
   "id": "d7409566",
   "metadata": {},
   "source": [
    "### df.merge: Merge DataFrame Based on Columns"
   ]
  },
  {
   "cell_type": "markdown",
   "id": "9e6a6397",
   "metadata": {},
   "source": [
    "If you want to merge on DataFrame with another DataFrame based on the similarity between 2 columns, use `df.merge`."
   ]
  },
  {
   "cell_type": "markdown",
   "id": "52400360",
   "metadata": {},
   "source": [
    "If you want to merge on DataFrame with another DataFrame based on the similarity between 2 columns, use `df.merge`."
   ]
  },
  {
   "cell_type": "markdown",
   "id": "75d85197",
   "metadata": {},
   "source": [
    "If you want to merge on DataFrame with another DataFrame based on the similarity between 2 columns, use `df.merge`."
   ]
  },
  {
   "cell_type": "code",
   "execution_count": null,
   "id": "3665c674",
   "metadata": {},
   "outputs": [],
   "source": [
    "import pandas as pd\n",
    "\n",
    "df1 = pd.DataFrame({\"key1\": [\"a\", \"a\", \"b\", \"b\", \"a\"], \"value\": [1, 2, 3, 4, 5]})\n",
    "df2 = pd.DataFrame({\"key2\": [\"a\", \"b\", \"c\"], \"value\": [6, 7, 8]})\n",
    "\n",
    "df1 "
   ]
  },
  {
   "cell_type": "code",
   "execution_count": null,
   "id": "dc3d6a3b",
   "metadata": {},
   "outputs": [],
   "source": [
    "df2 "
   ]
  },
  {
   "cell_type": "code",
   "execution_count": null,
   "id": "c5d9271c",
   "metadata": {},
   "outputs": [],
   "source": [
    "df1.merge(df2, left_on=\"key1\", right_on=\"key2\")"
   ]
  },
  {
   "cell_type": "markdown",
   "id": "fdd4d82a",
   "metadata": {},
   "source": [
    "### Enhancing Readability in DataFrame Merging With Custom Suffixes"
   ]
  },
  {
   "cell_type": "markdown",
   "id": "67f1bbaa",
   "metadata": {},
   "source": [
    "When merging two DataFrames with overlapping columns, the default behavior is to add suffixes \"_x\" and \"_y\" to the column names."
   ]
  },
  {
   "cell_type": "code",
   "execution_count": null,
   "id": "a95f496f",
   "metadata": {},
   "outputs": [],
   "source": [
    "import pandas as pd\n",
    "\n",
    "df1 = pd.DataFrame({\"id\": [1, 2, 3], \"val\": [\"A\", \"B\", \"C\"]})\n",
    "df2 = pd.DataFrame({\"id\": [2, 3, 4], \"val\": [\"X\", \"Y\", \"Z\"]})\n",
    "\n",
    "merged_df = pd.merge(df1, df2, on=\"id\")\n",
    "\n",
    "print(merged_df)"
   ]
  },
  {
   "cell_type": "markdown",
   "id": "e2a67e39",
   "metadata": {},
   "source": [
    "To improve readability, you can specify custom suffixes."
   ]
  },
  {
   "cell_type": "code",
   "execution_count": null,
   "id": "1cebeebb",
   "metadata": {},
   "outputs": [],
   "source": [
    "merged_df = pd.merge(df1, df2, on=\"id\", suffixes=(\"_df1\", \"_df2\"))\n",
    "print(merged_df)"
   ]
  },
  {
   "cell_type": "markdown",
   "id": "1f181759",
   "metadata": {},
   "source": [
    "### Include All Rows When Merging Two DataFrames"
   ]
  },
  {
   "cell_type": "markdown",
   "id": "3f0a7436",
   "metadata": {},
   "source": [
    "`df.merge` only includes rows with matching values in both DataFrames. If you want to include all rows from both DataFrames, use `how='outer'`."
   ]
  },
  {
   "cell_type": "code",
   "execution_count": null,
   "id": "93a3a07b",
   "metadata": {},
   "outputs": [],
   "source": [
    "import pandas as pd\n",
    "\n",
    "df1 = pd.DataFrame({'key': ['A', 'B'], 'v1': [1, 2]})\n",
    "df2 = pd.DataFrame({'key': ['B', 'C'], 'v2': [3, 4]})\n",
    "\n",
    "# Keep only rows with matching keys\n",
    "pd.merge(df1, df2, on='key')"
   ]
  },
  {
   "cell_type": "code",
   "execution_count": null,
   "id": "7723e5f0",
   "metadata": {},
   "outputs": [],
   "source": [
    "# Keep all rows\n",
    "pd.merge(df1, df2, on='key', how='outer')"
   ]
  },
  {
   "cell_type": "markdown",
   "id": "eea79e28",
   "metadata": {},
   "source": [
    "### DataFrame.insert: Insert a Column Into a DataFrame at a Specified Location"
   ]
  },
  {
   "cell_type": "markdown",
   "id": "19df4cde",
   "metadata": {},
   "source": [
    "If you want to insert a column into a DataFrame at a specified location, use `df.insert`. In the code below, I insert column c at location 0."
   ]
  },
  {
   "cell_type": "code",
   "execution_count": null,
   "id": "c8d0250e",
   "metadata": {},
   "outputs": [],
   "source": [
    "import pandas as pd \n",
    "\n",
    "df = pd.DataFrame({'a': [1, 2], 'b': [3, 4]})\n",
    "df.insert(loc=0, column='c', value=[5, 6])"
   ]
  },
  {
   "cell_type": "code",
   "execution_count": null,
   "id": "260e8bbf",
   "metadata": {},
   "outputs": [],
   "source": [
    "df "
   ]
  }
 ],
 "metadata": {
  "jupytext": {
   "text_representation": {
    "extension": ".md",
    "format_name": "myst",
    "format_version": 0.13,
    "jupytext_version": "1.16.7"
   }
  },
  "kernelspec": {
   "display_name": "Python 3.8.9 ('venv': venv)",
   "language": "python",
   "name": "python3"
  },
  "source_map": [
   12,
   16,
   20,
   24,
   31,
   35,
   37,
   41,
   43,
   47,
   51,
   55,
   59,
   68,
   72,
   74,
   78,
   82,
   91,
   95,
   98,
   102,
   106,
   116,
   119,
   123,
   127,
   134
  ]
 },
 "nbformat": 4,
 "nbformat_minor": 5
}