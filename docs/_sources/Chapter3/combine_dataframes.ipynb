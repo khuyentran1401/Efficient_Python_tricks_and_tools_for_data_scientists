{
 "cells": [
  {
   "cell_type": "markdown",
   "id": "bb05b29b",
   "metadata": {},
   "source": [
    "## Combine Multiple DataFrames"
   ]
  },
  {
   "cell_type": "markdown",
   "id": "3cc5ef40",
   "metadata": {},
   "source": [
    "### pandas.DataFrame.combine_first: Update Null Elements Using Another DataFrame"
   ]
  },
  {
   "cell_type": "markdown",
   "id": "2739587b",
   "metadata": {},
   "source": [
    "If you want to fill null values in one DataFrame with non-null values at the same locations from another DataFrame, use `pandas.DataFrame.combine_first`."
   ]
  },
  {
   "cell_type": "code",
   "execution_count": 4,
   "id": "0de1fb3c",
   "metadata": {
    "ExecuteTime": {
     "end_time": "2021-11-09T16:26:42.100639Z",
     "start_time": "2021-11-09T16:26:42.073618Z"
    }
   },
   "outputs": [
    {
     "data": {
      "application/javascript": [
       "\n",
       "            setTimeout(function() {\n",
       "                var nbb_cell_id = 4;\n",
       "                var nbb_unformatted_code = \"import pandas as pd \\n\\nstore1 = pd.DataFrame({'orange': [None, 5], 'apple': [None, 1]})\\nstore2 = pd.DataFrame({'orange': [1, 3], 'apple': [4, 2]})\";\n",
       "                var nbb_formatted_code = \"import pandas as pd\\n\\nstore1 = pd.DataFrame({\\\"orange\\\": [None, 5], \\\"apple\\\": [None, 1]})\\nstore2 = pd.DataFrame({\\\"orange\\\": [1, 3], \\\"apple\\\": [4, 2]})\";\n",
       "                var nbb_cells = Jupyter.notebook.get_cells();\n",
       "                for (var i = 0; i < nbb_cells.length; ++i) {\n",
       "                    if (nbb_cells[i].input_prompt_number == nbb_cell_id) {\n",
       "                        if (nbb_cells[i].get_text() == nbb_unformatted_code) {\n",
       "                             nbb_cells[i].set_text(nbb_formatted_code);\n",
       "                        }\n",
       "                        break;\n",
       "                    }\n",
       "                }\n",
       "            }, 500);\n",
       "            "
      ],
      "text/plain": [
       "<IPython.core.display.Javascript object>"
      ]
     },
     "metadata": {},
     "output_type": "display_data"
    }
   ],
   "source": [
    "import pandas as pd\n",
    "\n",
    "store1 = pd.DataFrame({\"orange\": [None, 5], \"apple\": [None, 1]})\n",
    "store2 = pd.DataFrame({\"orange\": [1, 3], \"apple\": [4, 2]})"
   ]
  },
  {
   "cell_type": "code",
   "execution_count": 8,
   "id": "a4176e9c",
   "metadata": {
    "ExecuteTime": {
     "end_time": "2021-11-09T16:33:56.954003Z",
     "start_time": "2021-11-09T16:33:56.931721Z"
    }
   },
   "outputs": [
    {
     "name": "stdout",
     "output_type": "stream",
     "text": [
      "   orange  apple\n",
      "0     NaN    NaN\n",
      "1     5.0    1.0\n"
     ]
    },
    {
     "data": {
      "application/javascript": [
       "\n",
       "            setTimeout(function() {\n",
       "                var nbb_cell_id = 8;\n",
       "                var nbb_unformatted_code = \"print(store1)\";\n",
       "                var nbb_formatted_code = \"print(store1)\";\n",
       "                var nbb_cells = Jupyter.notebook.get_cells();\n",
       "                for (var i = 0; i < nbb_cells.length; ++i) {\n",
       "                    if (nbb_cells[i].input_prompt_number == nbb_cell_id) {\n",
       "                        if (nbb_cells[i].get_text() == nbb_unformatted_code) {\n",
       "                             nbb_cells[i].set_text(nbb_formatted_code);\n",
       "                        }\n",
       "                        break;\n",
       "                    }\n",
       "                }\n",
       "            }, 500);\n",
       "            "
      ],
      "text/plain": [
       "<IPython.core.display.Javascript object>"
      ]
     },
     "metadata": {},
     "output_type": "display_data"
    }
   ],
   "source": [
    "print(store1)"
   ]
  },
  {
   "cell_type": "code",
   "execution_count": 9,
   "id": "d363a442",
   "metadata": {
    "ExecuteTime": {
     "end_time": "2021-11-09T16:34:46.732738Z",
     "start_time": "2021-11-09T16:34:46.712477Z"
    }
   },
   "outputs": [
    {
     "name": "stdout",
     "output_type": "stream",
     "text": [
      "   orange  apple\n",
      "0       1      4\n",
      "1       3      2\n"
     ]
    },
    {
     "data": {
      "application/javascript": [
       "\n",
       "            setTimeout(function() {\n",
       "                var nbb_cell_id = 9;\n",
       "                var nbb_unformatted_code = \"print(store2)\";\n",
       "                var nbb_formatted_code = \"print(store2)\";\n",
       "                var nbb_cells = Jupyter.notebook.get_cells();\n",
       "                for (var i = 0; i < nbb_cells.length; ++i) {\n",
       "                    if (nbb_cells[i].input_prompt_number == nbb_cell_id) {\n",
       "                        if (nbb_cells[i].get_text() == nbb_unformatted_code) {\n",
       "                             nbb_cells[i].set_text(nbb_formatted_code);\n",
       "                        }\n",
       "                        break;\n",
       "                    }\n",
       "                }\n",
       "            }, 500);\n",
       "            "
      ],
      "text/plain": [
       "<IPython.core.display.Javascript object>"
      ]
     },
     "metadata": {},
     "output_type": "display_data"
    }
   ],
   "source": [
    "print(store2)"
   ]
  },
  {
   "cell_type": "markdown",
   "id": "f4a12e18",
   "metadata": {},
   "source": [
    "In the code below, the values at the first row of `store1` are updated with the values at the first row of `store2`."
   ]
  },
  {
   "cell_type": "code",
   "execution_count": 10,
   "id": "138e79e2",
   "metadata": {
    "ExecuteTime": {
     "end_time": "2021-11-09T16:34:56.776284Z",
     "start_time": "2021-11-09T16:34:56.747254Z"
    }
   },
   "outputs": [
    {
     "name": "stdout",
     "output_type": "stream",
     "text": [
      "   orange  apple\n",
      "0     1.0    4.0\n",
      "1     5.0    1.0\n"
     ]
    },
    {
     "data": {
      "application/javascript": [
       "\n",
       "            setTimeout(function() {\n",
       "                var nbb_cell_id = 10;\n",
       "                var nbb_unformatted_code = \"print(store1.combine_first(store2))\";\n",
       "                var nbb_formatted_code = \"print(store1.combine_first(store2))\";\n",
       "                var nbb_cells = Jupyter.notebook.get_cells();\n",
       "                for (var i = 0; i < nbb_cells.length; ++i) {\n",
       "                    if (nbb_cells[i].input_prompt_number == nbb_cell_id) {\n",
       "                        if (nbb_cells[i].get_text() == nbb_unformatted_code) {\n",
       "                             nbb_cells[i].set_text(nbb_formatted_code);\n",
       "                        }\n",
       "                        break;\n",
       "                    }\n",
       "                }\n",
       "            }, 500);\n",
       "            "
      ],
      "text/plain": [
       "<IPython.core.display.Javascript object>"
      ]
     },
     "metadata": {},
     "output_type": "display_data"
    }
   ],
   "source": [
    "print(store1.combine_first(store2))"
   ]
  },
  {
   "cell_type": "markdown",
   "id": "575ba402",
   "metadata": {},
   "source": [
    "### Specify Suffixes When Using df.merge()"
   ]
  },
  {
   "cell_type": "markdown",
   "id": "1222dd5c",
   "metadata": {},
   "source": [
    "If you are merging 2 dataframes that have the same features using `df.merge()`, it might be confusing to know which dataframe `a_x` or `a_y` belongs to."
   ]
  },
  {
   "cell_type": "code",
   "execution_count": 1,
   "id": "b8f8a4fa",
   "metadata": {
    "ExecuteTime": {
     "end_time": "2021-11-18T14:31:06.190705Z",
     "start_time": "2021-11-18T14:31:05.828324Z"
    }
   },
   "outputs": [
    {
     "data": {
      "text/html": [
       "<div>\n",
       "<style scoped>\n",
       "    .dataframe tbody tr th:only-of-type {\n",
       "        vertical-align: middle;\n",
       "    }\n",
       "\n",
       "    .dataframe tbody tr th {\n",
       "        vertical-align: top;\n",
       "    }\n",
       "\n",
       "    .dataframe thead th {\n",
       "        text-align: right;\n",
       "    }\n",
       "</style>\n",
       "<table border=\"1\" class=\"dataframe\">\n",
       "  <thead>\n",
       "    <tr style=\"text-align: right;\">\n",
       "      <th></th>\n",
       "      <th>left_key</th>\n",
       "      <th>a_x</th>\n",
       "      <th>right_key</th>\n",
       "      <th>a_y</th>\n",
       "    </tr>\n",
       "  </thead>\n",
       "  <tbody>\n",
       "    <tr>\n",
       "      <th>0</th>\n",
       "      <td>1</td>\n",
       "      <td>4</td>\n",
       "      <td>1</td>\n",
       "      <td>5</td>\n",
       "    </tr>\n",
       "    <tr>\n",
       "      <th>1</th>\n",
       "      <td>2</td>\n",
       "      <td>5</td>\n",
       "      <td>2</td>\n",
       "      <td>6</td>\n",
       "    </tr>\n",
       "    <tr>\n",
       "      <th>2</th>\n",
       "      <td>3</td>\n",
       "      <td>6</td>\n",
       "      <td>3</td>\n",
       "      <td>7</td>\n",
       "    </tr>\n",
       "  </tbody>\n",
       "</table>\n",
       "</div>"
      ],
      "text/plain": [
       "   left_key  a_x  right_key  a_y\n",
       "0         1    4          1    5\n",
       "1         2    5          2    6\n",
       "2         3    6          3    7"
      ]
     },
     "execution_count": 1,
     "metadata": {},
     "output_type": "execute_result"
    }
   ],
   "source": [
    "import pandas as pd \n",
    "\n",
    "df1 = pd.DataFrame({\"left_key\": [1, 2, 3], \"a\": [4, 5, 6]})\n",
    "df2 = pd.DataFrame({\"right_key\": [1, 2, 3], \"a\": [5, 6, 7]})\n",
    "df1.merge(df2, left_on=\"left_key\", right_on=\"right_key\")"
   ]
  },
  {
   "cell_type": "markdown",
   "id": "baec2128",
   "metadata": {},
   "source": [
    "A better way is to specify suffixes of the features in each Dataframe like below. Now `a_x` becomes `a_left` and `a_y` becomes `a_right`."
   ]
  },
  {
   "cell_type": "code",
   "execution_count": 30,
   "id": "ff0de4c5",
   "metadata": {
    "ExecuteTime": {
     "end_time": "2021-09-11T15:37:15.086794Z",
     "start_time": "2021-09-11T15:37:15.058043Z"
    }
   },
   "outputs": [
    {
     "data": {
      "text/html": [
       "<div>\n",
       "<style scoped>\n",
       "    .dataframe tbody tr th:only-of-type {\n",
       "        vertical-align: middle;\n",
       "    }\n",
       "\n",
       "    .dataframe tbody tr th {\n",
       "        vertical-align: top;\n",
       "    }\n",
       "\n",
       "    .dataframe thead th {\n",
       "        text-align: right;\n",
       "    }\n",
       "</style>\n",
       "<table border=\"1\" class=\"dataframe\">\n",
       "  <thead>\n",
       "    <tr style=\"text-align: right;\">\n",
       "      <th></th>\n",
       "      <th>left_key</th>\n",
       "      <th>a_left</th>\n",
       "      <th>right_key</th>\n",
       "      <th>a_right</th>\n",
       "    </tr>\n",
       "  </thead>\n",
       "  <tbody>\n",
       "    <tr>\n",
       "      <th>0</th>\n",
       "      <td>1</td>\n",
       "      <td>4</td>\n",
       "      <td>1</td>\n",
       "      <td>5</td>\n",
       "    </tr>\n",
       "    <tr>\n",
       "      <th>1</th>\n",
       "      <td>2</td>\n",
       "      <td>5</td>\n",
       "      <td>2</td>\n",
       "      <td>6</td>\n",
       "    </tr>\n",
       "    <tr>\n",
       "      <th>2</th>\n",
       "      <td>3</td>\n",
       "      <td>6</td>\n",
       "      <td>3</td>\n",
       "      <td>7</td>\n",
       "    </tr>\n",
       "  </tbody>\n",
       "</table>\n",
       "</div>"
      ],
      "text/plain": [
       "   left_key  a_left  right_key  a_right\n",
       "0         1       4          1        5\n",
       "1         2       5          2        6\n",
       "2         3       6          3        7"
      ]
     },
     "execution_count": 30,
     "metadata": {},
     "output_type": "execute_result"
    },
    {
     "data": {
      "application/javascript": [
       "\n",
       "            setTimeout(function() {\n",
       "                var nbb_cell_id = 30;\n",
       "                var nbb_unformatted_code = \"df1.merge(df2, left_on='left_key', right_on='right_key',\\n        suffixes=('_left', '_right'))\";\n",
       "                var nbb_formatted_code = \"df1.merge(df2, left_on=\\\"left_key\\\", right_on=\\\"right_key\\\", suffixes=(\\\"_left\\\", \\\"_right\\\"))\";\n",
       "                var nbb_cells = Jupyter.notebook.get_cells();\n",
       "                for (var i = 0; i < nbb_cells.length; ++i) {\n",
       "                    if (nbb_cells[i].input_prompt_number == nbb_cell_id) {\n",
       "                        if (nbb_cells[i].get_text() == nbb_unformatted_code) {\n",
       "                             nbb_cells[i].set_text(nbb_formatted_code);\n",
       "                        }\n",
       "                        break;\n",
       "                    }\n",
       "                }\n",
       "            }, 500);\n",
       "            "
      ],
      "text/plain": [
       "<IPython.core.display.Javascript object>"
      ]
     },
     "metadata": {},
     "output_type": "display_data"
    }
   ],
   "source": [
    "df1.merge(df2, left_on=\"left_key\", right_on=\"right_key\", suffixes=(\"_left\", \"_right\"))"
   ]
  },
  {
   "cell_type": "markdown",
   "id": "9a001b20",
   "metadata": {},
   "source": [
    "Try it if you want the names of your columns to be less confusing."
   ]
  }
 ],
 "metadata": {
  "kernelspec": {
   "display_name": "Python 3 (ipykernel)",
   "language": "python",
   "name": "python3"
  },
  "language_info": {
   "codemirror_mode": {
    "name": "ipython",
    "version": 3
   },
   "file_extension": ".py",
   "mimetype": "text/x-python",
   "name": "python",
   "nbconvert_exporter": "python",
   "pygments_lexer": "ipython3",
   "version": "3.8.10"
  },
  "toc": {
   "base_numbering": 1,
   "nav_menu": {},
   "number_sections": true,
   "sideBar": true,
   "skip_h1_title": false,
   "title_cell": "Table of Contents",
   "title_sidebar": "Contents",
   "toc_cell": false,
   "toc_position": {},
   "toc_section_display": true,
   "toc_window_display": false
  }
 },
 "nbformat": 4,
 "nbformat_minor": 5
}
