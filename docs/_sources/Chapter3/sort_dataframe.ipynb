{
 "cells": [
  {
   "cell_type": "markdown",
   "id": "990af5b8",
   "metadata": {},
   "source": [
    "## Sort Rows or Columns of a DataFrame"
   ]
  },
  {
   "cell_type": "markdown",
   "id": "6d9e694e",
   "metadata": {},
   "source": [
    "### set_categories in Pandas: Sort Categorical Column by a Specific Ordering"
   ]
  },
  {
   "cell_type": "markdown",
   "id": "c06d3f3e",
   "metadata": {},
   "source": [
    "If you want to sort pandas DataFrame’s categorical column by a specific ordering such as small, medium, large, use `df.col.cat.set_categories()` method."
   ]
  },
  {
   "cell_type": "code",
   "execution_count": 1,
   "id": "cd6b8129",
   "metadata": {
    "ExecuteTime": {
     "end_time": "2021-11-18T14:30:48.239044Z",
     "start_time": "2021-11-18T14:30:47.852454Z"
    }
   },
   "outputs": [
    {
     "name": "stderr",
     "output_type": "stream",
     "text": [
      "/home/khuyen/book/venv/lib/python3.8/site-packages/pandas/core/arrays/categorical.py:2630: FutureWarning: The `inplace` parameter in pandas.Categorical.set_categories is deprecated and will be removed in a future version. Removing unused categories will always return a new Categorical object.\n",
      "  res = method(*args, **kwargs)\n"
     ]
    },
    {
     "data": {
      "text/html": [
       "<div>\n",
       "<style scoped>\n",
       "    .dataframe tbody tr th:only-of-type {\n",
       "        vertical-align: middle;\n",
       "    }\n",
       "\n",
       "    .dataframe tbody tr th {\n",
       "        vertical-align: top;\n",
       "    }\n",
       "\n",
       "    .dataframe thead th {\n",
       "        text-align: right;\n",
       "    }\n",
       "</style>\n",
       "<table border=\"1\" class=\"dataframe\">\n",
       "  <thead>\n",
       "    <tr style=\"text-align: right;\">\n",
       "      <th></th>\n",
       "      <th>col1</th>\n",
       "      <th>col2</th>\n",
       "    </tr>\n",
       "  </thead>\n",
       "  <tbody>\n",
       "    <tr>\n",
       "      <th>0</th>\n",
       "      <td>large</td>\n",
       "      <td>1</td>\n",
       "    </tr>\n",
       "    <tr>\n",
       "      <th>3</th>\n",
       "      <td>medium</td>\n",
       "      <td>4</td>\n",
       "    </tr>\n",
       "    <tr>\n",
       "      <th>1</th>\n",
       "      <td>small</td>\n",
       "      <td>2</td>\n",
       "    </tr>\n",
       "    <tr>\n",
       "      <th>2</th>\n",
       "      <td>mini</td>\n",
       "      <td>3</td>\n",
       "    </tr>\n",
       "    <tr>\n",
       "      <th>4</th>\n",
       "      <td>mini</td>\n",
       "      <td>5</td>\n",
       "    </tr>\n",
       "  </tbody>\n",
       "</table>\n",
       "</div>"
      ],
      "text/plain": [
       "     col1  col2\n",
       "0   large     1\n",
       "3  medium     4\n",
       "1   small     2\n",
       "2    mini     3\n",
       "4    mini     5"
      ]
     },
     "execution_count": 1,
     "metadata": {},
     "output_type": "execute_result"
    }
   ],
   "source": [
    "import pandas as pd \n",
    "\n",
    "df = pd.DataFrame(\n",
    "    {\"col1\": [\"large\", \"small\", \"mini\", \"medium\", \"mini\"], \"col2\": [1, 2, 3, 4, 5]}\n",
    ")\n",
    "ordered_sizes = \"large\", \"medium\", \"small\", \"mini\"\n",
    "\n",
    "df.col1 = df.col1.astype(\"category\")\n",
    "df.col1.cat.set_categories(ordered_sizes, ordered=True, inplace=True)\n",
    "df.sort_values(by=\"col1\")"
   ]
  }
 ],
 "metadata": {
  "kernelspec": {
   "display_name": "venv",
   "language": "python",
   "name": "python3"
  },
  "language_info": {
   "codemirror_mode": {
    "name": "ipython",
    "version": 3
   },
   "file_extension": ".py",
   "mimetype": "text/x-python",
   "name": "python",
   "nbconvert_exporter": "python",
   "pygments_lexer": "ipython3",
   "version": "3.9.6"
  },
  "toc": {
   "base_numbering": 1,
   "nav_menu": {},
   "number_sections": true,
   "sideBar": true,
   "skip_h1_title": false,
   "title_cell": "Table of Contents",
   "title_sidebar": "Contents",
   "toc_cell": false,
   "toc_position": {},
   "toc_section_display": true,
   "toc_window_display": false
  },
  "vscode": {
   "interpreter": {
    "hash": "484329849bb907480cd798e750759bc6f1d66c93f9e78e7055aa0a2c2de6b47b"
   }
  }
 },
 "nbformat": 4,
 "nbformat_minor": 5
}
