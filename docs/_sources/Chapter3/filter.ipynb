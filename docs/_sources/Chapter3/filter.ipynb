{
 "cells": [
  {
   "cell_type": "markdown",
   "id": "1278591b",
   "metadata": {},
   "source": [
    "## Filter Rows or Columns"
   ]
  },
  {
   "cell_type": "markdown",
   "id": "818507b5",
   "metadata": {},
   "source": [
    "![](../img/filter.png)"
   ]
  },
  {
   "cell_type": "markdown",
   "id": "a55afe3f",
   "metadata": {},
   "source": [
    "### Pandas.Series.isin: Filter Rows Only If Column Contains Values From Another List"
   ]
  },
  {
   "cell_type": "markdown",
   "id": "f9b7b214",
   "metadata": {},
   "source": [
    "When working with a pandas Dataframe, if you want to select the values that are in another list, the fastest way is to use `isin`. \n",
    "\n",
    "In the example below, `2` is filtered out because `3` is not in the list."
   ]
  },
  {
   "cell_type": "code",
   "execution_count": null,
   "id": "cdf1d2e5",
   "metadata": {},
   "outputs": [],
   "source": [
    "import pandas as pd \n",
    "\n",
    "df = pd.DataFrame({'a': [1, 2, 3], 'b': [4, 5, 6]})\n",
    "df"
   ]
  },
  {
   "cell_type": "code",
   "execution_count": null,
   "id": "587ed032",
   "metadata": {},
   "outputs": [],
   "source": [
    "l = [1, 2, 6, 7]\n",
    "df.a.isin(l)"
   ]
  },
  {
   "cell_type": "code",
   "execution_count": null,
   "id": "1d2c802b",
   "metadata": {},
   "outputs": [],
   "source": [
    "df = df[df.a.isin(l)]\n",
    "df"
   ]
  },
  {
   "cell_type": "markdown",
   "id": "6f02cdf6",
   "metadata": {},
   "source": [
    "### df.query: Query Columns Using Boolean Expression"
   ]
  },
  {
   "cell_type": "markdown",
   "id": "a0155c52",
   "metadata": {},
   "source": [
    "It can be lengthy to filter columns of a pandas DataFrame using brackets."
   ]
  },
  {
   "cell_type": "code",
   "execution_count": null,
   "id": "4eb90681",
   "metadata": {},
   "outputs": [],
   "source": [
    "import pandas as pd\n",
    "\n",
    "df = pd.DataFrame(\n",
    "    {\"fruit\": [\"apple\", \"orange\", \"grape\", \"grape\"], \"price\": [4, 5, 6, 7]}\n",
    ")"
   ]
  },
  {
   "cell_type": "code",
   "execution_count": null,
   "id": "dba519f4",
   "metadata": {},
   "outputs": [],
   "source": [
    "print(df[(df.price > 4) & (df.fruit == \"grape\")])"
   ]
  },
  {
   "cell_type": "markdown",
   "id": "4ba195de",
   "metadata": {},
   "source": [
    "To shorten the filtering statements, use `df.query` instead."
   ]
  },
  {
   "cell_type": "code",
   "execution_count": null,
   "id": "f4bd1508",
   "metadata": {},
   "outputs": [],
   "source": [
    "df.query(\"price > 4 & fruit == 'grape'\")"
   ]
  },
  {
   "cell_type": "markdown",
   "id": "13e69c41",
   "metadata": {},
   "source": [
    "### transform: Filter a pandas DataFrame by Value Counts"
   ]
  },
  {
   "cell_type": "markdown",
   "id": "3ddc1329",
   "metadata": {},
   "source": [
    "To filter a pandas DataFrame based on the occurrences of categories, you might attempt to use `df.groupby` and `df.count`."
   ]
  },
  {
   "cell_type": "code",
   "execution_count": null,
   "id": "313886c1",
   "metadata": {},
   "outputs": [],
   "source": [
    "import pandas as pd\n",
    "\n",
    "df = pd.DataFrame({\"type\": [\"A\", \"A\", \"O\", \"B\", \"O\", \"A\"], \"value\": [5, 3, 2, 1, 4, 2]})\n",
    "df"
   ]
  },
  {
   "cell_type": "code",
   "execution_count": null,
   "id": "8dc7def2",
   "metadata": {},
   "outputs": [],
   "source": [
    "df.groupby(\"type\")[\"type\"].count()"
   ]
  },
  {
   "cell_type": "markdown",
   "id": "fbc02d7f",
   "metadata": {},
   "source": [
    "However, since the Series returned by the `count` method is shorter than the original DataFrame, you will get an error when filtering."
   ]
  },
  {
   "cell_type": "code",
   "execution_count": null,
   "id": "20592604",
   "metadata": {},
   "outputs": [],
   "source": [
    "df.loc[df.groupby(\"type\")[\"type\"].count() > 1]"
   ]
  },
  {
   "cell_type": "markdown",
   "id": "953adcf5",
   "metadata": {},
   "source": [
    "Instead of using `count`, use `transform`. This method will return the Series of value counts with the same length as the original DataFrame."
   ]
  },
  {
   "cell_type": "code",
   "execution_count": null,
   "id": "7ac82513",
   "metadata": {},
   "outputs": [],
   "source": [
    "df.groupby(\"type\")[\"type\"].transform(\"size\")"
   ]
  },
  {
   "cell_type": "markdown",
   "id": "765dd287",
   "metadata": {},
   "source": [
    "Now you can filter without encountering any error."
   ]
  },
  {
   "cell_type": "code",
   "execution_count": null,
   "id": "35bb252b",
   "metadata": {},
   "outputs": [],
   "source": [
    "df.loc[df.groupby(\"type\")[\"type\"].transform(\"size\") > 1]"
   ]
  },
  {
   "cell_type": "markdown",
   "id": "be226295",
   "metadata": {},
   "source": [
    "### df.filter: Filter Columns Based on a Subset of Their Names"
   ]
  },
  {
   "cell_type": "markdown",
   "id": "edf86cad",
   "metadata": {},
   "source": [
    "If you want to filter columns of a pandas DataFrame based on characters in their names, use `DataFrame.filter`. In the example below, we only choose the columns that contain the word \"cat\"."
   ]
  },
  {
   "cell_type": "code",
   "execution_count": null,
   "id": "cb1935c3",
   "metadata": {},
   "outputs": [],
   "source": [
    "import pandas as pd\n",
    "\n",
    "df = pd.DataFrame({\"cat1\": [\"a\", \"b\"], \"cat2\": [\"b\", \"c\"], \"num1\": [1, 2]})\n",
    "df "
   ]
  },
  {
   "cell_type": "code",
   "execution_count": null,
   "id": "fff0a4b1",
   "metadata": {},
   "outputs": [],
   "source": [
    "df.filter(like='cat', axis=1)"
   ]
  },
  {
   "cell_type": "markdown",
   "id": "ae1dc66c",
   "metadata": {},
   "source": [
    "### Filter a pandas DataFrame Based on Index's Name"
   ]
  },
  {
   "cell_type": "markdown",
   "id": "d63156e6",
   "metadata": {},
   "source": [
    "If you want to filter a pandas DataFrame based on the index's name, you can use either `filter` or `loc`."
   ]
  },
  {
   "cell_type": "code",
   "execution_count": null,
   "id": "027ffd3b",
   "metadata": {},
   "outputs": [],
   "source": [
    "import pandas as pd\n",
    "import numpy as np\n",
    "\n",
    "values = np.array([[1, 2], [3, 4], [5, 6]])\n",
    "df = pd.DataFrame(\n",
    "    values, \n",
    "    index=[\"user1\", \"user2\", \"user3\"], \n",
    "    columns=[\"col1\", \"col2\"]\n",
    ")\n",
    "df"
   ]
  },
  {
   "cell_type": "code",
   "execution_count": null,
   "id": "1bab28c9",
   "metadata": {},
   "outputs": [],
   "source": [
    "df.filter(items=['user1', 'user3'], axis=0)"
   ]
  },
  {
   "cell_type": "code",
   "execution_count": null,
   "id": "7a094847",
   "metadata": {},
   "outputs": [],
   "source": [
    "df.loc[['user1', 'user3'], :]"
   ]
  },
  {
   "cell_type": "markdown",
   "id": "03a5b4f7",
   "metadata": {},
   "source": [
    "### all: Select Rows with All NaN Values"
   ]
  },
  {
   "cell_type": "markdown",
   "id": "09204dba",
   "metadata": {},
   "source": [
    "`DataFrame.all` is useful when you want to evaluate whether all values of a row or a column are `True`. If you want to get the rows whose all values are NaN, use both `isna` and `all(axis=1)`."
   ]
  },
  {
   "cell_type": "code",
   "execution_count": null,
   "id": "d46aa3ae",
   "metadata": {},
   "outputs": [],
   "source": [
    "import pandas as pd \n",
    "\n",
    "df = pd.DataFrame({'a': [1, 2, float('nan')], 'b': [1, float('nan'), float('nan')]})\n",
    "is_all_nan = df.isna().all(axis=1)\n",
    "is_all_nan "
   ]
  },
  {
   "cell_type": "code",
   "execution_count": null,
   "id": "39661595",
   "metadata": {},
   "outputs": [],
   "source": [
    "df.loc[is_all_nan, :]"
   ]
  },
  {
   "cell_type": "markdown",
   "id": "2a6ed20e",
   "metadata": {},
   "source": [
    "### pandas.clip: Exclude Outliers"
   ]
  },
  {
   "cell_type": "markdown",
   "id": "2a717b66",
   "metadata": {},
   "source": [
    "Outliers are unusual values in your dataset, and they can distort statistical analyses."
   ]
  },
  {
   "cell_type": "code",
   "execution_count": null,
   "id": "96587d79",
   "metadata": {},
   "outputs": [],
   "source": [
    "import pandas as pd \n",
    "\n",
    "data = {\"col0\": [9, -3, 0, -1, 5]}\n",
    "df = pd.DataFrame(data)\n",
    "df"
   ]
  },
  {
   "cell_type": "markdown",
   "id": "7d7fa191",
   "metadata": {},
   "source": [
    "If you want to trim values that the outliers, one of the methods is to use `df.clip`.\n",
    "\n",
    "Below is how to use the 0.5-quantile as the lower threshold and .95-quantile as the upper threshold"
   ]
  },
  {
   "cell_type": "code",
   "execution_count": null,
   "id": "72c100be",
   "metadata": {},
   "outputs": [],
   "source": [
    "lower = df.col0.quantile(0.05)\n",
    "upper = df.col0.quantile(0.95)\n",
    "\n",
    "df.clip(lower=lower, upper=upper)"
   ]
  }
 ],
 "metadata": {
  "jupytext": {
   "text_representation": {
    "extension": ".md",
    "format_name": "myst",
    "format_version": 0.13,
    "jupytext_version": "1.16.7"
   }
  },
  "kernelspec": {
   "display_name": "Python 3.10.5 64-bit",
   "language": "python",
   "name": "python3"
  },
  "source_map": [
   12,
   16,
   20,
   24,
   30,
   37,
   42,
   45,
   49,
   53,
   61,
   63,
   67,
   69,
   73,
   77,
   84,
   86,
   90,
   92,
   96,
   98,
   102,
   104,
   108,
   112,
   119,
   121,
   125,
   129,
   142,
   146,
   148,
   152,
   156,
   164,
   166,
   170,
   174,
   180,
   186
  ]
 },
 "nbformat": 4,
 "nbformat_minor": 5
}