{
 "cells": [
  {
   "cell_type": "markdown",
   "id": "1e6cecf9",
   "metadata": {},
   "source": [
    "## Work with String"
   ]
  },
  {
   "cell_type": "markdown",
   "id": "6a2c49c4",
   "metadata": {},
   "source": [
    "### pandas.Series.str: Manipulate Text Data in a Pandas Series"
   ]
  },
  {
   "cell_type": "markdown",
   "id": "dfa26d8d",
   "metadata": {},
   "source": [
    "If you are working the text data in a pandas Series, instead of creating your own functions, use `pandas.Series.str` to access common methods to process string.\n",
    "\n",
    "The code below shows how to convert text to lower case then replace “e” with “a”."
   ]
  },
  {
   "cell_type": "code",
   "execution_count": null,
   "id": "572783a1",
   "metadata": {},
   "outputs": [],
   "source": [
    "import pandas as pd \n",
    "\n",
    "fruits = pd.Series(['Orange', 'Apple', 'Grape'])\n",
    "fruits"
   ]
  },
  {
   "cell_type": "code",
   "execution_count": null,
   "id": "b24ffca3",
   "metadata": {},
   "outputs": [],
   "source": [
    "fruits.str.lower()"
   ]
  },
  {
   "cell_type": "code",
   "execution_count": null,
   "id": "aa42602a",
   "metadata": {},
   "outputs": [],
   "source": [
    "fruits.str.lower().str.replace(\"e\", \"a\")"
   ]
  },
  {
   "cell_type": "markdown",
   "id": "ae73fc02",
   "metadata": {},
   "source": [
    "Find other useful string methods [here](https://pandas.pydata.org/pandas-docs/stable/user_guide/text.html#string-methods)."
   ]
  },
  {
   "cell_type": "markdown",
   "id": "fe30fd16",
   "metadata": {},
   "source": [
    "### DataFrame.columns.str.startswith: Find DataFrame’s Columns that Start With a Pattern"
   ]
  },
  {
   "cell_type": "markdown",
   "id": "a6792ced",
   "metadata": {},
   "source": [
    "To find pandas DataFrame whose columns start with a pattern, use `df.columns.str.startswith`."
   ]
  },
  {
   "cell_type": "code",
   "execution_count": null,
   "id": "58135d3f",
   "metadata": {},
   "outputs": [],
   "source": [
    "import pandas as pd \n",
    "\n",
    "df = pd.DataFrame({'pricel': [1, 2, 3],\n",
    "                    'price2': [2, 3, 4],\n",
    "                    'year': [2020, 2021, 2021]})\n",
    "\n",
    "mask = df.columns.str.startswith('price')\n",
    "df.loc[:, mask]"
   ]
  },
  {
   "cell_type": "markdown",
   "id": "57335ab3",
   "metadata": {},
   "source": [
    "### Find Rows Containing One of the Substrings in a List"
   ]
  },
  {
   "cell_type": "markdown",
   "id": "029557cc",
   "metadata": {},
   "source": [
    "If you want to find rows that contain one of the substrings in a list, join that list using `|`:"
   ]
  },
  {
   "cell_type": "code",
   "execution_count": null,
   "id": "b302b232",
   "metadata": {},
   "outputs": [],
   "source": [
    "import pandas as pd  \n",
    "\n",
    "s = pd.Series(['bunny', 'monkey', 'funny', 'flower'])\n",
    "\n",
    "sub_str = ['ny', 'ey']\n",
    "join_str = '|'.join(sub_str)\n",
    "join_str"
   ]
  },
  {
   "cell_type": "markdown",
   "id": "f765fc6e",
   "metadata": {},
   "source": [
    "... then use `str.contains`. Now you only get the strings that end with \"ny\" or \"ey\":"
   ]
  },
  {
   "cell_type": "code",
   "execution_count": null,
   "id": "c2d40027",
   "metadata": {},
   "outputs": [],
   "source": [
    "s[s.str.contains(join_str)]"
   ]
  }
 ],
 "metadata": {
  "jupytext": {
   "text_representation": {
    "extension": ".md",
    "format_name": "myst",
    "format_version": 0.13,
    "jupytext_version": "1.16.7"
   }
  },
  "kernelspec": {
   "display_name": "Python 3 (ipykernel)",
   "language": "python",
   "name": "python3"
  },
  "source_map": [
   12,
   16,
   20,
   26,
   33,
   37,
   39,
   43,
   47,
   51,
   60,
   64,
   68,
   76,
   80
  ]
 },
 "nbformat": 4,
 "nbformat_minor": 5
}