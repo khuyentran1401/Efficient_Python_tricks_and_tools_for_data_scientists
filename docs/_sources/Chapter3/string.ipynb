{
 "cells": [
  {
   "cell_type": "markdown",
   "id": "961b39c8",
   "metadata": {},
   "source": [
    "## Work with String"
   ]
  },
  {
   "cell_type": "markdown",
   "id": "0cf27754",
   "metadata": {},
   "source": [
    "### pandas.Series.str: Manipulate Text Data in a Pandas Series"
   ]
  },
  {
   "cell_type": "markdown",
   "id": "7181abc9",
   "metadata": {},
   "source": [
    "If you are working the text data in a pandas Series, instead of creating your own functions, use `pandas.Series.str` to access common methods to process string.\n",
    "\n",
    "The code below shows how to convert text to lower case then replace “e” with “a”."
   ]
  },
  {
   "cell_type": "code",
   "execution_count": null,
   "id": "52df3330",
   "metadata": {},
   "outputs": [],
   "source": [
    "import pandas as pd \n",
    "\n",
    "fruits = pd.Series(['Orange', 'Apple', 'Grape'])\n",
    "fruits"
   ]
  },
  {
   "cell_type": "code",
   "execution_count": null,
   "id": "e896b37e",
   "metadata": {},
   "outputs": [],
   "source": [
    "fruits.str.lower()"
   ]
  },
  {
   "cell_type": "code",
   "execution_count": null,
   "id": "cce7beca",
   "metadata": {},
   "outputs": [],
   "source": [
    "fruits.str.lower().str.replace(\"e\", \"a\")"
   ]
  },
  {
   "cell_type": "markdown",
   "id": "cfccb102",
   "metadata": {},
   "source": [
    "Find other useful string methods [here](https://pandas.pydata.org/pandas-docs/stable/user_guide/text.html#string-methods)."
   ]
  },
  {
   "cell_type": "markdown",
   "id": "507e9116",
   "metadata": {},
   "source": [
    "### DataFrame.columns.str.startswith: Find DataFrame’s Columns that Start With a Pattern"
   ]
  },
  {
   "cell_type": "markdown",
   "id": "0a9151fc",
   "metadata": {},
   "source": [
    "To find pandas DataFrame whose columns start with a pattern, use `df.columns.str.startswith`."
   ]
  },
  {
   "cell_type": "code",
   "execution_count": null,
   "id": "eb32421f",
   "metadata": {},
   "outputs": [],
   "source": [
    "import pandas as pd \n",
    "\n",
    "df = pd.DataFrame({'pricel': [1, 2, 3],\n",
    "                    'price2': [2, 3, 4],\n",
    "                    'year': [2020, 2021, 2021]})\n",
    "\n",
    "mask = df.columns.str.startswith('price')\n",
    "df.loc[:, mask]"
   ]
  },
  {
   "cell_type": "markdown",
   "id": "d3a046a5",
   "metadata": {},
   "source": [
    "### Find Rows Containing One of the Substrings in a List"
   ]
  },
  {
   "cell_type": "markdown",
   "id": "ef11b1ca",
   "metadata": {},
   "source": [
    "If you want to find rows that contain one of the substrings in a list, join that list using `|`:"
   ]
  },
  {
   "cell_type": "code",
   "execution_count": null,
   "id": "fc03f717",
   "metadata": {},
   "outputs": [],
   "source": [
    "import pandas as pd  \n",
    "\n",
    "s = pd.Series(['bunny', 'monkey', 'funny', 'flower'])\n",
    "\n",
    "sub_str = ['ny', 'ey']\n",
    "join_str = '|'.join(sub_str)\n",
    "join_str"
   ]
  },
  {
   "cell_type": "markdown",
   "id": "46998f03",
   "metadata": {},
   "source": [
    "... then use `str.contains`. Now you only get the strings that end with \"ny\" or \"ey\":"
   ]
  },
  {
   "cell_type": "code",
   "execution_count": null,
   "id": "8768b9c9",
   "metadata": {},
   "outputs": [],
   "source": [
    "s[s.str.contains(join_str)]"
   ]
  }
 ],
 "metadata": {
  "jupytext": {
   "text_representation": {
    "extension": ".md",
    "format_name": "myst",
    "format_version": 0.13,
    "jupytext_version": "1.16.7"
   }
  },
  "kernelspec": {
   "display_name": "Python 3 (ipykernel)",
   "language": "python",
   "name": "python3"
  },
  "source_map": [
   12,
   16,
   20,
   26,
   33,
   37,
   39,
   43,
   47,
   51,
   60,
   64,
   68,
   76,
   80
  ]
 },
 "nbformat": 4,
 "nbformat_minor": 5
}