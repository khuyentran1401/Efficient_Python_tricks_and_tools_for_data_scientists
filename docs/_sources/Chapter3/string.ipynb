{
 "cells": [
  {
   "cell_type": "markdown",
   "id": "87582c08",
   "metadata": {},
   "source": [
    "## Work with String"
   ]
  },
  {
   "cell_type": "markdown",
   "id": "3c30460d",
   "metadata": {},
   "source": [
    "### pandas.Series.str: Manipulate Text Data in a Pandas Series"
   ]
  },
  {
   "cell_type": "markdown",
   "id": "2c633b88",
   "metadata": {},
   "source": [
    "If you are working the text data in a pandas Series, instead of creating your own functions, use `pandas.Series.str` to access common methods to process string.\n",
    "\n",
    "The code below shows how to convert text to lower case then replace “e” with “a”."
   ]
  },
  {
   "cell_type": "code",
   "execution_count": null,
   "id": "e118219a",
   "metadata": {},
   "outputs": [],
   "source": [
    "import pandas as pd \n",
    "\n",
    "fruits = pd.Series(['Orange', 'Apple', 'Grape'])\n",
    "fruits"
   ]
  },
  {
   "cell_type": "code",
   "execution_count": null,
   "id": "dffeca56",
   "metadata": {},
   "outputs": [],
   "source": [
    "fruits.str.lower()"
   ]
  },
  {
   "cell_type": "code",
   "execution_count": null,
   "id": "f352d121",
   "metadata": {},
   "outputs": [],
   "source": [
    "fruits.str.lower().str.replace(\"e\", \"a\")"
   ]
  },
  {
   "cell_type": "markdown",
   "id": "bcd08c51",
   "metadata": {},
   "source": [
    "Find other useful string methods [here](https://pandas.pydata.org/pandas-docs/stable/user_guide/text.html#string-methods)."
   ]
  },
  {
   "cell_type": "markdown",
   "id": "6eaaf50d",
   "metadata": {},
   "source": [
    "### DataFrame.columns.str.startswith: Find DataFrame’s Columns that Start With a Pattern"
   ]
  },
  {
   "cell_type": "markdown",
   "id": "3ec94afc",
   "metadata": {},
   "source": [
    "To find pandas DataFrame whose columns start with a pattern, use `df.columns.str.startswith`."
   ]
  },
  {
   "cell_type": "code",
   "execution_count": null,
   "id": "7973438b",
   "metadata": {},
   "outputs": [],
   "source": [
    "import pandas as pd \n",
    "\n",
    "df = pd.DataFrame({'pricel': [1, 2, 3],\n",
    "                    'price2': [2, 3, 4],\n",
    "                    'year': [2020, 2021, 2021]})\n",
    "\n",
    "mask = df.columns.str.startswith('price')\n",
    "df.loc[:, mask]"
   ]
  },
  {
   "cell_type": "markdown",
   "id": "02f9c36b",
   "metadata": {},
   "source": [
    "### Find Rows Containing One of the Substrings in a List"
   ]
  },
  {
   "cell_type": "markdown",
   "id": "5420f537",
   "metadata": {},
   "source": [
    "If you want to find rows that contain one of the substrings in a list, join that list using `|`:"
   ]
  },
  {
   "cell_type": "code",
   "execution_count": null,
   "id": "a9ea9bdf",
   "metadata": {},
   "outputs": [],
   "source": [
    "import pandas as pd  \n",
    "\n",
    "s = pd.Series(['bunny', 'monkey', 'funny', 'flower'])\n",
    "\n",
    "sub_str = ['ny', 'ey']\n",
    "join_str = '|'.join(sub_str)\n",
    "join_str"
   ]
  },
  {
   "cell_type": "markdown",
   "id": "bf218899",
   "metadata": {},
   "source": [
    "... then use `str.contains`. Now you only get the strings that end with \"ny\" or \"ey\":"
   ]
  },
  {
   "cell_type": "code",
   "execution_count": null,
   "id": "aec172f4",
   "metadata": {},
   "outputs": [],
   "source": [
    "s[s.str.contains(join_str)]"
   ]
  }
 ],
 "metadata": {
  "jupytext": {
   "text_representation": {
    "extension": ".md",
    "format_name": "myst",
    "format_version": 0.13,
    "jupytext_version": "1.16.7"
   }
  },
  "kernelspec": {
   "display_name": "Python 3 (ipykernel)",
   "language": "python",
   "name": "python3"
  },
  "source_map": [
   12,
   16,
   20,
   26,
   33,
   37,
   39,
   43,
   47,
   51,
   60,
   64,
   68,
   76,
   80
  ]
 },
 "nbformat": 4,
 "nbformat_minor": 5
}