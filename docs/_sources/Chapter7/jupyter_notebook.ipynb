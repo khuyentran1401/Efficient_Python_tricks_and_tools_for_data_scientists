{
 "cells": [
  {
   "cell_type": "markdown",
   "id": "e51dffcf",
   "metadata": {},
   "source": [
    "## Jupyter Notebook"
   ]
  },
  {
   "cell_type": "markdown",
   "id": "edb45696",
   "metadata": {},
   "source": [
    "![](../img/jupyter.png)"
   ]
  },
  {
   "cell_type": "markdown",
   "id": "3ed990b8",
   "metadata": {},
   "source": [
    "This section covers some tools to work with Jupyter Notebook."
   ]
  },
  {
   "cell_type": "markdown",
   "id": "61d0b016",
   "metadata": {},
   "source": [
    "### nbdime: Better Version Control for Jupyter Notebook"
   ]
  },
  {
   "cell_type": "markdown",
   "id": "86e27b36",
   "metadata": {},
   "source": [
    "If you want to compare the previous version and the current version of a notebook, use nbdime. The image below shows how 2 versions of a notebook are compared with nbdime.\n",
    "\n",
    "![image](../img/nbdime.png)\n",
    "\n",
    "To install nbdime, type:\n",
    "\n",
    "```bash\n",
    "pip install nbdime\n",
    "```\n",
    "After installing, click the little icon in the top right corner to use nbdime.\n",
    "\n",
    "![image](../img/nbdime_icon.png)"
   ]
  },
  {
   "cell_type": "markdown",
   "id": "65b59b27",
   "metadata": {},
   "source": [
    "[Link to nbdime](https://github.com/jupyter/nbdime/blob/master/docs/source/index.rst)."
   ]
  },
  {
   "cell_type": "markdown",
   "id": "a54a0669",
   "metadata": {},
   "source": [
    "### display in IPython: Display Math Equations in Jupyter Notebook"
   ]
  },
  {
   "cell_type": "markdown",
   "id": "60000b65",
   "metadata": {},
   "source": [
    "If you want to use latex to display math equations in Jupyter Notebook, use the display module in the IPython library."
   ]
  },
  {
   "cell_type": "code",
   "execution_count": null,
   "id": "c4ff4f8c",
   "metadata": {},
   "outputs": [],
   "source": [
    "from IPython.display import display, Math\n",
    "\n",
    "a = 3\n",
    "b = 5\n",
    "print(\"The equation is:\")\n",
    "display(Math(f\"y= {a}x+{b}\"))"
   ]
  },
  {
   "cell_type": "markdown",
   "id": "2aa087ca",
   "metadata": {},
   "source": [
    "### Reuse The Notebook to Run The Same Code Across Different Data"
   ]
  },
  {
   "cell_type": "markdown",
   "id": "5e1c7a01",
   "metadata": {},
   "source": [
    "Have you ever wanted to reuse the notebook to run the same code across different data? This could be helpful to visualize different data without changing the code in the notebook itself.\n",
    "\n",
    "Papermill provides the tool for this. [Insert the tag `parameters` in a notebook cell that contains the variable you want to parameterize](https://papermill.readthedocs.io/en/latest/usage-parameterize.html).\n",
    "\n",
    "Then run the code below in the terminal."
   ]
  },
  {
   "cell_type": "markdown",
   "id": "c5a36296",
   "metadata": {},
   "source": [
    "```bash\n",
    "$ papermill input.ipynb output.ipynb -p data=data1\n",
    "```"
   ]
  },
  {
   "cell_type": "markdown",
   "id": "3b079429",
   "metadata": {},
   "source": [
    "`-p` stands for parameters. In this case, I specify the data I want to run with `-p data=<name-data>`"
   ]
  },
  {
   "cell_type": "markdown",
   "id": "ba7bc12d",
   "metadata": {},
   "source": [
    "[Link to papermill](https://papermill.readthedocs.io/en/latest/usage-workflow.html)"
   ]
  },
  {
   "cell_type": "markdown",
   "id": "8c2ed6f1",
   "metadata": {},
   "source": [
    "### watermark: Get Information About Your Hardware and the Packages Being Used within Your Notebook"
   ]
  },
  {
   "cell_type": "code",
   "execution_count": null,
   "id": "48724233",
   "metadata": {
    "tags": [
     "hide-cell"
    ]
   },
   "outputs": [],
   "source": [
    "!pip install watermark "
   ]
  },
  {
   "cell_type": "markdown",
   "id": "1d64b295",
   "metadata": {},
   "source": [
    "If you want to get information about your hardware and the Python packages being used within your notebook, use the magic extension watermark.\n",
    "\n",
    "The code below shows the outputs of the watermark in my notebook."
   ]
  },
  {
   "cell_type": "code",
   "execution_count": null,
   "id": "5efef8cc",
   "metadata": {},
   "outputs": [],
   "source": [
    "%load_ext watermark"
   ]
  },
  {
   "cell_type": "code",
   "execution_count": null,
   "id": "13613709",
   "metadata": {},
   "outputs": [],
   "source": [
    "%watermark"
   ]
  },
  {
   "cell_type": "markdown",
   "id": "b3a036f1",
   "metadata": {},
   "source": [
    "We can also use watermark to show the versions of the libraries being used:"
   ]
  },
  {
   "cell_type": "code",
   "execution_count": null,
   "id": "b347554a",
   "metadata": {},
   "outputs": [],
   "source": [
    "import numpy as np\n",
    "import pandas as pd\n",
    "import sklearn"
   ]
  },
  {
   "cell_type": "code",
   "execution_count": null,
   "id": "113ef108",
   "metadata": {},
   "outputs": [],
   "source": [
    "%watermark --iversions "
   ]
  },
  {
   "cell_type": "markdown",
   "id": "5395e60b",
   "metadata": {},
   "source": [
    "[Link to watermark](https://github.com/rasbt/watermark#installation-and-updating)."
   ]
  },
  {
   "cell_type": "markdown",
   "id": "af39035b",
   "metadata": {},
   "source": [
    "### Generate requirements.txt File for Jupyter Notebooks Based on Imports"
   ]
  },
  {
   "cell_type": "code",
   "execution_count": null,
   "id": "969e95c8",
   "metadata": {
    "tags": [
     "hide-cell"
    ]
   },
   "outputs": [],
   "source": [
    "!pip install pipreqsnb"
   ]
  },
  {
   "cell_type": "markdown",
   "id": "17b30dca",
   "metadata": {},
   "source": [
    "`pip freeze` saves all packages in the environment, including ones that you don't use in your current project. To generate a `requirements.txt` based on imports in  your Jupyter Notebooks, use pipreqsnb. \n",
    "\n",
    "For example, to save all packages in your current project to a `requirements.txt` file, run:\n",
    "```bash\n",
    "$ pipreqsnb . \n",
    "```"
   ]
  },
  {
   "cell_type": "code",
   "execution_count": null,
   "id": "64b60a04",
   "metadata": {
    "tags": [
     "hide-input"
    ]
   },
   "outputs": [],
   "source": [
    "!pipreqsnb . "
   ]
  },
  {
   "cell_type": "markdown",
   "id": "47a40ab1",
   "metadata": {},
   "source": [
    "Your `requirements.txt` should look like below:\n",
    "```\n",
    "pandas==1.3.4\n",
    "numpy==1.20.3\n",
    "ipython==7.30.1\n",
    "scikit_learn==1.0.2\n",
    "```"
   ]
  },
  {
   "cell_type": "markdown",
   "id": "63222222",
   "metadata": {},
   "source": [
    "Usage of pipreqsnb:\n",
    "```bash\n",
    "Usage:\n",
    "    pipreqsnb [options] <path> \n",
    "\n",
    "Options:\n",
    "    --use-local           Use ONLY local package info instead of querying PyPI\n",
    "    --pypi-server <url>   Use custom PyPi server\n",
    "    --proxy <url>         Use Proxy, parameter will be passed to requests library. You can also just set the\n",
    "                          environments parameter in your terminal:\n",
    "                          $ export HTTP_PROXY=\"http://10.10.1.10:3128\"\n",
    "                          $ export HTTPS_PROXY=\"https://10.10.1.10:1080\"\n",
    "    --debug               Print debug information\n",
    "    --ignore <dirs>...    Ignore extra directories (sepparated by comma no space)\n",
    "    --encoding <charset>  Use encoding parameter for file open\n",
    "    --savepath <file>     Save the list of requirements in the given file\n",
    "    --print               Output the list of requirements in the standard output\n",
    "    --force               Overwrite existing requirements.txt\n",
    "    --diff <file>         Compare modules in requirements.txt to project imports.\n",
    "    --clean <file>        Clean up requirements.txt by removing modules that are not imported in project.\n",
    "    --no-pin              Omit version of output packages.\n",
    "```"
   ]
  },
  {
   "cell_type": "markdown",
   "id": "833151d1",
   "metadata": {},
   "source": [
    "[Link to pipreqsnb](https://github.com/ivanlen/pipreqsnb)\n",
    "\n",
    "To generate requirements.txt for Python scripts, use [pipreqs](https://khuyentran1401.github.io/Efficient_Python_tricks_and_tools_for_data_scientists/Chapter6/env_management.html#pipreqs-generate-requirements-txt-file-for-any-project-based-on-imports) instead."
   ]
  },
  {
   "cell_type": "markdown",
   "id": "0a911fd2",
   "metadata": {},
   "source": [
    "### ipytest: Unit Tests in IPython Notebooks"
   ]
  },
  {
   "cell_type": "code",
   "execution_count": null,
   "id": "8b6dfb87",
   "metadata": {
    "tags": [
     "hide-cell"
    ]
   },
   "outputs": [],
   "source": [
    "!pip install ipytest"
   ]
  },
  {
   "cell_type": "markdown",
   "id": "429e65a7",
   "metadata": {},
   "source": [
    "It is important to create unit tests for your functions to make sure they work as you expected, even the experimental code in your Jupyter Notebook. However, it can be difficult to create unit tests in a notebook.\n",
    "\n",
    "Luckily, ipytest allows you to run pytest inside the notebook environment. To use ipytest, simply add `%%ipytest -qq` inside the cell you want to run pytest."
   ]
  },
  {
   "cell_type": "code",
   "execution_count": null,
   "id": "bfd8d6f0",
   "metadata": {},
   "outputs": [],
   "source": [
    "import ipytest\n",
    "import pytest\n",
    "\n",
    "ipytest.autoconfig()"
   ]
  },
  {
   "cell_type": "code",
   "execution_count": null,
   "id": "56e7f070",
   "metadata": {},
   "outputs": [],
   "source": [
    "def multiply_by_two(nums: list):\n",
    "    return [num * 2 for num in nums]"
   ]
  },
  {
   "cell_type": "code",
   "execution_count": null,
   "id": "c224932a",
   "metadata": {},
   "outputs": [],
   "source": [
    "%%ipytest -qq\n",
    "\n",
    "def test_multiply_by_two():\n",
    "    assert multiply_by_two([1, 2]) == [2, 4]"
   ]
  },
  {
   "cell_type": "markdown",
   "id": "ff0923e2",
   "metadata": {},
   "source": [
    "You can also combine ipytest and [other pytest plugins](https://khuyentran1401.github.io/Efficient_Python_tricks_and_tools_for_data_scientists/Chapter5/testing.html) to improve your tests."
   ]
  },
  {
   "cell_type": "code",
   "execution_count": null,
   "id": "6d897071",
   "metadata": {},
   "outputs": [],
   "source": [
    "%%ipytest -qq\n",
    "\n",
    "test = [([1, 2], [2, 4]),\n",
    "       ([float('nan')], [float('nan')])]\n",
    "\n",
    "@pytest.mark.parametrize('sample, expected', test)\n",
    "def test_multiply_by_two(sample, expected):\n",
    "    assert multiply_by_two(sample) == expected"
   ]
  },
  {
   "cell_type": "markdown",
   "id": "33f5187c",
   "metadata": {},
   "source": [
    "[Link to ipytest](https://github.com/chmp/ipytest)."
   ]
  },
  {
   "cell_type": "markdown",
   "id": "2ec25907",
   "metadata": {},
   "source": [
    "### nbQA: Run Code Formatter and Checker on Your Jupyter Notebooks"
   ]
  },
  {
   "cell_type": "code",
   "execution_count": null,
   "id": "690fac58",
   "metadata": {},
   "outputs": [],
   "source": [
    "!pip install nbqa "
   ]
  },
  {
   "cell_type": "markdown",
   "id": "a78df1a4",
   "metadata": {},
   "source": [
    "If you want to check the quality of the code in your Jupyter Notebook and automatically format it, use nbQA. With nbQA, you can run isort, black, flake8, and more on your Jupyter Notebooks."
   ]
  },
  {
   "cell_type": "markdown",
   "id": "27af35c4",
   "metadata": {},
   "source": [
    "Imagine the notebook `example_notebook.ipnb` looks like the below:"
   ]
  },
  {
   "cell_type": "markdown",
   "id": "6c30ac39",
   "metadata": {},
   "source": [
    "```python\n",
    "import pandas as pd\n",
    "\n",
    "import numpy as np\n",
    "\n",
    "a = [1,2,3,4]\n",
    "```"
   ]
  },
  {
   "cell_type": "markdown",
   "id": "117cb6aa",
   "metadata": {},
   "source": [
    "Format the code:\n",
    "```bash\n",
    "$ nbqa black example_notebook.ipynb\n",
    "```"
   ]
  },
  {
   "cell_type": "code",
   "execution_count": null,
   "id": "a4e4ac4e",
   "metadata": {
    "tags": [
     "hide-input"
    ]
   },
   "outputs": [],
   "source": [
    "!nbqa black example_notebook.ipynb"
   ]
  },
  {
   "cell_type": "markdown",
   "id": "4f79288d",
   "metadata": {},
   "source": [
    "Check style and quality of the code:\n",
    "```bash\n",
    "$ nbqa flake8 example_notebook.ipynb\n",
    "```"
   ]
  },
  {
   "cell_type": "code",
   "execution_count": null,
   "id": "356ec1d1",
   "metadata": {
    "tags": [
     "hide-input"
    ]
   },
   "outputs": [],
   "source": [
    "!nbqa flake8 example_notebook.ipynb"
   ]
  },
  {
   "cell_type": "markdown",
   "id": "a8a54408",
   "metadata": {},
   "source": [
    "Sort the imports in the notebook:\n",
    "```bash\n",
    "$ nbqa isort example_notebook.ipynb\n",
    "```"
   ]
  },
  {
   "cell_type": "code",
   "execution_count": null,
   "id": "b4b677fc",
   "metadata": {},
   "outputs": [],
   "source": [
    "!nbqa isort example_notebook.ipynb"
   ]
  },
  {
   "cell_type": "markdown",
   "id": "46e23993",
   "metadata": {},
   "source": [
    "Your notebook after running all of the commands above will look like the below:\n",
    "```python\n",
    "import numpy as np\n",
    "import pandas as pd\n",
    "\n",
    "a = [1, 2, 3, 4]\n",
    "```\n",
    "\n",
    "After reding the suggestions of flake8, we can also remove two unused packages:\n",
    "```python\n",
    "a = [1, 2, 3, 4]\n",
    "```\n",
    "Now the notebook looks much cleaner!"
   ]
  },
  {
   "cell_type": "markdown",
   "id": "73c57082",
   "metadata": {},
   "source": [
    "You can also automatically run nbQA every time you commit a Jupyter Notebook using [pre-commit](https://towardsdatascience.com/4-pre-commit-plugins-to-automate-code-reviewing-and-formatting-in-python-c80c6d2e9f5).\n",
    "\n",
    "Here is how you can add nbQA to your pre-commit pipeline:\n",
    "\n",
    "```yaml\n",
    "# pre-commit-config.yaml\n",
    "repos:\n",
    "- repo: https://github.com/nbQA-dev/nbQA\n",
    "  rev: 0.10.0\n",
    "  hooks:\n",
    "    - id: nbqa-flake8\n",
    "    - id: nbqa-isort\n",
    "    - id: nbqa-black\n",
    "```"
   ]
  },
  {
   "cell_type": "markdown",
   "id": "d5e863ed",
   "metadata": {},
   "source": [
    "[Link to nbQA](https://nbqa.readthedocs.io/en/latest/readme.html)."
   ]
  },
  {
   "cell_type": "markdown",
   "id": "2410d8b4",
   "metadata": {},
   "source": [
    "### Debug Your Jupyter Notebook's Code with snoop"
   ]
  },
  {
   "cell_type": "code",
   "execution_count": null,
   "id": "cb95d945",
   "metadata": {
    "tags": [
     "hide-cell"
    ]
   },
   "outputs": [],
   "source": [
    "!pip install snoop"
   ]
  },
  {
   "cell_type": "markdown",
   "id": "b036fc93",
   "metadata": {},
   "source": [
    "Have you ever tried to print multiple attributes of a Python object in your Jupyter Notebook to debug it? Wouldn't it be nice if you can automatically print all of those attributes using one magic command? That is when snoop comes in handy.\n",
    "\n",
    "To use snoop, start with loading the library then add `%%snoop` at the beginning of the cell you want to debug."
   ]
  },
  {
   "cell_type": "code",
   "execution_count": null,
   "id": "d712c44c",
   "metadata": {},
   "outputs": [],
   "source": [
    "import numpy as np \n",
    "import pandas as pd "
   ]
  },
  {
   "cell_type": "code",
   "execution_count": null,
   "id": "46bd3a93",
   "metadata": {},
   "outputs": [],
   "source": [
    "%load_ext snoop"
   ]
  },
  {
   "cell_type": "code",
   "execution_count": null,
   "id": "df151718",
   "metadata": {},
   "outputs": [],
   "source": [
    "%%snoop \n",
    "\n",
    "arr = np.random.randint(2, 10, (3, 2))"
   ]
  },
  {
   "cell_type": "code",
   "execution_count": null,
   "id": "60418194",
   "metadata": {},
   "outputs": [],
   "source": [
    "%%snoop \n",
    "\n",
    "df = pd.DataFrame(arr, columns=[\"a\", \"b\"])"
   ]
  },
  {
   "cell_type": "markdown",
   "id": "9edd7ece",
   "metadata": {},
   "source": [
    "snoop also supports debugging in a Python script.\n",
    "\n",
    "[Link to snoop](https://github.com/alexmojaki/snoop)"
   ]
  },
  {
   "cell_type": "markdown",
   "id": "fc59ce26",
   "metadata": {},
   "source": [
    "### Integrate Jupyter AI for Seamless Code Creation in Jupyter Notebook and Lab"
   ]
  },
  {
   "cell_type": "code",
   "execution_count": null,
   "id": "b249ea38",
   "metadata": {
    "tags": [
     "hide-cell"
    ]
   },
   "outputs": [],
   "source": [
    "!pip install jupyter_ai"
   ]
  },
  {
   "cell_type": "markdown",
   "id": "a6048a52",
   "metadata": {},
   "source": [
    "Use Jupyter AI directly within your Jupyter Notebook and Jupyter Lab to effortlessly generate code using generative AI, eliminating the need to import code snippets from other applications."
   ]
  },
  {
   "cell_type": "code",
   "execution_count": null,
   "id": "e4b4da4e",
   "metadata": {},
   "outputs": [],
   "source": [
    "%env OPENAI_API_KEY=YOUR_API_KEY_HERE"
   ]
  },
  {
   "cell_type": "code",
   "execution_count": null,
   "id": "01e3b84d",
   "metadata": {},
   "outputs": [],
   "source": [
    "%load_ext jupyter_ai"
   ]
  },
  {
   "cell_type": "code",
   "execution_count": null,
   "id": "2247b5df",
   "metadata": {},
   "outputs": [],
   "source": [
    "%%ai chatgpt\n",
    "Generate the 2D heat equation"
   ]
  },
  {
   "cell_type": "code",
   "execution_count": null,
   "id": "2cfc02ca",
   "metadata": {},
   "outputs": [],
   "source": [
    "%%ai chatgpt\n",
    "Write Python code to create a monthly time series spanning one year."
   ]
  },
  {
   "cell_type": "markdown",
   "id": "9d283be3",
   "metadata": {},
   "source": [
    "[Link to jupyter-ai](https://github.com/jupyterlab/jupyter-ai)."
   ]
  },
  {
   "cell_type": "markdown",
   "id": "b9763abf",
   "metadata": {},
   "source": [
    "### testbook: Write Clean Unit Tests for Notebooks"
   ]
  },
  {
   "cell_type": "code",
   "execution_count": null,
   "id": "15d91c18",
   "metadata": {
    "tags": [
     "hide-cell"
    ]
   },
   "outputs": [],
   "source": [
    "!pip install testbook"
   ]
  },
  {
   "cell_type": "markdown",
   "id": "31aac836",
   "metadata": {},
   "source": [
    "Writing unit tests for notebooks within the notebooks themselves can lead to a messy notebook.\n",
    "\n",
    "testbook allows unit tests to be run against notebooks in separate test files, effectively treating .ipynb files as .py files.\n",
    "\n",
    "For example, consider the following code cell in a Jupyter Notebook \"example_notebook2.ipynb\":"
   ]
  },
  {
   "cell_type": "markdown",
   "id": "5f0609a8",
   "metadata": {},
   "source": [
    "```python\n",
    "# example_notebook2.ipynb\n",
    "def add(num1: float, num2: float) -> float:\n",
    "    return num1 + num2\n",
    "```"
   ]
  },
  {
   "cell_type": "markdown",
   "id": "6f4dd89f",
   "metadata": {},
   "source": [
    "With testbook, you can write a unit test using testbook in a Python file \"test_example.py\" as follows:"
   ]
  },
  {
   "cell_type": "code",
   "execution_count": null,
   "id": "171b2ce3",
   "metadata": {},
   "outputs": [],
   "source": [
    "%%writefile test_example.py\n",
    "from testbook import testbook\n",
    "\n",
    "@testbook('example_notebook2.ipynb', execute=True)\n",
    "def test_func(tb):\n",
    "   add = tb.get(\"add\")\n",
    "   assert add(1, 2) == 3"
   ]
  },
  {
   "cell_type": "markdown",
   "id": "42c79efb",
   "metadata": {},
   "source": [
    "Then pytest can be used to run the test:"
   ]
  },
  {
   "cell_type": "markdown",
   "id": "a35c6156",
   "metadata": {},
   "source": [
    "```bash\n",
    "$ pytest test_example.py\n",
    "```"
   ]
  },
  {
   "cell_type": "code",
   "execution_count": null,
   "id": "e1e57214",
   "metadata": {
    "tags": [
     "remove-input"
    ]
   },
   "outputs": [],
   "source": [
    "!pytest test_example.py"
   ]
  },
  {
   "cell_type": "markdown",
   "id": "a5ebef8a",
   "metadata": {},
   "source": [
    "[Link to testbook](https://bit.ly/49dzOJ4)."
   ]
  },
  {
   "cell_type": "markdown",
   "id": "b64c1dac",
   "metadata": {},
   "source": [
    "### Navigating and Managing Files in Notebooks: Top Magic Commands"
   ]
  },
  {
   "cell_type": "markdown",
   "id": "58713486",
   "metadata": {},
   "source": [
    "To efficiently manage folders, navigate directories, write to files, and execute scripts directly from your notebook, consider using these four highly effective magic commands that simplify these tasks:\n",
    "- `%mkdir`: Create new folders.\n",
    "- `%cd`: Navigate through directories.\n",
    "- `%%writefile`: Write content to files.\n",
    "- `%run`: Run external Python scripts."
   ]
  },
  {
   "cell_type": "code",
   "execution_count": null,
   "id": "8e8de215",
   "metadata": {},
   "outputs": [],
   "source": [
    "%mkdir my_project\n",
    "%cd my_project"
   ]
  },
  {
   "cell_type": "code",
   "execution_count": null,
   "id": "063f3750",
   "metadata": {},
   "outputs": [],
   "source": [
    "%%writefile process_data.py\n",
    "print(\"Processing data...\")"
   ]
  },
  {
   "cell_type": "code",
   "execution_count": null,
   "id": "af662e71",
   "metadata": {},
   "outputs": [],
   "source": [
    "%run process_data.py"
   ]
  }
 ],
 "metadata": {
  "jupytext": {
   "text_representation": {
    "extension": ".md",
    "format_name": "myst",
    "format_version": 0.13,
    "jupytext_version": "1.16.7"
   }
  },
  "kernelspec": {
   "display_name": "Python 3 (ipykernel)",
   "language": "python",
   "name": "python3"
  },
  "source_map": [
   12,
   16,
   20,
   24,
   28,
   44,
   48,
   52,
   56,
   63,
   67,
   75,
   81,
   85,
   89,
   93,
   97,
   103,
   107,
   109,
   113,
   119,
   121,
   125,
   129,
   133,
   142,
   146,
   156,
   181,
   187,
   191,
   195,
   201,
   208,
   213,
   218,
   222,
   231,
   235,
   239,
   241,
   245,
   249,
   259,
   266,
   270,
   277,
   281,
   288,
   290,
   306,
   323,
   327,
   331,
   335,
   341,
   346,
   350,
   356,
   360,
   366,
   370,
   374,
   378,
   382,
   386,
   391,
   394,
   398,
   402,
   406,
   414,
   422,
   426,
   434,
   438,
   444,
   448,
   452,
   456,
   464,
   469,
   474
  ]
 },
 "nbformat": 4,
 "nbformat_minor": 5
}