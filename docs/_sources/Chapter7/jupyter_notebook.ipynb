{
 "cells": [
  {
   "cell_type": "markdown",
   "id": "2bcd82f7",
   "metadata": {},
   "source": [
    "## Jupyter Notebook"
   ]
  },
  {
   "cell_type": "markdown",
   "id": "cefc2e25",
   "metadata": {},
   "source": [
    "![](../img/jupyter.png)"
   ]
  },
  {
   "cell_type": "markdown",
   "id": "59db1e43",
   "metadata": {},
   "source": [
    "This section covers some tools to work with Jupyter Notebook."
   ]
  },
  {
   "cell_type": "markdown",
   "id": "d28637fe",
   "metadata": {},
   "source": [
    "### nbdime: Better Version Control for Jupyter Notebook"
   ]
  },
  {
   "attachments": {},
   "cell_type": "markdown",
   "id": "be792e84",
   "metadata": {},
   "source": [
    "If you want to compare the previous version and the current version of a notebook, use nbdime. The image below shows how 2 versions of a notebook are compared with nbdime.\n",
    "\n",
    "![image](../img/nbdime.png)\n",
    "\n",
    "To install nbdime, type:\n",
    "\n",
    "```bash\n",
    "pip install nbdime\n",
    "```\n",
    "After installing, click the little icon in the top right corner to use nbdime.\n",
    "\n",
    "![image](../img/nbdime_icon.png)\n",
    "\n"
   ]
  },
  {
   "cell_type": "markdown",
   "id": "ec95bab0",
   "metadata": {},
   "source": [
    "[Link to nbdime](https://github.com/jupyter/nbdime/blob/master/docs/source/index.rst)."
   ]
  },
  {
   "cell_type": "markdown",
   "id": "779533ff",
   "metadata": {},
   "source": [
    "### display in IPython: Display Math Equations in Jupyter Notebook"
   ]
  },
  {
   "cell_type": "markdown",
   "id": "d7d4c47b",
   "metadata": {},
   "source": [
    "If you want to use latex to display math equations in Jupyter Notebook, use the display module in the IPython library."
   ]
  },
  {
   "cell_type": "code",
   "execution_count": 1,
   "id": "3d36c2fe",
   "metadata": {
    "ExecuteTime": {
     "end_time": "2021-09-12T14:50:06.424045Z",
     "start_time": "2021-09-12T14:50:06.386155Z"
    }
   },
   "outputs": [
    {
     "name": "stdout",
     "output_type": "stream",
     "text": [
      "The equation is:\n"
     ]
    },
    {
     "data": {
      "text/latex": [
       "$\\displaystyle y= 3x+5$"
      ],
      "text/plain": [
       "<IPython.core.display.Math object>"
      ]
     },
     "metadata": {},
     "output_type": "display_data"
    }
   ],
   "source": [
    "from IPython.display import display, Math\n",
    "\n",
    "a = 3\n",
    "b = 5\n",
    "print(\"The equation is:\")\n",
    "display(Math(f\"y= {a}x+{b}\"))"
   ]
  },
  {
   "cell_type": "markdown",
   "id": "c6a9565d",
   "metadata": {},
   "source": [
    "### Reuse The Notebook to Run The Same Code Across Different Data"
   ]
  },
  {
   "cell_type": "markdown",
   "id": "481a7d4c",
   "metadata": {},
   "source": [
    "Have you ever wanted to reuse the notebook to run the same code across different data? This could be helpful to visualize different data without changing the code in the notebook itself.\n",
    "\n",
    "Papermill provides the tool for this. [Insert the tag `parameters` in a notebook cell that contains the variable you want to parameterize](https://papermill.readthedocs.io/en/latest/usage-parameterize.html).\n",
    "\n",
    "Then run the code below in the terminal. "
   ]
  },
  {
   "cell_type": "markdown",
   "id": "64995018",
   "metadata": {},
   "source": [
    "```bash\n",
    "$ papermill input.ipynb output.ipynb -p data=data1\n",
    "```"
   ]
  },
  {
   "cell_type": "markdown",
   "id": "36d59bc7",
   "metadata": {},
   "source": [
    "`-p` stands for parameters. In this case, I specify the data I want to run with `-p data=<name-data>`"
   ]
  },
  {
   "cell_type": "markdown",
   "id": "8d79719a",
   "metadata": {},
   "source": [
    "[Link to papermill](https://papermill.readthedocs.io/en/latest/usage-workflow.html)"
   ]
  },
  {
   "cell_type": "markdown",
   "id": "d4bfe7ae",
   "metadata": {},
   "source": [
    "### watermark: Get Information About Your Hardware and the Packages Being Used within Your Notebook"
   ]
  },
  {
   "cell_type": "code",
   "execution_count": null,
   "id": "1bda134c",
   "metadata": {
    "tags": [
     "hide-cell"
    ]
   },
   "outputs": [],
   "source": [
    "!pip install watermark "
   ]
  },
  {
   "cell_type": "markdown",
   "id": "be38a53d",
   "metadata": {
    "ExecuteTime": {
     "end_time": "2021-09-12T14:57:13.672482Z",
     "start_time": "2021-09-12T14:57:11.909865Z"
    }
   },
   "source": [
    "If you want to get information about your hardware and the Python packages being used within your notebook, use the magic extension watermark.\n",
    "\n",
    "The code below shows the outputs of the watermark in my notebook."
   ]
  },
  {
   "cell_type": "code",
   "execution_count": 4,
   "id": "b177fab1",
   "metadata": {
    "ExecuteTime": {
     "end_time": "2021-09-12T14:58:16.366584Z",
     "start_time": "2021-09-12T14:58:16.325978Z"
    }
   },
   "outputs": [],
   "source": [
    "%load_ext watermark"
   ]
  },
  {
   "cell_type": "code",
   "execution_count": 5,
   "id": "2de346f9",
   "metadata": {
    "ExecuteTime": {
     "end_time": "2021-09-12T14:58:22.462880Z",
     "start_time": "2021-09-12T14:58:22.435807Z"
    }
   },
   "outputs": [
    {
     "name": "stdout",
     "output_type": "stream",
     "text": [
      "Last updated: 2021-09-12T09:58:22.438535-05:00\n",
      "\n",
      "Python implementation: CPython\n",
      "Python version       : 3.8.10\n",
      "IPython version      : 7.27.0\n",
      "\n",
      "Compiler    : GCC 9.4.0\n",
      "OS          : Linux\n",
      "Release     : 5.4.0-81-generic\n",
      "Machine     : x86_64\n",
      "Processor   : x86_64\n",
      "CPU cores   : 16\n",
      "Architecture: 64bit\n",
      "\n"
     ]
    }
   ],
   "source": [
    "%watermark"
   ]
  },
  {
   "cell_type": "markdown",
   "id": "fdb8043a",
   "metadata": {},
   "source": [
    "We can also use watermark to show the versions of the libraries being used:"
   ]
  },
  {
   "cell_type": "code",
   "execution_count": 10,
   "id": "a170d444",
   "metadata": {
    "ExecuteTime": {
     "end_time": "2021-09-12T14:59:07.713952Z",
     "start_time": "2021-09-12T14:59:07.707600Z"
    }
   },
   "outputs": [],
   "source": [
    "import numpy as np\n",
    "import pandas as pd\n",
    "import sklearn"
   ]
  },
  {
   "cell_type": "code",
   "execution_count": 11,
   "id": "3c57f5cc",
   "metadata": {
    "ExecuteTime": {
     "end_time": "2021-09-12T14:59:18.949483Z",
     "start_time": "2021-09-12T14:59:18.931144Z"
    }
   },
   "outputs": [
    {
     "name": "stdout",
     "output_type": "stream",
     "text": [
      "sklearn: 0.0\n",
      "pandas : 1.3.2\n",
      "numpy  : 1.19.5\n",
      "\n"
     ]
    }
   ],
   "source": [
    "%watermark --iversions "
   ]
  },
  {
   "cell_type": "markdown",
   "id": "5c1f88cd",
   "metadata": {},
   "source": [
    "[Link to watermark](https://github.com/rasbt/watermark#installation-and-updating)."
   ]
  },
  {
   "cell_type": "markdown",
   "id": "ffaaed40",
   "metadata": {},
   "source": [
    "### Generate requirements.txt File for Jupyter Notebooks Based on Imports"
   ]
  },
  {
   "cell_type": "code",
   "execution_count": null,
   "id": "79c27a6a",
   "metadata": {
    "tags": [
     "hide-cell"
    ]
   },
   "outputs": [],
   "source": [
    "!pip install pipreqsnb"
   ]
  },
  {
   "cell_type": "markdown",
   "id": "282aa4c7",
   "metadata": {},
   "source": [
    "`pip freeze` saves all packages in the environment, including ones that you don't use in your current project. To generate a `requirements.txt` based on imports in  your Jupyter Notebooks, use pipreqsnb. \n",
    "\n",
    "For example, to save all packages in your current project to a `requirements.txt` file, run:\n",
    "```bash\n",
    "$ pipreqsnb . \n",
    "```"
   ]
  },
  {
   "cell_type": "code",
   "execution_count": 2,
   "id": "c09bbd04",
   "metadata": {
    "tags": [
     "hide-input"
    ]
   },
   "outputs": [
    {
     "name": "stdout",
     "output_type": "stream",
     "text": [
      "pipreqs  .\n",
      "INFO: Successfully saved requirements file in ./requirements.txt\n"
     ]
    }
   ],
   "source": [
    "!pipreqsnb . "
   ]
  },
  {
   "attachments": {},
   "cell_type": "markdown",
   "id": "8ca1cf82",
   "metadata": {},
   "source": [
    "Your `requirements.txt` should look like below:\n",
    "```\n",
    "pandas==1.3.4\n",
    "numpy==1.20.3\n",
    "ipython==7.30.1\n",
    "scikit_learn==1.0.2\n",
    "```"
   ]
  },
  {
   "cell_type": "markdown",
   "id": "0bebfb3a",
   "metadata": {},
   "source": [
    "Usage of pipreqsnb:\n",
    "```bash\n",
    "Usage:\n",
    "    pipreqsnb [options] <path> \n",
    "\n",
    "Options:\n",
    "    --use-local           Use ONLY local package info instead of querying PyPI\n",
    "    --pypi-server <url>   Use custom PyPi server\n",
    "    --proxy <url>         Use Proxy, parameter will be passed to requests library. You can also just set the\n",
    "                          environments parameter in your terminal:\n",
    "                          $ export HTTP_PROXY=\"http://10.10.1.10:3128\"\n",
    "                          $ export HTTPS_PROXY=\"https://10.10.1.10:1080\"\n",
    "    --debug               Print debug information\n",
    "    --ignore <dirs>...    Ignore extra directories (sepparated by comma no space)\n",
    "    --encoding <charset>  Use encoding parameter for file open\n",
    "    --savepath <file>     Save the list of requirements in the given file\n",
    "    --print               Output the list of requirements in the standard output\n",
    "    --force               Overwrite existing requirements.txt\n",
    "    --diff <file>         Compare modules in requirements.txt to project imports.\n",
    "    --clean <file>        Clean up requirements.txt by removing modules that are not imported in project.\n",
    "    --no-pin              Omit version of output packages.\n",
    "```"
   ]
  },
  {
   "cell_type": "markdown",
   "id": "eb67f837",
   "metadata": {},
   "source": [
    "[Link to pipreqsnb](https://github.com/ivanlen/pipreqsnb)\n",
    "\n",
    "To generate requirements.txt for Python scripts, use [pipreqs](https://khuyentran1401.github.io/Efficient_Python_tricks_and_tools_for_data_scientists/Chapter6/env_management.html#pipreqs-generate-requirements-txt-file-for-any-project-based-on-imports) instead."
   ]
  },
  {
   "cell_type": "markdown",
   "id": "e38592e9",
   "metadata": {},
   "source": [
    "### ipytest: Unit Tests in IPython Notebooks"
   ]
  },
  {
   "cell_type": "code",
   "execution_count": null,
   "id": "8e2b0839",
   "metadata": {
    "ExecuteTime": {
     "end_time": "2022-01-28T14:04:38.988451Z",
     "start_time": "2022-01-28T14:04:35.972634Z"
    },
    "tags": [
     "hide-cell"
    ]
   },
   "outputs": [],
   "source": [
    "!pip install ipytest"
   ]
  },
  {
   "cell_type": "markdown",
   "id": "aa64b208",
   "metadata": {},
   "source": [
    "It is important to create unit tests for your functions to make sure they work as you expected, even the experimental code in your Jupyter Notebook. However, it can be difficult to create unit tests in a notebook.\n",
    "\n",
    "Luckily, ipytest allows you to run pytest inside the notebook environment. To use ipytest, simply add `%%ipytest -qq` inside the cell you want to run pytest. "
   ]
  },
  {
   "cell_type": "code",
   "execution_count": 1,
   "id": "324e6be3",
   "metadata": {
    "ExecuteTime": {
     "end_time": "2022-01-28T14:14:11.954862Z",
     "start_time": "2022-01-28T14:14:11.937935Z"
    }
   },
   "outputs": [],
   "source": [
    "import ipytest\n",
    "import pytest\n",
    "\n",
    "ipytest.autoconfig()"
   ]
  },
  {
   "cell_type": "code",
   "execution_count": 2,
   "id": "63266cd0",
   "metadata": {
    "ExecuteTime": {
     "end_time": "2022-01-28T14:06:50.397109Z",
     "start_time": "2022-01-28T14:06:50.385986Z"
    }
   },
   "outputs": [],
   "source": [
    "def multiply_by_two(nums: list):\n",
    "    return [num * 2 for num in nums]"
   ]
  },
  {
   "cell_type": "code",
   "execution_count": 3,
   "id": "0cf2b20c",
   "metadata": {
    "ExecuteTime": {
     "end_time": "2022-01-28T14:06:50.952989Z",
     "start_time": "2022-01-28T14:06:50.730255Z"
    }
   },
   "outputs": [
    {
     "name": "stdout",
     "output_type": "stream",
     "text": [
      "\u001b[32m.\u001b[0m\u001b[32m                                                                                            [100%]\u001b[0m\n"
     ]
    }
   ],
   "source": [
    "%%ipytest -qq\n",
    "\n",
    "def test_multiply_by_two():\n",
    "    assert multiply_by_two([1, 2]) == [2, 4]"
   ]
  },
  {
   "cell_type": "markdown",
   "id": "2a8b37ad",
   "metadata": {},
   "source": [
    "You can also combine ipytest and [other pytest plugins](https://khuyentran1401.github.io/Efficient_Python_tricks_and_tools_for_data_scientists/Chapter5/testing.html) to improve your tests."
   ]
  },
  {
   "cell_type": "code",
   "execution_count": 4,
   "id": "9dc7fa7f",
   "metadata": {
    "ExecuteTime": {
     "end_time": "2022-01-28T14:16:10.486449Z",
     "start_time": "2022-01-28T14:16:10.269809Z"
    }
   },
   "outputs": [
    {
     "name": "stdout",
     "output_type": "stream",
     "text": [
      "\u001b[32m.\u001b[0m\u001b[31mF\u001b[0m\u001b[31m                                                                                           [100%]\u001b[0m\n",
      "============================================= FAILURES =============================================\n",
      "\u001b[31m\u001b[1m_____________________________ test_multiply_by_two[sample1-expected1] ______________________________\u001b[0m\n",
      "\n",
      "sample = [nan], expected = [nan]\n",
      "\n",
      "    \u001b[37m@pytest\u001b[39;49;00m.mark.parametrize(\u001b[33m'\u001b[39;49;00m\u001b[33msample, expected\u001b[39;49;00m\u001b[33m'\u001b[39;49;00m, test)\n",
      "    \u001b[94mdef\u001b[39;49;00m \u001b[92mtest_multiply_by_two\u001b[39;49;00m(sample, expected):\n",
      ">       \u001b[94massert\u001b[39;49;00m multiply_by_two(sample) == expected\n",
      "\u001b[1m\u001b[31mE       assert [nan] == [nan]\u001b[0m\n",
      "\u001b[1m\u001b[31mE         At index 0 diff: nan != nan\u001b[0m\n",
      "\u001b[1m\u001b[31mE         Full diff:\u001b[0m\n",
      "\u001b[1m\u001b[31mE           [nan]\u001b[0m\n",
      "\n",
      "\u001b[1m\u001b[31m<ipython-input-4-56d7928444c9>\u001b[0m:6: AssertionError\n",
      "===================================== short test summary info ======================================\n",
      "FAILED tmpospmc1tm.py::test_multiply_by_two[sample1-expected1] - assert [nan] == [nan]\n"
     ]
    }
   ],
   "source": [
    "%%ipytest -qq\n",
    "\n",
    "test = [([1, 2], [2, 4]),\n",
    "       ([float('nan')], [float('nan')])]\n",
    "\n",
    "@pytest.mark.parametrize('sample, expected', test)\n",
    "def test_multiply_by_two(sample, expected):\n",
    "    assert multiply_by_two(sample) == expected"
   ]
  },
  {
   "cell_type": "markdown",
   "id": "fc5fad69",
   "metadata": {},
   "source": [
    "[Link to ipytest](https://github.com/chmp/ipytest)."
   ]
  },
  {
   "cell_type": "markdown",
   "id": "3c6c939b",
   "metadata": {},
   "source": [
    "### nbQA: Run Code Formatter and Checker on Your Jupyter Notebooks"
   ]
  },
  {
   "cell_type": "code",
   "execution_count": null,
   "id": "0a51830b",
   "metadata": {},
   "outputs": [],
   "source": [
    "!pip install nbqa "
   ]
  },
  {
   "cell_type": "markdown",
   "id": "e424bd0b",
   "metadata": {},
   "source": [
    "If you want to check the quality of the code in your Jupyter Notebook and automatically format it, use nbQA. With nbQA, you can run isort, black, flake8, and more on your Jupyter Notebooks."
   ]
  },
  {
   "cell_type": "markdown",
   "id": "5fcc2e07",
   "metadata": {},
   "source": [
    "Imagine the notebook `example_notebook.ipnb` looks like the below:\n",
    "```python\n",
    "\n",
    "import pandas as pd\n",
    "\n",
    "import numpy as np\n",
    "\n",
    "a = [1,2,3,4]\n",
    "```"
   ]
  },
  {
   "cell_type": "markdown",
   "id": "d67e67f5",
   "metadata": {},
   "source": [
    "Format the code:\n",
    "```bash\n",
    "$ nbqa black example_notebook.ipynb\n",
    "```"
   ]
  },
  {
   "cell_type": "code",
   "execution_count": 9,
   "id": "80fbb690",
   "metadata": {
    "ExecuteTime": {
     "end_time": "2022-02-16T15:03:15.040441Z",
     "start_time": "2022-02-16T15:03:12.229387Z"
    },
    "tags": [
     "hide-input"
    ]
   },
   "outputs": [
    {
     "name": "stdout",
     "output_type": "stream",
     "text": [
      "reformatted example_notebook.ipynb\r\n",
      "All done! ✨ 🍰 ✨\r\n",
      "1 file reformatted.\r\n"
     ]
    }
   ],
   "source": [
    "!nbqa black example_notebook.ipynb"
   ]
  },
  {
   "cell_type": "markdown",
   "id": "b8b3c982",
   "metadata": {},
   "source": [
    "Check style and quality of the code:\n",
    "```bash\n",
    "$ nbqa flake8 example_notebook.ipynb\n",
    "```"
   ]
  },
  {
   "cell_type": "code",
   "execution_count": 10,
   "id": "cdff80af",
   "metadata": {
    "ExecuteTime": {
     "end_time": "2022-02-16T15:03:18.690076Z",
     "start_time": "2022-02-16T15:03:15.046916Z"
    },
    "tags": [
     "hide-input"
    ]
   },
   "outputs": [
    {
     "name": "stdout",
     "output_type": "stream",
     "text": [
      "example_notebook.ipynb:cell_1:1:1: F401 'pandas as pd' imported but unused\r\n",
      "example_notebook.ipynb:cell_1:3:1: F401 'numpy as np' imported but unused\r\n"
     ]
    }
   ],
   "source": [
    "!nbqa flake8 example_notebook.ipynb"
   ]
  },
  {
   "cell_type": "markdown",
   "id": "f64b28b6",
   "metadata": {},
   "source": [
    "Sort the imports in the notebook:\n",
    "```bash\n",
    "$ nbqa isort example_notebook.ipynb\n",
    "```"
   ]
  },
  {
   "cell_type": "code",
   "execution_count": 11,
   "id": "fd00f1f8",
   "metadata": {
    "ExecuteTime": {
     "end_time": "2022-02-16T15:03:21.534630Z",
     "start_time": "2022-02-16T15:03:18.696213Z"
    }
   },
   "outputs": [
    {
     "name": "stdout",
     "output_type": "stream",
     "text": [
      "Fixing /home/khuyen/book/book/Chapter7/example_notebook.ipynb\r\n"
     ]
    }
   ],
   "source": [
    "!nbqa isort example_notebook.ipynb"
   ]
  },
  {
   "cell_type": "markdown",
   "id": "97bd7b25",
   "metadata": {},
   "source": [
    "Your notebook after running all of the commands above will look like the below:\n",
    "```python\n",
    "import numpy as np\n",
    "import pandas as pd\n",
    "\n",
    "a = [1, 2, 3, 4]\n",
    "```\n",
    "\n",
    "After reding the suggestions of flake8, we can also remove two unused packages:\n",
    "```python\n",
    "a = [1, 2, 3, 4]\n",
    "```\n",
    "Now the notebook looks much cleaner!"
   ]
  },
  {
   "cell_type": "markdown",
   "id": "64bbff54",
   "metadata": {},
   "source": [
    "You can also automatically run nbQA every time you commit a Jupyter Notebook using [pre-commit](https://towardsdatascience.com/4-pre-commit-plugins-to-automate-code-reviewing-and-formatting-in-python-c80c6d2e9f5).\n",
    "\n",
    "Here is how you can add nbQA to your pre-commit pipeline:\n",
    "\n",
    "```yaml\n",
    "# pre-commit-config.yaml\n",
    "repos:\n",
    "- repo: https://github.com/nbQA-dev/nbQA\n",
    "  rev: 0.10.0\n",
    "  hooks:\n",
    "    - id: nbqa-flake8\n",
    "    - id: nbqa-isort\n",
    "    - id: nbqa-black\n",
    "```"
   ]
  },
  {
   "cell_type": "markdown",
   "id": "5b844050",
   "metadata": {},
   "source": [
    "[Link to nbQA](https://nbqa.readthedocs.io/en/latest/readme.html)."
   ]
  },
  {
   "cell_type": "markdown",
   "id": "b71c80de",
   "metadata": {},
   "source": [
    "### Debug Your Jupyter Notebook's Code with snoop"
   ]
  },
  {
   "cell_type": "code",
   "execution_count": null,
   "id": "dc4d5b04",
   "metadata": {
    "ExecuteTime": {
     "end_time": "2022-03-11T13:41:59.130542Z",
     "start_time": "2022-03-11T13:41:45.125939Z"
    },
    "tags": [
     "hide-cell"
    ]
   },
   "outputs": [],
   "source": [
    "!pip install snoop"
   ]
  },
  {
   "cell_type": "markdown",
   "id": "e92949e9",
   "metadata": {},
   "source": [
    "Have you ever tried to print multiple attributes of a Python object in your Jupyter Notebook to debug it? Wouldn't it be nice if you can automatically print all of those attributes using one magic command? That is when snoop comes in handy.\n",
    "\n",
    "To use snoop, start with loading the library then add `%%snoop` at the beginning of the cell you want to debug. "
   ]
  },
  {
   "cell_type": "code",
   "execution_count": 1,
   "id": "2e972a5a",
   "metadata": {
    "ExecuteTime": {
     "end_time": "2022-03-11T13:56:33.245453Z",
     "start_time": "2022-03-11T13:56:32.380586Z"
    }
   },
   "outputs": [],
   "source": [
    "import numpy as np \n",
    "import pandas as pd "
   ]
  },
  {
   "cell_type": "code",
   "execution_count": 2,
   "id": "b363d21b",
   "metadata": {
    "ExecuteTime": {
     "end_time": "2022-03-11T13:56:33.479753Z",
     "start_time": "2022-03-11T13:56:33.249488Z"
    }
   },
   "outputs": [],
   "source": [
    "%load_ext snoop"
   ]
  },
  {
   "cell_type": "code",
   "execution_count": 3,
   "id": "b483f621",
   "metadata": {
    "ExecuteTime": {
     "end_time": "2022-03-11T13:56:34.039794Z",
     "start_time": "2022-03-11T13:56:34.023217Z"
    }
   },
   "outputs": [
    {
     "name": "stderr",
     "output_type": "stream",
     "text": [
      "07:56:34.03    2 | arr = np.random.randint(2, 10, (3, 2))\n",
      "07:56:34.03 ...... arr = array([[9, 7],\n",
      "07:56:34.03                     [4, 2],\n",
      "07:56:34.03                     [9, 5]])\n",
      "07:56:34.03 ...... arr.shape = (3, 2)\n",
      "07:56:34.03 ...... arr.dtype = dtype('int64')\n"
     ]
    }
   ],
   "source": [
    "%%snoop \n",
    "\n",
    "arr = np.random.randint(2, 10, (3, 2))"
   ]
  },
  {
   "cell_type": "code",
   "execution_count": 12,
   "id": "22d4d5e7",
   "metadata": {
    "ExecuteTime": {
     "end_time": "2022-03-11T13:47:48.238653Z",
     "start_time": "2022-03-11T13:47:48.211930Z"
    }
   },
   "outputs": [
    {
     "name": "stderr",
     "output_type": "stream",
     "text": [
      "07:47:48.22 ...... arr = array([[2, 7],\n",
      "07:47:48.22                     [5, 8],\n",
      "07:47:48.22                     [2, 4]])\n",
      "07:47:48.22 ...... arr.shape = (3, 2)\n",
      "07:47:48.22 ...... arr.dtype = dtype('int64')\n",
      "07:47:48.22 ...... df =    a  b\n",
      "07:47:48.22             0  2  7\n",
      "07:47:48.22             1  5  8\n",
      "07:47:48.22             2  2  4\n",
      "07:47:48.22 ...... df.shape = (3, 2)\n",
      "07:47:48.22    2 | df = pd.DataFrame(arr, columns=[\"a\", \"b\"])\n"
     ]
    }
   ],
   "source": [
    "%%snoop \n",
    "\n",
    "df = pd.DataFrame(arr, columns=[\"a\", \"b\"])"
   ]
  },
  {
   "cell_type": "markdown",
   "id": "6330955a",
   "metadata": {},
   "source": [
    "snoop also supports debugging in a Python script.\n",
    "\n",
    "[Link to snoop](https://github.com/alexmojaki/snoop)"
   ]
  }
 ],
 "metadata": {
  "celltoolbar": "Tags",
  "hide_input": false,
  "kernelspec": {
   "display_name": "Python 3.8.9 ('venv': venv)",
   "language": "python",
   "name": "python3"
  },
  "language_info": {
   "codemirror_mode": {
    "name": "ipython",
    "version": 3
   },
   "file_extension": ".py",
   "mimetype": "text/x-python",
   "name": "python",
   "nbconvert_exporter": "python",
   "pygments_lexer": "ipython3",
   "version": "3.8.9"
  },
  "toc": {
   "base_numbering": 1,
   "nav_menu": {},
   "number_sections": true,
   "sideBar": true,
   "skip_h1_title": false,
   "title_cell": "Table of Contents",
   "title_sidebar": "Contents",
   "toc_cell": false,
   "toc_position": {},
   "toc_section_display": true,
   "toc_window_display": false
  },
  "vscode": {
   "interpreter": {
    "hash": "484329849bb907480cd798e750759bc6f1d66c93f9e78e7055aa0a2c2de6b47b"
   }
  }
 },
 "nbformat": 4,
 "nbformat_minor": 5
}
