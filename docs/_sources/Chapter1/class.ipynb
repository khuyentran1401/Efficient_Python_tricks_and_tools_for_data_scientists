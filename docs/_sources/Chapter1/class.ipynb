{
 "cells": [
  {
   "cell_type": "markdown",
   "id": "1fccc8a5",
   "metadata": {},
   "source": [
    "## Classes"
   ]
  },
  {
   "cell_type": "markdown",
   "id": "cc5b97a4",
   "metadata": {},
   "source": [
    "![](../img/class.png)"
   ]
  },
  {
   "cell_type": "markdown",
   "id": "b4819c3a",
   "metadata": {},
   "source": [
    "### Inheritance in Python"
   ]
  },
  {
   "cell_type": "markdown",
   "id": "15208b29",
   "metadata": {},
   "source": [
    "Have you ever had multiple classes that have similar attributes and methods? In the code below, the class `Dachshund` and `Poodle` have similar attributes (`color`) and methods (`show_info`). "
   ]
  },
  {
   "cell_type": "code",
   "execution_count": 5,
   "id": "865533b6",
   "metadata": {},
   "outputs": [
    {
     "name": "stdout",
     "output_type": "stream",
     "text": [
      "This is a Dachshund with black color.\n"
     ]
    }
   ],
   "source": [
    "class Dachshund:\n",
    "    def __init__(self, color: str):\n",
    "        self.color = color\n",
    "\n",
    "    def show_info(self):\n",
    "        print(f\"This is a Dachshund with {self.color} color.\")\n",
    "\n",
    "\n",
    "class Poodle:\n",
    "    def __init__(self, color: str):\n",
    "        self.color = color\n",
    "\n",
    "    def show_info(self):\n",
    "        print(f\"This is a Poodle with {self.color} color.\")\n",
    "\n",
    "\n",
    "bim = Dachshund(\"black\")\n",
    "bim.show_info()\n"
   ]
  },
  {
   "cell_type": "markdown",
   "id": "754f0769",
   "metadata": {},
   "source": [
    "If so, use inheritance to organize your classes. Inheritance allows us to define a parent class and child classes. A child class inherits all the methods and attributes of the parent class. \n",
    "\n",
    "`super().__init__` makes the child class inherit all the methods and properties from its parent.\n",
    "\n",
    "In the code below, we define the parent class to be `Dog` and the child classes to be `Dachshund` and `Poodle`. With class inheritance, we avoid repeating the same piece of code multiple times. \n",
    "\n"
   ]
  },
  {
   "cell_type": "code",
   "execution_count": 15,
   "id": "8257ca68",
   "metadata": {},
   "outputs": [
    {
     "name": "stdout",
     "output_type": "stream",
     "text": [
      "This is a Dachshund with black color.\n"
     ]
    }
   ],
   "source": [
    "class Dog:\n",
    "    def __init__(self, type_: str, color: str):\n",
    "        self.type = type_\n",
    "        self.color = color\n",
    "\n",
    "    def show_info(self):\n",
    "        print(f\"This is a {self.type} with {self.color} color.\")\n",
    "\n",
    "\n",
    "class Dachshund(Dog):\n",
    "    def __init__(self, color: str):\n",
    "        super().__init__(type_=\"Dachshund\", color=color)\n",
    "\n",
    "\n",
    "class Poodle(Dog):\n",
    "    def __init__(self, color: str):\n",
    "        super().__init__(type_=\"Poodle\", color=color)\n",
    "\n",
    "\n",
    "bim = Dachshund(\"black\")\n",
    "bim.show_info()\n"
   ]
  },
  {
   "cell_type": "code",
   "execution_count": 11,
   "id": "798bae91",
   "metadata": {},
   "outputs": [
    {
     "name": "stdout",
     "output_type": "stream",
     "text": [
      "This is a Poodle with brown color.\n"
     ]
    }
   ],
   "source": [
    "coco = Poodle(\"brown\")\n",
    "coco.show_info()\n"
   ]
  },
  {
   "cell_type": "markdown",
   "id": "817a0eff",
   "metadata": {},
   "source": [
    "Learn more about inheritance in Python [here](https://www.w3schools.com/python/python_inheritance.asp)."
   ]
  },
  {
   "cell_type": "markdown",
   "id": "45c8847f",
   "metadata": {},
   "source": [
    "### Abstract Classes: Declare Methods without Implementation"
   ]
  },
  {
   "cell_type": "markdown",
   "id": "58649bd2",
   "metadata": {},
   "source": [
    "Sometimes you might want different classes to use the same attributes and methods. But the implementation of those methods can be slightly different in each class.\n",
    "\n",
    "A good way to implement this is to use abstract classes. An abstract class contains one or more abstract methods.\n",
    "\n",
    "An abstract method is a method that is declared but contains no implementation. The abstract method requires subclasses to provide implementations."
   ]
  },
  {
   "cell_type": "code",
   "execution_count": 1,
   "id": "3d560ac4",
   "metadata": {
    "ExecuteTime": {
     "end_time": "2021-08-30T00:53:57.751754Z",
     "start_time": "2021-08-30T00:53:57.725292Z"
    }
   },
   "outputs": [
    {
     "name": "stdout",
     "output_type": "stream",
     "text": [
      "Pepper says: Woof\n",
      "Bella says: Meows\n"
     ]
    }
   ],
   "source": [
    "from abc import ABC, abstractmethod \n",
    "\n",
    "class Animal(ABC):\n",
    "\n",
    "    def __init__(self, name: str):\n",
    "        self.name = name \n",
    "        super().__init__()\n",
    "\n",
    "    @abstractmethod \n",
    "    def make_sound(self):\n",
    "        pass \n",
    "\n",
    "class Dog(Animal):\n",
    "    def make_sound(self):\n",
    "        print(f'{self.name} says: Woof')\n",
    "\n",
    "class Cat(Animal):\n",
    "    def make_sound(self):\n",
    "        print(f'{self.name} says: Meows')\n",
    "\n",
    "Dog('Pepper').make_sound()\n",
    "Cat('Bella').make_sound()"
   ]
  },
  {
   "cell_type": "markdown",
   "id": "f2426fc4",
   "metadata": {},
   "source": [
    "### classmethod: What is it and When to Use it\n"
   ]
  },
  {
   "cell_type": "markdown",
   "id": "0fd4cc9e",
   "metadata": {},
   "source": [
    "When working with a Python class, if you want to create a method that returns that class with new attributes, use `classmethod`.\n",
    "\n",
    "Classmethod doesn’t depend on the creation of a class instance. In the code below, I use `classmethod` to instantiate a new object whose attribute is a list of even numbers."
   ]
  },
  {
   "cell_type": "code",
   "execution_count": 2,
   "id": "53c1614d",
   "metadata": {
    "ExecuteTime": {
     "end_time": "2021-08-30T00:54:55.629438Z",
     "start_time": "2021-08-30T00:54:55.618862Z"
    }
   },
   "outputs": [
    {
     "name": "stdout",
     "output_type": "stream",
     "text": [
      "Result: [1, 2, 3, 4, 5, 6, 7]\n"
     ]
    }
   ],
   "source": [
    "class Solver:\n",
    "    def __init__(self, nums: list):\n",
    "        self.nums = nums\n",
    "    \n",
    "    @classmethod\n",
    "    def get_even(cls, nums: list):\n",
    "        return cls([num for num in nums if num % 2 == 0])\n",
    "    \n",
    "    def print_output(self):\n",
    "        print(\"Result:\", self.nums)\n",
    "\n",
    "# Not using class method       \n",
    "nums = [1, 2, 3, 4, 5, 6, 7]\n",
    "solver = Solver(nums).print_output()"
   ]
  },
  {
   "cell_type": "code",
   "execution_count": 3,
   "id": "0afa6c77",
   "metadata": {
    "ExecuteTime": {
     "end_time": "2021-08-30T00:55:16.233030Z",
     "start_time": "2021-08-30T00:55:16.226939Z"
    }
   },
   "outputs": [
    {
     "name": "stdout",
     "output_type": "stream",
     "text": [
      "Result: [2, 4, 6]\n"
     ]
    }
   ],
   "source": [
    "solver2 = Solver.get_even(nums)\n",
    "solver2.print_output()"
   ]
  },
  {
   "cell_type": "markdown",
   "id": "6abd916d",
   "metadata": {},
   "source": [
    "### getattr: a Better Way to Get the Attribute of a Class"
   ]
  },
  {
   "cell_type": "markdown",
   "id": "5ab19f8e",
   "metadata": {},
   "source": [
    "If you want to get a default value when calling an attribute that is not in a class, use `getattr()` method.\n",
    "\n",
    "The `getattr(class, attribute_name)` method simply gets the value of an attribute of a class. However, if the attribute is not found in a class, it returns the default value provided to the function."
   ]
  },
  {
   "cell_type": "code",
   "execution_count": 8,
   "id": "a8a0aee1",
   "metadata": {
    "ExecuteTime": {
     "end_time": "2021-08-30T00:59:12.972426Z",
     "start_time": "2021-08-30T00:59:12.942780Z"
    }
   },
   "outputs": [
    {
     "name": "stdout",
     "output_type": "stream",
     "text": [
      "The color of apple is red\n"
     ]
    },
    {
     "data": {
      "application/javascript": "\n            setTimeout(function() {\n                var nbb_cell_id = 8;\n                var nbb_unformatted_code = \"\\nclass Food:\\n    def __init__(self, name: str, color: str):\\n        self.name = name \\n        self.color = color \\n\\napple = Food('apple', 'red')\\n\\nprint(\\\"The color of apple is\\\", getattr(apple, 'color', 'yellow'))\";\n                var nbb_formatted_code = \"class Food:\\n    def __init__(self, name: str, color: str):\\n        self.name = name\\n        self.color = color\\n\\n\\napple = Food(\\\"apple\\\", \\\"red\\\")\\n\\nprint(\\\"The color of apple is\\\", getattr(apple, \\\"color\\\", \\\"yellow\\\"))\";\n                var nbb_cells = Jupyter.notebook.get_cells();\n                for (var i = 0; i < nbb_cells.length; ++i) {\n                    if (nbb_cells[i].input_prompt_number == nbb_cell_id) {\n                        if (nbb_cells[i].get_text() == nbb_unformatted_code) {\n                             nbb_cells[i].set_text(nbb_formatted_code);\n                        }\n                        break;\n                    }\n                }\n            }, 500);\n            ",
      "text/plain": [
       "<IPython.core.display.Javascript object>"
      ]
     },
     "metadata": {},
     "output_type": "display_data"
    }
   ],
   "source": [
    "class Food:\n",
    "    def __init__(self, name: str, color: str):\n",
    "        self.name = name\n",
    "        self.color = color\n",
    "\n",
    "\n",
    "apple = Food(\"apple\", \"red\")\n",
    "\n",
    "print(\"The color of apple is\", getattr(apple, \"color\", \"yellow\"))"
   ]
  },
  {
   "cell_type": "code",
   "execution_count": 9,
   "id": "82d0b0d2",
   "metadata": {
    "ExecuteTime": {
     "end_time": "2021-08-30T00:59:13.606580Z",
     "start_time": "2021-08-30T00:59:13.591580Z"
    }
   },
   "outputs": [
    {
     "name": "stdout",
     "output_type": "stream",
     "text": [
      "The flavor of apple is sweet\n"
     ]
    },
    {
     "data": {
      "application/javascript": "\n            setTimeout(function() {\n                var nbb_cell_id = 9;\n                var nbb_unformatted_code = \"print(\\\"The flavor of apple is\\\", getattr(apple, 'flavor', 'sweet'))\";\n                var nbb_formatted_code = \"print(\\\"The flavor of apple is\\\", getattr(apple, \\\"flavor\\\", \\\"sweet\\\"))\";\n                var nbb_cells = Jupyter.notebook.get_cells();\n                for (var i = 0; i < nbb_cells.length; ++i) {\n                    if (nbb_cells[i].input_prompt_number == nbb_cell_id) {\n                        if (nbb_cells[i].get_text() == nbb_unformatted_code) {\n                             nbb_cells[i].set_text(nbb_formatted_code);\n                        }\n                        break;\n                    }\n                }\n            }, 500);\n            ",
      "text/plain": [
       "<IPython.core.display.Javascript object>"
      ]
     },
     "metadata": {},
     "output_type": "display_data"
    }
   ],
   "source": [
    "print(\"The flavor of apple is\", getattr(apple, \"flavor\", \"sweet\"))"
   ]
  },
  {
   "cell_type": "code",
   "execution_count": 10,
   "id": "8efa56b6",
   "metadata": {
    "ExecuteTime": {
     "end_time": "2021-08-30T00:59:14.290269Z",
     "start_time": "2021-08-30T00:59:14.258917Z"
    }
   },
   "outputs": [
    {
     "ename": "AttributeError",
     "evalue": "'Food' object has no attribute 'sweet'",
     "output_type": "error",
     "traceback": [
      "\u001b[0;31m---------------------------------------------------------------------------\u001b[0m",
      "\u001b[0;31mAttributeError\u001b[0m                            Traceback (most recent call last)",
      "\u001b[0;32m/tmp/ipykernel_337430/3178150741.py\u001b[0m in \u001b[0;36m<module>\u001b[0;34m\u001b[0m\n\u001b[0;32m----> 1\u001b[0;31m \u001b[0mprint\u001b[0m\u001b[0;34m(\u001b[0m\u001b[0;34m\"The flavor of apple is\"\u001b[0m\u001b[0;34m,\u001b[0m \u001b[0mapple\u001b[0m\u001b[0;34m.\u001b[0m\u001b[0msweet\u001b[0m\u001b[0;34m)\u001b[0m\u001b[0;34m\u001b[0m\u001b[0;34m\u001b[0m\u001b[0m\n\u001b[0m",
      "\u001b[0;31mAttributeError\u001b[0m: 'Food' object has no attribute 'sweet'"
     ]
    },
    {
     "data": {
      "application/javascript": "\n            setTimeout(function() {\n                var nbb_cell_id = 10;\n                var nbb_unformatted_code = \"print(\\\"The flavor of apple is\\\", apple.sweet)\";\n                var nbb_formatted_code = \"print(\\\"The flavor of apple is\\\", apple.sweet)\";\n                var nbb_cells = Jupyter.notebook.get_cells();\n                for (var i = 0; i < nbb_cells.length; ++i) {\n                    if (nbb_cells[i].input_prompt_number == nbb_cell_id) {\n                        if (nbb_cells[i].get_text() == nbb_unformatted_code) {\n                             nbb_cells[i].set_text(nbb_formatted_code);\n                        }\n                        break;\n                    }\n                }\n            }, 500);\n            ",
      "text/plain": [
       "<IPython.core.display.Javascript object>"
      ]
     },
     "metadata": {},
     "output_type": "display_data"
    }
   ],
   "source": [
    "print(\"The flavor of apple is\", apple.sweet)"
   ]
  },
  {
   "cell_type": "markdown",
   "id": "4cb1dbb8",
   "metadata": {},
   "source": [
    "### `__call__`: Call your Class Instance like a Function"
   ]
  },
  {
   "cell_type": "markdown",
   "id": "8df94fed",
   "metadata": {},
   "source": [
    "If you want to call your class instance like a function, add `__call__` method to your class."
   ]
  },
  {
   "cell_type": "code",
   "execution_count": 11,
   "id": "0f79c0b1",
   "metadata": {
    "ExecuteTime": {
     "end_time": "2021-08-30T00:59:18.557329Z",
     "start_time": "2021-08-30T00:59:18.532123Z"
    }
   },
   "outputs": [
    {
     "name": "stdout",
     "output_type": "stream",
     "text": [
      "Instance is created\n",
      "Instance is called\n"
     ]
    },
    {
     "data": {
      "application/javascript": "\n            setTimeout(function() {\n                var nbb_cell_id = 11;\n                var nbb_unformatted_code = \"class DataLoader:\\n\\n\\tdef __init__(self, data_dir: str):\\n\\t\\tself.data_dir = data_dir\\n\\t\\tprint(\\\"Instance is created\\\")\\n\\n\\tdef __call__(self):\\n\\t\\tprint(\\\"Instance is called\\\")\\n\\ndata_loader = DataLoader('my_data_dir')\\n# Instance is created\\n\\ndata_loader()\\n# Instance is called\";\n                var nbb_formatted_code = \"class DataLoader:\\n    def __init__(self, data_dir: str):\\n        self.data_dir = data_dir\\n        print(\\\"Instance is created\\\")\\n\\n    def __call__(self):\\n        print(\\\"Instance is called\\\")\\n\\n\\ndata_loader = DataLoader(\\\"my_data_dir\\\")\\n# Instance is created\\n\\ndata_loader()\\n# Instance is called\";\n                var nbb_cells = Jupyter.notebook.get_cells();\n                for (var i = 0; i < nbb_cells.length; ++i) {\n                    if (nbb_cells[i].input_prompt_number == nbb_cell_id) {\n                        if (nbb_cells[i].get_text() == nbb_unformatted_code) {\n                             nbb_cells[i].set_text(nbb_formatted_code);\n                        }\n                        break;\n                    }\n                }\n            }, 500);\n            ",
      "text/plain": [
       "<IPython.core.display.Javascript object>"
      ]
     },
     "metadata": {},
     "output_type": "display_data"
    }
   ],
   "source": [
    "class DataLoader:\n",
    "    def __init__(self, data_dir: str):\n",
    "        self.data_dir = data_dir\n",
    "        print(\"Instance is created\")\n",
    "\n",
    "    def __call__(self):\n",
    "        print(\"Instance is called\")\n",
    "\n",
    "\n",
    "data_loader = DataLoader(\"my_data_dir\")\n",
    "# Instance is created\n",
    "\n",
    "data_loader()\n",
    "# Instance is called"
   ]
  },
  {
   "cell_type": "markdown",
   "id": "7c083eeb",
   "metadata": {},
   "source": [
    "### Static method: use the function without adding the attributes required for a new instance"
   ]
  },
  {
   "cell_type": "markdown",
   "id": "6218e4de",
   "metadata": {},
   "source": [
    "Have you ever had a function in your class that doesn’t access any properties of a class but fits well in a class? You might find it redundant to instantiate the class to use that function. That is when you can turn your function into a static method.\n",
    "\n",
    "All you need to turn your function into a static method is the decorator `@staticmethod`. Now you can use the function without adding the attributes required for a new instance.\n",
    "\n"
   ]
  },
  {
   "cell_type": "code",
   "execution_count": 12,
   "id": "3b7208d6",
   "metadata": {
    "ExecuteTime": {
     "end_time": "2021-08-30T01:00:17.808040Z",
     "start_time": "2021-08-30T01:00:17.775913Z"
    }
   },
   "outputs": [
    {
     "name": "stdout",
     "output_type": "stream",
     "text": [
      "My favorite page is \n"
     ]
    },
    {
     "data": {
      "application/javascript": "\n            setTimeout(function() {\n                var nbb_cell_id = 12;\n                var nbb_unformatted_code = \"import re \\n\\nclass ProcessText:\\n    def __init__(self, text_column: str):\\n        self.text_column = text_column\\n\\n    @staticmethod\\n    def remove_URL(sample: str) -> str:\\n        \\\"\\\"\\\"Replace url with empty space\\\"\\\"\\\"\\n        return re.sub(r'http\\\\S+', \\\"\\\", sample)\\n\\ntext = ProcessText.remove_URL('My favorite page is https://www.google.com')\\nprint(text)\";\n                var nbb_formatted_code = \"import re\\n\\n\\nclass ProcessText:\\n    def __init__(self, text_column: str):\\n        self.text_column = text_column\\n\\n    @staticmethod\\n    def remove_URL(sample: str) -> str:\\n        \\\"\\\"\\\"Replace url with empty space\\\"\\\"\\\"\\n        return re.sub(r\\\"http\\\\S+\\\", \\\"\\\", sample)\\n\\n\\ntext = ProcessText.remove_URL(\\\"My favorite page is https://www.google.com\\\")\\nprint(text)\";\n                var nbb_cells = Jupyter.notebook.get_cells();\n                for (var i = 0; i < nbb_cells.length; ++i) {\n                    if (nbb_cells[i].input_prompt_number == nbb_cell_id) {\n                        if (nbb_cells[i].get_text() == nbb_unformatted_code) {\n                             nbb_cells[i].set_text(nbb_formatted_code);\n                        }\n                        break;\n                    }\n                }\n            }, 500);\n            ",
      "text/plain": [
       "<IPython.core.display.Javascript object>"
      ]
     },
     "metadata": {},
     "output_type": "display_data"
    }
   ],
   "source": [
    "import re\n",
    "\n",
    "\n",
    "class ProcessText:\n",
    "    def __init__(self, text_column: str):\n",
    "        self.text_column = text_column\n",
    "\n",
    "    @staticmethod\n",
    "    def remove_URL(sample: str) -> str:\n",
    "        \"\"\"Replace url with empty space\"\"\"\n",
    "        return re.sub(r\"http\\S+\", \"\", sample)\n",
    "\n",
    "\n",
    "text = ProcessText.remove_URL(\"My favorite page is https://www.google.com\")\n",
    "print(text)"
   ]
  },
  {
   "attachments": {},
   "cell_type": "markdown",
   "id": "2b37956a",
   "metadata": {},
   "source": [
    "### Property Decorator: A Pythonic Way to Use Getters and Setters"
   ]
  },
  {
   "attachments": {},
   "cell_type": "markdown",
   "id": "1188b89a",
   "metadata": {},
   "source": [
    "To define the behaviors that are executed when a class attribute is set, use the `property` decorator.\n",
    "\n",
    "In the code below, the getter method gets the value of the `color` attribute and the setter method restricts the `color` attribute modification to string data types only. "
   ]
  },
  {
   "cell_type": "code",
   "execution_count": 29,
   "id": "c83e352f",
   "metadata": {
    "ExecuteTime": {
     "end_time": "2021-08-30T01:08:59.507066Z",
     "start_time": "2021-08-30T01:08:59.461065Z"
    }
   },
   "outputs": [
    {
     "name": "stdout",
     "output_type": "stream",
     "text": [
      "Setting value of color...\n"
     ]
    },
    {
     "data": {
      "text/plain": [
       "'red'"
      ]
     },
     "execution_count": 29,
     "metadata": {},
     "output_type": "execute_result"
    }
   ],
   "source": [
    "class Fruit:\n",
    "    def __init__(self, name: str, color: str):\n",
    "        self.name = name\n",
    "        self.color = color\n",
    "\n",
    "    @property # getter method\n",
    "    def color(self):\n",
    "        return self._color\n",
    "\n",
    "    @color.setter # setter method\n",
    "    def color(self, value):\n",
    "        print(\"Setting value of color...\")\n",
    "        if isinstance(value, str):\n",
    "            self._color = value\n",
    "        else:\n",
    "            raise AttributeError(\"Fruit's color must be a string.\")\n",
    "\n",
    "\n",
    "fruit = Fruit(\"apple\", \"red\")\n",
    "fruit.color\n"
   ]
  },
  {
   "cell_type": "code",
   "execution_count": 30,
   "id": "9fa947aa",
   "metadata": {
    "ExecuteTime": {
     "end_time": "2021-08-30T01:09:03.327029Z",
     "start_time": "2021-08-30T01:09:03.301356Z"
    }
   },
   "outputs": [
    {
     "name": "stdout",
     "output_type": "stream",
     "text": [
      "Setting value of color...\n"
     ]
    },
    {
     "data": {
      "text/plain": [
       "'yellow'"
      ]
     },
     "execution_count": 30,
     "metadata": {},
     "output_type": "execute_result"
    }
   ],
   "source": [
    "fruit.color = \"yellow\"\n",
    "fruit.color "
   ]
  },
  {
   "cell_type": "code",
   "execution_count": 27,
   "id": "1b2867b6",
   "metadata": {},
   "outputs": [
    {
     "name": "stdout",
     "output_type": "stream",
     "text": [
      "Setting value of color...\n"
     ]
    },
    {
     "ename": "AttributeError",
     "evalue": "Fruit's color must be a string.",
     "output_type": "error",
     "traceback": [
      "\u001b[0;31m---------------------------------------------------------------------------\u001b[0m",
      "\u001b[0;31mAttributeError\u001b[0m                            Traceback (most recent call last)",
      "\u001b[0;32m/var/folders/5w/fg65_rp17lz39z89p0nkv8ch0000gn/T/ipykernel_4221/1033431134.py\u001b[0m in \u001b[0;36m<cell line: 1>\u001b[0;34m()\u001b[0m\n\u001b[0;32m----> 1\u001b[0;31m \u001b[0mfruit\u001b[0m\u001b[0;34m.\u001b[0m\u001b[0mcolor\u001b[0m \u001b[0;34m=\u001b[0m \u001b[0;36m1\u001b[0m\u001b[0;34m\u001b[0m\u001b[0;34m\u001b[0m\u001b[0m\n\u001b[0m",
      "\u001b[0;32m/var/folders/5w/fg65_rp17lz39z89p0nkv8ch0000gn/T/ipykernel_4221/3851711942.py\u001b[0m in \u001b[0;36mcolor\u001b[0;34m(self, value)\u001b[0m\n\u001b[1;32m     14\u001b[0m             \u001b[0mself\u001b[0m\u001b[0;34m.\u001b[0m\u001b[0m_color\u001b[0m \u001b[0;34m=\u001b[0m \u001b[0mvalue\u001b[0m\u001b[0;34m\u001b[0m\u001b[0;34m\u001b[0m\u001b[0m\n\u001b[1;32m     15\u001b[0m         \u001b[0;32melse\u001b[0m\u001b[0;34m:\u001b[0m\u001b[0;34m\u001b[0m\u001b[0;34m\u001b[0m\u001b[0m\n\u001b[0;32m---> 16\u001b[0;31m             \u001b[0;32mraise\u001b[0m \u001b[0mAttributeError\u001b[0m\u001b[0;34m(\u001b[0m\u001b[0;34m\"Fruit's color must be a string.\"\u001b[0m\u001b[0;34m)\u001b[0m\u001b[0;34m\u001b[0m\u001b[0;34m\u001b[0m\u001b[0m\n\u001b[0m\u001b[1;32m     17\u001b[0m \u001b[0;34m\u001b[0m\u001b[0m\n\u001b[1;32m     18\u001b[0m \u001b[0;34m\u001b[0m\u001b[0m\n",
      "\u001b[0;31mAttributeError\u001b[0m: Fruit's color must be a string."
     ]
    }
   ],
   "source": [
    "fruit.color = 1"
   ]
  },
  {
   "cell_type": "markdown",
   "id": "c510dd76",
   "metadata": {},
   "source": [
    "### `__str__` and `__repr__`: Create a String Representation of a Python Object\n"
   ]
  },
  {
   "cell_type": "markdown",
   "id": "82e6f70e",
   "metadata": {},
   "source": [
    "If you want to create a string representation of an object, add `__str__` and `__repr__`.\n",
    "\n",
    "`__str__` shows readable outputs when printing the object. `__repr__` shows outputs that are useful for displaying and debugging the object."
   ]
  },
  {
   "cell_type": "code",
   "execution_count": 17,
   "id": "71450d29",
   "metadata": {
    "ExecuteTime": {
     "end_time": "2021-08-30T01:45:12.288927Z",
     "start_time": "2021-08-30T01:45:12.261626Z"
    }
   },
   "outputs": [
    {
     "name": "stdout",
     "output_type": "stream",
     "text": [
      "red apple\n"
     ]
    },
    {
     "data": {
      "application/javascript": "\n            setTimeout(function() {\n                var nbb_cell_id = 17;\n                var nbb_unformatted_code = \"class Food:\\n    def __init__(self, name: str, color: str):\\n        self.name = name\\n        self.color = color\\n\\n    def __str__(self):\\n        return f\\\"{self.color} {self.name}\\\"\\n\\n    def __repr__(self):\\n        return f\\\"Food({self.color}, {self.name})\\\"\\n\\n\\nfood = Food(\\\"apple\\\", \\\"red\\\")\\n\\nprint(food)  #  str__\";\n                var nbb_formatted_code = \"class Food:\\n    def __init__(self, name: str, color: str):\\n        self.name = name\\n        self.color = color\\n\\n    def __str__(self):\\n        return f\\\"{self.color} {self.name}\\\"\\n\\n    def __repr__(self):\\n        return f\\\"Food({self.color}, {self.name})\\\"\\n\\n\\nfood = Food(\\\"apple\\\", \\\"red\\\")\\n\\nprint(food)  #  str__\";\n                var nbb_cells = Jupyter.notebook.get_cells();\n                for (var i = 0; i < nbb_cells.length; ++i) {\n                    if (nbb_cells[i].input_prompt_number == nbb_cell_id) {\n                        if (nbb_cells[i].get_text() == nbb_unformatted_code) {\n                             nbb_cells[i].set_text(nbb_formatted_code);\n                        }\n                        break;\n                    }\n                }\n            }, 500);\n            ",
      "text/plain": [
       "<IPython.core.display.Javascript object>"
      ]
     },
     "metadata": {},
     "output_type": "display_data"
    }
   ],
   "source": [
    "class Food:\n",
    "    def __init__(self, name: str, color: str):\n",
    "        self.name = name\n",
    "        self.color = color\n",
    "\n",
    "    def __str__(self):\n",
    "        return f\"{self.color} {self.name}\"\n",
    "\n",
    "    def __repr__(self):\n",
    "        return f\"Food({self.color}, {self.name})\"\n",
    "\n",
    "\n",
    "food = Food(\"apple\", \"red\")\n",
    "\n",
    "print(food)  #  str__"
   ]
  },
  {
   "cell_type": "code",
   "execution_count": 18,
   "id": "e6cd59a2",
   "metadata": {
    "ExecuteTime": {
     "end_time": "2021-08-30T01:45:12.705910Z",
     "start_time": "2021-08-30T01:45:12.692056Z"
    }
   },
   "outputs": [
    {
     "data": {
      "text/plain": [
       "Food(red, apple)"
      ]
     },
     "execution_count": 18,
     "metadata": {},
     "output_type": "execute_result"
    },
    {
     "data": {
      "application/javascript": "\n            setTimeout(function() {\n                var nbb_cell_id = 18;\n                var nbb_unformatted_code = \"food  # __repr__\";\n                var nbb_formatted_code = \"food  # __repr__\";\n                var nbb_cells = Jupyter.notebook.get_cells();\n                for (var i = 0; i < nbb_cells.length; ++i) {\n                    if (nbb_cells[i].input_prompt_number == nbb_cell_id) {\n                        if (nbb_cells[i].get_text() == nbb_unformatted_code) {\n                             nbb_cells[i].set_text(nbb_formatted_code);\n                        }\n                        break;\n                    }\n                }\n            }, 500);\n            ",
      "text/plain": [
       "<IPython.core.display.Javascript object>"
      ]
     },
     "metadata": {},
     "output_type": "display_data"
    }
   ],
   "source": [
    "food  # __repr__"
   ]
  },
  {
   "cell_type": "markdown",
   "id": "df12dd1f",
   "metadata": {},
   "source": [
    "### `__add__`: Add the Attributes of Two Class Instances"
   ]
  },
  {
   "cell_type": "markdown",
   "id": "718af7c3",
   "metadata": {},
   "source": [
    "If you want to add the attributes of class instances, use `__add__`. In the code below, I use `__add__` to add the ages of two class instances `bim` and `coco` when calling `bim + coco`. "
   ]
  },
  {
   "cell_type": "code",
   "execution_count": 1,
   "id": "f455c75a",
   "metadata": {},
   "outputs": [
    {
     "data": {
      "text/plain": [
       "7"
      ]
     },
     "execution_count": 1,
     "metadata": {},
     "output_type": "execute_result"
    }
   ],
   "source": [
    "class Dog:\n",
    "    def __init__(self, age: int):\n",
    "        self.age = age\n",
    "\n",
    "    def __add__(self, other):\n",
    "        return self.age + other.age\n",
    "\n",
    "\n",
    "class Cat:\n",
    "    def __init__(self, age: int):\n",
    "        self.age = age\n",
    "\n",
    "    def __add__(self, other):\n",
    "        return self.age + other.age\n",
    "\n",
    "\n",
    "bim = Dog(age=5)\n",
    "coco = Cat(age=2)\n",
    "bim + coco\n"
   ]
  },
  {
   "attachments": {},
   "cell_type": "markdown",
   "id": "cbce2b65",
   "metadata": {},
   "source": [
    "### Optimizing Memory Usage in Python with Slots"
   ]
  },
  {
   "cell_type": "code",
   "execution_count": 1,
   "id": "dcc6d440",
   "metadata": {
    "tags": [
     "hide-cell"
    ]
   },
   "outputs": [],
   "source": [
    "!pip install memory_profiler"
   ]
  },
  {
   "attachments": {},
   "cell_type": "markdown",
   "id": "847b4a77",
   "metadata": {},
   "source": [
    "In Python, objects can store their attributes in a flexible dictionary-like structure that can use a lot of memory. Slots make your objects more memory-efficient by reserving space for their attributes ahead of time.\n",
    "\n",
    "The code below shows that using slots significant reduces the memory usage."
   ]
  },
  {
   "attachments": {},
   "cell_type": "markdown",
   "id": "c3b401b5",
   "metadata": {},
   "source": [
    "```python\n",
    "# without_slot.py\n",
    "from random import randint\n",
    "from memory_profiler import profile\n",
    "\n",
    "\n",
    "class Dog:\n",
    "    def __init__(self, age):\n",
    "        self.age = age\n",
    "\n",
    "\n",
    "@profile\n",
    "def main():\n",
    "    return [Dog(age=randint(0, 30)) for _ in range(100000)]\n",
    "\n",
    "\n",
    "if __name__ == \"__main__\":\n",
    "    main()\n",
    "```"
   ]
  },
  {
   "attachments": {},
   "cell_type": "markdown",
   "id": "d9225e6a",
   "metadata": {},
   "source": [
    "```bash\n",
    "$ python -m memory_profiler without_slot.py\n",
    "```"
   ]
  },
  {
   "cell_type": "code",
   "execution_count": 12,
   "id": "313fa5e9",
   "metadata": {
    "tags": [
     "remove-input"
    ]
   },
   "outputs": [
    {
     "name": "stdout",
     "output_type": "stream",
     "text": [
      "Filename: without_slot.py\n",
      "\n",
      "Line #    Mem usage    Increment  Occurrences   Line Contents\n",
      "=============================================================\n",
      "    10     41.6 MiB     41.6 MiB           1   @profile\n",
      "    11                                         def main():\n",
      "    12     57.8 MiB     16.2 MiB      100003       return [Dog(randint(0, 30)) for _ in range(100000)]\n",
      "\n",
      "\n"
     ]
    }
   ],
   "source": [
    "!python -m memory_profiler without_slot.py"
   ]
  },
  {
   "attachments": {},
   "cell_type": "markdown",
   "id": "a0d28226",
   "metadata": {},
   "source": [
    "```python\n",
    "# with_slot.py\n",
    "from random import randint\n",
    "from memory_profiler import profile\n",
    "\n",
    "\n",
    "class Dog:\n",
    "    # defining slots\n",
    "    __slots__ = [\"age\"] \n",
    "    def __init__(self, age):\n",
    "        self.age = age\n",
    "\n",
    "\n",
    "@profile\n",
    "def main():\n",
    "    return [Dog(age=randint(0, 30)) for _ in range(100000)]\n",
    "\n",
    "\n",
    "if __name__ == \"__main__\":\n",
    "    main()\n",
    "```"
   ]
  },
  {
   "attachments": {},
   "cell_type": "markdown",
   "id": "6466485d",
   "metadata": {},
   "source": [
    "```bash\n",
    "$ python -m memory_profiler with_slot.py\n",
    "```"
   ]
  },
  {
   "cell_type": "code",
   "execution_count": 13,
   "id": "cdd60556",
   "metadata": {
    "tags": [
     "remove-input"
    ]
   },
   "outputs": [
    {
     "name": "stdout",
     "output_type": "stream",
     "text": [
      "Filename: with_slot.py\n",
      "\n",
      "Line #    Mem usage    Increment  Occurrences   Line Contents\n",
      "=============================================================\n",
      "    11     41.3 MiB     41.3 MiB           1   @profile\n",
      "    12                                         def main():\n",
      "    13     46.7 MiB      5.4 MiB      100003       return [Dog(randint(0, 30)) for _ in range(100000)]\n",
      "\n",
      "\n"
     ]
    }
   ],
   "source": [
    "!python -m memory_profiler with_slot.py"
   ]
  }
 ],
 "metadata": {
  "celltoolbar": "Tags",
  "hide_input": false,
  "interpreter": {
   "hash": "484329849bb907480cd798e750759bc6f1d66c93f9e78e7055aa0a2c2de6b47b"
  },
  "kernelspec": {
   "display_name": "Python 3.8.9 ('venv': venv)",
   "language": "python",
   "name": "python3"
  },
  "language_info": {
   "codemirror_mode": {
    "name": "ipython",
    "version": 3
   },
   "file_extension": ".py",
   "mimetype": "text/x-python",
   "name": "python",
   "nbconvert_exporter": "python",
   "pygments_lexer": "ipython3",
   "version": "3.9.6"
  },
  "toc": {
   "base_numbering": 1,
   "nav_menu": {},
   "number_sections": true,
   "sideBar": true,
   "skip_h1_title": false,
   "title_cell": "Table of Contents",
   "title_sidebar": "Contents",
   "toc_cell": false,
   "toc_position": {},
   "toc_section_display": true,
   "toc_window_display": false
  }
 },
 "nbformat": 4,
 "nbformat_minor": 5
}
