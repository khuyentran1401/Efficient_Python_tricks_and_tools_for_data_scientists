{
 "cells": [
  {
   "cell_type": "markdown",
   "id": "35f12415",
   "metadata": {},
   "source": [
    "## Classes"
   ]
  },
  {
   "cell_type": "markdown",
   "id": "1f4c5957",
   "metadata": {},
   "source": [
    "![](../img/class.png)"
   ]
  },
  {
   "cell_type": "markdown",
   "id": "93ffb748",
   "metadata": {},
   "source": [
    "### Inheritance in Python"
   ]
  },
  {
   "cell_type": "markdown",
   "id": "9135144f",
   "metadata": {},
   "source": [
    "Have you ever had multiple classes that have similar attributes and methods? In the code below, the class `Dachshund` and `Poodle` have similar attributes (`color`) and methods (`show_info`)."
   ]
  },
  {
   "cell_type": "code",
   "execution_count": null,
   "id": "5aca6023",
   "metadata": {},
   "outputs": [],
   "source": [
    "class Dachshund:\n",
    "    def __init__(self, color: str):\n",
    "        self.color = color\n",
    "\n",
    "    def show_info(self):\n",
    "        print(f\"This is a Dachshund with {self.color} color.\")\n",
    "\n",
    "\n",
    "class Poodle:\n",
    "    def __init__(self, color: str):\n",
    "        self.color = color\n",
    "\n",
    "    def show_info(self):\n",
    "        print(f\"This is a Poodle with {self.color} color.\")\n",
    "\n",
    "\n",
    "bim = Dachshund(\"black\")\n",
    "bim.show_info()"
   ]
  },
  {
   "cell_type": "markdown",
   "id": "6b5dd20e",
   "metadata": {},
   "source": [
    "If so, use inheritance to organize your classes. Inheritance allows us to define a parent class and child classes. A child class inherits all the methods and attributes of the parent class. \n",
    "\n",
    "`super().__init__` makes the child class inherit all the methods and properties from its parent.\n",
    "\n",
    "In the code below, we define the parent class to be `Dog` and the child classes to be `Dachshund` and `Poodle`. With class inheritance, we avoid repeating the same piece of code multiple times."
   ]
  },
  {
   "cell_type": "code",
   "execution_count": null,
   "id": "a2f159bb",
   "metadata": {},
   "outputs": [],
   "source": [
    "class Dog:\n",
    "    def __init__(self, type_: str, color: str):\n",
    "        self.type = type_\n",
    "        self.color = color\n",
    "\n",
    "    def show_info(self):\n",
    "        print(f\"This is a {self.type} with {self.color} color.\")\n",
    "\n",
    "\n",
    "class Dachshund(Dog):\n",
    "    def __init__(self, color: str):\n",
    "        super().__init__(type_=\"Dachshund\", color=color)\n",
    "\n",
    "\n",
    "class Poodle(Dog):\n",
    "    def __init__(self, color: str):\n",
    "        super().__init__(type_=\"Poodle\", color=color)\n",
    "\n",
    "\n",
    "bim = Dachshund(\"black\")\n",
    "bim.show_info()"
   ]
  },
  {
   "cell_type": "code",
   "execution_count": null,
   "id": "88de69fe",
   "metadata": {},
   "outputs": [],
   "source": [
    "coco = Poodle(\"brown\")\n",
    "coco.show_info()"
   ]
  },
  {
   "cell_type": "markdown",
   "id": "2b328bde",
   "metadata": {},
   "source": [
    "Learn more about inheritance in Python [here](https://www.w3schools.com/python/python_inheritance.asp)."
   ]
  },
  {
   "cell_type": "markdown",
   "id": "9590c39c",
   "metadata": {},
   "source": [
    "### Abstract Classes: Declare Methods without Implementation"
   ]
  },
  {
   "cell_type": "markdown",
   "id": "71056cbf",
   "metadata": {},
   "source": [
    "To ensure that all subclasses implement a set of methods and properties, use abstract methods within an abstract class. This promotes code reusability and a consistent interface across different implementations.\n",
    "\n",
    "In the following code, Drink serves as an abstract class with an abstract method consume."
   ]
  },
  {
   "cell_type": "code",
   "execution_count": null,
   "id": "bb413413",
   "metadata": {},
   "outputs": [],
   "source": [
    "from abc import ABC, abstractmethod\n",
    "\n",
    "\n",
    "class Drink(ABC):\n",
    "    def __init__(self, name, volume):\n",
    "        self.name = name\n",
    "        self.volume = volume\n",
    "\n",
    "    @abstractmethod\n",
    "    def consume(self):\n",
    "        pass\n",
    "\n",
    "\n",
    "class Tea(Drink):\n",
    "    def consume(self):\n",
    "        print(f\"Drinking {self.name} tea...\")\n",
    "\n",
    "\n",
    "class Smoothie(Drink):\n",
    "    def consume(self):\n",
    "        print(f\"Drinking {self.name} smoothie...\")\n",
    "\n",
    "\n",
    "Tea(\"English Breakfast\", 250).consume()\n",
    "Smoothie(\"Tropical Blast\", 500).consume()"
   ]
  },
  {
   "cell_type": "markdown",
   "id": "504b95df",
   "metadata": {},
   "source": [
    "### Distinguishing Instance-Level and Class Methods"
   ]
  },
  {
   "cell_type": "markdown",
   "id": "59a81f2e",
   "metadata": {},
   "source": [
    "An instance-level method requires instantiating a class object to operate, while a class method doesn’t.\n",
    "\n",
    "Class methods can provide alternate ways to construct objects. In the code below, the from_csv class method instantiates the class by reading data from a CSV file."
   ]
  },
  {
   "cell_type": "code",
   "execution_count": null,
   "id": "bd4697c9",
   "metadata": {
    "editable": true,
    "slideshow": {
     "slide_type": ""
    },
    "tags": [
     "remove-input"
    ]
   },
   "outputs": [],
   "source": [
    "import pandas as pd\n",
    "\n",
    "# Create example dataframe\n",
    "df = pd.DataFrame({\n",
    "    'age': [25, 34, 45],\n",
    "    'income': [50000, 75000, 65000],\n",
    "    'education_years': [16, 18, 14],\n",
    "    'satisfaction_score': [8, 7, 9]\n",
    "})\n",
    "\n",
    "# Save the dataframe to CSV\n",
    "df.to_csv('data.csv', index=False)"
   ]
  },
  {
   "cell_type": "code",
   "execution_count": null,
   "id": "fd2b4ddd",
   "metadata": {},
   "outputs": [],
   "source": [
    "import pandas as pd\n",
    "\n",
    "class DataAnalyzer:\n",
    "    def __init__(self, data):\n",
    "        self.data = data\n",
    "\n",
    "    def analyze(self): # instance-level method\n",
    "        print(f\"Shape of data: {self.data.shape}\")\n",
    "\n",
    "    @classmethod\n",
    "    def from_csv(cls, csv_path): # class method\n",
    "        data = pd.read_csv(csv_path)\n",
    "        return cls(data)\n",
    "\n",
    "\n",
    "data = pd.DataFrame({'a': [1, 2, 3], 'b': [4, 5, 6]})\n",
    "analyzer = DataAnalyzer(data)\n",
    "analyzer.analyze()"
   ]
  },
  {
   "cell_type": "code",
   "execution_count": null,
   "id": "fdb188f1",
   "metadata": {},
   "outputs": [],
   "source": [
    "# Using the class method to create an instance from a CSV file\n",
    "csv_file_path = \"data.csv\"\n",
    "analyzer = DataAnalyzer.from_csv(csv_file_path) \n",
    "analyzer.analyze()"
   ]
  },
  {
   "cell_type": "markdown",
   "id": "4b14f9e1",
   "metadata": {},
   "source": [
    "### getattr: a Better Way to Get the Attribute of a Class"
   ]
  },
  {
   "cell_type": "markdown",
   "id": "5f4d34c3",
   "metadata": {},
   "source": [
    "If you want to get a default value when calling an attribute that is not in a class, use `getattr()` method.\n",
    "\n",
    "The `getattr(class, attribute_name)` method simply gets the value of an attribute of a class. However, if the attribute is not found in a class, it returns the default value provided to the function."
   ]
  },
  {
   "cell_type": "code",
   "execution_count": null,
   "id": "1d7dacdd",
   "metadata": {},
   "outputs": [],
   "source": [
    "class Food:\n",
    "    def __init__(self, name: str, color: str):\n",
    "        self.name = name\n",
    "        self.color = color\n",
    "\n",
    "\n",
    "apple = Food(\"apple\", \"red\")\n",
    "\n",
    "print(\"The color of apple is\", getattr(apple, \"color\", \"yellow\"))"
   ]
  },
  {
   "cell_type": "code",
   "execution_count": null,
   "id": "6cd067d2",
   "metadata": {},
   "outputs": [],
   "source": [
    "print(\"The flavor of apple is\", getattr(apple, \"flavor\", \"sweet\"))"
   ]
  },
  {
   "cell_type": "code",
   "execution_count": null,
   "id": "7d11330d",
   "metadata": {},
   "outputs": [],
   "source": [
    "print(\"The flavor of apple is\", apple.sweet)"
   ]
  },
  {
   "cell_type": "markdown",
   "id": "a7385543",
   "metadata": {},
   "source": [
    "### `__call__`: Call your Class Instance like a Function"
   ]
  },
  {
   "cell_type": "markdown",
   "id": "aa63801f",
   "metadata": {},
   "source": [
    "If you want to call your class instance like a function, add `__call__` method to your class."
   ]
  },
  {
   "cell_type": "code",
   "execution_count": null,
   "id": "83e818c8",
   "metadata": {},
   "outputs": [],
   "source": [
    "class DataLoader:\n",
    "    def __init__(self, data_dir: str):\n",
    "        self.data_dir = data_dir\n",
    "        print(\"Instance is created\")\n",
    "\n",
    "    def __call__(self):\n",
    "        print(\"Instance is called\")\n",
    "\n",
    "\n",
    "data_loader = DataLoader(\"my_data_dir\")\n",
    "# Instance is created\n",
    "\n",
    "data_loader()\n",
    "# Instance is called"
   ]
  },
  {
   "cell_type": "markdown",
   "id": "6fef9221",
   "metadata": {},
   "source": [
    "### Instance Comparison in Python Classes"
   ]
  },
  {
   "cell_type": "markdown",
   "id": "e9da394e",
   "metadata": {},
   "source": [
    "Even if two class instances have the same attributes, they are not equal because they are stored in separate memory locations.\n",
    "\n",
    "To define how class instances should be compared, add the `__eq__` method."
   ]
  },
  {
   "cell_type": "code",
   "execution_count": null,
   "id": "f07110ca",
   "metadata": {},
   "outputs": [],
   "source": [
    "class Dog:\n",
    "    def __init__(self, name: str):\n",
    "        self.name = name\n",
    "\n",
    "\n",
    "dog1 = Dog(\"Bim\")\n",
    "dog2 = Dog(\"Bim\")\n",
    "dog1 == dog2"
   ]
  },
  {
   "cell_type": "code",
   "execution_count": null,
   "id": "28852ae4",
   "metadata": {},
   "outputs": [],
   "source": [
    "class Dog:\n",
    "    def __init__(self, name: str):\n",
    "        self.name = name\n",
    "\n",
    "    def __eq__(self, other):\n",
    "        return self.name == other.name\n",
    "\n",
    "\n",
    "dog1 = Dog(\"Bim\")\n",
    "dog2 = Dog(\"Bim\")\n",
    "dog1 == dog2"
   ]
  },
  {
   "cell_type": "markdown",
   "id": "5e9cfac4",
   "metadata": {},
   "source": [
    "### Static method: use the function without adding the attributes required for a new instance"
   ]
  },
  {
   "cell_type": "markdown",
   "id": "2a282e93",
   "metadata": {},
   "source": [
    "Have you ever had a function in your class that doesn’t access any properties of a class but fits well in a class? You might find it redundant to instantiate the class to use that function. That is when you can turn your function into a static method.\n",
    "\n",
    "All you need to turn your function into a static method is the decorator `@staticmethod`. Now you can use the function without adding the attributes required for a new instance."
   ]
  },
  {
   "cell_type": "code",
   "execution_count": null,
   "id": "58612c17",
   "metadata": {},
   "outputs": [],
   "source": [
    "import re\n",
    "\n",
    "\n",
    "class ProcessText:\n",
    "    def __init__(self, text_column: str):\n",
    "        self.text_column = text_column\n",
    "\n",
    "    @staticmethod\n",
    "    def remove_URL(sample: str) -> str:\n",
    "        \"\"\"Replace url with empty space\"\"\"\n",
    "        return re.sub(r\"http\\S+\", \"\", sample)\n",
    "\n",
    "\n",
    "text = ProcessText.remove_URL(\"My favorite page is https://www.google.com\")\n",
    "print(text)"
   ]
  },
  {
   "cell_type": "markdown",
   "id": "fb8e297d",
   "metadata": {},
   "source": [
    "### Minimize Data Risks with Python Private Variables"
   ]
  },
  {
   "cell_type": "markdown",
   "id": "c0678e1a",
   "metadata": {},
   "source": [
    "To restrict external access and modification of a variable outside of a class, make it a private variable by using double underscores. This helps minimize the chances of unintended alterations."
   ]
  },
  {
   "cell_type": "code",
   "execution_count": null,
   "id": "fdd19e35",
   "metadata": {},
   "outputs": [],
   "source": [
    "class Grocery:\n",
    "    def __init__(self, item, price):\n",
    "        # Making 'price' a private variable\n",
    "        self.__price = price\n",
    "        self.item = item\n",
    "\n",
    "    # Getter method to access the private variable 'price'\n",
    "    def get_price(self):\n",
    "        print(f\"The price of {self.item} is ${self.__price}\")\n",
    "\n",
    "\n",
    "# Create an instance of the Grocery class\n",
    "grocery_item = Grocery(\"Apples\", 2.99)\n",
    "\n",
    "# Access the private variable 'price' using the getter method\n",
    "grocery_item.get_price()\n",
    "\n",
    "# Access the private variable directly\n",
    "grocery_item.__price"
   ]
  },
  {
   "cell_type": "markdown",
   "id": "64ad277d",
   "metadata": {},
   "source": [
    "### Ensure Data Integrity with Getters and Setters in Python"
   ]
  },
  {
   "cell_type": "markdown",
   "id": "27f9f4c4",
   "metadata": {},
   "source": [
    "In Python, the property decorator controls property access and modification through getters and setters.\n",
    "\n",
    "For example, in a `BankAccount` class, without getters and setters, the balance can be directly modified, potentially leading to an invalid state."
   ]
  },
  {
   "cell_type": "code",
   "execution_count": null,
   "id": "04dd8671",
   "metadata": {},
   "outputs": [],
   "source": [
    "class BankAccount:\n",
    "    def __init__(self, initial_balance: float):\n",
    "        self.balance = initial_balance\n",
    "\n",
    "account = BankAccount(100)\n",
    "print(account.balance) \n",
    "\n",
    "# Directly modifying the balance (no validation)\n",
    "account.balance = -50\n",
    "print(account.balance) "
   ]
  },
  {
   "cell_type": "markdown",
   "id": "4e45ef6c",
   "metadata": {},
   "source": [
    "Using getters and setters ensures the balance cannot be set to an invalid value."
   ]
  },
  {
   "cell_type": "code",
   "execution_count": null,
   "id": "b46c4bbd",
   "metadata": {},
   "outputs": [],
   "source": [
    "class BankAccount:\n",
    "    def __init__(self, initial_balance: float):\n",
    "        self._balance = initial_balance\n",
    "\n",
    "    @property\n",
    "    def balance(self):\n",
    "        return self._balance\n",
    "\n",
    "    @balance.setter\n",
    "    def balance(self, value):\n",
    "        if value < 0:\n",
    "            raise ValueError(\"Balance cannot be negative\")\n",
    "        self._balance = value\n",
    "\n",
    "\n",
    "# Example usage\n",
    "account = BankAccount(100)\n",
    "print(account.balance) \n",
    "\n",
    "# Attempting to set an invalid balance\n",
    "account.balance = -50 "
   ]
  },
  {
   "cell_type": "markdown",
   "id": "1a453c90",
   "metadata": {},
   "source": [
    "### `__str__` and `__repr__`: Create a String Representation of a Python Object"
   ]
  },
  {
   "cell_type": "markdown",
   "id": "a514553f",
   "metadata": {},
   "source": [
    "If you want to create a string representation of an object, add `__str__` and `__repr__`.\n",
    "\n",
    "`__str__` shows readable outputs when printing the object. `__repr__` shows outputs that are useful for displaying and debugging the object."
   ]
  },
  {
   "cell_type": "code",
   "execution_count": null,
   "id": "1bb146be",
   "metadata": {},
   "outputs": [],
   "source": [
    "class Food:\n",
    "    def __init__(self, name: str, color: str):\n",
    "        self.name = name\n",
    "        self.color = color\n",
    "\n",
    "    def __str__(self):\n",
    "        return f\"{self.color} {self.name}\"\n",
    "\n",
    "    def __repr__(self):\n",
    "        return f\"Food({self.color}, {self.name})\"\n",
    "\n",
    "\n",
    "food = Food(\"apple\", \"red\")\n",
    "\n",
    "print(food)  #  str__"
   ]
  },
  {
   "cell_type": "code",
   "execution_count": null,
   "id": "3ef24950",
   "metadata": {},
   "outputs": [],
   "source": [
    "food  # __repr__"
   ]
  },
  {
   "cell_type": "markdown",
   "id": "020ccbb8",
   "metadata": {},
   "source": [
    "### Simplify Custom Object Operations with Python Magic Methods"
   ]
  },
  {
   "cell_type": "markdown",
   "id": "ec71aba5",
   "metadata": {},
   "source": [
    "Manually defining arithmetic operations between custom objects can make code less readable and harder to understand.\n",
    "\n",
    "Python's special methods, such as `__add__`, enable natural arithmetic syntax between custom objects, making code more readable and intuitive, and allowing you to focus on program logic.\n",
    "\n",
    "Let's consider an example to illustrate the problem. Suppose we have a class `Animal` with attributes `species` and `weight`, and we want to calculate the total weight of two animals."
   ]
  },
  {
   "cell_type": "code",
   "execution_count": null,
   "id": "7d91d55e",
   "metadata": {},
   "outputs": [],
   "source": [
    "class Animal:\n",
    "    def __init__(self, species: str, weight: float):\n",
    "        self.species = species\n",
    "        self.weight = weight\n",
    "\n",
    "\n",
    "lion = Animal(\"Lion\", 200)\n",
    "tiger = Animal(\"Tiger\", 180)\n",
    "\n",
    "# Messy calculations\n",
    "total_weight = lion.weight + tiger.weight\n",
    "total_weight"
   ]
  },
  {
   "cell_type": "markdown",
   "id": "7a3ac7d0",
   "metadata": {},
   "source": [
    "In this example, we have to manually access the `weight` attribute of each `Animal` object and perform the addition. This approach is not only verbose but also error-prone, as we might accidentally access the wrong attribute or perform the wrong operation."
   ]
  },
  {
   "cell_type": "markdown",
   "id": "dc9e3e62",
   "metadata": {},
   "source": [
    "To enable natural arithmetic syntax, we can implement the `__add__` method in the `Animal` class. This method will be called when we use the `+` operator between two `Animal` objects."
   ]
  },
  {
   "cell_type": "code",
   "execution_count": null,
   "id": "79055165",
   "metadata": {},
   "outputs": [],
   "source": [
    "class Animal:\n",
    "    def __init__(self, species: str, weight: float):\n",
    "        self.species = species\n",
    "        self.weight = weight\n",
    "\n",
    "    def __add__(self, other):\n",
    "        # Combine weights\n",
    "        return Animal(f\"{self.species}+{other.species}\", self.weight + other.weight)\n",
    "\n",
    "\n",
    "lion = Animal(\"Lion\", 200)\n",
    "tiger = Animal(\"Tiger\", 180)\n",
    "combined = lion + tiger\n",
    "print(combined.weight)"
   ]
  },
  {
   "cell_type": "markdown",
   "id": "81c0b057",
   "metadata": {},
   "source": [
    "By implementing the `__add__` method, we can now use the `+` operator to combine the weights of two `Animal` objects. This approach is not only more readable but also more intuitive."
   ]
  },
  {
   "cell_type": "markdown",
   "id": "6c8a32b7",
   "metadata": {},
   "source": [
    "### Optimizing Memory Usage in Python with Slots"
   ]
  },
  {
   "cell_type": "code",
   "execution_count": null,
   "id": "54311829",
   "metadata": {
    "tags": [
     "hide-cell"
    ]
   },
   "outputs": [],
   "source": [
    "!pip install memory_profiler"
   ]
  },
  {
   "cell_type": "markdown",
   "id": "e515082d",
   "metadata": {},
   "source": [
    "In Python, objects can store their attributes in a flexible dictionary-like structure that can use a lot of memory. Slots make your objects more memory-efficient by reserving space for their attributes ahead of time.\n",
    "\n",
    "The code below shows that using slots significant reduces the memory usage."
   ]
  },
  {
   "cell_type": "code",
   "execution_count": null,
   "id": "e5e22182",
   "metadata": {},
   "outputs": [],
   "source": [
    "%%writefile without_slot.py\n",
    "from random import randint\n",
    "from memory_profiler import profile\n",
    "\n",
    "\n",
    "class Dog:\n",
    "    def __init__(self, age):\n",
    "        self.age = age\n",
    "\n",
    "\n",
    "@profile\n",
    "def main():\n",
    "    return [Dog(age=randint(0, 30)) for _ in range(100000)]\n",
    "\n",
    "\n",
    "if __name__ == \"__main__\":\n",
    "    main()"
   ]
  },
  {
   "cell_type": "markdown",
   "id": "5af386a0",
   "metadata": {},
   "source": [
    "```bash\n",
    "$ python -m memory_profiler without_slot.py\n",
    "```"
   ]
  },
  {
   "cell_type": "code",
   "execution_count": null,
   "id": "d346f7c8",
   "metadata": {
    "tags": [
     "remove-input"
    ]
   },
   "outputs": [],
   "source": [
    "!python -m memory_profiler without_slot.py"
   ]
  },
  {
   "cell_type": "code",
   "execution_count": null,
   "id": "58e8f217",
   "metadata": {},
   "outputs": [],
   "source": [
    "%%writefile with_slot.py\n",
    "from random import randint\n",
    "from memory_profiler import profile\n",
    "\n",
    "\n",
    "class Dog:\n",
    "    # defining slots\n",
    "    __slots__ = [\"age\"] \n",
    "    def __init__(self, age):\n",
    "        self.age = age\n",
    "\n",
    "\n",
    "@profile\n",
    "def main():\n",
    "    return [Dog(age=randint(0, 30)) for _ in range(100000)]\n",
    "\n",
    "\n",
    "if __name__ == \"__main__\":\n",
    "    main()"
   ]
  },
  {
   "cell_type": "markdown",
   "id": "214f5a3c",
   "metadata": {},
   "source": [
    "```bash\n",
    "$ python -m memory_profiler with_slot.py\n",
    "```"
   ]
  },
  {
   "cell_type": "code",
   "execution_count": null,
   "id": "4e784789",
   "metadata": {
    "tags": [
     "remove-input"
    ]
   },
   "outputs": [],
   "source": [
    "!python -m memory_profiler with_slot.py"
   ]
  },
  {
   "cell_type": "markdown",
   "id": "b8ada717",
   "metadata": {},
   "source": [
    "### Improve Code Readability with Enums"
   ]
  },
  {
   "cell_type": "markdown",
   "id": "ffe70b1a",
   "metadata": {},
   "source": [
    "Hard-coded values without proper context can decrease code readability.\n",
    "\n",
    "By using an Enum, meaningful names can be assigned to these values, improving code readability."
   ]
  },
  {
   "cell_type": "code",
   "execution_count": null,
   "id": "74d215c1",
   "metadata": {},
   "outputs": [],
   "source": [
    "current_status = 200\n",
    "if current_status == 200:\n",
    "    print(\"You can go through the gate.\")\n",
    "elif current_status == 500:\n",
    "    print(\"You can't go through the gate.\")\n",
    "else:\n",
    "    print(\"Invalid status code.\")"
   ]
  },
  {
   "cell_type": "code",
   "execution_count": null,
   "id": "2ee8f5ea",
   "metadata": {},
   "outputs": [],
   "source": [
    "from enum import Enum\n",
    "\n",
    "\n",
    "class StatusCode(Enum):\n",
    "    OK = 200\n",
    "    ERROR = 500\n",
    "\n",
    "\n",
    "current_status = 200\n",
    "if current_status == StatusCode.OK.value:\n",
    "    print(\"You can go through the gate.\")\n",
    "elif current_status == StatusCode.ERROR.value:\n",
    "    print(\"You can't go through the gate.\")\n",
    "else:\n",
    "    print(\"Invalid status code.\")"
   ]
  },
  {
   "cell_type": "markdown",
   "id": "2fb0f512",
   "metadata": {},
   "source": [
    "[Learn more about Enum](https://docs.python.org/3/library/enum.html)."
   ]
  },
  {
   "cell_type": "markdown",
   "id": "054a7ad0",
   "metadata": {},
   "source": [
    "### Embrace the Open-Closed Principle to Design Extensible Classes"
   ]
  },
  {
   "cell_type": "markdown",
   "id": "3f8c26bf",
   "metadata": {},
   "source": [
    "You should design classes that are open for extension but closed for modification (Open-Closed Principle).\n",
    "\n",
    "In the current implementation of the `DataPipeline` class, the data processing methods are directly implemented within the class."
   ]
  },
  {
   "cell_type": "code",
   "execution_count": null,
   "id": "def2fc46",
   "metadata": {},
   "outputs": [],
   "source": [
    "import pandas as pd\n",
    "\n",
    "\n",
    "class DataPipeline:\n",
    "    def drop_missing_data(self, data: pd.DataFrame) -> pd.DataFrame:\n",
    "        return data.dropna()\n",
    "\n",
    "    def standardize_data(self, data: pd.DataFrame) -> pd.DataFrame:\n",
    "        return (data - data.mean()) / data.std()\n",
    "\n",
    "    def process(self, data: pd.DataFrame) -> pd.DataFrame:\n",
    "        return data.pipe(self.drop_missing_data).pipe(self.standardize_data)\n",
    "\n",
    "\n",
    "pipeline = DataPipeline()\n",
    "data = pd.DataFrame({\"A\": [1, 2, 3, None, 5], \"B\": [5, 4, 2, 1, 3]})\n",
    "processed_data = pipeline.process(data)"
   ]
  },
  {
   "cell_type": "markdown",
   "id": "39c5d537",
   "metadata": {},
   "source": [
    "Adding another processing step to the pipeline requires modifying the `process` method."
   ]
  },
  {
   "cell_type": "code",
   "execution_count": null,
   "id": "cff895ec",
   "metadata": {},
   "outputs": [],
   "source": [
    "import pandas as pd\n",
    "\n",
    "\n",
    "class DataPipeline:\n",
    "    def drop_missing_data(self, data: pd.DataFrame) -> pd.DataFrame:\n",
    "        return data.dropna()\n",
    "\n",
    "    def standardize_data(self, data: pd.DataFrame) -> pd.DataFrame:\n",
    "        return (data - data.mean()) / data.std()\n",
    "\n",
    "    # Adding this\n",
    "    def encode_categorical_data(self, data: pd.DataFrame) -> pd.DataFrame:\n",
    "        return pd.get_dummies(data)\n",
    "\n",
    "    # Requires modifying the code\n",
    "    def process(self, data: pd.DataFrame) -> pd.DataFrame:\n",
    "        return (\n",
    "            data.pipe(self.drop_missing_data)\n",
    "            .pipe(self.encode_categorical_data)\n",
    "            .pipe(self.standardize_data)\n",
    "        )\n",
    "\n",
    "\n",
    "pipeline = DataPipeline()\n",
    "data = pd.DataFrame(\n",
    "    {\"A\": [1, 2, 3, None, 5], \"B\": [5, 4, 2, 1, 3], \"C\": [\"a\", \"a\", \"b\", \"b\", \"a\"]}\n",
    ")\n",
    "pipeline.process(data)"
   ]
  },
  {
   "cell_type": "markdown",
   "id": "119ca10a",
   "metadata": {},
   "source": [
    "Refactor the `DataPipeline` class to accept pluggable strategies."
   ]
  },
  {
   "cell_type": "code",
   "execution_count": null,
   "id": "f9ade294",
   "metadata": {},
   "outputs": [],
   "source": [
    "from abc import ABC, abstractmethod\n",
    "import pandas as pd\n",
    "\n",
    "\n",
    "class DataProcessingStrategy(ABC):\n",
    "    @abstractmethod\n",
    "    def apply(self, data: pd.DataFrame) -> pd.DataFrame:\n",
    "        pass\n",
    "\n",
    "\n",
    "class DropMissingDataStrategy(DataProcessingStrategy):\n",
    "    def apply(self, data: pd.DataFrame) -> pd.DataFrame:\n",
    "        return data.dropna()\n",
    "\n",
    "\n",
    "class StandardizeDataStrategy(DataProcessingStrategy):\n",
    "    def apply(self, data: pd.DataFrame) -> pd.DataFrame:\n",
    "        return (data - data.mean()) / data.std()\n",
    "\n",
    "\n",
    "class DataPipeline:\n",
    "    def __init__(self):\n",
    "        self.strategies = []\n",
    "\n",
    "    def add_strategy(self, strategy: DataProcessingStrategy):\n",
    "        self.strategies.append(strategy)\n",
    "\n",
    "    def process(self, data: pd.DataFrame) -> pd.DataFrame:\n",
    "        for strategy in self.strategies:\n",
    "            data = strategy.apply(data)\n",
    "        return data\n",
    "\n",
    "\n",
    "pipeline = DataPipeline()\n",
    "pipeline.add_strategy(DropMissingDataStrategy())\n",
    "pipeline.add_strategy(StandardizeDataStrategy())\n",
    "\n",
    "# Imagine we have some sample data\n",
    "data = pd.DataFrame({\"A\": [1, 2, 3, None, 5], \"B\": [5, 4, 2, 1, 3]})\n",
    "\n",
    "pipeline.process(data)"
   ]
  },
  {
   "cell_type": "markdown",
   "id": "ce4de09e",
   "metadata": {},
   "source": [
    "This design ensures the pipeline's processing strategies can be swapped, extended, or reordered without modifying the `DataPipeline` class."
   ]
  },
  {
   "cell_type": "code",
   "execution_count": null,
   "id": "4ecdd8d8",
   "metadata": {},
   "outputs": [],
   "source": [
    "from abc import ABC, abstractmethod\n",
    "import pandas as pd\n",
    "\n",
    "\n",
    "class DataProcessingStrategy(ABC):\n",
    "    @abstractmethod\n",
    "    def apply(self, data: pd.DataFrame) -> pd.DataFrame:\n",
    "        pass\n",
    "\n",
    "\n",
    "class DropMissingDataStrategy(DataProcessingStrategy):\n",
    "    def apply(self, data: pd.DataFrame) -> pd.DataFrame:\n",
    "        return data.dropna()\n",
    "\n",
    "\n",
    "class StandardizeDataStrategy(DataProcessingStrategy):\n",
    "    def apply(self, data: pd.DataFrame) -> pd.DataFrame:\n",
    "        return (data - data.mean()) / data.std()\n",
    "\n",
    "\n",
    "class EncodeDataStrategy(DataProcessingStrategy):\n",
    "    def apply(self, data: pd.DataFrame) -> pd.DataFrame:\n",
    "        return pd.get_dummies(data)\n",
    "\n",
    "\n",
    "class DataPipeline:\n",
    "    def __init__(self):\n",
    "        self.strategies = []\n",
    "\n",
    "    def add_strategy(self, strategy: DataProcessingStrategy):\n",
    "        self.strategies.append(strategy)\n",
    "\n",
    "    def process(self, data: pd.DataFrame) -> pd.DataFrame:\n",
    "        for strategy in self.strategies:\n",
    "            data = strategy.apply(data)\n",
    "        return data\n",
    "\n",
    "\n",
    "pipeline = DataPipeline()\n",
    "pipeline.add_strategy(DropMissingDataStrategy())\n",
    "pipeline.add_strategy(EncodeDataStrategy())\n",
    "pipeline.add_strategy(StandardizeDataStrategy())\n",
    "\n",
    "data = pd.DataFrame(\n",
    "    {\"A\": [1, 2, 3, None, 5], \"B\": [5, 4, 2, 1, 3], \"C\": [\"a\", \"a\", \"b\", \"b\", \"a\"]}\n",
    ")\n",
    "\n",
    "pipeline.process(data)"
   ]
  },
  {
   "cell_type": "markdown",
   "id": "b7222712",
   "metadata": {},
   "source": [
    "### Use Mixins Over Inheritance for Enhanced Modularity"
   ]
  },
  {
   "cell_type": "markdown",
   "id": "90e0917f",
   "metadata": {},
   "source": [
    "Use mixin instead of inheritance to add shared functionality without changing the primary structure of a class.\n",
    "\n",
    "In the following example, the inheritance-based approach assumes that the `PickleableModel` class has a `.model` attribute that needs to be serialized. This assumption may not be true for all subclasses."
   ]
  },
  {
   "cell_type": "code",
   "execution_count": null,
   "id": "08b6f4d8",
   "metadata": {},
   "outputs": [],
   "source": [
    "import joblib\n",
    "from sklearn.cluster import KMeans\n",
    "from sklearn.svm import SVC\n",
    "from sklearn.datasets import make_blobs\n",
    "\n",
    "\n",
    "class PickleableModel:\n",
    "    def to_pickle(self, file_path):\n",
    "        \"\"\"\n",
    "        Serialize the object to a pickle file.\n",
    "        \"\"\"\n",
    "        with open(file_path, \"wb\") as file:\n",
    "            # It's important to only serialize the model attribute here\n",
    "            # otherwise joblib might fail to serialize the object\n",
    "            joblib.dump(self.model, file)\n",
    "\n",
    "    @classmethod\n",
    "    def from_pickle(cls, file_path):\n",
    "        \"\"\"\n",
    "        Deserialize pickle file to an object.\n",
    "        \"\"\"\n",
    "        with open(file_path, \"rb\") as file:\n",
    "            obj = cls()\n",
    "            obj.model = joblib.load(file)\n",
    "            return obj\n",
    "\n",
    "\n",
    "class PickleableKmeans(PickleableModel):\n",
    "    def __init__(self, n_clusters=3, **kwargs):\n",
    "        self.model = KMeans(n_clusters=n_clusters, **kwargs)\n",
    "\n",
    "    def fit(self, X, y=None):\n",
    "        self.model.fit(X)\n",
    "\n",
    "    def predict(self, X):\n",
    "        return self.model.predict(X)\n",
    "\n",
    "\n",
    "class PickleableSVM(PickleableModel):\n",
    "    def __init__(self, C=1.0, kernel=\"rbf\", **kwargs):\n",
    "        self.model = SVC(C=C, kernel=kernel, **kwargs)\n",
    "\n",
    "    def fit(self, X, y):\n",
    "        self.model.fit(X, y)\n",
    "\n",
    "    def predict(self, X):\n",
    "        return self.model.predict(X)"
   ]
  },
  {
   "cell_type": "code",
   "execution_count": null,
   "id": "fd3022df",
   "metadata": {},
   "outputs": [],
   "source": [
    "X, _ = make_blobs(n_samples=300, centers=4, n_features=2, random_state=42)\n",
    "\n",
    "kmeans = PickleableKmeans(n_clusters=3, n_init=\"auto\")\n",
    "kmeans.fit(X)\n",
    "\n",
    "# Serialize the model to a file\n",
    "kmeans_file_path = \"kmeans_model.pkl\"\n",
    "kmeans.to_pickle(kmeans_file_path)"
   ]
  },
  {
   "cell_type": "markdown",
   "id": "f819e383",
   "metadata": {},
   "source": [
    "The `PickleableMixin` can be applied to any class that needs serialization, not just machine learning models."
   ]
  },
  {
   "cell_type": "code",
   "execution_count": null,
   "id": "105f20ad",
   "metadata": {},
   "outputs": [],
   "source": [
    "class PickleableMixin:\n",
    "    def to_pickle(self, file_path):\n",
    "        \"\"\"\n",
    "        Serialize the object to a pickle file.\n",
    "        \"\"\"\n",
    "        with open(file_path, \"wb\") as file:\n",
    "            joblib.dump(self, file)\n",
    "\n",
    "    @staticmethod\n",
    "    def from_pickle(file_path):\n",
    "        \"\"\"\n",
    "        Deserialize pickle file to an object.\n",
    "        \"\"\"\n",
    "        with open(file_path, \"rb\") as file:\n",
    "            return joblib.load(file)\n",
    "\n",
    "\n",
    "# Enhanced models with serialization capability\n",
    "class PickleableKmeans(KMeans, PickleableMixin):\n",
    "    pass\n",
    "\n",
    "\n",
    "class PickleableSVM(SVC, PickleableMixin):\n",
    "    pass"
   ]
  },
  {
   "cell_type": "code",
   "execution_count": null,
   "id": "034f1a5d",
   "metadata": {},
   "outputs": [],
   "source": [
    "kmeans = PickleableKmeans(n_clusters=3, n_init=\"auto\")\n",
    "kmeans.fit(X)\n",
    "\n",
    "# Serialize the model to a file\n",
    "kmeans_file_path = \"kmeans_model.pkl\"\n",
    "kmeans.to_pickle(kmeans_file_path)"
   ]
  },
  {
   "cell_type": "markdown",
   "id": "bacd1a0b",
   "metadata": {},
   "source": [
    "### Embracing Duck Typing for Cleaner, More Adaptable Data Science Code"
   ]
  },
  {
   "cell_type": "markdown",
   "id": "d14943a6",
   "metadata": {},
   "source": [
    "Duck typing comes from the phrase \"If it walks like a duck and quacks like a duck, then it must be a duck.\" \n",
    "\n",
    "This lets you write flexible code that works with different types of objects, as long as they have the methods or attributes you're using.\n",
    "\n",
    "For data scientists, duck typing allows creating versatile functions that work with various data structures without explicitly checking their types.\n",
    "\n",
    "Here's a simple example:"
   ]
  },
  {
   "cell_type": "code",
   "execution_count": null,
   "id": "381b8697",
   "metadata": {},
   "outputs": [],
   "source": [
    "import numpy as np\n",
    "import pandas as pd\n",
    "\n",
    "\n",
    "class CustomDataFrame:\n",
    "    def __init__(self, data):\n",
    "        self.data = data\n",
    "\n",
    "    def mean(self):\n",
    "        return np.mean(self.data)\n",
    "\n",
    "    def std(self):\n",
    "        return np.std(self.data)\n",
    "\n",
    "\n",
    "def analyze_data(data):\n",
    "    print(f\"Mean: {data.mean()}\")\n",
    "    print(f\"Standard Deviation: {data.std()}\")\n",
    "\n",
    "\n",
    "# These all work, thanks to duck typing\n",
    "numpy_array = np.array([1, 2, 3, 4, 5])\n",
    "pandas_series = pd.Series([1, 2, 3, 4, 5])\n",
    "custom_df = CustomDataFrame([1, 2, 3, 4, 5])\n",
    "\n",
    "analyze_data(numpy_array)\n",
    "analyze_data(pandas_series)\n",
    "analyze_data(custom_df)"
   ]
  },
  {
   "cell_type": "markdown",
   "id": "86aa862c",
   "metadata": {},
   "source": [
    "In this example, the `analyze_data` function works with NumPy arrays, Pandas Series, and our custom `CustomDataFrame` class, because they all have `mean` and `std` methods. This flexibility is powerful in data science workflows where you might be working with various data structures.\n",
    "\n",
    "This flexibility is valuable in data science because:\n",
    "\n",
    "1. It saves time: You don't need separate functions for different data types.\n",
    "\n",
    "Bad example:"
   ]
  },
  {
   "cell_type": "code",
   "execution_count": null,
   "id": "f3acd339",
   "metadata": {},
   "outputs": [],
   "source": [
    "def analyze_numpy_array(data):\n",
    "    print(f\"Mean: {np.mean(data)}\")\n",
    "    print(f\"Standard Deviation: {np.std(data)}\")\n",
    "\n",
    "def analyze_pandas_series(data):\n",
    "    print(f\"Mean: {data.mean()}\")\n",
    "    print(f\"Standard Deviation: {data.std()}\")\n",
    "\n",
    "def analyze_custom_df(data):\n",
    "    print(f\"Mean: {data.mean()}\")\n",
    "    print(f\"Standard Deviation: {data.std()}\")\n",
    "\n",
    "numpy_array = np.array([1, 2, 3, 4, 5])\n",
    "pandas_series = pd.Series([1, 2, 3, 4, 5])\n",
    "custom_df = CustomDataFrame([1, 2, 3, 4, 5])\n",
    "\n",
    "analyze_numpy_array(numpy_array)\n",
    "analyze_pandas_series(pandas_series)\n",
    "analyze_custom_df(custom_df)"
   ]
  },
  {
   "cell_type": "markdown",
   "id": "6d1e297a",
   "metadata": {},
   "source": [
    "2. It's cleaner: You avoid lots of `if` statements checking for types."
   ]
  },
  {
   "cell_type": "code",
   "execution_count": null,
   "id": "51277d4c",
   "metadata": {},
   "outputs": [],
   "source": [
    "def analyze_data(data):\n",
    "    if isinstance(data, np.ndarray):\n",
    "        mean = np.mean(data)\n",
    "        std = np.std(data)\n",
    "    elif isinstance(data, pd.Series):\n",
    "        mean = data.mean()\n",
    "        std = data.std()\n",
    "    elif isinstance(data, CustomDataFrame):\n",
    "        mean = data.mean()\n",
    "        std = data.std()\n",
    "    else:\n",
    "        raise TypeError(\"Unsupported data type\")\n",
    "    \n",
    "    print(f\"Mean: {mean}\")\n",
    "    print(f\"Standard Deviation: {std}\")\n",
    "\n",
    "numpy_array = np.array([1, 2, 3, 4, 5])\n",
    "pandas_series = pd.Series([1, 2, 3, 4, 5])\n",
    "custom_df = CustomDataFrame([1, 2, 3, 4, 5])\n",
    "python_list = [1, 2, 3, 4, 5]\n",
    "\n",
    "analyze_data(numpy_array)\n",
    "analyze_data(pandas_series)\n",
    "analyze_data(custom_df)"
   ]
  },
  {
   "cell_type": "markdown",
   "id": "95a15c3c",
   "metadata": {},
   "source": [
    "3. It's more adaptable: Your code can handle new data types easily.\n",
    "\n",
    "Bad example:"
   ]
  },
  {
   "cell_type": "code",
   "execution_count": null,
   "id": "c5b6e6ed",
   "metadata": {},
   "outputs": [],
   "source": [
    "def analyze_data(data):\n",
    "    if isinstance(data, np.ndarray):\n",
    "        print(f\"Mean: {np.mean(data)}\")\n",
    "        print(f\"Standard Deviation: {np.std(data)}\")\n",
    "    elif isinstance(data, pd.Series):\n",
    "        print(f\"Mean: {data.mean()}\")\n",
    "        print(f\"Standard Deviation: {data.std()}\")\n",
    "    elif isinstance(data, CustomDataFrame):\n",
    "        print(f\"Mean: {data.mean()}\")\n",
    "        print(f\"Standard Deviation: {data.std()}\")\n",
    "    else:\n",
    "        raise TypeError(\"Unsupported data type\")\n",
    "\n",
    "\n",
    "# If you introduce a new data type, you have to modify the function\n",
    "class NewDataType:\n",
    "    def __init__(self, data):\n",
    "        self.data = data\n",
    "    def mean(self):\n",
    "        return sum(self.data) / len(self.data)\n",
    "    def std(self):\n",
    "        mean = self.mean()\n",
    "        return (sum((x - mean) ** 2 for x in self.data) / len(self.data)) ** 0.5\n",
    "\n",
    "new_data = NewDataType([1, 2, 3, 4, 5])\n",
    "# This will raise a TypeError\n",
    "# analyze_data(new_data)"
   ]
  }
 ],
 "metadata": {
  "jupytext": {
   "text_representation": {
    "extension": ".md",
    "format_name": "myst",
    "format_version": 0.13,
    "jupytext_version": "1.16.7"
   }
  },
  "kernelspec": {
   "display_name": "Python 3 (ipykernel)",
   "language": "python",
   "name": "python3"
  },
  "source_map": [
   12,
   16,
   20,
   24,
   28,
   47,
   56,
   80,
   83,
   87,
   91,
   97,
   123,
   127,
   133,
   154,
   175,
   180,
   184,
   190,
   202,
   206,
   208,
   212,
   216,
   231,
   235,
   241,
   252,
   264,
   268,
   275,
   291,
   295,
   299,
   319,
   323,
   329,
   340,
   344,
   366,
   370,
   376,
   394,
   396,
   400,
   408,
   421,
   425,
   429,
   444,
   448,
   452,
   456,
   462,
   480,
   486,
   492,
   512,
   518,
   522,
   526,
   532,
   542,
   558,
   562,
   566,
   572,
   590,
   594,
   623,
   627,
   669,
   673,
   722,
   726,
   732,
   782,
   791,
   795,
   822,
   829,
   833,
   843,
   872,
   882,
   902,
   906,
   931,
   937
  ]
 },
 "nbformat": 4,
 "nbformat_minor": 5
}