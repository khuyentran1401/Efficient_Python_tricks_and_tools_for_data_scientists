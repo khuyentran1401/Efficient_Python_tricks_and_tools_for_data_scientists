{
 "cells": [
  {
   "attachments": {},
   "cell_type": "markdown",
   "id": "1fccc8a5",
   "metadata": {},
   "source": [
    "## Classes"
   ]
  },
  {
   "attachments": {},
   "cell_type": "markdown",
   "id": "cc5b97a4",
   "metadata": {},
   "source": [
    "![](../img/class.png)"
   ]
  },
  {
   "attachments": {},
   "cell_type": "markdown",
   "id": "b4819c3a",
   "metadata": {},
   "source": [
    "### Inheritance in Python"
   ]
  },
  {
   "attachments": {},
   "cell_type": "markdown",
   "id": "15208b29",
   "metadata": {},
   "source": [
    "Have you ever had multiple classes that have similar attributes and methods? In the code below, the class `Dachshund` and `Poodle` have similar attributes (`color`) and methods (`show_info`). "
   ]
  },
  {
   "cell_type": "code",
   "execution_count": 5,
   "id": "865533b6",
   "metadata": {},
   "outputs": [
    {
     "name": "stdout",
     "output_type": "stream",
     "text": [
      "This is a Dachshund with black color.\n"
     ]
    }
   ],
   "source": [
    "class Dachshund:\n",
    "    def __init__(self, color: str):\n",
    "        self.color = color\n",
    "\n",
    "    def show_info(self):\n",
    "        print(f\"This is a Dachshund with {self.color} color.\")\n",
    "\n",
    "\n",
    "class Poodle:\n",
    "    def __init__(self, color: str):\n",
    "        self.color = color\n",
    "\n",
    "    def show_info(self):\n",
    "        print(f\"This is a Poodle with {self.color} color.\")\n",
    "\n",
    "\n",
    "bim = Dachshund(\"black\")\n",
    "bim.show_info()\n"
   ]
  },
  {
   "attachments": {},
   "cell_type": "markdown",
   "id": "754f0769",
   "metadata": {},
   "source": [
    "If so, use inheritance to organize your classes. Inheritance allows us to define a parent class and child classes. A child class inherits all the methods and attributes of the parent class. \n",
    "\n",
    "`super().__init__` makes the child class inherit all the methods and properties from its parent.\n",
    "\n",
    "In the code below, we define the parent class to be `Dog` and the child classes to be `Dachshund` and `Poodle`. With class inheritance, we avoid repeating the same piece of code multiple times. \n",
    "\n"
   ]
  },
  {
   "cell_type": "code",
   "execution_count": 15,
   "id": "8257ca68",
   "metadata": {},
   "outputs": [
    {
     "name": "stdout",
     "output_type": "stream",
     "text": [
      "This is a Dachshund with black color.\n"
     ]
    }
   ],
   "source": [
    "class Dog:\n",
    "    def __init__(self, type_: str, color: str):\n",
    "        self.type = type_\n",
    "        self.color = color\n",
    "\n",
    "    def show_info(self):\n",
    "        print(f\"This is a {self.type} with {self.color} color.\")\n",
    "\n",
    "\n",
    "class Dachshund(Dog):\n",
    "    def __init__(self, color: str):\n",
    "        super().__init__(type_=\"Dachshund\", color=color)\n",
    "\n",
    "\n",
    "class Poodle(Dog):\n",
    "    def __init__(self, color: str):\n",
    "        super().__init__(type_=\"Poodle\", color=color)\n",
    "\n",
    "\n",
    "bim = Dachshund(\"black\")\n",
    "bim.show_info()\n"
   ]
  },
  {
   "cell_type": "code",
   "execution_count": 11,
   "id": "798bae91",
   "metadata": {},
   "outputs": [
    {
     "name": "stdout",
     "output_type": "stream",
     "text": [
      "This is a Poodle with brown color.\n"
     ]
    }
   ],
   "source": [
    "coco = Poodle(\"brown\")\n",
    "coco.show_info()\n"
   ]
  },
  {
   "attachments": {},
   "cell_type": "markdown",
   "id": "817a0eff",
   "metadata": {},
   "source": [
    "Learn more about inheritance in Python [here](https://www.w3schools.com/python/python_inheritance.asp)."
   ]
  },
  {
   "attachments": {},
   "cell_type": "markdown",
   "id": "45c8847f",
   "metadata": {},
   "source": [
    "### Abstract Classes: Declare Methods without Implementation"
   ]
  },
  {
   "attachments": {},
   "cell_type": "markdown",
   "id": "58649bd2",
   "metadata": {},
   "source": [
    "Sometimes you might want different classes to use the same attributes and methods. But the implementation of those methods can be slightly different in each class.\n",
    "\n",
    "A good way to implement this is to use abstract classes. An abstract class contains one or more abstract methods.\n",
    "\n",
    "An abstract method is a method that is declared but contains no implementation. The abstract method requires subclasses to provide implementations."
   ]
  },
  {
   "cell_type": "code",
   "execution_count": 1,
   "id": "3d560ac4",
   "metadata": {
    "ExecuteTime": {
     "end_time": "2021-08-30T00:53:57.751754Z",
     "start_time": "2021-08-30T00:53:57.725292Z"
    }
   },
   "outputs": [
    {
     "name": "stdout",
     "output_type": "stream",
     "text": [
      "Pepper says: Woof\n",
      "Bella says: Meows\n"
     ]
    }
   ],
   "source": [
    "from abc import ABC, abstractmethod \n",
    "\n",
    "class Animal(ABC):\n",
    "\n",
    "    def __init__(self, name: str):\n",
    "        self.name = name \n",
    "        super().__init__()\n",
    "\n",
    "    @abstractmethod \n",
    "    def make_sound(self):\n",
    "        pass \n",
    "\n",
    "class Dog(Animal):\n",
    "    def make_sound(self):\n",
    "        print(f'{self.name} says: Woof')\n",
    "\n",
    "class Cat(Animal):\n",
    "    def make_sound(self):\n",
    "        print(f'{self.name} says: Meows')\n",
    "\n",
    "Dog('Pepper').make_sound()\n",
    "Cat('Bella').make_sound()"
   ]
  },
  {
   "attachments": {},
   "cell_type": "markdown",
   "id": "dd228f80",
   "metadata": {},
   "source": [
    "### Inheritance vs. Composition: Choose the Right Design Approach"
   ]
  },
  {
   "attachments": {},
   "cell_type": "markdown",
   "id": "0eaec5ae",
   "metadata": {},
   "source": [
    "In Python, inheritance is used when one class is a specialized version of another class. In the following example, the `WholeMilk` class represents a specific type of milk."
   ]
  },
  {
   "cell_type": "code",
   "execution_count": null,
   "id": "79f935ef",
   "metadata": {},
   "outputs": [],
   "source": [
    "class Milk:\n",
    "    def __init__(self, name: str, fat_content: float):\n",
    "        self.name = name\n",
    "        self.fat_content = fat_content\n",
    "\n",
    "    def prepare(self):\n",
    "        print(f\"Preparing {self.name} milk...\")\n",
    "\n",
    "    def serve(self):\n",
    "        print(f\"Serving {self.name} milk...\")\n",
    "\n",
    "class WholeMilk(Milk):\n",
    "    def __init__(self):\n",
    "        super().__init__(\"Whole\", 3.5)\n",
    "\n",
    "    def prepare(self):\n",
    "        super().prepare()\n",
    "        print(f\"Adding cream to {self.name} milk...\")\n",
    "\n",
    "    def serve(self):\n",
    "        super().serve()\n",
    "        print(f\"Serving {self.name} milk with cream...\")"
   ]
  },
  {
   "attachments": {},
   "cell_type": "markdown",
   "id": "1ef3ff76",
   "metadata": {},
   "source": [
    "On the other hand, composition is used when one class forms a \"has-a\" relationship with another class. In the following example, the `MilkTea` class contains an instance of `Milk` as an attribute. \n",
    "\n",
    "By using composition, the `MilkTea` class can use the functionalities of the `Milk` class without inheriting its attributes and methods. This design enables:\n",
    "- Substituting the milk implementation without impacting the `MilkTea` class. \n",
    "- Reusing the `Milk` class in other classes, such as `Cake`."
   ]
  },
  {
   "cell_type": "code",
   "execution_count": 1,
   "id": "8765da79",
   "metadata": {},
   "outputs": [
    {
     "name": "stdout",
     "output_type": "stream",
     "text": [
      "Preparing Whole milk...\n",
      "Adding 10% sugar...\n",
      "Serving the MilkTea...\n"
     ]
    }
   ],
   "source": [
    "class Milk:\n",
    "    def __init__(self, name: str, fat_content: float):\n",
    "        self.name = name\n",
    "        self.fat_content = fat_content\n",
    "\n",
    "    def prepare(self):\n",
    "        print(f\"Preparing {self.name} milk...\")\n",
    "\n",
    "\n",
    "class MilkTea:\n",
    "    def __init__(self, milk: Milk, sugar_percentage: float):\n",
    "        self.milk = milk\n",
    "        self.sugar_percentage = sugar_percentage\n",
    "\n",
    "    def prepare(self):\n",
    "        self.milk.prepare()\n",
    "        print(f\"Adding {self.sugar_percentage}% sugar...\")\n",
    "\n",
    "    def serve(self):\n",
    "        print(\"Serving the MilkTea...\")\n",
    "\n",
    "\n",
    "# Create a MilkTea object\n",
    "milk_tea = MilkTea(Milk(\"Whole\", 3.5), 10)\n",
    "\n",
    "# Prepare the MilkTea\n",
    "milk_tea.prepare()\n",
    "\n",
    "# Serve the MilkTea\n",
    "milk_tea.serve()\n"
   ]
  },
  {
   "attachments": {},
   "cell_type": "markdown",
   "id": "f2426fc4",
   "metadata": {},
   "source": [
    "### Distinguishing Instance-Level and Class Methods\n"
   ]
  },
  {
   "attachments": {},
   "cell_type": "markdown",
   "id": "0fd4cc9e",
   "metadata": {},
   "source": [
    "An instance-level method requires instantiating a class object to operate, while a class method doesn't.\n",
    "\n",
    "Class methods can provide alternate ways to construct objects. In the code below, the `from_csv` class method instantiates the class by reading data from a CSV file."
   ]
  },
  {
   "cell_type": "code",
   "execution_count": 22,
   "id": "69f4f781",
   "metadata": {
    "tags": [
     "remove-cell"
    ]
   },
   "outputs": [],
   "source": [
    "!echo \"Name,Age,Country\" > data.csv && echo \"Alice,25,USA\" >> data.csv && echo \"Bob,30,Canada\" >> data.csv"
   ]
  },
  {
   "cell_type": "code",
   "execution_count": 26,
   "id": "53c1614d",
   "metadata": {
    "ExecuteTime": {
     "end_time": "2021-08-30T00:54:55.629438Z",
     "start_time": "2021-08-30T00:54:55.618862Z"
    }
   },
   "outputs": [
    {
     "name": "stdout",
     "output_type": "stream",
     "text": [
      "Shape of data: (3, 2)\n"
     ]
    }
   ],
   "source": [
    "import pandas as pd\n",
    "\n",
    "class DataAnalyzer:\n",
    "    def __init__(self, data):\n",
    "        self.data = data\n",
    "\n",
    "    def analyze(self): # instance-level method\n",
    "        print(f\"Shape of data: {self.data.shape}\")\n",
    "\n",
    "    @classmethod\n",
    "    def from_csv(cls, csv_path): # class method\n",
    "        data = pd.read_csv(csv_path)\n",
    "        return cls(data)\n",
    "\n",
    "\n",
    "data = pd.DataFrame({'a': [1, 2, 3], 'b': [4, 5, 6]})\n",
    "analyzer = DataAnalyzer(data)\n",
    "analyzer.analyze()"
   ]
  },
  {
   "cell_type": "code",
   "execution_count": 27,
   "id": "0afa6c77",
   "metadata": {
    "ExecuteTime": {
     "end_time": "2021-08-30T00:55:16.233030Z",
     "start_time": "2021-08-30T00:55:16.226939Z"
    }
   },
   "outputs": [
    {
     "name": "stdout",
     "output_type": "stream",
     "text": [
      "Shape of data: (2, 3)\n"
     ]
    }
   ],
   "source": [
    "# Using the class method to create an instance from a CSV file\n",
    "csv_file_path = \"data.csv\"\n",
    "analyzer = DataAnalyzer.from_csv(csv_file_path) \n",
    "analyzer.analyze()"
   ]
  },
  {
   "attachments": {},
   "cell_type": "markdown",
   "id": "6abd916d",
   "metadata": {},
   "source": [
    "### getattr: a Better Way to Get the Attribute of a Class"
   ]
  },
  {
   "attachments": {},
   "cell_type": "markdown",
   "id": "5ab19f8e",
   "metadata": {},
   "source": [
    "If you want to get a default value when calling an attribute that is not in a class, use `getattr()` method.\n",
    "\n",
    "The `getattr(class, attribute_name)` method simply gets the value of an attribute of a class. However, if the attribute is not found in a class, it returns the default value provided to the function."
   ]
  },
  {
   "cell_type": "code",
   "execution_count": 8,
   "id": "a8a0aee1",
   "metadata": {
    "ExecuteTime": {
     "end_time": "2021-08-30T00:59:12.972426Z",
     "start_time": "2021-08-30T00:59:12.942780Z"
    }
   },
   "outputs": [
    {
     "name": "stdout",
     "output_type": "stream",
     "text": [
      "The color of apple is red\n"
     ]
    },
    {
     "data": {
      "application/javascript": "\n            setTimeout(function() {\n                var nbb_cell_id = 8;\n                var nbb_unformatted_code = \"\\nclass Food:\\n    def __init__(self, name: str, color: str):\\n        self.name = name \\n        self.color = color \\n\\napple = Food('apple', 'red')\\n\\nprint(\\\"The color of apple is\\\", getattr(apple, 'color', 'yellow'))\";\n                var nbb_formatted_code = \"class Food:\\n    def __init__(self, name: str, color: str):\\n        self.name = name\\n        self.color = color\\n\\n\\napple = Food(\\\"apple\\\", \\\"red\\\")\\n\\nprint(\\\"The color of apple is\\\", getattr(apple, \\\"color\\\", \\\"yellow\\\"))\";\n                var nbb_cells = Jupyter.notebook.get_cells();\n                for (var i = 0; i < nbb_cells.length; ++i) {\n                    if (nbb_cells[i].input_prompt_number == nbb_cell_id) {\n                        if (nbb_cells[i].get_text() == nbb_unformatted_code) {\n                             nbb_cells[i].set_text(nbb_formatted_code);\n                        }\n                        break;\n                    }\n                }\n            }, 500);\n            ",
      "text/plain": [
       "<IPython.core.display.Javascript object>"
      ]
     },
     "metadata": {},
     "output_type": "display_data"
    }
   ],
   "source": [
    "class Food:\n",
    "    def __init__(self, name: str, color: str):\n",
    "        self.name = name\n",
    "        self.color = color\n",
    "\n",
    "\n",
    "apple = Food(\"apple\", \"red\")\n",
    "\n",
    "print(\"The color of apple is\", getattr(apple, \"color\", \"yellow\"))"
   ]
  },
  {
   "cell_type": "code",
   "execution_count": 9,
   "id": "82d0b0d2",
   "metadata": {
    "ExecuteTime": {
     "end_time": "2021-08-30T00:59:13.606580Z",
     "start_time": "2021-08-30T00:59:13.591580Z"
    }
   },
   "outputs": [
    {
     "name": "stdout",
     "output_type": "stream",
     "text": [
      "The flavor of apple is sweet\n"
     ]
    },
    {
     "data": {
      "application/javascript": "\n            setTimeout(function() {\n                var nbb_cell_id = 9;\n                var nbb_unformatted_code = \"print(\\\"The flavor of apple is\\\", getattr(apple, 'flavor', 'sweet'))\";\n                var nbb_formatted_code = \"print(\\\"The flavor of apple is\\\", getattr(apple, \\\"flavor\\\", \\\"sweet\\\"))\";\n                var nbb_cells = Jupyter.notebook.get_cells();\n                for (var i = 0; i < nbb_cells.length; ++i) {\n                    if (nbb_cells[i].input_prompt_number == nbb_cell_id) {\n                        if (nbb_cells[i].get_text() == nbb_unformatted_code) {\n                             nbb_cells[i].set_text(nbb_formatted_code);\n                        }\n                        break;\n                    }\n                }\n            }, 500);\n            ",
      "text/plain": [
       "<IPython.core.display.Javascript object>"
      ]
     },
     "metadata": {},
     "output_type": "display_data"
    }
   ],
   "source": [
    "print(\"The flavor of apple is\", getattr(apple, \"flavor\", \"sweet\"))"
   ]
  },
  {
   "cell_type": "code",
   "execution_count": 10,
   "id": "8efa56b6",
   "metadata": {
    "ExecuteTime": {
     "end_time": "2021-08-30T00:59:14.290269Z",
     "start_time": "2021-08-30T00:59:14.258917Z"
    }
   },
   "outputs": [
    {
     "ename": "AttributeError",
     "evalue": "'Food' object has no attribute 'sweet'",
     "output_type": "error",
     "traceback": [
      "\u001b[0;31m---------------------------------------------------------------------------\u001b[0m",
      "\u001b[0;31mAttributeError\u001b[0m                            Traceback (most recent call last)",
      "\u001b[0;32m/tmp/ipykernel_337430/3178150741.py\u001b[0m in \u001b[0;36m<module>\u001b[0;34m\u001b[0m\n\u001b[0;32m----> 1\u001b[0;31m \u001b[0mprint\u001b[0m\u001b[0;34m(\u001b[0m\u001b[0;34m\"The flavor of apple is\"\u001b[0m\u001b[0;34m,\u001b[0m \u001b[0mapple\u001b[0m\u001b[0;34m.\u001b[0m\u001b[0msweet\u001b[0m\u001b[0;34m)\u001b[0m\u001b[0;34m\u001b[0m\u001b[0;34m\u001b[0m\u001b[0m\n\u001b[0m",
      "\u001b[0;31mAttributeError\u001b[0m: 'Food' object has no attribute 'sweet'"
     ]
    },
    {
     "data": {
      "application/javascript": "\n            setTimeout(function() {\n                var nbb_cell_id = 10;\n                var nbb_unformatted_code = \"print(\\\"The flavor of apple is\\\", apple.sweet)\";\n                var nbb_formatted_code = \"print(\\\"The flavor of apple is\\\", apple.sweet)\";\n                var nbb_cells = Jupyter.notebook.get_cells();\n                for (var i = 0; i < nbb_cells.length; ++i) {\n                    if (nbb_cells[i].input_prompt_number == nbb_cell_id) {\n                        if (nbb_cells[i].get_text() == nbb_unformatted_code) {\n                             nbb_cells[i].set_text(nbb_formatted_code);\n                        }\n                        break;\n                    }\n                }\n            }, 500);\n            ",
      "text/plain": [
       "<IPython.core.display.Javascript object>"
      ]
     },
     "metadata": {},
     "output_type": "display_data"
    }
   ],
   "source": [
    "print(\"The flavor of apple is\", apple.sweet)"
   ]
  },
  {
   "attachments": {},
   "cell_type": "markdown",
   "id": "4cb1dbb8",
   "metadata": {},
   "source": [
    "### `__call__`: Call your Class Instance like a Function"
   ]
  },
  {
   "attachments": {},
   "cell_type": "markdown",
   "id": "8df94fed",
   "metadata": {},
   "source": [
    "If you want to call your class instance like a function, add `__call__` method to your class."
   ]
  },
  {
   "cell_type": "code",
   "execution_count": 11,
   "id": "0f79c0b1",
   "metadata": {
    "ExecuteTime": {
     "end_time": "2021-08-30T00:59:18.557329Z",
     "start_time": "2021-08-30T00:59:18.532123Z"
    }
   },
   "outputs": [
    {
     "name": "stdout",
     "output_type": "stream",
     "text": [
      "Instance is created\n",
      "Instance is called\n"
     ]
    },
    {
     "data": {
      "application/javascript": "\n            setTimeout(function() {\n                var nbb_cell_id = 11;\n                var nbb_unformatted_code = \"class DataLoader:\\n\\n\\tdef __init__(self, data_dir: str):\\n\\t\\tself.data_dir = data_dir\\n\\t\\tprint(\\\"Instance is created\\\")\\n\\n\\tdef __call__(self):\\n\\t\\tprint(\\\"Instance is called\\\")\\n\\ndata_loader = DataLoader('my_data_dir')\\n# Instance is created\\n\\ndata_loader()\\n# Instance is called\";\n                var nbb_formatted_code = \"class DataLoader:\\n    def __init__(self, data_dir: str):\\n        self.data_dir = data_dir\\n        print(\\\"Instance is created\\\")\\n\\n    def __call__(self):\\n        print(\\\"Instance is called\\\")\\n\\n\\ndata_loader = DataLoader(\\\"my_data_dir\\\")\\n# Instance is created\\n\\ndata_loader()\\n# Instance is called\";\n                var nbb_cells = Jupyter.notebook.get_cells();\n                for (var i = 0; i < nbb_cells.length; ++i) {\n                    if (nbb_cells[i].input_prompt_number == nbb_cell_id) {\n                        if (nbb_cells[i].get_text() == nbb_unformatted_code) {\n                             nbb_cells[i].set_text(nbb_formatted_code);\n                        }\n                        break;\n                    }\n                }\n            }, 500);\n            ",
      "text/plain": [
       "<IPython.core.display.Javascript object>"
      ]
     },
     "metadata": {},
     "output_type": "display_data"
    }
   ],
   "source": [
    "class DataLoader:\n",
    "    def __init__(self, data_dir: str):\n",
    "        self.data_dir = data_dir\n",
    "        print(\"Instance is created\")\n",
    "\n",
    "    def __call__(self):\n",
    "        print(\"Instance is called\")\n",
    "\n",
    "\n",
    "data_loader = DataLoader(\"my_data_dir\")\n",
    "# Instance is created\n",
    "\n",
    "data_loader()\n",
    "# Instance is called"
   ]
  },
  {
   "attachments": {},
   "cell_type": "markdown",
   "id": "eed13008",
   "metadata": {},
   "source": [
    "### Instance Comparison in Python Classes"
   ]
  },
  {
   "attachments": {},
   "cell_type": "markdown",
   "id": "0d605ea9",
   "metadata": {},
   "source": [
    "Even if two class instances have the same attributes, they are not equal because they are stored in separate memory locations.\n",
    "\n",
    "To define how class instances should be compared, add the `__eq__` method."
   ]
  },
  {
   "cell_type": "code",
   "execution_count": 4,
   "id": "d61ad733",
   "metadata": {},
   "outputs": [
    {
     "data": {
      "text/plain": [
       "False"
      ]
     },
     "execution_count": 4,
     "metadata": {},
     "output_type": "execute_result"
    }
   ],
   "source": [
    "class Dog:\n",
    "    def __init__(self, name: str):\n",
    "        self.name = name\n",
    "\n",
    "\n",
    "dog1 = Dog(\"Bim\")\n",
    "dog2 = Dog(\"Bim\")\n",
    "dog1 == dog2\n"
   ]
  },
  {
   "cell_type": "code",
   "execution_count": 5,
   "id": "ffba882d",
   "metadata": {},
   "outputs": [
    {
     "data": {
      "text/plain": [
       "True"
      ]
     },
     "execution_count": 5,
     "metadata": {},
     "output_type": "execute_result"
    }
   ],
   "source": [
    "class Dog:\n",
    "    def __init__(self, name: str):\n",
    "        self.name = name\n",
    "\n",
    "    def __eq__(self, other):\n",
    "        return self.name == other.name\n",
    "\n",
    "\n",
    "dog1 = Dog(\"Bim\")\n",
    "dog2 = Dog(\"Bim\")\n",
    "dog1 == dog2\n"
   ]
  },
  {
   "attachments": {},
   "cell_type": "markdown",
   "id": "7c083eeb",
   "metadata": {},
   "source": [
    "### Static method: use the function without adding the attributes required for a new instance"
   ]
  },
  {
   "attachments": {},
   "cell_type": "markdown",
   "id": "6218e4de",
   "metadata": {},
   "source": [
    "Have you ever had a function in your class that doesn’t access any properties of a class but fits well in a class? You might find it redundant to instantiate the class to use that function. That is when you can turn your function into a static method.\n",
    "\n",
    "All you need to turn your function into a static method is the decorator `@staticmethod`. Now you can use the function without adding the attributes required for a new instance.\n",
    "\n"
   ]
  },
  {
   "cell_type": "code",
   "execution_count": 12,
   "id": "3b7208d6",
   "metadata": {
    "ExecuteTime": {
     "end_time": "2021-08-30T01:00:17.808040Z",
     "start_time": "2021-08-30T01:00:17.775913Z"
    }
   },
   "outputs": [
    {
     "name": "stdout",
     "output_type": "stream",
     "text": [
      "My favorite page is \n"
     ]
    },
    {
     "data": {
      "application/javascript": "\n            setTimeout(function() {\n                var nbb_cell_id = 12;\n                var nbb_unformatted_code = \"import re \\n\\nclass ProcessText:\\n    def __init__(self, text_column: str):\\n        self.text_column = text_column\\n\\n    @staticmethod\\n    def remove_URL(sample: str) -> str:\\n        \\\"\\\"\\\"Replace url with empty space\\\"\\\"\\\"\\n        return re.sub(r'http\\\\S+', \\\"\\\", sample)\\n\\ntext = ProcessText.remove_URL('My favorite page is https://www.google.com')\\nprint(text)\";\n                var nbb_formatted_code = \"import re\\n\\n\\nclass ProcessText:\\n    def __init__(self, text_column: str):\\n        self.text_column = text_column\\n\\n    @staticmethod\\n    def remove_URL(sample: str) -> str:\\n        \\\"\\\"\\\"Replace url with empty space\\\"\\\"\\\"\\n        return re.sub(r\\\"http\\\\S+\\\", \\\"\\\", sample)\\n\\n\\ntext = ProcessText.remove_URL(\\\"My favorite page is https://www.google.com\\\")\\nprint(text)\";\n                var nbb_cells = Jupyter.notebook.get_cells();\n                for (var i = 0; i < nbb_cells.length; ++i) {\n                    if (nbb_cells[i].input_prompt_number == nbb_cell_id) {\n                        if (nbb_cells[i].get_text() == nbb_unformatted_code) {\n                             nbb_cells[i].set_text(nbb_formatted_code);\n                        }\n                        break;\n                    }\n                }\n            }, 500);\n            ",
      "text/plain": [
       "<IPython.core.display.Javascript object>"
      ]
     },
     "metadata": {},
     "output_type": "display_data"
    }
   ],
   "source": [
    "import re\n",
    "\n",
    "\n",
    "class ProcessText:\n",
    "    def __init__(self, text_column: str):\n",
    "        self.text_column = text_column\n",
    "\n",
    "    @staticmethod\n",
    "    def remove_URL(sample: str) -> str:\n",
    "        \"\"\"Replace url with empty space\"\"\"\n",
    "        return re.sub(r\"http\\S+\", \"\", sample)\n",
    "\n",
    "\n",
    "text = ProcessText.remove_URL(\"My favorite page is https://www.google.com\")\n",
    "print(text)"
   ]
  },
  {
   "attachments": {},
   "cell_type": "markdown",
   "id": "2a101e4d",
   "metadata": {},
   "source": [
    "### Minimize Data Risks with Python Private Variables"
   ]
  },
  {
   "attachments": {},
   "cell_type": "markdown",
   "id": "8093f7d3",
   "metadata": {},
   "source": [
    "To restrict external access and modification of a variable outside of a class, make it a private variable by using double underscores. This helps minimize the chances of unintended alterations."
   ]
  },
  {
   "cell_type": "code",
   "execution_count": 4,
   "id": "65e3e68a",
   "metadata": {},
   "outputs": [
    {
     "name": "stdout",
     "output_type": "stream",
     "text": [
      "The price of Apples is $2.99\n"
     ]
    },
    {
     "ename": "AttributeError",
     "evalue": "'Grocery' object has no attribute '__price'",
     "output_type": "error",
     "traceback": [
      "\u001b[0;31m---------------------------------------------------------------------------\u001b[0m",
      "\u001b[0;31mAttributeError\u001b[0m                            Traceback (most recent call last)",
      "Cell \u001b[0;32mIn[4], line 18\u001b[0m\n\u001b[1;32m     15\u001b[0m grocery_item\u001b[39m.\u001b[39mget_price()\n\u001b[1;32m     17\u001b[0m \u001b[39m# Access the private variable directly\u001b[39;00m\n\u001b[0;32m---> 18\u001b[0m grocery_item\u001b[39m.\u001b[39;49m__price\n",
      "\u001b[0;31mAttributeError\u001b[0m: 'Grocery' object has no attribute '__price'"
     ]
    }
   ],
   "source": [
    "class Grocery:\n",
    "    def __init__(self, item, price):\n",
    "        # Making 'price' a private variable\n",
    "        self.__price = price\n",
    "        self.item = item\n",
    "\n",
    "    # Getter method to access the private variable 'price'\n",
    "    def get_price(self):\n",
    "        print(f\"The price of {self.item} is ${self.__price}\")\n",
    "\n",
    "\n",
    "# Create an instance of the Grocery class\n",
    "grocery_item = Grocery(\"Apples\", 2.99)\n",
    "\n",
    "# Access the private variable 'price' using the getter method\n",
    "grocery_item.get_price()\n",
    "\n",
    "# Access the private variable directly\n",
    "grocery_item.__price\n"
   ]
  },
  {
   "attachments": {},
   "cell_type": "markdown",
   "id": "2b37956a",
   "metadata": {},
   "source": [
    "### Property Decorator: A Pythonic Way to Use Getters and Setters"
   ]
  },
  {
   "attachments": {},
   "cell_type": "markdown",
   "id": "1188b89a",
   "metadata": {},
   "source": [
    "To define the behaviors that are executed when a class attribute is set, use the `property` decorator.\n",
    "\n",
    "In the code below, the getter method gets the value of the `color` attribute and the setter method restricts the `color` attribute modification to string data types only. "
   ]
  },
  {
   "cell_type": "code",
   "execution_count": 9,
   "id": "c83e352f",
   "metadata": {
    "ExecuteTime": {
     "end_time": "2021-08-30T01:08:59.507066Z",
     "start_time": "2021-08-30T01:08:59.461065Z"
    }
   },
   "outputs": [
    {
     "data": {
      "text/plain": [
       "'red'"
      ]
     },
     "execution_count": 9,
     "metadata": {},
     "output_type": "execute_result"
    }
   ],
   "source": [
    "class Fruit:\n",
    "    def __init__(self, name: str, color: str):\n",
    "        self.name = name\n",
    "        self._color = color\n",
    "\n",
    "    @property # getter method\n",
    "    def color(self):\n",
    "        return self._color\n",
    "\n",
    "    @color.setter # setter method\n",
    "    def color(self, value):\n",
    "        print(\"Setting value of color...\")\n",
    "        if isinstance(value, str):\n",
    "            self._color = value\n",
    "        else:\n",
    "            raise AttributeError(\"Fruit's color must be a string.\")\n",
    "\n",
    "\n",
    "fruit = Fruit(\"apple\", \"red\")\n",
    "fruit.color\n"
   ]
  },
  {
   "cell_type": "code",
   "execution_count": 10,
   "id": "9fa947aa",
   "metadata": {
    "ExecuteTime": {
     "end_time": "2021-08-30T01:09:03.327029Z",
     "start_time": "2021-08-30T01:09:03.301356Z"
    }
   },
   "outputs": [
    {
     "name": "stdout",
     "output_type": "stream",
     "text": [
      "Setting value of color...\n"
     ]
    },
    {
     "data": {
      "text/plain": [
       "'yellow'"
      ]
     },
     "execution_count": 10,
     "metadata": {},
     "output_type": "execute_result"
    }
   ],
   "source": [
    "fruit.color = \"yellow\"\n",
    "fruit.color "
   ]
  },
  {
   "cell_type": "code",
   "execution_count": 11,
   "id": "1b2867b6",
   "metadata": {},
   "outputs": [
    {
     "name": "stdout",
     "output_type": "stream",
     "text": [
      "Setting value of color...\n"
     ]
    },
    {
     "ename": "AttributeError",
     "evalue": "Fruit's color must be a string.",
     "output_type": "error",
     "traceback": [
      "\u001b[0;31m---------------------------------------------------------------------------\u001b[0m",
      "\u001b[0;31mAttributeError\u001b[0m                            Traceback (most recent call last)",
      "\u001b[0;32m/var/folders/5w/fg65_rp17lz39z89p0nkv8ch0000gn/T/ipykernel_78260/1033431134.py\u001b[0m in \u001b[0;36m<cell line: 1>\u001b[0;34m()\u001b[0m\n\u001b[0;32m----> 1\u001b[0;31m \u001b[0mfruit\u001b[0m\u001b[0;34m.\u001b[0m\u001b[0mcolor\u001b[0m \u001b[0;34m=\u001b[0m \u001b[0;36m1\u001b[0m\u001b[0;34m\u001b[0m\u001b[0;34m\u001b[0m\u001b[0m\n\u001b[0m",
      "\u001b[0;32m/var/folders/5w/fg65_rp17lz39z89p0nkv8ch0000gn/T/ipykernel_78260/3888926808.py\u001b[0m in \u001b[0;36mcolor\u001b[0;34m(self, value)\u001b[0m\n\u001b[1;32m     14\u001b[0m             \u001b[0mself\u001b[0m\u001b[0;34m.\u001b[0m\u001b[0m_color\u001b[0m \u001b[0;34m=\u001b[0m \u001b[0mvalue\u001b[0m\u001b[0;34m\u001b[0m\u001b[0;34m\u001b[0m\u001b[0m\n\u001b[1;32m     15\u001b[0m         \u001b[0;32melse\u001b[0m\u001b[0;34m:\u001b[0m\u001b[0;34m\u001b[0m\u001b[0;34m\u001b[0m\u001b[0m\n\u001b[0;32m---> 16\u001b[0;31m             \u001b[0;32mraise\u001b[0m \u001b[0mAttributeError\u001b[0m\u001b[0;34m(\u001b[0m\u001b[0;34m\"Fruit's color must be a string.\"\u001b[0m\u001b[0;34m)\u001b[0m\u001b[0;34m\u001b[0m\u001b[0;34m\u001b[0m\u001b[0m\n\u001b[0m\u001b[1;32m     17\u001b[0m \u001b[0;34m\u001b[0m\u001b[0m\n\u001b[1;32m     18\u001b[0m \u001b[0;34m\u001b[0m\u001b[0m\n",
      "\u001b[0;31mAttributeError\u001b[0m: Fruit's color must be a string."
     ]
    }
   ],
   "source": [
    "fruit.color = 1"
   ]
  },
  {
   "attachments": {},
   "cell_type": "markdown",
   "id": "c510dd76",
   "metadata": {},
   "source": [
    "### `__str__` and `__repr__`: Create a String Representation of a Python Object\n"
   ]
  },
  {
   "attachments": {},
   "cell_type": "markdown",
   "id": "82e6f70e",
   "metadata": {},
   "source": [
    "If you want to create a string representation of an object, add `__str__` and `__repr__`.\n",
    "\n",
    "`__str__` shows readable outputs when printing the object. `__repr__` shows outputs that are useful for displaying and debugging the object."
   ]
  },
  {
   "cell_type": "code",
   "execution_count": 17,
   "id": "71450d29",
   "metadata": {
    "ExecuteTime": {
     "end_time": "2021-08-30T01:45:12.288927Z",
     "start_time": "2021-08-30T01:45:12.261626Z"
    }
   },
   "outputs": [
    {
     "name": "stdout",
     "output_type": "stream",
     "text": [
      "red apple\n"
     ]
    },
    {
     "data": {
      "application/javascript": "\n            setTimeout(function() {\n                var nbb_cell_id = 17;\n                var nbb_unformatted_code = \"class Food:\\n    def __init__(self, name: str, color: str):\\n        self.name = name\\n        self.color = color\\n\\n    def __str__(self):\\n        return f\\\"{self.color} {self.name}\\\"\\n\\n    def __repr__(self):\\n        return f\\\"Food({self.color}, {self.name})\\\"\\n\\n\\nfood = Food(\\\"apple\\\", \\\"red\\\")\\n\\nprint(food)  #  str__\";\n                var nbb_formatted_code = \"class Food:\\n    def __init__(self, name: str, color: str):\\n        self.name = name\\n        self.color = color\\n\\n    def __str__(self):\\n        return f\\\"{self.color} {self.name}\\\"\\n\\n    def __repr__(self):\\n        return f\\\"Food({self.color}, {self.name})\\\"\\n\\n\\nfood = Food(\\\"apple\\\", \\\"red\\\")\\n\\nprint(food)  #  str__\";\n                var nbb_cells = Jupyter.notebook.get_cells();\n                for (var i = 0; i < nbb_cells.length; ++i) {\n                    if (nbb_cells[i].input_prompt_number == nbb_cell_id) {\n                        if (nbb_cells[i].get_text() == nbb_unformatted_code) {\n                             nbb_cells[i].set_text(nbb_formatted_code);\n                        }\n                        break;\n                    }\n                }\n            }, 500);\n            ",
      "text/plain": [
       "<IPython.core.display.Javascript object>"
      ]
     },
     "metadata": {},
     "output_type": "display_data"
    }
   ],
   "source": [
    "class Food:\n",
    "    def __init__(self, name: str, color: str):\n",
    "        self.name = name\n",
    "        self.color = color\n",
    "\n",
    "    def __str__(self):\n",
    "        return f\"{self.color} {self.name}\"\n",
    "\n",
    "    def __repr__(self):\n",
    "        return f\"Food({self.color}, {self.name})\"\n",
    "\n",
    "\n",
    "food = Food(\"apple\", \"red\")\n",
    "\n",
    "print(food)  #  str__"
   ]
  },
  {
   "cell_type": "code",
   "execution_count": 18,
   "id": "e6cd59a2",
   "metadata": {
    "ExecuteTime": {
     "end_time": "2021-08-30T01:45:12.705910Z",
     "start_time": "2021-08-30T01:45:12.692056Z"
    }
   },
   "outputs": [
    {
     "data": {
      "text/plain": [
       "Food(red, apple)"
      ]
     },
     "execution_count": 18,
     "metadata": {},
     "output_type": "execute_result"
    },
    {
     "data": {
      "application/javascript": "\n            setTimeout(function() {\n                var nbb_cell_id = 18;\n                var nbb_unformatted_code = \"food  # __repr__\";\n                var nbb_formatted_code = \"food  # __repr__\";\n                var nbb_cells = Jupyter.notebook.get_cells();\n                for (var i = 0; i < nbb_cells.length; ++i) {\n                    if (nbb_cells[i].input_prompt_number == nbb_cell_id) {\n                        if (nbb_cells[i].get_text() == nbb_unformatted_code) {\n                             nbb_cells[i].set_text(nbb_formatted_code);\n                        }\n                        break;\n                    }\n                }\n            }, 500);\n            ",
      "text/plain": [
       "<IPython.core.display.Javascript object>"
      ]
     },
     "metadata": {},
     "output_type": "display_data"
    }
   ],
   "source": [
    "food  # __repr__"
   ]
  },
  {
   "attachments": {},
   "cell_type": "markdown",
   "id": "df12dd1f",
   "metadata": {},
   "source": [
    "### `__add__`: Add the Attributes of Two Class Instances"
   ]
  },
  {
   "attachments": {},
   "cell_type": "markdown",
   "id": "718af7c3",
   "metadata": {},
   "source": [
    "If you want to add the attributes of class instances, use `__add__`. In the code below, I use `__add__` to add the ages of two class instances `bim` and `coco` when calling `bim + coco`. "
   ]
  },
  {
   "cell_type": "code",
   "execution_count": 1,
   "id": "f455c75a",
   "metadata": {},
   "outputs": [
    {
     "data": {
      "text/plain": [
       "7"
      ]
     },
     "execution_count": 1,
     "metadata": {},
     "output_type": "execute_result"
    }
   ],
   "source": [
    "class Dog:\n",
    "    def __init__(self, age: int):\n",
    "        self.age = age\n",
    "\n",
    "    def __add__(self, other):\n",
    "        return self.age + other.age\n",
    "\n",
    "\n",
    "class Cat:\n",
    "    def __init__(self, age: int):\n",
    "        self.age = age\n",
    "\n",
    "    def __add__(self, other):\n",
    "        return self.age + other.age\n",
    "\n",
    "\n",
    "bim = Dog(age=5)\n",
    "coco = Cat(age=2)\n",
    "bim + coco\n"
   ]
  },
  {
   "attachments": {},
   "cell_type": "markdown",
   "id": "cbce2b65",
   "metadata": {},
   "source": [
    "### Optimizing Memory Usage in Python with Slots"
   ]
  },
  {
   "cell_type": "code",
   "execution_count": 1,
   "id": "dcc6d440",
   "metadata": {
    "tags": [
     "hide-cell"
    ]
   },
   "outputs": [],
   "source": [
    "!pip install memory_profiler"
   ]
  },
  {
   "attachments": {},
   "cell_type": "markdown",
   "id": "847b4a77",
   "metadata": {},
   "source": [
    "In Python, objects can store their attributes in a flexible dictionary-like structure that can use a lot of memory. Slots make your objects more memory-efficient by reserving space for their attributes ahead of time.\n",
    "\n",
    "The code below shows that using slots significant reduces the memory usage."
   ]
  },
  {
   "cell_type": "code",
   "execution_count": null,
   "id": "c3b401b5",
   "metadata": {},
   "outputs": [],
   "source": [
    "%%writefile without_slot.py\n",
    "from random import randint\n",
    "from memory_profiler import profile\n",
    "\n",
    "\n",
    "class Dog:\n",
    "    def __init__(self, age):\n",
    "        self.age = age\n",
    "\n",
    "\n",
    "@profile\n",
    "def main():\n",
    "    return [Dog(age=randint(0, 30)) for _ in range(100000)]\n",
    "\n",
    "\n",
    "if __name__ == \"__main__\":\n",
    "    main()"
   ]
  },
  {
   "attachments": {},
   "cell_type": "markdown",
   "id": "d9225e6a",
   "metadata": {},
   "source": [
    "```bash\n",
    "$ python -m memory_profiler without_slot.py\n",
    "```"
   ]
  },
  {
   "cell_type": "code",
   "execution_count": 12,
   "id": "313fa5e9",
   "metadata": {
    "tags": [
     "remove-input"
    ]
   },
   "outputs": [
    {
     "name": "stdout",
     "output_type": "stream",
     "text": [
      "Filename: without_slot.py\n",
      "\n",
      "Line #    Mem usage    Increment  Occurrences   Line Contents\n",
      "=============================================================\n",
      "    10     41.6 MiB     41.6 MiB           1   @profile\n",
      "    11                                         def main():\n",
      "    12     57.8 MiB     16.2 MiB      100003       return [Dog(randint(0, 30)) for _ in range(100000)]\n",
      "\n",
      "\n"
     ]
    }
   ],
   "source": [
    "!python -m memory_profiler without_slot.py"
   ]
  },
  {
   "cell_type": "code",
   "execution_count": null,
   "id": "a0d28226",
   "metadata": {},
   "outputs": [],
   "source": [
    "%%writefile with_slot.py\n",
    "from random import randint\n",
    "from memory_profiler import profile\n",
    "\n",
    "\n",
    "class Dog:\n",
    "    # defining slots\n",
    "    __slots__ = [\"age\"] \n",
    "    def __init__(self, age):\n",
    "        self.age = age\n",
    "\n",
    "\n",
    "@profile\n",
    "def main():\n",
    "    return [Dog(age=randint(0, 30)) for _ in range(100000)]\n",
    "\n",
    "\n",
    "if __name__ == \"__main__\":\n",
    "    main()"
   ]
  },
  {
   "attachments": {},
   "cell_type": "markdown",
   "id": "6466485d",
   "metadata": {},
   "source": [
    "```bash\n",
    "$ python -m memory_profiler with_slot.py\n",
    "```"
   ]
  },
  {
   "cell_type": "code",
   "execution_count": 13,
   "id": "cdd60556",
   "metadata": {
    "tags": [
     "remove-input"
    ]
   },
   "outputs": [
    {
     "name": "stdout",
     "output_type": "stream",
     "text": [
      "Filename: with_slot.py\n",
      "\n",
      "Line #    Mem usage    Increment  Occurrences   Line Contents\n",
      "=============================================================\n",
      "    11     41.3 MiB     41.3 MiB           1   @profile\n",
      "    12                                         def main():\n",
      "    13     46.7 MiB      5.4 MiB      100003       return [Dog(randint(0, 30)) for _ in range(100000)]\n",
      "\n",
      "\n"
     ]
    }
   ],
   "source": [
    "!python -m memory_profiler with_slot.py"
   ]
  }
 ],
 "metadata": {
  "celltoolbar": "Tags",
  "hide_input": false,
  "interpreter": {
   "hash": "484329849bb907480cd798e750759bc6f1d66c93f9e78e7055aa0a2c2de6b47b"
  },
  "kernelspec": {
   "display_name": "Python 3.8.9 ('venv': venv)",
   "language": "python",
   "name": "python3"
  },
  "language_info": {
   "codemirror_mode": {
    "name": "ipython",
    "version": 3
   },
   "file_extension": ".py",
   "mimetype": "text/x-python",
   "name": "python",
   "nbconvert_exporter": "python",
   "pygments_lexer": "ipython3",
   "version": "3.9.6"
  },
  "toc": {
   "base_numbering": 1,
   "nav_menu": {},
   "number_sections": true,
   "sideBar": true,
   "skip_h1_title": false,
   "title_cell": "Table of Contents",
   "title_sidebar": "Contents",
   "toc_cell": false,
   "toc_position": {},
   "toc_section_display": true,
   "toc_window_display": false
  }
 },
 "nbformat": 4,
 "nbformat_minor": 5
}
