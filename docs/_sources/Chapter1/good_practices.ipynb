{
 "cells": [
  {
   "cell_type": "markdown",
   "id": "d213a0a3",
   "metadata": {},
   "source": [
    "## Good Python Practices"
   ]
  },
  {
   "cell_type": "markdown",
   "id": "a8bbb378",
   "metadata": {},
   "source": [
    "This section includes some best practices to write Python code."
   ]
  },
  {
   "cell_type": "markdown",
   "id": "28eb6925",
   "metadata": {},
   "source": [
    "### Write Meaningful Names"
   ]
  },
  {
   "cell_type": "markdown",
   "id": "e9032f79",
   "metadata": {},
   "source": [
    "It is a bad practice to use vague names such as `x`, `y`, `z` in your Python code since they don't give you any information about their roles in the code."
   ]
  },
  {
   "cell_type": "code",
   "execution_count": null,
   "id": "3db4d536",
   "metadata": {},
   "outputs": [],
   "source": [
    "x = 10 \n",
    "y = 5 \n",
    "z = x + y  "
   ]
  },
  {
   "cell_type": "markdown",
   "id": "d6d2d8d5",
   "metadata": {},
   "source": [
    "Write declarative variables names instead. You can also add type hints to make the types of these variables more obvious."
   ]
  },
  {
   "cell_type": "code",
   "execution_count": null,
   "id": "7a7f9a61",
   "metadata": {},
   "outputs": [],
   "source": [
    "num_members: int = 10\n",
    "num_guests: int = 5\n",
    "sum_: int = num_members + num_guests  "
   ]
  },
  {
   "cell_type": "markdown",
   "id": "fa3d0296",
   "metadata": {},
   "source": [
    "### Assign Names to Values"
   ]
  },
  {
   "cell_type": "markdown",
   "id": "7d438fc5",
   "metadata": {},
   "source": [
    "It can be confusing for others to understand the roles of  some values in your code."
   ]
  },
  {
   "cell_type": "code",
   "execution_count": null,
   "id": "54bf8351",
   "metadata": {},
   "outputs": [],
   "source": [
    "circle_area = 3.14 * 5**2"
   ]
  },
  {
   "cell_type": "markdown",
   "id": "42f3b0f6",
   "metadata": {},
   "source": [
    "Thus, it is a good practice to assign names to your variables to make them readable to others."
   ]
  },
  {
   "cell_type": "code",
   "execution_count": null,
   "id": "adc0fe51",
   "metadata": {},
   "outputs": [],
   "source": [
    "PI = 3.14\n",
    "RADIUS = 5\n",
    "\n",
    "circle_area = PI * RADIUS**2"
   ]
  },
  {
   "cell_type": "markdown",
   "id": "da55da1d",
   "metadata": {},
   "source": [
    "### Name Complex Conditions to Make Your Code More Readable"
   ]
  },
  {
   "cell_type": "markdown",
   "id": "283a9829",
   "metadata": {},
   "source": [
    "Consider naming your conditions if your if-else statement is too complex. Doing so will improve the readability of your code."
   ]
  },
  {
   "cell_type": "code",
   "execution_count": null,
   "id": "cffc321f",
   "metadata": {},
   "outputs": [],
   "source": [
    "# Confusing\n",
    "\n",
    "x = -10\n",
    "y = 5\n",
    "\n",
    "if (x % 2 == 0 and x < 0) and (y % 2 != 0 and y > 0):\n",
    "    print(\"Both conditions are true!\")\n",
    "else:\n",
    "    print(\"At least one condition is false.\")"
   ]
  },
  {
   "cell_type": "code",
   "execution_count": null,
   "id": "81d0ebfb",
   "metadata": {},
   "outputs": [],
   "source": [
    "# Clearer\n",
    "\n",
    "x = -10\n",
    "y = 5\n",
    "\n",
    "# Assign names to conditions\n",
    "x_is_even_and_negative = x % 2 == 0 and x < 0\n",
    "y_is_odd_and_positive = y % 2 != 0 and y > 0\n",
    "\n",
    "if (x_is_even_and_negative) and (y_is_odd_and_positive):\n",
    "    print(\"Both conditions are true!\")\n",
    "else:\n",
    "    print(\"At least one condition is false.\")"
   ]
  },
  {
   "cell_type": "markdown",
   "id": "1bb5b327",
   "metadata": {},
   "source": [
    "### Avoid Duplication in Your Code"
   ]
  },
  {
   "cell_type": "markdown",
   "id": "265651d3",
   "metadata": {},
   "source": [
    "While writing code, we should avoid duplication because:\n",
    "- It is redundant\n",
    "- If we make a change to one piece of code, we need to remember to make the same change to another piece of code. Otherwise, we will introduce bugs into our code.\n",
    "\n",
    "In the code below, we use the filter `X['date'] > date(2021, 2, 8)` twice. To avoid duplication, we can assign the filter to a variable, then use that variable to filter other arrays."
   ]
  },
  {
   "cell_type": "code",
   "execution_count": null,
   "id": "b4edd2a4",
   "metadata": {},
   "outputs": [],
   "source": [
    "import pandas as pd \n",
    "from datetime import date\n",
    "\n",
    "df = pd.DataFrame({'date': [date(2021, 2, 8), date(2021, 2, 9), date(2021, 2, 10)],\n",
    "\t\t\t\t\t\t\t\t\t'val1': [1,2,3], 'val2': [0,1,0]})\n",
    "X, y = df.iloc[:, :1], df.iloc[:, 2]\n",
    "\n",
    "# Instead of this\n",
    "subset_X = X[X['date'] > date(2021, 2, 8)]\n",
    "subset_y = y[X['date'] > date(2021, 2, 8)]\n",
    "\n",
    "# Do this\n",
    "filt = df['date'] > date(2021, 2, 8)\n",
    "subset_X = X[filt]\n",
    "subset_y = y[filt]"
   ]
  },
  {
   "cell_type": "markdown",
   "id": "80e7ef10",
   "metadata": {},
   "source": [
    "### Underscore(_): Ignore Values That Will Not Be Used"
   ]
  },
  {
   "cell_type": "markdown",
   "id": "8f4c20bf",
   "metadata": {},
   "source": [
    "When assigning the values returned from a function, you might want to ignore some values that are not used in future code. If so, assign those values to underscores `_`."
   ]
  },
  {
   "cell_type": "code",
   "execution_count": null,
   "id": "a60604bb",
   "metadata": {},
   "outputs": [],
   "source": [
    "def return_two():\n",
    "    return 1, 2\n",
    "\n",
    "_, var = return_two()\n",
    "var"
   ]
  },
  {
   "cell_type": "markdown",
   "id": "e57bae6c",
   "metadata": {},
   "source": [
    "### Underscore “_”: Ignore The Index in Python For Loops"
   ]
  },
  {
   "cell_type": "markdown",
   "id": "a05fd55a",
   "metadata": {},
   "source": [
    "If you want to repeat a loop a specific number of times but don’t care about the index, you can use `_`."
   ]
  },
  {
   "cell_type": "code",
   "execution_count": null,
   "id": "30d0bef0",
   "metadata": {},
   "outputs": [],
   "source": [
    "for _ in range(5):\n",
    "    print('Hello')"
   ]
  },
  {
   "cell_type": "markdown",
   "id": "06fe29f7",
   "metadata": {},
   "source": [
    "### slice: Make Your Indices More Readable by Naming Your Slice"
   ]
  },
  {
   "cell_type": "markdown",
   "id": "df396a1d",
   "metadata": {},
   "source": [
    "Have you ever found it difficult to understand code that uses hardcoded slice indices? \n",
    "For example, in this code, It's impossible to discern the meanings of `prices[:4]` and `prices[4:]` without additional context or comments in the code."
   ]
  },
  {
   "cell_type": "code",
   "execution_count": null,
   "id": "e7119333",
   "metadata": {},
   "outputs": [],
   "source": [
    "prices = [5, 3, 5, 4, 5, 3, 3.5, 3]\n",
    "\n",
    "price_difference = sum(prices[:4]) - sum(prices[4:])\n",
    "price_difference"
   ]
  },
  {
   "cell_type": "markdown",
   "id": "9beef886",
   "metadata": {},
   "source": [
    "To make your code more transparent and easier to maintain, consider naming your slice objects using Python's built-in slice function. \n",
    "\n",
    "By using named slices like this, you can instantly see that the values in the indices from 0 to 4 are in January, while the rest of the values are in February."
   ]
  },
  {
   "cell_type": "code",
   "execution_count": null,
   "id": "86d4a93b",
   "metadata": {},
   "outputs": [],
   "source": [
    "JANUARY = slice(0, 4)\n",
    "FEBRUARY = slice(4, len(prices))\n",
    "price_difference = sum(prices[JANUARY]) - sum(prices[FEBRUARY])\n",
    "price_difference"
   ]
  },
  {
   "cell_type": "markdown",
   "id": "a62f73b0",
   "metadata": {},
   "source": [
    "### Python Pass Statement"
   ]
  },
  {
   "cell_type": "markdown",
   "id": "56b515bb",
   "metadata": {},
   "source": [
    "If you want to create code that does a particular thing but don’t know how to write that code yet, put that code in a function then use `pass`.\n",
    "\n",
    "Once you have finished writing the code in a high level, start to go back to the functions and replace `pass` with the code for that function. This will prevent your thoughts from being disrupted."
   ]
  },
  {
   "cell_type": "code",
   "execution_count": null,
   "id": "96960207",
   "metadata": {},
   "outputs": [],
   "source": [
    "def say_hello():\n",
    "    pass \n",
    "\n",
    "def ask_to_sign_in():\n",
    "    pass \n",
    "\n",
    "def main(is_user: bool):\n",
    "    if is_user:\n",
    "        say_hello()\n",
    "    else:\n",
    "        ask_to_sign_in()\n",
    "\n",
    "main(is_user=True)"
   ]
  },
  {
   "cell_type": "markdown",
   "id": "06932557",
   "metadata": {},
   "source": [
    "### Stop using = operator to create a copy of a Python list. Use copy method instead"
   ]
  },
  {
   "cell_type": "markdown",
   "id": "1e067d97",
   "metadata": {},
   "source": [
    "When you create a copy of a Python list using the `=` operator, a change in the new list will lead to the change in the old list. It is because both lists point to the same object."
   ]
  },
  {
   "cell_type": "code",
   "execution_count": null,
   "id": "64015198",
   "metadata": {},
   "outputs": [],
   "source": [
    "l1 = [1, 2, 3]\n",
    "l2 = l1 \n",
    "l2.append(4)"
   ]
  },
  {
   "cell_type": "code",
   "execution_count": null,
   "id": "0b864f66",
   "metadata": {},
   "outputs": [],
   "source": [
    "l2 "
   ]
  },
  {
   "cell_type": "code",
   "execution_count": null,
   "id": "c770a75c",
   "metadata": {},
   "outputs": [],
   "source": [
    "l1 "
   ]
  },
  {
   "cell_type": "markdown",
   "id": "226c1c47",
   "metadata": {},
   "source": [
    "Instead of using `=` operator, use `copy()` method. Now your old list will not change when you change your new list."
   ]
  },
  {
   "cell_type": "code",
   "execution_count": null,
   "id": "208dd1ea",
   "metadata": {},
   "outputs": [],
   "source": [
    "l1 = [1, 2, 3]\n",
    "l2 = l1.copy()\n",
    "l2.append(4)"
   ]
  },
  {
   "cell_type": "code",
   "execution_count": null,
   "id": "b741de92",
   "metadata": {},
   "outputs": [],
   "source": [
    "l2 "
   ]
  },
  {
   "cell_type": "code",
   "execution_count": null,
   "id": "ee11f901",
   "metadata": {},
   "outputs": [],
   "source": [
    "l1"
   ]
  },
  {
   "cell_type": "markdown",
   "id": "fafdfed7",
   "metadata": {},
   "source": [
    "### deepcopy: Copy a Nested Object"
   ]
  },
  {
   "cell_type": "markdown",
   "id": "166fae21",
   "metadata": {},
   "source": [
    "If you want to create a copy of a nested object, use `deepcopy`. While `copy` creates a shallow copy of the original object, `deepcopy` creates a deep copy of the original object. This means that if you change the nested children of a shallow copy, the original object will also change. However, if you change the nested children of a deep copy, the original object will not change."
   ]
  },
  {
   "cell_type": "code",
   "execution_count": null,
   "id": "8564c219",
   "metadata": {},
   "outputs": [],
   "source": [
    "from copy import deepcopy\n",
    "\n",
    "l1 = [1, 2, [3, 4]]\n",
    "l2 = l1.copy() # Create a shallow copy"
   ]
  },
  {
   "cell_type": "code",
   "execution_count": null,
   "id": "c39c29f6",
   "metadata": {},
   "outputs": [],
   "source": [
    "l2[0] = 6\n",
    "l2[2].append(5)\n",
    "l2 "
   ]
  },
  {
   "cell_type": "code",
   "execution_count": null,
   "id": "fa1e615b",
   "metadata": {},
   "outputs": [],
   "source": [
    "# [3, 4] becomes [3, 4, 5]\n",
    "l1 "
   ]
  },
  {
   "cell_type": "code",
   "execution_count": null,
   "id": "fe22214b",
   "metadata": {},
   "outputs": [],
   "source": [
    "l1 = [1, 2, [3, 4]]\n",
    "l3 = deepcopy(l1) # Create a deep copy"
   ]
  },
  {
   "cell_type": "code",
   "execution_count": null,
   "id": "1ded77c9",
   "metadata": {},
   "outputs": [],
   "source": [
    "l3[2].append(5)\n",
    "l3  "
   ]
  },
  {
   "cell_type": "code",
   "execution_count": null,
   "id": "cf04f4c5",
   "metadata": {},
   "outputs": [],
   "source": [
    "# l1 stays the same\n",
    "l1 "
   ]
  },
  {
   "cell_type": "markdown",
   "id": "c4149fa1",
   "metadata": {},
   "source": [
    "### Avoid Side Effects When Using List in a Function"
   ]
  },
  {
   "cell_type": "markdown",
   "id": "514686c2",
   "metadata": {},
   "source": [
    "When using a Python list as an argument in a function, you might inadvertently change its value. \n",
    "\n",
    "For example, in the code below, using the `append` method ends up changing the values of the original list."
   ]
  },
  {
   "cell_type": "code",
   "execution_count": null,
   "id": "8337b29d",
   "metadata": {},
   "outputs": [],
   "source": [
    "def append_four(nums: list):\n",
    "    nums.append(4)\n",
    "    return nums "
   ]
  },
  {
   "cell_type": "code",
   "execution_count": null,
   "id": "5723da12",
   "metadata": {},
   "outputs": [],
   "source": [
    "a = [1, 2, 3]\n",
    "b = append_four(a)"
   ]
  },
  {
   "cell_type": "code",
   "execution_count": null,
   "id": "2d5ad0b1",
   "metadata": {},
   "outputs": [],
   "source": [
    "a "
   ]
  },
  {
   "cell_type": "markdown",
   "id": "397dfb5d",
   "metadata": {},
   "source": [
    "If you want to avoid this side effect, use `copy` with a list or `deepcopy` with a nested list in a function."
   ]
  },
  {
   "cell_type": "code",
   "execution_count": null,
   "id": "341a308f",
   "metadata": {},
   "outputs": [],
   "source": [
    "def append_four(nums: list):\n",
    "    nums1 = nums.copy()\n",
    "    nums1.append(4)\n",
    "    return nums1 "
   ]
  },
  {
   "cell_type": "code",
   "execution_count": null,
   "id": "bc09833c",
   "metadata": {},
   "outputs": [],
   "source": [
    "a = [1, 2, 3]\n",
    "b = append_four(a)\n",
    "a "
   ]
  },
  {
   "cell_type": "markdown",
   "id": "8029d151",
   "metadata": {},
   "source": [
    "### Avoiding Surprises with Mutable Default Arguments in Python"
   ]
  },
  {
   "cell_type": "markdown",
   "id": "4975aae7",
   "metadata": {},
   "source": [
    "Mutable default arguments in Python functions can lead to surprising and often unintended consequences. Consider this example:"
   ]
  },
  {
   "cell_type": "code",
   "execution_count": null,
   "id": "e954467c",
   "metadata": {},
   "outputs": [],
   "source": [
    "def add_to_dataset(new_data, dataset=[]):\n",
    "    dataset.append(new_data)\n",
    "    return dataset\n",
    "\n",
    "\n",
    "result1 = add_to_dataset(5)\n",
    "print(f\"After adding 5: {result1}\")\n",
    "\n",
    "\n",
    "result2 = add_to_dataset(10)\n",
    "print(f\"After adding 10: {result2}\")"
   ]
  },
  {
   "cell_type": "markdown",
   "id": "6d4e81fd",
   "metadata": {},
   "source": [
    "The empty list `[]` default argument is created once at function definition, not each function call. This causes subsequent calls to modify the same list, leading to surprising results and potential data processing bugs.\n",
    "\n",
    "To avoid this issue, use `None` as the default argument and create a new list inside the function:"
   ]
  },
  {
   "cell_type": "code",
   "execution_count": null,
   "id": "f4fae8dc",
   "metadata": {},
   "outputs": [],
   "source": [
    "def add_to_dataset(new_data, dataset=None):\n",
    "    if dataset is None:\n",
    "        dataset = []\n",
    "    dataset.append(new_data)\n",
    "    return dataset\n",
    "\n",
    "\n",
    "result1 = add_to_dataset(5)\n",
    "print(f\"After adding 5: {result1}\")\n",
    "\n",
    "\n",
    "result2 = add_to_dataset(10)\n",
    "print(f\"After adding 10: {result2}\")"
   ]
  },
  {
   "cell_type": "markdown",
   "id": "52c320e3",
   "metadata": {},
   "source": [
    "This approach ensures that a new list is created for each function call unless explicitly provided.\n",
    "\n",
    "By avoiding mutable defaults, you ensure that each function call starts with a clean slate, preventing unexpected side effects and making your code more predictable."
   ]
  },
  {
   "cell_type": "markdown",
   "id": "40eec74e",
   "metadata": {},
   "source": [
    "### Enumerate: Get Counter and Value While Looping"
   ]
  },
  {
   "cell_type": "markdown",
   "id": "b871a8d5",
   "metadata": {},
   "source": [
    "Are you using `for i in range(len(array))` to access both the index and the value of the array? If so, use `enumerate` instead. It produces the same result but it is much cleaner."
   ]
  },
  {
   "cell_type": "code",
   "execution_count": null,
   "id": "3778337d",
   "metadata": {},
   "outputs": [],
   "source": [
    "arr = ['a', 'b', 'c', 'd', 'e']\n",
    "\n",
    "# Instead of this\n",
    "for i in range(len(arr)):\n",
    "    print(i, arr[i])"
   ]
  },
  {
   "cell_type": "code",
   "execution_count": null,
   "id": "f35405e9",
   "metadata": {},
   "outputs": [],
   "source": [
    "# Use this\n",
    "for i, val in enumerate(arr):\n",
    "    print(i, val)"
   ]
  },
  {
   "cell_type": "markdown",
   "id": "1f690469",
   "metadata": {},
   "source": [
    "### Don't Use Multiple OR Operators. Use in Instead"
   ]
  },
  {
   "cell_type": "markdown",
   "id": "d52bb0f2",
   "metadata": {},
   "source": [
    "It is lengthy to write multiple OR operators. You can shorten your conditional statement by using `in` instead."
   ]
  },
  {
   "cell_type": "code",
   "execution_count": null,
   "id": "c3fbe51a",
   "metadata": {},
   "outputs": [],
   "source": [
    "a = 1 \n",
    "\n",
    "if a == 1 or a == 2 or a == 3:\n",
    "    print(\"Found one!\")"
   ]
  },
  {
   "cell_type": "code",
   "execution_count": null,
   "id": "9eb583cd",
   "metadata": {},
   "outputs": [],
   "source": [
    "if a in [1, 2, 3]:\n",
    "    print(\"Found one!\")"
   ]
  },
  {
   "cell_type": "markdown",
   "id": "88d60b06",
   "metadata": {},
   "source": [
    "### Stop Using `+` to Concatenate Strings. Use Join Instead"
   ]
  },
  {
   "cell_type": "markdown",
   "id": "ffa99c3d",
   "metadata": {},
   "source": [
    "It is more efficient to concatenate strings using the `join` method than the `+` operator.\n",
    "\n",
    "The code below shows the difference in performance between the two approaches."
   ]
  },
  {
   "cell_type": "code",
   "execution_count": null,
   "id": "1d0cc9e9",
   "metadata": {},
   "outputs": [],
   "source": [
    "from random import randint\n",
    "chars = [str(randint(0, 1000)) for _ in range(10000)]"
   ]
  },
  {
   "cell_type": "code",
   "execution_count": null,
   "id": "9642451a",
   "metadata": {},
   "outputs": [],
   "source": [
    "%%timeit\n",
    "\n",
    "text = \"\"\n",
    "for char in chars:\n",
    "    text += char"
   ]
  },
  {
   "cell_type": "code",
   "execution_count": null,
   "id": "a4252c44",
   "metadata": {},
   "outputs": [],
   "source": [
    "%%timeit\n",
    "\n",
    "text = \"\".join(chars)"
   ]
  },
  {
   "cell_type": "markdown",
   "id": "48e506e0",
   "metadata": {},
   "source": [
    "### A Function Should Only Do One Task"
   ]
  },
  {
   "cell_type": "markdown",
   "id": "29e7a8b8",
   "metadata": {},
   "source": [
    "To make code clearer and easier to maintain, functions should only do one task at a time. However, the function `process_data` violates this principle by performing multiple tasks, such as adding new features, adding 1 to a column, and summing all columns. \n",
    "\n",
    "Although comments can be used to explain each block of code, it can be difficult to keep them updated, and testing each unit of code inside a function can be challenging."
   ]
  },
  {
   "cell_type": "code",
   "execution_count": null,
   "id": "7c0926cc",
   "metadata": {},
   "outputs": [],
   "source": [
    "import pandas as pd\n",
    "\n",
    "data = pd.DataFrame({\"a\": [1, 2, 3], \"b\": [4, 5, 6]})"
   ]
  },
  {
   "cell_type": "code",
   "execution_count": null,
   "id": "4a8a543c",
   "metadata": {},
   "outputs": [],
   "source": [
    "def process_data(df: pd.DataFrame):\n",
    "    # Create a copy\n",
    "    data = df.copy()\n",
    "\n",
    "    # Add new features\n",
    "    data[\"c\"] = [1, 1, 1]\n",
    "\n",
    "    # Add 1\n",
    "    data[\"a\"] = data[\"a\"] + 1\n",
    "\n",
    "    # Sum all columns\n",
    "    data[\"sum\"] = data.sum(axis=1)\n",
    "    return data"
   ]
  },
  {
   "cell_type": "code",
   "execution_count": null,
   "id": "d1cf6ae8",
   "metadata": {},
   "outputs": [],
   "source": [
    "process_data(data)"
   ]
  },
  {
   "cell_type": "markdown",
   "id": "07d51e0e",
   "metadata": {},
   "source": [
    "A better approach is to split the `process_data` function into smaller functions, each of which performs only one task. The revised code accomplishes this by creating four separate function. These functions are then applied to the DataFrame using the `pipe` method in a specific order to achieve the desired output.\n",
    "\n",
    "Now, the revised code is easier to comprehend and test."
   ]
  },
  {
   "cell_type": "code",
   "execution_count": null,
   "id": "b669aa15",
   "metadata": {},
   "outputs": [],
   "source": [
    "def create_a_copy(df: pd.DataFrame):\n",
    "    return df.copy()\n",
    "\n",
    "\n",
    "def add_new_features(df: pd.DataFrame):\n",
    "    df[\"c\"] = [1, 1, 1]\n",
    "    return df\n",
    "\n",
    "\n",
    "def add_one(df: pd.DataFrame):\n",
    "    df[\"a\"] = df[\"a\"] + 1\n",
    "    return df\n",
    "\n",
    "\n",
    "def sum_all_columns(df: pd.DataFrame):\n",
    "    df[\"sum\"] = df.sum(axis=1)\n",
    "    return df\n",
    "\n",
    "\n",
    "(data\n",
    "    .pipe(create_a_copy)\n",
    "    .pipe(add_new_features)\n",
    "    .pipe(add_one)\n",
    "    .pipe(sum_all_columns)\n",
    ")"
   ]
  },
  {
   "cell_type": "markdown",
   "id": "0e1bf550",
   "metadata": {},
   "source": [
    "### A Function Should Have Fewer Than Four Arguments"
   ]
  },
  {
   "cell_type": "markdown",
   "id": "61613dc4",
   "metadata": {},
   "source": [
    "Having multiple function parameters can result in code that is hard to maintain, difficult to read, and prone to errors when passing arguments in the wrong order. \n",
    "\n",
    "To demonstrate this, start by creating two different datasets."
   ]
  },
  {
   "cell_type": "code",
   "execution_count": null,
   "id": "10cf7e4c",
   "metadata": {},
   "outputs": [],
   "source": [
    "import numpy as np\n",
    "import matplotlib.pyplot as plt\n",
    "from datetime import datetime, timedelta\n",
    "\n",
    "# Generate sample time series data\n",
    "np.random.seed(42)\n",
    "\n",
    "# Dataset 1: Stock-like price movements\n",
    "n_points = 100\n",
    "trend1 = np.linspace(100, 150, n_points)\n",
    "noise1 = np.cumsum(np.random.normal(0, 1, n_points))\n",
    "stock_prices = trend1 + noise1\n",
    "\n",
    "# Dataset 2: Seasonal pattern with noise\n",
    "t = np.linspace(0, 4*np.pi, n_points)\n",
    "seasonal_data = 10 * np.sin(t) + np.random.normal(0, 1, n_points)"
   ]
  },
  {
   "cell_type": "markdown",
   "id": "31cfb31e",
   "metadata": {},
   "source": [
    "Now, let's define the `plot_time_series` function with many arguments."
   ]
  },
  {
   "cell_type": "code",
   "execution_count": null,
   "id": "af4faafb",
   "metadata": {},
   "outputs": [],
   "source": [
    "def plot_time_series(\n",
    "    data,\n",
    "    x_label: str,\n",
    "    y_label: str,\n",
    "    title: str,\n",
    "    line_color: str = \"blue\",\n",
    "    line_width: float = 1.5,\n",
    "    marker: str = \"o\",\n",
    "    marker_size: int = 6,\n",
    "    grid: bool = True,\n",
    "):\n",
    "    plt.style.use(\"dark_background\")\n",
    "    plt.plot(\n",
    "        data,\n",
    "        color=line_color,\n",
    "        linewidth=line_width,\n",
    "        marker=marker,\n",
    "        markersize=marker_size,\n",
    "    )\n",
    "    plt.xlabel(x_label)\n",
    "    plt.ylabel(y_label)\n",
    "    plt.title(title)\n",
    "    if grid:\n",
    "        plt.grid(True)\n",
    "    plt.show()"
   ]
  },
  {
   "cell_type": "markdown",
   "id": "252d9235",
   "metadata": {},
   "source": [
    "If we want to reuse the same function with the same style for different datasets, we will have to pass all the arguments again."
   ]
  },
  {
   "cell_type": "code",
   "execution_count": null,
   "id": "dbf19eae",
   "metadata": {},
   "outputs": [],
   "source": [
    "plot_time_series(\n",
    "    data=stock_prices,\n",
    "    x_label=\"Trading Days\",\n",
    "    y_label=\"Stock Price ($)\",\n",
    "    title=\"Simulated Stock Price Movement\",\n",
    "    line_color=\"#72BEFA\",\n",
    "    line_width=1.5,\n",
    "    marker=\".\",\n",
    "    marker_size=8,\n",
    "    grid=True,\n",
    ")"
   ]
  },
  {
   "cell_type": "code",
   "execution_count": null,
   "id": "151754ef",
   "metadata": {},
   "outputs": [],
   "source": [
    "plot_time_series(\n",
    "    data=seasonal_data,\n",
    "    x_label=\"Time\",\n",
    "    y_label=\"Amplitude\",\n",
    "    title=\"Seasonal Pattern with Noise\",\n",
    "    line_color=\"#72BEFA\",\n",
    "    line_width=1.5,\n",
    "    marker=\".\",\n",
    "    marker_size=8,\n",
    "    grid=True,\n",
    ")"
   ]
  },
  {
   "cell_type": "markdown",
   "id": "ddb101a7",
   "metadata": {},
   "source": [
    "Dataclasses are a simple way to create classes that mainly hold data. We can use dataclasses to simplify the function parameters."
   ]
  },
  {
   "cell_type": "code",
   "execution_count": null,
   "id": "90d316f2",
   "metadata": {},
   "outputs": [],
   "source": [
    "from dataclasses import dataclass\n",
    "\n",
    "\n",
    "@dataclass\n",
    "class PlotStyle:\n",
    "    line_color: str = \"#72BEFA\"\n",
    "    line_width: float = 1.5\n",
    "    marker: str = \".\"\n",
    "    marker_size: int = 8\n",
    "    grid: bool = True"
   ]
  },
  {
   "cell_type": "markdown",
   "id": "f8e7162f",
   "metadata": {},
   "source": [
    "We can now modify the `plot_time_series` function to accept a `PlotStyle` object."
   ]
  },
  {
   "cell_type": "code",
   "execution_count": null,
   "id": "c935f589",
   "metadata": {},
   "outputs": [],
   "source": [
    "def plot_time_series(\n",
    "    data, x_label: str, y_label: str, title: str, style: PlotStyle = PlotStyle()\n",
    "):\n",
    "    plt.plot(\n",
    "        data,\n",
    "        color=style.line_color,\n",
    "        linewidth=style.line_width,\n",
    "        marker=style.marker,\n",
    "        markersize=style.marker_size,\n",
    "    )\n",
    "    plt.xlabel(x_label)\n",
    "    plt.ylabel(y_label)\n",
    "    plt.title(title)\n",
    "    if style.grid:\n",
    "        plt.grid(True)\n",
    "    plt.show()"
   ]
  },
  {
   "cell_type": "markdown",
   "id": "8c2b623f",
   "metadata": {},
   "source": [
    "With the use of dataclasses, we can create a custom style once and reuse it for multiple plots."
   ]
  },
  {
   "cell_type": "code",
   "execution_count": null,
   "id": "9e2fc798",
   "metadata": {},
   "outputs": [],
   "source": [
    "# Create a custom style once and reuse it\n",
    "custom_style = PlotStyle(line_color=\"#E583B6\", marker=\".\", marker_size=8)\n",
    "\n",
    "# Use the style for multiple plots\n",
    "plot_time_series(stock_prices, \"Time\", \"Value 1\", \"Plot 1\", custom_style)"
   ]
  },
  {
   "cell_type": "code",
   "execution_count": null,
   "id": "5f49944b",
   "metadata": {},
   "outputs": [],
   "source": [
    "plot_time_series(seasonal_data, \"Time\", \"Value 2\", \"Plot 2\", custom_style)"
   ]
  },
  {
   "cell_type": "markdown",
   "id": "c3161223",
   "metadata": {},
   "source": [
    "By using dataclasses, we can avoid passing multiple arguments to the function and make the code more maintainable."
   ]
  },
  {
   "cell_type": "markdown",
   "id": "06555abf",
   "metadata": {},
   "source": [
    "### Avoid Using Flags as a Function's Parameters"
   ]
  },
  {
   "cell_type": "markdown",
   "id": "463deef4",
   "metadata": {},
   "source": [
    "A function should only do one thing. If flags are used as a function's parameters, the function is doing more than one thing."
   ]
  },
  {
   "cell_type": "code",
   "execution_count": null,
   "id": "fd02b544",
   "metadata": {},
   "outputs": [],
   "source": [
    "def get_data(is_csv: bool, name: str):\n",
    "    if is_csv:\n",
    "        df = pd.read_csv(name + '.csv')\n",
    "    else:\n",
    "        df = pd.read_pickle(name + '.pkl')\n",
    "    return df  "
   ]
  },
  {
   "cell_type": "markdown",
   "id": "878d4200",
   "metadata": {},
   "source": [
    "When you find yourself using flags as a way to run different code, consider splitting your function into different functions."
   ]
  },
  {
   "cell_type": "code",
   "execution_count": null,
   "id": "7d4e0a92",
   "metadata": {},
   "outputs": [],
   "source": [
    "def get_csv_data(name: str):\n",
    "    return pd.read_csv(name + '.csv')\n",
    "\n",
    "def get_pickle_data(name: str):\n",
    "    return pd.read_pickle(name + '.pkl')"
   ]
  },
  {
   "cell_type": "markdown",
   "id": "db2eb896",
   "metadata": {},
   "source": [
    "### Condense an If-Else Statement into One Line"
   ]
  },
  {
   "cell_type": "markdown",
   "id": "abaa32a0",
   "metadata": {},
   "source": [
    "If your if-else statement is short, you can condense it into one line for readability."
   ]
  },
  {
   "cell_type": "code",
   "execution_count": null,
   "id": "0b5abab9",
   "metadata": {},
   "outputs": [],
   "source": [
    "purchase = 20\n",
    "\n",
    "# if-else statement in several lines\n",
    "if purchase > 100:\n",
    "    shipping_fee = 0\n",
    "else: \n",
    "    shipping_fee = 5\n",
    "shipping_fee"
   ]
  },
  {
   "cell_type": "code",
   "execution_count": null,
   "id": "621a7bc4",
   "metadata": {},
   "outputs": [],
   "source": [
    "# if-else statement in one line\n",
    "\n",
    "shipping_fee = 0 if purchase > 100 else 5 \n",
    "shipping_fee"
   ]
  },
  {
   "cell_type": "markdown",
   "id": "9c5404e4",
   "metadata": {},
   "source": [
    "### Efficiently Checking Object Types in Python"
   ]
  },
  {
   "cell_type": "markdown",
   "id": "06f9f5ac",
   "metadata": {},
   "source": [
    "The `isinstance()` function in Python is used to check if an object is an instance of a specified type or class. When checking for multiple types, we can optimize our code by using a tuple of types instead of multiple `isinstance()` calls or conditions.\n",
    "\n",
    "Let's break it down:\n",
    "\n",
    "1. Traditional approach (less efficient):"
   ]
  },
  {
   "cell_type": "code",
   "execution_count": null,
   "id": "c10fe700",
   "metadata": {},
   "outputs": [],
   "source": [
    "def is_number(num):\n",
    "    return isinstance(num, int) or isinstance(num, float)\n",
    "\n",
    "print(is_number(2))    # True\n",
    "print(is_number(1.5))  # True\n",
    "print(is_number(\"2\"))  # False"
   ]
  },
  {
   "cell_type": "markdown",
   "id": "0e0d7b02",
   "metadata": {},
   "source": [
    "2. Optimized approach using a tuple:"
   ]
  },
  {
   "cell_type": "code",
   "execution_count": null,
   "id": "b4d68dee",
   "metadata": {},
   "outputs": [],
   "source": [
    "def is_number(num):\n",
    "    return isinstance(num, (int, float))\n",
    "\n",
    "print(is_number(2))    # True\n",
    "print(is_number(1.5))  # True\n",
    "print(is_number(\"2\"))  # False"
   ]
  },
  {
   "cell_type": "markdown",
   "id": "d14f9c78",
   "metadata": {},
   "source": [
    "Benefits of using a tuple:\n",
    "\n",
    "1. Conciseness: The code is more readable and compact.\n",
    "2. Performance: It's slightly more efficient, especially when checking against many types.\n",
    "3. Maintainability: Easier to add or remove types to check against."
   ]
  },
  {
   "cell_type": "markdown",
   "id": "2770af1c",
   "metadata": {},
   "source": [
    "You can extend this concept to check for more types:"
   ]
  },
  {
   "cell_type": "code",
   "execution_count": null,
   "id": "0a1097c4",
   "metadata": {},
   "outputs": [],
   "source": [
    "def is_sequence(obj):\n",
    "    return isinstance(obj, (list, tuple, str))\n",
    "\n",
    "print(is_sequence([1, 2, 3]))  # True\n",
    "print(is_sequence((1, 2, 3)))  # True\n",
    "print(is_sequence(\"123\"))      # True\n",
    "print(is_sequence(123))        # False"
   ]
  },
  {
   "cell_type": "markdown",
   "id": "b47f3187",
   "metadata": {},
   "source": [
    "For broader type checking, use Python's abstract base classes:"
   ]
  },
  {
   "cell_type": "code",
   "execution_count": null,
   "id": "4449df74",
   "metadata": {},
   "outputs": [],
   "source": [
    "from collections.abc import Sequence\n",
    "\n",
    "def is_sequence(obj):\n",
    "    return isinstance(obj, Sequence)\n",
    "\n",
    "print(is_sequence([1, 2, 3]))  # True\n",
    "print(is_sequence((1, 2, 3)))  # True\n",
    "print(is_sequence(\"123\"))      # True\n",
    "print(is_sequence(123))        # False"
   ]
  },
  {
   "cell_type": "markdown",
   "id": "5aa09bc2",
   "metadata": {},
   "source": [
    "In this case, we're checking if an object is either a Sequence (like lists, tuples, strings) or a Mapping (like dictionaries)."
   ]
  },
  {
   "cell_type": "markdown",
   "id": "91d952c6",
   "metadata": {},
   "source": [
    "### try-except vs if-else"
   ]
  },
  {
   "cell_type": "markdown",
   "id": "1e160a36",
   "metadata": {},
   "source": [
    "try-except blocks and if-else statements can both control the flow of the program based on conditions.\n",
    "\n",
    "if-else statements evaluate a condition each time the if statement is encountered. \n",
    "\n",
    "try-except blocks handle the exception only if an exception actually occurs.\n",
    "\n",
    "Thus, use try-except blocks if the possibility of an exception is low, as this can enhance execution speed."
   ]
  },
  {
   "cell_type": "code",
   "execution_count": null,
   "id": "a9efcd80",
   "metadata": {},
   "outputs": [],
   "source": [
    "import random"
   ]
  },
  {
   "cell_type": "code",
   "execution_count": null,
   "id": "71551887",
   "metadata": {},
   "outputs": [],
   "source": [
    "def division(a: int, b: int) -> float:\n",
    "    if b == 0:\n",
    "        print(\"b must not be zero\") \n",
    "    else:\n",
    "        return a / b\n",
    "\n",
    "for _ in range(100):\n",
    "    b = random.randint(0, 100)\n",
    "    division(1, b)"
   ]
  },
  {
   "cell_type": "code",
   "execution_count": null,
   "id": "7705654d",
   "metadata": {},
   "outputs": [],
   "source": [
    "def division(a: int, b: int) -> float:\n",
    "    try:\n",
    "        return a / b\n",
    "    except ZeroDivisionError:\n",
    "        print(\"b must not be zero\")\n",
    "\n",
    "\n",
    "for _ in range(100):\n",
    "    b = random.randint(0, 100)\n",
    "    division(1, b)"
   ]
  },
  {
   "cell_type": "markdown",
   "id": "b2a79868",
   "metadata": {},
   "source": [
    "### Never Catch All Exceptions"
   ]
  },
  {
   "cell_type": "markdown",
   "id": "60fb21b0",
   "metadata": {},
   "source": [
    "You should be explicit about the name of the exceptions you will catch for more precise error handling. Catching any exceptions can cause unintended consequences.\n",
    "\n",
    "For example, in the code below, the error message returned is \"Cannot divide by zero\", even though the actual error is `TypeError`."
   ]
  },
  {
   "cell_type": "code",
   "execution_count": null,
   "id": "ad066003",
   "metadata": {},
   "outputs": [],
   "source": [
    "def divide(num1: float, num2: float):\n",
    "    try:\n",
    "        return num1 / num2\n",
    "    except:\n",
    "        return \"Error: Cannot divide by zero\"\n",
    "\n",
    "\n",
    "divide(10, \"a\")"
   ]
  },
  {
   "cell_type": "markdown",
   "id": "e5c97003",
   "metadata": {},
   "source": [
    "By catching only `ZeroDivisionError`, we will get a more accurate error message when calling `divide(10, \"a\")`."
   ]
  },
  {
   "cell_type": "code",
   "execution_count": null,
   "id": "3db47cdf",
   "metadata": {},
   "outputs": [],
   "source": [
    "def divide(num1: float, num2: float):\n",
    "    try:\n",
    "        return num1 / num2\n",
    "    except ZeroDivisionError:\n",
    "        return \"Error: Cannot divide by zero\"\n",
    "\n",
    "\n",
    "divide(10, \"a\")"
   ]
  },
  {
   "cell_type": "markdown",
   "id": "c06b8274",
   "metadata": {},
   "source": [
    "### Write Clean Error Handling Logic with Else Statements"
   ]
  },
  {
   "cell_type": "markdown",
   "id": "a7054b32",
   "metadata": {},
   "source": [
    "Including both the potentially problematic code and post-success actions within the try block can make the code more messy and harder to follow. \n",
    "\n",
    "Use the else block for post-success actions to create a clear separation between the two."
   ]
  },
  {
   "cell_type": "code",
   "execution_count": null,
   "id": "0e7723a9",
   "metadata": {},
   "outputs": [],
   "source": [
    "nums = [1, 2, \"3\"]\n",
    "try:\n",
    "    sum_nums = sum(nums)\n",
    "    mean_nums = sum_nums / len(nums)\n",
    "    print(f\"The mean of the numbers is {mean_nums}.\")\n",
    "except TypeError as e:\n",
    "    raise TypeError(\"Items in the list must be numbers\") from e"
   ]
  },
  {
   "cell_type": "code",
   "execution_count": null,
   "id": "8daaf015",
   "metadata": {},
   "outputs": [],
   "source": [
    "nums = [1, 2, \"3\"]\n",
    "try:\n",
    "    sum_nums = sum(nums)\n",
    "except TypeError as e:\n",
    "    raise TypeError(\"Items in the list must be numbers\") from e\n",
    "else:\n",
    "    mean_nums = sum_nums / len(nums)\n",
    "    print(f\"The mean of the numbers is {mean_nums}.\")"
   ]
  },
  {
   "cell_type": "markdown",
   "id": "e1ae8331",
   "metadata": {},
   "source": [
    "### Why `__name__ == \"__main__\"` Matters in a Python Script?"
   ]
  },
  {
   "cell_type": "markdown",
   "id": "3ad9ce7d",
   "metadata": {},
   "source": [
    "Without `if __name__ == \"__main__\"` block, other scripts can unintentionally trigger the execution of the main code block when importing from another script \n",
    "\n",
    "In the following example, the `process_data` function is executed twice."
   ]
  },
  {
   "cell_type": "code",
   "execution_count": null,
   "id": "3710eb98",
   "metadata": {},
   "outputs": [],
   "source": [
    "%%writefile process.py \n",
    "def process_data(data: list):\n",
    "    print(\"Process data\")\n",
    "    return [num + 1 for num in data]\n",
    "\n",
    "# Main code block\n",
    "process_data([1, 2, 3])"
   ]
  },
  {
   "cell_type": "code",
   "execution_count": null,
   "id": "48c1141e",
   "metadata": {},
   "outputs": [],
   "source": [
    "%%writefile main.py \n",
    "from process import process_data\n",
    "\n",
    "process_data([1, 2, 3, 4])"
   ]
  },
  {
   "cell_type": "markdown",
   "id": "1089f82a",
   "metadata": {},
   "source": [
    "```bash\n",
    "$ python main.py\n",
    "```"
   ]
  },
  {
   "cell_type": "code",
   "execution_count": null,
   "id": "a3adfabc",
   "metadata": {
    "tags": [
     "remove-input"
    ]
   },
   "outputs": [],
   "source": [
    "!python main.py "
   ]
  },
  {
   "cell_type": "markdown",
   "id": "f3cd7ceb",
   "metadata": {},
   "source": [
    "To prevent such unintended execution, place the main code inside the `if__name__ == \"__main__\"` block."
   ]
  },
  {
   "cell_type": "code",
   "execution_count": null,
   "id": "8ed3f0d4",
   "metadata": {},
   "outputs": [],
   "source": [
    "%%writefile process.py \n",
    "def process_data(data: list):\n",
    "    print(\"Process data\")\n",
    "    return [num + 1 for num in data]\n",
    "\n",
    "\n",
    "if __name__ == \"__main__\":\n",
    "    process_data([1, 2, 3])"
   ]
  },
  {
   "cell_type": "markdown",
   "id": "700661ef",
   "metadata": {},
   "source": [
    "```bash\n",
    "$ python main.py\n",
    "```"
   ]
  },
  {
   "cell_type": "code",
   "execution_count": null,
   "id": "a01064a9",
   "metadata": {
    "tags": [
     "remove-input"
    ]
   },
   "outputs": [],
   "source": [
    "!python main.py "
   ]
  }
 ],
 "metadata": {
  "jupytext": {
   "text_representation": {
    "extension": ".md",
    "format_name": "myst",
    "format_version": 0.13,
    "jupytext_version": "1.16.7"
   }
  },
  "kernelspec": {
   "display_name": "Python 3 (ipykernel)",
   "language": "python",
   "name": "python3"
  },
  "source_map": [
   12,
   16,
   20,
   24,
   28,
   32,
   36,
   40,
   44,
   48,
   50,
   54,
   59,
   63,
   67,
   79,
   93,
   97,
   105,
   121,
   125,
   129,
   135,
   139,
   143,
   146,
   150,
   155,
   160,
   166,
   171,
   175,
   181,
   195,
   199,
   203,
   209,
   213,
   215,
   219,
   225,
   229,
   231,
   235,
   239,
   246,
   252,
   257,
   262,
   267,
   270,
   274,
   280,
   286,
   291,
   293,
   297,
   304,
   308,
   312,
   316,
   328,
   334,
   348,
   354,
   358,
   362,
   370,
   374,
   378,
   382,
   389,
   392,
   396,
   402,
   407,
   415,
   419,
   423,
   429,
   435,
   451,
   453,
   459,
   485,
   489,
   496,
   513,
   517,
   543,
   547,
   561,
   573,
   577,
   588,
   592,
   609,
   613,
   621,
   623,
   627,
   631,
   635,
   642,
   646,
   652,
   656,
   660,
   671,
   676,
   680,
   688,
   695,
   699,
   706,
   714,
   718,
   726,
   730,
   740,
   744,
   748,
   758,
   762,
   774,
   785,
   789,
   795,
   804,
   808,
   817,
   821,
   827,
   837,
   846,
   850,
   856,
   866,
   871,
   877,
   881,
   885,
   894,
   900
  ]
 },
 "nbformat": 4,
 "nbformat_minor": 5
}