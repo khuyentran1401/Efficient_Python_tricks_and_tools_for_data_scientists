{
 "cells": [
  {
   "attachments": {},
   "cell_type": "markdown",
   "id": "933e6dff",
   "metadata": {},
   "source": [
    "## Good Python Practices"
   ]
  },
  {
   "attachments": {},
   "cell_type": "markdown",
   "id": "4d4af5ff",
   "metadata": {},
   "source": [
    "This section includes some best practices to write Python code. "
   ]
  },
  {
   "attachments": {},
   "cell_type": "markdown",
   "id": "3c9f0d5a",
   "metadata": {},
   "source": [
    "### Write Meaningful Names"
   ]
  },
  {
   "attachments": {},
   "cell_type": "markdown",
   "id": "36b850cc",
   "metadata": {},
   "source": [
    "It is a bad practice to use vague names such as `x`, `y`, `z` in your Python code since they don't give you any information about their roles in the code. "
   ]
  },
  {
   "cell_type": "code",
   "execution_count": 1,
   "id": "6402216c",
   "metadata": {
    "ExecuteTime": {
     "end_time": "2022-03-15T14:05:37.625403Z",
     "start_time": "2022-03-15T14:05:37.612839Z"
    }
   },
   "outputs": [],
   "source": [
    "x = 10 \n",
    "y = 5 \n",
    "z = x + y  "
   ]
  },
  {
   "attachments": {},
   "cell_type": "markdown",
   "id": "1b7154fd",
   "metadata": {},
   "source": [
    "Write declarative variables names instead. You can also add type hints to make the types of these variables more obvious.  "
   ]
  },
  {
   "cell_type": "code",
   "execution_count": 3,
   "id": "0b624901",
   "metadata": {
    "ExecuteTime": {
     "end_time": "2022-03-15T14:08:41.841894Z",
     "start_time": "2022-03-15T14:08:41.836364Z"
    }
   },
   "outputs": [],
   "source": [
    "num_members: int = 10\n",
    "num_guests: int = 5\n",
    "sum_: int = num_members + num_guests  "
   ]
  },
  {
   "attachments": {},
   "cell_type": "markdown",
   "id": "5cd21750",
   "metadata": {},
   "source": [
    "### Assign Names to Values"
   ]
  },
  {
   "attachments": {},
   "cell_type": "markdown",
   "id": "67793126",
   "metadata": {},
   "source": [
    "It can be confusing for others to understand the roles of  some values in your code."
   ]
  },
  {
   "cell_type": "code",
   "execution_count": 4,
   "id": "d9408454",
   "metadata": {},
   "outputs": [],
   "source": [
    "circle_area = 3.14 * 5**2"
   ]
  },
  {
   "attachments": {},
   "cell_type": "markdown",
   "id": "7e0804dc",
   "metadata": {},
   "source": [
    "Thus, it is a good practice to assign names to your variables to make them readable to others. "
   ]
  },
  {
   "cell_type": "code",
   "execution_count": 5,
   "id": "f9a9d8d3",
   "metadata": {},
   "outputs": [],
   "source": [
    "PI = 3.14\n",
    "RADIUS = 5\n",
    "\n",
    "circle_area = PI * RADIUS**2"
   ]
  },
  {
   "attachments": {},
   "cell_type": "markdown",
   "id": "004067f4",
   "metadata": {},
   "source": [
    "### Name Complex Conditions to Make Your Code More Readable"
   ]
  },
  {
   "attachments": {},
   "cell_type": "markdown",
   "id": "34c1c7a8",
   "metadata": {},
   "source": [
    "Consider naming your conditions if your if-else statement is too complex. Doing so will improve the readability of your code."
   ]
  },
  {
   "cell_type": "code",
   "execution_count": 21,
   "id": "0876205d",
   "metadata": {},
   "outputs": [
    {
     "name": "stdout",
     "output_type": "stream",
     "text": [
      "Both conditions are true!\n"
     ]
    }
   ],
   "source": [
    "# Confusing\n",
    "\n",
    "x = -10\n",
    "y = 5\n",
    "\n",
    "if (x % 2 == 0 and x < 0) and (y % 2 != 0 and y > 0):\n",
    "    print(\"Both conditions are true!\")\n",
    "else:\n",
    "    print(\"At least one condition is false.\")\n"
   ]
  },
  {
   "cell_type": "code",
   "execution_count": 22,
   "id": "bd94ba40",
   "metadata": {},
   "outputs": [
    {
     "name": "stdout",
     "output_type": "stream",
     "text": [
      "Both conditions are true!\n"
     ]
    }
   ],
   "source": [
    "# Clearer\n",
    "\n",
    "x = -10\n",
    "y = 5\n",
    "\n",
    "# Assign names to conditions\n",
    "x_is_even_and_negative = x % 2 == 0 and x < 0\n",
    "y_is_odd_and_positive = y % 2 != 0 and y > 0\n",
    "\n",
    "if (x_is_even_and_negative) and (y_is_odd_and_positive):\n",
    "    print(\"Both conditions are true!\")\n",
    "else:\n",
    "    print(\"At least one condition is false.\")\n"
   ]
  },
  {
   "attachments": {},
   "cell_type": "markdown",
   "id": "eb89fff1",
   "metadata": {},
   "source": [
    "### Avoid Duplication in Your Code"
   ]
  },
  {
   "attachments": {},
   "cell_type": "markdown",
   "id": "d65ab818",
   "metadata": {},
   "source": [
    "While writing code, we should avoid duplication because:\n",
    "- It is redundant\n",
    "- If we make a change to one piece of code, we need to remember to make the same change to another piece of code. Otherwise, we will introduce bugs into our code.\n",
    "\n",
    "In the code below, we use the filter `X['date'] > date(2021, 2, 8)` twice. To avoid duplication, we can assign the filter to a variable, then use that variable to filter other arrays."
   ]
  },
  {
   "cell_type": "code",
   "execution_count": null,
   "id": "4a3c0a68",
   "metadata": {},
   "outputs": [],
   "source": [
    "import pandas as pd \n",
    "from datetime import date\n",
    "\n",
    "df = pd.DataFrame({'date': [date(2021, 2, 8), date(2021, 2, 9), date(2021, 2, 10)],\n",
    "\t\t\t\t\t\t\t\t\t'val1': [1,2,3], 'val2': [0,1,0]})\n",
    "X, y = df.iloc[:, :1], df.iloc[:, 2]\n",
    "\n",
    "# Instead of this\n",
    "subset_X = X[X['date'] > date(2021, 2, 8)]\n",
    "subset_y = y[X['date'] > date(2021, 2, 8)]\n",
    "\n",
    "# Do this\n",
    "filt = df['date'] > date(2021, 2, 8)\n",
    "subset_X = X[filt]\n",
    "subset_y = y[filt]"
   ]
  },
  {
   "attachments": {},
   "cell_type": "markdown",
   "id": "cd4106c0",
   "metadata": {},
   "source": [
    "### Underscore(_): Ignore Values That Will Not Be Used"
   ]
  },
  {
   "attachments": {},
   "cell_type": "markdown",
   "id": "b897c471",
   "metadata": {},
   "source": [
    "When assigning the values returned from a function, you might want to ignore some values that are not used in future code. If so, assign those values to underscores `_`."
   ]
  },
  {
   "cell_type": "code",
   "execution_count": 1,
   "id": "8bb44947",
   "metadata": {
    "ExecuteTime": {
     "end_time": "2021-08-30T01:27:15.184272Z",
     "start_time": "2021-08-30T01:27:15.145631Z"
    }
   },
   "outputs": [
    {
     "data": {
      "text/plain": [
       "2"
      ]
     },
     "execution_count": 1,
     "metadata": {},
     "output_type": "execute_result"
    }
   ],
   "source": [
    "def return_two():\n",
    "    return 1, 2\n",
    "\n",
    "_, var = return_two()\n",
    "var"
   ]
  },
  {
   "attachments": {},
   "cell_type": "markdown",
   "id": "48e9e3b5",
   "metadata": {},
   "source": [
    "### Underscore “_”: Ignore The Index in Python For Loops"
   ]
  },
  {
   "attachments": {},
   "cell_type": "markdown",
   "id": "cc62268c",
   "metadata": {},
   "source": [
    "If you want to repeat a loop a specific number of times but don’t care about the index, you can use `_`. "
   ]
  },
  {
   "cell_type": "code",
   "execution_count": 2,
   "id": "e45c91aa",
   "metadata": {
    "ExecuteTime": {
     "end_time": "2021-08-30T01:30:49.136906Z",
     "start_time": "2021-08-30T01:30:49.128051Z"
    }
   },
   "outputs": [
    {
     "name": "stdout",
     "output_type": "stream",
     "text": [
      "Hello\n",
      "Hello\n",
      "Hello\n",
      "Hello\n",
      "Hello\n"
     ]
    }
   ],
   "source": [
    "for _ in range(5):\n",
    "    print('Hello')"
   ]
  },
  {
   "attachments": {},
   "cell_type": "markdown",
   "id": "f287c798",
   "metadata": {},
   "source": [
    "### slice: Make Your Indices More Readable by Naming Your Slice"
   ]
  },
  {
   "attachments": {},
   "cell_type": "markdown",
   "id": "71045b70",
   "metadata": {},
   "source": [
    "Have you ever found it difficult to understand code that uses hardcoded slice indices? \n",
    "For example, in this code, It's impossible to discern the meanings of `prices[:4]` and `prices[4:]` without additional context or comments in the code."
   ]
  },
  {
   "cell_type": "code",
   "execution_count": 4,
   "id": "1c24d470",
   "metadata": {},
   "outputs": [
    {
     "data": {
      "text/plain": [
       "2.5"
      ]
     },
     "execution_count": 4,
     "metadata": {},
     "output_type": "execute_result"
    }
   ],
   "source": [
    "prices = [5, 3, 5, 4, 5, 3, 3.5, 3]\n",
    "\n",
    "price_difference = sum(prices[:4]) - sum(prices[4:])\n",
    "price_difference"
   ]
  },
  {
   "attachments": {},
   "cell_type": "markdown",
   "id": "030da47e",
   "metadata": {},
   "source": [
    "To make your code more transparent and easier to maintain, consider naming your slice objects using Python's built-in slice function. \n",
    "\n",
    "By using named slices like this, you can instantly see that the values in the indices from 0 to 4 are in January, while the rest of the values are in February. "
   ]
  },
  {
   "cell_type": "code",
   "execution_count": null,
   "id": "f9d50d1e",
   "metadata": {},
   "outputs": [
    {
     "data": {
      "text/plain": [
       "2.5"
      ]
     },
     "metadata": {},
     "output_type": "display_data"
    }
   ],
   "source": [
    "JANUARY = slice(0, 4)\n",
    "FEBRUARY = slice(4, len(prices))\n",
    "price_difference = sum(prices[JANUARY]) - sum(prices[FEBRUARY])\n",
    "price_difference"
   ]
  },
  {
   "attachments": {},
   "cell_type": "markdown",
   "id": "0380f977",
   "metadata": {},
   "source": [
    "### Python Pass Statement"
   ]
  },
  {
   "attachments": {},
   "cell_type": "markdown",
   "id": "2f058f68",
   "metadata": {},
   "source": [
    "If you want to create code that does a particular thing but don’t know how to write that code yet, put that code in a function then use `pass`.\n",
    "\n",
    "Once you have finished writing the code in a high level, start to go back to the functions and replace `pass` with the code for that function. This will prevent your thoughts from being disrupted. "
   ]
  },
  {
   "cell_type": "code",
   "execution_count": null,
   "id": "bebd9e13",
   "metadata": {},
   "outputs": [],
   "source": [
    "def say_hello():\n",
    "    pass \n",
    "\n",
    "def ask_to_sign_in():\n",
    "    pass \n",
    "\n",
    "def main(is_user: bool):\n",
    "    if is_user:\n",
    "        say_hello()\n",
    "    else:\n",
    "        ask_to_sign_in()\n",
    "\n",
    "main(is_user=True)"
   ]
  },
  {
   "attachments": {},
   "cell_type": "markdown",
   "id": "277cc52f",
   "metadata": {},
   "source": [
    "### Stop using = operator to create a copy of a Python list. Use copy method instead"
   ]
  },
  {
   "attachments": {},
   "cell_type": "markdown",
   "id": "f611329b",
   "metadata": {},
   "source": [
    "When you create a copy of a Python list using the `=` operator, a change in the new list will lead to the change in the old list. It is because both lists point to the same object."
   ]
  },
  {
   "cell_type": "code",
   "execution_count": 7,
   "id": "ea715534",
   "metadata": {
    "ExecuteTime": {
     "end_time": "2021-08-29T21:35:28.438832Z",
     "start_time": "2021-08-29T21:35:28.431700Z"
    }
   },
   "outputs": [],
   "source": [
    "l1 = [1, 2, 3]\n",
    "l2 = l1 \n",
    "l2.append(4)"
   ]
  },
  {
   "cell_type": "code",
   "execution_count": 8,
   "id": "93514799",
   "metadata": {
    "ExecuteTime": {
     "end_time": "2021-08-29T21:35:34.251541Z",
     "start_time": "2021-08-29T21:35:34.242374Z"
    }
   },
   "outputs": [
    {
     "data": {
      "text/plain": [
       "[1, 2, 3, 4]"
      ]
     },
     "execution_count": 8,
     "metadata": {},
     "output_type": "execute_result"
    }
   ],
   "source": [
    "l2 "
   ]
  },
  {
   "cell_type": "code",
   "execution_count": 9,
   "id": "66cd0eba",
   "metadata": {
    "ExecuteTime": {
     "end_time": "2021-08-29T21:35:38.361689Z",
     "start_time": "2021-08-29T21:35:38.353163Z"
    }
   },
   "outputs": [
    {
     "data": {
      "text/plain": [
       "[1, 2, 3, 4]"
      ]
     },
     "execution_count": 9,
     "metadata": {},
     "output_type": "execute_result"
    }
   ],
   "source": [
    "l1 "
   ]
  },
  {
   "attachments": {},
   "cell_type": "markdown",
   "id": "ebbde94f",
   "metadata": {},
   "source": [
    "Instead of using `=` operator, use `copy()` method. Now your old list will not change when you change your new list. "
   ]
  },
  {
   "cell_type": "code",
   "execution_count": 10,
   "id": "11c5badf",
   "metadata": {
    "ExecuteTime": {
     "end_time": "2021-08-29T21:35:53.291033Z",
     "start_time": "2021-08-29T21:35:53.285624Z"
    }
   },
   "outputs": [],
   "source": [
    "l1 = [1, 2, 3]\n",
    "l2 = l1.copy()\n",
    "l2.append(4)"
   ]
  },
  {
   "cell_type": "code",
   "execution_count": 11,
   "id": "17717e73",
   "metadata": {
    "ExecuteTime": {
     "end_time": "2021-08-29T21:35:55.258140Z",
     "start_time": "2021-08-29T21:35:55.249394Z"
    }
   },
   "outputs": [
    {
     "data": {
      "text/plain": [
       "[1, 2, 3, 4]"
      ]
     },
     "execution_count": 11,
     "metadata": {},
     "output_type": "execute_result"
    }
   ],
   "source": [
    "l2 "
   ]
  },
  {
   "cell_type": "code",
   "execution_count": 12,
   "id": "70138939",
   "metadata": {
    "ExecuteTime": {
     "end_time": "2021-08-29T21:35:57.099547Z",
     "start_time": "2021-08-29T21:35:57.090172Z"
    }
   },
   "outputs": [
    {
     "data": {
      "text/plain": [
       "[1, 2, 3]"
      ]
     },
     "execution_count": 12,
     "metadata": {},
     "output_type": "execute_result"
    }
   ],
   "source": [
    "l1"
   ]
  },
  {
   "attachments": {},
   "cell_type": "markdown",
   "id": "a39ab917",
   "metadata": {},
   "source": [
    "### deepcopy: Copy a Nested Object"
   ]
  },
  {
   "attachments": {},
   "cell_type": "markdown",
   "id": "bba77363",
   "metadata": {},
   "source": [
    "If you want to create a copy of a nested object, use `deepcopy`. While `copy` creates a shallow copy of the original object, `deepcopy` creates a deep copy of the original object. This means that if you change the nested children of a shallow copy, the original object will also change. However, if you change the nested children of a deep copy, the original object will not change."
   ]
  },
  {
   "cell_type": "code",
   "execution_count": 1,
   "id": "a63c3eff",
   "metadata": {},
   "outputs": [],
   "source": [
    "from copy import deepcopy\n",
    "\n",
    "l1 = [1, 2, [3, 4]]\n",
    "l2 = l1.copy() # Create a shallow copy"
   ]
  },
  {
   "cell_type": "code",
   "execution_count": 2,
   "id": "b5ecaf18",
   "metadata": {},
   "outputs": [
    {
     "data": {
      "text/plain": [
       "[6, 2, [3, 4, 5]]"
      ]
     },
     "execution_count": 2,
     "metadata": {},
     "output_type": "execute_result"
    }
   ],
   "source": [
    "l2[0] = 6\n",
    "l2[2].append(5)\n",
    "l2 "
   ]
  },
  {
   "cell_type": "code",
   "execution_count": 3,
   "id": "835f5291",
   "metadata": {},
   "outputs": [
    {
     "data": {
      "text/plain": [
       "[1, 2, [3, 4, 5]]"
      ]
     },
     "execution_count": 3,
     "metadata": {},
     "output_type": "execute_result"
    }
   ],
   "source": [
    "# [3, 4] becomes [3, 4, 5]\n",
    "l1 "
   ]
  },
  {
   "cell_type": "code",
   "execution_count": 4,
   "id": "fe90a91c",
   "metadata": {},
   "outputs": [],
   "source": [
    "l1 = [1, 2, [3, 4]]\n",
    "l3 = deepcopy(l1) # Create a deep copy"
   ]
  },
  {
   "cell_type": "code",
   "execution_count": 5,
   "id": "13e88650",
   "metadata": {},
   "outputs": [
    {
     "data": {
      "text/plain": [
       "[1, 2, [3, 4, 5]]"
      ]
     },
     "execution_count": 5,
     "metadata": {},
     "output_type": "execute_result"
    }
   ],
   "source": [
    "l3[2].append(5)\n",
    "l3  "
   ]
  },
  {
   "cell_type": "code",
   "execution_count": 6,
   "id": "2dfdfde8",
   "metadata": {},
   "outputs": [
    {
     "data": {
      "text/plain": [
       "[1, 2, [3, 4]]"
      ]
     },
     "execution_count": 6,
     "metadata": {},
     "output_type": "execute_result"
    }
   ],
   "source": [
    "# l1 stays the same\n",
    "l1 "
   ]
  },
  {
   "attachments": {},
   "cell_type": "markdown",
   "id": "1dbad4db",
   "metadata": {},
   "source": [
    "### Avoid Side Effects When Using List in a Function"
   ]
  },
  {
   "attachments": {},
   "cell_type": "markdown",
   "id": "2d8f83c4",
   "metadata": {},
   "source": [
    "When using a Python list as an argument in a function, you might inadvertently change its value. \n",
    "\n",
    "For example, in the code below, using the `append` method ends up changing the values of the original list. "
   ]
  },
  {
   "cell_type": "code",
   "execution_count": 1,
   "id": "fb9b85fe",
   "metadata": {},
   "outputs": [],
   "source": [
    "def append_four(nums: list):\n",
    "    nums.append(4)\n",
    "    return nums "
   ]
  },
  {
   "cell_type": "code",
   "execution_count": 2,
   "id": "3439d642",
   "metadata": {},
   "outputs": [],
   "source": [
    "a = [1, 2, 3]\n",
    "b = append_four(a)"
   ]
  },
  {
   "cell_type": "code",
   "execution_count": 3,
   "id": "7067edef",
   "metadata": {},
   "outputs": [
    {
     "data": {
      "text/plain": [
       "[1, 2, 3, 4]"
      ]
     },
     "execution_count": 3,
     "metadata": {},
     "output_type": "execute_result"
    }
   ],
   "source": [
    "a "
   ]
  },
  {
   "attachments": {},
   "cell_type": "markdown",
   "id": "f871574a",
   "metadata": {},
   "source": [
    "If you want to avoid this side effect, use `copy` with a list or `deepcopy` with a nested list in a function. "
   ]
  },
  {
   "cell_type": "code",
   "execution_count": 12,
   "id": "f3c9797d",
   "metadata": {},
   "outputs": [],
   "source": [
    "def append_four(nums: list):\n",
    "    nums1 = nums.copy()\n",
    "    nums1.append(4)\n",
    "    return nums1 "
   ]
  },
  {
   "cell_type": "code",
   "execution_count": 13,
   "id": "62586ebc",
   "metadata": {},
   "outputs": [
    {
     "data": {
      "text/plain": [
       "[1, 2, 3]"
      ]
     },
     "execution_count": 13,
     "metadata": {},
     "output_type": "execute_result"
    }
   ],
   "source": [
    "a = [1, 2, 3]\n",
    "b = append_four(a)\n",
    "a "
   ]
  },
  {
   "cell_type": "markdown",
   "id": "13700b83-dc46-4d25-8b62-b8e0d5d8e84b",
   "metadata": {},
   "source": [
    "### Avoiding Surprises with Mutable Default Arguments in Python"
   ]
  },
  {
   "cell_type": "markdown",
   "id": "6741a35c-eb1d-4929-9ec3-059e89393c1b",
   "metadata": {},
   "source": [
    "Mutable default arguments in Python functions can lead to surprising and often unintended consequences. Consider this example:"
   ]
  },
  {
   "cell_type": "code",
   "execution_count": 1,
   "id": "eafe01ad-2806-4fcc-96d7-b463fc6d26e9",
   "metadata": {},
   "outputs": [
    {
     "name": "stdout",
     "output_type": "stream",
     "text": [
      "After adding 5: [5]\n",
      "After adding 10: [5, 10]\n"
     ]
    }
   ],
   "source": [
    "def add_to_dataset(new_data, dataset=[]):\n",
    "    dataset.append(new_data)\n",
    "    return dataset\n",
    "\n",
    "\n",
    "result1 = add_to_dataset(5)\n",
    "print(f\"After adding 5: {result1}\")\n",
    "\n",
    "\n",
    "result2 = add_to_dataset(10)\n",
    "print(f\"After adding 10: {result2}\")"
   ]
  },
  {
   "cell_type": "markdown",
   "id": "2cc60f6f-ccec-453d-b137-e41605eebb6c",
   "metadata": {},
   "source": [
    "The empty list `[]` default argument is created once at function definition, not each function call. This causes subsequent calls to modify the same list, leading to surprising results and potential data processing bugs.\n",
    "\n",
    "To avoid this issue, use `None` as the default argument and create a new list inside the function:"
   ]
  },
  {
   "cell_type": "code",
   "execution_count": 2,
   "id": "faf5d84d-c7f9-4110-a108-c7e46521b441",
   "metadata": {},
   "outputs": [
    {
     "name": "stdout",
     "output_type": "stream",
     "text": [
      "After adding 5: [5]\n",
      "After adding 10: [10]\n"
     ]
    }
   ],
   "source": [
    "def add_to_dataset(new_data, dataset=None):\n",
    "    if dataset is None:\n",
    "        dataset = []\n",
    "    dataset.append(new_data)\n",
    "    return dataset\n",
    "\n",
    "\n",
    "result1 = add_to_dataset(5)\n",
    "print(f\"After adding 5: {result1}\")\n",
    "\n",
    "\n",
    "result2 = add_to_dataset(10)\n",
    "print(f\"After adding 10: {result2}\")"
   ]
  },
  {
   "cell_type": "markdown",
   "id": "3d905884-ac92-44c3-bdb5-9b741440593c",
   "metadata": {},
   "source": [
    "This approach ensures that a new list is created for each function call unless explicitly provided.\n",
    "\n",
    "By avoiding mutable defaults, you ensure that each function call starts with a clean slate, preventing unexpected side effects and making your code more predictable."
   ]
  },
  {
   "attachments": {},
   "cell_type": "markdown",
   "id": "8ddebcb2",
   "metadata": {},
   "source": [
    "### Enumerate: Get Counter and Value While Looping\n"
   ]
  },
  {
   "attachments": {},
   "cell_type": "markdown",
   "id": "96c91e29",
   "metadata": {},
   "source": [
    "Are you using `for i in range(len(array))` to access both the index and the value of the array? If so, use `enumerate` instead. It produces the same result but it is much cleaner. "
   ]
  },
  {
   "cell_type": "code",
   "execution_count": 13,
   "id": "44ee4a4a",
   "metadata": {
    "ExecuteTime": {
     "end_time": "2021-08-29T21:47:17.142382Z",
     "start_time": "2021-08-29T21:47:17.131265Z"
    }
   },
   "outputs": [
    {
     "name": "stdout",
     "output_type": "stream",
     "text": [
      "0 a\n",
      "1 b\n",
      "2 c\n",
      "3 d\n",
      "4 e\n"
     ]
    }
   ],
   "source": [
    "arr = ['a', 'b', 'c', 'd', 'e']\n",
    "\n",
    "# Instead of this\n",
    "for i in range(len(arr)):\n",
    "    print(i, arr[i])"
   ]
  },
  {
   "cell_type": "code",
   "execution_count": 14,
   "id": "326acdd8",
   "metadata": {
    "ExecuteTime": {
     "end_time": "2021-08-29T21:47:19.212704Z",
     "start_time": "2021-08-29T21:47:19.204724Z"
    }
   },
   "outputs": [
    {
     "name": "stdout",
     "output_type": "stream",
     "text": [
      "0 a\n",
      "1 b\n",
      "2 c\n",
      "3 d\n",
      "4 e\n"
     ]
    }
   ],
   "source": [
    "# Use this\n",
    "for i, val in enumerate(arr):\n",
    "    print(i, val)"
   ]
  },
  {
   "attachments": {},
   "cell_type": "markdown",
   "id": "f2ec263f",
   "metadata": {},
   "source": [
    "### Don't Use Multiple OR Operators. Use in Instead"
   ]
  },
  {
   "attachments": {},
   "cell_type": "markdown",
   "id": "fdb1d396",
   "metadata": {},
   "source": [
    "It is lengthy to write multiple OR operators. You can shorten your conditional statement by using `in` instead. "
   ]
  },
  {
   "cell_type": "code",
   "execution_count": 1,
   "id": "8ded9e47",
   "metadata": {},
   "outputs": [
    {
     "name": "stdout",
     "output_type": "stream",
     "text": [
      "Found one!\n"
     ]
    }
   ],
   "source": [
    "a = 1 \n",
    "\n",
    "if a == 1 or a == 2 or a == 3:\n",
    "    print(\"Found one!\")"
   ]
  },
  {
   "cell_type": "code",
   "execution_count": 2,
   "id": "10bee78a",
   "metadata": {},
   "outputs": [
    {
     "name": "stdout",
     "output_type": "stream",
     "text": [
      "Found one!\n"
     ]
    }
   ],
   "source": [
    "if a in [1, 2, 3]:\n",
    "    print(\"Found one!\")"
   ]
  },
  {
   "attachments": {},
   "cell_type": "markdown",
   "id": "b4b1ffcb",
   "metadata": {},
   "source": [
    "### Stop Using `+` to Concatenate Strings. Use Join Instead "
   ]
  },
  {
   "attachments": {},
   "cell_type": "markdown",
   "id": "e2d557ac",
   "metadata": {},
   "source": [
    "It is more efficient to concatenate strings using the `join` method than the `+` operator.\n",
    "\n",
    "The code below shows the difference in performance between the two approaches."
   ]
  },
  {
   "cell_type": "code",
   "execution_count": 7,
   "id": "ff6fc84b",
   "metadata": {},
   "outputs": [],
   "source": [
    "from random import randint\n",
    "chars = [str(randint(0, 1000)) for _ in range(10000)]"
   ]
  },
  {
   "cell_type": "code",
   "execution_count": 8,
   "id": "a4b7e975",
   "metadata": {},
   "outputs": [
    {
     "name": "stdout",
     "output_type": "stream",
     "text": [
      "411 µs ± 2.98 µs per loop (mean ± std. dev. of 7 runs, 1,000 loops each)\n"
     ]
    }
   ],
   "source": [
    "%%timeit\n",
    "\n",
    "text = \"\"\n",
    "for char in chars:\n",
    "    text += char"
   ]
  },
  {
   "cell_type": "code",
   "execution_count": 9,
   "id": "16992ad6",
   "metadata": {},
   "outputs": [
    {
     "name": "stdout",
     "output_type": "stream",
     "text": [
      "60.5 µs ± 1.01 µs per loop (mean ± std. dev. of 7 runs, 10,000 loops each)\n"
     ]
    }
   ],
   "source": [
    "%%timeit\n",
    "\n",
    "text = \"\".join(chars)"
   ]
  },
  {
   "attachments": {},
   "cell_type": "markdown",
   "id": "dbd62cab",
   "metadata": {},
   "source": [
    "### A Function Should Only Do One Task"
   ]
  },
  {
   "attachments": {},
   "cell_type": "markdown",
   "id": "e727e348",
   "metadata": {},
   "source": [
    "To make code clearer and easier to maintain, functions should only do one task at a time. However, the function `process_data` violates this principle by performing multiple tasks, such as adding new features, adding 1 to a column, and summing all columns. \n",
    "\n",
    "Although comments can be used to explain each block of code, it can be difficult to keep them updated, and testing each unit of code inside a function can be challenging."
   ]
  },
  {
   "cell_type": "code",
   "execution_count": 11,
   "id": "d9beb114",
   "metadata": {},
   "outputs": [],
   "source": [
    "import pandas as pd\n",
    "\n",
    "data = pd.DataFrame({\"a\": [1, 2, 3], \"b\": [4, 5, 6]})\n"
   ]
  },
  {
   "cell_type": "code",
   "execution_count": 12,
   "id": "0a7512a6",
   "metadata": {},
   "outputs": [],
   "source": [
    "def process_data(df: pd.DataFrame):\n",
    "    # Create a copy\n",
    "    data = df.copy()\n",
    "\n",
    "    # Add new features\n",
    "    data[\"c\"] = [1, 1, 1]\n",
    "\n",
    "    # Add 1\n",
    "    data[\"a\"] = data[\"a\"] + 1\n",
    "\n",
    "    # Sum all columns\n",
    "    data[\"sum\"] = data.sum(axis=1)\n",
    "    return data\n"
   ]
  },
  {
   "cell_type": "code",
   "execution_count": 13,
   "id": "138ff50f",
   "metadata": {},
   "outputs": [
    {
     "data": {
      "text/html": [
       "<div>\n",
       "<style scoped>\n",
       "    .dataframe tbody tr th:only-of-type {\n",
       "        vertical-align: middle;\n",
       "    }\n",
       "\n",
       "    .dataframe tbody tr th {\n",
       "        vertical-align: top;\n",
       "    }\n",
       "\n",
       "    .dataframe thead th {\n",
       "        text-align: right;\n",
       "    }\n",
       "</style>\n",
       "<table border=\"1\" class=\"dataframe\">\n",
       "  <thead>\n",
       "    <tr style=\"text-align: right;\">\n",
       "      <th></th>\n",
       "      <th>a</th>\n",
       "      <th>b</th>\n",
       "      <th>c</th>\n",
       "      <th>sum</th>\n",
       "    </tr>\n",
       "  </thead>\n",
       "  <tbody>\n",
       "    <tr>\n",
       "      <th>0</th>\n",
       "      <td>2</td>\n",
       "      <td>4</td>\n",
       "      <td>1</td>\n",
       "      <td>7</td>\n",
       "    </tr>\n",
       "    <tr>\n",
       "      <th>1</th>\n",
       "      <td>3</td>\n",
       "      <td>5</td>\n",
       "      <td>1</td>\n",
       "      <td>9</td>\n",
       "    </tr>\n",
       "    <tr>\n",
       "      <th>2</th>\n",
       "      <td>4</td>\n",
       "      <td>6</td>\n",
       "      <td>1</td>\n",
       "      <td>11</td>\n",
       "    </tr>\n",
       "  </tbody>\n",
       "</table>\n",
       "</div>"
      ],
      "text/plain": [
       "   a  b  c  sum\n",
       "0  2  4  1    7\n",
       "1  3  5  1    9\n",
       "2  4  6  1   11"
      ]
     },
     "execution_count": 13,
     "metadata": {},
     "output_type": "execute_result"
    }
   ],
   "source": [
    "process_data(data)"
   ]
  },
  {
   "attachments": {},
   "cell_type": "markdown",
   "id": "c1f7b02b",
   "metadata": {},
   "source": [
    "A better approach is to split the `process_data` function into smaller functions, each of which performs only one task. The revised code accomplishes this by creating four separate function. These functions are then applied to the DataFrame using the `pipe` method in a specific order to achieve the desired output.\n",
    "\n",
    "Now, the revised code is easier to comprehend and test."
   ]
  },
  {
   "cell_type": "code",
   "execution_count": 17,
   "id": "ee2d1f02",
   "metadata": {},
   "outputs": [
    {
     "data": {
      "text/html": [
       "<div>\n",
       "<style scoped>\n",
       "    .dataframe tbody tr th:only-of-type {\n",
       "        vertical-align: middle;\n",
       "    }\n",
       "\n",
       "    .dataframe tbody tr th {\n",
       "        vertical-align: top;\n",
       "    }\n",
       "\n",
       "    .dataframe thead th {\n",
       "        text-align: right;\n",
       "    }\n",
       "</style>\n",
       "<table border=\"1\" class=\"dataframe\">\n",
       "  <thead>\n",
       "    <tr style=\"text-align: right;\">\n",
       "      <th></th>\n",
       "      <th>a</th>\n",
       "      <th>b</th>\n",
       "      <th>c</th>\n",
       "      <th>sum</th>\n",
       "    </tr>\n",
       "  </thead>\n",
       "  <tbody>\n",
       "    <tr>\n",
       "      <th>0</th>\n",
       "      <td>2</td>\n",
       "      <td>4</td>\n",
       "      <td>1</td>\n",
       "      <td>7</td>\n",
       "    </tr>\n",
       "    <tr>\n",
       "      <th>1</th>\n",
       "      <td>3</td>\n",
       "      <td>5</td>\n",
       "      <td>1</td>\n",
       "      <td>9</td>\n",
       "    </tr>\n",
       "    <tr>\n",
       "      <th>2</th>\n",
       "      <td>4</td>\n",
       "      <td>6</td>\n",
       "      <td>1</td>\n",
       "      <td>11</td>\n",
       "    </tr>\n",
       "  </tbody>\n",
       "</table>\n",
       "</div>"
      ],
      "text/plain": [
       "   a  b  c  sum\n",
       "0  2  4  1    7\n",
       "1  3  5  1    9\n",
       "2  4  6  1   11"
      ]
     },
     "execution_count": 17,
     "metadata": {},
     "output_type": "execute_result"
    }
   ],
   "source": [
    "def create_a_copy(df: pd.DataFrame):\n",
    "    return df.copy()\n",
    "\n",
    "\n",
    "def add_new_features(df: pd.DataFrame):\n",
    "    df[\"c\"] = [1, 1, 1]\n",
    "    return df\n",
    "\n",
    "\n",
    "def add_one(df: pd.DataFrame):\n",
    "    df[\"a\"] = df[\"a\"] + 1\n",
    "    return df\n",
    "\n",
    "\n",
    "def sum_all_columns(df: pd.DataFrame):\n",
    "    df[\"sum\"] = df.sum(axis=1)\n",
    "    return df\n",
    "\n",
    "\n",
    "(data\n",
    "    .pipe(create_a_copy)\n",
    "    .pipe(add_new_features)\n",
    "    .pipe(add_one)\n",
    "    .pipe(sum_all_columns)\n",
    ")\n"
   ]
  },
  {
   "attachments": {},
   "cell_type": "markdown",
   "id": "1e4d777e",
   "metadata": {},
   "source": [
    "### A Function Should Have Fewer Than Four Arguments"
   ]
  },
  {
   "attachments": {},
   "cell_type": "markdown",
   "id": "15ae4fc3",
   "metadata": {},
   "source": [
    "Having multiple function parameters can result in code that is hard to maintain, difficult to read, and prone to errors when passing arguments in the wrong order. \n",
    "\n",
    "To demonstrate this, start by creating two different datasets.\n",
    "\n"
   ]
  },
  {
   "cell_type": "code",
   "execution_count": 6,
   "id": "f555280c-58b0-4d23-9c46-1724058c3e29",
   "metadata": {},
   "outputs": [],
   "source": [
    "import numpy as np\n",
    "import matplotlib.pyplot as plt\n",
    "from datetime import datetime, timedelta\n",
    "\n",
    "# Generate sample time series data\n",
    "np.random.seed(42)\n",
    "\n",
    "# Dataset 1: Stock-like price movements\n",
    "n_points = 100\n",
    "trend1 = np.linspace(100, 150, n_points)\n",
    "noise1 = np.cumsum(np.random.normal(0, 1, n_points))\n",
    "stock_prices = trend1 + noise1\n",
    "\n",
    "# Dataset 2: Seasonal pattern with noise\n",
    "t = np.linspace(0, 4*np.pi, n_points)\n",
    "seasonal_data = 10 * np.sin(t) + np.random.normal(0, 1, n_points)\n"
   ]
  },
  {
   "cell_type": "markdown",
   "id": "1cac4f68-4c00-4e01-8aa9-64c8a31ef4e4",
   "metadata": {},
   "source": [
    "Now, let's define the `plot_time_series` function with many arguments."
   ]
  },
  {
   "cell_type": "code",
   "execution_count": 9,
   "id": "7e87e8e8-d43a-41d7-90b1-499ebccf6bd9",
   "metadata": {},
   "outputs": [],
   "source": [
    "def plot_time_series(\n",
    "    data,\n",
    "    x_label: str,\n",
    "    y_label: str,\n",
    "    title: str,\n",
    "    line_color: str = \"blue\",\n",
    "    line_width: float = 1.5,\n",
    "    marker: str = \"o\",\n",
    "    marker_size: int = 6,\n",
    "    grid: bool = True,\n",
    "):\n",
    "    plt.style.use(\"dark_background\")\n",
    "    plt.plot(\n",
    "        data,\n",
    "        color=line_color,\n",
    "        linewidth=line_width,\n",
    "        marker=marker,\n",
    "        markersize=marker_size,\n",
    "    )\n",
    "    plt.xlabel(x_label)\n",
    "    plt.ylabel(y_label)\n",
    "    plt.title(title)\n",
    "    if grid:\n",
    "        plt.grid(True)\n",
    "    plt.show()"
   ]
  },
  {
   "cell_type": "markdown",
   "id": "54169ee1-adfe-4a72-a70a-512e8c7f6f08",
   "metadata": {},
   "source": [
    "If we want to reuse the same function with the same style for different datasets, we will have to pass all the arguments again."
   ]
  },
  {
   "cell_type": "code",
   "execution_count": 11,
   "id": "ff67da27-dbeb-48b0-959c-ed4b591b7fdd",
   "metadata": {},
   "outputs": [
    {
     "data": {
      "image/png": "[encoded data removed]",
      "text/plain": [
       "<Figure size 640x480 with 1 Axes>"
      ]
     },
     "metadata": {},
     "output_type": "display_data"
    }
   ],
   "source": [
    "plot_time_series(\n",
    "    data=stock_prices,\n",
    "    x_label=\"Trading Days\",\n",
    "    y_label=\"Stock Price ($)\",\n",
    "    title=\"Simulated Stock Price Movement\",\n",
    "    line_color=\"#72BEFA\",\n",
    "    line_width=1.5,\n",
    "    marker=\".\",\n",
    "    marker_size=8,\n",
    "    grid=True,\n",
    ")"
   ]
  },
  {
   "cell_type": "code",
   "execution_count": 13,
   "id": "2d49b2c6-b2cd-483a-9b3f-4ea1e24a014b",
   "metadata": {},
   "outputs": [
    {
     "data": {
      "image/png": "[encoded data removed]",
      "text/plain": [
       "<Figure size 640x480 with 1 Axes>"
      ]
     },
     "metadata": {},
     "output_type": "display_data"
    }
   ],
   "source": [
    "plot_time_series(\n",
    "    data=seasonal_data,\n",
    "    x_label=\"Time\",\n",
    "    y_label=\"Amplitude\",\n",
    "    title=\"Seasonal Pattern with Noise\",\n",
    "    line_color=\"#72BEFA\",\n",
    "    line_width=1.5,\n",
    "    marker=\".\",\n",
    "    marker_size=8,\n",
    "    grid=True,\n",
    ")"
   ]
  },
  {
   "cell_type": "markdown",
   "id": "60b0bc32-924c-4388-8d92-8d164fcb948c",
   "metadata": {},
   "source": [
    "Dataclasses are a simple way to create classes that mainly hold data. We can use dataclasses to simplify the function parameters."
   ]
  },
  {
   "cell_type": "code",
   "execution_count": 22,
   "id": "f9c34693-bb6c-4f30-acb8-920b0513c6f5",
   "metadata": {},
   "outputs": [],
   "source": [
    "from dataclasses import dataclass\n",
    "\n",
    "\n",
    "@dataclass\n",
    "class PlotStyle:\n",
    "    line_color: str = \"#72BEFA\"\n",
    "    line_width: float = 1.5\n",
    "    marker: str = \".\"\n",
    "    marker_size: int = 8\n",
    "    grid: bool = True"
   ]
  },
  {
   "cell_type": "markdown",
   "id": "b94988b5-fc51-4c48-89a0-e7f54aae473b",
   "metadata": {},
   "source": [
    "We can now modify the `plot_time_series` function to accept a `PlotStyle` object."
   ]
  },
  {
   "cell_type": "code",
   "execution_count": 24,
   "id": "9f1c808f-265b-467c-87fa-c8cfe51f0a0b",
   "metadata": {},
   "outputs": [],
   "source": [
    "def plot_time_series(\n",
    "    data, x_label: str, y_label: str, title: str, style: PlotStyle = PlotStyle()\n",
    "):\n",
    "    plt.plot(\n",
    "        data,\n",
    "        color=style.line_color,\n",
    "        linewidth=style.line_width,\n",
    "        marker=style.marker,\n",
    "        markersize=style.marker_size,\n",
    "    )\n",
    "    plt.xlabel(x_label)\n",
    "    plt.ylabel(y_label)\n",
    "    plt.title(title)\n",
    "    if style.grid:\n",
    "        plt.grid(True)\n",
    "    plt.show()"
   ]
  },
  {
   "cell_type": "markdown",
   "id": "ab8244bd-fb57-415d-bfd9-55e9d033e500",
   "metadata": {},
   "source": [
    "With the use of dataclasses, we can create a custom style once and reuse it for multiple plots."
   ]
  },
  {
   "cell_type": "code",
   "execution_count": 25,
   "id": "0fe839bb-fea2-4216-958e-d199bea05591",
   "metadata": {},
   "outputs": [
    {
     "data": {
      "image/png": "[encoded data removed]",
      "text/plain": [
       "<Figure size 640x480 with 1 Axes>"
      ]
     },
     "metadata": {},
     "output_type": "display_data"
    }
   ],
   "source": [
    "# Create a custom style once and reuse it\n",
    "custom_style = PlotStyle(line_color=\"#E583B6\", marker=\".\", marker_size=8)\n",
    "\n",
    "# Use the style for multiple plots\n",
    "plot_time_series(stock_prices, \"Time\", \"Value 1\", \"Plot 1\", custom_style)"
   ]
  },
  {
   "cell_type": "code",
   "execution_count": 21,
   "id": "fcbe848b-6708-44ff-8c06-c33684db9f1a",
   "metadata": {},
   "outputs": [
    {
     "data": {
      "image/png": "[encoded data removed]",
      "text/plain": [
       "<Figure size 640x480 with 1 Axes>"
      ]
     },
     "metadata": {},
     "output_type": "display_data"
    }
   ],
   "source": [
    "plot_time_series(seasonal_data, \"Time\", \"Value 2\", \"Plot 2\", custom_style)"
   ]
  },
  {
   "cell_type": "markdown",
   "id": "a6289797-2f36-4d68-9510-b82a99e632be",
   "metadata": {},
   "source": [
    "By using dataclasses, we can avoid passing multiple arguments to the function and make the code more maintainable."
   ]
  },
  {
   "attachments": {},
   "cell_type": "markdown",
   "id": "0d4273fd",
   "metadata": {},
   "source": [
    "### Avoid Using Flags as a Function's Parameters"
   ]
  },
  {
   "attachments": {},
   "cell_type": "markdown",
   "id": "e6ad28c8",
   "metadata": {},
   "source": [
    "A function should only do one thing. If flags are used as a function's parameters, the function is doing more than one thing."
   ]
  },
  {
   "cell_type": "code",
   "execution_count": 2,
   "id": "43e0d6fd",
   "metadata": {},
   "outputs": [],
   "source": [
    "def get_data(is_csv: bool, name: str):\n",
    "    if is_csv:\n",
    "        df = pd.read_csv(name + '.csv')\n",
    "    else:\n",
    "        df = pd.read_pickle(name + '.pkl')\n",
    "    return df  "
   ]
  },
  {
   "attachments": {},
   "cell_type": "markdown",
   "id": "00d5a03d",
   "metadata": {},
   "source": [
    "When you find yourself using flags as a way to run different code, consider splitting your function into different functions."
   ]
  },
  {
   "cell_type": "code",
   "execution_count": null,
   "id": "7ea7aeef",
   "metadata": {},
   "outputs": [],
   "source": [
    "def get_csv_data(name: str):\n",
    "    return pd.read_csv(name + '.csv')\n",
    "\n",
    "def get_pickle_data(name: str):\n",
    "    return pd.read_pickle(name + '.pkl')"
   ]
  },
  {
   "attachments": {},
   "cell_type": "markdown",
   "id": "24e59e1e",
   "metadata": {},
   "source": [
    "### Condense an If-Else Statement into One Line"
   ]
  },
  {
   "attachments": {},
   "cell_type": "markdown",
   "id": "e54f8d7e",
   "metadata": {},
   "source": [
    "If your if-else statement is short, you can condense it into one line for readability. "
   ]
  },
  {
   "cell_type": "code",
   "execution_count": 2,
   "id": "1d7929fe",
   "metadata": {},
   "outputs": [
    {
     "data": {
      "text/plain": [
       "5"
      ]
     },
     "execution_count": 2,
     "metadata": {},
     "output_type": "execute_result"
    }
   ],
   "source": [
    "purchase = 20\n",
    "\n",
    "# if-else statement in several lines\n",
    "if purchase > 100:\n",
    "    shipping_fee = 0\n",
    "else: \n",
    "    shipping_fee = 5\n",
    "shipping_fee"
   ]
  },
  {
   "cell_type": "code",
   "execution_count": 3,
   "id": "b3e1d68f",
   "metadata": {},
   "outputs": [
    {
     "data": {
      "text/plain": [
       "5"
      ]
     },
     "execution_count": 3,
     "metadata": {},
     "output_type": "execute_result"
    }
   ],
   "source": [
    "# if-else statement in one line\n",
    "\n",
    "shipping_fee = 0 if purchase > 100 else 5 \n",
    "shipping_fee"
   ]
  },
  {
   "attachments": {},
   "cell_type": "markdown",
   "id": "0e036a9a",
   "metadata": {},
   "source": [
    "### Efficiently Checking Object Types in Python"
   ]
  },
  {
   "attachments": {},
   "cell_type": "markdown",
   "id": "9d24d6af",
   "metadata": {},
   "source": [
    "The `isinstance()` function in Python is used to check if an object is an instance of a specified type or class. When checking for multiple types, we can optimize our code by using a tuple of types instead of multiple `isinstance()` calls or conditions.\n",
    "\n",
    "Let's break it down:\n",
    "\n",
    "1. Traditional approach (less efficient):"
   ]
  },
  {
   "cell_type": "code",
   "execution_count": 1,
   "id": "90c6d002",
   "metadata": {},
   "outputs": [
    {
     "name": "stdout",
     "output_type": "stream",
     "text": [
      "True\n",
      "True\n",
      "False\n"
     ]
    }
   ],
   "source": [
    "def is_number(num):\n",
    "    return isinstance(num, int) or isinstance(num, float)\n",
    "\n",
    "print(is_number(2))    # True\n",
    "print(is_number(1.5))  # True\n",
    "print(is_number(\"2\"))  # False"
   ]
  },
  {
   "cell_type": "markdown",
   "id": "57d2acb4",
   "metadata": {},
   "source": [
    "2. Optimized approach using a tuple:"
   ]
  },
  {
   "cell_type": "code",
   "execution_count": 2,
   "id": "f29bba13",
   "metadata": {},
   "outputs": [
    {
     "name": "stdout",
     "output_type": "stream",
     "text": [
      "True\n",
      "True\n",
      "False\n"
     ]
    }
   ],
   "source": [
    "def is_number(num):\n",
    "    return isinstance(num, (int, float))\n",
    "\n",
    "print(is_number(2))    # True\n",
    "print(is_number(1.5))  # True\n",
    "print(is_number(\"2\"))  # False"
   ]
  },
  {
   "cell_type": "markdown",
   "id": "d9b34fe6",
   "metadata": {},
   "source": [
    "Benefits of using a tuple:\n",
    "\n",
    "1. Conciseness: The code is more readable and compact.\n",
    "2. Performance: It's slightly more efficient, especially when checking against many types.\n",
    "3. Maintainability: Easier to add or remove types to check against."
   ]
  },
  {
   "cell_type": "markdown",
   "id": "80fb0047",
   "metadata": {},
   "source": [
    "You can extend this concept to check for more types:"
   ]
  },
  {
   "cell_type": "code",
   "execution_count": 7,
   "id": "1371324d",
   "metadata": {},
   "outputs": [
    {
     "name": "stdout",
     "output_type": "stream",
     "text": [
      "True\n",
      "True\n",
      "True\n",
      "False\n"
     ]
    }
   ],
   "source": [
    "def is_sequence(obj):\n",
    "    return isinstance(obj, (list, tuple, str))\n",
    "\n",
    "print(is_sequence([1, 2, 3]))  # True\n",
    "print(is_sequence((1, 2, 3)))  # True\n",
    "print(is_sequence(\"123\"))      # True\n",
    "print(is_sequence(123))        # False"
   ]
  },
  {
   "cell_type": "markdown",
   "id": "7020a0d1",
   "metadata": {},
   "source": [
    "For broader type checking, use Python's abstract base classes:"
   ]
  },
  {
   "cell_type": "code",
   "execution_count": 8,
   "id": "7036c0f7",
   "metadata": {},
   "outputs": [
    {
     "name": "stdout",
     "output_type": "stream",
     "text": [
      "True\n",
      "True\n",
      "True\n",
      "False\n"
     ]
    }
   ],
   "source": [
    "from collections.abc import Sequence\n",
    "\n",
    "def is_sequence(obj):\n",
    "    return isinstance(obj, Sequence)\n",
    "\n",
    "print(is_sequence([1, 2, 3]))  # True\n",
    "print(is_sequence((1, 2, 3)))  # True\n",
    "print(is_sequence(\"123\"))      # True\n",
    "print(is_sequence(123))        # False"
   ]
  },
  {
   "cell_type": "markdown",
   "id": "b941c3df",
   "metadata": {},
   "source": [
    "In this case, we're checking if an object is either a Sequence (like lists, tuples, strings) or a Mapping (like dictionaries)."
   ]
  },
  {
   "attachments": {},
   "cell_type": "markdown",
   "id": "12761fed",
   "metadata": {},
   "source": [
    "### try-except vs if-else"
   ]
  },
  {
   "attachments": {},
   "cell_type": "markdown",
   "id": "40d3d35a",
   "metadata": {},
   "source": [
    "try-except blocks and if-else statements can both control the flow of the program based on conditions.\n",
    "\n",
    "if-else statements evaluate a condition each time the if statement is encountered. \n",
    "\n",
    "try-except blocks handle the exception only if an exception actually occurs.\n",
    "\n",
    "Thus, use try-except blocks if the possibility of an exception is low, as this can enhance execution speed."
   ]
  },
  {
   "cell_type": "code",
   "execution_count": null,
   "id": "fd4e0ee8",
   "metadata": {},
   "outputs": [],
   "source": [
    "import random"
   ]
  },
  {
   "cell_type": "code",
   "execution_count": 20,
   "id": "6a07af92",
   "metadata": {},
   "outputs": [
    {
     "name": "stdout",
     "output_type": "stream",
     "text": [
      "b must not be zero\n",
      "b must not be zero\n",
      "b must not be zero\n"
     ]
    }
   ],
   "source": [
    "def division(a: int, b: int) -> float:\n",
    "    if b == 0:\n",
    "        print(\"b must not be zero\") \n",
    "    else:\n",
    "        return a / b\n",
    "\n",
    "for _ in range(100):\n",
    "    b = random.randint(0, 100)\n",
    "    division(1, b)"
   ]
  },
  {
   "cell_type": "code",
   "execution_count": 21,
   "id": "aa32d169",
   "metadata": {},
   "outputs": [
    {
     "name": "stdout",
     "output_type": "stream",
     "text": [
      "b must not be zero\n"
     ]
    }
   ],
   "source": [
    "def division(a: int, b: int) -> float:\n",
    "    try:\n",
    "        return a / b\n",
    "    except ZeroDivisionError:\n",
    "        print(\"b must not be zero\")\n",
    "\n",
    "\n",
    "for _ in range(100):\n",
    "    b = random.randint(0, 100)\n",
    "    division(1, b)"
   ]
  },
  {
   "attachments": {},
   "cell_type": "markdown",
   "id": "16124a85",
   "metadata": {},
   "source": [
    "### Never Catch All Exceptions"
   ]
  },
  {
   "attachments": {},
   "cell_type": "markdown",
   "id": "3386c7c7",
   "metadata": {},
   "source": [
    "You should be explicit about the name of the exceptions you will catch for more precise error handling. Catching any exceptions can cause unintended consequences.\n",
    "\n",
    "For example, in the code below, the error message returned is \"Cannot divide by zero\", even though the actual error is `TypeError`.  "
   ]
  },
  {
   "cell_type": "code",
   "execution_count": 21,
   "id": "0db11d18",
   "metadata": {},
   "outputs": [
    {
     "data": {
      "text/plain": [
       "'Error: Cannot divide by zero'"
      ]
     },
     "execution_count": 21,
     "metadata": {},
     "output_type": "execute_result"
    }
   ],
   "source": [
    "def divide(num1: float, num2: float):\n",
    "    try:\n",
    "        return num1 / num2\n",
    "    except:\n",
    "        return \"Error: Cannot divide by zero\"\n",
    "\n",
    "\n",
    "divide(10, \"a\")\n"
   ]
  },
  {
   "attachments": {},
   "cell_type": "markdown",
   "id": "7b2e027c",
   "metadata": {},
   "source": [
    "By catching only `ZeroDivisionError`, we will get a more accurate error message when calling `divide(10, \"a\")`."
   ]
  },
  {
   "cell_type": "code",
   "execution_count": 22,
   "id": "7153e7d2",
   "metadata": {},
   "outputs": [
    {
     "ename": "TypeError",
     "evalue": "unsupported operand type(s) for /: 'int' and 'str'",
     "output_type": "error",
     "traceback": [
      "\u001b[0;31m---------------------------------------------------------------------------\u001b[0m",
      "\u001b[0;31mTypeError\u001b[0m                                 Traceback (most recent call last)",
      "Cell \u001b[0;32mIn[22], line 8\u001b[0m\n\u001b[1;32m      4\u001b[0m     \u001b[39mexcept\u001b[39;00m \u001b[39mZeroDivisionError\u001b[39;00m:\n\u001b[1;32m      5\u001b[0m         \u001b[39mreturn\u001b[39;00m \u001b[39m\"\u001b[39m\u001b[39mError: Cannot divide by zero\u001b[39m\u001b[39m\"\u001b[39m\n\u001b[0;32m----> 8\u001b[0m divide(\u001b[39m10\u001b[39;49m, \u001b[39m\"\u001b[39;49m\u001b[39ma\u001b[39;49m\u001b[39m\"\u001b[39;49m)\n",
      "Cell \u001b[0;32mIn[22], line 3\u001b[0m, in \u001b[0;36mdivide\u001b[0;34m(num1, num2)\u001b[0m\n\u001b[1;32m      1\u001b[0m \u001b[39mdef\u001b[39;00m \u001b[39mdivide\u001b[39m(num1: \u001b[39mfloat\u001b[39m, num2: \u001b[39mfloat\u001b[39m):\n\u001b[1;32m      2\u001b[0m     \u001b[39mtry\u001b[39;00m:\n\u001b[0;32m----> 3\u001b[0m         \u001b[39mreturn\u001b[39;00m num1 \u001b[39m/\u001b[39;49m num2\n\u001b[1;32m      4\u001b[0m     \u001b[39mexcept\u001b[39;00m \u001b[39mZeroDivisionError\u001b[39;00m:\n\u001b[1;32m      5\u001b[0m         \u001b[39mreturn\u001b[39;00m \u001b[39m\"\u001b[39m\u001b[39mError: Cannot divide by zero\u001b[39m\u001b[39m\"\u001b[39m\n",
      "\u001b[0;31mTypeError\u001b[0m: unsupported operand type(s) for /: 'int' and 'str'"
     ]
    }
   ],
   "source": [
    "def divide(num1: float, num2: float):\n",
    "    try:\n",
    "        return num1 / num2\n",
    "    except ZeroDivisionError:\n",
    "        return \"Error: Cannot divide by zero\"\n",
    "\n",
    "\n",
    "divide(10, \"a\")\n"
   ]
  },
  {
   "attachments": {},
   "cell_type": "markdown",
   "id": "5ebcd9b0",
   "metadata": {},
   "source": [
    "### Write Clean Error Handling Logic with Else Statements"
   ]
  },
  {
   "attachments": {},
   "cell_type": "markdown",
   "id": "bf12b6a3",
   "metadata": {},
   "source": [
    "Including both the potentially problematic code and post-success actions within the try block can make the code more messy and harder to follow. \n",
    "\n",
    "Use the else block for post-success actions to create a clear separation between the two."
   ]
  },
  {
   "cell_type": "code",
   "execution_count": null,
   "id": "20aae08d",
   "metadata": {},
   "outputs": [],
   "source": [
    "nums = [1, 2, \"3\"]\n",
    "try:\n",
    "    sum_nums = sum(nums)\n",
    "    mean_nums = sum_nums / len(nums)\n",
    "    print(f\"The mean of the numbers is {mean_nums}.\")\n",
    "except TypeError as e:\n",
    "    raise TypeError(\"Items in the list must be numbers\") from e\n"
   ]
  },
  {
   "cell_type": "code",
   "execution_count": null,
   "id": "1624f8f3",
   "metadata": {},
   "outputs": [],
   "source": [
    "nums = [1, 2, \"3\"]\n",
    "try:\n",
    "    sum_nums = sum(nums)\n",
    "except TypeError as e:\n",
    "    raise TypeError(\"Items in the list must be numbers\") from e\n",
    "else:\n",
    "    mean_nums = sum_nums / len(nums)\n",
    "    print(f\"The mean of the numbers is {mean_nums}.\")\n"
   ]
  },
  {
   "attachments": {},
   "cell_type": "markdown",
   "id": "5737846a",
   "metadata": {},
   "source": [
    "### Why `__name__ == \"__main__\"` Matters in a Python Script?"
   ]
  },
  {
   "attachments": {},
   "cell_type": "markdown",
   "id": "f069ddcd",
   "metadata": {},
   "source": [
    "Without `if __name__ == \"__main__\"` block, other scripts can unintentionally trigger the execution of the main code block when importing from another script \n",
    "\n",
    "In the following example, the `process_data` function is executed twice.  "
   ]
  },
  {
   "cell_type": "code",
   "execution_count": 2,
   "id": "79d9387f",
   "metadata": {},
   "outputs": [
    {
     "name": "stdout",
     "output_type": "stream",
     "text": [
      "Overwriting process.py\n"
     ]
    }
   ],
   "source": [
    "%%writefile process.py \n",
    "def process_data(data: list):\n",
    "    print(\"Process data\")\n",
    "    return [num + 1 for num in data]\n",
    "\n",
    "# Main code block\n",
    "process_data([1, 2, 3])\n"
   ]
  },
  {
   "cell_type": "code",
   "execution_count": 5,
   "id": "5db88555",
   "metadata": {},
   "outputs": [
    {
     "name": "stdout",
     "output_type": "stream",
     "text": [
      "Overwriting main.py\n"
     ]
    }
   ],
   "source": [
    "%%writefile main.py \n",
    "from process import process_data\n",
    "\n",
    "process_data([1, 2, 3, 4])\n"
   ]
  },
  {
   "attachments": {},
   "cell_type": "markdown",
   "id": "d1f4d786",
   "metadata": {},
   "source": [
    "```bash\n",
    "$ python main.py\n",
    "```"
   ]
  },
  {
   "cell_type": "code",
   "execution_count": 6,
   "id": "7b9b1e0a",
   "metadata": {
    "tags": [
     "remove-input"
    ]
   },
   "outputs": [
    {
     "name": "stdout",
     "output_type": "stream",
     "text": [
      "Process data\n",
      "Process data\n"
     ]
    }
   ],
   "source": [
    "!python main.py "
   ]
  },
  {
   "attachments": {},
   "cell_type": "markdown",
   "id": "bffab57b",
   "metadata": {},
   "source": [
    "To prevent such unintended execution, place the main code inside the `if__name__ == \"__main__\"` block. "
   ]
  },
  {
   "cell_type": "code",
   "execution_count": 8,
   "id": "fef6e431",
   "metadata": {},
   "outputs": [
    {
     "name": "stdout",
     "output_type": "stream",
     "text": [
      "Overwriting process.py\n"
     ]
    }
   ],
   "source": [
    "%%writefile process.py \n",
    "def process_data(data: list):\n",
    "    print(\"Process data\")\n",
    "    return [num + 1 for num in data]\n",
    "\n",
    "\n",
    "if __name__ == \"__main__\":\n",
    "    process_data([1, 2, 3])\n"
   ]
  },
  {
   "attachments": {},
   "cell_type": "markdown",
   "id": "c5048737",
   "metadata": {},
   "source": [
    "```bash\n",
    "$ python main.py\n",
    "```"
   ]
  },
  {
   "cell_type": "code",
   "execution_count": 9,
   "id": "c90684bb",
   "metadata": {
    "tags": [
     "remove-input"
    ]
   },
   "outputs": [
    {
     "name": "stdout",
     "output_type": "stream",
     "text": [
      "Process data\n"
     ]
    }
   ],
   "source": [
    "!python main.py "
   ]
  }
 ],
 "metadata": {
  "hide_input": false,
  "kernelspec": {
   "display_name": "Python 3 (ipykernel)",
   "language": "python",
   "name": "python3"
  },
  "language_info": {
   "codemirror_mode": {
    "name": "ipython",
    "version": 3
   },
   "file_extension": ".py",
   "mimetype": "text/x-python",
   "name": "python",
   "nbconvert_exporter": "python",
   "pygments_lexer": "ipython3",
   "version": "3.11.6"
  },
  "toc": {
   "base_numbering": 1,
   "nav_menu": {},
   "number_sections": true,
   "sideBar": true,
   "skip_h1_title": false,
   "title_cell": "Table of Contents",
   "title_sidebar": "Contents",
   "toc_cell": false,
   "toc_position": {},
   "toc_section_display": true,
   "toc_window_display": false
  }
 },
 "nbformat": 4,
 "nbformat_minor": 5
}
