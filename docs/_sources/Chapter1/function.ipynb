{
 "cells": [
  {
   "attachments": {},
   "cell_type": "markdown",
   "id": "406dda9e",
   "metadata": {},
   "source": [
    "## Function"
   ]
  },
  {
   "attachments": {},
   "cell_type": "markdown",
   "id": "e631e26e",
   "metadata": {},
   "source": [
    "### Omit Else Clauses in a Python Function to Improve Code Readability"
   ]
  },
  {
   "attachments": {},
   "cell_type": "markdown",
   "id": "cf2e8205",
   "metadata": {},
   "source": [
    "If you are using if statements to return different values, adding an else clause may introduce unnecessary complexity. Omitting the else clause for the last condition will make the code simpler and easier to read."
   ]
  },
  {
   "cell_type": "code",
   "execution_count": 4,
   "id": "a66e0275",
   "metadata": {},
   "outputs": [],
   "source": [
    "def get_discount(price):\n",
    "    if price >= 100:\n",
    "        return 20\n",
    "    if price >= 50:\n",
    "        return 10\n",
    "    else: # not necessary\n",
    "        return 5"
   ]
  },
  {
   "cell_type": "code",
   "execution_count": 2,
   "id": "edf446a9",
   "metadata": {},
   "outputs": [],
   "source": [
    "def get_discount(price):\n",
    "    if price >= 100:\n",
    "        return 20\n",
    "    if price >= 50:\n",
    "        return 10\n",
    "    return 5 # omit else"
   ]
  },
  {
   "attachments": {},
   "cell_type": "markdown",
   "id": "516aab5c",
   "metadata": {},
   "source": [
    "### When to Use and Not to Use Lambda Functions"
   ]
  },
  {
   "attachments": {},
   "cell_type": "markdown",
   "id": "5d4d1401",
   "metadata": {},
   "source": [
    "Lambda functions are helpful when defining a function that is used only once and does not require a name."
   ]
  },
  {
   "cell_type": "code",
   "execution_count": 6,
   "id": "9cf6d18d",
   "metadata": {},
   "outputs": [],
   "source": [
    "numbers = [1, 2, 3, 4, 5, 6, 7, 8, 9]\n",
    "\n",
    "# use lambda function because it is used only once\n",
    "even_numbers = filter(lambda num: num % 2 == 0, numbers)"
   ]
  },
  {
   "attachments": {},
   "cell_type": "markdown",
   "id": "e68f8ef3",
   "metadata": {},
   "source": [
    "However, if you need to reuse a function in various parts of your code, use a named function to avoid repeating the same code. "
   ]
  },
  {
   "cell_type": "code",
   "execution_count": 8,
   "id": "c8c27c3f",
   "metadata": {},
   "outputs": [
    {
     "data": {
      "text/plain": [
       "True"
      ]
     },
     "execution_count": 8,
     "metadata": {},
     "output_type": "execute_result"
    }
   ],
   "source": [
    "# use named function because it is used multiple times\n",
    "def is_even(num: int):\n",
    "    return num % 2 == 0\n",
    "\n",
    "even_numbers = filter(is_even, numbers)\n",
    "any(is_even(num) for num in numbers)"
   ]
  },
  {
   "attachments": {},
   "cell_type": "markdown",
   "id": "c5d60fd5",
   "metadata": {},
   "source": [
    "### How to Pass an Arbitrary Number of Arguments to a Python Function"
   ]
  },
  {
   "attachments": {},
   "cell_type": "markdown",
   "id": "30a449f5",
   "metadata": {},
   "source": [
    "If you want to create a function that takes an arbitrary number of arguments, use `*args` or `**kwargs`.\n",
    "\n",
    "`*args` allows variable arguments as a set, while `**kwargs` allows variable keyword arguments as a dictionary."
   ]
  },
  {
   "cell_type": "code",
   "execution_count": 10,
   "id": "ce696cd9",
   "metadata": {},
   "outputs": [
    {
     "name": "stdout",
     "output_type": "stream",
     "text": [
      "nums: (1, 2, 3)\n"
     ]
    },
    {
     "data": {
      "text/plain": [
       "6"
      ]
     },
     "execution_count": 10,
     "metadata": {},
     "output_type": "execute_result"
    }
   ],
   "source": [
    "def multiply(*nums):\n",
    "    print(f\"nums: {nums}\")\n",
    "    res = 1\n",
    "    for num in nums:\n",
    "        res *= num\n",
    "    return res\n",
    "\n",
    "multiply(1, 2, 3)\n"
   ]
  },
  {
   "cell_type": "code",
   "execution_count": 13,
   "id": "b5a7a10a",
   "metadata": {},
   "outputs": [
    {
     "name": "stdout",
     "output_type": "stream",
     "text": [
      "new_order: {'kiwi': 2, 'apple': 1}\n"
     ]
    },
    {
     "data": {
      "text/plain": [
       "{'apple': 1, 'orange': 3, 'kiwi': 2}"
      ]
     },
     "execution_count": 13,
     "metadata": {},
     "output_type": "execute_result"
    }
   ],
   "source": [
    "def add_to_order(**new_order):\n",
    "    print(f\"new_order: {new_order}\")\n",
    "    cart = {'apple': 2, 'orange': 3}\n",
    "    cart.update(new_order) \n",
    "    return cart  \n",
    "\n",
    "add_to_order(kiwi=2, apple=1)"
   ]
  },
  {
   "attachments": {},
   "cell_type": "markdown",
   "id": "24ef5dc5",
   "metadata": {},
   "source": [
    "### Decorator in Python"
   ]
  },
  {
   "attachments": {},
   "cell_type": "markdown",
   "id": "459bffb1",
   "metadata": {},
   "source": [
    "If you want to apply a common piece of functionality to multiple functions while keeping the code clean, use decorator. Decorator modifies the behavior of your Python functions without altering the code directly.\n",
    "\n",
    "In the code below, `time_func` is a decorator that can be used to track the execution time of any function."
   ]
  },
  {
   "cell_type": "code",
   "execution_count": 27,
   "id": "712e1fcd",
   "metadata": {
    "ExecuteTime": {
     "end_time": "2021-08-30T00:49:30.920515Z",
     "start_time": "2021-08-30T00:49:30.913093Z"
    }
   },
   "outputs": [],
   "source": [
    "import time \n",
    "\n",
    "def time_func(func):\n",
    "    def wrapper(*args, **kwargs):\n",
    "        start = time.time()\n",
    "        func(*args, **kwargs)\n",
    "        end = time.time()\n",
    "        print(f'Elapsed time: {(end - start) * 1000:.3f}ms')\n",
    "    return wrapper"
   ]
  },
  {
   "cell_type": "code",
   "execution_count": 30,
   "id": "1226ad8f",
   "metadata": {
    "ExecuteTime": {
     "end_time": "2021-08-30T00:49:39.814766Z",
     "start_time": "2021-08-30T00:49:39.804463Z"
    }
   },
   "outputs": [
    {
     "name": "stdout",
     "output_type": "stream",
     "text": [
      "Add 1 and 2\n",
      "Elapsed time: 1.006ms\n",
      "Multiply 1 and 2\n",
      "Elapsed time: 0.027ms\n"
     ]
    }
   ],
   "source": [
    "@time_func\n",
    "def add(num1: int, num2: int):\n",
    "    print(f\"Add {num1} and {num2}\")\n",
    "    return num1 + num2\n",
    "\n",
    "@time_func\n",
    "def multiply(num1: int, num2: int):\n",
    "    print(f\"Multiply {num1} and {num2}\")\n",
    "    return num1 * num2\n",
    "\n",
    "add(1, 2)\n",
    "multiply(1, 2)"
   ]
  },
  {
   "attachments": {},
   "cell_type": "markdown",
   "id": "7e0c9f62",
   "metadata": {},
   "source": [
    "### Keyword-Only Arguments in Python"
   ]
  },
  {
   "attachments": {},
   "cell_type": "markdown",
   "id": "81ef21ef",
   "metadata": {},
   "source": [
    "In Python, you can define functions that accept arguments either by position or by keyword. However, passing arguments by position can lead to errors if the arguments are provided in the wrong order."
   ]
  },
  {
   "cell_type": "code",
   "execution_count": 5,
   "id": "2eb2133d",
   "metadata": {},
   "outputs": [
    {
     "ename": "AttributeError",
     "evalue": "'int' object has no attribute 'add'",
     "output_type": "error",
     "traceback": [
      "\u001b[0;31m---------------------------------------------------------------------------\u001b[0m",
      "\u001b[0;31mAttributeError\u001b[0m                            Traceback (most recent call last)",
      "Cell \u001b[0;32mIn[5], line 8\u001b[0m\n\u001b[1;32m      4\u001b[0m \u001b[39mdef\u001b[39;00m \u001b[39madd_number\u001b[39m(number: \u001b[39mfloat\u001b[39m, df: pd\u001b[39m.\u001b[39mDataFrame):\n\u001b[1;32m      5\u001b[0m     \u001b[39mreturn\u001b[39;00m df\u001b[39m.\u001b[39madd(number, axis\u001b[39m=\u001b[39m\u001b[39m1\u001b[39m)\n\u001b[0;32m----> 8\u001b[0m add_number(pd\u001b[39m.\u001b[39;49mDataFrame({\u001b[39m\"\u001b[39;49m\u001b[39ma\u001b[39;49m\u001b[39m\"\u001b[39;49m: [\u001b[39m1\u001b[39;49m, \u001b[39m2\u001b[39;49m, \u001b[39m3\u001b[39;49m]}), \u001b[39m2\u001b[39;49m)\n",
      "Cell \u001b[0;32mIn[5], line 5\u001b[0m, in \u001b[0;36madd_number\u001b[0;34m(number, df)\u001b[0m\n\u001b[1;32m      4\u001b[0m \u001b[39mdef\u001b[39;00m \u001b[39madd_number\u001b[39m(number: \u001b[39mfloat\u001b[39m, df: pd\u001b[39m.\u001b[39mDataFrame):\n\u001b[0;32m----> 5\u001b[0m     \u001b[39mreturn\u001b[39;00m df\u001b[39m.\u001b[39;49madd(number, axis\u001b[39m=\u001b[39m\u001b[39m1\u001b[39m)\n",
      "\u001b[0;31mAttributeError\u001b[0m: 'int' object has no attribute 'add'"
     ]
    }
   ],
   "source": [
    "import pandas as pd\n",
    "\n",
    "\n",
    "def add_number(number: float, df: pd.DataFrame):\n",
    "    return df.add(number, axis=1)\n",
    "\n",
    "\n",
    "add_number(pd.DataFrame({\"a\": [1, 2, 3]}), 2)\n"
   ]
  },
  {
   "attachments": {},
   "cell_type": "markdown",
   "id": "08defe49",
   "metadata": {},
   "source": [
    "To avoid this issue, you can define keyword-only arguments in a function using the * symbol. This requires the caller to specify the arguments using their corresponding keywords."
   ]
  },
  {
   "cell_type": "code",
   "execution_count": 3,
   "id": "ec0649d9",
   "metadata": {},
   "outputs": [
    {
     "ename": "TypeError",
     "evalue": "add_number() takes 0 positional arguments but 2 were given",
     "output_type": "error",
     "traceback": [
      "\u001b[0;31m---------------------------------------------------------------------------\u001b[0m",
      "\u001b[0;31mTypeError\u001b[0m                                 Traceback (most recent call last)",
      "Cell \u001b[0;32mIn[3], line 5\u001b[0m\n\u001b[1;32m      1\u001b[0m \u001b[39mdef\u001b[39;00m \u001b[39madd_number\u001b[39m(\u001b[39m*\u001b[39m, number: \u001b[39mfloat\u001b[39m, df: pd\u001b[39m.\u001b[39mDataFrame):\n\u001b[1;32m      2\u001b[0m     \u001b[39mreturn\u001b[39;00m df\u001b[39m.\u001b[39madd(number, axis\u001b[39m=\u001b[39m\u001b[39m1\u001b[39m)\n\u001b[0;32m----> 5\u001b[0m add_number(pd\u001b[39m.\u001b[39;49mDataFrame({\u001b[39m\"\u001b[39;49m\u001b[39ma\u001b[39;49m\u001b[39m\"\u001b[39;49m: [\u001b[39m1\u001b[39;49m, \u001b[39m2\u001b[39;49m, \u001b[39m3\u001b[39;49m]}), \u001b[39m2\u001b[39;49m)\n",
      "\u001b[0;31mTypeError\u001b[0m: add_number() takes 0 positional arguments but 2 were given"
     ]
    }
   ],
   "source": [
    "def add_number(*, number: float, df: pd.DataFrame):\n",
    "    return df.add(number, axis=1)\n",
    "\n",
    "\n",
    "add_number(pd.DataFrame({\"a\": [1, 2, 3]}), 2)\n"
   ]
  },
  {
   "cell_type": "code",
   "execution_count": 4,
   "id": "475d7ef5",
   "metadata": {},
   "outputs": [
    {
     "data": {
      "text/html": [
       "<div>\n",
       "<style scoped>\n",
       "    .dataframe tbody tr th:only-of-type {\n",
       "        vertical-align: middle;\n",
       "    }\n",
       "\n",
       "    .dataframe tbody tr th {\n",
       "        vertical-align: top;\n",
       "    }\n",
       "\n",
       "    .dataframe thead th {\n",
       "        text-align: right;\n",
       "    }\n",
       "</style>\n",
       "<table border=\"1\" class=\"dataframe\">\n",
       "  <thead>\n",
       "    <tr style=\"text-align: right;\">\n",
       "      <th></th>\n",
       "      <th>a</th>\n",
       "    </tr>\n",
       "  </thead>\n",
       "  <tbody>\n",
       "    <tr>\n",
       "      <th>0</th>\n",
       "      <td>3</td>\n",
       "    </tr>\n",
       "    <tr>\n",
       "      <th>1</th>\n",
       "      <td>4</td>\n",
       "    </tr>\n",
       "    <tr>\n",
       "      <th>2</th>\n",
       "      <td>5</td>\n",
       "    </tr>\n",
       "  </tbody>\n",
       "</table>\n",
       "</div>"
      ],
      "text/plain": [
       "   a\n",
       "0  3\n",
       "1  4\n",
       "2  5"
      ]
     },
     "execution_count": 4,
     "metadata": {},
     "output_type": "execute_result"
    }
   ],
   "source": [
    "add_number(df=pd.DataFrame({\"a\": [1, 2, 3]}), number=2)\n"
   ]
  },
  {
   "cell_type": "markdown",
   "id": "708df866",
   "metadata": {},
   "source": [
    "### Enhance Code Readability with Single Point of Return"
   ]
  },
  {
   "cell_type": "markdown",
   "id": "55fc3144",
   "metadata": {},
   "source": [
    "Consider using a single point of return in a Python function instead of multiple points of return to enhance code readability. When there is only one return statement, it becomes simpler to follow the logic and understand the purpose of the function."
   ]
  },
  {
   "cell_type": "code",
   "execution_count": null,
   "id": "a795faf5",
   "metadata": {},
   "outputs": [],
   "source": [
    "def calculate_grade(score: float):\n",
    "    if score < 0 or score > 100:\n",
    "        print(\"Invalid score!\")\n",
    "        return None\n",
    "    elif score >= 90:\n",
    "        print(\"Excellent!\")\n",
    "        return \"A\"\n",
    "    elif score >= 80:\n",
    "        print(\"Good job!\")\n",
    "        return \"B\"\n",
    "    elif score >= 70:\n",
    "        print(\"Average.\")\n",
    "        return \"C\"\n",
    "    else:\n",
    "        print(\"You failed.\")\n",
    "        return \"F\"\n"
   ]
  },
  {
   "cell_type": "code",
   "execution_count": null,
   "id": "a98c56d4",
   "metadata": {},
   "outputs": [],
   "source": [
    "def calculate_grade(score: float):\n",
    "    if score < 0 or score > 100:\n",
    "        print(\"Invalid score!\")\n",
    "        grade = None\n",
    "    elif score >= 90:\n",
    "        grade = \"A\"\n",
    "        print(\"Excellent!\")\n",
    "    elif score >= 80:\n",
    "        grade = \"B\"\n",
    "        print(\"Good job!\")\n",
    "    elif score >= 70:\n",
    "        grade = \"C\"\n",
    "        print(\"Average.\")\n",
    "    else:\n",
    "        grade = \"F\"\n",
    "        print(\"You failed.\")\n",
    "\n",
    "    return grade\n"
   ]
  }
 ],
 "metadata": {
  "kernelspec": {
   "display_name": "Python 3 (ipykernel)",
   "language": "python",
   "name": "python3"
  },
  "language_info": {
   "codemirror_mode": {
    "name": "ipython",
    "version": 3
   },
   "file_extension": ".py",
   "mimetype": "text/x-python",
   "name": "python",
   "nbconvert_exporter": "python",
   "pygments_lexer": "ipython3",
   "version": "3.11.4"
  },
  "toc": {
   "base_numbering": 1,
   "nav_menu": {},
   "number_sections": true,
   "sideBar": true,
   "skip_h1_title": false,
   "title_cell": "Table of Contents",
   "title_sidebar": "Contents",
   "toc_cell": false,
   "toc_position": {},
   "toc_section_display": true,
   "toc_window_display": false
  }
 },
 "nbformat": 4,
 "nbformat_minor": 5
}
