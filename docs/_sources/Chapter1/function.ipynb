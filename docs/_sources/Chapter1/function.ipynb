{
 "cells": [
  {
   "cell_type": "markdown",
   "id": "5ce7f90e",
   "metadata": {},
   "source": [
    "## Function"
   ]
  },
  {
   "cell_type": "markdown",
   "id": "55dff4cd",
   "metadata": {},
   "source": [
    "### Omit Else Clauses in a Python Function to Improve Code Readability"
   ]
  },
  {
   "cell_type": "markdown",
   "id": "85568fee",
   "metadata": {},
   "source": [
    "If you are using if statements to return different values, adding an else clause may introduce unnecessary complexity. Omitting the else clause for the last condition will make the code simpler and easier to read."
   ]
  },
  {
   "cell_type": "code",
   "execution_count": null,
   "id": "2e13c012",
   "metadata": {},
   "outputs": [],
   "source": [
    "def get_discount(price):\n",
    "    if price >= 100:\n",
    "        return 20\n",
    "    if price >= 50:\n",
    "        return 10\n",
    "    else: # not necessary\n",
    "        return 5"
   ]
  },
  {
   "cell_type": "code",
   "execution_count": null,
   "id": "7594aa01",
   "metadata": {},
   "outputs": [],
   "source": [
    "def get_discount(price):\n",
    "    if price >= 100:\n",
    "        return 20\n",
    "    if price >= 50:\n",
    "        return 10\n",
    "    return 5 # omit else"
   ]
  },
  {
   "cell_type": "markdown",
   "id": "e1ecd5d0",
   "metadata": {},
   "source": [
    "### Lambda vs Named Functions: When to Use Each"
   ]
  },
  {
   "cell_type": "markdown",
   "id": "8bd89eb4",
   "metadata": {},
   "source": [
    "Lambda functions are ideal for situations where a function is used only once and does not require a name. They provide a concise way to define small, one-time use functions.\n",
    "\n",
    "For example:"
   ]
  },
  {
   "cell_type": "code",
   "execution_count": null,
   "id": "5d3553a8",
   "metadata": {},
   "outputs": [],
   "source": [
    "numbers = [1, 2, 3, 4, 5, 6, 7, 8, 9]\n",
    "\n",
    "# use lambda function because it is used only once\n",
    "even_numbers = filter(lambda num: num % 2 == 0, numbers)"
   ]
  },
  {
   "cell_type": "markdown",
   "id": "54af905c",
   "metadata": {},
   "source": [
    "In this example, the lambda function is used to filter out even numbers from the list. Since it's only used once, a lambda function is a suitable choice."
   ]
  },
  {
   "cell_type": "markdown",
   "id": "9bcb371b",
   "metadata": {},
   "source": [
    "However, if you need to reuse a function in various parts of your code, it's better to define a named function."
   ]
  },
  {
   "cell_type": "code",
   "execution_count": null,
   "id": "10aebc06",
   "metadata": {},
   "outputs": [],
   "source": [
    "# use named function because it is used multiple times\n",
    "def is_even(num: int):\n",
    "    return num % 2 == 0\n",
    "\n",
    "even_numbers = filter(is_even, numbers)\n",
    "any(is_even(num) for num in numbers)"
   ]
  },
  {
   "cell_type": "markdown",
   "id": "11665d33",
   "metadata": {},
   "source": [
    "In this example, the `is_even` function is defined by a name and is used multiple times. This approach avoids repeating the same code and makes your code more maintainable."
   ]
  },
  {
   "cell_type": "markdown",
   "id": "5fa43a2e",
   "metadata": {},
   "source": [
    "### How to Pass an Arbitrary Number of Arguments to a Python Function"
   ]
  },
  {
   "cell_type": "markdown",
   "id": "c4556d51",
   "metadata": {},
   "source": [
    "If you want to create a function that takes an arbitrary number of arguments, use `*args` or `**kwargs`.\n",
    "\n",
    "`*args` allows variable arguments as a set, while `**kwargs` allows variable keyword arguments as a dictionary."
   ]
  },
  {
   "cell_type": "code",
   "execution_count": null,
   "id": "5f500f19",
   "metadata": {},
   "outputs": [],
   "source": [
    "def multiply(*nums):\n",
    "    print(f\"nums: {nums}\")\n",
    "    res = 1\n",
    "    for num in nums:\n",
    "        res *= num\n",
    "    return res\n",
    "\n",
    "multiply(1, 2, 3)"
   ]
  },
  {
   "cell_type": "code",
   "execution_count": null,
   "id": "2a3ea456",
   "metadata": {},
   "outputs": [],
   "source": [
    "def add_to_order(**new_order):\n",
    "    print(f\"new_order: {new_order}\")\n",
    "    cart = {'apple': 2, 'orange': 3}\n",
    "    cart.update(new_order) \n",
    "    return cart  \n",
    "\n",
    "add_to_order(kiwi=2, apple=1)"
   ]
  },
  {
   "cell_type": "markdown",
   "id": "1a3589a1",
   "metadata": {},
   "source": [
    "### Decorator in Python"
   ]
  },
  {
   "cell_type": "markdown",
   "id": "a3cb8eb5",
   "metadata": {},
   "source": [
    "Creating custom object behaviors or function modifications in Python often results in repetitive code and complex logic wrapped around the original functionality. This causes developers to write boilerplate code every time they need to add logging, timing, or validation to their functions."
   ]
  },
  {
   "cell_type": "code",
   "execution_count": null,
   "id": "960cd893",
   "metadata": {},
   "outputs": [],
   "source": [
    "def add(num1: int, num2: int):\n",
    "    \"\"\"Takes two integers and returns their sum.\"\"\"\n",
    "    start = time.time()\n",
    "    print(f\"Add {num1} and {num2}\")\n",
    "    res = num1 + num2\n",
    "    end = time.time()\n",
    "    print(f'Elapsed time: {(end - start) * 1000:.3f}ms')\n",
    "    return res\n",
    "\n",
    "def multiply(num1: int, num2: int):\n",
    "    \"\"\"Takes two integers and returns their product.\"\"\"\n",
    "    start = time.time()\n",
    "    print(f\"Multiply {num1} and {num2}\")\n",
    "    res = num1 * num2\n",
    "    end = time.time()\n",
    "    print(f'Elapsed time: {(end - start) * 1000:.3f}ms')\n",
    "    return res\n",
    "\n",
    "add(1, 2)\n",
    "multiply(1, 2)"
   ]
  },
  {
   "cell_type": "markdown",
   "id": "ad323815",
   "metadata": {},
   "source": [
    "Changing functionality across multiple functions can be time-consuming."
   ]
  },
  {
   "cell_type": "code",
   "execution_count": null,
   "id": "3a6160b5",
   "metadata": {},
   "outputs": [],
   "source": [
    "def add(num1: int, num2: int):\n",
    "    \"\"\"Takes two integers and returns their sum.\"\"\"\n",
    "    start = time.time()\n",
    "    print(f\"Add {num1} and {num2}\")\n",
    "    res = num1 + num2\n",
    "    end = time.time()\n",
    "    print(f'Elapsed time: {(end - start):.3f}s') # Change to seconds\n",
    "    return res\n",
    "\n",
    "def multiply(num1: int, num2: int):\n",
    "    \"\"\"Takes two integers and returns their product.\"\"\"\n",
    "    start = time.time()\n",
    "    print(f\"Multiply {num1} and {num2}\")\n",
    "    res = num1 * num2\n",
    "    end = time.time()\n",
    "    print(f'Elapsed time: {(end - start) * 1000:.3f}ms') # Fog\n",
    "    return res\n",
    "\n",
    "add(1, 2)\n",
    "multiply(1, 2)"
   ]
  },
  {
   "cell_type": "markdown",
   "id": "536a9da3",
   "metadata": {},
   "source": [
    "With decorators, you can create reusable wrappers that add functionality to your functions without modifying their code. You can easily add timing, logging, or validation to any function with a single line.\n",
    "\n",
    "In the code below, `time_func` is a decorator that can be used to track the execution time of any function. This decorator can be applied to any function, making the code more maintainable and reducing duplication."
   ]
  },
  {
   "cell_type": "code",
   "execution_count": null,
   "id": "58234caa",
   "metadata": {},
   "outputs": [],
   "source": [
    "import time \n",
    "\n",
    "def time_func(func):\n",
    "    def wrapper(*args, **kwargs):\n",
    "        start = time.time()\n",
    "        res = func(*args, **kwargs)\n",
    "        end = time.time()\n",
    "        print(f'Elapsed time: {(end - start) * 1000:.3f}ms')\n",
    "        return res\n",
    "    return wrapper\n",
    "\n",
    "@time_func\n",
    "def add(num1: int, num2: int):\n",
    "    \"\"\"Takes two integers and returns their sum.\"\"\"\n",
    "    print(f\"Add {num1} and {num2}\")\n",
    "    return num1 + num2\n",
    "\n",
    "@time_func\n",
    "def multiply(num1: int, num2: int):\n",
    "    \"\"\"Takes two integers and returns their product.\"\"\"\n",
    "    print(f\"Multiply {num1} and {num2}\")\n",
    "    return num1 * num2\n",
    "\n",
    "add(1, 2)\n",
    "multiply(1, 2)"
   ]
  },
  {
   "cell_type": "markdown",
   "id": "98ba694f",
   "metadata": {},
   "source": [
    "If you need to modify the timing logic, you only need to update it in one place."
   ]
  },
  {
   "cell_type": "code",
   "execution_count": null,
   "id": "3da1c375",
   "metadata": {},
   "outputs": [],
   "source": [
    "import time \n",
    "\n",
    "def time_func(func):\n",
    "    def wrapper(*args, **kwargs):\n",
    "        start = time.time()\n",
    "        res = func(*args, **kwargs)\n",
    "        end = time.time()\n",
    "        print(f'Elapsed time: {(end - start):.3f}s')\n",
    "        return res\n",
    "    return wrapper\n",
    "\n",
    "@time_func\n",
    "def add(num1: int, num2: int):\n",
    "    \"\"\"Takes two integers and returns their sum.\"\"\"\n",
    "    print(f\"Add {num1} and {num2}\")\n",
    "    return num1 + num2\n",
    "\n",
    "@time_func\n",
    "def multiply(num1: int, num2: int):\n",
    "    \"\"\"Takes two integers and returns their product.\"\"\"\n",
    "    print(f\"Multiply {num1} and {num2}\")\n",
    "    return num1 * num2\n",
    "\n",
    "add(1, 2)\n",
    "multiply(1, 2)"
   ]
  },
  {
   "cell_type": "markdown",
   "id": "7cc845c5",
   "metadata": {},
   "source": [
    "However, when we use the `time_func` decorator, it changes the function name and docstring."
   ]
  },
  {
   "cell_type": "code",
   "execution_count": null,
   "id": "0283421a",
   "metadata": {},
   "outputs": [],
   "source": [
    "print(f\"Function name: {add.__name__}\")\n",
    "print(f\"Docstring: {add.__doc__}\")"
   ]
  },
  {
   "cell_type": "markdown",
   "id": "a17033e8",
   "metadata": {},
   "source": [
    "To preserve the original function metadata, we can use the `wraps` decorator from the `functools` module."
   ]
  },
  {
   "cell_type": "code",
   "execution_count": null,
   "id": "a14d4bb2",
   "metadata": {},
   "outputs": [],
   "source": [
    "import time\n",
    "from functools import wraps\n",
    "\n",
    "def time_func_with_wraps(func):\n",
    "    @wraps(func)\n",
    "    def wrapper(*args, **kwargs):\n",
    "        start = time.time()\n",
    "        res = func(*args, **kwargs)\n",
    "        end = time.time()\n",
    "        print(f'Elapsed time: {(end - start) * 1000:.3f}ms')\n",
    "        return res\n",
    "    return wrapper"
   ]
  },
  {
   "cell_type": "code",
   "execution_count": null,
   "id": "d5f6f3fa",
   "metadata": {},
   "outputs": [],
   "source": [
    "@time_func_with_wraps\n",
    "def add(num1: int, num2: int):\n",
    "    \"\"\"Takes two integers and returns their sum.\"\"\"\n",
    "    print(f\"Add {num1} and {num2}\")\n",
    "    return num1 + num2\n",
    "\n",
    "@time_func_with_wraps\n",
    "def multiply(num1: int, num2: int):\n",
    "    \"\"\"Takes two integers and returns their product.\"\"\"\n",
    "    print(f\"Multiply {num1} and {num2}\")\n",
    "    return num1 * num2\n",
    "\n",
    "add(1, 2)\n",
    "multiply(1, 2)"
   ]
  },
  {
   "cell_type": "code",
   "execution_count": null,
   "id": "a1bb3ded",
   "metadata": {},
   "outputs": [],
   "source": [
    "print(f\"Function name: {add.__name__}\")\n",
    "print(f\"Docstring: {add.__doc__}\")"
   ]
  },
  {
   "cell_type": "markdown",
   "id": "94ed0cbe",
   "metadata": {},
   "source": [
    "### Keyword-Only Arguments in Python"
   ]
  },
  {
   "cell_type": "markdown",
   "id": "e87cd5bd",
   "metadata": {},
   "source": [
    "In Python, you can define functions that accept arguments either by position or by keyword. However, passing arguments by position can lead to errors if the arguments are provided in the wrong order."
   ]
  },
  {
   "cell_type": "code",
   "execution_count": null,
   "id": "4f96ee3a",
   "metadata": {},
   "outputs": [],
   "source": [
    "import pandas as pd\n",
    "\n",
    "\n",
    "def add_number(number: float, df: pd.DataFrame):\n",
    "    return df.add(number, axis=1)\n",
    "\n",
    "\n",
    "add_number(pd.DataFrame({\"a\": [1, 2, 3]}), 2)"
   ]
  },
  {
   "cell_type": "markdown",
   "id": "dfcbb896",
   "metadata": {},
   "source": [
    "To avoid this issue, you can define keyword-only arguments in a function using the * symbol. This requires the caller to specify the arguments using their corresponding keywords."
   ]
  },
  {
   "cell_type": "code",
   "execution_count": null,
   "id": "5b3aa548",
   "metadata": {},
   "outputs": [],
   "source": [
    "def add_number(*, number: float, df: pd.DataFrame):\n",
    "    return df.add(number, axis=1)\n",
    "\n",
    "\n",
    "add_number(pd.DataFrame({\"a\": [1, 2, 3]}), 2)"
   ]
  },
  {
   "cell_type": "code",
   "execution_count": null,
   "id": "43b6d64a",
   "metadata": {},
   "outputs": [],
   "source": [
    "add_number(df=pd.DataFrame({\"a\": [1, 2, 3]}), number=2)"
   ]
  },
  {
   "cell_type": "markdown",
   "id": "b7f01e12",
   "metadata": {},
   "source": [
    "### Enhance Code Readability with Single Point of Return"
   ]
  },
  {
   "cell_type": "markdown",
   "id": "5fda0f65",
   "metadata": {},
   "source": [
    "Consider using a single point of return in a Python function instead of multiple points of return to enhance code readability. When there is only one return statement, it becomes simpler to follow the logic and understand the purpose of the function."
   ]
  },
  {
   "cell_type": "code",
   "execution_count": null,
   "id": "81f12ccc",
   "metadata": {},
   "outputs": [],
   "source": [
    "def calculate_grade(score: float):\n",
    "    if score < 0 or score > 100:\n",
    "        print(\"Invalid score!\")\n",
    "        return None\n",
    "    elif score >= 90:\n",
    "        print(\"Excellent!\")\n",
    "        return \"A\"\n",
    "    elif score >= 80:\n",
    "        print(\"Good job!\")\n",
    "        return \"B\"\n",
    "    elif score >= 70:\n",
    "        print(\"Average.\")\n",
    "        return \"C\"\n",
    "    else:\n",
    "        print(\"You failed.\")\n",
    "        return \"F\""
   ]
  },
  {
   "cell_type": "code",
   "execution_count": null,
   "id": "1a320be3",
   "metadata": {},
   "outputs": [],
   "source": [
    "def calculate_grade(score: float):\n",
    "    if score < 0 or score > 100:\n",
    "        print(\"Invalid score!\")\n",
    "        grade = None\n",
    "    elif score >= 90:\n",
    "        grade = \"A\"\n",
    "        print(\"Excellent!\")\n",
    "    elif score >= 80:\n",
    "        grade = \"B\"\n",
    "        print(\"Good job!\")\n",
    "    elif score >= 70:\n",
    "        grade = \"C\"\n",
    "        print(\"Average.\")\n",
    "    else:\n",
    "        grade = \"F\"\n",
    "        print(\"You failed.\")\n",
    "\n",
    "    return grade"
   ]
  }
 ],
 "metadata": {
  "jupytext": {
   "text_representation": {
    "extension": ".md",
    "format_name": "myst",
    "format_version": 0.13,
    "jupytext_version": "1.16.7"
   }
  },
  "kernelspec": {
   "display_name": "venv",
   "language": "python",
   "name": "python3"
  },
  "source_map": [
   12,
   16,
   20,
   24,
   34,
   41,
   45,
   51,
   56,
   60,
   65,
   72,
   76,
   80,
   86,
   97,
   105,
   109,
   113,
   134,
   138,
   159,
   165,
   191,
   195,
   221,
   225,
   228,
   232,
   247,
   264,
   267,
   271,
   275,
   284,
   288,
   296,
   298,
   302,
   306,
   325
  ]
 },
 "nbformat": 4,
 "nbformat_minor": 5
}