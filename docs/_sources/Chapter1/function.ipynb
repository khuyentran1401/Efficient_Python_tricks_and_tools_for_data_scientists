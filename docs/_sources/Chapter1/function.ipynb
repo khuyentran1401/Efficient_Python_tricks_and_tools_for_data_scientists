{
 "cells": [
  {
   "attachments": {},
   "cell_type": "markdown",
   "id": "406dda9e",
   "metadata": {},
   "source": [
    "## Function"
   ]
  },
  {
   "attachments": {},
   "cell_type": "markdown",
   "id": "e631e26e",
   "metadata": {},
   "source": [
    "### Omit Else Clauses in a Python Function to Improve Code Readability"
   ]
  },
  {
   "attachments": {},
   "cell_type": "markdown",
   "id": "cf2e8205",
   "metadata": {},
   "source": [
    "If you are using if statements to return different values, adding an else clause may introduce unnecessary complexity. Omitting the else clause for the last condition will make the code simpler and easier to read."
   ]
  },
  {
   "cell_type": "code",
   "execution_count": 4,
   "id": "a66e0275",
   "metadata": {},
   "outputs": [],
   "source": [
    "def get_discount(price):\n",
    "    if price >= 100:\n",
    "        return 20\n",
    "    if price >= 50:\n",
    "        return 10\n",
    "    else: # not necessary\n",
    "        return 5"
   ]
  },
  {
   "cell_type": "code",
   "execution_count": 2,
   "id": "edf446a9",
   "metadata": {},
   "outputs": [],
   "source": [
    "def get_discount(price):\n",
    "    if price >= 100:\n",
    "        return 20\n",
    "    if price >= 50:\n",
    "        return 10\n",
    "    return 5 # omit else"
   ]
  },
  {
   "attachments": {},
   "cell_type": "markdown",
   "id": "516aab5c",
   "metadata": {},
   "source": [
    "### When to Use and Not to Use Lambda Functions"
   ]
  },
  {
   "attachments": {},
   "cell_type": "markdown",
   "id": "5d4d1401",
   "metadata": {},
   "source": [
    "Lambda functions are helpful when defining a function that is used only once and does not require a name."
   ]
  },
  {
   "cell_type": "code",
   "execution_count": 6,
   "id": "9cf6d18d",
   "metadata": {},
   "outputs": [],
   "source": [
    "numbers = [1, 2, 3, 4, 5, 6, 7, 8, 9]\n",
    "\n",
    "# use lambda function because it is used only once\n",
    "even_numbers = filter(lambda num: num % 2 == 0, numbers)"
   ]
  },
  {
   "attachments": {},
   "cell_type": "markdown",
   "id": "e68f8ef3",
   "metadata": {},
   "source": [
    "However, if you need to reuse a function in various parts of your code, use a named function to avoid repeating the same code. "
   ]
  },
  {
   "cell_type": "code",
   "execution_count": 8,
   "id": "c8c27c3f",
   "metadata": {},
   "outputs": [
    {
     "data": {
      "text/plain": [
       "True"
      ]
     },
     "execution_count": 8,
     "metadata": {},
     "output_type": "execute_result"
    }
   ],
   "source": [
    "# use named function because it is used multiple times\n",
    "def is_even(num: int):\n",
    "    return num % 2 == 0\n",
    "\n",
    "even_numbers = filter(is_even, numbers)\n",
    "any(is_even(num) for num in numbers)"
   ]
  },
  {
   "attachments": {},
   "cell_type": "markdown",
   "id": "c5d60fd5",
   "metadata": {},
   "source": [
    "### How to Pass an Arbitrary Number of Arguments to a Python Function"
   ]
  },
  {
   "attachments": {},
   "cell_type": "markdown",
   "id": "30a449f5",
   "metadata": {},
   "source": [
    "If you want to create a function that takes an arbitrary number of arguments, use `*args` or `**kwargs`.\n",
    "\n",
    "`*args` allows variable arguments as a set, while `**kwargs` allows variable keyword arguments as a dictionary."
   ]
  },
  {
   "cell_type": "code",
   "execution_count": 10,
   "id": "ce696cd9",
   "metadata": {},
   "outputs": [
    {
     "name": "stdout",
     "output_type": "stream",
     "text": [
      "nums: (1, 2, 3)\n"
     ]
    },
    {
     "data": {
      "text/plain": [
       "6"
      ]
     },
     "execution_count": 10,
     "metadata": {},
     "output_type": "execute_result"
    }
   ],
   "source": [
    "def multiply(*nums):\n",
    "    print(f\"nums: {nums}\")\n",
    "    res = 1\n",
    "    for num in nums:\n",
    "        res *= num\n",
    "    return res\n",
    "\n",
    "multiply(1, 2, 3)\n"
   ]
  },
  {
   "cell_type": "code",
   "execution_count": 13,
   "id": "b5a7a10a",
   "metadata": {},
   "outputs": [
    {
     "name": "stdout",
     "output_type": "stream",
     "text": [
      "new_order: {'kiwi': 2, 'apple': 1}\n"
     ]
    },
    {
     "data": {
      "text/plain": [
       "{'apple': 1, 'orange': 3, 'kiwi': 2}"
      ]
     },
     "execution_count": 13,
     "metadata": {},
     "output_type": "execute_result"
    }
   ],
   "source": [
    "def add_to_order(**new_order):\n",
    "    print(f\"new_order: {new_order}\")\n",
    "    cart = {'apple': 2, 'orange': 3}\n",
    "    cart.update(new_order) \n",
    "    return cart  \n",
    "\n",
    "add_to_order(kiwi=2, apple=1)"
   ]
  },
  {
   "attachments": {},
   "cell_type": "markdown",
   "id": "24ef5dc5",
   "metadata": {},
   "source": [
    "### Decorator in Python"
   ]
  },
  {
   "attachments": {},
   "cell_type": "markdown",
   "id": "459bffb1",
   "metadata": {},
   "source": [
    "If you want to apply a common piece of functionality to multiple functions while keeping the code clean, use decorator. Decorator modifies the behavior of your Python functions without altering the code directly.\n",
    "\n",
    "In the code below, `time_func` is a decorator that can be used to track the execution time of any function."
   ]
  },
  {
   "cell_type": "code",
   "execution_count": 27,
   "id": "712e1fcd",
   "metadata": {
    "ExecuteTime": {
     "end_time": "2021-08-30T00:49:30.920515Z",
     "start_time": "2021-08-30T00:49:30.913093Z"
    }
   },
   "outputs": [],
   "source": [
    "import time \n",
    "\n",
    "def time_func(func):\n",
    "    def wrapper(*args, **kwargs):\n",
    "        start = time.time()\n",
    "        func(*args, **kwargs)\n",
    "        end = time.time()\n",
    "        print(f'Elapsed time: {(end - start) * 1000:.3f}ms')\n",
    "    return wrapper"
   ]
  },
  {
   "cell_type": "code",
   "execution_count": 30,
   "id": "1226ad8f",
   "metadata": {
    "ExecuteTime": {
     "end_time": "2021-08-30T00:49:39.814766Z",
     "start_time": "2021-08-30T00:49:39.804463Z"
    }
   },
   "outputs": [
    {
     "name": "stdout",
     "output_type": "stream",
     "text": [
      "Add 1 and 2\n",
      "Elapsed time: 1.006ms\n",
      "Multiply 1 and 2\n",
      "Elapsed time: 0.027ms\n"
     ]
    }
   ],
   "source": [
    "@time_func\n",
    "def add(num1: int, num2: int):\n",
    "    print(f\"Add {num1} and {num2}\")\n",
    "    return num1 + num2\n",
    "\n",
    "@time_func\n",
    "def multiply(num1: int, num2: int):\n",
    "    print(f\"Multiply {num1} and {num2}\")\n",
    "    return num1 * num2\n",
    "\n",
    "add(1, 2)\n",
    "multiply(1, 2)"
   ]
  }
 ],
 "metadata": {
  "kernelspec": {
   "display_name": "Python 3 (ipykernel)",
   "language": "python",
   "name": "python3"
  },
  "language_info": {
   "codemirror_mode": {
    "name": "ipython",
    "version": 3
   },
   "file_extension": ".py",
   "mimetype": "text/x-python",
   "name": "python",
   "nbconvert_exporter": "python",
   "pygments_lexer": "ipython3",
   "version": "3.9.6"
  },
  "toc": {
   "base_numbering": 1,
   "nav_menu": {},
   "number_sections": true,
   "sideBar": true,
   "skip_h1_title": false,
   "title_cell": "Table of Contents",
   "title_sidebar": "Contents",
   "toc_cell": false,
   "toc_position": {},
   "toc_section_display": true,
   "toc_window_display": false
  }
 },
 "nbformat": 4,
 "nbformat_minor": 5
}
