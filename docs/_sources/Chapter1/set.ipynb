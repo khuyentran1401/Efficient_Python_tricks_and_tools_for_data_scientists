{
 "cells": [
  {
   "cell_type": "markdown",
   "id": "b394a16b-69ba-488c-91cb-f640f25cab33",
   "metadata": {},
   "source": [
    "## Set"
   ]
  },
  {
   "cell_type": "markdown",
   "id": "020f7477",
   "metadata": {},
   "source": [
    "### Python Set Manipulation: Adding, Removing, and Checking Subsets"
   ]
  },
  {
   "cell_type": "markdown",
   "id": "ab43e9cf",
   "metadata": {},
   "source": [
    "Sets in Python offer efficient ways to handle unique elements. Here are three essential operations:"
   ]
  },
  {
   "cell_type": "markdown",
   "id": "1d441e05",
   "metadata": {},
   "source": [
    "Adding an element:"
   ]
  },
  {
   "cell_type": "code",
   "execution_count": 1,
   "id": "1ac37825-dbf0-45d9-af39-8ae0591e6fb5",
   "metadata": {},
   "outputs": [
    {
     "data": {
      "text/plain": [
       "{'apple', 'banana', 'cherry', 'orange'}"
      ]
     },
     "execution_count": 1,
     "metadata": {},
     "output_type": "execute_result"
    }
   ],
   "source": [
    "# Creating a set\n",
    "fruits = {\"apple\", \"banana\", \"cherry\"}\n",
    "\n",
    "# Add a single element\n",
    "fruits.add(\"orange\")\n",
    "fruits"
   ]
  },
  {
   "cell_type": "markdown",
   "id": "e128eb22",
   "metadata": {},
   "source": [
    "Removing an element:"
   ]
  },
  {
   "cell_type": "code",
   "execution_count": 4,
   "id": "e52f62bf-2fe4-40e4-b04b-8bc6526b986c",
   "metadata": {},
   "outputs": [
    {
     "data": {
      "text/plain": [
       "{'apple', 'cherry', 'orange'}"
      ]
     },
     "execution_count": 4,
     "metadata": {},
     "output_type": "execute_result"
    }
   ],
   "source": [
    "fruits.remove(\"banana\")\n",
    "fruits"
   ]
  },
  {
   "cell_type": "markdown",
   "id": "97f81ebf",
   "metadata": {},
   "source": [
    "Checking for subsets:"
   ]
  },
  {
   "cell_type": "code",
   "execution_count": 3,
   "id": "f163c088-5f76-4bbf-87c4-1190a3662a7c",
   "metadata": {},
   "outputs": [
    {
     "data": {
      "text/plain": [
       "True"
      ]
     },
     "execution_count": 3,
     "metadata": {},
     "output_type": "execute_result"
    }
   ],
   "source": [
    "# Check if a set is a subset\n",
    "is_subset = {\"apple\", \"cherry\"}.issubset(fruits)\n",
    "is_subset"
   ]
  },
  {
   "cell_type": "markdown",
   "id": "aa18443b",
   "metadata": {},
   "source": [
    "### Mastering Set Operations in Python: Union and Intersection"
   ]
  },
  {
   "cell_type": "markdown",
   "id": "b2cf9116",
   "metadata": {},
   "source": [
    "Python sets are powerful tools for handling unique collections. Let's explore two key operations:\n",
    "\n",
    "Union: Combine sets to get all unique elements"
   ]
  },
  {
   "cell_type": "code",
   "execution_count": 4,
   "id": "9181c626-28c8-4f3d-956b-54b18f855f77",
   "metadata": {},
   "outputs": [
    {
     "data": {
      "text/plain": [
       "{'apple', 'banana', 'cherry', 'grape', 'mango'}"
      ]
     },
     "execution_count": 4,
     "metadata": {},
     "output_type": "execute_result"
    }
   ],
   "source": [
    "# Creating a set\n",
    "fruits = {\"apple\", \"banana\", \"cherry\"}\n",
    "\n",
    "more_fruits = {\"mango\", \"grape\"}\n",
    "all_fruits = fruits.union(more_fruits)\n",
    "all_fruits"
   ]
  },
  {
   "cell_type": "markdown",
   "id": "e211e3c3",
   "metadata": {},
   "source": [
    "Intersection: Find common elements between sets"
   ]
  },
  {
   "cell_type": "code",
   "execution_count": 5,
   "id": "69ec5972-c4d9-4493-bec1-ee6426d96ba7",
   "metadata": {},
   "outputs": [
    {
     "data": {
      "text/plain": [
       "{'banana', 'mango'}"
      ]
     },
     "execution_count": 5,
     "metadata": {},
     "output_type": "execute_result"
    }
   ],
   "source": [
    "tropical_fruits = {\"banana\", \"mango\", \"pineapple\"}\n",
    "common_fruits = all_fruits.intersection(tropical_fruits)\n",
    "common_fruits"
   ]
  },
  {
   "cell_type": "code",
   "execution_count": 6,
   "id": "367e633f-10dd-402a-8902-ad167c56739e",
   "metadata": {},
   "outputs": [
    {
     "data": {
      "text/plain": [
       "{'apple', 'cherry', 'grape'}"
      ]
     },
     "execution_count": 6,
     "metadata": {},
     "output_type": "execute_result"
    }
   ],
   "source": [
    "# Difference with another set\n",
    "non_tropical_fruits = all_fruits.difference(tropical_fruits)\n",
    "non_tropical_fruits"
   ]
  }
 ],
 "metadata": {
  "kernelspec": {
   "display_name": "Python 3 (ipykernel)",
   "language": "python",
   "name": "python3"
  },
  "language_info": {
   "codemirror_mode": {
    "name": "ipython",
    "version": 3
   },
   "file_extension": ".py",
   "mimetype": "text/x-python",
   "name": "python",
   "nbconvert_exporter": "python",
   "pygments_lexer": "ipython3",
   "version": "3.11.6"
  }
 },
 "nbformat": 4,
 "nbformat_minor": 5
}
