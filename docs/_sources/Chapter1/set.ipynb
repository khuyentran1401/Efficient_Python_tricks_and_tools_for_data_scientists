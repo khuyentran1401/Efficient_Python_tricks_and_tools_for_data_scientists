{
 "cells": [
  {
   "cell_type": "markdown",
   "id": "82ae3508",
   "metadata": {},
   "source": [
    "## Set"
   ]
  },
  {
   "cell_type": "markdown",
   "id": "846bd033",
   "metadata": {},
   "source": [
    "### Python Set Manipulation: Adding, Removing, and Checking Subsets"
   ]
  },
  {
   "cell_type": "markdown",
   "id": "0a7b6007",
   "metadata": {},
   "source": [
    "Sets in Python offer efficient ways to handle unique elements. Here are three essential operations:"
   ]
  },
  {
   "cell_type": "markdown",
   "id": "1d20abce",
   "metadata": {},
   "source": [
    "Adding an element:"
   ]
  },
  {
   "cell_type": "code",
   "execution_count": null,
   "id": "eb274c0b",
   "metadata": {},
   "outputs": [],
   "source": [
    "# Creating a set\n",
    "fruits = {\"apple\", \"banana\", \"cherry\"}\n",
    "\n",
    "# Add a single element\n",
    "fruits.add(\"orange\")\n",
    "fruits"
   ]
  },
  {
   "cell_type": "markdown",
   "id": "ebe81087",
   "metadata": {},
   "source": [
    "Removing an element:"
   ]
  },
  {
   "cell_type": "code",
   "execution_count": null,
   "id": "3488d779",
   "metadata": {},
   "outputs": [],
   "source": [
    "fruits.remove(\"banana\")\n",
    "fruits"
   ]
  },
  {
   "cell_type": "markdown",
   "id": "75f52d02",
   "metadata": {},
   "source": [
    "Checking for subsets:"
   ]
  },
  {
   "cell_type": "code",
   "execution_count": null,
   "id": "cf91dcde",
   "metadata": {},
   "outputs": [],
   "source": [
    "# Check if a set is a subset\n",
    "is_subset = {\"apple\", \"cherry\"}.issubset(fruits)\n",
    "is_subset"
   ]
  },
  {
   "cell_type": "markdown",
   "id": "9de17342",
   "metadata": {},
   "source": [
    "### Mastering Set Operations in Python: Union and Intersection"
   ]
  },
  {
   "cell_type": "markdown",
   "id": "65205140",
   "metadata": {},
   "source": [
    "Python sets are powerful tools for handling unique collections. Let's explore two key operations:\n",
    "\n",
    "Union: Combine sets to get all unique elements"
   ]
  },
  {
   "cell_type": "code",
   "execution_count": null,
   "id": "4b69a716",
   "metadata": {},
   "outputs": [],
   "source": [
    "# Creating a set\n",
    "fruits = {\"apple\", \"banana\", \"cherry\"}\n",
    "\n",
    "more_fruits = {\"mango\", \"grape\"}\n",
    "all_fruits = fruits.union(more_fruits)\n",
    "all_fruits"
   ]
  },
  {
   "cell_type": "markdown",
   "id": "e9c3a62e",
   "metadata": {},
   "source": [
    "Intersection: Find common elements between sets"
   ]
  },
  {
   "cell_type": "code",
   "execution_count": null,
   "id": "f2a018c1",
   "metadata": {},
   "outputs": [],
   "source": [
    "tropical_fruits = {\"banana\", \"mango\", \"pineapple\"}\n",
    "common_fruits = all_fruits.intersection(tropical_fruits)\n",
    "common_fruits"
   ]
  },
  {
   "cell_type": "code",
   "execution_count": null,
   "id": "2ac4de1f",
   "metadata": {},
   "outputs": [],
   "source": [
    "# Difference with another set\n",
    "non_tropical_fruits = all_fruits.difference(tropical_fruits)\n",
    "non_tropical_fruits"
   ]
  }
 ],
 "metadata": {
  "jupytext": {
   "text_representation": {
    "extension": ".md",
    "format_name": "myst",
    "format_version": 0.13,
    "jupytext_version": "1.16.7"
   }
  },
  "kernelspec": {
   "display_name": "Python 3 (ipykernel)",
   "language": "python",
   "name": "python3"
  },
  "source_map": [
   12,
   16,
   20,
   24,
   28,
   35,
   39,
   42,
   46,
   50,
   54,
   60,
   67,
   71,
   77
  ]
 },
 "nbformat": 4,
 "nbformat_minor": 5
}