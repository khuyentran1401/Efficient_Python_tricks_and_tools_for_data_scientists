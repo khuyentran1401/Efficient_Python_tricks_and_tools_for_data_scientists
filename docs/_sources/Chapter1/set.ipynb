{
 "cells": [
  {
   "cell_type": "markdown",
   "id": "92cf31b0",
   "metadata": {},
   "source": [
    "## Set"
   ]
  },
  {
   "cell_type": "markdown",
   "id": "bbcaa8a7",
   "metadata": {},
   "source": [
    "### Python Set Manipulation: Adding, Removing, and Checking Subsets"
   ]
  },
  {
   "cell_type": "markdown",
   "id": "64cb5e54",
   "metadata": {},
   "source": [
    "Sets in Python offer efficient ways to handle unique elements. Here are three essential operations:"
   ]
  },
  {
   "cell_type": "markdown",
   "id": "a164a236",
   "metadata": {},
   "source": [
    "Adding an element:"
   ]
  },
  {
   "cell_type": "code",
   "execution_count": null,
   "id": "0ff5978f",
   "metadata": {},
   "outputs": [],
   "source": [
    "# Creating a set\n",
    "fruits = {\"apple\", \"banana\", \"cherry\"}\n",
    "\n",
    "# Add a single element\n",
    "fruits.add(\"orange\")\n",
    "fruits"
   ]
  },
  {
   "cell_type": "markdown",
   "id": "e10b50ed",
   "metadata": {},
   "source": [
    "Removing an element:"
   ]
  },
  {
   "cell_type": "code",
   "execution_count": null,
   "id": "7074cdc4",
   "metadata": {},
   "outputs": [],
   "source": [
    "fruits.remove(\"banana\")\n",
    "fruits"
   ]
  },
  {
   "cell_type": "markdown",
   "id": "fd29afeb",
   "metadata": {},
   "source": [
    "Checking for subsets:"
   ]
  },
  {
   "cell_type": "code",
   "execution_count": null,
   "id": "4213d7cc",
   "metadata": {},
   "outputs": [],
   "source": [
    "# Check if a set is a subset\n",
    "is_subset = {\"apple\", \"cherry\"}.issubset(fruits)\n",
    "is_subset"
   ]
  },
  {
   "cell_type": "markdown",
   "id": "ad3a0312",
   "metadata": {},
   "source": [
    "### Mastering Set Operations in Python: Union and Intersection"
   ]
  },
  {
   "cell_type": "markdown",
   "id": "b4311dab",
   "metadata": {},
   "source": [
    "Python sets are powerful tools for handling unique collections. Let's explore two key operations:\n",
    "\n",
    "Union: Combine sets to get all unique elements"
   ]
  },
  {
   "cell_type": "code",
   "execution_count": null,
   "id": "fe2c17f3",
   "metadata": {},
   "outputs": [],
   "source": [
    "# Creating a set\n",
    "fruits = {\"apple\", \"banana\", \"cherry\"}\n",
    "\n",
    "more_fruits = {\"mango\", \"grape\"}\n",
    "all_fruits = fruits.union(more_fruits)\n",
    "all_fruits"
   ]
  },
  {
   "cell_type": "markdown",
   "id": "5b968d4a",
   "metadata": {},
   "source": [
    "Intersection: Find common elements between sets"
   ]
  },
  {
   "cell_type": "code",
   "execution_count": null,
   "id": "a5d0b4f9",
   "metadata": {},
   "outputs": [],
   "source": [
    "tropical_fruits = {\"banana\", \"mango\", \"pineapple\"}\n",
    "common_fruits = all_fruits.intersection(tropical_fruits)\n",
    "common_fruits"
   ]
  },
  {
   "cell_type": "code",
   "execution_count": null,
   "id": "ba5f6001",
   "metadata": {},
   "outputs": [],
   "source": [
    "# Difference with another set\n",
    "non_tropical_fruits = all_fruits.difference(tropical_fruits)\n",
    "non_tropical_fruits"
   ]
  }
 ],
 "metadata": {
  "jupytext": {
   "text_representation": {
    "extension": ".md",
    "format_name": "myst",
    "format_version": 0.13,
    "jupytext_version": "1.16.7"
   }
  },
  "kernelspec": {
   "display_name": "Python 3 (ipykernel)",
   "language": "python",
   "name": "python3"
  },
  "source_map": [
   12,
   16,
   20,
   24,
   28,
   35,
   39,
   42,
   46,
   50,
   54,
   60,
   67,
   71,
   77
  ]
 },
 "nbformat": 4,
 "nbformat_minor": 5
}