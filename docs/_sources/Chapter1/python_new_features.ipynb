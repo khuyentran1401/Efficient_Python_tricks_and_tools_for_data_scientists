{
 "cells": [
  {
   "cell_type": "markdown",
   "id": "7a36a719",
   "metadata": {},
   "source": [
    "## New Features in Python"
   ]
  },
  {
   "cell_type": "markdown",
   "id": "e0013d9f",
   "metadata": {},
   "source": [
    "This section shows some new features in Python 3.10 and above."
   ]
  },
  {
   "cell_type": "markdown",
   "id": "c860da75",
   "metadata": {},
   "source": [
    "### Simplify Conditional Execution with Match Statements"
   ]
  },
  {
   "cell_type": "markdown",
   "id": "1f2617d7",
   "metadata": {},
   "source": [
    "It is common to use the if-else statements to execute multiple conditional statements."
   ]
  },
  {
   "cell_type": "code",
   "execution_count": null,
   "id": "6fa3ed4d",
   "metadata": {},
   "outputs": [],
   "source": [
    "def get_price(food: str):\n",
    "    if food == \"apple\" or food == \"peach\":\n",
    "        return 4\n",
    "    elif food == \"orange\":\n",
    "        return 3\n",
    "    elif food == \"grape\":\n",
    "        return 5\n",
    "    else:\n",
    "        return \"Unknown\"\n",
    "\n",
    "\n",
    "get_price(\"peach\")"
   ]
  },
  {
   "cell_type": "markdown",
   "id": "89161442",
   "metadata": {},
   "source": [
    "In Python 3.10 and above, you can use the match statements to do the same thing. \n",
    "\n",
    "Match statements can provide a more concise and readable syntax, especially when dealing with complex pattern matching scenarios."
   ]
  },
  {
   "cell_type": "code",
   "execution_count": null,
   "id": "7e12e5b6",
   "metadata": {},
   "outputs": [],
   "source": [
    "def get_price(food: str):\n",
    "    match food:\n",
    "        case \"apple\" | \"peach\":\n",
    "            return 4\n",
    "        case \"orange\":\n",
    "            return 3\n",
    "        case \"grape\":\n",
    "            return 5\n",
    "        case _:\n",
    "            return \"Unknown\"\n",
    "\n",
    "\n",
    "get_price(\"peach\")"
   ]
  },
  {
   "cell_type": "markdown",
   "id": "e80f8a56",
   "metadata": {},
   "source": [
    "### Structural Pattern Matching in Python 3.10"
   ]
  },
  {
   "cell_type": "markdown",
   "id": "7e743e75",
   "metadata": {},
   "source": [
    "Extracting data from nested structures often leads to complex, error-prone code with multiple checks and conditionals. Consider this traditional approach:"
   ]
  },
  {
   "cell_type": "code",
   "execution_count": null,
   "id": "5b097907",
   "metadata": {},
   "outputs": [],
   "source": [
    "def get_youngest_pet(pet_info):\n",
    "    if isinstance(pet_info, list) and len(pet_info) == 2:\n",
    "        if all(\"age\" in pet for pet in pet_info):\n",
    "            print(\"Age is extracted from a list\")\n",
    "            return min(pet_info[0][\"age\"], pet_info[1][\"age\"])\n",
    "    elif isinstance(pet_info, dict) and \"age\" in pet_info:\n",
    "        if isinstance(pet_info[\"age\"], dict):\n",
    "            print(\"Age is extracted from a dict\")\n",
    "            ages = pet_info[\"age\"].values()\n",
    "            return min(ages)\n",
    "\n",
    "    # Handle other cases or raise an exception\n",
    "    raise ValueError(\"Invalid input format\")"
   ]
  },
  {
   "cell_type": "code",
   "execution_count": null,
   "id": "1a7266ba",
   "metadata": {},
   "outputs": [],
   "source": [
    "pet_info1 = [\n",
    "    {\"name\": \"bim\", \"age\": 1},\n",
    "    {\"name\": \"pepper\", \"age\": 9},\n",
    "]\n",
    "get_youngest_pet(pet_info1)"
   ]
  },
  {
   "cell_type": "code",
   "execution_count": null,
   "id": "3d263190",
   "metadata": {},
   "outputs": [],
   "source": [
    "pet_info2 = {'age': {\"bim\": 1, \"pepper\": 9}}\n",
    "get_youngest_pet(pet_info2)"
   ]
  },
  {
   "cell_type": "markdown",
   "id": "11852183",
   "metadata": {},
   "source": [
    "Python 3.10's pattern matching provides a more declarative and readable way to handle complex data structures, reducing the need for nested conditionals and type checks."
   ]
  },
  {
   "cell_type": "code",
   "execution_count": null,
   "id": "8dc09c75",
   "metadata": {},
   "outputs": [],
   "source": [
    "def get_youngest_pet(pet_info):\n",
    "    match pet_info:\n",
    "        case [{\"age\": age1}, {\"age\": age2}]:\n",
    "            print(\"Age is extracted from a list\")\n",
    "            return min(age1, age2)\n",
    "\n",
    "        case {'age': {}}:\n",
    "            print(\"Age is extracted from a dict\")\n",
    "            ages = pet_info['age'].values()\n",
    "            return min(ages)\n",
    "\n",
    "        case _:\n",
    "            raise ValueError(\"Invalid input format\")"
   ]
  },
  {
   "cell_type": "code",
   "execution_count": null,
   "id": "96e4c233",
   "metadata": {},
   "outputs": [],
   "source": [
    "pet_info1 = [\n",
    "    {\"name\": \"bim\", \"age\": 1},\n",
    "    {\"name\": \"pepper\", \"age\": 9},\n",
    "]\n",
    "get_youngest_pet(pet_info1)"
   ]
  },
  {
   "cell_type": "code",
   "execution_count": null,
   "id": "95e2ba40",
   "metadata": {},
   "outputs": [],
   "source": [
    "pet_info2 = {'age': {\"bim\": 1, \"pepper\": 9}}\n",
    "get_youngest_pet(pet_info2)"
   ]
  },
  {
   "cell_type": "markdown",
   "id": "200a2989",
   "metadata": {},
   "source": [
    "### Enhance Code Readability with Python Dataclasses and Match Statements"
   ]
  },
  {
   "cell_type": "markdown",
   "id": "5b92c670",
   "metadata": {},
   "source": [
    "You can use Python dataclasses with Python match statements to create cleaner and more readable code. This approach can be particularly useful when setting conditions based on multiple attributes of a class, as it can simplify the code and make it easier to understand."
   ]
  },
  {
   "cell_type": "markdown",
   "id": "287509c3",
   "metadata": {},
   "source": [
    "Using if-else:"
   ]
  },
  {
   "cell_type": "code",
   "execution_count": null,
   "id": "c0fddbb4",
   "metadata": {},
   "outputs": [],
   "source": [
    "from dataclasses import dataclass\n",
    "\n",
    "@dataclass\n",
    "class SubscriptionPlan:\n",
    "    name: str\n",
    "    price: float\n",
    "    unit: str\n",
    "\n",
    "def get_plan_details(plan):\n",
    "    if plan.name == \"basic\" and plan.unit == \"month\":\n",
    "        return f\"${plan.price} per month for one month.\"\n",
    "    elif plan.name == \"premium\" and plan.unit == \"year\":\n",
    "        return f\"${plan.price} per year for one year.\"\n",
    "    elif plan.name == \"\" and plan.price == 0.0 and plan.unit == \"\":\n",
    "        return \"Invalid subscription plan\"\n",
    "    else:\n",
    "        return \"Unknown subscription plan\""
   ]
  },
  {
   "cell_type": "code",
   "execution_count": null,
   "id": "938cfdca",
   "metadata": {},
   "outputs": [],
   "source": [
    "basic_plan = SubscriptionPlan(name=\"basic\", price=9.99, unit=\"month\")\n",
    "premium_plan = SubscriptionPlan(name=\"premium\", price=99.99, unit=\"year\")\n",
    "\n",
    "print(get_plan_details(basic_plan))\n",
    "print(get_plan_details(premium_plan))"
   ]
  },
  {
   "cell_type": "markdown",
   "id": "3acef285",
   "metadata": {},
   "source": [
    "Using match statements:"
   ]
  },
  {
   "cell_type": "code",
   "execution_count": null,
   "id": "9cafb933",
   "metadata": {},
   "outputs": [],
   "source": [
    "from dataclasses import dataclass\n",
    "\n",
    "\n",
    "@dataclass\n",
    "class SubscriptionPlan:\n",
    "    name: str\n",
    "    price: float\n",
    "    unit: str\n",
    "\n",
    "\n",
    "def get_plan_details(plan):\n",
    "    match plan:\n",
    "        case SubscriptionPlan(name=\"basic\", price=price, unit=\"month\"):\n",
    "            return f\"${price} per month for one month.\"\n",
    "        case SubscriptionPlan(name=\"premium\", price=price, unit=\"year\"):\n",
    "            return f\"${price} per year for one year.\"\n",
    "        case SubscriptionPlan():\n",
    "            return \"Invalid subscription plan\"\n",
    "        case _:\n",
    "            return \"Unknown subscription plan\""
   ]
  },
  {
   "cell_type": "code",
   "execution_count": null,
   "id": "737fb052",
   "metadata": {},
   "outputs": [],
   "source": [
    "basic_plan = SubscriptionPlan(name=\"basic\", price=9.99, unit=\"month\")\n",
    "premium_plan = SubscriptionPlan(name=\"premium\", price=99.99, unit=\"year\")\n",
    "\n",
    "print(get_plan_details(basic_plan))\n",
    "print(get_plan_details(premium_plan))"
   ]
  },
  {
   "cell_type": "markdown",
   "id": "141b4ea3",
   "metadata": {},
   "source": [
    "### Write Union Types as X|Y in Python 3.10"
   ]
  },
  {
   "cell_type": "markdown",
   "id": "b24ecdcc",
   "metadata": {},
   "source": [
    "Before Python 3.10, you need to use `typing.Union` to declare that a variable can have one of several different types."
   ]
  },
  {
   "cell_type": "code",
   "execution_count": null,
   "id": "689a632d",
   "metadata": {},
   "outputs": [],
   "source": [
    "from typing import Union\n",
    "\n",
    "num = 2.3\n",
    "isinstance(num, Union[int, float])"
   ]
  },
  {
   "cell_type": "markdown",
   "id": "1a0ddc8d",
   "metadata": {},
   "source": [
    "In Python 3.10, you can replace `Union[X, Y]` with `X | Y` to simplify the expression."
   ]
  },
  {
   "cell_type": "code",
   "execution_count": null,
   "id": "f3c52688",
   "metadata": {},
   "outputs": [],
   "source": [
    "isinstance(num, int | float)"
   ]
  },
  {
   "cell_type": "markdown",
   "id": "fdf42ede",
   "metadata": {},
   "source": [
    "### Write Cleaner Python with the Walrus Operatorn"
   ]
  },
  {
   "cell_type": "markdown",
   "id": "5701b1da",
   "metadata": {},
   "source": [
    "The walrus operator (`:=`) in Python 3.8+ allows you to assign a variable in an expression, making your code more readable and efficient. It's useful in two main scenarios:\n",
    "\n",
    "1.  Giving a meaningful name to a complex expression for better readability.\n",
    "2.  Avoiding repeated computations by reusing a variable instead of recomputing the expression."
   ]
  },
  {
   "cell_type": "markdown",
   "id": "ee560288",
   "metadata": {},
   "source": [
    "Let's consider an example where we want to calculate the radius, area, and volume of a circle given its diameter and height:"
   ]
  },
  {
   "cell_type": "code",
   "execution_count": null,
   "id": "d95af936",
   "metadata": {},
   "outputs": [],
   "source": [
    "from math import pi\n",
    "\n",
    "diameter = 4\n",
    "height = 2"
   ]
  },
  {
   "cell_type": "markdown",
   "id": "4a4290f3",
   "metadata": {},
   "source": [
    "Without the walrus operator, we might compute the radius and area multiple times:"
   ]
  },
  {
   "cell_type": "code",
   "execution_count": null,
   "id": "c51416e5",
   "metadata": {},
   "outputs": [],
   "source": [
    "circle = {\n",
    "    \"radius\": diameter / 2, # computed twice\n",
    "    \"area\": pi * (diameter / 2)**2, # computed twice\n",
    "    \"volume\": pi * (diameter / 2)**2 * height,\n",
    "}"
   ]
  },
  {
   "cell_type": "markdown",
   "id": "d325c7f0",
   "metadata": {},
   "source": [
    "To avoid repeated computations, we can assign the radius and area to variables before creating the dictionary:"
   ]
  },
  {
   "cell_type": "code",
   "execution_count": null,
   "id": "dbe52031",
   "metadata": {},
   "outputs": [],
   "source": [
    "radius = diameter / 2\n",
    "area = pi * radius**2\n",
    "\n",
    "circle = {\n",
    "    \"radius\": radius,\n",
    "    \"area\": area,\n",
    "    \"volume\": area * height,\n",
    "}"
   ]
  },
  {
   "cell_type": "markdown",
   "id": "c2b5f645",
   "metadata": {},
   "source": [
    "To make the code more concise, we can use the walrus operator to assign the radius and area to variables while creating the dictionary."
   ]
  },
  {
   "cell_type": "code",
   "execution_count": null,
   "id": "4191d7f2",
   "metadata": {},
   "outputs": [],
   "source": [
    "circle = {\n",
    "    \"radius\": (radius := diameter / 2),\n",
    "    \"area\": (area := pi * radius**2),\n",
    "    \"volume\": area * height,\n",
    "}"
   ]
  },
  {
   "cell_type": "markdown",
   "id": "7bcd3227",
   "metadata": {},
   "source": [
    "After executing the code with the walrus operator, we can access the assigned variables:"
   ]
  },
  {
   "cell_type": "code",
   "execution_count": null,
   "id": "e275770b",
   "metadata": {},
   "outputs": [],
   "source": [
    "print(radius)\n",
    "print(area)"
   ]
  },
  {
   "cell_type": "markdown",
   "id": "7c7e4c5d",
   "metadata": {},
   "source": [
    "### Fine-Grained Traceback in Python 3.11"
   ]
  },
  {
   "cell_type": "markdown",
   "id": "1f67039b",
   "metadata": {},
   "source": [
    "Having a clear traceback makes it faster to debug your code. Python 3.11 provides fine-grained error locations in tracebacks, enabling developers to quickly identify the exact location of errors. \n",
    "\n",
    "The following examples illustrate the difference in traceback between Python 3.9 and Python 3.11."
   ]
  },
  {
   "cell_type": "code",
   "execution_count": null,
   "id": "849a9bed",
   "metadata": {},
   "outputs": [],
   "source": [
    "%%writefile trackback_test.py\n",
    "def greet(name):\n",
    "    greeting = \"Hello, \" + name + \"!\"\n",
    "    print(greetng) # Error: Typo in variable name\n",
    "\n",
    "greet(\"Khuyen\")"
   ]
  },
  {
   "cell_type": "markdown",
   "id": "d98ccd56",
   "metadata": {},
   "source": [
    "```bash\n",
    "# Python 3.9\n",
    "$ python trackback_test.py\n",
    "```"
   ]
  },
  {
   "cell_type": "code",
   "execution_count": null,
   "id": "5c176c29",
   "metadata": {
    "tags": [
     "remove-input"
    ]
   },
   "outputs": [],
   "source": [
    "!python trackback_test.py"
   ]
  },
  {
   "cell_type": "markdown",
   "id": "7c82cb35",
   "metadata": {},
   "source": [
    "```bash\n",
    "# Python 3.11\n",
    "$ python trackback_test.py\n",
    "```"
   ]
  },
  {
   "cell_type": "code",
   "execution_count": null,
   "id": "ea06fad6",
   "metadata": {
    "tags": [
     "remove-input"
    ]
   },
   "outputs": [],
   "source": [
    "!python trackback_test.py"
   ]
  }
 ],
 "metadata": {
  "jupytext": {
   "text_representation": {
    "extension": ".md",
    "format_name": "myst",
    "format_version": 0.13,
    "jupytext_version": "1.16.7"
   }
  },
  "kernelspec": {
   "display_name": "Python 3 (ipykernel)",
   "language": "python",
   "name": "python3"
  },
  "source_map": [
   12,
   16,
   20,
   24,
   28,
   41,
   47,
   61,
   65,
   69,
   85,
   93,
   96,
   100,
   116,
   124,
   127,
   131,
   135,
   139,
   159,
   165,
   169,
   192,
   198,
   202,
   206,
   211,
   215,
   217,
   221,
   228,
   232,
   237,
   241,
   247,
   251,
   260,
   264,
   270,
   274,
   277,
   281,
   287,
   294,
   301,
   305,
   312
  ]
 },
 "nbformat": 4,
 "nbformat_minor": 5
}