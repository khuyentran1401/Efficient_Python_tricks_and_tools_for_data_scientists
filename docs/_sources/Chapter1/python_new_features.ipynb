{
 "cells": [
  {
   "attachments": {},
   "cell_type": "markdown",
   "id": "9ce4ed09",
   "metadata": {},
   "source": [
    "## New Features in Python"
   ]
  },
  {
   "attachments": {},
   "cell_type": "markdown",
   "id": "348b6a50",
   "metadata": {},
   "source": [
    "This section shows some new features in Python 3.10 and above. "
   ]
  },
  {
   "attachments": {},
   "cell_type": "markdown",
   "id": "8e6a3d79",
   "metadata": {},
   "source": [
    "### Simplify Conditional Execution with Match Statements"
   ]
  },
  {
   "attachments": {},
   "cell_type": "markdown",
   "id": "6a2eeeb5",
   "metadata": {},
   "source": [
    "It is common to use the if-else statements to execute multiple conditional statements."
   ]
  },
  {
   "cell_type": "code",
   "execution_count": 9,
   "id": "bd6f92b7",
   "metadata": {},
   "outputs": [
    {
     "data": {
      "text/plain": [
       "4"
      ]
     },
     "execution_count": 9,
     "metadata": {},
     "output_type": "execute_result"
    }
   ],
   "source": [
    "def get_price(food: str):\n",
    "    if food == \"apple\" or food == \"peach\":\n",
    "        return 4\n",
    "    elif food == \"orange\":\n",
    "        return 3\n",
    "    elif food == \"grape\":\n",
    "        return 5\n",
    "    else:\n",
    "        return \"Unknown\"\n",
    "\n",
    "\n",
    "get_price(\"peach\")\n"
   ]
  },
  {
   "attachments": {},
   "cell_type": "markdown",
   "id": "7b961f3f",
   "metadata": {},
   "source": [
    "In Python 3.10 and above, you can use the match statements to do the same thing. \n",
    "\n",
    "Match statements can provide a more concise and readable syntax, especially when dealing with complex pattern matching scenarios. "
   ]
  },
  {
   "cell_type": "code",
   "execution_count": 5,
   "id": "5ba10078",
   "metadata": {},
   "outputs": [
    {
     "data": {
      "text/plain": [
       "4"
      ]
     },
     "execution_count": 5,
     "metadata": {},
     "output_type": "execute_result"
    }
   ],
   "source": [
    "def get_price(food: str):\n",
    "    match food:\n",
    "        case \"apple\" | \"peach\":\n",
    "            return 4\n",
    "        case \"orange\":\n",
    "            return 3\n",
    "        case \"grape\":\n",
    "            return 5\n",
    "        case _:\n",
    "            return \"Unknown\"\n",
    "\n",
    "\n",
    "get_price(\"peach\")"
   ]
  },
  {
   "attachments": {},
   "cell_type": "markdown",
   "id": "d09eb31c",
   "metadata": {},
   "source": [
    "### Structural Pattern Matching in Python 3.10"
   ]
  },
  {
   "attachments": {},
   "cell_type": "markdown",
   "id": "b7169caa",
   "metadata": {},
   "source": [
    "Have you ever wanted to match complex data types and extract their information? \n",
    "\n",
    "Python 3.10 allows you to do exactly that with the `match` statement and the `case` statements. "
   ]
  },
  {
   "attachments": {},
   "cell_type": "markdown",
   "id": "42104aba",
   "metadata": {},
   "source": [
    "The code below uses structural pattern matching to extract ages from the matching data structure.  "
   ]
  },
  {
   "cell_type": "code",
   "execution_count": null,
   "id": "a181f881",
   "metadata": {},
   "outputs": [],
   "source": [
    "def get_youngest_pet(pet_info):\n",
    "    match pet_info:\n",
    "        case [{\"age\": age1}, {\"age\": age2}]:\n",
    "            print(\"Age is extracted from a list\")\n",
    "            return min(age1, age2)\n",
    "\n",
    "        case {'age': {}}:\n",
    "            print(\"Age is extracted from a dict\")\n",
    "            ages = pet_info['age'].values()\n",
    "            return min(ages)\n"
   ]
  },
  {
   "cell_type": "code",
   "execution_count": null,
   "id": "9604eb87",
   "metadata": {},
   "outputs": [
    {
     "name": "stdout",
     "output_type": "stream",
     "text": [
      "Age is extracted from a list\n"
     ]
    },
    {
     "data": {
      "text/plain": [
       "1"
      ]
     },
     "metadata": {},
     "output_type": "display_data"
    }
   ],
   "source": [
    "pet_info1 = [{\"name\": \"bim\", \"age\": 1}, {\"name\": \"pepper\", \"age\": 9}]\n",
    "get_youngest_pet(pet_info1)"
   ]
  },
  {
   "cell_type": "code",
   "execution_count": null,
   "id": "7f8f2b9f",
   "metadata": {},
   "outputs": [
    {
     "name": "stdout",
     "output_type": "stream",
     "text": [
      "Age is extracted from a dict\n"
     ]
    },
    {
     "data": {
      "text/plain": [
       "1"
      ]
     },
     "metadata": {},
     "output_type": "display_data"
    }
   ],
   "source": [
    "pet_info2 = {'age': {\"bim\": 1, \"pepper\": 9}}\n",
    "get_youngest_pet(pet_info2)"
   ]
  },
  {
   "cell_type": "markdown",
   "id": "e8a5659d",
   "metadata": {},
   "source": [
    "### Enhance Code Readability with Python Dataclasses and Match Statements"
   ]
  },
  {
   "cell_type": "markdown",
   "id": "bb667ea2",
   "metadata": {},
   "source": [
    "You can use Python dataclasses with Python match statements to create cleaner and more readable code. This approach can be particularly useful when setting conditions based on multiple attributes of a class, as it can simplify the code and make it easier to understand.\n"
   ]
  },
  {
   "cell_type": "markdown",
   "id": "50fdca57",
   "metadata": {},
   "source": [
    "Using if-else:"
   ]
  },
  {
   "cell_type": "code",
   "execution_count": 11,
   "id": "d2fb488f",
   "metadata": {},
   "outputs": [],
   "source": [
    "from dataclasses import dataclass\n",
    "\n",
    "@dataclass\n",
    "class SubscriptionPlan:\n",
    "    name: str\n",
    "    price: float\n",
    "    unit: str\n",
    "\n",
    "def get_plan_details(plan):\n",
    "    if plan.name == \"basic\" and plan.unit == \"month\":\n",
    "        return f\"${plan.price} per month for one month.\"\n",
    "    elif plan.name == \"premium\" and plan.unit == \"year\":\n",
    "        return f\"${plan.price} per year for one year.\"\n",
    "    elif plan.name == \"\" and plan.price == 0.0 and plan.unit == \"\":\n",
    "        return \"Invalid subscription plan\"\n",
    "    else:\n",
    "        return \"Unknown subscription plan\""
   ]
  },
  {
   "cell_type": "code",
   "execution_count": 12,
   "id": "17c803ab",
   "metadata": {},
   "outputs": [
    {
     "name": "stdout",
     "output_type": "stream",
     "text": [
      "$9.99 per month for one month.\n",
      "$99.99 per year for one year.\n"
     ]
    }
   ],
   "source": [
    "basic_plan = SubscriptionPlan(name=\"basic\", price=9.99, unit=\"month\")\n",
    "premium_plan = SubscriptionPlan(name=\"premium\", price=99.99, unit=\"year\")\n",
    "\n",
    "print(get_plan_details(basic_plan))\n",
    "print(get_plan_details(premium_plan))"
   ]
  },
  {
   "cell_type": "markdown",
   "id": "dc8ea2bc",
   "metadata": {},
   "source": [
    "Using match statements:"
   ]
  },
  {
   "cell_type": "code",
   "execution_count": 13,
   "id": "59735bbe",
   "metadata": {},
   "outputs": [],
   "source": [
    "from dataclasses import dataclass\n",
    "\n",
    "\n",
    "@dataclass\n",
    "class SubscriptionPlan:\n",
    "    name: str\n",
    "    price: float\n",
    "    unit: str\n",
    "\n",
    "\n",
    "def get_plan_details(plan):\n",
    "    match plan:\n",
    "        case SubscriptionPlan(name=\"basic\", price=price, unit=\"month\"):\n",
    "            return f\"${price} per month for one month.\"\n",
    "        case SubscriptionPlan(name=\"premium\", price=price, unit=\"year\"):\n",
    "            return f\"${price} per year for one year.\"\n",
    "        case SubscriptionPlan():\n",
    "            return \"Invalid subscription plan\"\n",
    "        case _:\n",
    "            return \"Unknown subscription plan\""
   ]
  },
  {
   "cell_type": "code",
   "execution_count": 14,
   "id": "935bd68b",
   "metadata": {},
   "outputs": [
    {
     "name": "stdout",
     "output_type": "stream",
     "text": [
      "$9.99 per month for one month.\n",
      "$99.99 per year for one year.\n"
     ]
    }
   ],
   "source": [
    "basic_plan = SubscriptionPlan(name=\"basic\", price=9.99, unit=\"month\")\n",
    "premium_plan = SubscriptionPlan(name=\"premium\", price=99.99, unit=\"year\")\n",
    "\n",
    "print(get_plan_details(basic_plan))\n",
    "print(get_plan_details(premium_plan))"
   ]
  },
  {
   "attachments": {},
   "cell_type": "markdown",
   "id": "55c41158",
   "metadata": {},
   "source": [
    "### Write Union Types as X|Y in Python 3.10"
   ]
  },
  {
   "attachments": {},
   "cell_type": "markdown",
   "id": "9b653f2f",
   "metadata": {},
   "source": [
    "Before Python 3.10, you need to use `typing.Union` to declare that a variable can have one of several different types.  "
   ]
  },
  {
   "cell_type": "code",
   "execution_count": null,
   "id": "654125f8",
   "metadata": {},
   "outputs": [
    {
     "data": {
      "text/plain": [
       "True"
      ]
     },
     "metadata": {},
     "output_type": "display_data"
    }
   ],
   "source": [
    "from typing import Union\n",
    "\n",
    "num = 2.3\n",
    "isinstance(num, Union[int, float])"
   ]
  },
  {
   "attachments": {},
   "cell_type": "markdown",
   "id": "73ad1b52",
   "metadata": {},
   "source": [
    "In Python 3.10, you can replace `Union[X, Y]` with `X | Y` to simplify the expression. "
   ]
  },
  {
   "cell_type": "code",
   "execution_count": null,
   "id": "a1ba24dd",
   "metadata": {},
   "outputs": [
    {
     "data": {
      "text/plain": [
       "True"
      ]
     },
     "metadata": {},
     "output_type": "display_data"
    }
   ],
   "source": [
    "isinstance(num, int | float)"
   ]
  },
  {
   "attachments": {},
   "cell_type": "markdown",
   "id": "9838891c",
   "metadata": {},
   "source": [
    "### Walrus Operator: Assign a Variable in an Expression"
   ]
  },
  {
   "attachments": {},
   "cell_type": "markdown",
   "id": "b2477b9e",
   "metadata": {},
   "source": [
    "The walrus operator (`:=`) in Python 3.8 and above allows you to assign a variable in an expression. The walrus operator is useful when you want to:\n",
    "- Debug the components in an expression\n",
    "- Avoid repeated computations\n",
    "- Assign a meaningful name to an expression"
   ]
  },
  {
   "cell_type": "code",
   "execution_count": null,
   "id": "68b0e1a3",
   "metadata": {},
   "outputs": [],
   "source": [
    "from math import pi\n",
    "\n",
    "diameter = 4\n"
   ]
  },
  {
   "cell_type": "code",
   "execution_count": 16,
   "id": "14cfc887",
   "metadata": {},
   "outputs": [
    {
     "data": {
      "text/plain": [
       "2.0"
      ]
     },
     "execution_count": 16,
     "metadata": {},
     "output_type": "execute_result"
    }
   ],
   "source": [
    "# without Walrus operator\n",
    "\n",
    "circle = {\n",
    "    \"radius\": diameter / 2, # computed twice\n",
    "    \"area\": pi * (diameter / 2)**2,\n",
    "}\n",
    "\n",
    "diameter / 2\n"
   ]
  },
  {
   "cell_type": "code",
   "execution_count": 15,
   "id": "805e31ea",
   "metadata": {},
   "outputs": [
    {
     "data": {
      "text/plain": [
       "2.0"
      ]
     },
     "execution_count": 15,
     "metadata": {},
     "output_type": "execute_result"
    }
   ],
   "source": [
    "# with Walrus operator\n",
    "\n",
    "circle = {\n",
    "    \"radius\": (radius := diameter / 2),\n",
    "    \"area\": pi * radius**2,\n",
    "}\n",
    "\n",
    "radius"
   ]
  },
  {
   "attachments": {},
   "cell_type": "markdown",
   "id": "761dacc3",
   "metadata": {},
   "source": [
    "### Fine-Grained Traceback in Python 3.11"
   ]
  },
  {
   "attachments": {},
   "cell_type": "markdown",
   "id": "f68a1b50",
   "metadata": {},
   "source": [
    "Having a clear traceback makes it faster to debug your code. Python 3.11 provides fine-grained error locations in tracebacks, enabling developers to quickly identify the exact location of errors. \n",
    "\n",
    "The following examples illustrate the difference in traceback between Python 3.9 and Python 3.11."
   ]
  },
  {
   "cell_type": "code",
   "execution_count": null,
   "id": "f2b883e4",
   "metadata": {},
   "outputs": [],
   "source": [
    "%%writefile trackback_test.py\n",
    "def greet(name):\n",
    "    greeting = \"Hello, \" + name + \"!\"\n",
    "    print(greetng) # Error: Typo in variable name\n",
    "\n",
    "greet(\"Khuyen\")"
   ]
  },
  {
   "attachments": {},
   "cell_type": "markdown",
   "id": "a2435cc3",
   "metadata": {},
   "source": [
    "```bash\n",
    "# Python 3.9\n",
    "$ python trackback_test.py\n",
    "```"
   ]
  },
  {
   "cell_type": "code",
   "execution_count": 2,
   "id": "dc863797",
   "metadata": {
    "tags": [
     "remove-input"
    ]
   },
   "outputs": [
    {
     "name": "stdout",
     "output_type": "stream",
     "text": [
      "Traceback (most recent call last):\n",
      "  File \"/Users/khuyentran/book/Efficient_Python_tricks_and_tools_for_data_scientists/Chapter1/trackback_test.py\", line 5, in <module>\n",
      "    greet(\"Khuyen\")\n",
      "  File \"/Users/khuyentran/book/Efficient_Python_tricks_and_tools_for_data_scientists/Chapter1/trackback_test.py\", line 3, in greet\n",
      "    print(greetng) # Error: Typo in variable name\n",
      "NameError: name 'greetng' is not defined\n"
     ]
    }
   ],
   "source": [
    "!python trackback_test.py"
   ]
  },
  {
   "attachments": {},
   "cell_type": "markdown",
   "id": "caaa1956",
   "metadata": {},
   "source": [
    "```bash\n",
    "# Python 3.11\n",
    "$ python trackback_test.py\n",
    "```"
   ]
  },
  {
   "cell_type": "code",
   "execution_count": 2,
   "id": "9ec77dd6",
   "metadata": {
    "tags": [
     "remove-input"
    ]
   },
   "outputs": [
    {
     "name": "stdout",
     "output_type": "stream",
     "text": [
      "Traceback (most recent call last):\n",
      "  File \"/Users/khuyentran/book/Efficient_Python_tricks_and_tools_for_data_scientists/Chapter1/trackback_test.py\", line 5, in <module>\n",
      "    greet(\"Khuyen\")\n",
      "  File \"/Users/khuyentran/book/Efficient_Python_tricks_and_tools_for_data_scientists/Chapter1/trackback_test.py\", line 3, in greet\n",
      "    print(greetng) # Error: Typo in variable name\n",
      "          ^^^^^^^\n",
      "NameError: name 'greetng' is not defined. Did you mean: 'greeting'?\n"
     ]
    }
   ],
   "source": [
    "!python trackback_test.py"
   ]
  }
 ],
 "metadata": {
  "kernelspec": {
   "display_name": "Python 3",
   "language": "python",
   "name": "python3"
  },
  "language_info": {
   "codemirror_mode": {
    "name": "ipython",
    "version": 3
   },
   "file_extension": ".py",
   "mimetype": "text/x-python",
   "name": "python",
   "nbconvert_exporter": "python",
   "pygments_lexer": "ipython3",
   "version": "3.11.6"
  }
 },
 "nbformat": 4,
 "nbformat_minor": 5
}
