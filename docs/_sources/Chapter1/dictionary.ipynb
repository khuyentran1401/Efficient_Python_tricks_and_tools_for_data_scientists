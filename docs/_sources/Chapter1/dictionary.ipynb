{
 "cells": [
  {
   "cell_type": "markdown",
   "id": "95c266c1",
   "metadata": {},
   "source": [
    "## Dictionary"
   ]
  },
  {
   "cell_type": "markdown",
   "id": "0a547324",
   "metadata": {},
   "source": [
    "### Key Parameter in Max(): Find the Key with the Largest Value"
   ]
  },
  {
   "cell_type": "markdown",
   "id": "e1d8987b",
   "metadata": {},
   "source": [
    "Apply max on a Python dictionary will give you the largest key, not the key with the largest value. If you want to find the key with the largest value, specify that using the `key` parameter in the `max` method."
   ]
  },
  {
   "cell_type": "code",
   "execution_count": 1,
   "id": "f945ab42",
   "metadata": {
    "ExecuteTime": {
     "end_time": "2021-09-12T15:20:27.105287Z",
     "start_time": "2021-09-12T15:20:27.069136Z"
    }
   },
   "outputs": [
    {
     "data": {
      "text/plain": [
       "'Oliver'"
      ]
     },
     "execution_count": 1,
     "metadata": {},
     "output_type": "execute_result"
    }
   ],
   "source": [
    "birth_year = {\"Ben\": 1997, \"Alex\": 2000, \"Oliver\": 1995}\n",
    "\n",
    "max(birth_year)"
   ]
  },
  {
   "cell_type": "code",
   "execution_count": 2,
   "id": "f34f50ab",
   "metadata": {
    "ExecuteTime": {
     "end_time": "2021-09-12T15:20:27.603741Z",
     "start_time": "2021-09-12T15:20:27.594347Z"
    },
    "scrolled": true
   },
   "outputs": [
    {
     "data": {
      "text/plain": [
       "'Alex'"
      ]
     },
     "execution_count": 2,
     "metadata": {},
     "output_type": "execute_result"
    }
   ],
   "source": [
    "max_val = max(birth_year, key=lambda k: birth_year[k])\n",
    "max_val"
   ]
  },
  {
   "cell_type": "markdown",
   "id": "80c62cf2",
   "metadata": {},
   "source": [
    "### dict.fromkeys: Get a Dictionary From a List and a Value"
   ]
  },
  {
   "cell_type": "markdown",
   "id": "f212be67",
   "metadata": {},
   "source": [
    "If you want to get a dictionary from a list and a value, try `dict.fromkeys.` "
   ]
  },
  {
   "cell_type": "code",
   "execution_count": 16,
   "id": "2041e23e",
   "metadata": {
    "ExecuteTime": {
     "end_time": "2021-09-21T13:10:03.386464Z",
     "start_time": "2021-09-21T13:10:03.379333Z"
    }
   },
   "outputs": [],
   "source": [
    "furnitures = ['bed', 'table', 'chair']\n",
    "food = ['apple', 'pepper', 'onion']\n",
    "loc1 = 'IKEA'\n",
    "loc2 = 'ALDI'"
   ]
  },
  {
   "cell_type": "markdown",
   "id": "4cd4c6bb",
   "metadata": {},
   "source": [
    "For example, we can use `dict.fromkeys` to create a dictionary of furnitures' locations:"
   ]
  },
  {
   "cell_type": "code",
   "execution_count": 20,
   "id": "daee57cc",
   "metadata": {
    "ExecuteTime": {
     "end_time": "2021-09-21T13:15:25.825963Z",
     "start_time": "2021-09-21T13:15:25.818634Z"
    },
    "scrolled": true
   },
   "outputs": [
    {
     "data": {
      "text/plain": [
       "{'bed': 'IKEA', 'table': 'IKEA', 'chair': 'IKEA'}"
      ]
     },
     "execution_count": 20,
     "metadata": {},
     "output_type": "execute_result"
    }
   ],
   "source": [
    "furniture_loc = dict.fromkeys(furnitures, loc1)\n",
    "furniture_loc"
   ]
  },
  {
   "cell_type": "markdown",
   "id": "24f9cb97",
   "metadata": {},
   "source": [
    "... or create a dictionary of food's locations:"
   ]
  },
  {
   "cell_type": "code",
   "execution_count": 18,
   "id": "be4ef185",
   "metadata": {
    "ExecuteTime": {
     "end_time": "2021-09-21T13:10:03.874224Z",
     "start_time": "2021-09-21T13:10:03.864185Z"
    }
   },
   "outputs": [
    {
     "data": {
      "text/plain": [
       "{'apple': 'ALDI', 'pepper': 'ALDI', 'onion': 'ALDI'}"
      ]
     },
     "execution_count": 18,
     "metadata": {},
     "output_type": "execute_result"
    }
   ],
   "source": [
    "food_loc = dict.fromkeys(food, loc2)\n",
    "food_loc"
   ]
  },
  {
   "cell_type": "markdown",
   "id": "8ced474e",
   "metadata": {},
   "source": [
    "These 2 results can be combined into a location dictionary like below:"
   ]
  },
  {
   "cell_type": "code",
   "execution_count": 21,
   "id": "4e19d2e0",
   "metadata": {
    "ExecuteTime": {
     "end_time": "2021-09-21T13:15:31.942695Z",
     "start_time": "2021-09-21T13:15:31.934286Z"
    }
   },
   "outputs": [
    {
     "data": {
      "text/plain": [
       "{'apple': 'ALDI',\n",
       " 'pepper': 'ALDI',\n",
       " 'onion': 'ALDI',\n",
       " 'bed': 'IKEA',\n",
       " 'table': 'IKEA',\n",
       " 'chair': 'IKEA'}"
      ]
     },
     "execution_count": 21,
     "metadata": {},
     "output_type": "execute_result"
    }
   ],
   "source": [
    "locations = {**food_loc, **furniture_loc}\n",
    "locations"
   ]
  }
 ],
 "metadata": {
  "kernelspec": {
   "display_name": "Python 3 (ipykernel)",
   "language": "python",
   "name": "python3"
  },
  "language_info": {
   "codemirror_mode": {
    "name": "ipython",
    "version": 3
   },
   "file_extension": ".py",
   "mimetype": "text/x-python",
   "name": "python",
   "nbconvert_exporter": "python",
   "pygments_lexer": "ipython3",
   "version": "3.8.10"
  },
  "toc": {
   "base_numbering": 1,
   "nav_menu": {},
   "number_sections": true,
   "sideBar": true,
   "skip_h1_title": false,
   "title_cell": "Table of Contents",
   "title_sidebar": "Contents",
   "toc_cell": false,
   "toc_position": {},
   "toc_section_display": true,
   "toc_window_display": false
  }
 },
 "nbformat": 4,
 "nbformat_minor": 5
}
