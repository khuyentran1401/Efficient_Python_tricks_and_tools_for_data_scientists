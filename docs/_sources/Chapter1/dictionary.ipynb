{
 "cells": [
  {
   "cell_type": "markdown",
   "id": "95c266c1",
   "metadata": {},
   "source": [
    "## Dictionary"
   ]
  },
  {
   "cell_type": "markdown",
   "id": "73d2dd40",
   "metadata": {},
   "source": [
    "### Update: Update a Dictionary With Items From Another Dictionary"
   ]
  },
  {
   "cell_type": "markdown",
   "id": "65b36f96",
   "metadata": {},
   "source": [
    "If you want to update a dictionary with items from another dictionary or from an iterable of key/value pairs, use the `update` method."
   ]
  },
  {
   "cell_type": "code",
   "execution_count": 20,
   "id": "20f0ee93",
   "metadata": {
    "ExecuteTime": {
     "end_time": "2021-10-28T13:24:30.938584Z",
     "start_time": "2021-10-28T13:24:30.931389Z"
    }
   },
   "outputs": [],
   "source": [
    "birth_year = {\"Ben\": 1997}\n",
    "new_birth_year = {\"Michael\": 1993, 'Lauren': 1999}\n",
    "birth_year.update(new_birth_year)"
   ]
  },
  {
   "cell_type": "code",
   "execution_count": 21,
   "id": "b4198da1",
   "metadata": {
    "ExecuteTime": {
     "end_time": "2021-10-28T13:24:31.726424Z",
     "start_time": "2021-10-28T13:24:31.720888Z"
    }
   },
   "outputs": [],
   "source": [
    "birth_year.update(Josh=1990, Olivia=1991)"
   ]
  },
  {
   "cell_type": "code",
   "execution_count": 22,
   "id": "be1cfb6f",
   "metadata": {
    "ExecuteTime": {
     "end_time": "2021-10-28T13:24:32.425688Z",
     "start_time": "2021-10-28T13:24:32.422848Z"
    }
   },
   "outputs": [
    {
     "data": {
      "text/plain": [
       "{'Ben': 1997, 'Michael': 1993, 'Lauren': 1999, 'Josh': 1990, 'Olivia': 1991}"
      ]
     },
     "execution_count": 22,
     "metadata": {},
     "output_type": "execute_result"
    }
   ],
   "source": [
    "birth_year "
   ]
  },
  {
   "cell_type": "markdown",
   "id": "0a547324",
   "metadata": {},
   "source": [
    "### Key Parameter in Max(): Find the Key with the Largest Value"
   ]
  },
  {
   "cell_type": "markdown",
   "id": "e1d8987b",
   "metadata": {},
   "source": [
    "Apply max on a Python dictionary will give you the largest key, not the key with the largest value. If you want to find the key with the largest value, specify that using the `key` parameter in the `max` method."
   ]
  },
  {
   "cell_type": "code",
   "execution_count": 1,
   "id": "f945ab42",
   "metadata": {
    "ExecuteTime": {
     "end_time": "2021-09-12T15:20:27.105287Z",
     "start_time": "2021-09-12T15:20:27.069136Z"
    }
   },
   "outputs": [
    {
     "data": {
      "text/plain": [
       "'Oliver'"
      ]
     },
     "execution_count": 1,
     "metadata": {},
     "output_type": "execute_result"
    }
   ],
   "source": [
    "birth_year = {\"Ben\": 1997, \"Alex\": 2000, \"Oliver\": 1995}\n",
    "\n",
    "max(birth_year)"
   ]
  },
  {
   "cell_type": "code",
   "execution_count": 2,
   "id": "f34f50ab",
   "metadata": {
    "ExecuteTime": {
     "end_time": "2021-09-12T15:20:27.603741Z",
     "start_time": "2021-09-12T15:20:27.594347Z"
    },
    "scrolled": true
   },
   "outputs": [
    {
     "data": {
      "text/plain": [
       "'Alex'"
      ]
     },
     "execution_count": 2,
     "metadata": {},
     "output_type": "execute_result"
    }
   ],
   "source": [
    "max_val = max(birth_year, key=lambda k: birth_year[k])\n",
    "max_val"
   ]
  },
  {
   "cell_type": "markdown",
   "id": "5caf1b3f",
   "metadata": {},
   "source": [
    "### dict.get: Get the Default Value of a Dictionary if a Key Doesn't Exist"
   ]
  },
  {
   "cell_type": "markdown",
   "id": "c2dd1725",
   "metadata": {},
   "source": [
    "If you want to get the default value when a key doesn't exist in a dictionary, use `dict.get`. In the code below, since there is no key `meeting3`, the default value `online` is returned. "
   ]
  },
  {
   "cell_type": "code",
   "execution_count": 5,
   "id": "e066cd73",
   "metadata": {
    "ExecuteTime": {
     "end_time": "2021-09-30T12:49:56.062960Z",
     "start_time": "2021-09-30T12:49:56.056983Z"
    }
   },
   "outputs": [],
   "source": [
    "locations = {'meeting1': 'room1', 'meeting2': 'room2'}"
   ]
  },
  {
   "cell_type": "code",
   "execution_count": 6,
   "id": "d07fcf3e",
   "metadata": {
    "ExecuteTime": {
     "end_time": "2021-09-30T12:49:59.099210Z",
     "start_time": "2021-09-30T12:49:59.090362Z"
    },
    "scrolled": true
   },
   "outputs": [
    {
     "data": {
      "text/plain": [
       "'room1'"
      ]
     },
     "execution_count": 6,
     "metadata": {},
     "output_type": "execute_result"
    }
   ],
   "source": [
    "locations.get('meeting1', 'online')"
   ]
  },
  {
   "cell_type": "code",
   "execution_count": 3,
   "id": "6de353f4",
   "metadata": {
    "ExecuteTime": {
     "end_time": "2021-09-30T12:49:46.738598Z",
     "start_time": "2021-09-30T12:49:46.729582Z"
    }
   },
   "outputs": [
    {
     "data": {
      "text/plain": [
       "'online'"
      ]
     },
     "execution_count": 3,
     "metadata": {},
     "output_type": "execute_result"
    }
   ],
   "source": [
    "locations.get('meeting3', 'online')"
   ]
  },
  {
   "cell_type": "markdown",
   "id": "c500037a",
   "metadata": {},
   "source": [
    "### Double dict.get: Get Values in a Nested Dictionary with Missing Keys"
   ]
  },
  {
   "cell_type": "markdown",
   "id": "7838c213",
   "metadata": {
    "ExecuteTime": {
     "end_time": "2021-10-14T13:10:57.149250Z",
     "start_time": "2021-10-14T13:10:57.132853Z"
    }
   },
   "source": [
    "It can be challenging to get values in a nested dictionary with missing keys. "
   ]
  },
  {
   "cell_type": "code",
   "execution_count": 23,
   "id": "0d974df2",
   "metadata": {
    "ExecuteTime": {
     "end_time": "2021-10-14T13:19:58.125108Z",
     "start_time": "2021-10-14T13:19:58.098374Z"
    }
   },
   "outputs": [
    {
     "data": {
      "application/javascript": [
       "\n",
       "            setTimeout(function() {\n",
       "                var nbb_cell_id = 23;\n",
       "                var nbb_unformatted_code = \"fruits = [\\n    {\\\"name\\\": \\\"apple\\\", \\\"attr\\\": {\\\"color\\\": \\\"red\\\", \\\"taste\\\": \\\"sweet\\\"}},\\n    {\\\"name\\\": \\\"orange\\\", \\\"attr\\\": {\\\"taste\\\": \\\"sour\\\"}},\\n    {\\\"name\\\": \\\"grape\\\", \\\"attr\\\": {\\\"color\\\": \\\"purple\\\"}},\\n    {\\\"name\\\": \\\"banana\\\"},\\n]\";\n",
       "                var nbb_formatted_code = \"fruits = [\\n    {\\\"name\\\": \\\"apple\\\", \\\"attr\\\": {\\\"color\\\": \\\"red\\\", \\\"taste\\\": \\\"sweet\\\"}},\\n    {\\\"name\\\": \\\"orange\\\", \\\"attr\\\": {\\\"taste\\\": \\\"sour\\\"}},\\n    {\\\"name\\\": \\\"grape\\\", \\\"attr\\\": {\\\"color\\\": \\\"purple\\\"}},\\n    {\\\"name\\\": \\\"banana\\\"},\\n]\";\n",
       "                var nbb_cells = Jupyter.notebook.get_cells();\n",
       "                for (var i = 0; i < nbb_cells.length; ++i) {\n",
       "                    if (nbb_cells[i].input_prompt_number == nbb_cell_id) {\n",
       "                        if (nbb_cells[i].get_text() == nbb_unformatted_code) {\n",
       "                             nbb_cells[i].set_text(nbb_formatted_code);\n",
       "                        }\n",
       "                        break;\n",
       "                    }\n",
       "                }\n",
       "            }, 500);\n",
       "            "
      ],
      "text/plain": [
       "<IPython.core.display.Javascript object>"
      ]
     },
     "metadata": {},
     "output_type": "display_data"
    }
   ],
   "source": [
    "fruits = [\n",
    "    {\"name\": \"apple\", \"attr\": {\"color\": \"red\", \"taste\": \"sweet\"}},\n",
    "    {\"name\": \"orange\", \"attr\": {\"taste\": \"sour\"}},\n",
    "    {\"name\": \"grape\", \"attr\": {\"color\": \"purple\"}},\n",
    "    {\"name\": \"banana\"},\n",
    "]"
   ]
  },
  {
   "cell_type": "markdown",
   "id": "276f40da",
   "metadata": {},
   "source": [
    "You can use an if-else statement but it is long and hard to read. "
   ]
  },
  {
   "cell_type": "code",
   "execution_count": 29,
   "id": "abe69573",
   "metadata": {
    "ExecuteTime": {
     "end_time": "2021-10-14T14:32:09.841469Z",
     "start_time": "2021-10-14T14:32:09.813291Z"
    }
   },
   "outputs": [
    {
     "data": {
      "text/plain": [
       "['red', 'unknown', 'purple', 'unknown']"
      ]
     },
     "execution_count": 29,
     "metadata": {},
     "output_type": "execute_result"
    },
    {
     "data": {
      "application/javascript": [
       "\n",
       "            setTimeout(function() {\n",
       "                var nbb_cell_id = 29;\n",
       "                var nbb_unformatted_code = \"colors = [\\n    fruit[\\\"attr\\\"][\\\"color\\\"]\\n    if \\\"attr\\\" in fruit and \\\"color\\\" in fruit[\\\"attr\\\"]\\n    else \\\"unknown\\\"\\n    for fruit in fruits\\n]\\ncolors\";\n",
       "                var nbb_formatted_code = \"colors = [\\n    fruit[\\\"attr\\\"][\\\"color\\\"]\\n    if \\\"attr\\\" in fruit and \\\"color\\\" in fruit[\\\"attr\\\"]\\n    else \\\"unknown\\\"\\n    for fruit in fruits\\n]\\ncolors\";\n",
       "                var nbb_cells = Jupyter.notebook.get_cells();\n",
       "                for (var i = 0; i < nbb_cells.length; ++i) {\n",
       "                    if (nbb_cells[i].input_prompt_number == nbb_cell_id) {\n",
       "                        if (nbb_cells[i].get_text() == nbb_unformatted_code) {\n",
       "                             nbb_cells[i].set_text(nbb_formatted_code);\n",
       "                        }\n",
       "                        break;\n",
       "                    }\n",
       "                }\n",
       "            }, 500);\n",
       "            "
      ],
      "text/plain": [
       "<IPython.core.display.Javascript object>"
      ]
     },
     "metadata": {},
     "output_type": "display_data"
    }
   ],
   "source": [
    "colors = [\n",
    "    fruit[\"attr\"][\"color\"]\n",
    "    if \"attr\" in fruit and \"color\" in fruit[\"attr\"]\n",
    "    else \"unknown\"\n",
    "    for fruit in fruits\n",
    "]\n",
    "colors"
   ]
  },
  {
   "cell_type": "markdown",
   "id": "578c4f72",
   "metadata": {},
   "source": [
    "A better way is to use the `get` method twice like below. The first `get` method will return an empty dictionary if the key `attr` doesn't exist. The second `get` method will return `unknown` if the key `color` doesn't exist"
   ]
  },
  {
   "cell_type": "code",
   "execution_count": 30,
   "id": "64299cbd",
   "metadata": {
    "ExecuteTime": {
     "end_time": "2021-10-14T14:32:15.211058Z",
     "start_time": "2021-10-14T14:32:15.187018Z"
    }
   },
   "outputs": [
    {
     "data": {
      "text/plain": [
       "['red', 'unknown', 'purple', 'unknown']"
      ]
     },
     "execution_count": 30,
     "metadata": {},
     "output_type": "execute_result"
    },
    {
     "data": {
      "application/javascript": [
       "\n",
       "            setTimeout(function() {\n",
       "                var nbb_cell_id = 30;\n",
       "                var nbb_unformatted_code = \"colors = [fruit.get(\\\"attr\\\", {}).get(\\\"color\\\", \\\"unknown\\\") for fruit in fruits]\\ncolors\";\n",
       "                var nbb_formatted_code = \"colors = [fruit.get(\\\"attr\\\", {}).get(\\\"color\\\", \\\"unknown\\\") for fruit in fruits]\\ncolors\";\n",
       "                var nbb_cells = Jupyter.notebook.get_cells();\n",
       "                for (var i = 0; i < nbb_cells.length; ++i) {\n",
       "                    if (nbb_cells[i].input_prompt_number == nbb_cell_id) {\n",
       "                        if (nbb_cells[i].get_text() == nbb_unformatted_code) {\n",
       "                             nbb_cells[i].set_text(nbb_formatted_code);\n",
       "                        }\n",
       "                        break;\n",
       "                    }\n",
       "                }\n",
       "            }, 500);\n",
       "            "
      ],
      "text/plain": [
       "<IPython.core.display.Javascript object>"
      ]
     },
     "metadata": {},
     "output_type": "display_data"
    }
   ],
   "source": [
    "colors = [fruit.get(\"attr\", {}).get(\"color\", \"unknown\") for fruit in fruits]\n",
    "colors"
   ]
  },
  {
   "cell_type": "markdown",
   "id": "80c62cf2",
   "metadata": {},
   "source": [
    "### dict.fromkeys: Get a Dictionary From a List and a Value"
   ]
  },
  {
   "cell_type": "markdown",
   "id": "f212be67",
   "metadata": {},
   "source": [
    "If you want to get a dictionary from a list and a value, try `dict.fromkeys.` "
   ]
  },
  {
   "cell_type": "code",
   "execution_count": 16,
   "id": "2041e23e",
   "metadata": {
    "ExecuteTime": {
     "end_time": "2021-09-21T13:10:03.386464Z",
     "start_time": "2021-09-21T13:10:03.379333Z"
    }
   },
   "outputs": [],
   "source": [
    "furnitures = ['bed', 'table', 'chair']\n",
    "food = ['apple', 'pepper', 'onion']\n",
    "loc1 = 'IKEA'\n",
    "loc2 = 'ALDI'"
   ]
  },
  {
   "cell_type": "markdown",
   "id": "4cd4c6bb",
   "metadata": {},
   "source": [
    "For example, we can use `dict.fromkeys` to create a dictionary of furnitures' locations:"
   ]
  },
  {
   "cell_type": "code",
   "execution_count": 20,
   "id": "daee57cc",
   "metadata": {
    "ExecuteTime": {
     "end_time": "2021-09-21T13:15:25.825963Z",
     "start_time": "2021-09-21T13:15:25.818634Z"
    },
    "scrolled": true
   },
   "outputs": [
    {
     "data": {
      "text/plain": [
       "{'bed': 'IKEA', 'table': 'IKEA', 'chair': 'IKEA'}"
      ]
     },
     "execution_count": 20,
     "metadata": {},
     "output_type": "execute_result"
    }
   ],
   "source": [
    "furniture_loc = dict.fromkeys(furnitures, loc1)\n",
    "furniture_loc"
   ]
  },
  {
   "cell_type": "markdown",
   "id": "24f9cb97",
   "metadata": {},
   "source": [
    "... or create a dictionary of food's locations:"
   ]
  },
  {
   "cell_type": "code",
   "execution_count": 18,
   "id": "be4ef185",
   "metadata": {
    "ExecuteTime": {
     "end_time": "2021-09-21T13:10:03.874224Z",
     "start_time": "2021-09-21T13:10:03.864185Z"
    }
   },
   "outputs": [
    {
     "data": {
      "text/plain": [
       "{'apple': 'ALDI', 'pepper': 'ALDI', 'onion': 'ALDI'}"
      ]
     },
     "execution_count": 18,
     "metadata": {},
     "output_type": "execute_result"
    }
   ],
   "source": [
    "food_loc = dict.fromkeys(food, loc2)\n",
    "food_loc"
   ]
  },
  {
   "cell_type": "markdown",
   "id": "8ced474e",
   "metadata": {},
   "source": [
    "These 2 results can be combined into a location dictionary like below:"
   ]
  },
  {
   "cell_type": "code",
   "execution_count": 21,
   "id": "4e19d2e0",
   "metadata": {
    "ExecuteTime": {
     "end_time": "2021-09-21T13:15:31.942695Z",
     "start_time": "2021-09-21T13:15:31.934286Z"
    }
   },
   "outputs": [
    {
     "data": {
      "text/plain": [
       "{'apple': 'ALDI',\n",
       " 'pepper': 'ALDI',\n",
       " 'onion': 'ALDI',\n",
       " 'bed': 'IKEA',\n",
       " 'table': 'IKEA',\n",
       " 'chair': 'IKEA'}"
      ]
     },
     "execution_count": 21,
     "metadata": {},
     "output_type": "execute_result"
    }
   ],
   "source": [
    "locations = {**food_loc, **furniture_loc}\n",
    "locations"
   ]
  }
 ],
 "metadata": {
  "kernelspec": {
   "display_name": "Python 3 (ipykernel)",
   "language": "python",
   "name": "python3"
  },
  "language_info": {
   "codemirror_mode": {
    "name": "ipython",
    "version": 3
   },
   "file_extension": ".py",
   "mimetype": "text/x-python",
   "name": "python",
   "nbconvert_exporter": "python",
   "pygments_lexer": "ipython3",
   "version": "3.8.10"
  },
  "toc": {
   "base_numbering": 1,
   "nav_menu": {},
   "number_sections": true,
   "sideBar": true,
   "skip_h1_title": false,
   "title_cell": "Table of Contents",
   "title_sidebar": "Contents",
   "toc_cell": false,
   "toc_position": {},
   "toc_section_display": true,
   "toc_window_display": false
  }
 },
 "nbformat": 4,
 "nbformat_minor": 5
}
