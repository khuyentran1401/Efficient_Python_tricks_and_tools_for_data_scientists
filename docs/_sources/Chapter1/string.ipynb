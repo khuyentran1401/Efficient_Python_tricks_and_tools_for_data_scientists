{
 "cells": [
  {
   "cell_type": "markdown",
   "id": "6f599b80",
   "metadata": {},
   "source": [
    "## String"
   ]
  },
  {
   "cell_type": "markdown",
   "id": "151a82a5",
   "metadata": {},
   "source": [
    "![](../img/string.png)"
   ]
  },
  {
   "cell_type": "markdown",
   "id": "e5dbba12",
   "metadata": {},
   "source": [
    "### Control the Number of Printed Decimals with f-Strings"
   ]
  },
  {
   "cell_type": "markdown",
   "id": "ebb4eb7d",
   "metadata": {},
   "source": [
    "If you want to limit the number of decimals being printed, use the f-string as shown below."
   ]
  },
  {
   "cell_type": "code",
   "execution_count": null,
   "id": "4eabddc7",
   "metadata": {},
   "outputs": [],
   "source": [
    "num = 2.3123\n",
    "print(f'{num:.1f}') # Limit to 1 decimal\n",
    "print(f'{num:.2f}') # Limit to 2 decimals"
   ]
  },
  {
   "cell_type": "markdown",
   "id": "e4169b98",
   "metadata": {},
   "source": [
    "### Format Dates in Python f-Strings"
   ]
  },
  {
   "cell_type": "markdown",
   "id": "74b83b9f",
   "metadata": {},
   "source": [
    "When printing a Python string, f-strings allow you to format datetime easily with a curly bracket and its formats.\n",
    "\n",
    "Find all formats [here](https://docs.python.org/2/library/datetime.html#strftime-and-strptime-behavior)."
   ]
  },
  {
   "cell_type": "code",
   "execution_count": null,
   "id": "372a1f94",
   "metadata": {},
   "outputs": [],
   "source": [
    "from datetime import datetime\n",
    "\n",
    "date = datetime(2022, 1, 1, 15, 30, 45)\n",
    "print(f'You need to be here at'\n",
    "f' {date:%I:%M %p} on {date:%A}')"
   ]
  },
  {
   "cell_type": "markdown",
   "id": "f1edc505",
   "metadata": {},
   "source": [
    "### Pad a String With Zero Using f-String"
   ]
  },
  {
   "cell_type": "markdown",
   "id": "d852b209",
   "metadata": {},
   "source": [
    "To display a number as a two-digit with leading zeros if needed, use f'{num:02}'."
   ]
  },
  {
   "cell_type": "code",
   "execution_count": null,
   "id": "a68b827a",
   "metadata": {},
   "outputs": [],
   "source": [
    "for hour in range(8, 12):\n",
    "    print(f'It is {hour:02} AM! Wake up!')"
   ]
  },
  {
   "cell_type": "markdown",
   "id": "0ee65bad",
   "metadata": {},
   "source": [
    "### Enhance Number Readability with f-Strings and Comma Formatting"
   ]
  },
  {
   "cell_type": "markdown",
   "id": "f7d81c5d",
   "metadata": {},
   "source": [
    "To increase the readability of a number with a large number of digits, you can use f-strings to display an integer with comma formatting for thousands."
   ]
  },
  {
   "cell_type": "code",
   "execution_count": null,
   "id": "7e920177",
   "metadata": {},
   "outputs": [],
   "source": [
    "num = 100**4\n",
    "print(num)\n",
    "print(f\"{num:,}\")"
   ]
  },
  {
   "cell_type": "markdown",
   "id": "f1654cdb",
   "metadata": {},
   "source": [
    "### Use Calculations in Python f-String"
   ]
  },
  {
   "cell_type": "markdown",
   "id": "42449e08",
   "metadata": {},
   "source": [
    "If you want to do calculations inside a Python string, use f-string."
   ]
  },
  {
   "cell_type": "code",
   "execution_count": null,
   "id": "1de5e652",
   "metadata": {},
   "outputs": [],
   "source": [
    "apple = 3\n",
    "banana = 2\n",
    "print(f'The total price is {apple + banana}.')"
   ]
  },
  {
   "cell_type": "markdown",
   "id": "0decde5d",
   "metadata": {},
   "source": [
    "### Debug Your Python Code with an Equal Sign in an f-String"
   ]
  },
  {
   "cell_type": "markdown",
   "id": "13b1e16f",
   "metadata": {},
   "source": [
    "It is common to use `f\"var={var}\"` to see which values are being printed."
   ]
  },
  {
   "cell_type": "code",
   "execution_count": null,
   "id": "2a64299a",
   "metadata": {},
   "outputs": [],
   "source": [
    "from itertools import permutations\n",
    "\n",
    "nums = [1, 2, 3]\n",
    "\n",
    "for i, j in permutations(nums, 2):\n",
    "    print(f\"i={i}, j={j}\")"
   ]
  },
  {
   "cell_type": "markdown",
   "id": "acbd6515",
   "metadata": {},
   "source": [
    "In Python 3.8 and above, you can get the same outputs using `f\"{var=}\"`."
   ]
  },
  {
   "cell_type": "code",
   "execution_count": null,
   "id": "568b9198",
   "metadata": {},
   "outputs": [],
   "source": [
    "for i, j in permutations(nums, 2):\n",
    "    print(f\"{i=}, {j=}\")"
   ]
  },
  {
   "cell_type": "code",
   "execution_count": null,
   "id": "bc298973",
   "metadata": {},
   "outputs": [],
   "source": [
    "for i in range(3):\n",
    "    print(f\"{i=}\")"
   ]
  },
  {
   "cell_type": "markdown",
   "id": "034100e3",
   "metadata": {},
   "source": [
    "### String find: Find The Index of a Substring in a Python String"
   ]
  },
  {
   "cell_type": "markdown",
   "id": "1889edec",
   "metadata": {},
   "source": [
    "If you want to find the index of a substring in a string, use `find()` method. This method will return the index of the first occurrence of the substring if found and return `-1` otherwise."
   ]
  },
  {
   "cell_type": "code",
   "execution_count": null,
   "id": "3278d877",
   "metadata": {},
   "outputs": [],
   "source": [
    "sentence = \"Today is Saturday\"\n",
    "\n",
    "# Find the index of first occurrence of the substring\n",
    "sentence.find(\"day\")"
   ]
  },
  {
   "cell_type": "code",
   "execution_count": null,
   "id": "bdb428bd",
   "metadata": {},
   "outputs": [],
   "source": [
    "sentence.find(\"nice\")\n",
    "# No substring is found"
   ]
  },
  {
   "cell_type": "markdown",
   "id": "277063f7",
   "metadata": {},
   "source": [
    "You can also provide the starting and stopping position of the search:"
   ]
  },
  {
   "cell_type": "code",
   "execution_count": null,
   "id": "1df49dcc",
   "metadata": {},
   "outputs": [],
   "source": [
    "# Start searching for the substring at index 3\n",
    "sentence.find(\"day\", 3)"
   ]
  },
  {
   "cell_type": "markdown",
   "id": "e3dd5b6a",
   "metadata": {},
   "source": [
    "### re.sub: Replace One String with Another String Using Regular Expression"
   ]
  },
  {
   "cell_type": "markdown",
   "id": "4faf4428",
   "metadata": {},
   "source": [
    "If you want to either replace one string with another string or to change the order of characters in a string, use `re.sub`.\n",
    "\n",
    "`re.sub` allows you to use a regular expression to specify the pattern of the string you want to swap.\n",
    "\n",
    "In the code below, I replace `3/7/2021` with `Sunday` and replace `3/7/2021` with `2021/3/7`."
   ]
  },
  {
   "cell_type": "code",
   "execution_count": null,
   "id": "1babef16",
   "metadata": {},
   "outputs": [],
   "source": [
    "import re\n",
    "\n",
    "text = \"Today is 3/7/2021\"\n",
    "match_pattern = r\"(\\d+)/(\\d+)/(\\d+)\"\n",
    "\n",
    "re.sub(match_pattern, \"Sunday\", text)"
   ]
  },
  {
   "cell_type": "code",
   "execution_count": null,
   "id": "4ae2f9a0",
   "metadata": {},
   "outputs": [],
   "source": [
    "re.sub(match_pattern, r\"\\3-\\1-\\2\", text)"
   ]
  },
  {
   "cell_type": "markdown",
   "id": "caf91d2b",
   "metadata": {},
   "source": [
    "### Split a String by Multiple Characters"
   ]
  },
  {
   "cell_type": "markdown",
   "id": "bfe53f5b",
   "metadata": {},
   "source": [
    "Using `str.split` only allows you to split a string by one character."
   ]
  },
  {
   "cell_type": "code",
   "execution_count": null,
   "id": "2135f508",
   "metadata": {},
   "outputs": [],
   "source": [
    "sent = \"Today-is a nice_day\"\n",
    "\n",
    "sent.split('-')"
   ]
  },
  {
   "cell_type": "markdown",
   "id": "8641fae1",
   "metadata": {},
   "source": [
    "If you want to split a string by multiple characters, use `re.split()`. re uses regrex to split the string."
   ]
  },
  {
   "cell_type": "code",
   "execution_count": null,
   "id": "26ad5e93",
   "metadata": {},
   "outputs": [],
   "source": [
    "import re\n",
    "\n",
    "# split by space, -, or _\n",
    "re.split(\" |-|_\", sent)"
   ]
  },
  {
   "cell_type": "markdown",
   "id": "2063b5d8",
   "metadata": {},
   "source": [
    "### Multiline Strings"
   ]
  },
  {
   "cell_type": "markdown",
   "id": "86280a5c",
   "metadata": {},
   "source": [
    "If your Python string gets very long, you can break it up using parentheses or a backslash."
   ]
  },
  {
   "cell_type": "code",
   "execution_count": null,
   "id": "f11b4067",
   "metadata": {},
   "outputs": [],
   "source": [
    "text = (\n",
    "    \"This is a very \"\n",
    "    \"long sentence \"\n",
    "    \"that is made up.\"\n",
    ")\n",
    "\n",
    "text"
   ]
  },
  {
   "cell_type": "code",
   "execution_count": null,
   "id": "c77d7ed4",
   "metadata": {},
   "outputs": [],
   "source": [
    "text = \"This is a very \"\\\n",
    "    \"long sentence \"\\\n",
    "    \"that is made up.\"\n",
    "\n",
    "text"
   ]
  },
  {
   "cell_type": "markdown",
   "id": "1a454ad7",
   "metadata": {},
   "source": [
    "### difflib.SequenceMatcher: Detect The “Almost Similar” Articles"
   ]
  },
  {
   "cell_type": "markdown",
   "id": "0709770d",
   "metadata": {},
   "source": [
    "When analyzing articles, different articles can be almost similar but not 100% identical, maybe because of the grammar, or because of the change in two or three words (such as cross-posting). How can we detect the “almost similar” articles and drop one of them? That is when `difflib.SequenceMatcher` comes in handy."
   ]
  },
  {
   "cell_type": "code",
   "execution_count": null,
   "id": "ed3d1277",
   "metadata": {},
   "outputs": [],
   "source": [
    "from difflib import SequenceMatcher\n",
    "\n",
    "text1 = 'I am Khuyen'\n",
    "text2 = 'I am Khuen'\n",
    "print(SequenceMatcher(a=text1, b=text2).ratio())"
   ]
  },
  {
   "cell_type": "markdown",
   "id": "4ed17f44",
   "metadata": {},
   "source": [
    "### difflib.get_close_matches:  Get a List of the Best Matches for a Certain Word"
   ]
  },
  {
   "cell_type": "markdown",
   "id": "713a153a",
   "metadata": {},
   "source": [
    "If you want to get a list of the best matches for a certain word, use `difflib.get_close_matches`."
   ]
  },
  {
   "cell_type": "code",
   "execution_count": null,
   "id": "6ea52d1d",
   "metadata": {},
   "outputs": [],
   "source": [
    "from difflib import get_close_matches\n",
    "\n",
    "tools = ['pencil', 'pen', 'erasor', 'ink']\n",
    "get_close_matches('pencel', tools)"
   ]
  },
  {
   "cell_type": "markdown",
   "id": "5e28b2dc",
   "metadata": {},
   "source": [
    "To get closer matches, increase the value of the argument `cutoff` (default 0.6)."
   ]
  },
  {
   "cell_type": "code",
   "execution_count": null,
   "id": "08c64881",
   "metadata": {},
   "outputs": [],
   "source": [
    "get_close_matches('pencel', tools, cutoff=0.8)"
   ]
  }
 ],
 "metadata": {
  "jupytext": {
   "text_representation": {
    "extension": ".md",
    "format_name": "myst",
    "format_version": 0.13,
    "jupytext_version": "1.16.7"
   }
  },
  "kernelspec": {
   "display_name": "Python 3 (ipykernel)",
   "language": "python",
   "name": "python3"
  },
  "source_map": [
   12,
   16,
   20,
   24,
   28,
   32,
   36,
   42,
   48,
   52,
   56,
   59,
   63,
   67,
   71,
   75,
   79,
   83,
   87,
   91,
   98,
   102,
   107,
   110,
   114,
   118,
   125,
   128,
   132,
   135,
   139,
   147,
   156,
   158,
   162,
   166,
   170,
   174,
   179,
   183,
   187,
   197,
   203,
   207,
   211,
   217,
   221,
   225,
   230,
   234
  ]
 },
 "nbformat": 4,
 "nbformat_minor": 5
}