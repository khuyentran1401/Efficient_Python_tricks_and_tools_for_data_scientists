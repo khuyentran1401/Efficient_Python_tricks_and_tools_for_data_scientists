{
 "cells": [
  {
   "cell_type": "markdown",
   "id": "4ce57a62",
   "metadata": {},
   "source": [
    "## String"
   ]
  },
  {
   "cell_type": "markdown",
   "id": "e0d23e6b",
   "metadata": {},
   "source": [
    "### String find: Find The Index of a Substring in a Python String"
   ]
  },
  {
   "cell_type": "markdown",
   "id": "c79d4896",
   "metadata": {},
   "source": [
    "If you want to find the index of a substring in a string, use `find()` method. This method will return the index of the first occurrence of the substring if found and return `-1` otherwise."
   ]
  },
  {
   "cell_type": "code",
   "execution_count": 17,
   "id": "27cde259",
   "metadata": {
    "ExecuteTime": {
     "end_time": "2021-08-29T17:27:48.012042Z",
     "start_time": "2021-08-29T17:27:48.005899Z"
    }
   },
   "outputs": [
    {
     "data": {
      "text/plain": [
       "2"
      ]
     },
     "execution_count": 17,
     "metadata": {},
     "output_type": "execute_result"
    },
    {
     "data": {
      "application/javascript": "\n            setTimeout(function() {\n                var nbb_cell_id = 17;\n                var nbb_unformatted_code = \"sentence = \\\"Today is Saturaday\\\"\\n\\n# Find the index of first occurrence of the substring\\nsentence.find(\\\"day\\\")\";\n                var nbb_formatted_code = \"sentence = \\\"Today is Saturaday\\\"\\n\\n# Find the index of first occurrence of the substring\\nsentence.find(\\\"day\\\")\";\n                var nbb_cells = Jupyter.notebook.get_cells();\n                for (var i = 0; i < nbb_cells.length; ++i) {\n                    if (nbb_cells[i].input_prompt_number == nbb_cell_id) {\n                        if (nbb_cells[i].get_text() == nbb_unformatted_code) {\n                             nbb_cells[i].set_text(nbb_formatted_code);\n                        }\n                        break;\n                    }\n                }\n            }, 500);\n            ",
      "text/plain": [
       "<IPython.core.display.Javascript object>"
      ]
     },
     "metadata": {},
     "output_type": "display_data"
    }
   ],
   "source": [
    "sentence = \"Today is Saturaday\"\n",
    "\n",
    "# Find the index of first occurrence of the substring\n",
    "sentence.find(\"day\")"
   ]
  },
  {
   "cell_type": "code",
   "execution_count": 19,
   "id": "ecc0ce8a",
   "metadata": {
    "ExecuteTime": {
     "end_time": "2021-08-29T17:27:48.479178Z",
     "start_time": "2021-08-29T17:27:48.464515Z"
    }
   },
   "outputs": [
    {
     "data": {
      "text/plain": [
       "-1"
      ]
     },
     "execution_count": 19,
     "metadata": {},
     "output_type": "execute_result"
    },
    {
     "data": {
      "application/javascript": "\n            setTimeout(function() {\n                var nbb_cell_id = 19;\n                var nbb_unformatted_code = \"sentence.find(\\\"nice\\\")\\n# No substring is found\";\n                var nbb_formatted_code = \"sentence.find(\\\"nice\\\")\\n# No substring is found\";\n                var nbb_cells = Jupyter.notebook.get_cells();\n                for (var i = 0; i < nbb_cells.length; ++i) {\n                    if (nbb_cells[i].input_prompt_number == nbb_cell_id) {\n                        if (nbb_cells[i].get_text() == nbb_unformatted_code) {\n                             nbb_cells[i].set_text(nbb_formatted_code);\n                        }\n                        break;\n                    }\n                }\n            }, 500);\n            ",
      "text/plain": [
       "<IPython.core.display.Javascript object>"
      ]
     },
     "metadata": {},
     "output_type": "display_data"
    }
   ],
   "source": [
    "sentence.find(\"nice\")\n",
    "# No substring is found"
   ]
  },
  {
   "cell_type": "markdown",
   "id": "d1ceb331",
   "metadata": {},
   "source": [
    "You can also provide the starting and stopping position of the search:"
   ]
  },
  {
   "cell_type": "code",
   "execution_count": 18,
   "id": "2b216ebb",
   "metadata": {
    "ExecuteTime": {
     "end_time": "2021-08-29T17:27:48.255682Z",
     "start_time": "2021-08-29T17:27:48.240474Z"
    }
   },
   "outputs": [
    {
     "data": {
      "text/plain": [
       "15"
      ]
     },
     "execution_count": 18,
     "metadata": {},
     "output_type": "execute_result"
    },
    {
     "data": {
      "application/javascript": "\n            setTimeout(function() {\n                var nbb_cell_id = 18;\n                var nbb_unformatted_code = \"# Start searching for the substring at index 3\\nsentence.find(\\\"day\\\", 3)\";\n                var nbb_formatted_code = \"# Start searching for the substring at index 3\\nsentence.find(\\\"day\\\", 3)\";\n                var nbb_cells = Jupyter.notebook.get_cells();\n                for (var i = 0; i < nbb_cells.length; ++i) {\n                    if (nbb_cells[i].input_prompt_number == nbb_cell_id) {\n                        if (nbb_cells[i].get_text() == nbb_unformatted_code) {\n                             nbb_cells[i].set_text(nbb_formatted_code);\n                        }\n                        break;\n                    }\n                }\n            }, 500);\n            ",
      "text/plain": [
       "<IPython.core.display.Javascript object>"
      ]
     },
     "metadata": {},
     "output_type": "display_data"
    }
   ],
   "source": [
    "# Start searching for the substring at index 3\n",
    "sentence.find(\"day\", 3)"
   ]
  },
  {
   "cell_type": "markdown",
   "id": "0ac7c28e",
   "metadata": {},
   "source": [
    "### re.sub: Replace One String with Another String Using Regular Expression\t"
   ]
  },
  {
   "cell_type": "markdown",
   "id": "0f12d832",
   "metadata": {},
   "source": [
    "If you want to either replace one string with another string or to change the order of characters in a string, use `re.sub`.\n",
    "\n",
    "`re.sub` allows you to use a regular expression to specify the pattern of the string you want to swap.\n",
    "\n",
    "In the code below, I replace `3/7/2021` with `Sunday` and replace `3/7/2021` with `2021/3/7`."
   ]
  },
  {
   "cell_type": "code",
   "execution_count": 1,
   "id": "188f9beb",
   "metadata": {
    "ExecuteTime": {
     "end_time": "2021-08-29T20:22:42.720336Z",
     "start_time": "2021-08-29T20:22:42.683315Z"
    }
   },
   "outputs": [
    {
     "data": {
      "text/plain": [
       "'Today is Sunday'"
      ]
     },
     "execution_count": 1,
     "metadata": {},
     "output_type": "execute_result"
    }
   ],
   "source": [
    "import re\n",
    "\n",
    "text = \"Today is 3/7/2021\"\n",
    "match_pattern = r\"(\\d+)/(\\d+)/(\\d+)\"\n",
    "\n",
    "re.sub(match_pattern, \"Sunday\", text)"
   ]
  },
  {
   "cell_type": "code",
   "execution_count": 2,
   "id": "3f8735fc",
   "metadata": {
    "ExecuteTime": {
     "end_time": "2021-08-29T20:22:43.817977Z",
     "start_time": "2021-08-29T20:22:43.808490Z"
    },
    "scrolled": false
   },
   "outputs": [
    {
     "data": {
      "text/plain": [
       "'Today is 2021-3-7'"
      ]
     },
     "execution_count": 2,
     "metadata": {},
     "output_type": "execute_result"
    }
   ],
   "source": [
    "re.sub(match_pattern, r\"\\3-\\1-\\2\", text)"
   ]
  },
  {
   "cell_type": "markdown",
   "id": "848c6d68",
   "metadata": {},
   "source": [
    "### difflib.SequenceMatcher: Detect The “Almost Similar” Articles"
   ]
  },
  {
   "cell_type": "markdown",
   "id": "f164d9c8",
   "metadata": {},
   "source": [
    "When analyzing articles, different articles can be almost similar but not 100% identical, maybe because of the grammar, or because of the change in two or three words (such as cross-posting). How can we detect the “almost similar” articles and drop one of them? That is when `difflib.SequenceMatcher` comes in handy. "
   ]
  },
  {
   "cell_type": "code",
   "execution_count": 19,
   "id": "815c7e1e",
   "metadata": {
    "ExecuteTime": {
     "end_time": "2021-09-12T01:15:08.678941Z",
     "start_time": "2021-09-12T01:15:08.670108Z"
    }
   },
   "outputs": [
    {
     "name": "stdout",
     "output_type": "stream",
     "text": [
      "0.9523809523809523\n"
     ]
    }
   ],
   "source": [
    "from difflib import SequenceMatcher\n",
    "\n",
    "text1 = 'I am Khuyen'\n",
    "text2 = 'I am Khuen'\n",
    "print(SequenceMatcher(a=text1, b=text2).ratio())"
   ]
  },
  {
   "cell_type": "markdown",
   "id": "cd1d5ec1",
   "metadata": {},
   "source": [
    "### difflib.get_close_matches:  Get a List of the Best Matches for a Certain Word"
   ]
  },
  {
   "cell_type": "markdown",
   "id": "0cdf76a5",
   "metadata": {},
   "source": [
    "If you want to get a list of the best matches for a certain word, use `difflib.get_close_matches`.  "
   ]
  },
  {
   "cell_type": "code",
   "execution_count": 9,
   "id": "2948e2dc",
   "metadata": {
    "ExecuteTime": {
     "end_time": "2021-09-14T13:38:12.459953Z",
     "start_time": "2021-09-14T13:38:12.451000Z"
    }
   },
   "outputs": [
    {
     "data": {
      "text/plain": [
       "['pencil', 'pen']"
      ]
     },
     "execution_count": 9,
     "metadata": {},
     "output_type": "execute_result"
    }
   ],
   "source": [
    "from difflib import get_close_matches\n",
    "\n",
    "tools = ['pencil', 'pen', 'erasor', 'ink']\n",
    "get_close_matches('pencel', tools)"
   ]
  },
  {
   "cell_type": "markdown",
   "id": "fb3f74a5",
   "metadata": {},
   "source": [
    "To get closer matches, increase the value of the argument `cutoff` (default 0.6). "
   ]
  },
  {
   "cell_type": "code",
   "execution_count": 10,
   "id": "4392d667",
   "metadata": {
    "ExecuteTime": {
     "end_time": "2021-09-14T13:38:12.811319Z",
     "start_time": "2021-09-14T13:38:12.802768Z"
    }
   },
   "outputs": [
    {
     "data": {
      "text/plain": [
       "['pencil']"
      ]
     },
     "execution_count": 10,
     "metadata": {},
     "output_type": "execute_result"
    }
   ],
   "source": [
    "get_close_matches('pencel', tools, cutoff=0.8)"
   ]
  }
 ],
 "metadata": {
  "celltoolbar": "Tags",
  "kernelspec": {
   "display_name": "Python 3 (ipykernel)",
   "language": "python",
   "name": "python3"
  },
  "language_info": {
   "codemirror_mode": {
    "name": "ipython",
    "version": 3
   },
   "file_extension": ".py",
   "mimetype": "text/x-python",
   "name": "python",
   "nbconvert_exporter": "python",
   "pygments_lexer": "ipython3",
   "version": "3.8.10"
  },
  "toc": {
   "base_numbering": 1,
   "nav_menu": {},
   "number_sections": true,
   "sideBar": true,
   "skip_h1_title": false,
   "title_cell": "Table of Contents",
   "title_sidebar": "Contents",
   "toc_cell": false,
   "toc_position": {},
   "toc_section_display": true,
   "toc_window_display": false
  }
 },
 "nbformat": 4,
 "nbformat_minor": 5
}
