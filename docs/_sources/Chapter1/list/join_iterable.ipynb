{
 "cells": [
  {
   "cell_type": "markdown",
   "id": "73b04efb",
   "metadata": {},
   "source": [
    "## Join Iterables"
   ]
  },
  {
   "cell_type": "markdown",
   "id": "dd79e706",
   "metadata": {},
   "source": [
    "![](../../img/join_iterable.png)"
   ]
  },
  {
   "cell_type": "markdown",
   "id": "4a2b27a6",
   "metadata": {},
   "source": [
    "### join method: Turn an Iterable into a Python String"
   ]
  },
  {
   "cell_type": "markdown",
   "id": "1db58e0e",
   "metadata": {},
   "source": [
    "If you want to turn an iterable into a string, use `join()`.\n",
    "\n",
    "In the code below, I join elements in the list `fruits` using “, “."
   ]
  },
  {
   "cell_type": "code",
   "execution_count": 3,
   "id": "07621ccf",
   "metadata": {
    "ExecuteTime": {
     "end_time": "2021-08-29T21:21:42.794002Z",
     "start_time": "2021-08-29T21:21:42.786264Z"
    }
   },
   "outputs": [
    {
     "name": "stdout",
     "output_type": "stream",
     "text": [
      "Today, I need to get some apples, oranges, grapes in the grocery store\n"
     ]
    }
   ],
   "source": [
    "fruits = ['apples', 'oranges', 'grapes']\n",
    "\n",
    "fruits_str = ', '.join(fruits)\n",
    "\n",
    "print(f\"Today, I need to get some {fruits_str} in the grocery store\")"
   ]
  },
  {
   "cell_type": "markdown",
   "id": "4917fe91",
   "metadata": {},
   "source": [
    "### Zip: Associate Elements from Two Iterators based on the Order"
   ]
  },
  {
   "cell_type": "markdown",
   "id": "69b0a96d",
   "metadata": {},
   "source": [
    "If you want to associate elements from two iterators based on the order, combine `list` and `zip`. "
   ]
  },
  {
   "cell_type": "code",
   "execution_count": 1,
   "id": "81f7ad15",
   "metadata": {
    "ExecuteTime": {
     "end_time": "2021-09-11T14:56:38.902282Z",
     "start_time": "2021-09-11T14:56:38.872285Z"
    }
   },
   "outputs": [
    {
     "data": {
      "text/plain": [
       "[(1, 'a'), (2, 'b'), (3, 'c'), (4, 'd')]"
      ]
     },
     "execution_count": 1,
     "metadata": {},
     "output_type": "execute_result"
    }
   ],
   "source": [
    "nums = [1, 2, 3, 4]\n",
    "string = \"abcd\"\n",
    "combinations = list(zip(nums, string))\n",
    "combinations"
   ]
  },
  {
   "cell_type": "markdown",
   "id": "f430f3cf",
   "metadata": {},
   "source": [
    "### Unzip a List of Iterables"
   ]
  },
  {
   "cell_type": "markdown",
   "id": "589eac17",
   "metadata": {},
   "source": [
    "You can turn a list of iterables into 2 separate iterables using `zip(*list)`.\n"
   ]
  },
  {
   "cell_type": "code",
   "execution_count": 1,
   "id": "09a8d7e5",
   "metadata": {
    "ExecuteTime": {
     "end_time": "2022-03-26T13:35:40.104986Z",
     "start_time": "2022-03-26T13:35:40.090566Z"
    }
   },
   "outputs": [],
   "source": [
    "comb = [(1, 'a'), (2, 'b'), (3, 'c'), (4, 'd')]"
   ]
  },
  {
   "cell_type": "code",
   "execution_count": 3,
   "id": "193fb239",
   "metadata": {
    "ExecuteTime": {
     "end_time": "2022-03-26T13:35:52.281614Z",
     "start_time": "2022-03-26T13:35:52.273189Z"
    }
   },
   "outputs": [
    {
     "data": {
      "text/plain": [
       "(1, 2, 3, 4)"
      ]
     },
     "execution_count": 3,
     "metadata": {},
     "output_type": "execute_result"
    }
   ],
   "source": [
    "nums_2, chars_2 = zip(*comb)\n",
    "nums_2"
   ]
  },
  {
   "cell_type": "markdown",
   "id": "eb3af17d",
   "metadata": {},
   "source": [
    "### Difference between list append and list extend"
   ]
  },
  {
   "cell_type": "markdown",
   "id": "3124f295",
   "metadata": {},
   "source": [
    "If you want to add a list to another list, use the `append` method. To add elements of a list to another list, use the `extend` method."
   ]
  },
  {
   "cell_type": "code",
   "execution_count": 19,
   "id": "dbc34797",
   "metadata": {
    "ExecuteTime": {
     "end_time": "2021-08-29T21:51:52.491706Z",
     "start_time": "2021-08-29T21:51:52.483087Z"
    }
   },
   "outputs": [
    {
     "data": {
      "text/plain": [
       "[1, 2, 3, 4, [5, 6]]"
      ]
     },
     "execution_count": 19,
     "metadata": {},
     "output_type": "execute_result"
    }
   ],
   "source": [
    "# Add a list to a list\n",
    "a = [1, 2, 3, 4]\n",
    "a.append([5, 6])\n",
    "a"
   ]
  },
  {
   "cell_type": "code",
   "execution_count": 20,
   "id": "fd376870",
   "metadata": {
    "ExecuteTime": {
     "end_time": "2021-08-29T21:51:59.395984Z",
     "start_time": "2021-08-29T21:51:59.386833Z"
    }
   },
   "outputs": [
    {
     "data": {
      "text/plain": [
       "[1, 2, 3, 4, 5, 6]"
      ]
     },
     "execution_count": 20,
     "metadata": {},
     "output_type": "execute_result"
    }
   ],
   "source": [
    "a = [1, 2, 3, 4]\n",
    "a.extend([5, 6])\n",
    "\n",
    "a"
   ]
  }
 ],
 "metadata": {
  "hide_input": false,
  "kernelspec": {
   "display_name": "Python 3.8.9 ('venv': venv)",
   "language": "python",
   "name": "python3"
  },
  "language_info": {
   "codemirror_mode": {
    "name": "ipython",
    "version": 3
   },
   "file_extension": ".py",
   "mimetype": "text/x-python",
   "name": "python",
   "nbconvert_exporter": "python",
   "pygments_lexer": "ipython3",
   "version": "3.9.6 (default, Oct 18 2022, 12:41:40) \n[Clang 14.0.0 (clang-1400.0.29.202)]"
  },
  "toc": {
   "base_numbering": 1,
   "nav_menu": {},
   "number_sections": true,
   "sideBar": true,
   "skip_h1_title": false,
   "title_cell": "Table of Contents",
   "title_sidebar": "Contents",
   "toc_cell": false,
   "toc_position": {},
   "toc_section_display": true,
   "toc_window_display": false
  },
  "vscode": {
   "interpreter": {
    "hash": "484329849bb907480cd798e750759bc6f1d66c93f9e78e7055aa0a2c2de6b47b"
   }
  }
 },
 "nbformat": 4,
 "nbformat_minor": 5
}
