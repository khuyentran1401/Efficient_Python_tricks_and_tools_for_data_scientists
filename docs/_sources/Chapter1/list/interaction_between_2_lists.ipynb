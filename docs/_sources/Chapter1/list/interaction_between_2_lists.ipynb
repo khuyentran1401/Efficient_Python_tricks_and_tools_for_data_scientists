{
 "cells": [
  {
   "cell_type": "markdown",
   "id": "0462cf71",
   "metadata": {},
   "source": [
    "## Interaction Between 2 Lists"
   ]
  },
  {
   "attachments": {},
   "cell_type": "markdown",
   "id": "cb8604e3",
   "metadata": {},
   "source": [
    "### set.union: Find the Union of Two Sets"
   ]
  },
  {
   "attachments": {},
   "cell_type": "markdown",
   "id": "894e0742",
   "metadata": {},
   "source": [
    "To obtain all unique elements from two lists, convert the lists to sets and then use the `set.union` method to find the union of the two sets."
   ]
  },
  {
   "cell_type": "code",
   "execution_count": 14,
   "id": "dd50830b",
   "metadata": {},
   "outputs": [
    {
     "data": {
      "text/plain": [
       "{'matplotlib', 'numpy', 'pandas', 'statsmodel'}"
      ]
     },
     "execution_count": 14,
     "metadata": {},
     "output_type": "execute_result"
    }
   ],
   "source": [
    "requirement1 = ['pandas', 'numpy', 'statsmodel']\n",
    "requirement2 = ['numpy', 'statsmodel', 'matplotlib']\n",
    "\n",
    "set(requirement1).union(set(requirement2))"
   ]
  },
  {
   "attachments": {},
   "cell_type": "markdown",
   "id": "5440141b",
   "metadata": {},
   "source": [
    "### set.intersection: Find the Intersection Between Two Sets"
   ]
  },
  {
   "attachments": {},
   "cell_type": "markdown",
   "id": "3732c26c",
   "metadata": {},
   "source": [
    "To get the common elements between two lists, convert the lists to sets then use the `set.intersection` method to find the intersection between two sets."
   ]
  },
  {
   "cell_type": "code",
   "execution_count": 18,
   "id": "8f2c26c1",
   "metadata": {
    "ExecuteTime": {
     "end_time": "2021-08-29T21:49:18.232312Z",
     "start_time": "2021-08-29T21:49:18.221761Z"
    }
   },
   "outputs": [
    {
     "data": {
      "text/plain": [
       "['statsmodel', 'numpy']"
      ]
     },
     "execution_count": 18,
     "metadata": {},
     "output_type": "execute_result"
    }
   ],
   "source": [
    "intersection = set(requirement1).intersection(set(requirement2))\n",
    "list(intersection)"
   ]
  },
  {
   "attachments": {},
   "cell_type": "markdown",
   "id": "cd203d91",
   "metadata": {},
   "source": [
    "### Set Difference: Find the Difference Between Two Sets"
   ]
  },
  {
   "attachments": {},
   "cell_type": "markdown",
   "id": "43c22b15",
   "metadata": {},
   "source": [
    "To find the difference between 2 lists, turn those lists into sets then apply the `difference()` method to the sets."
   ]
  },
  {
   "cell_type": "code",
   "execution_count": 16,
   "id": "8ce4ae41",
   "metadata": {
    "ExecuteTime": {
     "end_time": "2021-08-29T21:50:34.938348Z",
     "start_time": "2021-08-29T21:50:34.931376Z"
    }
   },
   "outputs": [
    {
     "name": "stdout",
     "output_type": "stream",
     "text": [
      "['pandas']\n"
     ]
    }
   ],
   "source": [
    "# Find elements in requirement1 but not in requirement2\n",
    "diff = set(requirement1).difference(set(requirement2))\n",
    "print(list(diff)) "
   ]
  },
  {
   "cell_type": "code",
   "execution_count": 17,
   "id": "85ffd48a",
   "metadata": {
    "ExecuteTime": {
     "end_time": "2021-08-29T21:50:39.642041Z",
     "start_time": "2021-08-29T21:50:39.634750Z"
    }
   },
   "outputs": [
    {
     "name": "stdout",
     "output_type": "stream",
     "text": [
      "['matplotlib']\n"
     ]
    }
   ],
   "source": [
    "# Find elements in requirement2 but not in requirement1\n",
    "diff = set(requirement2).difference(set(requirement1))\n",
    "print(list(diff)) "
   ]
  }
 ],
 "metadata": {
  "kernelspec": {
   "display_name": "Python 3 (ipykernel)",
   "language": "python",
   "name": "python3"
  },
  "language_info": {
   "codemirror_mode": {
    "name": "ipython",
    "version": 3
   },
   "file_extension": ".py",
   "mimetype": "text/x-python",
   "name": "python",
   "nbconvert_exporter": "python",
   "pygments_lexer": "ipython3",
   "version": "3.9.6"
  },
  "toc": {
   "base_numbering": 1,
   "nav_menu": {},
   "number_sections": true,
   "sideBar": true,
   "skip_h1_title": false,
   "title_cell": "Table of Contents",
   "title_sidebar": "Contents",
   "toc_cell": false,
   "toc_position": {},
   "toc_section_display": true,
   "toc_window_display": false
  }
 },
 "nbformat": 4,
 "nbformat_minor": 5
}
