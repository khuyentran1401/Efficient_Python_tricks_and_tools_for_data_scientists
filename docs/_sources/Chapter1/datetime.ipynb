{
 "cells": [
  {
   "cell_type": "markdown",
   "id": "ba66acbe",
   "metadata": {},
   "source": [
    "## Datetime"
   ]
  },
  {
   "cell_type": "markdown",
   "id": "0cf3867b",
   "metadata": {},
   "source": [
    "![](../img/datetime.png)"
   ]
  },
  {
   "cell_type": "markdown",
   "id": "ca2a5b42",
   "metadata": {},
   "source": [
    "### datetime + timedelta: Calculate End DateTime Based on Start DateTime and Duration"
   ]
  },
  {
   "cell_type": "markdown",
   "id": "bcf84682",
   "metadata": {},
   "source": [
    "Provided an event starts at a certain time and takes a certain number of minutes to finish, how do you determine when it ends?\n",
    "\n",
    "Taking the sum of `datetime` and `timedelta(minutes)` will do the trick."
   ]
  },
  {
   "cell_type": "code",
   "execution_count": null,
   "id": "f1e4865c",
   "metadata": {},
   "outputs": [],
   "source": [
    "from datetime import date, datetime, timedelta\n",
    "\n",
    "beginning = '2020/01/03 23:59:00'\n",
    "duration_in_minutes = 2500\n",
    "\n",
    "# Find the beginning time\n",
    "beginning = datetime.strptime(beginning, '%Y/%m/%d %H:%M:%S')\n",
    "\n",
    "# Find duration in days\n",
    "days = timedelta(minutes=duration_in_minutes)\n",
    "\n",
    "# Find end time\n",
    "end = beginning + days \n",
    "end"
   ]
  },
  {
   "cell_type": "markdown",
   "id": "59230976",
   "metadata": {},
   "source": [
    "### Use Dates in a Month as the Feature"
   ]
  },
  {
   "cell_type": "markdown",
   "id": "c776702b",
   "metadata": {},
   "source": [
    "Have you ever wanted to use dates in a month as the feature in your time series data? You can find the days in a month by using `calendar.monthrange(year, month)[1]` like below."
   ]
  },
  {
   "cell_type": "code",
   "execution_count": null,
   "id": "3ca68c36",
   "metadata": {},
   "outputs": [],
   "source": [
    "import calendar \n",
    "\n",
    "calendar.monthrange(2020, 11)[1]"
   ]
  },
  {
   "cell_type": "markdown",
   "id": "75f49234",
   "metadata": {},
   "source": [
    "### Use Comparison and Arithmetic Operators on Dates in Python"
   ]
  },
  {
   "cell_type": "markdown",
   "id": "6e2fd990",
   "metadata": {},
   "source": [
    "In Python, you can compare and subtract dates using operators."
   ]
  },
  {
   "cell_type": "code",
   "execution_count": null,
   "id": "5fba4757",
   "metadata": {},
   "outputs": [],
   "source": [
    "from datetime import date \n",
    "\n",
    "date1 = date(2022, 1, 1)\n",
    "date2 = date(2022, 11, 1)\n",
    "\n",
    "if date1 < date2:\n",
    "    diff = date2 - date1 \n",
    "else:\n",
    "    diff = date1 - date2 \n",
    "\n",
    "print(f\"{date1} and {date2} is {diff} apart.\")"
   ]
  }
 ],
 "metadata": {
  "jupytext": {
   "text_representation": {
    "extension": ".md",
    "format_name": "myst",
    "format_version": 0.13,
    "jupytext_version": "1.16.7"
   }
  },
  "kernelspec": {
   "display_name": "Python 3.10.8 64-bit",
   "language": "python",
   "name": "python3"
  },
  "source_map": [
   12,
   16,
   20,
   24,
   30,
   45,
   49,
   53,
   57,
   61,
   66
  ]
 },
 "nbformat": 4,
 "nbformat_minor": 5
}