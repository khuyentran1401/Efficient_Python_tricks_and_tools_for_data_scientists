{
 "cells": [
  {
   "cell_type": "markdown",
   "id": "c5da299f",
   "metadata": {},
   "source": [
    "## Number"
   ]
  },
  {
   "cell_type": "markdown",
   "id": "af8e05cd",
   "metadata": {},
   "source": [
    "![](../img/number.png)"
   ]
  },
  {
   "cell_type": "markdown",
   "id": "55585253",
   "metadata": {},
   "source": [
    "### Perform Floor Division with Double Forward Slash"
   ]
  },
  {
   "cell_type": "markdown",
   "id": "cfc78707",
   "metadata": {},
   "source": [
    "Normally, using `/` will perform a true division"
   ]
  },
  {
   "cell_type": "code",
   "execution_count": null,
   "id": "1cd33fc5",
   "metadata": {},
   "outputs": [],
   "source": [
    "3/2"
   ]
  },
  {
   "cell_type": "markdown",
   "id": "5bdee20a",
   "metadata": {},
   "source": [
    "If you want to perform a floor division, use `//`"
   ]
  },
  {
   "cell_type": "code",
   "execution_count": null,
   "id": "8f0785f2",
   "metadata": {},
   "outputs": [],
   "source": [
    "3//2"
   ]
  },
  {
   "cell_type": "markdown",
   "id": "529ec4e9",
   "metadata": {},
   "source": [
    "### fractions: Get Numerical Results in Fractions Instead of Decimals"
   ]
  },
  {
   "cell_type": "markdown",
   "id": "de99708a",
   "metadata": {},
   "source": [
    "Normally, when you divide a number by another number, you will get a decimal:"
   ]
  },
  {
   "cell_type": "code",
   "execution_count": null,
   "id": "432d880e",
   "metadata": {},
   "outputs": [],
   "source": [
    "2 / 3 + 1"
   ]
  },
  {
   "cell_type": "markdown",
   "id": "dd2f7fa8",
   "metadata": {},
   "source": [
    "Sometimes, you might prefer to get the results in fractions instead of decimals. There is Python built-in function called `fractions` that allows you to do exactly that. The code above shows how it works:"
   ]
  },
  {
   "cell_type": "code",
   "execution_count": null,
   "id": "662441e7",
   "metadata": {},
   "outputs": [],
   "source": [
    "from fractions import Fraction\n",
    "\n",
    "res = Fraction(2 / 3 + 1)\n",
    "print(res)"
   ]
  },
  {
   "cell_type": "markdown",
   "id": "79a8a28d",
   "metadata": {},
   "source": [
    "Cool! We got a fraction instead of a decimal. To limit the number of decimals displayed, use `limit_denominator()`."
   ]
  },
  {
   "cell_type": "code",
   "execution_count": null,
   "id": "2e12ed42",
   "metadata": {},
   "outputs": [],
   "source": [
    "res = res.limit_denominator()\n",
    "print(res)"
   ]
  },
  {
   "cell_type": "markdown",
   "id": "9241ab6a",
   "metadata": {},
   "source": [
    "If we divide the result we got from `Fraction` by another number, we got back a fraction without using the `Fraction` object again."
   ]
  },
  {
   "cell_type": "code",
   "execution_count": null,
   "id": "b4983cc4",
   "metadata": {},
   "outputs": [],
   "source": [
    "print(res / 3)"
   ]
  },
  {
   "cell_type": "markdown",
   "id": "844dc2fd",
   "metadata": {},
   "source": [
    "### Use Underscores to Format Large Numbers in Python"
   ]
  },
  {
   "cell_type": "markdown",
   "id": "b31da379",
   "metadata": {},
   "source": [
    "When working with a large number in Python, it can be difficult to figure out how many digits that number has. Python 3.6 and above allows you to use underscores as visual separators to group digits.\n",
    "\n",
    "In the example below, I use underscores to group decimal numbers by thousands."
   ]
  },
  {
   "cell_type": "code",
   "execution_count": null,
   "id": "edae4cd2",
   "metadata": {},
   "outputs": [],
   "source": [
    "large_num = 1_000_000\n",
    "large_num"
   ]
  },
  {
   "cell_type": "markdown",
   "id": "748deb68",
   "metadata": {},
   "source": [
    "### Confirm Whether a Variable Is a Number"
   ]
  },
  {
   "cell_type": "markdown",
   "id": "b3926c54",
   "metadata": {},
   "source": [
    "If you want to confirm whether a variable is a number without caring whether it is a float or an integer, numbers, use `numbers.Number`."
   ]
  },
  {
   "cell_type": "code",
   "execution_count": null,
   "id": "b58887eb",
   "metadata": {},
   "outputs": [],
   "source": [
    "from numbers import Number\n",
    "\n",
    "a = 2\n",
    "b = 0.4\n",
    "\n",
    "# Check if a is a number\n",
    "isinstance(a, Number)"
   ]
  },
  {
   "cell_type": "code",
   "execution_count": null,
   "id": "851bb8aa",
   "metadata": {},
   "outputs": [],
   "source": [
    "# Check if b is a number\n",
    "isinstance(b, Number)"
   ]
  },
  {
   "cell_type": "markdown",
   "id": "ec47ec32",
   "metadata": {},
   "source": [
    "### Get Multiples of a Number Using Modulus"
   ]
  },
  {
   "cell_type": "markdown",
   "id": "00c4ed4c",
   "metadata": {},
   "source": [
    "If you want to get multiples of a number, use the modulus operator `%`. The modulus operator is used to get the remainder of a division. For example, `4 % 3 = 1`, `5 % 3 = 2`.\n",
    "\n",
    "Thus, to get multiples of `n`, we select only numbers whose remainders are 0 when dividing them by `n`."
   ]
  },
  {
   "cell_type": "code",
   "execution_count": null,
   "id": "6f0718ba",
   "metadata": {},
   "outputs": [],
   "source": [
    "def get_multiples_of_n(nums: list, n: int):\n",
    "    \"\"\"Select only numbers whose remainders\n",
    "    are 0 when dividing them by n\"\"\"\n",
    "    return [num for num in nums if num % n == 0]\n",
    "\n",
    "\n",
    "nums = [1, 4, 9, 12, 15, 16]"
   ]
  },
  {
   "cell_type": "code",
   "execution_count": null,
   "id": "2315ac97",
   "metadata": {},
   "outputs": [],
   "source": [
    "get_multiples_of_n(nums, 2)  # multiples of 2"
   ]
  },
  {
   "cell_type": "code",
   "execution_count": null,
   "id": "ac24eec8",
   "metadata": {},
   "outputs": [],
   "source": [
    "get_multiples_of_n(nums, 3)  # multiples of 3"
   ]
  },
  {
   "cell_type": "code",
   "execution_count": null,
   "id": "ab579e3a",
   "metadata": {},
   "outputs": [],
   "source": [
    "get_multiples_of_n(nums, 4)  # multiples of 4"
   ]
  }
 ],
 "metadata": {
  "jupytext": {
   "text_representation": {
    "extension": ".md",
    "format_name": "myst",
    "format_version": 0.13,
    "jupytext_version": "1.16.7"
   }
  },
  "kernelspec": {
   "display_name": "Python 3.9.13 64-bit",
   "language": "python",
   "name": "python3"
  },
  "source_map": [
   12,
   16,
   20,
   24,
   28,
   30,
   34,
   36,
   40,
   44,
   46,
   50,
   55,
   59,
   62,
   66,
   68,
   72,
   79,
   82,
   86,
   90,
   100,
   103,
   107,
   113,
   123,
   127,
   131
  ]
 },
 "nbformat": 4,
 "nbformat_minor": 5
}