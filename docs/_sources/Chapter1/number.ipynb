{
 "cells": [
  {
   "cell_type": "markdown",
   "id": "70a1e6bf",
   "metadata": {},
   "source": [
    "## Number"
   ]
  },
  {
   "cell_type": "markdown",
   "id": "c71fa489",
   "metadata": {},
   "source": [
    "![](../img/number.png)"
   ]
  },
  {
   "cell_type": "markdown",
   "id": "baf4a483",
   "metadata": {},
   "source": [
    "### Perform Floor Division with Double Forward Slash"
   ]
  },
  {
   "cell_type": "markdown",
   "id": "4bc486c7",
   "metadata": {},
   "source": [
    "Normally, using `/` will perform a true division "
   ]
  },
  {
   "cell_type": "code",
   "execution_count": 3,
   "id": "89b0993b",
   "metadata": {},
   "outputs": [
    {
     "data": {
      "text/plain": [
       "1.5"
      ]
     },
     "execution_count": 3,
     "metadata": {},
     "output_type": "execute_result"
    }
   ],
   "source": [
    "3/2"
   ]
  },
  {
   "cell_type": "markdown",
   "id": "521df186",
   "metadata": {},
   "source": [
    "If you want to perform a floor division, use `//`"
   ]
  },
  {
   "cell_type": "code",
   "execution_count": 2,
   "id": "339c4a91",
   "metadata": {},
   "outputs": [
    {
     "data": {
      "text/plain": [
       "1"
      ]
     },
     "execution_count": 2,
     "metadata": {},
     "output_type": "execute_result"
    }
   ],
   "source": [
    "3//2"
   ]
  },
  {
   "cell_type": "markdown",
   "id": "7ea06b3b",
   "metadata": {},
   "source": [
    "### fractions: Get Numerical Results in Fractions Instead of Decimals"
   ]
  },
  {
   "cell_type": "markdown",
   "id": "aee16694",
   "metadata": {},
   "source": [
    "Normally, when you divide a number by another number, you will get a decimal:"
   ]
  },
  {
   "cell_type": "code",
   "execution_count": 5,
   "id": "10195dce",
   "metadata": {
    "ExecuteTime": {
     "end_time": "2021-08-29T20:41:59.349529Z",
     "start_time": "2021-08-29T20:41:59.340938Z"
    }
   },
   "outputs": [
    {
     "data": {
      "text/plain": [
       "1.6666666666666665"
      ]
     },
     "execution_count": 5,
     "metadata": {},
     "output_type": "execute_result"
    }
   ],
   "source": [
    "2 / 3 + 1"
   ]
  },
  {
   "cell_type": "markdown",
   "id": "c4129671",
   "metadata": {},
   "source": [
    "Sometimes, you might prefer to get the results in fractions instead of decimals. There is Python built-in function called `fractions` that allows you to do exactly that. The code above shows how it works:"
   ]
  },
  {
   "cell_type": "code",
   "execution_count": 6,
   "id": "40c586ee",
   "metadata": {
    "ExecuteTime": {
     "end_time": "2021-08-29T20:41:59.987875Z",
     "start_time": "2021-08-29T20:41:59.976526Z"
    }
   },
   "outputs": [
    {
     "name": "stdout",
     "output_type": "stream",
     "text": [
      "3752999689475413/2251799813685248\n"
     ]
    }
   ],
   "source": [
    "from fractions import Fraction\n",
    "\n",
    "res = Fraction(2 / 3 + 1)\n",
    "print(res)"
   ]
  },
  {
   "cell_type": "markdown",
   "id": "c03cf1b9",
   "metadata": {},
   "source": [
    "Cool! We got a fraction instead of a decimal. To limit the number of decimals displayed, use `limit_denominator()`."
   ]
  },
  {
   "cell_type": "code",
   "execution_count": 7,
   "id": "0ceb88df",
   "metadata": {
    "ExecuteTime": {
     "end_time": "2021-08-29T20:42:05.476338Z",
     "start_time": "2021-08-29T20:42:05.469940Z"
    }
   },
   "outputs": [
    {
     "name": "stdout",
     "output_type": "stream",
     "text": [
      "5/3\n"
     ]
    }
   ],
   "source": [
    "res = res.limit_denominator()\n",
    "print(res)"
   ]
  },
  {
   "cell_type": "markdown",
   "id": "be22b669",
   "metadata": {},
   "source": [
    "If we divide the result we got from `Fraction` by another number, we got back a fraction without using the `Fraction` object again. "
   ]
  },
  {
   "cell_type": "code",
   "execution_count": 8,
   "id": "734dd019",
   "metadata": {
    "ExecuteTime": {
     "end_time": "2021-08-29T20:42:06.160032Z",
     "start_time": "2021-08-29T20:42:06.153930Z"
    }
   },
   "outputs": [
    {
     "name": "stdout",
     "output_type": "stream",
     "text": [
      "5/9\n"
     ]
    }
   ],
   "source": [
    "print(res / 3)"
   ]
  },
  {
   "attachments": {},
   "cell_type": "markdown",
   "id": "5d45641a",
   "metadata": {},
   "source": [
    "### Use Underscores to Format Large Numbers in Python"
   ]
  },
  {
   "cell_type": "markdown",
   "id": "d4f518d3",
   "metadata": {},
   "source": [
    "When working with a large number in Python, it can be difficult to figure out how many digits that number has. Python 3.6 and above allows you to use underscores as visual separators to group digits.\n",
    "\n",
    "In the example below, I use underscores to group decimal numbers by thousands.\n",
    "\n"
   ]
  },
  {
   "cell_type": "code",
   "execution_count": 14,
   "id": "c667626c",
   "metadata": {
    "ExecuteTime": {
     "end_time": "2021-08-29T20:43:52.457197Z",
     "start_time": "2021-08-29T20:43:52.448411Z"
    }
   },
   "outputs": [
    {
     "data": {
      "text/plain": [
       "1000000"
      ]
     },
     "execution_count": 14,
     "metadata": {},
     "output_type": "execute_result"
    }
   ],
   "source": [
    "large_num = 1_000_000\n",
    "large_num"
   ]
  },
  {
   "cell_type": "markdown",
   "id": "4e93433d",
   "metadata": {},
   "source": [
    "### Confirm Whether a Variable Is a Number"
   ]
  },
  {
   "cell_type": "markdown",
   "id": "e60a3153",
   "metadata": {},
   "source": [
    "If you want to confirm whether a variable is a number without caring whether it is a float or an integer, numbers, use `numbers.Number`."
   ]
  },
  {
   "cell_type": "code",
   "execution_count": 15,
   "id": "5ef1b481",
   "metadata": {
    "ExecuteTime": {
     "end_time": "2021-08-29T20:44:38.110717Z",
     "start_time": "2021-08-29T20:44:38.102505Z"
    }
   },
   "outputs": [
    {
     "data": {
      "text/plain": [
       "True"
      ]
     },
     "execution_count": 15,
     "metadata": {},
     "output_type": "execute_result"
    }
   ],
   "source": [
    "from numbers import Number\n",
    "\n",
    "a = 2\n",
    "b = 0.4\n",
    "\n",
    "# Check if a is a number\n",
    "isinstance(a, Number)"
   ]
  },
  {
   "cell_type": "code",
   "execution_count": 16,
   "id": "87d95b0c",
   "metadata": {
    "ExecuteTime": {
     "end_time": "2021-08-29T20:44:38.444794Z",
     "start_time": "2021-08-29T20:44:38.436619Z"
    }
   },
   "outputs": [
    {
     "data": {
      "text/plain": [
       "True"
      ]
     },
     "execution_count": 16,
     "metadata": {},
     "output_type": "execute_result"
    }
   ],
   "source": [
    "# Check if b is a number\n",
    "isinstance(b, Number)"
   ]
  },
  {
   "cell_type": "markdown",
   "id": "26ee32db",
   "metadata": {},
   "source": [
    "### Get Multiples of a Number Using Modulus"
   ]
  },
  {
   "cell_type": "markdown",
   "id": "0142f3b7",
   "metadata": {},
   "source": [
    "If you want to get multiples of a number, use the modulus operator `%`. The modulus operator is used to get the remainder of a division. For example, `4 % 3 = 1`, `5 % 3 = 2`.\n",
    "\n",
    "Thus, to get multiples of `n`, we select only numbers whose remainders are 0 when dividing them by `n`. "
   ]
  },
  {
   "cell_type": "code",
   "execution_count": 10,
   "id": "fe6ef980",
   "metadata": {
    "ExecuteTime": {
     "end_time": "2021-08-29T20:42:58.658779Z",
     "start_time": "2021-08-29T20:42:58.652396Z"
    }
   },
   "outputs": [],
   "source": [
    "def get_multiples_of_n(nums: list, n: int):\n",
    "    \"\"\"Select only numbers whose remainders\n",
    "    are 0 when dividing them by n\"\"\"\n",
    "    return [num for num in nums if num % n == 0]\n",
    "\n",
    "\n",
    "nums = [1, 4, 9, 12, 15, 16]"
   ]
  },
  {
   "cell_type": "code",
   "execution_count": 11,
   "id": "072b19a8",
   "metadata": {
    "ExecuteTime": {
     "end_time": "2021-08-29T20:42:58.969756Z",
     "start_time": "2021-08-29T20:42:58.961722Z"
    }
   },
   "outputs": [
    {
     "data": {
      "text/plain": [
       "[4, 12, 16]"
      ]
     },
     "execution_count": 11,
     "metadata": {},
     "output_type": "execute_result"
    }
   ],
   "source": [
    "get_multiples_of_n(nums, 2)  # multiples of 2"
   ]
  },
  {
   "cell_type": "code",
   "execution_count": 12,
   "id": "77fc1409",
   "metadata": {
    "ExecuteTime": {
     "end_time": "2021-08-29T20:42:59.219461Z",
     "start_time": "2021-08-29T20:42:59.210866Z"
    }
   },
   "outputs": [
    {
     "data": {
      "text/plain": [
       "[9, 12, 15]"
      ]
     },
     "execution_count": 12,
     "metadata": {},
     "output_type": "execute_result"
    }
   ],
   "source": [
    "get_multiples_of_n(nums, 3)  # multiples of 3"
   ]
  },
  {
   "cell_type": "code",
   "execution_count": 13,
   "id": "34c89e07",
   "metadata": {
    "ExecuteTime": {
     "end_time": "2021-08-29T20:42:59.625948Z",
     "start_time": "2021-08-29T20:42:59.618751Z"
    }
   },
   "outputs": [
    {
     "data": {
      "text/plain": [
       "[4, 12, 16]"
      ]
     },
     "execution_count": 13,
     "metadata": {},
     "output_type": "execute_result"
    }
   ],
   "source": [
    "get_multiples_of_n(nums, 4)  # multiples of 4"
   ]
  }
 ],
 "metadata": {
  "kernelspec": {
   "display_name": "Python 3.9.13 64-bit",
   "language": "python",
   "name": "python3"
  },
  "language_info": {
   "codemirror_mode": {
    "name": "ipython",
    "version": 3
   },
   "file_extension": ".py",
   "mimetype": "text/x-python",
   "name": "python",
   "nbconvert_exporter": "python",
   "pygments_lexer": "ipython3",
   "version": "3.9.13"
  },
  "toc": {
   "base_numbering": 1,
   "nav_menu": {},
   "number_sections": true,
   "sideBar": true,
   "skip_h1_title": false,
   "title_cell": "Table of Contents",
   "title_sidebar": "Contents",
   "toc_cell": false,
   "toc_position": {},
   "toc_section_display": true,
   "toc_window_display": false
  },
  "vscode": {
   "interpreter": {
    "hash": "b0fa6594d8f4cbf19f97940f81e996739fb7646882a419484c72d19e05852a7e"
   }
  }
 },
 "nbformat": 4,
 "nbformat_minor": 5
}
