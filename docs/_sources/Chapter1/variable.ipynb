{
 "cells": [
  {
   "cell_type": "markdown",
   "id": "308ce306",
   "metadata": {},
   "source": [
    "## Variable"
   ]
  },
  {
   "cell_type": "markdown",
   "id": "6b7ebb5d",
   "metadata": {},
   "source": [
    "### Walrus Operator: Assign a Variable in an Expression"
   ]
  },
  {
   "cell_type": "markdown",
   "id": "5910a691",
   "metadata": {},
   "source": [
    "The walrus operator (`:=`) in Python 3.8 and above allows you to assign a variable in an expression. The walrus operator is useful when you want to:\n",
    "- debug the components in an expression\n",
    "- avoid repeated computations\n",
    "\n",
    "In the code below, I use the walrus operator to assign a value to `r` when getting the circumference of a circle, which is then used to find the area of the circle. "
   ]
  },
  {
   "cell_type": "code",
   "execution_count": null,
   "id": "9e84874e",
   "metadata": {},
   "outputs": [],
   "source": [
    "from math import pi\n",
    "\n",
    "d = 4"
   ]
  },
  {
   "cell_type": "code",
   "execution_count": 13,
   "id": "c578099b",
   "metadata": {},
   "outputs": [],
   "source": [
    "# without Walrus operator\n",
    "circumference = (d / 2) * 2 * pi\n",
    "area = (d / 2) * pi**2 # d/2 is computed twice"
   ]
  }
 ],
 "metadata": {
  "hide_input": false,
  "kernelspec": {
   "display_name": "Python 3",
   "language": "python",
   "name": "python3"
  },
  "language_info": {
   "codemirror_mode": {
    "name": "ipython",
    "version": 3
   },
   "file_extension": ".py",
   "mimetype": "text/x-python",
   "name": "python",
   "nbconvert_exporter": "python",
   "pygments_lexer": "ipython3",
   "version": "3.11.0 (main, Oct 25 2022, 13:57:33) [Clang 14.0.0 (clang-1400.0.29.202)]"
  },
  "toc": {
   "base_numbering": 1,
   "nav_menu": {},
   "number_sections": true,
   "sideBar": true,
   "skip_h1_title": false,
   "title_cell": "Table of Contents",
   "title_sidebar": "Contents",
   "toc_cell": false,
   "toc_position": {},
   "toc_section_display": true,
   "toc_window_display": false
  },
  "vscode": {
   "interpreter": {
    "hash": "5c7b89af1651d0b8571dde13640ecdccf7d5a6204171d6ab33e7c296e100e08a"
   }
  }
 },
 "nbformat": 4,
 "nbformat_minor": 5
}
