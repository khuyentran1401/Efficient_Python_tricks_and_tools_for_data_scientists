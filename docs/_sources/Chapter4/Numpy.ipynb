{
 "cells": [
  {
   "cell_type": "markdown",
   "id": "db01f47d",
   "metadata": {},
   "source": [
    "## NumPy"
   ]
  },
  {
   "cell_type": "markdown",
   "id": "e0891ad5",
   "metadata": {},
   "source": [
    "### numpy.ravel: Flatten a NumPy Array"
   ]
  },
  {
   "cell_type": "markdown",
   "id": "3fc33059",
   "metadata": {},
   "source": [
    "If you want to get a 1-D array of a multi-dimensional array, try `numpy.ravel(arr)`. You can either read the elements in the same row first or read the elements in the same column first."
   ]
  },
  {
   "cell_type": "code",
   "execution_count": null,
   "id": "0de98275",
   "metadata": {},
   "outputs": [],
   "source": [
    "import numpy as np\n",
    "\n",
    "arr = np.array([[1, 2], [3, 4]])\n",
    "arr"
   ]
  },
  {
   "cell_type": "code",
   "execution_count": null,
   "id": "6d333f4d",
   "metadata": {},
   "outputs": [],
   "source": [
    "np.ravel(arr)"
   ]
  },
  {
   "cell_type": "code",
   "execution_count": null,
   "id": "ef393081",
   "metadata": {},
   "outputs": [],
   "source": [
    "np.ravel(arr, order=\"F\")"
   ]
  },
  {
   "cell_type": "markdown",
   "id": "b1d2da7f",
   "metadata": {},
   "source": [
    "### np.squeeze: Remove Axes of Length One From an Array"
   ]
  },
  {
   "cell_type": "markdown",
   "id": "ad030b64",
   "metadata": {},
   "source": [
    "If one or more of your axes are of length one, you can remove those axes using `np.squeeze`."
   ]
  },
  {
   "cell_type": "code",
   "execution_count": null,
   "id": "6dd8ef1b",
   "metadata": {},
   "outputs": [],
   "source": [
    "import numpy as np\n",
    "\n",
    "arr = np.array([[[1], [2]], [[3], [4]]])\n",
    "arr"
   ]
  },
  {
   "cell_type": "code",
   "execution_count": null,
   "id": "cf97a83c",
   "metadata": {},
   "outputs": [],
   "source": [
    "arr.shape "
   ]
  },
  {
   "cell_type": "code",
   "execution_count": null,
   "id": "b0527ddc",
   "metadata": {},
   "outputs": [],
   "source": [
    "new_arr = np.squeeze(arr)\n",
    "new_arr"
   ]
  },
  {
   "cell_type": "code",
   "execution_count": null,
   "id": "222500b7",
   "metadata": {},
   "outputs": [],
   "source": [
    "new_arr.shape "
   ]
  },
  {
   "cell_type": "markdown",
   "id": "906163d2",
   "metadata": {},
   "source": [
    "### NumPy.take: Take Elements From an Array"
   ]
  },
  {
   "cell_type": "markdown",
   "id": "ae423fe3",
   "metadata": {},
   "source": [
    "If you want to take elements from an array at specific indices, use `numpy.take`."
   ]
  },
  {
   "cell_type": "code",
   "execution_count": null,
   "id": "c1cad9b0",
   "metadata": {},
   "outputs": [],
   "source": [
    "import numpy as np \n",
    "\n",
    "arr = [3, 4, 1, 4, 5]\n",
    "indices = [1, 3, 4]\n",
    "\n",
    "# Get elements at indices 1, 3, and 4\n",
    "np.take(arr, indices)"
   ]
  },
  {
   "cell_type": "markdown",
   "id": "d1a2e159",
   "metadata": {},
   "source": [
    "### Use List to Change the Positions of Rows or Columns in a NumPy Array"
   ]
  },
  {
   "cell_type": "markdown",
   "id": "dd35ffb1",
   "metadata": {},
   "source": [
    "If you want to change the positions of rows or columns in a NumPy array, simply use a list to specify the new positions as shown below."
   ]
  },
  {
   "cell_type": "code",
   "execution_count": null,
   "id": "429570df",
   "metadata": {},
   "outputs": [],
   "source": [
    "arr = np.array([[1, 2, 3], [4, 5, 6], [7, 8, 9]])\n",
    "arr"
   ]
  },
  {
   "cell_type": "code",
   "execution_count": null,
   "id": "5a95564a",
   "metadata": {},
   "outputs": [],
   "source": [
    "new_row_position = [1, 2, 0]\n",
    "new_arr = arr[new_row_position, :]\n",
    "new_arr"
   ]
  },
  {
   "cell_type": "markdown",
   "id": "d2ce2bc8",
   "metadata": {},
   "source": [
    "### Difference Between NumPy’s All and Any Methods"
   ]
  },
  {
   "cell_type": "markdown",
   "id": "a8ccd50a",
   "metadata": {},
   "source": [
    "If you want to get the row whose ALL values satisfy a certain condition, use NumPy’s `all` method."
   ]
  },
  {
   "cell_type": "code",
   "execution_count": null,
   "id": "2139943d",
   "metadata": {},
   "outputs": [],
   "source": [
    "a = np.array([[1, 2, 1], [2, 2, 5]])\n",
    "\n",
    "# get the rows whose all values are fewer than 3\n",
    "mask_all = (a < 3).all(axis=1)\n",
    "a[mask_all]"
   ]
  },
  {
   "cell_type": "markdown",
   "id": "94e833be",
   "metadata": {},
   "source": [
    "To get the row whose AT LEAST one value satisfies a certain condition, use NumPy’s `any` method."
   ]
  },
  {
   "cell_type": "code",
   "execution_count": null,
   "id": "b4c038c7",
   "metadata": {},
   "outputs": [],
   "source": [
    "mask_any = (a < 3).any(axis=1)\n",
    "a[mask_any]"
   ]
  },
  {
   "cell_type": "markdown",
   "id": "2e686aba",
   "metadata": {},
   "source": [
    "### Double numpy.argsort: Get Rank of Values in an Array"
   ]
  },
  {
   "cell_type": "markdown",
   "id": "45c8b83b",
   "metadata": {},
   "source": [
    "If you want to get the index of the sorted list for the original list, apply `numpy.argsort()` twice."
   ]
  },
  {
   "cell_type": "code",
   "execution_count": null,
   "id": "4fbe08d6",
   "metadata": {},
   "outputs": [],
   "source": [
    "a = np.array([2, 1, 4, 7, 3])\n",
    "\n",
    "# Get rank of values in an array\n",
    "a.argsort().argsort()"
   ]
  },
  {
   "cell_type": "markdown",
   "id": "9344fb8a",
   "metadata": {},
   "source": [
    "In the example above, 1 is the smallest value so it is indexed 0. 2 is the second-largest value to it is indexed 1."
   ]
  },
  {
   "cell_type": "markdown",
   "id": "71f7c53c",
   "metadata": {},
   "source": [
    "### Get the Index of the Max Value in a NumPy Array"
   ]
  },
  {
   "cell_type": "markdown",
   "id": "24149703",
   "metadata": {},
   "source": [
    "To get the index of the max value in a NumPy array, use `np.argmax`. This can be helpful to get the highest probability in an array of probabilities."
   ]
  },
  {
   "cell_type": "code",
   "execution_count": null,
   "id": "edc891ae",
   "metadata": {},
   "outputs": [],
   "source": [
    "a = np.array([0.2, 0.4, 0.7, 0.3])\n",
    "np.argmax(a)"
   ]
  },
  {
   "cell_type": "markdown",
   "id": "b8b0f948",
   "metadata": {},
   "source": [
    "### np.where: Replace Elements of a NumPy Array Based on a Condition"
   ]
  },
  {
   "cell_type": "markdown",
   "id": "55ae27ca",
   "metadata": {},
   "source": [
    "If you want to replace elements of a NumPy array based on a condition, use `numpy.where`."
   ]
  },
  {
   "cell_type": "code",
   "execution_count": null,
   "id": "a0f67786",
   "metadata": {},
   "outputs": [],
   "source": [
    "arr = np.array([[1, 4, 10, 15], [2, 3, 8, 9]])\n",
    "\n",
    "# Multiply values that are less than 5 by 2\n",
    "np.where(arr < 5, arr * 2, arr)"
   ]
  },
  {
   "cell_type": "markdown",
   "id": "97df7c49",
   "metadata": {},
   "source": [
    "### array-to-latex: Turn a NumPy Array into Latex"
   ]
  },
  {
   "cell_type": "code",
   "execution_count": null,
   "id": "704b4bf0",
   "metadata": {
    "tags": [
     "hide-cell"
    ]
   },
   "outputs": [],
   "source": [
    "!pip install array-to-latex"
   ]
  },
  {
   "cell_type": "markdown",
   "id": "984daea3",
   "metadata": {},
   "source": [
    "Sometimes you might want to use latex to write math. You can turn a NumPy array into latex using array-to-latex."
   ]
  },
  {
   "cell_type": "code",
   "execution_count": null,
   "id": "315bd16b",
   "metadata": {},
   "outputs": [],
   "source": [
    "import array_to_latex as a2l\n",
    "\n",
    "a = np.array([[1, 2, 3], [4, 5, 6]])\n",
    "latex = a2l.to_ltx(a)\n",
    "latex"
   ]
  },
  {
   "cell_type": "markdown",
   "id": "4974add6",
   "metadata": {},
   "source": [
    "I copied and pasted the output of array-to-latex to the Markdown cell of Jupyter Notebook, and below is the output."
   ]
  },
  {
   "cell_type": "markdown",
   "id": "34782eea",
   "metadata": {},
   "source": [
    "\\begin{bmatrix}\n",
    "  1.00 &  2.00 &  3.00\\\\\n",
    "  4.00 &  5.00 &  6.00\n",
    "\\end{bmatrix}"
   ]
  },
  {
   "cell_type": "markdown",
   "id": "bcf25557",
   "metadata": {},
   "source": [
    "[Link to array-to-latex](https://github.com/josephcslater/array_to_latex/)."
   ]
  },
  {
   "cell_type": "markdown",
   "id": "3430df8d",
   "metadata": {},
   "source": [
    "### NumPy Comparison Operators"
   ]
  },
  {
   "cell_type": "markdown",
   "id": "89cfd39f",
   "metadata": {},
   "source": [
    "If you want to get elements of a NumPy array that are greater, smaller, or equal to a value or an array, simply use comparison operators such as `<`, `<=`, `>`, `>=`, `==`."
   ]
  },
  {
   "cell_type": "code",
   "execution_count": null,
   "id": "69fe64f7",
   "metadata": {},
   "outputs": [],
   "source": [
    "a = np.array([1, 2, 3])\n",
    "b = np.array([4, 1, 2])\n",
    "\n",
    "a < 2"
   ]
  },
  {
   "cell_type": "code",
   "execution_count": null,
   "id": "ad23953c",
   "metadata": {},
   "outputs": [],
   "source": [
    "a < b"
   ]
  },
  {
   "cell_type": "code",
   "execution_count": null,
   "id": "cf3174ea",
   "metadata": {},
   "outputs": [],
   "source": [
    "a[a < b]"
   ]
  },
  {
   "cell_type": "markdown",
   "id": "74ee5e7a",
   "metadata": {},
   "source": [
    "### NumPy.linspace: Get Evenly Spaced Numbers Over a Specific Interval"
   ]
  },
  {
   "cell_type": "markdown",
   "id": "c25586b1",
   "metadata": {},
   "source": [
    "If you want to get evenly spaced numbers over a specific interval, use `numpy.linspace(start, stop, num)`. The code below shows a use case of the `numpy.linspace` method."
   ]
  },
  {
   "cell_type": "code",
   "execution_count": null,
   "id": "fda802ca",
   "metadata": {},
   "outputs": [],
   "source": [
    "import matplotlib.pyplot as plt\n",
    "\n",
    "x = np.linspace(2, 4, num=10)\n",
    "x"
   ]
  },
  {
   "cell_type": "code",
   "execution_count": null,
   "id": "527cad59",
   "metadata": {},
   "outputs": [],
   "source": [
    "y = np.arange(10)\n",
    "\n",
    "plt.plot(x, y)\n",
    "plt.show()"
   ]
  },
  {
   "cell_type": "markdown",
   "id": "f3b22a8d",
   "metadata": {},
   "source": [
    "### Check if Two NumPy Arrays Are Equal"
   ]
  },
  {
   "cell_type": "markdown",
   "id": "28327412",
   "metadata": {},
   "source": [
    "If you try to check whether two arrays are equal, using an assert statement will give you an error."
   ]
  },
  {
   "cell_type": "code",
   "execution_count": null,
   "id": "579fa08d",
   "metadata": {},
   "outputs": [],
   "source": [
    "import numpy as np\n",
    "from numpy.testing import assert_array_equal\n",
    "\n",
    "arr1 = np.array([1, 2, 3])\n",
    "arr2 = np.array([1, 2, 4])\n",
    "assert arr1 == arr2"
   ]
  },
  {
   "cell_type": "markdown",
   "id": "779a00c3",
   "metadata": {},
   "source": [
    "Use `assert_array_equal` instead. `assert_array_equal` also shows you which elements are different between two arrays."
   ]
  },
  {
   "cell_type": "code",
   "execution_count": null,
   "id": "c1af0b65",
   "metadata": {},
   "outputs": [],
   "source": [
    "assert_array_equal(arr1, arr2)"
   ]
  },
  {
   "cell_type": "markdown",
   "id": "db471f53",
   "metadata": {},
   "source": [
    "### NumPy.testing.assert_almost_equal: Check if Two Arrays Are Equal up to a Certain Precision"
   ]
  },
  {
   "cell_type": "markdown",
   "id": "f4cd6526",
   "metadata": {},
   "source": [
    "Sometimes, you might only want to check if two arrays are equal up to a certain precision. If so, use `numpy.testing.assert_almost_equal`."
   ]
  },
  {
   "cell_type": "code",
   "execution_count": null,
   "id": "87871a32",
   "metadata": {},
   "outputs": [],
   "source": [
    "import numpy as np \n",
    "from numpy.testing import assert_almost_equal\n",
    "\n",
    "a = np.array([[1.222, 2.222], [3.222, 4.222]])\n",
    "test = np.array([[1.221, 2.221], [3.221, 4.221]])\n",
    "assert_almost_equal(a, test, decimal=2)"
   ]
  }
 ],
 "metadata": {
  "jupytext": {
   "text_representation": {
    "extension": ".md",
    "format_name": "myst",
    "format_version": 0.13,
    "jupytext_version": "1.16.7"
   }
  },
  "kernelspec": {
   "display_name": "Python 3.8.9 ('venv': venv)",
   "language": "python",
   "name": "python3"
  },
  "source_map": [
   12,
   16,
   20,
   24,
   31,
   35,
   37,
   41,
   45,
   52,
   56,
   61,
   63,
   67,
   71,
   79,
   83,
   88,
   93,
   97,
   101,
   105,
   111,
   115,
   118,
   122,
   126,
   131,
   135,
   139,
   143,
   146,
   150,
   154,
   159,
   163,
   167,
   171,
   177,
   181,
   188,
   192,
   196,
   200,
   207,
   211,
   213,
   217,
   222,
   229,
   234,
   238,
   242,
   249,
   253,
   255,
   259,
   263
  ]
 },
 "nbformat": 4,
 "nbformat_minor": 5
}