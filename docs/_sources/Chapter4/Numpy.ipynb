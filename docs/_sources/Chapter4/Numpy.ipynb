{
 "cells": [
  {
   "cell_type": "markdown",
   "id": "b7b400c1",
   "metadata": {},
   "source": [
    "## NumPy"
   ]
  },
  {
   "cell_type": "markdown",
   "id": "e8d5a34e",
   "metadata": {},
   "source": [
    "### numpy.ravel: Flatten a NumPy Array\n"
   ]
  },
  {
   "cell_type": "markdown",
   "id": "3da41f64",
   "metadata": {},
   "source": [
    "If you want to get a 1-D array of a multi-dimensional array, try `numpy.ravel(arr)`. You can either read the elements in the same row first or read the elements in the same column first."
   ]
  },
  {
   "cell_type": "code",
   "execution_count": 8,
   "id": "dd30c059",
   "metadata": {
    "ExecuteTime": {
     "end_time": "2021-10-12T13:34:57.455168Z",
     "start_time": "2021-10-12T13:34:57.445201Z"
    }
   },
   "outputs": [
    {
     "data": {
      "text/plain": [
       "array([[1, 2],\n",
       "       [3, 4]])"
      ]
     },
     "execution_count": 8,
     "metadata": {},
     "output_type": "execute_result"
    }
   ],
   "source": [
    "import numpy as np\n",
    "\n",
    "arr = np.array([[1, 2], [3, 4]])\n",
    "arr"
   ]
  },
  {
   "cell_type": "code",
   "execution_count": 9,
   "id": "3c04fd58",
   "metadata": {
    "ExecuteTime": {
     "end_time": "2021-10-12T13:34:57.999540Z",
     "start_time": "2021-10-12T13:34:57.990682Z"
    }
   },
   "outputs": [
    {
     "data": {
      "text/plain": [
       "array([1, 2, 3, 4])"
      ]
     },
     "execution_count": 9,
     "metadata": {},
     "output_type": "execute_result"
    }
   ],
   "source": [
    "np.ravel(arr)"
   ]
  },
  {
   "cell_type": "code",
   "execution_count": 10,
   "id": "a952878d",
   "metadata": {
    "ExecuteTime": {
     "end_time": "2021-10-12T13:34:59.015057Z",
     "start_time": "2021-10-12T13:34:59.005669Z"
    }
   },
   "outputs": [
    {
     "data": {
      "text/plain": [
       "array([1, 3, 2, 4])"
      ]
     },
     "execution_count": 10,
     "metadata": {},
     "output_type": "execute_result"
    }
   ],
   "source": [
    "np.ravel(arr, order=\"F\")"
   ]
  },
  {
   "cell_type": "markdown",
   "id": "42441550",
   "metadata": {},
   "source": [
    "### np.squeeze: Remove Axes of Length One From an Array"
   ]
  },
  {
   "cell_type": "markdown",
   "id": "66a18716",
   "metadata": {},
   "source": [
    "If one or more of your axes are of length one, you can remove those axes using `np.squeeze`."
   ]
  },
  {
   "cell_type": "code",
   "execution_count": 23,
   "id": "775fbb9d",
   "metadata": {
    "ExecuteTime": {
     "end_time": "2021-10-12T13:37:06.750235Z",
     "start_time": "2021-10-12T13:37:06.737243Z"
    }
   },
   "outputs": [
    {
     "data": {
      "text/plain": [
       "array([[[1],\n",
       "        [2]],\n",
       "\n",
       "       [[3],\n",
       "        [4]]])"
      ]
     },
     "execution_count": 23,
     "metadata": {},
     "output_type": "execute_result"
    }
   ],
   "source": [
    "import numpy as np\n",
    "\n",
    "arr = np.array([[[1], [2]], [[3], [4]]])\n",
    "arr"
   ]
  },
  {
   "cell_type": "code",
   "execution_count": 24,
   "id": "177c1fe6",
   "metadata": {
    "ExecuteTime": {
     "end_time": "2021-10-12T13:37:12.289791Z",
     "start_time": "2021-10-12T13:37:12.280522Z"
    }
   },
   "outputs": [
    {
     "data": {
      "text/plain": [
       "(2, 2, 1)"
      ]
     },
     "execution_count": 24,
     "metadata": {},
     "output_type": "execute_result"
    }
   ],
   "source": [
    "arr.shape "
   ]
  },
  {
   "cell_type": "code",
   "execution_count": 21,
   "id": "23bf39ef",
   "metadata": {
    "ExecuteTime": {
     "end_time": "2021-10-12T13:36:55.474851Z",
     "start_time": "2021-10-12T13:36:55.464763Z"
    }
   },
   "outputs": [
    {
     "data": {
      "text/plain": [
       "array([[1, 2],\n",
       "       [3, 4]])"
      ]
     },
     "execution_count": 21,
     "metadata": {},
     "output_type": "execute_result"
    }
   ],
   "source": [
    "new_arr = np.squeeze(arr)\n",
    "new_arr"
   ]
  },
  {
   "cell_type": "code",
   "execution_count": 22,
   "id": "5270eb43",
   "metadata": {
    "ExecuteTime": {
     "end_time": "2021-10-12T13:37:01.539485Z",
     "start_time": "2021-10-12T13:37:01.531267Z"
    }
   },
   "outputs": [
    {
     "data": {
      "text/plain": [
       "(2, 2)"
      ]
     },
     "execution_count": 22,
     "metadata": {},
     "output_type": "execute_result"
    }
   ],
   "source": [
    "new_arr.shape "
   ]
  },
  {
   "cell_type": "markdown",
   "id": "b0906cf0",
   "metadata": {},
   "source": [
    "### NumPy.take: Take Elements From an Array "
   ]
  },
  {
   "cell_type": "markdown",
   "id": "2434b1f6",
   "metadata": {},
   "source": [
    "If you want to take elements from an array at specific indices, use `numpy.take`.  "
   ]
  },
  {
   "cell_type": "code",
   "execution_count": 3,
   "id": "7d963963",
   "metadata": {},
   "outputs": [
    {
     "data": {
      "text/plain": [
       "array([4, 4, 5])"
      ]
     },
     "execution_count": 3,
     "metadata": {},
     "output_type": "execute_result"
    }
   ],
   "source": [
    "import numpy as np \n",
    "\n",
    "arr = [3, 4, 1, 4, 5]\n",
    "indices = [1, 3, 4]\n",
    "\n",
    "# Get elements at indices 1, 3, and 4\n",
    "np.take(arr, indices)"
   ]
  },
  {
   "cell_type": "markdown",
   "id": "659c2291",
   "metadata": {},
   "source": [
    "### Use List to Change the Positions of Rows or Columns in a NumPy Array"
   ]
  },
  {
   "cell_type": "markdown",
   "id": "37748f7e",
   "metadata": {},
   "source": [
    "If you want to change the positions of rows or columns in a NumPy array, simply use a list to specify the new positions as shown below.\n",
    "\n"
   ]
  },
  {
   "cell_type": "code",
   "execution_count": 4,
   "id": "3643d42f",
   "metadata": {
    "ExecuteTime": {
     "end_time": "2021-10-12T13:33:41.714682Z",
     "start_time": "2021-10-12T13:33:41.704906Z"
    }
   },
   "outputs": [
    {
     "data": {
      "text/plain": [
       "array([[1, 2, 3],\n",
       "       [4, 5, 6],\n",
       "       [7, 8, 9]])"
      ]
     },
     "execution_count": 4,
     "metadata": {},
     "output_type": "execute_result"
    }
   ],
   "source": [
    "arr = np.array([[1, 2, 3], [4, 5, 6], [7, 8, 9]])\n",
    "arr"
   ]
  },
  {
   "cell_type": "code",
   "execution_count": 5,
   "id": "532fd9f6",
   "metadata": {
    "ExecuteTime": {
     "end_time": "2021-10-12T13:33:42.951891Z",
     "start_time": "2021-10-12T13:33:42.942691Z"
    }
   },
   "outputs": [
    {
     "data": {
      "text/plain": [
       "array([[4, 5, 6],\n",
       "       [7, 8, 9],\n",
       "       [1, 2, 3]])"
      ]
     },
     "execution_count": 5,
     "metadata": {},
     "output_type": "execute_result"
    }
   ],
   "source": [
    "new_row_position = [1, 2, 0]\n",
    "new_arr = arr[new_row_position, :]\n",
    "new_arr"
   ]
  },
  {
   "cell_type": "markdown",
   "id": "8dbe248b",
   "metadata": {},
   "source": [
    "### Difference Between NumPy’s All and Any Methods"
   ]
  },
  {
   "cell_type": "markdown",
   "id": "edf0c8c0",
   "metadata": {
    "ExecuteTime": {
     "end_time": "2021-09-11T16:44:03.951830Z",
     "start_time": "2021-09-11T16:44:03.937399Z"
    }
   },
   "source": [
    "If you want to get the row whose ALL values satisfy a certain condition, use NumPy’s `all` method. \n"
   ]
  },
  {
   "cell_type": "code",
   "execution_count": 13,
   "id": "8d87f004",
   "metadata": {
    "ExecuteTime": {
     "end_time": "2021-09-11T16:44:29.292263Z",
     "start_time": "2021-09-11T16:44:29.266835Z"
    }
   },
   "outputs": [
    {
     "data": {
      "text/plain": [
       "array([[1, 2, 1]])"
      ]
     },
     "execution_count": 13,
     "metadata": {},
     "output_type": "execute_result"
    },
    {
     "data": {
      "application/javascript": "\n            setTimeout(function() {\n                var nbb_cell_id = 13;\n                var nbb_unformatted_code = \"a = np.array([[1, 2, 1], [2, 2, 5]])\\n\\n# get the rows whose all values are fewer than 3\\nmask_all = (a<3).all(axis=1)\\na[mask_all]\";\n                var nbb_formatted_code = \"a = np.array([[1, 2, 1], [2, 2, 5]])\\n\\n# get the rows whose all values are fewer than 3\\nmask_all = (a < 3).all(axis=1)\\na[mask_all]\";\n                var nbb_cells = Jupyter.notebook.get_cells();\n                for (var i = 0; i < nbb_cells.length; ++i) {\n                    if (nbb_cells[i].input_prompt_number == nbb_cell_id) {\n                        if (nbb_cells[i].get_text() == nbb_unformatted_code) {\n                             nbb_cells[i].set_text(nbb_formatted_code);\n                        }\n                        break;\n                    }\n                }\n            }, 500);\n            ",
      "text/plain": [
       "<IPython.core.display.Javascript object>"
      ]
     },
     "metadata": {},
     "output_type": "display_data"
    }
   ],
   "source": [
    "a = np.array([[1, 2, 1], [2, 2, 5]])\n",
    "\n",
    "# get the rows whose all values are fewer than 3\n",
    "mask_all = (a < 3).all(axis=1)\n",
    "a[mask_all]"
   ]
  },
  {
   "cell_type": "markdown",
   "id": "15db0580",
   "metadata": {},
   "source": [
    "To get the row whose AT LEAST one value satisfies a certain condition, use NumPy’s `any` method."
   ]
  },
  {
   "cell_type": "code",
   "execution_count": 14,
   "id": "7e883ea0",
   "metadata": {
    "ExecuteTime": {
     "end_time": "2021-09-11T16:44:39.060848Z",
     "start_time": "2021-09-11T16:44:39.040664Z"
    }
   },
   "outputs": [
    {
     "data": {
      "text/plain": [
       "array([[1, 2, 1],\n",
       "       [2, 2, 5]])"
      ]
     },
     "execution_count": 14,
     "metadata": {},
     "output_type": "execute_result"
    },
    {
     "data": {
      "application/javascript": "\n            setTimeout(function() {\n                var nbb_cell_id = 14;\n                var nbb_unformatted_code = \"mask_any = (a<3).any(axis=1)\\na[mask_any]\";\n                var nbb_formatted_code = \"mask_any = (a < 3).any(axis=1)\\na[mask_any]\";\n                var nbb_cells = Jupyter.notebook.get_cells();\n                for (var i = 0; i < nbb_cells.length; ++i) {\n                    if (nbb_cells[i].input_prompt_number == nbb_cell_id) {\n                        if (nbb_cells[i].get_text() == nbb_unformatted_code) {\n                             nbb_cells[i].set_text(nbb_formatted_code);\n                        }\n                        break;\n                    }\n                }\n            }, 500);\n            ",
      "text/plain": [
       "<IPython.core.display.Javascript object>"
      ]
     },
     "metadata": {},
     "output_type": "display_data"
    }
   ],
   "source": [
    "mask_any = (a < 3).any(axis=1)\n",
    "a[mask_any]"
   ]
  },
  {
   "cell_type": "markdown",
   "id": "ccf07762",
   "metadata": {},
   "source": [
    "### Double numpy.argsort: Get Rank of Values in an Array"
   ]
  },
  {
   "cell_type": "markdown",
   "id": "973c5a2a",
   "metadata": {},
   "source": [
    "If you want to get the index of the sorted list for the original list, apply `numpy.argsort()` twice. "
   ]
  },
  {
   "cell_type": "code",
   "execution_count": 16,
   "id": "b00a68ee",
   "metadata": {
    "ExecuteTime": {
     "end_time": "2021-09-11T16:45:41.855999Z",
     "start_time": "2021-09-11T16:45:41.835662Z"
    }
   },
   "outputs": [
    {
     "data": {
      "text/plain": [
       "array([1, 0, 3, 4, 2])"
      ]
     },
     "execution_count": 16,
     "metadata": {},
     "output_type": "execute_result"
    },
    {
     "data": {
      "application/javascript": "\n            setTimeout(function() {\n                var nbb_cell_id = 16;\n                var nbb_unformatted_code = \"a = np.array([2, 1, 4, 7, 3])\\n\\n# Get rank of values in an array\\na.argsort().argsort()\";\n                var nbb_formatted_code = \"a = np.array([2, 1, 4, 7, 3])\\n\\n# Get rank of values in an array\\na.argsort().argsort()\";\n                var nbb_cells = Jupyter.notebook.get_cells();\n                for (var i = 0; i < nbb_cells.length; ++i) {\n                    if (nbb_cells[i].input_prompt_number == nbb_cell_id) {\n                        if (nbb_cells[i].get_text() == nbb_unformatted_code) {\n                             nbb_cells[i].set_text(nbb_formatted_code);\n                        }\n                        break;\n                    }\n                }\n            }, 500);\n            ",
      "text/plain": [
       "<IPython.core.display.Javascript object>"
      ]
     },
     "metadata": {},
     "output_type": "display_data"
    }
   ],
   "source": [
    "a = np.array([2, 1, 4, 7, 3])\n",
    "\n",
    "# Get rank of values in an array\n",
    "a.argsort().argsort()"
   ]
  },
  {
   "cell_type": "markdown",
   "id": "6c291eb5",
   "metadata": {},
   "source": [
    "In the example above, 1 is the smallest value so it is indexed 0. 2 is the second-largest value to it is indexed 1."
   ]
  },
  {
   "cell_type": "markdown",
   "id": "d88a3053",
   "metadata": {},
   "source": [
    "### Get the Index of the Max Value in a NumPy Array"
   ]
  },
  {
   "cell_type": "markdown",
   "id": "6a30a649",
   "metadata": {
    "ExecuteTime": {
     "end_time": "2021-09-11T16:47:03.070602Z",
     "start_time": "2021-09-11T16:47:03.056348Z"
    }
   },
   "source": [
    "To get the index of the max value in a NumPy array, use `np.argmax`. This can be helpful to get the highest probability in an array of probabilities."
   ]
  },
  {
   "cell_type": "code",
   "execution_count": 17,
   "id": "52951a4b",
   "metadata": {
    "ExecuteTime": {
     "end_time": "2021-09-11T16:46:52.393557Z",
     "start_time": "2021-09-11T16:46:52.375709Z"
    }
   },
   "outputs": [
    {
     "data": {
      "text/plain": [
       "2"
      ]
     },
     "execution_count": 17,
     "metadata": {},
     "output_type": "execute_result"
    },
    {
     "data": {
      "application/javascript": "\n            setTimeout(function() {\n                var nbb_cell_id = 17;\n                var nbb_unformatted_code = \"a = np.array([0.2, 0.4, 0.7, 0.3])\\nnp.argmax(a)\";\n                var nbb_formatted_code = \"a = np.array([0.2, 0.4, 0.7, 0.3])\\nnp.argmax(a)\";\n                var nbb_cells = Jupyter.notebook.get_cells();\n                for (var i = 0; i < nbb_cells.length; ++i) {\n                    if (nbb_cells[i].input_prompt_number == nbb_cell_id) {\n                        if (nbb_cells[i].get_text() == nbb_unformatted_code) {\n                             nbb_cells[i].set_text(nbb_formatted_code);\n                        }\n                        break;\n                    }\n                }\n            }, 500);\n            ",
      "text/plain": [
       "<IPython.core.display.Javascript object>"
      ]
     },
     "metadata": {},
     "output_type": "display_data"
    }
   ],
   "source": [
    "a = np.array([0.2, 0.4, 0.7, 0.3])\n",
    "np.argmax(a)"
   ]
  },
  {
   "cell_type": "markdown",
   "id": "c00a3164",
   "metadata": {},
   "source": [
    "### np.where: Replace Elements of a NumPy Array Based on a Condition\n"
   ]
  },
  {
   "cell_type": "markdown",
   "id": "b9b4b4be",
   "metadata": {},
   "source": [
    "If you want to replace elements of a NumPy array based on a condition, use `numpy.where`. "
   ]
  },
  {
   "cell_type": "code",
   "execution_count": 19,
   "id": "ce205a2d",
   "metadata": {
    "ExecuteTime": {
     "end_time": "2021-09-11T16:48:33.059747Z",
     "start_time": "2021-09-11T16:48:33.037089Z"
    }
   },
   "outputs": [
    {
     "data": {
      "text/plain": [
       "array([[ 2,  8, 10, 15],\n",
       "       [ 4,  6,  8,  9]])"
      ]
     },
     "execution_count": 19,
     "metadata": {},
     "output_type": "execute_result"
    },
    {
     "data": {
      "application/javascript": "\n            setTimeout(function() {\n                var nbb_cell_id = 19;\n                var nbb_unformatted_code = \"arr = np.array([[1, 4, 10, 15], [2, 3, 8, 9]])\\n\\n# Multiply values that are less than 5 by 2\\nnp.where(arr < 5, arr * 2, arr)\";\n                var nbb_formatted_code = \"arr = np.array([[1, 4, 10, 15], [2, 3, 8, 9]])\\n\\n# Multiply values that are less than 5 by 2\\nnp.where(arr < 5, arr * 2, arr)\";\n                var nbb_cells = Jupyter.notebook.get_cells();\n                for (var i = 0; i < nbb_cells.length; ++i) {\n                    if (nbb_cells[i].input_prompt_number == nbb_cell_id) {\n                        if (nbb_cells[i].get_text() == nbb_unformatted_code) {\n                             nbb_cells[i].set_text(nbb_formatted_code);\n                        }\n                        break;\n                    }\n                }\n            }, 500);\n            ",
      "text/plain": [
       "<IPython.core.display.Javascript object>"
      ]
     },
     "metadata": {},
     "output_type": "display_data"
    }
   ],
   "source": [
    "arr = np.array([[1, 4, 10, 15], [2, 3, 8, 9]])\n",
    "\n",
    "# Multiply values that are less than 5 by 2\n",
    "np.where(arr < 5, arr * 2, arr)"
   ]
  },
  {
   "cell_type": "markdown",
   "id": "17ca3ea9",
   "metadata": {},
   "source": [
    "### array-to-latex: Turn a NumPy Array into Latex"
   ]
  },
  {
   "cell_type": "code",
   "execution_count": null,
   "id": "b699eef3",
   "metadata": {
    "tags": [
     "hide-cell"
    ]
   },
   "outputs": [],
   "source": [
    "!pip install array-to-latex"
   ]
  },
  {
   "cell_type": "markdown",
   "id": "bdcc4dc1",
   "metadata": {},
   "source": [
    "Sometimes you might want to use latex to write math. You can turn a NumPy array into latex using array-to-latex."
   ]
  },
  {
   "cell_type": "code",
   "execution_count": 21,
   "id": "5c8f85c4",
   "metadata": {
    "ExecuteTime": {
     "end_time": "2021-09-11T16:49:28.767103Z",
     "start_time": "2021-09-11T16:49:28.580900Z"
    }
   },
   "outputs": [
    {
     "name": "stdout",
     "output_type": "stream",
     "text": [
      "\\begin{bmatrix}\n",
      "  1.00 &  2.00 &  3.00\\\\\n",
      "  4.00 &  5.00 &  6.00\n",
      "\\end{bmatrix}\n"
     ]
    },
    {
     "data": {
      "application/javascript": "\n            setTimeout(function() {\n                var nbb_cell_id = 21;\n                var nbb_unformatted_code = \"\\nimport array_to_latex as a2l \\n\\na = np.array([[1, 2, 3], [4, 5, 6]])\\nlatex = a2l.to_ltx(a)\\nlatex\";\n                var nbb_formatted_code = \"import array_to_latex as a2l\\n\\na = np.array([[1, 2, 3], [4, 5, 6]])\\nlatex = a2l.to_ltx(a)\\nlatex\";\n                var nbb_cells = Jupyter.notebook.get_cells();\n                for (var i = 0; i < nbb_cells.length; ++i) {\n                    if (nbb_cells[i].input_prompt_number == nbb_cell_id) {\n                        if (nbb_cells[i].get_text() == nbb_unformatted_code) {\n                             nbb_cells[i].set_text(nbb_formatted_code);\n                        }\n                        break;\n                    }\n                }\n            }, 500);\n            ",
      "text/plain": [
       "<IPython.core.display.Javascript object>"
      ]
     },
     "metadata": {},
     "output_type": "display_data"
    }
   ],
   "source": [
    "import array_to_latex as a2l\n",
    "\n",
    "a = np.array([[1, 2, 3], [4, 5, 6]])\n",
    "latex = a2l.to_ltx(a)\n",
    "latex"
   ]
  },
  {
   "cell_type": "markdown",
   "id": "0d51818d",
   "metadata": {},
   "source": [
    "I copied and pasted the output of array-to-latex to the Markdown cell of Jupyter Notebook, and below is the output."
   ]
  },
  {
   "cell_type": "markdown",
   "id": "620d041d",
   "metadata": {},
   "source": [
    "\\begin{bmatrix}\n",
    "  1.00 &  2.00 &  3.00\\\\\n",
    "  4.00 &  5.00 &  6.00\n",
    "\\end{bmatrix}"
   ]
  },
  {
   "cell_type": "markdown",
   "id": "53f207f0",
   "metadata": {},
   "source": [
    "[Link to array-to-latex](https://github.com/josephcslater/array_to_latex/)."
   ]
  },
  {
   "cell_type": "markdown",
   "id": "33562eed",
   "metadata": {},
   "source": [
    "### NumPy Comparison Operators\n"
   ]
  },
  {
   "cell_type": "markdown",
   "id": "3268e906",
   "metadata": {},
   "source": [
    "If you want to get elements of a NumPy array that are greater, smaller, or equal to a value or an array, simply use comparison operators such as `<`, `<=`, `>`, `>=`, `==`."
   ]
  },
  {
   "cell_type": "code",
   "execution_count": 23,
   "id": "4c1d0d65",
   "metadata": {
    "ExecuteTime": {
     "end_time": "2021-09-11T17:05:48.052899Z",
     "start_time": "2021-09-11T17:05:48.032199Z"
    }
   },
   "outputs": [
    {
     "data": {
      "text/plain": [
       "array([ True, False, False])"
      ]
     },
     "execution_count": 23,
     "metadata": {},
     "output_type": "execute_result"
    },
    {
     "data": {
      "application/javascript": "\n            setTimeout(function() {\n                var nbb_cell_id = 23;\n                var nbb_unformatted_code = \"a = np.array([1, 2, 3])\\nb = np.array([4, 1, 2])\\n\\na < 2\";\n                var nbb_formatted_code = \"a = np.array([1, 2, 3])\\nb = np.array([4, 1, 2])\\n\\na < 2\";\n                var nbb_cells = Jupyter.notebook.get_cells();\n                for (var i = 0; i < nbb_cells.length; ++i) {\n                    if (nbb_cells[i].input_prompt_number == nbb_cell_id) {\n                        if (nbb_cells[i].get_text() == nbb_unformatted_code) {\n                             nbb_cells[i].set_text(nbb_formatted_code);\n                        }\n                        break;\n                    }\n                }\n            }, 500);\n            ",
      "text/plain": [
       "<IPython.core.display.Javascript object>"
      ]
     },
     "metadata": {},
     "output_type": "display_data"
    }
   ],
   "source": [
    "a = np.array([1, 2, 3])\n",
    "b = np.array([4, 1, 2])\n",
    "\n",
    "a < 2"
   ]
  },
  {
   "cell_type": "code",
   "execution_count": 25,
   "id": "cdbc2a21",
   "metadata": {
    "ExecuteTime": {
     "end_time": "2021-09-11T17:06:03.773866Z",
     "start_time": "2021-09-11T17:06:03.759979Z"
    }
   },
   "outputs": [
    {
     "data": {
      "text/plain": [
       "array([ True, False, False])"
      ]
     },
     "execution_count": 25,
     "metadata": {},
     "output_type": "execute_result"
    },
    {
     "data": {
      "application/javascript": "\n            setTimeout(function() {\n                var nbb_cell_id = 25;\n                var nbb_unformatted_code = \"a < b\";\n                var nbb_formatted_code = \"a < b\";\n                var nbb_cells = Jupyter.notebook.get_cells();\n                for (var i = 0; i < nbb_cells.length; ++i) {\n                    if (nbb_cells[i].input_prompt_number == nbb_cell_id) {\n                        if (nbb_cells[i].get_text() == nbb_unformatted_code) {\n                             nbb_cells[i].set_text(nbb_formatted_code);\n                        }\n                        break;\n                    }\n                }\n            }, 500);\n            ",
      "text/plain": [
       "<IPython.core.display.Javascript object>"
      ]
     },
     "metadata": {},
     "output_type": "display_data"
    }
   ],
   "source": [
    "a < b"
   ]
  },
  {
   "cell_type": "code",
   "execution_count": 27,
   "id": "f15deaf2",
   "metadata": {
    "ExecuteTime": {
     "end_time": "2021-09-11T17:06:10.599902Z",
     "start_time": "2021-09-11T17:06:10.585111Z"
    }
   },
   "outputs": [
    {
     "data": {
      "text/plain": [
       "array([1])"
      ]
     },
     "execution_count": 27,
     "metadata": {},
     "output_type": "execute_result"
    },
    {
     "data": {
      "application/javascript": "\n            setTimeout(function() {\n                var nbb_cell_id = 27;\n                var nbb_unformatted_code = \"a[a < b]\";\n                var nbb_formatted_code = \"a[a < b]\";\n                var nbb_cells = Jupyter.notebook.get_cells();\n                for (var i = 0; i < nbb_cells.length; ++i) {\n                    if (nbb_cells[i].input_prompt_number == nbb_cell_id) {\n                        if (nbb_cells[i].get_text() == nbb_unformatted_code) {\n                             nbb_cells[i].set_text(nbb_formatted_code);\n                        }\n                        break;\n                    }\n                }\n            }, 500);\n            ",
      "text/plain": [
       "<IPython.core.display.Javascript object>"
      ]
     },
     "metadata": {},
     "output_type": "display_data"
    }
   ],
   "source": [
    "a[a < b]"
   ]
  },
  {
   "cell_type": "markdown",
   "id": "91654fd3",
   "metadata": {},
   "source": [
    "### NumPy.linspace: Get Evenly Spaced Numbers Over a Specific Interval"
   ]
  },
  {
   "cell_type": "markdown",
   "id": "3a551504",
   "metadata": {},
   "source": [
    "If you want to get evenly spaced numbers over a specific interval, use `numpy.linspace(start, stop, num)`. The code below shows a use case of the `numpy.linspace` method.\n",
    "\n"
   ]
  },
  {
   "cell_type": "code",
   "execution_count": 28,
   "id": "26002451",
   "metadata": {
    "ExecuteTime": {
     "end_time": "2021-09-11T17:07:23.984766Z",
     "start_time": "2021-09-11T17:07:23.761920Z"
    }
   },
   "outputs": [
    {
     "data": {
      "text/plain": [
       "array([2.        , 2.22222222, 2.44444444, 2.66666667, 2.88888889,\n",
       "       3.11111111, 3.33333333, 3.55555556, 3.77777778, 4.        ])"
      ]
     },
     "execution_count": 28,
     "metadata": {},
     "output_type": "execute_result"
    },
    {
     "data": {
      "application/javascript": "\n            setTimeout(function() {\n                var nbb_cell_id = 28;\n                var nbb_unformatted_code = \"import matplotlib.pyplot as plt\\n\\nx = np.linspace(2, 4, num=10)\\nx\";\n                var nbb_formatted_code = \"import matplotlib.pyplot as plt\\n\\nx = np.linspace(2, 4, num=10)\\nx\";\n                var nbb_cells = Jupyter.notebook.get_cells();\n                for (var i = 0; i < nbb_cells.length; ++i) {\n                    if (nbb_cells[i].input_prompt_number == nbb_cell_id) {\n                        if (nbb_cells[i].get_text() == nbb_unformatted_code) {\n                             nbb_cells[i].set_text(nbb_formatted_code);\n                        }\n                        break;\n                    }\n                }\n            }, 500);\n            ",
      "text/plain": [
       "<IPython.core.display.Javascript object>"
      ]
     },
     "metadata": {},
     "output_type": "display_data"
    }
   ],
   "source": [
    "import matplotlib.pyplot as plt\n",
    "\n",
    "x = np.linspace(2, 4, num=10)\n",
    "x"
   ]
  },
  {
   "cell_type": "code",
   "execution_count": 29,
   "id": "ffe73932",
   "metadata": {
    "ExecuteTime": {
     "end_time": "2021-09-11T17:07:26.454266Z",
     "start_time": "2021-09-11T17:07:26.240905Z"
    }
   },
   "outputs": [
    {
     "data": {
      "image/png": "[encoded data removed]",
      "text/plain": [
       "<Figure size 432x288 with 1 Axes>"
      ]
     },
     "metadata": {
      "needs_background": "light"
     },
     "output_type": "display_data"
    },
    {
     "data": {
      "application/javascript": "\n            setTimeout(function() {\n                var nbb_cell_id = 29;\n                var nbb_unformatted_code = \"y = np.arange(10)\\n\\nplt.plot(x, y)\\nplt.show()\";\n                var nbb_formatted_code = \"y = np.arange(10)\\n\\nplt.plot(x, y)\\nplt.show()\";\n                var nbb_cells = Jupyter.notebook.get_cells();\n                for (var i = 0; i < nbb_cells.length; ++i) {\n                    if (nbb_cells[i].input_prompt_number == nbb_cell_id) {\n                        if (nbb_cells[i].get_text() == nbb_unformatted_code) {\n                             nbb_cells[i].set_text(nbb_formatted_code);\n                        }\n                        break;\n                    }\n                }\n            }, 500);\n            ",
      "text/plain": [
       "<IPython.core.display.Javascript object>"
      ]
     },
     "metadata": {},
     "output_type": "display_data"
    }
   ],
   "source": [
    "y = np.arange(10)\n",
    "\n",
    "plt.plot(x, y)\n",
    "plt.show()"
   ]
  },
  {
   "cell_type": "markdown",
   "id": "9ed8997b",
   "metadata": {},
   "source": [
    "### Check if Two NumPy Arrays Are Equal"
   ]
  },
  {
   "cell_type": "markdown",
   "id": "7c80855a",
   "metadata": {},
   "source": [
    "If you try to check whether two arrays are equal, using an assert statement will give you an error."
   ]
  },
  {
   "cell_type": "code",
   "execution_count": 5,
   "id": "43531dbb",
   "metadata": {},
   "outputs": [
    {
     "ename": "ValueError",
     "evalue": "The truth value of an array with more than one element is ambiguous. Use a.any() or a.all()",
     "output_type": "error",
     "traceback": [
      "\u001b[0;31m---------------------------------------------------------------------------\u001b[0m",
      "\u001b[0;31mValueError\u001b[0m                                Traceback (most recent call last)",
      "\u001b[1;32m/Users/khuyen/book/Efficient_Python_tricks_and_tools_for_data_scientists/Chapter4/Numpy.ipynb Cell 48'\u001b[0m in \u001b[0;36m<cell line: 6>\u001b[0;34m()\u001b[0m\n\u001b[1;32m      <a href='vscode-notebook-cell:/Users/khuyen/book/Efficient_Python_tricks_and_tools_for_data_scientists/Chapter4/Numpy.ipynb#ch0000052?line=3'>4</a>\u001b[0m arr1 \u001b[39m=\u001b[39m np\u001b[39m.\u001b[39marray([\u001b[39m1\u001b[39m, \u001b[39m2\u001b[39m, \u001b[39m3\u001b[39m])\n\u001b[1;32m      <a href='vscode-notebook-cell:/Users/khuyen/book/Efficient_Python_tricks_and_tools_for_data_scientists/Chapter4/Numpy.ipynb#ch0000052?line=4'>5</a>\u001b[0m arr2 \u001b[39m=\u001b[39m np\u001b[39m.\u001b[39marray([\u001b[39m1\u001b[39m, \u001b[39m2\u001b[39m, \u001b[39m4\u001b[39m])\n\u001b[0;32m----> <a href='vscode-notebook-cell:/Users/khuyen/book/Efficient_Python_tricks_and_tools_for_data_scientists/Chapter4/Numpy.ipynb#ch0000052?line=5'>6</a>\u001b[0m \u001b[39massert\u001b[39;00m arr1 \u001b[39m==\u001b[39m arr2\n",
      "\u001b[0;31mValueError\u001b[0m: The truth value of an array with more than one element is ambiguous. Use a.any() or a.all()"
     ]
    }
   ],
   "source": [
    "import numpy as np\n",
    "from numpy.testing import assert_array_equal\n",
    "\n",
    "arr1 = np.array([1, 2, 3])\n",
    "arr2 = np.array([1, 2, 4])\n",
    "assert arr1 == arr2"
   ]
  },
  {
   "cell_type": "markdown",
   "id": "3b4c1eaf",
   "metadata": {},
   "source": [
    "Use `assert_array_equal` instead. `assert_array_equal` also shows you which elements are different between two arrays.   "
   ]
  },
  {
   "cell_type": "code",
   "execution_count": 6,
   "id": "5974fd03",
   "metadata": {},
   "outputs": [
    {
     "ename": "AssertionError",
     "evalue": "\nArrays are not equal\n\nMismatched elements: 1 / 3 (33.3%)\nMax absolute difference: 1\nMax relative difference: 0.25\n x: array([1, 2, 3])\n y: array([1, 2, 4])",
     "output_type": "error",
     "traceback": [
      "\u001b[0;31m---------------------------------------------------------------------------\u001b[0m",
      "\u001b[0;31mAssertionError\u001b[0m                            Traceback (most recent call last)",
      "\u001b[1;32m/Users/khuyen/book/Efficient_Python_tricks_and_tools_for_data_scientists/Chapter4/Numpy.ipynb Cell 49'\u001b[0m in \u001b[0;36m<cell line: 1>\u001b[0;34m()\u001b[0m\n\u001b[0;32m----> <a href='vscode-notebook-cell:/Users/khuyen/book/Efficient_Python_tricks_and_tools_for_data_scientists/Chapter4/Numpy.ipynb#ch0000053?line=0'>1</a>\u001b[0m assert_array_equal(arr1,arr2)\n",
      "    \u001b[0;31m[... skipping hidden 1 frame]\u001b[0m\n",
      "File \u001b[0;32m~/book/venv/lib/python3.8/site-packages/numpy/testing/_private/utils.py:844\u001b[0m, in \u001b[0;36massert_array_compare\u001b[0;34m(comparison, x, y, err_msg, verbose, header, precision, equal_nan, equal_inf)\u001b[0m\n\u001b[1;32m    <a href='file:///Users/khuyen/book/venv/lib/python3.8/site-packages/numpy/testing/_private/utils.py?line=839'>840</a>\u001b[0m         err_msg \u001b[39m+\u001b[39m\u001b[39m=\u001b[39m \u001b[39m'\u001b[39m\u001b[39m\\n\u001b[39;00m\u001b[39m'\u001b[39m \u001b[39m+\u001b[39m \u001b[39m'\u001b[39m\u001b[39m\\n\u001b[39;00m\u001b[39m'\u001b[39m\u001b[39m.\u001b[39mjoin(remarks)\n\u001b[1;32m    <a href='file:///Users/khuyen/book/venv/lib/python3.8/site-packages/numpy/testing/_private/utils.py?line=840'>841</a>\u001b[0m         msg \u001b[39m=\u001b[39m build_err_msg([ox, oy], err_msg,\n\u001b[1;32m    <a href='file:///Users/khuyen/book/venv/lib/python3.8/site-packages/numpy/testing/_private/utils.py?line=841'>842</a>\u001b[0m                             verbose\u001b[39m=\u001b[39mverbose, header\u001b[39m=\u001b[39mheader,\n\u001b[1;32m    <a href='file:///Users/khuyen/book/venv/lib/python3.8/site-packages/numpy/testing/_private/utils.py?line=842'>843</a>\u001b[0m                             names\u001b[39m=\u001b[39m(\u001b[39m'\u001b[39m\u001b[39mx\u001b[39m\u001b[39m'\u001b[39m, \u001b[39m'\u001b[39m\u001b[39my\u001b[39m\u001b[39m'\u001b[39m), precision\u001b[39m=\u001b[39mprecision)\n\u001b[0;32m--> <a href='file:///Users/khuyen/book/venv/lib/python3.8/site-packages/numpy/testing/_private/utils.py?line=843'>844</a>\u001b[0m         \u001b[39mraise\u001b[39;00m \u001b[39mAssertionError\u001b[39;00m(msg)\n\u001b[1;32m    <a href='file:///Users/khuyen/book/venv/lib/python3.8/site-packages/numpy/testing/_private/utils.py?line=844'>845</a>\u001b[0m \u001b[39mexcept\u001b[39;00m \u001b[39mValueError\u001b[39;00m:\n\u001b[1;32m    <a href='file:///Users/khuyen/book/venv/lib/python3.8/site-packages/numpy/testing/_private/utils.py?line=845'>846</a>\u001b[0m     \u001b[39mimport\u001b[39;00m \u001b[39mtraceback\u001b[39;00m\n",
      "\u001b[0;31mAssertionError\u001b[0m: \nArrays are not equal\n\nMismatched elements: 1 / 3 (33.3%)\nMax absolute difference: 1\nMax relative difference: 0.25\n x: array([1, 2, 3])\n y: array([1, 2, 4])"
     ]
    }
   ],
   "source": [
    "assert_array_equal(arr1, arr2)"
   ]
  },
  {
   "cell_type": "markdown",
   "id": "7cbdb803",
   "metadata": {},
   "source": [
    "### NumPy.testing.assert_almost_equal: Check if Two Arrays Are Equal up to a Certain Precision"
   ]
  },
  {
   "cell_type": "markdown",
   "id": "5709e1ca",
   "metadata": {},
   "source": [
    "Sometimes, you might only want to check if two arrays are equal up to a certain precision. If so, use `numpy.testing.assert_almost_equal`."
   ]
  },
  {
   "cell_type": "code",
   "execution_count": 4,
   "id": "45e96ddc",
   "metadata": {
    "ExecuteTime": {
     "end_time": "2021-09-11T17:39:40.169306Z",
     "start_time": "2021-09-11T17:39:40.052516Z"
    }
   },
   "outputs": [],
   "source": [
    "import numpy as np \n",
    "from numpy.testing import assert_almost_equal\n",
    "\n",
    "a = np.array([[1.222, 2.222], [3.222, 4.222]])\n",
    "test = np.array([[1.221, 2.221], [3.221, 4.221]])\n",
    "assert_almost_equal(a, test, decimal=2)"
   ]
  }
 ],
 "metadata": {
  "celltoolbar": "Tags",
  "interpreter": {
   "hash": "484329849bb907480cd798e750759bc6f1d66c93f9e78e7055aa0a2c2de6b47b"
  },
  "kernelspec": {
   "display_name": "Python 3.8.9 ('venv': venv)",
   "language": "python",
   "name": "python3"
  },
  "language_info": {
   "codemirror_mode": {
    "name": "ipython",
    "version": 3
   },
   "file_extension": ".py",
   "mimetype": "text/x-python",
   "name": "python",
   "nbconvert_exporter": "python",
   "pygments_lexer": "ipython3",
   "version": "3.8.9"
  },
  "toc": {
   "base_numbering": 1,
   "nav_menu": {},
   "number_sections": true,
   "sideBar": true,
   "skip_h1_title": false,
   "title_cell": "Table of Contents",
   "title_sidebar": "Contents",
   "toc_cell": false,
   "toc_position": {},
   "toc_section_display": true,
   "toc_window_display": false
  }
 },
 "nbformat": 4,
 "nbformat_minor": 5
}
