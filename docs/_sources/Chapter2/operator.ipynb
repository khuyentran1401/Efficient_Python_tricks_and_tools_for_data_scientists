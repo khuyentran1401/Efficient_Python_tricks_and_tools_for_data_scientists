{
 "cells": [
  {
   "cell_type": "markdown",
   "id": "95a9bf0e",
   "metadata": {},
   "source": [
    "## Operator"
   ]
  },
  {
   "cell_type": "markdown",
   "id": "9562348c",
   "metadata": {},
   "source": [
    "[operator](https://docs.python.org/3/library/operator.html) is a built-in Python library that exports a set of efficient functions corresponding to the intrinsic operators of Python. This section will show you some useful methods of this module. "
   ]
  },
  {
   "cell_type": "markdown",
   "id": "a57e7610",
   "metadata": {},
   "source": [
    "### operator.itemgetter: Get Multiple Items From a List or Dictionary"
   ]
  },
  {
   "cell_type": "markdown",
   "id": "405132ea",
   "metadata": {},
   "source": [
    "Normally, to access multiple indices from a list, you need to use list comprehension: "
   ]
  },
  {
   "cell_type": "code",
   "execution_count": 1,
   "id": "ea689c9c",
   "metadata": {
    "ExecuteTime": {
     "end_time": "2021-11-09T16:18:50.679597Z",
     "start_time": "2021-11-09T16:18:50.644159Z"
    }
   },
   "outputs": [
    {
     "data": {
      "text/plain": [
       "['orange', 'grape']"
      ]
     },
     "execution_count": 1,
     "metadata": {},
     "output_type": "execute_result"
    }
   ],
   "source": [
    "fruits = [\"apple\", \"orange\", \"banana\", \"grape\"]\n",
    "\n",
    "[fruit for fruit in fruits if fruits.index(fruit) in [1, 3]]"
   ]
  },
  {
   "cell_type": "markdown",
   "id": "b33964b1",
   "metadata": {},
   "source": [
    "To do the same thing with simpler syntax, use `operator.itemgetter` instead: "
   ]
  },
  {
   "cell_type": "code",
   "execution_count": 2,
   "id": "a2cee9e3",
   "metadata": {
    "ExecuteTime": {
     "end_time": "2021-11-09T16:18:52.267646Z",
     "start_time": "2021-11-09T16:18:52.259781Z"
    }
   },
   "outputs": [
    {
     "data": {
      "text/plain": [
       "('orange', 'grape')"
      ]
     },
     "execution_count": 2,
     "metadata": {},
     "output_type": "execute_result"
    }
   ],
   "source": [
    "from operator import itemgetter\n",
    "\n",
    "itemgetter(1, 3)(fruits)"
   ]
  }
 ],
 "metadata": {
  "kernelspec": {
   "display_name": "Python 3 (ipykernel)",
   "language": "python",
   "name": "python3"
  },
  "language_info": {
   "codemirror_mode": {
    "name": "ipython",
    "version": 3
   },
   "file_extension": ".py",
   "mimetype": "text/x-python",
   "name": "python",
   "nbconvert_exporter": "python",
   "pygments_lexer": "ipython3",
   "version": "3.8.10"
  },
  "toc": {
   "base_numbering": 1,
   "nav_menu": {},
   "number_sections": true,
   "sideBar": true,
   "skip_h1_title": false,
   "title_cell": "Table of Contents",
   "title_sidebar": "Contents",
   "toc_cell": false,
   "toc_position": {},
   "toc_section_display": true,
   "toc_window_display": false
  }
 },
 "nbformat": 4,
 "nbformat_minor": 5
}
