{
 "cells": [
  {
   "cell_type": "markdown",
   "id": "f9c6d7f5",
   "metadata": {},
   "source": [
    "## Operator"
   ]
  },
  {
   "cell_type": "markdown",
   "id": "67a66cb3",
   "metadata": {},
   "source": [
    "[operator](https://docs.python.org/3/library/operator.html) is a built-in Python library that exports a set of efficient functions corresponding to the intrinsic operators of Python. This section will show you some useful methods of this module."
   ]
  },
  {
   "cell_type": "markdown",
   "id": "903eca62",
   "metadata": {},
   "source": [
    "### operator.itemgetter: Get Multiple Items From a List or Dictionary"
   ]
  },
  {
   "cell_type": "markdown",
   "id": "06f8e010",
   "metadata": {},
   "source": [
    "Normally, to access multiple indices from a list, you need to use list comprehension:"
   ]
  },
  {
   "cell_type": "code",
   "execution_count": null,
   "id": "e75c5005",
   "metadata": {},
   "outputs": [],
   "source": [
    "fruits = [\"apple\", \"orange\", \"banana\", \"grape\"]\n",
    "\n",
    "[fruit for fruit in fruits if fruits.index(fruit) in [1, 3]]"
   ]
  },
  {
   "cell_type": "markdown",
   "id": "a1fec953",
   "metadata": {},
   "source": [
    "To do the same thing with simpler syntax, use `operator.itemgetter` instead:"
   ]
  },
  {
   "cell_type": "code",
   "execution_count": null,
   "id": "91687ae1",
   "metadata": {},
   "outputs": [],
   "source": [
    "from operator import itemgetter\n",
    "\n",
    "itemgetter(1, 3)(fruits)"
   ]
  }
 ],
 "metadata": {
  "jupytext": {
   "text_representation": {
    "extension": ".md",
    "format_name": "myst",
    "format_version": 0.13,
    "jupytext_version": "1.16.7"
   }
  },
  "kernelspec": {
   "display_name": "Python 3 (ipykernel)",
   "language": "python",
   "name": "python3"
  },
  "source_map": [
   12,
   16,
   20,
   24,
   28,
   32,
   36
  ]
 },
 "nbformat": 4,
 "nbformat_minor": 5
}