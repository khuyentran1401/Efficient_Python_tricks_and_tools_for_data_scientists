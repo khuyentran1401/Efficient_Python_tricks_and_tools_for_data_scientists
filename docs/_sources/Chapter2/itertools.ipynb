{
 "cells": [
  {
   "cell_type": "markdown",
   "id": "d3a94d91",
   "metadata": {},
   "source": [
    "## Itertools"
   ]
  },
  {
   "cell_type": "markdown",
   "id": "76de4491",
   "metadata": {},
   "source": [
    "[itertools](https://docs.python.org/3/library/itertools.html) is a built-in Python library that creates iterators for efficient looping. This section will show you some useful methods of itertools."
   ]
  },
  {
   "cell_type": "markdown",
   "id": "41eb9120",
   "metadata": {},
   "source": [
    "### itertools.combinations: A Better Way to Iterate Through a Pair of Values in a Python List"
   ]
  },
  {
   "cell_type": "markdown",
   "id": "351aa114",
   "metadata": {},
   "source": [
    "If you want to iterate through a pair of values in a list and the order does not matter (`(a,b)` is the same as `(b, a)`), a naive approach is to use two for-loops."
   ]
  },
  {
   "cell_type": "code",
   "execution_count": 3,
   "id": "a593675d",
   "metadata": {
    "ExecuteTime": {
     "end_time": "2021-08-29T21:38:23.366274Z",
     "start_time": "2021-08-29T21:38:23.360506Z"
    }
   },
   "outputs": [],
   "source": [
    "num_list = [1, 2, 3]"
   ]
  },
  {
   "cell_type": "code",
   "execution_count": 6,
   "id": "fc292dee",
   "metadata": {
    "ExecuteTime": {
     "end_time": "2021-08-29T21:42:22.222730Z",
     "start_time": "2021-08-29T21:42:22.215146Z"
    }
   },
   "outputs": [
    {
     "name": "stdout",
     "output_type": "stream",
     "text": [
      "(1, 2)\n",
      "(1, 3)\n",
      "(2, 3)\n"
     ]
    }
   ],
   "source": [
    "for i in num_list: \n",
    "    for j in num_list:\n",
    "        if i < j:\n",
    "            print((i, j))"
   ]
  },
  {
   "cell_type": "markdown",
   "id": "e88e9ee3",
   "metadata": {},
   "source": [
    "However, using two for-loops is lengthy and inefficient. Use `itertools.combinations` instead:"
   ]
  },
  {
   "cell_type": "code",
   "execution_count": 7,
   "id": "74beca76",
   "metadata": {
    "ExecuteTime": {
     "end_time": "2021-08-29T21:42:23.917612Z",
     "start_time": "2021-08-29T21:42:23.909612Z"
    }
   },
   "outputs": [
    {
     "name": "stdout",
     "output_type": "stream",
     "text": [
      "(1, 2)\n",
      "(1, 3)\n",
      "(2, 3)\n"
     ]
    }
   ],
   "source": [
    "from itertools import combinations\n",
    "\n",
    "comb = combinations(num_list, 2) # use this\n",
    "for pair in list(comb):\n",
    "    print(pair)"
   ]
  },
  {
   "cell_type": "markdown",
   "id": "33f052f8",
   "metadata": {},
   "source": [
    "### itertools.product: Nested For-Loops in a Generator Expression "
   ]
  },
  {
   "cell_type": "markdown",
   "id": "d632574d",
   "metadata": {},
   "source": [
    "Are you using nested for-loops to experiment with different combinations of parameters? If so, use `itertools.product` instead.\n",
    "\n",
    "`itertools.product` is more efficient than nested loop because `product(A, B)` returns the same as `((x,y) for x in A for y in B)`."
   ]
  },
  {
   "cell_type": "code",
   "execution_count": 8,
   "id": "84a8bda4",
   "metadata": {
    "ExecuteTime": {
     "end_time": "2021-08-29T21:44:02.299620Z",
     "start_time": "2021-08-29T21:44:02.288949Z"
    }
   },
   "outputs": [
    {
     "name": "stdout",
     "output_type": "stream",
     "text": [
      "{'learning_rate': 0.1, 'batch_size': 16}\n",
      "{'learning_rate': 0.1, 'batch_size': 32}\n",
      "{'learning_rate': 0.1, 'batch_size': 64}\n",
      "{'learning_rate': 0.01, 'batch_size': 16}\n",
      "{'learning_rate': 0.01, 'batch_size': 32}\n",
      "{'learning_rate': 0.01, 'batch_size': 64}\n",
      "{'learning_rate': 0.001, 'batch_size': 16}\n",
      "{'learning_rate': 0.001, 'batch_size': 32}\n",
      "{'learning_rate': 0.001, 'batch_size': 64}\n"
     ]
    }
   ],
   "source": [
    "from itertools import product\n",
    "\n",
    "params = {\n",
    "    \"learning_rate\": [1e-1, 1e-2, 1e-3],\n",
    "    \"batch_size\": [16, 32, 64],\n",
    "}\n",
    "\n",
    "for vals in product(*params.values()):\n",
    "    combination = dict(zip(params.keys(), vals))\n",
    "    print(combination)"
   ]
  },
  {
   "cell_type": "code",
   "execution_count": 2,
   "id": "d88df271",
   "metadata": {
    "ExecuteTime": {
     "end_time": "2021-09-16T13:50:15.321393Z",
     "start_time": "2021-09-16T13:50:15.093349Z"
    }
   },
   "outputs": [
    {
     "data": {
      "application/javascript": [
       "\n",
       "            setTimeout(function() {\n",
       "                var nbb_cell_id = 2;\n",
       "                var nbb_unformatted_code = \"%load_ext nb_black\";\n",
       "                var nbb_formatted_code = \"%load_ext nb_black\";\n",
       "                var nbb_cells = Jupyter.notebook.get_cells();\n",
       "                for (var i = 0; i < nbb_cells.length; ++i) {\n",
       "                    if (nbb_cells[i].input_prompt_number == nbb_cell_id) {\n",
       "                        if (nbb_cells[i].get_text() == nbb_unformatted_code) {\n",
       "                             nbb_cells[i].set_text(nbb_formatted_code);\n",
       "                        }\n",
       "                        break;\n",
       "                    }\n",
       "                }\n",
       "            }, 500);\n",
       "            "
      ],
      "text/plain": [
       "<IPython.core.display.Javascript object>"
      ]
     },
     "metadata": {},
     "output_type": "display_data"
    }
   ],
   "source": [
    "%load_ext nb_black"
   ]
  },
  {
   "cell_type": "markdown",
   "id": "6b245270",
   "metadata": {},
   "source": [
    "### itertools.starmap: Apply a Function With More Than 2 Arguments to Elements in a List"
   ]
  },
  {
   "cell_type": "markdown",
   "id": "5613cf8e",
   "metadata": {},
   "source": [
    "`map` is a useful method that allows you to apply a function to elements in a list. However, it can't apply a function with more than one argument to a list."
   ]
  },
  {
   "cell_type": "code",
   "execution_count": 7,
   "id": "e3d9f0fd",
   "metadata": {
    "ExecuteTime": {
     "end_time": "2021-09-16T13:51:10.629920Z",
     "start_time": "2021-09-16T13:51:10.615264Z"
    }
   },
   "outputs": [
    {
     "data": {
      "application/javascript": [
       "\n",
       "            setTimeout(function() {\n",
       "                var nbb_cell_id = 7;\n",
       "                var nbb_unformatted_code = \"def multiply(x: float, y: float):\\n    return x * y\";\n",
       "                var nbb_formatted_code = \"def multiply(x: float, y: float):\\n    return x * y\";\n",
       "                var nbb_cells = Jupyter.notebook.get_cells();\n",
       "                for (var i = 0; i < nbb_cells.length; ++i) {\n",
       "                    if (nbb_cells[i].input_prompt_number == nbb_cell_id) {\n",
       "                        if (nbb_cells[i].get_text() == nbb_unformatted_code) {\n",
       "                             nbb_cells[i].set_text(nbb_formatted_code);\n",
       "                        }\n",
       "                        break;\n",
       "                    }\n",
       "                }\n",
       "            }, 500);\n",
       "            "
      ],
      "text/plain": [
       "<IPython.core.display.Javascript object>"
      ]
     },
     "metadata": {},
     "output_type": "display_data"
    }
   ],
   "source": [
    "def multiply(x: float, y: float):\n",
    "    return x * y"
   ]
  },
  {
   "cell_type": "code",
   "execution_count": 14,
   "id": "02cedf9e",
   "metadata": {
    "ExecuteTime": {
     "end_time": "2021-09-16T13:52:55.405638Z",
     "start_time": "2021-09-16T13:52:55.380512Z"
    }
   },
   "outputs": [
    {
     "ename": "TypeError",
     "evalue": "multiply() missing 1 required positional argument: 'y'",
     "output_type": "error",
     "traceback": [
      "\u001b[0;31m---------------------------------------------------------------------------\u001b[0m",
      "\u001b[0;31mTypeError\u001b[0m                                 Traceback (most recent call last)",
      "\u001b[0;32m/tmp/ipykernel_38110/240000324.py\u001b[0m in \u001b[0;36m<module>\u001b[0;34m\u001b[0m\n\u001b[1;32m      1\u001b[0m \u001b[0mnums\u001b[0m \u001b[0;34m=\u001b[0m \u001b[0;34m[\u001b[0m\u001b[0;34m(\u001b[0m\u001b[0;36m1\u001b[0m\u001b[0;34m,\u001b[0m \u001b[0;36m2\u001b[0m\u001b[0;34m)\u001b[0m\u001b[0;34m,\u001b[0m \u001b[0;34m(\u001b[0m\u001b[0;36m4\u001b[0m\u001b[0;34m,\u001b[0m \u001b[0;36m2\u001b[0m\u001b[0;34m)\u001b[0m\u001b[0;34m,\u001b[0m \u001b[0;34m(\u001b[0m\u001b[0;36m2\u001b[0m\u001b[0;34m,\u001b[0m \u001b[0;36m5\u001b[0m\u001b[0;34m)\u001b[0m\u001b[0;34m]\u001b[0m\u001b[0;34m\u001b[0m\u001b[0;34m\u001b[0m\u001b[0m\n\u001b[0;32m----> 2\u001b[0;31m \u001b[0mlist\u001b[0m\u001b[0;34m(\u001b[0m\u001b[0mmap\u001b[0m\u001b[0;34m(\u001b[0m\u001b[0mmultiply\u001b[0m\u001b[0;34m,\u001b[0m \u001b[0mnums\u001b[0m\u001b[0;34m)\u001b[0m\u001b[0;34m)\u001b[0m\u001b[0;34m\u001b[0m\u001b[0;34m\u001b[0m\u001b[0m\n\u001b[0m",
      "\u001b[0;31mTypeError\u001b[0m: multiply() missing 1 required positional argument: 'y'"
     ]
    },
    {
     "data": {
      "application/javascript": [
       "\n",
       "            setTimeout(function() {\n",
       "                var nbb_cell_id = 14;\n",
       "                var nbb_unformatted_code = \"nums = [(1, 2), (4, 2), (2, 5)]\\nlist(map(multiply, nums))\";\n",
       "                var nbb_formatted_code = \"nums = [(1, 2), (4, 2), (2, 5)]\\nlist(map(multiply, nums))\";\n",
       "                var nbb_cells = Jupyter.notebook.get_cells();\n",
       "                for (var i = 0; i < nbb_cells.length; ++i) {\n",
       "                    if (nbb_cells[i].input_prompt_number == nbb_cell_id) {\n",
       "                        if (nbb_cells[i].get_text() == nbb_unformatted_code) {\n",
       "                             nbb_cells[i].set_text(nbb_formatted_code);\n",
       "                        }\n",
       "                        break;\n",
       "                    }\n",
       "                }\n",
       "            }, 500);\n",
       "            "
      ],
      "text/plain": [
       "<IPython.core.display.Javascript object>"
      ]
     },
     "metadata": {},
     "output_type": "display_data"
    }
   ],
   "source": [
    "nums = [(1, 2), (4, 2), (2, 5)]\n",
    "list(map(multiply, nums))"
   ]
  },
  {
   "cell_type": "markdown",
   "id": "e927dd08",
   "metadata": {},
   "source": [
    "To apply a function with more than 2 arguments to elements in a list, use `itertools.starmap`. With `starmap`, elements in each tuple of the list `nums` are used as arguments for the function `multiply`."
   ]
  },
  {
   "cell_type": "code",
   "execution_count": 15,
   "id": "b6c26a6d",
   "metadata": {
    "ExecuteTime": {
     "end_time": "2021-09-16T13:53:01.773919Z",
     "start_time": "2021-09-16T13:53:01.757466Z"
    }
   },
   "outputs": [
    {
     "data": {
      "text/plain": [
       "[2, 8, 10]"
      ]
     },
     "execution_count": 15,
     "metadata": {},
     "output_type": "execute_result"
    },
    {
     "data": {
      "application/javascript": [
       "\n",
       "            setTimeout(function() {\n",
       "                var nbb_cell_id = 15;\n",
       "                var nbb_unformatted_code = \"from itertools import starmap\\n\\nlist(starmap(multiply, nums))\";\n",
       "                var nbb_formatted_code = \"from itertools import starmap\\n\\nlist(starmap(multiply, nums))\";\n",
       "                var nbb_cells = Jupyter.notebook.get_cells();\n",
       "                for (var i = 0; i < nbb_cells.length; ++i) {\n",
       "                    if (nbb_cells[i].input_prompt_number == nbb_cell_id) {\n",
       "                        if (nbb_cells[i].get_text() == nbb_unformatted_code) {\n",
       "                             nbb_cells[i].set_text(nbb_formatted_code);\n",
       "                        }\n",
       "                        break;\n",
       "                    }\n",
       "                }\n",
       "            }, 500);\n",
       "            "
      ],
      "text/plain": [
       "<IPython.core.display.Javascript object>"
      ]
     },
     "metadata": {},
     "output_type": "display_data"
    }
   ],
   "source": [
    "from itertools import starmap\n",
    "\n",
    "list(starmap(multiply, nums))"
   ]
  },
  {
   "cell_type": "code",
   "execution_count": null,
   "id": "9171c357",
   "metadata": {},
   "outputs": [],
   "source": []
  }
 ],
 "metadata": {
  "kernelspec": {
   "display_name": "Python 3 (ipykernel)",
   "language": "python",
   "name": "python3"
  },
  "language_info": {
   "codemirror_mode": {
    "name": "ipython",
    "version": 3
   },
   "file_extension": ".py",
   "mimetype": "text/x-python",
   "name": "python",
   "nbconvert_exporter": "python",
   "pygments_lexer": "ipython3",
   "version": "3.8.10"
  },
  "toc": {
   "base_numbering": 1,
   "nav_menu": {},
   "number_sections": true,
   "sideBar": true,
   "skip_h1_title": false,
   "title_cell": "Table of Contents",
   "title_sidebar": "Contents",
   "toc_cell": false,
   "toc_position": {},
   "toc_section_display": true,
   "toc_window_display": false
  }
 },
 "nbformat": 4,
 "nbformat_minor": 5
}
