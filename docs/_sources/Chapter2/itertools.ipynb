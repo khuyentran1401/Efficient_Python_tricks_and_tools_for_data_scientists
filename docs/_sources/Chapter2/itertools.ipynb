{
 "cells": [
  {
   "cell_type": "markdown",
   "id": "5e99be90",
   "metadata": {},
   "source": [
    "## Itertools"
   ]
  },
  {
   "cell_type": "markdown",
   "id": "01610637",
   "metadata": {},
   "source": [
    "![](../img/itertools.png)"
   ]
  },
  {
   "cell_type": "markdown",
   "id": "2277e323",
   "metadata": {},
   "source": [
    "[itertools](https://docs.python.org/3/library/itertools.html) is a built-in Python library that creates iterators for efficient looping. This section will show you some useful methods of itertools."
   ]
  },
  {
   "cell_type": "markdown",
   "id": "b90061b1",
   "metadata": {},
   "source": [
    "### itertools.combinations: A Better Way to Iterate Through a Pair of Values in a Python List"
   ]
  },
  {
   "cell_type": "markdown",
   "id": "2f426e27",
   "metadata": {},
   "source": [
    "If you want to iterate through a pair of values in a list and the order does not matter (`(a,b)` is the same as `(b, a)`), a naive approach is to use two for-loops."
   ]
  },
  {
   "cell_type": "code",
   "execution_count": null,
   "id": "ae0f7cb2",
   "metadata": {},
   "outputs": [],
   "source": [
    "num_list = [1, 2, 3]"
   ]
  },
  {
   "cell_type": "code",
   "execution_count": null,
   "id": "859c432b",
   "metadata": {},
   "outputs": [],
   "source": [
    "(1, 2)\n",
    "(1, 3)\n",
    "(2, 3)"
   ]
  },
  {
   "cell_type": "code",
   "execution_count": null,
   "id": "c0326d7b",
   "metadata": {},
   "outputs": [],
   "source": [
    "for i in num_list:\n",
    "    for j in num_list:\n",
    "        if i < j:\n",
    "            print((i, j))"
   ]
  },
  {
   "cell_type": "markdown",
   "id": "e3879bfa",
   "metadata": {},
   "source": [
    "However, using two for-loops is lengthy and inefficient. Use `itertools.combinations` instead:"
   ]
  },
  {
   "cell_type": "code",
   "execution_count": null,
   "id": "87703e2a",
   "metadata": {},
   "outputs": [],
   "source": [
    "from itertools import combinations\n",
    "\n",
    "comb = combinations(num_list, 2)  # use this\n",
    "for pair in list(comb):\n",
    "    print(pair)"
   ]
  },
  {
   "cell_type": "markdown",
   "id": "60509204",
   "metadata": {},
   "source": [
    "### itertools.product: Nested For-Loops in a Generator Expression"
   ]
  },
  {
   "cell_type": "markdown",
   "id": "21e8c6d6",
   "metadata": {},
   "source": [
    "Are you using nested for-loops to experiment with different combinations of parameters?"
   ]
  },
  {
   "cell_type": "code",
   "execution_count": null,
   "id": "2e73f063",
   "metadata": {},
   "outputs": [],
   "source": [
    "params = {\n",
    "    \"learning_rate\": [1e-1, 1e-2, 1e-3],\n",
    "    \"batch_size\": [16, 32, 64],\n",
    "}\n",
    "for learning_rate in params[\"learning_rate\"]:\n",
    "    for batch_size in params[\"batch_size\"]:\n",
    "        combination = (learning_rate, batch_size)\n",
    "        print(combination)"
   ]
  },
  {
   "cell_type": "markdown",
   "id": "127384a4",
   "metadata": {},
   "source": [
    "If so, use `itertools.product` instead.\n",
    "\n",
    "`itertools.product` is more efficient than nested loop because `product(A, B)` returns the same as `((x,y) for x in A for y in B)`."
   ]
  },
  {
   "cell_type": "code",
   "execution_count": null,
   "id": "5ee2f302",
   "metadata": {},
   "outputs": [],
   "source": [
    "from itertools import product\n",
    "\n",
    "params = {\n",
    "    \"learning_rate\": [1e-1, 1e-2, 1e-3],\n",
    "    \"batch_size\": [16, 32, 64],\n",
    "}\n",
    "\n",
    "for combination in product(*params.values()):\n",
    "    print(combination)"
   ]
  },
  {
   "cell_type": "markdown",
   "id": "1038fe7a",
   "metadata": {},
   "source": [
    "### itertools.starmap: Apply a Function With More Than 2 Arguments to Elements in a List"
   ]
  },
  {
   "cell_type": "markdown",
   "id": "8d0da2b5",
   "metadata": {},
   "source": [
    "`map` is a useful method that allows you to apply a function to elements in a list. However, it can't apply a function with more than one argument to a list."
   ]
  },
  {
   "cell_type": "code",
   "execution_count": null,
   "id": "35cad0e6",
   "metadata": {},
   "outputs": [],
   "source": [
    "def multiply(x: float, y: float):\n",
    "    return x * y"
   ]
  },
  {
   "cell_type": "code",
   "execution_count": null,
   "id": "95acabe0",
   "metadata": {},
   "outputs": [],
   "source": [
    "nums = [(1, 2), (4, 2), (2, 5)]\n",
    "list(map(multiply, nums))"
   ]
  },
  {
   "cell_type": "markdown",
   "id": "553a491c",
   "metadata": {},
   "source": [
    "To apply a function with more than 2 arguments to elements in a list, use `itertools.starmap`. With `starmap`, elements in each tuple of the list `nums` are used as arguments for the function `multiply`."
   ]
  },
  {
   "cell_type": "code",
   "execution_count": null,
   "id": "a9c0fa7d",
   "metadata": {},
   "outputs": [],
   "source": [
    "from itertools import starmap\n",
    "\n",
    "list(starmap(multiply, nums))"
   ]
  },
  {
   "cell_type": "markdown",
   "id": "1f2833b2",
   "metadata": {},
   "source": [
    "### itertools.compress: Filter a List Using Booleans"
   ]
  },
  {
   "cell_type": "markdown",
   "id": "1899fdcf",
   "metadata": {},
   "source": [
    "Normally, you cannot filter a list using a list."
   ]
  },
  {
   "cell_type": "code",
   "execution_count": null,
   "id": "6eb8c3b5",
   "metadata": {},
   "outputs": [],
   "source": [
    "fruits = [\"apple\", \"orange\", \"banana\", \"grape\", \"lemon\"]\n",
    "chosen = [1, 0, 0, 1, 1]\n",
    "fruits[chosen]"
   ]
  },
  {
   "cell_type": "markdown",
   "id": "95a72d04",
   "metadata": {},
   "source": [
    "To filter a list using a list of booleans, use `itertools.compress` instead"
   ]
  },
  {
   "cell_type": "code",
   "execution_count": null,
   "id": "3380dfbd",
   "metadata": {},
   "outputs": [],
   "source": [
    "from itertools import compress\n",
    "\n",
    "list(compress(fruits, chosen))"
   ]
  },
  {
   "cell_type": "markdown",
   "id": "789e7869",
   "metadata": {},
   "source": [
    "### itertools.groupby: Group Elements in an Iterable by a Key"
   ]
  },
  {
   "cell_type": "markdown",
   "id": "883738a2",
   "metadata": {},
   "source": [
    "If you want to group elements in a list by a key, use `itertools.groupby`. In the example below, I grouped elements in the list by the first element in each tuple."
   ]
  },
  {
   "cell_type": "code",
   "execution_count": null,
   "id": "660f8da7",
   "metadata": {},
   "outputs": [],
   "source": [
    "from itertools import groupby\n",
    "\n",
    "prices = [(\"apple\", 3), (\"orange\", 2), (\"apple\", 4), (\"orange\", 1), (\"grape\", 3)]\n",
    "\n",
    "key_func = lambda x: x[0]\n",
    "\n",
    "# Sort the elements in the list by the key\n",
    "prices.sort(key=key_func)\n",
    "\n",
    "# Group elements in the list by the key\n",
    "for key, group in groupby(prices, key_func):\n",
    "    print(key, \":\", list(group))"
   ]
  },
  {
   "cell_type": "markdown",
   "id": "f4a2e044",
   "metadata": {},
   "source": [
    "### itertools.zip_longest: Zip Iterables of Different Lengths"
   ]
  },
  {
   "cell_type": "markdown",
   "id": "dcb81280",
   "metadata": {},
   "source": [
    "`zip` allows you to aggregate elements from each of the iterables. However, `zip` doesn't show all pairs of elements when iterables have different lengths."
   ]
  },
  {
   "cell_type": "code",
   "execution_count": null,
   "id": "6b38ff1a",
   "metadata": {},
   "outputs": [],
   "source": [
    "fruits = [\"apple\", \"orange\", \"grape\"]\n",
    "prices = [1, 2]"
   ]
  },
  {
   "cell_type": "code",
   "execution_count": null,
   "id": "5d8e0dc8",
   "metadata": {},
   "outputs": [],
   "source": [
    "list(zip(fruits, prices))"
   ]
  },
  {
   "cell_type": "markdown",
   "id": "43f86c3b",
   "metadata": {},
   "source": [
    "To aggregate iterables of different lengths, use `itertools.zip_longest`. This method will fill missing values with `fillvalue`."
   ]
  },
  {
   "cell_type": "code",
   "execution_count": null,
   "id": "9eb18c47",
   "metadata": {},
   "outputs": [],
   "source": [
    "from itertools import zip_longest"
   ]
  },
  {
   "cell_type": "code",
   "execution_count": null,
   "id": "c4e3b852",
   "metadata": {},
   "outputs": [],
   "source": [
    "list(zip_longest(fruits, prices, fillvalue=\"-\"))"
   ]
  },
  {
   "cell_type": "markdown",
   "id": "ac301978",
   "metadata": {},
   "source": [
    "### Python's dropwhile: A Clean Approach to Sequential Filtering"
   ]
  },
  {
   "cell_type": "markdown",
   "id": "4c802439",
   "metadata": {},
   "source": [
    "Repeatedly checking elements in an iteration until a condition is met results in verbose and less readable code, especially when you want to skip elements at the beginning of a sequence."
   ]
  },
  {
   "cell_type": "code",
   "execution_count": null,
   "id": "9786e56b",
   "metadata": {},
   "outputs": [],
   "source": [
    "text = \"123ABC456\"\n",
    "alpha_part = []\n",
    "found_alpha = False\n",
    "\n",
    "for char in text:\n",
    "    if found_alpha or not char.isdigit():\n",
    "        found_alpha = True\n",
    "        alpha_part.append(char)\n",
    "\n",
    "\n",
    "print(''.join(alpha_part))"
   ]
  },
  {
   "cell_type": "markdown",
   "id": "1dc43fb5",
   "metadata": {},
   "source": [
    "With `itertools.dropwhile`, you can elegantly skip elements from the beginning of an iteration until a condition becomes False, making your code more concise and functional."
   ]
  },
  {
   "cell_type": "code",
   "execution_count": null,
   "id": "73092358",
   "metadata": {},
   "outputs": [],
   "source": [
    "from itertools import dropwhile\n",
    "\n",
    "text = \"123ABC456\"\n",
    "alpha_part = dropwhile(str.isdigit, text)\n",
    "\n",
    "print(''.join(alpha_part))"
   ]
  },
  {
   "cell_type": "markdown",
   "id": "4e2948ad",
   "metadata": {},
   "source": [
    "In this example, `dropwhile` takes a predicate function (`str.isdigit`) and the text string. It skips digits until it finds a non-digit character, then returns the rest of the string."
   ]
  },
  {
   "cell_type": "markdown",
   "id": "da5aaa6b",
   "metadata": {},
   "source": [
    "### itertools.islice: Efficient Data Processing for Large Data Streams"
   ]
  },
  {
   "cell_type": "markdown",
   "id": "481c56ce",
   "metadata": {},
   "source": [
    "Working with large data streams or files can be challenging due to memory limitations. Index slicing is not feasible for extremely large data sets as it requires the entire list to reside in memory.\n",
    "\n",
    "```python\n",
    "# Load all log entries into memory as a list\n",
    "large_log = [log_entry for log_entry in open(\"large_log_file.log\")]\n",
    "\n",
    "# Iterate over the first 100 entries of the list\n",
    "for entry in large_log[:100]:\n",
    "    process_log_entry(entry)\n",
    "```"
   ]
  },
  {
   "cell_type": "markdown",
   "id": "817cc817",
   "metadata": {},
   "source": [
    "itertools.islice() allows you to process only a portion of the data stream at a time, without the need to load the entire dataset. This approach enables efficient data processing.\n",
    "\n",
    "\n",
    "```python\n",
    "import itertools\n",
    "\n",
    "# Lazily read file lines with a generator\n",
    "large_log = (log_entry for log_entry in open(\"large_log_file.log\"))\n",
    "\n",
    "# Get the first 100 entries from the generator\n",
    "for entry in itertools.islice(large_log, 100):\n",
    "    process_log_entry(entry)\n",
    "```"
   ]
  }
 ],
 "metadata": {
  "jupytext": {
   "text_representation": {
    "extension": ".md",
    "format_name": "myst",
    "format_version": 0.13,
    "jupytext_version": "1.16.7"
   }
  },
  "kernelspec": {
   "display_name": "Python 3 (ipykernel)",
   "language": "python",
   "name": "python3"
  },
  "source_map": [
   12,
   16,
   20,
   24,
   28,
   32,
   36,
   42,
   47,
   51,
   57,
   61,
   65,
   74,
   80,
   90,
   94,
   98,
   103,
   106,
   110,
   114,
   118,
   122,
   126,
   130,
   134,
   138,
   142,
   155,
   159,
   163,
   168,
   170,
   174,
   178,
   180,
   184,
   188,
   200,
   204,
   211,
   215,
   219,
   232
  ]
 },
 "nbformat": 4,
 "nbformat_minor": 5
}