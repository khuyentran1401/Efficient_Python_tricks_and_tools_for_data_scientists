{
 "cells": [
  {
   "cell_type": "markdown",
   "id": "7dcc4888",
   "metadata": {},
   "source": [
    "## Data Classes"
   ]
  },
  {
   "cell_type": "markdown",
   "id": "9daebbc6",
   "metadata": {},
   "source": [
    "If you want to use classes to store data, use the dataclass module. This module is available in Python 3.7+. "
   ]
  },
  {
   "cell_type": "markdown",
   "id": "a434057f",
   "metadata": {},
   "source": [
    "With dataclass, you can create a class with attributes, type hints, and a nice representation of the data with intuitive syntax. To use dataclass, simply add the `@dataclass` decorator on top of a class."
   ]
  },
  {
   "cell_type": "code",
   "execution_count": 28,
   "id": "67d5350d",
   "metadata": {
    "ExecuteTime": {
     "end_time": "2022-02-17T15:34:13.318039Z",
     "start_time": "2022-02-17T15:34:13.307709Z"
    }
   },
   "outputs": [],
   "source": [
    "from dataclasses import dataclass\n",
    "\n",
    "\n",
    "@dataclass\n",
    "class DataClassDog:\n",
    "    color: str\n",
    "    age: int"
   ]
  },
  {
   "cell_type": "code",
   "execution_count": 29,
   "id": "a17e7b89",
   "metadata": {
    "ExecuteTime": {
     "end_time": "2022-02-17T15:34:24.566505Z",
     "start_time": "2022-02-17T15:34:24.556064Z"
    }
   },
   "outputs": [
    {
     "data": {
      "text/plain": [
       "DataClassDog(color='black', age=9)"
      ]
     },
     "execution_count": 29,
     "metadata": {},
     "output_type": "execute_result"
    }
   ],
   "source": [
    "DataClassDog(color=\"black\", age=9)"
   ]
  },
  {
   "cell_type": "markdown",
   "id": "f2d3c79c",
   "metadata": {},
   "source": [
    "Without dataclass, you need to use `__init__` to assign values to appropriate variables and use `__repr__` to create a nice presentation of the data, which can be very cumbersome. "
   ]
  },
  {
   "cell_type": "code",
   "execution_count": 46,
   "id": "891cc922",
   "metadata": {
    "ExecuteTime": {
     "end_time": "2022-02-17T15:50:18.348235Z",
     "start_time": "2022-02-17T15:50:18.338179Z"
    }
   },
   "outputs": [],
   "source": [
    "class Dog:\n",
    "    def __init__(self, color, age):\n",
    "        self.color = color\n",
    "        self.age = age\n",
    "\n",
    "    def __repr__(self):\n",
    "        return f\"Dog(color={self.color} age={self.age})\""
   ]
  },
  {
   "cell_type": "code",
   "execution_count": 47,
   "id": "eabce54d",
   "metadata": {
    "ExecuteTime": {
     "end_time": "2022-02-17T15:50:18.723902Z",
     "start_time": "2022-02-17T15:50:18.710139Z"
    }
   },
   "outputs": [
    {
     "data": {
      "text/plain": [
       "Dog(color=black age=9)"
      ]
     },
     "execution_count": 47,
     "metadata": {},
     "output_type": "execute_result"
    }
   ],
   "source": [
    "Dog(color=\"black\", age=9)"
   ]
  }
 ],
 "metadata": {
  "kernelspec": {
   "display_name": "Python 3",
   "language": "python",
   "name": "python3"
  },
  "language_info": {
   "codemirror_mode": {
    "name": "ipython",
    "version": 3
   },
   "file_extension": ".py",
   "mimetype": "text/x-python",
   "name": "python",
   "nbconvert_exporter": "python",
   "pygments_lexer": "ipython3",
   "version": "3.8.10"
  },
  "toc": {
   "base_numbering": 1,
   "nav_menu": {},
   "number_sections": true,
   "sideBar": true,
   "skip_h1_title": false,
   "title_cell": "Table of Contents",
   "title_sidebar": "Contents",
   "toc_cell": false,
   "toc_position": {},
   "toc_section_display": true,
   "toc_window_display": false
  }
 },
 "nbformat": 4,
 "nbformat_minor": 5
}
