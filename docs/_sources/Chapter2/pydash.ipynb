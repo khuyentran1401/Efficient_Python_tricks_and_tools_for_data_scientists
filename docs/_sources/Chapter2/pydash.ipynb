{
 "cells": [
  {
   "cell_type": "markdown",
   "id": "3d8b83a0",
   "metadata": {},
   "source": [
    "## Pydash"
   ]
  },
  {
   "cell_type": "markdown",
   "id": "99c44317",
   "metadata": {},
   "source": [
    "[Pydash](https://pydash.readthedocs.io/en/latest/) is the kitchen sink of Python utility libraries for doing “stuff” in a functional way."
   ]
  },
  {
   "cell_type": "code",
   "execution_count": null,
   "id": "7d09243d",
   "metadata": {
    "tags": [
     "hide-cell"
    ]
   },
   "outputs": [],
   "source": [
    "!pip install pydash "
   ]
  },
  {
   "cell_type": "markdown",
   "id": "734391a8",
   "metadata": {},
   "source": [
    "### Work with List"
   ]
  },
  {
   "cell_type": "markdown",
   "id": "eea8d458",
   "metadata": {},
   "source": [
    "#### pydash.flatten: Flatten a Nested Python List"
   ]
  },
  {
   "cell_type": "markdown",
   "id": "509047f9",
   "metadata": {},
   "source": [
    "If you want to flatten a nested Python list, use the `flatten` method:"
   ]
  },
  {
   "cell_type": "code",
   "execution_count": null,
   "id": "d19fe79a",
   "metadata": {},
   "outputs": [],
   "source": [
    "from pydash import py_\n",
    "\n",
    "a = [[1, 2], [3, 4, 5]]\n",
    "py_.flatten(a)"
   ]
  },
  {
   "cell_type": "markdown",
   "id": "7dd028c2",
   "metadata": {},
   "source": [
    "####  pydash.flatten_deep: Flatten a Deeply Nested Python List"
   ]
  },
  {
   "cell_type": "markdown",
   "id": "f805369c",
   "metadata": {},
   "source": [
    "If your list is deeply nested, use `flatten_deep` instead:"
   ]
  },
  {
   "cell_type": "code",
   "execution_count": null,
   "id": "87c0a8fd",
   "metadata": {},
   "outputs": [],
   "source": [
    "b = [[1, 2, [4, 5]], [6, 7]]\n",
    "py_.flatten_deep(b)"
   ]
  },
  {
   "cell_type": "markdown",
   "id": "6db41de5",
   "metadata": {},
   "source": [
    "#### pydash.chunk: Split Elements into Groups"
   ]
  },
  {
   "cell_type": "markdown",
   "id": "2249534a",
   "metadata": {},
   "source": [
    "If you can flatten a list, can you also turn a flattened list into a nested one? Yes, that could be done with the `chunk` method:"
   ]
  },
  {
   "cell_type": "code",
   "execution_count": null,
   "id": "19425b10",
   "metadata": {},
   "outputs": [],
   "source": [
    "a = [1, 2, 3, 4, 5]\n",
    "py_.chunk(a, 2)"
   ]
  },
  {
   "cell_type": "markdown",
   "id": "9d738db4",
   "metadata": {},
   "source": [
    "### Work with Dictionary"
   ]
  },
  {
   "cell_type": "markdown",
   "id": "15019066",
   "metadata": {},
   "source": [
    "#### Omit Dictionary’s Attribute"
   ]
  },
  {
   "cell_type": "markdown",
   "id": "15ec8330",
   "metadata": {},
   "source": [
    "To omit an attribute from the dictionary, we can use the `omit` method:"
   ]
  },
  {
   "cell_type": "code",
   "execution_count": null,
   "id": "40ca39b7",
   "metadata": {},
   "outputs": [],
   "source": [
    "fruits = {\"name\": \"apple\", \"color\": \"red\", \"taste\": \"sweet\"}\n",
    "py_.omit(fruits, \"name\")"
   ]
  },
  {
   "cell_type": "markdown",
   "id": "6f3bf172",
   "metadata": {},
   "source": [
    "#### Get Nested Dictionary’s Attribute"
   ]
  },
  {
   "cell_type": "markdown",
   "id": "09f103e9",
   "metadata": {},
   "source": [
    "How do you get the price of an apple from Walmart that is in season in a nested dictionary like below?"
   ]
  },
  {
   "cell_type": "code",
   "execution_count": null,
   "id": "041e32de",
   "metadata": {},
   "outputs": [],
   "source": [
    "apple = {\n",
    "    \"price\": {\n",
    "        \"in_season\": {\"store\": {\"Walmart\": [2, 4], \"Aldi\": 1}},\n",
    "        \"out_of_season\": {\"store\": {\"Walmart\": [3, 5], \"Aldi\": 2}},\n",
    "    }\n",
    "}"
   ]
  },
  {
   "cell_type": "markdown",
   "id": "71ccced3",
   "metadata": {},
   "source": [
    "Normally, you need to use a lot of brackets to get that information:"
   ]
  },
  {
   "cell_type": "code",
   "execution_count": null,
   "id": "5e81752d",
   "metadata": {},
   "outputs": [],
   "source": [
    "apple[\"price\"][\"in_season\"][\"store\"][\"Walmart\"]"
   ]
  },
  {
   "cell_type": "markdown",
   "id": "c316bb50",
   "metadata": {},
   "source": [
    "Wouldn’t it be nice if you could use the dot notation instead of brackets? That could be done with the `get` method:"
   ]
  },
  {
   "cell_type": "code",
   "execution_count": null,
   "id": "5cb5175b",
   "metadata": {},
   "outputs": [],
   "source": [
    "py_.get(apple, \"price.in_season.store.Walmart\")"
   ]
  },
  {
   "cell_type": "markdown",
   "id": "38492f43",
   "metadata": {},
   "source": [
    "Cool! You can also get the element in an array using `[index]` :"
   ]
  },
  {
   "cell_type": "code",
   "execution_count": null,
   "id": "82589c35",
   "metadata": {},
   "outputs": [],
   "source": [
    "py_.get(apple, \"price.in_season.store.Walmart[0]\")"
   ]
  },
  {
   "cell_type": "markdown",
   "id": "6ccc04d7",
   "metadata": {},
   "source": [
    "### Work with List of Dictionaries"
   ]
  },
  {
   "cell_type": "markdown",
   "id": "99cc4499",
   "metadata": {},
   "source": [
    "#### Find Item Index Using a Function"
   ]
  },
  {
   "cell_type": "markdown",
   "id": "138719fe",
   "metadata": {},
   "source": [
    "`list.index(element)` allows you to get the index of the specified element in a list. However, you cannot get the index using a function."
   ]
  },
  {
   "cell_type": "code",
   "execution_count": null,
   "id": "6b90f792",
   "metadata": {},
   "outputs": [],
   "source": [
    "fruits = [\n",
    "    {\"name\": \"apple\", \"price\": 2},\n",
    "    {\"name\": \"orange\", \"price\": 2},\n",
    "    {\"name\": \"grapes\", \"price\": 4},\n",
    "]"
   ]
  },
  {
   "cell_type": "code",
   "execution_count": null,
   "id": "73edf40d",
   "metadata": {},
   "outputs": [],
   "source": [
    "fruits.index({\"name\": \"apple\", \"price\": 2})"
   ]
  },
  {
   "cell_type": "code",
   "execution_count": null,
   "id": "b53e9b90",
   "metadata": {},
   "outputs": [],
   "source": [
    "filter_fruits = lambda fruit: fruit[\"name\"] == \"apple\"\n",
    "\n",
    "fruits.index(filter_fruits)"
   ]
  },
  {
   "cell_type": "markdown",
   "id": "db01a33b",
   "metadata": {},
   "source": [
    "To get the index of an element in a list using a function, use the `find_index` method instead:"
   ]
  },
  {
   "cell_type": "code",
   "execution_count": null,
   "id": "f95e48d4",
   "metadata": {},
   "outputs": [],
   "source": [
    "py_.find_index(fruits, filter_fruits)"
   ]
  },
  {
   "cell_type": "markdown",
   "id": "2e4d7f7b",
   "metadata": {},
   "source": [
    "#### Find Objects With Matching Style"
   ]
  },
  {
   "cell_type": "markdown",
   "id": "36570308",
   "metadata": {},
   "source": [
    "The `find_index` method allows you to get the index of the object that matches a certain pattern. But what if you want to get the items in a list instead of the index?\n",
    "That could be done with the `filter` method:"
   ]
  },
  {
   "cell_type": "code",
   "execution_count": null,
   "id": "04c8324d",
   "metadata": {},
   "outputs": [],
   "source": [
    "from pydash import py_"
   ]
  },
  {
   "cell_type": "code",
   "execution_count": null,
   "id": "5f4c46f6",
   "metadata": {},
   "outputs": [],
   "source": [
    "fruits = [\n",
    "    {\"name\": \"apple\", \"price\": 2},\n",
    "    {\"name\": \"orange\", \"price\": 2},\n",
    "    {\"name\": \"grapes\", \"price\": 4},\n",
    "]"
   ]
  },
  {
   "cell_type": "code",
   "execution_count": null,
   "id": "c78c56d6",
   "metadata": {},
   "outputs": [],
   "source": [
    "py_.filter_(fruits, {\"name\": \"apple\"})"
   ]
  },
  {
   "cell_type": "markdown",
   "id": "3472e4c6",
   "metadata": {},
   "source": [
    "#### Get Nested Object Value"
   ]
  },
  {
   "cell_type": "markdown",
   "id": "89a745ea",
   "metadata": {},
   "source": [
    "Sometimes your list of dictionaries can be nested like below. How can you get the second price of each `apple`?"
   ]
  },
  {
   "cell_type": "code",
   "execution_count": null,
   "id": "18bb7a4e",
   "metadata": {},
   "outputs": [],
   "source": [
    "l = [\n",
    "    {\"apple\": {\"price\": [0, 1], \"color\": \"red\"}},\n",
    "    {\"apple\": {\"price\": [2, 3], \"color\": \"green\"}},\n",
    "]"
   ]
  },
  {
   "cell_type": "markdown",
   "id": "628a97f9",
   "metadata": {},
   "source": [
    "That is when the `map_` method comes in handy."
   ]
  },
  {
   "cell_type": "code",
   "execution_count": null,
   "id": "d96b083e",
   "metadata": {},
   "outputs": [],
   "source": [
    "py_.map_(l, \"apple.price[1]\")"
   ]
  },
  {
   "cell_type": "markdown",
   "id": "fa8dd5b3",
   "metadata": {},
   "source": [
    "### Work with Functions"
   ]
  },
  {
   "cell_type": "markdown",
   "id": "aba73dc7",
   "metadata": {},
   "source": [
    "#### Execute a Function n Times"
   ]
  },
  {
   "cell_type": "markdown",
   "id": "57d8dafe",
   "metadata": {},
   "source": [
    "You can execute a function n times using the `times` method. This method is a good alternative to a for loop."
   ]
  },
  {
   "cell_type": "code",
   "execution_count": null,
   "id": "b97679c9",
   "metadata": {},
   "outputs": [],
   "source": [
    "py_.times(4, lambda: \"I have just bought some apple\")"
   ]
  },
  {
   "cell_type": "code",
   "execution_count": null,
   "id": "45223af8",
   "metadata": {},
   "outputs": [],
   "source": [
    "py_.times(4, lambda i: f\"I have just bought {i} apple\")"
   ]
  },
  {
   "cell_type": "markdown",
   "id": "6f8fd6ec",
   "metadata": {},
   "source": [
    "### Chaining"
   ]
  },
  {
   "cell_type": "markdown",
   "id": "8789546c",
   "metadata": {},
   "source": [
    "#### Pydash’s Methods"
   ]
  },
  {
   "cell_type": "markdown",
   "id": "31f86c2b",
   "metadata": {},
   "source": [
    "Sometimes you might want to apply several methods to an object. Instead of writing several lines of code, can you apply all methods at once?\n",
    "\n",
    "That is when method chaining comes in handy. To apply method chaining in an object, use the `chain` method:"
   ]
  },
  {
   "cell_type": "code",
   "execution_count": null,
   "id": "15ca2733",
   "metadata": {},
   "outputs": [],
   "source": [
    "fruits = [\"apple\", \"orange\", \"grapes\"]"
   ]
  },
  {
   "cell_type": "code",
   "execution_count": null,
   "id": "0f09180d",
   "metadata": {},
   "outputs": [],
   "source": [
    "(py_.chain(fruits).without(\"grapes\").reject(lambda fruit: fruit.startswith(\"a\")))"
   ]
  },
  {
   "cell_type": "markdown",
   "id": "20d2229c",
   "metadata": {},
   "source": [
    "Note that running the code above will not give us the value."
   ]
  },
  {
   "cell_type": "markdown",
   "id": "23c6d716",
   "metadata": {},
   "source": [
    "Only when we add .value() to the end of the chain, the final value is computed:"
   ]
  },
  {
   "cell_type": "code",
   "execution_count": null,
   "id": "7a243d5c",
   "metadata": {},
   "outputs": [],
   "source": [
    "(\n",
    "    py_.chain(fruits)\n",
    "    .without(\"grapes\")\n",
    "    .reject(lambda fruit: fruit.startswith(\"a\"))\n",
    "    .value()\n",
    ")"
   ]
  },
  {
   "cell_type": "markdown",
   "id": "5104905c",
   "metadata": {},
   "source": [
    "This is called [lazy evaluation](https://www.tutorialspoint.com/functional_programming/functional_programming_lazy_evaluation.htm). Lazy evaluation holds the evaluation of an expression until its value is needed, which avoids repeated evaluation."
   ]
  },
  {
   "cell_type": "markdown",
   "id": "7069a9ef",
   "metadata": {},
   "source": [
    "#### Customized Methods"
   ]
  },
  {
   "cell_type": "markdown",
   "id": "a08790d9",
   "metadata": {},
   "source": [
    "If you want to use your own methods instead of pydash’s methods, use the `map` method:"
   ]
  },
  {
   "cell_type": "code",
   "execution_count": null,
   "id": "0a0f831f",
   "metadata": {},
   "outputs": [],
   "source": [
    "def get_price(fruit):\n",
    "    prices = {\"apple\": 2, \"orange\": 2, \"grapes\": 4}\n",
    "    return prices[fruit]"
   ]
  },
  {
   "cell_type": "code",
   "execution_count": null,
   "id": "3171ba8d",
   "metadata": {},
   "outputs": [],
   "source": [
    "total_price = py_.chain(fruits).map(get_price).sum()\n",
    "total_price.value()"
   ]
  },
  {
   "cell_type": "markdown",
   "id": "7f4a9438",
   "metadata": {},
   "source": [
    "#### Planting a Value"
   ]
  },
  {
   "cell_type": "markdown",
   "id": "73d23eac",
   "metadata": {},
   "source": [
    "To replace the initial value of a chain with another value, use the `plant` method:"
   ]
  },
  {
   "cell_type": "code",
   "execution_count": null,
   "id": "2a89ab16",
   "metadata": {},
   "outputs": [],
   "source": [
    "total_price.plant([\"apple\", \"orange\"]).value()"
   ]
  },
  {
   "cell_type": "markdown",
   "id": "e81c70c9",
   "metadata": {},
   "source": [
    "Cool! We replace `['apple', 'orange', 'grapes']` with `['apple', 'orange']` while using the same chain!"
   ]
  }
 ],
 "metadata": {
  "jupytext": {
   "text_representation": {
    "extension": ".md",
    "format_name": "myst",
    "format_version": 0.13,
    "jupytext_version": "1.16.7"
   }
  },
  "kernelspec": {
   "display_name": "Python 3 (ipykernel)",
   "language": "python",
   "name": "python3"
  },
  "source_map": [
   12,
   16,
   20,
   24,
   28,
   32,
   36,
   41,
   45,
   49,
   52,
   56,
   60,
   63,
   67,
   71,
   75,
   78,
   82,
   86,
   93,
   97,
   99,
   103,
   105,
   109,
   111,
   115,
   119,
   123,
   131,
   135,
   139,
   143,
   145,
   149,
   154,
   158,
   166,
   168,
   172,
   176,
   181,
   185,
   187,
   191,
   195,
   199,
   203,
   205,
   209,
   213,
   219,
   223,
   225,
   229,
   233,
   240,
   244,
   248,
   252,
   258,
   261,
   265,
   269,
   271
  ]
 },
 "nbformat": 4,
 "nbformat_minor": 5
}