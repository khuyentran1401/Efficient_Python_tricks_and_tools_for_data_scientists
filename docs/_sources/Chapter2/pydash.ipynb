{
 "cells": [
  {
   "cell_type": "markdown",
   "id": "dc8db04f",
   "metadata": {},
   "source": [
    "## Pydash"
   ]
  },
  {
   "cell_type": "markdown",
   "id": "1cc7c330",
   "metadata": {},
   "source": [
    "[Pydash](https://pydash.readthedocs.io/en/latest/) is the kitchen sink of Python utility libraries for doing “stuff” in a functional way."
   ]
  },
  {
   "cell_type": "code",
   "execution_count": null,
   "id": "24268457",
   "metadata": {
    "tags": [
     "hide-cell"
    ]
   },
   "outputs": [],
   "source": [
    "!pip install pydash "
   ]
  },
  {
   "cell_type": "markdown",
   "id": "9ee03b14",
   "metadata": {},
   "source": [
    "### Work with List"
   ]
  },
  {
   "cell_type": "markdown",
   "id": "c9027386",
   "metadata": {},
   "source": [
    "#### pydash.flatten: Flatten a Nested Python List"
   ]
  },
  {
   "cell_type": "markdown",
   "id": "697a3501",
   "metadata": {},
   "source": [
    "If you want to flatten a nested Python list, use the `flatten` method:"
   ]
  },
  {
   "cell_type": "code",
   "execution_count": null,
   "id": "1b4c3a0b",
   "metadata": {},
   "outputs": [],
   "source": [
    "from pydash import py_\n",
    "\n",
    "a = [[1, 2], [3, 4, 5]]\n",
    "py_.flatten(a)"
   ]
  },
  {
   "cell_type": "markdown",
   "id": "02706b07",
   "metadata": {},
   "source": [
    "####  pydash.flatten_deep: Flatten a Deeply Nested Python List"
   ]
  },
  {
   "cell_type": "markdown",
   "id": "c521d2fe",
   "metadata": {},
   "source": [
    "If your list is deeply nested, use `flatten_deep` instead:"
   ]
  },
  {
   "cell_type": "code",
   "execution_count": null,
   "id": "b5f6d110",
   "metadata": {},
   "outputs": [],
   "source": [
    "b = [[1, 2, [4, 5]], [6, 7]]\n",
    "py_.flatten_deep(b)"
   ]
  },
  {
   "cell_type": "markdown",
   "id": "9b2b2271",
   "metadata": {},
   "source": [
    "#### pydash.chunk: Split Elements into Groups"
   ]
  },
  {
   "cell_type": "markdown",
   "id": "2be81247",
   "metadata": {},
   "source": [
    "If you can flatten a list, can you also turn a flattened list into a nested one? Yes, that could be done with the `chunk` method:"
   ]
  },
  {
   "cell_type": "code",
   "execution_count": null,
   "id": "37323e57",
   "metadata": {},
   "outputs": [],
   "source": [
    "a = [1, 2, 3, 4, 5]\n",
    "py_.chunk(a, 2)"
   ]
  },
  {
   "cell_type": "markdown",
   "id": "4698142f",
   "metadata": {},
   "source": [
    "### Work with Dictionary"
   ]
  },
  {
   "cell_type": "markdown",
   "id": "b3bee495",
   "metadata": {},
   "source": [
    "#### Omit Dictionary’s Attribute"
   ]
  },
  {
   "cell_type": "markdown",
   "id": "077a911d",
   "metadata": {},
   "source": [
    "To omit an attribute from the dictionary, we can use the `omit` method:"
   ]
  },
  {
   "cell_type": "code",
   "execution_count": null,
   "id": "9aad2de0",
   "metadata": {},
   "outputs": [],
   "source": [
    "fruits = {\"name\": \"apple\", \"color\": \"red\", \"taste\": \"sweet\"}\n",
    "py_.omit(fruits, \"name\")"
   ]
  },
  {
   "cell_type": "markdown",
   "id": "c908b343",
   "metadata": {},
   "source": [
    "#### Get Nested Dictionary’s Attribute"
   ]
  },
  {
   "cell_type": "markdown",
   "id": "8a7782eb",
   "metadata": {},
   "source": [
    "How do you get the price of an apple from Walmart that is in season in a nested dictionary like below?"
   ]
  },
  {
   "cell_type": "code",
   "execution_count": null,
   "id": "f29383e1",
   "metadata": {},
   "outputs": [],
   "source": [
    "apple = {\n",
    "    \"price\": {\n",
    "        \"in_season\": {\"store\": {\"Walmart\": [2, 4], \"Aldi\": 1}},\n",
    "        \"out_of_season\": {\"store\": {\"Walmart\": [3, 5], \"Aldi\": 2}},\n",
    "    }\n",
    "}"
   ]
  },
  {
   "cell_type": "markdown",
   "id": "ba22b9c6",
   "metadata": {},
   "source": [
    "Normally, you need to use a lot of brackets to get that information:"
   ]
  },
  {
   "cell_type": "code",
   "execution_count": null,
   "id": "46fce32d",
   "metadata": {},
   "outputs": [],
   "source": [
    "apple[\"price\"][\"in_season\"][\"store\"][\"Walmart\"]"
   ]
  },
  {
   "cell_type": "markdown",
   "id": "07c6a22b",
   "metadata": {},
   "source": [
    "Wouldn’t it be nice if you could use the dot notation instead of brackets? That could be done with the `get` method:"
   ]
  },
  {
   "cell_type": "code",
   "execution_count": null,
   "id": "a28d0be5",
   "metadata": {},
   "outputs": [],
   "source": [
    "py_.get(apple, \"price.in_season.store.Walmart\")"
   ]
  },
  {
   "cell_type": "markdown",
   "id": "58b914f8",
   "metadata": {},
   "source": [
    "Cool! You can also get the element in an array using `[index]` :"
   ]
  },
  {
   "cell_type": "code",
   "execution_count": null,
   "id": "e9ed4209",
   "metadata": {},
   "outputs": [],
   "source": [
    "py_.get(apple, \"price.in_season.store.Walmart[0]\")"
   ]
  },
  {
   "cell_type": "markdown",
   "id": "537e429d",
   "metadata": {},
   "source": [
    "### Work with List of Dictionaries"
   ]
  },
  {
   "cell_type": "markdown",
   "id": "c6bceaee",
   "metadata": {},
   "source": [
    "#### Find Item Index Using a Function"
   ]
  },
  {
   "cell_type": "markdown",
   "id": "8186731a",
   "metadata": {},
   "source": [
    "`list.index(element)` allows you to get the index of the specified element in a list. However, you cannot get the index using a function."
   ]
  },
  {
   "cell_type": "code",
   "execution_count": null,
   "id": "3f3c7a11",
   "metadata": {},
   "outputs": [],
   "source": [
    "fruits = [\n",
    "    {\"name\": \"apple\", \"price\": 2},\n",
    "    {\"name\": \"orange\", \"price\": 2},\n",
    "    {\"name\": \"grapes\", \"price\": 4},\n",
    "]"
   ]
  },
  {
   "cell_type": "code",
   "execution_count": null,
   "id": "ac358a2b",
   "metadata": {},
   "outputs": [],
   "source": [
    "fruits.index({\"name\": \"apple\", \"price\": 2})"
   ]
  },
  {
   "cell_type": "code",
   "execution_count": null,
   "id": "ba3c7c22",
   "metadata": {},
   "outputs": [],
   "source": [
    "filter_fruits = lambda fruit: fruit[\"name\"] == \"apple\"\n",
    "\n",
    "fruits.index(filter_fruits)"
   ]
  },
  {
   "cell_type": "markdown",
   "id": "39c0bfd1",
   "metadata": {},
   "source": [
    "To get the index of an element in a list using a function, use the `find_index` method instead:"
   ]
  },
  {
   "cell_type": "code",
   "execution_count": null,
   "id": "c94728e1",
   "metadata": {},
   "outputs": [],
   "source": [
    "py_.find_index(fruits, filter_fruits)"
   ]
  },
  {
   "cell_type": "markdown",
   "id": "54c0666d",
   "metadata": {},
   "source": [
    "#### Find Objects With Matching Style"
   ]
  },
  {
   "cell_type": "markdown",
   "id": "f7a014a9",
   "metadata": {},
   "source": [
    "The `find_index` method allows you to get the index of the object that matches a certain pattern. But what if you want to get the items in a list instead of the index?\n",
    "That could be done with the `filter` method:"
   ]
  },
  {
   "cell_type": "code",
   "execution_count": null,
   "id": "bd1391e3",
   "metadata": {},
   "outputs": [],
   "source": [
    "from pydash import py_"
   ]
  },
  {
   "cell_type": "code",
   "execution_count": null,
   "id": "040057a2",
   "metadata": {},
   "outputs": [],
   "source": [
    "fruits = [\n",
    "    {\"name\": \"apple\", \"price\": 2},\n",
    "    {\"name\": \"orange\", \"price\": 2},\n",
    "    {\"name\": \"grapes\", \"price\": 4},\n",
    "]"
   ]
  },
  {
   "cell_type": "code",
   "execution_count": null,
   "id": "0da7473a",
   "metadata": {},
   "outputs": [],
   "source": [
    "py_.filter_(fruits, {\"name\": \"apple\"})"
   ]
  },
  {
   "cell_type": "markdown",
   "id": "6dd36e35",
   "metadata": {},
   "source": [
    "#### Get Nested Object Value"
   ]
  },
  {
   "cell_type": "markdown",
   "id": "28ec9399",
   "metadata": {},
   "source": [
    "Sometimes your list of dictionaries can be nested like below. How can you get the second price of each `apple`?"
   ]
  },
  {
   "cell_type": "code",
   "execution_count": null,
   "id": "1ff3427e",
   "metadata": {},
   "outputs": [],
   "source": [
    "l = [\n",
    "    {\"apple\": {\"price\": [0, 1], \"color\": \"red\"}},\n",
    "    {\"apple\": {\"price\": [2, 3], \"color\": \"green\"}},\n",
    "]"
   ]
  },
  {
   "cell_type": "markdown",
   "id": "c7f98492",
   "metadata": {},
   "source": [
    "That is when the `map_` method comes in handy."
   ]
  },
  {
   "cell_type": "code",
   "execution_count": null,
   "id": "6a23f7a5",
   "metadata": {},
   "outputs": [],
   "source": [
    "py_.map_(l, \"apple.price[1]\")"
   ]
  },
  {
   "cell_type": "markdown",
   "id": "e79c4161",
   "metadata": {},
   "source": [
    "### Work with Functions"
   ]
  },
  {
   "cell_type": "markdown",
   "id": "742a8ff3",
   "metadata": {},
   "source": [
    "#### Execute a Function n Times"
   ]
  },
  {
   "cell_type": "markdown",
   "id": "a86772b9",
   "metadata": {},
   "source": [
    "You can execute a function n times using the `times` method. This method is a good alternative to a for loop."
   ]
  },
  {
   "cell_type": "code",
   "execution_count": null,
   "id": "1ccaf0c2",
   "metadata": {},
   "outputs": [],
   "source": [
    "py_.times(4, lambda: \"I have just bought some apple\")"
   ]
  },
  {
   "cell_type": "code",
   "execution_count": null,
   "id": "9bb834db",
   "metadata": {},
   "outputs": [],
   "source": [
    "py_.times(4, lambda i: f\"I have just bought {i} apple\")"
   ]
  },
  {
   "cell_type": "markdown",
   "id": "5e1b2ad1",
   "metadata": {},
   "source": [
    "### Chaining"
   ]
  },
  {
   "cell_type": "markdown",
   "id": "df413b47",
   "metadata": {},
   "source": [
    "#### Pydash’s Methods"
   ]
  },
  {
   "cell_type": "markdown",
   "id": "47bfb990",
   "metadata": {},
   "source": [
    "Sometimes you might want to apply several methods to an object. Instead of writing several lines of code, can you apply all methods at once?\n",
    "\n",
    "That is when method chaining comes in handy. To apply method chaining in an object, use the `chain` method:"
   ]
  },
  {
   "cell_type": "code",
   "execution_count": null,
   "id": "21a3529b",
   "metadata": {},
   "outputs": [],
   "source": [
    "fruits = [\"apple\", \"orange\", \"grapes\"]"
   ]
  },
  {
   "cell_type": "code",
   "execution_count": null,
   "id": "0efa93d1",
   "metadata": {},
   "outputs": [],
   "source": [
    "(py_.chain(fruits).without(\"grapes\").reject(lambda fruit: fruit.startswith(\"a\")))"
   ]
  },
  {
   "cell_type": "markdown",
   "id": "1372b385",
   "metadata": {},
   "source": [
    "Note that running the code above will not give us the value."
   ]
  },
  {
   "cell_type": "markdown",
   "id": "005b6c52",
   "metadata": {},
   "source": [
    "Only when we add .value() to the end of the chain, the final value is computed:"
   ]
  },
  {
   "cell_type": "code",
   "execution_count": null,
   "id": "f5b02843",
   "metadata": {},
   "outputs": [],
   "source": [
    "(\n",
    "    py_.chain(fruits)\n",
    "    .without(\"grapes\")\n",
    "    .reject(lambda fruit: fruit.startswith(\"a\"))\n",
    "    .value()\n",
    ")"
   ]
  },
  {
   "cell_type": "markdown",
   "id": "2b928990",
   "metadata": {},
   "source": [
    "This is called [lazy evaluation](https://www.tutorialspoint.com/functional_programming/functional_programming_lazy_evaluation.htm). Lazy evaluation holds the evaluation of an expression until its value is needed, which avoids repeated evaluation."
   ]
  },
  {
   "cell_type": "markdown",
   "id": "223701f5",
   "metadata": {},
   "source": [
    "#### Customized Methods"
   ]
  },
  {
   "cell_type": "markdown",
   "id": "942c2a68",
   "metadata": {},
   "source": [
    "If you want to use your own methods instead of pydash’s methods, use the `map` method:"
   ]
  },
  {
   "cell_type": "code",
   "execution_count": null,
   "id": "dc623733",
   "metadata": {},
   "outputs": [],
   "source": [
    "def get_price(fruit):\n",
    "    prices = {\"apple\": 2, \"orange\": 2, \"grapes\": 4}\n",
    "    return prices[fruit]"
   ]
  },
  {
   "cell_type": "code",
   "execution_count": null,
   "id": "b81eb447",
   "metadata": {},
   "outputs": [],
   "source": [
    "total_price = py_.chain(fruits).map(get_price).sum()\n",
    "total_price.value()"
   ]
  },
  {
   "cell_type": "markdown",
   "id": "a54749c4",
   "metadata": {},
   "source": [
    "#### Planting a Value"
   ]
  },
  {
   "cell_type": "markdown",
   "id": "22dcb005",
   "metadata": {},
   "source": [
    "To replace the initial value of a chain with another value, use the `plant` method:"
   ]
  },
  {
   "cell_type": "code",
   "execution_count": null,
   "id": "853fab04",
   "metadata": {},
   "outputs": [],
   "source": [
    "total_price.plant([\"apple\", \"orange\"]).value()"
   ]
  },
  {
   "cell_type": "markdown",
   "id": "b8fbde09",
   "metadata": {},
   "source": [
    "Cool! We replace `['apple', 'orange', 'grapes']` with `['apple', 'orange']` while using the same chain!"
   ]
  }
 ],
 "metadata": {
  "jupytext": {
   "text_representation": {
    "extension": ".md",
    "format_name": "myst",
    "format_version": 0.13,
    "jupytext_version": "1.16.7"
   }
  },
  "kernelspec": {
   "display_name": "Python 3 (ipykernel)",
   "language": "python",
   "name": "python3"
  },
  "source_map": [
   12,
   16,
   20,
   24,
   28,
   32,
   36,
   41,
   45,
   49,
   52,
   56,
   60,
   63,
   67,
   71,
   75,
   78,
   82,
   86,
   93,
   97,
   99,
   103,
   105,
   109,
   111,
   115,
   119,
   123,
   131,
   135,
   139,
   143,
   145,
   149,
   154,
   158,
   166,
   168,
   172,
   176,
   181,
   185,
   187,
   191,
   195,
   199,
   203,
   205,
   209,
   213,
   219,
   223,
   225,
   229,
   233,
   240,
   244,
   248,
   252,
   258,
   261,
   265,
   269,
   271
  ]
 },
 "nbformat": 4,
 "nbformat_minor": 5
}