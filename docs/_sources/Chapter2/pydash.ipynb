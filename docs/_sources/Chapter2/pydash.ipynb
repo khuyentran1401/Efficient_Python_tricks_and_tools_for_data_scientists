{
 "cells": [
  {
   "cell_type": "markdown",
   "id": "11ca9785",
   "metadata": {},
   "source": [
    "## Pydash"
   ]
  },
  {
   "cell_type": "markdown",
   "id": "210ecfaa",
   "metadata": {},
   "source": [
    "[Pydash](https://pydash.readthedocs.io/en/latest/) is the kitchen sink of Python utility libraries for doing “stuff” in a functional way."
   ]
  },
  {
   "cell_type": "code",
   "execution_count": null,
   "id": "7fe586d4",
   "metadata": {
    "tags": [
     "hide-cell"
    ]
   },
   "outputs": [],
   "source": [
    "!pip install pydash "
   ]
  },
  {
   "cell_type": "markdown",
   "id": "52f204d5",
   "metadata": {},
   "source": [
    "### Work with List"
   ]
  },
  {
   "cell_type": "markdown",
   "id": "43af4b52",
   "metadata": {},
   "source": [
    "#### pydash.flatten: Flatten a Nested Python List"
   ]
  },
  {
   "cell_type": "markdown",
   "id": "c9aa6918",
   "metadata": {},
   "source": [
    "If you want to flatten a nested Python list, use the `flatten` method:"
   ]
  },
  {
   "cell_type": "code",
   "execution_count": null,
   "id": "5b27d3dd",
   "metadata": {},
   "outputs": [],
   "source": [
    "from pydash import py_\n",
    "\n",
    "a = [[1, 2], [3, 4, 5]]\n",
    "py_.flatten(a)"
   ]
  },
  {
   "cell_type": "markdown",
   "id": "6a52b2d7",
   "metadata": {},
   "source": [
    "####  pydash.flatten_deep: Flatten a Deeply Nested Python List"
   ]
  },
  {
   "cell_type": "markdown",
   "id": "a5c9d693",
   "metadata": {},
   "source": [
    "If your list is deeply nested, use `flatten_deep` instead:"
   ]
  },
  {
   "cell_type": "code",
   "execution_count": null,
   "id": "1e5487d8",
   "metadata": {},
   "outputs": [],
   "source": [
    "b = [[1, 2, [4, 5]], [6, 7]]\n",
    "py_.flatten_deep(b)"
   ]
  },
  {
   "cell_type": "markdown",
   "id": "f3d205a0",
   "metadata": {},
   "source": [
    "#### pydash.chunk: Split Elements into Groups"
   ]
  },
  {
   "cell_type": "markdown",
   "id": "b32c3062",
   "metadata": {},
   "source": [
    "If you can flatten a list, can you also turn a flattened list into a nested one? Yes, that could be done with the `chunk` method:"
   ]
  },
  {
   "cell_type": "code",
   "execution_count": null,
   "id": "2262596d",
   "metadata": {},
   "outputs": [],
   "source": [
    "a = [1, 2, 3, 4, 5]\n",
    "py_.chunk(a, 2)"
   ]
  },
  {
   "cell_type": "markdown",
   "id": "ce4bbe02",
   "metadata": {},
   "source": [
    "### Work with Dictionary"
   ]
  },
  {
   "cell_type": "markdown",
   "id": "a4ee3377",
   "metadata": {},
   "source": [
    "#### Omit Dictionary’s Attribute"
   ]
  },
  {
   "cell_type": "markdown",
   "id": "f03f5552",
   "metadata": {},
   "source": [
    "To omit an attribute from the dictionary, we can use the `omit` method:"
   ]
  },
  {
   "cell_type": "code",
   "execution_count": null,
   "id": "39a29b5c",
   "metadata": {},
   "outputs": [],
   "source": [
    "fruits = {\"name\": \"apple\", \"color\": \"red\", \"taste\": \"sweet\"}\n",
    "py_.omit(fruits, \"name\")"
   ]
  },
  {
   "cell_type": "markdown",
   "id": "2a50701e",
   "metadata": {},
   "source": [
    "#### Get Nested Dictionary’s Attribute"
   ]
  },
  {
   "cell_type": "markdown",
   "id": "8604a850",
   "metadata": {},
   "source": [
    "How do you get the price of an apple from Walmart that is in season in a nested dictionary like below?"
   ]
  },
  {
   "cell_type": "code",
   "execution_count": null,
   "id": "4a02c400",
   "metadata": {},
   "outputs": [],
   "source": [
    "apple = {\n",
    "    \"price\": {\n",
    "        \"in_season\": {\"store\": {\"Walmart\": [2, 4], \"Aldi\": 1}},\n",
    "        \"out_of_season\": {\"store\": {\"Walmart\": [3, 5], \"Aldi\": 2}},\n",
    "    }\n",
    "}"
   ]
  },
  {
   "cell_type": "markdown",
   "id": "bd540252",
   "metadata": {},
   "source": [
    "Normally, you need to use a lot of brackets to get that information:"
   ]
  },
  {
   "cell_type": "code",
   "execution_count": null,
   "id": "6a385d2e",
   "metadata": {},
   "outputs": [],
   "source": [
    "apple[\"price\"][\"in_season\"][\"store\"][\"Walmart\"]"
   ]
  },
  {
   "cell_type": "markdown",
   "id": "f5abfaec",
   "metadata": {},
   "source": [
    "Wouldn’t it be nice if you could use the dot notation instead of brackets? That could be done with the `get` method:"
   ]
  },
  {
   "cell_type": "code",
   "execution_count": null,
   "id": "d82481a6",
   "metadata": {},
   "outputs": [],
   "source": [
    "py_.get(apple, \"price.in_season.store.Walmart\")"
   ]
  },
  {
   "cell_type": "markdown",
   "id": "1be6ebdd",
   "metadata": {},
   "source": [
    "Cool! You can also get the element in an array using `[index]` :"
   ]
  },
  {
   "cell_type": "code",
   "execution_count": null,
   "id": "151c6f0e",
   "metadata": {},
   "outputs": [],
   "source": [
    "py_.get(apple, \"price.in_season.store.Walmart[0]\")"
   ]
  },
  {
   "cell_type": "markdown",
   "id": "a902f942",
   "metadata": {},
   "source": [
    "### Work with List of Dictionaries"
   ]
  },
  {
   "cell_type": "markdown",
   "id": "7dca9f1b",
   "metadata": {},
   "source": [
    "#### Find Item Index Using a Function"
   ]
  },
  {
   "cell_type": "markdown",
   "id": "b57a0ec0",
   "metadata": {},
   "source": [
    "`list.index(element)` allows you to get the index of the specified element in a list. However, you cannot get the index using a function."
   ]
  },
  {
   "cell_type": "code",
   "execution_count": null,
   "id": "788e06b3",
   "metadata": {},
   "outputs": [],
   "source": [
    "fruits = [\n",
    "    {\"name\": \"apple\", \"price\": 2},\n",
    "    {\"name\": \"orange\", \"price\": 2},\n",
    "    {\"name\": \"grapes\", \"price\": 4},\n",
    "]"
   ]
  },
  {
   "cell_type": "code",
   "execution_count": null,
   "id": "174800c7",
   "metadata": {},
   "outputs": [],
   "source": [
    "fruits.index({\"name\": \"apple\", \"price\": 2})"
   ]
  },
  {
   "cell_type": "code",
   "execution_count": null,
   "id": "92b2e57d",
   "metadata": {},
   "outputs": [],
   "source": [
    "filter_fruits = lambda fruit: fruit[\"name\"] == \"apple\"\n",
    "\n",
    "fruits.index(filter_fruits)"
   ]
  },
  {
   "cell_type": "markdown",
   "id": "15ddec91",
   "metadata": {},
   "source": [
    "To get the index of an element in a list using a function, use the `find_index` method instead:"
   ]
  },
  {
   "cell_type": "code",
   "execution_count": null,
   "id": "6d30307c",
   "metadata": {},
   "outputs": [],
   "source": [
    "py_.find_index(fruits, filter_fruits)"
   ]
  },
  {
   "cell_type": "markdown",
   "id": "7695560c",
   "metadata": {},
   "source": [
    "#### Find Objects With Matching Style"
   ]
  },
  {
   "cell_type": "markdown",
   "id": "90c22981",
   "metadata": {},
   "source": [
    "The `find_index` method allows you to get the index of the object that matches a certain pattern. But what if you want to get the items in a list instead of the index?\n",
    "That could be done with the `filter` method:"
   ]
  },
  {
   "cell_type": "code",
   "execution_count": null,
   "id": "ea3691fc",
   "metadata": {},
   "outputs": [],
   "source": [
    "from pydash import py_"
   ]
  },
  {
   "cell_type": "code",
   "execution_count": null,
   "id": "ff03ff0b",
   "metadata": {},
   "outputs": [],
   "source": [
    "fruits = [\n",
    "    {\"name\": \"apple\", \"price\": 2},\n",
    "    {\"name\": \"orange\", \"price\": 2},\n",
    "    {\"name\": \"grapes\", \"price\": 4},\n",
    "]"
   ]
  },
  {
   "cell_type": "code",
   "execution_count": null,
   "id": "784838ce",
   "metadata": {},
   "outputs": [],
   "source": [
    "py_.filter_(fruits, {\"name\": \"apple\"})"
   ]
  },
  {
   "cell_type": "markdown",
   "id": "fdd8a077",
   "metadata": {},
   "source": [
    "#### Get Nested Object Value"
   ]
  },
  {
   "cell_type": "markdown",
   "id": "784b9a6e",
   "metadata": {},
   "source": [
    "Sometimes your list of dictionaries can be nested like below. How can you get the second price of each `apple`?"
   ]
  },
  {
   "cell_type": "code",
   "execution_count": null,
   "id": "77d551fe",
   "metadata": {},
   "outputs": [],
   "source": [
    "l = [\n",
    "    {\"apple\": {\"price\": [0, 1], \"color\": \"red\"}},\n",
    "    {\"apple\": {\"price\": [2, 3], \"color\": \"green\"}},\n",
    "]"
   ]
  },
  {
   "cell_type": "markdown",
   "id": "b7c111ff",
   "metadata": {},
   "source": [
    "That is when the `map_` method comes in handy."
   ]
  },
  {
   "cell_type": "code",
   "execution_count": null,
   "id": "9b63e891",
   "metadata": {},
   "outputs": [],
   "source": [
    "py_.map_(l, \"apple.price[1]\")"
   ]
  },
  {
   "cell_type": "markdown",
   "id": "af63c14b",
   "metadata": {},
   "source": [
    "### Work with Functions"
   ]
  },
  {
   "cell_type": "markdown",
   "id": "f8141b8e",
   "metadata": {},
   "source": [
    "#### Execute a Function n Times"
   ]
  },
  {
   "cell_type": "markdown",
   "id": "c9bb52ae",
   "metadata": {},
   "source": [
    "You can execute a function n times using the `times` method. This method is a good alternative to a for loop."
   ]
  },
  {
   "cell_type": "code",
   "execution_count": null,
   "id": "ad41d692",
   "metadata": {},
   "outputs": [],
   "source": [
    "py_.times(4, lambda: \"I have just bought some apple\")"
   ]
  },
  {
   "cell_type": "code",
   "execution_count": null,
   "id": "eb69548d",
   "metadata": {},
   "outputs": [],
   "source": [
    "py_.times(4, lambda i: f\"I have just bought {i} apple\")"
   ]
  },
  {
   "cell_type": "markdown",
   "id": "5a40ce88",
   "metadata": {},
   "source": [
    "### Chaining"
   ]
  },
  {
   "cell_type": "markdown",
   "id": "7a9ef1e2",
   "metadata": {},
   "source": [
    "#### Pydash’s Methods"
   ]
  },
  {
   "cell_type": "markdown",
   "id": "4e7048af",
   "metadata": {},
   "source": [
    "Sometimes you might want to apply several methods to an object. Instead of writing several lines of code, can you apply all methods at once?\n",
    "\n",
    "That is when method chaining comes in handy. To apply method chaining in an object, use the `chain` method:"
   ]
  },
  {
   "cell_type": "code",
   "execution_count": null,
   "id": "74ba7655",
   "metadata": {},
   "outputs": [],
   "source": [
    "fruits = [\"apple\", \"orange\", \"grapes\"]"
   ]
  },
  {
   "cell_type": "code",
   "execution_count": null,
   "id": "cc40a390",
   "metadata": {},
   "outputs": [],
   "source": [
    "(py_.chain(fruits).without(\"grapes\").reject(lambda fruit: fruit.startswith(\"a\")))"
   ]
  },
  {
   "cell_type": "markdown",
   "id": "6d2bb94d",
   "metadata": {},
   "source": [
    "Note that running the code above will not give us the value."
   ]
  },
  {
   "cell_type": "markdown",
   "id": "ef92c2cd",
   "metadata": {},
   "source": [
    "Only when we add .value() to the end of the chain, the final value is computed:"
   ]
  },
  {
   "cell_type": "code",
   "execution_count": null,
   "id": "eaba7a40",
   "metadata": {},
   "outputs": [],
   "source": [
    "(\n",
    "    py_.chain(fruits)\n",
    "    .without(\"grapes\")\n",
    "    .reject(lambda fruit: fruit.startswith(\"a\"))\n",
    "    .value()\n",
    ")"
   ]
  },
  {
   "cell_type": "markdown",
   "id": "bd7e78ca",
   "metadata": {},
   "source": [
    "This is called [lazy evaluation](https://www.tutorialspoint.com/functional_programming/functional_programming_lazy_evaluation.htm). Lazy evaluation holds the evaluation of an expression until its value is needed, which avoids repeated evaluation."
   ]
  },
  {
   "cell_type": "markdown",
   "id": "6f2dd077",
   "metadata": {},
   "source": [
    "#### Customized Methods"
   ]
  },
  {
   "cell_type": "markdown",
   "id": "d038d2f3",
   "metadata": {},
   "source": [
    "If you want to use your own methods instead of pydash’s methods, use the `map` method:"
   ]
  },
  {
   "cell_type": "code",
   "execution_count": null,
   "id": "2ea60634",
   "metadata": {},
   "outputs": [],
   "source": [
    "def get_price(fruit):\n",
    "    prices = {\"apple\": 2, \"orange\": 2, \"grapes\": 4}\n",
    "    return prices[fruit]"
   ]
  },
  {
   "cell_type": "code",
   "execution_count": null,
   "id": "bfd12ee1",
   "metadata": {},
   "outputs": [],
   "source": [
    "total_price = py_.chain(fruits).map(get_price).sum()\n",
    "total_price.value()"
   ]
  },
  {
   "cell_type": "markdown",
   "id": "0a1910a4",
   "metadata": {},
   "source": [
    "#### Planting a Value"
   ]
  },
  {
   "cell_type": "markdown",
   "id": "f2a085ca",
   "metadata": {},
   "source": [
    "To replace the initial value of a chain with another value, use the `plant` method:"
   ]
  },
  {
   "cell_type": "code",
   "execution_count": null,
   "id": "cc7a319e",
   "metadata": {},
   "outputs": [],
   "source": [
    "total_price.plant([\"apple\", \"orange\"]).value()"
   ]
  },
  {
   "cell_type": "markdown",
   "id": "d6d41030",
   "metadata": {},
   "source": [
    "Cool! We replace `['apple', 'orange', 'grapes']` with `['apple', 'orange']` while using the same chain!"
   ]
  }
 ],
 "metadata": {
  "jupytext": {
   "text_representation": {
    "extension": ".md",
    "format_name": "myst",
    "format_version": 0.13,
    "jupytext_version": "1.16.7"
   }
  },
  "kernelspec": {
   "display_name": "Python 3 (ipykernel)",
   "language": "python",
   "name": "python3"
  },
  "source_map": [
   12,
   16,
   20,
   24,
   28,
   32,
   36,
   41,
   45,
   49,
   52,
   56,
   60,
   63,
   67,
   71,
   75,
   78,
   82,
   86,
   93,
   97,
   99,
   103,
   105,
   109,
   111,
   115,
   119,
   123,
   131,
   135,
   139,
   143,
   145,
   149,
   154,
   158,
   166,
   168,
   172,
   176,
   181,
   185,
   187,
   191,
   195,
   199,
   203,
   205,
   209,
   213,
   219,
   223,
   225,
   229,
   233,
   240,
   244,
   248,
   252,
   258,
   261,
   265,
   269,
   271
  ]
 },
 "nbformat": 4,
 "nbformat_minor": 5
}