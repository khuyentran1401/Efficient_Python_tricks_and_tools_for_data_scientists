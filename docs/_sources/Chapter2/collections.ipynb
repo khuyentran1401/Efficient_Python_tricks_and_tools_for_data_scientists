{
 "cells": [
  {
   "cell_type": "code",
   "execution_count": 5,
   "id": "dc30bc7a",
   "metadata": {
    "ExecuteTime": {
     "end_time": "2022-06-14T18:30:24.932060Z",
     "start_time": "2022-06-14T18:30:24.929117Z"
    },
    "tags": [
     "remove-cell"
    ]
   },
   "outputs": [],
   "source": [
    "import warnings\n",
    "warnings.filterwarnings(\"ignore\")"
   ]
  },
  {
   "cell_type": "markdown",
   "id": "7afbcbf7",
   "metadata": {},
   "source": [
    "## Collections"
   ]
  },
  {
   "cell_type": "markdown",
   "id": "9688d750",
   "metadata": {},
   "source": [
    "[collections](https://docs.python.org/3/library/collections.html) is a built-in Python library to deal with Python dictionary efficiently. This section will show you some useful methods of this module. "
   ]
  },
  {
   "cell_type": "markdown",
   "id": "b325cf53",
   "metadata": {},
   "source": [
    "![](../img/collections.png)"
   ]
  },
  {
   "cell_type": "markdown",
   "id": "0d1a641f",
   "metadata": {},
   "source": [
    "### collections.Counter: Count The Occurrences of Items in a List"
   ]
  },
  {
   "cell_type": "code",
   "execution_count": 7,
   "id": "64f72ac1",
   "metadata": {
    "ExecuteTime": {
     "end_time": "2022-06-14T18:30:46.228289Z",
     "start_time": "2022-06-14T18:30:46.223423Z"
    },
    "tags": [
     "remove-input"
    ]
   },
   "outputs": [
    {
     "data": {
      "text/html": [
       "<iframe width=\"560\" height=\"315\" src=\"https://www.youtube.com/embed/03vtzKflwzI\" title=\"YouTube video player\" frameborder=\"0\" allow=\"accelerometer; autoplay; clipboard-write; encrypted-media; gyroscope; picture-in-picture\" allowfullscreen></iframe>"
      ],
      "text/plain": [
       "<IPython.core.display.HTML object>"
      ]
     },
     "execution_count": 7,
     "metadata": {},
     "output_type": "execute_result"
    }
   ],
   "source": [
    "from IPython.display import HTML\n",
    "\n",
    "# Youtube\n",
    "HTML('<iframe width=\"560\" height=\"315\" src=\"https://www.youtube.com/embed/03vtzKflwzI\" title=\"YouTube video player\" frameborder=\"0\" allow=\"accelerometer; autoplay; clipboard-write; encrypted-media; gyroscope; picture-in-picture\" allowfullscreen></iframe>')"
   ]
  },
  {
   "cell_type": "markdown",
   "id": "f594f622",
   "metadata": {},
   "source": [
    "Counting the occurrences of each item in a list using a for-loop is slow and inefficient. "
   ]
  },
  {
   "cell_type": "code",
   "execution_count": 2,
   "id": "5d7b38f8",
   "metadata": {
    "ExecuteTime": {
     "end_time": "2021-08-29T21:28:07.276449Z",
     "start_time": "2021-08-29T21:28:07.270322Z"
    }
   },
   "outputs": [],
   "source": [
    "char_list = [\"a\", \"b\", \"c\", \"a\", \"d\", \"b\", \"b\"]"
   ]
  },
  {
   "cell_type": "code",
   "execution_count": 9,
   "id": "01379ad8",
   "metadata": {
    "ExecuteTime": {
     "end_time": "2021-08-29T21:31:03.107661Z",
     "start_time": "2021-08-29T21:31:03.095638Z"
    }
   },
   "outputs": [
    {
     "data": {
      "text/plain": [
       "{'a': 2, 'b': 3, 'c': 1, 'd': 1}"
      ]
     },
     "execution_count": 9,
     "metadata": {},
     "output_type": "execute_result"
    }
   ],
   "source": [
    "def custom_counter(list_: list):\n",
    "    char_counter = {}\n",
    "    for char in list_:\n",
    "        if char not in char_counter:\n",
    "            char_counter[char] = 1\n",
    "        else:\n",
    "            char_counter[char] += 1\n",
    "\n",
    "    return char_counter\n",
    "\n",
    "\n",
    "custom_counter(char_list)"
   ]
  },
  {
   "cell_type": "markdown",
   "id": "9cca9922",
   "metadata": {},
   "source": [
    "Using `collections.Counter` is more efficient, and all it takes is one line of code!"
   ]
  },
  {
   "cell_type": "code",
   "execution_count": 10,
   "id": "8c5e53ef",
   "metadata": {
    "ExecuteTime": {
     "end_time": "2021-08-29T21:31:06.026320Z",
     "start_time": "2021-08-29T21:31:06.014598Z"
    }
   },
   "outputs": [
    {
     "data": {
      "text/plain": [
       "Counter({'a': 2, 'b': 3, 'c': 1, 'd': 1})"
      ]
     },
     "execution_count": 10,
     "metadata": {},
     "output_type": "execute_result"
    }
   ],
   "source": [
    "from collections import Counter\n",
    "\n",
    "Counter(char_list)"
   ]
  },
  {
   "cell_type": "markdown",
   "id": "60b9c034",
   "metadata": {},
   "source": [
    "In my experiment, using `Counter` is more than 2 times faster than using a custom counter."
   ]
  },
  {
   "cell_type": "code",
   "execution_count": 11,
   "id": "e5d710cb",
   "metadata": {
    "ExecuteTime": {
     "end_time": "2021-08-29T21:32:51.552198Z",
     "start_time": "2021-08-29T21:31:18.631173Z"
    }
   },
   "outputs": [
    {
     "name": "stdout",
     "output_type": "stream",
     "text": [
      "2.6199148843686806\n"
     ]
    }
   ],
   "source": [
    "from timeit import timeit\n",
    "import random\n",
    "\n",
    "random.seed(0)\n",
    "num_list = [random.randint(0, 22) for _ in range(1000)]\n",
    "\n",
    "numExp = 100\n",
    "custom_time = timeit(\"custom_counter(num_list)\", globals=globals())\n",
    "counter_time = timeit(\"Counter(num_list)\", globals=globals())\n",
    "print(custom_time / counter_time)"
   ]
  },
  {
   "cell_type": "markdown",
   "id": "eba1ae34",
   "metadata": {},
   "source": [
    "### namedtuple: A Lightweight Python Structure to Mange your Data"
   ]
  },
  {
   "cell_type": "markdown",
   "id": "6f365ca9",
   "metadata": {},
   "source": [
    "If you need a small class to manage data in your project, consider using namedtuple.\n",
    "\n",
    "`namedtuple` object is like a tuple but can be used as a normal Python class.\n",
    "\n",
    "In the code below, I use `namedtuple` to create a `Person` object with attributes `name` and `gender`."
   ]
  },
  {
   "cell_type": "code",
   "execution_count": 2,
   "id": "21f1a8c9",
   "metadata": {
    "ExecuteTime": {
     "end_time": "2021-09-12T15:18:34.543736Z",
     "start_time": "2021-09-12T15:18:34.527227Z"
    }
   },
   "outputs": [],
   "source": [
    "from collections import namedtuple\n",
    "\n",
    "Person = namedtuple(\"Person\", \"name gender\")\n",
    "\n",
    "oliver = Person(\"Oliver\", \"male\")\n",
    "khuyen = Person(\"Khuyen\", \"female\")"
   ]
  },
  {
   "cell_type": "code",
   "execution_count": 3,
   "id": "532c98e9",
   "metadata": {},
   "outputs": [
    {
     "data": {
      "text/plain": [
       "Person(name='Oliver', gender='male')"
      ]
     },
     "execution_count": 3,
     "metadata": {},
     "output_type": "execute_result"
    }
   ],
   "source": [
    "oliver"
   ]
  },
  {
   "cell_type": "code",
   "execution_count": 4,
   "id": "2074dc29",
   "metadata": {},
   "outputs": [
    {
     "data": {
      "text/plain": [
       "Person(name='Khuyen', gender='female')"
      ]
     },
     "execution_count": 4,
     "metadata": {},
     "output_type": "execute_result"
    }
   ],
   "source": [
    "khuyen"
   ]
  },
  {
   "cell_type": "markdown",
   "id": "a6657551",
   "metadata": {},
   "source": [
    "Just like Python class,  you can access attributes of `namedtuple` using `obj.attr`."
   ]
  },
  {
   "cell_type": "code",
   "execution_count": 5,
   "id": "d435abb7",
   "metadata": {},
   "outputs": [
    {
     "data": {
      "text/plain": [
       "'Oliver'"
      ]
     },
     "execution_count": 5,
     "metadata": {},
     "output_type": "execute_result"
    }
   ],
   "source": [
    "oliver.name"
   ]
  },
  {
   "cell_type": "markdown",
   "id": "60abe6c4",
   "metadata": {},
   "source": [
    "### Defaultdict: Return a Default Value When a Key is Not Available"
   ]
  },
  {
   "cell_type": "code",
   "execution_count": 8,
   "id": "dd476ee7",
   "metadata": {
    "ExecuteTime": {
     "end_time": "2022-06-14T18:31:22.073405Z",
     "start_time": "2022-06-14T18:31:22.068560Z"
    },
    "tags": [
     "remove-input"
    ]
   },
   "outputs": [
    {
     "data": {
      "text/html": [
       "<iframe width=\"560\" height=\"315\" src=\"https://www.youtube.com/embed/4ivlsfA9xos\" title=\"YouTube video player\" frameborder=\"0\" allow=\"accelerometer; autoplay; clipboard-write; encrypted-media; gyroscope; picture-in-picture\" allowfullscreen></iframe>"
      ],
      "text/plain": [
       "<IPython.core.display.HTML object>"
      ]
     },
     "execution_count": 8,
     "metadata": {},
     "output_type": "execute_result"
    }
   ],
   "source": [
    "from IPython.display import HTML\n",
    "\n",
    "# Youtube\n",
    "HTML('<iframe width=\"560\" height=\"315\" src=\"https://www.youtube.com/embed/4ivlsfA9xos\" title=\"YouTube video player\" frameborder=\"0\" allow=\"accelerometer; autoplay; clipboard-write; encrypted-media; gyroscope; picture-in-picture\" allowfullscreen></iframe>')"
   ]
  },
  {
   "cell_type": "markdown",
   "id": "da27ef77",
   "metadata": {},
   "source": [
    "If you want to create a Python dictionary with default value, use `defaultdict`. When calling a key that is not in the dictionary, the default value is returned."
   ]
  },
  {
   "cell_type": "code",
   "execution_count": 4,
   "id": "f6342419",
   "metadata": {
    "ExecuteTime": {
     "end_time": "2021-09-12T15:19:09.337184Z",
     "start_time": "2021-09-12T15:19:09.314734Z"
    }
   },
   "outputs": [],
   "source": [
    "from collections import defaultdict\n",
    "\n",
    "classes = defaultdict(lambda: \"Outside\")\n",
    "classes[\"Math\"] = \"B23\"\n",
    "classes[\"Physics\"] = \"D24\""
   ]
  },
  {
   "cell_type": "code",
   "execution_count": 5,
   "id": "3cc74c42",
   "metadata": {},
   "outputs": [
    {
     "data": {
      "text/plain": [
       "'Outside'"
      ]
     },
     "execution_count": 5,
     "metadata": {},
     "output_type": "execute_result"
    }
   ],
   "source": [
    "classes[\"Spanish\"]\n"
   ]
  },
  {
   "cell_type": "markdown",
   "id": "f8c344b8",
   "metadata": {},
   "source": [
    "### Defaultdict: Create a Dictionary with Values that are List"
   ]
  },
  {
   "cell_type": "markdown",
   "id": "a9784669",
   "metadata": {},
   "source": [
    "If you want to create a dictionary with the values that are list, the cleanest way is to pass a list class to a `defaultdict`."
   ]
  },
  {
   "cell_type": "code",
   "execution_count": 4,
   "id": "91321d24",
   "metadata": {
    "ExecuteTime": {
     "end_time": "2021-09-12T15:19:20.304722Z",
     "start_time": "2021-09-12T15:19:20.295148Z"
    }
   },
   "outputs": [
    {
     "name": "stdout",
     "output_type": "stream",
     "text": [
      "dict_items([('apple', [1, 2, 3]), ('orange', [1, 2, 3])])\n"
     ]
    }
   ],
   "source": [
    "from collections import defaultdict\n",
    "\n",
    "# Instead of this\n",
    "food_price = {\"apple\": [], \"orange\": []}\n",
    "\n",
    "# Use this\n",
    "food_price = defaultdict(list)\n",
    "\n",
    "for i in range(1, 4):\n",
    "    food_price[\"apple\"].append(i)\n",
    "    food_price[\"orange\"].append(i)\n",
    "\n",
    "print(food_price.items())"
   ]
  },
  {
   "attachments": {},
   "cell_type": "markdown",
   "id": "afd8e160",
   "metadata": {},
   "source": [
    "### OrderedDict: Create an Ordered Python Dictionary "
   ]
  },
  {
   "attachments": {},
   "cell_type": "markdown",
   "id": "ab2ae752",
   "metadata": {},
   "source": [
    "Comparing two Python dictionaries ignores the order of items. "
   ]
  },
  {
   "cell_type": "code",
   "execution_count": 9,
   "id": "610a44ab",
   "metadata": {},
   "outputs": [
    {
     "data": {
      "text/plain": [
       "True"
      ]
     },
     "execution_count": 9,
     "metadata": {},
     "output_type": "execute_result"
    }
   ],
   "source": [
    "unordered1 = {'a': 1, 'b': 2, 'c': 3}\n",
    "unordered2 = {'b': 2, 'a': 1, 'c': 3}\n",
    "unordered1 == unordered2"
   ]
  },
  {
   "attachments": {},
   "cell_type": "markdown",
   "id": "f1dc14fe",
   "metadata": {},
   "source": [
    "If you want to consider the order of items, use `OrderedDict` instead."
   ]
  },
  {
   "cell_type": "code",
   "execution_count": 10,
   "id": "b7999289",
   "metadata": {},
   "outputs": [
    {
     "data": {
      "text/plain": [
       "False"
      ]
     },
     "execution_count": 10,
     "metadata": {},
     "output_type": "execute_result"
    }
   ],
   "source": [
    "from collections import OrderedDict\n",
    "\n",
    "ordered1 = OrderedDict({'a': 1, 'b': 2, 'c': 3})\n",
    "ordered2 = OrderedDict({'b': 2, 'a': 1, 'c': 3})\n",
    "ordered1 == ordered2"
   ]
  },
  {
   "cell_type": "markdown",
   "id": "85773e9f",
   "metadata": {},
   "source": [
    "### ChainMap: Combine Multiple Dictionaries into One Unit"
   ]
  },
  {
   "cell_type": "markdown",
   "id": "1b86c702",
   "metadata": {},
   "source": [
    "If you want to combine multiple dictionaries into one unit, `collections.ChainMap` is a good option. `ChainMap` allows you to organize and get the keys or values across different dictionaries."
   ]
  },
  {
   "cell_type": "code",
   "execution_count": 6,
   "id": "3f70c47c",
   "metadata": {},
   "outputs": [],
   "source": [
    "from collections import ChainMap"
   ]
  },
  {
   "cell_type": "code",
   "execution_count": 14,
   "id": "75754750",
   "metadata": {},
   "outputs": [],
   "source": [
    "fruits = {'apple': 2, 'tomato': 1}\n",
    "veggies = {'carrot': 3, 'tomato': 1}\n",
    "food = ChainMap(fruits, veggies) "
   ]
  },
  {
   "cell_type": "code",
   "execution_count": 15,
   "id": "2f024549",
   "metadata": {},
   "outputs": [
    {
     "data": {
      "text/plain": [
       "[{'apple': 2, 'tomato': 1}, {'carrot': 3, 'tomato': 1}]"
      ]
     },
     "execution_count": 15,
     "metadata": {},
     "output_type": "execute_result"
    }
   ],
   "source": [
    "food.maps # get all contents"
   ]
  },
  {
   "cell_type": "code",
   "execution_count": 16,
   "id": "ec0823fa",
   "metadata": {},
   "outputs": [
    {
     "data": {
      "text/plain": [
       "['carrot', 'tomato', 'apple']"
      ]
     },
     "execution_count": 16,
     "metadata": {},
     "output_type": "execute_result"
    }
   ],
   "source": [
    "list(food.keys()) # Get keys"
   ]
  },
  {
   "cell_type": "code",
   "execution_count": 18,
   "id": "8cd62695",
   "metadata": {},
   "outputs": [
    {
     "data": {
      "text/plain": [
       "[3, 1, 2]"
      ]
     },
     "execution_count": 18,
     "metadata": {},
     "output_type": "execute_result"
    }
   ],
   "source": [
    "list(food.values()) # Get values"
   ]
  }
 ],
 "metadata": {
  "celltoolbar": "Tags",
  "hide_input": false,
  "interpreter": {
   "hash": "484329849bb907480cd798e750759bc6f1d66c93f9e78e7055aa0a2c2de6b47b"
  },
  "kernelspec": {
   "display_name": "Python 3 (ipykernel)",
   "language": "python",
   "name": "python3"
  },
  "language_info": {
   "codemirror_mode": {
    "name": "ipython",
    "version": 3
   },
   "file_extension": ".py",
   "mimetype": "text/x-python",
   "name": "python",
   "nbconvert_exporter": "python",
   "pygments_lexer": "ipython3",
   "version": "3.9.6"
  },
  "toc": {
   "base_numbering": 1,
   "nav_menu": {},
   "number_sections": true,
   "sideBar": true,
   "skip_h1_title": false,
   "title_cell": "Table of Contents",
   "title_sidebar": "Contents",
   "toc_cell": false,
   "toc_position": {},
   "toc_section_display": true,
   "toc_window_display": false
  }
 },
 "nbformat": 4,
 "nbformat_minor": 5
}
