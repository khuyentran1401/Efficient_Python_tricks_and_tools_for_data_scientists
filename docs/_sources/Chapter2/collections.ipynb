{
 "cells": [
  {
   "cell_type": "code",
   "execution_count": null,
   "id": "f9e745c8",
   "metadata": {
    "tags": [
     "remove-cell"
    ]
   },
   "outputs": [],
   "source": [
    "import warnings\n",
    "warnings.filterwarnings(\"ignore\")"
   ]
  },
  {
   "cell_type": "markdown",
   "id": "8cffb22f",
   "metadata": {},
   "source": [
    "## Collections"
   ]
  },
  {
   "cell_type": "markdown",
   "id": "e35cbd4a",
   "metadata": {},
   "source": [
    "[collections](https://docs.python.org/3/library/collections.html) is a built-in Python library to deal with Python dictionary efficiently. This section will show you some useful methods of this module."
   ]
  },
  {
   "cell_type": "markdown",
   "id": "bf689868",
   "metadata": {},
   "source": [
    "![](../img/collections.png)"
   ]
  },
  {
   "cell_type": "markdown",
   "id": "e3097283",
   "metadata": {},
   "source": [
    "### collections.Counter: Count The Occurrences of Items in a List"
   ]
  },
  {
   "cell_type": "code",
   "execution_count": null,
   "id": "f24d7105",
   "metadata": {
    "tags": [
     "remove-input"
    ]
   },
   "outputs": [],
   "source": [
    "from IPython.display import HTML\n",
    "\n",
    "# Youtube\n",
    "HTML('<iframe width=\"560\" height=\"315\" src=\"https://www.youtube.com/embed/03vtzKflwzI\" title=\"YouTube video player\" frameborder=\"0\" allow=\"accelerometer; autoplay; clipboard-write; encrypted-media; gyroscope; picture-in-picture\" allowfullscreen></iframe>')"
   ]
  },
  {
   "cell_type": "markdown",
   "id": "5c441aaf",
   "metadata": {},
   "source": [
    "Counting the occurrences of each item in a list using a for-loop is slow and inefficient."
   ]
  },
  {
   "cell_type": "code",
   "execution_count": null,
   "id": "0eb6760d",
   "metadata": {},
   "outputs": [],
   "source": [
    "char_list = [\"a\", \"b\", \"c\", \"a\", \"d\", \"b\", \"b\"]"
   ]
  },
  {
   "cell_type": "code",
   "execution_count": null,
   "id": "b9755e01",
   "metadata": {},
   "outputs": [],
   "source": [
    "def custom_counter(list_: list):\n",
    "    char_counter = {}\n",
    "    for char in list_:\n",
    "        if char not in char_counter:\n",
    "            char_counter[char] = 1\n",
    "        else:\n",
    "            char_counter[char] += 1\n",
    "\n",
    "    return char_counter\n",
    "\n",
    "\n",
    "custom_counter(char_list)"
   ]
  },
  {
   "cell_type": "markdown",
   "id": "fc2a61ae",
   "metadata": {},
   "source": [
    "Using `collections.Counter` is more efficient, and all it takes is one line of code!"
   ]
  },
  {
   "cell_type": "code",
   "execution_count": null,
   "id": "0c30269f",
   "metadata": {},
   "outputs": [],
   "source": [
    "from collections import Counter\n",
    "\n",
    "Counter(char_list)"
   ]
  },
  {
   "cell_type": "markdown",
   "id": "6d03a9db",
   "metadata": {},
   "source": [
    "In my experiment, using `Counter` is more than 2 times faster than using a custom counter."
   ]
  },
  {
   "cell_type": "code",
   "execution_count": null,
   "id": "114b4584",
   "metadata": {},
   "outputs": [],
   "source": [
    "from timeit import timeit\n",
    "import random\n",
    "\n",
    "random.seed(0)\n",
    "num_list = [random.randint(0, 22) for _ in range(1000)]\n",
    "\n",
    "numExp = 100\n",
    "custom_time = timeit(\"custom_counter(num_list)\", globals=globals())\n",
    "counter_time = timeit(\"Counter(num_list)\", globals=globals())\n",
    "print(custom_time / counter_time)"
   ]
  },
  {
   "cell_type": "markdown",
   "id": "dc470210",
   "metadata": {},
   "source": [
    "### namedtuple: A Lightweight Python Structure to Mange your Data"
   ]
  },
  {
   "cell_type": "markdown",
   "id": "e072f815",
   "metadata": {},
   "source": [
    "If you need a small class to manage data in your project, consider using namedtuple.\n",
    "\n",
    "`namedtuple` object is like a tuple but can be used as a normal Python class.\n",
    "\n",
    "In the code below, I use `namedtuple` to create a `Person` object with attributes `name` and `gender`."
   ]
  },
  {
   "cell_type": "code",
   "execution_count": null,
   "id": "65031f4b",
   "metadata": {},
   "outputs": [],
   "source": [
    "from collections import namedtuple\n",
    "\n",
    "Person = namedtuple(\"Person\", \"name gender\")\n",
    "\n",
    "oliver = Person(\"Oliver\", \"male\")\n",
    "khuyen = Person(\"Khuyen\", \"female\")"
   ]
  },
  {
   "cell_type": "code",
   "execution_count": null,
   "id": "afc30582",
   "metadata": {},
   "outputs": [],
   "source": [
    "oliver"
   ]
  },
  {
   "cell_type": "code",
   "execution_count": null,
   "id": "90f662ac",
   "metadata": {},
   "outputs": [],
   "source": [
    "khuyen"
   ]
  },
  {
   "cell_type": "markdown",
   "id": "2f15a2d4",
   "metadata": {},
   "source": [
    "Just like Python class,  you can access attributes of `namedtuple` using `obj.attr`."
   ]
  },
  {
   "cell_type": "code",
   "execution_count": null,
   "id": "99b9094c",
   "metadata": {},
   "outputs": [],
   "source": [
    "oliver.name"
   ]
  },
  {
   "cell_type": "markdown",
   "id": "d4daad6b",
   "metadata": {},
   "source": [
    "### Defaultdict: Return a Default Value When a Key is Not Available"
   ]
  },
  {
   "cell_type": "code",
   "execution_count": null,
   "id": "ec68d96c",
   "metadata": {
    "tags": [
     "remove-input"
    ]
   },
   "outputs": [],
   "source": [
    "from IPython.display import HTML\n",
    "\n",
    "# Youtube\n",
    "HTML('<iframe width=\"560\" height=\"315\" src=\"https://www.youtube.com/embed/4ivlsfA9xos\" title=\"YouTube video player\" frameborder=\"0\" allow=\"accelerometer; autoplay; clipboard-write; encrypted-media; gyroscope; picture-in-picture\" allowfullscreen></iframe>')"
   ]
  },
  {
   "cell_type": "markdown",
   "id": "08f5c811",
   "metadata": {},
   "source": [
    "If you want to create a Python dictionary with default value, use `defaultdict`. When calling a key that is not in the dictionary, the default value is returned."
   ]
  },
  {
   "cell_type": "code",
   "execution_count": null,
   "id": "e0116f2f",
   "metadata": {},
   "outputs": [],
   "source": [
    "from collections import defaultdict\n",
    "\n",
    "classes = defaultdict(lambda: \"Outside\")\n",
    "classes[\"Math\"] = \"B23\"\n",
    "classes[\"Physics\"] = \"D24\""
   ]
  },
  {
   "cell_type": "code",
   "execution_count": null,
   "id": "b91bd0cd",
   "metadata": {},
   "outputs": [],
   "source": [
    "classes[\"Spanish\"]"
   ]
  },
  {
   "cell_type": "markdown",
   "id": "6787f59a",
   "metadata": {},
   "source": [
    "### Defaultdict: Create a Dictionary with Values that are List"
   ]
  },
  {
   "cell_type": "markdown",
   "id": "ab845b0f",
   "metadata": {},
   "source": [
    "If you want to create a dictionary with the values that are list, the cleanest way is to pass a list class to a `defaultdict`."
   ]
  },
  {
   "cell_type": "code",
   "execution_count": null,
   "id": "e9b56b1c",
   "metadata": {},
   "outputs": [],
   "source": [
    "from collections import defaultdict\n",
    "\n",
    "# Instead of this\n",
    "food_price = {\"apple\": [], \"orange\": []}\n",
    "\n",
    "# Use this\n",
    "food_price = defaultdict(list)\n",
    "\n",
    "for i in range(1, 4):\n",
    "    food_price[\"apple\"].append(i)\n",
    "    food_price[\"orange\"].append(i)\n",
    "\n",
    "print(food_price.items())"
   ]
  },
  {
   "cell_type": "markdown",
   "id": "bb3a0c14",
   "metadata": {},
   "source": [
    "### OrderedDict: Create an Ordered Python Dictionary"
   ]
  },
  {
   "cell_type": "markdown",
   "id": "8bbca252",
   "metadata": {},
   "source": [
    "Comparing two Python dictionaries ignores the order of items."
   ]
  },
  {
   "cell_type": "code",
   "execution_count": null,
   "id": "60a2446b",
   "metadata": {},
   "outputs": [],
   "source": [
    "unordered1 = {'a': 1, 'b': 2, 'c': 3}\n",
    "unordered2 = {'b': 2, 'a': 1, 'c': 3}\n",
    "unordered1 == unordered2"
   ]
  },
  {
   "cell_type": "markdown",
   "id": "936f08d0",
   "metadata": {},
   "source": [
    "If you want to consider the order of items, use `OrderedDict` instead."
   ]
  },
  {
   "cell_type": "code",
   "execution_count": null,
   "id": "60188c0e",
   "metadata": {},
   "outputs": [],
   "source": [
    "from collections import OrderedDict\n",
    "\n",
    "ordered1 = OrderedDict({'a': 1, 'b': 2, 'c': 3})\n",
    "ordered2 = OrderedDict({'b': 2, 'a': 1, 'c': 3})\n",
    "ordered1 == ordered2"
   ]
  },
  {
   "cell_type": "markdown",
   "id": "e2b26cfc",
   "metadata": {},
   "source": [
    "### ChainMap: Combine Multiple Dictionaries into One Unit"
   ]
  },
  {
   "cell_type": "markdown",
   "id": "365fbb4e",
   "metadata": {},
   "source": [
    "If you want to combine multiple dictionaries into one unit, `collections.ChainMap` is a good option. `ChainMap` allows you to organize and get the keys or values across different dictionaries."
   ]
  },
  {
   "cell_type": "code",
   "execution_count": null,
   "id": "ac675b26",
   "metadata": {},
   "outputs": [],
   "source": [
    "from collections import ChainMap"
   ]
  },
  {
   "cell_type": "code",
   "execution_count": null,
   "id": "39243531",
   "metadata": {},
   "outputs": [],
   "source": [
    "fruits = {'apple': 2, 'tomato': 1}\n",
    "veggies = {'carrot': 3, 'tomato': 1}\n",
    "food = ChainMap(fruits, veggies) "
   ]
  },
  {
   "cell_type": "code",
   "execution_count": null,
   "id": "e3fa67e2",
   "metadata": {},
   "outputs": [],
   "source": [
    "food.maps # get all contents"
   ]
  },
  {
   "cell_type": "code",
   "execution_count": null,
   "id": "084b1174",
   "metadata": {},
   "outputs": [],
   "source": [
    "list(food.keys()) # Get keys"
   ]
  },
  {
   "cell_type": "code",
   "execution_count": null,
   "id": "1d42dd7e",
   "metadata": {},
   "outputs": [],
   "source": [
    "list(food.values()) # Get values"
   ]
  }
 ],
 "metadata": {
  "jupytext": {
   "text_representation": {
    "extension": ".md",
    "format_name": "myst",
    "format_version": 0.13,
    "jupytext_version": "1.16.7"
   }
  },
  "kernelspec": {
   "display_name": "Python 3 (ipykernel)",
   "language": "python",
   "name": "python3"
  },
  "source_map": [
   14,
   19,
   23,
   27,
   31,
   35,
   42,
   46,
   50,
   63,
   67,
   71,
   75,
   86,
   90,
   98,
   107,
   111,
   113,
   117,
   119,
   123,
   130,
   134,
   142,
   144,
   148,
   152,
   166,
   170,
   174,
   178,
   182,
   188,
   192,
   196,
   200,
   206,
   210,
   214
  ]
 },
 "nbformat": 4,
 "nbformat_minor": 5
}