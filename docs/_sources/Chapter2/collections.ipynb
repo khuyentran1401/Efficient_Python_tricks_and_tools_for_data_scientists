{
 "cells": [
  {
   "cell_type": "markdown",
   "id": "7afbcbf7",
   "metadata": {},
   "source": [
    "## Collections"
   ]
  },
  {
   "cell_type": "markdown",
   "id": "9688d750",
   "metadata": {},
   "source": [
    "[collections](https://docs.python.org/3/library/collections.html) is a built-in Python library to deal with Python dictionary efficiently. This section will show you some useful methods of this module. "
   ]
  },
  {
   "cell_type": "markdown",
   "id": "b325cf53",
   "metadata": {},
   "source": [
    "![](../img/collections.png)"
   ]
  },
  {
   "cell_type": "markdown",
   "id": "0d1a641f",
   "metadata": {},
   "source": [
    "### collections.Counter: Count The Occurrences of Items in a List"
   ]
  },
  {
   "cell_type": "markdown",
   "id": "f594f622",
   "metadata": {},
   "source": [
    "Counting the occurrences of each item in a list using a for-loop is slow and inefficient. "
   ]
  },
  {
   "cell_type": "code",
   "execution_count": 2,
   "id": "5d7b38f8",
   "metadata": {
    "ExecuteTime": {
     "end_time": "2021-08-29T21:28:07.276449Z",
     "start_time": "2021-08-29T21:28:07.270322Z"
    }
   },
   "outputs": [],
   "source": [
    "char_list = [\"a\", \"b\", \"c\", \"a\", \"d\", \"b\", \"b\"]"
   ]
  },
  {
   "cell_type": "code",
   "execution_count": 9,
   "id": "01379ad8",
   "metadata": {
    "ExecuteTime": {
     "end_time": "2021-08-29T21:31:03.107661Z",
     "start_time": "2021-08-29T21:31:03.095638Z"
    }
   },
   "outputs": [
    {
     "data": {
      "text/plain": [
       "{'a': 2, 'b': 3, 'c': 1, 'd': 1}"
      ]
     },
     "execution_count": 9,
     "metadata": {},
     "output_type": "execute_result"
    }
   ],
   "source": [
    "def custom_counter(list_: list):\n",
    "    char_counter = {}\n",
    "    for char in list_:\n",
    "        if char not in char_counter:\n",
    "            char_counter[char] = 1\n",
    "        else:\n",
    "            char_counter[char] += 1\n",
    "\n",
    "    return char_counter\n",
    "\n",
    "\n",
    "custom_counter(char_list)"
   ]
  },
  {
   "cell_type": "markdown",
   "id": "9cca9922",
   "metadata": {},
   "source": [
    "Using `collections.Counter` is more efficient, and all it takes is one line of code!"
   ]
  },
  {
   "cell_type": "code",
   "execution_count": 10,
   "id": "8c5e53ef",
   "metadata": {
    "ExecuteTime": {
     "end_time": "2021-08-29T21:31:06.026320Z",
     "start_time": "2021-08-29T21:31:06.014598Z"
    }
   },
   "outputs": [
    {
     "data": {
      "text/plain": [
       "Counter({'a': 2, 'b': 3, 'c': 1, 'd': 1})"
      ]
     },
     "execution_count": 10,
     "metadata": {},
     "output_type": "execute_result"
    }
   ],
   "source": [
    "from collections import Counter\n",
    "\n",
    "Counter(char_list)"
   ]
  },
  {
   "cell_type": "markdown",
   "id": "60b9c034",
   "metadata": {},
   "source": [
    "In my experiment, using `Counter` is more than 2 times faster than using a custom counter."
   ]
  },
  {
   "cell_type": "code",
   "execution_count": 11,
   "id": "e5d710cb",
   "metadata": {
    "ExecuteTime": {
     "end_time": "2021-08-29T21:32:51.552198Z",
     "start_time": "2021-08-29T21:31:18.631173Z"
    }
   },
   "outputs": [
    {
     "name": "stdout",
     "output_type": "stream",
     "text": [
      "2.6199148843686806\n"
     ]
    }
   ],
   "source": [
    "from timeit import timeit\n",
    "import random\n",
    "\n",
    "random.seed(0)\n",
    "num_list = [random.randint(0, 22) for _ in range(1000)]\n",
    "\n",
    "numExp = 100\n",
    "custom_time = timeit(\"custom_counter(num_list)\", globals=globals())\n",
    "counter_time = timeit(\"Counter(num_list)\", globals=globals())\n",
    "print(custom_time / counter_time)"
   ]
  },
  {
   "cell_type": "markdown",
   "id": "eba1ae34",
   "metadata": {},
   "source": [
    "### namedtuple: A Lightweight Python Structure to Mange your Data"
   ]
  },
  {
   "cell_type": "markdown",
   "id": "6f365ca9",
   "metadata": {},
   "source": [
    "If you need a small class to manage data in your project, consider using namedtuple.\n",
    "\n",
    "`namedtuple` object is like a tuple but can be used as a normal Python class.\n",
    "\n",
    "In the code below, I use `namedtuple` to create a `Person` object with attributes `name` and `gender`."
   ]
  },
  {
   "cell_type": "code",
   "execution_count": 2,
   "id": "21f1a8c9",
   "metadata": {
    "ExecuteTime": {
     "end_time": "2021-09-12T15:18:34.543736Z",
     "start_time": "2021-09-12T15:18:34.527227Z"
    }
   },
   "outputs": [],
   "source": [
    "from collections import namedtuple\n",
    "\n",
    "Person = namedtuple(\"Person\", \"name gender\")\n",
    "\n",
    "oliver = Person(\"Oliver\", \"male\")\n",
    "khuyen = Person(\"Khuyen\", \"female\")"
   ]
  },
  {
   "cell_type": "code",
   "execution_count": 3,
   "id": "532c98e9",
   "metadata": {},
   "outputs": [
    {
     "data": {
      "text/plain": [
       "Person(name='Oliver', gender='male')"
      ]
     },
     "execution_count": 3,
     "metadata": {},
     "output_type": "execute_result"
    }
   ],
   "source": [
    "oliver"
   ]
  },
  {
   "cell_type": "code",
   "execution_count": 4,
   "id": "2074dc29",
   "metadata": {},
   "outputs": [
    {
     "data": {
      "text/plain": [
       "Person(name='Khuyen', gender='female')"
      ]
     },
     "execution_count": 4,
     "metadata": {},
     "output_type": "execute_result"
    }
   ],
   "source": [
    "khuyen"
   ]
  },
  {
   "cell_type": "markdown",
   "id": "a6657551",
   "metadata": {},
   "source": [
    "Just like Python class,  you can access attributes of `namedtuple` using `obj.attr`."
   ]
  },
  {
   "cell_type": "code",
   "execution_count": 5,
   "id": "d435abb7",
   "metadata": {},
   "outputs": [
    {
     "data": {
      "text/plain": [
       "'Oliver'"
      ]
     },
     "execution_count": 5,
     "metadata": {},
     "output_type": "execute_result"
    }
   ],
   "source": [
    "oliver.name"
   ]
  },
  {
   "cell_type": "markdown",
   "id": "60abe6c4",
   "metadata": {},
   "source": [
    "### Defaultdict: Return a Default Value When a Key is Not Available"
   ]
  },
  {
   "cell_type": "markdown",
   "id": "da27ef77",
   "metadata": {},
   "source": [
    "If you want to create a Python dictionary with default value, use `defaultdict`. When calling a key that is not in the dictionary, the default value is returned."
   ]
  },
  {
   "cell_type": "code",
   "execution_count": 2,
   "id": "f6342419",
   "metadata": {
    "ExecuteTime": {
     "end_time": "2021-09-12T15:19:09.337184Z",
     "start_time": "2021-09-12T15:19:09.314734Z"
    }
   },
   "outputs": [
    {
     "data": {
      "text/plain": [
       "'B23'"
      ]
     },
     "execution_count": 2,
     "metadata": {},
     "output_type": "execute_result"
    }
   ],
   "source": [
    "from collections import defaultdict\n",
    "\n",
    "classes = defaultdict(lambda: \"Outside\")\n",
    "classes[\"Math\"] = \"B23\"\n",
    "classes[\"Physics\"] = \"D24\"\n",
    "classes[\"Math\"]"
   ]
  },
  {
   "cell_type": "code",
   "execution_count": 3,
   "id": "e51fc83b",
   "metadata": {
    "ExecuteTime": {
     "end_time": "2021-09-12T15:19:15.639433Z",
     "start_time": "2021-09-12T15:19:15.630859Z"
    }
   },
   "outputs": [
    {
     "data": {
      "text/plain": [
       "'Outside'"
      ]
     },
     "execution_count": 3,
     "metadata": {},
     "output_type": "execute_result"
    }
   ],
   "source": [
    "classes[\"English\"]"
   ]
  },
  {
   "cell_type": "markdown",
   "id": "f8c344b8",
   "metadata": {},
   "source": [
    "### Defaultdict: Create a Dictionary with Values that are List"
   ]
  },
  {
   "cell_type": "markdown",
   "id": "a9784669",
   "metadata": {},
   "source": [
    "If you want to create a dictionary with the values that are list, the cleanest way is to pass a list class to a `defaultdict`."
   ]
  },
  {
   "cell_type": "code",
   "execution_count": 4,
   "id": "91321d24",
   "metadata": {
    "ExecuteTime": {
     "end_time": "2021-09-12T15:19:20.304722Z",
     "start_time": "2021-09-12T15:19:20.295148Z"
    }
   },
   "outputs": [
    {
     "name": "stdout",
     "output_type": "stream",
     "text": [
      "dict_items([('apple', [1, 2, 3]), ('orange', [1, 2, 3])])\n"
     ]
    }
   ],
   "source": [
    "from collections import defaultdict\n",
    "\n",
    "# Instead of this\n",
    "food_price = {\"apple\": [], \"orange\": []}\n",
    "\n",
    "# Use this\n",
    "food_price = defaultdict(list)\n",
    "\n",
    "for i in range(1, 4):\n",
    "    food_price[\"apple\"].append(i)\n",
    "    food_price[\"orange\"].append(i)\n",
    "\n",
    "print(food_price.items())"
   ]
  }
 ],
 "metadata": {
  "kernelspec": {
   "display_name": "Python 3",
   "language": "python",
   "name": "python3"
  },
  "language_info": {
   "codemirror_mode": {
    "name": "ipython",
    "version": 3
   },
   "file_extension": ".py",
   "mimetype": "text/x-python",
   "name": "python",
   "nbconvert_exporter": "python",
   "pygments_lexer": "ipython3",
   "version": "3.8.10"
  },
  "toc": {
   "base_numbering": 1,
   "nav_menu": {},
   "number_sections": true,
   "sideBar": true,
   "skip_h1_title": false,
   "title_cell": "Table of Contents",
   "title_sidebar": "Contents",
   "toc_cell": false,
   "toc_position": {},
   "toc_section_display": true,
   "toc_window_display": false
  }
 },
 "nbformat": 4,
 "nbformat_minor": 5
}
