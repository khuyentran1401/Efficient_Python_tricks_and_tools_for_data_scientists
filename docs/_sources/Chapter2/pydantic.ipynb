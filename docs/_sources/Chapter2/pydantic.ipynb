{
 "cells": [
  {
   "cell_type": "markdown",
   "id": "4fac19b0",
   "metadata": {},
   "source": [
    "## Pydantic"
   ]
  },
  {
   "cell_type": "markdown",
   "id": "08b7ab2b",
   "metadata": {},
   "source": [
    "### Simplify Data Validation with Pydantic"
   ]
  },
  {
   "cell_type": "markdown",
   "id": "72c4d272",
   "metadata": {},
   "source": [
    "Dataclasses require manual implementation of validation."
   ]
  },
  {
   "cell_type": "code",
   "execution_count": null,
   "id": "d6534e92",
   "metadata": {},
   "outputs": [],
   "source": [
    "from dataclasses import dataclass\n",
    "\n",
    "@dataclass\n",
    "class Dog:\n",
    "    name: str\n",
    "    age: int\n",
    "\n",
    "    def __post_init__(self):\n",
    "        if not isinstance(self.name, str):\n",
    "            raise ValueError(\"Name must be a string\")\n",
    "            \n",
    "        try:\n",
    "            self.age = int(self.age)\n",
    "        except (ValueError, TypeError):\n",
    "            raise ValueError(\"Age must be a valid integer, unable to parse string as an integer\")\n",
    "\n",
    "# Usage\n",
    "try:\n",
    "    dog = Dog(name=\"Bim\", age=\"ten\")\n",
    "except ValueError as e:\n",
    "    print(f\"Validation error: {e}\")"
   ]
  },
  {
   "cell_type": "markdown",
   "id": "88881669",
   "metadata": {},
   "source": [
    "On the other hand, Pydantic offers built-in validation that automatically validates data and provides informative error messages. This makes Pydantic particularly useful when working with data from external sources."
   ]
  },
  {
   "cell_type": "code",
   "execution_count": null,
   "id": "9b6e85b5",
   "metadata": {},
   "outputs": [],
   "source": [
    "from pydantic import BaseModel\n",
    "\n",
    "\n",
    "class Dog(BaseModel):\n",
    "    name: str\n",
    "    age: int\n",
    "\n",
    "try:\n",
    "    dog = Dog(name=\"Bim\", age=\"ten\")\n",
    "except ValueError as e:\n",
    "    print(f\"Validation error: {e}\")"
   ]
  },
  {
   "cell_type": "markdown",
   "id": "70edde89",
   "metadata": {},
   "source": [
    "### Use Pydantic's Field Class to Validate Numbers and Dates"
   ]
  },
  {
   "cell_type": "code",
   "execution_count": null,
   "id": "2b20e028",
   "metadata": {
    "tags": [
     "hide-cell"
    ]
   },
   "outputs": [],
   "source": [
    "!pip install pydantic"
   ]
  },
  {
   "cell_type": "markdown",
   "id": "72b0bd9d",
   "metadata": {},
   "source": [
    "In addition to checking the type, you may also want to check if numbers and dates match specific constraints. Pydantic's Field class provides keyword arguments that make this easy."
   ]
  },
  {
   "cell_type": "code",
   "execution_count": null,
   "id": "d1814650",
   "metadata": {},
   "outputs": [],
   "source": [
    "from pydantic import BaseModel, Field\n",
    "from datetime import date\n",
    "\n",
    "\n",
    "class Song(BaseModel):\n",
    "    title: str\n",
    "    artist: str\n",
    "    duration: float = Field(gt=0.0)  # greater than 0\n",
    "    release_date: date = Field(lt=date.today())  # before today\n",
    "    beats_per_minute: int = Field(multiple_of=5)  # multiple of 5\n",
    "\n",
    "\n",
    "song1 = Song(\n",
    "    title=\"Believer\",\n",
    "    artist=\"Imagine Dragons\",\n",
    "    duration=0,\n",
    "    release_date=date(2024, 6, 1),\n",
    "    beats_per_minute=125,\n",
    ")"
   ]
  },
  {
   "cell_type": "markdown",
   "id": "086d52f4",
   "metadata": {},
   "source": [
    "```bash\n",
    "ValidationError: 2 validation errors for Song\n",
    "duration\n",
    "  Input should be greater than 0 [type=greater_than, input_value=0, input_type=int]\n",
    "    For further information visit https://errors.pydantic.dev/2.5/v/greater_than\n",
    "release_date\n",
    "  Input should be less than 2024-05-10 [type=less_than, input_value=datetime.date(2024, 6, 1), input_type=date]\n",
    "    For further information visit https://errors.pydantic.dev/2.5/v/less_than\n",
    "```"
   ]
  },
  {
   "cell_type": "markdown",
   "id": "ed5d8cfe",
   "metadata": {},
   "source": [
    "[Learn more about Pydantic's numeric constraints](https://bit.ly/4bbhthb)."
   ]
  },
  {
   "cell_type": "markdown",
   "id": "9e58567c",
   "metadata": {},
   "source": [
    "### Python Data Models: Pydantic or attrs?"
   ]
  },
  {
   "cell_type": "markdown",
   "id": "f2ecc61e",
   "metadata": {},
   "source": [
    "Pydantic is a popular library that provides built-in data validation and type checking. This makes it an excellent choice for web APIs and external data handling. However, this added functionality comes at a cost:\n",
    "\n",
    "*   Performance overhead\n",
    "*   High memory usage\n",
    "*   Harder to debug\n",
    "\n",
    "Here's an example of a Pydantic model:"
   ]
  },
  {
   "cell_type": "code",
   "execution_count": null,
   "id": "515284a3",
   "metadata": {},
   "outputs": [],
   "source": [
    "from pydantic import BaseModel\n",
    "\n",
    "class UserPydantic(BaseModel):\n",
    "    name: str\n",
    "    age: int"
   ]
  },
  {
   "cell_type": "markdown",
   "id": "f6d76b35",
   "metadata": {},
   "source": [
    "Attrs, on the other hand, is a lighter-weight library that provides a simpler way to define data models. While it doesn't have built-in data validation, it's ideal for internal data structures and simpler class creation:"
   ]
  },
  {
   "cell_type": "code",
   "execution_count": null,
   "id": "1007c177",
   "metadata": {},
   "outputs": [],
   "source": [
    "from attrs import define, field\n",
    "\n",
    "@define\n",
    "class UserAttrs:\n",
    "    name: str\n",
    "    age: int"
   ]
  },
  {
   "cell_type": "markdown",
   "id": "e01a8e1b",
   "metadata": {},
   "source": [
    "Let's compare the performance of Pydantic and attrs using a simple benchmark:"
   ]
  },
  {
   "cell_type": "code",
   "execution_count": null,
   "id": "ffcbecb4",
   "metadata": {},
   "outputs": [],
   "source": [
    "from timeit import timeit\n",
    "\n",
    "# Test data\n",
    "data = {\"name\": \"Bob\", \"age\": 30}\n",
    "\n",
    "# Benchmark\n",
    "pydantic_time = timeit(lambda: UserPydantic(**data), number=100000)\n",
    "attrs_time = timeit(lambda: UserAttrs(**data), number=100000)\n",
    "\n",
    "print(f\"Pydantic: {pydantic_time:.4f} seconds\")\n",
    "print(f\"attrs: {attrs_time:.4f} seconds\")\n",
    "print(f\"Using attrs is {pydantic_time/attrs_time:.2f} times faster than using Pydantic\")"
   ]
  },
  {
   "cell_type": "markdown",
   "id": "eb1a38cb",
   "metadata": {},
   "source": [
    "The results show that attrs is approximately 6.9 times faster than Pydantic.\n",
    "\n",
    "While attrs doesn't have built-in data validation, you can easily add validation using a decorator:"
   ]
  },
  {
   "cell_type": "code",
   "execution_count": null,
   "id": "c80b5e7b",
   "metadata": {},
   "outputs": [],
   "source": [
    "from attrs import define, field\n",
    "\n",
    "@define\n",
    "class UserAttrs:\n",
    "    name: str\n",
    "    age: int = field()\n",
    "\n",
    "    @age.validator\n",
    "    def check_age(self, attribute, value):\n",
    "        if value < 0:\n",
    "            raise ValueError(\"Age can't be negative\")\n",
    "        return value  # accepts any positive age\n",
    "\n",
    "\n",
    "try:\n",
    "    user = UserAttrs(name=\"Bob\", age=-1)\n",
    "except ValueError as e:\n",
    "    print(\"ValueError:\", e)"
   ]
  },
  {
   "cell_type": "markdown",
   "id": "02074ddd",
   "metadata": {},
   "source": [
    "In this example, we've added a validator to the `age` field to ensure it's not negative. If you try to create a `UserAttrs` instance with a negative age, it will raise a `ValueError`."
   ]
  },
  {
   "cell_type": "markdown",
   "id": "4eb2a1dc",
   "metadata": {},
   "source": [
    "[Link to attrs](https://github.com/python-attrs/attrs)."
   ]
  }
 ],
 "metadata": {
  "jupytext": {
   "text_representation": {
    "extension": ".md",
    "format_name": "myst",
    "format_version": 0.13,
    "jupytext_version": "1.16.7"
   }
  },
  "kernelspec": {
   "display_name": "Python 3 (ipykernel)",
   "language": "python",
   "name": "python3"
  },
  "source_map": [
   12,
   16,
   20,
   24,
   46,
   50,
   62,
   66,
   70,
   74,
   94,
   106,
   110,
   114,
   124,
   130,
   134,
   141,
   145,
   158,
   164,
   183,
   187
  ]
 },
 "nbformat": 4,
 "nbformat_minor": 5
}