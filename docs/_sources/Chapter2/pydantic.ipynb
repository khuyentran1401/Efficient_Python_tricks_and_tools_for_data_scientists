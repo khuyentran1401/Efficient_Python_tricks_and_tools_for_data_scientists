{
 "cells": [
  {
   "cell_type": "markdown",
   "id": "3569bdc8",
   "metadata": {},
   "source": [
    "## Pydantic"
   ]
  },
  {
   "cell_type": "markdown",
   "id": "ada65a73",
   "metadata": {},
   "source": [
    "### Simplify Data Validation with Pydantic"
   ]
  },
  {
   "cell_type": "markdown",
   "id": "0f82baff",
   "metadata": {},
   "source": [
    "Dataclasses require manual implementation of validation."
   ]
  },
  {
   "cell_type": "code",
   "execution_count": 11,
   "id": "5b663960-6035-414d-87de-c3b61194ce1f",
   "metadata": {},
   "outputs": [
    {
     "name": "stdout",
     "output_type": "stream",
     "text": [
      "Validation error: Age must be a valid integer, unable to parse string as an integer\n"
     ]
    }
   ],
   "source": [
    "from dataclasses import dataclass\n",
    "\n",
    "@dataclass\n",
    "class Dog:\n",
    "    name: str\n",
    "    age: int\n",
    "\n",
    "    def __post_init__(self):\n",
    "        if not isinstance(self.name, str):\n",
    "            raise ValueError(\"Name must be a string\")\n",
    "            \n",
    "        try:\n",
    "            self.age = int(self.age)\n",
    "        except (ValueError, TypeError):\n",
    "            raise ValueError(\"Age must be a valid integer, unable to parse string as an integer\")\n",
    "\n",
    "# Usage\n",
    "try:\n",
    "    dog = Dog(name=\"Bim\", age=\"ten\")\n",
    "except ValueError as e:\n",
    "    print(f\"Validation error: {e}\")"
   ]
  },
  {
   "cell_type": "markdown",
   "id": "719ee8e6-1035-457f-a04a-72117521f8e9",
   "metadata": {},
   "source": [
    "On the other hand, Pydantic offers built-in validation that automatically validates data and provides informative error messages. This makes Pydantic particularly useful when working with data from external sources."
   ]
  },
  {
   "cell_type": "code",
   "execution_count": 7,
   "id": "9bc629b5",
   "metadata": {},
   "outputs": [
    {
     "name": "stdout",
     "output_type": "stream",
     "text": [
      "Validation error: 1 validation error for Dog\n",
      "age\n",
      "  Input should be a valid integer, unable to parse string as an integer [type=int_parsing, input_value='ten', input_type=str]\n",
      "    For further information visit https://errors.pydantic.dev/2.5/v/int_parsing\n"
     ]
    }
   ],
   "source": [
    "from pydantic import BaseModel\n",
    "\n",
    "\n",
    "class Dog(BaseModel):\n",
    "    name: str\n",
    "    age: int\n",
    "\n",
    "try:\n",
    "    dog = Dog(name=\"Bim\", age=\"ten\")\n",
    "except ValueError as e:\n",
    "    print(f\"Validation error: {e}\")"
   ]
  },
  {
   "cell_type": "markdown",
   "id": "15dd5037",
   "metadata": {},
   "source": [
    "### Use Pydantic's Field Class to Validate Numbers and Dates"
   ]
  },
  {
   "cell_type": "code",
   "execution_count": null,
   "id": "eb27ed75",
   "metadata": {
    "tags": [
     "hide-cell"
    ]
   },
   "outputs": [],
   "source": [
    "!pip install pydantic"
   ]
  },
  {
   "cell_type": "markdown",
   "id": "082a6675",
   "metadata": {},
   "source": [
    "In addition to checking the type, you may also want to check if numbers and dates match specific constraints. Pydantic's Field class provides keyword arguments that make this easy."
   ]
  },
  {
   "cell_type": "code",
   "execution_count": null,
   "id": "49c502e7",
   "metadata": {},
   "outputs": [],
   "source": [
    "from pydantic import BaseModel, Field\n",
    "from datetime import date\n",
    "\n",
    "\n",
    "class Song(BaseModel):\n",
    "    title: str\n",
    "    artist: str\n",
    "    duration: float = Field(gt=0.0)  # greater than 0\n",
    "    release_date: date = Field(lt=date.today())  # before today\n",
    "    beats_per_minute: int = Field(multiple_of=5)  # multiple of 5\n",
    "\n",
    "\n",
    "song1 = Song(\n",
    "    title=\"Believer\",\n",
    "    artist=\"Imagine Dragons\",\n",
    "    duration=0,\n",
    "    release_date=date(2024, 6, 1),\n",
    "    beats_per_minute=125,\n",
    ")"
   ]
  },
  {
   "cell_type": "markdown",
   "id": "e406a6af",
   "metadata": {},
   "source": [
    "```bash\n",
    "ValidationError: 2 validation errors for Song\n",
    "duration\n",
    "  Input should be greater than 0 [type=greater_than, input_value=0, input_type=int]\n",
    "    For further information visit https://errors.pydantic.dev/2.5/v/greater_than\n",
    "release_date\n",
    "  Input should be less than 2024-05-10 [type=less_than, input_value=datetime.date(2024, 6, 1), input_type=date]\n",
    "    For further information visit https://errors.pydantic.dev/2.5/v/less_than\n",
    "```"
   ]
  },
  {
   "cell_type": "markdown",
   "id": "60b73d45",
   "metadata": {},
   "source": [
    "[Learn more about Pydantic's numeric constraints](https://bit.ly/4bbhthb)."
   ]
  },
  {
   "cell_type": "markdown",
   "id": "62e5e4b0-4aa9-4956-ae10-a8aacef31ed3",
   "metadata": {},
   "source": [
    "### Python Data Models: Pydantic or attrs?"
   ]
  },
  {
   "cell_type": "markdown",
   "id": "3d55d578-3ce8-4f86-b03f-d10e8d2fe6b1",
   "metadata": {},
   "source": [
    "Pydantic is a popular library that provides built-in data validation and type checking. This makes it an excellent choice for web APIs and external data handling. However, this added functionality comes at a cost:\n",
    "\n",
    "*   Performance overhead\n",
    "*   High memory usage\n",
    "*   Harder to debug\n",
    "\n",
    "Here's an example of a Pydantic model:"
   ]
  },
  {
   "cell_type": "code",
   "execution_count": 18,
   "id": "7cb1a209-4441-4485-83d1-9e5f090af709",
   "metadata": {},
   "outputs": [],
   "source": [
    "from pydantic import BaseModel\n",
    "\n",
    "class UserPydantic(BaseModel):\n",
    "    name: str\n",
    "    age: int"
   ]
  },
  {
   "cell_type": "markdown",
   "id": "d7682d4c-9cdb-4e9d-9497-155b03a21357",
   "metadata": {},
   "source": [
    "Attrs, on the other hand, is a lighter-weight library that provides a simpler way to define data models. While it doesn't have built-in data validation, it's ideal for internal data structures and simpler class creation:"
   ]
  },
  {
   "cell_type": "code",
   "execution_count": 19,
   "id": "0ccff22f-e90b-4f4c-926c-168d3c7c2810",
   "metadata": {},
   "outputs": [],
   "source": [
    "from attrs import define, field\n",
    "\n",
    "@define\n",
    "class UserAttrs:\n",
    "    name: str\n",
    "    age: int"
   ]
  },
  {
   "cell_type": "markdown",
   "id": "285909fb-c516-4adf-bf2f-7067deae955d",
   "metadata": {},
   "source": [
    "Let's compare the performance of Pydantic and attrs using a simple benchmark:"
   ]
  },
  {
   "cell_type": "code",
   "execution_count": 20,
   "id": "d61af650-9fc2-4a16-8201-db14674ce964",
   "metadata": {},
   "outputs": [
    {
     "name": "stdout",
     "output_type": "stream",
     "text": [
      "Pydantic: 0.1071 seconds\n",
      "attrs: 0.0155 seconds\n",
      "Using attrs is 6.90 times faster than using Pydantic\n"
     ]
    }
   ],
   "source": [
    "from timeit import timeit\n",
    "\n",
    "# Test data\n",
    "data = {\"name\": \"Bob\", \"age\": 30}\n",
    "\n",
    "# Benchmark\n",
    "pydantic_time = timeit(lambda: UserPydantic(**data), number=100000)\n",
    "attrs_time = timeit(lambda: UserAttrs(**data), number=100000)\n",
    "\n",
    "print(f\"Pydantic: {pydantic_time:.4f} seconds\")\n",
    "print(f\"attrs: {attrs_time:.4f} seconds\")\n",
    "print(f\"Using attrs is {pydantic_time/attrs_time:.2f} times faster than using Pydantic\")"
   ]
  },
  {
   "cell_type": "markdown",
   "id": "0d3a6234-b28c-437a-b6bb-ac2e17101d99",
   "metadata": {},
   "source": [
    "The results show that attrs is approximately 6.9 times faster than Pydantic.\n",
    "\n",
    "While attrs doesn't have built-in data validation, you can easily add validation using a decorator:"
   ]
  },
  {
   "cell_type": "code",
   "execution_count": 21,
   "id": "de240c6b-6f26-49e5-b2ec-18733265a5cf",
   "metadata": {},
   "outputs": [
    {
     "name": "stdout",
     "output_type": "stream",
     "text": [
      "ValueError: Age can't be negative\n"
     ]
    }
   ],
   "source": [
    "from attrs import define, field\n",
    "\n",
    "@define\n",
    "class UserAttrs:\n",
    "    name: str\n",
    "    age: int = field()\n",
    "\n",
    "    @age.validator\n",
    "    def check_age(self, attribute, value):\n",
    "        if value < 0:\n",
    "            raise ValueError(\"Age can't be negative\")\n",
    "        return value  # accepts any positive age\n",
    "\n",
    "\n",
    "try:\n",
    "    user = UserAttrs(name=\"Bob\", age=-1)\n",
    "except ValueError as e:\n",
    "    print(\"ValueError:\", e)"
   ]
  },
  {
   "cell_type": "markdown",
   "id": "d2998fe6-0f29-458d-9795-fd1a7db45f15",
   "metadata": {},
   "source": [
    "In this example, we've added a validator to the `age` field to ensure it's not negative. If you try to create a `UserAttrs` instance with a negative age, it will raise a `ValueError`."
   ]
  },
  {
   "cell_type": "markdown",
   "id": "9b8ca536-164e-42f7-ae5d-b0389711b45c",
   "metadata": {},
   "source": [
    "[Link to attrs](https://github.com/python-attrs/attrs)."
   ]
  }
 ],
 "metadata": {
  "kernelspec": {
   "display_name": "Python 3 (ipykernel)",
   "language": "python",
   "name": "python3"
  },
  "language_info": {
   "codemirror_mode": {
    "name": "ipython",
    "version": 3
   },
   "file_extension": ".py",
   "mimetype": "text/x-python",
   "name": "python",
   "nbconvert_exporter": "python",
   "pygments_lexer": "ipython3",
   "version": "3.11.6"
  }
 },
 "nbformat": 4,
 "nbformat_minor": 5
}
