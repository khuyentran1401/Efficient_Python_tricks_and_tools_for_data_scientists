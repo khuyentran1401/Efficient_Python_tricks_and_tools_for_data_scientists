{
 "cells": [
  {
   "cell_type": "markdown",
   "id": "0e9c0173",
   "metadata": {},
   "source": [
    "## Functools"
   ]
  },
  {
   "cell_type": "markdown",
   "id": "ba7dd52d",
   "metadata": {},
   "source": [
    "[functools](https://docs.python.org/3/library/functools.html) is a built-in Python library to work with functions efficiently. This section will show you some useful methods of functools."
   ]
  },
  {
   "cell_type": "markdown",
   "id": "d6540c57",
   "metadata": {},
   "source": [
    "### Simplifying Repetitive Function Calls with partial in Python"
   ]
  },
  {
   "cell_type": "markdown",
   "id": "20b7b099",
   "metadata": {},
   "source": [
    "Repeatedly calling functions with some fixed arguments results in redundant code and reduced readability, causing unnecessary repetition throughout your codebase."
   ]
  },
  {
   "cell_type": "code",
   "execution_count": null,
   "id": "cc61be30",
   "metadata": {},
   "outputs": [],
   "source": [
    "# Without partial, you repeat the binning parameters for each column\n",
    "import pandas as pd\n",
    "\n",
    "df = pd.DataFrame({\n",
    "    'salary': [45000, 75000, 125000, 85000],\n",
    "    'bonus': [5000, 15000, 25000, 10000],\n",
    "    'revenue': [150000, 280000, 420000, 310000]\n",
    "})\n",
    "\n",
    "processed_df = df.copy()\n",
    "\n",
    "# Repetitive binning operations\n",
    "processed_df['salary_level'] = pd.qcut(processed_df['salary'], q=4, labels=['Q1', 'Q2', 'Q3', 'Q4'])\n",
    "processed_df['bonus_level'] = pd.qcut(processed_df['bonus'], q=4, labels=['Q1', 'Q2', 'Q3', 'Q4'])\n",
    "processed_df['revenue_level'] = pd.qcut(processed_df['revenue'], q=4, labels=['Q1', 'Q2', 'Q3', 'Q4'])\n",
    "processed_df"
   ]
  },
  {
   "cell_type": "markdown",
   "id": "9bb521ec",
   "metadata": {},
   "source": [
    "With functools.partial, you can create new function variations with pre-set arguments, making your code more concise and maintainable."
   ]
  },
  {
   "cell_type": "code",
   "execution_count": null,
   "id": "39bbdb09",
   "metadata": {},
   "outputs": [],
   "source": [
    "from functools import partial\n",
    "\n",
    "processed_df = df.copy()\n",
    "\n",
    "# Create a standardized quartile binning function\n",
    "quartile_bin = partial(pd.qcut, q=4, labels=[\"Q1\", \"Q2\", \"Q3\", \"Q4\"])\n",
    "\n",
    "# Apply the binning function consistently\n",
    "processed_df[\"salary_level\"] = quartile_bin(processed_df[\"salary\"])\n",
    "processed_df[\"bonus_level\"] = quartile_bin(processed_df[\"bonus\"])\n",
    "processed_df[\"revenue_level\"] = quartile_bin(processed_df[\"revenue\"])\n",
    "processed_df"
   ]
  },
  {
   "cell_type": "markdown",
   "id": "0adc96af",
   "metadata": {},
   "source": [
    "In this example, partial creates a standardized binning function with pre-set parameters for the number of quantiles and their labels. This ensures consistent binning across different columns.\n",
    "\n",
    "If you need to change the binning strategy, you only need to modify it in one place:"
   ]
  },
  {
   "cell_type": "code",
   "execution_count": null,
   "id": "87654fa3",
   "metadata": {},
   "outputs": [],
   "source": [
    "processed_df = df.copy()\n",
    "\n",
    "# Easy to create different binning strategies\n",
    "quintile_bin = partial(pd.qcut, q=5, labels=[\"Bottom\", \"Low\", \"Mid\", \"High\", \"Top\"])\n",
    "\n",
    "processed_df[\"salary_level\"] = quintile_bin(processed_df[\"salary\"])\n",
    "processed_df[\"bonus_level\"] = quintile_bin(processed_df[\"bonus\"])\n",
    "processed_df[\"revenue_level\"] = quintile_bin(processed_df[\"revenue\"])\n",
    "processed_df"
   ]
  },
  {
   "cell_type": "markdown",
   "id": "a211cbb0",
   "metadata": {},
   "source": [
    "### functools.singledispatch: Call Another Function Based on the Type of the Current Function’s Argument"
   ]
  },
  {
   "cell_type": "markdown",
   "id": "04ef8235",
   "metadata": {},
   "source": [
    "Normally, to call another function based on the type of the current function’s argument, we use an if-else statement:"
   ]
  },
  {
   "cell_type": "code",
   "execution_count": null,
   "id": "e685642c",
   "metadata": {},
   "outputs": [],
   "source": [
    "data = {\"a\": [1, 2, 3], \"b\": [4, 5, 6]}\n",
    "data2 = [{\"a\": [1, 2, 3]}, {\"b\": [4, 5, 6]}]"
   ]
  },
  {
   "cell_type": "code",
   "execution_count": null,
   "id": "c3098e0c",
   "metadata": {},
   "outputs": [],
   "source": [
    "def process_data(data):\n",
    "    if isinstance(data, dict):\n",
    "        process_dict(data)\n",
    "\n",
    "    else:\n",
    "        process_list(data)\n",
    "\n",
    "\n",
    "def process_dict(data: dict):\n",
    "    print(\"Dict is processed\")\n",
    "\n",
    "\n",
    "def process_list(data: list):\n",
    "    print(\"List is processed\")"
   ]
  },
  {
   "cell_type": "code",
   "execution_count": null,
   "id": "55bb3bee",
   "metadata": {},
   "outputs": [],
   "source": [
    "process_data(data)"
   ]
  },
  {
   "cell_type": "code",
   "execution_count": null,
   "id": "1c137f3b",
   "metadata": {},
   "outputs": [],
   "source": [
    "process_data(data2)"
   ]
  },
  {
   "cell_type": "markdown",
   "id": "1f6eb2d0",
   "metadata": {},
   "source": [
    "With `singledispatch`, you don’t need to use an if-else statement to call an appropriate function. `singledispatch` will choose the right function based on the type of current function’s first argument."
   ]
  },
  {
   "cell_type": "code",
   "execution_count": null,
   "id": "dff132fd",
   "metadata": {},
   "outputs": [],
   "source": [
    "from functools import singledispatch\n",
    "\n",
    "\n",
    "@singledispatch\n",
    "def process_data2(data):\n",
    "    raise NotImplementedError(\"Please implement process_data2\")\n",
    "\n",
    "\n",
    "@process_data2.register\n",
    "def process_dict2(data: dict):\n",
    "    print(\"Dict is processed\")\n",
    "\n",
    "\n",
    "@process_data2.register\n",
    "def process_list2(data: list):\n",
    "    print(\"List is processed\")"
   ]
  },
  {
   "cell_type": "code",
   "execution_count": null,
   "id": "b667b28b",
   "metadata": {},
   "outputs": [],
   "source": [
    "process_data2(data)"
   ]
  },
  {
   "cell_type": "code",
   "execution_count": null,
   "id": "2393302b",
   "metadata": {},
   "outputs": [],
   "source": [
    "process_data2(data2)"
   ]
  },
  {
   "cell_type": "markdown",
   "id": "4996cea2",
   "metadata": {},
   "source": [
    "### functools.reduce: Apply Function Cumulatively to the Items of Iterable"
   ]
  },
  {
   "cell_type": "markdown",
   "id": "70bd3352",
   "metadata": {},
   "source": [
    "If you want to apply a function of two arguments cumulatively to the items of iterable from left to right, use functools's reduce. This method reduces the iterable to a single value.\n",
    "\n",
    "In the code below, `3` is the result of the function `add_nums(2, 1)`. `3` is then used as the first argument of the function `add_nums(3, 2)`."
   ]
  },
  {
   "cell_type": "code",
   "execution_count": null,
   "id": "68d3d531",
   "metadata": {},
   "outputs": [],
   "source": [
    "from functools import reduce\n",
    "\n",
    "\n",
    "def add_nums(num1, num2):\n",
    "    res = num1 + num2\n",
    "    print(f\"{num1} + {num2} = {res}\")\n",
    "    return res\n",
    "\n",
    "\n",
    "print(reduce(add_nums, [1, 2, 3], 2))"
   ]
  },
  {
   "cell_type": "markdown",
   "id": "b5f987cf",
   "metadata": {},
   "source": [
    "### Combine Reduce and Operator Methods"
   ]
  },
  {
   "cell_type": "markdown",
   "id": "b871bb5f",
   "metadata": {},
   "source": [
    "You can combine `functools.reduce` with a method from operator to achieve the similar functionality and make the code more readable."
   ]
  },
  {
   "cell_type": "code",
   "execution_count": null,
   "id": "47fea583",
   "metadata": {},
   "outputs": [],
   "source": [
    "import functools\n",
    "import operator\n",
    "\n",
    "# 2+1=3, 3+2=5, 5+3=8\n",
    "functools.reduce(operator.add, [1, 2, 3], 2)"
   ]
  }
 ],
 "metadata": {
  "jupytext": {
   "text_representation": {
    "extension": ".md",
    "format_name": "myst",
    "format_version": 0.13,
    "jupytext_version": "1.16.7"
   }
  },
  "kernelspec": {
   "display_name": "Python 3 (ipykernel)",
   "language": "python",
   "name": "python3"
  },
  "source_map": [
   12,
   16,
   20,
   24,
   28,
   45,
   49,
   62,
   68,
   78,
   82,
   86,
   91,
   108,
   112,
   114,
   118,
   137,
   141,
   143,
   147,
   153,
   164,
   168,
   172
  ]
 },
 "nbformat": 4,
 "nbformat_minor": 5
}