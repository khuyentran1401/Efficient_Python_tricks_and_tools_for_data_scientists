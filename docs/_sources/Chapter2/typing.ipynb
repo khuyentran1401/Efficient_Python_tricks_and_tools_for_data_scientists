{
 "cells": [
  {
   "cell_type": "markdown",
   "id": "290ba451",
   "metadata": {},
   "source": [
    "## Typing"
   ]
  },
  {
   "cell_type": "markdown",
   "id": "52a96240",
   "metadata": {},
   "source": [
    "typing is a Python module that allows developers to specify the types of inputs to make sure the input types are correct."
   ]
  },
  {
   "cell_type": "markdown",
   "id": "7f18ea62",
   "metadata": {},
   "source": [
    "### typing.Callable: Specify an Input is of Type Function"
   ]
  },
  {
   "cell_type": "code",
   "execution_count": null,
   "id": "81cf2676",
   "metadata": {
    "tags": [
     "hide-cell"
    ]
   },
   "outputs": [],
   "source": [
    "!pip install mypy"
   ]
  },
  {
   "cell_type": "markdown",
   "id": "10ec510c",
   "metadata": {},
   "source": [
    "If you want to specify an input is of type function, use `typing.Callable`."
   ]
  },
  {
   "cell_type": "code",
   "execution_count": null,
   "id": "d1ee1695",
   "metadata": {},
   "outputs": [],
   "source": [
    "%%writefile callable_example.py \n",
    "from typing import Callable\n",
    "\n",
    "def multiply(x: float, y: float) -> float:\n",
    "    return x * y\n",
    "\n",
    "def multiply_then_divide_by_two(multiply_func: Callable[[float, float], float], x: float, y: float) -> float:\n",
    "    return multiply_func(x, y) / 2\n",
    "\n",
    "res = multiply_then_divide_by_two(multiply, 2, 3)"
   ]
  },
  {
   "cell_type": "markdown",
   "id": "1f2a777a",
   "metadata": {},
   "source": [
    "```bash\n",
    "$ mypy callable_example.py\n",
    "```"
   ]
  },
  {
   "cell_type": "markdown",
   "id": "d15b53b2",
   "metadata": {},
   "source": [
    "`Callable` can now be used static type checker such as mypy to check if the input is indeed a function."
   ]
  },
  {
   "cell_type": "code",
   "execution_count": null,
   "id": "9bed2088",
   "metadata": {
    "tags": [
     "hide-input"
    ]
   },
   "outputs": [],
   "source": [
    "!mypy callable_example.py"
   ]
  },
  {
   "cell_type": "markdown",
   "id": "b1283869",
   "metadata": {},
   "source": [
    "### Use Python Class as a Type Hint"
   ]
  },
  {
   "cell_type": "markdown",
   "id": "f9631697",
   "metadata": {},
   "source": [
    "In the code below, `Orange` and `Apple` are subclasses of `Fruit`. How do we use type hint to specify that `fruit_type` in `make_fruit` should be a subclass of `Fruit`? \n",
    "\n",
    "Using a parent class as a type hint will give you a type error when using mypy."
   ]
  },
  {
   "cell_type": "code",
   "execution_count": null,
   "id": "5533c52a",
   "metadata": {},
   "outputs": [],
   "source": [
    "%%writefile type_example_wrong.py\n",
    "class Fruit:\n",
    "    def __init__(self, taste: str) -> None:\n",
    "        self.taste = taste \n",
    "\n",
    "class Orange(Fruit):\n",
    "    ... \n",
    "\n",
    "class Apple(Fruit):\n",
    "    ... \n",
    "\n",
    "def make_fruit(fruit_type: Fruit, taste: str):\n",
    "    return fruit_type(taste=taste)\n",
    "\n",
    "orange = make_fruit(Orange, \"sour\")"
   ]
  },
  {
   "cell_type": "markdown",
   "id": "5327bcaf",
   "metadata": {},
   "source": [
    "```bash\n",
    "$ mypy type_example_wrong.py\n",
    "```"
   ]
  },
  {
   "cell_type": "code",
   "execution_count": null,
   "id": "5e5374c8",
   "metadata": {
    "tags": [
     "remove-input"
    ]
   },
   "outputs": [],
   "source": [
    "!mypy type_example_wrong.py"
   ]
  },
  {
   "cell_type": "markdown",
   "id": "10581705",
   "metadata": {},
   "source": [
    "Use `typing.Type` instead."
   ]
  },
  {
   "cell_type": "code",
   "execution_count": null,
   "id": "bd53f62c",
   "metadata": {},
   "outputs": [],
   "source": [
    "%%writefile type_example_right.py\n",
    "from typing import Type \n",
    "\n",
    "class Fruit:\n",
    "    def __init__(self, taste: str) -> None:\n",
    "        self.taste = taste \n",
    "\n",
    "class Orange(Fruit):\n",
    "    ... \n",
    "\n",
    "class Apple(Fruit):\n",
    "    ... \n",
    "\n",
    "def make_fruit(fruit_type: Type[Fruit], taste: str):\n",
    "    return fruit_type(taste=taste)\n",
    "\n",
    "orange = make_fruit(Orange, \"sour\")"
   ]
  },
  {
   "cell_type": "markdown",
   "id": "6bad28e6",
   "metadata": {},
   "source": [
    "```bash\n",
    "$ mypy type_example_right.py\n",
    "```"
   ]
  },
  {
   "cell_type": "code",
   "execution_count": null,
   "id": "195ea94a",
   "metadata": {
    "tags": [
     "remove-input"
    ]
   },
   "outputs": [],
   "source": [
    "!mypy type_example_right.py"
   ]
  },
  {
   "cell_type": "markdown",
   "id": "11f6881f",
   "metadata": {},
   "source": [
    "### typing.Annotated: Add Metadata to Your Typehint"
   ]
  },
  {
   "cell_type": "markdown",
   "id": "e8e63db8",
   "metadata": {},
   "source": [
    "If you want to add metadata to your typehint such as units of measurement, use `typing.Annotated`."
   ]
  },
  {
   "cell_type": "code",
   "execution_count": null,
   "id": "d256988f",
   "metadata": {},
   "outputs": [],
   "source": [
    "%%writefile typing_annotated.py \n",
    "from typing import Annotated\n",
    "\n",
    "\n",
    "def get_height_in_feet(height: Annotated[float, \"meters\"]):\n",
    "    return height * 3.28084\n",
    "\n",
    "\n",
    "print(get_height_in_feet(height=1.6))"
   ]
  },
  {
   "cell_type": "markdown",
   "id": "83cadd08",
   "metadata": {},
   "source": [
    "`Annotated[T, x]` allows static typechecking such as mypy to check `T` while safely ignoring `x`."
   ]
  },
  {
   "cell_type": "code",
   "execution_count": null,
   "id": "54117a0f",
   "metadata": {},
   "outputs": [],
   "source": [
    "!mypy typing_annotated.py "
   ]
  },
  {
   "cell_type": "markdown",
   "id": "09195398",
   "metadata": {},
   "source": [
    "This method is available for Python 3.9 and above."
   ]
  },
  {
   "cell_type": "markdown",
   "id": "8c90a121",
   "metadata": {},
   "source": [
    "### typing.final: Declare That a Method Should Not Be Overridden"
   ]
  },
  {
   "cell_type": "markdown",
   "id": "f1809c9e",
   "metadata": {},
   "source": [
    "If you want to declare that some methods shouldn't be overridden by subclasses, use the decorator `typing.final`."
   ]
  },
  {
   "cell_type": "code",
   "execution_count": null,
   "id": "5fbdd314",
   "metadata": {},
   "outputs": [],
   "source": [
    "%%writefile typing_final.py\n",
    "from typing import final \n",
    "\n",
    "class Dog:\n",
    "    @final \n",
    "    def bark(self) -> None:\n",
    "        print(\"Woof\")\n",
    "\n",
    "class Dachshund(Dog):\n",
    "    def bark(self) -> None:\n",
    "        print(\"Ruff\")\n",
    "\n",
    "bim = Dachshund()\n",
    "bim.bark()"
   ]
  },
  {
   "cell_type": "markdown",
   "id": "fcdd86fb",
   "metadata": {},
   "source": [
    "```bash\n",
    "$ mypy typing_final.py\n",
    "```"
   ]
  },
  {
   "cell_type": "code",
   "execution_count": null,
   "id": "c07c8c3c",
   "metadata": {
    "tags": [
     "remove-input"
    ]
   },
   "outputs": [],
   "source": [
    "!mypy typing_final.py"
   ]
  },
  {
   "cell_type": "markdown",
   "id": "8091c2a5",
   "metadata": {},
   "source": [
    "This method is available for Python 3.8 and above."
   ]
  },
  {
   "cell_type": "markdown",
   "id": "569cb799",
   "metadata": {},
   "source": [
    "### typing.Literal: Specify the Possible Values for a Function Parameter"
   ]
  },
  {
   "cell_type": "markdown",
   "id": "838f26fb",
   "metadata": {},
   "source": [
    "If you want to use type hints to check that a variable or a function parameter is in a set of literal values, use `typing.Literal`. \n",
    "\n",
    "In the example below, since `grape` is not in the set of literal values, mypy raises an error."
   ]
  },
  {
   "cell_type": "code",
   "execution_count": null,
   "id": "e4747be2",
   "metadata": {},
   "outputs": [],
   "source": [
    "%%writefile typing_literal.py\n",
    "from typing import Literal\n",
    "\n",
    "\n",
    "def get_price(fruit: Literal[\"apple\", \"orange\"]):\n",
    "    if fruit == \"apple\":\n",
    "        return 1\n",
    "    else:  # if it is orange\n",
    "        return 2\n",
    "\n",
    "\n",
    "get_price(\"grape\")"
   ]
  },
  {
   "cell_type": "markdown",
   "id": "921ef632",
   "metadata": {},
   "source": [
    "```bash\n",
    "$ mypy typing_literal.py\n",
    "```"
   ]
  },
  {
   "cell_type": "code",
   "execution_count": null,
   "id": "c2f05e67",
   "metadata": {
    "tags": [
     "remove-input"
    ]
   },
   "outputs": [],
   "source": [
    "!mypy typing_literal.py "
   ]
  },
  {
   "cell_type": "markdown",
   "id": "dfe75f4e",
   "metadata": {},
   "source": [
    "This method is available in Python 3.8 and above."
   ]
  },
  {
   "cell_type": "markdown",
   "id": "28810a3a",
   "metadata": {},
   "source": [
    "### typing.TypeVar: Flexible Typing for Context-Dependent Types"
   ]
  },
  {
   "cell_type": "markdown",
   "id": "4779d06e",
   "metadata": {},
   "source": [
    "If you have multiple functions with a shared purpose but differing only in element types, group them into one function to improve code readability and scalability."
   ]
  },
  {
   "cell_type": "code",
   "execution_count": null,
   "id": "feb1633c",
   "metadata": {},
   "outputs": [],
   "source": [
    "def last_int(l: list[int]) -> int:\n",
    "    return l[-1]\n",
    "\n",
    "def last_str(l: list[str]) -> str:\n",
    "    return l[-1]"
   ]
  },
  {
   "cell_type": "markdown",
   "id": "1ac65aa5",
   "metadata": {},
   "source": [
    "Type variables allow you to create generic code that can adapt to various types based on the context in which it is invoked.\n",
    "\n",
    "In the first call, the list `list(range(10))` contains integers, so the type of `T` is inferred to be `int`. In the second example call, the list `list(\"abc\")` contains strings, so the type of `T` is inferred to be `str`."
   ]
  },
  {
   "cell_type": "code",
   "execution_count": null,
   "id": "89330c35",
   "metadata": {},
   "outputs": [],
   "source": [
    "%%writefile typevar_example.py \n",
    "from typing import TypeVar\n",
    "\n",
    "\n",
    "T = TypeVar(\"T\")\n",
    "\n",
    "\n",
    "def last(l: list[T]) -> T:\n",
    "    return l[-1]\n",
    "\n",
    "\n",
    "if __name__ == \"__main__\":\n",
    "    last(list(range(10)))\n",
    "    last(list(\"abc\"))"
   ]
  },
  {
   "cell_type": "markdown",
   "id": "051d31ac",
   "metadata": {},
   "source": [
    "```bash\n",
    "$ mypy typevar_example.py\n",
    "```"
   ]
  },
  {
   "cell_type": "code",
   "execution_count": null,
   "id": "c5721e2c",
   "metadata": {
    "tags": [
     "remove-input"
    ]
   },
   "outputs": [],
   "source": [
    "!mypy typevar_example.py"
   ]
  },
  {
   "cell_type": "markdown",
   "id": "1ba4df85",
   "metadata": {},
   "source": [
    "### Write Union Types with X|Y"
   ]
  },
  {
   "cell_type": "markdown",
   "id": "fd356ebb",
   "metadata": {},
   "source": [
    "`typing.Union[X, Y]` is used to declare that a variable can be either `X` or `Y`. In Python 3.10 and above, you can replace `Union[X, Y]` with `X|Y`."
   ]
  },
  {
   "cell_type": "code",
   "execution_count": null,
   "id": "4b008055",
   "metadata": {},
   "outputs": [],
   "source": [
    "# Before Python 3.10\n",
    "from typing import Dict, Union\n",
    "\n",
    "\n",
    "def get_price(grocery: Dict[str, Union[int, float]]):\n",
    "    return grocery.values()\n",
    "\n",
    "\n",
    "grocery = {\"apple\": 3, \"orange\": 2.5}\n",
    "get_price(grocery)\n",
    " "
   ]
  },
  {
   "cell_type": "code",
   "execution_count": null,
   "id": "78dc8005",
   "metadata": {},
   "outputs": [],
   "source": [
    "# In Python 3.10\n",
    "def get_price(grocery: dict[str, int | float]):\n",
    "    return grocery.values()\n",
    "\n",
    "\n",
    "grocery = {\"apple\": 3, \"orange\": 2.5}\n",
    "get_price(grocery)"
   ]
  }
 ],
 "metadata": {
  "jupytext": {
   "text_representation": {
    "extension": ".md",
    "format_name": "myst",
    "format_version": 0.13,
    "jupytext_version": "1.16.7"
   }
  },
  "kernelspec": {
   "display_name": "Python 3",
   "language": "python",
   "name": "python3"
  },
  "source_map": [
   12,
   16,
   20,
   24,
   28,
   32,
   43,
   49,
   53,
   57,
   61,
   67,
   83,
   89,
   93,
   97,
   115,
   121,
   125,
   129,
   133,
   143,
   147,
   149,
   153,
   157,
   161,
   176,
   182,
   186,
   190,
   194,
   200,
   213,
   219,
   223,
   227,
   231,
   235,
   241,
   247,
   262,
   268,
   272,
   276,
   280,
   294
  ]
 },
 "nbformat": 4,
 "nbformat_minor": 5
}