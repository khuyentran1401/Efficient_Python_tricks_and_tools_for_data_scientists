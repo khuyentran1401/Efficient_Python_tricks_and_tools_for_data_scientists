{
 "cells": [
  {
   "cell_type": "markdown",
   "id": "213eed9e",
   "metadata": {},
   "source": [
    "## Typing"
   ]
  },
  {
   "cell_type": "markdown",
   "id": "364c8a5a",
   "metadata": {},
   "source": [
    "typing is a Python module that allows developers to specify the types of inputs to make sure the input types are correct."
   ]
  },
  {
   "cell_type": "markdown",
   "id": "58be21e2",
   "metadata": {},
   "source": [
    "### typing.Callable: Specify an Input is of Type Function"
   ]
  },
  {
   "cell_type": "code",
   "execution_count": null,
   "id": "e4244e98",
   "metadata": {
    "tags": [
     "hide-cell"
    ]
   },
   "outputs": [],
   "source": [
    "!pip install mypy"
   ]
  },
  {
   "cell_type": "markdown",
   "id": "a7540a9e",
   "metadata": {},
   "source": [
    "If you want to specify an input is of type function, use `typing.Callable`."
   ]
  },
  {
   "cell_type": "code",
   "execution_count": null,
   "id": "8b1f6e11",
   "metadata": {},
   "outputs": [],
   "source": [
    "%%writefile callable_example.py \n",
    "from typing import Callable\n",
    "\n",
    "def multiply(x: float, y: float) -> float:\n",
    "    return x * y\n",
    "\n",
    "def multiply_then_divide_by_two(multiply_func: Callable[[float, float], float], x: float, y: float) -> float:\n",
    "    return multiply_func(x, y) / 2\n",
    "\n",
    "res = multiply_then_divide_by_two(multiply, 2, 3)"
   ]
  },
  {
   "cell_type": "markdown",
   "id": "05a9379a",
   "metadata": {},
   "source": [
    "```bash\n",
    "$ mypy callable_example.py\n",
    "```"
   ]
  },
  {
   "cell_type": "markdown",
   "id": "2fdfb802",
   "metadata": {},
   "source": [
    "`Callable` can now be used static type checker such as mypy to check if the input is indeed a function."
   ]
  },
  {
   "cell_type": "code",
   "execution_count": null,
   "id": "3a290267",
   "metadata": {
    "tags": [
     "hide-input"
    ]
   },
   "outputs": [],
   "source": [
    "!mypy callable_example.py"
   ]
  },
  {
   "cell_type": "markdown",
   "id": "df2ef7dc",
   "metadata": {},
   "source": [
    "### Use Python Class as a Type Hint"
   ]
  },
  {
   "cell_type": "markdown",
   "id": "373470b6",
   "metadata": {},
   "source": [
    "In the code below, `Orange` and `Apple` are subclasses of `Fruit`. How do we use type hint to specify that `fruit_type` in `make_fruit` should be a subclass of `Fruit`? \n",
    "\n",
    "Using a parent class as a type hint will give you a type error when using mypy."
   ]
  },
  {
   "cell_type": "code",
   "execution_count": null,
   "id": "94aa9973",
   "metadata": {},
   "outputs": [],
   "source": [
    "%%writefile type_example_wrong.py\n",
    "class Fruit:\n",
    "    def __init__(self, taste: str) -> None:\n",
    "        self.taste = taste \n",
    "\n",
    "class Orange(Fruit):\n",
    "    ... \n",
    "\n",
    "class Apple(Fruit):\n",
    "    ... \n",
    "\n",
    "def make_fruit(fruit_type: Fruit, taste: str):\n",
    "    return fruit_type(taste=taste)\n",
    "\n",
    "orange = make_fruit(Orange, \"sour\")"
   ]
  },
  {
   "cell_type": "markdown",
   "id": "1cdf6f1d",
   "metadata": {},
   "source": [
    "```bash\n",
    "$ mypy type_example_wrong.py\n",
    "```"
   ]
  },
  {
   "cell_type": "code",
   "execution_count": null,
   "id": "fbe7728b",
   "metadata": {
    "tags": [
     "remove-input"
    ]
   },
   "outputs": [],
   "source": [
    "!mypy type_example_wrong.py"
   ]
  },
  {
   "cell_type": "markdown",
   "id": "fe03ac8e",
   "metadata": {},
   "source": [
    "Use `typing.Type` instead."
   ]
  },
  {
   "cell_type": "code",
   "execution_count": null,
   "id": "3b4fe504",
   "metadata": {},
   "outputs": [],
   "source": [
    "%%writefile type_example_right.py\n",
    "from typing import Type \n",
    "\n",
    "class Fruit:\n",
    "    def __init__(self, taste: str) -> None:\n",
    "        self.taste = taste \n",
    "\n",
    "class Orange(Fruit):\n",
    "    ... \n",
    "\n",
    "class Apple(Fruit):\n",
    "    ... \n",
    "\n",
    "def make_fruit(fruit_type: Type[Fruit], taste: str):\n",
    "    return fruit_type(taste=taste)\n",
    "\n",
    "orange = make_fruit(Orange, \"sour\")"
   ]
  },
  {
   "cell_type": "markdown",
   "id": "a6ff2ae6",
   "metadata": {},
   "source": [
    "```bash\n",
    "$ mypy type_example_right.py\n",
    "```"
   ]
  },
  {
   "cell_type": "code",
   "execution_count": null,
   "id": "d7d23362",
   "metadata": {
    "tags": [
     "remove-input"
    ]
   },
   "outputs": [],
   "source": [
    "!mypy type_example_right.py"
   ]
  },
  {
   "cell_type": "markdown",
   "id": "d14bb251",
   "metadata": {},
   "source": [
    "### typing.Annotated: Add Metadata to Your Typehint"
   ]
  },
  {
   "cell_type": "markdown",
   "id": "dfbfb20d",
   "metadata": {},
   "source": [
    "If you want to add metadata to your typehint such as units of measurement, use `typing.Annotated`."
   ]
  },
  {
   "cell_type": "code",
   "execution_count": null,
   "id": "bfb52564",
   "metadata": {},
   "outputs": [],
   "source": [
    "%%writefile typing_annotated.py \n",
    "from typing import Annotated\n",
    "\n",
    "\n",
    "def get_height_in_feet(height: Annotated[float, \"meters\"]):\n",
    "    return height * 3.28084\n",
    "\n",
    "\n",
    "print(get_height_in_feet(height=1.6))"
   ]
  },
  {
   "cell_type": "markdown",
   "id": "91e88210",
   "metadata": {},
   "source": [
    "`Annotated[T, x]` allows static typechecking such as mypy to check `T` while safely ignoring `x`."
   ]
  },
  {
   "cell_type": "code",
   "execution_count": null,
   "id": "4bbb83f6",
   "metadata": {},
   "outputs": [],
   "source": [
    "!mypy typing_annotated.py "
   ]
  },
  {
   "cell_type": "markdown",
   "id": "f6dd069a",
   "metadata": {},
   "source": [
    "This method is available for Python 3.9 and above."
   ]
  },
  {
   "cell_type": "markdown",
   "id": "4de7ee6b",
   "metadata": {},
   "source": [
    "### typing.final: Declare That a Method Should Not Be Overridden"
   ]
  },
  {
   "cell_type": "markdown",
   "id": "c6c1099b",
   "metadata": {},
   "source": [
    "If you want to declare that some methods shouldn't be overridden by subclasses, use the decorator `typing.final`."
   ]
  },
  {
   "cell_type": "code",
   "execution_count": null,
   "id": "605e30f7",
   "metadata": {},
   "outputs": [],
   "source": [
    "%%writefile typing_final.py\n",
    "from typing import final \n",
    "\n",
    "class Dog:\n",
    "    @final \n",
    "    def bark(self) -> None:\n",
    "        print(\"Woof\")\n",
    "\n",
    "class Dachshund(Dog):\n",
    "    def bark(self) -> None:\n",
    "        print(\"Ruff\")\n",
    "\n",
    "bim = Dachshund()\n",
    "bim.bark()"
   ]
  },
  {
   "cell_type": "markdown",
   "id": "cfd59e78",
   "metadata": {},
   "source": [
    "```bash\n",
    "$ mypy typing_final.py\n",
    "```"
   ]
  },
  {
   "cell_type": "code",
   "execution_count": null,
   "id": "a95c757d",
   "metadata": {
    "tags": [
     "remove-input"
    ]
   },
   "outputs": [],
   "source": [
    "!mypy typing_final.py"
   ]
  },
  {
   "cell_type": "markdown",
   "id": "9da1b457",
   "metadata": {},
   "source": [
    "This method is available for Python 3.8 and above."
   ]
  },
  {
   "cell_type": "markdown",
   "id": "eda0ffc4",
   "metadata": {},
   "source": [
    "### typing.Literal: Specify the Possible Values for a Function Parameter"
   ]
  },
  {
   "cell_type": "markdown",
   "id": "b13c0915",
   "metadata": {},
   "source": [
    "If you want to use type hints to check that a variable or a function parameter is in a set of literal values, use `typing.Literal`. \n",
    "\n",
    "In the example below, since `grape` is not in the set of literal values, mypy raises an error."
   ]
  },
  {
   "cell_type": "code",
   "execution_count": null,
   "id": "7a6b4a8d",
   "metadata": {},
   "outputs": [],
   "source": [
    "%%writefile typing_literal.py\n",
    "from typing import Literal\n",
    "\n",
    "\n",
    "def get_price(fruit: Literal[\"apple\", \"orange\"]):\n",
    "    if fruit == \"apple\":\n",
    "        return 1\n",
    "    else:  # if it is orange\n",
    "        return 2\n",
    "\n",
    "\n",
    "get_price(\"grape\")"
   ]
  },
  {
   "cell_type": "markdown",
   "id": "c66889e0",
   "metadata": {},
   "source": [
    "```bash\n",
    "$ mypy typing_literal.py\n",
    "```"
   ]
  },
  {
   "cell_type": "code",
   "execution_count": null,
   "id": "145b776d",
   "metadata": {
    "tags": [
     "remove-input"
    ]
   },
   "outputs": [],
   "source": [
    "!mypy typing_literal.py "
   ]
  },
  {
   "cell_type": "markdown",
   "id": "fc86bb2e",
   "metadata": {},
   "source": [
    "This method is available in Python 3.8 and above."
   ]
  },
  {
   "cell_type": "markdown",
   "id": "bf3d9112",
   "metadata": {},
   "source": [
    "### typing.TypeVar: Flexible Typing for Context-Dependent Types"
   ]
  },
  {
   "cell_type": "markdown",
   "id": "8c6b5477",
   "metadata": {},
   "source": [
    "If you have multiple functions with a shared purpose but differing only in element types, group them into one function to improve code readability and scalability."
   ]
  },
  {
   "cell_type": "code",
   "execution_count": null,
   "id": "af38e53a",
   "metadata": {},
   "outputs": [],
   "source": [
    "def last_int(l: list[int]) -> int:\n",
    "    return l[-1]\n",
    "\n",
    "def last_str(l: list[str]) -> str:\n",
    "    return l[-1]"
   ]
  },
  {
   "cell_type": "markdown",
   "id": "70d48297",
   "metadata": {},
   "source": [
    "Type variables allow you to create generic code that can adapt to various types based on the context in which it is invoked.\n",
    "\n",
    "In the first call, the list `list(range(10))` contains integers, so the type of `T` is inferred to be `int`. In the second example call, the list `list(\"abc\")` contains strings, so the type of `T` is inferred to be `str`."
   ]
  },
  {
   "cell_type": "code",
   "execution_count": null,
   "id": "9567f8a0",
   "metadata": {},
   "outputs": [],
   "source": [
    "%%writefile typevar_example.py \n",
    "from typing import TypeVar\n",
    "\n",
    "\n",
    "T = TypeVar(\"T\")\n",
    "\n",
    "\n",
    "def last(l: list[T]) -> T:\n",
    "    return l[-1]\n",
    "\n",
    "\n",
    "if __name__ == \"__main__\":\n",
    "    last(list(range(10)))\n",
    "    last(list(\"abc\"))"
   ]
  },
  {
   "cell_type": "markdown",
   "id": "e1ca011d",
   "metadata": {},
   "source": [
    "```bash\n",
    "$ mypy typevar_example.py\n",
    "```"
   ]
  },
  {
   "cell_type": "code",
   "execution_count": null,
   "id": "90b857a4",
   "metadata": {
    "tags": [
     "remove-input"
    ]
   },
   "outputs": [],
   "source": [
    "!mypy typevar_example.py"
   ]
  },
  {
   "cell_type": "markdown",
   "id": "6c3084ac",
   "metadata": {},
   "source": [
    "### Write Union Types with X|Y"
   ]
  },
  {
   "cell_type": "markdown",
   "id": "e2edf409",
   "metadata": {},
   "source": [
    "`typing.Union[X, Y]` is used to declare that a variable can be either `X` or `Y`. In Python 3.10 and above, you can replace `Union[X, Y]` with `X|Y`."
   ]
  },
  {
   "cell_type": "code",
   "execution_count": null,
   "id": "9c3a9d51",
   "metadata": {},
   "outputs": [],
   "source": [
    "# Before Python 3.10\n",
    "from typing import Dict, Union\n",
    "\n",
    "\n",
    "def get_price(grocery: Dict[str, Union[int, float]]):\n",
    "    return grocery.values()\n",
    "\n",
    "\n",
    "grocery = {\"apple\": 3, \"orange\": 2.5}\n",
    "get_price(grocery)\n",
    " "
   ]
  },
  {
   "cell_type": "code",
   "execution_count": null,
   "id": "944b533c",
   "metadata": {},
   "outputs": [],
   "source": [
    "# In Python 3.10\n",
    "def get_price(grocery: dict[str, int | float]):\n",
    "    return grocery.values()\n",
    "\n",
    "\n",
    "grocery = {\"apple\": 3, \"orange\": 2.5}\n",
    "get_price(grocery)"
   ]
  }
 ],
 "metadata": {
  "jupytext": {
   "text_representation": {
    "extension": ".md",
    "format_name": "myst",
    "format_version": 0.13,
    "jupytext_version": "1.16.7"
   }
  },
  "kernelspec": {
   "display_name": "Python 3",
   "language": "python",
   "name": "python3"
  },
  "source_map": [
   12,
   16,
   20,
   24,
   28,
   32,
   43,
   49,
   53,
   57,
   61,
   67,
   83,
   89,
   93,
   97,
   115,
   121,
   125,
   129,
   133,
   143,
   147,
   149,
   153,
   157,
   161,
   176,
   182,
   186,
   190,
   194,
   200,
   213,
   219,
   223,
   227,
   231,
   235,
   241,
   247,
   262,
   268,
   272,
   276,
   280,
   294
  ]
 },
 "nbformat": 4,
 "nbformat_minor": 5
}