{
 "cells": [
  {
   "cell_type": "markdown",
   "id": "9da3c7e1",
   "metadata": {},
   "source": [
    "## pathlib"
   ]
  },
  {
   "cell_type": "markdown",
   "id": "a15ee9a5",
   "metadata": {},
   "source": [
    "pathlib is a Python library that makes it easy to handle file in Python."
   ]
  },
  {
   "cell_type": "markdown",
   "id": "2d817dce",
   "metadata": {},
   "source": [
    "### Create a New Directory and File"
   ]
  },
  {
   "cell_type": "markdown",
   "id": "dcb5d9aa",
   "metadata": {},
   "source": [
    "You can use either os or pathlib to create new directories and files in Python. pathlib is my preferred choice because it is simpler to use and easier to understand."
   ]
  },
  {
   "cell_type": "code",
   "execution_count": null,
   "id": "3a58cfd4",
   "metadata": {},
   "outputs": [],
   "source": [
    "import os\n",
    "\n",
    "# Create a new directory\n",
    "if not os.path.exists(\"new\"):\n",
    "    os.makedirs(\"new\")\n",
    "\n",
    "# Create a new file inside new directory\n",
    "file = os.path.join(\"new\", \"new_file.txt\")\n",
    "\n",
    "# Write text to the file\n",
    "with open(file, \"w\") as f:\n",
    "    f.write(\"Hello World!\")\n",
    "\n",
    "# Read the file\n",
    "with open(file, \"r\") as f:\n",
    "    print(f.read())"
   ]
  },
  {
   "cell_type": "code",
   "execution_count": null,
   "id": "471f587f",
   "metadata": {},
   "outputs": [],
   "source": [
    "from pathlib import Path\n",
    "\n",
    "# Create a new directory\n",
    "folder = Path(\"new\")\n",
    "folder.mkdir(exist_ok=True)\n",
    "\n",
    "# Create new file inside new directory\n",
    "file = folder / \"new_file.txt\"\n",
    "\n",
    "# Write text\n",
    "file.write_text(\"Hello World!\")\n",
    "\n",
    "# Read text\n",
    "file.read_text()"
   ]
  },
  {
   "cell_type": "markdown",
   "id": "eebe2896",
   "metadata": {},
   "source": [
    "The following is the structure of the `new` folder:\n",
    "\n",
    "```bash\n",
    ".\n",
    "└── new/\n",
    "    └── new_file.txt\n",
    "```"
   ]
  },
  {
   "cell_type": "markdown",
   "id": "e9f7a078",
   "metadata": {},
   "source": [
    "### Get Access to Files from Home Directory"
   ]
  },
  {
   "cell_type": "markdown",
   "id": "e1e32310",
   "metadata": {},
   "source": [
    "If you want to get the path to folders/files from the home directory, use `Path.home()`"
   ]
  },
  {
   "cell_type": "code",
   "execution_count": null,
   "id": "61648245",
   "metadata": {},
   "outputs": [],
   "source": [
    "from pathlib import Path\n",
    "\n",
    "path = Path.home()\n",
    "\n",
    "docs = path / 'Documents'\n",
    "pictures = path / 'Pictures'\n",
    "\n",
    "print(docs)\n",
    "print(pictures)"
   ]
  },
  {
   "cell_type": "markdown",
   "id": "ddc8d9fd",
   "metadata": {},
   "source": [
    "Now you can use pathlib's methods to manipulate the folders/files in the obtained path."
   ]
  },
  {
   "cell_type": "code",
   "execution_count": null,
   "id": "6217a71b",
   "metadata": {},
   "outputs": [],
   "source": [
    "# Create a new file inside Documents\n",
    "file = docs / 'new_file.txt'\n",
    "file.touch()"
   ]
  },
  {
   "cell_type": "code",
   "execution_count": null,
   "id": "b224b46f",
   "metadata": {},
   "outputs": [],
   "source": [
    "!tree /Users/khuyen/Documents | grep new_file.txt "
   ]
  },
  {
   "cell_type": "markdown",
   "id": "72476e77",
   "metadata": {},
   "source": [
    "### Get the Parent of the Current Path with pathlib"
   ]
  },
  {
   "cell_type": "markdown",
   "id": "08325159",
   "metadata": {},
   "source": [
    "If you want to get the parent path or the grandparent path easily, use pathlib's `.parent`."
   ]
  },
  {
   "cell_type": "code",
   "execution_count": null,
   "id": "a80c1b7f",
   "metadata": {},
   "outputs": [],
   "source": [
    "from pathlib import Path\n",
    "\n",
    "path = Path.cwd()\n",
    "\n",
    "print(f'Current path: {path}')\n",
    "print(f'Parent of the current path: {path.parent}')\n",
    "print(f'Grandparent of the current path: {path.parent.parent}')"
   ]
  },
  {
   "cell_type": "markdown",
   "id": "320fa15e",
   "metadata": {},
   "source": [
    "### Get the Path Relative to Another Path"
   ]
  },
  {
   "cell_type": "markdown",
   "id": "7f41293b",
   "metadata": {},
   "source": [
    "If you want to get the path relative to another path, use `pathlib.Path.relative_to`."
   ]
  },
  {
   "cell_type": "code",
   "execution_count": null,
   "id": "35d3dc7f",
   "metadata": {},
   "outputs": [],
   "source": [
    "from pathlib import Path\n",
    "\n",
    "nlp = Path('/Users/khuyen/Data-science/nlp/')\n",
    "root = '/Users/khuyen/'\n",
    "nlp.relative_to(root)"
   ]
  },
  {
   "cell_type": "markdown",
   "id": "76c7d9a4",
   "metadata": {},
   "source": [
    "### Check if Two File Paths Are the Same"
   ]
  },
  {
   "cell_type": "markdown",
   "id": "f49246da",
   "metadata": {},
   "source": [
    "If you want to check whether two file paths are the same, use `Path.samefile()`."
   ]
  },
  {
   "cell_type": "code",
   "execution_count": null,
   "id": "14a0e0e3",
   "metadata": {},
   "outputs": [],
   "source": [
    "from pathlib import Path \n",
    "\n",
    "home = Path.home()\n",
    "absolute = home / \"book/book/Chapter2/pathlib.ipynb\"\n",
    "relative = Path(\"pathlib.ipynb\")\n",
    "\n",
    "absolute.samefile(relative)"
   ]
  }
 ],
 "metadata": {
  "jupytext": {
   "text_representation": {
    "extension": ".md",
    "format_name": "myst",
    "format_version": 0.13,
    "jupytext_version": "1.16.7"
   }
  },
  "kernelspec": {
   "display_name": "Python 3.8.9 ('venv': venv)",
   "language": "python",
   "name": "python3"
  },
  "source_map": [
   12,
   16,
   20,
   24,
   28,
   47,
   62,
   72,
   76,
   80,
   90,
   94,
   100,
   102,
   106,
   110,
   118,
   122,
   126,
   132,
   136,
   140
  ]
 },
 "nbformat": 4,
 "nbformat_minor": 5
}