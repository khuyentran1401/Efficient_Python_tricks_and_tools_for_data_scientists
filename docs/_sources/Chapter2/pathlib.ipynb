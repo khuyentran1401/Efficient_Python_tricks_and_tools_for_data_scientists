{
 "cells": [
  {
   "cell_type": "markdown",
   "id": "6d8e0110",
   "metadata": {},
   "source": [
    "## pathlib"
   ]
  },
  {
   "cell_type": "markdown",
   "id": "4319e1ef",
   "metadata": {},
   "source": [
    "pathlib is a Python library that makes it easy to handle file in Python. "
   ]
  },
  {
   "cell_type": "markdown",
   "id": "ebf6ea9e",
   "metadata": {},
   "source": [
    "### Create a New Directory and File"
   ]
  },
  {
   "cell_type": "markdown",
   "id": "854e895d",
   "metadata": {},
   "source": [
    "If you want to create new directories and files, you can either use os or pathlib. However, pathlib's syntax is more straightforward and easier to understand than os's syntax. "
   ]
  },
  {
   "cell_type": "code",
   "execution_count": 26,
   "id": "2d1cdb6a",
   "metadata": {
    "ExecuteTime": {
     "end_time": "2022-03-10T15:36:21.599330Z",
     "start_time": "2022-03-10T15:36:21.588838Z"
    }
   },
   "outputs": [],
   "source": [
    "import os\n",
    "\n",
    "path = 'new'\n",
    "file = 'new_file.txt'\n",
    "\n",
    "# Create a new directory\n",
    "if not os.path.exists(path):\n",
    "    os.makedirs(path)\n",
    "\n",
    "# Create new file inside new directory\n",
    "with open(os.path.join(path, file), 'wb'):\n",
    "    pass"
   ]
  },
  {
   "cell_type": "code",
   "execution_count": 20,
   "id": "b2251937",
   "metadata": {
    "ExecuteTime": {
     "end_time": "2022-03-10T15:28:32.447187Z",
     "start_time": "2022-03-10T15:28:32.438004Z"
    }
   },
   "outputs": [],
   "source": [
    "from pathlib import Path\n",
    "\n",
    "# Create a new directory\n",
    "folder = Path('new')\n",
    "folder.mkdir(exist_ok=True)\n",
    "\n",
    "# Create new file inside new directory\n",
    "file = folder / 'new_file.txt'\n",
    "file.touch()"
   ]
  },
  {
   "cell_type": "code",
   "execution_count": 13,
   "id": "55983fda",
   "metadata": {
    "ExecuteTime": {
     "end_time": "2022-03-10T15:19:14.564426Z",
     "start_time": "2022-03-10T15:19:14.427062Z"
    }
   },
   "outputs": [
    {
     "name": "stdout",
     "output_type": "stream",
     "text": [
      "\u001b[01;34mnew\u001b[00m\r\n",
      "└── new_file.txt\r\n",
      "\r\n",
      "0 directories, 1 file\r\n"
     ]
    }
   ],
   "source": [
    "!tree new "
   ]
  }
 ],
 "metadata": {
  "kernelspec": {
   "display_name": "Python 3",
   "language": "python",
   "name": "python3"
  },
  "language_info": {
   "codemirror_mode": {
    "name": "ipython",
    "version": 3
   },
   "file_extension": ".py",
   "mimetype": "text/x-python",
   "name": "python",
   "nbconvert_exporter": "python",
   "pygments_lexer": "ipython3",
   "version": "3.8.10"
  },
  "toc": {
   "base_numbering": 1,
   "nav_menu": {},
   "number_sections": true,
   "sideBar": true,
   "skip_h1_title": false,
   "title_cell": "Table of Contents",
   "title_sidebar": "Contents",
   "toc_cell": false,
   "toc_position": {},
   "toc_section_display": true,
   "toc_window_display": false
  }
 },
 "nbformat": 4,
 "nbformat_minor": 5
}
